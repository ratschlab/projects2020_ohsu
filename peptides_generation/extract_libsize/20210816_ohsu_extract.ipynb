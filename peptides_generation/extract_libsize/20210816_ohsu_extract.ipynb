{
 "cells": [
  {
   "cell_type": "code",
   "execution_count": 4,
   "metadata": {
    "ExecuteTime": {
     "end_time": "2021-08-16T16:09:37.352624Z",
     "start_time": "2021-08-16T16:09:36.846418Z"
    }
   },
   "outputs": [],
   "source": [
    "import os \n",
    "import pandas as pd\n",
    "import numpy as np \n",
    "import pyarrow as py "
   ]
  },
  {
   "cell_type": "code",
   "execution_count": 19,
   "metadata": {
    "ExecuteTime": {
     "end_time": "2021-08-16T16:15:44.852049Z",
     "start_time": "2021-08-16T16:15:44.845064Z"
    }
   },
   "outputs": [],
   "source": [
    "def libsize_compute(sample_expr_distr, output_fp):\n",
    "    libsize_count = pd.DataFrame({'sample': sample_expr_distr.columns[1:],\n",
    "                                     'libsize_75percent': np.percentile(sample_expr_distr.iloc[:, 1:], 75, axis=0, interpolation = 'linear'),\n",
    "                                    }, index = None)\n",
    "    df_libsize = pd.DataFrame(libsize_count)\n",
    "    df_libsize.to_csv(output_fp, sep='\\t', index=False)\n",
    "    print('libsize success')"
   ]
  },
  {
   "cell_type": "code",
   "execution_count": 1,
   "metadata": {
    "ExecuteTime": {
     "end_time": "2021-08-16T16:08:58.966762Z",
     "start_time": "2021-08-16T16:08:58.950126Z"
    }
   },
   "outputs": [],
   "source": [
    "path_OV = '/cluster/work/grlab/projects/projects2020_OHSU/peptides_generation/v2_libsizes_conf2_annotFrame_cap1000_runs_pya0.17.1/TCGA_Ovarian_374/cohort_mutNone/gene_expression_detail.tsv'\n",
    "out_OV = '/cluster/work/grlab/projects/projects2020_OHSU/peptides_generation/v2_libsizes_conf2_annotFrame_cap1000_runs_pya0.17.1/TCGA_Ovarian_374/cohort_mutNone/TCGA_Ovarian_374_coding_libsize75.tsv'\n",
    "\n",
    "path_BRCA = '/cluster/work/grlab/projects/projects2020_OHSU/peptides_generation/v2_libsizes_conf2_annotFrame_cap1000_runs_pya0.17.1/TCGA_Breast_1102/cohort_mutNone/gene_expression_detail.tsv'\n",
    "out_BRCA = '/cluster/work/grlab/projects/projects2020_OHSU/peptides_generation/v2_libsizes_conf2_annotFrame_cap1000_runs_pya0.17.1/TCGA_Breast_1102/cohort_mutNone/TCGA_Breast_1102_coding_libsize75.tsv'\n",
    "\n",
    "path_Normals = '/cluster/work/grlab/projects/projects2020_OHSU/peptides_generation/v2_libsizes_conf2_annotFrame_cap1000_runs_pya0.17.1/TCGA_All_Normals/cohort_mutNone/gene_expression_detail.tsv'\n",
    "out_Normals = '/cluster/work/grlab/projects/projects2020_OHSU/peptides_generation/v2_libsizes_conf2_annotFrame_cap1000_runs_pya0.17.1/TCGA_All_Normals/cohort_mutNone/TCGA_All_Normals_coding_libsize75.tsv'\n",
    "\n",
    "path_GTEX = '/cluster/work/grlab/projects/TCGA/PanCanAtlas/immunopepper_paper/peptides_ccell_rerun_gtex_151220/GTEX2019_commit_librarysize_pya.0.17.1_conf2_annot_ref_chrall_cap1000/cohort_mutNone/GTEX_hg38_genes_expr_v3.tsv'\n",
    "out_GTEX = '/cluster/work/grlab/projects/TCGA/PanCanAtlas/immunopepper_paper/peptides_ccell_rerun_gtex_151220/GTEX2019_commit_librarysize_pya.0.17.1_conf2_annot_ref_chrall_cap1000/cohort_mutNone/GTEX_hg38_coding_libsize75.tsv'"
   ]
  },
  {
   "cell_type": "code",
   "execution_count": 13,
   "metadata": {
    "ExecuteTime": {
     "end_time": "2021-08-16T16:12:55.868308Z",
     "start_time": "2021-08-16T16:11:37.073000Z"
    }
   },
   "outputs": [],
   "source": [
    "df_GTEX = pd.read_csv(path_GTEX)"
   ]
  },
  {
   "cell_type": "code",
   "execution_count": 23,
   "metadata": {
    "ExecuteTime": {
     "end_time": "2021-08-16T16:16:17.189416Z",
     "start_time": "2021-08-16T16:16:05.461708Z"
    }
   },
   "outputs": [
    {
     "name": "stdout",
     "output_type": "stream",
     "text": [
      "libsize success\n"
     ]
    }
   ],
   "source": [
    "libsize_compute(df_GTEX, out_GTEX)"
   ]
  },
  {
   "cell_type": "code",
   "execution_count": 7,
   "metadata": {
    "ExecuteTime": {
     "end_time": "2021-08-16T16:09:53.019223Z",
     "start_time": "2021-08-16T16:09:51.294040Z"
    }
   },
   "outputs": [],
   "source": [
    "df_OV = pd.read_csv(path_OV)\n"
   ]
  },
  {
   "cell_type": "code",
   "execution_count": 8,
   "metadata": {
    "ExecuteTime": {
     "end_time": "2021-08-16T16:09:58.716482Z",
     "start_time": "2021-08-16T16:09:58.695124Z"
    }
   },
   "outputs": [
    {
     "data": {
      "text/plain": [
       "(19697, 375)"
      ]
     },
     "execution_count": 8,
     "metadata": {},
     "output_type": "execute_result"
    }
   ],
   "source": [
    "df_OV.shape"
   ]
  },
  {
   "cell_type": "code",
   "execution_count": 22,
   "metadata": {
    "ExecuteTime": {
     "end_time": "2021-08-16T16:16:00.532512Z",
     "start_time": "2021-08-16T16:16:00.269803Z"
    }
   },
   "outputs": [
    {
     "name": "stdout",
     "output_type": "stream",
     "text": [
      "libsize success\n"
     ]
    }
   ],
   "source": [
    "libsize_compute(df_OV, out_OV)"
   ]
  },
  {
   "cell_type": "code",
   "execution_count": 9,
   "metadata": {
    "ExecuteTime": {
     "end_time": "2021-08-16T16:11:10.169040Z",
     "start_time": "2021-08-16T16:11:07.344598Z"
    }
   },
   "outputs": [],
   "source": [
    "df_Normals = pd.read_csv(path_Normals)\n"
   ]
  },
  {
   "cell_type": "code",
   "execution_count": 11,
   "metadata": {
    "ExecuteTime": {
     "end_time": "2021-08-16T16:11:17.713351Z",
     "start_time": "2021-08-16T16:11:17.704348Z"
    }
   },
   "outputs": [
    {
     "data": {
      "text/plain": [
       "(19697, 731)"
      ]
     },
     "execution_count": 11,
     "metadata": {},
     "output_type": "execute_result"
    }
   ],
   "source": [
    "df_Normals.shape"
   ]
  },
  {
   "cell_type": "code",
   "execution_count": 21,
   "metadata": {
    "ExecuteTime": {
     "end_time": "2021-08-16T16:15:57.925370Z",
     "start_time": "2021-08-16T16:15:57.350217Z"
    }
   },
   "outputs": [
    {
     "name": "stdout",
     "output_type": "stream",
     "text": [
      "libsize success\n"
     ]
    }
   ],
   "source": [
    "libsize_compute(df_Normals, out_Normals)"
   ]
  },
  {
   "cell_type": "code",
   "execution_count": 10,
   "metadata": {
    "ExecuteTime": {
     "end_time": "2021-08-16T16:11:14.274969Z",
     "start_time": "2021-08-16T16:11:10.171947Z"
    }
   },
   "outputs": [],
   "source": [
    "df_BRCA = pd.read_csv(path_BRCA)\n"
   ]
  },
  {
   "cell_type": "code",
   "execution_count": 12,
   "metadata": {
    "ExecuteTime": {
     "end_time": "2021-08-16T16:11:25.464900Z",
     "start_time": "2021-08-16T16:11:25.456908Z"
    }
   },
   "outputs": [
    {
     "data": {
      "text/plain": [
       "(19697, 1103)"
      ]
     },
     "execution_count": 12,
     "metadata": {},
     "output_type": "execute_result"
    }
   ],
   "source": [
    "df_BRCA.shape"
   ]
  },
  {
   "cell_type": "code",
   "execution_count": 14,
   "metadata": {
    "ExecuteTime": {
     "end_time": "2021-08-16T16:13:52.046213Z",
     "start_time": "2021-08-16T16:13:51.995031Z"
    },
    "collapsed": true
   },
   "outputs": [
    {
     "data": {
      "text/html": [
       "<div>\n",
       "<style scoped>\n",
       "    .dataframe tbody tr th:only-of-type {\n",
       "        vertical-align: middle;\n",
       "    }\n",
       "\n",
       "    .dataframe tbody tr th {\n",
       "        vertical-align: top;\n",
       "    }\n",
       "\n",
       "    .dataframe thead th {\n",
       "        text-align: right;\n",
       "    }\n",
       "</style>\n",
       "<table border=\"1\" class=\"dataframe\">\n",
       "  <thead>\n",
       "    <tr style=\"text-align: right;\">\n",
       "      <th></th>\n",
       "      <th>gene</th>\n",
       "      <th>TCGA3CAAAU01A11RA41B07all</th>\n",
       "      <th>TCGA3CAALI01A11RA41B07all</th>\n",
       "      <th>TCGA3CAALJ01A31RA41B07all</th>\n",
       "      <th>TCGA3CAALK01A11RA41B07all</th>\n",
       "      <th>TCGA4HAAAK01A12RA41B07all</th>\n",
       "      <th>TCGA5LAAT001A12RA41B07all</th>\n",
       "      <th>TCGA5LAAT101A12RA41B07all</th>\n",
       "      <th>TCGA5TA9QA01A11RA41B07all</th>\n",
       "      <th>TCGAA1A0SB01A11RA14407all</th>\n",
       "      <th>...</th>\n",
       "      <th>TCGAULAAZ601A11RA41B07all</th>\n",
       "      <th>TCGAUUA93S01A21RA41B07all</th>\n",
       "      <th>TCGAV7A7HQ01A11RA33J07all</th>\n",
       "      <th>TCGAW8A86G01A21RA36F07all</th>\n",
       "      <th>TCGAWTAB4101A11RA41B07all</th>\n",
       "      <th>TCGAWTAB4401A11RA41B07all</th>\n",
       "      <th>TCGAXXA89901A11RA36F07all</th>\n",
       "      <th>TCGAXXA89A01A11RA36F07all</th>\n",
       "      <th>TCGAZ7A8R501A42RA41B07all</th>\n",
       "      <th>TCGAZ7A8R601A11RA41B07all</th>\n",
       "    </tr>\n",
       "  </thead>\n",
       "  <tbody>\n",
       "    <tr>\n",
       "      <th>0</th>\n",
       "      <td>ENSG00000165323.15</td>\n",
       "      <td>1007.0</td>\n",
       "      <td>1168.0</td>\n",
       "      <td>767.0</td>\n",
       "      <td>6761.0</td>\n",
       "      <td>14564.0</td>\n",
       "      <td>9473.0</td>\n",
       "      <td>7345.0</td>\n",
       "      <td>94.0</td>\n",
       "      <td>4426.0</td>\n",
       "      <td>...</td>\n",
       "      <td>2207.0</td>\n",
       "      <td>1066.0</td>\n",
       "      <td>2002.0</td>\n",
       "      <td>8176.0</td>\n",
       "      <td>2203.0</td>\n",
       "      <td>4996.0</td>\n",
       "      <td>17029.0</td>\n",
       "      <td>11272.0</td>\n",
       "      <td>3662.0</td>\n",
       "      <td>1906.0</td>\n",
       "    </tr>\n",
       "    <tr>\n",
       "      <th>1</th>\n",
       "      <td>ENSG00000115084.14</td>\n",
       "      <td>506946.0</td>\n",
       "      <td>354457.0</td>\n",
       "      <td>119554.0</td>\n",
       "      <td>612755.0</td>\n",
       "      <td>268376.0</td>\n",
       "      <td>345568.0</td>\n",
       "      <td>160502.0</td>\n",
       "      <td>309746.0</td>\n",
       "      <td>542718.0</td>\n",
       "      <td>...</td>\n",
       "      <td>270221.0</td>\n",
       "      <td>145242.0</td>\n",
       "      <td>112263.0</td>\n",
       "      <td>474505.0</td>\n",
       "      <td>129543.0</td>\n",
       "      <td>257288.0</td>\n",
       "      <td>403161.0</td>\n",
       "      <td>462213.0</td>\n",
       "      <td>153781.0</td>\n",
       "      <td>346022.0</td>\n",
       "    </tr>\n",
       "    <tr>\n",
       "      <th>2</th>\n",
       "      <td>ENSG00000115091.12</td>\n",
       "      <td>626384.0</td>\n",
       "      <td>1070509.0</td>\n",
       "      <td>388663.0</td>\n",
       "      <td>948042.0</td>\n",
       "      <td>677439.0</td>\n",
       "      <td>589041.0</td>\n",
       "      <td>519189.0</td>\n",
       "      <td>626815.0</td>\n",
       "      <td>826814.0</td>\n",
       "      <td>...</td>\n",
       "      <td>663998.0</td>\n",
       "      <td>466968.0</td>\n",
       "      <td>246616.0</td>\n",
       "      <td>641664.0</td>\n",
       "      <td>290005.0</td>\n",
       "      <td>525525.0</td>\n",
       "      <td>1136242.0</td>\n",
       "      <td>859587.0</td>\n",
       "      <td>546712.0</td>\n",
       "      <td>1140830.0</td>\n",
       "    </tr>\n",
       "    <tr>\n",
       "      <th>3</th>\n",
       "      <td>ENSG00000196296.13</td>\n",
       "      <td>11448.0</td>\n",
       "      <td>34258.0</td>\n",
       "      <td>9926.0</td>\n",
       "      <td>10528.0</td>\n",
       "      <td>8283.0</td>\n",
       "      <td>6609.0</td>\n",
       "      <td>4441.0</td>\n",
       "      <td>9789.0</td>\n",
       "      <td>8412.0</td>\n",
       "      <td>...</td>\n",
       "      <td>38420.0</td>\n",
       "      <td>11932.0</td>\n",
       "      <td>47704.0</td>\n",
       "      <td>23095.0</td>\n",
       "      <td>13357.0</td>\n",
       "      <td>18745.0</td>\n",
       "      <td>9774.0</td>\n",
       "      <td>7670.0</td>\n",
       "      <td>11690.0</td>\n",
       "      <td>21064.0</td>\n",
       "    </tr>\n",
       "    <tr>\n",
       "      <th>4</th>\n",
       "      <td>ENSG00000177548.13</td>\n",
       "      <td>265586.0</td>\n",
       "      <td>248057.0</td>\n",
       "      <td>126923.0</td>\n",
       "      <td>275065.0</td>\n",
       "      <td>203350.0</td>\n",
       "      <td>138718.0</td>\n",
       "      <td>130729.0</td>\n",
       "      <td>199795.0</td>\n",
       "      <td>80709.0</td>\n",
       "      <td>...</td>\n",
       "      <td>221007.0</td>\n",
       "      <td>102760.0</td>\n",
       "      <td>609292.0</td>\n",
       "      <td>367454.0</td>\n",
       "      <td>158651.0</td>\n",
       "      <td>166514.0</td>\n",
       "      <td>196586.0</td>\n",
       "      <td>267305.0</td>\n",
       "      <td>244921.0</td>\n",
       "      <td>291011.0</td>\n",
       "    </tr>\n",
       "  </tbody>\n",
       "</table>\n",
       "<p>5 rows × 1103 columns</p>\n",
       "</div>"
      ],
      "text/plain": [
       "                 gene  TCGA3CAAAU01A11RA41B07all  TCGA3CAALI01A11RA41B07all  \\\n",
       "0  ENSG00000165323.15                     1007.0                     1168.0   \n",
       "1  ENSG00000115084.14                   506946.0                   354457.0   \n",
       "2  ENSG00000115091.12                   626384.0                  1070509.0   \n",
       "3  ENSG00000196296.13                    11448.0                    34258.0   \n",
       "4  ENSG00000177548.13                   265586.0                   248057.0   \n",
       "\n",
       "   TCGA3CAALJ01A31RA41B07all  TCGA3CAALK01A11RA41B07all  \\\n",
       "0                      767.0                     6761.0   \n",
       "1                   119554.0                   612755.0   \n",
       "2                   388663.0                   948042.0   \n",
       "3                     9926.0                    10528.0   \n",
       "4                   126923.0                   275065.0   \n",
       "\n",
       "   TCGA4HAAAK01A12RA41B07all  TCGA5LAAT001A12RA41B07all  \\\n",
       "0                    14564.0                     9473.0   \n",
       "1                   268376.0                   345568.0   \n",
       "2                   677439.0                   589041.0   \n",
       "3                     8283.0                     6609.0   \n",
       "4                   203350.0                   138718.0   \n",
       "\n",
       "   TCGA5LAAT101A12RA41B07all  TCGA5TA9QA01A11RA41B07all  \\\n",
       "0                     7345.0                       94.0   \n",
       "1                   160502.0                   309746.0   \n",
       "2                   519189.0                   626815.0   \n",
       "3                     4441.0                     9789.0   \n",
       "4                   130729.0                   199795.0   \n",
       "\n",
       "   TCGAA1A0SB01A11RA14407all  ...  TCGAULAAZ601A11RA41B07all  \\\n",
       "0                     4426.0  ...                     2207.0   \n",
       "1                   542718.0  ...                   270221.0   \n",
       "2                   826814.0  ...                   663998.0   \n",
       "3                     8412.0  ...                    38420.0   \n",
       "4                    80709.0  ...                   221007.0   \n",
       "\n",
       "   TCGAUUA93S01A21RA41B07all  TCGAV7A7HQ01A11RA33J07all  \\\n",
       "0                     1066.0                     2002.0   \n",
       "1                   145242.0                   112263.0   \n",
       "2                   466968.0                   246616.0   \n",
       "3                    11932.0                    47704.0   \n",
       "4                   102760.0                   609292.0   \n",
       "\n",
       "   TCGAW8A86G01A21RA36F07all  TCGAWTAB4101A11RA41B07all  \\\n",
       "0                     8176.0                     2203.0   \n",
       "1                   474505.0                   129543.0   \n",
       "2                   641664.0                   290005.0   \n",
       "3                    23095.0                    13357.0   \n",
       "4                   367454.0                   158651.0   \n",
       "\n",
       "   TCGAWTAB4401A11RA41B07all  TCGAXXA89901A11RA36F07all  \\\n",
       "0                     4996.0                    17029.0   \n",
       "1                   257288.0                   403161.0   \n",
       "2                   525525.0                  1136242.0   \n",
       "3                    18745.0                     9774.0   \n",
       "4                   166514.0                   196586.0   \n",
       "\n",
       "   TCGAXXA89A01A11RA36F07all  TCGAZ7A8R501A42RA41B07all  \\\n",
       "0                    11272.0                     3662.0   \n",
       "1                   462213.0                   153781.0   \n",
       "2                   859587.0                   546712.0   \n",
       "3                     7670.0                    11690.0   \n",
       "4                   267305.0                   244921.0   \n",
       "\n",
       "   TCGAZ7A8R601A11RA41B07all  \n",
       "0                     1906.0  \n",
       "1                   346022.0  \n",
       "2                  1140830.0  \n",
       "3                    21064.0  \n",
       "4                   291011.0  \n",
       "\n",
       "[5 rows x 1103 columns]"
      ]
     },
     "execution_count": 14,
     "metadata": {},
     "output_type": "execute_result"
    }
   ],
   "source": [
    "df_BRCA.head()"
   ]
  },
  {
   "cell_type": "code",
   "execution_count": 20,
   "metadata": {
    "ExecuteTime": {
     "end_time": "2021-08-16T16:15:48.785591Z",
     "start_time": "2021-08-16T16:15:47.978656Z"
    }
   },
   "outputs": [
    {
     "name": "stdout",
     "output_type": "stream",
     "text": [
      "libsize success\n"
     ]
    }
   ],
   "source": [
    "libsize_compute(df_BRCA, out_BRCA)"
   ]
  },
  {
   "cell_type": "code",
   "execution_count": 18,
   "metadata": {
    "ExecuteTime": {
     "end_time": "2021-08-16T16:15:18.112823Z",
     "start_time": "2021-08-16T16:15:18.102229Z"
    }
   },
   "outputs": [
    {
     "data": {
      "text/plain": [
       "372425.0"
      ]
     },
     "execution_count": 18,
     "metadata": {},
     "output_type": "execute_result"
    }
   ],
   "source": [
    "np.percentile(df_BRCA['TCGAA1A0SI01A11RA14407all'], 75)"
   ]
  },
  {
   "cell_type": "code",
   "execution_count": null,
   "metadata": {},
   "outputs": [],
   "source": []
  }
 ],
 "metadata": {
  "kernelspec": {
   "display_name": "myimmuno3_light",
   "language": "python",
   "name": "myimmuno3_light"
  },
  "language_info": {
   "codemirror_mode": {
    "name": "ipython",
    "version": 3
   },
   "file_extension": ".py",
   "mimetype": "text/x-python",
   "name": "python",
   "nbconvert_exporter": "python",
   "pygments_lexer": "ipython3",
   "version": "3.8.5"
  }
 },
 "nbformat": 4,
 "nbformat_minor": 4
}
