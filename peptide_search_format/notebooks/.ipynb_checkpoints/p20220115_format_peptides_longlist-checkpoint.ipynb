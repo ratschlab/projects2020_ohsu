{
 "cells": [
  {
   "cell_type": "code",
   "execution_count": 14,
   "metadata": {
    "ExecuteTime": {
     "end_time": "2022-01-25T17:14:54.801354Z",
     "start_time": "2022-01-25T17:14:54.795203Z"
    }
   },
   "outputs": [],
   "source": [
    "import os \n",
    "import pandas as pd\n",
    "from collections import defaultdict\n",
    "import numpy as np "
   ]
  },
  {
   "cell_type": "markdown",
   "metadata": {},
   "source": [
    "Step 1. Get the all sample experiement longlist: \n",
    "Use cut and unique in bash - (could be done in the notebook) \n",
    "\n"
   ]
  },
  {
   "cell_type": "markdown",
   "metadata": {},
   "source": [
    "Step 2. Get the metadata and peptides: \n",
    "Done in bash with the command below "
   ]
  },
  {
   "cell_type": "raw",
   "metadata": {},
   "source": [
    "Use the following command - (most efficient is bash) \n",
    "for kmer in $(cut -f1 -d '     ' filter_TCGA-A2-A0D2-01A-21R-A034-07.all/commit_d4aee54_GTEXcore/TCGA-A2-A0D2-01A-21R-A034-07.all_d4aee54_GTEXcore_kmer_longlist.tsv); do echo ${kmer},$(grep $kmer cohort_mutNone/meta_peptide_pooled_pq.tsv) >> filter_TCGA-A2-A0D2-01A-21R-A034-07.all/commit_d4aee54_GTEXcore/TCGA-A2-A0D2-01A-21R-A034-07.all_d4aee54_GTEXcore_kmer_peptides_raw.tsv; done"
   ]
  },
  {
   "cell_type": "markdown",
   "metadata": {},
   "source": [
    "Step 3. Get the formating done within this notebook \n"
   ]
  },
  {
   "cell_type": "raw",
   "metadata": {},
   "source": [
    "The fasta headers have the form >pepID-__(peptide ID #)__;jx_pos-__(0-based junction coordinate)__;expected_jx_pep-__(0/1)__;includes_5'-__(0/1)__;includes_3'-__(0/1)__, where:\n",
    "the peptide ID number pepID should match what’s in the experiments-per-peptide file\n",
    "the junction coordinate jx_pos is the 0-based position in the peptide of the amino acid that either overlaps the junction (if the junction is in the middle of a codon), or is immediately before it if the junction occurs between codons\n",
    "the expected peptide flag expected_jx_pep is 1 in most cases, if there should be a cleavage product that overlaps the junction, or 0 if the amino acid immediately before the junction is a cleavage site and therefore no peptide will actually overlap the junction.\n",
    "the 5' overlap flag includes_5' and 3' overlap flag  includes_3' are 0 if the peptide does not hit the end of the CDS (5’/beginning of the peptide or 3’/end of the peptide respectively) and 1 if the beginning/end of the peptide is the beginning/end of the CDS.\n",
    "The 5' overlap flag includes_5' and 3' overlap flag  includes_3' require going back to the annotation on my side. So I am trying to get this right. Below an example (edited) "
   ]
  },
  {
   "cell_type": "markdown",
   "metadata": {},
   "source": [
    "# Preprocess the annotation "
   ]
  },
  {
   "cell_type": "code",
   "execution_count": 15,
   "metadata": {
    "ExecuteTime": {
     "end_time": "2022-01-25T17:14:56.177575Z",
     "start_time": "2022-01-25T17:14:56.171781Z"
    }
   },
   "outputs": [],
   "source": [
    "ann_path = '/cluster/work/grlab/projects/projects2020_OHSU/annotation/gencode.v32.annotation.gtf'"
   ]
  },
  {
   "cell_type": "code",
   "execution_count": 16,
   "metadata": {
    "ExecuteTime": {
     "end_time": "2022-01-25T17:14:56.554421Z",
     "start_time": "2022-01-25T17:14:56.531928Z"
    }
   },
   "outputs": [],
   "source": [
    "# From Immunopepper preprocess.py \n",
    "def attribute_item_to_dict(a_item, file_type, feature_type):\n",
    "    \"\"\"  From attribute item in annotation file to get corresponding dictionary\n",
    "\n",
    "    Parameters\n",
    "    ----------\n",
    "    a_item: str. attribute item\n",
    "    file_type: str. Choose from {'gtf', 'gff', 'gff3'}\n",
    "    feature_type: str. Extract other fields. We only\n",
    "        consider 'CDS', 'mRNA' and 'transcript'\n",
    "\n",
    "    Returns\n",
    "    -------\n",
    "    gtf_dict: dict. store all the necessary data\n",
    "\n",
    "    \"\"\"    \n",
    "    \n",
    "    gtf_dict = {}\n",
    "    if file_type.lower() == 'gtf':\n",
    "        attribute_list = a_item.split('; ')\n",
    "        for attribute_pair in attribute_list:\n",
    "            pair = attribute_pair.split(' ')\n",
    "            gtf_dict[pair[0]] = pair[1][1:-1]\n",
    "    elif file_type.lower() == 'gff3':\n",
    "        attribute_list = a_item.split(';')\n",
    "        for attribute_pair in attribute_list:\n",
    "            pair = attribute_pair.split('=')\n",
    "            gtf_dict[pair[0]] = pair[1]\n",
    "    elif file_type.lower() == 'gff':\n",
    "        gff_dict = {}\n",
    "        attribute_list = a_item.split(';')\n",
    "        for attribute_pair in attribute_list:\n",
    "            pair = attribute_pair.split('=')\n",
    "            gff_dict[pair[0]] = pair[1]  # delete \"\", currently now work on level 2\n",
    "        if feature_type == 'CDS':\n",
    "            gtf_dict['transcript_id'] = gff_dict['Parent']\n",
    "        elif feature_type in {'mRNA', 'transcript'}:  # mRNA or transcript\n",
    "            gtf_dict['gene_id'] = gff_dict['geneID']\n",
    "            gtf_dict['transcript_id'] = gff_dict['ID']\n",
    "            gtf_dict['gene_type'] = gff_dict['gene_type']\n",
    "            gtf_dict['transcript_type'] = gff_dict['transcript_type']\n",
    "\n",
    "    return gtf_dict"
   ]
  },
  {
   "cell_type": "code",
   "execution_count": 17,
   "metadata": {
    "ExecuteTime": {
     "end_time": "2022-01-25T17:14:57.072923Z",
     "start_time": "2022-01-25T17:14:57.068685Z"
    }
   },
   "outputs": [],
   "source": [
    "#  From Immunopepper preprocess.py \n",
    "def leq_strand(coord1, coord2, strand):\n",
    "    if strand == \"+\":\n",
    "        return coord1 <= coord2\n",
    "    else:\n",
    "        return coord1 >= coord2\n"
   ]
  },
  {
   "cell_type": "code",
   "execution_count": 18,
   "metadata": {
    "ExecuteTime": {
     "end_time": "2022-01-25T17:15:24.485836Z",
     "start_time": "2022-01-25T17:14:57.361486Z"
    }
   },
   "outputs": [],
   "source": [
    "# From Immunopepper preprocess.py \n",
    "transcript_to_gene_dict = {}    # transcript -> gene id\n",
    "\n",
    "\n",
    "gene_to_transcript_dict = {}    # gene_id -> list of transcripts\n",
    "gene_cds_begin_dict = {}        # gene -> list of first CDS exons\n",
    "\n",
    "transcript_to_cds_dict = {}     # transcript -> list of CDS exons\n",
    "transcript_cds_begin_dict = {}  # transcript -> first exon of the CDS\n",
    "transcript_to_strand = {}\n",
    "\n",
    "file_type = ann_path.split('.')[-1]\n",
    "chromesome_set = set()\n",
    "# collect information from annotation file\n",
    "for line in open(ann_path, 'r'):\n",
    "    if line[0] == '#':\n",
    "        continue\n",
    "    item = line.strip().split('\\t')\n",
    "    chromesome_set.add(item[0])\n",
    "    feature_type = item[2]\n",
    "    attribute_item = item[-1]\n",
    "    attribute_dict = attribute_item_to_dict(attribute_item, file_type, feature_type)\n",
    "    # store relationship between gene ID and its transcript IDs\n",
    "    if feature_type in ['transcript', 'mRNA']:\n",
    "        gene_id = attribute_dict['gene_id']\n",
    "        transcript_id = attribute_dict['transcript_id']\n",
    "        if attribute_dict['gene_type'] != 'protein_coding' or attribute_dict['transcript_type']  != 'protein_coding':\n",
    "            continue\n",
    "        assert (transcript_id not in transcript_to_gene_dict)\n",
    "        transcript_to_gene_dict[transcript_id] = gene_id\n",
    "        if gene_id in gene_to_transcript_dict and transcript_id not in gene_to_transcript_dict[gene_id]:\n",
    "            gene_to_transcript_dict[gene_id].append(transcript_id)\n",
    "        else:\n",
    "            gene_to_transcript_dict[gene_id] = [transcript_id]\n",
    "        # Todo python is 0-based while gene annotation file(.gtf, .vcf, .maf) is one based\n",
    "    elif feature_type == \"CDS\":\n",
    "        parent_ts = attribute_dict['transcript_id']\n",
    "        strand_mode = item[6]\n",
    "        cds_left = int(item[3])-1\n",
    "        cds_right = int(item[4])\n",
    "        frameshift = int(item[7])\n",
    "        transcript_to_strand[parent_ts] = strand_mode\n",
    "        if parent_ts in transcript_to_cds_dict:\n",
    "            transcript_to_cds_dict[parent_ts].append((cds_left, cds_right, frameshift))\n",
    "        else:\n",
    "            transcript_to_cds_dict[parent_ts] = [(cds_left, cds_right, frameshift)]\n",
    "        if strand_mode == \"+\" :\n",
    "            cds_start, cds_stop = cds_left, cds_right\n",
    "        else:\n",
    "            cds_start, cds_stop = cds_right, cds_left\n",
    "\n",
    "        # we only consider the start of the whole CoDing Segment\n",
    "        if parent_ts not in transcript_cds_begin_dict or \\\n",
    "           leq_strand(cds_start, transcript_cds_begin_dict[parent_ts][0], strand_mode):\n",
    "            transcript_cds_begin_dict[parent_ts] = (cds_start, cds_stop, item)\n",
    "\n",
    "# collect first CDS exons for all transcripts of a gene\n",
    "for ts_key in transcript_to_gene_dict:\n",
    "    target_gene = transcript_to_gene_dict[ts_key]\n",
    "    if target_gene not in gene_cds_begin_dict:\n",
    "        gene_cds_begin_dict[target_gene] = []\n",
    "    if ts_key in transcript_cds_begin_dict:\n",
    "        gene_cds_begin_dict[target_gene].append(transcript_cds_begin_dict[ts_key])\n"
   ]
  },
  {
   "cell_type": "code",
   "execution_count": 19,
   "metadata": {
    "ExecuteTime": {
     "end_time": "2022-01-25T17:15:24.489396Z",
     "start_time": "2022-01-25T17:15:24.487507Z"
    }
   },
   "outputs": [],
   "source": [
    "# NEED TO SORT THE TRANSCRIPT TO CDS "
   ]
  },
  {
   "cell_type": "code",
   "execution_count": 20,
   "metadata": {
    "ExecuteTime": {
     "end_time": "2022-01-25T17:15:24.807884Z",
     "start_time": "2022-01-25T17:15:24.491569Z"
    }
   },
   "outputs": [],
   "source": [
    "# Custom collection of CDS \n",
    "transcript_cds_begin_dict_bis = {}\n",
    "transcript_cds_end_dict_bis = {}\n",
    "\n",
    "gene_cds_begin_dict_bis = defaultdict(list)\n",
    "gene_cds_end_dict_bis = defaultdict(list)\n",
    "\n",
    "# will be in reading order \n",
    "for ts_key in transcript_to_cds_dict:\n",
    "    if transcript_to_strand[ts_key] == '+': # '+'\n",
    "        transcript_cds_begin_dict_bis[ts_key] = (transcript_to_cds_dict[ts_key][0][0],\n",
    "                                                 transcript_to_cds_dict[ts_key][0][1], '+')\n",
    "        transcript_cds_end_dict_bis[ts_key] = (transcript_to_cds_dict[ts_key][-1][0],\n",
    "                                                 transcript_to_cds_dict[ts_key][-1][1], '+')\n",
    "        \n",
    "\n",
    "    else: \n",
    "        transcript_cds_begin_dict_bis[ts_key] = (transcript_to_cds_dict[ts_key][0][1],\n",
    "                                                 transcript_to_cds_dict[ts_key][0][0], '-')\n",
    "        transcript_cds_end_dict_bis[ts_key] = (transcript_to_cds_dict[ts_key][-1][1],\n",
    "                                                 transcript_to_cds_dict[ts_key][-1][0], '-')\n",
    "    \n",
    "    assert(transcript_cds_begin_dict_bis[ts_key][0] == transcript_cds_begin_dict[ts_key][0])\n",
    "    assert(transcript_cds_begin_dict_bis[ts_key][1] == transcript_cds_begin_dict[ts_key][1])\n",
    "\n",
    "# collect first, last CDS exons for all transcripts of a gene\n",
    "for ts_key in transcript_to_gene_dict:\n",
    "    target_gene = transcript_to_gene_dict[ts_key]\n",
    "    gene_cds_begin_dict_bis[target_gene].append(transcript_cds_begin_dict_bis[ts_key])\n",
    "    gene_cds_end_dict_bis[target_gene].append(transcript_cds_end_dict_bis[ts_key])"
   ]
  },
  {
   "cell_type": "code",
   "execution_count": 21,
   "metadata": {
    "ExecuteTime": {
     "end_time": "2022-01-25T17:15:24.812834Z",
     "start_time": "2022-01-25T17:15:24.809425Z"
    }
   },
   "outputs": [],
   "source": [
    "#gene_cds_begin_dict_bis"
   ]
  },
  {
   "cell_type": "markdown",
   "metadata": {},
   "source": [
    "# Format the peptide raw file (from step 2)"
   ]
  },
  {
   "cell_type": "code",
   "execution_count": 22,
   "metadata": {
    "ExecuteTime": {
     "end_time": "2022-01-25T17:15:24.819562Z",
     "start_time": "2022-01-25T17:15:24.814380Z"
    }
   },
   "outputs": [],
   "source": [
    "# fields_meta_peptide_dict = ['peptide', 'id', 'readFrame', 'geneName', 'geneChr', 'geneStrand',\n",
    "#                                 'mutationMode',\n",
    "#                                 'junctionAnnotated', 'hasStopCodon', 'isInJunctionList',\n",
    "#                                 'isIsolated', 'variantComb', 'variantSegExpr', 'modifiedExonsCoord',\n",
    "#                                 'originalExonsCoord', 'vertexIdx',\n",
    "#                                 'kmerType']"
   ]
  },
  {
   "cell_type": "code",
   "execution_count": 23,
   "metadata": {
    "ExecuteTime": {
     "end_time": "2022-01-25T17:15:24.826923Z",
     "start_time": "2022-01-25T17:15:24.821569Z"
    }
   },
   "outputs": [],
   "source": [
    "file_meta = '/cluster/work/grlab/projects/projects2020_OHSU/peptides_generation/v2_v2.5f0752a_conf2_annotFrame_cap0_runs_pya0.17.1/TCGA_Breast_1102/filter_TCGA-A2-A0D2-01A-21R-A034-07.all/commit_d4aee54_GTEXcore/TCGA-A2-A0D2-01A-21R-A034-07.all_d4aee54_GTEXcore_kmer_peptides_raw.tsv'"
   ]
  },
  {
   "cell_type": "code",
   "execution_count": 35,
   "metadata": {
    "ExecuteTime": {
     "end_time": "2022-01-25T18:09:36.648164Z",
     "start_time": "2022-01-25T18:09:36.548325Z"
    }
   },
   "outputs": [],
   "source": [
    "file_save = '/cluster/work/grlab/projects/projects2020_OHSU/peptides_generation/v2_v2.5f0752a_conf2_annotFrame_cap0_runs_pya0.17.1/TCGA_Breast_1102/filter_TCGA-A2-A0D2-01A-21R-A034-07.all/commit_d4aee54_GTEXcore/G_TCGA-A2-A0D2-01A-21R-A034-07_query_peptides.fa'\n"
   ]
  },
  {
   "cell_type": "code",
   "execution_count": 38,
   "metadata": {
    "ExecuteTime": {
     "end_time": "2022-01-25T18:11:39.541297Z",
     "start_time": "2022-01-25T18:11:38.752634Z"
    }
   },
   "outputs": [
    {
     "name": "stdout",
     "output_type": "stream",
     "text": [
      "open /cluster/work/grlab/projects/projects2020_OHSU/peptides_generation/v2_v2.5f0752a_conf2_annotFrame_cap0_runs_pya0.17.1/TCGA_Breast_1102/filter_TCGA-A2-A0D2-01A-21R-A034-07.all/commit_d4aee54_GTEXcore/TCGA-A2-A0D2-01A-21R-A034-07.all_d4aee54_GTEXcore_kmer_peptides_raw.tsv\n"
     ]
    }
   ],
   "source": [
    "## Format and create flags \n",
    "pep_idx = 0 \n",
    "\n",
    "with open(file_save, 'a') as sp:\n",
    "    with open(file_meta, 'r') as fp:\n",
    "        print(\"open {}\".format(file_meta))\n",
    "        lines = fp.readlines()\n",
    "        ### Iterate over kmers \n",
    "        for line in lines:\n",
    "            if 'modifiedExonsCoord' in line: #header\n",
    "                continue\n",
    "            line = line.replace('3-exons_9-mer ', '3-exons_9-mer@').replace('2-exons ', '2-exons@')\n",
    "            kmer = line.split(',')[0]\n",
    "            peptides = ','.join(line.split(',')[1:])\n",
    "            peptides = peptides.split('@')\n",
    "            ### Iterate over kmer-associated peptides\n",
    "            for pep in peptides:\n",
    "                pep = pep.split(',')\n",
    "                pep_seq = pep[0]\n",
    "                pep_gene = pep[3]\n",
    "                pep_orig_coordS = pep[13].split('/')\n",
    "                pep_modif_coordS = pep[14]\n",
    "                strand = pep[5]\n",
    "                has_stop_codon = pep[8]\n",
    "                if has_stop_codon == '0':\n",
    "                    break \n",
    "                ### Iterate over original genomic coordinates for include flag\n",
    "                for pep_orig_coord in pep_orig_coordS:\n",
    "                    pep_orig_coord = pep_orig_coord.split(';')\n",
    "                    pep_orig_coord = [coord for coord in pep_orig_coord if coord != 'None']\n",
    "\n",
    "                    start_cds = [ first_exon[0] for first_exon in \n",
    "                                 gene_cds_begin_dict_bis[pep_gene] ] \n",
    "                    end_cds = [ last_exon[1] for last_exon in \n",
    "                               gene_cds_end_dict_bis[pep_gene] ] \n",
    "                    ## Get peptide end and start coordinates\n",
    "                    if strand == '+': # Do - strand \n",
    "                        pep_start = np.int(pep_orig_coord[0])\n",
    "                        pep_end = np.int(pep_orig_coord[-1])\n",
    "                    else: \n",
    "                        pep_start = np.int(pep_orig_coord[1])\n",
    "                        pep_end = np.int(pep_orig_coord[-2])\n",
    "\n",
    "                    ## Use end and start coordinates for 3' 5' include flag\n",
    "                    if pep_start in start_cds: # We will always miss things that are new in the graph \n",
    "                        pep_5include = 1\n",
    "                    else: \n",
    "                        pep_5include = 0 \n",
    "                    if (pep_end in end_cds) or (has_stop_codon) == '1':\n",
    "                        pep_3include = 1\n",
    "                    else: \n",
    "                        pep_3include = 0 \n",
    "\n",
    "                ### Iterate over original genomic coordinates for the junction position flag and between codon flag\n",
    "                for pep_modi_coord in pep_modif_coordS.split('/'):\n",
    "                    pep_idx +=1\n",
    "                    pep_modi_coord = pep_modi_coord.split(';')\n",
    "                    pep_modi_coord = [coord for coord in pep_modi_coord if coord != 'None']\n",
    "                    tot_len = 0 \n",
    "                    jx_list = []\n",
    "                    shift = 0 \n",
    "                    shift_list = []\n",
    "                    ## Get nt length of each exon involved -> jx_list, shift_list\n",
    "                    for pair in np.arange(0, len(pep_modi_coord), 2):\n",
    "                        cds = int(pep_modi_coord[pair + 1]) - int(pep_modi_coord[pair])  # 0 based, open right \n",
    "                        cds += shift \n",
    "                        shift = cds % 3\n",
    "                        jx_list.append(cds - shift)\n",
    "                        shift_list.append(shift)\n",
    "                    kmer_len = 9 \n",
    "\n",
    "    #                 for start_pos in np.arange(0, len(pep_seq) - (kmer_len - 1) ):\n",
    "    #                     if pep_seq[start_pos : start_pos + kmer_len ] == kmer:\n",
    "    #                         pos_kmer = start_pos # 0 based, real position = pos_kmer +1\n",
    "    #                 assert(pos_kmer == jx_list[0]/ 3)\n",
    "\n",
    "                    ## Get aa position of the junction\n",
    "                    if shift_list[0]: # junction is inside an amino acid\n",
    "                        aa_junction_pos = int((jx_list[0] / 3)) # because 0 based\n",
    "                        between_codons = 0 \n",
    "                    else: # junction is between amino acids \n",
    "                        aa_junction_pos = int((jx_list[0] / 3) - 1)  # because 0 based\n",
    "                        between_codons = 1\n",
    "                    if strand == '+':\n",
    "                        genome_junction_pos = '{}_{}'.format(pep_modi_coord[1], pep_modi_coord[2])\n",
    "                    else:\n",
    "                        genome_junction_pos = '{}_{}'.format(pep_modi_coord[0], pep_modi_coord[3])\n",
    "                    \n",
    "                    \n",
    "                    pep_handle = '>pepID-{};jx_pos-{};between_codons-{};includes_5\\'-{};includes_3\\'-{};gene-{};jx_coord-{}'.format(\n",
    "                    pep_idx, aa_junction_pos, between_codons, pep_5include, pep_3include, pep_gene, genome_junction_pos)\n",
    "                    sp.write(pep_handle + '\\n')\n",
    "                    sp.write(pep_seq + '\\n')\n",
    "               \n"
   ]
  },
  {
   "cell_type": "code",
   "execution_count": 37,
   "metadata": {
    "ExecuteTime": {
     "end_time": "2022-01-25T18:10:11.795960Z",
     "start_time": "2022-01-25T18:10:11.783349Z"
    }
   },
   "outputs": [
    {
     "data": {
      "text/plain": [
       "['modifiedExonsCoord']"
      ]
     },
     "execution_count": 37,
     "metadata": {},
     "output_type": "execute_result"
    }
   ],
   "source": [
    "pep_orig_coord"
   ]
  },
  {
   "cell_type": "code",
   "execution_count": 49,
   "metadata": {
    "ExecuteTime": {
     "end_time": "2022-01-20T16:47:53.694776Z",
     "start_time": "2022-01-20T16:47:53.689958Z"
    }
   },
   "outputs": [
    {
     "data": {
      "text/plain": [
       "'QSPASPPPLGGGAPVRTAKAERRHQERLRVQSPEPPAPERALSPAELRALEAEKRALWRAARMKSLVLSRSQEGRGTRGPLERLAEAPSPAPTPSPTPVE'"
      ]
     },
     "execution_count": 49,
     "metadata": {},
     "output_type": "execute_result"
    }
   ],
   "source": [
    "pep_seq"
   ]
  },
  {
   "cell_type": "code",
   "execution_count": 60,
   "metadata": {
    "ExecuteTime": {
     "end_time": "2022-01-19T17:18:29.671990Z",
     "start_time": "2022-01-19T17:18:29.588552Z"
    }
   },
   "outputs": [
    {
     "data": {
      "text/plain": [
       "'AARMKSLVL'"
      ]
     },
     "execution_count": 60,
     "metadata": {},
     "output_type": "execute_result"
    }
   ],
   "source": [
    "kmer "
   ]
  },
  {
   "cell_type": "code",
   "execution_count": 84,
   "metadata": {
    "ExecuteTime": {
     "end_time": "2022-01-19T17:24:00.211600Z",
     "start_time": "2022-01-19T17:24:00.207632Z"
    }
   },
   "outputs": [
    {
     "data": {
      "text/plain": [
       "100"
      ]
     },
     "execution_count": 84,
     "metadata": {},
     "output_type": "execute_result"
    }
   ],
   "source": [
    "len(pep_seq) "
   ]
  },
  {
   "cell_type": "markdown",
   "metadata": {},
   "source": [
    "# GET THE POSITION OF THE JUNCTION IN THE PEPTIDE = NOT The start of the kmer \n",
    "\n"
   ]
  },
  {
   "cell_type": "code",
   "execution_count": 73,
   "metadata": {
    "ExecuteTime": {
     "end_time": "2022-01-20T16:52:07.472931Z",
     "start_time": "2022-01-20T16:52:07.468097Z"
    }
   },
   "outputs": [
    {
     "data": {
      "text/plain": [
       "'AQLNILLEV'"
      ]
     },
     "execution_count": 73,
     "metadata": {},
     "output_type": "execute_result"
    }
   ],
   "source": [
    "kmer"
   ]
  },
  {
   "cell_type": "code",
   "execution_count": 72,
   "metadata": {
    "ExecuteTime": {
     "end_time": "2022-01-20T16:51:39.891331Z",
     "start_time": "2022-01-20T16:51:39.800475Z"
    }
   },
   "outputs": [
    {
     "data": {
      "text/plain": [
       "['DIIHDPGRGAPLAKVVFRDPYRFKKRTELFIAAEGIHTGQFVYCGKKAQLNILLEVATTSTSASPPPSAEMPLLAAKWVSLLPAGLDVSGEPRLCRRKRTSAEGLNKVCVYAT',\n",
       " 'ENSG00000161016.17:256_245_8:0:144791914:3-exons_9-mer',\n",
       " '1',\n",
       " 'ENSG00000161016.17',\n",
       " 'chr8',\n",
       " '-',\n",
       " 'ref',\n",
       " '1',\n",
       " '0',\n",
       " 'nan',\n",
       " '0',\n",
       " 'nan',\n",
       " 'nan',\n",
       " '144791772;144791914;144791482;144791495;144789766;144789950',\n",
       " '144791772;144791914;144791482;144791495;144789764;144789950',\n",
       " '\"(256',\n",
       " ' 245',\n",
       " ' 8)\"',\n",
       " '3-exons_9-mer\\n']"
      ]
     },
     "execution_count": 72,
     "metadata": {},
     "output_type": "execute_result"
    }
   ],
   "source": [
    "pep"
   ]
  },
  {
   "cell_type": "code",
   "execution_count": 60,
   "metadata": {
    "ExecuteTime": {
     "end_time": "2022-01-20T16:48:53.977751Z",
     "start_time": "2022-01-20T16:48:53.971332Z"
    }
   },
   "outputs": [
    {
     "data": {
      "text/plain": [
       "'144791772;144791914;144791482;144791495;144789764;144789950'"
      ]
     },
     "execution_count": 60,
     "metadata": {},
     "output_type": "execute_result"
    }
   ],
   "source": [
    "pep_modif_coordS"
   ]
  },
  {
   "cell_type": "code",
   "execution_count": 61,
   "metadata": {
    "ExecuteTime": {
     "end_time": "2022-01-20T16:48:54.356458Z",
     "start_time": "2022-01-20T16:48:54.350471Z"
    }
   },
   "outputs": [
    {
     "data": {
      "text/plain": [
       "'0'"
      ]
     },
     "execution_count": 61,
     "metadata": {},
     "output_type": "execute_result"
    }
   ],
   "source": [
    "has_stop_codon "
   ]
  },
  {
   "cell_type": "code",
   "execution_count": 104,
   "metadata": {
    "ExecuteTime": {
     "end_time": "2022-01-20T18:25:23.175428Z",
     "start_time": "2022-01-20T18:25:22.990638Z"
    }
   },
   "outputs": [
    {
     "name": "stdout",
     "output_type": "stream",
     "text": [
      "142\n",
      "142\n",
      "1\n",
      "141\n",
      "\n",
      "\n",
      "13\n",
      "14\n",
      "2\n",
      "12\n",
      "\n",
      "\n",
      "186\n",
      "188\n",
      "2\n",
      "186\n",
      "\n",
      "\n"
     ]
    }
   ],
   "source": [
    "for pep_modi_coord in pep_modif_coordS.split('/'):\n",
    "    pep_modi_coord = pep_modi_coord.split(';')\n",
    "    pep_modi_coord = [coord for coord in pep_modi_coord if coord != 'None']\n",
    "    tot_len = 0 \n",
    "    jx_list = []\n",
    "    shift = 0 \n",
    "    shift_list = []\n",
    "    for pair in np.arange(0, len(pep_modi_coord), 2):\n",
    "        cds = int(pep_modi_coord[pair+ 1]) - int(pep_modi_coord[pair])  # 0 based, open right \n",
    "        print(cds)\n",
    "        cds += shift \n",
    "        print(cds)\n",
    "        shift = cds % 3\n",
    "        print(shift)\n",
    "        jx_list.append(cds - shift)\n",
    "        shift_list.append(shift)\n",
    "        print(cds - shift)\n",
    "        print('\\n')\n",
    "    kmer_len = 9 \n",
    "    for start_pos in np.arange(0, len(pep_seq) - (kmer_len - 1) ):\n",
    "        if pep_seq[start_pos : start_pos + kmer_len ] == kmer:\n",
    "            pos_kmer = start_pos # 0 based, real position = pos_kmer +1\n",
    "    assert(pos_kmer == jx_list[0]/ 3)\n",
    "    \n",
    "    if shift_list[0]: # amino acid overlaps the junction \n",
    "        nt_junction_pos = jx_list[0]\n",
    "        between_codons = 0 \n",
    "    else: # junction between amino acids \n",
    "        nt_junction_pos = jx_list[0] - 1\n",
    "        between_codons = 1\n",
    "    if strand == '+':\n",
    "        genome_junction_pos = '{}-{}'.format(pep_modi_coord[0][1], pep_modi_coord[1][0])\n",
    "    else:\n",
    "        genome_junction_pos = '{}-{}'.format(pep_modi_coord[0][0], pep_modi_coord[1][1])\n"
   ]
  },
  {
   "cell_type": "code",
   "execution_count": 105,
   "metadata": {
    "ExecuteTime": {
     "end_time": "2022-01-20T18:25:29.210867Z",
     "start_time": "2022-01-20T18:25:29.200266Z"
    }
   },
   "outputs": [
    {
     "data": {
      "text/plain": [
       "[1, 2, 2]"
      ]
     },
     "execution_count": 105,
     "metadata": {},
     "output_type": "execute_result"
    }
   ],
   "source": [
    "shift_list"
   ]
  },
  {
   "cell_type": "code",
   "execution_count": 88,
   "metadata": {
    "ExecuteTime": {
     "end_time": "2022-01-20T17:05:53.038426Z",
     "start_time": "2022-01-20T17:05:53.029061Z"
    }
   },
   "outputs": [
    {
     "data": {
      "text/plain": [
       "113.0"
      ]
     },
     "execution_count": 88,
     "metadata": {},
     "output_type": "execute_result"
    }
   ],
   "source": [
    "sum(jx_list) / 3"
   ]
  },
  {
   "cell_type": "code",
   "execution_count": 89,
   "metadata": {
    "ExecuteTime": {
     "end_time": "2022-01-20T17:06:00.617471Z",
     "start_time": "2022-01-20T17:06:00.611549Z"
    }
   },
   "outputs": [
    {
     "data": {
      "text/plain": [
       "113"
      ]
     },
     "execution_count": 89,
     "metadata": {},
     "output_type": "execute_result"
    }
   ],
   "source": [
    "len(pep_seq)"
   ]
  },
  {
   "cell_type": "code",
   "execution_count": 81,
   "metadata": {
    "ExecuteTime": {
     "end_time": "2022-01-20T16:59:30.280683Z",
     "start_time": "2022-01-20T16:59:30.276874Z"
    }
   },
   "outputs": [
    {
     "data": {
      "text/plain": [
       "1"
      ]
     },
     "execution_count": 81,
     "metadata": {},
     "output_type": "execute_result"
    }
   ],
   "source": [
    "142% 3"
   ]
  },
  {
   "cell_type": "code",
   "execution_count": 82,
   "metadata": {
    "ExecuteTime": {
     "end_time": "2022-01-20T16:59:44.505851Z",
     "start_time": "2022-01-20T16:59:44.500576Z"
    }
   },
   "outputs": [
    {
     "data": {
      "text/plain": [
       "47.0"
      ]
     },
     "execution_count": 82,
     "metadata": {},
     "output_type": "execute_result"
    }
   ],
   "source": [
    "141/3"
   ]
  },
  {
   "cell_type": "code",
   "execution_count": 68,
   "metadata": {
    "ExecuteTime": {
     "end_time": "2022-01-20T16:50:21.431672Z",
     "start_time": "2022-01-20T16:50:21.428004Z"
    }
   },
   "outputs": [
    {
     "data": {
      "text/plain": [
       "341"
      ]
     },
     "execution_count": 68,
     "metadata": {},
     "output_type": "execute_result"
    }
   ],
   "source": [
    "(142 + 13 + 186)"
   ]
  },
  {
   "cell_type": "code",
   "execution_count": 70,
   "metadata": {
    "ExecuteTime": {
     "end_time": "2022-01-20T16:50:26.314811Z",
     "start_time": "2022-01-20T16:50:26.308185Z"
    }
   },
   "outputs": [
    {
     "data": {
      "text/plain": [
       "113.66666666666667"
      ]
     },
     "execution_count": 70,
     "metadata": {},
     "output_type": "execute_result"
    }
   ],
   "source": [
    "341 / 3"
   ]
  },
  {
   "cell_type": "code",
   "execution_count": 71,
   "metadata": {
    "ExecuteTime": {
     "end_time": "2022-01-20T16:50:29.021265Z",
     "start_time": "2022-01-20T16:50:29.017966Z"
    }
   },
   "outputs": [
    {
     "data": {
      "text/plain": [
       "113"
      ]
     },
     "execution_count": 71,
     "metadata": {},
     "output_type": "execute_result"
    }
   ],
   "source": [
    "len(pep_seq)"
   ]
  },
  {
   "cell_type": "code",
   "execution_count": 91,
   "metadata": {
    "ExecuteTime": {
     "end_time": "2022-01-20T17:08:59.360793Z",
     "start_time": "2022-01-20T17:08:59.356987Z"
    }
   },
   "outputs": [
    {
     "data": {
      "text/plain": [
       "9"
      ]
     },
     "execution_count": 91,
     "metadata": {},
     "output_type": "execute_result"
    }
   ],
   "source": [
    "113 - 104 "
   ]
  },
  {
   "cell_type": "code",
   "execution_count": null,
   "metadata": {},
   "outputs": [],
   "source": [
    "DIIHDPGRGAPLAKVVFRDPYRFKKRTELFIAAEGIHTGQFVYCGKKAQLNILLEVATTSTSASPPPSAEMPLLAAKWVSLLPAGLDVSGEPRLCRRKRTSAEGLNKVCVYAT"
   ]
  },
  {
   "cell_type": "code",
   "execution_count": 96,
   "metadata": {
    "ExecuteTime": {
     "end_time": "2022-01-20T17:13:33.132040Z",
     "start_time": "2022-01-20T17:13:33.040417Z"
    }
   },
   "outputs": [
    {
     "data": {
      "text/plain": [
       "'DIIHDPGRGAPLAKVVFRDPYRFKKRTELFIAAEGIHTGQFVYCGKKAQLNILLEVATTSTSASPPPSAEMPLLAAKWVSLLPAGLDVSGEPRLCRRKRTSAEGLNKVCVYAT'"
      ]
     },
     "execution_count": 96,
     "metadata": {},
     "output_type": "execute_result"
    }
   ],
   "source": [
    "pep_seq"
   ]
  },
  {
   "cell_type": "code",
   "execution_count": 97,
   "metadata": {
    "ExecuteTime": {
     "end_time": "2022-01-20T17:14:08.257879Z",
     "start_time": "2022-01-20T17:14:08.253328Z"
    }
   },
   "outputs": [
    {
     "data": {
      "text/plain": [
       "'AQLNILLEV'"
      ]
     },
     "execution_count": 97,
     "metadata": {},
     "output_type": "execute_result"
    }
   ],
   "source": [
    "kmer"
   ]
  },
  {
   "cell_type": "code",
   "execution_count": 99,
   "metadata": {
    "ExecuteTime": {
     "end_time": "2022-01-20T17:15:08.931454Z",
     "start_time": "2022-01-20T17:15:08.923826Z"
    }
   },
   "outputs": [
    {
     "data": {
      "text/plain": [
       "9"
      ]
     },
     "execution_count": 99,
     "metadata": {},
     "output_type": "execute_result"
    }
   ],
   "source": [
    "len('DIIHDPGRG')"
   ]
  },
  {
   "cell_type": "code",
   "execution_count": 98,
   "metadata": {
    "ExecuteTime": {
     "end_time": "2022-01-20T17:14:56.807242Z",
     "start_time": "2022-01-20T17:14:56.704824Z"
    }
   },
   "outputs": [
    {
     "name": "stdout",
     "output_type": "stream",
     "text": [
      "0\n",
      "DIIHDPGRG\n",
      "1\n",
      "IIHDPGRGA\n",
      "2\n",
      "IHDPGRGAP\n",
      "3\n",
      "HDPGRGAPL\n",
      "4\n",
      "DPGRGAPLA\n",
      "5\n",
      "PGRGAPLAK\n",
      "6\n",
      "GRGAPLAKV\n",
      "7\n",
      "RGAPLAKVV\n",
      "8\n",
      "GAPLAKVVF\n",
      "9\n",
      "APLAKVVFR\n",
      "10\n",
      "PLAKVVFRD\n",
      "11\n",
      "LAKVVFRDP\n",
      "12\n",
      "AKVVFRDPY\n",
      "13\n",
      "KVVFRDPYR\n",
      "14\n",
      "VVFRDPYRF\n",
      "15\n",
      "VFRDPYRFK\n",
      "16\n",
      "FRDPYRFKK\n",
      "17\n",
      "RDPYRFKKR\n",
      "18\n",
      "DPYRFKKRT\n",
      "19\n",
      "PYRFKKRTE\n",
      "20\n",
      "YRFKKRTEL\n",
      "21\n",
      "RFKKRTELF\n",
      "22\n",
      "FKKRTELFI\n",
      "23\n",
      "KKRTELFIA\n",
      "24\n",
      "KRTELFIAA\n",
      "25\n",
      "RTELFIAAE\n",
      "26\n",
      "TELFIAAEG\n",
      "27\n",
      "ELFIAAEGI\n",
      "28\n",
      "LFIAAEGIH\n",
      "29\n",
      "FIAAEGIHT\n",
      "30\n",
      "IAAEGIHTG\n",
      "31\n",
      "AAEGIHTGQ\n",
      "32\n",
      "AEGIHTGQF\n",
      "33\n",
      "EGIHTGQFV\n",
      "34\n",
      "GIHTGQFVY\n",
      "35\n",
      "IHTGQFVYC\n",
      "36\n",
      "HTGQFVYCG\n",
      "37\n",
      "TGQFVYCGK\n",
      "38\n",
      "GQFVYCGKK\n",
      "39\n",
      "QFVYCGKKA\n",
      "40\n",
      "FVYCGKKAQ\n",
      "41\n",
      "VYCGKKAQL\n",
      "42\n",
      "YCGKKAQLN\n",
      "43\n",
      "CGKKAQLNI\n",
      "44\n",
      "GKKAQLNIL\n",
      "45\n",
      "KKAQLNILL\n",
      "46\n",
      "KAQLNILLE\n",
      "47\n",
      "AQLNILLEV\n",
      "48\n",
      "QLNILLEVA\n",
      "49\n",
      "LNILLEVAT\n",
      "50\n",
      "NILLEVATT\n",
      "51\n",
      "ILLEVATTS\n",
      "52\n",
      "LLEVATTST\n",
      "53\n",
      "LEVATTSTS\n",
      "54\n",
      "EVATTSTSA\n",
      "55\n",
      "VATTSTSAS\n",
      "56\n",
      "ATTSTSASP\n",
      "57\n",
      "TTSTSASPP\n",
      "58\n",
      "TSTSASPPP\n",
      "59\n",
      "STSASPPPS\n",
      "60\n",
      "TSASPPPSA\n",
      "61\n",
      "SASPPPSAE\n",
      "62\n",
      "ASPPPSAEM\n",
      "63\n",
      "SPPPSAEMP\n",
      "64\n",
      "PPPSAEMPL\n",
      "65\n",
      "PPSAEMPLL\n",
      "66\n",
      "PSAEMPLLA\n",
      "67\n",
      "SAEMPLLAA\n",
      "68\n",
      "AEMPLLAAK\n",
      "69\n",
      "EMPLLAAKW\n",
      "70\n",
      "MPLLAAKWV\n",
      "71\n",
      "PLLAAKWVS\n",
      "72\n",
      "LLAAKWVSL\n",
      "73\n",
      "LAAKWVSLL\n",
      "74\n",
      "AAKWVSLLP\n",
      "75\n",
      "AKWVSLLPA\n",
      "76\n",
      "KWVSLLPAG\n",
      "77\n",
      "WVSLLPAGL\n",
      "78\n",
      "VSLLPAGLD\n",
      "79\n",
      "SLLPAGLDV\n",
      "80\n",
      "LLPAGLDVS\n",
      "81\n",
      "LPAGLDVSG\n",
      "82\n",
      "PAGLDVSGE\n",
      "83\n",
      "AGLDVSGEP\n",
      "84\n",
      "GLDVSGEPR\n",
      "85\n",
      "LDVSGEPRL\n",
      "86\n",
      "DVSGEPRLC\n",
      "87\n",
      "VSGEPRLCR\n",
      "88\n",
      "SGEPRLCRR\n",
      "89\n",
      "GEPRLCRRK\n",
      "90\n",
      "EPRLCRRKR\n",
      "91\n",
      "PRLCRRKRT\n",
      "92\n",
      "RLCRRKRTS\n",
      "93\n",
      "LCRRKRTSA\n",
      "94\n",
      "CRRKRTSAE\n",
      "95\n",
      "RRKRTSAEG\n",
      "96\n",
      "RKRTSAEGL\n",
      "97\n",
      "KRTSAEGLN\n",
      "98\n",
      "RTSAEGLNK\n",
      "99\n",
      "TSAEGLNKV\n",
      "100\n",
      "SAEGLNKVC\n",
      "101\n",
      "AEGLNKVCV\n",
      "102\n",
      "EGLNKVCVY\n",
      "103\n",
      "GLNKVCVYA\n",
      "104\n",
      "LNKVCVYAT\n"
     ]
    }
   ],
   "source": []
  },
  {
   "cell_type": "code",
   "execution_count": 95,
   "metadata": {
    "ExecuteTime": {
     "end_time": "2022-01-20T17:10:12.486887Z",
     "start_time": "2022-01-20T17:10:12.482083Z"
    }
   },
   "outputs": [
    {
     "data": {
      "text/plain": [
       "141"
      ]
     },
     "execution_count": 95,
     "metadata": {},
     "output_type": "execute_result"
    }
   ],
   "source": [
    "pos_kmer * 3"
   ]
  },
  {
   "cell_type": "code",
   "execution_count": 76,
   "metadata": {
    "ExecuteTime": {
     "end_time": "2022-01-20T16:53:50.426336Z",
     "start_time": "2022-01-20T16:53:50.375251Z"
    }
   },
   "outputs": [
    {
     "data": {
      "text/plain": [
       "141"
      ]
     },
     "execution_count": 76,
     "metadata": {},
     "output_type": "execute_result"
    }
   ],
   "source": [
    "pos_kmer * 3 "
   ]
  },
  {
   "cell_type": "code",
   "execution_count": 39,
   "metadata": {
    "ExecuteTime": {
     "end_time": "2022-01-20T16:43:40.705803Z",
     "start_time": "2022-01-20T16:43:40.700526Z"
    }
   },
   "outputs": [
    {
     "data": {
      "text/plain": [
       "24.0"
      ]
     },
     "execution_count": 39,
     "metadata": {},
     "output_type": "execute_result"
    }
   ],
   "source": [
    "72/3"
   ]
  },
  {
   "cell_type": "code",
   "execution_count": 40,
   "metadata": {
    "ExecuteTime": {
     "end_time": "2022-01-20T16:43:46.675579Z",
     "start_time": "2022-01-20T16:43:46.670720Z"
    }
   },
   "outputs": [
    {
     "data": {
      "text/plain": [
       "39.666666666666664"
      ]
     },
     "execution_count": 40,
     "metadata": {},
     "output_type": "execute_result"
    }
   ],
   "source": [
    "119/ 3"
   ]
  },
  {
   "cell_type": "code",
   "execution_count": null,
   "metadata": {},
   "outputs": [],
   "source": []
  },
  {
   "cell_type": "code",
   "execution_count": 36,
   "metadata": {
    "ExecuteTime": {
     "end_time": "2022-01-20T16:43:03.145857Z",
     "start_time": "2022-01-20T16:43:03.139037Z"
    },
    "scrolled": true
   },
   "outputs": [
    {
     "data": {
      "text/plain": [
       "63.666666666666664"
      ]
     },
     "execution_count": 36,
     "metadata": {},
     "output_type": "execute_result"
    }
   ],
   "source": [
    "tot_len / 3"
   ]
  },
  {
   "cell_type": "code",
   "execution_count": 41,
   "metadata": {
    "ExecuteTime": {
     "end_time": "2022-01-20T16:43:53.023191Z",
     "start_time": "2022-01-20T16:43:53.019283Z"
    }
   },
   "outputs": [
    {
     "data": {
      "text/plain": [
       "46"
      ]
     },
     "execution_count": 41,
     "metadata": {},
     "output_type": "execute_result"
    }
   ],
   "source": [
    "len(pep_seq)"
   ]
  },
  {
   "cell_type": "code",
   "execution_count": 22,
   "metadata": {
    "ExecuteTime": {
     "end_time": "2022-01-20T16:40:20.397821Z",
     "start_time": "2022-01-20T16:40:20.392156Z"
    }
   },
   "outputs": [
    {
     "data": {
      "text/plain": [
       "101.66666666666667"
      ]
     },
     "execution_count": 22,
     "metadata": {},
     "output_type": "execute_result"
    }
   ],
   "source": [
    "tot_len / 3 "
   ]
  },
  {
   "cell_type": "code",
   "execution_count": 89,
   "metadata": {
    "ExecuteTime": {
     "end_time": "2022-01-19T17:26:54.855237Z",
     "start_time": "2022-01-19T17:26:54.839306Z"
    }
   },
   "outputs": [
    {
     "name": "stdout",
     "output_type": "stream",
     "text": [
      "0\n",
      "1\n",
      "2\n",
      "3\n",
      "4\n",
      "5\n",
      "6\n",
      "7\n",
      "8\n",
      "9\n",
      "10\n",
      "11\n",
      "12\n",
      "13\n",
      "14\n",
      "15\n",
      "16\n",
      "17\n",
      "18\n",
      "19\n",
      "20\n",
      "21\n",
      "22\n",
      "23\n",
      "24\n",
      "25\n",
      "26\n",
      "27\n",
      "28\n",
      "29\n",
      "30\n",
      "31\n",
      "32\n",
      "33\n",
      "34\n",
      "35\n",
      "36\n",
      "37\n",
      "38\n",
      "39\n",
      "40\n",
      "41\n",
      "42\n",
      "43\n",
      "44\n",
      "45\n",
      "46\n",
      "47\n",
      "48\n",
      "49\n",
      "50\n",
      "51\n",
      "52\n",
      "53\n",
      "54\n",
      "55\n",
      "56\n",
      "57\n",
      "58\n",
      "59\n",
      "60\n",
      "61\n",
      "62\n",
      "63\n",
      "64\n",
      "65\n",
      "66\n",
      "67\n",
      "68\n",
      "69\n",
      "70\n",
      "71\n",
      "72\n",
      "73\n",
      "74\n",
      "75\n",
      "76\n",
      "77\n",
      "78\n",
      "79\n",
      "80\n",
      "81\n",
      "82\n",
      "83\n",
      "84\n",
      "85\n",
      "86\n",
      "87\n",
      "88\n",
      "89\n",
      "90\n",
      "91\n"
     ]
    }
   ],
   "source": []
  },
  {
   "cell_type": "code",
   "execution_count": 81,
   "metadata": {
    "ExecuteTime": {
     "end_time": "2022-01-19T17:23:01.608733Z",
     "start_time": "2022-01-19T17:23:01.605081Z"
    }
   },
   "outputs": [
    {
     "data": {
      "text/plain": [
       "59"
      ]
     },
     "execution_count": 81,
     "metadata": {},
     "output_type": "execute_result"
    }
   ],
   "source": [
    "pos_kmer"
   ]
  },
  {
   "cell_type": "code",
   "execution_count": 74,
   "metadata": {
    "ExecuteTime": {
     "end_time": "2022-01-19T17:21:47.998719Z",
     "start_time": "2022-01-19T17:21:47.995436Z"
    }
   },
   "outputs": [
    {
     "data": {
      "text/plain": [
       "9"
      ]
     },
     "execution_count": 74,
     "metadata": {},
     "output_type": "execute_result"
    }
   ],
   "source": [
    "len(pep_seq[start_pos : start_pos + kmer_len ] )"
   ]
  },
  {
   "cell_type": "code",
   "execution_count": null,
   "metadata": {},
   "outputs": [],
   "source": []
  }
 ],
 "metadata": {
  "kernelspec": {
   "display_name": "myimmuno3_light",
   "language": "python",
   "name": "myimmuno3_light"
  },
  "language_info": {
   "codemirror_mode": {
    "name": "ipython",
    "version": 3
   },
   "file_extension": ".py",
   "mimetype": "text/x-python",
   "name": "python",
   "nbconvert_exporter": "python",
   "pygments_lexer": "ipython3",
   "version": "3.8.5"
  }
 },
 "nbformat": 4,
 "nbformat_minor": 4
}
