{
 "cells": [
  {
   "cell_type": "code",
   "execution_count": 67,
   "metadata": {
    "ExecuteTime": {
     "end_time": "2021-03-26T12:13:33.231343Z",
     "start_time": "2021-03-26T12:13:33.227217Z"
    }
   },
   "outputs": [],
   "source": [
    "import pandas as pd \n",
    "import h5py \n",
    "import numpy as np \n",
    "import logging "
   ]
  },
  {
   "cell_type": "code",
   "execution_count": 3,
   "metadata": {
    "ExecuteTime": {
     "end_time": "2021-03-26T10:14:26.875108Z",
     "start_time": "2021-03-26T10:14:26.871190Z"
    }
   },
   "outputs": [],
   "source": [
    "counts_genes_GTEX2019 = '/cluster/work/grlab/projects/GTEx/rna/results/splicing/spladder/genes_graph_conf2.merge_graphs.count.gene_expression.hdf5'\n",
    "count_genes_GTEX2017 = '/cluster/work/grlab/projects/TCGA/PanCancer/rerun2018_alt_splice_GTEx/spladder/genes_graph_conf2.merge_graphs.validated.count.gene_expression.hdf5'"
   ]
  },
  {
   "cell_type": "code",
   "execution_count": 4,
   "metadata": {
    "ExecuteTime": {
     "end_time": "2021-03-26T10:14:27.103362Z",
     "start_time": "2021-03-26T10:14:27.099599Z"
    }
   },
   "outputs": [],
   "source": [
    "coding_genes_GTEX2017_annotv19 = '/cluster/work/grlab/projects/TCGA/PanCanAtlas/immunopepper_paper/peptides_ccell_rerun_gtex_151220/coding_genes_nocap_GTEX2017'\n",
    "coding_genes_GTEX2019_annotv30 = '/cluster/work/grlab/projects/projects2020_OHSU/gene_lists/genes_coding_gencode_v30.txt'\n",
    "coding_genes_GTEX2019_annotV32_intersectV30 = '/cluster/work/grlab/projects/projects2020_OHSU/gene_lists/genes_coding_gencode_v32_inter_v30.txt'"
   ]
  },
  {
   "cell_type": "code",
   "execution_count": 10,
   "metadata": {
    "ExecuteTime": {
     "end_time": "2021-03-26T10:20:07.798365Z",
     "start_time": "2021-03-26T10:20:07.794027Z"
    }
   },
   "outputs": [],
   "source": [
    "\n"
   ]
  },
  {
   "cell_type": "code",
   "execution_count": 26,
   "metadata": {
    "ExecuteTime": {
     "end_time": "2021-03-26T10:36:04.499280Z",
     "start_time": "2021-03-26T10:36:04.466216Z"
    }
   },
   "outputs": [],
   "source": [
    "path_expr = counts_genes_GTEX2019\n",
    "path_gene_list = coding_genes_GTEX2019_annotV32_intersectV30\n",
    "path_save = '/cluster/work/grlab/projects/TCGA/PanCanAtlas/immunopepper_paper/peptides_ccell_rerun_gtex_151220/GTEX2017_commit_1fc5828_pya.0.17.1_ref'\n",
    "tag = \".coding_gencode_v32_inter_v30.txt\"\n",
    "path_save = 'expression_counts.libsize{}.tsv'.format(tag)\n",
    "percentile = 75 \n",
    "h5_gene_expr = h5py.File(open(path_expr, 'rb'))\n",
    "coding_list = pd.read_csv(path_gene_list, header = None, names = ['genes'])"
   ]
  },
  {
   "cell_type": "code",
   "execution_count": 57,
   "metadata": {
    "ExecuteTime": {
     "end_time": "2021-03-26T11:05:01.622779Z",
     "start_time": "2021-03-26T11:05:01.551110Z"
    }
   },
   "outputs": [],
   "source": [
    "h5_coding_mx = [list(h5_gene_expr[\"raw_count\"][gene_id, 1:10])\n",
    "                  for gene_id, gene_name in enumerate(h5_gene_expr['gene_ids'][1:100]) \n",
    "                  if gene_name.decode() in coding_list['genes'].values] "
   ]
  },
  {
   "cell_type": "code",
   "execution_count": 64,
   "metadata": {
    "ExecuteTime": {
     "end_time": "2021-03-26T11:07:19.998402Z",
     "start_time": "2021-03-26T11:07:19.985409Z"
    }
   },
   "outputs": [],
   "source": [
    "h5_coding_mx = np.array(h5_coding_mx)\n",
    "#assert(h5_coding_mx.shape[0] == coding_list.shape[0])\n",
    "sample_names = [strain.decode() for strain in h5_gene_expr['strains'][1:10]]\n",
    "libsize_count= pd.DataFrame({'sample': sample_names ,\n",
    "                                 'libsize_75percent': np.percentile(h5_coding_mx, percentile, axis = 0 )})"
   ]
  },
  {
   "cell_type": "code",
   "execution_count": null,
   "metadata": {},
   "outputs": [],
   "source": [
    "def compute_library_size(path_expr, path_gene_list, path_save, percentile ):\n",
    "    logging.info(\"Path of graph with gene expressions:  {}\".format(path_expr))\n",
    "    h5_gene_expr = h5py.File(open(path_expr, 'rb'))\n",
    "    coding_list = pd.read_csv(path_gene_list, header = None, names = ['genes'])\n",
    "    logging.info(\"Querying coding genes\")\n",
    "    h5_coding_mx = [list(h5_gene_expr[\"raw_count\"][gene_id, :])\n",
    "                  for gene_id, gene_name in enumerate(h5_gene_expr['gene_ids']) \n",
    "                  if gene_name.decode() in coding_list['genes'].values] \n",
    "    h5_coding_mx = np.array(h5_coding_mx)\n",
    "    logging.info(\"Shape of coding matrix is: {}\".format(h5_coding_mx.shape))\n",
    "    logging.info(\"Number of coding genes is: {}\".format(coding_list.shape))\n",
    "    sample_names = [strain.decode() for strain in h5_gene_expr['strains']]\n",
    "    logging.info(\"Computing library percentiles\")\n",
    "    libsize_count = pd.DataFrame({'sample': sample_names,\n",
    "                                 'libsize_75percent': np.percentile(h5_coding_mx, percentile, axis = 0 )})\n",
    "    logging.info(\"Saving\")\n",
    "    libsize_count.to_csv(path_save, index = None, sep = '\\t')"
   ]
  },
  {
   "cell_type": "code",
   "execution_count": null,
   "metadata": {},
   "outputs": [],
   "source": []
  }
 ],
 "metadata": {
  "kernelspec": {
   "display_name": "myimmuno3_light",
   "language": "python",
   "name": "myimmuno3_light"
  },
  "language_info": {
   "codemirror_mode": {
    "name": "ipython",
    "version": 3
   },
   "file_extension": ".py",
   "mimetype": "text/x-python",
   "name": "python",
   "nbconvert_exporter": "python",
   "pygments_lexer": "ipython3",
   "version": "3.8.5"
  }
 },
 "nbformat": 4,
 "nbformat_minor": 4
}
