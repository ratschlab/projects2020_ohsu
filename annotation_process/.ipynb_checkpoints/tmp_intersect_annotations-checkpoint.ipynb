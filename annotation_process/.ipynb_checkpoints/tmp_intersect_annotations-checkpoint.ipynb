{
 "cells": [
  {
   "cell_type": "code",
   "execution_count": 7,
   "metadata": {
    "ExecuteTime": {
     "end_time": "2021-03-29T12:38:24.061112Z",
     "start_time": "2021-03-29T12:38:24.058196Z"
    }
   },
   "outputs": [],
   "source": [
    "import pandas as pd\n",
    "import os "
   ]
  },
  {
   "cell_type": "code",
   "execution_count": 8,
   "metadata": {
    "ExecuteTime": {
     "end_time": "2021-03-29T12:38:24.318313Z",
     "start_time": "2021-03-29T12:38:24.315618Z"
    }
   },
   "outputs": [],
   "source": [
    "v30 = '/cluster/work/grlab/projects/GTEx/annotation/gencode.v30.annotation.gtf'\n",
    "v32 = '/cluster/work/grlab/projects/projects2020_OHSU//annotation/gencode.v32.annotation.gtf'\n",
    "outpath = '/cluster/work/grlab/projects/projects2020_OHSU/gene_lists'"
   ]
  },
  {
   "cell_type": "markdown",
   "metadata": {},
   "source": [
    "## Functions for analysis "
   ]
  },
  {
   "cell_type": "code",
   "execution_count": 9,
   "metadata": {
    "ExecuteTime": {
     "end_time": "2021-03-29T12:38:24.798608Z",
     "start_time": "2021-03-29T12:38:24.794658Z"
    }
   },
   "outputs": [],
   "source": [
    "def append_non_duplic(gene_to_transcript_dict, gene_id, transcript_id):\n",
    "    if gene_id in gene_to_transcript_dict and transcript_id not in gene_to_transcript_dict[gene_id]:\n",
    "        gene_to_transcript_dict[gene_id].append(transcript_id)\n",
    "    else:\n",
    "        gene_to_transcript_dict[gene_id] = [transcript_id]"
   ]
  },
  {
   "cell_type": "code",
   "execution_count": 10,
   "metadata": {
    "ExecuteTime": {
     "end_time": "2021-03-29T12:38:25.040123Z",
     "start_time": "2021-03-29T12:38:25.028127Z"
    }
   },
   "outputs": [],
   "source": [
    "def process_anno(ann_path):\n",
    "    transcript_to_gene_dict = {}    # transcript -> gene id\n",
    "    gene_to_transcript_dict = {}    # gene_id -> list of transcripts\n",
    "    transcript_to_cds_dict = {}     # transcript -> list of CDS exons\n",
    "    transcript_cds_begin_dict = {}  # transcript -> first exon of the CDS\n",
    "    gene_cds_begin_dict = {}        # gene -> list of first CDS exons\n",
    "\n",
    "    file_type = ann_path.split('.')[-1]\n",
    "    chromesome_set = set()\n",
    "    # collect information from annotation file\n",
    "    for line in open(ann_path, 'r'):\n",
    "        if line[0] == '#':\n",
    "            continue\n",
    "        item = line.strip().split('\\t')\n",
    "        chromesome_set.add(item[0])\n",
    "        feature_type = item[2]\n",
    "        attribute_item = item[-1]\n",
    "        attribute_dict = attribute_item_to_dict(attribute_item, file_type, feature_type)\n",
    "        # store relationship between gene ID and its transcript IDs\n",
    "        if feature_type in ['transcript', 'mRNA']:\n",
    "            gene_id = attribute_dict['gene_id']\n",
    "            transcript_id = attribute_dict['transcript_id']\n",
    "            if attribute_dict['gene_type'] != 'protein_coding' or attribute_dict['transcript_type']  != 'protein_coding':\n",
    "                continue\n",
    "            assert (transcript_id not in transcript_to_gene_dict)\n",
    "            transcript_to_gene_dict[transcript_id] = gene_id\n",
    "            if gene_id in gene_to_transcript_dict and transcript_id not in gene_to_transcript_dict[gene_id]:\n",
    "                gene_to_transcript_dict[gene_id].append(transcript_id)\n",
    "            else:\n",
    "                gene_to_transcript_dict[gene_id] = [transcript_id]\n",
    "       # Todo python is 0-based while gene annotation file(.gtf, .vcf, .maf) is one based\n",
    "        elif feature_type == \"CDS\":\n",
    "            parent_ts = attribute_dict['transcript_id']\n",
    "            strand_mode = item[6]\n",
    "            cds_left = int(item[3])-1\n",
    "            cds_right = int(item[4])\n",
    "            frameshift = int(item[7])\n",
    "            if parent_ts in transcript_to_cds_dict:\n",
    "                transcript_to_cds_dict[parent_ts].append((cds_left, cds_right, frameshift))\n",
    "            else:\n",
    "                transcript_to_cds_dict[parent_ts] = [(cds_left, cds_right, frameshift)]\n",
    "            if strand_mode == \"+\" :\n",
    "                cds_start, cds_stop = cds_left, cds_right\n",
    "            else:\n",
    "                cds_start, cds_stop = cds_right, cds_left\n",
    "\n",
    "            # we only consider the start of the whole CoDing Segment\n",
    "            if parent_ts not in transcript_cds_begin_dict or \\\n",
    "               leq_strand(cds_start, transcript_cds_begin_dict[parent_ts][0], strand_mode):\n",
    "                transcript_cds_begin_dict[parent_ts] = (cds_start, cds_stop, item)\n",
    "\n",
    "    # collect first CDS exons for all transcripts of a gene\n",
    "    for ts_key in transcript_to_gene_dict:\n",
    "\n",
    "        target_gene = transcript_to_gene_dict[ts_key]\n",
    "        if target_gene not in gene_cds_begin_dict:\n",
    "            gene_cds_begin_dict[target_gene] = []\n",
    "        if ts_key in transcript_cds_begin_dict:\n",
    "            gene_cds_begin_dict[target_gene].append(transcript_cds_begin_dict[ts_key])\n",
    "\n",
    "    # sort list of CDS exons per transcript\n",
    "    for ts_key in transcript_to_cds_dict:\n",
    "        transcript_to_cds_dict[ts_key] = sorted(transcript_to_cds_dict[ts_key], key=lambda coordpair: coordpair[0])\n",
    "\n",
    "    return transcript_to_gene_dict, gene_to_transcript_dict, transcript_to_cds_dict, transcript_cds_begin_dict, gene_cds_begin_dict"
   ]
  },
  {
   "cell_type": "code",
   "execution_count": 11,
   "metadata": {
    "ExecuteTime": {
     "end_time": "2021-03-29T12:38:25.253658Z",
     "start_time": "2021-03-29T12:38:25.247992Z"
    }
   },
   "outputs": [],
   "source": [
    "def attribute_item_to_dict(a_item, file_type, feature_type):\n",
    "    \"\"\"  From attribute item in annotation file to get corresponding dictionary\n",
    "\n",
    "    Parameters\n",
    "    ----------\n",
    "    a_item: str. attribute item\n",
    "    file_type: str. Choose from {'gtf', 'gff', 'gff3'}\n",
    "    feature_type: str. Extract other fields. We only\n",
    "        consider 'CDS', 'mRNA' and 'transcript'\n",
    "\n",
    "    Returns\n",
    "    -------\n",
    "    gtf_dict: dict. store all the necessary data\n",
    "\n",
    "    \"\"\"\n",
    "    gtf_dict = {}\n",
    "    if file_type.lower() == 'gtf':\n",
    "        attribute_list = a_item.split('; ')\n",
    "        for attribute_pair in attribute_list:\n",
    "            pair = attribute_pair.split(' ')\n",
    "            gtf_dict[pair[0]] = pair[1][1:-1]\n",
    "    elif file_type.lower() == 'gff3':\n",
    "        attribute_list = a_item.split(';')\n",
    "        for attribute_pair in attribute_list:\n",
    "            pair = attribute_pair.split('=')\n",
    "            gtf_dict[pair[0]] = pair[1]\n",
    "    elif file_type.lower() == 'gff':\n",
    "        gff_dict = {}\n",
    "        attribute_list = a_item.split(';')\n",
    "        for attribute_pair in attribute_list:\n",
    "            pair = attribute_pair.split('=')\n",
    "            gff_dict[pair[0]] = pair[1]  # delete \"\", currently now work on level 2\n",
    "        if feature_type == 'CDS':\n",
    "            gtf_dict['transcript_id'] = gff_dict['Parent']\n",
    "        elif feature_type in {'mRNA', 'transcript'}:  # mRNA or transcript\n",
    "            gtf_dict['gene_id'] = gff_dict['geneID']\n",
    "            gtf_dict['transcript_id'] = gff_dict['ID']\n",
    "            gtf_dict['gene_type'] = gff_dict['gene_type']\n",
    "            gtf_dict['transcript_type'] = gff_dict['transcript_type']\n",
    "\n",
    "    return gtf_dict\n",
    "\n"
   ]
  },
  {
   "cell_type": "code",
   "execution_count": 12,
   "metadata": {
    "ExecuteTime": {
     "end_time": "2021-03-29T12:38:25.696963Z",
     "start_time": "2021-03-29T12:38:25.693584Z"
    }
   },
   "outputs": [],
   "source": [
    "def leq_strand(coord1, coord2, strand):\n",
    "    if strand == \"+\":\n",
    "        return coord1 <= coord2\n",
    "    else:\n",
    "        return coord1 >= coord2"
   ]
  },
  {
   "cell_type": "code",
   "execution_count": 13,
   "metadata": {
    "ExecuteTime": {
     "end_time": "2021-03-29T12:38:50.384085Z",
     "start_time": "2021-03-29T12:38:26.224408Z"
    }
   },
   "outputs": [],
   "source": [
    "transcript_to_gene_dict30, gene_to_transcript_dict30, \\\n",
    "transcript_to_cds_dict30, transcript_cds_begin_dict30, gene_cds_begin_dict30 = process_anno(v30)"
   ]
  },
  {
   "cell_type": "code",
   "execution_count": 14,
   "metadata": {
    "ExecuteTime": {
     "end_time": "2021-03-29T12:39:17.645993Z",
     "start_time": "2021-03-29T12:38:50.437426Z"
    }
   },
   "outputs": [],
   "source": [
    "transcript_to_gene_dict32, gene_to_transcript_dict32, transcript_to_cds_dict32, \\\n",
    "transcript_cds_begin_dict32, gene_cds_begin_dict32 = process_anno(v32)"
   ]
  },
  {
   "cell_type": "code",
   "execution_count": 22,
   "metadata": {
    "ExecuteTime": {
     "end_time": "2021-03-29T13:19:51.678167Z",
     "start_time": "2021-03-29T13:19:51.670807Z"
    }
   },
   "outputs": [],
   "source": [
    "def compare_(input_a, input_b, label_a, label_b, base_name=False, print_diff=False):\n",
    "    if base_name:\n",
    "        input_a_wo_version = [ name.split('.')[0] for name in input_a]\n",
    "        input_b_wo_version = [ name.split('.')[0] for name in input_b]\n",
    "        a = set(input_a_wo_version)\n",
    "        b = set(input_b_wo_version)\n",
    "    \n",
    "    else: \n",
    "        a = set(input_a)\n",
    "        b = set(input_b)\n",
    "\n",
    "    print(label_a)\n",
    "    print(len(a))\n",
    "    print('\\n')\n",
    "    print(label_b)\n",
    "    print(len(b))\n",
    "    print('\\n')\n",
    "    print(\"{} - {}\".format(label_a, label_b))\n",
    "    print(len(a.difference(b)))\n",
    "    if print_diff:\n",
    "        print(a.difference(b))\n",
    "    print('\\n')\n",
    "    print(\"{} - {}\".format(label_b, label_a))\n",
    "    print(len(b.difference(a)))\n",
    "    if print_diff:\n",
    "        print(b.difference(a))\n",
    "    print('\\n')\n",
    "    print(\"{} and {}\".format(label_b, label_a))\n",
    "    print(len(a.intersection(b)))\n",
    "    return a.intersection(b)"
   ]
  },
  {
   "cell_type": "markdown",
   "metadata": {},
   "source": [
    "## Compare"
   ]
  },
  {
   "cell_type": "code",
   "execution_count": 34,
   "metadata": {
    "ExecuteTime": {
     "end_time": "2021-03-29T14:33:03.554808Z",
     "start_time": "2021-03-29T14:33:03.549306Z"
    }
   },
   "outputs": [
    {
     "name": "stdout",
     "output_type": "stream",
     "text": [
      "transcript_to_gene_dict\n",
      "83645 83942\n",
      "gene_to_transcript_dict\n",
      "19718 19697\n",
      "transcript_to_cds_dict\n",
      "99808 100369\n",
      "transcript_cds_begin_dict\n",
      "99808 100369\n",
      "gene_cds_begin_dict\n",
      "19718 19697\n"
     ]
    }
   ],
   "source": [
    "print(\"transcript_to_gene_dict\")\n",
    "print(len(transcript_to_gene_dict30), len(transcript_to_gene_dict32))\n",
    "print(\"gene_to_transcript_dict\")\n",
    "print(len(gene_to_transcript_dict30), len(gene_to_transcript_dict32))\n",
    "print(\"transcript_to_cds_dict\")\n",
    "print(len(transcript_to_cds_dict30), len(transcript_to_cds_dict32))\n",
    "print(\"transcript_cds_begin_dict\")\n",
    "print(len(transcript_cds_begin_dict30), len(transcript_cds_begin_dict32))\n",
    "print(\"gene_cds_begin_dict\")\n",
    "print(len(gene_cds_begin_dict30), len(gene_cds_begin_dict32))"
   ]
  },
  {
   "cell_type": "code",
   "execution_count": 53,
   "metadata": {
    "ExecuteTime": {
     "end_time": "2021-03-29T15:08:13.768097Z",
     "start_time": "2021-03-29T15:08:13.765876Z"
    }
   },
   "outputs": [],
   "source": [
    "# input_a = gene_cds_begin_dict30.keys()\n",
    "# input_b = gene_cds_begin_dict32.keys()\n",
    "# label_a = \"v30\"\n",
    "# label_b = \"v32\"\n",
    "# intersect = compare_ (input_a, input_b, label_a, label_b, base_name=True, print_diff=True)"
   ]
  },
  {
   "cell_type": "code",
   "execution_count": 54,
   "metadata": {
    "ExecuteTime": {
     "end_time": "2021-03-29T15:08:17.407220Z",
     "start_time": "2021-03-29T15:08:17.404363Z"
    }
   },
   "outputs": [],
   "source": [
    "# input_a = gene_to_transcript_dict30.keys()\n",
    "# input_b = gene_to_transcript_dict32.keys()\n",
    "# label_a = \"v30\"\n",
    "# label_b = \"v32\"\n",
    "# intersect = compare_ (input_a, input_b, label_a, label_b)"
   ]
  },
  {
   "cell_type": "code",
   "execution_count": 55,
   "metadata": {
    "ExecuteTime": {
     "end_time": "2021-03-29T15:08:20.182512Z",
     "start_time": "2021-03-29T15:08:20.180478Z"
    }
   },
   "outputs": [],
   "source": [
    "# input_a = gene_to_transcript_dict30.keys()\n",
    "# input_b = gene_cds_begin_dict30.keys()\n",
    "# label_a = \"gene_to_transcript_dict30\"\n",
    "# label_b = \"gene_cds_begin_dict30\"\n",
    "# intersect = compare_ (input_a, input_b, label_a, label_b)"
   ]
  },
  {
   "cell_type": "code",
   "execution_count": 56,
   "metadata": {
    "ExecuteTime": {
     "end_time": "2021-03-29T15:08:24.638501Z",
     "start_time": "2021-03-29T15:08:24.636291Z"
    }
   },
   "outputs": [],
   "source": [
    "# input_a = transcript_to_gene_dict30.keys()\n",
    "# input_b = transcript_cds_begin_dict30.keys()\n",
    "# label_a = \"transcript_to_gene_dict30\"\n",
    "# label_b = \"transcript_cds_begin_dict30\"\n",
    "# intersect = compare_ (input_a, input_b, label_a, label_b)"
   ]
  },
  {
   "cell_type": "markdown",
   "metadata": {},
   "source": [
    "## Test the different names "
   ]
  },
  {
   "cell_type": "markdown",
   "metadata": {},
   "source": [
    "## Save "
   ]
  },
  {
   "cell_type": "code",
   "execution_count": 40,
   "metadata": {
    "ExecuteTime": {
     "end_time": "2021-03-29T14:53:24.518358Z",
     "start_time": "2021-03-29T14:53:24.212207Z"
    }
   },
   "outputs": [
    {
     "name": "stdout",
     "output_type": "stream",
     "text": [
      "v30\n",
      "19700\n",
      "\n",
      "\n",
      "v32\n",
      "19679\n",
      "\n",
      "\n",
      "v30 - v32\n",
      "46\n",
      "\n",
      "\n",
      "v32 - v30\n",
      "25\n",
      "\n",
      "\n",
      "v32 and v30\n",
      "19654\n",
      "83519\n",
      "83843\n"
     ]
    }
   ],
   "source": [
    "input_a = gene_cds_begin_dict30.keys()\n",
    "input_b = gene_cds_begin_dict32.keys()\n",
    "label_a = \"v30\"\n",
    "label_b = \"v32\"\n",
    "intersect_wo_version = compare_(input_a, input_b, label_a, label_b, base_name=True, print_diff=False)\n",
    "df = pd.DataFrame(intersect_wo_version)\n",
    "df.to_csv(os.path.join(outpath, 'genes_coding_gencode_v32_inter_v30_wo_version.txt'), \\\n",
    "                     index = None, header = False)\n",
    "\n",
    "gene_to_transcript_dict30_noversion = {}\n",
    "gene_to_transcript_dict32_noversion = {}\n",
    "\n",
    "for key, item in gene_to_transcript_dict30.items():\n",
    "    gene_to_transcript_dict30_noversion[key.split('.')[0]] = item\n",
    "for key, item in gene_to_transcript_dict32.items():\n",
    "    gene_to_transcript_dict32_noversion[key.split('.')[0]] = item\n",
    "gtt30 = [gene_to_transcript_dict30_noversion[gene] for gene in intersect_wo_version]\n",
    "gtt32 = [gene_to_transcript_dict32_noversion[gene] for gene in intersect_wo_version]\n",
    "gtt30 = [item for sublist in gtt30 for item in sublist]\n",
    "gtt32 = [item for sublist in gtt32 for item in sublist]\n",
    "print(len(gtt30))\n",
    "print(len(gtt32))\n",
    "df = pd.DataFrame(gtt32)\n",
    "df.to_csv(os.path.join(outpath, 'transcripts_withcds_gencode_v32_inter_v30_wo_version.txt'), \\\n",
    "                     index = None, header = False)\n",
    "\n",
    "df = pd.DataFrame(gene_cds_begin_dict30.keys())\n",
    "df.to_csv(os.path.join(outpath, 'genes_coding_gencode_v30.txt'), \\\n",
    "                     index = None, header = False)"
   ]
  },
  {
   "cell_type": "code",
   "execution_count": 86,
   "metadata": {
    "ExecuteTime": {
     "end_time": "2021-03-25T16:17:41.279523Z",
     "start_time": "2021-03-25T16:17:41.197922Z"
    }
   },
   "outputs": [],
   "source": [
    "df = pd.DataFrame(gene_cds_begin_dict30.keys())\n",
    "df.to_csv(os.path.join(outpath, 'genes_coding_gencode_v30.txt'), \\\n",
    "                     index = None, header = False)"
   ]
  },
  {
   "cell_type": "code",
   "execution_count": 87,
   "metadata": {
    "ExecuteTime": {
     "end_time": "2021-03-25T16:17:41.725500Z",
     "start_time": "2021-03-25T16:17:41.684340Z"
    }
   },
   "outputs": [],
   "source": [
    "df = pd.DataFrame(gene_cds_begin_dict32.keys())\n",
    "df.to_csv(os.path.join(outpath, 'genes_coding_gencode_v32.txt'), \\\n",
    "                     index = None, header = False)"
   ]
  },
  {
   "cell_type": "code",
   "execution_count": 89,
   "metadata": {
    "ExecuteTime": {
     "end_time": "2021-03-25T16:19:43.239194Z",
     "start_time": "2021-03-25T16:19:43.071507Z"
    }
   },
   "outputs": [],
   "source": [
    "df = pd.DataFrame(transcript_to_cds_dict30.keys())\n",
    "df.to_csv(os.path.join(outpath, 'transcript_cds_gencode_v30.txt'), \\\n",
    "                     index = None, header = False)"
   ]
  },
  {
   "cell_type": "code",
   "execution_count": 90,
   "metadata": {
    "ExecuteTime": {
     "end_time": "2021-03-25T16:19:57.307157Z",
     "start_time": "2021-03-25T16:19:56.336069Z"
    }
   },
   "outputs": [],
   "source": [
    "df = pd.DataFrame(transcript_to_cds_dict32.keys())\n",
    "df.to_csv(os.path.join(outpath, 'transcript_cds_gencode_v32.txt'), \\\n",
    "                     index = None, header = False)"
   ]
  },
  {
   "cell_type": "code",
   "execution_count": 93,
   "metadata": {
    "ExecuteTime": {
     "end_time": "2021-03-25T16:31:05.401747Z",
     "start_time": "2021-03-25T16:31:05.294120Z"
    },
    "collapsed": true
   },
   "outputs": [
    {
     "name": "stdout",
     "output_type": "stream",
     "text": [
      "v30\n",
      "19718\n",
      "\n",
      "\n",
      "v32\n",
      "19697\n",
      "\n",
      "\n",
      "v30 - v32\n",
      "2873\n",
      "\n",
      "\n",
      "v32 - v30\n",
      "2852\n",
      "\n",
      "\n",
      "v32 and v30\n",
      "16845\n"
     ]
    }
   ],
   "source": [
    "input_a = gene_cds_begin_dict30.keys()\n",
    "input_b = gene_cds_begin_dict32.keys()\n",
    "label_a = \"v30\"\n",
    "label_b = \"v32\"\n",
    "gene_intersect = compare_ (input_a, input_b, label_a, label_b)\n",
    "\n",
    "df = pd.DataFrame(gene_intersect)\n",
    "df.to_csv(os.path.join(outpath, 'genes_coding_gencode_v32_inter_v30.txt'), \\\n",
    "                     index = None, header = False)\n",
    "\n",
    "gtt30 = [gene_to_transcript_dict30[gene] for gene in gene_intersect]\n",
    "gtt32 = [gene_to_transcript_dict32[gene] for gene in gene_intersect]\n",
    "gtt30 = [item for sublist in gtt30 for item in sublist]\n",
    "gtt32 = [item for sublist in gtt32 for item in sublist]\n",
    "print(len(gtt30))\n",
    "print(len(gtt32))\n",
    "df = pd.DataFrame(gtt32)\n",
    "df.to_csv(os.path.join(outpath, 'transcripts_withcds_gencode_v32_inter_v30.txt'), \\\n",
    "                     index = None, header = False)"
   ]
  },
  {
   "cell_type": "code",
   "execution_count": null,
   "metadata": {},
   "outputs": [],
   "source": [
    "intersect for annotation cds and reading frame different "
   ]
  },
  {
   "cell_type": "code",
   "execution_count": 51,
   "metadata": {
    "ExecuteTime": {
     "end_time": "2021-03-29T15:07:12.306361Z",
     "start_time": "2021-03-29T15:07:05.969839Z"
    }
   },
   "outputs": [
    {
     "name": "stdout",
     "output_type": "stream",
     "text": [
      "v30\n",
      "19700\n",
      "\n",
      "\n",
      "v32\n",
      "19679\n",
      "\n",
      "\n",
      "v30 - v32\n",
      "46\n",
      "\n",
      "\n",
      "v32 - v30\n",
      "25\n",
      "\n",
      "\n",
      "v32 and v30\n",
      "19654\n",
      "v30\n",
      "19718\n",
      "\n",
      "\n",
      "v32\n",
      "19697\n",
      "\n",
      "\n",
      "v30 - v32\n",
      "2873\n",
      "\n",
      "\n",
      "v32 - v30\n",
      "2852\n",
      "\n",
      "\n",
      "v32 and v30\n",
      "16845\n",
      "missing genes due to version naming\n",
      "2823\n",
      "missing genes due to version naming, mapped back to v32\n",
      "2827\n"
     ]
    }
   ],
   "source": [
    "# Delta genes due to version taken into account for immunopepper\n",
    "\n",
    "print(\"intersection without version tag\")\n",
    "input_a = gene_cds_begin_dict30.keys()\n",
    "input_b = gene_cds_begin_dict32.keys()\n",
    "label_a = \"v30\"\n",
    "label_b = \"v32\"\n",
    "intersect_wo_version = compare_(input_a, input_b, label_a, label_b, base_name=True, print_diff=False)\n",
    "df = pd.DataFrame(intersect_wo_version)\n",
    "\n",
    "print(\"intersection with version tag\")\n",
    "input_a = gene_cds_begin_dict30.keys()\n",
    "input_b = gene_cds_begin_dict32.keys()\n",
    "label_a = \"v30\"\n",
    "label_b = \"v32\"\n",
    "intersect_with_version = compare_(input_a, input_b, label_a, label_b, base_name=False, print_diff=False)\n",
    "df = pd.DataFrame(intersect_with_version)\n",
    "\n",
    "core_intersect_with_version  = {}\n",
    "for gene in intersect_with_version:\n",
    "    core_intersect_with_version[gene] = gene.split('.')[0] \n",
    "    core_intersect_with_version_g = set(core_intersect_with_version.values())\n",
    "print('missing genes due to version naming')\n",
    "missing_genes = intersect_wo_version.difference(core_intersect_with_version_g)\n",
    "print(len(missing_genes))\n",
    "\n",
    "print('missing genes due to version naming, mapped back to v32')\n",
    "missing_genes_with_32_tag = []\n",
    "for gene in gene_cds_begin_dict32.keys():\n",
    "    if gene.split('.')[0] in missing_genes:\n",
    "        missing_genes_with_32_tag.append(gene)\n",
    "print(len(missing_genes_with_32_tag))"
   ]
  },
  {
   "cell_type": "markdown",
   "metadata": {},
   "source": [
    "## Prototype get the intersection annotations"
   ]
  },
  {
   "cell_type": "code",
   "execution_count": 121,
   "metadata": {
    "ExecuteTime": {
     "end_time": "2021-03-25T17:36:54.114585Z",
     "start_time": "2021-03-25T17:04:06.824619Z"
    }
   },
   "outputs": [
    {
     "ename": "KeyboardInterrupt",
     "evalue": "",
     "output_type": "error",
     "traceback": [
      "\u001b[0;31m---------------------------------------------------------------------------\u001b[0m",
      "\u001b[0;31mKeyboardInterrupt\u001b[0m                         Traceback (most recent call last)",
      "\u001b[0;32m<ipython-input-121-43b5ba5d2226>\u001b[0m in \u001b[0;36m<module>\u001b[0;34m\u001b[0m\n\u001b[1;32m     13\u001b[0m \u001b[0;34m\u001b[0m\u001b[0m\n\u001b[1;32m     14\u001b[0m         \u001b[0mgene\u001b[0m \u001b[0;34m=\u001b[0m \u001b[0mline\u001b[0m\u001b[0;34m.\u001b[0m\u001b[0mstrip\u001b[0m\u001b[0;34m(\u001b[0m\u001b[0;34m)\u001b[0m\u001b[0;34m.\u001b[0m\u001b[0msplit\u001b[0m\u001b[0;34m(\u001b[0m\u001b[0;34m'\\t'\u001b[0m\u001b[0;34m)\u001b[0m\u001b[0;34m[\u001b[0m\u001b[0;36m8\u001b[0m\u001b[0;34m]\u001b[0m\u001b[0;34m.\u001b[0m\u001b[0msplit\u001b[0m\u001b[0;34m(\u001b[0m\u001b[0;34m';'\u001b[0m\u001b[0;34m)\u001b[0m\u001b[0;34m[\u001b[0m\u001b[0;36m0\u001b[0m\u001b[0;34m]\u001b[0m\u001b[0;34m.\u001b[0m\u001b[0msplit\u001b[0m\u001b[0;34m(\u001b[0m\u001b[0;34m'\"'\u001b[0m\u001b[0;34m)\u001b[0m\u001b[0;34m[\u001b[0m\u001b[0;36m1\u001b[0m\u001b[0;34m]\u001b[0m\u001b[0;34m\u001b[0m\u001b[0;34m\u001b[0m\u001b[0m\n\u001b[0;32m---> 15\u001b[0;31m         \u001b[0;32mif\u001b[0m \u001b[0mgene\u001b[0m \u001b[0;32mnot\u001b[0m \u001b[0;32min\u001b[0m \u001b[0mgenes_accepted\u001b[0m\u001b[0;34m:\u001b[0m\u001b[0;34m\u001b[0m\u001b[0;34m\u001b[0m\u001b[0m\n\u001b[0m\u001b[1;32m     16\u001b[0m             \u001b[0mskipped\u001b[0m \u001b[0;34m+=\u001b[0m\u001b[0;36m1\u001b[0m\u001b[0;34m\u001b[0m\u001b[0;34m\u001b[0m\u001b[0m\n\u001b[1;32m     17\u001b[0m             \u001b[0;32mcontinue\u001b[0m\u001b[0;34m\u001b[0m\u001b[0;34m\u001b[0m\u001b[0m\n",
      "\u001b[0;31mKeyboardInterrupt\u001b[0m: "
     ]
    }
   ],
   "source": [
    "v32 = '/cluster/work/grlab/projects/projects2020_OHSU//annotation/gencode.v32.annotation.gtf'\n",
    "genes_30 = '/cluster/work/grlab/projects/projects2020_OHSU/gene_lists/all_genes_gencode_v30.txt'\n",
    "path_custom_annot = '/cluster/work/grlab/projects/projects2020_OHSU/annotation/gencode.v32_IntersectGenesInV30.gtf'\n",
    "genes_accepted = pd.read_csv(genes_30, header = None)[0].values\n",
    "\n",
    "\n",
    "kept = 0 \n",
    "skipped = 0 \n",
    "with open(path_custom_annot, 'w') as fp:\n",
    "    for line in open(v32, 'r'):\n",
    "            if line[0] == '#':\n",
    "                continue\n",
    "\n",
    "            gene = line.strip().split('\\t')[8].split(';')[0].split('\"')[1]\n",
    "            if gene not in genes_accepted:\n",
    "                skipped +=1\n",
    "                continue\n",
    "\n",
    "            fp.write(line)\n",
    "            kept +=1\n",
    "\n",
    "        \n",
    "        \n",
    "        "
   ]
  },
  {
   "cell_type": "code",
   "execution_count": null,
   "metadata": {},
   "outputs": [],
   "source": [
    "fp.close()"
   ]
  },
  {
   "cell_type": "code",
   "execution_count": null,
   "metadata": {},
   "outputs": [],
   "source": []
  }
 ],
 "metadata": {
  "kernelspec": {
   "display_name": "myimmuno3_light",
   "language": "python",
   "name": "myimmuno3_light"
  },
  "language_info": {
   "codemirror_mode": {
    "name": "ipython",
    "version": 3
   },
   "file_extension": ".py",
   "mimetype": "text/x-python",
   "name": "python",
   "nbconvert_exporter": "python",
   "pygments_lexer": "ipython3",
   "version": "3.8.5"
  }
 },
 "nbformat": 4,
 "nbformat_minor": 4
}
