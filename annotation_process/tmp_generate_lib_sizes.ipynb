{
 "cells": [
  {
   "cell_type": "code",
   "execution_count": 1,
   "metadata": {
    "ExecuteTime": {
     "end_time": "2021-04-12T16:35:15.515903Z",
     "start_time": "2021-04-12T16:35:14.968262Z"
    }
   },
   "outputs": [],
   "source": [
    "import os \n",
    "import pandas as pd \n",
    "import h5py \n",
    "import numpy as np \n",
    "import logging "
   ]
  },
  {
   "cell_type": "code",
   "execution_count": 3,
   "metadata": {
    "ExecuteTime": {
     "end_time": "2021-03-26T10:14:26.875108Z",
     "start_time": "2021-03-26T10:14:26.871190Z"
    }
   },
   "outputs": [],
   "source": [
    "# counts_genes_GTEX2019 = '/cluster/work/grlab/projects/GTEx/rna/results/splicing/spladder/genes_graph_conf2.merge_graphs.count.gene_expression.hdf5'\n",
    "# count_genes_GTEX2017 = '/cluster/work/grlab/projects/TCGA/PanCancer/rerun2018_alt_splice_GTEx/spladder/genes_graph_conf2.merge_graphs.validated.count.gene_expression.hdf5'"
   ]
  },
  {
   "cell_type": "code",
   "execution_count": 4,
   "metadata": {
    "ExecuteTime": {
     "end_time": "2021-03-26T10:14:27.103362Z",
     "start_time": "2021-03-26T10:14:27.099599Z"
    }
   },
   "outputs": [],
   "source": [
    "# coding_genes_GTEX2017_annotv19 = '/cluster/work/grlab/projects/TCGA/PanCanAtlas/immunopepper_paper/peptides_ccell_rerun_gtex_151220/coding_genes_nocap_GTEX2017'\n",
    "# coding_genes_GTEX2019_annotv30 = '/cluster/work/grlab/projects/projects2020_OHSU/gene_lists/genes_coding_gencode_v30.txt'\n",
    "# coding_genes_GTEX2019_annotV32_intersectV30 = '/cluster/work/grlab/projects/projects2020_OHSU/gene_lists/genes_coding_gencode_v32_inter_v30.txt'"
   ]
  },
  {
   "cell_type": "code",
   "execution_count": 10,
   "metadata": {
    "ExecuteTime": {
     "end_time": "2021-03-26T10:20:07.798365Z",
     "start_time": "2021-03-26T10:20:07.794027Z"
    }
   },
   "outputs": [],
   "source": [
    "\n"
   ]
  },
  {
   "cell_type": "code",
   "execution_count": 26,
   "metadata": {
    "ExecuteTime": {
     "end_time": "2021-03-26T10:36:04.499280Z",
     "start_time": "2021-03-26T10:36:04.466216Z"
    }
   },
   "outputs": [],
   "source": [
    "# path_expr = counts_genes_GTEX2019\n",
    "# path_gene_list = coding_genes_GTEX2019_annotV32_intersectV30\n",
    "# path_save = '/cluster/work/grlab/projects/TCGA/PanCanAtlas/immunopepper_paper/peptides_ccell_rerun_gtex_151220/GTEX2017_commit_1fc5828_pya.0.17.1_ref'\n",
    "# tag = \".coding_gencode_v32_inter_v30.txt\"\n",
    "# path_save = 'expression_counts.libsize{}.tsv'.format(tag)\n",
    "# percentile = 75 \n",
    "# h5_gene_expr = h5py.File(open(path_expr, 'rb'))\n",
    "# coding_list = pd.read_csv(path_gene_list, header = None, names = ['genes'])"
   ]
  },
  {
   "cell_type": "code",
   "execution_count": 57,
   "metadata": {
    "ExecuteTime": {
     "end_time": "2021-03-26T11:05:01.622779Z",
     "start_time": "2021-03-26T11:05:01.551110Z"
    }
   },
   "outputs": [],
   "source": [
    "# h5_coding_mx = [list(h5_gene_expr[\"raw_count\"][gene_id, 1:10])\n",
    "#                   for gene_id, gene_name in enumerate(h5_gene_expr['gene_ids'][1:100]) \n",
    "#                   if gene_name.decode() in coding_list['genes'].values] "
   ]
  },
  {
   "cell_type": "code",
   "execution_count": 64,
   "metadata": {
    "ExecuteTime": {
     "end_time": "2021-03-26T11:07:19.998402Z",
     "start_time": "2021-03-26T11:07:19.985409Z"
    }
   },
   "outputs": [],
   "source": [
    "h5_coding_mx = np.array(h5_coding_mx)\n",
    "#assert(h5_coding_mx.shape[0] == coding_list.shape[0])\n",
    "sample_names = [strain.decode() for strain in h5_gene_expr['strains'][1:10]]\n",
    "libsize_count= pd.DataFrame({'sample': sample_names ,\n",
    "                                 'libsize_75percent': np.percentile(h5_coding_mx, percentile, axis = 0 )})"
   ]
  },
  {
   "cell_type": "code",
   "execution_count": 3,
   "metadata": {
    "ExecuteTime": {
     "end_time": "2021-04-12T16:35:22.180695Z",
     "start_time": "2021-04-12T16:35:21.995616Z"
    }
   },
   "outputs": [
    {
     "ename": "NameError",
     "evalue": "name 'compute_library_size' is not defined",
     "output_type": "error",
     "traceback": [
      "\u001b[0;31m---------------------------------------------------------------------------\u001b[0m",
      "\u001b[0;31mNameError\u001b[0m                                 Traceback (most recent call last)",
      "\u001b[0;32m<ipython-input-3-910f9c626542>\u001b[0m in \u001b[0;36m<module>\u001b[0;34m\u001b[0m\n\u001b[1;32m      5\u001b[0m \u001b[0mtag\u001b[0m \u001b[0;34m=\u001b[0m \u001b[0;34m\".coding_gencode_v32_inter_v30.txt\"\u001b[0m\u001b[0;34m\u001b[0m\u001b[0;34m\u001b[0m\u001b[0m\n\u001b[1;32m      6\u001b[0m \u001b[0mpath_save\u001b[0m \u001b[0;34m=\u001b[0m \u001b[0;34m'expression_counts.libsize{}.tsv'\u001b[0m\u001b[0;34m.\u001b[0m\u001b[0mformat\u001b[0m\u001b[0;34m(\u001b[0m\u001b[0mtag\u001b[0m\u001b[0;34m)\u001b[0m\u001b[0;34m\u001b[0m\u001b[0;34m\u001b[0m\u001b[0m\n\u001b[0;32m----> 7\u001b[0;31m \u001b[0mcompute_library_size\u001b[0m\u001b[0;34m(\u001b[0m\u001b[0mpath_expr\u001b[0m\u001b[0;34m,\u001b[0m \u001b[0mpath_gene_list\u001b[0m\u001b[0;34m,\u001b[0m \u001b[0mpath_save\u001b[0m\u001b[0;34m,\u001b[0m \u001b[0mpercentile\u001b[0m \u001b[0;34m)\u001b[0m\u001b[0;34m\u001b[0m\u001b[0;34m\u001b[0m\u001b[0m\n\u001b[0m\u001b[1;32m      8\u001b[0m \u001b[0;34m\u001b[0m\u001b[0m\n\u001b[1;32m      9\u001b[0m \u001b[0mpath_expr\u001b[0m \u001b[0;34m=\u001b[0m \u001b[0;34m'/cluster/work/grlab/projects/GTEx/rna/results/splicing/spladder/genes_graph_conf2.merge_graphs.count.gene_expression.hdf5'\u001b[0m\u001b[0;34m\u001b[0m\u001b[0;34m\u001b[0m\u001b[0m\n",
      "\u001b[0;31mNameError\u001b[0m: name 'compute_library_size' is not defined"
     ]
    }
   ],
   "source": []
  },
  {
   "cell_type": "code",
   "execution_count": null,
   "metadata": {
    "ExecuteTime": {
     "start_time": "2021-04-12T16:37:02.509Z"
    }
   },
   "outputs": [],
   "source": [
    "def compute_library_size(path_expr, path_gene_list, path_save, percentile, query_no_version = False ):\n",
    "    logging.info(\"Path of graph with gene expressions:  {}\".format(path_expr))\n",
    "    h5_gene_expr = h5py.File(open(path_expr, 'rb'))\n",
    "    coding_list = pd.read_csv(path_gene_list, header = None, names = ['genes'])\n",
    "    logging.info(\"Querying coding genes\")\n",
    "    if query_no_version: \n",
    "        h5_coding_mx = [list(h5_gene_expr[\"raw_count\"][gene_id, :])\n",
    "                  for gene_id, gene_name in enumerate(h5_gene_expr['gene_ids'])\n",
    "                  if gene_name.decode().split('.')[0] in coding_list['genes'].values]\n",
    "    else:\n",
    "        h5_coding_mx = [list(h5_gene_expr[\"raw_count\"][gene_id, :])\n",
    "                  for gene_id, gene_name in enumerate(h5_gene_expr['gene_ids'])\n",
    "                  if gene_name.decode() in coding_list['genes'].values]\n",
    "    h5_coding_mx = np.array(h5_coding_mx)\n",
    "    logging.info(\"Shape of coding matrix is: {}\".format(h5_coding_mx.shape))\n",
    "    logging.info(\"Number of coding genes is: {}\".format(coding_list.shape))\n",
    "    sample_names = [strain.decode() for strain in h5_gene_expr['strains']]\n",
    "    logging.info(\"Computing library percentiles\")\n",
    "    libsize_count = pd.DataFrame({'sample': sample_names,\n",
    "                                 'libsize_75percent': np.percentile(h5_coding_mx, percentile, axis = 0 )})\n",
    "    logging.info(\"Saving to {}\".format(path_save))\n",
    "    libsize_count.to_csv(path_save, index = None, sep = '\\t')"
   ]
  },
  {
   "cell_type": "code",
   "execution_count": 6,
   "metadata": {
    "ExecuteTime": {
     "end_time": "2021-04-12T16:35:45.799332Z",
     "start_time": "2021-04-12T16:35:45.543113Z"
    }
   },
   "outputs": [
    {
     "ename": "TypeError",
     "evalue": "'builtin_function_or_method' object is not subscriptable",
     "output_type": "error",
     "traceback": [
      "\u001b[0;31m---------------------------------------------------------------------------\u001b[0m",
      "\u001b[0;31mTypeError\u001b[0m                                 Traceback (most recent call last)",
      "\u001b[0;32m<ipython-input-6-3212cf5e8154>\u001b[0m in \u001b[0;36m<module>\u001b[0;34m\u001b[0m\n\u001b[1;32m      7\u001b[0m \u001b[0;34m\u001b[0m\u001b[0m\n\u001b[1;32m      8\u001b[0m \u001b[0mquery_no_version\u001b[0m \u001b[0;34m=\u001b[0m \u001b[0;32mTrue\u001b[0m\u001b[0;34m\u001b[0m\u001b[0;34m\u001b[0m\u001b[0m\n\u001b[0;32m----> 9\u001b[0;31m \u001b[0mcompute_library_size\u001b[0m\u001b[0;34m(\u001b[0m\u001b[0mpath_expr\u001b[0m\u001b[0;34m,\u001b[0m \u001b[0mpath_gene_list\u001b[0m\u001b[0;34m,\u001b[0m \u001b[0mpath_save\u001b[0m\u001b[0;34m,\u001b[0m \u001b[0mpercentile\u001b[0m\u001b[0;34m,\u001b[0m \u001b[0mquery_no_version\u001b[0m\u001b[0;34m)\u001b[0m\u001b[0;34m\u001b[0m\u001b[0;34m\u001b[0m\u001b[0m\n\u001b[0m",
      "\u001b[0;32m<ipython-input-4-57712637669e>\u001b[0m in \u001b[0;36mcompute_library_size\u001b[0;34m(path_expr, path_gene_list, path_save, percentile, query_no_version)\u001b[0m\n\u001b[1;32m      5\u001b[0m     \u001b[0mlogging\u001b[0m\u001b[0;34m.\u001b[0m\u001b[0minfo\u001b[0m\u001b[0;34m(\u001b[0m\u001b[0;34m\"Querying coding genes\"\u001b[0m\u001b[0;34m)\u001b[0m\u001b[0;34m\u001b[0m\u001b[0;34m\u001b[0m\u001b[0m\n\u001b[1;32m      6\u001b[0m     \u001b[0;32mif\u001b[0m \u001b[0mquery_no_version\u001b[0m\u001b[0;34m:\u001b[0m\u001b[0;34m\u001b[0m\u001b[0;34m\u001b[0m\u001b[0m\n\u001b[0;32m----> 7\u001b[0;31m         h5_coding_mx = [list(h5_gene_expr[\"raw_count\"][gene_id, :])\n\u001b[0m\u001b[1;32m      8\u001b[0m                   \u001b[0;32mfor\u001b[0m \u001b[0mgene_id\u001b[0m\u001b[0;34m,\u001b[0m \u001b[0mgene_name\u001b[0m \u001b[0;32min\u001b[0m \u001b[0menumerate\u001b[0m\u001b[0;34m(\u001b[0m\u001b[0mh5_gene_expr\u001b[0m\u001b[0;34m[\u001b[0m\u001b[0;34m'gene_ids'\u001b[0m\u001b[0;34m]\u001b[0m\u001b[0;34m)\u001b[0m\u001b[0;34m\u001b[0m\u001b[0;34m\u001b[0m\u001b[0m\n\u001b[1;32m      9\u001b[0m                   if gene_name.decode().split['.'][0] in coding_list['genes'].values]\n",
      "\u001b[0;32m<ipython-input-4-57712637669e>\u001b[0m in \u001b[0;36m<listcomp>\u001b[0;34m(.0)\u001b[0m\n\u001b[1;32m      7\u001b[0m         h5_coding_mx = [list(h5_gene_expr[\"raw_count\"][gene_id, :])\n\u001b[1;32m      8\u001b[0m                   \u001b[0;32mfor\u001b[0m \u001b[0mgene_id\u001b[0m\u001b[0;34m,\u001b[0m \u001b[0mgene_name\u001b[0m \u001b[0;32min\u001b[0m \u001b[0menumerate\u001b[0m\u001b[0;34m(\u001b[0m\u001b[0mh5_gene_expr\u001b[0m\u001b[0;34m[\u001b[0m\u001b[0;34m'gene_ids'\u001b[0m\u001b[0;34m]\u001b[0m\u001b[0;34m)\u001b[0m\u001b[0;34m\u001b[0m\u001b[0;34m\u001b[0m\u001b[0m\n\u001b[0;32m----> 9\u001b[0;31m                   if gene_name.decode().split['.'][0] in coding_list['genes'].values]\n\u001b[0m\u001b[1;32m     10\u001b[0m     \u001b[0;32melse\u001b[0m\u001b[0;34m:\u001b[0m\u001b[0;34m\u001b[0m\u001b[0;34m\u001b[0m\u001b[0m\n\u001b[1;32m     11\u001b[0m         h5_coding_mx = [list(h5_gene_expr[\"raw_count\"][gene_id, :])\n",
      "\u001b[0;31mTypeError\u001b[0m: 'builtin_function_or_method' object is not subscriptable"
     ]
    }
   ],
   "source": [
    "path_expr = '/cluster/work/grlab/projects/GTEx/rna/results/splicing/spladder/genes_graph_conf2.merge_graphs.count.gene_expression.hdf5' # V30 \n",
    "path_gene_list = '/cluster/work/grlab/projects/projects2020_OHSU/gene_lists/genes_coding_gencode_v32_inter_v30_wo_version.txt'\n",
    "percentile = 75\n",
    "tag = \".coding_gencode_v32_inter_v30_wo_version.txt\"\n",
    "path_save = '/cluster/work/grlab/projects/TCGA/PanCanAtlas/immunopepper_paper/peptides_ccell_rerun_gtex_151220/GTEX2019_commit_1fc5828_pya.0.17.1_ref_mode2'\n",
    "path_save = os.path.join(path_save, 'expression_counts.libsize{}.tsv'.format(tag)) \n",
    "\n",
    "query_no_version = True \n",
    "compute_library_size(path_expr, path_gene_list, path_save, percentile, query_no_version)"
   ]
  },
  {
   "cell_type": "code",
   "execution_count": null,
   "metadata": {
    "ExecuteTime": {
     "start_time": "2021-04-12T16:35:48.811Z"
    }
   },
   "outputs": [
    {
     "name": "stdout",
     "output_type": "stream",
     "text": [
      "> \u001b[0;32m<ipython-input-4-57712637669e>\u001b[0m(9)\u001b[0;36m<listcomp>\u001b[0;34m()\u001b[0m\n",
      "\u001b[0;32m      7 \u001b[0;31m        h5_coding_mx = [list(h5_gene_expr[\"raw_count\"][gene_id, :])\n",
      "\u001b[0m\u001b[0;32m      8 \u001b[0;31m                  \u001b[0;32mfor\u001b[0m \u001b[0mgene_id\u001b[0m\u001b[0;34m,\u001b[0m \u001b[0mgene_name\u001b[0m \u001b[0;32min\u001b[0m \u001b[0menumerate\u001b[0m\u001b[0;34m(\u001b[0m\u001b[0mh5_gene_expr\u001b[0m\u001b[0;34m[\u001b[0m\u001b[0;34m'gene_ids'\u001b[0m\u001b[0;34m]\u001b[0m\u001b[0;34m)\u001b[0m\u001b[0;34m\u001b[0m\u001b[0;34m\u001b[0m\u001b[0m\n",
      "\u001b[0m\u001b[0;32m----> 9 \u001b[0;31m                  if gene_name.decode().split['.'][0] in coding_list['genes'].values]\n",
      "\u001b[0m\u001b[0;32m     10 \u001b[0;31m    \u001b[0;32melse\u001b[0m\u001b[0;34m:\u001b[0m\u001b[0;34m\u001b[0m\u001b[0;34m\u001b[0m\u001b[0m\n",
      "\u001b[0m\u001b[0;32m     11 \u001b[0;31m        h5_coding_mx = [list(h5_gene_expr[\"raw_count\"][gene_id, :])\n",
      "\u001b[0m\n",
      "ipdb> gene_name\n",
      "b'ENSG00000223972.5'\n",
      "ipdb> gene_name.decode()\n",
      "'ENSG00000223972.5'\n",
      "ipdb> gene_name.decode().split['.']\n",
      "*** TypeError: 'builtin_function_or_method' object is not subscriptable\n",
      "ipdb> str(gene_name.decode()).split['.']\n",
      "*** TypeError: 'builtin_function_or_method' object is not subscriptable\n",
      "ipdb> gene_name.decode()\n",
      "'ENSG00000223972.5'\n",
      "ipdb> gene_name.decode()[0]\n",
      "'E'\n",
      "--KeyboardInterrupt--\n"
     ]
    }
   ],
   "source": [
    "%debug"
   ]
  },
  {
   "cell_type": "code",
   "execution_count": 5,
   "metadata": {
    "ExecuteTime": {
     "end_time": "2021-04-12T16:35:38.668680Z",
     "start_time": "2021-04-12T16:35:38.644657Z"
    }
   },
   "outputs": [
    {
     "data": {
      "text/plain": [
       "'goon'"
      ]
     },
     "execution_count": 5,
     "metadata": {},
     "output_type": "execute_result"
    }
   ],
   "source": [
    "b'goon.tsv'.decode().split('.')[0]\n"
   ]
  },
  {
   "cell_type": "code",
   "execution_count": null,
   "metadata": {},
   "outputs": [],
   "source": []
  }
 ],
 "metadata": {
  "kernelspec": {
   "display_name": "myimmuno3_light",
   "language": "python",
   "name": "myimmuno3_light"
  },
  "language_info": {
   "codemirror_mode": {
    "name": "ipython",
    "version": 3
   },
   "file_extension": ".py",
   "mimetype": "text/x-python",
   "name": "python",
   "nbconvert_exporter": "python",
   "pygments_lexer": "ipython3",
   "version": "3.8.5"
  }
 },
 "nbformat": 4,
 "nbformat_minor": 4
}
