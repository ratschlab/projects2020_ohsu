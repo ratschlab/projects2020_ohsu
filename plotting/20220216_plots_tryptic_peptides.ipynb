{
 "cells": [
  {
   "cell_type": "code",
   "execution_count": 58,
   "metadata": {
    "ExecuteTime": {
     "end_time": "2022-02-16T11:04:25.711897Z",
     "start_time": "2022-02-16T11:04:25.607247Z"
    }
   },
   "outputs": [],
   "source": [
    "import os \n",
    "import pandas as pd \n",
    "import numpy as np \n",
    "import tarfile\n",
    "import glob\n",
    "from collections import defaultdict"
   ]
  },
  {
   "cell_type": "code",
   "execution_count": 32,
   "metadata": {
    "ExecuteTime": {
     "end_time": "2022-02-16T10:46:51.187545Z",
     "start_time": "2022-02-16T10:46:51.142726Z"
    }
   },
   "outputs": [],
   "source": [
    "# paths \n",
    "path_tryptic_pep= '/cluster/work/grlab/projects/projects2020_OHSU/share_OHUS_PNLL/tryptic_peptide_fastas'\n",
    "\n",
    "path_filtered_pep = '/cluster/work/grlab/projects/projects2020_OHSU/peptides_generation/v2_v2.5f0752a_conf2_annotFrame_cap0_runs_pya0.17.1/TCGA_Breast_1102'\n",
    "\n",
    "commit_interest = 'commit_d4aee54_GTEXcore' # hardcoded cohort \n",
    "\n",
    "path_eth = os.path.join(path_tryptic_pep, 'G_tryptic_peptides')\n",
    "\n",
    "file_name = 'peptide-extracted-filter.fasta'"
   ]
  },
  {
   "cell_type": "code",
   "execution_count": 26,
   "metadata": {
    "ExecuteTime": {
     "end_time": "2022-02-16T10:40:19.717616Z",
     "start_time": "2022-02-16T10:40:19.713184Z"
    }
   },
   "outputs": [],
   "source": [
    "samples = ['TCGA-BH-A18V-01A-11R-A12D-07','TCGA-C8-A12P-01A-11R-A115-07',\n",
    "           'TCGA-A2-A0D2-01A-21R-A034-07','TCGA-A2-A0SX-01A-12R-A084-07',\n",
    "           'TCGA-AO-A0JM-01A-21R-A056-07']"
   ]
  },
  {
   "cell_type": "code",
   "execution_count": 28,
   "metadata": {
    "ExecuteTime": {
     "end_time": "2022-02-16T10:40:42.100064Z",
     "start_time": "2022-02-16T10:40:42.095721Z"
    }
   },
   "outputs": [],
   "source": [
    "sample = samples[-1]"
   ]
  },
  {
   "cell_type": "code",
   "execution_count": 61,
   "metadata": {
    "ExecuteTime": {
     "end_time": "2022-02-16T11:08:11.318260Z",
     "start_time": "2022-02-16T11:08:11.243744Z"
    }
   },
   "outputs": [],
   "source": [
    "# Tryptic digestion products from Andy Lin \n",
    "data_tryptic = []\n",
    "counter = 0 \n",
    "with open(os.path.join(path_eth, 'G_' + sample, file_name ), 'r') as f: \n",
    "    for line in f.readlines():\n",
    "        if 'pepID' in line:\n",
    "            counter +=1\n",
    "            data_tryptic.append ([line.split('\\n')[0]])\n",
    "        else:\n",
    "            data_tryptic[-1].extend([counter, line.split('\\n')[0]])\n",
    "\n",
    "\n",
    "data_tryptic = pd.DataFrame(data_tryptic)\n",
    "data_tryptic.columns = ['id', 'counter', 'tryptic_seq']"
   ]
  },
  {
   "cell_type": "code",
   "execution_count": 77,
   "metadata": {
    "ExecuteTime": {
     "end_time": "2022-02-16T11:13:43.963946Z",
     "start_time": "2022-02-16T11:13:43.949536Z"
    }
   },
   "outputs": [],
   "source": [
    "assert(data_tryptic['id'].unique().shape[0] == data_tryptic.shape[0])"
   ]
  },
  {
   "cell_type": "code",
   "execution_count": 78,
   "metadata": {
    "ExecuteTime": {
     "end_time": "2022-02-16T11:13:44.153866Z",
     "start_time": "2022-02-16T11:13:44.145661Z"
    }
   },
   "outputs": [
    {
     "data": {
      "text/plain": [
       "(24764, 3)"
      ]
     },
     "execution_count": 78,
     "metadata": {},
     "output_type": "execute_result"
    }
   ],
   "source": [
    "data_tryptic.shape"
   ]
  },
  {
   "cell_type": "code",
   "execution_count": 79,
   "metadata": {
    "ExecuteTime": {
     "end_time": "2022-02-16T11:13:44.313873Z",
     "start_time": "2022-02-16T11:13:44.297521Z"
    }
   },
   "outputs": [
    {
     "data": {
      "text/plain": [
       "24764"
      ]
     },
     "execution_count": 79,
     "metadata": {},
     "output_type": "execute_result"
    }
   ],
   "source": [
    "data_tryptic['id'].unique().shape[0]"
   ]
  },
  {
   "cell_type": "code",
   "execution_count": 83,
   "metadata": {
    "ExecuteTime": {
     "end_time": "2022-02-16T11:13:52.697576Z",
     "start_time": "2022-02-16T11:13:52.681653Z"
    }
   },
   "outputs": [
    {
     "data": {
      "text/plain": [
       "(2757,)"
      ]
     },
     "execution_count": 83,
     "metadata": {},
     "output_type": "execute_result"
    }
   ],
   "source": [
    "data_tryptic['tryptic_seq'].unique().shape"
   ]
  },
  {
   "cell_type": "code",
   "execution_count": 84,
   "metadata": {
    "ExecuteTime": {
     "end_time": "2022-02-16T11:13:53.318733Z",
     "start_time": "2022-02-16T11:13:53.165871Z"
    }
   },
   "outputs": [],
   "source": [
    "# Filtered peptides to query (longlist for sample)\n",
    "data_meta = []\n",
    "with open(os.path.join(path_filtered_pep, f'filter_{sample}.all', commit_interest, f'G_{sample}_query_peptides.fa'), 'r') as f :\n",
    "    for line in f.readlines():\n",
    "        if 'pepID' in line:\n",
    "            data_meta.append(line.split('\\n')[0].split(';'))\n",
    "        else:\n",
    "            data_meta[-1].extend([line.split('\\n')[0]])\n",
    "\n",
    "data_meta = pd.DataFrame(data_meta)\n",
    "data_meta.columns = ['id', 'jx_pos', 'between_codons', 'include5', 'include3', 'gene', 'coord', 'seq']"
   ]
  },
  {
   "cell_type": "code",
   "execution_count": 86,
   "metadata": {
    "ExecuteTime": {
     "end_time": "2022-02-16T11:13:53.885034Z",
     "start_time": "2022-02-16T11:13:53.863400Z"
    }
   },
   "outputs": [
    {
     "data": {
      "text/html": [
       "<div>\n",
       "<style scoped>\n",
       "    .dataframe tbody tr th:only-of-type {\n",
       "        vertical-align: middle;\n",
       "    }\n",
       "\n",
       "    .dataframe tbody tr th {\n",
       "        vertical-align: top;\n",
       "    }\n",
       "\n",
       "    .dataframe thead th {\n",
       "        text-align: right;\n",
       "    }\n",
       "</style>\n",
       "<table border=\"1\" class=\"dataframe\">\n",
       "  <thead>\n",
       "    <tr style=\"text-align: right;\">\n",
       "      <th></th>\n",
       "      <th>id</th>\n",
       "      <th>jx_pos</th>\n",
       "      <th>between_codons</th>\n",
       "      <th>include5</th>\n",
       "      <th>include3</th>\n",
       "      <th>gene</th>\n",
       "      <th>coord</th>\n",
       "      <th>seq</th>\n",
       "    </tr>\n",
       "  </thead>\n",
       "  <tbody>\n",
       "    <tr>\n",
       "      <th>0</th>\n",
       "      <td>&gt;pepID-1</td>\n",
       "      <td>jx_pos-12</td>\n",
       "      <td>between_codons-1</td>\n",
       "      <td>includes_5'-0</td>\n",
       "      <td>includes_3'-1</td>\n",
       "      <td>gene-ENSG00000119333.11</td>\n",
       "      <td>jx_coord-128640690_128636438</td>\n",
       "      <td>WLRGELDRAAADGWTMGTGARLSPSCVPGTWTGETCVPSSRRPWWR...</td>\n",
       "    </tr>\n",
       "    <tr>\n",
       "      <th>1</th>\n",
       "      <td>&gt;pepID-2</td>\n",
       "      <td>jx_pos-27</td>\n",
       "      <td>between_codons-1</td>\n",
       "      <td>includes_5'-0</td>\n",
       "      <td>includes_3'-1</td>\n",
       "      <td>gene-ENSG00000086758.16</td>\n",
       "      <td>jx_coord-53550665_53549505</td>\n",
       "      <td>ATVGSSILALLCREVAPSRWGVAAAITGLLAVM</td>\n",
       "    </tr>\n",
       "    <tr>\n",
       "      <th>2</th>\n",
       "      <td>&gt;pepID-3</td>\n",
       "      <td>jx_pos-6</td>\n",
       "      <td>between_codons-1</td>\n",
       "      <td>includes_5'-0</td>\n",
       "      <td>includes_3'-1</td>\n",
       "      <td>gene-ENSG00000120149.9</td>\n",
       "      <td>jx_coord-174725038_174729158</td>\n",
       "      <td>PIFAAAKTYEPYHLHPEETQDQSEAAHALYHIPAPRPGAQVPSETV...</td>\n",
       "    </tr>\n",
       "  </tbody>\n",
       "</table>\n",
       "</div>"
      ],
      "text/plain": [
       "         id     jx_pos    between_codons       include5       include3  \\\n",
       "0  >pepID-1  jx_pos-12  between_codons-1  includes_5'-0  includes_3'-1   \n",
       "1  >pepID-2  jx_pos-27  between_codons-1  includes_5'-0  includes_3'-1   \n",
       "2  >pepID-3   jx_pos-6  between_codons-1  includes_5'-0  includes_3'-1   \n",
       "\n",
       "                      gene                         coord  \\\n",
       "0  gene-ENSG00000119333.11  jx_coord-128640690_128636438   \n",
       "1  gene-ENSG00000086758.16    jx_coord-53550665_53549505   \n",
       "2   gene-ENSG00000120149.9  jx_coord-174725038_174729158   \n",
       "\n",
       "                                                 seq  \n",
       "0  WLRGELDRAAADGWTMGTGARLSPSCVPGTWTGETCVPSSRRPWWR...  \n",
       "1                  ATVGSSILALLCREVAPSRWGVAAAITGLLAVM  \n",
       "2  PIFAAAKTYEPYHLHPEETQDQSEAAHALYHIPAPRPGAQVPSETV...  "
      ]
     },
     "execution_count": 86,
     "metadata": {},
     "output_type": "execute_result"
    }
   ],
   "source": [
    "data_meta.head(3)"
   ]
  },
  {
   "cell_type": "code",
   "execution_count": 87,
   "metadata": {
    "ExecuteTime": {
     "end_time": "2022-02-16T11:13:54.194450Z",
     "start_time": "2022-02-16T11:13:54.133518Z"
    }
   },
   "outputs": [],
   "source": [
    "# merge tryptic, peptide metadata\n",
    "df = data_meta.merge(data_tryptic, on = 'id', how = 'outer')"
   ]
  },
  {
   "cell_type": "code",
   "execution_count": 89,
   "metadata": {
    "ExecuteTime": {
     "end_time": "2022-02-16T11:14:45.669178Z",
     "start_time": "2022-02-16T11:14:45.421374Z"
    }
   },
   "outputs": [
    {
     "data": {
      "text/html": [
       "<div>\n",
       "<style scoped>\n",
       "    .dataframe tbody tr th:only-of-type {\n",
       "        vertical-align: middle;\n",
       "    }\n",
       "\n",
       "    .dataframe tbody tr th {\n",
       "        vertical-align: top;\n",
       "    }\n",
       "\n",
       "    .dataframe thead th {\n",
       "        text-align: right;\n",
       "    }\n",
       "</style>\n",
       "<table border=\"1\" class=\"dataframe\">\n",
       "  <thead>\n",
       "    <tr style=\"text-align: right;\">\n",
       "      <th></th>\n",
       "      <th>id</th>\n",
       "      <th>jx_pos</th>\n",
       "      <th>between_codons</th>\n",
       "      <th>include5</th>\n",
       "      <th>include3</th>\n",
       "      <th>gene</th>\n",
       "      <th>coord</th>\n",
       "      <th>seq</th>\n",
       "      <th>counter</th>\n",
       "      <th>tryptic_seq</th>\n",
       "    </tr>\n",
       "  </thead>\n",
       "  <tbody>\n",
       "    <tr>\n",
       "      <th>0</th>\n",
       "      <td>&gt;pepID-1</td>\n",
       "      <td>jx_pos-12</td>\n",
       "      <td>between_codons-1</td>\n",
       "      <td>includes_5'-0</td>\n",
       "      <td>includes_3'-1</td>\n",
       "      <td>gene-ENSG00000119333.11</td>\n",
       "      <td>jx_coord-128640690_128636438</td>\n",
       "      <td>WLRGELDRAAADGWTMGTGARLSPSCVPGTWTGETCVPSSRRPWWR...</td>\n",
       "      <td>1.0</td>\n",
       "      <td>AAADGWTMGTGAR</td>\n",
       "    </tr>\n",
       "    <tr>\n",
       "      <th>1</th>\n",
       "      <td>&gt;pepID-2</td>\n",
       "      <td>jx_pos-27</td>\n",
       "      <td>between_codons-1</td>\n",
       "      <td>includes_5'-0</td>\n",
       "      <td>includes_3'-1</td>\n",
       "      <td>gene-ENSG00000086758.16</td>\n",
       "      <td>jx_coord-53550665_53549505</td>\n",
       "      <td>ATVGSSILALLCREVAPSRWGVAAAITGLLAVM</td>\n",
       "      <td>2.0</td>\n",
       "      <td>WGVAAAITGLLAVM</td>\n",
       "    </tr>\n",
       "    <tr>\n",
       "      <th>2</th>\n",
       "      <td>&gt;pepID-3</td>\n",
       "      <td>jx_pos-6</td>\n",
       "      <td>between_codons-1</td>\n",
       "      <td>includes_5'-0</td>\n",
       "      <td>includes_3'-1</td>\n",
       "      <td>gene-ENSG00000120149.9</td>\n",
       "      <td>jx_coord-174725038_174729158</td>\n",
       "      <td>PIFAAAKTYEPYHLHPEETQDQSEAAHALYHIPAPRPGAQVPSETV...</td>\n",
       "      <td>NaN</td>\n",
       "      <td>NaN</td>\n",
       "    </tr>\n",
       "    <tr>\n",
       "      <th>3</th>\n",
       "      <td>&gt;pepID-4</td>\n",
       "      <td>jx_pos-6</td>\n",
       "      <td>between_codons-1</td>\n",
       "      <td>includes_5'-0</td>\n",
       "      <td>includes_3'-1</td>\n",
       "      <td>gene-ENSG00000120149.9</td>\n",
       "      <td>jx_coord-174725038_174729158</td>\n",
       "      <td>PIFAAAKTYEPYHLHPEETQDQSEAAHALYHIPAPRPGAQVPSETV...</td>\n",
       "      <td>NaN</td>\n",
       "      <td>NaN</td>\n",
       "    </tr>\n",
       "    <tr>\n",
       "      <th>4</th>\n",
       "      <td>&gt;pepID-5</td>\n",
       "      <td>jx_pos-90</td>\n",
       "      <td>between_codons-0</td>\n",
       "      <td>includes_5'-1</td>\n",
       "      <td>includes_3'-1</td>\n",
       "      <td>gene-ENSG00000120149.9</td>\n",
       "      <td>jx_coord-174724853_174725017</td>\n",
       "      <td>MASPSKGNDLFSPDEEGPAVVAGPGPGPGGAEGAAEERRVKVSSLP...</td>\n",
       "      <td>3.0</td>\n",
       "      <td>TYEPYHLHPEETQDQSEAAHALYHIPAPR</td>\n",
       "    </tr>\n",
       "    <tr>\n",
       "      <th>...</th>\n",
       "      <td>...</td>\n",
       "      <td>...</td>\n",
       "      <td>...</td>\n",
       "      <td>...</td>\n",
       "      <td>...</td>\n",
       "      <td>...</td>\n",
       "      <td>...</td>\n",
       "      <td>...</td>\n",
       "      <td>...</td>\n",
       "      <td>...</td>\n",
       "    </tr>\n",
       "    <tr>\n",
       "      <th>40137</th>\n",
       "      <td>&gt;pepID-40138</td>\n",
       "      <td>jx_pos-24</td>\n",
       "      <td>between_codons-0</td>\n",
       "      <td>includes_5'-0</td>\n",
       "      <td>includes_3'-1</td>\n",
       "      <td>gene-ENSG00000134419.15</td>\n",
       "      <td>jx_coord-18783640_18783102</td>\n",
       "      <td>NLYPPNYASGALVESILTSWLLYYSFIVLTIFTNKMPHGLWCFHLV...</td>\n",
       "      <td>NaN</td>\n",
       "      <td>NaN</td>\n",
       "    </tr>\n",
       "    <tr>\n",
       "      <th>40138</th>\n",
       "      <td>&gt;pepID-40139</td>\n",
       "      <td>jx_pos-24</td>\n",
       "      <td>between_codons-0</td>\n",
       "      <td>includes_5'-0</td>\n",
       "      <td>includes_3'-1</td>\n",
       "      <td>gene-ENSG00000134419.15</td>\n",
       "      <td>jx_coord-18783640_18783102</td>\n",
       "      <td>NLYPPNYASGALVESILTSWLLYYSFIVQIKCLMDSGASTWSF</td>\n",
       "      <td>NaN</td>\n",
       "      <td>NaN</td>\n",
       "    </tr>\n",
       "    <tr>\n",
       "      <th>40139</th>\n",
       "      <td>&gt;pepID-40140</td>\n",
       "      <td>jx_pos-24</td>\n",
       "      <td>between_codons-0</td>\n",
       "      <td>includes_5'-0</td>\n",
       "      <td>includes_3'-1</td>\n",
       "      <td>gene-ENSG00000134419.15</td>\n",
       "      <td>jx_coord-18783640_18783102</td>\n",
       "      <td>NLYPPNYASGALVESILTSWLLYYSFIVQIKCLMDSGASTWSF</td>\n",
       "      <td>NaN</td>\n",
       "      <td>NaN</td>\n",
       "    </tr>\n",
       "    <tr>\n",
       "      <th>40140</th>\n",
       "      <td>&gt;pepID-40141</td>\n",
       "      <td>jx_pos-24</td>\n",
       "      <td>between_codons-0</td>\n",
       "      <td>includes_5'-0</td>\n",
       "      <td>includes_3'-1</td>\n",
       "      <td>gene-ENSG00000134419.15</td>\n",
       "      <td>jx_coord-18783640_18783102</td>\n",
       "      <td>NLYPPNYASGALVESILTSWLLYYSFIVQIKCLMDSGASTWSF</td>\n",
       "      <td>NaN</td>\n",
       "      <td>NaN</td>\n",
       "    </tr>\n",
       "    <tr>\n",
       "      <th>40141</th>\n",
       "      <td>&gt;pepID-40142</td>\n",
       "      <td>jx_pos-33</td>\n",
       "      <td>between_codons-0</td>\n",
       "      <td>includes_5'-0</td>\n",
       "      <td>includes_3'-1</td>\n",
       "      <td>gene-ENSG00000025796.14</td>\n",
       "      <td>jx_coord-107929414_107928315</td>\n",
       "      <td>ANSIKEYQKSIWKVYVVSFTVIKTPAKYYSYSKGWGFTMFPRLVSN...</td>\n",
       "      <td>24764.0</td>\n",
       "      <td>GWGFTMFPR</td>\n",
       "    </tr>\n",
       "  </tbody>\n",
       "</table>\n",
       "<p>40142 rows × 10 columns</p>\n",
       "</div>"
      ],
      "text/plain": [
       "                 id     jx_pos    between_codons       include5  \\\n",
       "0          >pepID-1  jx_pos-12  between_codons-1  includes_5'-0   \n",
       "1          >pepID-2  jx_pos-27  between_codons-1  includes_5'-0   \n",
       "2          >pepID-3   jx_pos-6  between_codons-1  includes_5'-0   \n",
       "3          >pepID-4   jx_pos-6  between_codons-1  includes_5'-0   \n",
       "4          >pepID-5  jx_pos-90  between_codons-0  includes_5'-1   \n",
       "...             ...        ...               ...            ...   \n",
       "40137  >pepID-40138  jx_pos-24  between_codons-0  includes_5'-0   \n",
       "40138  >pepID-40139  jx_pos-24  between_codons-0  includes_5'-0   \n",
       "40139  >pepID-40140  jx_pos-24  between_codons-0  includes_5'-0   \n",
       "40140  >pepID-40141  jx_pos-24  between_codons-0  includes_5'-0   \n",
       "40141  >pepID-40142  jx_pos-33  between_codons-0  includes_5'-0   \n",
       "\n",
       "            include3                     gene                         coord  \\\n",
       "0      includes_3'-1  gene-ENSG00000119333.11  jx_coord-128640690_128636438   \n",
       "1      includes_3'-1  gene-ENSG00000086758.16    jx_coord-53550665_53549505   \n",
       "2      includes_3'-1   gene-ENSG00000120149.9  jx_coord-174725038_174729158   \n",
       "3      includes_3'-1   gene-ENSG00000120149.9  jx_coord-174725038_174729158   \n",
       "4      includes_3'-1   gene-ENSG00000120149.9  jx_coord-174724853_174725017   \n",
       "...              ...                      ...                           ...   \n",
       "40137  includes_3'-1  gene-ENSG00000134419.15    jx_coord-18783640_18783102   \n",
       "40138  includes_3'-1  gene-ENSG00000134419.15    jx_coord-18783640_18783102   \n",
       "40139  includes_3'-1  gene-ENSG00000134419.15    jx_coord-18783640_18783102   \n",
       "40140  includes_3'-1  gene-ENSG00000134419.15    jx_coord-18783640_18783102   \n",
       "40141  includes_3'-1  gene-ENSG00000025796.14  jx_coord-107929414_107928315   \n",
       "\n",
       "                                                     seq  counter  \\\n",
       "0      WLRGELDRAAADGWTMGTGARLSPSCVPGTWTGETCVPSSRRPWWR...      1.0   \n",
       "1                      ATVGSSILALLCREVAPSRWGVAAAITGLLAVM      2.0   \n",
       "2      PIFAAAKTYEPYHLHPEETQDQSEAAHALYHIPAPRPGAQVPSETV...      NaN   \n",
       "3      PIFAAAKTYEPYHLHPEETQDQSEAAHALYHIPAPRPGAQVPSETV...      NaN   \n",
       "4      MASPSKGNDLFSPDEEGPAVVAGPGPGPGGAEGAAEERRVKVSSLP...      3.0   \n",
       "...                                                  ...      ...   \n",
       "40137  NLYPPNYASGALVESILTSWLLYYSFIVLTIFTNKMPHGLWCFHLV...      NaN   \n",
       "40138        NLYPPNYASGALVESILTSWLLYYSFIVQIKCLMDSGASTWSF      NaN   \n",
       "40139        NLYPPNYASGALVESILTSWLLYYSFIVQIKCLMDSGASTWSF      NaN   \n",
       "40140        NLYPPNYASGALVESILTSWLLYYSFIVQIKCLMDSGASTWSF      NaN   \n",
       "40141  ANSIKEYQKSIWKVYVVSFTVIKTPAKYYSYSKGWGFTMFPRLVSN...  24764.0   \n",
       "\n",
       "                         tryptic_seq  \n",
       "0                      AAADGWTMGTGAR  \n",
       "1                     WGVAAAITGLLAVM  \n",
       "2                                NaN  \n",
       "3                                NaN  \n",
       "4      TYEPYHLHPEETQDQSEAAHALYHIPAPR  \n",
       "...                              ...  \n",
       "40137                            NaN  \n",
       "40138                            NaN  \n",
       "40139                            NaN  \n",
       "40140                            NaN  \n",
       "40141                      GWGFTMFPR  \n",
       "\n",
       "[40142 rows x 10 columns]"
      ]
     },
     "execution_count": 89,
     "metadata": {},
     "output_type": "execute_result"
    }
   ],
   "source": [
    "df"
   ]
  },
  {
   "cell_type": "code",
   "execution_count": 132,
   "metadata": {
    "ExecuteTime": {
     "end_time": "2022-02-16T14:46:41.101471Z",
     "start_time": "2022-02-16T14:46:41.096810Z"
    }
   },
   "outputs": [],
   "source": [
    "jct_test = 'jx_coord-99971826_99971771'"
   ]
  },
  {
   "cell_type": "code",
   "execution_count": 153,
   "metadata": {
    "ExecuteTime": {
     "end_time": "2022-02-16T14:50:24.612636Z",
     "start_time": "2022-02-16T14:50:24.557088Z"
    }
   },
   "outputs": [],
   "source": [
    "grp_trypt = df[['coord', 'tryptic_seq']].groupby(['coord', 'tryptic_seq']).count().reset_index()\n",
    "\n",
    "grp_trypt = grp_trypt.groupby(['coord']).count().reset_index()"
   ]
  },
  {
   "cell_type": "code",
   "execution_count": 158,
   "metadata": {
    "ExecuteTime": {
     "end_time": "2022-02-16T14:52:07.508185Z",
     "start_time": "2022-02-16T14:52:07.504474Z"
    }
   },
   "outputs": [],
   "source": [
    "# grp_trypt.loc[grp_trypt['coord'] == jct_test]\n",
    "\n",
    "# df.loc[df['coord'] == jct_test ]['tryptic_seq'].unique()"
   ]
  },
  {
   "cell_type": "code",
   "execution_count": 160,
   "metadata": {
    "ExecuteTime": {
     "end_time": "2022-02-16T14:54:31.038500Z",
     "start_time": "2022-02-16T14:54:30.999059Z"
    }
   },
   "outputs": [],
   "source": [
    "# Counting the number of peptides right \n",
    "grp_peptides = df[['coord', 'id']].groupby(['coord']).count().reset_index()"
   ]
  },
  {
   "cell_type": "code",
   "execution_count": 161,
   "metadata": {
    "ExecuteTime": {
     "end_time": "2022-02-16T14:55:32.466072Z",
     "start_time": "2022-02-16T14:55:32.331875Z"
    }
   },
   "outputs": [],
   "source": [
    "df_plot = grp_trypt.merge(grp_peptides, on = 'coord', how = 'outer')"
   ]
  },
  {
   "cell_type": "code",
   "execution_count": null,
   "metadata": {},
   "outputs": [],
   "source": []
  },
  {
   "cell_type": "code",
   "execution_count": null,
   "metadata": {},
   "outputs": [],
   "source": []
  },
  {
   "cell_type": "markdown",
   "metadata": {},
   "source": [
    "# Checks from Cancer Cell Paper "
   ]
  },
  {
   "cell_type": "code",
   "execution_count": 119,
   "metadata": {
    "ExecuteTime": {
     "end_time": "2022-02-16T13:51:23.360328Z",
     "start_time": "2022-02-16T13:51:22.932886Z"
    }
   },
   "outputs": [],
   "source": [
    "asn_exp = pd.read_csv('/cluster/work/grlab/projects/TCGA/PanCanAtlas/peptides_neoantigen/analysis_pancan/ccell_rerun_2018/output/expression_distribution/asns/TCGA-AO-A0JM.asns_kmers_annotated.gtex.tsv', sep = '\\t')"
   ]
  },
  {
   "cell_type": "code",
   "execution_count": 120,
   "metadata": {
    "ExecuteTime": {
     "end_time": "2022-02-16T13:51:26.198014Z",
     "start_time": "2022-02-16T13:51:26.034649Z"
    }
   },
   "outputs": [
    {
     "data": {
      "text/html": [
       "<div>\n",
       "<style scoped>\n",
       "    .dataframe tbody tr th:only-of-type {\n",
       "        vertical-align: middle;\n",
       "    }\n",
       "\n",
       "    .dataframe tbody tr th {\n",
       "        vertical-align: top;\n",
       "    }\n",
       "\n",
       "    .dataframe thead th {\n",
       "        text-align: right;\n",
       "    }\n",
       "</style>\n",
       "<table border=\"1\" class=\"dataframe\">\n",
       "  <thead>\n",
       "    <tr style=\"text-align: right;\">\n",
       "      <th></th>\n",
       "      <th>SAMPLE_ID</th>\n",
       "      <th>PEPTIDE_TYPE</th>\n",
       "      <th>KMER_TYPE</th>\n",
       "      <th>PROTEIN_NUMBER</th>\n",
       "      <th>CJ_ID</th>\n",
       "      <th>KMER_SEQ</th>\n",
       "      <th>LIBRARY_SIZE</th>\n",
       "      <th>JUNC_COUNT</th>\n",
       "      <th>IN_CPTAC</th>\n",
       "    </tr>\n",
       "  </thead>\n",
       "  <tbody>\n",
       "    <tr>\n",
       "      <th>44</th>\n",
       "      <td>TCGA-AO-A0JM</td>\n",
       "      <td>germline_somatic</td>\n",
       "      <td>cj</td>\n",
       "      <td>30-46.26030</td>\n",
       "      <td>ENSG00000133392.12_15820705_15820818_15818745_...</td>\n",
       "      <td>LQNEAESVT</td>\n",
       "      <td>3262.5</td>\n",
       "      <td>14.0</td>\n",
       "      <td>1</td>\n",
       "    </tr>\n",
       "    <tr>\n",
       "      <th>45</th>\n",
       "      <td>TCGA-AO-A0JM</td>\n",
       "      <td>germline_somatic</td>\n",
       "      <td>cj</td>\n",
       "      <td>30-46.26030</td>\n",
       "      <td>ENSG00000133392.12_15820705_15820818_15818745_...</td>\n",
       "      <td>QNEAESVTG</td>\n",
       "      <td>3262.5</td>\n",
       "      <td>14.0</td>\n",
       "      <td>1</td>\n",
       "    </tr>\n",
       "    <tr>\n",
       "      <th>241</th>\n",
       "      <td>TCGA-AO-A0JM</td>\n",
       "      <td>germline_somatic</td>\n",
       "      <td>cj</td>\n",
       "      <td>17-33.12694</td>\n",
       "      <td>ENSG00000120733.9_137717205_137717279_13772171...</td>\n",
       "      <td>DNSTPQSEG</td>\n",
       "      <td>3262.5</td>\n",
       "      <td>22.0</td>\n",
       "      <td>1</td>\n",
       "    </tr>\n",
       "    <tr>\n",
       "      <th>242</th>\n",
       "      <td>TCGA-AO-A0JM</td>\n",
       "      <td>germline_somatic</td>\n",
       "      <td>cj</td>\n",
       "      <td>17-33.12694</td>\n",
       "      <td>ENSG00000120733.9_137717205_137717279_13772171...</td>\n",
       "      <td>NSTPQSEGG</td>\n",
       "      <td>3262.5</td>\n",
       "      <td>22.0</td>\n",
       "      <td>1</td>\n",
       "    </tr>\n",
       "    <tr>\n",
       "      <th>243</th>\n",
       "      <td>TCGA-AO-A0JM</td>\n",
       "      <td>germline_somatic</td>\n",
       "      <td>cj</td>\n",
       "      <td>17-33.12694</td>\n",
       "      <td>ENSG00000120733.9_137717205_137717279_13772171...</td>\n",
       "      <td>STPQSEGGT</td>\n",
       "      <td>3262.5</td>\n",
       "      <td>22.0</td>\n",
       "      <td>1</td>\n",
       "    </tr>\n",
       "    <tr>\n",
       "      <th>...</th>\n",
       "      <td>...</td>\n",
       "      <td>...</td>\n",
       "      <td>...</td>\n",
       "      <td>...</td>\n",
       "      <td>...</td>\n",
       "      <td>...</td>\n",
       "      <td>...</td>\n",
       "      <td>...</td>\n",
       "      <td>...</td>\n",
       "    </tr>\n",
       "    <tr>\n",
       "      <th>56157</th>\n",
       "      <td>TCGA-AO-A0JM</td>\n",
       "      <td>reference</td>\n",
       "      <td>cj</td>\n",
       "      <td>17-32.210546</td>\n",
       "      <td>ENSG00000129354.7_10685093_10685168_10683745_1...</td>\n",
       "      <td>ITQSGDYQL</td>\n",
       "      <td>3262.5</td>\n",
       "      <td>376.0</td>\n",
       "      <td>1</td>\n",
       "    </tr>\n",
       "    <tr>\n",
       "      <th>56158</th>\n",
       "      <td>TCGA-AO-A0JM</td>\n",
       "      <td>reference</td>\n",
       "      <td>cj</td>\n",
       "      <td>17-32.210546</td>\n",
       "      <td>ENSG00000129354.7_10685093_10685168_10683745_1...</td>\n",
       "      <td>TQSGDYQLR</td>\n",
       "      <td>3262.5</td>\n",
       "      <td>376.0</td>\n",
       "      <td>1</td>\n",
       "    </tr>\n",
       "    <tr>\n",
       "      <th>77811</th>\n",
       "      <td>TCGA-AO-A0JM</td>\n",
       "      <td>reference</td>\n",
       "      <td>cj</td>\n",
       "      <td>75-92.163039</td>\n",
       "      <td>ENSG00000118523.5_132271432_132271681_13227108...</td>\n",
       "      <td>TVVGPALAA</td>\n",
       "      <td>3262.5</td>\n",
       "      <td>2044.0</td>\n",
       "      <td>1</td>\n",
       "    </tr>\n",
       "    <tr>\n",
       "      <th>77812</th>\n",
       "      <td>TCGA-AO-A0JM</td>\n",
       "      <td>reference</td>\n",
       "      <td>cj</td>\n",
       "      <td>75-92.163039</td>\n",
       "      <td>ENSG00000118523.5_132271432_132271681_13227108...</td>\n",
       "      <td>VVGPALAAY</td>\n",
       "      <td>3262.5</td>\n",
       "      <td>2044.0</td>\n",
       "      <td>1</td>\n",
       "    </tr>\n",
       "    <tr>\n",
       "      <th>77813</th>\n",
       "      <td>TCGA-AO-A0JM</td>\n",
       "      <td>reference</td>\n",
       "      <td>cj</td>\n",
       "      <td>75-92.163039</td>\n",
       "      <td>ENSG00000118523.5_132271432_132271681_13227108...</td>\n",
       "      <td>VGPALAAYR</td>\n",
       "      <td>3262.5</td>\n",
       "      <td>2044.0</td>\n",
       "      <td>1</td>\n",
       "    </tr>\n",
       "  </tbody>\n",
       "</table>\n",
       "<p>855 rows × 9 columns</p>\n",
       "</div>"
      ],
      "text/plain": [
       "          SAMPLE_ID      PEPTIDE_TYPE KMER_TYPE PROTEIN_NUMBER  \\\n",
       "44     TCGA-AO-A0JM  germline_somatic        cj    30-46.26030   \n",
       "45     TCGA-AO-A0JM  germline_somatic        cj    30-46.26030   \n",
       "241    TCGA-AO-A0JM  germline_somatic        cj    17-33.12694   \n",
       "242    TCGA-AO-A0JM  germline_somatic        cj    17-33.12694   \n",
       "243    TCGA-AO-A0JM  germline_somatic        cj    17-33.12694   \n",
       "...             ...               ...       ...            ...   \n",
       "56157  TCGA-AO-A0JM         reference        cj   17-32.210546   \n",
       "56158  TCGA-AO-A0JM         reference        cj   17-32.210546   \n",
       "77811  TCGA-AO-A0JM         reference        cj   75-92.163039   \n",
       "77812  TCGA-AO-A0JM         reference        cj   75-92.163039   \n",
       "77813  TCGA-AO-A0JM         reference        cj   75-92.163039   \n",
       "\n",
       "                                                   CJ_ID   KMER_SEQ  \\\n",
       "44     ENSG00000133392.12_15820705_15820818_15818745_...  LQNEAESVT   \n",
       "45     ENSG00000133392.12_15820705_15820818_15818745_...  QNEAESVTG   \n",
       "241    ENSG00000120733.9_137717205_137717279_13772171...  DNSTPQSEG   \n",
       "242    ENSG00000120733.9_137717205_137717279_13772171...  NSTPQSEGG   \n",
       "243    ENSG00000120733.9_137717205_137717279_13772171...  STPQSEGGT   \n",
       "...                                                  ...        ...   \n",
       "56157  ENSG00000129354.7_10685093_10685168_10683745_1...  ITQSGDYQL   \n",
       "56158  ENSG00000129354.7_10685093_10685168_10683745_1...  TQSGDYQLR   \n",
       "77811  ENSG00000118523.5_132271432_132271681_13227108...  TVVGPALAA   \n",
       "77812  ENSG00000118523.5_132271432_132271681_13227108...  VVGPALAAY   \n",
       "77813  ENSG00000118523.5_132271432_132271681_13227108...  VGPALAAYR   \n",
       "\n",
       "       LIBRARY_SIZE  JUNC_COUNT  IN_CPTAC  \n",
       "44           3262.5        14.0         1  \n",
       "45           3262.5        14.0         1  \n",
       "241          3262.5        22.0         1  \n",
       "242          3262.5        22.0         1  \n",
       "243          3262.5        22.0         1  \n",
       "...             ...         ...       ...  \n",
       "56157        3262.5       376.0         1  \n",
       "56158        3262.5       376.0         1  \n",
       "77811        3262.5      2044.0         1  \n",
       "77812        3262.5      2044.0         1  \n",
       "77813        3262.5      2044.0         1  \n",
       "\n",
       "[855 rows x 9 columns]"
      ]
     },
     "execution_count": 120,
     "metadata": {},
     "output_type": "execute_result"
    }
   ],
   "source": [
    "asn_exp.loc[#(foo['PEPTIDE_TYPE'] == 'reference') &\\\n",
    "         (foo['JUNC_COUNT'] > 0 ) &\\\n",
    "       (foo['IN_CPTAC'] == 1), :]"
   ]
  },
  {
   "cell_type": "code",
   "execution_count": 117,
   "metadata": {
    "ExecuteTime": {
     "end_time": "2022-02-16T13:47:42.526571Z",
     "start_time": "2022-02-16T13:47:42.495311Z"
    }
   },
   "outputs": [
    {
     "data": {
      "text/plain": [
       "[]"
      ]
     },
     "execution_count": 117,
     "metadata": {},
     "output_type": "execute_result"
    }
   ],
   "source": [
    "kmer = 'ENSG00000133392.12'\n",
    "[idx for idx, seq in enumerate(df['gene']) if kmer in seq]"
   ]
  },
  {
   "cell_type": "code",
   "execution_count": 118,
   "metadata": {
    "ExecuteTime": {
     "end_time": "2022-02-16T13:47:43.843577Z",
     "start_time": "2022-02-16T13:47:43.812415Z"
    }
   },
   "outputs": [
    {
     "data": {
      "text/html": [
       "<div>\n",
       "<style scoped>\n",
       "    .dataframe tbody tr th:only-of-type {\n",
       "        vertical-align: middle;\n",
       "    }\n",
       "\n",
       "    .dataframe tbody tr th {\n",
       "        vertical-align: top;\n",
       "    }\n",
       "\n",
       "    .dataframe thead th {\n",
       "        text-align: right;\n",
       "    }\n",
       "</style>\n",
       "<table border=\"1\" class=\"dataframe\">\n",
       "  <thead>\n",
       "    <tr style=\"text-align: right;\">\n",
       "      <th></th>\n",
       "      <th>id</th>\n",
       "      <th>jx_pos</th>\n",
       "      <th>between_codons</th>\n",
       "      <th>include5</th>\n",
       "      <th>include3</th>\n",
       "      <th>gene</th>\n",
       "      <th>coord</th>\n",
       "      <th>seq</th>\n",
       "      <th>counter</th>\n",
       "      <th>tryptic_seq</th>\n",
       "    </tr>\n",
       "  </thead>\n",
       "  <tbody>\n",
       "    <tr>\n",
       "      <th>14250</th>\n",
       "      <td>&gt;pepID-14251</td>\n",
       "      <td>jx_pos-23</td>\n",
       "      <td>between_codons-1</td>\n",
       "      <td>includes_5'-0</td>\n",
       "      <td>includes_3'-1</td>\n",
       "      <td>gene-ENSG00000129354.11</td>\n",
       "      <td>jx_coord-10578891_10577356</td>\n",
       "      <td>VKPLIWIESVIEKFSHSRVEIMVKAKGQFKKHMCRRETS</td>\n",
       "      <td>NaN</td>\n",
       "      <td>NaN</td>\n",
       "    </tr>\n",
       "    <tr>\n",
       "      <th>24616</th>\n",
       "      <td>&gt;pepID-24617</td>\n",
       "      <td>jx_pos-11</td>\n",
       "      <td>between_codons-0</td>\n",
       "      <td>includes_5'-0</td>\n",
       "      <td>includes_3'-1</td>\n",
       "      <td>gene-ENSG00000129354.11</td>\n",
       "      <td>jx_coord-10574903_10574492</td>\n",
       "      <td>LRSPTSPSLGSRSDT</td>\n",
       "      <td>15161.0</td>\n",
       "      <td>SPTSPSLGSR</td>\n",
       "    </tr>\n",
       "    <tr>\n",
       "      <th>24617</th>\n",
       "      <td>&gt;pepID-24618</td>\n",
       "      <td>jx_pos-11</td>\n",
       "      <td>between_codons-0</td>\n",
       "      <td>includes_5'-0</td>\n",
       "      <td>includes_3'-1</td>\n",
       "      <td>gene-ENSG00000129354.11</td>\n",
       "      <td>jx_coord-10574903_10574492</td>\n",
       "      <td>LRSPTSPSLGSRSDT</td>\n",
       "      <td>15162.0</td>\n",
       "      <td>SPTSPSLGSR</td>\n",
       "    </tr>\n",
       "    <tr>\n",
       "      <th>24822</th>\n",
       "      <td>&gt;pepID-24823</td>\n",
       "      <td>jx_pos-11</td>\n",
       "      <td>between_codons-0</td>\n",
       "      <td>includes_5'-0</td>\n",
       "      <td>includes_3'-1</td>\n",
       "      <td>gene-ENSG00000129354.11</td>\n",
       "      <td>jx_coord-10574903_10574492</td>\n",
       "      <td>LRSPTSPSLGSRSDT</td>\n",
       "      <td>15297.0</td>\n",
       "      <td>SPTSPSLGSR</td>\n",
       "    </tr>\n",
       "    <tr>\n",
       "      <th>24823</th>\n",
       "      <td>&gt;pepID-24824</td>\n",
       "      <td>jx_pos-11</td>\n",
       "      <td>between_codons-0</td>\n",
       "      <td>includes_5'-0</td>\n",
       "      <td>includes_3'-1</td>\n",
       "      <td>gene-ENSG00000129354.11</td>\n",
       "      <td>jx_coord-10574903_10574492</td>\n",
       "      <td>LRSPTSPSLGSRSDT</td>\n",
       "      <td>15298.0</td>\n",
       "      <td>SPTSPSLGSR</td>\n",
       "    </tr>\n",
       "    <tr>\n",
       "      <th>32986</th>\n",
       "      <td>&gt;pepID-32987</td>\n",
       "      <td>jx_pos-11</td>\n",
       "      <td>between_codons-0</td>\n",
       "      <td>includes_5'-0</td>\n",
       "      <td>includes_3'-1</td>\n",
       "      <td>gene-ENSG00000129354.11</td>\n",
       "      <td>jx_coord-10574903_10574492</td>\n",
       "      <td>LRSPTSPSLGSRSDT</td>\n",
       "      <td>20253.0</td>\n",
       "      <td>SPTSPSLGSR</td>\n",
       "    </tr>\n",
       "    <tr>\n",
       "      <th>32987</th>\n",
       "      <td>&gt;pepID-32988</td>\n",
       "      <td>jx_pos-11</td>\n",
       "      <td>between_codons-0</td>\n",
       "      <td>includes_5'-0</td>\n",
       "      <td>includes_3'-1</td>\n",
       "      <td>gene-ENSG00000129354.11</td>\n",
       "      <td>jx_coord-10574903_10574492</td>\n",
       "      <td>LRSPTSPSLGSRSDT</td>\n",
       "      <td>20254.0</td>\n",
       "      <td>SPTSPSLGSR</td>\n",
       "    </tr>\n",
       "    <tr>\n",
       "      <th>36317</th>\n",
       "      <td>&gt;pepID-36318</td>\n",
       "      <td>jx_pos-11</td>\n",
       "      <td>between_codons-0</td>\n",
       "      <td>includes_5'-0</td>\n",
       "      <td>includes_3'-1</td>\n",
       "      <td>gene-ENSG00000129354.11</td>\n",
       "      <td>jx_coord-10574903_10574492</td>\n",
       "      <td>LRSPTSPSLGSRSDT</td>\n",
       "      <td>22377.0</td>\n",
       "      <td>SPTSPSLGSR</td>\n",
       "    </tr>\n",
       "    <tr>\n",
       "      <th>36318</th>\n",
       "      <td>&gt;pepID-36319</td>\n",
       "      <td>jx_pos-11</td>\n",
       "      <td>between_codons-0</td>\n",
       "      <td>includes_5'-0</td>\n",
       "      <td>includes_3'-1</td>\n",
       "      <td>gene-ENSG00000129354.11</td>\n",
       "      <td>jx_coord-10574903_10574492</td>\n",
       "      <td>LRSPTSPSLGSRSDT</td>\n",
       "      <td>22378.0</td>\n",
       "      <td>SPTSPSLGSR</td>\n",
       "    </tr>\n",
       "  </tbody>\n",
       "</table>\n",
       "</div>"
      ],
      "text/plain": [
       "                 id     jx_pos    between_codons       include5  \\\n",
       "14250  >pepID-14251  jx_pos-23  between_codons-1  includes_5'-0   \n",
       "24616  >pepID-24617  jx_pos-11  between_codons-0  includes_5'-0   \n",
       "24617  >pepID-24618  jx_pos-11  between_codons-0  includes_5'-0   \n",
       "24822  >pepID-24823  jx_pos-11  between_codons-0  includes_5'-0   \n",
       "24823  >pepID-24824  jx_pos-11  between_codons-0  includes_5'-0   \n",
       "32986  >pepID-32987  jx_pos-11  between_codons-0  includes_5'-0   \n",
       "32987  >pepID-32988  jx_pos-11  between_codons-0  includes_5'-0   \n",
       "36317  >pepID-36318  jx_pos-11  between_codons-0  includes_5'-0   \n",
       "36318  >pepID-36319  jx_pos-11  between_codons-0  includes_5'-0   \n",
       "\n",
       "            include3                     gene                       coord  \\\n",
       "14250  includes_3'-1  gene-ENSG00000129354.11  jx_coord-10578891_10577356   \n",
       "24616  includes_3'-1  gene-ENSG00000129354.11  jx_coord-10574903_10574492   \n",
       "24617  includes_3'-1  gene-ENSG00000129354.11  jx_coord-10574903_10574492   \n",
       "24822  includes_3'-1  gene-ENSG00000129354.11  jx_coord-10574903_10574492   \n",
       "24823  includes_3'-1  gene-ENSG00000129354.11  jx_coord-10574903_10574492   \n",
       "32986  includes_3'-1  gene-ENSG00000129354.11  jx_coord-10574903_10574492   \n",
       "32987  includes_3'-1  gene-ENSG00000129354.11  jx_coord-10574903_10574492   \n",
       "36317  includes_3'-1  gene-ENSG00000129354.11  jx_coord-10574903_10574492   \n",
       "36318  includes_3'-1  gene-ENSG00000129354.11  jx_coord-10574903_10574492   \n",
       "\n",
       "                                           seq  counter tryptic_seq  \n",
       "14250  VKPLIWIESVIEKFSHSRVEIMVKAKGQFKKHMCRRETS      NaN         NaN  \n",
       "24616                          LRSPTSPSLGSRSDT  15161.0  SPTSPSLGSR  \n",
       "24617                          LRSPTSPSLGSRSDT  15162.0  SPTSPSLGSR  \n",
       "24822                          LRSPTSPSLGSRSDT  15297.0  SPTSPSLGSR  \n",
       "24823                          LRSPTSPSLGSRSDT  15298.0  SPTSPSLGSR  \n",
       "32986                          LRSPTSPSLGSRSDT  20253.0  SPTSPSLGSR  \n",
       "32987                          LRSPTSPSLGSRSDT  20254.0  SPTSPSLGSR  \n",
       "36317                          LRSPTSPSLGSRSDT  22377.0  SPTSPSLGSR  \n",
       "36318                          LRSPTSPSLGSRSDT  22378.0  SPTSPSLGSR  "
      ]
     },
     "execution_count": 118,
     "metadata": {},
     "output_type": "execute_result"
    }
   ],
   "source": [
    "df.iloc[[14250, 24616, 24617, 24822, 24823, 32986, 32987, 36317, 36318]]"
   ]
  },
  {
   "cell_type": "code",
   "execution_count": 125,
   "metadata": {
    "ExecuteTime": {
     "end_time": "2022-02-16T13:58:17.328608Z",
     "start_time": "2022-02-16T13:58:17.294544Z"
    }
   },
   "outputs": [
    {
     "ename": "FileNotFoundError",
     "evalue": "[Errno 2] No such file or directory: '/cluster/work/grlab/projects/TCGA/PanCanAtlas/peptides_neoantigen/analysis_pancan/ccell_rerun_2018/output/cptac_mhc/filtered/filtered_for_new_junctions/sites/expression_filtered/TCGA-A2-A0YM.gtex.unique_novel_junction_binders.2.0.annotated.sites.expressed.txt'",
     "output_type": "error",
     "traceback": [
      "\u001b[0;31m---------------------------------------------------------------------------\u001b[0m",
      "\u001b[0;31mFileNotFoundError\u001b[0m                         Traceback (most recent call last)",
      "\u001b[0;32m<ipython-input-125-53f31a4383eb>\u001b[0m in \u001b[0;36m<module>\u001b[0;34m\u001b[0m\n\u001b[0;32m----> 1\u001b[0;31m \u001b[0masn_final\u001b[0m \u001b[0;34m=\u001b[0m \u001b[0mpd\u001b[0m\u001b[0;34m.\u001b[0m\u001b[0mread_csv\u001b[0m\u001b[0;34m(\u001b[0m\u001b[0;34m'/cluster/work/grlab/projects/TCGA/PanCanAtlas/peptides_neoantigen/analysis_pancan/ccell_rerun_2018/output/cptac_mhc/filtered/filtered_for_new_junctions/sites/expression_filtered/TCGA-A2-A0YM.gtex.unique_novel_junction_binders.2.0.annotated.sites.expressed.txt'\u001b[0m\u001b[0;34m,\u001b[0m \u001b[0;34m'\\t'\u001b[0m\u001b[0;34m)\u001b[0m\u001b[0;34m\u001b[0m\u001b[0;34m\u001b[0m\u001b[0m\n\u001b[0m",
      "\u001b[0;32m~/software/anaconda3/envs/myimmuno3_light/lib/python3.8/site-packages/pandas/io/parsers.py\u001b[0m in \u001b[0;36mread_csv\u001b[0;34m(filepath_or_buffer, sep, delimiter, header, names, index_col, usecols, squeeze, prefix, mangle_dupe_cols, dtype, engine, converters, true_values, false_values, skipinitialspace, skiprows, skipfooter, nrows, na_values, keep_default_na, na_filter, verbose, skip_blank_lines, parse_dates, infer_datetime_format, keep_date_col, date_parser, dayfirst, cache_dates, iterator, chunksize, compression, thousands, decimal, lineterminator, quotechar, quoting, doublequote, escapechar, comment, encoding, dialect, error_bad_lines, warn_bad_lines, delim_whitespace, low_memory, memory_map, float_precision)\u001b[0m\n\u001b[1;32m    686\u001b[0m     )\n\u001b[1;32m    687\u001b[0m \u001b[0;34m\u001b[0m\u001b[0m\n\u001b[0;32m--> 688\u001b[0;31m     \u001b[0;32mreturn\u001b[0m \u001b[0m_read\u001b[0m\u001b[0;34m(\u001b[0m\u001b[0mfilepath_or_buffer\u001b[0m\u001b[0;34m,\u001b[0m \u001b[0mkwds\u001b[0m\u001b[0;34m)\u001b[0m\u001b[0;34m\u001b[0m\u001b[0;34m\u001b[0m\u001b[0m\n\u001b[0m\u001b[1;32m    689\u001b[0m \u001b[0;34m\u001b[0m\u001b[0m\n\u001b[1;32m    690\u001b[0m \u001b[0;34m\u001b[0m\u001b[0m\n",
      "\u001b[0;32m~/software/anaconda3/envs/myimmuno3_light/lib/python3.8/site-packages/pandas/io/parsers.py\u001b[0m in \u001b[0;36m_read\u001b[0;34m(filepath_or_buffer, kwds)\u001b[0m\n\u001b[1;32m    452\u001b[0m \u001b[0;34m\u001b[0m\u001b[0m\n\u001b[1;32m    453\u001b[0m     \u001b[0;31m# Create the parser.\u001b[0m\u001b[0;34m\u001b[0m\u001b[0;34m\u001b[0m\u001b[0;34m\u001b[0m\u001b[0m\n\u001b[0;32m--> 454\u001b[0;31m     \u001b[0mparser\u001b[0m \u001b[0;34m=\u001b[0m \u001b[0mTextFileReader\u001b[0m\u001b[0;34m(\u001b[0m\u001b[0mfp_or_buf\u001b[0m\u001b[0;34m,\u001b[0m \u001b[0;34m**\u001b[0m\u001b[0mkwds\u001b[0m\u001b[0;34m)\u001b[0m\u001b[0;34m\u001b[0m\u001b[0;34m\u001b[0m\u001b[0m\n\u001b[0m\u001b[1;32m    455\u001b[0m \u001b[0;34m\u001b[0m\u001b[0m\n\u001b[1;32m    456\u001b[0m     \u001b[0;32mif\u001b[0m \u001b[0mchunksize\u001b[0m \u001b[0;32mor\u001b[0m \u001b[0miterator\u001b[0m\u001b[0;34m:\u001b[0m\u001b[0;34m\u001b[0m\u001b[0;34m\u001b[0m\u001b[0m\n",
      "\u001b[0;32m~/software/anaconda3/envs/myimmuno3_light/lib/python3.8/site-packages/pandas/io/parsers.py\u001b[0m in \u001b[0;36m__init__\u001b[0;34m(self, f, engine, **kwds)\u001b[0m\n\u001b[1;32m    946\u001b[0m             \u001b[0mself\u001b[0m\u001b[0;34m.\u001b[0m\u001b[0moptions\u001b[0m\u001b[0;34m[\u001b[0m\u001b[0;34m\"has_index_names\"\u001b[0m\u001b[0;34m]\u001b[0m \u001b[0;34m=\u001b[0m \u001b[0mkwds\u001b[0m\u001b[0;34m[\u001b[0m\u001b[0;34m\"has_index_names\"\u001b[0m\u001b[0;34m]\u001b[0m\u001b[0;34m\u001b[0m\u001b[0;34m\u001b[0m\u001b[0m\n\u001b[1;32m    947\u001b[0m \u001b[0;34m\u001b[0m\u001b[0m\n\u001b[0;32m--> 948\u001b[0;31m         \u001b[0mself\u001b[0m\u001b[0;34m.\u001b[0m\u001b[0m_make_engine\u001b[0m\u001b[0;34m(\u001b[0m\u001b[0mself\u001b[0m\u001b[0;34m.\u001b[0m\u001b[0mengine\u001b[0m\u001b[0;34m)\u001b[0m\u001b[0;34m\u001b[0m\u001b[0;34m\u001b[0m\u001b[0m\n\u001b[0m\u001b[1;32m    949\u001b[0m \u001b[0;34m\u001b[0m\u001b[0m\n\u001b[1;32m    950\u001b[0m     \u001b[0;32mdef\u001b[0m \u001b[0mclose\u001b[0m\u001b[0;34m(\u001b[0m\u001b[0mself\u001b[0m\u001b[0;34m)\u001b[0m\u001b[0;34m:\u001b[0m\u001b[0;34m\u001b[0m\u001b[0;34m\u001b[0m\u001b[0m\n",
      "\u001b[0;32m~/software/anaconda3/envs/myimmuno3_light/lib/python3.8/site-packages/pandas/io/parsers.py\u001b[0m in \u001b[0;36m_make_engine\u001b[0;34m(self, engine)\u001b[0m\n\u001b[1;32m   1178\u001b[0m     \u001b[0;32mdef\u001b[0m \u001b[0m_make_engine\u001b[0m\u001b[0;34m(\u001b[0m\u001b[0mself\u001b[0m\u001b[0;34m,\u001b[0m \u001b[0mengine\u001b[0m\u001b[0;34m=\u001b[0m\u001b[0;34m\"c\"\u001b[0m\u001b[0;34m)\u001b[0m\u001b[0;34m:\u001b[0m\u001b[0;34m\u001b[0m\u001b[0;34m\u001b[0m\u001b[0m\n\u001b[1;32m   1179\u001b[0m         \u001b[0;32mif\u001b[0m \u001b[0mengine\u001b[0m \u001b[0;34m==\u001b[0m \u001b[0;34m\"c\"\u001b[0m\u001b[0;34m:\u001b[0m\u001b[0;34m\u001b[0m\u001b[0;34m\u001b[0m\u001b[0m\n\u001b[0;32m-> 1180\u001b[0;31m             \u001b[0mself\u001b[0m\u001b[0;34m.\u001b[0m\u001b[0m_engine\u001b[0m \u001b[0;34m=\u001b[0m \u001b[0mCParserWrapper\u001b[0m\u001b[0;34m(\u001b[0m\u001b[0mself\u001b[0m\u001b[0;34m.\u001b[0m\u001b[0mf\u001b[0m\u001b[0;34m,\u001b[0m \u001b[0;34m**\u001b[0m\u001b[0mself\u001b[0m\u001b[0;34m.\u001b[0m\u001b[0moptions\u001b[0m\u001b[0;34m)\u001b[0m\u001b[0;34m\u001b[0m\u001b[0;34m\u001b[0m\u001b[0m\n\u001b[0m\u001b[1;32m   1181\u001b[0m         \u001b[0;32melse\u001b[0m\u001b[0;34m:\u001b[0m\u001b[0;34m\u001b[0m\u001b[0;34m\u001b[0m\u001b[0m\n\u001b[1;32m   1182\u001b[0m             \u001b[0;32mif\u001b[0m \u001b[0mengine\u001b[0m \u001b[0;34m==\u001b[0m \u001b[0;34m\"python\"\u001b[0m\u001b[0;34m:\u001b[0m\u001b[0;34m\u001b[0m\u001b[0;34m\u001b[0m\u001b[0m\n",
      "\u001b[0;32m~/software/anaconda3/envs/myimmuno3_light/lib/python3.8/site-packages/pandas/io/parsers.py\u001b[0m in \u001b[0;36m__init__\u001b[0;34m(self, src, **kwds)\u001b[0m\n\u001b[1;32m   2008\u001b[0m         \u001b[0mkwds\u001b[0m\u001b[0;34m[\u001b[0m\u001b[0;34m\"usecols\"\u001b[0m\u001b[0;34m]\u001b[0m \u001b[0;34m=\u001b[0m \u001b[0mself\u001b[0m\u001b[0;34m.\u001b[0m\u001b[0musecols\u001b[0m\u001b[0;34m\u001b[0m\u001b[0;34m\u001b[0m\u001b[0m\n\u001b[1;32m   2009\u001b[0m \u001b[0;34m\u001b[0m\u001b[0m\n\u001b[0;32m-> 2010\u001b[0;31m         \u001b[0mself\u001b[0m\u001b[0;34m.\u001b[0m\u001b[0m_reader\u001b[0m \u001b[0;34m=\u001b[0m \u001b[0mparsers\u001b[0m\u001b[0;34m.\u001b[0m\u001b[0mTextReader\u001b[0m\u001b[0;34m(\u001b[0m\u001b[0msrc\u001b[0m\u001b[0;34m,\u001b[0m \u001b[0;34m**\u001b[0m\u001b[0mkwds\u001b[0m\u001b[0;34m)\u001b[0m\u001b[0;34m\u001b[0m\u001b[0;34m\u001b[0m\u001b[0m\n\u001b[0m\u001b[1;32m   2011\u001b[0m         \u001b[0mself\u001b[0m\u001b[0;34m.\u001b[0m\u001b[0munnamed_cols\u001b[0m \u001b[0;34m=\u001b[0m \u001b[0mself\u001b[0m\u001b[0;34m.\u001b[0m\u001b[0m_reader\u001b[0m\u001b[0;34m.\u001b[0m\u001b[0munnamed_cols\u001b[0m\u001b[0;34m\u001b[0m\u001b[0;34m\u001b[0m\u001b[0m\n\u001b[1;32m   2012\u001b[0m \u001b[0;34m\u001b[0m\u001b[0m\n",
      "\u001b[0;32mpandas/_libs/parsers.pyx\u001b[0m in \u001b[0;36mpandas._libs.parsers.TextReader.__cinit__\u001b[0;34m()\u001b[0m\n",
      "\u001b[0;32mpandas/_libs/parsers.pyx\u001b[0m in \u001b[0;36mpandas._libs.parsers.TextReader._setup_parser_source\u001b[0;34m()\u001b[0m\n",
      "\u001b[0;31mFileNotFoundError\u001b[0m: [Errno 2] No such file or directory: '/cluster/work/grlab/projects/TCGA/PanCanAtlas/peptides_neoantigen/analysis_pancan/ccell_rerun_2018/output/cptac_mhc/filtered/filtered_for_new_junctions/sites/expression_filtered/TCGA-A2-A0YM.gtex.unique_novel_junction_binders.2.0.annotated.sites.expressed.txt'"
     ]
    }
   ],
   "source": [
    "asn_final = pd.read_csv('/cluster/work/grlab/projects/TCGA/PanCanAtlas/peptides_neoantigen/analysis_pancan/ccell_rerun_2018/output/cptac_mhc/filtered/filtered_for_new_junctions/sites/expression_filtered/TCGA-A2-A0YM.gtex.unique_novel_junction_binders.2.0.annotated.sites.expressed.txt', '\\t')"
   ]
  },
  {
   "cell_type": "code",
   "execution_count": 123,
   "metadata": {
    "ExecuteTime": {
     "end_time": "2022-02-16T13:53:13.842079Z",
     "start_time": "2022-02-16T13:53:13.799024Z"
    }
   },
   "outputs": [
    {
     "data": {
      "text/html": [
       "<div>\n",
       "<style scoped>\n",
       "    .dataframe tbody tr th:only-of-type {\n",
       "        vertical-align: middle;\n",
       "    }\n",
       "\n",
       "    .dataframe tbody tr th {\n",
       "        vertical-align: top;\n",
       "    }\n",
       "\n",
       "    .dataframe thead th {\n",
       "        text-align: right;\n",
       "    }\n",
       "</style>\n",
       "<table border=\"1\" class=\"dataframe\">\n",
       "  <thead>\n",
       "    <tr style=\"text-align: right;\">\n",
       "      <th></th>\n",
       "      <th>#junction</th>\n",
       "      <th>Nof_peptides</th>\n",
       "      <th>Peptides</th>\n",
       "      <th>Binding_ranks</th>\n",
       "      <th>Sources</th>\n",
       "    </tr>\n",
       "  </thead>\n",
       "  <tbody>\n",
       "  </tbody>\n",
       "</table>\n",
       "</div>"
      ],
      "text/plain": [
       "Empty DataFrame\n",
       "Columns: [#junction, Nof_peptides, Peptides, Binding_ranks, Sources]\n",
       "Index: []"
      ]
     },
     "execution_count": 123,
     "metadata": {},
     "output_type": "execute_result"
    }
   ],
   "source": [
    "asn_final.head()"
   ]
  },
  {
   "cell_type": "code",
   "execution_count": null,
   "metadata": {},
   "outputs": [],
   "source": [
    "# Prensent one sample in the power point = the A0 -- plot from yesterday also in A 0 "
   ]
  }
 ],
 "metadata": {
  "kernelspec": {
   "display_name": "myimmuno3_light",
   "language": "python",
   "name": "myimmuno3_light"
  },
  "language_info": {
   "codemirror_mode": {
    "name": "ipython",
    "version": 3
   },
   "file_extension": ".py",
   "mimetype": "text/x-python",
   "name": "python",
   "nbconvert_exporter": "python",
   "pygments_lexer": "ipython3",
   "version": "3.8.5"
  }
 },
 "nbformat": 4,
 "nbformat_minor": 4
}
