{
 "cells": [
  {
   "cell_type": "code",
   "execution_count": 174,
   "metadata": {
    "ExecuteTime": {
     "end_time": "2021-11-29T17:37:31.037866Z",
     "start_time": "2021-11-29T17:37:30.974342Z"
    }
   },
   "outputs": [],
   "source": [
    "import os \n",
    "import pandas as pd \n",
    "import numpy as np \n",
    "import glob"
   ]
  },
  {
   "cell_type": "code",
   "execution_count": 175,
   "metadata": {
    "ExecuteTime": {
     "end_time": "2021-11-29T17:37:31.537358Z",
     "start_time": "2021-11-29T17:37:31.476572Z"
    }
   },
   "outputs": [],
   "source": [
    "out_list = glob.glob('/cluster/work/grlab/projects/projects2020_OHSU/peptides_generation/v2_v2.5f0752a_conf2_annotFrame_cap0_runs_pya0.17.1/TCGA_Breast_1102/filter*/*filtered*')"
   ]
  },
  {
   "cell_type": "code",
   "execution_count": 176,
   "metadata": {
    "ExecuteTime": {
     "end_time": "2021-11-29T17:37:31.824245Z",
     "start_time": "2021-11-29T17:37:31.820493Z"
    }
   },
   "outputs": [
    {
     "data": {
      "text/plain": [
       "['/cluster/work/grlab/projects/projects2020_OHSU/peptides_generation/v2_v2.5f0752a_conf2_annotFrame_cap0_runs_pya0.17.1/TCGA_Breast_1102/filter_TCGA-C8-A12P-01A-11R-A115-07.all/G_filtered_df_TCGA-C8-A12P-01A-11R-A115-07_samp_chrt_norm_mot_unip_12f.tsv',\n",
       " '/cluster/work/grlab/projects/projects2020_OHSU/peptides_generation/v2_v2.5f0752a_conf2_annotFrame_cap0_runs_pya0.17.1/TCGA_Breast_1102/filter_TCGA-C8-A12P-01A-11R-A115-07.all/G_filtered_df_TCGA-C8-A12P-01A-11R-A115-07_samp_chrt_norm_mot_unip_13f.tsv',\n",
       " '/cluster/work/grlab/projects/projects2020_OHSU/peptides_generation/v2_v2.5f0752a_conf2_annotFrame_cap0_runs_pya0.17.1/TCGA_Breast_1102/filter_TCGA-C8-A12P-01A-11R-A115-07.all/G_filtered_df_TCGA-C8-A12P-01A-11R-A115-07_samp_chrt_norm_mot_unip.tsv',\n",
       " '/cluster/work/grlab/projects/projects2020_OHSU/peptides_generation/v2_v2.5f0752a_conf2_annotFrame_cap0_runs_pya0.17.1/TCGA_Breast_1102/filter_TCGA-C8-A12P-01A-11R-A115-07.all/G_filtered_df_TCGA-C8-A12P-01A-11R-A115-07_samp_chrt_norm_mot_unip_orig.tsv',\n",
       " '/cluster/work/grlab/projects/projects2020_OHSU/peptides_generation/v2_v2.5f0752a_conf2_annotFrame_cap0_runs_pya0.17.1/TCGA_Breast_1102/filter_TCGA-A2-A0SX-01A-12R-A084-07.all/G_filtered_df_TCGA-A2-A0SX-01A-12R-A084-07_samp_chrt_norm_mot_unip_orig.tsv',\n",
       " '/cluster/work/grlab/projects/projects2020_OHSU/peptides_generation/v2_v2.5f0752a_conf2_annotFrame_cap0_runs_pya0.17.1/TCGA_Breast_1102/filter_TCGA-A2-A0SX-01A-12R-A084-07.all/G_filtered_df_TCGA-A2-A0SX-01A-12R-A084-07_samp_chrt_norm_mot_unip.tsv',\n",
       " '/cluster/work/grlab/projects/projects2020_OHSU/peptides_generation/v2_v2.5f0752a_conf2_annotFrame_cap0_runs_pya0.17.1/TCGA_Breast_1102/filter_TCGA-AO-A0JM-01A-21R-A056-07.all/G_filtered_df_TCGA-AO-A0JM-01A-21R-A056-07_samp_chrt_norm_mot_unip.tsv',\n",
       " '/cluster/work/grlab/projects/projects2020_OHSU/peptides_generation/v2_v2.5f0752a_conf2_annotFrame_cap0_runs_pya0.17.1/TCGA_Breast_1102/filter_TCGA-AO-A0JM-01A-21R-A056-07.all/G_filtered_df_TCGA-AO-A0JM-01A-21R-A056-07_samp_chrt_norm_mot_unip_orig.tsv',\n",
       " '/cluster/work/grlab/projects/projects2020_OHSU/peptides_generation/v2_v2.5f0752a_conf2_annotFrame_cap0_runs_pya0.17.1/TCGA_Breast_1102/filter_TCGA-AO-A0JM-01A-21R-A056-07.all/G_filtered_df_TCGA-AO-A0JM-01A-21R-A056-07_samp_chrt_norm_mot_unip_12f.tsv',\n",
       " '/cluster/work/grlab/projects/projects2020_OHSU/peptides_generation/v2_v2.5f0752a_conf2_annotFrame_cap0_runs_pya0.17.1/TCGA_Breast_1102/filter_TCGA-AO-A0JM-01A-21R-A056-07.all/G_filtered_df_TCGA-AO-A0JM-01A-21R-A056-07_samp_chrt_norm_mot_unip_13f.tsv',\n",
       " '/cluster/work/grlab/projects/projects2020_OHSU/peptides_generation/v2_v2.5f0752a_conf2_annotFrame_cap0_runs_pya0.17.1/TCGA_Breast_1102/filter_TCGA-A2-A0D2-01A-21R-A034-07.all/G_filtered_df_TCGA-A2-A0D2-01A-21R-A034-07_samp_chrt_norm_mot_unip.tsv',\n",
       " '/cluster/work/grlab/projects/projects2020_OHSU/peptides_generation/v2_v2.5f0752a_conf2_annotFrame_cap0_runs_pya0.17.1/TCGA_Breast_1102/filter_TCGA-A2-A0D2-01A-21R-A034-07.all/G_filtered_df_TCGA-A2-A0D2-01A-21R-A034-07_samp_chrt_norm_mot_unip_orig.tsv',\n",
       " '/cluster/work/grlab/projects/projects2020_OHSU/peptides_generation/v2_v2.5f0752a_conf2_annotFrame_cap0_runs_pya0.17.1/TCGA_Breast_1102/filter_TCGA-BH-A18V-01A-11R-A12D-07.all/G_filtered_df_TCGA-BH-A18V-01A-11R-A12D-07_samp_chrt_norm_mot_unip.tsv',\n",
       " '/cluster/work/grlab/projects/projects2020_OHSU/peptides_generation/v2_v2.5f0752a_conf2_annotFrame_cap0_runs_pya0.17.1/TCGA_Breast_1102/filter_TCGA-BH-A18V-01A-11R-A12D-07.all/G_filtered_df_TCGA-BH-A18V-01A-11R-A12D-07_samp_chrt_norm_mot_unip_orig.tsv']"
      ]
     },
     "execution_count": 176,
     "metadata": {},
     "output_type": "execute_result"
    }
   ],
   "source": [
    "out_list"
   ]
  },
  {
   "cell_type": "code",
   "execution_count": 177,
   "metadata": {
    "ExecuteTime": {
     "end_time": "2021-11-29T17:37:32.155191Z",
     "start_time": "2021-11-29T17:37:32.082597Z"
    }
   },
   "outputs": [],
   "source": [
    "# Exclude backup files \n",
    "out_list = [filename for filename in out_list if 'orig' not in filename]\n",
    "out_list = [filename for filename in out_list if '12f' not in filename]\n",
    "out_list = [filename for filename in out_list if '13f' not in filename]"
   ]
  },
  {
   "cell_type": "code",
   "execution_count": 178,
   "metadata": {
    "ExecuteTime": {
     "end_time": "2021-11-29T17:37:32.794526Z",
     "start_time": "2021-11-29T17:37:32.790605Z"
    }
   },
   "outputs": [
    {
     "data": {
      "text/plain": [
       "['/cluster/work/grlab/projects/projects2020_OHSU/peptides_generation/v2_v2.5f0752a_conf2_annotFrame_cap0_runs_pya0.17.1/TCGA_Breast_1102/filter_TCGA-C8-A12P-01A-11R-A115-07.all/G_filtered_df_TCGA-C8-A12P-01A-11R-A115-07_samp_chrt_norm_mot_unip.tsv',\n",
       " '/cluster/work/grlab/projects/projects2020_OHSU/peptides_generation/v2_v2.5f0752a_conf2_annotFrame_cap0_runs_pya0.17.1/TCGA_Breast_1102/filter_TCGA-A2-A0SX-01A-12R-A084-07.all/G_filtered_df_TCGA-A2-A0SX-01A-12R-A084-07_samp_chrt_norm_mot_unip.tsv',\n",
       " '/cluster/work/grlab/projects/projects2020_OHSU/peptides_generation/v2_v2.5f0752a_conf2_annotFrame_cap0_runs_pya0.17.1/TCGA_Breast_1102/filter_TCGA-AO-A0JM-01A-21R-A056-07.all/G_filtered_df_TCGA-AO-A0JM-01A-21R-A056-07_samp_chrt_norm_mot_unip.tsv',\n",
       " '/cluster/work/grlab/projects/projects2020_OHSU/peptides_generation/v2_v2.5f0752a_conf2_annotFrame_cap0_runs_pya0.17.1/TCGA_Breast_1102/filter_TCGA-A2-A0D2-01A-21R-A034-07.all/G_filtered_df_TCGA-A2-A0D2-01A-21R-A034-07_samp_chrt_norm_mot_unip.tsv',\n",
       " '/cluster/work/grlab/projects/projects2020_OHSU/peptides_generation/v2_v2.5f0752a_conf2_annotFrame_cap0_runs_pya0.17.1/TCGA_Breast_1102/filter_TCGA-BH-A18V-01A-11R-A12D-07.all/G_filtered_df_TCGA-BH-A18V-01A-11R-A12D-07_samp_chrt_norm_mot_unip.tsv']"
      ]
     },
     "execution_count": 178,
     "metadata": {},
     "output_type": "execute_result"
    }
   ],
   "source": [
    "out_list"
   ]
  },
  {
   "cell_type": "code",
   "execution_count": 223,
   "metadata": {
    "ExecuteTime": {
     "end_time": "2021-11-29T18:04:00.489589Z",
     "start_time": "2021-11-29T18:04:00.034881Z"
    }
   },
   "outputs": [
    {
     "name": "stdout",
     "output_type": "stream",
     "text": [
      "/cluster/work/grlab/projects/projects2020_OHSU/peptides_generation/v2_v2.5f0752a_conf2_annotFrame_cap0_runs_pya0.17.1/TCGA_Breast_1102/filter_TCGA-C8-A12P-01A-11R-A115-07.all/G_filtered_df_TCGA-C8-A12P-01A-11R-A115-07_samp_chrt_norm_mot_unip.tsv\n",
      "(302, 13) (0, 0) (6, 12)\n",
      "not TCGA\n",
      "(308, 13)\n",
      "now unique\n",
      "(209, 13)\n",
      "now hack\n",
      "(197, 13)\n",
      "with TCGA\n",
      "(197, 13)\n",
      "/cluster/work/grlab/projects/projects2020_OHSU/peptides_generation/v2_v2.5f0752a_conf2_annotFrame_cap0_runs_pya0.17.1/TCGA_Breast_1102/filter_TCGA-A2-A0SX-01A-12R-A084-07.all/G_filtered_df_TCGA-A2-A0SX-01A-12R-A084-07_samp_chrt_norm_mot_unip.tsv\n",
      "(328, 13) (0, 0) (0, 0)\n",
      "not TCGA\n",
      "(328, 13)\n",
      "now unique\n",
      "(208, 13)\n",
      "now hack\n",
      "(195, 13)\n",
      "with TCGA\n",
      "(195, 13)\n",
      "/cluster/work/grlab/projects/projects2020_OHSU/peptides_generation/v2_v2.5f0752a_conf2_annotFrame_cap0_runs_pya0.17.1/TCGA_Breast_1102/filter_TCGA-AO-A0JM-01A-21R-A056-07.all/G_filtered_df_TCGA-AO-A0JM-01A-21R-A056-07_samp_chrt_norm_mot_unip.tsv\n",
      "(202, 13) (242, 14) (1, 12)\n",
      "not TCGA\n",
      "(203, 13)\n",
      "now unique\n",
      "(171, 13)\n",
      "now hack\n",
      "(162, 13)\n",
      "with TCGA\n",
      "(404, 13)\n",
      "/cluster/work/grlab/projects/projects2020_OHSU/peptides_generation/v2_v2.5f0752a_conf2_annotFrame_cap0_runs_pya0.17.1/TCGA_Breast_1102/filter_TCGA-A2-A0D2-01A-21R-A034-07.all/G_filtered_df_TCGA-A2-A0D2-01A-21R-A034-07_samp_chrt_norm_mot_unip.tsv\n",
      "(326, 13) (0, 0) (0, 0)\n",
      "not TCGA\n",
      "(326, 13)\n",
      "now unique\n",
      "(207, 13)\n",
      "now hack\n",
      "(193, 13)\n",
      "with TCGA\n",
      "(193, 13)\n",
      "/cluster/work/grlab/projects/projects2020_OHSU/peptides_generation/v2_v2.5f0752a_conf2_annotFrame_cap0_runs_pya0.17.1/TCGA_Breast_1102/filter_TCGA-BH-A18V-01A-11R-A12D-07.all/G_filtered_df_TCGA-BH-A18V-01A-11R-A12D-07_samp_chrt_norm_mot_unip.tsv\n",
      "(328, 13) (0, 0) (0, 0)\n",
      "not TCGA\n",
      "(328, 13)\n",
      "now unique\n",
      "(210, 13)\n",
      "now hack\n",
      "(196, 13)\n",
      "with TCGA\n",
      "(196, 13)\n"
     ]
    }
   ],
   "source": [
    "out_saved = []\n",
    "for output_f in out_list:\n",
    "    print(output_f)\n",
    "\n",
    "    with open(output_f, 'r') as fp: \n",
    "        file_13 = []\n",
    "        file_14 = []\n",
    "        file_12 = []\n",
    "\n",
    "        for line in fp.readlines():\n",
    "            line = line.split('\\n')[0]\n",
    "            if 'sample' in line:\n",
    "                columns = line.split('\\t')\n",
    "            elif len(line.split('\\t')) == 14:\n",
    "                file_14.append(line.split('\\t'))\n",
    "            elif len(line.split('\\t')) == 13:\n",
    "                file_13.append(line.split('\\t'))\n",
    "            elif len(line.split('\\t')) == 12:\n",
    "                file_12.append(line.split('\\t'))\n",
    "    file_12 = pd.DataFrame(file_12)\n",
    "    file_13 = pd.DataFrame(file_13)\n",
    "    file_14 = pd.DataFrame(file_14)\n",
    "    print(file_13.shape, file_14.shape, file_12.shape)\n",
    "\n",
    "    # 1 Correct the missing columns \n",
    "    mycols_12 = [name for name in columns if name != 'Init_cancer']\n",
    "    mycols_13 = columns \n",
    "    mycols_14 = columns + ['duplicate']\n",
    "\n",
    "    if file_12.shape[0] > 0 : \n",
    "        file_12.columns = mycols_12\n",
    "    if file_13.shape[0] > 0 : \n",
    "        file_13.columns = mycols_13\n",
    "    if file_14.shape[0] > 0 : \n",
    "        file_14.columns = mycols_14\n",
    "\n",
    "    # display(file_12.head())\n",
    "    # display(file_13.head())\n",
    "    # display(file_14.head())\n",
    "    if file_13.shape[0] > 0 : \n",
    "        file_13['Init_cancer'] = file_13['Filter_Sample']\n",
    "    if file_14.shape[0] > 0 : \n",
    "        file_14 = file_14.drop(['duplicate'], axis=1)\n",
    "    df = pd.concat([file_13, file_12])\n",
    "    print('not TCGA')\n",
    "    print(df.shape)\n",
    "\n",
    "\n",
    "    # 2. Suppress normals >0 for n >=1 samples\n",
    "    df.loc[(df['reads_per_normal_sample'] == '0.0'), '#_normal_samples_allowed'] = '1'\n",
    "    \n",
    "    # 3. Remove duplicates \n",
    "    print('now unique')\n",
    "    df = df.drop_duplicates()\n",
    "    print(df.shape)\n",
    "    \n",
    "    \n",
    "    # 3. HACK, DO RERUNS!!!!!\n",
    "    print('now hack')\n",
    "    index_keep = df.loc[:, ['sample','mutation_mode','min_sample_reads','#_of_cohort_samples','reads_per_cohort_sample',\n",
    "       '#_normal_samples_allowed','normal_cohort_id','reads_per_normal_sample']].drop_duplicates().index\n",
    "    df = df.loc[index_keep]\n",
    "    print(df.shape)\n",
    "\n",
    "    # 4 join with batches\n",
    "    print('with TCGA')\n",
    "    df = pd.concat([file_14, df])\n",
    "    print(df.shape)\n",
    "\n",
    "    save_path = '.'.join(output_f.split('.')[:-1]) + '_cleaned20211129.tsv'\n",
    "    out_saved.append(save_path)\n",
    "    df.to_csv(save_path, index = None)"
   ]
  },
  {
   "cell_type": "code",
   "execution_count": 224,
   "metadata": {
    "ExecuteTime": {
     "end_time": "2021-11-29T18:04:03.312882Z",
     "start_time": "2021-11-29T18:04:03.303016Z"
    }
   },
   "outputs": [
    {
     "data": {
      "text/plain": [
       "['/cluster/work/grlab/projects/projects2020_OHSU/peptides_generation/v2_v2.5f0752a_conf2_annotFrame_cap0_runs_pya0.17.1/TCGA_Breast_1102/filter_TCGA-C8-A12P-01A-11R-A115-07.all/G_filtered_df_TCGA-C8-A12P-01A-11R-A115-07_samp_chrt_norm_mot_unip_cleaned20211129.tsv',\n",
       " '/cluster/work/grlab/projects/projects2020_OHSU/peptides_generation/v2_v2.5f0752a_conf2_annotFrame_cap0_runs_pya0.17.1/TCGA_Breast_1102/filter_TCGA-A2-A0SX-01A-12R-A084-07.all/G_filtered_df_TCGA-A2-A0SX-01A-12R-A084-07_samp_chrt_norm_mot_unip_cleaned20211129.tsv',\n",
       " '/cluster/work/grlab/projects/projects2020_OHSU/peptides_generation/v2_v2.5f0752a_conf2_annotFrame_cap0_runs_pya0.17.1/TCGA_Breast_1102/filter_TCGA-AO-A0JM-01A-21R-A056-07.all/G_filtered_df_TCGA-AO-A0JM-01A-21R-A056-07_samp_chrt_norm_mot_unip_cleaned20211129.tsv',\n",
       " '/cluster/work/grlab/projects/projects2020_OHSU/peptides_generation/v2_v2.5f0752a_conf2_annotFrame_cap0_runs_pya0.17.1/TCGA_Breast_1102/filter_TCGA-A2-A0D2-01A-21R-A034-07.all/G_filtered_df_TCGA-A2-A0D2-01A-21R-A034-07_samp_chrt_norm_mot_unip_cleaned20211129.tsv',\n",
       " '/cluster/work/grlab/projects/projects2020_OHSU/peptides_generation/v2_v2.5f0752a_conf2_annotFrame_cap0_runs_pya0.17.1/TCGA_Breast_1102/filter_TCGA-BH-A18V-01A-11R-A12D-07.all/G_filtered_df_TCGA-BH-A18V-01A-11R-A12D-07_samp_chrt_norm_mot_unip_cleaned20211129.tsv']"
      ]
     },
     "execution_count": 224,
     "metadata": {},
     "output_type": "execute_result"
    }
   ],
   "source": [
    "out_saved"
   ]
  },
  {
   "cell_type": "code",
   "execution_count": 163,
   "metadata": {
    "ExecuteTime": {
     "end_time": "2021-11-29T17:32:34.534025Z",
     "start_time": "2021-11-29T17:32:34.531332Z"
    }
   },
   "outputs": [],
   "source": [
    "# # Read and reformat table \n",
    "\n",
    "\n",
    "\n",
    "# read_tables = {}\n",
    "\n",
    "# for filename in out_list:\n",
    "#     if '12f' in filename:\n",
    "#         read_tables[filename] = pd.read_csv(filename, sep = '\\t', header = None)\n",
    "#     else:\n",
    "#         read_tables[filename] = pd.read_csv(filename, sep = '\\t')\n",
    "#     if 'sample' in read_tables[filename].columns:\n",
    "#         mycols = read_tables[filename].columns\n",
    "        \n",
    "# # 1. Correct tht missing column in 12f files \n",
    "\n",
    "\n",
    "# for filename in out_list:\n",
    "#     if '12f' in filename:\n",
    "#         read_tables[filename].columns = mycols_12\n",
    "#         read_tables[filename]['Init_cancer'] = read_tables[filename]['Filter_Sample']\n",
    "# # 2. Remove duplicates \n",
    "# for filename in out_list:\n",
    "#     read_tables[filename] = read_tables[filename].drop_duplicates()\n",
    "\n",
    "# # 3. Suppress normals >0 for n >=1 samples\n"
   ]
  },
  {
   "cell_type": "code",
   "execution_count": null,
   "metadata": {},
   "outputs": [],
   "source": []
  }
 ],
 "metadata": {
  "kernelspec": {
   "display_name": "myimmuno3_light",
   "language": "python",
   "name": "myimmuno3_light"
  },
  "language_info": {
   "codemirror_mode": {
    "name": "ipython",
    "version": 3
   },
   "file_extension": ".py",
   "mimetype": "text/x-python",
   "name": "python",
   "nbconvert_exporter": "python",
   "pygments_lexer": "ipython3",
   "version": "3.8.5"
  }
 },
 "nbformat": 4,
 "nbformat_minor": 4
}
