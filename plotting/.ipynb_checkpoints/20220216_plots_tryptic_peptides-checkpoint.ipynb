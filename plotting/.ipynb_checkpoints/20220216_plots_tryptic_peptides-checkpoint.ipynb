{
 "cells": [
  {
   "cell_type": "code",
   "execution_count": 1,
   "metadata": {
    "ExecuteTime": {
     "end_time": "2022-02-16T15:34:33.242851Z",
     "start_time": "2022-02-16T15:34:32.061839Z"
    }
   },
   "outputs": [],
   "source": [
    "import os \n",
    "import pandas as pd \n",
    "import numpy as np \n",
    "import tarfile\n",
    "import glob\n",
    "from collections import defaultdict\n",
    "import matplotlib.pyplot as plt\n",
    "import seaborn as sns "
   ]
  },
  {
   "cell_type": "code",
   "execution_count": 2,
   "metadata": {
    "ExecuteTime": {
     "end_time": "2022-02-16T15:34:33.247268Z",
     "start_time": "2022-02-16T15:34:33.244459Z"
    }
   },
   "outputs": [],
   "source": [
    "# paths \n",
    "path_tryptic_pep= '/cluster/work/grlab/projects/projects2020_OHSU/share_OHUS_PNLL/tryptic_peptide_fastas'\n",
    "\n",
    "path_filtered_pep = '/cluster/work/grlab/projects/projects2020_OHSU/peptides_generation/v2_v2.5f0752a_conf2_annotFrame_cap0_runs_pya0.17.1/TCGA_Breast_1102'\n",
    "\n",
    "commit_interest = 'commit_d4aee54_GTEXcore' # hardcoded cohort \n",
    "\n",
    "path_eth = os.path.join(path_tryptic_pep, 'G_tryptic_peptides')\n",
    "\n",
    "file_name = 'peptide-extracted-filter.fasta'"
   ]
  },
  {
   "cell_type": "code",
   "execution_count": 3,
   "metadata": {
    "ExecuteTime": {
     "end_time": "2022-02-16T15:34:33.252410Z",
     "start_time": "2022-02-16T15:34:33.249709Z"
    }
   },
   "outputs": [],
   "source": [
    "samples = ['TCGA-BH-A18V-01A-11R-A12D-07','TCGA-C8-A12P-01A-11R-A115-07',\n",
    "           'TCGA-A2-A0D2-01A-21R-A034-07','TCGA-A2-A0SX-01A-12R-A084-07',\n",
    "           'TCGA-AO-A0JM-01A-21R-A056-07']"
   ]
  },
  {
   "cell_type": "code",
   "execution_count": 62,
   "metadata": {
    "ExecuteTime": {
     "end_time": "2022-02-16T15:36:06.366195Z",
     "start_time": "2022-02-16T15:36:06.220889Z"
    }
   },
   "outputs": [],
   "source": [
    "sample = samples[-1]"
   ]
  },
  {
   "cell_type": "code",
   "execution_count": 35,
   "metadata": {
    "ExecuteTime": {
     "end_time": "2022-02-16T15:35:08.643970Z",
     "start_time": "2022-02-16T15:35:08.471548Z"
    }
   },
   "outputs": [],
   "source": [
    "# Tryptic digestion products from Andy Lin \n",
    "data_tryptic = []\n",
    "counter = 0 \n",
    "with open(os.path.join(path_eth, 'G_' + sample, file_name ), 'r') as f: \n",
    "    for line in f.readlines():\n",
    "        if 'pepID' in line:\n",
    "            counter +=1\n",
    "            data_tryptic.append ([line.split('\\n')[0]])\n",
    "        else:\n",
    "            data_tryptic[-1].extend([counter, line.split('\\n')[0]])\n",
    "\n",
    "\n",
    "data_tryptic = pd.DataFrame(data_tryptic)\n",
    "data_tryptic.columns = ['id', 'counter', 'tryptic_seq']"
   ]
  },
  {
   "cell_type": "code",
   "execution_count": 36,
   "metadata": {
    "ExecuteTime": {
     "end_time": "2022-02-16T15:35:08.692825Z",
     "start_time": "2022-02-16T15:35:08.685963Z"
    }
   },
   "outputs": [],
   "source": [
    "assert(data_tryptic['id'].unique().shape[0] == data_tryptic.shape[0])"
   ]
  },
  {
   "cell_type": "code",
   "execution_count": 37,
   "metadata": {
    "ExecuteTime": {
     "end_time": "2022-02-16T15:35:08.848733Z",
     "start_time": "2022-02-16T15:35:08.840839Z"
    }
   },
   "outputs": [
    {
     "data": {
      "text/plain": [
       "(24764, 3)"
      ]
     },
     "execution_count": 37,
     "metadata": {},
     "output_type": "execute_result"
    }
   ],
   "source": [
    "data_tryptic.shape"
   ]
  },
  {
   "cell_type": "code",
   "execution_count": 38,
   "metadata": {
    "ExecuteTime": {
     "end_time": "2022-02-16T15:35:09.129509Z",
     "start_time": "2022-02-16T15:35:09.112361Z"
    }
   },
   "outputs": [
    {
     "data": {
      "text/plain": [
       "24764"
      ]
     },
     "execution_count": 38,
     "metadata": {},
     "output_type": "execute_result"
    }
   ],
   "source": [
    "data_tryptic['id'].unique().shape[0]"
   ]
  },
  {
   "cell_type": "code",
   "execution_count": 39,
   "metadata": {
    "ExecuteTime": {
     "end_time": "2022-02-16T15:35:09.269910Z",
     "start_time": "2022-02-16T15:35:09.255942Z"
    }
   },
   "outputs": [
    {
     "data": {
      "text/plain": [
       "(2757,)"
      ]
     },
     "execution_count": 39,
     "metadata": {},
     "output_type": "execute_result"
    }
   ],
   "source": [
    "data_tryptic['tryptic_seq'].unique().shape"
   ]
  },
  {
   "cell_type": "code",
   "execution_count": 40,
   "metadata": {
    "ExecuteTime": {
     "end_time": "2022-02-16T15:35:09.750982Z",
     "start_time": "2022-02-16T15:35:09.414771Z"
    }
   },
   "outputs": [],
   "source": [
    "# Filtered peptides to query (longlist for sample)\n",
    "data_meta = []\n",
    "with open(os.path.join(path_filtered_pep, f'filter_{sample}.all', commit_interest, f'G_{sample}_query_peptides.fa'), 'r') as f :\n",
    "    for line in f.readlines():\n",
    "        if 'pepID' in line:\n",
    "            data_meta.append(line.split('\\n')[0].split(';'))\n",
    "        else:\n",
    "            data_meta[-1].extend([line.split('\\n')[0]])\n",
    "\n",
    "data_meta = pd.DataFrame(data_meta)\n",
    "data_meta.columns = ['id', 'jx_pos', 'between_codons', 'include5', 'include3', 'gene', 'coord', 'seq']"
   ]
  },
  {
   "cell_type": "code",
   "execution_count": 41,
   "metadata": {
    "ExecuteTime": {
     "end_time": "2022-02-16T15:35:09.765577Z",
     "start_time": "2022-02-16T15:35:09.753048Z"
    }
   },
   "outputs": [
    {
     "data": {
      "text/html": [
       "<div>\n",
       "<style scoped>\n",
       "    .dataframe tbody tr th:only-of-type {\n",
       "        vertical-align: middle;\n",
       "    }\n",
       "\n",
       "    .dataframe tbody tr th {\n",
       "        vertical-align: top;\n",
       "    }\n",
       "\n",
       "    .dataframe thead th {\n",
       "        text-align: right;\n",
       "    }\n",
       "</style>\n",
       "<table border=\"1\" class=\"dataframe\">\n",
       "  <thead>\n",
       "    <tr style=\"text-align: right;\">\n",
       "      <th></th>\n",
       "      <th>id</th>\n",
       "      <th>jx_pos</th>\n",
       "      <th>between_codons</th>\n",
       "      <th>include5</th>\n",
       "      <th>include3</th>\n",
       "      <th>gene</th>\n",
       "      <th>coord</th>\n",
       "      <th>seq</th>\n",
       "    </tr>\n",
       "  </thead>\n",
       "  <tbody>\n",
       "    <tr>\n",
       "      <th>0</th>\n",
       "      <td>&gt;pepID-1</td>\n",
       "      <td>jx_pos-12</td>\n",
       "      <td>between_codons-1</td>\n",
       "      <td>includes_5'-0</td>\n",
       "      <td>includes_3'-1</td>\n",
       "      <td>gene-ENSG00000119333.11</td>\n",
       "      <td>jx_coord-128640690_128636438</td>\n",
       "      <td>WLRGELDRAAADGWTMGTGARLSPSCVPGTWTGETCVPSSRRPWWR...</td>\n",
       "    </tr>\n",
       "    <tr>\n",
       "      <th>1</th>\n",
       "      <td>&gt;pepID-2</td>\n",
       "      <td>jx_pos-27</td>\n",
       "      <td>between_codons-1</td>\n",
       "      <td>includes_5'-0</td>\n",
       "      <td>includes_3'-1</td>\n",
       "      <td>gene-ENSG00000086758.16</td>\n",
       "      <td>jx_coord-53550665_53549505</td>\n",
       "      <td>ATVGSSILALLCREVAPSRWGVAAAITGLLAVM</td>\n",
       "    </tr>\n",
       "    <tr>\n",
       "      <th>2</th>\n",
       "      <td>&gt;pepID-3</td>\n",
       "      <td>jx_pos-6</td>\n",
       "      <td>between_codons-1</td>\n",
       "      <td>includes_5'-0</td>\n",
       "      <td>includes_3'-1</td>\n",
       "      <td>gene-ENSG00000120149.9</td>\n",
       "      <td>jx_coord-174725038_174729158</td>\n",
       "      <td>PIFAAAKTYEPYHLHPEETQDQSEAAHALYHIPAPRPGAQVPSETV...</td>\n",
       "    </tr>\n",
       "  </tbody>\n",
       "</table>\n",
       "</div>"
      ],
      "text/plain": [
       "         id     jx_pos    between_codons       include5       include3  \\\n",
       "0  >pepID-1  jx_pos-12  between_codons-1  includes_5'-0  includes_3'-1   \n",
       "1  >pepID-2  jx_pos-27  between_codons-1  includes_5'-0  includes_3'-1   \n",
       "2  >pepID-3   jx_pos-6  between_codons-1  includes_5'-0  includes_3'-1   \n",
       "\n",
       "                      gene                         coord  \\\n",
       "0  gene-ENSG00000119333.11  jx_coord-128640690_128636438   \n",
       "1  gene-ENSG00000086758.16    jx_coord-53550665_53549505   \n",
       "2   gene-ENSG00000120149.9  jx_coord-174725038_174729158   \n",
       "\n",
       "                                                 seq  \n",
       "0  WLRGELDRAAADGWTMGTGARLSPSCVPGTWTGETCVPSSRRPWWR...  \n",
       "1                  ATVGSSILALLCREVAPSRWGVAAAITGLLAVM  \n",
       "2  PIFAAAKTYEPYHLHPEETQDQSEAAHALYHIPAPRPGAQVPSETV...  "
      ]
     },
     "execution_count": 41,
     "metadata": {},
     "output_type": "execute_result"
    }
   ],
   "source": [
    "data_meta.head(3)"
   ]
  },
  {
   "cell_type": "code",
   "execution_count": 42,
   "metadata": {
    "ExecuteTime": {
     "end_time": "2022-02-16T15:35:09.842888Z",
     "start_time": "2022-02-16T15:35:09.768201Z"
    }
   },
   "outputs": [],
   "source": [
    "# merge tryptic, peptide metadata\n",
    "df = data_meta.merge(data_tryptic, on = 'id', how = 'outer')\n",
    "\n",
    "df['len_pep'] = [len(x) for x in df['seq']]\n",
    "\n",
    "df['has_tryptic'] = 1\n",
    "df.loc[df['tryptic_seq'].isna(), 'has_tryptic'] = 0 "
   ]
  },
  {
   "cell_type": "code",
   "execution_count": 43,
   "metadata": {
    "ExecuteTime": {
     "end_time": "2022-02-16T15:35:09.973178Z",
     "start_time": "2022-02-16T15:35:09.934738Z"
    }
   },
   "outputs": [
    {
     "data": {
      "text/html": [
       "<div>\n",
       "<style scoped>\n",
       "    .dataframe tbody tr th:only-of-type {\n",
       "        vertical-align: middle;\n",
       "    }\n",
       "\n",
       "    .dataframe tbody tr th {\n",
       "        vertical-align: top;\n",
       "    }\n",
       "\n",
       "    .dataframe thead th {\n",
       "        text-align: right;\n",
       "    }\n",
       "</style>\n",
       "<table border=\"1\" class=\"dataframe\">\n",
       "  <thead>\n",
       "    <tr style=\"text-align: right;\">\n",
       "      <th></th>\n",
       "      <th>id</th>\n",
       "      <th>jx_pos</th>\n",
       "      <th>between_codons</th>\n",
       "      <th>include5</th>\n",
       "      <th>include3</th>\n",
       "      <th>gene</th>\n",
       "      <th>coord</th>\n",
       "      <th>seq</th>\n",
       "      <th>counter</th>\n",
       "      <th>tryptic_seq</th>\n",
       "      <th>len_pep</th>\n",
       "      <th>has_tryptic</th>\n",
       "    </tr>\n",
       "  </thead>\n",
       "  <tbody>\n",
       "    <tr>\n",
       "      <th>0</th>\n",
       "      <td>&gt;pepID-1</td>\n",
       "      <td>jx_pos-12</td>\n",
       "      <td>between_codons-1</td>\n",
       "      <td>includes_5'-0</td>\n",
       "      <td>includes_3'-1</td>\n",
       "      <td>gene-ENSG00000119333.11</td>\n",
       "      <td>jx_coord-128640690_128636438</td>\n",
       "      <td>WLRGELDRAAADGWTMGTGARLSPSCVPGTWTGETCVPSSRRPWWR...</td>\n",
       "      <td>1.0</td>\n",
       "      <td>AAADGWTMGTGAR</td>\n",
       "      <td>116</td>\n",
       "      <td>1</td>\n",
       "    </tr>\n",
       "    <tr>\n",
       "      <th>1</th>\n",
       "      <td>&gt;pepID-2</td>\n",
       "      <td>jx_pos-27</td>\n",
       "      <td>between_codons-1</td>\n",
       "      <td>includes_5'-0</td>\n",
       "      <td>includes_3'-1</td>\n",
       "      <td>gene-ENSG00000086758.16</td>\n",
       "      <td>jx_coord-53550665_53549505</td>\n",
       "      <td>ATVGSSILALLCREVAPSRWGVAAAITGLLAVM</td>\n",
       "      <td>2.0</td>\n",
       "      <td>WGVAAAITGLLAVM</td>\n",
       "      <td>33</td>\n",
       "      <td>1</td>\n",
       "    </tr>\n",
       "    <tr>\n",
       "      <th>2</th>\n",
       "      <td>&gt;pepID-3</td>\n",
       "      <td>jx_pos-6</td>\n",
       "      <td>between_codons-1</td>\n",
       "      <td>includes_5'-0</td>\n",
       "      <td>includes_3'-1</td>\n",
       "      <td>gene-ENSG00000120149.9</td>\n",
       "      <td>jx_coord-174725038_174729158</td>\n",
       "      <td>PIFAAAKTYEPYHLHPEETQDQSEAAHALYHIPAPRPGAQVPSETV...</td>\n",
       "      <td>NaN</td>\n",
       "      <td>NaN</td>\n",
       "      <td>123</td>\n",
       "      <td>0</td>\n",
       "    </tr>\n",
       "    <tr>\n",
       "      <th>3</th>\n",
       "      <td>&gt;pepID-4</td>\n",
       "      <td>jx_pos-6</td>\n",
       "      <td>between_codons-1</td>\n",
       "      <td>includes_5'-0</td>\n",
       "      <td>includes_3'-1</td>\n",
       "      <td>gene-ENSG00000120149.9</td>\n",
       "      <td>jx_coord-174725038_174729158</td>\n",
       "      <td>PIFAAAKTYEPYHLHPEETQDQSEAAHALYHIPAPRPGAQVPSETV...</td>\n",
       "      <td>NaN</td>\n",
       "      <td>NaN</td>\n",
       "      <td>123</td>\n",
       "      <td>0</td>\n",
       "    </tr>\n",
       "    <tr>\n",
       "      <th>4</th>\n",
       "      <td>&gt;pepID-5</td>\n",
       "      <td>jx_pos-90</td>\n",
       "      <td>between_codons-0</td>\n",
       "      <td>includes_5'-1</td>\n",
       "      <td>includes_3'-1</td>\n",
       "      <td>gene-ENSG00000120149.9</td>\n",
       "      <td>jx_coord-174724853_174725017</td>\n",
       "      <td>MASPSKGNDLFSPDEEGPAVVAGPGPGPGGAEGAAEERRVKVSSLP...</td>\n",
       "      <td>3.0</td>\n",
       "      <td>TYEPYHLHPEETQDQSEAAHALYHIPAPR</td>\n",
       "      <td>188</td>\n",
       "      <td>1</td>\n",
       "    </tr>\n",
       "    <tr>\n",
       "      <th>...</th>\n",
       "      <td>...</td>\n",
       "      <td>...</td>\n",
       "      <td>...</td>\n",
       "      <td>...</td>\n",
       "      <td>...</td>\n",
       "      <td>...</td>\n",
       "      <td>...</td>\n",
       "      <td>...</td>\n",
       "      <td>...</td>\n",
       "      <td>...</td>\n",
       "      <td>...</td>\n",
       "      <td>...</td>\n",
       "    </tr>\n",
       "    <tr>\n",
       "      <th>40137</th>\n",
       "      <td>&gt;pepID-40138</td>\n",
       "      <td>jx_pos-24</td>\n",
       "      <td>between_codons-0</td>\n",
       "      <td>includes_5'-0</td>\n",
       "      <td>includes_3'-1</td>\n",
       "      <td>gene-ENSG00000134419.15</td>\n",
       "      <td>jx_coord-18783640_18783102</td>\n",
       "      <td>NLYPPNYASGALVESILTSWLLYYSFIVLTIFTNKMPHGLWCFHLV...</td>\n",
       "      <td>NaN</td>\n",
       "      <td>NaN</td>\n",
       "      <td>68</td>\n",
       "      <td>0</td>\n",
       "    </tr>\n",
       "    <tr>\n",
       "      <th>40138</th>\n",
       "      <td>&gt;pepID-40139</td>\n",
       "      <td>jx_pos-24</td>\n",
       "      <td>between_codons-0</td>\n",
       "      <td>includes_5'-0</td>\n",
       "      <td>includes_3'-1</td>\n",
       "      <td>gene-ENSG00000134419.15</td>\n",
       "      <td>jx_coord-18783640_18783102</td>\n",
       "      <td>NLYPPNYASGALVESILTSWLLYYSFIVQIKCLMDSGASTWSF</td>\n",
       "      <td>NaN</td>\n",
       "      <td>NaN</td>\n",
       "      <td>43</td>\n",
       "      <td>0</td>\n",
       "    </tr>\n",
       "    <tr>\n",
       "      <th>40139</th>\n",
       "      <td>&gt;pepID-40140</td>\n",
       "      <td>jx_pos-24</td>\n",
       "      <td>between_codons-0</td>\n",
       "      <td>includes_5'-0</td>\n",
       "      <td>includes_3'-1</td>\n",
       "      <td>gene-ENSG00000134419.15</td>\n",
       "      <td>jx_coord-18783640_18783102</td>\n",
       "      <td>NLYPPNYASGALVESILTSWLLYYSFIVQIKCLMDSGASTWSF</td>\n",
       "      <td>NaN</td>\n",
       "      <td>NaN</td>\n",
       "      <td>43</td>\n",
       "      <td>0</td>\n",
       "    </tr>\n",
       "    <tr>\n",
       "      <th>40140</th>\n",
       "      <td>&gt;pepID-40141</td>\n",
       "      <td>jx_pos-24</td>\n",
       "      <td>between_codons-0</td>\n",
       "      <td>includes_5'-0</td>\n",
       "      <td>includes_3'-1</td>\n",
       "      <td>gene-ENSG00000134419.15</td>\n",
       "      <td>jx_coord-18783640_18783102</td>\n",
       "      <td>NLYPPNYASGALVESILTSWLLYYSFIVQIKCLMDSGASTWSF</td>\n",
       "      <td>NaN</td>\n",
       "      <td>NaN</td>\n",
       "      <td>43</td>\n",
       "      <td>0</td>\n",
       "    </tr>\n",
       "    <tr>\n",
       "      <th>40141</th>\n",
       "      <td>&gt;pepID-40142</td>\n",
       "      <td>jx_pos-33</td>\n",
       "      <td>between_codons-0</td>\n",
       "      <td>includes_5'-0</td>\n",
       "      <td>includes_3'-1</td>\n",
       "      <td>gene-ENSG00000025796.14</td>\n",
       "      <td>jx_coord-107929414_107928315</td>\n",
       "      <td>ANSIKEYQKSIWKVYVVSFTVIKTPAKYYSYSKGWGFTMFPRLVSN...</td>\n",
       "      <td>24764.0</td>\n",
       "      <td>GWGFTMFPR</td>\n",
       "      <td>65</td>\n",
       "      <td>1</td>\n",
       "    </tr>\n",
       "  </tbody>\n",
       "</table>\n",
       "<p>40142 rows × 12 columns</p>\n",
       "</div>"
      ],
      "text/plain": [
       "                 id     jx_pos    between_codons       include5  \\\n",
       "0          >pepID-1  jx_pos-12  between_codons-1  includes_5'-0   \n",
       "1          >pepID-2  jx_pos-27  between_codons-1  includes_5'-0   \n",
       "2          >pepID-3   jx_pos-6  between_codons-1  includes_5'-0   \n",
       "3          >pepID-4   jx_pos-6  between_codons-1  includes_5'-0   \n",
       "4          >pepID-5  jx_pos-90  between_codons-0  includes_5'-1   \n",
       "...             ...        ...               ...            ...   \n",
       "40137  >pepID-40138  jx_pos-24  between_codons-0  includes_5'-0   \n",
       "40138  >pepID-40139  jx_pos-24  between_codons-0  includes_5'-0   \n",
       "40139  >pepID-40140  jx_pos-24  between_codons-0  includes_5'-0   \n",
       "40140  >pepID-40141  jx_pos-24  between_codons-0  includes_5'-0   \n",
       "40141  >pepID-40142  jx_pos-33  between_codons-0  includes_5'-0   \n",
       "\n",
       "            include3                     gene                         coord  \\\n",
       "0      includes_3'-1  gene-ENSG00000119333.11  jx_coord-128640690_128636438   \n",
       "1      includes_3'-1  gene-ENSG00000086758.16    jx_coord-53550665_53549505   \n",
       "2      includes_3'-1   gene-ENSG00000120149.9  jx_coord-174725038_174729158   \n",
       "3      includes_3'-1   gene-ENSG00000120149.9  jx_coord-174725038_174729158   \n",
       "4      includes_3'-1   gene-ENSG00000120149.9  jx_coord-174724853_174725017   \n",
       "...              ...                      ...                           ...   \n",
       "40137  includes_3'-1  gene-ENSG00000134419.15    jx_coord-18783640_18783102   \n",
       "40138  includes_3'-1  gene-ENSG00000134419.15    jx_coord-18783640_18783102   \n",
       "40139  includes_3'-1  gene-ENSG00000134419.15    jx_coord-18783640_18783102   \n",
       "40140  includes_3'-1  gene-ENSG00000134419.15    jx_coord-18783640_18783102   \n",
       "40141  includes_3'-1  gene-ENSG00000025796.14  jx_coord-107929414_107928315   \n",
       "\n",
       "                                                     seq  counter  \\\n",
       "0      WLRGELDRAAADGWTMGTGARLSPSCVPGTWTGETCVPSSRRPWWR...      1.0   \n",
       "1                      ATVGSSILALLCREVAPSRWGVAAAITGLLAVM      2.0   \n",
       "2      PIFAAAKTYEPYHLHPEETQDQSEAAHALYHIPAPRPGAQVPSETV...      NaN   \n",
       "3      PIFAAAKTYEPYHLHPEETQDQSEAAHALYHIPAPRPGAQVPSETV...      NaN   \n",
       "4      MASPSKGNDLFSPDEEGPAVVAGPGPGPGGAEGAAEERRVKVSSLP...      3.0   \n",
       "...                                                  ...      ...   \n",
       "40137  NLYPPNYASGALVESILTSWLLYYSFIVLTIFTNKMPHGLWCFHLV...      NaN   \n",
       "40138        NLYPPNYASGALVESILTSWLLYYSFIVQIKCLMDSGASTWSF      NaN   \n",
       "40139        NLYPPNYASGALVESILTSWLLYYSFIVQIKCLMDSGASTWSF      NaN   \n",
       "40140        NLYPPNYASGALVESILTSWLLYYSFIVQIKCLMDSGASTWSF      NaN   \n",
       "40141  ANSIKEYQKSIWKVYVVSFTVIKTPAKYYSYSKGWGFTMFPRLVSN...  24764.0   \n",
       "\n",
       "                         tryptic_seq  len_pep  has_tryptic  \n",
       "0                      AAADGWTMGTGAR      116            1  \n",
       "1                     WGVAAAITGLLAVM       33            1  \n",
       "2                                NaN      123            0  \n",
       "3                                NaN      123            0  \n",
       "4      TYEPYHLHPEETQDQSEAAHALYHIPAPR      188            1  \n",
       "...                              ...      ...          ...  \n",
       "40137                            NaN       68            0  \n",
       "40138                            NaN       43            0  \n",
       "40139                            NaN       43            0  \n",
       "40140                            NaN       43            0  \n",
       "40141                      GWGFTMFPR       65            1  \n",
       "\n",
       "[40142 rows x 12 columns]"
      ]
     },
     "execution_count": 43,
     "metadata": {},
     "output_type": "execute_result"
    }
   ],
   "source": [
    "df"
   ]
  },
  {
   "cell_type": "code",
   "execution_count": 82,
   "metadata": {
    "ExecuteTime": {
     "end_time": "2022-02-16T16:17:25.597881Z",
     "start_time": "2022-02-16T16:17:25.553709Z"
    }
   },
   "outputs": [
    {
     "data": {
      "text/plain": [
       "(40142, 12)"
      ]
     },
     "execution_count": 82,
     "metadata": {},
     "output_type": "execute_result"
    }
   ],
   "source": [
    "df.shape"
   ]
  },
  {
   "cell_type": "code",
   "execution_count": 84,
   "metadata": {
    "ExecuteTime": {
     "end_time": "2022-02-16T16:18:32.996519Z",
     "start_time": "2022-02-16T16:18:32.952173Z"
    }
   },
   "outputs": [
    {
     "data": {
      "text/plain": [
       "(4955,)"
      ]
     },
     "execution_count": 84,
     "metadata": {},
     "output_type": "execute_result"
    }
   ],
   "source": [
    "df['seq'].unique().shape"
   ]
  },
  {
   "cell_type": "code",
   "execution_count": 85,
   "metadata": {
    "ExecuteTime": {
     "end_time": "2022-02-16T16:18:43.008306Z",
     "start_time": "2022-02-16T16:18:42.989224Z"
    }
   },
   "outputs": [
    {
     "data": {
      "text/plain": [
       "(4012,)"
      ]
     },
     "execution_count": 85,
     "metadata": {},
     "output_type": "execute_result"
    }
   ],
   "source": [
    "df['coord'].unique().shape"
   ]
  },
  {
   "cell_type": "code",
   "execution_count": 93,
   "metadata": {
    "ExecuteTime": {
     "end_time": "2022-02-16T16:21:08.804180Z",
     "start_time": "2022-02-16T16:21:08.776865Z"
    }
   },
   "outputs": [
    {
     "data": {
      "text/plain": [
       "(24764, 12)"
      ]
     },
     "execution_count": 93,
     "metadata": {},
     "output_type": "execute_result"
    }
   ],
   "source": [
    "df.loc[ df['has_tryptic'] == 1 ].shape"
   ]
  },
  {
   "cell_type": "code",
   "execution_count": 95,
   "metadata": {
    "ExecuteTime": {
     "end_time": "2022-02-16T16:22:12.971607Z",
     "start_time": "2022-02-16T16:22:12.922059Z"
    }
   },
   "outputs": [
    {
     "data": {
      "text/plain": [
       "(2757,)"
      ]
     },
     "execution_count": 95,
     "metadata": {},
     "output_type": "execute_result"
    }
   ],
   "source": [
    "df.loc[df['has_tryptic'] == 1 , 'tryptic_seq'].unique().shape"
   ]
  },
  {
   "cell_type": "code",
   "execution_count": null,
   "metadata": {},
   "outputs": [],
   "source": []
  },
  {
   "cell_type": "code",
   "execution_count": 44,
   "metadata": {
    "ExecuteTime": {
     "end_time": "2022-02-16T15:35:10.100920Z",
     "start_time": "2022-02-16T15:35:10.096507Z"
    }
   },
   "outputs": [],
   "source": [
    "jct_test = 'jx_coord-174725038_174729158'"
   ]
  },
  {
   "cell_type": "code",
   "execution_count": 45,
   "metadata": {
    "ExecuteTime": {
     "end_time": "2022-02-16T15:35:10.285157Z",
     "start_time": "2022-02-16T15:35:10.248862Z"
    }
   },
   "outputs": [],
   "source": [
    "grp_len = df[['coord', 'len_pep']].groupby(['coord']).min().reset_index()"
   ]
  },
  {
   "cell_type": "code",
   "execution_count": 46,
   "metadata": {
    "ExecuteTime": {
     "end_time": "2022-02-16T15:35:10.431440Z",
     "start_time": "2022-02-16T15:35:10.417795Z"
    }
   },
   "outputs": [
    {
     "data": {
      "text/html": [
       "<div>\n",
       "<style scoped>\n",
       "    .dataframe tbody tr th:only-of-type {\n",
       "        vertical-align: middle;\n",
       "    }\n",
       "\n",
       "    .dataframe tbody tr th {\n",
       "        vertical-align: top;\n",
       "    }\n",
       "\n",
       "    .dataframe thead th {\n",
       "        text-align: right;\n",
       "    }\n",
       "</style>\n",
       "<table border=\"1\" class=\"dataframe\">\n",
       "  <thead>\n",
       "    <tr style=\"text-align: right;\">\n",
       "      <th></th>\n",
       "      <th>coord</th>\n",
       "      <th>len_pep</th>\n",
       "    </tr>\n",
       "  </thead>\n",
       "  <tbody>\n",
       "    <tr>\n",
       "      <th>0</th>\n",
       "      <td>jx_coord-100030375_100033304</td>\n",
       "      <td>323</td>\n",
       "    </tr>\n",
       "    <tr>\n",
       "      <th>1</th>\n",
       "      <td>jx_coord-1000469_997804</td>\n",
       "      <td>201</td>\n",
       "    </tr>\n",
       "    <tr>\n",
       "      <th>2</th>\n",
       "      <td>jx_coord-100097613_100097384</td>\n",
       "      <td>26</td>\n",
       "    </tr>\n",
       "    <tr>\n",
       "      <th>3</th>\n",
       "      <td>jx_coord-100097658_100102303</td>\n",
       "      <td>39</td>\n",
       "    </tr>\n",
       "    <tr>\n",
       "      <th>4</th>\n",
       "      <td>jx_coord-100097693_100097628</td>\n",
       "      <td>43</td>\n",
       "    </tr>\n",
       "  </tbody>\n",
       "</table>\n",
       "</div>"
      ],
      "text/plain": [
       "                          coord  len_pep\n",
       "0  jx_coord-100030375_100033304      323\n",
       "1       jx_coord-1000469_997804      201\n",
       "2  jx_coord-100097613_100097384       26\n",
       "3  jx_coord-100097658_100102303       39\n",
       "4  jx_coord-100097693_100097628       43"
      ]
     },
     "execution_count": 46,
     "metadata": {},
     "output_type": "execute_result"
    }
   ],
   "source": [
    "grp_len.head()"
   ]
  },
  {
   "cell_type": "code",
   "execution_count": 47,
   "metadata": {
    "ExecuteTime": {
     "end_time": "2022-02-16T15:35:10.582028Z",
     "start_time": "2022-02-16T15:35:10.566279Z"
    }
   },
   "outputs": [
    {
     "data": {
      "text/html": [
       "<div>\n",
       "<style scoped>\n",
       "    .dataframe tbody tr th:only-of-type {\n",
       "        vertical-align: middle;\n",
       "    }\n",
       "\n",
       "    .dataframe tbody tr th {\n",
       "        vertical-align: top;\n",
       "    }\n",
       "\n",
       "    .dataframe thead th {\n",
       "        text-align: right;\n",
       "    }\n",
       "</style>\n",
       "<table border=\"1\" class=\"dataframe\">\n",
       "  <thead>\n",
       "    <tr style=\"text-align: right;\">\n",
       "      <th></th>\n",
       "      <th>coord</th>\n",
       "      <th>len_pep</th>\n",
       "    </tr>\n",
       "  </thead>\n",
       "  <tbody>\n",
       "    <tr>\n",
       "      <th>1167</th>\n",
       "      <td>jx_coord-174725038_174729158</td>\n",
       "      <td>123</td>\n",
       "    </tr>\n",
       "  </tbody>\n",
       "</table>\n",
       "</div>"
      ],
      "text/plain": [
       "                             coord  len_pep\n",
       "1167  jx_coord-174725038_174729158      123"
      ]
     },
     "execution_count": 47,
     "metadata": {},
     "output_type": "execute_result"
    }
   ],
   "source": [
    "grp_len.loc[grp_len['coord'] == jct_test]"
   ]
  },
  {
   "cell_type": "code",
   "execution_count": 48,
   "metadata": {
    "ExecuteTime": {
     "end_time": "2022-02-16T15:35:10.749895Z",
     "start_time": "2022-02-16T15:35:10.716357Z"
    }
   },
   "outputs": [],
   "source": [
    "grp_len = df[['coord', 'len_pep']].groupby(['coord']).min().reset_index()"
   ]
  },
  {
   "cell_type": "code",
   "execution_count": 49,
   "metadata": {
    "ExecuteTime": {
     "end_time": "2022-02-16T15:35:10.968970Z",
     "start_time": "2022-02-16T15:35:10.919323Z"
    }
   },
   "outputs": [],
   "source": [
    "grp_trypt = df[['coord', 'tryptic_seq']].groupby(['coord', 'tryptic_seq']).count().reset_index()\n",
    "\n",
    "grp_trypt = grp_trypt.groupby(['coord']).count().reset_index()"
   ]
  },
  {
   "cell_type": "code",
   "execution_count": 50,
   "metadata": {
    "ExecuteTime": {
     "end_time": "2022-02-16T15:35:11.033390Z",
     "start_time": "2022-02-16T15:35:11.029616Z"
    }
   },
   "outputs": [],
   "source": [
    "# grp_peptides.loc[grp_trypt['coord'] == jct_test]\n",
    "\n",
    "# df.loc[df['coord'] == jct_test ]['tryptic_seq'].unique()"
   ]
  },
  {
   "cell_type": "code",
   "execution_count": 75,
   "metadata": {
    "ExecuteTime": {
     "end_time": "2022-02-16T16:05:22.869915Z",
     "start_time": "2022-02-16T16:05:22.799477Z"
    }
   },
   "outputs": [],
   "source": [
    "# Counting the number of peptides right \n",
    "grp_peptides = df[['coord', 'seq']].groupby(['coord', 'seq']).count().reset_index()\n",
    "grp_peptides = grp_peptides.groupby(['coord']).count().reset_index()"
   ]
  },
  {
   "cell_type": "code",
   "execution_count": 78,
   "metadata": {
    "ExecuteTime": {
     "end_time": "2022-02-16T16:05:45.515566Z",
     "start_time": "2022-02-16T16:05:45.471844Z"
    }
   },
   "outputs": [],
   "source": [
    "df_plot = grp_trypt.merge(grp_peptides, on = 'coord', how = 'outer')\n",
    "\n",
    "df_plot['tryptic_seq'] = df_plot['tryptic_seq'].fillna(0)\n",
    "df_plot = df_plot.merge(grp_len, on = 'coord', how = 'outer')\n"
   ]
  },
  {
   "cell_type": "code",
   "execution_count": 104,
   "metadata": {
    "ExecuteTime": {
     "end_time": "2022-02-16T16:37:39.463419Z",
     "start_time": "2022-02-16T16:37:39.423741Z"
    },
    "scrolled": true
   },
   "outputs": [
    {
     "data": {
      "text/html": [
       "<div>\n",
       "<style scoped>\n",
       "    .dataframe tbody tr th:only-of-type {\n",
       "        vertical-align: middle;\n",
       "    }\n",
       "\n",
       "    .dataframe tbody tr th {\n",
       "        vertical-align: top;\n",
       "    }\n",
       "\n",
       "    .dataframe thead th {\n",
       "        text-align: right;\n",
       "    }\n",
       "</style>\n",
       "<table border=\"1\" class=\"dataframe\">\n",
       "  <thead>\n",
       "    <tr style=\"text-align: right;\">\n",
       "      <th></th>\n",
       "      <th>jx_pos</th>\n",
       "      <th>coord</th>\n",
       "      <th>seq</th>\n",
       "    </tr>\n",
       "  </thead>\n",
       "  <tbody>\n",
       "    <tr>\n",
       "      <th>368</th>\n",
       "      <td>jx_pos-37</td>\n",
       "      <td>jx_coord-21511196_21511149</td>\n",
       "      <td>MSDTWSSIQAEAGLGALGSTESRGSIVSNLP</td>\n",
       "    </tr>\n",
       "    <tr>\n",
       "      <th>369</th>\n",
       "      <td>jx_pos-20</td>\n",
       "      <td>jx_coord-21511196_21511149</td>\n",
       "      <td>MSDTWSSIQAEAGLGALGSTESRGSIVSNLP</td>\n",
       "    </tr>\n",
       "    <tr>\n",
       "      <th>370</th>\n",
       "      <td>jx_pos-48</td>\n",
       "      <td>jx_coord-21511196_21511149</td>\n",
       "      <td>MSDTWSSIQAEAGLGALGSTESRGSIVSNLP</td>\n",
       "    </tr>\n",
       "    <tr>\n",
       "      <th>371</th>\n",
       "      <td>jx_pos-47</td>\n",
       "      <td>jx_coord-21511196_21511149</td>\n",
       "      <td>MSDTWSSIQAEAGLGALGSTESRGSIVSNLP</td>\n",
       "    </tr>\n",
       "    <tr>\n",
       "      <th>373</th>\n",
       "      <td>jx_pos-47</td>\n",
       "      <td>jx_coord-21511196_21511149</td>\n",
       "      <td>MSDTWSSIQAEAGLGALGLEFSGVNTAYCSLDLRAQVILLPQPPPE...</td>\n",
       "    </tr>\n",
       "    <tr>\n",
       "      <th>374</th>\n",
       "      <td>jx_pos-37</td>\n",
       "      <td>jx_coord-21511196_21511149</td>\n",
       "      <td>MSDTWSSIQAEAGLGALGLEFSGVNTAYCSLDLRAQVILLPQPPPE...</td>\n",
       "    </tr>\n",
       "    <tr>\n",
       "      <th>375</th>\n",
       "      <td>jx_pos-48</td>\n",
       "      <td>jx_coord-21511196_21511149</td>\n",
       "      <td>MSDTWSSIQAEAGLGALGLEFSGVNTAYCSLDLRAQVILLPQPPPE...</td>\n",
       "    </tr>\n",
       "    <tr>\n",
       "      <th>377</th>\n",
       "      <td>jx_pos-20</td>\n",
       "      <td>jx_coord-21511196_21511149</td>\n",
       "      <td>MSDTWSSIQAEAGLGALGLEFSGVNTAYCSLDLRAQVILLPQPPPE...</td>\n",
       "    </tr>\n",
       "    <tr>\n",
       "      <th>378</th>\n",
       "      <td>jx_pos-48</td>\n",
       "      <td>jx_coord-21511196_21511149</td>\n",
       "      <td>MSDTWSSIQAEAGLGALGSLLPDGRLSPTLVRLAHSSSDCEDVAFV...</td>\n",
       "    </tr>\n",
       "    <tr>\n",
       "      <th>379</th>\n",
       "      <td>jx_pos-47</td>\n",
       "      <td>jx_coord-21511196_21511149</td>\n",
       "      <td>MSDTWSSIQAEAGLGALGSLLPDGRLSPTLVRLAHSSSDCEDVAFV...</td>\n",
       "    </tr>\n",
       "    <tr>\n",
       "      <th>381</th>\n",
       "      <td>jx_pos-37</td>\n",
       "      <td>jx_coord-21511196_21511149</td>\n",
       "      <td>MSDTWSSIQAEAGLGALGSLLPDGRLSPTLVRLAHSSSDCEDVAFV...</td>\n",
       "    </tr>\n",
       "    <tr>\n",
       "      <th>382</th>\n",
       "      <td>jx_pos-20</td>\n",
       "      <td>jx_coord-21511196_21511149</td>\n",
       "      <td>MSDTWSSIQAEAGLGALGSLLPDGRLSPTLVRLAHSSSDCEDVAFV...</td>\n",
       "    </tr>\n",
       "    <tr>\n",
       "      <th>383</th>\n",
       "      <td>jx_pos-48</td>\n",
       "      <td>jx_coord-21511196_21511149</td>\n",
       "      <td>MSDTWSSIQAEAGLGALGSRRSPFCK</td>\n",
       "    </tr>\n",
       "    <tr>\n",
       "      <th>384</th>\n",
       "      <td>jx_pos-20</td>\n",
       "      <td>jx_coord-21511196_21511149</td>\n",
       "      <td>MSDTWSSIQAEAGLGALGSRRSPFCK</td>\n",
       "    </tr>\n",
       "    <tr>\n",
       "      <th>385</th>\n",
       "      <td>jx_pos-47</td>\n",
       "      <td>jx_coord-21511196_21511149</td>\n",
       "      <td>MSDTWSSIQAEAGLGALGSRRSPFCK</td>\n",
       "    </tr>\n",
       "    <tr>\n",
       "      <th>386</th>\n",
       "      <td>jx_pos-37</td>\n",
       "      <td>jx_coord-21511196_21511149</td>\n",
       "      <td>MSDTWSSIQAEAGLGALGSRRSPFCK</td>\n",
       "    </tr>\n",
       "  </tbody>\n",
       "</table>\n",
       "</div>"
      ],
      "text/plain": [
       "        jx_pos                       coord  \\\n",
       "368  jx_pos-37  jx_coord-21511196_21511149   \n",
       "369  jx_pos-20  jx_coord-21511196_21511149   \n",
       "370  jx_pos-48  jx_coord-21511196_21511149   \n",
       "371  jx_pos-47  jx_coord-21511196_21511149   \n",
       "373  jx_pos-47  jx_coord-21511196_21511149   \n",
       "374  jx_pos-37  jx_coord-21511196_21511149   \n",
       "375  jx_pos-48  jx_coord-21511196_21511149   \n",
       "377  jx_pos-20  jx_coord-21511196_21511149   \n",
       "378  jx_pos-48  jx_coord-21511196_21511149   \n",
       "379  jx_pos-47  jx_coord-21511196_21511149   \n",
       "381  jx_pos-37  jx_coord-21511196_21511149   \n",
       "382  jx_pos-20  jx_coord-21511196_21511149   \n",
       "383  jx_pos-48  jx_coord-21511196_21511149   \n",
       "384  jx_pos-20  jx_coord-21511196_21511149   \n",
       "385  jx_pos-47  jx_coord-21511196_21511149   \n",
       "386  jx_pos-37  jx_coord-21511196_21511149   \n",
       "\n",
       "                                                   seq  \n",
       "368                    MSDTWSSIQAEAGLGALGSTESRGSIVSNLP  \n",
       "369                    MSDTWSSIQAEAGLGALGSTESRGSIVSNLP  \n",
       "370                    MSDTWSSIQAEAGLGALGSTESRGSIVSNLP  \n",
       "371                    MSDTWSSIQAEAGLGALGSTESRGSIVSNLP  \n",
       "373  MSDTWSSIQAEAGLGALGLEFSGVNTAYCSLDLRAQVILLPQPPPE...  \n",
       "374  MSDTWSSIQAEAGLGALGLEFSGVNTAYCSLDLRAQVILLPQPPPE...  \n",
       "375  MSDTWSSIQAEAGLGALGLEFSGVNTAYCSLDLRAQVILLPQPPPE...  \n",
       "377  MSDTWSSIQAEAGLGALGLEFSGVNTAYCSLDLRAQVILLPQPPPE...  \n",
       "378  MSDTWSSIQAEAGLGALGSLLPDGRLSPTLVRLAHSSSDCEDVAFV...  \n",
       "379  MSDTWSSIQAEAGLGALGSLLPDGRLSPTLVRLAHSSSDCEDVAFV...  \n",
       "381  MSDTWSSIQAEAGLGALGSLLPDGRLSPTLVRLAHSSSDCEDVAFV...  \n",
       "382  MSDTWSSIQAEAGLGALGSLLPDGRLSPTLVRLAHSSSDCEDVAFV...  \n",
       "383                         MSDTWSSIQAEAGLGALGSRRSPFCK  \n",
       "384                         MSDTWSSIQAEAGLGALGSRRSPFCK  \n",
       "385                         MSDTWSSIQAEAGLGALGSRRSPFCK  \n",
       "386                         MSDTWSSIQAEAGLGALGSRRSPFCK  "
      ]
     },
     "execution_count": 104,
     "metadata": {},
     "output_type": "execute_result"
    }
   ],
   "source": [
    "df.loc[df['coord'] == 'jx_coord-21511196_21511149', ['jx_pos', 'coord', 'seq']].drop_duplicates()"
   ]
  },
  {
   "cell_type": "code",
   "execution_count": 100,
   "metadata": {
    "ExecuteTime": {
     "end_time": "2022-02-16T16:33:52.060212Z",
     "start_time": "2022-02-16T16:33:52.006862Z"
    },
    "scrolled": true
   },
   "outputs": [
    {
     "data": {
      "text/html": [
       "<div>\n",
       "<style scoped>\n",
       "    .dataframe tbody tr th:only-of-type {\n",
       "        vertical-align: middle;\n",
       "    }\n",
       "\n",
       "    .dataframe tbody tr th {\n",
       "        vertical-align: top;\n",
       "    }\n",
       "\n",
       "    .dataframe thead th {\n",
       "        text-align: right;\n",
       "    }\n",
       "</style>\n",
       "<table border=\"1\" class=\"dataframe\">\n",
       "  <thead>\n",
       "    <tr style=\"text-align: right;\">\n",
       "      <th></th>\n",
       "      <th></th>\n",
       "    </tr>\n",
       "    <tr>\n",
       "      <th>seq</th>\n",
       "      <th>tryptic_seq</th>\n",
       "    </tr>\n",
       "  </thead>\n",
       "  <tbody>\n",
       "    <tr>\n",
       "      <th rowspan=\"2\" valign=\"top\">MSDTWSSIQAEAGLGALGLEFSGVNTAYCSLDLRAQVILLPQPPPEWLAPQVYPTMPAYFLIFISL</th>\n",
       "      <th>AQVILLPQPPPEWLAPQVYPTMPAYFLIFISL</th>\n",
       "    </tr>\n",
       "    <tr>\n",
       "      <th>MSDTWSSIQAEAGLGALGLEFSGVNTAYCSLDLR</th>\n",
       "    </tr>\n",
       "    <tr>\n",
       "      <th rowspan=\"3\" valign=\"top\">MSDTWSSIQAEAGLGALGSLLPDGRLSPTLVRLAHSSSDCEDVAFVRLLSPLSREAARTPFCCCFGALFPQL</th>\n",
       "      <th>LAHSSSDCEDVAFVR</th>\n",
       "    </tr>\n",
       "    <tr>\n",
       "      <th>LLSPLSR</th>\n",
       "    </tr>\n",
       "    <tr>\n",
       "      <th>MSDTWSSIQAEAGLGALGSLLPDGR</th>\n",
       "    </tr>\n",
       "    <tr>\n",
       "      <th rowspan=\"2\" valign=\"top\">MSDTWSSIQAEAGLGALGSTESRGSIVSNLP</th>\n",
       "      <th>GSIVSNLP</th>\n",
       "    </tr>\n",
       "    <tr>\n",
       "      <th>MSDTWSSIQAEAGLGALGSTESR</th>\n",
       "    </tr>\n",
       "  </tbody>\n",
       "</table>\n",
       "</div>"
      ],
      "text/plain": [
       "Empty DataFrame\n",
       "Columns: []\n",
       "Index: [(MSDTWSSIQAEAGLGALGLEFSGVNTAYCSLDLRAQVILLPQPPPEWLAPQVYPTMPAYFLIFISL, AQVILLPQPPPEWLAPQVYPTMPAYFLIFISL), (MSDTWSSIQAEAGLGALGLEFSGVNTAYCSLDLRAQVILLPQPPPEWLAPQVYPTMPAYFLIFISL, MSDTWSSIQAEAGLGALGLEFSGVNTAYCSLDLR), (MSDTWSSIQAEAGLGALGSLLPDGRLSPTLVRLAHSSSDCEDVAFVRLLSPLSREAARTPFCCCFGALFPQL, LAHSSSDCEDVAFVR), (MSDTWSSIQAEAGLGALGSLLPDGRLSPTLVRLAHSSSDCEDVAFVRLLSPLSREAARTPFCCCFGALFPQL, LLSPLSR), (MSDTWSSIQAEAGLGALGSLLPDGRLSPTLVRLAHSSSDCEDVAFVRLLSPLSREAARTPFCCCFGALFPQL, MSDTWSSIQAEAGLGALGSLLPDGR), (MSDTWSSIQAEAGLGALGSTESRGSIVSNLP, GSIVSNLP), (MSDTWSSIQAEAGLGALGSTESRGSIVSNLP, MSDTWSSIQAEAGLGALGSTESR)]"
      ]
     },
     "execution_count": 100,
     "metadata": {},
     "output_type": "execute_result"
    }
   ],
   "source": [
    "df.loc[df['coord'] == 'jx_coord-21511196_21511149', ['seq', 'tryptic_seq']]\\\n",
    ".groupby(['seq', 'tryptic_seq']).count()"
   ]
  },
  {
   "cell_type": "code",
   "execution_count": 96,
   "metadata": {
    "ExecuteTime": {
     "end_time": "2022-02-16T16:27:44.931774Z",
     "start_time": "2022-02-16T16:27:44.827551Z"
    }
   },
   "outputs": [
    {
     "data": {
      "text/html": [
       "<div>\n",
       "<style scoped>\n",
       "    .dataframe tbody tr th:only-of-type {\n",
       "        vertical-align: middle;\n",
       "    }\n",
       "\n",
       "    .dataframe tbody tr th {\n",
       "        vertical-align: top;\n",
       "    }\n",
       "\n",
       "    .dataframe thead th {\n",
       "        text-align: right;\n",
       "    }\n",
       "</style>\n",
       "<table border=\"1\" class=\"dataframe\">\n",
       "  <thead>\n",
       "    <tr style=\"text-align: right;\">\n",
       "      <th></th>\n",
       "      <th>coord</th>\n",
       "      <th>tryptic_seq</th>\n",
       "      <th>seq</th>\n",
       "      <th>len_pep</th>\n",
       "    </tr>\n",
       "  </thead>\n",
       "  <tbody>\n",
       "    <tr>\n",
       "      <th>928</th>\n",
       "      <td>jx_coord-21511196_21511149</td>\n",
       "      <td>7.0</td>\n",
       "      <td>4</td>\n",
       "      <td>26</td>\n",
       "    </tr>\n",
       "  </tbody>\n",
       "</table>\n",
       "</div>"
      ],
      "text/plain": [
       "                          coord  tryptic_seq  seq  len_pep\n",
       "928  jx_coord-21511196_21511149          7.0    4       26"
      ]
     },
     "execution_count": 96,
     "metadata": {},
     "output_type": "execute_result"
    }
   ],
   "source": [
    "df_plot.loc[df_plot['tryptic_seq'] == 7.0]"
   ]
  },
  {
   "cell_type": "code",
   "execution_count": 79,
   "metadata": {
    "ExecuteTime": {
     "end_time": "2022-02-16T16:05:46.216908Z",
     "start_time": "2022-02-16T16:05:46.200035Z"
    }
   },
   "outputs": [
    {
     "data": {
      "text/html": [
       "<div>\n",
       "<style scoped>\n",
       "    .dataframe tbody tr th:only-of-type {\n",
       "        vertical-align: middle;\n",
       "    }\n",
       "\n",
       "    .dataframe tbody tr th {\n",
       "        vertical-align: top;\n",
       "    }\n",
       "\n",
       "    .dataframe thead th {\n",
       "        text-align: right;\n",
       "    }\n",
       "</style>\n",
       "<table border=\"1\" class=\"dataframe\">\n",
       "  <thead>\n",
       "    <tr style=\"text-align: right;\">\n",
       "      <th></th>\n",
       "      <th>coord</th>\n",
       "      <th>tryptic_seq</th>\n",
       "      <th>seq</th>\n",
       "      <th>len_pep</th>\n",
       "    </tr>\n",
       "  </thead>\n",
       "  <tbody>\n",
       "    <tr>\n",
       "      <th>0</th>\n",
       "      <td>jx_coord-100030375_100033304</td>\n",
       "      <td>1.0</td>\n",
       "      <td>1</td>\n",
       "      <td>323</td>\n",
       "    </tr>\n",
       "    <tr>\n",
       "      <th>1</th>\n",
       "      <td>jx_coord-1000469_997804</td>\n",
       "      <td>1.0</td>\n",
       "      <td>1</td>\n",
       "      <td>201</td>\n",
       "    </tr>\n",
       "    <tr>\n",
       "      <th>2</th>\n",
       "      <td>jx_coord-100097693_100097628</td>\n",
       "      <td>1.0</td>\n",
       "      <td>1</td>\n",
       "      <td>43</td>\n",
       "    </tr>\n",
       "    <tr>\n",
       "      <th>3</th>\n",
       "      <td>jx_coord-100098140_100097948</td>\n",
       "      <td>1.0</td>\n",
       "      <td>1</td>\n",
       "      <td>46</td>\n",
       "    </tr>\n",
       "    <tr>\n",
       "      <th>4</th>\n",
       "      <td>jx_coord-100098187_100097948</td>\n",
       "      <td>1.0</td>\n",
       "      <td>1</td>\n",
       "      <td>53</td>\n",
       "    </tr>\n",
       "  </tbody>\n",
       "</table>\n",
       "</div>"
      ],
      "text/plain": [
       "                          coord  tryptic_seq  seq  len_pep\n",
       "0  jx_coord-100030375_100033304          1.0    1      323\n",
       "1       jx_coord-1000469_997804          1.0    1      201\n",
       "2  jx_coord-100097693_100097628          1.0    1       43\n",
       "3  jx_coord-100098140_100097948          1.0    1       46\n",
       "4  jx_coord-100098187_100097948          1.0    1       53"
      ]
     },
     "execution_count": 79,
     "metadata": {},
     "output_type": "execute_result"
    }
   ],
   "source": [
    "df_plot.head()"
   ]
  },
  {
   "cell_type": "code",
   "execution_count": 73,
   "metadata": {
    "ExecuteTime": {
     "end_time": "2022-02-16T16:03:35.410810Z",
     "start_time": "2022-02-16T16:03:34.585813Z"
    }
   },
   "outputs": [
    {
     "data": {
      "image/png": "[encoded data removed]",
      "text/plain": [
       "<Figure size 288x504 with 1 Axes>"
      ]
     },
     "metadata": {
      "needs_background": "light"
     },
     "output_type": "display_data"
    }
   ],
   "source": [
    "plt.figure(figsize = (4, 7 ))\n",
    "sns.boxplot(data = df_plot, y = 'len_pep', x = 'tryptic_seq') # also version in log \n",
    "plt.yscale('log')"
   ]
  },
  {
   "cell_type": "code",
   "execution_count": null,
   "metadata": {},
   "outputs": [],
   "source": []
  },
  {
   "cell_type": "code",
   "execution_count": 71,
   "metadata": {
    "ExecuteTime": {
     "end_time": "2022-02-16T15:39:37.189721Z",
     "start_time": "2022-02-16T15:39:37.109481Z"
    }
   },
   "outputs": [
    {
     "name": "stdout",
     "output_type": "stream",
     "text": [
      "[10, 12.589254117941675, 15.848931924611133, 19.952623149688797, 25.118864315095795, 31.622776601683793, 39.810717055349734, 50.11872336272722, 63.09573444801933, 79.43282347242814]\n"
     ]
    }
   ],
   "source": [
    "print([10**1, 10**1.1, 10**1.2, 10** 1.3, 10** 1.4, 10**1.5, 10**1.6, 10**1.7, 10**1.8, 10**1.9])"
   ]
  },
  {
   "cell_type": "code",
   "execution_count": 70,
   "metadata": {
    "ExecuteTime": {
     "end_time": "2022-02-16T15:38:21.319139Z",
     "start_time": "2022-02-16T15:38:21.310874Z"
    }
   },
   "outputs": [
    {
     "data": {
      "text/plain": [
       "23.9883291901949"
      ]
     },
     "execution_count": 70,
     "metadata": {},
     "output_type": "execute_result"
    }
   ],
   "source": [
    "10**1.38"
   ]
  },
  {
   "cell_type": "code",
   "execution_count": 69,
   "metadata": {
    "ExecuteTime": {
     "end_time": "2022-02-16T15:38:19.244183Z",
     "start_time": "2022-02-16T15:38:19.237710Z"
    }
   },
   "outputs": [
    {
     "data": {
      "text/plain": [
       "16.982436524617444"
      ]
     },
     "execution_count": 69,
     "metadata": {},
     "output_type": "execute_result"
    }
   ],
   "source": [
    "10**1.23"
   ]
  },
  {
   "cell_type": "code",
   "execution_count": 80,
   "metadata": {
    "ExecuteTime": {
     "end_time": "2022-02-16T16:06:01.911316Z",
     "start_time": "2022-02-16T16:06:01.305298Z"
    },
    "scrolled": true
   },
   "outputs": [
    {
     "data": {
      "text/plain": [
       "<AxesSubplot:xlabel='tryptic_seq', ylabel='seq'>"
      ]
     },
     "execution_count": 80,
     "metadata": {},
     "output_type": "execute_result"
    },
    {
     "data": {
      "image/png": "[encoded data removed]",
      "text/plain": [
       "<Figure size 432x288 with 1 Axes>"
      ]
     },
     "metadata": {
      "needs_background": "light"
     },
     "output_type": "display_data"
    }
   ],
   "source": [
    "sns.scatterplot(data = df_plot, x = 'tryptic_seq', y = 'seq')"
   ]
  },
  {
   "cell_type": "code",
   "execution_count": 56,
   "metadata": {
    "ExecuteTime": {
     "end_time": "2022-02-16T15:35:12.593298Z",
     "start_time": "2022-02-16T15:35:12.351415Z"
    },
    "scrolled": true
   },
   "outputs": [
    {
     "data": {
      "text/plain": [
       "<AxesSubplot:xlabel='tryptic_seq', ylabel='Count'>"
      ]
     },
     "execution_count": 56,
     "metadata": {},
     "output_type": "execute_result"
    },
    {
     "data": {
      "image/png": "[encoded data removed]",
      "text/plain": [
       "<Figure size 432x288 with 1 Axes>"
      ]
     },
     "metadata": {
      "needs_background": "light"
     },
     "output_type": "display_data"
    }
   ],
   "source": [
    "sns.histplot(data = df_plot, x = 'tryptic_seq')"
   ]
  },
  {
   "cell_type": "code",
   "execution_count": 81,
   "metadata": {
    "ExecuteTime": {
     "end_time": "2022-02-16T16:09:17.242561Z",
     "start_time": "2022-02-16T16:09:16.570953Z"
    }
   },
   "outputs": [
    {
     "data": {
      "text/plain": [
       "<AxesSubplot:xlabel='seq', ylabel='Count'>"
      ]
     },
     "execution_count": 81,
     "metadata": {},
     "output_type": "execute_result"
    },
    {
     "data": {
      "image/png": "[encoded data removed]",
      "text/plain": [
       "<Figure size 432x288 with 1 Axes>"
      ]
     },
     "metadata": {
      "needs_background": "light"
     },
     "output_type": "display_data"
    }
   ],
   "source": [
    "sns.histplot(data = df_plot, x = 'seq')"
   ]
  },
  {
   "cell_type": "code",
   "execution_count": 57,
   "metadata": {
    "ExecuteTime": {
     "end_time": "2022-02-16T15:35:13.151322Z",
     "start_time": "2022-02-16T15:35:12.595463Z"
    },
    "scrolled": true
   },
   "outputs": [
    {
     "data": {
      "text/plain": [
       "(array([950., 303., 443., 179., 447., 407., 210.,  83., 177.,   9.,  70.,\n",
       "         45., 120.,  94.,   3.,  46.,  15.,  10.,  73.,  11.,   6.,  29.,\n",
       "         23.,  21.,   3.,  32.,   4.,  15.,  24.,   2.,   0.,  20.,   2.,\n",
       "         17.,   0.,  13.,   1.,   0.,  17.,   3.,   4.,   0.,   0.,   8.,\n",
       "          9.,   1.,   0.,   0.,   6.,   0.,   0.,   3.,   1.,   4.,   1.,\n",
       "          0.,   0.,   0.,   4.,   0.,   1.,   0.,   2.,   0.,   4.,   1.,\n",
       "          0.,   3.,   3.,   1.,   0.,   3.,   4.,   0.,   0.,   0.,   1.,\n",
       "          1.,   0.,   1.,   3.,   0.,   0.,   0.,   0.,   4.,   0.,   1.,\n",
       "          0.,   1.,   1.,   0.,   0.,   0.,   1.,   0.,   0.,   0.,   0.,\n",
       "          0.,   0.,   0.,   0.,   0.,   0.,   0.,   0.,   2.,   0.,   0.,\n",
       "          0.,   0.,   0.,   1.,   0.,   1.,   0.,   0.,   0.,   0.,   0.,\n",
       "          0.,   0.,   0.,   0.,   0.,   1.,   0.,   0.,   0.,   0.,   0.,\n",
       "          0.,   0.,   0.,   0.,   0.,   0.,   0.,   0.,   0.,   0.,   0.,\n",
       "          0.,   0.,   0.,   0.,   0.,   0.,   0.,   0.,   0.,   0.,   0.,\n",
       "          1.,   0.,   0.,   0.,   0.,   0.,   0.,   0.,   0.,   0.,   0.,\n",
       "          0.,   0.,   0.,   0.,   0.,   0.,   0.,   0.,   0.,   0.,   0.,\n",
       "          0.,   0.,   0.,   0.,   0.,   0.,   0.,   0.,   0.,   0.,   0.,\n",
       "          0.,   1.,   0.,   0.,   0.,   0.,   0.,   0.,   0.,   0.,   0.,\n",
       "          0.,   0.,   0.,   0.,   0.,   0.,   0.,   0.,   0.,   0.,   0.,\n",
       "          0.,   0.,   0.,   0.,   0.,   0.,   0.,   0.,   0.,   0.,   0.,\n",
       "          0.,   0.,   0.,   0.,   0.,   0.,   0.,   0.,   0.,   0.,   0.,\n",
       "          0.,   0.,   0.,   0.,   0.,   0.,   0.,   0.,   0.,   0.,   0.,\n",
       "          0.,   0.,   0.,   0.,   0.,   0.,   0.,   0.,   0.,   0.,   0.,\n",
       "          0.,   0.,   0.,   0.,   0.,   0.,   0.,   0.,   0.,   0.,   0.,\n",
       "          0.,   0.,   0.,   0.,   0.,   0.,   0.,   0.,   0.,   0.,   0.,\n",
       "          0.,   0.,   0.,   0.,   0.,   0.,   0.,   0.,   0.,   0.,   0.,\n",
       "          0.,   0.,   0.,   0.,   0.,   0.,   0.,   0.,   0.,   0.,   0.,\n",
       "          0.,   0.,   1.]),\n",
       " array([  1.        ,   2.22333333,   3.44666667,   4.67      ,\n",
       "          5.89333333,   7.11666667,   8.34      ,   9.56333333,\n",
       "         10.78666667,  12.01      ,  13.23333333,  14.45666667,\n",
       "         15.68      ,  16.90333333,  18.12666667,  19.35      ,\n",
       "         20.57333333,  21.79666667,  23.02      ,  24.24333333,\n",
       "         25.46666667,  26.69      ,  27.91333333,  29.13666667,\n",
       "         30.36      ,  31.58333333,  32.80666667,  34.03      ,\n",
       "         35.25333333,  36.47666667,  37.7       ,  38.92333333,\n",
       "         40.14666667,  41.37      ,  42.59333333,  43.81666667,\n",
       "         45.04      ,  46.26333333,  47.48666667,  48.71      ,\n",
       "         49.93333333,  51.15666667,  52.38      ,  53.60333333,\n",
       "         54.82666667,  56.05      ,  57.27333333,  58.49666667,\n",
       "         59.72      ,  60.94333333,  62.16666667,  63.39      ,\n",
       "         64.61333333,  65.83666667,  67.06      ,  68.28333333,\n",
       "         69.50666667,  70.73      ,  71.95333333,  73.17666667,\n",
       "         74.4       ,  75.62333333,  76.84666667,  78.07      ,\n",
       "         79.29333333,  80.51666667,  81.74      ,  82.96333333,\n",
       "         84.18666667,  85.41      ,  86.63333333,  87.85666667,\n",
       "         89.08      ,  90.30333333,  91.52666667,  92.75      ,\n",
       "         93.97333333,  95.19666667,  96.42      ,  97.64333333,\n",
       "         98.86666667, 100.09      , 101.31333333, 102.53666667,\n",
       "        103.76      , 104.98333333, 106.20666667, 107.43      ,\n",
       "        108.65333333, 109.87666667, 111.1       , 112.32333333,\n",
       "        113.54666667, 114.77      , 115.99333333, 117.21666667,\n",
       "        118.44      , 119.66333333, 120.88666667, 122.11      ,\n",
       "        123.33333333, 124.55666667, 125.78      , 127.00333333,\n",
       "        128.22666667, 129.45      , 130.67333333, 131.89666667,\n",
       "        133.12      , 134.34333333, 135.56666667, 136.79      ,\n",
       "        138.01333333, 139.23666667, 140.46      , 141.68333333,\n",
       "        142.90666667, 144.13      , 145.35333333, 146.57666667,\n",
       "        147.8       , 149.02333333, 150.24666667, 151.47      ,\n",
       "        152.69333333, 153.91666667, 155.14      , 156.36333333,\n",
       "        157.58666667, 158.81      , 160.03333333, 161.25666667,\n",
       "        162.48      , 163.70333333, 164.92666667, 166.15      ,\n",
       "        167.37333333, 168.59666667, 169.82      , 171.04333333,\n",
       "        172.26666667, 173.49      , 174.71333333, 175.93666667,\n",
       "        177.16      , 178.38333333, 179.60666667, 180.83      ,\n",
       "        182.05333333, 183.27666667, 184.5       , 185.72333333,\n",
       "        186.94666667, 188.17      , 189.39333333, 190.61666667,\n",
       "        191.84      , 193.06333333, 194.28666667, 195.51      ,\n",
       "        196.73333333, 197.95666667, 199.18      , 200.40333333,\n",
       "        201.62666667, 202.85      , 204.07333333, 205.29666667,\n",
       "        206.52      , 207.74333333, 208.96666667, 210.19      ,\n",
       "        211.41333333, 212.63666667, 213.86      , 215.08333333,\n",
       "        216.30666667, 217.53      , 218.75333333, 219.97666667,\n",
       "        221.2       , 222.42333333, 223.64666667, 224.87      ,\n",
       "        226.09333333, 227.31666667, 228.54      , 229.76333333,\n",
       "        230.98666667, 232.21      , 233.43333333, 234.65666667,\n",
       "        235.88      , 237.10333333, 238.32666667, 239.55      ,\n",
       "        240.77333333, 241.99666667, 243.22      , 244.44333333,\n",
       "        245.66666667, 246.89      , 248.11333333, 249.33666667,\n",
       "        250.56      , 251.78333333, 253.00666667, 254.23      ,\n",
       "        255.45333333, 256.67666667, 257.9       , 259.12333333,\n",
       "        260.34666667, 261.57      , 262.79333333, 264.01666667,\n",
       "        265.24      , 266.46333333, 267.68666667, 268.91      ,\n",
       "        270.13333333, 271.35666667, 272.58      , 273.80333333,\n",
       "        275.02666667, 276.25      , 277.47333333, 278.69666667,\n",
       "        279.92      , 281.14333333, 282.36666667, 283.59      ,\n",
       "        284.81333333, 286.03666667, 287.26      , 288.48333333,\n",
       "        289.70666667, 290.93      , 292.15333333, 293.37666667,\n",
       "        294.6       , 295.82333333, 297.04666667, 298.27      ,\n",
       "        299.49333333, 300.71666667, 301.94      , 303.16333333,\n",
       "        304.38666667, 305.61      , 306.83333333, 308.05666667,\n",
       "        309.28      , 310.50333333, 311.72666667, 312.95      ,\n",
       "        314.17333333, 315.39666667, 316.62      , 317.84333333,\n",
       "        319.06666667, 320.29      , 321.51333333, 322.73666667,\n",
       "        323.96      , 325.18333333, 326.40666667, 327.63      ,\n",
       "        328.85333333, 330.07666667, 331.3       , 332.52333333,\n",
       "        333.74666667, 334.97      , 336.19333333, 337.41666667,\n",
       "        338.64      , 339.86333333, 341.08666667, 342.31      ,\n",
       "        343.53333333, 344.75666667, 345.98      , 347.20333333,\n",
       "        348.42666667, 349.65      , 350.87333333, 352.09666667,\n",
       "        353.32      , 354.54333333, 355.76666667, 356.99      ,\n",
       "        358.21333333, 359.43666667, 360.66      , 361.88333333,\n",
       "        363.10666667, 364.33      , 365.55333333, 366.77666667,\n",
       "        368.        ]),\n",
       " <BarContainer object of 300 artists>)"
      ]
     },
     "execution_count": 57,
     "metadata": {},
     "output_type": "execute_result"
    },
    {
     "data": {
      "image/png": "[encoded data removed]",
      "text/plain": [
       "<Figure size 432x288 with 1 Axes>"
      ]
     },
     "metadata": {
      "needs_background": "light"
     },
     "output_type": "display_data"
    }
   ],
   "source": [
    "plt.hist(df_plot ['id'], bins = 300)"
   ]
  },
  {
   "cell_type": "code",
   "execution_count": null,
   "metadata": {
    "ExecuteTime": {
     "end_time": "2022-02-16T15:22:23.472901Z",
     "start_time": "2022-02-16T15:22:23.435034Z"
    }
   },
   "outputs": [],
   "source": []
  },
  {
   "cell_type": "code",
   "execution_count": 58,
   "metadata": {
    "ExecuteTime": {
     "end_time": "2022-02-16T15:35:13.941111Z",
     "start_time": "2022-02-16T15:35:13.754595Z"
    }
   },
   "outputs": [
    {
     "data": {
      "text/plain": [
       "<AxesSubplot:>"
      ]
     },
     "execution_count": 58,
     "metadata": {},
     "output_type": "execute_result"
    },
    {
     "data": {
      "image/png": "[encoded data removed]",
      "text/plain": [
       "<Figure size 432x288 with 1 Axes>"
      ]
     },
     "metadata": {
      "needs_background": "light"
     },
     "output_type": "display_data"
    }
   ],
   "source": [
    "df.loc[df['has_tryptic'] == 1, 'include5'].hist()"
   ]
  },
  {
   "cell_type": "code",
   "execution_count": 59,
   "metadata": {
    "ExecuteTime": {
     "end_time": "2022-02-16T15:35:14.352651Z",
     "start_time": "2022-02-16T15:35:14.083053Z"
    }
   },
   "outputs": [
    {
     "data": {
      "text/plain": [
       "<AxesSubplot:xlabel='include3', ylabel='Count'>"
      ]
     },
     "execution_count": 59,
     "metadata": {},
     "output_type": "execute_result"
    },
    {
     "data": {
      "image/png": "[encoded data removed]",
      "text/plain": [
       "<Figure size 432x288 with 1 Axes>"
      ]
     },
     "metadata": {
      "needs_background": "light"
     },
     "output_type": "display_data"
    }
   ],
   "source": [
    "sns.histplot(data = df, x = 'include3', hue = 'has_tryptic')"
   ]
  },
  {
   "cell_type": "code",
   "execution_count": 60,
   "metadata": {
    "ExecuteTime": {
     "end_time": "2022-02-16T15:35:15.564965Z",
     "start_time": "2022-02-16T15:35:15.298219Z"
    }
   },
   "outputs": [
    {
     "data": {
      "text/plain": [
       "<AxesSubplot:xlabel='include5', ylabel='Count'>"
      ]
     },
     "execution_count": 60,
     "metadata": {},
     "output_type": "execute_result"
    },
    {
     "data": {
      "image/png": "[encoded data removed]",
      "text/plain": [
       "<Figure size 432x288 with 1 Axes>"
      ]
     },
     "metadata": {
      "needs_background": "light"
     },
     "output_type": "display_data"
    }
   ],
   "source": [
    "sns.histplot(data = df, x = 'include5', hue = 'has_tryptic')"
   ]
  },
  {
   "cell_type": "code",
   "execution_count": 31,
   "metadata": {
    "ExecuteTime": {
     "end_time": "2022-02-16T15:34:35.677766Z",
     "start_time": "2022-02-16T15:34:35.548963Z"
    }
   },
   "outputs": [
    {
     "data": {
      "text/plain": [
       "(array([42052.,     0.,     0.,     0.,     0.,     0.,     0.,     0.,\n",
       "            0.,   534.]),\n",
       " array([0. , 0.1, 0.2, 0.3, 0.4, 0.5, 0.6, 0.7, 0.8, 0.9, 1. ]),\n",
       " <BarContainer object of 10 artists>)"
      ]
     },
     "execution_count": 31,
     "metadata": {},
     "output_type": "execute_result"
    },
    {
     "data": {
      "image/png": "[encoded data removed]",
      "text/plain": [
       "<Figure size 432x288 with 1 Axes>"
      ]
     },
     "metadata": {
      "needs_background": "light"
     },
     "output_type": "display_data"
    }
   ],
   "source": [
    "plt.hist(df['include3'])"
   ]
  },
  {
   "cell_type": "markdown",
   "metadata": {},
   "source": [
    "# Checks from Cancer Cell Paper "
   ]
  },
  {
   "cell_type": "code",
   "execution_count": 32,
   "metadata": {
    "ExecuteTime": {
     "end_time": "2022-02-16T15:34:35.794252Z",
     "start_time": "2022-02-16T15:34:35.679377Z"
    }
   },
   "outputs": [],
   "source": [
    "asn_exp = pd.read_csv('/cluster/work/grlab/projects/TCGA/PanCanAtlas/peptides_neoantigen/analysis_pancan/ccell_rerun_2018/output/expression_distribution/asns/TCGA-AO-A0JM.asns_kmers_annotated.gtex.tsv', sep = '\\t')"
   ]
  },
  {
   "cell_type": "code",
   "execution_count": 33,
   "metadata": {
    "ExecuteTime": {
     "end_time": "2022-02-16T15:34:35.993108Z",
     "start_time": "2022-02-16T15:34:35.795676Z"
    }
   },
   "outputs": [
    {
     "ename": "NameError",
     "evalue": "name 'foo' is not defined",
     "output_type": "error",
     "traceback": [
      "\u001b[0;31m---------------------------------------------------------------------------\u001b[0m",
      "\u001b[0;31mNameError\u001b[0m                                 Traceback (most recent call last)",
      "\u001b[0;32m<ipython-input-33-cc90b60ee415>\u001b[0m in \u001b[0;36m<module>\u001b[0;34m\u001b[0m\n\u001b[1;32m      1\u001b[0m asn_exp.loc[#(foo['PEPTIDE_TYPE'] == 'reference') &\\\n\u001b[0;32m----> 2\u001b[0;31m          \u001b[0;34m(\u001b[0m\u001b[0mfoo\u001b[0m\u001b[0;34m[\u001b[0m\u001b[0;34m'JUNC_COUNT'\u001b[0m\u001b[0;34m]\u001b[0m \u001b[0;34m>\u001b[0m \u001b[0;36m0\u001b[0m \u001b[0;34m)\u001b[0m \u001b[0;34m&\u001b[0m\u001b[0;31m\\\u001b[0m\u001b[0;34m\u001b[0m\u001b[0;34m\u001b[0m\u001b[0m\n\u001b[0m\u001b[1;32m      3\u001b[0m        (foo['IN_CPTAC'] == 1), :]\n",
      "\u001b[0;31mNameError\u001b[0m: name 'foo' is not defined"
     ]
    }
   ],
   "source": [
    "asn_exp.loc[#(foo['PEPTIDE_TYPE'] == 'reference') &\\\n",
    "         (foo['JUNC_COUNT'] > 0 ) &\\\n",
    "       (foo['IN_CPTAC'] == 1), :]"
   ]
  },
  {
   "cell_type": "code",
   "execution_count": null,
   "metadata": {
    "ExecuteTime": {
     "end_time": "2022-02-16T15:34:35.994939Z",
     "start_time": "2022-02-16T15:34:32.136Z"
    }
   },
   "outputs": [],
   "source": [
    "kmer = 'ENSG00000133392.12'\n",
    "[idx for idx, seq in enumerate(df['gene']) if kmer in seq]"
   ]
  },
  {
   "cell_type": "code",
   "execution_count": null,
   "metadata": {
    "ExecuteTime": {
     "end_time": "2022-02-16T15:34:35.996159Z",
     "start_time": "2022-02-16T15:34:32.139Z"
    }
   },
   "outputs": [],
   "source": [
    "df.iloc[[14250, 24616, 24617, 24822, 24823, 32986, 32987, 36317, 36318]]"
   ]
  },
  {
   "cell_type": "code",
   "execution_count": null,
   "metadata": {
    "ExecuteTime": {
     "end_time": "2022-02-16T15:34:35.997340Z",
     "start_time": "2022-02-16T15:34:32.143Z"
    }
   },
   "outputs": [],
   "source": [
    "asn_final = pd.read_csv('/cluster/work/grlab/projects/TCGA/PanCanAtlas/peptides_neoantigen/analysis_pancan/ccell_rerun_2018/output/cptac_mhc/filtered/filtered_for_new_junctions/sites/expression_filtered/TCGA-A2-A0YM.gtex.unique_novel_junction_binders.2.0.annotated.sites.expressed.txt', '\\t')"
   ]
  },
  {
   "cell_type": "code",
   "execution_count": null,
   "metadata": {
    "ExecuteTime": {
     "end_time": "2022-02-16T15:34:35.998502Z",
     "start_time": "2022-02-16T15:34:32.146Z"
    }
   },
   "outputs": [],
   "source": [
    "asn_final.head()"
   ]
  },
  {
   "cell_type": "code",
   "execution_count": null,
   "metadata": {
    "ExecuteTime": {
     "end_time": "2022-02-16T15:34:35.999664Z",
     "start_time": "2022-02-16T15:34:32.148Z"
    }
   },
   "outputs": [],
   "source": [
    "# Prensent one sample in the power point = the A0 -- plot from yesterday also in A 0 "
   ]
  }
 ],
 "metadata": {
  "kernelspec": {
   "display_name": "myimmuno3_light",
   "language": "python",
   "name": "myimmuno3_light"
  },
  "language_info": {
   "codemirror_mode": {
    "name": "ipython",
    "version": 3
   },
   "file_extension": ".py",
   "mimetype": "text/x-python",
   "name": "python",
   "nbconvert_exporter": "python",
   "pygments_lexer": "ipython3",
   "version": "3.8.5"
  }
 },
 "nbformat": 4,
 "nbformat_minor": 4
}
