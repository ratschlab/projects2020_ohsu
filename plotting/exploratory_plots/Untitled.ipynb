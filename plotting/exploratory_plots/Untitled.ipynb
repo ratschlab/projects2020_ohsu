{
 "cells": [
  {
   "cell_type": "code",
   "execution_count": 1,
   "metadata": {
    "ExecuteTime": {
     "end_time": "2021-11-02T13:08:50.034677Z",
     "start_time": "2021-11-02T13:08:47.668509Z"
    }
   },
   "outputs": [],
   "source": [
    "import pandas as pd\n",
    "import matplotlib.pyplot as plt\n",
    "import seaborn as sns \n",
    "import os \n",
    "import numpy as np"
   ]
  },
  {
   "cell_type": "code",
   "execution_count": 2,
   "metadata": {
    "ExecuteTime": {
     "end_time": "2021-11-02T13:08:50.041727Z",
     "start_time": "2021-11-02T13:08:50.037712Z"
    }
   },
   "outputs": [],
   "source": [
    "path_out = '/cluster/work/grlab/projects/projects2020_OHSU/peptides_generation/v2_v2.5f0752a_conf2_annotFrame_cap0_runs_pya0.17.1/TCGA_Breast_1102/filter_TCGA-AO-A0JM-01A-21R-A056-07.all/filter_summary_file.txt'"
   ]
  },
  {
   "cell_type": "code",
   "execution_count": 3,
   "metadata": {
    "ExecuteTime": {
     "end_time": "2021-11-02T13:08:50.117356Z",
     "start_time": "2021-11-02T13:08:50.046889Z"
    }
   },
   "outputs": [],
   "source": [
    "df = pd.read_csv(path_out, sep= '\\t')"
   ]
  },
  {
   "cell_type": "code",
   "execution_count": 4,
   "metadata": {
    "ExecuteTime": {
     "end_time": "2021-11-02T13:08:50.153703Z",
     "start_time": "2021-11-02T13:08:50.123388Z"
    }
   },
   "outputs": [
    {
     "data": {
      "text/html": [
       "<div>\n",
       "<style scoped>\n",
       "    .dataframe tbody tr th:only-of-type {\n",
       "        vertical-align: middle;\n",
       "    }\n",
       "\n",
       "    .dataframe tbody tr th {\n",
       "        vertical-align: top;\n",
       "    }\n",
       "\n",
       "    .dataframe thead th {\n",
       "        text-align: right;\n",
       "    }\n",
       "</style>\n",
       "<table border=\"1\" class=\"dataframe\">\n",
       "  <thead>\n",
       "    <tr style=\"text-align: right;\">\n",
       "      <th></th>\n",
       "      <th>sample</th>\n",
       "      <th>mutation_mode</th>\n",
       "      <th>min_sample_reads</th>\n",
       "      <th>#_of_cohort_samples</th>\n",
       "      <th>reads_per_cohort_sample</th>\n",
       "      <th>#_normal_samples_allowed</th>\n",
       "      <th>normal_cohort_id</th>\n",
       "      <th>reads_per_normal_sample</th>\n",
       "      <th>Init_cancer</th>\n",
       "      <th>Filter_Sample</th>\n",
       "      <th>Filter_Sample_Cohort</th>\n",
       "      <th>Filter_Sample_Cohort_CohortNormal</th>\n",
       "      <th>Filter_Sample_Cohort_CohortNormal_Uniprot</th>\n",
       "    </tr>\n",
       "  </thead>\n",
       "  <tbody>\n",
       "    <tr>\n",
       "      <th>0</th>\n",
       "      <td>TCGA-AO-A0JM-01A-21R-A056-07.all</td>\n",
       "      <td>ref</td>\n",
       "      <td>2.0</td>\n",
       "      <td>1</td>\n",
       "      <td>1.0</td>\n",
       "      <td>1</td>\n",
       "      <td>GTEXcore</td>\n",
       "      <td>0.0</td>\n",
       "      <td>5161569</td>\n",
       "      <td>1386315</td>\n",
       "      <td>1385555</td>\n",
       "      <td>89250</td>\n",
       "      <td>89068</td>\n",
       "    </tr>\n",
       "    <tr>\n",
       "      <th>1</th>\n",
       "      <td>TCGA-AO-A0JM-01A-21R-A056-07.all</td>\n",
       "      <td>ref</td>\n",
       "      <td>2.0</td>\n",
       "      <td>1</td>\n",
       "      <td>1.0</td>\n",
       "      <td>10</td>\n",
       "      <td>GTEXcore</td>\n",
       "      <td>0.0</td>\n",
       "      <td>5161569</td>\n",
       "      <td>1386315</td>\n",
       "      <td>1385555</td>\n",
       "      <td>19966</td>\n",
       "      <td>19944</td>\n",
       "    </tr>\n",
       "    <tr>\n",
       "      <th>2</th>\n",
       "      <td>TCGA-AO-A0JM-01A-21R-A056-07.all</td>\n",
       "      <td>ref</td>\n",
       "      <td>2.0</td>\n",
       "      <td>1</td>\n",
       "      <td>1.0</td>\n",
       "      <td>2</td>\n",
       "      <td>GTEXcore</td>\n",
       "      <td>10.0</td>\n",
       "      <td>5161569</td>\n",
       "      <td>1386315</td>\n",
       "      <td>1385555</td>\n",
       "      <td>22665</td>\n",
       "      <td>22638</td>\n",
       "    </tr>\n",
       "    <tr>\n",
       "      <th>3</th>\n",
       "      <td>TCGA-AO-A0JM-01A-21R-A056-07.all</td>\n",
       "      <td>ref</td>\n",
       "      <td>2.0</td>\n",
       "      <td>1</td>\n",
       "      <td>1.0</td>\n",
       "      <td>10</td>\n",
       "      <td>GTEXcore</td>\n",
       "      <td>3.0</td>\n",
       "      <td>5161569</td>\n",
       "      <td>1386315</td>\n",
       "      <td>1385555</td>\n",
       "      <td>21348</td>\n",
       "      <td>21323</td>\n",
       "    </tr>\n",
       "    <tr>\n",
       "      <th>4</th>\n",
       "      <td>TCGA-AO-A0JM-01A-21R-A056-07.all</td>\n",
       "      <td>ref</td>\n",
       "      <td>2.0</td>\n",
       "      <td>1</td>\n",
       "      <td>1.0</td>\n",
       "      <td>10</td>\n",
       "      <td>GTEXcore</td>\n",
       "      <td>10.0</td>\n",
       "      <td>5161569</td>\n",
       "      <td>1386315</td>\n",
       "      <td>1385555</td>\n",
       "      <td>27684</td>\n",
       "      <td>27653</td>\n",
       "    </tr>\n",
       "  </tbody>\n",
       "</table>\n",
       "</div>"
      ],
      "text/plain": [
       "                             sample mutation_mode  min_sample_reads  \\\n",
       "0  TCGA-AO-A0JM-01A-21R-A056-07.all           ref               2.0   \n",
       "1  TCGA-AO-A0JM-01A-21R-A056-07.all           ref               2.0   \n",
       "2  TCGA-AO-A0JM-01A-21R-A056-07.all           ref               2.0   \n",
       "3  TCGA-AO-A0JM-01A-21R-A056-07.all           ref               2.0   \n",
       "4  TCGA-AO-A0JM-01A-21R-A056-07.all           ref               2.0   \n",
       "\n",
       "   #_of_cohort_samples  reads_per_cohort_sample  #_normal_samples_allowed  \\\n",
       "0                    1                      1.0                         1   \n",
       "1                    1                      1.0                        10   \n",
       "2                    1                      1.0                         2   \n",
       "3                    1                      1.0                        10   \n",
       "4                    1                      1.0                        10   \n",
       "\n",
       "  normal_cohort_id  reads_per_normal_sample  Init_cancer  Filter_Sample  \\\n",
       "0         GTEXcore                      0.0      5161569        1386315   \n",
       "1         GTEXcore                      0.0      5161569        1386315   \n",
       "2         GTEXcore                     10.0      5161569        1386315   \n",
       "3         GTEXcore                      3.0      5161569        1386315   \n",
       "4         GTEXcore                     10.0      5161569        1386315   \n",
       "\n",
       "   Filter_Sample_Cohort  Filter_Sample_Cohort_CohortNormal  \\\n",
       "0               1385555                              89250   \n",
       "1               1385555                              19966   \n",
       "2               1385555                              22665   \n",
       "3               1385555                              21348   \n",
       "4               1385555                              27684   \n",
       "\n",
       "   Filter_Sample_Cohort_CohortNormal_Uniprot  \n",
       "0                                      89068  \n",
       "1                                      19944  \n",
       "2                                      22638  \n",
       "3                                      21323  \n",
       "4                                      27653  "
      ]
     },
     "execution_count": 4,
     "metadata": {},
     "output_type": "execute_result"
    }
   ],
   "source": [
    "df.head()\n"
   ]
  },
  {
   "cell_type": "code",
   "execution_count": 5,
   "metadata": {
    "ExecuteTime": {
     "end_time": "2021-11-02T13:08:50.228296Z",
     "start_time": "2021-11-02T13:08:50.222781Z"
    }
   },
   "outputs": [],
   "source": [
    "param = ['min_sample_reads', '#_of_cohort_samples', 'reads_per_cohort_sample', '#_normal_samples_allowed', 'reads_per_normal_sample', 'normal_cohort_id']\n",
    "kmers = 'Filter_Sample_Cohort_CohortNormal_Uniprot'\n",
    "palettes = [\"light:b_r\", 'dark:seagreen_r', 'dark:purple_r', 'dark:magenta_r', 'light:orange_r', 'dark:green_r']\n"
   ]
  },
  {
   "cell_type": "code",
   "execution_count": 6,
   "metadata": {
    "ExecuteTime": {
     "end_time": "2021-11-02T13:08:53.019563Z",
     "start_time": "2021-11-02T13:08:51.002376Z"
    }
   },
   "outputs": [
    {
     "data": {
      "image/png": "[encoded data removed]",
      "text/plain": [
       "<Figure size 504x1080 with 6 Axes>"
      ]
     },
     "metadata": {
      "needs_background": "light"
     },
     "output_type": "display_data"
    }
   ],
   "source": [
    "fig, axes = plt.subplots(3, 2, figsize=(7,15), sharey=True)\n",
    "plot_pos = [(0,0), (0,1), (1,0), (1,1), (2,0), (2,1)]\n",
    "for plot_id in np.arange(len(param)):\n",
    "    #plt.figure(figsize = (2, 4))\n",
    "    sns.set_style(\"whitegrid\")\n",
    "    mypalette = sns.color_palette(palettes[plot_id])\n",
    "    sns.boxplot(ax=axes[plot_pos[plot_id]], x=param[plot_id], y=kmers, \n",
    "                data=df, palette = mypalette).set(ylabel=None) \n",
    "    plt.ticklabel_format(style='scientific', axis='y',scilimits=(0,0), useMathText=False, useLocale=True)\n",
    "    if 'id' in param[plot_id]:\n",
    "        plt.xticks(rotation=45)\n",
    "#fig.supylabel('Final filtered junction (#)')\n",
    "fig.suptitle(df.loc[0, 'sample'] , fontsize = 12)\n",
    "fig.text(0.04, 0.5, 'Final filtered kmers (#)', va='center', rotation='vertical')\n",
    "plt.savefig('/cluster/work/grlab/projects/projects2020_OHSU/plots/v2_v2.5f0752a_conf2_BRCA_TCGA-AO-A0JM-01A-21R-A056-07.all.png', bbox_inches='tight', dpi = 300)\n",
    "plt.show()\n",
    "    "
   ]
  },
  {
   "cell_type": "code",
   "execution_count": null,
   "metadata": {},
   "outputs": [],
   "source": []
  }
 ],
 "metadata": {
  "kernelspec": {
   "display_name": "myimmuno3_light",
   "language": "python",
   "name": "myimmuno3_light"
  },
  "language_info": {
   "codemirror_mode": {
    "name": "ipython",
    "version": 3
   },
   "file_extension": ".py",
   "mimetype": "text/x-python",
   "name": "python",
   "nbconvert_exporter": "python",
   "pygments_lexer": "ipython3",
   "version": "3.8.5"
  }
 },
 "nbformat": 4,
 "nbformat_minor": 4
}
