{
 "cells": [
  {
   "cell_type": "code",
   "execution_count": 1,
   "id": "412d46bc",
   "metadata": {},
   "outputs": [],
   "source": [
    "#### import os \n",
    "import pandas as pd\n",
    "from collections import defaultdict\n",
    "import numpy as np \n",
    "import matplotlib.pyplot as plt\n",
    "import seaborn as sns"
   ]
  },
  {
   "cell_type": "code",
   "execution_count": 2,
   "id": "e6d537e5",
   "metadata": {},
   "outputs": [
    {
     "data": {
      "text/html": [
       "<div>\n",
       "<style scoped>\n",
       "    .dataframe tbody tr th:only-of-type {\n",
       "        vertical-align: middle;\n",
       "    }\n",
       "\n",
       "    .dataframe tbody tr th {\n",
       "        vertical-align: top;\n",
       "    }\n",
       "\n",
       "    .dataframe thead th {\n",
       "        text-align: right;\n",
       "    }\n",
       "</style>\n",
       "<table border=\"1\" class=\"dataframe\">\n",
       "  <thead>\n",
       "    <tr style=\"text-align: right;\">\n",
       "      <th></th>\n",
       "      <th>k-mer</th>\n",
       "      <th>k-mer count</th>\n",
       "    </tr>\n",
       "  </thead>\n",
       "  <tbody>\n",
       "    <tr>\n",
       "      <th>0</th>\n",
       "      <td>TGRHDAFEI</td>\n",
       "      <td>7854</td>\n",
       "    </tr>\n",
       "    <tr>\n",
       "      <th>1</th>\n",
       "      <td>MNLSLYLGE</td>\n",
       "      <td>4402</td>\n",
       "    </tr>\n",
       "    <tr>\n",
       "      <th>2</th>\n",
       "      <td>CFSSLLAQD</td>\n",
       "      <td>1263</td>\n",
       "    </tr>\n",
       "    <tr>\n",
       "      <th>3</th>\n",
       "      <td>SDLPNPDTL</td>\n",
       "      <td>7870</td>\n",
       "    </tr>\n",
       "    <tr>\n",
       "      <th>4</th>\n",
       "      <td>VMKVENERY</td>\n",
       "      <td>7869</td>\n",
       "    </tr>\n",
       "    <tr>\n",
       "      <th>5</th>\n",
       "      <td>PRKLDFRSD</td>\n",
       "      <td>5638</td>\n",
       "    </tr>\n",
       "    <tr>\n",
       "      <th>6</th>\n",
       "      <td>VRRAVNDER</td>\n",
       "      <td>7721</td>\n",
       "    </tr>\n",
       "    <tr>\n",
       "      <th>7</th>\n",
       "      <td>QREGIYYIV</td>\n",
       "      <td>622</td>\n",
       "    </tr>\n",
       "    <tr>\n",
       "      <th>8</th>\n",
       "      <td>SLRLECSGA</td>\n",
       "      <td>5285</td>\n",
       "    </tr>\n",
       "    <tr>\n",
       "      <th>9</th>\n",
       "      <td>THRTDDNIQ</td>\n",
       "      <td>6194</td>\n",
       "    </tr>\n",
       "    <tr>\n",
       "      <th>10</th>\n",
       "      <td>AQAGVQWHD</td>\n",
       "      <td>3918</td>\n",
       "    </tr>\n",
       "    <tr>\n",
       "      <th>11</th>\n",
       "      <td>SYYKETLSV</td>\n",
       "      <td>7870</td>\n",
       "    </tr>\n",
       "    <tr>\n",
       "      <th>12</th>\n",
       "      <td>STPSPIPNT</td>\n",
       "      <td>7673</td>\n",
       "    </tr>\n",
       "    <tr>\n",
       "      <th>13</th>\n",
       "      <td>ETSSTHPLQ</td>\n",
       "      <td>657</td>\n",
       "    </tr>\n",
       "    <tr>\n",
       "      <th>14</th>\n",
       "      <td>LVTETLQQA</td>\n",
       "      <td>7681</td>\n",
       "    </tr>\n",
       "    <tr>\n",
       "      <th>15</th>\n",
       "      <td>QMFSGTFWA</td>\n",
       "      <td>757</td>\n",
       "    </tr>\n",
       "    <tr>\n",
       "      <th>16</th>\n",
       "      <td>SDILKMSLM</td>\n",
       "      <td>7858</td>\n",
       "    </tr>\n",
       "    <tr>\n",
       "      <th>17</th>\n",
       "      <td>AAQAGVQWH</td>\n",
       "      <td>3918</td>\n",
       "    </tr>\n",
       "    <tr>\n",
       "      <th>18</th>\n",
       "      <td>SLQPPPPRF</td>\n",
       "      <td>3918</td>\n",
       "    </tr>\n",
       "    <tr>\n",
       "      <th>19</th>\n",
       "      <td>GEVEEMDTL</td>\n",
       "      <td>7816</td>\n",
       "    </tr>\n",
       "    <tr>\n",
       "      <th>20</th>\n",
       "      <td>LTSPVTSIS</td>\n",
       "      <td>7850</td>\n",
       "    </tr>\n",
       "    <tr>\n",
       "      <th>21</th>\n",
       "      <td>LVSNSLSQG</td>\n",
       "      <td>6254</td>\n",
       "    </tr>\n",
       "    <tr>\n",
       "      <th>22</th>\n",
       "      <td>KWGLNMEYC</td>\n",
       "      <td>7853</td>\n",
       "    </tr>\n",
       "    <tr>\n",
       "      <th>23</th>\n",
       "      <td>ETSPTIIYQ</td>\n",
       "      <td>7682</td>\n",
       "    </tr>\n",
       "    <tr>\n",
       "      <th>24</th>\n",
       "      <td>TQILAQFPK</td>\n",
       "      <td>7632</td>\n",
       "    </tr>\n",
       "    <tr>\n",
       "      <th>25</th>\n",
       "      <td>LAQFPKQHQ</td>\n",
       "      <td>7632</td>\n",
       "    </tr>\n",
       "    <tr>\n",
       "      <th>26</th>\n",
       "      <td>HVIASRRQD</td>\n",
       "      <td>7612</td>\n",
       "    </tr>\n",
       "    <tr>\n",
       "      <th>27</th>\n",
       "      <td>SLLAQDLLK</td>\n",
       "      <td>1263</td>\n",
       "    </tr>\n",
       "    <tr>\n",
       "      <th>28</th>\n",
       "      <td>SFQHIDSVY</td>\n",
       "      <td>116</td>\n",
       "    </tr>\n",
       "    <tr>\n",
       "      <th>29</th>\n",
       "      <td>CSINIYKRM</td>\n",
       "      <td>75</td>\n",
       "    </tr>\n",
       "    <tr>\n",
       "      <th>30</th>\n",
       "      <td>AHRSGWSAV</td>\n",
       "      <td>5285</td>\n",
       "    </tr>\n",
       "    <tr>\n",
       "      <th>31</th>\n",
       "      <td>KETRKNSSC</td>\n",
       "      <td>5638</td>\n",
       "    </tr>\n",
       "    <tr>\n",
       "      <th>32</th>\n",
       "      <td>HPCQHLLLP</td>\n",
       "      <td>1491</td>\n",
       "    </tr>\n",
       "    <tr>\n",
       "      <th>33</th>\n",
       "      <td>LGSGDPPAS</td>\n",
       "      <td>5285</td>\n",
       "    </tr>\n",
       "    <tr>\n",
       "      <th>34</th>\n",
       "      <td>KTLGLLPNL</td>\n",
       "      <td>56</td>\n",
       "    </tr>\n",
       "    <tr>\n",
       "      <th>35</th>\n",
       "      <td>GLHGRCIFN</td>\n",
       "      <td>231</td>\n",
       "    </tr>\n",
       "    <tr>\n",
       "      <th>36</th>\n",
       "      <td>SSCLRKKTL</td>\n",
       "      <td>56</td>\n",
       "    </tr>\n",
       "    <tr>\n",
       "      <th>37</th>\n",
       "      <td>TVAQEVVFC</td>\n",
       "      <td>7</td>\n",
       "    </tr>\n",
       "    <tr>\n",
       "      <th>38</th>\n",
       "      <td>AGTIQTVPT</td>\n",
       "      <td>2</td>\n",
       "    </tr>\n",
       "    <tr>\n",
       "      <th>39</th>\n",
       "      <td>AGYSSVCYS</td>\n",
       "      <td>1686</td>\n",
       "    </tr>\n",
       "    <tr>\n",
       "      <th>40</th>\n",
       "      <td>DPARRADLE</td>\n",
       "      <td>1</td>\n",
       "    </tr>\n",
       "    <tr>\n",
       "      <th>41</th>\n",
       "      <td>KTQVLIKPK</td>\n",
       "      <td>7600</td>\n",
       "    </tr>\n",
       "    <tr>\n",
       "      <th>42</th>\n",
       "      <td>LKETEPHYV</td>\n",
       "      <td>370</td>\n",
       "    </tr>\n",
       "    <tr>\n",
       "      <th>43</th>\n",
       "      <td>VFIDAEDLA</td>\n",
       "      <td>1</td>\n",
       "    </tr>\n",
       "    <tr>\n",
       "      <th>44</th>\n",
       "      <td>TVYVKILSL</td>\n",
       "      <td>97</td>\n",
       "    </tr>\n",
       "    <tr>\n",
       "      <th>45</th>\n",
       "      <td>KTITVPVII</td>\n",
       "      <td>8</td>\n",
       "    </tr>\n",
       "    <tr>\n",
       "      <th>46</th>\n",
       "      <td>TVAQVKEKL</td>\n",
       "      <td>2</td>\n",
       "    </tr>\n",
       "    <tr>\n",
       "      <th>47</th>\n",
       "      <td>CWNSQPVVH</td>\n",
       "      <td>3</td>\n",
       "    </tr>\n",
       "  </tbody>\n",
       "</table>\n",
       "</div>"
      ],
      "text/plain": [
       "        k-mer  k-mer count\n",
       "0   TGRHDAFEI         7854\n",
       "1   MNLSLYLGE         4402\n",
       "2   CFSSLLAQD         1263\n",
       "3   SDLPNPDTL         7870\n",
       "4   VMKVENERY         7869\n",
       "5   PRKLDFRSD         5638\n",
       "6   VRRAVNDER         7721\n",
       "7   QREGIYYIV          622\n",
       "8   SLRLECSGA         5285\n",
       "9   THRTDDNIQ         6194\n",
       "10  AQAGVQWHD         3918\n",
       "11  SYYKETLSV         7870\n",
       "12  STPSPIPNT         7673\n",
       "13  ETSSTHPLQ          657\n",
       "14  LVTETLQQA         7681\n",
       "15  QMFSGTFWA          757\n",
       "16  SDILKMSLM         7858\n",
       "17  AAQAGVQWH         3918\n",
       "18  SLQPPPPRF         3918\n",
       "19  GEVEEMDTL         7816\n",
       "20  LTSPVTSIS         7850\n",
       "21  LVSNSLSQG         6254\n",
       "22  KWGLNMEYC         7853\n",
       "23  ETSPTIIYQ         7682\n",
       "24  TQILAQFPK         7632\n",
       "25  LAQFPKQHQ         7632\n",
       "26  HVIASRRQD         7612\n",
       "27  SLLAQDLLK         1263\n",
       "28  SFQHIDSVY          116\n",
       "29  CSINIYKRM           75\n",
       "30  AHRSGWSAV         5285\n",
       "31  KETRKNSSC         5638\n",
       "32  HPCQHLLLP         1491\n",
       "33  LGSGDPPAS         5285\n",
       "34  KTLGLLPNL           56\n",
       "35  GLHGRCIFN          231\n",
       "36  SSCLRKKTL           56\n",
       "37  TVAQEVVFC            7\n",
       "38  AGTIQTVPT            2\n",
       "39  AGYSSVCYS         1686\n",
       "40  DPARRADLE            1\n",
       "41  KTQVLIKPK         7600\n",
       "42  LKETEPHYV          370\n",
       "43  VFIDAEDLA            1\n",
       "44  TVYVKILSL           97\n",
       "45  KTITVPVII            8\n",
       "46  TVAQVKEKL            2\n",
       "47  CWNSQPVVH            3"
      ]
     },
     "execution_count": 2,
     "metadata": {},
     "output_type": "execute_result"
    }
   ],
   "source": [
    "pd.read_csv('/cluster/work/grlab/projects/projects2020_OHSU/peptides_generation/learning_filter/filtered_backgrounds/interm_normals_combiExprCohortLim2.0Across1.tsv/part-00000', sep = '\\t', names=['k-mer', 'k-mer count'])\n"
   ]
  },
  {
   "cell_type": "code",
   "execution_count": 3,
   "id": "638f84bf",
   "metadata": {},
   "outputs": [
    {
     "data": {
      "text/html": [
       "<div>\n",
       "<style scoped>\n",
       "    .dataframe tbody tr th:only-of-type {\n",
       "        vertical-align: middle;\n",
       "    }\n",
       "\n",
       "    .dataframe tbody tr th {\n",
       "        vertical-align: top;\n",
       "    }\n",
       "\n",
       "    .dataframe thead th {\n",
       "        text-align: right;\n",
       "    }\n",
       "</style>\n",
       "<table border=\"1\" class=\"dataframe\">\n",
       "  <thead>\n",
       "    <tr style=\"text-align: right;\">\n",
       "      <th></th>\n",
       "      <th>k-mer</th>\n",
       "      <th>k-mer count</th>\n",
       "    </tr>\n",
       "  </thead>\n",
       "  <tbody>\n",
       "    <tr>\n",
       "      <th>1</th>\n",
       "      <td>TGRHDAFEI</td>\n",
       "      <td>7854</td>\n",
       "    </tr>\n",
       "    <tr>\n",
       "      <th>2</th>\n",
       "      <td>MNLSLYLGE</td>\n",
       "      <td>4402</td>\n",
       "    </tr>\n",
       "    <tr>\n",
       "      <th>3</th>\n",
       "      <td>CFSSLLAQD</td>\n",
       "      <td>1263</td>\n",
       "    </tr>\n",
       "    <tr>\n",
       "      <th>4</th>\n",
       "      <td>SDLPNPDTL</td>\n",
       "      <td>7870</td>\n",
       "    </tr>\n",
       "    <tr>\n",
       "      <th>5</th>\n",
       "      <td>VMKVENERY</td>\n",
       "      <td>7869</td>\n",
       "    </tr>\n",
       "    <tr>\n",
       "      <th>6</th>\n",
       "      <td>PRKLDFRSD</td>\n",
       "      <td>5638</td>\n",
       "    </tr>\n",
       "    <tr>\n",
       "      <th>7</th>\n",
       "      <td>VRRAVNDER</td>\n",
       "      <td>7721</td>\n",
       "    </tr>\n",
       "    <tr>\n",
       "      <th>8</th>\n",
       "      <td>QREGIYYIV</td>\n",
       "      <td>622</td>\n",
       "    </tr>\n",
       "    <tr>\n",
       "      <th>9</th>\n",
       "      <td>SLRLECSGA</td>\n",
       "      <td>5285</td>\n",
       "    </tr>\n",
       "    <tr>\n",
       "      <th>10</th>\n",
       "      <td>THRTDDNIQ</td>\n",
       "      <td>6194</td>\n",
       "    </tr>\n",
       "    <tr>\n",
       "      <th>11</th>\n",
       "      <td>AQAGVQWHD</td>\n",
       "      <td>3918</td>\n",
       "    </tr>\n",
       "    <tr>\n",
       "      <th>12</th>\n",
       "      <td>SYYKETLSV</td>\n",
       "      <td>7870</td>\n",
       "    </tr>\n",
       "    <tr>\n",
       "      <th>13</th>\n",
       "      <td>STPSPIPNT</td>\n",
       "      <td>7673</td>\n",
       "    </tr>\n",
       "    <tr>\n",
       "      <th>14</th>\n",
       "      <td>ETSSTHPLQ</td>\n",
       "      <td>657</td>\n",
       "    </tr>\n",
       "    <tr>\n",
       "      <th>15</th>\n",
       "      <td>LVTETLQQA</td>\n",
       "      <td>7681</td>\n",
       "    </tr>\n",
       "    <tr>\n",
       "      <th>16</th>\n",
       "      <td>QMFSGTFWA</td>\n",
       "      <td>757</td>\n",
       "    </tr>\n",
       "    <tr>\n",
       "      <th>17</th>\n",
       "      <td>SDILKMSLM</td>\n",
       "      <td>7858</td>\n",
       "    </tr>\n",
       "    <tr>\n",
       "      <th>18</th>\n",
       "      <td>AAQAGVQWH</td>\n",
       "      <td>3918</td>\n",
       "    </tr>\n",
       "    <tr>\n",
       "      <th>19</th>\n",
       "      <td>SLQPPPPRF</td>\n",
       "      <td>3918</td>\n",
       "    </tr>\n",
       "    <tr>\n",
       "      <th>20</th>\n",
       "      <td>GEVEEMDTL</td>\n",
       "      <td>7816</td>\n",
       "    </tr>\n",
       "    <tr>\n",
       "      <th>21</th>\n",
       "      <td>LTSPVTSIS</td>\n",
       "      <td>7850</td>\n",
       "    </tr>\n",
       "    <tr>\n",
       "      <th>22</th>\n",
       "      <td>LVSNSLSQG</td>\n",
       "      <td>6254</td>\n",
       "    </tr>\n",
       "    <tr>\n",
       "      <th>23</th>\n",
       "      <td>KWGLNMEYC</td>\n",
       "      <td>7853</td>\n",
       "    </tr>\n",
       "    <tr>\n",
       "      <th>24</th>\n",
       "      <td>ETSPTIIYQ</td>\n",
       "      <td>7682</td>\n",
       "    </tr>\n",
       "    <tr>\n",
       "      <th>25</th>\n",
       "      <td>TQILAQFPK</td>\n",
       "      <td>7632</td>\n",
       "    </tr>\n",
       "    <tr>\n",
       "      <th>26</th>\n",
       "      <td>LAQFPKQHQ</td>\n",
       "      <td>7632</td>\n",
       "    </tr>\n",
       "    <tr>\n",
       "      <th>27</th>\n",
       "      <td>HVIASRRQD</td>\n",
       "      <td>7612</td>\n",
       "    </tr>\n",
       "    <tr>\n",
       "      <th>28</th>\n",
       "      <td>SLLAQDLLK</td>\n",
       "      <td>1263</td>\n",
       "    </tr>\n",
       "    <tr>\n",
       "      <th>29</th>\n",
       "      <td>SFQHIDSVY</td>\n",
       "      <td>116</td>\n",
       "    </tr>\n",
       "    <tr>\n",
       "      <th>30</th>\n",
       "      <td>CSINIYKRM</td>\n",
       "      <td>75</td>\n",
       "    </tr>\n",
       "    <tr>\n",
       "      <th>31</th>\n",
       "      <td>AHRSGWSAV</td>\n",
       "      <td>5285</td>\n",
       "    </tr>\n",
       "    <tr>\n",
       "      <th>32</th>\n",
       "      <td>KETRKNSSC</td>\n",
       "      <td>5638</td>\n",
       "    </tr>\n",
       "    <tr>\n",
       "      <th>33</th>\n",
       "      <td>HPCQHLLLP</td>\n",
       "      <td>1491</td>\n",
       "    </tr>\n",
       "    <tr>\n",
       "      <th>34</th>\n",
       "      <td>LGSGDPPAS</td>\n",
       "      <td>5285</td>\n",
       "    </tr>\n",
       "    <tr>\n",
       "      <th>35</th>\n",
       "      <td>KTLGLLPNL</td>\n",
       "      <td>56</td>\n",
       "    </tr>\n",
       "    <tr>\n",
       "      <th>36</th>\n",
       "      <td>GLHGRCIFN</td>\n",
       "      <td>231</td>\n",
       "    </tr>\n",
       "    <tr>\n",
       "      <th>37</th>\n",
       "      <td>SSCLRKKTL</td>\n",
       "      <td>56</td>\n",
       "    </tr>\n",
       "    <tr>\n",
       "      <th>38</th>\n",
       "      <td>TVAQEVVFC</td>\n",
       "      <td>7</td>\n",
       "    </tr>\n",
       "    <tr>\n",
       "      <th>39</th>\n",
       "      <td>AGTIQTVPT</td>\n",
       "      <td>2</td>\n",
       "    </tr>\n",
       "    <tr>\n",
       "      <th>40</th>\n",
       "      <td>AGYSSVCYS</td>\n",
       "      <td>1686</td>\n",
       "    </tr>\n",
       "    <tr>\n",
       "      <th>41</th>\n",
       "      <td>DPARRADLE</td>\n",
       "      <td>1</td>\n",
       "    </tr>\n",
       "    <tr>\n",
       "      <th>42</th>\n",
       "      <td>KTQVLIKPK</td>\n",
       "      <td>7600</td>\n",
       "    </tr>\n",
       "    <tr>\n",
       "      <th>43</th>\n",
       "      <td>LKETEPHYV</td>\n",
       "      <td>370</td>\n",
       "    </tr>\n",
       "    <tr>\n",
       "      <th>44</th>\n",
       "      <td>VFIDAEDLA</td>\n",
       "      <td>1</td>\n",
       "    </tr>\n",
       "    <tr>\n",
       "      <th>45</th>\n",
       "      <td>TVYVKILSL</td>\n",
       "      <td>97</td>\n",
       "    </tr>\n",
       "    <tr>\n",
       "      <th>46</th>\n",
       "      <td>KTITVPVII</td>\n",
       "      <td>8</td>\n",
       "    </tr>\n",
       "    <tr>\n",
       "      <th>47</th>\n",
       "      <td>TVAQVKEKL</td>\n",
       "      <td>2</td>\n",
       "    </tr>\n",
       "    <tr>\n",
       "      <th>48</th>\n",
       "      <td>CWNSQPVVH</td>\n",
       "      <td>3</td>\n",
       "    </tr>\n",
       "  </tbody>\n",
       "</table>\n",
       "</div>"
      ],
      "text/plain": [
       "        k-mer  k-mer count\n",
       "1   TGRHDAFEI         7854\n",
       "2   MNLSLYLGE         4402\n",
       "3   CFSSLLAQD         1263\n",
       "4   SDLPNPDTL         7870\n",
       "5   VMKVENERY         7869\n",
       "6   PRKLDFRSD         5638\n",
       "7   VRRAVNDER         7721\n",
       "8   QREGIYYIV          622\n",
       "9   SLRLECSGA         5285\n",
       "10  THRTDDNIQ         6194\n",
       "11  AQAGVQWHD         3918\n",
       "12  SYYKETLSV         7870\n",
       "13  STPSPIPNT         7673\n",
       "14  ETSSTHPLQ          657\n",
       "15  LVTETLQQA         7681\n",
       "16  QMFSGTFWA          757\n",
       "17  SDILKMSLM         7858\n",
       "18  AAQAGVQWH         3918\n",
       "19  SLQPPPPRF         3918\n",
       "20  GEVEEMDTL         7816\n",
       "21  LTSPVTSIS         7850\n",
       "22  LVSNSLSQG         6254\n",
       "23  KWGLNMEYC         7853\n",
       "24  ETSPTIIYQ         7682\n",
       "25  TQILAQFPK         7632\n",
       "26  LAQFPKQHQ         7632\n",
       "27  HVIASRRQD         7612\n",
       "28  SLLAQDLLK         1263\n",
       "29  SFQHIDSVY          116\n",
       "30  CSINIYKRM           75\n",
       "31  AHRSGWSAV         5285\n",
       "32  KETRKNSSC         5638\n",
       "33  HPCQHLLLP         1491\n",
       "34  LGSGDPPAS         5285\n",
       "35  KTLGLLPNL           56\n",
       "36  GLHGRCIFN          231\n",
       "37  SSCLRKKTL           56\n",
       "38  TVAQEVVFC            7\n",
       "39  AGTIQTVPT            2\n",
       "40  AGYSSVCYS         1686\n",
       "41  DPARRADLE            1\n",
       "42  KTQVLIKPK         7600\n",
       "43  LKETEPHYV          370\n",
       "44  VFIDAEDLA            1\n",
       "45  TVYVKILSL           97\n",
       "46  KTITVPVII            8\n",
       "47  TVAQVKEKL            2\n",
       "48  CWNSQPVVH            3"
      ]
     },
     "execution_count": 3,
     "metadata": {},
     "output_type": "execute_result"
    }
   ],
   "source": [
    "df = pd.read_csv('/cluster/work/grlab/projects/projects2020_OHSU/peptides_generation/learning_filter/filtered_backgrounds/interm_normals_combiExprCohortLim2.0Across1.tsv/part-00000', sep = '\\t', names=['k-mer', 'k-mer count'])\n",
    "df.index = np.arange(1,len(df)+1) #k-mer count - recurrence of each 9-mer\n",
    "df"
   ]
  },
  {
   "cell_type": "code",
   "execution_count": 4,
   "id": "0388c460",
   "metadata": {},
   "outputs": [
    {
     "data": {
      "text/plain": [
       "(48, 2)"
      ]
     },
     "execution_count": 4,
     "metadata": {},
     "output_type": "execute_result"
    }
   ],
   "source": [
    "df.shape"
   ]
  },
  {
   "cell_type": "code",
   "execution_count": 5,
   "id": "92b13e39",
   "metadata": {},
   "outputs": [
    {
     "data": {
      "text/plain": [
       "1     7854\n",
       "2     4402\n",
       "3     1263\n",
       "4     7870\n",
       "5     7869\n",
       "6     5638\n",
       "7     7721\n",
       "8      622\n",
       "9     5285\n",
       "10    6194\n",
       "11    3918\n",
       "12    7870\n",
       "13    7673\n",
       "14     657\n",
       "15    7681\n",
       "16     757\n",
       "17    7858\n",
       "18    3918\n",
       "19    3918\n",
       "20    7816\n",
       "21    7850\n",
       "22    6254\n",
       "23    7853\n",
       "24    7682\n",
       "25    7632\n",
       "26    7632\n",
       "27    7612\n",
       "28    1263\n",
       "29     116\n",
       "30      75\n",
       "31    5285\n",
       "32    5638\n",
       "33    1491\n",
       "34    5285\n",
       "35      56\n",
       "36     231\n",
       "37      56\n",
       "38       7\n",
       "39       2\n",
       "40    1686\n",
       "41       1\n",
       "42    7600\n",
       "43     370\n",
       "44       1\n",
       "45      97\n",
       "46       8\n",
       "47       2\n",
       "48       3\n",
       "Name: k-mer count, dtype: int64"
      ]
     },
     "execution_count": 5,
     "metadata": {},
     "output_type": "execute_result"
    }
   ],
   "source": [
    "df[\"k-mer count\"] #k-mer count - recurrence of each 9-mer in sample"
   ]
  },
  {
   "cell_type": "markdown",
   "id": "1c8e6845",
   "metadata": {},
   "source": [
    "# Histogram for interm-normals samples combiExprCohortLim2.0Across1(part -00000:\n"
   ]
  },
  {
   "cell_type": "code",
   "execution_count": 6,
   "id": "c12b04d9",
   "metadata": {},
   "outputs": [
    {
     "data": {
      "image/png": "[encoded data removed]",
      "text/plain": [
       "<Figure size 432x288 with 1 Axes>"
      ]
     },
     "metadata": {
      "needs_background": "light"
     },
     "output_type": "display_data"
    }
   ],
   "source": [
    "#plt.hist(df[])\n",
    "plt.hist(df[\"k-mer count\"], density=False, histtype='barstacked', facecolor='g', alpha=0.9, bins =100)\n",
    "plt.xlabel(\"k-mer count\")\n",
    "plt.ylabel(\"n of k-mers\")\n",
    "plt.show()"
   ]
  },
  {
   "cell_type": "code",
   "execution_count": 7,
   "id": "68c382d4",
   "metadata": {},
   "outputs": [
    {
     "data": {
      "text/html": [
       "<div>\n",
       "<style scoped>\n",
       "    .dataframe tbody tr th:only-of-type {\n",
       "        vertical-align: middle;\n",
       "    }\n",
       "\n",
       "    .dataframe tbody tr th {\n",
       "        vertical-align: top;\n",
       "    }\n",
       "\n",
       "    .dataframe thead th {\n",
       "        text-align: right;\n",
       "    }\n",
       "</style>\n",
       "<table border=\"1\" class=\"dataframe\">\n",
       "  <thead>\n",
       "    <tr style=\"text-align: right;\">\n",
       "      <th></th>\n",
       "      <th>k-mer</th>\n",
       "      <th>k-mer count</th>\n",
       "    </tr>\n",
       "  </thead>\n",
       "  <tbody>\n",
       "    <tr>\n",
       "      <th>1</th>\n",
       "      <td>AGYSSVCYS</td>\n",
       "      <td>446</td>\n",
       "    </tr>\n",
       "    <tr>\n",
       "      <th>2</th>\n",
       "      <td>KTQVLIKPK</td>\n",
       "      <td>1064</td>\n",
       "    </tr>\n",
       "    <tr>\n",
       "      <th>3</th>\n",
       "      <td>TVYVKILSL</td>\n",
       "      <td>22</td>\n",
       "    </tr>\n",
       "    <tr>\n",
       "      <th>4</th>\n",
       "      <td>SQSSQEHLE</td>\n",
       "      <td>41</td>\n",
       "    </tr>\n",
       "    <tr>\n",
       "      <th>5</th>\n",
       "      <td>SSQSSQDSQ</td>\n",
       "      <td>1064</td>\n",
       "    </tr>\n",
       "    <tr>\n",
       "      <th>...</th>\n",
       "      <td>...</td>\n",
       "      <td>...</td>\n",
       "    </tr>\n",
       "    <tr>\n",
       "      <th>986</th>\n",
       "      <td>KVISGVLKE</td>\n",
       "      <td>213</td>\n",
       "    </tr>\n",
       "    <tr>\n",
       "      <th>987</th>\n",
       "      <td>CLRKKTLGL</td>\n",
       "      <td>28</td>\n",
       "    </tr>\n",
       "    <tr>\n",
       "      <th>988</th>\n",
       "      <td>FVLFRIPGT</td>\n",
       "      <td>1</td>\n",
       "    </tr>\n",
       "    <tr>\n",
       "      <th>989</th>\n",
       "      <td>QGQEGAGLH</td>\n",
       "      <td>79</td>\n",
       "    </tr>\n",
       "    <tr>\n",
       "      <th>990</th>\n",
       "      <td>LRKKTLGLL</td>\n",
       "      <td>28</td>\n",
       "    </tr>\n",
       "  </tbody>\n",
       "</table>\n",
       "<p>990 rows × 2 columns</p>\n",
       "</div>"
      ],
      "text/plain": [
       "         k-mer  k-mer count\n",
       "1    AGYSSVCYS          446\n",
       "2    KTQVLIKPK         1064\n",
       "3    TVYVKILSL           22\n",
       "4    SQSSQEHLE           41\n",
       "5    SSQSSQDSQ         1064\n",
       "..         ...          ...\n",
       "986  KVISGVLKE          213\n",
       "987  CLRKKTLGL           28\n",
       "988  FVLFRIPGT            1\n",
       "989  QGQEGAGLH           79\n",
       "990  LRKKTLGLL           28\n",
       "\n",
       "[990 rows x 2 columns]"
      ]
     },
     "execution_count": 7,
     "metadata": {},
     "output_type": "execute_result"
    }
   ],
   "source": [
    "df = pd.read_csv('/cluster/work/grlab/projects/projects2020_OHSU/peptides_generation/learning_filter/TCGA_Breast/filter_TCGA-BH-A18V-01A-11R-A12D-07.all/DATA_TEST_22.06.2022_Task5_Run#13_a_interm_cancer/interm_cancer_ref_combiExprCohortLim0.0Across1ExceptTCGABHA18V01A11RA12D07all.tsv/part-00000', sep = '\\t', names=['k-mer', 'k-mer count'])\n",
    "df.index = np.arange(1,len(df)+1)\n",
    "df"
   ]
  },
  {
   "cell_type": "code",
   "execution_count": 8,
   "id": "877314d9",
   "metadata": {},
   "outputs": [
    {
     "data": {
      "text/plain": [
       "(990, 2)"
      ]
     },
     "execution_count": 8,
     "metadata": {},
     "output_type": "execute_result"
    }
   ],
   "source": [
    "df.shape"
   ]
  },
  {
   "cell_type": "markdown",
   "id": "cbbb9c7d",
   "metadata": {},
   "source": [
    "# Histogram for interm-cancer samples ref_combiExprCohortLim0.0Across1ExceptTCGABHA18V01A11RA12D07all.tsv(part-00000):\n"
   ]
  },
  {
   "cell_type": "code",
   "execution_count": 9,
   "id": "ee1a7ed1",
   "metadata": {},
   "outputs": [
    {
     "data": {
      "image/png": "[encoded data removed]",
      "text/plain": [
       "<Figure size 432x288 with 1 Axes>"
      ]
     },
     "metadata": {
      "needs_background": "light"
     },
     "output_type": "display_data"
    }
   ],
   "source": [
    "plt.hist(df[\"k-mer count\"], density=True, histtype='stepfilled', facecolor='r', alpha=0.9) #density\n",
    "#Check basics of probabilities and statistics  distribution density probability of an event\n",
    "#True- probability distribution\n",
    "plt.xlabel(\"k-mer count\") \n",
    "plt.ylabel(\"n of k-mers\") \n",
    "plt.show()"
   ]
  },
  {
   "cell_type": "markdown",
   "id": "41bc51ca",
   "metadata": {},
   "source": [
    "# Box plot for nterm-normals samples combiExprCohortLim2.0Across1(part -00000: (minimum 2 reads across 1 or more samples, 7854 samples that have expression more than 2 reads)"
   ]
  },
  {
   "cell_type": "code",
   "execution_count": 10,
   "id": "560a1319",
   "metadata": {},
   "outputs": [
    {
     "data": {
      "text/html": [
       "<div>\n",
       "<style scoped>\n",
       "    .dataframe tbody tr th:only-of-type {\n",
       "        vertical-align: middle;\n",
       "    }\n",
       "\n",
       "    .dataframe tbody tr th {\n",
       "        vertical-align: top;\n",
       "    }\n",
       "\n",
       "    .dataframe thead th {\n",
       "        text-align: right;\n",
       "    }\n",
       "</style>\n",
       "<table border=\"1\" class=\"dataframe\">\n",
       "  <thead>\n",
       "    <tr style=\"text-align: right;\">\n",
       "      <th></th>\n",
       "      <th>All generated normal k-mers</th>\n",
       "      <th>Recurrence of k-mers across normal cohort</th>\n",
       "    </tr>\n",
       "  </thead>\n",
       "  <tbody>\n",
       "    <tr>\n",
       "      <th>1</th>\n",
       "      <td>TGRHDAFEI</td>\n",
       "      <td>7854</td>\n",
       "    </tr>\n",
       "    <tr>\n",
       "      <th>2</th>\n",
       "      <td>MNLSLYLGE</td>\n",
       "      <td>4402</td>\n",
       "    </tr>\n",
       "    <tr>\n",
       "      <th>3</th>\n",
       "      <td>CFSSLLAQD</td>\n",
       "      <td>1263</td>\n",
       "    </tr>\n",
       "    <tr>\n",
       "      <th>4</th>\n",
       "      <td>SDLPNPDTL</td>\n",
       "      <td>7870</td>\n",
       "    </tr>\n",
       "    <tr>\n",
       "      <th>5</th>\n",
       "      <td>VMKVENERY</td>\n",
       "      <td>7869</td>\n",
       "    </tr>\n",
       "  </tbody>\n",
       "</table>\n",
       "</div>"
      ],
      "text/plain": [
       "  All generated normal k-mers  Recurrence of k-mers across normal cohort\n",
       "1                   TGRHDAFEI                                       7854\n",
       "2                   MNLSLYLGE                                       4402\n",
       "3                   CFSSLLAQD                                       1263\n",
       "4                   SDLPNPDTL                                       7870\n",
       "5                   VMKVENERY                                       7869"
      ]
     },
     "execution_count": 10,
     "metadata": {},
     "output_type": "execute_result"
    }
   ],
   "source": [
    "df = pd.read_csv('/cluster/work/grlab/projects/projects2020_OHSU/peptides_generation/learning_filter/filtered_backgrounds/interm_normals_combiExprCohortLim2.0Across1.tsv/part-00000', sep = '\\t', names=['All generated normal k-mers', 'Recurrence of k-mers across normal cohort'])\n",
    "df.index = np.arange(1,len(df)+1)\n",
    "df.head()"
   ]
  },
  {
   "cell_type": "code",
   "execution_count": 11,
   "id": "820c3540",
   "metadata": {},
   "outputs": [
    {
     "data": {
      "image/png": "[encoded data removed]",
      "text/plain": [
       "<Figure size 432x288 with 1 Axes>"
      ]
     },
     "metadata": {
      "needs_background": "light"
     },
     "output_type": "display_data"
    }
   ],
   "source": [
    "#Box plots:\n",
    "'''Boxplots can be used to:\n",
    "\n",
    "    Identify outliers or anomalous data points\n",
    "    To determine if our data is skewed\n",
    "    To understand the spread/range of the data'''\n",
    "\n",
    "#Plotting using seaborn library:\n",
    "sns.boxplot(data = df, y = 'Recurrence of k-mers across normal cohort', palette = 'viridis', width=0.5) \n",
    "plt.ylabel('Recurrence of k-mers across normal cohort')# Recurrence across filtered_backgrounds /(normal cohorts/samples) of k-mers\n",
    "plt.xlabel('All generated normal k-mers')\n",
    "plt.show()"
   ]
  },
  {
   "cell_type": "code",
   "execution_count": 12,
   "id": "b6d7a42f",
   "metadata": {},
   "outputs": [
    {
     "data": {
      "image/png": "[encoded data removed]",
      "text/plain": [
       "<Figure size 432x288 with 1 Axes>"
      ]
     },
     "metadata": {
      "needs_background": "light"
     },
     "output_type": "display_data"
    }
   ],
   "source": [
    "#Violin plots:\n",
    "'''A violin plot is a hybrid of a box plot and a kernel density plot, \n",
    "which shows peaks in the data. It is used to visualize the distribution of numerical data. \n",
    "Unlike a box plot that can only show summary statistics, \n",
    "violin plots depict summary statistics and the density of each variable.'''\n",
    "\n",
    "#Plotting violinplot using seaborn library:\n",
    "sns.violinplot(data = df, y = 'Recurrence of k-mers across normal cohort', palette = 'viridis', width=0.5) \n",
    "plt.ylabel('Recurrence of k-mers across normal cohort') \n",
    "plt.xlabel('All generated normal k-mers') # My plot big around 8000 and 0 I have a very high number of k-mers of reccurence of 8000 and 0\n",
    "plt.show()"
   ]
  },
  {
   "cell_type": "code",
   "execution_count": 13,
   "id": "d34537cb",
   "metadata": {},
   "outputs": [
    {
     "data": {
      "text/plain": [
       "Text(0.5, 0, 'All generated normal k-mers')"
      ]
     },
     "execution_count": 13,
     "metadata": {},
     "output_type": "execute_result"
    },
    {
     "data": {
      "image/png": "[encoded data removed]",
      "text/plain": [
       "<Figure size 432x288 with 1 Axes>"
      ]
     },
     "metadata": {
      "needs_background": "light"
     },
     "output_type": "display_data"
    }
   ],
   "source": [
    "#Plotting using matplotlib library:\n",
    "#Using matplotlib to make a boxplot\n",
    "plt.boxplot(x=df['Recurrence of k-mers across normal cohort'], vert=True); #vert=False - for horizontal plot.\n",
    "plt.ylabel('Recurrence of k-mers across normal cohort')\n",
    "plt.xlabel('All generated normal k-mers')"
   ]
  },
  {
   "cell_type": "code",
   "execution_count": 14,
   "id": "f83c9868",
   "metadata": {},
   "outputs": [
    {
     "data": {
      "text/plain": [
       "Text(0.5, 0, 'All generated normal k-mers')"
      ]
     },
     "execution_count": 14,
     "metadata": {},
     "output_type": "execute_result"
    },
    {
     "data": {
      "image/png": "[encoded data removed]",
      "text/plain": [
       "<Figure size 432x288 with 1 Axes>"
      ]
     },
     "metadata": {
      "needs_background": "light"
     },
     "output_type": "display_data"
    }
   ],
   "source": [
    "#Plotting violinplot matplotlib library:\n",
    "#violinplot(dataset, positions=None, vert=True, widths=0.5, showmeans=False, showextrema=True, showmedians=False, quantiles=None, points=100,\n",
    "#bw_method=None, *, data=None)\n",
    "plt.violinplot(df['Recurrence of k-mers across normal cohort'], vert=True, widths=0.5);\n",
    "plt.ylabel('Recurrence of k-mers across normal cohort')\n",
    "plt.xlabel('All generated normal k-mers')"
   ]
  },
  {
   "cell_type": "code",
   "execution_count": 15,
   "id": "1554d4a2",
   "metadata": {},
   "outputs": [
    {
     "data": {
      "text/html": [
       "<div>\n",
       "<style scoped>\n",
       "    .dataframe tbody tr th:only-of-type {\n",
       "        vertical-align: middle;\n",
       "    }\n",
       "\n",
       "    .dataframe tbody tr th {\n",
       "        vertical-align: top;\n",
       "    }\n",
       "\n",
       "    .dataframe thead th {\n",
       "        text-align: right;\n",
       "    }\n",
       "</style>\n",
       "<table border=\"1\" class=\"dataframe\">\n",
       "  <thead>\n",
       "    <tr style=\"text-align: right;\">\n",
       "      <th></th>\n",
       "      <th>All generated normal k-mers</th>\n",
       "      <th>Recurrence of k-mers across normal cohort</th>\n",
       "    </tr>\n",
       "  </thead>\n",
       "  <tbody>\n",
       "    <tr>\n",
       "      <th>1</th>\n",
       "      <td>TGRHDAFEI</td>\n",
       "      <td>7854</td>\n",
       "    </tr>\n",
       "    <tr>\n",
       "      <th>2</th>\n",
       "      <td>MNLSLYLGE</td>\n",
       "      <td>4402</td>\n",
       "    </tr>\n",
       "    <tr>\n",
       "      <th>3</th>\n",
       "      <td>CFSSLLAQD</td>\n",
       "      <td>1263</td>\n",
       "    </tr>\n",
       "    <tr>\n",
       "      <th>4</th>\n",
       "      <td>SDLPNPDTL</td>\n",
       "      <td>7870</td>\n",
       "    </tr>\n",
       "    <tr>\n",
       "      <th>5</th>\n",
       "      <td>VMKVENERY</td>\n",
       "      <td>7869</td>\n",
       "    </tr>\n",
       "    <tr>\n",
       "      <th>6</th>\n",
       "      <td>PRKLDFRSD</td>\n",
       "      <td>5638</td>\n",
       "    </tr>\n",
       "    <tr>\n",
       "      <th>7</th>\n",
       "      <td>VRRAVNDER</td>\n",
       "      <td>7721</td>\n",
       "    </tr>\n",
       "    <tr>\n",
       "      <th>8</th>\n",
       "      <td>QREGIYYIV</td>\n",
       "      <td>622</td>\n",
       "    </tr>\n",
       "    <tr>\n",
       "      <th>9</th>\n",
       "      <td>SLRLECSGA</td>\n",
       "      <td>5285</td>\n",
       "    </tr>\n",
       "    <tr>\n",
       "      <th>10</th>\n",
       "      <td>THRTDDNIQ</td>\n",
       "      <td>6194</td>\n",
       "    </tr>\n",
       "    <tr>\n",
       "      <th>11</th>\n",
       "      <td>AQAGVQWHD</td>\n",
       "      <td>3918</td>\n",
       "    </tr>\n",
       "    <tr>\n",
       "      <th>12</th>\n",
       "      <td>SYYKETLSV</td>\n",
       "      <td>7870</td>\n",
       "    </tr>\n",
       "    <tr>\n",
       "      <th>13</th>\n",
       "      <td>STPSPIPNT</td>\n",
       "      <td>7673</td>\n",
       "    </tr>\n",
       "    <tr>\n",
       "      <th>14</th>\n",
       "      <td>ETSSTHPLQ</td>\n",
       "      <td>657</td>\n",
       "    </tr>\n",
       "    <tr>\n",
       "      <th>15</th>\n",
       "      <td>LVTETLQQA</td>\n",
       "      <td>7681</td>\n",
       "    </tr>\n",
       "    <tr>\n",
       "      <th>16</th>\n",
       "      <td>QMFSGTFWA</td>\n",
       "      <td>757</td>\n",
       "    </tr>\n",
       "    <tr>\n",
       "      <th>17</th>\n",
       "      <td>SDILKMSLM</td>\n",
       "      <td>7858</td>\n",
       "    </tr>\n",
       "    <tr>\n",
       "      <th>18</th>\n",
       "      <td>AAQAGVQWH</td>\n",
       "      <td>3918</td>\n",
       "    </tr>\n",
       "    <tr>\n",
       "      <th>19</th>\n",
       "      <td>SLQPPPPRF</td>\n",
       "      <td>3918</td>\n",
       "    </tr>\n",
       "    <tr>\n",
       "      <th>20</th>\n",
       "      <td>GEVEEMDTL</td>\n",
       "      <td>7816</td>\n",
       "    </tr>\n",
       "    <tr>\n",
       "      <th>21</th>\n",
       "      <td>LTSPVTSIS</td>\n",
       "      <td>7850</td>\n",
       "    </tr>\n",
       "    <tr>\n",
       "      <th>22</th>\n",
       "      <td>LVSNSLSQG</td>\n",
       "      <td>6254</td>\n",
       "    </tr>\n",
       "    <tr>\n",
       "      <th>23</th>\n",
       "      <td>KWGLNMEYC</td>\n",
       "      <td>7853</td>\n",
       "    </tr>\n",
       "    <tr>\n",
       "      <th>24</th>\n",
       "      <td>ETSPTIIYQ</td>\n",
       "      <td>7682</td>\n",
       "    </tr>\n",
       "    <tr>\n",
       "      <th>25</th>\n",
       "      <td>TQILAQFPK</td>\n",
       "      <td>7632</td>\n",
       "    </tr>\n",
       "    <tr>\n",
       "      <th>26</th>\n",
       "      <td>LAQFPKQHQ</td>\n",
       "      <td>7632</td>\n",
       "    </tr>\n",
       "    <tr>\n",
       "      <th>27</th>\n",
       "      <td>HVIASRRQD</td>\n",
       "      <td>7612</td>\n",
       "    </tr>\n",
       "    <tr>\n",
       "      <th>28</th>\n",
       "      <td>SLLAQDLLK</td>\n",
       "      <td>1263</td>\n",
       "    </tr>\n",
       "    <tr>\n",
       "      <th>29</th>\n",
       "      <td>SFQHIDSVY</td>\n",
       "      <td>116</td>\n",
       "    </tr>\n",
       "    <tr>\n",
       "      <th>30</th>\n",
       "      <td>CSINIYKRM</td>\n",
       "      <td>75</td>\n",
       "    </tr>\n",
       "    <tr>\n",
       "      <th>31</th>\n",
       "      <td>AHRSGWSAV</td>\n",
       "      <td>5285</td>\n",
       "    </tr>\n",
       "    <tr>\n",
       "      <th>32</th>\n",
       "      <td>KETRKNSSC</td>\n",
       "      <td>5638</td>\n",
       "    </tr>\n",
       "    <tr>\n",
       "      <th>33</th>\n",
       "      <td>HPCQHLLLP</td>\n",
       "      <td>1491</td>\n",
       "    </tr>\n",
       "    <tr>\n",
       "      <th>34</th>\n",
       "      <td>LGSGDPPAS</td>\n",
       "      <td>5285</td>\n",
       "    </tr>\n",
       "    <tr>\n",
       "      <th>35</th>\n",
       "      <td>KTLGLLPNL</td>\n",
       "      <td>56</td>\n",
       "    </tr>\n",
       "    <tr>\n",
       "      <th>36</th>\n",
       "      <td>GLHGRCIFN</td>\n",
       "      <td>231</td>\n",
       "    </tr>\n",
       "    <tr>\n",
       "      <th>37</th>\n",
       "      <td>SSCLRKKTL</td>\n",
       "      <td>56</td>\n",
       "    </tr>\n",
       "    <tr>\n",
       "      <th>38</th>\n",
       "      <td>TVAQEVVFC</td>\n",
       "      <td>7</td>\n",
       "    </tr>\n",
       "    <tr>\n",
       "      <th>39</th>\n",
       "      <td>AGTIQTVPT</td>\n",
       "      <td>2</td>\n",
       "    </tr>\n",
       "    <tr>\n",
       "      <th>40</th>\n",
       "      <td>AGYSSVCYS</td>\n",
       "      <td>1686</td>\n",
       "    </tr>\n",
       "    <tr>\n",
       "      <th>41</th>\n",
       "      <td>DPARRADLE</td>\n",
       "      <td>1</td>\n",
       "    </tr>\n",
       "    <tr>\n",
       "      <th>42</th>\n",
       "      <td>KTQVLIKPK</td>\n",
       "      <td>7600</td>\n",
       "    </tr>\n",
       "    <tr>\n",
       "      <th>43</th>\n",
       "      <td>LKETEPHYV</td>\n",
       "      <td>370</td>\n",
       "    </tr>\n",
       "    <tr>\n",
       "      <th>44</th>\n",
       "      <td>VFIDAEDLA</td>\n",
       "      <td>1</td>\n",
       "    </tr>\n",
       "    <tr>\n",
       "      <th>45</th>\n",
       "      <td>TVYVKILSL</td>\n",
       "      <td>97</td>\n",
       "    </tr>\n",
       "    <tr>\n",
       "      <th>46</th>\n",
       "      <td>KTITVPVII</td>\n",
       "      <td>8</td>\n",
       "    </tr>\n",
       "    <tr>\n",
       "      <th>47</th>\n",
       "      <td>TVAQVKEKL</td>\n",
       "      <td>2</td>\n",
       "    </tr>\n",
       "    <tr>\n",
       "      <th>48</th>\n",
       "      <td>CWNSQPVVH</td>\n",
       "      <td>3</td>\n",
       "    </tr>\n",
       "  </tbody>\n",
       "</table>\n",
       "</div>"
      ],
      "text/plain": [
       "   All generated normal k-mers  Recurrence of k-mers across normal cohort\n",
       "1                    TGRHDAFEI                                       7854\n",
       "2                    MNLSLYLGE                                       4402\n",
       "3                    CFSSLLAQD                                       1263\n",
       "4                    SDLPNPDTL                                       7870\n",
       "5                    VMKVENERY                                       7869\n",
       "6                    PRKLDFRSD                                       5638\n",
       "7                    VRRAVNDER                                       7721\n",
       "8                    QREGIYYIV                                        622\n",
       "9                    SLRLECSGA                                       5285\n",
       "10                   THRTDDNIQ                                       6194\n",
       "11                   AQAGVQWHD                                       3918\n",
       "12                   SYYKETLSV                                       7870\n",
       "13                   STPSPIPNT                                       7673\n",
       "14                   ETSSTHPLQ                                        657\n",
       "15                   LVTETLQQA                                       7681\n",
       "16                   QMFSGTFWA                                        757\n",
       "17                   SDILKMSLM                                       7858\n",
       "18                   AAQAGVQWH                                       3918\n",
       "19                   SLQPPPPRF                                       3918\n",
       "20                   GEVEEMDTL                                       7816\n",
       "21                   LTSPVTSIS                                       7850\n",
       "22                   LVSNSLSQG                                       6254\n",
       "23                   KWGLNMEYC                                       7853\n",
       "24                   ETSPTIIYQ                                       7682\n",
       "25                   TQILAQFPK                                       7632\n",
       "26                   LAQFPKQHQ                                       7632\n",
       "27                   HVIASRRQD                                       7612\n",
       "28                   SLLAQDLLK                                       1263\n",
       "29                   SFQHIDSVY                                        116\n",
       "30                   CSINIYKRM                                         75\n",
       "31                   AHRSGWSAV                                       5285\n",
       "32                   KETRKNSSC                                       5638\n",
       "33                   HPCQHLLLP                                       1491\n",
       "34                   LGSGDPPAS                                       5285\n",
       "35                   KTLGLLPNL                                         56\n",
       "36                   GLHGRCIFN                                        231\n",
       "37                   SSCLRKKTL                                         56\n",
       "38                   TVAQEVVFC                                          7\n",
       "39                   AGTIQTVPT                                          2\n",
       "40                   AGYSSVCYS                                       1686\n",
       "41                   DPARRADLE                                          1\n",
       "42                   KTQVLIKPK                                       7600\n",
       "43                   LKETEPHYV                                        370\n",
       "44                   VFIDAEDLA                                          1\n",
       "45                   TVYVKILSL                                         97\n",
       "46                   KTITVPVII                                          8\n",
       "47                   TVAQVKEKL                                          2\n",
       "48                   CWNSQPVVH                                          3"
      ]
     },
     "execution_count": 15,
     "metadata": {},
     "output_type": "execute_result"
    }
   ],
   "source": [
    "df"
   ]
  },
  {
   "cell_type": "markdown",
   "id": "827b4c83",
   "metadata": {},
   "source": [
    "# Box plot for interm-cancer samples ref_combiExprCohortLim0.0Across1ExceptTCGABHA18V01A11RA12D07all.tsv(part-00000):"
   ]
  },
  {
   "cell_type": "code",
   "execution_count": 16,
   "id": "78fe662d",
   "metadata": {},
   "outputs": [
    {
     "data": {
      "text/html": [
       "<div>\n",
       "<style scoped>\n",
       "    .dataframe tbody tr th:only-of-type {\n",
       "        vertical-align: middle;\n",
       "    }\n",
       "\n",
       "    .dataframe tbody tr th {\n",
       "        vertical-align: top;\n",
       "    }\n",
       "\n",
       "    .dataframe thead th {\n",
       "        text-align: right;\n",
       "    }\n",
       "</style>\n",
       "<table border=\"1\" class=\"dataframe\">\n",
       "  <thead>\n",
       "    <tr style=\"text-align: right;\">\n",
       "      <th></th>\n",
       "      <th>All generated cancer k-mers</th>\n",
       "      <th>Recurrence of k-mers across cancer cohort</th>\n",
       "    </tr>\n",
       "  </thead>\n",
       "  <tbody>\n",
       "    <tr>\n",
       "      <th>0</th>\n",
       "      <td>AGYSSVCYS</td>\n",
       "      <td>446</td>\n",
       "    </tr>\n",
       "    <tr>\n",
       "      <th>1</th>\n",
       "      <td>KTQVLIKPK</td>\n",
       "      <td>1064</td>\n",
       "    </tr>\n",
       "    <tr>\n",
       "      <th>2</th>\n",
       "      <td>TVYVKILSL</td>\n",
       "      <td>22</td>\n",
       "    </tr>\n",
       "    <tr>\n",
       "      <th>3</th>\n",
       "      <td>SQSSQEHLE</td>\n",
       "      <td>41</td>\n",
       "    </tr>\n",
       "    <tr>\n",
       "      <th>4</th>\n",
       "      <td>SSQSSQDSQ</td>\n",
       "      <td>1064</td>\n",
       "    </tr>\n",
       "  </tbody>\n",
       "</table>\n",
       "</div>"
      ],
      "text/plain": [
       "  All generated cancer k-mers  Recurrence of k-mers across cancer cohort\n",
       "0                   AGYSSVCYS                                        446\n",
       "1                   KTQVLIKPK                                       1064\n",
       "2                   TVYVKILSL                                         22\n",
       "3                   SQSSQEHLE                                         41\n",
       "4                   SSQSSQDSQ                                       1064"
      ]
     },
     "execution_count": 16,
     "metadata": {},
     "output_type": "execute_result"
    }
   ],
   "source": [
    "df = pd.read_csv('/cluster/work/grlab/projects/projects2020_OHSU/peptides_generation/learning_filter/TCGA_Breast/filter_TCGA-BH-A18V-01A-11R-A12D-07.all/DATA_TEST_22.06.2022_Task5_Run#13_a_interm_cancer/interm_cancer_ref_combiExprCohortLim0.0Across1ExceptTCGABHA18V01A11RA12D07all.tsv/part-00000', sep = '\\t', names=['All generated cancer k-mers', 'Recurrence of k-mers across cancer cohort'])\n",
    "df.head()"
   ]
  },
  {
   "cell_type": "code",
   "execution_count": 17,
   "id": "c6cffe7f",
   "metadata": {
    "scrolled": true
   },
   "outputs": [
    {
     "data": {
      "image/png": "[encoded data removed]",
      "text/plain": [
       "<Figure size 432x288 with 1 Axes>"
      ]
     },
     "metadata": {
      "needs_background": "light"
     },
     "output_type": "display_data"
    }
   ],
   "source": [
    "#Plotting box plot using seaborn library:\n",
    "sns.boxplot(data = df, y = 'Recurrence of k-mers across cancer cohort', palette = 'muted', width=0.5) \n",
    "plt.ylabel('Recurrence of k-mers across cancer cohort') #Recurrence across filtered_foregrounds /(normal samples) of k-mers\n",
    "plt.xlabel('All generated cancer k-mers') \n",
    "plt.show()"
   ]
  },
  {
   "cell_type": "code",
   "execution_count": 18,
   "id": "32baccf2",
   "metadata": {},
   "outputs": [
    {
     "data": {
      "image/png": "[encoded data removed]",
      "text/plain": [
       "<Figure size 432x288 with 1 Axes>"
      ]
     },
     "metadata": {
      "needs_background": "light"
     },
     "output_type": "display_data"
    }
   ],
   "source": [
    "#Plotting violin plot using seaborn library:\n",
    "sns.violinplot(data = df, y = 'Recurrence of k-mers across cancer cohort', palette = 'muted', width=0.5) \n",
    "plt.ylabel('Recurrence of k-mers across cancer cohort')\n",
    "plt.xlabel('All generated cancer k-mers')\n",
    "plt.show()"
   ]
  },
  {
   "cell_type": "code",
   "execution_count": 19,
   "id": "55cc1a68",
   "metadata": {},
   "outputs": [
    {
     "data": {
      "text/plain": [
       "Text(0.5, 0, 'All generated cancer k-mers')"
      ]
     },
     "execution_count": 19,
     "metadata": {},
     "output_type": "execute_result"
    },
    {
     "data": {
      "image/png": "[encoded data removed]",
      "text/plain": [
       "<Figure size 432x288 with 1 Axes>"
      ]
     },
     "metadata": {
      "needs_background": "light"
     },
     "output_type": "display_data"
    }
   ],
   "source": [
    "#Plotting box plot using matplotlib library:\n",
    "plt.boxplot(x=df['Recurrence of k-mers across cancer cohort'], vert=True);\n",
    "plt.ylabel('Recurrence of k-mers across cancer cohort')\n",
    "plt.xlabel('All generated cancer k-mers')"
   ]
  },
  {
   "cell_type": "code",
   "execution_count": 20,
   "id": "26d8bd8c",
   "metadata": {},
   "outputs": [
    {
     "data": {
      "text/plain": [
       "Text(0.5, 0, 'All generated cancer k-mers')"
      ]
     },
     "execution_count": 20,
     "metadata": {},
     "output_type": "execute_result"
    },
    {
     "data": {
      "image/png": "[encoded data removed]",
      "text/plain": [
       "<Figure size 432x288 with 1 Axes>"
      ]
     },
     "metadata": {
      "needs_background": "light"
     },
     "output_type": "display_data"
    }
   ],
   "source": [
    "#Plotting violin plot using matplotlib library:\n",
    "plt.violinplot(df['Recurrence of k-mers across cancer cohort'], vert=True);\n",
    "plt.ylabel('Recurrence of k-mers across cancer cohort')\n",
    "plt.xlabel('All generated cancer k-mers')"
   ]
  },
  {
   "cell_type": "code",
   "execution_count": 21,
   "id": "88f1d982",
   "metadata": {},
   "outputs": [],
   "source": [
    "import glob\n",
    "import pandas as pd\n",
    "#merged reccurence and expression in the output \n",
    "#Scatter plots\n",
    "#panda merge will be used\n",
    "\n",
    "#Expression data:(for normals and for cancer samples)\n",
    "    #/cluster/work/grlab/projects/projects2020_OHSU/peptides_generation/v2_v2.5f0752a_conf2_annotFrame_cap0_runs_pya0.17.1/TCGA_Breast_1102\n",
    "    #/filter_TCGA-A2-A0D2-01A-21R-A034-07.all/commit_d4aee54_GTEXcore\n",
    "    #/G_TCGA-A2-A0D2-01A-21R-A034-07.all_ref_SampleLim0.0CohortLim0.0Across10_FiltNormalsGtexcoreCohortlim3.0Across10_FiltUniprot.tsv\n",
    "    #/part-00000-ff44ef83-8d6d-4992-8585-46eac2dae2dd-c000.csv\n",
    "    \n",
    "#Reccurence data(for normals):/cluster/work/grlab/projects/projects2020_OHSU/peptides_generation/v2_v2.5f0752a_conf2_annotFrame_cap0_runs_pya0.17.1/filtered_backgrounds/commit_d4aee54_GTEXcore/interm_normals_combiExprCohortLim0.0Across1.tsv    \n",
    "#combiExprCohortLim0.0Across1-\n",
    "#- this means that the expression limit required in the intermediate file is >0. This is the most “general” file. Others can request an expression of 3 or 10\n",
    "#And at best try loading all the “parts.csv” in a single table as in:\n",
    "#Check difference between merge and concatenate in pandas. Here what we want to do is concatenate. \n",
    "#Because the part dataframe are the same columns, different kmers, which need to be put “on top of each other\n",
    "#You can do a concatenation “on the fly” with the code I gave you:\n",
    "\n",
    "#Code:\n",
    "\n",
    "'''\n",
    "Code 1 \n",
    "all_files  = [ ]\n",
    "for file in ..\n",
    "df = read_csv(..)\n",
    "all_files.append(df)\n",
    "\n",
    "\n",
    "\n",
    "Code 2\n",
    "path = f\"{home}/Documents/code/coiled/coiled-datasets/data/fish/\"\n",
    "all_files = glob.glob(path + \"/**/*.csv\")\n",
    "all_files_df = []\n",
    "for f in all_files:\n",
    "    all_files_df.append(pd.read_csv(f))\n",
    "df = pd.concat(all_files_df)\n",
    "\n",
    "#Fills all_files_df = [] with panda dataframes so that you have a list of panda dataframes ->  \n",
    "that are later concatenated.\n",
    "\n",
    "#home in this case is a variable\n",
    "like\n",
    "home=‘any_path_thatyou_want’\n",
    "and f”{home}/additional_stuff”\n",
    "gives\n",
    "‘any_path_thatyou_want/additional_stuff’\n",
    "\n",
    "\n",
    "\n",
    "\n",
    "\n",
    "You need to replace it accordingly yes\n",
    "\n",
    "Please read about glob.glob function\n",
    "\n",
    "glob.glob works with * in paths (wildcards)\n",
    "\n",
    "\n",
    "Code 3(more advanced)\n",
    "path = f\"{home}/Documents/code/coiled/coiled-datasets/data/fish/\"\n",
    "all_files = glob.glob(path + \"/**/*.csv\")\n",
    "df = pd.concat((pd.read_csv(f) for f in all_files))\n",
    "\n",
    "#The (pd.read_csv(f) for f in all_files) , \n",
    "is called a list comprehension  this is the same as having the for loop, but “horizontal”\n",
    "'''\n",
    "\n",
    "\n",
    "#Concat reccurence data for normals:\n",
    "\n",
    "all_files = glob.glob('/cluster/work/grlab/projects/projects2020_OHSU/peptides_generation/v2_v2.5f0752a_conf2_annotFrame_cap0_runs_pya0.17.1/filtered_backgrounds/commit_d4aee54_GTEXcore/interm_normals_combiExprCohortLim0.0Across1.tsv/part*')\n",
    "all_files_df = []\n",
    "for f in all_files:\n",
    "    all_files_df.append(pd.read_csv(f,names=['All generated normal k-mers', 'Recurrence of k-mers across normal cohort'],delimiter='\\t'))\n",
    "df_A = pd.concat(all_files_df, axis = 0 ) #It tells which direction to take for concatenating                      "
   ]
  },
  {
   "cell_type": "code",
   "execution_count": 22,
   "id": "14b0e765",
   "metadata": {},
   "outputs": [
    {
     "data": {
      "text/html": [
       "<div>\n",
       "<style scoped>\n",
       "    .dataframe tbody tr th:only-of-type {\n",
       "        vertical-align: middle;\n",
       "    }\n",
       "\n",
       "    .dataframe tbody tr th {\n",
       "        vertical-align: top;\n",
       "    }\n",
       "\n",
       "    .dataframe thead th {\n",
       "        text-align: right;\n",
       "    }\n",
       "</style>\n",
       "<table border=\"1\" class=\"dataframe\">\n",
       "  <thead>\n",
       "    <tr style=\"text-align: right;\">\n",
       "      <th></th>\n",
       "      <th>All generated normal k-mers</th>\n",
       "      <th>Recurrence of k-mers across normal cohort</th>\n",
       "    </tr>\n",
       "  </thead>\n",
       "  <tbody>\n",
       "    <tr>\n",
       "      <th>0</th>\n",
       "      <td>AAAAAAAEV</td>\n",
       "      <td>7833</td>\n",
       "    </tr>\n",
       "    <tr>\n",
       "      <th>1</th>\n",
       "      <td>AAAAAAALV</td>\n",
       "      <td>7188</td>\n",
       "    </tr>\n",
       "    <tr>\n",
       "      <th>2</th>\n",
       "      <td>AAAAAAAQG</td>\n",
       "      <td>7871</td>\n",
       "    </tr>\n",
       "    <tr>\n",
       "      <th>3</th>\n",
       "      <td>AAAAAATVM</td>\n",
       "      <td>7835</td>\n",
       "    </tr>\n",
       "    <tr>\n",
       "      <th>4</th>\n",
       "      <td>AAAAAEEPL</td>\n",
       "      <td>3439</td>\n",
       "    </tr>\n",
       "    <tr>\n",
       "      <th>...</th>\n",
       "      <td>...</td>\n",
       "      <td>...</td>\n",
       "    </tr>\n",
       "    <tr>\n",
       "      <th>374070</th>\n",
       "      <td>YYYIHHGID</td>\n",
       "      <td>3403</td>\n",
       "    </tr>\n",
       "    <tr>\n",
       "      <th>374071</th>\n",
       "      <td>YYYKLKNNT</td>\n",
       "      <td>7664</td>\n",
       "    </tr>\n",
       "    <tr>\n",
       "      <th>374072</th>\n",
       "      <td>YYYMGVDAV</td>\n",
       "      <td>5269</td>\n",
       "    </tr>\n",
       "    <tr>\n",
       "      <th>374073</th>\n",
       "      <td>YYYRPARQV</td>\n",
       "      <td>128</td>\n",
       "    </tr>\n",
       "    <tr>\n",
       "      <th>374074</th>\n",
       "      <td>YYYYLFHWY</td>\n",
       "      <td>41</td>\n",
       "    </tr>\n",
       "  </tbody>\n",
       "</table>\n",
       "<p>37467858 rows × 2 columns</p>\n",
       "</div>"
      ],
      "text/plain": [
       "       All generated normal k-mers  Recurrence of k-mers across normal cohort\n",
       "0                        AAAAAAAEV                                       7833\n",
       "1                        AAAAAAALV                                       7188\n",
       "2                        AAAAAAAQG                                       7871\n",
       "3                        AAAAAATVM                                       7835\n",
       "4                        AAAAAEEPL                                       3439\n",
       "...                            ...                                        ...\n",
       "374070                   YYYIHHGID                                       3403\n",
       "374071                   YYYKLKNNT                                       7664\n",
       "374072                   YYYMGVDAV                                       5269\n",
       "374073                   YYYRPARQV                                        128\n",
       "374074                   YYYYLFHWY                                         41\n",
       "\n",
       "[37467858 rows x 2 columns]"
      ]
     },
     "execution_count": 22,
     "metadata": {},
     "output_type": "execute_result"
    }
   ],
   "source": [
    "df_A"
   ]
  },
  {
   "cell_type": "code",
   "execution_count": 23,
   "id": "68263b97",
   "metadata": {},
   "outputs": [
    {
     "data": {
      "text/html": [
       "<div>\n",
       "<style scoped>\n",
       "    .dataframe tbody tr th:only-of-type {\n",
       "        vertical-align: middle;\n",
       "    }\n",
       "\n",
       "    .dataframe tbody tr th {\n",
       "        vertical-align: top;\n",
       "    }\n",
       "\n",
       "    .dataframe thead th {\n",
       "        text-align: right;\n",
       "    }\n",
       "</style>\n",
       "<table border=\"1\" class=\"dataframe\">\n",
       "  <thead>\n",
       "    <tr style=\"text-align: right;\">\n",
       "      <th></th>\n",
       "      <th>All generated normal k-mers</th>\n",
       "      <th>Expression</th>\n",
       "      <th>kmer_IL_eq</th>\n",
       "    </tr>\n",
       "  </thead>\n",
       "  <tbody>\n",
       "    <tr>\n",
       "      <th>0</th>\n",
       "      <td>AAGDDENHN</td>\n",
       "      <td>531.0</td>\n",
       "      <td>AAGDDENHN</td>\n",
       "    </tr>\n",
       "    <tr>\n",
       "      <th>1</th>\n",
       "      <td>AAMGIKSCA</td>\n",
       "      <td>3324.0</td>\n",
       "      <td>AAMGLKSCA</td>\n",
       "    </tr>\n",
       "    <tr>\n",
       "      <th>2</th>\n",
       "      <td>AAPGQHLQA</td>\n",
       "      <td>38.0</td>\n",
       "      <td>AAPGQHLQA</td>\n",
       "    </tr>\n",
       "    <tr>\n",
       "      <th>3</th>\n",
       "      <td>AGNIWILSV</td>\n",
       "      <td>25.0</td>\n",
       "      <td>AGNLWLLSV</td>\n",
       "    </tr>\n",
       "    <tr>\n",
       "      <th>4</th>\n",
       "      <td>AGPDWIIAI</td>\n",
       "      <td>29.0</td>\n",
       "      <td>AGPDWLLAL</td>\n",
       "    </tr>\n",
       "  </tbody>\n",
       "</table>\n",
       "</div>"
      ],
      "text/plain": [
       "  All generated normal k-mers Expression kmer_IL_eq\n",
       "0                   AAGDDENHN      531.0  AAGDDENHN\n",
       "1                   AAMGIKSCA     3324.0  AAMGLKSCA\n",
       "2                   AAPGQHLQA       38.0  AAPGQHLQA\n",
       "3                   AGNIWILSV       25.0  AGNLWLLSV\n",
       "4                   AGPDWIIAI       29.0  AGPDWLLAL"
      ]
     },
     "execution_count": 23,
     "metadata": {},
     "output_type": "execute_result"
    }
   ],
   "source": [
    "fname = '/cluster/work/grlab/projects/projects2020_OHSU/peptides_generation/v2_v2.5f0752a_conf2_annotFrame_cap0_runs_pya0.17.1/TCGA_Breast_1102/filter_TCGA-A2-A0D2-01A-21R-A034-07.all/commit_d4aee54_GTEXcore/G_TCGA-A2-A0D2-01A-21R-A034-07.all_ref_SampleLim0.0CohortLim0.0Across10_FiltNormalsGtexcoreCohortlim3.0Across10_FiltUniprot.tsv/part-00000-ff44ef83-8d6d-4992-8585-46eac2dae2dd-c000.csv'\n",
    "df_B = pd.read_csv(fname,sep='\\t',names=['All generated normal k-mers', 'Expression', 'kmer_IL_eq'])\n",
    "df_B = df_B.loc[1:].reset_index().drop('index', axis = 1)\n",
    "df_B.head()"
   ]
  },
  {
   "cell_type": "code",
   "execution_count": 24,
   "id": "47292e2b",
   "metadata": {},
   "outputs": [
    {
     "data": {
      "text/plain": [
       "All generated normal k-mers    object\n",
       "Expression                     object\n",
       "kmer_IL_eq                     object\n",
       "dtype: object"
      ]
     },
     "execution_count": 24,
     "metadata": {},
     "output_type": "execute_result"
    }
   ],
   "source": [
    "df_B.dtypes"
   ]
  },
  {
   "cell_type": "code",
   "execution_count": 25,
   "id": "08dc3371",
   "metadata": {},
   "outputs": [],
   "source": [
    "df_B['Expression'] = df_B['Expression'].astype(float)"
   ]
  },
  {
   "cell_type": "code",
   "execution_count": 26,
   "id": "cda1a4aa",
   "metadata": {},
   "outputs": [],
   "source": [
    "df = pd.merge(df_A, df_B,  how='inner', on=['All generated normal k-mers'])\n"
   ]
  },
  {
   "cell_type": "code",
   "execution_count": 59,
   "id": "cdf457d3",
   "metadata": {},
   "outputs": [
    {
     "ename": "KeyError",
     "evalue": "'Expression'",
     "output_type": "error",
     "traceback": [
      "\u001b[0;31m---------------------------------------------------------------------------\u001b[0m",
      "\u001b[0;31mKeyError\u001b[0m                                  Traceback (most recent call last)",
      "File \u001b[0;32m~/miniconda3/envs/pep/lib/python3.9/site-packages/pandas/core/indexes/base.py:3621\u001b[0m, in \u001b[0;36mIndex.get_loc\u001b[0;34m(self, key, method, tolerance)\u001b[0m\n\u001b[1;32m   3620\u001b[0m \u001b[38;5;28;01mtry\u001b[39;00m:\n\u001b[0;32m-> 3621\u001b[0m     \u001b[38;5;28;01mreturn\u001b[39;00m \u001b[38;5;28;43mself\u001b[39;49m\u001b[38;5;241;43m.\u001b[39;49m\u001b[43m_engine\u001b[49m\u001b[38;5;241;43m.\u001b[39;49m\u001b[43mget_loc\u001b[49m\u001b[43m(\u001b[49m\u001b[43mcasted_key\u001b[49m\u001b[43m)\u001b[49m\n\u001b[1;32m   3622\u001b[0m \u001b[38;5;28;01mexcept\u001b[39;00m \u001b[38;5;167;01mKeyError\u001b[39;00m \u001b[38;5;28;01mas\u001b[39;00m err:\n",
      "File \u001b[0;32m~/miniconda3/envs/pep/lib/python3.9/site-packages/pandas/_libs/index.pyx:136\u001b[0m, in \u001b[0;36mpandas._libs.index.IndexEngine.get_loc\u001b[0;34m()\u001b[0m\n",
      "File \u001b[0;32m~/miniconda3/envs/pep/lib/python3.9/site-packages/pandas/_libs/index.pyx:163\u001b[0m, in \u001b[0;36mpandas._libs.index.IndexEngine.get_loc\u001b[0;34m()\u001b[0m\n",
      "File \u001b[0;32mpandas/_libs/hashtable_class_helper.pxi:5198\u001b[0m, in \u001b[0;36mpandas._libs.hashtable.PyObjectHashTable.get_item\u001b[0;34m()\u001b[0m\n",
      "File \u001b[0;32mpandas/_libs/hashtable_class_helper.pxi:5206\u001b[0m, in \u001b[0;36mpandas._libs.hashtable.PyObjectHashTable.get_item\u001b[0;34m()\u001b[0m\n",
      "\u001b[0;31mKeyError\u001b[0m: 'Expression'",
      "\nThe above exception was the direct cause of the following exception:\n",
      "\u001b[0;31mKeyError\u001b[0m                                  Traceback (most recent call last)",
      "Input \u001b[0;32mIn [59]\u001b[0m, in \u001b[0;36m<cell line: 7>\u001b[0;34m()\u001b[0m\n\u001b[1;32m      4\u001b[0m \u001b[38;5;66;03m#plt.figure(figsize=(10,5))\u001b[39;00m\n\u001b[1;32m      5\u001b[0m \u001b[38;5;66;03m#df = df.loc[df['Expression'] <= number, :]\u001b[39;00m\n\u001b[1;32m      6\u001b[0m plt\u001b[38;5;241m.\u001b[39mrcParams[\u001b[38;5;124m\"\u001b[39m\u001b[38;5;124mfigure.figsize\u001b[39m\u001b[38;5;124m\"\u001b[39m] \u001b[38;5;241m=\u001b[39m (\u001b[38;5;241m10\u001b[39m, \u001b[38;5;241m10\u001b[39m)\n\u001b[0;32m----> 7\u001b[0m \u001b[43mdf\u001b[49m\u001b[38;5;241;43m.\u001b[39;49m\u001b[43mplot\u001b[49m\u001b[38;5;241;43m.\u001b[39;49m\u001b[43mscatter\u001b[49m\u001b[43m(\u001b[49m\u001b[43mx\u001b[49m\u001b[38;5;241;43m=\u001b[39;49m\u001b[38;5;124;43m'\u001b[39;49m\u001b[38;5;124;43mExpression\u001b[39;49m\u001b[38;5;124;43m'\u001b[39;49m\u001b[43m,\u001b[49m\u001b[43my\u001b[49m\u001b[38;5;241;43m=\u001b[39;49m\u001b[38;5;124;43m'\u001b[39;49m\u001b[38;5;124;43mRecurrence of k-mers across normal cohort\u001b[39;49m\u001b[38;5;124;43m'\u001b[39;49m\u001b[43m,\u001b[49m\u001b[43m \u001b[49m\u001b[43ms\u001b[49m\u001b[43m \u001b[49m\u001b[38;5;241;43m=\u001b[39;49m\u001b[43m \u001b[49m\u001b[38;5;241;43m100\u001b[39;49m\u001b[43m,\u001b[49m\u001b[43m \u001b[49m\u001b[43mc\u001b[49m\u001b[43m \u001b[49m\u001b[38;5;241;43m=\u001b[39;49m\u001b[43m \u001b[49m\u001b[38;5;124;43m'\u001b[39;49m\u001b[38;5;124;43mgreen\u001b[39;49m\u001b[38;5;124;43m'\u001b[39;49m\u001b[43m)\u001b[49m\n",
      "File \u001b[0;32m~/miniconda3/envs/pep/lib/python3.9/site-packages/pandas/plotting/_core.py:1669\u001b[0m, in \u001b[0;36mPlotAccessor.scatter\u001b[0;34m(self, x, y, s, c, **kwargs)\u001b[0m\n\u001b[1;32m   1586\u001b[0m \u001b[38;5;28;01mdef\u001b[39;00m \u001b[38;5;21mscatter\u001b[39m(\u001b[38;5;28mself\u001b[39m, x, y, s\u001b[38;5;241m=\u001b[39m\u001b[38;5;28;01mNone\u001b[39;00m, c\u001b[38;5;241m=\u001b[39m\u001b[38;5;28;01mNone\u001b[39;00m, \u001b[38;5;241m*\u001b[39m\u001b[38;5;241m*\u001b[39mkwargs):\n\u001b[1;32m   1587\u001b[0m     \u001b[38;5;124;03m\"\"\"\u001b[39;00m\n\u001b[1;32m   1588\u001b[0m \u001b[38;5;124;03m    Create a scatter plot with varying marker point size and color.\u001b[39;00m\n\u001b[1;32m   1589\u001b[0m \n\u001b[0;32m   (...)\u001b[0m\n\u001b[1;32m   1667\u001b[0m \u001b[38;5;124;03m        ...                       colormap='viridis')\u001b[39;00m\n\u001b[1;32m   1668\u001b[0m \u001b[38;5;124;03m    \"\"\"\u001b[39;00m\n\u001b[0;32m-> 1669\u001b[0m     \u001b[38;5;28;01mreturn\u001b[39;00m \u001b[38;5;28;43mself\u001b[39;49m\u001b[43m(\u001b[49m\u001b[43mkind\u001b[49m\u001b[38;5;241;43m=\u001b[39;49m\u001b[38;5;124;43m\"\u001b[39;49m\u001b[38;5;124;43mscatter\u001b[39;49m\u001b[38;5;124;43m\"\u001b[39;49m\u001b[43m,\u001b[49m\u001b[43m \u001b[49m\u001b[43mx\u001b[49m\u001b[38;5;241;43m=\u001b[39;49m\u001b[43mx\u001b[49m\u001b[43m,\u001b[49m\u001b[43m \u001b[49m\u001b[43my\u001b[49m\u001b[38;5;241;43m=\u001b[39;49m\u001b[43my\u001b[49m\u001b[43m,\u001b[49m\u001b[43m \u001b[49m\u001b[43ms\u001b[49m\u001b[38;5;241;43m=\u001b[39;49m\u001b[43ms\u001b[49m\u001b[43m,\u001b[49m\u001b[43m \u001b[49m\u001b[43mc\u001b[49m\u001b[38;5;241;43m=\u001b[39;49m\u001b[43mc\u001b[49m\u001b[43m,\u001b[49m\u001b[43m \u001b[49m\u001b[38;5;241;43m*\u001b[39;49m\u001b[38;5;241;43m*\u001b[39;49m\u001b[43mkwargs\u001b[49m\u001b[43m)\u001b[49m\n",
      "File \u001b[0;32m~/miniconda3/envs/pep/lib/python3.9/site-packages/pandas/plotting/_core.py:917\u001b[0m, in \u001b[0;36mPlotAccessor.__call__\u001b[0;34m(self, *args, **kwargs)\u001b[0m\n\u001b[1;32m    915\u001b[0m \u001b[38;5;28;01mif\u001b[39;00m kind \u001b[38;5;129;01min\u001b[39;00m \u001b[38;5;28mself\u001b[39m\u001b[38;5;241m.\u001b[39m_dataframe_kinds:\n\u001b[1;32m    916\u001b[0m     \u001b[38;5;28;01mif\u001b[39;00m \u001b[38;5;28misinstance\u001b[39m(data, ABCDataFrame):\n\u001b[0;32m--> 917\u001b[0m         \u001b[38;5;28;01mreturn\u001b[39;00m \u001b[43mplot_backend\u001b[49m\u001b[38;5;241;43m.\u001b[39;49m\u001b[43mplot\u001b[49m\u001b[43m(\u001b[49m\u001b[43mdata\u001b[49m\u001b[43m,\u001b[49m\u001b[43m \u001b[49m\u001b[43mx\u001b[49m\u001b[38;5;241;43m=\u001b[39;49m\u001b[43mx\u001b[49m\u001b[43m,\u001b[49m\u001b[43m \u001b[49m\u001b[43my\u001b[49m\u001b[38;5;241;43m=\u001b[39;49m\u001b[43my\u001b[49m\u001b[43m,\u001b[49m\u001b[43m \u001b[49m\u001b[43mkind\u001b[49m\u001b[38;5;241;43m=\u001b[39;49m\u001b[43mkind\u001b[49m\u001b[43m,\u001b[49m\u001b[43m \u001b[49m\u001b[38;5;241;43m*\u001b[39;49m\u001b[38;5;241;43m*\u001b[39;49m\u001b[43mkwargs\u001b[49m\u001b[43m)\u001b[49m\n\u001b[1;32m    918\u001b[0m     \u001b[38;5;28;01melse\u001b[39;00m:\n\u001b[1;32m    919\u001b[0m         \u001b[38;5;28;01mraise\u001b[39;00m \u001b[38;5;167;01mValueError\u001b[39;00m(\u001b[38;5;124mf\u001b[39m\u001b[38;5;124m\"\u001b[39m\u001b[38;5;124mplot kind \u001b[39m\u001b[38;5;132;01m{\u001b[39;00mkind\u001b[38;5;132;01m}\u001b[39;00m\u001b[38;5;124m can only be used for data frames\u001b[39m\u001b[38;5;124m\"\u001b[39m)\n",
      "File \u001b[0;32m~/miniconda3/envs/pep/lib/python3.9/site-packages/pandas/plotting/_matplotlib/__init__.py:71\u001b[0m, in \u001b[0;36mplot\u001b[0;34m(data, kind, **kwargs)\u001b[0m\n\u001b[1;32m     69\u001b[0m         kwargs[\u001b[38;5;124m\"\u001b[39m\u001b[38;5;124max\u001b[39m\u001b[38;5;124m\"\u001b[39m] \u001b[38;5;241m=\u001b[39m \u001b[38;5;28mgetattr\u001b[39m(ax, \u001b[38;5;124m\"\u001b[39m\u001b[38;5;124mleft_ax\u001b[39m\u001b[38;5;124m\"\u001b[39m, ax)\n\u001b[1;32m     70\u001b[0m plot_obj \u001b[38;5;241m=\u001b[39m PLOT_CLASSES[kind](data, \u001b[38;5;241m*\u001b[39m\u001b[38;5;241m*\u001b[39mkwargs)\n\u001b[0;32m---> 71\u001b[0m \u001b[43mplot_obj\u001b[49m\u001b[38;5;241;43m.\u001b[39;49m\u001b[43mgenerate\u001b[49m\u001b[43m(\u001b[49m\u001b[43m)\u001b[49m\n\u001b[1;32m     72\u001b[0m plot_obj\u001b[38;5;241m.\u001b[39mdraw()\n\u001b[1;32m     73\u001b[0m \u001b[38;5;28;01mreturn\u001b[39;00m plot_obj\u001b[38;5;241m.\u001b[39mresult\n",
      "File \u001b[0;32m~/miniconda3/envs/pep/lib/python3.9/site-packages/pandas/plotting/_matplotlib/core.py:329\u001b[0m, in \u001b[0;36mMPLPlot.generate\u001b[0;34m(self)\u001b[0m\n\u001b[1;32m    327\u001b[0m \u001b[38;5;28mself\u001b[39m\u001b[38;5;241m.\u001b[39m_compute_plot_data()\n\u001b[1;32m    328\u001b[0m \u001b[38;5;28mself\u001b[39m\u001b[38;5;241m.\u001b[39m_setup_subplots()\n\u001b[0;32m--> 329\u001b[0m \u001b[38;5;28;43mself\u001b[39;49m\u001b[38;5;241;43m.\u001b[39;49m\u001b[43m_make_plot\u001b[49m\u001b[43m(\u001b[49m\u001b[43m)\u001b[49m\n\u001b[1;32m    330\u001b[0m \u001b[38;5;28mself\u001b[39m\u001b[38;5;241m.\u001b[39m_add_table()\n\u001b[1;32m    331\u001b[0m \u001b[38;5;28mself\u001b[39m\u001b[38;5;241m.\u001b[39m_make_legend()\n",
      "File \u001b[0;32m~/miniconda3/envs/pep/lib/python3.9/site-packages/pandas/plotting/_matplotlib/core.py:1115\u001b[0m, in \u001b[0;36mScatterPlot._make_plot\u001b[0;34m(self)\u001b[0m\n\u001b[1;32m   1112\u001b[0m \u001b[38;5;28;01melse\u001b[39;00m:\n\u001b[1;32m   1113\u001b[0m     label \u001b[38;5;241m=\u001b[39m \u001b[38;5;28;01mNone\u001b[39;00m\n\u001b[1;32m   1114\u001b[0m scatter \u001b[38;5;241m=\u001b[39m ax\u001b[38;5;241m.\u001b[39mscatter(\n\u001b[0;32m-> 1115\u001b[0m     \u001b[43mdata\u001b[49m\u001b[43m[\u001b[49m\u001b[43mx\u001b[49m\u001b[43m]\u001b[49m\u001b[38;5;241m.\u001b[39mvalues,\n\u001b[1;32m   1116\u001b[0m     data[y]\u001b[38;5;241m.\u001b[39mvalues,\n\u001b[1;32m   1117\u001b[0m     c\u001b[38;5;241m=\u001b[39mc_values,\n\u001b[1;32m   1118\u001b[0m     label\u001b[38;5;241m=\u001b[39mlabel,\n\u001b[1;32m   1119\u001b[0m     cmap\u001b[38;5;241m=\u001b[39mcmap,\n\u001b[1;32m   1120\u001b[0m     norm\u001b[38;5;241m=\u001b[39mnorm,\n\u001b[1;32m   1121\u001b[0m     \u001b[38;5;241m*\u001b[39m\u001b[38;5;241m*\u001b[39m\u001b[38;5;28mself\u001b[39m\u001b[38;5;241m.\u001b[39mkwds,\n\u001b[1;32m   1122\u001b[0m )\n\u001b[1;32m   1123\u001b[0m \u001b[38;5;28;01mif\u001b[39;00m cb:\n\u001b[1;32m   1124\u001b[0m     cbar_label \u001b[38;5;241m=\u001b[39m c \u001b[38;5;28;01mif\u001b[39;00m c_is_column \u001b[38;5;28;01melse\u001b[39;00m \u001b[38;5;124m\"\u001b[39m\u001b[38;5;124m\"\u001b[39m\n",
      "File \u001b[0;32m~/miniconda3/envs/pep/lib/python3.9/site-packages/pandas/core/frame.py:3505\u001b[0m, in \u001b[0;36mDataFrame.__getitem__\u001b[0;34m(self, key)\u001b[0m\n\u001b[1;32m   3503\u001b[0m \u001b[38;5;28;01mif\u001b[39;00m \u001b[38;5;28mself\u001b[39m\u001b[38;5;241m.\u001b[39mcolumns\u001b[38;5;241m.\u001b[39mnlevels \u001b[38;5;241m>\u001b[39m \u001b[38;5;241m1\u001b[39m:\n\u001b[1;32m   3504\u001b[0m     \u001b[38;5;28;01mreturn\u001b[39;00m \u001b[38;5;28mself\u001b[39m\u001b[38;5;241m.\u001b[39m_getitem_multilevel(key)\n\u001b[0;32m-> 3505\u001b[0m indexer \u001b[38;5;241m=\u001b[39m \u001b[38;5;28;43mself\u001b[39;49m\u001b[38;5;241;43m.\u001b[39;49m\u001b[43mcolumns\u001b[49m\u001b[38;5;241;43m.\u001b[39;49m\u001b[43mget_loc\u001b[49m\u001b[43m(\u001b[49m\u001b[43mkey\u001b[49m\u001b[43m)\u001b[49m\n\u001b[1;32m   3506\u001b[0m \u001b[38;5;28;01mif\u001b[39;00m is_integer(indexer):\n\u001b[1;32m   3507\u001b[0m     indexer \u001b[38;5;241m=\u001b[39m [indexer]\n",
      "File \u001b[0;32m~/miniconda3/envs/pep/lib/python3.9/site-packages/pandas/core/indexes/base.py:3623\u001b[0m, in \u001b[0;36mIndex.get_loc\u001b[0;34m(self, key, method, tolerance)\u001b[0m\n\u001b[1;32m   3621\u001b[0m     \u001b[38;5;28;01mreturn\u001b[39;00m \u001b[38;5;28mself\u001b[39m\u001b[38;5;241m.\u001b[39m_engine\u001b[38;5;241m.\u001b[39mget_loc(casted_key)\n\u001b[1;32m   3622\u001b[0m \u001b[38;5;28;01mexcept\u001b[39;00m \u001b[38;5;167;01mKeyError\u001b[39;00m \u001b[38;5;28;01mas\u001b[39;00m err:\n\u001b[0;32m-> 3623\u001b[0m     \u001b[38;5;28;01mraise\u001b[39;00m \u001b[38;5;167;01mKeyError\u001b[39;00m(key) \u001b[38;5;28;01mfrom\u001b[39;00m \u001b[38;5;21;01merr\u001b[39;00m\n\u001b[1;32m   3624\u001b[0m \u001b[38;5;28;01mexcept\u001b[39;00m \u001b[38;5;167;01mTypeError\u001b[39;00m:\n\u001b[1;32m   3625\u001b[0m     \u001b[38;5;66;03m# If we have a listlike key, _check_indexing_error will raise\u001b[39;00m\n\u001b[1;32m   3626\u001b[0m     \u001b[38;5;66;03m#  InvalidIndexError. Otherwise we fall through and re-raise\u001b[39;00m\n\u001b[1;32m   3627\u001b[0m     \u001b[38;5;66;03m#  the TypeError.\u001b[39;00m\n\u001b[1;32m   3628\u001b[0m     \u001b[38;5;28mself\u001b[39m\u001b[38;5;241m.\u001b[39m_check_indexing_error(key)\n",
      "\u001b[0;31mKeyError\u001b[0m: 'Expression'"
     ]
    },
    {
     "data": {
      "image/png": "[encoded data removed]",
      "text/plain": [
       "<Figure size 720x720 with 1 Axes>"
      ]
     },
     "metadata": {
      "needs_background": "light"
     },
     "output_type": "display_data"
    }
   ],
   "source": [
    "#Building scatter plot for normals:\n",
    "\n",
    "import matplotlib.pyplot as plt\n",
    "#plt.figure(figsize=(10,5))\n",
    "#df = df.loc[df['Expression'] <= number, :]\n",
    "plt.rcParams[\"figure.figsize\"] = (10, 10)\n",
    "#pandas method. tru  to use all matplotlib for plots:\n",
    "df.plot.scatter(x='Expression',y='Recurrence of k-mers across normal cohort', s = 100, c = 'green')\n",
    "#fontsize for writing axis legends bigger"
   ]
  },
  {
   "cell_type": "code",
   "execution_count": 28,
   "id": "bf12ec91",
   "metadata": {},
   "outputs": [],
   "source": [
    "#Concat reccurence data for cancer samples:\n",
    "all_files = glob.glob('/cluster/work/grlab/projects/projects2020_OHSU/peptides_generation/v2_v2.5f0752a_conf2_annotFrame_cap0_runs_pya0.17.1/TCGA_Breast_1102/filter_TCGA-A2-A0D2-01A-21R-A034-07.all/commit_d4aee54_a_interm_cancer/interm_cancer_ref_combiExprCohortLim0.0Across1ExceptTCGAA2A0D201A21RA03407all.tsv/part*')\n",
    "all_files_df = []\n",
    "for f in all_files:\n",
    "    all_files_df.append(pd.read_csv(f,names=['All generated cancer k-mers', 'Recurrence of k-mers across cancer cohort'],delimiter='\\t'))\n",
    "df_A = pd.concat(all_files_df, axis = 0 ) "
   ]
  },
  {
   "cell_type": "code",
   "execution_count": 29,
   "id": "5cb7471c",
   "metadata": {},
   "outputs": [
    {
     "data": {
      "text/html": [
       "<div>\n",
       "<style scoped>\n",
       "    .dataframe tbody tr th:only-of-type {\n",
       "        vertical-align: middle;\n",
       "    }\n",
       "\n",
       "    .dataframe tbody tr th {\n",
       "        vertical-align: top;\n",
       "    }\n",
       "\n",
       "    .dataframe thead th {\n",
       "        text-align: right;\n",
       "    }\n",
       "</style>\n",
       "<table border=\"1\" class=\"dataframe\">\n",
       "  <thead>\n",
       "    <tr style=\"text-align: right;\">\n",
       "      <th></th>\n",
       "      <th>All generated cancer k-mers</th>\n",
       "      <th>Recurrence of k-mers across cancer cohort</th>\n",
       "    </tr>\n",
       "  </thead>\n",
       "  <tbody>\n",
       "    <tr>\n",
       "      <th>0</th>\n",
       "      <td>TCPSSQEPA</td>\n",
       "      <td>1</td>\n",
       "    </tr>\n",
       "    <tr>\n",
       "      <th>1</th>\n",
       "      <td>ATSLAAVVT</td>\n",
       "      <td>8</td>\n",
       "    </tr>\n",
       "    <tr>\n",
       "      <th>2</th>\n",
       "      <td>ALAGGCECD</td>\n",
       "      <td>18</td>\n",
       "    </tr>\n",
       "    <tr>\n",
       "      <th>3</th>\n",
       "      <td>AGGCECDNA</td>\n",
       "      <td>18</td>\n",
       "    </tr>\n",
       "    <tr>\n",
       "      <th>4</th>\n",
       "      <td>PDDFKGYGE</td>\n",
       "      <td>17</td>\n",
       "    </tr>\n",
       "    <tr>\n",
       "      <th>...</th>\n",
       "      <td>...</td>\n",
       "      <td>...</td>\n",
       "    </tr>\n",
       "    <tr>\n",
       "      <th>51694</th>\n",
       "      <td>EVKDEKDDM</td>\n",
       "      <td>1101</td>\n",
       "    </tr>\n",
       "    <tr>\n",
       "      <th>51695</th>\n",
       "      <td>RVRHIEHNE</td>\n",
       "      <td>1</td>\n",
       "    </tr>\n",
       "    <tr>\n",
       "      <th>51696</th>\n",
       "      <td>PAVREKARS</td>\n",
       "      <td>104</td>\n",
       "    </tr>\n",
       "    <tr>\n",
       "      <th>51697</th>\n",
       "      <td>ETHFRVAVS</td>\n",
       "      <td>65</td>\n",
       "    </tr>\n",
       "    <tr>\n",
       "      <th>51698</th>\n",
       "      <td>VPGHGGIIN</td>\n",
       "      <td>32</td>\n",
       "    </tr>\n",
       "  </tbody>\n",
       "</table>\n",
       "<p>5161362 rows × 2 columns</p>\n",
       "</div>"
      ],
      "text/plain": [
       "      All generated cancer k-mers  Recurrence of k-mers across cancer cohort\n",
       "0                       TCPSSQEPA                                          1\n",
       "1                       ATSLAAVVT                                          8\n",
       "2                       ALAGGCECD                                         18\n",
       "3                       AGGCECDNA                                         18\n",
       "4                       PDDFKGYGE                                         17\n",
       "...                           ...                                        ...\n",
       "51694                   EVKDEKDDM                                       1101\n",
       "51695                   RVRHIEHNE                                          1\n",
       "51696                   PAVREKARS                                        104\n",
       "51697                   ETHFRVAVS                                         65\n",
       "51698                   VPGHGGIIN                                         32\n",
       "\n",
       "[5161362 rows x 2 columns]"
      ]
     },
     "execution_count": 29,
     "metadata": {},
     "output_type": "execute_result"
    }
   ],
   "source": [
    "df_A"
   ]
  },
  {
   "cell_type": "code",
   "execution_count": 30,
   "id": "0102031f",
   "metadata": {
    "scrolled": false
   },
   "outputs": [
    {
     "data": {
      "text/html": [
       "<div>\n",
       "<style scoped>\n",
       "    .dataframe tbody tr th:only-of-type {\n",
       "        vertical-align: middle;\n",
       "    }\n",
       "\n",
       "    .dataframe tbody tr th {\n",
       "        vertical-align: top;\n",
       "    }\n",
       "\n",
       "    .dataframe thead th {\n",
       "        text-align: right;\n",
       "    }\n",
       "</style>\n",
       "<table border=\"1\" class=\"dataframe\">\n",
       "  <thead>\n",
       "    <tr style=\"text-align: right;\">\n",
       "      <th></th>\n",
       "      <th>All generated cancer k-mers</th>\n",
       "      <th>Expression</th>\n",
       "      <th>kmer_IL_eq</th>\n",
       "    </tr>\n",
       "  </thead>\n",
       "  <tbody>\n",
       "    <tr>\n",
       "      <th>0</th>\n",
       "      <td>AAGDDENHN</td>\n",
       "      <td>531.0</td>\n",
       "      <td>AAGDDENHN</td>\n",
       "    </tr>\n",
       "    <tr>\n",
       "      <th>1</th>\n",
       "      <td>AAMGIKSCA</td>\n",
       "      <td>3324.0</td>\n",
       "      <td>AAMGLKSCA</td>\n",
       "    </tr>\n",
       "    <tr>\n",
       "      <th>2</th>\n",
       "      <td>AAPGQHLQA</td>\n",
       "      <td>38.0</td>\n",
       "      <td>AAPGQHLQA</td>\n",
       "    </tr>\n",
       "    <tr>\n",
       "      <th>3</th>\n",
       "      <td>AGNIWILSV</td>\n",
       "      <td>25.0</td>\n",
       "      <td>AGNLWLLSV</td>\n",
       "    </tr>\n",
       "    <tr>\n",
       "      <th>4</th>\n",
       "      <td>AGPDWIIAI</td>\n",
       "      <td>29.0</td>\n",
       "      <td>AGPDWLLAL</td>\n",
       "    </tr>\n",
       "  </tbody>\n",
       "</table>\n",
       "</div>"
      ],
      "text/plain": [
       "  All generated cancer k-mers Expression kmer_IL_eq\n",
       "0                   AAGDDENHN      531.0  AAGDDENHN\n",
       "1                   AAMGIKSCA     3324.0  AAMGLKSCA\n",
       "2                   AAPGQHLQA       38.0  AAPGQHLQA\n",
       "3                   AGNIWILSV       25.0  AGNLWLLSV\n",
       "4                   AGPDWIIAI       29.0  AGPDWLLAL"
      ]
     },
     "execution_count": 30,
     "metadata": {},
     "output_type": "execute_result"
    }
   ],
   "source": [
    "fname = '/cluster/work/grlab/projects/projects2020_OHSU/peptides_generation/v2_v2.5f0752a_conf2_annotFrame_cap0_runs_pya0.17.1/TCGA_Breast_1102/filter_TCGA-A2-A0D2-01A-21R-A034-07.all/commit_d4aee54_GTEXcore/G_TCGA-A2-A0D2-01A-21R-A034-07.all_ref_SampleLim0.0CohortLim0.0Across10_FiltNormalsGtexcoreCohortlim3.0Across10_FiltUniprot.tsv/part-00000-ff44ef83-8d6d-4992-8585-46eac2dae2dd-c000.csv'\n",
    "df_B = pd.read_csv(fname,sep='\\t',names=['All generated cancer k-mers', 'Expression', 'kmer_IL_eq'])\n",
    "df_B = df_B.loc[1:].reset_index().drop('index', axis = 1)\n",
    "df_B.head()"
   ]
  },
  {
   "cell_type": "code",
   "execution_count": 31,
   "id": "11ecae90",
   "metadata": {},
   "outputs": [
    {
     "data": {
      "text/plain": [
       "All generated cancer k-mers    object\n",
       "Expression                     object\n",
       "kmer_IL_eq                     object\n",
       "dtype: object"
      ]
     },
     "execution_count": 31,
     "metadata": {},
     "output_type": "execute_result"
    }
   ],
   "source": [
    "df_B.dtypes"
   ]
  },
  {
   "cell_type": "code",
   "execution_count": 32,
   "id": "26ba92c5",
   "metadata": {},
   "outputs": [],
   "source": [
    "df_B['Expression'] = df_B['Expression'].astype(float)"
   ]
  },
  {
   "cell_type": "code",
   "execution_count": 33,
   "id": "a7af27d1",
   "metadata": {},
   "outputs": [],
   "source": [
    "df = pd.merge(df_A, df_B,  how='inner', on=['All generated cancer k-mers'])"
   ]
  },
  {
   "cell_type": "code",
   "execution_count": 34,
   "id": "0e191562",
   "metadata": {},
   "outputs": [],
   "source": [
    "df = df.loc[df['Expression'] <= 30, :]"
   ]
  },
  {
   "cell_type": "code",
   "execution_count": 35,
   "id": "2d6c04bb",
   "metadata": {},
   "outputs": [
    {
     "data": {
      "text/plain": [
       "<AxesSubplot:xlabel='Expression', ylabel='Recurrence of k-mers across cancer cohort'>"
      ]
     },
     "execution_count": 35,
     "metadata": {},
     "output_type": "execute_result"
    },
    {
     "data": {
      "image/png": "[encoded data removed]",
      "text/plain": [
       "<Figure size 576x576 with 1 Axes>"
      ]
     },
     "metadata": {
      "needs_background": "light"
     },
     "output_type": "display_data"
    }
   ],
   "source": [
    "#Building scatter plot for cancer samples:\n",
    "\n",
    "import matplotlib.pyplot as plt\n",
    "#plt.figure(figsize=(10,5))\n",
    "plt.rcParams[\"figure.figsize\"] = (8, 8)\n",
    "df.plot.scatter(x='Expression',y='Recurrence of k-mers across cancer cohort', s = 50, c = 'red')\n",
    "#plt.savefig('njkb.bbjb;kjbkb')\n"
   ]
  },
  {
   "cell_type": "markdown",
   "id": "86d74a52",
   "metadata": {},
   "source": [
    "Low is < 10 \n",
    "Medium 10 < < 50\n",
    "High > 50 reads "
   ]
  },
  {
   "cell_type": "code",
   "execution_count": 38,
   "id": "66084f37",
   "metadata": {},
   "outputs": [
    {
     "data": {
      "text/plain": [
       "\"\\nnew_df = pd.merge(A_df, B_df,  how='left', left_on=['A_c1','c2'], right_on = ['B_c1','c2'])\\n\\n\\n\\n#Building scatter plot:\\n#Example\\n\\n# Program to draw scatter plot using Dataframe.plot\\n# Import libraries\\nimport pandas as pd\\n  \\n# Prepare data\\ndata={'Name':['Dhanashri', 'Smita', 'Rutuja',\\n              'Sunita', 'Poonam', 'Srushti'],\\n      'Age':[ 20, 18, 27, 50, 12, 15]}\\n  \\n# Load data into DataFrame\\ndf = pd.DataFrame(data = data);\\n  \\n# Draw a scatter plot and here size of dots determined by age of person\\ndf.plot.scatter(x = 'Name', y = 'Age', s = 'Age', c = 'red');\\n\""
      ]
     },
     "execution_count": 38,
     "metadata": {},
     "output_type": "execute_result"
    }
   ],
   "source": [
    "# Difference between merge( ) and concat( ) in pandas\n",
    "\n",
    "'''A very high level difference is that merge() is used to combine two (or more) dataframes on the basis of values of common columns(indexes can also be used, use left_index=True and/or right_index=True), \n",
    "and concat() is used to append one (or more) dataframes one below the other (or sideways, depending on whether the axis option is set to 0 or 1).\n",
    "\n",
    "join() is used to merge 2 dataframes on the basis of the index; instead of using merge() with the option left_index=True we can use join().'''\n",
    "\n",
    "\n",
    "\n",
    "#Merging two dataframes reccurence and expression of k-mers across normal cohort:\n",
    "\n",
    "#Reccurence:\n",
    "# /cluster/work/grlab/projects/projects2020_OHSU/peptides_generation/v2_v2.5f0752a_conf2_annotFrame_cap0_runs_pya0.17.1/filtered_backgrounds/commit_d4aee54_GTEXcore/interm_normals_combiExprCohortLim0.0Across1.tsv\n",
    "\n",
    "#Expression:\n",
    "#/cluster/work/grlab/projects/projects2020_OHSU/peptides_generation/v2_v2.5f0752a_conf2_annotFrame_cap0_runs_pya0.17.1/TCGA_Breast_1102\n",
    "#/filter_TCGA-A2-A0D2-01A-21R-A034-07.all/commit_d4aee54_GTEXcore\n",
    "#/G_TCGA-A2-A0D2-01A-21R-A034-07.all_ref_SampleLim0.0CohortLim0.0Across10_FiltNormalsGtexcoreCohortlim3.0Across10_FiltUniprot.tsv\n",
    "#/part-00000-ff44ef83-8d6d-4992-8585-46eac2dae2dd-c000.csv\n",
    "\n",
    "\n",
    "#Pandas merging:\n",
    "'''\n",
    "new_df = pd.merge(A_df, B_df,  how='left', left_on=['A_c1','c2'], right_on = ['B_c1','c2'])\n",
    "\n",
    "\n",
    "\n",
    "#Building scatter plot:\n",
    "#Example\n",
    "\n",
    "# Program to draw scatter plot using Dataframe.plot\n",
    "# Import libraries\n",
    "import pandas as pd\n",
    "  \n",
    "# Prepare data\n",
    "data={'Name':['Dhanashri', 'Smita', 'Rutuja',\n",
    "              'Sunita', 'Poonam', 'Srushti'],\n",
    "      'Age':[ 20, 18, 27, 50, 12, 15]}\n",
    "  \n",
    "# Load data into DataFrame\n",
    "df = pd.DataFrame(data = data);\n",
    "  \n",
    "# Draw a scatter plot and here size of dots determined by age of person\n",
    "df.plot.scatter(x = 'Name', y = 'Age', s = 'Age', c = 'red');\n",
    "'''"
   ]
  },
  {
   "cell_type": "code",
   "execution_count": 2,
   "id": "d7ab98df",
   "metadata": {},
   "outputs": [],
   "source": [
    "import os \n",
    "import pandas as pd\n",
    "from collections import defaultdict\n",
    "import numpy as np \n",
    "import matplotlib.pyplot as plt\n",
    "import seaborn as sns"
   ]
  },
  {
   "cell_type": "code",
   "execution_count": 3,
   "id": "e41f07fe",
   "metadata": {},
   "outputs": [
    {
     "data": {
      "text/html": [
       "<div>\n",
       "<style scoped>\n",
       "    .dataframe tbody tr th:only-of-type {\n",
       "        vertical-align: middle;\n",
       "    }\n",
       "\n",
       "    .dataframe tbody tr th {\n",
       "        vertical-align: top;\n",
       "    }\n",
       "\n",
       "    .dataframe thead th {\n",
       "        text-align: right;\n",
       "    }\n",
       "</style>\n",
       "<table border=\"1\" class=\"dataframe\">\n",
       "  <thead>\n",
       "    <tr style=\"text-align: right;\">\n",
       "      <th></th>\n",
       "      <th>&gt;pepID</th>\n",
       "      <th>jx_pos</th>\n",
       "      <th>between_codons</th>\n",
       "      <th>includes_5'</th>\n",
       "      <th>includes_3'</th>\n",
       "      <th>gene</th>\n",
       "      <th>jx_coord</th>\n",
       "      <th>kmer</th>\n",
       "      <th>readFrameAnnotated</th>\n",
       "      <th>junctionAnnotated</th>\n",
       "      <th>...</th>\n",
       "      <th>TCGAXXA89901A11RA36F07all</th>\n",
       "      <th>TCGAXXA89A01A11RA36F07all</th>\n",
       "      <th>TCGAZ7A8R501A42RA41B07all</th>\n",
       "      <th>TCGAZ7A8R601A11RA41B07all</th>\n",
       "      <th>isCrossJunction</th>\n",
       "      <th>junctionAnnotated_kmer</th>\n",
       "      <th>readFrameAnnotated_kmer</th>\n",
       "      <th>recurrence</th>\n",
       "      <th>spladder_GTEX_on_disk</th>\n",
       "      <th>strand_spladder</th>\n",
       "    </tr>\n",
       "  </thead>\n",
       "  <tbody>\n",
       "    <tr>\n",
       "      <th>0</th>\n",
       "      <td>2</td>\n",
       "      <td>56.0</td>\n",
       "      <td>1.0</td>\n",
       "      <td>0.0</td>\n",
       "      <td>0.0</td>\n",
       "      <td>ENSG00000060339.14</td>\n",
       "      <td>68737048_68742427</td>\n",
       "      <td>AAAALQQHS</td>\n",
       "      <td>0.0</td>\n",
       "      <td>0.0</td>\n",
       "      <td>...</td>\n",
       "      <td>6.0</td>\n",
       "      <td>0.0</td>\n",
       "      <td>0.0</td>\n",
       "      <td>3.0</td>\n",
       "      <td>True</td>\n",
       "      <td>0.0</td>\n",
       "      <td>0.0</td>\n",
       "      <td>970.0</td>\n",
       "      <td>1.0</td>\n",
       "      <td>+</td>\n",
       "    </tr>\n",
       "    <tr>\n",
       "      <th>1</th>\n",
       "      <td>2</td>\n",
       "      <td>57.0</td>\n",
       "      <td>1.0</td>\n",
       "      <td>0.0</td>\n",
       "      <td>0.0</td>\n",
       "      <td>ENSG00000060339.14</td>\n",
       "      <td>68742430_68742487</td>\n",
       "      <td>AAAALQQHS</td>\n",
       "      <td>0.0</td>\n",
       "      <td>0.0</td>\n",
       "      <td>...</td>\n",
       "      <td>6.0</td>\n",
       "      <td>0.0</td>\n",
       "      <td>0.0</td>\n",
       "      <td>3.0</td>\n",
       "      <td>True</td>\n",
       "      <td>0.0</td>\n",
       "      <td>0.0</td>\n",
       "      <td>970.0</td>\n",
       "      <td>NaN</td>\n",
       "      <td>NaN</td>\n",
       "    </tr>\n",
       "    <tr>\n",
       "      <th>2</th>\n",
       "      <td>4</td>\n",
       "      <td>12.0</td>\n",
       "      <td>0.0</td>\n",
       "      <td>0.0</td>\n",
       "      <td>0.0</td>\n",
       "      <td>ENSG00000119333.11</td>\n",
       "      <td>128640690_128637027</td>\n",
       "      <td>AAADGVLSV</td>\n",
       "      <td>0.0</td>\n",
       "      <td>1.0</td>\n",
       "      <td>...</td>\n",
       "      <td>156.0</td>\n",
       "      <td>164.0</td>\n",
       "      <td>112.0</td>\n",
       "      <td>651.0</td>\n",
       "      <td>True</td>\n",
       "      <td>1.0</td>\n",
       "      <td>0.0</td>\n",
       "      <td>1100.0</td>\n",
       "      <td>1.0</td>\n",
       "      <td>-</td>\n",
       "    </tr>\n",
       "    <tr>\n",
       "      <th>3</th>\n",
       "      <td>5</td>\n",
       "      <td>12.0</td>\n",
       "      <td>0.0</td>\n",
       "      <td>0.0</td>\n",
       "      <td>1.0</td>\n",
       "      <td>ENSG00000119333.11</td>\n",
       "      <td>128640690_128636438</td>\n",
       "      <td>AAADGWTMG</td>\n",
       "      <td>0.0</td>\n",
       "      <td>1.0</td>\n",
       "      <td>...</td>\n",
       "      <td>2.0</td>\n",
       "      <td>1.0</td>\n",
       "      <td>0.0</td>\n",
       "      <td>4.0</td>\n",
       "      <td>True</td>\n",
       "      <td>1.0</td>\n",
       "      <td>0.0</td>\n",
       "      <td>972.0</td>\n",
       "      <td>1.0</td>\n",
       "      <td>-</td>\n",
       "    </tr>\n",
       "    <tr>\n",
       "      <th>4</th>\n",
       "      <td>6</td>\n",
       "      <td>12.0</td>\n",
       "      <td>0.0</td>\n",
       "      <td>0.0</td>\n",
       "      <td>0.0</td>\n",
       "      <td>ENSG00000119333.11</td>\n",
       "      <td>128640690_128636438</td>\n",
       "      <td>AAADGWTMG</td>\n",
       "      <td>0.0</td>\n",
       "      <td>1.0</td>\n",
       "      <td>...</td>\n",
       "      <td>2.0</td>\n",
       "      <td>1.0</td>\n",
       "      <td>0.0</td>\n",
       "      <td>4.0</td>\n",
       "      <td>True</td>\n",
       "      <td>1.0</td>\n",
       "      <td>0.0</td>\n",
       "      <td>972.0</td>\n",
       "      <td>1.0</td>\n",
       "      <td>-</td>\n",
       "    </tr>\n",
       "    <tr>\n",
       "      <th>...</th>\n",
       "      <td>...</td>\n",
       "      <td>...</td>\n",
       "      <td>...</td>\n",
       "      <td>...</td>\n",
       "      <td>...</td>\n",
       "      <td>...</td>\n",
       "      <td>...</td>\n",
       "      <td>...</td>\n",
       "      <td>...</td>\n",
       "      <td>...</td>\n",
       "      <td>...</td>\n",
       "      <td>...</td>\n",
       "      <td>...</td>\n",
       "      <td>...</td>\n",
       "      <td>...</td>\n",
       "      <td>...</td>\n",
       "      <td>...</td>\n",
       "      <td>...</td>\n",
       "      <td>...</td>\n",
       "      <td>...</td>\n",
       "      <td>...</td>\n",
       "    </tr>\n",
       "    <tr>\n",
       "      <th>913530</th>\n",
       "      <td>247875</td>\n",
       "      <td>NaN</td>\n",
       "      <td>NaN</td>\n",
       "      <td>NaN</td>\n",
       "      <td>NaN</td>\n",
       "      <td>NaN</td>\n",
       "      <td>NaN</td>\n",
       "      <td>NaN</td>\n",
       "      <td>NaN</td>\n",
       "      <td>NaN</td>\n",
       "      <td>...</td>\n",
       "      <td>NaN</td>\n",
       "      <td>NaN</td>\n",
       "      <td>NaN</td>\n",
       "      <td>NaN</td>\n",
       "      <td>NaN</td>\n",
       "      <td>NaN</td>\n",
       "      <td>NaN</td>\n",
       "      <td>NaN</td>\n",
       "      <td>NaN</td>\n",
       "      <td>NaN</td>\n",
       "    </tr>\n",
       "    <tr>\n",
       "      <th>913531</th>\n",
       "      <td>247877</td>\n",
       "      <td>NaN</td>\n",
       "      <td>NaN</td>\n",
       "      <td>NaN</td>\n",
       "      <td>NaN</td>\n",
       "      <td>NaN</td>\n",
       "      <td>NaN</td>\n",
       "      <td>NaN</td>\n",
       "      <td>NaN</td>\n",
       "      <td>NaN</td>\n",
       "      <td>...</td>\n",
       "      <td>NaN</td>\n",
       "      <td>NaN</td>\n",
       "      <td>NaN</td>\n",
       "      <td>NaN</td>\n",
       "      <td>NaN</td>\n",
       "      <td>NaN</td>\n",
       "      <td>NaN</td>\n",
       "      <td>NaN</td>\n",
       "      <td>NaN</td>\n",
       "      <td>NaN</td>\n",
       "    </tr>\n",
       "    <tr>\n",
       "      <th>913532</th>\n",
       "      <td>247879</td>\n",
       "      <td>NaN</td>\n",
       "      <td>NaN</td>\n",
       "      <td>NaN</td>\n",
       "      <td>NaN</td>\n",
       "      <td>NaN</td>\n",
       "      <td>NaN</td>\n",
       "      <td>NaN</td>\n",
       "      <td>NaN</td>\n",
       "      <td>NaN</td>\n",
       "      <td>...</td>\n",
       "      <td>NaN</td>\n",
       "      <td>NaN</td>\n",
       "      <td>NaN</td>\n",
       "      <td>NaN</td>\n",
       "      <td>NaN</td>\n",
       "      <td>NaN</td>\n",
       "      <td>NaN</td>\n",
       "      <td>NaN</td>\n",
       "      <td>NaN</td>\n",
       "      <td>NaN</td>\n",
       "    </tr>\n",
       "    <tr>\n",
       "      <th>913533</th>\n",
       "      <td>247881</td>\n",
       "      <td>NaN</td>\n",
       "      <td>NaN</td>\n",
       "      <td>NaN</td>\n",
       "      <td>NaN</td>\n",
       "      <td>NaN</td>\n",
       "      <td>NaN</td>\n",
       "      <td>NaN</td>\n",
       "      <td>NaN</td>\n",
       "      <td>NaN</td>\n",
       "      <td>...</td>\n",
       "      <td>NaN</td>\n",
       "      <td>NaN</td>\n",
       "      <td>NaN</td>\n",
       "      <td>NaN</td>\n",
       "      <td>NaN</td>\n",
       "      <td>NaN</td>\n",
       "      <td>NaN</td>\n",
       "      <td>NaN</td>\n",
       "      <td>NaN</td>\n",
       "      <td>NaN</td>\n",
       "    </tr>\n",
       "    <tr>\n",
       "      <th>913534</th>\n",
       "      <td>247883</td>\n",
       "      <td>NaN</td>\n",
       "      <td>NaN</td>\n",
       "      <td>NaN</td>\n",
       "      <td>NaN</td>\n",
       "      <td>NaN</td>\n",
       "      <td>NaN</td>\n",
       "      <td>NaN</td>\n",
       "      <td>NaN</td>\n",
       "      <td>NaN</td>\n",
       "      <td>...</td>\n",
       "      <td>NaN</td>\n",
       "      <td>NaN</td>\n",
       "      <td>NaN</td>\n",
       "      <td>NaN</td>\n",
       "      <td>NaN</td>\n",
       "      <td>NaN</td>\n",
       "      <td>NaN</td>\n",
       "      <td>NaN</td>\n",
       "      <td>NaN</td>\n",
       "      <td>NaN</td>\n",
       "    </tr>\n",
       "  </tbody>\n",
       "</table>\n",
       "<p>913535 rows × 1126 columns</p>\n",
       "</div>"
      ],
      "text/plain": [
       "        >pepID  jx_pos  between_codons  includes_5'  includes_3'  \\\n",
       "0            2    56.0             1.0          0.0          0.0   \n",
       "1            2    57.0             1.0          0.0          0.0   \n",
       "2            4    12.0             0.0          0.0          0.0   \n",
       "3            5    12.0             0.0          0.0          1.0   \n",
       "4            6    12.0             0.0          0.0          0.0   \n",
       "...        ...     ...             ...          ...          ...   \n",
       "913530  247875     NaN             NaN          NaN          NaN   \n",
       "913531  247877     NaN             NaN          NaN          NaN   \n",
       "913532  247879     NaN             NaN          NaN          NaN   \n",
       "913533  247881     NaN             NaN          NaN          NaN   \n",
       "913534  247883     NaN             NaN          NaN          NaN   \n",
       "\n",
       "                      gene             jx_coord       kmer readFrameAnnotated  \\\n",
       "0       ENSG00000060339.14    68737048_68742427  AAAALQQHS                0.0   \n",
       "1       ENSG00000060339.14    68742430_68742487  AAAALQQHS                0.0   \n",
       "2       ENSG00000119333.11  128640690_128637027  AAADGVLSV                0.0   \n",
       "3       ENSG00000119333.11  128640690_128636438  AAADGWTMG                0.0   \n",
       "4       ENSG00000119333.11  128640690_128636438  AAADGWTMG                0.0   \n",
       "...                    ...                  ...        ...                ...   \n",
       "913530                 NaN                  NaN        NaN                NaN   \n",
       "913531                 NaN                  NaN        NaN                NaN   \n",
       "913532                 NaN                  NaN        NaN                NaN   \n",
       "913533                 NaN                  NaN        NaN                NaN   \n",
       "913534                 NaN                  NaN        NaN                NaN   \n",
       "\n",
       "       junctionAnnotated  ... TCGAXXA89901A11RA36F07all  \\\n",
       "0                    0.0  ...                       6.0   \n",
       "1                    0.0  ...                       6.0   \n",
       "2                    1.0  ...                     156.0   \n",
       "3                    1.0  ...                       2.0   \n",
       "4                    1.0  ...                       2.0   \n",
       "...                  ...  ...                       ...   \n",
       "913530               NaN  ...                       NaN   \n",
       "913531               NaN  ...                       NaN   \n",
       "913532               NaN  ...                       NaN   \n",
       "913533               NaN  ...                       NaN   \n",
       "913534               NaN  ...                       NaN   \n",
       "\n",
       "       TCGAXXA89A01A11RA36F07all TCGAZ7A8R501A42RA41B07all  \\\n",
       "0                            0.0                       0.0   \n",
       "1                            0.0                       0.0   \n",
       "2                          164.0                     112.0   \n",
       "3                            1.0                       0.0   \n",
       "4                            1.0                       0.0   \n",
       "...                          ...                       ...   \n",
       "913530                       NaN                       NaN   \n",
       "913531                       NaN                       NaN   \n",
       "913532                       NaN                       NaN   \n",
       "913533                       NaN                       NaN   \n",
       "913534                       NaN                       NaN   \n",
       "\n",
       "        TCGAZ7A8R601A11RA41B07all  isCrossJunction junctionAnnotated_kmer  \\\n",
       "0                             3.0             True                    0.0   \n",
       "1                             3.0             True                    0.0   \n",
       "2                           651.0             True                    1.0   \n",
       "3                             4.0             True                    1.0   \n",
       "4                             4.0             True                    1.0   \n",
       "...                           ...              ...                    ...   \n",
       "913530                        NaN              NaN                    NaN   \n",
       "913531                        NaN              NaN                    NaN   \n",
       "913532                        NaN              NaN                    NaN   \n",
       "913533                        NaN              NaN                    NaN   \n",
       "913534                        NaN              NaN                    NaN   \n",
       "\n",
       "        readFrameAnnotated_kmer  recurrence  spladder_GTEX_on_disk  \\\n",
       "0                           0.0       970.0                    1.0   \n",
       "1                           0.0       970.0                    NaN   \n",
       "2                           0.0      1100.0                    1.0   \n",
       "3                           0.0       972.0                    1.0   \n",
       "4                           0.0       972.0                    1.0   \n",
       "...                         ...         ...                    ...   \n",
       "913530                      NaN         NaN                    NaN   \n",
       "913531                      NaN         NaN                    NaN   \n",
       "913532                      NaN         NaN                    NaN   \n",
       "913533                      NaN         NaN                    NaN   \n",
       "913534                      NaN         NaN                    NaN   \n",
       "\n",
       "        strand_spladder  \n",
       "0                     +  \n",
       "1                   NaN  \n",
       "2                     -  \n",
       "3                     -  \n",
       "4                     -  \n",
       "...                 ...  \n",
       "913530              NaN  \n",
       "913531              NaN  \n",
       "913532              NaN  \n",
       "913533              NaN  \n",
       "913534              NaN  \n",
       "\n",
       "[913535 rows x 1126 columns]"
      ]
     },
     "execution_count": 3,
     "metadata": {},
     "output_type": "execute_result"
    }
   ],
   "source": [
    "df = pd.read_csv('/cluster/work/grlab/projects/projects2020_OHSU/peptides_generation/v2_v3_d2d2574_TEST_conf2_annotFrame_cap0_runs/TCGA_Breast_1102/exp_427_kmers_plot2_fix-sample_filtered-spladder.csv.gz', compression = 'gzip', low_memory=False )\n",
    "df"
   ]
  },
  {
   "cell_type": "code",
   "execution_count": 4,
   "id": "61f500f5",
   "metadata": {},
   "outputs": [
    {
     "data": {
      "text/plain": [
       "Index(['>pepID', 'jx_pos', 'between_codons', 'includes_5'', 'includes_3'',\n",
       "       'gene', 'jx_coord', 'kmer', 'readFrameAnnotated', 'junctionAnnotated',\n",
       "       ...\n",
       "       'TCGAXXA89901A11RA36F07all', 'TCGAXXA89A01A11RA36F07all',\n",
       "       'TCGAZ7A8R501A42RA41B07all', 'TCGAZ7A8R601A11RA41B07all',\n",
       "       'isCrossJunction', 'junctionAnnotated_kmer', 'readFrameAnnotated_kmer',\n",
       "       'recurrence', 'spladder_GTEX_on_disk', 'strand_spladder'],\n",
       "      dtype='object', length=1126)"
      ]
     },
     "execution_count": 4,
     "metadata": {},
     "output_type": "execute_result"
    }
   ],
   "source": [
    "df.columns"
   ]
  },
  {
   "cell_type": "code",
   "execution_count": 5,
   "id": "253a3f06",
   "metadata": {},
   "outputs": [
    {
     "data": {
      "text/plain": [
       "0      6.0\n",
       "1      6.0\n",
       "2    156.0\n",
       "3      2.0\n",
       "4      2.0\n",
       "Name: TCGAXXA89901A11RA36F07all, dtype: float64"
      ]
     },
     "execution_count": 5,
     "metadata": {},
     "output_type": "execute_result"
    }
   ],
   "source": [
    "df['TCGAXXA89901A11RA36F07all'].head()"
   ]
  },
  {
   "cell_type": "code",
   "execution_count": 60,
   "id": "db31b28d",
   "metadata": {},
   "outputs": [
    {
     "data": {
      "text/plain": [
       "array([ 0.,  1., nan])"
      ]
     },
     "execution_count": 60,
     "metadata": {},
     "output_type": "execute_result"
    }
   ],
   "source": [
    "df['junctionAnnotated_kmer'].head()\n",
    "df['junctionAnnotated_kmer'].unique()"
   ]
  },
  {
   "cell_type": "code",
   "execution_count": 61,
   "id": "22799145",
   "metadata": {},
   "outputs": [
    {
     "data": {
      "text/plain": [
       "array([ 0.,  1., nan])"
      ]
     },
     "execution_count": 61,
     "metadata": {},
     "output_type": "execute_result"
    }
   ],
   "source": [
    "df['readFrameAnnotated_kmer'].head()\n",
    "df['readFrameAnnotated_kmer'].unique()"
   ]
  },
  {
   "cell_type": "code",
   "execution_count": 62,
   "id": "df5a9988",
   "metadata": {},
   "outputs": [
    {
     "data": {
      "text/plain": [
       "array([ 1., nan])"
      ]
     },
     "execution_count": 62,
     "metadata": {},
     "output_type": "execute_result"
    }
   ],
   "source": [
    "df['spladder_GTEX_on_disk'].head()\n",
    "df['spladder_GTEX_on_disk'].unique()"
   ]
  },
  {
   "cell_type": "code",
   "execution_count": 63,
   "id": "4611aa29",
   "metadata": {},
   "outputs": [
    {
     "data": {
      "text/plain": [
       "array(['3exons_9mer', '2exons', nan, '3exons_9mer/2exons'], dtype=object)"
      ]
     },
     "execution_count": 63,
     "metadata": {},
     "output_type": "execute_result"
    }
   ],
   "source": [
    "df['origin'].head()\n",
    "df['origin'].unique()"
   ]
  },
  {
   "cell_type": "code",
   "execution_count": 10,
   "id": "b32d9200",
   "metadata": {},
   "outputs": [
    {
     "data": {
      "text/plain": [
       "0    8.5\n",
       "1    8.5\n",
       "2    0.5\n",
       "3    1.8\n",
       "4    1.8\n",
       "Name: percentile_rank, dtype: float64"
      ]
     },
     "execution_count": 10,
     "metadata": {},
     "output_type": "execute_result"
    }
   ],
   "source": [
    "df['percentile_rank'].head()"
   ]
  },
  {
   "cell_type": "code",
   "execution_count": 11,
   "id": "142b6d16",
   "metadata": {},
   "outputs": [
    {
     "data": {
      "text/plain": [
       "0    17394.11\n",
       "1    17394.11\n",
       "2      115.36\n",
       "3     5876.76\n",
       "4     5876.76\n",
       "Name: affinity, dtype: float64"
      ]
     },
     "execution_count": 11,
     "metadata": {},
     "output_type": "execute_result"
    }
   ],
   "source": [
    "df['affinity'].head()"
   ]
  },
  {
   "cell_type": "code",
   "execution_count": 12,
   "id": "7f17bd66",
   "metadata": {},
   "outputs": [
    {
     "data": {
      "text/plain": [
       "0     970.0\n",
       "1     970.0\n",
       "2    1100.0\n",
       "3     972.0\n",
       "4     972.0\n",
       "Name: recurrence, dtype: float64"
      ]
     },
     "execution_count": 12,
     "metadata": {},
     "output_type": "execute_result"
    }
   ],
   "source": [
    "df['recurrence'].head()"
   ]
  },
  {
   "cell_type": "code",
   "execution_count": 13,
   "id": "ad4b7e62",
   "metadata": {},
   "outputs": [
    {
     "data": {
      "text/plain": [
       "['>pepID',\n",
       " 'jx_pos',\n",
       " 'between_codons',\n",
       " \"includes_5'\",\n",
       " \"includes_3'\",\n",
       " 'gene',\n",
       " 'jx_coord',\n",
       " 'kmer',\n",
       " 'readFrameAnnotated',\n",
       " 'junctionAnnotated',\n",
       " 'origin',\n",
       " 'peptide',\n",
       " 'sample',\n",
       " 'percentile_rank',\n",
       " 'affinity',\n",
       " 'strand',\n",
       " 'GTEX_presence',\n",
       " 'index',\n",
       " 'isCrossJunction',\n",
       " 'junctionAnnotated_kmer',\n",
       " 'readFrameAnnotated_kmer',\n",
       " 'recurrence',\n",
       " 'spladder_GTEX_on_disk',\n",
       " 'strand_spladder']"
      ]
     },
     "execution_count": 13,
     "metadata": {},
     "output_type": "execute_result"
    }
   ],
   "source": [
    "#list comprehension [ col for col in df.columns if 'TCGA' not in col]"
   ]
  },
  {
   "cell_type": "code",
   "execution_count": null,
   "id": "9ad85425",
   "metadata": {},
   "outputs": [],
   "source": [
    "#list comprehension [ col for col in df.columns if 'TCGA' not in col]"
   ]
  },
  {
   "cell_type": "code",
   "execution_count": 64,
   "id": "0e00179c",
   "metadata": {},
   "outputs": [],
   "source": [
    "#normal for loop\n",
    "results = [] \n",
    "for col in df.columns:\n",
    "    if 'TCGA' not in col: \n",
    "        results.append(col)\n",
    "        \n",
    "        "
   ]
  },
  {
   "cell_type": "code",
   "execution_count": 66,
   "id": "8cfdf2b0",
   "metadata": {},
   "outputs": [
    {
     "name": "stdout",
     "output_type": "stream",
     "text": [
      "['>pepID', 'jx_pos', 'between_codons', \"includes_5'\", \"includes_3'\", 'gene', 'jx_coord', 'kmer', 'readFrameAnnotated', 'junctionAnnotated', 'origin', 'peptide', 'sample', 'percentile_rank', 'affinity', 'strand', 'GTEX_presence', 'index', 'isCrossJunction', 'junctionAnnotated_kmer', 'readFrameAnnotated_kmer', 'recurrence', 'spladder_GTEX_on_disk', 'strand_spladder']\n"
     ]
    }
   ],
   "source": [
    "print(results)"
   ]
  },
  {
   "cell_type": "code",
   "execution_count": 65,
   "id": "c428845c",
   "metadata": {},
   "outputs": [
    {
     "data": {
      "text/plain": [
       ">pepID                       int64\n",
       "jx_pos                     float64\n",
       "between_codons             float64\n",
       "includes_5'                float64\n",
       "includes_3'                float64\n",
       "                            ...   \n",
       "junctionAnnotated_kmer     float64\n",
       "readFrameAnnotated_kmer    float64\n",
       "recurrence                 float64\n",
       "spladder_GTEX_on_disk      float64\n",
       "strand_spladder             object\n",
       "Length: 1126, dtype: object"
      ]
     },
     "execution_count": 65,
     "metadata": {},
     "output_type": "execute_result"
    }
   ],
   "source": [
    "df.dtypes\n"
   ]
  },
  {
   "cell_type": "code",
   "execution_count": 69,
   "id": "8c3b6b4c",
   "metadata": {},
   "outputs": [
    {
     "name": "stdout",
     "output_type": "stream",
     "text": [
      ">pepID\n",
      "int64\n",
      "jx_pos\n",
      "float64\n",
      "between_codons\n",
      "float64\n",
      "includes_5'\n",
      "float64\n",
      "includes_3'\n",
      "float64\n",
      "gene\n",
      "object\n",
      "jx_coord\n",
      "object\n",
      "kmer\n",
      "object\n",
      "readFrameAnnotated\n",
      "object\n",
      "junctionAnnotated\n",
      "object\n",
      "origin\n",
      "object\n",
      "peptide\n",
      "object\n",
      "sample\n",
      "object\n",
      "percentile_rank\n",
      "float64\n",
      "affinity\n",
      "float64\n",
      "strand\n",
      "object\n",
      "GTEX_presence\n",
      "float64\n",
      "index\n",
      "float64\n",
      "isCrossJunction\n",
      "object\n",
      "junctionAnnotated_kmer\n",
      "float64\n",
      "readFrameAnnotated_kmer\n",
      "float64\n",
      "recurrence\n",
      "float64\n",
      "spladder_GTEX_on_disk\n",
      "float64\n",
      "strand_spladder\n",
      "object\n"
     ]
    }
   ],
   "source": [
    "for col in df.columns:\n",
    "    if 'TCGA' not in col:\n",
    "        print(col)\n",
    "        print(df[col].dtypes)\n",
    "        "
   ]
  },
  {
   "cell_type": "code",
   "execution_count": 15,
   "id": "6c9254d1",
   "metadata": {},
   "outputs": [
    {
     "data": {
      "text/plain": [
       "count    286322.000000\n",
       "mean         13.345418\n",
       "std          12.012203\n",
       "min           0.010000\n",
       "25%           4.000000\n",
       "50%          10.000000\n",
       "75%          20.000000\n",
       "max          80.000000\n",
       "Name: percentile_rank, dtype: float64"
      ]
     },
     "execution_count": 15,
     "metadata": {},
     "output_type": "execute_result"
    }
   ],
   "source": [
    "df['percentile_rank'].describe() # 25% quantiles google! "
   ]
  },
  {
   "cell_type": "code",
   "execution_count": 16,
   "id": "f935bc57",
   "metadata": {},
   "outputs": [
    {
     "data": {
      "text/plain": [
       "count    286322.000000\n",
       "mean      17170.742263\n",
       "std       10930.785282\n",
       "min           2.080000\n",
       "25%        7409.190000\n",
       "50%       17590.560000\n",
       "75%       26330.400000\n",
       "max       44262.530000\n",
       "Name: affinity, dtype: float64"
      ]
     },
     "execution_count": 16,
     "metadata": {},
     "output_type": "execute_result"
    }
   ],
   "source": [
    "df['affinity'].describe()"
   ]
  },
  {
   "cell_type": "code",
   "execution_count": 17,
   "id": "f8bde39e",
   "metadata": {},
   "outputs": [
    {
     "data": {
      "text/plain": [
       "(array([1.2756e+05, 6.6698e+04, 4.3689e+04, 2.5197e+04, 1.2924e+04,\n",
       "        6.2660e+03, 2.7140e+03, 6.9700e+02, 5.2200e+02, 5.5000e+01]),\n",
       " array([1.0000e-02, 8.0090e+00, 1.6008e+01, 2.4007e+01, 3.2006e+01,\n",
       "        4.0005e+01, 4.8004e+01, 5.6003e+01, 6.4002e+01, 7.2001e+01,\n",
       "        8.0000e+01]),\n",
       " <BarContainer object of 10 artists>)"
      ]
     },
     "execution_count": 17,
     "metadata": {},
     "output_type": "execute_result"
    },
    {
     "data": {
      "image/png": "[encoded data removed]",
      "text/plain": [
       "<Figure size 432x288 with 1 Axes>"
      ]
     },
     "metadata": {
      "needs_background": "light"
     },
     "output_type": "display_data"
    }
   ],
   "source": [
    "plt.hist(df['percentile_rank'])\n",
    "#the data distribution. how to interpre histograms\n",
    "#x axis percentile_ranks, y - the number of "
   ]
  },
  {
   "cell_type": "code",
   "execution_count": 70,
   "id": "f7997174",
   "metadata": {},
   "outputs": [
    {
     "data": {
      "text/plain": [
       "(array([6.43034e+05, 6.37900e+03, 5.12000e+03, 4.11400e+03, 3.83900e+03,\n",
       "        3.59100e+03, 3.63100e+03, 3.13900e+03, 2.75300e+03, 3.16400e+03,\n",
       "        2.92200e+03, 3.19300e+03, 3.13400e+03, 2.59600e+03, 3.00300e+03,\n",
       "        2.81300e+03, 2.98600e+03, 2.69900e+03, 2.91300e+03, 2.69300e+03,\n",
       "        2.73800e+03, 2.83300e+03, 3.31900e+03, 3.31700e+03, 3.27400e+03,\n",
       "        2.99500e+03, 3.13200e+03, 3.16800e+03, 3.10300e+03, 2.79200e+03,\n",
       "        3.29200e+03, 2.94200e+03, 3.38100e+03, 2.91000e+03, 3.20700e+03,\n",
       "        3.16200e+03, 3.43300e+03, 3.41500e+03, 3.59600e+03, 3.58100e+03,\n",
       "        3.06400e+03, 3.31300e+03, 3.51700e+03, 3.05200e+03, 3.68400e+03,\n",
       "        3.30000e+03, 3.21300e+03, 3.29900e+03, 3.86000e+03, 3.94600e+03,\n",
       "        3.56700e+03, 4.02200e+03, 4.15800e+03, 3.43600e+03, 3.95600e+03,\n",
       "        3.95300e+03, 3.86800e+03, 3.79200e+03, 3.91500e+03, 3.82900e+03,\n",
       "        3.66500e+03, 3.64800e+03, 3.79800e+03, 3.61600e+03, 3.92500e+03,\n",
       "        3.99900e+03, 3.69200e+03, 3.31300e+03, 3.59400e+03, 3.20100e+03,\n",
       "        3.28900e+03, 3.36000e+03, 2.99200e+03, 2.78100e+03, 2.30200e+03,\n",
       "        2.34800e+03, 2.23600e+03, 1.98700e+03, 1.81000e+03, 1.65300e+03,\n",
       "        1.31800e+03, 1.16600e+03, 1.06700e+03, 8.30000e+02, 6.98000e+02,\n",
       "        5.56000e+02, 5.15000e+02, 4.77000e+02, 4.51000e+02, 3.95000e+02,\n",
       "        1.98000e+02, 1.68000e+02, 1.79000e+02, 9.70000e+01, 3.90000e+01,\n",
       "        4.60000e+01, 2.50000e+01, 1.60000e+01, 1.80000e+01, 1.70000e+01]),\n",
       " array([    0.    ,   442.6253,   885.2506,  1327.8759,  1770.5012,\n",
       "         2213.1265,  2655.7518,  3098.3771,  3541.0024,  3983.6277,\n",
       "         4426.253 ,  4868.8783,  5311.5036,  5754.1289,  6196.7542,\n",
       "         6639.3795,  7082.0048,  7524.6301,  7967.2554,  8409.8807,\n",
       "         8852.506 ,  9295.1313,  9737.7566, 10180.3819, 10623.0072,\n",
       "        11065.6325, 11508.2578, 11950.8831, 12393.5084, 12836.1337,\n",
       "        13278.759 , 13721.3843, 14164.0096, 14606.6349, 15049.2602,\n",
       "        15491.8855, 15934.5108, 16377.1361, 16819.7614, 17262.3867,\n",
       "        17705.012 , 18147.6373, 18590.2626, 19032.8879, 19475.5132,\n",
       "        19918.1385, 20360.7638, 20803.3891, 21246.0144, 21688.6397,\n",
       "        22131.265 , 22573.8903, 23016.5156, 23459.1409, 23901.7662,\n",
       "        24344.3915, 24787.0168, 25229.6421, 25672.2674, 26114.8927,\n",
       "        26557.518 , 27000.1433, 27442.7686, 27885.3939, 28328.0192,\n",
       "        28770.6445, 29213.2698, 29655.8951, 30098.5204, 30541.1457,\n",
       "        30983.771 , 31426.3963, 31869.0216, 32311.6469, 32754.2722,\n",
       "        33196.8975, 33639.5228, 34082.1481, 34524.7734, 34967.3987,\n",
       "        35410.024 , 35852.6493, 36295.2746, 36737.8999, 37180.5252,\n",
       "        37623.1505, 38065.7758, 38508.4011, 38951.0264, 39393.6517,\n",
       "        39836.277 , 40278.9023, 40721.5276, 41164.1529, 41606.7782,\n",
       "        42049.4035, 42492.0288, 42934.6541, 43377.2794, 43819.9047,\n",
       "        44262.53  ]),\n",
       " <BarContainer object of 100 artists>)"
      ]
     },
     "execution_count": 70,
     "metadata": {},
     "output_type": "execute_result"
    },
    {
     "data": {
      "image/png": "[encoded data removed]",
      "text/plain": [
       "<Figure size 720x720 with 1 Axes>"
      ]
     },
     "metadata": {
      "needs_background": "light"
     },
     "output_type": "display_data"
    }
   ],
   "source": [
    "plt.hist(df['affinity'],bins = 100)\n"
   ]
  },
  {
   "cell_type": "code",
   "execution_count": 19,
   "id": "f0f55fb6",
   "metadata": {},
   "outputs": [
    {
     "data": {
      "text/plain": [
       "True"
      ]
     },
     "execution_count": 19,
     "metadata": {},
     "output_type": "execute_result"
    }
   ],
   "source": [
    "#df = df.loc[check if NOT NaN ] \n",
    "#Check for NaN under a single DataFrame column: \n",
    "df['percentile_rank'].isnull().values.any()\n"
   ]
  },
  {
   "cell_type": "code",
   "execution_count": 20,
   "id": "8261bac5",
   "metadata": {},
   "outputs": [
    {
     "data": {
      "text/plain": [
       "627213"
      ]
     },
     "execution_count": 20,
     "metadata": {},
     "output_type": "execute_result"
    }
   ],
   "source": [
    "#Count the NaN under a single DataFrame column: \n",
    "df['percentile_rank'].isnull().sum()"
   ]
  },
  {
   "cell_type": "code",
   "execution_count": 21,
   "id": "97bc7fba",
   "metadata": {},
   "outputs": [
    {
     "data": {
      "text/html": [
       "<div>\n",
       "<style scoped>\n",
       "    .dataframe tbody tr th:only-of-type {\n",
       "        vertical-align: middle;\n",
       "    }\n",
       "\n",
       "    .dataframe tbody tr th {\n",
       "        vertical-align: top;\n",
       "    }\n",
       "\n",
       "    .dataframe thead th {\n",
       "        text-align: right;\n",
       "    }\n",
       "</style>\n",
       "<table border=\"1\" class=\"dataframe\">\n",
       "  <thead>\n",
       "    <tr style=\"text-align: right;\">\n",
       "      <th></th>\n",
       "      <th>&gt;pepID</th>\n",
       "      <th>jx_pos</th>\n",
       "      <th>between_codons</th>\n",
       "      <th>includes_5'</th>\n",
       "      <th>includes_3'</th>\n",
       "      <th>gene</th>\n",
       "      <th>jx_coord</th>\n",
       "      <th>kmer</th>\n",
       "      <th>readFrameAnnotated</th>\n",
       "      <th>junctionAnnotated</th>\n",
       "      <th>...</th>\n",
       "      <th>TCGAXXA89901A11RA36F07all</th>\n",
       "      <th>TCGAXXA89A01A11RA36F07all</th>\n",
       "      <th>TCGAZ7A8R501A42RA41B07all</th>\n",
       "      <th>TCGAZ7A8R601A11RA41B07all</th>\n",
       "      <th>isCrossJunction</th>\n",
       "      <th>junctionAnnotated_kmer</th>\n",
       "      <th>readFrameAnnotated_kmer</th>\n",
       "      <th>recurrence</th>\n",
       "      <th>spladder_GTEX_on_disk</th>\n",
       "      <th>strand_spladder</th>\n",
       "    </tr>\n",
       "  </thead>\n",
       "  <tbody>\n",
       "    <tr>\n",
       "      <th>0</th>\n",
       "      <td>False</td>\n",
       "      <td>False</td>\n",
       "      <td>False</td>\n",
       "      <td>False</td>\n",
       "      <td>False</td>\n",
       "      <td>False</td>\n",
       "      <td>False</td>\n",
       "      <td>False</td>\n",
       "      <td>False</td>\n",
       "      <td>False</td>\n",
       "      <td>...</td>\n",
       "      <td>False</td>\n",
       "      <td>False</td>\n",
       "      <td>False</td>\n",
       "      <td>False</td>\n",
       "      <td>False</td>\n",
       "      <td>False</td>\n",
       "      <td>False</td>\n",
       "      <td>False</td>\n",
       "      <td>False</td>\n",
       "      <td>False</td>\n",
       "    </tr>\n",
       "    <tr>\n",
       "      <th>1</th>\n",
       "      <td>False</td>\n",
       "      <td>False</td>\n",
       "      <td>False</td>\n",
       "      <td>False</td>\n",
       "      <td>False</td>\n",
       "      <td>False</td>\n",
       "      <td>False</td>\n",
       "      <td>False</td>\n",
       "      <td>False</td>\n",
       "      <td>False</td>\n",
       "      <td>...</td>\n",
       "      <td>False</td>\n",
       "      <td>False</td>\n",
       "      <td>False</td>\n",
       "      <td>False</td>\n",
       "      <td>False</td>\n",
       "      <td>False</td>\n",
       "      <td>False</td>\n",
       "      <td>False</td>\n",
       "      <td>True</td>\n",
       "      <td>True</td>\n",
       "    </tr>\n",
       "    <tr>\n",
       "      <th>2</th>\n",
       "      <td>False</td>\n",
       "      <td>False</td>\n",
       "      <td>False</td>\n",
       "      <td>False</td>\n",
       "      <td>False</td>\n",
       "      <td>False</td>\n",
       "      <td>False</td>\n",
       "      <td>False</td>\n",
       "      <td>False</td>\n",
       "      <td>False</td>\n",
       "      <td>...</td>\n",
       "      <td>False</td>\n",
       "      <td>False</td>\n",
       "      <td>False</td>\n",
       "      <td>False</td>\n",
       "      <td>False</td>\n",
       "      <td>False</td>\n",
       "      <td>False</td>\n",
       "      <td>False</td>\n",
       "      <td>False</td>\n",
       "      <td>False</td>\n",
       "    </tr>\n",
       "    <tr>\n",
       "      <th>3</th>\n",
       "      <td>False</td>\n",
       "      <td>False</td>\n",
       "      <td>False</td>\n",
       "      <td>False</td>\n",
       "      <td>False</td>\n",
       "      <td>False</td>\n",
       "      <td>False</td>\n",
       "      <td>False</td>\n",
       "      <td>False</td>\n",
       "      <td>False</td>\n",
       "      <td>...</td>\n",
       "      <td>False</td>\n",
       "      <td>False</td>\n",
       "      <td>False</td>\n",
       "      <td>False</td>\n",
       "      <td>False</td>\n",
       "      <td>False</td>\n",
       "      <td>False</td>\n",
       "      <td>False</td>\n",
       "      <td>False</td>\n",
       "      <td>False</td>\n",
       "    </tr>\n",
       "    <tr>\n",
       "      <th>4</th>\n",
       "      <td>False</td>\n",
       "      <td>False</td>\n",
       "      <td>False</td>\n",
       "      <td>False</td>\n",
       "      <td>False</td>\n",
       "      <td>False</td>\n",
       "      <td>False</td>\n",
       "      <td>False</td>\n",
       "      <td>False</td>\n",
       "      <td>False</td>\n",
       "      <td>...</td>\n",
       "      <td>False</td>\n",
       "      <td>False</td>\n",
       "      <td>False</td>\n",
       "      <td>False</td>\n",
       "      <td>False</td>\n",
       "      <td>False</td>\n",
       "      <td>False</td>\n",
       "      <td>False</td>\n",
       "      <td>False</td>\n",
       "      <td>False</td>\n",
       "    </tr>\n",
       "    <tr>\n",
       "      <th>...</th>\n",
       "      <td>...</td>\n",
       "      <td>...</td>\n",
       "      <td>...</td>\n",
       "      <td>...</td>\n",
       "      <td>...</td>\n",
       "      <td>...</td>\n",
       "      <td>...</td>\n",
       "      <td>...</td>\n",
       "      <td>...</td>\n",
       "      <td>...</td>\n",
       "      <td>...</td>\n",
       "      <td>...</td>\n",
       "      <td>...</td>\n",
       "      <td>...</td>\n",
       "      <td>...</td>\n",
       "      <td>...</td>\n",
       "      <td>...</td>\n",
       "      <td>...</td>\n",
       "      <td>...</td>\n",
       "      <td>...</td>\n",
       "      <td>...</td>\n",
       "    </tr>\n",
       "    <tr>\n",
       "      <th>913530</th>\n",
       "      <td>False</td>\n",
       "      <td>True</td>\n",
       "      <td>True</td>\n",
       "      <td>True</td>\n",
       "      <td>True</td>\n",
       "      <td>True</td>\n",
       "      <td>True</td>\n",
       "      <td>True</td>\n",
       "      <td>True</td>\n",
       "      <td>True</td>\n",
       "      <td>...</td>\n",
       "      <td>True</td>\n",
       "      <td>True</td>\n",
       "      <td>True</td>\n",
       "      <td>True</td>\n",
       "      <td>True</td>\n",
       "      <td>True</td>\n",
       "      <td>True</td>\n",
       "      <td>True</td>\n",
       "      <td>True</td>\n",
       "      <td>True</td>\n",
       "    </tr>\n",
       "    <tr>\n",
       "      <th>913531</th>\n",
       "      <td>False</td>\n",
       "      <td>True</td>\n",
       "      <td>True</td>\n",
       "      <td>True</td>\n",
       "      <td>True</td>\n",
       "      <td>True</td>\n",
       "      <td>True</td>\n",
       "      <td>True</td>\n",
       "      <td>True</td>\n",
       "      <td>True</td>\n",
       "      <td>...</td>\n",
       "      <td>True</td>\n",
       "      <td>True</td>\n",
       "      <td>True</td>\n",
       "      <td>True</td>\n",
       "      <td>True</td>\n",
       "      <td>True</td>\n",
       "      <td>True</td>\n",
       "      <td>True</td>\n",
       "      <td>True</td>\n",
       "      <td>True</td>\n",
       "    </tr>\n",
       "    <tr>\n",
       "      <th>913532</th>\n",
       "      <td>False</td>\n",
       "      <td>True</td>\n",
       "      <td>True</td>\n",
       "      <td>True</td>\n",
       "      <td>True</td>\n",
       "      <td>True</td>\n",
       "      <td>True</td>\n",
       "      <td>True</td>\n",
       "      <td>True</td>\n",
       "      <td>True</td>\n",
       "      <td>...</td>\n",
       "      <td>True</td>\n",
       "      <td>True</td>\n",
       "      <td>True</td>\n",
       "      <td>True</td>\n",
       "      <td>True</td>\n",
       "      <td>True</td>\n",
       "      <td>True</td>\n",
       "      <td>True</td>\n",
       "      <td>True</td>\n",
       "      <td>True</td>\n",
       "    </tr>\n",
       "    <tr>\n",
       "      <th>913533</th>\n",
       "      <td>False</td>\n",
       "      <td>True</td>\n",
       "      <td>True</td>\n",
       "      <td>True</td>\n",
       "      <td>True</td>\n",
       "      <td>True</td>\n",
       "      <td>True</td>\n",
       "      <td>True</td>\n",
       "      <td>True</td>\n",
       "      <td>True</td>\n",
       "      <td>...</td>\n",
       "      <td>True</td>\n",
       "      <td>True</td>\n",
       "      <td>True</td>\n",
       "      <td>True</td>\n",
       "      <td>True</td>\n",
       "      <td>True</td>\n",
       "      <td>True</td>\n",
       "      <td>True</td>\n",
       "      <td>True</td>\n",
       "      <td>True</td>\n",
       "    </tr>\n",
       "    <tr>\n",
       "      <th>913534</th>\n",
       "      <td>False</td>\n",
       "      <td>True</td>\n",
       "      <td>True</td>\n",
       "      <td>True</td>\n",
       "      <td>True</td>\n",
       "      <td>True</td>\n",
       "      <td>True</td>\n",
       "      <td>True</td>\n",
       "      <td>True</td>\n",
       "      <td>True</td>\n",
       "      <td>...</td>\n",
       "      <td>True</td>\n",
       "      <td>True</td>\n",
       "      <td>True</td>\n",
       "      <td>True</td>\n",
       "      <td>True</td>\n",
       "      <td>True</td>\n",
       "      <td>True</td>\n",
       "      <td>True</td>\n",
       "      <td>True</td>\n",
       "      <td>True</td>\n",
       "    </tr>\n",
       "  </tbody>\n",
       "</table>\n",
       "<p>913535 rows × 1126 columns</p>\n",
       "</div>"
      ],
      "text/plain": [
       "        >pepID  jx_pos  between_codons  includes_5'  includes_3'   gene  \\\n",
       "0        False   False           False        False        False  False   \n",
       "1        False   False           False        False        False  False   \n",
       "2        False   False           False        False        False  False   \n",
       "3        False   False           False        False        False  False   \n",
       "4        False   False           False        False        False  False   \n",
       "...        ...     ...             ...          ...          ...    ...   \n",
       "913530   False    True            True         True         True   True   \n",
       "913531   False    True            True         True         True   True   \n",
       "913532   False    True            True         True         True   True   \n",
       "913533   False    True            True         True         True   True   \n",
       "913534   False    True            True         True         True   True   \n",
       "\n",
       "        jx_coord   kmer  readFrameAnnotated  junctionAnnotated  ...  \\\n",
       "0          False  False               False              False  ...   \n",
       "1          False  False               False              False  ...   \n",
       "2          False  False               False              False  ...   \n",
       "3          False  False               False              False  ...   \n",
       "4          False  False               False              False  ...   \n",
       "...          ...    ...                 ...                ...  ...   \n",
       "913530      True   True                True               True  ...   \n",
       "913531      True   True                True               True  ...   \n",
       "913532      True   True                True               True  ...   \n",
       "913533      True   True                True               True  ...   \n",
       "913534      True   True                True               True  ...   \n",
       "\n",
       "        TCGAXXA89901A11RA36F07all  TCGAXXA89A01A11RA36F07all  \\\n",
       "0                           False                      False   \n",
       "1                           False                      False   \n",
       "2                           False                      False   \n",
       "3                           False                      False   \n",
       "4                           False                      False   \n",
       "...                           ...                        ...   \n",
       "913530                       True                       True   \n",
       "913531                       True                       True   \n",
       "913532                       True                       True   \n",
       "913533                       True                       True   \n",
       "913534                       True                       True   \n",
       "\n",
       "        TCGAZ7A8R501A42RA41B07all  TCGAZ7A8R601A11RA41B07all  isCrossJunction  \\\n",
       "0                           False                      False            False   \n",
       "1                           False                      False            False   \n",
       "2                           False                      False            False   \n",
       "3                           False                      False            False   \n",
       "4                           False                      False            False   \n",
       "...                           ...                        ...              ...   \n",
       "913530                       True                       True             True   \n",
       "913531                       True                       True             True   \n",
       "913532                       True                       True             True   \n",
       "913533                       True                       True             True   \n",
       "913534                       True                       True             True   \n",
       "\n",
       "        junctionAnnotated_kmer  readFrameAnnotated_kmer  recurrence  \\\n",
       "0                        False                    False       False   \n",
       "1                        False                    False       False   \n",
       "2                        False                    False       False   \n",
       "3                        False                    False       False   \n",
       "4                        False                    False       False   \n",
       "...                        ...                      ...         ...   \n",
       "913530                    True                     True        True   \n",
       "913531                    True                     True        True   \n",
       "913532                    True                     True        True   \n",
       "913533                    True                     True        True   \n",
       "913534                    True                     True        True   \n",
       "\n",
       "        spladder_GTEX_on_disk  strand_spladder  \n",
       "0                       False            False  \n",
       "1                        True             True  \n",
       "2                       False            False  \n",
       "3                       False            False  \n",
       "4                       False            False  \n",
       "...                       ...              ...  \n",
       "913530                   True             True  \n",
       "913531                   True             True  \n",
       "913532                   True             True  \n",
       "913533                   True             True  \n",
       "913534                   True             True  \n",
       "\n",
       "[913535 rows x 1126 columns]"
      ]
     },
     "execution_count": 21,
     "metadata": {},
     "output_type": "execute_result"
    }
   ],
   "source": [
    "#Tipp use “isna” function in pandas:\n",
    "df.isna() "
   ]
  },
  {
   "cell_type": "code",
   "execution_count": 22,
   "id": "a60d2ad5",
   "metadata": {},
   "outputs": [
    {
     "data": {
      "text/plain": [
       ">pepID                     False\n",
       "jx_pos                      True\n",
       "between_codons              True\n",
       "includes_5'                 True\n",
       "includes_3'                 True\n",
       "                           ...  \n",
       "junctionAnnotated_kmer      True\n",
       "readFrameAnnotated_kmer     True\n",
       "recurrence                  True\n",
       "spladder_GTEX_on_disk       True\n",
       "strand_spladder             True\n",
       "Length: 1126, dtype: bool"
      ]
     },
     "execution_count": 22,
     "metadata": {},
     "output_type": "execute_result"
    }
   ],
   "source": [
    "df.isna().any() #returns a boolean value for each column. \n",
    "#If there is at least one missing value in that column, the result is True."
   ]
  },
  {
   "cell_type": "code",
   "execution_count": 23,
   "id": "eaf3769f",
   "metadata": {},
   "outputs": [
    {
     "data": {
      "text/plain": [
       ">pepID                          0\n",
       "jx_pos                     612901\n",
       "between_codons             612901\n",
       "includes_5'                612901\n",
       "includes_3'                612901\n",
       "                            ...  \n",
       "junctionAnnotated_kmer     612901\n",
       "readFrameAnnotated_kmer    612901\n",
       "recurrence                 612901\n",
       "spladder_GTEX_on_disk      675797\n",
       "strand_spladder            675797\n",
       "Length: 1126, dtype: int64"
      ]
     },
     "execution_count": 23,
     "metadata": {},
     "output_type": "execute_result"
    }
   ],
   "source": [
    "df.isna().sum() #returns the number of missing values in each column."
   ]
  },
  {
   "cell_type": "code",
   "execution_count": 24,
   "id": "aecc1b69",
   "metadata": {},
   "outputs": [
    {
     "data": {
      "text/plain": [
       "True"
      ]
     },
     "execution_count": 24,
     "metadata": {},
     "output_type": "execute_result"
    }
   ],
   "source": [
    "#Check for NaN under an entire DataFrame: \n",
    "df.isnull().values.any()"
   ]
  },
  {
   "cell_type": "code",
   "execution_count": 25,
   "id": "f3f1b28c",
   "metadata": {},
   "outputs": [
    {
     "data": {
      "text/plain": [
       "\"\\nSteps to replace NaN values with 0:\\nFor one column using pandas: df['DataFrame Column'] = df['DataFrame Column'].fillna(0)\\nFor one column using numpy: df['DataFrame Column'] = df['DataFrame Column'].replace(np.nan, 0)\\nFor the whole DataFrame using pandas: df.fillna(0)\\nFor the whole DataFrame using numpy: df.replace(np.nan, 0)\\n\""
      ]
     },
     "execution_count": 25,
     "metadata": {},
     "output_type": "execute_result"
    }
   ],
   "source": [
    "'''\n",
    "Steps to replace NaN values with 0:\n",
    "For one column using pandas: df['DataFrame Column'] = df['DataFrame Column'].fillna(0)\n",
    "For one column using numpy: df['DataFrame Column'] = df['DataFrame Column'].replace(np.nan, 0)\n",
    "For the whole DataFrame using pandas: df.fillna(0)\n",
    "For the whole DataFrame using numpy: df.replace(np.nan, 0)\n",
    "'''"
   ]
  },
  {
   "cell_type": "code",
   "execution_count": 26,
   "id": "b41106af",
   "metadata": {},
   "outputs": [],
   "source": [
    "df['percentile_rank'] = df['percentile_rank'].fillna(0)"
   ]
  },
  {
   "cell_type": "code",
   "execution_count": 27,
   "id": "683d8adc",
   "metadata": {},
   "outputs": [
    {
     "data": {
      "text/plain": [
       "True"
      ]
     },
     "execution_count": 27,
     "metadata": {},
     "output_type": "execute_result"
    }
   ],
   "source": [
    "#Check for NaN under a single DataFrame column: \n",
    "df['affinity'].isnull().values.any()"
   ]
  },
  {
   "cell_type": "code",
   "execution_count": 28,
   "id": "34878661",
   "metadata": {},
   "outputs": [],
   "source": [
    "df['affinity'] = df['affinity'].fillna(0)"
   ]
  },
  {
   "cell_type": "code",
   "execution_count": 29,
   "id": "f3f57a98",
   "metadata": {},
   "outputs": [
    {
     "data": {
      "text/plain": [
       "0         17394.11\n",
       "1         17394.11\n",
       "2           115.36\n",
       "3          5876.76\n",
       "4          5876.76\n",
       "            ...   \n",
       "913530        0.00\n",
       "913531        0.00\n",
       "913532        0.00\n",
       "913533        0.00\n",
       "913534        0.00\n",
       "Name: affinity, Length: 913535, dtype: float64"
      ]
     },
     "execution_count": 29,
     "metadata": {},
     "output_type": "execute_result"
    }
   ],
   "source": [
    "df['affinity']"
   ]
  },
  {
   "cell_type": "code",
   "execution_count": 30,
   "id": "8182af49",
   "metadata": {},
   "outputs": [
    {
     "data": {
      "text/plain": [
       "array(['ENSG00000060339.14', 'ENSG00000119333.11', 'ENSG00000011304.20',\n",
       "       ..., 'ENSG00000008441.16', 'ENSG00000136381.13',\n",
       "       'ENSG00000091436.17'], dtype=object)"
      ]
     },
     "execution_count": 30,
     "metadata": {},
     "output_type": "execute_result"
    }
   ],
   "source": [
    "#Gene of origin -> TODO  count the number of genes of origins. \n",
    "#First try using the “unique” function in pandas, then try using the “groupby” function in pandas\n",
    "\n",
    "df['gene'] = df['gene'].fillna(0)\n",
    "\n",
    "df['gene'].unique()"
   ]
  },
  {
   "cell_type": "code",
   "execution_count": 31,
   "id": "c33f4c2f",
   "metadata": {},
   "outputs": [],
   "source": [
    "df['gene'] = df['gene'].replace(0, np.nan, inplace=True)"
   ]
  },
  {
   "cell_type": "code",
   "execution_count": 32,
   "id": "18fb619b",
   "metadata": {},
   "outputs": [
    {
     "data": {
      "text/plain": [
       "0"
      ]
     },
     "execution_count": 32,
     "metadata": {},
     "output_type": "execute_result"
    }
   ],
   "source": [
    "#count unique values in each column\n",
    "#df.nunique()\n",
    "\n",
    "#count unique values in each row\n",
    "#df.nunique(axis=1)\n",
    "\n",
    "df['gene'].nunique()"
   ]
  },
  {
   "cell_type": "code",
   "execution_count": 33,
   "id": "75841554",
   "metadata": {},
   "outputs": [
    {
     "data": {
      "text/html": [
       "<div>\n",
       "<style scoped>\n",
       "    .dataframe tbody tr th:only-of-type {\n",
       "        vertical-align: middle;\n",
       "    }\n",
       "\n",
       "    .dataframe tbody tr th {\n",
       "        vertical-align: top;\n",
       "    }\n",
       "\n",
       "    .dataframe thead th {\n",
       "        text-align: right;\n",
       "    }\n",
       "</style>\n",
       "<table border=\"1\" class=\"dataframe\">\n",
       "  <thead>\n",
       "    <tr style=\"text-align: right;\">\n",
       "      <th></th>\n",
       "      <th>&gt;pepID</th>\n",
       "      <th>jx_pos</th>\n",
       "      <th>between_codons</th>\n",
       "      <th>includes_5'</th>\n",
       "      <th>includes_3'</th>\n",
       "      <th>jx_coord</th>\n",
       "      <th>kmer</th>\n",
       "      <th>readFrameAnnotated</th>\n",
       "      <th>junctionAnnotated</th>\n",
       "      <th>origin</th>\n",
       "      <th>...</th>\n",
       "      <th>TCGAXXA89901A11RA36F07all</th>\n",
       "      <th>TCGAXXA89A01A11RA36F07all</th>\n",
       "      <th>TCGAZ7A8R501A42RA41B07all</th>\n",
       "      <th>TCGAZ7A8R601A11RA41B07all</th>\n",
       "      <th>isCrossJunction</th>\n",
       "      <th>junctionAnnotated_kmer</th>\n",
       "      <th>readFrameAnnotated_kmer</th>\n",
       "      <th>recurrence</th>\n",
       "      <th>spladder_GTEX_on_disk</th>\n",
       "      <th>strand_spladder</th>\n",
       "    </tr>\n",
       "    <tr>\n",
       "      <th>gene</th>\n",
       "      <th></th>\n",
       "      <th></th>\n",
       "      <th></th>\n",
       "      <th></th>\n",
       "      <th></th>\n",
       "      <th></th>\n",
       "      <th></th>\n",
       "      <th></th>\n",
       "      <th></th>\n",
       "      <th></th>\n",
       "      <th></th>\n",
       "      <th></th>\n",
       "      <th></th>\n",
       "      <th></th>\n",
       "      <th></th>\n",
       "      <th></th>\n",
       "      <th></th>\n",
       "      <th></th>\n",
       "      <th></th>\n",
       "      <th></th>\n",
       "      <th></th>\n",
       "    </tr>\n",
       "  </thead>\n",
       "  <tbody>\n",
       "  </tbody>\n",
       "</table>\n",
       "<p>0 rows × 1125 columns</p>\n",
       "</div>"
      ],
      "text/plain": [
       "Empty DataFrame\n",
       "Columns: [>pepID, jx_pos, between_codons, includes_5', includes_3', jx_coord, kmer, readFrameAnnotated, junctionAnnotated, origin, peptide, sample, percentile_rank, affinity, strand, GTEX_presence, index, TCGA3CAAAU01A11RA41B07all, TCGA3CAALI01A11RA41B07all, TCGA3CAALJ01A31RA41B07all, TCGA3CAALK01A11RA41B07all, TCGA4HAAAK01A12RA41B07all, TCGA5LAAT001A12RA41B07all, TCGA5LAAT101A12RA41B07all, TCGA5TA9QA01A11RA41B07all, TCGAA1A0SB01A11RA14407all, TCGAA1A0SD01A11RA11507all, TCGAA1A0SE01A11RA08407all, TCGAA1A0SF01A11RA14407all, TCGAA1A0SG01A11RA14407all, TCGAA1A0SH01A11RA08407all, TCGAA1A0SI01A11RA14407all, TCGAA1A0SJ01A11RA08407all, TCGAA1A0SK01A12RA08407all, TCGAA1A0SM01A11RA08407all, TCGAA1A0SN01A11RA14407all, TCGAA1A0SO01A22RA08407all, TCGAA1A0SP01A11RA08407all, TCGAA1A0SQ01A21RA14407all, TCGAA2A04N01A11RA11507all, TCGAA2A04P01A31RA03407all, TCGAA2A04Q01A21RA03407all, TCGAA2A04R01A41RA10907all, TCGAA2A04T01A21RA03407all, TCGAA2A04U01A11RA11507all, TCGAA2A04V01A21RA03407all, TCGAA2A04W01A31RA11507all, TCGAA2A04X01A21RA03407all, TCGAA2A04Y01A21RA03407all, TCGAA2A0CK01A11RA22K07all, TCGAA2A0CL01A11RA11507all, TCGAA2A0CM01A31RA03407all, TCGAA2A0CO01A13RA22K07all, TCGAA2A0CP01A11RA03407all, TCGAA2A0CQ01A21RA03407all, TCGAA2A0CR01A11RA22K07all, TCGAA2A0CS01A11RA11507all, TCGAA2A0CT01A31RA05607all, TCGAA2A0CU01A12RA03407all, TCGAA2A0CV01A31RA11507all, TCGAA2A0CW01A21RA11507all, TCGAA2A0CX01A21RA00Z07all, TCGAA2A0CY01A12RA03407all, TCGAA2A0CZ01A11RA03407all, TCGAA2A0D001A11RA00Z07all, TCGAA2A0D101A11RA03407all, TCGAA2A0D201A21RA03407all, TCGAA2A0D301A11RA11507all, TCGAA2A0D401A11RA00Z07all, TCGAA2A0EM01A11RA03407all, TCGAA2A0EN01A13RA08407all, TCGAA2A0EO01A11RA03407all, TCGAA2A0EP01A52RA22U07all, TCGAA2A0EQ01A11RA03407all, TCGAA2A0ER01A21RA03407all, TCGAA2A0ES01A11RA11507all, TCGAA2A0ET01A31RA03407all, TCGAA2A0EU01A22RA05607all, TCGAA2A0EV01A11RA03407all, TCGAA2A0EW01A21RA11507all, TCGAA2A0EX01A21RA03407all, TCGAA2A0EY01A11RA03407all, TCGAA2A0ST01A12RA08407all, TCGAA2A0SU01A11RA08407all, TCGAA2A0SV01A11RA08407all, TCGAA2A0SW01A11RA08407all, TCGAA2A0SX01A12RA08407all, TCGAA2A0SY01A31RA08407all, TCGAA2A0T001A22RA08407all, TCGAA2A0T101A21RA08407all, TCGAA2A0T201A11RA08407all, TCGAA2A0T301A21RA11507all, TCGAA2A0T401A31RA08407all, TCGAA2A0T501A21RA08407all, TCGAA2A0T601A11RA08407all, TCGAA2A0T701A21RA08407all, TCGAA2A0YC01A11RA10907all, TCGAA2A0YD01A11RA10907all, TCGAA2A0YE01A11RA10907all, TCGAA2A0YF01A21RA10907all, ...]\n",
       "Index: []\n",
       "\n",
       "[0 rows x 1125 columns]"
      ]
     },
     "execution_count": 33,
     "metadata": {},
     "output_type": "execute_result"
    }
   ],
   "source": [
    "#Pandas groupby is used for grouping the data according to the categories and apply a function to the categories. \n",
    "#It also helps to aggregate data efficiently. \n",
    "#Pandas dataframe. groupby() function is used to split the data into groups based on some criteria.\n",
    "gk = df.groupby('gene')\n",
    "gk.first()\n"
   ]
  },
  {
   "cell_type": "code",
   "execution_count": 34,
   "id": "0e1eb545",
   "metadata": {},
   "outputs": [
    {
     "data": {
      "text/html": [
       "<div>\n",
       "<style scoped>\n",
       "    .dataframe tbody tr th:only-of-type {\n",
       "        vertical-align: middle;\n",
       "    }\n",
       "\n",
       "    .dataframe tbody tr th {\n",
       "        vertical-align: top;\n",
       "    }\n",
       "\n",
       "    .dataframe thead th {\n",
       "        text-align: right;\n",
       "    }\n",
       "</style>\n",
       "<table border=\"1\" class=\"dataframe\">\n",
       "  <thead>\n",
       "    <tr style=\"text-align: right;\">\n",
       "      <th></th>\n",
       "      <th>&gt;pepID</th>\n",
       "      <th>jx_pos</th>\n",
       "      <th>between_codons</th>\n",
       "      <th>includes_5'</th>\n",
       "      <th>includes_3'</th>\n",
       "      <th>percentile_rank</th>\n",
       "      <th>affinity</th>\n",
       "      <th>GTEX_presence</th>\n",
       "      <th>index</th>\n",
       "      <th>TCGA3CAAAU01A11RA41B07all</th>\n",
       "      <th>...</th>\n",
       "      <th>TCGAWTAB4101A11RA41B07all</th>\n",
       "      <th>TCGAWTAB4401A11RA41B07all</th>\n",
       "      <th>TCGAXXA89901A11RA36F07all</th>\n",
       "      <th>TCGAXXA89A01A11RA36F07all</th>\n",
       "      <th>TCGAZ7A8R501A42RA41B07all</th>\n",
       "      <th>TCGAZ7A8R601A11RA41B07all</th>\n",
       "      <th>junctionAnnotated_kmer</th>\n",
       "      <th>readFrameAnnotated_kmer</th>\n",
       "      <th>recurrence</th>\n",
       "      <th>spladder_GTEX_on_disk</th>\n",
       "    </tr>\n",
       "    <tr>\n",
       "      <th>gene</th>\n",
       "      <th></th>\n",
       "      <th></th>\n",
       "      <th></th>\n",
       "      <th></th>\n",
       "      <th></th>\n",
       "      <th></th>\n",
       "      <th></th>\n",
       "      <th></th>\n",
       "      <th></th>\n",
       "      <th></th>\n",
       "      <th></th>\n",
       "      <th></th>\n",
       "      <th></th>\n",
       "      <th></th>\n",
       "      <th></th>\n",
       "      <th></th>\n",
       "      <th></th>\n",
       "      <th></th>\n",
       "      <th></th>\n",
       "      <th></th>\n",
       "      <th></th>\n",
       "    </tr>\n",
       "  </thead>\n",
       "  <tbody>\n",
       "  </tbody>\n",
       "</table>\n",
       "<p>0 rows × 1115 columns</p>\n",
       "</div>"
      ],
      "text/plain": [
       "Empty DataFrame\n",
       "Columns: [>pepID, jx_pos, between_codons, includes_5', includes_3', percentile_rank, affinity, GTEX_presence, index, TCGA3CAAAU01A11RA41B07all, TCGA3CAALI01A11RA41B07all, TCGA3CAALJ01A31RA41B07all, TCGA3CAALK01A11RA41B07all, TCGA4HAAAK01A12RA41B07all, TCGA5LAAT001A12RA41B07all, TCGA5LAAT101A12RA41B07all, TCGA5TA9QA01A11RA41B07all, TCGAA1A0SB01A11RA14407all, TCGAA1A0SD01A11RA11507all, TCGAA1A0SE01A11RA08407all, TCGAA1A0SF01A11RA14407all, TCGAA1A0SG01A11RA14407all, TCGAA1A0SH01A11RA08407all, TCGAA1A0SI01A11RA14407all, TCGAA1A0SJ01A11RA08407all, TCGAA1A0SK01A12RA08407all, TCGAA1A0SM01A11RA08407all, TCGAA1A0SN01A11RA14407all, TCGAA1A0SO01A22RA08407all, TCGAA1A0SP01A11RA08407all, TCGAA1A0SQ01A21RA14407all, TCGAA2A04N01A11RA11507all, TCGAA2A04P01A31RA03407all, TCGAA2A04Q01A21RA03407all, TCGAA2A04R01A41RA10907all, TCGAA2A04T01A21RA03407all, TCGAA2A04U01A11RA11507all, TCGAA2A04V01A21RA03407all, TCGAA2A04W01A31RA11507all, TCGAA2A04X01A21RA03407all, TCGAA2A04Y01A21RA03407all, TCGAA2A0CK01A11RA22K07all, TCGAA2A0CL01A11RA11507all, TCGAA2A0CM01A31RA03407all, TCGAA2A0CO01A13RA22K07all, TCGAA2A0CP01A11RA03407all, TCGAA2A0CQ01A21RA03407all, TCGAA2A0CR01A11RA22K07all, TCGAA2A0CS01A11RA11507all, TCGAA2A0CT01A31RA05607all, TCGAA2A0CU01A12RA03407all, TCGAA2A0CV01A31RA11507all, TCGAA2A0CW01A21RA11507all, TCGAA2A0CX01A21RA00Z07all, TCGAA2A0CY01A12RA03407all, TCGAA2A0CZ01A11RA03407all, TCGAA2A0D001A11RA00Z07all, TCGAA2A0D101A11RA03407all, TCGAA2A0D201A21RA03407all, TCGAA2A0D301A11RA11507all, TCGAA2A0D401A11RA00Z07all, TCGAA2A0EM01A11RA03407all, TCGAA2A0EN01A13RA08407all, TCGAA2A0EO01A11RA03407all, TCGAA2A0EP01A52RA22U07all, TCGAA2A0EQ01A11RA03407all, TCGAA2A0ER01A21RA03407all, TCGAA2A0ES01A11RA11507all, TCGAA2A0ET01A31RA03407all, TCGAA2A0EU01A22RA05607all, TCGAA2A0EV01A11RA03407all, TCGAA2A0EW01A21RA11507all, TCGAA2A0EX01A21RA03407all, TCGAA2A0EY01A11RA03407all, TCGAA2A0ST01A12RA08407all, TCGAA2A0SU01A11RA08407all, TCGAA2A0SV01A11RA08407all, TCGAA2A0SW01A11RA08407all, TCGAA2A0SX01A12RA08407all, TCGAA2A0SY01A31RA08407all, TCGAA2A0T001A22RA08407all, TCGAA2A0T101A21RA08407all, TCGAA2A0T201A11RA08407all, TCGAA2A0T301A21RA11507all, TCGAA2A0T401A31RA08407all, TCGAA2A0T501A21RA08407all, TCGAA2A0T601A11RA08407all, TCGAA2A0T701A21RA08407all, TCGAA2A0YC01A11RA10907all, TCGAA2A0YD01A11RA10907all, TCGAA2A0YE01A11RA10907all, TCGAA2A0YF01A21RA10907all, TCGAA2A0YG01A21RA10907all, TCGAA2A0YH01A11RA10907all, TCGAA2A0YI01A31RA10J07all, TCGAA2A0YJ01A11RA10907all, TCGAA2A0YK01A22RA10907all, TCGAA2A0YL01A21RA10907all, TCGAA2A0YM01A11RA10907all, TCGAA2A0YT01A11RA10907all, ...]\n",
       "Index: []\n",
       "\n",
       "[0 rows x 1115 columns]"
      ]
     },
     "execution_count": 34,
     "metadata": {},
     "output_type": "execute_result"
    }
   ],
   "source": [
    "df.groupby(['gene']).mean()"
   ]
  },
  {
   "cell_type": "code",
   "execution_count": 56,
   "id": "bc145a66",
   "metadata": {},
   "outputs": [],
   "source": [
    "df['jx_coord'].unique()\n",
    "#len(df['jx_coord'].unique())\n",
    "df['jx_coord'].unique().shape\n",
    "#store in the new variable:\n",
    "testarray = df['jx_coord'].unique()"
   ]
  },
  {
   "cell_type": "code",
   "execution_count": 36,
   "id": "0070608f",
   "metadata": {},
   "outputs": [
    {
     "data": {
      "text/plain": [
       "7"
      ]
     },
     "execution_count": 36,
     "metadata": {},
     "output_type": "execute_result"
    }
   ],
   "source": [
    "#len() method:\n",
    "#The len() function returns the number of items in an object.\n",
    "#Syntax: mylist = [\"apple\", \"banana\", \"cherry\"]\n",
    "#x = len(mylist)\n",
    "# When the object is a string, the len() function returns the number of characters in the string.\n",
    "\n",
    "#shape() method:\n",
    "#With the shape() method, comes the flexibility to obtain the dimensions of any Python object. \n",
    "#Yes, it returns a tuple value that indicates the dimensions of a Python object.\n",
    "#Syntax: dataframe.shape\n",
    "'''NumPy shape method\n",
    "\n",
    "With NumPy data structure, we store data elements in the form of an array. When we associate the shape() method with the NumPy array, the dimensions of the array are represented in the form of a tuple.\n",
    "\n",
    "Syntax:\n",
    "\n",
    "array.shape\n",
    "Copy\n",
    "Example 01:\n",
    "\n",
    "Here, we have created a NumPy array with no dimensions. Further, we have applied the shape() method on the array to get the dimensions of the created array.\n",
    "\n",
    "import numpy as np\n",
    "\n",
    "ar = np.array(0)\n",
    "\n",
    "print(ar)\n",
    "print(\"Shape of the array:\")\n",
    "print(ar.shape)'''\n",
    "\n",
    "import numpy as np\n",
    "x = np.array(['68737048_68742427', '68742430_68742487', '128640690_128637027',\n",
    "       ..., '141053665_141045706', '78337817_78354765',\n",
    "       '137051210_137049989'], dtype=object)\n",
    "len(x)"
   ]
  },
  {
   "cell_type": "code",
   "execution_count": 37,
   "id": "ac48adad",
   "metadata": {},
   "outputs": [
    {
     "data": {
      "text/plain": [
       "9802"
      ]
     },
     "execution_count": 37,
     "metadata": {},
     "output_type": "execute_result"
    }
   ],
   "source": [
    "df['jx_coord'].nunique()"
   ]
  },
  {
   "cell_type": "code",
   "execution_count": 58,
   "id": "d9e766da",
   "metadata": {},
   "outputs": [
    {
     "data": {
      "text/html": [
       "<div>\n",
       "<style scoped>\n",
       "    .dataframe tbody tr th:only-of-type {\n",
       "        vertical-align: middle;\n",
       "    }\n",
       "\n",
       "    .dataframe tbody tr th {\n",
       "        vertical-align: top;\n",
       "    }\n",
       "\n",
       "    .dataframe thead th {\n",
       "        text-align: right;\n",
       "    }\n",
       "</style>\n",
       "<table border=\"1\" class=\"dataframe\">\n",
       "  <thead>\n",
       "    <tr style=\"text-align: right;\">\n",
       "      <th></th>\n",
       "      <th>&gt;pepID</th>\n",
       "      <th>jx_pos</th>\n",
       "      <th>between_codons</th>\n",
       "      <th>includes_5'</th>\n",
       "      <th>includes_3'</th>\n",
       "      <th>percentile_rank</th>\n",
       "      <th>affinity</th>\n",
       "      <th>GTEX_presence</th>\n",
       "      <th>index</th>\n",
       "      <th>TCGA3CAAAU01A11RA41B07all</th>\n",
       "      <th>...</th>\n",
       "      <th>TCGAWTAB4101A11RA41B07all</th>\n",
       "      <th>TCGAWTAB4401A11RA41B07all</th>\n",
       "      <th>TCGAXXA89901A11RA36F07all</th>\n",
       "      <th>TCGAXXA89A01A11RA36F07all</th>\n",
       "      <th>TCGAZ7A8R501A42RA41B07all</th>\n",
       "      <th>TCGAZ7A8R601A11RA41B07all</th>\n",
       "      <th>junctionAnnotated_kmer</th>\n",
       "      <th>readFrameAnnotated_kmer</th>\n",
       "      <th>recurrence</th>\n",
       "      <th>spladder_GTEX_on_disk</th>\n",
       "    </tr>\n",
       "    <tr>\n",
       "      <th>jx_coord</th>\n",
       "      <th></th>\n",
       "      <th></th>\n",
       "      <th></th>\n",
       "      <th></th>\n",
       "      <th></th>\n",
       "      <th></th>\n",
       "      <th></th>\n",
       "      <th></th>\n",
       "      <th></th>\n",
       "      <th></th>\n",
       "      <th></th>\n",
       "      <th></th>\n",
       "      <th></th>\n",
       "      <th></th>\n",
       "      <th></th>\n",
       "      <th></th>\n",
       "      <th></th>\n",
       "      <th></th>\n",
       "      <th></th>\n",
       "      <th></th>\n",
       "      <th></th>\n",
       "    </tr>\n",
       "  </thead>\n",
       "  <tbody>\n",
       "    <tr>\n",
       "      <th>100030375_100033304</th>\n",
       "      <td>30583.161290</td>\n",
       "      <td>42.000000</td>\n",
       "      <td>0.0</td>\n",
       "      <td>0.0</td>\n",
       "      <td>1.000000</td>\n",
       "      <td>28.156129</td>\n",
       "      <td>25733.640645</td>\n",
       "      <td>1.0</td>\n",
       "      <td>2.129032</td>\n",
       "      <td>21.774194</td>\n",
       "      <td>...</td>\n",
       "      <td>0.000000</td>\n",
       "      <td>0.483871</td>\n",
       "      <td>6.935484</td>\n",
       "      <td>4.032258</td>\n",
       "      <td>0.000000</td>\n",
       "      <td>1.612903</td>\n",
       "      <td>1.000000</td>\n",
       "      <td>0.0</td>\n",
       "      <td>173.096774</td>\n",
       "      <td>1.0</td>\n",
       "    </tr>\n",
       "    <tr>\n",
       "      <th>100033316_100033364</th>\n",
       "      <td>36238.923077</td>\n",
       "      <td>47.000000</td>\n",
       "      <td>0.0</td>\n",
       "      <td>0.0</td>\n",
       "      <td>1.000000</td>\n",
       "      <td>27.340000</td>\n",
       "      <td>25032.346538</td>\n",
       "      <td>0.0</td>\n",
       "      <td>2.538462</td>\n",
       "      <td>0.000000</td>\n",
       "      <td>...</td>\n",
       "      <td>0.000000</td>\n",
       "      <td>0.000000</td>\n",
       "      <td>0.000000</td>\n",
       "      <td>0.000000</td>\n",
       "      <td>0.000000</td>\n",
       "      <td>0.000000</td>\n",
       "      <td>1.000000</td>\n",
       "      <td>0.0</td>\n",
       "      <td>1.000000</td>\n",
       "      <td>NaN</td>\n",
       "    </tr>\n",
       "    <tr>\n",
       "      <th>1000469_997804</th>\n",
       "      <td>21378.153846</td>\n",
       "      <td>26.000000</td>\n",
       "      <td>1.0</td>\n",
       "      <td>0.0</td>\n",
       "      <td>0.769231</td>\n",
       "      <td>19.807692</td>\n",
       "      <td>26889.505385</td>\n",
       "      <td>1.0</td>\n",
       "      <td>0.461538</td>\n",
       "      <td>113.076923</td>\n",
       "      <td>...</td>\n",
       "      <td>106.615385</td>\n",
       "      <td>59.769231</td>\n",
       "      <td>101.230769</td>\n",
       "      <td>120.076923</td>\n",
       "      <td>136.230769</td>\n",
       "      <td>149.692308</td>\n",
       "      <td>1.000000</td>\n",
       "      <td>0.0</td>\n",
       "      <td>593.846154</td>\n",
       "      <td>1.0</td>\n",
       "    </tr>\n",
       "    <tr>\n",
       "      <th>100073101_100084686</th>\n",
       "      <td>54587.363636</td>\n",
       "      <td>29.000000</td>\n",
       "      <td>0.0</td>\n",
       "      <td>0.0</td>\n",
       "      <td>1.000000</td>\n",
       "      <td>0.000000</td>\n",
       "      <td>0.000000</td>\n",
       "      <td>1.0</td>\n",
       "      <td>40.818182</td>\n",
       "      <td>0.000000</td>\n",
       "      <td>...</td>\n",
       "      <td>0.000000</td>\n",
       "      <td>0.000000</td>\n",
       "      <td>0.000000</td>\n",
       "      <td>0.000000</td>\n",
       "      <td>0.000000</td>\n",
       "      <td>0.000000</td>\n",
       "      <td>0.000000</td>\n",
       "      <td>0.0</td>\n",
       "      <td>119.000000</td>\n",
       "      <td>1.0</td>\n",
       "    </tr>\n",
       "    <tr>\n",
       "      <th>10008274_10015781</th>\n",
       "      <td>36692.600000</td>\n",
       "      <td>33.000000</td>\n",
       "      <td>1.0</td>\n",
       "      <td>0.0</td>\n",
       "      <td>0.000000</td>\n",
       "      <td>4.920000</td>\n",
       "      <td>5844.450000</td>\n",
       "      <td>1.0</td>\n",
       "      <td>0.000000</td>\n",
       "      <td>54.000000</td>\n",
       "      <td>...</td>\n",
       "      <td>187.000000</td>\n",
       "      <td>74.000000</td>\n",
       "      <td>117.000000</td>\n",
       "      <td>200.000000</td>\n",
       "      <td>114.000000</td>\n",
       "      <td>65.000000</td>\n",
       "      <td>1.000000</td>\n",
       "      <td>0.0</td>\n",
       "      <td>1098.000000</td>\n",
       "      <td>1.0</td>\n",
       "    </tr>\n",
       "    <tr>\n",
       "      <th>...</th>\n",
       "      <td>...</td>\n",
       "      <td>...</td>\n",
       "      <td>...</td>\n",
       "      <td>...</td>\n",
       "      <td>...</td>\n",
       "      <td>...</td>\n",
       "      <td>...</td>\n",
       "      <td>...</td>\n",
       "      <td>...</td>\n",
       "      <td>...</td>\n",
       "      <td>...</td>\n",
       "      <td>...</td>\n",
       "      <td>...</td>\n",
       "      <td>...</td>\n",
       "      <td>...</td>\n",
       "      <td>...</td>\n",
       "      <td>...</td>\n",
       "      <td>...</td>\n",
       "      <td>...</td>\n",
       "      <td>...</td>\n",
       "      <td>...</td>\n",
       "    </tr>\n",
       "    <tr>\n",
       "      <th>99971826_99971771</th>\n",
       "      <td>80312.358974</td>\n",
       "      <td>57.051282</td>\n",
       "      <td>0.0</td>\n",
       "      <td>0.0</td>\n",
       "      <td>1.000000</td>\n",
       "      <td>4.656410</td>\n",
       "      <td>9224.486410</td>\n",
       "      <td>0.0</td>\n",
       "      <td>26.128205</td>\n",
       "      <td>1924.615385</td>\n",
       "      <td>...</td>\n",
       "      <td>583.717949</td>\n",
       "      <td>342.076923</td>\n",
       "      <td>698.153846</td>\n",
       "      <td>592.564103</td>\n",
       "      <td>1478.769231</td>\n",
       "      <td>837.487179</td>\n",
       "      <td>0.410256</td>\n",
       "      <td>1.0</td>\n",
       "      <td>979.230769</td>\n",
       "      <td>NaN</td>\n",
       "    </tr>\n",
       "    <tr>\n",
       "      <th>99971986_99971815</th>\n",
       "      <td>23435.800000</td>\n",
       "      <td>30.320000</td>\n",
       "      <td>1.0</td>\n",
       "      <td>0.0</td>\n",
       "      <td>0.680000</td>\n",
       "      <td>2.740000</td>\n",
       "      <td>3334.652800</td>\n",
       "      <td>0.0</td>\n",
       "      <td>1.000000</td>\n",
       "      <td>0.000000</td>\n",
       "      <td>...</td>\n",
       "      <td>0.000000</td>\n",
       "      <td>0.000000</td>\n",
       "      <td>0.000000</td>\n",
       "      <td>0.000000</td>\n",
       "      <td>0.000000</td>\n",
       "      <td>0.000000</td>\n",
       "      <td>1.000000</td>\n",
       "      <td>1.0</td>\n",
       "      <td>2.000000</td>\n",
       "      <td>NaN</td>\n",
       "    </tr>\n",
       "    <tr>\n",
       "      <th>99975944_99968430</th>\n",
       "      <td>21766.333333</td>\n",
       "      <td>23.500000</td>\n",
       "      <td>0.0</td>\n",
       "      <td>0.0</td>\n",
       "      <td>0.666667</td>\n",
       "      <td>11.479167</td>\n",
       "      <td>16880.840833</td>\n",
       "      <td>1.0</td>\n",
       "      <td>6.500000</td>\n",
       "      <td>1.375000</td>\n",
       "      <td>...</td>\n",
       "      <td>0.000000</td>\n",
       "      <td>0.000000</td>\n",
       "      <td>0.000000</td>\n",
       "      <td>0.000000</td>\n",
       "      <td>0.000000</td>\n",
       "      <td>0.125000</td>\n",
       "      <td>0.875000</td>\n",
       "      <td>1.0</td>\n",
       "      <td>47.250000</td>\n",
       "      <td>1.0</td>\n",
       "    </tr>\n",
       "    <tr>\n",
       "      <th>99975944_99972006</th>\n",
       "      <td>16207.591837</td>\n",
       "      <td>23.408163</td>\n",
       "      <td>0.0</td>\n",
       "      <td>0.0</td>\n",
       "      <td>0.693878</td>\n",
       "      <td>17.234694</td>\n",
       "      <td>16855.457755</td>\n",
       "      <td>1.0</td>\n",
       "      <td>0.510204</td>\n",
       "      <td>1059.918367</td>\n",
       "      <td>...</td>\n",
       "      <td>170.448980</td>\n",
       "      <td>112.653061</td>\n",
       "      <td>378.122449</td>\n",
       "      <td>316.408163</td>\n",
       "      <td>549.061224</td>\n",
       "      <td>421.714286</td>\n",
       "      <td>1.000000</td>\n",
       "      <td>1.0</td>\n",
       "      <td>538.326531</td>\n",
       "      <td>1.0</td>\n",
       "    </tr>\n",
       "    <tr>\n",
       "      <th>99985672_99985865</th>\n",
       "      <td>60469.800000</td>\n",
       "      <td>43.000000</td>\n",
       "      <td>0.0</td>\n",
       "      <td>0.0</td>\n",
       "      <td>0.000000</td>\n",
       "      <td>14.414000</td>\n",
       "      <td>21221.188000</td>\n",
       "      <td>1.0</td>\n",
       "      <td>2.000000</td>\n",
       "      <td>0.000000</td>\n",
       "      <td>...</td>\n",
       "      <td>0.000000</td>\n",
       "      <td>0.000000</td>\n",
       "      <td>1.000000</td>\n",
       "      <td>0.000000</td>\n",
       "      <td>0.000000</td>\n",
       "      <td>0.000000</td>\n",
       "      <td>0.000000</td>\n",
       "      <td>0.0</td>\n",
       "      <td>141.000000</td>\n",
       "      <td>1.0</td>\n",
       "    </tr>\n",
       "  </tbody>\n",
       "</table>\n",
       "<p>9802 rows × 1115 columns</p>\n",
       "</div>"
      ],
      "text/plain": [
       "                           >pepID     jx_pos  between_codons  includes_5'  \\\n",
       "jx_coord                                                                    \n",
       "100030375_100033304  30583.161290  42.000000             0.0          0.0   \n",
       "100033316_100033364  36238.923077  47.000000             0.0          0.0   \n",
       "1000469_997804       21378.153846  26.000000             1.0          0.0   \n",
       "100073101_100084686  54587.363636  29.000000             0.0          0.0   \n",
       "10008274_10015781    36692.600000  33.000000             1.0          0.0   \n",
       "...                           ...        ...             ...          ...   \n",
       "99971826_99971771    80312.358974  57.051282             0.0          0.0   \n",
       "99971986_99971815    23435.800000  30.320000             1.0          0.0   \n",
       "99975944_99968430    21766.333333  23.500000             0.0          0.0   \n",
       "99975944_99972006    16207.591837  23.408163             0.0          0.0   \n",
       "99985672_99985865    60469.800000  43.000000             0.0          0.0   \n",
       "\n",
       "                     includes_3'  percentile_rank      affinity  \\\n",
       "jx_coord                                                          \n",
       "100030375_100033304     1.000000        28.156129  25733.640645   \n",
       "100033316_100033364     1.000000        27.340000  25032.346538   \n",
       "1000469_997804          0.769231        19.807692  26889.505385   \n",
       "100073101_100084686     1.000000         0.000000      0.000000   \n",
       "10008274_10015781       0.000000         4.920000   5844.450000   \n",
       "...                          ...              ...           ...   \n",
       "99971826_99971771       1.000000         4.656410   9224.486410   \n",
       "99971986_99971815       0.680000         2.740000   3334.652800   \n",
       "99975944_99968430       0.666667        11.479167  16880.840833   \n",
       "99975944_99972006       0.693878        17.234694  16855.457755   \n",
       "99985672_99985865       0.000000        14.414000  21221.188000   \n",
       "\n",
       "                     GTEX_presence      index  TCGA3CAAAU01A11RA41B07all  ...  \\\n",
       "jx_coord                                                                  ...   \n",
       "100030375_100033304            1.0   2.129032                  21.774194  ...   \n",
       "100033316_100033364            0.0   2.538462                   0.000000  ...   \n",
       "1000469_997804                 1.0   0.461538                 113.076923  ...   \n",
       "100073101_100084686            1.0  40.818182                   0.000000  ...   \n",
       "10008274_10015781              1.0   0.000000                  54.000000  ...   \n",
       "...                            ...        ...                        ...  ...   \n",
       "99971826_99971771              0.0  26.128205                1924.615385  ...   \n",
       "99971986_99971815              0.0   1.000000                   0.000000  ...   \n",
       "99975944_99968430              1.0   6.500000                   1.375000  ...   \n",
       "99975944_99972006              1.0   0.510204                1059.918367  ...   \n",
       "99985672_99985865              1.0   2.000000                   0.000000  ...   \n",
       "\n",
       "                     TCGAWTAB4101A11RA41B07all  TCGAWTAB4401A11RA41B07all  \\\n",
       "jx_coord                                                                    \n",
       "100030375_100033304                   0.000000                   0.483871   \n",
       "100033316_100033364                   0.000000                   0.000000   \n",
       "1000469_997804                      106.615385                  59.769231   \n",
       "100073101_100084686                   0.000000                   0.000000   \n",
       "10008274_10015781                   187.000000                  74.000000   \n",
       "...                                        ...                        ...   \n",
       "99971826_99971771                   583.717949                 342.076923   \n",
       "99971986_99971815                     0.000000                   0.000000   \n",
       "99975944_99968430                     0.000000                   0.000000   \n",
       "99975944_99972006                   170.448980                 112.653061   \n",
       "99985672_99985865                     0.000000                   0.000000   \n",
       "\n",
       "                     TCGAXXA89901A11RA36F07all  TCGAXXA89A01A11RA36F07all  \\\n",
       "jx_coord                                                                    \n",
       "100030375_100033304                   6.935484                   4.032258   \n",
       "100033316_100033364                   0.000000                   0.000000   \n",
       "1000469_997804                      101.230769                 120.076923   \n",
       "100073101_100084686                   0.000000                   0.000000   \n",
       "10008274_10015781                   117.000000                 200.000000   \n",
       "...                                        ...                        ...   \n",
       "99971826_99971771                   698.153846                 592.564103   \n",
       "99971986_99971815                     0.000000                   0.000000   \n",
       "99975944_99968430                     0.000000                   0.000000   \n",
       "99975944_99972006                   378.122449                 316.408163   \n",
       "99985672_99985865                     1.000000                   0.000000   \n",
       "\n",
       "                     TCGAZ7A8R501A42RA41B07all  TCGAZ7A8R601A11RA41B07all  \\\n",
       "jx_coord                                                                    \n",
       "100030375_100033304                   0.000000                   1.612903   \n",
       "100033316_100033364                   0.000000                   0.000000   \n",
       "1000469_997804                      136.230769                 149.692308   \n",
       "100073101_100084686                   0.000000                   0.000000   \n",
       "10008274_10015781                   114.000000                  65.000000   \n",
       "...                                        ...                        ...   \n",
       "99971826_99971771                  1478.769231                 837.487179   \n",
       "99971986_99971815                     0.000000                   0.000000   \n",
       "99975944_99968430                     0.000000                   0.125000   \n",
       "99975944_99972006                   549.061224                 421.714286   \n",
       "99985672_99985865                     0.000000                   0.000000   \n",
       "\n",
       "                     junctionAnnotated_kmer  readFrameAnnotated_kmer  \\\n",
       "jx_coord                                                               \n",
       "100030375_100033304                1.000000                      0.0   \n",
       "100033316_100033364                1.000000                      0.0   \n",
       "1000469_997804                     1.000000                      0.0   \n",
       "100073101_100084686                0.000000                      0.0   \n",
       "10008274_10015781                  1.000000                      0.0   \n",
       "...                                     ...                      ...   \n",
       "99971826_99971771                  0.410256                      1.0   \n",
       "99971986_99971815                  1.000000                      1.0   \n",
       "99975944_99968430                  0.875000                      1.0   \n",
       "99975944_99972006                  1.000000                      1.0   \n",
       "99985672_99985865                  0.000000                      0.0   \n",
       "\n",
       "                      recurrence  spladder_GTEX_on_disk  \n",
       "jx_coord                                                 \n",
       "100030375_100033304   173.096774                    1.0  \n",
       "100033316_100033364     1.000000                    NaN  \n",
       "1000469_997804        593.846154                    1.0  \n",
       "100073101_100084686   119.000000                    1.0  \n",
       "10008274_10015781    1098.000000                    1.0  \n",
       "...                          ...                    ...  \n",
       "99971826_99971771     979.230769                    NaN  \n",
       "99971986_99971815       2.000000                    NaN  \n",
       "99975944_99968430      47.250000                    1.0  \n",
       "99975944_99972006     538.326531                    1.0  \n",
       "99985672_99985865     141.000000                    1.0  \n",
       "\n",
       "[9802 rows x 1115 columns]"
      ]
     },
     "execution_count": 58,
     "metadata": {},
     "output_type": "execute_result"
    }
   ],
   "source": [
    "gk = df.groupby('jx_coord')\n",
    "#gk.first()\n",
    "#gk.count()\n",
    "gk.mean() #mean value , median difference to learn\n",
    "#documentation of groupby function"
   ]
  },
  {
   "cell_type": "code",
   "execution_count": 39,
   "id": "02e0321f",
   "metadata": {},
   "outputs": [],
   "source": [
    "#Count the NaN under a single DataFrame column: \n",
    "df['TCGAXXA89901A11RA36F07all'].isnull().sum()\n",
    "df['TCGAXXA89901A11RA36F07all'] = df['TCGAXXA89901A11RA36F07all'].fillna(0)"
   ]
  },
  {
   "cell_type": "code",
   "execution_count": 40,
   "id": "aff83dbe",
   "metadata": {},
   "outputs": [
    {
     "data": {
      "text/plain": [
       "0           6.0\n",
       "1           6.0\n",
       "2         156.0\n",
       "3           2.0\n",
       "4           2.0\n",
       "          ...  \n",
       "913530      0.0\n",
       "913531      0.0\n",
       "913532      0.0\n",
       "913533      0.0\n",
       "913534      0.0\n",
       "Name: TCGAXXA89901A11RA36F07all, Length: 913535, dtype: float64"
      ]
     },
     "execution_count": 40,
     "metadata": {},
     "output_type": "execute_result"
    }
   ],
   "source": [
    "df['TCGAXXA89901A11RA36F07all']"
   ]
  },
  {
   "cell_type": "code",
   "execution_count": 41,
   "id": "4db1e319",
   "metadata": {},
   "outputs": [
    {
     "data": {
      "image/png": "[encoded data removed]",
      "text/plain": [
       "<Figure size 432x288 with 1 Axes>"
      ]
     },
     "metadata": {
      "needs_background": "light"
     },
     "output_type": "display_data"
    }
   ],
   "source": [
    "df['percentile_rank'].plot()\n",
    "plt.show()"
   ]
  },
  {
   "cell_type": "code",
   "execution_count": 42,
   "id": "c1b9ddaf",
   "metadata": {},
   "outputs": [
    {
     "data": {
      "image/png": "[encoded data removed]",
      "text/plain": [
       "<Figure size 432x288 with 1 Axes>"
      ]
     },
     "metadata": {
      "needs_background": "light"
     },
     "output_type": "display_data"
    }
   ],
   "source": [
    "df['affinity'].plot()\n",
    "plt.show()"
   ]
  },
  {
   "cell_type": "code",
   "execution_count": 43,
   "id": "7b616b51",
   "metadata": {},
   "outputs": [
    {
     "data": {
      "image/png": "[encoded data removed]",
      "text/plain": [
       "<Figure size 432x288 with 1 Axes>"
      ]
     },
     "metadata": {
      "needs_background": "light"
     },
     "output_type": "display_data"
    }
   ],
   "source": [
    "#df[['percentile_rank', 'affinity']]. plot()\n",
    "df.plot(x='percentile_rank', y='affinity', style='o') # points smaller or plot bigger. to make it readab;le\n",
    "plt. show()"
   ]
  },
  {
   "cell_type": "code",
   "execution_count": 71,
   "id": "737f6ab0",
   "metadata": {},
   "outputs": [
    {
     "data": {
      "text/plain": [
       "Text(0, 0.5, 'percentile_rank')"
      ]
     },
     "execution_count": 71,
     "metadata": {},
     "output_type": "execute_result"
    },
    {
     "data": {
      "image/png": "[encoded data removed]",
      "text/plain": [
       "<Figure size 720x720 with 1 Axes>"
      ]
     },
     "metadata": {
      "needs_background": "light"
     },
     "output_type": "display_data"
    }
   ],
   "source": [
    "#Plotting violin plot using matplotlib library:\n",
    "plt.violinplot(df['percentile_rank'], vert=True);\n",
    "plt.ylabel('percentile_rank')\n",
    "\n",
    "#to build on base of several columns , diff groups for ex df['origin'] for 4 groups\n"
   ]
  },
  {
   "cell_type": "code",
   "execution_count": 45,
   "id": "ab7063fd",
   "metadata": {},
   "outputs": [
    {
     "data": {
      "text/plain": [
       "<AxesSubplot:xlabel='percentile_rank', ylabel='affinity'>"
      ]
     },
     "execution_count": 45,
     "metadata": {},
     "output_type": "execute_result"
    },
    {
     "data": {
      "image/png": "[encoded data removed]",
      "text/plain": [
       "<Figure size 576x576 with 1 Axes>"
      ]
     },
     "metadata": {
      "needs_background": "light"
     },
     "output_type": "display_data"
    }
   ],
   "source": [
    "plt.rcParams[\"figure.figsize\"] = (8, 8)\n",
    "df.plot.scatter(x='percentile_rank',y='affinity', s = 50, c = 'red')"
   ]
  },
  {
   "cell_type": "code",
   "execution_count": 46,
   "id": "b6295c00",
   "metadata": {},
   "outputs": [
    {
     "data": {
      "text/plain": [
       "<pandas.plotting._core.PlotAccessor object at 0x2aed171941f0>"
      ]
     },
     "execution_count": 46,
     "metadata": {},
     "output_type": "execute_result"
    }
   ],
   "source": [
    "df.plot"
   ]
  },
  {
   "cell_type": "code",
   "execution_count": 72,
   "id": "0ab94a3c",
   "metadata": {},
   "outputs": [
    {
     "data": {
      "image/png": "[encoded data removed]",
      "text/plain": [
       "<Figure size 720x720 with 1 Axes>"
      ]
     },
     "metadata": {
      "needs_background": "light"
     },
     "output_type": "display_data"
    }
   ],
   "source": [
    "#I would prefer that you use clearly matplotlib plt.hist/boxplot etc OR seaborn\n",
    "\n",
    "plt.hist(df[\"percentile_rank\"], density=False, histtype='stepfilled', facecolor='r', alpha=0.9) \n",
    "#google density, important parameter\n",
    "#density True or False\n",
    "plt.xlabel(\"percentile_rank\") \n",
    "plt.show()"
   ]
  },
  {
   "cell_type": "code",
   "execution_count": 73,
   "id": "b63914ff",
   "metadata": {},
   "outputs": [
    {
     "data": {
      "text/plain": [
       "Text(0, 0.5, 'percentile_rank')"
      ]
     },
     "execution_count": 73,
     "metadata": {},
     "output_type": "execute_result"
    },
    {
     "data": {
      "image/png": "[encoded data removed]",
      "text/plain": [
       "<Figure size 720x720 with 1 Axes>"
      ]
     },
     "metadata": {
      "needs_background": "light"
     },
     "output_type": "display_data"
    }
   ],
   "source": [
    "plt.boxplot(x=df['percentile_rank'], vert=True);\n",
    "plt.ylabel('percentile_rank')"
   ]
  },
  {
   "cell_type": "code",
   "execution_count": 49,
   "id": "5d0d735c",
   "metadata": {},
   "outputs": [],
   "source": [
    "import numpy as np\n",
    "import pandas as pd\n",
    "import matplotlib.pyplot as plt\n",
    "import seaborn as sns"
   ]
  },
  {
   "cell_type": "code",
   "execution_count": 53,
   "id": "10d5038d",
   "metadata": {},
   "outputs": [
    {
     "ename": "URLError",
     "evalue": "<urlopen error [Errno 111] Connection refused>",
     "output_type": "error",
     "traceback": [
      "\u001b[0;31m---------------------------------------------------------------------------\u001b[0m",
      "\u001b[0;31mConnectionRefusedError\u001b[0m                    Traceback (most recent call last)",
      "File \u001b[0;32m~/miniconda3/envs/pep/lib/python3.9/urllib/request.py:1346\u001b[0m, in \u001b[0;36mAbstractHTTPHandler.do_open\u001b[0;34m(self, http_class, req, **http_conn_args)\u001b[0m\n\u001b[1;32m   1345\u001b[0m \u001b[38;5;28;01mtry\u001b[39;00m:\n\u001b[0;32m-> 1346\u001b[0m     \u001b[43mh\u001b[49m\u001b[38;5;241;43m.\u001b[39;49m\u001b[43mrequest\u001b[49m\u001b[43m(\u001b[49m\u001b[43mreq\u001b[49m\u001b[38;5;241;43m.\u001b[39;49m\u001b[43mget_method\u001b[49m\u001b[43m(\u001b[49m\u001b[43m)\u001b[49m\u001b[43m,\u001b[49m\u001b[43m \u001b[49m\u001b[43mreq\u001b[49m\u001b[38;5;241;43m.\u001b[39;49m\u001b[43mselector\u001b[49m\u001b[43m,\u001b[49m\u001b[43m \u001b[49m\u001b[43mreq\u001b[49m\u001b[38;5;241;43m.\u001b[39;49m\u001b[43mdata\u001b[49m\u001b[43m,\u001b[49m\u001b[43m \u001b[49m\u001b[43mheaders\u001b[49m\u001b[43m,\u001b[49m\n\u001b[1;32m   1347\u001b[0m \u001b[43m              \u001b[49m\u001b[43mencode_chunked\u001b[49m\u001b[38;5;241;43m=\u001b[39;49m\u001b[43mreq\u001b[49m\u001b[38;5;241;43m.\u001b[39;49m\u001b[43mhas_header\u001b[49m\u001b[43m(\u001b[49m\u001b[38;5;124;43m'\u001b[39;49m\u001b[38;5;124;43mTransfer-encoding\u001b[39;49m\u001b[38;5;124;43m'\u001b[39;49m\u001b[43m)\u001b[49m\u001b[43m)\u001b[49m\n\u001b[1;32m   1348\u001b[0m \u001b[38;5;28;01mexcept\u001b[39;00m \u001b[38;5;167;01mOSError\u001b[39;00m \u001b[38;5;28;01mas\u001b[39;00m err: \u001b[38;5;66;03m# timeout error\u001b[39;00m\n",
      "File \u001b[0;32m~/miniconda3/envs/pep/lib/python3.9/http/client.py:1285\u001b[0m, in \u001b[0;36mHTTPConnection.request\u001b[0;34m(self, method, url, body, headers, encode_chunked)\u001b[0m\n\u001b[1;32m   1284\u001b[0m \u001b[38;5;124;03m\"\"\"Send a complete request to the server.\"\"\"\u001b[39;00m\n\u001b[0;32m-> 1285\u001b[0m \u001b[38;5;28;43mself\u001b[39;49m\u001b[38;5;241;43m.\u001b[39;49m\u001b[43m_send_request\u001b[49m\u001b[43m(\u001b[49m\u001b[43mmethod\u001b[49m\u001b[43m,\u001b[49m\u001b[43m \u001b[49m\u001b[43murl\u001b[49m\u001b[43m,\u001b[49m\u001b[43m \u001b[49m\u001b[43mbody\u001b[49m\u001b[43m,\u001b[49m\u001b[43m \u001b[49m\u001b[43mheaders\u001b[49m\u001b[43m,\u001b[49m\u001b[43m \u001b[49m\u001b[43mencode_chunked\u001b[49m\u001b[43m)\u001b[49m\n",
      "File \u001b[0;32m~/miniconda3/envs/pep/lib/python3.9/http/client.py:1331\u001b[0m, in \u001b[0;36mHTTPConnection._send_request\u001b[0;34m(self, method, url, body, headers, encode_chunked)\u001b[0m\n\u001b[1;32m   1330\u001b[0m     body \u001b[38;5;241m=\u001b[39m _encode(body, \u001b[38;5;124m'\u001b[39m\u001b[38;5;124mbody\u001b[39m\u001b[38;5;124m'\u001b[39m)\n\u001b[0;32m-> 1331\u001b[0m \u001b[38;5;28;43mself\u001b[39;49m\u001b[38;5;241;43m.\u001b[39;49m\u001b[43mendheaders\u001b[49m\u001b[43m(\u001b[49m\u001b[43mbody\u001b[49m\u001b[43m,\u001b[49m\u001b[43m \u001b[49m\u001b[43mencode_chunked\u001b[49m\u001b[38;5;241;43m=\u001b[39;49m\u001b[43mencode_chunked\u001b[49m\u001b[43m)\u001b[49m\n",
      "File \u001b[0;32m~/miniconda3/envs/pep/lib/python3.9/http/client.py:1280\u001b[0m, in \u001b[0;36mHTTPConnection.endheaders\u001b[0;34m(self, message_body, encode_chunked)\u001b[0m\n\u001b[1;32m   1279\u001b[0m     \u001b[38;5;28;01mraise\u001b[39;00m CannotSendHeader()\n\u001b[0;32m-> 1280\u001b[0m \u001b[38;5;28;43mself\u001b[39;49m\u001b[38;5;241;43m.\u001b[39;49m\u001b[43m_send_output\u001b[49m\u001b[43m(\u001b[49m\u001b[43mmessage_body\u001b[49m\u001b[43m,\u001b[49m\u001b[43m \u001b[49m\u001b[43mencode_chunked\u001b[49m\u001b[38;5;241;43m=\u001b[39;49m\u001b[43mencode_chunked\u001b[49m\u001b[43m)\u001b[49m\n",
      "File \u001b[0;32m~/miniconda3/envs/pep/lib/python3.9/http/client.py:1040\u001b[0m, in \u001b[0;36mHTTPConnection._send_output\u001b[0;34m(self, message_body, encode_chunked)\u001b[0m\n\u001b[1;32m   1039\u001b[0m \u001b[38;5;28;01mdel\u001b[39;00m \u001b[38;5;28mself\u001b[39m\u001b[38;5;241m.\u001b[39m_buffer[:]\n\u001b[0;32m-> 1040\u001b[0m \u001b[38;5;28;43mself\u001b[39;49m\u001b[38;5;241;43m.\u001b[39;49m\u001b[43msend\u001b[49m\u001b[43m(\u001b[49m\u001b[43mmsg\u001b[49m\u001b[43m)\u001b[49m\n\u001b[1;32m   1042\u001b[0m \u001b[38;5;28;01mif\u001b[39;00m message_body \u001b[38;5;129;01mis\u001b[39;00m \u001b[38;5;129;01mnot\u001b[39;00m \u001b[38;5;28;01mNone\u001b[39;00m:\n\u001b[1;32m   1043\u001b[0m \n\u001b[1;32m   1044\u001b[0m     \u001b[38;5;66;03m# create a consistent interface to message_body\u001b[39;00m\n",
      "File \u001b[0;32m~/miniconda3/envs/pep/lib/python3.9/http/client.py:980\u001b[0m, in \u001b[0;36mHTTPConnection.send\u001b[0;34m(self, data)\u001b[0m\n\u001b[1;32m    979\u001b[0m \u001b[38;5;28;01mif\u001b[39;00m \u001b[38;5;28mself\u001b[39m\u001b[38;5;241m.\u001b[39mauto_open:\n\u001b[0;32m--> 980\u001b[0m     \u001b[38;5;28;43mself\u001b[39;49m\u001b[38;5;241;43m.\u001b[39;49m\u001b[43mconnect\u001b[49m\u001b[43m(\u001b[49m\u001b[43m)\u001b[49m\n\u001b[1;32m    981\u001b[0m \u001b[38;5;28;01melse\u001b[39;00m:\n",
      "File \u001b[0;32m~/miniconda3/envs/pep/lib/python3.9/http/client.py:1447\u001b[0m, in \u001b[0;36mHTTPSConnection.connect\u001b[0;34m(self)\u001b[0m\n\u001b[1;32m   1445\u001b[0m \u001b[38;5;124m\"\u001b[39m\u001b[38;5;124mConnect to a host on a given (SSL) port.\u001b[39m\u001b[38;5;124m\"\u001b[39m\n\u001b[0;32m-> 1447\u001b[0m \u001b[38;5;28;43msuper\u001b[39;49m\u001b[43m(\u001b[49m\u001b[43m)\u001b[49m\u001b[38;5;241;43m.\u001b[39;49m\u001b[43mconnect\u001b[49m\u001b[43m(\u001b[49m\u001b[43m)\u001b[49m\n\u001b[1;32m   1449\u001b[0m \u001b[38;5;28;01mif\u001b[39;00m \u001b[38;5;28mself\u001b[39m\u001b[38;5;241m.\u001b[39m_tunnel_host:\n",
      "File \u001b[0;32m~/miniconda3/envs/pep/lib/python3.9/http/client.py:946\u001b[0m, in \u001b[0;36mHTTPConnection.connect\u001b[0;34m(self)\u001b[0m\n\u001b[1;32m    945\u001b[0m \u001b[38;5;124;03m\"\"\"Connect to the host and port specified in __init__.\"\"\"\u001b[39;00m\n\u001b[0;32m--> 946\u001b[0m \u001b[38;5;28mself\u001b[39m\u001b[38;5;241m.\u001b[39msock \u001b[38;5;241m=\u001b[39m \u001b[38;5;28;43mself\u001b[39;49m\u001b[38;5;241;43m.\u001b[39;49m\u001b[43m_create_connection\u001b[49m\u001b[43m(\u001b[49m\n\u001b[1;32m    947\u001b[0m \u001b[43m    \u001b[49m\u001b[43m(\u001b[49m\u001b[38;5;28;43mself\u001b[39;49m\u001b[38;5;241;43m.\u001b[39;49m\u001b[43mhost\u001b[49m\u001b[43m,\u001b[49m\u001b[38;5;28;43mself\u001b[39;49m\u001b[38;5;241;43m.\u001b[39;49m\u001b[43mport\u001b[49m\u001b[43m)\u001b[49m\u001b[43m,\u001b[49m\u001b[43m \u001b[49m\u001b[38;5;28;43mself\u001b[39;49m\u001b[38;5;241;43m.\u001b[39;49m\u001b[43mtimeout\u001b[49m\u001b[43m,\u001b[49m\u001b[43m \u001b[49m\u001b[38;5;28;43mself\u001b[39;49m\u001b[38;5;241;43m.\u001b[39;49m\u001b[43msource_address\u001b[49m\u001b[43m)\u001b[49m\n\u001b[1;32m    948\u001b[0m \u001b[38;5;66;03m# Might fail in OSs that don't implement TCP_NODELAY\u001b[39;00m\n",
      "File \u001b[0;32m~/miniconda3/envs/pep/lib/python3.9/socket.py:844\u001b[0m, in \u001b[0;36mcreate_connection\u001b[0;34m(address, timeout, source_address)\u001b[0m\n\u001b[1;32m    843\u001b[0m \u001b[38;5;28;01mtry\u001b[39;00m:\n\u001b[0;32m--> 844\u001b[0m     \u001b[38;5;28;01mraise\u001b[39;00m err\n\u001b[1;32m    845\u001b[0m \u001b[38;5;28;01mfinally\u001b[39;00m:\n\u001b[1;32m    846\u001b[0m     \u001b[38;5;66;03m# Break explicitly a reference cycle\u001b[39;00m\n",
      "File \u001b[0;32m~/miniconda3/envs/pep/lib/python3.9/socket.py:832\u001b[0m, in \u001b[0;36mcreate_connection\u001b[0;34m(address, timeout, source_address)\u001b[0m\n\u001b[1;32m    831\u001b[0m     sock\u001b[38;5;241m.\u001b[39mbind(source_address)\n\u001b[0;32m--> 832\u001b[0m \u001b[43msock\u001b[49m\u001b[38;5;241;43m.\u001b[39;49m\u001b[43mconnect\u001b[49m\u001b[43m(\u001b[49m\u001b[43msa\u001b[49m\u001b[43m)\u001b[49m\n\u001b[1;32m    833\u001b[0m \u001b[38;5;66;03m# Break explicitly a reference cycle\u001b[39;00m\n",
      "\u001b[0;31mConnectionRefusedError\u001b[0m: [Errno 111] Connection refused",
      "\nDuring handling of the above exception, another exception occurred:\n",
      "\u001b[0;31mURLError\u001b[0m                                  Traceback (most recent call last)",
      "Input \u001b[0;32mIn [53]\u001b[0m, in \u001b[0;36m<cell line: 1>\u001b[0;34m()\u001b[0m\n\u001b[0;32m----> 1\u001b[0m percentile_rank \u001b[38;5;241m=\u001b[39m \u001b[43msns\u001b[49m\u001b[38;5;241;43m.\u001b[39;49m\u001b[43mload_dataset\u001b[49m\u001b[43m(\u001b[49m\u001b[38;5;124;43m\"\u001b[39;49m\u001b[38;5;124;43mpercentile_rank\u001b[39;49m\u001b[38;5;124;43m\"\u001b[39;49m\u001b[43m)\u001b[49m\n\u001b[1;32m      2\u001b[0m sns\u001b[38;5;241m.\u001b[39mrelplot(x\u001b[38;5;241m=\u001b[39m\u001b[38;5;124m\"\u001b[39m\u001b[38;5;124maffinity\u001b[39m\u001b[38;5;124m\"\u001b[39m, y\u001b[38;5;241m=\u001b[39m\u001b[38;5;124m\"\u001b[39m\u001b[38;5;124mpercentile_rank\u001b[39m\u001b[38;5;124m\"\u001b[39m, hue\u001b[38;5;241m=\u001b[39m\u001b[38;5;124m\"\u001b[39m\u001b[38;5;124misCrossJunction\u001b[39m\u001b[38;5;124m\"\u001b[39m, style\u001b[38;5;241m=\u001b[39m\u001b[38;5;124m\"\u001b[39m\u001b[38;5;124misCrossJunction\u001b[39m\u001b[38;5;124m\"\u001b[39m, data\u001b[38;5;241m=\u001b[39mpercentile_rank)\n",
      "File \u001b[0;32m~/miniconda3/envs/pep/lib/python3.9/site-packages/seaborn/utils.py:594\u001b[0m, in \u001b[0;36mload_dataset\u001b[0;34m(name, cache, data_home, **kws)\u001b[0m\n\u001b[1;32m    592\u001b[0m cache_path \u001b[38;5;241m=\u001b[39m os\u001b[38;5;241m.\u001b[39mpath\u001b[38;5;241m.\u001b[39mjoin(get_data_home(data_home), os\u001b[38;5;241m.\u001b[39mpath\u001b[38;5;241m.\u001b[39mbasename(url))\n\u001b[1;32m    593\u001b[0m \u001b[38;5;28;01mif\u001b[39;00m \u001b[38;5;129;01mnot\u001b[39;00m os\u001b[38;5;241m.\u001b[39mpath\u001b[38;5;241m.\u001b[39mexists(cache_path):\n\u001b[0;32m--> 594\u001b[0m     \u001b[38;5;28;01mif\u001b[39;00m name \u001b[38;5;129;01mnot\u001b[39;00m \u001b[38;5;129;01min\u001b[39;00m \u001b[43mget_dataset_names\u001b[49m\u001b[43m(\u001b[49m\u001b[43m)\u001b[49m:\n\u001b[1;32m    595\u001b[0m         \u001b[38;5;28;01mraise\u001b[39;00m \u001b[38;5;167;01mValueError\u001b[39;00m(\u001b[38;5;124mf\u001b[39m\u001b[38;5;124m\"\u001b[39m\u001b[38;5;124m'\u001b[39m\u001b[38;5;132;01m{\u001b[39;00mname\u001b[38;5;132;01m}\u001b[39;00m\u001b[38;5;124m'\u001b[39m\u001b[38;5;124m is not one of the example datasets.\u001b[39m\u001b[38;5;124m\"\u001b[39m)\n\u001b[1;32m    596\u001b[0m     urlretrieve(url, cache_path)\n",
      "File \u001b[0;32m~/miniconda3/envs/pep/lib/python3.9/site-packages/seaborn/utils.py:520\u001b[0m, in \u001b[0;36mget_dataset_names\u001b[0;34m()\u001b[0m\n\u001b[1;32m    514\u001b[0m \u001b[38;5;124;03m\"\"\"Report available example datasets, useful for reporting issues.\u001b[39;00m\n\u001b[1;32m    515\u001b[0m \n\u001b[1;32m    516\u001b[0m \u001b[38;5;124;03mRequires an internet connection.\u001b[39;00m\n\u001b[1;32m    517\u001b[0m \n\u001b[1;32m    518\u001b[0m \u001b[38;5;124;03m\"\"\"\u001b[39;00m\n\u001b[1;32m    519\u001b[0m url \u001b[38;5;241m=\u001b[39m \u001b[38;5;124m\"\u001b[39m\u001b[38;5;124mhttps://github.com/mwaskom/seaborn-data\u001b[39m\u001b[38;5;124m\"\u001b[39m\n\u001b[0;32m--> 520\u001b[0m \u001b[38;5;28;01mwith\u001b[39;00m \u001b[43murlopen\u001b[49m\u001b[43m(\u001b[49m\u001b[43murl\u001b[49m\u001b[43m)\u001b[49m \u001b[38;5;28;01mas\u001b[39;00m resp:\n\u001b[1;32m    521\u001b[0m     html \u001b[38;5;241m=\u001b[39m resp\u001b[38;5;241m.\u001b[39mread()\n\u001b[1;32m    523\u001b[0m pat \u001b[38;5;241m=\u001b[39m \u001b[38;5;124mr\u001b[39m\u001b[38;5;124m\"\u001b[39m\u001b[38;5;124m/mwaskom/seaborn-data/blob/master/(\u001b[39m\u001b[38;5;124m\\\u001b[39m\u001b[38;5;124mw*).csv\u001b[39m\u001b[38;5;124m\"\u001b[39m\n",
      "File \u001b[0;32m~/miniconda3/envs/pep/lib/python3.9/urllib/request.py:214\u001b[0m, in \u001b[0;36murlopen\u001b[0;34m(url, data, timeout, cafile, capath, cadefault, context)\u001b[0m\n\u001b[1;32m    212\u001b[0m \u001b[38;5;28;01melse\u001b[39;00m:\n\u001b[1;32m    213\u001b[0m     opener \u001b[38;5;241m=\u001b[39m _opener\n\u001b[0;32m--> 214\u001b[0m \u001b[38;5;28;01mreturn\u001b[39;00m \u001b[43mopener\u001b[49m\u001b[38;5;241;43m.\u001b[39;49m\u001b[43mopen\u001b[49m\u001b[43m(\u001b[49m\u001b[43murl\u001b[49m\u001b[43m,\u001b[49m\u001b[43m \u001b[49m\u001b[43mdata\u001b[49m\u001b[43m,\u001b[49m\u001b[43m \u001b[49m\u001b[43mtimeout\u001b[49m\u001b[43m)\u001b[49m\n",
      "File \u001b[0;32m~/miniconda3/envs/pep/lib/python3.9/urllib/request.py:517\u001b[0m, in \u001b[0;36mOpenerDirector.open\u001b[0;34m(self, fullurl, data, timeout)\u001b[0m\n\u001b[1;32m    514\u001b[0m     req \u001b[38;5;241m=\u001b[39m meth(req)\n\u001b[1;32m    516\u001b[0m sys\u001b[38;5;241m.\u001b[39maudit(\u001b[38;5;124m'\u001b[39m\u001b[38;5;124murllib.Request\u001b[39m\u001b[38;5;124m'\u001b[39m, req\u001b[38;5;241m.\u001b[39mfull_url, req\u001b[38;5;241m.\u001b[39mdata, req\u001b[38;5;241m.\u001b[39mheaders, req\u001b[38;5;241m.\u001b[39mget_method())\n\u001b[0;32m--> 517\u001b[0m response \u001b[38;5;241m=\u001b[39m \u001b[38;5;28;43mself\u001b[39;49m\u001b[38;5;241;43m.\u001b[39;49m\u001b[43m_open\u001b[49m\u001b[43m(\u001b[49m\u001b[43mreq\u001b[49m\u001b[43m,\u001b[49m\u001b[43m \u001b[49m\u001b[43mdata\u001b[49m\u001b[43m)\u001b[49m\n\u001b[1;32m    519\u001b[0m \u001b[38;5;66;03m# post-process response\u001b[39;00m\n\u001b[1;32m    520\u001b[0m meth_name \u001b[38;5;241m=\u001b[39m protocol\u001b[38;5;241m+\u001b[39m\u001b[38;5;124m\"\u001b[39m\u001b[38;5;124m_response\u001b[39m\u001b[38;5;124m\"\u001b[39m\n",
      "File \u001b[0;32m~/miniconda3/envs/pep/lib/python3.9/urllib/request.py:534\u001b[0m, in \u001b[0;36mOpenerDirector._open\u001b[0;34m(self, req, data)\u001b[0m\n\u001b[1;32m    531\u001b[0m     \u001b[38;5;28;01mreturn\u001b[39;00m result\n\u001b[1;32m    533\u001b[0m protocol \u001b[38;5;241m=\u001b[39m req\u001b[38;5;241m.\u001b[39mtype\n\u001b[0;32m--> 534\u001b[0m result \u001b[38;5;241m=\u001b[39m \u001b[38;5;28;43mself\u001b[39;49m\u001b[38;5;241;43m.\u001b[39;49m\u001b[43m_call_chain\u001b[49m\u001b[43m(\u001b[49m\u001b[38;5;28;43mself\u001b[39;49m\u001b[38;5;241;43m.\u001b[39;49m\u001b[43mhandle_open\u001b[49m\u001b[43m,\u001b[49m\u001b[43m \u001b[49m\u001b[43mprotocol\u001b[49m\u001b[43m,\u001b[49m\u001b[43m \u001b[49m\u001b[43mprotocol\u001b[49m\u001b[43m \u001b[49m\u001b[38;5;241;43m+\u001b[39;49m\n\u001b[1;32m    535\u001b[0m \u001b[43m                          \u001b[49m\u001b[38;5;124;43m'\u001b[39;49m\u001b[38;5;124;43m_open\u001b[39;49m\u001b[38;5;124;43m'\u001b[39;49m\u001b[43m,\u001b[49m\u001b[43m \u001b[49m\u001b[43mreq\u001b[49m\u001b[43m)\u001b[49m\n\u001b[1;32m    536\u001b[0m \u001b[38;5;28;01mif\u001b[39;00m result:\n\u001b[1;32m    537\u001b[0m     \u001b[38;5;28;01mreturn\u001b[39;00m result\n",
      "File \u001b[0;32m~/miniconda3/envs/pep/lib/python3.9/urllib/request.py:494\u001b[0m, in \u001b[0;36mOpenerDirector._call_chain\u001b[0;34m(self, chain, kind, meth_name, *args)\u001b[0m\n\u001b[1;32m    492\u001b[0m \u001b[38;5;28;01mfor\u001b[39;00m handler \u001b[38;5;129;01min\u001b[39;00m handlers:\n\u001b[1;32m    493\u001b[0m     func \u001b[38;5;241m=\u001b[39m \u001b[38;5;28mgetattr\u001b[39m(handler, meth_name)\n\u001b[0;32m--> 494\u001b[0m     result \u001b[38;5;241m=\u001b[39m \u001b[43mfunc\u001b[49m\u001b[43m(\u001b[49m\u001b[38;5;241;43m*\u001b[39;49m\u001b[43margs\u001b[49m\u001b[43m)\u001b[49m\n\u001b[1;32m    495\u001b[0m     \u001b[38;5;28;01mif\u001b[39;00m result \u001b[38;5;129;01mis\u001b[39;00m \u001b[38;5;129;01mnot\u001b[39;00m \u001b[38;5;28;01mNone\u001b[39;00m:\n\u001b[1;32m    496\u001b[0m         \u001b[38;5;28;01mreturn\u001b[39;00m result\n",
      "File \u001b[0;32m~/miniconda3/envs/pep/lib/python3.9/urllib/request.py:1389\u001b[0m, in \u001b[0;36mHTTPSHandler.https_open\u001b[0;34m(self, req)\u001b[0m\n\u001b[1;32m   1388\u001b[0m \u001b[38;5;28;01mdef\u001b[39;00m \u001b[38;5;21mhttps_open\u001b[39m(\u001b[38;5;28mself\u001b[39m, req):\n\u001b[0;32m-> 1389\u001b[0m     \u001b[38;5;28;01mreturn\u001b[39;00m \u001b[38;5;28;43mself\u001b[39;49m\u001b[38;5;241;43m.\u001b[39;49m\u001b[43mdo_open\u001b[49m\u001b[43m(\u001b[49m\u001b[43mhttp\u001b[49m\u001b[38;5;241;43m.\u001b[39;49m\u001b[43mclient\u001b[49m\u001b[38;5;241;43m.\u001b[39;49m\u001b[43mHTTPSConnection\u001b[49m\u001b[43m,\u001b[49m\u001b[43m \u001b[49m\u001b[43mreq\u001b[49m\u001b[43m,\u001b[49m\n\u001b[1;32m   1390\u001b[0m \u001b[43m        \u001b[49m\u001b[43mcontext\u001b[49m\u001b[38;5;241;43m=\u001b[39;49m\u001b[38;5;28;43mself\u001b[39;49m\u001b[38;5;241;43m.\u001b[39;49m\u001b[43m_context\u001b[49m\u001b[43m,\u001b[49m\u001b[43m \u001b[49m\u001b[43mcheck_hostname\u001b[49m\u001b[38;5;241;43m=\u001b[39;49m\u001b[38;5;28;43mself\u001b[39;49m\u001b[38;5;241;43m.\u001b[39;49m\u001b[43m_check_hostname\u001b[49m\u001b[43m)\u001b[49m\n",
      "File \u001b[0;32m~/miniconda3/envs/pep/lib/python3.9/urllib/request.py:1349\u001b[0m, in \u001b[0;36mAbstractHTTPHandler.do_open\u001b[0;34m(self, http_class, req, **http_conn_args)\u001b[0m\n\u001b[1;32m   1346\u001b[0m         h\u001b[38;5;241m.\u001b[39mrequest(req\u001b[38;5;241m.\u001b[39mget_method(), req\u001b[38;5;241m.\u001b[39mselector, req\u001b[38;5;241m.\u001b[39mdata, headers,\n\u001b[1;32m   1347\u001b[0m                   encode_chunked\u001b[38;5;241m=\u001b[39mreq\u001b[38;5;241m.\u001b[39mhas_header(\u001b[38;5;124m'\u001b[39m\u001b[38;5;124mTransfer-encoding\u001b[39m\u001b[38;5;124m'\u001b[39m))\n\u001b[1;32m   1348\u001b[0m     \u001b[38;5;28;01mexcept\u001b[39;00m \u001b[38;5;167;01mOSError\u001b[39;00m \u001b[38;5;28;01mas\u001b[39;00m err: \u001b[38;5;66;03m# timeout error\u001b[39;00m\n\u001b[0;32m-> 1349\u001b[0m         \u001b[38;5;28;01mraise\u001b[39;00m URLError(err)\n\u001b[1;32m   1350\u001b[0m     r \u001b[38;5;241m=\u001b[39m h\u001b[38;5;241m.\u001b[39mgetresponse()\n\u001b[1;32m   1351\u001b[0m \u001b[38;5;28;01mexcept\u001b[39;00m:\n",
      "\u001b[0;31mURLError\u001b[0m: <urlopen error [Errno 111] Connection refused>"
     ]
    }
   ],
   "source": [
    "percentile_rank = sns.load_dataset(\"percentile_rank\")\n",
    "sns.relplot(x=\"affinity\", y=\"percentile_rank\", hue=\"isCrossJunction\", style=\"isCrossJunction\", data=percentile_rank);"
   ]
  },
  {
   "cell_type": "code",
   "execution_count": 51,
   "id": "e0b50579",
   "metadata": {},
   "outputs": [],
   "source": [
    "import pandas as pd\n",
    " \n",
    "from matplotlib import pyplot as plt\n",
    "from matplotlib.pyplot import figure"
   ]
  },
  {
   "cell_type": "code",
   "execution_count": 52,
   "id": "74d19afd",
   "metadata": {},
   "outputs": [
    {
     "name": "stderr",
     "output_type": "stream",
     "text": [
      "No handles with labels found to put in legend.\n"
     ]
    },
    {
     "data": {
      "image/png": "[encoded data removed]",
      "text/plain": [
       "<Figure size 800x640 with 1 Axes>"
      ]
     },
     "metadata": {
      "needs_background": "light"
     },
     "output_type": "display_data"
    }
   ],
   "source": [
    "color = df['junctionAnnotated_kmer'].apply(lambda x: 'navy' if x == '1' else 'gold')\n",
    "bcolor = df['between_codons'].apply(lambda x: 'red' if x == '1' else 'green')\n",
    " \n",
    "figure(figsize=(10, 8), dpi=80)\n",
    " \n",
    "#plt.style.use('ggplot')\n",
    " \n",
    "plt.title('Relation between junctionAnnotated_kmer,between_codons and TCGAXXA89901A11RA36F07all')\n",
    "plt.xlabel('junctionAnnotated_kmer and between_codons')\n",
    "plt.ylabel('TCGAXXA89901A11RA36F07all')\n",
    "plt.scatter(x=df['junctionAnnotated_kmer'],y=df['TCGAXXA89901A11RA36F07all'],s=100,c=color,alpha=0.6,marker='o',edgecolors=bcolor,linewidth=df['recurrence'])\n",
    "plt.scatter(x=df['between_codons'],y=df['TCGAXXA89901A11RA36F07all'],s=100,c=color,alpha=0.5,marker='h',edgecolors=bcolor,linewidth=df['recurrence'])\n",
    " \n",
    "plt.legend(loc='upper right')\n",
    " \n",
    " \n",
    "plt.tight_layout()\n",
    " \n",
    "plt.show()"
   ]
  },
  {
   "cell_type": "code",
   "execution_count": null,
   "id": "911f1da0",
   "metadata": {},
   "outputs": [],
   "source": []
  },
  {
   "cell_type": "code",
   "execution_count": null,
   "id": "4d6b764e",
   "metadata": {},
   "outputs": [],
   "source": []
  },
  {
   "cell_type": "code",
   "execution_count": null,
   "id": "5f5e0716",
   "metadata": {},
   "outputs": [],
   "source": []
  }
 ],
 "metadata": {
  "kernelspec": {
   "display_name": "pep",
   "language": "python",
   "name": "pep"
  },
  "language_info": {
   "codemirror_mode": {
    "name": "ipython",
    "version": 3
   },
   "file_extension": ".py",
   "mimetype": "text/x-python",
   "name": "python",
   "nbconvert_exporter": "python",
   "pygments_lexer": "ipython3",
   "version": "3.9.12"
  }
 },
 "nbformat": 4,
 "nbformat_minor": 5
}
