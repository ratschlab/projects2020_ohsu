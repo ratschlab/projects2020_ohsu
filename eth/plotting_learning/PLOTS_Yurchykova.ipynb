{
 "cells": [
  {
   "cell_type": "code",
   "execution_count": 1,
   "id": "412d46bc",
   "metadata": {},
   "outputs": [],
   "source": [
    "#### import os \n",
    "import pandas as pd\n",
    "from collections import defaultdict\n",
    "import numpy as np \n",
    "import matplotlib.pyplot as plt\n",
    "import seaborn as sns"
   ]
  },
  {
   "cell_type": "code",
   "execution_count": 2,
   "id": "e6d537e5",
   "metadata": {},
   "outputs": [
    {
     "data": {
      "text/html": [
       "<div>\n",
       "<style scoped>\n",
       "    .dataframe tbody tr th:only-of-type {\n",
       "        vertical-align: middle;\n",
       "    }\n",
       "\n",
       "    .dataframe tbody tr th {\n",
       "        vertical-align: top;\n",
       "    }\n",
       "\n",
       "    .dataframe thead th {\n",
       "        text-align: right;\n",
       "    }\n",
       "</style>\n",
       "<table border=\"1\" class=\"dataframe\">\n",
       "  <thead>\n",
       "    <tr style=\"text-align: right;\">\n",
       "      <th></th>\n",
       "      <th>k-mer</th>\n",
       "      <th>k-mer count</th>\n",
       "    </tr>\n",
       "  </thead>\n",
       "  <tbody>\n",
       "    <tr>\n",
       "      <th>0</th>\n",
       "      <td>TGRHDAFEI</td>\n",
       "      <td>7854</td>\n",
       "    </tr>\n",
       "    <tr>\n",
       "      <th>1</th>\n",
       "      <td>MNLSLYLGE</td>\n",
       "      <td>4402</td>\n",
       "    </tr>\n",
       "    <tr>\n",
       "      <th>2</th>\n",
       "      <td>CFSSLLAQD</td>\n",
       "      <td>1263</td>\n",
       "    </tr>\n",
       "    <tr>\n",
       "      <th>3</th>\n",
       "      <td>SDLPNPDTL</td>\n",
       "      <td>7870</td>\n",
       "    </tr>\n",
       "    <tr>\n",
       "      <th>4</th>\n",
       "      <td>VMKVENERY</td>\n",
       "      <td>7869</td>\n",
       "    </tr>\n",
       "    <tr>\n",
       "      <th>5</th>\n",
       "      <td>PRKLDFRSD</td>\n",
       "      <td>5638</td>\n",
       "    </tr>\n",
       "    <tr>\n",
       "      <th>6</th>\n",
       "      <td>VRRAVNDER</td>\n",
       "      <td>7721</td>\n",
       "    </tr>\n",
       "    <tr>\n",
       "      <th>7</th>\n",
       "      <td>QREGIYYIV</td>\n",
       "      <td>622</td>\n",
       "    </tr>\n",
       "    <tr>\n",
       "      <th>8</th>\n",
       "      <td>SLRLECSGA</td>\n",
       "      <td>5285</td>\n",
       "    </tr>\n",
       "    <tr>\n",
       "      <th>9</th>\n",
       "      <td>THRTDDNIQ</td>\n",
       "      <td>6194</td>\n",
       "    </tr>\n",
       "    <tr>\n",
       "      <th>10</th>\n",
       "      <td>AQAGVQWHD</td>\n",
       "      <td>3918</td>\n",
       "    </tr>\n",
       "    <tr>\n",
       "      <th>11</th>\n",
       "      <td>SYYKETLSV</td>\n",
       "      <td>7870</td>\n",
       "    </tr>\n",
       "    <tr>\n",
       "      <th>12</th>\n",
       "      <td>STPSPIPNT</td>\n",
       "      <td>7673</td>\n",
       "    </tr>\n",
       "    <tr>\n",
       "      <th>13</th>\n",
       "      <td>ETSSTHPLQ</td>\n",
       "      <td>657</td>\n",
       "    </tr>\n",
       "    <tr>\n",
       "      <th>14</th>\n",
       "      <td>LVTETLQQA</td>\n",
       "      <td>7681</td>\n",
       "    </tr>\n",
       "    <tr>\n",
       "      <th>15</th>\n",
       "      <td>QMFSGTFWA</td>\n",
       "      <td>757</td>\n",
       "    </tr>\n",
       "    <tr>\n",
       "      <th>16</th>\n",
       "      <td>SDILKMSLM</td>\n",
       "      <td>7858</td>\n",
       "    </tr>\n",
       "    <tr>\n",
       "      <th>17</th>\n",
       "      <td>AAQAGVQWH</td>\n",
       "      <td>3918</td>\n",
       "    </tr>\n",
       "    <tr>\n",
       "      <th>18</th>\n",
       "      <td>SLQPPPPRF</td>\n",
       "      <td>3918</td>\n",
       "    </tr>\n",
       "    <tr>\n",
       "      <th>19</th>\n",
       "      <td>GEVEEMDTL</td>\n",
       "      <td>7816</td>\n",
       "    </tr>\n",
       "    <tr>\n",
       "      <th>20</th>\n",
       "      <td>LTSPVTSIS</td>\n",
       "      <td>7850</td>\n",
       "    </tr>\n",
       "    <tr>\n",
       "      <th>21</th>\n",
       "      <td>LVSNSLSQG</td>\n",
       "      <td>6254</td>\n",
       "    </tr>\n",
       "    <tr>\n",
       "      <th>22</th>\n",
       "      <td>KWGLNMEYC</td>\n",
       "      <td>7853</td>\n",
       "    </tr>\n",
       "    <tr>\n",
       "      <th>23</th>\n",
       "      <td>ETSPTIIYQ</td>\n",
       "      <td>7682</td>\n",
       "    </tr>\n",
       "    <tr>\n",
       "      <th>24</th>\n",
       "      <td>TQILAQFPK</td>\n",
       "      <td>7632</td>\n",
       "    </tr>\n",
       "    <tr>\n",
       "      <th>25</th>\n",
       "      <td>LAQFPKQHQ</td>\n",
       "      <td>7632</td>\n",
       "    </tr>\n",
       "    <tr>\n",
       "      <th>26</th>\n",
       "      <td>HVIASRRQD</td>\n",
       "      <td>7612</td>\n",
       "    </tr>\n",
       "    <tr>\n",
       "      <th>27</th>\n",
       "      <td>SLLAQDLLK</td>\n",
       "      <td>1263</td>\n",
       "    </tr>\n",
       "    <tr>\n",
       "      <th>28</th>\n",
       "      <td>SFQHIDSVY</td>\n",
       "      <td>116</td>\n",
       "    </tr>\n",
       "    <tr>\n",
       "      <th>29</th>\n",
       "      <td>CSINIYKRM</td>\n",
       "      <td>75</td>\n",
       "    </tr>\n",
       "    <tr>\n",
       "      <th>30</th>\n",
       "      <td>AHRSGWSAV</td>\n",
       "      <td>5285</td>\n",
       "    </tr>\n",
       "    <tr>\n",
       "      <th>31</th>\n",
       "      <td>KETRKNSSC</td>\n",
       "      <td>5638</td>\n",
       "    </tr>\n",
       "    <tr>\n",
       "      <th>32</th>\n",
       "      <td>HPCQHLLLP</td>\n",
       "      <td>1491</td>\n",
       "    </tr>\n",
       "    <tr>\n",
       "      <th>33</th>\n",
       "      <td>LGSGDPPAS</td>\n",
       "      <td>5285</td>\n",
       "    </tr>\n",
       "    <tr>\n",
       "      <th>34</th>\n",
       "      <td>KTLGLLPNL</td>\n",
       "      <td>56</td>\n",
       "    </tr>\n",
       "    <tr>\n",
       "      <th>35</th>\n",
       "      <td>GLHGRCIFN</td>\n",
       "      <td>231</td>\n",
       "    </tr>\n",
       "    <tr>\n",
       "      <th>36</th>\n",
       "      <td>SSCLRKKTL</td>\n",
       "      <td>56</td>\n",
       "    </tr>\n",
       "    <tr>\n",
       "      <th>37</th>\n",
       "      <td>TVAQEVVFC</td>\n",
       "      <td>7</td>\n",
       "    </tr>\n",
       "    <tr>\n",
       "      <th>38</th>\n",
       "      <td>AGTIQTVPT</td>\n",
       "      <td>2</td>\n",
       "    </tr>\n",
       "    <tr>\n",
       "      <th>39</th>\n",
       "      <td>AGYSSVCYS</td>\n",
       "      <td>1686</td>\n",
       "    </tr>\n",
       "    <tr>\n",
       "      <th>40</th>\n",
       "      <td>DPARRADLE</td>\n",
       "      <td>1</td>\n",
       "    </tr>\n",
       "    <tr>\n",
       "      <th>41</th>\n",
       "      <td>KTQVLIKPK</td>\n",
       "      <td>7600</td>\n",
       "    </tr>\n",
       "    <tr>\n",
       "      <th>42</th>\n",
       "      <td>LKETEPHYV</td>\n",
       "      <td>370</td>\n",
       "    </tr>\n",
       "    <tr>\n",
       "      <th>43</th>\n",
       "      <td>VFIDAEDLA</td>\n",
       "      <td>1</td>\n",
       "    </tr>\n",
       "    <tr>\n",
       "      <th>44</th>\n",
       "      <td>TVYVKILSL</td>\n",
       "      <td>97</td>\n",
       "    </tr>\n",
       "    <tr>\n",
       "      <th>45</th>\n",
       "      <td>KTITVPVII</td>\n",
       "      <td>8</td>\n",
       "    </tr>\n",
       "    <tr>\n",
       "      <th>46</th>\n",
       "      <td>TVAQVKEKL</td>\n",
       "      <td>2</td>\n",
       "    </tr>\n",
       "    <tr>\n",
       "      <th>47</th>\n",
       "      <td>CWNSQPVVH</td>\n",
       "      <td>3</td>\n",
       "    </tr>\n",
       "  </tbody>\n",
       "</table>\n",
       "</div>"
      ],
      "text/plain": [
       "        k-mer  k-mer count\n",
       "0   TGRHDAFEI         7854\n",
       "1   MNLSLYLGE         4402\n",
       "2   CFSSLLAQD         1263\n",
       "3   SDLPNPDTL         7870\n",
       "4   VMKVENERY         7869\n",
       "5   PRKLDFRSD         5638\n",
       "6   VRRAVNDER         7721\n",
       "7   QREGIYYIV          622\n",
       "8   SLRLECSGA         5285\n",
       "9   THRTDDNIQ         6194\n",
       "10  AQAGVQWHD         3918\n",
       "11  SYYKETLSV         7870\n",
       "12  STPSPIPNT         7673\n",
       "13  ETSSTHPLQ          657\n",
       "14  LVTETLQQA         7681\n",
       "15  QMFSGTFWA          757\n",
       "16  SDILKMSLM         7858\n",
       "17  AAQAGVQWH         3918\n",
       "18  SLQPPPPRF         3918\n",
       "19  GEVEEMDTL         7816\n",
       "20  LTSPVTSIS         7850\n",
       "21  LVSNSLSQG         6254\n",
       "22  KWGLNMEYC         7853\n",
       "23  ETSPTIIYQ         7682\n",
       "24  TQILAQFPK         7632\n",
       "25  LAQFPKQHQ         7632\n",
       "26  HVIASRRQD         7612\n",
       "27  SLLAQDLLK         1263\n",
       "28  SFQHIDSVY          116\n",
       "29  CSINIYKRM           75\n",
       "30  AHRSGWSAV         5285\n",
       "31  KETRKNSSC         5638\n",
       "32  HPCQHLLLP         1491\n",
       "33  LGSGDPPAS         5285\n",
       "34  KTLGLLPNL           56\n",
       "35  GLHGRCIFN          231\n",
       "36  SSCLRKKTL           56\n",
       "37  TVAQEVVFC            7\n",
       "38  AGTIQTVPT            2\n",
       "39  AGYSSVCYS         1686\n",
       "40  DPARRADLE            1\n",
       "41  KTQVLIKPK         7600\n",
       "42  LKETEPHYV          370\n",
       "43  VFIDAEDLA            1\n",
       "44  TVYVKILSL           97\n",
       "45  KTITVPVII            8\n",
       "46  TVAQVKEKL            2\n",
       "47  CWNSQPVVH            3"
      ]
     },
     "execution_count": 2,
     "metadata": {},
     "output_type": "execute_result"
    }
   ],
   "source": [
    "pd.read_csv('/cluster/work/grlab/projects/projects2020_OHSU/peptides_generation/learning_filter/filtered_backgrounds/interm_normals_combiExprCohortLim2.0Across1.tsv/part-00000', sep = '\\t', names=['k-mer', 'k-mer count'])\n"
   ]
  },
  {
   "cell_type": "code",
   "execution_count": 3,
   "id": "638f84bf",
   "metadata": {},
   "outputs": [
    {
     "data": {
      "text/html": [
       "<div>\n",
       "<style scoped>\n",
       "    .dataframe tbody tr th:only-of-type {\n",
       "        vertical-align: middle;\n",
       "    }\n",
       "\n",
       "    .dataframe tbody tr th {\n",
       "        vertical-align: top;\n",
       "    }\n",
       "\n",
       "    .dataframe thead th {\n",
       "        text-align: right;\n",
       "    }\n",
       "</style>\n",
       "<table border=\"1\" class=\"dataframe\">\n",
       "  <thead>\n",
       "    <tr style=\"text-align: right;\">\n",
       "      <th></th>\n",
       "      <th>k-mer</th>\n",
       "      <th>k-mer count</th>\n",
       "    </tr>\n",
       "  </thead>\n",
       "  <tbody>\n",
       "    <tr>\n",
       "      <th>1</th>\n",
       "      <td>TGRHDAFEI</td>\n",
       "      <td>7854</td>\n",
       "    </tr>\n",
       "    <tr>\n",
       "      <th>2</th>\n",
       "      <td>MNLSLYLGE</td>\n",
       "      <td>4402</td>\n",
       "    </tr>\n",
       "    <tr>\n",
       "      <th>3</th>\n",
       "      <td>CFSSLLAQD</td>\n",
       "      <td>1263</td>\n",
       "    </tr>\n",
       "    <tr>\n",
       "      <th>4</th>\n",
       "      <td>SDLPNPDTL</td>\n",
       "      <td>7870</td>\n",
       "    </tr>\n",
       "    <tr>\n",
       "      <th>5</th>\n",
       "      <td>VMKVENERY</td>\n",
       "      <td>7869</td>\n",
       "    </tr>\n",
       "    <tr>\n",
       "      <th>6</th>\n",
       "      <td>PRKLDFRSD</td>\n",
       "      <td>5638</td>\n",
       "    </tr>\n",
       "    <tr>\n",
       "      <th>7</th>\n",
       "      <td>VRRAVNDER</td>\n",
       "      <td>7721</td>\n",
       "    </tr>\n",
       "    <tr>\n",
       "      <th>8</th>\n",
       "      <td>QREGIYYIV</td>\n",
       "      <td>622</td>\n",
       "    </tr>\n",
       "    <tr>\n",
       "      <th>9</th>\n",
       "      <td>SLRLECSGA</td>\n",
       "      <td>5285</td>\n",
       "    </tr>\n",
       "    <tr>\n",
       "      <th>10</th>\n",
       "      <td>THRTDDNIQ</td>\n",
       "      <td>6194</td>\n",
       "    </tr>\n",
       "    <tr>\n",
       "      <th>11</th>\n",
       "      <td>AQAGVQWHD</td>\n",
       "      <td>3918</td>\n",
       "    </tr>\n",
       "    <tr>\n",
       "      <th>12</th>\n",
       "      <td>SYYKETLSV</td>\n",
       "      <td>7870</td>\n",
       "    </tr>\n",
       "    <tr>\n",
       "      <th>13</th>\n",
       "      <td>STPSPIPNT</td>\n",
       "      <td>7673</td>\n",
       "    </tr>\n",
       "    <tr>\n",
       "      <th>14</th>\n",
       "      <td>ETSSTHPLQ</td>\n",
       "      <td>657</td>\n",
       "    </tr>\n",
       "    <tr>\n",
       "      <th>15</th>\n",
       "      <td>LVTETLQQA</td>\n",
       "      <td>7681</td>\n",
       "    </tr>\n",
       "    <tr>\n",
       "      <th>16</th>\n",
       "      <td>QMFSGTFWA</td>\n",
       "      <td>757</td>\n",
       "    </tr>\n",
       "    <tr>\n",
       "      <th>17</th>\n",
       "      <td>SDILKMSLM</td>\n",
       "      <td>7858</td>\n",
       "    </tr>\n",
       "    <tr>\n",
       "      <th>18</th>\n",
       "      <td>AAQAGVQWH</td>\n",
       "      <td>3918</td>\n",
       "    </tr>\n",
       "    <tr>\n",
       "      <th>19</th>\n",
       "      <td>SLQPPPPRF</td>\n",
       "      <td>3918</td>\n",
       "    </tr>\n",
       "    <tr>\n",
       "      <th>20</th>\n",
       "      <td>GEVEEMDTL</td>\n",
       "      <td>7816</td>\n",
       "    </tr>\n",
       "    <tr>\n",
       "      <th>21</th>\n",
       "      <td>LTSPVTSIS</td>\n",
       "      <td>7850</td>\n",
       "    </tr>\n",
       "    <tr>\n",
       "      <th>22</th>\n",
       "      <td>LVSNSLSQG</td>\n",
       "      <td>6254</td>\n",
       "    </tr>\n",
       "    <tr>\n",
       "      <th>23</th>\n",
       "      <td>KWGLNMEYC</td>\n",
       "      <td>7853</td>\n",
       "    </tr>\n",
       "    <tr>\n",
       "      <th>24</th>\n",
       "      <td>ETSPTIIYQ</td>\n",
       "      <td>7682</td>\n",
       "    </tr>\n",
       "    <tr>\n",
       "      <th>25</th>\n",
       "      <td>TQILAQFPK</td>\n",
       "      <td>7632</td>\n",
       "    </tr>\n",
       "    <tr>\n",
       "      <th>26</th>\n",
       "      <td>LAQFPKQHQ</td>\n",
       "      <td>7632</td>\n",
       "    </tr>\n",
       "    <tr>\n",
       "      <th>27</th>\n",
       "      <td>HVIASRRQD</td>\n",
       "      <td>7612</td>\n",
       "    </tr>\n",
       "    <tr>\n",
       "      <th>28</th>\n",
       "      <td>SLLAQDLLK</td>\n",
       "      <td>1263</td>\n",
       "    </tr>\n",
       "    <tr>\n",
       "      <th>29</th>\n",
       "      <td>SFQHIDSVY</td>\n",
       "      <td>116</td>\n",
       "    </tr>\n",
       "    <tr>\n",
       "      <th>30</th>\n",
       "      <td>CSINIYKRM</td>\n",
       "      <td>75</td>\n",
       "    </tr>\n",
       "    <tr>\n",
       "      <th>31</th>\n",
       "      <td>AHRSGWSAV</td>\n",
       "      <td>5285</td>\n",
       "    </tr>\n",
       "    <tr>\n",
       "      <th>32</th>\n",
       "      <td>KETRKNSSC</td>\n",
       "      <td>5638</td>\n",
       "    </tr>\n",
       "    <tr>\n",
       "      <th>33</th>\n",
       "      <td>HPCQHLLLP</td>\n",
       "      <td>1491</td>\n",
       "    </tr>\n",
       "    <tr>\n",
       "      <th>34</th>\n",
       "      <td>LGSGDPPAS</td>\n",
       "      <td>5285</td>\n",
       "    </tr>\n",
       "    <tr>\n",
       "      <th>35</th>\n",
       "      <td>KTLGLLPNL</td>\n",
       "      <td>56</td>\n",
       "    </tr>\n",
       "    <tr>\n",
       "      <th>36</th>\n",
       "      <td>GLHGRCIFN</td>\n",
       "      <td>231</td>\n",
       "    </tr>\n",
       "    <tr>\n",
       "      <th>37</th>\n",
       "      <td>SSCLRKKTL</td>\n",
       "      <td>56</td>\n",
       "    </tr>\n",
       "    <tr>\n",
       "      <th>38</th>\n",
       "      <td>TVAQEVVFC</td>\n",
       "      <td>7</td>\n",
       "    </tr>\n",
       "    <tr>\n",
       "      <th>39</th>\n",
       "      <td>AGTIQTVPT</td>\n",
       "      <td>2</td>\n",
       "    </tr>\n",
       "    <tr>\n",
       "      <th>40</th>\n",
       "      <td>AGYSSVCYS</td>\n",
       "      <td>1686</td>\n",
       "    </tr>\n",
       "    <tr>\n",
       "      <th>41</th>\n",
       "      <td>DPARRADLE</td>\n",
       "      <td>1</td>\n",
       "    </tr>\n",
       "    <tr>\n",
       "      <th>42</th>\n",
       "      <td>KTQVLIKPK</td>\n",
       "      <td>7600</td>\n",
       "    </tr>\n",
       "    <tr>\n",
       "      <th>43</th>\n",
       "      <td>LKETEPHYV</td>\n",
       "      <td>370</td>\n",
       "    </tr>\n",
       "    <tr>\n",
       "      <th>44</th>\n",
       "      <td>VFIDAEDLA</td>\n",
       "      <td>1</td>\n",
       "    </tr>\n",
       "    <tr>\n",
       "      <th>45</th>\n",
       "      <td>TVYVKILSL</td>\n",
       "      <td>97</td>\n",
       "    </tr>\n",
       "    <tr>\n",
       "      <th>46</th>\n",
       "      <td>KTITVPVII</td>\n",
       "      <td>8</td>\n",
       "    </tr>\n",
       "    <tr>\n",
       "      <th>47</th>\n",
       "      <td>TVAQVKEKL</td>\n",
       "      <td>2</td>\n",
       "    </tr>\n",
       "    <tr>\n",
       "      <th>48</th>\n",
       "      <td>CWNSQPVVH</td>\n",
       "      <td>3</td>\n",
       "    </tr>\n",
       "  </tbody>\n",
       "</table>\n",
       "</div>"
      ],
      "text/plain": [
       "        k-mer  k-mer count\n",
       "1   TGRHDAFEI         7854\n",
       "2   MNLSLYLGE         4402\n",
       "3   CFSSLLAQD         1263\n",
       "4   SDLPNPDTL         7870\n",
       "5   VMKVENERY         7869\n",
       "6   PRKLDFRSD         5638\n",
       "7   VRRAVNDER         7721\n",
       "8   QREGIYYIV          622\n",
       "9   SLRLECSGA         5285\n",
       "10  THRTDDNIQ         6194\n",
       "11  AQAGVQWHD         3918\n",
       "12  SYYKETLSV         7870\n",
       "13  STPSPIPNT         7673\n",
       "14  ETSSTHPLQ          657\n",
       "15  LVTETLQQA         7681\n",
       "16  QMFSGTFWA          757\n",
       "17  SDILKMSLM         7858\n",
       "18  AAQAGVQWH         3918\n",
       "19  SLQPPPPRF         3918\n",
       "20  GEVEEMDTL         7816\n",
       "21  LTSPVTSIS         7850\n",
       "22  LVSNSLSQG         6254\n",
       "23  KWGLNMEYC         7853\n",
       "24  ETSPTIIYQ         7682\n",
       "25  TQILAQFPK         7632\n",
       "26  LAQFPKQHQ         7632\n",
       "27  HVIASRRQD         7612\n",
       "28  SLLAQDLLK         1263\n",
       "29  SFQHIDSVY          116\n",
       "30  CSINIYKRM           75\n",
       "31  AHRSGWSAV         5285\n",
       "32  KETRKNSSC         5638\n",
       "33  HPCQHLLLP         1491\n",
       "34  LGSGDPPAS         5285\n",
       "35  KTLGLLPNL           56\n",
       "36  GLHGRCIFN          231\n",
       "37  SSCLRKKTL           56\n",
       "38  TVAQEVVFC            7\n",
       "39  AGTIQTVPT            2\n",
       "40  AGYSSVCYS         1686\n",
       "41  DPARRADLE            1\n",
       "42  KTQVLIKPK         7600\n",
       "43  LKETEPHYV          370\n",
       "44  VFIDAEDLA            1\n",
       "45  TVYVKILSL           97\n",
       "46  KTITVPVII            8\n",
       "47  TVAQVKEKL            2\n",
       "48  CWNSQPVVH            3"
      ]
     },
     "execution_count": 3,
     "metadata": {},
     "output_type": "execute_result"
    }
   ],
   "source": [
    "df = pd.read_csv('/cluster/work/grlab/projects/projects2020_OHSU/peptides_generation/learning_filter/filtered_backgrounds/interm_normals_combiExprCohortLim2.0Across1.tsv/part-00000', sep = '\\t', names=['k-mer', 'k-mer count'])\n",
    "df.index = np.arange(1,len(df)+1) #k-mer count - recurrence of each 9-mer\n",
    "df"
   ]
  },
  {
   "cell_type": "code",
   "execution_count": 4,
   "id": "0388c460",
   "metadata": {},
   "outputs": [
    {
     "data": {
      "text/plain": [
       "(48, 2)"
      ]
     },
     "execution_count": 4,
     "metadata": {},
     "output_type": "execute_result"
    }
   ],
   "source": [
    "df.shape"
   ]
  },
  {
   "cell_type": "code",
   "execution_count": 5,
   "id": "92b13e39",
   "metadata": {},
   "outputs": [
    {
     "data": {
      "text/plain": [
       "1     7854\n",
       "2     4402\n",
       "3     1263\n",
       "4     7870\n",
       "5     7869\n",
       "6     5638\n",
       "7     7721\n",
       "8      622\n",
       "9     5285\n",
       "10    6194\n",
       "11    3918\n",
       "12    7870\n",
       "13    7673\n",
       "14     657\n",
       "15    7681\n",
       "16     757\n",
       "17    7858\n",
       "18    3918\n",
       "19    3918\n",
       "20    7816\n",
       "21    7850\n",
       "22    6254\n",
       "23    7853\n",
       "24    7682\n",
       "25    7632\n",
       "26    7632\n",
       "27    7612\n",
       "28    1263\n",
       "29     116\n",
       "30      75\n",
       "31    5285\n",
       "32    5638\n",
       "33    1491\n",
       "34    5285\n",
       "35      56\n",
       "36     231\n",
       "37      56\n",
       "38       7\n",
       "39       2\n",
       "40    1686\n",
       "41       1\n",
       "42    7600\n",
       "43     370\n",
       "44       1\n",
       "45      97\n",
       "46       8\n",
       "47       2\n",
       "48       3\n",
       "Name: k-mer count, dtype: int64"
      ]
     },
     "execution_count": 5,
     "metadata": {},
     "output_type": "execute_result"
    }
   ],
   "source": [
    "df[\"k-mer count\"] #k-mer count - recurrence of each 9-mer in sample"
   ]
  },
  {
   "cell_type": "markdown",
   "id": "1c8e6845",
   "metadata": {},
   "source": [
    "# Histogram for interm-normals samples combiExprCohortLim2.0Across1(part -00000:\n"
   ]
  },
  {
   "cell_type": "code",
   "execution_count": 6,
   "id": "c12b04d9",
   "metadata": {},
   "outputs": [
    {
     "data": {
      "image/png": "[encoded data removed]",
      "text/plain": [
       "<Figure size 432x288 with 1 Axes>"
      ]
     },
     "metadata": {
      "needs_background": "light"
     },
     "output_type": "display_data"
    }
   ],
   "source": [
    "#plt.hist(df[])\n",
    "plt.hist(df[\"k-mer count\"], density=False, histtype='barstacked', facecolor='g', alpha=0.9, bins =100)\n",
    "plt.xlabel(\"k-mer count\")\n",
    "plt.ylabel(\"n of k-mers\")\n",
    "plt.show()"
   ]
  },
  {
   "cell_type": "code",
   "execution_count": 7,
   "id": "68c382d4",
   "metadata": {},
   "outputs": [
    {
     "data": {
      "text/html": [
       "<div>\n",
       "<style scoped>\n",
       "    .dataframe tbody tr th:only-of-type {\n",
       "        vertical-align: middle;\n",
       "    }\n",
       "\n",
       "    .dataframe tbody tr th {\n",
       "        vertical-align: top;\n",
       "    }\n",
       "\n",
       "    .dataframe thead th {\n",
       "        text-align: right;\n",
       "    }\n",
       "</style>\n",
       "<table border=\"1\" class=\"dataframe\">\n",
       "  <thead>\n",
       "    <tr style=\"text-align: right;\">\n",
       "      <th></th>\n",
       "      <th>k-mer</th>\n",
       "      <th>k-mer count</th>\n",
       "    </tr>\n",
       "  </thead>\n",
       "  <tbody>\n",
       "    <tr>\n",
       "      <th>1</th>\n",
       "      <td>AGYSSVCYS</td>\n",
       "      <td>446</td>\n",
       "    </tr>\n",
       "    <tr>\n",
       "      <th>2</th>\n",
       "      <td>KTQVLIKPK</td>\n",
       "      <td>1064</td>\n",
       "    </tr>\n",
       "    <tr>\n",
       "      <th>3</th>\n",
       "      <td>TVYVKILSL</td>\n",
       "      <td>22</td>\n",
       "    </tr>\n",
       "    <tr>\n",
       "      <th>4</th>\n",
       "      <td>SQSSQEHLE</td>\n",
       "      <td>41</td>\n",
       "    </tr>\n",
       "    <tr>\n",
       "      <th>5</th>\n",
       "      <td>SSQSSQDSQ</td>\n",
       "      <td>1064</td>\n",
       "    </tr>\n",
       "    <tr>\n",
       "      <th>...</th>\n",
       "      <td>...</td>\n",
       "      <td>...</td>\n",
       "    </tr>\n",
       "    <tr>\n",
       "      <th>986</th>\n",
       "      <td>KVISGVLKE</td>\n",
       "      <td>213</td>\n",
       "    </tr>\n",
       "    <tr>\n",
       "      <th>987</th>\n",
       "      <td>CLRKKTLGL</td>\n",
       "      <td>28</td>\n",
       "    </tr>\n",
       "    <tr>\n",
       "      <th>988</th>\n",
       "      <td>FVLFRIPGT</td>\n",
       "      <td>1</td>\n",
       "    </tr>\n",
       "    <tr>\n",
       "      <th>989</th>\n",
       "      <td>QGQEGAGLH</td>\n",
       "      <td>79</td>\n",
       "    </tr>\n",
       "    <tr>\n",
       "      <th>990</th>\n",
       "      <td>LRKKTLGLL</td>\n",
       "      <td>28</td>\n",
       "    </tr>\n",
       "  </tbody>\n",
       "</table>\n",
       "<p>990 rows × 2 columns</p>\n",
       "</div>"
      ],
      "text/plain": [
       "         k-mer  k-mer count\n",
       "1    AGYSSVCYS          446\n",
       "2    KTQVLIKPK         1064\n",
       "3    TVYVKILSL           22\n",
       "4    SQSSQEHLE           41\n",
       "5    SSQSSQDSQ         1064\n",
       "..         ...          ...\n",
       "986  KVISGVLKE          213\n",
       "987  CLRKKTLGL           28\n",
       "988  FVLFRIPGT            1\n",
       "989  QGQEGAGLH           79\n",
       "990  LRKKTLGLL           28\n",
       "\n",
       "[990 rows x 2 columns]"
      ]
     },
     "execution_count": 7,
     "metadata": {},
     "output_type": "execute_result"
    }
   ],
   "source": [
    "df = pd.read_csv('/cluster/work/grlab/projects/projects2020_OHSU/peptides_generation/learning_filter/TCGA_Breast/filter_TCGA-BH-A18V-01A-11R-A12D-07.all/DATA_TEST_22.06.2022_Task5_Run#13_a_interm_cancer/interm_cancer_ref_combiExprCohortLim0.0Across1ExceptTCGABHA18V01A11RA12D07all.tsv/part-00000', sep = '\\t', names=['k-mer', 'k-mer count'])\n",
    "df.index = np.arange(1,len(df)+1)\n",
    "df"
   ]
  },
  {
   "cell_type": "code",
   "execution_count": 8,
   "id": "877314d9",
   "metadata": {},
   "outputs": [
    {
     "data": {
      "text/plain": [
       "(990, 2)"
      ]
     },
     "execution_count": 8,
     "metadata": {},
     "output_type": "execute_result"
    }
   ],
   "source": [
    "df.shape"
   ]
  },
  {
   "cell_type": "markdown",
   "id": "cbbb9c7d",
   "metadata": {},
   "source": [
    "# Histogram for interm-cancer samples ref_combiExprCohortLim0.0Across1ExceptTCGABHA18V01A11RA12D07all.tsv(part-00000):\n"
   ]
  },
  {
   "cell_type": "code",
   "execution_count": 9,
   "id": "ee1a7ed1",
   "metadata": {},
   "outputs": [
    {
     "data": {
      "image/png": "[encoded data removed]",
      "text/plain": [
       "<Figure size 432x288 with 1 Axes>"
      ]
     },
     "metadata": {
      "needs_background": "light"
     },
     "output_type": "display_data"
    }
   ],
   "source": [
    "plt.hist(df[\"k-mer count\"], density=True, histtype='stepfilled', facecolor='r', alpha=0.9) #density\n",
    "#Check basics of probabilities and statistics  distribution density probability of an event\n",
    "#True- probability distribution\n",
    "plt.xlabel(\"k-mer count\") \n",
    "plt.ylabel(\"n of k-mers\") \n",
    "plt.show()"
   ]
  },
  {
   "cell_type": "markdown",
   "id": "41bc51ca",
   "metadata": {},
   "source": [
    "# Box plot for nterm-normals samples combiExprCohortLim2.0Across1(part -00000: (minimum 2 reads across 1 or more samples, 7854 samples that have expression more than 2 reads)"
   ]
  },
  {
   "cell_type": "code",
   "execution_count": 10,
   "id": "560a1319",
   "metadata": {},
   "outputs": [
    {
     "data": {
      "text/html": [
       "<div>\n",
       "<style scoped>\n",
       "    .dataframe tbody tr th:only-of-type {\n",
       "        vertical-align: middle;\n",
       "    }\n",
       "\n",
       "    .dataframe tbody tr th {\n",
       "        vertical-align: top;\n",
       "    }\n",
       "\n",
       "    .dataframe thead th {\n",
       "        text-align: right;\n",
       "    }\n",
       "</style>\n",
       "<table border=\"1\" class=\"dataframe\">\n",
       "  <thead>\n",
       "    <tr style=\"text-align: right;\">\n",
       "      <th></th>\n",
       "      <th>All generated normal k-mers</th>\n",
       "      <th>Recurrence of k-mers across normal cohort</th>\n",
       "    </tr>\n",
       "  </thead>\n",
       "  <tbody>\n",
       "    <tr>\n",
       "      <th>1</th>\n",
       "      <td>TGRHDAFEI</td>\n",
       "      <td>7854</td>\n",
       "    </tr>\n",
       "    <tr>\n",
       "      <th>2</th>\n",
       "      <td>MNLSLYLGE</td>\n",
       "      <td>4402</td>\n",
       "    </tr>\n",
       "    <tr>\n",
       "      <th>3</th>\n",
       "      <td>CFSSLLAQD</td>\n",
       "      <td>1263</td>\n",
       "    </tr>\n",
       "    <tr>\n",
       "      <th>4</th>\n",
       "      <td>SDLPNPDTL</td>\n",
       "      <td>7870</td>\n",
       "    </tr>\n",
       "    <tr>\n",
       "      <th>5</th>\n",
       "      <td>VMKVENERY</td>\n",
       "      <td>7869</td>\n",
       "    </tr>\n",
       "  </tbody>\n",
       "</table>\n",
       "</div>"
      ],
      "text/plain": [
       "  All generated normal k-mers  Recurrence of k-mers across normal cohort\n",
       "1                   TGRHDAFEI                                       7854\n",
       "2                   MNLSLYLGE                                       4402\n",
       "3                   CFSSLLAQD                                       1263\n",
       "4                   SDLPNPDTL                                       7870\n",
       "5                   VMKVENERY                                       7869"
      ]
     },
     "execution_count": 10,
     "metadata": {},
     "output_type": "execute_result"
    }
   ],
   "source": [
    "df = pd.read_csv('/cluster/work/grlab/projects/projects2020_OHSU/peptides_generation/learning_filter/filtered_backgrounds/interm_normals_combiExprCohortLim2.0Across1.tsv/part-00000', sep = '\\t', names=['All generated normal k-mers', 'Recurrence of k-mers across normal cohort'])\n",
    "df.index = np.arange(1,len(df)+1)\n",
    "df.head()"
   ]
  },
  {
   "cell_type": "code",
   "execution_count": 11,
   "id": "820c3540",
   "metadata": {},
   "outputs": [
    {
     "data": {
      "image/png": "[encoded data removed]",
      "text/plain": [
       "<Figure size 432x288 with 1 Axes>"
      ]
     },
     "metadata": {
      "needs_background": "light"
     },
     "output_type": "display_data"
    }
   ],
   "source": [
    "#Box plots:\n",
    "'''Boxplots can be used to:\n",
    "\n",
    "    Identify outliers or anomalous data points\n",
    "    To determine if our data is skewed\n",
    "    To understand the spread/range of the data'''\n",
    "\n",
    "#Plotting using seaborn library:\n",
    "sns.boxplot(data = df, y = 'Recurrence of k-mers across normal cohort', palette = 'viridis', width=0.5) \n",
    "plt.ylabel('Recurrence of k-mers across normal cohort')# Recurrence across filtered_backgrounds /(normal cohorts/samples) of k-mers\n",
    "plt.xlabel('All generated normal k-mers')\n",
    "plt.show()"
   ]
  },
  {
   "cell_type": "code",
   "execution_count": 12,
   "id": "b6d7a42f",
   "metadata": {},
   "outputs": [
    {
     "data": {
      "image/png": "[encoded data removed]",
      "text/plain": [
       "<Figure size 432x288 with 1 Axes>"
      ]
     },
     "metadata": {
      "needs_background": "light"
     },
     "output_type": "display_data"
    }
   ],
   "source": [
    "#Violin plots:\n",
    "'''A violin plot is a hybrid of a box plot and a kernel density plot, \n",
    "which shows peaks in the data. It is used to visualize the distribution of numerical data. \n",
    "Unlike a box plot that can only show summary statistics, \n",
    "violin plots depict summary statistics and the density of each variable.'''\n",
    "\n",
    "#Plotting violinplot using seaborn library:\n",
    "sns.violinplot(data = df, y = 'Recurrence of k-mers across normal cohort', palette = 'viridis', width=0.5) \n",
    "plt.ylabel('Recurrence of k-mers across normal cohort') \n",
    "plt.xlabel('All generated normal k-mers') # My plot big around 8000 and 0 I have a very high number of k-mers of reccurence of 8000 and 0\n",
    "plt.show()"
   ]
  },
  {
   "cell_type": "code",
   "execution_count": 13,
   "id": "d34537cb",
   "metadata": {},
   "outputs": [
    {
     "data": {
      "text/plain": [
       "Text(0.5, 0, 'All generated normal k-mers')"
      ]
     },
     "execution_count": 13,
     "metadata": {},
     "output_type": "execute_result"
    },
    {
     "data": {
      "image/png": "[encoded data removed]",
      "text/plain": [
       "<Figure size 432x288 with 1 Axes>"
      ]
     },
     "metadata": {
      "needs_background": "light"
     },
     "output_type": "display_data"
    }
   ],
   "source": [
    "#Plotting using matplotlib library:\n",
    "#Using matplotlib to make a boxplot\n",
    "plt.boxplot(x=df['Recurrence of k-mers across normal cohort'], vert=True); #vert=False - for horizontal plot.\n",
    "plt.ylabel('Recurrence of k-mers across normal cohort')\n",
    "plt.xlabel('All generated normal k-mers')"
   ]
  },
  {
   "cell_type": "code",
   "execution_count": 14,
   "id": "f83c9868",
   "metadata": {},
   "outputs": [
    {
     "data": {
      "text/plain": [
       "Text(0.5, 0, 'All generated normal k-mers')"
      ]
     },
     "execution_count": 14,
     "metadata": {},
     "output_type": "execute_result"
    },
    {
     "data": {
      "image/png": "[encoded data removed]",
      "text/plain": [
       "<Figure size 432x288 with 1 Axes>"
      ]
     },
     "metadata": {
      "needs_background": "light"
     },
     "output_type": "display_data"
    }
   ],
   "source": [
    "#Plotting violinplot matplotlib library:\n",
    "#violinplot(dataset, positions=None, vert=True, widths=0.5, showmeans=False, showextrema=True, showmedians=False, quantiles=None, points=100,\n",
    "#bw_method=None, *, data=None)\n",
    "plt.violinplot(df['Recurrence of k-mers across normal cohort'], vert=True, widths=0.5);\n",
    "plt.ylabel('Recurrence of k-mers across normal cohort')\n",
    "plt.xlabel('All generated normal k-mers')"
   ]
  },
  {
   "cell_type": "code",
   "execution_count": 15,
   "id": "1554d4a2",
   "metadata": {},
   "outputs": [
    {
     "data": {
      "text/html": [
       "<div>\n",
       "<style scoped>\n",
       "    .dataframe tbody tr th:only-of-type {\n",
       "        vertical-align: middle;\n",
       "    }\n",
       "\n",
       "    .dataframe tbody tr th {\n",
       "        vertical-align: top;\n",
       "    }\n",
       "\n",
       "    .dataframe thead th {\n",
       "        text-align: right;\n",
       "    }\n",
       "</style>\n",
       "<table border=\"1\" class=\"dataframe\">\n",
       "  <thead>\n",
       "    <tr style=\"text-align: right;\">\n",
       "      <th></th>\n",
       "      <th>All generated normal k-mers</th>\n",
       "      <th>Recurrence of k-mers across normal cohort</th>\n",
       "    </tr>\n",
       "  </thead>\n",
       "  <tbody>\n",
       "    <tr>\n",
       "      <th>1</th>\n",
       "      <td>TGRHDAFEI</td>\n",
       "      <td>7854</td>\n",
       "    </tr>\n",
       "    <tr>\n",
       "      <th>2</th>\n",
       "      <td>MNLSLYLGE</td>\n",
       "      <td>4402</td>\n",
       "    </tr>\n",
       "    <tr>\n",
       "      <th>3</th>\n",
       "      <td>CFSSLLAQD</td>\n",
       "      <td>1263</td>\n",
       "    </tr>\n",
       "    <tr>\n",
       "      <th>4</th>\n",
       "      <td>SDLPNPDTL</td>\n",
       "      <td>7870</td>\n",
       "    </tr>\n",
       "    <tr>\n",
       "      <th>5</th>\n",
       "      <td>VMKVENERY</td>\n",
       "      <td>7869</td>\n",
       "    </tr>\n",
       "    <tr>\n",
       "      <th>6</th>\n",
       "      <td>PRKLDFRSD</td>\n",
       "      <td>5638</td>\n",
       "    </tr>\n",
       "    <tr>\n",
       "      <th>7</th>\n",
       "      <td>VRRAVNDER</td>\n",
       "      <td>7721</td>\n",
       "    </tr>\n",
       "    <tr>\n",
       "      <th>8</th>\n",
       "      <td>QREGIYYIV</td>\n",
       "      <td>622</td>\n",
       "    </tr>\n",
       "    <tr>\n",
       "      <th>9</th>\n",
       "      <td>SLRLECSGA</td>\n",
       "      <td>5285</td>\n",
       "    </tr>\n",
       "    <tr>\n",
       "      <th>10</th>\n",
       "      <td>THRTDDNIQ</td>\n",
       "      <td>6194</td>\n",
       "    </tr>\n",
       "    <tr>\n",
       "      <th>11</th>\n",
       "      <td>AQAGVQWHD</td>\n",
       "      <td>3918</td>\n",
       "    </tr>\n",
       "    <tr>\n",
       "      <th>12</th>\n",
       "      <td>SYYKETLSV</td>\n",
       "      <td>7870</td>\n",
       "    </tr>\n",
       "    <tr>\n",
       "      <th>13</th>\n",
       "      <td>STPSPIPNT</td>\n",
       "      <td>7673</td>\n",
       "    </tr>\n",
       "    <tr>\n",
       "      <th>14</th>\n",
       "      <td>ETSSTHPLQ</td>\n",
       "      <td>657</td>\n",
       "    </tr>\n",
       "    <tr>\n",
       "      <th>15</th>\n",
       "      <td>LVTETLQQA</td>\n",
       "      <td>7681</td>\n",
       "    </tr>\n",
       "    <tr>\n",
       "      <th>16</th>\n",
       "      <td>QMFSGTFWA</td>\n",
       "      <td>757</td>\n",
       "    </tr>\n",
       "    <tr>\n",
       "      <th>17</th>\n",
       "      <td>SDILKMSLM</td>\n",
       "      <td>7858</td>\n",
       "    </tr>\n",
       "    <tr>\n",
       "      <th>18</th>\n",
       "      <td>AAQAGVQWH</td>\n",
       "      <td>3918</td>\n",
       "    </tr>\n",
       "    <tr>\n",
       "      <th>19</th>\n",
       "      <td>SLQPPPPRF</td>\n",
       "      <td>3918</td>\n",
       "    </tr>\n",
       "    <tr>\n",
       "      <th>20</th>\n",
       "      <td>GEVEEMDTL</td>\n",
       "      <td>7816</td>\n",
       "    </tr>\n",
       "    <tr>\n",
       "      <th>21</th>\n",
       "      <td>LTSPVTSIS</td>\n",
       "      <td>7850</td>\n",
       "    </tr>\n",
       "    <tr>\n",
       "      <th>22</th>\n",
       "      <td>LVSNSLSQG</td>\n",
       "      <td>6254</td>\n",
       "    </tr>\n",
       "    <tr>\n",
       "      <th>23</th>\n",
       "      <td>KWGLNMEYC</td>\n",
       "      <td>7853</td>\n",
       "    </tr>\n",
       "    <tr>\n",
       "      <th>24</th>\n",
       "      <td>ETSPTIIYQ</td>\n",
       "      <td>7682</td>\n",
       "    </tr>\n",
       "    <tr>\n",
       "      <th>25</th>\n",
       "      <td>TQILAQFPK</td>\n",
       "      <td>7632</td>\n",
       "    </tr>\n",
       "    <tr>\n",
       "      <th>26</th>\n",
       "      <td>LAQFPKQHQ</td>\n",
       "      <td>7632</td>\n",
       "    </tr>\n",
       "    <tr>\n",
       "      <th>27</th>\n",
       "      <td>HVIASRRQD</td>\n",
       "      <td>7612</td>\n",
       "    </tr>\n",
       "    <tr>\n",
       "      <th>28</th>\n",
       "      <td>SLLAQDLLK</td>\n",
       "      <td>1263</td>\n",
       "    </tr>\n",
       "    <tr>\n",
       "      <th>29</th>\n",
       "      <td>SFQHIDSVY</td>\n",
       "      <td>116</td>\n",
       "    </tr>\n",
       "    <tr>\n",
       "      <th>30</th>\n",
       "      <td>CSINIYKRM</td>\n",
       "      <td>75</td>\n",
       "    </tr>\n",
       "    <tr>\n",
       "      <th>31</th>\n",
       "      <td>AHRSGWSAV</td>\n",
       "      <td>5285</td>\n",
       "    </tr>\n",
       "    <tr>\n",
       "      <th>32</th>\n",
       "      <td>KETRKNSSC</td>\n",
       "      <td>5638</td>\n",
       "    </tr>\n",
       "    <tr>\n",
       "      <th>33</th>\n",
       "      <td>HPCQHLLLP</td>\n",
       "      <td>1491</td>\n",
       "    </tr>\n",
       "    <tr>\n",
       "      <th>34</th>\n",
       "      <td>LGSGDPPAS</td>\n",
       "      <td>5285</td>\n",
       "    </tr>\n",
       "    <tr>\n",
       "      <th>35</th>\n",
       "      <td>KTLGLLPNL</td>\n",
       "      <td>56</td>\n",
       "    </tr>\n",
       "    <tr>\n",
       "      <th>36</th>\n",
       "      <td>GLHGRCIFN</td>\n",
       "      <td>231</td>\n",
       "    </tr>\n",
       "    <tr>\n",
       "      <th>37</th>\n",
       "      <td>SSCLRKKTL</td>\n",
       "      <td>56</td>\n",
       "    </tr>\n",
       "    <tr>\n",
       "      <th>38</th>\n",
       "      <td>TVAQEVVFC</td>\n",
       "      <td>7</td>\n",
       "    </tr>\n",
       "    <tr>\n",
       "      <th>39</th>\n",
       "      <td>AGTIQTVPT</td>\n",
       "      <td>2</td>\n",
       "    </tr>\n",
       "    <tr>\n",
       "      <th>40</th>\n",
       "      <td>AGYSSVCYS</td>\n",
       "      <td>1686</td>\n",
       "    </tr>\n",
       "    <tr>\n",
       "      <th>41</th>\n",
       "      <td>DPARRADLE</td>\n",
       "      <td>1</td>\n",
       "    </tr>\n",
       "    <tr>\n",
       "      <th>42</th>\n",
       "      <td>KTQVLIKPK</td>\n",
       "      <td>7600</td>\n",
       "    </tr>\n",
       "    <tr>\n",
       "      <th>43</th>\n",
       "      <td>LKETEPHYV</td>\n",
       "      <td>370</td>\n",
       "    </tr>\n",
       "    <tr>\n",
       "      <th>44</th>\n",
       "      <td>VFIDAEDLA</td>\n",
       "      <td>1</td>\n",
       "    </tr>\n",
       "    <tr>\n",
       "      <th>45</th>\n",
       "      <td>TVYVKILSL</td>\n",
       "      <td>97</td>\n",
       "    </tr>\n",
       "    <tr>\n",
       "      <th>46</th>\n",
       "      <td>KTITVPVII</td>\n",
       "      <td>8</td>\n",
       "    </tr>\n",
       "    <tr>\n",
       "      <th>47</th>\n",
       "      <td>TVAQVKEKL</td>\n",
       "      <td>2</td>\n",
       "    </tr>\n",
       "    <tr>\n",
       "      <th>48</th>\n",
       "      <td>CWNSQPVVH</td>\n",
       "      <td>3</td>\n",
       "    </tr>\n",
       "  </tbody>\n",
       "</table>\n",
       "</div>"
      ],
      "text/plain": [
       "   All generated normal k-mers  Recurrence of k-mers across normal cohort\n",
       "1                    TGRHDAFEI                                       7854\n",
       "2                    MNLSLYLGE                                       4402\n",
       "3                    CFSSLLAQD                                       1263\n",
       "4                    SDLPNPDTL                                       7870\n",
       "5                    VMKVENERY                                       7869\n",
       "6                    PRKLDFRSD                                       5638\n",
       "7                    VRRAVNDER                                       7721\n",
       "8                    QREGIYYIV                                        622\n",
       "9                    SLRLECSGA                                       5285\n",
       "10                   THRTDDNIQ                                       6194\n",
       "11                   AQAGVQWHD                                       3918\n",
       "12                   SYYKETLSV                                       7870\n",
       "13                   STPSPIPNT                                       7673\n",
       "14                   ETSSTHPLQ                                        657\n",
       "15                   LVTETLQQA                                       7681\n",
       "16                   QMFSGTFWA                                        757\n",
       "17                   SDILKMSLM                                       7858\n",
       "18                   AAQAGVQWH                                       3918\n",
       "19                   SLQPPPPRF                                       3918\n",
       "20                   GEVEEMDTL                                       7816\n",
       "21                   LTSPVTSIS                                       7850\n",
       "22                   LVSNSLSQG                                       6254\n",
       "23                   KWGLNMEYC                                       7853\n",
       "24                   ETSPTIIYQ                                       7682\n",
       "25                   TQILAQFPK                                       7632\n",
       "26                   LAQFPKQHQ                                       7632\n",
       "27                   HVIASRRQD                                       7612\n",
       "28                   SLLAQDLLK                                       1263\n",
       "29                   SFQHIDSVY                                        116\n",
       "30                   CSINIYKRM                                         75\n",
       "31                   AHRSGWSAV                                       5285\n",
       "32                   KETRKNSSC                                       5638\n",
       "33                   HPCQHLLLP                                       1491\n",
       "34                   LGSGDPPAS                                       5285\n",
       "35                   KTLGLLPNL                                         56\n",
       "36                   GLHGRCIFN                                        231\n",
       "37                   SSCLRKKTL                                         56\n",
       "38                   TVAQEVVFC                                          7\n",
       "39                   AGTIQTVPT                                          2\n",
       "40                   AGYSSVCYS                                       1686\n",
       "41                   DPARRADLE                                          1\n",
       "42                   KTQVLIKPK                                       7600\n",
       "43                   LKETEPHYV                                        370\n",
       "44                   VFIDAEDLA                                          1\n",
       "45                   TVYVKILSL                                         97\n",
       "46                   KTITVPVII                                          8\n",
       "47                   TVAQVKEKL                                          2\n",
       "48                   CWNSQPVVH                                          3"
      ]
     },
     "execution_count": 15,
     "metadata": {},
     "output_type": "execute_result"
    }
   ],
   "source": [
    "df"
   ]
  },
  {
   "cell_type": "markdown",
   "id": "827b4c83",
   "metadata": {},
   "source": [
    "# Box plot for interm-cancer samples ref_combiExprCohortLim0.0Across1ExceptTCGABHA18V01A11RA12D07all.tsv(part-00000):"
   ]
  },
  {
   "cell_type": "code",
   "execution_count": 16,
   "id": "78fe662d",
   "metadata": {},
   "outputs": [
    {
     "data": {
      "text/html": [
       "<div>\n",
       "<style scoped>\n",
       "    .dataframe tbody tr th:only-of-type {\n",
       "        vertical-align: middle;\n",
       "    }\n",
       "\n",
       "    .dataframe tbody tr th {\n",
       "        vertical-align: top;\n",
       "    }\n",
       "\n",
       "    .dataframe thead th {\n",
       "        text-align: right;\n",
       "    }\n",
       "</style>\n",
       "<table border=\"1\" class=\"dataframe\">\n",
       "  <thead>\n",
       "    <tr style=\"text-align: right;\">\n",
       "      <th></th>\n",
       "      <th>All generated cancer k-mers</th>\n",
       "      <th>Recurrence of k-mers across cancer cohort</th>\n",
       "    </tr>\n",
       "  </thead>\n",
       "  <tbody>\n",
       "    <tr>\n",
       "      <th>0</th>\n",
       "      <td>AGYSSVCYS</td>\n",
       "      <td>446</td>\n",
       "    </tr>\n",
       "    <tr>\n",
       "      <th>1</th>\n",
       "      <td>KTQVLIKPK</td>\n",
       "      <td>1064</td>\n",
       "    </tr>\n",
       "    <tr>\n",
       "      <th>2</th>\n",
       "      <td>TVYVKILSL</td>\n",
       "      <td>22</td>\n",
       "    </tr>\n",
       "    <tr>\n",
       "      <th>3</th>\n",
       "      <td>SQSSQEHLE</td>\n",
       "      <td>41</td>\n",
       "    </tr>\n",
       "    <tr>\n",
       "      <th>4</th>\n",
       "      <td>SSQSSQDSQ</td>\n",
       "      <td>1064</td>\n",
       "    </tr>\n",
       "  </tbody>\n",
       "</table>\n",
       "</div>"
      ],
      "text/plain": [
       "  All generated cancer k-mers  Recurrence of k-mers across cancer cohort\n",
       "0                   AGYSSVCYS                                        446\n",
       "1                   KTQVLIKPK                                       1064\n",
       "2                   TVYVKILSL                                         22\n",
       "3                   SQSSQEHLE                                         41\n",
       "4                   SSQSSQDSQ                                       1064"
      ]
     },
     "execution_count": 16,
     "metadata": {},
     "output_type": "execute_result"
    }
   ],
   "source": [
    "df = pd.read_csv('/cluster/work/grlab/projects/projects2020_OHSU/peptides_generation/learning_filter/TCGA_Breast/filter_TCGA-BH-A18V-01A-11R-A12D-07.all/DATA_TEST_22.06.2022_Task5_Run#13_a_interm_cancer/interm_cancer_ref_combiExprCohortLim0.0Across1ExceptTCGABHA18V01A11RA12D07all.tsv/part-00000', sep = '\\t', names=['All generated cancer k-mers', 'Recurrence of k-mers across cancer cohort'])\n",
    "df.head()"
   ]
  },
  {
   "cell_type": "code",
   "execution_count": 17,
   "id": "c6cffe7f",
   "metadata": {
    "scrolled": true
   },
   "outputs": [
    {
     "data": {
      "image/png": "[encoded data removed]",
      "text/plain": [
       "<Figure size 432x288 with 1 Axes>"
      ]
     },
     "metadata": {
      "needs_background": "light"
     },
     "output_type": "display_data"
    }
   ],
   "source": [
    "#Plotting box plot using seaborn library:\n",
    "sns.boxplot(data = df, y = 'Recurrence of k-mers across cancer cohort', palette = 'muted', width=0.5) \n",
    "plt.ylabel('Recurrence of k-mers across cancer cohort') #Recurrence across filtered_foregrounds /(normal samples) of k-mers\n",
    "plt.xlabel('All generated cancer k-mers') \n",
    "plt.show()"
   ]
  },
  {
   "cell_type": "code",
   "execution_count": 18,
   "id": "32baccf2",
   "metadata": {},
   "outputs": [
    {
     "data": {
      "image/png": "[encoded data removed]",
      "text/plain": [
       "<Figure size 432x288 with 1 Axes>"
      ]
     },
     "metadata": {
      "needs_background": "light"
     },
     "output_type": "display_data"
    }
   ],
   "source": [
    "#Plotting violin plot using seaborn library:\n",
    "sns.violinplot(data = df, y = 'Recurrence of k-mers across cancer cohort', palette = 'muted', width=0.5) \n",
    "plt.ylabel('Recurrence of k-mers across cancer cohort')\n",
    "plt.xlabel('All generated cancer k-mers')\n",
    "plt.show()"
   ]
  },
  {
   "cell_type": "code",
   "execution_count": 19,
   "id": "55cc1a68",
   "metadata": {},
   "outputs": [
    {
     "data": {
      "text/plain": [
       "Text(0.5, 0, 'All generated cancer k-mers')"
      ]
     },
     "execution_count": 19,
     "metadata": {},
     "output_type": "execute_result"
    },
    {
     "data": {
      "image/png": "[encoded data removed]",
      "text/plain": [
       "<Figure size 432x288 with 1 Axes>"
      ]
     },
     "metadata": {
      "needs_background": "light"
     },
     "output_type": "display_data"
    }
   ],
   "source": [
    "#Plotting box plot using matplotlib library:\n",
    "plt.boxplot(x=df['Recurrence of k-mers across cancer cohort'], vert=True);\n",
    "plt.ylabel('Recurrence of k-mers across cancer cohort')\n",
    "plt.xlabel('All generated cancer k-mers')"
   ]
  },
  {
   "cell_type": "code",
   "execution_count": 20,
   "id": "26d8bd8c",
   "metadata": {},
   "outputs": [
    {
     "data": {
      "text/plain": [
       "Text(0.5, 0, 'All generated cancer k-mers')"
      ]
     },
     "execution_count": 20,
     "metadata": {},
     "output_type": "execute_result"
    },
    {
     "data": {
      "image/png": "[encoded data removed]",
      "text/plain": [
       "<Figure size 432x288 with 1 Axes>"
      ]
     },
     "metadata": {
      "needs_background": "light"
     },
     "output_type": "display_data"
    }
   ],
   "source": [
    "#Plotting violin plot using matplotlib library:\n",
    "plt.violinplot(df['Recurrence of k-mers across cancer cohort'], vert=True);\n",
    "plt.ylabel('Recurrence of k-mers across cancer cohort')\n",
    "plt.xlabel('All generated cancer k-mers')"
   ]
  },
  {
   "cell_type": "code",
   "execution_count": 21,
   "id": "88f1d982",
   "metadata": {},
   "outputs": [],
   "source": [
    "import glob\n",
    "import pandas as pd\n",
    "#merged reccurence and expression in the output \n",
    "#Scatter plots\n",
    "#panda merge will be used\n",
    "\n",
    "#Expression data:(for normals and for cancer samples)\n",
    "    #/cluster/work/grlab/projects/projects2020_OHSU/peptides_generation/v2_v2.5f0752a_conf2_annotFrame_cap0_runs_pya0.17.1/TCGA_Breast_1102\n",
    "    #/filter_TCGA-A2-A0D2-01A-21R-A034-07.all/commit_d4aee54_GTEXcore\n",
    "    #/G_TCGA-A2-A0D2-01A-21R-A034-07.all_ref_SampleLim0.0CohortLim0.0Across10_FiltNormalsGtexcoreCohortlim3.0Across10_FiltUniprot.tsv\n",
    "    #/part-00000-ff44ef83-8d6d-4992-8585-46eac2dae2dd-c000.csv\n",
    "    \n",
    "#Reccurence data(for normals):/cluster/work/grlab/projects/projects2020_OHSU/peptides_generation/v2_v2.5f0752a_conf2_annotFrame_cap0_runs_pya0.17.1/filtered_backgrounds/commit_d4aee54_GTEXcore/interm_normals_combiExprCohortLim0.0Across1.tsv    \n",
    "#combiExprCohortLim0.0Across1-\n",
    "#- this means that the expression limit required in the intermediate file is >0. This is the most “general” file. Others can request an expression of 3 or 10\n",
    "#And at best try loading all the “parts.csv” in a single table as in:\n",
    "#Check difference between merge and concatenate in pandas. Here what we want to do is concatenate. \n",
    "#Because the part dataframe are the same columns, different kmers, which need to be put “on top of each other\n",
    "#You can do a concatenation “on the fly” with the code I gave you:\n",
    "\n",
    "#Code:\n",
    "\n",
    "'''\n",
    "Code 1 \n",
    "all_files  = [ ]\n",
    "for file in ..\n",
    "df = read_csv(..)\n",
    "all_files.append(df)\n",
    "\n",
    "\n",
    "\n",
    "Code 2\n",
    "path = f\"{home}/Documents/code/coiled/coiled-datasets/data/fish/\"\n",
    "all_files = glob.glob(path + \"/**/*.csv\")\n",
    "all_files_df = []\n",
    "for f in all_files:\n",
    "    all_files_df.append(pd.read_csv(f))\n",
    "df = pd.concat(all_files_df)\n",
    "\n",
    "#Fills all_files_df = [] with panda dataframes so that you have a list of panda dataframes ->  \n",
    "that are later concatenated.\n",
    "\n",
    "#home in this case is a variable\n",
    "like\n",
    "home=‘any_path_thatyou_want’\n",
    "and f”{home}/additional_stuff”\n",
    "gives\n",
    "‘any_path_thatyou_want/additional_stuff’\n",
    "\n",
    "\n",
    "\n",
    "\n",
    "\n",
    "You need to replace it accordingly yes\n",
    "\n",
    "Please read about glob.glob function\n",
    "\n",
    "glob.glob works with * in paths (wildcards)\n",
    "\n",
    "\n",
    "Code 3(more advanced)\n",
    "path = f\"{home}/Documents/code/coiled/coiled-datasets/data/fish/\"\n",
    "all_files = glob.glob(path + \"/**/*.csv\")\n",
    "df = pd.concat((pd.read_csv(f) for f in all_files))\n",
    "\n",
    "#The (pd.read_csv(f) for f in all_files) , \n",
    "is called a list comprehension  this is the same as having the for loop, but “horizontal”\n",
    "'''\n",
    "\n",
    "\n",
    "#Concat reccurence data for normals:\n",
    "\n",
    "all_files = glob.glob('/cluster/work/grlab/projects/projects2020_OHSU/peptides_generation/v2_v2.5f0752a_conf2_annotFrame_cap0_runs_pya0.17.1/filtered_backgrounds/commit_d4aee54_GTEXcore/interm_normals_combiExprCohortLim0.0Across1.tsv/part*')\n",
    "all_files_df = []\n",
    "for f in all_files:\n",
    "    all_files_df.append(pd.read_csv(f,names=['All generated normal k-mers', 'Recurrence of k-mers across normal cohort'],delimiter='\\t'))\n",
    "df_A = pd.concat(all_files_df, axis = 0 ) #It tells which direction to take for concatenating                      "
   ]
  },
  {
   "cell_type": "code",
   "execution_count": 22,
   "id": "14b0e765",
   "metadata": {},
   "outputs": [
    {
     "data": {
      "text/html": [
       "<div>\n",
       "<style scoped>\n",
       "    .dataframe tbody tr th:only-of-type {\n",
       "        vertical-align: middle;\n",
       "    }\n",
       "\n",
       "    .dataframe tbody tr th {\n",
       "        vertical-align: top;\n",
       "    }\n",
       "\n",
       "    .dataframe thead th {\n",
       "        text-align: right;\n",
       "    }\n",
       "</style>\n",
       "<table border=\"1\" class=\"dataframe\">\n",
       "  <thead>\n",
       "    <tr style=\"text-align: right;\">\n",
       "      <th></th>\n",
       "      <th>All generated normal k-mers</th>\n",
       "      <th>Recurrence of k-mers across normal cohort</th>\n",
       "    </tr>\n",
       "  </thead>\n",
       "  <tbody>\n",
       "    <tr>\n",
       "      <th>0</th>\n",
       "      <td>AAAAAAAEV</td>\n",
       "      <td>7833</td>\n",
       "    </tr>\n",
       "    <tr>\n",
       "      <th>1</th>\n",
       "      <td>AAAAAAALV</td>\n",
       "      <td>7188</td>\n",
       "    </tr>\n",
       "    <tr>\n",
       "      <th>2</th>\n",
       "      <td>AAAAAAAQG</td>\n",
       "      <td>7871</td>\n",
       "    </tr>\n",
       "    <tr>\n",
       "      <th>3</th>\n",
       "      <td>AAAAAATVM</td>\n",
       "      <td>7835</td>\n",
       "    </tr>\n",
       "    <tr>\n",
       "      <th>4</th>\n",
       "      <td>AAAAAEEPL</td>\n",
       "      <td>3439</td>\n",
       "    </tr>\n",
       "    <tr>\n",
       "      <th>...</th>\n",
       "      <td>...</td>\n",
       "      <td>...</td>\n",
       "    </tr>\n",
       "    <tr>\n",
       "      <th>374070</th>\n",
       "      <td>YYYIHHGID</td>\n",
       "      <td>3403</td>\n",
       "    </tr>\n",
       "    <tr>\n",
       "      <th>374071</th>\n",
       "      <td>YYYKLKNNT</td>\n",
       "      <td>7664</td>\n",
       "    </tr>\n",
       "    <tr>\n",
       "      <th>374072</th>\n",
       "      <td>YYYMGVDAV</td>\n",
       "      <td>5269</td>\n",
       "    </tr>\n",
       "    <tr>\n",
       "      <th>374073</th>\n",
       "      <td>YYYRPARQV</td>\n",
       "      <td>128</td>\n",
       "    </tr>\n",
       "    <tr>\n",
       "      <th>374074</th>\n",
       "      <td>YYYYLFHWY</td>\n",
       "      <td>41</td>\n",
       "    </tr>\n",
       "  </tbody>\n",
       "</table>\n",
       "<p>37467858 rows × 2 columns</p>\n",
       "</div>"
      ],
      "text/plain": [
       "       All generated normal k-mers  Recurrence of k-mers across normal cohort\n",
       "0                        AAAAAAAEV                                       7833\n",
       "1                        AAAAAAALV                                       7188\n",
       "2                        AAAAAAAQG                                       7871\n",
       "3                        AAAAAATVM                                       7835\n",
       "4                        AAAAAEEPL                                       3439\n",
       "...                            ...                                        ...\n",
       "374070                   YYYIHHGID                                       3403\n",
       "374071                   YYYKLKNNT                                       7664\n",
       "374072                   YYYMGVDAV                                       5269\n",
       "374073                   YYYRPARQV                                        128\n",
       "374074                   YYYYLFHWY                                         41\n",
       "\n",
       "[37467858 rows x 2 columns]"
      ]
     },
     "execution_count": 22,
     "metadata": {},
     "output_type": "execute_result"
    }
   ],
   "source": [
    "df_A"
   ]
  },
  {
   "cell_type": "code",
   "execution_count": 23,
   "id": "68263b97",
   "metadata": {},
   "outputs": [
    {
     "data": {
      "text/html": [
       "<div>\n",
       "<style scoped>\n",
       "    .dataframe tbody tr th:only-of-type {\n",
       "        vertical-align: middle;\n",
       "    }\n",
       "\n",
       "    .dataframe tbody tr th {\n",
       "        vertical-align: top;\n",
       "    }\n",
       "\n",
       "    .dataframe thead th {\n",
       "        text-align: right;\n",
       "    }\n",
       "</style>\n",
       "<table border=\"1\" class=\"dataframe\">\n",
       "  <thead>\n",
       "    <tr style=\"text-align: right;\">\n",
       "      <th></th>\n",
       "      <th>All generated normal k-mers</th>\n",
       "      <th>Expression</th>\n",
       "      <th>kmer_IL_eq</th>\n",
       "    </tr>\n",
       "  </thead>\n",
       "  <tbody>\n",
       "    <tr>\n",
       "      <th>0</th>\n",
       "      <td>AAGDDENHN</td>\n",
       "      <td>531.0</td>\n",
       "      <td>AAGDDENHN</td>\n",
       "    </tr>\n",
       "    <tr>\n",
       "      <th>1</th>\n",
       "      <td>AAMGIKSCA</td>\n",
       "      <td>3324.0</td>\n",
       "      <td>AAMGLKSCA</td>\n",
       "    </tr>\n",
       "    <tr>\n",
       "      <th>2</th>\n",
       "      <td>AAPGQHLQA</td>\n",
       "      <td>38.0</td>\n",
       "      <td>AAPGQHLQA</td>\n",
       "    </tr>\n",
       "    <tr>\n",
       "      <th>3</th>\n",
       "      <td>AGNIWILSV</td>\n",
       "      <td>25.0</td>\n",
       "      <td>AGNLWLLSV</td>\n",
       "    </tr>\n",
       "    <tr>\n",
       "      <th>4</th>\n",
       "      <td>AGPDWIIAI</td>\n",
       "      <td>29.0</td>\n",
       "      <td>AGPDWLLAL</td>\n",
       "    </tr>\n",
       "  </tbody>\n",
       "</table>\n",
       "</div>"
      ],
      "text/plain": [
       "  All generated normal k-mers Expression kmer_IL_eq\n",
       "0                   AAGDDENHN      531.0  AAGDDENHN\n",
       "1                   AAMGIKSCA     3324.0  AAMGLKSCA\n",
       "2                   AAPGQHLQA       38.0  AAPGQHLQA\n",
       "3                   AGNIWILSV       25.0  AGNLWLLSV\n",
       "4                   AGPDWIIAI       29.0  AGPDWLLAL"
      ]
     },
     "execution_count": 23,
     "metadata": {},
     "output_type": "execute_result"
    }
   ],
   "source": [
    "fname = '/cluster/work/grlab/projects/projects2020_OHSU/peptides_generation/v2_v2.5f0752a_conf2_annotFrame_cap0_runs_pya0.17.1/TCGA_Breast_1102/filter_TCGA-A2-A0D2-01A-21R-A034-07.all/commit_d4aee54_GTEXcore/G_TCGA-A2-A0D2-01A-21R-A034-07.all_ref_SampleLim0.0CohortLim0.0Across10_FiltNormalsGtexcoreCohortlim3.0Across10_FiltUniprot.tsv/part-00000-ff44ef83-8d6d-4992-8585-46eac2dae2dd-c000.csv'\n",
    "df_B = pd.read_csv(fname,sep='\\t',names=['All generated normal k-mers', 'Expression', 'kmer_IL_eq'])\n",
    "df_B = df_B.loc[1:].reset_index().drop('index', axis = 1)\n",
    "df_B.head()"
   ]
  },
  {
   "cell_type": "code",
   "execution_count": 24,
   "id": "47292e2b",
   "metadata": {},
   "outputs": [
    {
     "data": {
      "text/plain": [
       "All generated normal k-mers    object\n",
       "Expression                     object\n",
       "kmer_IL_eq                     object\n",
       "dtype: object"
      ]
     },
     "execution_count": 24,
     "metadata": {},
     "output_type": "execute_result"
    }
   ],
   "source": [
    "df_B.dtypes"
   ]
  },
  {
   "cell_type": "code",
   "execution_count": 25,
   "id": "08dc3371",
   "metadata": {},
   "outputs": [],
   "source": [
    "df_B['Expression'] = df_B['Expression'].astype(float)"
   ]
  },
  {
   "cell_type": "code",
   "execution_count": 26,
   "id": "cda1a4aa",
   "metadata": {},
   "outputs": [],
   "source": [
    "df = pd.merge(df_A, df_B,  how='inner', on=['All generated normal k-mers'])\n"
   ]
  },
  {
   "cell_type": "code",
   "execution_count": 27,
   "id": "cdf457d3",
   "metadata": {},
   "outputs": [
    {
     "data": {
      "text/plain": [
       "<AxesSubplot:xlabel='Expression', ylabel='Recurrence of k-mers across normal cohort'>"
      ]
     },
     "execution_count": 27,
     "metadata": {},
     "output_type": "execute_result"
    },
    {
     "data": {
      "image/png": "[encoded data removed]",
      "text/plain": [
       "<Figure size 720x720 with 1 Axes>"
      ]
     },
     "metadata": {
      "needs_background": "light"
     },
     "output_type": "display_data"
    }
   ],
   "source": [
    "#Building scatter plot for normals:\n",
    "\n",
    "import matplotlib.pyplot as plt\n",
    "#plt.figure(figsize=(10,5))\n",
    "#df = df.loc[df['Expression'] <= number, :]\n",
    "plt.rcParams[\"figure.figsize\"] = (10, 10)\n",
    "#pandas method. tru  to use all matplotlib for plots:\n",
    "df.plot.scatter(x='Expression',y='Recurrence of k-mers across normal cohort', s = 100, c = 'green')\n",
    "#fontsize for writing axis legends bigger"
   ]
  },
  {
   "cell_type": "code",
   "execution_count": 28,
   "id": "bf12ec91",
   "metadata": {},
   "outputs": [],
   "source": [
    "#Concat reccurence data for cancer samples:\n",
    "all_files = glob.glob('/cluster/work/grlab/projects/projects2020_OHSU/peptides_generation/v2_v2.5f0752a_conf2_annotFrame_cap0_runs_pya0.17.1/TCGA_Breast_1102/filter_TCGA-A2-A0D2-01A-21R-A034-07.all/commit_d4aee54_a_interm_cancer/interm_cancer_ref_combiExprCohortLim0.0Across1ExceptTCGAA2A0D201A21RA03407all.tsv/part*')\n",
    "all_files_df = []\n",
    "for f in all_files:\n",
    "    all_files_df.append(pd.read_csv(f,names=['All generated cancer k-mers', 'Recurrence of k-mers across cancer cohort'],delimiter='\\t'))\n",
    "df_A = pd.concat(all_files_df, axis = 0 ) "
   ]
  },
  {
   "cell_type": "code",
   "execution_count": 29,
   "id": "5cb7471c",
   "metadata": {},
   "outputs": [
    {
     "data": {
      "text/html": [
       "<div>\n",
       "<style scoped>\n",
       "    .dataframe tbody tr th:only-of-type {\n",
       "        vertical-align: middle;\n",
       "    }\n",
       "\n",
       "    .dataframe tbody tr th {\n",
       "        vertical-align: top;\n",
       "    }\n",
       "\n",
       "    .dataframe thead th {\n",
       "        text-align: right;\n",
       "    }\n",
       "</style>\n",
       "<table border=\"1\" class=\"dataframe\">\n",
       "  <thead>\n",
       "    <tr style=\"text-align: right;\">\n",
       "      <th></th>\n",
       "      <th>All generated cancer k-mers</th>\n",
       "      <th>Recurrence of k-mers across cancer cohort</th>\n",
       "    </tr>\n",
       "  </thead>\n",
       "  <tbody>\n",
       "    <tr>\n",
       "      <th>0</th>\n",
       "      <td>TCPSSQEPA</td>\n",
       "      <td>1</td>\n",
       "    </tr>\n",
       "    <tr>\n",
       "      <th>1</th>\n",
       "      <td>ATSLAAVVT</td>\n",
       "      <td>8</td>\n",
       "    </tr>\n",
       "    <tr>\n",
       "      <th>2</th>\n",
       "      <td>ALAGGCECD</td>\n",
       "      <td>18</td>\n",
       "    </tr>\n",
       "    <tr>\n",
       "      <th>3</th>\n",
       "      <td>AGGCECDNA</td>\n",
       "      <td>18</td>\n",
       "    </tr>\n",
       "    <tr>\n",
       "      <th>4</th>\n",
       "      <td>PDDFKGYGE</td>\n",
       "      <td>17</td>\n",
       "    </tr>\n",
       "    <tr>\n",
       "      <th>...</th>\n",
       "      <td>...</td>\n",
       "      <td>...</td>\n",
       "    </tr>\n",
       "    <tr>\n",
       "      <th>51694</th>\n",
       "      <td>EVKDEKDDM</td>\n",
       "      <td>1101</td>\n",
       "    </tr>\n",
       "    <tr>\n",
       "      <th>51695</th>\n",
       "      <td>RVRHIEHNE</td>\n",
       "      <td>1</td>\n",
       "    </tr>\n",
       "    <tr>\n",
       "      <th>51696</th>\n",
       "      <td>PAVREKARS</td>\n",
       "      <td>104</td>\n",
       "    </tr>\n",
       "    <tr>\n",
       "      <th>51697</th>\n",
       "      <td>ETHFRVAVS</td>\n",
       "      <td>65</td>\n",
       "    </tr>\n",
       "    <tr>\n",
       "      <th>51698</th>\n",
       "      <td>VPGHGGIIN</td>\n",
       "      <td>32</td>\n",
       "    </tr>\n",
       "  </tbody>\n",
       "</table>\n",
       "<p>5161362 rows × 2 columns</p>\n",
       "</div>"
      ],
      "text/plain": [
       "      All generated cancer k-mers  Recurrence of k-mers across cancer cohort\n",
       "0                       TCPSSQEPA                                          1\n",
       "1                       ATSLAAVVT                                          8\n",
       "2                       ALAGGCECD                                         18\n",
       "3                       AGGCECDNA                                         18\n",
       "4                       PDDFKGYGE                                         17\n",
       "...                           ...                                        ...\n",
       "51694                   EVKDEKDDM                                       1101\n",
       "51695                   RVRHIEHNE                                          1\n",
       "51696                   PAVREKARS                                        104\n",
       "51697                   ETHFRVAVS                                         65\n",
       "51698                   VPGHGGIIN                                         32\n",
       "\n",
       "[5161362 rows x 2 columns]"
      ]
     },
     "execution_count": 29,
     "metadata": {},
     "output_type": "execute_result"
    }
   ],
   "source": [
    "df_A"
   ]
  },
  {
   "cell_type": "code",
   "execution_count": 30,
   "id": "0102031f",
   "metadata": {
    "scrolled": false
   },
   "outputs": [
    {
     "data": {
      "text/html": [
       "<div>\n",
       "<style scoped>\n",
       "    .dataframe tbody tr th:only-of-type {\n",
       "        vertical-align: middle;\n",
       "    }\n",
       "\n",
       "    .dataframe tbody tr th {\n",
       "        vertical-align: top;\n",
       "    }\n",
       "\n",
       "    .dataframe thead th {\n",
       "        text-align: right;\n",
       "    }\n",
       "</style>\n",
       "<table border=\"1\" class=\"dataframe\">\n",
       "  <thead>\n",
       "    <tr style=\"text-align: right;\">\n",
       "      <th></th>\n",
       "      <th>All generated cancer k-mers</th>\n",
       "      <th>Expression</th>\n",
       "      <th>kmer_IL_eq</th>\n",
       "    </tr>\n",
       "  </thead>\n",
       "  <tbody>\n",
       "    <tr>\n",
       "      <th>0</th>\n",
       "      <td>AAGDDENHN</td>\n",
       "      <td>531.0</td>\n",
       "      <td>AAGDDENHN</td>\n",
       "    </tr>\n",
       "    <tr>\n",
       "      <th>1</th>\n",
       "      <td>AAMGIKSCA</td>\n",
       "      <td>3324.0</td>\n",
       "      <td>AAMGLKSCA</td>\n",
       "    </tr>\n",
       "    <tr>\n",
       "      <th>2</th>\n",
       "      <td>AAPGQHLQA</td>\n",
       "      <td>38.0</td>\n",
       "      <td>AAPGQHLQA</td>\n",
       "    </tr>\n",
       "    <tr>\n",
       "      <th>3</th>\n",
       "      <td>AGNIWILSV</td>\n",
       "      <td>25.0</td>\n",
       "      <td>AGNLWLLSV</td>\n",
       "    </tr>\n",
       "    <tr>\n",
       "      <th>4</th>\n",
       "      <td>AGPDWIIAI</td>\n",
       "      <td>29.0</td>\n",
       "      <td>AGPDWLLAL</td>\n",
       "    </tr>\n",
       "  </tbody>\n",
       "</table>\n",
       "</div>"
      ],
      "text/plain": [
       "  All generated cancer k-mers Expression kmer_IL_eq\n",
       "0                   AAGDDENHN      531.0  AAGDDENHN\n",
       "1                   AAMGIKSCA     3324.0  AAMGLKSCA\n",
       "2                   AAPGQHLQA       38.0  AAPGQHLQA\n",
       "3                   AGNIWILSV       25.0  AGNLWLLSV\n",
       "4                   AGPDWIIAI       29.0  AGPDWLLAL"
      ]
     },
     "execution_count": 30,
     "metadata": {},
     "output_type": "execute_result"
    }
   ],
   "source": [
    "fname = '/cluster/work/grlab/projects/projects2020_OHSU/peptides_generation/v2_v2.5f0752a_conf2_annotFrame_cap0_runs_pya0.17.1/TCGA_Breast_1102/filter_TCGA-A2-A0D2-01A-21R-A034-07.all/commit_d4aee54_GTEXcore/G_TCGA-A2-A0D2-01A-21R-A034-07.all_ref_SampleLim0.0CohortLim0.0Across10_FiltNormalsGtexcoreCohortlim3.0Across10_FiltUniprot.tsv/part-00000-ff44ef83-8d6d-4992-8585-46eac2dae2dd-c000.csv'\n",
    "df_B = pd.read_csv(fname,sep='\\t',names=['All generated cancer k-mers', 'Expression', 'kmer_IL_eq'])\n",
    "df_B = df_B.loc[1:].reset_index().drop('index', axis = 1)\n",
    "df_B.head()"
   ]
  },
  {
   "cell_type": "code",
   "execution_count": 31,
   "id": "11ecae90",
   "metadata": {},
   "outputs": [
    {
     "data": {
      "text/plain": [
       "All generated cancer k-mers    object\n",
       "Expression                     object\n",
       "kmer_IL_eq                     object\n",
       "dtype: object"
      ]
     },
     "execution_count": 31,
     "metadata": {},
     "output_type": "execute_result"
    }
   ],
   "source": [
    "df_B.dtypes"
   ]
  },
  {
   "cell_type": "code",
   "execution_count": 32,
   "id": "26ba92c5",
   "metadata": {},
   "outputs": [],
   "source": [
    "df_B['Expression'] = df_B['Expression'].astype(float)"
   ]
  },
  {
   "cell_type": "code",
   "execution_count": 33,
   "id": "a7af27d1",
   "metadata": {},
   "outputs": [],
   "source": [
    "df = pd.merge(df_A, df_B,  how='inner', on=['All generated cancer k-mers'])"
   ]
  },
  {
   "cell_type": "code",
   "execution_count": 34,
   "id": "0e191562",
   "metadata": {},
   "outputs": [],
   "source": [
    "df = df.loc[df['Expression'] <= 30, :]"
   ]
  },
  {
   "cell_type": "code",
   "execution_count": 35,
   "id": "2d6c04bb",
   "metadata": {},
   "outputs": [
    {
     "data": {
      "text/plain": [
       "<AxesSubplot:xlabel='Expression', ylabel='Recurrence of k-mers across cancer cohort'>"
      ]
     },
     "execution_count": 35,
     "metadata": {},
     "output_type": "execute_result"
    },
    {
     "data": {
      "image/png": "[encoded data removed]",
      "text/plain": [
       "<Figure size 576x576 with 1 Axes>"
      ]
     },
     "metadata": {
      "needs_background": "light"
     },
     "output_type": "display_data"
    }
   ],
   "source": [
    "#Building scatter plot for cancer samples:\n",
    "\n",
    "import matplotlib.pyplot as plt\n",
    "#plt.figure(figsize=(10,5))\n",
    "plt.rcParams[\"figure.figsize\"] = (8, 8)\n",
    "df.plot.scatter(x='Expression',y='Recurrence of k-mers across cancer cohort', s = 50, c = 'red')\n",
    "#plt.savefig('njkb.bbjb;kjbkb')\n"
   ]
  },
  {
   "cell_type": "markdown",
   "id": "86d74a52",
   "metadata": {},
   "source": [
    "Low is < 10 \n",
    "Medium 10 < < 50\n",
    "High > 50 reads "
   ]
  },
  {
   "cell_type": "code",
   "execution_count": 36,
   "id": "66084f37",
   "metadata": {},
   "outputs": [
    {
     "data": {
      "text/plain": [
       "\"\\nnew_df = pd.merge(A_df, B_df,  how='left', left_on=['A_c1','c2'], right_on = ['B_c1','c2'])\\n\\n\\n\\n#Building scatter plot:\\n#Example\\n\\n# Program to draw scatter plot using Dataframe.plot\\n# Import libraries\\nimport pandas as pd\\n  \\n# Prepare data\\ndata={'Name':['Dhanashri', 'Smita', 'Rutuja',\\n              'Sunita', 'Poonam', 'Srushti'],\\n      'Age':[ 20, 18, 27, 50, 12, 15]}\\n  \\n# Load data into DataFrame\\ndf = pd.DataFrame(data = data);\\n  \\n# Draw a scatter plot and here size of dots determined by age of person\\ndf.plot.scatter(x = 'Name', y = 'Age', s = 'Age', c = 'red');\\n\""
      ]
     },
     "execution_count": 36,
     "metadata": {},
     "output_type": "execute_result"
    }
   ],
   "source": [
    "# Difference between merge( ) and concat( ) in pandas\n",
    "\n",
    "'''A very high level difference is that merge() is used to combine two (or more) dataframes on the basis of values of common columns(indexes can also be used, use left_index=True and/or right_index=True), \n",
    "and concat() is used to append one (or more) dataframes one below the other (or sideways, depending on whether the axis option is set to 0 or 1).\n",
    "\n",
    "join() is used to merge 2 dataframes on the basis of the index; instead of using merge() with the option left_index=True we can use join().'''\n",
    "\n",
    "\n",
    "\n",
    "#Merging two dataframes reccurence and expression of k-mers across normal cohort:\n",
    "\n",
    "#Reccurence:\n",
    "# /cluster/work/grlab/projects/projects2020_OHSU/peptides_generation/v2_v2.5f0752a_conf2_annotFrame_cap0_runs_pya0.17.1/filtered_backgrounds/commit_d4aee54_GTEXcore/interm_normals_combiExprCohortLim0.0Across1.tsv\n",
    "\n",
    "#Expression:\n",
    "#/cluster/work/grlab/projects/projects2020_OHSU/peptides_generation/v2_v2.5f0752a_conf2_annotFrame_cap0_runs_pya0.17.1/TCGA_Breast_1102\n",
    "#/filter_TCGA-A2-A0D2-01A-21R-A034-07.all/commit_d4aee54_GTEXcore\n",
    "#/G_TCGA-A2-A0D2-01A-21R-A034-07.all_ref_SampleLim0.0CohortLim0.0Across10_FiltNormalsGtexcoreCohortlim3.0Across10_FiltUniprot.tsv\n",
    "#/part-00000-ff44ef83-8d6d-4992-8585-46eac2dae2dd-c000.csv\n",
    "\n",
    "\n",
    "#Pandas merging:\n",
    "'''\n",
    "new_df = pd.merge(A_df, B_df,  how='left', left_on=['A_c1','c2'], right_on = ['B_c1','c2'])\n",
    "\n",
    "\n",
    "\n",
    "#Building scatter plot:\n",
    "#Example\n",
    "\n",
    "# Program to draw scatter plot using Dataframe.plot\n",
    "# Import libraries\n",
    "import pandas as pd\n",
    "  \n",
    "# Prepare data\n",
    "data={'Name':['Dhanashri', 'Smita', 'Rutuja',\n",
    "              'Sunita', 'Poonam', 'Srushti'],\n",
    "      'Age':[ 20, 18, 27, 50, 12, 15]}\n",
    "  \n",
    "# Load data into DataFrame\n",
    "df = pd.DataFrame(data = data);\n",
    "  \n",
    "# Draw a scatter plot and here size of dots determined by age of person\n",
    "df.plot.scatter(x = 'Name', y = 'Age', s = 'Age', c = 'red');\n",
    "'''"
   ]
  },
  {
   "cell_type": "code",
   "execution_count": 1,
   "id": "d7ab98df",
   "metadata": {},
   "outputs": [],
   "source": [
    "import os \n",
    "import pandas as pd\n",
    "from collections import defaultdict\n",
    "import numpy as np \n",
    "import matplotlib.pyplot as plt\n",
    "import seaborn as sns"
   ]
  },
  {
   "cell_type": "code",
   "execution_count": 2,
   "id": "e41f07fe",
   "metadata": {},
   "outputs": [
    {
     "data": {
      "text/html": [
       "<div>\n",
       "<style scoped>\n",
       "    .dataframe tbody tr th:only-of-type {\n",
       "        vertical-align: middle;\n",
       "    }\n",
       "\n",
       "    .dataframe tbody tr th {\n",
       "        vertical-align: top;\n",
       "    }\n",
       "\n",
       "    .dataframe thead th {\n",
       "        text-align: right;\n",
       "    }\n",
       "</style>\n",
       "<table border=\"1\" class=\"dataframe\">\n",
       "  <thead>\n",
       "    <tr style=\"text-align: right;\">\n",
       "      <th></th>\n",
       "      <th>&gt;pepID</th>\n",
       "      <th>jx_pos</th>\n",
       "      <th>between_codons</th>\n",
       "      <th>includes_5'</th>\n",
       "      <th>includes_3'</th>\n",
       "      <th>gene</th>\n",
       "      <th>jx_coord</th>\n",
       "      <th>kmer</th>\n",
       "      <th>readFrameAnnotated</th>\n",
       "      <th>junctionAnnotated</th>\n",
       "      <th>...</th>\n",
       "      <th>TCGAXXA89901A11RA36F07all</th>\n",
       "      <th>TCGAXXA89A01A11RA36F07all</th>\n",
       "      <th>TCGAZ7A8R501A42RA41B07all</th>\n",
       "      <th>TCGAZ7A8R601A11RA41B07all</th>\n",
       "      <th>isCrossJunction</th>\n",
       "      <th>junctionAnnotated_kmer</th>\n",
       "      <th>readFrameAnnotated_kmer</th>\n",
       "      <th>recurrence</th>\n",
       "      <th>spladder_GTEX_on_disk</th>\n",
       "      <th>strand_spladder</th>\n",
       "    </tr>\n",
       "  </thead>\n",
       "  <tbody>\n",
       "    <tr>\n",
       "      <th>0</th>\n",
       "      <td>2</td>\n",
       "      <td>56.0</td>\n",
       "      <td>1.0</td>\n",
       "      <td>0.0</td>\n",
       "      <td>0.0</td>\n",
       "      <td>ENSG00000060339.14</td>\n",
       "      <td>68737048_68742427</td>\n",
       "      <td>AAAALQQHS</td>\n",
       "      <td>0.0</td>\n",
       "      <td>0.0</td>\n",
       "      <td>...</td>\n",
       "      <td>6.0</td>\n",
       "      <td>0.0</td>\n",
       "      <td>0.0</td>\n",
       "      <td>3.0</td>\n",
       "      <td>True</td>\n",
       "      <td>0.0</td>\n",
       "      <td>0.0</td>\n",
       "      <td>970.0</td>\n",
       "      <td>1.0</td>\n",
       "      <td>+</td>\n",
       "    </tr>\n",
       "    <tr>\n",
       "      <th>1</th>\n",
       "      <td>2</td>\n",
       "      <td>57.0</td>\n",
       "      <td>1.0</td>\n",
       "      <td>0.0</td>\n",
       "      <td>0.0</td>\n",
       "      <td>ENSG00000060339.14</td>\n",
       "      <td>68742430_68742487</td>\n",
       "      <td>AAAALQQHS</td>\n",
       "      <td>0.0</td>\n",
       "      <td>0.0</td>\n",
       "      <td>...</td>\n",
       "      <td>6.0</td>\n",
       "      <td>0.0</td>\n",
       "      <td>0.0</td>\n",
       "      <td>3.0</td>\n",
       "      <td>True</td>\n",
       "      <td>0.0</td>\n",
       "      <td>0.0</td>\n",
       "      <td>970.0</td>\n",
       "      <td>NaN</td>\n",
       "      <td>NaN</td>\n",
       "    </tr>\n",
       "    <tr>\n",
       "      <th>2</th>\n",
       "      <td>4</td>\n",
       "      <td>12.0</td>\n",
       "      <td>0.0</td>\n",
       "      <td>0.0</td>\n",
       "      <td>0.0</td>\n",
       "      <td>ENSG00000119333.11</td>\n",
       "      <td>128640690_128637027</td>\n",
       "      <td>AAADGVLSV</td>\n",
       "      <td>0.0</td>\n",
       "      <td>1.0</td>\n",
       "      <td>...</td>\n",
       "      <td>156.0</td>\n",
       "      <td>164.0</td>\n",
       "      <td>112.0</td>\n",
       "      <td>651.0</td>\n",
       "      <td>True</td>\n",
       "      <td>1.0</td>\n",
       "      <td>0.0</td>\n",
       "      <td>1100.0</td>\n",
       "      <td>1.0</td>\n",
       "      <td>-</td>\n",
       "    </tr>\n",
       "    <tr>\n",
       "      <th>3</th>\n",
       "      <td>5</td>\n",
       "      <td>12.0</td>\n",
       "      <td>0.0</td>\n",
       "      <td>0.0</td>\n",
       "      <td>1.0</td>\n",
       "      <td>ENSG00000119333.11</td>\n",
       "      <td>128640690_128636438</td>\n",
       "      <td>AAADGWTMG</td>\n",
       "      <td>0.0</td>\n",
       "      <td>1.0</td>\n",
       "      <td>...</td>\n",
       "      <td>2.0</td>\n",
       "      <td>1.0</td>\n",
       "      <td>0.0</td>\n",
       "      <td>4.0</td>\n",
       "      <td>True</td>\n",
       "      <td>1.0</td>\n",
       "      <td>0.0</td>\n",
       "      <td>972.0</td>\n",
       "      <td>1.0</td>\n",
       "      <td>-</td>\n",
       "    </tr>\n",
       "    <tr>\n",
       "      <th>4</th>\n",
       "      <td>6</td>\n",
       "      <td>12.0</td>\n",
       "      <td>0.0</td>\n",
       "      <td>0.0</td>\n",
       "      <td>0.0</td>\n",
       "      <td>ENSG00000119333.11</td>\n",
       "      <td>128640690_128636438</td>\n",
       "      <td>AAADGWTMG</td>\n",
       "      <td>0.0</td>\n",
       "      <td>1.0</td>\n",
       "      <td>...</td>\n",
       "      <td>2.0</td>\n",
       "      <td>1.0</td>\n",
       "      <td>0.0</td>\n",
       "      <td>4.0</td>\n",
       "      <td>True</td>\n",
       "      <td>1.0</td>\n",
       "      <td>0.0</td>\n",
       "      <td>972.0</td>\n",
       "      <td>1.0</td>\n",
       "      <td>-</td>\n",
       "    </tr>\n",
       "    <tr>\n",
       "      <th>...</th>\n",
       "      <td>...</td>\n",
       "      <td>...</td>\n",
       "      <td>...</td>\n",
       "      <td>...</td>\n",
       "      <td>...</td>\n",
       "      <td>...</td>\n",
       "      <td>...</td>\n",
       "      <td>...</td>\n",
       "      <td>...</td>\n",
       "      <td>...</td>\n",
       "      <td>...</td>\n",
       "      <td>...</td>\n",
       "      <td>...</td>\n",
       "      <td>...</td>\n",
       "      <td>...</td>\n",
       "      <td>...</td>\n",
       "      <td>...</td>\n",
       "      <td>...</td>\n",
       "      <td>...</td>\n",
       "      <td>...</td>\n",
       "      <td>...</td>\n",
       "    </tr>\n",
       "    <tr>\n",
       "      <th>913530</th>\n",
       "      <td>247875</td>\n",
       "      <td>NaN</td>\n",
       "      <td>NaN</td>\n",
       "      <td>NaN</td>\n",
       "      <td>NaN</td>\n",
       "      <td>NaN</td>\n",
       "      <td>NaN</td>\n",
       "      <td>NaN</td>\n",
       "      <td>NaN</td>\n",
       "      <td>NaN</td>\n",
       "      <td>...</td>\n",
       "      <td>NaN</td>\n",
       "      <td>NaN</td>\n",
       "      <td>NaN</td>\n",
       "      <td>NaN</td>\n",
       "      <td>NaN</td>\n",
       "      <td>NaN</td>\n",
       "      <td>NaN</td>\n",
       "      <td>NaN</td>\n",
       "      <td>NaN</td>\n",
       "      <td>NaN</td>\n",
       "    </tr>\n",
       "    <tr>\n",
       "      <th>913531</th>\n",
       "      <td>247877</td>\n",
       "      <td>NaN</td>\n",
       "      <td>NaN</td>\n",
       "      <td>NaN</td>\n",
       "      <td>NaN</td>\n",
       "      <td>NaN</td>\n",
       "      <td>NaN</td>\n",
       "      <td>NaN</td>\n",
       "      <td>NaN</td>\n",
       "      <td>NaN</td>\n",
       "      <td>...</td>\n",
       "      <td>NaN</td>\n",
       "      <td>NaN</td>\n",
       "      <td>NaN</td>\n",
       "      <td>NaN</td>\n",
       "      <td>NaN</td>\n",
       "      <td>NaN</td>\n",
       "      <td>NaN</td>\n",
       "      <td>NaN</td>\n",
       "      <td>NaN</td>\n",
       "      <td>NaN</td>\n",
       "    </tr>\n",
       "    <tr>\n",
       "      <th>913532</th>\n",
       "      <td>247879</td>\n",
       "      <td>NaN</td>\n",
       "      <td>NaN</td>\n",
       "      <td>NaN</td>\n",
       "      <td>NaN</td>\n",
       "      <td>NaN</td>\n",
       "      <td>NaN</td>\n",
       "      <td>NaN</td>\n",
       "      <td>NaN</td>\n",
       "      <td>NaN</td>\n",
       "      <td>...</td>\n",
       "      <td>NaN</td>\n",
       "      <td>NaN</td>\n",
       "      <td>NaN</td>\n",
       "      <td>NaN</td>\n",
       "      <td>NaN</td>\n",
       "      <td>NaN</td>\n",
       "      <td>NaN</td>\n",
       "      <td>NaN</td>\n",
       "      <td>NaN</td>\n",
       "      <td>NaN</td>\n",
       "    </tr>\n",
       "    <tr>\n",
       "      <th>913533</th>\n",
       "      <td>247881</td>\n",
       "      <td>NaN</td>\n",
       "      <td>NaN</td>\n",
       "      <td>NaN</td>\n",
       "      <td>NaN</td>\n",
       "      <td>NaN</td>\n",
       "      <td>NaN</td>\n",
       "      <td>NaN</td>\n",
       "      <td>NaN</td>\n",
       "      <td>NaN</td>\n",
       "      <td>...</td>\n",
       "      <td>NaN</td>\n",
       "      <td>NaN</td>\n",
       "      <td>NaN</td>\n",
       "      <td>NaN</td>\n",
       "      <td>NaN</td>\n",
       "      <td>NaN</td>\n",
       "      <td>NaN</td>\n",
       "      <td>NaN</td>\n",
       "      <td>NaN</td>\n",
       "      <td>NaN</td>\n",
       "    </tr>\n",
       "    <tr>\n",
       "      <th>913534</th>\n",
       "      <td>247883</td>\n",
       "      <td>NaN</td>\n",
       "      <td>NaN</td>\n",
       "      <td>NaN</td>\n",
       "      <td>NaN</td>\n",
       "      <td>NaN</td>\n",
       "      <td>NaN</td>\n",
       "      <td>NaN</td>\n",
       "      <td>NaN</td>\n",
       "      <td>NaN</td>\n",
       "      <td>...</td>\n",
       "      <td>NaN</td>\n",
       "      <td>NaN</td>\n",
       "      <td>NaN</td>\n",
       "      <td>NaN</td>\n",
       "      <td>NaN</td>\n",
       "      <td>NaN</td>\n",
       "      <td>NaN</td>\n",
       "      <td>NaN</td>\n",
       "      <td>NaN</td>\n",
       "      <td>NaN</td>\n",
       "    </tr>\n",
       "  </tbody>\n",
       "</table>\n",
       "<p>913535 rows × 1126 columns</p>\n",
       "</div>"
      ],
      "text/plain": [
       "        >pepID  jx_pos  between_codons  includes_5'  includes_3'  \\\n",
       "0            2    56.0             1.0          0.0          0.0   \n",
       "1            2    57.0             1.0          0.0          0.0   \n",
       "2            4    12.0             0.0          0.0          0.0   \n",
       "3            5    12.0             0.0          0.0          1.0   \n",
       "4            6    12.0             0.0          0.0          0.0   \n",
       "...        ...     ...             ...          ...          ...   \n",
       "913530  247875     NaN             NaN          NaN          NaN   \n",
       "913531  247877     NaN             NaN          NaN          NaN   \n",
       "913532  247879     NaN             NaN          NaN          NaN   \n",
       "913533  247881     NaN             NaN          NaN          NaN   \n",
       "913534  247883     NaN             NaN          NaN          NaN   \n",
       "\n",
       "                      gene             jx_coord       kmer readFrameAnnotated  \\\n",
       "0       ENSG00000060339.14    68737048_68742427  AAAALQQHS                0.0   \n",
       "1       ENSG00000060339.14    68742430_68742487  AAAALQQHS                0.0   \n",
       "2       ENSG00000119333.11  128640690_128637027  AAADGVLSV                0.0   \n",
       "3       ENSG00000119333.11  128640690_128636438  AAADGWTMG                0.0   \n",
       "4       ENSG00000119333.11  128640690_128636438  AAADGWTMG                0.0   \n",
       "...                    ...                  ...        ...                ...   \n",
       "913530                 NaN                  NaN        NaN                NaN   \n",
       "913531                 NaN                  NaN        NaN                NaN   \n",
       "913532                 NaN                  NaN        NaN                NaN   \n",
       "913533                 NaN                  NaN        NaN                NaN   \n",
       "913534                 NaN                  NaN        NaN                NaN   \n",
       "\n",
       "       junctionAnnotated  ... TCGAXXA89901A11RA36F07all  \\\n",
       "0                    0.0  ...                       6.0   \n",
       "1                    0.0  ...                       6.0   \n",
       "2                    1.0  ...                     156.0   \n",
       "3                    1.0  ...                       2.0   \n",
       "4                    1.0  ...                       2.0   \n",
       "...                  ...  ...                       ...   \n",
       "913530               NaN  ...                       NaN   \n",
       "913531               NaN  ...                       NaN   \n",
       "913532               NaN  ...                       NaN   \n",
       "913533               NaN  ...                       NaN   \n",
       "913534               NaN  ...                       NaN   \n",
       "\n",
       "       TCGAXXA89A01A11RA36F07all TCGAZ7A8R501A42RA41B07all  \\\n",
       "0                            0.0                       0.0   \n",
       "1                            0.0                       0.0   \n",
       "2                          164.0                     112.0   \n",
       "3                            1.0                       0.0   \n",
       "4                            1.0                       0.0   \n",
       "...                          ...                       ...   \n",
       "913530                       NaN                       NaN   \n",
       "913531                       NaN                       NaN   \n",
       "913532                       NaN                       NaN   \n",
       "913533                       NaN                       NaN   \n",
       "913534                       NaN                       NaN   \n",
       "\n",
       "        TCGAZ7A8R601A11RA41B07all  isCrossJunction junctionAnnotated_kmer  \\\n",
       "0                             3.0             True                    0.0   \n",
       "1                             3.0             True                    0.0   \n",
       "2                           651.0             True                    1.0   \n",
       "3                             4.0             True                    1.0   \n",
       "4                             4.0             True                    1.0   \n",
       "...                           ...              ...                    ...   \n",
       "913530                        NaN              NaN                    NaN   \n",
       "913531                        NaN              NaN                    NaN   \n",
       "913532                        NaN              NaN                    NaN   \n",
       "913533                        NaN              NaN                    NaN   \n",
       "913534                        NaN              NaN                    NaN   \n",
       "\n",
       "        readFrameAnnotated_kmer  recurrence  spladder_GTEX_on_disk  \\\n",
       "0                           0.0       970.0                    1.0   \n",
       "1                           0.0       970.0                    NaN   \n",
       "2                           0.0      1100.0                    1.0   \n",
       "3                           0.0       972.0                    1.0   \n",
       "4                           0.0       972.0                    1.0   \n",
       "...                         ...         ...                    ...   \n",
       "913530                      NaN         NaN                    NaN   \n",
       "913531                      NaN         NaN                    NaN   \n",
       "913532                      NaN         NaN                    NaN   \n",
       "913533                      NaN         NaN                    NaN   \n",
       "913534                      NaN         NaN                    NaN   \n",
       "\n",
       "        strand_spladder  \n",
       "0                     +  \n",
       "1                   NaN  \n",
       "2                     -  \n",
       "3                     -  \n",
       "4                     -  \n",
       "...                 ...  \n",
       "913530              NaN  \n",
       "913531              NaN  \n",
       "913532              NaN  \n",
       "913533              NaN  \n",
       "913534              NaN  \n",
       "\n",
       "[913535 rows x 1126 columns]"
      ]
     },
     "execution_count": 2,
     "metadata": {},
     "output_type": "execute_result"
    }
   ],
   "source": [
    "df = pd.read_csv('/cluster/work/grlab/projects/projects2020_OHSU/peptides_generation/v2_v3_d2d2574_TEST_conf2_annotFrame_cap0_runs/TCGA_Breast_1102/exp_427_kmers_plot2_fix-sample_filtered-spladder.csv.gz', compression = 'gzip', low_memory=False )\n",
    "df"
   ]
  },
  {
   "cell_type": "markdown",
   "id": "3bf3f2c0",
   "metadata": {},
   "source": [
    "Mond 5th - Fr 16th of september introduction course \n",
    "Mond 19th - end Classes start on 20th \n",
    "(LP Come back on 19th but 19th at conference. 20th at the lab )\n",
    "Only have until 4th without any classes \n",
    "Then you have either \n",
    "- reduction of work for the lab. You can not get 100% if you are taking classes \n",
    "- Or holidays. 15 days max. you need to choose on which days you need to take yuor holidays and on which you work 100% or another percetage. Check this with Patricia \n"
   ]
  },
  {
   "cell_type": "markdown",
   "id": "bfaef892",
   "metadata": {},
   "source": [
    "# Math recap \n",
    "vector mathematical (not Python)\n",
    "Is one dimensional [1,2,3,4] or np.array([1,2,3,4])\n",
    "matrix mathematical \n",
    "Is two dimensional [ [ 1,2,3,4], [ 1,2,3,4]] or np.array([1,2,3,4], [1,2,3,4]) -> 2 rows x 4 , pd.DataFrame(2,4)\n",
    "[[ 1,2,3,4],\n",
    "[ 1,2,3,4]]\n",
    "More advanced tensors > 2d "
   ]
  },
  {
   "cell_type": "markdown",
   "id": "7b895d46",
   "metadata": {},
   "source": [
    "# Task 0\n",
    "Understand well the plots that we did together - If you really have issues understanding a code part you can run it line by line \n",
    "\n",
    "# Task 1 \n",
    "Multicategory plots \n",
    "Check whether the recurrence varies as a function of the genes\n",
    "Y = recurrence (int), X = gene (cat)\n",
    "Either boxplot or barplot \n",
    "Subset a number of genes start with 10 so that it does not crash \n",
    "- To subset: Usually SLICING is used df.loc[ (df[column] == group1) || (df[column] == group1), :] \n",
    "- Todo really knoe slicing in apandas super well\n",
    "- Tu subset more efficiently for many groups (10): Need to set the group as an INDEX, subset based on index the groups that you want, then reset the index (google)\n",
    "\n",
    "# Task 2 \n",
    "Scatter plot + Correlation matrix (make the colors nice) \n",
    "Check whether the expression of two samples is correlated \n",
    "- First plot a SCATTER of the two expression vectors for the two samples \n",
    "- Google to find how to ploot a CORRELATION matrix + Google the definition of a correlation matrix 0 = not correlated, 1 very correlated, -1 correlated but inversly\n",
    "\n",
    "# Task 3 \n",
    "Continue similar multidimensional plots and choose other columns (include3', include5' etc)\n",
    "For each column that you choose \n",
    "- Check what type float, str etc to know hoe you will plot it \n",
    "- If categories. Do n.unique() to see what unique categories there are \n",
    "- If it is a flot or an integer (many values) - plot a quick histogram to see how the values distribute. Here check google again to make sure that you understand the y and x axis on the histogram. \n",
    "- Build plots of your choices: scatter, boxplots with categories, try to make them readable \n",
    "\n",
    "# Task 4 \n",
    "Take a power point, copy the plots on the power point and describe them to me. You don't need to write a lot just have your personal notes to be able to present. For example boxplot describe the quantiles. For a scatterplot describe the trends and groups. "
   ]
  },
  {
   "cell_type": "markdown",
   "id": "04d8f295",
   "metadata": {},
   "source": [
    "I will check if I can at least have a stupid python script and give you the srun (new bsub) command "
   ]
  },
  {
   "cell_type": "markdown",
   "id": "07553d8a",
   "metadata": {},
   "source": [
    "# On the new cluster \n",
    "- Connect biomed\n",
    "- Jupyter with time \n",
    "- Connect to customapps \n",
    "- Go to the project2020_ohsu folder +  and do git pull + check that your notebooks are on the new cluster\n",
    "- Try use tmux - remember this time you uhave control b as meta key and not control a \n",
    "- Tmux connect to session \"tmux -t 0\" if 0 is the name. If needed google and do a ten min tutorial on tmux with tmux attach, detach, tmux -t 0, open a new window, open a new pannel, close the windows, close the pannel"
   ]
  },
  {
   "cell_type": "code",
   "execution_count": 3,
   "id": "61f500f5",
   "metadata": {},
   "outputs": [
    {
     "data": {
      "text/plain": [
       "Index(['>pepID', 'jx_pos', 'between_codons', 'includes_5'', 'includes_3'',\n",
       "       'gene', 'jx_coord', 'kmer', 'readFrameAnnotated', 'junctionAnnotated',\n",
       "       ...\n",
       "       'TCGAXXA89901A11RA36F07all', 'TCGAXXA89A01A11RA36F07all',\n",
       "       'TCGAZ7A8R501A42RA41B07all', 'TCGAZ7A8R601A11RA41B07all',\n",
       "       'isCrossJunction', 'junctionAnnotated_kmer', 'readFrameAnnotated_kmer',\n",
       "       'recurrence', 'spladder_GTEX_on_disk', 'strand_spladder'],\n",
       "      dtype='object', length=1126)"
      ]
     },
     "execution_count": 3,
     "metadata": {},
     "output_type": "execute_result"
    }
   ],
   "source": [
    "df.columns"
   ]
  },
  {
   "cell_type": "code",
   "execution_count": 4,
   "id": "253a3f06",
   "metadata": {},
   "outputs": [
    {
     "data": {
      "text/plain": [
       "0      6.0\n",
       "1      6.0\n",
       "2    156.0\n",
       "3      2.0\n",
       "4      2.0\n",
       "Name: TCGAXXA89901A11RA36F07all, dtype: float64"
      ]
     },
     "execution_count": 4,
     "metadata": {},
     "output_type": "execute_result"
    }
   ],
   "source": [
    "df['TCGAXXA89901A11RA36F07all'].head()"
   ]
  },
  {
   "cell_type": "code",
   "execution_count": 5,
   "id": "db31b28d",
   "metadata": {},
   "outputs": [
    {
     "data": {
      "text/plain": [
       "array([ 0.,  1., nan])"
      ]
     },
     "execution_count": 5,
     "metadata": {},
     "output_type": "execute_result"
    }
   ],
   "source": [
    "df['junctionAnnotated_kmer'].head()\n",
    "df['junctionAnnotated_kmer'].unique()"
   ]
  },
  {
   "cell_type": "code",
   "execution_count": 6,
   "id": "22799145",
   "metadata": {},
   "outputs": [
    {
     "data": {
      "text/plain": [
       "array([ 0.,  1., nan])"
      ]
     },
     "execution_count": 6,
     "metadata": {},
     "output_type": "execute_result"
    }
   ],
   "source": [
    "df['readFrameAnnotated_kmer'].head()\n",
    "df['readFrameAnnotated_kmer'].unique()"
   ]
  },
  {
   "cell_type": "code",
   "execution_count": 7,
   "id": "df5a9988",
   "metadata": {},
   "outputs": [
    {
     "data": {
      "text/plain": [
       "array([ 1., nan])"
      ]
     },
     "execution_count": 7,
     "metadata": {},
     "output_type": "execute_result"
    }
   ],
   "source": [
    "df['spladder_GTEX_on_disk'].head()\n",
    "df['spladder_GTEX_on_disk'].unique()"
   ]
  },
  {
   "cell_type": "code",
   "execution_count": 8,
   "id": "4611aa29",
   "metadata": {},
   "outputs": [
    {
     "data": {
      "text/plain": [
       "array(['3exons_9mer', '2exons', nan, '3exons_9mer/2exons'], dtype=object)"
      ]
     },
     "execution_count": 8,
     "metadata": {},
     "output_type": "execute_result"
    }
   ],
   "source": [
    "df['origin'].head()\n",
    "df['origin'].unique()"
   ]
  },
  {
   "cell_type": "code",
   "execution_count": 9,
   "id": "b32d9200",
   "metadata": {},
   "outputs": [
    {
     "data": {
      "text/plain": [
       "0    8.5\n",
       "1    8.5\n",
       "2    0.5\n",
       "3    1.8\n",
       "4    1.8\n",
       "Name: percentile_rank, dtype: float64"
      ]
     },
     "execution_count": 9,
     "metadata": {},
     "output_type": "execute_result"
    }
   ],
   "source": [
    "df['percentile_rank'].head()"
   ]
  },
  {
   "cell_type": "code",
   "execution_count": 10,
   "id": "142b6d16",
   "metadata": {},
   "outputs": [
    {
     "data": {
      "text/plain": [
       "0    17394.11\n",
       "1    17394.11\n",
       "2      115.36\n",
       "3     5876.76\n",
       "4     5876.76\n",
       "Name: affinity, dtype: float64"
      ]
     },
     "execution_count": 10,
     "metadata": {},
     "output_type": "execute_result"
    }
   ],
   "source": [
    "df['affinity'].head()"
   ]
  },
  {
   "cell_type": "code",
   "execution_count": 11,
   "id": "7f17bd66",
   "metadata": {},
   "outputs": [
    {
     "data": {
      "text/plain": [
       "0     970.0\n",
       "1     970.0\n",
       "2    1100.0\n",
       "3     972.0\n",
       "4     972.0\n",
       "Name: recurrence, dtype: float64"
      ]
     },
     "execution_count": 11,
     "metadata": {},
     "output_type": "execute_result"
    }
   ],
   "source": [
    "df['recurrence'].head()"
   ]
  },
  {
   "cell_type": "code",
   "execution_count": 12,
   "id": "ad4b7e62",
   "metadata": {},
   "outputs": [],
   "source": [
    "#list comprehension [ col for col in df.columns if 'TCGA' not in col]"
   ]
  },
  {
   "cell_type": "code",
   "execution_count": 13,
   "id": "9ad85425",
   "metadata": {},
   "outputs": [],
   "source": [
    "#list comprehension [ col for col in df.columns if 'TCGA' not in col]"
   ]
  },
  {
   "cell_type": "code",
   "execution_count": 14,
   "id": "0e00179c",
   "metadata": {},
   "outputs": [],
   "source": [
    "#normal for loop\n",
    "results = [] \n",
    "for col in df.columns:\n",
    "    if 'TCGA' not in col: \n",
    "        results.append(col)\n",
    "        \n",
    "        "
   ]
  },
  {
   "cell_type": "code",
   "execution_count": 15,
   "id": "8cfdf2b0",
   "metadata": {},
   "outputs": [
    {
     "name": "stdout",
     "output_type": "stream",
     "text": [
      "['>pepID', 'jx_pos', 'between_codons', \"includes_5'\", \"includes_3'\", 'gene', 'jx_coord', 'kmer', 'readFrameAnnotated', 'junctionAnnotated', 'origin', 'peptide', 'sample', 'percentile_rank', 'affinity', 'strand', 'GTEX_presence', 'index', 'isCrossJunction', 'junctionAnnotated_kmer', 'readFrameAnnotated_kmer', 'recurrence', 'spladder_GTEX_on_disk', 'strand_spladder']\n"
     ]
    }
   ],
   "source": [
    "print(results)"
   ]
  },
  {
   "cell_type": "code",
   "execution_count": 16,
   "id": "c428845c",
   "metadata": {},
   "outputs": [
    {
     "data": {
      "text/plain": [
       ">pepID                       int64\n",
       "jx_pos                     float64\n",
       "between_codons             float64\n",
       "includes_5'                float64\n",
       "includes_3'                float64\n",
       "                            ...   \n",
       "junctionAnnotated_kmer     float64\n",
       "readFrameAnnotated_kmer    float64\n",
       "recurrence                 float64\n",
       "spladder_GTEX_on_disk      float64\n",
       "strand_spladder             object\n",
       "Length: 1126, dtype: object"
      ]
     },
     "execution_count": 16,
     "metadata": {},
     "output_type": "execute_result"
    }
   ],
   "source": [
    "df.dtypes\n"
   ]
  },
  {
   "cell_type": "code",
   "execution_count": 17,
   "id": "8c3b6b4c",
   "metadata": {},
   "outputs": [
    {
     "name": "stdout",
     "output_type": "stream",
     "text": [
      ">pepID\n",
      "int64\n",
      "jx_pos\n",
      "float64\n",
      "between_codons\n",
      "float64\n",
      "includes_5'\n",
      "float64\n",
      "includes_3'\n",
      "float64\n",
      "gene\n",
      "object\n",
      "jx_coord\n",
      "object\n",
      "kmer\n",
      "object\n",
      "readFrameAnnotated\n",
      "object\n",
      "junctionAnnotated\n",
      "object\n",
      "origin\n",
      "object\n",
      "peptide\n",
      "object\n",
      "sample\n",
      "object\n",
      "percentile_rank\n",
      "float64\n",
      "affinity\n",
      "float64\n",
      "strand\n",
      "object\n",
      "GTEX_presence\n",
      "float64\n",
      "index\n",
      "float64\n",
      "isCrossJunction\n",
      "object\n",
      "junctionAnnotated_kmer\n",
      "float64\n",
      "readFrameAnnotated_kmer\n",
      "float64\n",
      "recurrence\n",
      "float64\n",
      "spladder_GTEX_on_disk\n",
      "float64\n",
      "strand_spladder\n",
      "object\n"
     ]
    }
   ],
   "source": [
    "for col in df.columns:\n",
    "    if 'TCGA' not in col:\n",
    "        print(col)\n",
    "        print(df[col].dtypes)\n",
    "        "
   ]
  },
  {
   "cell_type": "code",
   "execution_count": 18,
   "id": "6c9254d1",
   "metadata": {},
   "outputs": [
    {
     "data": {
      "text/plain": [
       "count    286322.000000\n",
       "mean         13.345418\n",
       "std          12.012203\n",
       "min           0.010000\n",
       "25%           4.000000\n",
       "50%          10.000000\n",
       "75%          20.000000\n",
       "max          80.000000\n",
       "Name: percentile_rank, dtype: float64"
      ]
     },
     "execution_count": 18,
     "metadata": {},
     "output_type": "execute_result"
    }
   ],
   "source": [
    "df['percentile_rank'].describe() # 25% quantiles google! "
   ]
  },
  {
   "cell_type": "code",
   "execution_count": 19,
   "id": "f935bc57",
   "metadata": {},
   "outputs": [
    {
     "data": {
      "text/plain": [
       "count    286322.000000\n",
       "mean      17170.742263\n",
       "std       10930.785282\n",
       "min           2.080000\n",
       "25%        7409.190000\n",
       "50%       17590.560000\n",
       "75%       26330.400000\n",
       "max       44262.530000\n",
       "Name: affinity, dtype: float64"
      ]
     },
     "execution_count": 19,
     "metadata": {},
     "output_type": "execute_result"
    }
   ],
   "source": [
    "df['affinity'].describe()"
   ]
  },
  {
   "cell_type": "code",
   "execution_count": 20,
   "id": "f8bde39e",
   "metadata": {},
   "outputs": [
    {
     "data": {
      "text/plain": [
       "(array([1.2756e+05, 6.6698e+04, 4.3689e+04, 2.5197e+04, 1.2924e+04,\n",
       "        6.2660e+03, 2.7140e+03, 6.9700e+02, 5.2200e+02, 5.5000e+01]),\n",
       " array([1.0000e-02, 8.0090e+00, 1.6008e+01, 2.4007e+01, 3.2006e+01,\n",
       "        4.0005e+01, 4.8004e+01, 5.6003e+01, 6.4002e+01, 7.2001e+01,\n",
       "        8.0000e+01]),\n",
       " <BarContainer object of 10 artists>)"
      ]
     },
     "execution_count": 20,
     "metadata": {},
     "output_type": "execute_result"
    },
    {
     "data": {
      "image/png": "[encoded data removed]",
      "text/plain": [
       "<Figure size 432x288 with 1 Axes>"
      ]
     },
     "metadata": {
      "needs_background": "light"
     },
     "output_type": "display_data"
    }
   ],
   "source": [
    "plt.hist(df['percentile_rank'])\n",
    "#the data distribution. how to interpre histograms\n",
    "#x axis percentile_ranks, y - the number of "
   ]
  },
  {
   "cell_type": "code",
   "execution_count": 21,
   "id": "f7997174",
   "metadata": {},
   "outputs": [
    {
     "data": {
      "text/plain": [
       "(array([15836.,  6402.,  5098.,  4098.,  3846.,  3596.,  3632.,  3130.,\n",
       "         2766.,  3151.,  2934.,  3213.,  3104.,  2597.,  3013.,  2818.,\n",
       "         2965.,  2698.,  2937.,  2696.,  2719.,  2829.,  3316.,  3323.,\n",
       "         3273.,  3001.,  3120.,  3185.,  3088.,  2805.,  3294.,  2928.,\n",
       "         3397.,  2896.,  3218.,  3170.,  3413.,  3411.,  3598.,  3581.,\n",
       "         3066.,  3309.,  3522.,  3053.,  3684.,  3318.,  3223.,  3276.,\n",
       "         3851.,  3974.,  3539.,  4022.,  4156.,  3441.,  3967.,  3960.,\n",
       "         3851.,  3793.,  3910.,  3830.,  3662.,  3660.,  3798.,  3606.,\n",
       "         3923.,  4003.,  3688.,  3316.,  3594.,  3198.,  3311.,  3347.,\n",
       "         2986.,  2780.,  2300.,  2348.,  2237.,  1987.,  1809.,  1653.,\n",
       "         1326.,  1158.,  1067.,   830.,   701.,   553.,   517.,   475.,\n",
       "          451.,   395.,   198.,   168.,   179.,    97.,    39.,    46.,\n",
       "           25.,    16.,    18.,    17.]),\n",
       " array([2.08000000e+00, 4.44684500e+02, 8.87289000e+02, 1.32989350e+03,\n",
       "        1.77249800e+03, 2.21510250e+03, 2.65770700e+03, 3.10031150e+03,\n",
       "        3.54291600e+03, 3.98552050e+03, 4.42812500e+03, 4.87072950e+03,\n",
       "        5.31333400e+03, 5.75593850e+03, 6.19854300e+03, 6.64114750e+03,\n",
       "        7.08375200e+03, 7.52635650e+03, 7.96896100e+03, 8.41156550e+03,\n",
       "        8.85417000e+03, 9.29677450e+03, 9.73937900e+03, 1.01819835e+04,\n",
       "        1.06245880e+04, 1.10671925e+04, 1.15097970e+04, 1.19524015e+04,\n",
       "        1.23950060e+04, 1.28376105e+04, 1.32802150e+04, 1.37228195e+04,\n",
       "        1.41654240e+04, 1.46080285e+04, 1.50506330e+04, 1.54932375e+04,\n",
       "        1.59358420e+04, 1.63784465e+04, 1.68210510e+04, 1.72636555e+04,\n",
       "        1.77062600e+04, 1.81488645e+04, 1.85914690e+04, 1.90340735e+04,\n",
       "        1.94766780e+04, 1.99192825e+04, 2.03618870e+04, 2.08044915e+04,\n",
       "        2.12470960e+04, 2.16897005e+04, 2.21323050e+04, 2.25749095e+04,\n",
       "        2.30175140e+04, 2.34601185e+04, 2.39027230e+04, 2.43453275e+04,\n",
       "        2.47879320e+04, 2.52305365e+04, 2.56731410e+04, 2.61157455e+04,\n",
       "        2.65583500e+04, 2.70009545e+04, 2.74435590e+04, 2.78861635e+04,\n",
       "        2.83287680e+04, 2.87713725e+04, 2.92139770e+04, 2.96565815e+04,\n",
       "        3.00991860e+04, 3.05417905e+04, 3.09843950e+04, 3.14269995e+04,\n",
       "        3.18696040e+04, 3.23122085e+04, 3.27548130e+04, 3.31974175e+04,\n",
       "        3.36400220e+04, 3.40826265e+04, 3.45252310e+04, 3.49678355e+04,\n",
       "        3.54104400e+04, 3.58530445e+04, 3.62956490e+04, 3.67382535e+04,\n",
       "        3.71808580e+04, 3.76234625e+04, 3.80660670e+04, 3.85086715e+04,\n",
       "        3.89512760e+04, 3.93938805e+04, 3.98364850e+04, 4.02790895e+04,\n",
       "        4.07216940e+04, 4.11642985e+04, 4.16069030e+04, 4.20495075e+04,\n",
       "        4.24921120e+04, 4.29347165e+04, 4.33773210e+04, 4.38199255e+04,\n",
       "        4.42625300e+04]),\n",
       " <BarContainer object of 100 artists>)"
      ]
     },
     "execution_count": 21,
     "metadata": {},
     "output_type": "execute_result"
    },
    {
     "data": {
      "image/png": "[encoded data removed]",
      "text/plain": [
       "<Figure size 432x288 with 1 Axes>"
      ]
     },
     "metadata": {
      "needs_background": "light"
     },
     "output_type": "display_data"
    }
   ],
   "source": [
    "plt.hist(df['affinity'],bins = 100)\n"
   ]
  },
  {
   "cell_type": "code",
   "execution_count": 22,
   "id": "f0f55fb6",
   "metadata": {},
   "outputs": [
    {
     "data": {
      "text/plain": [
       "True"
      ]
     },
     "execution_count": 22,
     "metadata": {},
     "output_type": "execute_result"
    }
   ],
   "source": [
    "#df = df.loc[check if NOT NaN ] \n",
    "#Check for NaN under a single DataFrame column: \n",
    "df['percentile_rank'].isnull().values.any()\n"
   ]
  },
  {
   "cell_type": "code",
   "execution_count": 23,
   "id": "8261bac5",
   "metadata": {},
   "outputs": [
    {
     "data": {
      "text/plain": [
       "627213"
      ]
     },
     "execution_count": 23,
     "metadata": {},
     "output_type": "execute_result"
    }
   ],
   "source": [
    "#Count the NaN under a single DataFrame column: \n",
    "df['percentile_rank'].isnull().sum()"
   ]
  },
  {
   "cell_type": "code",
   "execution_count": 24,
   "id": "97bc7fba",
   "metadata": {},
   "outputs": [
    {
     "data": {
      "text/html": [
       "<div>\n",
       "<style scoped>\n",
       "    .dataframe tbody tr th:only-of-type {\n",
       "        vertical-align: middle;\n",
       "    }\n",
       "\n",
       "    .dataframe tbody tr th {\n",
       "        vertical-align: top;\n",
       "    }\n",
       "\n",
       "    .dataframe thead th {\n",
       "        text-align: right;\n",
       "    }\n",
       "</style>\n",
       "<table border=\"1\" class=\"dataframe\">\n",
       "  <thead>\n",
       "    <tr style=\"text-align: right;\">\n",
       "      <th></th>\n",
       "      <th>&gt;pepID</th>\n",
       "      <th>jx_pos</th>\n",
       "      <th>between_codons</th>\n",
       "      <th>includes_5'</th>\n",
       "      <th>includes_3'</th>\n",
       "      <th>gene</th>\n",
       "      <th>jx_coord</th>\n",
       "      <th>kmer</th>\n",
       "      <th>readFrameAnnotated</th>\n",
       "      <th>junctionAnnotated</th>\n",
       "      <th>...</th>\n",
       "      <th>TCGAXXA89901A11RA36F07all</th>\n",
       "      <th>TCGAXXA89A01A11RA36F07all</th>\n",
       "      <th>TCGAZ7A8R501A42RA41B07all</th>\n",
       "      <th>TCGAZ7A8R601A11RA41B07all</th>\n",
       "      <th>isCrossJunction</th>\n",
       "      <th>junctionAnnotated_kmer</th>\n",
       "      <th>readFrameAnnotated_kmer</th>\n",
       "      <th>recurrence</th>\n",
       "      <th>spladder_GTEX_on_disk</th>\n",
       "      <th>strand_spladder</th>\n",
       "    </tr>\n",
       "  </thead>\n",
       "  <tbody>\n",
       "    <tr>\n",
       "      <th>0</th>\n",
       "      <td>False</td>\n",
       "      <td>False</td>\n",
       "      <td>False</td>\n",
       "      <td>False</td>\n",
       "      <td>False</td>\n",
       "      <td>False</td>\n",
       "      <td>False</td>\n",
       "      <td>False</td>\n",
       "      <td>False</td>\n",
       "      <td>False</td>\n",
       "      <td>...</td>\n",
       "      <td>False</td>\n",
       "      <td>False</td>\n",
       "      <td>False</td>\n",
       "      <td>False</td>\n",
       "      <td>False</td>\n",
       "      <td>False</td>\n",
       "      <td>False</td>\n",
       "      <td>False</td>\n",
       "      <td>False</td>\n",
       "      <td>False</td>\n",
       "    </tr>\n",
       "    <tr>\n",
       "      <th>1</th>\n",
       "      <td>False</td>\n",
       "      <td>False</td>\n",
       "      <td>False</td>\n",
       "      <td>False</td>\n",
       "      <td>False</td>\n",
       "      <td>False</td>\n",
       "      <td>False</td>\n",
       "      <td>False</td>\n",
       "      <td>False</td>\n",
       "      <td>False</td>\n",
       "      <td>...</td>\n",
       "      <td>False</td>\n",
       "      <td>False</td>\n",
       "      <td>False</td>\n",
       "      <td>False</td>\n",
       "      <td>False</td>\n",
       "      <td>False</td>\n",
       "      <td>False</td>\n",
       "      <td>False</td>\n",
       "      <td>True</td>\n",
       "      <td>True</td>\n",
       "    </tr>\n",
       "    <tr>\n",
       "      <th>2</th>\n",
       "      <td>False</td>\n",
       "      <td>False</td>\n",
       "      <td>False</td>\n",
       "      <td>False</td>\n",
       "      <td>False</td>\n",
       "      <td>False</td>\n",
       "      <td>False</td>\n",
       "      <td>False</td>\n",
       "      <td>False</td>\n",
       "      <td>False</td>\n",
       "      <td>...</td>\n",
       "      <td>False</td>\n",
       "      <td>False</td>\n",
       "      <td>False</td>\n",
       "      <td>False</td>\n",
       "      <td>False</td>\n",
       "      <td>False</td>\n",
       "      <td>False</td>\n",
       "      <td>False</td>\n",
       "      <td>False</td>\n",
       "      <td>False</td>\n",
       "    </tr>\n",
       "    <tr>\n",
       "      <th>3</th>\n",
       "      <td>False</td>\n",
       "      <td>False</td>\n",
       "      <td>False</td>\n",
       "      <td>False</td>\n",
       "      <td>False</td>\n",
       "      <td>False</td>\n",
       "      <td>False</td>\n",
       "      <td>False</td>\n",
       "      <td>False</td>\n",
       "      <td>False</td>\n",
       "      <td>...</td>\n",
       "      <td>False</td>\n",
       "      <td>False</td>\n",
       "      <td>False</td>\n",
       "      <td>False</td>\n",
       "      <td>False</td>\n",
       "      <td>False</td>\n",
       "      <td>False</td>\n",
       "      <td>False</td>\n",
       "      <td>False</td>\n",
       "      <td>False</td>\n",
       "    </tr>\n",
       "    <tr>\n",
       "      <th>4</th>\n",
       "      <td>False</td>\n",
       "      <td>False</td>\n",
       "      <td>False</td>\n",
       "      <td>False</td>\n",
       "      <td>False</td>\n",
       "      <td>False</td>\n",
       "      <td>False</td>\n",
       "      <td>False</td>\n",
       "      <td>False</td>\n",
       "      <td>False</td>\n",
       "      <td>...</td>\n",
       "      <td>False</td>\n",
       "      <td>False</td>\n",
       "      <td>False</td>\n",
       "      <td>False</td>\n",
       "      <td>False</td>\n",
       "      <td>False</td>\n",
       "      <td>False</td>\n",
       "      <td>False</td>\n",
       "      <td>False</td>\n",
       "      <td>False</td>\n",
       "    </tr>\n",
       "    <tr>\n",
       "      <th>...</th>\n",
       "      <td>...</td>\n",
       "      <td>...</td>\n",
       "      <td>...</td>\n",
       "      <td>...</td>\n",
       "      <td>...</td>\n",
       "      <td>...</td>\n",
       "      <td>...</td>\n",
       "      <td>...</td>\n",
       "      <td>...</td>\n",
       "      <td>...</td>\n",
       "      <td>...</td>\n",
       "      <td>...</td>\n",
       "      <td>...</td>\n",
       "      <td>...</td>\n",
       "      <td>...</td>\n",
       "      <td>...</td>\n",
       "      <td>...</td>\n",
       "      <td>...</td>\n",
       "      <td>...</td>\n",
       "      <td>...</td>\n",
       "      <td>...</td>\n",
       "    </tr>\n",
       "    <tr>\n",
       "      <th>913530</th>\n",
       "      <td>False</td>\n",
       "      <td>True</td>\n",
       "      <td>True</td>\n",
       "      <td>True</td>\n",
       "      <td>True</td>\n",
       "      <td>True</td>\n",
       "      <td>True</td>\n",
       "      <td>True</td>\n",
       "      <td>True</td>\n",
       "      <td>True</td>\n",
       "      <td>...</td>\n",
       "      <td>True</td>\n",
       "      <td>True</td>\n",
       "      <td>True</td>\n",
       "      <td>True</td>\n",
       "      <td>True</td>\n",
       "      <td>True</td>\n",
       "      <td>True</td>\n",
       "      <td>True</td>\n",
       "      <td>True</td>\n",
       "      <td>True</td>\n",
       "    </tr>\n",
       "    <tr>\n",
       "      <th>913531</th>\n",
       "      <td>False</td>\n",
       "      <td>True</td>\n",
       "      <td>True</td>\n",
       "      <td>True</td>\n",
       "      <td>True</td>\n",
       "      <td>True</td>\n",
       "      <td>True</td>\n",
       "      <td>True</td>\n",
       "      <td>True</td>\n",
       "      <td>True</td>\n",
       "      <td>...</td>\n",
       "      <td>True</td>\n",
       "      <td>True</td>\n",
       "      <td>True</td>\n",
       "      <td>True</td>\n",
       "      <td>True</td>\n",
       "      <td>True</td>\n",
       "      <td>True</td>\n",
       "      <td>True</td>\n",
       "      <td>True</td>\n",
       "      <td>True</td>\n",
       "    </tr>\n",
       "    <tr>\n",
       "      <th>913532</th>\n",
       "      <td>False</td>\n",
       "      <td>True</td>\n",
       "      <td>True</td>\n",
       "      <td>True</td>\n",
       "      <td>True</td>\n",
       "      <td>True</td>\n",
       "      <td>True</td>\n",
       "      <td>True</td>\n",
       "      <td>True</td>\n",
       "      <td>True</td>\n",
       "      <td>...</td>\n",
       "      <td>True</td>\n",
       "      <td>True</td>\n",
       "      <td>True</td>\n",
       "      <td>True</td>\n",
       "      <td>True</td>\n",
       "      <td>True</td>\n",
       "      <td>True</td>\n",
       "      <td>True</td>\n",
       "      <td>True</td>\n",
       "      <td>True</td>\n",
       "    </tr>\n",
       "    <tr>\n",
       "      <th>913533</th>\n",
       "      <td>False</td>\n",
       "      <td>True</td>\n",
       "      <td>True</td>\n",
       "      <td>True</td>\n",
       "      <td>True</td>\n",
       "      <td>True</td>\n",
       "      <td>True</td>\n",
       "      <td>True</td>\n",
       "      <td>True</td>\n",
       "      <td>True</td>\n",
       "      <td>...</td>\n",
       "      <td>True</td>\n",
       "      <td>True</td>\n",
       "      <td>True</td>\n",
       "      <td>True</td>\n",
       "      <td>True</td>\n",
       "      <td>True</td>\n",
       "      <td>True</td>\n",
       "      <td>True</td>\n",
       "      <td>True</td>\n",
       "      <td>True</td>\n",
       "    </tr>\n",
       "    <tr>\n",
       "      <th>913534</th>\n",
       "      <td>False</td>\n",
       "      <td>True</td>\n",
       "      <td>True</td>\n",
       "      <td>True</td>\n",
       "      <td>True</td>\n",
       "      <td>True</td>\n",
       "      <td>True</td>\n",
       "      <td>True</td>\n",
       "      <td>True</td>\n",
       "      <td>True</td>\n",
       "      <td>...</td>\n",
       "      <td>True</td>\n",
       "      <td>True</td>\n",
       "      <td>True</td>\n",
       "      <td>True</td>\n",
       "      <td>True</td>\n",
       "      <td>True</td>\n",
       "      <td>True</td>\n",
       "      <td>True</td>\n",
       "      <td>True</td>\n",
       "      <td>True</td>\n",
       "    </tr>\n",
       "  </tbody>\n",
       "</table>\n",
       "<p>913535 rows × 1126 columns</p>\n",
       "</div>"
      ],
      "text/plain": [
       "        >pepID  jx_pos  between_codons  includes_5'  includes_3'   gene  \\\n",
       "0        False   False           False        False        False  False   \n",
       "1        False   False           False        False        False  False   \n",
       "2        False   False           False        False        False  False   \n",
       "3        False   False           False        False        False  False   \n",
       "4        False   False           False        False        False  False   \n",
       "...        ...     ...             ...          ...          ...    ...   \n",
       "913530   False    True            True         True         True   True   \n",
       "913531   False    True            True         True         True   True   \n",
       "913532   False    True            True         True         True   True   \n",
       "913533   False    True            True         True         True   True   \n",
       "913534   False    True            True         True         True   True   \n",
       "\n",
       "        jx_coord   kmer  readFrameAnnotated  junctionAnnotated  ...  \\\n",
       "0          False  False               False              False  ...   \n",
       "1          False  False               False              False  ...   \n",
       "2          False  False               False              False  ...   \n",
       "3          False  False               False              False  ...   \n",
       "4          False  False               False              False  ...   \n",
       "...          ...    ...                 ...                ...  ...   \n",
       "913530      True   True                True               True  ...   \n",
       "913531      True   True                True               True  ...   \n",
       "913532      True   True                True               True  ...   \n",
       "913533      True   True                True               True  ...   \n",
       "913534      True   True                True               True  ...   \n",
       "\n",
       "        TCGAXXA89901A11RA36F07all  TCGAXXA89A01A11RA36F07all  \\\n",
       "0                           False                      False   \n",
       "1                           False                      False   \n",
       "2                           False                      False   \n",
       "3                           False                      False   \n",
       "4                           False                      False   \n",
       "...                           ...                        ...   \n",
       "913530                       True                       True   \n",
       "913531                       True                       True   \n",
       "913532                       True                       True   \n",
       "913533                       True                       True   \n",
       "913534                       True                       True   \n",
       "\n",
       "        TCGAZ7A8R501A42RA41B07all  TCGAZ7A8R601A11RA41B07all  isCrossJunction  \\\n",
       "0                           False                      False            False   \n",
       "1                           False                      False            False   \n",
       "2                           False                      False            False   \n",
       "3                           False                      False            False   \n",
       "4                           False                      False            False   \n",
       "...                           ...                        ...              ...   \n",
       "913530                       True                       True             True   \n",
       "913531                       True                       True             True   \n",
       "913532                       True                       True             True   \n",
       "913533                       True                       True             True   \n",
       "913534                       True                       True             True   \n",
       "\n",
       "        junctionAnnotated_kmer  readFrameAnnotated_kmer  recurrence  \\\n",
       "0                        False                    False       False   \n",
       "1                        False                    False       False   \n",
       "2                        False                    False       False   \n",
       "3                        False                    False       False   \n",
       "4                        False                    False       False   \n",
       "...                        ...                      ...         ...   \n",
       "913530                    True                     True        True   \n",
       "913531                    True                     True        True   \n",
       "913532                    True                     True        True   \n",
       "913533                    True                     True        True   \n",
       "913534                    True                     True        True   \n",
       "\n",
       "        spladder_GTEX_on_disk  strand_spladder  \n",
       "0                       False            False  \n",
       "1                        True             True  \n",
       "2                       False            False  \n",
       "3                       False            False  \n",
       "4                       False            False  \n",
       "...                       ...              ...  \n",
       "913530                   True             True  \n",
       "913531                   True             True  \n",
       "913532                   True             True  \n",
       "913533                   True             True  \n",
       "913534                   True             True  \n",
       "\n",
       "[913535 rows x 1126 columns]"
      ]
     },
     "execution_count": 24,
     "metadata": {},
     "output_type": "execute_result"
    }
   ],
   "source": [
    "#Tipp use “isna” function in pandas:\n",
    "df.isna() "
   ]
  },
  {
   "cell_type": "code",
   "execution_count": 25,
   "id": "a60d2ad5",
   "metadata": {},
   "outputs": [
    {
     "data": {
      "text/plain": [
       ">pepID                     False\n",
       "jx_pos                      True\n",
       "between_codons              True\n",
       "includes_5'                 True\n",
       "includes_3'                 True\n",
       "                           ...  \n",
       "junctionAnnotated_kmer      True\n",
       "readFrameAnnotated_kmer     True\n",
       "recurrence                  True\n",
       "spladder_GTEX_on_disk       True\n",
       "strand_spladder             True\n",
       "Length: 1126, dtype: bool"
      ]
     },
     "execution_count": 25,
     "metadata": {},
     "output_type": "execute_result"
    }
   ],
   "source": [
    "df.isna().any() #returns a boolean value for each column. \n",
    "#If there is at least one missing value in that column, the result is True."
   ]
  },
  {
   "cell_type": "code",
   "execution_count": 26,
   "id": "eaf3769f",
   "metadata": {},
   "outputs": [
    {
     "data": {
      "text/plain": [
       ">pepID                          0\n",
       "jx_pos                     612901\n",
       "between_codons             612901\n",
       "includes_5'                612901\n",
       "includes_3'                612901\n",
       "                            ...  \n",
       "junctionAnnotated_kmer     612901\n",
       "readFrameAnnotated_kmer    612901\n",
       "recurrence                 612901\n",
       "spladder_GTEX_on_disk      675797\n",
       "strand_spladder            675797\n",
       "Length: 1126, dtype: int64"
      ]
     },
     "execution_count": 26,
     "metadata": {},
     "output_type": "execute_result"
    }
   ],
   "source": [
    "df.isna().sum() #returns the number of missing values in each column."
   ]
  },
  {
   "cell_type": "code",
   "execution_count": 27,
   "id": "aecc1b69",
   "metadata": {},
   "outputs": [
    {
     "data": {
      "text/plain": [
       "True"
      ]
     },
     "execution_count": 27,
     "metadata": {},
     "output_type": "execute_result"
    }
   ],
   "source": [
    "#Check for NaN under an entire DataFrame: \n",
    "df.isnull().values.any()"
   ]
  },
  {
   "cell_type": "code",
   "execution_count": 28,
   "id": "f3f1b28c",
   "metadata": {},
   "outputs": [
    {
     "data": {
      "text/plain": [
       "\"\\nSteps to replace NaN values with 0:\\nFor one column using pandas: df['DataFrame Column'] = df['DataFrame Column'].fillna(0)\\nFor one column using numpy: df['DataFrame Column'] = df['DataFrame Column'].replace(np.nan, 0)\\nFor the whole DataFrame using pandas: df.fillna(0)\\nFor the whole DataFrame using numpy: df.replace(np.nan, 0)\\n\""
      ]
     },
     "execution_count": 28,
     "metadata": {},
     "output_type": "execute_result"
    }
   ],
   "source": [
    "'''\n",
    "Steps to replace NaN values with 0:\n",
    "For one column using pandas: df['DataFrame Column'] = df['DataFrame Column'].fillna(0)\n",
    "For one column using numpy: df['DataFrame Column'] = df['DataFrame Column'].replace(np.nan, 0)\n",
    "For the whole DataFrame using pandas: df.fillna(0)\n",
    "For the whole DataFrame using numpy: df.replace(np.nan, 0)\n",
    "'''"
   ]
  },
  {
   "cell_type": "code",
   "execution_count": 29,
   "id": "b41106af",
   "metadata": {},
   "outputs": [],
   "source": [
    "df['percentile_rank'] = df['percentile_rank'].fillna(0)"
   ]
  },
  {
   "cell_type": "code",
   "execution_count": 30,
   "id": "683d8adc",
   "metadata": {},
   "outputs": [
    {
     "data": {
      "text/plain": [
       "True"
      ]
     },
     "execution_count": 30,
     "metadata": {},
     "output_type": "execute_result"
    }
   ],
   "source": [
    "#Check for NaN under a single DataFrame column: \n",
    "df['affinity'].isnull().values.any()"
   ]
  },
  {
   "cell_type": "code",
   "execution_count": 31,
   "id": "34878661",
   "metadata": {},
   "outputs": [],
   "source": [
    "df['affinity'] = df['affinity'].fillna(0)"
   ]
  },
  {
   "cell_type": "code",
   "execution_count": 32,
   "id": "f3f57a98",
   "metadata": {},
   "outputs": [
    {
     "data": {
      "text/plain": [
       "0         17394.11\n",
       "1         17394.11\n",
       "2           115.36\n",
       "3          5876.76\n",
       "4          5876.76\n",
       "            ...   \n",
       "913530        0.00\n",
       "913531        0.00\n",
       "913532        0.00\n",
       "913533        0.00\n",
       "913534        0.00\n",
       "Name: affinity, Length: 913535, dtype: float64"
      ]
     },
     "execution_count": 32,
     "metadata": {},
     "output_type": "execute_result"
    }
   ],
   "source": [
    "df['affinity']"
   ]
  },
  {
   "cell_type": "code",
   "execution_count": 33,
   "id": "8182af49",
   "metadata": {},
   "outputs": [
    {
     "data": {
      "text/plain": [
       "array(['ENSG00000060339.14', 'ENSG00000119333.11', 'ENSG00000011304.20',\n",
       "       ..., 'ENSG00000008441.16', 'ENSG00000136381.13',\n",
       "       'ENSG00000091436.17'], dtype=object)"
      ]
     },
     "execution_count": 33,
     "metadata": {},
     "output_type": "execute_result"
    }
   ],
   "source": [
    "#Gene of origin -> TODO  count the number of genes of origins. \n",
    "#First try using the “unique” function in pandas, then try using the “groupby” function in pandas\n",
    "\n",
    "df['gene'] = df['gene'].fillna(0)\n",
    "\n",
    "df['gene'].unique()"
   ]
  },
  {
   "cell_type": "code",
   "execution_count": 34,
   "id": "c33f4c2f",
   "metadata": {},
   "outputs": [],
   "source": [
    "df['gene'] = df['gene'].replace(0, np.nan, inplace=True)"
   ]
  },
  {
   "cell_type": "code",
   "execution_count": 35,
   "id": "18fb619b",
   "metadata": {},
   "outputs": [
    {
     "data": {
      "text/plain": [
       "0"
      ]
     },
     "execution_count": 35,
     "metadata": {},
     "output_type": "execute_result"
    }
   ],
   "source": [
    "#count unique values in each column\n",
    "#df.nunique()\n",
    "\n",
    "#count unique values in each row\n",
    "#df.nunique(axis=1)\n",
    "\n",
    "df['gene'].nunique()"
   ]
  },
  {
   "cell_type": "code",
   "execution_count": 36,
   "id": "75841554",
   "metadata": {},
   "outputs": [
    {
     "data": {
      "text/html": [
       "<div>\n",
       "<style scoped>\n",
       "    .dataframe tbody tr th:only-of-type {\n",
       "        vertical-align: middle;\n",
       "    }\n",
       "\n",
       "    .dataframe tbody tr th {\n",
       "        vertical-align: top;\n",
       "    }\n",
       "\n",
       "    .dataframe thead th {\n",
       "        text-align: right;\n",
       "    }\n",
       "</style>\n",
       "<table border=\"1\" class=\"dataframe\">\n",
       "  <thead>\n",
       "    <tr style=\"text-align: right;\">\n",
       "      <th></th>\n",
       "      <th>&gt;pepID</th>\n",
       "      <th>jx_pos</th>\n",
       "      <th>between_codons</th>\n",
       "      <th>includes_5'</th>\n",
       "      <th>includes_3'</th>\n",
       "      <th>jx_coord</th>\n",
       "      <th>kmer</th>\n",
       "      <th>readFrameAnnotated</th>\n",
       "      <th>junctionAnnotated</th>\n",
       "      <th>origin</th>\n",
       "      <th>...</th>\n",
       "      <th>TCGAXXA89901A11RA36F07all</th>\n",
       "      <th>TCGAXXA89A01A11RA36F07all</th>\n",
       "      <th>TCGAZ7A8R501A42RA41B07all</th>\n",
       "      <th>TCGAZ7A8R601A11RA41B07all</th>\n",
       "      <th>isCrossJunction</th>\n",
       "      <th>junctionAnnotated_kmer</th>\n",
       "      <th>readFrameAnnotated_kmer</th>\n",
       "      <th>recurrence</th>\n",
       "      <th>spladder_GTEX_on_disk</th>\n",
       "      <th>strand_spladder</th>\n",
       "    </tr>\n",
       "    <tr>\n",
       "      <th>gene</th>\n",
       "      <th></th>\n",
       "      <th></th>\n",
       "      <th></th>\n",
       "      <th></th>\n",
       "      <th></th>\n",
       "      <th></th>\n",
       "      <th></th>\n",
       "      <th></th>\n",
       "      <th></th>\n",
       "      <th></th>\n",
       "      <th></th>\n",
       "      <th></th>\n",
       "      <th></th>\n",
       "      <th></th>\n",
       "      <th></th>\n",
       "      <th></th>\n",
       "      <th></th>\n",
       "      <th></th>\n",
       "      <th></th>\n",
       "      <th></th>\n",
       "      <th></th>\n",
       "    </tr>\n",
       "  </thead>\n",
       "  <tbody>\n",
       "  </tbody>\n",
       "</table>\n",
       "<p>0 rows × 1125 columns</p>\n",
       "</div>"
      ],
      "text/plain": [
       "Empty DataFrame\n",
       "Columns: [>pepID, jx_pos, between_codons, includes_5', includes_3', jx_coord, kmer, readFrameAnnotated, junctionAnnotated, origin, peptide, sample, percentile_rank, affinity, strand, GTEX_presence, index, TCGA3CAAAU01A11RA41B07all, TCGA3CAALI01A11RA41B07all, TCGA3CAALJ01A31RA41B07all, TCGA3CAALK01A11RA41B07all, TCGA4HAAAK01A12RA41B07all, TCGA5LAAT001A12RA41B07all, TCGA5LAAT101A12RA41B07all, TCGA5TA9QA01A11RA41B07all, TCGAA1A0SB01A11RA14407all, TCGAA1A0SD01A11RA11507all, TCGAA1A0SE01A11RA08407all, TCGAA1A0SF01A11RA14407all, TCGAA1A0SG01A11RA14407all, TCGAA1A0SH01A11RA08407all, TCGAA1A0SI01A11RA14407all, TCGAA1A0SJ01A11RA08407all, TCGAA1A0SK01A12RA08407all, TCGAA1A0SM01A11RA08407all, TCGAA1A0SN01A11RA14407all, TCGAA1A0SO01A22RA08407all, TCGAA1A0SP01A11RA08407all, TCGAA1A0SQ01A21RA14407all, TCGAA2A04N01A11RA11507all, TCGAA2A04P01A31RA03407all, TCGAA2A04Q01A21RA03407all, TCGAA2A04R01A41RA10907all, TCGAA2A04T01A21RA03407all, TCGAA2A04U01A11RA11507all, TCGAA2A04V01A21RA03407all, TCGAA2A04W01A31RA11507all, TCGAA2A04X01A21RA03407all, TCGAA2A04Y01A21RA03407all, TCGAA2A0CK01A11RA22K07all, TCGAA2A0CL01A11RA11507all, TCGAA2A0CM01A31RA03407all, TCGAA2A0CO01A13RA22K07all, TCGAA2A0CP01A11RA03407all, TCGAA2A0CQ01A21RA03407all, TCGAA2A0CR01A11RA22K07all, TCGAA2A0CS01A11RA11507all, TCGAA2A0CT01A31RA05607all, TCGAA2A0CU01A12RA03407all, TCGAA2A0CV01A31RA11507all, TCGAA2A0CW01A21RA11507all, TCGAA2A0CX01A21RA00Z07all, TCGAA2A0CY01A12RA03407all, TCGAA2A0CZ01A11RA03407all, TCGAA2A0D001A11RA00Z07all, TCGAA2A0D101A11RA03407all, TCGAA2A0D201A21RA03407all, TCGAA2A0D301A11RA11507all, TCGAA2A0D401A11RA00Z07all, TCGAA2A0EM01A11RA03407all, TCGAA2A0EN01A13RA08407all, TCGAA2A0EO01A11RA03407all, TCGAA2A0EP01A52RA22U07all, TCGAA2A0EQ01A11RA03407all, TCGAA2A0ER01A21RA03407all, TCGAA2A0ES01A11RA11507all, TCGAA2A0ET01A31RA03407all, TCGAA2A0EU01A22RA05607all, TCGAA2A0EV01A11RA03407all, TCGAA2A0EW01A21RA11507all, TCGAA2A0EX01A21RA03407all, TCGAA2A0EY01A11RA03407all, TCGAA2A0ST01A12RA08407all, TCGAA2A0SU01A11RA08407all, TCGAA2A0SV01A11RA08407all, TCGAA2A0SW01A11RA08407all, TCGAA2A0SX01A12RA08407all, TCGAA2A0SY01A31RA08407all, TCGAA2A0T001A22RA08407all, TCGAA2A0T101A21RA08407all, TCGAA2A0T201A11RA08407all, TCGAA2A0T301A21RA11507all, TCGAA2A0T401A31RA08407all, TCGAA2A0T501A21RA08407all, TCGAA2A0T601A11RA08407all, TCGAA2A0T701A21RA08407all, TCGAA2A0YC01A11RA10907all, TCGAA2A0YD01A11RA10907all, TCGAA2A0YE01A11RA10907all, TCGAA2A0YF01A21RA10907all, ...]\n",
       "Index: []\n",
       "\n",
       "[0 rows x 1125 columns]"
      ]
     },
     "execution_count": 36,
     "metadata": {},
     "output_type": "execute_result"
    }
   ],
   "source": [
    "#Pandas groupby is used for grouping the data according to the categories and apply a function to the categories. \n",
    "#It also helps to aggregate data efficiently. \n",
    "#Pandas dataframe. groupby() function is used to split the data into groups based on some criteria.\n",
    "gk = df.groupby('gene')\n",
    "gk.first()\n"
   ]
  },
  {
   "cell_type": "code",
   "execution_count": 37,
   "id": "0e1eb545",
   "metadata": {},
   "outputs": [
    {
     "data": {
      "text/html": [
       "<div>\n",
       "<style scoped>\n",
       "    .dataframe tbody tr th:only-of-type {\n",
       "        vertical-align: middle;\n",
       "    }\n",
       "\n",
       "    .dataframe tbody tr th {\n",
       "        vertical-align: top;\n",
       "    }\n",
       "\n",
       "    .dataframe thead th {\n",
       "        text-align: right;\n",
       "    }\n",
       "</style>\n",
       "<table border=\"1\" class=\"dataframe\">\n",
       "  <thead>\n",
       "    <tr style=\"text-align: right;\">\n",
       "      <th></th>\n",
       "      <th>&gt;pepID</th>\n",
       "      <th>jx_pos</th>\n",
       "      <th>between_codons</th>\n",
       "      <th>includes_5'</th>\n",
       "      <th>includes_3'</th>\n",
       "      <th>percentile_rank</th>\n",
       "      <th>affinity</th>\n",
       "      <th>GTEX_presence</th>\n",
       "      <th>index</th>\n",
       "      <th>TCGA3CAAAU01A11RA41B07all</th>\n",
       "      <th>...</th>\n",
       "      <th>TCGAWTAB4101A11RA41B07all</th>\n",
       "      <th>TCGAWTAB4401A11RA41B07all</th>\n",
       "      <th>TCGAXXA89901A11RA36F07all</th>\n",
       "      <th>TCGAXXA89A01A11RA36F07all</th>\n",
       "      <th>TCGAZ7A8R501A42RA41B07all</th>\n",
       "      <th>TCGAZ7A8R601A11RA41B07all</th>\n",
       "      <th>junctionAnnotated_kmer</th>\n",
       "      <th>readFrameAnnotated_kmer</th>\n",
       "      <th>recurrence</th>\n",
       "      <th>spladder_GTEX_on_disk</th>\n",
       "    </tr>\n",
       "    <tr>\n",
       "      <th>gene</th>\n",
       "      <th></th>\n",
       "      <th></th>\n",
       "      <th></th>\n",
       "      <th></th>\n",
       "      <th></th>\n",
       "      <th></th>\n",
       "      <th></th>\n",
       "      <th></th>\n",
       "      <th></th>\n",
       "      <th></th>\n",
       "      <th></th>\n",
       "      <th></th>\n",
       "      <th></th>\n",
       "      <th></th>\n",
       "      <th></th>\n",
       "      <th></th>\n",
       "      <th></th>\n",
       "      <th></th>\n",
       "      <th></th>\n",
       "      <th></th>\n",
       "      <th></th>\n",
       "    </tr>\n",
       "  </thead>\n",
       "  <tbody>\n",
       "  </tbody>\n",
       "</table>\n",
       "<p>0 rows × 1115 columns</p>\n",
       "</div>"
      ],
      "text/plain": [
       "Empty DataFrame\n",
       "Columns: [>pepID, jx_pos, between_codons, includes_5', includes_3', percentile_rank, affinity, GTEX_presence, index, TCGA3CAAAU01A11RA41B07all, TCGA3CAALI01A11RA41B07all, TCGA3CAALJ01A31RA41B07all, TCGA3CAALK01A11RA41B07all, TCGA4HAAAK01A12RA41B07all, TCGA5LAAT001A12RA41B07all, TCGA5LAAT101A12RA41B07all, TCGA5TA9QA01A11RA41B07all, TCGAA1A0SB01A11RA14407all, TCGAA1A0SD01A11RA11507all, TCGAA1A0SE01A11RA08407all, TCGAA1A0SF01A11RA14407all, TCGAA1A0SG01A11RA14407all, TCGAA1A0SH01A11RA08407all, TCGAA1A0SI01A11RA14407all, TCGAA1A0SJ01A11RA08407all, TCGAA1A0SK01A12RA08407all, TCGAA1A0SM01A11RA08407all, TCGAA1A0SN01A11RA14407all, TCGAA1A0SO01A22RA08407all, TCGAA1A0SP01A11RA08407all, TCGAA1A0SQ01A21RA14407all, TCGAA2A04N01A11RA11507all, TCGAA2A04P01A31RA03407all, TCGAA2A04Q01A21RA03407all, TCGAA2A04R01A41RA10907all, TCGAA2A04T01A21RA03407all, TCGAA2A04U01A11RA11507all, TCGAA2A04V01A21RA03407all, TCGAA2A04W01A31RA11507all, TCGAA2A04X01A21RA03407all, TCGAA2A04Y01A21RA03407all, TCGAA2A0CK01A11RA22K07all, TCGAA2A0CL01A11RA11507all, TCGAA2A0CM01A31RA03407all, TCGAA2A0CO01A13RA22K07all, TCGAA2A0CP01A11RA03407all, TCGAA2A0CQ01A21RA03407all, TCGAA2A0CR01A11RA22K07all, TCGAA2A0CS01A11RA11507all, TCGAA2A0CT01A31RA05607all, TCGAA2A0CU01A12RA03407all, TCGAA2A0CV01A31RA11507all, TCGAA2A0CW01A21RA11507all, TCGAA2A0CX01A21RA00Z07all, TCGAA2A0CY01A12RA03407all, TCGAA2A0CZ01A11RA03407all, TCGAA2A0D001A11RA00Z07all, TCGAA2A0D101A11RA03407all, TCGAA2A0D201A21RA03407all, TCGAA2A0D301A11RA11507all, TCGAA2A0D401A11RA00Z07all, TCGAA2A0EM01A11RA03407all, TCGAA2A0EN01A13RA08407all, TCGAA2A0EO01A11RA03407all, TCGAA2A0EP01A52RA22U07all, TCGAA2A0EQ01A11RA03407all, TCGAA2A0ER01A21RA03407all, TCGAA2A0ES01A11RA11507all, TCGAA2A0ET01A31RA03407all, TCGAA2A0EU01A22RA05607all, TCGAA2A0EV01A11RA03407all, TCGAA2A0EW01A21RA11507all, TCGAA2A0EX01A21RA03407all, TCGAA2A0EY01A11RA03407all, TCGAA2A0ST01A12RA08407all, TCGAA2A0SU01A11RA08407all, TCGAA2A0SV01A11RA08407all, TCGAA2A0SW01A11RA08407all, TCGAA2A0SX01A12RA08407all, TCGAA2A0SY01A31RA08407all, TCGAA2A0T001A22RA08407all, TCGAA2A0T101A21RA08407all, TCGAA2A0T201A11RA08407all, TCGAA2A0T301A21RA11507all, TCGAA2A0T401A31RA08407all, TCGAA2A0T501A21RA08407all, TCGAA2A0T601A11RA08407all, TCGAA2A0T701A21RA08407all, TCGAA2A0YC01A11RA10907all, TCGAA2A0YD01A11RA10907all, TCGAA2A0YE01A11RA10907all, TCGAA2A0YF01A21RA10907all, TCGAA2A0YG01A21RA10907all, TCGAA2A0YH01A11RA10907all, TCGAA2A0YI01A31RA10J07all, TCGAA2A0YJ01A11RA10907all, TCGAA2A0YK01A22RA10907all, TCGAA2A0YL01A21RA10907all, TCGAA2A0YM01A11RA10907all, TCGAA2A0YT01A11RA10907all, ...]\n",
       "Index: []\n",
       "\n",
       "[0 rows x 1115 columns]"
      ]
     },
     "execution_count": 37,
     "metadata": {},
     "output_type": "execute_result"
    }
   ],
   "source": [
    "df.groupby(['gene']).mean()"
   ]
  },
  {
   "cell_type": "code",
   "execution_count": 38,
   "id": "bc145a66",
   "metadata": {},
   "outputs": [],
   "source": [
    "df['jx_coord'].unique()\n",
    "#len(df['jx_coord'].unique())\n",
    "len(df['jx_coord'].unique())\n",
    "df['jx_coord'].unique().shape\n",
    "#store in the new variable:\n",
    "testarray = df['jx_coord'].unique()"
   ]
  },
  {
   "cell_type": "code",
   "execution_count": 39,
   "id": "436edd00",
   "metadata": {},
   "outputs": [
    {
     "data": {
      "text/plain": [
       "9803"
      ]
     },
     "execution_count": 39,
     "metadata": {},
     "output_type": "execute_result"
    }
   ],
   "source": [
    "df['jx_coord'].unique()\n",
    "len(df['jx_coord'].unique())"
   ]
  },
  {
   "cell_type": "code",
   "execution_count": 40,
   "id": "0070608f",
   "metadata": {},
   "outputs": [
    {
     "data": {
      "text/plain": [
       "7"
      ]
     },
     "execution_count": 40,
     "metadata": {},
     "output_type": "execute_result"
    }
   ],
   "source": [
    "#len() method:\n",
    "#The len() function returns the number of items in an object.\n",
    "#Syntax: mylist = [\"apple\", \"banana\", \"cherry\"]\n",
    "#x = len(mylist)\n",
    "# When the object is a string, the len() function returns the number of characters in the string.\n",
    "\n",
    "#shape() method:\n",
    "#With the shape() method, comes the flexibility to obtain the dimensions of any Python object. \n",
    "#Yes, it returns a tuple value that indicates the dimensions of a Python object.\n",
    "#Syntax: dataframe.shape\n",
    "'''NumPy shape method\n",
    "\n",
    "With NumPy data structure, we store data elements in the form of an array. When we associate the shape() method with the NumPy array, the dimensions of the array are represented in the form of a tuple.\n",
    "\n",
    "Syntax:\n",
    "\n",
    "array.shape\n",
    "Copy\n",
    "Example 01:\n",
    "\n",
    "Here, we have created a NumPy array with no dimensions. Further, we have applied the shape() method on the array to get the dimensions of the created array.\n",
    "\n",
    "import numpy as np\n",
    "\n",
    "ar = np.array(0)\n",
    "\n",
    "print(ar)\n",
    "print(\"Shape of the array:\")\n",
    "print(ar.shape)'''\n",
    "\n",
    "import numpy as np\n",
    "x = np.array(['68737048_68742427', '68742430_68742487', '128640690_128637027',\n",
    "       ..., '141053665_141045706', '78337817_78354765',\n",
    "       '137051210_137049989'], dtype=object)\n",
    "len(x)"
   ]
  },
  {
   "cell_type": "code",
   "execution_count": 41,
   "id": "ac48adad",
   "metadata": {},
   "outputs": [
    {
     "data": {
      "text/plain": [
       "9802"
      ]
     },
     "execution_count": 41,
     "metadata": {},
     "output_type": "execute_result"
    }
   ],
   "source": [
    "df['jx_coord'].nunique()"
   ]
  },
  {
   "cell_type": "code",
   "execution_count": 42,
   "id": "d9e766da",
   "metadata": {},
   "outputs": [
    {
     "data": {
      "text/html": [
       "<div>\n",
       "<style scoped>\n",
       "    .dataframe tbody tr th:only-of-type {\n",
       "        vertical-align: middle;\n",
       "    }\n",
       "\n",
       "    .dataframe tbody tr th {\n",
       "        vertical-align: top;\n",
       "    }\n",
       "\n",
       "    .dataframe thead th {\n",
       "        text-align: right;\n",
       "    }\n",
       "</style>\n",
       "<table border=\"1\" class=\"dataframe\">\n",
       "  <thead>\n",
       "    <tr style=\"text-align: right;\">\n",
       "      <th></th>\n",
       "      <th>&gt;pepID</th>\n",
       "      <th>jx_pos</th>\n",
       "      <th>between_codons</th>\n",
       "      <th>includes_5'</th>\n",
       "      <th>includes_3'</th>\n",
       "      <th>percentile_rank</th>\n",
       "      <th>affinity</th>\n",
       "      <th>GTEX_presence</th>\n",
       "      <th>index</th>\n",
       "      <th>TCGA3CAAAU01A11RA41B07all</th>\n",
       "      <th>...</th>\n",
       "      <th>TCGAWTAB4101A11RA41B07all</th>\n",
       "      <th>TCGAWTAB4401A11RA41B07all</th>\n",
       "      <th>TCGAXXA89901A11RA36F07all</th>\n",
       "      <th>TCGAXXA89A01A11RA36F07all</th>\n",
       "      <th>TCGAZ7A8R501A42RA41B07all</th>\n",
       "      <th>TCGAZ7A8R601A11RA41B07all</th>\n",
       "      <th>junctionAnnotated_kmer</th>\n",
       "      <th>readFrameAnnotated_kmer</th>\n",
       "      <th>recurrence</th>\n",
       "      <th>spladder_GTEX_on_disk</th>\n",
       "    </tr>\n",
       "    <tr>\n",
       "      <th>jx_coord</th>\n",
       "      <th></th>\n",
       "      <th></th>\n",
       "      <th></th>\n",
       "      <th></th>\n",
       "      <th></th>\n",
       "      <th></th>\n",
       "      <th></th>\n",
       "      <th></th>\n",
       "      <th></th>\n",
       "      <th></th>\n",
       "      <th></th>\n",
       "      <th></th>\n",
       "      <th></th>\n",
       "      <th></th>\n",
       "      <th></th>\n",
       "      <th></th>\n",
       "      <th></th>\n",
       "      <th></th>\n",
       "      <th></th>\n",
       "      <th></th>\n",
       "      <th></th>\n",
       "    </tr>\n",
       "  </thead>\n",
       "  <tbody>\n",
       "    <tr>\n",
       "      <th>100030375_100033304</th>\n",
       "      <td>30583.161290</td>\n",
       "      <td>42.000000</td>\n",
       "      <td>0.0</td>\n",
       "      <td>0.0</td>\n",
       "      <td>1.000000</td>\n",
       "      <td>28.156129</td>\n",
       "      <td>25733.640645</td>\n",
       "      <td>1.0</td>\n",
       "      <td>2.129032</td>\n",
       "      <td>21.774194</td>\n",
       "      <td>...</td>\n",
       "      <td>0.000000</td>\n",
       "      <td>0.483871</td>\n",
       "      <td>6.935484</td>\n",
       "      <td>4.032258</td>\n",
       "      <td>0.000000</td>\n",
       "      <td>1.612903</td>\n",
       "      <td>1.000000</td>\n",
       "      <td>0.0</td>\n",
       "      <td>173.096774</td>\n",
       "      <td>1.0</td>\n",
       "    </tr>\n",
       "    <tr>\n",
       "      <th>100033316_100033364</th>\n",
       "      <td>36238.923077</td>\n",
       "      <td>47.000000</td>\n",
       "      <td>0.0</td>\n",
       "      <td>0.0</td>\n",
       "      <td>1.000000</td>\n",
       "      <td>27.340000</td>\n",
       "      <td>25032.346538</td>\n",
       "      <td>0.0</td>\n",
       "      <td>2.538462</td>\n",
       "      <td>0.000000</td>\n",
       "      <td>...</td>\n",
       "      <td>0.000000</td>\n",
       "      <td>0.000000</td>\n",
       "      <td>0.000000</td>\n",
       "      <td>0.000000</td>\n",
       "      <td>0.000000</td>\n",
       "      <td>0.000000</td>\n",
       "      <td>1.000000</td>\n",
       "      <td>0.0</td>\n",
       "      <td>1.000000</td>\n",
       "      <td>NaN</td>\n",
       "    </tr>\n",
       "    <tr>\n",
       "      <th>1000469_997804</th>\n",
       "      <td>21378.153846</td>\n",
       "      <td>26.000000</td>\n",
       "      <td>1.0</td>\n",
       "      <td>0.0</td>\n",
       "      <td>0.769231</td>\n",
       "      <td>19.807692</td>\n",
       "      <td>26889.505385</td>\n",
       "      <td>1.0</td>\n",
       "      <td>0.461538</td>\n",
       "      <td>113.076923</td>\n",
       "      <td>...</td>\n",
       "      <td>106.615385</td>\n",
       "      <td>59.769231</td>\n",
       "      <td>101.230769</td>\n",
       "      <td>120.076923</td>\n",
       "      <td>136.230769</td>\n",
       "      <td>149.692308</td>\n",
       "      <td>1.000000</td>\n",
       "      <td>0.0</td>\n",
       "      <td>593.846154</td>\n",
       "      <td>1.0</td>\n",
       "    </tr>\n",
       "    <tr>\n",
       "      <th>100073101_100084686</th>\n",
       "      <td>54587.363636</td>\n",
       "      <td>29.000000</td>\n",
       "      <td>0.0</td>\n",
       "      <td>0.0</td>\n",
       "      <td>1.000000</td>\n",
       "      <td>0.000000</td>\n",
       "      <td>0.000000</td>\n",
       "      <td>1.0</td>\n",
       "      <td>40.818182</td>\n",
       "      <td>0.000000</td>\n",
       "      <td>...</td>\n",
       "      <td>0.000000</td>\n",
       "      <td>0.000000</td>\n",
       "      <td>0.000000</td>\n",
       "      <td>0.000000</td>\n",
       "      <td>0.000000</td>\n",
       "      <td>0.000000</td>\n",
       "      <td>0.000000</td>\n",
       "      <td>0.0</td>\n",
       "      <td>119.000000</td>\n",
       "      <td>1.0</td>\n",
       "    </tr>\n",
       "    <tr>\n",
       "      <th>10008274_10015781</th>\n",
       "      <td>36692.600000</td>\n",
       "      <td>33.000000</td>\n",
       "      <td>1.0</td>\n",
       "      <td>0.0</td>\n",
       "      <td>0.000000</td>\n",
       "      <td>4.920000</td>\n",
       "      <td>5844.450000</td>\n",
       "      <td>1.0</td>\n",
       "      <td>0.000000</td>\n",
       "      <td>54.000000</td>\n",
       "      <td>...</td>\n",
       "      <td>187.000000</td>\n",
       "      <td>74.000000</td>\n",
       "      <td>117.000000</td>\n",
       "      <td>200.000000</td>\n",
       "      <td>114.000000</td>\n",
       "      <td>65.000000</td>\n",
       "      <td>1.000000</td>\n",
       "      <td>0.0</td>\n",
       "      <td>1098.000000</td>\n",
       "      <td>1.0</td>\n",
       "    </tr>\n",
       "    <tr>\n",
       "      <th>...</th>\n",
       "      <td>...</td>\n",
       "      <td>...</td>\n",
       "      <td>...</td>\n",
       "      <td>...</td>\n",
       "      <td>...</td>\n",
       "      <td>...</td>\n",
       "      <td>...</td>\n",
       "      <td>...</td>\n",
       "      <td>...</td>\n",
       "      <td>...</td>\n",
       "      <td>...</td>\n",
       "      <td>...</td>\n",
       "      <td>...</td>\n",
       "      <td>...</td>\n",
       "      <td>...</td>\n",
       "      <td>...</td>\n",
       "      <td>...</td>\n",
       "      <td>...</td>\n",
       "      <td>...</td>\n",
       "      <td>...</td>\n",
       "      <td>...</td>\n",
       "    </tr>\n",
       "    <tr>\n",
       "      <th>99971826_99971771</th>\n",
       "      <td>80312.358974</td>\n",
       "      <td>57.051282</td>\n",
       "      <td>0.0</td>\n",
       "      <td>0.0</td>\n",
       "      <td>1.000000</td>\n",
       "      <td>4.656410</td>\n",
       "      <td>9224.486410</td>\n",
       "      <td>0.0</td>\n",
       "      <td>26.128205</td>\n",
       "      <td>1924.615385</td>\n",
       "      <td>...</td>\n",
       "      <td>583.717949</td>\n",
       "      <td>342.076923</td>\n",
       "      <td>698.153846</td>\n",
       "      <td>592.564103</td>\n",
       "      <td>1478.769231</td>\n",
       "      <td>837.487179</td>\n",
       "      <td>0.410256</td>\n",
       "      <td>1.0</td>\n",
       "      <td>979.230769</td>\n",
       "      <td>NaN</td>\n",
       "    </tr>\n",
       "    <tr>\n",
       "      <th>99971986_99971815</th>\n",
       "      <td>23435.800000</td>\n",
       "      <td>30.320000</td>\n",
       "      <td>1.0</td>\n",
       "      <td>0.0</td>\n",
       "      <td>0.680000</td>\n",
       "      <td>2.740000</td>\n",
       "      <td>3334.652800</td>\n",
       "      <td>0.0</td>\n",
       "      <td>1.000000</td>\n",
       "      <td>0.000000</td>\n",
       "      <td>...</td>\n",
       "      <td>0.000000</td>\n",
       "      <td>0.000000</td>\n",
       "      <td>0.000000</td>\n",
       "      <td>0.000000</td>\n",
       "      <td>0.000000</td>\n",
       "      <td>0.000000</td>\n",
       "      <td>1.000000</td>\n",
       "      <td>1.0</td>\n",
       "      <td>2.000000</td>\n",
       "      <td>NaN</td>\n",
       "    </tr>\n",
       "    <tr>\n",
       "      <th>99975944_99968430</th>\n",
       "      <td>21766.333333</td>\n",
       "      <td>23.500000</td>\n",
       "      <td>0.0</td>\n",
       "      <td>0.0</td>\n",
       "      <td>0.666667</td>\n",
       "      <td>11.479167</td>\n",
       "      <td>16880.840833</td>\n",
       "      <td>1.0</td>\n",
       "      <td>6.500000</td>\n",
       "      <td>1.375000</td>\n",
       "      <td>...</td>\n",
       "      <td>0.000000</td>\n",
       "      <td>0.000000</td>\n",
       "      <td>0.000000</td>\n",
       "      <td>0.000000</td>\n",
       "      <td>0.000000</td>\n",
       "      <td>0.125000</td>\n",
       "      <td>0.875000</td>\n",
       "      <td>1.0</td>\n",
       "      <td>47.250000</td>\n",
       "      <td>1.0</td>\n",
       "    </tr>\n",
       "    <tr>\n",
       "      <th>99975944_99972006</th>\n",
       "      <td>16207.591837</td>\n",
       "      <td>23.408163</td>\n",
       "      <td>0.0</td>\n",
       "      <td>0.0</td>\n",
       "      <td>0.693878</td>\n",
       "      <td>17.234694</td>\n",
       "      <td>16855.457755</td>\n",
       "      <td>1.0</td>\n",
       "      <td>0.510204</td>\n",
       "      <td>1059.918367</td>\n",
       "      <td>...</td>\n",
       "      <td>170.448980</td>\n",
       "      <td>112.653061</td>\n",
       "      <td>378.122449</td>\n",
       "      <td>316.408163</td>\n",
       "      <td>549.061224</td>\n",
       "      <td>421.714286</td>\n",
       "      <td>1.000000</td>\n",
       "      <td>1.0</td>\n",
       "      <td>538.326531</td>\n",
       "      <td>1.0</td>\n",
       "    </tr>\n",
       "    <tr>\n",
       "      <th>99985672_99985865</th>\n",
       "      <td>60469.800000</td>\n",
       "      <td>43.000000</td>\n",
       "      <td>0.0</td>\n",
       "      <td>0.0</td>\n",
       "      <td>0.000000</td>\n",
       "      <td>14.414000</td>\n",
       "      <td>21221.188000</td>\n",
       "      <td>1.0</td>\n",
       "      <td>2.000000</td>\n",
       "      <td>0.000000</td>\n",
       "      <td>...</td>\n",
       "      <td>0.000000</td>\n",
       "      <td>0.000000</td>\n",
       "      <td>1.000000</td>\n",
       "      <td>0.000000</td>\n",
       "      <td>0.000000</td>\n",
       "      <td>0.000000</td>\n",
       "      <td>0.000000</td>\n",
       "      <td>0.0</td>\n",
       "      <td>141.000000</td>\n",
       "      <td>1.0</td>\n",
       "    </tr>\n",
       "  </tbody>\n",
       "</table>\n",
       "<p>9802 rows × 1115 columns</p>\n",
       "</div>"
      ],
      "text/plain": [
       "                           >pepID     jx_pos  between_codons  includes_5'  \\\n",
       "jx_coord                                                                    \n",
       "100030375_100033304  30583.161290  42.000000             0.0          0.0   \n",
       "100033316_100033364  36238.923077  47.000000             0.0          0.0   \n",
       "1000469_997804       21378.153846  26.000000             1.0          0.0   \n",
       "100073101_100084686  54587.363636  29.000000             0.0          0.0   \n",
       "10008274_10015781    36692.600000  33.000000             1.0          0.0   \n",
       "...                           ...        ...             ...          ...   \n",
       "99971826_99971771    80312.358974  57.051282             0.0          0.0   \n",
       "99971986_99971815    23435.800000  30.320000             1.0          0.0   \n",
       "99975944_99968430    21766.333333  23.500000             0.0          0.0   \n",
       "99975944_99972006    16207.591837  23.408163             0.0          0.0   \n",
       "99985672_99985865    60469.800000  43.000000             0.0          0.0   \n",
       "\n",
       "                     includes_3'  percentile_rank      affinity  \\\n",
       "jx_coord                                                          \n",
       "100030375_100033304     1.000000        28.156129  25733.640645   \n",
       "100033316_100033364     1.000000        27.340000  25032.346538   \n",
       "1000469_997804          0.769231        19.807692  26889.505385   \n",
       "100073101_100084686     1.000000         0.000000      0.000000   \n",
       "10008274_10015781       0.000000         4.920000   5844.450000   \n",
       "...                          ...              ...           ...   \n",
       "99971826_99971771       1.000000         4.656410   9224.486410   \n",
       "99971986_99971815       0.680000         2.740000   3334.652800   \n",
       "99975944_99968430       0.666667        11.479167  16880.840833   \n",
       "99975944_99972006       0.693878        17.234694  16855.457755   \n",
       "99985672_99985865       0.000000        14.414000  21221.188000   \n",
       "\n",
       "                     GTEX_presence      index  TCGA3CAAAU01A11RA41B07all  ...  \\\n",
       "jx_coord                                                                  ...   \n",
       "100030375_100033304            1.0   2.129032                  21.774194  ...   \n",
       "100033316_100033364            0.0   2.538462                   0.000000  ...   \n",
       "1000469_997804                 1.0   0.461538                 113.076923  ...   \n",
       "100073101_100084686            1.0  40.818182                   0.000000  ...   \n",
       "10008274_10015781              1.0   0.000000                  54.000000  ...   \n",
       "...                            ...        ...                        ...  ...   \n",
       "99971826_99971771              0.0  26.128205                1924.615385  ...   \n",
       "99971986_99971815              0.0   1.000000                   0.000000  ...   \n",
       "99975944_99968430              1.0   6.500000                   1.375000  ...   \n",
       "99975944_99972006              1.0   0.510204                1059.918367  ...   \n",
       "99985672_99985865              1.0   2.000000                   0.000000  ...   \n",
       "\n",
       "                     TCGAWTAB4101A11RA41B07all  TCGAWTAB4401A11RA41B07all  \\\n",
       "jx_coord                                                                    \n",
       "100030375_100033304                   0.000000                   0.483871   \n",
       "100033316_100033364                   0.000000                   0.000000   \n",
       "1000469_997804                      106.615385                  59.769231   \n",
       "100073101_100084686                   0.000000                   0.000000   \n",
       "10008274_10015781                   187.000000                  74.000000   \n",
       "...                                        ...                        ...   \n",
       "99971826_99971771                   583.717949                 342.076923   \n",
       "99971986_99971815                     0.000000                   0.000000   \n",
       "99975944_99968430                     0.000000                   0.000000   \n",
       "99975944_99972006                   170.448980                 112.653061   \n",
       "99985672_99985865                     0.000000                   0.000000   \n",
       "\n",
       "                     TCGAXXA89901A11RA36F07all  TCGAXXA89A01A11RA36F07all  \\\n",
       "jx_coord                                                                    \n",
       "100030375_100033304                   6.935484                   4.032258   \n",
       "100033316_100033364                   0.000000                   0.000000   \n",
       "1000469_997804                      101.230769                 120.076923   \n",
       "100073101_100084686                   0.000000                   0.000000   \n",
       "10008274_10015781                   117.000000                 200.000000   \n",
       "...                                        ...                        ...   \n",
       "99971826_99971771                   698.153846                 592.564103   \n",
       "99971986_99971815                     0.000000                   0.000000   \n",
       "99975944_99968430                     0.000000                   0.000000   \n",
       "99975944_99972006                   378.122449                 316.408163   \n",
       "99985672_99985865                     1.000000                   0.000000   \n",
       "\n",
       "                     TCGAZ7A8R501A42RA41B07all  TCGAZ7A8R601A11RA41B07all  \\\n",
       "jx_coord                                                                    \n",
       "100030375_100033304                   0.000000                   1.612903   \n",
       "100033316_100033364                   0.000000                   0.000000   \n",
       "1000469_997804                      136.230769                 149.692308   \n",
       "100073101_100084686                   0.000000                   0.000000   \n",
       "10008274_10015781                   114.000000                  65.000000   \n",
       "...                                        ...                        ...   \n",
       "99971826_99971771                  1478.769231                 837.487179   \n",
       "99971986_99971815                     0.000000                   0.000000   \n",
       "99975944_99968430                     0.000000                   0.125000   \n",
       "99975944_99972006                   549.061224                 421.714286   \n",
       "99985672_99985865                     0.000000                   0.000000   \n",
       "\n",
       "                     junctionAnnotated_kmer  readFrameAnnotated_kmer  \\\n",
       "jx_coord                                                               \n",
       "100030375_100033304                1.000000                      0.0   \n",
       "100033316_100033364                1.000000                      0.0   \n",
       "1000469_997804                     1.000000                      0.0   \n",
       "100073101_100084686                0.000000                      0.0   \n",
       "10008274_10015781                  1.000000                      0.0   \n",
       "...                                     ...                      ...   \n",
       "99971826_99971771                  0.410256                      1.0   \n",
       "99971986_99971815                  1.000000                      1.0   \n",
       "99975944_99968430                  0.875000                      1.0   \n",
       "99975944_99972006                  1.000000                      1.0   \n",
       "99985672_99985865                  0.000000                      0.0   \n",
       "\n",
       "                      recurrence  spladder_GTEX_on_disk  \n",
       "jx_coord                                                 \n",
       "100030375_100033304   173.096774                    1.0  \n",
       "100033316_100033364     1.000000                    NaN  \n",
       "1000469_997804        593.846154                    1.0  \n",
       "100073101_100084686   119.000000                    1.0  \n",
       "10008274_10015781    1098.000000                    1.0  \n",
       "...                          ...                    ...  \n",
       "99971826_99971771     979.230769                    NaN  \n",
       "99971986_99971815       2.000000                    NaN  \n",
       "99975944_99968430      47.250000                    1.0  \n",
       "99975944_99972006     538.326531                    1.0  \n",
       "99985672_99985865     141.000000                    1.0  \n",
       "\n",
       "[9802 rows x 1115 columns]"
      ]
     },
     "execution_count": 42,
     "metadata": {},
     "output_type": "execute_result"
    }
   ],
   "source": [
    "gk = df.groupby('jx_coord')\n",
    "#gk.first()\n",
    "#gk.count()\n",
    "gk.mean() #mean value , median difference to learn\n",
    "#documentation of groupby function"
   ]
  },
  {
   "cell_type": "code",
   "execution_count": 43,
   "id": "02e0321f",
   "metadata": {},
   "outputs": [],
   "source": [
    "#Count the NaN under a single DataFrame column: \n",
    "df['TCGAXXA89901A11RA36F07all'].isnull().sum()\n",
    "df['TCGAXXA89901A11RA36F07all'] = df['TCGAXXA89901A11RA36F07all'].fillna(0)"
   ]
  },
  {
   "cell_type": "code",
   "execution_count": 44,
   "id": "aff83dbe",
   "metadata": {},
   "outputs": [
    {
     "data": {
      "text/plain": [
       "0           6.0\n",
       "1           6.0\n",
       "2         156.0\n",
       "3           2.0\n",
       "4           2.0\n",
       "          ...  \n",
       "913530      0.0\n",
       "913531      0.0\n",
       "913532      0.0\n",
       "913533      0.0\n",
       "913534      0.0\n",
       "Name: TCGAXXA89901A11RA36F07all, Length: 913535, dtype: float64"
      ]
     },
     "execution_count": 44,
     "metadata": {},
     "output_type": "execute_result"
    }
   ],
   "source": [
    "df['TCGAXXA89901A11RA36F07all']"
   ]
  },
  {
   "cell_type": "code",
   "execution_count": 45,
   "id": "7b616b51",
   "metadata": {},
   "outputs": [
    {
     "data": {
      "image/png": "[encoded data removed]",
      "text/plain": [
       "<Figure size 576x576 with 1 Axes>"
      ]
     },
     "metadata": {
      "needs_background": "light"
     },
     "output_type": "display_data"
    }
   ],
   "source": [
    "#df[['percentile_rank', 'affinity']]. plot()\n",
    "plt.rcParams[\"figure.figsize\"] = (8, 8)\n",
    "df.plot(x='percentile_rank', y='affinity', style='o') # points smaller or plot bigger. to make it readab;le\n",
    "plt. show()"
   ]
  },
  {
   "cell_type": "code",
   "execution_count": 46,
   "id": "737f6ab0",
   "metadata": {},
   "outputs": [
    {
     "data": {
      "text/plain": [
       "Text(0, 0.5, 'percentile_rank')"
      ]
     },
     "execution_count": 46,
     "metadata": {},
     "output_type": "execute_result"
    },
    {
     "data": {
      "image/png": "[encoded data removed]",
      "text/plain": [
       "<Figure size 576x576 with 1 Axes>"
      ]
     },
     "metadata": {
      "needs_background": "light"
     },
     "output_type": "display_data"
    }
   ],
   "source": [
    "#Plotting violin plot using matplotlib library:\n",
    "plt.violinplot(df['percentile_rank'], vert=True);\n",
    "plt.ylabel('percentile_rank')\n",
    "\n",
    "#to build on base of several columns , diff groups for ex df['origin'] for 4 groups\n"
   ]
  },
  {
   "cell_type": "code",
   "execution_count": 47,
   "id": "ab7063fd",
   "metadata": {},
   "outputs": [],
   "source": [
    "plt.rcParams[\"figure.figsize\"] = (20, 20)\n",
    "\n",
    "#df.plot.scatter(x='percentile_rank',y='affinity', s = 10, c = 'red') #df/plt\n",
    "#fig = plt.figure(figsize=(8, 6))\n",
    "#plt.plot(x,y,)\n",
    "#plt.title('Plot of sinx', fontsize=25)\n",
    "#plt.xlabel('x', fontsize=20)\n",
    "#plt.ylabel('sinx', fontsize=20)\n"
   ]
  },
  {
   "cell_type": "code",
   "execution_count": 48,
   "id": "b6295c00",
   "metadata": {},
   "outputs": [
    {
     "data": {
      "text/plain": [
       "<pandas.plotting._core.PlotAccessor object at 0x2b1897887670>"
      ]
     },
     "execution_count": 48,
     "metadata": {},
     "output_type": "execute_result"
    }
   ],
   "source": [
    "df.plot"
   ]
  },
  {
   "cell_type": "code",
   "execution_count": 49,
   "id": "0ab94a3c",
   "metadata": {},
   "outputs": [
    {
     "data": {
      "image/png": "[encoded data removed]",
      "text/plain": [
       "<Figure size 1440x1440 with 1 Axes>"
      ]
     },
     "metadata": {
      "needs_background": "light"
     },
     "output_type": "display_data"
    }
   ],
   "source": [
    "#I would prefer that you use clearly matplotlib plt.hist/boxplot etc OR seaborn\n",
    "\n",
    "plt.hist(df[\"percentile_rank\"], density=False, histtype='stepfilled', facecolor='r', alpha=0.9) \n",
    "#google density, important parameter\n",
    "#density True or False\n",
    "plt.xlabel(\"percentile_rank\") \n",
    "plt.show()"
   ]
  },
  {
   "cell_type": "code",
   "execution_count": 50,
   "id": "b63914ff",
   "metadata": {},
   "outputs": [
    {
     "data": {
      "text/plain": [
       "Text(0, 0.5, 'percentile_rank')"
      ]
     },
     "execution_count": 50,
     "metadata": {},
     "output_type": "execute_result"
    },
    {
     "data": {
      "image/png": "[encoded data removed]",
      "text/plain": [
       "<Figure size 1440x1440 with 1 Axes>"
      ]
     },
     "metadata": {
      "needs_background": "light"
     },
     "output_type": "display_data"
    }
   ],
   "source": [
    "plt.boxplot(x=df['percentile_rank'], vert=True);\n",
    "plt.ylabel('percentile_rank')"
   ]
  },
  {
   "cell_type": "code",
   "execution_count": 51,
   "id": "5d0d735c",
   "metadata": {},
   "outputs": [],
   "source": [
    "import numpy as np\n",
    "import pandas as pd\n",
    "import matplotlib.pyplot as plt\n",
    "import seaborn as sns"
   ]
  },
  {
   "cell_type": "code",
   "execution_count": 52,
   "id": "10d5038d",
   "metadata": {},
   "outputs": [],
   "source": [
    "#percentile_rank = sns.load_dataset(\"percentile_rank\")\n",
    "#sns.relplot(x=\"affinity\", y=\"percentile_rank\", hue=\"isCrossJunction\", style=\"isCrossJunction\", data=percentile_rank);"
   ]
  },
  {
   "cell_type": "code",
   "execution_count": 6,
   "id": "e0b50579",
   "metadata": {},
   "outputs": [],
   "source": [
    "import pandas as pd\n",
    " \n",
    "from matplotlib import pyplot as plt\n",
    "from matplotlib.pyplot import figure"
   ]
  },
  {
   "cell_type": "code",
   "execution_count": 12,
   "id": "4b3aab09",
   "metadata": {},
   "outputs": [
    {
     "data": {
      "text/plain": [
       "0    0.0\n",
       "1    0.0\n",
       "2    1.0\n",
       "3    1.0\n",
       "4    1.0\n",
       "Name: junctionAnnotated_kmer, dtype: float64"
      ]
     },
     "execution_count": 12,
     "metadata": {},
     "output_type": "execute_result"
    }
   ],
   "source": [
    "df['junctionAnnotated_kmer'].head()"
   ]
  },
  {
   "cell_type": "code",
   "execution_count": 13,
   "id": "5c6141b1",
   "metadata": {},
   "outputs": [],
   "source": [
    "color = df['junctionAnnotated_kmer'].apply(lambda x: 'navy' if x == 1.0 else 'gold')"
   ]
  },
  {
   "cell_type": "code",
   "execution_count": 14,
   "id": "813bf7b3",
   "metadata": {},
   "outputs": [
    {
     "data": {
      "text/plain": [
       "array(['gold', 'navy'], dtype=object)"
      ]
     },
     "execution_count": 14,
     "metadata": {},
     "output_type": "execute_result"
    }
   ],
   "source": [
    "color.unique()"
   ]
  },
  {
   "cell_type": "code",
   "execution_count": 20,
   "id": "9b7aa195",
   "metadata": {},
   "outputs": [
    {
     "data": {
      "text/plain": [
       "(257101, 1127)"
      ]
     },
     "execution_count": 20,
     "metadata": {},
     "output_type": "execute_result"
    }
   ],
   "source": [
    "df.loc[df['junctionAnnotated_kmer'] == 1.0].shape # blue x4 more"
   ]
  },
  {
   "cell_type": "code",
   "execution_count": 21,
   "id": "8e27bd22",
   "metadata": {},
   "outputs": [
    {
     "data": {
      "text/plain": [
       "(43533, 1127)"
      ]
     },
     "execution_count": 21,
     "metadata": {},
     "output_type": "execute_result"
    }
   ],
   "source": [
    "df.loc[df['junctionAnnotated_kmer'] == 0.0].shape # gold "
   ]
  },
  {
   "cell_type": "code",
   "execution_count": 22,
   "id": "bf8373a0",
   "metadata": {},
   "outputs": [
    {
     "data": {
      "text/plain": [
       "<AxesSubplot:xlabel='junctionAnnotated_kmer', ylabel='TCGAXXA89901A11RA36F07all'>"
      ]
     },
     "execution_count": 22,
     "metadata": {},
     "output_type": "execute_result"
    },
    {
     "data": {
      "image/png": "[encoded data removed]",
      "text/plain": [
       "<Figure size 432x288 with 1 Axes>"
      ]
     },
     "metadata": {
      "needs_background": "light"
     },
     "output_type": "display_data"
    }
   ],
   "source": [
    "sns.scatterplot(data = df, \n",
    "               x = 'junctionAnnotated_kmer', \n",
    "               y = 'TCGAXXA89901A11RA36F07all', \n",
    "               hue = 'between_codons')"
   ]
  },
  {
   "cell_type": "code",
   "execution_count": 26,
   "id": "aec2b856",
   "metadata": {},
   "outputs": [
    {
     "data": {
      "text/html": [
       "<div>\n",
       "<style scoped>\n",
       "    .dataframe tbody tr th:only-of-type {\n",
       "        vertical-align: middle;\n",
       "    }\n",
       "\n",
       "    .dataframe tbody tr th {\n",
       "        vertical-align: top;\n",
       "    }\n",
       "\n",
       "    .dataframe thead th {\n",
       "        text-align: right;\n",
       "    }\n",
       "</style>\n",
       "<table border=\"1\" class=\"dataframe\">\n",
       "  <thead>\n",
       "    <tr style=\"text-align: right;\">\n",
       "      <th></th>\n",
       "      <th>&gt;pepID</th>\n",
       "      <th>jx_pos</th>\n",
       "      <th>includes_5'</th>\n",
       "      <th>includes_3'</th>\n",
       "      <th>gene</th>\n",
       "      <th>jx_coord</th>\n",
       "      <th>kmer</th>\n",
       "      <th>readFrameAnnotated</th>\n",
       "      <th>junctionAnnotated</th>\n",
       "      <th>origin</th>\n",
       "      <th>...</th>\n",
       "      <th>TCGAXXA89A01A11RA36F07all</th>\n",
       "      <th>TCGAZ7A8R501A42RA41B07all</th>\n",
       "      <th>TCGAZ7A8R601A11RA41B07all</th>\n",
       "      <th>isCrossJunction</th>\n",
       "      <th>junctionAnnotated_kmer</th>\n",
       "      <th>readFrameAnnotated_kmer</th>\n",
       "      <th>recurrence</th>\n",
       "      <th>spladder_GTEX_on_disk</th>\n",
       "      <th>strand_spladder</th>\n",
       "      <th>transformedColumn</th>\n",
       "    </tr>\n",
       "    <tr>\n",
       "      <th>between_codons</th>\n",
       "      <th></th>\n",
       "      <th></th>\n",
       "      <th></th>\n",
       "      <th></th>\n",
       "      <th></th>\n",
       "      <th></th>\n",
       "      <th></th>\n",
       "      <th></th>\n",
       "      <th></th>\n",
       "      <th></th>\n",
       "      <th></th>\n",
       "      <th></th>\n",
       "      <th></th>\n",
       "      <th></th>\n",
       "      <th></th>\n",
       "      <th></th>\n",
       "      <th></th>\n",
       "      <th></th>\n",
       "      <th></th>\n",
       "      <th></th>\n",
       "      <th></th>\n",
       "    </tr>\n",
       "  </thead>\n",
       "  <tbody>\n",
       "    <tr>\n",
       "      <th>0.0</th>\n",
       "      <td>4</td>\n",
       "      <td>12.0</td>\n",
       "      <td>0.0</td>\n",
       "      <td>0.0</td>\n",
       "      <td>ENSG00000119333.11</td>\n",
       "      <td>128640690_128637027</td>\n",
       "      <td>AAADGVLSV</td>\n",
       "      <td>0.0</td>\n",
       "      <td>1.0</td>\n",
       "      <td>2exons</td>\n",
       "      <td>...</td>\n",
       "      <td>164.0</td>\n",
       "      <td>112.0</td>\n",
       "      <td>651.0</td>\n",
       "      <td>True</td>\n",
       "      <td>1.0</td>\n",
       "      <td>0.0</td>\n",
       "      <td>1100.0</td>\n",
       "      <td>1.0</td>\n",
       "      <td>-</td>\n",
       "      <td>3.992740</td>\n",
       "    </tr>\n",
       "    <tr>\n",
       "      <th>1.0</th>\n",
       "      <td>2</td>\n",
       "      <td>56.0</td>\n",
       "      <td>0.0</td>\n",
       "      <td>0.0</td>\n",
       "      <td>ENSG00000060339.14</td>\n",
       "      <td>68737048_68742427</td>\n",
       "      <td>AAAALQQHS</td>\n",
       "      <td>0.0</td>\n",
       "      <td>0.0</td>\n",
       "      <td>3exons_9mer</td>\n",
       "      <td>...</td>\n",
       "      <td>0.0</td>\n",
       "      <td>0.0</td>\n",
       "      <td>3.0</td>\n",
       "      <td>True</td>\n",
       "      <td>0.0</td>\n",
       "      <td>0.0</td>\n",
       "      <td>970.0</td>\n",
       "      <td>1.0</td>\n",
       "      <td>+</td>\n",
       "      <td>3.520871</td>\n",
       "    </tr>\n",
       "  </tbody>\n",
       "</table>\n",
       "<p>2 rows × 1126 columns</p>\n",
       "</div>"
      ],
      "text/plain": [
       "                >pepID  jx_pos  includes_5'  includes_3'                gene  \\\n",
       "between_codons                                                                 \n",
       "0.0                  4    12.0          0.0          0.0  ENSG00000119333.11   \n",
       "1.0                  2    56.0          0.0          0.0  ENSG00000060339.14   \n",
       "\n",
       "                           jx_coord       kmer readFrameAnnotated  \\\n",
       "between_codons                                                      \n",
       "0.0             128640690_128637027  AAADGVLSV                0.0   \n",
       "1.0               68737048_68742427  AAAALQQHS                0.0   \n",
       "\n",
       "               junctionAnnotated       origin  ... TCGAXXA89A01A11RA36F07all  \\\n",
       "between_codons                                 ...                             \n",
       "0.0                          1.0       2exons  ...                     164.0   \n",
       "1.0                          0.0  3exons_9mer  ...                       0.0   \n",
       "\n",
       "               TCGAZ7A8R501A42RA41B07all  TCGAZ7A8R601A11RA41B07all  \\\n",
       "between_codons                                                        \n",
       "0.0                                112.0                      651.0   \n",
       "1.0                                  0.0                        3.0   \n",
       "\n",
       "                isCrossJunction junctionAnnotated_kmer  \\\n",
       "between_codons                                           \n",
       "0.0                        True                    1.0   \n",
       "1.0                        True                    0.0   \n",
       "\n",
       "                readFrameAnnotated_kmer  recurrence  spladder_GTEX_on_disk  \\\n",
       "between_codons                                                               \n",
       "0.0                                 0.0      1100.0                    1.0   \n",
       "1.0                                 0.0       970.0                    1.0   \n",
       "\n",
       "                strand_spladder  transformedColumn  \n",
       "between_codons                                      \n",
       "0.0                           -           3.992740  \n",
       "1.0                           +           3.520871  \n",
       "\n",
       "[2 rows x 1126 columns]"
      ]
     },
     "execution_count": 26,
     "metadata": {},
     "output_type": "execute_result"
    }
   ],
   "source": [
    "df.groupby('between_codons').first()"
   ]
  },
  {
   "cell_type": "code",
   "execution_count": 30,
   "id": "0fb2dc3a",
   "metadata": {},
   "outputs": [
    {
     "data": {
      "text/plain": [
       "0         0.0\n",
       "1         0.0\n",
       "17        0.0\n",
       "18        0.0\n",
       "20        0.0\n",
       "         ... \n",
       "803251    1.0\n",
       "803255    1.0\n",
       "803259    1.0\n",
       "803260    1.0\n",
       "803265    1.0\n",
       "Name: junctionAnnotated, Length: 98134, dtype: object"
      ]
     },
     "execution_count": 30,
     "metadata": {},
     "output_type": "execute_result"
    }
   ],
   "source": [
    "#EXAMPLE Line by line \n",
    "df['between_codons'].unique()\n",
    "between_codon_value= 1.0\n",
    "subset_of_df = df.loc[df['between_codons'] == between_codon_value, :] # split \n",
    "subset_of_df.head()\n",
    "subset_of_df['junctionAnnotated']"
   ]
  },
  {
   "cell_type": "code",
   "execution_count": 33,
   "id": "ee8206db",
   "metadata": {},
   "outputs": [
    {
     "data": {
      "text/plain": [
       "'green'"
      ]
     },
     "execution_count": 33,
     "metadata": {},
     "output_type": "execute_result"
    }
   ],
   "source": [
    "bcolor = {1.0: 'red', 0.0: 'green'}\n",
    "bcolor[1]\n",
    "bcolor[0]"
   ]
  },
  {
   "cell_type": "code",
   "execution_count": 46,
   "id": "cef1cdee",
   "metadata": {},
   "outputs": [
    {
     "data": {
      "text/plain": [
       "True"
      ]
     },
     "execution_count": 46,
     "metadata": {},
     "output_type": "execute_result"
    }
   ],
   "source": [
    "np.isnan(between_codon_value)"
   ]
  },
  {
   "cell_type": "code",
   "execution_count": 51,
   "id": "500936d6",
   "metadata": {},
   "outputs": [
    {
     "data": {
      "image/png": "[encoded data removed]",
      "text/plain": [
       "<Figure size 800x640 with 1 Axes>"
      ]
     },
     "metadata": {
      "needs_background": "light"
     },
     "output_type": "display_data"
    }
   ],
   "source": [
    "#### Matplotlib with a loop to get the legends on many dimensions ###\n",
    "### 3d ###\n",
    "\n",
    "#color = df['junctionAnnotated_kmer'].apply(lambda x: 'navy' if x == 1.0 else 'gold')\n",
    "#bcolor = df['between_codons'].apply(lambda x: 'red' if x == 1.0 else 'green')\n",
    "bcolor = {1.0: 'red', 0.0: 'green'}\n",
    "figure(figsize=(10, 8), dpi=80)\n",
    "for between_codon_value in df['between_codons'].unique(): #We CHOOSE to subset based on the value of between codons \n",
    "        \n",
    "    # SLICE where between codon is 0 or between codon is 1 \n",
    "    subset_of_df = df.loc[df['between_codons'] == between_codon_value, :] \n",
    "    \n",
    "    # WE USE THE SUBSET AND DO A SCATTER PLOT ONLY ON THE SUBSET\n",
    "    plt.scatter(x=subset_of_df['junctionAnnotated_kmer'], \n",
    "                y=subset_of_df['TCGAXXA89901A11RA36F07all'],\n",
    "                s=100, \n",
    "                c=bcolor[between_codon_value] if not np.isnan(between_codon_value) else 'blue' , # between_codons\n",
    "                alpha=0.3, \n",
    "                marker='o', \n",
    "                label=f\"between_codons = {between_codon_value}\", #string with print the value!\n",
    "                #edgecolors=bcolor\n",
    "               )#linewidth=df['recurrence']\n",
    "    \n",
    "    plt.legend(loc='upper right')\n",
    "    plt.xlabel('junctionAnnotated_kmer')\n",
    "    plt.ylabel('TCGAXXA89901A11RA36F07all')\n",
    "\n",
    "plt.show()"
   ]
  },
  {
   "cell_type": "code",
   "execution_count": 24,
   "id": "74d19afd",
   "metadata": {},
   "outputs": [
    {
     "name": "stderr",
     "output_type": "stream",
     "text": [
      "No handles with labels found to put in legend.\n"
     ]
    },
    {
     "data": {
      "image/png": "[encoded data removed]",
      "text/plain": [
       "<Figure size 800x640 with 1 Axes>"
      ]
     },
     "metadata": {
      "needs_background": "light"
     },
     "output_type": "display_data"
    },
    {
     "name": "stderr",
     "output_type": "stream",
     "text": [
      "No handles with labels found to put in legend.\n"
     ]
    },
    {
     "data": {
      "image/png": "[encoded data removed]",
      "text/plain": [
       "<Figure size 800x640 with 1 Axes>"
      ]
     },
     "metadata": {
      "needs_background": "light"
     },
     "output_type": "display_data"
    }
   ],
   "source": [
    "color = df['junctionAnnotated_kmer'].apply(lambda x: 'navy' if x == 1.0 else 'gold')\n",
    "bcolor = df['between_codons'].apply(lambda x: 'red' if x == 1.0 else 'green')\n",
    " \n",
    "figure(figsize=(10, 8), dpi=80)\n",
    " \n",
    "#plt.style.use('ggplot')\n",
    " \n",
    "#plt.title('Relation between junctionAnnotated_kmer,between_codons and TCGAXXA89901A11RA36F07all')\n",
    "plt.xlabel('junctionAnnotated_kmer')\n",
    "plt.ylabel('TCGAXXA89901A11RA36F07all')\n",
    "plt.scatter(x=df['junctionAnnotated_kmer'], \n",
    "            y=df['TCGAXXA89901A11RA36F07all'],\n",
    "            s=100, \n",
    "            c=bcolor, # between_codons\n",
    "            alpha=0.6, \n",
    "            marker='o', \n",
    "            #edgecolors=bcolor\n",
    "           )#linewidth=df['recurrence']\n",
    "plt.legend(loc='upper right')\n",
    "plt.show()\n",
    "\n",
    "figure(figsize=(10, 8), dpi=80)\n",
    "plt.scatter(x=df['between_codons'],\n",
    "            y=df['TCGAXXA89901A11RA36F07all'], \n",
    "            s=100, \n",
    "            c=color, \n",
    "            alpha=0.5, \n",
    "            marker='h', \n",
    "            #edgecolors=bcolor\n",
    "           )#linewidth=df['recurrence']\n",
    "plt.xlabel('between_codons')\n",
    "plt.legend(loc='upper right')\n",
    " \n",
    " \n",
    "plt.tight_layout()\n",
    " \n",
    "plt.show()\n",
    "#plt.savefig('multidimensionaldataplot1')"
   ]
  },
  {
   "cell_type": "code",
   "execution_count": 7,
   "id": "1b817b4b",
   "metadata": {},
   "outputs": [],
   "source": [
    "df['transformedColumn'] = (df['recurrence'] - df['recurrence'].min())/(df['recurrence'].max() - df['recurrence'].min()) * 4 + 0\n",
    "#try [0,4], [0,10]"
   ]
  },
  {
   "cell_type": "code",
   "execution_count": 8,
   "id": "fa9698e2",
   "metadata": {},
   "outputs": [
    {
     "data": {
      "text/plain": [
       "0         3.520871\n",
       "1         3.520871\n",
       "2         3.992740\n",
       "3         3.528131\n",
       "4         3.528131\n",
       "            ...   \n",
       "913530         NaN\n",
       "913531         NaN\n",
       "913532         NaN\n",
       "913533         NaN\n",
       "913534         NaN\n",
       "Name: transformedColumn, Length: 913535, dtype: float64"
      ]
     },
     "execution_count": 8,
     "metadata": {},
     "output_type": "execute_result"
    }
   ],
   "source": [
    "df['transformedColumn']"
   ]
  },
  {
   "cell_type": "code",
   "execution_count": 9,
   "id": "b579f923",
   "metadata": {},
   "outputs": [
    {
     "name": "stderr",
     "output_type": "stream",
     "text": [
      "No handles with labels found to put in legend.\n"
     ]
    },
    {
     "data": {
      "image/png": "[encoded data removed]",
      "text/plain": [
       "<Figure size 800x640 with 1 Axes>"
      ]
     },
     "metadata": {
      "needs_background": "light"
     },
     "output_type": "display_data"
    },
    {
     "data": {
      "text/plain": [
       "<Figure size 432x288 with 0 Axes>"
      ]
     },
     "metadata": {},
     "output_type": "display_data"
    }
   ],
   "source": [
    "color = df['junctionAnnotated_kmer'].apply(lambda x: 'navy' if x == '1' else 'gold')\n",
    "bcolor = df['between_codons'].apply(lambda x: 'red' if x == '1' else 'green')\n",
    " \n",
    "figure(figsize=(10, 8), dpi=80)\n",
    " \n",
    "#plt.style.use('ggplot')\n",
    " \n",
    "plt.title('Relation between junctionAnnotated_kmer,between_codons and TCGAXXA89901A11RA36F07all')\n",
    "plt.xlabel('junctionAnnotated_kmer and between_codons')\n",
    "plt.ylabel('TCGAXXA89901A11RA36F07all')\n",
    "plt.scatter(x=df['junctionAnnotated_kmer'],y=df['TCGAXXA89901A11RA36F07all'],s=100,c=color,alpha=0.6,marker='o',edgecolors=bcolor, linewidth=df['transformedColumn'])\n",
    "plt.scatter(x=df['between_codons'],y=df['TCGAXXA89901A11RA36F07all'],s=100,c=color,alpha=0.5,marker='h',edgecolors=bcolor, linewidth=df['transformedColumn'])\n",
    "plt.legend(loc='upper right')\n",
    " \n",
    "plt.tight_layout()\n",
    " \n",
    "plt.show()\n",
    "plt.savefig('multidimensionaldataplot2')\n"
   ]
  },
  {
   "cell_type": "code",
   "execution_count": 79,
   "id": "56125581",
   "metadata": {},
   "outputs": [
    {
     "name": "stderr",
     "output_type": "stream",
     "text": [
      "No handles with labels found to put in legend.\n"
     ]
    },
    {
     "data": {
      "image/png": "[encoded data removed]",
      "text/plain": [
       "<Figure size 800x640 with 1 Axes>"
      ]
     },
     "metadata": {
      "needs_background": "light"
     },
     "output_type": "display_data"
    },
    {
     "data": {
      "text/plain": [
       "<Figure size 1440x1440 with 0 Axes>"
      ]
     },
     "metadata": {},
     "output_type": "display_data"
    }
   ],
   "source": [
    "color = df['junctionAnnotated_kmer'].apply(lambda x: 'navy' if x == '1' else 'gold')\n",
    "bcolor = df['between_codons'].apply(lambda x: 'red' if x == '1' else 'green')\n",
    " \n",
    "figure(figsize=(10, 8), dpi=80)\n",
    " \n",
    "#plt.style.use('ggplot')\n",
    " \n",
    "plt.title('Relation between junctionAnnotated_kmer,between_codons and TCGAXXA89901A11RA36F07all')\n",
    "plt.xlabel('junctionAnnotated_kmer and between_codons')\n",
    "plt.ylabel('TCGAXXA89901A11RA36F07all')\n",
    "\n",
    "def standardize(X, min_range, max_range):\n",
    "    X_std = (X - X.min(axis=0)) / (X.max(axis=0) - X.min(axis=0))\n",
    "    X_scaled = X_std * (max_range - min_range) + min_range\n",
    "    \n",
    "plt.scatter(x=df['junctionAnnotated_kmer'],y=df['TCGAXXA89901A11RA36F07all'],s=100,c=color,alpha=0.6,marker='o',edgecolors=bcolor, linewidth=df['transformedColumn'])\n",
    "plt.scatter(x=df['between_codons'],y=df['TCGAXXA89901A11RA36F07all'],s=100,c=color,alpha=0.5,marker='h',edgecolors=bcolor, linewidth=df['transformedColumn'])\n",
    "plt.legend(loc='upper right')\n",
    " \n",
    "plt.tight_layout()\n",
    " \n",
    "plt.show()\n",
    "plt.savefig('multidimensionaldataplot3')\n"
   ]
  },
  {
   "cell_type": "code",
   "execution_count": 55,
   "id": "911f1da0",
   "metadata": {},
   "outputs": [],
   "source": [
    "#box plots using df['origin'] for multiple groups '3exons_9mer', '2exons', nan, '3exons_9mer/2exons': \n",
    "\n",
    "#Plotting box plot using matplotlib library:\n"
   ]
  },
  {
   "cell_type": "raw",
   "id": "329185a7",
   "metadata": {},
   "source": [
    "groupby"
   ]
  },
  {
   "cell_type": "code",
   "execution_count": 56,
   "id": "5f5e0716",
   "metadata": {},
   "outputs": [
    {
     "data": {
      "text/plain": [
       "array(['3exons_9mer', '2exons', nan, '3exons_9mer/2exons'], dtype=object)"
      ]
     },
     "execution_count": 56,
     "metadata": {},
     "output_type": "execute_result"
    }
   ],
   "source": [
    "df['origin'].unique()"
   ]
  },
  {
   "cell_type": "code",
   "execution_count": 57,
   "id": "761e4c8f",
   "metadata": {},
   "outputs": [
    {
     "data": {
      "text/html": [
       "<div>\n",
       "<style scoped>\n",
       "    .dataframe tbody tr th:only-of-type {\n",
       "        vertical-align: middle;\n",
       "    }\n",
       "\n",
       "    .dataframe tbody tr th {\n",
       "        vertical-align: top;\n",
       "    }\n",
       "\n",
       "    .dataframe thead th {\n",
       "        text-align: right;\n",
       "    }\n",
       "</style>\n",
       "<table border=\"1\" class=\"dataframe\">\n",
       "  <thead>\n",
       "    <tr style=\"text-align: right;\">\n",
       "      <th></th>\n",
       "      <th>&gt;pepID</th>\n",
       "      <th>jx_pos</th>\n",
       "      <th>between_codons</th>\n",
       "      <th>includes_5'</th>\n",
       "      <th>includes_3'</th>\n",
       "      <th>gene</th>\n",
       "      <th>jx_coord</th>\n",
       "      <th>kmer</th>\n",
       "      <th>readFrameAnnotated</th>\n",
       "      <th>junctionAnnotated</th>\n",
       "      <th>...</th>\n",
       "      <th>TCGAXXA89901A11RA36F07all</th>\n",
       "      <th>TCGAXXA89A01A11RA36F07all</th>\n",
       "      <th>TCGAZ7A8R501A42RA41B07all</th>\n",
       "      <th>TCGAZ7A8R601A11RA41B07all</th>\n",
       "      <th>isCrossJunction</th>\n",
       "      <th>junctionAnnotated_kmer</th>\n",
       "      <th>readFrameAnnotated_kmer</th>\n",
       "      <th>recurrence</th>\n",
       "      <th>spladder_GTEX_on_disk</th>\n",
       "      <th>strand_spladder</th>\n",
       "    </tr>\n",
       "  </thead>\n",
       "  <tbody>\n",
       "    <tr>\n",
       "      <th>0</th>\n",
       "      <td>2</td>\n",
       "      <td>56.0</td>\n",
       "      <td>1.0</td>\n",
       "      <td>0.0</td>\n",
       "      <td>0.0</td>\n",
       "      <td>None</td>\n",
       "      <td>68737048_68742427</td>\n",
       "      <td>AAAALQQHS</td>\n",
       "      <td>0.0</td>\n",
       "      <td>0.0</td>\n",
       "      <td>...</td>\n",
       "      <td>6.0</td>\n",
       "      <td>0.0</td>\n",
       "      <td>0.0</td>\n",
       "      <td>3.0</td>\n",
       "      <td>True</td>\n",
       "      <td>0.0</td>\n",
       "      <td>0.0</td>\n",
       "      <td>970.0</td>\n",
       "      <td>1.0</td>\n",
       "      <td>+</td>\n",
       "    </tr>\n",
       "    <tr>\n",
       "      <th>1</th>\n",
       "      <td>2</td>\n",
       "      <td>57.0</td>\n",
       "      <td>1.0</td>\n",
       "      <td>0.0</td>\n",
       "      <td>0.0</td>\n",
       "      <td>None</td>\n",
       "      <td>68742430_68742487</td>\n",
       "      <td>AAAALQQHS</td>\n",
       "      <td>0.0</td>\n",
       "      <td>0.0</td>\n",
       "      <td>...</td>\n",
       "      <td>6.0</td>\n",
       "      <td>0.0</td>\n",
       "      <td>0.0</td>\n",
       "      <td>3.0</td>\n",
       "      <td>True</td>\n",
       "      <td>0.0</td>\n",
       "      <td>0.0</td>\n",
       "      <td>970.0</td>\n",
       "      <td>NaN</td>\n",
       "      <td>NaN</td>\n",
       "    </tr>\n",
       "    <tr>\n",
       "      <th>2</th>\n",
       "      <td>4</td>\n",
       "      <td>12.0</td>\n",
       "      <td>0.0</td>\n",
       "      <td>0.0</td>\n",
       "      <td>0.0</td>\n",
       "      <td>None</td>\n",
       "      <td>128640690_128637027</td>\n",
       "      <td>AAADGVLSV</td>\n",
       "      <td>0.0</td>\n",
       "      <td>1.0</td>\n",
       "      <td>...</td>\n",
       "      <td>156.0</td>\n",
       "      <td>164.0</td>\n",
       "      <td>112.0</td>\n",
       "      <td>651.0</td>\n",
       "      <td>True</td>\n",
       "      <td>1.0</td>\n",
       "      <td>0.0</td>\n",
       "      <td>1100.0</td>\n",
       "      <td>1.0</td>\n",
       "      <td>-</td>\n",
       "    </tr>\n",
       "    <tr>\n",
       "      <th>3</th>\n",
       "      <td>5</td>\n",
       "      <td>12.0</td>\n",
       "      <td>0.0</td>\n",
       "      <td>0.0</td>\n",
       "      <td>1.0</td>\n",
       "      <td>None</td>\n",
       "      <td>128640690_128636438</td>\n",
       "      <td>AAADGWTMG</td>\n",
       "      <td>0.0</td>\n",
       "      <td>1.0</td>\n",
       "      <td>...</td>\n",
       "      <td>2.0</td>\n",
       "      <td>1.0</td>\n",
       "      <td>0.0</td>\n",
       "      <td>4.0</td>\n",
       "      <td>True</td>\n",
       "      <td>1.0</td>\n",
       "      <td>0.0</td>\n",
       "      <td>972.0</td>\n",
       "      <td>1.0</td>\n",
       "      <td>-</td>\n",
       "    </tr>\n",
       "    <tr>\n",
       "      <th>4</th>\n",
       "      <td>6</td>\n",
       "      <td>12.0</td>\n",
       "      <td>0.0</td>\n",
       "      <td>0.0</td>\n",
       "      <td>0.0</td>\n",
       "      <td>None</td>\n",
       "      <td>128640690_128636438</td>\n",
       "      <td>AAADGWTMG</td>\n",
       "      <td>0.0</td>\n",
       "      <td>1.0</td>\n",
       "      <td>...</td>\n",
       "      <td>2.0</td>\n",
       "      <td>1.0</td>\n",
       "      <td>0.0</td>\n",
       "      <td>4.0</td>\n",
       "      <td>True</td>\n",
       "      <td>1.0</td>\n",
       "      <td>0.0</td>\n",
       "      <td>972.0</td>\n",
       "      <td>1.0</td>\n",
       "      <td>-</td>\n",
       "    </tr>\n",
       "    <tr>\n",
       "      <th>...</th>\n",
       "      <td>...</td>\n",
       "      <td>...</td>\n",
       "      <td>...</td>\n",
       "      <td>...</td>\n",
       "      <td>...</td>\n",
       "      <td>...</td>\n",
       "      <td>...</td>\n",
       "      <td>...</td>\n",
       "      <td>...</td>\n",
       "      <td>...</td>\n",
       "      <td>...</td>\n",
       "      <td>...</td>\n",
       "      <td>...</td>\n",
       "      <td>...</td>\n",
       "      <td>...</td>\n",
       "      <td>...</td>\n",
       "      <td>...</td>\n",
       "      <td>...</td>\n",
       "      <td>...</td>\n",
       "      <td>...</td>\n",
       "      <td>...</td>\n",
       "    </tr>\n",
       "    <tr>\n",
       "      <th>913530</th>\n",
       "      <td>247875</td>\n",
       "      <td>NaN</td>\n",
       "      <td>NaN</td>\n",
       "      <td>NaN</td>\n",
       "      <td>NaN</td>\n",
       "      <td>None</td>\n",
       "      <td>NaN</td>\n",
       "      <td>NaN</td>\n",
       "      <td>NaN</td>\n",
       "      <td>NaN</td>\n",
       "      <td>...</td>\n",
       "      <td>0.0</td>\n",
       "      <td>NaN</td>\n",
       "      <td>NaN</td>\n",
       "      <td>NaN</td>\n",
       "      <td>NaN</td>\n",
       "      <td>NaN</td>\n",
       "      <td>NaN</td>\n",
       "      <td>NaN</td>\n",
       "      <td>NaN</td>\n",
       "      <td>NaN</td>\n",
       "    </tr>\n",
       "    <tr>\n",
       "      <th>913531</th>\n",
       "      <td>247877</td>\n",
       "      <td>NaN</td>\n",
       "      <td>NaN</td>\n",
       "      <td>NaN</td>\n",
       "      <td>NaN</td>\n",
       "      <td>None</td>\n",
       "      <td>NaN</td>\n",
       "      <td>NaN</td>\n",
       "      <td>NaN</td>\n",
       "      <td>NaN</td>\n",
       "      <td>...</td>\n",
       "      <td>0.0</td>\n",
       "      <td>NaN</td>\n",
       "      <td>NaN</td>\n",
       "      <td>NaN</td>\n",
       "      <td>NaN</td>\n",
       "      <td>NaN</td>\n",
       "      <td>NaN</td>\n",
       "      <td>NaN</td>\n",
       "      <td>NaN</td>\n",
       "      <td>NaN</td>\n",
       "    </tr>\n",
       "    <tr>\n",
       "      <th>913532</th>\n",
       "      <td>247879</td>\n",
       "      <td>NaN</td>\n",
       "      <td>NaN</td>\n",
       "      <td>NaN</td>\n",
       "      <td>NaN</td>\n",
       "      <td>None</td>\n",
       "      <td>NaN</td>\n",
       "      <td>NaN</td>\n",
       "      <td>NaN</td>\n",
       "      <td>NaN</td>\n",
       "      <td>...</td>\n",
       "      <td>0.0</td>\n",
       "      <td>NaN</td>\n",
       "      <td>NaN</td>\n",
       "      <td>NaN</td>\n",
       "      <td>NaN</td>\n",
       "      <td>NaN</td>\n",
       "      <td>NaN</td>\n",
       "      <td>NaN</td>\n",
       "      <td>NaN</td>\n",
       "      <td>NaN</td>\n",
       "    </tr>\n",
       "    <tr>\n",
       "      <th>913533</th>\n",
       "      <td>247881</td>\n",
       "      <td>NaN</td>\n",
       "      <td>NaN</td>\n",
       "      <td>NaN</td>\n",
       "      <td>NaN</td>\n",
       "      <td>None</td>\n",
       "      <td>NaN</td>\n",
       "      <td>NaN</td>\n",
       "      <td>NaN</td>\n",
       "      <td>NaN</td>\n",
       "      <td>...</td>\n",
       "      <td>0.0</td>\n",
       "      <td>NaN</td>\n",
       "      <td>NaN</td>\n",
       "      <td>NaN</td>\n",
       "      <td>NaN</td>\n",
       "      <td>NaN</td>\n",
       "      <td>NaN</td>\n",
       "      <td>NaN</td>\n",
       "      <td>NaN</td>\n",
       "      <td>NaN</td>\n",
       "    </tr>\n",
       "    <tr>\n",
       "      <th>913534</th>\n",
       "      <td>247883</td>\n",
       "      <td>NaN</td>\n",
       "      <td>NaN</td>\n",
       "      <td>NaN</td>\n",
       "      <td>NaN</td>\n",
       "      <td>None</td>\n",
       "      <td>NaN</td>\n",
       "      <td>NaN</td>\n",
       "      <td>NaN</td>\n",
       "      <td>NaN</td>\n",
       "      <td>...</td>\n",
       "      <td>0.0</td>\n",
       "      <td>NaN</td>\n",
       "      <td>NaN</td>\n",
       "      <td>NaN</td>\n",
       "      <td>NaN</td>\n",
       "      <td>NaN</td>\n",
       "      <td>NaN</td>\n",
       "      <td>NaN</td>\n",
       "      <td>NaN</td>\n",
       "      <td>NaN</td>\n",
       "    </tr>\n",
       "  </tbody>\n",
       "</table>\n",
       "<p>913535 rows × 1126 columns</p>\n",
       "</div>"
      ],
      "text/plain": [
       "        >pepID  jx_pos  between_codons  includes_5'  includes_3'  gene  \\\n",
       "0            2    56.0             1.0          0.0          0.0  None   \n",
       "1            2    57.0             1.0          0.0          0.0  None   \n",
       "2            4    12.0             0.0          0.0          0.0  None   \n",
       "3            5    12.0             0.0          0.0          1.0  None   \n",
       "4            6    12.0             0.0          0.0          0.0  None   \n",
       "...        ...     ...             ...          ...          ...   ...   \n",
       "913530  247875     NaN             NaN          NaN          NaN  None   \n",
       "913531  247877     NaN             NaN          NaN          NaN  None   \n",
       "913532  247879     NaN             NaN          NaN          NaN  None   \n",
       "913533  247881     NaN             NaN          NaN          NaN  None   \n",
       "913534  247883     NaN             NaN          NaN          NaN  None   \n",
       "\n",
       "                   jx_coord       kmer readFrameAnnotated junctionAnnotated  \\\n",
       "0         68737048_68742427  AAAALQQHS                0.0               0.0   \n",
       "1         68742430_68742487  AAAALQQHS                0.0               0.0   \n",
       "2       128640690_128637027  AAADGVLSV                0.0               1.0   \n",
       "3       128640690_128636438  AAADGWTMG                0.0               1.0   \n",
       "4       128640690_128636438  AAADGWTMG                0.0               1.0   \n",
       "...                     ...        ...                ...               ...   \n",
       "913530                  NaN        NaN                NaN               NaN   \n",
       "913531                  NaN        NaN                NaN               NaN   \n",
       "913532                  NaN        NaN                NaN               NaN   \n",
       "913533                  NaN        NaN                NaN               NaN   \n",
       "913534                  NaN        NaN                NaN               NaN   \n",
       "\n",
       "        ... TCGAXXA89901A11RA36F07all TCGAXXA89A01A11RA36F07all  \\\n",
       "0       ...                       6.0                       0.0   \n",
       "1       ...                       6.0                       0.0   \n",
       "2       ...                     156.0                     164.0   \n",
       "3       ...                       2.0                       1.0   \n",
       "4       ...                       2.0                       1.0   \n",
       "...     ...                       ...                       ...   \n",
       "913530  ...                       0.0                       NaN   \n",
       "913531  ...                       0.0                       NaN   \n",
       "913532  ...                       0.0                       NaN   \n",
       "913533  ...                       0.0                       NaN   \n",
       "913534  ...                       0.0                       NaN   \n",
       "\n",
       "       TCGAZ7A8R501A42RA41B07all  TCGAZ7A8R601A11RA41B07all  isCrossJunction  \\\n",
       "0                            0.0                        3.0             True   \n",
       "1                            0.0                        3.0             True   \n",
       "2                          112.0                      651.0             True   \n",
       "3                            0.0                        4.0             True   \n",
       "4                            0.0                        4.0             True   \n",
       "...                          ...                        ...              ...   \n",
       "913530                       NaN                        NaN              NaN   \n",
       "913531                       NaN                        NaN              NaN   \n",
       "913532                       NaN                        NaN              NaN   \n",
       "913533                       NaN                        NaN              NaN   \n",
       "913534                       NaN                        NaN              NaN   \n",
       "\n",
       "       junctionAnnotated_kmer  readFrameAnnotated_kmer  recurrence  \\\n",
       "0                         0.0                      0.0       970.0   \n",
       "1                         0.0                      0.0       970.0   \n",
       "2                         1.0                      0.0      1100.0   \n",
       "3                         1.0                      0.0       972.0   \n",
       "4                         1.0                      0.0       972.0   \n",
       "...                       ...                      ...         ...   \n",
       "913530                    NaN                      NaN         NaN   \n",
       "913531                    NaN                      NaN         NaN   \n",
       "913532                    NaN                      NaN         NaN   \n",
       "913533                    NaN                      NaN         NaN   \n",
       "913534                    NaN                      NaN         NaN   \n",
       "\n",
       "        spladder_GTEX_on_disk  strand_spladder  \n",
       "0                         1.0                +  \n",
       "1                         NaN              NaN  \n",
       "2                         1.0                -  \n",
       "3                         1.0                -  \n",
       "4                         1.0                -  \n",
       "...                       ...              ...  \n",
       "913530                    NaN              NaN  \n",
       "913531                    NaN              NaN  \n",
       "913532                    NaN              NaN  \n",
       "913533                    NaN              NaN  \n",
       "913534                    NaN              NaN  \n",
       "\n",
       "[913535 rows x 1126 columns]"
      ]
     },
     "execution_count": 57,
     "metadata": {},
     "output_type": "execute_result"
    }
   ],
   "source": [
    "df"
   ]
  },
  {
   "cell_type": "code",
   "execution_count": 58,
   "id": "b869412b",
   "metadata": {},
   "outputs": [
    {
     "data": {
      "text/html": [
       "<div>\n",
       "<style scoped>\n",
       "    .dataframe tbody tr th:only-of-type {\n",
       "        vertical-align: middle;\n",
       "    }\n",
       "\n",
       "    .dataframe tbody tr th {\n",
       "        vertical-align: top;\n",
       "    }\n",
       "\n",
       "    .dataframe thead th {\n",
       "        text-align: right;\n",
       "    }\n",
       "</style>\n",
       "<table border=\"1\" class=\"dataframe\">\n",
       "  <thead>\n",
       "    <tr style=\"text-align: right;\">\n",
       "      <th></th>\n",
       "      <th>&gt;pepID</th>\n",
       "      <th>jx_pos</th>\n",
       "      <th>between_codons</th>\n",
       "      <th>includes_5'</th>\n",
       "      <th>includes_3'</th>\n",
       "      <th>percentile_rank</th>\n",
       "      <th>affinity</th>\n",
       "      <th>GTEX_presence</th>\n",
       "      <th>index</th>\n",
       "      <th>TCGA3CAAAU01A11RA41B07all</th>\n",
       "      <th>...</th>\n",
       "      <th>TCGAWTAB4101A11RA41B07all</th>\n",
       "      <th>TCGAWTAB4401A11RA41B07all</th>\n",
       "      <th>TCGAXXA89901A11RA36F07all</th>\n",
       "      <th>TCGAXXA89A01A11RA36F07all</th>\n",
       "      <th>TCGAZ7A8R501A42RA41B07all</th>\n",
       "      <th>TCGAZ7A8R601A11RA41B07all</th>\n",
       "      <th>junctionAnnotated_kmer</th>\n",
       "      <th>readFrameAnnotated_kmer</th>\n",
       "      <th>recurrence</th>\n",
       "      <th>spladder_GTEX_on_disk</th>\n",
       "    </tr>\n",
       "  </thead>\n",
       "  <tbody>\n",
       "    <tr>\n",
       "      <th>count</th>\n",
       "      <td>913535.000000</td>\n",
       "      <td>300634.000000</td>\n",
       "      <td>300634.000000</td>\n",
       "      <td>300634.000000</td>\n",
       "      <td>300634.000000</td>\n",
       "      <td>913535.000000</td>\n",
       "      <td>913535.000000</td>\n",
       "      <td>913535.000000</td>\n",
       "      <td>300634.000000</td>\n",
       "      <td>300614.000000</td>\n",
       "      <td>...</td>\n",
       "      <td>300614.000000</td>\n",
       "      <td>300614.000000</td>\n",
       "      <td>913535.000000</td>\n",
       "      <td>300614.000000</td>\n",
       "      <td>300614.000000</td>\n",
       "      <td>300614.000000</td>\n",
       "      <td>300634.000000</td>\n",
       "      <td>300634.000000</td>\n",
       "      <td>300634.000000</td>\n",
       "      <td>237738.0</td>\n",
       "    </tr>\n",
       "    <tr>\n",
       "      <th>mean</th>\n",
       "      <td>116818.053593</td>\n",
       "      <td>34.113746</td>\n",
       "      <td>0.326423</td>\n",
       "      <td>0.020826</td>\n",
       "      <td>0.733706</td>\n",
       "      <td>4.182748</td>\n",
       "      <td>5381.689006</td>\n",
       "      <td>0.228985</td>\n",
       "      <td>7.597324</td>\n",
       "      <td>195.840423</td>\n",
       "      <td>...</td>\n",
       "      <td>132.839246</td>\n",
       "      <td>105.481215</td>\n",
       "      <td>57.007578</td>\n",
       "      <td>188.068064</td>\n",
       "      <td>179.329449</td>\n",
       "      <td>230.859518</td>\n",
       "      <td>0.855196</td>\n",
       "      <td>0.177641</td>\n",
       "      <td>472.709501</td>\n",
       "      <td>1.0</td>\n",
       "    </tr>\n",
       "    <tr>\n",
       "      <th>std</th>\n",
       "      <td>72793.149209</td>\n",
       "      <td>32.726281</td>\n",
       "      <td>0.468905</td>\n",
       "      <td>0.142802</td>\n",
       "      <td>0.442020</td>\n",
       "      <td>9.140552</td>\n",
       "      <td>10044.566226</td>\n",
       "      <td>0.420180</td>\n",
       "      <td>10.615928</td>\n",
       "      <td>934.945968</td>\n",
       "      <td>...</td>\n",
       "      <td>1161.080986</td>\n",
       "      <td>807.826942</td>\n",
       "      <td>483.058337</td>\n",
       "      <td>1560.913329</td>\n",
       "      <td>1575.735635</td>\n",
       "      <td>1162.188081</td>\n",
       "      <td>0.351904</td>\n",
       "      <td>0.382211</td>\n",
       "      <td>522.985739</td>\n",
       "      <td>0.0</td>\n",
       "    </tr>\n",
       "    <tr>\n",
       "      <th>min</th>\n",
       "      <td>2.000000</td>\n",
       "      <td>0.000000</td>\n",
       "      <td>0.000000</td>\n",
       "      <td>0.000000</td>\n",
       "      <td>0.000000</td>\n",
       "      <td>0.000000</td>\n",
       "      <td>0.000000</td>\n",
       "      <td>0.000000</td>\n",
       "      <td>0.000000</td>\n",
       "      <td>0.000000</td>\n",
       "      <td>...</td>\n",
       "      <td>0.000000</td>\n",
       "      <td>0.000000</td>\n",
       "      <td>0.000000</td>\n",
       "      <td>0.000000</td>\n",
       "      <td>0.000000</td>\n",
       "      <td>0.000000</td>\n",
       "      <td>0.000000</td>\n",
       "      <td>0.000000</td>\n",
       "      <td>0.000000</td>\n",
       "      <td>1.0</td>\n",
       "    </tr>\n",
       "    <tr>\n",
       "      <th>25%</th>\n",
       "      <td>52760.000000</td>\n",
       "      <td>18.000000</td>\n",
       "      <td>0.000000</td>\n",
       "      <td>0.000000</td>\n",
       "      <td>0.000000</td>\n",
       "      <td>0.000000</td>\n",
       "      <td>0.000000</td>\n",
       "      <td>0.000000</td>\n",
       "      <td>2.000000</td>\n",
       "      <td>0.000000</td>\n",
       "      <td>...</td>\n",
       "      <td>0.000000</td>\n",
       "      <td>0.000000</td>\n",
       "      <td>0.000000</td>\n",
       "      <td>0.000000</td>\n",
       "      <td>0.000000</td>\n",
       "      <td>0.000000</td>\n",
       "      <td>1.000000</td>\n",
       "      <td>0.000000</td>\n",
       "      <td>1.000000</td>\n",
       "      <td>1.0</td>\n",
       "    </tr>\n",
       "    <tr>\n",
       "      <th>50%</th>\n",
       "      <td>112205.000000</td>\n",
       "      <td>29.000000</td>\n",
       "      <td>0.000000</td>\n",
       "      <td>0.000000</td>\n",
       "      <td>1.000000</td>\n",
       "      <td>0.000000</td>\n",
       "      <td>0.000000</td>\n",
       "      <td>0.000000</td>\n",
       "      <td>4.000000</td>\n",
       "      <td>0.000000</td>\n",
       "      <td>...</td>\n",
       "      <td>0.000000</td>\n",
       "      <td>0.000000</td>\n",
       "      <td>0.000000</td>\n",
       "      <td>0.000000</td>\n",
       "      <td>0.000000</td>\n",
       "      <td>0.000000</td>\n",
       "      <td>1.000000</td>\n",
       "      <td>0.000000</td>\n",
       "      <td>5.000000</td>\n",
       "      <td>1.0</td>\n",
       "    </tr>\n",
       "    <tr>\n",
       "      <th>75%</th>\n",
       "      <td>180106.000000</td>\n",
       "      <td>43.000000</td>\n",
       "      <td>1.000000</td>\n",
       "      <td>0.000000</td>\n",
       "      <td>1.000000</td>\n",
       "      <td>3.000000</td>\n",
       "      <td>5348.810000</td>\n",
       "      <td>0.000000</td>\n",
       "      <td>10.000000</td>\n",
       "      <td>64.000000</td>\n",
       "      <td>...</td>\n",
       "      <td>5.000000</td>\n",
       "      <td>6.000000</td>\n",
       "      <td>0.000000</td>\n",
       "      <td>42.000000</td>\n",
       "      <td>14.000000</td>\n",
       "      <td>59.000000</td>\n",
       "      <td>1.000000</td>\n",
       "      <td>0.000000</td>\n",
       "      <td>1097.000000</td>\n",
       "      <td>1.0</td>\n",
       "    </tr>\n",
       "    <tr>\n",
       "      <th>max</th>\n",
       "      <td>247883.000000</td>\n",
       "      <td>1057.000000</td>\n",
       "      <td>1.000000</td>\n",
       "      <td>1.000000</td>\n",
       "      <td>1.000000</td>\n",
       "      <td>80.000000</td>\n",
       "      <td>44262.530000</td>\n",
       "      <td>1.000000</td>\n",
       "      <td>215.000000</td>\n",
       "      <td>49466.000000</td>\n",
       "      <td>...</td>\n",
       "      <td>42570.000000</td>\n",
       "      <td>18944.000000</td>\n",
       "      <td>25371.000000</td>\n",
       "      <td>74578.000000</td>\n",
       "      <td>100876.000000</td>\n",
       "      <td>21964.000000</td>\n",
       "      <td>1.000000</td>\n",
       "      <td>1.000000</td>\n",
       "      <td>1102.000000</td>\n",
       "      <td>1.0</td>\n",
       "    </tr>\n",
       "  </tbody>\n",
       "</table>\n",
       "<p>8 rows × 1115 columns</p>\n",
       "</div>"
      ],
      "text/plain": [
       "              >pepID         jx_pos  between_codons    includes_5'  \\\n",
       "count  913535.000000  300634.000000   300634.000000  300634.000000   \n",
       "mean   116818.053593      34.113746        0.326423       0.020826   \n",
       "std     72793.149209      32.726281        0.468905       0.142802   \n",
       "min         2.000000       0.000000        0.000000       0.000000   \n",
       "25%     52760.000000      18.000000        0.000000       0.000000   \n",
       "50%    112205.000000      29.000000        0.000000       0.000000   \n",
       "75%    180106.000000      43.000000        1.000000       0.000000   \n",
       "max    247883.000000    1057.000000        1.000000       1.000000   \n",
       "\n",
       "         includes_3'  percentile_rank       affinity  GTEX_presence  \\\n",
       "count  300634.000000    913535.000000  913535.000000  913535.000000   \n",
       "mean        0.733706         4.182748    5381.689006       0.228985   \n",
       "std         0.442020         9.140552   10044.566226       0.420180   \n",
       "min         0.000000         0.000000       0.000000       0.000000   \n",
       "25%         0.000000         0.000000       0.000000       0.000000   \n",
       "50%         1.000000         0.000000       0.000000       0.000000   \n",
       "75%         1.000000         3.000000    5348.810000       0.000000   \n",
       "max         1.000000        80.000000   44262.530000       1.000000   \n",
       "\n",
       "               index  TCGA3CAAAU01A11RA41B07all  ...  \\\n",
       "count  300634.000000              300614.000000  ...   \n",
       "mean        7.597324                 195.840423  ...   \n",
       "std        10.615928                 934.945968  ...   \n",
       "min         0.000000                   0.000000  ...   \n",
       "25%         2.000000                   0.000000  ...   \n",
       "50%         4.000000                   0.000000  ...   \n",
       "75%        10.000000                  64.000000  ...   \n",
       "max       215.000000               49466.000000  ...   \n",
       "\n",
       "       TCGAWTAB4101A11RA41B07all  TCGAWTAB4401A11RA41B07all  \\\n",
       "count              300614.000000              300614.000000   \n",
       "mean                  132.839246                 105.481215   \n",
       "std                  1161.080986                 807.826942   \n",
       "min                     0.000000                   0.000000   \n",
       "25%                     0.000000                   0.000000   \n",
       "50%                     0.000000                   0.000000   \n",
       "75%                     5.000000                   6.000000   \n",
       "max                 42570.000000               18944.000000   \n",
       "\n",
       "       TCGAXXA89901A11RA36F07all  TCGAXXA89A01A11RA36F07all  \\\n",
       "count              913535.000000              300614.000000   \n",
       "mean                   57.007578                 188.068064   \n",
       "std                   483.058337                1560.913329   \n",
       "min                     0.000000                   0.000000   \n",
       "25%                     0.000000                   0.000000   \n",
       "50%                     0.000000                   0.000000   \n",
       "75%                     0.000000                  42.000000   \n",
       "max                 25371.000000               74578.000000   \n",
       "\n",
       "       TCGAZ7A8R501A42RA41B07all  TCGAZ7A8R601A11RA41B07all  \\\n",
       "count              300614.000000              300614.000000   \n",
       "mean                  179.329449                 230.859518   \n",
       "std                  1575.735635                1162.188081   \n",
       "min                     0.000000                   0.000000   \n",
       "25%                     0.000000                   0.000000   \n",
       "50%                     0.000000                   0.000000   \n",
       "75%                    14.000000                  59.000000   \n",
       "max                100876.000000               21964.000000   \n",
       "\n",
       "       junctionAnnotated_kmer  readFrameAnnotated_kmer     recurrence  \\\n",
       "count           300634.000000            300634.000000  300634.000000   \n",
       "mean                 0.855196                 0.177641     472.709501   \n",
       "std                  0.351904                 0.382211     522.985739   \n",
       "min                  0.000000                 0.000000       0.000000   \n",
       "25%                  1.000000                 0.000000       1.000000   \n",
       "50%                  1.000000                 0.000000       5.000000   \n",
       "75%                  1.000000                 0.000000    1097.000000   \n",
       "max                  1.000000                 1.000000    1102.000000   \n",
       "\n",
       "       spladder_GTEX_on_disk  \n",
       "count               237738.0  \n",
       "mean                     1.0  \n",
       "std                      0.0  \n",
       "min                      1.0  \n",
       "25%                      1.0  \n",
       "50%                      1.0  \n",
       "75%                      1.0  \n",
       "max                      1.0  \n",
       "\n",
       "[8 rows x 1115 columns]"
      ]
     },
     "execution_count": 58,
     "metadata": {},
     "output_type": "execute_result"
    }
   ],
   "source": [
    "df.describe()"
   ]
  },
  {
   "cell_type": "code",
   "execution_count": 59,
   "id": "505ddeaf",
   "metadata": {},
   "outputs": [
    {
     "data": {
      "text/plain": [
       "0    56.0\n",
       "1    57.0\n",
       "2    12.0\n",
       "3    12.0\n",
       "4    12.0\n",
       "Name: jx_pos, dtype: float64"
      ]
     },
     "execution_count": 59,
     "metadata": {},
     "output_type": "execute_result"
    }
   ],
   "source": [
    "df['jx_pos'].head()"
   ]
  },
  {
   "cell_type": "code",
   "execution_count": 60,
   "id": "152c3931",
   "metadata": {},
   "outputs": [
    {
     "data": {
      "image/png": "[encoded data removed]",
      "text/plain": [
       "<Figure size 1440x1440 with 1 Axes>"
      ]
     },
     "metadata": {
      "needs_background": "light"
     },
     "output_type": "display_data"
    }
   ],
   "source": [
    "origins = df[\"origin\"].unique()\n",
    "data = [df[\"jx_pos\"][df[\"origin\"] == origin] for origin in origins] #recurrence/jx_pos\n",
    "plt.ylabel('jx_pos', fontsize = 16)\n",
    "plt.xlabel('Origin', fontsize = 16)\n",
    "plt.boxplot(data)\n",
    "plt.xticks(range(1, 1+len(origins)), origins, fontsize = 16)\n",
    "plt.savefig('multiple groups box plot#1')\n",
    "\n",
    "#in the group 3exons_9mer the distribution is not symmetric (the whiskers are not the same on both sides of the box)\n",
    "#and box plot shape shows the statistical data is skewed (right skewed - positive skew?)\n",
    "#in the group 2exons the distribution is not symmetric (...)\n",
    "#in the group 3exons_9mer/2exons the distribution is (??)"
   ]
  },
  {
   "cell_type": "code",
   "execution_count": 61,
   "id": "aea1268d",
   "metadata": {},
   "outputs": [
    {
     "data": {
      "text/plain": [
       "<function matplotlib.pyplot.plot(*args, scalex=True, scaley=True, data=None, **kwargs)>"
      ]
     },
     "execution_count": 61,
     "metadata": {},
     "output_type": "execute_result"
    }
   ],
   "source": [
    "plt.plot"
   ]
  },
  {
   "cell_type": "code",
   "execution_count": null,
   "id": "bc53750b",
   "metadata": {},
   "outputs": [],
   "source": []
  },
  {
   "cell_type": "code",
   "execution_count": 58,
   "id": "d01acc12",
   "metadata": {},
   "outputs": [
    {
     "data": {
      "text/plain": [
       "array(['3exons_9mer', '2exons', nan, '3exons_9mer/2exons'], dtype=object)"
      ]
     },
     "execution_count": 58,
     "metadata": {},
     "output_type": "execute_result"
    }
   ],
   "source": [
    "origins = df[\"origin\"].unique()\n",
    "origins"
   ]
  },
  {
   "cell_type": "code",
   "execution_count": 56,
   "id": "89645768",
   "metadata": {},
   "outputs": [
    {
     "data": {
      "text/plain": [
       "[0         970.0\n",
       " 1         970.0\n",
       " 5           1.0\n",
       " 6           1.0\n",
       " 7           1.0\n",
       "           ...  \n",
       " 803295      1.0\n",
       " 803297      1.0\n",
       " 803298      1.0\n",
       " 803300      1.0\n",
       " 803301      1.0\n",
       " Name: recurrence, Length: 206026, dtype: float64,\n",
       " 2         1100.0\n",
       " 3          972.0\n",
       " 4          972.0\n",
       " 13        1092.0\n",
       " 14        1045.0\n",
       "            ...  \n",
       " 803239    1100.0\n",
       " 803240    1082.0\n",
       " 803256      14.0\n",
       " 803259     948.0\n",
       " 803260    1057.0\n",
       " Name: recurrence, Length: 94203, dtype: float64,\n",
       " Series([], Name: recurrence, dtype: float64),\n",
       " 5336      1099.0\n",
       " 5337      1099.0\n",
       " 5338      1099.0\n",
       " 5339      1099.0\n",
       " 5340      1099.0\n",
       "            ...  \n",
       " 784809    1099.0\n",
       " 799855       2.0\n",
       " 799870       1.0\n",
       " 799871       1.0\n",
       " 799873       1.0\n",
       " Name: recurrence, Length: 405, dtype: float64]"
      ]
     },
     "execution_count": 56,
     "metadata": {},
     "output_type": "execute_result"
    }
   ],
   "source": [
    "origins = df[\"origin\"].unique()\n",
    "[df[\"recurrence\"][df[\"origin\"] == origin] for origin in origins]"
   ]
  },
  {
   "cell_type": "code",
   "execution_count": null,
   "id": "7b7a78d7",
   "metadata": {},
   "outputs": [],
   "source": [
    "origins = df[\"origin\"].unique()\n",
    "data = [df[\"recurrence\"][df[\"origin\"] == origin] for origin in origins]#recurrence/jx_pos\n",
    "plt.ylabel('Recurrence', fontsize = 16)\n",
    "plt.xlabel('Origin', fontsize = 16)\n",
    "plt.boxplot(data)\n",
    "plt.xticks(range(1, 1+len(origins)), origins, fontsize = 16)\n",
    "plt.savefig('multiple groups box plot#2')\n"
   ]
  },
  {
   "cell_type": "code",
   "execution_count": 63,
   "id": "a4c009d6",
   "metadata": {},
   "outputs": [
    {
     "data": {
      "image/png": "[encoded data removed]",
      "text/plain": [
       "<Figure size 432x288 with 1 Axes>"
      ]
     },
     "metadata": {
      "needs_background": "light"
     },
     "output_type": "display_data"
    }
   ],
   "source": [
    "for idx, origin in enumerate( df[\"origin\"].unique()): # Take the unique values \n",
    "    # DO SLICING or the group \n",
    "    data = df[\"recurrence\"][df[\"origin\"] == origin] #recurrence/jx_pos\n",
    "    #Plot \n",
    "    plt.ylabel('Recurrence', fontsize = 16)\n",
    "    plt.xlabel('Origin', fontsize = 16)\n",
    "    plt.boxplot(data)\n",
    "    #plt.xticks(range(1, 1+len(df[\"origin\"].unique())), idx, fontsize = 16)\n",
    "    plt.savefig('multiple groups box plot#2')\n"
   ]
  },
  {
   "cell_type": "code",
   "execution_count": 65,
   "id": "3e0b3e98",
   "metadata": {},
   "outputs": [
    {
     "data": {
      "text/plain": [
       "5336      1099.0\n",
       "5337      1099.0\n",
       "5338      1099.0\n",
       "5339      1099.0\n",
       "5340      1099.0\n",
       "           ...  \n",
       "784809    1099.0\n",
       "799855       2.0\n",
       "799870       1.0\n",
       "799871       1.0\n",
       "799873       1.0\n",
       "Name: recurrence, Length: 405, dtype: float64"
      ]
     },
     "execution_count": 65,
     "metadata": {},
     "output_type": "execute_result"
    }
   ],
   "source": [
    "df.loc[df[\"origin\"] == origin, \"recurrence\"] #right way row, columns, google loc in pandas "
   ]
  },
  {
   "cell_type": "code",
   "execution_count": 64,
   "id": "bf47c5ad",
   "metadata": {
    "scrolled": true
   },
   "outputs": [
    {
     "data": {
      "text/plain": [
       "5336      1099.0\n",
       "5337      1099.0\n",
       "5338      1099.0\n",
       "5339      1099.0\n",
       "5340      1099.0\n",
       "           ...  \n",
       "784809    1099.0\n",
       "799855       2.0\n",
       "799870       1.0\n",
       "799871       1.0\n",
       "799873       1.0\n",
       "Name: recurrence, Length: 405, dtype: float64"
      ]
     },
     "execution_count": 64,
     "metadata": {},
     "output_type": "execute_result"
    }
   ],
   "source": [
    "df[\"recurrence\"][df[\"origin\"] == origin] #weird way, can go bad because of the index consistency "
   ]
  },
  {
   "cell_type": "code",
   "execution_count": 66,
   "id": "a1869e8d",
   "metadata": {},
   "outputs": [],
   "source": [
    "# In the boxplot elegant slicing iis this: \n",
    "data = [df.loc[df[\"origin\"] == origin, \"recurrence\"] for origin in origins]"
   ]
  },
  {
   "cell_type": "code",
   "execution_count": 62,
   "id": "58777527",
   "metadata": {},
   "outputs": [
    {
     "data": {
      "image/png": "[encoded data removed]",
      "text/plain": [
       "<Figure size 1440x1440 with 1 Axes>"
      ]
     },
     "metadata": {
      "needs_background": "light"
     },
     "output_type": "display_data"
    }
   ],
   "source": [
    "origins = df[\"origin\"].unique()\n",
    "data = [df[\"recurrence\"][df[\"origin\"] == origin] for origin in origins]#recurrence/jx_pos\n",
    "plt.ylabel('Recurrence', fontsize = 16)\n",
    "plt.xlabel('Origin', fontsize = 16)\n",
    "plt.boxplot(data)\n",
    "plt.xticks(range(1, 1+len(origins)), origins, fontsize = 16)\n",
    "plt.savefig('multiple groups box plot#2')\n",
    "\n",
    "\n",
    "#in the group 3exons_9mer the distribution is \n",
    "#and box plot shape shows the statistical data is skewed (right skewed - positive skew?)\n",
    "#in the group 2exons the distribution is not symmetric (...)\n",
    "#in the group 3exons_9mer/2exons the distribution is (??)"
   ]
  },
  {
   "cell_type": "code",
   "execution_count": null,
   "id": "a353733d",
   "metadata": {},
   "outputs": [],
   "source": []
  },
  {
   "cell_type": "code",
   "execution_count": null,
   "id": "8a0b63cd",
   "metadata": {},
   "outputs": [],
   "source": []
  },
  {
   "cell_type": "code",
   "execution_count": null,
   "id": "f898875d",
   "metadata": {},
   "outputs": [],
   "source": []
  },
  {
   "cell_type": "code",
   "execution_count": null,
   "id": "2b099fed",
   "metadata": {},
   "outputs": [],
   "source": []
  },
  {
   "cell_type": "code",
   "execution_count": null,
   "id": "944f5a19",
   "metadata": {},
   "outputs": [],
   "source": []
  }
 ],
 "metadata": {
  "kernelspec": {
   "display_name": "pep",
   "language": "python",
   "name": "pep"
  },
  "language_info": {
   "codemirror_mode": {
    "name": "ipython",
    "version": 3
   },
   "file_extension": ".py",
   "mimetype": "text/x-python",
   "name": "python",
   "nbconvert_exporter": "python",
   "pygments_lexer": "ipython3",
   "version": "3.9.12"
  }
 },
 "nbformat": 4,
 "nbformat_minor": 5
}
