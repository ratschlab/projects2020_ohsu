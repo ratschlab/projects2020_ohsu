{
 "cells": [
  {
   "cell_type": "code",
   "execution_count": 1,
   "id": "707cba33",
   "metadata": {},
   "outputs": [],
   "source": [
    "import os \n",
    "import pandas as pd\n",
    "from collections import defaultdict\n",
    "import numpy as np \n",
    "import matplotlib.pyplot as plt\n",
    "import seaborn as sns"
   ]
  },
  {
   "cell_type": "code",
   "execution_count": 2,
   "id": "638f84bf",
   "metadata": {},
   "outputs": [
    {
     "data": {
      "text/html": [
       "<div>\n",
       "<style scoped>\n",
       "    .dataframe tbody tr th:only-of-type {\n",
       "        vertical-align: middle;\n",
       "    }\n",
       "\n",
       "    .dataframe tbody tr th {\n",
       "        vertical-align: top;\n",
       "    }\n",
       "\n",
       "    .dataframe thead th {\n",
       "        text-align: right;\n",
       "    }\n",
       "</style>\n",
       "<table border=\"1\" class=\"dataframe\">\n",
       "  <thead>\n",
       "    <tr style=\"text-align: right;\">\n",
       "      <th></th>\n",
       "      <th>0</th>\n",
       "      <th>1</th>\n",
       "    </tr>\n",
       "  </thead>\n",
       "  <tbody>\n",
       "    <tr>\n",
       "      <th>0</th>\n",
       "      <td>TGRHDAFEI</td>\n",
       "      <td>7854</td>\n",
       "    </tr>\n",
       "    <tr>\n",
       "      <th>1</th>\n",
       "      <td>MNLSLYLGE</td>\n",
       "      <td>4402</td>\n",
       "    </tr>\n",
       "    <tr>\n",
       "      <th>2</th>\n",
       "      <td>CFSSLLAQD</td>\n",
       "      <td>1263</td>\n",
       "    </tr>\n",
       "    <tr>\n",
       "      <th>3</th>\n",
       "      <td>SDLPNPDTL</td>\n",
       "      <td>7870</td>\n",
       "    </tr>\n",
       "    <tr>\n",
       "      <th>4</th>\n",
       "      <td>VMKVENERY</td>\n",
       "      <td>7869</td>\n",
       "    </tr>\n",
       "  </tbody>\n",
       "</table>\n",
       "</div>"
      ],
      "text/plain": [
       "           0     1\n",
       "0  TGRHDAFEI  7854\n",
       "1  MNLSLYLGE  4402\n",
       "2  CFSSLLAQD  1263\n",
       "3  SDLPNPDTL  7870\n",
       "4  VMKVENERY  7869"
      ]
     },
     "execution_count": 2,
     "metadata": {},
     "output_type": "execute_result"
    }
   ],
   "source": [
    "df = pd.read_csv('/cluster/work/grlab/projects/projects2020_OHSU/peptides_generation/learning_filter/filtered_backgrounds/interm_normals_combiExprCohortLim2.0Across1.tsv/part-00000', sep = '\\t', header = None)\n",
    "df.head()"
   ]
  },
  {
   "cell_type": "code",
   "execution_count": 4,
   "id": "455b1c1b",
   "metadata": {},
   "outputs": [
    {
     "data": {
      "text/plain": [
       "0     7854\n",
       "1     4402\n",
       "2     1263\n",
       "3     7870\n",
       "4     7869\n",
       "5     5638\n",
       "6     7721\n",
       "7      622\n",
       "8     5285\n",
       "9     6194\n",
       "10    3918\n",
       "11    7870\n",
       "12    7673\n",
       "13     657\n",
       "14    7681\n",
       "15     757\n",
       "16    7858\n",
       "17    3918\n",
       "18    3918\n",
       "19    7816\n",
       "20    7850\n",
       "21    6254\n",
       "22    7853\n",
       "23    7682\n",
       "24    7632\n",
       "25    7632\n",
       "26    7612\n",
       "27    1263\n",
       "28     116\n",
       "29      75\n",
       "30    5285\n",
       "31    5638\n",
       "32    1491\n",
       "33    5285\n",
       "34      56\n",
       "35     231\n",
       "36      56\n",
       "37       7\n",
       "38       2\n",
       "39    1686\n",
       "40       1\n",
       "41    7600\n",
       "42     370\n",
       "43       1\n",
       "44      97\n",
       "45       8\n",
       "46       2\n",
       "47       3\n",
       "Name: 1, dtype: int64"
      ]
     },
     "execution_count": 4,
     "metadata": {},
     "output_type": "execute_result"
    }
   ],
   "source": [
    "df[1]"
   ]
  },
  {
   "cell_type": "code",
   "execution_count": 6,
   "id": "772026c1",
   "metadata": {},
   "outputs": [
    {
     "data": {
      "text/plain": [
       "Text(0, 0.5, 'n of k-mers')"
      ]
     },
     "execution_count": 6,
     "metadata": {},
     "output_type": "execute_result"
    },
    {
     "data": {
      "image/png": "[encoded data removed]",
      "text/plain": [
       "<Figure size 432x288 with 1 Axes>"
      ]
     },
     "metadata": {
      "needs_background": "light"
     },
     "output_type": "display_data"
    }
   ],
   "source": [
    "plt.hist(df[1])\n",
    "plt.xlabel(\"Frequency\")\n",
    "plt.ylabel(\"n of k-mers\")"
   ]
  },
  {
   "cell_type": "code",
   "execution_count": 7,
   "id": "3a0e77c6",
   "metadata": {},
   "outputs": [
    {
     "data": {
      "text/html": [
       "<div>\n",
       "<style scoped>\n",
       "    .dataframe tbody tr th:only-of-type {\n",
       "        vertical-align: middle;\n",
       "    }\n",
       "\n",
       "    .dataframe tbody tr th {\n",
       "        vertical-align: top;\n",
       "    }\n",
       "\n",
       "    .dataframe thead th {\n",
       "        text-align: right;\n",
       "    }\n",
       "</style>\n",
       "<table border=\"1\" class=\"dataframe\">\n",
       "  <thead>\n",
       "    <tr style=\"text-align: right;\">\n",
       "      <th></th>\n",
       "      <th>0</th>\n",
       "      <th>1</th>\n",
       "    </tr>\n",
       "  </thead>\n",
       "  <tbody>\n",
       "    <tr>\n",
       "      <th>0</th>\n",
       "      <td>AGYSSVCYS</td>\n",
       "      <td>446</td>\n",
       "    </tr>\n",
       "    <tr>\n",
       "      <th>1</th>\n",
       "      <td>KTQVLIKPK</td>\n",
       "      <td>1064</td>\n",
       "    </tr>\n",
       "    <tr>\n",
       "      <th>2</th>\n",
       "      <td>TVYVKILSL</td>\n",
       "      <td>22</td>\n",
       "    </tr>\n",
       "    <tr>\n",
       "      <th>3</th>\n",
       "      <td>SQSSQEHLE</td>\n",
       "      <td>41</td>\n",
       "    </tr>\n",
       "    <tr>\n",
       "      <th>4</th>\n",
       "      <td>SSQSSQDSQ</td>\n",
       "      <td>1064</td>\n",
       "    </tr>\n",
       "  </tbody>\n",
       "</table>\n",
       "</div>"
      ],
      "text/plain": [
       "           0     1\n",
       "0  AGYSSVCYS   446\n",
       "1  KTQVLIKPK  1064\n",
       "2  TVYVKILSL    22\n",
       "3  SQSSQEHLE    41\n",
       "4  SSQSSQDSQ  1064"
      ]
     },
     "execution_count": 7,
     "metadata": {},
     "output_type": "execute_result"
    }
   ],
   "source": [
    "df = pd.read_csv('/cluster/work/grlab/projects/projects2020_OHSU/peptides_generation/learning_filter/TCGA_Breast/filter_TCGA-BH-A18V-01A-11R-A12D-07.all/DATA_TEST_22.06.2022_Task5_Run#13_a_interm_cancer/interm_cancer_ref_combiExprCohortLim0.0Across1ExceptTCGABHA18V01A11RA12D07all.tsv/part-00000', sep = '\\t', header = None)\n",
    "df.head()"
   ]
  },
  {
   "cell_type": "code",
   "execution_count": 8,
   "id": "c15788cc",
   "metadata": {},
   "outputs": [
    {
     "data": {
      "text/plain": [
       "0       446\n",
       "1      1064\n",
       "2        22\n",
       "3        41\n",
       "4      1064\n",
       "       ... \n",
       "985     213\n",
       "986      28\n",
       "987       1\n",
       "988      79\n",
       "989      28\n",
       "Name: 1, Length: 990, dtype: int64"
      ]
     },
     "execution_count": 8,
     "metadata": {},
     "output_type": "execute_result"
    }
   ],
   "source": [
    "df[1]"
   ]
  },
  {
   "cell_type": "code",
   "execution_count": null,
   "id": "45c23734",
   "metadata": {},
   "outputs": [],
   "source": [
    "# Histogram for interm-cancer sample\n",
    "plt.hist(df[1])\n",
    "plt.xlabel(\"Frequency\")\n",
    "plt.ylabel(\"n of k-mers\")"
   ]
  }
 ],
 "metadata": {
  "kernelspec": {
   "display_name": "pep",
   "language": "python",
   "name": "pep"
  },
  "language_info": {
   "codemirror_mode": {
    "name": "ipython",
    "version": 3
   },
   "file_extension": ".py",
   "mimetype": "text/x-python",
   "name": "python",
   "nbconvert_exporter": "python",
   "pygments_lexer": "ipython3",
   "version": "3.9.12"
  }
 },
 "nbformat": 4,
 "nbformat_minor": 5
}
