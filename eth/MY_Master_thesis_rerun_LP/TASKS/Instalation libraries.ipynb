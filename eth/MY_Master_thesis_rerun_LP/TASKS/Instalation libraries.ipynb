{
 "cells": [
  {
   "cell_type": "code",
   "execution_count": 1,
   "id": "61d44917-85ee-4530-9c2c-dac88ef05868",
   "metadata": {},
   "outputs": [
    {
     "name": "stdout",
     "output_type": "stream",
     "text": [
      "\u001b[33mWARNING: The directory '/cluster/customapps/biomed/grlab/users/myurchikova/.cache/pip' or its parent directory is not owned or is not writable by the current user. The cache has been disabled. Check the permissions and owner of that directory. If executing pip with sudo, you should use sudo's -H flag.\u001b[0m\u001b[33m\n",
      "\u001b[0mDefaulting to user installation because normal site-packages is not writeable\n",
      "Looking in indexes: https://nexus-central.leomed.ethz.ch/repository/pypi/simple\n",
      "Looking in links: /cvmfs/soft.computecanada.ca/custom/python/wheelhouse/gentoo2020/avx2, /cvmfs/soft.computecanada.ca/custom/python/wheelhouse/gentoo/avx2, /cvmfs/soft.computecanada.ca/custom/python/wheelhouse/gentoo2020/generic, /cvmfs/soft.computecanada.ca/custom/python/wheelhouse/gentoo/generic, /cvmfs/soft.computecanada.ca/custom/python/wheelhouse/generic\n",
      "Requirement already satisfied: importlib in /cluster/home/myurchikova/.local/lib/python3.10/site-packages (1.0.4)\n",
      "Module matplotlib already satisfied\n",
      "Module sys already satisfied\n",
      "Module pandas already satisfied\n",
      "Module numpy already satisfied\n",
      "Module tqdm already satisfied\n",
      "Module glob already satisfied\n",
      "Module os already satisfied\n",
      "Module seaborn already satisfied\n",
      "Module tarfile already satisfied\n",
      "Module re already satisfied\n"
     ]
    }
   ],
   "source": [
    "from config import LIBRARIES\n",
    "!pip3 install importlib\n",
    "import importlib.util\n",
    "import subprocess\n",
    "for lb in LIBRARIES:\n",
    "    try:\n",
    "        r = importlib.util.find_spec(lb)\n",
    "        print(f'Module {lb} already satisfied')\n",
    "    except Exception as e:\n",
    "        print(e,f\"Module {lb} not installed, installation in progress...\",sep='\\n')\n",
    "        try:\n",
    "            subprocess.check_call(['pip3','install',lb])\n",
    "            print(f'Module {lb} installed successfully')\n",
    "        except Exception as e:\n",
    "                print(f\"Error in installation {lb}\",e,sep='\\n')"
   ]
  },
  {
   "cell_type": "code",
   "execution_count": null,
   "id": "af9d7b5c-3fbf-4bd3-9e5c-7c01abbb0733",
   "metadata": {},
   "outputs": [],
   "source": []
  }
 ],
 "metadata": {
  "kernelspec": {
   "display_name": "Python 3 (ipykernel)",
   "language": "python",
   "name": "python3"
  },
  "language_info": {
   "codemirror_mode": {
    "name": "ipython",
    "version": 3
   },
   "file_extension": ".py",
   "mimetype": "text/x-python",
   "name": "python",
   "nbconvert_exporter": "python",
   "pygments_lexer": "ipython3",
   "version": "3.9.13"
  }
 },
 "nbformat": 4,
 "nbformat_minor": 5
}
