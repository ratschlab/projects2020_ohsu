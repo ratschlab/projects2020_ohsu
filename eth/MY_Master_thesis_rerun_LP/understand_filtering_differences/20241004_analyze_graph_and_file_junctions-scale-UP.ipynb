{
 "cells": [
  {
   "cell_type": "code",
   "execution_count": 5,
   "id": "3bcbc788",
   "metadata": {},
   "outputs": [],
   "source": [
    "# HElP about the coordinates can be found in https://ratschlab.slack.com/archives/DD4F40KPF/p1648498023344119 (DM LP/ AK)\n",
    "# /cluster/work/grlab/projects/projects2021-immuno_peptides/results/TCGA_for_neoepitopes/TCGA_Breast_1102_results/splicing/spladder/genes_graph_conf2.merge_graphs.count.hdf5 and\n",
    "# /cluster/work/grlab/projects/projects2021-immuno_peptides/results/TCGA_for_neoepitopes/TCGA_Breast_1102_results/splicing/spladder/genes_graph_conf2.merge_graphs.pickle\n",
    "# There, I looked for gene ENSG00000085733.16, which has ID 9803. Then I checked which edge in the segmentgraph corresponds to 70435040;70436454 , which are segments 169 (array([70435025, 70435040])) and 186 (array([70436454, 70436562])). This translates to a multi_index integer of 32296. Checking in the correct range of the hdf5 where the gene_ids_edges is 9803 for the edge_idx of 32296, gets an offset value of 175. Long story short, the edge corresponds to the count matrix entry edges[221005, :] . In this count vector only a single index has a non-zero value (index 855), which corresponds to sample TCGA-E2-A1B4-01A-11R-A12P-07.all. In this sample I could also find on the single sample level a junction count of 2 for this junctions. For all other samples (I used a bash loop), I was not able to find support for the junction."
   ]
  },
  {
   "cell_type": "code",
   "execution_count": 6,
   "id": "48d6cd48",
   "metadata": {},
   "outputs": [],
   "source": [
    "# Pseudo code to get a junction expression using the graph and the count file\n",
    "\n",
    "# 1. GET THE EDGES_INDEXES that correspond to the gene of interest VIA: \n",
    "# edges_index_gene = [i for i, j in enumerate(h5f['gene_ids_edges'][:, 0]) if j == gene_hd5_id]\n",
    "\n",
    "# 2. GET the multi_indexes\n",
    "# SLICE h5f['edge_idx'] for the EDGES_INDEXES above: \n",
    "# multi_indexes = h5f['edge_idx'][edges_index_gene] \n",
    "\n",
    "# 3. THE multi_indexes obained match perfectly the ones in np.where(gene.segmentgraph.seg_edges.flatten())[0]\n",
    "\n",
    "# REMARK: HISTORICALLY I used to work more whith the offsets that the multi_indexes\n",
    "# Can be seen this way\n",
    "#print([ i for i, foo in enumerate(zip(np.where(gene.segmentgraph.seg_edges)[0], np.where(gene.segmentgraph.seg_edges)[1])) \n",
    "#if (foo[0] == 169) & (foo[1] == 186)]) # THIS IS THE OFFSET\n",
    "# The offset is directly associated with the non-flattened structure. \n",
    "\n",
    "# 4. TO get an offset: \n",
    "#offset = [myid for myid, edge_idx in enumerate(h5f['edge_idx'][edges_index_gene]) if edge_idx == multi_index_to_locate][0]  \n",
    "# OR \n",
    "# offset = [myid for myid, edge_idx in enumerate(multi_indexes) if edge_idx == multi_index_to_locate][0]  \n",
    "# 5. We can check that h5f['edge_idx'][edges_index_gene][offset] = multi_index_to_locate\n",
    "\n",
    "# TO GET the EDGE index of my favorite junction (absolute_pos) from the multi_index_to_locate\n",
    "#absolute_pos = [myid for myid, edge_idx in enumerate(h5f['edge_idx']) if edge_idx == multi_index_to_locate][0]\n",
    "\n",
    "\n",
    "# TO GET the EDGE index of my favorite junction (absolute_pos) from the offset\n",
    "# edges_index_gene[offset]\n",
    "\n",
    "# REMARK: We can check that h5f['edge_idx'][absolute_pos] = multi_index_to_locate\n",
    "\n",
    "# TO GET the EDGE EXPRESSION of of my favorite junction: \n",
    "# h5f['edges'][absolute_pos, :] # all samples\n",
    "\n",
    "# TO GET the EDGE EXPRESSION of all junctions for a given sample\n",
    "#h5f['edges'][edges_index_gene, sample]\n"
   ]
  },
  {
   "cell_type": "code",
   "execution_count": 7,
   "id": "81a8af5a",
   "metadata": {},
   "outputs": [],
   "source": [
    "import os \n",
    "import pandas as pd\n",
    "import path\n",
    "import pickle \n",
    "import numpy as np\n",
    "import h5py"
   ]
  },
  {
   "cell_type": "code",
   "execution_count": 16,
   "id": "c6ee9503",
   "metadata": {},
   "outputs": [],
   "source": [
    "### INPUTS PARAMETERS\n",
    "sample_type = 'OV' # BRCA\n",
    "file_type = 'unfiltered' #'conf2'\n",
    "sample = 'sample1' # relink samples 1 to 5"
   ]
  },
  {
   "cell_type": "code",
   "execution_count": 17,
   "id": "1e69d56c",
   "metadata": {},
   "outputs": [],
   "source": [
    "### INPUTS FILES\n",
    "base_path_junctions = '/cluster/work/grlab/projects/projects2021-immuno_peptides/results/TCGA_for_neoepitopes'\n",
    "## Spladder junction files\n",
    "# OV\n",
    "folder_OV_jx_unfiltered = 'TCGA_Ovarian_374_results/TCGA_Ovarian_374_results_junctions_unfiltered_tsv'\n",
    "folder_OV_jx_conf2 = 'TCGA_Ovarian_374_results/TCGA_Ovarian_374_results_junctions_conf_2_tsv'\n",
    "\n",
    "# BRCA\n",
    "folder_BRCA_jx_unfiltered = 'TCGA_Breast_1102_results/TCGA_Breast_1102_results_junctions_unfiltered_tsv'\n",
    "folder_BRCA_jx_conf2 = 'TCGA_Breast_1102_results/TCGA_Breast_1102_results_junctions_conf_2_tsv'\n",
    "\n",
    "## Spladder Graphs\n",
    "# OV\n",
    "count_path_OV = os.path.join( base_path_junctions, 'TCGA_Ovarian_374_results/splicing/spladder/genes_graph_conf2.merge_graphs.count.rechunked.hdf5')\n",
    "#count_path_OV = os.path.join( base_path_junctions, 'TCGA_Ovarian_374_results/splicing/spladder/genes_graph_conf2.merge_graphs.count.hdf5')\n",
    "splice_path_OV = os.path.join( base_path_junctions, 'TCGA_Ovarian_374_results/splicing/spladder/genes_graph_conf2.merge_graphs.pickle')\n",
    "sample_file_OV = '/cluster/work/grlab/projects/projects2020_OHSU/sample_lists/TCGA_foreground/sample_full_Ov_378.tsv'\n",
    "output_path_OV = os.path.join( base_path_junctions, 'TCGA_Ovarian_374_results/splicing/spladder/junctions_from_graph.tsv.gz')\n",
    "\n",
    "# BRCA\n",
    "count_path_BRCA = os.path.join( base_path_junctions, 'TCGA_Breast_1102_results/splicing/spladder/genes_graph_conf2.merge_graphs.count.hdf5')\n",
    "splice_path_BRCA = os.path.join( base_path_junctions, 'TCGA_Breast_1102_results/splicing/spladder/genes_graph_conf2.merge_graphs.pickle')\n",
    "sample_file_BRCA = \"/cluster/work/grlab/projects/projects2020_OHSU/sample_lists/TCGA_foreground/sample_full_BRCA_1102.tsv\"\n",
    "output_path_BRCA = os.path.join( base_path_junctions, 'TCGA_Breast_1102_results/splicing/spladder/junctions_from_graph.tsv.gz')"
   ]
  },
  {
   "cell_type": "code",
   "execution_count": 18,
   "id": "0c9fd438",
   "metadata": {},
   "outputs": [
    {
     "name": "stdout",
     "output_type": "stream",
     "text": [
      "/cluster/work/grlab/projects/projects2021-immuno_peptides/results/TCGA_for_neoepitopes/TCGA_Ovarian_374_results/TCGA_Ovarian_374_results_junctions_unfiltered_tsv/sample1\n",
      "/cluster/work/grlab/projects/projects2021-immuno_peptides/results/TCGA_for_neoepitopes/TCGA_Ovarian_374_results/TCGA_Ovarian_374_results_junctions_conf_2_tsv/sample1\n",
      "/cluster/work/grlab/projects/projects2021-immuno_peptides/results/TCGA_for_neoepitopes/TCGA_Ovarian_374_results/TCGA_Ovarian_374_results_junctions_unfiltered_tsv/TCGA-25-1319-01A-01R-1565-13.all.junctions.tsv.gz\n",
      "/cluster/work/grlab/projects/projects2021-immuno_peptides/results/TCGA_for_neoepitopes/TCGA_Ovarian_374_results/TCGA_Ovarian_374_results_junctions_conf_2_tsv/TCGA-25-1319-01A-01R-1565-13.all.conf_2.filt.junctions.tsv.gz\n"
     ]
    }
   ],
   "source": [
    "# Paths options\n",
    "if sample_type == 'OV':\n",
    "    splice_path = splice_path_OV\n",
    "    count_path = count_path_OV\n",
    "\n",
    "    folder_jx_unfiltered = folder_OV_jx_unfiltered\n",
    "    folder_jx_conf2 = folder_OV_jx_conf2\n",
    "    output_path_ = output_path_OV\n",
    "\n",
    "elif sample_type == 'BRCA':\n",
    "    splice_path = splice_path_BRCA\n",
    "    count_path = count_path_BRCA\n",
    "\n",
    "    folder_jx_unfiltered = folder_BRCA_jx_unfiltered\n",
    "    folder_jx_conf2 = folder_BRCA_jx_conf2 # TODO + GET TABLES FROM MARIIA's files\n",
    "    output_path_ = output_path_BRCA\n",
    "    \n",
    "path_jx_unfiltered = os.path.join(base_path_junctions, folder_jx_unfiltered, sample)\n",
    "print(path_jx_unfiltered)\n",
    "path_jx_conf2 = os.path.join(base_path_junctions, folder_jx_conf2, sample)\n",
    "print(path_jx_conf2)\n",
    "path_jx_unfiltered = os.path.realpath(path_jx_unfiltered)\n",
    "print(path_jx_unfiltered)\n",
    "path_jx_conf2 = os.path.realpath(path_jx_conf2)\n",
    "print(path_jx_conf2)"
   ]
  },
  {
   "cell_type": "code",
   "execution_count": 19,
   "id": "841cbb19",
   "metadata": {},
   "outputs": [
    {
     "name": "stdout",
     "output_type": "stream",
     "text": [
      "TCGA-25-1319-01A-01R-1565-13.all\n"
     ]
    }
   ],
   "source": [
    "# Get sample name\n",
    "sample_name = path_jx_unfiltered.split('/')[-1].replace('.junctions.tsv.gz', '')\n",
    "print(sample_name)"
   ]
  },
  {
   "cell_type": "code",
   "execution_count": 20,
   "id": "01263a8a",
   "metadata": {},
   "outputs": [
    {
     "name": "stdout",
     "output_type": "stream",
     "text": [
      "/cluster/work/grlab/projects/projects2021-immuno_peptides/results/TCGA_for_neoepitopes/TCGA_Ovarian_374_results/splicing/spladder/junctions_from_graph.TCGA-25-1319-01A-01R-1565-13.all.tsv.gz\n"
     ]
    }
   ],
   "source": [
    "output_path = output_path_.replace('.tsv.gz', f'.{sample_name}.tsv.gz')\n",
    "print(output_path)"
   ]
  },
  {
   "cell_type": "code",
   "execution_count": null,
   "id": "352b0adf",
   "metadata": {},
   "outputs": [],
   "source": []
  },
  {
   "cell_type": "markdown",
   "id": "44fb2a6c",
   "metadata": {},
   "source": [
    "# \"Spladder files\""
   ]
  },
  {
   "cell_type": "code",
   "execution_count": 21,
   "id": "71d2a757",
   "metadata": {},
   "outputs": [],
   "source": [
    "# Load spladder files\n",
    "df_jx_unfiltered = pd.read_csv(path_jx_unfiltered,\n",
    "                                  sep = '\\t')\n",
    "df_jx_conf2 = pd.read_csv(path_jx_conf2, \n",
    "                                  sep = '\\t')\n",
    "\n",
    "if file_type == 'unfiltered':\n",
    "    df_spladder_junctions = df_jx_unfiltered\n",
    "elif file_type == 'conf2':\n",
    "    df_spladder_junctions = df_jx_conf2"
   ]
  },
  {
   "cell_type": "code",
   "execution_count": 22,
   "id": "fb821578",
   "metadata": {},
   "outputs": [],
   "source": [
    "def unique_junctions_df(df):\n",
    "    display(df.head(3))\n",
    "    print('shape table')\n",
    "    print(df.shape)\n",
    "    print('shape table excluding column count')\n",
    "    print(df.drop(['count'], axis = 1).drop_duplicates().shape)\n",
    "    print('shape table excluding column count, chr')\n",
    "    print(df.drop(['count', 'chr'], axis = 1).drop_duplicates().shape)\n",
    "    print('shape table excluding column count, strand')\n",
    "    print(df.drop(['count', 'strand'], axis = 1).drop_duplicates().shape)\n",
    "    print('shape table excluding column count, strand, chr')\n",
    "    print(df.drop(['count', 'strand', 'chr'], axis = 1).drop_duplicates().shape)\n",
    "    "
   ]
  },
  {
   "cell_type": "code",
   "execution_count": 23,
   "id": "a6269205",
   "metadata": {},
   "outputs": [
    {
     "name": "stdout",
     "output_type": "stream",
     "text": [
      "/cluster/work/grlab/projects/projects2021-immuno_peptides/results/TCGA_for_neoepitopes/TCGA_Ovarian_374_results/TCGA_Ovarian_374_results_junctions_unfiltered_tsv/TCGA-25-1319-01A-01R-1565-13.all.junctions.tsv.gz\n"
     ]
    },
    {
     "data": {
      "text/html": [
       "<div>\n",
       "<style scoped>\n",
       "    .dataframe tbody tr th:only-of-type {\n",
       "        vertical-align: middle;\n",
       "    }\n",
       "\n",
       "    .dataframe tbody tr th {\n",
       "        vertical-align: top;\n",
       "    }\n",
       "\n",
       "    .dataframe thead th {\n",
       "        text-align: right;\n",
       "    }\n",
       "</style>\n",
       "<table border=\"1\" class=\"dataframe\">\n",
       "  <thead>\n",
       "    <tr style=\"text-align: right;\">\n",
       "      <th></th>\n",
       "      <th>chr</th>\n",
       "      <th>strand</th>\n",
       "      <th>junction_start</th>\n",
       "      <th>junction_end</th>\n",
       "      <th>count</th>\n",
       "    </tr>\n",
       "  </thead>\n",
       "  <tbody>\n",
       "    <tr>\n",
       "      <th>0</th>\n",
       "      <td>chr10</td>\n",
       "      <td>-</td>\n",
       "      <td>48114</td>\n",
       "      <td>48614</td>\n",
       "      <td>1</td>\n",
       "    </tr>\n",
       "    <tr>\n",
       "      <th>1</th>\n",
       "      <td>chr10</td>\n",
       "      <td>-</td>\n",
       "      <td>48725</td>\n",
       "      <td>48803</td>\n",
       "      <td>3</td>\n",
       "    </tr>\n",
       "    <tr>\n",
       "      <th>2</th>\n",
       "      <td>chr10</td>\n",
       "      <td>-</td>\n",
       "      <td>277577</td>\n",
       "      <td>281199</td>\n",
       "      <td>12</td>\n",
       "    </tr>\n",
       "  </tbody>\n",
       "</table>\n",
       "</div>"
      ],
      "text/plain": [
       "     chr strand  junction_start  junction_end  count\n",
       "0  chr10      -           48114         48614      1\n",
       "1  chr10      -           48725         48803      3\n",
       "2  chr10      -          277577        281199     12"
      ]
     },
     "metadata": {},
     "output_type": "display_data"
    },
    {
     "name": "stdout",
     "output_type": "stream",
     "text": [
      "shape table\n",
      "(485934, 5)\n",
      "shape table excluding column count\n",
      "(485934, 4)\n",
      "shape table excluding column count, chr\n",
      "(485747, 3)\n",
      "shape table excluding column count, strand\n",
      "(485436, 3)\n",
      "shape table excluding column count, strand, chr\n",
      "(485249, 2)\n",
      "/cluster/work/grlab/projects/projects2021-immuno_peptides/results/TCGA_for_neoepitopes/TCGA_Ovarian_374_results/TCGA_Ovarian_374_results_junctions_conf_2_tsv/TCGA-25-1319-01A-01R-1565-13.all.conf_2.filt.junctions.tsv.gz\n"
     ]
    },
    {
     "data": {
      "text/html": [
       "<div>\n",
       "<style scoped>\n",
       "    .dataframe tbody tr th:only-of-type {\n",
       "        vertical-align: middle;\n",
       "    }\n",
       "\n",
       "    .dataframe tbody tr th {\n",
       "        vertical-align: top;\n",
       "    }\n",
       "\n",
       "    .dataframe thead th {\n",
       "        text-align: right;\n",
       "    }\n",
       "</style>\n",
       "<table border=\"1\" class=\"dataframe\">\n",
       "  <thead>\n",
       "    <tr style=\"text-align: right;\">\n",
       "      <th></th>\n",
       "      <th>chr</th>\n",
       "      <th>strand</th>\n",
       "      <th>junction_start</th>\n",
       "      <th>junction_end</th>\n",
       "      <th>count</th>\n",
       "    </tr>\n",
       "  </thead>\n",
       "  <tbody>\n",
       "    <tr>\n",
       "      <th>0</th>\n",
       "      <td>chr10</td>\n",
       "      <td>-</td>\n",
       "      <td>48114</td>\n",
       "      <td>48614</td>\n",
       "      <td>1</td>\n",
       "    </tr>\n",
       "    <tr>\n",
       "      <th>1</th>\n",
       "      <td>chr10</td>\n",
       "      <td>-</td>\n",
       "      <td>48725</td>\n",
       "      <td>48803</td>\n",
       "      <td>1</td>\n",
       "    </tr>\n",
       "    <tr>\n",
       "      <th>2</th>\n",
       "      <td>chr10</td>\n",
       "      <td>-</td>\n",
       "      <td>277577</td>\n",
       "      <td>281199</td>\n",
       "      <td>9</td>\n",
       "    </tr>\n",
       "  </tbody>\n",
       "</table>\n",
       "</div>"
      ],
      "text/plain": [
       "     chr strand  junction_start  junction_end  count\n",
       "0  chr10      -           48114         48614      1\n",
       "1  chr10      -           48725         48803      1\n",
       "2  chr10      -          277577        281199      9"
      ]
     },
     "metadata": {},
     "output_type": "display_data"
    },
    {
     "name": "stdout",
     "output_type": "stream",
     "text": [
      "shape table\n",
      "(396650, 5)\n",
      "shape table excluding column count\n",
      "(396650, 4)\n",
      "shape table excluding column count, chr\n",
      "(396510, 3)\n",
      "shape table excluding column count, strand\n",
      "(396405, 3)\n",
      "shape table excluding column count, strand, chr\n",
      "(396265, 2)\n"
     ]
    }
   ],
   "source": [
    "# Initial analysis of unique junctions\n",
    "print(path_jx_unfiltered)\n",
    "unique_junctions_df(df_jx_unfiltered)\n",
    "print(path_jx_conf2)\n",
    "unique_junctions_df(df_jx_conf2)"
   ]
  },
  {
   "cell_type": "code",
   "execution_count": null,
   "id": "806ea251",
   "metadata": {},
   "outputs": [],
   "source": []
  },
  {
   "cell_type": "markdown",
   "id": "470205ea",
   "metadata": {},
   "source": [
    "# Graph Single Gene"
   ]
  },
  {
   "cell_type": "code",
   "execution_count": 24,
   "id": "da13fe48",
   "metadata": {},
   "outputs": [],
   "source": [
    "# Load graph\n",
    "graph, meta = pickle.load(open(splice_path, 'rb'))"
   ]
  },
  {
   "cell_type": "code",
   "execution_count": 27,
   "id": "1a31722c",
   "metadata": {},
   "outputs": [
    {
     "name": "stdout",
     "output_type": "stream",
     "text": [
      "<KeysViewHDF5 ['edge_idx', 'edges', 'gene_ids_edges', 'gene_ids_segs', 'gene_names', 'seg_len', 'seg_pos', 'segments', 'strains']>\n",
      "edge_idx\n",
      "(1979609,)\n",
      "edges\n",
      "(1979609, 374)\n",
      "gene_ids_edges\n",
      "(1979609, 1)\n",
      "gene_ids_segs\n",
      "(2243686, 1)\n",
      "gene_names\n",
      "(60609, 1)\n",
      "seg_len\n",
      "(2243686, 1)\n",
      "seg_pos\n",
      "(2243686, 374)\n",
      "segments\n",
      "(2243686, 374)\n",
      "strains\n",
      "(374,)\n"
     ]
    }
   ],
   "source": [
    "# Load count file \n",
    "h5f = h5py.File(count_path, 'r')\n",
    "print(h5f.keys())\n",
    "for k in h5f.keys():\n",
    "    print(k)\n",
    "    print(h5f[k].shape)\n",
    "    # Subset sample\n",
    "    sample_id = [i for i, j in enumerate(h5f['strains']) if j.decode() == sample_name][0]\n",
    "    edge_expr_sample = h5f['edges'][:, sample_id]\n"
   ]
  },
  {
   "cell_type": "code",
   "execution_count": null,
   "id": "14456bae",
   "metadata": {},
   "outputs": [
    {
     "name": "stdout",
     "output_type": "stream",
     "text": [
      "0\n"
     ]
    }
   ],
   "source": [
    "prepare_df = []\n",
    "\n",
    "for idx, gene in enumerate(graph):\n",
    "    if idx % 1000 == 0:\n",
    "        print(idx)\n",
    "    gene.from_sparse()\n",
    "\n",
    "    # Graph segment graph indexes and coord\n",
    "    seg_graph_index = np.array([(a,b) for a, b in zip(np.where(gene.segmentgraph.seg_edges)[0],\n",
    "                                                   np.where(gene.segmentgraph.seg_edges)[1])])\n",
    "    segms_gene = [(gene.segmentgraph.segments[1][i], gene.segmentgraph.segments[0][j]) \n",
    "                  for i, j in seg_graph_index]\n",
    "\n",
    "    # Count file gene ID\n",
    "    gene_hd5_id = idx #[i for i, j in enumerate(h5f['gene_names'][:, 0]) if j.decode() == gene.name][0] \n",
    "    # Count file edges index\n",
    "    edges_index_gene = np.where(h5f['gene_ids_edges'][:, 0] == gene_hd5_id)[0]\n",
    "    # Count file get expression vector \n",
    "    edge_expr_sample_gene = edge_expr_sample[edges_index_gene]\n",
    "\n",
    "\n",
    "    # Create data frame with the junction positions and the expression\n",
    "    all_junctions_coord_with_expr = [[jx[0], jx[1], expr] \n",
    "                          for jx, expr in zip(segms_gene, edge_expr_sample_gene)]\n",
    "    all_expr_df_graph = pd.DataFrame(all_junctions_coord_with_expr, \n",
    "                                     columns = ['junction_start', 'junction_end', 'count_graph'])\n",
    "    all_expr_df_graph = all_expr_df_graph.drop_duplicates()\n",
    "    all_expr_df_graph['gene_graph'] = gene.name\n",
    "    all_expr_df_graph['strand_graph'] = gene.strand\n",
    "    \n",
    "    prepare_df.append(all_expr_df_graph)"
   ]
  },
  {
   "cell_type": "code",
   "execution_count": null,
   "id": "51e8fc91",
   "metadata": {},
   "outputs": [],
   "source": [
    "# Merge\n",
    "all_expr_df_graph = pd.concat(prepare_df)\n",
    "\n",
    "print(all_expr_df_graph.shape)\n",
    "\n",
    "display(all_expr_df_graph.head())"
   ]
  },
  {
   "cell_type": "code",
   "execution_count": null,
   "id": "d7acb341",
   "metadata": {},
   "outputs": [],
   "source": [
    "# Save \n",
    "all_expr_df_graph.to_csv(output_path, sep = '\\t', index=None, compression='gzip')\n",
    "print(output_path)"
   ]
  },
  {
   "cell_type": "code",
   "execution_count": null,
   "id": "07c2ae19",
   "metadata": {},
   "outputs": [],
   "source": [
    "# CLOSE count file\n",
    "h5f.close()"
   ]
  },
  {
   "cell_type": "markdown",
   "id": "4931ee1e",
   "metadata": {},
   "source": [
    "# Merge"
   ]
  },
  {
   "cell_type": "code",
   "execution_count": null,
   "id": "35e015e6",
   "metadata": {},
   "outputs": [],
   "source": [
    "# TODO - DO TWO MERGES FOR EACH OF THE SPLADDER FILES FILES.."
   ]
  },
  {
   "cell_type": "code",
   "execution_count": null,
   "id": "7fdf9153",
   "metadata": {},
   "outputs": [],
   "source": [
    "# Merge Spladder junctions to Graph Junctions\n",
    "df_spladder_junctions = df_spladder_junctions.rename({'count': 'count_tsv_spladder'}, axis = 1)\n",
    "df_spladder_junctions = df_spladder_junctions.rename({'strand': 'strand_tsv_spladder'}, axis = 1)\n",
    "df_spladder_junctions = df_spladder_junctions.rename({'chr': 'chr_tsv_spladder'}, axis = 1)\n",
    "merged_df = all_expr_df_graph.merge(df_spladder_junctions, \n",
    "                                    on = ['junction_start', 'junction_end'], how = 'outer')"
   ]
  },
  {
   "cell_type": "code",
   "execution_count": null,
   "id": "a9960e19",
   "metadata": {},
   "outputs": [],
   "source": [
    "merged_df.head()"
   ]
  },
  {
   "cell_type": "code",
   "execution_count": null,
   "id": "73a7ce51",
   "metadata": {},
   "outputs": [],
   "source": [
    "all_expr_df_graph.head()"
   ]
  },
  {
   "cell_type": "code",
   "execution_count": null,
   "id": "79f0c438",
   "metadata": {},
   "outputs": [],
   "source": [
    "print(df_spladder_junctions.shape)\n",
    "print(all_expr_df_graph.shape)\n",
    "display(merged_df.head())\n",
    "\n",
    "print(merged_df.shape)\n",
    "print(merged_df.drop_duplicates().shape)\n"
   ]
  },
  {
   "cell_type": "markdown",
   "id": "b132d98d",
   "metadata": {},
   "source": [
    "# Visualisation "
   ]
  },
  {
   "cell_type": "code",
   "execution_count": null,
   "id": "7abcd8d8",
   "metadata": {
    "scrolled": true
   },
   "outputs": [],
   "source": [
    "# Visualisation\n",
    "merged_df.loc[(~ merged_df['count_graph'].isna()) & (~ merged_df['count_tsv_spladder'].isna()) ]"
   ]
  },
  {
   "cell_type": "code",
   "execution_count": null,
   "id": "1b50afc8",
   "metadata": {},
   "outputs": [],
   "source": [
    "# Visualisation\n",
    "merged_df.loc[merged_df['count_graph'].isna() & (merged_df['count_tsv_spladder'] != 0 )]"
   ]
  },
  {
   "cell_type": "code",
   "execution_count": null,
   "id": "4c59fa23",
   "metadata": {},
   "outputs": [],
   "source": [
    "# Visualisation\n",
    "merged_df.loc[merged_df['count_tsv_spladder'].isna() & (merged_df['count_graph'] != 0 )]"
   ]
  }
 ],
 "metadata": {
  "kernelspec": {
   "display_name": "Python 3 (ipykernel)",
   "language": "python",
   "name": "python3"
  },
  "language_info": {
   "codemirror_mode": {
    "name": "ipython",
    "version": 3
   },
   "file_extension": ".py",
   "mimetype": "text/x-python",
   "name": "python",
   "nbconvert_exporter": "python",
   "pygments_lexer": "ipython3",
   "version": "3.9.13"
  }
 },
 "nbformat": 4,
 "nbformat_minor": 5
}
