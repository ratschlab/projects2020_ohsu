{
 "cells": [
  {
   "cell_type": "code",
   "execution_count": 18,
   "id": "3bcbc788",
   "metadata": {},
   "outputs": [],
   "source": [
    "# HElP about the coordinates can be found in https://ratschlab.slack.com/archives/DD4F40KPF/p1648498023344119 (DM LP/ AK)\n",
    "# /cluster/work/grlab/projects/projects2021-immuno_peptides/results/TCGA_for_neoepitopes/TCGA_Breast_1102_results/splicing/spladder/genes_graph_conf2.merge_graphs.count.hdf5 and\n",
    "# /cluster/work/grlab/projects/projects2021-immuno_peptides/results/TCGA_for_neoepitopes/TCGA_Breast_1102_results/splicing/spladder/genes_graph_conf2.merge_graphs.pickle\n",
    "# There, I looked for gene ENSG00000085733.16, which has ID 9803. Then I checked which edge in the segmentgraph corresponds to 70435040;70436454 , which are segments 169 (array([70435025, 70435040])) and 186 (array([70436454, 70436562])). This translates to a multi_index integer of 32296. Checking in the correct range of the hdf5 where the gene_ids_edges is 9803 for the edge_idx of 32296, gets an offset value of 175. Long story short, the edge corresponds to the count matrix entry edges[221005, :] . In this count vector only a single index has a non-zero value (index 855), which corresponds to sample TCGA-E2-A1B4-01A-11R-A12P-07.all. In this sample I could also find on the single sample level a junction count of 2 for this junctions. For all other samples (I used a bash loop), I was not able to find support for the junction."
   ]
  },
  {
   "cell_type": "code",
   "execution_count": 19,
   "id": "48d6cd48",
   "metadata": {},
   "outputs": [],
   "source": [
    "# Pseudo code to get a junction expression using the graph and the count file\n",
    "\n",
    "# 1. GET THE EDGES_INDEXES that correspond to the gene of interest VIA: \n",
    "# edges_index_gene = [i for i, j in enumerate(h5f['gene_ids_edges'][:, 0]) if j == gene_hd5_id]\n",
    "\n",
    "# 2. GET the multi_indexes\n",
    "# SLICE h5f['edge_idx'] for the EDGES_INDEXES above: \n",
    "# multi_indexes = h5f['edge_idx'][edges_index_gene] \n",
    "\n",
    "# 3. THE multi_indexes obained match perfectly the ones in np.where(gene.segmentgraph.seg_edges.flatten())[0]\n",
    "\n",
    "# REMARK: HISTORICALLY I used to work more whith the offsets that the multi_indexes\n",
    "# Can be seen this way\n",
    "#print([ i for i, foo in enumerate(zip(np.where(gene.segmentgraph.seg_edges)[0], np.where(gene.segmentgraph.seg_edges)[1])) \n",
    "#if (foo[0] == 169) & (foo[1] == 186)]) # THIS IS THE OFFSET\n",
    "# The offset is directly associated with the non-flattened structure. \n",
    "\n",
    "# 4. TO get an offset: \n",
    "#offset = [myid for myid, edge_idx in enumerate(h5f['edge_idx'][edges_index_gene]) if edge_idx == multi_index_to_locate][0]  \n",
    "# OR \n",
    "# offset = [myid for myid, edge_idx in enumerate(multi_indexes) if edge_idx == multi_index_to_locate][0]  \n",
    "# 5. We can check that h5f['edge_idx'][edges_index_gene][offset] = multi_index_to_locate\n",
    "\n",
    "# TO GET the EDGE index of my favorite junction (absolute_pos) from the multi_index_to_locate\n",
    "#absolute_pos = [myid for myid, edge_idx in enumerate(h5f['edge_idx']) if edge_idx == multi_index_to_locate][0]\n",
    "\n",
    "\n",
    "# TO GET the EDGE index of my favorite junction (absolute_pos) from the offset\n",
    "# edges_index_gene[offset]\n",
    "\n",
    "# REMARK: We can check that h5f['edge_idx'][absolute_pos] = multi_index_to_locate\n",
    "\n",
    "# TO GET the EDGE EXPRESSION of of my favorite junction: \n",
    "# h5f['edges'][absolute_pos, :] # all samples\n",
    "\n",
    "# TO GET the EDGE EXPRESSION of all junctions for a given sample\n",
    "#h5f['edges'][edges_index_gene, sample]\n"
   ]
  },
  {
   "cell_type": "code",
   "execution_count": 20,
   "id": "81a8af5a",
   "metadata": {},
   "outputs": [],
   "source": [
    "import os \n",
    "import pandas as pd\n",
    "import path\n",
    "import pickle \n",
    "import numpy as np\n",
    "import h5py"
   ]
  },
  {
   "cell_type": "code",
   "execution_count": 21,
   "id": "c6ee9503",
   "metadata": {},
   "outputs": [],
   "source": [
    "### INPUTS PARAMETERS\n",
    "sample_type = 'OV' # BRCA\n",
    "file_type = 'unfiltered' #'conf2'\n",
    "sample = 'sample1' # relink samples 1 to 5"
   ]
  },
  {
   "cell_type": "code",
   "execution_count": 22,
   "id": "1e69d56c",
   "metadata": {},
   "outputs": [],
   "source": [
    "### INPUTS FILES\n",
    "base_path_junctions = '/cluster/work/grlab/projects/projects2021-immuno_peptides/results/TCGA_for_neoepitopes'\n",
    "## Spladder junction files\n",
    "# OV\n",
    "folder_OV_jx_unfiltered = 'TCGA_Ovarian_374_results/TCGA_Ovarian_374_results_junctions_unfiltered_tsv'\n",
    "folder_OV_jx_conf2 = 'TCGA_Ovarian_374_results/TCGA_Ovarian_374_results_junctions_conf_2_tsv'\n",
    "\n",
    "# BRCA\n",
    "folder_BRCA_jx_unfiltered = 'TCGA_Breast_1102_results/TCGA_Breast_1102_results_junctions_unfiltered_tsv'\n",
    "folder_BRCA_jx_conf2 = 'TCGA_Breast_1102_results/TCGA_Breast_1102_results_junctions_conf_2_tsv'\n",
    "\n",
    "## Spladder Graphs\n",
    "# OV\n",
    "count_path_OV = os.path.join( base_path_junctions, 'TCGA_Ovarian_374_results/splicing/spladder/genes_graph_conf2.merge_graphs.count.rechunked.hdf5')\n",
    "#count_path_OV = os.path.join( base_path_junctions, 'TCGA_Ovarian_374_results/splicing/spladder/genes_graph_conf2.merge_graphs.count.hdf5')\n",
    "splice_path_OV = os.path.join( base_path_junctions, 'TCGA_Ovarian_374_results/splicing/spladder/genes_graph_conf2.merge_graphs.pickle')\n",
    "sample_file_OV = '/cluster/work/grlab/projects/projects2020_OHSU/sample_lists/TCGA_foreground/sample_full_Ov_378.tsv'\n",
    "output_path_OV = os.path.join( base_path_junctions, 'TCGA_Ovarian_374_results/splicing/junctions_from_graph.tsv.gz')\n",
    "\n",
    "# BRCA\n",
    "count_path_BRCA = os.path.join( base_path_junctions, 'TCGA_Breast_1102_results/splicing/spladder/genes_graph_conf2.merge_graphs.count.hdf5')\n",
    "splice_path_BRCA = os.path.join( base_path_junctions, 'TCGA_Breast_1102_results/splicing/spladder/genes_graph_conf2.merge_graphs.pickle')\n",
    "sample_file_BRCA = \"/cluster/work/grlab/projects/projects2020_OHSU/sample_lists/TCGA_foreground/sample_full_BRCA_1102.tsv\"\n",
    "output_path_BRCA = os.path.join( base_path_junctions, 'TCGA_Breast_1102_results/splicing/junctions_from_graph.tsv.gz')"
   ]
  },
  {
   "cell_type": "code",
   "execution_count": 23,
   "id": "0c9fd438",
   "metadata": {},
   "outputs": [
    {
     "name": "stdout",
     "output_type": "stream",
     "text": [
      "/cluster/work/grlab/projects/projects2021-immuno_peptides/results/TCGA_for_neoepitopes/TCGA_Ovarian_374_results/TCGA_Ovarian_374_results_junctions_unfiltered_tsv/sample1\n",
      "/cluster/work/grlab/projects/projects2021-immuno_peptides/results/TCGA_for_neoepitopes/TCGA_Ovarian_374_results/TCGA_Ovarian_374_results_junctions_conf_2_tsv/sample1\n",
      "/cluster/work/grlab/projects/projects2021-immuno_peptides/results/TCGA_for_neoepitopes/TCGA_Ovarian_374_results/TCGA_Ovarian_374_results_junctions_unfiltered_tsv/TCGA-25-1319-01A-01R-1565-13.all.junctions.tsv.gz\n",
      "/cluster/work/grlab/projects/projects2021-immuno_peptides/results/TCGA_for_neoepitopes/TCGA_Ovarian_374_results/TCGA_Ovarian_374_results_junctions_conf_2_tsv/TCGA-25-1319-01A-01R-1565-13.all.conf_2.filt.junctions.tsv.gz\n"
     ]
    }
   ],
   "source": [
    "# Paths options\n",
    "if sample_type == 'OV':\n",
    "    splice_path = splice_path_OV\n",
    "    count_path = count_path_OV\n",
    "\n",
    "    folder_jx_unfiltered = folder_OV_jx_unfiltered\n",
    "    folder_jx_conf2 = folder_OV_jx_conf2\n",
    "    output_path_ = output_path_OV\n",
    "\n",
    "elif sample_type == 'BRCA':\n",
    "    splice_path = splice_path_BRCA\n",
    "    count_path = count_path_BRCA\n",
    "\n",
    "    folder_jx_unfiltered = folder_BRCA_jx_unfiltered\n",
    "    folder_jx_conf2 = folder_BRCA_jx_conf2 # TODO + GET TABLES FROM MARIIA's files\n",
    "    output_path_ = output_path_BRCA\n",
    "    \n",
    "path_jx_unfiltered = os.path.join(base_path_junctions, folder_jx_unfiltered, sample)\n",
    "print(path_jx_unfiltered)\n",
    "path_jx_conf2 = os.path.join(base_path_junctions, folder_jx_conf2, sample)\n",
    "print(path_jx_conf2)\n",
    "path_jx_unfiltered = os.path.realpath(path_jx_unfiltered)\n",
    "print(path_jx_unfiltered)\n",
    "path_jx_conf2 = os.path.realpath(path_jx_conf2)\n",
    "print(path_jx_conf2)"
   ]
  },
  {
   "cell_type": "code",
   "execution_count": 24,
   "id": "841cbb19",
   "metadata": {},
   "outputs": [
    {
     "name": "stdout",
     "output_type": "stream",
     "text": [
      "TCGA-25-1319-01A-01R-1565-13.all\n"
     ]
    }
   ],
   "source": [
    "# Get sample name\n",
    "sample_name = path_jx_unfiltered.split('/')[-1].replace('.junctions.tsv.gz', '')\n",
    "print(sample_name)"
   ]
  },
  {
   "cell_type": "code",
   "execution_count": 25,
   "id": "b0bdf9e8",
   "metadata": {},
   "outputs": [
    {
     "name": "stdout",
     "output_type": "stream",
     "text": [
      "/cluster/work/grlab/projects/projects2021-immuno_peptides/results/TCGA_for_neoepitopes/TCGA_Ovarian_374_results/splicing/junctions_from_graph.TCGA-25-1319-01A-01R-1565-13.all.tsv.gz\n"
     ]
    }
   ],
   "source": [
    "output_path = output_path_.replace('.tsv.gz', f'.{sample_name}.tsv.gz')\n",
    "print(output_path)"
   ]
  },
  {
   "cell_type": "code",
   "execution_count": null,
   "id": "e4d05329",
   "metadata": {},
   "outputs": [],
   "source": []
  },
  {
   "cell_type": "markdown",
   "id": "44fb2a6c",
   "metadata": {},
   "source": [
    "# \"Spladder files\""
   ]
  },
  {
   "cell_type": "code",
   "execution_count": 26,
   "id": "71d2a757",
   "metadata": {},
   "outputs": [],
   "source": [
    "# Load spladder files\n",
    "df_jx_unfiltered = pd.read_csv(path_jx_unfiltered,\n",
    "                                  sep = '\\t')\n",
    "df_jx_conf2 = pd.read_csv(path_jx_conf2, \n",
    "                                  sep = '\\t')\n",
    "\n",
    "if file_type == 'unfiltered':\n",
    "    df_spladder_junctions = df_jx_unfiltered\n",
    "elif file_type == 'conf2':\n",
    "    df_spladder_junctions = df_jx_conf2"
   ]
  },
  {
   "cell_type": "code",
   "execution_count": 27,
   "id": "fb821578",
   "metadata": {},
   "outputs": [],
   "source": [
    "def unique_junctions_df(df):\n",
    "    display(df.head(3))\n",
    "    print('shape table')\n",
    "    print(df.shape)\n",
    "    print('shape table excluding column count')\n",
    "    print(df.drop(['count'], axis = 1).drop_duplicates().shape)\n",
    "    print('shape table excluding column count, chr')\n",
    "    print(df.drop(['count', 'chr'], axis = 1).drop_duplicates().shape)\n",
    "    print('shape table excluding column count, strand')\n",
    "    print(df.drop(['count', 'strand'], axis = 1).drop_duplicates().shape)\n",
    "    print('shape table excluding column count, strand, chr')\n",
    "    print(df.drop(['count', 'strand', 'chr'], axis = 1).drop_duplicates().shape)\n",
    "    "
   ]
  },
  {
   "cell_type": "code",
   "execution_count": 28,
   "id": "a6269205",
   "metadata": {},
   "outputs": [
    {
     "name": "stdout",
     "output_type": "stream",
     "text": [
      "/cluster/work/grlab/projects/projects2021-immuno_peptides/results/TCGA_for_neoepitopes/TCGA_Ovarian_374_results/TCGA_Ovarian_374_results_junctions_unfiltered_tsv/TCGA-25-1319-01A-01R-1565-13.all.junctions.tsv.gz\n"
     ]
    },
    {
     "data": {
      "text/html": [
       "<div>\n",
       "<style scoped>\n",
       "    .dataframe tbody tr th:only-of-type {\n",
       "        vertical-align: middle;\n",
       "    }\n",
       "\n",
       "    .dataframe tbody tr th {\n",
       "        vertical-align: top;\n",
       "    }\n",
       "\n",
       "    .dataframe thead th {\n",
       "        text-align: right;\n",
       "    }\n",
       "</style>\n",
       "<table border=\"1\" class=\"dataframe\">\n",
       "  <thead>\n",
       "    <tr style=\"text-align: right;\">\n",
       "      <th></th>\n",
       "      <th>chr</th>\n",
       "      <th>strand</th>\n",
       "      <th>junction_start</th>\n",
       "      <th>junction_end</th>\n",
       "      <th>count</th>\n",
       "    </tr>\n",
       "  </thead>\n",
       "  <tbody>\n",
       "    <tr>\n",
       "      <th>0</th>\n",
       "      <td>chr10</td>\n",
       "      <td>-</td>\n",
       "      <td>48114</td>\n",
       "      <td>48614</td>\n",
       "      <td>1</td>\n",
       "    </tr>\n",
       "    <tr>\n",
       "      <th>1</th>\n",
       "      <td>chr10</td>\n",
       "      <td>-</td>\n",
       "      <td>48725</td>\n",
       "      <td>48803</td>\n",
       "      <td>3</td>\n",
       "    </tr>\n",
       "    <tr>\n",
       "      <th>2</th>\n",
       "      <td>chr10</td>\n",
       "      <td>-</td>\n",
       "      <td>277577</td>\n",
       "      <td>281199</td>\n",
       "      <td>12</td>\n",
       "    </tr>\n",
       "  </tbody>\n",
       "</table>\n",
       "</div>"
      ],
      "text/plain": [
       "     chr strand  junction_start  junction_end  count\n",
       "0  chr10      -           48114         48614      1\n",
       "1  chr10      -           48725         48803      3\n",
       "2  chr10      -          277577        281199     12"
      ]
     },
     "metadata": {},
     "output_type": "display_data"
    },
    {
     "name": "stdout",
     "output_type": "stream",
     "text": [
      "shape table\n",
      "(485934, 5)\n",
      "shape table excluding column count\n",
      "(485934, 4)\n",
      "shape table excluding column count, chr\n",
      "(485747, 3)\n",
      "shape table excluding column count, strand\n",
      "(485436, 3)\n",
      "shape table excluding column count, strand, chr\n",
      "(485249, 2)\n",
      "/cluster/work/grlab/projects/projects2021-immuno_peptides/results/TCGA_for_neoepitopes/TCGA_Ovarian_374_results/TCGA_Ovarian_374_results_junctions_conf_2_tsv/TCGA-25-1319-01A-01R-1565-13.all.conf_2.filt.junctions.tsv.gz\n"
     ]
    },
    {
     "data": {
      "text/html": [
       "<div>\n",
       "<style scoped>\n",
       "    .dataframe tbody tr th:only-of-type {\n",
       "        vertical-align: middle;\n",
       "    }\n",
       "\n",
       "    .dataframe tbody tr th {\n",
       "        vertical-align: top;\n",
       "    }\n",
       "\n",
       "    .dataframe thead th {\n",
       "        text-align: right;\n",
       "    }\n",
       "</style>\n",
       "<table border=\"1\" class=\"dataframe\">\n",
       "  <thead>\n",
       "    <tr style=\"text-align: right;\">\n",
       "      <th></th>\n",
       "      <th>chr</th>\n",
       "      <th>strand</th>\n",
       "      <th>junction_start</th>\n",
       "      <th>junction_end</th>\n",
       "      <th>count</th>\n",
       "    </tr>\n",
       "  </thead>\n",
       "  <tbody>\n",
       "    <tr>\n",
       "      <th>0</th>\n",
       "      <td>chr10</td>\n",
       "      <td>-</td>\n",
       "      <td>48114</td>\n",
       "      <td>48614</td>\n",
       "      <td>1</td>\n",
       "    </tr>\n",
       "    <tr>\n",
       "      <th>1</th>\n",
       "      <td>chr10</td>\n",
       "      <td>-</td>\n",
       "      <td>48725</td>\n",
       "      <td>48803</td>\n",
       "      <td>1</td>\n",
       "    </tr>\n",
       "    <tr>\n",
       "      <th>2</th>\n",
       "      <td>chr10</td>\n",
       "      <td>-</td>\n",
       "      <td>277577</td>\n",
       "      <td>281199</td>\n",
       "      <td>9</td>\n",
       "    </tr>\n",
       "  </tbody>\n",
       "</table>\n",
       "</div>"
      ],
      "text/plain": [
       "     chr strand  junction_start  junction_end  count\n",
       "0  chr10      -           48114         48614      1\n",
       "1  chr10      -           48725         48803      1\n",
       "2  chr10      -          277577        281199      9"
      ]
     },
     "metadata": {},
     "output_type": "display_data"
    },
    {
     "name": "stdout",
     "output_type": "stream",
     "text": [
      "shape table\n",
      "(396650, 5)\n",
      "shape table excluding column count\n",
      "(396650, 4)\n",
      "shape table excluding column count, chr\n",
      "(396510, 3)\n",
      "shape table excluding column count, strand\n",
      "(396405, 3)\n",
      "shape table excluding column count, strand, chr\n",
      "(396265, 2)\n"
     ]
    }
   ],
   "source": [
    "# Initial analysis of unique junctions\n",
    "print(path_jx_unfiltered)\n",
    "unique_junctions_df(df_jx_unfiltered)\n",
    "print(path_jx_conf2)\n",
    "unique_junctions_df(df_jx_conf2)"
   ]
  },
  {
   "cell_type": "code",
   "execution_count": null,
   "id": "806ea251",
   "metadata": {},
   "outputs": [],
   "source": []
  },
  {
   "cell_type": "markdown",
   "id": "470205ea",
   "metadata": {},
   "source": [
    "# Graph ALL Genes"
   ]
  },
  {
   "cell_type": "code",
   "execution_count": null,
   "id": "da13fe48",
   "metadata": {},
   "outputs": [],
   "source": [
    "# Load graph\n",
    "graph, meta = pickle.load(open(splice_path, 'rb'))"
   ]
  },
  {
   "cell_type": "code",
   "execution_count": null,
   "id": "1a31722c",
   "metadata": {},
   "outputs": [],
   "source": [
    "# Load count file \n",
    "h5f = h5py.File(count_path, 'r')\n",
    "print(h5f.keys())\n",
    "for k in h5f.keys():\n",
    "    print(k)\n",
    "    print(h5f[k].shape)\n",
    "    # Subset sample\n",
    "    sample_id = [i for i, j in enumerate(h5f['strains']) if j.decode() == sample_name][0]\n",
    "    edge_expr_sample = h5f['edges'][:, sample_id]\n"
   ]
  },
  {
   "cell_type": "code",
   "execution_count": null,
   "id": "14456bae",
   "metadata": {},
   "outputs": [],
   "source": [
    "prepare_df = []\n",
    "\n",
    "for idx, gene in enumerate(graph):\n",
    "    if idx % 1000 == 0:\n",
    "        print(idx)\n",
    "    gene.from_sparse()\n",
    "\n",
    "    # Graph segment graph indexes and coord\n",
    "    seg_graph_index = np.array([(a,b) for a, b in zip(np.where(gene.segmentgraph.seg_edges)[0],\n",
    "                                                   np.where(gene.segmentgraph.seg_edges)[1])])\n",
    "    segms_gene = [(gene.segmentgraph.segments[1][i], gene.segmentgraph.segments[0][j]) \n",
    "                  for i, j in seg_graph_index]\n",
    "\n",
    "    # Count file gene ID\n",
    "    gene_hd5_id = idx #[i for i, j in enumerate(h5f['gene_names'][:, 0]) if j.decode() == gene.name][0] \n",
    "    # Count file edges index\n",
    "    edges_index_gene = np.where(h5f['gene_ids_edges'][:, 0] == gene_hd5_id)[0]\n",
    "    # Count file get expression vector \n",
    "    edge_expr_sample_gene = edge_expr_sample[edges_index_gene]\n",
    "\n",
    "\n",
    "    # Create data frame with the junction positions and the expression\n",
    "    all_junctions_coord_with_expr = [[jx[0], jx[1], expr] \n",
    "                          for jx, expr in zip(segms_gene, edge_expr_sample_gene)]\n",
    "    all_expr_df_graph = pd.DataFrame(all_junctions_coord_with_expr, \n",
    "                                     columns = ['junction_start', 'junction_end', 'count_graph'])\n",
    "    all_expr_df_graph = all_expr_df_graph.drop_duplicates()\n",
    "    all_expr_df_graph['gene_graph'] = gene.name\n",
    "    all_expr_df_graph['strand_graph'] = gene.strand\n",
    "    \n",
    "    prepare_df.append(all_expr_df_graph)"
   ]
  },
  {
   "cell_type": "code",
   "execution_count": null,
   "id": "51e8fc91",
   "metadata": {},
   "outputs": [],
   "source": [
    "# Merge\n",
    "all_expr_df_graph = pd.concat(prepare_df)\n",
    "\n",
    "print(all_expr_df_graph.shape)\n",
    "\n",
    "display(all_expr_df_graph.head())"
   ]
  },
  {
   "cell_type": "code",
   "execution_count": null,
   "id": "d7acb341",
   "metadata": {},
   "outputs": [],
   "source": [
    "# Save \n",
    "all_expr_df_graph.to_csv(output_path, sep = '\\t', index=None, compression='gzip')\n",
    "print(output_path)"
   ]
  },
  {
   "cell_type": "code",
   "execution_count": null,
   "id": "07c2ae19",
   "metadata": {},
   "outputs": [],
   "source": [
    "# CLOSE count file\n",
    "h5f.close()"
   ]
  },
  {
   "cell_type": "markdown",
   "id": "4931ee1e",
   "metadata": {},
   "source": [
    "# Merge"
   ]
  },
  {
   "cell_type": "code",
   "execution_count": 32,
   "id": "35e015e6",
   "metadata": {},
   "outputs": [],
   "source": [
    "# TODO - DO TWO MERGES FOR EACH OF THE SPLADDER FILES FILES.."
   ]
  },
  {
   "cell_type": "code",
   "execution_count": 33,
   "id": "e8f3503a",
   "metadata": {},
   "outputs": [
    {
     "name": "stdout",
     "output_type": "stream",
     "text": [
      "(1979609, 5)\n"
     ]
    },
    {
     "data": {
      "text/html": [
       "<div>\n",
       "<style scoped>\n",
       "    .dataframe tbody tr th:only-of-type {\n",
       "        vertical-align: middle;\n",
       "    }\n",
       "\n",
       "    .dataframe tbody tr th {\n",
       "        vertical-align: top;\n",
       "    }\n",
       "\n",
       "    .dataframe thead th {\n",
       "        text-align: right;\n",
       "    }\n",
       "</style>\n",
       "<table border=\"1\" class=\"dataframe\">\n",
       "  <thead>\n",
       "    <tr style=\"text-align: right;\">\n",
       "      <th></th>\n",
       "      <th>junction_start</th>\n",
       "      <th>junction_end</th>\n",
       "      <th>count_graph</th>\n",
       "      <th>gene_graph</th>\n",
       "      <th>strand_graph</th>\n",
       "    </tr>\n",
       "  </thead>\n",
       "  <tbody>\n",
       "    <tr>\n",
       "      <th>0</th>\n",
       "      <td>11211</td>\n",
       "      <td>12009</td>\n",
       "      <td>0.0</td>\n",
       "      <td>ENSG00000223972.5</td>\n",
       "      <td>+</td>\n",
       "    </tr>\n",
       "    <tr>\n",
       "      <th>1</th>\n",
       "      <td>11671</td>\n",
       "      <td>12009</td>\n",
       "      <td>0.0</td>\n",
       "      <td>ENSG00000223972.5</td>\n",
       "      <td>+</td>\n",
       "    </tr>\n",
       "    <tr>\n",
       "      <th>2</th>\n",
       "      <td>11844</td>\n",
       "      <td>12009</td>\n",
       "      <td>0.0</td>\n",
       "      <td>ENSG00000223972.5</td>\n",
       "      <td>+</td>\n",
       "    </tr>\n",
       "    <tr>\n",
       "      <th>3</th>\n",
       "      <td>12057</td>\n",
       "      <td>12178</td>\n",
       "      <td>0.0</td>\n",
       "      <td>ENSG00000223972.5</td>\n",
       "      <td>+</td>\n",
       "    </tr>\n",
       "    <tr>\n",
       "      <th>4</th>\n",
       "      <td>12227</td>\n",
       "      <td>12496</td>\n",
       "      <td>0.0</td>\n",
       "      <td>ENSG00000223972.5</td>\n",
       "      <td>+</td>\n",
       "    </tr>\n",
       "  </tbody>\n",
       "</table>\n",
       "</div>"
      ],
      "text/plain": [
       "   junction_start  junction_end  count_graph         gene_graph strand_graph\n",
       "0           11211         12009          0.0  ENSG00000223972.5            +\n",
       "1           11671         12009          0.0  ENSG00000223972.5            +\n",
       "2           11844         12009          0.0  ENSG00000223972.5            +\n",
       "3           12057         12178          0.0  ENSG00000223972.5            +\n",
       "4           12227         12496          0.0  ENSG00000223972.5            +"
      ]
     },
     "metadata": {},
     "output_type": "display_data"
    }
   ],
   "source": [
    "#Load \n",
    "all_expr_df_graph = pd.read_csv(output_path, sep = '\\t')\n",
    "print(all_expr_df_graph.shape)\n",
    "\n",
    "display(all_expr_df_graph.head())"
   ]
  },
  {
   "cell_type": "code",
   "execution_count": 34,
   "id": "7fdf9153",
   "metadata": {},
   "outputs": [],
   "source": [
    "# Merge Spladder junctions to Graph Junctions\n",
    "df_spladder_junctions = df_spladder_junctions.rename({'count': 'count_tsv_spladder'}, axis = 1)\n",
    "df_spladder_junctions = df_spladder_junctions.rename({'strand': 'strand_tsv_spladder'}, axis = 1)\n",
    "df_spladder_junctions = df_spladder_junctions.rename({'chr': 'chr_tsv_spladder'}, axis = 1)\n",
    "merged_df = all_expr_df_graph.merge(df_spladder_junctions, \n",
    "                                    on = ['junction_start', 'junction_end'], how = 'outer')"
   ]
  },
  {
   "cell_type": "code",
   "execution_count": 35,
   "id": "a9960e19",
   "metadata": {},
   "outputs": [
    {
     "data": {
      "text/html": [
       "<div>\n",
       "<style scoped>\n",
       "    .dataframe tbody tr th:only-of-type {\n",
       "        vertical-align: middle;\n",
       "    }\n",
       "\n",
       "    .dataframe tbody tr th {\n",
       "        vertical-align: top;\n",
       "    }\n",
       "\n",
       "    .dataframe thead th {\n",
       "        text-align: right;\n",
       "    }\n",
       "</style>\n",
       "<table border=\"1\" class=\"dataframe\">\n",
       "  <thead>\n",
       "    <tr style=\"text-align: right;\">\n",
       "      <th></th>\n",
       "      <th>junction_start</th>\n",
       "      <th>junction_end</th>\n",
       "      <th>count_graph</th>\n",
       "      <th>gene_graph</th>\n",
       "      <th>strand_graph</th>\n",
       "      <th>chr_tsv_spladder</th>\n",
       "      <th>strand_tsv_spladder</th>\n",
       "      <th>count_tsv_spladder</th>\n",
       "    </tr>\n",
       "  </thead>\n",
       "  <tbody>\n",
       "    <tr>\n",
       "      <th>0</th>\n",
       "      <td>11211</td>\n",
       "      <td>12009</td>\n",
       "      <td>0.0</td>\n",
       "      <td>ENSG00000223972.5</td>\n",
       "      <td>+</td>\n",
       "      <td>NaN</td>\n",
       "      <td>NaN</td>\n",
       "      <td>NaN</td>\n",
       "    </tr>\n",
       "    <tr>\n",
       "      <th>1</th>\n",
       "      <td>11671</td>\n",
       "      <td>12009</td>\n",
       "      <td>0.0</td>\n",
       "      <td>ENSG00000223972.5</td>\n",
       "      <td>+</td>\n",
       "      <td>NaN</td>\n",
       "      <td>NaN</td>\n",
       "      <td>NaN</td>\n",
       "    </tr>\n",
       "    <tr>\n",
       "      <th>2</th>\n",
       "      <td>11844</td>\n",
       "      <td>12009</td>\n",
       "      <td>0.0</td>\n",
       "      <td>ENSG00000223972.5</td>\n",
       "      <td>+</td>\n",
       "      <td>NaN</td>\n",
       "      <td>NaN</td>\n",
       "      <td>NaN</td>\n",
       "    </tr>\n",
       "    <tr>\n",
       "      <th>3</th>\n",
       "      <td>12057</td>\n",
       "      <td>12178</td>\n",
       "      <td>0.0</td>\n",
       "      <td>ENSG00000223972.5</td>\n",
       "      <td>+</td>\n",
       "      <td>NaN</td>\n",
       "      <td>NaN</td>\n",
       "      <td>NaN</td>\n",
       "    </tr>\n",
       "    <tr>\n",
       "      <th>4</th>\n",
       "      <td>12227</td>\n",
       "      <td>12496</td>\n",
       "      <td>0.0</td>\n",
       "      <td>ENSG00000223972.5</td>\n",
       "      <td>+</td>\n",
       "      <td>NaN</td>\n",
       "      <td>NaN</td>\n",
       "      <td>NaN</td>\n",
       "    </tr>\n",
       "  </tbody>\n",
       "</table>\n",
       "</div>"
      ],
      "text/plain": [
       "   junction_start  junction_end  count_graph         gene_graph strand_graph  \\\n",
       "0           11211         12009          0.0  ENSG00000223972.5            +   \n",
       "1           11671         12009          0.0  ENSG00000223972.5            +   \n",
       "2           11844         12009          0.0  ENSG00000223972.5            +   \n",
       "3           12057         12178          0.0  ENSG00000223972.5            +   \n",
       "4           12227         12496          0.0  ENSG00000223972.5            +   \n",
       "\n",
       "  chr_tsv_spladder strand_tsv_spladder  count_tsv_spladder  \n",
       "0              NaN                 NaN                 NaN  \n",
       "1              NaN                 NaN                 NaN  \n",
       "2              NaN                 NaN                 NaN  \n",
       "3              NaN                 NaN                 NaN  \n",
       "4              NaN                 NaN                 NaN  "
      ]
     },
     "execution_count": 35,
     "metadata": {},
     "output_type": "execute_result"
    }
   ],
   "source": [
    "merged_df.head()"
   ]
  },
  {
   "cell_type": "code",
   "execution_count": 36,
   "id": "73a7ce51",
   "metadata": {},
   "outputs": [
    {
     "data": {
      "text/html": [
       "<div>\n",
       "<style scoped>\n",
       "    .dataframe tbody tr th:only-of-type {\n",
       "        vertical-align: middle;\n",
       "    }\n",
       "\n",
       "    .dataframe tbody tr th {\n",
       "        vertical-align: top;\n",
       "    }\n",
       "\n",
       "    .dataframe thead th {\n",
       "        text-align: right;\n",
       "    }\n",
       "</style>\n",
       "<table border=\"1\" class=\"dataframe\">\n",
       "  <thead>\n",
       "    <tr style=\"text-align: right;\">\n",
       "      <th></th>\n",
       "      <th>junction_start</th>\n",
       "      <th>junction_end</th>\n",
       "      <th>count_graph</th>\n",
       "      <th>gene_graph</th>\n",
       "      <th>strand_graph</th>\n",
       "    </tr>\n",
       "  </thead>\n",
       "  <tbody>\n",
       "    <tr>\n",
       "      <th>0</th>\n",
       "      <td>11211</td>\n",
       "      <td>12009</td>\n",
       "      <td>0.0</td>\n",
       "      <td>ENSG00000223972.5</td>\n",
       "      <td>+</td>\n",
       "    </tr>\n",
       "    <tr>\n",
       "      <th>1</th>\n",
       "      <td>11671</td>\n",
       "      <td>12009</td>\n",
       "      <td>0.0</td>\n",
       "      <td>ENSG00000223972.5</td>\n",
       "      <td>+</td>\n",
       "    </tr>\n",
       "    <tr>\n",
       "      <th>2</th>\n",
       "      <td>11844</td>\n",
       "      <td>12009</td>\n",
       "      <td>0.0</td>\n",
       "      <td>ENSG00000223972.5</td>\n",
       "      <td>+</td>\n",
       "    </tr>\n",
       "    <tr>\n",
       "      <th>3</th>\n",
       "      <td>12057</td>\n",
       "      <td>12178</td>\n",
       "      <td>0.0</td>\n",
       "      <td>ENSG00000223972.5</td>\n",
       "      <td>+</td>\n",
       "    </tr>\n",
       "    <tr>\n",
       "      <th>4</th>\n",
       "      <td>12227</td>\n",
       "      <td>12496</td>\n",
       "      <td>0.0</td>\n",
       "      <td>ENSG00000223972.5</td>\n",
       "      <td>+</td>\n",
       "    </tr>\n",
       "  </tbody>\n",
       "</table>\n",
       "</div>"
      ],
      "text/plain": [
       "   junction_start  junction_end  count_graph         gene_graph strand_graph\n",
       "0           11211         12009          0.0  ENSG00000223972.5            +\n",
       "1           11671         12009          0.0  ENSG00000223972.5            +\n",
       "2           11844         12009          0.0  ENSG00000223972.5            +\n",
       "3           12057         12178          0.0  ENSG00000223972.5            +\n",
       "4           12227         12496          0.0  ENSG00000223972.5            +"
      ]
     },
     "execution_count": 36,
     "metadata": {},
     "output_type": "execute_result"
    }
   ],
   "source": [
    "all_expr_df_graph.head()"
   ]
  },
  {
   "cell_type": "code",
   "execution_count": 37,
   "id": "79f0c438",
   "metadata": {},
   "outputs": [
    {
     "name": "stdout",
     "output_type": "stream",
     "text": [
      "spladder junctions tsv (485934, 5)\n",
      "graph (1979609, 5)\n"
     ]
    },
    {
     "data": {
      "text/html": [
       "<div>\n",
       "<style scoped>\n",
       "    .dataframe tbody tr th:only-of-type {\n",
       "        vertical-align: middle;\n",
       "    }\n",
       "\n",
       "    .dataframe tbody tr th {\n",
       "        vertical-align: top;\n",
       "    }\n",
       "\n",
       "    .dataframe thead th {\n",
       "        text-align: right;\n",
       "    }\n",
       "</style>\n",
       "<table border=\"1\" class=\"dataframe\">\n",
       "  <thead>\n",
       "    <tr style=\"text-align: right;\">\n",
       "      <th></th>\n",
       "      <th>junction_start</th>\n",
       "      <th>junction_end</th>\n",
       "      <th>count_graph</th>\n",
       "      <th>gene_graph</th>\n",
       "      <th>strand_graph</th>\n",
       "      <th>chr_tsv_spladder</th>\n",
       "      <th>strand_tsv_spladder</th>\n",
       "      <th>count_tsv_spladder</th>\n",
       "    </tr>\n",
       "  </thead>\n",
       "  <tbody>\n",
       "    <tr>\n",
       "      <th>0</th>\n",
       "      <td>11211</td>\n",
       "      <td>12009</td>\n",
       "      <td>0.0</td>\n",
       "      <td>ENSG00000223972.5</td>\n",
       "      <td>+</td>\n",
       "      <td>NaN</td>\n",
       "      <td>NaN</td>\n",
       "      <td>NaN</td>\n",
       "    </tr>\n",
       "    <tr>\n",
       "      <th>1</th>\n",
       "      <td>11671</td>\n",
       "      <td>12009</td>\n",
       "      <td>0.0</td>\n",
       "      <td>ENSG00000223972.5</td>\n",
       "      <td>+</td>\n",
       "      <td>NaN</td>\n",
       "      <td>NaN</td>\n",
       "      <td>NaN</td>\n",
       "    </tr>\n",
       "    <tr>\n",
       "      <th>2</th>\n",
       "      <td>11844</td>\n",
       "      <td>12009</td>\n",
       "      <td>0.0</td>\n",
       "      <td>ENSG00000223972.5</td>\n",
       "      <td>+</td>\n",
       "      <td>NaN</td>\n",
       "      <td>NaN</td>\n",
       "      <td>NaN</td>\n",
       "    </tr>\n",
       "    <tr>\n",
       "      <th>3</th>\n",
       "      <td>12057</td>\n",
       "      <td>12178</td>\n",
       "      <td>0.0</td>\n",
       "      <td>ENSG00000223972.5</td>\n",
       "      <td>+</td>\n",
       "      <td>NaN</td>\n",
       "      <td>NaN</td>\n",
       "      <td>NaN</td>\n",
       "    </tr>\n",
       "    <tr>\n",
       "      <th>4</th>\n",
       "      <td>12227</td>\n",
       "      <td>12496</td>\n",
       "      <td>0.0</td>\n",
       "      <td>ENSG00000223972.5</td>\n",
       "      <td>+</td>\n",
       "      <td>NaN</td>\n",
       "      <td>NaN</td>\n",
       "      <td>NaN</td>\n",
       "    </tr>\n",
       "  </tbody>\n",
       "</table>\n",
       "</div>"
      ],
      "text/plain": [
       "   junction_start  junction_end  count_graph         gene_graph strand_graph  \\\n",
       "0           11211         12009          0.0  ENSG00000223972.5            +   \n",
       "1           11671         12009          0.0  ENSG00000223972.5            +   \n",
       "2           11844         12009          0.0  ENSG00000223972.5            +   \n",
       "3           12057         12178          0.0  ENSG00000223972.5            +   \n",
       "4           12227         12496          0.0  ENSG00000223972.5            +   \n",
       "\n",
       "  chr_tsv_spladder strand_tsv_spladder  count_tsv_spladder  \n",
       "0              NaN                 NaN                 NaN  \n",
       "1              NaN                 NaN                 NaN  \n",
       "2              NaN                 NaN                 NaN  \n",
       "3              NaN                 NaN                 NaN  \n",
       "4              NaN                 NaN                 NaN  "
      ]
     },
     "metadata": {},
     "output_type": "display_data"
    },
    {
     "name": "stdout",
     "output_type": "stream",
     "text": [
      "merged (2158986, 8)\n",
      "(2158986, 8)\n"
     ]
    }
   ],
   "source": [
    "print('spladder junctions tsv', df_spladder_junctions.shape)\n",
    "print('graph', all_expr_df_graph.shape)\n",
    "display(merged_df.head())\n",
    "\n",
    "print('merged', merged_df.shape)\n",
    "print(merged_df.drop_duplicates().shape)\n"
   ]
  },
  {
   "cell_type": "markdown",
   "id": "b132d98d",
   "metadata": {},
   "source": [
    "# Visualisation "
   ]
  },
  {
   "cell_type": "code",
   "execution_count": 79,
   "id": "2436fcad",
   "metadata": {},
   "outputs": [
    {
     "name": "stdout",
     "output_type": "stream",
     "text": [
      "(2149521, 2)\n"
     ]
    }
   ],
   "source": [
    "print(merged_df.loc[(~ merged_df['count_graph'].isna()) | (~ merged_df['count_tsv_spladder'].isna()), \n",
    "                ['junction_start', 'junction_end']].drop_duplicates().shape)"
   ]
  },
  {
   "cell_type": "code",
   "execution_count": 80,
   "id": "560be452",
   "metadata": {},
   "outputs": [
    {
     "data": {
      "text/html": [
       "<div>\n",
       "<style scoped>\n",
       "    .dataframe tbody tr th:only-of-type {\n",
       "        vertical-align: middle;\n",
       "    }\n",
       "\n",
       "    .dataframe tbody tr th {\n",
       "        vertical-align: top;\n",
       "    }\n",
       "\n",
       "    .dataframe thead th {\n",
       "        text-align: right;\n",
       "    }\n",
       "</style>\n",
       "<table border=\"1\" class=\"dataframe\">\n",
       "  <thead>\n",
       "    <tr style=\"text-align: right;\">\n",
       "      <th></th>\n",
       "      <th>junction_start</th>\n",
       "      <th>junction_end</th>\n",
       "      <th>count_graph</th>\n",
       "      <th>gene_graph</th>\n",
       "      <th>strand_graph</th>\n",
       "      <th>chr_tsv_spladder</th>\n",
       "      <th>strand_tsv_spladder</th>\n",
       "      <th>count_tsv_spladder</th>\n",
       "    </tr>\n",
       "  </thead>\n",
       "  <tbody>\n",
       "    <tr>\n",
       "      <th>4592</th>\n",
       "      <td>1312846</td>\n",
       "      <td>1313039</td>\n",
       "      <td>0.0</td>\n",
       "      <td>ENSG00000127054.20</td>\n",
       "      <td>-</td>\n",
       "      <td>chr1</td>\n",
       "      <td>+</td>\n",
       "      <td>2.0</td>\n",
       "    </tr>\n",
       "    <tr>\n",
       "      <th>11385</th>\n",
       "      <td>2590733</td>\n",
       "      <td>2590933</td>\n",
       "      <td>0.0</td>\n",
       "      <td>ENSG00000157870.16</td>\n",
       "      <td>+</td>\n",
       "      <td>chr1</td>\n",
       "      <td>-</td>\n",
       "      <td>1.0</td>\n",
       "    </tr>\n",
       "    <tr>\n",
       "      <th>17887</th>\n",
       "      <td>8862939</td>\n",
       "      <td>8865294</td>\n",
       "      <td>0.0</td>\n",
       "      <td>ENSG00000074800.16</td>\n",
       "      <td>-</td>\n",
       "      <td>chr1</td>\n",
       "      <td>+</td>\n",
       "      <td>1.0</td>\n",
       "    </tr>\n",
       "  </tbody>\n",
       "</table>\n",
       "</div>"
      ],
      "text/plain": [
       "       junction_start  junction_end  count_graph          gene_graph  \\\n",
       "4592          1312846       1313039          0.0  ENSG00000127054.20   \n",
       "11385         2590733       2590933          0.0  ENSG00000157870.16   \n",
       "17887         8862939       8865294          0.0  ENSG00000074800.16   \n",
       "\n",
       "      strand_graph chr_tsv_spladder strand_tsv_spladder  count_tsv_spladder  \n",
       "4592             -             chr1                   +                 2.0  \n",
       "11385            +             chr1                   -                 1.0  \n",
       "17887            -             chr1                   +                 1.0  "
      ]
     },
     "metadata": {},
     "output_type": "display_data"
    },
    {
     "name": "stdout",
     "output_type": "stream",
     "text": [
      "(434, 8)\n"
     ]
    },
    {
     "data": {
      "text/html": [
       "<div>\n",
       "<style scoped>\n",
       "    .dataframe tbody tr th:only-of-type {\n",
       "        vertical-align: middle;\n",
       "    }\n",
       "\n",
       "    .dataframe tbody tr th {\n",
       "        vertical-align: top;\n",
       "    }\n",
       "\n",
       "    .dataframe thead th {\n",
       "        text-align: right;\n",
       "    }\n",
       "</style>\n",
       "<table border=\"1\" class=\"dataframe\">\n",
       "  <thead>\n",
       "    <tr style=\"text-align: right;\">\n",
       "      <th></th>\n",
       "      <th>junction_start</th>\n",
       "      <th>junction_end</th>\n",
       "      <th>count_graph</th>\n",
       "      <th>gene_graph</th>\n",
       "      <th>strand_graph</th>\n",
       "      <th>chr_tsv_spladder</th>\n",
       "      <th>strand_tsv_spladder</th>\n",
       "      <th>count_tsv_spladder</th>\n",
       "    </tr>\n",
       "  </thead>\n",
       "  <tbody>\n",
       "  </tbody>\n",
       "</table>\n",
       "</div>"
      ],
      "text/plain": [
       "Empty DataFrame\n",
       "Columns: [junction_start, junction_end, count_graph, gene_graph, strand_graph, chr_tsv_spladder, strand_tsv_spladder, count_tsv_spladder]\n",
       "Index: []"
      ]
     },
     "metadata": {},
     "output_type": "display_data"
    },
    {
     "name": "stdout",
     "output_type": "stream",
     "text": [
      "(0, 8)\n"
     ]
    }
   ],
   "source": [
    "# One is assigned 0 expression and the other one is assigned a higher expression\n",
    "merged_df_not_NAs = merged_df[(~ merged_df['count_graph'].isna()) & (~ merged_df['count_tsv_spladder'].isna())]\n",
    "divergence_1 = merged_df_not_NAs[     (merged_df_not_NAs['count_graph'] == 0 ) \n",
    "                                    &  (merged_df_not_NAs['count_tsv_spladder']!= 0 ) ]\n",
    "display(divergence_1.head(3))\n",
    "print(divergence_1.shape)\n",
    "divergence_1_shape = divergence_1[['junction_start', 'junction_end']].drop_duplicates().shape[0]\n",
    "\n",
    "\n",
    "divergence_2 = merged_df_not_NAs[     (merged_df_not_NAs['count_tsv_spladder'] == 0 ) \n",
    "                                    &  (merged_df_not_NAs['count_graph']!= 0 ) ]\n",
    "display(divergence_2.head(3))\n",
    "print(divergence_2.shape)\n",
    "divergence_2_shape = divergence_2[['junction_start', 'junction_end']].drop_duplicates().shape[0]"
   ]
  },
  {
   "cell_type": "code",
   "execution_count": 81,
   "id": "04aee72e",
   "metadata": {},
   "outputs": [
    {
     "data": {
      "text/html": [
       "<div>\n",
       "<style scoped>\n",
       "    .dataframe tbody tr th:only-of-type {\n",
       "        vertical-align: middle;\n",
       "    }\n",
       "\n",
       "    .dataframe tbody tr th {\n",
       "        vertical-align: top;\n",
       "    }\n",
       "\n",
       "    .dataframe thead th {\n",
       "        text-align: right;\n",
       "    }\n",
       "</style>\n",
       "<table border=\"1\" class=\"dataframe\">\n",
       "  <thead>\n",
       "    <tr style=\"text-align: right;\">\n",
       "      <th></th>\n",
       "      <th>junction_start</th>\n",
       "      <th>junction_end</th>\n",
       "      <th>count_graph</th>\n",
       "      <th>gene_graph</th>\n",
       "      <th>strand_graph</th>\n",
       "      <th>chr_tsv_spladder</th>\n",
       "      <th>strand_tsv_spladder</th>\n",
       "      <th>count_tsv_spladder</th>\n",
       "    </tr>\n",
       "  </thead>\n",
       "  <tbody>\n",
       "  </tbody>\n",
       "</table>\n",
       "</div>"
      ],
      "text/plain": [
       "Empty DataFrame\n",
       "Columns: [junction_start, junction_end, count_graph, gene_graph, strand_graph, chr_tsv_spladder, strand_tsv_spladder, count_tsv_spladder]\n",
       "Index: []"
      ]
     },
     "execution_count": 81,
     "metadata": {},
     "output_type": "execute_result"
    }
   ],
   "source": [
    "# BOTH ARE NAs\n",
    "merged_df.loc[ ( merged_df['count_graph'].isna())  &\n",
    "               ( merged_df['count_tsv_spladder'].isna() )]"
   ]
  },
  {
   "cell_type": "code",
   "execution_count": 82,
   "id": "be2df9c6",
   "metadata": {},
   "outputs": [
    {
     "name": "stdout",
     "output_type": "stream",
     "text": [
      "(492884, 8)\n"
     ]
    },
    {
     "data": {
      "text/html": [
       "<div>\n",
       "<style scoped>\n",
       "    .dataframe tbody tr th:only-of-type {\n",
       "        vertical-align: middle;\n",
       "    }\n",
       "\n",
       "    .dataframe tbody tr th {\n",
       "        vertical-align: top;\n",
       "    }\n",
       "\n",
       "    .dataframe thead th {\n",
       "        text-align: right;\n",
       "    }\n",
       "</style>\n",
       "<table border=\"1\" class=\"dataframe\">\n",
       "  <thead>\n",
       "    <tr style=\"text-align: right;\">\n",
       "      <th></th>\n",
       "      <th>junction_start</th>\n",
       "      <th>junction_end</th>\n",
       "      <th>count_graph</th>\n",
       "      <th>gene_graph</th>\n",
       "      <th>strand_graph</th>\n",
       "      <th>chr_tsv_spladder</th>\n",
       "      <th>strand_tsv_spladder</th>\n",
       "      <th>count_tsv_spladder</th>\n",
       "    </tr>\n",
       "  </thead>\n",
       "  <tbody>\n",
       "    <tr>\n",
       "      <th>10</th>\n",
       "      <td>12721</td>\n",
       "      <td>13220</td>\n",
       "      <td>1.0</td>\n",
       "      <td>ENSG00000223972.5</td>\n",
       "      <td>+</td>\n",
       "      <td>chr1</td>\n",
       "      <td>+</td>\n",
       "      <td>1.0</td>\n",
       "    </tr>\n",
       "    <tr>\n",
       "      <th>31</th>\n",
       "      <td>14829</td>\n",
       "      <td>14969</td>\n",
       "      <td>104.0</td>\n",
       "      <td>ENSG00000227232.5</td>\n",
       "      <td>-</td>\n",
       "      <td>chr1</td>\n",
       "      <td>-</td>\n",
       "      <td>104.0</td>\n",
       "    </tr>\n",
       "    <tr>\n",
       "      <th>40</th>\n",
       "      <td>15038</td>\n",
       "      <td>15795</td>\n",
       "      <td>15.0</td>\n",
       "      <td>ENSG00000227232.5</td>\n",
       "      <td>-</td>\n",
       "      <td>chr1</td>\n",
       "      <td>-</td>\n",
       "      <td>15.0</td>\n",
       "    </tr>\n",
       "  </tbody>\n",
       "</table>\n",
       "</div>"
      ],
      "text/plain": [
       "    junction_start  junction_end  count_graph         gene_graph strand_graph  \\\n",
       "10           12721         13220          1.0  ENSG00000223972.5            +   \n",
       "31           14829         14969        104.0  ENSG00000227232.5            -   \n",
       "40           15038         15795         15.0  ENSG00000227232.5            -   \n",
       "\n",
       "   chr_tsv_spladder strand_tsv_spladder  count_tsv_spladder  \n",
       "10             chr1                   +                 1.0  \n",
       "31             chr1                   -               104.0  \n",
       "40             chr1                   -                15.0  "
      ]
     },
     "metadata": {},
     "output_type": "display_data"
    }
   ],
   "source": [
    "# Expressed in any of the two files\n",
    "union = merged_df.loc[ ( (~ merged_df['count_graph'].isna()) & merged_df['count_graph'] != 0) |\n",
    "              (  (~ merged_df['count_tsv_spladder'].isna()) &  merged_df['count_tsv_spladder']!= 0 )]\n",
    "print(union.shape)\n",
    "display(union.head(3))\n",
    "union_shape = union[['junction_start', 'junction_end']].drop_duplicates().shape[0]"
   ]
  },
  {
   "cell_type": "code",
   "execution_count": 83,
   "id": "7abcd8d8",
   "metadata": {
    "scrolled": true
   },
   "outputs": [
    {
     "name": "stdout",
     "output_type": "stream",
     "text": [
      "(313523, 8)\n"
     ]
    },
    {
     "data": {
      "text/html": [
       "<div>\n",
       "<style scoped>\n",
       "    .dataframe tbody tr th:only-of-type {\n",
       "        vertical-align: middle;\n",
       "    }\n",
       "\n",
       "    .dataframe tbody tr th {\n",
       "        vertical-align: top;\n",
       "    }\n",
       "\n",
       "    .dataframe thead th {\n",
       "        text-align: right;\n",
       "    }\n",
       "</style>\n",
       "<table border=\"1\" class=\"dataframe\">\n",
       "  <thead>\n",
       "    <tr style=\"text-align: right;\">\n",
       "      <th></th>\n",
       "      <th>junction_start</th>\n",
       "      <th>junction_end</th>\n",
       "      <th>count_graph</th>\n",
       "      <th>gene_graph</th>\n",
       "      <th>strand_graph</th>\n",
       "      <th>chr_tsv_spladder</th>\n",
       "      <th>strand_tsv_spladder</th>\n",
       "      <th>count_tsv_spladder</th>\n",
       "    </tr>\n",
       "  </thead>\n",
       "  <tbody>\n",
       "    <tr>\n",
       "      <th>10</th>\n",
       "      <td>12721</td>\n",
       "      <td>13220</td>\n",
       "      <td>1.0</td>\n",
       "      <td>ENSG00000223972.5</td>\n",
       "      <td>+</td>\n",
       "      <td>chr1</td>\n",
       "      <td>+</td>\n",
       "      <td>1.0</td>\n",
       "    </tr>\n",
       "    <tr>\n",
       "      <th>31</th>\n",
       "      <td>14829</td>\n",
       "      <td>14969</td>\n",
       "      <td>104.0</td>\n",
       "      <td>ENSG00000227232.5</td>\n",
       "      <td>-</td>\n",
       "      <td>chr1</td>\n",
       "      <td>-</td>\n",
       "      <td>104.0</td>\n",
       "    </tr>\n",
       "    <tr>\n",
       "      <th>40</th>\n",
       "      <td>15038</td>\n",
       "      <td>15795</td>\n",
       "      <td>15.0</td>\n",
       "      <td>ENSG00000227232.5</td>\n",
       "      <td>-</td>\n",
       "      <td>chr1</td>\n",
       "      <td>-</td>\n",
       "      <td>15.0</td>\n",
       "    </tr>\n",
       "  </tbody>\n",
       "</table>\n",
       "</div>"
      ],
      "text/plain": [
       "    junction_start  junction_end  count_graph         gene_graph strand_graph  \\\n",
       "10           12721         13220          1.0  ENSG00000223972.5            +   \n",
       "31           14829         14969        104.0  ENSG00000227232.5            -   \n",
       "40           15038         15795         15.0  ENSG00000227232.5            -   \n",
       "\n",
       "   chr_tsv_spladder strand_tsv_spladder  count_tsv_spladder  \n",
       "10             chr1                   +                 1.0  \n",
       "31             chr1                   -               104.0  \n",
       "40             chr1                   -                15.0  "
      ]
     },
     "metadata": {},
     "output_type": "display_data"
    }
   ],
   "source": [
    "# Expressed in both files\n",
    "inter = merged_df.loc[ ( (~ merged_df['count_graph'].isna()) & merged_df['count_graph'] != 0) &\n",
    "              (  (~ merged_df['count_tsv_spladder'].isna()) &  merged_df['count_tsv_spladder']!= 0 )]\n",
    "print(inter.shape)\n",
    "display(inter.head(3))\n",
    "inter_shape = inter[['junction_start', 'junction_end']].drop_duplicates().shape[0]"
   ]
  },
  {
   "cell_type": "code",
   "execution_count": 84,
   "id": "1b50afc8",
   "metadata": {},
   "outputs": [
    {
     "name": "stdout",
     "output_type": "stream",
     "text": [
      "(178927, 8)\n"
     ]
    },
    {
     "data": {
      "text/html": [
       "<div>\n",
       "<style scoped>\n",
       "    .dataframe tbody tr th:only-of-type {\n",
       "        vertical-align: middle;\n",
       "    }\n",
       "\n",
       "    .dataframe tbody tr th {\n",
       "        vertical-align: top;\n",
       "    }\n",
       "\n",
       "    .dataframe thead th {\n",
       "        text-align: right;\n",
       "    }\n",
       "</style>\n",
       "<table border=\"1\" class=\"dataframe\">\n",
       "  <thead>\n",
       "    <tr style=\"text-align: right;\">\n",
       "      <th></th>\n",
       "      <th>junction_start</th>\n",
       "      <th>junction_end</th>\n",
       "      <th>count_graph</th>\n",
       "      <th>gene_graph</th>\n",
       "      <th>strand_graph</th>\n",
       "      <th>chr_tsv_spladder</th>\n",
       "      <th>strand_tsv_spladder</th>\n",
       "      <th>count_tsv_spladder</th>\n",
       "    </tr>\n",
       "  </thead>\n",
       "  <tbody>\n",
       "    <tr>\n",
       "      <th>1980059</th>\n",
       "      <td>804360</td>\n",
       "      <td>813084</td>\n",
       "      <td>NaN</td>\n",
       "      <td>NaN</td>\n",
       "      <td>NaN</td>\n",
       "      <td>chr10</td>\n",
       "      <td>-</td>\n",
       "      <td>12.0</td>\n",
       "    </tr>\n",
       "    <tr>\n",
       "      <th>1980060</th>\n",
       "      <td>817841</td>\n",
       "      <td>825178</td>\n",
       "      <td>NaN</td>\n",
       "      <td>NaN</td>\n",
       "      <td>NaN</td>\n",
       "      <td>chr10</td>\n",
       "      <td>-</td>\n",
       "      <td>1.0</td>\n",
       "    </tr>\n",
       "    <tr>\n",
       "      <th>1980061</th>\n",
       "      <td>885653</td>\n",
       "      <td>1071309</td>\n",
       "      <td>NaN</td>\n",
       "      <td>NaN</td>\n",
       "      <td>NaN</td>\n",
       "      <td>chr10</td>\n",
       "      <td>-</td>\n",
       "      <td>1.0</td>\n",
       "    </tr>\n",
       "  </tbody>\n",
       "</table>\n",
       "</div>"
      ],
      "text/plain": [
       "         junction_start  junction_end  count_graph gene_graph strand_graph  \\\n",
       "1980059          804360        813084          NaN        NaN          NaN   \n",
       "1980060          817841        825178          NaN        NaN          NaN   \n",
       "1980061          885653       1071309          NaN        NaN          NaN   \n",
       "\n",
       "        chr_tsv_spladder strand_tsv_spladder  count_tsv_spladder  \n",
       "1980059            chr10                   -                12.0  \n",
       "1980060            chr10                   -                 1.0  \n",
       "1980061            chr10                   -                 1.0  "
      ]
     },
     "metadata": {},
     "output_type": "display_data"
    }
   ],
   "source": [
    "# Expressed and not present in the other file\n",
    "spladder_counts_only = merged_df.loc[merged_df['count_graph'].isna() & (merged_df['count_tsv_spladder'] != 0 )]\n",
    "print(spladder_counts_only.shape)\n",
    "display(spladder_counts_only.head(3))\n",
    "spladder_counts_only_shape = spladder_counts_only[['junction_start', 'junction_end']].drop_duplicates().shape[0]"
   ]
  },
  {
   "cell_type": "code",
   "execution_count": 85,
   "id": "4c59fa23",
   "metadata": {},
   "outputs": [
    {
     "name": "stdout",
     "output_type": "stream",
     "text": [
      "(0, 8)\n"
     ]
    },
    {
     "data": {
      "text/html": [
       "<div>\n",
       "<style scoped>\n",
       "    .dataframe tbody tr th:only-of-type {\n",
       "        vertical-align: middle;\n",
       "    }\n",
       "\n",
       "    .dataframe tbody tr th {\n",
       "        vertical-align: top;\n",
       "    }\n",
       "\n",
       "    .dataframe thead th {\n",
       "        text-align: right;\n",
       "    }\n",
       "</style>\n",
       "<table border=\"1\" class=\"dataframe\">\n",
       "  <thead>\n",
       "    <tr style=\"text-align: right;\">\n",
       "      <th></th>\n",
       "      <th>junction_start</th>\n",
       "      <th>junction_end</th>\n",
       "      <th>count_graph</th>\n",
       "      <th>gene_graph</th>\n",
       "      <th>strand_graph</th>\n",
       "      <th>chr_tsv_spladder</th>\n",
       "      <th>strand_tsv_spladder</th>\n",
       "      <th>count_tsv_spladder</th>\n",
       "    </tr>\n",
       "  </thead>\n",
       "  <tbody>\n",
       "  </tbody>\n",
       "</table>\n",
       "</div>"
      ],
      "text/plain": [
       "Empty DataFrame\n",
       "Columns: [junction_start, junction_end, count_graph, gene_graph, strand_graph, chr_tsv_spladder, strand_tsv_spladder, count_tsv_spladder]\n",
       "Index: []"
      ]
     },
     "metadata": {},
     "output_type": "display_data"
    }
   ],
   "source": [
    "# Expressed and not present in the other file\n",
    "graph_only =  merged_df.loc[merged_df['count_tsv_spladder'].isna() & (merged_df['count_graph'] != 0 )]\n",
    "print(graph_only.shape)\n",
    "display(graph_only.head())\n",
    "graph_only_shape = graph_only[['junction_start', 'junction_end']].drop_duplicates().shape[0]"
   ]
  },
  {
   "cell_type": "code",
   "execution_count": 86,
   "id": "0ec73455",
   "metadata": {},
   "outputs": [
    {
     "data": {
      "text/plain": [
       "True"
      ]
     },
     "execution_count": 86,
     "metadata": {},
     "output_type": "execute_result"
    }
   ],
   "source": [
    "inter.shape[0] + graph_only.shape[0] + spladder_counts_only.shape[0] \\\n",
    "+ divergence_1.shape[0] + divergence_2.shape[0] == union.shape[0]"
   ]
  },
  {
   "cell_type": "code",
   "execution_count": 91,
   "id": "fc1aec18",
   "metadata": {},
   "outputs": [
    {
     "data": {
      "text/plain": [
       "False"
      ]
     },
     "execution_count": 91,
     "metadata": {},
     "output_type": "execute_result"
    }
   ],
   "source": [
    "inter_shape + graph_only_shape + spladder_counts_only_shape \\\n",
    "+ divergence_1_shape + divergence_2_shape == union_shape"
   ]
  },
  {
   "cell_type": "code",
   "execution_count": 94,
   "id": "936c50da",
   "metadata": {},
   "outputs": [
    {
     "name": "stdout",
     "output_type": "stream",
     "text": [
      "313523\n",
      "0\n",
      "178927\n",
      "434\n",
      "0\n",
      "492884\n"
     ]
    }
   ],
   "source": [
    "print(inter.shape[0])\n",
    "print(graph_only.shape[0] )\n",
    "print(spladder_counts_only.shape[0])\n",
    "print( divergence_1.shape[0])\n",
    "print(divergence_2.shape[0])\n",
    "print(union.shape[0])"
   ]
  },
  {
   "cell_type": "code",
   "execution_count": 93,
   "id": "7a15eb78",
   "metadata": {},
   "outputs": [
    {
     "name": "stdout",
     "output_type": "stream",
     "text": [
      "306390\n",
      "0\n",
      "178537\n",
      "434\n",
      "0\n",
      "485249\n"
     ]
    }
   ],
   "source": [
    "print(inter_shape)\n",
    "print(graph_only_shape)\n",
    "print(spladder_counts_only_shape)\n",
    "print(divergence_1_shape)\n",
    "print(divergence_2_shape)\n",
    "print(union_shape)"
   ]
  },
  {
   "cell_type": "code",
   "execution_count": 101,
   "id": "e7e1f23a",
   "metadata": {},
   "outputs": [
    {
     "data": {
      "text/plain": [
       "322"
      ]
     },
     "execution_count": 101,
     "metadata": {},
     "output_type": "execute_result"
    }
   ],
   "source": [
    "485249 - (306390 + 178537)"
   ]
  },
  {
   "cell_type": "code",
   "execution_count": 92,
   "id": "db618278",
   "metadata": {},
   "outputs": [
    {
     "name": "stdout",
     "output_type": "stream",
     "text": [
      "313523\n",
      "313957\n",
      "492450\n",
      "492884\n"
     ]
    }
   ],
   "source": [
    "print(inter.shape[0] + graph_only.shape[0])\n",
    "print(inter.shape[0] + graph_only.shape[0] +  divergence_1.shape[0])\n",
    "print(inter.shape[0] + spladder_counts_only.shape[0])\n",
    "print(inter.shape[0] + spladder_counts_only.shape[0] +  divergence_1.shape[0])\n"
   ]
  },
  {
   "cell_type": "code",
   "execution_count": 97,
   "id": "d9de681c",
   "metadata": {},
   "outputs": [
    {
     "data": {
      "text/html": [
       "<div>\n",
       "<style scoped>\n",
       "    .dataframe tbody tr th:only-of-type {\n",
       "        vertical-align: middle;\n",
       "    }\n",
       "\n",
       "    .dataframe tbody tr th {\n",
       "        vertical-align: top;\n",
       "    }\n",
       "\n",
       "    .dataframe thead th {\n",
       "        text-align: right;\n",
       "    }\n",
       "</style>\n",
       "<table border=\"1\" class=\"dataframe\">\n",
       "  <thead>\n",
       "    <tr style=\"text-align: right;\">\n",
       "      <th></th>\n",
       "      <th>chr</th>\n",
       "      <th>strand</th>\n",
       "      <th>junction_start</th>\n",
       "      <th>junction_end</th>\n",
       "      <th>count</th>\n",
       "    </tr>\n",
       "  </thead>\n",
       "  <tbody>\n",
       "    <tr>\n",
       "      <th>0</th>\n",
       "      <td>chr10</td>\n",
       "      <td>-</td>\n",
       "      <td>48114</td>\n",
       "      <td>48614</td>\n",
       "      <td>1</td>\n",
       "    </tr>\n",
       "    <tr>\n",
       "      <th>1</th>\n",
       "      <td>chr10</td>\n",
       "      <td>-</td>\n",
       "      <td>48725</td>\n",
       "      <td>48803</td>\n",
       "      <td>3</td>\n",
       "    </tr>\n",
       "    <tr>\n",
       "      <th>2</th>\n",
       "      <td>chr10</td>\n",
       "      <td>-</td>\n",
       "      <td>277577</td>\n",
       "      <td>281199</td>\n",
       "      <td>12</td>\n",
       "    </tr>\n",
       "  </tbody>\n",
       "</table>\n",
       "</div>"
      ],
      "text/plain": [
       "     chr strand  junction_start  junction_end  count\n",
       "0  chr10      -           48114         48614      1\n",
       "1  chr10      -           48725         48803      3\n",
       "2  chr10      -          277577        281199     12"
      ]
     },
     "metadata": {},
     "output_type": "display_data"
    },
    {
     "name": "stdout",
     "output_type": "stream",
     "text": [
      "shape table\n",
      "(485934, 5)\n",
      "shape table excluding column count\n",
      "(485934, 4)\n",
      "shape table excluding column count, chr\n",
      "(485747, 3)\n",
      "shape table excluding column count, strand\n",
      "(485436, 3)\n",
      "shape table excluding column count, strand, chr\n",
      "(485249, 2)\n"
     ]
    }
   ],
   "source": [
    "unique_junctions_df(df_jx_unfiltered)"
   ]
  },
  {
   "cell_type": "code",
   "execution_count": 102,
   "id": "d6de486d",
   "metadata": {},
   "outputs": [],
   "source": [
    "# START RES"
   ]
  },
  {
   "cell_type": "code",
   "execution_count": null,
   "id": "cf8b3835",
   "metadata": {},
   "outputs": [],
   "source": []
  },
  {
   "cell_type": "code",
   "execution_count": 72,
   "id": "840c545a",
   "metadata": {
    "scrolled": false
   },
   "outputs": [
    {
     "data": {
      "text/html": [
       "<div>\n",
       "<style scoped>\n",
       "    .dataframe tbody tr th:only-of-type {\n",
       "        vertical-align: middle;\n",
       "    }\n",
       "\n",
       "    .dataframe tbody tr th {\n",
       "        vertical-align: top;\n",
       "    }\n",
       "\n",
       "    .dataframe thead th {\n",
       "        text-align: right;\n",
       "    }\n",
       "</style>\n",
       "<table border=\"1\" class=\"dataframe\">\n",
       "  <thead>\n",
       "    <tr style=\"text-align: right;\">\n",
       "      <th></th>\n",
       "      <th>junction_start</th>\n",
       "      <th>junction_end</th>\n",
       "      <th>count_graph</th>\n",
       "      <th>gene_graph</th>\n",
       "      <th>strand_graph</th>\n",
       "      <th>chr_tsv_spladder</th>\n",
       "      <th>strand_tsv_spladder</th>\n",
       "      <th>count_tsv_spladder</th>\n",
       "      <th>chr</th>\n",
       "      <th>strand</th>\n",
       "      <th>count</th>\n",
       "      <th>_merge</th>\n",
       "    </tr>\n",
       "  </thead>\n",
       "  <tbody>\n",
       "    <tr>\n",
       "      <th>494130</th>\n",
       "      <td>80169100</td>\n",
       "      <td>80169158</td>\n",
       "      <td>NaN</td>\n",
       "      <td>NaN</td>\n",
       "      <td>NaN</td>\n",
       "      <td>NaN</td>\n",
       "      <td>NaN</td>\n",
       "      <td>NaN</td>\n",
       "      <td>chr10</td>\n",
       "      <td>+</td>\n",
       "      <td>1</td>\n",
       "      <td>right_only</td>\n",
       "    </tr>\n",
       "    <tr>\n",
       "      <th>494131</th>\n",
       "      <td>308187</td>\n",
       "      <td>308316</td>\n",
       "      <td>NaN</td>\n",
       "      <td>NaN</td>\n",
       "      <td>NaN</td>\n",
       "      <td>NaN</td>\n",
       "      <td>NaN</td>\n",
       "      <td>NaN</td>\n",
       "      <td>chr11</td>\n",
       "      <td>-</td>\n",
       "      <td>1</td>\n",
       "      <td>right_only</td>\n",
       "    </tr>\n",
       "    <tr>\n",
       "      <th>494132</th>\n",
       "      <td>46382444</td>\n",
       "      <td>46382662</td>\n",
       "      <td>NaN</td>\n",
       "      <td>NaN</td>\n",
       "      <td>NaN</td>\n",
       "      <td>NaN</td>\n",
       "      <td>NaN</td>\n",
       "      <td>NaN</td>\n",
       "      <td>chr11</td>\n",
       "      <td>-</td>\n",
       "      <td>1</td>\n",
       "      <td>right_only</td>\n",
       "    </tr>\n",
       "    <tr>\n",
       "      <th>494133</th>\n",
       "      <td>57699964</td>\n",
       "      <td>57700044</td>\n",
       "      <td>NaN</td>\n",
       "      <td>NaN</td>\n",
       "      <td>NaN</td>\n",
       "      <td>NaN</td>\n",
       "      <td>NaN</td>\n",
       "      <td>NaN</td>\n",
       "      <td>chr11</td>\n",
       "      <td>-</td>\n",
       "      <td>1</td>\n",
       "      <td>right_only</td>\n",
       "    </tr>\n",
       "    <tr>\n",
       "      <th>494134</th>\n",
       "      <td>67586163</td>\n",
       "      <td>67586444</td>\n",
       "      <td>NaN</td>\n",
       "      <td>NaN</td>\n",
       "      <td>NaN</td>\n",
       "      <td>NaN</td>\n",
       "      <td>NaN</td>\n",
       "      <td>NaN</td>\n",
       "      <td>chr11</td>\n",
       "      <td>-</td>\n",
       "      <td>1</td>\n",
       "      <td>right_only</td>\n",
       "    </tr>\n",
       "    <tr>\n",
       "      <th>...</th>\n",
       "      <td>...</td>\n",
       "      <td>...</td>\n",
       "      <td>...</td>\n",
       "      <td>...</td>\n",
       "      <td>...</td>\n",
       "      <td>...</td>\n",
       "      <td>...</td>\n",
       "      <td>...</td>\n",
       "      <td>...</td>\n",
       "      <td>...</td>\n",
       "      <td>...</td>\n",
       "      <td>...</td>\n",
       "    </tr>\n",
       "    <tr>\n",
       "      <th>494447</th>\n",
       "      <td>1387290</td>\n",
       "      <td>1389336</td>\n",
       "      <td>NaN</td>\n",
       "      <td>NaN</td>\n",
       "      <td>NaN</td>\n",
       "      <td>NaN</td>\n",
       "      <td>NaN</td>\n",
       "      <td>NaN</td>\n",
       "      <td>chrX</td>\n",
       "      <td>-</td>\n",
       "      <td>1</td>\n",
       "      <td>right_only</td>\n",
       "    </tr>\n",
       "    <tr>\n",
       "      <th>494448</th>\n",
       "      <td>1389317</td>\n",
       "      <td>1389647</td>\n",
       "      <td>NaN</td>\n",
       "      <td>NaN</td>\n",
       "      <td>NaN</td>\n",
       "      <td>NaN</td>\n",
       "      <td>NaN</td>\n",
       "      <td>NaN</td>\n",
       "      <td>chrX</td>\n",
       "      <td>-</td>\n",
       "      <td>1</td>\n",
       "      <td>right_only</td>\n",
       "    </tr>\n",
       "    <tr>\n",
       "      <th>494449</th>\n",
       "      <td>48823270</td>\n",
       "      <td>48823344</td>\n",
       "      <td>NaN</td>\n",
       "      <td>NaN</td>\n",
       "      <td>NaN</td>\n",
       "      <td>NaN</td>\n",
       "      <td>NaN</td>\n",
       "      <td>NaN</td>\n",
       "      <td>chrX</td>\n",
       "      <td>-</td>\n",
       "      <td>1</td>\n",
       "      <td>right_only</td>\n",
       "    </tr>\n",
       "    <tr>\n",
       "      <th>494450</th>\n",
       "      <td>135032734</td>\n",
       "      <td>135032812</td>\n",
       "      <td>NaN</td>\n",
       "      <td>NaN</td>\n",
       "      <td>NaN</td>\n",
       "      <td>NaN</td>\n",
       "      <td>NaN</td>\n",
       "      <td>NaN</td>\n",
       "      <td>chrX</td>\n",
       "      <td>-</td>\n",
       "      <td>1</td>\n",
       "      <td>right_only</td>\n",
       "    </tr>\n",
       "    <tr>\n",
       "      <th>494451</th>\n",
       "      <td>1389526</td>\n",
       "      <td>1389670</td>\n",
       "      <td>NaN</td>\n",
       "      <td>NaN</td>\n",
       "      <td>NaN</td>\n",
       "      <td>NaN</td>\n",
       "      <td>NaN</td>\n",
       "      <td>NaN</td>\n",
       "      <td>chrY</td>\n",
       "      <td>+</td>\n",
       "      <td>2</td>\n",
       "      <td>right_only</td>\n",
       "    </tr>\n",
       "  </tbody>\n",
       "</table>\n",
       "<p>322 rows × 12 columns</p>\n",
       "</div>"
      ],
      "text/plain": [
       "        junction_start  junction_end  count_graph gene_graph strand_graph  \\\n",
       "494130        80169100      80169158          NaN        NaN          NaN   \n",
       "494131          308187        308316          NaN        NaN          NaN   \n",
       "494132        46382444      46382662          NaN        NaN          NaN   \n",
       "494133        57699964      57700044          NaN        NaN          NaN   \n",
       "494134        67586163      67586444          NaN        NaN          NaN   \n",
       "...                ...           ...          ...        ...          ...   \n",
       "494447         1387290       1389336          NaN        NaN          NaN   \n",
       "494448         1389317       1389647          NaN        NaN          NaN   \n",
       "494449        48823270      48823344          NaN        NaN          NaN   \n",
       "494450       135032734     135032812          NaN        NaN          NaN   \n",
       "494451         1389526       1389670          NaN        NaN          NaN   \n",
       "\n",
       "       chr_tsv_spladder strand_tsv_spladder  count_tsv_spladder    chr strand  \\\n",
       "494130              NaN                 NaN                 NaN  chr10      +   \n",
       "494131              NaN                 NaN                 NaN  chr11      -   \n",
       "494132              NaN                 NaN                 NaN  chr11      -   \n",
       "494133              NaN                 NaN                 NaN  chr11      -   \n",
       "494134              NaN                 NaN                 NaN  chr11      -   \n",
       "...                 ...                 ...                 ...    ...    ...   \n",
       "494447              NaN                 NaN                 NaN   chrX      -   \n",
       "494448              NaN                 NaN                 NaN   chrX      -   \n",
       "494449              NaN                 NaN                 NaN   chrX      -   \n",
       "494450              NaN                 NaN                 NaN   chrX      -   \n",
       "494451              NaN                 NaN                 NaN   chrY      +   \n",
       "\n",
       "        count      _merge  \n",
       "494130      1  right_only  \n",
       "494131      1  right_only  \n",
       "494132      1  right_only  \n",
       "494133      1  right_only  \n",
       "494134      1  right_only  \n",
       "...       ...         ...  \n",
       "494447      1  right_only  \n",
       "494448      1  right_only  \n",
       "494449      1  right_only  \n",
       "494450      1  right_only  \n",
       "494451      2  right_only  \n",
       "\n",
       "[322 rows x 12 columns]"
      ]
     },
     "execution_count": 72,
     "metadata": {},
     "output_type": "execute_result"
    }
   ],
   "source": [
    "res.loc[res['_merge'] == 'right_only']"
   ]
  },
  {
   "cell_type": "code",
   "execution_count": null,
   "id": "98e9596a",
   "metadata": {},
   "outputs": [],
   "source": [
    "# END TEST"
   ]
  },
  {
   "cell_type": "markdown",
   "id": "646d7041",
   "metadata": {},
   "source": [
    "# Special Junctions Cases"
   ]
  },
  {
   "cell_type": "code",
   "execution_count": 47,
   "id": "3e37da40",
   "metadata": {},
   "outputs": [
    {
     "data": {
      "text/html": [
       "<div>\n",
       "<style scoped>\n",
       "    .dataframe tbody tr th:only-of-type {\n",
       "        vertical-align: middle;\n",
       "    }\n",
       "\n",
       "    .dataframe tbody tr th {\n",
       "        vertical-align: top;\n",
       "    }\n",
       "\n",
       "    .dataframe thead th {\n",
       "        text-align: right;\n",
       "    }\n",
       "</style>\n",
       "<table border=\"1\" class=\"dataframe\">\n",
       "  <thead>\n",
       "    <tr style=\"text-align: right;\">\n",
       "      <th></th>\n",
       "      <th>junction_start</th>\n",
       "      <th>junction_end</th>\n",
       "      <th>count_graph</th>\n",
       "      <th>gene_graph</th>\n",
       "      <th>strand_graph</th>\n",
       "      <th>chr_tsv_spladder</th>\n",
       "      <th>strand_tsv_spladder</th>\n",
       "      <th>count_tsv_spladder</th>\n",
       "    </tr>\n",
       "  </thead>\n",
       "  <tbody>\n",
       "    <tr>\n",
       "      <th>2093635</th>\n",
       "      <td>30338876</td>\n",
       "      <td>30346441</td>\n",
       "      <td>NaN</td>\n",
       "      <td>NaN</td>\n",
       "      <td>NaN</td>\n",
       "      <td>chr22</td>\n",
       "      <td>-</td>\n",
       "      <td>1.0</td>\n",
       "    </tr>\n",
       "  </tbody>\n",
       "</table>\n",
       "</div>"
      ],
      "text/plain": [
       "         junction_start  junction_end  count_graph gene_graph strand_graph  \\\n",
       "2093635        30338876      30346441          NaN        NaN          NaN   \n",
       "\n",
       "        chr_tsv_spladder strand_tsv_spladder  count_tsv_spladder  \n",
       "2093635            chr22                   -                 1.0  "
      ]
     },
     "execution_count": 47,
     "metadata": {},
     "output_type": "execute_result"
    }
   ],
   "source": [
    "j1=30338876\n",
    "j12=30346441\n",
    "merged_df.loc[(merged_df['junction_start'] == j1) & (merged_df['junction_end'] == j12)]"
   ]
  },
  {
   "cell_type": "code",
   "execution_count": 48,
   "id": "d0a6e558",
   "metadata": {},
   "outputs": [
    {
     "data": {
      "text/html": [
       "<div>\n",
       "<style scoped>\n",
       "    .dataframe tbody tr th:only-of-type {\n",
       "        vertical-align: middle;\n",
       "    }\n",
       "\n",
       "    .dataframe tbody tr th {\n",
       "        vertical-align: top;\n",
       "    }\n",
       "\n",
       "    .dataframe thead th {\n",
       "        text-align: right;\n",
       "    }\n",
       "</style>\n",
       "<table border=\"1\" class=\"dataframe\">\n",
       "  <thead>\n",
       "    <tr style=\"text-align: right;\">\n",
       "      <th></th>\n",
       "      <th>junction_start</th>\n",
       "      <th>junction_end</th>\n",
       "      <th>count_graph</th>\n",
       "      <th>gene_graph</th>\n",
       "      <th>strand_graph</th>\n",
       "      <th>chr_tsv_spladder</th>\n",
       "      <th>strand_tsv_spladder</th>\n",
       "      <th>count_tsv_spladder</th>\n",
       "    </tr>\n",
       "  </thead>\n",
       "  <tbody>\n",
       "    <tr>\n",
       "      <th>2029191</th>\n",
       "      <td>39630003</td>\n",
       "      <td>39634028</td>\n",
       "      <td>NaN</td>\n",
       "      <td>NaN</td>\n",
       "      <td>NaN</td>\n",
       "      <td>chr17</td>\n",
       "      <td>+</td>\n",
       "      <td>1.0</td>\n",
       "    </tr>\n",
       "  </tbody>\n",
       "</table>\n",
       "</div>"
      ],
      "text/plain": [
       "         junction_start  junction_end  count_graph gene_graph strand_graph  \\\n",
       "2029191        39630003      39634028          NaN        NaN          NaN   \n",
       "\n",
       "        chr_tsv_spladder strand_tsv_spladder  count_tsv_spladder  \n",
       "2029191            chr17                   +                 1.0  "
      ]
     },
     "execution_count": 48,
     "metadata": {},
     "output_type": "execute_result"
    }
   ],
   "source": [
    "ja=39630003\n",
    "jb=39634028\n",
    "merged_df.loc[(merged_df['junction_start'] == ja) & (merged_df['junction_end'] == jb)]"
   ]
  },
  {
   "cell_type": "code",
   "execution_count": 49,
   "id": "cb04078d",
   "metadata": {},
   "outputs": [
    {
     "data": {
      "text/html": [
       "<div>\n",
       "<style scoped>\n",
       "    .dataframe tbody tr th:only-of-type {\n",
       "        vertical-align: middle;\n",
       "    }\n",
       "\n",
       "    .dataframe tbody tr th {\n",
       "        vertical-align: top;\n",
       "    }\n",
       "\n",
       "    .dataframe thead th {\n",
       "        text-align: right;\n",
       "    }\n",
       "</style>\n",
       "<table border=\"1\" class=\"dataframe\">\n",
       "  <thead>\n",
       "    <tr style=\"text-align: right;\">\n",
       "      <th></th>\n",
       "      <th>junction_start</th>\n",
       "      <th>junction_end</th>\n",
       "      <th>count_graph</th>\n",
       "      <th>gene_graph</th>\n",
       "      <th>strand_graph</th>\n",
       "      <th>chr_tsv_spladder</th>\n",
       "      <th>strand_tsv_spladder</th>\n",
       "      <th>count_tsv_spladder</th>\n",
       "    </tr>\n",
       "  </thead>\n",
       "  <tbody>\n",
       "    <tr>\n",
       "      <th>1377889</th>\n",
       "      <td>53228131</td>\n",
       "      <td>53240255</td>\n",
       "      <td>1.0</td>\n",
       "      <td>ENSG00000163931.16</td>\n",
       "      <td>-</td>\n",
       "      <td>chr3</td>\n",
       "      <td>-</td>\n",
       "      <td>1.0</td>\n",
       "    </tr>\n",
       "  </tbody>\n",
       "</table>\n",
       "</div>"
      ],
      "text/plain": [
       "         junction_start  junction_end  count_graph          gene_graph  \\\n",
       "1377889        53228131      53240255          1.0  ENSG00000163931.16   \n",
       "\n",
       "        strand_graph chr_tsv_spladder strand_tsv_spladder  count_tsv_spladder  \n",
       "1377889            -             chr3                   -                 1.0  "
      ]
     },
     "execution_count": 49,
     "metadata": {},
     "output_type": "execute_result"
    }
   ],
   "source": [
    "j1=53228131\n",
    "j12=53240255\n",
    "merged_df.loc[(merged_df['junction_start'] == j1) & (merged_df['junction_end'] == j12)]"
   ]
  },
  {
   "cell_type": "code",
   "execution_count": 50,
   "id": "fd85c9fc",
   "metadata": {},
   "outputs": [
    {
     "data": {
      "text/html": [
       "<div>\n",
       "<style scoped>\n",
       "    .dataframe tbody tr th:only-of-type {\n",
       "        vertical-align: middle;\n",
       "    }\n",
       "\n",
       "    .dataframe tbody tr th {\n",
       "        vertical-align: top;\n",
       "    }\n",
       "\n",
       "    .dataframe thead th {\n",
       "        text-align: right;\n",
       "    }\n",
       "</style>\n",
       "<table border=\"1\" class=\"dataframe\">\n",
       "  <thead>\n",
       "    <tr style=\"text-align: right;\">\n",
       "      <th></th>\n",
       "      <th>junction_start</th>\n",
       "      <th>junction_end</th>\n",
       "      <th>count_graph</th>\n",
       "      <th>gene_graph</th>\n",
       "      <th>strand_graph</th>\n",
       "      <th>chr_tsv_spladder</th>\n",
       "      <th>strand_tsv_spladder</th>\n",
       "      <th>count_tsv_spladder</th>\n",
       "    </tr>\n",
       "  </thead>\n",
       "  <tbody>\n",
       "    <tr>\n",
       "      <th>1012076</th>\n",
       "      <td>44813454</td>\n",
       "      <td>44819345</td>\n",
       "      <td>1.0</td>\n",
       "      <td>ENSG00000187244.11</td>\n",
       "      <td>+</td>\n",
       "      <td>chr19</td>\n",
       "      <td>+</td>\n",
       "      <td>1.0</td>\n",
       "    </tr>\n",
       "  </tbody>\n",
       "</table>\n",
       "</div>"
      ],
      "text/plain": [
       "         junction_start  junction_end  count_graph          gene_graph  \\\n",
       "1012076        44813454      44819345          1.0  ENSG00000187244.11   \n",
       "\n",
       "        strand_graph chr_tsv_spladder strand_tsv_spladder  count_tsv_spladder  \n",
       "1012076            +            chr19                   +                 1.0  "
      ]
     },
     "execution_count": 50,
     "metadata": {},
     "output_type": "execute_result"
    }
   ],
   "source": [
    "ja=44813454\n",
    "jb=44819345\n",
    "merged_df.loc[(merged_df['junction_start'] == ja) & (merged_df['junction_end'] == jb)]\n",
    "\n"
   ]
  },
  {
   "cell_type": "code",
   "execution_count": null,
   "id": "0ab5d31b",
   "metadata": {},
   "outputs": [],
   "source": []
  },
  {
   "cell_type": "code",
   "execution_count": null,
   "id": "82ccc5f0",
   "metadata": {},
   "outputs": [],
   "source": []
  }
 ],
 "metadata": {
  "kernelspec": {
   "display_name": "Python 3 (ipykernel)",
   "language": "python",
   "name": "python3"
  },
  "language_info": {
   "codemirror_mode": {
    "name": "ipython",
    "version": 3
   },
   "file_extension": ".py",
   "mimetype": "text/x-python",
   "name": "python",
   "nbconvert_exporter": "python",
   "pygments_lexer": "ipython3",
   "version": "3.9.13"
  }
 },
 "nbformat": 4,
 "nbformat_minor": 5
}
