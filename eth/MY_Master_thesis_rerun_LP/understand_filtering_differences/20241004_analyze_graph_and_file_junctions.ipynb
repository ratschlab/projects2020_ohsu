{
 "cells": [
  {
   "cell_type": "code",
   "execution_count": 9,
   "id": "81a8af5a",
   "metadata": {},
   "outputs": [],
   "source": [
    "import os \n",
    "import pandas as pd\n",
    "import path\n",
    "import pickle \n",
    "import numpy as np"
   ]
  },
  {
   "cell_type": "code",
   "execution_count": 10,
   "id": "c6ee9503",
   "metadata": {},
   "outputs": [],
   "source": [
    "base_path_junctions = '/cluster/work/grlab/projects/projects2021-immuno_peptides/results/TCGA_for_neoepitopes'"
   ]
  },
  {
   "cell_type": "code",
   "execution_count": 17,
   "id": "1e69d56c",
   "metadata": {},
   "outputs": [],
   "source": [
    "folder_OV_jx_unfiltered = 'TCGA_Ovarian_374_results/TCGA_Ovarian_374_results_junctions_unfiltered_tsv'\n",
    "folder_OV_jx_conf2 = 'TCGA_Ovarian_374_results/TCGA_Ovarian_374_results_junctions_conf_2_tsv'\n",
    "\n",
    "folfer_BRCA_jx_unfiltered = ''\n",
    "\n",
    "count_path_OV = os.path.join( base_path_junctions, 'TCGA_Ovarian_374_results/splicing/spladder/genes_graph_conf2.merge_graphs.count.rechunked.hdf5')\n",
    "splice_path_OV = os.path.join( base_path_junctions, 'TCGA_Ovarian_374_results/splicing/spladder/genes_graph_conf2.merge_graphs.pickle')\n",
    "sample_file_OV = '/cluster/work/grlab/projects/projects2020_OHSU/sample_lists/TCGA_foreground/sample_full_Ov_378.tsv'\n",
    "\n",
    "count_path_BRCA = os.path.join( base_path_junctions, 'TCGA_Breast_1102_results/splicing/spladder/genes_graph_conf2.merge_graphs.count.hdf5')\n",
    "splice_path_BRCA = os.path.join( base_path_junctions, 'TCGA_Breast_1102_results/splicing/spladder/genes_graph_conf2.merge_graphs.pickle')\n",
    "sample_file_BRCA = \"/cluster/work/grlab/projects/projects2020_OHSU/sample_lists/TCGA_foreground/sample_full_BRCA_1102.tsv\""
   ]
  },
  {
   "cell_type": "code",
   "execution_count": 34,
   "id": "95b0643d",
   "metadata": {},
   "outputs": [],
   "source": [
    "graph, meta = pickle.load(open(splice_path_OV, 'rb'))"
   ]
  },
  {
   "cell_type": "code",
   "execution_count": 64,
   "id": "461ac023",
   "metadata": {},
   "outputs": [],
   "source": [
    "sample = 'sample1' # relink samples 1 to 5"
   ]
  },
  {
   "cell_type": "code",
   "execution_count": 65,
   "id": "71d2a757",
   "metadata": {},
   "outputs": [
    {
     "name": "stdout",
     "output_type": "stream",
     "text": [
      "/cluster/work/grlab/projects/projects2021-immuno_peptides/results/TCGA_for_neoepitopes/TCGA_Ovarian_374_results/TCGA_Ovarian_374_results_junctions_unfiltered_tsv/sample1\n",
      "/cluster/work/grlab/projects/projects2021-immuno_peptides/results/TCGA_for_neoepitopes/TCGA_Ovarian_374_results/TCGA_Ovarian_374_results_junctions_conf_2_tsv/sample1\n",
      "/cluster/work/grlab/projects/projects2021-immuno_peptides/results/TCGA_for_neoepitopes/TCGA_Ovarian_374_results/TCGA_Ovarian_374_results_junctions_unfiltered_tsv/TCGA-25-1319-01A-01R-1565-13.all.junctions.tsv.gz\n",
      "/cluster/work/grlab/projects/projects2021-immuno_peptides/results/TCGA_for_neoepitopes/TCGA_Ovarian_374_results/TCGA_Ovarian_374_results_junctions_conf_2_tsv/TCGA-25-1319-01A-01R-1565-13.all.conf_2.filt.junctions.tsv.gz\n"
     ]
    }
   ],
   "source": [
    "path_OV_jx_unfiltered = os.path.join(base_path_junctions, folder_OV_jx_unfiltered, sample)\n",
    "print(path_OV_jx_unfiltered)\n",
    "path_OV_jx_conf2 = os.path.join(base_path_junctions, folder_OV_jx_conf2, sample)\n",
    "print(path_OV_jx_conf2)\n",
    "path_OV_jx_unfiltered = os.path.realpath(path_OV_jx_unfiltered)\n",
    "print(path_OV_jx_unfiltered)\n",
    "path_OV_jx_conf2 = os.path.realpath(path_OV_jx_conf2)\n",
    "print(path_OV_jx_conf2)\n",
    "\n",
    "df_OV_jx_unfiltered = pd.read_csv(path_OV_jx_unfiltered,\n",
    "                                  sep = '\\t')\n",
    "df_OV_jx_conf2 = pd.read_csv(path_OV_jx_conf2, \n",
    "                                  sep = '\\t')"
   ]
  },
  {
   "cell_type": "code",
   "execution_count": 66,
   "id": "fb821578",
   "metadata": {},
   "outputs": [],
   "source": [
    "def unique_junctions_df(df):\n",
    "    display(df.head(3))\n",
    "    print('shape table')\n",
    "    print(df.shape)\n",
    "    print('shape table excluding column count')\n",
    "    print(df.drop(['count'], axis = 1).drop_duplicates().shape)\n",
    "    print('shape table excluding column count, chr')\n",
    "    print(df.drop(['count', 'chr'], axis = 1).drop_duplicates().shape)\n",
    "    print('shape table excluding column count, strand')\n",
    "    print(df.drop(['count', 'strand'], axis = 1).drop_duplicates().shape)\n",
    "    print('shape table excluding column count, strand, chr')\n",
    "    print(df.drop(['count', 'strand', 'chr'], axis = 1).drop_duplicates().shape)\n",
    "    "
   ]
  },
  {
   "cell_type": "code",
   "execution_count": 67,
   "id": "a6269205",
   "metadata": {},
   "outputs": [
    {
     "name": "stdout",
     "output_type": "stream",
     "text": [
      "/cluster/work/grlab/projects/projects2021-immuno_peptides/results/TCGA_for_neoepitopes/TCGA_Ovarian_374_results/TCGA_Ovarian_374_results_junctions_unfiltered_tsv/TCGA-25-1319-01A-01R-1565-13.all.junctions.tsv.gz\n"
     ]
    },
    {
     "data": {
      "text/html": [
       "<div>\n",
       "<style scoped>\n",
       "    .dataframe tbody tr th:only-of-type {\n",
       "        vertical-align: middle;\n",
       "    }\n",
       "\n",
       "    .dataframe tbody tr th {\n",
       "        vertical-align: top;\n",
       "    }\n",
       "\n",
       "    .dataframe thead th {\n",
       "        text-align: right;\n",
       "    }\n",
       "</style>\n",
       "<table border=\"1\" class=\"dataframe\">\n",
       "  <thead>\n",
       "    <tr style=\"text-align: right;\">\n",
       "      <th></th>\n",
       "      <th>chr</th>\n",
       "      <th>strand</th>\n",
       "      <th>junction_start</th>\n",
       "      <th>junction_end</th>\n",
       "      <th>count</th>\n",
       "    </tr>\n",
       "  </thead>\n",
       "  <tbody>\n",
       "    <tr>\n",
       "      <th>0</th>\n",
       "      <td>chr10</td>\n",
       "      <td>-</td>\n",
       "      <td>48114</td>\n",
       "      <td>48614</td>\n",
       "      <td>1</td>\n",
       "    </tr>\n",
       "    <tr>\n",
       "      <th>1</th>\n",
       "      <td>chr10</td>\n",
       "      <td>-</td>\n",
       "      <td>48725</td>\n",
       "      <td>48803</td>\n",
       "      <td>3</td>\n",
       "    </tr>\n",
       "    <tr>\n",
       "      <th>2</th>\n",
       "      <td>chr10</td>\n",
       "      <td>-</td>\n",
       "      <td>277577</td>\n",
       "      <td>281199</td>\n",
       "      <td>12</td>\n",
       "    </tr>\n",
       "  </tbody>\n",
       "</table>\n",
       "</div>"
      ],
      "text/plain": [
       "     chr strand  junction_start  junction_end  count\n",
       "0  chr10      -           48114         48614      1\n",
       "1  chr10      -           48725         48803      3\n",
       "2  chr10      -          277577        281199     12"
      ]
     },
     "metadata": {},
     "output_type": "display_data"
    },
    {
     "name": "stdout",
     "output_type": "stream",
     "text": [
      "shape table\n",
      "(485934, 5)\n",
      "shape table excluding column count\n",
      "(485934, 4)\n",
      "shape table excluding column count, chr\n",
      "(485747, 3)\n",
      "shape table excluding column count, strand\n",
      "(485436, 3)\n",
      "shape table excluding column count, strand, chr\n",
      "(485249, 2)\n",
      "/cluster/work/grlab/projects/projects2021-immuno_peptides/results/TCGA_for_neoepitopes/TCGA_Ovarian_374_results/TCGA_Ovarian_374_results_junctions_conf_2_tsv/TCGA-25-1319-01A-01R-1565-13.all.conf_2.filt.junctions.tsv.gz\n"
     ]
    },
    {
     "data": {
      "text/html": [
       "<div>\n",
       "<style scoped>\n",
       "    .dataframe tbody tr th:only-of-type {\n",
       "        vertical-align: middle;\n",
       "    }\n",
       "\n",
       "    .dataframe tbody tr th {\n",
       "        vertical-align: top;\n",
       "    }\n",
       "\n",
       "    .dataframe thead th {\n",
       "        text-align: right;\n",
       "    }\n",
       "</style>\n",
       "<table border=\"1\" class=\"dataframe\">\n",
       "  <thead>\n",
       "    <tr style=\"text-align: right;\">\n",
       "      <th></th>\n",
       "      <th>chr</th>\n",
       "      <th>strand</th>\n",
       "      <th>junction_start</th>\n",
       "      <th>junction_end</th>\n",
       "      <th>count</th>\n",
       "    </tr>\n",
       "  </thead>\n",
       "  <tbody>\n",
       "    <tr>\n",
       "      <th>0</th>\n",
       "      <td>chr10</td>\n",
       "      <td>-</td>\n",
       "      <td>48114</td>\n",
       "      <td>48614</td>\n",
       "      <td>1</td>\n",
       "    </tr>\n",
       "    <tr>\n",
       "      <th>1</th>\n",
       "      <td>chr10</td>\n",
       "      <td>-</td>\n",
       "      <td>48725</td>\n",
       "      <td>48803</td>\n",
       "      <td>1</td>\n",
       "    </tr>\n",
       "    <tr>\n",
       "      <th>2</th>\n",
       "      <td>chr10</td>\n",
       "      <td>-</td>\n",
       "      <td>277577</td>\n",
       "      <td>281199</td>\n",
       "      <td>9</td>\n",
       "    </tr>\n",
       "  </tbody>\n",
       "</table>\n",
       "</div>"
      ],
      "text/plain": [
       "     chr strand  junction_start  junction_end  count\n",
       "0  chr10      -           48114         48614      1\n",
       "1  chr10      -           48725         48803      1\n",
       "2  chr10      -          277577        281199      9"
      ]
     },
     "metadata": {},
     "output_type": "display_data"
    },
    {
     "name": "stdout",
     "output_type": "stream",
     "text": [
      "shape table\n",
      "(396650, 5)\n",
      "shape table excluding column count\n",
      "(396650, 4)\n",
      "shape table excluding column count, chr\n",
      "(396510, 3)\n",
      "shape table excluding column count, strand\n",
      "(396405, 3)\n",
      "shape table excluding column count, strand, chr\n",
      "(396265, 2)\n"
     ]
    }
   ],
   "source": [
    "print(path_OV_jx_unfiltered)\n",
    "unique_junctions_df(df_OV_jx_unfiltered)\n",
    "print(path_OV_jx_conf2)\n",
    "unique_junctions_df(df_OV_jx_conf2)"
   ]
  },
  {
   "cell_type": "markdown",
   "id": "e65c1b44",
   "metadata": {},
   "source": [
    "# Graph"
   ]
  },
  {
   "cell_type": "code",
   "execution_count": 86,
   "id": "fd6e9b94",
   "metadata": {},
   "outputs": [
    {
     "name": "stdout",
     "output_type": "stream",
     "text": [
      "0\n",
      "1000\n",
      "2000\n",
      "3000\n",
      "4000\n",
      "5000\n",
      "6000\n",
      "7000\n",
      "8000\n",
      "9000\n",
      "10000\n",
      "11000\n",
      "12000\n",
      "13000\n",
      "14000\n",
      "15000\n",
      "16000\n",
      "17000\n",
      "18000\n",
      "19000\n",
      "20000\n",
      "21000\n",
      "22000\n",
      "23000\n",
      "24000\n",
      "25000\n",
      "26000\n",
      "27000\n",
      "28000\n",
      "29000\n",
      "30000\n",
      "31000\n",
      "32000\n",
      "33000\n",
      "34000\n",
      "35000\n",
      "36000\n",
      "37000\n",
      "38000\n",
      "39000\n",
      "40000\n",
      "41000\n",
      "42000\n",
      "43000\n",
      "44000\n",
      "45000\n",
      "46000\n",
      "47000\n",
      "48000\n",
      "49000\n",
      "50000\n",
      "51000\n",
      "52000\n",
      "53000\n",
      "54000\n",
      "55000\n",
      "56000\n",
      "57000\n",
      "58000\n",
      "59000\n",
      "60000\n"
     ]
    }
   ],
   "source": [
    "junction_all_genes = []\n",
    "for idx, gene in enumerate(graph):\n",
    "    if idx % 1000 == 0:\n",
    "        print(idx)\n",
    "    gene.from_sparse()\n",
    "    edges_coords = np.array([(a,b) for a, b in zip(np.where(gene.splicegraph.edges)[0],np.where(gene.splicegraph.edges)[1])])\n",
    "    junction_gene = [(gene.splicegraph.vertices[0][i], gene.splicegraph.vertices[1][j]) for i, j in edges_coords]\n",
    "    junction_all_genes.extend(junction_gene)"
   ]
  },
  {
   "cell_type": "code",
   "execution_count": 101,
   "id": "589faaee",
   "metadata": {},
   "outputs": [],
   "source": [
    "df_junction_gene = pd.DataFrame(junction_all_genes, columns = ['junction_start', 'junction_end'])\n"
   ]
  },
  {
   "cell_type": "code",
   "execution_count": 102,
   "id": "e56c7199",
   "metadata": {},
   "outputs": [
    {
     "data": {
      "text/html": [
       "<div>\n",
       "<style scoped>\n",
       "    .dataframe tbody tr th:only-of-type {\n",
       "        vertical-align: middle;\n",
       "    }\n",
       "\n",
       "    .dataframe tbody tr th {\n",
       "        vertical-align: top;\n",
       "    }\n",
       "\n",
       "    .dataframe thead th {\n",
       "        text-align: right;\n",
       "    }\n",
       "</style>\n",
       "<table border=\"1\" class=\"dataframe\">\n",
       "  <thead>\n",
       "    <tr style=\"text-align: right;\">\n",
       "      <th></th>\n",
       "      <th>junction_start</th>\n",
       "      <th>junction_end</th>\n",
       "    </tr>\n",
       "  </thead>\n",
       "  <tbody>\n",
       "    <tr>\n",
       "      <th>0</th>\n",
       "      <td>11011</td>\n",
       "      <td>12057</td>\n",
       "    </tr>\n",
       "    <tr>\n",
       "      <th>1</th>\n",
       "      <td>11471</td>\n",
       "      <td>12057</td>\n",
       "    </tr>\n",
       "    <tr>\n",
       "      <th>2</th>\n",
       "      <td>11644</td>\n",
       "      <td>12057</td>\n",
       "    </tr>\n",
       "    <tr>\n",
       "      <th>3</th>\n",
       "      <td>11868</td>\n",
       "      <td>12696</td>\n",
       "    </tr>\n",
       "    <tr>\n",
       "      <th>4</th>\n",
       "      <td>11868</td>\n",
       "      <td>12697</td>\n",
       "    </tr>\n",
       "  </tbody>\n",
       "</table>\n",
       "</div>"
      ],
      "text/plain": [
       "   junction_start  junction_end\n",
       "0           11011         12057\n",
       "1           11471         12057\n",
       "2           11644         12057\n",
       "3           11868         12696\n",
       "4           11868         12697"
      ]
     },
     "execution_count": 102,
     "metadata": {},
     "output_type": "execute_result"
    }
   ],
   "source": [
    "df_junction_gene.head()"
   ]
  },
  {
   "cell_type": "code",
   "execution_count": 103,
   "id": "401772c7",
   "metadata": {},
   "outputs": [
    {
     "data": {
      "text/plain": [
       "(21054558, 2)"
      ]
     },
     "execution_count": 103,
     "metadata": {},
     "output_type": "execute_result"
    }
   ],
   "source": [
    "df_junction_gene.shape"
   ]
  },
  {
   "cell_type": "code",
   "execution_count": 104,
   "id": "637bc498",
   "metadata": {},
   "outputs": [
    {
     "data": {
      "text/plain": [
       "(7270711, 2)"
      ]
     },
     "execution_count": 104,
     "metadata": {},
     "output_type": "execute_result"
    }
   ],
   "source": [
    "df_junction_gene.drop_duplicates().shape"
   ]
  },
  {
   "cell_type": "code",
   "execution_count": 105,
   "id": "ed7b1c9d",
   "metadata": {},
   "outputs": [],
   "source": [
    "jxS_graph_unfilt = df_junction_gene.drop_duplicates().merge(\\\n",
    "    df_OV_jx_unfiltered.loc[:, ['junction_start', 'junction_end']].drop_duplicates(), \n",
    "                                          on = ['junction_start', 'junction_end'], how = 'inner')"
   ]
  },
  {
   "cell_type": "code",
   "execution_count": 106,
   "id": "b16f7b2a",
   "metadata": {},
   "outputs": [
    {
     "data": {
      "text/plain": [
       "(561, 2)"
      ]
     },
     "execution_count": 106,
     "metadata": {},
     "output_type": "execute_result"
    }
   ],
   "source": [
    "jxS_graph_unfilt.drop_duplicates().shape"
   ]
  },
  {
   "cell_type": "markdown",
   "id": "470205ea",
   "metadata": {},
   "source": [
    "# Graph Single Gene"
   ]
  },
  {
   "cell_type": "code",
   "execution_count": 37,
   "id": "14456bae",
   "metadata": {},
   "outputs": [],
   "source": [
    "gene = graph[1]\n",
    "gene.from_sparse()"
   ]
  },
  {
   "cell_type": "code",
   "execution_count": 38,
   "id": "240f5246",
   "metadata": {},
   "outputs": [
    {
     "data": {
      "text/plain": [
       "{'vertices': array([[14403, 14403, 14403, 14403, 14403, 14403, 14403, 14403, 14929,\n",
       "         14969, 15004, 15004, 15020, 15339, 15795, 15795, 15795, 15795,\n",
       "         15795, 15795, 15795, 15795, 15827, 15827, 15827, 15870, 15915,\n",
       "         15916, 16089, 16110, 16606, 16606, 16606, 16606, 16606, 16606,\n",
       "         16606, 16637, 16710, 16722, 16723, 16733, 16738, 16853, 16857,\n",
       "         16857, 16857, 16875, 16965, 17029, 17232, 17232, 17605, 17605,\n",
       "         17605, 17699, 17914, 18267, 18267, 18267, 18267, 18267, 18267,\n",
       "         18267, 18354, 18500, 18500, 18500, 18500, 18500, 18500, 18875,\n",
       "         18912, 18912, 18912, 18912, 18912, 18912, 18939, 18953, 19124,\n",
       "         20086, 22427, 23272, 23709, 23730, 23730, 23730, 24217, 24266,\n",
       "         24737, 24737, 25217, 27195, 28564, 29320, 29533, 29539, 29602,\n",
       "         31592],\n",
       "        [14501, 14548, 14593, 14664, 14690, 14787, 14829, 14843, 15038,\n",
       "         15038, 15038, 15059, 15038, 15539, 15837, 15859, 15942, 15947,\n",
       "         16027, 16289, 16310, 16765, 16027, 16030, 16310, 15947, 16027,\n",
       "         16027, 16289, 16310, 16622, 16664, 16681, 16711, 16712, 16765,\n",
       "         16788, 16765, 16765, 16765, 16765, 16765, 16765, 17055, 16923,\n",
       "         16944, 17055, 17055, 17055, 17055, 17368, 17742, 17665, 17736,\n",
       "         17742, 17742, 18061, 18339, 18357, 18362, 18366, 18369, 18379,\n",
       "         18554, 18554, 18554, 18700, 18753, 19047, 19075, 19112, 19075,\n",
       "         18927, 19047, 19075, 19112, 19139, 19153, 19139, 19153, 19324,\n",
       "         20286, 22627, 23472, 23909, 23888, 23930, 24891, 24417, 24466,\n",
       "         24823, 24891, 25417, 27395, 28764, 29520, 29570, 29739, 29802,\n",
       "         31792]]),\n",
       " 'edges': array([[0, 0, 0, ..., 0, 0, 0],\n",
       "        [0, 0, 0, ..., 0, 0, 0],\n",
       "        [0, 0, 0, ..., 0, 0, 0],\n",
       "        ...,\n",
       "        [0, 0, 0, ..., 0, 0, 0],\n",
       "        [0, 0, 0, ..., 0, 0, 0],\n",
       "        [0, 0, 0, ..., 0, 0, 0]]),\n",
       " 'terminals': array([[1, 1, 1, 1, 1, 1, 1, 1, 0, 0, 0, 0, 0, 1, 0, 0, 0, 0, 0, 0, 0, 0,\n",
       "         1, 1, 1, 0, 0, 0, 1, 1, 0, 0, 0, 0, 0, 0, 0, 0, 0, 0, 0, 0, 0, 0,\n",
       "         0, 0, 0, 0, 0, 0, 0, 0, 0, 0, 0, 0, 0, 0, 0, 0, 0, 0, 0, 0, 1, 0,\n",
       "         0, 0, 0, 0, 0, 1, 0, 0, 0, 0, 0, 0, 1, 1, 1, 1, 0, 1, 1, 0, 0, 0,\n",
       "         1, 1, 0, 0, 0, 1, 0, 0, 0, 0, 0, 0],\n",
       "        [0, 0, 0, 0, 0, 0, 0, 0, 0, 0, 0, 0, 0, 0, 0, 0, 0, 0, 0, 0, 0, 0,\n",
       "         0, 0, 0, 0, 0, 0, 0, 0, 0, 0, 0, 0, 0, 0, 0, 0, 0, 0, 0, 0, 0, 0,\n",
       "         0, 0, 0, 0, 0, 0, 0, 0, 0, 0, 0, 0, 0, 0, 0, 0, 0, 0, 0, 0, 0, 0,\n",
       "         1, 0, 0, 0, 1, 0, 0, 0, 0, 1, 0, 0, 0, 0, 0, 0, 1, 0, 0, 0, 1, 0,\n",
       "         0, 0, 0, 0, 1, 0, 1, 1, 1, 1, 1, 1]])}"
      ]
     },
     "execution_count": 38,
     "metadata": {},
     "output_type": "execute_result"
    }
   ],
   "source": [
    "#vars(gene.splicegraph)"
   ]
  },
  {
   "cell_type": "code",
   "execution_count": 39,
   "id": "a0d4b26b",
   "metadata": {
    "collapsed": true
   },
   "outputs": [
    {
     "data": {
      "text/plain": [
       "[(0, 9),\n",
       " (0, 10),\n",
       " (1, 10),\n",
       " (1, 43),\n",
       " (2, 9),\n",
       " (2, 10),\n",
       " (2, 14),\n",
       " (3, 10),\n",
       " (3, 19),\n",
       " (3, 20),\n",
       " (4, 10),\n",
       " (4, 29),\n",
       " (5, 10),\n",
       " (5, 44),\n",
       " (6, 8),\n",
       " (6, 9),\n",
       " (6, 10),\n",
       " (6, 11),\n",
       " (6, 14),\n",
       " (6, 18),\n",
       " (6, 29),\n",
       " (7, 9),\n",
       " (7, 10),\n",
       " (7, 14),\n",
       " (11, 14),\n",
       " (11, 18),\n",
       " (11, 29),\n",
       " (12, 14),\n",
       " (13, 14),\n",
       " (15, 31),\n",
       " (16, 29),\n",
       " (20, 29),\n",
       " (21, 29),\n",
       " (22, 29),\n",
       " (22, 43),\n",
       " (23, 29),\n",
       " (26, 29),\n",
       " (27, 29),\n",
       " (27, 43),\n",
       " (29, 34),\n",
       " (31, 37),\n",
       " (32, 38),\n",
       " (32, 40),\n",
       " (34, 43),\n",
       " (35, 39),\n",
       " (40, 42),\n",
       " (40, 43),\n",
       " (40, 44),\n",
       " (41, 43),\n",
       " (41, 44),\n",
       " (44, 47),\n",
       " (45, 48),\n",
       " (48, 49),\n",
       " (49, 51),\n",
       " (51, 53),\n",
       " (53, 55),\n",
       " (54, 55),\n",
       " (54, 91),\n",
       " (55, 56),\n",
       " (55, 64),\n",
       " (55, 69),\n",
       " (55, 83),\n",
       " (55, 91),\n",
       " (55, 96),\n",
       " (55, 97),\n",
       " (55, 98),\n",
       " (56, 69),\n",
       " (56, 91),\n",
       " (58, 91),\n",
       " (59, 69),\n",
       " (59, 91),\n",
       " (60, 64),\n",
       " (60, 69),\n",
       " (60, 80),\n",
       " (60, 83),\n",
       " (60, 91),\n",
       " (60, 96),\n",
       " (60, 97),\n",
       " (60, 100),\n",
       " (61, 64),\n",
       " (61, 69),\n",
       " (61, 80),\n",
       " (61, 83),\n",
       " (61, 91),\n",
       " (61, 96),\n",
       " (61, 97),\n",
       " (61, 100),\n",
       " (62, 64),\n",
       " (62, 69),\n",
       " (62, 83),\n",
       " (62, 91),\n",
       " (62, 96),\n",
       " (62, 97),\n",
       " (64, 69),\n",
       " (64, 83),\n",
       " (64, 91),\n",
       " (64, 96),\n",
       " (66, 69),\n",
       " (66, 91),\n",
       " (69, 91),\n",
       " (72, 91),\n",
       " (73, 91),\n",
       " (76, 91),\n",
       " (77, 91),\n",
       " (78, 91),\n",
       " (79, 91),\n",
       " (81, 83),\n",
       " (81, 91),\n",
       " (83, 91),\n",
       " (84, 91),\n",
       " (88, 91),\n",
       " (89, 91),\n",
       " (91, 96),\n",
       " (91, 97),\n",
       " (92, 93),\n",
       " (92, 95),\n",
       " (92, 96),\n",
       " (92, 97),\n",
       " (92, 98),\n",
       " (92, 100),\n",
       " (92, 102),\n",
       " (94, 96)]"
      ]
     },
     "execution_count": 39,
     "metadata": {},
     "output_type": "execute_result"
    }
   ],
   "source": [
    "#[(a,b) for a, b in zip(np.where(gene.segmentgraph.seg_edges)[0],np.where(gene.segmentgraph.seg_edges)[1])]"
   ]
  },
  {
   "cell_type": "code",
   "execution_count": 43,
   "id": "75a8e075",
   "metadata": {},
   "outputs": [],
   "source": [
    "edges_coords = np.array([(a,b) for a, b in zip(np.where(gene.splicegraph.edges)[0],np.where(gene.splicegraph.edges)[1])])"
   ]
  },
  {
   "cell_type": "code",
   "execution_count": 51,
   "id": "a2f6fb00",
   "metadata": {},
   "outputs": [
    {
     "data": {
      "text/plain": [
       "(2, 100)"
      ]
     },
     "execution_count": 51,
     "metadata": {},
     "output_type": "execute_result"
    }
   ],
   "source": [
    "gene.splicegraph.vertices.shape"
   ]
  },
  {
   "cell_type": "code",
   "execution_count": 58,
   "id": "9c627302",
   "metadata": {},
   "outputs": [],
   "source": [
    "# CHECK ORDER\n",
    "junction_gene = [(gene.splicegraph.vertices[0][i], gene.splicegraph.vertices[1][j]) for i, j in edges_coords]"
   ]
  },
  {
   "cell_type": "code",
   "execution_count": 107,
   "id": "3486ab93",
   "metadata": {},
   "outputs": [
    {
     "data": {
      "text/plain": [
       "[(57212183, 57213357),\n",
       " (57212183, 57213964),\n",
       " (57212183, 57213357),\n",
       " (57212183, 57213602),\n",
       " (57212975, 57213964),\n",
       " (57213203, 57213095),\n",
       " (57213203, 57213125),\n",
       " (57213203, 57213602),\n",
       " (57213525, 57213357),\n",
       " (57213525, 57213357)]"
      ]
     },
     "execution_count": 107,
     "metadata": {},
     "output_type": "execute_result"
    }
   ],
   "source": [
    "junction_gene[0:10]"
   ]
  },
  {
   "cell_type": "code",
   "execution_count": 63,
   "id": "b309f345",
   "metadata": {},
   "outputs": [],
   "source": [
    "df_junction_gene = pd.DataFrame(junction_gene, columns = ['junction_start', 'junction_end'])"
   ]
  },
  {
   "cell_type": "code",
   "execution_count": 75,
   "id": "eacf219d",
   "metadata": {},
   "outputs": [],
   "source": [
    "junction_graph_unfilt = df_junction_gene.merge(df_OV_jx_unfiltered, on = ['junction_start', 'junction_end'], how = 'left')"
   ]
  },
  {
   "cell_type": "code",
   "execution_count": 80,
   "id": "79f0c438",
   "metadata": {},
   "outputs": [
    {
     "data": {
      "text/html": [
       "<div>\n",
       "<style scoped>\n",
       "    .dataframe tbody tr th:only-of-type {\n",
       "        vertical-align: middle;\n",
       "    }\n",
       "\n",
       "    .dataframe tbody tr th {\n",
       "        vertical-align: top;\n",
       "    }\n",
       "\n",
       "    .dataframe thead th {\n",
       "        text-align: right;\n",
       "    }\n",
       "</style>\n",
       "<table border=\"1\" class=\"dataframe\">\n",
       "  <thead>\n",
       "    <tr style=\"text-align: right;\">\n",
       "      <th></th>\n",
       "      <th>junction_start</th>\n",
       "      <th>junction_end</th>\n",
       "      <th>chr</th>\n",
       "      <th>strand</th>\n",
       "      <th>count</th>\n",
       "    </tr>\n",
       "  </thead>\n",
       "  <tbody>\n",
       "    <tr>\n",
       "      <th>0</th>\n",
       "      <td>14403</td>\n",
       "      <td>15038</td>\n",
       "      <td>NaN</td>\n",
       "      <td>NaN</td>\n",
       "      <td>NaN</td>\n",
       "    </tr>\n",
       "    <tr>\n",
       "      <th>1</th>\n",
       "      <td>14403</td>\n",
       "      <td>15038</td>\n",
       "      <td>NaN</td>\n",
       "      <td>NaN</td>\n",
       "      <td>NaN</td>\n",
       "    </tr>\n",
       "    <tr>\n",
       "      <th>2</th>\n",
       "      <td>14403</td>\n",
       "      <td>15059</td>\n",
       "      <td>NaN</td>\n",
       "      <td>NaN</td>\n",
       "      <td>NaN</td>\n",
       "    </tr>\n",
       "    <tr>\n",
       "      <th>3</th>\n",
       "      <td>14403</td>\n",
       "      <td>15038</td>\n",
       "      <td>NaN</td>\n",
       "      <td>NaN</td>\n",
       "      <td>NaN</td>\n",
       "    </tr>\n",
       "    <tr>\n",
       "      <th>4</th>\n",
       "      <td>14403</td>\n",
       "      <td>17055</td>\n",
       "      <td>NaN</td>\n",
       "      <td>NaN</td>\n",
       "      <td>NaN</td>\n",
       "    </tr>\n",
       "  </tbody>\n",
       "</table>\n",
       "</div>"
      ],
      "text/plain": [
       "   junction_start  junction_end  chr strand  count\n",
       "0           14403         15038  NaN    NaN    NaN\n",
       "1           14403         15038  NaN    NaN    NaN\n",
       "2           14403         15059  NaN    NaN    NaN\n",
       "3           14403         15038  NaN    NaN    NaN\n",
       "4           14403         17055  NaN    NaN    NaN"
      ]
     },
     "metadata": {},
     "output_type": "display_data"
    },
    {
     "name": "stdout",
     "output_type": "stream",
     "text": [
      "(478, 5)\n",
      "(254, 5)\n"
     ]
    }
   ],
   "source": [
    "display(junction_graph_unfilt.head())\n",
    "print(junction_graph_unfilt.shape)\n",
    "print(junction_graph_unfilt.drop_duplicates().shape)\n",
    "junction_graph_unfilt = junction_graph_unfilt.merge(df_OV_jx_unfiltered, on = ['junction_start', 'junction_end'], how = 'left')"
   ]
  },
  {
   "cell_type": "code",
   "execution_count": 81,
   "id": "d2416ea1",
   "metadata": {},
   "outputs": [
    {
     "data": {
      "text/html": [
       "<div>\n",
       "<style scoped>\n",
       "    .dataframe tbody tr th:only-of-type {\n",
       "        vertical-align: middle;\n",
       "    }\n",
       "\n",
       "    .dataframe tbody tr th {\n",
       "        vertical-align: top;\n",
       "    }\n",
       "\n",
       "    .dataframe thead th {\n",
       "        text-align: right;\n",
       "    }\n",
       "</style>\n",
       "<table border=\"1\" class=\"dataframe\">\n",
       "  <thead>\n",
       "    <tr style=\"text-align: right;\">\n",
       "      <th></th>\n",
       "      <th>junction_start</th>\n",
       "      <th>junction_end</th>\n",
       "      <th>chr_x</th>\n",
       "      <th>strand_x</th>\n",
       "      <th>count_x</th>\n",
       "      <th>chr_y</th>\n",
       "      <th>strand_y</th>\n",
       "      <th>count_y</th>\n",
       "    </tr>\n",
       "  </thead>\n",
       "  <tbody>\n",
       "    <tr>\n",
       "      <th>0</th>\n",
       "      <td>14403</td>\n",
       "      <td>15038</td>\n",
       "      <td>NaN</td>\n",
       "      <td>NaN</td>\n",
       "      <td>NaN</td>\n",
       "      <td>NaN</td>\n",
       "      <td>NaN</td>\n",
       "      <td>NaN</td>\n",
       "    </tr>\n",
       "    <tr>\n",
       "      <th>1</th>\n",
       "      <td>14403</td>\n",
       "      <td>15038</td>\n",
       "      <td>NaN</td>\n",
       "      <td>NaN</td>\n",
       "      <td>NaN</td>\n",
       "      <td>NaN</td>\n",
       "      <td>NaN</td>\n",
       "      <td>NaN</td>\n",
       "    </tr>\n",
       "    <tr>\n",
       "      <th>2</th>\n",
       "      <td>14403</td>\n",
       "      <td>15059</td>\n",
       "      <td>NaN</td>\n",
       "      <td>NaN</td>\n",
       "      <td>NaN</td>\n",
       "      <td>NaN</td>\n",
       "      <td>NaN</td>\n",
       "      <td>NaN</td>\n",
       "    </tr>\n",
       "    <tr>\n",
       "      <th>3</th>\n",
       "      <td>14403</td>\n",
       "      <td>15038</td>\n",
       "      <td>NaN</td>\n",
       "      <td>NaN</td>\n",
       "      <td>NaN</td>\n",
       "      <td>NaN</td>\n",
       "      <td>NaN</td>\n",
       "      <td>NaN</td>\n",
       "    </tr>\n",
       "    <tr>\n",
       "      <th>4</th>\n",
       "      <td>14403</td>\n",
       "      <td>17055</td>\n",
       "      <td>NaN</td>\n",
       "      <td>NaN</td>\n",
       "      <td>NaN</td>\n",
       "      <td>NaN</td>\n",
       "      <td>NaN</td>\n",
       "      <td>NaN</td>\n",
       "    </tr>\n",
       "  </tbody>\n",
       "</table>\n",
       "</div>"
      ],
      "text/plain": [
       "   junction_start  junction_end chr_x strand_x  count_x chr_y strand_y  \\\n",
       "0           14403         15038   NaN      NaN      NaN   NaN      NaN   \n",
       "1           14403         15038   NaN      NaN      NaN   NaN      NaN   \n",
       "2           14403         15059   NaN      NaN      NaN   NaN      NaN   \n",
       "3           14403         15038   NaN      NaN      NaN   NaN      NaN   \n",
       "4           14403         17055   NaN      NaN      NaN   NaN      NaN   \n",
       "\n",
       "   count_y  \n",
       "0      NaN  \n",
       "1      NaN  \n",
       "2      NaN  \n",
       "3      NaN  \n",
       "4      NaN  "
      ]
     },
     "execution_count": 81,
     "metadata": {},
     "output_type": "execute_result"
    }
   ],
   "source": [
    "junction_graph_unfilt.head()"
   ]
  },
  {
   "cell_type": "code",
   "execution_count": null,
   "id": "1471148d",
   "metadata": {},
   "outputs": [],
   "source": []
  }
 ],
 "metadata": {
  "kernelspec": {
   "display_name": "Python 3 (ipykernel)",
   "language": "python",
   "name": "python3"
  },
  "language_info": {
   "codemirror_mode": {
    "name": "ipython",
    "version": 3
   },
   "file_extension": ".py",
   "mimetype": "text/x-python",
   "name": "python",
   "nbconvert_exporter": "python",
   "pygments_lexer": "ipython3",
   "version": "3.9.13"
  }
 },
 "nbformat": 4,
 "nbformat_minor": 5
}
