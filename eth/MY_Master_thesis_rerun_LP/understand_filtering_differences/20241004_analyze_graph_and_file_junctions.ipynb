{
 "cells": [
  {
   "cell_type": "code",
   "execution_count": 5,
   "id": "81a8af5a",
   "metadata": {},
   "outputs": [],
   "source": [
    "import os \n",
    "import pandas as pd\n",
    "import path\n",
    "import pickle \n",
    "import numpy as np\n",
    "import h5py"
   ]
  },
  {
   "cell_type": "code",
   "execution_count": 6,
   "id": "c6ee9503",
   "metadata": {},
   "outputs": [],
   "source": [
    "base_path_junctions = '/cluster/work/grlab/projects/projects2021-immuno_peptides/results/TCGA_for_neoepitopes'"
   ]
  },
  {
   "cell_type": "code",
   "execution_count": 136,
   "id": "1e69d56c",
   "metadata": {},
   "outputs": [],
   "source": [
    "folder_OV_jx_unfiltered = 'TCGA_Ovarian_374_results/TCGA_Ovarian_374_results_junctions_unfiltered_tsv'\n",
    "folder_OV_jx_conf2 = 'TCGA_Ovarian_374_results/TCGA_Ovarian_374_results_junctions_conf_2_tsv'\n",
    "\n",
    "folfer_BRCA_jx_unfiltered = ''\n",
    "\n",
    "count_path_OV = os.path.join( base_path_junctions, 'TCGA_Ovarian_374_results/splicing/spladder/genes_graph_conf2.merge_graphs.count.rechunked.hdf5')\n",
    "#count_path_OV = os.path.join( base_path_junctions, 'TCGA_Ovarian_374_results/splicing/spladder/genes_graph_conf2.merge_graphs.count.hdf5')\n",
    "splice_path_OV = os.path.join( base_path_junctions, 'TCGA_Ovarian_374_results/splicing/spladder/genes_graph_conf2.merge_graphs.pickle')\n",
    "sample_file_OV = '/cluster/work/grlab/projects/projects2020_OHSU/sample_lists/TCGA_foreground/sample_full_Ov_378.tsv'\n",
    "\n",
    "count_path_BRCA = os.path.join( base_path_junctions, 'TCGA_Breast_1102_results/splicing/spladder/genes_graph_conf2.merge_graphs.count.hdf5')\n",
    "splice_path_BRCA = os.path.join( base_path_junctions, 'TCGA_Breast_1102_results/splicing/spladder/genes_graph_conf2.merge_graphs.pickle')\n",
    "sample_file_BRCA = \"/cluster/work/grlab/projects/projects2020_OHSU/sample_lists/TCGA_foreground/sample_full_BRCA_1102.tsv\""
   ]
  },
  {
   "cell_type": "code",
   "execution_count": null,
   "id": "0c88147f",
   "metadata": {},
   "outputs": [],
   "source": [
    "sample = 'sample1' # relink samples 1 to 5"
   ]
  },
  {
   "cell_type": "code",
   "execution_count": null,
   "id": "74838036",
   "metadata": {},
   "outputs": [],
   "source": [
    "path_OV_jx_unfiltered = os.path.join(base_path_junctions, folder_OV_jx_unfiltered, sample)\n",
    "print(path_OV_jx_unfiltered)\n",
    "path_OV_jx_conf2 = os.path.join(base_path_junctions, folder_OV_jx_conf2, sample)\n",
    "print(path_OV_jx_conf2)\n",
    "path_OV_jx_unfiltered = os.path.realpath(path_OV_jx_unfiltered)\n",
    "print(path_OV_jx_unfiltered)\n",
    "path_OV_jx_conf2 = os.path.realpath(path_OV_jx_conf2)\n",
    "print(path_OV_jx_conf2)"
   ]
  },
  {
   "cell_type": "code",
   "execution_count": 26,
   "id": "e627e360",
   "metadata": {},
   "outputs": [],
   "source": [
    "sample_name = path_OV_jx_unfiltered.split('/')[-1].replace('.junctions.tsv.gz', '')"
   ]
  },
  {
   "cell_type": "markdown",
   "id": "768de818",
   "metadata": {},
   "source": [
    "# \"Spladder files\""
   ]
  },
  {
   "cell_type": "code",
   "execution_count": 23,
   "id": "71d2a757",
   "metadata": {},
   "outputs": [
    {
     "name": "stdout",
     "output_type": "stream",
     "text": [
      "/cluster/work/grlab/projects/projects2021-immuno_peptides/results/TCGA_for_neoepitopes/TCGA_Ovarian_374_results/TCGA_Ovarian_374_results_junctions_unfiltered_tsv/sample1\n",
      "/cluster/work/grlab/projects/projects2021-immuno_peptides/results/TCGA_for_neoepitopes/TCGA_Ovarian_374_results/TCGA_Ovarian_374_results_junctions_conf_2_tsv/sample1\n",
      "/cluster/work/grlab/projects/projects2021-immuno_peptides/results/TCGA_for_neoepitopes/TCGA_Ovarian_374_results/TCGA_Ovarian_374_results_junctions_unfiltered_tsv/TCGA-25-1319-01A-01R-1565-13.all.junctions.tsv.gz\n",
      "/cluster/work/grlab/projects/projects2021-immuno_peptides/results/TCGA_for_neoepitopes/TCGA_Ovarian_374_results/TCGA_Ovarian_374_results_junctions_conf_2_tsv/TCGA-25-1319-01A-01R-1565-13.all.conf_2.filt.junctions.tsv.gz\n"
     ]
    }
   ],
   "source": [
    "# Load\n",
    "df_OV_jx_unfiltered = pd.read_csv(path_OV_jx_unfiltered,\n",
    "                                  sep = '\\t')\n",
    "df_OV_jx_conf2 = pd.read_csv(path_OV_jx_conf2, \n",
    "                                  sep = '\\t')"
   ]
  },
  {
   "cell_type": "code",
   "execution_count": 25,
   "id": "8cca4be7",
   "metadata": {},
   "outputs": [
    {
     "data": {
      "text/plain": [
       "'TCGA-25-1319-01A-01R-1565-13.all'"
      ]
     },
     "execution_count": 25,
     "metadata": {},
     "output_type": "execute_result"
    }
   ],
   "source": []
  },
  {
   "cell_type": "code",
   "execution_count": 66,
   "id": "fb821578",
   "metadata": {},
   "outputs": [],
   "source": [
    "def unique_junctions_df(df):\n",
    "    display(df.head(3))\n",
    "    print('shape table')\n",
    "    print(df.shape)\n",
    "    print('shape table excluding column count')\n",
    "    print(df.drop(['count'], axis = 1).drop_duplicates().shape)\n",
    "    print('shape table excluding column count, chr')\n",
    "    print(df.drop(['count', 'chr'], axis = 1).drop_duplicates().shape)\n",
    "    print('shape table excluding column count, strand')\n",
    "    print(df.drop(['count', 'strand'], axis = 1).drop_duplicates().shape)\n",
    "    print('shape table excluding column count, strand, chr')\n",
    "    print(df.drop(['count', 'strand', 'chr'], axis = 1).drop_duplicates().shape)\n",
    "    "
   ]
  },
  {
   "cell_type": "code",
   "execution_count": 67,
   "id": "a6269205",
   "metadata": {},
   "outputs": [
    {
     "name": "stdout",
     "output_type": "stream",
     "text": [
      "/cluster/work/grlab/projects/projects2021-immuno_peptides/results/TCGA_for_neoepitopes/TCGA_Ovarian_374_results/TCGA_Ovarian_374_results_junctions_unfiltered_tsv/TCGA-25-1319-01A-01R-1565-13.all.junctions.tsv.gz\n"
     ]
    },
    {
     "data": {
      "text/html": [
       "<div>\n",
       "<style scoped>\n",
       "    .dataframe tbody tr th:only-of-type {\n",
       "        vertical-align: middle;\n",
       "    }\n",
       "\n",
       "    .dataframe tbody tr th {\n",
       "        vertical-align: top;\n",
       "    }\n",
       "\n",
       "    .dataframe thead th {\n",
       "        text-align: right;\n",
       "    }\n",
       "</style>\n",
       "<table border=\"1\" class=\"dataframe\">\n",
       "  <thead>\n",
       "    <tr style=\"text-align: right;\">\n",
       "      <th></th>\n",
       "      <th>chr</th>\n",
       "      <th>strand</th>\n",
       "      <th>junction_start</th>\n",
       "      <th>junction_end</th>\n",
       "      <th>count</th>\n",
       "    </tr>\n",
       "  </thead>\n",
       "  <tbody>\n",
       "    <tr>\n",
       "      <th>0</th>\n",
       "      <td>chr10</td>\n",
       "      <td>-</td>\n",
       "      <td>48114</td>\n",
       "      <td>48614</td>\n",
       "      <td>1</td>\n",
       "    </tr>\n",
       "    <tr>\n",
       "      <th>1</th>\n",
       "      <td>chr10</td>\n",
       "      <td>-</td>\n",
       "      <td>48725</td>\n",
       "      <td>48803</td>\n",
       "      <td>3</td>\n",
       "    </tr>\n",
       "    <tr>\n",
       "      <th>2</th>\n",
       "      <td>chr10</td>\n",
       "      <td>-</td>\n",
       "      <td>277577</td>\n",
       "      <td>281199</td>\n",
       "      <td>12</td>\n",
       "    </tr>\n",
       "  </tbody>\n",
       "</table>\n",
       "</div>"
      ],
      "text/plain": [
       "     chr strand  junction_start  junction_end  count\n",
       "0  chr10      -           48114         48614      1\n",
       "1  chr10      -           48725         48803      3\n",
       "2  chr10      -          277577        281199     12"
      ]
     },
     "metadata": {},
     "output_type": "display_data"
    },
    {
     "name": "stdout",
     "output_type": "stream",
     "text": [
      "shape table\n",
      "(485934, 5)\n",
      "shape table excluding column count\n",
      "(485934, 4)\n",
      "shape table excluding column count, chr\n",
      "(485747, 3)\n",
      "shape table excluding column count, strand\n",
      "(485436, 3)\n",
      "shape table excluding column count, strand, chr\n",
      "(485249, 2)\n",
      "/cluster/work/grlab/projects/projects2021-immuno_peptides/results/TCGA_for_neoepitopes/TCGA_Ovarian_374_results/TCGA_Ovarian_374_results_junctions_conf_2_tsv/TCGA-25-1319-01A-01R-1565-13.all.conf_2.filt.junctions.tsv.gz\n"
     ]
    },
    {
     "data": {
      "text/html": [
       "<div>\n",
       "<style scoped>\n",
       "    .dataframe tbody tr th:only-of-type {\n",
       "        vertical-align: middle;\n",
       "    }\n",
       "\n",
       "    .dataframe tbody tr th {\n",
       "        vertical-align: top;\n",
       "    }\n",
       "\n",
       "    .dataframe thead th {\n",
       "        text-align: right;\n",
       "    }\n",
       "</style>\n",
       "<table border=\"1\" class=\"dataframe\">\n",
       "  <thead>\n",
       "    <tr style=\"text-align: right;\">\n",
       "      <th></th>\n",
       "      <th>chr</th>\n",
       "      <th>strand</th>\n",
       "      <th>junction_start</th>\n",
       "      <th>junction_end</th>\n",
       "      <th>count</th>\n",
       "    </tr>\n",
       "  </thead>\n",
       "  <tbody>\n",
       "    <tr>\n",
       "      <th>0</th>\n",
       "      <td>chr10</td>\n",
       "      <td>-</td>\n",
       "      <td>48114</td>\n",
       "      <td>48614</td>\n",
       "      <td>1</td>\n",
       "    </tr>\n",
       "    <tr>\n",
       "      <th>1</th>\n",
       "      <td>chr10</td>\n",
       "      <td>-</td>\n",
       "      <td>48725</td>\n",
       "      <td>48803</td>\n",
       "      <td>1</td>\n",
       "    </tr>\n",
       "    <tr>\n",
       "      <th>2</th>\n",
       "      <td>chr10</td>\n",
       "      <td>-</td>\n",
       "      <td>277577</td>\n",
       "      <td>281199</td>\n",
       "      <td>9</td>\n",
       "    </tr>\n",
       "  </tbody>\n",
       "</table>\n",
       "</div>"
      ],
      "text/plain": [
       "     chr strand  junction_start  junction_end  count\n",
       "0  chr10      -           48114         48614      1\n",
       "1  chr10      -           48725         48803      1\n",
       "2  chr10      -          277577        281199      9"
      ]
     },
     "metadata": {},
     "output_type": "display_data"
    },
    {
     "name": "stdout",
     "output_type": "stream",
     "text": [
      "shape table\n",
      "(396650, 5)\n",
      "shape table excluding column count\n",
      "(396650, 4)\n",
      "shape table excluding column count, chr\n",
      "(396510, 3)\n",
      "shape table excluding column count, strand\n",
      "(396405, 3)\n",
      "shape table excluding column count, strand, chr\n",
      "(396265, 2)\n"
     ]
    }
   ],
   "source": [
    "print(path_OV_jx_unfiltered)\n",
    "unique_junctions_df(df_OV_jx_unfiltered)\n",
    "print(path_OV_jx_conf2)\n",
    "unique_junctions_df(df_OV_jx_conf2)"
   ]
  },
  {
   "cell_type": "markdown",
   "id": "470205ea",
   "metadata": {},
   "source": [
    "# Graph Single Gene"
   ]
  },
  {
   "cell_type": "code",
   "execution_count": null,
   "id": "13f677ee",
   "metadata": {},
   "outputs": [],
   "source": [
    "graph, meta = pickle.load(open(splice_path_OV, 'rb'))"
   ]
  },
  {
   "cell_type": "code",
   "execution_count": 38,
   "id": "14456bae",
   "metadata": {},
   "outputs": [],
   "source": [
    "gene = graph[1]\n",
    "gene.from_sparse()"
   ]
  },
  {
   "cell_type": "code",
   "execution_count": 107,
   "id": "4f642067",
   "metadata": {
    "scrolled": false
   },
   "outputs": [
    {
     "data": {
      "text/plain": [
       "'ENSG00000227232.5'"
      ]
     },
     "execution_count": 107,
     "metadata": {},
     "output_type": "execute_result"
    }
   ],
   "source": [
    "gene.name"
   ]
  },
  {
   "cell_type": "code",
   "execution_count": 103,
   "id": "40af54e3",
   "metadata": {},
   "outputs": [
    {
     "data": {
      "text/plain": [
       "(103, 103)"
      ]
     },
     "execution_count": 103,
     "metadata": {},
     "output_type": "execute_result"
    }
   ],
   "source": [
    "gene.segmentgraph.seg_edges.shape"
   ]
  },
  {
   "cell_type": "code",
   "execution_count": 106,
   "id": "51fd46f4",
   "metadata": {},
   "outputs": [
    {
     "data": {
      "text/plain": [
       "(100, 100)"
      ]
     },
     "execution_count": 106,
     "metadata": {},
     "output_type": "execute_result"
    }
   ],
   "source": [
    "gene.splicegraph.edges.shape"
   ]
  },
  {
   "cell_type": "code",
   "execution_count": null,
   "id": "06d2de4a",
   "metadata": {},
   "outputs": [],
   "source": []
  },
  {
   "cell_type": "code",
   "execution_count": 39,
   "id": "240f5246",
   "metadata": {},
   "outputs": [],
   "source": [
    "#vars(gene.splicegraph)"
   ]
  },
  {
   "cell_type": "code",
   "execution_count": 40,
   "id": "a0d4b26b",
   "metadata": {},
   "outputs": [],
   "source": [
    "#[(a,b) for a, b in zip(np.where(gene.segmentgraph.seg_edges)[0],np.where(gene.segmentgraph.seg_edges)[1])]"
   ]
  },
  {
   "cell_type": "code",
   "execution_count": 119,
   "id": "0b0cfdfb",
   "metadata": {},
   "outputs": [
    {
     "data": {
      "text/plain": [
       "array([[0, 0, 0, 0, 0, 0, 0, 0, 0, 1, 1, 1, 0, 0, 0, 0, 0, 0, 0, 0],\n",
       "       [0, 0, 0, 0, 0, 0, 0, 0, 0, 0, 1, 0, 0, 0, 0, 0, 0, 0, 0, 0],\n",
       "       [0, 0, 0, 0, 0, 0, 0, 0, 0, 1, 1, 0, 0, 0, 0, 0, 0, 1, 0, 0],\n",
       "       [0, 0, 0, 0, 0, 0, 0, 0, 0, 0, 1, 0, 0, 0, 0, 0, 0, 0, 0, 0],\n",
       "       [0, 0, 0, 0, 0, 0, 0, 0, 0, 0, 1, 0, 0, 0, 0, 0, 0, 0, 0, 0],\n",
       "       [0, 0, 0, 0, 0, 0, 0, 0, 0, 0, 1, 0, 0, 0, 0, 0, 0, 0, 0, 0],\n",
       "       [0, 0, 0, 0, 0, 0, 0, 0, 1, 1, 1, 0, 1, 0, 0, 0, 0, 1, 1, 1],\n",
       "       [0, 0, 0, 0, 0, 0, 0, 0, 0, 1, 1, 0, 0, 0, 0, 0, 0, 1, 0, 0],\n",
       "       [0, 0, 0, 0, 0, 0, 1, 0, 0, 0, 0, 0, 0, 0, 0, 0, 0, 1, 1, 0],\n",
       "       [1, 0, 1, 0, 0, 0, 1, 1, 0, 0, 0, 0, 0, 0, 0, 0, 0, 1, 1, 1],\n",
       "       [1, 1, 1, 1, 1, 1, 1, 1, 0, 0, 0, 0, 0, 0, 1, 1, 1, 1, 1, 1],\n",
       "       [1, 0, 0, 0, 0, 0, 0, 0, 0, 0, 0, 0, 0, 0, 0, 0, 0, 1, 0, 0],\n",
       "       [0, 0, 0, 0, 0, 0, 1, 0, 0, 0, 0, 0, 0, 0, 0, 0, 0, 1, 0, 0],\n",
       "       [0, 0, 0, 0, 0, 0, 0, 0, 0, 0, 0, 0, 0, 0, 0, 0, 0, 1, 0, 0],\n",
       "       [0, 0, 0, 0, 0, 0, 0, 0, 0, 0, 1, 0, 0, 0, 0, 0, 0, 0, 0, 0],\n",
       "       [0, 0, 0, 0, 0, 0, 0, 0, 0, 0, 1, 0, 0, 0, 0, 0, 0, 0, 0, 0],\n",
       "       [0, 0, 0, 0, 0, 0, 0, 0, 0, 0, 1, 0, 0, 0, 0, 0, 0, 0, 0, 0],\n",
       "       [0, 0, 1, 0, 0, 0, 1, 1, 1, 1, 1, 1, 1, 1, 0, 0, 0, 0, 0, 0],\n",
       "       [0, 0, 0, 0, 0, 0, 1, 0, 1, 1, 1, 0, 0, 0, 0, 0, 0, 0, 0, 0],\n",
       "       [0, 0, 0, 0, 0, 0, 1, 0, 0, 1, 1, 0, 0, 0, 0, 0, 0, 0, 0, 0]])"
      ]
     },
     "execution_count": 119,
     "metadata": {},
     "output_type": "execute_result"
    }
   ],
   "source": [
    "gene.splicegraph.edges[0:20, 0:20]\n"
   ]
  },
  {
   "cell_type": "code",
   "execution_count": 122,
   "id": "846b86d9",
   "metadata": {},
   "outputs": [],
   "source": [
    "edges_flattened = gene.splicegraph.edges.flatten()"
   ]
  },
  {
   "cell_type": "code",
   "execution_count": 116,
   "id": "75a8e075",
   "metadata": {},
   "outputs": [
    {
     "name": "stdout",
     "output_type": "stream",
     "text": [
      "[[ 0  9]\n",
      " [ 0 10]\n",
      " [ 0 11]\n",
      " [ 1 10]\n",
      " [ 1 46]\n",
      " [ 2  9]\n",
      " [ 2 10]\n",
      " [ 2 17]\n",
      " [ 3 10]\n",
      " [ 3 26]]\n",
      "(478, 2)\n"
     ]
    }
   ],
   "source": [
    "edges_graph_index = np.array([(a,b) for a, b in zip(np.where(gene.splicegraph.edges)[0],\n",
    "                                               np.where(gene.splicegraph.edges)[1])])\n",
    "print(np.array(edges_graph_index)[0:10])\n",
    "print(np.array(edges_graph_index).shape)"
   ]
  },
  {
   "cell_type": "code",
   "execution_count": 127,
   "id": "f64ad520",
   "metadata": {},
   "outputs": [
    {
     "name": "stdout",
     "output_type": "stream",
     "text": [
      "[   9   10   11  110  146  209  210  217  310  326  327  410  435  510\n",
      "  547  608  609  610  612  617  618  619  620  625  635  709  710  717\n",
      "  806  817  818  820  900  902  906  907  917  918  919  920  925 1000\n",
      " 1001 1002 1003 1004 1005 1006 1007 1014 1015 1016 1017 1018 1019 1020\n",
      " 1021 1025 1035 1100 1117 1206 1217 1317 1410 1437 1510 1535 1610 1632\n",
      " 1635 1702 1706 1707 1708 1709 1710 1711 1712 1713 1730 1731 1732 1733\n",
      " 1734 1735 1736 1806 1808 1809 1810 1835 1836 1846 1906 1909 1910 1935\n",
      " 2006 2008 2009 2010 2035 2036 2046 2110 2146 2235 2236 2335 2435 2506\n",
      " 2509 2510 2535 2603 2631 2635 2703 2731 2735 2835 2932 2934 2935 2936\n",
      " 3017 3038 3117 3126 3127 3139 3216 3217 3229 3240 3242 3317 3346 3417\n",
      " 3429 3441 3504 3506 3510 3515 3516 3517 3518 3519 3520 3522 3523 3524\n",
      " 3525 3526 3527 3528 3529 3543 3544 3545 3546 3547 3617 3618 3620 3622\n",
      " 3629 3646 3647 3714 3746 3830 3846 3931 3946 4032 4046 4134 4143 4146\n",
      " 4232 4246 4335 4341 4350 4351 4435 4448 4535 4549 4601 4618 4620 4621\n",
      " 4633 4635 4636 4637 4638 4639 4640 4641 4642 4650 4651 4705 4735 4736\n",
      " 4750 4751 4844 4850 4945 4950 5043 5046 5047 5048 5049 5052 5053 5054\n",
      " 5143 5146 5147 5156 5191 5250 5255 5350 5356 5450 5456 5491 5552 5556\n",
      " 5651 5653 5654 5655 5657 5658 5659 5660 5661 5662 5663 5665 5674 5675\n",
      " 5676 5687 5690 5691 5695 5696 5697 5756 5775 5791 5856 5891 5956 5975\n",
      " 5991 6056 6068 6069 6070 6072 6073 6074 6075 6076 6077 6082 6086 6087\n",
      " 6090 6091 6095 6096 6098 6156 6165 6166 6167 6168 6169 6170 6172 6173\n",
      " 6174 6175 6176 6177 6182 6186 6187 6190 6191 6195 6196 6198 6256 6265\n",
      " 6266 6270 6274 6275 6276 6277 6286 6290 6291 6295 6296 6356 6374 6375\n",
      " 6376 6387 6391 6395 6491 6556 6561 6562 6574 6575 6576 6587 6591 6595\n",
      " 6661 6662 6761 6774 6775 6791 6860 6861 6891 6960 6961 6991 7060 7061\n",
      " 7062 7191 7260 7261 7291 7360 7361 7391 7456 7460 7461 7462 7463 7465\n",
      " 7467 7490 7491 7556 7557 7559 7560 7561 7562 7563 7565 7567 7656 7660\n",
      " 7661 7662 7663 7665 7691 7760 7761 7762 7791 7891 7991 8091 8191 8260\n",
      " 8261 8385 8391 8491 8583 8591 8660 8661 8662 8756 8760 8761 8763 8765\n",
      " 8796 8891 8991 9056 9060 9061 9062 9074 9095 9096 9151 9154 9156 9157\n",
      " 9158 9159 9160 9161 9162 9163 9164 9165 9167 9168 9169 9171 9172 9173\n",
      " 9174 9176 9177 9178 9179 9180 9181 9183 9184 9185 9188 9189 9192 9194\n",
      " 9195 9196 9197 9198 9199 9291 9395 9491 9556 9560 9561 9562 9563 9565\n",
      " 9590 9591 9593 9656 9660 9661 9662 9687 9690 9691 9756 9791 9860 9861\n",
      " 9891 9991]\n"
     ]
    }
   ],
   "source": [
    "edges_graph_index_flattened = np.where(edges_flattened)[0]\n",
    "print(edges_graph_index_flattened)"
   ]
  },
  {
   "cell_type": "code",
   "execution_count": 115,
   "id": "9c627302",
   "metadata": {},
   "outputs": [
    {
     "name": "stdout",
     "output_type": "stream",
     "text": [
      "[(14403, 15038), (14403, 15038), (14403, 15059), (14403, 15038), (14403, 17055), (14403, 15038), (14403, 15038), (14403, 15947), (14403, 15038), (14403, 16027)]\n"
     ]
    }
   ],
   "source": [
    "# CHECK ORDER\n",
    "junction_gene = [(gene.splicegraph.vertices[0][i], gene.splicegraph.vertices[1][j]) for i, j in edges_graph_index]\n",
    "\n",
    "print(junction_gene[0:10])"
   ]
  },
  {
   "cell_type": "code",
   "execution_count": 82,
   "id": "a843c75a",
   "metadata": {},
   "outputs": [
    {
     "data": {
      "text/plain": [
       "478"
      ]
     },
     "execution_count": 82,
     "metadata": {},
     "output_type": "execute_result"
    }
   ],
   "source": [
    "len(junction_gene)"
   ]
  },
  {
   "cell_type": "code",
   "execution_count": 63,
   "id": "b309f345",
   "metadata": {},
   "outputs": [],
   "source": [
    "df_junction_gene = pd.DataFrame(junction_gene, columns = ['junction_start', 'junction_end'])"
   ]
  },
  {
   "cell_type": "markdown",
   "id": "788ed26b",
   "metadata": {},
   "source": [
    "# Count File"
   ]
  },
  {
   "cell_type": "code",
   "execution_count": 148,
   "id": "a598e1ac",
   "metadata": {},
   "outputs": [
    {
     "name": "stdout",
     "output_type": "stream",
     "text": [
      "<KeysViewHDF5 ['edge_idx', 'edges', 'gene_ids_edges', 'gene_ids_segs', 'gene_names', 'seg_len', 'seg_pos', 'segments', 'strains']>\n",
      "edge_idx\n",
      "(1979609,)\n",
      "edges\n",
      "(1979609, 374)\n",
      "gene_ids_edges\n",
      "(1979609, 1)\n",
      "gene_ids_segs\n",
      "(2243686, 1)\n",
      "gene_names\n",
      "(60609, 1)\n",
      "seg_len\n",
      "(2243686, 1)\n",
      "seg_pos\n",
      "(2243686, 374)\n",
      "segments\n",
      "(2243686, 374)\n",
      "strains\n",
      "(374,)\n"
     ]
    }
   ],
   "source": [
    "# Count file \n",
    "h5f = h5py.File(count_path_OV, 'r')\n",
    "print(h5f.keys())\n",
    "for k in h5f.keys():\n",
    "    print(k)\n",
    "    print(h5f[k].shape)\n",
    "    sample_id = [i for i, j in enumerate(h5f['strains']) if j.decode() == sample_name][0]\n",
    "    edge_expr_sample = h5f['edges'][:, sample_id]\n"
   ]
  },
  {
   "cell_type": "code",
   "execution_count": 149,
   "id": "0acc5968",
   "metadata": {},
   "outputs": [
    {
     "name": "stdout",
     "output_type": "stream",
     "text": [
      "gene id is: 1\n"
     ]
    }
   ],
   "source": [
    "gene_hd5_id = [i for i, j in enumerate(h5f['gene_names'][:, 0]) if j.decode() == gene.name][0]\n",
    "print('gene id is:', gene_hd5_id)"
   ]
  },
  {
   "cell_type": "code",
   "execution_count": 150,
   "id": "2698276c",
   "metadata": {},
   "outputs": [
    {
     "name": "stdout",
     "output_type": "stream",
     "text": [
      "found 122 edges corresponding to the gene\n",
      "[16, 17, 18, 19, 20, 21, 22, 23, 24, 25, 26, 27, 28, 29, 30, 31, 32, 33, 34, 35, 36, 37, 38, 39, 40, 41, 42, 43, 44, 45, 46, 47, 48, 49, 50, 51, 52, 53, 54, 55, 56, 57, 58, 59, 60, 61, 62, 63, 64, 65, 66, 67, 68, 69, 70, 71, 72, 73, 74, 75, 76, 77, 78, 79, 80, 81, 82, 83, 84, 85, 86, 87, 88, 89, 90, 91, 92, 93, 94, 95, 96, 97, 98, 99, 100, 101, 102, 103, 104, 105, 106, 107, 108, 109, 110, 111, 112, 113, 114, 115, 116, 117, 118, 119, 120, 121, 122, 123, 124, 125, 126, 127, 128, 129, 130, 131, 132, 133, 134, 135, 136, 137]\n"
     ]
    }
   ],
   "source": [
    "edges_index_gene = [i for i, j in enumerate(h5f['gene_ids_edges'][:, 0]) if j == gene_hd5_id]\n",
    "print('found', len(edges_index_gene), 'edges corresponding to the gene')\n",
    "print(edges_index_gene)\n"
   ]
  },
  {
   "cell_type": "code",
   "execution_count": 151,
   "id": "1b104822",
   "metadata": {},
   "outputs": [
    {
     "name": "stdout",
     "output_type": "stream",
     "text": [
      "found 122 segments corresponding to the gene\n",
      "[19, 20, 21, 22, 23, 24, 25, 26, 27, 28, 29, 30, 31, 32, 33, 34, 35, 36, 37, 38, 39, 40, 41, 42, 43, 44, 45, 46, 47, 48, 49, 50, 51, 52, 53, 54, 55, 56, 57, 58, 59, 60, 61, 62, 63, 64, 65, 66, 67, 68, 69, 70, 71, 72, 73, 74, 75, 76, 77, 78, 79, 80, 81, 82, 83, 84, 85, 86, 87, 88, 89, 90, 91, 92, 93, 94, 95, 96, 97, 98, 99, 100, 101, 102, 103, 104, 105, 106, 107, 108, 109, 110, 111, 112, 113, 114, 115, 116, 117, 118, 119, 120, 121]\n"
     ]
    }
   ],
   "source": [
    "segm_index_gene = [i for i, j in enumerate(h5f['gene_ids_segs'][:, 0]) if j == gene_hd5_id]\n",
    "print('found', len(edges_index_gene), 'segments corresponding to the gene')\n",
    "print(segm_index_gene)\n"
   ]
  },
  {
   "cell_type": "code",
   "execution_count": null,
   "id": "7ccb8e77",
   "metadata": {},
   "outputs": [],
   "source": [
    "#https://ratschlab.slack.com/archives/DD4F40KPF/p1648498023344119"
   ]
  },
  {
   "cell_type": "code",
   "execution_count": 140,
   "id": "508ab276",
   "metadata": {
    "scrolled": true
   },
   "outputs": [
    {
     "name": "stdout",
     "output_type": "stream",
     "text": [
      "found the following edge idx... [9.000e+00 1.000e+01 1.130e+02 1.460e+02 2.150e+02 2.160e+02 2.200e+02\n",
      " 3.190e+02 3.280e+02 3.290e+02 4.220e+02 4.410e+02 5.250e+02 5.590e+02\n",
      " 6.260e+02 6.270e+02 6.280e+02 6.290e+02 6.320e+02 6.360e+02 6.470e+02\n",
      " 7.300e+02 7.310e+02 7.350e+02 1.147e+03 1.151e+03 1.162e+03 1.250e+03\n",
      " 1.353e+03 1.576e+03 1.677e+03 2.089e+03 2.192e+03 2.295e+03 2.309e+03\n",
      " 2.398e+03 2.707e+03 2.810e+03 2.824e+03 3.021e+03 3.230e+03 3.334e+03\n",
      " 3.336e+03 3.545e+03 3.644e+03 4.162e+03 4.163e+03 4.164e+03 4.266e+03\n",
      " 4.267e+03 4.579e+03 4.683e+03 4.993e+03 5.098e+03 5.306e+03 5.514e+03\n",
      " 5.617e+03 5.653e+03 5.721e+03 5.729e+03 5.734e+03 5.748e+03 5.756e+03\n",
      " 5.761e+03 5.762e+03 5.763e+03 5.837e+03 5.859e+03 6.065e+03 6.146e+03\n",
      " 6.168e+03 6.244e+03 6.249e+03 6.260e+03 6.263e+03 6.271e+03 6.276e+03\n",
      " 6.277e+03 6.280e+03 6.347e+03 6.352e+03 6.363e+03 6.366e+03 6.374e+03\n",
      " 6.379e+03 6.380e+03 6.383e+03 6.450e+03 6.455e+03 6.469e+03 6.477e+03\n",
      " 6.482e+03 6.483e+03 6.661e+03 6.675e+03 6.683e+03 6.688e+03 6.867e+03\n",
      " 6.889e+03 7.198e+03 7.507e+03 7.610e+03 7.919e+03 8.022e+03 8.125e+03\n",
      " 8.228e+03 8.426e+03 8.434e+03 8.640e+03 8.743e+03 9.155e+03 9.258e+03\n",
      " 9.469e+03 9.470e+03 9.569e+03 9.571e+03 9.572e+03 9.573e+03 9.574e+03\n",
      " 9.576e+03 9.578e+03 9.778e+03]\n",
      "found the following edge idx... [9, 10, 113, 146, 215, 216, 220, 319, 328, 329, 422, 441, 525, 559, 626, 627, 628, 629, 632, 636, 647, 730, 731, 735, 1147, 1151, 1162, 1250, 1353, 1576, 1677, 2089, 2192, 2295, 2309, 2398, 2707, 2810, 2824, 3021, 3230, 3334, 3336, 3545, 3644, 4162, 4163, 4164, 4266, 4267, 4579, 4683, 4993, 5098, 5306, 5514, 5617, 5653, 5721, 5729, 5734, 5748, 5756, 5761, 5762, 5763, 5837, 5859, 6065, 6146, 6168, 6244, 6249, 6260, 6263, 6271, 6276, 6277, 6280, 6347, 6352, 6363, 6366, 6374, 6379, 6380, 6383, 6450, 6455, 6469, 6477, 6482, 6483, 6661, 6675, 6683, 6688, 6867, 6889, 7198, 7507, 7610, 7919, 8022, 8125, 8228, 8426, 8434, 8640, 8743, 9155, 9258, 9469, 9470, 9569, 9571, 9572, 9573, 9574, 9576, 9578, 9778]\n"
     ]
    }
   ],
   "source": [
    "edges_index_gene_struct = h5f['edge_idx'][edges_index_gene] # WHAT ARE THOSE???\n",
    "print('found the following edge idx...', edges_index_gene_struct)\n",
    "edges_index_gene_struct = [int(i) for i in edges_index_gene_struct]\n",
    "print('found the following edge idx...', edges_index_gene_struct)"
   ]
  },
  {
   "cell_type": "code",
   "execution_count": 141,
   "id": "edd1faab",
   "metadata": {},
   "outputs": [
    {
     "data": {
      "text/plain": [
       "{9, 10, 146, 3545, 5653, 5756, 6168, 6276, 6277, 6374, 6661}"
      ]
     },
     "execution_count": 141,
     "metadata": {},
     "output_type": "execute_result"
    }
   ],
   "source": [
    "set(edges_graph_index_flattened).intersection(set(edges_index_gene_struct))"
   ]
  },
  {
   "cell_type": "code",
   "execution_count": 146,
   "id": "7e81d6b4",
   "metadata": {},
   "outputs": [
    {
     "data": {
      "text/plain": [
       "array([   9,   10,   11,  110,  146,  209,  210,  217,  310,  326,  327,\n",
       "        410,  435,  510,  547,  608,  609,  610,  612,  617,  618,  619,\n",
       "        620,  625,  635,  709,  710,  717,  806,  817,  818,  820,  900,\n",
       "        902,  906,  907,  917,  918,  919,  920,  925, 1000, 1001, 1002,\n",
       "       1003, 1004, 1005, 1006, 1007, 1014, 1015, 1016, 1017, 1018, 1019,\n",
       "       1020, 1021, 1025, 1035, 1100, 1117, 1206, 1217, 1317, 1410, 1437,\n",
       "       1510, 1535, 1610, 1632, 1635, 1702, 1706, 1707, 1708, 1709, 1710,\n",
       "       1711, 1712, 1713, 1730, 1731, 1732, 1733, 1734, 1735, 1736, 1806,\n",
       "       1808, 1809, 1810, 1835, 1836, 1846, 1906, 1909, 1910, 1935, 2006,\n",
       "       2008, 2009, 2010, 2035, 2036, 2046, 2110, 2146, 2235, 2236, 2335,\n",
       "       2435, 2506, 2509, 2510, 2535, 2603, 2631, 2635, 2703, 2731, 2735,\n",
       "       2835, 2932, 2934, 2935, 2936, 3017, 3038, 3117, 3126, 3127, 3139,\n",
       "       3216, 3217, 3229, 3240, 3242, 3317, 3346, 3417, 3429, 3441, 3504,\n",
       "       3506, 3510, 3515, 3516, 3517, 3518, 3519, 3520, 3522, 3523, 3524,\n",
       "       3525, 3526, 3527, 3528, 3529, 3543, 3544, 3545, 3546, 3547, 3617,\n",
       "       3618, 3620, 3622, 3629, 3646, 3647, 3714, 3746, 3830, 3846, 3931,\n",
       "       3946, 4032, 4046, 4134, 4143, 4146, 4232, 4246, 4335, 4341, 4350,\n",
       "       4351, 4435, 4448, 4535, 4549, 4601, 4618, 4620, 4621, 4633, 4635,\n",
       "       4636, 4637, 4638, 4639, 4640, 4641, 4642, 4650, 4651, 4705, 4735,\n",
       "       4736, 4750, 4751, 4844, 4850, 4945, 4950, 5043, 5046, 5047, 5048,\n",
       "       5049, 5052, 5053, 5054, 5143, 5146, 5147, 5156, 5191, 5250, 5255,\n",
       "       5350, 5356, 5450, 5456, 5491, 5552, 5556, 5651, 5653, 5654, 5655,\n",
       "       5657, 5658, 5659, 5660, 5661, 5662, 5663, 5665, 5674, 5675, 5676,\n",
       "       5687, 5690, 5691, 5695, 5696, 5697, 5756, 5775, 5791, 5856, 5891,\n",
       "       5956, 5975, 5991, 6056, 6068, 6069, 6070, 6072, 6073, 6074, 6075,\n",
       "       6076, 6077, 6082, 6086, 6087, 6090, 6091, 6095, 6096, 6098, 6156,\n",
       "       6165, 6166, 6167, 6168, 6169, 6170, 6172, 6173, 6174, 6175, 6176,\n",
       "       6177, 6182, 6186, 6187, 6190, 6191, 6195, 6196, 6198, 6256, 6265,\n",
       "       6266, 6270, 6274, 6275, 6276, 6277, 6286, 6290, 6291, 6295, 6296,\n",
       "       6356, 6374, 6375, 6376, 6387, 6391, 6395, 6491, 6556, 6561, 6562,\n",
       "       6574, 6575, 6576, 6587, 6591, 6595, 6661, 6662, 6761, 6774, 6775,\n",
       "       6791, 6860, 6861, 6891, 6960, 6961, 6991, 7060, 7061, 7062, 7191,\n",
       "       7260, 7261, 7291, 7360, 7361, 7391, 7456, 7460, 7461, 7462, 7463,\n",
       "       7465, 7467, 7490, 7491, 7556, 7557, 7559, 7560, 7561, 7562, 7563,\n",
       "       7565, 7567, 7656, 7660, 7661, 7662, 7663, 7665, 7691, 7760, 7761,\n",
       "       7762, 7791, 7891, 7991, 8091, 8191, 8260, 8261, 8385, 8391, 8491,\n",
       "       8583, 8591, 8660, 8661, 8662, 8756, 8760, 8761, 8763, 8765, 8796,\n",
       "       8891, 8991, 9056, 9060, 9061, 9062, 9074, 9095, 9096, 9151, 9154,\n",
       "       9156, 9157, 9158, 9159, 9160, 9161, 9162, 9163, 9164, 9165, 9167,\n",
       "       9168, 9169, 9171, 9172, 9173, 9174, 9176, 9177, 9178, 9179, 9180,\n",
       "       9181, 9183, 9184, 9185, 9188, 9189, 9192, 9194, 9195, 9196, 9197,\n",
       "       9198, 9199, 9291, 9395, 9491, 9556, 9560, 9561, 9562, 9563, 9565,\n",
       "       9590, 9591, 9593, 9656, 9660, 9661, 9662, 9687, 9690, 9691, 9756,\n",
       "       9791, 9860, 9861, 9891, 9991])"
      ]
     },
     "execution_count": 146,
     "metadata": {},
     "output_type": "execute_result"
    }
   ],
   "source": [
    "edges_graph_index_flattened"
   ]
  },
  {
   "cell_type": "code",
   "execution_count": null,
   "id": "9dc15557",
   "metadata": {},
   "outputs": [],
   "source": [
    "# WHY ARE THE INDEXE NOT MATCHING??? PROBABLY BECAUSE OF TH DIGONAL INDEXING//\n",
    "#edges_index_gene_struct should be a subset of edges_graph_index_flattened"
   ]
  },
  {
   "cell_type": "code",
   "execution_count": 144,
   "id": "cbfd0a8a",
   "metadata": {},
   "outputs": [
    {
     "name": "stdout",
     "output_type": "stream",
     "text": [
      "found following edge expression with first set of IDS \n",
      "  [  0.   0.   0.   0.   0.   0.   0.   0.   0.   0.   0.   0.   0.   0.\n",
      "   0. 104.   0.   0.   0.   0.   0.   0.   0.   0.  15.   0.   0.   0.\n",
      "   0.   0.   0.   0.  19.   1.   0.   0.   0.   0.   0.   0.   0.   0.\n",
      "   0.   0.   0.   1.  58.   0.   0.   0.   0.   0. 204. 106.   0.   0.\n",
      " 104.   0. 115.   0.   0.   0.   4.   0.   0.   0.   0.   0.   0.   0.\n",
      "   0.   0.   0.   0.   0.  74.   3.   0.   0.   2.   5.   0.   0.   5.\n",
      "   0.   0.   0.   0.   0.   0.   0.   0.   0.   0.   0.   4.   0.   0.\n",
      "   0.   0.   0.   0.   0.   0.   0.   0.   0.   0.   0.   0.   0.   0.\n",
      "   0.   0.   0.   0.  61.   3.   0.   0.   0.   0.]\n",
      "amoung which non-null 19\n",
      "found following edge expression with first set of IDS \n",
      "  [  0.   1.   0.   0.   0.   0.   0.   0.   0.   0.   0.   0.   0.   0.\n",
      "   0.   0.   0.   0.   0.   0.   0.   0.   0.   0.   0.   0.   0.   0.\n",
      "   2.   1.   0.   0.   0.   0.   0.   0.   0.   0.   0.   0.   0.   0.\n",
      "   0.   0.   0.   0.   0.   0.   0.   0.   0.   0.   0.   0.   0.   0.\n",
      "   0.   0.   0.   0.   0.   0.   0.   1.   0.   0.   0.   0. 396.   0.\n",
      "   0.   0.   0.   0.   0.   0.   0.   0.   0.   0.   0.   0.   0.   0.\n",
      "   0.   0.   0.   0.   7.   0.   0.   0.   0.   0.   0.   0.   0.   0.\n",
      "   0.   0.   0.   0.   0.   0.   0.   0.   0.   1.   0.   0.   0.   0.\n",
      "   0.   0. 231.   0.   0.   0.   0.   2.   0.   0.]\n",
      "amoung which non-null 9\n"
     ]
    }
   ],
   "source": [
    "edge_expr_sample_gene = edge_expr_sample[edges_index_gene]\n",
    "print('found following edge expression with first set of IDS \\n ', edge_expr_sample_gene)\n",
    "print ('amoung which non-null', sum(edge_expr_sample_gene > 0))\n",
    "\n",
    "edge_expr_sample_gene = edge_expr_sample[edges_index_gene_struct]\n",
    "print('found following edge expression with first set of IDS \\n ', edge_expr_sample_gene)\n",
    "print ('amoung which non-null', sum(edge_expr_sample_gene > 0))\n"
   ]
  },
  {
   "cell_type": "code",
   "execution_count": null,
   "id": "5d79a9a0",
   "metadata": {},
   "outputs": [],
   "source": [
    "# FIGURE OUT WHICH OF THE TWO INDEXINGS ABOVE IS CORRECT\n",
    "# GET BACK THE IDS THAT ARE NOT NULL \n",
    "# GET THEM BACK FROM THE GRAPH"
   ]
  },
  {
   "cell_type": "code",
   "execution_count": 145,
   "id": "f4a6da01",
   "metadata": {},
   "outputs": [],
   "source": [
    "# CLOSE\n",
    "h5f.close()"
   ]
  },
  {
   "cell_type": "markdown",
   "id": "e65c1b44",
   "metadata": {},
   "source": [
    "# Graph"
   ]
  },
  {
   "cell_type": "code",
   "execution_count": 37,
   "id": "95b0643d",
   "metadata": {},
   "outputs": [],
   "source": [
    "graph, meta = pickle.load(open(splice_path_OV, 'rb'))"
   ]
  },
  {
   "cell_type": "code",
   "execution_count": 86,
   "id": "fd6e9b94",
   "metadata": {
    "scrolled": true
   },
   "outputs": [
    {
     "name": "stdout",
     "output_type": "stream",
     "text": [
      "0\n",
      "1000\n",
      "2000\n",
      "3000\n",
      "4000\n",
      "5000\n",
      "6000\n",
      "7000\n",
      "8000\n",
      "9000\n",
      "10000\n",
      "11000\n",
      "12000\n",
      "13000\n",
      "14000\n",
      "15000\n",
      "16000\n",
      "17000\n",
      "18000\n",
      "19000\n",
      "20000\n",
      "21000\n",
      "22000\n",
      "23000\n",
      "24000\n",
      "25000\n",
      "26000\n",
      "27000\n",
      "28000\n",
      "29000\n",
      "30000\n",
      "31000\n",
      "32000\n",
      "33000\n",
      "34000\n",
      "35000\n",
      "36000\n",
      "37000\n",
      "38000\n",
      "39000\n",
      "40000\n",
      "41000\n",
      "42000\n",
      "43000\n",
      "44000\n",
      "45000\n",
      "46000\n",
      "47000\n",
      "48000\n",
      "49000\n",
      "50000\n",
      "51000\n",
      "52000\n",
      "53000\n",
      "54000\n",
      "55000\n",
      "56000\n",
      "57000\n",
      "58000\n",
      "59000\n",
      "60000\n"
     ]
    }
   ],
   "source": [
    "junction_all_genes = []\n",
    "for idx, gene in enumerate(graph):\n",
    "    if idx % 1000 == 0:\n",
    "        print(idx)\n",
    "    gene.from_sparse()\n",
    "    edges_coords = np.array([(a,b) for a, b in zip(np.where(gene.splicegraph.edges)[0],np.where(gene.splicegraph.edges)[1])])\n",
    "    junction_gene = [(gene.splicegraph.vertices[0][i], gene.splicegraph.vertices[1][j]) for i, j in edges_coords]\n",
    "    junction_all_genes.extend(junction_gene)"
   ]
  },
  {
   "cell_type": "code",
   "execution_count": 101,
   "id": "589faaee",
   "metadata": {},
   "outputs": [],
   "source": [
    "df_junction_gene = pd.DataFrame(junction_all_genes, columns = ['junction_start', 'junction_end'])\n"
   ]
  },
  {
   "cell_type": "code",
   "execution_count": 102,
   "id": "e56c7199",
   "metadata": {},
   "outputs": [
    {
     "data": {
      "text/html": [
       "<div>\n",
       "<style scoped>\n",
       "    .dataframe tbody tr th:only-of-type {\n",
       "        vertical-align: middle;\n",
       "    }\n",
       "\n",
       "    .dataframe tbody tr th {\n",
       "        vertical-align: top;\n",
       "    }\n",
       "\n",
       "    .dataframe thead th {\n",
       "        text-align: right;\n",
       "    }\n",
       "</style>\n",
       "<table border=\"1\" class=\"dataframe\">\n",
       "  <thead>\n",
       "    <tr style=\"text-align: right;\">\n",
       "      <th></th>\n",
       "      <th>junction_start</th>\n",
       "      <th>junction_end</th>\n",
       "    </tr>\n",
       "  </thead>\n",
       "  <tbody>\n",
       "    <tr>\n",
       "      <th>0</th>\n",
       "      <td>11011</td>\n",
       "      <td>12057</td>\n",
       "    </tr>\n",
       "    <tr>\n",
       "      <th>1</th>\n",
       "      <td>11471</td>\n",
       "      <td>12057</td>\n",
       "    </tr>\n",
       "    <tr>\n",
       "      <th>2</th>\n",
       "      <td>11644</td>\n",
       "      <td>12057</td>\n",
       "    </tr>\n",
       "    <tr>\n",
       "      <th>3</th>\n",
       "      <td>11868</td>\n",
       "      <td>12696</td>\n",
       "    </tr>\n",
       "    <tr>\n",
       "      <th>4</th>\n",
       "      <td>11868</td>\n",
       "      <td>12697</td>\n",
       "    </tr>\n",
       "  </tbody>\n",
       "</table>\n",
       "</div>"
      ],
      "text/plain": [
       "   junction_start  junction_end\n",
       "0           11011         12057\n",
       "1           11471         12057\n",
       "2           11644         12057\n",
       "3           11868         12696\n",
       "4           11868         12697"
      ]
     },
     "execution_count": 102,
     "metadata": {},
     "output_type": "execute_result"
    }
   ],
   "source": [
    "df_junction_gene.head()"
   ]
  },
  {
   "cell_type": "code",
   "execution_count": 103,
   "id": "401772c7",
   "metadata": {},
   "outputs": [
    {
     "data": {
      "text/plain": [
       "(21054558, 2)"
      ]
     },
     "execution_count": 103,
     "metadata": {},
     "output_type": "execute_result"
    }
   ],
   "source": [
    "df_junction_gene.shape"
   ]
  },
  {
   "cell_type": "code",
   "execution_count": 104,
   "id": "637bc498",
   "metadata": {},
   "outputs": [
    {
     "data": {
      "text/plain": [
       "(7270711, 2)"
      ]
     },
     "execution_count": 104,
     "metadata": {},
     "output_type": "execute_result"
    }
   ],
   "source": [
    "df_junction_gene.drop_duplicates().shape"
   ]
  },
  {
   "cell_type": "code",
   "execution_count": 105,
   "id": "ed7b1c9d",
   "metadata": {},
   "outputs": [],
   "source": [
    "jxS_graph_unfilt = df_junction_gene.drop_duplicates().merge(\\\n",
    "    df_OV_jx_unfiltered.loc[:, ['junction_start', 'junction_end']].drop_duplicates(), \n",
    "                                          on = ['junction_start', 'junction_end'], how = 'inner')"
   ]
  },
  {
   "cell_type": "code",
   "execution_count": 106,
   "id": "b16f7b2a",
   "metadata": {},
   "outputs": [
    {
     "data": {
      "text/plain": [
       "(561, 2)"
      ]
     },
     "execution_count": 106,
     "metadata": {},
     "output_type": "execute_result"
    }
   ],
   "source": [
    "jxS_graph_unfilt.drop_duplicates().shape"
   ]
  },
  {
   "cell_type": "markdown",
   "id": "ce41e052",
   "metadata": {},
   "source": [
    "# TEST SINGLE GENE MERGE"
   ]
  },
  {
   "cell_type": "code",
   "execution_count": 75,
   "id": "eacf219d",
   "metadata": {},
   "outputs": [],
   "source": [
    "junction_graph_unfilt = df_junction_gene.merge(df_OV_jx_unfiltered, on = ['junction_start', 'junction_end'], how = 'left')"
   ]
  },
  {
   "cell_type": "code",
   "execution_count": 80,
   "id": "79f0c438",
   "metadata": {},
   "outputs": [
    {
     "data": {
      "text/html": [
       "<div>\n",
       "<style scoped>\n",
       "    .dataframe tbody tr th:only-of-type {\n",
       "        vertical-align: middle;\n",
       "    }\n",
       "\n",
       "    .dataframe tbody tr th {\n",
       "        vertical-align: top;\n",
       "    }\n",
       "\n",
       "    .dataframe thead th {\n",
       "        text-align: right;\n",
       "    }\n",
       "</style>\n",
       "<table border=\"1\" class=\"dataframe\">\n",
       "  <thead>\n",
       "    <tr style=\"text-align: right;\">\n",
       "      <th></th>\n",
       "      <th>junction_start</th>\n",
       "      <th>junction_end</th>\n",
       "      <th>chr</th>\n",
       "      <th>strand</th>\n",
       "      <th>count</th>\n",
       "    </tr>\n",
       "  </thead>\n",
       "  <tbody>\n",
       "    <tr>\n",
       "      <th>0</th>\n",
       "      <td>14403</td>\n",
       "      <td>15038</td>\n",
       "      <td>NaN</td>\n",
       "      <td>NaN</td>\n",
       "      <td>NaN</td>\n",
       "    </tr>\n",
       "    <tr>\n",
       "      <th>1</th>\n",
       "      <td>14403</td>\n",
       "      <td>15038</td>\n",
       "      <td>NaN</td>\n",
       "      <td>NaN</td>\n",
       "      <td>NaN</td>\n",
       "    </tr>\n",
       "    <tr>\n",
       "      <th>2</th>\n",
       "      <td>14403</td>\n",
       "      <td>15059</td>\n",
       "      <td>NaN</td>\n",
       "      <td>NaN</td>\n",
       "      <td>NaN</td>\n",
       "    </tr>\n",
       "    <tr>\n",
       "      <th>3</th>\n",
       "      <td>14403</td>\n",
       "      <td>15038</td>\n",
       "      <td>NaN</td>\n",
       "      <td>NaN</td>\n",
       "      <td>NaN</td>\n",
       "    </tr>\n",
       "    <tr>\n",
       "      <th>4</th>\n",
       "      <td>14403</td>\n",
       "      <td>17055</td>\n",
       "      <td>NaN</td>\n",
       "      <td>NaN</td>\n",
       "      <td>NaN</td>\n",
       "    </tr>\n",
       "  </tbody>\n",
       "</table>\n",
       "</div>"
      ],
      "text/plain": [
       "   junction_start  junction_end  chr strand  count\n",
       "0           14403         15038  NaN    NaN    NaN\n",
       "1           14403         15038  NaN    NaN    NaN\n",
       "2           14403         15059  NaN    NaN    NaN\n",
       "3           14403         15038  NaN    NaN    NaN\n",
       "4           14403         17055  NaN    NaN    NaN"
      ]
     },
     "metadata": {},
     "output_type": "display_data"
    },
    {
     "name": "stdout",
     "output_type": "stream",
     "text": [
      "(478, 5)\n",
      "(254, 5)\n"
     ]
    }
   ],
   "source": [
    "display(junction_graph_unfilt.head())\n",
    "print(junction_graph_unfilt.shape)\n",
    "print(junction_graph_unfilt.drop_duplicates().shape)\n",
    "junction_graph_unfilt = junction_graph_unfilt.merge(df_OV_jx_unfiltered, on = ['junction_start', 'junction_end'], how = 'left')"
   ]
  },
  {
   "cell_type": "code",
   "execution_count": 81,
   "id": "d2416ea1",
   "metadata": {
    "scrolled": true
   },
   "outputs": [
    {
     "data": {
      "text/html": [
       "<div>\n",
       "<style scoped>\n",
       "    .dataframe tbody tr th:only-of-type {\n",
       "        vertical-align: middle;\n",
       "    }\n",
       "\n",
       "    .dataframe tbody tr th {\n",
       "        vertical-align: top;\n",
       "    }\n",
       "\n",
       "    .dataframe thead th {\n",
       "        text-align: right;\n",
       "    }\n",
       "</style>\n",
       "<table border=\"1\" class=\"dataframe\">\n",
       "  <thead>\n",
       "    <tr style=\"text-align: right;\">\n",
       "      <th></th>\n",
       "      <th>junction_start</th>\n",
       "      <th>junction_end</th>\n",
       "      <th>chr_x</th>\n",
       "      <th>strand_x</th>\n",
       "      <th>count_x</th>\n",
       "      <th>chr_y</th>\n",
       "      <th>strand_y</th>\n",
       "      <th>count_y</th>\n",
       "    </tr>\n",
       "  </thead>\n",
       "  <tbody>\n",
       "    <tr>\n",
       "      <th>0</th>\n",
       "      <td>14403</td>\n",
       "      <td>15038</td>\n",
       "      <td>NaN</td>\n",
       "      <td>NaN</td>\n",
       "      <td>NaN</td>\n",
       "      <td>NaN</td>\n",
       "      <td>NaN</td>\n",
       "      <td>NaN</td>\n",
       "    </tr>\n",
       "    <tr>\n",
       "      <th>1</th>\n",
       "      <td>14403</td>\n",
       "      <td>15038</td>\n",
       "      <td>NaN</td>\n",
       "      <td>NaN</td>\n",
       "      <td>NaN</td>\n",
       "      <td>NaN</td>\n",
       "      <td>NaN</td>\n",
       "      <td>NaN</td>\n",
       "    </tr>\n",
       "    <tr>\n",
       "      <th>2</th>\n",
       "      <td>14403</td>\n",
       "      <td>15059</td>\n",
       "      <td>NaN</td>\n",
       "      <td>NaN</td>\n",
       "      <td>NaN</td>\n",
       "      <td>NaN</td>\n",
       "      <td>NaN</td>\n",
       "      <td>NaN</td>\n",
       "    </tr>\n",
       "    <tr>\n",
       "      <th>3</th>\n",
       "      <td>14403</td>\n",
       "      <td>15038</td>\n",
       "      <td>NaN</td>\n",
       "      <td>NaN</td>\n",
       "      <td>NaN</td>\n",
       "      <td>NaN</td>\n",
       "      <td>NaN</td>\n",
       "      <td>NaN</td>\n",
       "    </tr>\n",
       "    <tr>\n",
       "      <th>4</th>\n",
       "      <td>14403</td>\n",
       "      <td>17055</td>\n",
       "      <td>NaN</td>\n",
       "      <td>NaN</td>\n",
       "      <td>NaN</td>\n",
       "      <td>NaN</td>\n",
       "      <td>NaN</td>\n",
       "      <td>NaN</td>\n",
       "    </tr>\n",
       "  </tbody>\n",
       "</table>\n",
       "</div>"
      ],
      "text/plain": [
       "   junction_start  junction_end chr_x strand_x  count_x chr_y strand_y  \\\n",
       "0           14403         15038   NaN      NaN      NaN   NaN      NaN   \n",
       "1           14403         15038   NaN      NaN      NaN   NaN      NaN   \n",
       "2           14403         15059   NaN      NaN      NaN   NaN      NaN   \n",
       "3           14403         15038   NaN      NaN      NaN   NaN      NaN   \n",
       "4           14403         17055   NaN      NaN      NaN   NaN      NaN   \n",
       "\n",
       "   count_y  \n",
       "0      NaN  \n",
       "1      NaN  \n",
       "2      NaN  \n",
       "3      NaN  \n",
       "4      NaN  "
      ]
     },
     "execution_count": 81,
     "metadata": {},
     "output_type": "execute_result"
    }
   ],
   "source": [
    "junction_graph_unfilt.head()"
   ]
  },
  {
   "cell_type": "code",
   "execution_count": null,
   "id": "1471148d",
   "metadata": {},
   "outputs": [],
   "source": []
  }
 ],
 "metadata": {
  "kernelspec": {
   "display_name": "Python 3 (ipykernel)",
   "language": "python",
   "name": "python3"
  },
  "language_info": {
   "codemirror_mode": {
    "name": "ipython",
    "version": 3
   },
   "file_extension": ".py",
   "mimetype": "text/x-python",
   "name": "python",
   "nbconvert_exporter": "python",
   "pygments_lexer": "ipython3",
   "version": "3.9.13"
  }
 },
 "nbformat": 4,
 "nbformat_minor": 5
}
