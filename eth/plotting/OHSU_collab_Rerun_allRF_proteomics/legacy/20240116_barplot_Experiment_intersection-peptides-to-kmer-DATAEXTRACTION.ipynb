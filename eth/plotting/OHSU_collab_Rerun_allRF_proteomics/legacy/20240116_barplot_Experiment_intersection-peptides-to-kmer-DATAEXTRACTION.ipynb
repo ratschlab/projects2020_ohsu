{
 "cells": [
  {
   "cell_type": "code",
   "execution_count": 1,
   "id": "817dbd09",
   "metadata": {},
   "outputs": [
    {
     "name": "stderr",
     "output_type": "stream",
     "text": [
      "Matplotlib created a temporary config/cache directory at /scratch/slurm-job.4278904/matplotlib-i9k9j8ch because the default path (/cluster/customapps/biomed/grlab/users/prelotla/.cache/matplotlib) is not a writable directory; it is highly recommended to set the MPLCONFIGDIR environment variable to a writable directory, in particular to speed up the import of Matplotlib and to better support multiprocessing.\n"
     ]
    }
   ],
   "source": [
    "import pandas as pd\n",
    "import glob\n",
    "import os \n",
    "import numpy as np \n",
    "import matplotlib.pyplot as plt\n",
    "import seaborn as sns\n",
    "from collections import defaultdict\n",
    "from Bio import SeqIO\n",
    "import tarfile\n",
    "import gzip\n",
    "%load_ext autoreload\n",
    "%autoreload 2\n",
    "from helpers_barplot_intersection import plot_text, plot_intersection_bars\n",
    "from helpers_barplot_intersection_kmers import explode_immunopepper_coord, search_result_peptides_ids \n",
    "from helpers_barplot_intersection_kmers import get_pep_ids, get_pep_coord, tar_reader\n",
    "from helpers_barplot_intersection_kmers import validated_filtered_kmers, reader_assign_conf_pep\n",
    "from helpers_barplot_intersection_kmers import compare_OHSU_ETH, kmer_in_bi_exon_peptide\n"
   ]
  },
  {
   "cell_type": "code",
   "execution_count": 2,
   "id": "fde707b7",
   "metadata": {},
   "outputs": [],
   "source": [
    "# INPUTS \n",
    "read_from_disk = True # or reload\n",
    "proteomicsdir = '/cluster/work/grlab/projects/projects2020_OHSU/proteomics_fixMerge_25012024'\n",
    "#proteomicsdir = '/cluster/work/grlab/projects/projects2020_OHSU/proteomics'\n",
    "\n",
    "pipelines = ['OHSU', 'ETH']\n",
    "\n",
    "FDR_limit = 0.05\n",
    "MS_FDR = '_crux' #choices: '_crema' '_crux' or ''\n",
    "MS_strategy = 'pool' #Choices: 'pool' 'joint', 'single' \n",
    "\n",
    "#pool: pool all experiments per pipeline\n",
    "#joint: pool all experiments for both pipeline\n",
    "#single: per experiment per pipeline\n",
    "\n",
    "if MS_FDR == '_crema':\n",
    "    FDR_file = 'crema.peptides.txt'\n",
    "    col_seq = 'sequence'\n",
    "    col_qvalue = 'crema q-value'\n",
    "elif MS_FDR == '_crux' or  MS_FDR == '':\n",
    "    FDR_file = 'assign-confidence.target.txt'\n",
    "    col_seq = 'unmodified sequence'\n",
    "    col_qvalue = 'tdc q-value'\n",
    "else:\n",
    "    print(f'ERROR: wrong input for {FDR_file}')\n",
    "\n",
    "    \n",
    "\n",
    "sample_plot_dir = {}\n",
    "run_type_plot_dir = {}    \n",
    "all_samples = []\n",
    "\n",
    "# BRCA\n",
    "samples = ['TCGA-C8-A12P-01A-11R-A115-07',\n",
    "                  'TCGA-AO-A0JM-01A-21R-A056-07',\n",
    "                  'TCGA-BH-A18V-01A-11R-A12D-07',\n",
    "                  'TCGA-A2-A0D2-01A-21R-A034-07',\n",
    "                  'TCGA-A2-A0SX-01A-12R-A084-07']\n",
    "all_samples.extend(samples)\n",
    "basedir = '/cluster/work/grlab/projects/projects2020_OHSU/peptides_generation/CANCER_eth/commit_c4dd02c_conf2_Frame_cap0_runs/TCGA_Breast_1102'\n",
    "filter_dir = os.path.join(basedir, 'filtering_samples', 'filters_19May_order_5ge_wAnnot_GPstar')\n",
    "\n",
    "for sample in samples:\n",
    "    sample_plot_dir[sample] = os.path.join(filter_dir, 'plots')\n",
    "    run_type_plot_dir[sample] = 'BRCA'\n",
    "    \n",
    "# OV\n",
    "samples = ['TCGA-25-1319-01A-01R-1565-13',\n",
    "                  'TCGA-25-1313-01A-01R-1565-13',\n",
    "                  'TCGA-61-2008-01A-02R-1568-13',\n",
    "                  'TCGA-24-1431-01A-01R-1566-13',\n",
    "                  'TCGA-24-2298-01A-01R-1569-13']\n",
    "all_samples.extend(samples)\n",
    "basedir = '/cluster/work/grlab/projects/projects2020_OHSU/peptides_generation/CANCER_eth/commit_c4dd02c_conf2_Frame_cap0_runs/TCGA_Ovarian_374'\n",
    "filter_dir = os.path.join(basedir, 'filtering_samples', 'filters_19May_order_5ge_wAnnot_GPstar')\n",
    "\n",
    "for sample in samples:\n",
    "    sample_plot_dir[sample] = os.path.join(filter_dir, 'plots')\n",
    "    run_type_plot_dir[sample] = 'OV'\n",
    "    \n",
    "fasta_base_OHSU = '/cluster/work/grlab/projects/projects2020_OHSU/share_OHUS_PNLL/current'\n",
    "fasta_base_ETH = '/cluster/work/grlab/projects/projects2020_OHSU/peptides_generation/CANCER_eth/commit_c4dd02c_conf2_Frame_cap0_runs/*/filtering_samples/filters_19May_order_5ge_wAnnot_GPstar'\n",
    "        #format fasta_file = f'{fasta_base_OHSU}/J_{sample}_pool_kmer.fa'\n",
    "        #format fasta_file = f'{fasta_base_ETH}/G_{sample}_pool_kmer_25012024.fa.gz'\n",
    "kmer_files_OHSU = '/cluster/work/grlab/projects/projects2020_OHSU/share_OHUS_PNLL/archive/June28_renamed_kmerfiles_OHSU.tar.gz'\n",
    "  \n",
    "# PLOTTING Parameters \n",
    "ticks_fontsize = 12\n",
    "axislabels_fontsize = 12\n",
    "legend_fontsize = 12\n",
    "axes_fontsize = 15\n",
    "save = False\n",
    "sample = None"
   ]
  },
  {
   "cell_type": "markdown",
   "id": "0c7b9eb2",
   "metadata": {},
   "source": [
    "# Parse: results for all experiments"
   ]
  },
  {
   "cell_type": "code",
   "execution_count": 4,
   "id": "fc5480d1",
   "metadata": {},
   "outputs": [
    {
     "name": "stdout",
     "output_type": "stream",
     "text": [
      "Reading /cluster/work/grlab/projects/projects2020_OHSU/proteomics_fixMerge_25012024/OHSU/TCGA-C8-A12P/assign_conf_pooled_FDR_crux/tsearch-J0A53XGA.txt\n",
      "With Shape: 1469\n",
      "With unique peptides: 31\n",
      "Number of validated psm: (0, 18)\n",
      "0 validated kmers\n",
      "\n",
      "\n",
      "Reading /cluster/work/grlab/projects/projects2020_OHSU/proteomics_fixMerge_25012024/OHSU/TCGA-C8-A12P/assign_conf_pooled_FDR_crux/tsearch-J0A13AGA.txt\n",
      "With Shape: 9545\n",
      "With unique peptides: 258\n",
      "Number of validated psm: (12, 18)\n"
     ]
    },
    {
     "ename": "AssertionError",
     "evalue": "",
     "output_type": "error",
     "traceback": [
      "\u001b[0;31m---------------------------------------------------------------------------\u001b[0m",
      "\u001b[0;31mAssertionError\u001b[0m                            Traceback (most recent call last)",
      "Cell \u001b[0;32mIn [4], line 47\u001b[0m\n\u001b[1;32m     45\u001b[0m df_filtered \u001b[38;5;241m=\u001b[39m reader_assign_conf_pep(df, FDR_limit, col_seq, col_qvalue)\n\u001b[1;32m     46\u001b[0m \u001b[38;5;28;01mif\u001b[39;00m df_filtered\u001b[38;5;241m.\u001b[39mshape[\u001b[38;5;241m0\u001b[39m]:\n\u001b[0;32m---> 47\u001b[0m     df_filtered \u001b[38;5;241m=\u001b[39m \u001b[43mvalidated_filtered_kmers\u001b[49m\u001b[43m(\u001b[49m\u001b[43mdf_filtered\u001b[49m\u001b[43m,\u001b[49m\u001b[43m \u001b[49m\u001b[43mfasta_base_OHSU\u001b[49m\u001b[43m,\u001b[49m\u001b[43m \u001b[49m\u001b[43mkmer_files_OHSU\u001b[49m\u001b[43m,\u001b[49m\n\u001b[1;32m     48\u001b[0m \u001b[43m                                           \u001b[49m\u001b[43mfasta_base_ETH\u001b[49m\u001b[43m,\u001b[49m\u001b[43m \u001b[49m\u001b[43msample\u001b[49m\u001b[43m,\u001b[49m\u001b[43m \u001b[49m\u001b[43mexperiment\u001b[49m\u001b[43m,\u001b[49m\u001b[43m \u001b[49m\n\u001b[1;32m     49\u001b[0m \u001b[43m                                           \u001b[49m\u001b[43mpipeline\u001b[49m\u001b[43m)\u001b[49m\n\u001b[1;32m     50\u001b[0m     samples_store_kmers[sample][cut_name][pipeline] \u001b[38;5;241m=\u001b[39m \u001b[38;5;28mset\u001b[39m(df_filtered[\u001b[38;5;124m'\u001b[39m\u001b[38;5;124mkmer\u001b[39m\u001b[38;5;124m'\u001b[39m])\n\u001b[1;32m     51\u001b[0m \u001b[38;5;28;01melse\u001b[39;00m:\n",
      "Cell \u001b[0;32mIn [3], line 57\u001b[0m, in \u001b[0;36mvalidated_filtered_kmers\u001b[0;34m(df_filtered, fasta_base_OHSU, kmer_files_OHSU, fasta_base_ETH, sample, experiment, pipeline)\u001b[0m\n\u001b[1;32m     54\u001b[0m \u001b[38;5;66;03m# Remove kmers in different reading frames than the peptide \u001b[39;00m\n\u001b[1;32m     55\u001b[0m df_filtered_jx_kmers \u001b[38;5;241m=\u001b[39m kmer_in_bi_exon_peptide(df_filtered_jx_kmers)\n\u001b[0;32m---> 57\u001b[0m \u001b[38;5;28;01massert\u001b[39;00m(\u001b[38;5;28;01mFalse\u001b[39;00m)\n\u001b[1;32m     58\u001b[0m \u001b[38;5;28;01mreturn\u001b[39;00m df_filtered_jx_kmers\n",
      "\u001b[0;31mAssertionError\u001b[0m: "
     ]
    }
   ],
   "source": [
    "## Get kmers from result files\n",
    "if read_from_disk:\n",
    "    samples_store_kmers = {}\n",
    "    samples_store_rates_kmers = {}\n",
    "\n",
    "    for sample in all_samples:\n",
    "\n",
    "        sample_short = '-'.join(sample.split('-')[0:3])\n",
    "        samples_store_kmers[sample] = defaultdict(dict)\n",
    "        samples_store_rates_kmers[sample] = defaultdict(dict)\n",
    "        for pipeline in pipelines:\n",
    "            path_single = os.path.join(proteomicsdir, pipeline, sample_short, \n",
    "                                       f'assign_conf_per_experiment{MS_FDR}')\n",
    "            path_pool_pipeline = os.path.join(proteomicsdir, pipeline, sample_short, \n",
    "                                              f'assign_conf_pooled_FDR{MS_FDR}')\n",
    "            path_pool_union = os.path.join(proteomicsdir, \n",
    "                                           f'assign_conf_joint_to_{pipeline}{MS_FDR}', sample_short)\n",
    "            path_TEST_OHSU = os.path.join(proteomicsdir, 'OHSU', sample_short, \n",
    "                                       f'assign_conf_per_experiment{MS_FDR}')\n",
    "            path_TEST_ETH = os.path.join(proteomicsdir, 'ETH', sample_short, \n",
    "                                       f'assign_conf_per_experiment{MS_FDR}')\n",
    "\n",
    "\n",
    "            experiment_list = [ i.split('/')[-1] for i in glob.glob(path_single + '/*')] #check\n",
    "\n",
    "            for experiment in experiment_list:\n",
    "                if pipeline == 'OHSU':\n",
    "                    original_name = experiment\n",
    "                    cut_name = experiment[1:]\n",
    "                else:\n",
    "                    original_name = experiment\n",
    "                    cut_name = experiment          \n",
    "\n",
    "                if os.path.isfile(os.path.join(path_TEST_OHSU, 'J' + cut_name, FDR_file)) and \\\n",
    "                     os.path.isfile(os.path.join(path_TEST_ETH, cut_name, FDR_file)): #Commun experiments               \n",
    "\n",
    "                    # search 1 experiment, 1 pipeline  \n",
    "                    if MS_strategy == 'single':\n",
    "                        df = os.path.join(path_single, original_name, FDR_file)\n",
    "                    # search all experiments, 1 pipeline\n",
    "                    if MS_strategy == 'pool':\n",
    "                        df = os.path.join(path_pool_pipeline, f'tsearch-{original_name}.txt')\n",
    "                    # search all experiments, 1 union of pipelines\n",
    "                    if MS_strategy == 'joint':\n",
    "                        df = os.path.join(path_pool_union, f'tsearch-{original_name}.txt')\n",
    "\n",
    "                    df_filtered = reader_assign_conf_pep(df, FDR_limit, col_seq, col_qvalue)\n",
    "                    \n",
    "                    df_filtered, val_rate_kmers = validated_filtered_kmers(df_filtered, fasta_base_OHSU, kmer_files_OHSU,\n",
    "                                                           fasta_base_ETH, sample, experiment, \n",
    "                                                           pipeline)\n",
    "\n",
    "                        \n",
    "                    samples_store_kmers[sample][cut_name][pipeline] = set(df_filtered['kmer'])\n",
    "                    samples_store_rates_kmers[sample][cut_name][pipeline] = val_rate_kmers\n",
    "                        \n",
    "                    print(f'{len( samples_store_kmers[sample][cut_name][pipeline])} validated kmers')\n",
    "\n",
    "                    print('\\n')\n"
   ]
  },
  {
   "cell_type": "code",
   "execution_count": null,
   "id": "3e4f789e",
   "metadata": {},
   "outputs": [],
   "source": [
    "# Performs sets comparisons\n",
    "compare = compare_OHSU_ETH(samples_store_kmers, read_from_disk)"
   ]
  },
  {
   "cell_type": "markdown",
   "id": "3ff28f47",
   "metadata": {},
   "source": [
    "# Plot: Results per experiment"
   ]
  },
  {
   "cell_type": "code",
   "execution_count": null,
   "id": "311ce84c",
   "metadata": {},
   "outputs": [],
   "source": [
    "# Choose plotting sample\n",
    "sample = 'TCGA-25-1319-01A-01R-1565-13'\n",
    "#sample =  'TCGA-AO-A0JM-01A-21R-A056-07'"
   ]
  },
  {
   "cell_type": "code",
   "execution_count": null,
   "id": "93a0a305",
   "metadata": {},
   "outputs": [],
   "source": [
    "if read_from_disk:\n",
    "    df = pd.DataFrame(compare)\n",
    "    display(df.head())\n",
    "    print(df.shape)\n",
    "else:\n",
    "    df = None"
   ]
  },
  {
   "cell_type": "code",
   "execution_count": null,
   "id": "14d7f0ec",
   "metadata": {
    "scrolled": true
   },
   "outputs": [],
   "source": [
    "def run_sample_plotting(sample_plot_dir, sample, df, MS_FDR, MS_strategy, save):\n",
    "    order_file = os.path.join(sample_plot_dir[sample], f'{sample}_Barplot_sorting.tsv.gz')\n",
    "    order_file = pd.read_csv(order_file, sep = '\\t')\n",
    "    display(order_file.head())\n",
    "    print(order_file.shape)\n",
    "    df_plot = order_file.merge(df, on = ['sample', 'filter_'], how = 'inner')\n",
    "    df_plot = df_plot.fillna(0)\n",
    "    print(df_plot.shape)\n",
    "    df_plot = df_plot.sort_values('index')\n",
    "    display(df_plot.head())\n",
    "    # Plotting\n",
    "    run_type = run_type_plot_dir[sample]\n",
    "\n",
    "    back_ticks = df_plot['filter_background'] \n",
    "    front_ticks = df_plot['filter_foreground']\n",
    "\n",
    "    serie_index = df_plot['index']\n",
    "    serie_intersection = df_plot['pep_size_intersection']\n",
    "    serie_eth = df_plot['pep_size_eth']\n",
    "    print(serie_eth)\n",
    "    serie_ohsu = df_plot['pep_size_ohsu']\n",
    "    y_label = 'Number of MS-detected tryptic junction-peptides'\n",
    "\n",
    "    name_plot = f'Barplot_ovelap_valKMERS{MS_FDR}_{MS_strategy}'\n",
    "    base_plot = sample\n",
    "    plot_dir = sample_plot_dir[sample]\n",
    "\n",
    "    plot_intersection_bars(back_ticks, front_ticks, ticks_fontsize, axislabels_fontsize, \n",
    "                              legend_fontsize, axes_fontsize, run_type, \n",
    "                               serie_index, serie_intersection, serie_eth, serie_ohsu,\n",
    "                               y_label, save, plot_dir, base_plot, name_plot)\n",
    "    return df_plot"
   ]
  },
  {
   "cell_type": "code",
   "execution_count": null,
   "id": "668e94e7",
   "metadata": {
    "scrolled": false
   },
   "outputs": [],
   "source": [
    "# TMP CODE single sample\n",
    "path_data = os.path.join(sample_plot_dir[sample], f'data_kmers{MS_FDR}_{MS_strategy}.tsv.gz')\n",
    "if df is not None:\n",
    "    df.to_csv(path_data, sep = '\\t', index = None)\n",
    "    print(f'Saved data to {path_data}')\n",
    "else:\n",
    "    df = pd.read_csv(path_data, sep = '\\t')\n",
    "df_plot = run_sample_plotting(sample_plot_dir, sample, df, MS_FDR, MS_strategy, save)"
   ]
  },
  {
   "cell_type": "code",
   "execution_count": null,
   "id": "f2e9ba06",
   "metadata": {},
   "outputs": [],
   "source": [
    "# for sample in all_samples:\n",
    "#     path_data = os.path.join(sample_plot_dir[sample], f'data{MS_FDR}_{MS_strategy}.tsv.gz')\n",
    "#     print(path_data)\n",
    "#     if df is not None:\n",
    "#         df.to_csv(path_data, sep = '\\t', index = None)\n",
    "#     else:\n",
    "#         df = pd.read_csv(path_data, sep = '\\t')\n",
    "#     run_sample_plotting(sample_plot_dir, sample, df, MS_FDR, MS_strategy, save)"
   ]
  },
  {
   "cell_type": "code",
   "execution_count": null,
   "id": "bd20f824",
   "metadata": {},
   "outputs": [],
   "source": []
  }
 ],
 "metadata": {
  "kernelspec": {
   "display_name": "pep3",
   "language": "python",
   "name": "pep3"
  },
  "language_info": {
   "codemirror_mode": {
    "name": "ipython",
    "version": 3
   },
   "file_extension": ".py",
   "mimetype": "text/x-python",
   "name": "python",
   "nbconvert_exporter": "python",
   "pygments_lexer": "ipython3",
   "version": "3.9.13"
  }
 },
 "nbformat": 4,
 "nbformat_minor": 5
}
