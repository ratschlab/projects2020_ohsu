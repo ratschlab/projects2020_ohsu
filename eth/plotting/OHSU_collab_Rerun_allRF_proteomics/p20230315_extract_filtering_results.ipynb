{
 "cells": [
  {
   "cell_type": "code",
   "execution_count": 56,
   "id": "87d8e16e",
   "metadata": {
    "scrolled": true
   },
   "outputs": [],
   "source": [
    "import matplotlib.pyplot as plt\n",
    "import seaborn as sns\n",
    "import pandas as pd\n",
    "import numpy as np\n",
    "import os\n",
    "import tarfile\n",
    "import glob\n",
    "from matplotlib.colors import LogNorm\n",
    "import pathlib\n",
    "import pickle"
   ]
  },
  {
   "cell_type": "code",
   "execution_count": 73,
   "id": "29b54ae5",
   "metadata": {},
   "outputs": [],
   "source": [
    "# Inputs ETH\n",
    "run_type = 'ov'\n",
    "\n",
    "if run_type == 'brca':\n",
    "   \n",
    "    sample_target = 'TCGA-AO-A0JM-01A-21R-A056-07'\n",
    "    samples = ['TCGA-C8-A12P-01A-11R-A115-07',\n",
    "                      'TCGA-AO-A0JM-01A-21R-A056-07',\n",
    "                      'TCGA-BH-A18V-01A-11R-A12D-07',\n",
    "                      'TCGA-A2-A0D2-01A-21R-A034-07',\n",
    "                      'TCGA-A2-A0SX-01A-12R-A084-07']\n",
    "    basedir = '/cluster/work/grlab/projects/projects2020_OHSU/peptides_generation/CANCER_eth/commit_c4dd02c_conf2_Frame_cap0_runs/TCGA_Breast_1102'\n",
    "elif run_type == 'ov':\n",
    "    sample_target = 'TCGA-25-1319-01A-01R-1565-13'\n",
    "    samples = ['TCGA-25-1319-01A-01R-1565-13',\n",
    "                      'TCGA-25-1313-01A-01R-1565-13',\n",
    "                      'TCGA-61-2008-01A-02R-1568-13',\n",
    "                      'TCGA-24-1431-01A-01R-1566-13',\n",
    "                      'TCGA-24-2298-01A-01R-1569-13']\n",
    "    basedir = '/cluster/work/grlab/projects/projects2020_OHSU/peptides_generation/CANCER_eth/commit_c4dd02c_conf2_Frame_cap0_runs/TCGA_Ovarian_374'\n",
    "\n",
    "filtering_id = 'filters_19May_order_5ge_wAnnot_GPstar'\n",
    "filter_dir = os.path.join(basedir, 'filtering_samples', filtering_id)\n",
    "\n",
    "\n",
    "# PLOT\n",
    "plot_dir = os.path.join(filter_dir, 'plots')\n",
    "base_plot = sample_target\n",
    "pathlib.Path(plot_dir).mkdir(parents=True, exist_ok=True)\n",
    "\n",
    "# OHSU\n",
    "files_OHSU = '/cluster/work/grlab/projects/projects2020_OHSU/share_OHUS_PNLL/current/kmer_files'"
   ]
  },
  {
   "cell_type": "code",
   "execution_count": 74,
   "id": "89232659",
   "metadata": {},
   "outputs": [],
   "source": [
    "# ETH Names\n",
    "eth_all = glob.glob(os.path.join(filter_dir, 'G*'))\n",
    "eth_all = [i for i in eth_all if len(os.path.basename(i)) == 45] #Shorten path has len 45\n"
   ]
  },
  {
   "cell_type": "code",
   "execution_count": 75,
   "id": "827e23c8",
   "metadata": {},
   "outputs": [],
   "source": [
    "# OHSU Names\n",
    "ohsu_all = glob.glob(os.path.join(files_OHSU, 'J*'))"
   ]
  },
  {
   "cell_type": "code",
   "execution_count": 76,
   "id": "3d347c93",
   "metadata": {},
   "outputs": [],
   "source": [
    "# Get file pairs\n",
    "file_pair = {}\n",
    "for idx_eth, eth in enumerate(eth_all):\n",
    "    eth_pattern = os.path.basename(eth).replace('G_', '').replace('.gz', '') \n",
    "    for idx_ohsu, ohsu in enumerate(ohsu_all):\n",
    "        if eth_pattern in ohsu:\n",
    "            file_pair[eth] = ohsu\n",
    "\n",
    "            "
   ]
  },
  {
   "cell_type": "code",
   "execution_count": 77,
   "id": "6c9e4327",
   "metadata": {},
   "outputs": [
    {
     "name": "stdout",
     "output_type": "stream",
     "text": [
      "175\n"
     ]
    }
   ],
   "source": [
    "print(len(file_pair))"
   ]
  },
  {
   "cell_type": "code",
   "execution_count": 78,
   "id": "027a98f9",
   "metadata": {},
   "outputs": [
    {
     "name": "stdout",
     "output_type": "stream",
     "text": [
      "1800\n"
     ]
    }
   ],
   "source": [
    "all_ohsu = set(ohsu_all) #TODO PLOT THE OHSU motifs matching ETH\n",
    "print(len(all_ohsu))"
   ]
  },
  {
   "cell_type": "code",
   "execution_count": 79,
   "id": "36531d2b",
   "metadata": {},
   "outputs": [],
   "source": [
    "found_ohsu = set(file_pair.values())\n",
    "found_eth = set(file_pair.keys()) "
   ]
  },
  {
   "cell_type": "code",
   "execution_count": 80,
   "id": "d10a6021",
   "metadata": {},
   "outputs": [
    {
     "name": "stdout",
     "output_type": "stream",
     "text": [
      "325\n"
     ]
    }
   ],
   "source": [
    "all_eth = set(eth_all)\n",
    "print(len(all_eth))"
   ]
  },
  {
   "cell_type": "code",
   "execution_count": 81,
   "id": "033d54c8",
   "metadata": {},
   "outputs": [
    {
     "data": {
      "text/plain": [
       "150"
      ]
     },
     "execution_count": 81,
     "metadata": {},
     "output_type": "execute_result"
    }
   ],
   "source": [
    "len(all_eth - found_eth)"
   ]
  },
  {
   "cell_type": "code",
   "execution_count": 82,
   "id": "8b9f2e7d",
   "metadata": {},
   "outputs": [
    {
     "data": {
      "text/plain": [
       "1625"
      ]
     },
     "execution_count": 82,
     "metadata": {},
     "output_type": "execute_result"
    }
   ],
   "source": [
    "len(all_ohsu - found_ohsu)"
   ]
  },
  {
   "cell_type": "code",
   "execution_count": 83,
   "id": "921132f5",
   "metadata": {},
   "outputs": [
    {
     "name": "stdout",
     "output_type": "stream",
     "text": [
      "0\n"
     ]
    }
   ],
   "source": [
    "print(len(all_ohsu & all_eth))"
   ]
  },
  {
   "cell_type": "markdown",
   "id": "d9139e05",
   "metadata": {},
   "source": [
    "# Collect Data to plot"
   ]
  },
  {
   "cell_type": "code",
   "execution_count": 84,
   "id": "1b1d782b",
   "metadata": {},
   "outputs": [],
   "source": [
    "### Compute the intersection sizes on the fly for the sample\n",
    "restrict = ''\n",
    "df = {'sample' : [], \n",
    "      'filter_' : [], \n",
    "      #'filter_foreground' : [], \n",
    "      #'filter_background' : [], \n",
    "      'size_ohsu' : [], \n",
    "      'size_eth' : [], \n",
    "      'size_intersection' : [], \n",
    "      'size_ohsu\\eth' : [], \n",
    "      'size_eth\\ohsu' : []}\n",
    "for eth, ohsu in file_pair.items(): # ETH\n",
    "    if (not restrict) or restrict in eth: #Restrict to category of interest\n",
    "        try:\n",
    "            df_ohsu = pd.read_csv(ohsu, sep=\"\\t\")\n",
    "            df_ohsu = df_ohsu.reset_index().rename({'index': 'kmer', 'kmer': 'coord'}, axis = 1) \n",
    "            df_eth = pd.read_csv(eth, sep=\"\\t\", usecols = ['kmer'])\n",
    "\n",
    "            df_eth = set(df_eth['kmer'])\n",
    "            df_ohsu = set(df_ohsu['kmer'])\n",
    "            \n",
    "            name = os.path.basename(eth).replace('.tsv', '').replace('.gz', '').split('_')\n",
    "            \n",
    "            df['sample'].append(name[1])\n",
    "            df['filter_'].append(name[2])\n",
    "            df['size_ohsu'].append(len(df_ohsu))\n",
    "            df['size_eth'].append(len(df_eth))\n",
    "            df['size_ohsu\\eth'].append(len(df_ohsu.difference(df_eth)))\n",
    "            df['size_eth\\ohsu'].append(len(df_eth.difference(df_ohsu)))\n",
    "            df['size_intersection'].append(len(df_ohsu.intersection(df_eth)))\n",
    "            #                 df['filter_foreground'].append(name[2])\n",
    "#                 df['filter_background'].append(name[3])\n",
    "        except:\n",
    "            continue\n"
   ]
  },
  {
   "cell_type": "code",
   "execution_count": 85,
   "id": "02bf2565",
   "metadata": {},
   "outputs": [],
   "source": [
    "df = pd.DataFrame(df)"
   ]
  },
  {
   "cell_type": "code",
   "execution_count": 86,
   "id": "cce77898",
   "metadata": {},
   "outputs": [],
   "source": [
    "save_folder = '/cluster/work/grlab/projects/projects2020_OHSU/peptides_generation/CANCER_eth/commit_c4dd02c_conf2_Frame_cap0_runs/data_plots'"
   ]
  },
  {
   "cell_type": "code",
   "execution_count": 87,
   "id": "9cce4a3f",
   "metadata": {},
   "outputs": [],
   "source": [
    "file_name = f'data_kmers_filtering_ohsu_eth_{run_type}.tsv.gz'"
   ]
  },
  {
   "cell_type": "code",
   "execution_count": 88,
   "id": "e3a36aa1",
   "metadata": {},
   "outputs": [
    {
     "name": "stdout",
     "output_type": "stream",
     "text": [
      "/cluster/work/grlab/projects/projects2020_OHSU/peptides_generation/CANCER_eth/commit_c4dd02c_conf2_Frame_cap0_runs/data_plots/data_kmers_filtering_ohsu_eth_ov.tsv.gz\n"
     ]
    }
   ],
   "source": [
    "print(os.path.join(save_folder, file_name))\n",
    "df.to_csv(os.path.join(save_folder, file_name), index=None, sep='\\t')"
   ]
  },
  {
   "cell_type": "code",
   "execution_count": null,
   "id": "45eb0274",
   "metadata": {},
   "outputs": [],
   "source": []
  }
 ],
 "metadata": {
  "kernelspec": {
   "display_name": "pep3",
   "language": "python",
   "name": "pep3"
  },
  "language_info": {
   "codemirror_mode": {
    "name": "ipython",
    "version": 3
   },
   "file_extension": ".py",
   "mimetype": "text/x-python",
   "name": "python",
   "nbconvert_exporter": "python",
   "pygments_lexer": "ipython3",
   "version": "3.9.13"
  }
 },
 "nbformat": 4,
 "nbformat_minor": 5
}
