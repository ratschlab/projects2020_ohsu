{
 "cells": [
  {
   "cell_type": "code",
   "execution_count": 1,
   "id": "87d8e16e",
   "metadata": {
    "scrolled": false
   },
   "outputs": [
    {
     "name": "stderr",
     "output_type": "stream",
     "text": [
      "Matplotlib created a temporary config/cache directory at /scratch/slurm-job.1000562/matplotlib-aqqkj3g3 because the default path (/cluster/customapps/biomed/grlab/users/prelotla/.cache/matplotlib) is not a writable directory; it is highly recommended to set the MPLCONFIGDIR environment variable to a writable directory, in particular to speed up the import of Matplotlib and to better support multiprocessing.\n",
      "Matplotlib is building the font cache; this may take a moment.\n"
     ]
    }
   ],
   "source": [
    "import matplotlib.pyplot as plt\n",
    "import seaborn as sns\n",
    "import pandas as pd\n",
    "import numpy as np\n",
    "import os\n",
    "import tarfile\n",
    "import glob\n",
    "from matplotlib.colors import LogNorm\n",
    "import pathlib\n",
    "import pickle"
   ]
  },
  {
   "cell_type": "code",
   "execution_count": 2,
   "id": "29b54ae5",
   "metadata": {},
   "outputs": [],
   "source": [
    "# Inputs ETH\n",
    "run_type = 'brca'\n",
    "\n",
    "if run_type == 'brca':\n",
    "   \n",
    "    sample_target = 'TCGA-AO-A0JM-01A-21R-A056-07'\n",
    "    samples = ['TCGA-C8-A12P-01A-11R-A115-07',\n",
    "                      'TCGA-AO-A0JM-01A-21R-A056-07',\n",
    "                      'TCGA-BH-A18V-01A-11R-A12D-07',\n",
    "                      'TCGA-A2-A0D2-01A-21R-A034-07',\n",
    "                      'TCGA-A2-A0SX-01A-12R-A084-07']\n",
    "    basedir = '/cluster/work/grlab/projects/projects2020_OHSU/peptides_generation/CANCER_eth/commit_c4dd02c_conf2_Frame_cap0_runs/TCGA_Breast_1102'\n",
    "elif run_type == 'ov':\n",
    "    sample_target = 'TCGA-25-1319-01A-01R-1565-13'\n",
    "    samples = ['TCGA-25-1319-01A-01R-1565-13',\n",
    "                      'TCGA-25-1313-01A-01R-1565-13',\n",
    "                      'TCGA-61-2008-01A-02R-1568-13',\n",
    "                      'TCGA-24-1431-01A-01R-1566-13',\n",
    "                      'TCGA-24-2298-01A-01R-1569-13']\n",
    "    basedir = '/cluster/work/grlab/projects/projects2020_OHSU/peptides_generation/CANCER_eth/commit_c4dd02c_conf2_Frame_cap0_runs/TCGA_Ovarian_374'\n",
    "\n",
    "filtering_id = 'filters_22March_order_wany_wAnnot'\n",
    "filter_dir = os.path.join(basedir, 'filtering_samples', filtering_id)\n",
    "\n",
    "\n",
    "# PLOT\n",
    "plot_dir = os.path.join(filter_dir, 'plots')\n",
    "base_plot = sample_target\n",
    "pathlib.Path(plot_dir).mkdir(parents=True, exist_ok=True)\n",
    "\n",
    "# OHSU\n",
    "tar_file_OHSU = '/cluster/work/grlab/projects/projects2020_OHSU/share_OHUS_PNLL/include_ANY_filters_OHSU-results_March22-2023/OHSU_March27-2023_fixAnyfilters_results.tar.gz'\n"
   ]
  },
  {
   "cell_type": "code",
   "execution_count": 3,
   "id": "89232659",
   "metadata": {},
   "outputs": [],
   "source": [
    "# ETH Names\n",
    "eth_all = glob.glob(os.path.join(filter_dir, 'G*'))"
   ]
  },
  {
   "cell_type": "code",
   "execution_count": 4,
   "id": "827e23c8",
   "metadata": {},
   "outputs": [],
   "source": [
    "# OHSU Names\n",
    "with tarfile.open(tar_file_OHSU, \"r:*\") as tar:\n",
    "    ohsu_all = tar.getnames()"
   ]
  },
  {
   "cell_type": "code",
   "execution_count": 5,
   "id": "3d347c93",
   "metadata": {},
   "outputs": [],
   "source": [
    "# Get file pairs\n",
    "file_pair = {}\n",
    "for idx_eth, eth in enumerate(eth_all):\n",
    "    pattern = os.path.basename(eth).replace('G_', '').replace('.gz', '') \n",
    "    for idx_ohsu, ohsu in enumerate(ohsu_all):\n",
    "        if pattern in ohsu:\n",
    "            file_pair[eth] = ohsu\n",
    "\n",
    "            "
   ]
  },
  {
   "cell_type": "code",
   "execution_count": 6,
   "id": "1ea64e20",
   "metadata": {
    "scrolled": true
   },
   "outputs": [
    {
     "data": {
      "text/plain": [
       "305"
      ]
     },
     "execution_count": 6,
     "metadata": {},
     "output_type": "execute_result"
    }
   ],
   "source": [
    "len(file_pair)"
   ]
  },
  {
   "cell_type": "markdown",
   "id": "d9139e05",
   "metadata": {},
   "source": [
    "# Collect Data to plot"
   ]
  },
  {
   "cell_type": "code",
   "execution_count": 7,
   "id": "211209eb",
   "metadata": {},
   "outputs": [
    {
     "data": {
      "text/plain": [
       "'TCGA-AO-A0JM-01A-21R-A056-07'"
      ]
     },
     "execution_count": 7,
     "metadata": {},
     "output_type": "execute_result"
    }
   ],
   "source": [
    "sample_target"
   ]
  },
  {
   "cell_type": "code",
   "execution_count": null,
   "id": "1b1d782b",
   "metadata": {},
   "outputs": [],
   "source": [
    "restrict = sample_target\n",
    "df = {'sample' : [], \n",
    "      'filter_foreground' : [], \n",
    "      'filter_background' : [], \n",
    "      'size_ohsu' : [], \n",
    "      'size_eth' : [], \n",
    "      'size_intersection' : [], \n",
    "      'size_ohsu\\eth' : [], \n",
    "      'size_eth\\ohsu' : []}\n",
    "with tarfile.open(tar_file_OHSU, \"r:*\") as tar: #OHSU\n",
    "    for eth, ohsu in file_pair.items(): # ETH\n",
    "        if (not restrict) or restrict in eth: #Restrict to category of interest\n",
    "            try:\n",
    "                df_ohsu = pd.read_csv(tar.extractfile(ohsu), header=0, sep=\"\\t\")\n",
    "                #print(eth)\n",
    "                df_eth = pd.read_csv(eth, sep=\"\\t\", usecols = ['kmer'])\n",
    "                #print(df_eth.shape)\n",
    "                df_eth = set(df_eth['kmer'])\n",
    "                #print(len(df_eth))\n",
    "                df_ohsu = set(df_ohsu['kmer'])\n",
    "                name = os.path.basename(ohsu).replace('.tsv', '').split('_')\n",
    "                df['sample'].append(name[1])\n",
    "                df['filter_foreground'].append(name[2])\n",
    "                df['filter_background'].append(name[3])\n",
    "                df['size_ohsu'].append(len(df_ohsu))\n",
    "                df['size_eth'].append(len(df_eth))\n",
    "                df['size_ohsu\\eth'].append(len(df_ohsu.difference(df_eth)))\n",
    "                df['size_eth\\ohsu'].append(len(df_eth.difference(df_ohsu)))\n",
    "                df['size_intersection'].append(len(df_ohsu.intersection(df_eth)))\n",
    "            except:\n",
    "                continue\n"
   ]
  },
  {
   "cell_type": "code",
   "execution_count": null,
   "id": "95024bb7",
   "metadata": {},
   "outputs": [],
   "source": [
    "intersect=True\n",
    "if intersect:\n",
    "    kmers_intersection = set()\n",
    "\n",
    "    for restrict in samples: \n",
    "        print(restrict)\n",
    "        with tarfile.open(tar_file_OHSU, \"r:*\") as tar: #OHSU\n",
    "            for eth, ohsu in file_pair.items(): # ETH\n",
    "                if (not restrict) or restrict in eth: #Restrict to category of interest\n",
    "                    try:\n",
    "                        df_ohsu = pd.read_csv(tar.extractfile(ohsu), header=0, sep=\"\\t\")\n",
    "                        df_eth = pd.read_csv(eth, sep=\"\\t\", usecols = ['kmer'])\n",
    "                        df_eth = set(df_eth['kmer'])\n",
    "                        df_ohsu = set(df_ohsu['kmer'])\n",
    "                        kmers_intersection.update(df_ohsu.intersection(df_eth))\n",
    "                    except:\n",
    "                        continue\n",
    "        print(len(kmers_intersection))\n",
    "\n",
    "# with open(os.path.join(filter_dir, 'G_TCGA_Allsamples_intersect.pickle'), 'wb') as handle:\n",
    "#     pickle.dump(kmers_intersection, handle, protocol=pickle.HIGHEST_PROTOCOL)"
   ]
  },
  {
   "cell_type": "code",
   "execution_count": null,
   "id": "1b13c84d",
   "metadata": {},
   "outputs": [],
   "source": [
    "kmers_intersection"
   ]
  },
  {
   "cell_type": "code",
   "execution_count": null,
   "id": "25f41e65",
   "metadata": {},
   "outputs": [],
   "source": [
    "df = pd.DataFrame(df)"
   ]
  },
  {
   "cell_type": "markdown",
   "id": "345dadf9",
   "metadata": {},
   "source": [
    "# Path Tests"
   ]
  },
  {
   "cell_type": "code",
   "execution_count": null,
   "id": "f5b6549b",
   "metadata": {},
   "outputs": [],
   "source": [
    "back_ = set()\n",
    "foregr_ = set()\n",
    "for i in eth_all:\n",
    "    if 'FiltNormalsGtexC' in i:\n",
    "        if sample_target in i:\n",
    "            back_.add(os.path.basename(i).split('_')[3])\n",
    "            foregr_.add(os.path.basename(i).split('_')[2])\n",
    "print('foreground')\n",
    "for i in foregr_:\n",
    "    print(i)\n",
    "print('background')\n",
    "for i in back_:\n",
    "    print(i)"
   ]
  },
  {
   "cell_type": "markdown",
   "id": "68153053",
   "metadata": {},
   "source": [
    "# Plot Set size"
   ]
  },
  {
   "cell_type": "code",
   "execution_count": null,
   "id": "224ded16",
   "metadata": {},
   "outputs": [],
   "source": [
    "# Extract Values\n",
    "df['filter_background_reads'] = [float(i.split('lim')[-1].split('Across')[0]) for i in df['filter_background']]\n",
    "\n",
    "df['filter_background_samples'] = [int(i.split('Across')[-1].replace('Any', '1000')) for i in df['filter_background']]\n",
    "\n",
    "df['filter_foreground_reads'] = [float(i.split('Lim')[-1].split('Across')[0].replace('None', '0')) for i in df['filter_foreground']]\n",
    "\n",
    "df['filter_foreground_samples'] = [int(i.split('Across')[-1].replace('None', '0')) for i in df['filter_foreground']]\n",
    "\n",
    "df['filter_foreground_target'] = [float((i.split('Lim')[1].replace('SampleLim', '').replace('Cohort', ''))) for i in df['filter_foreground']]"
   ]
  },
  {
   "cell_type": "code",
   "execution_count": null,
   "id": "0f64d03e",
   "metadata": {},
   "outputs": [],
   "source": [
    "# Prepare Plot ticks\n",
    "def prepare_backticks(x):\n",
    "    return  [i.replace('FiltNormalsGtexCohortCohortlim', '(').replace('Across', ', ') + ')' \n",
    "              for i in x]\n",
    "def prepare_frontticks(x):\n",
    "    return  [i.replace('SampleLim0.0CohortLim', '(').replace('Across', ', ') + ')' \n",
    "              for i in x]\n"
   ]
  },
  {
   "cell_type": "code",
   "execution_count": null,
   "id": "6475db06",
   "metadata": {},
   "outputs": [],
   "source": [
    "# Sort Valus for plot\n",
    "df = df.sort_values(['size_ohsu', \n",
    "                     'filter_foreground_target',\n",
    "                     'filter_foreground_reads', \n",
    "                     'filter_foreground_samples', \n",
    "                     'filter_background_reads', \n",
    "                     'filter_background_samples'\n",
    "                    ])\n",
    "df['index'] = np.arange(len(df))\n",
    "\n",
    "\n",
    "back_ticks = prepare_backticks(df['filter_background'])\n",
    "front_ticks = prepare_frontticks(df['filter_foreground'])"
   ]
  },
  {
   "cell_type": "code",
   "execution_count": null,
   "id": "220fa0e3",
   "metadata": {},
   "outputs": [],
   "source": [
    "# Plot Helper\n",
    "def plot_text(Y, T, position='top', color='black'):\n",
    "    Y = np.array(Y)\n",
    "    T = np.array(T)\n",
    "    Y[np.where(Y > 0 )[0]]\n",
    "    T[np.where(Y > 0 )[0]]\n",
    "    change_val = [i for i in np.arange(len(Y) - 1) if Y[i] != Y[i - 1]]    \n",
    "    weighted = [change_val[i] + (change_val[i+1] - change_val[i]) / 2 for i, x in enumerate(change_val[:-1])]\n",
    "    X = [np.floor(change_val[i] + (change_val[i+1] - change_val[i]) / 2) for i, x in enumerate(change_val[:-1])]\n",
    "    Y = Y[np.array(change_val[:-1])]\n",
    "    T = T[np.array(change_val[:-1])]\n",
    "    p_prev = 0 \n",
    "    percent_diff = 20\n",
    "    \n",
    "    for x, y, p in zip(X, Y, T):\n",
    "        if position == 'bottom':\n",
    "            delta = - (y/5.5)\n",
    "        elif position == 'top': \n",
    "            delta = (y/12)\n",
    "        if (p > p_prev + (p_prev/percent_diff)) or (p < p_prev - (p_prev/percent_diff)):\n",
    "            if y != 0: # Because log scale\n",
    "                plt.text(x - 0.5 , y + delta , p, color=color, ha='left')\n",
    "        p_prev = p \n",
    "\n",
    "def plot_text_all(X, Y, T):\n",
    "    for x, y, p in zip(X, Y, T):\n",
    "        plt.text(x, y, p)\n",
    "        #plt.text(x - 0.5 , y + (y/10), p)\n"
   ]
  },
  {
   "cell_type": "code",
   "execution_count": null,
   "id": "c426a388",
   "metadata": {
    "scrolled": false
   },
   "outputs": [],
   "source": [
    "# Plot\n",
    "\n",
    "xaxis_label = 'GTEX (reads, samples)'\n",
    "yaxis_label = f'{run_type.upper()} (reads, samples)'\n",
    "\n",
    "\n",
    "colorgrid = 'grey'\n",
    "alpha_grid = 0.3\n",
    "marker_size = 10\n",
    "mew = 4\n",
    "color1 = 'gold'\n",
    "color2 = 'crimson'\n",
    "color4 = 'mediumblue'\n",
    "colorgrid = 'grey'\n",
    "\n",
    "fig, ax1 = plt.subplots(figsize=(15, 6))\n",
    "ax2 =  ax1.secondary_xaxis('top')   \n",
    "#plt.figure(figsize=(15, 6), frameon=False, dpi=100)\n",
    "plt.grid(b=True, axis = 'both', which='major', color=colorgrid, linestyle='-', alpha=alpha_grid)\n",
    "plt.grid(b=False, axis = 'both', which='minor', color=colorgrid, linestyle='--', alpha=alpha_grid)\n",
    "width = 0.4\n",
    "plt.bar(df['index'], df['size_intersection'], width=width, \n",
    "        color=color1, label='Intersection size')\n",
    "plt.plot(df['index'], df['size_eth'], alpha=1, color=color4,\n",
    "         linestyle = 'None', markerfacecolor='None', marker=\"_\", markersize=marker_size, markeredgewidth=mew,\n",
    "         label = 'Total set size Graph Pipeline')\n",
    "plt.plot(df['index'], df['size_ohsu'], alpha=1, color=color2,\n",
    "         linestyle = 'None', markerfacecolor='None', marker=\"_\", markersize=marker_size, markeredgewidth=mew,\n",
    "         label = 'Total set size Junction Pipeline')\n",
    "\n",
    "plot_text(df['size_ohsu'], df['size_ohsu'], 'bottom', color='crimson')\n",
    "plot_text(df['size_eth'], df['size_eth'], 'top', color='blue')\n",
    "plot_text(df['size_intersection'], df['size_intersection'], color='tomato')\n",
    "\n",
    "plt.yscale('log')\n",
    "max_scale = np.max([df['size_ohsu'].values, df['size_eth'].values])\n",
    "\n",
    "\n",
    "\n",
    "ax1.set_xticks(np.arange(len(df['index'])), \n",
    "           labels = front_ticks,\n",
    "           rotation = 90, \n",
    "           ha = 'center')\n",
    "\n",
    "ax2.set_xticks(np.arange(len(df['index'])), \n",
    "           labels = back_ticks,\n",
    "           rotation = 90, \n",
    "           ha = 'center')\n",
    "\n",
    "plt.legend()\n",
    "plt.ylabel('Number of kmers')\n",
    "ax2.set_xlabel(xaxis_label)\n",
    "ax1.set_xlabel(yaxis_label)\n",
    "\n",
    "\n",
    "\n",
    "save = False\n",
    "name = 'Barplot_ovelap'\n",
    "save_path = os.path.join(plot_dir, f'{base_plot}_{name}.pdf')\n",
    "if save:\n",
    "    print(\"save to {}\".format(save_path))\n",
    "    plt.savefig(save_path, bbox_inches='tight')\n",
    "    \n",
    "plt.show()"
   ]
  },
  {
   "cell_type": "markdown",
   "id": "79469f80",
   "metadata": {},
   "source": [
    "# Plot Intersections"
   ]
  },
  {
   "cell_type": "code",
   "execution_count": null,
   "id": "3015576f",
   "metadata": {
    "scrolled": false
   },
   "outputs": [],
   "source": [
    "df.columns"
   ]
  },
  {
   "cell_type": "code",
   "execution_count": null,
   "id": "30c41976",
   "metadata": {},
   "outputs": [],
   "source": [
    "# Sort Valus for plot\n",
    "df = df.sort_values(['size_eth', \n",
    "                     'filter_foreground_target',\n",
    "                     'filter_foreground_reads', \n",
    "                     'filter_foreground_samples', \n",
    "                     'filter_background_reads', \n",
    "                     'filter_background_samples'\n",
    "                    ], \n",
    "                   ascending=[False, False, False, False, False, False])\n",
    "df['index'] = np.arange(len(df))\n",
    "\n",
    "order_foreground = df['filter_foreground'].unique()\n",
    "order_background = df['filter_background'].unique()"
   ]
  },
  {
   "cell_type": "code",
   "execution_count": null,
   "id": "aebdb32c",
   "metadata": {},
   "outputs": [],
   "source": [
    "# Collect plot data\n",
    "titles = ['Intersection size', \n",
    "'Total set size Graph Pipeline', \n",
    "'Total set size Junction Pipeline']\n",
    "xaxis_label = 'GTEX (reads, samples)'\n",
    "yaxis_label = f'{run_type.upper()} (reads, samples)'\n",
    "\n",
    "df_plot = []\n",
    "for f in ['size_intersection', 'size_eth', 'size_ohsu']: #, 'size_ohsu\\eth', 'size_eth\\ohsu']:\n",
    "    # Extract the intersection\n",
    "    df_inter = df.pivot(index = 'filter_foreground', columns = 'filter_background', values = f )\n",
    "    # Enforce order\n",
    "    df_inter = df_inter.loc[order_foreground, order_background]\n",
    "    df_plot.append(df_inter)\n",
    "    \n"
   ]
  },
  {
   "cell_type": "code",
   "execution_count": null,
   "id": "039aaf30",
   "metadata": {},
   "outputs": [],
   "source": [
    "df_plot[pane_idx].columns"
   ]
  },
  {
   "cell_type": "code",
   "execution_count": null,
   "id": "4a11f9d4",
   "metadata": {},
   "outputs": [],
   "source": []
  },
  {
   "cell_type": "code",
   "execution_count": null,
   "id": "c0cedd06",
   "metadata": {},
   "outputs": [],
   "source": [
    "# Plot\n",
    "nprow = 1\n",
    "npcol = 3\n",
    "fig = plt.figure(figsize=(15, 6), layout='constrained')\n",
    "axes = [fig.add_subplot(nprow, npcol, i) for i in range(1,npcol+1)]\n",
    "\n",
    "vmin = max(1, np.min([df['size_eth'], df['size_ohsu']]))\n",
    "vmax = np.max([df['size_eth'], df['size_ohsu']]) #1e5\n",
    "for pane_idx in np.arange(npcol):\n",
    "    panelplot=axes[pane_idx].imshow(df_plot[pane_idx], origin='upper', \n",
    "                                    cmap='inferno_r', norm=LogNorm(vmin=vmin, vmax=vmax))\n",
    "    # x-axis \n",
    "    axes[pane_idx].set_title(titles[pane_idx])\n",
    "    axes[pane_idx].set_xlabel(xaxis_label)\n",
    "    axes[pane_idx].set_xticks(range(df_plot[pane_idx].shape[1]))\n",
    "    axes[pane_idx].set_xticklabels(prepare_backticks(df_plot[pane_idx].columns), rotation = 90 )\n",
    "    if pane_idx == 0 :\n",
    "        # y-axis\n",
    "        axes[pane_idx].set_ylabel(yaxis_label)\n",
    "        axes[pane_idx].set_yticks(range(df_plot[pane_idx].shape[0]))\n",
    "        axes[pane_idx].set_yticklabels(prepare_frontticks(df_plot[pane_idx].index), rotation = 45 )\n",
    "plt.colorbar(panelplot)\n",
    "\n",
    "save = False\n",
    "name = 'Matrix_ovelap'\n",
    "save_path = os.path.join(plot_dir, f'{base_plot}_{name}.pdf')\n",
    "if save:\n",
    "    print(\"save to {}\".format(save_path))\n",
    "    plt.savefig(save_path, bbox_inches='tight')\n",
    "    \n",
    "fig.show()\n"
   ]
  },
  {
   "cell_type": "code",
   "execution_count": null,
   "id": "d573fd6a",
   "metadata": {
    "scrolled": true
   },
   "outputs": [],
   "source": [
    "df_plot[1]"
   ]
  },
  {
   "cell_type": "code",
   "execution_count": null,
   "id": "6ce44204",
   "metadata": {
    "scrolled": true
   },
   "outputs": [],
   "source": [
    "df_plot[2]"
   ]
  },
  {
   "cell_type": "code",
   "execution_count": null,
   "id": "b7475273",
   "metadata": {},
   "outputs": [],
   "source": []
  },
  {
   "cell_type": "code",
   "execution_count": null,
   "id": "45eb0274",
   "metadata": {},
   "outputs": [],
   "source": []
  }
 ],
 "metadata": {
  "kernelspec": {
   "display_name": "Python 3 (ipykernel)",
   "language": "python",
   "name": "python3"
  },
  "language_info": {
   "codemirror_mode": {
    "name": "ipython",
    "version": 3
   },
   "file_extension": ".py",
   "mimetype": "text/x-python",
   "name": "python",
   "nbconvert_exporter": "python",
   "pygments_lexer": "ipython3",
   "version": "3.9.13"
  }
 },
 "nbformat": 4,
 "nbformat_minor": 5
}
