{
 "cells": [
  {
   "cell_type": "code",
   "execution_count": 1,
   "id": "87d8e16e",
   "metadata": {},
   "outputs": [
    {
     "name": "stderr",
     "output_type": "stream",
     "text": [
      "Matplotlib created a temporary config/cache directory at /scratch/slurm-job.828179/matplotlib-l72gzj16 because the default path (/cluster/customapps/biomed/grlab/users/prelotla/.cache/matplotlib) is not a writable directory; it is highly recommended to set the MPLCONFIGDIR environment variable to a writable directory, in particular to speed up the import of Matplotlib and to better support multiprocessing.\n"
     ]
    }
   ],
   "source": [
    "import matplotlib.pyplot as plt\n",
    "import seaborn as sns\n",
    "import pandas as pd\n",
    "import numpy as np\n",
    "import os\n",
    "import tarfile\n",
    "import glob"
   ]
  },
  {
   "cell_type": "code",
   "execution_count": 2,
   "id": "132479b6",
   "metadata": {},
   "outputs": [],
   "source": [
    "tar_file_OHSU = '/cluster/work/grlab/projects/projects2020_OHSU/share_OHUS_PNLL/Mar9-2023_OHSU_filterresults_realign_all/OHSU_March9-2023_filter_results.tar.gz'"
   ]
  },
  {
   "cell_type": "code",
   "execution_count": 3,
   "id": "2f91f8ed",
   "metadata": {},
   "outputs": [],
   "source": [
    "base_eth = '/cluster/work/grlab/projects/projects2020_OHSU/peptides_generation/CANCER_eth/commit_c4dd02c_conf2_Frame_cap0_runs/TCGA_Breast_1102/filtering_samples/chosen_filters_06March_order'"
   ]
  },
  {
   "cell_type": "code",
   "execution_count": 21,
   "id": "f0ebfc54",
   "metadata": {},
   "outputs": [],
   "source": [
    "one_file_eth = '/cluster/work/grlab/projects/projects2020_OHSU/peptides_generation/CANCER_eth/commit_c4dd02c_conf2_Frame_cap0_runs/TCGA_Breast_1102/filtering_samples/chosen_filters_06March_order/G_TCGA-AO-A0JM-01A-21R-A056-07_SampleLim0.0CohortLimNoneAcrossNone_FiltNormalsGtexCohortCohortlim0.0Across1.tsv.gz'"
   ]
  },
  {
   "cell_type": "code",
   "execution_count": null,
   "id": "40b0fd82",
   "metadata": {},
   "outputs": [],
   "source": [
    "# Reads > 0 or 1 sample any read\n",
    "# Any read would be > 0 "
   ]
  },
  {
   "cell_type": "code",
   "execution_count": 5,
   "id": "89232659",
   "metadata": {},
   "outputs": [],
   "source": [
    "# ETH Names\n",
    "eth_all = glob.glob(os.path.join(base_eth, 'G*'))"
   ]
  },
  {
   "cell_type": "code",
   "execution_count": 6,
   "id": "827e23c8",
   "metadata": {},
   "outputs": [],
   "source": [
    "# OHSU Names\n",
    "with tarfile.open(tar_file_OHSU, \"r:*\") as tar:\n",
    "    ohsu_all = tar.getnames()"
   ]
  },
  {
   "cell_type": "code",
   "execution_count": 7,
   "id": "3d347c93",
   "metadata": {},
   "outputs": [],
   "source": [
    "# Get file pairs\n",
    "file_pair = {}\n",
    "for idx_eth, eth in enumerate(eth_all):\n",
    "    pattern = os.path.basename(eth).replace('G_', '').replace('.gz', '').replace('.0CohortLim','CohortLim')\n",
    "    for idx_ohsu, ohsu in enumerate(ohsu_all):\n",
    "        if pattern in ohsu:\n",
    "            file_pair[eth] = ohsu\n",
    "\n",
    "            "
   ]
  },
  {
   "cell_type": "code",
   "execution_count": 27,
   "id": "1b1d782b",
   "metadata": {},
   "outputs": [],
   "source": [
    "restrict = 'TCGA-AO-A0JM-01A-21R-A056-07'\n",
    "df = {'sample' : [], \n",
    "      'filter_foreground' : [], \n",
    "      'filter_background' : [], \n",
    "      'size_ohsu' : [], \n",
    "      'size_eth' : [], \n",
    "      'size_intersection' : [], \n",
    "      'size_ohsu\\eth' : [], \n",
    "      'size_eth\\ohsu' : []}\n",
    "with tarfile.open(tar_file_OHSU, \"r:*\") as tar: #OHSU\n",
    "    for eth, ohsu in file_pair.items(): # ETH\n",
    "        if (not restrict) or restrict in eth: #Restrict to category of interest\n",
    "            try:\n",
    "                df_ohsu = pd.read_csv(tar.extractfile(ohsu), header=0, sep=\"\\t\")\n",
    "                df_eth = pd.read_csv(eth, sep=\"\\t\", usecols = ['kmer'])\n",
    "                df_eth = set(df_eth['kmer'])\n",
    "                df_ohsu = set(df_ohsu['kmer'])\n",
    "                name = os.path.basename(ohsu).replace('.tsv', '').split('_')\n",
    "                df['sample'].append(name[1])\n",
    "                df['filter_foreground'].append(name[2])\n",
    "                df['filter_background'].append(name[3])\n",
    "                df['size_ohsu'].append(len(df_ohsu))\n",
    "                df['size_eth'].append(len(df_eth))\n",
    "                df['size_ohsu\\eth'].append(len(df_ohsu.difference(df_eth)))\n",
    "                df['size_eth\\ohsu'].append(len(df_eth.difference(df_ohsu)))\n",
    "                df['size_intersection'].append(len(df_ohsu.intersection(df_eth)))\n",
    "            except:\n",
    "                continue\n"
   ]
  },
  {
   "cell_type": "code",
   "execution_count": 28,
   "id": "a33ea56b",
   "metadata": {
    "scrolled": true
   },
   "outputs": [
    {
     "data": {
      "text/plain": [
       "{'sample': ['TCGA-AO-A0JM-01A-21R-A056-07',\n",
       "  'TCGA-AO-A0JM-01A-21R-A056-07',\n",
       "  'TCGA-AO-A0JM-01A-21R-A056-07',\n",
       "  'TCGA-AO-A0JM-01A-21R-A056-07',\n",
       "  'TCGA-AO-A0JM-01A-21R-A056-07',\n",
       "  'TCGA-AO-A0JM-01A-21R-A056-07',\n",
       "  'TCGA-AO-A0JM-01A-21R-A056-07',\n",
       "  'TCGA-AO-A0JM-01A-21R-A056-07',\n",
       "  'TCGA-AO-A0JM-01A-21R-A056-07',\n",
       "  'TCGA-AO-A0JM-01A-21R-A056-07'],\n",
       " 'filter_foreground': ['SampleLim0CohortLim0.0Across1',\n",
       "  'SampleLim0CohortLim2.0Across5',\n",
       "  'SampleLim0CohortLim2.0Across1',\n",
       "  'SampleLim0CohortLim2.0Across1',\n",
       "  'SampleLim0CohortLim0.0Across5',\n",
       "  'SampleLim0CohortLimNoneAcrossNone',\n",
       "  'SampleLim0CohortLim2.0Across5',\n",
       "  'SampleLim0CohortLim0.0Across5',\n",
       "  'SampleLim0CohortLimNoneAcrossNone',\n",
       "  'SampleLim0CohortLim0.0Across1'],\n",
       " 'filter_background': ['FiltNormalsGtexCohortCohortlim3.0Across10',\n",
       "  'FiltNormalsGtexCohortCohortlim3.0Across2',\n",
       "  'FiltNormalsGtexCohortCohortlim3.0Across2',\n",
       "  'FiltNormalsGtexCohortCohortlim3.0Across10',\n",
       "  'FiltNormalsGtexCohortCohortlim3.0Across2',\n",
       "  'FiltNormalsGtexCohortCohortlim3.0Across2',\n",
       "  'FiltNormalsGtexCohortCohortlim3.0Across10',\n",
       "  'FiltNormalsGtexCohortCohortlim3.0Across10',\n",
       "  'FiltNormalsGtexCohortCohortlim3.0Across10',\n",
       "  'FiltNormalsGtexCohortCohortlim3.0Across2'],\n",
       " 'size_ohsu': [5155, 53, 4529, 5155, 100, 4529, 127, 285, 5155, 4529],\n",
       " 'size_eth': [769, 198, 486, 585, 346, 1188, 214, 374, 1411, 606],\n",
       " 'size_intersection': [197, 14, 35, 123, 15, 404, 29, 85, 598, 57],\n",
       " 'size_ohsu\\\\eth': [4958, 39, 4494, 5032, 85, 4125, 98, 200, 4557, 4472],\n",
       " 'size_eth\\\\ohsu': [572, 184, 451, 462, 331, 784, 185, 289, 813, 549]}"
      ]
     },
     "execution_count": 28,
     "metadata": {},
     "output_type": "execute_result"
    }
   ],
   "source": [
    "df"
   ]
  },
  {
   "cell_type": "code",
   "execution_count": 43,
   "id": "0e04f272",
   "metadata": {},
   "outputs": [
    {
     "name": "stdout",
     "output_type": "stream",
     "text": [
      "/cluster/work/grlab/projects/projects2020_OHSU/peptides_generation/CANCER_eth/commit_c4dd02c_conf2_Frame_cap0_runs/TCGA_Breast_1102/filtering_samples/chosen_filters_06March_order/G_TCGA-AO-A0JM-01A-21R-A056-07_SampleLim0.0CohortLim0.0Across1_FiltNormalsGtexCohortCohortlim3.0Across10.tsv.gz\n",
      "/cluster/work/grlab/projects/projects2020_OHSU/peptides_generation/CANCER_eth/commit_c4dd02c_conf2_Frame_cap0_runs/TCGA_Breast_1102/filtering_samples/chosen_filters_06March_order/G_TCGA-AO-A0JM-01A-21R-A056-07_SampleLim0.0CohortLim2.0Across5_FiltNormalsGtexCohortCohortlim3.0Across2.tsv.gz\n",
      "/cluster/work/grlab/projects/projects2020_OHSU/peptides_generation/CANCER_eth/commit_c4dd02c_conf2_Frame_cap0_runs/TCGA_Breast_1102/filtering_samples/chosen_filters_06March_order/G_TCGA-AO-A0JM-01A-21R-A056-07_SampleLim0.0CohortLim0.0Across5_FiltNormalsGtexCohortCohortlim0.0Across1.tsv.gz\n",
      "/cluster/work/grlab/projects/projects2020_OHSU/peptides_generation/CANCER_eth/commit_c4dd02c_conf2_Frame_cap0_runs/TCGA_Breast_1102/filtering_samples/chosen_filters_06March_order/G_TCGA-AO-A0JM-01A-21R-A056-07_SampleLim0.0CohortLim2.0Across1_FiltNormalsGtexCohortCohortlim3.0Across2.tsv.gz\n",
      "/cluster/work/grlab/projects/projects2020_OHSU/peptides_generation/CANCER_eth/commit_c4dd02c_conf2_Frame_cap0_runs/TCGA_Breast_1102/filtering_samples/chosen_filters_06March_order/G_TCGA-AO-A0JM-01A-21R-A056-07_SampleLim0.0CohortLim0.0Across1_FiltNormalsGtexCohortCohortlim0.0Across1.tsv.gz\n",
      "/cluster/work/grlab/projects/projects2020_OHSU/peptides_generation/CANCER_eth/commit_c4dd02c_conf2_Frame_cap0_runs/TCGA_Breast_1102/filtering_samples/chosen_filters_06March_order/G_TCGA-AO-A0JM-01A-21R-A056-07_SampleLim0.0CohortLim0.0Across5_FiltNormalsGtexCohortCohortlim1.0Across1.tsv.gz\n",
      "/cluster/work/grlab/projects/projects2020_OHSU/peptides_generation/CANCER_eth/commit_c4dd02c_conf2_Frame_cap0_runs/TCGA_Breast_1102/filtering_samples/chosen_filters_06March_order/G_TCGA-AO-A0JM-01A-21R-A056-07_SampleLim0.0CohortLimNoneAcrossNone_FiltNormalsGtexCohortCohortlim0.0Across1metadata.tsv.gz\n",
      "/cluster/work/grlab/projects/projects2020_OHSU/peptides_generation/CANCER_eth/commit_c4dd02c_conf2_Frame_cap0_runs/TCGA_Breast_1102/filtering_samples/chosen_filters_06March_order/G_TCGA-AO-A0JM-01A-21R-A056-07_SampleLim0.0CohortLim2.0Across1_FiltNormalsGtexCohortCohortlim3.0Across10.tsv.gz\n",
      "/cluster/work/grlab/projects/projects2020_OHSU/peptides_generation/CANCER_eth/commit_c4dd02c_conf2_Frame_cap0_runs/TCGA_Breast_1102/filtering_samples/chosen_filters_06March_order/G_TCGA-AO-A0JM-01A-21R-A056-07_SampleLim0.0CohortLim0.0Across1_FiltNormalsGtexCohortCohortlim1.0Across1.tsv.gz\n",
      "/cluster/work/grlab/projects/projects2020_OHSU/peptides_generation/CANCER_eth/commit_c4dd02c_conf2_Frame_cap0_runs/TCGA_Breast_1102/filtering_samples/chosen_filters_06March_order/G_TCGA-AO-A0JM-01A-21R-A056-07_SampleLim0.0CohortLim0.0Across1_FiltNormalsGtexCohortCohortlim0.0Across10.tsv.gz\n",
      "/cluster/work/grlab/projects/projects2020_OHSU/peptides_generation/CANCER_eth/commit_c4dd02c_conf2_Frame_cap0_runs/TCGA_Breast_1102/filtering_samples/chosen_filters_06March_order/G_TCGA-AO-A0JM-01A-21R-A056-07_SampleLim0.0CohortLim0.0Across5_FiltNormalsGtexCohortCohortlim1.0Across2.tsv.gz\n",
      "/cluster/work/grlab/projects/projects2020_OHSU/peptides_generation/CANCER_eth/commit_c4dd02c_conf2_Frame_cap0_runs/TCGA_Breast_1102/filtering_samples/chosen_filters_06March_order/G_TCGA-AO-A0JM-01A-21R-A056-07_SampleLim0.0CohortLim0.0Across1_FiltNormalsGtexCohortCohortlim1.0Across2.tsv.gz\n",
      "/cluster/work/grlab/projects/projects2020_OHSU/peptides_generation/CANCER_eth/commit_c4dd02c_conf2_Frame_cap0_runs/TCGA_Breast_1102/filtering_samples/chosen_filters_06March_order/G_TCGA-AO-A0JM-01A-21R-A056-07_SampleLim0.0CohortLimNoneAcrossNone_FiltNormalsGtexCohortCohortlim0.0Across1.tsv.gz\n",
      "/cluster/work/grlab/projects/projects2020_OHSU/peptides_generation/CANCER_eth/commit_c4dd02c_conf2_Frame_cap0_runs/TCGA_Breast_1102/filtering_samples/chosen_filters_06March_order/G_TCGA-AO-A0JM-01A-21R-A056-07_SampleLim0.0CohortLim0.0Across1_FiltNormalsGtexCohortCohortlim0.0Across2.tsv.gz\n",
      "/cluster/work/grlab/projects/projects2020_OHSU/peptides_generation/CANCER_eth/commit_c4dd02c_conf2_Frame_cap0_runs/TCGA_Breast_1102/filtering_samples/chosen_filters_06March_order/G_TCGA-AO-A0JM-01A-21R-A056-07_SampleLim0.0CohortLim0.0Across5_FiltNormalsGtexCohortCohortlim3.0Across2.tsv.gz\n",
      "/cluster/work/grlab/projects/projects2020_OHSU/peptides_generation/CANCER_eth/commit_c4dd02c_conf2_Frame_cap0_runs/TCGA_Breast_1102/filtering_samples/chosen_filters_06March_order/G_TCGA-AO-A0JM-01A-21R-A056-07_SampleLim0.0CohortLim0.0Across1_FiltNormalsGtexCohortCohortlim1.0Across10.tsv.gz\n",
      "/cluster/work/grlab/projects/projects2020_OHSU/peptides_generation/CANCER_eth/commit_c4dd02c_conf2_Frame_cap0_runs/TCGA_Breast_1102/filtering_samples/chosen_filters_06March_order/G_TCGA-AO-A0JM-01A-21R-A056-07_SampleLim0.0CohortLim0.0Across5_FiltNormalsGtexCohortCohortlim0.0Across2.tsv.gz\n",
      "/cluster/work/grlab/projects/projects2020_OHSU/peptides_generation/CANCER_eth/commit_c4dd02c_conf2_Frame_cap0_runs/TCGA_Breast_1102/filtering_samples/chosen_filters_06March_order/G_TCGA-AO-A0JM-01A-21R-A056-07_SampleLim0.0CohortLim2.0Across1_FiltNormalsGtexCohortCohortlim1.0Across10.tsv.gz\n",
      "/cluster/work/grlab/projects/projects2020_OHSU/peptides_generation/CANCER_eth/commit_c4dd02c_conf2_Frame_cap0_runs/TCGA_Breast_1102/filtering_samples/chosen_filters_06March_order/G_TCGA-AO-A0JM-01A-21R-A056-07_SampleLim0.0CohortLimNoneAcrossNone_FiltNormalsGtexCohortCohortlim0.0Across10.tsv.gz\n",
      "/cluster/work/grlab/projects/projects2020_OHSU/peptides_generation/CANCER_eth/commit_c4dd02c_conf2_Frame_cap0_runs/TCGA_Breast_1102/filtering_samples/chosen_filters_06March_order/G_TCGA-AO-A0JM-01A-21R-A056-07_SampleLim0.0CohortLim0.0Across5_FiltNormalsGtexCohortCohortlim1.0Across10.tsv.gz\n",
      "/cluster/work/grlab/projects/projects2020_OHSU/peptides_generation/CANCER_eth/commit_c4dd02c_conf2_Frame_cap0_runs/TCGA_Breast_1102/filtering_samples/chosen_filters_06March_order/G_TCGA-AO-A0JM-01A-21R-A056-07_SampleLim0.0CohortLimNoneAcrossNone_FiltNormalsGtexCohortCohortlim3.0Across2.tsv.gz\n",
      "/cluster/work/grlab/projects/projects2020_OHSU/peptides_generation/CANCER_eth/commit_c4dd02c_conf2_Frame_cap0_runs/TCGA_Breast_1102/filtering_samples/chosen_filters_06March_order/G_TCGA-AO-A0JM-01A-21R-A056-07_SampleLim0.0CohortLimNoneAcrossNone_FiltNormalsGtexCohortCohortlim3.0Across1.tsv.gz\n",
      "/cluster/work/grlab/projects/projects2020_OHSU/peptides_generation/CANCER_eth/commit_c4dd02c_conf2_Frame_cap0_runs/TCGA_Breast_1102/filtering_samples/chosen_filters_06March_order/G_TCGA-AO-A0JM-01A-21R-A056-07_SampleLim0.0CohortLimNoneAcrossNone_FiltNormalsGtexCohortCohortlim1.0Across10.tsv.gz\n",
      "/cluster/work/grlab/projects/projects2020_OHSU/peptides_generation/CANCER_eth/commit_c4dd02c_conf2_Frame_cap0_runs/TCGA_Breast_1102/filtering_samples/chosen_filters_06March_order/G_TCGA-AO-A0JM-01A-21R-A056-07_SampleLim0.0CohortLim2.0Across1_FiltNormalsGtexCohortCohortlim1.0Across2.tsv.gz\n",
      "/cluster/work/grlab/projects/projects2020_OHSU/peptides_generation/CANCER_eth/commit_c4dd02c_conf2_Frame_cap0_runs/TCGA_Breast_1102/filtering_samples/chosen_filters_06March_order/G_TCGA-AO-A0JM-01A-21R-A056-07_SampleLim0.0CohortLim0.0Across5_FiltNormalsGtexCohortCohortlim0.0Across10.tsv.gz\n",
      "/cluster/work/grlab/projects/projects2020_OHSU/peptides_generation/CANCER_eth/commit_c4dd02c_conf2_Frame_cap0_runs/TCGA_Breast_1102/filtering_samples/chosen_filters_06March_order/G_TCGA-AO-A0JM-01A-21R-A056-07_SampleLim0.0CohortLim2.0Across5_FiltNormalsGtexCohortCohortlim3.0Across10.tsv.gz\n",
      "/cluster/work/grlab/projects/projects2020_OHSU/peptides_generation/CANCER_eth/commit_c4dd02c_conf2_Frame_cap0_runs/TCGA_Breast_1102/filtering_samples/chosen_filters_06March_order/G_TCGA-AO-A0JM-01A-21R-A056-07_SampleLim0.0CohortLim0.0Across5_FiltNormalsGtexCohortCohortlim3.0Across10.tsv.gz\n",
      "/cluster/work/grlab/projects/projects2020_OHSU/peptides_generation/CANCER_eth/commit_c4dd02c_conf2_Frame_cap0_runs/TCGA_Breast_1102/filtering_samples/chosen_filters_06March_order/G_TCGA-AO-A0JM-01A-21R-A056-07_SampleLim0.0CohortLim2.0Across1_FiltNormalsGtexCohortCohortlim3.0Across1.tsv.gz\n",
      "/cluster/work/grlab/projects/projects2020_OHSU/peptides_generation/CANCER_eth/commit_c4dd02c_conf2_Frame_cap0_runs/TCGA_Breast_1102/filtering_samples/chosen_filters_06March_order/G_TCGA-AO-A0JM-01A-21R-A056-07_SampleLim0.0CohortLim2.0Across5_FiltNormalsGtexCohortCohortlim1.0Across1.tsv.gz\n",
      "/cluster/work/grlab/projects/projects2020_OHSU/peptides_generation/CANCER_eth/commit_c4dd02c_conf2_Frame_cap0_runs/TCGA_Breast_1102/filtering_samples/chosen_filters_06March_order/G_TCGA-AO-A0JM-01A-21R-A056-07_SampleLim0.0CohortLimNoneAcrossNone_FiltNormalsGtexCohortCohortlim0.0Across1metadata2.tsv.gz\n",
      "/cluster/work/grlab/projects/projects2020_OHSU/peptides_generation/CANCER_eth/commit_c4dd02c_conf2_Frame_cap0_runs/TCGA_Breast_1102/filtering_samples/chosen_filters_06March_order/G_TCGA-AO-A0JM-01A-21R-A056-07_SampleLim0.0CohortLim2.0Across1_FiltNormalsGtexCohortCohortlim1.0Across1.tsv.gz\n",
      "/cluster/work/grlab/projects/projects2020_OHSU/peptides_generation/CANCER_eth/commit_c4dd02c_conf2_Frame_cap0_runs/TCGA_Breast_1102/filtering_samples/chosen_filters_06March_order/G_TCGA-AO-A0JM-01A-21R-A056-07_SampleLim0.0CohortLim2.0Across1_FiltNormalsGtexCohortCohortlim0.0Across1.tsv.gz\n",
      "/cluster/work/grlab/projects/projects2020_OHSU/peptides_generation/CANCER_eth/commit_c4dd02c_conf2_Frame_cap0_runs/TCGA_Breast_1102/filtering_samples/chosen_filters_06March_order/G_TCGA-AO-A0JM-01A-21R-A056-07_SampleLim0.0CohortLim2.0Across5_FiltNormalsGtexCohortCohortlim0.0Across2.tsv.gz\n",
      "/cluster/work/grlab/projects/projects2020_OHSU/peptides_generation/CANCER_eth/commit_c4dd02c_conf2_Frame_cap0_runs/TCGA_Breast_1102/filtering_samples/chosen_filters_06March_order/G_TCGA-AO-A0JM-01A-21R-A056-07_SampleLim0.0CohortLimNoneAcrossNone_FiltNormalsGtexCohortCohortlim3.0Across10.tsv.gz\n",
      "/cluster/work/grlab/projects/projects2020_OHSU/peptides_generation/CANCER_eth/commit_c4dd02c_conf2_Frame_cap0_runs/TCGA_Breast_1102/filtering_samples/chosen_filters_06March_order/G_TCGA-AO-A0JM-01A-21R-A056-07_SampleLim0.0CohortLim2.0Across5_FiltNormalsGtexCohortCohortlim1.0Across10.tsv.gz\n",
      "/cluster/work/grlab/projects/projects2020_OHSU/peptides_generation/CANCER_eth/commit_c4dd02c_conf2_Frame_cap0_runs/TCGA_Breast_1102/filtering_samples/chosen_filters_06March_order/G_TCGA-AO-A0JM-01A-21R-A056-07_SampleLim0.0CohortLim0.0Across5_FiltNormalsGtexCohortCohortlim3.0Across1.tsv.gz\n",
      "/cluster/work/grlab/projects/projects2020_OHSU/peptides_generation/CANCER_eth/commit_c4dd02c_conf2_Frame_cap0_runs/TCGA_Breast_1102/filtering_samples/chosen_filters_06March_order/G_TCGA-AO-A0JM-01A-21R-A056-07_SampleLim0.0CohortLimNoneAcrossNone_FiltNormalsGtexCohortCohortlim0.0Across2.tsv.gz\n",
      "/cluster/work/grlab/projects/projects2020_OHSU/peptides_generation/CANCER_eth/commit_c4dd02c_conf2_Frame_cap0_runs/TCGA_Breast_1102/filtering_samples/chosen_filters_06March_order/G_TCGA-AO-A0JM-01A-21R-A056-07_SampleLim0.0CohortLim2.0Across5_FiltNormalsGtexCohortCohortlim0.0Across10.tsv.gz\n",
      "/cluster/work/grlab/projects/projects2020_OHSU/peptides_generation/CANCER_eth/commit_c4dd02c_conf2_Frame_cap0_runs/TCGA_Breast_1102/filtering_samples/chosen_filters_06March_order/G_TCGA-AO-A0JM-01A-21R-A056-07_SampleLim0.0CohortLim0.0Across1_FiltNormalsGtexCohortCohortlim3.0Across1.tsv.gz\n",
      "/cluster/work/grlab/projects/projects2020_OHSU/peptides_generation/CANCER_eth/commit_c4dd02c_conf2_Frame_cap0_runs/TCGA_Breast_1102/filtering_samples/chosen_filters_06March_order/G_TCGA-AO-A0JM-01A-21R-A056-07_SampleLim0.0CohortLimNoneAcrossNone_FiltNormalsGtexCohortCohortlim1.0Across1.tsv.gz\n",
      "/cluster/work/grlab/projects/projects2020_OHSU/peptides_generation/CANCER_eth/commit_c4dd02c_conf2_Frame_cap0_runs/TCGA_Breast_1102/filtering_samples/chosen_filters_06March_order/G_TCGA-AO-A0JM-01A-21R-A056-07_SampleLim0.0CohortLim0.0Across1_FiltNormalsGtexCohortCohortlim3.0Across2.tsv.gz\n",
      "/cluster/work/grlab/projects/projects2020_OHSU/peptides_generation/CANCER_eth/commit_c4dd02c_conf2_Frame_cap0_runs/TCGA_Breast_1102/filtering_samples/chosen_filters_06March_order/G_TCGA-AO-A0JM-01A-21R-A056-07_SampleLim0.0CohortLimNoneAcrossNone_FiltNormalsGtexCohortCohortlim1.0Across2.tsv.gz\n",
      "/cluster/work/grlab/projects/projects2020_OHSU/peptides_generation/CANCER_eth/commit_c4dd02c_conf2_Frame_cap0_runs/TCGA_Breast_1102/filtering_samples/chosen_filters_06March_order/G_TCGA-AO-A0JM-01A-21R-A056-07_SampleLim0.0CohortLim2.0Across5_FiltNormalsGtexCohortCohortlim1.0Across2.tsv.gz\n",
      "/cluster/work/grlab/projects/projects2020_OHSU/peptides_generation/CANCER_eth/commit_c4dd02c_conf2_Frame_cap0_runs/TCGA_Breast_1102/filtering_samples/chosen_filters_06March_order/G_TCGA-AO-A0JM-01A-21R-A056-07_SampleLim0.0CohortLim2.0Across5_FiltNormalsGtexCohortCohortlim3.0Across1.tsv.gz\n",
      "/cluster/work/grlab/projects/projects2020_OHSU/peptides_generation/CANCER_eth/commit_c4dd02c_conf2_Frame_cap0_runs/TCGA_Breast_1102/filtering_samples/chosen_filters_06March_order/G_TCGA-AO-A0JM-01A-21R-A056-07_SampleLim0.0CohortLim2.0Across5_FiltNormalsGtexCohortCohortlim0.0Across1.tsv.gz\n",
      "/cluster/work/grlab/projects/projects2020_OHSU/peptides_generation/CANCER_eth/commit_c4dd02c_conf2_Frame_cap0_runs/TCGA_Breast_1102/filtering_samples/chosen_filters_06March_order/G_TCGA-AO-A0JM-01A-21R-A056-07_SampleLim0.0CohortLim2.0Across1_FiltNormalsGtexCohortCohortlim0.0Across10.tsv.gz\n",
      "/cluster/work/grlab/projects/projects2020_OHSU/peptides_generation/CANCER_eth/commit_c4dd02c_conf2_Frame_cap0_runs/TCGA_Breast_1102/filtering_samples/chosen_filters_06March_order/G_TCGA-AO-A0JM-01A-21R-A056-07_SampleLim0.0CohortLim2.0Across1_FiltNormalsGtexCohortCohortlim0.0Across2.tsv.gz\n"
     ]
    }
   ],
   "source": [
    "foo = set()\n",
    "for i in eth_all:\n",
    "    if 'FiltNormalsGtexC' in i:\n",
    "        if 'TCGA-AO-A0JM-01A-21R-A056-07' in i:\n",
    "            foo.add(os.path.basename(i).split('_')[2])\n",
    "            print(i)"
   ]
  },
  {
   "cell_type": "code",
   "execution_count": 44,
   "id": "75795a60",
   "metadata": {},
   "outputs": [
    {
     "data": {
      "text/plain": [
       "{'SampleLim0.0CohortLim0.0Across1',\n",
       " 'SampleLim0.0CohortLim0.0Across5',\n",
       " 'SampleLim0.0CohortLim2.0Across1',\n",
       " 'SampleLim0.0CohortLim2.0Across5',\n",
       " 'SampleLim0.0CohortLimNoneAcrossNone'}"
      ]
     },
     "execution_count": 44,
     "metadata": {},
     "output_type": "execute_result"
    }
   ],
   "source": [
    "foo"
   ]
  },
  {
   "cell_type": "code",
   "execution_count": 49,
   "id": "82182ca2",
   "metadata": {},
   "outputs": [
    {
     "name": "stdout",
     "output_type": "stream",
     "text": [
      "output/kmer_files/J_TCGA-AO-A0JM-01A-21R-A056-07_SampleLim0CohortLimNoneAcrossNone_FiltNormalsGtexCohortCohortlim0.0Across0.tsv\n"
     ]
    }
   ],
   "source": [
    "for i in ohsu_all:\n",
    "    if ('TCGA-AO-A0JM-01A-21R-A056-07' in i) \\\n",
    "    and('FiltNormalsGtexC' in i) \\\n",
    "    and ('SampleLim0CohortLimNoneAcrossNone' in i) \\\n",
    "    and ('FiltNormalsGtexCohortCohortlim0.0Across0' in i):\n",
    "        print(i)"
   ]
  },
  {
   "cell_type": "code",
   "execution_count": null,
   "id": "ff2e1910",
   "metadata": {},
   "outputs": [],
   "source": [
    "# FiltNormalsGtexCohortCohortlim0.0Across0.tsv\n"
   ]
  }
 ],
 "metadata": {
  "kernelspec": {
   "display_name": "Python 3 (ipykernel)",
   "language": "python",
   "name": "python3"
  },
  "language_info": {
   "codemirror_mode": {
    "name": "ipython",
    "version": 3
   },
   "file_extension": ".py",
   "mimetype": "text/x-python",
   "name": "python",
   "nbconvert_exporter": "python",
   "pygments_lexer": "ipython3",
   "version": "3.9.13"
  }
 },
 "nbformat": 4,
 "nbformat_minor": 5
}
