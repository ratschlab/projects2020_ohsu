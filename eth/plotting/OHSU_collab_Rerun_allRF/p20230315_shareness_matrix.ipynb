{
 "cells": [
  {
   "cell_type": "code",
   "execution_count": null,
   "id": "87d8e16e",
   "metadata": {},
   "outputs": [
    {
     "name": "stderr",
     "output_type": "stream",
     "text": [
      "Matplotlib created a temporary config/cache directory at /scratch/slurm-job.854520/matplotlib-s6w81xre because the default path (/cluster/customapps/biomed/grlab/users/prelotla/.cache/matplotlib) is not a writable directory; it is highly recommended to set the MPLCONFIGDIR environment variable to a writable directory, in particular to speed up the import of Matplotlib and to better support multiprocessing.\n"
     ]
    }
   ],
   "source": [
    "import matplotlib.pyplot as plt\n",
    "import seaborn as sns\n",
    "import pandas as pd\n",
    "import numpy as np\n",
    "import os\n",
    "import tarfile\n",
    "import glob\n",
    "from matplotlib.colors import LogNorm\n"
   ]
  },
  {
   "cell_type": "code",
   "execution_count": null,
   "id": "132479b6",
   "metadata": {},
   "outputs": [],
   "source": [
    "tar_file_OHSU = '/cluster/work/grlab/projects/projects2020_OHSU/share_OHUS_PNLL/expanded-filters_OHSU-results_Mar19-2023/OHSU_March19-2023_expanded-filters_results.tar.gz'"
   ]
  },
  {
   "cell_type": "code",
   "execution_count": null,
   "id": "2f91f8ed",
   "metadata": {},
   "outputs": [],
   "source": [
    "base_eth = '/cluster/work/grlab/projects/projects2020_OHSU/peptides_generation/CANCER_eth/commit_c4dd02c_conf2_Frame_cap0_runs/TCGA_Breast_1102/filtering_samples/chosen_filters_06March_order'"
   ]
  },
  {
   "cell_type": "code",
   "execution_count": null,
   "id": "f0ebfc54",
   "metadata": {},
   "outputs": [],
   "source": [
    "one_file_eth = '/cluster/work/grlab/projects/projects2020_OHSU/peptides_generation/CANCER_eth/commit_c4dd02c_conf2_Frame_cap0_runs/TCGA_Breast_1102/filtering_samples/chosen_filters_06March_order/G_TCGA-AO-A0JM-01A-21R-A056-07_SampleLim0.0CohortLimNoneAcrossNone_FiltNormalsGtexCohortCohortlim0.0Across1.tsv.gz'"
   ]
  },
  {
   "cell_type": "code",
   "execution_count": null,
   "id": "40b0fd82",
   "metadata": {},
   "outputs": [],
   "source": [
    "# Reads > 0 or 1 sample any read\n",
    "# Any read would be > 0 "
   ]
  },
  {
   "cell_type": "code",
   "execution_count": null,
   "id": "89232659",
   "metadata": {},
   "outputs": [],
   "source": [
    "# ETH Names\n",
    "eth_all = glob.glob(os.path.join(base_eth, 'G*'))"
   ]
  },
  {
   "cell_type": "code",
   "execution_count": null,
   "id": "827e23c8",
   "metadata": {},
   "outputs": [],
   "source": [
    "# OHSU Names\n",
    "with tarfile.open(tar_file_OHSU, \"r:*\") as tar:\n",
    "    ohsu_all = tar.getnames()"
   ]
  },
  {
   "cell_type": "code",
   "execution_count": null,
   "id": "3d347c93",
   "metadata": {},
   "outputs": [],
   "source": [
    "# Get file pairs\n",
    "file_pair = {}\n",
    "for idx_eth, eth in enumerate(eth_all):\n",
    "    pattern = os.path.basename(eth).replace('G_', '').replace('.gz', '') #.replace('.0CohortLim','CohortLim')\n",
    "    for idx_ohsu, ohsu in enumerate(ohsu_all):\n",
    "        if pattern in ohsu:\n",
    "            file_pair[eth] = ohsu\n",
    "\n",
    "            "
   ]
  },
  {
   "cell_type": "code",
   "execution_count": null,
   "id": "90274f06",
   "metadata": {},
   "outputs": [],
   "source": [
    "len(file_pair)"
   ]
  },
  {
   "cell_type": "markdown",
   "id": "dc0ca4ee",
   "metadata": {},
   "source": [
    "# Collect Data to plot"
   ]
  },
  {
   "cell_type": "code",
   "execution_count": null,
   "id": "1b1d782b",
   "metadata": {},
   "outputs": [],
   "source": [
    "# sample = TCGAAOA0JM01A21RA05607all\n",
    "restrict = 'TCGA-AO-A0JM-01A-21R-A056-07'\n",
    "df = {'sample' : [], \n",
    "      'filter_foreground' : [], \n",
    "      'filter_background' : [], \n",
    "      'size_ohsu' : [], \n",
    "      'size_eth' : [], \n",
    "      'size_intersection' : [], \n",
    "      'size_ohsu\\eth' : [], \n",
    "      'size_eth\\ohsu' : []}\n",
    "with tarfile.open(tar_file_OHSU, \"r:*\") as tar: #OHSU\n",
    "    for eth, ohsu in file_pair.items(): # ETH\n",
    "        if (not restrict) or restrict in eth: #Restrict to category of interest\n",
    "            try:\n",
    "                df_ohsu = pd.read_csv(tar.extractfile(ohsu), header=0, sep=\"\\t\")\n",
    "                #print(eth)\n",
    "                df_eth = pd.read_csv(eth, sep=\"\\t\", usecols = ['kmer'])\n",
    "                #print(df_eth.shape)\n",
    "                df_eth = set(df_eth['kmer'])\n",
    "                #print(len(df_eth))\n",
    "                df_ohsu = set(df_ohsu['kmer'])\n",
    "                name = os.path.basename(ohsu).replace('.tsv', '').split('_')\n",
    "                df['sample'].append(name[1])\n",
    "                df['filter_foreground'].append(name[2])\n",
    "                df['filter_background'].append(name[3])\n",
    "                df['size_ohsu'].append(len(df_ohsu))\n",
    "                df['size_eth'].append(len(df_eth))\n",
    "                df['size_ohsu\\eth'].append(len(df_ohsu.difference(df_eth)))\n",
    "                df['size_eth\\ohsu'].append(len(df_eth.difference(df_ohsu)))\n",
    "                df['size_intersection'].append(len(df_ohsu.intersection(df_eth)))\n",
    "            except:\n",
    "                continue\n"
   ]
  },
  {
   "cell_type": "code",
   "execution_count": null,
   "id": "48b203fa",
   "metadata": {},
   "outputs": [],
   "source": [
    "df = pd.DataFrame(df)"
   ]
  },
  {
   "cell_type": "markdown",
   "id": "7740d4d3",
   "metadata": {},
   "source": [
    "# Path Tests"
   ]
  },
  {
   "cell_type": "code",
   "execution_count": null,
   "id": "dc5dfdd9",
   "metadata": {},
   "outputs": [],
   "source": [
    "back_ = set()\n",
    "foregr_ = set()\n",
    "for i in eth_all:\n",
    "    if 'FiltNormalsGtexC' in i:\n",
    "        if 'TCGA-AO-A0JM-01A-21R-A056-07' in i:\n",
    "            back_.add(os.path.basename(i).split('_')[3])\n",
    "            foregr_.add(os.path.basename(i).split('_')[2])\n",
    "print('foreground')\n",
    "for i in foregr_:\n",
    "    print(i)\n",
    "print('background')\n",
    "for i in back_:\n",
    "    print(i)"
   ]
  },
  {
   "cell_type": "code",
   "execution_count": null,
   "id": "ff2e1910",
   "metadata": {},
   "outputs": [],
   "source": [
    "# FiltNormalsGtexCohortCohortlim0.0Across0.tsv\n"
   ]
  },
  {
   "cell_type": "markdown",
   "id": "dfc3aca0",
   "metadata": {},
   "source": [
    "# Plot Set size"
   ]
  },
  {
   "cell_type": "code",
   "execution_count": null,
   "id": "7d3c376c",
   "metadata": {},
   "outputs": [],
   "source": [
    "df = df.sort_values('size_intersection')\n",
    "df['index'] = np.arange(len(df))"
   ]
  },
  {
   "cell_type": "code",
   "execution_count": null,
   "id": "2116c447",
   "metadata": {},
   "outputs": [],
   "source": [
    "def plot_text(Y, T):\n",
    "    Y = np.array(Y)\n",
    "    T = np.array(T)\n",
    "    change_val = [i for i in np.arange(len(Y) - 1) if Y[i] != Y[i - 1]]    \n",
    "    weighted = [change_val[i] + (change_val[i+1] - change_val[i]) / 2 for i, x in enumerate(change_val[:-1])]\n",
    "    X = [np.floor(change_val[i] + (change_val[i+1] - change_val[i]) / 2) for i, x in enumerate(change_val[:-1])]\n",
    "    Y = Y[np.array(change_val[:-1])]\n",
    "    T = T[np.array(change_val[:-1])]\n",
    "    p_prev = 0 \n",
    "    percent_diff = 6\n",
    "    \n",
    "    for x, y, p in zip(X, Y, T):\n",
    "        if (p > p_prev + (p_prev/percent_diff)) or (p < p_prev - (p_prev/percent_diff)):\n",
    "            plt.text(x - 0.5 , y + (y/10), p)\n",
    "        p_prev = p "
   ]
  },
  {
   "cell_type": "code",
   "execution_count": null,
   "id": "75bbd6f6",
   "metadata": {},
   "outputs": [],
   "source": [
    "def plot_text_all(X, Y, T):\n",
    "    for x, y, p in zip(X, Y, T):\n",
    "        plt.text(x, y, p)\n",
    "        #plt.text(x - 0.5 , y + (y/10), p)\n"
   ]
  },
  {
   "cell_type": "code",
   "execution_count": null,
   "id": "be577f62",
   "metadata": {},
   "outputs": [],
   "source": [
    "colorgrid = 'grey'\n",
    "alpha_grid = 0.3\n",
    "marker_size = 10\n",
    "mew = 4\n",
    "color1 = 'gold'\n",
    "color2 = 'crimson'\n",
    "color4 = 'mediumblue'\n",
    "colorgrid = 'grey'\n",
    "\n",
    "plt.figure(figsize=(15, 6))\n",
    "plt.grid(b=True, axis = 'both', which='major', color=colorgrid, linestyle='-', alpha=alpha_grid)\n",
    "plt.grid(b=False, axis = 'both', which='minor', color=colorgrid, linestyle='--', alpha=alpha_grid)\n",
    "width = 0.4\n",
    "plt.bar(df['index'], df['size_intersection'], width=width, \n",
    "        color=color1, label='Intersection size')\n",
    "plt.plot(df['index'], df['size_eth'], alpha=1, color=color4,\n",
    "         linestyle = 'None', markerfacecolor='None', marker=\"_\", markersize=marker_size, markeredgewidth=mew,\n",
    "         label = 'Total set size Graph Pipeline')\n",
    "plt.plot(df['index'], df['size_ohsu'], alpha=1, color=color2,\n",
    "         linestyle = 'None', markerfacecolor='None', marker=\"_\", markersize=marker_size, markeredgewidth=mew,\n",
    "         label = 'Total set size Junction Pipeline')\n",
    "\n",
    "plot_text(df['size_ohsu'], df['size_ohsu'])\n",
    "plot_text(df['size_eth'], df['size_eth'])\n",
    "#plot_text_all(df['index'], df['size_intersection'], df['size_intersection'])\n",
    "\n",
    "plt.xticks(np.arange(len(df['index'])))\n",
    "plt.legend()\n",
    "plt.ylabel('Number of kmers')\n",
    "plt.xlabel('Experiement Number')\n",
    "plt.yscale('log')"
   ]
  },
  {
   "cell_type": "markdown",
   "id": "bef20a76",
   "metadata": {},
   "source": [
    "# Plot Intersections"
   ]
  },
  {
   "cell_type": "code",
   "execution_count": null,
   "id": "c9955b0a",
   "metadata": {},
   "outputs": [],
   "source": [
    "df.columns"
   ]
  },
  {
   "cell_type": "code",
   "execution_count": null,
   "id": "57fac3fb",
   "metadata": {},
   "outputs": [],
   "source": [
    "foreg_expr = [None, 0, 2, 0, 2]\n",
    "foreg_sample = [None, 1, 1, 5, 5]"
   ]
  },
  {
   "cell_type": "code",
   "execution_count": null,
   "id": "94b00caf",
   "metadata": {},
   "outputs": [],
   "source": [
    "# plt.plot(foreg_expr, np.arange(len(foreg_expr)), linestyle = 'None', marker=\"o\")\n",
    "# plt.plot(foreg_sample, np.arange(len(foreg_sample)), linestyle = 'None', marker=\"x\")\n",
    "# plt.invert_yaxis()"
   ]
  },
  {
   "cell_type": "code",
   "execution_count": null,
   "id": "8600d348",
   "metadata": {},
   "outputs": [],
   "source": [
    "\n",
    "order_foreground = ['SampleLim0.0CohortLimNoneAcrossNone', 'SampleLim0.0CohortLim0.0Across1',\n",
    "           'SampleLim0.0CohortLim2.0Across1', 'SampleLim0.0CohortLim0.0Across5',\n",
    "           'SampleLim0.0CohortLim2.0Across5']\n",
    "order_background = ['FiltNormalsGtexCohortCohortlim3.0Across10', \n",
    "                     'FiltNormalsGtexCohortCohortlim3.0Across2', \n",
    "                     'FiltNormalsGtexCohortCohortlim1.0Across10',\n",
    "                     'FiltNormalsGtexCohortCohortlim0.0Across10', \n",
    "                     'FiltNormalsGtexCohortCohortlim1.0Across2', \n",
    "                     'FiltNormalsGtexCohortCohortlim0.0Across2',\n",
    "                     'FiltNormalsGtexCohortCohortlim3.0Across1', \n",
    "                     'FiltNormalsGtexCohortCohortlim1.0Across1', \n",
    "                     'FiltNormalsGtexCohortCohortlim0.0Across1']\n",
    "\n",
    "titles = ['Intersection size', \n",
    "'Total set size Graph Pipeline', \n",
    "'Total set size Junction Pipeline']\n",
    "df_plot = []\n",
    "for f in ['size_intersection', 'size_eth', 'size_ohsu']: #, 'size_ohsu\\eth', 'size_eth\\ohsu']:\n",
    "    # Extract the intersection\n",
    "    df_inter = df.pivot(index = 'filter_foreground', columns = 'filter_background', values = f )\n",
    "\n",
    "    # Hardcode the leniency of the filter\n",
    "    df_inter = df_inter.loc[order_foreground, order_background]\n",
    "    df_plot.append(df_inter)\n",
    "    \n"
   ]
  },
  {
   "cell_type": "code",
   "execution_count": null,
   "id": "cee635cd",
   "metadata": {},
   "outputs": [],
   "source": [
    "nprow = 1\n",
    "npcol = 3\n",
    "fig = plt.figure(figsize=(15, 6), layout='constrained')\n",
    "axes = [fig.add_subplot(nprow, npcol, i) for i in range(1,npcol+1)]\n",
    "\n",
    "vmin = 1\n",
    "vmax = 1e5\n",
    "for pane_idx in np.arange(npcol):\n",
    "    panelplot=axes[pane_idx].imshow(df_plot[pane_idx], origin='upper', \n",
    "                                    cmap='inferno_r', norm=LogNorm(vmin=1, vmax=1e4))\n",
    "    axes[pane_idx].set_title(titles[pane_idx])\n",
    "    axes[pane_idx].set_xticks(range(df_plot[pane_idx].shape[1]))\n",
    "    axes[pane_idx].set_xticklabels(df_plot[pane_idx].columns, rotation = 90 )\n",
    "    if pane_idx == 0 :\n",
    "        axes[pane_idx].set_yticks(range(df_plot[pane_idx].shape[0]))\n",
    "        axes[pane_idx].set_yticklabels(df_plot[pane_idx].index, rotation = 45 )\n",
    "plt.colorbar(panelplot)\n",
    "\n"
   ]
  },
  {
   "cell_type": "code",
   "execution_count": null,
   "id": "5aa9cd62",
   "metadata": {
    "scrolled": true
   },
   "outputs": [],
   "source": [
    "df_plot[1]"
   ]
  },
  {
   "cell_type": "code",
   "execution_count": null,
   "id": "0acf630c",
   "metadata": {},
   "outputs": [],
   "source": [
    "df_plot[2]"
   ]
  },
  {
   "cell_type": "code",
   "execution_count": null,
   "id": "ec54f9a1",
   "metadata": {},
   "outputs": [],
   "source": []
  }
 ],
 "metadata": {
  "kernelspec": {
   "display_name": "Python 3 (ipykernel)",
   "language": "python",
   "name": "python3"
  },
  "language_info": {
   "codemirror_mode": {
    "name": "ipython",
    "version": 3
   },
   "file_extension": ".py",
   "mimetype": "text/x-python",
   "name": "python",
   "nbconvert_exporter": "python",
   "pygments_lexer": "ipython3",
   "version": "3.9.13"
  }
 },
 "nbformat": 4,
 "nbformat_minor": 5
}
