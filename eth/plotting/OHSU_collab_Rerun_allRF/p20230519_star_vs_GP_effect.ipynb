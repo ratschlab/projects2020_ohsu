{
 "cells": [
  {
   "cell_type": "code",
   "execution_count": 261,
   "id": "5a22de33",
   "metadata": {
    "scrolled": true
   },
   "outputs": [],
   "source": [
    "import matplotlib.pyplot as plt\n",
    "import seaborn as sns\n",
    "import pandas as pd\n",
    "import numpy as np\n",
    "import os\n",
    "import tarfile\n",
    "import pathlib"
   ]
  },
  {
   "cell_type": "code",
   "execution_count": 262,
   "id": "e70e79a8",
   "metadata": {},
   "outputs": [],
   "source": [
    "# Inputs ETH\n",
    "run_type = 'ov'\n",
    "\n",
    "if run_type == 'brca':\n",
    "   \n",
    "    sample_target = 'TCGA-AO-A0JM-01A-21R-A056-07'\n",
    "    basedir = '/cluster/work/grlab/projects/projects2020_OHSU/peptides_generation/CANCER_eth/commit_c4dd02c_conf2_Frame_cap0_runs/TCGA_Breast_1102'\n",
    "    #filtering_id = 'chosen_filters_06March_order' # OLD!!!!\n",
    "elif run_type == 'ov':\n",
    "    sample_target = 'TCGA-25-1319-01A-01R-1565-13'\n",
    "    basedir = '/cluster/work/grlab/projects/projects2020_OHSU/peptides_generation/CANCER_eth/commit_c4dd02c_conf2_Frame_cap0_runs/TCGA_Ovarian_374'\n",
    "    filtering_id_STAR = 'filters_16_May_QUICK_STAR/'\n",
    "    filtering_id_GP =  'filters_16_May_QUICK_INIT/'\n"
   ]
  },
  {
   "cell_type": "code",
   "execution_count": 263,
   "id": "5a3e73b4",
   "metadata": {},
   "outputs": [],
   "source": [
    "# Inputs OHSU\n",
    "path_filt_ohsu = f'output/kmer_files/J_{sample_target}_SampleLim0.0CohortLimNoneAcrossNone_FiltNormalsGtexCohortCohortlim0.0Across1.tsv'\n",
    "tar_file_OHSU = '/cluster/work/grlab/projects/projects2020_OHSU/share_OHUS_PNLL/include_ANY_filters_OHSU-results_March22-2023/OHSU_March27-2023_fixAnyfilters_results.tar.gz'"
   ]
  },
  {
   "cell_type": "code",
   "execution_count": 264,
   "id": "808a0de6",
   "metadata": {},
   "outputs": [],
   "source": [
    "# DEPRECATED WITH METADATA\n",
    "# File obtained from \n",
    "# 1. Filtered kmer list \n",
    "# 2. Generation info\n",
    "# 3. Added a lot of false positive related information in projects2020_ohsu/eth/debug/debug_false_positives/p20230307_filter_allRF_quality_check.ipynb\n",
    "#metadata = 'metadata2'\n",
    "\n",
    "\n",
    "#NEW NO METADATA\n",
    "path_inter_eth_GP = os.path.join(basedir, 'filtering_intermediate/complete_cancer_candidates_order_r_complete.tsv.gz')\n",
    "path_inter_eth_STAR = os.path.join(basedir, 'filtering_intermediate/complete_cancer_candidates_order_r_complete.STAR_GTEx.tsv.gz')\n",
    "\n",
    "metadata = ''\n",
    "path_filt_eth = f'G_{sample_target}_SampleLim0.0CohortLimAnyAcrossNone_FiltNormalsGtexCohortCohortlim0.0Across1{metadata}.tsv.gz'\n",
    "path_filt_eth_STAR = os.path.join(basedir, 'filtering_samples', filtering_id_STAR, path_filt_eth)\n",
    "path_filt_eth_GP = os.path.join(basedir, 'filtering_samples', filtering_id_GP, path_filt_eth)"
   ]
  },
  {
   "cell_type": "code",
   "execution_count": 265,
   "id": "8908fd46",
   "metadata": {
    "scrolled": true
   },
   "outputs": [],
   "source": [
    "# # Custom code with old metadata file\n",
    "# custom_merge = True\n",
    "# custom = '/cluster/work/grlab/projects/projects2020_OHSU/peptides_generation/CANCER_eth/commit_c4dd02c_conf2_Frame_cap0_runs/TCGA_Ovarian_374/filtering_samples/filters_22March_order_wany_wAnnot/G_TCGA-25-1319-01A-01R-1565-13_SampleLim0.0CohortLimNoneAcrossNone_FiltNormalsGtexCohortCohortlim0.0Across1metadata2.tsv.gz'\n",
    "# custom = pd.read_csv(custom, sep = '\\t')\n",
    "# custom.head()"
   ]
  },
  {
   "cell_type": "markdown",
   "id": "02debc0c",
   "metadata": {},
   "source": [
    "# Load"
   ]
  },
  {
   "cell_type": "code",
   "execution_count": 269,
   "id": "ed5a25c4",
   "metadata": {
    "scrolled": true
   },
   "outputs": [
    {
     "name": "stdout",
     "output_type": "stream",
     "text": [
      "Reading /cluster/work/grlab/projects/projects2020_OHSU/peptides_generation/CANCER_eth/commit_c4dd02c_conf2_Frame_cap0_runs/TCGA_Ovarian_374/filtering_intermediate/complete_cancer_candidates_order_r_complete.tsv.gz\n",
      "(46132795, 24)\n",
      "Reading /cluster/work/grlab/projects/projects2020_OHSU/peptides_generation/CANCER_eth/commit_c4dd02c_conf2_Frame_cap0_runs/TCGA_Ovarian_374/filtering_intermediate/complete_cancer_candidates_order_r_complete.STAR_GTEx.tsv.gz\n",
      "(646718, 30)\n",
      "Reading /cluster/work/grlab/projects/projects2020_OHSU/peptides_generation/CANCER_eth/commit_c4dd02c_conf2_Frame_cap0_runs/TCGA_Ovarian_374/filtering_samples/filters_16_May_QUICK_INIT/G_TCGA-25-1319-01A-01R-1565-13_SampleLim0.0CohortLimAnyAcrossNone_FiltNormalsGtexCohortCohortlim0.0Across1.tsv.gz\n",
      "(131575, 4)\n",
      "Reading /cluster/work/grlab/projects/projects2020_OHSU/peptides_generation/CANCER_eth/commit_c4dd02c_conf2_Frame_cap0_runs/TCGA_Ovarian_374/filtering_samples/filters_16_May_QUICK_STAR/G_TCGA-25-1319-01A-01R-1565-13_SampleLim0.0CohortLimAnyAcrossNone_FiltNormalsGtexCohortCohortlim0.0Across1.tsv.gz\n",
      "(58736, 4)\n"
     ]
    }
   ],
   "source": [
    "# Read ETH Data\n",
    "print(f'Reading {path_inter_eth_GP}')\n",
    "df_inter_GP = pd.read_csv(path_inter_eth_GP, sep = '\\t')\n",
    "print(df_inter_GP.shape)\n",
    "print(f'Reading {path_inter_eth_STAR}')\n",
    "df_inter_STAR = pd.read_csv(path_inter_eth_STAR, sep = '\\t')\n",
    "print(df_inter_STAR.shape)\n",
    "\n",
    "print(f'Reading {path_filt_eth_GP}')\n",
    "df_filt_GP = pd.read_csv(path_filt_eth_GP, sep = '\\t')\n",
    "print(df_filt_GP.shape)\n",
    "\n",
    "print(f'Reading {path_filt_eth_STAR}')\n",
    "df_filt_STAR = pd.read_csv(path_filt_eth_STAR, sep = '\\t')\n",
    "print(df_filt_STAR.shape)\n",
    "\n",
    "\n"
   ]
  },
  {
   "cell_type": "code",
   "execution_count": 270,
   "id": "f053ee0d",
   "metadata": {},
   "outputs": [
    {
     "name": "stdout",
     "output_type": "stream",
     "text": [
      "2261461\n",
      "461470\n",
      "113574\n",
      "52750\n"
     ]
    }
   ],
   "source": [
    "I_GP = set(df_inter_GP['kmer'])\n",
    "print(len(I_GP))\n",
    "I_STAR = set(df_inter_STAR['kmer'])\n",
    "print(len(I_STAR))\n",
    "F_GP = set(df_filt_GP['kmer'])\n",
    "print(len(F_GP))\n",
    "F_STAR = set(df_filt_STAR['kmer'])\n",
    "print(len(F_STAR))"
   ]
  },
  {
   "cell_type": "code",
   "execution_count": 271,
   "id": "fcf67d8f",
   "metadata": {},
   "outputs": [],
   "source": [
    "def set_compare(A, B, how = 'inter'):\n",
    "    if how == 'inter':\n",
    "        res = A.intersection(B)\n",
    "        print('intersection')\n",
    "    elif how == 'left':\n",
    "        res = A.difference(B)\n",
    "        print('left difference')\n",
    "    elif how == 'right':\n",
    "        res = B.difference(A)\n",
    "        print('right difference')\n",
    "    print(len(res))\n",
    "    return res"
   ]
  },
  {
   "cell_type": "code",
   "execution_count": 272,
   "id": "8ea31402",
   "metadata": {},
   "outputs": [
    {
     "name": "stdout",
     "output_type": "stream",
     "text": [
      "--- Filtered STAR and Filtered GP ---\n",
      "intersection\n",
      "52430\n",
      "left difference\n",
      "320\n",
      "right difference\n",
      "61144\n"
     ]
    }
   ],
   "source": [
    "print('--- Filtered STAR and Filtered GP ---') # IMPORTANT RESULT\n",
    "res = set_compare(F_STAR, F_GP, how = 'inter')\n",
    "res = set_compare(F_STAR, F_GP, how = 'left')\n",
    "res = set_compare(F_STAR, F_GP, how = 'right')"
   ]
  },
  {
   "cell_type": "code",
   "execution_count": 273,
   "id": "35c75444",
   "metadata": {},
   "outputs": [
    {
     "data": {
      "text/plain": [
       "320"
      ]
     },
     "execution_count": 273,
     "metadata": {},
     "output_type": "execute_result"
    }
   ],
   "source": [
    "len(F_STAR.difference(F_GP)) # Multiple kmer backgrounds effect"
   ]
  },
  {
   "cell_type": "code",
   "execution_count": 274,
   "id": "2c566dff",
   "metadata": {},
   "outputs": [
    {
     "data": {
      "text/plain": [
       "61144"
      ]
     },
     "execution_count": 274,
     "metadata": {},
     "output_type": "execute_result"
    }
   ],
   "source": [
    "len(F_GP.difference(F_STAR)) # PRUNING effect + 3-exon effect + Maybe some edge cases junctions"
   ]
  },
  {
   "cell_type": "code",
   "execution_count": 275,
   "id": "8a0a6417",
   "metadata": {},
   "outputs": [
    {
     "name": "stdout",
     "output_type": "stream",
     "text": [
      "--- Filtering GP ---\n",
      "intersection\n",
      "113574\n",
      "left difference\n",
      "2147887\n",
      "right difference\n",
      "0\n"
     ]
    }
   ],
   "source": [
    "print('--- Filtering GP ---')\n",
    "res = set_compare(I_GP, F_GP, how = 'inter')\n",
    "res = set_compare(I_GP, F_GP, how = 'left')\n",
    "res = set_compare(I_GP, F_GP, how = 'right')"
   ]
  },
  {
   "cell_type": "code",
   "execution_count": 276,
   "id": "a661f1bd",
   "metadata": {},
   "outputs": [
    {
     "name": "stdout",
     "output_type": "stream",
     "text": [
      "--- Filtering STAR ---\n",
      "intersection\n",
      "52750\n",
      "left difference\n",
      "408720\n",
      "right difference\n",
      "0\n"
     ]
    }
   ],
   "source": [
    "print('--- Filtering STAR ---')\n",
    "res = set_compare(I_STAR, F_STAR, how = 'inter')\n",
    "res = set_compare(I_STAR, F_STAR, how = 'left')\n",
    "res = set_compare(I_STAR, F_STAR, how = 'right')\n"
   ]
  },
  {
   "cell_type": "code",
   "execution_count": 277,
   "id": "47778174",
   "metadata": {
    "scrolled": true
   },
   "outputs": [
    {
     "name": "stdout",
     "output_type": "stream",
     "text": [
      "--- Intermediate STAR and GP ---\n",
      "intersection\n",
      "461470\n",
      "left difference\n",
      "0\n",
      "right difference\n",
      "1799991\n"
     ]
    }
   ],
   "source": [
    "print('--- Intermediate STAR and GP ---')\n",
    "res = set_compare(I_STAR, I_GP, how = 'inter')\n",
    "res = set_compare(I_STAR, I_GP, how = 'left')\n",
    "res = set_compare(I_STAR, I_GP, how = 'right')\n"
   ]
  },
  {
   "cell_type": "code",
   "execution_count": 278,
   "id": "7744c14a",
   "metadata": {},
   "outputs": [
    {
     "name": "stdout",
     "output_type": "stream",
     "text": [
      "--- Intermediate STAR and Filtered GP ---\n",
      "intersection\n",
      "113574\n",
      "left difference\n",
      "347896\n",
      "right difference\n",
      "0\n"
     ]
    }
   ],
   "source": [
    "print('--- Intermediate STAR and Filtered GP ---')\n",
    "res = set_compare(I_STAR, F_GP, how = 'inter')\n",
    "res = set_compare(I_STAR, F_GP, how = 'left')\n",
    "res = set_compare(I_STAR, F_GP, how = 'right')\n"
   ]
  },
  {
   "cell_type": "code",
   "execution_count": 279,
   "id": "6d7f6eec",
   "metadata": {},
   "outputs": [
    {
     "name": "stdout",
     "output_type": "stream",
     "text": [
      "--- Intermediate GP and Filtered STAR ---\n",
      "intersection\n",
      "52750\n",
      "left difference\n",
      "2208711\n",
      "right difference\n",
      "0\n"
     ]
    }
   ],
   "source": [
    "print('--- Intermediate GP and Filtered STAR ---')\n",
    "res = set_compare(I_GP, F_STAR, how = 'inter')\n",
    "res = set_compare(I_GP, F_STAR, how = 'left')\n",
    "res = set_compare(I_GP, F_STAR, how = 'right')\n"
   ]
  },
  {
   "cell_type": "code",
   "execution_count": 280,
   "id": "a137cab6",
   "metadata": {
    "scrolled": true
   },
   "outputs": [
    {
     "name": "stdout",
     "output_type": "stream",
     "text": [
      "--- intermediate reduced to output filter coordinates ---\n",
      "(646718, 30)\n",
      "- is not in STAR\n",
      "(292275, 30)\n",
      "- is  in STAR\n",
      "(354443, 30)\n"
     ]
    }
   ],
   "source": [
    "print('--- intermediate reduced to output filter coordinates ---') \n",
    "print(df_inter_STAR.shape) \n",
    "\n",
    "print('- is not in STAR')\n",
    "print(df_inter_STAR.loc[df_inter_STAR['gtexCohortfilter >0.0'].isna()].shape)\n",
    "\n",
    "\n",
    "print('- is  in STAR')\n",
    "print(df_inter_STAR.loc[~ df_inter_STAR['gtexCohortfilter >0.0'].isna()].shape)\n"
   ]
  },
  {
   "cell_type": "code",
   "execution_count": 281,
   "id": "ed1ac13c",
   "metadata": {},
   "outputs": [
    {
     "name": "stdout",
     "output_type": "stream",
     "text": [
      "(292275, 30)\n",
      "(354443, 30)\n"
     ]
    }
   ],
   "source": [
    "inter_rf_WOstar = df_inter_STAR.loc[df_inter_STAR['gtexCohortfilter >0.0'].isna()]\n",
    "inter_rf_star = df_inter_STAR.loc[~ df_inter_STAR['gtexCohortfilter >0.0'].isna()]\n",
    "print(inter_rf_WOstar.shape)\n",
    "print(inter_rf_star.shape)"
   ]
  },
  {
   "cell_type": "code",
   "execution_count": null,
   "id": "8017c3f0",
   "metadata": {},
   "outputs": [],
   "source": []
  },
  {
   "cell_type": "code",
   "execution_count": 282,
   "id": "e45b9d84",
   "metadata": {
    "scrolled": true
   },
   "outputs": [
    {
     "name": "stdout",
     "output_type": "stream",
     "text": [
      "(131575, 4)\n",
      "(69334, 30)\n",
      "(87937, 30)\n"
     ]
    }
   ],
   "source": [
    "# Merge generation matrix & filtered kmers\n",
    "print(df_filt_GP.shape)\n",
    "inter_rf_WOstar_filtered = inter_rf_WOstar.merge(df_filt_GP, on = list(df_filt_GP.columns), how = 'inner')\n",
    "inter_rf_star_filtered = inter_rf_star.merge(df_filt_GP, on = list(df_filt_GP.columns), how = 'inner')\n",
    "print(inter_rf_WOstar_filtered.shape)\n",
    "print(inter_rf_star_filtered.shape)"
   ]
  },
  {
   "cell_type": "code",
   "execution_count": 283,
   "id": "dd456382",
   "metadata": {
    "scrolled": true
   },
   "outputs": [
    {
     "data": {
      "text/html": [
       "<div>\n",
       "<style scoped>\n",
       "    .dataframe tbody tr th:only-of-type {\n",
       "        vertical-align: middle;\n",
       "    }\n",
       "\n",
       "    .dataframe tbody tr th {\n",
       "        vertical-align: top;\n",
       "    }\n",
       "\n",
       "    .dataframe thead th {\n",
       "        text-align: right;\n",
       "    }\n",
       "</style>\n",
       "<table border=\"1\" class=\"dataframe\">\n",
       "  <thead>\n",
       "    <tr style=\"text-align: right;\">\n",
       "      <th></th>\n",
       "      <th>kmer</th>\n",
       "      <th>coord</th>\n",
       "      <th>junctionAnnotated</th>\n",
       "      <th>readFrameAnnotated</th>\n",
       "      <th>isCrossJunction</th>\n",
       "      <th>batch</th>\n",
       "      <th>cancerCohortfilter &gt;0.0</th>\n",
       "      <th>cancerCohortfilter &gt;=1.0</th>\n",
       "      <th>cancerCohortfilter &gt;=2.0</th>\n",
       "      <th>cancerCohortfilter &gt;=3.0</th>\n",
       "      <th>...</th>\n",
       "      <th>junction_coordinate2</th>\n",
       "      <th>junction_coordinate</th>\n",
       "      <th>strand_STAR</th>\n",
       "      <th>chr</th>\n",
       "      <th>gtexCohortfilter &gt;0.0</th>\n",
       "      <th>gtexCohortfilter &gt;=1.0</th>\n",
       "      <th>gtexCohortfilter &gt;=2.0</th>\n",
       "      <th>gtexCohortfilter &gt;=3.0</th>\n",
       "      <th>gtexCohortfilter &gt;=5.0</th>\n",
       "      <th>gtexCohortfilter &gt;=10.0</th>\n",
       "    </tr>\n",
       "  </thead>\n",
       "  <tbody>\n",
       "    <tr>\n",
       "      <th>0</th>\n",
       "      <td>RMREATKGP</td>\n",
       "      <td>55350885:55350897:55352540:55352555:None:None</td>\n",
       "      <td>False</td>\n",
       "      <td>True</td>\n",
       "      <td>True</td>\n",
       "      <td>16543</td>\n",
       "      <td>2</td>\n",
       "      <td>2</td>\n",
       "      <td>2</td>\n",
       "      <td>2</td>\n",
       "      <td>...</td>\n",
       "      <td>None</td>\n",
       "      <td>NaN</td>\n",
       "      <td>NaN</td>\n",
       "      <td>NaN</td>\n",
       "      <td>NaN</td>\n",
       "      <td>NaN</td>\n",
       "      <td>NaN</td>\n",
       "      <td>NaN</td>\n",
       "      <td>NaN</td>\n",
       "      <td>NaN</td>\n",
       "    </tr>\n",
       "    <tr>\n",
       "      <th>1</th>\n",
       "      <td>QVERMREAT</td>\n",
       "      <td>55350876:55350897:55352540:55352546:None:None</td>\n",
       "      <td>False</td>\n",
       "      <td>True</td>\n",
       "      <td>True</td>\n",
       "      <td>16543</td>\n",
       "      <td>2</td>\n",
       "      <td>2</td>\n",
       "      <td>2</td>\n",
       "      <td>2</td>\n",
       "      <td>...</td>\n",
       "      <td>None</td>\n",
       "      <td>NaN</td>\n",
       "      <td>NaN</td>\n",
       "      <td>NaN</td>\n",
       "      <td>NaN</td>\n",
       "      <td>NaN</td>\n",
       "      <td>NaN</td>\n",
       "      <td>NaN</td>\n",
       "      <td>NaN</td>\n",
       "      <td>NaN</td>\n",
       "    </tr>\n",
       "    <tr>\n",
       "      <th>2</th>\n",
       "      <td>VERMREATK</td>\n",
       "      <td>55350879:55350897:55352540:55352549:None:None</td>\n",
       "      <td>False</td>\n",
       "      <td>True</td>\n",
       "      <td>True</td>\n",
       "      <td>16543</td>\n",
       "      <td>2</td>\n",
       "      <td>2</td>\n",
       "      <td>2</td>\n",
       "      <td>2</td>\n",
       "      <td>...</td>\n",
       "      <td>None</td>\n",
       "      <td>NaN</td>\n",
       "      <td>NaN</td>\n",
       "      <td>NaN</td>\n",
       "      <td>NaN</td>\n",
       "      <td>NaN</td>\n",
       "      <td>NaN</td>\n",
       "      <td>NaN</td>\n",
       "      <td>NaN</td>\n",
       "      <td>NaN</td>\n",
       "    </tr>\n",
       "    <tr>\n",
       "      <th>3</th>\n",
       "      <td>MREATKGPV</td>\n",
       "      <td>55350888:55350897:55352540:55352558:None:None</td>\n",
       "      <td>False</td>\n",
       "      <td>True</td>\n",
       "      <td>True</td>\n",
       "      <td>16543</td>\n",
       "      <td>2</td>\n",
       "      <td>2</td>\n",
       "      <td>2</td>\n",
       "      <td>2</td>\n",
       "      <td>...</td>\n",
       "      <td>None</td>\n",
       "      <td>NaN</td>\n",
       "      <td>NaN</td>\n",
       "      <td>NaN</td>\n",
       "      <td>NaN</td>\n",
       "      <td>NaN</td>\n",
       "      <td>NaN</td>\n",
       "      <td>NaN</td>\n",
       "      <td>NaN</td>\n",
       "      <td>NaN</td>\n",
       "    </tr>\n",
       "    <tr>\n",
       "      <th>4</th>\n",
       "      <td>VQVERMREA</td>\n",
       "      <td>55350873:55350897:55352540:55352543:None:None</td>\n",
       "      <td>False</td>\n",
       "      <td>True</td>\n",
       "      <td>True</td>\n",
       "      <td>16543</td>\n",
       "      <td>2</td>\n",
       "      <td>2</td>\n",
       "      <td>2</td>\n",
       "      <td>2</td>\n",
       "      <td>...</td>\n",
       "      <td>None</td>\n",
       "      <td>NaN</td>\n",
       "      <td>NaN</td>\n",
       "      <td>NaN</td>\n",
       "      <td>NaN</td>\n",
       "      <td>NaN</td>\n",
       "      <td>NaN</td>\n",
       "      <td>NaN</td>\n",
       "      <td>NaN</td>\n",
       "      <td>NaN</td>\n",
       "    </tr>\n",
       "  </tbody>\n",
       "</table>\n",
       "<p>5 rows × 30 columns</p>\n",
       "</div>"
      ],
      "text/plain": [
       "        kmer                                          coord  \\\n",
       "0  RMREATKGP  55350885:55350897:55352540:55352555:None:None   \n",
       "1  QVERMREAT  55350876:55350897:55352540:55352546:None:None   \n",
       "2  VERMREATK  55350879:55350897:55352540:55352549:None:None   \n",
       "3  MREATKGPV  55350888:55350897:55352540:55352558:None:None   \n",
       "4  VQVERMREA  55350873:55350897:55352540:55352543:None:None   \n",
       "\n",
       "   junctionAnnotated  readFrameAnnotated  isCrossJunction  batch  \\\n",
       "0              False                True             True  16543   \n",
       "1              False                True             True  16543   \n",
       "2              False                True             True  16543   \n",
       "3              False                True             True  16543   \n",
       "4              False                True             True  16543   \n",
       "\n",
       "   cancerCohortfilter >0.0  cancerCohortfilter >=1.0  \\\n",
       "0                        2                         2   \n",
       "1                        2                         2   \n",
       "2                        2                         2   \n",
       "3                        2                         2   \n",
       "4                        2                         2   \n",
       "\n",
       "   cancerCohortfilter >=2.0  cancerCohortfilter >=3.0  ...  \\\n",
       "0                         2                         2  ...   \n",
       "1                         2                         2  ...   \n",
       "2                         2                         2  ...   \n",
       "3                         2                         2  ...   \n",
       "4                         2                         2  ...   \n",
       "\n",
       "   junction_coordinate2  junction_coordinate  strand_STAR  chr  \\\n",
       "0                  None                  NaN          NaN  NaN   \n",
       "1                  None                  NaN          NaN  NaN   \n",
       "2                  None                  NaN          NaN  NaN   \n",
       "3                  None                  NaN          NaN  NaN   \n",
       "4                  None                  NaN          NaN  NaN   \n",
       "\n",
       "   gtexCohortfilter >0.0  gtexCohortfilter >=1.0  gtexCohortfilter >=2.0  \\\n",
       "0                    NaN                     NaN                     NaN   \n",
       "1                    NaN                     NaN                     NaN   \n",
       "2                    NaN                     NaN                     NaN   \n",
       "3                    NaN                     NaN                     NaN   \n",
       "4                    NaN                     NaN                     NaN   \n",
       "\n",
       "   gtexCohortfilter >=3.0 gtexCohortfilter >=5.0 gtexCohortfilter >=10.0  \n",
       "0                     NaN                    NaN                     NaN  \n",
       "1                     NaN                    NaN                     NaN  \n",
       "2                     NaN                    NaN                     NaN  \n",
       "3                     NaN                    NaN                     NaN  \n",
       "4                     NaN                    NaN                     NaN  \n",
       "\n",
       "[5 rows x 30 columns]"
      ]
     },
     "execution_count": 283,
     "metadata": {},
     "output_type": "execute_result"
    }
   ],
   "source": [
    "inter_rf_WOstar_filtered.head()"
   ]
  },
  {
   "cell_type": "code",
   "execution_count": 284,
   "id": "56b47aa1",
   "metadata": {},
   "outputs": [
    {
     "name": "stdout",
     "output_type": "stream",
     "text": [
      "GP filtering split based on STAR presence\n",
      "recurrence cancer\n"
     ]
    },
    {
     "data": {
      "image/png": "[encoded data removed]",
      "text/plain": [
       "<Figure size 640x480 with 1 Axes>"
      ]
     },
     "metadata": {},
     "output_type": "display_data"
    }
   ],
   "source": [
    "print('GP filtering split based on STAR presence')\n",
    "print('recurrence cancer')\n",
    "plt.title('GP filtering')\n",
    "plt.hist(inter_rf_WOstar_filtered['cancerCohortfilter >0.0'], bins = 100, label = 'GP filtering: not in STAR')\n",
    "plt.hist(inter_rf_star_filtered['cancerCohortfilter >0.0'], bins = 100, alpha = 0.6, label = 'GP filtering: in STAR')\n",
    "plt.ylabel('frequency')\n",
    "plt.xlabel('cancer recurrence')\n",
    "\n",
    "plt.legend()\n",
    "plt.show()"
   ]
  },
  {
   "cell_type": "code",
   "execution_count": 285,
   "id": "ce6ba645",
   "metadata": {},
   "outputs": [
    {
     "name": "stdout",
     "output_type": "stream",
     "text": [
      "GP filtering split based on STAR presence\n",
      "sample expression\n"
     ]
    },
    {
     "data": {
      "image/png": "[encoded data removed]",
      "text/plain": [
       "<Figure size 640x480 with 1 Axes>"
      ]
     },
     "metadata": {},
     "output_type": "display_data"
    }
   ],
   "source": [
    "print('GP filtering split based on STAR presence')\n",
    "print('sample expression')\n",
    "plt.title('GP filtering')\n",
    "plt.hist(inter_rf_WOstar_filtered['TCGA25131901A01R156513all'], bins = 4,  label = 'GP filtering: not in STAR')\n",
    "plt.hist(inter_rf_star_filtered['TCGA25131901A01R156513all'], bins = 10, alpha = 0.6,  label = 'GP filtering: in STAR')\n",
    "plt.legend()\n",
    "plt.ylabel('frequency')\n",
    "plt.xlabel('sample expression')\n",
    "plt.yscale('log')\n",
    "plt.show()"
   ]
  },
  {
   "cell_type": "code",
   "execution_count": 286,
   "id": "11e762d1",
   "metadata": {},
   "outputs": [],
   "source": [
    "# Merge generation matrix & filtered kmers\n",
    "inter_rf_starpipeline = df_inter_STAR.merge(df_filt_STAR, on = list(df_filt_STAR.columns), how = 'inner')\n",
    "inter_rf_GPpipeline = df_inter_GP.merge(df_filt_GP, on = list(df_filt_GP.columns), how = 'inner')\n"
   ]
  },
  {
   "cell_type": "code",
   "execution_count": 287,
   "id": "6f430381",
   "metadata": {},
   "outputs": [
    {
     "name": "stdout",
     "output_type": "stream",
     "text": [
      "Filtering STAR pipeline vs GP pipeline\n",
      "Recurrence cancer\n"
     ]
    },
    {
     "data": {
      "image/png": "[encoded data removed]",
      "text/plain": [
       "<Figure size 640x480 with 1 Axes>"
      ]
     },
     "metadata": {},
     "output_type": "display_data"
    }
   ],
   "source": [
    "print('Filtering STAR pipeline vs GP pipeline')\n",
    "print('Recurrence cancer')\n",
    "plt.title('GP filtering vs STAR filtering')\n",
    "plt.hist(inter_rf_starpipeline['cancerCohortfilter >0.0'], bins = 100, color = 'green', label = 'STAR pipeline')\n",
    "plt.hist(inter_rf_GPpipeline['cancerCohortfilter >0.0'], bins = 100, alpha = 0.6, label = 'Graph  pipeline')\n",
    "plt.legend()\n",
    "plt.ylabel('frequency')\n",
    "plt.xlabel('cancer recurrence')\n",
    "plt.show()"
   ]
  },
  {
   "cell_type": "code",
   "execution_count": 288,
   "id": "5d50bb90",
   "metadata": {},
   "outputs": [
    {
     "name": "stdout",
     "output_type": "stream",
     "text": [
      "Filtering STAR pipeline vs GP pipeline\n",
      "sample expression\n"
     ]
    },
    {
     "data": {
      "image/png": "[encoded data removed]",
      "text/plain": [
       "<Figure size 640x480 with 1 Axes>"
      ]
     },
     "metadata": {},
     "output_type": "display_data"
    }
   ],
   "source": [
    "print('Filtering STAR pipeline vs GP pipeline')\n",
    "print('sample expression')\n",
    "plt.title('GP filtering vs STAR filtering')\n",
    "plt.hist(inter_rf_starpipeline['TCGA25131901A01R156513all'], bins = 4, color = 'green', label = 'STAR pipeline')\n",
    "plt.hist(inter_rf_GPpipeline['TCGA25131901A01R156513all'], bins = 10, alpha = 0.6, label = 'Graph  pipeline')\n",
    "plt.legend()\n",
    "plt.ylabel('frequency')\n",
    "plt.xlabel('sample expression')\n",
    "plt.yscale('log')\n",
    "plt.show()"
   ]
  },
  {
   "cell_type": "code",
   "execution_count": 289,
   "id": "f8d02716",
   "metadata": {},
   "outputs": [
    {
     "name": "stdout",
     "output_type": "stream",
     "text": [
      "In GP filtering but not in STAR\n",
      "right difference\n",
      "61144\n",
      "(73341, 25)\n",
      "61144\n"
     ]
    }
   ],
   "source": [
    "print('In GP filtering but not in STAR')\n",
    "inter_rf_GPpipeline['kmer-type'] = ['3-exons' if 'None' in coord else '2-exons' \\\n",
    "                                     for coord in inter_rf_GPpipeline['coord']]\n",
    "diff_GP_STAR = inter_rf_GPpipeline.set_index('kmer').loc[set_compare(F_STAR, F_GP, how = 'right'), :\\\n",
    "                                                        ].reset_index()\n",
    "print(diff_GP_STAR.shape)\n",
    "print(len(set(diff_GP_STAR['kmer'])))\n"
   ]
  },
  {
   "cell_type": "code",
   "execution_count": 290,
   "id": "2cc88fb2",
   "metadata": {},
   "outputs": [
    {
     "data": {
      "text/plain": [
       "count       73341\n",
       "unique          2\n",
       "top       3-exons\n",
       "freq        47543\n",
       "Name: kmer-type, dtype: object"
      ]
     },
     "execution_count": 290,
     "metadata": {},
     "output_type": "execute_result"
    }
   ],
   "source": [
    "diff_GP_STAR['kmer-type'].describe()\n",
    "## Seems to be mostly 3 exons stuff"
   ]
  },
  {
   "cell_type": "code",
   "execution_count": 291,
   "id": "54519c96",
   "metadata": {},
   "outputs": [
    {
     "data": {
      "image/png": "[encoded data removed]",
      "text/plain": [
       "<Figure size 640x480 with 1 Axes>"
      ]
     },
     "metadata": {},
     "output_type": "display_data"
    }
   ],
   "source": [
    "plt.title('kmers present in GP but removed by STAR: 2 and 3 exons characterization')\n",
    "plt.xlabel('Recurrence cancer')\n",
    "plt.hist(diff_GP_STAR.loc[diff_GP_STAR['kmer-type'] == '2-exons', 'cancerCohortfilter >0.0'], bins = 100, label = '2-exons')\n",
    "plt.hist(diff_GP_STAR.loc[diff_GP_STAR['kmer-type'] == '3-exons', 'cancerCohortfilter >0.0'], bins = 100, alpha = 0.6, label = '3-exons')\n",
    "plt.legend()\n",
    "plt.show()"
   ]
  },
  {
   "cell_type": "code",
   "execution_count": 292,
   "id": "afcf84c1",
   "metadata": {},
   "outputs": [
    {
     "data": {
      "image/png": "[encoded data removed]",
      "text/plain": [
       "<Figure size 640x480 with 1 Axes>"
      ]
     },
     "metadata": {},
     "output_type": "display_data"
    }
   ],
   "source": [
    "plt.title('kmers present in GP but removed by STAR: 2 and 3 exons characterization')\n",
    "plt.xlabel('Expression sample')\n",
    "plt.hist(diff_GP_STAR.loc[diff_GP_STAR['kmer-type'] == '2-exons', 'TCGA25131901A01R156513all'], bins = 100,  label = '2-exons')\n",
    "plt.hist(diff_GP_STAR.loc[diff_GP_STAR['kmer-type'] == '3-exons', 'TCGA25131901A01R156513all'], bins = 100, alpha = 0.6, label = '3-exons')\n",
    "plt.legend()\n",
    "plt.show()"
   ]
  },
  {
   "cell_type": "code",
   "execution_count": 293,
   "id": "ffb1337b",
   "metadata": {},
   "outputs": [
    {
     "name": "stdout",
     "output_type": "stream",
     "text": [
      "In STAR filtering but not in GP\n",
      "left difference\n",
      "320\n",
      "(362, 31)\n",
      "320\n"
     ]
    }
   ],
   "source": [
    "print('In STAR filtering but not in GP')\n",
    "inter_rf_starpipeline['kmer-type'] = ['3-exons' if 'None' in coord else '2-exons' \\\n",
    "                                     for coord in inter_rf_starpipeline['coord']]\n",
    "diff_STAR_GP = inter_rf_starpipeline.set_index('kmer').loc[set_compare(F_STAR, F_GP, how = 'left'), :\\\n",
    "                                                        ].reset_index()\n",
    "print(diff_STAR_GP.shape)\n",
    "print(len(set(diff_STAR_GP['kmer'])))\n"
   ]
  },
  {
   "cell_type": "code",
   "execution_count": 294,
   "id": "bc02a0fe",
   "metadata": {},
   "outputs": [
    {
     "data": {
      "image/png": "[encoded data removed]",
      "text/plain": [
       "<Figure size 640x480 with 1 Axes>"
      ]
     },
     "metadata": {},
     "output_type": "display_data"
    }
   ],
   "source": [
    "plt.title('kmers present in STAR but removed by GP: 2 and 3 exons characterization')\n",
    "plt.xlabel('Recurrence cancer')\n",
    "plt.hist(diff_STAR_GP.loc[diff_STAR_GP['kmer-type'] == '2-exons', 'cancerCohortfilter >0.0'], bins = 100 ,label = '2-exons')\n",
    "plt.hist(diff_STAR_GP.loc[diff_STAR_GP['kmer-type'] == '3-exons', 'cancerCohortfilter >0.0'], bins = 100, alpha = 0.6, label = '3-exons')\n",
    "plt.legend()\n",
    "plt.show()"
   ]
  },
  {
   "cell_type": "code",
   "execution_count": 295,
   "id": "307fb1f5",
   "metadata": {},
   "outputs": [
    {
     "data": {
      "image/png": "[encoded data removed]",
      "text/plain": [
       "<Figure size 640x480 with 1 Axes>"
      ]
     },
     "metadata": {},
     "output_type": "display_data"
    }
   ],
   "source": [
    "plt.title('kmers present in STAR but removed by GP: 2 and 3 exons characterization')\n",
    "plt.xlabel('Expression sample')\n",
    "plt.hist(diff_STAR_GP.loc[diff_STAR_GP['kmer-type'] == '2-exons', 'TCGA25131901A01R156513all'], bins = 5, label = '2-exons')\n",
    "plt.hist(diff_STAR_GP.loc[diff_STAR_GP['kmer-type'] == '3-exons', 'TCGA25131901A01R156513all'], bins = 101, alpha = 0.6, label = '3-exons')\n",
    "plt.legend()\n",
    "plt.show()"
   ]
  },
  {
   "cell_type": "code",
   "execution_count": 296,
   "id": "279748d3",
   "metadata": {},
   "outputs": [
    {
     "name": "stdout",
     "output_type": "stream",
     "text": [
      "Out of 87937 kmers-coordinates in STAR, 595 kmer-coordinates pass the STAR recurrence filter\n",
      "Not in STAR 69334\n",
      "Not in STAR + for those in STAR, checked if pass the expression filter on STAR files 69929\n",
      "Corresponds to 61242 unique kmers\n"
     ]
    }
   ],
   "source": [
    "# Ad-HOC Combination rule for filtered datasets\n",
    "GPinSTAR_STARfilt = inter_rf_star_filtered.merge(df_filt_STAR, on = list(df_filt_STAR.columns), how = 'inner')\n",
    "print(f'Out of {inter_rf_star_filtered.shape[0]} kmers-coordinates in STAR, {GPinSTAR_STARfilt.shape[0]} kmer-coordinates pass the STAR recurrence filter')\n",
    "print(f'Not in STAR {inter_rf_WOstar_filtered.shape[0]}')\n",
    "filt_caseSTAR = pd.concat([GPinSTAR_STARfilt, inter_rf_WOstar_filtered], axis = 0 )\n",
    "print(f'Not in STAR + for those in STAR, checked if pass the expression filter on STAR files {filt_caseSTAR.shape[0]}')\n",
    "unique_kmers = len(set(filt_caseSTAR['kmer']))\n",
    "kmers_filt_caseSTAR = set(filt_caseSTAR['kmer'])\n",
    "print(f'Corresponds to {unique_kmers} unique kmers')"
   ]
  },
  {
   "cell_type": "code",
   "execution_count": 297,
   "id": "94055d3d",
   "metadata": {},
   "outputs": [
    {
     "data": {
      "text/plain": [
       "61242"
      ]
     },
     "execution_count": 297,
     "metadata": {},
     "output_type": "execute_result"
    }
   ],
   "source": [
    "len(set(filt_caseSTAR['kmer']))"
   ]
  },
  {
   "cell_type": "code",
   "execution_count": 298,
   "id": "4976ce77",
   "metadata": {},
   "outputs": [
    {
     "name": "stdout",
     "output_type": "stream",
     "text": [
      "Out of 131995 kmers-junctions in GP, 58737 pass the STAR recurrence filter\n",
      "Corresponds to 52430 unique kmers\n"
     ]
    }
   ],
   "source": [
    "# Intersection coord Combination rule for filtered datasets\n",
    "intersect_STAR_GP = inter_rf_GPpipeline.merge(df_filt_STAR, on = list(df_filt_STAR.columns), how = 'inner')\n",
    "print(f'Out of {inter_rf_GPpipeline.shape[0]} kmers-junctions in GP, {intersect_STAR_GP.shape[0]} pass the STAR recurrence filter')\n",
    "unique_kmers = len(set(intersect_STAR_GP['kmer']))\n",
    "kmers_intersect_STAR_GP = set(intersect_STAR_GP['kmer'])\n",
    "print(f'Corresponds to {unique_kmers} unique kmers')"
   ]
  },
  {
   "cell_type": "code",
   "execution_count": 299,
   "id": "863363fb",
   "metadata": {},
   "outputs": [
    {
     "name": "stdout",
     "output_type": "stream",
     "text": [
      "kmer strict\n",
      "Out of 131995 kmers in GP, 71190 kmers pass the STAR recurrence filter\n",
      "Corresponds to 52430 unique kmers\n"
     ]
    }
   ],
   "source": [
    "# Intersection with coord Combination rule for filtered datasets\n",
    "print('kmer strict')\n",
    "intersect_STAR_GP_kmer = inter_rf_GPpipeline.merge(df_filt_STAR, on = ['kmer'], how = 'inner')\n",
    "print(f'Out of {inter_rf_GPpipeline.shape[0]} kmers in GP, {intersect_STAR_GP_kmer.shape[0]} kmers pass the STAR recurrence filter')\n",
    "unique_kmers = len(set(intersect_STAR_GP_kmer['kmer']))\n",
    "kmers_intersect_STAR_GP_kmer = set(intersect_STAR_GP_kmer['kmer'])\n",
    "print(f'Corresponds to {unique_kmers} unique kmers')"
   ]
  },
  {
   "cell_type": "code",
   "execution_count": 300,
   "id": "8554b5e6",
   "metadata": {},
   "outputs": [
    {
     "name": "stdout",
     "output_type": "stream",
     "text": [
      "Compare \"Intersection GP and STAR filtering\" to \"GP filtering adjusted for STAR filtering\" \n",
      "Recurrence cancer\n"
     ]
    },
    {
     "data": {
      "image/png": "[encoded data removed]",
      "text/plain": [
       "<Figure size 640x480 with 1 Axes>"
      ]
     },
     "metadata": {},
     "output_type": "display_data"
    }
   ],
   "source": [
    "print('Compare \"Intersection GP and STAR filtering\" to \"GP filtering adjusted for STAR filtering\" ' )\n",
    "print('Recurrence cancer')\n",
    "plt.hist(intersect_STAR_GP['cancerCohortfilter >0.0'], bins = 100)\n",
    "plt.hist(filt_caseSTAR['cancerCohortfilter >0.0'], bins = 100, alpha = 0.6)\n",
    "plt.show()"
   ]
  },
  {
   "cell_type": "code",
   "execution_count": 301,
   "id": "e7ba5099",
   "metadata": {},
   "outputs": [
    {
     "data": {
      "text/plain": [
       "(array([1.1085e+04, 8.0330e+03, 6.4410e+03, 4.4790e+03, 5.2840e+03,\n",
       "        2.8420e+03, 2.7120e+03, 2.1780e+03, 2.6230e+03, 1.7970e+03,\n",
       "        1.6670e+03, 1.1900e+03, 1.3780e+03, 1.8490e+03, 9.1800e+02,\n",
       "        1.1940e+03, 8.2500e+02, 1.0720e+03, 1.0290e+03, 7.5900e+02,\n",
       "        6.4300e+02, 9.2700e+02, 6.3300e+02, 5.3100e+02, 4.4600e+02,\n",
       "        3.7500e+02, 5.1900e+02, 4.4400e+02, 3.3500e+02, 2.8100e+02,\n",
       "        3.7100e+02, 1.7900e+02, 3.8300e+02, 3.1000e+02, 3.2200e+02,\n",
       "        2.3700e+02, 1.5100e+02, 3.2300e+02, 1.4000e+02, 2.3800e+02,\n",
       "        4.7200e+02, 1.7700e+02, 3.3500e+02, 1.3400e+02, 1.2900e+02,\n",
       "        1.6100e+02, 2.7300e+02, 2.3900e+02, 3.1000e+01, 1.0000e+02,\n",
       "        1.9100e+02, 6.3000e+01, 1.7600e+02, 3.6000e+01, 1.1800e+02,\n",
       "        9.4000e+01, 6.2000e+01, 8.9000e+01, 4.7000e+01, 5.0000e+01,\n",
       "        1.3500e+02, 1.9000e+01, 3.0000e+01, 4.4000e+01, 1.2000e+01,\n",
       "        1.0800e+02, 1.2000e+01, 3.9000e+01, 1.3000e+01, 1.5000e+01,\n",
       "        5.8000e+01, 3.3000e+01, 3.7000e+01, 1.7500e+02, 2.5000e+01,\n",
       "        0.0000e+00, 3.2000e+01, 2.9000e+01, 1.6000e+01, 3.6000e+01,\n",
       "        7.8000e+01, 1.3000e+01, 4.0000e+01, 7.0000e+00, 0.0000e+00,\n",
       "        0.0000e+00, 9.0000e+00, 1.4000e+01, 0.0000e+00, 2.1000e+01,\n",
       "        0.0000e+00, 0.0000e+00, 1.1000e+01, 0.0000e+00, 0.0000e+00,\n",
       "        0.0000e+00, 0.0000e+00, 0.0000e+00, 0.0000e+00, 9.0000e+00]),\n",
       " array([  1.  ,   4.23,   7.46,  10.69,  13.92,  17.15,  20.38,  23.61,\n",
       "         26.84,  30.07,  33.3 ,  36.53,  39.76,  42.99,  46.22,  49.45,\n",
       "         52.68,  55.91,  59.14,  62.37,  65.6 ,  68.83,  72.06,  75.29,\n",
       "         78.52,  81.75,  84.98,  88.21,  91.44,  94.67,  97.9 , 101.13,\n",
       "        104.36, 107.59, 110.82, 114.05, 117.28, 120.51, 123.74, 126.97,\n",
       "        130.2 , 133.43, 136.66, 139.89, 143.12, 146.35, 149.58, 152.81,\n",
       "        156.04, 159.27, 162.5 , 165.73, 168.96, 172.19, 175.42, 178.65,\n",
       "        181.88, 185.11, 188.34, 191.57, 194.8 , 198.03, 201.26, 204.49,\n",
       "        207.72, 210.95, 214.18, 217.41, 220.64, 223.87, 227.1 , 230.33,\n",
       "        233.56, 236.79, 240.02, 243.25, 246.48, 249.71, 252.94, 256.17,\n",
       "        259.4 , 262.63, 265.86, 269.09, 272.32, 275.55, 278.78, 282.01,\n",
       "        285.24, 288.47, 291.7 , 294.93, 298.16, 301.39, 304.62, 307.85,\n",
       "        311.08, 314.31, 317.54, 320.77, 324.  ]),\n",
       " <BarContainer object of 100 artists>)"
      ]
     },
     "execution_count": 301,
     "metadata": {},
     "output_type": "execute_result"
    },
    {
     "data": {
      "image/png": "[encoded data removed]",
      "text/plain": [
       "<Figure size 640x480 with 1 Axes>"
      ]
     },
     "metadata": {},
     "output_type": "display_data"
    }
   ],
   "source": [
    "plt.hist(intersect_STAR_GP['cancerCohortfilter >0.0'], bins = 100)\n",
    "plt.hist(intersect_STAR_GP_kmer['cancerCohortfilter >0.0'], bins = 100, alpha = 0.6)"
   ]
  },
  {
   "cell_type": "code",
   "execution_count": 302,
   "id": "8adc2806",
   "metadata": {},
   "outputs": [
    {
     "data": {
      "text/plain": [
       "(array([1.1085e+04, 8.0330e+03, 6.4410e+03, 4.4790e+03, 5.2840e+03,\n",
       "        2.8420e+03, 2.7120e+03, 2.1780e+03, 2.6230e+03, 1.7970e+03,\n",
       "        1.6670e+03, 1.1900e+03, 1.3780e+03, 1.8490e+03, 9.1800e+02,\n",
       "        1.1940e+03, 8.2500e+02, 1.0720e+03, 1.0290e+03, 7.5900e+02,\n",
       "        6.4300e+02, 9.2700e+02, 6.3300e+02, 5.3100e+02, 4.4600e+02,\n",
       "        3.7500e+02, 5.1900e+02, 4.4400e+02, 3.3500e+02, 2.8100e+02,\n",
       "        3.7100e+02, 1.7900e+02, 3.8300e+02, 3.1000e+02, 3.2200e+02,\n",
       "        2.3700e+02, 1.5100e+02, 3.2300e+02, 1.4000e+02, 2.3800e+02,\n",
       "        4.7200e+02, 1.7700e+02, 3.3500e+02, 1.3400e+02, 1.2900e+02,\n",
       "        1.6100e+02, 2.7300e+02, 2.3900e+02, 3.1000e+01, 1.0000e+02,\n",
       "        1.9100e+02, 6.3000e+01, 1.7600e+02, 3.6000e+01, 1.1800e+02,\n",
       "        9.4000e+01, 6.2000e+01, 8.9000e+01, 4.7000e+01, 5.0000e+01,\n",
       "        1.3500e+02, 1.9000e+01, 3.0000e+01, 4.4000e+01, 1.2000e+01,\n",
       "        1.0800e+02, 1.2000e+01, 3.9000e+01, 1.3000e+01, 1.5000e+01,\n",
       "        5.8000e+01, 3.3000e+01, 3.7000e+01, 1.7500e+02, 2.5000e+01,\n",
       "        0.0000e+00, 3.2000e+01, 2.9000e+01, 1.6000e+01, 3.6000e+01,\n",
       "        7.8000e+01, 1.3000e+01, 4.0000e+01, 7.0000e+00, 0.0000e+00,\n",
       "        0.0000e+00, 9.0000e+00, 1.4000e+01, 0.0000e+00, 2.1000e+01,\n",
       "        0.0000e+00, 0.0000e+00, 1.1000e+01, 0.0000e+00, 0.0000e+00,\n",
       "        0.0000e+00, 0.0000e+00, 0.0000e+00, 0.0000e+00, 9.0000e+00]),\n",
       " array([  1.  ,   4.23,   7.46,  10.69,  13.92,  17.15,  20.38,  23.61,\n",
       "         26.84,  30.07,  33.3 ,  36.53,  39.76,  42.99,  46.22,  49.45,\n",
       "         52.68,  55.91,  59.14,  62.37,  65.6 ,  68.83,  72.06,  75.29,\n",
       "         78.52,  81.75,  84.98,  88.21,  91.44,  94.67,  97.9 , 101.13,\n",
       "        104.36, 107.59, 110.82, 114.05, 117.28, 120.51, 123.74, 126.97,\n",
       "        130.2 , 133.43, 136.66, 139.89, 143.12, 146.35, 149.58, 152.81,\n",
       "        156.04, 159.27, 162.5 , 165.73, 168.96, 172.19, 175.42, 178.65,\n",
       "        181.88, 185.11, 188.34, 191.57, 194.8 , 198.03, 201.26, 204.49,\n",
       "        207.72, 210.95, 214.18, 217.41, 220.64, 223.87, 227.1 , 230.33,\n",
       "        233.56, 236.79, 240.02, 243.25, 246.48, 249.71, 252.94, 256.17,\n",
       "        259.4 , 262.63, 265.86, 269.09, 272.32, 275.55, 278.78, 282.01,\n",
       "        285.24, 288.47, 291.7 , 294.93, 298.16, 301.39, 304.62, 307.85,\n",
       "        311.08, 314.31, 317.54, 320.77, 324.  ]),\n",
       " <BarContainer object of 100 artists>)"
      ]
     },
     "execution_count": 302,
     "metadata": {},
     "output_type": "execute_result"
    },
    {
     "data": {
      "image/png": "[encoded data removed]",
      "text/plain": [
       "<Figure size 640x480 with 1 Axes>"
      ]
     },
     "metadata": {},
     "output_type": "display_data"
    }
   ],
   "source": [
    "plt.hist(filt_caseSTAR['cancerCohortfilter >0.0'], bins = 100)\n",
    "plt.hist(intersect_STAR_GP_kmer['cancerCohortfilter >0.0'], bins = 100, alpha = 0.6)\n",
    "# OK THIS IS REALLY CLOSE "
   ]
  },
  {
   "cell_type": "code",
   "execution_count": 303,
   "id": "28a4b2c4",
   "metadata": {},
   "outputs": [
    {
     "name": "stdout",
     "output_type": "stream",
     "text": [
      "expression sample\n"
     ]
    },
    {
     "data": {
      "image/png": "[encoded data removed]",
      "text/plain": [
       "<Figure size 640x480 with 1 Axes>"
      ]
     },
     "metadata": {},
     "output_type": "display_data"
    }
   ],
   "source": [
    "# print('Compare \"Intersection GP and STAR filtering\" to \"GP filtering adjusted for STAR filtering\" ' )\n",
    "print('expression sample')\n",
    "plt.hist(intersect_STAR_GP['TCGA25131901A01R156513all'], bins = 100)\n",
    "plt.hist(filt_caseSTAR['TCGA25131901A01R156513all'], bins = 100, alpha = 0.6)\n",
    "plt.show()"
   ]
  },
  {
   "cell_type": "code",
   "execution_count": null,
   "id": "e926336f",
   "metadata": {},
   "outputs": [],
   "source": []
  },
  {
   "cell_type": "code",
   "execution_count": 305,
   "id": "0810bb05",
   "metadata": {},
   "outputs": [
    {
     "name": "stdout",
     "output_type": "stream",
     "text": [
      "left difference\n",
      "8812\n"
     ]
    },
    {
     "data": {
      "text/plain": [
       "count       11429\n",
       "unique          2\n",
       "top       2-exons\n",
       "freq         9397\n",
       "Name: kmer-type, dtype: object"
      ]
     },
     "execution_count": 305,
     "metadata": {},
     "output_type": "execute_result"
    }
   ],
   "source": [
    "### ANALYZE THE DIFFERENCE BEtween doing the adjusted filtering and the intersection \n",
    "### Seems that it is mosly a difference in 2-exons kmers \n",
    "litigation_kmers = set_compare(set(filt_caseSTAR['kmer']), set(intersect_STAR_GP_kmer['kmer']), how = 'left')\n",
    "\n",
    "litigation_kmers = filt_caseSTAR.set_index('kmer').loc[litigation_kmers].reset_index()\n",
    "litigation_kmers['kmer-type'] = ['3-exons' if 'None' in coord else '2-exons' \\\n",
    "                                     for coord in litigation_kmers['coord']]\n",
    "litigation_kmers['kmer-type'].describe()"
   ]
  },
  {
   "cell_type": "code",
   "execution_count": 306,
   "id": "b0365cce",
   "metadata": {
    "scrolled": true
   },
   "outputs": [
    {
     "data": {
      "text/html": [
       "<div>\n",
       "<style scoped>\n",
       "    .dataframe tbody tr th:only-of-type {\n",
       "        vertical-align: middle;\n",
       "    }\n",
       "\n",
       "    .dataframe tbody tr th {\n",
       "        vertical-align: top;\n",
       "    }\n",
       "\n",
       "    .dataframe thead th {\n",
       "        text-align: right;\n",
       "    }\n",
       "</style>\n",
       "<table border=\"1\" class=\"dataframe\">\n",
       "  <thead>\n",
       "    <tr style=\"text-align: right;\">\n",
       "      <th></th>\n",
       "      <th>kmer</th>\n",
       "      <th>coord</th>\n",
       "      <th>junctionAnnotated</th>\n",
       "      <th>readFrameAnnotated</th>\n",
       "      <th>isCrossJunction</th>\n",
       "      <th>batch</th>\n",
       "      <th>cancerCohortfilter &gt;0.0</th>\n",
       "      <th>cancerCohortfilter &gt;=1.0</th>\n",
       "      <th>cancerCohortfilter &gt;=2.0</th>\n",
       "      <th>cancerCohortfilter &gt;=3.0</th>\n",
       "      <th>...</th>\n",
       "      <th>junction_coordinate</th>\n",
       "      <th>strand_STAR</th>\n",
       "      <th>chr</th>\n",
       "      <th>gtexCohortfilter &gt;0.0</th>\n",
       "      <th>gtexCohortfilter &gt;=1.0</th>\n",
       "      <th>gtexCohortfilter &gt;=2.0</th>\n",
       "      <th>gtexCohortfilter &gt;=3.0</th>\n",
       "      <th>gtexCohortfilter &gt;=5.0</th>\n",
       "      <th>gtexCohortfilter &gt;=10.0</th>\n",
       "      <th>kmer-type</th>\n",
       "    </tr>\n",
       "  </thead>\n",
       "  <tbody>\n",
       "    <tr>\n",
       "      <th>0</th>\n",
       "      <td>RIQPSFLGM</td>\n",
       "      <td>81511293:81511300:81511187:81511202:81511103:8...</td>\n",
       "      <td>True</td>\n",
       "      <td>False</td>\n",
       "      <td>True</td>\n",
       "      <td>25625</td>\n",
       "      <td>63</td>\n",
       "      <td>36</td>\n",
       "      <td>5</td>\n",
       "      <td>1</td>\n",
       "      <td>...</td>\n",
       "      <td>NaN</td>\n",
       "      <td>NaN</td>\n",
       "      <td>NaN</td>\n",
       "      <td>NaN</td>\n",
       "      <td>NaN</td>\n",
       "      <td>NaN</td>\n",
       "      <td>NaN</td>\n",
       "      <td>NaN</td>\n",
       "      <td>NaN</td>\n",
       "      <td>2-exons</td>\n",
       "    </tr>\n",
       "    <tr>\n",
       "      <th>1</th>\n",
       "      <td>KKEKRMMKG</td>\n",
       "      <td>6769614:6769626:6770174:6770186:6770527:6770530</td>\n",
       "      <td>False</td>\n",
       "      <td>False</td>\n",
       "      <td>True</td>\n",
       "      <td>11351</td>\n",
       "      <td>21</td>\n",
       "      <td>10</td>\n",
       "      <td>2</td>\n",
       "      <td>1</td>\n",
       "      <td>...</td>\n",
       "      <td>NaN</td>\n",
       "      <td>NaN</td>\n",
       "      <td>NaN</td>\n",
       "      <td>NaN</td>\n",
       "      <td>NaN</td>\n",
       "      <td>NaN</td>\n",
       "      <td>NaN</td>\n",
       "      <td>NaN</td>\n",
       "      <td>NaN</td>\n",
       "      <td>2-exons</td>\n",
       "    </tr>\n",
       "    <tr>\n",
       "      <th>2</th>\n",
       "      <td>KKEKRMMKG</td>\n",
       "      <td>6769614:6769626:6770174:6770187:6770470:6770472</td>\n",
       "      <td>False</td>\n",
       "      <td>False</td>\n",
       "      <td>True</td>\n",
       "      <td>11351</td>\n",
       "      <td>71</td>\n",
       "      <td>52</td>\n",
       "      <td>34</td>\n",
       "      <td>23</td>\n",
       "      <td>...</td>\n",
       "      <td>NaN</td>\n",
       "      <td>NaN</td>\n",
       "      <td>NaN</td>\n",
       "      <td>NaN</td>\n",
       "      <td>NaN</td>\n",
       "      <td>NaN</td>\n",
       "      <td>NaN</td>\n",
       "      <td>NaN</td>\n",
       "      <td>NaN</td>\n",
       "      <td>2-exons</td>\n",
       "    </tr>\n",
       "    <tr>\n",
       "      <th>3</th>\n",
       "      <td>PGPHHRKED</td>\n",
       "      <td>35250456:35250465:35250648:35250659:35261924:3...</td>\n",
       "      <td>False</td>\n",
       "      <td>False</td>\n",
       "      <td>True</td>\n",
       "      <td>28472</td>\n",
       "      <td>12</td>\n",
       "      <td>6</td>\n",
       "      <td>1</td>\n",
       "      <td>0</td>\n",
       "      <td>...</td>\n",
       "      <td>NaN</td>\n",
       "      <td>NaN</td>\n",
       "      <td>NaN</td>\n",
       "      <td>NaN</td>\n",
       "      <td>NaN</td>\n",
       "      <td>NaN</td>\n",
       "      <td>NaN</td>\n",
       "      <td>NaN</td>\n",
       "      <td>NaN</td>\n",
       "      <td>2-exons</td>\n",
       "    </tr>\n",
       "    <tr>\n",
       "      <th>4</th>\n",
       "      <td>HSLPRPSLG</td>\n",
       "      <td>241230256:241230264:241230203:241230207:241229...</td>\n",
       "      <td>False</td>\n",
       "      <td>False</td>\n",
       "      <td>True</td>\n",
       "      <td>34126</td>\n",
       "      <td>107</td>\n",
       "      <td>57</td>\n",
       "      <td>15</td>\n",
       "      <td>4</td>\n",
       "      <td>...</td>\n",
       "      <td>NaN</td>\n",
       "      <td>NaN</td>\n",
       "      <td>NaN</td>\n",
       "      <td>NaN</td>\n",
       "      <td>NaN</td>\n",
       "      <td>NaN</td>\n",
       "      <td>NaN</td>\n",
       "      <td>NaN</td>\n",
       "      <td>NaN</td>\n",
       "      <td>2-exons</td>\n",
       "    </tr>\n",
       "    <tr>\n",
       "      <th>...</th>\n",
       "      <td>...</td>\n",
       "      <td>...</td>\n",
       "      <td>...</td>\n",
       "      <td>...</td>\n",
       "      <td>...</td>\n",
       "      <td>...</td>\n",
       "      <td>...</td>\n",
       "      <td>...</td>\n",
       "      <td>...</td>\n",
       "      <td>...</td>\n",
       "      <td>...</td>\n",
       "      <td>...</td>\n",
       "      <td>...</td>\n",
       "      <td>...</td>\n",
       "      <td>...</td>\n",
       "      <td>...</td>\n",
       "      <td>...</td>\n",
       "      <td>...</td>\n",
       "      <td>...</td>\n",
       "      <td>...</td>\n",
       "      <td>...</td>\n",
       "    </tr>\n",
       "    <tr>\n",
       "      <th>11424</th>\n",
       "      <td>RSWPYTSQR</td>\n",
       "      <td>32334947:32334949:32334790:32334794:32334612:3...</td>\n",
       "      <td>False</td>\n",
       "      <td>False</td>\n",
       "      <td>True</td>\n",
       "      <td>1072</td>\n",
       "      <td>35</td>\n",
       "      <td>29</td>\n",
       "      <td>27</td>\n",
       "      <td>27</td>\n",
       "      <td>...</td>\n",
       "      <td>NaN</td>\n",
       "      <td>NaN</td>\n",
       "      <td>NaN</td>\n",
       "      <td>NaN</td>\n",
       "      <td>NaN</td>\n",
       "      <td>NaN</td>\n",
       "      <td>NaN</td>\n",
       "      <td>NaN</td>\n",
       "      <td>NaN</td>\n",
       "      <td>2-exons</td>\n",
       "    </tr>\n",
       "    <tr>\n",
       "      <th>11425</th>\n",
       "      <td>VFEKSPPSA</td>\n",
       "      <td>17862093:17862107:17862163:17862165:17862212:1...</td>\n",
       "      <td>False</td>\n",
       "      <td>False</td>\n",
       "      <td>True</td>\n",
       "      <td>27971</td>\n",
       "      <td>22</td>\n",
       "      <td>8</td>\n",
       "      <td>1</td>\n",
       "      <td>1</td>\n",
       "      <td>...</td>\n",
       "      <td>NaN</td>\n",
       "      <td>NaN</td>\n",
       "      <td>NaN</td>\n",
       "      <td>NaN</td>\n",
       "      <td>NaN</td>\n",
       "      <td>NaN</td>\n",
       "      <td>NaN</td>\n",
       "      <td>NaN</td>\n",
       "      <td>NaN</td>\n",
       "      <td>2-exons</td>\n",
       "    </tr>\n",
       "    <tr>\n",
       "      <th>11426</th>\n",
       "      <td>GPQHAAAGK</td>\n",
       "      <td>228493252:228493274:228493970:228493975:None:None</td>\n",
       "      <td>False</td>\n",
       "      <td>False</td>\n",
       "      <td>True</td>\n",
       "      <td>4983</td>\n",
       "      <td>55</td>\n",
       "      <td>54</td>\n",
       "      <td>53</td>\n",
       "      <td>53</td>\n",
       "      <td>...</td>\n",
       "      <td>NaN</td>\n",
       "      <td>NaN</td>\n",
       "      <td>NaN</td>\n",
       "      <td>NaN</td>\n",
       "      <td>NaN</td>\n",
       "      <td>NaN</td>\n",
       "      <td>NaN</td>\n",
       "      <td>NaN</td>\n",
       "      <td>NaN</td>\n",
       "      <td>3-exons</td>\n",
       "    </tr>\n",
       "    <tr>\n",
       "      <th>11427</th>\n",
       "      <td>EGPGLQLCC</td>\n",
       "      <td>17404399:17404408:17403752:17403764:17403699:1...</td>\n",
       "      <td>False</td>\n",
       "      <td>False</td>\n",
       "      <td>True</td>\n",
       "      <td>27945</td>\n",
       "      <td>38</td>\n",
       "      <td>20</td>\n",
       "      <td>4</td>\n",
       "      <td>1</td>\n",
       "      <td>...</td>\n",
       "      <td>NaN</td>\n",
       "      <td>NaN</td>\n",
       "      <td>NaN</td>\n",
       "      <td>NaN</td>\n",
       "      <td>NaN</td>\n",
       "      <td>NaN</td>\n",
       "      <td>NaN</td>\n",
       "      <td>NaN</td>\n",
       "      <td>NaN</td>\n",
       "      <td>2-exons</td>\n",
       "    </tr>\n",
       "    <tr>\n",
       "      <th>11428</th>\n",
       "      <td>EWSWDGDPV</td>\n",
       "      <td>945041:945054:944788:944800:944413:944415</td>\n",
       "      <td>False</td>\n",
       "      <td>False</td>\n",
       "      <td>True</td>\n",
       "      <td>61</td>\n",
       "      <td>27</td>\n",
       "      <td>11</td>\n",
       "      <td>0</td>\n",
       "      <td>0</td>\n",
       "      <td>...</td>\n",
       "      <td>NaN</td>\n",
       "      <td>NaN</td>\n",
       "      <td>NaN</td>\n",
       "      <td>NaN</td>\n",
       "      <td>NaN</td>\n",
       "      <td>NaN</td>\n",
       "      <td>NaN</td>\n",
       "      <td>NaN</td>\n",
       "      <td>NaN</td>\n",
       "      <td>2-exons</td>\n",
       "    </tr>\n",
       "  </tbody>\n",
       "</table>\n",
       "<p>11429 rows × 31 columns</p>\n",
       "</div>"
      ],
      "text/plain": [
       "            kmer                                              coord  \\\n",
       "0      RIQPSFLGM  81511293:81511300:81511187:81511202:81511103:8...   \n",
       "1      KKEKRMMKG    6769614:6769626:6770174:6770186:6770527:6770530   \n",
       "2      KKEKRMMKG    6769614:6769626:6770174:6770187:6770470:6770472   \n",
       "3      PGPHHRKED  35250456:35250465:35250648:35250659:35261924:3...   \n",
       "4      HSLPRPSLG  241230256:241230264:241230203:241230207:241229...   \n",
       "...          ...                                                ...   \n",
       "11424  RSWPYTSQR  32334947:32334949:32334790:32334794:32334612:3...   \n",
       "11425  VFEKSPPSA  17862093:17862107:17862163:17862165:17862212:1...   \n",
       "11426  GPQHAAAGK  228493252:228493274:228493970:228493975:None:None   \n",
       "11427  EGPGLQLCC  17404399:17404408:17403752:17403764:17403699:1...   \n",
       "11428  EWSWDGDPV          945041:945054:944788:944800:944413:944415   \n",
       "\n",
       "       junctionAnnotated  readFrameAnnotated  isCrossJunction  batch  \\\n",
       "0                   True               False             True  25625   \n",
       "1                  False               False             True  11351   \n",
       "2                  False               False             True  11351   \n",
       "3                  False               False             True  28472   \n",
       "4                  False               False             True  34126   \n",
       "...                  ...                 ...              ...    ...   \n",
       "11424              False               False             True   1072   \n",
       "11425              False               False             True  27971   \n",
       "11426              False               False             True   4983   \n",
       "11427              False               False             True  27945   \n",
       "11428              False               False             True     61   \n",
       "\n",
       "       cancerCohortfilter >0.0  cancerCohortfilter >=1.0  \\\n",
       "0                           63                        36   \n",
       "1                           21                        10   \n",
       "2                           71                        52   \n",
       "3                           12                         6   \n",
       "4                          107                        57   \n",
       "...                        ...                       ...   \n",
       "11424                       35                        29   \n",
       "11425                       22                         8   \n",
       "11426                       55                        54   \n",
       "11427                       38                        20   \n",
       "11428                       27                        11   \n",
       "\n",
       "       cancerCohortfilter >=2.0  cancerCohortfilter >=3.0  ...  \\\n",
       "0                             5                         1  ...   \n",
       "1                             2                         1  ...   \n",
       "2                            34                        23  ...   \n",
       "3                             1                         0  ...   \n",
       "4                            15                         4  ...   \n",
       "...                         ...                       ...  ...   \n",
       "11424                        27                        27  ...   \n",
       "11425                         1                         1  ...   \n",
       "11426                        53                        53  ...   \n",
       "11427                         4                         1  ...   \n",
       "11428                         0                         0  ...   \n",
       "\n",
       "       junction_coordinate  strand_STAR  chr  gtexCohortfilter >0.0  \\\n",
       "0                      NaN          NaN  NaN                    NaN   \n",
       "1                      NaN          NaN  NaN                    NaN   \n",
       "2                      NaN          NaN  NaN                    NaN   \n",
       "3                      NaN          NaN  NaN                    NaN   \n",
       "4                      NaN          NaN  NaN                    NaN   \n",
       "...                    ...          ...  ...                    ...   \n",
       "11424                  NaN          NaN  NaN                    NaN   \n",
       "11425                  NaN          NaN  NaN                    NaN   \n",
       "11426                  NaN          NaN  NaN                    NaN   \n",
       "11427                  NaN          NaN  NaN                    NaN   \n",
       "11428                  NaN          NaN  NaN                    NaN   \n",
       "\n",
       "       gtexCohortfilter >=1.0  gtexCohortfilter >=2.0  gtexCohortfilter >=3.0  \\\n",
       "0                         NaN                     NaN                     NaN   \n",
       "1                         NaN                     NaN                     NaN   \n",
       "2                         NaN                     NaN                     NaN   \n",
       "3                         NaN                     NaN                     NaN   \n",
       "4                         NaN                     NaN                     NaN   \n",
       "...                       ...                     ...                     ...   \n",
       "11424                     NaN                     NaN                     NaN   \n",
       "11425                     NaN                     NaN                     NaN   \n",
       "11426                     NaN                     NaN                     NaN   \n",
       "11427                     NaN                     NaN                     NaN   \n",
       "11428                     NaN                     NaN                     NaN   \n",
       "\n",
       "       gtexCohortfilter >=5.0 gtexCohortfilter >=10.0 kmer-type  \n",
       "0                         NaN                     NaN   2-exons  \n",
       "1                         NaN                     NaN   2-exons  \n",
       "2                         NaN                     NaN   2-exons  \n",
       "3                         NaN                     NaN   2-exons  \n",
       "4                         NaN                     NaN   2-exons  \n",
       "...                       ...                     ...       ...  \n",
       "11424                     NaN                     NaN   2-exons  \n",
       "11425                     NaN                     NaN   2-exons  \n",
       "11426                     NaN                     NaN   3-exons  \n",
       "11427                     NaN                     NaN   2-exons  \n",
       "11428                     NaN                     NaN   2-exons  \n",
       "\n",
       "[11429 rows x 31 columns]"
      ]
     },
     "execution_count": 306,
     "metadata": {},
     "output_type": "execute_result"
    }
   ],
   "source": [
    "litigation_kmers\n"
   ]
  },
  {
   "cell_type": "code",
   "execution_count": 307,
   "id": "87737839",
   "metadata": {},
   "outputs": [],
   "source": [
    "litigation_expr = df_inter_STAR.set_index('kmer').loc[set(litigation_kmers['kmer'])].reset_index()"
   ]
  },
  {
   "cell_type": "code",
   "execution_count": 308,
   "id": "d5d57705",
   "metadata": {},
   "outputs": [
    {
     "data": {
      "text/html": [
       "<div>\n",
       "<style scoped>\n",
       "    .dataframe tbody tr th:only-of-type {\n",
       "        vertical-align: middle;\n",
       "    }\n",
       "\n",
       "    .dataframe tbody tr th {\n",
       "        vertical-align: top;\n",
       "    }\n",
       "\n",
       "    .dataframe thead th {\n",
       "        text-align: right;\n",
       "    }\n",
       "</style>\n",
       "<table border=\"1\" class=\"dataframe\">\n",
       "  <thead>\n",
       "    <tr style=\"text-align: right;\">\n",
       "      <th></th>\n",
       "      <th>kmer</th>\n",
       "      <th>coord</th>\n",
       "      <th>junctionAnnotated</th>\n",
       "      <th>readFrameAnnotated</th>\n",
       "      <th>isCrossJunction</th>\n",
       "      <th>batch</th>\n",
       "      <th>cancerCohortfilter &gt;0.0</th>\n",
       "      <th>cancerCohortfilter &gt;=1.0</th>\n",
       "      <th>cancerCohortfilter &gt;=2.0</th>\n",
       "      <th>cancerCohortfilter &gt;=3.0</th>\n",
       "      <th>...</th>\n",
       "      <th>junction_coordinate2</th>\n",
       "      <th>junction_coordinate</th>\n",
       "      <th>strand_STAR</th>\n",
       "      <th>chr</th>\n",
       "      <th>gtexCohortfilter &gt;0.0</th>\n",
       "      <th>gtexCohortfilter &gt;=1.0</th>\n",
       "      <th>gtexCohortfilter &gt;=2.0</th>\n",
       "      <th>gtexCohortfilter &gt;=3.0</th>\n",
       "      <th>gtexCohortfilter &gt;=5.0</th>\n",
       "      <th>gtexCohortfilter &gt;=10.0</th>\n",
       "    </tr>\n",
       "  </thead>\n",
       "  <tbody>\n",
       "    <tr>\n",
       "      <th>0</th>\n",
       "      <td>RIQPSFLGM</td>\n",
       "      <td>81511293:81511300:81511187:81511202:81511103:8...</td>\n",
       "      <td>True</td>\n",
       "      <td>False</td>\n",
       "      <td>True</td>\n",
       "      <td>25625</td>\n",
       "      <td>63</td>\n",
       "      <td>36</td>\n",
       "      <td>5</td>\n",
       "      <td>1</td>\n",
       "      <td>...</td>\n",
       "      <td>81511108:81511187</td>\n",
       "      <td>NaN</td>\n",
       "      <td>NaN</td>\n",
       "      <td>NaN</td>\n",
       "      <td>NaN</td>\n",
       "      <td>NaN</td>\n",
       "      <td>NaN</td>\n",
       "      <td>NaN</td>\n",
       "      <td>NaN</td>\n",
       "      <td>NaN</td>\n",
       "    </tr>\n",
       "    <tr>\n",
       "      <th>1</th>\n",
       "      <td>RIQPSFLGM</td>\n",
       "      <td>81511293:81511300:81511187:81511202:81511103:8...</td>\n",
       "      <td>True</td>\n",
       "      <td>False</td>\n",
       "      <td>True</td>\n",
       "      <td>25625</td>\n",
       "      <td>63</td>\n",
       "      <td>36</td>\n",
       "      <td>5</td>\n",
       "      <td>1</td>\n",
       "      <td>...</td>\n",
       "      <td>81511108:81511187</td>\n",
       "      <td>81511108:81511187</td>\n",
       "      <td>-</td>\n",
       "      <td>chr17</td>\n",
       "      <td>9476.0</td>\n",
       "      <td>9476.0</td>\n",
       "      <td>9476.0</td>\n",
       "      <td>9476.0</td>\n",
       "      <td>9476.0</td>\n",
       "      <td>9476.0</td>\n",
       "    </tr>\n",
       "    <tr>\n",
       "      <th>2</th>\n",
       "      <td>KKEKRMMKG</td>\n",
       "      <td>6769614:6769626:6770174:6770189:None:None</td>\n",
       "      <td>False</td>\n",
       "      <td>False</td>\n",
       "      <td>True</td>\n",
       "      <td>11351</td>\n",
       "      <td>187</td>\n",
       "      <td>182</td>\n",
       "      <td>176</td>\n",
       "      <td>170</td>\n",
       "      <td>...</td>\n",
       "      <td>None</td>\n",
       "      <td>6769626:6770174</td>\n",
       "      <td>+</td>\n",
       "      <td>chr12</td>\n",
       "      <td>222.0</td>\n",
       "      <td>222.0</td>\n",
       "      <td>219.0</td>\n",
       "      <td>217.0</td>\n",
       "      <td>214.0</td>\n",
       "      <td>202.0</td>\n",
       "    </tr>\n",
       "    <tr>\n",
       "      <th>3</th>\n",
       "      <td>KKEKRMMKG</td>\n",
       "      <td>6769614:6769626:6770174:6770189:None:None</td>\n",
       "      <td>False</td>\n",
       "      <td>True</td>\n",
       "      <td>True</td>\n",
       "      <td>11351</td>\n",
       "      <td>187</td>\n",
       "      <td>182</td>\n",
       "      <td>176</td>\n",
       "      <td>170</td>\n",
       "      <td>...</td>\n",
       "      <td>None</td>\n",
       "      <td>6769626:6770174</td>\n",
       "      <td>+</td>\n",
       "      <td>chr12</td>\n",
       "      <td>222.0</td>\n",
       "      <td>222.0</td>\n",
       "      <td>219.0</td>\n",
       "      <td>217.0</td>\n",
       "      <td>214.0</td>\n",
       "      <td>202.0</td>\n",
       "    </tr>\n",
       "    <tr>\n",
       "      <th>4</th>\n",
       "      <td>KKEKRMMKG</td>\n",
       "      <td>6769614:6769626:6770174:6770186:6770527:6770530</td>\n",
       "      <td>False</td>\n",
       "      <td>False</td>\n",
       "      <td>True</td>\n",
       "      <td>11351</td>\n",
       "      <td>21</td>\n",
       "      <td>10</td>\n",
       "      <td>2</td>\n",
       "      <td>1</td>\n",
       "      <td>...</td>\n",
       "      <td>6770186:6770527</td>\n",
       "      <td>6769626:6770174</td>\n",
       "      <td>+</td>\n",
       "      <td>chr12</td>\n",
       "      <td>222.0</td>\n",
       "      <td>222.0</td>\n",
       "      <td>219.0</td>\n",
       "      <td>217.0</td>\n",
       "      <td>214.0</td>\n",
       "      <td>202.0</td>\n",
       "    </tr>\n",
       "    <tr>\n",
       "      <th>...</th>\n",
       "      <td>...</td>\n",
       "      <td>...</td>\n",
       "      <td>...</td>\n",
       "      <td>...</td>\n",
       "      <td>...</td>\n",
       "      <td>...</td>\n",
       "      <td>...</td>\n",
       "      <td>...</td>\n",
       "      <td>...</td>\n",
       "      <td>...</td>\n",
       "      <td>...</td>\n",
       "      <td>...</td>\n",
       "      <td>...</td>\n",
       "      <td>...</td>\n",
       "      <td>...</td>\n",
       "      <td>...</td>\n",
       "      <td>...</td>\n",
       "      <td>...</td>\n",
       "      <td>...</td>\n",
       "      <td>...</td>\n",
       "      <td>...</td>\n",
       "    </tr>\n",
       "    <tr>\n",
       "      <th>25239</th>\n",
       "      <td>GPQHAAAGK</td>\n",
       "      <td>228493252:228493274:228493970:228493974:228494...</td>\n",
       "      <td>False</td>\n",
       "      <td>False</td>\n",
       "      <td>True</td>\n",
       "      <td>4983</td>\n",
       "      <td>11</td>\n",
       "      <td>11</td>\n",
       "      <td>6</td>\n",
       "      <td>6</td>\n",
       "      <td>...</td>\n",
       "      <td>228493974:228494051</td>\n",
       "      <td>228493974:228494051</td>\n",
       "      <td>+</td>\n",
       "      <td>chr1</td>\n",
       "      <td>3.0</td>\n",
       "      <td>3.0</td>\n",
       "      <td>3.0</td>\n",
       "      <td>3.0</td>\n",
       "      <td>3.0</td>\n",
       "      <td>3.0</td>\n",
       "    </tr>\n",
       "    <tr>\n",
       "      <th>25240</th>\n",
       "      <td>EGPGLQLCC</td>\n",
       "      <td>17404399:17404408:17403752:17403764:17403699:1...</td>\n",
       "      <td>False</td>\n",
       "      <td>False</td>\n",
       "      <td>True</td>\n",
       "      <td>27945</td>\n",
       "      <td>38</td>\n",
       "      <td>20</td>\n",
       "      <td>4</td>\n",
       "      <td>1</td>\n",
       "      <td>...</td>\n",
       "      <td>17403705:17403752</td>\n",
       "      <td>NaN</td>\n",
       "      <td>NaN</td>\n",
       "      <td>NaN</td>\n",
       "      <td>NaN</td>\n",
       "      <td>NaN</td>\n",
       "      <td>NaN</td>\n",
       "      <td>NaN</td>\n",
       "      <td>NaN</td>\n",
       "      <td>NaN</td>\n",
       "    </tr>\n",
       "    <tr>\n",
       "      <th>25241</th>\n",
       "      <td>EGPGLQLCC</td>\n",
       "      <td>17404399:17404408:17403752:17403764:17403699:1...</td>\n",
       "      <td>False</td>\n",
       "      <td>False</td>\n",
       "      <td>True</td>\n",
       "      <td>27945</td>\n",
       "      <td>38</td>\n",
       "      <td>20</td>\n",
       "      <td>4</td>\n",
       "      <td>1</td>\n",
       "      <td>...</td>\n",
       "      <td>17403705:17403752</td>\n",
       "      <td>17403705:17403752</td>\n",
       "      <td>-</td>\n",
       "      <td>chr19</td>\n",
       "      <td>13.0</td>\n",
       "      <td>12.0</td>\n",
       "      <td>4.0</td>\n",
       "      <td>1.0</td>\n",
       "      <td>0.0</td>\n",
       "      <td>0.0</td>\n",
       "    </tr>\n",
       "    <tr>\n",
       "      <th>25242</th>\n",
       "      <td>LRAPQDEHG</td>\n",
       "      <td>76302870:76302880:76303025:76303027:76303818:7...</td>\n",
       "      <td>False</td>\n",
       "      <td>False</td>\n",
       "      <td>True</td>\n",
       "      <td>51201</td>\n",
       "      <td>16</td>\n",
       "      <td>6</td>\n",
       "      <td>1</td>\n",
       "      <td>0</td>\n",
       "      <td>...</td>\n",
       "      <td>76303027:76303818</td>\n",
       "      <td>NaN</td>\n",
       "      <td>NaN</td>\n",
       "      <td>NaN</td>\n",
       "      <td>NaN</td>\n",
       "      <td>NaN</td>\n",
       "      <td>NaN</td>\n",
       "      <td>NaN</td>\n",
       "      <td>NaN</td>\n",
       "      <td>NaN</td>\n",
       "    </tr>\n",
       "    <tr>\n",
       "      <th>25243</th>\n",
       "      <td>LRAPQDEHG</td>\n",
       "      <td>76302870:76302880:76303025:76303027:76303818:7...</td>\n",
       "      <td>False</td>\n",
       "      <td>False</td>\n",
       "      <td>True</td>\n",
       "      <td>51201</td>\n",
       "      <td>16</td>\n",
       "      <td>6</td>\n",
       "      <td>1</td>\n",
       "      <td>0</td>\n",
       "      <td>...</td>\n",
       "      <td>76303027:76303818</td>\n",
       "      <td>76303027:76303818</td>\n",
       "      <td>+</td>\n",
       "      <td>chr7</td>\n",
       "      <td>22.0</td>\n",
       "      <td>21.0</td>\n",
       "      <td>6.0</td>\n",
       "      <td>3.0</td>\n",
       "      <td>0.0</td>\n",
       "      <td>0.0</td>\n",
       "    </tr>\n",
       "  </tbody>\n",
       "</table>\n",
       "<p>25244 rows × 30 columns</p>\n",
       "</div>"
      ],
      "text/plain": [
       "            kmer                                              coord  \\\n",
       "0      RIQPSFLGM  81511293:81511300:81511187:81511202:81511103:8...   \n",
       "1      RIQPSFLGM  81511293:81511300:81511187:81511202:81511103:8...   \n",
       "2      KKEKRMMKG          6769614:6769626:6770174:6770189:None:None   \n",
       "3      KKEKRMMKG          6769614:6769626:6770174:6770189:None:None   \n",
       "4      KKEKRMMKG    6769614:6769626:6770174:6770186:6770527:6770530   \n",
       "...          ...                                                ...   \n",
       "25239  GPQHAAAGK  228493252:228493274:228493970:228493974:228494...   \n",
       "25240  EGPGLQLCC  17404399:17404408:17403752:17403764:17403699:1...   \n",
       "25241  EGPGLQLCC  17404399:17404408:17403752:17403764:17403699:1...   \n",
       "25242  LRAPQDEHG  76302870:76302880:76303025:76303027:76303818:7...   \n",
       "25243  LRAPQDEHG  76302870:76302880:76303025:76303027:76303818:7...   \n",
       "\n",
       "       junctionAnnotated  readFrameAnnotated  isCrossJunction  batch  \\\n",
       "0                   True               False             True  25625   \n",
       "1                   True               False             True  25625   \n",
       "2                  False               False             True  11351   \n",
       "3                  False                True             True  11351   \n",
       "4                  False               False             True  11351   \n",
       "...                  ...                 ...              ...    ...   \n",
       "25239              False               False             True   4983   \n",
       "25240              False               False             True  27945   \n",
       "25241              False               False             True  27945   \n",
       "25242              False               False             True  51201   \n",
       "25243              False               False             True  51201   \n",
       "\n",
       "       cancerCohortfilter >0.0  cancerCohortfilter >=1.0  \\\n",
       "0                           63                        36   \n",
       "1                           63                        36   \n",
       "2                          187                       182   \n",
       "3                          187                       182   \n",
       "4                           21                        10   \n",
       "...                        ...                       ...   \n",
       "25239                       11                        11   \n",
       "25240                       38                        20   \n",
       "25241                       38                        20   \n",
       "25242                       16                         6   \n",
       "25243                       16                         6   \n",
       "\n",
       "       cancerCohortfilter >=2.0  cancerCohortfilter >=3.0  ...  \\\n",
       "0                             5                         1  ...   \n",
       "1                             5                         1  ...   \n",
       "2                           176                       170  ...   \n",
       "3                           176                       170  ...   \n",
       "4                             2                         1  ...   \n",
       "...                         ...                       ...  ...   \n",
       "25239                         6                         6  ...   \n",
       "25240                         4                         1  ...   \n",
       "25241                         4                         1  ...   \n",
       "25242                         1                         0  ...   \n",
       "25243                         1                         0  ...   \n",
       "\n",
       "       junction_coordinate2  junction_coordinate  strand_STAR    chr  \\\n",
       "0         81511108:81511187                  NaN          NaN    NaN   \n",
       "1         81511108:81511187    81511108:81511187            -  chr17   \n",
       "2                      None      6769626:6770174            +  chr12   \n",
       "3                      None      6769626:6770174            +  chr12   \n",
       "4           6770186:6770527      6769626:6770174            +  chr12   \n",
       "...                     ...                  ...          ...    ...   \n",
       "25239   228493974:228494051  228493974:228494051            +   chr1   \n",
       "25240     17403705:17403752                  NaN          NaN    NaN   \n",
       "25241     17403705:17403752    17403705:17403752            -  chr19   \n",
       "25242     76303027:76303818                  NaN          NaN    NaN   \n",
       "25243     76303027:76303818    76303027:76303818            +   chr7   \n",
       "\n",
       "       gtexCohortfilter >0.0  gtexCohortfilter >=1.0  gtexCohortfilter >=2.0  \\\n",
       "0                        NaN                     NaN                     NaN   \n",
       "1                     9476.0                  9476.0                  9476.0   \n",
       "2                      222.0                   222.0                   219.0   \n",
       "3                      222.0                   222.0                   219.0   \n",
       "4                      222.0                   222.0                   219.0   \n",
       "...                      ...                     ...                     ...   \n",
       "25239                    3.0                     3.0                     3.0   \n",
       "25240                    NaN                     NaN                     NaN   \n",
       "25241                   13.0                    12.0                     4.0   \n",
       "25242                    NaN                     NaN                     NaN   \n",
       "25243                   22.0                    21.0                     6.0   \n",
       "\n",
       "       gtexCohortfilter >=3.0 gtexCohortfilter >=5.0 gtexCohortfilter >=10.0  \n",
       "0                         NaN                    NaN                     NaN  \n",
       "1                      9476.0                 9476.0                  9476.0  \n",
       "2                       217.0                  214.0                   202.0  \n",
       "3                       217.0                  214.0                   202.0  \n",
       "4                       217.0                  214.0                   202.0  \n",
       "...                       ...                    ...                     ...  \n",
       "25239                     3.0                    3.0                     3.0  \n",
       "25240                     NaN                    NaN                     NaN  \n",
       "25241                     1.0                    0.0                     0.0  \n",
       "25242                     NaN                    NaN                     NaN  \n",
       "25243                     3.0                    0.0                     0.0  \n",
       "\n",
       "[25244 rows x 30 columns]"
      ]
     },
     "execution_count": 308,
     "metadata": {},
     "output_type": "execute_result"
    }
   ],
   "source": [
    "litigation_expr"
   ]
  },
  {
   "cell_type": "code",
   "execution_count": 316,
   "id": "6c3e05bf",
   "metadata": {},
   "outputs": [
    {
     "data": {
      "text/plain": [
       "(array([  0.,   0.,   0.,   0.,   0., 516.,   0.,   0.,   0.,   0.]),\n",
       " array([-0.5, -0.4, -0.3, -0.2, -0.1,  0. ,  0.1,  0.2,  0.3,  0.4,  0.5]),\n",
       " <BarContainer object of 10 artists>)"
      ]
     },
     "execution_count": 316,
     "metadata": {},
     "output_type": "execute_result"
    },
    {
     "data": {
      "image/png": "[encoded data removed]",
      "text/plain": [
       "<Figure size 640x480 with 1 Axes>"
      ]
     },
     "metadata": {},
     "output_type": "display_data"
    }
   ],
   "source": [
    "plt.hist(inter_rf_GPpipeline.merge(df_filt_STAR, on = ['kmer'], how = 'inner')['gtexCohortfilter >0.0'])  #PRUNED GTEX\n",
    "\n"
   ]
  },
  {
   "cell_type": "code",
   "execution_count": 317,
   "id": "d9ae0124",
   "metadata": {},
   "outputs": [
    {
     "data": {
      "text/plain": [
       "(array([9544.,  368.,  225.,  127.,   66.,  144.,   59.,  129.,   69.,\n",
       "        2310.]),\n",
       " array([   0. ,  947.6, 1895.2, 2842.8, 3790.4, 4738. , 5685.6, 6633.2,\n",
       "        7580.8, 8528.4, 9476. ]),\n",
       " <BarContainer object of 10 artists>)"
      ]
     },
     "execution_count": 317,
     "metadata": {},
     "output_type": "execute_result"
    },
    {
     "data": {
      "image/png": "[encoded data removed]",
      "text/plain": [
       "<Figure size 640x480 with 1 Axes>"
      ]
     },
     "metadata": {},
     "output_type": "display_data"
    }
   ],
   "source": [
    "plt.hist(df_inter_STAR.set_index('kmer').loc[kmers_filt_caseSTAR\\\n",
    "                                            ].reset_index()['gtexCohortfilter >0.0']) #REAL GTEX"
   ]
  },
  {
   "cell_type": "code",
   "execution_count": 318,
   "id": "cbb45509",
   "metadata": {},
   "outputs": [
    {
     "data": {
      "text/plain": [
       "(array([  0.,   0.,   0.,   0.,   0., 171.,   0.,   0.,   0.,   0.]),\n",
       " array([-0.5, -0.4, -0.3, -0.2, -0.1,  0. ,  0.1,  0.2,  0.3,  0.4,  0.5]),\n",
       " <BarContainer object of 10 artists>)"
      ]
     },
     "execution_count": 318,
     "metadata": {},
     "output_type": "execute_result"
    },
    {
     "data": {
      "image/png": "[encoded data removed]",
      "text/plain": [
       "<Figure size 640x480 with 1 Axes>"
      ]
     },
     "metadata": {},
     "output_type": "display_data"
    }
   ],
   "source": [
    "plt.hist(df_inter_GP.set_index('kmer').loc[kmers_filt_caseSTAR\\\n",
    "                                            ].reset_index()['gtexCohortfilter >0.0']) #PRUNED GTEX"
   ]
  },
  {
   "cell_type": "code",
   "execution_count": 319,
   "id": "e4f9cef1",
   "metadata": {},
   "outputs": [
    {
     "data": {
      "text/plain": [
       "(array([  0.,   0.,   0.,   0.,   0., 519.,   0.,   0.,   0.,   0.]),\n",
       " array([-0.5, -0.4, -0.3, -0.2, -0.1,  0. ,  0.1,  0.2,  0.3,  0.4,  0.5]),\n",
       " <BarContainer object of 10 artists>)"
      ]
     },
     "execution_count": 319,
     "metadata": {},
     "output_type": "execute_result"
    },
    {
     "data": {
      "image/png": "[encoded data removed]",
      "text/plain": [
       "<Figure size 640x480 with 1 Axes>"
      ]
     },
     "metadata": {},
     "output_type": "display_data"
    }
   ],
   "source": [
    "plt.hist(df_inter_STAR.set_index('kmer').loc[kmers_intersect_STAR_GP_kmer\\\n",
    "                                            ].reset_index()['gtexCohortfilter >0.0']) #REAL GTEX"
   ]
  },
  {
   "cell_type": "code",
   "execution_count": 320,
   "id": "1bb067fc",
   "metadata": {},
   "outputs": [
    {
     "data": {
      "text/plain": [
       "(array([  0.,   0.,   0.,   0.,   0., 149.,   0.,   0.,   0.,   0.]),\n",
       " array([-0.5, -0.4, -0.3, -0.2, -0.1,  0. ,  0.1,  0.2,  0.3,  0.4,  0.5]),\n",
       " <BarContainer object of 10 artists>)"
      ]
     },
     "execution_count": 320,
     "metadata": {},
     "output_type": "execute_result"
    },
    {
     "data": {
      "image/png": "[encoded data removed]",
      "text/plain": [
       "<Figure size 640x480 with 1 Axes>"
      ]
     },
     "metadata": {},
     "output_type": "display_data"
    }
   ],
   "source": [
    "plt.hist(df_inter_GP.set_index('kmer').loc[kmers_intersect_STAR_GP_kmer\\\n",
    "                                            ].reset_index()['gtexCohortfilter >0.0']) #PRUNED GTEX"
   ]
  },
  {
   "cell_type": "code",
   "execution_count": 314,
   "id": "f9ffb4cd",
   "metadata": {},
   "outputs": [],
   "source": [
    "result_intersect_expre = df_inter_STAR.set_index('kmer').loc[kmers_intersect_STAR_GP_kmer\\\n",
    "                                            ].reset_index()"
   ]
  },
  {
   "cell_type": "code",
   "execution_count": 315,
   "id": "50706282",
   "metadata": {},
   "outputs": [
    {
     "data": {
      "text/html": [
       "<div>\n",
       "<style scoped>\n",
       "    .dataframe tbody tr th:only-of-type {\n",
       "        vertical-align: middle;\n",
       "    }\n",
       "\n",
       "    .dataframe tbody tr th {\n",
       "        vertical-align: top;\n",
       "    }\n",
       "\n",
       "    .dataframe thead th {\n",
       "        text-align: right;\n",
       "    }\n",
       "</style>\n",
       "<table border=\"1\" class=\"dataframe\">\n",
       "  <thead>\n",
       "    <tr style=\"text-align: right;\">\n",
       "      <th></th>\n",
       "      <th>kmer</th>\n",
       "      <th>coord</th>\n",
       "      <th>junctionAnnotated</th>\n",
       "      <th>readFrameAnnotated</th>\n",
       "      <th>isCrossJunction</th>\n",
       "      <th>batch</th>\n",
       "      <th>cancerCohortfilter &gt;0.0</th>\n",
       "      <th>cancerCohortfilter &gt;=1.0</th>\n",
       "      <th>cancerCohortfilter &gt;=2.0</th>\n",
       "      <th>cancerCohortfilter &gt;=3.0</th>\n",
       "      <th>...</th>\n",
       "      <th>junction_coordinate2</th>\n",
       "      <th>junction_coordinate</th>\n",
       "      <th>strand_STAR</th>\n",
       "      <th>chr</th>\n",
       "      <th>gtexCohortfilter &gt;0.0</th>\n",
       "      <th>gtexCohortfilter &gt;=1.0</th>\n",
       "      <th>gtexCohortfilter &gt;=2.0</th>\n",
       "      <th>gtexCohortfilter &gt;=3.0</th>\n",
       "      <th>gtexCohortfilter &gt;=5.0</th>\n",
       "      <th>gtexCohortfilter &gt;=10.0</th>\n",
       "    </tr>\n",
       "  </thead>\n",
       "  <tbody>\n",
       "  </tbody>\n",
       "</table>\n",
       "<p>0 rows × 30 columns</p>\n",
       "</div>"
      ],
      "text/plain": [
       "Empty DataFrame\n",
       "Columns: [kmer, coord, junctionAnnotated, readFrameAnnotated, isCrossJunction, batch, cancerCohortfilter >0.0, cancerCohortfilter >=1.0, cancerCohortfilter >=2.0, cancerCohortfilter >=3.0, cancerCohortfilter >=5.0, cancerCohortfilter >=10.0, TCGA25131901A01R156513all, TCGA25131301A01R156513all, TCGA61200801A02R156813all, TCGA24143101A01R156613all, TCGA24229801A01R156913all, isAnnotated, strand, junction_coordinate1, junction_coordinate2, junction_coordinate, strand_STAR, chr, gtexCohortfilter >0.0, gtexCohortfilter >=1.0, gtexCohortfilter >=2.0, gtexCohortfilter >=3.0, gtexCohortfilter >=5.0, gtexCohortfilter >=10.0]\n",
       "Index: []\n",
       "\n",
       "[0 rows x 30 columns]"
      ]
     },
     "execution_count": 315,
     "metadata": {},
     "output_type": "execute_result"
    }
   ],
   "source": [
    "result_intersect_expre.loc[result_intersect_expre['gtexCohortfilter >0.0']> 1000]"
   ]
  },
  {
   "cell_type": "code",
   "execution_count": null,
   "id": "3f85aa75",
   "metadata": {},
   "outputs": [],
   "source": []
  }
 ],
 "metadata": {
  "kernelspec": {
   "display_name": "pep3",
   "language": "python",
   "name": "pep3"
  },
  "language_info": {
   "codemirror_mode": {
    "name": "ipython",
    "version": 3
   },
   "file_extension": ".py",
   "mimetype": "text/x-python",
   "name": "python",
   "nbconvert_exporter": "python",
   "pygments_lexer": "ipython3",
   "version": "3.9.13"
  }
 },
 "nbformat": 4,
 "nbformat_minor": 5
}
