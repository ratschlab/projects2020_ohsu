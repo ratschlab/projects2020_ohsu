{
 "cells": [
  {
   "cell_type": "code",
   "execution_count": 1,
   "id": "fa50014a",
   "metadata": {},
   "outputs": [],
   "source": [
    "import pandas as pd\n",
    "import os \n",
    "import glob \n",
    "import numpy as np "
   ]
  },
  {
   "cell_type": "code",
   "execution_count": 2,
   "id": "4d21fc89",
   "metadata": {},
   "outputs": [],
   "source": [
    "run_type = 'ov'\n",
    "\n",
    "if run_type == 'brca':\n",
    "   \n",
    "    samples = ['TCGA-C8-A12P-01A-11R-A115-07',\n",
    "                      'TCGA-AO-A0JM-01A-21R-A056-07',\n",
    "                      'TCGA-BH-A18V-01A-11R-A12D-07',\n",
    "                      'TCGA-A2-A0D2-01A-21R-A034-07',\n",
    "                      'TCGA-A2-A0SX-01A-12R-A084-07']\n",
    "    basedir = '/cluster/work/grlab/projects/projects2020_OHSU/peptides_generation/CANCER_eth/commit_c4dd02c_conf2_Frame_cap0_runs/TCGA_Breast_1102'\n",
    "elif run_type == 'ov':\n",
    "    samples = ['TCGA-25-1319-01A-01R-1565-13',\n",
    "                      'TCGA-25-1313-01A-01R-1565-13',\n",
    "                      'TCGA-61-2008-01A-02R-1568-13',\n",
    "                      'TCGA-24-1431-01A-01R-1566-13',\n",
    "                      'TCGA-24-2298-01A-01R-1569-13']\n",
    "    basedir = '/cluster/work/grlab/projects/projects2020_OHSU/peptides_generation/CANCER_eth/commit_c4dd02c_conf2_Frame_cap0_runs/TCGA_Ovarian_374'\n"
   ]
  },
  {
   "cell_type": "code",
   "execution_count": 4,
   "id": "97c1c786",
   "metadata": {},
   "outputs": [],
   "source": [
    "def resave_counts(basedir, sample):\n",
    "    try:\n",
    "        print('.....', sample)\n",
    "        path_count_files = os.path.join(basedir, 'filtering_samples/filters_19May_order_5ge_wAnnot')\n",
    "        path_filtered_files = os.path.join(basedir, 'filtering_samples/filters_19May_order_5ge_wAnnot_GPstar')\n",
    "        count_file = os.path.join(path_count_files, f'G_filtered_df_{sample}_samp_chrt_norm_mot.tsv.gz')\n",
    "        experiment_file = os.path.join(path_filtered_files, f'G_TCGA-{sample}_experiment_map.tsv.gz')\n",
    "\n",
    "        experiment = pd.read_csv(experiment_file, sep = '\\t')\n",
    "\n",
    "        count = pd.read_csv(count_file, sep = '\\t')\n",
    "\n",
    "        #print(count.head())\n",
    "\n",
    "        count['normal_cohort_id'] = 'Gtex'\n",
    "\n",
    "        cols_merge = ['min_sample_reads', '#_of_cohort_samples', 'reads_per_cohort_sample',\n",
    "        '#_normal_samples_allowed', 'reads_per_normal_sample', 'normal_cohort_id']\n",
    "\n",
    "        res = experiment.drop_duplicates().merge(count.drop_duplicates(), on = cols_merge)\n",
    "\n",
    "        recount = ['Filter_Sample_Cohort_CohortNormal_jx', 'id']\n",
    "        recount_values = []\n",
    "        for id_ in res['id'].unique():\n",
    "            filtered_kmers_path = os.path.join(path_filtered_files, f'G_{sample}_{id_}.tsv.gz')\n",
    "            kmers = pd.read_csv(filtered_kmers_path, sep = '\\t')\n",
    "            recount_values.append([ len(set(kmers['kmer'])), id_])\n",
    "\n",
    "        recount = pd.DataFrame(recount_values, columns = recount)\n",
    "\n",
    "        print(res.shape)\n",
    "\n",
    "\n",
    "        print(recount.shape)\n",
    "\n",
    "        res = res.merge(recount, on = ['id'], how = 'inner')\n",
    "\n",
    "        #print(res.head())\n",
    "        save_path = os.path.join(path_count_files, f'G_filtered_df_{sample}_samp_chrt_norm_mot_jx.tsv.gz')\n",
    "        print(save_path)\n",
    "\n",
    "        res.to_csv(save_path, sep ='\\t', index=None)\n",
    "    except:\n",
    "        print(f'Error with {count_file} or {experiment_file}')"
   ]
  },
  {
   "cell_type": "code",
   "execution_count": 5,
   "id": "20b208d3",
   "metadata": {},
   "outputs": [
    {
     "name": "stdout",
     "output_type": "stream",
     "text": [
      "..... TCGA-25-1319-01A-01R-1565-13\n",
      "(75, 15)\n",
      "(65, 2)\n",
      "/cluster/work/grlab/projects/projects2020_OHSU/peptides_generation/CANCER_eth/commit_c4dd02c_conf2_Frame_cap0_runs/TCGA_Ovarian_374/filtering_samples/filters_19May_order_5ge_wAnnot/G_filtered_df_TCGA-25-1319-01A-01R-1565-13_samp_chrt_norm_mot_jx.tsv.gz\n",
      "..... TCGA-25-1313-01A-01R-1565-13\n",
      "(75, 15)\n",
      "(65, 2)\n",
      "/cluster/work/grlab/projects/projects2020_OHSU/peptides_generation/CANCER_eth/commit_c4dd02c_conf2_Frame_cap0_runs/TCGA_Ovarian_374/filtering_samples/filters_19May_order_5ge_wAnnot/G_filtered_df_TCGA-25-1313-01A-01R-1565-13_samp_chrt_norm_mot_jx.tsv.gz\n",
      "..... TCGA-61-2008-01A-02R-1568-13\n",
      "(75, 15)\n",
      "(65, 2)\n",
      "/cluster/work/grlab/projects/projects2020_OHSU/peptides_generation/CANCER_eth/commit_c4dd02c_conf2_Frame_cap0_runs/TCGA_Ovarian_374/filtering_samples/filters_19May_order_5ge_wAnnot/G_filtered_df_TCGA-61-2008-01A-02R-1568-13_samp_chrt_norm_mot_jx.tsv.gz\n",
      "..... TCGA-24-1431-01A-01R-1566-13\n",
      "(75, 15)\n",
      "(65, 2)\n",
      "/cluster/work/grlab/projects/projects2020_OHSU/peptides_generation/CANCER_eth/commit_c4dd02c_conf2_Frame_cap0_runs/TCGA_Ovarian_374/filtering_samples/filters_19May_order_5ge_wAnnot/G_filtered_df_TCGA-24-1431-01A-01R-1566-13_samp_chrt_norm_mot_jx.tsv.gz\n",
      "..... TCGA-24-2298-01A-01R-1569-13\n",
      "(75, 15)\n",
      "(65, 2)\n",
      "/cluster/work/grlab/projects/projects2020_OHSU/peptides_generation/CANCER_eth/commit_c4dd02c_conf2_Frame_cap0_runs/TCGA_Ovarian_374/filtering_samples/filters_19May_order_5ge_wAnnot/G_filtered_df_TCGA-24-2298-01A-01R-1569-13_samp_chrt_norm_mot_jx.tsv.gz\n"
     ]
    }
   ],
   "source": [
    "for sample in samples:\n",
    "    resave_counts(basedir, sample)"
   ]
  },
  {
   "cell_type": "code",
   "execution_count": null,
   "id": "00ed08dd",
   "metadata": {},
   "outputs": [],
   "source": []
  }
 ],
 "metadata": {
  "kernelspec": {
   "display_name": "pep3",
   "language": "python",
   "name": "pep3"
  },
  "language_info": {
   "codemirror_mode": {
    "name": "ipython",
    "version": 3
   },
   "file_extension": ".py",
   "mimetype": "text/x-python",
   "name": "python",
   "nbconvert_exporter": "python",
   "pygments_lexer": "ipython3",
   "version": "3.9.13"
  }
 },
 "nbformat": 4,
 "nbformat_minor": 5
}
