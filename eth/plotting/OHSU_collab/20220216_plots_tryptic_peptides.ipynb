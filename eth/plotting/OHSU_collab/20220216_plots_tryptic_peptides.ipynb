{
 "cells": [
  {
   "cell_type": "code",
   "execution_count": 33,
   "metadata": {
    "ExecuteTime": {
     "end_time": "2022-02-16T17:22:04.812174Z",
     "start_time": "2022-02-16T17:22:04.806356Z"
    }
   },
   "outputs": [],
   "source": [
    "import os \n",
    "import pandas as pd \n",
    "import numpy as np \n",
    "import tarfile\n",
    "import glob\n",
    "from collections import defaultdict\n",
    "import matplotlib.pyplot as plt\n",
    "import seaborn as sns "
   ]
  },
  {
   "cell_type": "code",
   "execution_count": 131,
   "metadata": {
    "ExecuteTime": {
     "end_time": "2022-02-16T18:25:34.942058Z",
     "start_time": "2022-02-16T18:25:34.907526Z"
    }
   },
   "outputs": [],
   "source": [
    "plot_dir = '/cluster/work/grlab/projects/projects2020_OHSU/plots'\n",
    "plot_dir = os.path.join(plot_dir, 'tryptic_plots')\n",
    "#os.mkdir(plot_dir)\n",
    "base_plot = 'v2_v2.5f0752a_conf2_BRCA'\n",
    "global plot_dir\n",
    "global base_plot\n",
    "pipeline = 'G'"
   ]
  },
  {
   "cell_type": "code",
   "execution_count": 35,
   "metadata": {
    "ExecuteTime": {
     "end_time": "2022-02-16T17:22:05.311203Z",
     "start_time": "2022-02-16T17:22:05.306031Z"
    }
   },
   "outputs": [],
   "source": [
    "# paths \n",
    "path_tryptic_pep= '/cluster/work/grlab/projects/projects2020_OHSU/share_OHUS_PNLL/tryptic_peptide_fastas'\n",
    "\n",
    "path_filtered_pep = '/cluster/work/grlab/projects/projects2020_OHSU/peptides_generation/v2_v2.5f0752a_conf2_annotFrame_cap0_runs_pya0.17.1/TCGA_Breast_1102'\n",
    "\n",
    "commit_interest = 'commit_d4aee54_GTEXcore' # hardcoded cohort \n",
    "\n",
    "path_eth = os.path.join(path_tryptic_pep, 'G_tryptic_peptides')\n",
    "\n",
    "file_name = 'peptide-extracted-filter.fasta'"
   ]
  },
  {
   "cell_type": "code",
   "execution_count": 36,
   "metadata": {
    "ExecuteTime": {
     "end_time": "2022-02-16T17:22:05.455111Z",
     "start_time": "2022-02-16T17:22:05.450455Z"
    }
   },
   "outputs": [],
   "source": [
    "samples = ['TCGA-BH-A18V-01A-11R-A12D-07','TCGA-C8-A12P-01A-11R-A115-07',\n",
    "           'TCGA-A2-A0D2-01A-21R-A034-07','TCGA-A2-A0SX-01A-12R-A084-07',\n",
    "           'TCGA-AO-A0JM-01A-21R-A056-07']"
   ]
  },
  {
   "cell_type": "code",
   "execution_count": 37,
   "metadata": {
    "ExecuteTime": {
     "end_time": "2022-02-16T17:22:05.589737Z",
     "start_time": "2022-02-16T17:22:05.585253Z"
    }
   },
   "outputs": [],
   "source": [
    "sample = samples[0]"
   ]
  },
  {
   "cell_type": "code",
   "execution_count": 38,
   "metadata": {
    "ExecuteTime": {
     "end_time": "2022-02-16T17:22:05.777246Z",
     "start_time": "2022-02-16T17:22:05.769303Z"
    }
   },
   "outputs": [
    {
     "data": {
      "text/plain": [
       "['TCGA-BH-A18V-01A-11R-A12D-07',\n",
       " 'TCGA-C8-A12P-01A-11R-A115-07',\n",
       " 'TCGA-A2-A0D2-01A-21R-A034-07',\n",
       " 'TCGA-A2-A0SX-01A-12R-A084-07',\n",
       " 'TCGA-AO-A0JM-01A-21R-A056-07']"
      ]
     },
     "execution_count": 38,
     "metadata": {},
     "output_type": "execute_result"
    }
   ],
   "source": [
    "samples"
   ]
  },
  {
   "cell_type": "code",
   "execution_count": 39,
   "metadata": {
    "ExecuteTime": {
     "end_time": "2022-02-16T17:22:05.943846Z",
     "start_time": "2022-02-16T17:22:05.938206Z"
    }
   },
   "outputs": [
    {
     "name": "stdout",
     "output_type": "stream",
     "text": [
      "TCGA-BH-A18V-01A-11R-A12D-07\n"
     ]
    }
   ],
   "source": [
    "print(sample)"
   ]
  },
  {
   "cell_type": "code",
   "execution_count": 40,
   "metadata": {
    "ExecuteTime": {
     "end_time": "2022-02-16T17:22:06.232181Z",
     "start_time": "2022-02-16T17:22:06.105268Z"
    }
   },
   "outputs": [],
   "source": [
    "# Tryptic digestion products from Andy Lin \n",
    "data_tryptic = []\n",
    "counter = 0 \n",
    "with open(os.path.join(path_eth, 'G_' + sample, file_name ), 'r') as f: \n",
    "    for line in f.readlines():\n",
    "        if 'pepID' in line:\n",
    "            counter +=1\n",
    "            data_tryptic.append ([line.split('\\n')[0]])\n",
    "        else:\n",
    "            data_tryptic[-1].extend([counter, line.split('\\n')[0]])\n",
    "\n",
    "\n",
    "data_tryptic = pd.DataFrame(data_tryptic)\n",
    "data_tryptic.columns = ['id', 'counter', 'tryptic_seq']"
   ]
  },
  {
   "cell_type": "code",
   "execution_count": 41,
   "metadata": {
    "ExecuteTime": {
     "end_time": "2022-02-16T17:22:06.299130Z",
     "start_time": "2022-02-16T17:22:06.280444Z"
    }
   },
   "outputs": [],
   "source": [
    "assert(data_tryptic['id'].unique().shape[0] == data_tryptic.shape[0])"
   ]
  },
  {
   "cell_type": "code",
   "execution_count": 42,
   "metadata": {
    "ExecuteTime": {
     "end_time": "2022-02-16T17:22:06.457729Z",
     "start_time": "2022-02-16T17:22:06.449764Z"
    }
   },
   "outputs": [
    {
     "data": {
      "text/plain": [
       "(26122, 3)"
      ]
     },
     "execution_count": 42,
     "metadata": {},
     "output_type": "execute_result"
    }
   ],
   "source": [
    "data_tryptic.shape"
   ]
  },
  {
   "cell_type": "code",
   "execution_count": 43,
   "metadata": {
    "ExecuteTime": {
     "end_time": "2022-02-16T17:22:06.637989Z",
     "start_time": "2022-02-16T17:22:06.616005Z"
    }
   },
   "outputs": [
    {
     "data": {
      "text/plain": [
       "26122"
      ]
     },
     "execution_count": 43,
     "metadata": {},
     "output_type": "execute_result"
    }
   ],
   "source": [
    "data_tryptic['id'].unique().shape[0]"
   ]
  },
  {
   "cell_type": "code",
   "execution_count": 44,
   "metadata": {
    "ExecuteTime": {
     "end_time": "2022-02-16T17:22:06.808433Z",
     "start_time": "2022-02-16T17:22:06.793026Z"
    }
   },
   "outputs": [
    {
     "data": {
      "text/plain": [
       "(2883,)"
      ]
     },
     "execution_count": 44,
     "metadata": {},
     "output_type": "execute_result"
    }
   ],
   "source": [
    "data_tryptic['tryptic_seq'].unique().shape"
   ]
  },
  {
   "cell_type": "code",
   "execution_count": 45,
   "metadata": {
    "ExecuteTime": {
     "end_time": "2022-02-16T17:22:07.155188Z",
     "start_time": "2022-02-16T17:22:06.968744Z"
    }
   },
   "outputs": [],
   "source": [
    "# Filtered peptides to query (longlist for sample)\n",
    "data_meta = []\n",
    "with open(os.path.join(path_filtered_pep, f'filter_{sample}.all', commit_interest, f'G_{sample}_query_peptides.fa'), 'r') as f :\n",
    "    for line in f.readlines():\n",
    "        if 'pepID' in line:\n",
    "            data_meta.append(line.split('\\n')[0].split(';'))\n",
    "        else:\n",
    "            data_meta[-1].extend([line.split('\\n')[0]])\n",
    "\n",
    "data_meta = pd.DataFrame(data_meta)\n",
    "data_meta.columns = ['id', 'jx_pos', 'between_codons', 'include5', 'include3', 'gene', 'coord', 'seq']"
   ]
  },
  {
   "cell_type": "code",
   "execution_count": 46,
   "metadata": {
    "ExecuteTime": {
     "end_time": "2022-02-16T17:22:07.174417Z",
     "start_time": "2022-02-16T17:22:07.163805Z"
    }
   },
   "outputs": [
    {
     "data": {
      "text/html": [
       "<div>\n",
       "<style scoped>\n",
       "    .dataframe tbody tr th:only-of-type {\n",
       "        vertical-align: middle;\n",
       "    }\n",
       "\n",
       "    .dataframe tbody tr th {\n",
       "        vertical-align: top;\n",
       "    }\n",
       "\n",
       "    .dataframe thead th {\n",
       "        text-align: right;\n",
       "    }\n",
       "</style>\n",
       "<table border=\"1\" class=\"dataframe\">\n",
       "  <thead>\n",
       "    <tr style=\"text-align: right;\">\n",
       "      <th></th>\n",
       "      <th>id</th>\n",
       "      <th>jx_pos</th>\n",
       "      <th>between_codons</th>\n",
       "      <th>include5</th>\n",
       "      <th>include3</th>\n",
       "      <th>gene</th>\n",
       "      <th>coord</th>\n",
       "      <th>seq</th>\n",
       "    </tr>\n",
       "  </thead>\n",
       "  <tbody>\n",
       "    <tr>\n",
       "      <th>0</th>\n",
       "      <td>&gt;pepID-1</td>\n",
       "      <td>jx_pos-12</td>\n",
       "      <td>between_codons-1</td>\n",
       "      <td>includes_5'-0</td>\n",
       "      <td>includes_3'-1</td>\n",
       "      <td>gene-ENSG00000119333.11</td>\n",
       "      <td>jx_coord-128640690_128636438</td>\n",
       "      <td>WLRGELDRAAADGWTMGTGARLSPSCVPGTWTGETCVPSSRRPWWR...</td>\n",
       "    </tr>\n",
       "    <tr>\n",
       "      <th>1</th>\n",
       "      <td>&gt;pepID-2</td>\n",
       "      <td>jx_pos-27</td>\n",
       "      <td>between_codons-1</td>\n",
       "      <td>includes_5'-0</td>\n",
       "      <td>includes_3'-1</td>\n",
       "      <td>gene-ENSG00000086758.16</td>\n",
       "      <td>jx_coord-53550665_53549505</td>\n",
       "      <td>ATVGSSILALLCREVAPSRWGVAAAITGLLAVM</td>\n",
       "    </tr>\n",
       "    <tr>\n",
       "      <th>2</th>\n",
       "      <td>&gt;pepID-3</td>\n",
       "      <td>jx_pos-6</td>\n",
       "      <td>between_codons-1</td>\n",
       "      <td>includes_5'-0</td>\n",
       "      <td>includes_3'-1</td>\n",
       "      <td>gene-ENSG00000120149.9</td>\n",
       "      <td>jx_coord-174725038_174729158</td>\n",
       "      <td>PIFAAAKTYEPYHLHPEETQDQSEAAHALYHIPAPRPGAQVPSETV...</td>\n",
       "    </tr>\n",
       "  </tbody>\n",
       "</table>\n",
       "</div>"
      ],
      "text/plain": [
       "         id     jx_pos    between_codons       include5       include3  \\\n",
       "0  >pepID-1  jx_pos-12  between_codons-1  includes_5'-0  includes_3'-1   \n",
       "1  >pepID-2  jx_pos-27  between_codons-1  includes_5'-0  includes_3'-1   \n",
       "2  >pepID-3   jx_pos-6  between_codons-1  includes_5'-0  includes_3'-1   \n",
       "\n",
       "                      gene                         coord  \\\n",
       "0  gene-ENSG00000119333.11  jx_coord-128640690_128636438   \n",
       "1  gene-ENSG00000086758.16    jx_coord-53550665_53549505   \n",
       "2   gene-ENSG00000120149.9  jx_coord-174725038_174729158   \n",
       "\n",
       "                                                 seq  \n",
       "0  WLRGELDRAAADGWTMGTGARLSPSCVPGTWTGETCVPSSRRPWWR...  \n",
       "1                  ATVGSSILALLCREVAPSRWGVAAAITGLLAVM  \n",
       "2  PIFAAAKTYEPYHLHPEETQDQSEAAHALYHIPAPRPGAQVPSETV...  "
      ]
     },
     "execution_count": 46,
     "metadata": {},
     "output_type": "execute_result"
    }
   ],
   "source": [
    "data_meta.head(3)"
   ]
  },
  {
   "cell_type": "code",
   "execution_count": 47,
   "metadata": {
    "ExecuteTime": {
     "end_time": "2022-02-16T17:22:07.460922Z",
     "start_time": "2022-02-16T17:22:07.348151Z"
    }
   },
   "outputs": [],
   "source": [
    "# merge tryptic, peptide metadata\n",
    "df = data_meta.merge(data_tryptic, on = 'id', how = 'outer')\n",
    "\n",
    "df['len_pep'] = [len(x) for x in df['seq']]\n",
    "\n",
    "df['has_tryptic'] = 1\n",
    "df.loc[df['tryptic_seq'].isna(), 'has_tryptic'] = 0 "
   ]
  },
  {
   "cell_type": "code",
   "execution_count": 48,
   "metadata": {
    "ExecuteTime": {
     "end_time": "2022-02-16T17:22:07.796042Z",
     "start_time": "2022-02-16T17:22:07.766374Z"
    }
   },
   "outputs": [
    {
     "data": {
      "text/html": [
       "<div>\n",
       "<style scoped>\n",
       "    .dataframe tbody tr th:only-of-type {\n",
       "        vertical-align: middle;\n",
       "    }\n",
       "\n",
       "    .dataframe tbody tr th {\n",
       "        vertical-align: top;\n",
       "    }\n",
       "\n",
       "    .dataframe thead th {\n",
       "        text-align: right;\n",
       "    }\n",
       "</style>\n",
       "<table border=\"1\" class=\"dataframe\">\n",
       "  <thead>\n",
       "    <tr style=\"text-align: right;\">\n",
       "      <th></th>\n",
       "      <th>id</th>\n",
       "      <th>jx_pos</th>\n",
       "      <th>between_codons</th>\n",
       "      <th>include5</th>\n",
       "      <th>include3</th>\n",
       "      <th>gene</th>\n",
       "      <th>coord</th>\n",
       "      <th>seq</th>\n",
       "      <th>counter</th>\n",
       "      <th>tryptic_seq</th>\n",
       "      <th>len_pep</th>\n",
       "      <th>has_tryptic</th>\n",
       "    </tr>\n",
       "  </thead>\n",
       "  <tbody>\n",
       "    <tr>\n",
       "      <th>0</th>\n",
       "      <td>&gt;pepID-1</td>\n",
       "      <td>jx_pos-12</td>\n",
       "      <td>between_codons-1</td>\n",
       "      <td>includes_5'-0</td>\n",
       "      <td>includes_3'-1</td>\n",
       "      <td>gene-ENSG00000119333.11</td>\n",
       "      <td>jx_coord-128640690_128636438</td>\n",
       "      <td>WLRGELDRAAADGWTMGTGARLSPSCVPGTWTGETCVPSSRRPWWR...</td>\n",
       "      <td>1.0</td>\n",
       "      <td>AAADGWTMGTGAR</td>\n",
       "      <td>116</td>\n",
       "      <td>1</td>\n",
       "    </tr>\n",
       "    <tr>\n",
       "      <th>1</th>\n",
       "      <td>&gt;pepID-2</td>\n",
       "      <td>jx_pos-27</td>\n",
       "      <td>between_codons-1</td>\n",
       "      <td>includes_5'-0</td>\n",
       "      <td>includes_3'-1</td>\n",
       "      <td>gene-ENSG00000086758.16</td>\n",
       "      <td>jx_coord-53550665_53549505</td>\n",
       "      <td>ATVGSSILALLCREVAPSRWGVAAAITGLLAVM</td>\n",
       "      <td>2.0</td>\n",
       "      <td>WGVAAAITGLLAVM</td>\n",
       "      <td>33</td>\n",
       "      <td>1</td>\n",
       "    </tr>\n",
       "    <tr>\n",
       "      <th>2</th>\n",
       "      <td>&gt;pepID-3</td>\n",
       "      <td>jx_pos-6</td>\n",
       "      <td>between_codons-1</td>\n",
       "      <td>includes_5'-0</td>\n",
       "      <td>includes_3'-1</td>\n",
       "      <td>gene-ENSG00000120149.9</td>\n",
       "      <td>jx_coord-174725038_174729158</td>\n",
       "      <td>PIFAAAKTYEPYHLHPEETQDQSEAAHALYHIPAPRPGAQVPSETV...</td>\n",
       "      <td>NaN</td>\n",
       "      <td>NaN</td>\n",
       "      <td>123</td>\n",
       "      <td>0</td>\n",
       "    </tr>\n",
       "    <tr>\n",
       "      <th>3</th>\n",
       "      <td>&gt;pepID-4</td>\n",
       "      <td>jx_pos-6</td>\n",
       "      <td>between_codons-1</td>\n",
       "      <td>includes_5'-0</td>\n",
       "      <td>includes_3'-1</td>\n",
       "      <td>gene-ENSG00000120149.9</td>\n",
       "      <td>jx_coord-174725038_174729158</td>\n",
       "      <td>PIFAAAKTYEPYHLHPEETQDQSEAAHALYHIPAPRPGAQVPSETV...</td>\n",
       "      <td>NaN</td>\n",
       "      <td>NaN</td>\n",
       "      <td>123</td>\n",
       "      <td>0</td>\n",
       "    </tr>\n",
       "    <tr>\n",
       "      <th>4</th>\n",
       "      <td>&gt;pepID-5</td>\n",
       "      <td>jx_pos-90</td>\n",
       "      <td>between_codons-0</td>\n",
       "      <td>includes_5'-1</td>\n",
       "      <td>includes_3'-1</td>\n",
       "      <td>gene-ENSG00000120149.9</td>\n",
       "      <td>jx_coord-174724853_174725017</td>\n",
       "      <td>MASPSKGNDLFSPDEEGPAVVAGPGPGPGGAEGAAEERRVKVSSLP...</td>\n",
       "      <td>3.0</td>\n",
       "      <td>TYEPYHLHPEETQDQSEAAHALYHIPAPR</td>\n",
       "      <td>188</td>\n",
       "      <td>1</td>\n",
       "    </tr>\n",
       "  </tbody>\n",
       "</table>\n",
       "</div>"
      ],
      "text/plain": [
       "         id     jx_pos    between_codons       include5       include3  \\\n",
       "0  >pepID-1  jx_pos-12  between_codons-1  includes_5'-0  includes_3'-1   \n",
       "1  >pepID-2  jx_pos-27  between_codons-1  includes_5'-0  includes_3'-1   \n",
       "2  >pepID-3   jx_pos-6  between_codons-1  includes_5'-0  includes_3'-1   \n",
       "3  >pepID-4   jx_pos-6  between_codons-1  includes_5'-0  includes_3'-1   \n",
       "4  >pepID-5  jx_pos-90  between_codons-0  includes_5'-1  includes_3'-1   \n",
       "\n",
       "                      gene                         coord  \\\n",
       "0  gene-ENSG00000119333.11  jx_coord-128640690_128636438   \n",
       "1  gene-ENSG00000086758.16    jx_coord-53550665_53549505   \n",
       "2   gene-ENSG00000120149.9  jx_coord-174725038_174729158   \n",
       "3   gene-ENSG00000120149.9  jx_coord-174725038_174729158   \n",
       "4   gene-ENSG00000120149.9  jx_coord-174724853_174725017   \n",
       "\n",
       "                                                 seq  counter  \\\n",
       "0  WLRGELDRAAADGWTMGTGARLSPSCVPGTWTGETCVPSSRRPWWR...      1.0   \n",
       "1                  ATVGSSILALLCREVAPSRWGVAAAITGLLAVM      2.0   \n",
       "2  PIFAAAKTYEPYHLHPEETQDQSEAAHALYHIPAPRPGAQVPSETV...      NaN   \n",
       "3  PIFAAAKTYEPYHLHPEETQDQSEAAHALYHIPAPRPGAQVPSETV...      NaN   \n",
       "4  MASPSKGNDLFSPDEEGPAVVAGPGPGPGGAEGAAEERRVKVSSLP...      3.0   \n",
       "\n",
       "                     tryptic_seq  len_pep  has_tryptic  \n",
       "0                  AAADGWTMGTGAR      116            1  \n",
       "1                 WGVAAAITGLLAVM       33            1  \n",
       "2                            NaN      123            0  \n",
       "3                            NaN      123            0  \n",
       "4  TYEPYHLHPEETQDQSEAAHALYHIPAPR      188            1  "
      ]
     },
     "execution_count": 48,
     "metadata": {},
     "output_type": "execute_result"
    }
   ],
   "source": [
    "df.head()"
   ]
  },
  {
   "cell_type": "markdown",
   "metadata": {},
   "source": [
    "Shapes "
   ]
  },
  {
   "cell_type": "code",
   "execution_count": 49,
   "metadata": {
    "ExecuteTime": {
     "end_time": "2022-02-16T17:22:08.485513Z",
     "start_time": "2022-02-16T17:22:08.477460Z"
    }
   },
   "outputs": [
    {
     "data": {
      "text/plain": [
       "(42743, 12)"
      ]
     },
     "execution_count": 49,
     "metadata": {},
     "output_type": "execute_result"
    }
   ],
   "source": [
    "df.shape"
   ]
  },
  {
   "cell_type": "code",
   "execution_count": 50,
   "metadata": {
    "ExecuteTime": {
     "end_time": "2022-02-16T17:22:08.931840Z",
     "start_time": "2022-02-16T17:22:08.904625Z"
    }
   },
   "outputs": [
    {
     "data": {
      "text/plain": [
       "(5193,)"
      ]
     },
     "execution_count": 50,
     "metadata": {},
     "output_type": "execute_result"
    }
   ],
   "source": [
    "df['seq'].unique().shape"
   ]
  },
  {
   "cell_type": "code",
   "execution_count": 51,
   "metadata": {
    "ExecuteTime": {
     "end_time": "2022-02-16T17:22:09.343361Z",
     "start_time": "2022-02-16T17:22:09.320876Z"
    }
   },
   "outputs": [
    {
     "data": {
      "text/plain": [
       "(4213,)"
      ]
     },
     "execution_count": 51,
     "metadata": {},
     "output_type": "execute_result"
    }
   ],
   "source": [
    "df['coord'].unique().shape"
   ]
  },
  {
   "cell_type": "code",
   "execution_count": 52,
   "metadata": {
    "ExecuteTime": {
     "end_time": "2022-02-16T17:22:09.723152Z",
     "start_time": "2022-02-16T17:22:09.698155Z"
    }
   },
   "outputs": [
    {
     "data": {
      "text/plain": [
       "(26122, 12)"
      ]
     },
     "execution_count": 52,
     "metadata": {},
     "output_type": "execute_result"
    }
   ],
   "source": [
    "df.loc[ df['has_tryptic'] == 1 ].shape"
   ]
  },
  {
   "cell_type": "code",
   "execution_count": 53,
   "metadata": {
    "ExecuteTime": {
     "end_time": "2022-02-16T17:22:10.111041Z",
     "start_time": "2022-02-16T17:22:10.091163Z"
    }
   },
   "outputs": [
    {
     "data": {
      "text/plain": [
       "(2883,)"
      ]
     },
     "execution_count": 53,
     "metadata": {},
     "output_type": "execute_result"
    }
   ],
   "source": [
    "df.loc[df['has_tryptic'] == 1 , 'tryptic_seq'].unique().shape"
   ]
  },
  {
   "cell_type": "code",
   "execution_count": 54,
   "metadata": {
    "ExecuteTime": {
     "end_time": "2022-02-16T17:22:10.564205Z",
     "start_time": "2022-02-16T17:22:10.508451Z"
    }
   },
   "outputs": [],
   "source": [
    "# counting the length \n",
    "grp_len = df[['coord', 'len_pep']].groupby(['coord']).min().reset_index()\n",
    "\n",
    "grp_len = df[['coord', 'len_pep']].groupby(['coord']).min().reset_index()"
   ]
  },
  {
   "cell_type": "code",
   "execution_count": 55,
   "metadata": {
    "ExecuteTime": {
     "end_time": "2022-02-16T17:22:10.981417Z",
     "start_time": "2022-02-16T17:22:10.966481Z"
    }
   },
   "outputs": [
    {
     "data": {
      "text/html": [
       "<div>\n",
       "<style scoped>\n",
       "    .dataframe tbody tr th:only-of-type {\n",
       "        vertical-align: middle;\n",
       "    }\n",
       "\n",
       "    .dataframe tbody tr th {\n",
       "        vertical-align: top;\n",
       "    }\n",
       "\n",
       "    .dataframe thead th {\n",
       "        text-align: right;\n",
       "    }\n",
       "</style>\n",
       "<table border=\"1\" class=\"dataframe\">\n",
       "  <thead>\n",
       "    <tr style=\"text-align: right;\">\n",
       "      <th></th>\n",
       "      <th>coord</th>\n",
       "      <th>len_pep</th>\n",
       "    </tr>\n",
       "  </thead>\n",
       "  <tbody>\n",
       "    <tr>\n",
       "      <th>0</th>\n",
       "      <td>jx_coord-100030375_100033304</td>\n",
       "      <td>323</td>\n",
       "    </tr>\n",
       "    <tr>\n",
       "      <th>1</th>\n",
       "      <td>jx_coord-1000469_997804</td>\n",
       "      <td>201</td>\n",
       "    </tr>\n",
       "    <tr>\n",
       "      <th>2</th>\n",
       "      <td>jx_coord-100097613_100097384</td>\n",
       "      <td>26</td>\n",
       "    </tr>\n",
       "    <tr>\n",
       "      <th>3</th>\n",
       "      <td>jx_coord-100097617_100097642</td>\n",
       "      <td>55</td>\n",
       "    </tr>\n",
       "    <tr>\n",
       "      <th>4</th>\n",
       "      <td>jx_coord-100097658_100102303</td>\n",
       "      <td>39</td>\n",
       "    </tr>\n",
       "  </tbody>\n",
       "</table>\n",
       "</div>"
      ],
      "text/plain": [
       "                          coord  len_pep\n",
       "0  jx_coord-100030375_100033304      323\n",
       "1       jx_coord-1000469_997804      201\n",
       "2  jx_coord-100097613_100097384       26\n",
       "3  jx_coord-100097617_100097642       55\n",
       "4  jx_coord-100097658_100102303       39"
      ]
     },
     "execution_count": 55,
     "metadata": {},
     "output_type": "execute_result"
    }
   ],
   "source": [
    "grp_len.head()"
   ]
  },
  {
   "cell_type": "code",
   "execution_count": 56,
   "metadata": {
    "ExecuteTime": {
     "end_time": "2022-02-16T17:22:11.679414Z",
     "start_time": "2022-02-16T17:22:11.621179Z"
    }
   },
   "outputs": [],
   "source": [
    "# Counting tryptic\n",
    "grp_trypt = df[['coord', 'tryptic_seq']].groupby(['coord', 'tryptic_seq']).count().reset_index()\n",
    "\n",
    "grp_trypt = grp_trypt.groupby(['coord']).count().reset_index()"
   ]
  },
  {
   "cell_type": "code",
   "execution_count": 57,
   "metadata": {
    "ExecuteTime": {
     "end_time": "2022-02-16T17:22:12.522242Z",
     "start_time": "2022-02-16T17:22:12.461117Z"
    }
   },
   "outputs": [],
   "source": [
    "# Counting the number of peptides right \n",
    "grp_peptides = df[['coord', 'seq']].groupby(['coord', 'seq']).count().reset_index()\n",
    "grp_peptides = grp_peptides.groupby(['coord']).count().reset_index()"
   ]
  },
  {
   "cell_type": "code",
   "execution_count": 58,
   "metadata": {
    "ExecuteTime": {
     "end_time": "2022-02-16T17:22:12.941960Z",
     "start_time": "2022-02-16T17:22:12.908517Z"
    }
   },
   "outputs": [
    {
     "name": "stderr",
     "output_type": "stream",
     "text": [
      "/cluster/home/prelotla/software/anaconda3/envs/myimmuno3_light/lib/python3.8/site-packages/pandas/core/indexing.py:670: SettingWithCopyWarning: \n",
      "A value is trying to be set on a copy of a slice from a DataFrame\n",
      "\n",
      "See the caveats in the documentation: https://pandas.pydata.org/pandas-docs/stable/user_guide/indexing.html#returning-a-view-versus-a-copy\n",
      "  iloc._setitem_with_indexer(indexer, value)\n"
     ]
    }
   ],
   "source": [
    "# Merging \n",
    "df_plot = grp_trypt.merge(grp_peptides, on = 'coord', how = 'outer')\n",
    "\n",
    "df_plot['tryptic_seq'] = df_plot['tryptic_seq'].fillna(0)\n",
    "df_plot = df_plot.merge(grp_len, on = 'coord', how = 'outer')\n",
    "\n",
    "df_plot['has_tryptic'] = 0\n",
    "df_plot['has_tryptic'].loc[df_plot['tryptic_seq'] > 0 ] = 1 "
   ]
  },
  {
   "cell_type": "code",
   "execution_count": 59,
   "metadata": {
    "ExecuteTime": {
     "end_time": "2022-02-16T17:22:13.621939Z",
     "start_time": "2022-02-16T17:22:13.604337Z"
    }
   },
   "outputs": [
    {
     "data": {
      "text/html": [
       "<div>\n",
       "<style scoped>\n",
       "    .dataframe tbody tr th:only-of-type {\n",
       "        vertical-align: middle;\n",
       "    }\n",
       "\n",
       "    .dataframe tbody tr th {\n",
       "        vertical-align: top;\n",
       "    }\n",
       "\n",
       "    .dataframe thead th {\n",
       "        text-align: right;\n",
       "    }\n",
       "</style>\n",
       "<table border=\"1\" class=\"dataframe\">\n",
       "  <thead>\n",
       "    <tr style=\"text-align: right;\">\n",
       "      <th></th>\n",
       "      <th>coord</th>\n",
       "      <th>tryptic_seq</th>\n",
       "      <th>seq</th>\n",
       "      <th>len_pep</th>\n",
       "      <th>has_tryptic</th>\n",
       "    </tr>\n",
       "  </thead>\n",
       "  <tbody>\n",
       "    <tr>\n",
       "      <th>0</th>\n",
       "      <td>jx_coord-100030375_100033304</td>\n",
       "      <td>1.0</td>\n",
       "      <td>1</td>\n",
       "      <td>323</td>\n",
       "      <td>1</td>\n",
       "    </tr>\n",
       "    <tr>\n",
       "      <th>1</th>\n",
       "      <td>jx_coord-1000469_997804</td>\n",
       "      <td>1.0</td>\n",
       "      <td>1</td>\n",
       "      <td>201</td>\n",
       "      <td>1</td>\n",
       "    </tr>\n",
       "    <tr>\n",
       "      <th>2</th>\n",
       "      <td>jx_coord-100097617_100097642</td>\n",
       "      <td>1.0</td>\n",
       "      <td>1</td>\n",
       "      <td>55</td>\n",
       "      <td>1</td>\n",
       "    </tr>\n",
       "    <tr>\n",
       "      <th>3</th>\n",
       "      <td>jx_coord-100097693_100097628</td>\n",
       "      <td>1.0</td>\n",
       "      <td>1</td>\n",
       "      <td>43</td>\n",
       "      <td>1</td>\n",
       "    </tr>\n",
       "    <tr>\n",
       "      <th>4</th>\n",
       "      <td>jx_coord-100098140_100097948</td>\n",
       "      <td>1.0</td>\n",
       "      <td>1</td>\n",
       "      <td>46</td>\n",
       "      <td>1</td>\n",
       "    </tr>\n",
       "  </tbody>\n",
       "</table>\n",
       "</div>"
      ],
      "text/plain": [
       "                          coord  tryptic_seq  seq  len_pep  has_tryptic\n",
       "0  jx_coord-100030375_100033304          1.0    1      323            1\n",
       "1       jx_coord-1000469_997804          1.0    1      201            1\n",
       "2  jx_coord-100097617_100097642          1.0    1       55            1\n",
       "3  jx_coord-100097693_100097628          1.0    1       43            1\n",
       "4  jx_coord-100098140_100097948          1.0    1       46            1"
      ]
     },
     "execution_count": 59,
     "metadata": {},
     "output_type": "execute_result"
    }
   ],
   "source": [
    "df_plot.head()"
   ]
  },
  {
   "cell_type": "code",
   "execution_count": 132,
   "metadata": {
    "ExecuteTime": {
     "end_time": "2022-02-16T18:25:45.821746Z",
     "start_time": "2022-02-16T18:25:45.816893Z"
    }
   },
   "outputs": [],
   "source": [
    "save = True"
   ]
  },
  {
   "cell_type": "code",
   "execution_count": 133,
   "metadata": {
    "ExecuteTime": {
     "end_time": "2022-02-16T18:25:47.500580Z",
     "start_time": "2022-02-16T18:25:46.157716Z"
    }
   },
   "outputs": [
    {
     "name": "stdout",
     "output_type": "stream",
     "text": [
      "save to /cluster/work/grlab/projects/projects2020_OHSU/plots/tryptic_plots/v2_v2.5f0752a_conf2_BRCA_TCGA-BH-A18V-01A-11R-A12D-07_G_TrypticPlotLen.pdf\n"
     ]
    },
    {
     "data": {
      "image/png": "[encoded data removed]",
      "text/plain": [
       "<Figure size 216x360 with 1 Axes>"
      ]
     },
     "metadata": {
      "needs_background": "light"
     },
     "output_type": "display_data"
    }
   ],
   "source": [
    "plt.figure(figsize = (3, 5 ))\n",
    "cmap = plt.cm.coolwarm\n",
    "\n",
    "sns.boxplot(data = df, y = 'len_pep', x = 'has_tryptic', palette = 'YlGn') # also version in log \n",
    "plt.yscale('log')\n",
    "plt.ylabel('Amino acid length of bi-exon peptide')\n",
    "plt.xlabel('Bi-exon peptide has generated a valid* tryptic peptide')\n",
    "if save:\n",
    "    save_path = os.path.join(plot_dir, \n",
    "                            '{}_{}_{}_TrypticPlotLen.pdf'.format(base_plot, \n",
    "                             sample, pipeline ))  \n",
    "    print(\"save to {}\".format(save_path))\n",
    "    plt.savefig(save_path, bbox_inches='tight')\n",
    "plt.show()"
   ]
  },
  {
   "cell_type": "code",
   "execution_count": null,
   "metadata": {
    "ExecuteTime": {
     "end_time": "2022-02-16T17:21:21.687639Z",
     "start_time": "2022-02-16T17:21:21.580Z"
    }
   },
   "outputs": [],
   "source": [
    "print([10**1, 10**1.1, 10**1.2, 10** 1.3, 10** 1.4, 10**1.5, 10**1.6, 10**1.7, 10**1.8, 10**1.9])"
   ]
  },
  {
   "cell_type": "code",
   "execution_count": 135,
   "metadata": {
    "ExecuteTime": {
     "end_time": "2022-02-16T18:25:57.085623Z",
     "start_time": "2022-02-16T18:25:56.833009Z"
    }
   },
   "outputs": [
    {
     "name": "stdout",
     "output_type": "stream",
     "text": [
      "save to /cluster/work/grlab/projects/projects2020_OHSU/plots/tryptic_plots/v2_v2.5f0752a_conf2_BRCA_TCGA-BH-A18V-01A-11R-A12D-07_G_TrypticPlotHist.pdf\n"
     ]
    },
    {
     "data": {
      "image/png": "[encoded data removed]",
      "text/plain": [
       "<Figure size 216x360 with 1 Axes>"
      ]
     },
     "metadata": {
      "needs_background": "light"
     },
     "output_type": "display_data"
    }
   ],
   "source": [
    "plt.figure(figsize = (3, 5 ))\n",
    "cmap = plt.cm.YlGn\n",
    "colors = [cmap(0.4), cmap(0.75)]\n",
    "ax = plt.bar(*np.unique(df_plot['has_tryptic'], return_counts=True), color = colors, \n",
    "       edgecolor = 'k', linewidth=1)\n",
    "plt.xticks([0,1])\n",
    "plt.ylabel('Number of junctions (genomic positions)')\n",
    "plt.xlabel('Generated a valid* tryptic peptide')\n",
    "if save:\n",
    "    save_path = os.path.join(plot_dir, \n",
    "                            '{}_{}_{}_TrypticPlotHist.pdf'.format(base_plot, \n",
    "                             sample, pipeline ))  \n",
    "    print(\"save to {}\".format(save_path))\n",
    "    plt.savefig(save_path, bbox_inches='tight')\n",
    "plt.show()"
   ]
  },
  {
   "cell_type": "markdown",
   "metadata": {},
   "source": [
    "# Checks from Cancer Cell Paper "
   ]
  },
  {
   "cell_type": "code",
   "execution_count": null,
   "metadata": {
    "ExecuteTime": {
     "end_time": "2022-02-16T17:21:21.690258Z",
     "start_time": "2022-02-16T17:21:21.586Z"
    }
   },
   "outputs": [],
   "source": [
    "asn_exp = pd.read_csv('/cluster/work/grlab/projects/TCGA/PanCanAtlas/peptides_neoantigen/analysis_pancan/ccell_rerun_2018/output/expression_distribution/asns/TCGA-BH-A18V.asns_kmers_annotated.gtex.tsv', sep = '\\t')"
   ]
  },
  {
   "cell_type": "code",
   "execution_count": null,
   "metadata": {
    "ExecuteTime": {
     "end_time": "2022-02-16T17:21:21.691557Z",
     "start_time": "2022-02-16T17:21:21.589Z"
    }
   },
   "outputs": [],
   "source": [
    "asn_exp.loc[(asn_exp['PEPTIDE_TYPE'] == 'reference') &\\\n",
    "         (asn_exp['JUNC_COUNT'] > 0 ) &\\\n",
    "       (asn_exp['IN_CPTAC'] == 1), :]"
   ]
  },
  {
   "cell_type": "code",
   "execution_count": null,
   "metadata": {
    "ExecuteTime": {
     "end_time": "2022-02-16T17:21:21.692861Z",
     "start_time": "2022-02-16T17:21:21.591Z"
    }
   },
   "outputs": [],
   "source": [
    "asn_final = pd.read_csv('/cluster/work/grlab/projects/TCGA/PanCanAtlas/peptides_neoantigen/analysis_pancan/ccell_rerun_2018/output/cptac_mhc/filtered/filtered_for_new_junctions/sites/expression_filtered/TCGA-BH-A18V.gtex.unique_novel_junction_binders.2.0.annotated.sites.expressed.txt', '\\t')"
   ]
  },
  {
   "cell_type": "code",
   "execution_count": 32,
   "metadata": {
    "ExecuteTime": {
     "end_time": "2022-02-16T17:21:21.801591Z",
     "start_time": "2022-02-16T17:21:21.794351Z"
    }
   },
   "outputs": [
    {
     "ename": "NameError",
     "evalue": "name 'asn_final' is not defined",
     "output_type": "error",
     "traceback": [
      "\u001b[0;31m---------------------------------------------------------------------------\u001b[0m",
      "\u001b[0;31mNameError\u001b[0m                                 Traceback (most recent call last)",
      "\u001b[0;32m<ipython-input-32-9377fd574b0d>\u001b[0m in \u001b[0;36m<module>\u001b[0;34m\u001b[0m\n\u001b[0;32m----> 1\u001b[0;31m \u001b[0masn_final\u001b[0m\u001b[0;34m.\u001b[0m\u001b[0mhead\u001b[0m\u001b[0;34m(\u001b[0m\u001b[0;34m)\u001b[0m\u001b[0;34m\u001b[0m\u001b[0;34m\u001b[0m\u001b[0m\n\u001b[0m",
      "\u001b[0;31mNameError\u001b[0m: name 'asn_final' is not defined"
     ]
    }
   ],
   "source": [
    "asn_final.head()"
   ]
  },
  {
   "cell_type": "code",
   "execution_count": null,
   "metadata": {
    "ExecuteTime": {
     "end_time": "2022-02-16T17:21:21.803116Z",
     "start_time": "2022-02-16T17:21:21.595Z"
    }
   },
   "outputs": [],
   "source": [
    "# Prensent one sample in the power point = the A0 -- plot from yesterday also in A 0 "
   ]
  }
 ],
 "metadata": {
  "kernelspec": {
   "display_name": "myimmuno3_light",
   "language": "python",
   "name": "myimmuno3_light"
  },
  "language_info": {
   "codemirror_mode": {
    "name": "ipython",
    "version": 3
   },
   "file_extension": ".py",
   "mimetype": "text/x-python",
   "name": "python",
   "nbconvert_exporter": "python",
   "pygments_lexer": "ipython3",
   "version": "3.8.5"
  }
 },
 "nbformat": 4,
 "nbformat_minor": 4
}
