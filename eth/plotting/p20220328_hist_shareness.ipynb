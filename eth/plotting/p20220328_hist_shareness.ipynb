{
 "cells": [
  {
   "cell_type": "code",
   "execution_count": 180,
   "metadata": {
    "ExecuteTime": {
     "end_time": "2022-03-28T14:00:18.075632Z",
     "start_time": "2022-03-28T14:00:18.070435Z"
    }
   },
   "outputs": [],
   "source": [
    "import matplotlib.pyplot as plt \n",
    "import numpy as np \n",
    "import pandas as pd \n",
    "import glob \n",
    "import seaborn as sns \n",
    "import os"
   ]
  },
  {
   "cell_type": "code",
   "execution_count": 13,
   "metadata": {
    "ExecuteTime": {
     "end_time": "2022-03-28T09:57:10.569772Z",
     "start_time": "2022-03-28T09:57:10.557712Z"
    }
   },
   "outputs": [],
   "source": [
    "s_path = glob.glob('/cluster/work/grlab/projects/projects2020_OHSU/peptides_generation/v2_v2.5f0752a_conf2_annotFrame_cap0_runs_pya0.17.1/TCGA_Breast_1102/filter_TCGA-BH-A18V-01A-11R-A12D-07.all/commit_d4aee54_a_interm_cancer/interm_cancer_ref_combiExprCohortLim0.0Across1ExceptTCGABHA18V01A11RA12D07all.tsv/*part*')"
   ]
  },
  {
   "cell_type": "code",
   "execution_count": 19,
   "metadata": {
    "ExecuteTime": {
     "end_time": "2022-03-28T09:59:02.433745Z",
     "start_time": "2022-03-28T09:58:58.912269Z"
    }
   },
   "outputs": [],
   "source": [
    "shareness = []\n",
    "for path in s_path: \n",
    "    shareness.append(pd.read_csv(path, sep = '\\t', header = None))"
   ]
  },
  {
   "cell_type": "code",
   "execution_count": 20,
   "metadata": {
    "ExecuteTime": {
     "end_time": "2022-03-28T09:59:03.467226Z",
     "start_time": "2022-03-28T09:59:03.219272Z"
    }
   },
   "outputs": [],
   "source": [
    "shareness = pd.concat(shareness, axis = 0 )"
   ]
  },
  {
   "cell_type": "code",
   "execution_count": 22,
   "metadata": {
    "ExecuteTime": {
     "end_time": "2022-03-28T09:59:27.875905Z",
     "start_time": "2022-03-28T09:59:27.869189Z"
    }
   },
   "outputs": [],
   "source": [
    "shareness.columns = ['kmer', 'recurrence']"
   ]
  },
  {
   "cell_type": "code",
   "execution_count": 23,
   "metadata": {
    "ExecuteTime": {
     "end_time": "2022-03-28T09:59:31.076784Z",
     "start_time": "2022-03-28T09:59:31.061790Z"
    }
   },
   "outputs": [
    {
     "data": {
      "text/html": [
       "<div>\n",
       "<style scoped>\n",
       "    .dataframe tbody tr th:only-of-type {\n",
       "        vertical-align: middle;\n",
       "    }\n",
       "\n",
       "    .dataframe tbody tr th {\n",
       "        vertical-align: top;\n",
       "    }\n",
       "\n",
       "    .dataframe thead th {\n",
       "        text-align: right;\n",
       "    }\n",
       "</style>\n",
       "<table border=\"1\" class=\"dataframe\">\n",
       "  <thead>\n",
       "    <tr style=\"text-align: right;\">\n",
       "      <th></th>\n",
       "      <th>kmer</th>\n",
       "      <th>recurrence</th>\n",
       "    </tr>\n",
       "  </thead>\n",
       "  <tbody>\n",
       "    <tr>\n",
       "      <th>0</th>\n",
       "      <td>TCPSSQEPA</td>\n",
       "      <td>1</td>\n",
       "    </tr>\n",
       "    <tr>\n",
       "      <th>1</th>\n",
       "      <td>ATSLAAVVT</td>\n",
       "      <td>8</td>\n",
       "    </tr>\n",
       "    <tr>\n",
       "      <th>2</th>\n",
       "      <td>ALAGGCECD</td>\n",
       "      <td>18</td>\n",
       "    </tr>\n",
       "    <tr>\n",
       "      <th>3</th>\n",
       "      <td>AGGCECDNA</td>\n",
       "      <td>18</td>\n",
       "    </tr>\n",
       "    <tr>\n",
       "      <th>4</th>\n",
       "      <td>PDDFKGYGE</td>\n",
       "      <td>17</td>\n",
       "    </tr>\n",
       "  </tbody>\n",
       "</table>\n",
       "</div>"
      ],
      "text/plain": [
       "        kmer  recurrence\n",
       "0  TCPSSQEPA           1\n",
       "1  ATSLAAVVT           8\n",
       "2  ALAGGCECD          18\n",
       "3  AGGCECDNA          18\n",
       "4  PDDFKGYGE          17"
      ]
     },
     "execution_count": 23,
     "metadata": {},
     "output_type": "execute_result"
    }
   ],
   "source": [
    "shareness.head()\n"
   ]
  },
  {
   "cell_type": "code",
   "execution_count": 192,
   "metadata": {
    "ExecuteTime": {
     "end_time": "2022-03-28T14:14:03.754728Z",
     "start_time": "2022-03-28T14:14:01.742155Z"
    }
   },
   "outputs": [
    {
     "name": "stdout",
     "output_type": "stream",
     "text": [
      "save to /cluster/work/grlab/projects/projects2020_OHSU/plots/shareness/eth_TCGA-BH-A18V-01A-11R-A12D-07.all_hist_RecurrencePlot.pdf\n"
     ]
    },
    {
     "data": {
      "image/png": "[encoded data removed]",
      "text/plain": [
       "<Figure size 432x288 with 1 Axes>"
      ]
     },
     "metadata": {
      "needs_background": "light"
     },
     "output_type": "display_data"
    }
   ],
   "source": [
    "sns.histplot(data = shareness, x = 'recurrence')\n",
    "plt.title(f'ETH/ GP recurrence of k-mers before filtering of TCGA-BH-A18V-01A-11R-A12D-07.all \\n ')\n",
    "\n",
    "save_path = os.path.join(plot_dir, \n",
    "                    '{}_{}_{}_RecurrencePlot.pdf'.format(\n",
    "                     'eth', \n",
    "                     'TCGA-BH-A18V-01A-11R-A12D-07.all', \n",
    "                      'hist' )) \n",
    "if save:\n",
    "    print(\"save to {}\".format(save_path))\n",
    "    plt.savefig(save_path, bbox_inches='tight')"
   ]
  },
  {
   "cell_type": "code",
   "execution_count": 38,
   "metadata": {
    "ExecuteTime": {
     "end_time": "2022-03-28T10:09:57.343761Z",
     "start_time": "2022-03-28T10:09:57.312458Z"
    }
   },
   "outputs": [],
   "source": [
    "single = glob.glob('/cluster/work/grlab/projects/projects2020_OHSU/peptides_generation/v2_v2.5f0752a_conf2_annotFrame_cap0_runs_pya0.17.1/TCGA_Breast_1102/filter_TCGA-BH-A18V-01A-11R-A12D-07.all/commit_d4aee54_GTEXcore/G_TCGA-BH-A18V-01A-11R-A12D-07.all_ref_SampleLim2.0CohortLim0.0Across1000_FiltNormalsGtexcoreCohortlim0.0Across0_FiltUniprot.tsv/*part*')[0]\n",
    "\n",
    "single = pd.read_csv(single, sep = '\\t')"
   ]
  },
  {
   "cell_type": "code",
   "execution_count": 37,
   "metadata": {
    "ExecuteTime": {
     "end_time": "2022-03-28T10:09:54.755025Z",
     "start_time": "2022-03-28T10:09:54.724286Z"
    }
   },
   "outputs": [],
   "source": [
    "single = pd.read_csv(single, sep = '\\t')"
   ]
  },
  {
   "cell_type": "code",
   "execution_count": 39,
   "metadata": {
    "ExecuteTime": {
     "end_time": "2022-03-28T10:09:58.426358Z",
     "start_time": "2022-03-28T10:09:58.408390Z"
    }
   },
   "outputs": [
    {
     "data": {
      "text/html": [
       "<div>\n",
       "<style scoped>\n",
       "    .dataframe tbody tr th:only-of-type {\n",
       "        vertical-align: middle;\n",
       "    }\n",
       "\n",
       "    .dataframe tbody tr th {\n",
       "        vertical-align: top;\n",
       "    }\n",
       "\n",
       "    .dataframe thead th {\n",
       "        text-align: right;\n",
       "    }\n",
       "</style>\n",
       "<table border=\"1\" class=\"dataframe\">\n",
       "  <thead>\n",
       "    <tr style=\"text-align: right;\">\n",
       "      <th></th>\n",
       "      <th>kmer</th>\n",
       "      <th>TCGABHA18V01A11RA12D07all</th>\n",
       "      <th>kmer_IL_eq</th>\n",
       "    </tr>\n",
       "  </thead>\n",
       "  <tbody>\n",
       "    <tr>\n",
       "      <th>0</th>\n",
       "      <td>AAGDDENHN</td>\n",
       "      <td>465.0</td>\n",
       "      <td>AAGDDENHN</td>\n",
       "    </tr>\n",
       "    <tr>\n",
       "      <th>1</th>\n",
       "      <td>AAMGIKSCA</td>\n",
       "      <td>2188.0</td>\n",
       "      <td>AAMGLKSCA</td>\n",
       "    </tr>\n",
       "    <tr>\n",
       "      <th>2</th>\n",
       "      <td>AAPGQHLQA</td>\n",
       "      <td>49.0</td>\n",
       "      <td>AAPGQHLQA</td>\n",
       "    </tr>\n",
       "    <tr>\n",
       "      <th>3</th>\n",
       "      <td>AGNIWILSV</td>\n",
       "      <td>122.0</td>\n",
       "      <td>AGNLWLLSV</td>\n",
       "    </tr>\n",
       "    <tr>\n",
       "      <th>4</th>\n",
       "      <td>AGPDWIIAI</td>\n",
       "      <td>30.0</td>\n",
       "      <td>AGPDWLLAL</td>\n",
       "    </tr>\n",
       "  </tbody>\n",
       "</table>\n",
       "</div>"
      ],
      "text/plain": [
       "        kmer  TCGABHA18V01A11RA12D07all kmer_IL_eq\n",
       "0  AAGDDENHN                      465.0  AAGDDENHN\n",
       "1  AAMGIKSCA                     2188.0  AAMGLKSCA\n",
       "2  AAPGQHLQA                       49.0  AAPGQHLQA\n",
       "3  AGNIWILSV                      122.0  AGNLWLLSV\n",
       "4  AGPDWIIAI                       30.0  AGPDWLLAL"
      ]
     },
     "execution_count": 39,
     "metadata": {},
     "output_type": "execute_result"
    }
   ],
   "source": [
    "single.head()"
   ]
  },
  {
   "cell_type": "code",
   "execution_count": 40,
   "metadata": {
    "ExecuteTime": {
     "end_time": "2022-03-28T10:10:34.817812Z",
     "start_time": "2022-03-28T10:10:27.857560Z"
    }
   },
   "outputs": [],
   "source": [
    "single = pd.merge(single, shareness, how = 'left', on = 'kmer')"
   ]
  },
  {
   "cell_type": "code",
   "execution_count": 41,
   "metadata": {
    "ExecuteTime": {
     "end_time": "2022-03-28T10:10:36.382482Z",
     "start_time": "2022-03-28T10:10:36.323340Z"
    }
   },
   "outputs": [
    {
     "data": {
      "text/html": [
       "<div>\n",
       "<style scoped>\n",
       "    .dataframe tbody tr th:only-of-type {\n",
       "        vertical-align: middle;\n",
       "    }\n",
       "\n",
       "    .dataframe tbody tr th {\n",
       "        vertical-align: top;\n",
       "    }\n",
       "\n",
       "    .dataframe thead th {\n",
       "        text-align: right;\n",
       "    }\n",
       "</style>\n",
       "<table border=\"1\" class=\"dataframe\">\n",
       "  <thead>\n",
       "    <tr style=\"text-align: right;\">\n",
       "      <th></th>\n",
       "      <th>kmer</th>\n",
       "      <th>TCGABHA18V01A11RA12D07all</th>\n",
       "      <th>kmer_IL_eq</th>\n",
       "      <th>recurrence</th>\n",
       "    </tr>\n",
       "  </thead>\n",
       "  <tbody>\n",
       "    <tr>\n",
       "      <th>0</th>\n",
       "      <td>AAGDDENHN</td>\n",
       "      <td>465.0</td>\n",
       "      <td>AAGDDENHN</td>\n",
       "      <td>1101</td>\n",
       "    </tr>\n",
       "    <tr>\n",
       "      <th>1</th>\n",
       "      <td>AAMGIKSCA</td>\n",
       "      <td>2188.0</td>\n",
       "      <td>AAMGLKSCA</td>\n",
       "      <td>1100</td>\n",
       "    </tr>\n",
       "    <tr>\n",
       "      <th>2</th>\n",
       "      <td>AAPGQHLQA</td>\n",
       "      <td>49.0</td>\n",
       "      <td>AAPGQHLQA</td>\n",
       "      <td>1101</td>\n",
       "    </tr>\n",
       "    <tr>\n",
       "      <th>3</th>\n",
       "      <td>AGNIWILSV</td>\n",
       "      <td>122.0</td>\n",
       "      <td>AGNLWLLSV</td>\n",
       "      <td>1067</td>\n",
       "    </tr>\n",
       "    <tr>\n",
       "      <th>4</th>\n",
       "      <td>AGPDWIIAI</td>\n",
       "      <td>30.0</td>\n",
       "      <td>AGPDWLLAL</td>\n",
       "      <td>1080</td>\n",
       "    </tr>\n",
       "  </tbody>\n",
       "</table>\n",
       "</div>"
      ],
      "text/plain": [
       "        kmer  TCGABHA18V01A11RA12D07all kmer_IL_eq  recurrence\n",
       "0  AAGDDENHN                      465.0  AAGDDENHN        1101\n",
       "1  AAMGIKSCA                     2188.0  AAMGLKSCA        1100\n",
       "2  AAPGQHLQA                       49.0  AAPGQHLQA        1101\n",
       "3  AGNIWILSV                      122.0  AGNLWLLSV        1067\n",
       "4  AGPDWIIAI                       30.0  AGPDWLLAL        1080"
      ]
     },
     "execution_count": 41,
     "metadata": {},
     "output_type": "execute_result"
    }
   ],
   "source": [
    "single.head()"
   ]
  },
  {
   "cell_type": "code",
   "execution_count": 42,
   "metadata": {
    "ExecuteTime": {
     "end_time": "2022-03-28T10:10:49.645846Z",
     "start_time": "2022-03-28T10:10:48.088490Z"
    }
   },
   "outputs": [
    {
     "data": {
      "text/plain": [
       "<AxesSubplot:xlabel='recurrence', ylabel='Count'>"
      ]
     },
     "execution_count": 42,
     "metadata": {},
     "output_type": "execute_result"
    },
    {
     "data": {
      "image/png": "[encoded data removed]",
      "text/plain": [
       "<Figure size 432x288 with 1 Axes>"
      ]
     },
     "metadata": {
      "needs_background": "light"
     },
     "output_type": "display_data"
    }
   ],
   "source": [
    "sns.histplot(data = single, x = 'recurrence')"
   ]
  },
  {
   "cell_type": "code",
   "execution_count": null,
   "metadata": {},
   "outputs": [],
   "source": [
    "#We have 1102 candidates "
   ]
  },
  {
   "cell_type": "code",
   "execution_count": 45,
   "metadata": {
    "ExecuteTime": {
     "end_time": "2022-03-28T10:25:59.603748Z",
     "start_time": "2022-03-28T10:25:59.403252Z"
    }
   },
   "outputs": [],
   "source": [
    "test_kmers = single.loc[single['recurrence'] == 1101, 'kmer']"
   ]
  },
  {
   "cell_type": "code",
   "execution_count": 48,
   "metadata": {
    "ExecuteTime": {
     "end_time": "2022-03-28T10:35:50.782971Z",
     "start_time": "2022-03-28T10:35:50.563383Z"
    }
   },
   "outputs": [
    {
     "data": {
      "text/plain": [
       "0     AAGDDENHN\n",
       "2     AAPGQHLQA\n",
       "5     AHTCERIIP\n",
       "7     AKLPIYGYV\n",
       "10    AMNPVEHPR\n",
       "Name: kmer, dtype: object"
      ]
     },
     "execution_count": 48,
     "metadata": {},
     "output_type": "execute_result"
    }
   ],
   "source": [
    "test_kmers.head()\n"
   ]
  },
  {
   "cell_type": "code",
   "execution_count": 47,
   "metadata": {
    "ExecuteTime": {
     "end_time": "2022-03-28T10:26:27.232507Z",
     "start_time": "2022-03-28T10:26:27.198944Z"
    }
   },
   "outputs": [],
   "source": [
    "test_kmers.to_csv('/cluster/work/grlab/projects/projects2020_OHSU/peptides_generation/v2_v2.5f0752a_conf2_annotFrame_cap0_runs_pya0.17.1/TCGA_Breast_1102/shareness/TCGA-BH-A18V-01A-11R-A12D-07_1101shared_filtered.tsv', index = None, header = None)"
   ]
  },
  {
   "cell_type": "code",
   "execution_count": null,
   "metadata": {},
   "outputs": [],
   "source": [
    "# for kmer in $(cut -f1 shareness/TCGA-BH-A18V-01A-11R-A12D-07_1101shared_filtered.tsv) ; do echo ${kmer},$(grep $kmer cohort_mutNone/meta_peptide_pooled_pq.tsv) >> shareness/TCGA-BH-A18V-01A-11R-A12D-07_1101shared_filtered_metadata.tsv; done"
   ]
  },
  {
   "cell_type": "code",
   "execution_count": 182,
   "metadata": {
    "ExecuteTime": {
     "end_time": "2022-03-28T14:02:09.199775Z",
     "start_time": "2022-03-28T14:02:09.191759Z"
    }
   },
   "outputs": [],
   "source": [
    "save = True\n",
    "plot_dir = '/cluster/work/grlab/projects/projects2020_OHSU/plots'\n",
    "plot_dir = os.path.join(plot_dir, 'shareness')\n",
    "#os.mkdir(plot_dir)\n",
    "base_plot = 'v2_v2.5f0752a_conf2_BRCA'\n",
    "global plot_dir\n",
    "global base_plot"
   ]
  },
  {
   "cell_type": "code",
   "execution_count": 100,
   "metadata": {
    "ExecuteTime": {
     "end_time": "2022-03-28T13:33:33.684646Z",
     "start_time": "2022-03-28T13:33:33.680842Z"
    }
   },
   "outputs": [],
   "source": [
    "ohsu_path = '/cluster/work/grlab/projects/projects2020_OHSU/peptides_generation/v2_v2.5f0752a_conf2_annotFrame_cap0_runs_pya0.17.1/TCGA_Breast_1102/shareness/ohsu_shared_test2'\n",
    "\n",
    "ohsu = pd.read_csv(ohsu_path, sep = ',')\n",
    "\n",
    "ohsu.head()\n",
    "\n",
    "ohsu['normal_cohort_id'].unique()\n",
    "\n",
    "eth_path = '/cluster/work/grlab/projects/projects2020_OHSU/peptides_generation/v2_v2.5f0752a_conf2_annotFrame_cap0_runs_pya0.17.1/TCGA_Breast_1102/shareness/eth_shared_test2'\n",
    "\n",
    "eth = pd.read_csv(eth_path)\n",
    "\n",
    "eth.head()"
   ]
  },
  {
   "cell_type": "code",
   "execution_count": 183,
   "metadata": {
    "ExecuteTime": {
     "end_time": "2022-03-28T14:02:17.614523Z",
     "start_time": "2022-03-28T14:02:17.603111Z"
    }
   },
   "outputs": [],
   "source": [
    "def plot_range(x, plot_samp_sup_eth, plot_samp_sup_ohsu, save):\n",
    "    plt.scatter(plot_samp_sup_eth[x], \n",
    "            plot_samp_sup_eth['Filter_Sample_Cohort_CohortNormal_Uniprot'], color = 'green')\n",
    "    plt.title(f'ETH/ GP Number of kmers after filtering of TCGA-BH-A18V-01A-11R-A12D-07.all')\n",
    "    plt.ylabel(f'Number of kmers after filtering')\n",
    "    plt.xlabel(f'varying {x}, holding other parameters constant')\n",
    "    save_path = os.path.join(plot_dir, \n",
    "                        '{}_{}_{}_SharenessPlot.pdf'.format(\n",
    "                         'eth', \n",
    "                         'TCGA-BH-A18V-01A-11R-A12D-07.all', \n",
    "                          x )) \n",
    "    if save:\n",
    "        print(\"save to {}\".format(save_path))\n",
    "        plt.savefig(save_path, bbox_inches='tight')\n",
    "    plt.show()\n",
    "    \n",
    "    plt.scatter(plot_samp_sup_ohsu[x], \n",
    "        plot_samp_sup_ohsu['Filter_Sample_Cohort_CohortBackground_Uniprot'], color = 'magenta')\n",
    "    plt.title(f'OHSU/JP Number of kmers after filtering of TCGA-BH-A18V-01A-11R-A12D-07.all')\n",
    "    plt.ylabel(f'Number of kmers after filtering')\n",
    "    plt.xlabel(f'varying {x}, holding other parameters constant')\n",
    "    save_path = os.path.join(plot_dir, \n",
    "                        '{}_{}_{}_SharenessPlot.pdf'.format(\n",
    "                         'ohsu', \n",
    "                         'TCGA-BH-A18V-01A-11R-A12D-07.all', \n",
    "                          x )) \n",
    "    if save:\n",
    "        print(\"save to {}\".format(save_path))\n",
    "        plt.savefig(save_path, bbox_inches='tight')\n",
    "    plt.show()"
   ]
  },
  {
   "cell_type": "code",
   "execution_count": 184,
   "metadata": {
    "ExecuteTime": {
     "end_time": "2022-03-28T14:02:18.243230Z",
     "start_time": "2022-03-28T14:02:18.202483Z"
    }
   },
   "outputs": [],
   "source": [
    "plot_samp_sup_eth = eth.loc[(eth['min_sample_reads'] == 2) & \n",
    "                            (eth['reads_per_cohort_sample'] == 0) \n",
    "        &( eth['#_normal_samples_allowed'] == 0) & \n",
    "                            (eth['normal_cohort_id'] == 'Gtexcore')\n",
    "        & (eth['reads_per_normal_sample'] == 0) ]"
   ]
  },
  {
   "cell_type": "code",
   "execution_count": 185,
   "metadata": {
    "ExecuteTime": {
     "end_time": "2022-03-28T14:02:18.663727Z",
     "start_time": "2022-03-28T14:02:18.652833Z"
    }
   },
   "outputs": [],
   "source": [
    "plot_samp_sup_ohsu = ohsu.loc[(ohsu['min_sample_reads'] == 2) & \n",
    "                              (ohsu['reads_per_cohort_sample'] == 0) \n",
    "                            &( ohsu['#_normal_samples_allowed'] == 0) \n",
    "                                & (ohsu['normal_cohort_id'] == 'core_GTEx')\n",
    "                                & (ohsu['reads_per_normal_sample'] == 0) ]"
   ]
  },
  {
   "cell_type": "code",
   "execution_count": 186,
   "metadata": {
    "ExecuteTime": {
     "end_time": "2022-03-28T14:02:20.264729Z",
     "start_time": "2022-03-28T14:02:19.100760Z"
    }
   },
   "outputs": [
    {
     "name": "stdout",
     "output_type": "stream",
     "text": [
      "save to /cluster/work/grlab/projects/projects2020_OHSU/plots/shareness/eth_TCGA-BH-A18V-01A-11R-A12D-07.all_#_of_cohort_samples_SharenessPlot.pdf\n"
     ]
    },
    {
     "data": {
      "image/png": "[encoded data removed]",
      "text/plain": [
       "<Figure size 432x288 with 1 Axes>"
      ]
     },
     "metadata": {
      "needs_background": "light"
     },
     "output_type": "display_data"
    },
    {
     "name": "stdout",
     "output_type": "stream",
     "text": [
      "save to /cluster/work/grlab/projects/projects2020_OHSU/plots/shareness/ohsu_TCGA-BH-A18V-01A-11R-A12D-07.all_#_of_cohort_samples_SharenessPlot.pdf\n"
     ]
    },
    {
     "data": {
      "image/png": "[encoded data removed]",
      "text/plain": [
       "<Figure size 432x288 with 1 Axes>"
      ]
     },
     "metadata": {
      "needs_background": "light"
     },
     "output_type": "display_data"
    }
   ],
   "source": [
    "plot_range('#_of_cohort_samples', plot_samp_sup_eth, plot_samp_sup_ohsu, save)"
   ]
  },
  {
   "cell_type": "code",
   "execution_count": 187,
   "metadata": {
    "ExecuteTime": {
     "end_time": "2022-03-28T14:05:53.613534Z",
     "start_time": "2022-03-28T14:05:53.475187Z"
    }
   },
   "outputs": [],
   "source": [
    "plot_samp_sup_eth = eth.loc[(eth['#_of_cohort_samples'] == 2) & (eth['reads_per_cohort_sample'] == 0) \n",
    "        &( eth['#_normal_samples_allowed'] == 0) & (eth['normal_cohort_id'] == 'Gtexcore')\n",
    "        & (eth['reads_per_normal_sample'] == 0) ]"
   ]
  },
  {
   "cell_type": "code",
   "execution_count": 188,
   "metadata": {
    "ExecuteTime": {
     "end_time": "2022-03-28T14:05:53.632746Z",
     "start_time": "2022-03-28T14:05:53.625250Z"
    }
   },
   "outputs": [],
   "source": [
    "plot_samp_sup_ohsu = ohsu.loc[(ohsu['#_of_cohort_samples'] == 2) & \n",
    "                              (ohsu['reads_per_cohort_sample'] == 0) \n",
    "                            &( ohsu['#_normal_samples_allowed'] == 0) \n",
    "                                & (ohsu['normal_cohort_id'] == 'core_GTEx')\n",
    "                                & (ohsu['reads_per_normal_sample'] == 0) ]"
   ]
  },
  {
   "cell_type": "code",
   "execution_count": 189,
   "metadata": {
    "ExecuteTime": {
     "end_time": "2022-03-28T14:05:54.675581Z",
     "start_time": "2022-03-28T14:05:53.636269Z"
    }
   },
   "outputs": [
    {
     "name": "stdout",
     "output_type": "stream",
     "text": [
      "save to /cluster/work/grlab/projects/projects2020_OHSU/plots/shareness/eth_TCGA-BH-A18V-01A-11R-A12D-07.all_min_sample_reads_SharenessPlot.pdf\n"
     ]
    },
    {
     "data": {
      "image/png": "[encoded data removed]",
      "text/plain": [
       "<Figure size 432x288 with 1 Axes>"
      ]
     },
     "metadata": {
      "needs_background": "light"
     },
     "output_type": "display_data"
    },
    {
     "name": "stdout",
     "output_type": "stream",
     "text": [
      "save to /cluster/work/grlab/projects/projects2020_OHSU/plots/shareness/ohsu_TCGA-BH-A18V-01A-11R-A12D-07.all_min_sample_reads_SharenessPlot.pdf\n"
     ]
    },
    {
     "data": {
      "image/png": "[encoded data removed]",
      "text/plain": [
       "<Figure size 432x288 with 1 Axes>"
      ]
     },
     "metadata": {
      "needs_background": "light"
     },
     "output_type": "display_data"
    }
   ],
   "source": [
    "plot_range('min_sample_reads', plot_samp_sup_eth, plot_samp_sup_ohsu, save)"
   ]
  },
  {
   "cell_type": "code",
   "execution_count": null,
   "metadata": {},
   "outputs": [],
   "source": []
  }
 ],
 "metadata": {
  "kernelspec": {
   "display_name": "myimmuno3_light",
   "language": "python",
   "name": "myimmuno3_light"
  },
  "language_info": {
   "codemirror_mode": {
    "name": "ipython",
    "version": 3
   },
   "file_extension": ".py",
   "mimetype": "text/x-python",
   "name": "python",
   "nbconvert_exporter": "python",
   "pygments_lexer": "ipython3",
   "version": "3.8.5"
  }
 },
 "nbformat": 4,
 "nbformat_minor": 4
}
