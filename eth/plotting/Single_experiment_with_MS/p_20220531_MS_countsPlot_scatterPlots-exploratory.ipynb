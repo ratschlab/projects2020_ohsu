{
 "cells": [
  {
   "cell_type": "code",
   "execution_count": 1,
   "metadata": {
    "ExecuteTime": {
     "end_time": "2022-05-31T12:23:25.430058Z",
     "start_time": "2022-05-31T12:23:17.406042Z"
    }
   },
   "outputs": [],
   "source": [
    "import os \n",
    "import pandas as pd\n",
    "from collections import defaultdict\n",
    "import numpy as np \n",
    "import glob\n",
    "import matplotlib.pyplot as plt\n",
    "import seaborn as sns"
   ]
  },
  {
   "cell_type": "markdown",
   "metadata": {},
   "source": [
    "# Counting Plot"
   ]
  },
  {
   "cell_type": "code",
   "execution_count": 105,
   "metadata": {
    "ExecuteTime": {
     "end_time": "2022-05-31T13:32:16.799204Z",
     "start_time": "2022-05-31T13:32:10.498716Z"
    }
   },
   "outputs": [
    {
     "data": {
      "text/plain": [
       "'TCGA-BH-A18V-01A-11R-A12D-07.all'"
      ]
     },
     "metadata": {},
     "output_type": "display_data"
    },
    {
     "name": "stderr",
     "output_type": "stream",
     "text": [
      "/cluster/home/prelotla/software/anaconda3/envs/myimmuno3_light/lib/python3.8/site-packages/IPython/core/interactiveshell.py:3146: DtypeWarning: Columns (16) have mixed types.Specify dtype option on import or set low_memory=False.\n",
      "  has_raised = await self.run_ast_nodes(code_ast.body, cell_name,\n"
     ]
    },
    {
     "data": {
      "text/html": [
       "<div>\n",
       "<style scoped>\n",
       "    .dataframe tbody tr th:only-of-type {\n",
       "        vertical-align: middle;\n",
       "    }\n",
       "\n",
       "    .dataframe tbody tr th {\n",
       "        vertical-align: top;\n",
       "    }\n",
       "\n",
       "    .dataframe thead th {\n",
       "        text-align: right;\n",
       "    }\n",
       "</style>\n",
       "<table border=\"1\" class=\"dataframe\">\n",
       "  <thead>\n",
       "    <tr style=\"text-align: right;\">\n",
       "      <th></th>\n",
       "      <th>&gt;pepID</th>\n",
       "      <th>jx_pos</th>\n",
       "      <th>between_codons</th>\n",
       "      <th>includes_5'</th>\n",
       "      <th>includes_3'</th>\n",
       "      <th>gene</th>\n",
       "      <th>jx_coord</th>\n",
       "      <th>kmer</th>\n",
       "      <th>peptide</th>\n",
       "      <th>validated_peptide</th>\n",
       "      <th>validated_kmer</th>\n",
       "      <th>max_detections</th>\n",
       "      <th>TCGABHA18V01A11RA12D07all</th>\n",
       "      <th>percentile_rank</th>\n",
       "      <th>affinity</th>\n",
       "      <th>readFrameAnnotated</th>\n",
       "      <th>junctionAnnotated</th>\n",
       "      <th>#cancer_samples</th>\n",
       "      <th>junctionAnnotated_readFrameAnnotated</th>\n",
       "    </tr>\n",
       "  </thead>\n",
       "  <tbody>\n",
       "    <tr>\n",
       "      <th>0</th>\n",
       "      <td>2</td>\n",
       "      <td>56</td>\n",
       "      <td>1</td>\n",
       "      <td>0</td>\n",
       "      <td>0</td>\n",
       "      <td>ENSG00000060339.14</td>\n",
       "      <td>68737048_68742427</td>\n",
       "      <td>AAAALQQHS</td>\n",
       "      <td>ALGVQQPSLLGASPTIYTQQTALAAAGLTTQTPANYQLTQTAALQQ...</td>\n",
       "      <td>0</td>\n",
       "      <td>0</td>\n",
       "      <td>NaN</td>\n",
       "      <td>10.0</td>\n",
       "      <td>8.5</td>\n",
       "      <td>17394.11</td>\n",
       "      <td>0</td>\n",
       "      <td>0</td>\n",
       "      <td>969.0</td>\n",
       "      <td>0_0</td>\n",
       "    </tr>\n",
       "    <tr>\n",
       "      <th>1</th>\n",
       "      <td>2</td>\n",
       "      <td>0</td>\n",
       "      <td>1</td>\n",
       "      <td>0</td>\n",
       "      <td>0</td>\n",
       "      <td>ENSG00000060339.14</td>\n",
       "      <td>68742430_68742487</td>\n",
       "      <td>AAAALQQHS</td>\n",
       "      <td>ALGVQQPSLLGASPTIYTQQTALAAAGLTTQTPANYQLTQTAALQQ...</td>\n",
       "      <td>0</td>\n",
       "      <td>0</td>\n",
       "      <td>NaN</td>\n",
       "      <td>10.0</td>\n",
       "      <td>8.5</td>\n",
       "      <td>17394.11</td>\n",
       "      <td>0</td>\n",
       "      <td>0</td>\n",
       "      <td>969.0</td>\n",
       "      <td>0_0</td>\n",
       "    </tr>\n",
       "    <tr>\n",
       "      <th>2</th>\n",
       "      <td>4</td>\n",
       "      <td>12</td>\n",
       "      <td>0</td>\n",
       "      <td>0</td>\n",
       "      <td>0</td>\n",
       "      <td>ENSG00000119333.11</td>\n",
       "      <td>128640690_128637027</td>\n",
       "      <td>AAADGVLSV</td>\n",
       "      <td>WLRGELDRAAADGVLSVYPGLPASPSAGSACDQHLLELHWLCGGLCLRP</td>\n",
       "      <td>0</td>\n",
       "      <td>0</td>\n",
       "      <td>NaN</td>\n",
       "      <td>401.0</td>\n",
       "      <td>0.5</td>\n",
       "      <td>115.36</td>\n",
       "      <td>0</td>\n",
       "      <td>1</td>\n",
       "      <td>1099.0</td>\n",
       "      <td>1_0</td>\n",
       "    </tr>\n",
       "    <tr>\n",
       "      <th>3</th>\n",
       "      <td>5</td>\n",
       "      <td>12</td>\n",
       "      <td>0</td>\n",
       "      <td>0</td>\n",
       "      <td>1</td>\n",
       "      <td>ENSG00000119333.11</td>\n",
       "      <td>128640690_128636438</td>\n",
       "      <td>AAADGWTMG</td>\n",
       "      <td>WLRGELDRAAADGWTMGTGARLSPSCVPGTWTGETCVPSSRRPWWR...</td>\n",
       "      <td>0</td>\n",
       "      <td>0</td>\n",
       "      <td>NaN</td>\n",
       "      <td>9.0</td>\n",
       "      <td>1.8</td>\n",
       "      <td>5876.76</td>\n",
       "      <td>0</td>\n",
       "      <td>1</td>\n",
       "      <td>971.0</td>\n",
       "      <td>1_0</td>\n",
       "    </tr>\n",
       "    <tr>\n",
       "      <th>4</th>\n",
       "      <td>6</td>\n",
       "      <td>12</td>\n",
       "      <td>0</td>\n",
       "      <td>0</td>\n",
       "      <td>0</td>\n",
       "      <td>ENSG00000119333.11</td>\n",
       "      <td>128640690_128636438</td>\n",
       "      <td>AAADGWTMG</td>\n",
       "      <td>WLRGELDRAAADGWTMGTGARLSPSCVPGTWTGETCVPSSRRPWWR...</td>\n",
       "      <td>0</td>\n",
       "      <td>0</td>\n",
       "      <td>NaN</td>\n",
       "      <td>9.0</td>\n",
       "      <td>1.8</td>\n",
       "      <td>5876.76</td>\n",
       "      <td>0</td>\n",
       "      <td>1</td>\n",
       "      <td>971.0</td>\n",
       "      <td>1_0</td>\n",
       "    </tr>\n",
       "  </tbody>\n",
       "</table>\n",
       "</div>"
      ],
      "text/plain": [
       "   >pepID  jx_pos  between_codons  includes_5'  includes_3'  \\\n",
       "0       2      56               1            0            0   \n",
       "1       2       0               1            0            0   \n",
       "2       4      12               0            0            0   \n",
       "3       5      12               0            0            1   \n",
       "4       6      12               0            0            0   \n",
       "\n",
       "                 gene             jx_coord       kmer  \\\n",
       "0  ENSG00000060339.14    68737048_68742427  AAAALQQHS   \n",
       "1  ENSG00000060339.14    68742430_68742487  AAAALQQHS   \n",
       "2  ENSG00000119333.11  128640690_128637027  AAADGVLSV   \n",
       "3  ENSG00000119333.11  128640690_128636438  AAADGWTMG   \n",
       "4  ENSG00000119333.11  128640690_128636438  AAADGWTMG   \n",
       "\n",
       "                                             peptide  validated_peptide  \\\n",
       "0  ALGVQQPSLLGASPTIYTQQTALAAAGLTTQTPANYQLTQTAALQQ...                  0   \n",
       "1  ALGVQQPSLLGASPTIYTQQTALAAAGLTTQTPANYQLTQTAALQQ...                  0   \n",
       "2  WLRGELDRAAADGVLSVYPGLPASPSAGSACDQHLLELHWLCGGLCLRP                  0   \n",
       "3  WLRGELDRAAADGWTMGTGARLSPSCVPGTWTGETCVPSSRRPWWR...                  0   \n",
       "4  WLRGELDRAAADGWTMGTGARLSPSCVPGTWTGETCVPSSRRPWWR...                  0   \n",
       "\n",
       "   validated_kmer  max_detections  TCGABHA18V01A11RA12D07all  percentile_rank  \\\n",
       "0               0             NaN                       10.0              8.5   \n",
       "1               0             NaN                       10.0              8.5   \n",
       "2               0             NaN                      401.0              0.5   \n",
       "3               0             NaN                        9.0              1.8   \n",
       "4               0             NaN                        9.0              1.8   \n",
       "\n",
       "   affinity readFrameAnnotated junctionAnnotated  #cancer_samples  \\\n",
       "0  17394.11                  0                 0            969.0   \n",
       "1  17394.11                  0                 0            969.0   \n",
       "2    115.36                  0                 1           1099.0   \n",
       "3   5876.76                  0                 1            971.0   \n",
       "4   5876.76                  0                 1            971.0   \n",
       "\n",
       "  junctionAnnotated_readFrameAnnotated  \n",
       "0                                  0_0  \n",
       "1                                  0_0  \n",
       "2                                  1_0  \n",
       "3                                  1_0  \n",
       "4                                  1_0  "
      ]
     },
     "metadata": {},
     "output_type": "display_data"
    },
    {
     "data": {
      "text/plain": [
       "(235918, 19)"
      ]
     },
     "metadata": {},
     "output_type": "display_data"
    },
    {
     "data": {
      "text/plain": [
       "'ja = 1, rfa = 1'"
      ]
     },
     "metadata": {},
     "output_type": "display_data"
    },
    {
     "data": {
      "text/plain": [
       "21027"
      ]
     },
     "metadata": {},
     "output_type": "display_data"
    },
    {
     "data": {
      "text/plain": [
       "'ja = 0, rfa = 0'"
      ]
     },
     "metadata": {},
     "output_type": "display_data"
    },
    {
     "data": {
      "text/plain": [
       "34480"
      ]
     },
     "metadata": {},
     "output_type": "display_data"
    },
    {
     "data": {
      "text/plain": [
       "'ja = 0, rfa = 1'"
      ]
     },
     "metadata": {},
     "output_type": "display_data"
    },
    {
     "data": {
      "text/plain": [
       "5196"
      ]
     },
     "metadata": {},
     "output_type": "display_data"
    },
    {
     "data": {
      "text/plain": [
       "'ja = 1, rfa = 0'"
      ]
     },
     "metadata": {},
     "output_type": "display_data"
    },
    {
     "data": {
      "text/plain": [
       "174681"
      ]
     },
     "metadata": {},
     "output_type": "display_data"
    },
    {
     "data": {
      "text/plain": [
       "'junction not annotated'"
      ]
     },
     "metadata": {},
     "output_type": "display_data"
    },
    {
     "data": {
      "text/plain": [
       "(39748, 19)"
      ]
     },
     "metadata": {},
     "output_type": "display_data"
    },
    {
     "data": {
      "text/plain": [
       "'TCGA-C8-A12P-01A-11R-A115-07.all'"
      ]
     },
     "metadata": {},
     "output_type": "display_data"
    },
    {
     "name": "stderr",
     "output_type": "stream",
     "text": [
      "/cluster/home/prelotla/software/anaconda3/envs/myimmuno3_light/lib/python3.8/site-packages/IPython/core/interactiveshell.py:3146: DtypeWarning: Columns (16) have mixed types.Specify dtype option on import or set low_memory=False.\n",
      "  has_raised = await self.run_ast_nodes(code_ast.body, cell_name,\n"
     ]
    },
    {
     "data": {
      "text/html": [
       "<div>\n",
       "<style scoped>\n",
       "    .dataframe tbody tr th:only-of-type {\n",
       "        vertical-align: middle;\n",
       "    }\n",
       "\n",
       "    .dataframe tbody tr th {\n",
       "        vertical-align: top;\n",
       "    }\n",
       "\n",
       "    .dataframe thead th {\n",
       "        text-align: right;\n",
       "    }\n",
       "</style>\n",
       "<table border=\"1\" class=\"dataframe\">\n",
       "  <thead>\n",
       "    <tr style=\"text-align: right;\">\n",
       "      <th></th>\n",
       "      <th>&gt;pepID</th>\n",
       "      <th>jx_pos</th>\n",
       "      <th>between_codons</th>\n",
       "      <th>includes_5'</th>\n",
       "      <th>includes_3'</th>\n",
       "      <th>gene</th>\n",
       "      <th>jx_coord</th>\n",
       "      <th>kmer</th>\n",
       "      <th>peptide</th>\n",
       "      <th>validated_peptide</th>\n",
       "      <th>validated_kmer</th>\n",
       "      <th>max_detections</th>\n",
       "      <th>TCGAC8A12P01A11RA11507all</th>\n",
       "      <th>percentile_rank</th>\n",
       "      <th>affinity</th>\n",
       "      <th>readFrameAnnotated</th>\n",
       "      <th>junctionAnnotated</th>\n",
       "      <th>#cancer_samples</th>\n",
       "      <th>junctionAnnotated_readFrameAnnotated</th>\n",
       "    </tr>\n",
       "  </thead>\n",
       "  <tbody>\n",
       "    <tr>\n",
       "      <th>0</th>\n",
       "      <td>2</td>\n",
       "      <td>56</td>\n",
       "      <td>1</td>\n",
       "      <td>0</td>\n",
       "      <td>0</td>\n",
       "      <td>ENSG00000060339.14</td>\n",
       "      <td>68737048_68742427</td>\n",
       "      <td>AAAALQQHS</td>\n",
       "      <td>ALGVQQPSLLGASPTIYTQQTALAAAGLTTQTPANYQLTQTAALQQ...</td>\n",
       "      <td>0</td>\n",
       "      <td>0</td>\n",
       "      <td>NaN</td>\n",
       "      <td>9.0</td>\n",
       "      <td>6.5</td>\n",
       "      <td>7657.20</td>\n",
       "      <td>0</td>\n",
       "      <td>0</td>\n",
       "      <td>969.0</td>\n",
       "      <td>0_0</td>\n",
       "    </tr>\n",
       "    <tr>\n",
       "      <th>1</th>\n",
       "      <td>2</td>\n",
       "      <td>0</td>\n",
       "      <td>1</td>\n",
       "      <td>0</td>\n",
       "      <td>0</td>\n",
       "      <td>ENSG00000060339.14</td>\n",
       "      <td>68742430_68742487</td>\n",
       "      <td>AAAALQQHS</td>\n",
       "      <td>ALGVQQPSLLGASPTIYTQQTALAAAGLTTQTPANYQLTQTAALQQ...</td>\n",
       "      <td>0</td>\n",
       "      <td>0</td>\n",
       "      <td>NaN</td>\n",
       "      <td>9.0</td>\n",
       "      <td>6.5</td>\n",
       "      <td>7657.20</td>\n",
       "      <td>0</td>\n",
       "      <td>0</td>\n",
       "      <td>969.0</td>\n",
       "      <td>0_0</td>\n",
       "    </tr>\n",
       "    <tr>\n",
       "      <th>2</th>\n",
       "      <td>4</td>\n",
       "      <td>12</td>\n",
       "      <td>0</td>\n",
       "      <td>0</td>\n",
       "      <td>0</td>\n",
       "      <td>ENSG00000119333.11</td>\n",
       "      <td>128640690_128637027</td>\n",
       "      <td>AAADGVLSV</td>\n",
       "      <td>WLRGELDRAAADGVLSVYPGLPASPSAGSACDQHLLELHWLCGGLCLRP</td>\n",
       "      <td>0</td>\n",
       "      <td>0</td>\n",
       "      <td>NaN</td>\n",
       "      <td>301.0</td>\n",
       "      <td>2.5</td>\n",
       "      <td>1791.30</td>\n",
       "      <td>0</td>\n",
       "      <td>1</td>\n",
       "      <td>1099.0</td>\n",
       "      <td>1_0</td>\n",
       "    </tr>\n",
       "    <tr>\n",
       "      <th>3</th>\n",
       "      <td>5</td>\n",
       "      <td>12</td>\n",
       "      <td>0</td>\n",
       "      <td>0</td>\n",
       "      <td>1</td>\n",
       "      <td>ENSG00000119333.11</td>\n",
       "      <td>128640690_128636438</td>\n",
       "      <td>AAADGWTMG</td>\n",
       "      <td>WLRGELDRAAADGWTMGTGARLSPSCVPGTWTGETCVPSSRRPWWR...</td>\n",
       "      <td>0</td>\n",
       "      <td>0</td>\n",
       "      <td>NaN</td>\n",
       "      <td>9.0</td>\n",
       "      <td>15.0</td>\n",
       "      <td>14828.98</td>\n",
       "      <td>0</td>\n",
       "      <td>1</td>\n",
       "      <td>971.0</td>\n",
       "      <td>1_0</td>\n",
       "    </tr>\n",
       "    <tr>\n",
       "      <th>4</th>\n",
       "      <td>6</td>\n",
       "      <td>12</td>\n",
       "      <td>0</td>\n",
       "      <td>0</td>\n",
       "      <td>0</td>\n",
       "      <td>ENSG00000119333.11</td>\n",
       "      <td>128640690_128636438</td>\n",
       "      <td>AAADGWTMG</td>\n",
       "      <td>WLRGELDRAAADGWTMGTGARLSPSCVPGTWTGETCVPSSRRPWWR...</td>\n",
       "      <td>0</td>\n",
       "      <td>0</td>\n",
       "      <td>NaN</td>\n",
       "      <td>9.0</td>\n",
       "      <td>15.0</td>\n",
       "      <td>14828.98</td>\n",
       "      <td>0</td>\n",
       "      <td>1</td>\n",
       "      <td>971.0</td>\n",
       "      <td>1_0</td>\n",
       "    </tr>\n",
       "  </tbody>\n",
       "</table>\n",
       "</div>"
      ],
      "text/plain": [
       "   >pepID  jx_pos  between_codons  includes_5'  includes_3'  \\\n",
       "0       2      56               1            0            0   \n",
       "1       2       0               1            0            0   \n",
       "2       4      12               0            0            0   \n",
       "3       5      12               0            0            1   \n",
       "4       6      12               0            0            0   \n",
       "\n",
       "                 gene             jx_coord       kmer  \\\n",
       "0  ENSG00000060339.14    68737048_68742427  AAAALQQHS   \n",
       "1  ENSG00000060339.14    68742430_68742487  AAAALQQHS   \n",
       "2  ENSG00000119333.11  128640690_128637027  AAADGVLSV   \n",
       "3  ENSG00000119333.11  128640690_128636438  AAADGWTMG   \n",
       "4  ENSG00000119333.11  128640690_128636438  AAADGWTMG   \n",
       "\n",
       "                                             peptide  validated_peptide  \\\n",
       "0  ALGVQQPSLLGASPTIYTQQTALAAAGLTTQTPANYQLTQTAALQQ...                  0   \n",
       "1  ALGVQQPSLLGASPTIYTQQTALAAAGLTTQTPANYQLTQTAALQQ...                  0   \n",
       "2  WLRGELDRAAADGVLSVYPGLPASPSAGSACDQHLLELHWLCGGLCLRP                  0   \n",
       "3  WLRGELDRAAADGWTMGTGARLSPSCVPGTWTGETCVPSSRRPWWR...                  0   \n",
       "4  WLRGELDRAAADGWTMGTGARLSPSCVPGTWTGETCVPSSRRPWWR...                  0   \n",
       "\n",
       "   validated_kmer  max_detections  TCGAC8A12P01A11RA11507all  percentile_rank  \\\n",
       "0               0             NaN                        9.0              6.5   \n",
       "1               0             NaN                        9.0              6.5   \n",
       "2               0             NaN                      301.0              2.5   \n",
       "3               0             NaN                        9.0             15.0   \n",
       "4               0             NaN                        9.0             15.0   \n",
       "\n",
       "   affinity readFrameAnnotated junctionAnnotated  #cancer_samples  \\\n",
       "0   7657.20                  0                 0            969.0   \n",
       "1   7657.20                  0                 0            969.0   \n",
       "2   1791.30                  0                 1           1099.0   \n",
       "3  14828.98                  0                 1            971.0   \n",
       "4  14828.98                  0                 1            971.0   \n",
       "\n",
       "  junctionAnnotated_readFrameAnnotated  \n",
       "0                                  0_0  \n",
       "1                                  0_0  \n",
       "2                                  1_0  \n",
       "3                                  1_0  \n",
       "4                                  1_0  "
      ]
     },
     "metadata": {},
     "output_type": "display_data"
    },
    {
     "data": {
      "text/plain": [
       "(231642, 19)"
      ]
     },
     "metadata": {},
     "output_type": "display_data"
    },
    {
     "data": {
      "text/plain": [
       "'ja = 1, rfa = 1'"
      ]
     },
     "metadata": {},
     "output_type": "display_data"
    },
    {
     "data": {
      "text/plain": [
       "21063"
      ]
     },
     "metadata": {},
     "output_type": "display_data"
    },
    {
     "data": {
      "text/plain": [
       "'ja = 0, rfa = 0'"
      ]
     },
     "metadata": {},
     "output_type": "display_data"
    },
    {
     "data": {
      "text/plain": [
       "30528"
      ]
     },
     "metadata": {},
     "output_type": "display_data"
    },
    {
     "data": {
      "text/plain": [
       "'ja = 0, rfa = 1'"
      ]
     },
     "metadata": {},
     "output_type": "display_data"
    },
    {
     "data": {
      "text/plain": [
       "4086"
      ]
     },
     "metadata": {},
     "output_type": "display_data"
    },
    {
     "data": {
      "text/plain": [
       "'ja = 1, rfa = 0'"
      ]
     },
     "metadata": {},
     "output_type": "display_data"
    },
    {
     "data": {
      "text/plain": [
       "175431"
      ]
     },
     "metadata": {},
     "output_type": "display_data"
    },
    {
     "data": {
      "text/plain": [
       "'junction not annotated'"
      ]
     },
     "metadata": {},
     "output_type": "display_data"
    },
    {
     "data": {
      "text/plain": [
       "(34686, 19)"
      ]
     },
     "metadata": {},
     "output_type": "display_data"
    },
    {
     "data": {
      "text/plain": [
       "'TCGA-AO-A0JM-01A-21R-A056-07.all'"
      ]
     },
     "metadata": {},
     "output_type": "display_data"
    },
    {
     "name": "stderr",
     "output_type": "stream",
     "text": [
      "/cluster/home/prelotla/software/anaconda3/envs/myimmuno3_light/lib/python3.8/site-packages/IPython/core/interactiveshell.py:3146: DtypeWarning: Columns (16) have mixed types.Specify dtype option on import or set low_memory=False.\n",
      "  has_raised = await self.run_ast_nodes(code_ast.body, cell_name,\n"
     ]
    },
    {
     "data": {
      "text/html": [
       "<div>\n",
       "<style scoped>\n",
       "    .dataframe tbody tr th:only-of-type {\n",
       "        vertical-align: middle;\n",
       "    }\n",
       "\n",
       "    .dataframe tbody tr th {\n",
       "        vertical-align: top;\n",
       "    }\n",
       "\n",
       "    .dataframe thead th {\n",
       "        text-align: right;\n",
       "    }\n",
       "</style>\n",
       "<table border=\"1\" class=\"dataframe\">\n",
       "  <thead>\n",
       "    <tr style=\"text-align: right;\">\n",
       "      <th></th>\n",
       "      <th>&gt;pepID</th>\n",
       "      <th>jx_pos</th>\n",
       "      <th>between_codons</th>\n",
       "      <th>includes_5'</th>\n",
       "      <th>includes_3'</th>\n",
       "      <th>gene</th>\n",
       "      <th>jx_coord</th>\n",
       "      <th>kmer</th>\n",
       "      <th>peptide</th>\n",
       "      <th>validated_peptide</th>\n",
       "      <th>validated_kmer</th>\n",
       "      <th>max_detections</th>\n",
       "      <th>TCGAAOA0JM01A21RA05607all</th>\n",
       "      <th>percentile_rank</th>\n",
       "      <th>affinity</th>\n",
       "      <th>readFrameAnnotated</th>\n",
       "      <th>junctionAnnotated</th>\n",
       "      <th>#cancer_samples</th>\n",
       "      <th>junctionAnnotated_readFrameAnnotated</th>\n",
       "    </tr>\n",
       "  </thead>\n",
       "  <tbody>\n",
       "    <tr>\n",
       "      <th>0</th>\n",
       "      <td>1</td>\n",
       "      <td>12</td>\n",
       "      <td>0</td>\n",
       "      <td>0</td>\n",
       "      <td>1</td>\n",
       "      <td>ENSG00000119333.11</td>\n",
       "      <td>128640690_128636438</td>\n",
       "      <td>AAADGWTMG</td>\n",
       "      <td>WLRGELDRAAADGWTMGTGARLSPSCVPGTWTGETCVPSSRRPWWR...</td>\n",
       "      <td>0</td>\n",
       "      <td>0</td>\n",
       "      <td>NaN</td>\n",
       "      <td>8.0</td>\n",
       "      <td>1.8</td>\n",
       "      <td>5876.76</td>\n",
       "      <td>0</td>\n",
       "      <td>1</td>\n",
       "      <td>971.0</td>\n",
       "      <td>1_0</td>\n",
       "    </tr>\n",
       "    <tr>\n",
       "      <th>1</th>\n",
       "      <td>2</td>\n",
       "      <td>12</td>\n",
       "      <td>0</td>\n",
       "      <td>0</td>\n",
       "      <td>0</td>\n",
       "      <td>ENSG00000119333.11</td>\n",
       "      <td>128640690_128636438</td>\n",
       "      <td>AAADGWTMG</td>\n",
       "      <td>WLRGELDRAAADGWTMGTGARLSPSCVPGTWTGETCVPSSRRPWWR...</td>\n",
       "      <td>0</td>\n",
       "      <td>0</td>\n",
       "      <td>NaN</td>\n",
       "      <td>8.0</td>\n",
       "      <td>1.8</td>\n",
       "      <td>5876.76</td>\n",
       "      <td>0</td>\n",
       "      <td>1</td>\n",
       "      <td>971.0</td>\n",
       "      <td>1_0</td>\n",
       "    </tr>\n",
       "    <tr>\n",
       "      <th>2</th>\n",
       "      <td>3</td>\n",
       "      <td>58</td>\n",
       "      <td>0</td>\n",
       "      <td>0</td>\n",
       "      <td>0</td>\n",
       "      <td>ENSG00000011304.20</td>\n",
       "      <td>805187_805512</td>\n",
       "      <td>AAAFASPQA</td>\n",
       "      <td>SLDGQNIYNACCTLRIDFSKLTSLNVKYNNDKSRDYTRPDLPSGDS...</td>\n",
       "      <td>0</td>\n",
       "      <td>0</td>\n",
       "      <td>NaN</td>\n",
       "      <td>3.0</td>\n",
       "      <td>10.0</td>\n",
       "      <td>16407.83</td>\n",
       "      <td>0</td>\n",
       "      <td>1</td>\n",
       "      <td>1046.0</td>\n",
       "      <td>1_0</td>\n",
       "    </tr>\n",
       "    <tr>\n",
       "      <th>3</th>\n",
       "      <td>3</td>\n",
       "      <td>1</td>\n",
       "      <td>0</td>\n",
       "      <td>0</td>\n",
       "      <td>0</td>\n",
       "      <td>ENSG00000011304.20</td>\n",
       "      <td>805516_805555</td>\n",
       "      <td>AAAFASPQA</td>\n",
       "      <td>SLDGQNIYNACCTLRIDFSKLTSLNVKYNNDKSRDYTRPDLPSGDS...</td>\n",
       "      <td>0</td>\n",
       "      <td>0</td>\n",
       "      <td>NaN</td>\n",
       "      <td>3.0</td>\n",
       "      <td>10.0</td>\n",
       "      <td>16407.83</td>\n",
       "      <td>0</td>\n",
       "      <td>1</td>\n",
       "      <td>1046.0</td>\n",
       "      <td>1_0</td>\n",
       "    </tr>\n",
       "    <tr>\n",
       "      <th>4</th>\n",
       "      <td>5</td>\n",
       "      <td>58</td>\n",
       "      <td>0</td>\n",
       "      <td>0</td>\n",
       "      <td>1</td>\n",
       "      <td>ENSG00000011304.20</td>\n",
       "      <td>805187_805512</td>\n",
       "      <td>AAAFASPQA</td>\n",
       "      <td>SLDGQNIYNACCTLRIDFSKLTSLNVKYNNDKSRDYTRPDLPSGDS...</td>\n",
       "      <td>0</td>\n",
       "      <td>0</td>\n",
       "      <td>NaN</td>\n",
       "      <td>3.0</td>\n",
       "      <td>10.0</td>\n",
       "      <td>16407.83</td>\n",
       "      <td>0</td>\n",
       "      <td>1</td>\n",
       "      <td>1046.0</td>\n",
       "      <td>1_0</td>\n",
       "    </tr>\n",
       "  </tbody>\n",
       "</table>\n",
       "</div>"
      ],
      "text/plain": [
       "   >pepID  jx_pos  between_codons  includes_5'  includes_3'  \\\n",
       "0       1      12               0            0            1   \n",
       "1       2      12               0            0            0   \n",
       "2       3      58               0            0            0   \n",
       "3       3       1               0            0            0   \n",
       "4       5      58               0            0            1   \n",
       "\n",
       "                 gene             jx_coord       kmer  \\\n",
       "0  ENSG00000119333.11  128640690_128636438  AAADGWTMG   \n",
       "1  ENSG00000119333.11  128640690_128636438  AAADGWTMG   \n",
       "2  ENSG00000011304.20        805187_805512  AAAFASPQA   \n",
       "3  ENSG00000011304.20        805516_805555  AAAFASPQA   \n",
       "4  ENSG00000011304.20        805187_805512  AAAFASPQA   \n",
       "\n",
       "                                             peptide  validated_peptide  \\\n",
       "0  WLRGELDRAAADGWTMGTGARLSPSCVPGTWTGETCVPSSRRPWWR...                  0   \n",
       "1  WLRGELDRAAADGWTMGTGARLSPSCVPGTWTGETCVPSSRRPWWR...                  0   \n",
       "2  SLDGQNIYNACCTLRIDFSKLTSLNVKYNNDKSRDYTRPDLPSGDS...                  0   \n",
       "3  SLDGQNIYNACCTLRIDFSKLTSLNVKYNNDKSRDYTRPDLPSGDS...                  0   \n",
       "4  SLDGQNIYNACCTLRIDFSKLTSLNVKYNNDKSRDYTRPDLPSGDS...                  0   \n",
       "\n",
       "   validated_kmer  max_detections  TCGAAOA0JM01A21RA05607all  percentile_rank  \\\n",
       "0               0             NaN                        8.0              1.8   \n",
       "1               0             NaN                        8.0              1.8   \n",
       "2               0             NaN                        3.0             10.0   \n",
       "3               0             NaN                        3.0             10.0   \n",
       "4               0             NaN                        3.0             10.0   \n",
       "\n",
       "   affinity readFrameAnnotated junctionAnnotated  #cancer_samples  \\\n",
       "0   5876.76                  0                 1            971.0   \n",
       "1   5876.76                  0                 1            971.0   \n",
       "2  16407.83                  0                 1           1046.0   \n",
       "3  16407.83                  0                 1           1046.0   \n",
       "4  16407.83                  0                 1           1046.0   \n",
       "\n",
       "  junctionAnnotated_readFrameAnnotated  \n",
       "0                                  1_0  \n",
       "1                                  1_0  \n",
       "2                                  1_0  \n",
       "3                                  1_0  \n",
       "4                                  1_0  "
      ]
     },
     "metadata": {},
     "output_type": "display_data"
    },
    {
     "data": {
      "text/plain": [
       "(234302, 19)"
      ]
     },
     "metadata": {},
     "output_type": "display_data"
    },
    {
     "data": {
      "text/plain": [
       "'ja = 1, rfa = 1'"
      ]
     },
     "metadata": {},
     "output_type": "display_data"
    },
    {
     "data": {
      "text/plain": [
       "21084"
      ]
     },
     "metadata": {},
     "output_type": "display_data"
    },
    {
     "data": {
      "text/plain": [
       "'ja = 0, rfa = 0'"
      ]
     },
     "metadata": {},
     "output_type": "display_data"
    },
    {
     "data": {
      "text/plain": [
       "30240"
      ]
     },
     "metadata": {},
     "output_type": "display_data"
    },
    {
     "data": {
      "text/plain": [
       "'ja = 0, rfa = 1'"
      ]
     },
     "metadata": {},
     "output_type": "display_data"
    },
    {
     "data": {
      "text/plain": [
       "4335"
      ]
     },
     "metadata": {},
     "output_type": "display_data"
    },
    {
     "data": {
      "text/plain": [
       "'ja = 1, rfa = 0'"
      ]
     },
     "metadata": {},
     "output_type": "display_data"
    },
    {
     "data": {
      "text/plain": [
       "178109"
      ]
     },
     "metadata": {},
     "output_type": "display_data"
    },
    {
     "data": {
      "text/plain": [
       "'junction not annotated'"
      ]
     },
     "metadata": {},
     "output_type": "display_data"
    },
    {
     "data": {
      "text/plain": [
       "(34647, 19)"
      ]
     },
     "metadata": {},
     "output_type": "display_data"
    },
    {
     "data": {
      "text/plain": [
       "'TCGA-A2-A0SX-01A-12R-A084-07.all'"
      ]
     },
     "metadata": {},
     "output_type": "display_data"
    },
    {
     "name": "stderr",
     "output_type": "stream",
     "text": [
      "/cluster/home/prelotla/software/anaconda3/envs/myimmuno3_light/lib/python3.8/site-packages/IPython/core/interactiveshell.py:3146: DtypeWarning: Columns (16) have mixed types.Specify dtype option on import or set low_memory=False.\n",
      "  has_raised = await self.run_ast_nodes(code_ast.body, cell_name,\n"
     ]
    },
    {
     "data": {
      "text/html": [
       "<div>\n",
       "<style scoped>\n",
       "    .dataframe tbody tr th:only-of-type {\n",
       "        vertical-align: middle;\n",
       "    }\n",
       "\n",
       "    .dataframe tbody tr th {\n",
       "        vertical-align: top;\n",
       "    }\n",
       "\n",
       "    .dataframe thead th {\n",
       "        text-align: right;\n",
       "    }\n",
       "</style>\n",
       "<table border=\"1\" class=\"dataframe\">\n",
       "  <thead>\n",
       "    <tr style=\"text-align: right;\">\n",
       "      <th></th>\n",
       "      <th>&gt;pepID</th>\n",
       "      <th>jx_pos</th>\n",
       "      <th>between_codons</th>\n",
       "      <th>includes_5'</th>\n",
       "      <th>includes_3'</th>\n",
       "      <th>gene</th>\n",
       "      <th>jx_coord</th>\n",
       "      <th>kmer</th>\n",
       "      <th>peptide</th>\n",
       "      <th>validated_peptide</th>\n",
       "      <th>validated_kmer</th>\n",
       "      <th>max_detections</th>\n",
       "      <th>TCGAA2A0SX01A12RA08407all</th>\n",
       "      <th>percentile_rank</th>\n",
       "      <th>affinity</th>\n",
       "      <th>readFrameAnnotated</th>\n",
       "      <th>junctionAnnotated</th>\n",
       "      <th>#cancer_samples</th>\n",
       "      <th>junctionAnnotated_readFrameAnnotated</th>\n",
       "    </tr>\n",
       "  </thead>\n",
       "  <tbody>\n",
       "    <tr>\n",
       "      <th>0</th>\n",
       "      <td>2</td>\n",
       "      <td>56</td>\n",
       "      <td>1</td>\n",
       "      <td>0</td>\n",
       "      <td>0</td>\n",
       "      <td>ENSG00000060339.14</td>\n",
       "      <td>68737048_68742427</td>\n",
       "      <td>AAAALQQHS</td>\n",
       "      <td>ALGVQQPSLLGASPTIYTQQTALAAAGLTTQTPANYQLTQTAALQQ...</td>\n",
       "      <td>0</td>\n",
       "      <td>0</td>\n",
       "      <td>NaN</td>\n",
       "      <td>6.0</td>\n",
       "      <td>8.5</td>\n",
       "      <td>17394.11</td>\n",
       "      <td>0</td>\n",
       "      <td>0</td>\n",
       "      <td>969.0</td>\n",
       "      <td>0_0</td>\n",
       "    </tr>\n",
       "    <tr>\n",
       "      <th>1</th>\n",
       "      <td>2</td>\n",
       "      <td>0</td>\n",
       "      <td>1</td>\n",
       "      <td>0</td>\n",
       "      <td>0</td>\n",
       "      <td>ENSG00000060339.14</td>\n",
       "      <td>68742430_68742487</td>\n",
       "      <td>AAAALQQHS</td>\n",
       "      <td>ALGVQQPSLLGASPTIYTQQTALAAAGLTTQTPANYQLTQTAALQQ...</td>\n",
       "      <td>0</td>\n",
       "      <td>0</td>\n",
       "      <td>NaN</td>\n",
       "      <td>6.0</td>\n",
       "      <td>8.5</td>\n",
       "      <td>17394.11</td>\n",
       "      <td>0</td>\n",
       "      <td>0</td>\n",
       "      <td>969.0</td>\n",
       "      <td>0_0</td>\n",
       "    </tr>\n",
       "    <tr>\n",
       "      <th>2</th>\n",
       "      <td>4</td>\n",
       "      <td>12</td>\n",
       "      <td>0</td>\n",
       "      <td>0</td>\n",
       "      <td>0</td>\n",
       "      <td>ENSG00000119333.11</td>\n",
       "      <td>128640690_128637027</td>\n",
       "      <td>AAADGVLSV</td>\n",
       "      <td>WLRGELDRAAADGVLSVYPGLPASPSAGSACDQHLLELHWLCGGLCLRP</td>\n",
       "      <td>0</td>\n",
       "      <td>0</td>\n",
       "      <td>NaN</td>\n",
       "      <td>310.0</td>\n",
       "      <td>0.5</td>\n",
       "      <td>875.06</td>\n",
       "      <td>0</td>\n",
       "      <td>1</td>\n",
       "      <td>1099.0</td>\n",
       "      <td>1_0</td>\n",
       "    </tr>\n",
       "    <tr>\n",
       "      <th>3</th>\n",
       "      <td>5</td>\n",
       "      <td>12</td>\n",
       "      <td>0</td>\n",
       "      <td>0</td>\n",
       "      <td>1</td>\n",
       "      <td>ENSG00000119333.11</td>\n",
       "      <td>128640690_128636438</td>\n",
       "      <td>AAADGWTMG</td>\n",
       "      <td>WLRGELDRAAADGWTMGTGARLSPSCVPGTWTGETCVPSSRRPWWR...</td>\n",
       "      <td>0</td>\n",
       "      <td>0</td>\n",
       "      <td>NaN</td>\n",
       "      <td>12.0</td>\n",
       "      <td>1.8</td>\n",
       "      <td>5876.76</td>\n",
       "      <td>0</td>\n",
       "      <td>1</td>\n",
       "      <td>971.0</td>\n",
       "      <td>1_0</td>\n",
       "    </tr>\n",
       "    <tr>\n",
       "      <th>4</th>\n",
       "      <td>6</td>\n",
       "      <td>12</td>\n",
       "      <td>0</td>\n",
       "      <td>0</td>\n",
       "      <td>0</td>\n",
       "      <td>ENSG00000119333.11</td>\n",
       "      <td>128640690_128636438</td>\n",
       "      <td>AAADGWTMG</td>\n",
       "      <td>WLRGELDRAAADGWTMGTGARLSPSCVPGTWTGETCVPSSRRPWWR...</td>\n",
       "      <td>0</td>\n",
       "      <td>0</td>\n",
       "      <td>NaN</td>\n",
       "      <td>12.0</td>\n",
       "      <td>1.8</td>\n",
       "      <td>5876.76</td>\n",
       "      <td>0</td>\n",
       "      <td>1</td>\n",
       "      <td>971.0</td>\n",
       "      <td>1_0</td>\n",
       "    </tr>\n",
       "  </tbody>\n",
       "</table>\n",
       "</div>"
      ],
      "text/plain": [
       "   >pepID  jx_pos  between_codons  includes_5'  includes_3'  \\\n",
       "0       2      56               1            0            0   \n",
       "1       2       0               1            0            0   \n",
       "2       4      12               0            0            0   \n",
       "3       5      12               0            0            1   \n",
       "4       6      12               0            0            0   \n",
       "\n",
       "                 gene             jx_coord       kmer  \\\n",
       "0  ENSG00000060339.14    68737048_68742427  AAAALQQHS   \n",
       "1  ENSG00000060339.14    68742430_68742487  AAAALQQHS   \n",
       "2  ENSG00000119333.11  128640690_128637027  AAADGVLSV   \n",
       "3  ENSG00000119333.11  128640690_128636438  AAADGWTMG   \n",
       "4  ENSG00000119333.11  128640690_128636438  AAADGWTMG   \n",
       "\n",
       "                                             peptide  validated_peptide  \\\n",
       "0  ALGVQQPSLLGASPTIYTQQTALAAAGLTTQTPANYQLTQTAALQQ...                  0   \n",
       "1  ALGVQQPSLLGASPTIYTQQTALAAAGLTTQTPANYQLTQTAALQQ...                  0   \n",
       "2  WLRGELDRAAADGVLSVYPGLPASPSAGSACDQHLLELHWLCGGLCLRP                  0   \n",
       "3  WLRGELDRAAADGWTMGTGARLSPSCVPGTWTGETCVPSSRRPWWR...                  0   \n",
       "4  WLRGELDRAAADGWTMGTGARLSPSCVPGTWTGETCVPSSRRPWWR...                  0   \n",
       "\n",
       "   validated_kmer  max_detections  TCGAA2A0SX01A12RA08407all  percentile_rank  \\\n",
       "0               0             NaN                        6.0              8.5   \n",
       "1               0             NaN                        6.0              8.5   \n",
       "2               0             NaN                      310.0              0.5   \n",
       "3               0             NaN                       12.0              1.8   \n",
       "4               0             NaN                       12.0              1.8   \n",
       "\n",
       "   affinity readFrameAnnotated junctionAnnotated  #cancer_samples  \\\n",
       "0  17394.11                  0                 0            969.0   \n",
       "1  17394.11                  0                 0            969.0   \n",
       "2    875.06                  0                 1           1099.0   \n",
       "3   5876.76                  0                 1            971.0   \n",
       "4   5876.76                  0                 1            971.0   \n",
       "\n",
       "  junctionAnnotated_readFrameAnnotated  \n",
       "0                                  0_0  \n",
       "1                                  0_0  \n",
       "2                                  1_0  \n",
       "3                                  1_0  \n",
       "4                                  1_0  "
      ]
     },
     "metadata": {},
     "output_type": "display_data"
    },
    {
     "data": {
      "text/plain": [
       "(236007, 19)"
      ]
     },
     "metadata": {},
     "output_type": "display_data"
    },
    {
     "data": {
      "text/plain": [
       "'ja = 1, rfa = 1'"
      ]
     },
     "metadata": {},
     "output_type": "display_data"
    },
    {
     "data": {
      "text/plain": [
       "21264"
      ]
     },
     "metadata": {},
     "output_type": "display_data"
    },
    {
     "data": {
      "text/plain": [
       "'ja = 0, rfa = 0'"
      ]
     },
     "metadata": {},
     "output_type": "display_data"
    },
    {
     "data": {
      "text/plain": [
       "33207"
      ]
     },
     "metadata": {},
     "output_type": "display_data"
    },
    {
     "data": {
      "text/plain": [
       "'ja = 0, rfa = 1'"
      ]
     },
     "metadata": {},
     "output_type": "display_data"
    },
    {
     "data": {
      "text/plain": [
       "4473"
      ]
     },
     "metadata": {},
     "output_type": "display_data"
    },
    {
     "data": {
      "text/plain": [
       "'ja = 1, rfa = 0'"
      ]
     },
     "metadata": {},
     "output_type": "display_data"
    },
    {
     "data": {
      "text/plain": [
       "176529"
      ]
     },
     "metadata": {},
     "output_type": "display_data"
    },
    {
     "data": {
      "text/plain": [
       "'junction not annotated'"
      ]
     },
     "metadata": {},
     "output_type": "display_data"
    },
    {
     "data": {
      "text/plain": [
       "(37746, 19)"
      ]
     },
     "metadata": {},
     "output_type": "display_data"
    },
    {
     "data": {
      "text/plain": [
       "'TCGA-A2-A0D2-01A-21R-A034-07.all'"
      ]
     },
     "metadata": {},
     "output_type": "display_data"
    },
    {
     "name": "stderr",
     "output_type": "stream",
     "text": [
      "/cluster/home/prelotla/software/anaconda3/envs/myimmuno3_light/lib/python3.8/site-packages/IPython/core/interactiveshell.py:3146: DtypeWarning: Columns (16) have mixed types.Specify dtype option on import or set low_memory=False.\n",
      "  has_raised = await self.run_ast_nodes(code_ast.body, cell_name,\n"
     ]
    },
    {
     "data": {
      "text/html": [
       "<div>\n",
       "<style scoped>\n",
       "    .dataframe tbody tr th:only-of-type {\n",
       "        vertical-align: middle;\n",
       "    }\n",
       "\n",
       "    .dataframe tbody tr th {\n",
       "        vertical-align: top;\n",
       "    }\n",
       "\n",
       "    .dataframe thead th {\n",
       "        text-align: right;\n",
       "    }\n",
       "</style>\n",
       "<table border=\"1\" class=\"dataframe\">\n",
       "  <thead>\n",
       "    <tr style=\"text-align: right;\">\n",
       "      <th></th>\n",
       "      <th>&gt;pepID</th>\n",
       "      <th>jx_pos</th>\n",
       "      <th>between_codons</th>\n",
       "      <th>includes_5'</th>\n",
       "      <th>includes_3'</th>\n",
       "      <th>gene</th>\n",
       "      <th>jx_coord</th>\n",
       "      <th>kmer</th>\n",
       "      <th>peptide</th>\n",
       "      <th>validated_peptide</th>\n",
       "      <th>validated_kmer</th>\n",
       "      <th>max_detections</th>\n",
       "      <th>TCGAA2A0D201A21RA03407all</th>\n",
       "      <th>percentile_rank</th>\n",
       "      <th>affinity</th>\n",
       "      <th>readFrameAnnotated</th>\n",
       "      <th>junctionAnnotated</th>\n",
       "      <th>#cancer_samples</th>\n",
       "      <th>junctionAnnotated_readFrameAnnotated</th>\n",
       "    </tr>\n",
       "  </thead>\n",
       "  <tbody>\n",
       "    <tr>\n",
       "      <th>0</th>\n",
       "      <td>2</td>\n",
       "      <td>56</td>\n",
       "      <td>1</td>\n",
       "      <td>0</td>\n",
       "      <td>0</td>\n",
       "      <td>ENSG00000060339.14</td>\n",
       "      <td>68737048_68742427</td>\n",
       "      <td>AAAALQQHS</td>\n",
       "      <td>ALGVQQPSLLGASPTIYTQQTALAAAGLTTQTPANYQLTQTAALQQ...</td>\n",
       "      <td>0</td>\n",
       "      <td>0</td>\n",
       "      <td>NaN</td>\n",
       "      <td>3.0</td>\n",
       "      <td>28.0</td>\n",
       "      <td>28062.41</td>\n",
       "      <td>0</td>\n",
       "      <td>0</td>\n",
       "      <td>969.0</td>\n",
       "      <td>0_0</td>\n",
       "    </tr>\n",
       "    <tr>\n",
       "      <th>1</th>\n",
       "      <td>2</td>\n",
       "      <td>0</td>\n",
       "      <td>1</td>\n",
       "      <td>0</td>\n",
       "      <td>0</td>\n",
       "      <td>ENSG00000060339.14</td>\n",
       "      <td>68742430_68742487</td>\n",
       "      <td>AAAALQQHS</td>\n",
       "      <td>ALGVQQPSLLGASPTIYTQQTALAAAGLTTQTPANYQLTQTAALQQ...</td>\n",
       "      <td>0</td>\n",
       "      <td>0</td>\n",
       "      <td>NaN</td>\n",
       "      <td>3.0</td>\n",
       "      <td>28.0</td>\n",
       "      <td>28062.41</td>\n",
       "      <td>0</td>\n",
       "      <td>0</td>\n",
       "      <td>969.0</td>\n",
       "      <td>0_0</td>\n",
       "    </tr>\n",
       "    <tr>\n",
       "      <th>2</th>\n",
       "      <td>4</td>\n",
       "      <td>12</td>\n",
       "      <td>0</td>\n",
       "      <td>0</td>\n",
       "      <td>0</td>\n",
       "      <td>ENSG00000119333.11</td>\n",
       "      <td>128640690_128637027</td>\n",
       "      <td>AAADGVLSV</td>\n",
       "      <td>WLRGELDRAAADGVLSVYPGLPASPSAGSACDQHLLELHWLCGGLCLRP</td>\n",
       "      <td>0</td>\n",
       "      <td>0</td>\n",
       "      <td>NaN</td>\n",
       "      <td>1139.0</td>\n",
       "      <td>2.5</td>\n",
       "      <td>1791.30</td>\n",
       "      <td>0</td>\n",
       "      <td>1</td>\n",
       "      <td>1099.0</td>\n",
       "      <td>1_0</td>\n",
       "    </tr>\n",
       "    <tr>\n",
       "      <th>3</th>\n",
       "      <td>5</td>\n",
       "      <td>12</td>\n",
       "      <td>0</td>\n",
       "      <td>0</td>\n",
       "      <td>1</td>\n",
       "      <td>ENSG00000119333.11</td>\n",
       "      <td>128640690_128636438</td>\n",
       "      <td>AAADGWTMG</td>\n",
       "      <td>WLRGELDRAAADGWTMGTGARLSPSCVPGTWTGETCVPSSRRPWWR...</td>\n",
       "      <td>0</td>\n",
       "      <td>0</td>\n",
       "      <td>NaN</td>\n",
       "      <td>24.0</td>\n",
       "      <td>16.0</td>\n",
       "      <td>20550.52</td>\n",
       "      <td>0</td>\n",
       "      <td>1</td>\n",
       "      <td>971.0</td>\n",
       "      <td>1_0</td>\n",
       "    </tr>\n",
       "    <tr>\n",
       "      <th>4</th>\n",
       "      <td>6</td>\n",
       "      <td>12</td>\n",
       "      <td>0</td>\n",
       "      <td>0</td>\n",
       "      <td>0</td>\n",
       "      <td>ENSG00000119333.11</td>\n",
       "      <td>128640690_128636438</td>\n",
       "      <td>AAADGWTMG</td>\n",
       "      <td>WLRGELDRAAADGWTMGTGARLSPSCVPGTWTGETCVPSSRRPWWR...</td>\n",
       "      <td>0</td>\n",
       "      <td>0</td>\n",
       "      <td>NaN</td>\n",
       "      <td>24.0</td>\n",
       "      <td>16.0</td>\n",
       "      <td>20550.52</td>\n",
       "      <td>0</td>\n",
       "      <td>1</td>\n",
       "      <td>971.0</td>\n",
       "      <td>1_0</td>\n",
       "    </tr>\n",
       "  </tbody>\n",
       "</table>\n",
       "</div>"
      ],
      "text/plain": [
       "   >pepID  jx_pos  between_codons  includes_5'  includes_3'  \\\n",
       "0       2      56               1            0            0   \n",
       "1       2       0               1            0            0   \n",
       "2       4      12               0            0            0   \n",
       "3       5      12               0            0            1   \n",
       "4       6      12               0            0            0   \n",
       "\n",
       "                 gene             jx_coord       kmer  \\\n",
       "0  ENSG00000060339.14    68737048_68742427  AAAALQQHS   \n",
       "1  ENSG00000060339.14    68742430_68742487  AAAALQQHS   \n",
       "2  ENSG00000119333.11  128640690_128637027  AAADGVLSV   \n",
       "3  ENSG00000119333.11  128640690_128636438  AAADGWTMG   \n",
       "4  ENSG00000119333.11  128640690_128636438  AAADGWTMG   \n",
       "\n",
       "                                             peptide  validated_peptide  \\\n",
       "0  ALGVQQPSLLGASPTIYTQQTALAAAGLTTQTPANYQLTQTAALQQ...                  0   \n",
       "1  ALGVQQPSLLGASPTIYTQQTALAAAGLTTQTPANYQLTQTAALQQ...                  0   \n",
       "2  WLRGELDRAAADGVLSVYPGLPASPSAGSACDQHLLELHWLCGGLCLRP                  0   \n",
       "3  WLRGELDRAAADGWTMGTGARLSPSCVPGTWTGETCVPSSRRPWWR...                  0   \n",
       "4  WLRGELDRAAADGWTMGTGARLSPSCVPGTWTGETCVPSSRRPWWR...                  0   \n",
       "\n",
       "   validated_kmer  max_detections  TCGAA2A0D201A21RA03407all  percentile_rank  \\\n",
       "0               0             NaN                        3.0             28.0   \n",
       "1               0             NaN                        3.0             28.0   \n",
       "2               0             NaN                     1139.0              2.5   \n",
       "3               0             NaN                       24.0             16.0   \n",
       "4               0             NaN                       24.0             16.0   \n",
       "\n",
       "   affinity readFrameAnnotated junctionAnnotated  #cancer_samples  \\\n",
       "0  28062.41                  0                 0            969.0   \n",
       "1  28062.41                  0                 0            969.0   \n",
       "2   1791.30                  0                 1           1099.0   \n",
       "3  20550.52                  0                 1            971.0   \n",
       "4  20550.52                  0                 1            971.0   \n",
       "\n",
       "  junctionAnnotated_readFrameAnnotated  \n",
       "0                                  0_0  \n",
       "1                                  0_0  \n",
       "2                                  1_0  \n",
       "3                                  1_0  \n",
       "4                                  1_0  "
      ]
     },
     "metadata": {},
     "output_type": "display_data"
    },
    {
     "data": {
      "text/plain": [
       "(230137, 19)"
      ]
     },
     "metadata": {},
     "output_type": "display_data"
    },
    {
     "data": {
      "text/plain": [
       "'ja = 1, rfa = 1'"
      ]
     },
     "metadata": {},
     "output_type": "display_data"
    },
    {
     "data": {
      "text/plain": [
       "20178"
      ]
     },
     "metadata": {},
     "output_type": "display_data"
    },
    {
     "data": {
      "text/plain": [
       "'ja = 0, rfa = 0'"
      ]
     },
     "metadata": {},
     "output_type": "display_data"
    },
    {
     "data": {
      "text/plain": [
       "32041"
      ]
     },
     "metadata": {},
     "output_type": "display_data"
    },
    {
     "data": {
      "text/plain": [
       "'ja = 0, rfa = 1'"
      ]
     },
     "metadata": {},
     "output_type": "display_data"
    },
    {
     "data": {
      "text/plain": [
       "3996"
      ]
     },
     "metadata": {},
     "output_type": "display_data"
    },
    {
     "data": {
      "text/plain": [
       "'ja = 1, rfa = 0'"
      ]
     },
     "metadata": {},
     "output_type": "display_data"
    },
    {
     "data": {
      "text/plain": [
       "173382"
      ]
     },
     "metadata": {},
     "output_type": "display_data"
    },
    {
     "data": {
      "text/plain": [
       "'junction not annotated'"
      ]
     },
     "metadata": {},
     "output_type": "display_data"
    },
    {
     "data": {
      "text/plain": [
       "(36109, 19)"
      ]
     },
     "metadata": {},
     "output_type": "display_data"
    }
   ],
   "source": [
    "samples = [\n",
    "    'TCGA-BH-A18V-01A-11R-A12D-07.all', \n",
    "        'TCGA-C8-A12P-01A-11R-A115-07.all', \n",
    "        'TCGA-AO-A0JM-01A-21R-A056-07.all', \n",
    "        'TCGA-A2-A0SX-01A-12R-A084-07.all',\n",
    "        'TCGA-A2-A0D2-01A-21R-A034-07.all']\n",
    "\n",
    "counting = []\n",
    "legend = []\n",
    "sample_string = []\n",
    "for sample in samples:\n",
    "    display(sample)\n",
    "    sample_short = ''.join(sample.split('.')[:-1])\n",
    "    sample_pool = sample.replace('-', '').replace('.', '')\n",
    "    sample_base = '-'.join(sample_short.split('-')[0:3])\n",
    "\n",
    "    path = f'/cluster/work/grlab/projects/projects2020_OHSU/peptides_generation/v2_v2.5f0752a_conf2_annotFrame_cap0_runs_pya0.17.1/TCGA_Breast_1102/filter_{sample_short}.all/commit_d4aee54_GTEXcore/G_{sample_short}_summary_plotting.tsv.gz'\n",
    "\n",
    "\n",
    "\n",
    "    df = pd.read_csv(path, compression=\"gzip\")\n",
    "    df['junctionAnnotated'] = df['junctionAnnotated'].astype(str)\n",
    "    df['readFrameAnnotated'] = df['readFrameAnnotated'].astype(str)\n",
    "    df['junctionAnnotated_readFrameAnnotated'] = df['junctionAnnotated'] + '_' +  df['readFrameAnnotated']\n",
    "    display(df.head())\n",
    "    display(df.shape)\n",
    "    \n",
    "    display('ja = 1, rfa = 1')\n",
    "    display(df.loc[(df['readFrameAnnotated'] == '1') & (df['junctionAnnotated'] == '1')].shape[0])\n",
    "    display('ja = 0, rfa = 0')\n",
    "    display(df.loc[(df['readFrameAnnotated'] == '0') & (df['junctionAnnotated'] == '0')].shape[0])\n",
    "    display('ja = 0, rfa = 1')\n",
    "    display(df.loc[(df['readFrameAnnotated'] == '1') & (df['junctionAnnotated'] == '0')].shape[0])\n",
    "    display('ja = 1, rfa = 0')\n",
    "    display(df.loc[(df['readFrameAnnotated'] == '0') & (df['junctionAnnotated'] == '1')].shape[0])\n",
    "\n",
    "    df = df.loc[(df['junctionAnnotated'] == '0')]\n",
    "    display('junction not annotated')\n",
    "    display(df.shape)\n",
    "    \n",
    "\n",
    "\n",
    "    counting.append(df['peptide'].unique().shape[0])\n",
    "    legend.append('cancer-specific #unique bi-exons peptides')\n",
    "    counting.append(df['kmer'].unique().shape[0])\n",
    "    legend.append('cancer-specific #unique junction-9mers')\n",
    "#     counting.append(df['gene'].unique().shape[0])\n",
    "#     legend.append('cancer-specific #uniques genes of origin')\n",
    "    dz = df.loc[df['validated_peptide'] == 1]\n",
    "    counting.append(dz['peptide'].unique().shape[0])\n",
    "    legend.append('MS validated #unique bi-exons peptides')\n",
    "    dz = df.loc[df['validated_kmer'] == 1]\n",
    "    counting.append(dz['kmer'].unique().shape[0])\n",
    "    legend.append('MS validated #unique junction-9mers')\n",
    "#     counting.append(dz['gene'].unique().shape[0])\n",
    "#     legend.append('MS validated #uniques genes of origin')\n",
    "    sample_string.extend([sample_base] * 4)"
   ]
  },
  {
   "cell_type": "code",
   "execution_count": 106,
   "metadata": {
    "ExecuteTime": {
     "end_time": "2022-05-31T13:32:16.810222Z",
     "start_time": "2022-05-31T13:32:16.806546Z"
    }
   },
   "outputs": [],
   "source": [
    "plot_counts = pd.DataFrame( {'Number of instances': counting, \n",
    "                        'legend': legend, 'sample': sample_string})"
   ]
  },
  {
   "cell_type": "code",
   "execution_count": 107,
   "metadata": {
    "ExecuteTime": {
     "end_time": "2022-05-31T13:32:16.844632Z",
     "start_time": "2022-05-31T13:32:16.814319Z"
    }
   },
   "outputs": [
    {
     "data": {
      "text/html": [
       "<div>\n",
       "<style scoped>\n",
       "    .dataframe tbody tr th:only-of-type {\n",
       "        vertical-align: middle;\n",
       "    }\n",
       "\n",
       "    .dataframe tbody tr th {\n",
       "        vertical-align: top;\n",
       "    }\n",
       "\n",
       "    .dataframe thead th {\n",
       "        text-align: right;\n",
       "    }\n",
       "</style>\n",
       "<table border=\"1\" class=\"dataframe\">\n",
       "  <thead>\n",
       "    <tr style=\"text-align: right;\">\n",
       "      <th></th>\n",
       "      <th>Number of instances</th>\n",
       "      <th>legend</th>\n",
       "      <th>sample</th>\n",
       "    </tr>\n",
       "  </thead>\n",
       "  <tbody>\n",
       "    <tr>\n",
       "      <th>0</th>\n",
       "      <td>2248</td>\n",
       "      <td>cancer-specific #unique bi-exons peptides</td>\n",
       "      <td>TCGA-BH-A18V</td>\n",
       "    </tr>\n",
       "    <tr>\n",
       "      <th>1</th>\n",
       "      <td>5432</td>\n",
       "      <td>cancer-specific #unique junction-9mers</td>\n",
       "      <td>TCGA-BH-A18V</td>\n",
       "    </tr>\n",
       "    <tr>\n",
       "      <th>2</th>\n",
       "      <td>861</td>\n",
       "      <td>MS validated #unique bi-exons peptides</td>\n",
       "      <td>TCGA-BH-A18V</td>\n",
       "    </tr>\n",
       "    <tr>\n",
       "      <th>3</th>\n",
       "      <td>0</td>\n",
       "      <td>MS validated #unique junction-9mers</td>\n",
       "      <td>TCGA-BH-A18V</td>\n",
       "    </tr>\n",
       "    <tr>\n",
       "      <th>4</th>\n",
       "      <td>2085</td>\n",
       "      <td>cancer-specific #unique bi-exons peptides</td>\n",
       "      <td>TCGA-C8-A12P</td>\n",
       "    </tr>\n",
       "    <tr>\n",
       "      <th>5</th>\n",
       "      <td>4483</td>\n",
       "      <td>cancer-specific #unique junction-9mers</td>\n",
       "      <td>TCGA-C8-A12P</td>\n",
       "    </tr>\n",
       "    <tr>\n",
       "      <th>6</th>\n",
       "      <td>635</td>\n",
       "      <td>MS validated #unique bi-exons peptides</td>\n",
       "      <td>TCGA-C8-A12P</td>\n",
       "    </tr>\n",
       "    <tr>\n",
       "      <th>7</th>\n",
       "      <td>0</td>\n",
       "      <td>MS validated #unique junction-9mers</td>\n",
       "      <td>TCGA-C8-A12P</td>\n",
       "    </tr>\n",
       "    <tr>\n",
       "      <th>8</th>\n",
       "      <td>1966</td>\n",
       "      <td>cancer-specific #unique bi-exons peptides</td>\n",
       "      <td>TCGA-AO-A0JM</td>\n",
       "    </tr>\n",
       "    <tr>\n",
       "      <th>9</th>\n",
       "      <td>4150</td>\n",
       "      <td>cancer-specific #unique junction-9mers</td>\n",
       "      <td>TCGA-AO-A0JM</td>\n",
       "    </tr>\n",
       "    <tr>\n",
       "      <th>10</th>\n",
       "      <td>734</td>\n",
       "      <td>MS validated #unique bi-exons peptides</td>\n",
       "      <td>TCGA-AO-A0JM</td>\n",
       "    </tr>\n",
       "    <tr>\n",
       "      <th>11</th>\n",
       "      <td>0</td>\n",
       "      <td>MS validated #unique junction-9mers</td>\n",
       "      <td>TCGA-AO-A0JM</td>\n",
       "    </tr>\n",
       "    <tr>\n",
       "      <th>12</th>\n",
       "      <td>2188</td>\n",
       "      <td>cancer-specific #unique bi-exons peptides</td>\n",
       "      <td>TCGA-A2-A0SX</td>\n",
       "    </tr>\n",
       "    <tr>\n",
       "      <th>13</th>\n",
       "      <td>5089</td>\n",
       "      <td>cancer-specific #unique junction-9mers</td>\n",
       "      <td>TCGA-A2-A0SX</td>\n",
       "    </tr>\n",
       "    <tr>\n",
       "      <th>14</th>\n",
       "      <td>767</td>\n",
       "      <td>MS validated #unique bi-exons peptides</td>\n",
       "      <td>TCGA-A2-A0SX</td>\n",
       "    </tr>\n",
       "    <tr>\n",
       "      <th>15</th>\n",
       "      <td>0</td>\n",
       "      <td>MS validated #unique junction-9mers</td>\n",
       "      <td>TCGA-A2-A0SX</td>\n",
       "    </tr>\n",
       "    <tr>\n",
       "      <th>16</th>\n",
       "      <td>2074</td>\n",
       "      <td>cancer-specific #unique bi-exons peptides</td>\n",
       "      <td>TCGA-A2-A0D2</td>\n",
       "    </tr>\n",
       "    <tr>\n",
       "      <th>17</th>\n",
       "      <td>4728</td>\n",
       "      <td>cancer-specific #unique junction-9mers</td>\n",
       "      <td>TCGA-A2-A0D2</td>\n",
       "    </tr>\n",
       "    <tr>\n",
       "      <th>18</th>\n",
       "      <td>96</td>\n",
       "      <td>MS validated #unique bi-exons peptides</td>\n",
       "      <td>TCGA-A2-A0D2</td>\n",
       "    </tr>\n",
       "    <tr>\n",
       "      <th>19</th>\n",
       "      <td>0</td>\n",
       "      <td>MS validated #unique junction-9mers</td>\n",
       "      <td>TCGA-A2-A0D2</td>\n",
       "    </tr>\n",
       "  </tbody>\n",
       "</table>\n",
       "</div>"
      ],
      "text/plain": [
       "    Number of instances                                     legend  \\\n",
       "0                  2248  cancer-specific #unique bi-exons peptides   \n",
       "1                  5432     cancer-specific #unique junction-9mers   \n",
       "2                   861     MS validated #unique bi-exons peptides   \n",
       "3                     0        MS validated #unique junction-9mers   \n",
       "4                  2085  cancer-specific #unique bi-exons peptides   \n",
       "5                  4483     cancer-specific #unique junction-9mers   \n",
       "6                   635     MS validated #unique bi-exons peptides   \n",
       "7                     0        MS validated #unique junction-9mers   \n",
       "8                  1966  cancer-specific #unique bi-exons peptides   \n",
       "9                  4150     cancer-specific #unique junction-9mers   \n",
       "10                  734     MS validated #unique bi-exons peptides   \n",
       "11                    0        MS validated #unique junction-9mers   \n",
       "12                 2188  cancer-specific #unique bi-exons peptides   \n",
       "13                 5089     cancer-specific #unique junction-9mers   \n",
       "14                  767     MS validated #unique bi-exons peptides   \n",
       "15                    0        MS validated #unique junction-9mers   \n",
       "16                 2074  cancer-specific #unique bi-exons peptides   \n",
       "17                 4728     cancer-specific #unique junction-9mers   \n",
       "18                   96     MS validated #unique bi-exons peptides   \n",
       "19                    0        MS validated #unique junction-9mers   \n",
       "\n",
       "          sample  \n",
       "0   TCGA-BH-A18V  \n",
       "1   TCGA-BH-A18V  \n",
       "2   TCGA-BH-A18V  \n",
       "3   TCGA-BH-A18V  \n",
       "4   TCGA-C8-A12P  \n",
       "5   TCGA-C8-A12P  \n",
       "6   TCGA-C8-A12P  \n",
       "7   TCGA-C8-A12P  \n",
       "8   TCGA-AO-A0JM  \n",
       "9   TCGA-AO-A0JM  \n",
       "10  TCGA-AO-A0JM  \n",
       "11  TCGA-AO-A0JM  \n",
       "12  TCGA-A2-A0SX  \n",
       "13  TCGA-A2-A0SX  \n",
       "14  TCGA-A2-A0SX  \n",
       "15  TCGA-A2-A0SX  \n",
       "16  TCGA-A2-A0D2  \n",
       "17  TCGA-A2-A0D2  \n",
       "18  TCGA-A2-A0D2  \n",
       "19  TCGA-A2-A0D2  "
      ]
     },
     "execution_count": 107,
     "metadata": {},
     "output_type": "execute_result"
    }
   ],
   "source": [
    "plot_counts"
   ]
  },
  {
   "cell_type": "code",
   "execution_count": 108,
   "metadata": {
    "ExecuteTime": {
     "end_time": "2022-05-31T13:32:16.854731Z",
     "start_time": "2022-05-31T13:32:16.848024Z"
    }
   },
   "outputs": [],
   "source": [
    "color1 = '#000080'\n",
    "color2 = \"#808000\"\n",
    "palette_custom = [color1 if 'MS' in field else color2 for field in plot_counts['legend']]\n"
   ]
  },
  {
   "cell_type": "code",
   "execution_count": 109,
   "metadata": {
    "ExecuteTime": {
     "end_time": "2022-05-31T13:32:18.219509Z",
     "start_time": "2022-05-31T13:32:16.857370Z"
    }
   },
   "outputs": [
    {
     "data": {
      "image/png": "[encoded data removed]",
      "text/plain": [
       "<Figure size 608.125x360 with 1 Axes>"
      ]
     },
     "metadata": {
      "needs_background": "light"
     },
     "output_type": "display_data"
    }
   ],
   "source": [
    "sns.lmplot( x=\"sample\", y='Number of instances', \n",
    "           data=plot_counts, fit_reg=False, hue='legend',\n",
    "           legend=True, markers=[\"o\", \"v\"] *2,\n",
    "                                 #, \"s\"] * 2, \n",
    "          palette=palette_custom)\n",
    "\n",
    "plt.xticks(rotation=45)\n",
    "plt.yscale(\"log\")  "
   ]
  },
  {
   "cell_type": "markdown",
   "metadata": {},
   "source": [
    "# Binding Plot"
   ]
  },
  {
   "cell_type": "code",
   "execution_count": 158,
   "metadata": {
    "ExecuteTime": {
     "end_time": "2022-05-31T15:46:27.440695Z",
     "start_time": "2022-05-31T15:46:26.755842Z"
    }
   },
   "outputs": [
    {
     "data": {
      "text/html": [
       "<div>\n",
       "<style scoped>\n",
       "    .dataframe tbody tr th:only-of-type {\n",
       "        vertical-align: middle;\n",
       "    }\n",
       "\n",
       "    .dataframe tbody tr th {\n",
       "        vertical-align: top;\n",
       "    }\n",
       "\n",
       "    .dataframe thead th {\n",
       "        text-align: right;\n",
       "    }\n",
       "</style>\n",
       "<table border=\"1\" class=\"dataframe\">\n",
       "  <thead>\n",
       "    <tr style=\"text-align: right;\">\n",
       "      <th></th>\n",
       "      <th>&gt;pepID</th>\n",
       "      <th>jx_pos</th>\n",
       "      <th>between_codons</th>\n",
       "      <th>includes_5'</th>\n",
       "      <th>includes_3'</th>\n",
       "      <th>gene</th>\n",
       "      <th>jx_coord</th>\n",
       "      <th>kmer</th>\n",
       "      <th>peptide</th>\n",
       "      <th>validated_peptide</th>\n",
       "      <th>validated_kmer</th>\n",
       "      <th>max_detections</th>\n",
       "      <th>TCGAA2A0D201A21RA03407all</th>\n",
       "      <th>percentile_rank</th>\n",
       "      <th>affinity</th>\n",
       "      <th>readFrameAnnotated</th>\n",
       "      <th>junctionAnnotated</th>\n",
       "      <th>#cancer_samples</th>\n",
       "    </tr>\n",
       "  </thead>\n",
       "  <tbody>\n",
       "    <tr>\n",
       "      <th>0</th>\n",
       "      <td>2</td>\n",
       "      <td>56</td>\n",
       "      <td>1</td>\n",
       "      <td>0</td>\n",
       "      <td>0</td>\n",
       "      <td>ENSG00000060339.14</td>\n",
       "      <td>68737048_68742427</td>\n",
       "      <td>AAAALQQHS</td>\n",
       "      <td>ALGVQQPSLLGASPTIYTQQTALAAAGLTTQTPANYQLTQTAALQQ...</td>\n",
       "      <td>0</td>\n",
       "      <td>0</td>\n",
       "      <td>NaN</td>\n",
       "      <td>3.0</td>\n",
       "      <td>28.0</td>\n",
       "      <td>28062.41</td>\n",
       "      <td>0</td>\n",
       "      <td>0</td>\n",
       "      <td>969.0</td>\n",
       "    </tr>\n",
       "    <tr>\n",
       "      <th>1</th>\n",
       "      <td>2</td>\n",
       "      <td>0</td>\n",
       "      <td>1</td>\n",
       "      <td>0</td>\n",
       "      <td>0</td>\n",
       "      <td>ENSG00000060339.14</td>\n",
       "      <td>68742430_68742487</td>\n",
       "      <td>AAAALQQHS</td>\n",
       "      <td>ALGVQQPSLLGASPTIYTQQTALAAAGLTTQTPANYQLTQTAALQQ...</td>\n",
       "      <td>0</td>\n",
       "      <td>0</td>\n",
       "      <td>NaN</td>\n",
       "      <td>3.0</td>\n",
       "      <td>28.0</td>\n",
       "      <td>28062.41</td>\n",
       "      <td>0</td>\n",
       "      <td>0</td>\n",
       "      <td>969.0</td>\n",
       "    </tr>\n",
       "    <tr>\n",
       "      <th>2</th>\n",
       "      <td>4</td>\n",
       "      <td>12</td>\n",
       "      <td>0</td>\n",
       "      <td>0</td>\n",
       "      <td>0</td>\n",
       "      <td>ENSG00000119333.11</td>\n",
       "      <td>128640690_128637027</td>\n",
       "      <td>AAADGVLSV</td>\n",
       "      <td>WLRGELDRAAADGVLSVYPGLPASPSAGSACDQHLLELHWLCGGLCLRP</td>\n",
       "      <td>0</td>\n",
       "      <td>0</td>\n",
       "      <td>NaN</td>\n",
       "      <td>1139.0</td>\n",
       "      <td>2.5</td>\n",
       "      <td>1791.30</td>\n",
       "      <td>0</td>\n",
       "      <td>1</td>\n",
       "      <td>1099.0</td>\n",
       "    </tr>\n",
       "    <tr>\n",
       "      <th>3</th>\n",
       "      <td>5</td>\n",
       "      <td>12</td>\n",
       "      <td>0</td>\n",
       "      <td>0</td>\n",
       "      <td>1</td>\n",
       "      <td>ENSG00000119333.11</td>\n",
       "      <td>128640690_128636438</td>\n",
       "      <td>AAADGWTMG</td>\n",
       "      <td>WLRGELDRAAADGWTMGTGARLSPSCVPGTWTGETCVPSSRRPWWR...</td>\n",
       "      <td>0</td>\n",
       "      <td>0</td>\n",
       "      <td>NaN</td>\n",
       "      <td>24.0</td>\n",
       "      <td>16.0</td>\n",
       "      <td>20550.52</td>\n",
       "      <td>0</td>\n",
       "      <td>1</td>\n",
       "      <td>971.0</td>\n",
       "    </tr>\n",
       "    <tr>\n",
       "      <th>4</th>\n",
       "      <td>6</td>\n",
       "      <td>12</td>\n",
       "      <td>0</td>\n",
       "      <td>0</td>\n",
       "      <td>0</td>\n",
       "      <td>ENSG00000119333.11</td>\n",
       "      <td>128640690_128636438</td>\n",
       "      <td>AAADGWTMG</td>\n",
       "      <td>WLRGELDRAAADGWTMGTGARLSPSCVPGTWTGETCVPSSRRPWWR...</td>\n",
       "      <td>0</td>\n",
       "      <td>0</td>\n",
       "      <td>NaN</td>\n",
       "      <td>24.0</td>\n",
       "      <td>16.0</td>\n",
       "      <td>20550.52</td>\n",
       "      <td>0</td>\n",
       "      <td>1</td>\n",
       "      <td>971.0</td>\n",
       "    </tr>\n",
       "    <tr>\n",
       "      <th>...</th>\n",
       "      <td>...</td>\n",
       "      <td>...</td>\n",
       "      <td>...</td>\n",
       "      <td>...</td>\n",
       "      <td>...</td>\n",
       "      <td>...</td>\n",
       "      <td>...</td>\n",
       "      <td>...</td>\n",
       "      <td>...</td>\n",
       "      <td>...</td>\n",
       "      <td>...</td>\n",
       "      <td>...</td>\n",
       "      <td>...</td>\n",
       "      <td>...</td>\n",
       "      <td>...</td>\n",
       "      <td>...</td>\n",
       "      <td>...</td>\n",
       "      <td>...</td>\n",
       "    </tr>\n",
       "    <tr>\n",
       "      <th>230132</th>\n",
       "      <td>249273</td>\n",
       "      <td>4</td>\n",
       "      <td>0</td>\n",
       "      <td>0</td>\n",
       "      <td>0</td>\n",
       "      <td>ENSG00000134419.15</td>\n",
       "      <td>18783091_18782987</td>\n",
       "      <td>YYSFIVQIK</td>\n",
       "      <td>NLYPPNYASGALVESILTSWLLYYSFIVQIKCLMDSG</td>\n",
       "      <td>0</td>\n",
       "      <td>0</td>\n",
       "      <td>NaN</td>\n",
       "      <td>38.0</td>\n",
       "      <td>1.2</td>\n",
       "      <td>2295.55</td>\n",
       "      <td>0</td>\n",
       "      <td>1</td>\n",
       "      <td>1101.0</td>\n",
       "    </tr>\n",
       "    <tr>\n",
       "      <th>230133</th>\n",
       "      <td>249275</td>\n",
       "      <td>24</td>\n",
       "      <td>0</td>\n",
       "      <td>0</td>\n",
       "      <td>0</td>\n",
       "      <td>ENSG00000134419.15</td>\n",
       "      <td>18783640_18783102</td>\n",
       "      <td>YYSFIVQIK</td>\n",
       "      <td>NLYPPNYASGALVESILTSWLLYYSFIVQIKCLMD</td>\n",
       "      <td>0</td>\n",
       "      <td>0</td>\n",
       "      <td>NaN</td>\n",
       "      <td>38.0</td>\n",
       "      <td>1.2</td>\n",
       "      <td>2295.55</td>\n",
       "      <td>0</td>\n",
       "      <td>1</td>\n",
       "      <td>1101.0</td>\n",
       "    </tr>\n",
       "    <tr>\n",
       "      <th>230134</th>\n",
       "      <td>249275</td>\n",
       "      <td>4</td>\n",
       "      <td>0</td>\n",
       "      <td>0</td>\n",
       "      <td>0</td>\n",
       "      <td>ENSG00000134419.15</td>\n",
       "      <td>18783091_18782987</td>\n",
       "      <td>YYSFIVQIK</td>\n",
       "      <td>NLYPPNYASGALVESILTSWLLYYSFIVQIKCLMD</td>\n",
       "      <td>0</td>\n",
       "      <td>0</td>\n",
       "      <td>NaN</td>\n",
       "      <td>38.0</td>\n",
       "      <td>1.2</td>\n",
       "      <td>2295.55</td>\n",
       "      <td>0</td>\n",
       "      <td>1</td>\n",
       "      <td>1101.0</td>\n",
       "    </tr>\n",
       "    <tr>\n",
       "      <th>230135</th>\n",
       "      <td>249277</td>\n",
       "      <td>24</td>\n",
       "      <td>0</td>\n",
       "      <td>0</td>\n",
       "      <td>0</td>\n",
       "      <td>ENSG00000134419.15</td>\n",
       "      <td>18783640_18783102</td>\n",
       "      <td>YYSFIVQIK</td>\n",
       "      <td>NLYPPNYASGALVESILTSWLLYYSFIVQIKCLM</td>\n",
       "      <td>0</td>\n",
       "      <td>0</td>\n",
       "      <td>NaN</td>\n",
       "      <td>38.0</td>\n",
       "      <td>1.2</td>\n",
       "      <td>2295.55</td>\n",
       "      <td>0</td>\n",
       "      <td>1</td>\n",
       "      <td>1101.0</td>\n",
       "    </tr>\n",
       "    <tr>\n",
       "      <th>230136</th>\n",
       "      <td>249277</td>\n",
       "      <td>4</td>\n",
       "      <td>0</td>\n",
       "      <td>0</td>\n",
       "      <td>0</td>\n",
       "      <td>ENSG00000134419.15</td>\n",
       "      <td>18783091_18782987</td>\n",
       "      <td>YYSFIVQIK</td>\n",
       "      <td>NLYPPNYASGALVESILTSWLLYYSFIVQIKCLM</td>\n",
       "      <td>0</td>\n",
       "      <td>0</td>\n",
       "      <td>NaN</td>\n",
       "      <td>38.0</td>\n",
       "      <td>1.2</td>\n",
       "      <td>2295.55</td>\n",
       "      <td>0</td>\n",
       "      <td>1</td>\n",
       "      <td>1101.0</td>\n",
       "    </tr>\n",
       "  </tbody>\n",
       "</table>\n",
       "<p>230137 rows × 18 columns</p>\n",
       "</div>"
      ],
      "text/plain": [
       "        >pepID  jx_pos  between_codons  includes_5'  includes_3'  \\\n",
       "0            2      56               1            0            0   \n",
       "1            2       0               1            0            0   \n",
       "2            4      12               0            0            0   \n",
       "3            5      12               0            0            1   \n",
       "4            6      12               0            0            0   \n",
       "...        ...     ...             ...          ...          ...   \n",
       "230132  249273       4               0            0            0   \n",
       "230133  249275      24               0            0            0   \n",
       "230134  249275       4               0            0            0   \n",
       "230135  249277      24               0            0            0   \n",
       "230136  249277       4               0            0            0   \n",
       "\n",
       "                      gene             jx_coord       kmer  \\\n",
       "0       ENSG00000060339.14    68737048_68742427  AAAALQQHS   \n",
       "1       ENSG00000060339.14    68742430_68742487  AAAALQQHS   \n",
       "2       ENSG00000119333.11  128640690_128637027  AAADGVLSV   \n",
       "3       ENSG00000119333.11  128640690_128636438  AAADGWTMG   \n",
       "4       ENSG00000119333.11  128640690_128636438  AAADGWTMG   \n",
       "...                    ...                  ...        ...   \n",
       "230132  ENSG00000134419.15    18783091_18782987  YYSFIVQIK   \n",
       "230133  ENSG00000134419.15    18783640_18783102  YYSFIVQIK   \n",
       "230134  ENSG00000134419.15    18783091_18782987  YYSFIVQIK   \n",
       "230135  ENSG00000134419.15    18783640_18783102  YYSFIVQIK   \n",
       "230136  ENSG00000134419.15    18783091_18782987  YYSFIVQIK   \n",
       "\n",
       "                                                  peptide  validated_peptide  \\\n",
       "0       ALGVQQPSLLGASPTIYTQQTALAAAGLTTQTPANYQLTQTAALQQ...                  0   \n",
       "1       ALGVQQPSLLGASPTIYTQQTALAAAGLTTQTPANYQLTQTAALQQ...                  0   \n",
       "2       WLRGELDRAAADGVLSVYPGLPASPSAGSACDQHLLELHWLCGGLCLRP                  0   \n",
       "3       WLRGELDRAAADGWTMGTGARLSPSCVPGTWTGETCVPSSRRPWWR...                  0   \n",
       "4       WLRGELDRAAADGWTMGTGARLSPSCVPGTWTGETCVPSSRRPWWR...                  0   \n",
       "...                                                   ...                ...   \n",
       "230132              NLYPPNYASGALVESILTSWLLYYSFIVQIKCLMDSG                  0   \n",
       "230133                NLYPPNYASGALVESILTSWLLYYSFIVQIKCLMD                  0   \n",
       "230134                NLYPPNYASGALVESILTSWLLYYSFIVQIKCLMD                  0   \n",
       "230135                 NLYPPNYASGALVESILTSWLLYYSFIVQIKCLM                  0   \n",
       "230136                 NLYPPNYASGALVESILTSWLLYYSFIVQIKCLM                  0   \n",
       "\n",
       "        validated_kmer  max_detections  TCGAA2A0D201A21RA03407all  \\\n",
       "0                    0             NaN                        3.0   \n",
       "1                    0             NaN                        3.0   \n",
       "2                    0             NaN                     1139.0   \n",
       "3                    0             NaN                       24.0   \n",
       "4                    0             NaN                       24.0   \n",
       "...                ...             ...                        ...   \n",
       "230132               0             NaN                       38.0   \n",
       "230133               0             NaN                       38.0   \n",
       "230134               0             NaN                       38.0   \n",
       "230135               0             NaN                       38.0   \n",
       "230136               0             NaN                       38.0   \n",
       "\n",
       "        percentile_rank  affinity readFrameAnnotated junctionAnnotated  \\\n",
       "0                  28.0  28062.41                  0                 0   \n",
       "1                  28.0  28062.41                  0                 0   \n",
       "2                   2.5   1791.30                  0                 1   \n",
       "3                  16.0  20550.52                  0                 1   \n",
       "4                  16.0  20550.52                  0                 1   \n",
       "...                 ...       ...                ...               ...   \n",
       "230132              1.2   2295.55                  0                 1   \n",
       "230133              1.2   2295.55                  0                 1   \n",
       "230134              1.2   2295.55                  0                 1   \n",
       "230135              1.2   2295.55                  0                 1   \n",
       "230136              1.2   2295.55                  0                 1   \n",
       "\n",
       "        #cancer_samples  \n",
       "0                 969.0  \n",
       "1                 969.0  \n",
       "2                1099.0  \n",
       "3                 971.0  \n",
       "4                 971.0  \n",
       "...                 ...  \n",
       "230132           1101.0  \n",
       "230133           1101.0  \n",
       "230134           1101.0  \n",
       "230135           1101.0  \n",
       "230136           1101.0  \n",
       "\n",
       "[230137 rows x 18 columns]"
      ]
     },
     "execution_count": 158,
     "metadata": {},
     "output_type": "execute_result"
    }
   ],
   "source": [
    "df"
   ]
  },
  {
   "cell_type": "code",
   "execution_count": 155,
   "metadata": {
    "ExecuteTime": {
     "end_time": "2022-05-31T14:15:03.799474Z",
     "start_time": "2022-05-31T14:13:48.509666Z"
    }
   },
   "outputs": [
    {
     "data": {
      "text/plain": [
       "'TCGA-BH-A18V-01A-11R-A12D-07.all'"
      ]
     },
     "metadata": {},
     "output_type": "display_data"
    },
    {
     "name": "stderr",
     "output_type": "stream",
     "text": [
      "/cluster/home/prelotla/software/anaconda3/envs/myimmuno3_light/lib/python3.8/site-packages/IPython/core/interactiveshell.py:3146: DtypeWarning: Columns (16) have mixed types.Specify dtype option on import or set low_memory=False.\n",
      "  has_raised = await self.run_ast_nodes(code_ast.body, cell_name,\n"
     ]
    },
    {
     "data": {
      "image/png": "[encoded data removed]",
      "text/plain": [
       "<Figure size 432x432 with 3 Axes>"
      ]
     },
     "metadata": {
      "needs_background": "light"
     },
     "output_type": "display_data"
    },
    {
     "data": {
      "text/plain": [
       "'TCGA-C8-A12P-01A-11R-A115-07.all'"
      ]
     },
     "metadata": {},
     "output_type": "display_data"
    },
    {
     "name": "stderr",
     "output_type": "stream",
     "text": [
      "/cluster/home/prelotla/software/anaconda3/envs/myimmuno3_light/lib/python3.8/site-packages/IPython/core/interactiveshell.py:3146: DtypeWarning: Columns (16) have mixed types.Specify dtype option on import or set low_memory=False.\n",
      "  has_raised = await self.run_ast_nodes(code_ast.body, cell_name,\n"
     ]
    },
    {
     "data": {
      "image/png": "[encoded data removed]",
      "text/plain": [
       "<Figure size 432x432 with 3 Axes>"
      ]
     },
     "metadata": {
      "needs_background": "light"
     },
     "output_type": "display_data"
    },
    {
     "data": {
      "text/plain": [
       "'TCGA-AO-A0JM-01A-21R-A056-07.all'"
      ]
     },
     "metadata": {},
     "output_type": "display_data"
    },
    {
     "name": "stderr",
     "output_type": "stream",
     "text": [
      "/cluster/home/prelotla/software/anaconda3/envs/myimmuno3_light/lib/python3.8/site-packages/IPython/core/interactiveshell.py:3146: DtypeWarning: Columns (16) have mixed types.Specify dtype option on import or set low_memory=False.\n",
      "  has_raised = await self.run_ast_nodes(code_ast.body, cell_name,\n"
     ]
    },
    {
     "data": {
      "image/png": "[encoded data removed]",
      "text/plain": [
       "<Figure size 432x432 with 3 Axes>"
      ]
     },
     "metadata": {
      "needs_background": "light"
     },
     "output_type": "display_data"
    },
    {
     "data": {
      "text/plain": [
       "'TCGA-A2-A0SX-01A-12R-A084-07.all'"
      ]
     },
     "metadata": {},
     "output_type": "display_data"
    },
    {
     "name": "stderr",
     "output_type": "stream",
     "text": [
      "/cluster/home/prelotla/software/anaconda3/envs/myimmuno3_light/lib/python3.8/site-packages/IPython/core/interactiveshell.py:3146: DtypeWarning: Columns (16) have mixed types.Specify dtype option on import or set low_memory=False.\n",
      "  has_raised = await self.run_ast_nodes(code_ast.body, cell_name,\n"
     ]
    },
    {
     "data": {
      "image/png": "[encoded data removed]",
      "text/plain": [
       "<Figure size 432x432 with 3 Axes>"
      ]
     },
     "metadata": {
      "needs_background": "light"
     },
     "output_type": "display_data"
    },
    {
     "data": {
      "text/plain": [
       "'TCGA-A2-A0D2-01A-21R-A034-07.all'"
      ]
     },
     "metadata": {},
     "output_type": "display_data"
    },
    {
     "name": "stderr",
     "output_type": "stream",
     "text": [
      "/cluster/home/prelotla/software/anaconda3/envs/myimmuno3_light/lib/python3.8/site-packages/IPython/core/interactiveshell.py:3146: DtypeWarning: Columns (16) have mixed types.Specify dtype option on import or set low_memory=False.\n",
      "  has_raised = await self.run_ast_nodes(code_ast.body, cell_name,\n"
     ]
    },
    {
     "data": {
      "image/png": "[encoded data removed]",
      "text/plain": [
       "<Figure size 432x432 with 3 Axes>"
      ]
     },
     "metadata": {
      "needs_background": "light"
     },
     "output_type": "display_data"
    }
   ],
   "source": [
    "samples = [\n",
    "    'TCGA-BH-A18V-01A-11R-A12D-07.all', \n",
    "        'TCGA-C8-A12P-01A-11R-A115-07.all', \n",
    "        'TCGA-AO-A0JM-01A-21R-A056-07.all', \n",
    "        'TCGA-A2-A0SX-01A-12R-A084-07.all',\n",
    "        'TCGA-A2-A0D2-01A-21R-A034-07.all']\n",
    "for sample in samples:\n",
    "    display(sample)\n",
    "    sample_short = ''.join(sample.split('.')[:-1])\n",
    "    sample_pool = sample.replace('-', '').replace('.', '')\n",
    "    sample_base = '-'.join(sample_short.split('-')[0:3])\n",
    "\n",
    "    path = f'/cluster/work/grlab/projects/projects2020_OHSU/peptides_generation/v2_v2.5f0752a_conf2_annotFrame_cap0_runs_pya0.17.1/TCGA_Breast_1102/filter_{sample_short}.all/commit_d4aee54_GTEXcore/G_{sample_short}_summary_plotting.tsv.gz'\n",
    "\n",
    "    df = pd.read_csv(path, compression=\"gzip\")\n",
    "    plot_df = df.loc[ df['junctionAnnotated'] == 0, \\\n",
    "             ['kmer', sample_pool, 'percentile_rank', '#cancer_samples']].drop_duplicates()\n",
    "    ax = sns.jointplot(data=plot_df, x=sample_pool, y=\"percentile_rank\", \n",
    "                       color = color2)\n",
    "    x_label = 'Normalized expression'\n",
    "    y_label = 'Binding percentile rank (strong < 2)'\n",
    "    ax.set_axis_labels(x_label, y_label, fontsize=12)  \n",
    "    plt.suptitle('cancer-specific junction-9mers', y = 1,  fontsize=12)  \n",
    "    plt.show()\n",
    "\n"
   ]
  },
  {
   "cell_type": "markdown",
   "metadata": {},
   "source": [
    "# Recurrence "
   ]
  },
  {
   "cell_type": "code",
   "execution_count": 157,
   "metadata": {
    "ExecuteTime": {
     "end_time": "2022-05-31T14:22:49.665455Z",
     "start_time": "2022-05-31T14:21:07.126812Z"
    }
   },
   "outputs": [
    {
     "data": {
      "text/plain": [
       "'TCGA-BH-A18V-01A-11R-A12D-07.all'"
      ]
     },
     "metadata": {},
     "output_type": "display_data"
    },
    {
     "name": "stderr",
     "output_type": "stream",
     "text": [
      "/cluster/home/prelotla/software/anaconda3/envs/myimmuno3_light/lib/python3.8/site-packages/IPython/core/interactiveshell.py:3146: DtypeWarning: Columns (16) have mixed types.Specify dtype option on import or set low_memory=False.\n",
      "  has_raised = await self.run_ast_nodes(code_ast.body, cell_name,\n"
     ]
    },
    {
     "data": {
      "image/png": "[encoded data removed]",
      "text/plain": [
       "<Figure size 432x432 with 3 Axes>"
      ]
     },
     "metadata": {
      "needs_background": "light"
     },
     "output_type": "display_data"
    },
    {
     "data": {
      "text/plain": [
       "'TCGA-C8-A12P-01A-11R-A115-07.all'"
      ]
     },
     "metadata": {},
     "output_type": "display_data"
    },
    {
     "name": "stderr",
     "output_type": "stream",
     "text": [
      "/cluster/home/prelotla/software/anaconda3/envs/myimmuno3_light/lib/python3.8/site-packages/IPython/core/interactiveshell.py:3146: DtypeWarning: Columns (16) have mixed types.Specify dtype option on import or set low_memory=False.\n",
      "  has_raised = await self.run_ast_nodes(code_ast.body, cell_name,\n"
     ]
    },
    {
     "data": {
      "image/png": "[encoded data removed]",
      "text/plain": [
       "<Figure size 432x432 with 3 Axes>"
      ]
     },
     "metadata": {
      "needs_background": "light"
     },
     "output_type": "display_data"
    },
    {
     "data": {
      "text/plain": [
       "'TCGA-AO-A0JM-01A-21R-A056-07.all'"
      ]
     },
     "metadata": {},
     "output_type": "display_data"
    },
    {
     "name": "stderr",
     "output_type": "stream",
     "text": [
      "/cluster/home/prelotla/software/anaconda3/envs/myimmuno3_light/lib/python3.8/site-packages/IPython/core/interactiveshell.py:3146: DtypeWarning: Columns (16) have mixed types.Specify dtype option on import or set low_memory=False.\n",
      "  has_raised = await self.run_ast_nodes(code_ast.body, cell_name,\n"
     ]
    },
    {
     "data": {
      "image/png": "[encoded data removed]",
      "text/plain": [
       "<Figure size 432x432 with 3 Axes>"
      ]
     },
     "metadata": {
      "needs_background": "light"
     },
     "output_type": "display_data"
    },
    {
     "data": {
      "text/plain": [
       "'TCGA-A2-A0SX-01A-12R-A084-07.all'"
      ]
     },
     "metadata": {},
     "output_type": "display_data"
    },
    {
     "name": "stderr",
     "output_type": "stream",
     "text": [
      "/cluster/home/prelotla/software/anaconda3/envs/myimmuno3_light/lib/python3.8/site-packages/IPython/core/interactiveshell.py:3146: DtypeWarning: Columns (16) have mixed types.Specify dtype option on import or set low_memory=False.\n",
      "  has_raised = await self.run_ast_nodes(code_ast.body, cell_name,\n"
     ]
    },
    {
     "data": {
      "image/png": "[encoded data removed]",
      "text/plain": [
       "<Figure size 432x432 with 3 Axes>"
      ]
     },
     "metadata": {
      "needs_background": "light"
     },
     "output_type": "display_data"
    },
    {
     "data": {
      "text/plain": [
       "'TCGA-A2-A0D2-01A-21R-A034-07.all'"
      ]
     },
     "metadata": {},
     "output_type": "display_data"
    },
    {
     "name": "stderr",
     "output_type": "stream",
     "text": [
      "/cluster/home/prelotla/software/anaconda3/envs/myimmuno3_light/lib/python3.8/site-packages/IPython/core/interactiveshell.py:3146: DtypeWarning: Columns (16) have mixed types.Specify dtype option on import or set low_memory=False.\n",
      "  has_raised = await self.run_ast_nodes(code_ast.body, cell_name,\n"
     ]
    },
    {
     "data": {
      "image/png": "[encoded data removed]",
      "text/plain": [
       "<Figure size 432x432 with 3 Axes>"
      ]
     },
     "metadata": {
      "needs_background": "light"
     },
     "output_type": "display_data"
    }
   ],
   "source": [
    "samples = [\n",
    "    'TCGA-BH-A18V-01A-11R-A12D-07.all', \n",
    "        'TCGA-C8-A12P-01A-11R-A115-07.all', \n",
    "        'TCGA-AO-A0JM-01A-21R-A056-07.all', \n",
    "        'TCGA-A2-A0SX-01A-12R-A084-07.all',\n",
    "        'TCGA-A2-A0D2-01A-21R-A034-07.all']\n",
    "for sample in samples:\n",
    "    display(sample)\n",
    "    sample_short = ''.join(sample.split('.')[:-1])\n",
    "    sample_pool = sample.replace('-', '').replace('.', '')\n",
    "    sample_base = '-'.join(sample_short.split('-')[0:3])\n",
    "\n",
    "    path = f'/cluster/work/grlab/projects/projects2020_OHSU/peptides_generation/v2_v2.5f0752a_conf2_annotFrame_cap0_runs_pya0.17.1/TCGA_Breast_1102/filter_{sample_short}.all/commit_d4aee54_GTEXcore/G_{sample_short}_summary_plotting.tsv.gz'\n",
    "\n",
    "    df = pd.read_csv(path, compression=\"gzip\")\n",
    "    plot_df = df.loc[ df['junctionAnnotated'] == 0, \\\n",
    "             ['kmer', sample_pool, 'percentile_rank', '#cancer_samples']].drop_duplicates()\n",
    "    ax = sns.jointplot(data=plot_df, y=sample_pool, x=\"#cancer_samples\", \n",
    "                       color = color2)\n",
    "    y_label = 'Normalized expression'\n",
    "    x_label = 'Recurrence across 1102 BRCA samples'\n",
    "    plt.yscale(\"log\")  \n",
    "    ax.set_axis_labels(x_label, y_label, fontsize=12)  \n",
    "    plt.suptitle('cancer-specific junction-9mers', y = 1,  fontsize=12)  \n",
    "    plt.show()\n",
    "\n"
   ]
  },
  {
   "cell_type": "code",
   "execution_count": null,
   "metadata": {},
   "outputs": [],
   "source": []
  }
 ],
 "metadata": {
  "kernelspec": {
   "display_name": "myimmuno3_light",
   "language": "python",
   "name": "myimmuno3_light"
  },
  "language_info": {
   "codemirror_mode": {
    "name": "ipython",
    "version": 3
   },
   "file_extension": ".py",
   "mimetype": "text/x-python",
   "name": "python",
   "nbconvert_exporter": "python",
   "pygments_lexer": "ipython3",
   "version": "3.8.5"
  }
 },
 "nbformat": 4,
 "nbformat_minor": 4
}
