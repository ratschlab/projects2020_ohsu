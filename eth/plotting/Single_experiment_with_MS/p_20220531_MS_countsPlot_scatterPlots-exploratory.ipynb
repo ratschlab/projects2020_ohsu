{
 "cells": [
  {
   "cell_type": "code",
   "execution_count": 84,
   "metadata": {
    "ExecuteTime": {
     "end_time": "2022-05-31T11:50:37.419472Z",
     "start_time": "2022-05-31T11:50:37.415253Z"
    }
   },
   "outputs": [],
   "source": [
    "import os \n",
    "import pandas as pd\n",
    "from collections import defaultdict\n",
    "import numpy as np \n",
    "import glob\n",
    "import matplotlib.pyplot as plt\n",
    "import seaborn as sns"
   ]
  },
  {
   "cell_type": "code",
   "execution_count": 85,
   "metadata": {
    "ExecuteTime": {
     "end_time": "2022-05-31T11:50:37.622075Z",
     "start_time": "2022-05-31T11:50:37.617636Z"
    }
   },
   "outputs": [],
   "source": [
    "samples = ['TCGA-BH-A18V-01A-11R-A12D-07.all', \n",
    "        'TCGA-C8-A12P-01A-11R-A115-07.all', \n",
    "        'TCGA-AO-A0JM-01A-21R-A056-07.all', \n",
    "        'TCGA-A2-A0SX-01A-12R-A084-07.all',\n",
    "        'TCGA-A2-A0D2-01A-21R-A034-07.all']\n",
    "\n",
    "sample = samples[2]\n",
    "sample_short = ''.join(sample.split('.')[:-1])\n",
    "sample_pool = sample.replace('-', '').replace('.', '')"
   ]
  },
  {
   "cell_type": "code",
   "execution_count": 86,
   "metadata": {
    "ExecuteTime": {
     "end_time": "2022-05-31T11:50:37.811954Z",
     "start_time": "2022-05-31T11:50:37.808720Z"
    }
   },
   "outputs": [],
   "source": [
    "path = f'/cluster/work/grlab/projects/projects2020_OHSU/peptides_generation/v2_v2.5f0752a_conf2_annotFrame_cap0_runs_pya0.17.1/TCGA_Breast_1102/filter_{sample_short}.all/commit_d4aee54_GTEXcore/G_{sample_short}_summary_plotting.tsv.gz'"
   ]
  },
  {
   "cell_type": "code",
   "execution_count": 87,
   "metadata": {
    "ExecuteTime": {
     "end_time": "2022-05-31T11:50:37.981251Z",
     "start_time": "2022-05-31T11:50:37.976627Z"
    }
   },
   "outputs": [
    {
     "data": {
      "text/plain": [
       "'/cluster/work/grlab/projects/projects2020_OHSU/peptides_generation/v2_v2.5f0752a_conf2_annotFrame_cap0_runs_pya0.17.1/TCGA_Breast_1102/filter_TCGA-AO-A0JM-01A-21R-A056-07.all/commit_d4aee54_GTEXcore/G_TCGA-AO-A0JM-01A-21R-A056-07_summary_plotting.tsv.gz'"
      ]
     },
     "execution_count": 87,
     "metadata": {},
     "output_type": "execute_result"
    }
   ],
   "source": [
    "path"
   ]
  },
  {
   "cell_type": "code",
   "execution_count": 88,
   "metadata": {
    "ExecuteTime": {
     "end_time": "2022-05-31T11:50:39.459870Z",
     "start_time": "2022-05-31T11:50:38.175725Z"
    }
   },
   "outputs": [
    {
     "name": "stderr",
     "output_type": "stream",
     "text": [
      "/cluster/home/prelotla/software/anaconda3/envs/myimmuno3_light/lib/python3.8/site-packages/IPython/core/interactiveshell.py:3146: DtypeWarning: Columns (16) have mixed types.Specify dtype option on import or set low_memory=False.\n",
      "  has_raised = await self.run_ast_nodes(code_ast.body, cell_name,\n"
     ]
    },
    {
     "data": {
      "text/html": [
       "<div>\n",
       "<style scoped>\n",
       "    .dataframe tbody tr th:only-of-type {\n",
       "        vertical-align: middle;\n",
       "    }\n",
       "\n",
       "    .dataframe tbody tr th {\n",
       "        vertical-align: top;\n",
       "    }\n",
       "\n",
       "    .dataframe thead th {\n",
       "        text-align: right;\n",
       "    }\n",
       "</style>\n",
       "<table border=\"1\" class=\"dataframe\">\n",
       "  <thead>\n",
       "    <tr style=\"text-align: right;\">\n",
       "      <th></th>\n",
       "      <th>&gt;pepID</th>\n",
       "      <th>jx_pos</th>\n",
       "      <th>between_codons</th>\n",
       "      <th>includes_5'</th>\n",
       "      <th>includes_3'</th>\n",
       "      <th>gene</th>\n",
       "      <th>jx_coord</th>\n",
       "      <th>kmer</th>\n",
       "      <th>peptide</th>\n",
       "      <th>validated_peptide</th>\n",
       "      <th>validated_kmer</th>\n",
       "      <th>max_detections</th>\n",
       "      <th>TCGAAOA0JM01A21RA05607all</th>\n",
       "      <th>percentile_rank</th>\n",
       "      <th>affinity</th>\n",
       "      <th>readFrameAnnotated</th>\n",
       "      <th>junctionAnnotated</th>\n",
       "      <th>#cancer_samples</th>\n",
       "    </tr>\n",
       "  </thead>\n",
       "  <tbody>\n",
       "    <tr>\n",
       "      <th>0</th>\n",
       "      <td>1</td>\n",
       "      <td>12</td>\n",
       "      <td>0</td>\n",
       "      <td>0</td>\n",
       "      <td>1</td>\n",
       "      <td>ENSG00000119333.11</td>\n",
       "      <td>128640690_128636438</td>\n",
       "      <td>AAADGWTMG</td>\n",
       "      <td>WLRGELDRAAADGWTMGTGARLSPSCVPGTWTGETCVPSSRRPWWR...</td>\n",
       "      <td>0</td>\n",
       "      <td>0</td>\n",
       "      <td>NaN</td>\n",
       "      <td>8.0</td>\n",
       "      <td>1.8</td>\n",
       "      <td>5876.76</td>\n",
       "      <td>0</td>\n",
       "      <td>1</td>\n",
       "      <td>971.0</td>\n",
       "    </tr>\n",
       "    <tr>\n",
       "      <th>1</th>\n",
       "      <td>2</td>\n",
       "      <td>12</td>\n",
       "      <td>0</td>\n",
       "      <td>0</td>\n",
       "      <td>0</td>\n",
       "      <td>ENSG00000119333.11</td>\n",
       "      <td>128640690_128636438</td>\n",
       "      <td>AAADGWTMG</td>\n",
       "      <td>WLRGELDRAAADGWTMGTGARLSPSCVPGTWTGETCVPSSRRPWWR...</td>\n",
       "      <td>0</td>\n",
       "      <td>0</td>\n",
       "      <td>NaN</td>\n",
       "      <td>8.0</td>\n",
       "      <td>1.8</td>\n",
       "      <td>5876.76</td>\n",
       "      <td>0</td>\n",
       "      <td>1</td>\n",
       "      <td>971.0</td>\n",
       "    </tr>\n",
       "    <tr>\n",
       "      <th>2</th>\n",
       "      <td>3</td>\n",
       "      <td>58</td>\n",
       "      <td>0</td>\n",
       "      <td>0</td>\n",
       "      <td>0</td>\n",
       "      <td>ENSG00000011304.20</td>\n",
       "      <td>805187_805512</td>\n",
       "      <td>AAAFASPQA</td>\n",
       "      <td>SLDGQNIYNACCTLRIDFSKLTSLNVKYNNDKSRDYTRPDLPSGDS...</td>\n",
       "      <td>0</td>\n",
       "      <td>0</td>\n",
       "      <td>NaN</td>\n",
       "      <td>3.0</td>\n",
       "      <td>10.0</td>\n",
       "      <td>16407.83</td>\n",
       "      <td>0</td>\n",
       "      <td>1</td>\n",
       "      <td>1046.0</td>\n",
       "    </tr>\n",
       "    <tr>\n",
       "      <th>3</th>\n",
       "      <td>3</td>\n",
       "      <td>1</td>\n",
       "      <td>0</td>\n",
       "      <td>0</td>\n",
       "      <td>0</td>\n",
       "      <td>ENSG00000011304.20</td>\n",
       "      <td>805516_805555</td>\n",
       "      <td>AAAFASPQA</td>\n",
       "      <td>SLDGQNIYNACCTLRIDFSKLTSLNVKYNNDKSRDYTRPDLPSGDS...</td>\n",
       "      <td>0</td>\n",
       "      <td>0</td>\n",
       "      <td>NaN</td>\n",
       "      <td>3.0</td>\n",
       "      <td>10.0</td>\n",
       "      <td>16407.83</td>\n",
       "      <td>0</td>\n",
       "      <td>1</td>\n",
       "      <td>1046.0</td>\n",
       "    </tr>\n",
       "    <tr>\n",
       "      <th>4</th>\n",
       "      <td>5</td>\n",
       "      <td>58</td>\n",
       "      <td>0</td>\n",
       "      <td>0</td>\n",
       "      <td>1</td>\n",
       "      <td>ENSG00000011304.20</td>\n",
       "      <td>805187_805512</td>\n",
       "      <td>AAAFASPQA</td>\n",
       "      <td>SLDGQNIYNACCTLRIDFSKLTSLNVKYNNDKSRDYTRPDLPSGDS...</td>\n",
       "      <td>0</td>\n",
       "      <td>0</td>\n",
       "      <td>NaN</td>\n",
       "      <td>3.0</td>\n",
       "      <td>10.0</td>\n",
       "      <td>16407.83</td>\n",
       "      <td>0</td>\n",
       "      <td>1</td>\n",
       "      <td>1046.0</td>\n",
       "    </tr>\n",
       "  </tbody>\n",
       "</table>\n",
       "</div>"
      ],
      "text/plain": [
       "   >pepID  jx_pos  between_codons  includes_5'  includes_3'  \\\n",
       "0       1      12               0            0            1   \n",
       "1       2      12               0            0            0   \n",
       "2       3      58               0            0            0   \n",
       "3       3       1               0            0            0   \n",
       "4       5      58               0            0            1   \n",
       "\n",
       "                 gene             jx_coord       kmer  \\\n",
       "0  ENSG00000119333.11  128640690_128636438  AAADGWTMG   \n",
       "1  ENSG00000119333.11  128640690_128636438  AAADGWTMG   \n",
       "2  ENSG00000011304.20        805187_805512  AAAFASPQA   \n",
       "3  ENSG00000011304.20        805516_805555  AAAFASPQA   \n",
       "4  ENSG00000011304.20        805187_805512  AAAFASPQA   \n",
       "\n",
       "                                             peptide  validated_peptide  \\\n",
       "0  WLRGELDRAAADGWTMGTGARLSPSCVPGTWTGETCVPSSRRPWWR...                  0   \n",
       "1  WLRGELDRAAADGWTMGTGARLSPSCVPGTWTGETCVPSSRRPWWR...                  0   \n",
       "2  SLDGQNIYNACCTLRIDFSKLTSLNVKYNNDKSRDYTRPDLPSGDS...                  0   \n",
       "3  SLDGQNIYNACCTLRIDFSKLTSLNVKYNNDKSRDYTRPDLPSGDS...                  0   \n",
       "4  SLDGQNIYNACCTLRIDFSKLTSLNVKYNNDKSRDYTRPDLPSGDS...                  0   \n",
       "\n",
       "   validated_kmer  max_detections  TCGAAOA0JM01A21RA05607all  percentile_rank  \\\n",
       "0               0             NaN                        8.0              1.8   \n",
       "1               0             NaN                        8.0              1.8   \n",
       "2               0             NaN                        3.0             10.0   \n",
       "3               0             NaN                        3.0             10.0   \n",
       "4               0             NaN                        3.0             10.0   \n",
       "\n",
       "   affinity readFrameAnnotated junctionAnnotated  #cancer_samples  \n",
       "0   5876.76                  0                 1            971.0  \n",
       "1   5876.76                  0                 1            971.0  \n",
       "2  16407.83                  0                 1           1046.0  \n",
       "3  16407.83                  0                 1           1046.0  \n",
       "4  16407.83                  0                 1           1046.0  "
      ]
     },
     "metadata": {},
     "output_type": "display_data"
    }
   ],
   "source": [
    "df = pd.read_csv(path, compression=\"gzip\")\n",
    "\n",
    "df['junctionAnnotated'] = df['junctionAnnotated'].astype(str)\n",
    "\n",
    "df['readFrameAnnotated'] = df['readFrameAnnotated'].astype(str)\n",
    "display(df.head())"
   ]
  },
  {
   "cell_type": "code",
   "execution_count": 135,
   "metadata": {
    "ExecuteTime": {
     "end_time": "2022-05-31T12:03:44.395762Z",
     "start_time": "2022-05-31T12:03:44.303315Z"
    }
   },
   "outputs": [],
   "source": [
    "df['junctionAnnotated_readFrameAnnotated'] = df['junctionAnnotated'] + '_' +  df['readFrameAnnotated']"
   ]
  },
  {
   "cell_type": "code",
   "execution_count": 136,
   "metadata": {
    "ExecuteTime": {
     "end_time": "2022-05-31T12:03:44.576726Z",
     "start_time": "2022-05-31T12:03:44.539504Z"
    }
   },
   "outputs": [
    {
     "data": {
      "text/html": [
       "<div>\n",
       "<style scoped>\n",
       "    .dataframe tbody tr th:only-of-type {\n",
       "        vertical-align: middle;\n",
       "    }\n",
       "\n",
       "    .dataframe tbody tr th {\n",
       "        vertical-align: top;\n",
       "    }\n",
       "\n",
       "    .dataframe thead th {\n",
       "        text-align: right;\n",
       "    }\n",
       "</style>\n",
       "<table border=\"1\" class=\"dataframe\">\n",
       "  <thead>\n",
       "    <tr style=\"text-align: right;\">\n",
       "      <th></th>\n",
       "      <th>&gt;pepID</th>\n",
       "      <th>jx_pos</th>\n",
       "      <th>between_codons</th>\n",
       "      <th>includes_5'</th>\n",
       "      <th>includes_3'</th>\n",
       "      <th>gene</th>\n",
       "      <th>jx_coord</th>\n",
       "      <th>kmer</th>\n",
       "      <th>peptide</th>\n",
       "      <th>validated_peptide</th>\n",
       "      <th>validated_kmer</th>\n",
       "      <th>max_detections</th>\n",
       "      <th>TCGAAOA0JM01A21RA05607all</th>\n",
       "      <th>percentile_rank</th>\n",
       "      <th>affinity</th>\n",
       "      <th>readFrameAnnotated</th>\n",
       "      <th>junctionAnnotated</th>\n",
       "      <th>#cancer_samples</th>\n",
       "      <th>junctionAnnotated_readFrameAnnotated</th>\n",
       "    </tr>\n",
       "  </thead>\n",
       "  <tbody>\n",
       "    <tr>\n",
       "      <th>0</th>\n",
       "      <td>1</td>\n",
       "      <td>12</td>\n",
       "      <td>0</td>\n",
       "      <td>0</td>\n",
       "      <td>1</td>\n",
       "      <td>ENSG00000119333.11</td>\n",
       "      <td>128640690_128636438</td>\n",
       "      <td>AAADGWTMG</td>\n",
       "      <td>WLRGELDRAAADGWTMGTGARLSPSCVPGTWTGETCVPSSRRPWWR...</td>\n",
       "      <td>0</td>\n",
       "      <td>0</td>\n",
       "      <td>NaN</td>\n",
       "      <td>8.0</td>\n",
       "      <td>1.8</td>\n",
       "      <td>5876.76</td>\n",
       "      <td>0</td>\n",
       "      <td>1</td>\n",
       "      <td>971.0</td>\n",
       "      <td>1_0</td>\n",
       "    </tr>\n",
       "    <tr>\n",
       "      <th>1</th>\n",
       "      <td>2</td>\n",
       "      <td>12</td>\n",
       "      <td>0</td>\n",
       "      <td>0</td>\n",
       "      <td>0</td>\n",
       "      <td>ENSG00000119333.11</td>\n",
       "      <td>128640690_128636438</td>\n",
       "      <td>AAADGWTMG</td>\n",
       "      <td>WLRGELDRAAADGWTMGTGARLSPSCVPGTWTGETCVPSSRRPWWR...</td>\n",
       "      <td>0</td>\n",
       "      <td>0</td>\n",
       "      <td>NaN</td>\n",
       "      <td>8.0</td>\n",
       "      <td>1.8</td>\n",
       "      <td>5876.76</td>\n",
       "      <td>0</td>\n",
       "      <td>1</td>\n",
       "      <td>971.0</td>\n",
       "      <td>1_0</td>\n",
       "    </tr>\n",
       "    <tr>\n",
       "      <th>2</th>\n",
       "      <td>3</td>\n",
       "      <td>58</td>\n",
       "      <td>0</td>\n",
       "      <td>0</td>\n",
       "      <td>0</td>\n",
       "      <td>ENSG00000011304.20</td>\n",
       "      <td>805187_805512</td>\n",
       "      <td>AAAFASPQA</td>\n",
       "      <td>SLDGQNIYNACCTLRIDFSKLTSLNVKYNNDKSRDYTRPDLPSGDS...</td>\n",
       "      <td>0</td>\n",
       "      <td>0</td>\n",
       "      <td>NaN</td>\n",
       "      <td>3.0</td>\n",
       "      <td>10.0</td>\n",
       "      <td>16407.83</td>\n",
       "      <td>0</td>\n",
       "      <td>1</td>\n",
       "      <td>1046.0</td>\n",
       "      <td>1_0</td>\n",
       "    </tr>\n",
       "    <tr>\n",
       "      <th>3</th>\n",
       "      <td>3</td>\n",
       "      <td>1</td>\n",
       "      <td>0</td>\n",
       "      <td>0</td>\n",
       "      <td>0</td>\n",
       "      <td>ENSG00000011304.20</td>\n",
       "      <td>805516_805555</td>\n",
       "      <td>AAAFASPQA</td>\n",
       "      <td>SLDGQNIYNACCTLRIDFSKLTSLNVKYNNDKSRDYTRPDLPSGDS...</td>\n",
       "      <td>0</td>\n",
       "      <td>0</td>\n",
       "      <td>NaN</td>\n",
       "      <td>3.0</td>\n",
       "      <td>10.0</td>\n",
       "      <td>16407.83</td>\n",
       "      <td>0</td>\n",
       "      <td>1</td>\n",
       "      <td>1046.0</td>\n",
       "      <td>1_0</td>\n",
       "    </tr>\n",
       "    <tr>\n",
       "      <th>4</th>\n",
       "      <td>5</td>\n",
       "      <td>58</td>\n",
       "      <td>0</td>\n",
       "      <td>0</td>\n",
       "      <td>1</td>\n",
       "      <td>ENSG00000011304.20</td>\n",
       "      <td>805187_805512</td>\n",
       "      <td>AAAFASPQA</td>\n",
       "      <td>SLDGQNIYNACCTLRIDFSKLTSLNVKYNNDKSRDYTRPDLPSGDS...</td>\n",
       "      <td>0</td>\n",
       "      <td>0</td>\n",
       "      <td>NaN</td>\n",
       "      <td>3.0</td>\n",
       "      <td>10.0</td>\n",
       "      <td>16407.83</td>\n",
       "      <td>0</td>\n",
       "      <td>1</td>\n",
       "      <td>1046.0</td>\n",
       "      <td>1_0</td>\n",
       "    </tr>\n",
       "  </tbody>\n",
       "</table>\n",
       "</div>"
      ],
      "text/plain": [
       "   >pepID  jx_pos  between_codons  includes_5'  includes_3'  \\\n",
       "0       1      12               0            0            1   \n",
       "1       2      12               0            0            0   \n",
       "2       3      58               0            0            0   \n",
       "3       3       1               0            0            0   \n",
       "4       5      58               0            0            1   \n",
       "\n",
       "                 gene             jx_coord       kmer  \\\n",
       "0  ENSG00000119333.11  128640690_128636438  AAADGWTMG   \n",
       "1  ENSG00000119333.11  128640690_128636438  AAADGWTMG   \n",
       "2  ENSG00000011304.20        805187_805512  AAAFASPQA   \n",
       "3  ENSG00000011304.20        805516_805555  AAAFASPQA   \n",
       "4  ENSG00000011304.20        805187_805512  AAAFASPQA   \n",
       "\n",
       "                                             peptide  validated_peptide  \\\n",
       "0  WLRGELDRAAADGWTMGTGARLSPSCVPGTWTGETCVPSSRRPWWR...                  0   \n",
       "1  WLRGELDRAAADGWTMGTGARLSPSCVPGTWTGETCVPSSRRPWWR...                  0   \n",
       "2  SLDGQNIYNACCTLRIDFSKLTSLNVKYNNDKSRDYTRPDLPSGDS...                  0   \n",
       "3  SLDGQNIYNACCTLRIDFSKLTSLNVKYNNDKSRDYTRPDLPSGDS...                  0   \n",
       "4  SLDGQNIYNACCTLRIDFSKLTSLNVKYNNDKSRDYTRPDLPSGDS...                  0   \n",
       "\n",
       "   validated_kmer  max_detections  TCGAAOA0JM01A21RA05607all  percentile_rank  \\\n",
       "0               0             NaN                        8.0              1.8   \n",
       "1               0             NaN                        8.0              1.8   \n",
       "2               0             NaN                        3.0             10.0   \n",
       "3               0             NaN                        3.0             10.0   \n",
       "4               0             NaN                        3.0             10.0   \n",
       "\n",
       "   affinity readFrameAnnotated junctionAnnotated  #cancer_samples  \\\n",
       "0   5876.76                  0                 1            971.0   \n",
       "1   5876.76                  0                 1            971.0   \n",
       "2  16407.83                  0                 1           1046.0   \n",
       "3  16407.83                  0                 1           1046.0   \n",
       "4  16407.83                  0                 1           1046.0   \n",
       "\n",
       "  junctionAnnotated_readFrameAnnotated  \n",
       "0                                  1_0  \n",
       "1                                  1_0  \n",
       "2                                  1_0  \n",
       "3                                  1_0  \n",
       "4                                  1_0  "
      ]
     },
     "execution_count": 136,
     "metadata": {},
     "output_type": "execute_result"
    }
   ],
   "source": [
    "df.head()"
   ]
  },
  {
   "cell_type": "code",
   "execution_count": 137,
   "metadata": {
    "ExecuteTime": {
     "end_time": "2022-05-31T12:03:44.797776Z",
     "start_time": "2022-05-31T12:03:44.690022Z"
    },
    "scrolled": true
   },
   "outputs": [
    {
     "data": {
      "text/plain": [
       "21084"
      ]
     },
     "execution_count": 137,
     "metadata": {},
     "output_type": "execute_result"
    }
   ],
   "source": [
    "df.loc[(df['readFrameAnnotated'] == '1') & (df['junctionAnnotated'] == '1')].shape[0]"
   ]
  },
  {
   "cell_type": "code",
   "execution_count": 138,
   "metadata": {
    "ExecuteTime": {
     "end_time": "2022-05-31T12:03:44.913618Z",
     "start_time": "2022-05-31T12:03:44.860068Z"
    }
   },
   "outputs": [
    {
     "data": {
      "text/plain": [
       "30240"
      ]
     },
     "execution_count": 138,
     "metadata": {},
     "output_type": "execute_result"
    }
   ],
   "source": [
    "df.loc[(df['readFrameAnnotated'] == '0') & (df['junctionAnnotated'] == '0')].shape[0]"
   ]
  },
  {
   "cell_type": "code",
   "execution_count": 139,
   "metadata": {
    "ExecuteTime": {
     "end_time": "2022-05-31T12:03:45.075548Z",
     "start_time": "2022-05-31T12:03:45.027037Z"
    }
   },
   "outputs": [
    {
     "data": {
      "text/plain": [
       "4335"
      ]
     },
     "execution_count": 139,
     "metadata": {},
     "output_type": "execute_result"
    }
   ],
   "source": [
    "df.loc[(df['readFrameAnnotated'] == '1') & (df['junctionAnnotated'] == '0')].shape[0]"
   ]
  },
  {
   "cell_type": "code",
   "execution_count": 140,
   "metadata": {
    "ExecuteTime": {
     "end_time": "2022-05-31T12:03:45.265730Z",
     "start_time": "2022-05-31T12:03:45.193889Z"
    }
   },
   "outputs": [
    {
     "data": {
      "text/plain": [
       "178109"
      ]
     },
     "execution_count": 140,
     "metadata": {},
     "output_type": "execute_result"
    }
   ],
   "source": [
    "df.loc[(df['readFrameAnnotated'] == '0') & (df['junctionAnnotated'] == '1')].shape[0]"
   ]
  },
  {
   "cell_type": "code",
   "execution_count": 141,
   "metadata": {
    "ExecuteTime": {
     "end_time": "2022-05-31T12:03:45.387951Z",
     "start_time": "2022-05-31T12:03:45.364683Z"
    }
   },
   "outputs": [],
   "source": [
    "#dz = df\n",
    "dz = df.loc[df['validated_peptide'] == 1]"
   ]
  },
  {
   "cell_type": "code",
   "execution_count": 142,
   "metadata": {
    "ExecuteTime": {
     "end_time": "2022-05-31T12:03:45.551654Z",
     "start_time": "2022-05-31T12:03:45.546046Z"
    }
   },
   "outputs": [
    {
     "data": {
      "text/plain": [
       "(11713, 19)"
      ]
     },
     "execution_count": 142,
     "metadata": {},
     "output_type": "execute_result"
    }
   ],
   "source": [
    "dz.shape"
   ]
  },
  {
   "cell_type": "code",
   "execution_count": 143,
   "metadata": {
    "ExecuteTime": {
     "end_time": "2022-05-31T12:03:45.763401Z",
     "start_time": "2022-05-31T12:03:45.752579Z"
    }
   },
   "outputs": [
    {
     "data": {
      "text/plain": [
       "(4309,)"
      ]
     },
     "execution_count": 143,
     "metadata": {},
     "output_type": "execute_result"
    }
   ],
   "source": [
    "dz['peptide'].unique().shape"
   ]
  },
  {
   "cell_type": "code",
   "execution_count": 144,
   "metadata": {
    "ExecuteTime": {
     "end_time": "2022-05-31T12:03:45.945499Z",
     "start_time": "2022-05-31T12:03:45.937187Z"
    }
   },
   "outputs": [
    {
     "data": {
      "text/plain": [
       "(4964,)"
      ]
     },
     "execution_count": 144,
     "metadata": {},
     "output_type": "execute_result"
    }
   ],
   "source": [
    "dz['kmer'].unique().shape"
   ]
  },
  {
   "cell_type": "code",
   "execution_count": 145,
   "metadata": {
    "ExecuteTime": {
     "end_time": "2022-05-31T12:03:46.158288Z",
     "start_time": "2022-05-31T12:03:46.150782Z"
    }
   },
   "outputs": [
    {
     "data": {
      "text/plain": [
       "(1879,)"
      ]
     },
     "execution_count": 145,
     "metadata": {},
     "output_type": "execute_result"
    }
   ],
   "source": [
    "dz['gene'].unique().shape"
   ]
  },
  {
   "cell_type": "code",
   "execution_count": 146,
   "metadata": {
    "ExecuteTime": {
     "end_time": "2022-05-31T12:03:48.155626Z",
     "start_time": "2022-05-31T12:03:46.332069Z"
    }
   },
   "outputs": [
    {
     "data": {
      "text/html": [
       "<div>\n",
       "<style scoped>\n",
       "    .dataframe tbody tr th:only-of-type {\n",
       "        vertical-align: middle;\n",
       "    }\n",
       "\n",
       "    .dataframe tbody tr th {\n",
       "        vertical-align: top;\n",
       "    }\n",
       "\n",
       "    .dataframe thead th {\n",
       "        text-align: right;\n",
       "    }\n",
       "</style>\n",
       "<table border=\"1\" class=\"dataframe\">\n",
       "  <thead>\n",
       "    <tr style=\"text-align: right;\">\n",
       "      <th></th>\n",
       "      <th></th>\n",
       "      <th>&gt;pepID</th>\n",
       "      <th>jx_pos</th>\n",
       "      <th>between_codons</th>\n",
       "      <th>includes_5'</th>\n",
       "      <th>includes_3'</th>\n",
       "      <th>gene</th>\n",
       "      <th>jx_coord</th>\n",
       "      <th>kmer</th>\n",
       "      <th>peptide</th>\n",
       "      <th>validated_peptide</th>\n",
       "      <th>validated_kmer</th>\n",
       "      <th>max_detections</th>\n",
       "      <th>TCGAAOA0JM01A21RA05607all</th>\n",
       "      <th>percentile_rank</th>\n",
       "      <th>affinity</th>\n",
       "      <th>#cancer_samples</th>\n",
       "      <th>junctionAnnotated_readFrameAnnotated</th>\n",
       "    </tr>\n",
       "    <tr>\n",
       "      <th>junctionAnnotated</th>\n",
       "      <th>readFrameAnnotated</th>\n",
       "      <th></th>\n",
       "      <th></th>\n",
       "      <th></th>\n",
       "      <th></th>\n",
       "      <th></th>\n",
       "      <th></th>\n",
       "      <th></th>\n",
       "      <th></th>\n",
       "      <th></th>\n",
       "      <th></th>\n",
       "      <th></th>\n",
       "      <th></th>\n",
       "      <th></th>\n",
       "      <th></th>\n",
       "      <th></th>\n",
       "      <th></th>\n",
       "      <th></th>\n",
       "    </tr>\n",
       "  </thead>\n",
       "  <tbody>\n",
       "    <tr>\n",
       "      <th rowspan=\"3\" valign=\"top\">0</th>\n",
       "      <th>0</th>\n",
       "      <td>1453</td>\n",
       "      <td>1453</td>\n",
       "      <td>1453</td>\n",
       "      <td>1453</td>\n",
       "      <td>1453</td>\n",
       "      <td>1453</td>\n",
       "      <td>1453</td>\n",
       "      <td>1453</td>\n",
       "      <td>1453</td>\n",
       "      <td>1453</td>\n",
       "      <td>1453</td>\n",
       "      <td>1453</td>\n",
       "      <td>1371</td>\n",
       "      <td>1371</td>\n",
       "      <td>1371</td>\n",
       "      <td>1395</td>\n",
       "      <td>1453</td>\n",
       "    </tr>\n",
       "    <tr>\n",
       "      <th>0/1</th>\n",
       "      <td>16</td>\n",
       "      <td>16</td>\n",
       "      <td>16</td>\n",
       "      <td>16</td>\n",
       "      <td>16</td>\n",
       "      <td>16</td>\n",
       "      <td>16</td>\n",
       "      <td>16</td>\n",
       "      <td>16</td>\n",
       "      <td>16</td>\n",
       "      <td>16</td>\n",
       "      <td>16</td>\n",
       "      <td>16</td>\n",
       "      <td>16</td>\n",
       "      <td>16</td>\n",
       "      <td>16</td>\n",
       "      <td>16</td>\n",
       "    </tr>\n",
       "    <tr>\n",
       "      <th>1</th>\n",
       "      <td>189</td>\n",
       "      <td>189</td>\n",
       "      <td>189</td>\n",
       "      <td>189</td>\n",
       "      <td>189</td>\n",
       "      <td>189</td>\n",
       "      <td>189</td>\n",
       "      <td>189</td>\n",
       "      <td>189</td>\n",
       "      <td>189</td>\n",
       "      <td>189</td>\n",
       "      <td>189</td>\n",
       "      <td>179</td>\n",
       "      <td>179</td>\n",
       "      <td>179</td>\n",
       "      <td>182</td>\n",
       "      <td>189</td>\n",
       "    </tr>\n",
       "    <tr>\n",
       "      <th>0/1</th>\n",
       "      <th>0</th>\n",
       "      <td>2</td>\n",
       "      <td>2</td>\n",
       "      <td>2</td>\n",
       "      <td>2</td>\n",
       "      <td>2</td>\n",
       "      <td>2</td>\n",
       "      <td>2</td>\n",
       "      <td>2</td>\n",
       "      <td>2</td>\n",
       "      <td>2</td>\n",
       "      <td>2</td>\n",
       "      <td>2</td>\n",
       "      <td>2</td>\n",
       "      <td>2</td>\n",
       "      <td>2</td>\n",
       "      <td>2</td>\n",
       "      <td>2</td>\n",
       "    </tr>\n",
       "    <tr>\n",
       "      <th rowspan=\"3\" valign=\"top\">1</th>\n",
       "      <th>0</th>\n",
       "      <td>8918</td>\n",
       "      <td>8918</td>\n",
       "      <td>8918</td>\n",
       "      <td>8918</td>\n",
       "      <td>8918</td>\n",
       "      <td>8918</td>\n",
       "      <td>8918</td>\n",
       "      <td>8918</td>\n",
       "      <td>8918</td>\n",
       "      <td>8918</td>\n",
       "      <td>8918</td>\n",
       "      <td>8918</td>\n",
       "      <td>8907</td>\n",
       "      <td>8907</td>\n",
       "      <td>8907</td>\n",
       "      <td>8914</td>\n",
       "      <td>8918</td>\n",
       "    </tr>\n",
       "    <tr>\n",
       "      <th>0/1</th>\n",
       "      <td>24</td>\n",
       "      <td>24</td>\n",
       "      <td>24</td>\n",
       "      <td>24</td>\n",
       "      <td>24</td>\n",
       "      <td>24</td>\n",
       "      <td>24</td>\n",
       "      <td>24</td>\n",
       "      <td>24</td>\n",
       "      <td>24</td>\n",
       "      <td>24</td>\n",
       "      <td>24</td>\n",
       "      <td>24</td>\n",
       "      <td>24</td>\n",
       "      <td>24</td>\n",
       "      <td>24</td>\n",
       "      <td>24</td>\n",
       "    </tr>\n",
       "    <tr>\n",
       "      <th>1</th>\n",
       "      <td>1111</td>\n",
       "      <td>1111</td>\n",
       "      <td>1111</td>\n",
       "      <td>1111</td>\n",
       "      <td>1111</td>\n",
       "      <td>1111</td>\n",
       "      <td>1111</td>\n",
       "      <td>1111</td>\n",
       "      <td>1111</td>\n",
       "      <td>1111</td>\n",
       "      <td>1111</td>\n",
       "      <td>1111</td>\n",
       "      <td>1111</td>\n",
       "      <td>1111</td>\n",
       "      <td>1111</td>\n",
       "      <td>1111</td>\n",
       "      <td>1111</td>\n",
       "    </tr>\n",
       "  </tbody>\n",
       "</table>\n",
       "</div>"
      ],
      "text/plain": [
       "                                      >pepID  jx_pos  between_codons  \\\n",
       "junctionAnnotated readFrameAnnotated                                   \n",
       "0                 0                     1453    1453            1453   \n",
       "                  0/1                     16      16              16   \n",
       "                  1                      189     189             189   \n",
       "0/1               0                        2       2               2   \n",
       "1                 0                     8918    8918            8918   \n",
       "                  0/1                     24      24              24   \n",
       "                  1                     1111    1111            1111   \n",
       "\n",
       "                                      includes_5'  includes_3'  gene  \\\n",
       "junctionAnnotated readFrameAnnotated                                   \n",
       "0                 0                          1453         1453  1453   \n",
       "                  0/1                          16           16    16   \n",
       "                  1                           189          189   189   \n",
       "0/1               0                             2            2     2   \n",
       "1                 0                          8918         8918  8918   \n",
       "                  0/1                          24           24    24   \n",
       "                  1                          1111         1111  1111   \n",
       "\n",
       "                                      jx_coord  kmer  peptide  \\\n",
       "junctionAnnotated readFrameAnnotated                            \n",
       "0                 0                       1453  1453     1453   \n",
       "                  0/1                       16    16       16   \n",
       "                  1                        189   189      189   \n",
       "0/1               0                          2     2        2   \n",
       "1                 0                       8918  8918     8918   \n",
       "                  0/1                       24    24       24   \n",
       "                  1                       1111  1111     1111   \n",
       "\n",
       "                                      validated_peptide  validated_kmer  \\\n",
       "junctionAnnotated readFrameAnnotated                                      \n",
       "0                 0                                1453            1453   \n",
       "                  0/1                                16              16   \n",
       "                  1                                 189             189   \n",
       "0/1               0                                   2               2   \n",
       "1                 0                                8918            8918   \n",
       "                  0/1                                24              24   \n",
       "                  1                                1111            1111   \n",
       "\n",
       "                                      max_detections  \\\n",
       "junctionAnnotated readFrameAnnotated                   \n",
       "0                 0                             1453   \n",
       "                  0/1                             16   \n",
       "                  1                              189   \n",
       "0/1               0                                2   \n",
       "1                 0                             8918   \n",
       "                  0/1                             24   \n",
       "                  1                             1111   \n",
       "\n",
       "                                      TCGAAOA0JM01A21RA05607all  \\\n",
       "junctionAnnotated readFrameAnnotated                              \n",
       "0                 0                                        1371   \n",
       "                  0/1                                        16   \n",
       "                  1                                         179   \n",
       "0/1               0                                           2   \n",
       "1                 0                                        8907   \n",
       "                  0/1                                        24   \n",
       "                  1                                        1111   \n",
       "\n",
       "                                      percentile_rank  affinity  \\\n",
       "junctionAnnotated readFrameAnnotated                              \n",
       "0                 0                              1371      1371   \n",
       "                  0/1                              16        16   \n",
       "                  1                               179       179   \n",
       "0/1               0                                 2         2   \n",
       "1                 0                              8907      8907   \n",
       "                  0/1                              24        24   \n",
       "                  1                              1111      1111   \n",
       "\n",
       "                                      #cancer_samples  \\\n",
       "junctionAnnotated readFrameAnnotated                    \n",
       "0                 0                              1395   \n",
       "                  0/1                              16   \n",
       "                  1                               182   \n",
       "0/1               0                                 2   \n",
       "1                 0                              8914   \n",
       "                  0/1                              24   \n",
       "                  1                              1111   \n",
       "\n",
       "                                      junctionAnnotated_readFrameAnnotated  \n",
       "junctionAnnotated readFrameAnnotated                                        \n",
       "0                 0                                                   1453  \n",
       "                  0/1                                                   16  \n",
       "                  1                                                    189  \n",
       "0/1               0                                                      2  \n",
       "1                 0                                                   8918  \n",
       "                  0/1                                                   24  \n",
       "                  1                                                   1111  "
      ]
     },
     "execution_count": 146,
     "metadata": {},
     "output_type": "execute_result"
    }
   ],
   "source": [
    "dz.groupby(['junctionAnnotated', 'readFrameAnnotated']).count()"
   ]
  },
  {
   "cell_type": "code",
   "execution_count": 147,
   "metadata": {
    "ExecuteTime": {
     "end_time": "2022-05-31T12:03:48.174065Z",
     "start_time": "2022-05-31T12:03:48.158987Z"
    }
   },
   "outputs": [],
   "source": [
    "plot_df = dz[['kmer', sample_pool, 'percentile_rank', '#cancer_samples']].drop_duplicates()"
   ]
  },
  {
   "cell_type": "code",
   "execution_count": 148,
   "metadata": {
    "ExecuteTime": {
     "end_time": "2022-05-31T12:03:48.182825Z",
     "start_time": "2022-05-31T12:03:48.177112Z"
    }
   },
   "outputs": [
    {
     "data": {
      "text/plain": [
       "(4964, 4)"
      ]
     },
     "execution_count": 148,
     "metadata": {},
     "output_type": "execute_result"
    }
   ],
   "source": [
    "plot_df.shape"
   ]
  },
  {
   "cell_type": "code",
   "execution_count": 149,
   "metadata": {
    "ExecuteTime": {
     "end_time": "2022-05-31T12:03:48.202074Z",
     "start_time": "2022-05-31T12:03:48.186610Z"
    }
   },
   "outputs": [],
   "source": [
    "plot_df_almost_unique = dz[['kmer', sample_pool, 'percentile_rank', '#cancer_samples', \n",
    "    'junctionAnnotated', 'readFrameAnnotated']].drop_duplicates()\n"
   ]
  },
  {
   "cell_type": "code",
   "execution_count": 150,
   "metadata": {
    "ExecuteTime": {
     "end_time": "2022-05-31T12:03:48.210269Z",
     "start_time": "2022-05-31T12:03:48.204264Z"
    }
   },
   "outputs": [
    {
     "data": {
      "text/plain": [
       "(5164, 6)"
      ]
     },
     "execution_count": 150,
     "metadata": {},
     "output_type": "execute_result"
    }
   ],
   "source": [
    "plot_df_almost_unique.shape"
   ]
  },
  {
   "cell_type": "code",
   "execution_count": 151,
   "metadata": {
    "ExecuteTime": {
     "end_time": "2022-05-31T12:03:48.427307Z",
     "start_time": "2022-05-31T12:03:48.213942Z"
    }
   },
   "outputs": [
    {
     "data": {
      "text/plain": [
       "(array([4.657e+03, 1.130e+02, 6.500e+01, 1.200e+01, 8.000e+00, 1.000e+01,\n",
       "        0.000e+00, 2.000e+00, 2.000e+00, 1.000e+00]),\n",
       " array([1.00000e+00, 2.70610e+03, 5.41120e+03, 8.11630e+03, 1.08214e+04,\n",
       "        1.35265e+04, 1.62316e+04, 1.89367e+04, 2.16418e+04, 2.43469e+04,\n",
       "        2.70520e+04]),\n",
       " <BarContainer object of 10 artists>)"
      ]
     },
     "execution_count": 151,
     "metadata": {},
     "output_type": "execute_result"
    },
    {
     "data": {
      "image/png": "[encoded data removed]",
      "text/plain": [
       "<Figure size 432x288 with 1 Axes>"
      ]
     },
     "metadata": {
      "needs_background": "light"
     },
     "output_type": "display_data"
    }
   ],
   "source": [
    "plt.hist(plot_df[sample_pool])"
   ]
  },
  {
   "cell_type": "code",
   "execution_count": 152,
   "metadata": {
    "ExecuteTime": {
     "end_time": "2022-05-31T12:03:50.772085Z",
     "start_time": "2022-05-31T12:03:50.132650Z"
    }
   },
   "outputs": [
    {
     "name": "stderr",
     "output_type": "stream",
     "text": [
      "/cluster/home/prelotla/software/anaconda3/envs/myimmuno3_light/lib/python3.8/site-packages/seaborn/_decorators.py:36: FutureWarning: Pass the following variables as keyword args: x, y. From version 0.12, the only valid positional argument will be `data`, and passing other arguments without an explicit keyword will result in an error or misinterpretation.\n",
      "  warnings.warn(\n"
     ]
    },
    {
     "data": {
      "text/plain": [
       "<AxesSubplot:xlabel='TCGAAOA0JM01A21RA05607all', ylabel='percentile_rank'>"
      ]
     },
     "execution_count": 152,
     "metadata": {},
     "output_type": "execute_result"
    },
    {
     "data": {
      "image/png": "[encoded data removed]",
      "text/plain": [
       "<Figure size 432x288 with 1 Axes>"
      ]
     },
     "metadata": {
      "needs_background": "light"
     },
     "output_type": "display_data"
    }
   ],
   "source": [
    "sns.scatterplot( plot_df[sample_pool], plot_df['percentile_rank'])"
   ]
  },
  {
   "cell_type": "code",
   "execution_count": 153,
   "metadata": {
    "ExecuteTime": {
     "end_time": "2022-05-31T12:03:53.459077Z",
     "start_time": "2022-05-31T12:03:50.779043Z"
    }
   },
   "outputs": [
    {
     "data": {
      "text/plain": [
       "<seaborn.axisgrid.JointGrid at 0x2b6cee615e80>"
      ]
     },
     "execution_count": 153,
     "metadata": {},
     "output_type": "execute_result"
    },
    {
     "data": {
      "image/png": "[encoded data removed]",
      "text/plain": [
       "<Figure size 432x432 with 3 Axes>"
      ]
     },
     "metadata": {
      "needs_background": "light"
     },
     "output_type": "display_data"
    }
   ],
   "source": [
    "sns.jointplot(data=plot_df, x=sample_pool, y=\"percentile_rank\")"
   ]
  },
  {
   "cell_type": "code",
   "execution_count": 154,
   "metadata": {
    "ExecuteTime": {
     "end_time": "2022-05-31T12:03:55.274026Z",
     "start_time": "2022-05-31T12:03:53.462349Z"
    }
   },
   "outputs": [
    {
     "data": {
      "text/plain": [
       "<seaborn.axisgrid.FacetGrid at 0x2b6cec749700>"
      ]
     },
     "execution_count": 154,
     "metadata": {},
     "output_type": "execute_result"
    },
    {
     "data": {
      "image/png": "[encoded data removed]",
      "text/plain": [
       "<Figure size 360x360 with 2 Axes>"
      ]
     },
     "metadata": {
      "needs_background": "light"
     },
     "output_type": "display_data"
    }
   ],
   "source": [
    "sns.displot(data=plot_df, x=sample_pool, y=\"percentile_rank\", binwidth=(2, .5), cbar=True)"
   ]
  },
  {
   "cell_type": "code",
   "execution_count": 155,
   "metadata": {
    "ExecuteTime": {
     "end_time": "2022-05-31T12:04:02.394301Z",
     "start_time": "2022-05-31T12:03:55.277120Z"
    }
   },
   "outputs": [
    {
     "data": {
      "text/plain": [
       "<seaborn.axisgrid.FacetGrid at 0x2b6ce8807490>"
      ]
     },
     "execution_count": 155,
     "metadata": {},
     "output_type": "execute_result"
    },
    {
     "data": {
      "image/png": "[encoded data removed]",
      "text/plain": [
       "<Figure size 360x360 with 1 Axes>"
      ]
     },
     "metadata": {
      "needs_background": "light"
     },
     "output_type": "display_data"
    }
   ],
   "source": [
    "sns.displot(data=plot_df, x=sample_pool, y=\"percentile_rank\", kind='kde')"
   ]
  },
  {
   "cell_type": "code",
   "execution_count": 156,
   "metadata": {
    "ExecuteTime": {
     "end_time": "2022-05-31T12:04:02.927174Z",
     "start_time": "2022-05-31T12:04:02.397534Z"
    }
   },
   "outputs": [
    {
     "data": {
      "text/plain": [
       "<AxesSubplot:xlabel='junctionAnnotated', ylabel='#cancer_samples'>"
      ]
     },
     "execution_count": 156,
     "metadata": {},
     "output_type": "execute_result"
    },
    {
     "data": {
      "image/png": "[encoded data removed]",
      "text/plain": [
       "<Figure size 432x288 with 1 Axes>"
      ]
     },
     "metadata": {
      "needs_background": "light"
     },
     "output_type": "display_data"
    }
   ],
   "source": [
    "sns.barplot(data=plot_df_almost_unique, y=\"#cancer_samples\", x = 'junctionAnnotated')"
   ]
  },
  {
   "cell_type": "code",
   "execution_count": 130,
   "metadata": {
    "ExecuteTime": {
     "end_time": "2022-05-31T12:01:53.282064Z",
     "start_time": "2022-05-31T12:01:52.668977Z"
    }
   },
   "outputs": [
    {
     "data": {
      "text/plain": [
       "<AxesSubplot:xlabel='junctionAnnotated', ylabel='#cancer_samples'>"
      ]
     },
     "execution_count": 130,
     "metadata": {},
     "output_type": "execute_result"
    },
    {
     "data": {
      "image/png": "[encoded data removed]",
      "text/plain": [
       "<Figure size 432x288 with 1 Axes>"
      ]
     },
     "metadata": {
      "needs_background": "light"
     },
     "output_type": "display_data"
    }
   ],
   "source": [
    "sns.boxplot(data=df, y=\"#cancer_samples\" , x = 'junctionAnnotated')"
   ]
  },
  {
   "cell_type": "code",
   "execution_count": 158,
   "metadata": {
    "ExecuteTime": {
     "end_time": "2022-05-31T12:04:23.979019Z",
     "start_time": "2022-05-31T12:04:23.435551Z"
    }
   },
   "outputs": [
    {
     "data": {
      "text/plain": [
       "<AxesSubplot:xlabel='junctionAnnotated_readFrameAnnotated', ylabel='#cancer_samples'>"
      ]
     },
     "execution_count": 158,
     "metadata": {},
     "output_type": "execute_result"
    },
    {
     "data": {
      "image/png": "[encoded data removed]",
      "text/plain": [
       "<Figure size 432x288 with 1 Axes>"
      ]
     },
     "metadata": {
      "needs_background": "light"
     },
     "output_type": "display_data"
    }
   ],
   "source": [
    "sns.boxplot(data=df, y=\"#cancer_samples\" , x = 'junctionAnnotated_readFrameAnnotated')"
   ]
  },
  {
   "cell_type": "code",
   "execution_count": 126,
   "metadata": {
    "ExecuteTime": {
     "end_time": "2022-05-31T12:00:33.557151Z",
     "start_time": "2022-05-31T12:00:32.098007Z"
    }
   },
   "outputs": [
    {
     "data": {
      "text/plain": [
       "<AxesSubplot:xlabel='#cancer_samples'>"
      ]
     },
     "execution_count": 126,
     "metadata": {},
     "output_type": "execute_result"
    },
    {
     "data": {
      "image/png": "[encoded data removed]",
      "text/plain": [
       "<Figure size 432x288 with 1 Axes>"
      ]
     },
     "metadata": {
      "needs_background": "light"
     },
     "output_type": "display_data"
    }
   ],
   "source": [
    "sns.boxplot(data=plot_df_almost_unique[plot_df_almost_unique['junctionAnnotated'] == '1'], \n",
    "         x=\"#cancer_samples\")"
   ]
  },
  {
   "cell_type": "markdown",
   "metadata": {},
   "source": [
    "# Validated"
   ]
  },
  {
   "cell_type": "code",
   "execution_count": 105,
   "metadata": {
    "ExecuteTime": {
     "end_time": "2022-05-31T11:50:59.919306Z",
     "start_time": "2022-05-31T11:50:59.902029Z"
    }
   },
   "outputs": [],
   "source": [
    "validated = df.loc[df['validated_peptide'] == 1]"
   ]
  },
  {
   "cell_type": "code",
   "execution_count": 106,
   "metadata": {
    "ExecuteTime": {
     "end_time": "2022-05-31T11:50:59.940978Z",
     "start_time": "2022-05-31T11:50:59.925394Z"
    }
   },
   "outputs": [
    {
     "data": {
      "text/plain": [
       "(4309,)"
      ]
     },
     "execution_count": 106,
     "metadata": {},
     "output_type": "execute_result"
    }
   ],
   "source": [
    "validated['peptide'].unique().shape"
   ]
  },
  {
   "cell_type": "code",
   "execution_count": 107,
   "metadata": {
    "ExecuteTime": {
     "end_time": "2022-05-31T11:50:59.963190Z",
     "start_time": "2022-05-31T11:50:59.949456Z"
    }
   },
   "outputs": [
    {
     "data": {
      "text/plain": [
       "(4964,)"
      ]
     },
     "execution_count": 107,
     "metadata": {},
     "output_type": "execute_result"
    }
   ],
   "source": [
    "validated['kmer'].unique().shape"
   ]
  },
  {
   "cell_type": "code",
   "execution_count": 108,
   "metadata": {
    "ExecuteTime": {
     "end_time": "2022-05-31T11:50:59.978054Z",
     "start_time": "2022-05-31T11:50:59.969969Z"
    }
   },
   "outputs": [
    {
     "data": {
      "text/plain": [
       "(1879,)"
      ]
     },
     "execution_count": 108,
     "metadata": {},
     "output_type": "execute_result"
    }
   ],
   "source": [
    "validated['gene'].unique().shape"
   ]
  },
  {
   "cell_type": "code",
   "execution_count": 109,
   "metadata": {
    "ExecuteTime": {
     "end_time": "2022-05-31T11:51:00.019961Z",
     "start_time": "2022-05-31T11:50:59.981672Z"
    }
   },
   "outputs": [
    {
     "data": {
      "text/html": [
       "<div>\n",
       "<style scoped>\n",
       "    .dataframe tbody tr th:only-of-type {\n",
       "        vertical-align: middle;\n",
       "    }\n",
       "\n",
       "    .dataframe tbody tr th {\n",
       "        vertical-align: top;\n",
       "    }\n",
       "\n",
       "    .dataframe thead th {\n",
       "        text-align: right;\n",
       "    }\n",
       "</style>\n",
       "<table border=\"1\" class=\"dataframe\">\n",
       "  <thead>\n",
       "    <tr style=\"text-align: right;\">\n",
       "      <th></th>\n",
       "      <th></th>\n",
       "      <th>&gt;pepID</th>\n",
       "      <th>jx_pos</th>\n",
       "      <th>between_codons</th>\n",
       "      <th>includes_5'</th>\n",
       "      <th>includes_3'</th>\n",
       "      <th>gene</th>\n",
       "      <th>jx_coord</th>\n",
       "      <th>kmer</th>\n",
       "      <th>peptide</th>\n",
       "      <th>validated_peptide</th>\n",
       "      <th>validated_kmer</th>\n",
       "      <th>max_detections</th>\n",
       "      <th>TCGAAOA0JM01A21RA05607all</th>\n",
       "      <th>percentile_rank</th>\n",
       "      <th>affinity</th>\n",
       "      <th>#cancer_samples</th>\n",
       "    </tr>\n",
       "    <tr>\n",
       "      <th>junctionAnnotated</th>\n",
       "      <th>readFrameAnnotated</th>\n",
       "      <th></th>\n",
       "      <th></th>\n",
       "      <th></th>\n",
       "      <th></th>\n",
       "      <th></th>\n",
       "      <th></th>\n",
       "      <th></th>\n",
       "      <th></th>\n",
       "      <th></th>\n",
       "      <th></th>\n",
       "      <th></th>\n",
       "      <th></th>\n",
       "      <th></th>\n",
       "      <th></th>\n",
       "      <th></th>\n",
       "      <th></th>\n",
       "    </tr>\n",
       "  </thead>\n",
       "  <tbody>\n",
       "    <tr>\n",
       "      <th rowspan=\"3\" valign=\"top\">0</th>\n",
       "      <th>0</th>\n",
       "      <td>1453</td>\n",
       "      <td>1453</td>\n",
       "      <td>1453</td>\n",
       "      <td>1453</td>\n",
       "      <td>1453</td>\n",
       "      <td>1453</td>\n",
       "      <td>1453</td>\n",
       "      <td>1453</td>\n",
       "      <td>1453</td>\n",
       "      <td>1453</td>\n",
       "      <td>1453</td>\n",
       "      <td>1453</td>\n",
       "      <td>1371</td>\n",
       "      <td>1371</td>\n",
       "      <td>1371</td>\n",
       "      <td>1395</td>\n",
       "    </tr>\n",
       "    <tr>\n",
       "      <th>0/1</th>\n",
       "      <td>16</td>\n",
       "      <td>16</td>\n",
       "      <td>16</td>\n",
       "      <td>16</td>\n",
       "      <td>16</td>\n",
       "      <td>16</td>\n",
       "      <td>16</td>\n",
       "      <td>16</td>\n",
       "      <td>16</td>\n",
       "      <td>16</td>\n",
       "      <td>16</td>\n",
       "      <td>16</td>\n",
       "      <td>16</td>\n",
       "      <td>16</td>\n",
       "      <td>16</td>\n",
       "      <td>16</td>\n",
       "    </tr>\n",
       "    <tr>\n",
       "      <th>1</th>\n",
       "      <td>189</td>\n",
       "      <td>189</td>\n",
       "      <td>189</td>\n",
       "      <td>189</td>\n",
       "      <td>189</td>\n",
       "      <td>189</td>\n",
       "      <td>189</td>\n",
       "      <td>189</td>\n",
       "      <td>189</td>\n",
       "      <td>189</td>\n",
       "      <td>189</td>\n",
       "      <td>189</td>\n",
       "      <td>179</td>\n",
       "      <td>179</td>\n",
       "      <td>179</td>\n",
       "      <td>182</td>\n",
       "    </tr>\n",
       "    <tr>\n",
       "      <th>0/1</th>\n",
       "      <th>0</th>\n",
       "      <td>2</td>\n",
       "      <td>2</td>\n",
       "      <td>2</td>\n",
       "      <td>2</td>\n",
       "      <td>2</td>\n",
       "      <td>2</td>\n",
       "      <td>2</td>\n",
       "      <td>2</td>\n",
       "      <td>2</td>\n",
       "      <td>2</td>\n",
       "      <td>2</td>\n",
       "      <td>2</td>\n",
       "      <td>2</td>\n",
       "      <td>2</td>\n",
       "      <td>2</td>\n",
       "      <td>2</td>\n",
       "    </tr>\n",
       "    <tr>\n",
       "      <th rowspan=\"3\" valign=\"top\">1</th>\n",
       "      <th>0</th>\n",
       "      <td>8918</td>\n",
       "      <td>8918</td>\n",
       "      <td>8918</td>\n",
       "      <td>8918</td>\n",
       "      <td>8918</td>\n",
       "      <td>8918</td>\n",
       "      <td>8918</td>\n",
       "      <td>8918</td>\n",
       "      <td>8918</td>\n",
       "      <td>8918</td>\n",
       "      <td>8918</td>\n",
       "      <td>8918</td>\n",
       "      <td>8907</td>\n",
       "      <td>8907</td>\n",
       "      <td>8907</td>\n",
       "      <td>8914</td>\n",
       "    </tr>\n",
       "    <tr>\n",
       "      <th>0/1</th>\n",
       "      <td>24</td>\n",
       "      <td>24</td>\n",
       "      <td>24</td>\n",
       "      <td>24</td>\n",
       "      <td>24</td>\n",
       "      <td>24</td>\n",
       "      <td>24</td>\n",
       "      <td>24</td>\n",
       "      <td>24</td>\n",
       "      <td>24</td>\n",
       "      <td>24</td>\n",
       "      <td>24</td>\n",
       "      <td>24</td>\n",
       "      <td>24</td>\n",
       "      <td>24</td>\n",
       "      <td>24</td>\n",
       "    </tr>\n",
       "    <tr>\n",
       "      <th>1</th>\n",
       "      <td>1111</td>\n",
       "      <td>1111</td>\n",
       "      <td>1111</td>\n",
       "      <td>1111</td>\n",
       "      <td>1111</td>\n",
       "      <td>1111</td>\n",
       "      <td>1111</td>\n",
       "      <td>1111</td>\n",
       "      <td>1111</td>\n",
       "      <td>1111</td>\n",
       "      <td>1111</td>\n",
       "      <td>1111</td>\n",
       "      <td>1111</td>\n",
       "      <td>1111</td>\n",
       "      <td>1111</td>\n",
       "      <td>1111</td>\n",
       "    </tr>\n",
       "  </tbody>\n",
       "</table>\n",
       "</div>"
      ],
      "text/plain": [
       "                                      >pepID  jx_pos  between_codons  \\\n",
       "junctionAnnotated readFrameAnnotated                                   \n",
       "0                 0                     1453    1453            1453   \n",
       "                  0/1                     16      16              16   \n",
       "                  1                      189     189             189   \n",
       "0/1               0                        2       2               2   \n",
       "1                 0                     8918    8918            8918   \n",
       "                  0/1                     24      24              24   \n",
       "                  1                     1111    1111            1111   \n",
       "\n",
       "                                      includes_5'  includes_3'  gene  \\\n",
       "junctionAnnotated readFrameAnnotated                                   \n",
       "0                 0                          1453         1453  1453   \n",
       "                  0/1                          16           16    16   \n",
       "                  1                           189          189   189   \n",
       "0/1               0                             2            2     2   \n",
       "1                 0                          8918         8918  8918   \n",
       "                  0/1                          24           24    24   \n",
       "                  1                          1111         1111  1111   \n",
       "\n",
       "                                      jx_coord  kmer  peptide  \\\n",
       "junctionAnnotated readFrameAnnotated                            \n",
       "0                 0                       1453  1453     1453   \n",
       "                  0/1                       16    16       16   \n",
       "                  1                        189   189      189   \n",
       "0/1               0                          2     2        2   \n",
       "1                 0                       8918  8918     8918   \n",
       "                  0/1                       24    24       24   \n",
       "                  1                       1111  1111     1111   \n",
       "\n",
       "                                      validated_peptide  validated_kmer  \\\n",
       "junctionAnnotated readFrameAnnotated                                      \n",
       "0                 0                                1453            1453   \n",
       "                  0/1                                16              16   \n",
       "                  1                                 189             189   \n",
       "0/1               0                                   2               2   \n",
       "1                 0                                8918            8918   \n",
       "                  0/1                                24              24   \n",
       "                  1                                1111            1111   \n",
       "\n",
       "                                      max_detections  \\\n",
       "junctionAnnotated readFrameAnnotated                   \n",
       "0                 0                             1453   \n",
       "                  0/1                             16   \n",
       "                  1                              189   \n",
       "0/1               0                                2   \n",
       "1                 0                             8918   \n",
       "                  0/1                             24   \n",
       "                  1                             1111   \n",
       "\n",
       "                                      TCGAAOA0JM01A21RA05607all  \\\n",
       "junctionAnnotated readFrameAnnotated                              \n",
       "0                 0                                        1371   \n",
       "                  0/1                                        16   \n",
       "                  1                                         179   \n",
       "0/1               0                                           2   \n",
       "1                 0                                        8907   \n",
       "                  0/1                                        24   \n",
       "                  1                                        1111   \n",
       "\n",
       "                                      percentile_rank  affinity  \\\n",
       "junctionAnnotated readFrameAnnotated                              \n",
       "0                 0                              1371      1371   \n",
       "                  0/1                              16        16   \n",
       "                  1                               179       179   \n",
       "0/1               0                                 2         2   \n",
       "1                 0                              8907      8907   \n",
       "                  0/1                              24        24   \n",
       "                  1                              1111      1111   \n",
       "\n",
       "                                      #cancer_samples  \n",
       "junctionAnnotated readFrameAnnotated                   \n",
       "0                 0                              1395  \n",
       "                  0/1                              16  \n",
       "                  1                               182  \n",
       "0/1               0                                 2  \n",
       "1                 0                              8914  \n",
       "                  0/1                              24  \n",
       "                  1                              1111  "
      ]
     },
     "execution_count": 109,
     "metadata": {},
     "output_type": "execute_result"
    }
   ],
   "source": [
    "validated.groupby(['junctionAnnotated', 'readFrameAnnotated']).count()"
   ]
  },
  {
   "cell_type": "code",
   "execution_count": null,
   "metadata": {},
   "outputs": [],
   "source": []
  },
  {
   "cell_type": "code",
   "execution_count": null,
   "metadata": {},
   "outputs": [],
   "source": []
  }
 ],
 "metadata": {
  "kernelspec": {
   "display_name": "myimmuno3_light",
   "language": "python",
   "name": "myimmuno3_light"
  },
  "language_info": {
   "codemirror_mode": {
    "name": "ipython",
    "version": 3
   },
   "file_extension": ".py",
   "mimetype": "text/x-python",
   "name": "python",
   "nbconvert_exporter": "python",
   "pygments_lexer": "ipython3",
   "version": "3.8.5"
  }
 },
 "nbformat": 4,
 "nbformat_minor": 4
}
