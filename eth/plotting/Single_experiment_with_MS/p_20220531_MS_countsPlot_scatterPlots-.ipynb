{
 "cells": [
  {
   "cell_type": "code",
   "execution_count": 1,
   "metadata": {
    "ExecuteTime": {
     "end_time": "2022-06-01T12:50:34.053960Z",
     "start_time": "2022-06-01T12:50:22.870557Z"
    }
   },
   "outputs": [],
   "source": [
    "import os \n",
    "import pandas as pd\n",
    "from collections import defaultdict\n",
    "import numpy as np \n",
    "import glob\n",
    "import matplotlib.pyplot as plt\n",
    "import seaborn as sns"
   ]
  },
  {
   "cell_type": "code",
   "execution_count": 2,
   "metadata": {
    "ExecuteTime": {
     "end_time": "2022-06-01T12:50:34.064650Z",
     "start_time": "2022-06-01T12:50:34.060072Z"
    }
   },
   "outputs": [],
   "source": [
    "color1 = '#000080'\n",
    "color2 = \"#808000\"\n"
   ]
  },
  {
   "cell_type": "markdown",
   "metadata": {},
   "source": [
    "# Counting Plot"
   ]
  },
  {
   "cell_type": "code",
   "execution_count": 105,
   "metadata": {
    "ExecuteTime": {
     "end_time": "2022-05-31T13:32:16.799204Z",
     "start_time": "2022-05-31T13:32:10.498716Z"
    }
   },
   "outputs": [
    {
     "data": {
      "text/plain": [
       "'TCGA-BH-A18V-01A-11R-A12D-07.all'"
      ]
     },
     "metadata": {},
     "output_type": "display_data"
    },
    {
     "name": "stderr",
     "output_type": "stream",
     "text": [
      "/cluster/home/prelotla/software/anaconda3/envs/myimmuno3_light/lib/python3.8/site-packages/IPython/core/interactiveshell.py:3146: DtypeWarning: Columns (16) have mixed types.Specify dtype option on import or set low_memory=False.\n",
      "  has_raised = await self.run_ast_nodes(code_ast.body, cell_name,\n"
     ]
    },
    {
     "data": {
      "text/html": [
       "<div>\n",
       "<style scoped>\n",
       "    .dataframe tbody tr th:only-of-type {\n",
       "        vertical-align: middle;\n",
       "    }\n",
       "\n",
       "    .dataframe tbody tr th {\n",
       "        vertical-align: top;\n",
       "    }\n",
       "\n",
       "    .dataframe thead th {\n",
       "        text-align: right;\n",
       "    }\n",
       "</style>\n",
       "<table border=\"1\" class=\"dataframe\">\n",
       "  <thead>\n",
       "    <tr style=\"text-align: right;\">\n",
       "      <th></th>\n",
       "      <th>&gt;pepID</th>\n",
       "      <th>jx_pos</th>\n",
       "      <th>between_codons</th>\n",
       "      <th>includes_5'</th>\n",
       "      <th>includes_3'</th>\n",
       "      <th>gene</th>\n",
       "      <th>jx_coord</th>\n",
       "      <th>kmer</th>\n",
       "      <th>peptide</th>\n",
       "      <th>validated_peptide</th>\n",
       "      <th>validated_kmer</th>\n",
       "      <th>max_detections</th>\n",
       "      <th>TCGABHA18V01A11RA12D07all</th>\n",
       "      <th>percentile_rank</th>\n",
       "      <th>affinity</th>\n",
       "      <th>readFrameAnnotated</th>\n",
       "      <th>junctionAnnotated</th>\n",
       "      <th>#cancer_samples</th>\n",
       "      <th>junctionAnnotated_readFrameAnnotated</th>\n",
       "    </tr>\n",
       "  </thead>\n",
       "  <tbody>\n",
       "    <tr>\n",
       "      <th>0</th>\n",
       "      <td>2</td>\n",
       "      <td>56</td>\n",
       "      <td>1</td>\n",
       "      <td>0</td>\n",
       "      <td>0</td>\n",
       "      <td>ENSG00000060339.14</td>\n",
       "      <td>68737048_68742427</td>\n",
       "      <td>AAAALQQHS</td>\n",
       "      <td>ALGVQQPSLLGASPTIYTQQTALAAAGLTTQTPANYQLTQTAALQQ...</td>\n",
       "      <td>0</td>\n",
       "      <td>0</td>\n",
       "      <td>NaN</td>\n",
       "      <td>10.0</td>\n",
       "      <td>8.5</td>\n",
       "      <td>17394.11</td>\n",
       "      <td>0</td>\n",
       "      <td>0</td>\n",
       "      <td>969.0</td>\n",
       "      <td>0_0</td>\n",
       "    </tr>\n",
       "    <tr>\n",
       "      <th>1</th>\n",
       "      <td>2</td>\n",
       "      <td>0</td>\n",
       "      <td>1</td>\n",
       "      <td>0</td>\n",
       "      <td>0</td>\n",
       "      <td>ENSG00000060339.14</td>\n",
       "      <td>68742430_68742487</td>\n",
       "      <td>AAAALQQHS</td>\n",
       "      <td>ALGVQQPSLLGASPTIYTQQTALAAAGLTTQTPANYQLTQTAALQQ...</td>\n",
       "      <td>0</td>\n",
       "      <td>0</td>\n",
       "      <td>NaN</td>\n",
       "      <td>10.0</td>\n",
       "      <td>8.5</td>\n",
       "      <td>17394.11</td>\n",
       "      <td>0</td>\n",
       "      <td>0</td>\n",
       "      <td>969.0</td>\n",
       "      <td>0_0</td>\n",
       "    </tr>\n",
       "    <tr>\n",
       "      <th>2</th>\n",
       "      <td>4</td>\n",
       "      <td>12</td>\n",
       "      <td>0</td>\n",
       "      <td>0</td>\n",
       "      <td>0</td>\n",
       "      <td>ENSG00000119333.11</td>\n",
       "      <td>128640690_128637027</td>\n",
       "      <td>AAADGVLSV</td>\n",
       "      <td>WLRGELDRAAADGVLSVYPGLPASPSAGSACDQHLLELHWLCGGLCLRP</td>\n",
       "      <td>0</td>\n",
       "      <td>0</td>\n",
       "      <td>NaN</td>\n",
       "      <td>401.0</td>\n",
       "      <td>0.5</td>\n",
       "      <td>115.36</td>\n",
       "      <td>0</td>\n",
       "      <td>1</td>\n",
       "      <td>1099.0</td>\n",
       "      <td>1_0</td>\n",
       "    </tr>\n",
       "    <tr>\n",
       "      <th>3</th>\n",
       "      <td>5</td>\n",
       "      <td>12</td>\n",
       "      <td>0</td>\n",
       "      <td>0</td>\n",
       "      <td>1</td>\n",
       "      <td>ENSG00000119333.11</td>\n",
       "      <td>128640690_128636438</td>\n",
       "      <td>AAADGWTMG</td>\n",
       "      <td>WLRGELDRAAADGWTMGTGARLSPSCVPGTWTGETCVPSSRRPWWR...</td>\n",
       "      <td>0</td>\n",
       "      <td>0</td>\n",
       "      <td>NaN</td>\n",
       "      <td>9.0</td>\n",
       "      <td>1.8</td>\n",
       "      <td>5876.76</td>\n",
       "      <td>0</td>\n",
       "      <td>1</td>\n",
       "      <td>971.0</td>\n",
       "      <td>1_0</td>\n",
       "    </tr>\n",
       "    <tr>\n",
       "      <th>4</th>\n",
       "      <td>6</td>\n",
       "      <td>12</td>\n",
       "      <td>0</td>\n",
       "      <td>0</td>\n",
       "      <td>0</td>\n",
       "      <td>ENSG00000119333.11</td>\n",
       "      <td>128640690_128636438</td>\n",
       "      <td>AAADGWTMG</td>\n",
       "      <td>WLRGELDRAAADGWTMGTGARLSPSCVPGTWTGETCVPSSRRPWWR...</td>\n",
       "      <td>0</td>\n",
       "      <td>0</td>\n",
       "      <td>NaN</td>\n",
       "      <td>9.0</td>\n",
       "      <td>1.8</td>\n",
       "      <td>5876.76</td>\n",
       "      <td>0</td>\n",
       "      <td>1</td>\n",
       "      <td>971.0</td>\n",
       "      <td>1_0</td>\n",
       "    </tr>\n",
       "  </tbody>\n",
       "</table>\n",
       "</div>"
      ],
      "text/plain": [
       "   >pepID  jx_pos  between_codons  includes_5'  includes_3'  \\\n",
       "0       2      56               1            0            0   \n",
       "1       2       0               1            0            0   \n",
       "2       4      12               0            0            0   \n",
       "3       5      12               0            0            1   \n",
       "4       6      12               0            0            0   \n",
       "\n",
       "                 gene             jx_coord       kmer  \\\n",
       "0  ENSG00000060339.14    68737048_68742427  AAAALQQHS   \n",
       "1  ENSG00000060339.14    68742430_68742487  AAAALQQHS   \n",
       "2  ENSG00000119333.11  128640690_128637027  AAADGVLSV   \n",
       "3  ENSG00000119333.11  128640690_128636438  AAADGWTMG   \n",
       "4  ENSG00000119333.11  128640690_128636438  AAADGWTMG   \n",
       "\n",
       "                                             peptide  validated_peptide  \\\n",
       "0  ALGVQQPSLLGASPTIYTQQTALAAAGLTTQTPANYQLTQTAALQQ...                  0   \n",
       "1  ALGVQQPSLLGASPTIYTQQTALAAAGLTTQTPANYQLTQTAALQQ...                  0   \n",
       "2  WLRGELDRAAADGVLSVYPGLPASPSAGSACDQHLLELHWLCGGLCLRP                  0   \n",
       "3  WLRGELDRAAADGWTMGTGARLSPSCVPGTWTGETCVPSSRRPWWR...                  0   \n",
       "4  WLRGELDRAAADGWTMGTGARLSPSCVPGTWTGETCVPSSRRPWWR...                  0   \n",
       "\n",
       "   validated_kmer  max_detections  TCGABHA18V01A11RA12D07all  percentile_rank  \\\n",
       "0               0             NaN                       10.0              8.5   \n",
       "1               0             NaN                       10.0              8.5   \n",
       "2               0             NaN                      401.0              0.5   \n",
       "3               0             NaN                        9.0              1.8   \n",
       "4               0             NaN                        9.0              1.8   \n",
       "\n",
       "   affinity readFrameAnnotated junctionAnnotated  #cancer_samples  \\\n",
       "0  17394.11                  0                 0            969.0   \n",
       "1  17394.11                  0                 0            969.0   \n",
       "2    115.36                  0                 1           1099.0   \n",
       "3   5876.76                  0                 1            971.0   \n",
       "4   5876.76                  0                 1            971.0   \n",
       "\n",
       "  junctionAnnotated_readFrameAnnotated  \n",
       "0                                  0_0  \n",
       "1                                  0_0  \n",
       "2                                  1_0  \n",
       "3                                  1_0  \n",
       "4                                  1_0  "
      ]
     },
     "metadata": {},
     "output_type": "display_data"
    },
    {
     "data": {
      "text/plain": [
       "(235918, 19)"
      ]
     },
     "metadata": {},
     "output_type": "display_data"
    },
    {
     "data": {
      "text/plain": [
       "'ja = 1, rfa = 1'"
      ]
     },
     "metadata": {},
     "output_type": "display_data"
    },
    {
     "data": {
      "text/plain": [
       "21027"
      ]
     },
     "metadata": {},
     "output_type": "display_data"
    },
    {
     "data": {
      "text/plain": [
       "'ja = 0, rfa = 0'"
      ]
     },
     "metadata": {},
     "output_type": "display_data"
    },
    {
     "data": {
      "text/plain": [
       "34480"
      ]
     },
     "metadata": {},
     "output_type": "display_data"
    },
    {
     "data": {
      "text/plain": [
       "'ja = 0, rfa = 1'"
      ]
     },
     "metadata": {},
     "output_type": "display_data"
    },
    {
     "data": {
      "text/plain": [
       "5196"
      ]
     },
     "metadata": {},
     "output_type": "display_data"
    },
    {
     "data": {
      "text/plain": [
       "'ja = 1, rfa = 0'"
      ]
     },
     "metadata": {},
     "output_type": "display_data"
    },
    {
     "data": {
      "text/plain": [
       "174681"
      ]
     },
     "metadata": {},
     "output_type": "display_data"
    },
    {
     "data": {
      "text/plain": [
       "'junction not annotated'"
      ]
     },
     "metadata": {},
     "output_type": "display_data"
    },
    {
     "data": {
      "text/plain": [
       "(39748, 19)"
      ]
     },
     "metadata": {},
     "output_type": "display_data"
    },
    {
     "data": {
      "text/plain": [
       "'TCGA-C8-A12P-01A-11R-A115-07.all'"
      ]
     },
     "metadata": {},
     "output_type": "display_data"
    },
    {
     "name": "stderr",
     "output_type": "stream",
     "text": [
      "/cluster/home/prelotla/software/anaconda3/envs/myimmuno3_light/lib/python3.8/site-packages/IPython/core/interactiveshell.py:3146: DtypeWarning: Columns (16) have mixed types.Specify dtype option on import or set low_memory=False.\n",
      "  has_raised = await self.run_ast_nodes(code_ast.body, cell_name,\n"
     ]
    },
    {
     "data": {
      "text/html": [
       "<div>\n",
       "<style scoped>\n",
       "    .dataframe tbody tr th:only-of-type {\n",
       "        vertical-align: middle;\n",
       "    }\n",
       "\n",
       "    .dataframe tbody tr th {\n",
       "        vertical-align: top;\n",
       "    }\n",
       "\n",
       "    .dataframe thead th {\n",
       "        text-align: right;\n",
       "    }\n",
       "</style>\n",
       "<table border=\"1\" class=\"dataframe\">\n",
       "  <thead>\n",
       "    <tr style=\"text-align: right;\">\n",
       "      <th></th>\n",
       "      <th>&gt;pepID</th>\n",
       "      <th>jx_pos</th>\n",
       "      <th>between_codons</th>\n",
       "      <th>includes_5'</th>\n",
       "      <th>includes_3'</th>\n",
       "      <th>gene</th>\n",
       "      <th>jx_coord</th>\n",
       "      <th>kmer</th>\n",
       "      <th>peptide</th>\n",
       "      <th>validated_peptide</th>\n",
       "      <th>validated_kmer</th>\n",
       "      <th>max_detections</th>\n",
       "      <th>TCGAC8A12P01A11RA11507all</th>\n",
       "      <th>percentile_rank</th>\n",
       "      <th>affinity</th>\n",
       "      <th>readFrameAnnotated</th>\n",
       "      <th>junctionAnnotated</th>\n",
       "      <th>#cancer_samples</th>\n",
       "      <th>junctionAnnotated_readFrameAnnotated</th>\n",
       "    </tr>\n",
       "  </thead>\n",
       "  <tbody>\n",
       "    <tr>\n",
       "      <th>0</th>\n",
       "      <td>2</td>\n",
       "      <td>56</td>\n",
       "      <td>1</td>\n",
       "      <td>0</td>\n",
       "      <td>0</td>\n",
       "      <td>ENSG00000060339.14</td>\n",
       "      <td>68737048_68742427</td>\n",
       "      <td>AAAALQQHS</td>\n",
       "      <td>ALGVQQPSLLGASPTIYTQQTALAAAGLTTQTPANYQLTQTAALQQ...</td>\n",
       "      <td>0</td>\n",
       "      <td>0</td>\n",
       "      <td>NaN</td>\n",
       "      <td>9.0</td>\n",
       "      <td>6.5</td>\n",
       "      <td>7657.20</td>\n",
       "      <td>0</td>\n",
       "      <td>0</td>\n",
       "      <td>969.0</td>\n",
       "      <td>0_0</td>\n",
       "    </tr>\n",
       "    <tr>\n",
       "      <th>1</th>\n",
       "      <td>2</td>\n",
       "      <td>0</td>\n",
       "      <td>1</td>\n",
       "      <td>0</td>\n",
       "      <td>0</td>\n",
       "      <td>ENSG00000060339.14</td>\n",
       "      <td>68742430_68742487</td>\n",
       "      <td>AAAALQQHS</td>\n",
       "      <td>ALGVQQPSLLGASPTIYTQQTALAAAGLTTQTPANYQLTQTAALQQ...</td>\n",
       "      <td>0</td>\n",
       "      <td>0</td>\n",
       "      <td>NaN</td>\n",
       "      <td>9.0</td>\n",
       "      <td>6.5</td>\n",
       "      <td>7657.20</td>\n",
       "      <td>0</td>\n",
       "      <td>0</td>\n",
       "      <td>969.0</td>\n",
       "      <td>0_0</td>\n",
       "    </tr>\n",
       "    <tr>\n",
       "      <th>2</th>\n",
       "      <td>4</td>\n",
       "      <td>12</td>\n",
       "      <td>0</td>\n",
       "      <td>0</td>\n",
       "      <td>0</td>\n",
       "      <td>ENSG00000119333.11</td>\n",
       "      <td>128640690_128637027</td>\n",
       "      <td>AAADGVLSV</td>\n",
       "      <td>WLRGELDRAAADGVLSVYPGLPASPSAGSACDQHLLELHWLCGGLCLRP</td>\n",
       "      <td>0</td>\n",
       "      <td>0</td>\n",
       "      <td>NaN</td>\n",
       "      <td>301.0</td>\n",
       "      <td>2.5</td>\n",
       "      <td>1791.30</td>\n",
       "      <td>0</td>\n",
       "      <td>1</td>\n",
       "      <td>1099.0</td>\n",
       "      <td>1_0</td>\n",
       "    </tr>\n",
       "    <tr>\n",
       "      <th>3</th>\n",
       "      <td>5</td>\n",
       "      <td>12</td>\n",
       "      <td>0</td>\n",
       "      <td>0</td>\n",
       "      <td>1</td>\n",
       "      <td>ENSG00000119333.11</td>\n",
       "      <td>128640690_128636438</td>\n",
       "      <td>AAADGWTMG</td>\n",
       "      <td>WLRGELDRAAADGWTMGTGARLSPSCVPGTWTGETCVPSSRRPWWR...</td>\n",
       "      <td>0</td>\n",
       "      <td>0</td>\n",
       "      <td>NaN</td>\n",
       "      <td>9.0</td>\n",
       "      <td>15.0</td>\n",
       "      <td>14828.98</td>\n",
       "      <td>0</td>\n",
       "      <td>1</td>\n",
       "      <td>971.0</td>\n",
       "      <td>1_0</td>\n",
       "    </tr>\n",
       "    <tr>\n",
       "      <th>4</th>\n",
       "      <td>6</td>\n",
       "      <td>12</td>\n",
       "      <td>0</td>\n",
       "      <td>0</td>\n",
       "      <td>0</td>\n",
       "      <td>ENSG00000119333.11</td>\n",
       "      <td>128640690_128636438</td>\n",
       "      <td>AAADGWTMG</td>\n",
       "      <td>WLRGELDRAAADGWTMGTGARLSPSCVPGTWTGETCVPSSRRPWWR...</td>\n",
       "      <td>0</td>\n",
       "      <td>0</td>\n",
       "      <td>NaN</td>\n",
       "      <td>9.0</td>\n",
       "      <td>15.0</td>\n",
       "      <td>14828.98</td>\n",
       "      <td>0</td>\n",
       "      <td>1</td>\n",
       "      <td>971.0</td>\n",
       "      <td>1_0</td>\n",
       "    </tr>\n",
       "  </tbody>\n",
       "</table>\n",
       "</div>"
      ],
      "text/plain": [
       "   >pepID  jx_pos  between_codons  includes_5'  includes_3'  \\\n",
       "0       2      56               1            0            0   \n",
       "1       2       0               1            0            0   \n",
       "2       4      12               0            0            0   \n",
       "3       5      12               0            0            1   \n",
       "4       6      12               0            0            0   \n",
       "\n",
       "                 gene             jx_coord       kmer  \\\n",
       "0  ENSG00000060339.14    68737048_68742427  AAAALQQHS   \n",
       "1  ENSG00000060339.14    68742430_68742487  AAAALQQHS   \n",
       "2  ENSG00000119333.11  128640690_128637027  AAADGVLSV   \n",
       "3  ENSG00000119333.11  128640690_128636438  AAADGWTMG   \n",
       "4  ENSG00000119333.11  128640690_128636438  AAADGWTMG   \n",
       "\n",
       "                                             peptide  validated_peptide  \\\n",
       "0  ALGVQQPSLLGASPTIYTQQTALAAAGLTTQTPANYQLTQTAALQQ...                  0   \n",
       "1  ALGVQQPSLLGASPTIYTQQTALAAAGLTTQTPANYQLTQTAALQQ...                  0   \n",
       "2  WLRGELDRAAADGVLSVYPGLPASPSAGSACDQHLLELHWLCGGLCLRP                  0   \n",
       "3  WLRGELDRAAADGWTMGTGARLSPSCVPGTWTGETCVPSSRRPWWR...                  0   \n",
       "4  WLRGELDRAAADGWTMGTGARLSPSCVPGTWTGETCVPSSRRPWWR...                  0   \n",
       "\n",
       "   validated_kmer  max_detections  TCGAC8A12P01A11RA11507all  percentile_rank  \\\n",
       "0               0             NaN                        9.0              6.5   \n",
       "1               0             NaN                        9.0              6.5   \n",
       "2               0             NaN                      301.0              2.5   \n",
       "3               0             NaN                        9.0             15.0   \n",
       "4               0             NaN                        9.0             15.0   \n",
       "\n",
       "   affinity readFrameAnnotated junctionAnnotated  #cancer_samples  \\\n",
       "0   7657.20                  0                 0            969.0   \n",
       "1   7657.20                  0                 0            969.0   \n",
       "2   1791.30                  0                 1           1099.0   \n",
       "3  14828.98                  0                 1            971.0   \n",
       "4  14828.98                  0                 1            971.0   \n",
       "\n",
       "  junctionAnnotated_readFrameAnnotated  \n",
       "0                                  0_0  \n",
       "1                                  0_0  \n",
       "2                                  1_0  \n",
       "3                                  1_0  \n",
       "4                                  1_0  "
      ]
     },
     "metadata": {},
     "output_type": "display_data"
    },
    {
     "data": {
      "text/plain": [
       "(231642, 19)"
      ]
     },
     "metadata": {},
     "output_type": "display_data"
    },
    {
     "data": {
      "text/plain": [
       "'ja = 1, rfa = 1'"
      ]
     },
     "metadata": {},
     "output_type": "display_data"
    },
    {
     "data": {
      "text/plain": [
       "21063"
      ]
     },
     "metadata": {},
     "output_type": "display_data"
    },
    {
     "data": {
      "text/plain": [
       "'ja = 0, rfa = 0'"
      ]
     },
     "metadata": {},
     "output_type": "display_data"
    },
    {
     "data": {
      "text/plain": [
       "30528"
      ]
     },
     "metadata": {},
     "output_type": "display_data"
    },
    {
     "data": {
      "text/plain": [
       "'ja = 0, rfa = 1'"
      ]
     },
     "metadata": {},
     "output_type": "display_data"
    },
    {
     "data": {
      "text/plain": [
       "4086"
      ]
     },
     "metadata": {},
     "output_type": "display_data"
    },
    {
     "data": {
      "text/plain": [
       "'ja = 1, rfa = 0'"
      ]
     },
     "metadata": {},
     "output_type": "display_data"
    },
    {
     "data": {
      "text/plain": [
       "175431"
      ]
     },
     "metadata": {},
     "output_type": "display_data"
    },
    {
     "data": {
      "text/plain": [
       "'junction not annotated'"
      ]
     },
     "metadata": {},
     "output_type": "display_data"
    },
    {
     "data": {
      "text/plain": [
       "(34686, 19)"
      ]
     },
     "metadata": {},
     "output_type": "display_data"
    },
    {
     "data": {
      "text/plain": [
       "'TCGA-AO-A0JM-01A-21R-A056-07.all'"
      ]
     },
     "metadata": {},
     "output_type": "display_data"
    },
    {
     "name": "stderr",
     "output_type": "stream",
     "text": [
      "/cluster/home/prelotla/software/anaconda3/envs/myimmuno3_light/lib/python3.8/site-packages/IPython/core/interactiveshell.py:3146: DtypeWarning: Columns (16) have mixed types.Specify dtype option on import or set low_memory=False.\n",
      "  has_raised = await self.run_ast_nodes(code_ast.body, cell_name,\n"
     ]
    },
    {
     "data": {
      "text/html": [
       "<div>\n",
       "<style scoped>\n",
       "    .dataframe tbody tr th:only-of-type {\n",
       "        vertical-align: middle;\n",
       "    }\n",
       "\n",
       "    .dataframe tbody tr th {\n",
       "        vertical-align: top;\n",
       "    }\n",
       "\n",
       "    .dataframe thead th {\n",
       "        text-align: right;\n",
       "    }\n",
       "</style>\n",
       "<table border=\"1\" class=\"dataframe\">\n",
       "  <thead>\n",
       "    <tr style=\"text-align: right;\">\n",
       "      <th></th>\n",
       "      <th>&gt;pepID</th>\n",
       "      <th>jx_pos</th>\n",
       "      <th>between_codons</th>\n",
       "      <th>includes_5'</th>\n",
       "      <th>includes_3'</th>\n",
       "      <th>gene</th>\n",
       "      <th>jx_coord</th>\n",
       "      <th>kmer</th>\n",
       "      <th>peptide</th>\n",
       "      <th>validated_peptide</th>\n",
       "      <th>validated_kmer</th>\n",
       "      <th>max_detections</th>\n",
       "      <th>TCGAAOA0JM01A21RA05607all</th>\n",
       "      <th>percentile_rank</th>\n",
       "      <th>affinity</th>\n",
       "      <th>readFrameAnnotated</th>\n",
       "      <th>junctionAnnotated</th>\n",
       "      <th>#cancer_samples</th>\n",
       "      <th>junctionAnnotated_readFrameAnnotated</th>\n",
       "    </tr>\n",
       "  </thead>\n",
       "  <tbody>\n",
       "    <tr>\n",
       "      <th>0</th>\n",
       "      <td>1</td>\n",
       "      <td>12</td>\n",
       "      <td>0</td>\n",
       "      <td>0</td>\n",
       "      <td>1</td>\n",
       "      <td>ENSG00000119333.11</td>\n",
       "      <td>128640690_128636438</td>\n",
       "      <td>AAADGWTMG</td>\n",
       "      <td>WLRGELDRAAADGWTMGTGARLSPSCVPGTWTGETCVPSSRRPWWR...</td>\n",
       "      <td>0</td>\n",
       "      <td>0</td>\n",
       "      <td>NaN</td>\n",
       "      <td>8.0</td>\n",
       "      <td>1.8</td>\n",
       "      <td>5876.76</td>\n",
       "      <td>0</td>\n",
       "      <td>1</td>\n",
       "      <td>971.0</td>\n",
       "      <td>1_0</td>\n",
       "    </tr>\n",
       "    <tr>\n",
       "      <th>1</th>\n",
       "      <td>2</td>\n",
       "      <td>12</td>\n",
       "      <td>0</td>\n",
       "      <td>0</td>\n",
       "      <td>0</td>\n",
       "      <td>ENSG00000119333.11</td>\n",
       "      <td>128640690_128636438</td>\n",
       "      <td>AAADGWTMG</td>\n",
       "      <td>WLRGELDRAAADGWTMGTGARLSPSCVPGTWTGETCVPSSRRPWWR...</td>\n",
       "      <td>0</td>\n",
       "      <td>0</td>\n",
       "      <td>NaN</td>\n",
       "      <td>8.0</td>\n",
       "      <td>1.8</td>\n",
       "      <td>5876.76</td>\n",
       "      <td>0</td>\n",
       "      <td>1</td>\n",
       "      <td>971.0</td>\n",
       "      <td>1_0</td>\n",
       "    </tr>\n",
       "    <tr>\n",
       "      <th>2</th>\n",
       "      <td>3</td>\n",
       "      <td>58</td>\n",
       "      <td>0</td>\n",
       "      <td>0</td>\n",
       "      <td>0</td>\n",
       "      <td>ENSG00000011304.20</td>\n",
       "      <td>805187_805512</td>\n",
       "      <td>AAAFASPQA</td>\n",
       "      <td>SLDGQNIYNACCTLRIDFSKLTSLNVKYNNDKSRDYTRPDLPSGDS...</td>\n",
       "      <td>0</td>\n",
       "      <td>0</td>\n",
       "      <td>NaN</td>\n",
       "      <td>3.0</td>\n",
       "      <td>10.0</td>\n",
       "      <td>16407.83</td>\n",
       "      <td>0</td>\n",
       "      <td>1</td>\n",
       "      <td>1046.0</td>\n",
       "      <td>1_0</td>\n",
       "    </tr>\n",
       "    <tr>\n",
       "      <th>3</th>\n",
       "      <td>3</td>\n",
       "      <td>1</td>\n",
       "      <td>0</td>\n",
       "      <td>0</td>\n",
       "      <td>0</td>\n",
       "      <td>ENSG00000011304.20</td>\n",
       "      <td>805516_805555</td>\n",
       "      <td>AAAFASPQA</td>\n",
       "      <td>SLDGQNIYNACCTLRIDFSKLTSLNVKYNNDKSRDYTRPDLPSGDS...</td>\n",
       "      <td>0</td>\n",
       "      <td>0</td>\n",
       "      <td>NaN</td>\n",
       "      <td>3.0</td>\n",
       "      <td>10.0</td>\n",
       "      <td>16407.83</td>\n",
       "      <td>0</td>\n",
       "      <td>1</td>\n",
       "      <td>1046.0</td>\n",
       "      <td>1_0</td>\n",
       "    </tr>\n",
       "    <tr>\n",
       "      <th>4</th>\n",
       "      <td>5</td>\n",
       "      <td>58</td>\n",
       "      <td>0</td>\n",
       "      <td>0</td>\n",
       "      <td>1</td>\n",
       "      <td>ENSG00000011304.20</td>\n",
       "      <td>805187_805512</td>\n",
       "      <td>AAAFASPQA</td>\n",
       "      <td>SLDGQNIYNACCTLRIDFSKLTSLNVKYNNDKSRDYTRPDLPSGDS...</td>\n",
       "      <td>0</td>\n",
       "      <td>0</td>\n",
       "      <td>NaN</td>\n",
       "      <td>3.0</td>\n",
       "      <td>10.0</td>\n",
       "      <td>16407.83</td>\n",
       "      <td>0</td>\n",
       "      <td>1</td>\n",
       "      <td>1046.0</td>\n",
       "      <td>1_0</td>\n",
       "    </tr>\n",
       "  </tbody>\n",
       "</table>\n",
       "</div>"
      ],
      "text/plain": [
       "   >pepID  jx_pos  between_codons  includes_5'  includes_3'  \\\n",
       "0       1      12               0            0            1   \n",
       "1       2      12               0            0            0   \n",
       "2       3      58               0            0            0   \n",
       "3       3       1               0            0            0   \n",
       "4       5      58               0            0            1   \n",
       "\n",
       "                 gene             jx_coord       kmer  \\\n",
       "0  ENSG00000119333.11  128640690_128636438  AAADGWTMG   \n",
       "1  ENSG00000119333.11  128640690_128636438  AAADGWTMG   \n",
       "2  ENSG00000011304.20        805187_805512  AAAFASPQA   \n",
       "3  ENSG00000011304.20        805516_805555  AAAFASPQA   \n",
       "4  ENSG00000011304.20        805187_805512  AAAFASPQA   \n",
       "\n",
       "                                             peptide  validated_peptide  \\\n",
       "0  WLRGELDRAAADGWTMGTGARLSPSCVPGTWTGETCVPSSRRPWWR...                  0   \n",
       "1  WLRGELDRAAADGWTMGTGARLSPSCVPGTWTGETCVPSSRRPWWR...                  0   \n",
       "2  SLDGQNIYNACCTLRIDFSKLTSLNVKYNNDKSRDYTRPDLPSGDS...                  0   \n",
       "3  SLDGQNIYNACCTLRIDFSKLTSLNVKYNNDKSRDYTRPDLPSGDS...                  0   \n",
       "4  SLDGQNIYNACCTLRIDFSKLTSLNVKYNNDKSRDYTRPDLPSGDS...                  0   \n",
       "\n",
       "   validated_kmer  max_detections  TCGAAOA0JM01A21RA05607all  percentile_rank  \\\n",
       "0               0             NaN                        8.0              1.8   \n",
       "1               0             NaN                        8.0              1.8   \n",
       "2               0             NaN                        3.0             10.0   \n",
       "3               0             NaN                        3.0             10.0   \n",
       "4               0             NaN                        3.0             10.0   \n",
       "\n",
       "   affinity readFrameAnnotated junctionAnnotated  #cancer_samples  \\\n",
       "0   5876.76                  0                 1            971.0   \n",
       "1   5876.76                  0                 1            971.0   \n",
       "2  16407.83                  0                 1           1046.0   \n",
       "3  16407.83                  0                 1           1046.0   \n",
       "4  16407.83                  0                 1           1046.0   \n",
       "\n",
       "  junctionAnnotated_readFrameAnnotated  \n",
       "0                                  1_0  \n",
       "1                                  1_0  \n",
       "2                                  1_0  \n",
       "3                                  1_0  \n",
       "4                                  1_0  "
      ]
     },
     "metadata": {},
     "output_type": "display_data"
    },
    {
     "data": {
      "text/plain": [
       "(234302, 19)"
      ]
     },
     "metadata": {},
     "output_type": "display_data"
    },
    {
     "data": {
      "text/plain": [
       "'ja = 1, rfa = 1'"
      ]
     },
     "metadata": {},
     "output_type": "display_data"
    },
    {
     "data": {
      "text/plain": [
       "21084"
      ]
     },
     "metadata": {},
     "output_type": "display_data"
    },
    {
     "data": {
      "text/plain": [
       "'ja = 0, rfa = 0'"
      ]
     },
     "metadata": {},
     "output_type": "display_data"
    },
    {
     "data": {
      "text/plain": [
       "30240"
      ]
     },
     "metadata": {},
     "output_type": "display_data"
    },
    {
     "data": {
      "text/plain": [
       "'ja = 0, rfa = 1'"
      ]
     },
     "metadata": {},
     "output_type": "display_data"
    },
    {
     "data": {
      "text/plain": [
       "4335"
      ]
     },
     "metadata": {},
     "output_type": "display_data"
    },
    {
     "data": {
      "text/plain": [
       "'ja = 1, rfa = 0'"
      ]
     },
     "metadata": {},
     "output_type": "display_data"
    },
    {
     "data": {
      "text/plain": [
       "178109"
      ]
     },
     "metadata": {},
     "output_type": "display_data"
    },
    {
     "data": {
      "text/plain": [
       "'junction not annotated'"
      ]
     },
     "metadata": {},
     "output_type": "display_data"
    },
    {
     "data": {
      "text/plain": [
       "(34647, 19)"
      ]
     },
     "metadata": {},
     "output_type": "display_data"
    },
    {
     "data": {
      "text/plain": [
       "'TCGA-A2-A0SX-01A-12R-A084-07.all'"
      ]
     },
     "metadata": {},
     "output_type": "display_data"
    },
    {
     "name": "stderr",
     "output_type": "stream",
     "text": [
      "/cluster/home/prelotla/software/anaconda3/envs/myimmuno3_light/lib/python3.8/site-packages/IPython/core/interactiveshell.py:3146: DtypeWarning: Columns (16) have mixed types.Specify dtype option on import or set low_memory=False.\n",
      "  has_raised = await self.run_ast_nodes(code_ast.body, cell_name,\n"
     ]
    },
    {
     "data": {
      "text/html": [
       "<div>\n",
       "<style scoped>\n",
       "    .dataframe tbody tr th:only-of-type {\n",
       "        vertical-align: middle;\n",
       "    }\n",
       "\n",
       "    .dataframe tbody tr th {\n",
       "        vertical-align: top;\n",
       "    }\n",
       "\n",
       "    .dataframe thead th {\n",
       "        text-align: right;\n",
       "    }\n",
       "</style>\n",
       "<table border=\"1\" class=\"dataframe\">\n",
       "  <thead>\n",
       "    <tr style=\"text-align: right;\">\n",
       "      <th></th>\n",
       "      <th>&gt;pepID</th>\n",
       "      <th>jx_pos</th>\n",
       "      <th>between_codons</th>\n",
       "      <th>includes_5'</th>\n",
       "      <th>includes_3'</th>\n",
       "      <th>gene</th>\n",
       "      <th>jx_coord</th>\n",
       "      <th>kmer</th>\n",
       "      <th>peptide</th>\n",
       "      <th>validated_peptide</th>\n",
       "      <th>validated_kmer</th>\n",
       "      <th>max_detections</th>\n",
       "      <th>TCGAA2A0SX01A12RA08407all</th>\n",
       "      <th>percentile_rank</th>\n",
       "      <th>affinity</th>\n",
       "      <th>readFrameAnnotated</th>\n",
       "      <th>junctionAnnotated</th>\n",
       "      <th>#cancer_samples</th>\n",
       "      <th>junctionAnnotated_readFrameAnnotated</th>\n",
       "    </tr>\n",
       "  </thead>\n",
       "  <tbody>\n",
       "    <tr>\n",
       "      <th>0</th>\n",
       "      <td>2</td>\n",
       "      <td>56</td>\n",
       "      <td>1</td>\n",
       "      <td>0</td>\n",
       "      <td>0</td>\n",
       "      <td>ENSG00000060339.14</td>\n",
       "      <td>68737048_68742427</td>\n",
       "      <td>AAAALQQHS</td>\n",
       "      <td>ALGVQQPSLLGASPTIYTQQTALAAAGLTTQTPANYQLTQTAALQQ...</td>\n",
       "      <td>0</td>\n",
       "      <td>0</td>\n",
       "      <td>NaN</td>\n",
       "      <td>6.0</td>\n",
       "      <td>8.5</td>\n",
       "      <td>17394.11</td>\n",
       "      <td>0</td>\n",
       "      <td>0</td>\n",
       "      <td>969.0</td>\n",
       "      <td>0_0</td>\n",
       "    </tr>\n",
       "    <tr>\n",
       "      <th>1</th>\n",
       "      <td>2</td>\n",
       "      <td>0</td>\n",
       "      <td>1</td>\n",
       "      <td>0</td>\n",
       "      <td>0</td>\n",
       "      <td>ENSG00000060339.14</td>\n",
       "      <td>68742430_68742487</td>\n",
       "      <td>AAAALQQHS</td>\n",
       "      <td>ALGVQQPSLLGASPTIYTQQTALAAAGLTTQTPANYQLTQTAALQQ...</td>\n",
       "      <td>0</td>\n",
       "      <td>0</td>\n",
       "      <td>NaN</td>\n",
       "      <td>6.0</td>\n",
       "      <td>8.5</td>\n",
       "      <td>17394.11</td>\n",
       "      <td>0</td>\n",
       "      <td>0</td>\n",
       "      <td>969.0</td>\n",
       "      <td>0_0</td>\n",
       "    </tr>\n",
       "    <tr>\n",
       "      <th>2</th>\n",
       "      <td>4</td>\n",
       "      <td>12</td>\n",
       "      <td>0</td>\n",
       "      <td>0</td>\n",
       "      <td>0</td>\n",
       "      <td>ENSG00000119333.11</td>\n",
       "      <td>128640690_128637027</td>\n",
       "      <td>AAADGVLSV</td>\n",
       "      <td>WLRGELDRAAADGVLSVYPGLPASPSAGSACDQHLLELHWLCGGLCLRP</td>\n",
       "      <td>0</td>\n",
       "      <td>0</td>\n",
       "      <td>NaN</td>\n",
       "      <td>310.0</td>\n",
       "      <td>0.5</td>\n",
       "      <td>875.06</td>\n",
       "      <td>0</td>\n",
       "      <td>1</td>\n",
       "      <td>1099.0</td>\n",
       "      <td>1_0</td>\n",
       "    </tr>\n",
       "    <tr>\n",
       "      <th>3</th>\n",
       "      <td>5</td>\n",
       "      <td>12</td>\n",
       "      <td>0</td>\n",
       "      <td>0</td>\n",
       "      <td>1</td>\n",
       "      <td>ENSG00000119333.11</td>\n",
       "      <td>128640690_128636438</td>\n",
       "      <td>AAADGWTMG</td>\n",
       "      <td>WLRGELDRAAADGWTMGTGARLSPSCVPGTWTGETCVPSSRRPWWR...</td>\n",
       "      <td>0</td>\n",
       "      <td>0</td>\n",
       "      <td>NaN</td>\n",
       "      <td>12.0</td>\n",
       "      <td>1.8</td>\n",
       "      <td>5876.76</td>\n",
       "      <td>0</td>\n",
       "      <td>1</td>\n",
       "      <td>971.0</td>\n",
       "      <td>1_0</td>\n",
       "    </tr>\n",
       "    <tr>\n",
       "      <th>4</th>\n",
       "      <td>6</td>\n",
       "      <td>12</td>\n",
       "      <td>0</td>\n",
       "      <td>0</td>\n",
       "      <td>0</td>\n",
       "      <td>ENSG00000119333.11</td>\n",
       "      <td>128640690_128636438</td>\n",
       "      <td>AAADGWTMG</td>\n",
       "      <td>WLRGELDRAAADGWTMGTGARLSPSCVPGTWTGETCVPSSRRPWWR...</td>\n",
       "      <td>0</td>\n",
       "      <td>0</td>\n",
       "      <td>NaN</td>\n",
       "      <td>12.0</td>\n",
       "      <td>1.8</td>\n",
       "      <td>5876.76</td>\n",
       "      <td>0</td>\n",
       "      <td>1</td>\n",
       "      <td>971.0</td>\n",
       "      <td>1_0</td>\n",
       "    </tr>\n",
       "  </tbody>\n",
       "</table>\n",
       "</div>"
      ],
      "text/plain": [
       "   >pepID  jx_pos  between_codons  includes_5'  includes_3'  \\\n",
       "0       2      56               1            0            0   \n",
       "1       2       0               1            0            0   \n",
       "2       4      12               0            0            0   \n",
       "3       5      12               0            0            1   \n",
       "4       6      12               0            0            0   \n",
       "\n",
       "                 gene             jx_coord       kmer  \\\n",
       "0  ENSG00000060339.14    68737048_68742427  AAAALQQHS   \n",
       "1  ENSG00000060339.14    68742430_68742487  AAAALQQHS   \n",
       "2  ENSG00000119333.11  128640690_128637027  AAADGVLSV   \n",
       "3  ENSG00000119333.11  128640690_128636438  AAADGWTMG   \n",
       "4  ENSG00000119333.11  128640690_128636438  AAADGWTMG   \n",
       "\n",
       "                                             peptide  validated_peptide  \\\n",
       "0  ALGVQQPSLLGASPTIYTQQTALAAAGLTTQTPANYQLTQTAALQQ...                  0   \n",
       "1  ALGVQQPSLLGASPTIYTQQTALAAAGLTTQTPANYQLTQTAALQQ...                  0   \n",
       "2  WLRGELDRAAADGVLSVYPGLPASPSAGSACDQHLLELHWLCGGLCLRP                  0   \n",
       "3  WLRGELDRAAADGWTMGTGARLSPSCVPGTWTGETCVPSSRRPWWR...                  0   \n",
       "4  WLRGELDRAAADGWTMGTGARLSPSCVPGTWTGETCVPSSRRPWWR...                  0   \n",
       "\n",
       "   validated_kmer  max_detections  TCGAA2A0SX01A12RA08407all  percentile_rank  \\\n",
       "0               0             NaN                        6.0              8.5   \n",
       "1               0             NaN                        6.0              8.5   \n",
       "2               0             NaN                      310.0              0.5   \n",
       "3               0             NaN                       12.0              1.8   \n",
       "4               0             NaN                       12.0              1.8   \n",
       "\n",
       "   affinity readFrameAnnotated junctionAnnotated  #cancer_samples  \\\n",
       "0  17394.11                  0                 0            969.0   \n",
       "1  17394.11                  0                 0            969.0   \n",
       "2    875.06                  0                 1           1099.0   \n",
       "3   5876.76                  0                 1            971.0   \n",
       "4   5876.76                  0                 1            971.0   \n",
       "\n",
       "  junctionAnnotated_readFrameAnnotated  \n",
       "0                                  0_0  \n",
       "1                                  0_0  \n",
       "2                                  1_0  \n",
       "3                                  1_0  \n",
       "4                                  1_0  "
      ]
     },
     "metadata": {},
     "output_type": "display_data"
    },
    {
     "data": {
      "text/plain": [
       "(236007, 19)"
      ]
     },
     "metadata": {},
     "output_type": "display_data"
    },
    {
     "data": {
      "text/plain": [
       "'ja = 1, rfa = 1'"
      ]
     },
     "metadata": {},
     "output_type": "display_data"
    },
    {
     "data": {
      "text/plain": [
       "21264"
      ]
     },
     "metadata": {},
     "output_type": "display_data"
    },
    {
     "data": {
      "text/plain": [
       "'ja = 0, rfa = 0'"
      ]
     },
     "metadata": {},
     "output_type": "display_data"
    },
    {
     "data": {
      "text/plain": [
       "33207"
      ]
     },
     "metadata": {},
     "output_type": "display_data"
    },
    {
     "data": {
      "text/plain": [
       "'ja = 0, rfa = 1'"
      ]
     },
     "metadata": {},
     "output_type": "display_data"
    },
    {
     "data": {
      "text/plain": [
       "4473"
      ]
     },
     "metadata": {},
     "output_type": "display_data"
    },
    {
     "data": {
      "text/plain": [
       "'ja = 1, rfa = 0'"
      ]
     },
     "metadata": {},
     "output_type": "display_data"
    },
    {
     "data": {
      "text/plain": [
       "176529"
      ]
     },
     "metadata": {},
     "output_type": "display_data"
    },
    {
     "data": {
      "text/plain": [
       "'junction not annotated'"
      ]
     },
     "metadata": {},
     "output_type": "display_data"
    },
    {
     "data": {
      "text/plain": [
       "(37746, 19)"
      ]
     },
     "metadata": {},
     "output_type": "display_data"
    },
    {
     "data": {
      "text/plain": [
       "'TCGA-A2-A0D2-01A-21R-A034-07.all'"
      ]
     },
     "metadata": {},
     "output_type": "display_data"
    },
    {
     "name": "stderr",
     "output_type": "stream",
     "text": [
      "/cluster/home/prelotla/software/anaconda3/envs/myimmuno3_light/lib/python3.8/site-packages/IPython/core/interactiveshell.py:3146: DtypeWarning: Columns (16) have mixed types.Specify dtype option on import or set low_memory=False.\n",
      "  has_raised = await self.run_ast_nodes(code_ast.body, cell_name,\n"
     ]
    },
    {
     "data": {
      "text/html": [
       "<div>\n",
       "<style scoped>\n",
       "    .dataframe tbody tr th:only-of-type {\n",
       "        vertical-align: middle;\n",
       "    }\n",
       "\n",
       "    .dataframe tbody tr th {\n",
       "        vertical-align: top;\n",
       "    }\n",
       "\n",
       "    .dataframe thead th {\n",
       "        text-align: right;\n",
       "    }\n",
       "</style>\n",
       "<table border=\"1\" class=\"dataframe\">\n",
       "  <thead>\n",
       "    <tr style=\"text-align: right;\">\n",
       "      <th></th>\n",
       "      <th>&gt;pepID</th>\n",
       "      <th>jx_pos</th>\n",
       "      <th>between_codons</th>\n",
       "      <th>includes_5'</th>\n",
       "      <th>includes_3'</th>\n",
       "      <th>gene</th>\n",
       "      <th>jx_coord</th>\n",
       "      <th>kmer</th>\n",
       "      <th>peptide</th>\n",
       "      <th>validated_peptide</th>\n",
       "      <th>validated_kmer</th>\n",
       "      <th>max_detections</th>\n",
       "      <th>TCGAA2A0D201A21RA03407all</th>\n",
       "      <th>percentile_rank</th>\n",
       "      <th>affinity</th>\n",
       "      <th>readFrameAnnotated</th>\n",
       "      <th>junctionAnnotated</th>\n",
       "      <th>#cancer_samples</th>\n",
       "      <th>junctionAnnotated_readFrameAnnotated</th>\n",
       "    </tr>\n",
       "  </thead>\n",
       "  <tbody>\n",
       "    <tr>\n",
       "      <th>0</th>\n",
       "      <td>2</td>\n",
       "      <td>56</td>\n",
       "      <td>1</td>\n",
       "      <td>0</td>\n",
       "      <td>0</td>\n",
       "      <td>ENSG00000060339.14</td>\n",
       "      <td>68737048_68742427</td>\n",
       "      <td>AAAALQQHS</td>\n",
       "      <td>ALGVQQPSLLGASPTIYTQQTALAAAGLTTQTPANYQLTQTAALQQ...</td>\n",
       "      <td>0</td>\n",
       "      <td>0</td>\n",
       "      <td>NaN</td>\n",
       "      <td>3.0</td>\n",
       "      <td>28.0</td>\n",
       "      <td>28062.41</td>\n",
       "      <td>0</td>\n",
       "      <td>0</td>\n",
       "      <td>969.0</td>\n",
       "      <td>0_0</td>\n",
       "    </tr>\n",
       "    <tr>\n",
       "      <th>1</th>\n",
       "      <td>2</td>\n",
       "      <td>0</td>\n",
       "      <td>1</td>\n",
       "      <td>0</td>\n",
       "      <td>0</td>\n",
       "      <td>ENSG00000060339.14</td>\n",
       "      <td>68742430_68742487</td>\n",
       "      <td>AAAALQQHS</td>\n",
       "      <td>ALGVQQPSLLGASPTIYTQQTALAAAGLTTQTPANYQLTQTAALQQ...</td>\n",
       "      <td>0</td>\n",
       "      <td>0</td>\n",
       "      <td>NaN</td>\n",
       "      <td>3.0</td>\n",
       "      <td>28.0</td>\n",
       "      <td>28062.41</td>\n",
       "      <td>0</td>\n",
       "      <td>0</td>\n",
       "      <td>969.0</td>\n",
       "      <td>0_0</td>\n",
       "    </tr>\n",
       "    <tr>\n",
       "      <th>2</th>\n",
       "      <td>4</td>\n",
       "      <td>12</td>\n",
       "      <td>0</td>\n",
       "      <td>0</td>\n",
       "      <td>0</td>\n",
       "      <td>ENSG00000119333.11</td>\n",
       "      <td>128640690_128637027</td>\n",
       "      <td>AAADGVLSV</td>\n",
       "      <td>WLRGELDRAAADGVLSVYPGLPASPSAGSACDQHLLELHWLCGGLCLRP</td>\n",
       "      <td>0</td>\n",
       "      <td>0</td>\n",
       "      <td>NaN</td>\n",
       "      <td>1139.0</td>\n",
       "      <td>2.5</td>\n",
       "      <td>1791.30</td>\n",
       "      <td>0</td>\n",
       "      <td>1</td>\n",
       "      <td>1099.0</td>\n",
       "      <td>1_0</td>\n",
       "    </tr>\n",
       "    <tr>\n",
       "      <th>3</th>\n",
       "      <td>5</td>\n",
       "      <td>12</td>\n",
       "      <td>0</td>\n",
       "      <td>0</td>\n",
       "      <td>1</td>\n",
       "      <td>ENSG00000119333.11</td>\n",
       "      <td>128640690_128636438</td>\n",
       "      <td>AAADGWTMG</td>\n",
       "      <td>WLRGELDRAAADGWTMGTGARLSPSCVPGTWTGETCVPSSRRPWWR...</td>\n",
       "      <td>0</td>\n",
       "      <td>0</td>\n",
       "      <td>NaN</td>\n",
       "      <td>24.0</td>\n",
       "      <td>16.0</td>\n",
       "      <td>20550.52</td>\n",
       "      <td>0</td>\n",
       "      <td>1</td>\n",
       "      <td>971.0</td>\n",
       "      <td>1_0</td>\n",
       "    </tr>\n",
       "    <tr>\n",
       "      <th>4</th>\n",
       "      <td>6</td>\n",
       "      <td>12</td>\n",
       "      <td>0</td>\n",
       "      <td>0</td>\n",
       "      <td>0</td>\n",
       "      <td>ENSG00000119333.11</td>\n",
       "      <td>128640690_128636438</td>\n",
       "      <td>AAADGWTMG</td>\n",
       "      <td>WLRGELDRAAADGWTMGTGARLSPSCVPGTWTGETCVPSSRRPWWR...</td>\n",
       "      <td>0</td>\n",
       "      <td>0</td>\n",
       "      <td>NaN</td>\n",
       "      <td>24.0</td>\n",
       "      <td>16.0</td>\n",
       "      <td>20550.52</td>\n",
       "      <td>0</td>\n",
       "      <td>1</td>\n",
       "      <td>971.0</td>\n",
       "      <td>1_0</td>\n",
       "    </tr>\n",
       "  </tbody>\n",
       "</table>\n",
       "</div>"
      ],
      "text/plain": [
       "   >pepID  jx_pos  between_codons  includes_5'  includes_3'  \\\n",
       "0       2      56               1            0            0   \n",
       "1       2       0               1            0            0   \n",
       "2       4      12               0            0            0   \n",
       "3       5      12               0            0            1   \n",
       "4       6      12               0            0            0   \n",
       "\n",
       "                 gene             jx_coord       kmer  \\\n",
       "0  ENSG00000060339.14    68737048_68742427  AAAALQQHS   \n",
       "1  ENSG00000060339.14    68742430_68742487  AAAALQQHS   \n",
       "2  ENSG00000119333.11  128640690_128637027  AAADGVLSV   \n",
       "3  ENSG00000119333.11  128640690_128636438  AAADGWTMG   \n",
       "4  ENSG00000119333.11  128640690_128636438  AAADGWTMG   \n",
       "\n",
       "                                             peptide  validated_peptide  \\\n",
       "0  ALGVQQPSLLGASPTIYTQQTALAAAGLTTQTPANYQLTQTAALQQ...                  0   \n",
       "1  ALGVQQPSLLGASPTIYTQQTALAAAGLTTQTPANYQLTQTAALQQ...                  0   \n",
       "2  WLRGELDRAAADGVLSVYPGLPASPSAGSACDQHLLELHWLCGGLCLRP                  0   \n",
       "3  WLRGELDRAAADGWTMGTGARLSPSCVPGTWTGETCVPSSRRPWWR...                  0   \n",
       "4  WLRGELDRAAADGWTMGTGARLSPSCVPGTWTGETCVPSSRRPWWR...                  0   \n",
       "\n",
       "   validated_kmer  max_detections  TCGAA2A0D201A21RA03407all  percentile_rank  \\\n",
       "0               0             NaN                        3.0             28.0   \n",
       "1               0             NaN                        3.0             28.0   \n",
       "2               0             NaN                     1139.0              2.5   \n",
       "3               0             NaN                       24.0             16.0   \n",
       "4               0             NaN                       24.0             16.0   \n",
       "\n",
       "   affinity readFrameAnnotated junctionAnnotated  #cancer_samples  \\\n",
       "0  28062.41                  0                 0            969.0   \n",
       "1  28062.41                  0                 0            969.0   \n",
       "2   1791.30                  0                 1           1099.0   \n",
       "3  20550.52                  0                 1            971.0   \n",
       "4  20550.52                  0                 1            971.0   \n",
       "\n",
       "  junctionAnnotated_readFrameAnnotated  \n",
       "0                                  0_0  \n",
       "1                                  0_0  \n",
       "2                                  1_0  \n",
       "3                                  1_0  \n",
       "4                                  1_0  "
      ]
     },
     "metadata": {},
     "output_type": "display_data"
    },
    {
     "data": {
      "text/plain": [
       "(230137, 19)"
      ]
     },
     "metadata": {},
     "output_type": "display_data"
    },
    {
     "data": {
      "text/plain": [
       "'ja = 1, rfa = 1'"
      ]
     },
     "metadata": {},
     "output_type": "display_data"
    },
    {
     "data": {
      "text/plain": [
       "20178"
      ]
     },
     "metadata": {},
     "output_type": "display_data"
    },
    {
     "data": {
      "text/plain": [
       "'ja = 0, rfa = 0'"
      ]
     },
     "metadata": {},
     "output_type": "display_data"
    },
    {
     "data": {
      "text/plain": [
       "32041"
      ]
     },
     "metadata": {},
     "output_type": "display_data"
    },
    {
     "data": {
      "text/plain": [
       "'ja = 0, rfa = 1'"
      ]
     },
     "metadata": {},
     "output_type": "display_data"
    },
    {
     "data": {
      "text/plain": [
       "3996"
      ]
     },
     "metadata": {},
     "output_type": "display_data"
    },
    {
     "data": {
      "text/plain": [
       "'ja = 1, rfa = 0'"
      ]
     },
     "metadata": {},
     "output_type": "display_data"
    },
    {
     "data": {
      "text/plain": [
       "173382"
      ]
     },
     "metadata": {},
     "output_type": "display_data"
    },
    {
     "data": {
      "text/plain": [
       "'junction not annotated'"
      ]
     },
     "metadata": {},
     "output_type": "display_data"
    },
    {
     "data": {
      "text/plain": [
       "(36109, 19)"
      ]
     },
     "metadata": {},
     "output_type": "display_data"
    }
   ],
   "source": [
    "samples = [\n",
    "    'TCGA-BH-A18V-01A-11R-A12D-07.all', \n",
    "        'TCGA-C8-A12P-01A-11R-A115-07.all', \n",
    "        'TCGA-AO-A0JM-01A-21R-A056-07.all', \n",
    "        'TCGA-A2-A0SX-01A-12R-A084-07.all',\n",
    "        'TCGA-A2-A0D2-01A-21R-A034-07.all']\n",
    "\n",
    "counting = []\n",
    "legend = []\n",
    "sample_string = []\n",
    "for sample in samples:\n",
    "    display(sample)\n",
    "    sample_short = ''.join(sample.split('.')[:-1])\n",
    "    sample_pool = sample.replace('-', '').replace('.', '')\n",
    "    sample_base = '-'.join(sample_short.split('-')[0:3])\n",
    "\n",
    "    path = f'/cluster/work/grlab/projects/projects2020_OHSU/peptides_generation/v2_v2.5f0752a_conf2_annotFrame_cap0_runs_pya0.17.1/TCGA_Breast_1102/filter_{sample_short}.all/commit_d4aee54_GTEXcore/G_{sample_short}_summary_plotting.tsv.gz'\n",
    "\n",
    "\n",
    "\n",
    "    df = pd.read_csv(path, compression=\"gzip\")\n",
    "    df['junctionAnnotated'] = df['junctionAnnotated'].astype(str)\n",
    "    df['readFrameAnnotated'] = df['readFrameAnnotated'].astype(str)\n",
    "    df['junctionAnnotated_readFrameAnnotated'] = df['junctionAnnotated'] + '_' +  df['readFrameAnnotated']\n",
    "    display(df.head())\n",
    "    display(df.shape)\n",
    "    \n",
    "    display('ja = 1, rfa = 1')\n",
    "    display(df.loc[(df['readFrameAnnotated'] == '1') & (df['junctionAnnotated'] == '1')].shape[0])\n",
    "    display('ja = 0, rfa = 0')\n",
    "    display(df.loc[(df['readFrameAnnotated'] == '0') & (df['junctionAnnotated'] == '0')].shape[0])\n",
    "    display('ja = 0, rfa = 1')\n",
    "    display(df.loc[(df['readFrameAnnotated'] == '1') & (df['junctionAnnotated'] == '0')].shape[0])\n",
    "    display('ja = 1, rfa = 0')\n",
    "    display(df.loc[(df['readFrameAnnotated'] == '0') & (df['junctionAnnotated'] == '1')].shape[0])\n",
    "\n",
    "    df = df.loc[(df['junctionAnnotated'] == '0')]\n",
    "    display('junction not annotated')\n",
    "    display(df.shape)\n",
    "    \n",
    "\n",
    "\n",
    "    counting.append(df['peptide'].unique().shape[0])\n",
    "    legend.append('cancer-specific #unique bi-exons peptides')\n",
    "    counting.append(df['kmer'].unique().shape[0])\n",
    "    legend.append('cancer-specific #unique junction-9mers')\n",
    "#     counting.append(df['gene'].unique().shape[0])\n",
    "#     legend.append('cancer-specific #uniques genes of origin')\n",
    "    dz = df.loc[df['validated_peptide'] == 1]\n",
    "    counting.append(dz['peptide'].unique().shape[0])\n",
    "    legend.append('MS validated #unique bi-exons peptides')\n",
    "    dz = df.loc[df['validated_kmer'] == 1]\n",
    "    counting.append(dz['kmer'].unique().shape[0])\n",
    "    legend.append('MS validated #unique junction-9mers')\n",
    "#     counting.append(dz['gene'].unique().shape[0])\n",
    "#     legend.append('MS validated #uniques genes of origin')\n",
    "    sample_string.extend([sample_base] * 4)"
   ]
  },
  {
   "cell_type": "code",
   "execution_count": 106,
   "metadata": {
    "ExecuteTime": {
     "end_time": "2022-05-31T13:32:16.810222Z",
     "start_time": "2022-05-31T13:32:16.806546Z"
    }
   },
   "outputs": [],
   "source": [
    "plot_counts = pd.DataFrame( {'Number of instances': counting, \n",
    "                        'legend': legend, 'sample': sample_string})\n",
    "palette_custom = [color1 if 'MS' in field else color2 for field in plot_counts['legend']]\n"
   ]
  },
  {
   "cell_type": "code",
   "execution_count": 107,
   "metadata": {
    "ExecuteTime": {
     "end_time": "2022-05-31T13:32:16.844632Z",
     "start_time": "2022-05-31T13:32:16.814319Z"
    }
   },
   "outputs": [
    {
     "data": {
      "text/html": [
       "<div>\n",
       "<style scoped>\n",
       "    .dataframe tbody tr th:only-of-type {\n",
       "        vertical-align: middle;\n",
       "    }\n",
       "\n",
       "    .dataframe tbody tr th {\n",
       "        vertical-align: top;\n",
       "    }\n",
       "\n",
       "    .dataframe thead th {\n",
       "        text-align: right;\n",
       "    }\n",
       "</style>\n",
       "<table border=\"1\" class=\"dataframe\">\n",
       "  <thead>\n",
       "    <tr style=\"text-align: right;\">\n",
       "      <th></th>\n",
       "      <th>Number of instances</th>\n",
       "      <th>legend</th>\n",
       "      <th>sample</th>\n",
       "    </tr>\n",
       "  </thead>\n",
       "  <tbody>\n",
       "    <tr>\n",
       "      <th>0</th>\n",
       "      <td>2248</td>\n",
       "      <td>cancer-specific #unique bi-exons peptides</td>\n",
       "      <td>TCGA-BH-A18V</td>\n",
       "    </tr>\n",
       "    <tr>\n",
       "      <th>1</th>\n",
       "      <td>5432</td>\n",
       "      <td>cancer-specific #unique junction-9mers</td>\n",
       "      <td>TCGA-BH-A18V</td>\n",
       "    </tr>\n",
       "    <tr>\n",
       "      <th>2</th>\n",
       "      <td>861</td>\n",
       "      <td>MS validated #unique bi-exons peptides</td>\n",
       "      <td>TCGA-BH-A18V</td>\n",
       "    </tr>\n",
       "    <tr>\n",
       "      <th>3</th>\n",
       "      <td>0</td>\n",
       "      <td>MS validated #unique junction-9mers</td>\n",
       "      <td>TCGA-BH-A18V</td>\n",
       "    </tr>\n",
       "    <tr>\n",
       "      <th>4</th>\n",
       "      <td>2085</td>\n",
       "      <td>cancer-specific #unique bi-exons peptides</td>\n",
       "      <td>TCGA-C8-A12P</td>\n",
       "    </tr>\n",
       "    <tr>\n",
       "      <th>5</th>\n",
       "      <td>4483</td>\n",
       "      <td>cancer-specific #unique junction-9mers</td>\n",
       "      <td>TCGA-C8-A12P</td>\n",
       "    </tr>\n",
       "    <tr>\n",
       "      <th>6</th>\n",
       "      <td>635</td>\n",
       "      <td>MS validated #unique bi-exons peptides</td>\n",
       "      <td>TCGA-C8-A12P</td>\n",
       "    </tr>\n",
       "    <tr>\n",
       "      <th>7</th>\n",
       "      <td>0</td>\n",
       "      <td>MS validated #unique junction-9mers</td>\n",
       "      <td>TCGA-C8-A12P</td>\n",
       "    </tr>\n",
       "    <tr>\n",
       "      <th>8</th>\n",
       "      <td>1966</td>\n",
       "      <td>cancer-specific #unique bi-exons peptides</td>\n",
       "      <td>TCGA-AO-A0JM</td>\n",
       "    </tr>\n",
       "    <tr>\n",
       "      <th>9</th>\n",
       "      <td>4150</td>\n",
       "      <td>cancer-specific #unique junction-9mers</td>\n",
       "      <td>TCGA-AO-A0JM</td>\n",
       "    </tr>\n",
       "    <tr>\n",
       "      <th>10</th>\n",
       "      <td>734</td>\n",
       "      <td>MS validated #unique bi-exons peptides</td>\n",
       "      <td>TCGA-AO-A0JM</td>\n",
       "    </tr>\n",
       "    <tr>\n",
       "      <th>11</th>\n",
       "      <td>0</td>\n",
       "      <td>MS validated #unique junction-9mers</td>\n",
       "      <td>TCGA-AO-A0JM</td>\n",
       "    </tr>\n",
       "    <tr>\n",
       "      <th>12</th>\n",
       "      <td>2188</td>\n",
       "      <td>cancer-specific #unique bi-exons peptides</td>\n",
       "      <td>TCGA-A2-A0SX</td>\n",
       "    </tr>\n",
       "    <tr>\n",
       "      <th>13</th>\n",
       "      <td>5089</td>\n",
       "      <td>cancer-specific #unique junction-9mers</td>\n",
       "      <td>TCGA-A2-A0SX</td>\n",
       "    </tr>\n",
       "    <tr>\n",
       "      <th>14</th>\n",
       "      <td>767</td>\n",
       "      <td>MS validated #unique bi-exons peptides</td>\n",
       "      <td>TCGA-A2-A0SX</td>\n",
       "    </tr>\n",
       "    <tr>\n",
       "      <th>15</th>\n",
       "      <td>0</td>\n",
       "      <td>MS validated #unique junction-9mers</td>\n",
       "      <td>TCGA-A2-A0SX</td>\n",
       "    </tr>\n",
       "    <tr>\n",
       "      <th>16</th>\n",
       "      <td>2074</td>\n",
       "      <td>cancer-specific #unique bi-exons peptides</td>\n",
       "      <td>TCGA-A2-A0D2</td>\n",
       "    </tr>\n",
       "    <tr>\n",
       "      <th>17</th>\n",
       "      <td>4728</td>\n",
       "      <td>cancer-specific #unique junction-9mers</td>\n",
       "      <td>TCGA-A2-A0D2</td>\n",
       "    </tr>\n",
       "    <tr>\n",
       "      <th>18</th>\n",
       "      <td>96</td>\n",
       "      <td>MS validated #unique bi-exons peptides</td>\n",
       "      <td>TCGA-A2-A0D2</td>\n",
       "    </tr>\n",
       "    <tr>\n",
       "      <th>19</th>\n",
       "      <td>0</td>\n",
       "      <td>MS validated #unique junction-9mers</td>\n",
       "      <td>TCGA-A2-A0D2</td>\n",
       "    </tr>\n",
       "  </tbody>\n",
       "</table>\n",
       "</div>"
      ],
      "text/plain": [
       "    Number of instances                                     legend  \\\n",
       "0                  2248  cancer-specific #unique bi-exons peptides   \n",
       "1                  5432     cancer-specific #unique junction-9mers   \n",
       "2                   861     MS validated #unique bi-exons peptides   \n",
       "3                     0        MS validated #unique junction-9mers   \n",
       "4                  2085  cancer-specific #unique bi-exons peptides   \n",
       "5                  4483     cancer-specific #unique junction-9mers   \n",
       "6                   635     MS validated #unique bi-exons peptides   \n",
       "7                     0        MS validated #unique junction-9mers   \n",
       "8                  1966  cancer-specific #unique bi-exons peptides   \n",
       "9                  4150     cancer-specific #unique junction-9mers   \n",
       "10                  734     MS validated #unique bi-exons peptides   \n",
       "11                    0        MS validated #unique junction-9mers   \n",
       "12                 2188  cancer-specific #unique bi-exons peptides   \n",
       "13                 5089     cancer-specific #unique junction-9mers   \n",
       "14                  767     MS validated #unique bi-exons peptides   \n",
       "15                    0        MS validated #unique junction-9mers   \n",
       "16                 2074  cancer-specific #unique bi-exons peptides   \n",
       "17                 4728     cancer-specific #unique junction-9mers   \n",
       "18                   96     MS validated #unique bi-exons peptides   \n",
       "19                    0        MS validated #unique junction-9mers   \n",
       "\n",
       "          sample  \n",
       "0   TCGA-BH-A18V  \n",
       "1   TCGA-BH-A18V  \n",
       "2   TCGA-BH-A18V  \n",
       "3   TCGA-BH-A18V  \n",
       "4   TCGA-C8-A12P  \n",
       "5   TCGA-C8-A12P  \n",
       "6   TCGA-C8-A12P  \n",
       "7   TCGA-C8-A12P  \n",
       "8   TCGA-AO-A0JM  \n",
       "9   TCGA-AO-A0JM  \n",
       "10  TCGA-AO-A0JM  \n",
       "11  TCGA-AO-A0JM  \n",
       "12  TCGA-A2-A0SX  \n",
       "13  TCGA-A2-A0SX  \n",
       "14  TCGA-A2-A0SX  \n",
       "15  TCGA-A2-A0SX  \n",
       "16  TCGA-A2-A0D2  \n",
       "17  TCGA-A2-A0D2  \n",
       "18  TCGA-A2-A0D2  \n",
       "19  TCGA-A2-A0D2  "
      ]
     },
     "execution_count": 107,
     "metadata": {},
     "output_type": "execute_result"
    }
   ],
   "source": [
    "plot_counts"
   ]
  },
  {
   "cell_type": "code",
   "execution_count": 109,
   "metadata": {
    "ExecuteTime": {
     "end_time": "2022-05-31T13:32:18.219509Z",
     "start_time": "2022-05-31T13:32:16.857370Z"
    }
   },
   "outputs": [
    {
     "data": {
      "image/png": "[encoded data removed]",
      "text/plain": [
       "<Figure size 608.125x360 with 1 Axes>"
      ]
     },
     "metadata": {
      "needs_background": "light"
     },
     "output_type": "display_data"
    }
   ],
   "source": [
    "sns.lmplot( x=\"sample\", y='Number of instances', \n",
    "           data=plot_counts, fit_reg=False, hue='legend',\n",
    "           legend=True, markers=[\"o\", \"v\"] *2,\n",
    "                                 #, \"s\"] * 2, \n",
    "          palette=palette_custom)\n",
    "\n",
    "plt.xticks(rotation=45)\n",
    "plt.yscale(\"log\")  "
   ]
  },
  {
   "cell_type": "markdown",
   "metadata": {},
   "source": [
    "# Binding Plot"
   ]
  },
  {
   "cell_type": "code",
   "execution_count": 158,
   "metadata": {
    "ExecuteTime": {
     "end_time": "2022-05-31T15:46:27.440695Z",
     "start_time": "2022-05-31T15:46:26.755842Z"
    }
   },
   "outputs": [
    {
     "data": {
      "text/html": [
       "<div>\n",
       "<style scoped>\n",
       "    .dataframe tbody tr th:only-of-type {\n",
       "        vertical-align: middle;\n",
       "    }\n",
       "\n",
       "    .dataframe tbody tr th {\n",
       "        vertical-align: top;\n",
       "    }\n",
       "\n",
       "    .dataframe thead th {\n",
       "        text-align: right;\n",
       "    }\n",
       "</style>\n",
       "<table border=\"1\" class=\"dataframe\">\n",
       "  <thead>\n",
       "    <tr style=\"text-align: right;\">\n",
       "      <th></th>\n",
       "      <th>&gt;pepID</th>\n",
       "      <th>jx_pos</th>\n",
       "      <th>between_codons</th>\n",
       "      <th>includes_5'</th>\n",
       "      <th>includes_3'</th>\n",
       "      <th>gene</th>\n",
       "      <th>jx_coord</th>\n",
       "      <th>kmer</th>\n",
       "      <th>peptide</th>\n",
       "      <th>validated_peptide</th>\n",
       "      <th>validated_kmer</th>\n",
       "      <th>max_detections</th>\n",
       "      <th>TCGAA2A0D201A21RA03407all</th>\n",
       "      <th>percentile_rank</th>\n",
       "      <th>affinity</th>\n",
       "      <th>readFrameAnnotated</th>\n",
       "      <th>junctionAnnotated</th>\n",
       "      <th>#cancer_samples</th>\n",
       "    </tr>\n",
       "  </thead>\n",
       "  <tbody>\n",
       "    <tr>\n",
       "      <th>0</th>\n",
       "      <td>2</td>\n",
       "      <td>56</td>\n",
       "      <td>1</td>\n",
       "      <td>0</td>\n",
       "      <td>0</td>\n",
       "      <td>ENSG00000060339.14</td>\n",
       "      <td>68737048_68742427</td>\n",
       "      <td>AAAALQQHS</td>\n",
       "      <td>ALGVQQPSLLGASPTIYTQQTALAAAGLTTQTPANYQLTQTAALQQ...</td>\n",
       "      <td>0</td>\n",
       "      <td>0</td>\n",
       "      <td>NaN</td>\n",
       "      <td>3.0</td>\n",
       "      <td>28.0</td>\n",
       "      <td>28062.41</td>\n",
       "      <td>0</td>\n",
       "      <td>0</td>\n",
       "      <td>969.0</td>\n",
       "    </tr>\n",
       "    <tr>\n",
       "      <th>1</th>\n",
       "      <td>2</td>\n",
       "      <td>0</td>\n",
       "      <td>1</td>\n",
       "      <td>0</td>\n",
       "      <td>0</td>\n",
       "      <td>ENSG00000060339.14</td>\n",
       "      <td>68742430_68742487</td>\n",
       "      <td>AAAALQQHS</td>\n",
       "      <td>ALGVQQPSLLGASPTIYTQQTALAAAGLTTQTPANYQLTQTAALQQ...</td>\n",
       "      <td>0</td>\n",
       "      <td>0</td>\n",
       "      <td>NaN</td>\n",
       "      <td>3.0</td>\n",
       "      <td>28.0</td>\n",
       "      <td>28062.41</td>\n",
       "      <td>0</td>\n",
       "      <td>0</td>\n",
       "      <td>969.0</td>\n",
       "    </tr>\n",
       "    <tr>\n",
       "      <th>2</th>\n",
       "      <td>4</td>\n",
       "      <td>12</td>\n",
       "      <td>0</td>\n",
       "      <td>0</td>\n",
       "      <td>0</td>\n",
       "      <td>ENSG00000119333.11</td>\n",
       "      <td>128640690_128637027</td>\n",
       "      <td>AAADGVLSV</td>\n",
       "      <td>WLRGELDRAAADGVLSVYPGLPASPSAGSACDQHLLELHWLCGGLCLRP</td>\n",
       "      <td>0</td>\n",
       "      <td>0</td>\n",
       "      <td>NaN</td>\n",
       "      <td>1139.0</td>\n",
       "      <td>2.5</td>\n",
       "      <td>1791.30</td>\n",
       "      <td>0</td>\n",
       "      <td>1</td>\n",
       "      <td>1099.0</td>\n",
       "    </tr>\n",
       "    <tr>\n",
       "      <th>3</th>\n",
       "      <td>5</td>\n",
       "      <td>12</td>\n",
       "      <td>0</td>\n",
       "      <td>0</td>\n",
       "      <td>1</td>\n",
       "      <td>ENSG00000119333.11</td>\n",
       "      <td>128640690_128636438</td>\n",
       "      <td>AAADGWTMG</td>\n",
       "      <td>WLRGELDRAAADGWTMGTGARLSPSCVPGTWTGETCVPSSRRPWWR...</td>\n",
       "      <td>0</td>\n",
       "      <td>0</td>\n",
       "      <td>NaN</td>\n",
       "      <td>24.0</td>\n",
       "      <td>16.0</td>\n",
       "      <td>20550.52</td>\n",
       "      <td>0</td>\n",
       "      <td>1</td>\n",
       "      <td>971.0</td>\n",
       "    </tr>\n",
       "    <tr>\n",
       "      <th>4</th>\n",
       "      <td>6</td>\n",
       "      <td>12</td>\n",
       "      <td>0</td>\n",
       "      <td>0</td>\n",
       "      <td>0</td>\n",
       "      <td>ENSG00000119333.11</td>\n",
       "      <td>128640690_128636438</td>\n",
       "      <td>AAADGWTMG</td>\n",
       "      <td>WLRGELDRAAADGWTMGTGARLSPSCVPGTWTGETCVPSSRRPWWR...</td>\n",
       "      <td>0</td>\n",
       "      <td>0</td>\n",
       "      <td>NaN</td>\n",
       "      <td>24.0</td>\n",
       "      <td>16.0</td>\n",
       "      <td>20550.52</td>\n",
       "      <td>0</td>\n",
       "      <td>1</td>\n",
       "      <td>971.0</td>\n",
       "    </tr>\n",
       "    <tr>\n",
       "      <th>...</th>\n",
       "      <td>...</td>\n",
       "      <td>...</td>\n",
       "      <td>...</td>\n",
       "      <td>...</td>\n",
       "      <td>...</td>\n",
       "      <td>...</td>\n",
       "      <td>...</td>\n",
       "      <td>...</td>\n",
       "      <td>...</td>\n",
       "      <td>...</td>\n",
       "      <td>...</td>\n",
       "      <td>...</td>\n",
       "      <td>...</td>\n",
       "      <td>...</td>\n",
       "      <td>...</td>\n",
       "      <td>...</td>\n",
       "      <td>...</td>\n",
       "      <td>...</td>\n",
       "    </tr>\n",
       "    <tr>\n",
       "      <th>230132</th>\n",
       "      <td>249273</td>\n",
       "      <td>4</td>\n",
       "      <td>0</td>\n",
       "      <td>0</td>\n",
       "      <td>0</td>\n",
       "      <td>ENSG00000134419.15</td>\n",
       "      <td>18783091_18782987</td>\n",
       "      <td>YYSFIVQIK</td>\n",
       "      <td>NLYPPNYASGALVESILTSWLLYYSFIVQIKCLMDSG</td>\n",
       "      <td>0</td>\n",
       "      <td>0</td>\n",
       "      <td>NaN</td>\n",
       "      <td>38.0</td>\n",
       "      <td>1.2</td>\n",
       "      <td>2295.55</td>\n",
       "      <td>0</td>\n",
       "      <td>1</td>\n",
       "      <td>1101.0</td>\n",
       "    </tr>\n",
       "    <tr>\n",
       "      <th>230133</th>\n",
       "      <td>249275</td>\n",
       "      <td>24</td>\n",
       "      <td>0</td>\n",
       "      <td>0</td>\n",
       "      <td>0</td>\n",
       "      <td>ENSG00000134419.15</td>\n",
       "      <td>18783640_18783102</td>\n",
       "      <td>YYSFIVQIK</td>\n",
       "      <td>NLYPPNYASGALVESILTSWLLYYSFIVQIKCLMD</td>\n",
       "      <td>0</td>\n",
       "      <td>0</td>\n",
       "      <td>NaN</td>\n",
       "      <td>38.0</td>\n",
       "      <td>1.2</td>\n",
       "      <td>2295.55</td>\n",
       "      <td>0</td>\n",
       "      <td>1</td>\n",
       "      <td>1101.0</td>\n",
       "    </tr>\n",
       "    <tr>\n",
       "      <th>230134</th>\n",
       "      <td>249275</td>\n",
       "      <td>4</td>\n",
       "      <td>0</td>\n",
       "      <td>0</td>\n",
       "      <td>0</td>\n",
       "      <td>ENSG00000134419.15</td>\n",
       "      <td>18783091_18782987</td>\n",
       "      <td>YYSFIVQIK</td>\n",
       "      <td>NLYPPNYASGALVESILTSWLLYYSFIVQIKCLMD</td>\n",
       "      <td>0</td>\n",
       "      <td>0</td>\n",
       "      <td>NaN</td>\n",
       "      <td>38.0</td>\n",
       "      <td>1.2</td>\n",
       "      <td>2295.55</td>\n",
       "      <td>0</td>\n",
       "      <td>1</td>\n",
       "      <td>1101.0</td>\n",
       "    </tr>\n",
       "    <tr>\n",
       "      <th>230135</th>\n",
       "      <td>249277</td>\n",
       "      <td>24</td>\n",
       "      <td>0</td>\n",
       "      <td>0</td>\n",
       "      <td>0</td>\n",
       "      <td>ENSG00000134419.15</td>\n",
       "      <td>18783640_18783102</td>\n",
       "      <td>YYSFIVQIK</td>\n",
       "      <td>NLYPPNYASGALVESILTSWLLYYSFIVQIKCLM</td>\n",
       "      <td>0</td>\n",
       "      <td>0</td>\n",
       "      <td>NaN</td>\n",
       "      <td>38.0</td>\n",
       "      <td>1.2</td>\n",
       "      <td>2295.55</td>\n",
       "      <td>0</td>\n",
       "      <td>1</td>\n",
       "      <td>1101.0</td>\n",
       "    </tr>\n",
       "    <tr>\n",
       "      <th>230136</th>\n",
       "      <td>249277</td>\n",
       "      <td>4</td>\n",
       "      <td>0</td>\n",
       "      <td>0</td>\n",
       "      <td>0</td>\n",
       "      <td>ENSG00000134419.15</td>\n",
       "      <td>18783091_18782987</td>\n",
       "      <td>YYSFIVQIK</td>\n",
       "      <td>NLYPPNYASGALVESILTSWLLYYSFIVQIKCLM</td>\n",
       "      <td>0</td>\n",
       "      <td>0</td>\n",
       "      <td>NaN</td>\n",
       "      <td>38.0</td>\n",
       "      <td>1.2</td>\n",
       "      <td>2295.55</td>\n",
       "      <td>0</td>\n",
       "      <td>1</td>\n",
       "      <td>1101.0</td>\n",
       "    </tr>\n",
       "  </tbody>\n",
       "</table>\n",
       "<p>230137 rows × 18 columns</p>\n",
       "</div>"
      ],
      "text/plain": [
       "        >pepID  jx_pos  between_codons  includes_5'  includes_3'  \\\n",
       "0            2      56               1            0            0   \n",
       "1            2       0               1            0            0   \n",
       "2            4      12               0            0            0   \n",
       "3            5      12               0            0            1   \n",
       "4            6      12               0            0            0   \n",
       "...        ...     ...             ...          ...          ...   \n",
       "230132  249273       4               0            0            0   \n",
       "230133  249275      24               0            0            0   \n",
       "230134  249275       4               0            0            0   \n",
       "230135  249277      24               0            0            0   \n",
       "230136  249277       4               0            0            0   \n",
       "\n",
       "                      gene             jx_coord       kmer  \\\n",
       "0       ENSG00000060339.14    68737048_68742427  AAAALQQHS   \n",
       "1       ENSG00000060339.14    68742430_68742487  AAAALQQHS   \n",
       "2       ENSG00000119333.11  128640690_128637027  AAADGVLSV   \n",
       "3       ENSG00000119333.11  128640690_128636438  AAADGWTMG   \n",
       "4       ENSG00000119333.11  128640690_128636438  AAADGWTMG   \n",
       "...                    ...                  ...        ...   \n",
       "230132  ENSG00000134419.15    18783091_18782987  YYSFIVQIK   \n",
       "230133  ENSG00000134419.15    18783640_18783102  YYSFIVQIK   \n",
       "230134  ENSG00000134419.15    18783091_18782987  YYSFIVQIK   \n",
       "230135  ENSG00000134419.15    18783640_18783102  YYSFIVQIK   \n",
       "230136  ENSG00000134419.15    18783091_18782987  YYSFIVQIK   \n",
       "\n",
       "                                                  peptide  validated_peptide  \\\n",
       "0       ALGVQQPSLLGASPTIYTQQTALAAAGLTTQTPANYQLTQTAALQQ...                  0   \n",
       "1       ALGVQQPSLLGASPTIYTQQTALAAAGLTTQTPANYQLTQTAALQQ...                  0   \n",
       "2       WLRGELDRAAADGVLSVYPGLPASPSAGSACDQHLLELHWLCGGLCLRP                  0   \n",
       "3       WLRGELDRAAADGWTMGTGARLSPSCVPGTWTGETCVPSSRRPWWR...                  0   \n",
       "4       WLRGELDRAAADGWTMGTGARLSPSCVPGTWTGETCVPSSRRPWWR...                  0   \n",
       "...                                                   ...                ...   \n",
       "230132              NLYPPNYASGALVESILTSWLLYYSFIVQIKCLMDSG                  0   \n",
       "230133                NLYPPNYASGALVESILTSWLLYYSFIVQIKCLMD                  0   \n",
       "230134                NLYPPNYASGALVESILTSWLLYYSFIVQIKCLMD                  0   \n",
       "230135                 NLYPPNYASGALVESILTSWLLYYSFIVQIKCLM                  0   \n",
       "230136                 NLYPPNYASGALVESILTSWLLYYSFIVQIKCLM                  0   \n",
       "\n",
       "        validated_kmer  max_detections  TCGAA2A0D201A21RA03407all  \\\n",
       "0                    0             NaN                        3.0   \n",
       "1                    0             NaN                        3.0   \n",
       "2                    0             NaN                     1139.0   \n",
       "3                    0             NaN                       24.0   \n",
       "4                    0             NaN                       24.0   \n",
       "...                ...             ...                        ...   \n",
       "230132               0             NaN                       38.0   \n",
       "230133               0             NaN                       38.0   \n",
       "230134               0             NaN                       38.0   \n",
       "230135               0             NaN                       38.0   \n",
       "230136               0             NaN                       38.0   \n",
       "\n",
       "        percentile_rank  affinity readFrameAnnotated junctionAnnotated  \\\n",
       "0                  28.0  28062.41                  0                 0   \n",
       "1                  28.0  28062.41                  0                 0   \n",
       "2                   2.5   1791.30                  0                 1   \n",
       "3                  16.0  20550.52                  0                 1   \n",
       "4                  16.0  20550.52                  0                 1   \n",
       "...                 ...       ...                ...               ...   \n",
       "230132              1.2   2295.55                  0                 1   \n",
       "230133              1.2   2295.55                  0                 1   \n",
       "230134              1.2   2295.55                  0                 1   \n",
       "230135              1.2   2295.55                  0                 1   \n",
       "230136              1.2   2295.55                  0                 1   \n",
       "\n",
       "        #cancer_samples  \n",
       "0                 969.0  \n",
       "1                 969.0  \n",
       "2                1099.0  \n",
       "3                 971.0  \n",
       "4                 971.0  \n",
       "...                 ...  \n",
       "230132           1101.0  \n",
       "230133           1101.0  \n",
       "230134           1101.0  \n",
       "230135           1101.0  \n",
       "230136           1101.0  \n",
       "\n",
       "[230137 rows x 18 columns]"
      ]
     },
     "execution_count": 158,
     "metadata": {},
     "output_type": "execute_result"
    }
   ],
   "source": [
    "df"
   ]
  },
  {
   "cell_type": "code",
   "execution_count": 155,
   "metadata": {
    "ExecuteTime": {
     "end_time": "2022-05-31T14:15:03.799474Z",
     "start_time": "2022-05-31T14:13:48.509666Z"
    }
   },
   "outputs": [
    {
     "data": {
      "text/plain": [
       "'TCGA-BH-A18V-01A-11R-A12D-07.all'"
      ]
     },
     "metadata": {},
     "output_type": "display_data"
    },
    {
     "name": "stderr",
     "output_type": "stream",
     "text": [
      "/cluster/home/prelotla/software/anaconda3/envs/myimmuno3_light/lib/python3.8/site-packages/IPython/core/interactiveshell.py:3146: DtypeWarning: Columns (16) have mixed types.Specify dtype option on import or set low_memory=False.\n",
      "  has_raised = await self.run_ast_nodes(code_ast.body, cell_name,\n"
     ]
    },
    {
     "data": {
      "image/png": "[encoded data removed]",
      "text/plain": [
       "<Figure size 432x432 with 3 Axes>"
      ]
     },
     "metadata": {
      "needs_background": "light"
     },
     "output_type": "display_data"
    },
    {
     "data": {
      "text/plain": [
       "'TCGA-C8-A12P-01A-11R-A115-07.all'"
      ]
     },
     "metadata": {},
     "output_type": "display_data"
    },
    {
     "name": "stderr",
     "output_type": "stream",
     "text": [
      "/cluster/home/prelotla/software/anaconda3/envs/myimmuno3_light/lib/python3.8/site-packages/IPython/core/interactiveshell.py:3146: DtypeWarning: Columns (16) have mixed types.Specify dtype option on import or set low_memory=False.\n",
      "  has_raised = await self.run_ast_nodes(code_ast.body, cell_name,\n"
     ]
    },
    {
     "data": {
      "image/png": "[encoded data removed]",
      "text/plain": [
       "<Figure size 432x432 with 3 Axes>"
      ]
     },
     "metadata": {
      "needs_background": "light"
     },
     "output_type": "display_data"
    },
    {
     "data": {
      "text/plain": [
       "'TCGA-AO-A0JM-01A-21R-A056-07.all'"
      ]
     },
     "metadata": {},
     "output_type": "display_data"
    },
    {
     "name": "stderr",
     "output_type": "stream",
     "text": [
      "/cluster/home/prelotla/software/anaconda3/envs/myimmuno3_light/lib/python3.8/site-packages/IPython/core/interactiveshell.py:3146: DtypeWarning: Columns (16) have mixed types.Specify dtype option on import or set low_memory=False.\n",
      "  has_raised = await self.run_ast_nodes(code_ast.body, cell_name,\n"
     ]
    },
    {
     "data": {
      "image/png": "[encoded data removed]",
      "text/plain": [
       "<Figure size 432x432 with 3 Axes>"
      ]
     },
     "metadata": {
      "needs_background": "light"
     },
     "output_type": "display_data"
    },
    {
     "data": {
      "text/plain": [
       "'TCGA-A2-A0SX-01A-12R-A084-07.all'"
      ]
     },
     "metadata": {},
     "output_type": "display_data"
    },
    {
     "name": "stderr",
     "output_type": "stream",
     "text": [
      "/cluster/home/prelotla/software/anaconda3/envs/myimmuno3_light/lib/python3.8/site-packages/IPython/core/interactiveshell.py:3146: DtypeWarning: Columns (16) have mixed types.Specify dtype option on import or set low_memory=False.\n",
      "  has_raised = await self.run_ast_nodes(code_ast.body, cell_name,\n"
     ]
    },
    {
     "data": {
      "image/png": "[encoded data removed]",
      "text/plain": [
       "<Figure size 432x432 with 3 Axes>"
      ]
     },
     "metadata": {
      "needs_background": "light"
     },
     "output_type": "display_data"
    },
    {
     "data": {
      "text/plain": [
       "'TCGA-A2-A0D2-01A-21R-A034-07.all'"
      ]
     },
     "metadata": {},
     "output_type": "display_data"
    },
    {
     "name": "stderr",
     "output_type": "stream",
     "text": [
      "/cluster/home/prelotla/software/anaconda3/envs/myimmuno3_light/lib/python3.8/site-packages/IPython/core/interactiveshell.py:3146: DtypeWarning: Columns (16) have mixed types.Specify dtype option on import or set low_memory=False.\n",
      "  has_raised = await self.run_ast_nodes(code_ast.body, cell_name,\n"
     ]
    },
    {
     "data": {
      "image/png": "[encoded data removed]",
      "text/plain": [
       "<Figure size 432x432 with 3 Axes>"
      ]
     },
     "metadata": {
      "needs_background": "light"
     },
     "output_type": "display_data"
    }
   ],
   "source": [
    "samples = [\n",
    "    'TCGA-BH-A18V-01A-11R-A12D-07.all', \n",
    "        'TCGA-C8-A12P-01A-11R-A115-07.all', \n",
    "        'TCGA-AO-A0JM-01A-21R-A056-07.all', \n",
    "        'TCGA-A2-A0SX-01A-12R-A084-07.all',\n",
    "        'TCGA-A2-A0D2-01A-21R-A034-07.all']\n",
    "for sample in samples:\n",
    "    display(sample)\n",
    "    sample_short = ''.join(sample.split('.')[:-1])\n",
    "    sample_pool = sample.replace('-', '').replace('.', '')\n",
    "    sample_base = '-'.join(sample_short.split('-')[0:3])\n",
    "\n",
    "    path = f'/cluster/work/grlab/projects/projects2020_OHSU/peptides_generation/v2_v2.5f0752a_conf2_annotFrame_cap0_runs_pya0.17.1/TCGA_Breast_1102/filter_{sample_short}.all/commit_d4aee54_GTEXcore/G_{sample_short}_summary_plotting.tsv.gz'\n",
    "\n",
    "    df = pd.read_csv(path, compression=\"gzip\")\n",
    "    plot_df = df.loc[ df['junctionAnnotated'] == 0, \\\n",
    "             ['kmer', sample_pool, 'percentile_rank', '#cancer_samples']].drop_duplicates()\n",
    "    ax = sns.jointplot(data=plot_df, x=sample_pool, y=\"percentile_rank\", \n",
    "                       color = color2)\n",
    "    x_label = 'Normalized expression'\n",
    "    y_label = 'Binding percentile rank (strong < 2)'\n",
    "    ax.set_axis_labels(x_label, y_label, fontsize=12)  \n",
    "    plt.suptitle('cancer-specific junction-9mers', y = 1,  fontsize=12)  \n",
    "    plt.show()\n",
    "\n"
   ]
  },
  {
   "cell_type": "markdown",
   "metadata": {},
   "source": [
    "# Recurrence "
   ]
  },
  {
   "cell_type": "code",
   "execution_count": 3,
   "metadata": {
    "ExecuteTime": {
     "end_time": "2022-06-01T12:50:49.321038Z",
     "start_time": "2022-06-01T12:50:34.067271Z"
    }
   },
   "outputs": [
    {
     "data": {
      "text/plain": [
       "'TCGA-A2-A0D2-01A-21R-A034-07.all'"
      ]
     },
     "metadata": {},
     "output_type": "display_data"
    },
    {
     "name": "stderr",
     "output_type": "stream",
     "text": [
      "/cluster/home/prelotla/software/anaconda3/envs/myimmuno3_light/lib/python3.8/site-packages/IPython/core/interactiveshell.py:3146: DtypeWarning: Columns (16) have mixed types.Specify dtype option on import or set low_memory=False.\n",
      "  has_raised = await self.run_ast_nodes(code_ast.body, cell_name,\n"
     ]
    },
    {
     "data": {
      "image/png": "[encoded data removed]",
      "text/plain": [
       "<Figure size 432x432 with 3 Axes>"
      ]
     },
     "metadata": {
      "needs_background": "light"
     },
     "output_type": "display_data"
    }
   ],
   "source": [
    "samples = [\n",
    "#     'TCGA-BH-A18V-01A-11R-A12D-07.all', \n",
    "#         'TCGA-C8-A12P-01A-11R-A115-07.all', \n",
    "#         'TCGA-AO-A0JM-01A-21R-A056-07.all', \n",
    "#         'TCGA-A2-A0SX-01A-12R-A084-07.all',\n",
    "        'TCGA-A2-A0D2-01A-21R-A034-07.all']\n",
    "for sample in samples:\n",
    "    display(sample)\n",
    "    sample_short = ''.join(sample.split('.')[:-1])\n",
    "    sample_pool = sample.replace('-', '').replace('.', '')\n",
    "    sample_base = '-'.join(sample_short.split('-')[0:3])\n",
    "\n",
    "    path = f'/cluster/work/grlab/projects/projects2020_OHSU/peptides_generation/v2_v2.5f0752a_conf2_annotFrame_cap0_runs_pya0.17.1/TCGA_Breast_1102/filter_{sample_short}.all/commit_d4aee54_GTEXcore/G_{sample_short}_summary_plotting.tsv.gz'\n",
    "\n",
    "    df = pd.read_csv(path, compression=\"gzip\")\n",
    "    plot_df = df.loc[ df['junctionAnnotated'] == 0, \\\n",
    "             ['kmer', sample_pool, 'percentile_rank', '#cancer_samples']].drop_duplicates()\n",
    "    ax = sns.jointplot(data=plot_df, y=sample_pool, x=\"#cancer_samples\", \n",
    "                       color = color2)\n",
    "    y_label = 'Normalized expression'\n",
    "    x_label = 'Recurrence across 1102 BRCA samples'\n",
    "    plt.yscale(\"log\")  \n",
    "    ax.set_axis_labels(x_label, y_label, fontsize=12)  \n",
    "    plt.suptitle('cancer-specific junction-9mers', y = 1,  fontsize=12)  \n",
    "    plt.show()\n",
    "\n"
   ]
  },
  {
   "cell_type": "markdown",
   "metadata": {},
   "source": [
    "# Manual "
   ]
  },
  {
   "cell_type": "code",
   "execution_count": 8,
   "metadata": {
    "ExecuteTime": {
     "end_time": "2022-06-01T13:05:08.896401Z",
     "start_time": "2022-06-01T13:05:08.473263Z"
    }
   },
   "outputs": [],
   "source": [
    "km = pd.read_csv('/cluster/work/grlab/projects/projects2020_OHSU/peptides_generation/v2_v3_d2d2574_conf2_annotFrame_cap0_runs/TCGA_Breast_1102/tmp_candidates.tsv')"
   ]
  },
  {
   "cell_type": "code",
   "execution_count": 9,
   "metadata": {
    "ExecuteTime": {
     "end_time": "2022-06-01T13:05:09.397154Z",
     "start_time": "2022-06-01T13:05:09.360981Z"
    }
   },
   "outputs": [
    {
     "data": {
      "text/html": [
       "<div>\n",
       "<style scoped>\n",
       "    .dataframe tbody tr th:only-of-type {\n",
       "        vertical-align: middle;\n",
       "    }\n",
       "\n",
       "    .dataframe tbody tr th {\n",
       "        vertical-align: top;\n",
       "    }\n",
       "\n",
       "    .dataframe thead th {\n",
       "        text-align: right;\n",
       "    }\n",
       "</style>\n",
       "<table border=\"1\" class=\"dataframe\">\n",
       "  <thead>\n",
       "    <tr style=\"text-align: right;\">\n",
       "      <th></th>\n",
       "      <th>kmer</th>\n",
       "      <th>TCGA3CAAAU01A11RA41B07all</th>\n",
       "      <th>TCGA3CAALI01A11RA41B07all</th>\n",
       "      <th>TCGA3CAALJ01A31RA41B07all</th>\n",
       "      <th>TCGA3CAALK01A11RA41B07all</th>\n",
       "      <th>TCGA4HAAAK01A12RA41B07all</th>\n",
       "      <th>TCGA5LAAT001A12RA41B07all</th>\n",
       "      <th>TCGA5LAAT101A12RA41B07all</th>\n",
       "      <th>TCGA5TA9QA01A11RA41B07all</th>\n",
       "      <th>TCGAA1A0SB01A11RA14407all</th>\n",
       "      <th>...</th>\n",
       "      <th>TCGAW8A86G01A21RA36F07all</th>\n",
       "      <th>TCGAWTAB4101A11RA41B07all</th>\n",
       "      <th>TCGAWTAB4401A11RA41B07all</th>\n",
       "      <th>TCGAXXA89901A11RA36F07all</th>\n",
       "      <th>TCGAXXA89A01A11RA36F07all</th>\n",
       "      <th>TCGAZ7A8R501A42RA41B07all</th>\n",
       "      <th>TCGAZ7A8R601A11RA41B07all</th>\n",
       "      <th>isCrossJunction</th>\n",
       "      <th>junctionAnnotated</th>\n",
       "      <th>readFrameAnnotated</th>\n",
       "    </tr>\n",
       "  </thead>\n",
       "  <tbody>\n",
       "    <tr>\n",
       "      <th>0</th>\n",
       "      <td>MNLGSSKVG</td>\n",
       "      <td>0.0</td>\n",
       "      <td>0.0</td>\n",
       "      <td>0.0</td>\n",
       "      <td>0.0</td>\n",
       "      <td>0.0</td>\n",
       "      <td>0.0</td>\n",
       "      <td>0.0</td>\n",
       "      <td>0.0</td>\n",
       "      <td>0.0</td>\n",
       "      <td>...</td>\n",
       "      <td>0.0</td>\n",
       "      <td>0.0</td>\n",
       "      <td>0.0</td>\n",
       "      <td>0.0</td>\n",
       "      <td>0.0</td>\n",
       "      <td>0.0</td>\n",
       "      <td>0.0</td>\n",
       "      <td>True</td>\n",
       "      <td>0.0</td>\n",
       "      <td>1</td>\n",
       "    </tr>\n",
       "    <tr>\n",
       "      <th>1</th>\n",
       "      <td>NLGSSKVGP</td>\n",
       "      <td>NaN</td>\n",
       "      <td>NaN</td>\n",
       "      <td>NaN</td>\n",
       "      <td>NaN</td>\n",
       "      <td>NaN</td>\n",
       "      <td>NaN</td>\n",
       "      <td>NaN</td>\n",
       "      <td>NaN</td>\n",
       "      <td>NaN</td>\n",
       "      <td>...</td>\n",
       "      <td>NaN</td>\n",
       "      <td>NaN</td>\n",
       "      <td>NaN</td>\n",
       "      <td>NaN</td>\n",
       "      <td>NaN</td>\n",
       "      <td>NaN</td>\n",
       "      <td>NaN</td>\n",
       "      <td>False</td>\n",
       "      <td>0.0</td>\n",
       "      <td>1</td>\n",
       "    </tr>\n",
       "    <tr>\n",
       "      <th>2</th>\n",
       "      <td>LGSSKVGPC</td>\n",
       "      <td>NaN</td>\n",
       "      <td>NaN</td>\n",
       "      <td>NaN</td>\n",
       "      <td>NaN</td>\n",
       "      <td>NaN</td>\n",
       "      <td>NaN</td>\n",
       "      <td>NaN</td>\n",
       "      <td>NaN</td>\n",
       "      <td>NaN</td>\n",
       "      <td>...</td>\n",
       "      <td>NaN</td>\n",
       "      <td>NaN</td>\n",
       "      <td>NaN</td>\n",
       "      <td>NaN</td>\n",
       "      <td>NaN</td>\n",
       "      <td>NaN</td>\n",
       "      <td>NaN</td>\n",
       "      <td>False</td>\n",
       "      <td>0.0</td>\n",
       "      <td>1</td>\n",
       "    </tr>\n",
       "    <tr>\n",
       "      <th>3</th>\n",
       "      <td>GSSKVGPCL</td>\n",
       "      <td>NaN</td>\n",
       "      <td>NaN</td>\n",
       "      <td>NaN</td>\n",
       "      <td>NaN</td>\n",
       "      <td>NaN</td>\n",
       "      <td>NaN</td>\n",
       "      <td>NaN</td>\n",
       "      <td>NaN</td>\n",
       "      <td>NaN</td>\n",
       "      <td>...</td>\n",
       "      <td>NaN</td>\n",
       "      <td>NaN</td>\n",
       "      <td>NaN</td>\n",
       "      <td>NaN</td>\n",
       "      <td>NaN</td>\n",
       "      <td>NaN</td>\n",
       "      <td>NaN</td>\n",
       "      <td>False</td>\n",
       "      <td>0.0</td>\n",
       "      <td>1</td>\n",
       "    </tr>\n",
       "    <tr>\n",
       "      <th>4</th>\n",
       "      <td>SSKVGPCLS</td>\n",
       "      <td>NaN</td>\n",
       "      <td>NaN</td>\n",
       "      <td>NaN</td>\n",
       "      <td>NaN</td>\n",
       "      <td>NaN</td>\n",
       "      <td>NaN</td>\n",
       "      <td>NaN</td>\n",
       "      <td>NaN</td>\n",
       "      <td>NaN</td>\n",
       "      <td>...</td>\n",
       "      <td>NaN</td>\n",
       "      <td>NaN</td>\n",
       "      <td>NaN</td>\n",
       "      <td>NaN</td>\n",
       "      <td>NaN</td>\n",
       "      <td>NaN</td>\n",
       "      <td>NaN</td>\n",
       "      <td>False</td>\n",
       "      <td>0.0</td>\n",
       "      <td>1</td>\n",
       "    </tr>\n",
       "  </tbody>\n",
       "</table>\n",
       "<p>5 rows × 1106 columns</p>\n",
       "</div>"
      ],
      "text/plain": [
       "        kmer  TCGA3CAAAU01A11RA41B07all  TCGA3CAALI01A11RA41B07all  \\\n",
       "0  MNLGSSKVG                        0.0                        0.0   \n",
       "1  NLGSSKVGP                        NaN                        NaN   \n",
       "2  LGSSKVGPC                        NaN                        NaN   \n",
       "3  GSSKVGPCL                        NaN                        NaN   \n",
       "4  SSKVGPCLS                        NaN                        NaN   \n",
       "\n",
       "   TCGA3CAALJ01A31RA41B07all  TCGA3CAALK01A11RA41B07all  \\\n",
       "0                        0.0                        0.0   \n",
       "1                        NaN                        NaN   \n",
       "2                        NaN                        NaN   \n",
       "3                        NaN                        NaN   \n",
       "4                        NaN                        NaN   \n",
       "\n",
       "   TCGA4HAAAK01A12RA41B07all  TCGA5LAAT001A12RA41B07all  \\\n",
       "0                        0.0                        0.0   \n",
       "1                        NaN                        NaN   \n",
       "2                        NaN                        NaN   \n",
       "3                        NaN                        NaN   \n",
       "4                        NaN                        NaN   \n",
       "\n",
       "   TCGA5LAAT101A12RA41B07all  TCGA5TA9QA01A11RA41B07all  \\\n",
       "0                        0.0                        0.0   \n",
       "1                        NaN                        NaN   \n",
       "2                        NaN                        NaN   \n",
       "3                        NaN                        NaN   \n",
       "4                        NaN                        NaN   \n",
       "\n",
       "   TCGAA1A0SB01A11RA14407all  ...  TCGAW8A86G01A21RA36F07all  \\\n",
       "0                        0.0  ...                        0.0   \n",
       "1                        NaN  ...                        NaN   \n",
       "2                        NaN  ...                        NaN   \n",
       "3                        NaN  ...                        NaN   \n",
       "4                        NaN  ...                        NaN   \n",
       "\n",
       "   TCGAWTAB4101A11RA41B07all  TCGAWTAB4401A11RA41B07all  \\\n",
       "0                        0.0                        0.0   \n",
       "1                        NaN                        NaN   \n",
       "2                        NaN                        NaN   \n",
       "3                        NaN                        NaN   \n",
       "4                        NaN                        NaN   \n",
       "\n",
       "   TCGAXXA89901A11RA36F07all  TCGAXXA89A01A11RA36F07all  \\\n",
       "0                        0.0                        0.0   \n",
       "1                        NaN                        NaN   \n",
       "2                        NaN                        NaN   \n",
       "3                        NaN                        NaN   \n",
       "4                        NaN                        NaN   \n",
       "\n",
       "   TCGAZ7A8R501A42RA41B07all  TCGAZ7A8R601A11RA41B07all  isCrossJunction  \\\n",
       "0                        0.0                        0.0             True   \n",
       "1                        NaN                        NaN            False   \n",
       "2                        NaN                        NaN            False   \n",
       "3                        NaN                        NaN            False   \n",
       "4                        NaN                        NaN            False   \n",
       "\n",
       "   junctionAnnotated  readFrameAnnotated  \n",
       "0                0.0                   1  \n",
       "1                0.0                   1  \n",
       "2                0.0                   1  \n",
       "3                0.0                   1  \n",
       "4                0.0                   1  \n",
       "\n",
       "[5 rows x 1106 columns]"
      ]
     },
     "execution_count": 9,
     "metadata": {},
     "output_type": "execute_result"
    }
   ],
   "source": [
    "km.head()"
   ]
  },
  {
   "cell_type": "code",
   "execution_count": 12,
   "metadata": {
    "ExecuteTime": {
     "end_time": "2022-06-01T13:07:02.076568Z",
     "start_time": "2022-06-01T13:07:02.071316Z"
    }
   },
   "outputs": [
    {
     "data": {
      "text/plain": [
       "(5184, 1106)"
      ]
     },
     "execution_count": 12,
     "metadata": {},
     "output_type": "execute_result"
    }
   ],
   "source": [
    "km.shape"
   ]
  },
  {
   "cell_type": "code",
   "execution_count": 10,
   "metadata": {
    "ExecuteTime": {
     "end_time": "2022-06-01T13:05:27.717420Z",
     "start_time": "2022-06-01T13:05:27.672872Z"
    }
   },
   "outputs": [],
   "source": [
    "kmers_interest = df.loc[df['validated_kmer']== 1]"
   ]
  },
  {
   "cell_type": "code",
   "execution_count": 13,
   "metadata": {
    "ExecuteTime": {
     "end_time": "2022-06-01T13:07:07.858204Z",
     "start_time": "2022-06-01T13:07:07.854405Z"
    }
   },
   "outputs": [
    {
     "data": {
      "text/plain": [
       "(21, 19)"
      ]
     },
     "execution_count": 13,
     "metadata": {},
     "output_type": "execute_result"
    }
   ],
   "source": [
    "kmers_interest.shape"
   ]
  },
  {
   "cell_type": "code",
   "execution_count": 58,
   "metadata": {
    "ExecuteTime": {
     "end_time": "2022-06-01T13:31:36.191843Z",
     "start_time": "2022-06-01T13:31:36.110392Z"
    }
   },
   "outputs": [],
   "source": [
    "km_restrict = km.merge(kmers_interest['kmer'], on = 'kmer', how = 'right')"
   ]
  },
  {
   "cell_type": "code",
   "execution_count": 59,
   "metadata": {
    "ExecuteTime": {
     "end_time": "2022-06-01T13:31:36.838956Z",
     "start_time": "2022-06-01T13:31:36.793244Z"
    }
   },
   "outputs": [
    {
     "data": {
      "text/html": [
       "<div>\n",
       "<style scoped>\n",
       "    .dataframe tbody tr th:only-of-type {\n",
       "        vertical-align: middle;\n",
       "    }\n",
       "\n",
       "    .dataframe tbody tr th {\n",
       "        vertical-align: top;\n",
       "    }\n",
       "\n",
       "    .dataframe thead th {\n",
       "        text-align: right;\n",
       "    }\n",
       "</style>\n",
       "<table border=\"1\" class=\"dataframe\">\n",
       "  <thead>\n",
       "    <tr style=\"text-align: right;\">\n",
       "      <th></th>\n",
       "      <th>kmer</th>\n",
       "      <th>TCGA3CAAAU01A11RA41B07all</th>\n",
       "      <th>TCGA3CAALI01A11RA41B07all</th>\n",
       "      <th>TCGA3CAALJ01A31RA41B07all</th>\n",
       "      <th>TCGA3CAALK01A11RA41B07all</th>\n",
       "      <th>TCGA4HAAAK01A12RA41B07all</th>\n",
       "      <th>TCGA5LAAT001A12RA41B07all</th>\n",
       "      <th>TCGA5LAAT101A12RA41B07all</th>\n",
       "      <th>TCGA5TA9QA01A11RA41B07all</th>\n",
       "      <th>TCGAA1A0SB01A11RA14407all</th>\n",
       "      <th>...</th>\n",
       "      <th>TCGAW8A86G01A21RA36F07all</th>\n",
       "      <th>TCGAWTAB4101A11RA41B07all</th>\n",
       "      <th>TCGAWTAB4401A11RA41B07all</th>\n",
       "      <th>TCGAXXA89901A11RA36F07all</th>\n",
       "      <th>TCGAXXA89A01A11RA36F07all</th>\n",
       "      <th>TCGAZ7A8R501A42RA41B07all</th>\n",
       "      <th>TCGAZ7A8R601A11RA41B07all</th>\n",
       "      <th>isCrossJunction</th>\n",
       "      <th>junctionAnnotated</th>\n",
       "      <th>readFrameAnnotated</th>\n",
       "    </tr>\n",
       "  </thead>\n",
       "  <tbody>\n",
       "    <tr>\n",
       "      <th>0</th>\n",
       "      <td>DITGTLSNK</td>\n",
       "      <td>179.0</td>\n",
       "      <td>77.0</td>\n",
       "      <td>80.0</td>\n",
       "      <td>105.0</td>\n",
       "      <td>78.0</td>\n",
       "      <td>71.0</td>\n",
       "      <td>48.0</td>\n",
       "      <td>117.0</td>\n",
       "      <td>75.0</td>\n",
       "      <td>...</td>\n",
       "      <td>62.0</td>\n",
       "      <td>55.0</td>\n",
       "      <td>48.0</td>\n",
       "      <td>27.0</td>\n",
       "      <td>156.0</td>\n",
       "      <td>124.0</td>\n",
       "      <td>98.0</td>\n",
       "      <td>True</td>\n",
       "      <td>1.0</td>\n",
       "      <td>0</td>\n",
       "    </tr>\n",
       "    <tr>\n",
       "      <th>1</th>\n",
       "      <td>DITGTLSNK</td>\n",
       "      <td>179.0</td>\n",
       "      <td>77.0</td>\n",
       "      <td>80.0</td>\n",
       "      <td>105.0</td>\n",
       "      <td>78.0</td>\n",
       "      <td>71.0</td>\n",
       "      <td>48.0</td>\n",
       "      <td>117.0</td>\n",
       "      <td>75.0</td>\n",
       "      <td>...</td>\n",
       "      <td>62.0</td>\n",
       "      <td>55.0</td>\n",
       "      <td>48.0</td>\n",
       "      <td>27.0</td>\n",
       "      <td>156.0</td>\n",
       "      <td>124.0</td>\n",
       "      <td>98.0</td>\n",
       "      <td>True</td>\n",
       "      <td>1.0</td>\n",
       "      <td>0</td>\n",
       "    </tr>\n",
       "    <tr>\n",
       "      <th>2</th>\n",
       "      <td>DITGTLSNK</td>\n",
       "      <td>179.0</td>\n",
       "      <td>77.0</td>\n",
       "      <td>80.0</td>\n",
       "      <td>105.0</td>\n",
       "      <td>78.0</td>\n",
       "      <td>71.0</td>\n",
       "      <td>48.0</td>\n",
       "      <td>117.0</td>\n",
       "      <td>75.0</td>\n",
       "      <td>...</td>\n",
       "      <td>62.0</td>\n",
       "      <td>55.0</td>\n",
       "      <td>48.0</td>\n",
       "      <td>27.0</td>\n",
       "      <td>156.0</td>\n",
       "      <td>124.0</td>\n",
       "      <td>98.0</td>\n",
       "      <td>True</td>\n",
       "      <td>1.0</td>\n",
       "      <td>0</td>\n",
       "    </tr>\n",
       "    <tr>\n",
       "      <th>3</th>\n",
       "      <td>EEHVICLTL</td>\n",
       "      <td>0.0</td>\n",
       "      <td>0.0</td>\n",
       "      <td>0.0</td>\n",
       "      <td>0.0</td>\n",
       "      <td>0.0</td>\n",
       "      <td>0.0</td>\n",
       "      <td>0.0</td>\n",
       "      <td>0.0</td>\n",
       "      <td>0.0</td>\n",
       "      <td>...</td>\n",
       "      <td>0.0</td>\n",
       "      <td>0.0</td>\n",
       "      <td>0.0</td>\n",
       "      <td>0.0</td>\n",
       "      <td>0.0</td>\n",
       "      <td>0.0</td>\n",
       "      <td>0.0</td>\n",
       "      <td>True</td>\n",
       "      <td>1.0</td>\n",
       "      <td>1</td>\n",
       "    </tr>\n",
       "    <tr>\n",
       "      <th>4</th>\n",
       "      <td>EEHVICLTL</td>\n",
       "      <td>0.0</td>\n",
       "      <td>0.0</td>\n",
       "      <td>0.0</td>\n",
       "      <td>0.0</td>\n",
       "      <td>0.0</td>\n",
       "      <td>0.0</td>\n",
       "      <td>0.0</td>\n",
       "      <td>0.0</td>\n",
       "      <td>0.0</td>\n",
       "      <td>...</td>\n",
       "      <td>0.0</td>\n",
       "      <td>0.0</td>\n",
       "      <td>0.0</td>\n",
       "      <td>0.0</td>\n",
       "      <td>0.0</td>\n",
       "      <td>0.0</td>\n",
       "      <td>0.0</td>\n",
       "      <td>True</td>\n",
       "      <td>1.0</td>\n",
       "      <td>1</td>\n",
       "    </tr>\n",
       "  </tbody>\n",
       "</table>\n",
       "<p>5 rows × 1106 columns</p>\n",
       "</div>"
      ],
      "text/plain": [
       "        kmer  TCGA3CAAAU01A11RA41B07all  TCGA3CAALI01A11RA41B07all  \\\n",
       "0  DITGTLSNK                      179.0                       77.0   \n",
       "1  DITGTLSNK                      179.0                       77.0   \n",
       "2  DITGTLSNK                      179.0                       77.0   \n",
       "3  EEHVICLTL                        0.0                        0.0   \n",
       "4  EEHVICLTL                        0.0                        0.0   \n",
       "\n",
       "   TCGA3CAALJ01A31RA41B07all  TCGA3CAALK01A11RA41B07all  \\\n",
       "0                       80.0                      105.0   \n",
       "1                       80.0                      105.0   \n",
       "2                       80.0                      105.0   \n",
       "3                        0.0                        0.0   \n",
       "4                        0.0                        0.0   \n",
       "\n",
       "   TCGA4HAAAK01A12RA41B07all  TCGA5LAAT001A12RA41B07all  \\\n",
       "0                       78.0                       71.0   \n",
       "1                       78.0                       71.0   \n",
       "2                       78.0                       71.0   \n",
       "3                        0.0                        0.0   \n",
       "4                        0.0                        0.0   \n",
       "\n",
       "   TCGA5LAAT101A12RA41B07all  TCGA5TA9QA01A11RA41B07all  \\\n",
       "0                       48.0                      117.0   \n",
       "1                       48.0                      117.0   \n",
       "2                       48.0                      117.0   \n",
       "3                        0.0                        0.0   \n",
       "4                        0.0                        0.0   \n",
       "\n",
       "   TCGAA1A0SB01A11RA14407all  ...  TCGAW8A86G01A21RA36F07all  \\\n",
       "0                       75.0  ...                       62.0   \n",
       "1                       75.0  ...                       62.0   \n",
       "2                       75.0  ...                       62.0   \n",
       "3                        0.0  ...                        0.0   \n",
       "4                        0.0  ...                        0.0   \n",
       "\n",
       "   TCGAWTAB4101A11RA41B07all  TCGAWTAB4401A11RA41B07all  \\\n",
       "0                       55.0                       48.0   \n",
       "1                       55.0                       48.0   \n",
       "2                       55.0                       48.0   \n",
       "3                        0.0                        0.0   \n",
       "4                        0.0                        0.0   \n",
       "\n",
       "   TCGAXXA89901A11RA36F07all  TCGAXXA89A01A11RA36F07all  \\\n",
       "0                       27.0                      156.0   \n",
       "1                       27.0                      156.0   \n",
       "2                       27.0                      156.0   \n",
       "3                        0.0                        0.0   \n",
       "4                        0.0                        0.0   \n",
       "\n",
       "   TCGAZ7A8R501A42RA41B07all  TCGAZ7A8R601A11RA41B07all  isCrossJunction  \\\n",
       "0                      124.0                       98.0             True   \n",
       "1                      124.0                       98.0             True   \n",
       "2                      124.0                       98.0             True   \n",
       "3                        0.0                        0.0             True   \n",
       "4                        0.0                        0.0             True   \n",
       "\n",
       "   junctionAnnotated  readFrameAnnotated  \n",
       "0                1.0                   0  \n",
       "1                1.0                   0  \n",
       "2                1.0                   0  \n",
       "3                1.0                   1  \n",
       "4                1.0                   1  \n",
       "\n",
       "[5 rows x 1106 columns]"
      ]
     },
     "execution_count": 59,
     "metadata": {},
     "output_type": "execute_result"
    }
   ],
   "source": [
    "km_restrict.head()\n"
   ]
  },
  {
   "cell_type": "code",
   "execution_count": 60,
   "metadata": {
    "ExecuteTime": {
     "end_time": "2022-06-01T13:31:37.521885Z",
     "start_time": "2022-06-01T13:31:37.406288Z"
    }
   },
   "outputs": [],
   "source": [
    "km_restrict = km_restrict.drop_duplicates()\n"
   ]
  },
  {
   "cell_type": "code",
   "execution_count": 61,
   "metadata": {
    "ExecuteTime": {
     "end_time": "2022-06-01T13:31:38.726798Z",
     "start_time": "2022-06-01T13:31:38.455910Z"
    }
   },
   "outputs": [
    {
     "name": "stdout",
     "output_type": "stream",
     "text": [
      "TCGA-A2-A0D2-01A-21R-A034-07.all : DITGTLSNK MS validated\n",
      "sample expression is: 116.0\n",
      "recurrence is :  1102\n",
      "status: peptide junctions annotation \n",
      " (currently True if ANY of the two junctions \n",
      " is annotated! should take into account the junction \n",
      " spanned by kmer 1.0\n",
      "status: kmer reading frame annotation 0\n"
     ]
    },
    {
     "data": {
      "image/png": "[encoded data removed]",
      "text/plain": [
       "<Figure size 432x288 with 1 Axes>"
      ]
     },
     "metadata": {
      "needs_background": "light"
     },
     "output_type": "display_data"
    },
    {
     "name": "stdout",
     "output_type": "stream",
     "text": [
      "TCGA-A2-A0D2-01A-21R-A034-07.all : PTSPSLGSR MS validated\n",
      "sample expression is: 454.0\n",
      "recurrence is :  1099\n",
      "status: peptide junctions annotation \n",
      " (currently True if ANY of the two junctions \n",
      " is annotated! should take into account the junction \n",
      " spanned by kmer 1.0\n",
      "status: kmer reading frame annotation 0\n"
     ]
    },
    {
     "data": {
      "image/png": "[encoded data removed]",
      "text/plain": [
       "<Figure size 432x288 with 1 Axes>"
      ]
     },
     "metadata": {
      "needs_background": "light"
     },
     "output_type": "display_data"
    }
   ],
   "source": [
    "kmer_expressed_in_target = []\n",
    "for idx, row in km_restrict.iterrows():\n",
    "    vals = row[cohort_cancer].values\n",
    "    if row[sample_pool] > 0 : \n",
    "        print(sample, ':', row['kmer'], 'MS validated')\n",
    "        print('sample expression is:', row[sample_pool])\n",
    "        print('recurrence is : ', len(np.where(vals)[0]))\n",
    "        print('status: peptide junctions annotation \\n (currently True if ANY of the two junctions \\n is annotated! should take into account the junction \\n spanned by kmer', row['junctionAnnotated'])\n",
    "        print('status: kmer reading frame annotation', row['readFrameAnnotated'] )\n",
    "        plt.hist(vals)\n",
    "        plt.show()\n",
    "        kmer_expressed_in_target.append(row['kmer'])\n",
    "    "
   ]
  },
  {
   "cell_type": "code",
   "execution_count": 62,
   "metadata": {
    "ExecuteTime": {
     "end_time": "2022-06-01T13:31:50.068807Z",
     "start_time": "2022-06-01T13:31:50.063285Z"
    }
   },
   "outputs": [
    {
     "data": {
      "text/plain": [
       "['DITGTLSNK', 'PTSPSLGSR']"
      ]
     },
     "execution_count": 62,
     "metadata": {},
     "output_type": "execute_result"
    }
   ],
   "source": [
    "kmer_expressed_in_target"
   ]
  },
  {
   "cell_type": "markdown",
   "metadata": {},
   "source": [
    "KKVLIVYAHQEPKSFNGSLKNVAVDELSRQGCTVTVSDLYAMNLEPRATDKDITGTLSNKQRSLASDITDEQKKVREADLVIFQ,ENSG00000124588.20:49_54_59:0:3010026:3-exons_9-mer,1,0,ENSG00000124588.20,chr6,+,ref,1,0,nan,0,nan,nan,3010026;3010189;3012543;3012557;3012599;3012674,3010024;3010189;3012543;3012557;3012599;3012674,\"(49, 54, 59)\",3-exons_9-mer"
   ]
  },
  {
   "cell_type": "markdown",
   "metadata": {},
   "source": [
    "LRSPTSPSLGSRSDT,ENSG00000129354.11:27_25:0:10574938:2-exons/ENSG00000129354.11:27_23:0:10574938:2-exons,2,0,ENSG00000129354.11,chr19,-,ref,1,1,nan,0,nan,nan,10574903;10574938;10574359;10574492;None;None/10574903;10574938;10574416;10574492;None;None,10574903;10574938;10574416;10574492;None;None/10574903;10574938;10574357;10574492;None;None,\"(27, 25)/(27, 23)\",2-exons"
   ]
  },
  {
   "cell_type": "code",
   "execution_count": 12,
   "metadata": {
    "ExecuteTime": {
     "end_time": "2022-06-01T12:40:02.552947Z",
     "start_time": "2022-06-01T12:40:02.525756Z"
    }
   },
   "outputs": [
    {
     "data": {
      "text/html": [
       "<div>\n",
       "<style scoped>\n",
       "    .dataframe tbody tr th:only-of-type {\n",
       "        vertical-align: middle;\n",
       "    }\n",
       "\n",
       "    .dataframe tbody tr th {\n",
       "        vertical-align: top;\n",
       "    }\n",
       "\n",
       "    .dataframe thead th {\n",
       "        text-align: right;\n",
       "    }\n",
       "</style>\n",
       "<table border=\"1\" class=\"dataframe\">\n",
       "  <thead>\n",
       "    <tr style=\"text-align: right;\">\n",
       "      <th></th>\n",
       "      <th>&gt;pepID</th>\n",
       "      <th>jx_pos</th>\n",
       "      <th>between_codons</th>\n",
       "      <th>includes_5'</th>\n",
       "      <th>includes_3'</th>\n",
       "      <th>gene</th>\n",
       "      <th>jx_coord</th>\n",
       "      <th>kmer</th>\n",
       "      <th>peptide</th>\n",
       "      <th>validated_peptide</th>\n",
       "      <th>validated_kmer</th>\n",
       "      <th>max_detections</th>\n",
       "      <th>TCGAA2A0D201A21RA03407all</th>\n",
       "      <th>percentile_rank</th>\n",
       "      <th>affinity</th>\n",
       "      <th>readFrameAnnotated</th>\n",
       "      <th>junctionAnnotated</th>\n",
       "      <th>origin</th>\n",
       "      <th>#cancer_samples</th>\n",
       "    </tr>\n",
       "  </thead>\n",
       "  <tbody>\n",
       "    <tr>\n",
       "      <th>8350</th>\n",
       "      <td>8937</td>\n",
       "      <td>54</td>\n",
       "      <td>0</td>\n",
       "      <td>0</td>\n",
       "      <td>0</td>\n",
       "      <td>ENSG00000124588.20</td>\n",
       "      <td>3010189_3012543</td>\n",
       "      <td>DITGTLSNK</td>\n",
       "      <td>KKVLIVYAHQEPKSFNGSLKNVAVDELSRQGCTVTVSDLYAMNLEP...</td>\n",
       "      <td>1</td>\n",
       "      <td>1</td>\n",
       "      <td>1.0</td>\n",
       "      <td>116.0</td>\n",
       "      <td>4.0</td>\n",
       "      <td>2359.74</td>\n",
       "      <td>0</td>\n",
       "      <td>1</td>\n",
       "      <td>54</td>\n",
       "      <td>1101.0</td>\n",
       "    </tr>\n",
       "    <tr>\n",
       "      <th>11093</th>\n",
       "      <td>11898</td>\n",
       "      <td>27</td>\n",
       "      <td>0</td>\n",
       "      <td>0</td>\n",
       "      <td>1</td>\n",
       "      <td>ENSG00000204287.14</td>\n",
       "      <td>32440032_32442447</td>\n",
       "      <td>EEHVICLTL</td>\n",
       "      <td>MAISGVPVLGFFIIAVLMSAQESWAIKEEHVICLTLMVMRFSMWIW...</td>\n",
       "      <td>1</td>\n",
       "      <td>1</td>\n",
       "      <td>1.0</td>\n",
       "      <td>1512.0</td>\n",
       "      <td>0.6</td>\n",
       "      <td>436.76</td>\n",
       "      <td>1</td>\n",
       "      <td>1</td>\n",
       "      <td>4</td>\n",
       "      <td>1101.0</td>\n",
       "    </tr>\n",
       "    <tr>\n",
       "      <th>11094</th>\n",
       "      <td>11898</td>\n",
       "      <td>4</td>\n",
       "      <td>0</td>\n",
       "      <td>0</td>\n",
       "      <td>1</td>\n",
       "      <td>ENSG00000204287.14</td>\n",
       "      <td>32442459_32442505</td>\n",
       "      <td>EEHVICLTL</td>\n",
       "      <td>MAISGVPVLGFFIIAVLMSAQESWAIKEEHVICLTLMVMRFSMWIW...</td>\n",
       "      <td>1</td>\n",
       "      <td>1</td>\n",
       "      <td>1.0</td>\n",
       "      <td>1512.0</td>\n",
       "      <td>0.6</td>\n",
       "      <td>436.76</td>\n",
       "      <td>1</td>\n",
       "      <td>1</td>\n",
       "      <td>4</td>\n",
       "      <td>1101.0</td>\n",
       "    </tr>\n",
       "    <tr>\n",
       "      <th>41901</th>\n",
       "      <td>45259</td>\n",
       "      <td>17</td>\n",
       "      <td>1</td>\n",
       "      <td>0</td>\n",
       "      <td>0</td>\n",
       "      <td>ENSG00000139219.19</td>\n",
       "      <td>47979510_47978758</td>\n",
       "      <td>NGNPGPPGE</td>\n",
       "      <td>GATGFPGAAGRVGPPGSNGNPGPPGEKGEPGDDGPS</td>\n",
       "      <td>1</td>\n",
       "      <td>1</td>\n",
       "      <td>1.0</td>\n",
       "      <td>3.0</td>\n",
       "      <td>7.5</td>\n",
       "      <td>18719.29</td>\n",
       "      <td>0</td>\n",
       "      <td>1</td>\n",
       "      <td>24</td>\n",
       "      <td>587.0</td>\n",
       "    </tr>\n",
       "    <tr>\n",
       "      <th>41902</th>\n",
       "      <td>45259</td>\n",
       "      <td>6</td>\n",
       "      <td>0</td>\n",
       "      <td>0</td>\n",
       "      <td>0</td>\n",
       "      <td>ENSG00000139219.19</td>\n",
       "      <td>47978738_47978630</td>\n",
       "      <td>NGNPGPPGE</td>\n",
       "      <td>GATGFPGAAGRVGPPGSNGNPGPPGEKGEPGDDGPS</td>\n",
       "      <td>1</td>\n",
       "      <td>1</td>\n",
       "      <td>1.0</td>\n",
       "      <td>3.0</td>\n",
       "      <td>7.5</td>\n",
       "      <td>18719.29</td>\n",
       "      <td>0</td>\n",
       "      <td>1</td>\n",
       "      <td>24</td>\n",
       "      <td>587.0</td>\n",
       "    </tr>\n",
       "    <tr>\n",
       "      <th>47794</th>\n",
       "      <td>51643</td>\n",
       "      <td>11</td>\n",
       "      <td>0</td>\n",
       "      <td>0</td>\n",
       "      <td>1</td>\n",
       "      <td>ENSG00000129354.11</td>\n",
       "      <td>10574903_10574492</td>\n",
       "      <td>PTSPSLGSR</td>\n",
       "      <td>LRSPTSPSLGSRSDT</td>\n",
       "      <td>1</td>\n",
       "      <td>1</td>\n",
       "      <td>1.0</td>\n",
       "      <td>454.0</td>\n",
       "      <td>6.0</td>\n",
       "      <td>5646.87</td>\n",
       "      <td>0</td>\n",
       "      <td>1</td>\n",
       "      <td>25)/(27</td>\n",
       "      <td>1098.0</td>\n",
       "    </tr>\n",
       "    <tr>\n",
       "      <th>47795</th>\n",
       "      <td>51644</td>\n",
       "      <td>11</td>\n",
       "      <td>0</td>\n",
       "      <td>0</td>\n",
       "      <td>1</td>\n",
       "      <td>ENSG00000129354.11</td>\n",
       "      <td>10574903_10574492</td>\n",
       "      <td>PTSPSLGSR</td>\n",
       "      <td>LRSPTSPSLGSRSDT</td>\n",
       "      <td>1</td>\n",
       "      <td>1</td>\n",
       "      <td>1.0</td>\n",
       "      <td>454.0</td>\n",
       "      <td>6.0</td>\n",
       "      <td>5646.87</td>\n",
       "      <td>0</td>\n",
       "      <td>1</td>\n",
       "      <td>25)/(27</td>\n",
       "      <td>1098.0</td>\n",
       "    </tr>\n",
       "    <tr>\n",
       "      <th>85124</th>\n",
       "      <td>92030</td>\n",
       "      <td>54</td>\n",
       "      <td>0</td>\n",
       "      <td>0</td>\n",
       "      <td>0</td>\n",
       "      <td>ENSG00000124588.20</td>\n",
       "      <td>3010189_3012543</td>\n",
       "      <td>DITGTLSNK</td>\n",
       "      <td>KKVLIVYAHQEPKSFNGSLKNVAVDELSRQGCTVTVSDLYAMNLEP...</td>\n",
       "      <td>1</td>\n",
       "      <td>1</td>\n",
       "      <td>1.0</td>\n",
       "      <td>116.0</td>\n",
       "      <td>4.0</td>\n",
       "      <td>2359.74</td>\n",
       "      <td>0</td>\n",
       "      <td>1</td>\n",
       "      <td>54</td>\n",
       "      <td>1101.0</td>\n",
       "    </tr>\n",
       "    <tr>\n",
       "      <th>87867</th>\n",
       "      <td>94991</td>\n",
       "      <td>27</td>\n",
       "      <td>0</td>\n",
       "      <td>0</td>\n",
       "      <td>1</td>\n",
       "      <td>ENSG00000204287.14</td>\n",
       "      <td>32440032_32442447</td>\n",
       "      <td>EEHVICLTL</td>\n",
       "      <td>MAISGVPVLGFFIIAVLMSAQESWAIKEEHVICLTLMVMRFSMWIW...</td>\n",
       "      <td>1</td>\n",
       "      <td>1</td>\n",
       "      <td>1.0</td>\n",
       "      <td>1512.0</td>\n",
       "      <td>0.6</td>\n",
       "      <td>436.76</td>\n",
       "      <td>1</td>\n",
       "      <td>1</td>\n",
       "      <td>4</td>\n",
       "      <td>1101.0</td>\n",
       "    </tr>\n",
       "    <tr>\n",
       "      <th>87868</th>\n",
       "      <td>94991</td>\n",
       "      <td>4</td>\n",
       "      <td>0</td>\n",
       "      <td>0</td>\n",
       "      <td>1</td>\n",
       "      <td>ENSG00000204287.14</td>\n",
       "      <td>32442459_32442505</td>\n",
       "      <td>EEHVICLTL</td>\n",
       "      <td>MAISGVPVLGFFIIAVLMSAQESWAIKEEHVICLTLMVMRFSMWIW...</td>\n",
       "      <td>1</td>\n",
       "      <td>1</td>\n",
       "      <td>1.0</td>\n",
       "      <td>1512.0</td>\n",
       "      <td>0.6</td>\n",
       "      <td>436.76</td>\n",
       "      <td>1</td>\n",
       "      <td>1</td>\n",
       "      <td>4</td>\n",
       "      <td>1101.0</td>\n",
       "    </tr>\n",
       "    <tr>\n",
       "      <th>118675</th>\n",
       "      <td>128352</td>\n",
       "      <td>17</td>\n",
       "      <td>1</td>\n",
       "      <td>0</td>\n",
       "      <td>0</td>\n",
       "      <td>ENSG00000139219.19</td>\n",
       "      <td>47979510_47978758</td>\n",
       "      <td>NGNPGPPGE</td>\n",
       "      <td>GATGFPGAAGRVGPPGSNGNPGPPGEKGEPGDDGPS</td>\n",
       "      <td>1</td>\n",
       "      <td>1</td>\n",
       "      <td>1.0</td>\n",
       "      <td>3.0</td>\n",
       "      <td>7.5</td>\n",
       "      <td>18719.29</td>\n",
       "      <td>0</td>\n",
       "      <td>1</td>\n",
       "      <td>24</td>\n",
       "      <td>587.0</td>\n",
       "    </tr>\n",
       "    <tr>\n",
       "      <th>118676</th>\n",
       "      <td>128352</td>\n",
       "      <td>6</td>\n",
       "      <td>0</td>\n",
       "      <td>0</td>\n",
       "      <td>0</td>\n",
       "      <td>ENSG00000139219.19</td>\n",
       "      <td>47978738_47978630</td>\n",
       "      <td>NGNPGPPGE</td>\n",
       "      <td>GATGFPGAAGRVGPPGSNGNPGPPGEKGEPGDDGPS</td>\n",
       "      <td>1</td>\n",
       "      <td>1</td>\n",
       "      <td>1.0</td>\n",
       "      <td>3.0</td>\n",
       "      <td>7.5</td>\n",
       "      <td>18719.29</td>\n",
       "      <td>0</td>\n",
       "      <td>1</td>\n",
       "      <td>24</td>\n",
       "      <td>587.0</td>\n",
       "    </tr>\n",
       "    <tr>\n",
       "      <th>124568</th>\n",
       "      <td>134736</td>\n",
       "      <td>11</td>\n",
       "      <td>0</td>\n",
       "      <td>0</td>\n",
       "      <td>1</td>\n",
       "      <td>ENSG00000129354.11</td>\n",
       "      <td>10574903_10574492</td>\n",
       "      <td>PTSPSLGSR</td>\n",
       "      <td>LRSPTSPSLGSRSDT</td>\n",
       "      <td>1</td>\n",
       "      <td>1</td>\n",
       "      <td>1.0</td>\n",
       "      <td>454.0</td>\n",
       "      <td>6.0</td>\n",
       "      <td>5646.87</td>\n",
       "      <td>0</td>\n",
       "      <td>1</td>\n",
       "      <td>25)/(27</td>\n",
       "      <td>1098.0</td>\n",
       "    </tr>\n",
       "    <tr>\n",
       "      <th>124569</th>\n",
       "      <td>134737</td>\n",
       "      <td>11</td>\n",
       "      <td>0</td>\n",
       "      <td>0</td>\n",
       "      <td>1</td>\n",
       "      <td>ENSG00000129354.11</td>\n",
       "      <td>10574903_10574492</td>\n",
       "      <td>PTSPSLGSR</td>\n",
       "      <td>LRSPTSPSLGSRSDT</td>\n",
       "      <td>1</td>\n",
       "      <td>1</td>\n",
       "      <td>1.0</td>\n",
       "      <td>454.0</td>\n",
       "      <td>6.0</td>\n",
       "      <td>5646.87</td>\n",
       "      <td>0</td>\n",
       "      <td>1</td>\n",
       "      <td>25)/(27</td>\n",
       "      <td>1098.0</td>\n",
       "    </tr>\n",
       "    <tr>\n",
       "      <th>161898</th>\n",
       "      <td>175123</td>\n",
       "      <td>54</td>\n",
       "      <td>0</td>\n",
       "      <td>0</td>\n",
       "      <td>0</td>\n",
       "      <td>ENSG00000124588.20</td>\n",
       "      <td>3010189_3012543</td>\n",
       "      <td>DITGTLSNK</td>\n",
       "      <td>KKVLIVYAHQEPKSFNGSLKNVAVDELSRQGCTVTVSDLYAMNLEP...</td>\n",
       "      <td>1</td>\n",
       "      <td>1</td>\n",
       "      <td>1.0</td>\n",
       "      <td>116.0</td>\n",
       "      <td>4.0</td>\n",
       "      <td>2359.74</td>\n",
       "      <td>0</td>\n",
       "      <td>1</td>\n",
       "      <td>54</td>\n",
       "      <td>1101.0</td>\n",
       "    </tr>\n",
       "    <tr>\n",
       "      <th>164641</th>\n",
       "      <td>178084</td>\n",
       "      <td>27</td>\n",
       "      <td>0</td>\n",
       "      <td>0</td>\n",
       "      <td>1</td>\n",
       "      <td>ENSG00000204287.14</td>\n",
       "      <td>32440032_32442447</td>\n",
       "      <td>EEHVICLTL</td>\n",
       "      <td>MAISGVPVLGFFIIAVLMSAQESWAIKEEHVICLTLMVMRFSMWIW...</td>\n",
       "      <td>1</td>\n",
       "      <td>1</td>\n",
       "      <td>1.0</td>\n",
       "      <td>1512.0</td>\n",
       "      <td>0.6</td>\n",
       "      <td>436.76</td>\n",
       "      <td>1</td>\n",
       "      <td>1</td>\n",
       "      <td>4</td>\n",
       "      <td>1101.0</td>\n",
       "    </tr>\n",
       "    <tr>\n",
       "      <th>164642</th>\n",
       "      <td>178084</td>\n",
       "      <td>4</td>\n",
       "      <td>0</td>\n",
       "      <td>0</td>\n",
       "      <td>1</td>\n",
       "      <td>ENSG00000204287.14</td>\n",
       "      <td>32442459_32442505</td>\n",
       "      <td>EEHVICLTL</td>\n",
       "      <td>MAISGVPVLGFFIIAVLMSAQESWAIKEEHVICLTLMVMRFSMWIW...</td>\n",
       "      <td>1</td>\n",
       "      <td>1</td>\n",
       "      <td>1.0</td>\n",
       "      <td>1512.0</td>\n",
       "      <td>0.6</td>\n",
       "      <td>436.76</td>\n",
       "      <td>1</td>\n",
       "      <td>1</td>\n",
       "      <td>4</td>\n",
       "      <td>1101.0</td>\n",
       "    </tr>\n",
       "    <tr>\n",
       "      <th>195449</th>\n",
       "      <td>211445</td>\n",
       "      <td>17</td>\n",
       "      <td>1</td>\n",
       "      <td>0</td>\n",
       "      <td>0</td>\n",
       "      <td>ENSG00000139219.19</td>\n",
       "      <td>47979510_47978758</td>\n",
       "      <td>NGNPGPPGE</td>\n",
       "      <td>GATGFPGAAGRVGPPGSNGNPGPPGEKGEPGDDGPS</td>\n",
       "      <td>1</td>\n",
       "      <td>1</td>\n",
       "      <td>1.0</td>\n",
       "      <td>3.0</td>\n",
       "      <td>7.5</td>\n",
       "      <td>18719.29</td>\n",
       "      <td>0</td>\n",
       "      <td>1</td>\n",
       "      <td>24</td>\n",
       "      <td>587.0</td>\n",
       "    </tr>\n",
       "    <tr>\n",
       "      <th>195450</th>\n",
       "      <td>211445</td>\n",
       "      <td>6</td>\n",
       "      <td>0</td>\n",
       "      <td>0</td>\n",
       "      <td>0</td>\n",
       "      <td>ENSG00000139219.19</td>\n",
       "      <td>47978738_47978630</td>\n",
       "      <td>NGNPGPPGE</td>\n",
       "      <td>GATGFPGAAGRVGPPGSNGNPGPPGEKGEPGDDGPS</td>\n",
       "      <td>1</td>\n",
       "      <td>1</td>\n",
       "      <td>1.0</td>\n",
       "      <td>3.0</td>\n",
       "      <td>7.5</td>\n",
       "      <td>18719.29</td>\n",
       "      <td>0</td>\n",
       "      <td>1</td>\n",
       "      <td>24</td>\n",
       "      <td>587.0</td>\n",
       "    </tr>\n",
       "    <tr>\n",
       "      <th>201342</th>\n",
       "      <td>217829</td>\n",
       "      <td>11</td>\n",
       "      <td>0</td>\n",
       "      <td>0</td>\n",
       "      <td>1</td>\n",
       "      <td>ENSG00000129354.11</td>\n",
       "      <td>10574903_10574492</td>\n",
       "      <td>PTSPSLGSR</td>\n",
       "      <td>LRSPTSPSLGSRSDT</td>\n",
       "      <td>1</td>\n",
       "      <td>1</td>\n",
       "      <td>1.0</td>\n",
       "      <td>454.0</td>\n",
       "      <td>6.0</td>\n",
       "      <td>5646.87</td>\n",
       "      <td>0</td>\n",
       "      <td>1</td>\n",
       "      <td>25)/(27</td>\n",
       "      <td>1098.0</td>\n",
       "    </tr>\n",
       "    <tr>\n",
       "      <th>201343</th>\n",
       "      <td>217830</td>\n",
       "      <td>11</td>\n",
       "      <td>0</td>\n",
       "      <td>0</td>\n",
       "      <td>1</td>\n",
       "      <td>ENSG00000129354.11</td>\n",
       "      <td>10574903_10574492</td>\n",
       "      <td>PTSPSLGSR</td>\n",
       "      <td>LRSPTSPSLGSRSDT</td>\n",
       "      <td>1</td>\n",
       "      <td>1</td>\n",
       "      <td>1.0</td>\n",
       "      <td>454.0</td>\n",
       "      <td>6.0</td>\n",
       "      <td>5646.87</td>\n",
       "      <td>0</td>\n",
       "      <td>1</td>\n",
       "      <td>25)/(27</td>\n",
       "      <td>1098.0</td>\n",
       "    </tr>\n",
       "  </tbody>\n",
       "</table>\n",
       "</div>"
      ],
      "text/plain": [
       "        >pepID  jx_pos  between_codons  includes_5'  includes_3'  \\\n",
       "8350      8937      54               0            0            0   \n",
       "11093    11898      27               0            0            1   \n",
       "11094    11898       4               0            0            1   \n",
       "41901    45259      17               1            0            0   \n",
       "41902    45259       6               0            0            0   \n",
       "47794    51643      11               0            0            1   \n",
       "47795    51644      11               0            0            1   \n",
       "85124    92030      54               0            0            0   \n",
       "87867    94991      27               0            0            1   \n",
       "87868    94991       4               0            0            1   \n",
       "118675  128352      17               1            0            0   \n",
       "118676  128352       6               0            0            0   \n",
       "124568  134736      11               0            0            1   \n",
       "124569  134737      11               0            0            1   \n",
       "161898  175123      54               0            0            0   \n",
       "164641  178084      27               0            0            1   \n",
       "164642  178084       4               0            0            1   \n",
       "195449  211445      17               1            0            0   \n",
       "195450  211445       6               0            0            0   \n",
       "201342  217829      11               0            0            1   \n",
       "201343  217830      11               0            0            1   \n",
       "\n",
       "                      gene           jx_coord       kmer  \\\n",
       "8350    ENSG00000124588.20    3010189_3012543  DITGTLSNK   \n",
       "11093   ENSG00000204287.14  32440032_32442447  EEHVICLTL   \n",
       "11094   ENSG00000204287.14  32442459_32442505  EEHVICLTL   \n",
       "41901   ENSG00000139219.19  47979510_47978758  NGNPGPPGE   \n",
       "41902   ENSG00000139219.19  47978738_47978630  NGNPGPPGE   \n",
       "47794   ENSG00000129354.11  10574903_10574492  PTSPSLGSR   \n",
       "47795   ENSG00000129354.11  10574903_10574492  PTSPSLGSR   \n",
       "85124   ENSG00000124588.20    3010189_3012543  DITGTLSNK   \n",
       "87867   ENSG00000204287.14  32440032_32442447  EEHVICLTL   \n",
       "87868   ENSG00000204287.14  32442459_32442505  EEHVICLTL   \n",
       "118675  ENSG00000139219.19  47979510_47978758  NGNPGPPGE   \n",
       "118676  ENSG00000139219.19  47978738_47978630  NGNPGPPGE   \n",
       "124568  ENSG00000129354.11  10574903_10574492  PTSPSLGSR   \n",
       "124569  ENSG00000129354.11  10574903_10574492  PTSPSLGSR   \n",
       "161898  ENSG00000124588.20    3010189_3012543  DITGTLSNK   \n",
       "164641  ENSG00000204287.14  32440032_32442447  EEHVICLTL   \n",
       "164642  ENSG00000204287.14  32442459_32442505  EEHVICLTL   \n",
       "195449  ENSG00000139219.19  47979510_47978758  NGNPGPPGE   \n",
       "195450  ENSG00000139219.19  47978738_47978630  NGNPGPPGE   \n",
       "201342  ENSG00000129354.11  10574903_10574492  PTSPSLGSR   \n",
       "201343  ENSG00000129354.11  10574903_10574492  PTSPSLGSR   \n",
       "\n",
       "                                                  peptide  validated_peptide  \\\n",
       "8350    KKVLIVYAHQEPKSFNGSLKNVAVDELSRQGCTVTVSDLYAMNLEP...                  1   \n",
       "11093   MAISGVPVLGFFIIAVLMSAQESWAIKEEHVICLTLMVMRFSMWIW...                  1   \n",
       "11094   MAISGVPVLGFFIIAVLMSAQESWAIKEEHVICLTLMVMRFSMWIW...                  1   \n",
       "41901                GATGFPGAAGRVGPPGSNGNPGPPGEKGEPGDDGPS                  1   \n",
       "41902                GATGFPGAAGRVGPPGSNGNPGPPGEKGEPGDDGPS                  1   \n",
       "47794                                     LRSPTSPSLGSRSDT                  1   \n",
       "47795                                     LRSPTSPSLGSRSDT                  1   \n",
       "85124   KKVLIVYAHQEPKSFNGSLKNVAVDELSRQGCTVTVSDLYAMNLEP...                  1   \n",
       "87867   MAISGVPVLGFFIIAVLMSAQESWAIKEEHVICLTLMVMRFSMWIW...                  1   \n",
       "87868   MAISGVPVLGFFIIAVLMSAQESWAIKEEHVICLTLMVMRFSMWIW...                  1   \n",
       "118675               GATGFPGAAGRVGPPGSNGNPGPPGEKGEPGDDGPS                  1   \n",
       "118676               GATGFPGAAGRVGPPGSNGNPGPPGEKGEPGDDGPS                  1   \n",
       "124568                                    LRSPTSPSLGSRSDT                  1   \n",
       "124569                                    LRSPTSPSLGSRSDT                  1   \n",
       "161898  KKVLIVYAHQEPKSFNGSLKNVAVDELSRQGCTVTVSDLYAMNLEP...                  1   \n",
       "164641  MAISGVPVLGFFIIAVLMSAQESWAIKEEHVICLTLMVMRFSMWIW...                  1   \n",
       "164642  MAISGVPVLGFFIIAVLMSAQESWAIKEEHVICLTLMVMRFSMWIW...                  1   \n",
       "195449               GATGFPGAAGRVGPPGSNGNPGPPGEKGEPGDDGPS                  1   \n",
       "195450               GATGFPGAAGRVGPPGSNGNPGPPGEKGEPGDDGPS                  1   \n",
       "201342                                    LRSPTSPSLGSRSDT                  1   \n",
       "201343                                    LRSPTSPSLGSRSDT                  1   \n",
       "\n",
       "        validated_kmer  max_detections  TCGAA2A0D201A21RA03407all  \\\n",
       "8350                 1             1.0                      116.0   \n",
       "11093                1             1.0                     1512.0   \n",
       "11094                1             1.0                     1512.0   \n",
       "41901                1             1.0                        3.0   \n",
       "41902                1             1.0                        3.0   \n",
       "47794                1             1.0                      454.0   \n",
       "47795                1             1.0                      454.0   \n",
       "85124                1             1.0                      116.0   \n",
       "87867                1             1.0                     1512.0   \n",
       "87868                1             1.0                     1512.0   \n",
       "118675               1             1.0                        3.0   \n",
       "118676               1             1.0                        3.0   \n",
       "124568               1             1.0                      454.0   \n",
       "124569               1             1.0                      454.0   \n",
       "161898               1             1.0                      116.0   \n",
       "164641               1             1.0                     1512.0   \n",
       "164642               1             1.0                     1512.0   \n",
       "195449               1             1.0                        3.0   \n",
       "195450               1             1.0                        3.0   \n",
       "201342               1             1.0                      454.0   \n",
       "201343               1             1.0                      454.0   \n",
       "\n",
       "        percentile_rank  affinity readFrameAnnotated junctionAnnotated  \\\n",
       "8350                4.0   2359.74                  0                 1   \n",
       "11093               0.6    436.76                  1                 1   \n",
       "11094               0.6    436.76                  1                 1   \n",
       "41901               7.5  18719.29                  0                 1   \n",
       "41902               7.5  18719.29                  0                 1   \n",
       "47794               6.0   5646.87                  0                 1   \n",
       "47795               6.0   5646.87                  0                 1   \n",
       "85124               4.0   2359.74                  0                 1   \n",
       "87867               0.6    436.76                  1                 1   \n",
       "87868               0.6    436.76                  1                 1   \n",
       "118675              7.5  18719.29                  0                 1   \n",
       "118676              7.5  18719.29                  0                 1   \n",
       "124568              6.0   5646.87                  0                 1   \n",
       "124569              6.0   5646.87                  0                 1   \n",
       "161898              4.0   2359.74                  0                 1   \n",
       "164641              0.6    436.76                  1                 1   \n",
       "164642              0.6    436.76                  1                 1   \n",
       "195449              7.5  18719.29                  0                 1   \n",
       "195450              7.5  18719.29                  0                 1   \n",
       "201342              6.0   5646.87                  0                 1   \n",
       "201343              6.0   5646.87                  0                 1   \n",
       "\n",
       "          origin  #cancer_samples  \n",
       "8350          54           1101.0  \n",
       "11093          4           1101.0  \n",
       "11094          4           1101.0  \n",
       "41901         24            587.0  \n",
       "41902         24            587.0  \n",
       "47794    25)/(27           1098.0  \n",
       "47795    25)/(27           1098.0  \n",
       "85124         54           1101.0  \n",
       "87867          4           1101.0  \n",
       "87868          4           1101.0  \n",
       "118675        24            587.0  \n",
       "118676        24            587.0  \n",
       "124568   25)/(27           1098.0  \n",
       "124569   25)/(27           1098.0  \n",
       "161898        54           1101.0  \n",
       "164641         4           1101.0  \n",
       "164642         4           1101.0  \n",
       "195449        24            587.0  \n",
       "195450        24            587.0  \n",
       "201342   25)/(27           1098.0  \n",
       "201343   25)/(27           1098.0  "
      ]
     },
     "execution_count": 12,
     "metadata": {},
     "output_type": "execute_result"
    }
   ],
   "source": [
    "df.loc[df['validated_kmer']== 1]"
   ]
  },
  {
   "cell_type": "code",
   "execution_count": 63,
   "metadata": {
    "ExecuteTime": {
     "end_time": "2022-06-01T13:37:44.366823Z",
     "start_time": "2022-06-01T13:37:44.178770Z"
    }
   },
   "outputs": [
    {
     "data": {
      "text/plain": [
       "array(['DITGTLSNK', 'EEHVICLTL', 'NGNPGPPGE', 'PTSPSLGSR'], dtype=object)"
      ]
     },
     "execution_count": 63,
     "metadata": {},
     "output_type": "execute_result"
    }
   ],
   "source": [
    "df.loc[(df['validated_kmer']== 1), 'kmer'].unique()"
   ]
  },
  {
   "cell_type": "code",
   "execution_count": 4,
   "metadata": {
    "ExecuteTime": {
     "end_time": "2022-06-01T12:54:48.229596Z",
     "start_time": "2022-06-01T12:54:48.192353Z"
    }
   },
   "outputs": [
    {
     "data": {
      "text/plain": [
       "array(['ENSG00000124588.20', 'ENSG00000204287.14', 'ENSG00000139219.19',\n",
       "       'ENSG00000129354.11'], dtype=object)"
      ]
     },
     "execution_count": 4,
     "metadata": {},
     "output_type": "execute_result"
    }
   ],
   "source": [
    "df.loc[(df['validated_kmer']== 1), 'gene'].unique()\n"
   ]
  },
  {
   "cell_type": "markdown",
   "metadata": {},
   "source": [
    "# TEST"
   ]
  },
  {
   "cell_type": "code",
   "execution_count": null,
   "metadata": {},
   "outputs": [],
   "source": []
  },
  {
   "cell_type": "code",
   "execution_count": 159,
   "metadata": {
    "ExecuteTime": {
     "end_time": "2022-05-31T18:21:33.264228Z",
     "start_time": "2022-05-31T18:21:33.220035Z"
    }
   },
   "outputs": [],
   "source": [
    "# Look for kmers to investigate, still high recurrence"
   ]
  },
  {
   "cell_type": "code",
   "execution_count": 160,
   "metadata": {
    "ExecuteTime": {
     "end_time": "2022-05-31T18:21:48.802913Z",
     "start_time": "2022-05-31T18:21:48.160638Z"
    }
   },
   "outputs": [],
   "source": [
    "plot_df = df.loc[ df['junctionAnnotated'] == 0, \\\n",
    "         ['kmer', sample_pool, 'percentile_rank', '#cancer_samples']].drop_duplicates()"
   ]
  },
  {
   "cell_type": "code",
   "execution_count": 168,
   "metadata": {
    "ExecuteTime": {
     "end_time": "2022-05-31T18:30:00.119428Z",
     "start_time": "2022-05-31T18:29:59.993856Z"
    }
   },
   "outputs": [],
   "source": [
    "plot_df = df.loc[ df['junctionAnnotated'] == 0, :]"
   ]
  },
  {
   "cell_type": "code",
   "execution_count": 169,
   "metadata": {
    "ExecuteTime": {
     "end_time": "2022-05-31T18:30:01.384330Z",
     "start_time": "2022-05-31T18:30:01.376945Z"
    }
   },
   "outputs": [
    {
     "data": {
      "text/plain": [
       "(10042, 18)"
      ]
     },
     "execution_count": 169,
     "metadata": {},
     "output_type": "execute_result"
    }
   ],
   "source": [
    "plot_df.shape"
   ]
  },
  {
   "cell_type": "code",
   "execution_count": 184,
   "metadata": {
    "ExecuteTime": {
     "end_time": "2022-05-31T18:36:07.888558Z",
     "start_time": "2022-05-31T18:36:07.833295Z"
    }
   },
   "outputs": [],
   "source": [
    "plot_df = plot_df.loc[(plot_df['#cancer_samples']> 600) & \\\n",
    "                      (plot_df['TCGAA2A0D201A21RA03407all']> 1000),  : ]"
   ]
  },
  {
   "cell_type": "code",
   "execution_count": 185,
   "metadata": {
    "ExecuteTime": {
     "end_time": "2022-05-31T18:36:11.140234Z",
     "start_time": "2022-05-31T18:36:11.135483Z"
    }
   },
   "outputs": [],
   "source": [
    "path_save = f'/cluster/work/grlab/projects/projects2020_OHSU/peptides_generation/v2_v2.5f0752a_conf2_annotFrame_cap0_runs_pya0.17.1/TCGA_Breast_1102/filter_{sample_short}.all/commit_d4aee54_GTEXcore/G_{sample_short}_test_rec600_exp1000'"
   ]
  },
  {
   "cell_type": "code",
   "execution_count": 187,
   "metadata": {
    "ExecuteTime": {
     "end_time": "2022-05-31T18:36:55.330245Z",
     "start_time": "2022-05-31T18:36:55.273603Z"
    }
   },
   "outputs": [],
   "source": [
    "plot_df.to_csv(path_save, index=None, sep = '\\t')"
   ]
  },
  {
   "cell_type": "code",
   "execution_count": 188,
   "metadata": {
    "ExecuteTime": {
     "end_time": "2022-05-31T18:37:05.959102Z",
     "start_time": "2022-05-31T18:37:05.953327Z"
    }
   },
   "outputs": [
    {
     "name": "stdout",
     "output_type": "stream",
     "text": [
      "/cluster/work/grlab/projects/projects2020_OHSU/peptides_generation/v2_v2.5f0752a_conf2_annotFrame_cap0_runs_pya0.17.1/TCGA_Breast_1102/filter_TCGA-A2-A0D2-01A-21R-A034-07.all/commit_d4aee54_GTEXcore/G_TCGA-A2-A0D2-01A-21R-A034-07_test_rec600_exp1000\n"
     ]
    }
   ],
   "source": [
    "print(path_save)"
   ]
  },
  {
   "cell_type": "code",
   "execution_count": 181,
   "metadata": {
    "ExecuteTime": {
     "end_time": "2022-05-31T18:33:58.056086Z",
     "start_time": "2022-05-31T18:33:58.021888Z"
    }
   },
   "outputs": [
    {
     "data": {
      "text/plain": [
       "(354, 18)"
      ]
     },
     "execution_count": 181,
     "metadata": {},
     "output_type": "execute_result"
    }
   ],
   "source": [
    "plot_df.shapea"
   ]
  },
  {
   "cell_type": "code",
   "execution_count": 182,
   "metadata": {
    "ExecuteTime": {
     "end_time": "2022-05-31T18:34:03.710345Z",
     "start_time": "2022-05-31T18:34:03.614185Z"
    }
   },
   "outputs": [
    {
     "data": {
      "text/html": [
       "<div>\n",
       "<style scoped>\n",
       "    .dataframe tbody tr th:only-of-type {\n",
       "        vertical-align: middle;\n",
       "    }\n",
       "\n",
       "    .dataframe tbody tr th {\n",
       "        vertical-align: top;\n",
       "    }\n",
       "\n",
       "    .dataframe thead th {\n",
       "        text-align: right;\n",
       "    }\n",
       "</style>\n",
       "<table border=\"1\" class=\"dataframe\">\n",
       "  <thead>\n",
       "    <tr style=\"text-align: right;\">\n",
       "      <th></th>\n",
       "      <th>&gt;pepID</th>\n",
       "      <th>jx_pos</th>\n",
       "      <th>between_codons</th>\n",
       "      <th>includes_5'</th>\n",
       "      <th>includes_3'</th>\n",
       "      <th>gene</th>\n",
       "      <th>jx_coord</th>\n",
       "      <th>kmer</th>\n",
       "      <th>peptide</th>\n",
       "      <th>validated_peptide</th>\n",
       "      <th>validated_kmer</th>\n",
       "      <th>max_detections</th>\n",
       "      <th>TCGAA2A0D201A21RA03407all</th>\n",
       "      <th>percentile_rank</th>\n",
       "      <th>affinity</th>\n",
       "      <th>readFrameAnnotated</th>\n",
       "      <th>junctionAnnotated</th>\n",
       "      <th>#cancer_samples</th>\n",
       "    </tr>\n",
       "  </thead>\n",
       "  <tbody>\n",
       "    <tr>\n",
       "      <th>99597</th>\n",
       "      <td>107626</td>\n",
       "      <td>3</td>\n",
       "      <td>0</td>\n",
       "      <td>0</td>\n",
       "      <td>0</td>\n",
       "      <td>ENSG00000119333.11</td>\n",
       "      <td>128640717_128637027</td>\n",
       "      <td>GVLSVYPGL</td>\n",
       "      <td>WLRGVLSVYPGLPASPSAGSACDQHLLELHWLCGGLCLRP</td>\n",
       "      <td>0</td>\n",
       "      <td>0</td>\n",
       "      <td>NaN</td>\n",
       "      <td>1139.0</td>\n",
       "      <td>7.0</td>\n",
       "      <td>17014.75</td>\n",
       "      <td>0</td>\n",
       "      <td>0</td>\n",
       "      <td>1099.0</td>\n",
       "    </tr>\n",
       "    <tr>\n",
       "      <th>99599</th>\n",
       "      <td>107628</td>\n",
       "      <td>4</td>\n",
       "      <td>0</td>\n",
       "      <td>0</td>\n",
       "      <td>0</td>\n",
       "      <td>ENSG00000119333.11</td>\n",
       "      <td>128640717_128637027</td>\n",
       "      <td>GVLSVYPGL</td>\n",
       "      <td>KSCQTASIATASASAQARNHVDAQVQTEAPVPVSVQPPSQYGWLRG...</td>\n",
       "      <td>0</td>\n",
       "      <td>0</td>\n",
       "      <td>NaN</td>\n",
       "      <td>1139.0</td>\n",
       "      <td>7.0</td>\n",
       "      <td>17014.75</td>\n",
       "      <td>0</td>\n",
       "      <td>0</td>\n",
       "      <td>1099.0</td>\n",
       "    </tr>\n",
       "    <tr>\n",
       "      <th>102233</th>\n",
       "      <td>110509</td>\n",
       "      <td>27</td>\n",
       "      <td>0</td>\n",
       "      <td>0</td>\n",
       "      <td>1</td>\n",
       "      <td>ENSG00000102317.18</td>\n",
       "      <td>48577109_48577464</td>\n",
       "      <td>IDTQGIIYQ</td>\n",
       "      <td>TRVVMTATQEEITETIMTTEMRHAHNIDTQGIIYQPFVFKLTCQGS</td>\n",
       "      <td>0</td>\n",
       "      <td>0</td>\n",
       "      <td>NaN</td>\n",
       "      <td>1198.0</td>\n",
       "      <td>29.0</td>\n",
       "      <td>32267.84</td>\n",
       "      <td>0</td>\n",
       "      <td>0</td>\n",
       "      <td>1100.0</td>\n",
       "    </tr>\n",
       "    <tr>\n",
       "      <th>102234</th>\n",
       "      <td>110509</td>\n",
       "      <td>5</td>\n",
       "      <td>0</td>\n",
       "      <td>0</td>\n",
       "      <td>1</td>\n",
       "      <td>ENSG00000102317.18</td>\n",
       "      <td>48577479_48577559</td>\n",
       "      <td>IDTQGIIYQ</td>\n",
       "      <td>TRVVMTATQEEITETIMTTEMRHAHNIDTQGIIYQPFVFKLTCQGS</td>\n",
       "      <td>0</td>\n",
       "      <td>0</td>\n",
       "      <td>NaN</td>\n",
       "      <td>1198.0</td>\n",
       "      <td>29.0</td>\n",
       "      <td>32267.84</td>\n",
       "      <td>0</td>\n",
       "      <td>0</td>\n",
       "      <td>1100.0</td>\n",
       "    </tr>\n",
       "    <tr>\n",
       "      <th>102235</th>\n",
       "      <td>110511</td>\n",
       "      <td>27</td>\n",
       "      <td>0</td>\n",
       "      <td>0</td>\n",
       "      <td>1</td>\n",
       "      <td>ENSG00000102317.18</td>\n",
       "      <td>48577109_48577464</td>\n",
       "      <td>IDTQGIIYQ</td>\n",
       "      <td>TRVVMTATQEEITETIMTTEMRHAHNIDTQGIIYQPFVFKLTCQGS</td>\n",
       "      <td>0</td>\n",
       "      <td>0</td>\n",
       "      <td>NaN</td>\n",
       "      <td>1198.0</td>\n",
       "      <td>29.0</td>\n",
       "      <td>32267.84</td>\n",
       "      <td>0</td>\n",
       "      <td>0</td>\n",
       "      <td>1100.0</td>\n",
       "    </tr>\n",
       "    <tr>\n",
       "      <th>...</th>\n",
       "      <td>...</td>\n",
       "      <td>...</td>\n",
       "      <td>...</td>\n",
       "      <td>...</td>\n",
       "      <td>...</td>\n",
       "      <td>...</td>\n",
       "      <td>...</td>\n",
       "      <td>...</td>\n",
       "      <td>...</td>\n",
       "      <td>...</td>\n",
       "      <td>...</td>\n",
       "      <td>...</td>\n",
       "      <td>...</td>\n",
       "      <td>...</td>\n",
       "      <td>...</td>\n",
       "      <td>...</td>\n",
       "      <td>...</td>\n",
       "      <td>...</td>\n",
       "    </tr>\n",
       "    <tr>\n",
       "      <th>195969</th>\n",
       "      <td>212181</td>\n",
       "      <td>12</td>\n",
       "      <td>0</td>\n",
       "      <td>1</td>\n",
       "      <td>0</td>\n",
       "      <td>ENSG00000111341.10</td>\n",
       "      <td>14884208_14883047</td>\n",
       "      <td>NPFISRDGE</td>\n",
       "      <td>NHMKAWNLMNLVNPFISRDGELKSKR</td>\n",
       "      <td>0</td>\n",
       "      <td>0</td>\n",
       "      <td>NaN</td>\n",
       "      <td>19408.0</td>\n",
       "      <td>12.0</td>\n",
       "      <td>16239.35</td>\n",
       "      <td>0</td>\n",
       "      <td>0</td>\n",
       "      <td>1101.0</td>\n",
       "    </tr>\n",
       "    <tr>\n",
       "      <th>195970</th>\n",
       "      <td>212181</td>\n",
       "      <td>4</td>\n",
       "      <td>0</td>\n",
       "      <td>1</td>\n",
       "      <td>0</td>\n",
       "      <td>ENSG00000111341.10</td>\n",
       "      <td>14883035_14883001</td>\n",
       "      <td>NPFISRDGE</td>\n",
       "      <td>NHMKAWNLMNLVNPFISRDGELKSKR</td>\n",
       "      <td>0</td>\n",
       "      <td>0</td>\n",
       "      <td>NaN</td>\n",
       "      <td>19408.0</td>\n",
       "      <td>12.0</td>\n",
       "      <td>16239.35</td>\n",
       "      <td>0</td>\n",
       "      <td>0</td>\n",
       "      <td>1101.0</td>\n",
       "    </tr>\n",
       "    <tr>\n",
       "      <th>195971</th>\n",
       "      <td>212183</td>\n",
       "      <td>11</td>\n",
       "      <td>0</td>\n",
       "      <td>0</td>\n",
       "      <td>0</td>\n",
       "      <td>ENSG00000111341.10</td>\n",
       "      <td>14884208_14883047</td>\n",
       "      <td>NPFISRDGE</td>\n",
       "      <td>HMKAWNLMNLVNPFISRDGELKSKR</td>\n",
       "      <td>0</td>\n",
       "      <td>0</td>\n",
       "      <td>NaN</td>\n",
       "      <td>19408.0</td>\n",
       "      <td>12.0</td>\n",
       "      <td>16239.35</td>\n",
       "      <td>0</td>\n",
       "      <td>0</td>\n",
       "      <td>1101.0</td>\n",
       "    </tr>\n",
       "    <tr>\n",
       "      <th>195972</th>\n",
       "      <td>212183</td>\n",
       "      <td>4</td>\n",
       "      <td>0</td>\n",
       "      <td>0</td>\n",
       "      <td>0</td>\n",
       "      <td>ENSG00000111341.10</td>\n",
       "      <td>14883035_14883001</td>\n",
       "      <td>NPFISRDGE</td>\n",
       "      <td>HMKAWNLMNLVNPFISRDGELKSKR</td>\n",
       "      <td>0</td>\n",
       "      <td>0</td>\n",
       "      <td>NaN</td>\n",
       "      <td>19408.0</td>\n",
       "      <td>12.0</td>\n",
       "      <td>16239.35</td>\n",
       "      <td>0</td>\n",
       "      <td>0</td>\n",
       "      <td>1101.0</td>\n",
       "    </tr>\n",
       "    <tr>\n",
       "      <th>229610</th>\n",
       "      <td>248739</td>\n",
       "      <td>14</td>\n",
       "      <td>0</td>\n",
       "      <td>0</td>\n",
       "      <td>1</td>\n",
       "      <td>ENSG00000122705.17</td>\n",
       "      <td>36204179_36263197</td>\n",
       "      <td>YRKQKQTTG</td>\n",
       "      <td>QDRTSSYRKQKQTTGFHSCPGWSAMASSRLTATSASRVQAILLPQP...</td>\n",
       "      <td>0</td>\n",
       "      <td>0</td>\n",
       "      <td>NaN</td>\n",
       "      <td>1456.0</td>\n",
       "      <td>1.8</td>\n",
       "      <td>5676.58</td>\n",
       "      <td>0</td>\n",
       "      <td>0</td>\n",
       "      <td>1101.0</td>\n",
       "    </tr>\n",
       "  </tbody>\n",
       "</table>\n",
       "<p>354 rows × 18 columns</p>\n",
       "</div>"
      ],
      "text/plain": [
       "        >pepID  jx_pos  between_codons  includes_5'  includes_3'  \\\n",
       "99597   107626       3               0            0            0   \n",
       "99599   107628       4               0            0            0   \n",
       "102233  110509      27               0            0            1   \n",
       "102234  110509       5               0            0            1   \n",
       "102235  110511      27               0            0            1   \n",
       "...        ...     ...             ...          ...          ...   \n",
       "195969  212181      12               0            1            0   \n",
       "195970  212181       4               0            1            0   \n",
       "195971  212183      11               0            0            0   \n",
       "195972  212183       4               0            0            0   \n",
       "229610  248739      14               0            0            1   \n",
       "\n",
       "                      gene             jx_coord       kmer  \\\n",
       "99597   ENSG00000119333.11  128640717_128637027  GVLSVYPGL   \n",
       "99599   ENSG00000119333.11  128640717_128637027  GVLSVYPGL   \n",
       "102233  ENSG00000102317.18    48577109_48577464  IDTQGIIYQ   \n",
       "102234  ENSG00000102317.18    48577479_48577559  IDTQGIIYQ   \n",
       "102235  ENSG00000102317.18    48577109_48577464  IDTQGIIYQ   \n",
       "...                    ...                  ...        ...   \n",
       "195969  ENSG00000111341.10    14884208_14883047  NPFISRDGE   \n",
       "195970  ENSG00000111341.10    14883035_14883001  NPFISRDGE   \n",
       "195971  ENSG00000111341.10    14884208_14883047  NPFISRDGE   \n",
       "195972  ENSG00000111341.10    14883035_14883001  NPFISRDGE   \n",
       "229610  ENSG00000122705.17    36204179_36263197  YRKQKQTTG   \n",
       "\n",
       "                                                  peptide  validated_peptide  \\\n",
       "99597            WLRGVLSVYPGLPASPSAGSACDQHLLELHWLCGGLCLRP                  0   \n",
       "99599   KSCQTASIATASASAQARNHVDAQVQTEAPVPVSVQPPSQYGWLRG...                  0   \n",
       "102233     TRVVMTATQEEITETIMTTEMRHAHNIDTQGIIYQPFVFKLTCQGS                  0   \n",
       "102234     TRVVMTATQEEITETIMTTEMRHAHNIDTQGIIYQPFVFKLTCQGS                  0   \n",
       "102235     TRVVMTATQEEITETIMTTEMRHAHNIDTQGIIYQPFVFKLTCQGS                  0   \n",
       "...                                                   ...                ...   \n",
       "195969                         NHMKAWNLMNLVNPFISRDGELKSKR                  0   \n",
       "195970                         NHMKAWNLMNLVNPFISRDGELKSKR                  0   \n",
       "195971                          HMKAWNLMNLVNPFISRDGELKSKR                  0   \n",
       "195972                          HMKAWNLMNLVNPFISRDGELKSKR                  0   \n",
       "229610  QDRTSSYRKQKQTTGFHSCPGWSAMASSRLTATSASRVQAILLPQP...                  0   \n",
       "\n",
       "        validated_kmer  max_detections  TCGAA2A0D201A21RA03407all  \\\n",
       "99597                0             NaN                     1139.0   \n",
       "99599                0             NaN                     1139.0   \n",
       "102233               0             NaN                     1198.0   \n",
       "102234               0             NaN                     1198.0   \n",
       "102235               0             NaN                     1198.0   \n",
       "...                ...             ...                        ...   \n",
       "195969               0             NaN                    19408.0   \n",
       "195970               0             NaN                    19408.0   \n",
       "195971               0             NaN                    19408.0   \n",
       "195972               0             NaN                    19408.0   \n",
       "229610               0             NaN                     1456.0   \n",
       "\n",
       "        percentile_rank  affinity readFrameAnnotated junctionAnnotated  \\\n",
       "99597               7.0  17014.75                  0                 0   \n",
       "99599               7.0  17014.75                  0                 0   \n",
       "102233             29.0  32267.84                  0                 0   \n",
       "102234             29.0  32267.84                  0                 0   \n",
       "102235             29.0  32267.84                  0                 0   \n",
       "...                 ...       ...                ...               ...   \n",
       "195969             12.0  16239.35                  0                 0   \n",
       "195970             12.0  16239.35                  0                 0   \n",
       "195971             12.0  16239.35                  0                 0   \n",
       "195972             12.0  16239.35                  0                 0   \n",
       "229610              1.8   5676.58                  0                 0   \n",
       "\n",
       "        #cancer_samples  \n",
       "99597            1099.0  \n",
       "99599            1099.0  \n",
       "102233           1100.0  \n",
       "102234           1100.0  \n",
       "102235           1100.0  \n",
       "...                 ...  \n",
       "195969           1101.0  \n",
       "195970           1101.0  \n",
       "195971           1101.0  \n",
       "195972           1101.0  \n",
       "229610           1101.0  \n",
       "\n",
       "[354 rows x 18 columns]"
      ]
     },
     "execution_count": 182,
     "metadata": {},
     "output_type": "execute_result"
    }
   ],
   "source": [
    "plot_df"
   ]
  },
  {
   "cell_type": "code",
   "execution_count": 167,
   "metadata": {
    "ExecuteTime": {
     "end_time": "2022-05-31T18:27:28.912344Z",
     "start_time": "2022-05-31T18:27:28.878950Z"
    }
   },
   "outputs": [
    {
     "data": {
      "text/plain": [
       "(1901, 4)"
      ]
     },
     "execution_count": 167,
     "metadata": {},
     "output_type": "execute_result"
    }
   ],
   "source": [
    "plot_df.dropna(how = 'any').shape"
   ]
  },
  {
   "cell_type": "code",
   "execution_count": null,
   "metadata": {},
   "outputs": [],
   "source": []
  }
 ],
 "metadata": {
  "kernelspec": {
   "display_name": "myimmuno3_light",
   "language": "python",
   "name": "myimmuno3_light"
  },
  "language_info": {
   "codemirror_mode": {
    "name": "ipython",
    "version": 3
   },
   "file_extension": ".py",
   "mimetype": "text/x-python",
   "name": "python",
   "nbconvert_exporter": "python",
   "pygments_lexer": "ipython3",
   "version": "3.8.5"
  }
 },
 "nbformat": 4,
 "nbformat_minor": 4
}
