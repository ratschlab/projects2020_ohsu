{
 "cells": [
  {
   "cell_type": "code",
   "execution_count": 172,
   "metadata": {
    "ExecuteTime": {
     "end_time": "2022-06-02T11:26:52.093270Z",
     "start_time": "2022-06-02T11:26:52.012802Z"
    }
   },
   "outputs": [],
   "source": [
    "import os \n",
    "import pandas as pd\n",
    "from collections import defaultdict\n",
    "import numpy as np \n",
    "import glob\n",
    "import matplotlib.pyplot as plt\n",
    "import seaborn as sns"
   ]
  },
  {
   "cell_type": "code",
   "execution_count": 173,
   "metadata": {
    "ExecuteTime": {
     "end_time": "2022-06-02T11:26:52.604265Z",
     "start_time": "2022-06-02T11:26:52.574308Z"
    }
   },
   "outputs": [],
   "source": [
    "gene_eq_path = '/cluster/work/grlab/projects/projects2020_OHSU/peptides_generation/v2_v3_d2d2574_conf2_annotFrame_cap0_runs/TCGA_Breast_1102'\n"
   ]
  },
  {
   "cell_type": "code",
   "execution_count": 174,
   "metadata": {
    "ExecuteTime": {
     "end_time": "2022-06-02T11:27:00.311666Z",
     "start_time": "2022-06-02T11:26:52.941848Z"
    }
   },
   "outputs": [
    {
     "name": "stderr",
     "output_type": "stream",
     "text": [
      "/cluster/home/prelotla/software/anaconda3/envs/myimmuno3_light/lib/python3.8/site-packages/IPython/core/interactiveshell.py:3146: DtypeWarning: Columns (8,9) have mixed types.Specify dtype option on import or set low_memory=False.\n",
      "  has_raised = await self.run_ast_nodes(code_ast.body, cell_name,\n"
     ]
    }
   ],
   "source": [
    "# Save intermediate file \n",
    "df_plot = pd.read_csv(os.path.join(gene_eq_path, 'exp_427_kmers_plot.csv.gz'), \n",
    "                      compression = 'gzip' )"
   ]
  },
  {
   "cell_type": "code",
   "execution_count": 175,
   "metadata": {
    "ExecuteTime": {
     "end_time": "2022-06-02T11:27:00.514128Z",
     "start_time": "2022-06-02T11:27:00.313054Z"
    }
   },
   "outputs": [
    {
     "data": {
      "text/html": [
       "<div>\n",
       "<style scoped>\n",
       "    .dataframe tbody tr th:only-of-type {\n",
       "        vertical-align: middle;\n",
       "    }\n",
       "\n",
       "    .dataframe tbody tr th {\n",
       "        vertical-align: top;\n",
       "    }\n",
       "\n",
       "    .dataframe thead th {\n",
       "        text-align: right;\n",
       "    }\n",
       "</style>\n",
       "<table border=\"1\" class=\"dataframe\">\n",
       "  <thead>\n",
       "    <tr style=\"text-align: right;\">\n",
       "      <th></th>\n",
       "      <th>&gt;pepID</th>\n",
       "      <th>jx_pos</th>\n",
       "      <th>between_codons</th>\n",
       "      <th>includes_5'</th>\n",
       "      <th>includes_3'</th>\n",
       "      <th>gene</th>\n",
       "      <th>jx_coord</th>\n",
       "      <th>kmer</th>\n",
       "      <th>readFrameAnnotated</th>\n",
       "      <th>junctionAnnotated</th>\n",
       "      <th>...</th>\n",
       "      <th>TCGAWTAB4101A11RA41B07all</th>\n",
       "      <th>TCGAWTAB4401A11RA41B07all</th>\n",
       "      <th>TCGAXXA89901A11RA36F07all</th>\n",
       "      <th>TCGAXXA89A01A11RA36F07all</th>\n",
       "      <th>TCGAZ7A8R501A42RA41B07all</th>\n",
       "      <th>TCGAZ7A8R601A11RA41B07all</th>\n",
       "      <th>isCrossJunction</th>\n",
       "      <th>junctionAnnotated_kmer</th>\n",
       "      <th>readFrameAnnotated_kmer</th>\n",
       "      <th>recurrence</th>\n",
       "    </tr>\n",
       "  </thead>\n",
       "  <tbody>\n",
       "    <tr>\n",
       "      <th>0</th>\n",
       "      <td>2</td>\n",
       "      <td>56</td>\n",
       "      <td>1</td>\n",
       "      <td>0</td>\n",
       "      <td>0</td>\n",
       "      <td>ENSG00000060339.14</td>\n",
       "      <td>68737048_68742427</td>\n",
       "      <td>AAAALQQHS</td>\n",
       "      <td>0</td>\n",
       "      <td>0</td>\n",
       "      <td>...</td>\n",
       "      <td>0.0</td>\n",
       "      <td>0.0</td>\n",
       "      <td>6.0</td>\n",
       "      <td>0.0</td>\n",
       "      <td>0.0</td>\n",
       "      <td>3.0</td>\n",
       "      <td>True</td>\n",
       "      <td>0.0</td>\n",
       "      <td>0</td>\n",
       "      <td>970</td>\n",
       "    </tr>\n",
       "    <tr>\n",
       "      <th>1</th>\n",
       "      <td>2</td>\n",
       "      <td>0</td>\n",
       "      <td>1</td>\n",
       "      <td>0</td>\n",
       "      <td>0</td>\n",
       "      <td>ENSG00000060339.14</td>\n",
       "      <td>68742430_68742487</td>\n",
       "      <td>AAAALQQHS</td>\n",
       "      <td>0</td>\n",
       "      <td>0</td>\n",
       "      <td>...</td>\n",
       "      <td>0.0</td>\n",
       "      <td>0.0</td>\n",
       "      <td>6.0</td>\n",
       "      <td>0.0</td>\n",
       "      <td>0.0</td>\n",
       "      <td>3.0</td>\n",
       "      <td>True</td>\n",
       "      <td>0.0</td>\n",
       "      <td>0</td>\n",
       "      <td>970</td>\n",
       "    </tr>\n",
       "    <tr>\n",
       "      <th>2</th>\n",
       "      <td>4</td>\n",
       "      <td>12</td>\n",
       "      <td>0</td>\n",
       "      <td>0</td>\n",
       "      <td>0</td>\n",
       "      <td>ENSG00000119333.11</td>\n",
       "      <td>128640690_128637027</td>\n",
       "      <td>AAADGVLSV</td>\n",
       "      <td>0</td>\n",
       "      <td>1</td>\n",
       "      <td>...</td>\n",
       "      <td>72.0</td>\n",
       "      <td>28.0</td>\n",
       "      <td>156.0</td>\n",
       "      <td>164.0</td>\n",
       "      <td>112.0</td>\n",
       "      <td>651.0</td>\n",
       "      <td>True</td>\n",
       "      <td>1.0</td>\n",
       "      <td>0</td>\n",
       "      <td>1100</td>\n",
       "    </tr>\n",
       "    <tr>\n",
       "      <th>3</th>\n",
       "      <td>5</td>\n",
       "      <td>12</td>\n",
       "      <td>0</td>\n",
       "      <td>0</td>\n",
       "      <td>1</td>\n",
       "      <td>ENSG00000119333.11</td>\n",
       "      <td>128640690_128636438</td>\n",
       "      <td>AAADGWTMG</td>\n",
       "      <td>0</td>\n",
       "      <td>1</td>\n",
       "      <td>...</td>\n",
       "      <td>0.0</td>\n",
       "      <td>1.0</td>\n",
       "      <td>2.0</td>\n",
       "      <td>1.0</td>\n",
       "      <td>0.0</td>\n",
       "      <td>4.0</td>\n",
       "      <td>True</td>\n",
       "      <td>1.0</td>\n",
       "      <td>0</td>\n",
       "      <td>972</td>\n",
       "    </tr>\n",
       "    <tr>\n",
       "      <th>4</th>\n",
       "      <td>6</td>\n",
       "      <td>12</td>\n",
       "      <td>0</td>\n",
       "      <td>0</td>\n",
       "      <td>0</td>\n",
       "      <td>ENSG00000119333.11</td>\n",
       "      <td>128640690_128636438</td>\n",
       "      <td>AAADGWTMG</td>\n",
       "      <td>0</td>\n",
       "      <td>1</td>\n",
       "      <td>...</td>\n",
       "      <td>0.0</td>\n",
       "      <td>1.0</td>\n",
       "      <td>2.0</td>\n",
       "      <td>1.0</td>\n",
       "      <td>0.0</td>\n",
       "      <td>4.0</td>\n",
       "      <td>True</td>\n",
       "      <td>1.0</td>\n",
       "      <td>0</td>\n",
       "      <td>972</td>\n",
       "    </tr>\n",
       "  </tbody>\n",
       "</table>\n",
       "<p>5 rows × 1121 columns</p>\n",
       "</div>"
      ],
      "text/plain": [
       "   >pepID  jx_pos  between_codons  includes_5'  includes_3'  \\\n",
       "0       2      56               1            0            0   \n",
       "1       2       0               1            0            0   \n",
       "2       4      12               0            0            0   \n",
       "3       5      12               0            0            1   \n",
       "4       6      12               0            0            0   \n",
       "\n",
       "                 gene             jx_coord       kmer readFrameAnnotated  \\\n",
       "0  ENSG00000060339.14    68737048_68742427  AAAALQQHS                  0   \n",
       "1  ENSG00000060339.14    68742430_68742487  AAAALQQHS                  0   \n",
       "2  ENSG00000119333.11  128640690_128637027  AAADGVLSV                  0   \n",
       "3  ENSG00000119333.11  128640690_128636438  AAADGWTMG                  0   \n",
       "4  ENSG00000119333.11  128640690_128636438  AAADGWTMG                  0   \n",
       "\n",
       "  junctionAnnotated  ... TCGAWTAB4101A11RA41B07all  TCGAWTAB4401A11RA41B07all  \\\n",
       "0                 0  ...                       0.0                        0.0   \n",
       "1                 0  ...                       0.0                        0.0   \n",
       "2                 1  ...                      72.0                       28.0   \n",
       "3                 1  ...                       0.0                        1.0   \n",
       "4                 1  ...                       0.0                        1.0   \n",
       "\n",
       "   TCGAXXA89901A11RA36F07all TCGAXXA89A01A11RA36F07all  \\\n",
       "0                        6.0                       0.0   \n",
       "1                        6.0                       0.0   \n",
       "2                      156.0                     164.0   \n",
       "3                        2.0                       1.0   \n",
       "4                        2.0                       1.0   \n",
       "\n",
       "   TCGAZ7A8R501A42RA41B07all  TCGAZ7A8R601A11RA41B07all  isCrossJunction  \\\n",
       "0                        0.0                        3.0             True   \n",
       "1                        0.0                        3.0             True   \n",
       "2                      112.0                      651.0             True   \n",
       "3                        0.0                        4.0             True   \n",
       "4                        0.0                        4.0             True   \n",
       "\n",
       "   junctionAnnotated_kmer  readFrameAnnotated_kmer  recurrence  \n",
       "0                     0.0                        0         970  \n",
       "1                     0.0                        0         970  \n",
       "2                     1.0                        0        1100  \n",
       "3                     1.0                        0         972  \n",
       "4                     1.0                        0         972  \n",
       "\n",
       "[5 rows x 1121 columns]"
      ]
     },
     "execution_count": 175,
     "metadata": {},
     "output_type": "execute_result"
    }
   ],
   "source": [
    "df_plot.head()"
   ]
  },
  {
   "cell_type": "code",
   "execution_count": 253,
   "metadata": {
    "ExecuteTime": {
     "end_time": "2022-06-02T11:44:31.283301Z",
     "start_time": "2022-06-02T11:44:31.193861Z"
    }
   },
   "outputs": [],
   "source": [
    "df_plot['junctionAnnotated'] = df_plot['junctionAnnotated'].astype(str)\n",
    "df_plot['readFrameAnnotated'] = df_plot['readFrameAnnotated'].astype(str)"
   ]
  },
  {
   "cell_type": "code",
   "execution_count": 299,
   "metadata": {
    "ExecuteTime": {
     "end_time": "2022-06-02T12:04:09.222128Z",
     "start_time": "2022-06-02T12:04:09.111541Z"
    }
   },
   "outputs": [],
   "source": [
    "df_plot['MHC-I binding status'] = 'not computed'"
   ]
  },
  {
   "cell_type": "code",
   "execution_count": 300,
   "metadata": {
    "ExecuteTime": {
     "end_time": "2022-06-02T12:04:10.673576Z",
     "start_time": "2022-06-02T12:04:10.583747Z"
    }
   },
   "outputs": [],
   "source": [
    "df_plot.loc[df_plot['percentile_rank'] <=2 ,\n",
    "            'MHC-I binding status'] = 'strong binder'\n",
    "df_plot.loc[ (10 >= df_plot['percentile_rank']) &\n",
    "              (df_plot['percentile_rank'] > 2), \n",
    "            'MHC-I binding status'] = 'weak binder'\n",
    "df_plot.loc[ 10 < df_plot['percentile_rank'] ,\n",
    "            'MHC-I binding status'] = 'not binder'"
   ]
  },
  {
   "cell_type": "code",
   "execution_count": 176,
   "metadata": {
    "ExecuteTime": {
     "end_time": "2022-06-02T11:27:00.518874Z",
     "start_time": "2022-06-02T11:27:00.515886Z"
    }
   },
   "outputs": [
    {
     "data": {
      "text/plain": [
       "Index(['>pepID', 'jx_pos', 'between_codons', 'includes_5'', 'includes_3'',\n",
       "       'gene', 'jx_coord', 'kmer', 'readFrameAnnotated', 'junctionAnnotated',\n",
       "       ...\n",
       "       'TCGAWTAB4101A11RA41B07all', 'TCGAWTAB4401A11RA41B07all',\n",
       "       'TCGAXXA89901A11RA36F07all', 'TCGAXXA89A01A11RA36F07all',\n",
       "       'TCGAZ7A8R501A42RA41B07all', 'TCGAZ7A8R601A11RA41B07all',\n",
       "       'isCrossJunction', 'junctionAnnotated_kmer', 'readFrameAnnotated_kmer',\n",
       "       'recurrence'],\n",
       "      dtype='object', length=1121)"
      ]
     },
     "execution_count": 176,
     "metadata": {},
     "output_type": "execute_result"
    }
   ],
   "source": [
    "df_plot.columns"
   ]
  },
  {
   "cell_type": "code",
   "execution_count": 177,
   "metadata": {
    "ExecuteTime": {
     "end_time": "2022-06-02T11:27:00.528233Z",
     "start_time": "2022-06-02T11:27:00.520704Z"
    }
   },
   "outputs": [],
   "source": [
    "meta_cols = [ col for col in df_plot.columns if 'TCGA' not in col ] \n",
    "cohort = [ col for col in df_plot.columns if 'TCGA' in col ] "
   ]
  },
  {
   "cell_type": "code",
   "execution_count": 178,
   "metadata": {
    "ExecuteTime": {
     "end_time": "2022-06-02T11:27:00.537106Z",
     "start_time": "2022-06-02T11:27:00.531146Z"
    }
   },
   "outputs": [
    {
     "data": {
      "text/plain": [
       "['>pepID',\n",
       " 'jx_pos',\n",
       " 'between_codons',\n",
       " \"includes_5'\",\n",
       " \"includes_3'\",\n",
       " 'gene',\n",
       " 'jx_coord',\n",
       " 'kmer',\n",
       " 'readFrameAnnotated',\n",
       " 'junctionAnnotated',\n",
       " 'peptide',\n",
       " 'percentile_rank',\n",
       " 'affinity',\n",
       " 'strand',\n",
       " 'GTEX_presence',\n",
       " 'isCrossJunction',\n",
       " 'junctionAnnotated_kmer',\n",
       " 'readFrameAnnotated_kmer',\n",
       " 'recurrence']"
      ]
     },
     "execution_count": 178,
     "metadata": {},
     "output_type": "execute_result"
    }
   ],
   "source": [
    "meta_cols"
   ]
  },
  {
   "cell_type": "markdown",
   "metadata": {},
   "source": [
    "# Exploration "
   ]
  },
  {
   "cell_type": "markdown",
   "metadata": {},
   "source": [
    "### All "
   ]
  },
  {
   "cell_type": "code",
   "execution_count": 217,
   "metadata": {
    "ExecuteTime": {
     "end_time": "2022-06-02T11:35:24.472683Z",
     "start_time": "2022-06-02T11:35:23.859993Z"
    }
   },
   "outputs": [
    {
     "name": "stdout",
     "output_type": "stream",
     "text": [
      "number of kmers 29887\n"
     ]
    },
    {
     "data": {
      "text/plain": [
       "<AxesSubplot:xlabel='recurrence', ylabel='Count'>"
      ]
     },
     "execution_count": 217,
     "metadata": {},
     "output_type": "execute_result"
    },
    {
     "data": {
      "image/png": "[encoded data removed]",
      "text/plain": [
       "<Figure size 432x288 with 1 Axes>"
      ]
     },
     "metadata": {
      "needs_background": "light"
     },
     "output_type": "display_data"
    }
   ],
   "source": [
    "tmp = df_plot.loc[\n",
    "                    (df_plot['recurrence'] > 0),\n",
    "                  ['recurrence', 'kmer', 'GTEX_presence' ]].drop_duplicates()\n",
    "print('number of kmers', tmp.shape[0])\n",
    "sns.histplot(data = tmp, x = 'recurrence', bins = 100)"
   ]
  },
  {
   "cell_type": "markdown",
   "metadata": {},
   "source": [
    "### Remove if present in GTEX Graph  "
   ]
  },
  {
   "cell_type": "code",
   "execution_count": 218,
   "metadata": {
    "ExecuteTime": {
     "end_time": "2022-06-02T11:35:41.923780Z",
     "start_time": "2022-06-02T11:35:41.527028Z"
    }
   },
   "outputs": [
    {
     "name": "stdout",
     "output_type": "stream",
     "text": [
      "number of kmers 9047\n"
     ]
    },
    {
     "data": {
      "text/plain": [
       "<AxesSubplot:xlabel='recurrence', ylabel='Count'>"
      ]
     },
     "execution_count": 218,
     "metadata": {},
     "output_type": "execute_result"
    },
    {
     "data": {
      "image/png": "[encoded data removed]",
      "text/plain": [
       "<Figure size 432x288 with 1 Axes>"
      ]
     },
     "metadata": {
      "needs_background": "light"
     },
     "output_type": "display_data"
    }
   ],
   "source": [
    "tmp = df_plot.loc[df_plot['GTEX_presence'] == 0\n",
    "                   & (df_plot['recurrence'] > 0),\n",
    "                  ['recurrence', 'kmer', 'GTEX_presence' ]].drop_duplicates()\n",
    "print('number of kmers', tmp.shape[0])\n",
    "sns.histplot(data = tmp, x = 'recurrence', bins = 100)"
   ]
  },
  {
   "cell_type": "markdown",
   "metadata": {},
   "source": [
    "### Remove if kmer comes from an annotated junction (or on the same 3-exon peptide)"
   ]
  },
  {
   "cell_type": "code",
   "execution_count": 184,
   "metadata": {
    "ExecuteTime": {
     "end_time": "2022-06-02T11:31:05.308113Z",
     "start_time": "2022-06-02T11:31:05.285343Z"
    }
   },
   "outputs": [
    {
     "data": {
      "text/plain": [
       "array([0., 1.])"
      ]
     },
     "execution_count": 184,
     "metadata": {},
     "output_type": "execute_result"
    }
   ],
   "source": [
    "df_plot['junctionAnnotated_kmer'].unique()"
   ]
  },
  {
   "cell_type": "code",
   "execution_count": 255,
   "metadata": {
    "ExecuteTime": {
     "end_time": "2022-06-02T11:46:19.253368Z",
     "start_time": "2022-06-02T11:46:18.916177Z"
    }
   },
   "outputs": [
    {
     "name": "stdout",
     "output_type": "stream",
     "text": [
      "number of kmers 4001\n"
     ]
    },
    {
     "data": {
      "text/plain": [
       "<AxesSubplot:xlabel='recurrence', ylabel='Count'>"
      ]
     },
     "execution_count": 255,
     "metadata": {},
     "output_type": "execute_result"
    },
    {
     "data": {
      "image/png": "[encoded data removed]",
      "text/plain": [
       "<Figure size 432x288 with 1 Axes>"
      ]
     },
     "metadata": {
      "needs_background": "light"
     },
     "output_type": "display_data"
    }
   ],
   "source": [
    "tmp = df_plot.loc[df_plot['junctionAnnotated_kmer'] == 0\n",
    "                   & (df_plot['recurrence'] > 0), \n",
    "                  ['recurrence', 'kmer']].drop_duplicates()\n",
    "print('number of kmers', tmp.shape[0])\n",
    "sns.histplot(data = tmp, x = 'recurrence', bins = 100)"
   ]
  },
  {
   "cell_type": "code",
   "execution_count": 179,
   "metadata": {
    "ExecuteTime": {
     "end_time": "2022-06-02T11:28:49.171255Z",
     "start_time": "2022-06-02T11:28:49.163487Z"
    }
   },
   "outputs": [
    {
     "data": {
      "text/plain": [
       "array([0, 1, '1', '0', '0/1', '0/nan'], dtype=object)"
      ]
     },
     "execution_count": 179,
     "metadata": {},
     "output_type": "execute_result"
    }
   ],
   "source": [
    "df_plot['junctionAnnotated'].unique()"
   ]
  },
  {
   "cell_type": "code",
   "execution_count": 256,
   "metadata": {
    "ExecuteTime": {
     "end_time": "2022-06-02T11:46:22.296706Z",
     "start_time": "2022-06-02T11:46:22.006418Z"
    },
    "scrolled": true
   },
   "outputs": [
    {
     "name": "stdout",
     "output_type": "stream",
     "text": [
      "number of kmers 1696\n"
     ]
    },
    {
     "data": {
      "text/plain": [
       "<AxesSubplot:xlabel='recurrence', ylabel='Count'>"
      ]
     },
     "execution_count": 256,
     "metadata": {},
     "output_type": "execute_result"
    },
    {
     "data": {
      "image/png": "[encoded data removed]",
      "text/plain": [
       "<Figure size 432x288 with 1 Axes>"
      ]
     },
     "metadata": {
      "needs_background": "light"
     },
     "output_type": "display_data"
    }
   ],
   "source": [
    "tmp = df_plot.loc[((df_plot['junctionAnnotated'] == '0') | \n",
    "                   (df_plot['junctionAnnotated'] == '0/nan') ) &\n",
    "                   (df_plot['recurrence'] > 0) &\n",
    "                  (df_plot['GTEX_presence'] == 0) , \n",
    "                  ['recurrence', 'kmer']].drop_duplicates()\n",
    "print('number of kmers', tmp.shape[0])\n",
    "sns.histplot(data = tmp, x = 'recurrence', bins = 100)"
   ]
  },
  {
   "cell_type": "markdown",
   "metadata": {
    "ExecuteTime": {
     "end_time": "2022-06-02T11:36:36.558410Z",
     "start_time": "2022-06-02T11:36:36.552490Z"
    }
   },
   "source": [
    "# Remove if kmer comes from an annotated junction (or on the same 3-exon peptide) \n",
    "# Remove GTEX junctions with graph "
   ]
  },
  {
   "cell_type": "code",
   "execution_count": 223,
   "metadata": {
    "ExecuteTime": {
     "end_time": "2022-06-02T11:37:00.300839Z",
     "start_time": "2022-06-02T11:37:00.033917Z"
    }
   },
   "outputs": [
    {
     "name": "stdout",
     "output_type": "stream",
     "text": [
      "number of kmers 1398\n"
     ]
    },
    {
     "data": {
      "text/plain": [
       "<AxesSubplot:xlabel='recurrence', ylabel='Count'>"
      ]
     },
     "execution_count": 223,
     "metadata": {},
     "output_type": "execute_result"
    },
    {
     "data": {
      "image/png": "[encoded data removed]",
      "text/plain": [
       "<Figure size 432x288 with 1 Axes>"
      ]
     },
     "metadata": {
      "needs_background": "light"
     },
     "output_type": "display_data"
    }
   ],
   "source": [
    "tmp = df_plot.loc[(df_plot['GTEX_presence'] == 0) &\n",
    "                  (df_plot['junctionAnnotated_kmer'] == 0) &\n",
    "                  (df_plot['recurrence'] > 0), \n",
    "                  ['recurrence', 'kmer']].drop_duplicates()\n",
    "print('number of kmers', tmp.shape[0])\n",
    "sns.histplot(data = tmp, x = 'recurrence', bins = 100)"
   ]
  },
  {
   "cell_type": "markdown",
   "metadata": {},
   "source": [
    "# Figure1 "
   ]
  },
  {
   "cell_type": "code",
   "execution_count": 261,
   "metadata": {
    "ExecuteTime": {
     "end_time": "2022-06-02T11:47:30.072668Z",
     "start_time": "2022-06-02T11:47:29.886701Z"
    }
   },
   "outputs": [
    {
     "name": "stdout",
     "output_type": "stream",
     "text": [
      "number of kmers 1439\n"
     ]
    }
   ],
   "source": [
    "tmp = df_plot.loc[(df_plot['GTEX_presence'] == 0) &\n",
    "                  (df_plot['junctionAnnotated_kmer'] == 0) &\n",
    "                  (df_plot['recurrence'] > 0), \n",
    "                  ['recurrence', 'kmer', 'GTEX_presence', \n",
    "                  'readFrameAnnotated'] + cohort ].drop_duplicates()\n",
    "print('number of kmers', tmp.shape[0])\n",
    "# Remark, here 442 non unique with read_frame_annot = 1 or read_frame_annot = 0 "
   ]
  },
  {
   "cell_type": "code",
   "execution_count": 262,
   "metadata": {
    "ExecuteTime": {
     "end_time": "2022-06-02T11:47:30.357138Z",
     "start_time": "2022-06-02T11:47:30.245960Z"
    }
   },
   "outputs": [],
   "source": [
    "tmp[tmp == 0] = np.nan\n",
    "means = np.nanmean(tmp.loc[:, cohort], axis=1)\n",
    "medians = np.nanmedian(tmp.loc[:, cohort], axis=1)"
   ]
  },
  {
   "cell_type": "code",
   "execution_count": 263,
   "metadata": {
    "ExecuteTime": {
     "end_time": "2022-06-02T11:47:30.584514Z",
     "start_time": "2022-06-02T11:47:30.578613Z"
    }
   },
   "outputs": [],
   "source": [
    "tmp['mean_exp'] = means\n",
    "tmp['median_exp'] = medians"
   ]
  },
  {
   "cell_type": "code",
   "execution_count": 264,
   "metadata": {
    "ExecuteTime": {
     "end_time": "2022-06-02T11:47:31.906815Z",
     "start_time": "2022-06-02T11:47:31.570952Z"
    },
    "scrolled": true
   },
   "outputs": [
    {
     "data": {
      "image/png": "[encoded data removed]",
      "text/plain": [
       "<Figure size 432x288 with 1 Axes>"
      ]
     },
     "metadata": {
      "needs_background": "light"
     },
     "output_type": "display_data"
    }
   ],
   "source": [
    "plt.scatter(tmp['recurrence'], tmp['median_exp'])\n",
    "plt.xlabel('recurrence')\n",
    "plt.ylabel('median_exp')\n",
    "plt.yscale(\"log\")  \n",
    "#plt.ylim([0.1, max(tmp['median_exp'])])"
   ]
  },
  {
   "cell_type": "code",
   "execution_count": 269,
   "metadata": {
    "ExecuteTime": {
     "end_time": "2022-06-02T11:48:42.909889Z",
     "start_time": "2022-06-02T11:48:42.565518Z"
    }
   },
   "outputs": [
    {
     "name": "stdout",
     "output_type": "stream",
     "text": [
      "number of kmers 1439\n"
     ]
    },
    {
     "data": {
      "image/png": "[encoded data removed]",
      "text/plain": [
       "<Figure size 432x288 with 1 Axes>"
      ]
     },
     "metadata": {
      "needs_background": "light"
     },
     "output_type": "display_data"
    }
   ],
   "source": [
    "sns.scatterplot(data = tmp, x = 'recurrence', y= 'median_exp'\n",
    "                #, hue = 'readFrameAnnotated'\n",
    "               )\n",
    "print('number of kmers', tmp.shape[0])\n",
    "plt.xlabel('recurrence')\n",
    "plt.ylabel('median_exp')\n",
    "plt.yscale(\"log\")  \n",
    "#plt.ylim([0.1, max(tmp['median_exp'])])"
   ]
  },
  {
   "cell_type": "markdown",
   "metadata": {},
   "source": [
    "# Figure 2"
   ]
  },
  {
   "cell_type": "code",
   "execution_count": 301,
   "metadata": {
    "ExecuteTime": {
     "end_time": "2022-06-02T12:04:26.570489Z",
     "start_time": "2022-06-02T12:04:26.238671Z"
    }
   },
   "outputs": [
    {
     "name": "stdout",
     "output_type": "stream",
     "text": [
      "number of kmers in sample TCGAC8A12P01A11RA11507all 695\n"
     ]
    }
   ],
   "source": [
    "tmp = df_plot.loc[(df_plot['GTEX_presence'] == 0) &\n",
    "                  (df_plot['junctionAnnotated_kmer'] == 0) &\n",
    "                  (df_plot['recurrence'] > 0) &\n",
    "                  (df_plot['TCGAC8A12P01A11RA11507all'] > 0) , \n",
    "                  ['recurrence', 'kmer', 'GTEX_presence', \n",
    "                  'MHC-I binding status', \n",
    "                  'percentile_rank', \n",
    "                  ] + cohort ].drop_duplicates()\n",
    "print('number of kmers in sample TCGAC8A12P01A11RA11507all', tmp.shape[0])"
   ]
  },
  {
   "cell_type": "code",
   "execution_count": 302,
   "metadata": {
    "ExecuteTime": {
     "end_time": "2022-06-02T12:04:27.926501Z",
     "start_time": "2022-06-02T12:04:27.075527Z"
    }
   },
   "outputs": [
    {
     "name": "stdout",
     "output_type": "stream",
     "text": [
      "number of kmers 695\n"
     ]
    },
    {
     "data": {
      "text/plain": [
       "(0.1, 2472.0)"
      ]
     },
     "execution_count": 302,
     "metadata": {},
     "output_type": "execute_result"
    },
    {
     "data": {
      "image/png": "[encoded data removed]",
      "text/plain": [
       "<Figure size 432x288 with 1 Axes>"
      ]
     },
     "metadata": {
      "needs_background": "light"
     },
     "output_type": "display_data"
    }
   ],
   "source": [
    "sns.scatterplot(data = tmp, x = 'recurrence', y = 'TCGAC8A12P01A11RA11507all'\n",
    "                , hue = 'MHC-I binding status'\n",
    "               )\n",
    "print('number of kmers', tmp.shape[0])\n",
    "plt.xlabel('recurrence')\n",
    "plt.ylabel('Normalized Expression in TCGA-C8-A12P')\n",
    "plt.yscale(\"log\")  \n",
    "plt.ylim([0.1, max(tmp['TCGAC8A12P01A11RA11507all'])])"
   ]
  },
  {
   "cell_type": "markdown",
   "metadata": {},
   "source": [
    " Remark, did not compute the binding for the kmers which had expression < 2 in first pass"
   ]
  },
  {
   "cell_type": "code",
   "execution_count": 305,
   "metadata": {
    "ExecuteTime": {
     "end_time": "2022-06-02T12:05:06.365982Z",
     "start_time": "2022-06-02T12:05:06.354904Z"
    }
   },
   "outputs": [
    {
     "data": {
      "text/plain": [
       "count    318.000000\n",
       "mean       2.119497\n",
       "std        6.289910\n",
       "min        1.000000\n",
       "25%        1.000000\n",
       "50%        1.000000\n",
       "75%        2.000000\n",
       "max      110.000000\n",
       "Name: TCGAC8A12P01A11RA11507all, dtype: float64"
      ]
     },
     "execution_count": 305,
     "metadata": {},
     "output_type": "execute_result"
    }
   ],
   "source": [
    "tmp.loc[tmp['MHC-I binding status'] == 'not computed', 'TCGAC8A12P01A11RA11507all'].describe()\n"
   ]
  },
  {
   "cell_type": "markdown",
   "metadata": {},
   "source": [
    "# Figure 3 "
   ]
  },
  {
   "cell_type": "code",
   "execution_count": 307,
   "metadata": {
    "ExecuteTime": {
     "end_time": "2022-06-02T12:13:55.316728Z",
     "start_time": "2022-06-02T12:13:48.912834Z"
    }
   },
   "outputs": [],
   "source": [
    "tmp = pd.melt(df_plot, id_vars=['gene', 'kmer'], value_vars=cohort, \n",
    "             value_name='Normalized RNA expression of junction', \n",
    "             var_name='sample')"
   ]
  },
  {
   "cell_type": "code",
   "execution_count": 308,
   "metadata": {
    "ExecuteTime": {
     "end_time": "2022-06-02T12:14:01.277450Z",
     "start_time": "2022-06-02T12:14:01.079987Z"
    }
   },
   "outputs": [
    {
     "data": {
      "text/html": [
       "<div>\n",
       "<style scoped>\n",
       "    .dataframe tbody tr th:only-of-type {\n",
       "        vertical-align: middle;\n",
       "    }\n",
       "\n",
       "    .dataframe tbody tr th {\n",
       "        vertical-align: top;\n",
       "    }\n",
       "\n",
       "    .dataframe thead th {\n",
       "        text-align: right;\n",
       "    }\n",
       "</style>\n",
       "<table border=\"1\" class=\"dataframe\">\n",
       "  <thead>\n",
       "    <tr style=\"text-align: right;\">\n",
       "      <th></th>\n",
       "      <th>gene</th>\n",
       "      <th>kmer</th>\n",
       "      <th>sample</th>\n",
       "      <th>Normalized RNA expression of junction</th>\n",
       "    </tr>\n",
       "  </thead>\n",
       "  <tbody>\n",
       "    <tr>\n",
       "      <th>0</th>\n",
       "      <td>ENSG00000060339.14</td>\n",
       "      <td>AAAALQQHS</td>\n",
       "      <td>TCGA3CAAAU01A11RA41B07all</td>\n",
       "      <td>4.0</td>\n",
       "    </tr>\n",
       "    <tr>\n",
       "      <th>1</th>\n",
       "      <td>ENSG00000060339.14</td>\n",
       "      <td>AAAALQQHS</td>\n",
       "      <td>TCGA3CAAAU01A11RA41B07all</td>\n",
       "      <td>4.0</td>\n",
       "    </tr>\n",
       "    <tr>\n",
       "      <th>2</th>\n",
       "      <td>ENSG00000119333.11</td>\n",
       "      <td>AAADGVLSV</td>\n",
       "      <td>TCGA3CAAAU01A11RA41B07all</td>\n",
       "      <td>243.0</td>\n",
       "    </tr>\n",
       "    <tr>\n",
       "      <th>3</th>\n",
       "      <td>ENSG00000119333.11</td>\n",
       "      <td>AAADGWTMG</td>\n",
       "      <td>TCGA3CAAAU01A11RA41B07all</td>\n",
       "      <td>2.0</td>\n",
       "    </tr>\n",
       "    <tr>\n",
       "      <th>4</th>\n",
       "      <td>ENSG00000119333.11</td>\n",
       "      <td>AAADGWTMG</td>\n",
       "      <td>TCGA3CAAAU01A11RA41B07all</td>\n",
       "      <td>2.0</td>\n",
       "    </tr>\n",
       "  </tbody>\n",
       "</table>\n",
       "</div>"
      ],
      "text/plain": [
       "                 gene       kmer                     sample  \\\n",
       "0  ENSG00000060339.14  AAAALQQHS  TCGA3CAAAU01A11RA41B07all   \n",
       "1  ENSG00000060339.14  AAAALQQHS  TCGA3CAAAU01A11RA41B07all   \n",
       "2  ENSG00000119333.11  AAADGVLSV  TCGA3CAAAU01A11RA41B07all   \n",
       "3  ENSG00000119333.11  AAADGWTMG  TCGA3CAAAU01A11RA41B07all   \n",
       "4  ENSG00000119333.11  AAADGWTMG  TCGA3CAAAU01A11RA41B07all   \n",
       "\n",
       "   Normalized RNA expression of junction  \n",
       "0                                    4.0  \n",
       "1                                    4.0  \n",
       "2                                  243.0  \n",
       "3                                    2.0  \n",
       "4                                    2.0  "
      ]
     },
     "execution_count": 308,
     "metadata": {},
     "output_type": "execute_result"
    }
   ],
   "source": [
    "tmp.head()"
   ]
  },
  {
   "cell_type": "code",
   "execution_count": null,
   "metadata": {
    "ExecuteTime": {
     "start_time": "2022-06-02T12:21:30.488Z"
    }
   },
   "outputs": [],
   "source": [
    "tmp['Number kmers expressed in sample'] = 0 \n",
    "for idx, sample in enumerate(cohort):\n",
    "    vals =  tmp.loc[tmp['sample'] == sample, \n",
    "                    ['kmer', \n",
    "                    'Normalized RNA expression of junction']].drop_duplicates()\n",
    "    vals = vals['Normalized RNA expression of junction'].values\n",
    "    tmp.loc[tmp['sample'] == sample, \n",
    "            'Number kmers expressed in sample'] = len(np.where(vals > 0 )[0])\n",
    "    tmp.loc[tmp['sample'] == sample, \n",
    "            'Number kmers expressed > 10 in sample'] = len(np.where(vals > 10 )[0])\n",
    "    tmp.loc[tmp['sample'] == sample, \n",
    "            'Number kmers expressed > 100 in sample'] = len(np.where(vals > 100 )[0])"
   ]
  },
  {
   "cell_type": "code",
   "execution_count": 316,
   "metadata": {
    "ExecuteTime": {
     "end_time": "2022-06-02T12:20:18.972720Z",
     "start_time": "2022-06-02T12:20:18.964021Z"
    }
   },
   "outputs": [
    {
     "data": {
      "text/html": [
       "<div>\n",
       "<style scoped>\n",
       "    .dataframe tbody tr th:only-of-type {\n",
       "        vertical-align: middle;\n",
       "    }\n",
       "\n",
       "    .dataframe tbody tr th {\n",
       "        vertical-align: top;\n",
       "    }\n",
       "\n",
       "    .dataframe thead th {\n",
       "        text-align: right;\n",
       "    }\n",
       "</style>\n",
       "<table border=\"1\" class=\"dataframe\">\n",
       "  <thead>\n",
       "    <tr style=\"text-align: right;\">\n",
       "      <th></th>\n",
       "      <th>gene</th>\n",
       "      <th>kmer</th>\n",
       "      <th>sample</th>\n",
       "      <th>Normalized RNA expression of junction</th>\n",
       "      <th>Number kmers expressed in sample</th>\n",
       "    </tr>\n",
       "  </thead>\n",
       "  <tbody>\n",
       "    <tr>\n",
       "      <th>0</th>\n",
       "      <td>ENSG00000060339.14</td>\n",
       "      <td>AAAALQQHS</td>\n",
       "      <td>TCGA3CAAAU01A11RA41B07all</td>\n",
       "      <td>4.0</td>\n",
       "      <td>12218</td>\n",
       "    </tr>\n",
       "    <tr>\n",
       "      <th>1</th>\n",
       "      <td>ENSG00000060339.14</td>\n",
       "      <td>AAAALQQHS</td>\n",
       "      <td>TCGA3CAAAU01A11RA41B07all</td>\n",
       "      <td>4.0</td>\n",
       "      <td>12218</td>\n",
       "    </tr>\n",
       "    <tr>\n",
       "      <th>2</th>\n",
       "      <td>ENSG00000119333.11</td>\n",
       "      <td>AAADGVLSV</td>\n",
       "      <td>TCGA3CAAAU01A11RA41B07all</td>\n",
       "      <td>243.0</td>\n",
       "      <td>12218</td>\n",
       "    </tr>\n",
       "    <tr>\n",
       "      <th>3</th>\n",
       "      <td>ENSG00000119333.11</td>\n",
       "      <td>AAADGWTMG</td>\n",
       "      <td>TCGA3CAAAU01A11RA41B07all</td>\n",
       "      <td>2.0</td>\n",
       "      <td>12218</td>\n",
       "    </tr>\n",
       "    <tr>\n",
       "      <th>4</th>\n",
       "      <td>ENSG00000119333.11</td>\n",
       "      <td>AAADGWTMG</td>\n",
       "      <td>TCGA3CAAAU01A11RA41B07all</td>\n",
       "      <td>2.0</td>\n",
       "      <td>12218</td>\n",
       "    </tr>\n",
       "  </tbody>\n",
       "</table>\n",
       "</div>"
      ],
      "text/plain": [
       "                 gene       kmer                     sample  \\\n",
       "0  ENSG00000060339.14  AAAALQQHS  TCGA3CAAAU01A11RA41B07all   \n",
       "1  ENSG00000060339.14  AAAALQQHS  TCGA3CAAAU01A11RA41B07all   \n",
       "2  ENSG00000119333.11  AAADGVLSV  TCGA3CAAAU01A11RA41B07all   \n",
       "3  ENSG00000119333.11  AAADGWTMG  TCGA3CAAAU01A11RA41B07all   \n",
       "4  ENSG00000119333.11  AAADGWTMG  TCGA3CAAAU01A11RA41B07all   \n",
       "\n",
       "   Normalized RNA expression of junction  Number kmers expressed in sample  \n",
       "0                                    4.0                             12218  \n",
       "1                                    4.0                             12218  \n",
       "2                                  243.0                             12218  \n",
       "3                                    2.0                             12218  \n",
       "4                                    2.0                             12218  "
      ]
     },
     "execution_count": 316,
     "metadata": {},
     "output_type": "execute_result"
    }
   ],
   "source": [
    "tmp.head()"
   ]
  },
  {
   "cell_type": "code",
   "execution_count": 312,
   "metadata": {
    "ExecuteTime": {
     "end_time": "2022-06-02T12:19:40.767746Z",
     "start_time": "2022-06-02T12:19:40.763023Z"
    }
   },
   "outputs": [
    {
     "data": {
      "text/plain": [
       "(21781, 2)"
      ]
     },
     "execution_count": 312,
     "metadata": {},
     "output_type": "execute_result"
    }
   ],
   "source": [
    "vals.shape"
   ]
  },
  {
   "cell_type": "code",
   "execution_count": 73,
   "metadata": {
    "ExecuteTime": {
     "end_time": "2022-06-02T10:21:59.613937Z",
     "start_time": "2022-06-02T10:21:59.601036Z"
    }
   },
   "outputs": [],
   "source": [
    "sample = 'TCGA3CAAAU01A11RA41B07all'"
   ]
  },
  {
   "cell_type": "code",
   "execution_count": null,
   "metadata": {},
   "outputs": [],
   "source": []
  }
 ],
 "metadata": {
  "kernelspec": {
   "display_name": "myimmuno3_light",
   "language": "python",
   "name": "myimmuno3_light"
  },
  "language_info": {
   "codemirror_mode": {
    "name": "ipython",
    "version": 3
   },
   "file_extension": ".py",
   "mimetype": "text/x-python",
   "name": "python",
   "nbconvert_exporter": "python",
   "pygments_lexer": "ipython3",
   "version": "3.8.5"
  }
 },
 "nbformat": 4,
 "nbformat_minor": 4
}
