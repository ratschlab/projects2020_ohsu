{
 "cells": [
  {
   "cell_type": "code",
   "execution_count": 2,
   "metadata": {
    "ExecuteTime": {
     "end_time": "2022-06-20T08:59:39.284934Z",
     "start_time": "2022-06-20T08:59:39.279135Z"
    }
   },
   "outputs": [],
   "source": [
    "import os \n",
    "import pandas as pd\n",
    "from collections import defaultdict\n",
    "import numpy as np \n",
    "import glob\n",
    "import matplotlib.pyplot as plt\n",
    "import seaborn as sns"
   ]
  },
  {
   "cell_type": "code",
   "execution_count": 3,
   "metadata": {
    "ExecuteTime": {
     "end_time": "2022-06-20T08:59:39.763352Z",
     "start_time": "2022-06-20T08:59:39.757804Z"
    }
   },
   "outputs": [],
   "source": [
    "# Path saving \n",
    "gene_eq_path = '/cluster/work/grlab/projects/projects2020_OHSU/peptides_generation/v2_v3_d2d2574_conf2_annotFrame_cap0_runs/TCGA_Breast_1102'\n"
   ]
  },
  {
   "cell_type": "code",
   "execution_count": 4,
   "metadata": {
    "ExecuteTime": {
     "end_time": "2022-06-20T08:59:40.572221Z",
     "start_time": "2022-06-20T08:59:40.233689Z"
    }
   },
   "outputs": [
    {
     "ename": "FileExistsError",
     "evalue": "[Errno 17] File exists: '/cluster/work/grlab/projects/projects2020_OHSU/plots/MS_single_sample_plots'",
     "output_type": "error",
     "traceback": [
      "\u001b[0;31m---------------------------------------------------------------------------\u001b[0m",
      "\u001b[0;31mFileExistsError\u001b[0m                           Traceback (most recent call last)",
      "\u001b[0;32m<ipython-input-4-e5b656faf22d>\u001b[0m in \u001b[0;36m<module>\u001b[0;34m\u001b[0m\n\u001b[1;32m      1\u001b[0m \u001b[0mplot_dir\u001b[0m \u001b[0;34m=\u001b[0m \u001b[0;34m'/cluster/work/grlab/projects/projects2020_OHSU/plots'\u001b[0m\u001b[0;34m\u001b[0m\u001b[0;34m\u001b[0m\u001b[0m\n\u001b[1;32m      2\u001b[0m \u001b[0mplot_dir\u001b[0m \u001b[0;34m=\u001b[0m \u001b[0mos\u001b[0m\u001b[0;34m.\u001b[0m\u001b[0mpath\u001b[0m\u001b[0;34m.\u001b[0m\u001b[0mjoin\u001b[0m\u001b[0;34m(\u001b[0m\u001b[0mplot_dir\u001b[0m\u001b[0;34m,\u001b[0m \u001b[0;34m'MS_single_sample_plots'\u001b[0m\u001b[0;34m)\u001b[0m\u001b[0;34m\u001b[0m\u001b[0;34m\u001b[0m\u001b[0m\n\u001b[0;32m----> 3\u001b[0;31m \u001b[0mos\u001b[0m\u001b[0;34m.\u001b[0m\u001b[0mmkdir\u001b[0m\u001b[0;34m(\u001b[0m\u001b[0mplot_dir\u001b[0m\u001b[0;34m)\u001b[0m\u001b[0;34m\u001b[0m\u001b[0;34m\u001b[0m\u001b[0m\n\u001b[0m\u001b[1;32m      4\u001b[0m \u001b[0mbase_plot\u001b[0m \u001b[0;34m=\u001b[0m \u001b[0;34m'v2_v2.5f0752a_with_v2_v3_d2d2574_conf2_BRCA'\u001b[0m\u001b[0;34m\u001b[0m\u001b[0;34m\u001b[0m\u001b[0m\n",
      "\u001b[0;31mFileExistsError\u001b[0m: [Errno 17] File exists: '/cluster/work/grlab/projects/projects2020_OHSU/plots/MS_single_sample_plots'"
     ]
    }
   ],
   "source": [
    "plot_dir = '/cluster/work/grlab/projects/projects2020_OHSU/plots'\n",
    "plot_dir = os.path.join(plot_dir, 'MS_single_sample_plots')\n",
    "os.mkdir(plot_dir)\n",
    "base_plot = 'v2_v2.5f0752a_with_v2_v3_d2d2574_conf2_BRCA'"
   ]
  },
  {
   "cell_type": "code",
   "execution_count": 5,
   "metadata": {
    "ExecuteTime": {
     "end_time": "2022-06-20T08:59:44.893598Z",
     "start_time": "2022-06-20T08:59:44.889424Z"
    }
   },
   "outputs": [
    {
     "name": "stdout",
     "output_type": "stream",
     "text": [
      "/cluster/work/grlab/projects/projects2020_OHSU/plots/MS_single_sample_plots\n"
     ]
    }
   ],
   "source": [
    "print(plot_dir)"
   ]
  },
  {
   "cell_type": "code",
   "execution_count": 6,
   "metadata": {
    "ExecuteTime": {
     "end_time": "2022-06-20T09:01:57.028131Z",
     "start_time": "2022-06-20T08:59:45.406928Z"
    }
   },
   "outputs": [],
   "source": [
    "# Read intermediate file \n",
    "df_plot = pd.read_csv(os.path.join(gene_eq_path, 'exp_427_kmers_plot2.csv.gz'), #exp_427_kmers_plot\n",
    "                      compression = 'gzip' )"
   ]
  },
  {
   "cell_type": "code",
   "execution_count": 7,
   "metadata": {
    "ExecuteTime": {
     "end_time": "2022-06-20T09:01:57.252841Z",
     "start_time": "2022-06-20T09:01:57.029737Z"
    }
   },
   "outputs": [
    {
     "data": {
      "text/html": [
       "<div>\n",
       "<style scoped>\n",
       "    .dataframe tbody tr th:only-of-type {\n",
       "        vertical-align: middle;\n",
       "    }\n",
       "\n",
       "    .dataframe tbody tr th {\n",
       "        vertical-align: top;\n",
       "    }\n",
       "\n",
       "    .dataframe thead th {\n",
       "        text-align: right;\n",
       "    }\n",
       "</style>\n",
       "<table border=\"1\" class=\"dataframe\">\n",
       "  <thead>\n",
       "    <tr style=\"text-align: right;\">\n",
       "      <th></th>\n",
       "      <th>&gt;pepID</th>\n",
       "      <th>jx_pos</th>\n",
       "      <th>between_codons</th>\n",
       "      <th>includes_5'</th>\n",
       "      <th>includes_3'</th>\n",
       "      <th>gene</th>\n",
       "      <th>jx_coord</th>\n",
       "      <th>kmer</th>\n",
       "      <th>peptide</th>\n",
       "      <th>sample</th>\n",
       "      <th>...</th>\n",
       "      <th>TCGAWTAB4101A11RA41B07all</th>\n",
       "      <th>TCGAWTAB4401A11RA41B07all</th>\n",
       "      <th>TCGAXXA89901A11RA36F07all</th>\n",
       "      <th>TCGAXXA89A01A11RA36F07all</th>\n",
       "      <th>TCGAZ7A8R501A42RA41B07all</th>\n",
       "      <th>TCGAZ7A8R601A11RA41B07all</th>\n",
       "      <th>isCrossJunction</th>\n",
       "      <th>junctionAnnotated_kmer</th>\n",
       "      <th>readFrameAnnotated_kmer</th>\n",
       "      <th>recurrence</th>\n",
       "    </tr>\n",
       "  </thead>\n",
       "  <tbody>\n",
       "    <tr>\n",
       "      <th>0</th>\n",
       "      <td>2</td>\n",
       "      <td>56</td>\n",
       "      <td>1</td>\n",
       "      <td>0</td>\n",
       "      <td>0</td>\n",
       "      <td>ENSG00000060339.14</td>\n",
       "      <td>68737048_68742427</td>\n",
       "      <td>AAAALQQHS</td>\n",
       "      <td>ALGVQQPSLLGASPTIYTQQTALAAAGLTTQTPANYQLTQTAALQQ...</td>\n",
       "      <td>TCGABHA18V01A11RA12D07all</td>\n",
       "      <td>...</td>\n",
       "      <td>0.0</td>\n",
       "      <td>0.0</td>\n",
       "      <td>6.0</td>\n",
       "      <td>0.0</td>\n",
       "      <td>0.0</td>\n",
       "      <td>3.0</td>\n",
       "      <td>True</td>\n",
       "      <td>0.0</td>\n",
       "      <td>0</td>\n",
       "      <td>970</td>\n",
       "    </tr>\n",
       "    <tr>\n",
       "      <th>1</th>\n",
       "      <td>2</td>\n",
       "      <td>0</td>\n",
       "      <td>1</td>\n",
       "      <td>0</td>\n",
       "      <td>0</td>\n",
       "      <td>ENSG00000060339.14</td>\n",
       "      <td>68742430_68742487</td>\n",
       "      <td>AAAALQQHS</td>\n",
       "      <td>ALGVQQPSLLGASPTIYTQQTALAAAGLTTQTPANYQLTQTAALQQ...</td>\n",
       "      <td>TCGABHA18V01A11RA12D07all</td>\n",
       "      <td>...</td>\n",
       "      <td>0.0</td>\n",
       "      <td>0.0</td>\n",
       "      <td>6.0</td>\n",
       "      <td>0.0</td>\n",
       "      <td>0.0</td>\n",
       "      <td>3.0</td>\n",
       "      <td>True</td>\n",
       "      <td>0.0</td>\n",
       "      <td>0</td>\n",
       "      <td>970</td>\n",
       "    </tr>\n",
       "    <tr>\n",
       "      <th>2</th>\n",
       "      <td>4</td>\n",
       "      <td>12</td>\n",
       "      <td>0</td>\n",
       "      <td>0</td>\n",
       "      <td>0</td>\n",
       "      <td>ENSG00000119333.11</td>\n",
       "      <td>128640690_128637027</td>\n",
       "      <td>AAADGVLSV</td>\n",
       "      <td>WLRGELDRAAADGVLSVYPGLPASPSAGSACDQHLLELHWLCGGLCLRP</td>\n",
       "      <td>TCGABHA18V01A11RA12D07all</td>\n",
       "      <td>...</td>\n",
       "      <td>72.0</td>\n",
       "      <td>28.0</td>\n",
       "      <td>156.0</td>\n",
       "      <td>164.0</td>\n",
       "      <td>112.0</td>\n",
       "      <td>651.0</td>\n",
       "      <td>True</td>\n",
       "      <td>1.0</td>\n",
       "      <td>0</td>\n",
       "      <td>1100</td>\n",
       "    </tr>\n",
       "    <tr>\n",
       "      <th>3</th>\n",
       "      <td>5</td>\n",
       "      <td>12</td>\n",
       "      <td>0</td>\n",
       "      <td>0</td>\n",
       "      <td>1</td>\n",
       "      <td>ENSG00000119333.11</td>\n",
       "      <td>128640690_128636438</td>\n",
       "      <td>AAADGWTMG</td>\n",
       "      <td>WLRGELDRAAADGWTMGTGARLSPSCVPGTWTGETCVPSSRRPWWR...</td>\n",
       "      <td>TCGABHA18V01A11RA12D07all</td>\n",
       "      <td>...</td>\n",
       "      <td>0.0</td>\n",
       "      <td>1.0</td>\n",
       "      <td>2.0</td>\n",
       "      <td>1.0</td>\n",
       "      <td>0.0</td>\n",
       "      <td>4.0</td>\n",
       "      <td>True</td>\n",
       "      <td>1.0</td>\n",
       "      <td>0</td>\n",
       "      <td>972</td>\n",
       "    </tr>\n",
       "    <tr>\n",
       "      <th>4</th>\n",
       "      <td>6</td>\n",
       "      <td>12</td>\n",
       "      <td>0</td>\n",
       "      <td>0</td>\n",
       "      <td>0</td>\n",
       "      <td>ENSG00000119333.11</td>\n",
       "      <td>128640690_128636438</td>\n",
       "      <td>AAADGWTMG</td>\n",
       "      <td>WLRGELDRAAADGWTMGTGARLSPSCVPGTWTGETCVPSSRRPWWR...</td>\n",
       "      <td>TCGABHA18V01A11RA12D07all</td>\n",
       "      <td>...</td>\n",
       "      <td>0.0</td>\n",
       "      <td>1.0</td>\n",
       "      <td>2.0</td>\n",
       "      <td>1.0</td>\n",
       "      <td>0.0</td>\n",
       "      <td>4.0</td>\n",
       "      <td>True</td>\n",
       "      <td>1.0</td>\n",
       "      <td>0</td>\n",
       "      <td>972</td>\n",
       "    </tr>\n",
       "    <tr>\n",
       "      <th>...</th>\n",
       "      <td>...</td>\n",
       "      <td>...</td>\n",
       "      <td>...</td>\n",
       "      <td>...</td>\n",
       "      <td>...</td>\n",
       "      <td>...</td>\n",
       "      <td>...</td>\n",
       "      <td>...</td>\n",
       "      <td>...</td>\n",
       "      <td>...</td>\n",
       "      <td>...</td>\n",
       "      <td>...</td>\n",
       "      <td>...</td>\n",
       "      <td>...</td>\n",
       "      <td>...</td>\n",
       "      <td>...</td>\n",
       "      <td>...</td>\n",
       "      <td>...</td>\n",
       "      <td>...</td>\n",
       "      <td>...</td>\n",
       "      <td>...</td>\n",
       "    </tr>\n",
       "    <tr>\n",
       "      <th>95</th>\n",
       "      <td>100</td>\n",
       "      <td>1</td>\n",
       "      <td>0</td>\n",
       "      <td>0</td>\n",
       "      <td>1</td>\n",
       "      <td>ENSG00000011304.20</td>\n",
       "      <td>805516_805555</td>\n",
       "      <td>AAFASPQAA</td>\n",
       "      <td>SLDGQNIYNACCTLRIDFSKLTSLNVKYNNDKSRDYTRPDLPSGDS...</td>\n",
       "      <td>TCGABHA18V01A11RA12D07all</td>\n",
       "      <td>...</td>\n",
       "      <td>0.0</td>\n",
       "      <td>0.0</td>\n",
       "      <td>0.0</td>\n",
       "      <td>0.0</td>\n",
       "      <td>0.0</td>\n",
       "      <td>0.0</td>\n",
       "      <td>True</td>\n",
       "      <td>1.0</td>\n",
       "      <td>0</td>\n",
       "      <td>1</td>\n",
       "    </tr>\n",
       "    <tr>\n",
       "      <th>96</th>\n",
       "      <td>102</td>\n",
       "      <td>58</td>\n",
       "      <td>0</td>\n",
       "      <td>0</td>\n",
       "      <td>1</td>\n",
       "      <td>ENSG00000011304.20</td>\n",
       "      <td>805187_805512</td>\n",
       "      <td>AAFASPQAA</td>\n",
       "      <td>SLDGQNIYNACCTLRIDFSKLTSLNVKYNNDKSRDYTRPDLPSGDS...</td>\n",
       "      <td>TCGABHA18V01A11RA12D07all</td>\n",
       "      <td>...</td>\n",
       "      <td>0.0</td>\n",
       "      <td>0.0</td>\n",
       "      <td>0.0</td>\n",
       "      <td>0.0</td>\n",
       "      <td>0.0</td>\n",
       "      <td>0.0</td>\n",
       "      <td>True</td>\n",
       "      <td>1.0</td>\n",
       "      <td>0</td>\n",
       "      <td>1</td>\n",
       "    </tr>\n",
       "    <tr>\n",
       "      <th>97</th>\n",
       "      <td>102</td>\n",
       "      <td>1</td>\n",
       "      <td>0</td>\n",
       "      <td>0</td>\n",
       "      <td>1</td>\n",
       "      <td>ENSG00000011304.20</td>\n",
       "      <td>805516_805555</td>\n",
       "      <td>AAFASPQAA</td>\n",
       "      <td>SLDGQNIYNACCTLRIDFSKLTSLNVKYNNDKSRDYTRPDLPSGDS...</td>\n",
       "      <td>TCGABHA18V01A11RA12D07all</td>\n",
       "      <td>...</td>\n",
       "      <td>0.0</td>\n",
       "      <td>0.0</td>\n",
       "      <td>0.0</td>\n",
       "      <td>0.0</td>\n",
       "      <td>0.0</td>\n",
       "      <td>0.0</td>\n",
       "      <td>True</td>\n",
       "      <td>1.0</td>\n",
       "      <td>0</td>\n",
       "      <td>1</td>\n",
       "    </tr>\n",
       "    <tr>\n",
       "      <th>98</th>\n",
       "      <td>104</td>\n",
       "      <td>49</td>\n",
       "      <td>0</td>\n",
       "      <td>0</td>\n",
       "      <td>1</td>\n",
       "      <td>ENSG00000144674.16</td>\n",
       "      <td>37302332_37315419</td>\n",
       "      <td>AAFEELEKT</td>\n",
       "      <td>GMVIAETKRQMHETLEMKEEEIAQLRSRIKQMTTQGEELREQKEKS...</td>\n",
       "      <td>TCGABHA18V01A11RA12D07all</td>\n",
       "      <td>...</td>\n",
       "      <td>0.0</td>\n",
       "      <td>0.0</td>\n",
       "      <td>0.0</td>\n",
       "      <td>0.0</td>\n",
       "      <td>0.0</td>\n",
       "      <td>0.0</td>\n",
       "      <td>True</td>\n",
       "      <td>1.0</td>\n",
       "      <td>0</td>\n",
       "      <td>1</td>\n",
       "    </tr>\n",
       "    <tr>\n",
       "      <th>99</th>\n",
       "      <td>104</td>\n",
       "      <td>5</td>\n",
       "      <td>0</td>\n",
       "      <td>0</td>\n",
       "      <td>1</td>\n",
       "      <td>ENSG00000144674.16</td>\n",
       "      <td>37315434_37315455</td>\n",
       "      <td>AAFEELEKT</td>\n",
       "      <td>GMVIAETKRQMHETLEMKEEEIAQLRSRIKQMTTQGEELREQKEKS...</td>\n",
       "      <td>TCGABHA18V01A11RA12D07all</td>\n",
       "      <td>...</td>\n",
       "      <td>0.0</td>\n",
       "      <td>0.0</td>\n",
       "      <td>0.0</td>\n",
       "      <td>0.0</td>\n",
       "      <td>0.0</td>\n",
       "      <td>0.0</td>\n",
       "      <td>True</td>\n",
       "      <td>1.0</td>\n",
       "      <td>0</td>\n",
       "      <td>1</td>\n",
       "    </tr>\n",
       "  </tbody>\n",
       "</table>\n",
       "<p>100 rows × 1121 columns</p>\n",
       "</div>"
      ],
      "text/plain": [
       "    >pepID  jx_pos  between_codons  includes_5'  includes_3'  \\\n",
       "0        2      56               1            0            0   \n",
       "1        2       0               1            0            0   \n",
       "2        4      12               0            0            0   \n",
       "3        5      12               0            0            1   \n",
       "4        6      12               0            0            0   \n",
       "..     ...     ...             ...          ...          ...   \n",
       "95     100       1               0            0            1   \n",
       "96     102      58               0            0            1   \n",
       "97     102       1               0            0            1   \n",
       "98     104      49               0            0            1   \n",
       "99     104       5               0            0            1   \n",
       "\n",
       "                  gene             jx_coord       kmer  \\\n",
       "0   ENSG00000060339.14    68737048_68742427  AAAALQQHS   \n",
       "1   ENSG00000060339.14    68742430_68742487  AAAALQQHS   \n",
       "2   ENSG00000119333.11  128640690_128637027  AAADGVLSV   \n",
       "3   ENSG00000119333.11  128640690_128636438  AAADGWTMG   \n",
       "4   ENSG00000119333.11  128640690_128636438  AAADGWTMG   \n",
       "..                 ...                  ...        ...   \n",
       "95  ENSG00000011304.20        805516_805555  AAFASPQAA   \n",
       "96  ENSG00000011304.20        805187_805512  AAFASPQAA   \n",
       "97  ENSG00000011304.20        805516_805555  AAFASPQAA   \n",
       "98  ENSG00000144674.16    37302332_37315419  AAFEELEKT   \n",
       "99  ENSG00000144674.16    37315434_37315455  AAFEELEKT   \n",
       "\n",
       "                                              peptide  \\\n",
       "0   ALGVQQPSLLGASPTIYTQQTALAAAGLTTQTPANYQLTQTAALQQ...   \n",
       "1   ALGVQQPSLLGASPTIYTQQTALAAAGLTTQTPANYQLTQTAALQQ...   \n",
       "2   WLRGELDRAAADGVLSVYPGLPASPSAGSACDQHLLELHWLCGGLCLRP   \n",
       "3   WLRGELDRAAADGWTMGTGARLSPSCVPGTWTGETCVPSSRRPWWR...   \n",
       "4   WLRGELDRAAADGWTMGTGARLSPSCVPGTWTGETCVPSSRRPWWR...   \n",
       "..                                                ...   \n",
       "95  SLDGQNIYNACCTLRIDFSKLTSLNVKYNNDKSRDYTRPDLPSGDS...   \n",
       "96  SLDGQNIYNACCTLRIDFSKLTSLNVKYNNDKSRDYTRPDLPSGDS...   \n",
       "97  SLDGQNIYNACCTLRIDFSKLTSLNVKYNNDKSRDYTRPDLPSGDS...   \n",
       "98  GMVIAETKRQMHETLEMKEEEIAQLRSRIKQMTTQGEELREQKEKS...   \n",
       "99  GMVIAETKRQMHETLEMKEEEIAQLRSRIKQMTTQGEELREQKEKS...   \n",
       "\n",
       "                       sample  ...  TCGAWTAB4101A11RA41B07all  \\\n",
       "0   TCGABHA18V01A11RA12D07all  ...                        0.0   \n",
       "1   TCGABHA18V01A11RA12D07all  ...                        0.0   \n",
       "2   TCGABHA18V01A11RA12D07all  ...                       72.0   \n",
       "3   TCGABHA18V01A11RA12D07all  ...                        0.0   \n",
       "4   TCGABHA18V01A11RA12D07all  ...                        0.0   \n",
       "..                        ...  ...                        ...   \n",
       "95  TCGABHA18V01A11RA12D07all  ...                        0.0   \n",
       "96  TCGABHA18V01A11RA12D07all  ...                        0.0   \n",
       "97  TCGABHA18V01A11RA12D07all  ...                        0.0   \n",
       "98  TCGABHA18V01A11RA12D07all  ...                        0.0   \n",
       "99  TCGABHA18V01A11RA12D07all  ...                        0.0   \n",
       "\n",
       "    TCGAWTAB4401A11RA41B07all TCGAXXA89901A11RA36F07all  \\\n",
       "0                         0.0                       6.0   \n",
       "1                         0.0                       6.0   \n",
       "2                        28.0                     156.0   \n",
       "3                         1.0                       2.0   \n",
       "4                         1.0                       2.0   \n",
       "..                        ...                       ...   \n",
       "95                        0.0                       0.0   \n",
       "96                        0.0                       0.0   \n",
       "97                        0.0                       0.0   \n",
       "98                        0.0                       0.0   \n",
       "99                        0.0                       0.0   \n",
       "\n",
       "    TCGAXXA89A01A11RA36F07all  TCGAZ7A8R501A42RA41B07all  \\\n",
       "0                         0.0                        0.0   \n",
       "1                         0.0                        0.0   \n",
       "2                       164.0                      112.0   \n",
       "3                         1.0                        0.0   \n",
       "4                         1.0                        0.0   \n",
       "..                        ...                        ...   \n",
       "95                        0.0                        0.0   \n",
       "96                        0.0                        0.0   \n",
       "97                        0.0                        0.0   \n",
       "98                        0.0                        0.0   \n",
       "99                        0.0                        0.0   \n",
       "\n",
       "    TCGAZ7A8R601A11RA41B07all  isCrossJunction  junctionAnnotated_kmer  \\\n",
       "0                         3.0             True                     0.0   \n",
       "1                         3.0             True                     0.0   \n",
       "2                       651.0             True                     1.0   \n",
       "3                         4.0             True                     1.0   \n",
       "4                         4.0             True                     1.0   \n",
       "..                        ...              ...                     ...   \n",
       "95                        0.0             True                     1.0   \n",
       "96                        0.0             True                     1.0   \n",
       "97                        0.0             True                     1.0   \n",
       "98                        0.0             True                     1.0   \n",
       "99                        0.0             True                     1.0   \n",
       "\n",
       "    readFrameAnnotated_kmer  recurrence  \n",
       "0                         0         970  \n",
       "1                         0         970  \n",
       "2                         0        1100  \n",
       "3                         0         972  \n",
       "4                         0         972  \n",
       "..                      ...         ...  \n",
       "95                        0           1  \n",
       "96                        0           1  \n",
       "97                        0           1  \n",
       "98                        0           1  \n",
       "99                        0           1  \n",
       "\n",
       "[100 rows x 1121 columns]"
      ]
     },
     "execution_count": 7,
     "metadata": {},
     "output_type": "execute_result"
    }
   ],
   "source": [
    "df_plot.head(100)"
   ]
  },
  {
   "cell_type": "code",
   "execution_count": 8,
   "metadata": {
    "ExecuteTime": {
     "end_time": "2022-06-20T09:04:05.124347Z",
     "start_time": "2022-06-20T09:03:40.769775Z"
    }
   },
   "outputs": [],
   "source": [
    "# TEST \n",
    "grp = df_plot.groupby(['>pepID',\n",
    " \"includes_5'\",\n",
    " \"includes_3'\",\n",
    " 'gene',\n",
    " 'kmer',\n",
    " 'peptide',\n",
    " 'sample',\n",
    " 'percentile_rank',\n",
    " 'affinity',\n",
    " 'strand',\n",
    " 'GTEX_presence',\n",
    " 'index',\n",
    " 'isCrossJunction',\n",
    " 'recurrence']).count()\n",
    "\n",
    "grp = grp.loc[grp['jx_pos'] == 2 , :]\n",
    "\n",
    "grp = grp.reset_index()\n",
    "\n",
    "test = df_plot.set_index('>pepID')\n",
    "\n",
    "test = test.loc[grp['>pepID']]\n",
    "\n",
    "test =test.drop_duplicates() # 3 exons only "
   ]
  },
  {
   "cell_type": "code",
   "execution_count": 9,
   "metadata": {
    "ExecuteTime": {
     "end_time": "2022-06-20T09:04:05.156095Z",
     "start_time": "2022-06-20T09:04:05.125823Z"
    }
   },
   "outputs": [
    {
     "data": {
      "text/plain": [
       "array(['AGNYRRHPV', 'AGPVPWCWA', 'AIRKQKRHL', 'AKKRMRRPQ', 'AKKRMRSKP',\n",
       "       'AQKGVNLGT', 'AQKLWMRCW', 'ARMLPWLEC', 'ARMLPWQSC', 'ATLPRRAVT',\n",
       "       'CLPPASVAI', 'CMARMLPWL', 'CMARMLPWQ', 'CPGGLLRPW', 'CWTKSGAST',\n",
       "       'DAQKGVNLG', 'DLCPGGLLR', 'DVLVPLAPR', 'EEQELLEYP', 'EEQLASLHT',\n",
       "       'EHRQRRAAS', 'ELSKTIRHT', 'EQELLEYPL', 'ERMQDAESS', 'ESIVELPSV',\n",
       "       'EVFTTRFCG', 'FRELSKTIR', 'FTTRFCGYY', 'GEHRQRRAA', 'GGVYHPLLW',\n",
       "       'GKSPITSGA', 'GNYRRHPVK', 'GPSRESVEP', 'GPVPWCWAA', 'GVDDGPALR',\n",
       "       'GVYHPLLWL', 'HILLFSLGL', 'HPLLWLLHG', 'HRMNLLLSC', 'HRMNLLLVL',\n",
       "       'HWGASLHSI', 'IFTRGNCKK', 'IFTRGPSRR', 'IFTRGSAWP', 'IFTRGSTRP',\n",
       "       'IKNSKLEGA', 'IRKQKRHLQ', 'KGVNLGTIT', 'KKMASRKEA', 'KLWMRCWSS',\n",
       "       'KMASRKEAH', 'KSGPSRESV', 'KVMEVASGL', 'LAFYLAKKK', 'LCPGGLLRP',\n",
       "       'LHWGASLHS', 'LLLSCHLCQ', 'LLLVLDPSQ', 'LPPASVAIT', 'LRGVDDGPA',\n",
       "       'LVPLAPRVK', 'LVRLQYQMR', 'MARMLPWLE', 'MARMLPWQS', 'MNLLLSCHL',\n",
       "       'MNLLLVLDP', 'MPIFRNCKK', 'MPIFTRGNC', 'MPIFTRGPS', 'MPIFTRGSA',\n",
       "       'MPIFTRGST', 'MQDAESSCL', 'NIFFFFPWV', 'NLLLVLDPS', 'NLRGVDDGP',\n",
       "       'NMPIFTRGN', 'NMPIFTRGP', 'NMPIFTRGS', 'PAGPVPWCW', 'PASVAITRE',\n",
       "       'PIFTRGNCK', 'PIFTRGPSR', 'PIFTRGSAW', 'PIFTRGSTR', 'PPASVAITR',\n",
       "       'PPSYESIVE', 'PSNMPIFRN', 'PSYESIVEL', 'QAIRKQKRH', 'QELLEYPLC',\n",
       "       'QHILLFSLG', 'QKGVNLGTI', 'QKLWMRCWS', 'RAKKRMRRP', 'RAKKRMRSK',\n",
       "       'RCLPPASVA', 'RELSKTIRH', 'RGVDDGPAL', 'RKQKRHLQR', 'RLQYQMRIP',\n",
       "       'RMLPWLECS', 'RMLPWQSCN', 'RMNLLLSCH', 'RMNLLLVLD', 'RMQDAESSC',\n",
       "       'RQGVCELWR', 'RSCWTKSGA', 'SCWTKSGAS', 'SGPSRESVE', 'SIVELPSVP',\n",
       "       'SNMPIFRNC', 'SRSCWTKSG', 'SYESIVELP', 'TLPRRAVTA', 'TRFCGYYTG',\n",
       "       'TTRFCGYYT', 'VFTTRFCGY', 'VGEHRQRRA', 'VIKNSKLEG', 'VRLQYQMRI',\n",
       "       'VTLGEKMQL', 'VYHPLLWLL', 'WKSGPSRES', 'YESIVELPS', 'YHPLLWLLH',\n",
       "       'YSSFFPGSE'], dtype=object)"
      ]
     },
     "execution_count": 9,
     "metadata": {},
     "output_type": "execute_result"
    }
   ],
   "source": [
    "# TEST \n",
    "# kmers from 3 exon derived peptides\n",
    "test.loc[test['sample'] == 'TCGABHA18V01A11RA12D07all', 'kmer'].unique() "
   ]
  },
  {
   "cell_type": "code",
   "execution_count": 5,
   "metadata": {
    "ExecuteTime": {
     "end_time": "2022-06-02T13:27:29.716773Z",
     "start_time": "2022-06-02T13:27:29.670289Z"
    }
   },
   "outputs": [],
   "source": [
    "# Some type conversions\n",
    "# df_plot['junctionAnnotated'] = df_plot['junctionAnnotated'].astype(str)\n",
    "# df_plot['readFrameAnnotated'] = df_plot['readFrameAnnotated'].astype(str)"
   ]
  },
  {
   "cell_type": "code",
   "execution_count": 11,
   "metadata": {
    "ExecuteTime": {
     "end_time": "2022-06-20T09:04:21.053163Z",
     "start_time": "2022-06-20T09:04:20.870348Z"
    }
   },
   "outputs": [],
   "source": [
    "# Annotate MHC\n",
    "df_plot['MHC-I binding status'] = 'not computed'\n",
    "\n",
    "df_plot.loc[df_plot['percentile_rank'] <=2 ,\n",
    "            'MHC-I binding status'] = 'strong binder'\n",
    "df_plot.loc[ (10 >= df_plot['percentile_rank']) &\n",
    "              (df_plot['percentile_rank'] > 2), \n",
    "            'MHC-I binding status'] = 'weak binder'\n",
    "df_plot.loc[ 10 < df_plot['percentile_rank'] ,\n",
    "            'MHC-I binding status'] = 'not binder'"
   ]
  },
  {
   "cell_type": "code",
   "execution_count": 12,
   "metadata": {
    "ExecuteTime": {
     "end_time": "2022-06-20T09:04:30.564505Z",
     "start_time": "2022-06-20T09:04:30.541732Z"
    }
   },
   "outputs": [
    {
     "data": {
      "text/plain": [
       "Index(['>pepID', 'jx_pos', 'between_codons', 'includes_5'', 'includes_3'',\n",
       "       'gene', 'jx_coord', 'kmer', 'peptide', 'sample',\n",
       "       ...\n",
       "       'TCGAWTAB4401A11RA41B07all', 'TCGAXXA89901A11RA36F07all',\n",
       "       'TCGAXXA89A01A11RA36F07all', 'TCGAZ7A8R501A42RA41B07all',\n",
       "       'TCGAZ7A8R601A11RA41B07all', 'isCrossJunction',\n",
       "       'junctionAnnotated_kmer', 'readFrameAnnotated_kmer', 'recurrence',\n",
       "       'MHC-I binding status'],\n",
       "      dtype='object', length=1122)"
      ]
     },
     "execution_count": 12,
     "metadata": {},
     "output_type": "execute_result"
    }
   ],
   "source": [
    "df_plot.columns"
   ]
  },
  {
   "cell_type": "code",
   "execution_count": 13,
   "metadata": {
    "ExecuteTime": {
     "end_time": "2022-06-20T09:04:33.397468Z",
     "start_time": "2022-06-20T09:04:33.392482Z"
    }
   },
   "outputs": [],
   "source": [
    "meta_cols = [ col for col in df_plot.columns if 'TCGA' not in col ] \n",
    "cohort = [ col for col in df_plot.columns if 'TCGA' in col ] "
   ]
  },
  {
   "cell_type": "code",
   "execution_count": 14,
   "metadata": {
    "ExecuteTime": {
     "end_time": "2022-06-20T09:04:33.741386Z",
     "start_time": "2022-06-20T09:04:33.734744Z"
    }
   },
   "outputs": [
    {
     "data": {
      "text/plain": [
       "['>pepID',\n",
       " 'jx_pos',\n",
       " 'between_codons',\n",
       " \"includes_5'\",\n",
       " \"includes_3'\",\n",
       " 'gene',\n",
       " 'jx_coord',\n",
       " 'kmer',\n",
       " 'peptide',\n",
       " 'sample',\n",
       " 'percentile_rank',\n",
       " 'affinity',\n",
       " 'strand',\n",
       " 'GTEX_presence',\n",
       " 'index',\n",
       " 'isCrossJunction',\n",
       " 'junctionAnnotated_kmer',\n",
       " 'readFrameAnnotated_kmer',\n",
       " 'recurrence',\n",
       " 'MHC-I binding status']"
      ]
     },
     "execution_count": 14,
     "metadata": {},
     "output_type": "execute_result"
    }
   ],
   "source": [
    "meta_cols"
   ]
  },
  {
   "cell_type": "markdown",
   "metadata": {},
   "source": [
    "# Exploration "
   ]
  },
  {
   "cell_type": "markdown",
   "metadata": {},
   "source": [
    "### All "
   ]
  },
  {
   "cell_type": "code",
   "execution_count": 15,
   "metadata": {
    "ExecuteTime": {
     "end_time": "2022-06-20T09:04:44.753018Z",
     "start_time": "2022-06-20T09:04:38.296489Z"
    }
   },
   "outputs": [
    {
     "name": "stdout",
     "output_type": "stream",
     "text": [
      "number of kmers 29887\n"
     ]
    },
    {
     "data": {
      "text/plain": [
       "<AxesSubplot:xlabel='recurrence', ylabel='Count'>"
      ]
     },
     "execution_count": 15,
     "metadata": {},
     "output_type": "execute_result"
    },
    {
     "data": {
      "image/png": "[encoded data removed]",
      "text/plain": [
       "<Figure size 432x288 with 1 Axes>"
      ]
     },
     "metadata": {
      "needs_background": "light"
     },
     "output_type": "display_data"
    }
   ],
   "source": [
    "tmp = df_plot.loc[\n",
    "                    (df_plot['recurrence'] > 0),\n",
    "                  ['recurrence', 'kmer', 'GTEX_presence' ]].drop_duplicates()\n",
    "print('number of kmers', tmp.shape[0])\n",
    "sns.histplot(data = tmp, x = 'recurrence', bins = 100)"
   ]
  },
  {
   "cell_type": "markdown",
   "metadata": {},
   "source": [
    "### Remove if present in GTEX Graph  "
   ]
  },
  {
   "cell_type": "code",
   "execution_count": 17,
   "metadata": {
    "ExecuteTime": {
     "end_time": "2022-06-20T09:06:04.290102Z",
     "start_time": "2022-06-20T09:06:01.922006Z"
    }
   },
   "outputs": [
    {
     "name": "stdout",
     "output_type": "stream",
     "text": [
      "number of kmers 9047\n"
     ]
    },
    {
     "data": {
      "text/plain": [
       "<AxesSubplot:xlabel='recurrence', ylabel='Count'>"
      ]
     },
     "execution_count": 17,
     "metadata": {},
     "output_type": "execute_result"
    },
    {
     "data": {
      "image/png": "[encoded data removed]",
      "text/plain": [
       "<Figure size 432x288 with 1 Axes>"
      ]
     },
     "metadata": {
      "needs_background": "light"
     },
     "output_type": "display_data"
    }
   ],
   "source": [
    "tmp = df_plot.loc[df_plot['GTEX_presence'] == 0\n",
    "                   & (df_plot['recurrence'] > 0),\n",
    "                  ['recurrence', 'kmer', 'GTEX_presence' ]].drop_duplicates()\n",
    "print('number of kmers', tmp.shape[0])\n",
    "sns.histplot(data = tmp, x = 'recurrence', bins = 100)"
   ]
  },
  {
   "cell_type": "markdown",
   "metadata": {},
   "source": [
    "### Remove if kmer comes from an annotated junction (or on the same 3-exon peptide)"
   ]
  },
  {
   "cell_type": "code",
   "execution_count": 18,
   "metadata": {
    "ExecuteTime": {
     "end_time": "2022-06-20T09:06:32.255254Z",
     "start_time": "2022-06-20T09:06:32.202503Z"
    }
   },
   "outputs": [
    {
     "data": {
      "text/plain": [
       "array([0., 1.])"
      ]
     },
     "execution_count": 18,
     "metadata": {},
     "output_type": "execute_result"
    }
   ],
   "source": [
    "df_plot['junctionAnnotated_kmer'].unique()"
   ]
  },
  {
   "cell_type": "code",
   "execution_count": 19,
   "metadata": {
    "ExecuteTime": {
     "end_time": "2022-06-20T09:06:35.222178Z",
     "start_time": "2022-06-20T09:06:32.721905Z"
    }
   },
   "outputs": [
    {
     "name": "stdout",
     "output_type": "stream",
     "text": [
      "number of kmers 4001\n"
     ]
    },
    {
     "data": {
      "text/plain": [
       "<AxesSubplot:xlabel='recurrence', ylabel='Count'>"
      ]
     },
     "execution_count": 19,
     "metadata": {},
     "output_type": "execute_result"
    },
    {
     "data": {
      "image/png": "[encoded data removed]",
      "text/plain": [
       "<Figure size 432x288 with 1 Axes>"
      ]
     },
     "metadata": {
      "needs_background": "light"
     },
     "output_type": "display_data"
    }
   ],
   "source": [
    "tmp = df_plot.loc[df_plot['junctionAnnotated_kmer'] == 0\n",
    "                   & (df_plot['recurrence'] > 0), \n",
    "                  ['recurrence', 'kmer']].drop_duplicates()\n",
    "print('number of kmers', tmp.shape[0])\n",
    "sns.histplot(data = tmp, x = 'recurrence', bins = 100)"
   ]
  },
  {
   "cell_type": "code",
   "execution_count": 22,
   "metadata": {
    "ExecuteTime": {
     "end_time": "2022-06-20T09:07:54.309205Z",
     "start_time": "2022-06-20T09:07:54.277618Z"
    },
    "collapsed": true
   },
   "outputs": [
    {
     "ename": "KeyError",
     "evalue": "'junctionAnnotated'",
     "output_type": "error",
     "traceback": [
      "\u001b[0;31m---------------------------------------------------------------------------\u001b[0m",
      "\u001b[0;31mKeyError\u001b[0m                                  Traceback (most recent call last)",
      "\u001b[0;32m~/software/anaconda3/envs/myimmuno3_light/lib/python3.8/site-packages/pandas/core/indexes/base.py\u001b[0m in \u001b[0;36mget_loc\u001b[0;34m(self, key, method, tolerance)\u001b[0m\n\u001b[1;32m   2894\u001b[0m             \u001b[0;32mtry\u001b[0m\u001b[0;34m:\u001b[0m\u001b[0;34m\u001b[0m\u001b[0;34m\u001b[0m\u001b[0m\n\u001b[0;32m-> 2895\u001b[0;31m                 \u001b[0;32mreturn\u001b[0m \u001b[0mself\u001b[0m\u001b[0;34m.\u001b[0m\u001b[0m_engine\u001b[0m\u001b[0;34m.\u001b[0m\u001b[0mget_loc\u001b[0m\u001b[0;34m(\u001b[0m\u001b[0mcasted_key\u001b[0m\u001b[0;34m)\u001b[0m\u001b[0;34m\u001b[0m\u001b[0;34m\u001b[0m\u001b[0m\n\u001b[0m\u001b[1;32m   2896\u001b[0m             \u001b[0;32mexcept\u001b[0m \u001b[0mKeyError\u001b[0m \u001b[0;32mas\u001b[0m \u001b[0merr\u001b[0m\u001b[0;34m:\u001b[0m\u001b[0;34m\u001b[0m\u001b[0;34m\u001b[0m\u001b[0m\n",
      "\u001b[0;32mpandas/_libs/index.pyx\u001b[0m in \u001b[0;36mpandas._libs.index.IndexEngine.get_loc\u001b[0;34m()\u001b[0m\n",
      "\u001b[0;32mpandas/_libs/index.pyx\u001b[0m in \u001b[0;36mpandas._libs.index.IndexEngine.get_loc\u001b[0;34m()\u001b[0m\n",
      "\u001b[0;32mpandas/_libs/hashtable_class_helper.pxi\u001b[0m in \u001b[0;36mpandas._libs.hashtable.PyObjectHashTable.get_item\u001b[0;34m()\u001b[0m\n",
      "\u001b[0;32mpandas/_libs/hashtable_class_helper.pxi\u001b[0m in \u001b[0;36mpandas._libs.hashtable.PyObjectHashTable.get_item\u001b[0;34m()\u001b[0m\n",
      "\u001b[0;31mKeyError\u001b[0m: 'junctionAnnotated'",
      "\nThe above exception was the direct cause of the following exception:\n",
      "\u001b[0;31mKeyError\u001b[0m                                  Traceback (most recent call last)",
      "\u001b[0;32m<ipython-input-22-aaf4deb91a79>\u001b[0m in \u001b[0;36m<module>\u001b[0;34m\u001b[0m\n\u001b[0;32m----> 1\u001b[0;31m \u001b[0mdf_plot\u001b[0m\u001b[0;34m[\u001b[0m\u001b[0;34m'junctionAnnotated'\u001b[0m\u001b[0;34m]\u001b[0m\u001b[0;34m.\u001b[0m\u001b[0munique\u001b[0m\u001b[0;34m(\u001b[0m\u001b[0;34m)\u001b[0m\u001b[0;34m\u001b[0m\u001b[0;34m\u001b[0m\u001b[0m\n\u001b[0m",
      "\u001b[0;32m~/software/anaconda3/envs/myimmuno3_light/lib/python3.8/site-packages/pandas/core/frame.py\u001b[0m in \u001b[0;36m__getitem__\u001b[0;34m(self, key)\u001b[0m\n\u001b[1;32m   2904\u001b[0m             \u001b[0;32mif\u001b[0m \u001b[0mself\u001b[0m\u001b[0;34m.\u001b[0m\u001b[0mcolumns\u001b[0m\u001b[0;34m.\u001b[0m\u001b[0mnlevels\u001b[0m \u001b[0;34m>\u001b[0m \u001b[0;36m1\u001b[0m\u001b[0;34m:\u001b[0m\u001b[0;34m\u001b[0m\u001b[0;34m\u001b[0m\u001b[0m\n\u001b[1;32m   2905\u001b[0m                 \u001b[0;32mreturn\u001b[0m \u001b[0mself\u001b[0m\u001b[0;34m.\u001b[0m\u001b[0m_getitem_multilevel\u001b[0m\u001b[0;34m(\u001b[0m\u001b[0mkey\u001b[0m\u001b[0;34m)\u001b[0m\u001b[0;34m\u001b[0m\u001b[0;34m\u001b[0m\u001b[0m\n\u001b[0;32m-> 2906\u001b[0;31m             \u001b[0mindexer\u001b[0m \u001b[0;34m=\u001b[0m \u001b[0mself\u001b[0m\u001b[0;34m.\u001b[0m\u001b[0mcolumns\u001b[0m\u001b[0;34m.\u001b[0m\u001b[0mget_loc\u001b[0m\u001b[0;34m(\u001b[0m\u001b[0mkey\u001b[0m\u001b[0;34m)\u001b[0m\u001b[0;34m\u001b[0m\u001b[0;34m\u001b[0m\u001b[0m\n\u001b[0m\u001b[1;32m   2907\u001b[0m             \u001b[0;32mif\u001b[0m \u001b[0mis_integer\u001b[0m\u001b[0;34m(\u001b[0m\u001b[0mindexer\u001b[0m\u001b[0;34m)\u001b[0m\u001b[0;34m:\u001b[0m\u001b[0;34m\u001b[0m\u001b[0;34m\u001b[0m\u001b[0m\n\u001b[1;32m   2908\u001b[0m                 \u001b[0mindexer\u001b[0m \u001b[0;34m=\u001b[0m \u001b[0;34m[\u001b[0m\u001b[0mindexer\u001b[0m\u001b[0;34m]\u001b[0m\u001b[0;34m\u001b[0m\u001b[0;34m\u001b[0m\u001b[0m\n",
      "\u001b[0;32m~/software/anaconda3/envs/myimmuno3_light/lib/python3.8/site-packages/pandas/core/indexes/base.py\u001b[0m in \u001b[0;36mget_loc\u001b[0;34m(self, key, method, tolerance)\u001b[0m\n\u001b[1;32m   2895\u001b[0m                 \u001b[0;32mreturn\u001b[0m \u001b[0mself\u001b[0m\u001b[0;34m.\u001b[0m\u001b[0m_engine\u001b[0m\u001b[0;34m.\u001b[0m\u001b[0mget_loc\u001b[0m\u001b[0;34m(\u001b[0m\u001b[0mcasted_key\u001b[0m\u001b[0;34m)\u001b[0m\u001b[0;34m\u001b[0m\u001b[0;34m\u001b[0m\u001b[0m\n\u001b[1;32m   2896\u001b[0m             \u001b[0;32mexcept\u001b[0m \u001b[0mKeyError\u001b[0m \u001b[0;32mas\u001b[0m \u001b[0merr\u001b[0m\u001b[0;34m:\u001b[0m\u001b[0;34m\u001b[0m\u001b[0;34m\u001b[0m\u001b[0m\n\u001b[0;32m-> 2897\u001b[0;31m                 \u001b[0;32mraise\u001b[0m \u001b[0mKeyError\u001b[0m\u001b[0;34m(\u001b[0m\u001b[0mkey\u001b[0m\u001b[0;34m)\u001b[0m \u001b[0;32mfrom\u001b[0m \u001b[0merr\u001b[0m\u001b[0;34m\u001b[0m\u001b[0;34m\u001b[0m\u001b[0m\n\u001b[0m\u001b[1;32m   2898\u001b[0m \u001b[0;34m\u001b[0m\u001b[0m\n\u001b[1;32m   2899\u001b[0m         \u001b[0;32mif\u001b[0m \u001b[0mtolerance\u001b[0m \u001b[0;32mis\u001b[0m \u001b[0;32mnot\u001b[0m \u001b[0;32mNone\u001b[0m\u001b[0;34m:\u001b[0m\u001b[0;34m\u001b[0m\u001b[0;34m\u001b[0m\u001b[0m\n",
      "\u001b[0;31mKeyError\u001b[0m: 'junctionAnnotated'"
     ]
    }
   ],
   "source": [
    "df_plot['junctionAnnotated'].unique()"
   ]
  },
  {
   "cell_type": "code",
   "execution_count": 23,
   "metadata": {
    "ExecuteTime": {
     "end_time": "2022-06-20T09:07:54.582381Z",
     "start_time": "2022-06-20T09:07:54.559684Z"
    },
    "collapsed": true
   },
   "outputs": [
    {
     "ename": "KeyError",
     "evalue": "'junctionAnnotated'",
     "output_type": "error",
     "traceback": [
      "\u001b[0;31m---------------------------------------------------------------------------\u001b[0m",
      "\u001b[0;31mKeyError\u001b[0m                                  Traceback (most recent call last)",
      "\u001b[0;32m~/software/anaconda3/envs/myimmuno3_light/lib/python3.8/site-packages/pandas/core/indexes/base.py\u001b[0m in \u001b[0;36mget_loc\u001b[0;34m(self, key, method, tolerance)\u001b[0m\n\u001b[1;32m   2894\u001b[0m             \u001b[0;32mtry\u001b[0m\u001b[0;34m:\u001b[0m\u001b[0;34m\u001b[0m\u001b[0;34m\u001b[0m\u001b[0m\n\u001b[0;32m-> 2895\u001b[0;31m                 \u001b[0;32mreturn\u001b[0m \u001b[0mself\u001b[0m\u001b[0;34m.\u001b[0m\u001b[0m_engine\u001b[0m\u001b[0;34m.\u001b[0m\u001b[0mget_loc\u001b[0m\u001b[0;34m(\u001b[0m\u001b[0mcasted_key\u001b[0m\u001b[0;34m)\u001b[0m\u001b[0;34m\u001b[0m\u001b[0;34m\u001b[0m\u001b[0m\n\u001b[0m\u001b[1;32m   2896\u001b[0m             \u001b[0;32mexcept\u001b[0m \u001b[0mKeyError\u001b[0m \u001b[0;32mas\u001b[0m \u001b[0merr\u001b[0m\u001b[0;34m:\u001b[0m\u001b[0;34m\u001b[0m\u001b[0;34m\u001b[0m\u001b[0m\n",
      "\u001b[0;32mpandas/_libs/index.pyx\u001b[0m in \u001b[0;36mpandas._libs.index.IndexEngine.get_loc\u001b[0;34m()\u001b[0m\n",
      "\u001b[0;32mpandas/_libs/index.pyx\u001b[0m in \u001b[0;36mpandas._libs.index.IndexEngine.get_loc\u001b[0;34m()\u001b[0m\n",
      "\u001b[0;32mpandas/_libs/hashtable_class_helper.pxi\u001b[0m in \u001b[0;36mpandas._libs.hashtable.PyObjectHashTable.get_item\u001b[0;34m()\u001b[0m\n",
      "\u001b[0;32mpandas/_libs/hashtable_class_helper.pxi\u001b[0m in \u001b[0;36mpandas._libs.hashtable.PyObjectHashTable.get_item\u001b[0;34m()\u001b[0m\n",
      "\u001b[0;31mKeyError\u001b[0m: 'junctionAnnotated'",
      "\nThe above exception was the direct cause of the following exception:\n",
      "\u001b[0;31mKeyError\u001b[0m                                  Traceback (most recent call last)",
      "\u001b[0;32m<ipython-input-23-1e57aad17328>\u001b[0m in \u001b[0;36m<module>\u001b[0;34m\u001b[0m\n\u001b[0;32m----> 1\u001b[0;31m tmp = df_plot.loc[((df_plot['junctionAnnotated'] == '0') | \n\u001b[0m\u001b[1;32m      2\u001b[0m                    (df_plot['junctionAnnotated'] == '0/nan') ) &\n\u001b[1;32m      3\u001b[0m                    \u001b[0;34m(\u001b[0m\u001b[0mdf_plot\u001b[0m\u001b[0;34m[\u001b[0m\u001b[0;34m'recurrence'\u001b[0m\u001b[0;34m]\u001b[0m \u001b[0;34m>\u001b[0m \u001b[0;36m0\u001b[0m\u001b[0;34m)\u001b[0m \u001b[0;34m&\u001b[0m\u001b[0;34m\u001b[0m\u001b[0;34m\u001b[0m\u001b[0m\n\u001b[1;32m      4\u001b[0m                   \u001b[0;34m(\u001b[0m\u001b[0mdf_plot\u001b[0m\u001b[0;34m[\u001b[0m\u001b[0;34m'GTEX_presence'\u001b[0m\u001b[0;34m]\u001b[0m \u001b[0;34m==\u001b[0m \u001b[0;36m0\u001b[0m\u001b[0;34m)\u001b[0m \u001b[0;34m,\u001b[0m\u001b[0;34m\u001b[0m\u001b[0;34m\u001b[0m\u001b[0m\n\u001b[1;32m      5\u001b[0m                   ['recurrence', 'kmer']].drop_duplicates()\n",
      "\u001b[0;32m~/software/anaconda3/envs/myimmuno3_light/lib/python3.8/site-packages/pandas/core/frame.py\u001b[0m in \u001b[0;36m__getitem__\u001b[0;34m(self, key)\u001b[0m\n\u001b[1;32m   2904\u001b[0m             \u001b[0;32mif\u001b[0m \u001b[0mself\u001b[0m\u001b[0;34m.\u001b[0m\u001b[0mcolumns\u001b[0m\u001b[0;34m.\u001b[0m\u001b[0mnlevels\u001b[0m \u001b[0;34m>\u001b[0m \u001b[0;36m1\u001b[0m\u001b[0;34m:\u001b[0m\u001b[0;34m\u001b[0m\u001b[0;34m\u001b[0m\u001b[0m\n\u001b[1;32m   2905\u001b[0m                 \u001b[0;32mreturn\u001b[0m \u001b[0mself\u001b[0m\u001b[0;34m.\u001b[0m\u001b[0m_getitem_multilevel\u001b[0m\u001b[0;34m(\u001b[0m\u001b[0mkey\u001b[0m\u001b[0;34m)\u001b[0m\u001b[0;34m\u001b[0m\u001b[0;34m\u001b[0m\u001b[0m\n\u001b[0;32m-> 2906\u001b[0;31m             \u001b[0mindexer\u001b[0m \u001b[0;34m=\u001b[0m \u001b[0mself\u001b[0m\u001b[0;34m.\u001b[0m\u001b[0mcolumns\u001b[0m\u001b[0;34m.\u001b[0m\u001b[0mget_loc\u001b[0m\u001b[0;34m(\u001b[0m\u001b[0mkey\u001b[0m\u001b[0;34m)\u001b[0m\u001b[0;34m\u001b[0m\u001b[0;34m\u001b[0m\u001b[0m\n\u001b[0m\u001b[1;32m   2907\u001b[0m             \u001b[0;32mif\u001b[0m \u001b[0mis_integer\u001b[0m\u001b[0;34m(\u001b[0m\u001b[0mindexer\u001b[0m\u001b[0;34m)\u001b[0m\u001b[0;34m:\u001b[0m\u001b[0;34m\u001b[0m\u001b[0;34m\u001b[0m\u001b[0m\n\u001b[1;32m   2908\u001b[0m                 \u001b[0mindexer\u001b[0m \u001b[0;34m=\u001b[0m \u001b[0;34m[\u001b[0m\u001b[0mindexer\u001b[0m\u001b[0;34m]\u001b[0m\u001b[0;34m\u001b[0m\u001b[0;34m\u001b[0m\u001b[0m\n",
      "\u001b[0;32m~/software/anaconda3/envs/myimmuno3_light/lib/python3.8/site-packages/pandas/core/indexes/base.py\u001b[0m in \u001b[0;36mget_loc\u001b[0;34m(self, key, method, tolerance)\u001b[0m\n\u001b[1;32m   2895\u001b[0m                 \u001b[0;32mreturn\u001b[0m \u001b[0mself\u001b[0m\u001b[0;34m.\u001b[0m\u001b[0m_engine\u001b[0m\u001b[0;34m.\u001b[0m\u001b[0mget_loc\u001b[0m\u001b[0;34m(\u001b[0m\u001b[0mcasted_key\u001b[0m\u001b[0;34m)\u001b[0m\u001b[0;34m\u001b[0m\u001b[0;34m\u001b[0m\u001b[0m\n\u001b[1;32m   2896\u001b[0m             \u001b[0;32mexcept\u001b[0m \u001b[0mKeyError\u001b[0m \u001b[0;32mas\u001b[0m \u001b[0merr\u001b[0m\u001b[0;34m:\u001b[0m\u001b[0;34m\u001b[0m\u001b[0;34m\u001b[0m\u001b[0m\n\u001b[0;32m-> 2897\u001b[0;31m                 \u001b[0;32mraise\u001b[0m \u001b[0mKeyError\u001b[0m\u001b[0;34m(\u001b[0m\u001b[0mkey\u001b[0m\u001b[0;34m)\u001b[0m \u001b[0;32mfrom\u001b[0m \u001b[0merr\u001b[0m\u001b[0;34m\u001b[0m\u001b[0;34m\u001b[0m\u001b[0m\n\u001b[0m\u001b[1;32m   2898\u001b[0m \u001b[0;34m\u001b[0m\u001b[0m\n\u001b[1;32m   2899\u001b[0m         \u001b[0;32mif\u001b[0m \u001b[0mtolerance\u001b[0m \u001b[0;32mis\u001b[0m \u001b[0;32mnot\u001b[0m \u001b[0;32mNone\u001b[0m\u001b[0;34m:\u001b[0m\u001b[0;34m\u001b[0m\u001b[0;34m\u001b[0m\u001b[0m\n",
      "\u001b[0;31mKeyError\u001b[0m: 'junctionAnnotated'"
     ]
    }
   ],
   "source": [
    "tmp = df_plot.loc[((df_plot['junctionAnnotated'] == '0') | \n",
    "                   (df_plot['junctionAnnotated'] == '0/nan') ) &\n",
    "                   (df_plot['recurrence'] > 0) &\n",
    "                  (df_plot['GTEX_presence'] == 0) , \n",
    "                  ['recurrence', 'kmer']].drop_duplicates()\n",
    "print('number of kmers', tmp.shape[0])\n",
    "sns.histplot(data = tmp, x = 'recurrence', bins = 100)"
   ]
  },
  {
   "cell_type": "markdown",
   "metadata": {
    "ExecuteTime": {
     "end_time": "2022-06-02T11:36:36.558410Z",
     "start_time": "2022-06-02T11:36:36.552490Z"
    }
   },
   "source": [
    "### Remove if kmer comes from an annotated junction (or on the same 3-exon peptide) \n",
    "### Remove GTEX junctions with graph "
   ]
  },
  {
   "cell_type": "code",
   "execution_count": 24,
   "metadata": {
    "ExecuteTime": {
     "end_time": "2022-06-20T09:08:03.911019Z",
     "start_time": "2022-06-20T09:08:03.119090Z"
    }
   },
   "outputs": [
    {
     "name": "stdout",
     "output_type": "stream",
     "text": [
      "number of kmers 1398\n"
     ]
    },
    {
     "data": {
      "text/plain": [
       "<AxesSubplot:xlabel='recurrence', ylabel='Count'>"
      ]
     },
     "execution_count": 24,
     "metadata": {},
     "output_type": "execute_result"
    },
    {
     "data": {
      "image/png": "[encoded data removed]",
      "text/plain": [
       "<Figure size 432x288 with 1 Axes>"
      ]
     },
     "metadata": {
      "needs_background": "light"
     },
     "output_type": "display_data"
    }
   ],
   "source": [
    "tmp = df_plot.loc[(df_plot['GTEX_presence'] == 0) &\n",
    "                  (df_plot['junctionAnnotated_kmer'] == 0) &\n",
    "                  (df_plot['recurrence'] > 0), \n",
    "                  ['recurrence', 'kmer']].drop_duplicates()\n",
    "print('number of kmers', tmp.shape[0])\n",
    "sns.histplot(data = tmp, x = 'recurrence', bins = 100)"
   ]
  },
  {
   "cell_type": "code",
   "execution_count": 25,
   "metadata": {
    "ExecuteTime": {
     "end_time": "2022-06-20T09:09:37.436293Z",
     "start_time": "2022-06-20T09:09:36.666222Z"
    }
   },
   "outputs": [
    {
     "name": "stdout",
     "output_type": "stream",
     "text": [
      "number of kmers 1244\n"
     ]
    },
    {
     "data": {
      "text/plain": [
       "<AxesSubplot:xlabel='recurrence', ylabel='Count'>"
      ]
     },
     "execution_count": 25,
     "metadata": {},
     "output_type": "execute_result"
    },
    {
     "data": {
      "image/png": "[encoded data removed]",
      "text/plain": [
       "<Figure size 432x288 with 1 Axes>"
      ]
     },
     "metadata": {
      "needs_background": "light"
     },
     "output_type": "display_data"
    }
   ],
   "source": [
    "tmp = df_plot.loc[(df_plot['GTEX_presence'] == 0) &\n",
    "                  (df_plot['junctionAnnotated_kmer'] == 0) &\n",
    "                  (df_plot['recurrence'] > 0) &\n",
    "                  (df_plot['recurrence'] < 30), \n",
    "                  ['recurrence', 'kmer']].drop_duplicates()\n",
    "print('number of kmers', tmp.shape[0])\n",
    "sns.histplot(data = tmp, x = 'recurrence', bins = 100)"
   ]
  },
  {
   "cell_type": "code",
   "execution_count": 85,
   "metadata": {
    "ExecuteTime": {
     "end_time": "2022-06-20T09:46:01.598355Z",
     "start_time": "2022-06-20T09:46:01.208075Z"
    }
   },
   "outputs": [
    {
     "name": "stdout",
     "output_type": "stream",
     "text": [
      "number of kmers 280\n"
     ]
    },
    {
     "data": {
      "text/plain": [
       "<AxesSubplot:xlabel='recurrence', ylabel='Count'>"
      ]
     },
     "execution_count": 85,
     "metadata": {},
     "output_type": "execute_result"
    },
    {
     "data": {
      "image/png": "[encoded data removed]",
      "text/plain": [
       "<Figure size 432x288 with 1 Axes>"
      ]
     },
     "metadata": {
      "needs_background": "light"
     },
     "output_type": "display_data"
    }
   ],
   "source": [
    "tmp = df_plot.loc[(df_plot['GTEX_presence'] == 0) &\n",
    "                  (df_plot['junctionAnnotated_kmer'] == 0) &\n",
    "                  (df_plot['recurrence'] > 10), \n",
    "                  ['recurrence', 'kmer']].drop_duplicates()\n",
    "print('number of kmers', tmp.shape[0])\n",
    "sns.histplot(data = tmp, x = 'recurrence', bins = 100)"
   ]
  },
  {
   "cell_type": "code",
   "execution_count": 27,
   "metadata": {
    "ExecuteTime": {
     "end_time": "2022-06-20T09:10:33.732322Z",
     "start_time": "2022-06-20T09:10:33.244184Z"
    }
   },
   "outputs": [
    {
     "data": {
      "text/html": [
       "<div>\n",
       "<style scoped>\n",
       "    .dataframe tbody tr th:only-of-type {\n",
       "        vertical-align: middle;\n",
       "    }\n",
       "\n",
       "    .dataframe tbody tr th {\n",
       "        vertical-align: top;\n",
       "    }\n",
       "\n",
       "    .dataframe thead th {\n",
       "        text-align: right;\n",
       "    }\n",
       "</style>\n",
       "<table border=\"1\" class=\"dataframe\">\n",
       "  <thead>\n",
       "    <tr style=\"text-align: right;\">\n",
       "      <th></th>\n",
       "      <th>recurrence</th>\n",
       "      <th>kmer</th>\n",
       "    </tr>\n",
       "  </thead>\n",
       "  <tbody>\n",
       "    <tr>\n",
       "      <th>1</th>\n",
       "      <td>970</td>\n",
       "      <td>AAAALQQHS</td>\n",
       "    </tr>\n",
       "    <tr>\n",
       "      <th>125</th>\n",
       "      <td>146</td>\n",
       "      <td>AAGGLHGEF</td>\n",
       "    </tr>\n",
       "    <tr>\n",
       "      <th>179</th>\n",
       "      <td>944</td>\n",
       "      <td>AALARWRAN</td>\n",
       "    </tr>\n",
       "    <tr>\n",
       "      <th>180</th>\n",
       "      <td>76</td>\n",
       "      <td>AALLLGAPH</td>\n",
       "    </tr>\n",
       "    <tr>\n",
       "      <th>421</th>\n",
       "      <td>1068</td>\n",
       "      <td>ACKVIVTTG</td>\n",
       "    </tr>\n",
       "    <tr>\n",
       "      <th>...</th>\n",
       "      <td>...</td>\n",
       "      <td>...</td>\n",
       "    </tr>\n",
       "    <tr>\n",
       "      <th>75385</th>\n",
       "      <td>195</td>\n",
       "      <td>WTIGDDQDL</td>\n",
       "    </tr>\n",
       "    <tr>\n",
       "      <th>76096</th>\n",
       "      <td>810</td>\n",
       "      <td>YHPNPASVS</td>\n",
       "    </tr>\n",
       "    <tr>\n",
       "      <th>76198</th>\n",
       "      <td>49</td>\n",
       "      <td>YKIYRWTLA</td>\n",
       "    </tr>\n",
       "    <tr>\n",
       "      <th>76829</th>\n",
       "      <td>49</td>\n",
       "      <td>YRWTLAQPP</td>\n",
       "    </tr>\n",
       "    <tr>\n",
       "      <th>77028</th>\n",
       "      <td>56</td>\n",
       "      <td>YTIKSKAVR</td>\n",
       "    </tr>\n",
       "  </tbody>\n",
       "</table>\n",
       "<p>154 rows × 2 columns</p>\n",
       "</div>"
      ],
      "text/plain": [
       "       recurrence       kmer\n",
       "1             970  AAAALQQHS\n",
       "125           146  AAGGLHGEF\n",
       "179           944  AALARWRAN\n",
       "180            76  AALLLGAPH\n",
       "421          1068  ACKVIVTTG\n",
       "...           ...        ...\n",
       "75385         195  WTIGDDQDL\n",
       "76096         810  YHPNPASVS\n",
       "76198          49  YKIYRWTLA\n",
       "76829          49  YRWTLAQPP\n",
       "77028          56  YTIKSKAVR\n",
       "\n",
       "[154 rows x 2 columns]"
      ]
     },
     "execution_count": 27,
     "metadata": {},
     "output_type": "execute_result"
    }
   ],
   "source": [
    "tmp"
   ]
  },
  {
   "cell_type": "code",
   "execution_count": 86,
   "metadata": {
    "ExecuteTime": {
     "end_time": "2022-06-20T09:46:12.983511Z",
     "start_time": "2022-06-20T09:46:12.174641Z"
    }
   },
   "outputs": [],
   "source": [
    "## DEBUG: high recurrence, junction non annotated, not in GTEX\n",
    "remaining_recurrenct = df_plot.merge(tmp, on = 'kmer', how = 'right')\n",
    "\n",
    "## DEBUG: high recurrence, junction non annotated, not in GTEX\n",
    "## Look if they come from >1 junction position \n",
    "## (bug in Andy files, = bug in junction annotated) \n",
    "\n",
    "remaining_recurrenct2 = pd.DataFrame.from_records(\n",
    "    remaining_recurrenct.groupby(['kmer',  'jx_pos']).count().index)\n",
    "\n",
    "display(remaining_recurrenct2.head())\n",
    "\n",
    "remaining_recurrenct3 = remaining_recurrenct2.groupby([0]).count().reset_index().rename(\n",
    "    {0:'kmer', 1:'number_jx_pos'}, axis = 1)\n",
    "\n",
    "remaining_recurrenct3 = remaining_recurrenct3.loc[\n",
    "    remaining_recurrenct3['number_jx_pos'] == 1, :]\n",
    "\n",
    "remaining_recurrenct3 = df_plot.merge(remaining_recurrenct3, on = 'kmer', how = 'right')\n",
    "\n",
    "display(remaining_recurrenct3.head())\n",
    "display(remaining_recurrenct3.shape)\n",
    "display(remaining_recurrenct3['jx_coord'].unique().shape)"
   ]
  },
  {
   "cell_type": "code",
   "execution_count": 91,
   "metadata": {
    "ExecuteTime": {
     "end_time": "2022-06-20T09:47:50.741349Z",
     "start_time": "2022-06-20T09:47:50.544857Z"
    }
   },
   "outputs": [
    {
     "data": {
      "text/plain": [
       "(array([2490.,  240.,  180.,    0.,   15.,    0.,   15.,    0.,    0.,\n",
       "          60.]),\n",
       " array([ 11. ,  84.9, 158.8, 232.7, 306.6, 380.5, 454.4, 528.3, 602.2,\n",
       "        676.1, 750. ]),\n",
       " <BarContainer object of 10 artists>)"
      ]
     },
     "execution_count": 91,
     "metadata": {},
     "output_type": "execute_result"
    },
    {
     "data": {
      "image/png": "[encoded data removed]",
      "text/plain": [
       "<Figure size 432x288 with 1 Axes>"
      ]
     },
     "metadata": {
      "needs_background": "light"
     },
     "output_type": "display_data"
    }
   ],
   "source": [
    "plt.hist(remaining_recurrenct3['recurrence'])"
   ]
  },
  {
   "cell_type": "code",
   "execution_count": 103,
   "metadata": {
    "ExecuteTime": {
     "end_time": "2022-06-20T12:15:40.919443Z",
     "start_time": "2022-06-20T12:15:40.887592Z"
    }
   },
   "outputs": [
    {
     "data": {
      "text/html": [
       "<div>\n",
       "<style scoped>\n",
       "    .dataframe tbody tr th:only-of-type {\n",
       "        vertical-align: middle;\n",
       "    }\n",
       "\n",
       "    .dataframe tbody tr th {\n",
       "        vertical-align: top;\n",
       "    }\n",
       "\n",
       "    .dataframe thead th {\n",
       "        text-align: right;\n",
       "    }\n",
       "</style>\n",
       "<table border=\"1\" class=\"dataframe\">\n",
       "  <thead>\n",
       "    <tr style=\"text-align: right;\">\n",
       "      <th></th>\n",
       "      <th>&gt;pepID</th>\n",
       "      <th>jx_pos</th>\n",
       "      <th>between_codons</th>\n",
       "      <th>includes_5'</th>\n",
       "      <th>includes_3'</th>\n",
       "      <th>gene</th>\n",
       "      <th>jx_coord</th>\n",
       "      <th>kmer</th>\n",
       "      <th>peptide</th>\n",
       "      <th>sample</th>\n",
       "      <th>...</th>\n",
       "      <th>TCGAXXA89901A11RA36F07all</th>\n",
       "      <th>TCGAXXA89A01A11RA36F07all</th>\n",
       "      <th>TCGAZ7A8R501A42RA41B07all</th>\n",
       "      <th>TCGAZ7A8R601A11RA41B07all</th>\n",
       "      <th>isCrossJunction</th>\n",
       "      <th>junctionAnnotated_kmer</th>\n",
       "      <th>readFrameAnnotated_kmer</th>\n",
       "      <th>recurrence</th>\n",
       "      <th>MHC-I binding status</th>\n",
       "      <th>number_jx_pos</th>\n",
       "    </tr>\n",
       "  </thead>\n",
       "  <tbody>\n",
       "    <tr>\n",
       "      <th>645</th>\n",
       "      <td>17036</td>\n",
       "      <td>33</td>\n",
       "      <td>0</td>\n",
       "      <td>0</td>\n",
       "      <td>1</td>\n",
       "      <td>ENSG00000147459.18</td>\n",
       "      <td>25411294_25411837</td>\n",
       "      <td>FNGDWLLSG</td>\n",
       "      <td>LAPPLPVRREAKAPPPPPPKARKSGIPTSEPGSQKRTHIFNGDWLL...</td>\n",
       "      <td>TCGABHA18V01A11RA12D07all</td>\n",
       "      <td>...</td>\n",
       "      <td>0.0</td>\n",
       "      <td>0.0</td>\n",
       "      <td>0.0</td>\n",
       "      <td>0.0</td>\n",
       "      <td>True</td>\n",
       "      <td>0.0</td>\n",
       "      <td>0</td>\n",
       "      <td>312</td>\n",
       "      <td>not binder</td>\n",
       "      <td>1</td>\n",
       "    </tr>\n",
       "    <tr>\n",
       "      <th>646</th>\n",
       "      <td>99664</td>\n",
       "      <td>33</td>\n",
       "      <td>0</td>\n",
       "      <td>0</td>\n",
       "      <td>1</td>\n",
       "      <td>ENSG00000147459.18</td>\n",
       "      <td>25411294_25411837</td>\n",
       "      <td>FNGDWLLSG</td>\n",
       "      <td>LAPPLPVRREAKAPPPPPPKARKSGIPTSEPGSQKRTHIFNGDWLL...</td>\n",
       "      <td>TCGABHA18V01A11RA12D07all</td>\n",
       "      <td>...</td>\n",
       "      <td>0.0</td>\n",
       "      <td>0.0</td>\n",
       "      <td>0.0</td>\n",
       "      <td>0.0</td>\n",
       "      <td>True</td>\n",
       "      <td>0.0</td>\n",
       "      <td>0</td>\n",
       "      <td>312</td>\n",
       "      <td>not binder</td>\n",
       "      <td>1</td>\n",
       "    </tr>\n",
       "    <tr>\n",
       "      <th>647</th>\n",
       "      <td>182292</td>\n",
       "      <td>33</td>\n",
       "      <td>0</td>\n",
       "      <td>0</td>\n",
       "      <td>1</td>\n",
       "      <td>ENSG00000147459.18</td>\n",
       "      <td>25411294_25411837</td>\n",
       "      <td>FNGDWLLSG</td>\n",
       "      <td>LAPPLPVRREAKAPPPPPPKARKSGIPTSEPGSQKRTHIFNGDWLL...</td>\n",
       "      <td>TCGABHA18V01A11RA12D07all</td>\n",
       "      <td>...</td>\n",
       "      <td>0.0</td>\n",
       "      <td>0.0</td>\n",
       "      <td>0.0</td>\n",
       "      <td>0.0</td>\n",
       "      <td>True</td>\n",
       "      <td>0.0</td>\n",
       "      <td>0</td>\n",
       "      <td>312</td>\n",
       "      <td>not binder</td>\n",
       "      <td>1</td>\n",
       "    </tr>\n",
       "    <tr>\n",
       "      <th>648</th>\n",
       "      <td>17036</td>\n",
       "      <td>33</td>\n",
       "      <td>0</td>\n",
       "      <td>0</td>\n",
       "      <td>1</td>\n",
       "      <td>ENSG00000147459.18</td>\n",
       "      <td>25411294_25411837</td>\n",
       "      <td>FNGDWLLSG</td>\n",
       "      <td>LAPPLPVRREAKAPPPPPPKARKSGIPTSEPGSQKRTHIFNGDWLL...</td>\n",
       "      <td>TCGAC8A12P01A11RA11507all</td>\n",
       "      <td>...</td>\n",
       "      <td>0.0</td>\n",
       "      <td>0.0</td>\n",
       "      <td>0.0</td>\n",
       "      <td>0.0</td>\n",
       "      <td>True</td>\n",
       "      <td>0.0</td>\n",
       "      <td>0</td>\n",
       "      <td>312</td>\n",
       "      <td>not computed</td>\n",
       "      <td>1</td>\n",
       "    </tr>\n",
       "    <tr>\n",
       "      <th>649</th>\n",
       "      <td>99664</td>\n",
       "      <td>33</td>\n",
       "      <td>0</td>\n",
       "      <td>0</td>\n",
       "      <td>1</td>\n",
       "      <td>ENSG00000147459.18</td>\n",
       "      <td>25411294_25411837</td>\n",
       "      <td>FNGDWLLSG</td>\n",
       "      <td>LAPPLPVRREAKAPPPPPPKARKSGIPTSEPGSQKRTHIFNGDWLL...</td>\n",
       "      <td>TCGAC8A12P01A11RA11507all</td>\n",
       "      <td>...</td>\n",
       "      <td>0.0</td>\n",
       "      <td>0.0</td>\n",
       "      <td>0.0</td>\n",
       "      <td>0.0</td>\n",
       "      <td>True</td>\n",
       "      <td>0.0</td>\n",
       "      <td>0</td>\n",
       "      <td>312</td>\n",
       "      <td>not computed</td>\n",
       "      <td>1</td>\n",
       "    </tr>\n",
       "    <tr>\n",
       "      <th>...</th>\n",
       "      <td>...</td>\n",
       "      <td>...</td>\n",
       "      <td>...</td>\n",
       "      <td>...</td>\n",
       "      <td>...</td>\n",
       "      <td>...</td>\n",
       "      <td>...</td>\n",
       "      <td>...</td>\n",
       "      <td>...</td>\n",
       "      <td>...</td>\n",
       "      <td>...</td>\n",
       "      <td>...</td>\n",
       "      <td>...</td>\n",
       "      <td>...</td>\n",
       "      <td>...</td>\n",
       "      <td>...</td>\n",
       "      <td>...</td>\n",
       "      <td>...</td>\n",
       "      <td>...</td>\n",
       "      <td>...</td>\n",
       "      <td>...</td>\n",
       "    </tr>\n",
       "    <tr>\n",
       "      <th>2350</th>\n",
       "      <td>150603</td>\n",
       "      <td>118</td>\n",
       "      <td>0</td>\n",
       "      <td>0</td>\n",
       "      <td>1</td>\n",
       "      <td>ENSG00000128159.12</td>\n",
       "      <td>50221518_50221445</td>\n",
       "      <td>SPQSGSLGR</td>\n",
       "      <td>VTSPGPEHPEGGQGCDSGSAEQHSPAWDGWNRPGLLTPQPLKPLAV...</td>\n",
       "      <td>TCGAA2A0SX01A12RA08407all</td>\n",
       "      <td>...</td>\n",
       "      <td>3.0</td>\n",
       "      <td>1.0</td>\n",
       "      <td>0.0</td>\n",
       "      <td>0.0</td>\n",
       "      <td>True</td>\n",
       "      <td>0.0</td>\n",
       "      <td>0</td>\n",
       "      <td>480</td>\n",
       "      <td>not computed</td>\n",
       "      <td>1</td>\n",
       "    </tr>\n",
       "    <tr>\n",
       "      <th>2351</th>\n",
       "      <td>233231</td>\n",
       "      <td>118</td>\n",
       "      <td>0</td>\n",
       "      <td>0</td>\n",
       "      <td>1</td>\n",
       "      <td>ENSG00000128159.12</td>\n",
       "      <td>50221518_50221445</td>\n",
       "      <td>SPQSGSLGR</td>\n",
       "      <td>VTSPGPEHPEGGQGCDSGSAEQHSPAWDGWNRPGLLTPQPLKPLAV...</td>\n",
       "      <td>TCGAA2A0SX01A12RA08407all</td>\n",
       "      <td>...</td>\n",
       "      <td>3.0</td>\n",
       "      <td>1.0</td>\n",
       "      <td>0.0</td>\n",
       "      <td>0.0</td>\n",
       "      <td>True</td>\n",
       "      <td>0.0</td>\n",
       "      <td>0</td>\n",
       "      <td>480</td>\n",
       "      <td>not computed</td>\n",
       "      <td>1</td>\n",
       "    </tr>\n",
       "    <tr>\n",
       "      <th>2352</th>\n",
       "      <td>67975</td>\n",
       "      <td>118</td>\n",
       "      <td>0</td>\n",
       "      <td>0</td>\n",
       "      <td>1</td>\n",
       "      <td>ENSG00000128159.12</td>\n",
       "      <td>50221518_50221445</td>\n",
       "      <td>SPQSGSLGR</td>\n",
       "      <td>VTSPGPEHPEGGQGCDSGSAEQHSPAWDGWNRPGLLTPQPLKPLAV...</td>\n",
       "      <td>TCGAA2A0D201A21RA03407all</td>\n",
       "      <td>...</td>\n",
       "      <td>3.0</td>\n",
       "      <td>1.0</td>\n",
       "      <td>0.0</td>\n",
       "      <td>0.0</td>\n",
       "      <td>True</td>\n",
       "      <td>0.0</td>\n",
       "      <td>0</td>\n",
       "      <td>480</td>\n",
       "      <td>weak binder</td>\n",
       "      <td>1</td>\n",
       "    </tr>\n",
       "    <tr>\n",
       "      <th>2353</th>\n",
       "      <td>150603</td>\n",
       "      <td>118</td>\n",
       "      <td>0</td>\n",
       "      <td>0</td>\n",
       "      <td>1</td>\n",
       "      <td>ENSG00000128159.12</td>\n",
       "      <td>50221518_50221445</td>\n",
       "      <td>SPQSGSLGR</td>\n",
       "      <td>VTSPGPEHPEGGQGCDSGSAEQHSPAWDGWNRPGLLTPQPLKPLAV...</td>\n",
       "      <td>TCGAA2A0D201A21RA03407all</td>\n",
       "      <td>...</td>\n",
       "      <td>3.0</td>\n",
       "      <td>1.0</td>\n",
       "      <td>0.0</td>\n",
       "      <td>0.0</td>\n",
       "      <td>True</td>\n",
       "      <td>0.0</td>\n",
       "      <td>0</td>\n",
       "      <td>480</td>\n",
       "      <td>weak binder</td>\n",
       "      <td>1</td>\n",
       "    </tr>\n",
       "    <tr>\n",
       "      <th>2354</th>\n",
       "      <td>233231</td>\n",
       "      <td>118</td>\n",
       "      <td>0</td>\n",
       "      <td>0</td>\n",
       "      <td>1</td>\n",
       "      <td>ENSG00000128159.12</td>\n",
       "      <td>50221518_50221445</td>\n",
       "      <td>SPQSGSLGR</td>\n",
       "      <td>VTSPGPEHPEGGQGCDSGSAEQHSPAWDGWNRPGLLTPQPLKPLAV...</td>\n",
       "      <td>TCGAA2A0D201A21RA03407all</td>\n",
       "      <td>...</td>\n",
       "      <td>3.0</td>\n",
       "      <td>1.0</td>\n",
       "      <td>0.0</td>\n",
       "      <td>0.0</td>\n",
       "      <td>True</td>\n",
       "      <td>0.0</td>\n",
       "      <td>0</td>\n",
       "      <td>480</td>\n",
       "      <td>weak binder</td>\n",
       "      <td>1</td>\n",
       "    </tr>\n",
       "  </tbody>\n",
       "</table>\n",
       "<p>90 rows × 1123 columns</p>\n",
       "</div>"
      ],
      "text/plain": [
       "      >pepID  jx_pos  between_codons  includes_5'  includes_3'  \\\n",
       "645    17036      33               0            0            1   \n",
       "646    99664      33               0            0            1   \n",
       "647   182292      33               0            0            1   \n",
       "648    17036      33               0            0            1   \n",
       "649    99664      33               0            0            1   \n",
       "...      ...     ...             ...          ...          ...   \n",
       "2350  150603     118               0            0            1   \n",
       "2351  233231     118               0            0            1   \n",
       "2352   67975     118               0            0            1   \n",
       "2353  150603     118               0            0            1   \n",
       "2354  233231     118               0            0            1   \n",
       "\n",
       "                    gene           jx_coord       kmer  \\\n",
       "645   ENSG00000147459.18  25411294_25411837  FNGDWLLSG   \n",
       "646   ENSG00000147459.18  25411294_25411837  FNGDWLLSG   \n",
       "647   ENSG00000147459.18  25411294_25411837  FNGDWLLSG   \n",
       "648   ENSG00000147459.18  25411294_25411837  FNGDWLLSG   \n",
       "649   ENSG00000147459.18  25411294_25411837  FNGDWLLSG   \n",
       "...                  ...                ...        ...   \n",
       "2350  ENSG00000128159.12  50221518_50221445  SPQSGSLGR   \n",
       "2351  ENSG00000128159.12  50221518_50221445  SPQSGSLGR   \n",
       "2352  ENSG00000128159.12  50221518_50221445  SPQSGSLGR   \n",
       "2353  ENSG00000128159.12  50221518_50221445  SPQSGSLGR   \n",
       "2354  ENSG00000128159.12  50221518_50221445  SPQSGSLGR   \n",
       "\n",
       "                                                peptide  \\\n",
       "645   LAPPLPVRREAKAPPPPPPKARKSGIPTSEPGSQKRTHIFNGDWLL...   \n",
       "646   LAPPLPVRREAKAPPPPPPKARKSGIPTSEPGSQKRTHIFNGDWLL...   \n",
       "647   LAPPLPVRREAKAPPPPPPKARKSGIPTSEPGSQKRTHIFNGDWLL...   \n",
       "648   LAPPLPVRREAKAPPPPPPKARKSGIPTSEPGSQKRTHIFNGDWLL...   \n",
       "649   LAPPLPVRREAKAPPPPPPKARKSGIPTSEPGSQKRTHIFNGDWLL...   \n",
       "...                                                 ...   \n",
       "2350  VTSPGPEHPEGGQGCDSGSAEQHSPAWDGWNRPGLLTPQPLKPLAV...   \n",
       "2351  VTSPGPEHPEGGQGCDSGSAEQHSPAWDGWNRPGLLTPQPLKPLAV...   \n",
       "2352  VTSPGPEHPEGGQGCDSGSAEQHSPAWDGWNRPGLLTPQPLKPLAV...   \n",
       "2353  VTSPGPEHPEGGQGCDSGSAEQHSPAWDGWNRPGLLTPQPLKPLAV...   \n",
       "2354  VTSPGPEHPEGGQGCDSGSAEQHSPAWDGWNRPGLLTPQPLKPLAV...   \n",
       "\n",
       "                         sample  ...  TCGAXXA89901A11RA36F07all  \\\n",
       "645   TCGABHA18V01A11RA12D07all  ...                        0.0   \n",
       "646   TCGABHA18V01A11RA12D07all  ...                        0.0   \n",
       "647   TCGABHA18V01A11RA12D07all  ...                        0.0   \n",
       "648   TCGAC8A12P01A11RA11507all  ...                        0.0   \n",
       "649   TCGAC8A12P01A11RA11507all  ...                        0.0   \n",
       "...                         ...  ...                        ...   \n",
       "2350  TCGAA2A0SX01A12RA08407all  ...                        3.0   \n",
       "2351  TCGAA2A0SX01A12RA08407all  ...                        3.0   \n",
       "2352  TCGAA2A0D201A21RA03407all  ...                        3.0   \n",
       "2353  TCGAA2A0D201A21RA03407all  ...                        3.0   \n",
       "2354  TCGAA2A0D201A21RA03407all  ...                        3.0   \n",
       "\n",
       "      TCGAXXA89A01A11RA36F07all TCGAZ7A8R501A42RA41B07all  \\\n",
       "645                         0.0                       0.0   \n",
       "646                         0.0                       0.0   \n",
       "647                         0.0                       0.0   \n",
       "648                         0.0                       0.0   \n",
       "649                         0.0                       0.0   \n",
       "...                         ...                       ...   \n",
       "2350                        1.0                       0.0   \n",
       "2351                        1.0                       0.0   \n",
       "2352                        1.0                       0.0   \n",
       "2353                        1.0                       0.0   \n",
       "2354                        1.0                       0.0   \n",
       "\n",
       "      TCGAZ7A8R601A11RA41B07all  isCrossJunction  junctionAnnotated_kmer  \\\n",
       "645                         0.0             True                     0.0   \n",
       "646                         0.0             True                     0.0   \n",
       "647                         0.0             True                     0.0   \n",
       "648                         0.0             True                     0.0   \n",
       "649                         0.0             True                     0.0   \n",
       "...                         ...              ...                     ...   \n",
       "2350                        0.0             True                     0.0   \n",
       "2351                        0.0             True                     0.0   \n",
       "2352                        0.0             True                     0.0   \n",
       "2353                        0.0             True                     0.0   \n",
       "2354                        0.0             True                     0.0   \n",
       "\n",
       "      readFrameAnnotated_kmer  recurrence  MHC-I binding status  number_jx_pos  \n",
       "645                         0         312            not binder              1  \n",
       "646                         0         312            not binder              1  \n",
       "647                         0         312            not binder              1  \n",
       "648                         0         312          not computed              1  \n",
       "649                         0         312          not computed              1  \n",
       "...                       ...         ...                   ...            ...  \n",
       "2350                        0         480          not computed              1  \n",
       "2351                        0         480          not computed              1  \n",
       "2352                        0         480           weak binder              1  \n",
       "2353                        0         480           weak binder              1  \n",
       "2354                        0         480           weak binder              1  \n",
       "\n",
       "[90 rows x 1123 columns]"
      ]
     },
     "execution_count": 103,
     "metadata": {},
     "output_type": "execute_result"
    }
   ],
   "source": [
    "remaining_recurrenct3.loc[(remaining_recurrenct3['recurrence'] > 300 ) & \n",
    "                          ((remaining_recurrenct3['TCGABHA18V01A11RA12D07all'] > 0) | \n",
    "                          (remaining_recurrenct3['TCGAC8A12P01A11RA11507all'] > 0) | \n",
    "                          (remaining_recurrenct3['TCGAAOA0JM01A21RA05607all'] > 0) | \n",
    "                          (remaining_recurrenct3['TCGAA2A0SX01A12RA08407all'] > 0) | \n",
    "                          (remaining_recurrenct3['TCGAA2A0D201A21RA03407all'] > 0) ) , :]"
   ]
  },
  {
   "cell_type": "code",
   "execution_count": 112,
   "metadata": {
    "ExecuteTime": {
     "end_time": "2022-06-20T14:57:27.386183Z",
     "start_time": "2022-06-20T14:57:27.312523Z"
    }
   },
   "outputs": [
    {
     "data": {
      "text/html": [
       "<div>\n",
       "<style scoped>\n",
       "    .dataframe tbody tr th:only-of-type {\n",
       "        vertical-align: middle;\n",
       "    }\n",
       "\n",
       "    .dataframe tbody tr th {\n",
       "        vertical-align: top;\n",
       "    }\n",
       "\n",
       "    .dataframe thead th {\n",
       "        text-align: right;\n",
       "    }\n",
       "</style>\n",
       "<table border=\"1\" class=\"dataframe\">\n",
       "  <thead>\n",
       "    <tr style=\"text-align: right;\">\n",
       "      <th></th>\n",
       "      <th>recurrence</th>\n",
       "      <th>jx_coord</th>\n",
       "      <th>gene</th>\n",
       "      <th>kmer</th>\n",
       "      <th>peptide</th>\n",
       "    </tr>\n",
       "  </thead>\n",
       "  <tbody>\n",
       "    <tr>\n",
       "      <th>645</th>\n",
       "      <td>312</td>\n",
       "      <td>25411294_25411837</td>\n",
       "      <td>ENSG00000147459.18</td>\n",
       "      <td>FNGDWLLSG</td>\n",
       "      <td>LAPPLPVRREAKAPPPPPPKARKSGIPTSEPGSQKRTHIFNGDWLL...</td>\n",
       "    </tr>\n",
       "    <tr>\n",
       "      <th>1230</th>\n",
       "      <td>750</td>\n",
       "      <td>77056084_77055380</td>\n",
       "      <td>ENSG00000118816.10</td>\n",
       "      <td>LKFHAIAVN</td>\n",
       "      <td>RIPVLKFHAIAVNSEDPCLLWPWLVWKWRNSFLIGFLLQLNCFRKH</td>\n",
       "    </tr>\n",
       "    <tr>\n",
       "      <th>1231</th>\n",
       "      <td>750</td>\n",
       "      <td>77055362_77055253</td>\n",
       "      <td>ENSG00000118816.10</td>\n",
       "      <td>LKFHAIAVN</td>\n",
       "      <td>RIPVLKFHAIAVNSEDPCLLWPWLVWKWRNSFLIGFLLQLNCFRKH</td>\n",
       "    </tr>\n",
       "    <tr>\n",
       "      <th>1232</th>\n",
       "      <td>750</td>\n",
       "      <td>77056084_77055380</td>\n",
       "      <td>ENSG00000118816.10</td>\n",
       "      <td>LKFHAIAVN</td>\n",
       "      <td>RIPVLKFHAIAVNSEDPC</td>\n",
       "    </tr>\n",
       "    <tr>\n",
       "      <th>1233</th>\n",
       "      <td>750</td>\n",
       "      <td>77055362_77055253</td>\n",
       "      <td>ENSG00000118816.10</td>\n",
       "      <td>LKFHAIAVN</td>\n",
       "      <td>RIPVLKFHAIAVNSEDPC</td>\n",
       "    </tr>\n",
       "    <tr>\n",
       "      <th>2340</th>\n",
       "      <td>480</td>\n",
       "      <td>50221518_50221445</td>\n",
       "      <td>ENSG00000128159.12</td>\n",
       "      <td>SPQSGSLGR</td>\n",
       "      <td>VTSPGPEHPEGGQGCDSGSAEQHSPAWDGWNRPGLLTPQPLKPLAV...</td>\n",
       "    </tr>\n",
       "  </tbody>\n",
       "</table>\n",
       "</div>"
      ],
      "text/plain": [
       "      recurrence           jx_coord                gene       kmer  \\\n",
       "645          312  25411294_25411837  ENSG00000147459.18  FNGDWLLSG   \n",
       "1230         750  77056084_77055380  ENSG00000118816.10  LKFHAIAVN   \n",
       "1231         750  77055362_77055253  ENSG00000118816.10  LKFHAIAVN   \n",
       "1232         750  77056084_77055380  ENSG00000118816.10  LKFHAIAVN   \n",
       "1233         750  77055362_77055253  ENSG00000118816.10  LKFHAIAVN   \n",
       "2340         480  50221518_50221445  ENSG00000128159.12  SPQSGSLGR   \n",
       "\n",
       "                                                peptide  \n",
       "645   LAPPLPVRREAKAPPPPPPKARKSGIPTSEPGSQKRTHIFNGDWLL...  \n",
       "1230     RIPVLKFHAIAVNSEDPCLLWPWLVWKWRNSFLIGFLLQLNCFRKH  \n",
       "1231     RIPVLKFHAIAVNSEDPCLLWPWLVWKWRNSFLIGFLLQLNCFRKH  \n",
       "1232                                 RIPVLKFHAIAVNSEDPC  \n",
       "1233                                 RIPVLKFHAIAVNSEDPC  \n",
       "2340  VTSPGPEHPEGGQGCDSGSAEQHSPAWDGWNRPGLLTPQPLKPLAV...  "
      ]
     },
     "execution_count": 112,
     "metadata": {},
     "output_type": "execute_result"
    }
   ],
   "source": [
    "remaining_recurrenct3.loc[(remaining_recurrenct3['recurrence'] > 300 ) & \n",
    "                          ((remaining_recurrenct3['TCGABHA18V01A11RA12D07all'] > 0) | \n",
    "                          (remaining_recurrenct3['TCGAC8A12P01A11RA11507all'] > 0) | \n",
    "                          (remaining_recurrenct3['TCGAAOA0JM01A21RA05607all'] > 0) | \n",
    "                          (remaining_recurrenct3['TCGAA2A0SX01A12RA08407all'] > 0) | \n",
    "                          (remaining_recurrenct3['TCGAA2A0D201A21RA03407all'] > 0) ) , \n",
    "                          ['recurrence', 'jx_coord', 'gene', 'kmer', 'peptide']].drop_duplicates()\n"
   ]
  },
  {
   "cell_type": "code",
   "execution_count": 99,
   "metadata": {
    "ExecuteTime": {
     "end_time": "2022-06-20T10:01:47.838653Z",
     "start_time": "2022-06-20T10:01:47.692100Z"
    }
   },
   "outputs": [
    {
     "data": {
      "text/plain": [
       "(3000, 1123)"
      ]
     },
     "execution_count": 99,
     "metadata": {},
     "output_type": "execute_result"
    }
   ],
   "source": [
    "remaining_recurrenct3.shape"
   ]
  },
  {
   "cell_type": "code",
   "execution_count": 98,
   "metadata": {
    "ExecuteTime": {
     "end_time": "2022-06-20T09:53:00.591652Z",
     "start_time": "2022-06-20T09:52:58.013685Z"
    }
   },
   "outputs": [
    {
     "name": "stdout",
     "output_type": "stream",
     "text": [
      "/cluster/work/grlab/projects/projects2020_OHSU/peptides_generation/v2_v3_d2d2574_conf2_annotFrame_cap0_runs/TCGA_Breast_1102\n"
     ]
    }
   ],
   "source": [
    "# remaining_recurrenct3.to_csv(\n",
    "#     os.path.join(gene_eq_path, \n",
    "#                  'exp-427_novel-pep_jx-non-annotated_jx-not-GTEX_recurrence-min-10.csv'), \n",
    "#     index = None)\n",
    "# print(gene_eq_path)"
   ]
  },
  {
   "cell_type": "markdown",
   "metadata": {},
   "source": [
    "# Figure1 "
   ]
  },
  {
   "cell_type": "code",
   "execution_count": 231,
   "metadata": {
    "ExecuteTime": {
     "end_time": "2022-06-02T20:57:01.080118Z",
     "start_time": "2022-06-02T20:57:00.556579Z"
    }
   },
   "outputs": [
    {
     "name": "stdout",
     "output_type": "stream",
     "text": [
      "number of kmers 1244\n"
     ]
    }
   ],
   "source": [
    "recurrence_max = 30\n",
    "tmp = df_plot.loc[(df_plot['GTEX_presence'] == 0) &\n",
    "                  (df_plot['junctionAnnotated_kmer'] == 0) &\n",
    "                  (df_plot['recurrence'] > 0) &\n",
    "                  (df_plot['recurrence'] <= recurrence_max ), \n",
    "                  ['recurrence', 'kmer', 'GTEX_presence'] + cohort ].drop_duplicates()\n",
    "print('number of kmers', tmp.shape[0])\n"
   ]
  },
  {
   "cell_type": "code",
   "execution_count": 232,
   "metadata": {
    "ExecuteTime": {
     "end_time": "2022-06-02T20:57:01.260036Z",
     "start_time": "2022-06-02T20:57:01.082455Z"
    }
   },
   "outputs": [],
   "source": [
    "tmp[tmp == 0] = np.nan\n",
    "means = np.nanmean(tmp.loc[:, cohort], axis=1)\n",
    "medians = np.nanmedian(tmp.loc[:, cohort], axis=1)"
   ]
  },
  {
   "cell_type": "code",
   "execution_count": 233,
   "metadata": {
    "ExecuteTime": {
     "end_time": "2022-06-02T20:57:01.267920Z",
     "start_time": "2022-06-02T20:57:01.262228Z"
    }
   },
   "outputs": [],
   "source": [
    "tmp['mean_exp'] = means\n",
    "tmp['median_exp'] = medians"
   ]
  },
  {
   "cell_type": "code",
   "execution_count": 234,
   "metadata": {
    "ExecuteTime": {
     "end_time": "2022-06-02T20:57:02.010334Z",
     "start_time": "2022-06-02T20:57:01.550638Z"
    },
    "scrolled": true
   },
   "outputs": [
    {
     "data": {
      "image/png": "[encoded data removed]",
      "text/plain": [
       "<Figure size 432x288 with 1 Axes>"
      ]
     },
     "metadata": {
      "needs_background": "light"
     },
     "output_type": "display_data"
    }
   ],
   "source": [
    "plt.scatter(tmp['recurrence'], tmp['median_exp'])\n",
    "plt.xlabel('recurrence')\n",
    "plt.ylabel('median_exp')\n",
    "plt.yscale(\"log\")  \n",
    "#plt.ylim([0.1, max(tmp['median_exp'])])"
   ]
  },
  {
   "cell_type": "code",
   "execution_count": 239,
   "metadata": {
    "ExecuteTime": {
     "end_time": "2022-06-02T21:00:58.412654Z",
     "start_time": "2022-06-02T21:00:57.494973Z"
    }
   },
   "outputs": [
    {
     "name": "stdout",
     "output_type": "stream",
     "text": [
      "number of kmers 1244\n",
      "save to /cluster/work/grlab/projects/projects2020_OHSU/plots/MS_single_sample_plots/v2_v2.5f0752a_with_v2_v3_d2d2574_conf2_BRCA_recurrence_expression.pdf\n"
     ]
    },
    {
     "data": {
      "image/png": "[encoded data removed]",
      "text/plain": [
       "<Figure size 432x288 with 1 Axes>"
      ]
     },
     "metadata": {
      "needs_background": "light"
     },
     "output_type": "display_data"
    }
   ],
   "source": [
    "#plt.grid(True, which='both', color='lightgrey')\n",
    "ax = sns.scatterplot(data = tmp, x = 'recurrence', y= 'median_exp', \n",
    "                #, hue = 'readFrameAnnotated'\n",
    "               edgecolors = 'black', \n",
    "               facecolors='royalblue')\n",
    "ax.set_axisbelow(True)\n",
    "ax.yaxis.grid(color='lightgrey', linestyle='dashed', which='both')\n",
    "ax.xaxis.grid(color='lightgrey', linestyle='dashed', which='both')\n",
    "print('number of kmers', tmp.shape[0])\n",
    "plt.xlabel('Recurrence across BRCA cohort')\n",
    "plt.ylabel('Normalized expression median across cohort')\n",
    "plt.yscale(\"log\")  \n",
    "\n",
    "#plt.ylim([0.1, max(tmp['median_exp'])])\n",
    "\n",
    "save = False\n",
    "suffix = 'recurrence_expression'\n",
    "save_path = os.path.join(plot_dir, f'{base_plot}_{suffix}.pdf')\n",
    "if save:\n",
    "    print(\"save to {}\".format(save_path))\n",
    "    plt.savefig(save_path, bbox_inches='tight')\n",
    "plt.show()"
   ]
  },
  {
   "cell_type": "code",
   "execution_count": null,
   "metadata": {},
   "outputs": [],
   "source": []
  },
  {
   "cell_type": "markdown",
   "metadata": {},
   "source": [
    "# Figure 2"
   ]
  },
  {
   "cell_type": "code",
   "execution_count": 207,
   "metadata": {
    "ExecuteTime": {
     "end_time": "2022-06-02T20:16:23.709926Z",
     "start_time": "2022-06-02T20:16:22.960545Z"
    }
   },
   "outputs": [
    {
     "name": "stdout",
     "output_type": "stream",
     "text": [
      "(883, 1107)\n"
     ]
    }
   ],
   "source": [
    "recurrence_max = 30 \n",
    "tmp = df_plot.loc[(df_plot['GTEX_presence'] == 0) &\n",
    "                  (df_plot['junctionAnnotated_kmer'] == 0) &\n",
    "                  (df_plot['recurrence'] > 0) &\n",
    "                  (df_plot['recurrence'] <= recurrence_max ) &\n",
    "                  (df_plot['MHC-I binding status'] != 'not computed'), \n",
    "                  ['recurrence', 'kmer', 'GTEX_presence', \n",
    "                  'MHC-I binding status', \n",
    "                  'percentile_rank', \n",
    "                  ] + cohort ].drop_duplicates()\n",
    "print(tmp.shape)"
   ]
  },
  {
   "cell_type": "code",
   "execution_count": 213,
   "metadata": {
    "ExecuteTime": {
     "end_time": "2022-06-02T20:17:34.821190Z",
     "start_time": "2022-06-02T20:17:34.552224Z"
    }
   },
   "outputs": [
    {
     "data": {
      "text/plain": [
       "(array([187.,  63.,  20.,  12.,  56.,   1.,   1.,   0.,  10.,  15.]),\n",
       " array([ 2. ,  4.5,  7. ,  9.5, 12. , 14.5, 17. , 19.5, 22. , 24.5, 27. ]),\n",
       " <BarContainer object of 10 artists>)"
      ]
     },
     "execution_count": 213,
     "metadata": {},
     "output_type": "execute_result"
    },
    {
     "data": {
      "image/png": "[encoded data removed]",
      "text/plain": [
       "<Figure size 432x288 with 1 Axes>"
      ]
     },
     "metadata": {
      "needs_background": "light"
     },
     "output_type": "display_data"
    }
   ],
   "source": [
    "plt.hist(tmp.loc[tmp['recurrence'] > 1, 'recurrence'])"
   ]
  },
  {
   "cell_type": "code",
   "execution_count": 57,
   "metadata": {
    "ExecuteTime": {
     "end_time": "2022-06-02T18:16:07.718157Z",
     "start_time": "2022-06-02T18:16:06.408285Z"
    }
   },
   "outputs": [
    {
     "name": "stdout",
     "output_type": "stream",
     "text": [
      "number of kmers 883\n",
      "number of kmers 883\n"
     ]
    },
    {
     "data": {
      "image/png": "[encoded data removed]",
      "text/plain": [
       "<Figure size 432x288 with 1 Axes>"
      ]
     },
     "metadata": {
      "needs_background": "light"
     },
     "output_type": "display_data"
    }
   ],
   "source": [
    "markers = ['x', 'o']\n",
    "for idx, sample in enumerate(['TCGAC8A12P01A11RA11507all', 'TCGAC8A12P01A11RA11507all']):\n",
    "    # here subset to sample \n",
    "    # check expression > 0 in sample\n",
    "    # add the name of the sample to the MHC binding status rename\n",
    "    ax = sns.scatterplot(data = tmp, x = 'recurrence', y = 'TCGAC8A12P01A11RA11507all', \n",
    "                    hue = 'MHC-I binding status',\n",
    "                   marker = markers[idx])\n",
    "    print('number of kmers', tmp.shape[0])\n",
    "    plt.xlabel('Recurrence across BRCA cohort')\n",
    "    plt.ylabel('Normalized Expression in target sample')\n",
    "    plt.yscale(\"log\")  \n",
    "    plt.grid(True, which='both', color='lightgrey')\n",
    "    plt.ylim([0.1, max(tmp[sample])])\n",
    "    \n",
    "save = False\n",
    "save_path = os.path.join(plot_dir, f'{base_plot}_{'recurrence_expression_binding'}.pdf')\n",
    "if save:\n",
    "    print(\"save to {}\".format(save_path))\n",
    "    plt.savefig(save_path, bbox_inches='tight')\n",
    "plt.show()"
   ]
  },
  {
   "cell_type": "code",
   "execution_count": null,
   "metadata": {},
   "outputs": [],
   "source": []
  },
  {
   "cell_type": "code",
   "execution_count": 58,
   "metadata": {
    "ExecuteTime": {
     "end_time": "2022-06-02T18:16:11.333726Z",
     "start_time": "2022-06-02T18:16:11.328530Z"
    }
   },
   "outputs": [],
   "source": [
    "l = ax.get_legend_handles_labels()"
   ]
  },
  {
   "cell_type": "code",
   "execution_count": 59,
   "metadata": {
    "ExecuteTime": {
     "end_time": "2022-06-02T18:16:14.576423Z",
     "start_time": "2022-06-02T18:16:14.566987Z"
    }
   },
   "outputs": [
    {
     "data": {
      "text/plain": [
       "([<matplotlib.collections.PathCollection at 0x2b645066fcd0>,\n",
       "  <matplotlib.collections.PathCollection at 0x2b6450659100>,\n",
       "  <matplotlib.collections.PathCollection at 0x2b64506594f0>,\n",
       "  <matplotlib.collections.PathCollection at 0x2b64506618b0>,\n",
       "  <matplotlib.collections.PathCollection at 0x2b6450661d00>,\n",
       "  <matplotlib.collections.PathCollection at 0x2b6450772130>],\n",
       " ['not binder',\n",
       "  'strong binder',\n",
       "  'weak binder',\n",
       "  'not binder',\n",
       "  'strong binder',\n",
       "  'weak binder'])"
      ]
     },
     "execution_count": 59,
     "metadata": {},
     "output_type": "execute_result"
    }
   ],
   "source": [
    "l"
   ]
  },
  {
   "cell_type": "markdown",
   "metadata": {},
   "source": [
    " Remark, did not compute the binding for the kmers which had expression < 2 in first pass"
   ]
  },
  {
   "cell_type": "code",
   "execution_count": 305,
   "metadata": {
    "ExecuteTime": {
     "end_time": "2022-06-02T12:05:06.365982Z",
     "start_time": "2022-06-02T12:05:06.354904Z"
    }
   },
   "outputs": [
    {
     "data": {
      "text/plain": [
       "count    318.000000\n",
       "mean       2.119497\n",
       "std        6.289910\n",
       "min        1.000000\n",
       "25%        1.000000\n",
       "50%        1.000000\n",
       "75%        2.000000\n",
       "max      110.000000\n",
       "Name: TCGAC8A12P01A11RA11507all, dtype: float64"
      ]
     },
     "execution_count": 305,
     "metadata": {},
     "output_type": "execute_result"
    }
   ],
   "source": [
    "tmp.loc[tmp['MHC-I binding status'] == 'not computed', 'TCGAC8A12P01A11RA11507all'].describe()\n"
   ]
  },
  {
   "cell_type": "markdown",
   "metadata": {},
   "source": [
    "# Figure 3 "
   ]
  },
  {
   "cell_type": "code",
   "execution_count": 218,
   "metadata": {
    "ExecuteTime": {
     "end_time": "2022-06-02T20:51:20.153616Z",
     "start_time": "2022-06-02T20:51:19.789184Z"
    }
   },
   "outputs": [],
   "source": [
    "tmp = df_plot.loc[(df_plot['GTEX_presence'] == 0) &\n",
    "                  (df_plot['junctionAnnotated_kmer'] == 0) &\n",
    "                  (df_plot['recurrence'] > 0) &\n",
    "                  (df_plot['recurrence'] <= recurrence_max ) &\n",
    "                  (df_plot['MHC-I binding status'] != 'not computed'), \n",
    "                  ['recurrence', 'kmer', 'GTEX_presence', \n",
    "                  'MHC-I binding status', 'gene',\n",
    "                  'percentile_rank', \n",
    "                  ] + cohort ].drop_duplicates()"
   ]
  },
  {
   "cell_type": "code",
   "execution_count": 219,
   "metadata": {
    "ExecuteTime": {
     "end_time": "2022-06-02T20:51:20.183461Z",
     "start_time": "2022-06-02T20:51:20.156264Z"
    }
   },
   "outputs": [
    {
     "data": {
      "text/plain": [
       "(883, 1108)"
      ]
     },
     "execution_count": 219,
     "metadata": {},
     "output_type": "execute_result"
    }
   ],
   "source": [
    "tmp.shape"
   ]
  },
  {
   "cell_type": "code",
   "execution_count": 220,
   "metadata": {
    "ExecuteTime": {
     "end_time": "2022-06-02T20:51:20.860803Z",
     "start_time": "2022-06-02T20:51:20.699428Z"
    }
   },
   "outputs": [],
   "source": [
    "tmp = pd.melt(tmp, id_vars=['gene', 'kmer'], value_vars=cohort, \n",
    "             value_name='Normalized RNA expression of junction', \n",
    "             var_name='sample')"
   ]
  },
  {
   "cell_type": "code",
   "execution_count": 221,
   "metadata": {
    "ExecuteTime": {
     "end_time": "2022-06-02T20:51:21.434740Z",
     "start_time": "2022-06-02T20:51:21.427075Z"
    }
   },
   "outputs": [
    {
     "data": {
      "text/plain": [
       "(973066, 4)"
      ]
     },
     "execution_count": 221,
     "metadata": {},
     "output_type": "execute_result"
    }
   ],
   "source": [
    "tmp.shape"
   ]
  },
  {
   "cell_type": "code",
   "execution_count": 222,
   "metadata": {
    "ExecuteTime": {
     "end_time": "2022-06-02T20:51:21.966338Z",
     "start_time": "2022-06-02T20:51:21.865397Z"
    }
   },
   "outputs": [
    {
     "data": {
      "text/html": [
       "<div>\n",
       "<style scoped>\n",
       "    .dataframe tbody tr th:only-of-type {\n",
       "        vertical-align: middle;\n",
       "    }\n",
       "\n",
       "    .dataframe tbody tr th {\n",
       "        vertical-align: top;\n",
       "    }\n",
       "\n",
       "    .dataframe thead th {\n",
       "        text-align: right;\n",
       "    }\n",
       "</style>\n",
       "<table border=\"1\" class=\"dataframe\">\n",
       "  <thead>\n",
       "    <tr style=\"text-align: right;\">\n",
       "      <th></th>\n",
       "      <th>gene</th>\n",
       "      <th>kmer</th>\n",
       "      <th>sample</th>\n",
       "      <th>Normalized RNA expression of junction</th>\n",
       "    </tr>\n",
       "  </thead>\n",
       "  <tbody>\n",
       "    <tr>\n",
       "      <th>0</th>\n",
       "      <td>ENSG00000060339.14</td>\n",
       "      <td>AAALQQHSS</td>\n",
       "      <td>TCGA3CAAAU01A11RA41B07all</td>\n",
       "      <td>0.0</td>\n",
       "    </tr>\n",
       "    <tr>\n",
       "      <th>1</th>\n",
       "      <td>ENSG00000075461.6</td>\n",
       "      <td>AAATQDLKE</td>\n",
       "      <td>TCGA3CAAAU01A11RA41B07all</td>\n",
       "      <td>0.0</td>\n",
       "    </tr>\n",
       "    <tr>\n",
       "      <th>2</th>\n",
       "      <td>ENSG00000075461.6</td>\n",
       "      <td>AAATQTLAV</td>\n",
       "      <td>TCGA3CAAAU01A11RA41B07all</td>\n",
       "      <td>0.0</td>\n",
       "    </tr>\n",
       "    <tr>\n",
       "      <th>3</th>\n",
       "      <td>ENSG00000137106.18</td>\n",
       "      <td>AAEGDVVDV</td>\n",
       "      <td>TCGA3CAAAU01A11RA41B07all</td>\n",
       "      <td>0.0</td>\n",
       "    </tr>\n",
       "    <tr>\n",
       "      <th>4</th>\n",
       "      <td>ENSG00000135413.9</td>\n",
       "      <td>AAKPNEEIS</td>\n",
       "      <td>TCGA3CAAAU01A11RA41B07all</td>\n",
       "      <td>0.0</td>\n",
       "    </tr>\n",
       "  </tbody>\n",
       "</table>\n",
       "</div>"
      ],
      "text/plain": [
       "                 gene       kmer                     sample  \\\n",
       "0  ENSG00000060339.14  AAALQQHSS  TCGA3CAAAU01A11RA41B07all   \n",
       "1   ENSG00000075461.6  AAATQDLKE  TCGA3CAAAU01A11RA41B07all   \n",
       "2   ENSG00000075461.6  AAATQTLAV  TCGA3CAAAU01A11RA41B07all   \n",
       "3  ENSG00000137106.18  AAEGDVVDV  TCGA3CAAAU01A11RA41B07all   \n",
       "4   ENSG00000135413.9  AAKPNEEIS  TCGA3CAAAU01A11RA41B07all   \n",
       "\n",
       "   Normalized RNA expression of junction  \n",
       "0                                    0.0  \n",
       "1                                    0.0  \n",
       "2                                    0.0  \n",
       "3                                    0.0  \n",
       "4                                    0.0  "
      ]
     },
     "execution_count": 222,
     "metadata": {},
     "output_type": "execute_result"
    }
   ],
   "source": [
    "tmp.head()"
   ]
  },
  {
   "cell_type": "code",
   "execution_count": 223,
   "metadata": {
    "ExecuteTime": {
     "end_time": "2022-06-02T20:52:26.748933Z",
     "start_time": "2022-06-02T20:51:22.635196Z"
    },
    "collapsed": true
   },
   "outputs": [
    {
     "name": "stdout",
     "output_type": "stream",
     "text": [
      "0\n",
      "1\n",
      "2\n",
      "3\n",
      "4\n",
      "5\n",
      "6\n",
      "7\n",
      "8\n",
      "9\n",
      "10\n",
      "11\n",
      "12\n",
      "13\n",
      "14\n",
      "15\n",
      "16\n",
      "17\n",
      "18\n",
      "19\n",
      "20\n",
      "21\n",
      "22\n",
      "23\n",
      "24\n",
      "25\n",
      "26\n",
      "27\n",
      "28\n",
      "29\n",
      "30\n",
      "31\n",
      "32\n",
      "33\n",
      "34\n",
      "35\n",
      "36\n",
      "37\n",
      "38\n",
      "39\n",
      "40\n",
      "41\n",
      "42\n",
      "43\n",
      "44\n",
      "45\n",
      "46\n",
      "47\n",
      "48\n",
      "49\n",
      "50\n",
      "51\n",
      "52\n",
      "53\n",
      "54\n",
      "55\n",
      "56\n",
      "57\n",
      "58\n",
      "59\n",
      "60\n",
      "61\n",
      "62\n",
      "63\n",
      "64\n",
      "65\n",
      "66\n",
      "67\n",
      "68\n",
      "69\n",
      "70\n",
      "71\n",
      "72\n",
      "73\n",
      "74\n",
      "75\n",
      "76\n",
      "77\n",
      "78\n",
      "79\n",
      "80\n",
      "81\n",
      "82\n",
      "83\n",
      "84\n",
      "85\n",
      "86\n",
      "87\n",
      "88\n",
      "89\n",
      "90\n",
      "91\n",
      "92\n",
      "93\n",
      "94\n",
      "95\n",
      "96\n",
      "97\n",
      "98\n",
      "99\n",
      "100\n",
      "101\n",
      "102\n",
      "103\n",
      "104\n",
      "105\n",
      "106\n",
      "107\n",
      "108\n",
      "109\n",
      "110\n",
      "111\n",
      "112\n",
      "113\n",
      "114\n",
      "115\n",
      "116\n",
      "117\n",
      "118\n",
      "119\n",
      "120\n",
      "121\n",
      "122\n",
      "123\n",
      "124\n",
      "125\n",
      "126\n",
      "127\n",
      "128\n",
      "129\n",
      "130\n",
      "131\n",
      "132\n",
      "133\n",
      "134\n",
      "135\n",
      "136\n",
      "137\n",
      "138\n",
      "139\n",
      "140\n",
      "141\n",
      "142\n",
      "143\n",
      "144\n",
      "145\n",
      "146\n",
      "147\n",
      "148\n",
      "149\n",
      "150\n",
      "151\n",
      "152\n",
      "153\n",
      "154\n",
      "155\n",
      "156\n",
      "157\n",
      "158\n",
      "159\n",
      "160\n",
      "161\n",
      "162\n",
      "163\n",
      "164\n",
      "165\n",
      "166\n",
      "167\n",
      "168\n",
      "169\n",
      "170\n",
      "171\n",
      "172\n",
      "173\n",
      "174\n",
      "175\n",
      "176\n",
      "177\n",
      "178\n",
      "179\n",
      "180\n",
      "181\n",
      "182\n",
      "183\n",
      "184\n",
      "185\n",
      "186\n",
      "187\n",
      "188\n",
      "189\n",
      "190\n",
      "191\n",
      "192\n",
      "193\n",
      "194\n",
      "195\n",
      "196\n",
      "197\n",
      "198\n",
      "199\n",
      "200\n",
      "201\n",
      "202\n",
      "203\n",
      "204\n",
      "205\n",
      "206\n",
      "207\n",
      "208\n",
      "209\n",
      "210\n",
      "211\n",
      "212\n",
      "213\n",
      "214\n",
      "215\n",
      "216\n",
      "217\n",
      "218\n",
      "219\n",
      "220\n",
      "221\n",
      "222\n",
      "223\n",
      "224\n",
      "225\n",
      "226\n",
      "227\n",
      "228\n",
      "229\n",
      "230\n",
      "231\n",
      "232\n",
      "233\n",
      "234\n",
      "235\n",
      "236\n",
      "237\n",
      "238\n",
      "239\n",
      "240\n",
      "241\n",
      "242\n",
      "243\n",
      "244\n",
      "245\n",
      "246\n",
      "247\n",
      "248\n",
      "249\n",
      "250\n",
      "251\n",
      "252\n",
      "253\n",
      "254\n",
      "255\n",
      "256\n",
      "257\n",
      "258\n",
      "259\n",
      "260\n",
      "261\n",
      "262\n",
      "263\n",
      "264\n",
      "265\n",
      "266\n",
      "267\n",
      "268\n",
      "269\n",
      "270\n",
      "271\n",
      "272\n",
      "273\n",
      "274\n",
      "275\n",
      "276\n",
      "277\n",
      "278\n",
      "279\n",
      "280\n",
      "281\n",
      "282\n",
      "283\n",
      "284\n",
      "285\n",
      "286\n",
      "287\n",
      "288\n",
      "289\n",
      "290\n",
      "291\n",
      "292\n",
      "293\n",
      "294\n",
      "295\n",
      "296\n",
      "297\n",
      "298\n",
      "299\n",
      "300\n",
      "301\n",
      "302\n",
      "303\n",
      "304\n",
      "305\n",
      "306\n",
      "307\n",
      "308\n",
      "309\n",
      "310\n",
      "311\n",
      "312\n",
      "313\n",
      "314\n",
      "315\n",
      "316\n",
      "317\n",
      "318\n",
      "319\n",
      "320\n",
      "321\n",
      "322\n",
      "323\n",
      "324\n",
      "325\n",
      "326\n",
      "327\n",
      "328\n",
      "329\n",
      "330\n",
      "331\n",
      "332\n",
      "333\n",
      "334\n",
      "335\n",
      "336\n",
      "337\n",
      "338\n",
      "339\n",
      "340\n",
      "341\n",
      "342\n",
      "343\n",
      "344\n",
      "345\n",
      "346\n",
      "347\n",
      "348\n",
      "349\n",
      "350\n",
      "351\n",
      "352\n",
      "353\n",
      "354\n",
      "355\n",
      "356\n",
      "357\n",
      "358\n",
      "359\n",
      "360\n",
      "361\n",
      "362\n",
      "363\n",
      "364\n",
      "365\n",
      "366\n",
      "367\n",
      "368\n",
      "369\n",
      "370\n",
      "371\n",
      "372\n",
      "373\n",
      "374\n",
      "375\n",
      "376\n",
      "377\n",
      "378\n",
      "379\n",
      "380\n",
      "381\n",
      "382\n",
      "383\n",
      "384\n",
      "385\n",
      "386\n",
      "387\n",
      "388\n",
      "389\n",
      "390\n",
      "391\n",
      "392\n",
      "393\n",
      "394\n",
      "395\n",
      "396\n",
      "397\n",
      "398\n",
      "399\n",
      "400\n",
      "401\n",
      "402\n",
      "403\n",
      "404\n",
      "405\n",
      "406\n",
      "407\n",
      "408\n",
      "409\n",
      "410\n",
      "411\n",
      "412\n",
      "413\n",
      "414\n",
      "415\n",
      "416\n",
      "417\n",
      "418\n",
      "419\n",
      "420\n",
      "421\n",
      "422\n",
      "423\n",
      "424\n",
      "425\n",
      "426\n",
      "427\n",
      "428\n",
      "429\n",
      "430\n",
      "431\n",
      "432\n",
      "433\n",
      "434\n",
      "435\n",
      "436\n",
      "437\n",
      "438\n",
      "439\n",
      "440\n",
      "441\n",
      "442\n",
      "443\n",
      "444\n",
      "445\n",
      "446\n",
      "447\n",
      "448\n",
      "449\n",
      "450\n",
      "451\n",
      "452\n",
      "453\n",
      "454\n",
      "455\n",
      "456\n",
      "457\n",
      "458\n",
      "459\n",
      "460\n",
      "461\n",
      "462\n",
      "463\n",
      "464\n",
      "465\n",
      "466\n",
      "467\n",
      "468\n",
      "469\n",
      "470\n",
      "471\n",
      "472\n",
      "473\n",
      "474\n",
      "475\n",
      "476\n",
      "477\n",
      "478\n",
      "479\n",
      "480\n",
      "481\n",
      "482\n",
      "483\n",
      "484\n",
      "485\n",
      "486\n",
      "487\n",
      "488\n",
      "489\n",
      "490\n",
      "491\n",
      "492\n",
      "493\n",
      "494\n",
      "495\n",
      "496\n",
      "497\n",
      "498\n",
      "499\n",
      "500\n",
      "501\n",
      "502\n",
      "503\n",
      "504\n",
      "505\n",
      "506\n",
      "507\n",
      "508\n",
      "509\n",
      "510\n",
      "511\n",
      "512\n",
      "513\n",
      "514\n",
      "515\n",
      "516\n",
      "517\n",
      "518\n",
      "519\n",
      "520\n",
      "521\n",
      "522\n",
      "523\n",
      "524\n",
      "525\n",
      "526\n",
      "527\n",
      "528\n",
      "529\n",
      "530\n",
      "531\n",
      "532\n",
      "533\n",
      "534\n",
      "535\n",
      "536\n",
      "537\n",
      "538\n",
      "539\n",
      "540\n",
      "541\n",
      "542\n",
      "543\n",
      "544\n",
      "545\n",
      "546\n",
      "547\n",
      "548\n",
      "549\n",
      "550\n",
      "551\n",
      "552\n",
      "553\n",
      "554\n",
      "555\n",
      "556\n",
      "557\n",
      "558\n",
      "559\n",
      "560\n",
      "561\n",
      "562\n",
      "563\n",
      "564\n",
      "565\n",
      "566\n",
      "567\n",
      "568\n",
      "569\n",
      "570\n",
      "571\n",
      "572\n",
      "573\n",
      "574\n",
      "575\n",
      "576\n",
      "577\n",
      "578\n",
      "579\n",
      "580\n",
      "581\n",
      "582\n",
      "583\n",
      "584\n",
      "585\n",
      "586\n",
      "587\n",
      "588\n",
      "589\n",
      "590\n",
      "591\n",
      "592\n",
      "593\n",
      "594\n",
      "595\n",
      "596\n",
      "597\n",
      "598\n",
      "599\n",
      "600\n",
      "601\n",
      "602\n",
      "603\n",
      "604\n",
      "605\n",
      "606\n",
      "607\n",
      "608\n",
      "609\n",
      "610\n",
      "611\n",
      "612\n",
      "613\n",
      "614\n",
      "615\n",
      "616\n",
      "617\n",
      "618\n",
      "619\n",
      "620\n",
      "621\n",
      "622\n",
      "623\n",
      "624\n",
      "625\n",
      "626\n",
      "627\n",
      "628\n",
      "629\n",
      "630\n",
      "631\n",
      "632\n",
      "633\n",
      "634\n",
      "635\n",
      "636\n",
      "637\n",
      "638\n",
      "639\n",
      "640\n",
      "641\n",
      "642\n",
      "643\n",
      "644\n",
      "645\n",
      "646\n",
      "647\n",
      "648\n",
      "649\n",
      "650\n",
      "651\n",
      "652\n",
      "653\n",
      "654\n",
      "655\n",
      "656\n",
      "657\n",
      "658\n",
      "659\n",
      "660\n",
      "661\n",
      "662\n",
      "663\n",
      "664\n",
      "665\n",
      "666\n",
      "667\n",
      "668\n",
      "669\n",
      "670\n",
      "671\n",
      "672\n",
      "673\n",
      "674\n",
      "675\n",
      "676\n",
      "677\n",
      "678\n",
      "679\n",
      "680\n",
      "681\n",
      "682\n",
      "683\n",
      "684\n",
      "685\n",
      "686\n",
      "687\n",
      "688\n",
      "689\n",
      "690\n",
      "691\n",
      "692\n",
      "693\n",
      "694\n",
      "695\n",
      "696\n",
      "697\n",
      "698\n",
      "699\n",
      "700\n",
      "701\n",
      "702\n",
      "703\n",
      "704\n",
      "705\n",
      "706\n",
      "707\n",
      "708\n",
      "709\n",
      "710\n",
      "711\n",
      "712\n",
      "713\n",
      "714\n",
      "715\n",
      "716\n",
      "717\n",
      "718\n",
      "719\n",
      "720\n",
      "721\n",
      "722\n",
      "723\n",
      "724\n",
      "725\n",
      "726\n",
      "727\n",
      "728\n",
      "729\n",
      "730\n",
      "731\n",
      "732\n",
      "733\n",
      "734\n",
      "735\n",
      "736\n",
      "737\n",
      "738\n",
      "739\n",
      "740\n",
      "741\n",
      "742\n",
      "743\n",
      "744\n",
      "745\n",
      "746\n",
      "747\n",
      "748\n",
      "749\n",
      "750\n",
      "751\n",
      "752\n",
      "753\n",
      "754\n",
      "755\n",
      "756\n",
      "757\n",
      "758\n",
      "759\n",
      "760\n",
      "761\n",
      "762\n",
      "763\n",
      "764\n",
      "765\n",
      "766\n",
      "767\n",
      "768\n",
      "769\n",
      "770\n",
      "771\n",
      "772\n",
      "773\n",
      "774\n",
      "775\n",
      "776\n",
      "777\n",
      "778\n",
      "779\n",
      "780\n",
      "781\n",
      "782\n",
      "783\n",
      "784\n",
      "785\n",
      "786\n",
      "787\n",
      "788\n",
      "789\n",
      "790\n",
      "791\n",
      "792\n",
      "793\n",
      "794\n",
      "795\n",
      "796\n",
      "797\n",
      "798\n",
      "799\n",
      "800\n",
      "801\n",
      "802\n",
      "803\n",
      "804\n",
      "805\n",
      "806\n",
      "807\n",
      "808\n",
      "809\n",
      "810\n",
      "811\n",
      "812\n",
      "813\n",
      "814\n",
      "815\n",
      "816\n",
      "817\n",
      "818\n",
      "819\n",
      "820\n",
      "821\n",
      "822\n",
      "823\n",
      "824\n",
      "825\n",
      "826\n",
      "827\n",
      "828\n",
      "829\n",
      "830\n",
      "831\n",
      "832\n",
      "833\n",
      "834\n",
      "835\n",
      "836\n",
      "837\n",
      "838\n",
      "839\n",
      "840\n",
      "841\n",
      "842\n",
      "843\n",
      "844\n",
      "845\n",
      "846\n",
      "847\n",
      "848\n",
      "849\n",
      "850\n",
      "851\n",
      "852\n",
      "853\n",
      "854\n",
      "855\n",
      "856\n",
      "857\n",
      "858\n",
      "859\n",
      "860\n",
      "861\n",
      "862\n",
      "863\n",
      "864\n",
      "865\n",
      "866\n",
      "867\n",
      "868\n",
      "869\n",
      "870\n",
      "871\n",
      "872\n",
      "873\n",
      "874\n",
      "875\n",
      "876\n",
      "877\n",
      "878\n",
      "879\n",
      "880\n",
      "881\n",
      "882\n",
      "883\n",
      "884\n",
      "885\n",
      "886\n",
      "887\n",
      "888\n",
      "889\n",
      "890\n",
      "891\n",
      "892\n",
      "893\n",
      "894\n",
      "895\n",
      "896\n",
      "897\n",
      "898\n",
      "899\n",
      "900\n",
      "901\n",
      "902\n",
      "903\n",
      "904\n",
      "905\n",
      "906\n",
      "907\n",
      "908\n",
      "909\n",
      "910\n",
      "911\n",
      "912\n",
      "913\n",
      "914\n",
      "915\n",
      "916\n",
      "917\n",
      "918\n",
      "919\n",
      "920\n",
      "921\n",
      "922\n",
      "923\n",
      "924\n",
      "925\n",
      "926\n",
      "927\n",
      "928\n",
      "929\n",
      "930\n",
      "931\n",
      "932\n",
      "933\n",
      "934\n",
      "935\n",
      "936\n",
      "937\n",
      "938\n",
      "939\n",
      "940\n",
      "941\n",
      "942\n",
      "943\n",
      "944\n",
      "945\n",
      "946\n",
      "947\n",
      "948\n",
      "949\n",
      "950\n",
      "951\n",
      "952\n",
      "953\n",
      "954\n",
      "955\n",
      "956\n",
      "957\n",
      "958\n",
      "959\n",
      "960\n",
      "961\n",
      "962\n",
      "963\n",
      "964\n",
      "965\n",
      "966\n",
      "967\n",
      "968\n",
      "969\n",
      "970\n",
      "971\n",
      "972\n",
      "973\n",
      "974\n",
      "975\n",
      "976\n",
      "977\n",
      "978\n",
      "979\n",
      "980\n",
      "981\n",
      "982\n",
      "983\n",
      "984\n",
      "985\n",
      "986\n",
      "987\n",
      "988\n",
      "989\n",
      "990\n",
      "991\n",
      "992\n",
      "993\n",
      "994\n",
      "995\n",
      "996\n",
      "997\n",
      "998\n",
      "999\n",
      "1000\n",
      "1001\n",
      "1002\n",
      "1003\n",
      "1004\n",
      "1005\n",
      "1006\n",
      "1007\n",
      "1008\n",
      "1009\n",
      "1010\n",
      "1011\n",
      "1012\n",
      "1013\n",
      "1014\n",
      "1015\n",
      "1016\n",
      "1017\n",
      "1018\n",
      "1019\n",
      "1020\n",
      "1021\n",
      "1022\n",
      "1023\n",
      "1024\n",
      "1025\n",
      "1026\n",
      "1027\n",
      "1028\n",
      "1029\n",
      "1030\n",
      "1031\n",
      "1032\n",
      "1033\n",
      "1034\n",
      "1035\n",
      "1036\n",
      "1037\n",
      "1038\n",
      "1039\n",
      "1040\n",
      "1041\n",
      "1042\n",
      "1043\n",
      "1044\n",
      "1045\n",
      "1046\n",
      "1047\n",
      "1048\n",
      "1049\n",
      "1050\n",
      "1051\n",
      "1052\n",
      "1053\n",
      "1054\n",
      "1055\n",
      "1056\n",
      "1057\n",
      "1058\n",
      "1059\n",
      "1060\n",
      "1061\n",
      "1062\n",
      "1063\n",
      "1064\n",
      "1065\n",
      "1066\n",
      "1067\n",
      "1068\n",
      "1069\n",
      "1070\n",
      "1071\n",
      "1072\n",
      "1073\n",
      "1074\n",
      "1075\n",
      "1076\n",
      "1077\n",
      "1078\n",
      "1079\n",
      "1080\n",
      "1081\n",
      "1082\n",
      "1083\n",
      "1084\n",
      "1085\n",
      "1086\n",
      "1087\n",
      "1088\n",
      "1089\n",
      "1090\n",
      "1091\n",
      "1092\n",
      "1093\n",
      "1094\n",
      "1095\n",
      "1096\n",
      "1097\n",
      "1098\n",
      "1099\n",
      "1100\n",
      "1101\n"
     ]
    }
   ],
   "source": [
    "# launch overnight 1/3 in 40 minutes\n",
    "expr1 = []\n",
    "expr2 = []\n",
    "expr3 = []\n",
    "thres1 = 0 \n",
    "thres2 = 10\n",
    "thres3 = 100\n",
    "for idx, sample in enumerate(cohort):\n",
    "    print(idx)\n",
    "    tmp1 = tmp.loc[(tmp['sample'] == sample) & \n",
    "                   tmp['Normalized RNA expression of junction'] > thres1 , \n",
    "                   : ].drop_duplicates()\n",
    "    expr1.append(tmp1.shape[0])\n",
    "    \n",
    "    tmp2 = tmp1.loc[tmp1['Normalized RNA expression of junction'] > thres2 , \n",
    "                   : ].drop_duplicates()\n",
    "    expr2.append(tmp2.shape[0])\n",
    "    \n",
    "    tmp3 = tmp2.loc[tmp2['Normalized RNA expression of junction'] > thres3 , \n",
    "                   : ].drop_duplicates()\n",
    "    expr3.append(tmp3.shape[0])"
   ]
  },
  {
   "cell_type": "code",
   "execution_count": 224,
   "metadata": {
    "ExecuteTime": {
     "end_time": "2022-06-02T20:53:07.137788Z",
     "start_time": "2022-06-02T20:53:07.127457Z"
    }
   },
   "outputs": [],
   "source": [
    "sample_kmer_plot = pd.DataFrame({f'Normalized RNA expression > {thres1}':expr1, \n",
    "              f'Normalized RNA expression > {thres2}':expr2, \n",
    "              f'Normalized RNA expression > {thres3}':expr3})"
   ]
  },
  {
   "cell_type": "code",
   "execution_count": 225,
   "metadata": {
    "ExecuteTime": {
     "end_time": "2022-06-02T20:53:11.269627Z",
     "start_time": "2022-06-02T20:53:11.254304Z"
    }
   },
   "outputs": [
    {
     "data": {
      "text/html": [
       "<div>\n",
       "<style scoped>\n",
       "    .dataframe tbody tr th:only-of-type {\n",
       "        vertical-align: middle;\n",
       "    }\n",
       "\n",
       "    .dataframe tbody tr th {\n",
       "        vertical-align: top;\n",
       "    }\n",
       "\n",
       "    .dataframe thead th {\n",
       "        text-align: right;\n",
       "    }\n",
       "</style>\n",
       "<table border=\"1\" class=\"dataframe\">\n",
       "  <thead>\n",
       "    <tr style=\"text-align: right;\">\n",
       "      <th></th>\n",
       "      <th>Normalized RNA expression &gt; 0</th>\n",
       "      <th>Normalized RNA expression &gt; 10</th>\n",
       "      <th>Normalized RNA expression &gt; 100</th>\n",
       "    </tr>\n",
       "  </thead>\n",
       "  <tbody>\n",
       "    <tr>\n",
       "      <th>0</th>\n",
       "      <td>8</td>\n",
       "      <td>0</td>\n",
       "      <td>0</td>\n",
       "    </tr>\n",
       "    <tr>\n",
       "      <th>1</th>\n",
       "      <td>0</td>\n",
       "      <td>0</td>\n",
       "      <td>0</td>\n",
       "    </tr>\n",
       "    <tr>\n",
       "      <th>2</th>\n",
       "      <td>0</td>\n",
       "      <td>0</td>\n",
       "      <td>0</td>\n",
       "    </tr>\n",
       "    <tr>\n",
       "      <th>3</th>\n",
       "      <td>0</td>\n",
       "      <td>0</td>\n",
       "      <td>0</td>\n",
       "    </tr>\n",
       "    <tr>\n",
       "      <th>4</th>\n",
       "      <td>0</td>\n",
       "      <td>0</td>\n",
       "      <td>0</td>\n",
       "    </tr>\n",
       "  </tbody>\n",
       "</table>\n",
       "</div>"
      ],
      "text/plain": [
       "   Normalized RNA expression > 0  Normalized RNA expression > 10  \\\n",
       "0                              8                               0   \n",
       "1                              0                               0   \n",
       "2                              0                               0   \n",
       "3                              0                               0   \n",
       "4                              0                               0   \n",
       "\n",
       "   Normalized RNA expression > 100  \n",
       "0                                0  \n",
       "1                                0  \n",
       "2                                0  \n",
       "3                                0  \n",
       "4                                0  "
      ]
     },
     "execution_count": 225,
     "metadata": {},
     "output_type": "execute_result"
    }
   ],
   "source": [
    "sample_kmer_plot.head()"
   ]
  },
  {
   "cell_type": "code",
   "execution_count": 226,
   "metadata": {
    "ExecuteTime": {
     "end_time": "2022-06-02T20:53:17.892306Z",
     "start_time": "2022-06-02T20:53:17.888291Z"
    }
   },
   "outputs": [],
   "source": [
    "# sample_kmer_plot.to_csv(os.path.join(gene_eq_path, 'tmp_sample_count_pot.csv.gz'), \n",
    "#                       compression = 'gzip', index = None )"
   ]
  },
  {
   "cell_type": "code",
   "execution_count": 230,
   "metadata": {
    "ExecuteTime": {
     "end_time": "2022-06-02T20:55:40.976851Z",
     "start_time": "2022-06-02T20:55:40.296639Z"
    }
   },
   "outputs": [
    {
     "name": "stdout",
     "output_type": "stream",
     "text": [
      "number of kmers 973066\n",
      "number of kmers 973066\n",
      "number of kmers 973066\n",
      "save to /cluster/work/grlab/projects/projects2020_OHSU/plots/MS_single_sample_plots/v2_v2.5f0752a_with_v2_v3_d2d2574_conf2_BRCA_sample_kmer_nb_recurrence30.pdf\n"
     ]
    },
    {
     "data": {
      "image/png": "[encoded data removed]",
      "text/plain": [
       "<Figure size 432x288 with 1 Axes>"
      ]
     },
     "metadata": {
      "needs_background": "light"
     },
     "output_type": "display_data"
    }
   ],
   "source": [
    "plt.grid(True, which='both', color='lightgrey')\n",
    "max_val = np.max(sample_kmer_plot.values) + 1\n",
    "#plt.yscale(\"log\")  \n",
    "# plt.ylim([0.1,max_val])\n",
    "plt.xlim(-1, 100)\n",
    "#plt.semilogy(basey=10)\n",
    "for idx, col in enumerate(sample_kmer_plot.columns):\n",
    "    X = np.arange(sample_kmer_plot.shape[0])\n",
    "    Y = np.sort(sample_kmer_plot[col])[::-1]\n",
    "    ax = plt.scatter(X, Y, label = col, \n",
    "                    marker = 'o')\n",
    "    print('number of kmers', tmp.shape[0])\n",
    "    plt.ylabel('Number of candidate kmers')\n",
    "    plt.xlabel('BRCA sample rank ID')\n",
    "plt.legend()\n",
    "\n",
    "\n",
    "\n",
    "\n",
    "save = False\n",
    "suffix = 'sample_kmer_nb'\n",
    "rec = 'recurrence30'\n",
    "save_path = os.path.join(plot_dir, f'{base_plot}_{suffix}_{rec}.pdf')\n",
    "if save:\n",
    "    print(\"save to {}\".format(save_path))\n",
    "    plt.savefig(save_path, bbox_inches='tight')\n",
    "plt.show()"
   ]
  },
  {
   "cell_type": "code",
   "execution_count": 326,
   "metadata": {
    "ExecuteTime": {
     "end_time": "2022-06-02T12:32:35.740992Z",
     "start_time": "2022-06-02T12:26:01.655304Z"
    },
    "collapsed": true
   },
   "outputs": [
    {
     "name": "stdout",
     "output_type": "stream",
     "text": [
      "0\n",
      "1\n",
      "2\n",
      "3\n",
      "4\n",
      "5\n",
      "6\n",
      "7\n",
      "8\n",
      "9\n",
      "10\n",
      "11\n",
      "12\n",
      "13\n",
      "14\n",
      "15\n",
      "16\n",
      "17\n",
      "18\n",
      "19\n",
      "20\n",
      "21\n",
      "22\n",
      "23\n",
      "24\n",
      "25\n"
     ]
    },
    {
     "ename": "KeyboardInterrupt",
     "evalue": "",
     "output_type": "error",
     "traceback": [
      "\u001b[0;31m---------------------------------------------------------------------------\u001b[0m",
      "\u001b[0;31mKeyboardInterrupt\u001b[0m                         Traceback (most recent call last)",
      "\u001b[0;32m<ipython-input-326-04a79e4767be>\u001b[0m in \u001b[0;36m<module>\u001b[0;34m\u001b[0m\n\u001b[1;32m      4\u001b[0m     \u001b[0mvals\u001b[0m \u001b[0;34m=\u001b[0m  \u001b[0mdf_plot\u001b[0m\u001b[0;34m.\u001b[0m\u001b[0mloc\u001b[0m\u001b[0;34m[\u001b[0m \u001b[0;34m:\u001b[0m \u001b[0;34m,\u001b[0m \u001b[0;34m[\u001b[0m\u001b[0;34m'kmer'\u001b[0m\u001b[0;34m,\u001b[0m \u001b[0msample\u001b[0m\u001b[0;34m]\u001b[0m\u001b[0;34m]\u001b[0m\u001b[0;34m.\u001b[0m\u001b[0mdrop_duplicates\u001b[0m\u001b[0;34m(\u001b[0m\u001b[0;34m)\u001b[0m\u001b[0;34m\u001b[0m\u001b[0;34m\u001b[0m\u001b[0m\n\u001b[1;32m      5\u001b[0m     \u001b[0mvals\u001b[0m \u001b[0;34m=\u001b[0m \u001b[0mvals\u001b[0m\u001b[0;34m[\u001b[0m\u001b[0msample\u001b[0m\u001b[0;34m]\u001b[0m\u001b[0;34m.\u001b[0m\u001b[0mvalues\u001b[0m\u001b[0;34m\u001b[0m\u001b[0;34m\u001b[0m\u001b[0m\n\u001b[0;32m----> 6\u001b[0;31m     tmp.loc[tmp['sample'] == sample, \n\u001b[0m\u001b[1;32m      7\u001b[0m             'Number kmers expressed in sample'] = len(np.where(vals > 0 )[0])\n\u001b[1;32m      8\u001b[0m     tmp.loc[tmp['sample'] == sample, \n",
      "\u001b[0;32m~/software/anaconda3/envs/myimmuno3_light/lib/python3.8/site-packages/pandas/core/indexing.py\u001b[0m in \u001b[0;36m__setitem__\u001b[0;34m(self, key, value)\u001b[0m\n\u001b[1;32m    668\u001b[0m \u001b[0;34m\u001b[0m\u001b[0m\n\u001b[1;32m    669\u001b[0m         \u001b[0miloc\u001b[0m \u001b[0;34m=\u001b[0m \u001b[0mself\u001b[0m \u001b[0;32mif\u001b[0m \u001b[0mself\u001b[0m\u001b[0;34m.\u001b[0m\u001b[0mname\u001b[0m \u001b[0;34m==\u001b[0m \u001b[0;34m\"iloc\"\u001b[0m \u001b[0;32melse\u001b[0m \u001b[0mself\u001b[0m\u001b[0;34m.\u001b[0m\u001b[0mobj\u001b[0m\u001b[0;34m.\u001b[0m\u001b[0miloc\u001b[0m\u001b[0;34m\u001b[0m\u001b[0;34m\u001b[0m\u001b[0m\n\u001b[0;32m--> 670\u001b[0;31m         \u001b[0miloc\u001b[0m\u001b[0;34m.\u001b[0m\u001b[0m_setitem_with_indexer\u001b[0m\u001b[0;34m(\u001b[0m\u001b[0mindexer\u001b[0m\u001b[0;34m,\u001b[0m \u001b[0mvalue\u001b[0m\u001b[0;34m)\u001b[0m\u001b[0;34m\u001b[0m\u001b[0;34m\u001b[0m\u001b[0m\n\u001b[0m\u001b[1;32m    671\u001b[0m \u001b[0;34m\u001b[0m\u001b[0m\n\u001b[1;32m    672\u001b[0m     \u001b[0;32mdef\u001b[0m \u001b[0m_validate_key\u001b[0m\u001b[0;34m(\u001b[0m\u001b[0mself\u001b[0m\u001b[0;34m,\u001b[0m \u001b[0mkey\u001b[0m\u001b[0;34m,\u001b[0m \u001b[0maxis\u001b[0m\u001b[0;34m:\u001b[0m \u001b[0mint\u001b[0m\u001b[0;34m)\u001b[0m\u001b[0;34m:\u001b[0m\u001b[0;34m\u001b[0m\u001b[0;34m\u001b[0m\u001b[0m\n",
      "\u001b[0;32m~/software/anaconda3/envs/myimmuno3_light/lib/python3.8/site-packages/pandas/core/indexing.py\u001b[0m in \u001b[0;36m_setitem_with_indexer\u001b[0;34m(self, indexer, value)\u001b[0m\n\u001b[1;32m   1761\u001b[0m                 \u001b[0;31m# scalar value\u001b[0m\u001b[0;34m\u001b[0m\u001b[0;34m\u001b[0m\u001b[0;34m\u001b[0m\u001b[0m\n\u001b[1;32m   1762\u001b[0m                 \u001b[0;32mfor\u001b[0m \u001b[0mloc\u001b[0m \u001b[0;32min\u001b[0m \u001b[0milocs\u001b[0m\u001b[0;34m:\u001b[0m\u001b[0;34m\u001b[0m\u001b[0;34m\u001b[0m\u001b[0m\n\u001b[0;32m-> 1763\u001b[0;31m                     \u001b[0misetter\u001b[0m\u001b[0;34m(\u001b[0m\u001b[0mloc\u001b[0m\u001b[0;34m,\u001b[0m \u001b[0mvalue\u001b[0m\u001b[0;34m)\u001b[0m\u001b[0;34m\u001b[0m\u001b[0;34m\u001b[0m\u001b[0m\n\u001b[0m\u001b[1;32m   1764\u001b[0m \u001b[0;34m\u001b[0m\u001b[0m\n\u001b[1;32m   1765\u001b[0m         \u001b[0;32melse\u001b[0m\u001b[0;34m:\u001b[0m\u001b[0;34m\u001b[0m\u001b[0;34m\u001b[0m\u001b[0m\n",
      "\u001b[0;32m~/software/anaconda3/envs/myimmuno3_light/lib/python3.8/site-packages/pandas/core/indexing.py\u001b[0m in \u001b[0;36misetter\u001b[0;34m(loc, v)\u001b[0m\n\u001b[1;32m   1686\u001b[0m                 \u001b[0;32melse\u001b[0m\u001b[0;34m:\u001b[0m\u001b[0;34m\u001b[0m\u001b[0;34m\u001b[0m\u001b[0m\n\u001b[1;32m   1687\u001b[0m                     \u001b[0;31m# set the item, possibly having a dtype change\u001b[0m\u001b[0;34m\u001b[0m\u001b[0;34m\u001b[0m\u001b[0;34m\u001b[0m\u001b[0m\n\u001b[0;32m-> 1688\u001b[0;31m                     \u001b[0mser\u001b[0m \u001b[0;34m=\u001b[0m \u001b[0mser\u001b[0m\u001b[0;34m.\u001b[0m\u001b[0mcopy\u001b[0m\u001b[0;34m(\u001b[0m\u001b[0;34m)\u001b[0m\u001b[0;34m\u001b[0m\u001b[0;34m\u001b[0m\u001b[0m\n\u001b[0m\u001b[1;32m   1689\u001b[0m                     \u001b[0mser\u001b[0m\u001b[0;34m.\u001b[0m\u001b[0m_mgr\u001b[0m \u001b[0;34m=\u001b[0m \u001b[0mser\u001b[0m\u001b[0;34m.\u001b[0m\u001b[0m_mgr\u001b[0m\u001b[0;34m.\u001b[0m\u001b[0msetitem\u001b[0m\u001b[0;34m(\u001b[0m\u001b[0mindexer\u001b[0m\u001b[0;34m=\u001b[0m\u001b[0mplane_indexer\u001b[0m\u001b[0;34m,\u001b[0m \u001b[0mvalue\u001b[0m\u001b[0;34m=\u001b[0m\u001b[0mv\u001b[0m\u001b[0;34m)\u001b[0m\u001b[0;34m\u001b[0m\u001b[0;34m\u001b[0m\u001b[0m\n\u001b[1;32m   1690\u001b[0m                     \u001b[0mser\u001b[0m\u001b[0;34m.\u001b[0m\u001b[0m_maybe_update_cacher\u001b[0m\u001b[0;34m(\u001b[0m\u001b[0mclear\u001b[0m\u001b[0;34m=\u001b[0m\u001b[0;32mTrue\u001b[0m\u001b[0;34m)\u001b[0m\u001b[0;34m\u001b[0m\u001b[0;34m\u001b[0m\u001b[0m\n",
      "\u001b[0;32m~/software/anaconda3/envs/myimmuno3_light/lib/python3.8/site-packages/pandas/core/generic.py\u001b[0m in \u001b[0;36mcopy\u001b[0;34m(self, deep)\u001b[0m\n\u001b[1;32m   5661\u001b[0m         \u001b[0mdtype\u001b[0m\u001b[0;34m:\u001b[0m \u001b[0mobject\u001b[0m\u001b[0;34m\u001b[0m\u001b[0;34m\u001b[0m\u001b[0m\n\u001b[1;32m   5662\u001b[0m         \"\"\"\n\u001b[0;32m-> 5663\u001b[0;31m         \u001b[0mdata\u001b[0m \u001b[0;34m=\u001b[0m \u001b[0mself\u001b[0m\u001b[0;34m.\u001b[0m\u001b[0m_mgr\u001b[0m\u001b[0;34m.\u001b[0m\u001b[0mcopy\u001b[0m\u001b[0;34m(\u001b[0m\u001b[0mdeep\u001b[0m\u001b[0;34m=\u001b[0m\u001b[0mdeep\u001b[0m\u001b[0;34m)\u001b[0m\u001b[0;34m\u001b[0m\u001b[0;34m\u001b[0m\u001b[0m\n\u001b[0m\u001b[1;32m   5664\u001b[0m         \u001b[0mself\u001b[0m\u001b[0;34m.\u001b[0m\u001b[0m_clear_item_cache\u001b[0m\u001b[0;34m(\u001b[0m\u001b[0;34m)\u001b[0m\u001b[0;34m\u001b[0m\u001b[0;34m\u001b[0m\u001b[0m\n\u001b[1;32m   5665\u001b[0m         \u001b[0;32mreturn\u001b[0m \u001b[0mself\u001b[0m\u001b[0;34m.\u001b[0m\u001b[0m_constructor\u001b[0m\u001b[0;34m(\u001b[0m\u001b[0mdata\u001b[0m\u001b[0;34m)\u001b[0m\u001b[0;34m.\u001b[0m\u001b[0m__finalize__\u001b[0m\u001b[0;34m(\u001b[0m\u001b[0mself\u001b[0m\u001b[0;34m,\u001b[0m \u001b[0mmethod\u001b[0m\u001b[0;34m=\u001b[0m\u001b[0;34m\"copy\"\u001b[0m\u001b[0;34m)\u001b[0m\u001b[0;34m\u001b[0m\u001b[0;34m\u001b[0m\u001b[0m\n",
      "\u001b[0;32m~/software/anaconda3/envs/myimmuno3_light/lib/python3.8/site-packages/pandas/core/internals/managers.py\u001b[0m in \u001b[0;36mcopy\u001b[0;34m(self, deep)\u001b[0m\n\u001b[1;32m    800\u001b[0m             \u001b[0mnew_axes\u001b[0m \u001b[0;34m=\u001b[0m \u001b[0mlist\u001b[0m\u001b[0;34m(\u001b[0m\u001b[0mself\u001b[0m\u001b[0;34m.\u001b[0m\u001b[0maxes\u001b[0m\u001b[0;34m)\u001b[0m\u001b[0;34m\u001b[0m\u001b[0;34m\u001b[0m\u001b[0m\n\u001b[1;32m    801\u001b[0m \u001b[0;34m\u001b[0m\u001b[0m\n\u001b[0;32m--> 802\u001b[0;31m         \u001b[0mres\u001b[0m \u001b[0;34m=\u001b[0m \u001b[0mself\u001b[0m\u001b[0;34m.\u001b[0m\u001b[0mapply\u001b[0m\u001b[0;34m(\u001b[0m\u001b[0;34m\"copy\"\u001b[0m\u001b[0;34m,\u001b[0m \u001b[0mdeep\u001b[0m\u001b[0;34m=\u001b[0m\u001b[0mdeep\u001b[0m\u001b[0;34m)\u001b[0m\u001b[0;34m\u001b[0m\u001b[0;34m\u001b[0m\u001b[0m\n\u001b[0m\u001b[1;32m    803\u001b[0m         \u001b[0mres\u001b[0m\u001b[0;34m.\u001b[0m\u001b[0maxes\u001b[0m \u001b[0;34m=\u001b[0m \u001b[0mnew_axes\u001b[0m\u001b[0;34m\u001b[0m\u001b[0;34m\u001b[0m\u001b[0m\n\u001b[1;32m    804\u001b[0m         \u001b[0;32mreturn\u001b[0m \u001b[0mres\u001b[0m\u001b[0;34m\u001b[0m\u001b[0;34m\u001b[0m\u001b[0m\n",
      "\u001b[0;32m~/software/anaconda3/envs/myimmuno3_light/lib/python3.8/site-packages/pandas/core/internals/managers.py\u001b[0m in \u001b[0;36mapply\u001b[0;34m(self, f, align_keys, **kwargs)\u001b[0m\n\u001b[1;32m    404\u001b[0m                 \u001b[0mapplied\u001b[0m \u001b[0;34m=\u001b[0m \u001b[0mb\u001b[0m\u001b[0;34m.\u001b[0m\u001b[0mapply\u001b[0m\u001b[0;34m(\u001b[0m\u001b[0mf\u001b[0m\u001b[0;34m,\u001b[0m \u001b[0;34m**\u001b[0m\u001b[0mkwargs\u001b[0m\u001b[0;34m)\u001b[0m\u001b[0;34m\u001b[0m\u001b[0;34m\u001b[0m\u001b[0m\n\u001b[1;32m    405\u001b[0m             \u001b[0;32melse\u001b[0m\u001b[0;34m:\u001b[0m\u001b[0;34m\u001b[0m\u001b[0;34m\u001b[0m\u001b[0m\n\u001b[0;32m--> 406\u001b[0;31m                 \u001b[0mapplied\u001b[0m \u001b[0;34m=\u001b[0m \u001b[0mgetattr\u001b[0m\u001b[0;34m(\u001b[0m\u001b[0mb\u001b[0m\u001b[0;34m,\u001b[0m \u001b[0mf\u001b[0m\u001b[0;34m)\u001b[0m\u001b[0;34m(\u001b[0m\u001b[0;34m**\u001b[0m\u001b[0mkwargs\u001b[0m\u001b[0;34m)\u001b[0m\u001b[0;34m\u001b[0m\u001b[0;34m\u001b[0m\u001b[0m\n\u001b[0m\u001b[1;32m    407\u001b[0m             \u001b[0mresult_blocks\u001b[0m \u001b[0;34m=\u001b[0m \u001b[0m_extend_blocks\u001b[0m\u001b[0;34m(\u001b[0m\u001b[0mapplied\u001b[0m\u001b[0;34m,\u001b[0m \u001b[0mresult_blocks\u001b[0m\u001b[0;34m)\u001b[0m\u001b[0;34m\u001b[0m\u001b[0;34m\u001b[0m\u001b[0m\n\u001b[1;32m    408\u001b[0m \u001b[0;34m\u001b[0m\u001b[0m\n",
      "\u001b[0;32m~/software/anaconda3/envs/myimmuno3_light/lib/python3.8/site-packages/pandas/core/internals/blocks.py\u001b[0m in \u001b[0;36mcopy\u001b[0;34m(self, deep)\u001b[0m\n\u001b[1;32m    677\u001b[0m         \u001b[0mvalues\u001b[0m \u001b[0;34m=\u001b[0m \u001b[0mself\u001b[0m\u001b[0;34m.\u001b[0m\u001b[0mvalues\u001b[0m\u001b[0;34m\u001b[0m\u001b[0;34m\u001b[0m\u001b[0m\n\u001b[1;32m    678\u001b[0m         \u001b[0;32mif\u001b[0m \u001b[0mdeep\u001b[0m\u001b[0;34m:\u001b[0m\u001b[0;34m\u001b[0m\u001b[0;34m\u001b[0m\u001b[0m\n\u001b[0;32m--> 679\u001b[0;31m             \u001b[0mvalues\u001b[0m \u001b[0;34m=\u001b[0m \u001b[0mvalues\u001b[0m\u001b[0;34m.\u001b[0m\u001b[0mcopy\u001b[0m\u001b[0;34m(\u001b[0m\u001b[0;34m)\u001b[0m\u001b[0;34m\u001b[0m\u001b[0;34m\u001b[0m\u001b[0m\n\u001b[0m\u001b[1;32m    680\u001b[0m         \u001b[0;32mreturn\u001b[0m \u001b[0mself\u001b[0m\u001b[0;34m.\u001b[0m\u001b[0mmake_block_same_class\u001b[0m\u001b[0;34m(\u001b[0m\u001b[0mvalues\u001b[0m\u001b[0;34m,\u001b[0m \u001b[0mndim\u001b[0m\u001b[0;34m=\u001b[0m\u001b[0mself\u001b[0m\u001b[0;34m.\u001b[0m\u001b[0mndim\u001b[0m\u001b[0;34m)\u001b[0m\u001b[0;34m\u001b[0m\u001b[0;34m\u001b[0m\u001b[0m\n\u001b[1;32m    681\u001b[0m \u001b[0;34m\u001b[0m\u001b[0m\n",
      "\u001b[0;31mKeyboardInterrupt\u001b[0m: "
     ]
    }
   ],
   "source": [
    "# tmp['Number kmers expressed in sample'] = 0 \n",
    "# for idx, sample in enumerate(cohort):\n",
    "#     print(idx)\n",
    "#     vals =  df_plot.loc[ : , ['kmer', sample]].drop_duplicates()\n",
    "#     vals = vals[sample].values\n",
    "#     tmp.loc[tmp['sample'] == sample, \n",
    "#             'Number kmers expressed in sample'] = len(np.where(vals > 0 )[0])\n",
    "#     tmp.loc[tmp['sample'] == sample, \n",
    "#             'Number kmers expressed > 10 in sample'] = len(np.where(vals > 10 )[0])\n",
    "#     tmp.loc[tmp['sample'] == sample, \n",
    "#             'Number kmers expressed > 100 in sample'] = len(np.where(vals > 100 )[0])"
   ]
  },
  {
   "cell_type": "code",
   "execution_count": null,
   "metadata": {},
   "outputs": [],
   "source": [
    "# tmp = pd.melt(df_plot, id_vars=['gene', 'kmer', 'sample'], \n",
    "#               value_vars=['Number kmers expressed in sample', \n",
    "#                           'Number kmers expressed > 10 in sample',\n",
    "#                           'Number kmers expressed > 100 in sample']\n",
    "#              value_name='Candidate kmers per cancer sample', \n",
    "#              var_name='Expression level')"
   ]
  },
  {
   "cell_type": "code",
   "execution_count": 316,
   "metadata": {
    "ExecuteTime": {
     "end_time": "2022-06-02T12:20:18.972720Z",
     "start_time": "2022-06-02T12:20:18.964021Z"
    }
   },
   "outputs": [
    {
     "data": {
      "text/html": [
       "<div>\n",
       "<style scoped>\n",
       "    .dataframe tbody tr th:only-of-type {\n",
       "        vertical-align: middle;\n",
       "    }\n",
       "\n",
       "    .dataframe tbody tr th {\n",
       "        vertical-align: top;\n",
       "    }\n",
       "\n",
       "    .dataframe thead th {\n",
       "        text-align: right;\n",
       "    }\n",
       "</style>\n",
       "<table border=\"1\" class=\"dataframe\">\n",
       "  <thead>\n",
       "    <tr style=\"text-align: right;\">\n",
       "      <th></th>\n",
       "      <th>gene</th>\n",
       "      <th>kmer</th>\n",
       "      <th>sample</th>\n",
       "      <th>Normalized RNA expression of junction</th>\n",
       "      <th>Number kmers expressed in sample</th>\n",
       "    </tr>\n",
       "  </thead>\n",
       "  <tbody>\n",
       "    <tr>\n",
       "      <th>0</th>\n",
       "      <td>ENSG00000060339.14</td>\n",
       "      <td>AAAALQQHS</td>\n",
       "      <td>TCGA3CAAAU01A11RA41B07all</td>\n",
       "      <td>4.0</td>\n",
       "      <td>12218</td>\n",
       "    </tr>\n",
       "    <tr>\n",
       "      <th>1</th>\n",
       "      <td>ENSG00000060339.14</td>\n",
       "      <td>AAAALQQHS</td>\n",
       "      <td>TCGA3CAAAU01A11RA41B07all</td>\n",
       "      <td>4.0</td>\n",
       "      <td>12218</td>\n",
       "    </tr>\n",
       "    <tr>\n",
       "      <th>2</th>\n",
       "      <td>ENSG00000119333.11</td>\n",
       "      <td>AAADGVLSV</td>\n",
       "      <td>TCGA3CAAAU01A11RA41B07all</td>\n",
       "      <td>243.0</td>\n",
       "      <td>12218</td>\n",
       "    </tr>\n",
       "    <tr>\n",
       "      <th>3</th>\n",
       "      <td>ENSG00000119333.11</td>\n",
       "      <td>AAADGWTMG</td>\n",
       "      <td>TCGA3CAAAU01A11RA41B07all</td>\n",
       "      <td>2.0</td>\n",
       "      <td>12218</td>\n",
       "    </tr>\n",
       "    <tr>\n",
       "      <th>4</th>\n",
       "      <td>ENSG00000119333.11</td>\n",
       "      <td>AAADGWTMG</td>\n",
       "      <td>TCGA3CAAAU01A11RA41B07all</td>\n",
       "      <td>2.0</td>\n",
       "      <td>12218</td>\n",
       "    </tr>\n",
       "  </tbody>\n",
       "</table>\n",
       "</div>"
      ],
      "text/plain": [
       "                 gene       kmer                     sample  \\\n",
       "0  ENSG00000060339.14  AAAALQQHS  TCGA3CAAAU01A11RA41B07all   \n",
       "1  ENSG00000060339.14  AAAALQQHS  TCGA3CAAAU01A11RA41B07all   \n",
       "2  ENSG00000119333.11  AAADGVLSV  TCGA3CAAAU01A11RA41B07all   \n",
       "3  ENSG00000119333.11  AAADGWTMG  TCGA3CAAAU01A11RA41B07all   \n",
       "4  ENSG00000119333.11  AAADGWTMG  TCGA3CAAAU01A11RA41B07all   \n",
       "\n",
       "   Normalized RNA expression of junction  Number kmers expressed in sample  \n",
       "0                                    4.0                             12218  \n",
       "1                                    4.0                             12218  \n",
       "2                                  243.0                             12218  \n",
       "3                                    2.0                             12218  \n",
       "4                                    2.0                             12218  "
      ]
     },
     "execution_count": 316,
     "metadata": {},
     "output_type": "execute_result"
    }
   ],
   "source": [
    "tmp.head()"
   ]
  },
  {
   "cell_type": "markdown",
   "metadata": {},
   "source": [
    "# Figure 4 "
   ]
  },
  {
   "cell_type": "code",
   "execution_count": null,
   "metadata": {},
   "outputs": [],
   "source": [
    "meta_cols = [ col for col in df_plot.columns if 'TCGA' not in col ] \n"
   ]
  },
  {
   "cell_type": "code",
   "execution_count": null,
   "metadata": {},
   "outputs": [],
   "source": [
    "recurrence_max = 30 \n",
    "tmp = df_plot.loc[(df_plot['GTEX_presence'] == 0) &\n",
    "                  (df_plot['junctionAnnotated_kmer'] == 0) &\n",
    "                  (df_plot['recurrence'] > 0) &\n",
    "                  (df_plot['recurrence'] <= recurrence_max ) &\n",
    "                  (df_plot['MHC-I binding status'] != 'not computed'), \n",
    "                  ['recurrence', 'kmer', 'GTEX_presence', \n",
    "                  'MHC-I binding status', \n",
    "                  'percentile_rank', \n",
    "                   'sample'\n",
    "                  ] + cohort ].drop_duplicates()\n",
    "print(tmp.shape)"
   ]
  },
  {
   "cell_type": "code",
   "execution_count": null,
   "metadata": {},
   "outputs": [],
   "source": [
    "meta_cols"
   ]
  },
  {
   "cell_type": "code",
   "execution_count": null,
   "metadata": {},
   "outputs": [],
   "source": [
    "tmp.head()"
   ]
  },
  {
   "cell_type": "code",
   "execution_count": null,
   "metadata": {},
   "outputs": [],
   "source": [
    "markers = ['^', 'o', 's', 'X', 'd']\n",
    "all_tmp_plots = []\n",
    "for idx, sample in enumerate(samples):\n",
    "    print(sample)\n",
    "    sample_short = ''.join(sample.split('.')[:-1])\n",
    "    sample_lower = '_'.join(sample_short.split('-')[1:3]).lower()\n",
    "    sample_nice = '_'.join(sample_short.split('-')[0:3])\n",
    "    sample_pool = sample.replace('-', '').replace('.', '')\n",
    "\n",
    "    tmp_plot = tmp.loc[(tmp['sample'] == sample_pool) &\n",
    "                       (tmp[sample_pool] > 0 ), :]\n",
    "    new_name = 'MHC-I binding status {}'.format('')\n",
    "    tmp_plot = tmp_plot.rename({'MHC-I binding status':\n",
    "                               new_name}, axis = 1)\n",
    "    \n",
    "    all_tmp_plots.append(tmp_plot)\n",
    "    print(tmp_plot.shape)\n",
    "    if len(tmp_plot):\n",
    "        ax = sns.swarmplot(data = tmp_plot, x = 'recurrence', y = sample_pool, \n",
    "                        hue = new_name, marker = markers[idx], \n",
    "                          # jitter = 2\n",
    "                          palette = ['b', 'grey', 'r'])\n",
    "\n",
    "\n",
    "\n",
    "plt.xlabel('Recurrence across BRCA cohort')\n",
    "plt.ylabel('Normalized Expression in target sample')\n",
    "#plt.yscale(\"log\")  \n",
    "# plt.grid(True, which='both', color='lightgrey')\n",
    "ax.xaxis.grid(color='lightgrey', linestyle='dashed', which='both')\n",
    "#plt.ylim([0.1, max(tmp[sample])])\n",
    "#plt.xlim([0, 30])\n",
    "handles, labels = ax.get_legend_handles_labels()\n",
    "ax.legend(handles[:3], labels[:3])\n",
    "    \n",
    "save = False\n",
    "suffix = 'recurrence_expression_binding'\n",
    "save_path = os.path.join(plot_dir, f'{base_plot}_{suffix}.pdf')\n",
    "if save:\n",
    "    print(\"save to {}\".format(save_path))\n",
    "    plt.savefig(save_path, bbox_inches='tight')\n",
    "plt.show()"
   ]
  }
 ],
 "metadata": {
  "kernelspec": {
   "display_name": "myimmuno3_light",
   "language": "python",
   "name": "myimmuno3_light"
  },
  "language_info": {
   "codemirror_mode": {
    "name": "ipython",
    "version": 3
   },
   "file_extension": ".py",
   "mimetype": "text/x-python",
   "name": "python",
   "nbconvert_exporter": "python",
   "pygments_lexer": "ipython3",
   "version": "3.8.5"
  }
 },
 "nbformat": 4,
 "nbformat_minor": 4
}
