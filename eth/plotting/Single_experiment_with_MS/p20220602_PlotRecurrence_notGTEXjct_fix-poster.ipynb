{
 "cells": [
  {
   "cell_type": "code",
   "execution_count": 1,
   "metadata": {
    "ExecuteTime": {
     "end_time": "2022-07-07T12:43:56.486080Z",
     "start_time": "2022-07-07T12:43:50.210284Z"
    }
   },
   "outputs": [],
   "source": [
    "import os \n",
    "import pandas as pd\n",
    "from collections import defaultdict\n",
    "import numpy as np \n",
    "import glob\n",
    "import matplotlib.pyplot as plt\n",
    "import seaborn as sns"
   ]
  },
  {
   "cell_type": "code",
   "execution_count": 2,
   "metadata": {
    "ExecuteTime": {
     "end_time": "2022-07-07T12:43:56.495742Z",
     "start_time": "2022-07-07T12:43:56.490678Z"
    }
   },
   "outputs": [],
   "source": [
    "# Path saving \n",
    "gene_eq_path = '/cluster/work/grlab/projects/projects2020_OHSU/peptides_generation/v2_v3_d2d2574_TEST_conf2_annotFrame_cap0_runs/TCGA_Breast_1102'\n"
   ]
  },
  {
   "cell_type": "code",
   "execution_count": 72,
   "metadata": {
    "ExecuteTime": {
     "end_time": "2022-07-07T13:16:33.364614Z",
     "start_time": "2022-07-07T13:16:33.325773Z"
    }
   },
   "outputs": [],
   "source": [
    "plot_dir = '/cluster/work/grlab/projects/projects2020_OHSU/plots'\n",
    "plot_dir = os.path.join(plot_dir, 'MS_single_sample_plots')\n",
    "#os.mkdir(plot_dir)\n",
    "base_plot = 'v2_v2.5f0752a_with_v2_v3_d2d2574_conf2_BRCA'\n",
    "save_suffix = 'fix-sample'"
   ]
  },
  {
   "cell_type": "code",
   "execution_count": null,
   "metadata": {
    "ExecuteTime": {
     "end_time": "2022-07-07T12:43:56.871220Z",
     "start_time": "2022-07-07T12:43:51.487Z"
    }
   },
   "outputs": [],
   "source": [
    "print(plot_dir)"
   ]
  },
  {
   "cell_type": "code",
   "execution_count": 5,
   "metadata": {
    "ExecuteTime": {
     "end_time": "2022-07-07T12:46:30.467551Z",
     "start_time": "2022-07-07T12:44:16.579936Z"
    }
   },
   "outputs": [
    {
     "name": "stderr",
     "output_type": "stream",
     "text": [
      "/cluster/home/prelotla/software/anaconda3/envs/myimmuno3_light/lib/python3.8/site-packages/IPython/core/interactiveshell.py:3146: DtypeWarning: Columns (5,6,7,8,9,10,11,15,1120) have mixed types.Specify dtype option on import or set low_memory=False.\n",
      "  has_raised = await self.run_ast_nodes(code_ast.body, cell_name,\n"
     ]
    }
   ],
   "source": [
    "# Read intermediate file \n",
    "df_plot = pd.read_csv(os.path.join(gene_eq_path, 'exp_427_kmers_plot2_fix-sample.csv.gz'),\n",
    "                                   #'exp_427_kmers_plot2.csv.gz', #exp_427_kmers_plot\n",
    "                      compression = 'gzip' )"
   ]
  },
  {
   "cell_type": "code",
   "execution_count": 60,
   "metadata": {
    "ExecuteTime": {
     "end_time": "2022-07-07T13:06:35.441826Z",
     "start_time": "2022-07-07T13:06:35.436989Z"
    }
   },
   "outputs": [],
   "source": [
    "samples = ['TCGA-BH-A18V-01A-11R-A12D-07.all', \n",
    "        'TCGA-C8-A12P-01A-11R-A115-07.all', \n",
    "        'TCGA-AO-A0JM-01A-21R-A056-07.all', \n",
    "        'TCGA-A2-A0SX-01A-12R-A084-07.all',\n",
    "        'TCGA-A2-A0D2-01A-21R-A034-07.all']"
   ]
  },
  {
   "cell_type": "code",
   "execution_count": 6,
   "metadata": {
    "ExecuteTime": {
     "end_time": "2022-07-07T12:46:30.702348Z",
     "start_time": "2022-07-07T12:46:30.470220Z"
    }
   },
   "outputs": [
    {
     "data": {
      "text/html": [
       "<div>\n",
       "<style scoped>\n",
       "    .dataframe tbody tr th:only-of-type {\n",
       "        vertical-align: middle;\n",
       "    }\n",
       "\n",
       "    .dataframe tbody tr th {\n",
       "        vertical-align: top;\n",
       "    }\n",
       "\n",
       "    .dataframe thead th {\n",
       "        text-align: right;\n",
       "    }\n",
       "</style>\n",
       "<table border=\"1\" class=\"dataframe\">\n",
       "  <thead>\n",
       "    <tr style=\"text-align: right;\">\n",
       "      <th></th>\n",
       "      <th>&gt;pepID</th>\n",
       "      <th>jx_pos</th>\n",
       "      <th>between_codons</th>\n",
       "      <th>includes_5'</th>\n",
       "      <th>includes_3'</th>\n",
       "      <th>gene</th>\n",
       "      <th>jx_coord</th>\n",
       "      <th>kmer</th>\n",
       "      <th>readFrameAnnotated</th>\n",
       "      <th>junctionAnnotated</th>\n",
       "      <th>...</th>\n",
       "      <th>TCGAWTAB4101A11RA41B07all</th>\n",
       "      <th>TCGAWTAB4401A11RA41B07all</th>\n",
       "      <th>TCGAXXA89901A11RA36F07all</th>\n",
       "      <th>TCGAXXA89A01A11RA36F07all</th>\n",
       "      <th>TCGAZ7A8R501A42RA41B07all</th>\n",
       "      <th>TCGAZ7A8R601A11RA41B07all</th>\n",
       "      <th>isCrossJunction</th>\n",
       "      <th>junctionAnnotated_kmer</th>\n",
       "      <th>readFrameAnnotated_kmer</th>\n",
       "      <th>recurrence</th>\n",
       "    </tr>\n",
       "  </thead>\n",
       "  <tbody>\n",
       "    <tr>\n",
       "      <th>0</th>\n",
       "      <td>2</td>\n",
       "      <td>56.0</td>\n",
       "      <td>1.0</td>\n",
       "      <td>0.0</td>\n",
       "      <td>0.0</td>\n",
       "      <td>ENSG00000060339.14</td>\n",
       "      <td>68737048_68742427</td>\n",
       "      <td>AAAALQQHS</td>\n",
       "      <td>0</td>\n",
       "      <td>0</td>\n",
       "      <td>...</td>\n",
       "      <td>0.0</td>\n",
       "      <td>0.0</td>\n",
       "      <td>6.0</td>\n",
       "      <td>0.0</td>\n",
       "      <td>0.0</td>\n",
       "      <td>3.0</td>\n",
       "      <td>True</td>\n",
       "      <td>0.0</td>\n",
       "      <td>0.0</td>\n",
       "      <td>970.0</td>\n",
       "    </tr>\n",
       "    <tr>\n",
       "      <th>1</th>\n",
       "      <td>2</td>\n",
       "      <td>57.0</td>\n",
       "      <td>1.0</td>\n",
       "      <td>0.0</td>\n",
       "      <td>0.0</td>\n",
       "      <td>ENSG00000060339.14</td>\n",
       "      <td>68742430_68742487</td>\n",
       "      <td>AAAALQQHS</td>\n",
       "      <td>0</td>\n",
       "      <td>0</td>\n",
       "      <td>...</td>\n",
       "      <td>0.0</td>\n",
       "      <td>0.0</td>\n",
       "      <td>6.0</td>\n",
       "      <td>0.0</td>\n",
       "      <td>0.0</td>\n",
       "      <td>3.0</td>\n",
       "      <td>True</td>\n",
       "      <td>0.0</td>\n",
       "      <td>0.0</td>\n",
       "      <td>970.0</td>\n",
       "    </tr>\n",
       "    <tr>\n",
       "      <th>2</th>\n",
       "      <td>4</td>\n",
       "      <td>12.0</td>\n",
       "      <td>0.0</td>\n",
       "      <td>0.0</td>\n",
       "      <td>0.0</td>\n",
       "      <td>ENSG00000119333.11</td>\n",
       "      <td>128640690_128637027</td>\n",
       "      <td>AAADGVLSV</td>\n",
       "      <td>0</td>\n",
       "      <td>1</td>\n",
       "      <td>...</td>\n",
       "      <td>72.0</td>\n",
       "      <td>28.0</td>\n",
       "      <td>156.0</td>\n",
       "      <td>164.0</td>\n",
       "      <td>112.0</td>\n",
       "      <td>651.0</td>\n",
       "      <td>True</td>\n",
       "      <td>1.0</td>\n",
       "      <td>0.0</td>\n",
       "      <td>1100.0</td>\n",
       "    </tr>\n",
       "    <tr>\n",
       "      <th>3</th>\n",
       "      <td>5</td>\n",
       "      <td>12.0</td>\n",
       "      <td>0.0</td>\n",
       "      <td>0.0</td>\n",
       "      <td>1.0</td>\n",
       "      <td>ENSG00000119333.11</td>\n",
       "      <td>128640690_128636438</td>\n",
       "      <td>AAADGWTMG</td>\n",
       "      <td>0</td>\n",
       "      <td>1</td>\n",
       "      <td>...</td>\n",
       "      <td>0.0</td>\n",
       "      <td>1.0</td>\n",
       "      <td>2.0</td>\n",
       "      <td>1.0</td>\n",
       "      <td>0.0</td>\n",
       "      <td>4.0</td>\n",
       "      <td>True</td>\n",
       "      <td>1.0</td>\n",
       "      <td>0.0</td>\n",
       "      <td>972.0</td>\n",
       "    </tr>\n",
       "    <tr>\n",
       "      <th>4</th>\n",
       "      <td>6</td>\n",
       "      <td>12.0</td>\n",
       "      <td>0.0</td>\n",
       "      <td>0.0</td>\n",
       "      <td>0.0</td>\n",
       "      <td>ENSG00000119333.11</td>\n",
       "      <td>128640690_128636438</td>\n",
       "      <td>AAADGWTMG</td>\n",
       "      <td>0</td>\n",
       "      <td>1</td>\n",
       "      <td>...</td>\n",
       "      <td>0.0</td>\n",
       "      <td>1.0</td>\n",
       "      <td>2.0</td>\n",
       "      <td>1.0</td>\n",
       "      <td>0.0</td>\n",
       "      <td>4.0</td>\n",
       "      <td>True</td>\n",
       "      <td>1.0</td>\n",
       "      <td>0.0</td>\n",
       "      <td>972.0</td>\n",
       "    </tr>\n",
       "  </tbody>\n",
       "</table>\n",
       "<p>5 rows × 1124 columns</p>\n",
       "</div>"
      ],
      "text/plain": [
       "   >pepID  jx_pos  between_codons  includes_5'  includes_3'  \\\n",
       "0       2    56.0             1.0          0.0          0.0   \n",
       "1       2    57.0             1.0          0.0          0.0   \n",
       "2       4    12.0             0.0          0.0          0.0   \n",
       "3       5    12.0             0.0          0.0          1.0   \n",
       "4       6    12.0             0.0          0.0          0.0   \n",
       "\n",
       "                 gene             jx_coord       kmer readFrameAnnotated  \\\n",
       "0  ENSG00000060339.14    68737048_68742427  AAAALQQHS                  0   \n",
       "1  ENSG00000060339.14    68742430_68742487  AAAALQQHS                  0   \n",
       "2  ENSG00000119333.11  128640690_128637027  AAADGVLSV                  0   \n",
       "3  ENSG00000119333.11  128640690_128636438  AAADGWTMG                  0   \n",
       "4  ENSG00000119333.11  128640690_128636438  AAADGWTMG                  0   \n",
       "\n",
       "  junctionAnnotated  ... TCGAWTAB4101A11RA41B07all TCGAWTAB4401A11RA41B07all  \\\n",
       "0                 0  ...                       0.0                       0.0   \n",
       "1                 0  ...                       0.0                       0.0   \n",
       "2                 1  ...                      72.0                      28.0   \n",
       "3                 1  ...                       0.0                       1.0   \n",
       "4                 1  ...                       0.0                       1.0   \n",
       "\n",
       "  TCGAXXA89901A11RA36F07all  TCGAXXA89A01A11RA36F07all  \\\n",
       "0                       6.0                        0.0   \n",
       "1                       6.0                        0.0   \n",
       "2                     156.0                      164.0   \n",
       "3                       2.0                        1.0   \n",
       "4                       2.0                        1.0   \n",
       "\n",
       "   TCGAZ7A8R501A42RA41B07all TCGAZ7A8R601A11RA41B07all  isCrossJunction  \\\n",
       "0                        0.0                       3.0             True   \n",
       "1                        0.0                       3.0             True   \n",
       "2                      112.0                     651.0             True   \n",
       "3                        0.0                       4.0             True   \n",
       "4                        0.0                       4.0             True   \n",
       "\n",
       "   junctionAnnotated_kmer  readFrameAnnotated_kmer  recurrence  \n",
       "0                     0.0                      0.0       970.0  \n",
       "1                     0.0                      0.0       970.0  \n",
       "2                     1.0                      0.0      1100.0  \n",
       "3                     1.0                      0.0       972.0  \n",
       "4                     1.0                      0.0       972.0  \n",
       "\n",
       "[5 rows x 1124 columns]"
      ]
     },
     "execution_count": 6,
     "metadata": {},
     "output_type": "execute_result"
    }
   ],
   "source": [
    "df_plot.head()"
   ]
  },
  {
   "cell_type": "code",
   "execution_count": 7,
   "metadata": {
    "ExecuteTime": {
     "end_time": "2022-07-07T12:46:30.713184Z",
     "start_time": "2022-07-07T12:46:30.707870Z"
    }
   },
   "outputs": [],
   "source": [
    "# # TEST \n",
    "# grp = df_plot.groupby(['>pepID',\n",
    "#  \"includes_5'\",\n",
    "#  \"includes_3'\",\n",
    "#  'gene',\n",
    "#  'kmer',\n",
    "#  'peptide',\n",
    "#  'sample',\n",
    "#  'percentile_rank',\n",
    "#  'affinity',\n",
    "#  'strand',\n",
    "#  'GTEX_presence',\n",
    "#  'index',\n",
    "#  'isCrossJunction',\n",
    "#  'recurrence']).count()\n",
    "\n",
    "# grp = grp.loc[grp['jx_pos'] == 2 , :]\n",
    "\n",
    "# grp = grp.reset_index()\n",
    "\n",
    "# test = df_plot.set_index('>pepID')\n",
    "\n",
    "# test = test.loc[grp['>pepID']]\n",
    "\n",
    "# test =test.drop_duplicates() # 3 exons only "
   ]
  },
  {
   "cell_type": "code",
   "execution_count": 8,
   "metadata": {
    "ExecuteTime": {
     "end_time": "2022-07-07T12:46:30.724220Z",
     "start_time": "2022-07-07T12:46:30.720107Z"
    }
   },
   "outputs": [],
   "source": [
    "# # TEST \n",
    "# # kmers from 3 exon derived peptides\n",
    "# test.loc[test['sample'] == 'TCGABHA18V01A11RA12D07all', 'kmer'].unique() "
   ]
  },
  {
   "cell_type": "code",
   "execution_count": 9,
   "metadata": {
    "ExecuteTime": {
     "end_time": "2022-07-07T12:46:30.734301Z",
     "start_time": "2022-07-07T12:46:30.730292Z"
    }
   },
   "outputs": [],
   "source": [
    "# Some type conversions\n",
    "# df_plot['junctionAnnotated'] = df_plot['junctionAnnotated'].astype(str)\n",
    "# df_plot['readFrameAnnotated'] = df_plot['readFrameAnnotated'].astype(str)"
   ]
  },
  {
   "cell_type": "code",
   "execution_count": 59,
   "metadata": {
    "ExecuteTime": {
     "end_time": "2022-07-07T13:05:26.946221Z",
     "start_time": "2022-07-07T13:05:26.830092Z"
    }
   },
   "outputs": [],
   "source": [
    "# Annotate MHC\n",
    "df_plot['MHC-I binding status'] = 'not computed'\n",
    "\n",
    "df_plot.loc[df_plot['percentile_rank'] <=2 ,\n",
    "            'MHC-I binding status'] = 'strong binding'\n",
    "df_plot.loc[ (10 >= df_plot['percentile_rank']) &\n",
    "              (df_plot['percentile_rank'] > 2), \n",
    "            'MHC-I binding status'] = 'weak binding'\n",
    "df_plot.loc[ 10 < df_plot['percentile_rank'] ,\n",
    "            'MHC-I binding status'] = 'not binding'"
   ]
  },
  {
   "cell_type": "code",
   "execution_count": 11,
   "metadata": {
    "ExecuteTime": {
     "end_time": "2022-07-07T12:46:31.397691Z",
     "start_time": "2022-07-07T12:46:31.388705Z"
    }
   },
   "outputs": [
    {
     "data": {
      "text/plain": [
       "Index(['>pepID', 'jx_pos', 'between_codons', 'includes_5'', 'includes_3'',\n",
       "       'gene', 'jx_coord', 'kmer', 'readFrameAnnotated', 'junctionAnnotated',\n",
       "       ...\n",
       "       'TCGAWTAB4401A11RA41B07all', 'TCGAXXA89901A11RA36F07all',\n",
       "       'TCGAXXA89A01A11RA36F07all', 'TCGAZ7A8R501A42RA41B07all',\n",
       "       'TCGAZ7A8R601A11RA41B07all', 'isCrossJunction',\n",
       "       'junctionAnnotated_kmer', 'readFrameAnnotated_kmer', 'recurrence',\n",
       "       'MHC-I binding status'],\n",
       "      dtype='object', length=1125)"
      ]
     },
     "execution_count": 11,
     "metadata": {},
     "output_type": "execute_result"
    }
   ],
   "source": [
    "df_plot.columns"
   ]
  },
  {
   "cell_type": "code",
   "execution_count": 12,
   "metadata": {
    "ExecuteTime": {
     "end_time": "2022-07-07T12:46:31.406482Z",
     "start_time": "2022-07-07T12:46:31.402042Z"
    }
   },
   "outputs": [],
   "source": [
    "meta_cols = [ col for col in df_plot.columns if 'TCGA' not in col ] \n",
    "cohort = [ col for col in df_plot.columns if 'TCGA' in col ] "
   ]
  },
  {
   "cell_type": "code",
   "execution_count": 13,
   "metadata": {
    "ExecuteTime": {
     "end_time": "2022-07-07T12:46:31.417597Z",
     "start_time": "2022-07-07T12:46:31.410537Z"
    }
   },
   "outputs": [
    {
     "data": {
      "text/plain": [
       "['>pepID',\n",
       " 'jx_pos',\n",
       " 'between_codons',\n",
       " \"includes_5'\",\n",
       " \"includes_3'\",\n",
       " 'gene',\n",
       " 'jx_coord',\n",
       " 'kmer',\n",
       " 'readFrameAnnotated',\n",
       " 'junctionAnnotated',\n",
       " 'origin',\n",
       " 'peptide',\n",
       " 'sample',\n",
       " 'percentile_rank',\n",
       " 'affinity',\n",
       " 'strand',\n",
       " 'GTEX_presence',\n",
       " 'index',\n",
       " 'isCrossJunction',\n",
       " 'junctionAnnotated_kmer',\n",
       " 'readFrameAnnotated_kmer',\n",
       " 'recurrence',\n",
       " 'MHC-I binding status']"
      ]
     },
     "execution_count": 13,
     "metadata": {},
     "output_type": "execute_result"
    }
   ],
   "source": [
    "meta_cols"
   ]
  },
  {
   "cell_type": "markdown",
   "metadata": {},
   "source": [
    "# Correction for kmers from multiple junctions"
   ]
  },
  {
   "cell_type": "code",
   "execution_count": 14,
   "metadata": {
    "ExecuteTime": {
     "end_time": "2022-07-07T12:48:07.923571Z",
     "start_time": "2022-07-07T12:47:56.858807Z"
    }
   },
   "outputs": [
    {
     "data": {
      "text/plain": [
       "(30082, 1114)"
      ]
     },
     "metadata": {},
     "output_type": "display_data"
    }
   ],
   "source": [
    "df_group = df_plot.groupby(['kmer']).sum()\n",
    "display(df_group.shape)\n",
    "not_GTEX_cross_samples = df_group.loc[df_group['GTEX_presence'] == 0, :].reset_index()[['kmer']]\n",
    "not_GTEX_cross_samples = df_plot.merge(not_GTEX_cross_samples, on = 'kmer', how = 'right')"
   ]
  },
  {
   "cell_type": "markdown",
   "metadata": {},
   "source": [
    "# Figure1 "
   ]
  },
  {
   "cell_type": "code",
   "execution_count": 97,
   "metadata": {
    "ExecuteTime": {
     "end_time": "2022-07-07T13:36:00.357005Z",
     "start_time": "2022-07-07T13:35:58.422207Z"
    }
   },
   "outputs": [
    {
     "name": "stdout",
     "output_type": "stream",
     "text": [
      "number of kmers 3802\n"
     ]
    }
   ],
   "source": [
    "recurrence_max = 30\n",
    "tmp = df_plot.loc[(df_plot['GTEX_presence'] == 0) &\n",
    "                  (df_plot['junctionAnnotated_kmer'] == 0) &\n",
    "                  (df_plot['recurrence'] > 0) &\n",
    "                  (df_plot['recurrence'] <= recurrence_max ), \n",
    "                  ['recurrence', 'kmer', 'GTEX_presence'] + cohort ].drop_duplicates()\n",
    "print('number of kmers', tmp.shape[0])\n"
   ]
  },
  {
   "cell_type": "code",
   "execution_count": 98,
   "metadata": {
    "ExecuteTime": {
     "end_time": "2022-07-07T13:36:00.970624Z",
     "start_time": "2022-07-07T13:36:00.399761Z"
    }
   },
   "outputs": [],
   "source": [
    "tmp[tmp == 0] = np.nan\n",
    "means = np.nanmean(tmp.loc[:, cohort], axis=1)\n",
    "medians = np.nanmedian(tmp.loc[:, cohort], axis=1)"
   ]
  },
  {
   "cell_type": "code",
   "execution_count": 99,
   "metadata": {
    "ExecuteTime": {
     "end_time": "2022-07-07T13:36:00.982308Z",
     "start_time": "2022-07-07T13:36:00.973606Z"
    }
   },
   "outputs": [],
   "source": [
    "tmp['mean_exp'] = means\n",
    "tmp['median_exp'] = medians"
   ]
  },
  {
   "cell_type": "code",
   "execution_count": 100,
   "metadata": {
    "ExecuteTime": {
     "end_time": "2022-07-07T13:36:02.238723Z",
     "start_time": "2022-07-07T13:36:00.985131Z"
    },
    "scrolled": true
   },
   "outputs": [
    {
     "data": {
      "image/png": "[encoded data removed]",
      "text/plain": [
       "<Figure size 432x288 with 1 Axes>"
      ]
     },
     "metadata": {
      "needs_background": "light"
     },
     "output_type": "display_data"
    }
   ],
   "source": [
    "plt.scatter(tmp['recurrence'], tmp['median_exp'])\n",
    "plt.xlabel('recurrence')\n",
    "plt.ylabel('median_exp')\n",
    "plt.yscale(\"log\")  \n",
    "#plt.ylim([0.1, max(tmp['median_exp'])])"
   ]
  },
  {
   "cell_type": "code",
   "execution_count": 101,
   "metadata": {
    "ExecuteTime": {
     "end_time": "2022-07-07T13:36:03.433091Z",
     "start_time": "2022-07-07T13:36:02.242022Z"
    }
   },
   "outputs": [
    {
     "name": "stdout",
     "output_type": "stream",
     "text": [
      "number of kmers 3802\n",
      "save to /cluster/work/grlab/projects/projects2020_OHSU/plots/MS_single_sample_plots/v2_v2.5f0752a_with_v2_v3_d2d2574_conf2_BRCA_recurrence_expression_fix-sample.pdf\n"
     ]
    },
    {
     "data": {
      "image/png": "[encoded data removed]",
      "text/plain": [
       "<Figure size 432x288 with 1 Axes>"
      ]
     },
     "metadata": {
      "needs_background": "light"
     },
     "output_type": "display_data"
    }
   ],
   "source": [
    "#plt.grid(True, which='both', color='lightgrey')\n",
    "ax = sns.scatterplot(data = tmp, x = 'recurrence', y= 'median_exp', \n",
    "                #, hue = 'readFrameAnnotated'\n",
    "               edgecolors = 'black', \n",
    "               facecolors='royalblue')\n",
    "ax.set_axisbelow(True)\n",
    "ax.yaxis.grid(color='lightgrey', linestyle='dashed', which='both')\n",
    "ax.xaxis.grid(color='lightgrey', linestyle='dashed', which='both')\n",
    "print('number of kmers', tmp.shape[0])\n",
    "plt.xlabel('Recurrence across BRCA cohort')\n",
    "plt.ylabel('Normalized expression median across cohort')\n",
    "plt.yscale(\"log\")  \n",
    "\n",
    "#plt.ylim([0.1, max(tmp['median_exp'])])\n",
    "\n",
    "save = False\n",
    "suffix = 'recurrence_expression'\n",
    "save_path = os.path.join(plot_dir, f'{base_plot}_{suffix}_{save_suffix}.pdf')\n",
    "if save:\n",
    "    print(\"save to {}\".format(save_path))\n",
    "    plt.savefig(save_path, bbox_inches='tight')\n",
    "plt.show()"
   ]
  },
  {
   "cell_type": "code",
   "execution_count": 104,
   "metadata": {
    "ExecuteTime": {
     "end_time": "2022-07-07T13:38:26.952498Z",
     "start_time": "2022-07-07T13:38:26.897853Z"
    }
   },
   "outputs": [
    {
     "data": {
      "text/html": [
       "<div>\n",
       "<style scoped>\n",
       "    .dataframe tbody tr th:only-of-type {\n",
       "        vertical-align: middle;\n",
       "    }\n",
       "\n",
       "    .dataframe tbody tr th {\n",
       "        vertical-align: top;\n",
       "    }\n",
       "\n",
       "    .dataframe thead th {\n",
       "        text-align: right;\n",
       "    }\n",
       "</style>\n",
       "<table border=\"1\" class=\"dataframe\">\n",
       "  <thead>\n",
       "    <tr style=\"text-align: right;\">\n",
       "      <th></th>\n",
       "      <th>recurrence</th>\n",
       "      <th>kmer</th>\n",
       "      <th>GTEX_presence</th>\n",
       "      <th>TCGA3CAAAU01A11RA41B07all</th>\n",
       "      <th>TCGA3CAALI01A11RA41B07all</th>\n",
       "      <th>TCGA3CAALJ01A31RA41B07all</th>\n",
       "      <th>TCGA3CAALK01A11RA41B07all</th>\n",
       "      <th>TCGA4HAAAK01A12RA41B07all</th>\n",
       "      <th>TCGA5LAAT001A12RA41B07all</th>\n",
       "      <th>TCGA5LAAT101A12RA41B07all</th>\n",
       "      <th>...</th>\n",
       "      <th>TCGAV7A7HQ01A11RA33J07all</th>\n",
       "      <th>TCGAW8A86G01A21RA36F07all</th>\n",
       "      <th>TCGAWTAB4101A11RA41B07all</th>\n",
       "      <th>TCGAWTAB4401A11RA41B07all</th>\n",
       "      <th>TCGAXXA89901A11RA36F07all</th>\n",
       "      <th>TCGAXXA89A01A11RA36F07all</th>\n",
       "      <th>TCGAZ7A8R501A42RA41B07all</th>\n",
       "      <th>TCGAZ7A8R601A11RA41B07all</th>\n",
       "      <th>mean_exp</th>\n",
       "      <th>median_exp</th>\n",
       "    </tr>\n",
       "  </thead>\n",
       "  <tbody>\n",
       "    <tr>\n",
       "      <th>18</th>\n",
       "      <td>1.0</td>\n",
       "      <td>AAALQQHSS</td>\n",
       "      <td>NaN</td>\n",
       "      <td>NaN</td>\n",
       "      <td>NaN</td>\n",
       "      <td>NaN</td>\n",
       "      <td>NaN</td>\n",
       "      <td>NaN</td>\n",
       "      <td>NaN</td>\n",
       "      <td>NaN</td>\n",
       "      <td>...</td>\n",
       "      <td>NaN</td>\n",
       "      <td>NaN</td>\n",
       "      <td>NaN</td>\n",
       "      <td>NaN</td>\n",
       "      <td>NaN</td>\n",
       "      <td>NaN</td>\n",
       "      <td>NaN</td>\n",
       "      <td>NaN</td>\n",
       "      <td>2.0</td>\n",
       "      <td>2.0</td>\n",
       "    </tr>\n",
       "    <tr>\n",
       "      <th>41</th>\n",
       "      <td>1.0</td>\n",
       "      <td>AACGPAGGS</td>\n",
       "      <td>NaN</td>\n",
       "      <td>NaN</td>\n",
       "      <td>NaN</td>\n",
       "      <td>NaN</td>\n",
       "      <td>NaN</td>\n",
       "      <td>NaN</td>\n",
       "      <td>NaN</td>\n",
       "      <td>NaN</td>\n",
       "      <td>...</td>\n",
       "      <td>NaN</td>\n",
       "      <td>NaN</td>\n",
       "      <td>NaN</td>\n",
       "      <td>NaN</td>\n",
       "      <td>NaN</td>\n",
       "      <td>NaN</td>\n",
       "      <td>NaN</td>\n",
       "      <td>NaN</td>\n",
       "      <td>4.0</td>\n",
       "      <td>4.0</td>\n",
       "    </tr>\n",
       "    <tr>\n",
       "      <th>153</th>\n",
       "      <td>4.0</td>\n",
       "      <td>AAISEAVRS</td>\n",
       "      <td>NaN</td>\n",
       "      <td>NaN</td>\n",
       "      <td>NaN</td>\n",
       "      <td>NaN</td>\n",
       "      <td>NaN</td>\n",
       "      <td>NaN</td>\n",
       "      <td>NaN</td>\n",
       "      <td>NaN</td>\n",
       "      <td>...</td>\n",
       "      <td>NaN</td>\n",
       "      <td>NaN</td>\n",
       "      <td>NaN</td>\n",
       "      <td>NaN</td>\n",
       "      <td>NaN</td>\n",
       "      <td>NaN</td>\n",
       "      <td>NaN</td>\n",
       "      <td>NaN</td>\n",
       "      <td>1.5</td>\n",
       "      <td>1.5</td>\n",
       "    </tr>\n",
       "    <tr>\n",
       "      <th>196</th>\n",
       "      <td>1.0</td>\n",
       "      <td>AALQQHSSV</td>\n",
       "      <td>NaN</td>\n",
       "      <td>NaN</td>\n",
       "      <td>NaN</td>\n",
       "      <td>NaN</td>\n",
       "      <td>NaN</td>\n",
       "      <td>NaN</td>\n",
       "      <td>NaN</td>\n",
       "      <td>NaN</td>\n",
       "      <td>...</td>\n",
       "      <td>NaN</td>\n",
       "      <td>NaN</td>\n",
       "      <td>NaN</td>\n",
       "      <td>NaN</td>\n",
       "      <td>NaN</td>\n",
       "      <td>NaN</td>\n",
       "      <td>NaN</td>\n",
       "      <td>NaN</td>\n",
       "      <td>2.0</td>\n",
       "      <td>2.0</td>\n",
       "    </tr>\n",
       "    <tr>\n",
       "      <th>284</th>\n",
       "      <td>2.0</td>\n",
       "      <td>AARSMATTP</td>\n",
       "      <td>NaN</td>\n",
       "      <td>NaN</td>\n",
       "      <td>NaN</td>\n",
       "      <td>NaN</td>\n",
       "      <td>NaN</td>\n",
       "      <td>NaN</td>\n",
       "      <td>NaN</td>\n",
       "      <td>NaN</td>\n",
       "      <td>...</td>\n",
       "      <td>NaN</td>\n",
       "      <td>NaN</td>\n",
       "      <td>NaN</td>\n",
       "      <td>NaN</td>\n",
       "      <td>NaN</td>\n",
       "      <td>NaN</td>\n",
       "      <td>NaN</td>\n",
       "      <td>NaN</td>\n",
       "      <td>1.5</td>\n",
       "      <td>1.5</td>\n",
       "    </tr>\n",
       "  </tbody>\n",
       "</table>\n",
       "<p>5 rows × 1107 columns</p>\n",
       "</div>"
      ],
      "text/plain": [
       "     recurrence       kmer  GTEX_presence  TCGA3CAAAU01A11RA41B07all  \\\n",
       "18          1.0  AAALQQHSS            NaN                        NaN   \n",
       "41          1.0  AACGPAGGS            NaN                        NaN   \n",
       "153         4.0  AAISEAVRS            NaN                        NaN   \n",
       "196         1.0  AALQQHSSV            NaN                        NaN   \n",
       "284         2.0  AARSMATTP            NaN                        NaN   \n",
       "\n",
       "     TCGA3CAALI01A11RA41B07all  TCGA3CAALJ01A31RA41B07all  \\\n",
       "18                         NaN                        NaN   \n",
       "41                         NaN                        NaN   \n",
       "153                        NaN                        NaN   \n",
       "196                        NaN                        NaN   \n",
       "284                        NaN                        NaN   \n",
       "\n",
       "     TCGA3CAALK01A11RA41B07all  TCGA4HAAAK01A12RA41B07all  \\\n",
       "18                         NaN                        NaN   \n",
       "41                         NaN                        NaN   \n",
       "153                        NaN                        NaN   \n",
       "196                        NaN                        NaN   \n",
       "284                        NaN                        NaN   \n",
       "\n",
       "     TCGA5LAAT001A12RA41B07all  TCGA5LAAT101A12RA41B07all  ...  \\\n",
       "18                         NaN                        NaN  ...   \n",
       "41                         NaN                        NaN  ...   \n",
       "153                        NaN                        NaN  ...   \n",
       "196                        NaN                        NaN  ...   \n",
       "284                        NaN                        NaN  ...   \n",
       "\n",
       "     TCGAV7A7HQ01A11RA33J07all  TCGAW8A86G01A21RA36F07all  \\\n",
       "18                         NaN                        NaN   \n",
       "41                         NaN                        NaN   \n",
       "153                        NaN                        NaN   \n",
       "196                        NaN                        NaN   \n",
       "284                        NaN                        NaN   \n",
       "\n",
       "     TCGAWTAB4101A11RA41B07all  TCGAWTAB4401A11RA41B07all  \\\n",
       "18                         NaN                        NaN   \n",
       "41                         NaN                        NaN   \n",
       "153                        NaN                        NaN   \n",
       "196                        NaN                        NaN   \n",
       "284                        NaN                        NaN   \n",
       "\n",
       "     TCGAXXA89901A11RA36F07all  TCGAXXA89A01A11RA36F07all  \\\n",
       "18                         NaN                        NaN   \n",
       "41                         NaN                        NaN   \n",
       "153                        NaN                        NaN   \n",
       "196                        NaN                        NaN   \n",
       "284                        NaN                        NaN   \n",
       "\n",
       "     TCGAZ7A8R501A42RA41B07all  TCGAZ7A8R601A11RA41B07all  mean_exp  \\\n",
       "18                         NaN                        NaN       2.0   \n",
       "41                         NaN                        NaN       4.0   \n",
       "153                        NaN                        NaN       1.5   \n",
       "196                        NaN                        NaN       2.0   \n",
       "284                        NaN                        NaN       1.5   \n",
       "\n",
       "     median_exp  \n",
       "18          2.0  \n",
       "41          4.0  \n",
       "153         1.5  \n",
       "196         2.0  \n",
       "284         1.5  \n",
       "\n",
       "[5 rows x 1107 columns]"
      ]
     },
     "execution_count": 104,
     "metadata": {},
     "output_type": "execute_result"
    }
   ],
   "source": [
    "tmp.head()"
   ]
  },
  {
   "cell_type": "code",
   "execution_count": 105,
   "metadata": {
    "ExecuteTime": {
     "end_time": "2022-07-07T13:39:03.625020Z",
     "start_time": "2022-07-07T13:39:03.615697Z"
    }
   },
   "outputs": [
    {
     "data": {
      "text/plain": [
       "(59,)"
      ]
     },
     "execution_count": 105,
     "metadata": {},
     "output_type": "execute_result"
    }
   ],
   "source": [
    "tmp.loc[(tmp['recurrence'] > 10)\n",
    "        & (tmp['median_exp'] > 10), 'kmer'].unique().shape"
   ]
  },
  {
   "cell_type": "code",
   "execution_count": 103,
   "metadata": {
    "ExecuteTime": {
     "end_time": "2022-07-07T13:37:49.399607Z",
     "start_time": "2022-07-07T13:37:49.385499Z"
    }
   },
   "outputs": [
    {
     "data": {
      "text/plain": [
       "(461,)"
      ]
     },
     "execution_count": 103,
     "metadata": {},
     "output_type": "execute_result"
    }
   ],
   "source": [
    "tmp.loc[tmp['recurrence'] > 10, 'kmer'].unique().shape\n"
   ]
  },
  {
   "cell_type": "markdown",
   "metadata": {},
   "source": [
    "# Figure 2"
   ]
  },
  {
   "cell_type": "code",
   "execution_count": 86,
   "metadata": {
    "ExecuteTime": {
     "end_time": "2022-07-07T13:22:27.199005Z",
     "start_time": "2022-07-07T13:22:26.490255Z"
    }
   },
   "outputs": [
    {
     "name": "stdout",
     "output_type": "stream",
     "text": [
      "(3016, 1107)\n"
     ]
    }
   ],
   "source": [
    "recurrence_max = 30 \n",
    "tmp = df_plot.loc[(df_plot['GTEX_presence'] == 0) &\n",
    "                  (df_plot['junctionAnnotated_kmer'] == 0) &\n",
    "                  (df_plot['recurrence'] > 0) &\n",
    "                  (df_plot['recurrence'] <= recurrence_max ) &\n",
    "                  (df_plot['MHC-I binding status'] != 'not computed'), \n",
    "                  ['recurrence', 'kmer', 'GTEX_presence', \n",
    "                  'MHC-I binding status', \n",
    "                  'percentile_rank', \n",
    "                  ] + cohort ].drop_duplicates()\n",
    "print(tmp.shape)"
   ]
  },
  {
   "cell_type": "code",
   "execution_count": 87,
   "metadata": {
    "ExecuteTime": {
     "end_time": "2022-07-07T13:22:27.399346Z",
     "start_time": "2022-07-07T13:22:27.202235Z"
    }
   },
   "outputs": [
    {
     "data": {
      "text/plain": [
       "(array([787., 213.,  81.,  83.,  78.,  46.,  24.,  10.,  35.,  19.]),\n",
       " array([ 2. ,  4.8,  7.6, 10.4, 13.2, 16. , 18.8, 21.6, 24.4, 27.2, 30. ]),\n",
       " <BarContainer object of 10 artists>)"
      ]
     },
     "execution_count": 87,
     "metadata": {},
     "output_type": "execute_result"
    },
    {
     "data": {
      "image/png": "[encoded data removed]",
      "text/plain": [
       "<Figure size 432x288 with 1 Axes>"
      ]
     },
     "metadata": {
      "needs_background": "light"
     },
     "output_type": "display_data"
    }
   ],
   "source": [
    "plt.hist(tmp.loc[tmp['recurrence'] > 1, 'recurrence'])"
   ]
  },
  {
   "cell_type": "code",
   "execution_count": 88,
   "metadata": {
    "ExecuteTime": {
     "end_time": "2022-07-07T13:22:27.598660Z",
     "start_time": "2022-07-07T13:22:27.402704Z"
    }
   },
   "outputs": [
    {
     "data": {
      "text/plain": [
       "(array([787., 213.,  81.,  83.,  78.,  46.,  24.,  10.,  35.,  19.]),\n",
       " array([ 2. ,  4.8,  7.6, 10.4, 13.2, 16. , 18.8, 21.6, 24.4, 27.2, 30. ]),\n",
       " <BarContainer object of 10 artists>)"
      ]
     },
     "execution_count": 88,
     "metadata": {},
     "output_type": "execute_result"
    },
    {
     "data": {
      "image/png": "[encoded data removed]",
      "text/plain": [
       "<Figure size 432x288 with 1 Axes>"
      ]
     },
     "metadata": {
      "needs_background": "light"
     },
     "output_type": "display_data"
    }
   ],
   "source": [
    "plt.hist(tmp.loc[tmp['recurrence'] > 1, 'recurrence'])"
   ]
  },
  {
   "cell_type": "code",
   "execution_count": 89,
   "metadata": {
    "ExecuteTime": {
     "end_time": "2022-07-07T13:22:31.018544Z",
     "start_time": "2022-07-07T13:22:27.900376Z"
    },
    "scrolled": true
   },
   "outputs": [
    {
     "name": "stdout",
     "output_type": "stream",
     "text": [
      "number of kmers 3016\n",
      "number of kmers 3016\n",
      "save to /cluster/work/grlab/projects/projects2020_OHSU/plots/MS_single_sample_plots/v2_v2.5f0752a_with_v2_v3_d2d2574_conf2_BRCA_recurrence_expression_binding_test_fix-sample.pdf\n"
     ]
    },
    {
     "data": {
      "image/png": "[encoded data removed]",
      "text/plain": [
       "<Figure size 432x288 with 1 Axes>"
      ]
     },
     "metadata": {
      "needs_background": "light"
     },
     "output_type": "display_data"
    }
   ],
   "source": [
    "markers = ['x', 'o']\n",
    "for idx, sample in enumerate(['TCGAC8A12P01A11RA11507all', 'TCGAC8A12P01A11RA11507all']):\n",
    "    # here subset to sample \n",
    "    # check expression > 0 in sample\n",
    "    # add the name of the sample to the MHC binding status rename\n",
    "    ax = sns.scatterplot(data = tmp, x = 'recurrence', y = 'TCGAC8A12P01A11RA11507all', \n",
    "                    hue = 'MHC-I binding status',\n",
    "                   marker = markers[idx])\n",
    "    print('number of kmers', tmp.shape[0])\n",
    "    plt.xlabel('Recurrence across BRCA cohort')\n",
    "    plt.ylabel('Normalized Expression in target sample')\n",
    "    plt.yscale(\"log\")  \n",
    "    plt.grid(True, which='both', color='lightgrey')\n",
    "    plt.ylim([0.1, max(tmp[sample])])\n",
    "    \n",
    "save = True\n",
    "name = 'recurrence_expression_binding_test'\n",
    "save_path = os.path.join(plot_dir, f'{base_plot}_{name}_{save_suffix}.pdf')\n",
    "if save:\n",
    "    print(\"save to {}\".format(save_path))\n",
    "    plt.savefig(save_path, bbox_inches='tight')\n",
    "plt.show()"
   ]
  },
  {
   "cell_type": "code",
   "execution_count": 90,
   "metadata": {
    "ExecuteTime": {
     "end_time": "2022-07-07T13:22:31.025208Z",
     "start_time": "2022-07-07T13:22:31.021673Z"
    }
   },
   "outputs": [],
   "source": [
    "l = ax.get_legend_handles_labels()"
   ]
  },
  {
   "cell_type": "markdown",
   "metadata": {},
   "source": [
    " Remark, did not compute the binding for the kmers which had expression < 2 in first pass"
   ]
  },
  {
   "cell_type": "code",
   "execution_count": 91,
   "metadata": {
    "ExecuteTime": {
     "end_time": "2022-07-07T13:22:31.883722Z",
     "start_time": "2022-07-07T13:22:31.872080Z"
    }
   },
   "outputs": [
    {
     "data": {
      "text/plain": [
       "count    0.0\n",
       "mean     NaN\n",
       "std      NaN\n",
       "min      NaN\n",
       "25%      NaN\n",
       "50%      NaN\n",
       "75%      NaN\n",
       "max      NaN\n",
       "Name: TCGAC8A12P01A11RA11507all, dtype: float64"
      ]
     },
     "execution_count": 91,
     "metadata": {},
     "output_type": "execute_result"
    }
   ],
   "source": [
    "tmp.loc[tmp['MHC-I binding status'] == 'not computed', 'TCGAC8A12P01A11RA11507all'].describe()\n"
   ]
  },
  {
   "cell_type": "markdown",
   "metadata": {},
   "source": [
    "# Figure 3 "
   ]
  },
  {
   "cell_type": "code",
   "execution_count": 106,
   "metadata": {
    "ExecuteTime": {
     "end_time": "2022-07-07T13:39:35.579804Z",
     "start_time": "2022-07-07T13:39:35.030645Z"
    }
   },
   "outputs": [],
   "source": [
    "tmp = df_plot.loc[(df_plot['GTEX_presence'] == 0) &\n",
    "                  (df_plot['junctionAnnotated_kmer'] == 0) &\n",
    "                  (df_plot['recurrence'] > 0) &\n",
    "                  (df_plot['recurrence'] <= recurrence_max ) &\n",
    "                  (df_plot['MHC-I binding status'] != 'not computed'), \n",
    "                  ['recurrence', 'kmer', 'GTEX_presence', \n",
    "                  'MHC-I binding status', 'gene',\n",
    "                  'percentile_rank', \n",
    "                  ] + cohort ].drop_duplicates()"
   ]
  },
  {
   "cell_type": "code",
   "execution_count": 107,
   "metadata": {
    "ExecuteTime": {
     "end_time": "2022-07-07T13:39:35.587930Z",
     "start_time": "2022-07-07T13:39:35.582450Z"
    }
   },
   "outputs": [
    {
     "data": {
      "text/plain": [
       "(3016, 1108)"
      ]
     },
     "execution_count": 107,
     "metadata": {},
     "output_type": "execute_result"
    }
   ],
   "source": [
    "tmp.shape"
   ]
  },
  {
   "cell_type": "code",
   "execution_count": 108,
   "metadata": {
    "ExecuteTime": {
     "end_time": "2022-07-07T13:39:36.704286Z",
     "start_time": "2022-07-07T13:39:36.129814Z"
    }
   },
   "outputs": [],
   "source": [
    "tmp = pd.melt(tmp, id_vars=['gene', 'kmer'], value_vars=cohort, \n",
    "             value_name='Normalized RNA expression of junction', \n",
    "             var_name='sample')"
   ]
  },
  {
   "cell_type": "code",
   "execution_count": 95,
   "metadata": {
    "ExecuteTime": {
     "end_time": "2022-07-07T13:22:36.597238Z",
     "start_time": "2022-07-07T13:22:36.588801Z"
    }
   },
   "outputs": [
    {
     "data": {
      "text/plain": [
       "(3323632, 4)"
      ]
     },
     "execution_count": 95,
     "metadata": {},
     "output_type": "execute_result"
    }
   ],
   "source": [
    "tmp.shape"
   ]
  },
  {
   "cell_type": "code",
   "execution_count": 96,
   "metadata": {
    "ExecuteTime": {
     "end_time": "2022-07-07T13:22:37.180100Z",
     "start_time": "2022-07-07T13:22:37.095711Z"
    }
   },
   "outputs": [
    {
     "data": {
      "text/html": [
       "<div>\n",
       "<style scoped>\n",
       "    .dataframe tbody tr th:only-of-type {\n",
       "        vertical-align: middle;\n",
       "    }\n",
       "\n",
       "    .dataframe tbody tr th {\n",
       "        vertical-align: top;\n",
       "    }\n",
       "\n",
       "    .dataframe thead th {\n",
       "        text-align: right;\n",
       "    }\n",
       "</style>\n",
       "<table border=\"1\" class=\"dataframe\">\n",
       "  <thead>\n",
       "    <tr style=\"text-align: right;\">\n",
       "      <th></th>\n",
       "      <th>gene</th>\n",
       "      <th>kmer</th>\n",
       "      <th>sample</th>\n",
       "      <th>Normalized RNA expression of junction</th>\n",
       "    </tr>\n",
       "  </thead>\n",
       "  <tbody>\n",
       "    <tr>\n",
       "      <th>0</th>\n",
       "      <td>ENSG00000060339.14</td>\n",
       "      <td>AAALQQHSS</td>\n",
       "      <td>TCGA3CAAAU01A11RA41B07all</td>\n",
       "      <td>0.0</td>\n",
       "    </tr>\n",
       "    <tr>\n",
       "      <th>1</th>\n",
       "      <td>ENSG00000188976.11</td>\n",
       "      <td>AACGPAGGS</td>\n",
       "      <td>TCGA3CAAAU01A11RA41B07all</td>\n",
       "      <td>0.0</td>\n",
       "    </tr>\n",
       "    <tr>\n",
       "      <th>2</th>\n",
       "      <td>ENSG00000204217.15</td>\n",
       "      <td>AAISEAVRS</td>\n",
       "      <td>TCGA3CAAAU01A11RA41B07all</td>\n",
       "      <td>0.0</td>\n",
       "    </tr>\n",
       "    <tr>\n",
       "      <th>3</th>\n",
       "      <td>ENSG00000060339.14</td>\n",
       "      <td>AALQQHSSV</td>\n",
       "      <td>TCGA3CAAAU01A11RA41B07all</td>\n",
       "      <td>0.0</td>\n",
       "    </tr>\n",
       "    <tr>\n",
       "      <th>4</th>\n",
       "      <td>ENSG00000155659.15</td>\n",
       "      <td>AARSMATTP</td>\n",
       "      <td>TCGA3CAAAU01A11RA41B07all</td>\n",
       "      <td>0.0</td>\n",
       "    </tr>\n",
       "  </tbody>\n",
       "</table>\n",
       "</div>"
      ],
      "text/plain": [
       "                 gene       kmer                     sample  \\\n",
       "0  ENSG00000060339.14  AAALQQHSS  TCGA3CAAAU01A11RA41B07all   \n",
       "1  ENSG00000188976.11  AACGPAGGS  TCGA3CAAAU01A11RA41B07all   \n",
       "2  ENSG00000204217.15  AAISEAVRS  TCGA3CAAAU01A11RA41B07all   \n",
       "3  ENSG00000060339.14  AALQQHSSV  TCGA3CAAAU01A11RA41B07all   \n",
       "4  ENSG00000155659.15  AARSMATTP  TCGA3CAAAU01A11RA41B07all   \n",
       "\n",
       "   Normalized RNA expression of junction  \n",
       "0                                    0.0  \n",
       "1                                    0.0  \n",
       "2                                    0.0  \n",
       "3                                    0.0  \n",
       "4                                    0.0  "
      ]
     },
     "execution_count": 96,
     "metadata": {},
     "output_type": "execute_result"
    }
   ],
   "source": [
    "tmp.head()"
   ]
  },
  {
   "cell_type": "code",
   "execution_count": 47,
   "metadata": {
    "ExecuteTime": {
     "end_time": "2022-07-07T12:59:39.977069Z",
     "start_time": "2022-07-07T12:55:00.156099Z"
    }
   },
   "outputs": [
    {
     "name": "stdout",
     "output_type": "stream",
     "text": [
      "0\n",
      "1\n",
      "2\n",
      "3\n",
      "4\n",
      "5\n",
      "6\n",
      "7\n",
      "8\n",
      "9\n",
      "10\n",
      "11\n",
      "12\n",
      "13\n",
      "14\n",
      "15\n",
      "16\n",
      "17\n",
      "18\n",
      "19\n",
      "20\n",
      "21\n",
      "22\n",
      "23\n",
      "24\n",
      "25\n",
      "26\n",
      "27\n",
      "28\n",
      "29\n",
      "30\n",
      "31\n",
      "32\n",
      "33\n",
      "34\n",
      "35\n",
      "36\n",
      "37\n",
      "38\n",
      "39\n",
      "40\n",
      "41\n",
      "42\n",
      "43\n",
      "44\n",
      "45\n",
      "46\n",
      "47\n",
      "48\n",
      "49\n",
      "50\n",
      "51\n",
      "52\n",
      "53\n",
      "54\n",
      "55\n",
      "56\n",
      "57\n",
      "58\n",
      "59\n",
      "60\n",
      "61\n",
      "62\n",
      "63\n",
      "64\n",
      "65\n",
      "66\n",
      "67\n",
      "68\n",
      "69\n",
      "70\n",
      "71\n",
      "72\n",
      "73\n",
      "74\n",
      "75\n",
      "76\n",
      "77\n",
      "78\n",
      "79\n",
      "80\n",
      "81\n",
      "82\n",
      "83\n",
      "84\n",
      "85\n",
      "86\n",
      "87\n",
      "88\n",
      "89\n",
      "90\n",
      "91\n",
      "92\n",
      "93\n",
      "94\n",
      "95\n",
      "96\n",
      "97\n",
      "98\n",
      "99\n",
      "100\n",
      "101\n",
      "102\n",
      "103\n",
      "104\n",
      "105\n",
      "106\n",
      "107\n",
      "108\n",
      "109\n",
      "110\n",
      "111\n",
      "112\n",
      "113\n",
      "114\n",
      "115\n",
      "116\n",
      "117\n",
      "118\n",
      "119\n",
      "120\n",
      "121\n",
      "122\n",
      "123\n",
      "124\n",
      "125\n",
      "126\n",
      "127\n",
      "128\n",
      "129\n",
      "130\n",
      "131\n",
      "132\n",
      "133\n",
      "134\n",
      "135\n",
      "136\n",
      "137\n",
      "138\n",
      "139\n",
      "140\n",
      "141\n",
      "142\n",
      "143\n",
      "144\n",
      "145\n",
      "146\n",
      "147\n",
      "148\n",
      "149\n",
      "150\n",
      "151\n",
      "152\n",
      "153\n",
      "154\n",
      "155\n",
      "156\n",
      "157\n",
      "158\n",
      "159\n",
      "160\n",
      "161\n",
      "162\n",
      "163\n",
      "164\n",
      "165\n",
      "166\n",
      "167\n",
      "168\n",
      "169\n",
      "170\n",
      "171\n",
      "172\n",
      "173\n",
      "174\n",
      "175\n",
      "176\n",
      "177\n",
      "178\n",
      "179\n",
      "180\n",
      "181\n",
      "182\n",
      "183\n",
      "184\n",
      "185\n",
      "186\n",
      "187\n",
      "188\n",
      "189\n",
      "190\n",
      "191\n",
      "192\n",
      "193\n",
      "194\n",
      "195\n",
      "196\n",
      "197\n",
      "198\n",
      "199\n",
      "200\n",
      "201\n",
      "202\n",
      "203\n",
      "204\n",
      "205\n",
      "206\n",
      "207\n",
      "208\n",
      "209\n",
      "210\n",
      "211\n",
      "212\n",
      "213\n",
      "214\n",
      "215\n",
      "216\n",
      "217\n",
      "218\n",
      "219\n",
      "220\n",
      "221\n",
      "222\n",
      "223\n",
      "224\n",
      "225\n",
      "226\n",
      "227\n",
      "228\n",
      "229\n",
      "230\n",
      "231\n",
      "232\n",
      "233\n",
      "234\n",
      "235\n",
      "236\n",
      "237\n",
      "238\n",
      "239\n",
      "240\n",
      "241\n",
      "242\n",
      "243\n",
      "244\n",
      "245\n",
      "246\n",
      "247\n",
      "248\n",
      "249\n",
      "250\n",
      "251\n",
      "252\n",
      "253\n",
      "254\n",
      "255\n",
      "256\n",
      "257\n",
      "258\n",
      "259\n",
      "260\n",
      "261\n",
      "262\n",
      "263\n",
      "264\n",
      "265\n",
      "266\n",
      "267\n",
      "268\n",
      "269\n",
      "270\n",
      "271\n",
      "272\n",
      "273\n",
      "274\n",
      "275\n",
      "276\n",
      "277\n",
      "278\n",
      "279\n",
      "280\n",
      "281\n",
      "282\n",
      "283\n",
      "284\n",
      "285\n",
      "286\n",
      "287\n",
      "288\n",
      "289\n",
      "290\n",
      "291\n",
      "292\n",
      "293\n",
      "294\n",
      "295\n",
      "296\n",
      "297\n",
      "298\n",
      "299\n",
      "300\n",
      "301\n",
      "302\n",
      "303\n",
      "304\n",
      "305\n",
      "306\n",
      "307\n",
      "308\n",
      "309\n",
      "310\n",
      "311\n",
      "312\n",
      "313\n",
      "314\n",
      "315\n",
      "316\n",
      "317\n",
      "318\n",
      "319\n",
      "320\n",
      "321\n",
      "322\n",
      "323\n",
      "324\n",
      "325\n",
      "326\n",
      "327\n",
      "328\n",
      "329\n",
      "330\n",
      "331\n",
      "332\n",
      "333\n",
      "334\n",
      "335\n",
      "336\n",
      "337\n",
      "338\n",
      "339\n",
      "340\n",
      "341\n",
      "342\n",
      "343\n",
      "344\n",
      "345\n",
      "346\n",
      "347\n",
      "348\n",
      "349\n",
      "350\n",
      "351\n",
      "352\n",
      "353\n",
      "354\n",
      "355\n",
      "356\n",
      "357\n",
      "358\n",
      "359\n",
      "360\n",
      "361\n",
      "362\n",
      "363\n",
      "364\n",
      "365\n",
      "366\n",
      "367\n",
      "368\n",
      "369\n",
      "370\n",
      "371\n",
      "372\n",
      "373\n",
      "374\n",
      "375\n",
      "376\n",
      "377\n",
      "378\n",
      "379\n",
      "380\n",
      "381\n",
      "382\n",
      "383\n",
      "384\n",
      "385\n",
      "386\n",
      "387\n",
      "388\n",
      "389\n",
      "390\n",
      "391\n",
      "392\n",
      "393\n",
      "394\n",
      "395\n",
      "396\n",
      "397\n",
      "398\n",
      "399\n",
      "400\n",
      "401\n",
      "402\n",
      "403\n",
      "404\n",
      "405\n",
      "406\n",
      "407\n",
      "408\n",
      "409\n",
      "410\n",
      "411\n",
      "412\n",
      "413\n",
      "414\n",
      "415\n",
      "416\n",
      "417\n",
      "418\n",
      "419\n",
      "420\n",
      "421\n",
      "422\n",
      "423\n",
      "424\n",
      "425\n",
      "426\n",
      "427\n",
      "428\n",
      "429\n",
      "430\n",
      "431\n",
      "432\n",
      "433\n",
      "434\n",
      "435\n",
      "436\n",
      "437\n",
      "438\n",
      "439\n",
      "440\n",
      "441\n",
      "442\n",
      "443\n",
      "444\n",
      "445\n",
      "446\n",
      "447\n",
      "448\n",
      "449\n",
      "450\n",
      "451\n",
      "452\n",
      "453\n",
      "454\n",
      "455\n",
      "456\n",
      "457\n",
      "458\n",
      "459\n",
      "460\n",
      "461\n",
      "462\n",
      "463\n",
      "464\n",
      "465\n",
      "466\n",
      "467\n",
      "468\n",
      "469\n",
      "470\n",
      "471\n",
      "472\n",
      "473\n",
      "474\n",
      "475\n",
      "476\n",
      "477\n",
      "478\n",
      "479\n",
      "480\n",
      "481\n",
      "482\n",
      "483\n",
      "484\n",
      "485\n",
      "486\n",
      "487\n",
      "488\n",
      "489\n",
      "490\n",
      "491\n",
      "492\n",
      "493\n",
      "494\n",
      "495\n",
      "496\n",
      "497\n",
      "498\n",
      "499\n",
      "500\n",
      "501\n",
      "502\n",
      "503\n",
      "504\n",
      "505\n",
      "506\n",
      "507\n",
      "508\n",
      "509\n",
      "510\n",
      "511\n",
      "512\n",
      "513\n",
      "514\n",
      "515\n",
      "516\n",
      "517\n",
      "518\n",
      "519\n",
      "520\n",
      "521\n",
      "522\n",
      "523\n",
      "524\n",
      "525\n",
      "526\n",
      "527\n",
      "528\n",
      "529\n",
      "530\n",
      "531\n",
      "532\n",
      "533\n",
      "534\n",
      "535\n",
      "536\n",
      "537\n",
      "538\n",
      "539\n",
      "540\n",
      "541\n",
      "542\n",
      "543\n",
      "544\n",
      "545\n",
      "546\n",
      "547\n",
      "548\n",
      "549\n",
      "550\n",
      "551\n",
      "552\n",
      "553\n",
      "554\n",
      "555\n",
      "556\n",
      "557\n",
      "558\n",
      "559\n",
      "560\n",
      "561\n",
      "562\n",
      "563\n",
      "564\n",
      "565\n",
      "566\n",
      "567\n",
      "568\n",
      "569\n",
      "570\n",
      "571\n",
      "572\n",
      "573\n",
      "574\n",
      "575\n",
      "576\n",
      "577\n",
      "578\n",
      "579\n",
      "580\n",
      "581\n",
      "582\n",
      "583\n",
      "584\n",
      "585\n",
      "586\n",
      "587\n",
      "588\n",
      "589\n",
      "590\n",
      "591\n",
      "592\n",
      "593\n",
      "594\n",
      "595\n",
      "596\n",
      "597\n",
      "598\n",
      "599\n",
      "600\n",
      "601\n",
      "602\n",
      "603\n",
      "604\n",
      "605\n",
      "606\n",
      "607\n",
      "608\n",
      "609\n",
      "610\n",
      "611\n",
      "612\n",
      "613\n",
      "614\n",
      "615\n",
      "616\n",
      "617\n",
      "618\n",
      "619\n",
      "620\n",
      "621\n",
      "622\n",
      "623\n",
      "624\n",
      "625\n",
      "626\n",
      "627\n",
      "628\n",
      "629\n",
      "630\n",
      "631\n",
      "632\n",
      "633\n",
      "634\n",
      "635\n",
      "636\n",
      "637\n",
      "638\n",
      "639\n",
      "640\n",
      "641\n",
      "642\n",
      "643\n",
      "644\n",
      "645\n",
      "646\n",
      "647\n",
      "648\n",
      "649\n",
      "650\n",
      "651\n",
      "652\n",
      "653\n",
      "654\n",
      "655\n",
      "656\n",
      "657\n",
      "658\n",
      "659\n",
      "660\n",
      "661\n",
      "662\n",
      "663\n",
      "664\n",
      "665\n",
      "666\n",
      "667\n",
      "668\n",
      "669\n",
      "670\n",
      "671\n",
      "672\n",
      "673\n",
      "674\n",
      "675\n",
      "676\n",
      "677\n",
      "678\n",
      "679\n",
      "680\n",
      "681\n",
      "682\n",
      "683\n",
      "684\n",
      "685\n",
      "686\n",
      "687\n",
      "688\n",
      "689\n",
      "690\n",
      "691\n",
      "692\n",
      "693\n",
      "694\n",
      "695\n",
      "696\n",
      "697\n",
      "698\n",
      "699\n",
      "700\n",
      "701\n",
      "702\n",
      "703\n",
      "704\n",
      "705\n",
      "706\n",
      "707\n",
      "708\n",
      "709\n",
      "710\n",
      "711\n",
      "712\n",
      "713\n",
      "714\n",
      "715\n",
      "716\n",
      "717\n",
      "718\n",
      "719\n",
      "720\n",
      "721\n",
      "722\n",
      "723\n",
      "724\n",
      "725\n",
      "726\n",
      "727\n",
      "728\n",
      "729\n",
      "730\n",
      "731\n",
      "732\n",
      "733\n",
      "734\n",
      "735\n",
      "736\n",
      "737\n",
      "738\n",
      "739\n",
      "740\n",
      "741\n",
      "742\n",
      "743\n",
      "744\n",
      "745\n",
      "746\n",
      "747\n",
      "748\n",
      "749\n",
      "750\n",
      "751\n",
      "752\n",
      "753\n",
      "754\n",
      "755\n",
      "756\n",
      "757\n",
      "758\n",
      "759\n",
      "760\n",
      "761\n",
      "762\n",
      "763\n",
      "764\n",
      "765\n",
      "766\n",
      "767\n",
      "768\n",
      "769\n",
      "770\n",
      "771\n",
      "772\n",
      "773\n",
      "774\n",
      "775\n",
      "776\n",
      "777\n",
      "778\n",
      "779\n",
      "780\n",
      "781\n",
      "782\n",
      "783\n",
      "784\n",
      "785\n",
      "786\n",
      "787\n",
      "788\n",
      "789\n",
      "790\n",
      "791\n",
      "792\n",
      "793\n",
      "794\n",
      "795\n",
      "796\n",
      "797\n",
      "798\n",
      "799\n",
      "800\n",
      "801\n",
      "802\n",
      "803\n",
      "804\n",
      "805\n",
      "806\n",
      "807\n",
      "808\n",
      "809\n",
      "810\n",
      "811\n",
      "812\n",
      "813\n",
      "814\n",
      "815\n",
      "816\n",
      "817\n",
      "818\n",
      "819\n",
      "820\n",
      "821\n",
      "822\n",
      "823\n",
      "824\n",
      "825\n",
      "826\n",
      "827\n",
      "828\n",
      "829\n",
      "830\n",
      "831\n",
      "832\n",
      "833\n",
      "834\n",
      "835\n",
      "836\n",
      "837\n",
      "838\n",
      "839\n",
      "840\n",
      "841\n",
      "842\n",
      "843\n",
      "844\n",
      "845\n",
      "846\n",
      "847\n",
      "848\n",
      "849\n",
      "850\n",
      "851\n",
      "852\n",
      "853\n",
      "854\n",
      "855\n",
      "856\n",
      "857\n",
      "858\n",
      "859\n",
      "860\n",
      "861\n",
      "862\n",
      "863\n",
      "864\n",
      "865\n",
      "866\n",
      "867\n",
      "868\n",
      "869\n",
      "870\n",
      "871\n",
      "872\n",
      "873\n",
      "874\n",
      "875\n",
      "876\n",
      "877\n",
      "878\n",
      "879\n",
      "880\n",
      "881\n",
      "882\n",
      "883\n",
      "884\n",
      "885\n",
      "886\n",
      "887\n",
      "888\n",
      "889\n",
      "890\n",
      "891\n",
      "892\n",
      "893\n",
      "894\n",
      "895\n",
      "896\n",
      "897\n",
      "898\n",
      "899\n",
      "900\n",
      "901\n",
      "902\n",
      "903\n",
      "904\n",
      "905\n",
      "906\n",
      "907\n",
      "908\n",
      "909\n",
      "910\n",
      "911\n",
      "912\n",
      "913\n",
      "914\n",
      "915\n",
      "916\n",
      "917\n",
      "918\n",
      "919\n",
      "920\n",
      "921\n",
      "922\n",
      "923\n",
      "924\n",
      "925\n",
      "926\n",
      "927\n",
      "928\n",
      "929\n",
      "930\n",
      "931\n",
      "932\n",
      "933\n",
      "934\n",
      "935\n",
      "936\n",
      "937\n",
      "938\n",
      "939\n",
      "940\n",
      "941\n",
      "942\n",
      "943\n",
      "944\n",
      "945\n",
      "946\n",
      "947\n",
      "948\n",
      "949\n",
      "950\n",
      "951\n",
      "952\n",
      "953\n",
      "954\n",
      "955\n",
      "956\n",
      "957\n",
      "958\n",
      "959\n",
      "960\n",
      "961\n",
      "962\n",
      "963\n",
      "964\n",
      "965\n",
      "966\n",
      "967\n",
      "968\n",
      "969\n",
      "970\n",
      "971\n",
      "972\n",
      "973\n",
      "974\n",
      "975\n",
      "976\n",
      "977\n",
      "978\n",
      "979\n",
      "980\n",
      "981\n",
      "982\n",
      "983\n",
      "984\n",
      "985\n",
      "986\n",
      "987\n",
      "988\n",
      "989\n",
      "990\n",
      "991\n",
      "992\n",
      "993\n",
      "994\n",
      "995\n",
      "996\n",
      "997\n",
      "998\n",
      "999\n",
      "1000\n",
      "1001\n",
      "1002\n",
      "1003\n",
      "1004\n",
      "1005\n",
      "1006\n",
      "1007\n",
      "1008\n",
      "1009\n",
      "1010\n",
      "1011\n",
      "1012\n",
      "1013\n",
      "1014\n",
      "1015\n",
      "1016\n",
      "1017\n",
      "1018\n",
      "1019\n",
      "1020\n",
      "1021\n",
      "1022\n",
      "1023\n",
      "1024\n",
      "1025\n",
      "1026\n",
      "1027\n",
      "1028\n",
      "1029\n",
      "1030\n",
      "1031\n",
      "1032\n",
      "1033\n",
      "1034\n",
      "1035\n",
      "1036\n",
      "1037\n",
      "1038\n",
      "1039\n",
      "1040\n",
      "1041\n",
      "1042\n",
      "1043\n",
      "1044\n",
      "1045\n",
      "1046\n",
      "1047\n",
      "1048\n",
      "1049\n",
      "1050\n",
      "1051\n",
      "1052\n",
      "1053\n",
      "1054\n",
      "1055\n",
      "1056\n",
      "1057\n",
      "1058\n",
      "1059\n",
      "1060\n",
      "1061\n",
      "1062\n",
      "1063\n",
      "1064\n",
      "1065\n",
      "1066\n",
      "1067\n",
      "1068\n",
      "1069\n",
      "1070\n",
      "1071\n",
      "1072\n",
      "1073\n",
      "1074\n",
      "1075\n",
      "1076\n",
      "1077\n",
      "1078\n",
      "1079\n",
      "1080\n",
      "1081\n",
      "1082\n",
      "1083\n",
      "1084\n",
      "1085\n",
      "1086\n",
      "1087\n",
      "1088\n",
      "1089\n",
      "1090\n",
      "1091\n",
      "1092\n",
      "1093\n",
      "1094\n",
      "1095\n",
      "1096\n",
      "1097\n",
      "1098\n",
      "1099\n",
      "1100\n",
      "1101\n"
     ]
    }
   ],
   "source": [
    "# launch overnight 1/3 in 40 minutes\n",
    "expr1 = []\n",
    "expr2 = []\n",
    "expr3 = []\n",
    "thres1 = 0 \n",
    "thres2 = 10\n",
    "thres3 = 100\n",
    "for idx, sample in enumerate(cohort):\n",
    "    print(idx)\n",
    "    tmp1 = tmp.loc[(tmp['sample'] == sample) & \n",
    "                   tmp['Normalized RNA expression of junction'] > thres1 , \n",
    "                   : ].drop_duplicates()\n",
    "    expr1.append(tmp1.shape[0])\n",
    "    \n",
    "    tmp2 = tmp1.loc[tmp1['Normalized RNA expression of junction'] > thres2 , \n",
    "                   : ].drop_duplicates()\n",
    "    expr2.append(tmp2.shape[0])\n",
    "    \n",
    "    tmp3 = tmp2.loc[tmp2['Normalized RNA expression of junction'] > thres3 , \n",
    "                   : ].drop_duplicates()\n",
    "    expr3.append(tmp3.shape[0])"
   ]
  },
  {
   "cell_type": "code",
   "execution_count": 48,
   "metadata": {
    "ExecuteTime": {
     "end_time": "2022-07-07T12:59:40.277815Z",
     "start_time": "2022-07-07T12:59:40.071707Z"
    }
   },
   "outputs": [],
   "source": [
    "sample_kmer_plot = pd.DataFrame({f'Normalized RNA expression > {thres1}':expr1, \n",
    "              f'Normalized RNA expression > {thres2}':expr2, \n",
    "              f'Normalized RNA expression > {thres3}':expr3})"
   ]
  },
  {
   "cell_type": "code",
   "execution_count": 49,
   "metadata": {
    "ExecuteTime": {
     "end_time": "2022-07-07T12:59:40.344657Z",
     "start_time": "2022-07-07T12:59:40.288602Z"
    }
   },
   "outputs": [
    {
     "data": {
      "text/html": [
       "<div>\n",
       "<style scoped>\n",
       "    .dataframe tbody tr th:only-of-type {\n",
       "        vertical-align: middle;\n",
       "    }\n",
       "\n",
       "    .dataframe tbody tr th {\n",
       "        vertical-align: top;\n",
       "    }\n",
       "\n",
       "    .dataframe thead th {\n",
       "        text-align: right;\n",
       "    }\n",
       "</style>\n",
       "<table border=\"1\" class=\"dataframe\">\n",
       "  <thead>\n",
       "    <tr style=\"text-align: right;\">\n",
       "      <th></th>\n",
       "      <th>Normalized RNA expression &gt; 0</th>\n",
       "      <th>Normalized RNA expression &gt; 10</th>\n",
       "      <th>Normalized RNA expression &gt; 100</th>\n",
       "    </tr>\n",
       "  </thead>\n",
       "  <tbody>\n",
       "    <tr>\n",
       "      <th>0</th>\n",
       "      <td>8</td>\n",
       "      <td>0</td>\n",
       "      <td>0</td>\n",
       "    </tr>\n",
       "    <tr>\n",
       "      <th>1</th>\n",
       "      <td>0</td>\n",
       "      <td>0</td>\n",
       "      <td>0</td>\n",
       "    </tr>\n",
       "    <tr>\n",
       "      <th>2</th>\n",
       "      <td>0</td>\n",
       "      <td>0</td>\n",
       "      <td>0</td>\n",
       "    </tr>\n",
       "    <tr>\n",
       "      <th>3</th>\n",
       "      <td>3</td>\n",
       "      <td>0</td>\n",
       "      <td>0</td>\n",
       "    </tr>\n",
       "    <tr>\n",
       "      <th>4</th>\n",
       "      <td>11</td>\n",
       "      <td>11</td>\n",
       "      <td>0</td>\n",
       "    </tr>\n",
       "  </tbody>\n",
       "</table>\n",
       "</div>"
      ],
      "text/plain": [
       "   Normalized RNA expression > 0  Normalized RNA expression > 10  \\\n",
       "0                              8                               0   \n",
       "1                              0                               0   \n",
       "2                              0                               0   \n",
       "3                              3                               0   \n",
       "4                             11                              11   \n",
       "\n",
       "   Normalized RNA expression > 100  \n",
       "0                                0  \n",
       "1                                0  \n",
       "2                                0  \n",
       "3                                0  \n",
       "4                                0  "
      ]
     },
     "execution_count": 49,
     "metadata": {},
     "output_type": "execute_result"
    }
   ],
   "source": [
    "sample_kmer_plot.head()"
   ]
  },
  {
   "cell_type": "code",
   "execution_count": 226,
   "metadata": {
    "ExecuteTime": {
     "end_time": "2022-06-02T20:53:17.892306Z",
     "start_time": "2022-06-02T20:53:17.888291Z"
    }
   },
   "outputs": [],
   "source": [
    "# sample_kmer_plot.to_csv(os.path.join(gene_eq_path, 'tmp_sample_count_pot.csv.gz'), \n",
    "#                       compression = 'gzip', index = None )"
   ]
  },
  {
   "cell_type": "code",
   "execution_count": 78,
   "metadata": {
    "ExecuteTime": {
     "end_time": "2022-07-07T13:20:38.545202Z",
     "start_time": "2022-07-07T13:20:37.827811Z"
    }
   },
   "outputs": [
    {
     "name": "stdout",
     "output_type": "stream",
     "text": [
      "number of kmers 3654\n",
      "number of kmers 3654\n",
      "number of kmers 3654\n",
      "save to /cluster/work/grlab/projects/projects2020_OHSU/plots/MS_single_sample_plots/v2_v2.5f0752a_with_v2_v3_d2d2574_conf2_BRCA_sample_kmer_nb_recurrence30_fix-sample.pdf\n"
     ]
    },
    {
     "data": {
      "image/png": "[encoded data removed]",
      "text/plain": [
       "<Figure size 432x288 with 1 Axes>"
      ]
     },
     "metadata": {
      "needs_background": "light"
     },
     "output_type": "display_data"
    }
   ],
   "source": [
    "plt.grid(True, which='both', color='lightgrey')\n",
    "max_val = np.max(sample_kmer_plot.values) + 1\n",
    "#plt.yscale(\"log\")  \n",
    "# plt.ylim([0.1,max_val])\n",
    "max_rec = 30\n",
    "plt.xlim(-1, max_rec)\n",
    "#plt.semilogy(basey=10)\n",
    "for idx, col in enumerate(sample_kmer_plot.columns):\n",
    "    X = np.arange(sample_kmer_plot.shape[0])\n",
    "    Y = np.sort(sample_kmer_plot[col])[::-1]\n",
    "    ax = plt.scatter(X, Y, label = col, \n",
    "                    marker = 'o')\n",
    "    print('number of kmers', tmp.shape[0])\n",
    "    plt.ylabel('Number of candidate kmers')\n",
    "    plt.xlabel('BRCA sample rank ID')\n",
    "plt.legend()\n",
    "\n",
    "\n",
    "\n",
    "\n",
    "save = False\n",
    "suffix = 'sample_kmer_nb'\n",
    "rec = 'recurrence' + str(max_rec)\n",
    "save_path = os.path.join(plot_dir, f'{base_plot}_{suffix}_{rec}_{save_suffix}.pdf')\n",
    "if save:\n",
    "    print(\"save to {}\".format(save_path))\n",
    "    plt.savefig(save_path, bbox_inches='tight')\n",
    "plt.show()"
   ]
  },
  {
   "cell_type": "code",
   "execution_count": 112,
   "metadata": {
    "ExecuteTime": {
     "end_time": "2022-07-07T13:41:13.078343Z",
     "start_time": "2022-07-07T13:41:13.061453Z"
    }
   },
   "outputs": [
    {
     "data": {
      "text/html": [
       "<div>\n",
       "<style scoped>\n",
       "    .dataframe tbody tr th:only-of-type {\n",
       "        vertical-align: middle;\n",
       "    }\n",
       "\n",
       "    .dataframe tbody tr th {\n",
       "        vertical-align: top;\n",
       "    }\n",
       "\n",
       "    .dataframe thead th {\n",
       "        text-align: right;\n",
       "    }\n",
       "</style>\n",
       "<table border=\"1\" class=\"dataframe\">\n",
       "  <thead>\n",
       "    <tr style=\"text-align: right;\">\n",
       "      <th></th>\n",
       "      <th>Normalized RNA expression &gt; 0</th>\n",
       "      <th>Normalized RNA expression &gt; 10</th>\n",
       "      <th>Normalized RNA expression &gt; 100</th>\n",
       "    </tr>\n",
       "  </thead>\n",
       "  <tbody>\n",
       "    <tr>\n",
       "      <th>684</th>\n",
       "      <td>260</td>\n",
       "      <td>112</td>\n",
       "      <td>30</td>\n",
       "    </tr>\n",
       "  </tbody>\n",
       "</table>\n",
       "</div>"
      ],
      "text/plain": [
       "     Normalized RNA expression > 0  Normalized RNA expression > 10  \\\n",
       "684                            260                             112   \n",
       "\n",
       "     Normalized RNA expression > 100  \n",
       "684                               30  "
      ]
     },
     "execution_count": 112,
     "metadata": {},
     "output_type": "execute_result"
    }
   ],
   "source": [
    "sample_kmer_plot.loc[sample_kmer_plot['Normalized RNA expression > 10'] == 112]"
   ]
  },
  {
   "cell_type": "code",
   "execution_count": 118,
   "metadata": {
    "ExecuteTime": {
     "end_time": "2022-07-07T13:48:44.576112Z",
     "start_time": "2022-07-07T13:48:44.554251Z"
    }
   },
   "outputs": [
    {
     "data": {
      "text/html": [
       "<div>\n",
       "<style scoped>\n",
       "    .dataframe tbody tr th:only-of-type {\n",
       "        vertical-align: middle;\n",
       "    }\n",
       "\n",
       "    .dataframe tbody tr th {\n",
       "        vertical-align: top;\n",
       "    }\n",
       "\n",
       "    .dataframe thead th {\n",
       "        text-align: right;\n",
       "    }\n",
       "</style>\n",
       "<table border=\"1\" class=\"dataframe\">\n",
       "  <thead>\n",
       "    <tr style=\"text-align: right;\">\n",
       "      <th></th>\n",
       "      <th>Normalized RNA expression &gt; 0</th>\n",
       "      <th>Normalized RNA expression &gt; 10</th>\n",
       "      <th>Normalized RNA expression &gt; 100</th>\n",
       "    </tr>\n",
       "  </thead>\n",
       "  <tbody>\n",
       "    <tr>\n",
       "      <th>0</th>\n",
       "      <td>8</td>\n",
       "      <td>0</td>\n",
       "      <td>0</td>\n",
       "    </tr>\n",
       "    <tr>\n",
       "      <th>721</th>\n",
       "      <td>12</td>\n",
       "      <td>0</td>\n",
       "      <td>0</td>\n",
       "    </tr>\n",
       "    <tr>\n",
       "      <th>722</th>\n",
       "      <td>1</td>\n",
       "      <td>0</td>\n",
       "      <td>0</td>\n",
       "    </tr>\n",
       "    <tr>\n",
       "      <th>723</th>\n",
       "      <td>1</td>\n",
       "      <td>0</td>\n",
       "      <td>0</td>\n",
       "    </tr>\n",
       "    <tr>\n",
       "      <th>724</th>\n",
       "      <td>13</td>\n",
       "      <td>0</td>\n",
       "      <td>0</td>\n",
       "    </tr>\n",
       "    <tr>\n",
       "      <th>...</th>\n",
       "      <td>...</td>\n",
       "      <td>...</td>\n",
       "      <td>...</td>\n",
       "    </tr>\n",
       "    <tr>\n",
       "      <th>213</th>\n",
       "      <td>79</td>\n",
       "      <td>47</td>\n",
       "      <td>24</td>\n",
       "    </tr>\n",
       "    <tr>\n",
       "      <th>763</th>\n",
       "      <td>73</td>\n",
       "      <td>47</td>\n",
       "      <td>24</td>\n",
       "    </tr>\n",
       "    <tr>\n",
       "      <th>684</th>\n",
       "      <td>260</td>\n",
       "      <td>112</td>\n",
       "      <td>30</td>\n",
       "    </tr>\n",
       "    <tr>\n",
       "      <th>194</th>\n",
       "      <td>81</td>\n",
       "      <td>81</td>\n",
       "      <td>47</td>\n",
       "    </tr>\n",
       "    <tr>\n",
       "      <th>777</th>\n",
       "      <td>83</td>\n",
       "      <td>81</td>\n",
       "      <td>47</td>\n",
       "    </tr>\n",
       "  </tbody>\n",
       "</table>\n",
       "<p>1102 rows × 3 columns</p>\n",
       "</div>"
      ],
      "text/plain": [
       "     Normalized RNA expression > 0  Normalized RNA expression > 10  \\\n",
       "0                                8                               0   \n",
       "721                             12                               0   \n",
       "722                              1                               0   \n",
       "723                              1                               0   \n",
       "724                             13                               0   \n",
       "..                             ...                             ...   \n",
       "213                             79                              47   \n",
       "763                             73                              47   \n",
       "684                            260                             112   \n",
       "194                             81                              81   \n",
       "777                             83                              81   \n",
       "\n",
       "     Normalized RNA expression > 100  \n",
       "0                                  0  \n",
       "721                                0  \n",
       "722                                0  \n",
       "723                                0  \n",
       "724                                0  \n",
       "..                               ...  \n",
       "213                               24  \n",
       "763                               24  \n",
       "684                               30  \n",
       "194                               47  \n",
       "777                               47  \n",
       "\n",
       "[1102 rows x 3 columns]"
      ]
     },
     "execution_count": 118,
     "metadata": {},
     "output_type": "execute_result"
    }
   ],
   "source": [
    "sample_kmer_plot.sort_values('Normalized RNA expression > 100')"
   ]
  },
  {
   "cell_type": "code",
   "execution_count": 110,
   "metadata": {
    "ExecuteTime": {
     "end_time": "2022-07-07T13:40:22.111996Z",
     "start_time": "2022-07-07T13:40:22.084092Z"
    }
   },
   "outputs": [
    {
     "data": {
      "text/plain": [
       "Normalized RNA expression > 0      286\n",
       "Normalized RNA expression > 10     112\n",
       "Normalized RNA expression > 100     47\n",
       "dtype: int64"
      ]
     },
     "execution_count": 110,
     "metadata": {},
     "output_type": "execute_result"
    }
   ],
   "source": [
    "sample_kmer_plot.max()"
   ]
  },
  {
   "cell_type": "code",
   "execution_count": 51,
   "metadata": {
    "ExecuteTime": {
     "end_time": "2022-07-07T13:04:57.553344Z",
     "start_time": "2022-07-07T13:04:57.549591Z"
    }
   },
   "outputs": [],
   "source": [
    "# tmp['Number kmers expressed in sample'] = 0 \n",
    "# for idx, sample in enumerate(cohort):\n",
    "#     print(idx)\n",
    "#     vals =  df_plot.loc[ : , ['kmer', sample]].drop_duplicates()\n",
    "#     vals = vals[sample].values\n",
    "#     tmp.loc[tmp['sample'] == sample, \n",
    "#             'Number kmers expressed in sample'] = len(np.where(vals > 0 )[0])\n",
    "#     tmp.loc[tmp['sample'] == sample, \n",
    "#             'Number kmers expressed > 10 in sample'] = len(np.where(vals > 10 )[0])\n",
    "#     tmp.loc[tmp['sample'] == sample, \n",
    "#             'Number kmers expressed > 100 in sample'] = len(np.where(vals > 100 )[0])"
   ]
  },
  {
   "cell_type": "code",
   "execution_count": 52,
   "metadata": {
    "ExecuteTime": {
     "end_time": "2022-07-07T13:04:57.834769Z",
     "start_time": "2022-07-07T13:04:57.831043Z"
    }
   },
   "outputs": [],
   "source": [
    "# tmp = pd.melt(df_plot, id_vars=['gene', 'kmer', 'sample'], \n",
    "#               value_vars=['Number kmers expressed in sample', \n",
    "#                           'Number kmers expressed > 10 in sample',\n",
    "#                           'Number kmers expressed > 100 in sample']\n",
    "#              value_name='Candidate kmers per cancer sample', \n",
    "#              var_name='Expression level')"
   ]
  },
  {
   "cell_type": "code",
   "execution_count": 53,
   "metadata": {
    "ExecuteTime": {
     "end_time": "2022-07-07T13:04:58.272721Z",
     "start_time": "2022-07-07T13:04:58.208669Z"
    }
   },
   "outputs": [
    {
     "data": {
      "text/html": [
       "<div>\n",
       "<style scoped>\n",
       "    .dataframe tbody tr th:only-of-type {\n",
       "        vertical-align: middle;\n",
       "    }\n",
       "\n",
       "    .dataframe tbody tr th {\n",
       "        vertical-align: top;\n",
       "    }\n",
       "\n",
       "    .dataframe thead th {\n",
       "        text-align: right;\n",
       "    }\n",
       "</style>\n",
       "<table border=\"1\" class=\"dataframe\">\n",
       "  <thead>\n",
       "    <tr style=\"text-align: right;\">\n",
       "      <th></th>\n",
       "      <th>gene</th>\n",
       "      <th>kmer</th>\n",
       "      <th>sample</th>\n",
       "      <th>Normalized RNA expression of junction</th>\n",
       "    </tr>\n",
       "  </thead>\n",
       "  <tbody>\n",
       "    <tr>\n",
       "      <th>0</th>\n",
       "      <td>ENSG00000060339.14</td>\n",
       "      <td>AAALQQHSS</td>\n",
       "      <td>TCGA3CAAAU01A11RA41B07all</td>\n",
       "      <td>0.0</td>\n",
       "    </tr>\n",
       "    <tr>\n",
       "      <th>1</th>\n",
       "      <td>ENSG00000188976.11</td>\n",
       "      <td>AACGPAGGS</td>\n",
       "      <td>TCGA3CAAAU01A11RA41B07all</td>\n",
       "      <td>0.0</td>\n",
       "    </tr>\n",
       "    <tr>\n",
       "      <th>2</th>\n",
       "      <td>ENSG00000204217.15</td>\n",
       "      <td>AAISEAVRS</td>\n",
       "      <td>TCGA3CAAAU01A11RA41B07all</td>\n",
       "      <td>0.0</td>\n",
       "    </tr>\n",
       "    <tr>\n",
       "      <th>3</th>\n",
       "      <td>ENSG00000060339.14</td>\n",
       "      <td>AALQQHSSV</td>\n",
       "      <td>TCGA3CAAAU01A11RA41B07all</td>\n",
       "      <td>0.0</td>\n",
       "    </tr>\n",
       "    <tr>\n",
       "      <th>4</th>\n",
       "      <td>ENSG00000155659.15</td>\n",
       "      <td>AARSMATTP</td>\n",
       "      <td>TCGA3CAAAU01A11RA41B07all</td>\n",
       "      <td>0.0</td>\n",
       "    </tr>\n",
       "  </tbody>\n",
       "</table>\n",
       "</div>"
      ],
      "text/plain": [
       "                 gene       kmer                     sample  \\\n",
       "0  ENSG00000060339.14  AAALQQHSS  TCGA3CAAAU01A11RA41B07all   \n",
       "1  ENSG00000188976.11  AACGPAGGS  TCGA3CAAAU01A11RA41B07all   \n",
       "2  ENSG00000204217.15  AAISEAVRS  TCGA3CAAAU01A11RA41B07all   \n",
       "3  ENSG00000060339.14  AALQQHSSV  TCGA3CAAAU01A11RA41B07all   \n",
       "4  ENSG00000155659.15  AARSMATTP  TCGA3CAAAU01A11RA41B07all   \n",
       "\n",
       "   Normalized RNA expression of junction  \n",
       "0                                    0.0  \n",
       "1                                    0.0  \n",
       "2                                    0.0  \n",
       "3                                    0.0  \n",
       "4                                    0.0  "
      ]
     },
     "execution_count": 53,
     "metadata": {},
     "output_type": "execute_result"
    }
   ],
   "source": [
    "tmp.head()"
   ]
  },
  {
   "cell_type": "markdown",
   "metadata": {},
   "source": [
    "# Figure 4 "
   ]
  },
  {
   "cell_type": "code",
   "execution_count": 119,
   "metadata": {
    "ExecuteTime": {
     "end_time": "2022-07-07T13:50:43.959365Z",
     "start_time": "2022-07-07T13:50:43.789525Z"
    }
   },
   "outputs": [],
   "source": [
    "meta_cols = [ col for col in df_plot.columns if 'TCGA' not in col ] \n"
   ]
  },
  {
   "cell_type": "code",
   "execution_count": 135,
   "metadata": {
    "ExecuteTime": {
     "end_time": "2022-07-07T13:55:38.387346Z",
     "start_time": "2022-07-07T13:55:36.805582Z"
    }
   },
   "outputs": [
    {
     "name": "stdout",
     "output_type": "stream",
     "text": [
      "(3654, 1108)\n"
     ]
    }
   ],
   "source": [
    "recurrence_max = 30 \n",
    "tmp = df_plot.loc[(df_plot['GTEX_presence'] == 0) &\n",
    "                  (df_plot['junctionAnnotated_kmer'] == 0) &\n",
    "                  (df_plot['recurrence'] > 0) &\n",
    "                  (df_plot['recurrence'] <= recurrence_max ) &\n",
    "                  (df_plot['MHC-I binding status'] != 'not computed'), \n",
    "                  ['recurrence', 'kmer', 'GTEX_presence', \n",
    "                  'MHC-I binding status', \n",
    "                  'percentile_rank', \n",
    "                   'sample'\n",
    "                  ] + cohort ].drop_duplicates()\n",
    "print(tmp.shape)"
   ]
  },
  {
   "cell_type": "code",
   "execution_count": 121,
   "metadata": {
    "ExecuteTime": {
     "end_time": "2022-07-07T13:50:47.030967Z",
     "start_time": "2022-07-07T13:50:46.992314Z"
    }
   },
   "outputs": [
    {
     "data": {
      "text/plain": [
       "['>pepID',\n",
       " 'jx_pos',\n",
       " 'between_codons',\n",
       " \"includes_5'\",\n",
       " \"includes_3'\",\n",
       " 'gene',\n",
       " 'jx_coord',\n",
       " 'kmer',\n",
       " 'readFrameAnnotated',\n",
       " 'junctionAnnotated',\n",
       " 'origin',\n",
       " 'peptide',\n",
       " 'sample',\n",
       " 'percentile_rank',\n",
       " 'affinity',\n",
       " 'strand',\n",
       " 'GTEX_presence',\n",
       " 'index',\n",
       " 'isCrossJunction',\n",
       " 'junctionAnnotated_kmer',\n",
       " 'readFrameAnnotated_kmer',\n",
       " 'recurrence',\n",
       " 'MHC-I binding status']"
      ]
     },
     "execution_count": 121,
     "metadata": {},
     "output_type": "execute_result"
    }
   ],
   "source": [
    "meta_cols"
   ]
  },
  {
   "cell_type": "code",
   "execution_count": 122,
   "metadata": {
    "ExecuteTime": {
     "end_time": "2022-07-07T13:50:47.627975Z",
     "start_time": "2022-07-07T13:50:47.433832Z"
    }
   },
   "outputs": [
    {
     "data": {
      "text/html": [
       "<div>\n",
       "<style scoped>\n",
       "    .dataframe tbody tr th:only-of-type {\n",
       "        vertical-align: middle;\n",
       "    }\n",
       "\n",
       "    .dataframe tbody tr th {\n",
       "        vertical-align: top;\n",
       "    }\n",
       "\n",
       "    .dataframe thead th {\n",
       "        text-align: right;\n",
       "    }\n",
       "</style>\n",
       "<table border=\"1\" class=\"dataframe\">\n",
       "  <thead>\n",
       "    <tr style=\"text-align: right;\">\n",
       "      <th></th>\n",
       "      <th>recurrence</th>\n",
       "      <th>kmer</th>\n",
       "      <th>GTEX_presence</th>\n",
       "      <th>MHC-I binding status</th>\n",
       "      <th>percentile_rank</th>\n",
       "      <th>sample</th>\n",
       "      <th>TCGA3CAAAU01A11RA41B07all</th>\n",
       "      <th>TCGA3CAALI01A11RA41B07all</th>\n",
       "      <th>TCGA3CAALJ01A31RA41B07all</th>\n",
       "      <th>TCGA3CAALK01A11RA41B07all</th>\n",
       "      <th>...</th>\n",
       "      <th>TCGAULAAZ601A11RA41B07all</th>\n",
       "      <th>TCGAUUA93S01A21RA41B07all</th>\n",
       "      <th>TCGAV7A7HQ01A11RA33J07all</th>\n",
       "      <th>TCGAW8A86G01A21RA36F07all</th>\n",
       "      <th>TCGAWTAB4101A11RA41B07all</th>\n",
       "      <th>TCGAWTAB4401A11RA41B07all</th>\n",
       "      <th>TCGAXXA89901A11RA36F07all</th>\n",
       "      <th>TCGAXXA89A01A11RA36F07all</th>\n",
       "      <th>TCGAZ7A8R501A42RA41B07all</th>\n",
       "      <th>TCGAZ7A8R601A11RA41B07all</th>\n",
       "    </tr>\n",
       "  </thead>\n",
       "  <tbody>\n",
       "    <tr>\n",
       "      <th>18</th>\n",
       "      <td>1.0</td>\n",
       "      <td>AAALQQHSS</td>\n",
       "      <td>0.0</td>\n",
       "      <td>not binding</td>\n",
       "      <td>14.0</td>\n",
       "      <td>TCGABHA18V01A11RA12D07all</td>\n",
       "      <td>0.0</td>\n",
       "      <td>0.0</td>\n",
       "      <td>0.0</td>\n",
       "      <td>0.0</td>\n",
       "      <td>...</td>\n",
       "      <td>0.0</td>\n",
       "      <td>0.0</td>\n",
       "      <td>0.0</td>\n",
       "      <td>0.0</td>\n",
       "      <td>0.0</td>\n",
       "      <td>0.0</td>\n",
       "      <td>0.0</td>\n",
       "      <td>0.0</td>\n",
       "      <td>0.0</td>\n",
       "      <td>0.0</td>\n",
       "    </tr>\n",
       "    <tr>\n",
       "      <th>41</th>\n",
       "      <td>1.0</td>\n",
       "      <td>AACGPAGGS</td>\n",
       "      <td>0.0</td>\n",
       "      <td>not binding</td>\n",
       "      <td>15.0</td>\n",
       "      <td>TCGABHA18V01A11RA12D07all</td>\n",
       "      <td>0.0</td>\n",
       "      <td>0.0</td>\n",
       "      <td>0.0</td>\n",
       "      <td>0.0</td>\n",
       "      <td>...</td>\n",
       "      <td>0.0</td>\n",
       "      <td>0.0</td>\n",
       "      <td>0.0</td>\n",
       "      <td>0.0</td>\n",
       "      <td>0.0</td>\n",
       "      <td>0.0</td>\n",
       "      <td>0.0</td>\n",
       "      <td>0.0</td>\n",
       "      <td>0.0</td>\n",
       "      <td>0.0</td>\n",
       "    </tr>\n",
       "    <tr>\n",
       "      <th>153</th>\n",
       "      <td>4.0</td>\n",
       "      <td>AAISEAVRS</td>\n",
       "      <td>0.0</td>\n",
       "      <td>not binding</td>\n",
       "      <td>22.0</td>\n",
       "      <td>TCGABHA18V01A11RA12D07all</td>\n",
       "      <td>0.0</td>\n",
       "      <td>0.0</td>\n",
       "      <td>0.0</td>\n",
       "      <td>0.0</td>\n",
       "      <td>...</td>\n",
       "      <td>0.0</td>\n",
       "      <td>0.0</td>\n",
       "      <td>0.0</td>\n",
       "      <td>0.0</td>\n",
       "      <td>0.0</td>\n",
       "      <td>0.0</td>\n",
       "      <td>0.0</td>\n",
       "      <td>0.0</td>\n",
       "      <td>0.0</td>\n",
       "      <td>0.0</td>\n",
       "    </tr>\n",
       "    <tr>\n",
       "      <th>196</th>\n",
       "      <td>1.0</td>\n",
       "      <td>AALQQHSSV</td>\n",
       "      <td>0.0</td>\n",
       "      <td>weak binding</td>\n",
       "      <td>2.5</td>\n",
       "      <td>TCGABHA18V01A11RA12D07all</td>\n",
       "      <td>0.0</td>\n",
       "      <td>0.0</td>\n",
       "      <td>0.0</td>\n",
       "      <td>0.0</td>\n",
       "      <td>...</td>\n",
       "      <td>0.0</td>\n",
       "      <td>0.0</td>\n",
       "      <td>0.0</td>\n",
       "      <td>0.0</td>\n",
       "      <td>0.0</td>\n",
       "      <td>0.0</td>\n",
       "      <td>0.0</td>\n",
       "      <td>0.0</td>\n",
       "      <td>0.0</td>\n",
       "      <td>0.0</td>\n",
       "    </tr>\n",
       "    <tr>\n",
       "      <th>284</th>\n",
       "      <td>2.0</td>\n",
       "      <td>AARSMATTP</td>\n",
       "      <td>0.0</td>\n",
       "      <td>not binding</td>\n",
       "      <td>11.0</td>\n",
       "      <td>TCGABHA18V01A11RA12D07all</td>\n",
       "      <td>0.0</td>\n",
       "      <td>0.0</td>\n",
       "      <td>0.0</td>\n",
       "      <td>0.0</td>\n",
       "      <td>...</td>\n",
       "      <td>0.0</td>\n",
       "      <td>0.0</td>\n",
       "      <td>0.0</td>\n",
       "      <td>0.0</td>\n",
       "      <td>0.0</td>\n",
       "      <td>0.0</td>\n",
       "      <td>0.0</td>\n",
       "      <td>0.0</td>\n",
       "      <td>0.0</td>\n",
       "      <td>0.0</td>\n",
       "    </tr>\n",
       "  </tbody>\n",
       "</table>\n",
       "<p>5 rows × 1108 columns</p>\n",
       "</div>"
      ],
      "text/plain": [
       "     recurrence       kmer  GTEX_presence MHC-I binding status  \\\n",
       "18          1.0  AAALQQHSS            0.0          not binding   \n",
       "41          1.0  AACGPAGGS            0.0          not binding   \n",
       "153         4.0  AAISEAVRS            0.0          not binding   \n",
       "196         1.0  AALQQHSSV            0.0         weak binding   \n",
       "284         2.0  AARSMATTP            0.0          not binding   \n",
       "\n",
       "     percentile_rank                     sample  TCGA3CAAAU01A11RA41B07all  \\\n",
       "18              14.0  TCGABHA18V01A11RA12D07all                        0.0   \n",
       "41              15.0  TCGABHA18V01A11RA12D07all                        0.0   \n",
       "153             22.0  TCGABHA18V01A11RA12D07all                        0.0   \n",
       "196              2.5  TCGABHA18V01A11RA12D07all                        0.0   \n",
       "284             11.0  TCGABHA18V01A11RA12D07all                        0.0   \n",
       "\n",
       "     TCGA3CAALI01A11RA41B07all  TCGA3CAALJ01A31RA41B07all  \\\n",
       "18                         0.0                        0.0   \n",
       "41                         0.0                        0.0   \n",
       "153                        0.0                        0.0   \n",
       "196                        0.0                        0.0   \n",
       "284                        0.0                        0.0   \n",
       "\n",
       "     TCGA3CAALK01A11RA41B07all  ...  TCGAULAAZ601A11RA41B07all  \\\n",
       "18                         0.0  ...                        0.0   \n",
       "41                         0.0  ...                        0.0   \n",
       "153                        0.0  ...                        0.0   \n",
       "196                        0.0  ...                        0.0   \n",
       "284                        0.0  ...                        0.0   \n",
       "\n",
       "     TCGAUUA93S01A21RA41B07all  TCGAV7A7HQ01A11RA33J07all  \\\n",
       "18                         0.0                        0.0   \n",
       "41                         0.0                        0.0   \n",
       "153                        0.0                        0.0   \n",
       "196                        0.0                        0.0   \n",
       "284                        0.0                        0.0   \n",
       "\n",
       "     TCGAW8A86G01A21RA36F07all  TCGAWTAB4101A11RA41B07all  \\\n",
       "18                         0.0                        0.0   \n",
       "41                         0.0                        0.0   \n",
       "153                        0.0                        0.0   \n",
       "196                        0.0                        0.0   \n",
       "284                        0.0                        0.0   \n",
       "\n",
       "     TCGAWTAB4401A11RA41B07all  TCGAXXA89901A11RA36F07all  \\\n",
       "18                         0.0                        0.0   \n",
       "41                         0.0                        0.0   \n",
       "153                        0.0                        0.0   \n",
       "196                        0.0                        0.0   \n",
       "284                        0.0                        0.0   \n",
       "\n",
       "     TCGAXXA89A01A11RA36F07all  TCGAZ7A8R501A42RA41B07all  \\\n",
       "18                         0.0                        0.0   \n",
       "41                         0.0                        0.0   \n",
       "153                        0.0                        0.0   \n",
       "196                        0.0                        0.0   \n",
       "284                        0.0                        0.0   \n",
       "\n",
       "     TCGAZ7A8R601A11RA41B07all  \n",
       "18                         0.0  \n",
       "41                         0.0  \n",
       "153                        0.0  \n",
       "196                        0.0  \n",
       "284                        0.0  \n",
       "\n",
       "[5 rows x 1108 columns]"
      ]
     },
     "execution_count": 122,
     "metadata": {},
     "output_type": "execute_result"
    }
   ],
   "source": [
    "tmp.head()"
   ]
  },
  {
   "cell_type": "code",
   "execution_count": null,
   "metadata": {},
   "outputs": [],
   "source": [
    "# triangles, rounds, square, crosses, diamonds"
   ]
  },
  {
   "cell_type": "code",
   "execution_count": 77,
   "metadata": {
    "ExecuteTime": {
     "end_time": "2022-07-07T13:20:37.824871Z",
     "start_time": "2022-07-07T13:20:30.256688Z"
    }
   },
   "outputs": [
    {
     "name": "stdout",
     "output_type": "stream",
     "text": [
      "TCGA-BH-A18V-01A-11R-A12D-07.all\n",
      "(229, 1108)\n"
     ]
    },
    {
     "name": "stderr",
     "output_type": "stream",
     "text": [
      "/cluster/home/prelotla/software/anaconda3/envs/myimmuno3_light/lib/python3.8/site-packages/seaborn/categorical.py:1296: UserWarning: 83.3% of the points cannot be placed; you may want to decrease the size of the markers or use stripplot.\n",
      "  warnings.warn(msg, UserWarning)\n",
      "/cluster/home/prelotla/software/anaconda3/envs/myimmuno3_light/lib/python3.8/site-packages/seaborn/categorical.py:1296: UserWarning: 76.9% of the points cannot be placed; you may want to decrease the size of the markers or use stripplot.\n",
      "  warnings.warn(msg, UserWarning)\n",
      "/cluster/home/prelotla/software/anaconda3/envs/myimmuno3_light/lib/python3.8/site-packages/seaborn/categorical.py:1296: UserWarning: 73.4% of the points cannot be placed; you may want to decrease the size of the markers or use stripplot.\n",
      "  warnings.warn(msg, UserWarning)\n",
      "/cluster/home/prelotla/software/anaconda3/envs/myimmuno3_light/lib/python3.8/site-packages/seaborn/categorical.py:1296: UserWarning: 64.7% of the points cannot be placed; you may want to decrease the size of the markers or use stripplot.\n",
      "  warnings.warn(msg, UserWarning)\n",
      "/cluster/home/prelotla/software/anaconda3/envs/myimmuno3_light/lib/python3.8/site-packages/seaborn/categorical.py:1296: UserWarning: 62.5% of the points cannot be placed; you may want to decrease the size of the markers or use stripplot.\n",
      "  warnings.warn(msg, UserWarning)\n",
      "/cluster/home/prelotla/software/anaconda3/envs/myimmuno3_light/lib/python3.8/site-packages/seaborn/categorical.py:1296: UserWarning: 80.0% of the points cannot be placed; you may want to decrease the size of the markers or use stripplot.\n",
      "  warnings.warn(msg, UserWarning)\n",
      "/cluster/home/prelotla/software/anaconda3/envs/myimmuno3_light/lib/python3.8/site-packages/seaborn/categorical.py:1296: UserWarning: 40.0% of the points cannot be placed; you may want to decrease the size of the markers or use stripplot.\n",
      "  warnings.warn(msg, UserWarning)\n",
      "/cluster/home/prelotla/software/anaconda3/envs/myimmuno3_light/lib/python3.8/site-packages/seaborn/categorical.py:1296: UserWarning: 50.0% of the points cannot be placed; you may want to decrease the size of the markers or use stripplot.\n",
      "  warnings.warn(msg, UserWarning)\n",
      "/cluster/home/prelotla/software/anaconda3/envs/myimmuno3_light/lib/python3.8/site-packages/seaborn/categorical.py:1296: UserWarning: 25.0% of the points cannot be placed; you may want to decrease the size of the markers or use stripplot.\n",
      "  warnings.warn(msg, UserWarning)\n"
     ]
    },
    {
     "name": "stdout",
     "output_type": "stream",
     "text": [
      "TCGA-C8-A12P-01A-11R-A115-07.all\n",
      "(260, 1108)\n"
     ]
    },
    {
     "name": "stderr",
     "output_type": "stream",
     "text": [
      "/cluster/home/prelotla/software/anaconda3/envs/myimmuno3_light/lib/python3.8/site-packages/seaborn/categorical.py:1296: UserWarning: 88.2% of the points cannot be placed; you may want to decrease the size of the markers or use stripplot.\n",
      "  warnings.warn(msg, UserWarning)\n",
      "/cluster/home/prelotla/software/anaconda3/envs/myimmuno3_light/lib/python3.8/site-packages/seaborn/categorical.py:1296: UserWarning: 85.7% of the points cannot be placed; you may want to decrease the size of the markers or use stripplot.\n",
      "  warnings.warn(msg, UserWarning)\n",
      "/cluster/home/prelotla/software/anaconda3/envs/myimmuno3_light/lib/python3.8/site-packages/seaborn/categorical.py:1296: UserWarning: 57.1% of the points cannot be placed; you may want to decrease the size of the markers or use stripplot.\n",
      "  warnings.warn(msg, UserWarning)\n",
      "/cluster/home/prelotla/software/anaconda3/envs/myimmuno3_light/lib/python3.8/site-packages/seaborn/categorical.py:1296: UserWarning: 81.6% of the points cannot be placed; you may want to decrease the size of the markers or use stripplot.\n",
      "  warnings.warn(msg, UserWarning)\n",
      "/cluster/home/prelotla/software/anaconda3/envs/myimmuno3_light/lib/python3.8/site-packages/seaborn/categorical.py:1296: UserWarning: 66.7% of the points cannot be placed; you may want to decrease the size of the markers or use stripplot.\n",
      "  warnings.warn(msg, UserWarning)\n",
      "/cluster/home/prelotla/software/anaconda3/envs/myimmuno3_light/lib/python3.8/site-packages/seaborn/categorical.py:1296: UserWarning: 62.5% of the points cannot be placed; you may want to decrease the size of the markers or use stripplot.\n",
      "  warnings.warn(msg, UserWarning)\n",
      "/cluster/home/prelotla/software/anaconda3/envs/myimmuno3_light/lib/python3.8/site-packages/seaborn/categorical.py:1296: UserWarning: 84.2% of the points cannot be placed; you may want to decrease the size of the markers or use stripplot.\n",
      "  warnings.warn(msg, UserWarning)\n",
      "/cluster/home/prelotla/software/anaconda3/envs/myimmuno3_light/lib/python3.8/site-packages/seaborn/categorical.py:1296: UserWarning: 77.8% of the points cannot be placed; you may want to decrease the size of the markers or use stripplot.\n",
      "  warnings.warn(msg, UserWarning)\n"
     ]
    },
    {
     "name": "stdout",
     "output_type": "stream",
     "text": [
      "TCGA-AO-A0JM-01A-21R-A056-07.all\n",
      "(284, 1108)\n"
     ]
    },
    {
     "name": "stderr",
     "output_type": "stream",
     "text": [
      "/cluster/home/prelotla/software/anaconda3/envs/myimmuno3_light/lib/python3.8/site-packages/seaborn/categorical.py:1296: UserWarning: 90.4% of the points cannot be placed; you may want to decrease the size of the markers or use stripplot.\n",
      "  warnings.warn(msg, UserWarning)\n",
      "/cluster/home/prelotla/software/anaconda3/envs/myimmuno3_light/lib/python3.8/site-packages/seaborn/categorical.py:1296: UserWarning: 95.2% of the points cannot be placed; you may want to decrease the size of the markers or use stripplot.\n",
      "  warnings.warn(msg, UserWarning)\n",
      "/cluster/home/prelotla/software/anaconda3/envs/myimmuno3_light/lib/python3.8/site-packages/seaborn/categorical.py:1296: UserWarning: 87.0% of the points cannot be placed; you may want to decrease the size of the markers or use stripplot.\n",
      "  warnings.warn(msg, UserWarning)\n",
      "/cluster/home/prelotla/software/anaconda3/envs/myimmuno3_light/lib/python3.8/site-packages/seaborn/categorical.py:1296: UserWarning: 50.0% of the points cannot be placed; you may want to decrease the size of the markers or use stripplot.\n",
      "  warnings.warn(msg, UserWarning)\n",
      "/cluster/home/prelotla/software/anaconda3/envs/myimmuno3_light/lib/python3.8/site-packages/seaborn/categorical.py:1296: UserWarning: 88.5% of the points cannot be placed; you may want to decrease the size of the markers or use stripplot.\n",
      "  warnings.warn(msg, UserWarning)\n",
      "/cluster/home/prelotla/software/anaconda3/envs/myimmuno3_light/lib/python3.8/site-packages/seaborn/categorical.py:1296: UserWarning: 78.6% of the points cannot be placed; you may want to decrease the size of the markers or use stripplot.\n",
      "  warnings.warn(msg, UserWarning)\n",
      "/cluster/home/prelotla/software/anaconda3/envs/myimmuno3_light/lib/python3.8/site-packages/seaborn/categorical.py:1296: UserWarning: 57.1% of the points cannot be placed; you may want to decrease the size of the markers or use stripplot.\n",
      "  warnings.warn(msg, UserWarning)\n",
      "/cluster/home/prelotla/software/anaconda3/envs/myimmuno3_light/lib/python3.8/site-packages/seaborn/categorical.py:1296: UserWarning: 89.3% of the points cannot be placed; you may want to decrease the size of the markers or use stripplot.\n",
      "  warnings.warn(msg, UserWarning)\n",
      "/cluster/home/prelotla/software/anaconda3/envs/myimmuno3_light/lib/python3.8/site-packages/seaborn/categorical.py:1296: UserWarning: 75.0% of the points cannot be placed; you may want to decrease the size of the markers or use stripplot.\n",
      "  warnings.warn(msg, UserWarning)\n",
      "/cluster/home/prelotla/software/anaconda3/envs/myimmuno3_light/lib/python3.8/site-packages/seaborn/categorical.py:1296: UserWarning: 62.5% of the points cannot be placed; you may want to decrease the size of the markers or use stripplot.\n",
      "  warnings.warn(msg, UserWarning)\n",
      "/cluster/home/prelotla/software/anaconda3/envs/myimmuno3_light/lib/python3.8/site-packages/seaborn/categorical.py:1296: UserWarning: 84.2% of the points cannot be placed; you may want to decrease the size of the markers or use stripplot.\n",
      "  warnings.warn(msg, UserWarning)\n"
     ]
    },
    {
     "name": "stdout",
     "output_type": "stream",
     "text": [
      "TCGA-A2-A0SX-01A-12R-A084-07.all\n",
      "(105, 1108)\n"
     ]
    },
    {
     "name": "stderr",
     "output_type": "stream",
     "text": [
      "/cluster/home/prelotla/software/anaconda3/envs/myimmuno3_light/lib/python3.8/site-packages/seaborn/categorical.py:1296: UserWarning: 66.7% of the points cannot be placed; you may want to decrease the size of the markers or use stripplot.\n",
      "  warnings.warn(msg, UserWarning)\n",
      "/cluster/home/prelotla/software/anaconda3/envs/myimmuno3_light/lib/python3.8/site-packages/seaborn/categorical.py:1296: UserWarning: 75.0% of the points cannot be placed; you may want to decrease the size of the markers or use stripplot.\n",
      "  warnings.warn(msg, UserWarning)\n",
      "/cluster/home/prelotla/software/anaconda3/envs/myimmuno3_light/lib/python3.8/site-packages/seaborn/categorical.py:1296: UserWarning: 58.3% of the points cannot be placed; you may want to decrease the size of the markers or use stripplot.\n",
      "  warnings.warn(msg, UserWarning)\n",
      "/cluster/home/prelotla/software/anaconda3/envs/myimmuno3_light/lib/python3.8/site-packages/seaborn/categorical.py:1296: UserWarning: 16.7% of the points cannot be placed; you may want to decrease the size of the markers or use stripplot.\n",
      "  warnings.warn(msg, UserWarning)\n",
      "/cluster/home/prelotla/software/anaconda3/envs/myimmuno3_light/lib/python3.8/site-packages/seaborn/categorical.py:1296: UserWarning: 50.0% of the points cannot be placed; you may want to decrease the size of the markers or use stripplot.\n",
      "  warnings.warn(msg, UserWarning)\n",
      "/cluster/home/prelotla/software/anaconda3/envs/myimmuno3_light/lib/python3.8/site-packages/seaborn/categorical.py:1296: UserWarning: 44.4% of the points cannot be placed; you may want to decrease the size of the markers or use stripplot.\n",
      "  warnings.warn(msg, UserWarning)\n",
      "/cluster/home/prelotla/software/anaconda3/envs/myimmuno3_light/lib/python3.8/site-packages/seaborn/categorical.py:1296: UserWarning: 28.6% of the points cannot be placed; you may want to decrease the size of the markers or use stripplot.\n",
      "  warnings.warn(msg, UserWarning)\n"
     ]
    },
    {
     "name": "stdout",
     "output_type": "stream",
     "text": [
      "TCGA-A2-A0D2-01A-21R-A034-07.all\n",
      "(145, 1108)\n"
     ]
    },
    {
     "name": "stderr",
     "output_type": "stream",
     "text": [
      "/cluster/home/prelotla/software/anaconda3/envs/myimmuno3_light/lib/python3.8/site-packages/seaborn/categorical.py:1296: UserWarning: 80.9% of the points cannot be placed; you may want to decrease the size of the markers or use stripplot.\n",
      "  warnings.warn(msg, UserWarning)\n",
      "/cluster/home/prelotla/software/anaconda3/envs/myimmuno3_light/lib/python3.8/site-packages/seaborn/categorical.py:1296: UserWarning: 72.2% of the points cannot be placed; you may want to decrease the size of the markers or use stripplot.\n",
      "  warnings.warn(msg, UserWarning)\n",
      "/cluster/home/prelotla/software/anaconda3/envs/myimmuno3_light/lib/python3.8/site-packages/seaborn/categorical.py:1296: UserWarning: 37.5% of the points cannot be placed; you may want to decrease the size of the markers or use stripplot.\n",
      "  warnings.warn(msg, UserWarning)\n",
      "/cluster/home/prelotla/software/anaconda3/envs/myimmuno3_light/lib/python3.8/site-packages/seaborn/categorical.py:1296: UserWarning: 76.2% of the points cannot be placed; you may want to decrease the size of the markers or use stripplot.\n",
      "  warnings.warn(msg, UserWarning)\n",
      "/cluster/home/prelotla/software/anaconda3/envs/myimmuno3_light/lib/python3.8/site-packages/seaborn/categorical.py:1296: UserWarning: 16.7% of the points cannot be placed; you may want to decrease the size of the markers or use stripplot.\n",
      "  warnings.warn(msg, UserWarning)\n",
      "/cluster/home/prelotla/software/anaconda3/envs/myimmuno3_light/lib/python3.8/site-packages/seaborn/categorical.py:1296: UserWarning: 28.6% of the points cannot be placed; you may want to decrease the size of the markers or use stripplot.\n",
      "  warnings.warn(msg, UserWarning)\n",
      "/cluster/home/prelotla/software/anaconda3/envs/myimmuno3_light/lib/python3.8/site-packages/seaborn/categorical.py:1296: UserWarning: 58.3% of the points cannot be placed; you may want to decrease the size of the markers or use stripplot.\n",
      "  warnings.warn(msg, UserWarning)\n",
      "/cluster/home/prelotla/software/anaconda3/envs/myimmuno3_light/lib/python3.8/site-packages/seaborn/categorical.py:1296: UserWarning: 44.4% of the points cannot be placed; you may want to decrease the size of the markers or use stripplot.\n",
      "  warnings.warn(msg, UserWarning)\n"
     ]
    },
    {
     "name": "stdout",
     "output_type": "stream",
     "text": [
      "save to /cluster/work/grlab/projects/projects2020_OHSU/plots/MS_single_sample_plots/v2_v2.5f0752a_with_v2_v3_d2d2574_conf2_BRCA_recurrence_expression_binding_fix-sample.pdf\n"
     ]
    },
    {
     "data": {
      "image/png": "[encoded data removed]",
      "text/plain": [
       "<Figure size 432x288 with 1 Axes>"
      ]
     },
     "metadata": {
      "needs_background": "light"
     },
     "output_type": "display_data"
    }
   ],
   "source": [
    "markers = ['^', 'o', 's', 'X', 'd']\n",
    "\n",
    "all_tmp_plots = []\n",
    "for idx, sample in enumerate(samples):\n",
    "    print(sample)\n",
    "    sample_short = ''.join(sample.split('.')[:-1])\n",
    "    sample_lower = '_'.join(sample_short.split('-')[1:3]).lower()\n",
    "    sample_nice = '_'.join(sample_short.split('-')[0:3])\n",
    "    sample_pool = sample.replace('-', '').replace('.', '')\n",
    "\n",
    "    tmp_plot = tmp.loc[(tmp['sample'] == sample_pool) &\n",
    "                       (tmp[sample_pool] > 0 ), :]\n",
    "    new_name = 'MHC-I binding status {}'.format('')\n",
    "    tmp_plot = tmp_plot.rename({'MHC-I binding status':\n",
    "                               new_name}, axis = 1)\n",
    "    \n",
    "    all_tmp_plots.append(tmp_plot)\n",
    "    print(tmp_plot.shape)\n",
    "    if len(tmp_plot):\n",
    "        ax = sns.swarmplot(data = tmp_plot, x = 'recurrence', y = sample_pool, \n",
    "                        hue = new_name, marker = markers[idx], \n",
    "                          # jitter = 2\n",
    "                          palette = ['b', 'grey', 'r'], alpha = 0.6)\n",
    "\n",
    "\n",
    "    #plt.show()\n",
    "plt.xlabel('Recurrence across BRCA cohort')\n",
    "plt.ylabel('Normalized Expression in target sample')\n",
    "#plt.yscale(\"log\")  \n",
    "# plt.grid(True, which='both', color='lightgrey')\n",
    "ax.xaxis.grid(color='lightgrey', linestyle='dashed', which='both')\n",
    "#plt.ylim([0.1, max(tmp[sample])])\n",
    "#plt.xlim([0, 30])\n",
    "handles, labels = ax.get_legend_handles_labels()\n",
    "ax.legend(handles[:3], labels[:3])\n",
    "    \n",
    "save = False\n",
    "name = 'recurrence_expression_binding'\n",
    "save_path = os.path.join(plot_dir, f'{base_plot}_{name}_{save_suffix}.pdf')\n",
    "if save:\n",
    "    print(\"save to {}\".format(save_path))\n",
    "    plt.savefig(save_path, bbox_inches='tight')\n",
    "plt.show()"
   ]
  },
  {
   "cell_type": "code",
   "execution_count": 129,
   "metadata": {
    "ExecuteTime": {
     "end_time": "2022-07-07T13:53:48.409783Z",
     "start_time": "2022-07-07T13:53:48.399651Z"
    }
   },
   "outputs": [
    {
     "data": {
      "text/plain": [
       "'MHC-I binding status '"
      ]
     },
     "execution_count": 129,
     "metadata": {},
     "output_type": "execute_result"
    }
   ],
   "source": [
    "tmp_plot.columns[3]"
   ]
  },
  {
   "cell_type": "code",
   "execution_count": 140,
   "metadata": {
    "ExecuteTime": {
     "end_time": "2022-07-07T13:57:33.906258Z",
     "start_time": "2022-07-07T13:57:33.870288Z"
    }
   },
   "outputs": [
    {
     "data": {
      "text/plain": [
       "array(['not binding', 'weak binding', 'strong binding'], dtype=object)"
      ]
     },
     "execution_count": 140,
     "metadata": {},
     "output_type": "execute_result"
    }
   ],
   "source": [
    "tmp_plot['MHC-I binding status'].unique()"
   ]
  },
  {
   "cell_type": "code",
   "execution_count": 143,
   "metadata": {
    "ExecuteTime": {
     "end_time": "2022-07-07T13:59:26.541346Z",
     "start_time": "2022-07-07T13:59:26.441516Z"
    }
   },
   "outputs": [
    {
     "name": "stdout",
     "output_type": "stream",
     "text": [
      "TCGA-BH-A18V-01A-11R-A12D-07.all\n",
      "not binding TCGAA2A0D201A21RA03407all\n",
      "(31, 1108)\n",
      "TCGA-C8-A12P-01A-11R-A115-07.all\n",
      "not binding TCGAA2A0D201A21RA03407all\n",
      "(62, 1108)\n",
      "TCGA-AO-A0JM-01A-21R-A056-07.all\n",
      "not binding TCGAA2A0D201A21RA03407all\n",
      "(11, 1108)\n",
      "TCGA-A2-A0SX-01A-12R-A084-07.all\n",
      "not binding TCGAA2A0D201A21RA03407all\n",
      "(8, 1108)\n",
      "TCGA-A2-A0D2-01A-21R-A034-07.all\n",
      "not binding TCGAA2A0D201A21RA03407all\n",
      "(10, 1108)\n",
      "TCGA-BH-A18V-01A-11R-A12D-07.all\n",
      "weak binding TCGAA2A0D201A21RA03407all\n",
      "(23, 1108)\n",
      "TCGA-C8-A12P-01A-11R-A115-07.all\n",
      "weak binding TCGAA2A0D201A21RA03407all\n",
      "(38, 1108)\n",
      "TCGA-AO-A0JM-01A-21R-A056-07.all\n",
      "weak binding TCGAA2A0D201A21RA03407all\n",
      "(2, 1108)\n",
      "TCGA-A2-A0SX-01A-12R-A084-07.all\n",
      "weak binding TCGAA2A0D201A21RA03407all\n",
      "(8, 1108)\n",
      "TCGA-A2-A0D2-01A-21R-A034-07.all\n",
      "weak binding TCGAA2A0D201A21RA03407all\n",
      "(7, 1108)\n",
      "TCGA-BH-A18V-01A-11R-A12D-07.all\n",
      "strong binding TCGAA2A0D201A21RA03407all\n",
      "(7, 1108)\n",
      "TCGA-C8-A12P-01A-11R-A115-07.all\n",
      "strong binding TCGAA2A0D201A21RA03407all\n",
      "(12, 1108)\n",
      "TCGA-AO-A0JM-01A-21R-A056-07.all\n",
      "strong binding TCGAA2A0D201A21RA03407all\n",
      "(1, 1108)\n",
      "TCGA-A2-A0SX-01A-12R-A084-07.all\n",
      "strong binding TCGAA2A0D201A21RA03407all\n",
      "(0, 1108)\n",
      "TCGA-A2-A0D2-01A-21R-A034-07.all\n",
      "strong binding TCGAA2A0D201A21RA03407all\n",
      "(4, 1108)\n"
     ]
    }
   ],
   "source": [
    "reads = 10 \n",
    "for i in tmp_plot['MHC-I binding status'].unique():\n",
    "    for idx, sample in enumerate(samples):\n",
    "        print(sample)\n",
    "        sample_short = ''.join(sample.split('.')[:-1])\n",
    "        sample_lower = '_'.join(sample_short.split('-')[1:3]).lower()\n",
    "        sample_nice = '_'.join(sample_short.split('-')[0:3])\n",
    "        sample_pool = sample.replace('-', '').replace('.', '')\n",
    "\n",
    "        tmp_plot = tmp.loc[(tmp['sample'] == sample_pool) &\n",
    "                           (tmp[sample_pool] > reads ), :]\n",
    "        print(i, j)\n",
    "        print(tmp_plot.loc[(tmp_plot['MHC-I binding status'] == i), :].shape)"
   ]
  },
  {
   "cell_type": "code",
   "execution_count": null,
   "metadata": {},
   "outputs": [],
   "source": []
  }
 ],
 "metadata": {
  "kernelspec": {
   "display_name": "myimmuno3_light",
   "language": "python",
   "name": "myimmuno3_light"
  },
  "language_info": {
   "codemirror_mode": {
    "name": "ipython",
    "version": 3
   },
   "file_extension": ".py",
   "mimetype": "text/x-python",
   "name": "python",
   "nbconvert_exporter": "python",
   "pygments_lexer": "ipython3",
   "version": "3.8.5"
  }
 },
 "nbformat": 4,
 "nbformat_minor": 4
}
