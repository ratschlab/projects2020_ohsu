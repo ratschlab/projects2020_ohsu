{
 "cells": [
  {
   "cell_type": "code",
   "execution_count": 174,
   "metadata": {
    "ExecuteTime": {
     "end_time": "2021-11-29T17:37:31.037866Z",
     "start_time": "2021-11-29T17:37:30.974342Z"
    }
   },
   "outputs": [],
   "source": [
    "import os \n",
    "import pandas as pd \n",
    "import numpy as np \n",
    "import glob"
   ]
  },
  {
   "cell_type": "code",
   "execution_count": 175,
   "metadata": {
    "ExecuteTime": {
     "end_time": "2021-11-29T17:37:31.537358Z",
     "start_time": "2021-11-29T17:37:31.476572Z"
    }
   },
   "outputs": [],
   "source": [
    "out_list = glob.glob('/cluster/work/grlab/projects/projects2020_OHSU/peptides_generation/v2_v2.5f0752a_conf2_annotFrame_cap0_runs_pya0.17.1/TCGA_Breast_1102/filter*/*filtered*')"
   ]
  },
  {
   "cell_type": "code",
   "execution_count": 176,
   "metadata": {
    "ExecuteTime": {
     "end_time": "2021-11-29T17:37:31.824245Z",
     "start_time": "2021-11-29T17:37:31.820493Z"
    }
   },
   "outputs": [
    {
     "data": {
      "text/plain": [
       "['/cluster/work/grlab/projects/projects2020_OHSU/peptides_generation/v2_v2.5f0752a_conf2_annotFrame_cap0_runs_pya0.17.1/TCGA_Breast_1102/filter_TCGA-C8-A12P-01A-11R-A115-07.all/G_filtered_df_TCGA-C8-A12P-01A-11R-A115-07_samp_chrt_norm_mot_unip_12f.tsv',\n",
       " '/cluster/work/grlab/projects/projects2020_OHSU/peptides_generation/v2_v2.5f0752a_conf2_annotFrame_cap0_runs_pya0.17.1/TCGA_Breast_1102/filter_TCGA-C8-A12P-01A-11R-A115-07.all/G_filtered_df_TCGA-C8-A12P-01A-11R-A115-07_samp_chrt_norm_mot_unip_13f.tsv',\n",
       " '/cluster/work/grlab/projects/projects2020_OHSU/peptides_generation/v2_v2.5f0752a_conf2_annotFrame_cap0_runs_pya0.17.1/TCGA_Breast_1102/filter_TCGA-C8-A12P-01A-11R-A115-07.all/G_filtered_df_TCGA-C8-A12P-01A-11R-A115-07_samp_chrt_norm_mot_unip.tsv',\n",
       " '/cluster/work/grlab/projects/projects2020_OHSU/peptides_generation/v2_v2.5f0752a_conf2_annotFrame_cap0_runs_pya0.17.1/TCGA_Breast_1102/filter_TCGA-C8-A12P-01A-11R-A115-07.all/G_filtered_df_TCGA-C8-A12P-01A-11R-A115-07_samp_chrt_norm_mot_unip_orig.tsv',\n",
       " '/cluster/work/grlab/projects/projects2020_OHSU/peptides_generation/v2_v2.5f0752a_conf2_annotFrame_cap0_runs_pya0.17.1/TCGA_Breast_1102/filter_TCGA-A2-A0SX-01A-12R-A084-07.all/G_filtered_df_TCGA-A2-A0SX-01A-12R-A084-07_samp_chrt_norm_mot_unip_orig.tsv',\n",
       " '/cluster/work/grlab/projects/projects2020_OHSU/peptides_generation/v2_v2.5f0752a_conf2_annotFrame_cap0_runs_pya0.17.1/TCGA_Breast_1102/filter_TCGA-A2-A0SX-01A-12R-A084-07.all/G_filtered_df_TCGA-A2-A0SX-01A-12R-A084-07_samp_chrt_norm_mot_unip.tsv',\n",
       " '/cluster/work/grlab/projects/projects2020_OHSU/peptides_generation/v2_v2.5f0752a_conf2_annotFrame_cap0_runs_pya0.17.1/TCGA_Breast_1102/filter_TCGA-AO-A0JM-01A-21R-A056-07.all/G_filtered_df_TCGA-AO-A0JM-01A-21R-A056-07_samp_chrt_norm_mot_unip.tsv',\n",
       " '/cluster/work/grlab/projects/projects2020_OHSU/peptides_generation/v2_v2.5f0752a_conf2_annotFrame_cap0_runs_pya0.17.1/TCGA_Breast_1102/filter_TCGA-AO-A0JM-01A-21R-A056-07.all/G_filtered_df_TCGA-AO-A0JM-01A-21R-A056-07_samp_chrt_norm_mot_unip_orig.tsv',\n",
       " '/cluster/work/grlab/projects/projects2020_OHSU/peptides_generation/v2_v2.5f0752a_conf2_annotFrame_cap0_runs_pya0.17.1/TCGA_Breast_1102/filter_TCGA-AO-A0JM-01A-21R-A056-07.all/G_filtered_df_TCGA-AO-A0JM-01A-21R-A056-07_samp_chrt_norm_mot_unip_12f.tsv',\n",
       " '/cluster/work/grlab/projects/projects2020_OHSU/peptides_generation/v2_v2.5f0752a_conf2_annotFrame_cap0_runs_pya0.17.1/TCGA_Breast_1102/filter_TCGA-AO-A0JM-01A-21R-A056-07.all/G_filtered_df_TCGA-AO-A0JM-01A-21R-A056-07_samp_chrt_norm_mot_unip_13f.tsv',\n",
       " '/cluster/work/grlab/projects/projects2020_OHSU/peptides_generation/v2_v2.5f0752a_conf2_annotFrame_cap0_runs_pya0.17.1/TCGA_Breast_1102/filter_TCGA-A2-A0D2-01A-21R-A034-07.all/G_filtered_df_TCGA-A2-A0D2-01A-21R-A034-07_samp_chrt_norm_mot_unip.tsv',\n",
       " '/cluster/work/grlab/projects/projects2020_OHSU/peptides_generation/v2_v2.5f0752a_conf2_annotFrame_cap0_runs_pya0.17.1/TCGA_Breast_1102/filter_TCGA-A2-A0D2-01A-21R-A034-07.all/G_filtered_df_TCGA-A2-A0D2-01A-21R-A034-07_samp_chrt_norm_mot_unip_orig.tsv',\n",
       " '/cluster/work/grlab/projects/projects2020_OHSU/peptides_generation/v2_v2.5f0752a_conf2_annotFrame_cap0_runs_pya0.17.1/TCGA_Breast_1102/filter_TCGA-BH-A18V-01A-11R-A12D-07.all/G_filtered_df_TCGA-BH-A18V-01A-11R-A12D-07_samp_chrt_norm_mot_unip.tsv',\n",
       " '/cluster/work/grlab/projects/projects2020_OHSU/peptides_generation/v2_v2.5f0752a_conf2_annotFrame_cap0_runs_pya0.17.1/TCGA_Breast_1102/filter_TCGA-BH-A18V-01A-11R-A12D-07.all/G_filtered_df_TCGA-BH-A18V-01A-11R-A12D-07_samp_chrt_norm_mot_unip_orig.tsv']"
      ]
     },
     "execution_count": 176,
     "metadata": {},
     "output_type": "execute_result"
    }
   ],
   "source": [
    "out_list"
   ]
  },
  {
   "cell_type": "code",
   "execution_count": 177,
   "metadata": {
    "ExecuteTime": {
     "end_time": "2021-11-29T17:37:32.155191Z",
     "start_time": "2021-11-29T17:37:32.082597Z"
    }
   },
   "outputs": [],
   "source": [
    "# Exclude backup files \n",
    "out_list = [filename for filename in out_list if 'orig' not in filename]\n",
    "out_list = [filename for filename in out_list if '12f' not in filename]\n",
    "out_list = [filename for filename in out_list if '13f' not in filename]"
   ]
  },
  {
   "cell_type": "code",
   "execution_count": 178,
   "metadata": {
    "ExecuteTime": {
     "end_time": "2021-11-29T17:37:32.794526Z",
     "start_time": "2021-11-29T17:37:32.790605Z"
    }
   },
   "outputs": [
    {
     "data": {
      "text/plain": [
       "['/cluster/work/grlab/projects/projects2020_OHSU/peptides_generation/v2_v2.5f0752a_conf2_annotFrame_cap0_runs_pya0.17.1/TCGA_Breast_1102/filter_TCGA-C8-A12P-01A-11R-A115-07.all/G_filtered_df_TCGA-C8-A12P-01A-11R-A115-07_samp_chrt_norm_mot_unip.tsv',\n",
       " '/cluster/work/grlab/projects/projects2020_OHSU/peptides_generation/v2_v2.5f0752a_conf2_annotFrame_cap0_runs_pya0.17.1/TCGA_Breast_1102/filter_TCGA-A2-A0SX-01A-12R-A084-07.all/G_filtered_df_TCGA-A2-A0SX-01A-12R-A084-07_samp_chrt_norm_mot_unip.tsv',\n",
       " '/cluster/work/grlab/projects/projects2020_OHSU/peptides_generation/v2_v2.5f0752a_conf2_annotFrame_cap0_runs_pya0.17.1/TCGA_Breast_1102/filter_TCGA-AO-A0JM-01A-21R-A056-07.all/G_filtered_df_TCGA-AO-A0JM-01A-21R-A056-07_samp_chrt_norm_mot_unip.tsv',\n",
       " '/cluster/work/grlab/projects/projects2020_OHSU/peptides_generation/v2_v2.5f0752a_conf2_annotFrame_cap0_runs_pya0.17.1/TCGA_Breast_1102/filter_TCGA-A2-A0D2-01A-21R-A034-07.all/G_filtered_df_TCGA-A2-A0D2-01A-21R-A034-07_samp_chrt_norm_mot_unip.tsv',\n",
       " '/cluster/work/grlab/projects/projects2020_OHSU/peptides_generation/v2_v2.5f0752a_conf2_annotFrame_cap0_runs_pya0.17.1/TCGA_Breast_1102/filter_TCGA-BH-A18V-01A-11R-A12D-07.all/G_filtered_df_TCGA-BH-A18V-01A-11R-A12D-07_samp_chrt_norm_mot_unip.tsv']"
      ]
     },
     "execution_count": 178,
     "metadata": {},
     "output_type": "execute_result"
    }
   ],
   "source": [
    "out_list"
   ]
  },
  {
   "cell_type": "code",
   "execution_count": 227,
   "metadata": {
    "ExecuteTime": {
     "end_time": "2021-11-29T18:10:59.792438Z",
     "start_time": "2021-11-29T18:10:59.697020Z"
    }
   },
   "outputs": [
    {
     "name": "stdout",
     "output_type": "stream",
     "text": [
      "/cluster/work/grlab/projects/projects2020_OHSU/peptides_generation/v2_v2.5f0752a_conf2_annotFrame_cap0_runs_pya0.17.1/TCGA_Breast_1102/filter_TCGA-A2-A0D2-01A-21R-A034-07.all/G_filtered_df_TCGA-A2-A0D2-01A-21R-A034-07_samp_chrt_norm_mot_unip.tsv\n",
      "(326, 13) (0, 0) (0, 0)\n",
      "not TCGA\n",
      "(326, 13)\n",
      "now unique\n",
      "(207, 13)\n",
      "now hack\n",
      "(193, 13)\n",
      "with TCGA\n",
      "(193, 13)\n"
     ]
    }
   ],
   "source": [
    "out_saved = []\n",
    "for output_f in out_list[3:4]:\n",
    "    print(output_f)\n",
    "\n",
    "    with open(output_f, 'r') as fp: \n",
    "        file_13 = []\n",
    "        file_14 = []\n",
    "        file_12 = []\n",
    "\n",
    "        for line in fp.readlines():\n",
    "            line = line.split('\\n')[0]\n",
    "            if 'sample' in line:\n",
    "                columns = line.split('\\t')\n",
    "            elif len(line.split('\\t')) == 14:\n",
    "                file_14.append(line.split('\\t'))\n",
    "            elif len(line.split('\\t')) == 13:\n",
    "                file_13.append(line.split('\\t'))\n",
    "            elif len(line.split('\\t')) == 12:\n",
    "                file_12.append(line.split('\\t'))\n",
    "    file_12 = pd.DataFrame(file_12)\n",
    "    file_13 = pd.DataFrame(file_13)\n",
    "    file_14 = pd.DataFrame(file_14)\n",
    "    print(file_13.shape, file_14.shape, file_12.shape)\n",
    "\n",
    "    # 1 Correct the missing columns \n",
    "    mycols_12 = [name for name in columns if name != 'Init_cancer']\n",
    "    mycols_13 = columns \n",
    "    mycols_14 = columns + ['duplicate']\n",
    "\n",
    "    if file_12.shape[0] > 0 : \n",
    "        file_12.columns = mycols_12\n",
    "    if file_13.shape[0] > 0 : \n",
    "        file_13.columns = mycols_13\n",
    "    if file_14.shape[0] > 0 : \n",
    "        file_14.columns = mycols_14\n",
    "\n",
    "    # display(file_12.head())\n",
    "    # display(file_13.head())\n",
    "    # display(file_14.head())\n",
    "    if file_13.shape[0] > 0 : \n",
    "        file_13['Init_cancer'] = file_13['Filter_Sample']\n",
    "    if file_14.shape[0] > 0 : \n",
    "        file_14 = file_14.drop(['duplicate'], axis=1)\n",
    "    df = pd.concat([file_13, file_12])\n",
    "    print('not TCGA')\n",
    "    print(df.shape)\n",
    "\n",
    "\n",
    "    # 2. Suppress normals >0 for n >=1 samples\n",
    "    df.loc[(df['reads_per_normal_sample'] == '0.0'), '#_normal_samples_allowed'] = '1'\n",
    "    \n",
    "    # 3. Remove duplicates \n",
    "    print('now unique')\n",
    "    df = df.drop_duplicates(keep = 'last')\n",
    "    print(df.shape)\n",
    "    \n",
    "    \n",
    "    # 3. HACK, DO RERUNS!!!!!\n",
    "    print('now hack')\n",
    "    index_keep = df.loc[:, ['sample','mutation_mode','min_sample_reads','#_of_cohort_samples','reads_per_cohort_sample',\n",
    "       '#_normal_samples_allowed','normal_cohort_id','reads_per_normal_sample']].drop_duplicates().index\n",
    "    df = df.loc[index_keep]\n",
    "    print(df.shape)\n",
    "\n",
    "    # 4 join with batches\n",
    "    print('with TCGA')\n",
    "    df = pd.concat([file_14, df])\n",
    "    print(df.shape)\n",
    "\n",
    "    save_path = '.'.join(output_f.split('.')[:-1]) + '_cleaned20211129.tsv'\n",
    "    out_saved.append(save_path)\n",
    "    df.to_csv(save_path, index = None)"
   ]
  },
  {
   "cell_type": "code",
   "execution_count": 226,
   "metadata": {
    "ExecuteTime": {
     "end_time": "2021-11-29T18:06:33.332171Z",
     "start_time": "2021-11-29T18:06:33.326696Z"
    }
   },
   "outputs": [
    {
     "data": {
      "text/plain": [
       "['/cluster/work/grlab/projects/projects2020_OHSU/peptides_generation/v2_v2.5f0752a_conf2_annotFrame_cap0_runs_pya0.17.1/TCGA_Breast_1102/filter_TCGA-C8-A12P-01A-11R-A115-07.all/G_filtered_df_TCGA-C8-A12P-01A-11R-A115-07_samp_chrt_norm_mot_unip_cleaned20211129.tsv',\n",
       " '/cluster/work/grlab/projects/projects2020_OHSU/peptides_generation/v2_v2.5f0752a_conf2_annotFrame_cap0_runs_pya0.17.1/TCGA_Breast_1102/filter_TCGA-A2-A0SX-01A-12R-A084-07.all/G_filtered_df_TCGA-A2-A0SX-01A-12R-A084-07_samp_chrt_norm_mot_unip_cleaned20211129.tsv',\n",
       " '/cluster/work/grlab/projects/projects2020_OHSU/peptides_generation/v2_v2.5f0752a_conf2_annotFrame_cap0_runs_pya0.17.1/TCGA_Breast_1102/filter_TCGA-AO-A0JM-01A-21R-A056-07.all/G_filtered_df_TCGA-AO-A0JM-01A-21R-A056-07_samp_chrt_norm_mot_unip_cleaned20211129.tsv',\n",
       " '/cluster/work/grlab/projects/projects2020_OHSU/peptides_generation/v2_v2.5f0752a_conf2_annotFrame_cap0_runs_pya0.17.1/TCGA_Breast_1102/filter_TCGA-A2-A0D2-01A-21R-A034-07.all/G_filtered_df_TCGA-A2-A0D2-01A-21R-A034-07_samp_chrt_norm_mot_unip_cleaned20211129.tsv',\n",
       " '/cluster/work/grlab/projects/projects2020_OHSU/peptides_generation/v2_v2.5f0752a_conf2_annotFrame_cap0_runs_pya0.17.1/TCGA_Breast_1102/filter_TCGA-BH-A18V-01A-11R-A12D-07.all/G_filtered_df_TCGA-BH-A18V-01A-11R-A12D-07_samp_chrt_norm_mot_unip_cleaned20211129.tsv']"
      ]
     },
     "execution_count": 226,
     "metadata": {},
     "output_type": "execute_result"
    }
   ],
   "source": [
    "out_saved"
   ]
  },
  {
   "cell_type": "code",
   "execution_count": 228,
   "metadata": {
    "ExecuteTime": {
     "end_time": "2021-11-29T18:11:06.550233Z",
     "start_time": "2021-11-29T18:11:06.446395Z"
    }
   },
   "outputs": [
    {
     "data": {
      "text/html": [
       "<div>\n",
       "<style scoped>\n",
       "    .dataframe tbody tr th:only-of-type {\n",
       "        vertical-align: middle;\n",
       "    }\n",
       "\n",
       "    .dataframe tbody tr th {\n",
       "        vertical-align: top;\n",
       "    }\n",
       "\n",
       "    .dataframe thead th {\n",
       "        text-align: right;\n",
       "    }\n",
       "</style>\n",
       "<table border=\"1\" class=\"dataframe\">\n",
       "  <thead>\n",
       "    <tr style=\"text-align: right;\">\n",
       "      <th></th>\n",
       "      <th>sample</th>\n",
       "      <th>mutation_mode</th>\n",
       "      <th>min_sample_reads</th>\n",
       "      <th>#_of_cohort_samples</th>\n",
       "      <th>reads_per_cohort_sample</th>\n",
       "      <th>#_normal_samples_allowed</th>\n",
       "      <th>normal_cohort_id</th>\n",
       "      <th>reads_per_normal_sample</th>\n",
       "      <th>Init_cancer</th>\n",
       "      <th>Filter_Sample</th>\n",
       "      <th>Filter_Sample_Cohort</th>\n",
       "      <th>Filter_Sample_Cohort_CohortNormal</th>\n",
       "      <th>Filter_Sample_Cohort_CohortNormal_Uniprot</th>\n",
       "    </tr>\n",
       "  </thead>\n",
       "  <tbody>\n",
       "    <tr>\n",
       "      <th>0</th>\n",
       "      <td>TCGA-A2-A0D2-01A-21R-A034-07.all</td>\n",
       "      <td>ref</td>\n",
       "      <td>0.0</td>\n",
       "      <td>1</td>\n",
       "      <td>1.0</td>\n",
       "      <td>1</td>\n",
       "      <td>GTEXcore</td>\n",
       "      <td>0.0</td>\n",
       "      <td>1708726</td>\n",
       "      <td>1708726</td>\n",
       "      <td>1708511</td>\n",
       "      <td>135558</td>\n",
       "      <td>135384</td>\n",
       "    </tr>\n",
       "    <tr>\n",
       "      <th>1</th>\n",
       "      <td>TCGA-A2-A0D2-01A-21R-A034-07.all</td>\n",
       "      <td>ref</td>\n",
       "      <td>2.0</td>\n",
       "      <td>2</td>\n",
       "      <td>1.0</td>\n",
       "      <td>1</td>\n",
       "      <td>GTEXcore</td>\n",
       "      <td>0.0</td>\n",
       "      <td>1504678</td>\n",
       "      <td>1504678</td>\n",
       "      <td>1504288</td>\n",
       "      <td>107316</td>\n",
       "      <td>107193</td>\n",
       "    </tr>\n",
       "    <tr>\n",
       "      <th>2</th>\n",
       "      <td>TCGA-A2-A0D2-01A-21R-A034-07.all</td>\n",
       "      <td>ref</td>\n",
       "      <td>0.0</td>\n",
       "      <td>2</td>\n",
       "      <td>1.0</td>\n",
       "      <td>1</td>\n",
       "      <td>GTEXcore</td>\n",
       "      <td>0.0</td>\n",
       "      <td>1708726</td>\n",
       "      <td>1708726</td>\n",
       "      <td>1708057</td>\n",
       "      <td>135373</td>\n",
       "      <td>135199</td>\n",
       "    </tr>\n",
       "    <tr>\n",
       "      <th>4</th>\n",
       "      <td>TCGA-A2-A0D2-01A-21R-A034-07.all</td>\n",
       "      <td>ref</td>\n",
       "      <td>2.0</td>\n",
       "      <td>10</td>\n",
       "      <td>1.0</td>\n",
       "      <td>1</td>\n",
       "      <td>GTEXcore</td>\n",
       "      <td>0.0</td>\n",
       "      <td>1504678</td>\n",
       "      <td>1504678</td>\n",
       "      <td>1502178</td>\n",
       "      <td>106760</td>\n",
       "      <td>106637</td>\n",
       "    </tr>\n",
       "    <tr>\n",
       "      <th>5</th>\n",
       "      <td>TCGA-A2-A0D2-01A-21R-A034-07.all</td>\n",
       "      <td>ref</td>\n",
       "      <td>0.0</td>\n",
       "      <td>10</td>\n",
       "      <td>1.0</td>\n",
       "      <td>1</td>\n",
       "      <td>GTEXcore</td>\n",
       "      <td>0.0</td>\n",
       "      <td>1708726</td>\n",
       "      <td>1708726</td>\n",
       "      <td>1701716</td>\n",
       "      <td>133659</td>\n",
       "      <td>133489</td>\n",
       "    </tr>\n",
       "    <tr>\n",
       "      <th>...</th>\n",
       "      <td>...</td>\n",
       "      <td>...</td>\n",
       "      <td>...</td>\n",
       "      <td>...</td>\n",
       "      <td>...</td>\n",
       "      <td>...</td>\n",
       "      <td>...</td>\n",
       "      <td>...</td>\n",
       "      <td>...</td>\n",
       "      <td>...</td>\n",
       "      <td>...</td>\n",
       "      <td>...</td>\n",
       "      <td>...</td>\n",
       "    </tr>\n",
       "    <tr>\n",
       "      <th>321</th>\n",
       "      <td>TCGA-A2-A0D2-01A-21R-A034-07.all</td>\n",
       "      <td>ref</td>\n",
       "      <td>0.0</td>\n",
       "      <td>10</td>\n",
       "      <td>5.0</td>\n",
       "      <td>2</td>\n",
       "      <td>matchedNormals</td>\n",
       "      <td>10.0</td>\n",
       "      <td>1708726</td>\n",
       "      <td>1708726</td>\n",
       "      <td>1632061</td>\n",
       "      <td>61298</td>\n",
       "      <td>61190</td>\n",
       "    </tr>\n",
       "    <tr>\n",
       "      <th>322</th>\n",
       "      <td>TCGA-A2-A0D2-01A-21R-A034-07.all</td>\n",
       "      <td>ref</td>\n",
       "      <td>0.0</td>\n",
       "      <td>10</td>\n",
       "      <td>5.0</td>\n",
       "      <td>1</td>\n",
       "      <td>matchedNormals</td>\n",
       "      <td>0.0</td>\n",
       "      <td>1708726</td>\n",
       "      <td>1708726</td>\n",
       "      <td>1632061</td>\n",
       "      <td>21550</td>\n",
       "      <td>21529</td>\n",
       "    </tr>\n",
       "    <tr>\n",
       "      <th>323</th>\n",
       "      <td>TCGA-A2-A0D2-01A-21R-A034-07.all</td>\n",
       "      <td>ref</td>\n",
       "      <td>0.0</td>\n",
       "      <td>10</td>\n",
       "      <td>5.0</td>\n",
       "      <td>2</td>\n",
       "      <td>matchedNormals</td>\n",
       "      <td>3.0</td>\n",
       "      <td>1708726</td>\n",
       "      <td>1708726</td>\n",
       "      <td>1632061</td>\n",
       "      <td>24484</td>\n",
       "      <td>24457</td>\n",
       "    </tr>\n",
       "    <tr>\n",
       "      <th>324</th>\n",
       "      <td>TCGA-A2-A0D2-01A-21R-A034-07.all</td>\n",
       "      <td>ref</td>\n",
       "      <td>0.0</td>\n",
       "      <td>10</td>\n",
       "      <td>5.0</td>\n",
       "      <td>10</td>\n",
       "      <td>matchedNormals</td>\n",
       "      <td>10.0</td>\n",
       "      <td>1708726</td>\n",
       "      <td>1708726</td>\n",
       "      <td>1632061</td>\n",
       "      <td>116248</td>\n",
       "      <td>116043</td>\n",
       "    </tr>\n",
       "    <tr>\n",
       "      <th>325</th>\n",
       "      <td>TCGA-A2-A0D2-01A-21R-A034-07.all</td>\n",
       "      <td>ref</td>\n",
       "      <td>0.0</td>\n",
       "      <td>10</td>\n",
       "      <td>5.0</td>\n",
       "      <td>10</td>\n",
       "      <td>matchedNormals</td>\n",
       "      <td>3.0</td>\n",
       "      <td>1708726</td>\n",
       "      <td>1708726</td>\n",
       "      <td>1632061</td>\n",
       "      <td>38945</td>\n",
       "      <td>38883</td>\n",
       "    </tr>\n",
       "  </tbody>\n",
       "</table>\n",
       "<p>193 rows × 13 columns</p>\n",
       "</div>"
      ],
      "text/plain": [
       "                               sample mutation_mode min_sample_reads  \\\n",
       "0    TCGA-A2-A0D2-01A-21R-A034-07.all           ref              0.0   \n",
       "1    TCGA-A2-A0D2-01A-21R-A034-07.all           ref              2.0   \n",
       "2    TCGA-A2-A0D2-01A-21R-A034-07.all           ref              0.0   \n",
       "4    TCGA-A2-A0D2-01A-21R-A034-07.all           ref              2.0   \n",
       "5    TCGA-A2-A0D2-01A-21R-A034-07.all           ref              0.0   \n",
       "..                                ...           ...              ...   \n",
       "321  TCGA-A2-A0D2-01A-21R-A034-07.all           ref              0.0   \n",
       "322  TCGA-A2-A0D2-01A-21R-A034-07.all           ref              0.0   \n",
       "323  TCGA-A2-A0D2-01A-21R-A034-07.all           ref              0.0   \n",
       "324  TCGA-A2-A0D2-01A-21R-A034-07.all           ref              0.0   \n",
       "325  TCGA-A2-A0D2-01A-21R-A034-07.all           ref              0.0   \n",
       "\n",
       "    #_of_cohort_samples reads_per_cohort_sample #_normal_samples_allowed  \\\n",
       "0                     1                     1.0                        1   \n",
       "1                     2                     1.0                        1   \n",
       "2                     2                     1.0                        1   \n",
       "4                    10                     1.0                        1   \n",
       "5                    10                     1.0                        1   \n",
       "..                  ...                     ...                      ...   \n",
       "321                  10                     5.0                        2   \n",
       "322                  10                     5.0                        1   \n",
       "323                  10                     5.0                        2   \n",
       "324                  10                     5.0                       10   \n",
       "325                  10                     5.0                       10   \n",
       "\n",
       "    normal_cohort_id reads_per_normal_sample Init_cancer Filter_Sample  \\\n",
       "0           GTEXcore                     0.0     1708726       1708726   \n",
       "1           GTEXcore                     0.0     1504678       1504678   \n",
       "2           GTEXcore                     0.0     1708726       1708726   \n",
       "4           GTEXcore                     0.0     1504678       1504678   \n",
       "5           GTEXcore                     0.0     1708726       1708726   \n",
       "..               ...                     ...         ...           ...   \n",
       "321   matchedNormals                    10.0     1708726       1708726   \n",
       "322   matchedNormals                     0.0     1708726       1708726   \n",
       "323   matchedNormals                     3.0     1708726       1708726   \n",
       "324   matchedNormals                    10.0     1708726       1708726   \n",
       "325   matchedNormals                     3.0     1708726       1708726   \n",
       "\n",
       "    Filter_Sample_Cohort Filter_Sample_Cohort_CohortNormal  \\\n",
       "0                1708511                            135558   \n",
       "1                1504288                            107316   \n",
       "2                1708057                            135373   \n",
       "4                1502178                            106760   \n",
       "5                1701716                            133659   \n",
       "..                   ...                               ...   \n",
       "321              1632061                             61298   \n",
       "322              1632061                             21550   \n",
       "323              1632061                             24484   \n",
       "324              1632061                            116248   \n",
       "325              1632061                             38945   \n",
       "\n",
       "    Filter_Sample_Cohort_CohortNormal_Uniprot  \n",
       "0                                      135384  \n",
       "1                                      107193  \n",
       "2                                      135199  \n",
       "4                                      106637  \n",
       "5                                      133489  \n",
       "..                                        ...  \n",
       "321                                     61190  \n",
       "322                                     21529  \n",
       "323                                     24457  \n",
       "324                                    116043  \n",
       "325                                     38883  \n",
       "\n",
       "[193 rows x 13 columns]"
      ]
     },
     "execution_count": 228,
     "metadata": {},
     "output_type": "execute_result"
    }
   ],
   "source": [
    "df"
   ]
  },
  {
   "cell_type": "code",
   "execution_count": 163,
   "metadata": {
    "ExecuteTime": {
     "end_time": "2021-11-29T17:32:34.534025Z",
     "start_time": "2021-11-29T17:32:34.531332Z"
    }
   },
   "outputs": [],
   "source": [
    "# # Read and reformat table \n",
    "\n",
    "\n",
    "\n",
    "# read_tables = {}\n",
    "\n",
    "# for filename in out_list:\n",
    "#     if '12f' in filename:\n",
    "#         read_tables[filename] = pd.read_csv(filename, sep = '\\t', header = None)\n",
    "#     else:\n",
    "#         read_tables[filename] = pd.read_csv(filename, sep = '\\t')\n",
    "#     if 'sample' in read_tables[filename].columns:\n",
    "#         mycols = read_tables[filename].columns\n",
    "        \n",
    "# # 1. Correct tht missing column in 12f files \n",
    "\n",
    "\n",
    "# for filename in out_list:\n",
    "#     if '12f' in filename:\n",
    "#         read_tables[filename].columns = mycols_12\n",
    "#         read_tables[filename]['Init_cancer'] = read_tables[filename]['Filter_Sample']\n",
    "# # 2. Remove duplicates \n",
    "# for filename in out_list:\n",
    "#     read_tables[filename] = read_tables[filename].drop_duplicates()\n",
    "\n",
    "# # 3. Suppress normals >0 for n >=1 samples\n"
   ]
  },
  {
   "cell_type": "code",
   "execution_count": null,
   "metadata": {},
   "outputs": [],
   "source": []
  }
 ],
 "metadata": {
  "kernelspec": {
   "display_name": "myimmuno3_light",
   "language": "python",
   "name": "myimmuno3_light"
  },
  "language_info": {
   "codemirror_mode": {
    "name": "ipython",
    "version": 3
   },
   "file_extension": ".py",
   "mimetype": "text/x-python",
   "name": "python",
   "nbconvert_exporter": "python",
   "pygments_lexer": "ipython3",
   "version": "3.8.5"
  }
 },
 "nbformat": 4,
 "nbformat_minor": 4
}
