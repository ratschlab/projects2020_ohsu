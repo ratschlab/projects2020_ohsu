{
 "cells": [
  {
   "cell_type": "code",
   "execution_count": 1,
   "id": "c7cd1564",
   "metadata": {},
   "outputs": [
    {
     "data": {
      "text/plain": [
       "'\\nFiltering ETH (new files)\\nOvarian\\n/cluster/work/grlab/projects/projects2020_OHSU/peptides_generation/CANCER_eth/commit_c4dd02c_conf2_Frame_cap0_runs/TCGA_Ovarian_374/filtering_samples/filters_19May_order_5ge_wAnnot_STAR\\n\\nFiltering OHSU. the kmer output files are tarred here\\nBreast/Ovarian\\n/cluster/work/grlab/projects/projects2020_OHSU/share_OHUS_PNLL/OHSU_June2023_filter-debug_all_output.tar.gz\\n'"
      ]
     },
     "execution_count": 1,
     "metadata": {},
     "output_type": "execute_result"
    }
   ],
   "source": [
    "'''\n",
    "Filtering ETH (new files)\n",
    "Ovarian\n",
    "/cluster/work/grlab/projects/projects2020_OHSU/peptides_generation/CANCER_eth/commit_c4dd02c_conf2_Frame_cap0_runs/TCGA_Ovarian_374/filtering_samples/filters_19May_order_5ge_wAnnot_STAR\n",
    "\n",
    "Filtering OHSU. the kmer output files are tarred here\n",
    "Breast/Ovarian\n",
    "/cluster/work/grlab/projects/projects2020_OHSU/share_OHUS_PNLL/OHSU_June2023_filter-debug_all_output.tar.gz\n",
    "'''"
   ]
  },
  {
   "cell_type": "code",
   "execution_count": 2,
   "id": "9a9429e9",
   "metadata": {},
   "outputs": [],
   "source": [
    "# %load /cluster/home/myurchikova/github/projects2020_ohsu/eth/learning_Master_thesis/TASKS/func/base_imports.py\n",
    "import pandas as pd\n",
    "import numpy as np\n",
    "import tqdm \n",
    "import glob\n",
    "import os\n",
    "import matplotlib\n",
    "import matplotlib.pyplot as plt\n",
    "import seaborn as sns\n",
    "import tarfile\n",
    "import re\n",
    "from matplotlib_venn import venn2, venn2_circles, venn2_unweighted\n",
    "from matplotlib_venn import venn3, venn3_circles\n",
    "import sys\n",
    "sys.path.append(r\"/cluster/home/myurchikova/github/projects2020_ohsu/eth/learning_Master_thesis/TASKS/func\")\n",
    "from config import *\n",
    "from functions import *\n",
    "\n",
    "\n"
   ]
  },
  {
   "cell_type": "code",
   "execution_count": 3,
   "id": "adfd422c",
   "metadata": {},
   "outputs": [],
   "source": [
    "TEXT_SIZE = 65"
   ]
  },
  {
   "cell_type": "code",
   "execution_count": 4,
   "id": "520c5e07",
   "metadata": {},
   "outputs": [
    {
     "name": "stderr",
     "output_type": "stream",
     "text": [
      "56807it [00:08, 6793.87it/s]\n"
     ]
    },
    {
     "name": "stdout",
     "output_type": "stream",
     "text": [
      "TCGA25131901A01R156513 ['J', 'TCGA-25-1319-01A-01R-1565-13', '0A501GA']\n",
      "['0', 'Any', '5', '0', '1']\n",
      "None\n"
     ]
    },
    {
     "name": "stderr",
     "output_type": "stream",
     "text": [
      "106206it [00:15, 6903.75it/s]\n"
     ]
    },
    {
     "name": "stdout",
     "output_type": "stream",
     "text": [
      "TCGA25131901A01R156513 ['J', 'TCGA-25-1319-01A-01R-1565-13', '0A13XGA']\n",
      "['0', 'Any', '1', '3', '10']\n",
      "1\n"
     ]
    },
    {
     "name": "stderr",
     "output_type": "stream",
     "text": [
      "73042it [00:10, 6880.24it/s]\n"
     ]
    },
    {
     "name": "stdout",
     "output_type": "stream",
     "text": [
      "TCGA25131901A01R156513 ['J', 'TCGA-25-1319-01A-01R-1565-13', '0AN1XGA']\n",
      "['0', 'Any', 'None', '1', '10']\n",
      "1\n"
     ]
    },
    {
     "name": "stderr",
     "output_type": "stream",
     "text": [
      "88048it [00:12, 6918.64it/s]\n"
     ]
    },
    {
     "name": "stdout",
     "output_type": "stream",
     "text": [
      "TCGA25131901A01R156513 ['J', 'TCGA-25-1319-01A-01R-1565-13', '0AN32GA']\n",
      "['0', 'Any', 'None', '3', '2']\n",
      "2\n"
     ]
    },
    {
     "name": "stderr",
     "output_type": "stream",
     "text": [
      "47656it [00:07, 6772.77it/s]\n"
     ]
    },
    {
     "name": "stdout",
     "output_type": "stream",
     "text": [
      "TCGA25131901A01R156513 ['J', 'TCGA-25-1319-01A-01R-1565-13', '0253AGA']\n",
      "['0', '2', '5', '3', 'Any']\n",
      "0\n"
     ]
    },
    {
     "name": "stderr",
     "output_type": "stream",
     "text": [
      "58810it [00:08, 6799.65it/s]\n"
     ]
    },
    {
     "name": "stdout",
     "output_type": "stream",
     "text": [
      "TCGA25131901A01R156513 ['J', 'TCGA-25-1319-01A-01R-1565-13', '0A51AGA']\n",
      "['0', 'Any', '5', '1', 'Any']\n",
      "0\n"
     ]
    },
    {
     "name": "stderr",
     "output_type": "stream",
     "text": [
      "54874it [00:08, 6830.13it/s]\n"
     ]
    },
    {
     "name": "stdout",
     "output_type": "stream",
     "text": [
      "TCGA25131901A01R156513 ['J', 'TCGA-25-1319-01A-01R-1565-13', '02101GA']\n",
      "['0', '2', '1', '0', '1']\n",
      "None\n"
     ]
    },
    {
     "name": "stderr",
     "output_type": "stream",
     "text": [
      "27839it [00:04, 6837.33it/s]\n"
     ]
    },
    {
     "name": "stdout",
     "output_type": "stream",
     "text": [
      "TCGA25131901A01R156513 ['J', 'TCGA-25-1319-01A-01R-1565-13', '02501GA']\n",
      "['0', '2', '5', '0', '1']\n",
      "None\n"
     ]
    },
    {
     "name": "stderr",
     "output_type": "stream",
     "text": [
      "28765it [00:04, 6657.39it/s]\n"
     ]
    },
    {
     "name": "stdout",
     "output_type": "stream",
     "text": [
      "TCGA25131901A01R156513 ['J', 'TCGA-25-1319-01A-01R-1565-13', '0251XGA']\n",
      "['0', '2', '5', '1', '10']\n",
      "1\n"
     ]
    },
    {
     "name": "stderr",
     "output_type": "stream",
     "text": [
      "72916it [00:10, 6844.00it/s]\n"
     ]
    },
    {
     "name": "stdout",
     "output_type": "stream",
     "text": [
      "TCGA25131901A01R156513 ['J', 'TCGA-25-1319-01A-01R-1565-13', '0AN12GA']\n",
      "['0', 'Any', 'None', '1', '2']\n",
      "2\n"
     ]
    },
    {
     "name": "stderr",
     "output_type": "stream",
     "text": [
      "85136it [00:12, 6659.07it/s]\n"
     ]
    },
    {
     "name": "stdout",
     "output_type": "stream",
     "text": [
      "TCGA25131901A01R156513 ['J', 'TCGA-25-1319-01A-01R-1565-13', '0A132GA']\n",
      "['0', 'Any', '1', '3', '2']\n",
      "2\n"
     ]
    },
    {
     "name": "stderr",
     "output_type": "stream",
     "text": [
      "92397it [00:13, 6747.32it/s]\n"
     ]
    },
    {
     "name": "stdout",
     "output_type": "stream",
     "text": [
      "TCGA25131901A01R156513 ['J', 'TCGA-25-1319-01A-01R-1565-13', '0A53XGA']\n",
      "['0', 'Any', '5', '3', '10']\n",
      "1\n"
     ]
    },
    {
     "name": "stderr",
     "output_type": "stream",
     "text": [
      "70340it [00:10, 6863.13it/s]\n"
     ]
    },
    {
     "name": "stdout",
     "output_type": "stream",
     "text": [
      "TCGA25131901A01R156513 ['J', 'TCGA-25-1319-01A-01R-1565-13', '0A11AGA']\n",
      "['0', 'Any', '1', '1', 'Any']\n",
      "0\n"
     ]
    },
    {
     "name": "stderr",
     "output_type": "stream",
     "text": [
      "109314it [00:16, 6831.91it/s]\n"
     ]
    },
    {
     "name": "stdout",
     "output_type": "stream",
     "text": [
      "TCGA25131901A01R156513 ['J', 'TCGA-25-1319-01A-01R-1565-13', '0AN3XGA']\n",
      "['0', 'Any', 'None', '3', '10']\n",
      "1\n"
     ]
    },
    {
     "name": "stderr",
     "output_type": "stream",
     "text": [
      "28765it [00:04, 6883.87it/s]\n"
     ]
    },
    {
     "name": "stdout",
     "output_type": "stream",
     "text": [
      "TCGA25131901A01R156513 ['J', 'TCGA-25-1319-01A-01R-1565-13', '0251AGA']\n",
      "['0', '2', '5', '1', 'Any']\n",
      "0\n"
     ]
    },
    {
     "name": "stderr",
     "output_type": "stream",
     "text": [
      "35176it [00:05, 6837.84it/s]\n"
     ]
    },
    {
     "name": "stdout",
     "output_type": "stream",
     "text": [
      "TCGA25131901A01R156513 ['J', 'TCGA-25-1319-01A-01R-1565-13', '02532GA']\n",
      "['0', '2', '5', '3', '2']\n",
      "2\n"
     ]
    },
    {
     "name": "stderr",
     "output_type": "stream",
     "text": [
      "109444it [00:16, 6810.58it/s]\n"
     ]
    },
    {
     "name": "stdout",
     "output_type": "stream",
     "text": [
      "TCGA25131901A01R156513 ['J', 'TCGA-25-1319-01A-01R-1565-13', '0A13AGA']\n",
      "['0', 'Any', '1', '3', 'Any']\n",
      "0\n"
     ]
    },
    {
     "name": "stderr",
     "output_type": "stream",
     "text": [
      "86917it [00:12, 6815.92it/s]\n"
     ]
    },
    {
     "name": "stdout",
     "output_type": "stream",
     "text": [
      "TCGA25131901A01R156513 ['J', 'TCGA-25-1319-01A-01R-1565-13', '0213XGA']\n",
      "['0', '2', '1', '3', '10']\n",
      "1\n"
     ]
    },
    {
     "name": "stderr",
     "output_type": "stream",
     "text": [
      "45856it [00:06, 6578.81it/s]\n"
     ]
    },
    {
     "name": "stdout",
     "output_type": "stream",
     "text": [
      "TCGA25131901A01R156513 ['J', 'TCGA-25-1319-01A-01R-1565-13', '0253XGA']\n",
      "['0', '2', '5', '3', '10']\n",
      "1\n"
     ]
    },
    {
     "name": "stderr",
     "output_type": "stream",
     "text": [
      "56681it [00:08, 6577.02it/s]\n"
     ]
    },
    {
     "name": "stdout",
     "output_type": "stream",
     "text": [
      "TCGA25131901A01R156513 ['J', 'TCGA-25-1319-01A-01R-1565-13', '0211XGA']\n",
      "['0', '2', '1', '1', '10']\n",
      "1\n"
     ]
    },
    {
     "name": "stderr",
     "output_type": "stream",
     "text": [
      "70214it [00:10, 6652.17it/s]\n"
     ]
    },
    {
     "name": "stdout",
     "output_type": "stream",
     "text": [
      "TCGA25131901A01R156513 ['J', 'TCGA-25-1319-01A-01R-1565-13', '0A112GA']\n",
      "['0', 'Any', '1', '1', '2']\n",
      "2\n"
     ]
    },
    {
     "name": "stderr",
     "output_type": "stream",
     "text": [
      "95310it [00:14, 6776.13it/s]\n"
     ]
    },
    {
     "name": "stdout",
     "output_type": "stream",
     "text": [
      "TCGA25131901A01R156513 ['J', 'TCGA-25-1319-01A-01R-1565-13', '0A53AGA']\n",
      "['0', 'Any', '5', '3', 'Any']\n",
      "0\n"
     ]
    },
    {
     "name": "stderr",
     "output_type": "stream",
     "text": [
      "68867it [00:10, 6637.43it/s]\n"
     ]
    },
    {
     "name": "stdout",
     "output_type": "stream",
     "text": [
      "TCGA25131901A01R156513 ['J', 'TCGA-25-1319-01A-01R-1565-13', '02132GA']\n",
      "['0', '2', '1', '3', '2']\n",
      "2\n"
     ]
    },
    {
     "name": "stderr",
     "output_type": "stream",
     "text": [
      "68164it [00:10, 6754.10it/s]\n"
     ]
    },
    {
     "name": "stdout",
     "output_type": "stream",
     "text": [
      "TCGA25131901A01R156513 ['J', 'TCGA-25-1319-01A-01R-1565-13', '0A101GA']\n",
      "['0', 'Any', '1', '0', '1']\n",
      "None\n"
     ]
    },
    {
     "name": "stderr",
     "output_type": "stream",
     "text": [
      "73042it [00:10, 6920.53it/s]\n"
     ]
    },
    {
     "name": "stdout",
     "output_type": "stream",
     "text": [
      "TCGA25131901A01R156513 ['J', 'TCGA-25-1319-01A-01R-1565-13', '0AN1AGA']\n",
      "['0', 'Any', 'None', '1', 'Any']\n",
      "0\n"
     ]
    },
    {
     "name": "stderr",
     "output_type": "stream",
     "text": [
      "70859it [00:10, 6840.58it/s]\n"
     ]
    },
    {
     "name": "stdout",
     "output_type": "stream",
     "text": [
      "TCGA25131901A01R156513 ['J', 'TCGA-25-1319-01A-01R-1565-13', '0AN01GA']\n",
      "['0', 'Any', 'None', '0', '1']\n",
      "None\n"
     ]
    },
    {
     "name": "stderr",
     "output_type": "stream",
     "text": [
      "112573it [00:16, 6859.15it/s]\n"
     ]
    },
    {
     "name": "stdout",
     "output_type": "stream",
     "text": [
      "TCGA25131901A01R156513 ['J', 'TCGA-25-1319-01A-01R-1565-13', '0AN3AGA']\n",
      "['0', 'Any', 'None', '3', 'Any']\n",
      "0\n"
     ]
    },
    {
     "name": "stderr",
     "output_type": "stream",
     "text": [
      "58691it [00:08, 6766.46it/s]\n"
     ]
    },
    {
     "name": "stdout",
     "output_type": "stream",
     "text": [
      "TCGA25131901A01R156513 ['J', 'TCGA-25-1319-01A-01R-1565-13', '0A512GA']\n",
      "['0', 'Any', '5', '1', '2']\n",
      "2\n"
     ]
    },
    {
     "name": "stderr",
     "output_type": "stream",
     "text": [
      "56681it [00:08, 6696.93it/s]\n"
     ]
    },
    {
     "name": "stdout",
     "output_type": "stream",
     "text": [
      "TCGA25131901A01R156513 ['J', 'TCGA-25-1319-01A-01R-1565-13', '0211AGA']\n",
      "['0', '2', '1', '1', 'Any']\n",
      "0\n"
     ]
    },
    {
     "name": "stderr",
     "output_type": "stream",
     "text": [
      "56580it [00:08, 6837.31it/s]\n"
     ]
    },
    {
     "name": "stdout",
     "output_type": "stream",
     "text": [
      "TCGA25131901A01R156513 ['J', 'TCGA-25-1319-01A-01R-1565-13', '02112GA']\n",
      "['0', '2', '1', '1', '2']\n",
      "2\n"
     ]
    },
    {
     "name": "stderr",
     "output_type": "stream",
     "text": [
      "28717it [00:04, 6547.17it/s]\n"
     ]
    },
    {
     "name": "stdout",
     "output_type": "stream",
     "text": [
      "TCGA25131901A01R156513 ['J', 'TCGA-25-1319-01A-01R-1565-13', '02512GA']\n",
      "['0', '2', '5', '1', '2']\n",
      "2\n"
     ]
    },
    {
     "name": "stderr",
     "output_type": "stream",
     "text": [
      "58810it [00:09, 6326.88it/s]\n"
     ]
    },
    {
     "name": "stdout",
     "output_type": "stream",
     "text": [
      "TCGA25131901A01R156513 ['J', 'TCGA-25-1319-01A-01R-1565-13', '0A51XGA']\n",
      "['0', 'Any', '5', '1', '10']\n",
      "1\n"
     ]
    },
    {
     "name": "stderr",
     "output_type": "stream",
     "text": [
      "89689it [00:13, 6636.97it/s]\n"
     ]
    },
    {
     "name": "stdout",
     "output_type": "stream",
     "text": [
      "TCGA25131901A01R156513 ['J', 'TCGA-25-1319-01A-01R-1565-13', '0213AGA']\n",
      "['0', '2', '1', '3', 'Any']\n",
      "0\n"
     ]
    },
    {
     "name": "stderr",
     "output_type": "stream",
     "text": [
      "72436it [00:11, 6473.95it/s]\n"
     ]
    },
    {
     "name": "stdout",
     "output_type": "stream",
     "text": [
      "TCGA25131901A01R156513 ['J', 'TCGA-25-1319-01A-01R-1565-13', '0A532GA']\n",
      "['0', 'Any', '5', '3', '2']\n",
      "2\n"
     ]
    },
    {
     "name": "stderr",
     "output_type": "stream",
     "text": [
      "70340it [00:10, 6751.73it/s]\n"
     ]
    },
    {
     "name": "stdout",
     "output_type": "stream",
     "text": [
      "TCGA25131901A01R156513 ['J', 'TCGA-25-1319-01A-01R-1565-13', '0A11XGA']\n",
      "['0', 'Any', '1', '1', '10']\n",
      "1\n"
     ]
    },
    {
     "name": "stderr",
     "output_type": "stream",
     "text": [
      "42233it [00:06, 6569.44it/s]\n"
     ]
    },
    {
     "name": "stdout",
     "output_type": "stream",
     "text": [
      "TCGA25131301A01R156513 ['J', 'TCGA-25-1313-01A-01R-1565-13', '0AN1XGA']\n",
      "['0', 'Any', 'None', '1', '10']\n",
      "1\n"
     ]
    },
    {
     "name": "stderr",
     "output_type": "stream",
     "text": [
      "42233it [00:06, 6590.14it/s]\n"
     ]
    },
    {
     "name": "stdout",
     "output_type": "stream",
     "text": [
      "TCGA25131301A01R156513 ['J', 'TCGA-25-1313-01A-01R-1565-13', '0AN1AGA']\n",
      "['0', 'Any', 'None', '1', 'Any']\n",
      "0\n"
     ]
    },
    {
     "name": "stderr",
     "output_type": "stream",
     "text": [
      "14978it [00:02, 5875.88it/s]\n"
     ]
    },
    {
     "name": "stdout",
     "output_type": "stream",
     "text": [
      "TCGA25131301A01R156513 ['J', 'TCGA-25-1313-01A-01R-1565-13', '02501GA']\n",
      "['0', '2', '5', '0', '1']\n",
      "None\n"
     ]
    },
    {
     "name": "stderr",
     "output_type": "stream",
     "text": [
      "47353it [00:09, 4956.73it/s]\n"
     ]
    },
    {
     "name": "stdout",
     "output_type": "stream",
     "text": [
      "TCGA25131301A01R156513 ['J', 'TCGA-25-1313-01A-01R-1565-13', '0A53XGA']\n",
      "['0', 'Any', '5', '3', '10']\n",
      "1\n"
     ]
    },
    {
     "name": "stderr",
     "output_type": "stream",
     "text": [
      "57519it [00:17, 3379.64it/s]\n"
     ]
    },
    {
     "name": "stdout",
     "output_type": "stream",
     "text": [
      "TCGA25131301A01R156513 ['J', 'TCGA-25-1313-01A-01R-1565-13', '0A13AGA']\n",
      "['0', 'Any', '1', '3', 'Any']\n",
      "0\n"
     ]
    },
    {
     "name": "stderr",
     "output_type": "stream",
     "text": [
      "45541it [00:11, 4079.69it/s]\n"
     ]
    },
    {
     "name": "stdout",
     "output_type": "stream",
     "text": [
      "TCGA25131301A01R156513 ['J', 'TCGA-25-1313-01A-01R-1565-13', '0213XGA']\n",
      "['0', '2', '1', '3', '10']\n",
      "1\n"
     ]
    },
    {
     "name": "stderr",
     "output_type": "stream",
     "text": [
      "35945it [00:05, 6713.92it/s]\n"
     ]
    },
    {
     "name": "stdout",
     "output_type": "stream",
     "text": [
      "TCGA25131301A01R156513 ['J', 'TCGA-25-1313-01A-01R-1565-13', '02132GA']\n",
      "['0', '2', '1', '3', '2']\n",
      "2\n"
     ]
    },
    {
     "name": "stderr",
     "output_type": "stream",
     "text": [
      "29582it [00:04, 6849.40it/s]\n"
     ]
    },
    {
     "name": "stdout",
     "output_type": "stream",
     "text": [
      "TCGA25131301A01R156513 ['J', 'TCGA-25-1313-01A-01R-1565-13', '02112GA']\n",
      "['0', '2', '1', '1', '2']\n",
      "2\n"
     ]
    },
    {
     "name": "stderr",
     "output_type": "stream",
     "text": [
      "30291it [00:04, 6683.65it/s]\n"
     ]
    },
    {
     "name": "stdout",
     "output_type": "stream",
     "text": [
      "TCGA25131301A01R156513 ['J', 'TCGA-25-1313-01A-01R-1565-13', '0A512GA']\n",
      "['0', 'Any', '5', '1', '2']\n",
      "2\n"
     ]
    },
    {
     "name": "stderr",
     "output_type": "stream",
     "text": [
      "30326it [00:04, 6746.64it/s]\n"
     ]
    },
    {
     "name": "stdout",
     "output_type": "stream",
     "text": [
      "TCGA25131301A01R156513 ['J', 'TCGA-25-1313-01A-01R-1565-13', '0A51XGA']\n",
      "['0', 'Any', '5', '1', '10']\n",
      "1\n"
     ]
    },
    {
     "name": "stderr",
     "output_type": "stream",
     "text": [
      "46993it [00:06, 6908.37it/s]\n"
     ]
    },
    {
     "name": "stdout",
     "output_type": "stream",
     "text": [
      "TCGA25131301A01R156513 ['J', 'TCGA-25-1313-01A-01R-1565-13', '0213AGA']\n",
      "['0', '2', '1', '3', 'Any']\n",
      "0\n"
     ]
    },
    {
     "name": "stderr",
     "output_type": "stream",
     "text": [
      "29607it [00:04, 6956.65it/s]\n"
     ]
    },
    {
     "name": "stdout",
     "output_type": "stream",
     "text": [
      "TCGA25131301A01R156513 ['J', 'TCGA-25-1313-01A-01R-1565-13', '0211XGA']\n",
      "['0', '2', '1', '1', '10']\n",
      "1\n"
     ]
    },
    {
     "name": "stderr",
     "output_type": "stream",
     "text": [
      "29607it [00:08, 3326.90it/s]\n"
     ]
    },
    {
     "name": "stdout",
     "output_type": "stream",
     "text": [
      "TCGA25131301A01R156513 ['J', 'TCGA-25-1313-01A-01R-1565-13', '0211AGA']\n",
      "['0', '2', '1', '1', 'Any']\n",
      "0\n"
     ]
    },
    {
     "name": "stderr",
     "output_type": "stream",
     "text": [
      "37449it [00:10, 3413.88it/s]\n"
     ]
    },
    {
     "name": "stdout",
     "output_type": "stream",
     "text": [
      "TCGA25131301A01R156513 ['J', 'TCGA-25-1313-01A-01R-1565-13', '0A112GA']\n",
      "['0', 'Any', '1', '1', '2']\n",
      "2\n"
     ]
    },
    {
     "name": "stderr",
     "output_type": "stream",
     "text": [
      "49919it [00:07, 6857.94it/s]\n"
     ]
    },
    {
     "name": "stdout",
     "output_type": "stream",
     "text": [
      "TCGA25131301A01R156513 ['J', 'TCGA-25-1313-01A-01R-1565-13', '0AN32GA']\n",
      "['0', 'Any', 'None', '3', '2']\n",
      "2\n"
     ]
    },
    {
     "name": "stderr",
     "output_type": "stream",
     "text": [
      "48784it [00:07, 6888.05it/s]\n"
     ]
    },
    {
     "name": "stdout",
     "output_type": "stream",
     "text": [
      "TCGA25131301A01R156513 ['J', 'TCGA-25-1313-01A-01R-1565-13', '0A53AGA']\n",
      "['0', 'Any', '5', '3', 'Any']\n",
      "0\n"
     ]
    },
    {
     "name": "stderr",
     "output_type": "stream",
     "text": [
      "30326it [00:04, 6722.09it/s]\n"
     ]
    },
    {
     "name": "stdout",
     "output_type": "stream",
     "text": [
      "TCGA25131301A01R156513 ['J', 'TCGA-25-1313-01A-01R-1565-13', '0A51AGA']\n",
      "['0', 'Any', '5', '1', 'Any']\n",
      "0\n"
     ]
    },
    {
     "name": "stderr",
     "output_type": "stream",
     "text": [
      "37484it [00:05, 6777.26it/s]\n"
     ]
    },
    {
     "name": "stdout",
     "output_type": "stream",
     "text": [
      "TCGA25131301A01R156513 ['J', 'TCGA-25-1313-01A-01R-1565-13', '0A11XGA']\n",
      "['0', 'Any', '1', '1', '10']\n",
      "1\n"
     ]
    },
    {
     "name": "stderr",
     "output_type": "stream",
     "text": [
      "42192it [00:06, 6772.21it/s]\n"
     ]
    },
    {
     "name": "stdout",
     "output_type": "stream",
     "text": [
      "TCGA25131301A01R156513 ['J', 'TCGA-25-1313-01A-01R-1565-13', '0AN12GA']\n",
      "['0', 'Any', 'None', '1', '2']\n",
      "2\n"
     ]
    },
    {
     "name": "stderr",
     "output_type": "stream",
     "text": [
      "15483it [00:02, 6863.19it/s]\n"
     ]
    },
    {
     "name": "stdout",
     "output_type": "stream",
     "text": [
      "TCGA25131301A01R156513 ['J', 'TCGA-25-1313-01A-01R-1565-13', '02512GA']\n",
      "['0', '2', '5', '1', '2']\n",
      "2\n"
     ]
    },
    {
     "name": "stderr",
     "output_type": "stream",
     "text": [
      "28775it [00:04, 6809.29it/s]\n"
     ]
    },
    {
     "name": "stdout",
     "output_type": "stream",
     "text": [
      "TCGA25131301A01R156513 ['J', 'TCGA-25-1313-01A-01R-1565-13', '02101GA']\n",
      "['0', '2', '1', '0', '1']\n",
      "None\n"
     ]
    },
    {
     "name": "stderr",
     "output_type": "stream",
     "text": [
      "15494it [00:02, 6832.91it/s]\n"
     ]
    },
    {
     "name": "stdout",
     "output_type": "stream",
     "text": [
      "TCGA25131301A01R156513 ['J', 'TCGA-25-1313-01A-01R-1565-13', '0251XGA']\n",
      "['0', '2', '5', '1', '10']\n",
      "1\n"
     ]
    },
    {
     "name": "stderr",
     "output_type": "stream",
     "text": [
      "29408it [00:04, 6761.08it/s]\n"
     ]
    },
    {
     "name": "stdout",
     "output_type": "stream",
     "text": [
      "TCGA25131301A01R156513 ['J', 'TCGA-25-1313-01A-01R-1565-13', '0A501GA']\n",
      "['0', 'Any', '5', '0', '1']\n",
      "None\n"
     ]
    },
    {
     "name": "stderr",
     "output_type": "stream",
     "text": [
      "37484it [00:05, 6766.21it/s]\n"
     ]
    },
    {
     "name": "stdout",
     "output_type": "stream",
     "text": [
      "TCGA25131301A01R156513 ['J', 'TCGA-25-1313-01A-01R-1565-13', '0A11AGA']\n",
      "['0', 'Any', '1', '1', 'Any']\n",
      "0\n"
     ]
    },
    {
     "name": "stderr",
     "output_type": "stream",
     "text": [
      "55922it [00:08, 6911.85it/s]\n"
     ]
    },
    {
     "name": "stdout",
     "output_type": "stream",
     "text": [
      "TCGA25131301A01R156513 ['J', 'TCGA-25-1313-01A-01R-1565-13', '0A13XGA']\n",
      "['0', 'Any', '1', '3', '10']\n",
      "1\n"
     ]
    },
    {
     "name": "stderr",
     "output_type": "stream",
     "text": [
      "37104it [00:05, 6911.40it/s]\n"
     ]
    },
    {
     "name": "stdout",
     "output_type": "stream",
     "text": [
      "TCGA25131301A01R156513 ['J', 'TCGA-25-1313-01A-01R-1565-13', '0A532GA']\n",
      "['0', 'Any', '5', '3', '2']\n",
      "2\n"
     ]
    },
    {
     "name": "stderr",
     "output_type": "stream",
     "text": [
      "15494it [00:02, 6823.56it/s]\n"
     ]
    },
    {
     "name": "stdout",
     "output_type": "stream",
     "text": [
      "TCGA25131301A01R156513 ['J', 'TCGA-25-1313-01A-01R-1565-13', '0251AGA']\n",
      "['0', '2', '5', '1', 'Any']\n",
      "0\n"
     ]
    },
    {
     "name": "stderr",
     "output_type": "stream",
     "text": [
      "19577it [00:02, 6875.81it/s]\n"
     ]
    },
    {
     "name": "stdout",
     "output_type": "stream",
     "text": [
      "TCGA25131301A01R156513 ['J', 'TCGA-25-1313-01A-01R-1565-13', '02532GA']\n",
      "['0', '2', '5', '3', '2']\n",
      "2\n"
     ]
    },
    {
     "name": "stderr",
     "output_type": "stream",
     "text": [
      "44879it [00:06, 6847.09it/s]\n"
     ]
    },
    {
     "name": "stdout",
     "output_type": "stream",
     "text": [
      "TCGA25131301A01R156513 ['J', 'TCGA-25-1313-01A-01R-1565-13', '0A132GA']\n",
      "['0', 'Any', '1', '3', '2']\n",
      "2\n"
     ]
    },
    {
     "name": "stderr",
     "output_type": "stream",
     "text": [
      "26157it [00:03, 6853.13it/s]\n"
     ]
    },
    {
     "name": "stdout",
     "output_type": "stream",
     "text": [
      "TCGA25131301A01R156513 ['J', 'TCGA-25-1313-01A-01R-1565-13', '0253XGA']\n",
      "['0', '2', '5', '3', '10']\n",
      "1\n"
     ]
    },
    {
     "name": "stderr",
     "output_type": "stream",
     "text": [
      "27058it [00:03, 6868.53it/s]\n"
     ]
    },
    {
     "name": "stdout",
     "output_type": "stream",
     "text": [
      "TCGA25131301A01R156513 ['J', 'TCGA-25-1313-01A-01R-1565-13', '0253AGA']\n",
      "['0', '2', '5', '3', 'Any']\n",
      "0\n"
     ]
    },
    {
     "name": "stderr",
     "output_type": "stream",
     "text": [
      "63099it [00:09, 6895.65it/s]\n"
     ]
    },
    {
     "name": "stdout",
     "output_type": "stream",
     "text": [
      "TCGA25131301A01R156513 ['J', 'TCGA-25-1313-01A-01R-1565-13', '0AN3AGA']\n",
      "['0', 'Any', 'None', '3', 'Any']\n",
      "0\n"
     ]
    },
    {
     "name": "stderr",
     "output_type": "stream",
     "text": [
      "36525it [00:05, 6816.12it/s]\n"
     ]
    },
    {
     "name": "stdout",
     "output_type": "stream",
     "text": [
      "TCGA25131301A01R156513 ['J', 'TCGA-25-1313-01A-01R-1565-13', '0A101GA']\n",
      "['0', 'Any', '1', '0', '1']\n",
      "None\n"
     ]
    },
    {
     "name": "stderr",
     "output_type": "stream",
     "text": [
      "41224it [00:05, 6898.48it/s]\n"
     ]
    },
    {
     "name": "stdout",
     "output_type": "stream",
     "text": [
      "TCGA25131301A01R156513 ['J', 'TCGA-25-1313-01A-01R-1565-13', '0AN01GA']\n",
      "['0', 'Any', 'None', '0', '1']\n",
      "None\n"
     ]
    },
    {
     "name": "stderr",
     "output_type": "stream",
     "text": [
      "61487it [00:09, 6827.81it/s]\n"
     ]
    },
    {
     "name": "stdout",
     "output_type": "stream",
     "text": [
      "TCGA25131301A01R156513 ['J', 'TCGA-25-1313-01A-01R-1565-13', '0AN3XGA']\n",
      "['0', 'Any', 'None', '3', '10']\n",
      "1\n"
     ]
    },
    {
     "name": "stderr",
     "output_type": "stream",
     "text": [
      "148334it [00:21, 6768.44it/s]\n"
     ]
    },
    {
     "name": "stdout",
     "output_type": "stream",
     "text": [
      "TCGA61200801A02R156813 ['J', 'TCGA-61-2008-01A-02R-1568-13', '0AN3AGA']\n",
      "['0', 'Any', 'None', '3', 'Any']\n",
      "0\n"
     ]
    },
    {
     "name": "stderr",
     "output_type": "stream",
     "text": [
      "87533it [00:12, 6777.81it/s]\n"
     ]
    },
    {
     "name": "stdout",
     "output_type": "stream",
     "text": [
      "TCGA61200801A02R156813 ['J', 'TCGA-61-2008-01A-02R-1568-13', '0A11AGA']\n",
      "['0', 'Any', '1', '1', 'Any']\n",
      "0\n"
     ]
    },
    {
     "name": "stderr",
     "output_type": "stream",
     "text": [
      "69153it [00:10, 6867.02it/s]\n"
     ]
    },
    {
     "name": "stdout",
     "output_type": "stream",
     "text": [
      "TCGA61200801A02R156813 ['J', 'TCGA-61-2008-01A-02R-1568-13', '0211AGA']\n",
      "['0', '2', '1', '1', 'Any']\n",
      "0\n"
     ]
    },
    {
     "name": "stderr",
     "output_type": "stream",
     "text": [
      "114871it [00:16, 6845.34it/s]\n"
     ]
    },
    {
     "name": "stdout",
     "output_type": "stream",
     "text": [
      "TCGA61200801A02R156813 ['J', 'TCGA-61-2008-01A-02R-1568-13', '0AN32GA']\n",
      "['0', 'Any', 'None', '3', '2']\n",
      "2\n"
     ]
    },
    {
     "name": "stderr",
     "output_type": "stream",
     "text": [
      "94099it [00:13, 6800.99it/s]\n"
     ]
    },
    {
     "name": "stdout",
     "output_type": "stream",
     "text": [
      "TCGA61200801A02R156813 ['J', 'TCGA-61-2008-01A-02R-1568-13', '0AN12GA']\n",
      "['0', 'Any', 'None', '1', '2']\n",
      "2\n"
     ]
    },
    {
     "name": "stderr",
     "output_type": "stream",
     "text": [
      "107646it [00:15, 6876.44it/s]\n"
     ]
    },
    {
     "name": "stdout",
     "output_type": "stream",
     "text": [
      "TCGA61200801A02R156813 ['J', 'TCGA-61-2008-01A-02R-1568-13', '0A132GA']\n",
      "['0', 'Any', '1', '3', '2']\n",
      "2\n"
     ]
    },
    {
     "name": "stderr",
     "output_type": "stream",
     "text": [
      "87272it [00:12, 6772.71it/s]\n"
     ]
    },
    {
     "name": "stdout",
     "output_type": "stream",
     "text": [
      "TCGA61200801A02R156813 ['J', 'TCGA-61-2008-01A-02R-1568-13', '0A112GA']\n",
      "['0', 'Any', '1', '1', '2']\n",
      "2\n"
     ]
    },
    {
     "name": "stderr",
     "output_type": "stream",
     "text": [
      "70467it [00:10, 6938.73it/s]\n"
     ]
    },
    {
     "name": "stdout",
     "output_type": "stream",
     "text": [
      "TCGA61200801A02R156813 ['J', 'TCGA-61-2008-01A-02R-1568-13', '0A51AGA']\n",
      "['0', 'Any', '5', '1', 'Any']\n",
      "0\n"
     ]
    },
    {
     "name": "stderr",
     "output_type": "stream",
     "text": [
      "33356it [00:04, 6758.48it/s]\n"
     ]
    },
    {
     "name": "stdout",
     "output_type": "stream",
     "text": [
      "TCGA61200801A02R156813 ['J', 'TCGA-61-2008-01A-02R-1568-13', '02512GA']\n",
      "['0', '2', '5', '1', '2']\n",
      "2\n"
     ]
    },
    {
     "name": "stderr",
     "output_type": "stream",
     "text": [
      "94360it [00:13, 6787.19it/s]\n"
     ]
    },
    {
     "name": "stdout",
     "output_type": "stream",
     "text": [
      "TCGA61200801A02R156813 ['J', 'TCGA-61-2008-01A-02R-1568-13', '0AN1XGA']\n",
      "['0', 'Any', 'None', '1', '10']\n",
      "1\n"
     ]
    },
    {
     "name": "stderr",
     "output_type": "stream",
     "text": [
      "115268it [00:16, 6866.68it/s]\n"
     ]
    },
    {
     "name": "stdout",
     "output_type": "stream",
     "text": [
      "TCGA61200801A02R156813 ['J', 'TCGA-61-2008-01A-02R-1568-13', '0A53XGA']\n",
      "['0', 'Any', '5', '3', '10']\n",
      "1\n"
     ]
    },
    {
     "name": "stderr",
     "output_type": "stream",
     "text": [
      "94360it [00:15, 6021.70it/s]\n"
     ]
    },
    {
     "name": "stdout",
     "output_type": "stream",
     "text": [
      "TCGA61200801A02R156813 ['J', 'TCGA-61-2008-01A-02R-1568-13', '0AN1AGA']\n",
      "['0', 'Any', 'None', '1', 'Any']\n",
      "0\n"
     ]
    },
    {
     "name": "stderr",
     "output_type": "stream",
     "text": [
      "58352it [00:08, 6562.90it/s]\n"
     ]
    },
    {
     "name": "stdout",
     "output_type": "stream",
     "text": [
      "TCGA61200801A02R156813 ['J', 'TCGA-61-2008-01A-02R-1568-13', '0253AGA']\n",
      "['0', '2', '5', '3', 'Any']\n",
      "0\n"
     ]
    },
    {
     "name": "stderr",
     "output_type": "stream",
     "text": [
      "70230it [00:10, 6669.64it/s]\n"
     ]
    },
    {
     "name": "stdout",
     "output_type": "stream",
     "text": [
      "TCGA61200801A02R156813 ['J', 'TCGA-61-2008-01A-02R-1568-13', '0A512GA']\n",
      "['0', 'Any', '5', '1', '2']\n",
      "2\n"
     ]
    },
    {
     "name": "stderr",
     "output_type": "stream",
     "text": [
      "140698it [00:20, 6780.84it/s]\n"
     ]
    },
    {
     "name": "stdout",
     "output_type": "stream",
     "text": [
      "TCGA61200801A02R156813 ['J', 'TCGA-61-2008-01A-02R-1568-13', '0A13AGA']\n",
      "['0', 'Any', '1', '3', 'Any']\n",
      "0\n"
     ]
    },
    {
     "name": "stderr",
     "output_type": "stream",
     "text": [
      "135718it [00:20, 6734.39it/s]\n"
     ]
    },
    {
     "name": "stdout",
     "output_type": "stream",
     "text": [
      "TCGA61200801A02R156813 ['J', 'TCGA-61-2008-01A-02R-1568-13', '0A13XGA']\n",
      "['0', 'Any', '1', '3', '10']\n",
      "1\n"
     ]
    },
    {
     "name": "stderr",
     "output_type": "stream",
     "text": [
      "91623it [00:13, 6872.55it/s]\n"
     ]
    },
    {
     "name": "stdout",
     "output_type": "stream",
     "text": [
      "TCGA61200801A02R156813 ['J', 'TCGA-61-2008-01A-02R-1568-13', '0AN01GA']\n",
      "['0', 'Any', 'None', '0', '1']\n",
      "None\n"
     ]
    },
    {
     "name": "stderr",
     "output_type": "stream",
     "text": [
      "108856it [00:15, 6862.03it/s]\n"
     ]
    },
    {
     "name": "stdout",
     "output_type": "stream",
     "text": [
      "TCGA61200801A02R156813 ['J', 'TCGA-61-2008-01A-02R-1568-13', '0213XGA']\n",
      "['0', '2', '1', '3', '10']\n",
      "1\n"
     ]
    },
    {
     "name": "stderr",
     "output_type": "stream",
     "text": [
      "87533it [00:12, 6803.94it/s]\n"
     ]
    },
    {
     "name": "stdout",
     "output_type": "stream",
     "text": [
      "TCGA61200801A02R156813 ['J', 'TCGA-61-2008-01A-02R-1568-13', '0A11XGA']\n",
      "['0', 'Any', '1', '1', '10']\n",
      "1\n"
     ]
    },
    {
     "name": "stderr",
     "output_type": "stream",
     "text": [
      "113185it [00:16, 6813.44it/s]\n"
     ]
    },
    {
     "name": "stdout",
     "output_type": "stream",
     "text": [
      "TCGA61200801A02R156813 ['J', 'TCGA-61-2008-01A-02R-1568-13', '0213AGA']\n",
      "['0', '2', '1', '3', 'Any']\n",
      "0\n"
     ]
    },
    {
     "name": "stderr",
     "output_type": "stream",
     "text": [
      "33424it [00:04, 6808.11it/s]\n"
     ]
    },
    {
     "name": "stdout",
     "output_type": "stream",
     "text": [
      "TCGA61200801A02R156813 ['J', 'TCGA-61-2008-01A-02R-1568-13', '0251AGA']\n",
      "['0', '2', '5', '1', 'Any']\n",
      "0\n"
     ]
    },
    {
     "name": "stderr",
     "output_type": "stream",
     "text": [
      "69002it [00:10, 6793.86it/s]\n"
     ]
    },
    {
     "name": "stdout",
     "output_type": "stream",
     "text": [
      "TCGA61200801A02R156813 ['J', 'TCGA-61-2008-01A-02R-1568-13', '02112GA']\n",
      "['0', '2', '1', '1', '2']\n",
      "2\n"
     ]
    },
    {
     "name": "stderr",
     "output_type": "stream",
     "text": [
      "69153it [00:10, 6798.30it/s]\n"
     ]
    },
    {
     "name": "stdout",
     "output_type": "stream",
     "text": [
      "TCGA61200801A02R156813 ['J', 'TCGA-61-2008-01A-02R-1568-13', '0211XGA']\n",
      "['0', '2', '1', '1', '10']\n",
      "1\n"
     ]
    },
    {
     "name": "stderr",
     "output_type": "stream",
     "text": [
      "67070it [00:09, 6927.55it/s]\n"
     ]
    },
    {
     "name": "stdout",
     "output_type": "stream",
     "text": [
      "TCGA61200801A02R156813 ['J', 'TCGA-61-2008-01A-02R-1568-13', '02101GA']\n",
      "['0', '2', '1', '0', '1']\n",
      "None\n"
     ]
    },
    {
     "name": "stderr",
     "output_type": "stream",
     "text": [
      "143297it [00:20, 6826.11it/s]\n"
     ]
    },
    {
     "name": "stdout",
     "output_type": "stream",
     "text": [
      "TCGA61200801A02R156813 ['J', 'TCGA-61-2008-01A-02R-1568-13', '0AN3XGA']\n",
      "['0', 'Any', 'None', '3', '10']\n",
      "1\n"
     ]
    },
    {
     "name": "stderr",
     "output_type": "stream",
     "text": [
      "88779it [00:13, 6790.70it/s]\n"
     ]
    },
    {
     "name": "stdout",
     "output_type": "stream",
     "text": [
      "TCGA61200801A02R156813 ['J', 'TCGA-61-2008-01A-02R-1568-13', '0A532GA']\n",
      "['0', 'Any', '5', '3', '2']\n",
      "2\n"
     ]
    },
    {
     "name": "stderr",
     "output_type": "stream",
     "text": [
      "33424it [00:04, 6795.40it/s]\n"
     ]
    },
    {
     "name": "stdout",
     "output_type": "stream",
     "text": [
      "TCGA61200801A02R156813 ['J', 'TCGA-61-2008-01A-02R-1568-13', '0251XGA']\n",
      "['0', '2', '5', '1', '10']\n",
      "1\n"
     ]
    },
    {
     "name": "stderr",
     "output_type": "stream",
     "text": [
      "68039it [00:09, 6807.32it/s]\n"
     ]
    },
    {
     "name": "stdout",
     "output_type": "stream",
     "text": [
      "TCGA61200801A02R156813 ['J', 'TCGA-61-2008-01A-02R-1568-13', '0A501GA']\n",
      "['0', 'Any', '5', '0', '1']\n",
      "None\n"
     ]
    },
    {
     "name": "stderr",
     "output_type": "stream",
     "text": [
      "70467it [00:10, 6797.21it/s]\n"
     ]
    },
    {
     "name": "stdout",
     "output_type": "stream",
     "text": [
      "TCGA61200801A02R156813 ['J', 'TCGA-61-2008-01A-02R-1568-13', '0A51XGA']\n",
      "['0', 'Any', '5', '1', '10']\n",
      "1\n"
     ]
    },
    {
     "name": "stderr",
     "output_type": "stream",
     "text": [
      "32270it [00:04, 6859.50it/s]\n"
     ]
    },
    {
     "name": "stdout",
     "output_type": "stream",
     "text": [
      "TCGA61200801A02R156813 ['J', 'TCGA-61-2008-01A-02R-1568-13', '02501GA']\n",
      "['0', '2', '5', '0', '1']\n",
      "None\n"
     ]
    },
    {
     "name": "stderr",
     "output_type": "stream",
     "text": [
      "42132it [00:10, 4031.43it/s]\n"
     ]
    },
    {
     "name": "stdout",
     "output_type": "stream",
     "text": [
      "TCGA61200801A02R156813 ['J', 'TCGA-61-2008-01A-02R-1568-13', '02532GA']\n",
      "['0', '2', '5', '3', '2']\n",
      "2\n"
     ]
    },
    {
     "name": "stderr",
     "output_type": "stream",
     "text": [
      "85236it [00:18, 4705.58it/s]\n"
     ]
    },
    {
     "name": "stdout",
     "output_type": "stream",
     "text": [
      "TCGA61200801A02R156813 ['J', 'TCGA-61-2008-01A-02R-1568-13', '02132GA']\n",
      "['0', '2', '1', '3', '2']\n",
      "2\n"
     ]
    },
    {
     "name": "stderr",
     "output_type": "stream",
     "text": [
      "55747it [00:08, 6886.86it/s]\n"
     ]
    },
    {
     "name": "stdout",
     "output_type": "stream",
     "text": [
      "TCGA61200801A02R156813 ['J', 'TCGA-61-2008-01A-02R-1568-13', '0253XGA']\n",
      "['0', '2', '5', '3', '10']\n",
      "1\n"
     ]
    },
    {
     "name": "stderr",
     "output_type": "stream",
     "text": [
      "119866it [00:34, 3437.46it/s]\n"
     ]
    },
    {
     "name": "stdout",
     "output_type": "stream",
     "text": [
      "TCGA61200801A02R156813 ['J', 'TCGA-61-2008-01A-02R-1568-13', '0A53AGA']\n",
      "['0', 'Any', '5', '3', 'Any']\n",
      "0\n"
     ]
    },
    {
     "name": "stderr",
     "output_type": "stream",
     "text": [
      "84819it [00:12, 6864.79it/s]\n"
     ]
    },
    {
     "name": "stdout",
     "output_type": "stream",
     "text": [
      "TCGA61200801A02R156813 ['J', 'TCGA-61-2008-01A-02R-1568-13', '0A101GA']\n",
      "['0', 'Any', '1', '0', '1']\n",
      "None\n"
     ]
    },
    {
     "name": "stderr",
     "output_type": "stream",
     "text": [
      "40564it [00:12, 3323.17it/s]\n"
     ]
    },
    {
     "name": "stdout",
     "output_type": "stream",
     "text": [
      "TCGA24143101A01R156613 ['J', 'TCGA-24-1431-01A-01R-1566-13', '0AN1XGA']\n",
      "['0', 'Any', 'None', '1', '10']\n",
      "1\n"
     ]
    },
    {
     "name": "stderr",
     "output_type": "stream",
     "text": [
      "41243it [00:12, 3186.40it/s]\n"
     ]
    },
    {
     "name": "stdout",
     "output_type": "stream",
     "text": [
      "TCGA24143101A01R156613 ['J', 'TCGA-24-1431-01A-01R-1566-13', '0A532GA']\n",
      "['0', 'Any', '5', '3', '2']\n",
      "2\n"
     ]
    },
    {
     "name": "stderr",
     "output_type": "stream",
     "text": [
      "33852it [00:07, 4258.56it/s]\n"
     ]
    },
    {
     "name": "stdout",
     "output_type": "stream",
     "text": [
      "TCGA24143101A01R156613 ['J', 'TCGA-24-1431-01A-01R-1566-13', '0A51XGA']\n",
      "['0', 'Any', '5', '1', '10']\n",
      "1\n"
     ]
    },
    {
     "name": "stderr",
     "output_type": "stream",
     "text": [
      "53216it [00:07, 6771.74it/s]\n"
     ]
    },
    {
     "name": "stdout",
     "output_type": "stream",
     "text": [
      "TCGA24143101A01R156613 ['J', 'TCGA-24-1431-01A-01R-1566-13', '0A53XGA']\n",
      "['0', 'Any', '5', '3', '10']\n",
      "1\n"
     ]
    },
    {
     "name": "stderr",
     "output_type": "stream",
     "text": [
      "32658it [00:04, 6858.34it/s]\n"
     ]
    },
    {
     "name": "stdout",
     "output_type": "stream",
     "text": [
      "TCGA24143101A01R156613 ['J', 'TCGA-24-1431-01A-01R-1566-13', '0A501GA']\n",
      "['0', 'Any', '5', '0', '1']\n",
      "None\n"
     ]
    },
    {
     "name": "stderr",
     "output_type": "stream",
     "text": [
      "50531it [00:07, 6821.88it/s]\n"
     ]
    },
    {
     "name": "stdout",
     "output_type": "stream",
     "text": [
      "TCGA24143101A01R156613 ['J', 'TCGA-24-1431-01A-01R-1566-13', '0213XGA']\n",
      "['0', '2', '1', '3', '10']\n",
      "1\n"
     ]
    },
    {
     "name": "stderr",
     "output_type": "stream",
     "text": [
      "32315it [00:04, 6809.75it/s]\n"
     ]
    },
    {
     "name": "stdout",
     "output_type": "stream",
     "text": [
      "TCGA24143101A01R156613 ['J', 'TCGA-24-1431-01A-01R-1566-13', '0211XGA']\n",
      "['0', '2', '1', '1', '10']\n",
      "1\n"
     ]
    },
    {
     "name": "stderr",
     "output_type": "stream",
     "text": [
      "39415it [00:05, 6905.20it/s]\n"
     ]
    },
    {
     "name": "stdout",
     "output_type": "stream",
     "text": [
      "TCGA24143101A01R156613 ['J', 'TCGA-24-1431-01A-01R-1566-13', '0A11AGA']\n",
      "['0', 'Any', '1', '1', 'Any']\n",
      "0\n"
     ]
    },
    {
     "name": "stderr",
     "output_type": "stream",
     "text": [
      "60229it [00:08, 6843.63it/s]\n"
     ]
    },
    {
     "name": "stdout",
     "output_type": "stream",
     "text": [
      "TCGA24143101A01R156613 ['J', 'TCGA-24-1431-01A-01R-1566-13', '0A13XGA']\n",
      "['0', 'Any', '1', '3', '10']\n",
      "1\n"
     ]
    },
    {
     "name": "stderr",
     "output_type": "stream",
     "text": [
      "52401it [00:07, 6854.49it/s]\n"
     ]
    },
    {
     "name": "stdout",
     "output_type": "stream",
     "text": [
      "TCGA24143101A01R156613 ['J', 'TCGA-24-1431-01A-01R-1566-13', '0213AGA']\n",
      "['0', '2', '1', '3', 'Any']\n",
      "0\n"
     ]
    },
    {
     "name": "stderr",
     "output_type": "stream",
     "text": [
      "22013it [00:03, 6745.93it/s]\n"
     ]
    },
    {
     "name": "stdout",
     "output_type": "stream",
     "text": [
      "TCGA24143101A01R156613 ['J', 'TCGA-24-1431-01A-01R-1566-13', '02532GA']\n",
      "['0', '2', '5', '3', '2']\n",
      "2\n"
     ]
    },
    {
     "name": "stderr",
     "output_type": "stream",
     "text": [
      "33852it [00:04, 6862.83it/s]\n"
     ]
    },
    {
     "name": "stdout",
     "output_type": "stream",
     "text": [
      "TCGA24143101A01R156613 ['J', 'TCGA-24-1431-01A-01R-1566-13', '0A51AGA']\n",
      "['0', 'Any', '5', '1', 'Any']\n",
      "0\n"
     ]
    },
    {
     "name": "stderr",
     "output_type": "stream",
     "text": [
      "40455it [00:05, 6973.48it/s]\n"
     ]
    },
    {
     "name": "stdout",
     "output_type": "stream",
     "text": [
      "TCGA24143101A01R156613 ['J', 'TCGA-24-1431-01A-01R-1566-13', '0AN12GA']\n",
      "['0', 'Any', 'None', '1', '2']\n",
      "2\n"
     ]
    },
    {
     "name": "stderr",
     "output_type": "stream",
     "text": [
      "17722it [00:02, 6921.57it/s]\n"
     ]
    },
    {
     "name": "stdout",
     "output_type": "stream",
     "text": [
      "TCGA24143101A01R156613 ['J', 'TCGA-24-1431-01A-01R-1566-13', '0251XGA']\n",
      "['0', '2', '5', '1', '10']\n",
      "1\n"
     ]
    },
    {
     "name": "stderr",
     "output_type": "stream",
     "text": [
      "40564it [00:05, 6915.01it/s]\n"
     ]
    },
    {
     "name": "stdout",
     "output_type": "stream",
     "text": [
      "TCGA24143101A01R156613 ['J', 'TCGA-24-1431-01A-01R-1566-13', '0AN1AGA']\n",
      "['0', 'Any', 'None', '1', 'Any']\n",
      "0\n"
     ]
    },
    {
     "name": "stderr",
     "output_type": "stream",
     "text": [
      "39443it [00:05, 6917.25it/s]\n"
     ]
    },
    {
     "name": "stdout",
     "output_type": "stream",
     "text": [
      "TCGA24143101A01R156613 ['J', 'TCGA-24-1431-01A-01R-1566-13', '02132GA']\n",
      "['0', '2', '1', '3', '2']\n",
      "2\n"
     ]
    },
    {
     "name": "stderr",
     "output_type": "stream",
     "text": [
      "62406it [00:09, 6847.52it/s]\n"
     ]
    },
    {
     "name": "stdout",
     "output_type": "stream",
     "text": [
      "TCGA24143101A01R156613 ['J', 'TCGA-24-1431-01A-01R-1566-13', '0A13AGA']\n",
      "['0', 'Any', '1', '3', 'Any']\n",
      "0\n"
     ]
    },
    {
     "name": "stderr",
     "output_type": "stream",
     "text": [
      "28876it [00:04, 6878.64it/s]\n"
     ]
    },
    {
     "name": "stdout",
     "output_type": "stream",
     "text": [
      "TCGA24143101A01R156613 ['J', 'TCGA-24-1431-01A-01R-1566-13', '0253XGA']\n",
      "['0', '2', '5', '3', '10']\n",
      "1\n"
     ]
    },
    {
     "name": "stderr",
     "output_type": "stream",
     "text": [
      "55173it [00:08, 6882.49it/s]\n"
     ]
    },
    {
     "name": "stdout",
     "output_type": "stream",
     "text": [
      "TCGA24143101A01R156613 ['J', 'TCGA-24-1431-01A-01R-1566-13', '0A53AGA']\n",
      "['0', 'Any', '5', '3', 'Any']\n",
      "0\n"
     ]
    },
    {
     "name": "stderr",
     "output_type": "stream",
     "text": [
      "31194it [00:04, 6769.51it/s]\n"
     ]
    },
    {
     "name": "stdout",
     "output_type": "stream",
     "text": [
      "TCGA24143101A01R156613 ['J', 'TCGA-24-1431-01A-01R-1566-13', '02101GA']\n",
      "['0', '2', '1', '0', '1']\n",
      "None\n"
     ]
    },
    {
     "name": "stderr",
     "output_type": "stream",
     "text": [
      "17722it [00:02, 6821.58it/s]\n"
     ]
    },
    {
     "name": "stdout",
     "output_type": "stream",
     "text": [
      "TCGA24143101A01R156613 ['J', 'TCGA-24-1431-01A-01R-1566-13', '0251AGA']\n",
      "['0', '2', '5', '1', 'Any']\n",
      "0\n"
     ]
    },
    {
     "name": "stderr",
     "output_type": "stream",
     "text": [
      "17050it [00:02, 6837.59it/s]\n"
     ]
    },
    {
     "name": "stdout",
     "output_type": "stream",
     "text": [
      "TCGA24143101A01R156613 ['J', 'TCGA-24-1431-01A-01R-1566-13', '02501GA']\n",
      "['0', '2', '5', '0', '1']\n",
      "None\n"
     ]
    },
    {
     "name": "stderr",
     "output_type": "stream",
     "text": [
      "47525it [00:06, 6911.55it/s]\n"
     ]
    },
    {
     "name": "stdout",
     "output_type": "stream",
     "text": [
      "TCGA24143101A01R156613 ['J', 'TCGA-24-1431-01A-01R-1566-13', '0A132GA']\n",
      "['0', 'Any', '1', '3', '2']\n",
      "2\n"
     ]
    },
    {
     "name": "stderr",
     "output_type": "stream",
     "text": [
      "32212it [00:05, 6332.23it/s]\n"
     ]
    },
    {
     "name": "stdout",
     "output_type": "stream",
     "text": [
      "TCGA24143101A01R156613 ['J', 'TCGA-24-1431-01A-01R-1566-13', '02112GA']\n",
      "['0', '2', '1', '1', '2']\n",
      "2\n"
     ]
    },
    {
     "name": "stderr",
     "output_type": "stream",
     "text": [
      "33743it [00:10, 3319.44it/s]\n"
     ]
    },
    {
     "name": "stdout",
     "output_type": "stream",
     "text": [
      "TCGA24143101A01R156613 ['J', 'TCGA-24-1431-01A-01R-1566-13', '0A512GA']\n",
      "['0', 'Any', '5', '1', '2']\n",
      "2\n"
     ]
    },
    {
     "name": "stderr",
     "output_type": "stream",
     "text": [
      "61473it [00:18, 3252.64it/s]\n"
     ]
    },
    {
     "name": "stdout",
     "output_type": "stream",
     "text": [
      "TCGA24143101A01R156613 ['J', 'TCGA-24-1431-01A-01R-1566-13', '0AN3XGA']\n",
      "['0', 'Any', 'None', '3', '10']\n",
      "1\n"
     ]
    },
    {
     "name": "stderr",
     "output_type": "stream",
     "text": [
      "63664it [00:18, 3358.79it/s]\n"
     ]
    },
    {
     "name": "stdout",
     "output_type": "stream",
     "text": [
      "TCGA24143101A01R156613 ['J', 'TCGA-24-1431-01A-01R-1566-13', '0AN3AGA']\n",
      "['0', 'Any', 'None', '3', 'Any']\n",
      "0\n"
     ]
    },
    {
     "name": "stderr",
     "output_type": "stream",
     "text": [
      "32315it [00:04, 6677.85it/s]\n"
     ]
    },
    {
     "name": "stdout",
     "output_type": "stream",
     "text": [
      "TCGA24143101A01R156613 ['J', 'TCGA-24-1431-01A-01R-1566-13', '0211AGA']\n",
      "['0', '2', '1', '1', 'Any']\n",
      "0\n"
     ]
    },
    {
     "name": "stderr",
     "output_type": "stream",
     "text": [
      "39264it [00:05, 6792.42it/s]\n"
     ]
    },
    {
     "name": "stdout",
     "output_type": "stream",
     "text": [
      "TCGA24143101A01R156613 ['J', 'TCGA-24-1431-01A-01R-1566-13', '0AN01GA']\n",
      "['0', 'Any', 'None', '0', '1']\n",
      "None\n"
     ]
    },
    {
     "name": "stderr",
     "output_type": "stream",
     "text": [
      "39306it [00:05, 6757.67it/s]\n"
     ]
    },
    {
     "name": "stdout",
     "output_type": "stream",
     "text": [
      "TCGA24143101A01R156613 ['J', 'TCGA-24-1431-01A-01R-1566-13', '0A112GA']\n",
      "['0', 'Any', '1', '1', '2']\n",
      "2\n"
     ]
    },
    {
     "name": "stderr",
     "output_type": "stream",
     "text": [
      "48688it [00:07, 6715.81it/s]\n"
     ]
    },
    {
     "name": "stdout",
     "output_type": "stream",
     "text": [
      "TCGA24143101A01R156613 ['J', 'TCGA-24-1431-01A-01R-1566-13', '0AN32GA']\n",
      "['0', 'Any', 'None', '3', '2']\n",
      "2\n"
     ]
    },
    {
     "name": "stderr",
     "output_type": "stream",
     "text": [
      "38115it [00:05, 6768.68it/s]\n"
     ]
    },
    {
     "name": "stdout",
     "output_type": "stream",
     "text": [
      "TCGA24143101A01R156613 ['J', 'TCGA-24-1431-01A-01R-1566-13', '0A101GA']\n",
      "['0', 'Any', '1', '0', '1']\n",
      "None\n"
     ]
    },
    {
     "name": "stderr",
     "output_type": "stream",
     "text": [
      "30115it [00:04, 6749.76it/s]\n"
     ]
    },
    {
     "name": "stdout",
     "output_type": "stream",
     "text": [
      "TCGA24143101A01R156613 ['J', 'TCGA-24-1431-01A-01R-1566-13', '0253AGA']\n",
      "['0', '2', '5', '3', 'Any']\n",
      "0\n"
     ]
    },
    {
     "name": "stderr",
     "output_type": "stream",
     "text": [
      "17661it [00:02, 6782.06it/s]\n"
     ]
    },
    {
     "name": "stdout",
     "output_type": "stream",
     "text": [
      "TCGA24143101A01R156613 ['J', 'TCGA-24-1431-01A-01R-1566-13', '02512GA']\n",
      "['0', '2', '5', '1', '2']\n",
      "2\n"
     ]
    },
    {
     "name": "stderr",
     "output_type": "stream",
     "text": [
      "39415it [00:05, 6738.90it/s]\n"
     ]
    },
    {
     "name": "stdout",
     "output_type": "stream",
     "text": [
      "TCGA24143101A01R156613 ['J', 'TCGA-24-1431-01A-01R-1566-13', '0A11XGA']\n",
      "['0', 'Any', '1', '1', '10']\n",
      "1\n"
     ]
    },
    {
     "name": "stderr",
     "output_type": "stream",
     "text": [
      "74974it [00:10, 6864.13it/s]\n"
     ]
    },
    {
     "name": "stdout",
     "output_type": "stream",
     "text": [
      "TCGA24229801A01R156913 ['J', 'TCGA-24-2298-01A-01R-1569-13', '0A501GA']\n",
      "['0', 'Any', '5', '0', '1']\n",
      "None\n"
     ]
    },
    {
     "name": "stderr",
     "output_type": "stream",
     "text": [
      "93349it [00:13, 6817.48it/s]\n"
     ]
    },
    {
     "name": "stdout",
     "output_type": "stream",
     "text": [
      "TCGA24229801A01R156913 ['J', 'TCGA-24-2298-01A-01R-1569-13', '0A101GA']\n",
      "['0', 'Any', '1', '0', '1']\n",
      "None\n"
     ]
    },
    {
     "name": "stderr",
     "output_type": "stream",
     "text": [
      "75369it [00:11, 6725.83it/s]\n"
     ]
    },
    {
     "name": "stdout",
     "output_type": "stream",
     "text": [
      "TCGA24229801A01R156913 ['J', 'TCGA-24-2298-01A-01R-1569-13', '02112GA']\n",
      "['0', '2', '1', '1', '2']\n",
      "2\n"
     ]
    },
    {
     "name": "stderr",
     "output_type": "stream",
     "text": [
      "164923it [00:24, 6730.00it/s]\n"
     ]
    },
    {
     "name": "stdout",
     "output_type": "stream",
     "text": [
      "TCGA24229801A01R156913 ['J', 'TCGA-24-2298-01A-01R-1569-13', '0AN3AGA']\n",
      "['0', 'Any', 'None', '3', 'Any']\n",
      "0\n"
     ]
    },
    {
     "name": "stderr",
     "output_type": "stream",
     "text": [
      "73147it [00:10, 6762.93it/s]\n"
     ]
    },
    {
     "name": "stdout",
     "output_type": "stream",
     "text": [
      "TCGA24229801A01R156913 ['J', 'TCGA-24-2298-01A-01R-1569-13', '02101GA']\n",
      "['0', '2', '1', '0', '1']\n",
      "None\n"
     ]
    },
    {
     "name": "stderr",
     "output_type": "stream",
     "text": [
      "36821it [00:05, 6676.51it/s]\n"
     ]
    },
    {
     "name": "stdout",
     "output_type": "stream",
     "text": [
      "TCGA24229801A01R156913 ['J', 'TCGA-24-2298-01A-01R-1569-13', '02512GA']\n",
      "['0', '2', '5', '1', '2']\n",
      "2\n"
     ]
    },
    {
     "name": "stderr",
     "output_type": "stream",
     "text": [
      "61051it [00:09, 6637.05it/s]\n"
     ]
    },
    {
     "name": "stdout",
     "output_type": "stream",
     "text": [
      "TCGA24229801A01R156913 ['J', 'TCGA-24-2298-01A-01R-1569-13', '0253XGA']\n",
      "['0', '2', '5', '3', '10']\n",
      "1\n"
     ]
    },
    {
     "name": "stderr",
     "output_type": "stream",
     "text": [
      "45249it [00:06, 6715.80it/s]\n"
     ]
    },
    {
     "name": "stdout",
     "output_type": "stream",
     "text": [
      "TCGA24229801A01R156913 ['J', 'TCGA-24-2298-01A-01R-1569-13', '02532GA']\n",
      "['0', '2', '5', '3', '2']\n",
      "2\n"
     ]
    },
    {
     "name": "stderr",
     "output_type": "stream",
     "text": [
      "77523it [00:11, 6695.14it/s]\n"
     ]
    },
    {
     "name": "stdout",
     "output_type": "stream",
     "text": [
      "TCGA24229801A01R156913 ['J', 'TCGA-24-2298-01A-01R-1569-13', '0A51XGA']\n",
      "['0', 'Any', '5', '1', '10']\n",
      "1\n"
     ]
    },
    {
     "name": "stderr",
     "output_type": "stream",
     "text": [
      "35692it [00:05, 6720.78it/s]\n"
     ]
    },
    {
     "name": "stdout",
     "output_type": "stream",
     "text": [
      "TCGA24229801A01R156913 ['J', 'TCGA-24-2298-01A-01R-1569-13', '02501GA']\n",
      "['0', '2', '5', '0', '1']\n",
      "None\n"
     ]
    },
    {
     "name": "stderr",
     "output_type": "stream",
     "text": [
      "125692it [00:18, 6771.59it/s]\n"
     ]
    },
    {
     "name": "stdout",
     "output_type": "stream",
     "text": [
      "TCGA24229801A01R156913 ['J', 'TCGA-24-2298-01A-01R-1569-13', '0AN32GA']\n",
      "['0', 'Any', 'None', '3', '2']\n",
      "2\n"
     ]
    },
    {
     "name": "stderr",
     "output_type": "stream",
     "text": [
      "36926it [00:05, 6735.52it/s]\n"
     ]
    },
    {
     "name": "stdout",
     "output_type": "stream",
     "text": [
      "TCGA24229801A01R156913 ['J', 'TCGA-24-2298-01A-01R-1569-13', '0251XGA']\n",
      "['0', '2', '5', '1', '10']\n",
      "1\n"
     ]
    },
    {
     "name": "stderr",
     "output_type": "stream",
     "text": [
      "95209it [00:14, 6740.00it/s]\n"
     ]
    },
    {
     "name": "stdout",
     "output_type": "stream",
     "text": [
      "TCGA24229801A01R156913 ['J', 'TCGA-24-2298-01A-01R-1569-13', '0A532GA']\n",
      "['0', 'Any', '5', '3', '2']\n",
      "2\n"
     ]
    },
    {
     "name": "stderr",
     "output_type": "stream",
     "text": [
      "125591it [00:18, 6686.72it/s]\n"
     ]
    },
    {
     "name": "stdout",
     "output_type": "stream",
     "text": [
      "TCGA24229801A01R156913 ['J', 'TCGA-24-2298-01A-01R-1569-13', '0A53XGA']\n",
      "['0', 'Any', '5', '3', '10']\n",
      "1\n"
     ]
    },
    {
     "name": "stderr",
     "output_type": "stream",
     "text": [
      "63694it [00:09, 6687.69it/s]\n"
     ]
    },
    {
     "name": "stdout",
     "output_type": "stream",
     "text": [
      "TCGA24229801A01R156913 ['J', 'TCGA-24-2298-01A-01R-1569-13', '0253AGA']\n",
      "['0', '2', '5', '3', 'Any']\n",
      "0\n"
     ]
    },
    {
     "name": "stderr",
     "output_type": "stream",
     "text": [
      "96064it [00:14, 6801.69it/s]\n"
     ]
    },
    {
     "name": "stdout",
     "output_type": "stream",
     "text": [
      "TCGA24229801A01R156913 ['J', 'TCGA-24-2298-01A-01R-1569-13', '0A112GA']\n",
      "['0', 'Any', '1', '1', '2']\n",
      "2\n"
     ]
    },
    {
     "name": "stderr",
     "output_type": "stream",
     "text": [
      "75554it [00:11, 6746.83it/s]\n"
     ]
    },
    {
     "name": "stdout",
     "output_type": "stream",
     "text": [
      "TCGA24229801A01R156913 ['J', 'TCGA-24-2298-01A-01R-1569-13', '0211AGA']\n",
      "['0', '2', '1', '1', 'Any']\n",
      "0\n"
     ]
    },
    {
     "name": "stderr",
     "output_type": "stream",
     "text": [
      "104864it [00:15, 6754.11it/s]\n"
     ]
    },
    {
     "name": "stdout",
     "output_type": "stream",
     "text": [
      "TCGA24229801A01R156913 ['J', 'TCGA-24-2298-01A-01R-1569-13', '0AN1AGA']\n",
      "['0', 'Any', 'None', '1', 'Any']\n",
      "0\n"
     ]
    },
    {
     "name": "stderr",
     "output_type": "stream",
     "text": [
      "129908it [00:19, 6743.92it/s]\n"
     ]
    },
    {
     "name": "stdout",
     "output_type": "stream",
     "text": [
      "TCGA24229801A01R156913 ['J', 'TCGA-24-2298-01A-01R-1569-13', '0A53AGA']\n",
      "['0', 'Any', '5', '3', 'Any']\n",
      "0\n"
     ]
    },
    {
     "name": "stderr",
     "output_type": "stream",
     "text": [
      "119022it [00:17, 6730.65it/s]\n"
     ]
    },
    {
     "name": "stdout",
     "output_type": "stream",
     "text": [
      "TCGA24229801A01R156913 ['J', 'TCGA-24-2298-01A-01R-1569-13', '0213XGA']\n",
      "['0', '2', '1', '3', '10']\n",
      "1\n"
     ]
    },
    {
     "name": "stderr",
     "output_type": "stream",
     "text": [
      "160092it [00:23, 6802.48it/s]\n"
     ]
    },
    {
     "name": "stdout",
     "output_type": "stream",
     "text": [
      "TCGA24229801A01R156913 ['J', 'TCGA-24-2298-01A-01R-1569-13', '0AN3XGA']\n",
      "['0', 'Any', 'None', '3', '10']\n",
      "1\n"
     ]
    },
    {
     "name": "stderr",
     "output_type": "stream",
     "text": [
      "104864it [00:15, 6706.57it/s]\n"
     ]
    },
    {
     "name": "stdout",
     "output_type": "stream",
     "text": [
      "TCGA24229801A01R156913 ['J', 'TCGA-24-2298-01A-01R-1569-13', '0AN1XGA']\n",
      "['0', 'Any', 'None', '1', '10']\n",
      "1\n"
     ]
    },
    {
     "name": "stderr",
     "output_type": "stream",
     "text": [
      "75554it [00:11, 6686.86it/s]\n"
     ]
    },
    {
     "name": "stdout",
     "output_type": "stream",
     "text": [
      "TCGA24229801A01R156913 ['J', 'TCGA-24-2298-01A-01R-1569-13', '0211XGA']\n",
      "['0', '2', '1', '1', '10']\n",
      "1\n"
     ]
    },
    {
     "name": "stderr",
     "output_type": "stream",
     "text": [
      "91520it [00:13, 6771.21it/s]\n"
     ]
    },
    {
     "name": "stdout",
     "output_type": "stream",
     "text": [
      "TCGA24229801A01R156913 ['J', 'TCGA-24-2298-01A-01R-1569-13', '02132GA']\n",
      "['0', '2', '1', '3', '2']\n",
      "2\n"
     ]
    },
    {
     "name": "stderr",
     "output_type": "stream",
     "text": [
      "36926it [00:05, 6797.47it/s]\n"
     ]
    },
    {
     "name": "stdout",
     "output_type": "stream",
     "text": [
      "TCGA24229801A01R156913 ['J', 'TCGA-24-2298-01A-01R-1569-13', '0251AGA']\n",
      "['0', '2', '5', '1', 'Any']\n",
      "0\n"
     ]
    },
    {
     "name": "stderr",
     "output_type": "stream",
     "text": [
      "149577it [00:22, 6757.71it/s]\n"
     ]
    },
    {
     "name": "stdout",
     "output_type": "stream",
     "text": [
      "TCGA24229801A01R156913 ['J', 'TCGA-24-2298-01A-01R-1569-13', '0A13XGA']\n",
      "['0', 'Any', '1', '3', '10']\n",
      "1\n"
     ]
    },
    {
     "name": "stderr",
     "output_type": "stream",
     "text": [
      "101878it [00:15, 6698.22it/s]\n"
     ]
    },
    {
     "name": "stdout",
     "output_type": "stream",
     "text": [
      "TCGA24229801A01R156913 ['J', 'TCGA-24-2298-01A-01R-1569-13', '0AN01GA']\n",
      "['0', 'Any', 'None', '0', '1']\n",
      "None\n"
     ]
    },
    {
     "name": "stderr",
     "output_type": "stream",
     "text": [
      "116393it [00:17, 6581.19it/s]\n"
     ]
    },
    {
     "name": "stdout",
     "output_type": "stream",
     "text": [
      "TCGA24229801A01R156913 ['J', 'TCGA-24-2298-01A-01R-1569-13', '0A132GA']\n",
      "['0', 'Any', '1', '3', '2']\n",
      "2\n"
     ]
    },
    {
     "name": "stderr",
     "output_type": "stream",
     "text": [
      "104637it [00:16, 6222.00it/s]\n"
     ]
    },
    {
     "name": "stdout",
     "output_type": "stream",
     "text": [
      "TCGA24229801A01R156913 ['J', 'TCGA-24-2298-01A-01R-1569-13', '0AN12GA']\n",
      "['0', 'Any', 'None', '1', '2']\n",
      "2\n"
     ]
    },
    {
     "name": "stderr",
     "output_type": "stream",
     "text": [
      "96286it [00:14, 6766.34it/s]\n"
     ]
    },
    {
     "name": "stdout",
     "output_type": "stream",
     "text": [
      "TCGA24229801A01R156913 ['J', 'TCGA-24-2298-01A-01R-1569-13', '0A11AGA']\n",
      "['0', 'Any', '1', '1', 'Any']\n",
      "0\n"
     ]
    },
    {
     "name": "stderr",
     "output_type": "stream",
     "text": [
      "154355it [00:22, 6785.87it/s]\n"
     ]
    },
    {
     "name": "stdout",
     "output_type": "stream",
     "text": [
      "TCGA24229801A01R156913 ['J', 'TCGA-24-2298-01A-01R-1569-13', '0A13AGA']\n",
      "['0', 'Any', '1', '3', 'Any']\n",
      "0\n"
     ]
    },
    {
     "name": "stderr",
     "output_type": "stream",
     "text": [
      "96286it [00:14, 6797.32it/s]\n"
     ]
    },
    {
     "name": "stdout",
     "output_type": "stream",
     "text": [
      "TCGA24229801A01R156913 ['J', 'TCGA-24-2298-01A-01R-1569-13', '0A11XGA']\n",
      "['0', 'Any', '1', '1', '10']\n",
      "1\n"
     ]
    },
    {
     "name": "stderr",
     "output_type": "stream",
     "text": [
      "122968it [00:18, 6811.91it/s]\n"
     ]
    },
    {
     "name": "stdout",
     "output_type": "stream",
     "text": [
      "TCGA24229801A01R156913 ['J', 'TCGA-24-2298-01A-01R-1569-13', '0213AGA']\n",
      "['0', '2', '1', '3', 'Any']\n",
      "0\n"
     ]
    },
    {
     "name": "stderr",
     "output_type": "stream",
     "text": [
      "77310it [00:11, 6764.55it/s]\n"
     ]
    },
    {
     "name": "stdout",
     "output_type": "stream",
     "text": [
      "TCGA24229801A01R156913 ['J', 'TCGA-24-2298-01A-01R-1569-13', '0A512GA']\n",
      "['0', 'Any', '5', '1', '2']\n",
      "2\n"
     ]
    },
    {
     "name": "stderr",
     "output_type": "stream",
     "text": [
      "77523it [00:11, 6721.41it/s]\n"
     ]
    },
    {
     "name": "stdout",
     "output_type": "stream",
     "text": [
      "TCGA24229801A01R156913 ['J', 'TCGA-24-2298-01A-01R-1569-13', '0A51AGA']\n",
      "['0', 'Any', '5', '1', 'Any']\n",
      "0\n"
     ]
    }
   ],
   "source": [
    "filter_dir ='/cluster/work/grlab/projects/projects2020_OHSU/peptides_generation/CANCER_eth/commit_c4dd02c_conf2_Frame_cap0_runs/TCGA_Ovarian_374/filtering_samples/filters_19May_order_5ge_wAnnot_GPstar'\n",
    "             #/cluster/work/grlab/projects/projects2020_OHSU/peptides_generation/CANCER_eth/commit_c4dd02c_conf2_Frame_cap0_runs/TCGA_Breast_1102/filtering_samples/filters_19May_order_5ge_wAnnot_GPstar\n",
    "tar_file_OHSU = '/cluster/work/grlab/projects/projects2020_OHSU/share_OHUS_PNLL/June28_renamed_kmerfiles_OHSU.tar.gz'#'/cluster/work/grlab/projects/projects2020_OHSU/share_OHUS_PNLL/OHSU_June2023_filter-debug_all_output.tar.gz'\n",
    "pwd = '/cluster/home/myurchikova/github/projects2020_ohsu/eth/learning_Master_thesis/'\n",
    "\n",
    "OHSU_COLOR ='red' #'red'\n",
    "ETH_COLOR = 'green'#'green'\n",
    "OHSU_ETH_COLOR ='yellow' #'yellow'\n",
    "LANG = 'ENG'\n",
    "LOG = False\n",
    "out_df_filtered=pd.DataFrame()\n",
    "sample_target=['TCGA25131901A01R156513',\n",
    "            'TCGA25131301A01R156513',\n",
    "            'TCGA61200801A02R156813',\n",
    "            'TCGA24143101A01R156613',\n",
    "            'TCGA24229801A01R156913',]\n",
    "# sample_target=['TCGA-C8-A12P-01A-11R-A115-07']\n",
    "                \n",
    "if LANG == 'ENG':\n",
    "    title_venn = ' {sample}'\n",
    "else:\n",
    "    title_venn = '{sample}'\n",
    "\n",
    "# ETH Names\n",
    "eth_all = glob.glob(os.path.join(filter_dir, 'G*'))\n",
    "\n",
    "# OHSU Names\n",
    "with tarfile.open(tar_file_OHSU, \"r:*\") as tar:\n",
    "    ohsu_all = tar.getnames()\n",
    "\n",
    "# Get file pairs\n",
    "file_pair = {}\n",
    "for idx_eth, eth in enumerate(eth_all):\n",
    "    pattern = os.path.basename(eth).replace('G_', '').replace('.gz', '') \n",
    "    for idx_ohsu, ohsu in enumerate(ohsu_all):\n",
    "        if pattern in ohsu:\n",
    "            file_pair[eth] = ohsu\n",
    "\n",
    "restricts = sample_target\n",
    "for restrict in restricts:\n",
    "\n",
    "    df = {'sample' : [], \n",
    "      'filter_foreground' : [], \n",
    "      'filter_background' : [], \n",
    "      'filter': [],\n",
    "      'size_ohsu' : [], \n",
    "      'size_eth' : [], \n",
    "      'size_intersection' : [], \n",
    "      'size_ohsu\\eth' : [], \n",
    "      'size_eth\\ohsu' : [],\n",
    "      'eth_kmers\\inter':[],\n",
    "      'ohsu_kmers\\inter':[],\n",
    "\n",
    "      'coord_OHSU':[],\n",
    "      'coord_ETH':[],\n",
    "      'size_ohsu_coor' : [], \n",
    "      'size_eth_coor' : [], \n",
    "      'size_intersection_coor' : [], \n",
    "      'size_ohsu\\eth_coor' : [], \n",
    "      'size_eth\\ohsu_coor' : [],\n",
    "      'eth_coor\\inter_coor':[],\n",
    "      'ohsu_coor\\inter_coor':[],\n",
    "      'inter_coor':[],\n",
    "      'eth_coor\\ohsu_coor':[],\n",
    "      'ohsu_coor\\eth_coor':[],\n",
    "      'priority':[],\n",
    "          \n",
    "         }\n",
    "    with tarfile.open(tar_file_OHSU, \"r:*\") as tar: #OHSU\n",
    "        for eth, ohsu in file_pair.items(): # ETH\n",
    "            if (not restrict) or restrict == re.findall('G_([\\s\\S]+?)_',eth)[0].replace('-',''): #Restrict to category of interest\n",
    "                # try:\n",
    "                    df_ohsu = pd.read_csv(tar.extractfile(ohsu), sep=\"\\t\")\n",
    "                    df_ohsu.reset_index(inplace=True)\n",
    "                    if not df_ohsu.empty: df_ohsu = table_processing.ohsu_to_eth_coord(df_ohsu)\n",
    "                    if not df_ohsu.empty: df_ohsu['junction_coordinate'] = df_ohsu['jx_shifted'].apply(lambda x: ':'.join(x.split(';')[1:3]))\n",
    "                   \n",
    "                    df_eth = pd.read_csv(eth, sep=\"\\t\")\n",
    "                    df_eth = pd.read_csv(eth, sep=\"\\t\")\n",
    "                    if not df_eth.empty: df_eth=table_processing.get_junction_coordinates(df_eth,'coord')\n",
    "                    df1=df_eth\n",
    "                    df2=df_ohsu\n",
    "                    df_eth_coor = set(df1['junction_coordinate']) if not df1.empty else set([])\n",
    "                    df_ohsu_coor = set(df2['junction_coordinate']) if not df1.empty else set([])\n",
    "                    df['coord_ETH'].append(df1['junction_coordinate'] if not df1.empty else 'None' )\n",
    "                    df['coord_OHSU'].append(df2['junction_coordinate'] if not df2.empty else 'None')\n",
    "                    df_eth = set(df_eth['kmer'])\n",
    "                    df_ohsu = set(df_ohsu['index'])\n",
    "                    name = os.path.basename(ohsu).replace('.tsv', '').split('_')\n",
    "                    print(restrict,name)\n",
    "                    df['sample'].append(name[1].replace('-',''))\n",
    "                    if not OHSU_BRCA_NEW:\n",
    "                        df['filter_foreground'].append(name[2])\n",
    "                        df['filter_background'].append(name[3])\n",
    "                        if name[3][1] == 'Any':\n",
    "                            priority=0\n",
    "                        elif name[3][1] == 10:\n",
    "                            priority=1\n",
    "                        elif name[3][1] == 2:\n",
    "                            priority=2\n",
    "                        else:\n",
    "                            priotity = None\n",
    "                        df['priority'].append(priority)\n",
    "                        df['filter'].append(name[2]+' '+name[3])\n",
    "                    else:\n",
    "                        df['filter'].append(name[2])\n",
    "                        a = []\n",
    "                        for i in range(5):\n",
    "                            if name[2][i] == 'A':\n",
    "                                a.append('Any')\n",
    "                            elif name[2][i] == 'X':\n",
    "                                a.append('10')\n",
    "                            elif name[2][i] == 'N':\n",
    "                                a.append('None')\n",
    "                            else:\n",
    "                                a.append(name[2][i])\n",
    "                        df['filter_foreground'].append(f'({a[0]}, {a[1]}, {a[2]})')\n",
    "                        df['filter_background'].append(f'({a[3]}, {a[4]})')\n",
    "                        if a[4] == 'Any':\n",
    "                            priority=0\n",
    "                        elif a[4] == '10':\n",
    "                            priority=1\n",
    "                        elif a[4] == '2':\n",
    "                            priority=2\n",
    "                        else:\n",
    "                            priority = None\n",
    "                        df['priority'].append(priority)\n",
    "                    print(a)\n",
    "                    print(priority)\n",
    "                    df['size_ohsu'].append(len(df_ohsu))\n",
    "                    df['size_eth'].append(len(df_eth))\n",
    "                    df['size_ohsu\\eth'].append(len(df_ohsu_filter:=df_ohsu.difference(df_eth)))\n",
    "                    df['size_eth\\ohsu'].append(len(df_eth_filter:=df_eth.difference(df_ohsu)))\n",
    "                    df['size_intersection'].append(len(df_inter_filter:=df_ohsu & df_eth))\n",
    "                    df['eth_kmers\\inter'].append(df_eth_witout_inter:=list(df_eth_filter.difference(df_inter_filter)))\n",
    "                    df['ohsu_kmers\\inter'].append(df_ohsu_witout_inter:=list(df_ohsu_filter.difference(df_inter_filter)))\n",
    "\n",
    "                    \n",
    "                    df['size_ohsu_coor'].append(len(df_ohsu_coor))\n",
    "                    df['size_eth_coor'].append(len(df_eth_coor))\n",
    "                    df['size_ohsu\\eth_coor'].append(len(df_ohsu_filter_coor:=df_ohsu_coor.difference(df_eth_coor)))\n",
    "                    df['size_eth\\ohsu_coor'].append(len(df_eth_filter_coor:=df_eth_coor.difference(df_ohsu_coor)))\n",
    "                    df['size_intersection_coor'].append(len(df_inter_filter_coor:=df_ohsu_coor & df_eth_coor))\n",
    "                    df['eth_coor\\inter_coor'].append(df_eth_witout_inter_coor:=list(df_eth_filter_coor.difference(df_inter_filter_coor)))\n",
    "                    df['ohsu_coor\\inter_coor'].append(df_ohsu_witout_inter_coor:=list(df_ohsu_filter_coor.difference(df_inter_filter_coor)))\n",
    "                    df['eth_coor\\ohsu_coor'].append(df_eth_witout_inter_coor:=list(df_eth_filter_coor.difference(df_ohsu_filter_coor)))\n",
    "                    df['ohsu_coor\\eth_coor'].append(df_ohsu_witout_inter_coor:=list(df_ohsu_filter_coor.difference(df_eth_filter_coor)))\n",
    "                    \n",
    "                    df['inter_coor'].append(list(df_inter_filter_coor))\n",
    "                    if LOG == True:\n",
    "                        print(\"\\n\\nOSHU\\n\\n\")\n",
    "                        print(df_ohsu)\n",
    "                        print(\"\\n\\nETH\\n\\n\")\n",
    "                        print(df_eth)\n",
    "\n",
    "                # except Exception as e:\n",
    "                #     print(\"Error\",e)\n",
    "                #     continue\n",
    "    df = pd.DataFrame(df)\n",
    "    if not out_df_filtered.empty:\n",
    "        out_df_filtered = pd.concat([out_df_filtered, df])\n",
    "    else:\n",
    "        out_df_filtered = df"
   ]
  },
  {
   "cell_type": "code",
   "execution_count": 5,
   "id": "17f44acb-e203-49ae-9090-0142c87f2b18",
   "metadata": {},
   "outputs": [
    {
     "data": {
      "text/html": [
       "<div>\n",
       "<style scoped>\n",
       "    .dataframe tbody tr th:only-of-type {\n",
       "        vertical-align: middle;\n",
       "    }\n",
       "\n",
       "    .dataframe tbody tr th {\n",
       "        vertical-align: top;\n",
       "    }\n",
       "\n",
       "    .dataframe thead th {\n",
       "        text-align: right;\n",
       "    }\n",
       "</style>\n",
       "<table border=\"1\" class=\"dataframe\">\n",
       "  <thead>\n",
       "    <tr style=\"text-align: right;\">\n",
       "      <th></th>\n",
       "      <th>sample</th>\n",
       "      <th>filter_foreground</th>\n",
       "      <th>filter_background</th>\n",
       "      <th>filter</th>\n",
       "      <th>size_ohsu</th>\n",
       "      <th>size_eth</th>\n",
       "      <th>size_intersection</th>\n",
       "      <th>size_ohsu\\eth</th>\n",
       "      <th>size_eth\\ohsu</th>\n",
       "      <th>eth_kmers\\inter</th>\n",
       "      <th>...</th>\n",
       "      <th>size_eth_coor</th>\n",
       "      <th>size_intersection_coor</th>\n",
       "      <th>size_ohsu\\eth_coor</th>\n",
       "      <th>size_eth\\ohsu_coor</th>\n",
       "      <th>eth_coor\\inter_coor</th>\n",
       "      <th>ohsu_coor\\inter_coor</th>\n",
       "      <th>inter_coor</th>\n",
       "      <th>eth_coor\\ohsu_coor</th>\n",
       "      <th>ohsu_coor\\eth_coor</th>\n",
       "      <th>priority</th>\n",
       "    </tr>\n",
       "  </thead>\n",
       "  <tbody>\n",
       "    <tr>\n",
       "      <th>0</th>\n",
       "      <td>TCGA25131901A01R156513</td>\n",
       "      <td>(0, Any, 5)</td>\n",
       "      <td>(0, 1)</td>\n",
       "      <td>0A501GA</td>\n",
       "      <td>88503</td>\n",
       "      <td>41552</td>\n",
       "      <td>22489</td>\n",
       "      <td>66014</td>\n",
       "      <td>19063</td>\n",
       "      <td>[YAFPPSELH, PQGRAGPGP, GMVPSPGGR, LLGASATAG, L...</td>\n",
       "      <td>...</td>\n",
       "      <td>5482</td>\n",
       "      <td>3976</td>\n",
       "      <td>8922</td>\n",
       "      <td>1506</td>\n",
       "      <td>[47379744:47379821, 75559410:75563015:75563028...</td>\n",
       "      <td>[72003971:72004646, 123146225:123150302, 15166...</td>\n",
       "      <td>[3129832:3129907, 36684275:36684480, 33053549:...</td>\n",
       "      <td>[47379744:47379821, 75559410:75563015:75563028...</td>\n",
       "      <td>[123146225:123150302, 72003971:72004646, 15166...</td>\n",
       "      <td>NaN</td>\n",
       "    </tr>\n",
       "    <tr>\n",
       "      <th>1</th>\n",
       "      <td>TCGA25131901A01R156513</td>\n",
       "      <td>(0, Any, 1)</td>\n",
       "      <td>(3, 10)</td>\n",
       "      <td>0A13XGA</td>\n",
       "      <td>241287</td>\n",
       "      <td>74182</td>\n",
       "      <td>43569</td>\n",
       "      <td>197718</td>\n",
       "      <td>30613</td>\n",
       "      <td>[KSHWAGPPG, TIRTGSNPK, GATEKGLWS, HECGDGLYE, S...</td>\n",
       "      <td>...</td>\n",
       "      <td>9802</td>\n",
       "      <td>7725</td>\n",
       "      <td>27514</td>\n",
       "      <td>2077</td>\n",
       "      <td>[216661998:216664092:216664107:216664158, 7555...</td>\n",
       "      <td>[56960812:56960880, 151662083:151673189, 44635...</td>\n",
       "      <td>[6537386:6537747, 77118256:77118309, 36684275:...</td>\n",
       "      <td>[216661998:216664092:216664107:216664158, 7555...</td>\n",
       "      <td>[67663749:67664554, 25975146:26000159, 5696081...</td>\n",
       "      <td>1.0</td>\n",
       "    </tr>\n",
       "    <tr>\n",
       "      <th>2</th>\n",
       "      <td>TCGA25131901A01R156513</td>\n",
       "      <td>(0, Any, None)</td>\n",
       "      <td>(1, 10)</td>\n",
       "      <td>0AN1XGA</td>\n",
       "      <td>349426</td>\n",
       "      <td>53930</td>\n",
       "      <td>33059</td>\n",
       "      <td>316367</td>\n",
       "      <td>20871</td>\n",
       "      <td>[KSHWAGPPG, GATEKGLWS, SAAAWTPWS, ATSTAADPE, K...</td>\n",
       "      <td>...</td>\n",
       "      <td>7296</td>\n",
       "      <td>5695</td>\n",
       "      <td>44821</td>\n",
       "      <td>1601</td>\n",
       "      <td>[75559410:75563015:75563028:75563083, 36970663...</td>\n",
       "      <td>[31636776:31636859, 56960812:56960880, 1516620...</td>\n",
       "      <td>[6537386:6537747, 36684275:36684480, 47379744:...</td>\n",
       "      <td>[75559410:75563015:75563028:75563083, 36970663...</td>\n",
       "      <td>[31636776:31636859, 56960812:56960880, 1516620...</td>\n",
       "      <td>1.0</td>\n",
       "    </tr>\n",
       "    <tr>\n",
       "      <th>3</th>\n",
       "      <td>TCGA25131901A01R156513</td>\n",
       "      <td>(0, Any, None)</td>\n",
       "      <td>(3, 2)</td>\n",
       "      <td>0AN32GA</td>\n",
       "      <td>375160</td>\n",
       "      <td>63803</td>\n",
       "      <td>38896</td>\n",
       "      <td>336264</td>\n",
       "      <td>24907</td>\n",
       "      <td>[KSHWAGPPG, GATEKGLWS, SAAAWTPWS, ATSTAADPE, K...</td>\n",
       "      <td>...</td>\n",
       "      <td>8513</td>\n",
       "      <td>6747</td>\n",
       "      <td>47531</td>\n",
       "      <td>1766</td>\n",
       "      <td>[216661998:216664092:216664107:216664158, 7555...</td>\n",
       "      <td>[31636776:31636859, 56960812:56960880, 1516620...</td>\n",
       "      <td>[6537386:6537747, 36684275:36684480, 47379744:...</td>\n",
       "      <td>[216661998:216664092:216664107:216664158, 7555...</td>\n",
       "      <td>[31636776:31636859, 56960812:56960880, 1516620...</td>\n",
       "      <td>2.0</td>\n",
       "    </tr>\n",
       "    <tr>\n",
       "      <th>4</th>\n",
       "      <td>TCGA25131901A01R156513</td>\n",
       "      <td>(0, 2, 5)</td>\n",
       "      <td>(3, Any)</td>\n",
       "      <td>0253AGA</td>\n",
       "      <td>38262</td>\n",
       "      <td>32447</td>\n",
       "      <td>14184</td>\n",
       "      <td>24078</td>\n",
       "      <td>18263</td>\n",
       "      <td>[QERKFLPDH, PQGRAGPGP, LLGASATAG, GMVPSPGGR, Y...</td>\n",
       "      <td>...</td>\n",
       "      <td>3866</td>\n",
       "      <td>2698</td>\n",
       "      <td>2923</td>\n",
       "      <td>1168</td>\n",
       "      <td>[216661998:216664092:216664107:216664158, 6534...</td>\n",
       "      <td>[123146225:123150302, 156009596:156011865, 151...</td>\n",
       "      <td>[6537386:6537747, 71819484:71819788, 36684275:...</td>\n",
       "      <td>[216661998:216664092:216664107:216664158, 6534...</td>\n",
       "      <td>[123146225:123150302, 156009596:156011865, 151...</td>\n",
       "      <td>0.0</td>\n",
       "    </tr>\n",
       "    <tr>\n",
       "      <th>...</th>\n",
       "      <td>...</td>\n",
       "      <td>...</td>\n",
       "      <td>...</td>\n",
       "      <td>...</td>\n",
       "      <td>...</td>\n",
       "      <td>...</td>\n",
       "      <td>...</td>\n",
       "      <td>...</td>\n",
       "      <td>...</td>\n",
       "      <td>...</td>\n",
       "      <td>...</td>\n",
       "      <td>...</td>\n",
       "      <td>...</td>\n",
       "      <td>...</td>\n",
       "      <td>...</td>\n",
       "      <td>...</td>\n",
       "      <td>...</td>\n",
       "      <td>...</td>\n",
       "      <td>...</td>\n",
       "      <td>...</td>\n",
       "      <td>...</td>\n",
       "    </tr>\n",
       "    <tr>\n",
       "      <th>30</th>\n",
       "      <td>TCGA24229801A01R156913</td>\n",
       "      <td>(0, Any, 1)</td>\n",
       "      <td>(3, Any)</td>\n",
       "      <td>0A13AGA</td>\n",
       "      <td>301037</td>\n",
       "      <td>103008</td>\n",
       "      <td>56548</td>\n",
       "      <td>244489</td>\n",
       "      <td>46460</td>\n",
       "      <td>[PPSTSPCWS, FLRPRLGRQ, LKKKRQVLL, RRSSVGPSA, G...</td>\n",
       "      <td>...</td>\n",
       "      <td>13627</td>\n",
       "      <td>10170</td>\n",
       "      <td>34575</td>\n",
       "      <td>3457</td>\n",
       "      <td>[44813591:44814251:44814275:44818557, 52233611...</td>\n",
       "      <td>[54345504:54348024, 201381517:201389288, 14331...</td>\n",
       "      <td>[6537386:6537747, 154366446:154366792, 6730481...</td>\n",
       "      <td>[44813591:44814251:44814275:44818557, 52233611...</td>\n",
       "      <td>[54345504:54348024, 201381517:201389288, 14331...</td>\n",
       "      <td>0.0</td>\n",
       "    </tr>\n",
       "    <tr>\n",
       "      <th>31</th>\n",
       "      <td>TCGA24229801A01R156913</td>\n",
       "      <td>(0, Any, 1)</td>\n",
       "      <td>(1, 10)</td>\n",
       "      <td>0A11XGA</td>\n",
       "      <td>236507</td>\n",
       "      <td>70496</td>\n",
       "      <td>39962</td>\n",
       "      <td>196545</td>\n",
       "      <td>30534</td>\n",
       "      <td>[PPSTSPCWS, RRSSVGPSA, GATEKGLWS, ATSTAADPE, A...</td>\n",
       "      <td>...</td>\n",
       "      <td>9437</td>\n",
       "      <td>7016</td>\n",
       "      <td>27769</td>\n",
       "      <td>2421</td>\n",
       "      <td>[52233611:52243116:52243137:52248663, 7869544:...</td>\n",
       "      <td>[54345504:54348024, 201381517:201389288, 14331...</td>\n",
       "      <td>[6537386:6537747, 67304812:67304932, 36684275:...</td>\n",
       "      <td>[52233611:52243116:52243137:52248663, 7869544:...</td>\n",
       "      <td>[54345504:54348024, 55668695:55674372, 2013815...</td>\n",
       "      <td>1.0</td>\n",
       "    </tr>\n",
       "    <tr>\n",
       "      <th>32</th>\n",
       "      <td>TCGA24229801A01R156913</td>\n",
       "      <td>(0, 2, 1)</td>\n",
       "      <td>(3, Any)</td>\n",
       "      <td>0213AGA</td>\n",
       "      <td>110291</td>\n",
       "      <td>82457</td>\n",
       "      <td>33084</td>\n",
       "      <td>77207</td>\n",
       "      <td>49373</td>\n",
       "      <td>[PPSTSPCWS, FLRPRLGRQ, WYMAGLPGA, LKKKRQVLL, Q...</td>\n",
       "      <td>...</td>\n",
       "      <td>10578</td>\n",
       "      <td>6165</td>\n",
       "      <td>10366</td>\n",
       "      <td>4413</td>\n",
       "      <td>[67489376:67489410, 209728:209829, 44758279:44...</td>\n",
       "      <td>[50191478:50192507, 201381517:201389288, 80837...</td>\n",
       "      <td>[6537386:6537747, 154366446:154366792, 3668427...</td>\n",
       "      <td>[67489376:67489410, 209728:209829, 44758279:44...</td>\n",
       "      <td>[50191478:50192507, 201381517:201389288, 80837...</td>\n",
       "      <td>0.0</td>\n",
       "    </tr>\n",
       "    <tr>\n",
       "      <th>33</th>\n",
       "      <td>TCGA24229801A01R156913</td>\n",
       "      <td>(0, Any, 5)</td>\n",
       "      <td>(1, 2)</td>\n",
       "      <td>0A512GA</td>\n",
       "      <td>112657</td>\n",
       "      <td>55806</td>\n",
       "      <td>28778</td>\n",
       "      <td>83879</td>\n",
       "      <td>27028</td>\n",
       "      <td>[PPSTSPCWS, DPFDRRGVR, GATEKGLWS, ATSTAADPE, A...</td>\n",
       "      <td>...</td>\n",
       "      <td>7264</td>\n",
       "      <td>5170</td>\n",
       "      <td>11456</td>\n",
       "      <td>2094</td>\n",
       "      <td>[143562675:143562798, 11447473:11448563, 52233...</td>\n",
       "      <td>[50191478:50192507, 54345504:54348024, 2013815...</td>\n",
       "      <td>[6537386:6537747, 36684275:36684480, 209728:20...</td>\n",
       "      <td>[143562675:143562798, 11447473:11448563, 52233...</td>\n",
       "      <td>[50191478:50192507, 54345504:54348024, 2013815...</td>\n",
       "      <td>2.0</td>\n",
       "    </tr>\n",
       "    <tr>\n",
       "      <th>34</th>\n",
       "      <td>TCGA24229801A01R156913</td>\n",
       "      <td>(0, Any, 5)</td>\n",
       "      <td>(1, Any)</td>\n",
       "      <td>0A51AGA</td>\n",
       "      <td>113157</td>\n",
       "      <td>55977</td>\n",
       "      <td>28886</td>\n",
       "      <td>84271</td>\n",
       "      <td>27091</td>\n",
       "      <td>[PPSTSPCWS, DPFDRRGVR, GATEKGLWS, ATSTAADPE, A...</td>\n",
       "      <td>...</td>\n",
       "      <td>7286</td>\n",
       "      <td>5191</td>\n",
       "      <td>11507</td>\n",
       "      <td>2095</td>\n",
       "      <td>[143562675:143562798, 11447473:11448563, 52233...</td>\n",
       "      <td>[50191478:50192507, 54345504:54348024, 2013815...</td>\n",
       "      <td>[6537386:6537747, 36684275:36684480, 209728:20...</td>\n",
       "      <td>[143562675:143562798, 11447473:11448563, 52233...</td>\n",
       "      <td>[50191478:50192507, 54345504:54348024, 2013815...</td>\n",
       "      <td>0.0</td>\n",
       "    </tr>\n",
       "  </tbody>\n",
       "</table>\n",
       "<p>175 rows × 24 columns</p>\n",
       "</div>"
      ],
      "text/plain": [
       "                    sample filter_foreground filter_background   filter  \\\n",
       "0   TCGA25131901A01R156513       (0, Any, 5)            (0, 1)  0A501GA   \n",
       "1   TCGA25131901A01R156513       (0, Any, 1)           (3, 10)  0A13XGA   \n",
       "2   TCGA25131901A01R156513    (0, Any, None)           (1, 10)  0AN1XGA   \n",
       "3   TCGA25131901A01R156513    (0, Any, None)            (3, 2)  0AN32GA   \n",
       "4   TCGA25131901A01R156513         (0, 2, 5)          (3, Any)  0253AGA   \n",
       "..                     ...               ...               ...      ...   \n",
       "30  TCGA24229801A01R156913       (0, Any, 1)          (3, Any)  0A13AGA   \n",
       "31  TCGA24229801A01R156913       (0, Any, 1)           (1, 10)  0A11XGA   \n",
       "32  TCGA24229801A01R156913         (0, 2, 1)          (3, Any)  0213AGA   \n",
       "33  TCGA24229801A01R156913       (0, Any, 5)            (1, 2)  0A512GA   \n",
       "34  TCGA24229801A01R156913       (0, Any, 5)          (1, Any)  0A51AGA   \n",
       "\n",
       "    size_ohsu  size_eth  size_intersection  size_ohsu\\eth  size_eth\\ohsu  \\\n",
       "0       88503     41552              22489          66014          19063   \n",
       "1      241287     74182              43569         197718          30613   \n",
       "2      349426     53930              33059         316367          20871   \n",
       "3      375160     63803              38896         336264          24907   \n",
       "4       38262     32447              14184          24078          18263   \n",
       "..        ...       ...                ...            ...            ...   \n",
       "30     301037    103008              56548         244489          46460   \n",
       "31     236507     70496              39962         196545          30534   \n",
       "32     110291     82457              33084          77207          49373   \n",
       "33     112657     55806              28778          83879          27028   \n",
       "34     113157     55977              28886          84271          27091   \n",
       "\n",
       "                                      eth_kmers\\inter  ... size_eth_coor  \\\n",
       "0   [YAFPPSELH, PQGRAGPGP, GMVPSPGGR, LLGASATAG, L...  ...          5482   \n",
       "1   [KSHWAGPPG, TIRTGSNPK, GATEKGLWS, HECGDGLYE, S...  ...          9802   \n",
       "2   [KSHWAGPPG, GATEKGLWS, SAAAWTPWS, ATSTAADPE, K...  ...          7296   \n",
       "3   [KSHWAGPPG, GATEKGLWS, SAAAWTPWS, ATSTAADPE, K...  ...          8513   \n",
       "4   [QERKFLPDH, PQGRAGPGP, LLGASATAG, GMVPSPGGR, Y...  ...          3866   \n",
       "..                                                ...  ...           ...   \n",
       "30  [PPSTSPCWS, FLRPRLGRQ, LKKKRQVLL, RRSSVGPSA, G...  ...         13627   \n",
       "31  [PPSTSPCWS, RRSSVGPSA, GATEKGLWS, ATSTAADPE, A...  ...          9437   \n",
       "32  [PPSTSPCWS, FLRPRLGRQ, WYMAGLPGA, LKKKRQVLL, Q...  ...         10578   \n",
       "33  [PPSTSPCWS, DPFDRRGVR, GATEKGLWS, ATSTAADPE, A...  ...          7264   \n",
       "34  [PPSTSPCWS, DPFDRRGVR, GATEKGLWS, ATSTAADPE, A...  ...          7286   \n",
       "\n",
       "   size_intersection_coor size_ohsu\\eth_coor  size_eth\\ohsu_coor  \\\n",
       "0                    3976               8922                1506   \n",
       "1                    7725              27514                2077   \n",
       "2                    5695              44821                1601   \n",
       "3                    6747              47531                1766   \n",
       "4                    2698               2923                1168   \n",
       "..                    ...                ...                 ...   \n",
       "30                  10170              34575                3457   \n",
       "31                   7016              27769                2421   \n",
       "32                   6165              10366                4413   \n",
       "33                   5170              11456                2094   \n",
       "34                   5191              11507                2095   \n",
       "\n",
       "                                  eth_coor\\inter_coor  \\\n",
       "0   [47379744:47379821, 75559410:75563015:75563028...   \n",
       "1   [216661998:216664092:216664107:216664158, 7555...   \n",
       "2   [75559410:75563015:75563028:75563083, 36970663...   \n",
       "3   [216661998:216664092:216664107:216664158, 7555...   \n",
       "4   [216661998:216664092:216664107:216664158, 6534...   \n",
       "..                                                ...   \n",
       "30  [44813591:44814251:44814275:44818557, 52233611...   \n",
       "31  [52233611:52243116:52243137:52248663, 7869544:...   \n",
       "32  [67489376:67489410, 209728:209829, 44758279:44...   \n",
       "33  [143562675:143562798, 11447473:11448563, 52233...   \n",
       "34  [143562675:143562798, 11447473:11448563, 52233...   \n",
       "\n",
       "                                 ohsu_coor\\inter_coor  \\\n",
       "0   [72003971:72004646, 123146225:123150302, 15166...   \n",
       "1   [56960812:56960880, 151662083:151673189, 44635...   \n",
       "2   [31636776:31636859, 56960812:56960880, 1516620...   \n",
       "3   [31636776:31636859, 56960812:56960880, 1516620...   \n",
       "4   [123146225:123150302, 156009596:156011865, 151...   \n",
       "..                                                ...   \n",
       "30  [54345504:54348024, 201381517:201389288, 14331...   \n",
       "31  [54345504:54348024, 201381517:201389288, 14331...   \n",
       "32  [50191478:50192507, 201381517:201389288, 80837...   \n",
       "33  [50191478:50192507, 54345504:54348024, 2013815...   \n",
       "34  [50191478:50192507, 54345504:54348024, 2013815...   \n",
       "\n",
       "                                           inter_coor  \\\n",
       "0   [3129832:3129907, 36684275:36684480, 33053549:...   \n",
       "1   [6537386:6537747, 77118256:77118309, 36684275:...   \n",
       "2   [6537386:6537747, 36684275:36684480, 47379744:...   \n",
       "3   [6537386:6537747, 36684275:36684480, 47379744:...   \n",
       "4   [6537386:6537747, 71819484:71819788, 36684275:...   \n",
       "..                                                ...   \n",
       "30  [6537386:6537747, 154366446:154366792, 6730481...   \n",
       "31  [6537386:6537747, 67304812:67304932, 36684275:...   \n",
       "32  [6537386:6537747, 154366446:154366792, 3668427...   \n",
       "33  [6537386:6537747, 36684275:36684480, 209728:20...   \n",
       "34  [6537386:6537747, 36684275:36684480, 209728:20...   \n",
       "\n",
       "                                   eth_coor\\ohsu_coor  \\\n",
       "0   [47379744:47379821, 75559410:75563015:75563028...   \n",
       "1   [216661998:216664092:216664107:216664158, 7555...   \n",
       "2   [75559410:75563015:75563028:75563083, 36970663...   \n",
       "3   [216661998:216664092:216664107:216664158, 7555...   \n",
       "4   [216661998:216664092:216664107:216664158, 6534...   \n",
       "..                                                ...   \n",
       "30  [44813591:44814251:44814275:44818557, 52233611...   \n",
       "31  [52233611:52243116:52243137:52248663, 7869544:...   \n",
       "32  [67489376:67489410, 209728:209829, 44758279:44...   \n",
       "33  [143562675:143562798, 11447473:11448563, 52233...   \n",
       "34  [143562675:143562798, 11447473:11448563, 52233...   \n",
       "\n",
       "                                   ohsu_coor\\eth_coor priority  \n",
       "0   [123146225:123150302, 72003971:72004646, 15166...      NaN  \n",
       "1   [67663749:67664554, 25975146:26000159, 5696081...      1.0  \n",
       "2   [31636776:31636859, 56960812:56960880, 1516620...      1.0  \n",
       "3   [31636776:31636859, 56960812:56960880, 1516620...      2.0  \n",
       "4   [123146225:123150302, 156009596:156011865, 151...      0.0  \n",
       "..                                                ...      ...  \n",
       "30  [54345504:54348024, 201381517:201389288, 14331...      0.0  \n",
       "31  [54345504:54348024, 55668695:55674372, 2013815...      1.0  \n",
       "32  [50191478:50192507, 201381517:201389288, 80837...      0.0  \n",
       "33  [50191478:50192507, 54345504:54348024, 2013815...      2.0  \n",
       "34  [50191478:50192507, 54345504:54348024, 2013815...      0.0  \n",
       "\n",
       "[175 rows x 24 columns]"
      ]
     },
     "execution_count": 5,
     "metadata": {},
     "output_type": "execute_result"
    }
   ],
   "source": [
    "out_df_filtered"
   ]
  },
  {
   "cell_type": "code",
   "execution_count": 6,
   "id": "8fb50131",
   "metadata": {},
   "outputs": [],
   "source": [
    "path_non_filtering=create_path.create_path(SAVE_DIR,[DIR_CSV,DIR_OVARIAN,NAME_TABLES,NAME_NON_FILTERING_OVARIAN])"
   ]
  },
  {
   "cell_type": "code",
   "execution_count": 7,
   "id": "1d57e8c7-0e70-4f9d-aa02-5582bd5199d4",
   "metadata": {},
   "outputs": [
    {
     "ename": "FileNotFoundError",
     "evalue": "[Errno 2] No such file or directory: '/cluster/work/grlab/projects/projects2020_OHSU/peptides_generation/202301_myurchikova_MT/DATA/OVARIAN/TABLES/out_df_non_filtering_OVARIAN.csv'",
     "output_type": "error",
     "traceback": [
      "\u001b[0;31m---------------------------------------------------------------------------\u001b[0m",
      "\u001b[0;31mFileNotFoundError\u001b[0m                         Traceback (most recent call last)",
      "Cell \u001b[0;32mIn[7], line 1\u001b[0m\n\u001b[0;32m----> 1\u001b[0m out_df_original \u001b[38;5;241m=\u001b[39m \u001b[43mpd\u001b[49m\u001b[38;5;241;43m.\u001b[39;49m\u001b[43mread_csv\u001b[49m\u001b[43m(\u001b[49m\u001b[38;5;124;43mf\u001b[39;49m\u001b[38;5;124;43m'\u001b[39;49m\u001b[38;5;132;43;01m{\u001b[39;49;00m\u001b[43mSAVE_DIR\u001b[49m\u001b[38;5;132;43;01m}\u001b[39;49;00m\u001b[38;5;124;43m/\u001b[39;49m\u001b[38;5;132;43;01m{\u001b[39;49;00m\u001b[43mDIR_CSV\u001b[49m\u001b[38;5;132;43;01m}\u001b[39;49;00m\u001b[38;5;124;43m/\u001b[39;49m\u001b[38;5;132;43;01m{\u001b[39;49;00m\u001b[43mDIR_OVARIAN\u001b[49m\u001b[38;5;132;43;01m}\u001b[39;49;00m\u001b[38;5;124;43m/\u001b[39;49m\u001b[38;5;132;43;01m{\u001b[39;49;00m\u001b[43mNAME_TABLES\u001b[49m\u001b[38;5;132;43;01m}\u001b[39;49;00m\u001b[38;5;124;43m/\u001b[39;49m\u001b[38;5;132;43;01m{\u001b[39;49;00m\u001b[43mNAME_NON_FILTERING_OVARIAN\u001b[49m\u001b[38;5;132;43;01m}\u001b[39;49;00m\u001b[38;5;124;43m'\u001b[39;49m\u001b[43m,\u001b[49m\u001b[43m \u001b[49m\u001b[43msep\u001b[49m\u001b[38;5;241;43m=\u001b[39;49m\u001b[38;5;124;43m\"\u001b[39;49m\u001b[38;5;130;43;01m\\t\u001b[39;49;00m\u001b[38;5;124;43m\"\u001b[39;49m\u001b[43m)\u001b[49m\n",
      "File \u001b[0;32m/cvmfs/soft.computecanada.ca/easybuild/software/2020/avx2/Core/scipy-stack/2023b/lib/python3.10/site-packages/pandas/io/parsers/readers.py:948\u001b[0m, in \u001b[0;36mread_csv\u001b[0;34m(filepath_or_buffer, sep, delimiter, header, names, index_col, usecols, dtype, engine, converters, true_values, false_values, skipinitialspace, skiprows, skipfooter, nrows, na_values, keep_default_na, na_filter, verbose, skip_blank_lines, parse_dates, infer_datetime_format, keep_date_col, date_parser, date_format, dayfirst, cache_dates, iterator, chunksize, compression, thousands, decimal, lineterminator, quotechar, quoting, doublequote, escapechar, comment, encoding, encoding_errors, dialect, on_bad_lines, delim_whitespace, low_memory, memory_map, float_precision, storage_options, dtype_backend)\u001b[0m\n\u001b[1;32m    935\u001b[0m kwds_defaults \u001b[38;5;241m=\u001b[39m _refine_defaults_read(\n\u001b[1;32m    936\u001b[0m     dialect,\n\u001b[1;32m    937\u001b[0m     delimiter,\n\u001b[0;32m   (...)\u001b[0m\n\u001b[1;32m    944\u001b[0m     dtype_backend\u001b[38;5;241m=\u001b[39mdtype_backend,\n\u001b[1;32m    945\u001b[0m )\n\u001b[1;32m    946\u001b[0m kwds\u001b[38;5;241m.\u001b[39mupdate(kwds_defaults)\n\u001b[0;32m--> 948\u001b[0m \u001b[38;5;28;01mreturn\u001b[39;00m \u001b[43m_read\u001b[49m\u001b[43m(\u001b[49m\u001b[43mfilepath_or_buffer\u001b[49m\u001b[43m,\u001b[49m\u001b[43m \u001b[49m\u001b[43mkwds\u001b[49m\u001b[43m)\u001b[49m\n",
      "File \u001b[0;32m/cvmfs/soft.computecanada.ca/easybuild/software/2020/avx2/Core/scipy-stack/2023b/lib/python3.10/site-packages/pandas/io/parsers/readers.py:611\u001b[0m, in \u001b[0;36m_read\u001b[0;34m(filepath_or_buffer, kwds)\u001b[0m\n\u001b[1;32m    608\u001b[0m _validate_names(kwds\u001b[38;5;241m.\u001b[39mget(\u001b[38;5;124m\"\u001b[39m\u001b[38;5;124mnames\u001b[39m\u001b[38;5;124m\"\u001b[39m, \u001b[38;5;28;01mNone\u001b[39;00m))\n\u001b[1;32m    610\u001b[0m \u001b[38;5;66;03m# Create the parser.\u001b[39;00m\n\u001b[0;32m--> 611\u001b[0m parser \u001b[38;5;241m=\u001b[39m \u001b[43mTextFileReader\u001b[49m\u001b[43m(\u001b[49m\u001b[43mfilepath_or_buffer\u001b[49m\u001b[43m,\u001b[49m\u001b[43m \u001b[49m\u001b[38;5;241;43m*\u001b[39;49m\u001b[38;5;241;43m*\u001b[39;49m\u001b[43mkwds\u001b[49m\u001b[43m)\u001b[49m\n\u001b[1;32m    613\u001b[0m \u001b[38;5;28;01mif\u001b[39;00m chunksize \u001b[38;5;129;01mor\u001b[39;00m iterator:\n\u001b[1;32m    614\u001b[0m     \u001b[38;5;28;01mreturn\u001b[39;00m parser\n",
      "File \u001b[0;32m/cvmfs/soft.computecanada.ca/easybuild/software/2020/avx2/Core/scipy-stack/2023b/lib/python3.10/site-packages/pandas/io/parsers/readers.py:1448\u001b[0m, in \u001b[0;36mTextFileReader.__init__\u001b[0;34m(self, f, engine, **kwds)\u001b[0m\n\u001b[1;32m   1445\u001b[0m     \u001b[38;5;28mself\u001b[39m\u001b[38;5;241m.\u001b[39moptions[\u001b[38;5;124m\"\u001b[39m\u001b[38;5;124mhas_index_names\u001b[39m\u001b[38;5;124m\"\u001b[39m] \u001b[38;5;241m=\u001b[39m kwds[\u001b[38;5;124m\"\u001b[39m\u001b[38;5;124mhas_index_names\u001b[39m\u001b[38;5;124m\"\u001b[39m]\n\u001b[1;32m   1447\u001b[0m \u001b[38;5;28mself\u001b[39m\u001b[38;5;241m.\u001b[39mhandles: IOHandles \u001b[38;5;241m|\u001b[39m \u001b[38;5;28;01mNone\u001b[39;00m \u001b[38;5;241m=\u001b[39m \u001b[38;5;28;01mNone\u001b[39;00m\n\u001b[0;32m-> 1448\u001b[0m \u001b[38;5;28mself\u001b[39m\u001b[38;5;241m.\u001b[39m_engine \u001b[38;5;241m=\u001b[39m \u001b[38;5;28;43mself\u001b[39;49m\u001b[38;5;241;43m.\u001b[39;49m\u001b[43m_make_engine\u001b[49m\u001b[43m(\u001b[49m\u001b[43mf\u001b[49m\u001b[43m,\u001b[49m\u001b[43m \u001b[49m\u001b[38;5;28;43mself\u001b[39;49m\u001b[38;5;241;43m.\u001b[39;49m\u001b[43mengine\u001b[49m\u001b[43m)\u001b[49m\n",
      "File \u001b[0;32m/cvmfs/soft.computecanada.ca/easybuild/software/2020/avx2/Core/scipy-stack/2023b/lib/python3.10/site-packages/pandas/io/parsers/readers.py:1705\u001b[0m, in \u001b[0;36mTextFileReader._make_engine\u001b[0;34m(self, f, engine)\u001b[0m\n\u001b[1;32m   1703\u001b[0m     \u001b[38;5;28;01mif\u001b[39;00m \u001b[38;5;124m\"\u001b[39m\u001b[38;5;124mb\u001b[39m\u001b[38;5;124m\"\u001b[39m \u001b[38;5;129;01mnot\u001b[39;00m \u001b[38;5;129;01min\u001b[39;00m mode:\n\u001b[1;32m   1704\u001b[0m         mode \u001b[38;5;241m+\u001b[39m\u001b[38;5;241m=\u001b[39m \u001b[38;5;124m\"\u001b[39m\u001b[38;5;124mb\u001b[39m\u001b[38;5;124m\"\u001b[39m\n\u001b[0;32m-> 1705\u001b[0m \u001b[38;5;28mself\u001b[39m\u001b[38;5;241m.\u001b[39mhandles \u001b[38;5;241m=\u001b[39m \u001b[43mget_handle\u001b[49m\u001b[43m(\u001b[49m\n\u001b[1;32m   1706\u001b[0m \u001b[43m    \u001b[49m\u001b[43mf\u001b[49m\u001b[43m,\u001b[49m\n\u001b[1;32m   1707\u001b[0m \u001b[43m    \u001b[49m\u001b[43mmode\u001b[49m\u001b[43m,\u001b[49m\n\u001b[1;32m   1708\u001b[0m \u001b[43m    \u001b[49m\u001b[43mencoding\u001b[49m\u001b[38;5;241;43m=\u001b[39;49m\u001b[38;5;28;43mself\u001b[39;49m\u001b[38;5;241;43m.\u001b[39;49m\u001b[43moptions\u001b[49m\u001b[38;5;241;43m.\u001b[39;49m\u001b[43mget\u001b[49m\u001b[43m(\u001b[49m\u001b[38;5;124;43m\"\u001b[39;49m\u001b[38;5;124;43mencoding\u001b[39;49m\u001b[38;5;124;43m\"\u001b[39;49m\u001b[43m,\u001b[49m\u001b[43m \u001b[49m\u001b[38;5;28;43;01mNone\u001b[39;49;00m\u001b[43m)\u001b[49m\u001b[43m,\u001b[49m\n\u001b[1;32m   1709\u001b[0m \u001b[43m    \u001b[49m\u001b[43mcompression\u001b[49m\u001b[38;5;241;43m=\u001b[39;49m\u001b[38;5;28;43mself\u001b[39;49m\u001b[38;5;241;43m.\u001b[39;49m\u001b[43moptions\u001b[49m\u001b[38;5;241;43m.\u001b[39;49m\u001b[43mget\u001b[49m\u001b[43m(\u001b[49m\u001b[38;5;124;43m\"\u001b[39;49m\u001b[38;5;124;43mcompression\u001b[39;49m\u001b[38;5;124;43m\"\u001b[39;49m\u001b[43m,\u001b[49m\u001b[43m \u001b[49m\u001b[38;5;28;43;01mNone\u001b[39;49;00m\u001b[43m)\u001b[49m\u001b[43m,\u001b[49m\n\u001b[1;32m   1710\u001b[0m \u001b[43m    \u001b[49m\u001b[43mmemory_map\u001b[49m\u001b[38;5;241;43m=\u001b[39;49m\u001b[38;5;28;43mself\u001b[39;49m\u001b[38;5;241;43m.\u001b[39;49m\u001b[43moptions\u001b[49m\u001b[38;5;241;43m.\u001b[39;49m\u001b[43mget\u001b[49m\u001b[43m(\u001b[49m\u001b[38;5;124;43m\"\u001b[39;49m\u001b[38;5;124;43mmemory_map\u001b[39;49m\u001b[38;5;124;43m\"\u001b[39;49m\u001b[43m,\u001b[49m\u001b[43m \u001b[49m\u001b[38;5;28;43;01mFalse\u001b[39;49;00m\u001b[43m)\u001b[49m\u001b[43m,\u001b[49m\n\u001b[1;32m   1711\u001b[0m \u001b[43m    \u001b[49m\u001b[43mis_text\u001b[49m\u001b[38;5;241;43m=\u001b[39;49m\u001b[43mis_text\u001b[49m\u001b[43m,\u001b[49m\n\u001b[1;32m   1712\u001b[0m \u001b[43m    \u001b[49m\u001b[43merrors\u001b[49m\u001b[38;5;241;43m=\u001b[39;49m\u001b[38;5;28;43mself\u001b[39;49m\u001b[38;5;241;43m.\u001b[39;49m\u001b[43moptions\u001b[49m\u001b[38;5;241;43m.\u001b[39;49m\u001b[43mget\u001b[49m\u001b[43m(\u001b[49m\u001b[38;5;124;43m\"\u001b[39;49m\u001b[38;5;124;43mencoding_errors\u001b[39;49m\u001b[38;5;124;43m\"\u001b[39;49m\u001b[43m,\u001b[49m\u001b[43m \u001b[49m\u001b[38;5;124;43m\"\u001b[39;49m\u001b[38;5;124;43mstrict\u001b[39;49m\u001b[38;5;124;43m\"\u001b[39;49m\u001b[43m)\u001b[49m\u001b[43m,\u001b[49m\n\u001b[1;32m   1713\u001b[0m \u001b[43m    \u001b[49m\u001b[43mstorage_options\u001b[49m\u001b[38;5;241;43m=\u001b[39;49m\u001b[38;5;28;43mself\u001b[39;49m\u001b[38;5;241;43m.\u001b[39;49m\u001b[43moptions\u001b[49m\u001b[38;5;241;43m.\u001b[39;49m\u001b[43mget\u001b[49m\u001b[43m(\u001b[49m\u001b[38;5;124;43m\"\u001b[39;49m\u001b[38;5;124;43mstorage_options\u001b[39;49m\u001b[38;5;124;43m\"\u001b[39;49m\u001b[43m,\u001b[49m\u001b[43m \u001b[49m\u001b[38;5;28;43;01mNone\u001b[39;49;00m\u001b[43m)\u001b[49m\u001b[43m,\u001b[49m\n\u001b[1;32m   1714\u001b[0m \u001b[43m\u001b[49m\u001b[43m)\u001b[49m\n\u001b[1;32m   1715\u001b[0m \u001b[38;5;28;01massert\u001b[39;00m \u001b[38;5;28mself\u001b[39m\u001b[38;5;241m.\u001b[39mhandles \u001b[38;5;129;01mis\u001b[39;00m \u001b[38;5;129;01mnot\u001b[39;00m \u001b[38;5;28;01mNone\u001b[39;00m\n\u001b[1;32m   1716\u001b[0m f \u001b[38;5;241m=\u001b[39m \u001b[38;5;28mself\u001b[39m\u001b[38;5;241m.\u001b[39mhandles\u001b[38;5;241m.\u001b[39mhandle\n",
      "File \u001b[0;32m/cvmfs/soft.computecanada.ca/easybuild/software/2020/avx2/Core/scipy-stack/2023b/lib/python3.10/site-packages/pandas/io/common.py:863\u001b[0m, in \u001b[0;36mget_handle\u001b[0;34m(path_or_buf, mode, encoding, compression, memory_map, is_text, errors, storage_options)\u001b[0m\n\u001b[1;32m    858\u001b[0m \u001b[38;5;28;01melif\u001b[39;00m \u001b[38;5;28misinstance\u001b[39m(handle, \u001b[38;5;28mstr\u001b[39m):\n\u001b[1;32m    859\u001b[0m     \u001b[38;5;66;03m# Check whether the filename is to be opened in binary mode.\u001b[39;00m\n\u001b[1;32m    860\u001b[0m     \u001b[38;5;66;03m# Binary mode does not support 'encoding' and 'newline'.\u001b[39;00m\n\u001b[1;32m    861\u001b[0m     \u001b[38;5;28;01mif\u001b[39;00m ioargs\u001b[38;5;241m.\u001b[39mencoding \u001b[38;5;129;01mand\u001b[39;00m \u001b[38;5;124m\"\u001b[39m\u001b[38;5;124mb\u001b[39m\u001b[38;5;124m\"\u001b[39m \u001b[38;5;129;01mnot\u001b[39;00m \u001b[38;5;129;01min\u001b[39;00m ioargs\u001b[38;5;241m.\u001b[39mmode:\n\u001b[1;32m    862\u001b[0m         \u001b[38;5;66;03m# Encoding\u001b[39;00m\n\u001b[0;32m--> 863\u001b[0m         handle \u001b[38;5;241m=\u001b[39m \u001b[38;5;28;43mopen\u001b[39;49m\u001b[43m(\u001b[49m\n\u001b[1;32m    864\u001b[0m \u001b[43m            \u001b[49m\u001b[43mhandle\u001b[49m\u001b[43m,\u001b[49m\n\u001b[1;32m    865\u001b[0m \u001b[43m            \u001b[49m\u001b[43mioargs\u001b[49m\u001b[38;5;241;43m.\u001b[39;49m\u001b[43mmode\u001b[49m\u001b[43m,\u001b[49m\n\u001b[1;32m    866\u001b[0m \u001b[43m            \u001b[49m\u001b[43mencoding\u001b[49m\u001b[38;5;241;43m=\u001b[39;49m\u001b[43mioargs\u001b[49m\u001b[38;5;241;43m.\u001b[39;49m\u001b[43mencoding\u001b[49m\u001b[43m,\u001b[49m\n\u001b[1;32m    867\u001b[0m \u001b[43m            \u001b[49m\u001b[43merrors\u001b[49m\u001b[38;5;241;43m=\u001b[39;49m\u001b[43merrors\u001b[49m\u001b[43m,\u001b[49m\n\u001b[1;32m    868\u001b[0m \u001b[43m            \u001b[49m\u001b[43mnewline\u001b[49m\u001b[38;5;241;43m=\u001b[39;49m\u001b[38;5;124;43m\"\u001b[39;49m\u001b[38;5;124;43m\"\u001b[39;49m\u001b[43m,\u001b[49m\n\u001b[1;32m    869\u001b[0m \u001b[43m        \u001b[49m\u001b[43m)\u001b[49m\n\u001b[1;32m    870\u001b[0m     \u001b[38;5;28;01melse\u001b[39;00m:\n\u001b[1;32m    871\u001b[0m         \u001b[38;5;66;03m# Binary mode\u001b[39;00m\n\u001b[1;32m    872\u001b[0m         handle \u001b[38;5;241m=\u001b[39m \u001b[38;5;28mopen\u001b[39m(handle, ioargs\u001b[38;5;241m.\u001b[39mmode)\n",
      "\u001b[0;31mFileNotFoundError\u001b[0m: [Errno 2] No such file or directory: '/cluster/work/grlab/projects/projects2020_OHSU/peptides_generation/202301_myurchikova_MT/DATA/OVARIAN/TABLES/out_df_non_filtering_OVARIAN.csv'"
     ]
    }
   ],
   "source": [
    "out_df_original = pd.read_csv(f'{SAVE_DIR}/{DIR_CSV}/{DIR_OVARIAN}/{NAME_TABLES}/{NAME_NON_FILTERING_OVARIAN}', sep=\"\\t\")"
   ]
  },
  {
   "cell_type": "code",
   "execution_count": null,
   "id": "20cf6c2e",
   "metadata": {},
   "outputs": [],
   "source": [
    "task_df={\n",
    "    'sample':[],\n",
    "    'filter':[],\n",
    "    'kmer_eth/inter (filtered)':[],\n",
    "    'kmer_eth (before filtering)':[],\n",
    "    'kmer_inter (before filtering)':[],\n",
    "}\n",
    "for index, row in out_df_filtered.iterrows():\n",
    "    for kmer in row['eth_kmers\\inter']:\n",
    "        task_df['sample'].append(sample:=row['sample'])\n",
    "        task_df['filter'].append(row['filter_foreground']+'  '+row['filter_background'])\n",
    "        task_df['kmer_eth/inter (filtered)'].append(kmer)\n",
    "        udo_inter=list(out_df_original['kmer_inter'].loc[(out_df_original['sample']==sample)])\n",
    "        udo_eth=list(out_df_original['kmer_eth'].loc[(out_df_original['sample']==sample)])\n",
    "        task_df['kmer_eth (before filtering)'].append(1) if kmer in udo_eth[0] else task_df['kmer_eth (before filtering)'].append(0)\n",
    "        task_df['kmer_inter (before filtering)'].append(1) if kmer in udo_inter[0] else task_df['kmer_inter (before filtering)'].append(0)\n",
    "\n",
    "df_eth_task=pd.DataFrame(task_df)"
   ]
  },
  {
   "cell_type": "code",
   "execution_count": null,
   "id": "3b4eaf59",
   "metadata": {},
   "outputs": [],
   "source": [
    "task_ohsu_df={\n",
    "    'sample':[],\n",
    "    'filter':[],\n",
    "    'kmer_ohsu/inter (filtered)':[],\n",
    "    'kmer_ohsu (before filtering)':[],\n",
    "    'kmer_inter (before filtering)':[],\n",
    "}\n",
    "for index, row in out_df_filtered.iterrows():\n",
    "    for kmer in row['ohsu_kmers\\inter']:\n",
    "        task_ohsu_df['sample'].append(sample:=row['sample'])\n",
    "        task_ohsu_df['filter'].append(row['filter_foreground']+'  '+row['filter_background'])\n",
    "        task_ohsu_df['kmer_ohsu/inter (filtered)'].append(kmer)\n",
    "        udo_inter=list(out_df_original['kmer_inter'].loc[(out_df_original['sample']==sample)])[0]\n",
    "        udo_ohsu=list(out_df_original['kmer_ohsu'].loc[(out_df_original['sample']==sample)])[0]\n",
    "        task_ohsu_df['kmer_ohsu (before filtering)'].append(1) if kmer in udo_ohsu else task_ohsu_df['kmer_ohsu (before filtering)'].append(0)\n",
    "        task_ohsu_df['kmer_inter (before filtering)'].append(1) if kmer in udo_inter else task_ohsu_df['kmer_inter (before filtering)'].append(0)\n",
    "df_ohsu_task=pd.DataFrame(task_ohsu_df)"
   ]
  },
  {
   "cell_type": "code",
   "execution_count": 8,
   "id": "55eb175c",
   "metadata": {},
   "outputs": [],
   "source": [
    "# name_original='NON_filtering.csv'\n",
    "# name_filtering='out_df_filtering.csv'\n",
    "# name_ETH_task='ETH_task.csv'\n",
    "# name_OSHU_task='OHSU_task.csv'\n",
    "path_filtering=create_path.create_path(SAVE_DIR,[DIR_CSV,DIR_OVARIAN,NAME_TABLES,NAME_FILTERING_OVARIAN])\n",
    "path_ETH=create_path.create_path(SAVE_DIR,[DIR_CSV,DIR_OVARIAN,NAME_TABLES,NAME_ETH_TASK_OVARIAN])\n",
    "path_OHSU=create_path.create_path(SAVE_DIR,[DIR_CSV,DIR_OVARIAN,NAME_TABLES,NAME_OHSU_TASK_OVARIAN])\n",
    "# path_original=os.path.join(path_data,name_original) \n",
    "# path_filtering=os.path.join(path_data,name_filtering)\n",
    "# path_ETH=os.path.join(path_data,name_ETH_task)\n",
    "# path_OHSU=os.path.join(path_data,name_OSHU_task)\n",
    "\n",
    "# out_df_original.to_csv(path_original,header=True,sep=';')\n",
    "out_df_filtered.to_csv(path_filtering,header=True,sep=';')\n",
    "# df_eth_task.to_csv(path_ETH,header=True,sep=';')\n",
    "# df_ohsu_task.to_csv(path_OHSU,header=True,sep=';')"
   ]
  },
  {
   "cell_type": "code",
   "execution_count": null,
   "id": "857eed71",
   "metadata": {},
   "outputs": [],
   "source": [
    "import random\n",
    "pwd = '/cluster/home/myurchikova/github/projects2020_ohsu/eth/learning_Master_thesis/'\n",
    "directory_csv='DATA'\n",
    "# path_data =os.path.join(pwd,directory_csv)\n",
    "# if not os.path.exists(path_data):\n",
    "#         os.mkdir(path_data)\n",
    "        \n",
    "\n",
    "out_df_original.rename(columns={'inter':'size_intersection'},inplace=True)\n",
    "\n",
    "first_df=out_df_filtered[['sample','size_intersection']]\n",
    "second_df=out_df_original[['sample','size_intersection']]\n",
    "\n",
    "final_df = pd.concat([first_df,second_df])\n",
    "for sample in restricts:\n",
    "    col=list(final_df['size_intersection'].loc[(final_df['sample']==sample)])\n",
    "    patch = list(out_df_filtered['filter'].loc[(out_df_filtered['sample']==sample)])[::-1]+['non-filtered']\n",
    "\n",
    "    #print(col)\n",
    "    #print(len(col))\n",
    "    groups =[f\"{i}\" for i in range(1,len(col)+1)]\n",
    "    colors = ['grey','maroon','red','salmon','orange','yellow','lime','green','olive','lightblue','blue','indigo','violet', 'crimson','hotpink']\n",
    "    c = random.choices(colors[10::],k=groups.__len__()+1)\n",
    "    #print(colors)\n",
    "    #print(col)\n",
    "    #print(len(col))\n",
    "    col=[np.log(u) for u in col] \n",
    "    col.sort()\n",
    "    # patches =[mpatches.Patch(color=colors[idx], label=f'{idx+1} - {i}') for idx,i in enumerate(patch[::-1])]\n",
    "\n",
    "    plt.figure(figsize=(16, 6))\n",
    "    # legend = plt.legend(handles=patches,loc='upper left', bbox_to_anchor=(1.05, 1), fontsize='large')\n",
    "    plt.bar(groups,col[::-1],color=colors[:groups.__len__()+1])\n",
    "    plt.subplots_adjust(right=0.65)\n",
    "    plt.title(sample)\n",
    "    plt.ylabel('log(e, number) = count of kmers in intersection')\n",
    "    plt.xlabel('Filters')\n",
    "    # path_sample =os.path.join(path_data,sample)\n",
    "    # if not os.path.exists(path_sample):\n",
    "    #     os.mkdir(path_sample)\n",
    "    # plt.savefig(f'{path_sample}/Pretty Ploting.png', dpi=300, bbox_extra_artists=(legend,), bbox_inches='tight')\n",
    "    # plt.close()"
   ]
  },
  {
   "cell_type": "code",
   "execution_count": null,
   "id": "f1b7f8d1",
   "metadata": {},
   "outputs": [],
   "source": []
  }
 ],
 "metadata": {
  "kernelspec": {
   "display_name": "Python 3 (ipykernel)",
   "language": "python",
   "name": "python3"
  },
  "language_info": {
   "codemirror_mode": {
    "name": "ipython",
    "version": 3
   },
   "file_extension": ".py",
   "mimetype": "text/x-python",
   "name": "python",
   "nbconvert_exporter": "python",
   "pygments_lexer": "ipython3",
   "version": "3.10.12"
  }
 },
 "nbformat": 4,
 "nbformat_minor": 5
}
