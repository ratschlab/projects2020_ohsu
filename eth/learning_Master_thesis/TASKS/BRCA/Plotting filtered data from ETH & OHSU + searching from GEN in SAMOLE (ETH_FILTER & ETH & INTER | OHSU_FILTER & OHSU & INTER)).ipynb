{
 "cells": [
  {
   "cell_type": "code",
   "execution_count": 1,
   "id": "9a9429e9",
   "metadata": {},
   "outputs": [],
   "source": [
    "# %load /cluster/home/myurchikova/github/projects2020_ohsu/eth/learning_Master_thesis/TASKS/func/base_imports.py\n",
    "import pandas as pd\n",
    "import numpy as np\n",
    "import tqdm \n",
    "import glob\n",
    "import os\n",
    "import matplotlib\n",
    "import matplotlib.pyplot as plt\n",
    "import seaborn as sns\n",
    "import tarfile\n",
    "import re\n",
    "from matplotlib_venn import venn2, venn2_circles, venn2_unweighted\n",
    "from matplotlib_venn import venn3, venn3_circles\n",
    "import sys\n",
    "sys.path.append(r\"/cluster/home/myurchikova/github/projects2020_ohsu/eth/learning_Master_thesis/TASKS/func\")\n",
    "from config import *\n",
    "from functions import *"
   ]
  },
  {
   "cell_type": "code",
   "execution_count": 3,
   "id": "86944c54-867c-4526-871c-aaf10702aac1",
   "metadata": {},
   "outputs": [
    {
     "name": "stdout",
     "output_type": "stream",
     "text": [
      "J_TCGA-24-1431-01A-01R-1566-13_02101GA.tsv \n",
      "---------------------------------------------\n",
      "\n",
      "eth /cluster/work/grlab/projects/projects2020_OHSU/peptides_generation/CANCER_eth/commit_c4dd02c_conf2_Frame_cap0_runs/TCGA_Breast_1102/filtering_samples/filters_19May_order_5ge_wAnnot_GPstar/G_TCGA-A2-A0D2-01A-21R-A034-07_02501GA.tsv.gz \n",
      "---------------------------------------------\n",
      " ohsu J_TCGA-A2-A0D2-01A-21R-A034-07_02501GA.tsv\n",
      "eth /cluster/work/grlab/projects/projects2020_OHSU/peptides_generation/CANCER_eth/commit_c4dd02c_conf2_Frame_cap0_runs/TCGA_Breast_1102/filtering_samples/filters_19May_order_5ge_wAnnot_GPstar/G_TCGA-C8-A12P-01A-11R-A115-07_0A512GA.tsv.gz \n",
      "---------------------------------------------\n",
      " ohsu J_TCGA-C8-A12P-01A-11R-A115-07_0A512GA.tsv\n",
      "TCGAC8A12P01A11RA11507\n"
     ]
    },
    {
     "name": "stderr",
     "output_type": "stream",
     "text": [
      "46it [00:00, 6555.83it/s]\n"
     ]
    },
    {
     "name": "stdout",
     "output_type": "stream",
     "text": [
      "['J', 'TCGA-C8-A12P-01A-11R-A115-07', '0A512GA']\n",
      "['0', 'Any', '5', '1', '2']\n",
      "2\n",
      "11\n",
      "1\n",
      "3\n",
      "NEXT\n",
      "eth /cluster/work/grlab/projects/projects2020_OHSU/peptides_generation/CANCER_eth/commit_c4dd02c_conf2_Frame_cap0_runs/TCGA_Breast_1102/filtering_samples/filters_19May_order_5ge_wAnnot_GPstar/G_TCGA-A2-A0D2-01A-21R-A034-07_0A501GA.tsv.gz \n",
      "---------------------------------------------\n",
      " ohsu J_TCGA-A2-A0D2-01A-21R-A034-07_0A501GA.tsv\n",
      "eth /cluster/work/grlab/projects/projects2020_OHSU/peptides_generation/CANCER_eth/commit_c4dd02c_conf2_Frame_cap0_runs/TCGA_Breast_1102/filtering_samples/filters_19May_order_5ge_wAnnot_GPstar/G_TCGA-AO-A0JM-01A-21R-A056-07_0A11XGA.tsv.gz \n",
      "---------------------------------------------\n",
      " ohsu J_TCGA-AO-A0JM-01A-21R-A056-07_0A11XGA.tsv\n",
      "eth /cluster/work/grlab/projects/projects2020_OHSU/peptides_generation/CANCER_eth/commit_c4dd02c_conf2_Frame_cap0_runs/TCGA_Breast_1102/filtering_samples/filters_19May_order_5ge_wAnnot_GPstar/G_TCGA-A2-A0D2-01A-21R-A034-07_0251AGA.tsv.gz \n",
      "---------------------------------------------\n",
      " ohsu J_TCGA-A2-A0D2-01A-21R-A034-07_0251AGA.tsv\n",
      "eth /cluster/work/grlab/projects/projects2020_OHSU/peptides_generation/CANCER_eth/commit_c4dd02c_conf2_Frame_cap0_runs/TCGA_Breast_1102/filtering_samples/filters_19May_order_5ge_wAnnot_GPstar/G_TCGA-C8-A12P-01A-11R-A115-07_0AN1AGA.tsv.gz \n",
      "---------------------------------------------\n",
      " ohsu J_TCGA-C8-A12P-01A-11R-A115-07_0AN1AGA.tsv\n",
      "TCGAC8A12P01A11RA11507\n"
     ]
    },
    {
     "name": "stderr",
     "output_type": "stream",
     "text": [
      "207it [00:00, 6472.50it/s]\n"
     ]
    },
    {
     "name": "stdout",
     "output_type": "stream",
     "text": [
      "['J', 'TCGA-C8-A12P-01A-11R-A115-07', '0AN1AGA']\n",
      "['0', 'Any', 'None', '1', 'Any']\n",
      "0\n",
      "922\n",
      "5\n",
      "20\n",
      "NEXT\n",
      "eth /cluster/work/grlab/projects/projects2020_OHSU/peptides_generation/CANCER_eth/commit_c4dd02c_conf2_Frame_cap0_runs/TCGA_Breast_1102/filtering_samples/filters_19May_order_5ge_wAnnot_GPstar/G_TCGA-C8-A12P-01A-11R-A115-07_0A53AGA.tsv.gz \n",
      "---------------------------------------------\n",
      " ohsu J_TCGA-C8-A12P-01A-11R-A115-07_0A53AGA.tsv\n",
      "TCGAC8A12P01A11RA11507\n"
     ]
    },
    {
     "name": "stderr",
     "output_type": "stream",
     "text": [
      "272it [00:00, 6891.48it/s]\n"
     ]
    },
    {
     "name": "stdout",
     "output_type": "stream",
     "text": [
      "['J', 'TCGA-C8-A12P-01A-11R-A115-07', '0A53AGA']\n",
      "['0', 'Any', '5', '3', 'Any']\n",
      "0\n",
      "42\n",
      "2\n",
      "28\n",
      "NEXT\n",
      "eth /cluster/work/grlab/projects/projects2020_OHSU/peptides_generation/CANCER_eth/commit_c4dd02c_conf2_Frame_cap0_runs/TCGA_Breast_1102/filtering_samples/filters_19May_order_5ge_wAnnot_GPstar/G_TCGA-C8-A12P-01A-11R-A115-07_02112GA.tsv.gz \n",
      "---------------------------------------------\n",
      " ohsu J_TCGA-C8-A12P-01A-11R-A115-07_02112GA.tsv\n",
      "TCGAC8A12P01A11RA11507\n"
     ]
    },
    {
     "name": "stderr",
     "output_type": "stream",
     "text": [
      "118it [00:00, 6829.70it/s]\n"
     ]
    },
    {
     "name": "stdout",
     "output_type": "stream",
     "text": [
      "['J', 'TCGA-C8-A12P-01A-11R-A115-07', '02112GA']\n",
      "['0', '2', '1', '1', '2']\n",
      "2\n",
      "20\n",
      "10\n",
      "4\n",
      "NEXT\n",
      "eth /cluster/work/grlab/projects/projects2020_OHSU/peptides_generation/CANCER_eth/commit_c4dd02c_conf2_Frame_cap0_runs/TCGA_Breast_1102/filtering_samples/filters_19May_order_5ge_wAnnot_GPstar/G_TCGA-BH-A18V-01A-11R-A12D-07_02101GA.tsv.gz \n",
      "---------------------------------------------\n",
      " ohsu J_TCGA-BH-A18V-01A-11R-A12D-07_02101GA.tsv\n",
      "eth /cluster/work/grlab/projects/projects2020_OHSU/peptides_generation/CANCER_eth/commit_c4dd02c_conf2_Frame_cap0_runs/TCGA_Breast_1102/filtering_samples/filters_19May_order_5ge_wAnnot_GPstar/G_TCGA-A2-A0D2-01A-21R-A034-07_0AN12GA.tsv.gz \n",
      "---------------------------------------------\n",
      " ohsu J_TCGA-A2-A0D2-01A-21R-A034-07_0AN12GA.tsv\n",
      "eth /cluster/work/grlab/projects/projects2020_OHSU/peptides_generation/CANCER_eth/commit_c4dd02c_conf2_Frame_cap0_runs/TCGA_Breast_1102/filtering_samples/filters_19May_order_5ge_wAnnot_GPstar/G_TCGA-BH-A18V-01A-11R-A12D-07_02512GA.tsv.gz \n",
      "---------------------------------------------\n",
      " ohsu J_TCGA-BH-A18V-01A-11R-A12D-07_02512GA.tsv\n",
      "eth /cluster/work/grlab/projects/projects2020_OHSU/peptides_generation/CANCER_eth/commit_c4dd02c_conf2_Frame_cap0_runs/TCGA_Breast_1102/filtering_samples/filters_19May_order_5ge_wAnnot_GPstar/G_TCGA-C8-A12P-01A-11R-A115-07_0AN3XGA.tsv.gz \n",
      "---------------------------------------------\n",
      " ohsu J_TCGA-C8-A12P-01A-11R-A115-07_0AN3XGA.tsv\n",
      "TCGAC8A12P01A11RA11507\n"
     ]
    },
    {
     "name": "stderr",
     "output_type": "stream",
     "text": [
      "617it [00:00, 6764.69it/s]\n"
     ]
    },
    {
     "name": "stdout",
     "output_type": "stream",
     "text": [
      "['J', 'TCGA-C8-A12P-01A-11R-A115-07', '0AN3XGA']\n",
      "['0', 'Any', 'None', '3', '10']\n",
      "1\n",
      "1346\n",
      "9\n",
      "62\n",
      "NEXT\n",
      "eth /cluster/work/grlab/projects/projects2020_OHSU/peptides_generation/CANCER_eth/commit_c4dd02c_conf2_Frame_cap0_runs/TCGA_Breast_1102/filtering_samples/filters_19May_order_5ge_wAnnot_GPstar/G_TCGA-BH-A18V-01A-11R-A12D-07_02501GA.tsv.gz \n",
      "---------------------------------------------\n",
      " ohsu J_TCGA-BH-A18V-01A-11R-A12D-07_02501GA.tsv\n",
      "eth /cluster/work/grlab/projects/projects2020_OHSU/peptides_generation/CANCER_eth/commit_c4dd02c_conf2_Frame_cap0_runs/TCGA_Breast_1102/filtering_samples/filters_19May_order_5ge_wAnnot_GPstar/G_TCGA-C8-A12P-01A-11R-A115-07_0AN1XGA.tsv.gz \n",
      "---------------------------------------------\n",
      " ohsu J_TCGA-C8-A12P-01A-11R-A115-07_0AN1XGA.tsv\n",
      "TCGAC8A12P01A11RA11507\n"
     ]
    },
    {
     "name": "stderr",
     "output_type": "stream",
     "text": [
      "207it [00:00, 6570.81it/s]\n"
     ]
    },
    {
     "name": "stdout",
     "output_type": "stream",
     "text": [
      "['J', 'TCGA-C8-A12P-01A-11R-A115-07', '0AN1XGA']\n",
      "['0', 'Any', 'None', '1', '10']\n",
      "1\n",
      "922\n",
      "5\n",
      "20\n",
      "NEXT\n",
      "eth /cluster/work/grlab/projects/projects2020_OHSU/peptides_generation/CANCER_eth/commit_c4dd02c_conf2_Frame_cap0_runs/TCGA_Breast_1102/filtering_samples/filters_19May_order_5ge_wAnnot_GPstar/G_TCGA-A2-A0D2-01A-21R-A034-07_0253XGA.tsv.gz \n",
      "---------------------------------------------\n",
      " ohsu J_TCGA-A2-A0D2-01A-21R-A034-07_0253XGA.tsv\n",
      "eth /cluster/work/grlab/projects/projects2020_OHSU/peptides_generation/CANCER_eth/commit_c4dd02c_conf2_Frame_cap0_runs/TCGA_Breast_1102/filtering_samples/filters_19May_order_5ge_wAnnot_GPstar/G_TCGA-AO-A0JM-01A-21R-A056-07_0AN12GA.tsv.gz \n",
      "---------------------------------------------\n",
      " ohsu J_TCGA-AO-A0JM-01A-21R-A056-07_0AN12GA.tsv\n",
      "eth /cluster/work/grlab/projects/projects2020_OHSU/peptides_generation/CANCER_eth/commit_c4dd02c_conf2_Frame_cap0_runs/TCGA_Breast_1102/filtering_samples/filters_19May_order_5ge_wAnnot_GPstar/G_TCGA-A2-A0SX-01A-12R-A084-07_0A11XGA.tsv.gz \n",
      "---------------------------------------------\n",
      " ohsu J_TCGA-A2-A0SX-01A-12R-A084-07_0A11XGA.tsv\n",
      "eth /cluster/work/grlab/projects/projects2020_OHSU/peptides_generation/CANCER_eth/commit_c4dd02c_conf2_Frame_cap0_runs/TCGA_Breast_1102/filtering_samples/filters_19May_order_5ge_wAnnot_GPstar/G_TCGA-AO-A0JM-01A-21R-A056-07_02501GA.tsv.gz \n",
      "---------------------------------------------\n",
      " ohsu J_TCGA-AO-A0JM-01A-21R-A056-07_02501GA.tsv\n",
      "eth /cluster/work/grlab/projects/projects2020_OHSU/peptides_generation/CANCER_eth/commit_c4dd02c_conf2_Frame_cap0_runs/TCGA_Breast_1102/filtering_samples/filters_19May_order_5ge_wAnnot_GPstar/G_TCGA-BH-A18V-01A-11R-A12D-07_0251XGA.tsv.gz \n",
      "---------------------------------------------\n",
      " ohsu J_TCGA-BH-A18V-01A-11R-A12D-07_0251XGA.tsv\n",
      "eth /cluster/work/grlab/projects/projects2020_OHSU/peptides_generation/CANCER_eth/commit_c4dd02c_conf2_Frame_cap0_runs/TCGA_Breast_1102/filtering_samples/filters_19May_order_5ge_wAnnot_GPstar/G_TCGA-AO-A0JM-01A-21R-A056-07_0AN1AGA.tsv.gz \n",
      "---------------------------------------------\n",
      " ohsu J_TCGA-AO-A0JM-01A-21R-A056-07_0AN1AGA.tsv\n",
      "eth /cluster/work/grlab/projects/projects2020_OHSU/peptides_generation/CANCER_eth/commit_c4dd02c_conf2_Frame_cap0_runs/TCGA_Breast_1102/filtering_samples/filters_19May_order_5ge_wAnnot_GPstar/G_TCGA-A2-A0SX-01A-12R-A084-07_02532GA.tsv.gz \n",
      "---------------------------------------------\n",
      " ohsu J_TCGA-A2-A0SX-01A-12R-A084-07_02532GA.tsv\n",
      "eth /cluster/work/grlab/projects/projects2020_OHSU/peptides_generation/CANCER_eth/commit_c4dd02c_conf2_Frame_cap0_runs/TCGA_Breast_1102/filtering_samples/filters_19May_order_5ge_wAnnot_GPstar/G_TCGA-AO-A0JM-01A-21R-A056-07_0AN1XGA.tsv.gz \n",
      "---------------------------------------------\n",
      " ohsu J_TCGA-AO-A0JM-01A-21R-A056-07_0AN1XGA.tsv\n",
      "eth /cluster/work/grlab/projects/projects2020_OHSU/peptides_generation/CANCER_eth/commit_c4dd02c_conf2_Frame_cap0_runs/TCGA_Breast_1102/filtering_samples/filters_19May_order_5ge_wAnnot_GPstar/G_TCGA-BH-A18V-01A-11R-A12D-07_0AN3AGA.tsv.gz \n",
      "---------------------------------------------\n",
      " ohsu J_TCGA-BH-A18V-01A-11R-A12D-07_0AN3AGA.tsv\n",
      "eth /cluster/work/grlab/projects/projects2020_OHSU/peptides_generation/CANCER_eth/commit_c4dd02c_conf2_Frame_cap0_runs/TCGA_Breast_1102/filtering_samples/filters_19May_order_5ge_wAnnot_GPstar/G_TCGA-BH-A18V-01A-11R-A12D-07_0211XGA.tsv.gz \n",
      "---------------------------------------------\n",
      " ohsu J_TCGA-BH-A18V-01A-11R-A12D-07_0211XGA.tsv\n",
      "eth /cluster/work/grlab/projects/projects2020_OHSU/peptides_generation/CANCER_eth/commit_c4dd02c_conf2_Frame_cap0_runs/TCGA_Breast_1102/filtering_samples/filters_19May_order_5ge_wAnnot_GPstar/G_TCGA-C8-A12P-01A-11R-A115-07_0A101GA.tsv.gz \n",
      "---------------------------------------------\n",
      " ohsu J_TCGA-C8-A12P-01A-11R-A115-07_0A101GA.tsv\n",
      "TCGAC8A12P01A11RA11507\n"
     ]
    },
    {
     "name": "stderr",
     "output_type": "stream",
     "text": [
      "117it [00:00, 6470.22it/s]\n"
     ]
    },
    {
     "name": "stdout",
     "output_type": "stream",
     "text": [
      "['J', 'TCGA-C8-A12P-01A-11R-A115-07', '0A101GA']\n",
      "['0', 'Any', '1', '0', '1']\n",
      "None\n",
      "67\n",
      "3\n",
      "10\n",
      "NEXT\n",
      "eth /cluster/work/grlab/projects/projects2020_OHSU/peptides_generation/CANCER_eth/commit_c4dd02c_conf2_Frame_cap0_runs/TCGA_Breast_1102/filtering_samples/filters_19May_order_5ge_wAnnot_GPstar/G_TCGA-A2-A0SX-01A-12R-A084-07_0A512GA.tsv.gz \n",
      "---------------------------------------------\n",
      " ohsu J_TCGA-A2-A0SX-01A-12R-A084-07_0A512GA.tsv\n",
      "eth /cluster/work/grlab/projects/projects2020_OHSU/peptides_generation/CANCER_eth/commit_c4dd02c_conf2_Frame_cap0_runs/TCGA_Breast_1102/filtering_samples/filters_19May_order_5ge_wAnnot_GPstar/G_TCGA-A2-A0SX-01A-12R-A084-07_0AN3XGA.tsv.gz \n",
      "---------------------------------------------\n",
      " ohsu J_TCGA-A2-A0SX-01A-12R-A084-07_0AN3XGA.tsv\n",
      "eth /cluster/work/grlab/projects/projects2020_OHSU/peptides_generation/CANCER_eth/commit_c4dd02c_conf2_Frame_cap0_runs/TCGA_Breast_1102/filtering_samples/filters_19May_order_5ge_wAnnot_GPstar/G_TCGA-AO-A0JM-01A-21R-A056-07_0A51AGA.tsv.gz \n",
      "---------------------------------------------\n",
      " ohsu J_TCGA-AO-A0JM-01A-21R-A056-07_0A51AGA.tsv\n",
      "eth /cluster/work/grlab/projects/projects2020_OHSU/peptides_generation/CANCER_eth/commit_c4dd02c_conf2_Frame_cap0_runs/TCGA_Breast_1102/filtering_samples/filters_19May_order_5ge_wAnnot_GPstar/G_TCGA-AO-A0JM-01A-21R-A056-07_0A13XGA.tsv.gz \n",
      "---------------------------------------------\n",
      " ohsu J_TCGA-AO-A0JM-01A-21R-A056-07_0A13XGA.tsv\n",
      "eth /cluster/work/grlab/projects/projects2020_OHSU/peptides_generation/CANCER_eth/commit_c4dd02c_conf2_Frame_cap0_runs/TCGA_Breast_1102/filtering_samples/filters_19May_order_5ge_wAnnot_GPstar/G_TCGA-A2-A0D2-01A-21R-A034-07_0A13AGA.tsv.gz \n",
      "---------------------------------------------\n",
      " ohsu J_TCGA-A2-A0D2-01A-21R-A034-07_0A13AGA.tsv\n",
      "eth /cluster/work/grlab/projects/projects2020_OHSU/peptides_generation/CANCER_eth/commit_c4dd02c_conf2_Frame_cap0_runs/TCGA_Breast_1102/filtering_samples/filters_19May_order_5ge_wAnnot_GPstar/G_TCGA-BH-A18V-01A-11R-A12D-07_0A532GA.tsv.gz \n",
      "---------------------------------------------\n",
      " ohsu J_TCGA-BH-A18V-01A-11R-A12D-07_0A532GA.tsv\n",
      "eth /cluster/work/grlab/projects/projects2020_OHSU/peptides_generation/CANCER_eth/commit_c4dd02c_conf2_Frame_cap0_runs/TCGA_Breast_1102/filtering_samples/filters_19May_order_5ge_wAnnot_GPstar/G_TCGA-AO-A0JM-01A-21R-A056-07_0AN3XGA.tsv.gz \n",
      "---------------------------------------------\n",
      " ohsu J_TCGA-AO-A0JM-01A-21R-A056-07_0AN3XGA.tsv\n",
      "eth /cluster/work/grlab/projects/projects2020_OHSU/peptides_generation/CANCER_eth/commit_c4dd02c_conf2_Frame_cap0_runs/TCGA_Breast_1102/filtering_samples/filters_19May_order_5ge_wAnnot_GPstar/G_TCGA-C8-A12P-01A-11R-A115-07_0AN32GA.tsv.gz \n",
      "---------------------------------------------\n",
      " ohsu J_TCGA-C8-A12P-01A-11R-A115-07_0AN32GA.tsv\n",
      "TCGAC8A12P01A11RA11507\n"
     ]
    },
    {
     "name": "stderr",
     "output_type": "stream",
     "text": [
      "339it [00:00, 6568.16it/s]\n"
     ]
    },
    {
     "name": "stdout",
     "output_type": "stream",
     "text": [
      "['J', 'TCGA-C8-A12P-01A-11R-A115-07', '0AN32GA']\n",
      "['0', 'Any', 'None', '3', '2']\n",
      "2\n",
      "1082\n",
      "6\n",
      "30\n",
      "NEXT\n",
      "eth /cluster/work/grlab/projects/projects2020_OHSU/peptides_generation/CANCER_eth/commit_c4dd02c_conf2_Frame_cap0_runs/TCGA_Breast_1102/filtering_samples/filters_19May_order_5ge_wAnnot_GPstar/G_TCGA-AO-A0JM-01A-21R-A056-07_0A53XGA.tsv.gz \n",
      "---------------------------------------------\n",
      " ohsu J_TCGA-AO-A0JM-01A-21R-A056-07_0A53XGA.tsv\n",
      "eth /cluster/work/grlab/projects/projects2020_OHSU/peptides_generation/CANCER_eth/commit_c4dd02c_conf2_Frame_cap0_runs/TCGA_Breast_1102/filtering_samples/filters_19May_order_5ge_wAnnot_GPstar/G_TCGA-C8-A12P-01A-11R-A115-07_0A13AGA.tsv.gz \n",
      "---------------------------------------------\n",
      " ohsu J_TCGA-C8-A12P-01A-11R-A115-07_0A13AGA.tsv\n",
      "TCGAC8A12P01A11RA11507\n"
     ]
    },
    {
     "name": "stderr",
     "output_type": "stream",
     "text": [
      "556it [00:00, 6663.96it/s]\n"
     ]
    },
    {
     "name": "stdout",
     "output_type": "stream",
     "text": [
      "['J', 'TCGA-C8-A12P-01A-11R-A115-07', '0A13AGA']\n",
      "['0', 'Any', '1', '3', 'Any']\n",
      "0\n",
      "275\n",
      "8\n",
      "57\n",
      "NEXT\n",
      "eth /cluster/work/grlab/projects/projects2020_OHSU/peptides_generation/CANCER_eth/commit_c4dd02c_conf2_Frame_cap0_runs/TCGA_Breast_1102/filtering_samples/filters_19May_order_5ge_wAnnot_GPstar/G_TCGA-A2-A0D2-01A-21R-A034-07_02112GA.tsv.gz \n",
      "---------------------------------------------\n",
      " ohsu J_TCGA-A2-A0D2-01A-21R-A034-07_02112GA.tsv\n",
      "eth /cluster/work/grlab/projects/projects2020_OHSU/peptides_generation/CANCER_eth/commit_c4dd02c_conf2_Frame_cap0_runs/TCGA_Breast_1102/filtering_samples/filters_19May_order_5ge_wAnnot_GPstar/G_TCGA-BH-A18V-01A-11R-A12D-07_0213XGA.tsv.gz \n",
      "---------------------------------------------\n",
      " ohsu J_TCGA-BH-A18V-01A-11R-A12D-07_0213XGA.tsv\n",
      "eth /cluster/work/grlab/projects/projects2020_OHSU/peptides_generation/CANCER_eth/commit_c4dd02c_conf2_Frame_cap0_runs/TCGA_Breast_1102/filtering_samples/filters_19May_order_5ge_wAnnot_GPstar/G_TCGA-A2-A0SX-01A-12R-A084-07_0A53AGA.tsv.gz \n",
      "---------------------------------------------\n",
      " ohsu J_TCGA-A2-A0SX-01A-12R-A084-07_0A53AGA.tsv\n",
      "eth /cluster/work/grlab/projects/projects2020_OHSU/peptides_generation/CANCER_eth/commit_c4dd02c_conf2_Frame_cap0_runs/TCGA_Breast_1102/filtering_samples/filters_19May_order_5ge_wAnnot_GPstar/G_TCGA-BH-A18V-01A-11R-A12D-07_0AN3XGA.tsv.gz \n",
      "---------------------------------------------\n",
      " ohsu J_TCGA-BH-A18V-01A-11R-A12D-07_0AN3XGA.tsv\n",
      "eth /cluster/work/grlab/projects/projects2020_OHSU/peptides_generation/CANCER_eth/commit_c4dd02c_conf2_Frame_cap0_runs/TCGA_Breast_1102/filtering_samples/filters_19May_order_5ge_wAnnot_GPstar/G_TCGA-A2-A0D2-01A-21R-A034-07_0213AGA.tsv.gz \n",
      "---------------------------------------------\n",
      " ohsu J_TCGA-A2-A0D2-01A-21R-A034-07_0213AGA.tsv\n",
      "eth /cluster/work/grlab/projects/projects2020_OHSU/peptides_generation/CANCER_eth/commit_c4dd02c_conf2_Frame_cap0_runs/TCGA_Breast_1102/filtering_samples/filters_19May_order_5ge_wAnnot_GPstar/G_TCGA-A2-A0D2-01A-21R-A034-07_0A51AGA.tsv.gz \n",
      "---------------------------------------------\n",
      " ohsu J_TCGA-A2-A0D2-01A-21R-A034-07_0A51AGA.tsv\n",
      "eth /cluster/work/grlab/projects/projects2020_OHSU/peptides_generation/CANCER_eth/commit_c4dd02c_conf2_Frame_cap0_runs/TCGA_Breast_1102/filtering_samples/filters_19May_order_5ge_wAnnot_GPstar/G_TCGA-A2-A0SX-01A-12R-A084-07_0AN1AGA.tsv.gz \n",
      "---------------------------------------------\n",
      " ohsu J_TCGA-A2-A0SX-01A-12R-A084-07_0AN1AGA.tsv\n",
      "eth /cluster/work/grlab/projects/projects2020_OHSU/peptides_generation/CANCER_eth/commit_c4dd02c_conf2_Frame_cap0_runs/TCGA_Breast_1102/filtering_samples/filters_19May_order_5ge_wAnnot_GPstar/G_TCGA-BH-A18V-01A-11R-A12D-07_0AN1XGA.tsv.gz \n",
      "---------------------------------------------\n",
      " ohsu J_TCGA-BH-A18V-01A-11R-A12D-07_0AN1XGA.tsv\n",
      "eth /cluster/work/grlab/projects/projects2020_OHSU/peptides_generation/CANCER_eth/commit_c4dd02c_conf2_Frame_cap0_runs/TCGA_Breast_1102/filtering_samples/filters_19May_order_5ge_wAnnot_GPstar/G_TCGA-A2-A0D2-01A-21R-A034-07_0A11XGA.tsv.gz \n",
      "---------------------------------------------\n",
      " ohsu J_TCGA-A2-A0D2-01A-21R-A034-07_0A11XGA.tsv\n",
      "eth /cluster/work/grlab/projects/projects2020_OHSU/peptides_generation/CANCER_eth/commit_c4dd02c_conf2_Frame_cap0_runs/TCGA_Breast_1102/filtering_samples/filters_19May_order_5ge_wAnnot_GPstar/G_TCGA-C8-A12P-01A-11R-A115-07_0251XGA.tsv.gz \n",
      "---------------------------------------------\n",
      " ohsu J_TCGA-C8-A12P-01A-11R-A115-07_0251XGA.tsv\n",
      "TCGAC8A12P01A11RA11507\n"
     ]
    },
    {
     "name": "stderr",
     "output_type": "stream",
     "text": [
      "28it [00:00, 6285.62it/s]\n"
     ]
    },
    {
     "name": "stdout",
     "output_type": "stream",
     "text": [
      "['J', 'TCGA-C8-A12P-01A-11R-A115-07', '0251XGA']\n",
      "['0', '2', '5', '1', '10']\n",
      "1\n",
      "2\n",
      "1\n",
      "1\n",
      "NEXT\n",
      "eth /cluster/work/grlab/projects/projects2020_OHSU/peptides_generation/CANCER_eth/commit_c4dd02c_conf2_Frame_cap0_runs/TCGA_Breast_1102/filtering_samples/filters_19May_order_5ge_wAnnot_GPstar/G_TCGA-BH-A18V-01A-11R-A12D-07_0A51XGA.tsv.gz \n",
      "---------------------------------------------\n",
      " ohsu J_TCGA-BH-A18V-01A-11R-A12D-07_0A51XGA.tsv\n",
      "eth /cluster/work/grlab/projects/projects2020_OHSU/peptides_generation/CANCER_eth/commit_c4dd02c_conf2_Frame_cap0_runs/TCGA_Breast_1102/filtering_samples/filters_19May_order_5ge_wAnnot_GPstar/G_TCGA-AO-A0JM-01A-21R-A056-07_0AN3AGA.tsv.gz \n",
      "---------------------------------------------\n",
      " ohsu J_TCGA-AO-A0JM-01A-21R-A056-07_0AN3AGA.tsv\n",
      "eth /cluster/work/grlab/projects/projects2020_OHSU/peptides_generation/CANCER_eth/commit_c4dd02c_conf2_Frame_cap0_runs/TCGA_Breast_1102/filtering_samples/filters_19May_order_5ge_wAnnot_GPstar/G_TCGA-A2-A0SX-01A-12R-A084-07_0253XGA.tsv.gz \n",
      "---------------------------------------------\n",
      " ohsu J_TCGA-A2-A0SX-01A-12R-A084-07_0253XGA.tsv\n",
      "eth /cluster/work/grlab/projects/projects2020_OHSU/peptides_generation/CANCER_eth/commit_c4dd02c_conf2_Frame_cap0_runs/TCGA_Breast_1102/filtering_samples/filters_19May_order_5ge_wAnnot_GPstar/G_TCGA-A2-A0D2-01A-21R-A034-07_0A53XGA.tsv.gz \n",
      "---------------------------------------------\n",
      " ohsu J_TCGA-A2-A0D2-01A-21R-A034-07_0A53XGA.tsv\n",
      "eth /cluster/work/grlab/projects/projects2020_OHSU/peptides_generation/CANCER_eth/commit_c4dd02c_conf2_Frame_cap0_runs/TCGA_Breast_1102/filtering_samples/filters_19May_order_5ge_wAnnot_GPstar/G_TCGA-C8-A12P-01A-11R-A115-07_0A53XGA.tsv.gz \n",
      "---------------------------------------------\n",
      " ohsu J_TCGA-C8-A12P-01A-11R-A115-07_0A53XGA.tsv\n",
      "TCGAC8A12P01A11RA11507\n"
     ]
    },
    {
     "name": "stderr",
     "output_type": "stream",
     "text": [
      "178it [00:00, 6532.50it/s]\n"
     ]
    },
    {
     "name": "stdout",
     "output_type": "stream",
     "text": [
      "['J', 'TCGA-C8-A12P-01A-11R-A115-07', '0A53XGA']\n",
      "['0', 'Any', '5', '3', '10']\n",
      "1\n",
      "33\n",
      "1\n",
      "16\n",
      "NEXT\n",
      "eth /cluster/work/grlab/projects/projects2020_OHSU/peptides_generation/CANCER_eth/commit_c4dd02c_conf2_Frame_cap0_runs/TCGA_Breast_1102/filtering_samples/filters_19May_order_5ge_wAnnot_GPstar/G_TCGA-BH-A18V-01A-11R-A12D-07_0AN1AGA.tsv.gz \n",
      "---------------------------------------------\n",
      " ohsu J_TCGA-BH-A18V-01A-11R-A12D-07_0AN1AGA.tsv\n",
      "eth /cluster/work/grlab/projects/projects2020_OHSU/peptides_generation/CANCER_eth/commit_c4dd02c_conf2_Frame_cap0_runs/TCGA_Breast_1102/filtering_samples/filters_19May_order_5ge_wAnnot_GPstar/G_TCGA-A2-A0SX-01A-12R-A084-07_0A53XGA.tsv.gz \n",
      "---------------------------------------------\n",
      " ohsu J_TCGA-A2-A0SX-01A-12R-A084-07_0A53XGA.tsv\n",
      "eth /cluster/work/grlab/projects/projects2020_OHSU/peptides_generation/CANCER_eth/commit_c4dd02c_conf2_Frame_cap0_runs/TCGA_Breast_1102/filtering_samples/filters_19May_order_5ge_wAnnot_GPstar/G_TCGA-A2-A0D2-01A-21R-A034-07_0AN1AGA.tsv.gz \n",
      "---------------------------------------------\n",
      " ohsu J_TCGA-A2-A0D2-01A-21R-A034-07_0AN1AGA.tsv\n",
      "eth /cluster/work/grlab/projects/projects2020_OHSU/peptides_generation/CANCER_eth/commit_c4dd02c_conf2_Frame_cap0_runs/TCGA_Breast_1102/filtering_samples/filters_19May_order_5ge_wAnnot_GPstar/G_TCGA-AO-A0JM-01A-21R-A056-07_02112GA.tsv.gz \n",
      "---------------------------------------------\n",
      " ohsu J_TCGA-AO-A0JM-01A-21R-A056-07_02112GA.tsv\n",
      "eth /cluster/work/grlab/projects/projects2020_OHSU/peptides_generation/CANCER_eth/commit_c4dd02c_conf2_Frame_cap0_runs/TCGA_Breast_1102/filtering_samples/filters_19May_order_5ge_wAnnot_GPstar/G_TCGA-C8-A12P-01A-11R-A115-07_0213XGA.tsv.gz \n",
      "---------------------------------------------\n",
      " ohsu J_TCGA-C8-A12P-01A-11R-A115-07_0213XGA.tsv\n",
      "TCGAC8A12P01A11RA11507\n"
     ]
    },
    {
     "name": "stderr",
     "output_type": "stream",
     "text": [
      "423it [00:00, 6554.50it/s]\n"
     ]
    },
    {
     "name": "stdout",
     "output_type": "stream",
     "text": [
      "['J', 'TCGA-C8-A12P-01A-11R-A115-07', '0213XGA']\n",
      "['0', '2', '1', '3', '10']\n",
      "1\n",
      "42\n",
      "25\n",
      "21\n",
      "NEXT\n",
      "eth /cluster/work/grlab/projects/projects2020_OHSU/peptides_generation/CANCER_eth/commit_c4dd02c_conf2_Frame_cap0_runs/TCGA_Breast_1102/filtering_samples/filters_19May_order_5ge_wAnnot_GPstar/G_TCGA-BH-A18V-01A-11R-A12D-07_0A112GA.tsv.gz \n",
      "---------------------------------------------\n",
      " ohsu J_TCGA-BH-A18V-01A-11R-A12D-07_0A112GA.tsv\n",
      "eth /cluster/work/grlab/projects/projects2020_OHSU/peptides_generation/CANCER_eth/commit_c4dd02c_conf2_Frame_cap0_runs/TCGA_Breast_1102/filtering_samples/filters_19May_order_5ge_wAnnot_GPstar/G_TCGA-AO-A0JM-01A-21R-A056-07_0253AGA.tsv.gz \n",
      "---------------------------------------------\n",
      " ohsu J_TCGA-AO-A0JM-01A-21R-A056-07_0253AGA.tsv\n",
      "eth /cluster/work/grlab/projects/projects2020_OHSU/peptides_generation/CANCER_eth/commit_c4dd02c_conf2_Frame_cap0_runs/TCGA_Breast_1102/filtering_samples/filters_19May_order_5ge_wAnnot_GPstar/G_TCGA-BH-A18V-01A-11R-A12D-07_0AN01GA.tsv.gz \n",
      "---------------------------------------------\n",
      " ohsu J_TCGA-BH-A18V-01A-11R-A12D-07_0AN01GA.tsv\n",
      "eth /cluster/work/grlab/projects/projects2020_OHSU/peptides_generation/CANCER_eth/commit_c4dd02c_conf2_Frame_cap0_runs/TCGA_Breast_1102/filtering_samples/filters_19May_order_5ge_wAnnot_GPstar/G_TCGA-A2-A0D2-01A-21R-A034-07_0251XGA.tsv.gz \n",
      "---------------------------------------------\n",
      " ohsu J_TCGA-A2-A0D2-01A-21R-A034-07_0251XGA.tsv\n",
      "eth /cluster/work/grlab/projects/projects2020_OHSU/peptides_generation/CANCER_eth/commit_c4dd02c_conf2_Frame_cap0_runs/TCGA_Breast_1102/filtering_samples/filters_19May_order_5ge_wAnnot_GPstar/G_TCGA-AO-A0JM-01A-21R-A056-07_0211AGA.tsv.gz \n",
      "---------------------------------------------\n",
      " ohsu J_TCGA-AO-A0JM-01A-21R-A056-07_0211AGA.tsv\n",
      "eth /cluster/work/grlab/projects/projects2020_OHSU/peptides_generation/CANCER_eth/commit_c4dd02c_conf2_Frame_cap0_runs/TCGA_Breast_1102/filtering_samples/filters_19May_order_5ge_wAnnot_GPstar/G_TCGA-AO-A0JM-01A-21R-A056-07_02532GA.tsv.gz \n",
      "---------------------------------------------\n",
      " ohsu J_TCGA-AO-A0JM-01A-21R-A056-07_02532GA.tsv\n",
      "eth /cluster/work/grlab/projects/projects2020_OHSU/peptides_generation/CANCER_eth/commit_c4dd02c_conf2_Frame_cap0_runs/TCGA_Breast_1102/filtering_samples/filters_19May_order_5ge_wAnnot_GPstar/G_TCGA-A2-A0D2-01A-21R-A034-07_02512GA.tsv.gz \n",
      "---------------------------------------------\n",
      " ohsu J_TCGA-A2-A0D2-01A-21R-A034-07_02512GA.tsv\n",
      "eth /cluster/work/grlab/projects/projects2020_OHSU/peptides_generation/CANCER_eth/commit_c4dd02c_conf2_Frame_cap0_runs/TCGA_Breast_1102/filtering_samples/filters_19May_order_5ge_wAnnot_GPstar/G_TCGA-BH-A18V-01A-11R-A12D-07_0A51AGA.tsv.gz \n",
      "---------------------------------------------\n",
      " ohsu J_TCGA-BH-A18V-01A-11R-A12D-07_0A51AGA.tsv\n",
      "eth /cluster/work/grlab/projects/projects2020_OHSU/peptides_generation/CANCER_eth/commit_c4dd02c_conf2_Frame_cap0_runs/TCGA_Breast_1102/filtering_samples/filters_19May_order_5ge_wAnnot_GPstar/G_TCGA-A2-A0SX-01A-12R-A084-07_02101GA.tsv.gz \n",
      "---------------------------------------------\n",
      " ohsu J_TCGA-A2-A0SX-01A-12R-A084-07_02101GA.tsv\n",
      "eth /cluster/work/grlab/projects/projects2020_OHSU/peptides_generation/CANCER_eth/commit_c4dd02c_conf2_Frame_cap0_runs/TCGA_Breast_1102/filtering_samples/filters_19May_order_5ge_wAnnot_GPstar/G_TCGA-AO-A0JM-01A-21R-A056-07_0A532GA.tsv.gz \n",
      "---------------------------------------------\n",
      " ohsu J_TCGA-AO-A0JM-01A-21R-A056-07_0A532GA.tsv\n",
      "eth /cluster/work/grlab/projects/projects2020_OHSU/peptides_generation/CANCER_eth/commit_c4dd02c_conf2_Frame_cap0_runs/TCGA_Breast_1102/filtering_samples/filters_19May_order_5ge_wAnnot_GPstar/G_TCGA-A2-A0D2-01A-21R-A034-07_0AN3AGA.tsv.gz \n",
      "---------------------------------------------\n",
      " ohsu J_TCGA-A2-A0D2-01A-21R-A034-07_0AN3AGA.tsv\n",
      "eth /cluster/work/grlab/projects/projects2020_OHSU/peptides_generation/CANCER_eth/commit_c4dd02c_conf2_Frame_cap0_runs/TCGA_Breast_1102/filtering_samples/filters_19May_order_5ge_wAnnot_GPstar/G_TCGA-BH-A18V-01A-11R-A12D-07_0A501GA.tsv.gz \n",
      "---------------------------------------------\n",
      " ohsu J_TCGA-BH-A18V-01A-11R-A12D-07_0A501GA.tsv\n",
      "eth /cluster/work/grlab/projects/projects2020_OHSU/peptides_generation/CANCER_eth/commit_c4dd02c_conf2_Frame_cap0_runs/TCGA_Breast_1102/filtering_samples/filters_19May_order_5ge_wAnnot_GPstar/G_TCGA-A2-A0SX-01A-12R-A084-07_0213AGA.tsv.gz \n",
      "---------------------------------------------\n",
      " ohsu J_TCGA-A2-A0SX-01A-12R-A084-07_0213AGA.tsv\n",
      "eth /cluster/work/grlab/projects/projects2020_OHSU/peptides_generation/CANCER_eth/commit_c4dd02c_conf2_Frame_cap0_runs/TCGA_Breast_1102/filtering_samples/filters_19May_order_5ge_wAnnot_GPstar/G_TCGA-A2-A0SX-01A-12R-A084-07_0213XGA.tsv.gz \n",
      "---------------------------------------------\n",
      " ohsu J_TCGA-A2-A0SX-01A-12R-A084-07_0213XGA.tsv\n",
      "eth /cluster/work/grlab/projects/projects2020_OHSU/peptides_generation/CANCER_eth/commit_c4dd02c_conf2_Frame_cap0_runs/TCGA_Breast_1102/filtering_samples/filters_19May_order_5ge_wAnnot_GPstar/G_TCGA-C8-A12P-01A-11R-A115-07_0253XGA.tsv.gz \n",
      "---------------------------------------------\n",
      " ohsu J_TCGA-C8-A12P-01A-11R-A115-07_0253XGA.tsv\n",
      "TCGAC8A12P01A11RA11507\n"
     ]
    },
    {
     "name": "stderr",
     "output_type": "stream",
     "text": [
      "105it [00:00, 6675.18it/s]\n"
     ]
    },
    {
     "name": "stdout",
     "output_type": "stream",
     "text": [
      "['J', 'TCGA-C8-A12P-01A-11R-A115-07', '0253XGA']\n",
      "['0', '2', '5', '3', '10']\n",
      "1\n",
      "5\n",
      "2\n",
      "6\n",
      "NEXT\n",
      "eth /cluster/work/grlab/projects/projects2020_OHSU/peptides_generation/CANCER_eth/commit_c4dd02c_conf2_Frame_cap0_runs/TCGA_Breast_1102/filtering_samples/filters_19May_order_5ge_wAnnot_GPstar/G_TCGA-BH-A18V-01A-11R-A12D-07_0A13XGA.tsv.gz \n",
      "---------------------------------------------\n",
      " ohsu J_TCGA-BH-A18V-01A-11R-A12D-07_0A13XGA.tsv\n",
      "eth /cluster/work/grlab/projects/projects2020_OHSU/peptides_generation/CANCER_eth/commit_c4dd02c_conf2_Frame_cap0_runs/TCGA_Breast_1102/filtering_samples/filters_19May_order_5ge_wAnnot_GPstar/G_TCGA-BH-A18V-01A-11R-A12D-07_02112GA.tsv.gz \n",
      "---------------------------------------------\n",
      " ohsu J_TCGA-BH-A18V-01A-11R-A12D-07_02112GA.tsv\n",
      "eth /cluster/work/grlab/projects/projects2020_OHSU/peptides_generation/CANCER_eth/commit_c4dd02c_conf2_Frame_cap0_runs/TCGA_Breast_1102/filtering_samples/filters_19May_order_5ge_wAnnot_GPstar/G_TCGA-C8-A12P-01A-11R-A115-07_0A13XGA.tsv.gz \n",
      "---------------------------------------------\n",
      " ohsu J_TCGA-C8-A12P-01A-11R-A115-07_0A13XGA.tsv\n",
      "TCGAC8A12P01A11RA11507\n"
     ]
    },
    {
     "name": "stderr",
     "output_type": "stream",
     "text": [
      "461it [00:00, 6568.92it/s]\n"
     ]
    },
    {
     "name": "stdout",
     "output_type": "stream",
     "text": [
      "['J', 'TCGA-C8-A12P-01A-11R-A115-07', '0A13XGA']\n",
      "['0', 'Any', '1', '3', '10']\n",
      "1\n",
      "232\n",
      "7\n",
      "44\n",
      "NEXT\n",
      "eth /cluster/work/grlab/projects/projects2020_OHSU/peptides_generation/CANCER_eth/commit_c4dd02c_conf2_Frame_cap0_runs/TCGA_Breast_1102/filtering_samples/filters_19May_order_5ge_wAnnot_GPstar/G_TCGA-C8-A12P-01A-11R-A115-07_0211XGA.tsv.gz \n",
      "---------------------------------------------\n",
      " ohsu J_TCGA-C8-A12P-01A-11R-A115-07_0211XGA.tsv\n",
      "TCGAC8A12P01A11RA11507\n"
     ]
    },
    {
     "name": "stderr",
     "output_type": "stream",
     "text": [
      "118it [00:00, 6495.46it/s]\n"
     ]
    },
    {
     "name": "stdout",
     "output_type": "stream",
     "text": [
      "['J', 'TCGA-C8-A12P-01A-11R-A115-07', '0211XGA']\n",
      "['0', '2', '1', '1', '10']\n",
      "1\n",
      "20\n",
      "10\n",
      "4\n",
      "NEXT\n",
      "eth /cluster/work/grlab/projects/projects2020_OHSU/peptides_generation/CANCER_eth/commit_c4dd02c_conf2_Frame_cap0_runs/TCGA_Breast_1102/filtering_samples/filters_19May_order_5ge_wAnnot_GPstar/G_TCGA-A2-A0SX-01A-12R-A084-07_0A532GA.tsv.gz \n",
      "---------------------------------------------\n",
      " ohsu J_TCGA-A2-A0SX-01A-12R-A084-07_0A532GA.tsv\n",
      "eth /cluster/work/grlab/projects/projects2020_OHSU/peptides_generation/CANCER_eth/commit_c4dd02c_conf2_Frame_cap0_runs/TCGA_Breast_1102/filtering_samples/filters_19May_order_5ge_wAnnot_GPstar/G_TCGA-BH-A18V-01A-11R-A12D-07_0A512GA.tsv.gz \n",
      "---------------------------------------------\n",
      " ohsu J_TCGA-BH-A18V-01A-11R-A12D-07_0A512GA.tsv\n",
      "eth /cluster/work/grlab/projects/projects2020_OHSU/peptides_generation/CANCER_eth/commit_c4dd02c_conf2_Frame_cap0_runs/TCGA_Breast_1102/filtering_samples/filters_19May_order_5ge_wAnnot_GPstar/G_TCGA-A2-A0D2-01A-21R-A034-07_0AN1XGA.tsv.gz \n",
      "---------------------------------------------\n",
      " ohsu J_TCGA-A2-A0D2-01A-21R-A034-07_0AN1XGA.tsv\n",
      "eth /cluster/work/grlab/projects/projects2020_OHSU/peptides_generation/CANCER_eth/commit_c4dd02c_conf2_Frame_cap0_runs/TCGA_Breast_1102/filtering_samples/filters_19May_order_5ge_wAnnot_GPstar/G_TCGA-A2-A0D2-01A-21R-A034-07_0AN01GA.tsv.gz \n",
      "---------------------------------------------\n",
      " ohsu J_TCGA-A2-A0D2-01A-21R-A034-07_0AN01GA.tsv\n",
      "eth /cluster/work/grlab/projects/projects2020_OHSU/peptides_generation/CANCER_eth/commit_c4dd02c_conf2_Frame_cap0_runs/TCGA_Breast_1102/filtering_samples/filters_19May_order_5ge_wAnnot_GPstar/G_TCGA-C8-A12P-01A-11R-A115-07_02132GA.tsv.gz \n",
      "---------------------------------------------\n",
      " ohsu J_TCGA-C8-A12P-01A-11R-A115-07_02132GA.tsv\n",
      "TCGAC8A12P01A11RA11507\n"
     ]
    },
    {
     "name": "stderr",
     "output_type": "stream",
     "text": [
      "217it [00:00, 6816.69it/s]\n"
     ]
    },
    {
     "name": "stdout",
     "output_type": "stream",
     "text": [
      "['J', 'TCGA-C8-A12P-01A-11R-A115-07', '02132GA']\n",
      "['0', '2', '1', '3', '2']\n",
      "2\n",
      "26\n",
      "13\n",
      "9\n",
      "NEXT\n",
      "eth /cluster/work/grlab/projects/projects2020_OHSU/peptides_generation/CANCER_eth/commit_c4dd02c_conf2_Frame_cap0_runs/TCGA_Breast_1102/filtering_samples/filters_19May_order_5ge_wAnnot_GPstar/G_TCGA-A2-A0SX-01A-12R-A084-07_02501GA.tsv.gz \n",
      "---------------------------------------------\n",
      " ohsu J_TCGA-A2-A0SX-01A-12R-A084-07_02501GA.tsv\n",
      "eth /cluster/work/grlab/projects/projects2020_OHSU/peptides_generation/CANCER_eth/commit_c4dd02c_conf2_Frame_cap0_runs/TCGA_Breast_1102/filtering_samples/filters_19May_order_5ge_wAnnot_GPstar/G_TCGA-C8-A12P-01A-11R-A115-07_0211AGA.tsv.gz \n",
      "---------------------------------------------\n",
      " ohsu J_TCGA-C8-A12P-01A-11R-A115-07_0211AGA.tsv\n",
      "TCGAC8A12P01A11RA11507\n"
     ]
    },
    {
     "name": "stderr",
     "output_type": "stream",
     "text": [
      "118it [00:00, 6559.94it/s]\n"
     ]
    },
    {
     "name": "stdout",
     "output_type": "stream",
     "text": [
      "['J', 'TCGA-C8-A12P-01A-11R-A115-07', '0211AGA']\n",
      "['0', '2', '1', '1', 'Any']\n",
      "0\n",
      "20\n",
      "10\n",
      "4\n",
      "NEXT\n",
      "eth /cluster/work/grlab/projects/projects2020_OHSU/peptides_generation/CANCER_eth/commit_c4dd02c_conf2_Frame_cap0_runs/TCGA_Breast_1102/filtering_samples/filters_19May_order_5ge_wAnnot_GPstar/G_TCGA-A2-A0D2-01A-21R-A034-07_02532GA.tsv.gz \n",
      "---------------------------------------------\n",
      " ohsu J_TCGA-A2-A0D2-01A-21R-A034-07_02532GA.tsv\n",
      "eth /cluster/work/grlab/projects/projects2020_OHSU/peptides_generation/CANCER_eth/commit_c4dd02c_conf2_Frame_cap0_runs/TCGA_Breast_1102/filtering_samples/filters_19May_order_5ge_wAnnot_GPstar/G_TCGA-BH-A18V-01A-11R-A12D-07_0A11AGA.tsv.gz \n",
      "---------------------------------------------\n",
      " ohsu J_TCGA-BH-A18V-01A-11R-A12D-07_0A11AGA.tsv\n",
      "eth /cluster/work/grlab/projects/projects2020_OHSU/peptides_generation/CANCER_eth/commit_c4dd02c_conf2_Frame_cap0_runs/TCGA_Breast_1102/filtering_samples/filters_19May_order_5ge_wAnnot_GPstar/G_TCGA-A2-A0D2-01A-21R-A034-07_0211XGA.tsv.gz \n",
      "---------------------------------------------\n",
      " ohsu J_TCGA-A2-A0D2-01A-21R-A034-07_0211XGA.tsv\n",
      "eth /cluster/work/grlab/projects/projects2020_OHSU/peptides_generation/CANCER_eth/commit_c4dd02c_conf2_Frame_cap0_runs/TCGA_Breast_1102/filtering_samples/filters_19May_order_5ge_wAnnot_GPstar/G_TCGA-A2-A0D2-01A-21R-A034-07_02132GA.tsv.gz \n",
      "---------------------------------------------\n",
      " ohsu J_TCGA-A2-A0D2-01A-21R-A034-07_02132GA.tsv\n",
      "eth /cluster/work/grlab/projects/projects2020_OHSU/peptides_generation/CANCER_eth/commit_c4dd02c_conf2_Frame_cap0_runs/TCGA_Breast_1102/filtering_samples/filters_19May_order_5ge_wAnnot_GPstar/G_TCGA-BH-A18V-01A-11R-A12D-07_0A132GA.tsv.gz \n",
      "---------------------------------------------\n",
      " ohsu J_TCGA-BH-A18V-01A-11R-A12D-07_0A132GA.tsv\n",
      "eth /cluster/work/grlab/projects/projects2020_OHSU/peptides_generation/CANCER_eth/commit_c4dd02c_conf2_Frame_cap0_runs/TCGA_Breast_1102/filtering_samples/filters_19May_order_5ge_wAnnot_GPstar/G_TCGA-A2-A0SX-01A-12R-A084-07_02512GA.tsv.gz \n",
      "---------------------------------------------\n",
      " ohsu J_TCGA-A2-A0SX-01A-12R-A084-07_02512GA.tsv\n",
      "eth /cluster/work/grlab/projects/projects2020_OHSU/peptides_generation/CANCER_eth/commit_c4dd02c_conf2_Frame_cap0_runs/TCGA_Breast_1102/filtering_samples/filters_19May_order_5ge_wAnnot_GPstar/G_TCGA-AO-A0JM-01A-21R-A056-07_0213XGA.tsv.gz \n",
      "---------------------------------------------\n",
      " ohsu J_TCGA-AO-A0JM-01A-21R-A056-07_0213XGA.tsv\n",
      "eth /cluster/work/grlab/projects/projects2020_OHSU/peptides_generation/CANCER_eth/commit_c4dd02c_conf2_Frame_cap0_runs/TCGA_Breast_1102/filtering_samples/filters_19May_order_5ge_wAnnot_GPstar/G_TCGA-A2-A0SX-01A-12R-A084-07_0251XGA.tsv.gz \n",
      "---------------------------------------------\n",
      " ohsu J_TCGA-A2-A0SX-01A-12R-A084-07_0251XGA.tsv\n",
      "eth /cluster/work/grlab/projects/projects2020_OHSU/peptides_generation/CANCER_eth/commit_c4dd02c_conf2_Frame_cap0_runs/TCGA_Breast_1102/filtering_samples/filters_19May_order_5ge_wAnnot_GPstar/G_TCGA-A2-A0D2-01A-21R-A034-07_0253AGA.tsv.gz \n",
      "---------------------------------------------\n",
      " ohsu J_TCGA-A2-A0D2-01A-21R-A034-07_0253AGA.tsv\n",
      "eth /cluster/work/grlab/projects/projects2020_OHSU/peptides_generation/CANCER_eth/commit_c4dd02c_conf2_Frame_cap0_runs/TCGA_Breast_1102/filtering_samples/filters_19May_order_5ge_wAnnot_GPstar/G_TCGA-BH-A18V-01A-11R-A12D-07_0253AGA.tsv.gz \n",
      "---------------------------------------------\n",
      " ohsu J_TCGA-BH-A18V-01A-11R-A12D-07_0253AGA.tsv\n",
      "eth /cluster/work/grlab/projects/projects2020_OHSU/peptides_generation/CANCER_eth/commit_c4dd02c_conf2_Frame_cap0_runs/TCGA_Breast_1102/filtering_samples/filters_19May_order_5ge_wAnnot_GPstar/G_TCGA-A2-A0SX-01A-12R-A084-07_0211AGA.tsv.gz \n",
      "---------------------------------------------\n",
      " ohsu J_TCGA-A2-A0SX-01A-12R-A084-07_0211AGA.tsv\n",
      "eth /cluster/work/grlab/projects/projects2020_OHSU/peptides_generation/CANCER_eth/commit_c4dd02c_conf2_Frame_cap0_runs/TCGA_Breast_1102/filtering_samples/filters_19May_order_5ge_wAnnot_GPstar/G_TCGA-A2-A0SX-01A-12R-A084-07_0AN3AGA.tsv.gz \n",
      "---------------------------------------------\n",
      " ohsu J_TCGA-A2-A0SX-01A-12R-A084-07_0AN3AGA.tsv\n",
      "eth /cluster/work/grlab/projects/projects2020_OHSU/peptides_generation/CANCER_eth/commit_c4dd02c_conf2_Frame_cap0_runs/TCGA_Breast_1102/filtering_samples/filters_19May_order_5ge_wAnnot_GPstar/G_TCGA-A2-A0SX-01A-12R-A084-07_0211XGA.tsv.gz \n",
      "---------------------------------------------\n",
      " ohsu J_TCGA-A2-A0SX-01A-12R-A084-07_0211XGA.tsv\n",
      "eth /cluster/work/grlab/projects/projects2020_OHSU/peptides_generation/CANCER_eth/commit_c4dd02c_conf2_Frame_cap0_runs/TCGA_Breast_1102/filtering_samples/filters_19May_order_5ge_wAnnot_GPstar/G_TCGA-A2-A0D2-01A-21R-A034-07_0A53AGA.tsv.gz \n",
      "---------------------------------------------\n",
      " ohsu J_TCGA-A2-A0D2-01A-21R-A034-07_0A53AGA.tsv\n",
      "eth /cluster/work/grlab/projects/projects2020_OHSU/peptides_generation/CANCER_eth/commit_c4dd02c_conf2_Frame_cap0_runs/TCGA_Breast_1102/filtering_samples/filters_19May_order_5ge_wAnnot_GPstar/G_TCGA-AO-A0JM-01A-21R-A056-07_0211XGA.tsv.gz \n",
      "---------------------------------------------\n",
      " ohsu J_TCGA-AO-A0JM-01A-21R-A056-07_0211XGA.tsv\n",
      "eth /cluster/work/grlab/projects/projects2020_OHSU/peptides_generation/CANCER_eth/commit_c4dd02c_conf2_Frame_cap0_runs/TCGA_Breast_1102/filtering_samples/filters_19May_order_5ge_wAnnot_GPstar/G_TCGA-A2-A0SX-01A-12R-A084-07_0A501GA.tsv.gz \n",
      "---------------------------------------------\n",
      " ohsu J_TCGA-A2-A0SX-01A-12R-A084-07_0A501GA.tsv\n",
      "eth /cluster/work/grlab/projects/projects2020_OHSU/peptides_generation/CANCER_eth/commit_c4dd02c_conf2_Frame_cap0_runs/TCGA_Breast_1102/filtering_samples/filters_19May_order_5ge_wAnnot_GPstar/G_TCGA-BH-A18V-01A-11R-A12D-07_0211AGA.tsv.gz \n",
      "---------------------------------------------\n",
      " ohsu J_TCGA-BH-A18V-01A-11R-A12D-07_0211AGA.tsv\n",
      "eth /cluster/work/grlab/projects/projects2020_OHSU/peptides_generation/CANCER_eth/commit_c4dd02c_conf2_Frame_cap0_runs/TCGA_Breast_1102/filtering_samples/filters_19May_order_5ge_wAnnot_GPstar/G_TCGA-A2-A0D2-01A-21R-A034-07_0A11AGA.tsv.gz \n",
      "---------------------------------------------\n",
      " ohsu J_TCGA-A2-A0D2-01A-21R-A034-07_0A11AGA.tsv\n",
      "eth /cluster/work/grlab/projects/projects2020_OHSU/peptides_generation/CANCER_eth/commit_c4dd02c_conf2_Frame_cap0_runs/TCGA_Breast_1102/filtering_samples/filters_19May_order_5ge_wAnnot_GPstar/G_TCGA-BH-A18V-01A-11R-A12D-07_02532GA.tsv.gz \n",
      "---------------------------------------------\n",
      " ohsu J_TCGA-BH-A18V-01A-11R-A12D-07_02532GA.tsv\n",
      "eth /cluster/work/grlab/projects/projects2020_OHSU/peptides_generation/CANCER_eth/commit_c4dd02c_conf2_Frame_cap0_runs/TCGA_Breast_1102/filtering_samples/filters_19May_order_5ge_wAnnot_GPstar/G_TCGA-BH-A18V-01A-11R-A12D-07_0AN32GA.tsv.gz \n",
      "---------------------------------------------\n",
      " ohsu J_TCGA-BH-A18V-01A-11R-A12D-07_0AN32GA.tsv\n",
      "eth /cluster/work/grlab/projects/projects2020_OHSU/peptides_generation/CANCER_eth/commit_c4dd02c_conf2_Frame_cap0_runs/TCGA_Breast_1102/filtering_samples/filters_19May_order_5ge_wAnnot_GPstar/G_TCGA-AO-A0JM-01A-21R-A056-07_0A13AGA.tsv.gz \n",
      "---------------------------------------------\n",
      " ohsu J_TCGA-AO-A0JM-01A-21R-A056-07_0A13AGA.tsv\n",
      "eth /cluster/work/grlab/projects/projects2020_OHSU/peptides_generation/CANCER_eth/commit_c4dd02c_conf2_Frame_cap0_runs/TCGA_Breast_1102/filtering_samples/filters_19May_order_5ge_wAnnot_GPstar/G_TCGA-BH-A18V-01A-11R-A12D-07_0213AGA.tsv.gz \n",
      "---------------------------------------------\n",
      " ohsu J_TCGA-BH-A18V-01A-11R-A12D-07_0213AGA.tsv\n",
      "eth /cluster/work/grlab/projects/projects2020_OHSU/peptides_generation/CANCER_eth/commit_c4dd02c_conf2_Frame_cap0_runs/TCGA_Breast_1102/filtering_samples/filters_19May_order_5ge_wAnnot_GPstar/G_TCGA-C8-A12P-01A-11R-A115-07_0A51AGA.tsv.gz \n",
      "---------------------------------------------\n",
      " ohsu J_TCGA-C8-A12P-01A-11R-A115-07_0A51AGA.tsv\n",
      "TCGAC8A12P01A11RA11507\n"
     ]
    },
    {
     "name": "stderr",
     "output_type": "stream",
     "text": [
      "46it [00:00, 6431.69it/s]\n"
     ]
    },
    {
     "name": "stdout",
     "output_type": "stream",
     "text": [
      "['J', 'TCGA-C8-A12P-01A-11R-A115-07', '0A51AGA']\n",
      "['0', 'Any', '5', '1', 'Any']\n",
      "0\n",
      "11\n",
      "1\n",
      "3\n",
      "NEXT\n",
      "eth /cluster/work/grlab/projects/projects2020_OHSU/peptides_generation/CANCER_eth/commit_c4dd02c_conf2_Frame_cap0_runs/TCGA_Breast_1102/filtering_samples/filters_19May_order_5ge_wAnnot_GPstar/G_TCGA-A2-A0SX-01A-12R-A084-07_0A13AGA.tsv.gz \n",
      "---------------------------------------------\n",
      " ohsu J_TCGA-A2-A0SX-01A-12R-A084-07_0A13AGA.tsv\n",
      "eth /cluster/work/grlab/projects/projects2020_OHSU/peptides_generation/CANCER_eth/commit_c4dd02c_conf2_Frame_cap0_runs/TCGA_Breast_1102/filtering_samples/filters_19May_order_5ge_wAnnot_GPstar/G_TCGA-C8-A12P-01A-11R-A115-07_0253AGA.tsv.gz \n",
      "---------------------------------------------\n",
      " ohsu J_TCGA-C8-A12P-01A-11R-A115-07_0253AGA.tsv\n",
      "TCGAC8A12P01A11RA11507\n"
     ]
    },
    {
     "name": "stderr",
     "output_type": "stream",
     "text": [
      "119it [00:00, 6490.96it/s]\n"
     ]
    },
    {
     "name": "stdout",
     "output_type": "stream",
     "text": [
      "['J', 'TCGA-C8-A12P-01A-11R-A115-07', '0253AGA']\n",
      "['0', '2', '5', '3', 'Any']\n",
      "0\n",
      "6\n",
      "2\n",
      "8\n",
      "NEXT\n",
      "eth /cluster/work/grlab/projects/projects2020_OHSU/peptides_generation/CANCER_eth/commit_c4dd02c_conf2_Frame_cap0_runs/TCGA_Breast_1102/filtering_samples/filters_19May_order_5ge_wAnnot_GPstar/G_TCGA-A2-A0SX-01A-12R-A084-07_0251AGA.tsv.gz \n",
      "---------------------------------------------\n",
      " ohsu J_TCGA-A2-A0SX-01A-12R-A084-07_0251AGA.tsv\n",
      "eth /cluster/work/grlab/projects/projects2020_OHSU/peptides_generation/CANCER_eth/commit_c4dd02c_conf2_Frame_cap0_runs/TCGA_Breast_1102/filtering_samples/filters_19May_order_5ge_wAnnot_GPstar/G_TCGA-C8-A12P-01A-11R-A115-07_0AN01GA.tsv.gz \n",
      "---------------------------------------------\n",
      " ohsu J_TCGA-C8-A12P-01A-11R-A115-07_0AN01GA.tsv\n",
      "TCGAC8A12P01A11RA11507\n"
     ]
    },
    {
     "name": "stderr",
     "output_type": "stream",
     "text": [
      "201it [00:00, 6576.66it/s]\n"
     ]
    },
    {
     "name": "stdout",
     "output_type": "stream",
     "text": [
      "['J', 'TCGA-C8-A12P-01A-11R-A115-07', '0AN01GA']\n",
      "['0', 'Any', 'None', '0', '1']\n",
      "None\n",
      "905\n",
      "5\n",
      "18\n",
      "NEXT\n",
      "eth /cluster/work/grlab/projects/projects2020_OHSU/peptides_generation/CANCER_eth/commit_c4dd02c_conf2_Frame_cap0_runs/TCGA_Breast_1102/filtering_samples/filters_19May_order_5ge_wAnnot_GPstar/G_TCGA-C8-A12P-01A-11R-A115-07_02501GA.tsv.gz \n",
      "---------------------------------------------\n",
      " ohsu J_TCGA-C8-A12P-01A-11R-A115-07_02501GA.tsv\n",
      "TCGAC8A12P01A11RA11507\n"
     ]
    },
    {
     "name": "stderr",
     "output_type": "stream",
     "text": [
      "28it [00:00, 6180.75it/s]\n"
     ]
    },
    {
     "name": "stdout",
     "output_type": "stream",
     "text": [
      "['J', 'TCGA-C8-A12P-01A-11R-A115-07', '02501GA']\n",
      "['0', '2', '5', '0', '1']\n",
      "None\n",
      "2\n",
      "1\n",
      "1\n",
      "NEXT\n",
      "eth /cluster/work/grlab/projects/projects2020_OHSU/peptides_generation/CANCER_eth/commit_c4dd02c_conf2_Frame_cap0_runs/TCGA_Breast_1102/filtering_samples/filters_19May_order_5ge_wAnnot_GPstar/G_TCGA-AO-A0JM-01A-21R-A056-07_0A132GA.tsv.gz \n",
      "---------------------------------------------\n",
      " ohsu J_TCGA-AO-A0JM-01A-21R-A056-07_0A132GA.tsv\n",
      "eth /cluster/work/grlab/projects/projects2020_OHSU/peptides_generation/CANCER_eth/commit_c4dd02c_conf2_Frame_cap0_runs/TCGA_Breast_1102/filtering_samples/filters_19May_order_5ge_wAnnot_GPstar/G_TCGA-A2-A0D2-01A-21R-A034-07_0211AGA.tsv.gz \n",
      "---------------------------------------------\n",
      " ohsu J_TCGA-A2-A0D2-01A-21R-A034-07_0211AGA.tsv\n",
      "eth /cluster/work/grlab/projects/projects2020_OHSU/peptides_generation/CANCER_eth/commit_c4dd02c_conf2_Frame_cap0_runs/TCGA_Breast_1102/filtering_samples/filters_19May_order_5ge_wAnnot_GPstar/G_TCGA-A2-A0SX-01A-12R-A084-07_0AN12GA.tsv.gz \n",
      "---------------------------------------------\n",
      " ohsu J_TCGA-A2-A0SX-01A-12R-A084-07_0AN12GA.tsv\n",
      "eth /cluster/work/grlab/projects/projects2020_OHSU/peptides_generation/CANCER_eth/commit_c4dd02c_conf2_Frame_cap0_runs/TCGA_Breast_1102/filtering_samples/filters_19May_order_5ge_wAnnot_GPstar/G_TCGA-A2-A0SX-01A-12R-A084-07_0AN01GA.tsv.gz \n",
      "---------------------------------------------\n",
      " ohsu J_TCGA-A2-A0SX-01A-12R-A084-07_0AN01GA.tsv\n",
      "eth /cluster/work/grlab/projects/projects2020_OHSU/peptides_generation/CANCER_eth/commit_c4dd02c_conf2_Frame_cap0_runs/TCGA_Breast_1102/filtering_samples/filters_19May_order_5ge_wAnnot_GPstar/G_TCGA-C8-A12P-01A-11R-A115-07_0A501GA.tsv.gz \n",
      "---------------------------------------------\n",
      " ohsu J_TCGA-C8-A12P-01A-11R-A115-07_0A501GA.tsv\n",
      "TCGAC8A12P01A11RA11507\n"
     ]
    },
    {
     "name": "stderr",
     "output_type": "stream",
     "text": [
      "46it [00:00, 6422.06it/s]\n"
     ]
    },
    {
     "name": "stdout",
     "output_type": "stream",
     "text": [
      "['J', 'TCGA-C8-A12P-01A-11R-A115-07', '0A501GA']\n",
      "['0', 'Any', '5', '0', '1']\n",
      "None\n",
      "11\n",
      "1\n",
      "3\n",
      "NEXT\n",
      "eth /cluster/work/grlab/projects/projects2020_OHSU/peptides_generation/CANCER_eth/commit_c4dd02c_conf2_Frame_cap0_runs/TCGA_Breast_1102/filtering_samples/filters_19May_order_5ge_wAnnot_GPstar/G_TCGA-AO-A0JM-01A-21R-A056-07_0A51XGA.tsv.gz \n",
      "---------------------------------------------\n",
      " ohsu J_TCGA-AO-A0JM-01A-21R-A056-07_0A51XGA.tsv\n",
      "eth /cluster/work/grlab/projects/projects2020_OHSU/peptides_generation/CANCER_eth/commit_c4dd02c_conf2_Frame_cap0_runs/TCGA_Breast_1102/filtering_samples/filters_19May_order_5ge_wAnnot_GPstar/G_TCGA-A2-A0D2-01A-21R-A034-07_0A532GA.tsv.gz \n",
      "---------------------------------------------\n",
      " ohsu J_TCGA-A2-A0D2-01A-21R-A034-07_0A532GA.tsv\n",
      "eth /cluster/work/grlab/projects/projects2020_OHSU/peptides_generation/CANCER_eth/commit_c4dd02c_conf2_Frame_cap0_runs/TCGA_Breast_1102/filtering_samples/filters_19May_order_5ge_wAnnot_GPstar/G_TCGA-A2-A0D2-01A-21R-A034-07_02101GA.tsv.gz \n",
      "---------------------------------------------\n",
      " ohsu J_TCGA-A2-A0D2-01A-21R-A034-07_02101GA.tsv\n",
      "eth /cluster/work/grlab/projects/projects2020_OHSU/peptides_generation/CANCER_eth/commit_c4dd02c_conf2_Frame_cap0_runs/TCGA_Breast_1102/filtering_samples/filters_19May_order_5ge_wAnnot_GPstar/G_TCGA-A2-A0SX-01A-12R-A084-07_0A11AGA.tsv.gz \n",
      "---------------------------------------------\n",
      " ohsu J_TCGA-A2-A0SX-01A-12R-A084-07_0A11AGA.tsv\n",
      "eth /cluster/work/grlab/projects/projects2020_OHSU/peptides_generation/CANCER_eth/commit_c4dd02c_conf2_Frame_cap0_runs/TCGA_Breast_1102/filtering_samples/filters_19May_order_5ge_wAnnot_GPstar/G_TCGA-AO-A0JM-01A-21R-A056-07_0251XGA.tsv.gz \n",
      "---------------------------------------------\n",
      " ohsu J_TCGA-AO-A0JM-01A-21R-A056-07_0251XGA.tsv\n",
      "eth /cluster/work/grlab/projects/projects2020_OHSU/peptides_generation/CANCER_eth/commit_c4dd02c_conf2_Frame_cap0_runs/TCGA_Breast_1102/filtering_samples/filters_19May_order_5ge_wAnnot_GPstar/G_TCGA-AO-A0JM-01A-21R-A056-07_0213AGA.tsv.gz \n",
      "---------------------------------------------\n",
      " ohsu J_TCGA-AO-A0JM-01A-21R-A056-07_0213AGA.tsv\n",
      "eth /cluster/work/grlab/projects/projects2020_OHSU/peptides_generation/CANCER_eth/commit_c4dd02c_conf2_Frame_cap0_runs/TCGA_Breast_1102/filtering_samples/filters_19May_order_5ge_wAnnot_GPstar/G_TCGA-AO-A0JM-01A-21R-A056-07_02101GA.tsv.gz \n",
      "---------------------------------------------\n",
      " ohsu J_TCGA-AO-A0JM-01A-21R-A056-07_02101GA.tsv\n",
      "eth /cluster/work/grlab/projects/projects2020_OHSU/peptides_generation/CANCER_eth/commit_c4dd02c_conf2_Frame_cap0_runs/TCGA_Breast_1102/filtering_samples/filters_19May_order_5ge_wAnnot_GPstar/G_TCGA-BH-A18V-01A-11R-A12D-07_0A53XGA.tsv.gz \n",
      "---------------------------------------------\n",
      " ohsu J_TCGA-BH-A18V-01A-11R-A12D-07_0A53XGA.tsv\n",
      "eth /cluster/work/grlab/projects/projects2020_OHSU/peptides_generation/CANCER_eth/commit_c4dd02c_conf2_Frame_cap0_runs/TCGA_Breast_1102/filtering_samples/filters_19May_order_5ge_wAnnot_GPstar/G_TCGA-BH-A18V-01A-11R-A12D-07_0251AGA.tsv.gz \n",
      "---------------------------------------------\n",
      " ohsu J_TCGA-BH-A18V-01A-11R-A12D-07_0251AGA.tsv\n",
      "eth /cluster/work/grlab/projects/projects2020_OHSU/peptides_generation/CANCER_eth/commit_c4dd02c_conf2_Frame_cap0_runs/TCGA_Breast_1102/filtering_samples/filters_19May_order_5ge_wAnnot_GPstar/G_TCGA-A2-A0SX-01A-12R-A084-07_0A13XGA.tsv.gz \n",
      "---------------------------------------------\n",
      " ohsu J_TCGA-A2-A0SX-01A-12R-A084-07_0A13XGA.tsv\n",
      "eth /cluster/work/grlab/projects/projects2020_OHSU/peptides_generation/CANCER_eth/commit_c4dd02c_conf2_Frame_cap0_runs/TCGA_Breast_1102/filtering_samples/filters_19May_order_5ge_wAnnot_GPstar/G_TCGA-AO-A0JM-01A-21R-A056-07_0AN32GA.tsv.gz \n",
      "---------------------------------------------\n",
      " ohsu J_TCGA-AO-A0JM-01A-21R-A056-07_0AN32GA.tsv\n",
      "eth /cluster/work/grlab/projects/projects2020_OHSU/peptides_generation/CANCER_eth/commit_c4dd02c_conf2_Frame_cap0_runs/TCGA_Breast_1102/filtering_samples/filters_19May_order_5ge_wAnnot_GPstar/G_TCGA-A2-A0D2-01A-21R-A034-07_0A51XGA.tsv.gz \n",
      "---------------------------------------------\n",
      " ohsu J_TCGA-A2-A0D2-01A-21R-A034-07_0A51XGA.tsv\n",
      "eth /cluster/work/grlab/projects/projects2020_OHSU/peptides_generation/CANCER_eth/commit_c4dd02c_conf2_Frame_cap0_runs/TCGA_Breast_1102/filtering_samples/filters_19May_order_5ge_wAnnot_GPstar/G_TCGA-A2-A0D2-01A-21R-A034-07_0A132GA.tsv.gz \n",
      "---------------------------------------------\n",
      " ohsu J_TCGA-A2-A0D2-01A-21R-A034-07_0A132GA.tsv\n",
      "eth /cluster/work/grlab/projects/projects2020_OHSU/peptides_generation/CANCER_eth/commit_c4dd02c_conf2_Frame_cap0_runs/TCGA_Breast_1102/filtering_samples/filters_19May_order_5ge_wAnnot_GPstar/G_TCGA-AO-A0JM-01A-21R-A056-07_02512GA.tsv.gz \n",
      "---------------------------------------------\n",
      " ohsu J_TCGA-AO-A0JM-01A-21R-A056-07_02512GA.tsv\n",
      "eth /cluster/work/grlab/projects/projects2020_OHSU/peptides_generation/CANCER_eth/commit_c4dd02c_conf2_Frame_cap0_runs/TCGA_Breast_1102/filtering_samples/filters_19May_order_5ge_wAnnot_GPstar/G_TCGA-A2-A0D2-01A-21R-A034-07_0A512GA.tsv.gz \n",
      "---------------------------------------------\n",
      " ohsu J_TCGA-A2-A0D2-01A-21R-A034-07_0A512GA.tsv\n",
      "eth /cluster/work/grlab/projects/projects2020_OHSU/peptides_generation/CANCER_eth/commit_c4dd02c_conf2_Frame_cap0_runs/TCGA_Breast_1102/filtering_samples/filters_19May_order_5ge_wAnnot_GPstar/G_TCGA-AO-A0JM-01A-21R-A056-07_0A512GA.tsv.gz \n",
      "---------------------------------------------\n",
      " ohsu J_TCGA-AO-A0JM-01A-21R-A056-07_0A512GA.tsv\n",
      "eth /cluster/work/grlab/projects/projects2020_OHSU/peptides_generation/CANCER_eth/commit_c4dd02c_conf2_Frame_cap0_runs/TCGA_Breast_1102/filtering_samples/filters_19May_order_5ge_wAnnot_GPstar/G_TCGA-AO-A0JM-01A-21R-A056-07_0A501GA.tsv.gz \n",
      "---------------------------------------------\n",
      " ohsu J_TCGA-AO-A0JM-01A-21R-A056-07_0A501GA.tsv\n",
      "eth /cluster/work/grlab/projects/projects2020_OHSU/peptides_generation/CANCER_eth/commit_c4dd02c_conf2_Frame_cap0_runs/TCGA_Breast_1102/filtering_samples/filters_19May_order_5ge_wAnnot_GPstar/G_TCGA-BH-A18V-01A-11R-A12D-07_0A101GA.tsv.gz \n",
      "---------------------------------------------\n",
      " ohsu J_TCGA-BH-A18V-01A-11R-A12D-07_0A101GA.tsv\n",
      "eth /cluster/work/grlab/projects/projects2020_OHSU/peptides_generation/CANCER_eth/commit_c4dd02c_conf2_Frame_cap0_runs/TCGA_Breast_1102/filtering_samples/filters_19May_order_5ge_wAnnot_GPstar/G_TCGA-A2-A0SX-01A-12R-A084-07_02112GA.tsv.gz \n",
      "---------------------------------------------\n",
      " ohsu J_TCGA-A2-A0SX-01A-12R-A084-07_02112GA.tsv\n",
      "eth /cluster/work/grlab/projects/projects2020_OHSU/peptides_generation/CANCER_eth/commit_c4dd02c_conf2_Frame_cap0_runs/TCGA_Breast_1102/filtering_samples/filters_19May_order_5ge_wAnnot_GPstar/G_TCGA-A2-A0SX-01A-12R-A084-07_0253AGA.tsv.gz \n",
      "---------------------------------------------\n",
      " ohsu J_TCGA-A2-A0SX-01A-12R-A084-07_0253AGA.tsv\n",
      "eth /cluster/work/grlab/projects/projects2020_OHSU/peptides_generation/CANCER_eth/commit_c4dd02c_conf2_Frame_cap0_runs/TCGA_Breast_1102/filtering_samples/filters_19May_order_5ge_wAnnot_GPstar/G_TCGA-AO-A0JM-01A-21R-A056-07_0251AGA.tsv.gz \n",
      "---------------------------------------------\n",
      " ohsu J_TCGA-AO-A0JM-01A-21R-A056-07_0251AGA.tsv\n",
      "eth /cluster/work/grlab/projects/projects2020_OHSU/peptides_generation/CANCER_eth/commit_c4dd02c_conf2_Frame_cap0_runs/TCGA_Breast_1102/filtering_samples/filters_19May_order_5ge_wAnnot_GPstar/G_TCGA-AO-A0JM-01A-21R-A056-07_0AN01GA.tsv.gz \n",
      "---------------------------------------------\n",
      " ohsu J_TCGA-AO-A0JM-01A-21R-A056-07_0AN01GA.tsv\n",
      "eth /cluster/work/grlab/projects/projects2020_OHSU/peptides_generation/CANCER_eth/commit_c4dd02c_conf2_Frame_cap0_runs/TCGA_Breast_1102/filtering_samples/filters_19May_order_5ge_wAnnot_GPstar/G_TCGA-A2-A0D2-01A-21R-A034-07_0AN3XGA.tsv.gz \n",
      "---------------------------------------------\n",
      " ohsu J_TCGA-A2-A0D2-01A-21R-A034-07_0AN3XGA.tsv\n",
      "eth /cluster/work/grlab/projects/projects2020_OHSU/peptides_generation/CANCER_eth/commit_c4dd02c_conf2_Frame_cap0_runs/TCGA_Breast_1102/filtering_samples/filters_19May_order_5ge_wAnnot_GPstar/G_TCGA-BH-A18V-01A-11R-A12D-07_0A11XGA.tsv.gz \n",
      "---------------------------------------------\n",
      " ohsu J_TCGA-BH-A18V-01A-11R-A12D-07_0A11XGA.tsv\n",
      "eth /cluster/work/grlab/projects/projects2020_OHSU/peptides_generation/CANCER_eth/commit_c4dd02c_conf2_Frame_cap0_runs/TCGA_Breast_1102/filtering_samples/filters_19May_order_5ge_wAnnot_GPstar/G_TCGA-C8-A12P-01A-11R-A115-07_0213AGA.tsv.gz \n",
      "---------------------------------------------\n",
      " ohsu J_TCGA-C8-A12P-01A-11R-A115-07_0213AGA.tsv\n",
      "TCGAC8A12P01A11RA11507\n"
     ]
    },
    {
     "name": "stderr",
     "output_type": "stream",
     "text": [
      "504it [00:00, 3232.90it/s]\n"
     ]
    },
    {
     "name": "stdout",
     "output_type": "stream",
     "text": [
      "['J', 'TCGA-C8-A12P-01A-11R-A115-07', '0213AGA']\n",
      "['0', '2', '1', '3', 'Any']\n",
      "0\n",
      "49\n",
      "28\n",
      "30\n",
      "NEXT\n",
      "eth /cluster/work/grlab/projects/projects2020_OHSU/peptides_generation/CANCER_eth/commit_c4dd02c_conf2_Frame_cap0_runs/TCGA_Breast_1102/filtering_samples/filters_19May_order_5ge_wAnnot_GPstar/G_TCGA-BH-A18V-01A-11R-A12D-07_0253XGA.tsv.gz \n",
      "---------------------------------------------\n",
      " ohsu J_TCGA-BH-A18V-01A-11R-A12D-07_0253XGA.tsv\n",
      "eth /cluster/work/grlab/projects/projects2020_OHSU/peptides_generation/CANCER_eth/commit_c4dd02c_conf2_Frame_cap0_runs/TCGA_Breast_1102/filtering_samples/filters_19May_order_5ge_wAnnot_GPstar/G_TCGA-C8-A12P-01A-11R-A115-07_0AN3AGA.tsv.gz \n",
      "---------------------------------------------\n",
      " ohsu J_TCGA-C8-A12P-01A-11R-A115-07_0AN3AGA.tsv\n",
      "TCGAC8A12P01A11RA11507\n"
     ]
    },
    {
     "name": "stderr",
     "output_type": "stream",
     "text": [
      "720it [00:00, 3347.57it/s]\n"
     ]
    },
    {
     "name": "stdout",
     "output_type": "stream",
     "text": [
      "['J', 'TCGA-C8-A12P-01A-11R-A115-07', '0AN3AGA']\n",
      "['0', 'Any', 'None', '3', 'Any']\n",
      "0\n",
      "1400\n",
      "10\n",
      "75\n",
      "NEXT\n",
      "eth /cluster/work/grlab/projects/projects2020_OHSU/peptides_generation/CANCER_eth/commit_c4dd02c_conf2_Frame_cap0_runs/TCGA_Breast_1102/filtering_samples/filters_19May_order_5ge_wAnnot_GPstar/G_TCGA-BH-A18V-01A-11R-A12D-07_0A13AGA.tsv.gz \n",
      "---------------------------------------------\n",
      " ohsu J_TCGA-BH-A18V-01A-11R-A12D-07_0A13AGA.tsv\n",
      "eth /cluster/work/grlab/projects/projects2020_OHSU/peptides_generation/CANCER_eth/commit_c4dd02c_conf2_Frame_cap0_runs/TCGA_Breast_1102/filtering_samples/filters_19May_order_5ge_wAnnot_GPstar/G_TCGA-A2-A0SX-01A-12R-A084-07_02132GA.tsv.gz \n",
      "---------------------------------------------\n",
      " ohsu J_TCGA-A2-A0SX-01A-12R-A084-07_02132GA.tsv\n",
      "eth /cluster/work/grlab/projects/projects2020_OHSU/peptides_generation/CANCER_eth/commit_c4dd02c_conf2_Frame_cap0_runs/TCGA_Breast_1102/filtering_samples/filters_19May_order_5ge_wAnnot_GPstar/G_TCGA-C8-A12P-01A-11R-A115-07_0A51XGA.tsv.gz \n",
      "---------------------------------------------\n",
      " ohsu J_TCGA-C8-A12P-01A-11R-A115-07_0A51XGA.tsv\n",
      "TCGAC8A12P01A11RA11507\n"
     ]
    },
    {
     "name": "stderr",
     "output_type": "stream",
     "text": [
      "46it [00:00, 6339.14it/s]\n"
     ]
    },
    {
     "name": "stdout",
     "output_type": "stream",
     "text": [
      "['J', 'TCGA-C8-A12P-01A-11R-A115-07', '0A51XGA']\n",
      "['0', 'Any', '5', '1', '10']\n",
      "1\n",
      "11\n",
      "1\n",
      "3\n",
      "NEXT\n",
      "eth /cluster/work/grlab/projects/projects2020_OHSU/peptides_generation/CANCER_eth/commit_c4dd02c_conf2_Frame_cap0_runs/TCGA_Breast_1102/filtering_samples/filters_19May_order_5ge_wAnnot_GPstar/G_TCGA-AO-A0JM-01A-21R-A056-07_02132GA.tsv.gz \n",
      "---------------------------------------------\n",
      " ohsu J_TCGA-AO-A0JM-01A-21R-A056-07_02132GA.tsv\n",
      "eth /cluster/work/grlab/projects/projects2020_OHSU/peptides_generation/CANCER_eth/commit_c4dd02c_conf2_Frame_cap0_runs/TCGA_Breast_1102/filtering_samples/filters_19May_order_5ge_wAnnot_GPstar/G_TCGA-AO-A0JM-01A-21R-A056-07_0A11AGA.tsv.gz \n",
      "---------------------------------------------\n",
      " ohsu J_TCGA-AO-A0JM-01A-21R-A056-07_0A11AGA.tsv\n",
      "eth /cluster/work/grlab/projects/projects2020_OHSU/peptides_generation/CANCER_eth/commit_c4dd02c_conf2_Frame_cap0_runs/TCGA_Breast_1102/filtering_samples/filters_19May_order_5ge_wAnnot_GPstar/G_TCGA-A2-A0D2-01A-21R-A034-07_0A101GA.tsv.gz \n",
      "---------------------------------------------\n",
      " ohsu J_TCGA-A2-A0D2-01A-21R-A034-07_0A101GA.tsv\n",
      "eth /cluster/work/grlab/projects/projects2020_OHSU/peptides_generation/CANCER_eth/commit_c4dd02c_conf2_Frame_cap0_runs/TCGA_Breast_1102/filtering_samples/filters_19May_order_5ge_wAnnot_GPstar/G_TCGA-C8-A12P-01A-11R-A115-07_02512GA.tsv.gz \n",
      "---------------------------------------------\n",
      " ohsu J_TCGA-C8-A12P-01A-11R-A115-07_02512GA.tsv\n",
      "TCGAC8A12P01A11RA11507\n"
     ]
    },
    {
     "name": "stderr",
     "output_type": "stream",
     "text": [
      "28it [00:00, 6124.67it/s]\n"
     ]
    },
    {
     "name": "stdout",
     "output_type": "stream",
     "text": [
      "['J', 'TCGA-C8-A12P-01A-11R-A115-07', '02512GA']\n",
      "['0', '2', '5', '1', '2']\n",
      "2\n",
      "2\n",
      "1\n",
      "1\n",
      "NEXT\n",
      "eth /cluster/work/grlab/projects/projects2020_OHSU/peptides_generation/CANCER_eth/commit_c4dd02c_conf2_Frame_cap0_runs/TCGA_Breast_1102/filtering_samples/filters_19May_order_5ge_wAnnot_GPstar/G_TCGA-C8-A12P-01A-11R-A115-07_0A112GA.tsv.gz \n",
      "---------------------------------------------\n",
      " ohsu J_TCGA-C8-A12P-01A-11R-A115-07_0A112GA.tsv\n",
      "TCGAC8A12P01A11RA11507\n"
     ]
    },
    {
     "name": "stderr",
     "output_type": "stream",
     "text": [
      "118it [00:00, 3760.39it/s]\n"
     ]
    },
    {
     "name": "stdout",
     "output_type": "stream",
     "text": [
      "['J', 'TCGA-C8-A12P-01A-11R-A115-07', '0A112GA']\n",
      "['0', 'Any', '1', '1', '2']\n",
      "2\n",
      "69\n",
      "3\n",
      "11\n",
      "NEXT\n",
      "eth /cluster/work/grlab/projects/projects2020_OHSU/peptides_generation/CANCER_eth/commit_c4dd02c_conf2_Frame_cap0_runs/TCGA_Breast_1102/filtering_samples/filters_19May_order_5ge_wAnnot_GPstar/G_TCGA-BH-A18V-01A-11R-A12D-07_02132GA.tsv.gz \n",
      "---------------------------------------------\n",
      " ohsu J_TCGA-BH-A18V-01A-11R-A12D-07_02132GA.tsv\n",
      "eth /cluster/work/grlab/projects/projects2020_OHSU/peptides_generation/CANCER_eth/commit_c4dd02c_conf2_Frame_cap0_runs/TCGA_Breast_1102/filtering_samples/filters_19May_order_5ge_wAnnot_GPstar/G_TCGA-A2-A0SX-01A-12R-A084-07_0A51XGA.tsv.gz \n",
      "---------------------------------------------\n",
      " ohsu J_TCGA-A2-A0SX-01A-12R-A084-07_0A51XGA.tsv\n",
      "eth /cluster/work/grlab/projects/projects2020_OHSU/peptides_generation/CANCER_eth/commit_c4dd02c_conf2_Frame_cap0_runs/TCGA_Breast_1102/filtering_samples/filters_19May_order_5ge_wAnnot_GPstar/G_TCGA-A2-A0SX-01A-12R-A084-07_0AN32GA.tsv.gz \n",
      "---------------------------------------------\n",
      " ohsu J_TCGA-A2-A0SX-01A-12R-A084-07_0AN32GA.tsv\n",
      "eth /cluster/work/grlab/projects/projects2020_OHSU/peptides_generation/CANCER_eth/commit_c4dd02c_conf2_Frame_cap0_runs/TCGA_Breast_1102/filtering_samples/filters_19May_order_5ge_wAnnot_GPstar/G_TCGA-C8-A12P-01A-11R-A115-07_0AN12GA.tsv.gz \n",
      "---------------------------------------------\n",
      " ohsu J_TCGA-C8-A12P-01A-11R-A115-07_0AN12GA.tsv\n",
      "TCGAC8A12P01A11RA11507\n"
     ]
    },
    {
     "name": "stderr",
     "output_type": "stream",
     "text": [
      "202it [00:00, 2746.68it/s]\n"
     ]
    },
    {
     "name": "stdout",
     "output_type": "stream",
     "text": [
      "['J', 'TCGA-C8-A12P-01A-11R-A115-07', '0AN12GA']\n",
      "['0', 'Any', 'None', '1', '2']\n",
      "2\n",
      "922\n",
      "5\n",
      "19\n",
      "NEXT\n",
      "eth /cluster/work/grlab/projects/projects2020_OHSU/peptides_generation/CANCER_eth/commit_c4dd02c_conf2_Frame_cap0_runs/TCGA_Breast_1102/filtering_samples/filters_19May_order_5ge_wAnnot_GPstar/G_TCGA-C8-A12P-01A-11R-A115-07_02101GA.tsv.gz \n",
      "---------------------------------------------\n",
      " ohsu J_TCGA-C8-A12P-01A-11R-A115-07_02101GA.tsv\n",
      "TCGAC8A12P01A11RA11507\n"
     ]
    },
    {
     "name": "stderr",
     "output_type": "stream",
     "text": [
      "117it [00:00, 3458.35it/s]\n"
     ]
    },
    {
     "name": "stdout",
     "output_type": "stream",
     "text": [
      "['J', 'TCGA-C8-A12P-01A-11R-A115-07', '02101GA']\n",
      "['0', '2', '1', '0', '1']\n",
      "None\n",
      "20\n",
      "9\n",
      "4\n",
      "NEXT\n",
      "eth /cluster/work/grlab/projects/projects2020_OHSU/peptides_generation/CANCER_eth/commit_c4dd02c_conf2_Frame_cap0_runs/TCGA_Breast_1102/filtering_samples/filters_19May_order_5ge_wAnnot_GPstar/G_TCGA-C8-A12P-01A-11R-A115-07_0A532GA.tsv.gz \n",
      "---------------------------------------------\n",
      " ohsu J_TCGA-C8-A12P-01A-11R-A115-07_0A532GA.tsv\n",
      "TCGAC8A12P01A11RA11507\n"
     ]
    },
    {
     "name": "stderr",
     "output_type": "stream",
     "text": [
      "102it [00:00, 3214.39it/s]\n"
     ]
    },
    {
     "name": "stdout",
     "output_type": "stream",
     "text": [
      "['J', 'TCGA-C8-A12P-01A-11R-A115-07', '0A532GA']\n",
      "['0', 'Any', '5', '3', '2']\n",
      "2\n",
      "16\n",
      "1\n",
      "7\n",
      "NEXT\n",
      "eth /cluster/work/grlab/projects/projects2020_OHSU/peptides_generation/CANCER_eth/commit_c4dd02c_conf2_Frame_cap0_runs/TCGA_Breast_1102/filtering_samples/filters_19May_order_5ge_wAnnot_GPstar/G_TCGA-C8-A12P-01A-11R-A115-07_0A132GA.tsv.gz \n",
      "---------------------------------------------\n",
      " ohsu J_TCGA-C8-A12P-01A-11R-A115-07_0A132GA.tsv\n",
      "TCGAC8A12P01A11RA11507\n"
     ]
    },
    {
     "name": "stderr",
     "output_type": "stream",
     "text": [
      "217it [00:00, 3755.03it/s]\n"
     ]
    },
    {
     "name": "stdout",
     "output_type": "stream",
     "text": [
      "['J', 'TCGA-C8-A12P-01A-11R-A115-07', '0A132GA']\n",
      "['0', 'Any', '1', '3', '2']\n",
      "2\n",
      "121\n",
      "4\n",
      "18\n",
      "NEXT\n",
      "eth /cluster/work/grlab/projects/projects2020_OHSU/peptides_generation/CANCER_eth/commit_c4dd02c_conf2_Frame_cap0_runs/TCGA_Breast_1102/filtering_samples/filters_19May_order_5ge_wAnnot_GPstar/G_TCGA-A2-A0SX-01A-12R-A084-07_0A101GA.tsv.gz \n",
      "---------------------------------------------\n",
      " ohsu J_TCGA-A2-A0SX-01A-12R-A084-07_0A101GA.tsv\n",
      "eth /cluster/work/grlab/projects/projects2020_OHSU/peptides_generation/CANCER_eth/commit_c4dd02c_conf2_Frame_cap0_runs/TCGA_Breast_1102/filtering_samples/filters_19May_order_5ge_wAnnot_GPstar/G_TCGA-AO-A0JM-01A-21R-A056-07_0A101GA.tsv.gz \n",
      "---------------------------------------------\n",
      " ohsu J_TCGA-AO-A0JM-01A-21R-A056-07_0A101GA.tsv\n",
      "eth /cluster/work/grlab/projects/projects2020_OHSU/peptides_generation/CANCER_eth/commit_c4dd02c_conf2_Frame_cap0_runs/TCGA_Breast_1102/filtering_samples/filters_19May_order_5ge_wAnnot_GPstar/G_TCGA-A2-A0SX-01A-12R-A084-07_0A112GA.tsv.gz \n",
      "---------------------------------------------\n",
      " ohsu J_TCGA-A2-A0SX-01A-12R-A084-07_0A112GA.tsv\n",
      "eth /cluster/work/grlab/projects/projects2020_OHSU/peptides_generation/CANCER_eth/commit_c4dd02c_conf2_Frame_cap0_runs/TCGA_Breast_1102/filtering_samples/filters_19May_order_5ge_wAnnot_GPstar/G_TCGA-BH-A18V-01A-11R-A12D-07_0AN12GA.tsv.gz \n",
      "---------------------------------------------\n",
      " ohsu J_TCGA-BH-A18V-01A-11R-A12D-07_0AN12GA.tsv\n",
      "eth /cluster/work/grlab/projects/projects2020_OHSU/peptides_generation/CANCER_eth/commit_c4dd02c_conf2_Frame_cap0_runs/TCGA_Breast_1102/filtering_samples/filters_19May_order_5ge_wAnnot_GPstar/G_TCGA-A2-A0D2-01A-21R-A034-07_0AN32GA.tsv.gz \n",
      "---------------------------------------------\n",
      " ohsu J_TCGA-A2-A0D2-01A-21R-A034-07_0AN32GA.tsv\n",
      "eth /cluster/work/grlab/projects/projects2020_OHSU/peptides_generation/CANCER_eth/commit_c4dd02c_conf2_Frame_cap0_runs/TCGA_Breast_1102/filtering_samples/filters_19May_order_5ge_wAnnot_GPstar/G_TCGA-C8-A12P-01A-11R-A115-07_0A11XGA.tsv.gz \n",
      "---------------------------------------------\n",
      " ohsu J_TCGA-C8-A12P-01A-11R-A115-07_0A11XGA.tsv\n",
      "TCGAC8A12P01A11RA11507\n"
     ]
    },
    {
     "name": "stderr",
     "output_type": "stream",
     "text": [
      "118it [00:00, 6490.94it/s]\n"
     ]
    },
    {
     "name": "stdout",
     "output_type": "stream",
     "text": [
      "['J', 'TCGA-C8-A12P-01A-11R-A115-07', '0A11XGA']\n",
      "['0', 'Any', '1', '1', '10']\n",
      "1\n",
      "69\n",
      "3\n",
      "11\n",
      "NEXT\n",
      "eth /cluster/work/grlab/projects/projects2020_OHSU/peptides_generation/CANCER_eth/commit_c4dd02c_conf2_Frame_cap0_runs/TCGA_Breast_1102/filtering_samples/filters_19May_order_5ge_wAnnot_GPstar/G_TCGA-AO-A0JM-01A-21R-A056-07_0253XGA.tsv.gz \n",
      "---------------------------------------------\n",
      " ohsu J_TCGA-AO-A0JM-01A-21R-A056-07_0253XGA.tsv\n",
      "eth /cluster/work/grlab/projects/projects2020_OHSU/peptides_generation/CANCER_eth/commit_c4dd02c_conf2_Frame_cap0_runs/TCGA_Breast_1102/filtering_samples/filters_19May_order_5ge_wAnnot_GPstar/G_TCGA-A2-A0SX-01A-12R-A084-07_0A51AGA.tsv.gz \n",
      "---------------------------------------------\n",
      " ohsu J_TCGA-A2-A0SX-01A-12R-A084-07_0A51AGA.tsv\n",
      "eth /cluster/work/grlab/projects/projects2020_OHSU/peptides_generation/CANCER_eth/commit_c4dd02c_conf2_Frame_cap0_runs/TCGA_Breast_1102/filtering_samples/filters_19May_order_5ge_wAnnot_GPstar/G_TCGA-C8-A12P-01A-11R-A115-07_0A11AGA.tsv.gz \n",
      "---------------------------------------------\n",
      " ohsu J_TCGA-C8-A12P-01A-11R-A115-07_0A11AGA.tsv\n",
      "TCGAC8A12P01A11RA11507\n"
     ]
    },
    {
     "name": "stderr",
     "output_type": "stream",
     "text": [
      "118it [00:00, 6499.72it/s]\n"
     ]
    },
    {
     "name": "stdout",
     "output_type": "stream",
     "text": [
      "['J', 'TCGA-C8-A12P-01A-11R-A115-07', '0A11AGA']\n",
      "['0', 'Any', '1', '1', 'Any']\n",
      "0\n",
      "69\n",
      "3\n",
      "11\n",
      "NEXT\n",
      "eth /cluster/work/grlab/projects/projects2020_OHSU/peptides_generation/CANCER_eth/commit_c4dd02c_conf2_Frame_cap0_runs/TCGA_Breast_1102/filtering_samples/filters_19May_order_5ge_wAnnot_GPstar/G_TCGA-A2-A0D2-01A-21R-A034-07_0A13XGA.tsv.gz \n",
      "---------------------------------------------\n",
      " ohsu J_TCGA-A2-A0D2-01A-21R-A034-07_0A13XGA.tsv\n",
      "eth /cluster/work/grlab/projects/projects2020_OHSU/peptides_generation/CANCER_eth/commit_c4dd02c_conf2_Frame_cap0_runs/TCGA_Breast_1102/filtering_samples/filters_19May_order_5ge_wAnnot_GPstar/G_TCGA-C8-A12P-01A-11R-A115-07_0251AGA.tsv.gz \n",
      "---------------------------------------------\n",
      " ohsu J_TCGA-C8-A12P-01A-11R-A115-07_0251AGA.tsv\n",
      "TCGAC8A12P01A11RA11507\n"
     ]
    },
    {
     "name": "stderr",
     "output_type": "stream",
     "text": [
      "28it [00:00, 6224.32it/s]\n"
     ]
    },
    {
     "name": "stdout",
     "output_type": "stream",
     "text": [
      "['J', 'TCGA-C8-A12P-01A-11R-A115-07', '0251AGA']\n",
      "['0', '2', '5', '1', 'Any']\n",
      "0\n",
      "2\n",
      "1\n",
      "1\n",
      "NEXT\n",
      "eth /cluster/work/grlab/projects/projects2020_OHSU/peptides_generation/CANCER_eth/commit_c4dd02c_conf2_Frame_cap0_runs/TCGA_Breast_1102/filtering_samples/filters_19May_order_5ge_wAnnot_GPstar/G_TCGA-AO-A0JM-01A-21R-A056-07_0A112GA.tsv.gz \n",
      "---------------------------------------------\n",
      " ohsu J_TCGA-AO-A0JM-01A-21R-A056-07_0A112GA.tsv\n",
      "eth /cluster/work/grlab/projects/projects2020_OHSU/peptides_generation/CANCER_eth/commit_c4dd02c_conf2_Frame_cap0_runs/TCGA_Breast_1102/filtering_samples/filters_19May_order_5ge_wAnnot_GPstar/G_TCGA-BH-A18V-01A-11R-A12D-07_0A53AGA.tsv.gz \n",
      "---------------------------------------------\n",
      " ohsu J_TCGA-BH-A18V-01A-11R-A12D-07_0A53AGA.tsv\n",
      "eth /cluster/work/grlab/projects/projects2020_OHSU/peptides_generation/CANCER_eth/commit_c4dd02c_conf2_Frame_cap0_runs/TCGA_Breast_1102/filtering_samples/filters_19May_order_5ge_wAnnot_GPstar/G_TCGA-A2-A0D2-01A-21R-A034-07_0213XGA.tsv.gz \n",
      "---------------------------------------------\n",
      " ohsu J_TCGA-A2-A0D2-01A-21R-A034-07_0213XGA.tsv\n",
      "eth /cluster/work/grlab/projects/projects2020_OHSU/peptides_generation/CANCER_eth/commit_c4dd02c_conf2_Frame_cap0_runs/TCGA_Breast_1102/filtering_samples/filters_19May_order_5ge_wAnnot_GPstar/G_TCGA-A2-A0SX-01A-12R-A084-07_0A132GA.tsv.gz \n",
      "---------------------------------------------\n",
      " ohsu J_TCGA-A2-A0SX-01A-12R-A084-07_0A132GA.tsv\n",
      "eth /cluster/work/grlab/projects/projects2020_OHSU/peptides_generation/CANCER_eth/commit_c4dd02c_conf2_Frame_cap0_runs/TCGA_Breast_1102/filtering_samples/filters_19May_order_5ge_wAnnot_GPstar/G_TCGA-A2-A0D2-01A-21R-A034-07_0A112GA.tsv.gz \n",
      "---------------------------------------------\n",
      " ohsu J_TCGA-A2-A0D2-01A-21R-A034-07_0A112GA.tsv\n",
      "eth /cluster/work/grlab/projects/projects2020_OHSU/peptides_generation/CANCER_eth/commit_c4dd02c_conf2_Frame_cap0_runs/TCGA_Breast_1102/filtering_samples/filters_19May_order_5ge_wAnnot_GPstar/G_TCGA-C8-A12P-01A-11R-A115-07_02532GA.tsv.gz \n",
      "---------------------------------------------\n",
      " ohsu J_TCGA-C8-A12P-01A-11R-A115-07_02532GA.tsv\n",
      "TCGAC8A12P01A11RA11507\n"
     ]
    },
    {
     "name": "stderr",
     "output_type": "stream",
     "text": [
      "77it [00:00, 6466.99it/s]\n"
     ]
    },
    {
     "name": "stdout",
     "output_type": "stream",
     "text": [
      "['J', 'TCGA-C8-A12P-01A-11R-A115-07', '02532GA']\n",
      "['0', '2', '5', '3', '2']\n",
      "2\n",
      "2\n",
      "1\n",
      "4\n",
      "NEXT\n",
      "eth /cluster/work/grlab/projects/projects2020_OHSU/peptides_generation/CANCER_eth/commit_c4dd02c_conf2_Frame_cap0_runs/TCGA_Breast_1102/filtering_samples/filters_19May_order_5ge_wAnnot_GPstar/G_TCGA-AO-A0JM-01A-21R-A056-07_0A53AGA.tsv.gz \n",
      "---------------------------------------------\n",
      " ohsu J_TCGA-AO-A0JM-01A-21R-A056-07_0A53AGA.tsv\n",
      "eth /cluster/work/grlab/projects/projects2020_OHSU/peptides_generation/CANCER_eth/commit_c4dd02c_conf2_Frame_cap0_runs/TCGA_Breast_1102/filtering_samples/filters_19May_order_5ge_wAnnot_GPstar/G_TCGA-A2-A0SX-01A-12R-A084-07_0AN1XGA.tsv.gz \n",
      "---------------------------------------------\n",
      " ohsu J_TCGA-A2-A0SX-01A-12R-A084-07_0AN1XGA.tsv\n",
      "eth /cluster/work/grlab/projects/projects2020_OHSU/peptides_generation/CANCER_eth/commit_c4dd02c_conf2_Frame_cap0_runs/TCGA_Breast_1102/filtering_samples/filters_19May_order_5ge_wAnnot_GPstar/G_TCGA-A2-A0D2-01A-21R-A034-07_02501GA.tsv.gz \n",
      "---------------------------------------------\n",
      " ohsu J_TCGA-A2-A0D2-01A-21R-A034-07_02501GA.tsv\n",
      "eth /cluster/work/grlab/projects/projects2020_OHSU/peptides_generation/CANCER_eth/commit_c4dd02c_conf2_Frame_cap0_runs/TCGA_Breast_1102/filtering_samples/filters_19May_order_5ge_wAnnot_GPstar/G_TCGA-C8-A12P-01A-11R-A115-07_0A512GA.tsv.gz \n",
      "---------------------------------------------\n",
      " ohsu J_TCGA-C8-A12P-01A-11R-A115-07_0A512GA.tsv\n",
      "eth /cluster/work/grlab/projects/projects2020_OHSU/peptides_generation/CANCER_eth/commit_c4dd02c_conf2_Frame_cap0_runs/TCGA_Breast_1102/filtering_samples/filters_19May_order_5ge_wAnnot_GPstar/G_TCGA-A2-A0D2-01A-21R-A034-07_0A501GA.tsv.gz \n",
      "---------------------------------------------\n",
      " ohsu J_TCGA-A2-A0D2-01A-21R-A034-07_0A501GA.tsv\n",
      "eth /cluster/work/grlab/projects/projects2020_OHSU/peptides_generation/CANCER_eth/commit_c4dd02c_conf2_Frame_cap0_runs/TCGA_Breast_1102/filtering_samples/filters_19May_order_5ge_wAnnot_GPstar/G_TCGA-AO-A0JM-01A-21R-A056-07_0A11XGA.tsv.gz \n",
      "---------------------------------------------\n",
      " ohsu J_TCGA-AO-A0JM-01A-21R-A056-07_0A11XGA.tsv\n",
      "TCGAAOA0JM01A21RA05607\n"
     ]
    },
    {
     "name": "stderr",
     "output_type": "stream",
     "text": [
      "42it [00:00, 1894.36it/s]\n"
     ]
    },
    {
     "name": "stdout",
     "output_type": "stream",
     "text": [
      "['J', 'TCGA-AO-A0JM-01A-21R-A056-07', '0A11XGA']\n",
      "['0', 'Any', '1', '1', '10']\n",
      "1\n",
      "25\n",
      "2\n",
      "4\n",
      "NEXT\n",
      "eth /cluster/work/grlab/projects/projects2020_OHSU/peptides_generation/CANCER_eth/commit_c4dd02c_conf2_Frame_cap0_runs/TCGA_Breast_1102/filtering_samples/filters_19May_order_5ge_wAnnot_GPstar/G_TCGA-A2-A0D2-01A-21R-A034-07_0251AGA.tsv.gz \n",
      "---------------------------------------------\n",
      " ohsu J_TCGA-A2-A0D2-01A-21R-A034-07_0251AGA.tsv\n",
      "eth /cluster/work/grlab/projects/projects2020_OHSU/peptides_generation/CANCER_eth/commit_c4dd02c_conf2_Frame_cap0_runs/TCGA_Breast_1102/filtering_samples/filters_19May_order_5ge_wAnnot_GPstar/G_TCGA-C8-A12P-01A-11R-A115-07_0AN1AGA.tsv.gz \n",
      "---------------------------------------------\n",
      " ohsu J_TCGA-C8-A12P-01A-11R-A115-07_0AN1AGA.tsv\n",
      "eth /cluster/work/grlab/projects/projects2020_OHSU/peptides_generation/CANCER_eth/commit_c4dd02c_conf2_Frame_cap0_runs/TCGA_Breast_1102/filtering_samples/filters_19May_order_5ge_wAnnot_GPstar/G_TCGA-C8-A12P-01A-11R-A115-07_0A53AGA.tsv.gz \n",
      "---------------------------------------------\n",
      " ohsu J_TCGA-C8-A12P-01A-11R-A115-07_0A53AGA.tsv\n",
      "eth /cluster/work/grlab/projects/projects2020_OHSU/peptides_generation/CANCER_eth/commit_c4dd02c_conf2_Frame_cap0_runs/TCGA_Breast_1102/filtering_samples/filters_19May_order_5ge_wAnnot_GPstar/G_TCGA-C8-A12P-01A-11R-A115-07_02112GA.tsv.gz \n",
      "---------------------------------------------\n",
      " ohsu J_TCGA-C8-A12P-01A-11R-A115-07_02112GA.tsv\n",
      "eth /cluster/work/grlab/projects/projects2020_OHSU/peptides_generation/CANCER_eth/commit_c4dd02c_conf2_Frame_cap0_runs/TCGA_Breast_1102/filtering_samples/filters_19May_order_5ge_wAnnot_GPstar/G_TCGA-BH-A18V-01A-11R-A12D-07_02101GA.tsv.gz \n",
      "---------------------------------------------\n",
      " ohsu J_TCGA-BH-A18V-01A-11R-A12D-07_02101GA.tsv\n",
      "eth /cluster/work/grlab/projects/projects2020_OHSU/peptides_generation/CANCER_eth/commit_c4dd02c_conf2_Frame_cap0_runs/TCGA_Breast_1102/filtering_samples/filters_19May_order_5ge_wAnnot_GPstar/G_TCGA-A2-A0D2-01A-21R-A034-07_0AN12GA.tsv.gz \n",
      "---------------------------------------------\n",
      " ohsu J_TCGA-A2-A0D2-01A-21R-A034-07_0AN12GA.tsv\n",
      "eth /cluster/work/grlab/projects/projects2020_OHSU/peptides_generation/CANCER_eth/commit_c4dd02c_conf2_Frame_cap0_runs/TCGA_Breast_1102/filtering_samples/filters_19May_order_5ge_wAnnot_GPstar/G_TCGA-BH-A18V-01A-11R-A12D-07_02512GA.tsv.gz \n",
      "---------------------------------------------\n",
      " ohsu J_TCGA-BH-A18V-01A-11R-A12D-07_02512GA.tsv\n",
      "eth /cluster/work/grlab/projects/projects2020_OHSU/peptides_generation/CANCER_eth/commit_c4dd02c_conf2_Frame_cap0_runs/TCGA_Breast_1102/filtering_samples/filters_19May_order_5ge_wAnnot_GPstar/G_TCGA-C8-A12P-01A-11R-A115-07_0AN3XGA.tsv.gz \n",
      "---------------------------------------------\n",
      " ohsu J_TCGA-C8-A12P-01A-11R-A115-07_0AN3XGA.tsv\n",
      "eth /cluster/work/grlab/projects/projects2020_OHSU/peptides_generation/CANCER_eth/commit_c4dd02c_conf2_Frame_cap0_runs/TCGA_Breast_1102/filtering_samples/filters_19May_order_5ge_wAnnot_GPstar/G_TCGA-BH-A18V-01A-11R-A12D-07_02501GA.tsv.gz \n",
      "---------------------------------------------\n",
      " ohsu J_TCGA-BH-A18V-01A-11R-A12D-07_02501GA.tsv\n",
      "eth /cluster/work/grlab/projects/projects2020_OHSU/peptides_generation/CANCER_eth/commit_c4dd02c_conf2_Frame_cap0_runs/TCGA_Breast_1102/filtering_samples/filters_19May_order_5ge_wAnnot_GPstar/G_TCGA-C8-A12P-01A-11R-A115-07_0AN1XGA.tsv.gz \n",
      "---------------------------------------------\n",
      " ohsu J_TCGA-C8-A12P-01A-11R-A115-07_0AN1XGA.tsv\n",
      "eth /cluster/work/grlab/projects/projects2020_OHSU/peptides_generation/CANCER_eth/commit_c4dd02c_conf2_Frame_cap0_runs/TCGA_Breast_1102/filtering_samples/filters_19May_order_5ge_wAnnot_GPstar/G_TCGA-A2-A0D2-01A-21R-A034-07_0253XGA.tsv.gz \n",
      "---------------------------------------------\n",
      " ohsu J_TCGA-A2-A0D2-01A-21R-A034-07_0253XGA.tsv\n",
      "eth /cluster/work/grlab/projects/projects2020_OHSU/peptides_generation/CANCER_eth/commit_c4dd02c_conf2_Frame_cap0_runs/TCGA_Breast_1102/filtering_samples/filters_19May_order_5ge_wAnnot_GPstar/G_TCGA-AO-A0JM-01A-21R-A056-07_0AN12GA.tsv.gz \n",
      "---------------------------------------------\n",
      " ohsu J_TCGA-AO-A0JM-01A-21R-A056-07_0AN12GA.tsv\n",
      "TCGAAOA0JM01A21RA05607\n"
     ]
    },
    {
     "name": "stderr",
     "output_type": "stream",
     "text": [
      "452it [00:00, 3163.17it/s]\n"
     ]
    },
    {
     "name": "stdout",
     "output_type": "stream",
     "text": [
      "['J', 'TCGA-AO-A0JM-01A-21R-A056-07', '0AN12GA']\n",
      "['0', 'Any', 'None', '1', '2']\n",
      "2\n",
      "436\n",
      "15\n",
      "42\n",
      "NEXT\n",
      "eth /cluster/work/grlab/projects/projects2020_OHSU/peptides_generation/CANCER_eth/commit_c4dd02c_conf2_Frame_cap0_runs/TCGA_Breast_1102/filtering_samples/filters_19May_order_5ge_wAnnot_GPstar/G_TCGA-A2-A0SX-01A-12R-A084-07_0A11XGA.tsv.gz \n",
      "---------------------------------------------\n",
      " ohsu J_TCGA-A2-A0SX-01A-12R-A084-07_0A11XGA.tsv\n",
      "eth /cluster/work/grlab/projects/projects2020_OHSU/peptides_generation/CANCER_eth/commit_c4dd02c_conf2_Frame_cap0_runs/TCGA_Breast_1102/filtering_samples/filters_19May_order_5ge_wAnnot_GPstar/G_TCGA-AO-A0JM-01A-21R-A056-07_02501GA.tsv.gz \n",
      "---------------------------------------------\n",
      " ohsu J_TCGA-AO-A0JM-01A-21R-A056-07_02501GA.tsv\n",
      "TCGAAOA0JM01A21RA05607\n",
      "['J', 'TCGA-AO-A0JM-01A-21R-A056-07', '02501GA']\n",
      "['0', '2', '5', '0', '1']\n",
      "None\n",
      "0\n",
      "0\n",
      "0\n",
      "NEXT\n",
      "eth /cluster/work/grlab/projects/projects2020_OHSU/peptides_generation/CANCER_eth/commit_c4dd02c_conf2_Frame_cap0_runs/TCGA_Breast_1102/filtering_samples/filters_19May_order_5ge_wAnnot_GPstar/G_TCGA-BH-A18V-01A-11R-A12D-07_0251XGA.tsv.gz \n",
      "---------------------------------------------\n",
      " ohsu J_TCGA-BH-A18V-01A-11R-A12D-07_0251XGA.tsv\n",
      "eth /cluster/work/grlab/projects/projects2020_OHSU/peptides_generation/CANCER_eth/commit_c4dd02c_conf2_Frame_cap0_runs/TCGA_Breast_1102/filtering_samples/filters_19May_order_5ge_wAnnot_GPstar/G_TCGA-AO-A0JM-01A-21R-A056-07_0AN1AGA.tsv.gz \n",
      "---------------------------------------------\n",
      " ohsu J_TCGA-AO-A0JM-01A-21R-A056-07_0AN1AGA.tsv\n",
      "TCGAAOA0JM01A21RA05607\n"
     ]
    },
    {
     "name": "stderr",
     "output_type": "stream",
     "text": [
      "452it [00:00, 3313.31it/s]\n"
     ]
    },
    {
     "name": "stdout",
     "output_type": "stream",
     "text": [
      "['J', 'TCGA-AO-A0JM-01A-21R-A056-07', '0AN1AGA']\n",
      "['0', 'Any', 'None', '1', 'Any']\n",
      "0\n",
      "436\n",
      "15\n",
      "42\n",
      "NEXT\n",
      "eth /cluster/work/grlab/projects/projects2020_OHSU/peptides_generation/CANCER_eth/commit_c4dd02c_conf2_Frame_cap0_runs/TCGA_Breast_1102/filtering_samples/filters_19May_order_5ge_wAnnot_GPstar/G_TCGA-A2-A0SX-01A-12R-A084-07_02532GA.tsv.gz \n",
      "---------------------------------------------\n",
      " ohsu J_TCGA-A2-A0SX-01A-12R-A084-07_02532GA.tsv\n",
      "eth /cluster/work/grlab/projects/projects2020_OHSU/peptides_generation/CANCER_eth/commit_c4dd02c_conf2_Frame_cap0_runs/TCGA_Breast_1102/filtering_samples/filters_19May_order_5ge_wAnnot_GPstar/G_TCGA-AO-A0JM-01A-21R-A056-07_0AN1XGA.tsv.gz \n",
      "---------------------------------------------\n",
      " ohsu J_TCGA-AO-A0JM-01A-21R-A056-07_0AN1XGA.tsv\n",
      "TCGAAOA0JM01A21RA05607\n"
     ]
    },
    {
     "name": "stderr",
     "output_type": "stream",
     "text": [
      "452it [00:00, 2970.16it/s]\n"
     ]
    },
    {
     "name": "stdout",
     "output_type": "stream",
     "text": [
      "['J', 'TCGA-AO-A0JM-01A-21R-A056-07', '0AN1XGA']\n",
      "['0', 'Any', 'None', '1', '10']\n",
      "1\n",
      "436\n",
      "15\n",
      "42\n",
      "NEXT\n",
      "eth /cluster/work/grlab/projects/projects2020_OHSU/peptides_generation/CANCER_eth/commit_c4dd02c_conf2_Frame_cap0_runs/TCGA_Breast_1102/filtering_samples/filters_19May_order_5ge_wAnnot_GPstar/G_TCGA-BH-A18V-01A-11R-A12D-07_0AN3AGA.tsv.gz \n",
      "---------------------------------------------\n",
      " ohsu J_TCGA-BH-A18V-01A-11R-A12D-07_0AN3AGA.tsv\n",
      "eth /cluster/work/grlab/projects/projects2020_OHSU/peptides_generation/CANCER_eth/commit_c4dd02c_conf2_Frame_cap0_runs/TCGA_Breast_1102/filtering_samples/filters_19May_order_5ge_wAnnot_GPstar/G_TCGA-BH-A18V-01A-11R-A12D-07_0211XGA.tsv.gz \n",
      "---------------------------------------------\n",
      " ohsu J_TCGA-BH-A18V-01A-11R-A12D-07_0211XGA.tsv\n",
      "eth /cluster/work/grlab/projects/projects2020_OHSU/peptides_generation/CANCER_eth/commit_c4dd02c_conf2_Frame_cap0_runs/TCGA_Breast_1102/filtering_samples/filters_19May_order_5ge_wAnnot_GPstar/G_TCGA-C8-A12P-01A-11R-A115-07_0A101GA.tsv.gz \n",
      "---------------------------------------------\n",
      " ohsu J_TCGA-C8-A12P-01A-11R-A115-07_0A101GA.tsv\n",
      "eth /cluster/work/grlab/projects/projects2020_OHSU/peptides_generation/CANCER_eth/commit_c4dd02c_conf2_Frame_cap0_runs/TCGA_Breast_1102/filtering_samples/filters_19May_order_5ge_wAnnot_GPstar/G_TCGA-A2-A0SX-01A-12R-A084-07_0A512GA.tsv.gz \n",
      "---------------------------------------------\n",
      " ohsu J_TCGA-A2-A0SX-01A-12R-A084-07_0A512GA.tsv\n",
      "eth /cluster/work/grlab/projects/projects2020_OHSU/peptides_generation/CANCER_eth/commit_c4dd02c_conf2_Frame_cap0_runs/TCGA_Breast_1102/filtering_samples/filters_19May_order_5ge_wAnnot_GPstar/G_TCGA-A2-A0SX-01A-12R-A084-07_0AN3XGA.tsv.gz \n",
      "---------------------------------------------\n",
      " ohsu J_TCGA-A2-A0SX-01A-12R-A084-07_0AN3XGA.tsv\n",
      "eth /cluster/work/grlab/projects/projects2020_OHSU/peptides_generation/CANCER_eth/commit_c4dd02c_conf2_Frame_cap0_runs/TCGA_Breast_1102/filtering_samples/filters_19May_order_5ge_wAnnot_GPstar/G_TCGA-AO-A0JM-01A-21R-A056-07_0A51AGA.tsv.gz \n",
      "---------------------------------------------\n",
      " ohsu J_TCGA-AO-A0JM-01A-21R-A056-07_0A51AGA.tsv\n",
      "TCGAAOA0JM01A21RA05607\n"
     ]
    },
    {
     "name": "stderr",
     "output_type": "stream",
     "text": [
      "6it [00:00, 5067.62it/s]\n"
     ]
    },
    {
     "name": "stdout",
     "output_type": "stream",
     "text": [
      "['J', 'TCGA-AO-A0JM-01A-21R-A056-07', '0A51AGA']\n",
      "['0', 'Any', '5', '1', 'Any']\n",
      "0\n",
      "1\n",
      "1\n",
      "0\n",
      "NEXT\n",
      "eth /cluster/work/grlab/projects/projects2020_OHSU/peptides_generation/CANCER_eth/commit_c4dd02c_conf2_Frame_cap0_runs/TCGA_Breast_1102/filtering_samples/filters_19May_order_5ge_wAnnot_GPstar/G_TCGA-AO-A0JM-01A-21R-A056-07_0A13XGA.tsv.gz \n",
      "---------------------------------------------\n",
      " ohsu J_TCGA-AO-A0JM-01A-21R-A056-07_0A13XGA.tsv\n",
      "TCGAAOA0JM01A21RA05607\n"
     ]
    },
    {
     "name": "stderr",
     "output_type": "stream",
     "text": [
      "317it [00:00, 6518.96it/s]\n"
     ]
    },
    {
     "name": "stdout",
     "output_type": "stream",
     "text": [
      "['J', 'TCGA-AO-A0JM-01A-21R-A056-07', '0A13XGA']\n",
      "['0', 'Any', '1', '3', '10']\n",
      "1\n",
      "89\n",
      "7\n",
      "27\n",
      "NEXT\n",
      "eth /cluster/work/grlab/projects/projects2020_OHSU/peptides_generation/CANCER_eth/commit_c4dd02c_conf2_Frame_cap0_runs/TCGA_Breast_1102/filtering_samples/filters_19May_order_5ge_wAnnot_GPstar/G_TCGA-A2-A0D2-01A-21R-A034-07_0A13AGA.tsv.gz \n",
      "---------------------------------------------\n",
      " ohsu J_TCGA-A2-A0D2-01A-21R-A034-07_0A13AGA.tsv\n",
      "eth /cluster/work/grlab/projects/projects2020_OHSU/peptides_generation/CANCER_eth/commit_c4dd02c_conf2_Frame_cap0_runs/TCGA_Breast_1102/filtering_samples/filters_19May_order_5ge_wAnnot_GPstar/G_TCGA-BH-A18V-01A-11R-A12D-07_0A532GA.tsv.gz \n",
      "---------------------------------------------\n",
      " ohsu J_TCGA-BH-A18V-01A-11R-A12D-07_0A532GA.tsv\n",
      "eth /cluster/work/grlab/projects/projects2020_OHSU/peptides_generation/CANCER_eth/commit_c4dd02c_conf2_Frame_cap0_runs/TCGA_Breast_1102/filtering_samples/filters_19May_order_5ge_wAnnot_GPstar/G_TCGA-AO-A0JM-01A-21R-A056-07_0AN3XGA.tsv.gz \n",
      "---------------------------------------------\n",
      " ohsu J_TCGA-AO-A0JM-01A-21R-A056-07_0AN3XGA.tsv\n",
      "TCGAAOA0JM01A21RA05607\n"
     ]
    },
    {
     "name": "stderr",
     "output_type": "stream",
     "text": [
      "876it [00:00, 6445.01it/s]\n"
     ]
    },
    {
     "name": "stdout",
     "output_type": "stream",
     "text": [
      "['J', 'TCGA-AO-A0JM-01A-21R-A056-07', '0AN3XGA']\n",
      "['0', 'Any', 'None', '3', '10']\n",
      "1\n",
      "591\n",
      "19\n",
      "83\n",
      "NEXT\n",
      "eth /cluster/work/grlab/projects/projects2020_OHSU/peptides_generation/CANCER_eth/commit_c4dd02c_conf2_Frame_cap0_runs/TCGA_Breast_1102/filtering_samples/filters_19May_order_5ge_wAnnot_GPstar/G_TCGA-C8-A12P-01A-11R-A115-07_0AN32GA.tsv.gz \n",
      "---------------------------------------------\n",
      " ohsu J_TCGA-C8-A12P-01A-11R-A115-07_0AN32GA.tsv\n",
      "eth /cluster/work/grlab/projects/projects2020_OHSU/peptides_generation/CANCER_eth/commit_c4dd02c_conf2_Frame_cap0_runs/TCGA_Breast_1102/filtering_samples/filters_19May_order_5ge_wAnnot_GPstar/G_TCGA-AO-A0JM-01A-21R-A056-07_0A53XGA.tsv.gz \n",
      "---------------------------------------------\n",
      " ohsu J_TCGA-AO-A0JM-01A-21R-A056-07_0A53XGA.tsv\n",
      "TCGAAOA0JM01A21RA05607\n"
     ]
    },
    {
     "name": "stderr",
     "output_type": "stream",
     "text": [
      "164it [00:00, 6571.95it/s]\n"
     ]
    },
    {
     "name": "stdout",
     "output_type": "stream",
     "text": [
      "['J', 'TCGA-AO-A0JM-01A-21R-A056-07', '0A53XGA']\n",
      "['0', 'Any', '5', '3', '10']\n",
      "1\n",
      "14\n",
      "3\n",
      "10\n",
      "NEXT\n",
      "eth /cluster/work/grlab/projects/projects2020_OHSU/peptides_generation/CANCER_eth/commit_c4dd02c_conf2_Frame_cap0_runs/TCGA_Breast_1102/filtering_samples/filters_19May_order_5ge_wAnnot_GPstar/G_TCGA-C8-A12P-01A-11R-A115-07_0A13AGA.tsv.gz \n",
      "---------------------------------------------\n",
      " ohsu J_TCGA-C8-A12P-01A-11R-A115-07_0A13AGA.tsv\n",
      "eth /cluster/work/grlab/projects/projects2020_OHSU/peptides_generation/CANCER_eth/commit_c4dd02c_conf2_Frame_cap0_runs/TCGA_Breast_1102/filtering_samples/filters_19May_order_5ge_wAnnot_GPstar/G_TCGA-A2-A0D2-01A-21R-A034-07_02112GA.tsv.gz \n",
      "---------------------------------------------\n",
      " ohsu J_TCGA-A2-A0D2-01A-21R-A034-07_02112GA.tsv\n",
      "eth /cluster/work/grlab/projects/projects2020_OHSU/peptides_generation/CANCER_eth/commit_c4dd02c_conf2_Frame_cap0_runs/TCGA_Breast_1102/filtering_samples/filters_19May_order_5ge_wAnnot_GPstar/G_TCGA-BH-A18V-01A-11R-A12D-07_0213XGA.tsv.gz \n",
      "---------------------------------------------\n",
      " ohsu J_TCGA-BH-A18V-01A-11R-A12D-07_0213XGA.tsv\n",
      "eth /cluster/work/grlab/projects/projects2020_OHSU/peptides_generation/CANCER_eth/commit_c4dd02c_conf2_Frame_cap0_runs/TCGA_Breast_1102/filtering_samples/filters_19May_order_5ge_wAnnot_GPstar/G_TCGA-A2-A0SX-01A-12R-A084-07_0A53AGA.tsv.gz \n",
      "---------------------------------------------\n",
      " ohsu J_TCGA-A2-A0SX-01A-12R-A084-07_0A53AGA.tsv\n",
      "eth /cluster/work/grlab/projects/projects2020_OHSU/peptides_generation/CANCER_eth/commit_c4dd02c_conf2_Frame_cap0_runs/TCGA_Breast_1102/filtering_samples/filters_19May_order_5ge_wAnnot_GPstar/G_TCGA-BH-A18V-01A-11R-A12D-07_0AN3XGA.tsv.gz \n",
      "---------------------------------------------\n",
      " ohsu J_TCGA-BH-A18V-01A-11R-A12D-07_0AN3XGA.tsv\n",
      "eth /cluster/work/grlab/projects/projects2020_OHSU/peptides_generation/CANCER_eth/commit_c4dd02c_conf2_Frame_cap0_runs/TCGA_Breast_1102/filtering_samples/filters_19May_order_5ge_wAnnot_GPstar/G_TCGA-A2-A0D2-01A-21R-A034-07_0213AGA.tsv.gz \n",
      "---------------------------------------------\n",
      " ohsu J_TCGA-A2-A0D2-01A-21R-A034-07_0213AGA.tsv\n",
      "eth /cluster/work/grlab/projects/projects2020_OHSU/peptides_generation/CANCER_eth/commit_c4dd02c_conf2_Frame_cap0_runs/TCGA_Breast_1102/filtering_samples/filters_19May_order_5ge_wAnnot_GPstar/G_TCGA-A2-A0D2-01A-21R-A034-07_0A51AGA.tsv.gz \n",
      "---------------------------------------------\n",
      " ohsu J_TCGA-A2-A0D2-01A-21R-A034-07_0A51AGA.tsv\n",
      "eth /cluster/work/grlab/projects/projects2020_OHSU/peptides_generation/CANCER_eth/commit_c4dd02c_conf2_Frame_cap0_runs/TCGA_Breast_1102/filtering_samples/filters_19May_order_5ge_wAnnot_GPstar/G_TCGA-A2-A0SX-01A-12R-A084-07_0AN1AGA.tsv.gz \n",
      "---------------------------------------------\n",
      " ohsu J_TCGA-A2-A0SX-01A-12R-A084-07_0AN1AGA.tsv\n",
      "eth /cluster/work/grlab/projects/projects2020_OHSU/peptides_generation/CANCER_eth/commit_c4dd02c_conf2_Frame_cap0_runs/TCGA_Breast_1102/filtering_samples/filters_19May_order_5ge_wAnnot_GPstar/G_TCGA-BH-A18V-01A-11R-A12D-07_0AN1XGA.tsv.gz \n",
      "---------------------------------------------\n",
      " ohsu J_TCGA-BH-A18V-01A-11R-A12D-07_0AN1XGA.tsv\n",
      "eth /cluster/work/grlab/projects/projects2020_OHSU/peptides_generation/CANCER_eth/commit_c4dd02c_conf2_Frame_cap0_runs/TCGA_Breast_1102/filtering_samples/filters_19May_order_5ge_wAnnot_GPstar/G_TCGA-A2-A0D2-01A-21R-A034-07_0A11XGA.tsv.gz \n",
      "---------------------------------------------\n",
      " ohsu J_TCGA-A2-A0D2-01A-21R-A034-07_0A11XGA.tsv\n",
      "eth /cluster/work/grlab/projects/projects2020_OHSU/peptides_generation/CANCER_eth/commit_c4dd02c_conf2_Frame_cap0_runs/TCGA_Breast_1102/filtering_samples/filters_19May_order_5ge_wAnnot_GPstar/G_TCGA-C8-A12P-01A-11R-A115-07_0251XGA.tsv.gz \n",
      "---------------------------------------------\n",
      " ohsu J_TCGA-C8-A12P-01A-11R-A115-07_0251XGA.tsv\n",
      "eth /cluster/work/grlab/projects/projects2020_OHSU/peptides_generation/CANCER_eth/commit_c4dd02c_conf2_Frame_cap0_runs/TCGA_Breast_1102/filtering_samples/filters_19May_order_5ge_wAnnot_GPstar/G_TCGA-BH-A18V-01A-11R-A12D-07_0A51XGA.tsv.gz \n",
      "---------------------------------------------\n",
      " ohsu J_TCGA-BH-A18V-01A-11R-A12D-07_0A51XGA.tsv\n",
      "eth /cluster/work/grlab/projects/projects2020_OHSU/peptides_generation/CANCER_eth/commit_c4dd02c_conf2_Frame_cap0_runs/TCGA_Breast_1102/filtering_samples/filters_19May_order_5ge_wAnnot_GPstar/G_TCGA-AO-A0JM-01A-21R-A056-07_0AN3AGA.tsv.gz \n",
      "---------------------------------------------\n",
      " ohsu J_TCGA-AO-A0JM-01A-21R-A056-07_0AN3AGA.tsv\n",
      "TCGAAOA0JM01A21RA05607\n"
     ]
    },
    {
     "name": "stderr",
     "output_type": "stream",
     "text": [
      "1000it [00:00, 6791.67it/s]\n"
     ]
    },
    {
     "name": "stdout",
     "output_type": "stream",
     "text": [
      "['J', 'TCGA-AO-A0JM-01A-21R-A056-07', '0AN3AGA']\n",
      "['0', 'Any', 'None', '3', 'Any']\n",
      "0\n",
      "612\n",
      "19\n",
      "95\n",
      "NEXT\n",
      "eth /cluster/work/grlab/projects/projects2020_OHSU/peptides_generation/CANCER_eth/commit_c4dd02c_conf2_Frame_cap0_runs/TCGA_Breast_1102/filtering_samples/filters_19May_order_5ge_wAnnot_GPstar/G_TCGA-A2-A0SX-01A-12R-A084-07_0253XGA.tsv.gz \n",
      "---------------------------------------------\n",
      " ohsu J_TCGA-A2-A0SX-01A-12R-A084-07_0253XGA.tsv\n",
      "eth /cluster/work/grlab/projects/projects2020_OHSU/peptides_generation/CANCER_eth/commit_c4dd02c_conf2_Frame_cap0_runs/TCGA_Breast_1102/filtering_samples/filters_19May_order_5ge_wAnnot_GPstar/G_TCGA-A2-A0D2-01A-21R-A034-07_0A53XGA.tsv.gz \n",
      "---------------------------------------------\n",
      " ohsu J_TCGA-A2-A0D2-01A-21R-A034-07_0A53XGA.tsv\n",
      "eth /cluster/work/grlab/projects/projects2020_OHSU/peptides_generation/CANCER_eth/commit_c4dd02c_conf2_Frame_cap0_runs/TCGA_Breast_1102/filtering_samples/filters_19May_order_5ge_wAnnot_GPstar/G_TCGA-C8-A12P-01A-11R-A115-07_0A53XGA.tsv.gz \n",
      "---------------------------------------------\n",
      " ohsu J_TCGA-C8-A12P-01A-11R-A115-07_0A53XGA.tsv\n",
      "eth /cluster/work/grlab/projects/projects2020_OHSU/peptides_generation/CANCER_eth/commit_c4dd02c_conf2_Frame_cap0_runs/TCGA_Breast_1102/filtering_samples/filters_19May_order_5ge_wAnnot_GPstar/G_TCGA-BH-A18V-01A-11R-A12D-07_0AN1AGA.tsv.gz \n",
      "---------------------------------------------\n",
      " ohsu J_TCGA-BH-A18V-01A-11R-A12D-07_0AN1AGA.tsv\n",
      "eth /cluster/work/grlab/projects/projects2020_OHSU/peptides_generation/CANCER_eth/commit_c4dd02c_conf2_Frame_cap0_runs/TCGA_Breast_1102/filtering_samples/filters_19May_order_5ge_wAnnot_GPstar/G_TCGA-A2-A0SX-01A-12R-A084-07_0A53XGA.tsv.gz \n",
      "---------------------------------------------\n",
      " ohsu J_TCGA-A2-A0SX-01A-12R-A084-07_0A53XGA.tsv\n",
      "eth /cluster/work/grlab/projects/projects2020_OHSU/peptides_generation/CANCER_eth/commit_c4dd02c_conf2_Frame_cap0_runs/TCGA_Breast_1102/filtering_samples/filters_19May_order_5ge_wAnnot_GPstar/G_TCGA-A2-A0D2-01A-21R-A034-07_0AN1AGA.tsv.gz \n",
      "---------------------------------------------\n",
      " ohsu J_TCGA-A2-A0D2-01A-21R-A034-07_0AN1AGA.tsv\n",
      "eth /cluster/work/grlab/projects/projects2020_OHSU/peptides_generation/CANCER_eth/commit_c4dd02c_conf2_Frame_cap0_runs/TCGA_Breast_1102/filtering_samples/filters_19May_order_5ge_wAnnot_GPstar/G_TCGA-AO-A0JM-01A-21R-A056-07_02112GA.tsv.gz \n",
      "---------------------------------------------\n",
      " ohsu J_TCGA-AO-A0JM-01A-21R-A056-07_02112GA.tsv\n",
      "TCGAAOA0JM01A21RA05607\n"
     ]
    },
    {
     "name": "stderr",
     "output_type": "stream",
     "text": [
      "28it [00:00, 6433.69it/s]\n"
     ]
    },
    {
     "name": "stdout",
     "output_type": "stream",
     "text": [
      "['J', 'TCGA-AO-A0JM-01A-21R-A056-07', '02112GA']\n",
      "['0', '2', '1', '1', '2']\n",
      "2\n",
      "5\n",
      "2\n",
      "2\n",
      "NEXT\n",
      "eth /cluster/work/grlab/projects/projects2020_OHSU/peptides_generation/CANCER_eth/commit_c4dd02c_conf2_Frame_cap0_runs/TCGA_Breast_1102/filtering_samples/filters_19May_order_5ge_wAnnot_GPstar/G_TCGA-C8-A12P-01A-11R-A115-07_0213XGA.tsv.gz \n",
      "---------------------------------------------\n",
      " ohsu J_TCGA-C8-A12P-01A-11R-A115-07_0213XGA.tsv\n",
      "eth /cluster/work/grlab/projects/projects2020_OHSU/peptides_generation/CANCER_eth/commit_c4dd02c_conf2_Frame_cap0_runs/TCGA_Breast_1102/filtering_samples/filters_19May_order_5ge_wAnnot_GPstar/G_TCGA-BH-A18V-01A-11R-A12D-07_0A112GA.tsv.gz \n",
      "---------------------------------------------\n",
      " ohsu J_TCGA-BH-A18V-01A-11R-A12D-07_0A112GA.tsv\n",
      "eth /cluster/work/grlab/projects/projects2020_OHSU/peptides_generation/CANCER_eth/commit_c4dd02c_conf2_Frame_cap0_runs/TCGA_Breast_1102/filtering_samples/filters_19May_order_5ge_wAnnot_GPstar/G_TCGA-AO-A0JM-01A-21R-A056-07_0253AGA.tsv.gz \n",
      "---------------------------------------------\n",
      " ohsu J_TCGA-AO-A0JM-01A-21R-A056-07_0253AGA.tsv\n",
      "TCGAAOA0JM01A21RA05607\n"
     ]
    },
    {
     "name": "stderr",
     "output_type": "stream",
     "text": [
      "65it [00:00, 6357.38it/s]\n"
     ]
    },
    {
     "name": "stdout",
     "output_type": "stream",
     "text": [
      "['J', 'TCGA-AO-A0JM-01A-21R-A056-07', '0253AGA']\n",
      "['0', '2', '5', '3', 'Any']\n",
      "0\n",
      "11\n",
      "1\n",
      "6\n",
      "NEXT\n",
      "eth /cluster/work/grlab/projects/projects2020_OHSU/peptides_generation/CANCER_eth/commit_c4dd02c_conf2_Frame_cap0_runs/TCGA_Breast_1102/filtering_samples/filters_19May_order_5ge_wAnnot_GPstar/G_TCGA-BH-A18V-01A-11R-A12D-07_0AN01GA.tsv.gz \n",
      "---------------------------------------------\n",
      " ohsu J_TCGA-BH-A18V-01A-11R-A12D-07_0AN01GA.tsv\n",
      "eth /cluster/work/grlab/projects/projects2020_OHSU/peptides_generation/CANCER_eth/commit_c4dd02c_conf2_Frame_cap0_runs/TCGA_Breast_1102/filtering_samples/filters_19May_order_5ge_wAnnot_GPstar/G_TCGA-A2-A0D2-01A-21R-A034-07_0251XGA.tsv.gz \n",
      "---------------------------------------------\n",
      " ohsu J_TCGA-A2-A0D2-01A-21R-A034-07_0251XGA.tsv\n",
      "eth /cluster/work/grlab/projects/projects2020_OHSU/peptides_generation/CANCER_eth/commit_c4dd02c_conf2_Frame_cap0_runs/TCGA_Breast_1102/filtering_samples/filters_19May_order_5ge_wAnnot_GPstar/G_TCGA-AO-A0JM-01A-21R-A056-07_0211AGA.tsv.gz \n",
      "---------------------------------------------\n",
      " ohsu J_TCGA-AO-A0JM-01A-21R-A056-07_0211AGA.tsv\n",
      "TCGAAOA0JM01A21RA05607\n"
     ]
    },
    {
     "name": "stderr",
     "output_type": "stream",
     "text": [
      "28it [00:00, 6099.54it/s]\n"
     ]
    },
    {
     "name": "stdout",
     "output_type": "stream",
     "text": [
      "['J', 'TCGA-AO-A0JM-01A-21R-A056-07', '0211AGA']\n",
      "['0', '2', '1', '1', 'Any']\n",
      "0\n",
      "5\n",
      "2\n",
      "2\n",
      "NEXT\n",
      "eth /cluster/work/grlab/projects/projects2020_OHSU/peptides_generation/CANCER_eth/commit_c4dd02c_conf2_Frame_cap0_runs/TCGA_Breast_1102/filtering_samples/filters_19May_order_5ge_wAnnot_GPstar/G_TCGA-AO-A0JM-01A-21R-A056-07_02532GA.tsv.gz \n",
      "---------------------------------------------\n",
      " ohsu J_TCGA-AO-A0JM-01A-21R-A056-07_02532GA.tsv\n",
      "TCGAAOA0JM01A21RA05607\n"
     ]
    },
    {
     "name": "stderr",
     "output_type": "stream",
     "text": [
      "32it [00:00, 6211.20it/s]\n"
     ]
    },
    {
     "name": "stdout",
     "output_type": "stream",
     "text": [
      "['J', 'TCGA-AO-A0JM-01A-21R-A056-07', '02532GA']\n",
      "['0', '2', '5', '3', '2']\n",
      "2\n",
      "2\n",
      "0\n",
      "2\n",
      "NEXT\n",
      "eth /cluster/work/grlab/projects/projects2020_OHSU/peptides_generation/CANCER_eth/commit_c4dd02c_conf2_Frame_cap0_runs/TCGA_Breast_1102/filtering_samples/filters_19May_order_5ge_wAnnot_GPstar/G_TCGA-A2-A0D2-01A-21R-A034-07_02512GA.tsv.gz \n",
      "---------------------------------------------\n",
      " ohsu J_TCGA-A2-A0D2-01A-21R-A034-07_02512GA.tsv\n",
      "eth /cluster/work/grlab/projects/projects2020_OHSU/peptides_generation/CANCER_eth/commit_c4dd02c_conf2_Frame_cap0_runs/TCGA_Breast_1102/filtering_samples/filters_19May_order_5ge_wAnnot_GPstar/G_TCGA-BH-A18V-01A-11R-A12D-07_0A51AGA.tsv.gz \n",
      "---------------------------------------------\n",
      " ohsu J_TCGA-BH-A18V-01A-11R-A12D-07_0A51AGA.tsv\n",
      "eth /cluster/work/grlab/projects/projects2020_OHSU/peptides_generation/CANCER_eth/commit_c4dd02c_conf2_Frame_cap0_runs/TCGA_Breast_1102/filtering_samples/filters_19May_order_5ge_wAnnot_GPstar/G_TCGA-A2-A0SX-01A-12R-A084-07_02101GA.tsv.gz \n",
      "---------------------------------------------\n",
      " ohsu J_TCGA-A2-A0SX-01A-12R-A084-07_02101GA.tsv\n",
      "eth /cluster/work/grlab/projects/projects2020_OHSU/peptides_generation/CANCER_eth/commit_c4dd02c_conf2_Frame_cap0_runs/TCGA_Breast_1102/filtering_samples/filters_19May_order_5ge_wAnnot_GPstar/G_TCGA-AO-A0JM-01A-21R-A056-07_0A532GA.tsv.gz \n",
      "---------------------------------------------\n",
      " ohsu J_TCGA-AO-A0JM-01A-21R-A056-07_0A532GA.tsv\n",
      "TCGAAOA0JM01A21RA05607\n"
     ]
    },
    {
     "name": "stderr",
     "output_type": "stream",
     "text": [
      "39it [00:00, 6242.95it/s]\n"
     ]
    },
    {
     "name": "stdout",
     "output_type": "stream",
     "text": [
      "['J', 'TCGA-AO-A0JM-01A-21R-A056-07', '0A532GA']\n",
      "['0', 'Any', '5', '3', '2']\n",
      "2\n",
      "4\n",
      "2\n",
      "2\n",
      "NEXT\n",
      "eth /cluster/work/grlab/projects/projects2020_OHSU/peptides_generation/CANCER_eth/commit_c4dd02c_conf2_Frame_cap0_runs/TCGA_Breast_1102/filtering_samples/filters_19May_order_5ge_wAnnot_GPstar/G_TCGA-A2-A0D2-01A-21R-A034-07_0AN3AGA.tsv.gz \n",
      "---------------------------------------------\n",
      " ohsu J_TCGA-A2-A0D2-01A-21R-A034-07_0AN3AGA.tsv\n",
      "eth /cluster/work/grlab/projects/projects2020_OHSU/peptides_generation/CANCER_eth/commit_c4dd02c_conf2_Frame_cap0_runs/TCGA_Breast_1102/filtering_samples/filters_19May_order_5ge_wAnnot_GPstar/G_TCGA-BH-A18V-01A-11R-A12D-07_0A501GA.tsv.gz \n",
      "---------------------------------------------\n",
      " ohsu J_TCGA-BH-A18V-01A-11R-A12D-07_0A501GA.tsv\n",
      "eth /cluster/work/grlab/projects/projects2020_OHSU/peptides_generation/CANCER_eth/commit_c4dd02c_conf2_Frame_cap0_runs/TCGA_Breast_1102/filtering_samples/filters_19May_order_5ge_wAnnot_GPstar/G_TCGA-A2-A0SX-01A-12R-A084-07_0213AGA.tsv.gz \n",
      "---------------------------------------------\n",
      " ohsu J_TCGA-A2-A0SX-01A-12R-A084-07_0213AGA.tsv\n",
      "eth /cluster/work/grlab/projects/projects2020_OHSU/peptides_generation/CANCER_eth/commit_c4dd02c_conf2_Frame_cap0_runs/TCGA_Breast_1102/filtering_samples/filters_19May_order_5ge_wAnnot_GPstar/G_TCGA-A2-A0SX-01A-12R-A084-07_0213XGA.tsv.gz \n",
      "---------------------------------------------\n",
      " ohsu J_TCGA-A2-A0SX-01A-12R-A084-07_0213XGA.tsv\n",
      "eth /cluster/work/grlab/projects/projects2020_OHSU/peptides_generation/CANCER_eth/commit_c4dd02c_conf2_Frame_cap0_runs/TCGA_Breast_1102/filtering_samples/filters_19May_order_5ge_wAnnot_GPstar/G_TCGA-C8-A12P-01A-11R-A115-07_0253XGA.tsv.gz \n",
      "---------------------------------------------\n",
      " ohsu J_TCGA-C8-A12P-01A-11R-A115-07_0253XGA.tsv\n",
      "eth /cluster/work/grlab/projects/projects2020_OHSU/peptides_generation/CANCER_eth/commit_c4dd02c_conf2_Frame_cap0_runs/TCGA_Breast_1102/filtering_samples/filters_19May_order_5ge_wAnnot_GPstar/G_TCGA-BH-A18V-01A-11R-A12D-07_0A13XGA.tsv.gz \n",
      "---------------------------------------------\n",
      " ohsu J_TCGA-BH-A18V-01A-11R-A12D-07_0A13XGA.tsv\n",
      "eth /cluster/work/grlab/projects/projects2020_OHSU/peptides_generation/CANCER_eth/commit_c4dd02c_conf2_Frame_cap0_runs/TCGA_Breast_1102/filtering_samples/filters_19May_order_5ge_wAnnot_GPstar/G_TCGA-BH-A18V-01A-11R-A12D-07_02112GA.tsv.gz \n",
      "---------------------------------------------\n",
      " ohsu J_TCGA-BH-A18V-01A-11R-A12D-07_02112GA.tsv\n",
      "eth /cluster/work/grlab/projects/projects2020_OHSU/peptides_generation/CANCER_eth/commit_c4dd02c_conf2_Frame_cap0_runs/TCGA_Breast_1102/filtering_samples/filters_19May_order_5ge_wAnnot_GPstar/G_TCGA-C8-A12P-01A-11R-A115-07_0A13XGA.tsv.gz \n",
      "---------------------------------------------\n",
      " ohsu J_TCGA-C8-A12P-01A-11R-A115-07_0A13XGA.tsv\n",
      "eth /cluster/work/grlab/projects/projects2020_OHSU/peptides_generation/CANCER_eth/commit_c4dd02c_conf2_Frame_cap0_runs/TCGA_Breast_1102/filtering_samples/filters_19May_order_5ge_wAnnot_GPstar/G_TCGA-C8-A12P-01A-11R-A115-07_0211XGA.tsv.gz \n",
      "---------------------------------------------\n",
      " ohsu J_TCGA-C8-A12P-01A-11R-A115-07_0211XGA.tsv\n",
      "eth /cluster/work/grlab/projects/projects2020_OHSU/peptides_generation/CANCER_eth/commit_c4dd02c_conf2_Frame_cap0_runs/TCGA_Breast_1102/filtering_samples/filters_19May_order_5ge_wAnnot_GPstar/G_TCGA-A2-A0SX-01A-12R-A084-07_0A532GA.tsv.gz \n",
      "---------------------------------------------\n",
      " ohsu J_TCGA-A2-A0SX-01A-12R-A084-07_0A532GA.tsv\n",
      "eth /cluster/work/grlab/projects/projects2020_OHSU/peptides_generation/CANCER_eth/commit_c4dd02c_conf2_Frame_cap0_runs/TCGA_Breast_1102/filtering_samples/filters_19May_order_5ge_wAnnot_GPstar/G_TCGA-BH-A18V-01A-11R-A12D-07_0A512GA.tsv.gz \n",
      "---------------------------------------------\n",
      " ohsu J_TCGA-BH-A18V-01A-11R-A12D-07_0A512GA.tsv\n",
      "eth /cluster/work/grlab/projects/projects2020_OHSU/peptides_generation/CANCER_eth/commit_c4dd02c_conf2_Frame_cap0_runs/TCGA_Breast_1102/filtering_samples/filters_19May_order_5ge_wAnnot_GPstar/G_TCGA-A2-A0D2-01A-21R-A034-07_0AN1XGA.tsv.gz \n",
      "---------------------------------------------\n",
      " ohsu J_TCGA-A2-A0D2-01A-21R-A034-07_0AN1XGA.tsv\n",
      "eth /cluster/work/grlab/projects/projects2020_OHSU/peptides_generation/CANCER_eth/commit_c4dd02c_conf2_Frame_cap0_runs/TCGA_Breast_1102/filtering_samples/filters_19May_order_5ge_wAnnot_GPstar/G_TCGA-A2-A0D2-01A-21R-A034-07_0AN01GA.tsv.gz \n",
      "---------------------------------------------\n",
      " ohsu J_TCGA-A2-A0D2-01A-21R-A034-07_0AN01GA.tsv\n",
      "eth /cluster/work/grlab/projects/projects2020_OHSU/peptides_generation/CANCER_eth/commit_c4dd02c_conf2_Frame_cap0_runs/TCGA_Breast_1102/filtering_samples/filters_19May_order_5ge_wAnnot_GPstar/G_TCGA-C8-A12P-01A-11R-A115-07_02132GA.tsv.gz \n",
      "---------------------------------------------\n",
      " ohsu J_TCGA-C8-A12P-01A-11R-A115-07_02132GA.tsv\n",
      "eth /cluster/work/grlab/projects/projects2020_OHSU/peptides_generation/CANCER_eth/commit_c4dd02c_conf2_Frame_cap0_runs/TCGA_Breast_1102/filtering_samples/filters_19May_order_5ge_wAnnot_GPstar/G_TCGA-A2-A0SX-01A-12R-A084-07_02501GA.tsv.gz \n",
      "---------------------------------------------\n",
      " ohsu J_TCGA-A2-A0SX-01A-12R-A084-07_02501GA.tsv\n",
      "eth /cluster/work/grlab/projects/projects2020_OHSU/peptides_generation/CANCER_eth/commit_c4dd02c_conf2_Frame_cap0_runs/TCGA_Breast_1102/filtering_samples/filters_19May_order_5ge_wAnnot_GPstar/G_TCGA-C8-A12P-01A-11R-A115-07_0211AGA.tsv.gz \n",
      "---------------------------------------------\n",
      " ohsu J_TCGA-C8-A12P-01A-11R-A115-07_0211AGA.tsv\n",
      "eth /cluster/work/grlab/projects/projects2020_OHSU/peptides_generation/CANCER_eth/commit_c4dd02c_conf2_Frame_cap0_runs/TCGA_Breast_1102/filtering_samples/filters_19May_order_5ge_wAnnot_GPstar/G_TCGA-A2-A0D2-01A-21R-A034-07_02532GA.tsv.gz \n",
      "---------------------------------------------\n",
      " ohsu J_TCGA-A2-A0D2-01A-21R-A034-07_02532GA.tsv\n",
      "eth /cluster/work/grlab/projects/projects2020_OHSU/peptides_generation/CANCER_eth/commit_c4dd02c_conf2_Frame_cap0_runs/TCGA_Breast_1102/filtering_samples/filters_19May_order_5ge_wAnnot_GPstar/G_TCGA-BH-A18V-01A-11R-A12D-07_0A11AGA.tsv.gz \n",
      "---------------------------------------------\n",
      " ohsu J_TCGA-BH-A18V-01A-11R-A12D-07_0A11AGA.tsv\n",
      "eth /cluster/work/grlab/projects/projects2020_OHSU/peptides_generation/CANCER_eth/commit_c4dd02c_conf2_Frame_cap0_runs/TCGA_Breast_1102/filtering_samples/filters_19May_order_5ge_wAnnot_GPstar/G_TCGA-A2-A0D2-01A-21R-A034-07_0211XGA.tsv.gz \n",
      "---------------------------------------------\n",
      " ohsu J_TCGA-A2-A0D2-01A-21R-A034-07_0211XGA.tsv\n",
      "eth /cluster/work/grlab/projects/projects2020_OHSU/peptides_generation/CANCER_eth/commit_c4dd02c_conf2_Frame_cap0_runs/TCGA_Breast_1102/filtering_samples/filters_19May_order_5ge_wAnnot_GPstar/G_TCGA-A2-A0D2-01A-21R-A034-07_02132GA.tsv.gz \n",
      "---------------------------------------------\n",
      " ohsu J_TCGA-A2-A0D2-01A-21R-A034-07_02132GA.tsv\n",
      "eth /cluster/work/grlab/projects/projects2020_OHSU/peptides_generation/CANCER_eth/commit_c4dd02c_conf2_Frame_cap0_runs/TCGA_Breast_1102/filtering_samples/filters_19May_order_5ge_wAnnot_GPstar/G_TCGA-BH-A18V-01A-11R-A12D-07_0A132GA.tsv.gz \n",
      "---------------------------------------------\n",
      " ohsu J_TCGA-BH-A18V-01A-11R-A12D-07_0A132GA.tsv\n",
      "eth /cluster/work/grlab/projects/projects2020_OHSU/peptides_generation/CANCER_eth/commit_c4dd02c_conf2_Frame_cap0_runs/TCGA_Breast_1102/filtering_samples/filters_19May_order_5ge_wAnnot_GPstar/G_TCGA-A2-A0SX-01A-12R-A084-07_02512GA.tsv.gz \n",
      "---------------------------------------------\n",
      " ohsu J_TCGA-A2-A0SX-01A-12R-A084-07_02512GA.tsv\n",
      "eth /cluster/work/grlab/projects/projects2020_OHSU/peptides_generation/CANCER_eth/commit_c4dd02c_conf2_Frame_cap0_runs/TCGA_Breast_1102/filtering_samples/filters_19May_order_5ge_wAnnot_GPstar/G_TCGA-AO-A0JM-01A-21R-A056-07_0213XGA.tsv.gz \n",
      "---------------------------------------------\n",
      " ohsu J_TCGA-AO-A0JM-01A-21R-A056-07_0213XGA.tsv\n",
      "TCGAAOA0JM01A21RA05607\n"
     ]
    },
    {
     "name": "stderr",
     "output_type": "stream",
     "text": [
      "206it [00:00, 6520.17it/s]\n"
     ]
    },
    {
     "name": "stdout",
     "output_type": "stream",
     "text": [
      "['J', 'TCGA-AO-A0JM-01A-21R-A056-07', '0213XGA']\n",
      "['0', '2', '1', '3', '10']\n",
      "1\n",
      "24\n",
      "6\n",
      "15\n",
      "NEXT\n",
      "eth /cluster/work/grlab/projects/projects2020_OHSU/peptides_generation/CANCER_eth/commit_c4dd02c_conf2_Frame_cap0_runs/TCGA_Breast_1102/filtering_samples/filters_19May_order_5ge_wAnnot_GPstar/G_TCGA-A2-A0SX-01A-12R-A084-07_0251XGA.tsv.gz \n",
      "---------------------------------------------\n",
      " ohsu J_TCGA-A2-A0SX-01A-12R-A084-07_0251XGA.tsv\n",
      "eth /cluster/work/grlab/projects/projects2020_OHSU/peptides_generation/CANCER_eth/commit_c4dd02c_conf2_Frame_cap0_runs/TCGA_Breast_1102/filtering_samples/filters_19May_order_5ge_wAnnot_GPstar/G_TCGA-A2-A0D2-01A-21R-A034-07_0253AGA.tsv.gz \n",
      "---------------------------------------------\n",
      " ohsu J_TCGA-A2-A0D2-01A-21R-A034-07_0253AGA.tsv\n",
      "eth /cluster/work/grlab/projects/projects2020_OHSU/peptides_generation/CANCER_eth/commit_c4dd02c_conf2_Frame_cap0_runs/TCGA_Breast_1102/filtering_samples/filters_19May_order_5ge_wAnnot_GPstar/G_TCGA-BH-A18V-01A-11R-A12D-07_0253AGA.tsv.gz \n",
      "---------------------------------------------\n",
      " ohsu J_TCGA-BH-A18V-01A-11R-A12D-07_0253AGA.tsv\n",
      "eth /cluster/work/grlab/projects/projects2020_OHSU/peptides_generation/CANCER_eth/commit_c4dd02c_conf2_Frame_cap0_runs/TCGA_Breast_1102/filtering_samples/filters_19May_order_5ge_wAnnot_GPstar/G_TCGA-A2-A0SX-01A-12R-A084-07_0211AGA.tsv.gz \n",
      "---------------------------------------------\n",
      " ohsu J_TCGA-A2-A0SX-01A-12R-A084-07_0211AGA.tsv\n",
      "eth /cluster/work/grlab/projects/projects2020_OHSU/peptides_generation/CANCER_eth/commit_c4dd02c_conf2_Frame_cap0_runs/TCGA_Breast_1102/filtering_samples/filters_19May_order_5ge_wAnnot_GPstar/G_TCGA-A2-A0SX-01A-12R-A084-07_0AN3AGA.tsv.gz \n",
      "---------------------------------------------\n",
      " ohsu J_TCGA-A2-A0SX-01A-12R-A084-07_0AN3AGA.tsv\n",
      "eth /cluster/work/grlab/projects/projects2020_OHSU/peptides_generation/CANCER_eth/commit_c4dd02c_conf2_Frame_cap0_runs/TCGA_Breast_1102/filtering_samples/filters_19May_order_5ge_wAnnot_GPstar/G_TCGA-A2-A0SX-01A-12R-A084-07_0211XGA.tsv.gz \n",
      "---------------------------------------------\n",
      " ohsu J_TCGA-A2-A0SX-01A-12R-A084-07_0211XGA.tsv\n",
      "eth /cluster/work/grlab/projects/projects2020_OHSU/peptides_generation/CANCER_eth/commit_c4dd02c_conf2_Frame_cap0_runs/TCGA_Breast_1102/filtering_samples/filters_19May_order_5ge_wAnnot_GPstar/G_TCGA-A2-A0D2-01A-21R-A034-07_0A53AGA.tsv.gz \n",
      "---------------------------------------------\n",
      " ohsu J_TCGA-A2-A0D2-01A-21R-A034-07_0A53AGA.tsv\n",
      "eth /cluster/work/grlab/projects/projects2020_OHSU/peptides_generation/CANCER_eth/commit_c4dd02c_conf2_Frame_cap0_runs/TCGA_Breast_1102/filtering_samples/filters_19May_order_5ge_wAnnot_GPstar/G_TCGA-AO-A0JM-01A-21R-A056-07_0211XGA.tsv.gz \n",
      "---------------------------------------------\n",
      " ohsu J_TCGA-AO-A0JM-01A-21R-A056-07_0211XGA.tsv\n",
      "TCGAAOA0JM01A21RA05607\n"
     ]
    },
    {
     "name": "stderr",
     "output_type": "stream",
     "text": [
      "28it [00:00, 6196.08it/s]\n"
     ]
    },
    {
     "name": "stdout",
     "output_type": "stream",
     "text": [
      "['J', 'TCGA-AO-A0JM-01A-21R-A056-07', '0211XGA']\n",
      "['0', '2', '1', '1', '10']\n",
      "1\n",
      "5\n",
      "2\n",
      "2\n",
      "NEXT\n",
      "eth /cluster/work/grlab/projects/projects2020_OHSU/peptides_generation/CANCER_eth/commit_c4dd02c_conf2_Frame_cap0_runs/TCGA_Breast_1102/filtering_samples/filters_19May_order_5ge_wAnnot_GPstar/G_TCGA-A2-A0SX-01A-12R-A084-07_0A501GA.tsv.gz \n",
      "---------------------------------------------\n",
      " ohsu J_TCGA-A2-A0SX-01A-12R-A084-07_0A501GA.tsv\n",
      "eth /cluster/work/grlab/projects/projects2020_OHSU/peptides_generation/CANCER_eth/commit_c4dd02c_conf2_Frame_cap0_runs/TCGA_Breast_1102/filtering_samples/filters_19May_order_5ge_wAnnot_GPstar/G_TCGA-BH-A18V-01A-11R-A12D-07_0211AGA.tsv.gz \n",
      "---------------------------------------------\n",
      " ohsu J_TCGA-BH-A18V-01A-11R-A12D-07_0211AGA.tsv\n",
      "eth /cluster/work/grlab/projects/projects2020_OHSU/peptides_generation/CANCER_eth/commit_c4dd02c_conf2_Frame_cap0_runs/TCGA_Breast_1102/filtering_samples/filters_19May_order_5ge_wAnnot_GPstar/G_TCGA-A2-A0D2-01A-21R-A034-07_0A11AGA.tsv.gz \n",
      "---------------------------------------------\n",
      " ohsu J_TCGA-A2-A0D2-01A-21R-A034-07_0A11AGA.tsv\n",
      "eth /cluster/work/grlab/projects/projects2020_OHSU/peptides_generation/CANCER_eth/commit_c4dd02c_conf2_Frame_cap0_runs/TCGA_Breast_1102/filtering_samples/filters_19May_order_5ge_wAnnot_GPstar/G_TCGA-BH-A18V-01A-11R-A12D-07_02532GA.tsv.gz \n",
      "---------------------------------------------\n",
      " ohsu J_TCGA-BH-A18V-01A-11R-A12D-07_02532GA.tsv\n",
      "eth /cluster/work/grlab/projects/projects2020_OHSU/peptides_generation/CANCER_eth/commit_c4dd02c_conf2_Frame_cap0_runs/TCGA_Breast_1102/filtering_samples/filters_19May_order_5ge_wAnnot_GPstar/G_TCGA-BH-A18V-01A-11R-A12D-07_0AN32GA.tsv.gz \n",
      "---------------------------------------------\n",
      " ohsu J_TCGA-BH-A18V-01A-11R-A12D-07_0AN32GA.tsv\n",
      "eth /cluster/work/grlab/projects/projects2020_OHSU/peptides_generation/CANCER_eth/commit_c4dd02c_conf2_Frame_cap0_runs/TCGA_Breast_1102/filtering_samples/filters_19May_order_5ge_wAnnot_GPstar/G_TCGA-AO-A0JM-01A-21R-A056-07_0A13AGA.tsv.gz \n",
      "---------------------------------------------\n",
      " ohsu J_TCGA-AO-A0JM-01A-21R-A056-07_0A13AGA.tsv\n",
      "TCGAAOA0JM01A21RA05607\n"
     ]
    },
    {
     "name": "stderr",
     "output_type": "stream",
     "text": [
      "441it [00:00, 6489.66it/s]\n"
     ]
    },
    {
     "name": "stdout",
     "output_type": "stream",
     "text": [
      "['J', 'TCGA-AO-A0JM-01A-21R-A056-07', '0A13AGA']\n",
      "['0', 'Any', '1', '3', 'Any']\n",
      "0\n",
      "109\n",
      "7\n",
      "39\n",
      "NEXT\n",
      "eth /cluster/work/grlab/projects/projects2020_OHSU/peptides_generation/CANCER_eth/commit_c4dd02c_conf2_Frame_cap0_runs/TCGA_Breast_1102/filtering_samples/filters_19May_order_5ge_wAnnot_GPstar/G_TCGA-BH-A18V-01A-11R-A12D-07_0213AGA.tsv.gz \n",
      "---------------------------------------------\n",
      " ohsu J_TCGA-BH-A18V-01A-11R-A12D-07_0213AGA.tsv\n",
      "eth /cluster/work/grlab/projects/projects2020_OHSU/peptides_generation/CANCER_eth/commit_c4dd02c_conf2_Frame_cap0_runs/TCGA_Breast_1102/filtering_samples/filters_19May_order_5ge_wAnnot_GPstar/G_TCGA-C8-A12P-01A-11R-A115-07_0A51AGA.tsv.gz \n",
      "---------------------------------------------\n",
      " ohsu J_TCGA-C8-A12P-01A-11R-A115-07_0A51AGA.tsv\n",
      "eth /cluster/work/grlab/projects/projects2020_OHSU/peptides_generation/CANCER_eth/commit_c4dd02c_conf2_Frame_cap0_runs/TCGA_Breast_1102/filtering_samples/filters_19May_order_5ge_wAnnot_GPstar/G_TCGA-A2-A0SX-01A-12R-A084-07_0A13AGA.tsv.gz \n",
      "---------------------------------------------\n",
      " ohsu J_TCGA-A2-A0SX-01A-12R-A084-07_0A13AGA.tsv\n",
      "eth /cluster/work/grlab/projects/projects2020_OHSU/peptides_generation/CANCER_eth/commit_c4dd02c_conf2_Frame_cap0_runs/TCGA_Breast_1102/filtering_samples/filters_19May_order_5ge_wAnnot_GPstar/G_TCGA-C8-A12P-01A-11R-A115-07_0253AGA.tsv.gz \n",
      "---------------------------------------------\n",
      " ohsu J_TCGA-C8-A12P-01A-11R-A115-07_0253AGA.tsv\n",
      "eth /cluster/work/grlab/projects/projects2020_OHSU/peptides_generation/CANCER_eth/commit_c4dd02c_conf2_Frame_cap0_runs/TCGA_Breast_1102/filtering_samples/filters_19May_order_5ge_wAnnot_GPstar/G_TCGA-A2-A0SX-01A-12R-A084-07_0251AGA.tsv.gz \n",
      "---------------------------------------------\n",
      " ohsu J_TCGA-A2-A0SX-01A-12R-A084-07_0251AGA.tsv\n",
      "eth /cluster/work/grlab/projects/projects2020_OHSU/peptides_generation/CANCER_eth/commit_c4dd02c_conf2_Frame_cap0_runs/TCGA_Breast_1102/filtering_samples/filters_19May_order_5ge_wAnnot_GPstar/G_TCGA-C8-A12P-01A-11R-A115-07_0AN01GA.tsv.gz \n",
      "---------------------------------------------\n",
      " ohsu J_TCGA-C8-A12P-01A-11R-A115-07_0AN01GA.tsv\n",
      "eth /cluster/work/grlab/projects/projects2020_OHSU/peptides_generation/CANCER_eth/commit_c4dd02c_conf2_Frame_cap0_runs/TCGA_Breast_1102/filtering_samples/filters_19May_order_5ge_wAnnot_GPstar/G_TCGA-C8-A12P-01A-11R-A115-07_02501GA.tsv.gz \n",
      "---------------------------------------------\n",
      " ohsu J_TCGA-C8-A12P-01A-11R-A115-07_02501GA.tsv\n",
      "eth /cluster/work/grlab/projects/projects2020_OHSU/peptides_generation/CANCER_eth/commit_c4dd02c_conf2_Frame_cap0_runs/TCGA_Breast_1102/filtering_samples/filters_19May_order_5ge_wAnnot_GPstar/G_TCGA-AO-A0JM-01A-21R-A056-07_0A132GA.tsv.gz \n",
      "---------------------------------------------\n",
      " ohsu J_TCGA-AO-A0JM-01A-21R-A056-07_0A132GA.tsv\n",
      "TCGAAOA0JM01A21RA05607\n"
     ]
    },
    {
     "name": "stderr",
     "output_type": "stream",
     "text": [
      "107it [00:00, 6483.54it/s]\n"
     ]
    },
    {
     "name": "stdout",
     "output_type": "stream",
     "text": [
      "['J', 'TCGA-AO-A0JM-01A-21R-A056-07', '0A132GA']\n",
      "['0', 'Any', '1', '3', '2']\n",
      "2\n",
      "39\n",
      "3\n",
      "7\n",
      "NEXT\n",
      "eth /cluster/work/grlab/projects/projects2020_OHSU/peptides_generation/CANCER_eth/commit_c4dd02c_conf2_Frame_cap0_runs/TCGA_Breast_1102/filtering_samples/filters_19May_order_5ge_wAnnot_GPstar/G_TCGA-A2-A0D2-01A-21R-A034-07_0211AGA.tsv.gz \n",
      "---------------------------------------------\n",
      " ohsu J_TCGA-A2-A0D2-01A-21R-A034-07_0211AGA.tsv\n",
      "eth /cluster/work/grlab/projects/projects2020_OHSU/peptides_generation/CANCER_eth/commit_c4dd02c_conf2_Frame_cap0_runs/TCGA_Breast_1102/filtering_samples/filters_19May_order_5ge_wAnnot_GPstar/G_TCGA-A2-A0SX-01A-12R-A084-07_0AN12GA.tsv.gz \n",
      "---------------------------------------------\n",
      " ohsu J_TCGA-A2-A0SX-01A-12R-A084-07_0AN12GA.tsv\n",
      "eth /cluster/work/grlab/projects/projects2020_OHSU/peptides_generation/CANCER_eth/commit_c4dd02c_conf2_Frame_cap0_runs/TCGA_Breast_1102/filtering_samples/filters_19May_order_5ge_wAnnot_GPstar/G_TCGA-A2-A0SX-01A-12R-A084-07_0AN01GA.tsv.gz \n",
      "---------------------------------------------\n",
      " ohsu J_TCGA-A2-A0SX-01A-12R-A084-07_0AN01GA.tsv\n",
      "eth /cluster/work/grlab/projects/projects2020_OHSU/peptides_generation/CANCER_eth/commit_c4dd02c_conf2_Frame_cap0_runs/TCGA_Breast_1102/filtering_samples/filters_19May_order_5ge_wAnnot_GPstar/G_TCGA-C8-A12P-01A-11R-A115-07_0A501GA.tsv.gz \n",
      "---------------------------------------------\n",
      " ohsu J_TCGA-C8-A12P-01A-11R-A115-07_0A501GA.tsv\n",
      "eth /cluster/work/grlab/projects/projects2020_OHSU/peptides_generation/CANCER_eth/commit_c4dd02c_conf2_Frame_cap0_runs/TCGA_Breast_1102/filtering_samples/filters_19May_order_5ge_wAnnot_GPstar/G_TCGA-AO-A0JM-01A-21R-A056-07_0A51XGA.tsv.gz \n",
      "---------------------------------------------\n",
      " ohsu J_TCGA-AO-A0JM-01A-21R-A056-07_0A51XGA.tsv\n",
      "TCGAAOA0JM01A21RA05607\n"
     ]
    },
    {
     "name": "stderr",
     "output_type": "stream",
     "text": [
      "6it [00:00, 5454.23it/s]\n"
     ]
    },
    {
     "name": "stdout",
     "output_type": "stream",
     "text": [
      "['J', 'TCGA-AO-A0JM-01A-21R-A056-07', '0A51XGA']\n",
      "['0', 'Any', '5', '1', '10']\n",
      "1\n",
      "1\n",
      "1\n",
      "0\n",
      "NEXT\n",
      "eth /cluster/work/grlab/projects/projects2020_OHSU/peptides_generation/CANCER_eth/commit_c4dd02c_conf2_Frame_cap0_runs/TCGA_Breast_1102/filtering_samples/filters_19May_order_5ge_wAnnot_GPstar/G_TCGA-A2-A0D2-01A-21R-A034-07_0A532GA.tsv.gz \n",
      "---------------------------------------------\n",
      " ohsu J_TCGA-A2-A0D2-01A-21R-A034-07_0A532GA.tsv\n",
      "eth /cluster/work/grlab/projects/projects2020_OHSU/peptides_generation/CANCER_eth/commit_c4dd02c_conf2_Frame_cap0_runs/TCGA_Breast_1102/filtering_samples/filters_19May_order_5ge_wAnnot_GPstar/G_TCGA-A2-A0D2-01A-21R-A034-07_02101GA.tsv.gz \n",
      "---------------------------------------------\n",
      " ohsu J_TCGA-A2-A0D2-01A-21R-A034-07_02101GA.tsv\n",
      "eth /cluster/work/grlab/projects/projects2020_OHSU/peptides_generation/CANCER_eth/commit_c4dd02c_conf2_Frame_cap0_runs/TCGA_Breast_1102/filtering_samples/filters_19May_order_5ge_wAnnot_GPstar/G_TCGA-A2-A0SX-01A-12R-A084-07_0A11AGA.tsv.gz \n",
      "---------------------------------------------\n",
      " ohsu J_TCGA-A2-A0SX-01A-12R-A084-07_0A11AGA.tsv\n",
      "eth /cluster/work/grlab/projects/projects2020_OHSU/peptides_generation/CANCER_eth/commit_c4dd02c_conf2_Frame_cap0_runs/TCGA_Breast_1102/filtering_samples/filters_19May_order_5ge_wAnnot_GPstar/G_TCGA-AO-A0JM-01A-21R-A056-07_0251XGA.tsv.gz \n",
      "---------------------------------------------\n",
      " ohsu J_TCGA-AO-A0JM-01A-21R-A056-07_0251XGA.tsv\n",
      "TCGAAOA0JM01A21RA05607\n",
      "['J', 'TCGA-AO-A0JM-01A-21R-A056-07', '0251XGA']\n",
      "['0', '2', '5', '1', '10']\n",
      "1\n",
      "0\n",
      "0\n",
      "0\n",
      "NEXT\n",
      "eth /cluster/work/grlab/projects/projects2020_OHSU/peptides_generation/CANCER_eth/commit_c4dd02c_conf2_Frame_cap0_runs/TCGA_Breast_1102/filtering_samples/filters_19May_order_5ge_wAnnot_GPstar/G_TCGA-AO-A0JM-01A-21R-A056-07_0213AGA.tsv.gz \n",
      "---------------------------------------------\n",
      " ohsu J_TCGA-AO-A0JM-01A-21R-A056-07_0213AGA.tsv\n",
      "TCGAAOA0JM01A21RA05607\n"
     ]
    },
    {
     "name": "stderr",
     "output_type": "stream",
     "text": [
      "308it [00:00, 6520.03it/s]\n"
     ]
    },
    {
     "name": "stdout",
     "output_type": "stream",
     "text": [
      "['J', 'TCGA-AO-A0JM-01A-21R-A056-07', '0213AGA']\n",
      "['0', '2', '1', '3', 'Any']\n",
      "0\n",
      "37\n",
      "6\n",
      "24\n",
      "NEXT\n",
      "eth /cluster/work/grlab/projects/projects2020_OHSU/peptides_generation/CANCER_eth/commit_c4dd02c_conf2_Frame_cap0_runs/TCGA_Breast_1102/filtering_samples/filters_19May_order_5ge_wAnnot_GPstar/G_TCGA-AO-A0JM-01A-21R-A056-07_02101GA.tsv.gz \n",
      "---------------------------------------------\n",
      " ohsu J_TCGA-AO-A0JM-01A-21R-A056-07_02101GA.tsv\n",
      "TCGAAOA0JM01A21RA05607\n"
     ]
    },
    {
     "name": "stderr",
     "output_type": "stream",
     "text": [
      "28it [00:00, 6260.16it/s]\n"
     ]
    },
    {
     "name": "stdout",
     "output_type": "stream",
     "text": [
      "['J', 'TCGA-AO-A0JM-01A-21R-A056-07', '02101GA']\n",
      "['0', '2', '1', '0', '1']\n",
      "None\n",
      "5\n",
      "2\n",
      "2\n",
      "NEXT\n",
      "eth /cluster/work/grlab/projects/projects2020_OHSU/peptides_generation/CANCER_eth/commit_c4dd02c_conf2_Frame_cap0_runs/TCGA_Breast_1102/filtering_samples/filters_19May_order_5ge_wAnnot_GPstar/G_TCGA-BH-A18V-01A-11R-A12D-07_0A53XGA.tsv.gz \n",
      "---------------------------------------------\n",
      " ohsu J_TCGA-BH-A18V-01A-11R-A12D-07_0A53XGA.tsv\n",
      "eth /cluster/work/grlab/projects/projects2020_OHSU/peptides_generation/CANCER_eth/commit_c4dd02c_conf2_Frame_cap0_runs/TCGA_Breast_1102/filtering_samples/filters_19May_order_5ge_wAnnot_GPstar/G_TCGA-BH-A18V-01A-11R-A12D-07_0251AGA.tsv.gz \n",
      "---------------------------------------------\n",
      " ohsu J_TCGA-BH-A18V-01A-11R-A12D-07_0251AGA.tsv\n",
      "eth /cluster/work/grlab/projects/projects2020_OHSU/peptides_generation/CANCER_eth/commit_c4dd02c_conf2_Frame_cap0_runs/TCGA_Breast_1102/filtering_samples/filters_19May_order_5ge_wAnnot_GPstar/G_TCGA-A2-A0SX-01A-12R-A084-07_0A13XGA.tsv.gz \n",
      "---------------------------------------------\n",
      " ohsu J_TCGA-A2-A0SX-01A-12R-A084-07_0A13XGA.tsv\n",
      "eth /cluster/work/grlab/projects/projects2020_OHSU/peptides_generation/CANCER_eth/commit_c4dd02c_conf2_Frame_cap0_runs/TCGA_Breast_1102/filtering_samples/filters_19May_order_5ge_wAnnot_GPstar/G_TCGA-AO-A0JM-01A-21R-A056-07_0AN32GA.tsv.gz \n",
      "---------------------------------------------\n",
      " ohsu J_TCGA-AO-A0JM-01A-21R-A056-07_0AN32GA.tsv\n",
      "TCGAAOA0JM01A21RA05607\n"
     ]
    },
    {
     "name": "stderr",
     "output_type": "stream",
     "text": [
      "608it [00:00, 6548.70it/s]\n"
     ]
    },
    {
     "name": "stdout",
     "output_type": "stream",
     "text": [
      "['J', 'TCGA-AO-A0JM-01A-21R-A056-07', '0AN32GA']\n",
      "['0', 'Any', 'None', '3', '2']\n",
      "2\n",
      "495\n",
      "15\n",
      "54\n",
      "NEXT\n",
      "eth /cluster/work/grlab/projects/projects2020_OHSU/peptides_generation/CANCER_eth/commit_c4dd02c_conf2_Frame_cap0_runs/TCGA_Breast_1102/filtering_samples/filters_19May_order_5ge_wAnnot_GPstar/G_TCGA-A2-A0D2-01A-21R-A034-07_0A51XGA.tsv.gz \n",
      "---------------------------------------------\n",
      " ohsu J_TCGA-A2-A0D2-01A-21R-A034-07_0A51XGA.tsv\n",
      "eth /cluster/work/grlab/projects/projects2020_OHSU/peptides_generation/CANCER_eth/commit_c4dd02c_conf2_Frame_cap0_runs/TCGA_Breast_1102/filtering_samples/filters_19May_order_5ge_wAnnot_GPstar/G_TCGA-A2-A0D2-01A-21R-A034-07_0A132GA.tsv.gz \n",
      "---------------------------------------------\n",
      " ohsu J_TCGA-A2-A0D2-01A-21R-A034-07_0A132GA.tsv\n",
      "eth /cluster/work/grlab/projects/projects2020_OHSU/peptides_generation/CANCER_eth/commit_c4dd02c_conf2_Frame_cap0_runs/TCGA_Breast_1102/filtering_samples/filters_19May_order_5ge_wAnnot_GPstar/G_TCGA-AO-A0JM-01A-21R-A056-07_02512GA.tsv.gz \n",
      "---------------------------------------------\n",
      " ohsu J_TCGA-AO-A0JM-01A-21R-A056-07_02512GA.tsv\n",
      "TCGAAOA0JM01A21RA05607\n",
      "['J', 'TCGA-AO-A0JM-01A-21R-A056-07', '02512GA']\n",
      "['0', '2', '5', '1', '2']\n",
      "2\n",
      "0\n",
      "0\n",
      "0\n",
      "NEXT\n",
      "eth /cluster/work/grlab/projects/projects2020_OHSU/peptides_generation/CANCER_eth/commit_c4dd02c_conf2_Frame_cap0_runs/TCGA_Breast_1102/filtering_samples/filters_19May_order_5ge_wAnnot_GPstar/G_TCGA-A2-A0D2-01A-21R-A034-07_0A512GA.tsv.gz \n",
      "---------------------------------------------\n",
      " ohsu J_TCGA-A2-A0D2-01A-21R-A034-07_0A512GA.tsv\n",
      "eth /cluster/work/grlab/projects/projects2020_OHSU/peptides_generation/CANCER_eth/commit_c4dd02c_conf2_Frame_cap0_runs/TCGA_Breast_1102/filtering_samples/filters_19May_order_5ge_wAnnot_GPstar/G_TCGA-AO-A0JM-01A-21R-A056-07_0A512GA.tsv.gz \n",
      "---------------------------------------------\n",
      " ohsu J_TCGA-AO-A0JM-01A-21R-A056-07_0A512GA.tsv\n",
      "TCGAAOA0JM01A21RA05607\n"
     ]
    },
    {
     "name": "stderr",
     "output_type": "stream",
     "text": [
      "6it [00:00, 5307.01it/s]"
     ]
    },
    {
     "name": "stdout",
     "output_type": "stream",
     "text": [
      "['J', 'TCGA-AO-A0JM-01A-21R-A056-07', '0A512GA']\n",
      "['0', 'Any', '5', '1', '2']\n",
      "2\n",
      "1\n",
      "1\n",
      "0\n",
      "NEXT\n",
      "eth /cluster/work/grlab/projects/projects2020_OHSU/peptides_generation/CANCER_eth/commit_c4dd02c_conf2_Frame_cap0_runs/TCGA_Breast_1102/filtering_samples/filters_19May_order_5ge_wAnnot_GPstar/G_TCGA-AO-A0JM-01A-21R-A056-07_0A501GA.tsv.gz \n",
      "---------------------------------------------\n",
      " ohsu J_TCGA-AO-A0JM-01A-21R-A056-07_0A501GA.tsv\n",
      "TCGAAOA0JM01A21RA05607\n"
     ]
    },
    {
     "name": "stderr",
     "output_type": "stream",
     "text": [
      "\n",
      "6it [00:00, 5285.83it/s]\n"
     ]
    },
    {
     "name": "stdout",
     "output_type": "stream",
     "text": [
      "['J', 'TCGA-AO-A0JM-01A-21R-A056-07', '0A501GA']\n",
      "['0', 'Any', '5', '0', '1']\n",
      "None\n",
      "1\n",
      "1\n",
      "0\n",
      "NEXT\n",
      "eth /cluster/work/grlab/projects/projects2020_OHSU/peptides_generation/CANCER_eth/commit_c4dd02c_conf2_Frame_cap0_runs/TCGA_Breast_1102/filtering_samples/filters_19May_order_5ge_wAnnot_GPstar/G_TCGA-BH-A18V-01A-11R-A12D-07_0A101GA.tsv.gz \n",
      "---------------------------------------------\n",
      " ohsu J_TCGA-BH-A18V-01A-11R-A12D-07_0A101GA.tsv\n",
      "eth /cluster/work/grlab/projects/projects2020_OHSU/peptides_generation/CANCER_eth/commit_c4dd02c_conf2_Frame_cap0_runs/TCGA_Breast_1102/filtering_samples/filters_19May_order_5ge_wAnnot_GPstar/G_TCGA-A2-A0SX-01A-12R-A084-07_02112GA.tsv.gz \n",
      "---------------------------------------------\n",
      " ohsu J_TCGA-A2-A0SX-01A-12R-A084-07_02112GA.tsv\n",
      "eth /cluster/work/grlab/projects/projects2020_OHSU/peptides_generation/CANCER_eth/commit_c4dd02c_conf2_Frame_cap0_runs/TCGA_Breast_1102/filtering_samples/filters_19May_order_5ge_wAnnot_GPstar/G_TCGA-A2-A0SX-01A-12R-A084-07_0253AGA.tsv.gz \n",
      "---------------------------------------------\n",
      " ohsu J_TCGA-A2-A0SX-01A-12R-A084-07_0253AGA.tsv\n",
      "eth /cluster/work/grlab/projects/projects2020_OHSU/peptides_generation/CANCER_eth/commit_c4dd02c_conf2_Frame_cap0_runs/TCGA_Breast_1102/filtering_samples/filters_19May_order_5ge_wAnnot_GPstar/G_TCGA-AO-A0JM-01A-21R-A056-07_0251AGA.tsv.gz \n",
      "---------------------------------------------\n",
      " ohsu J_TCGA-AO-A0JM-01A-21R-A056-07_0251AGA.tsv\n",
      "TCGAAOA0JM01A21RA05607\n",
      "['J', 'TCGA-AO-A0JM-01A-21R-A056-07', '0251AGA']\n",
      "['0', '2', '5', '1', 'Any']\n",
      "0\n",
      "0\n",
      "0\n",
      "0\n",
      "NEXT\n",
      "eth /cluster/work/grlab/projects/projects2020_OHSU/peptides_generation/CANCER_eth/commit_c4dd02c_conf2_Frame_cap0_runs/TCGA_Breast_1102/filtering_samples/filters_19May_order_5ge_wAnnot_GPstar/G_TCGA-AO-A0JM-01A-21R-A056-07_0AN01GA.tsv.gz \n",
      "---------------------------------------------\n",
      " ohsu J_TCGA-AO-A0JM-01A-21R-A056-07_0AN01GA.tsv\n",
      "TCGAAOA0JM01A21RA05607\n"
     ]
    },
    {
     "name": "stderr",
     "output_type": "stream",
     "text": [
      "436it [00:00, 6420.56it/s]"
     ]
    },
    {
     "name": "stdout",
     "output_type": "stream",
     "text": [
      "['J', 'TCGA-AO-A0JM-01A-21R-A056-07', '0AN01GA']\n",
      "['0', 'Any', 'None', '0', '1']\n",
      "None\n",
      "429\n",
      "14\n",
      "41\n",
      "NEXT\n",
      "eth /cluster/work/grlab/projects/projects2020_OHSU/peptides_generation/CANCER_eth/commit_c4dd02c_conf2_Frame_cap0_runs/TCGA_Breast_1102/filtering_samples/filters_19May_order_5ge_wAnnot_GPstar/G_TCGA-A2-A0D2-01A-21R-A034-07_0AN3XGA.tsv.gz \n",
      "---------------------------------------------\n",
      " ohsu J_TCGA-A2-A0D2-01A-21R-A034-07_0AN3XGA.tsv\n",
      "eth /cluster/work/grlab/projects/projects2020_OHSU/peptides_generation/CANCER_eth/commit_c4dd02c_conf2_Frame_cap0_runs/TCGA_Breast_1102/filtering_samples/filters_19May_order_5ge_wAnnot_GPstar/G_TCGA-BH-A18V-01A-11R-A12D-07_0A11XGA.tsv.gz \n",
      "---------------------------------------------\n",
      " ohsu J_TCGA-BH-A18V-01A-11R-A12D-07_0A11XGA.tsv\n",
      "eth /cluster/work/grlab/projects/projects2020_OHSU/peptides_generation/CANCER_eth/commit_c4dd02c_conf2_Frame_cap0_runs/TCGA_Breast_1102/filtering_samples/filters_19May_order_5ge_wAnnot_GPstar/G_TCGA-C8-A12P-01A-11R-A115-07_0213AGA.tsv.gz \n",
      "---------------------------------------------\n",
      " ohsu J_TCGA-C8-A12P-01A-11R-A115-07_0213AGA.tsv\n",
      "eth /cluster/work/grlab/projects/projects2020_OHSU/peptides_generation/CANCER_eth/commit_c4dd02c_conf2_Frame_cap0_runs/TCGA_Breast_1102/filtering_samples/filters_19May_order_5ge_wAnnot_GPstar/G_TCGA-BH-A18V-01A-11R-A12D-07_0253XGA.tsv.gz \n",
      "---------------------------------------------\n",
      " ohsu J_TCGA-BH-A18V-01A-11R-A12D-07_0253XGA.tsv\n",
      "eth /cluster/work/grlab/projects/projects2020_OHSU/peptides_generation/CANCER_eth/commit_c4dd02c_conf2_Frame_cap0_runs/TCGA_Breast_1102/filtering_samples/filters_19May_order_5ge_wAnnot_GPstar/G_TCGA-C8-A12P-01A-11R-A115-07_0AN3AGA.tsv.gz \n",
      "---------------------------------------------\n",
      " ohsu J_TCGA-C8-A12P-01A-11R-A115-07_0AN3AGA.tsv\n",
      "eth /cluster/work/grlab/projects/projects2020_OHSU/peptides_generation/CANCER_eth/commit_c4dd02c_conf2_Frame_cap0_runs/TCGA_Breast_1102/filtering_samples/filters_19May_order_5ge_wAnnot_GPstar/G_TCGA-BH-A18V-01A-11R-A12D-07_0A13AGA.tsv.gz \n",
      "---------------------------------------------\n",
      " ohsu J_TCGA-BH-A18V-01A-11R-A12D-07_0A13AGA.tsv\n",
      "eth /cluster/work/grlab/projects/projects2020_OHSU/peptides_generation/CANCER_eth/commit_c4dd02c_conf2_Frame_cap0_runs/TCGA_Breast_1102/filtering_samples/filters_19May_order_5ge_wAnnot_GPstar/G_TCGA-A2-A0SX-01A-12R-A084-07_02132GA.tsv.gz \n",
      "---------------------------------------------\n",
      " ohsu J_TCGA-A2-A0SX-01A-12R-A084-07_02132GA.tsv\n",
      "eth /cluster/work/grlab/projects/projects2020_OHSU/peptides_generation/CANCER_eth/commit_c4dd02c_conf2_Frame_cap0_runs/TCGA_Breast_1102/filtering_samples/filters_19May_order_5ge_wAnnot_GPstar/G_TCGA-C8-A12P-01A-11R-A115-07_0A51XGA.tsv.gz \n",
      "---------------------------------------------\n",
      " ohsu J_TCGA-C8-A12P-01A-11R-A115-07_0A51XGA.tsv\n",
      "eth /cluster/work/grlab/projects/projects2020_OHSU/peptides_generation/CANCER_eth/commit_c4dd02c_conf2_Frame_cap0_runs/TCGA_Breast_1102/filtering_samples/filters_19May_order_5ge_wAnnot_GPstar/G_TCGA-AO-A0JM-01A-21R-A056-07_02132GA.tsv.gz \n",
      "---------------------------------------------\n",
      " ohsu J_TCGA-AO-A0JM-01A-21R-A056-07_02132GA.tsv\n",
      "TCGAAOA0JM01A21RA05607\n"
     ]
    },
    {
     "name": "stderr",
     "output_type": "stream",
     "text": [
      "\n",
      "61it [00:00, 6714.23it/s]\n"
     ]
    },
    {
     "name": "stdout",
     "output_type": "stream",
     "text": [
      "['J', 'TCGA-AO-A0JM-01A-21R-A056-07', '02132GA']\n",
      "['0', '2', '1', '3', '2']\n",
      "2\n",
      "10\n",
      "3\n",
      "4\n",
      "NEXT\n",
      "eth /cluster/work/grlab/projects/projects2020_OHSU/peptides_generation/CANCER_eth/commit_c4dd02c_conf2_Frame_cap0_runs/TCGA_Breast_1102/filtering_samples/filters_19May_order_5ge_wAnnot_GPstar/G_TCGA-AO-A0JM-01A-21R-A056-07_0A11AGA.tsv.gz \n",
      "---------------------------------------------\n",
      " ohsu J_TCGA-AO-A0JM-01A-21R-A056-07_0A11AGA.tsv\n",
      "TCGAAOA0JM01A21RA05607\n"
     ]
    },
    {
     "name": "stderr",
     "output_type": "stream",
     "text": [
      "42it [00:00, 6736.81it/s]\n"
     ]
    },
    {
     "name": "stdout",
     "output_type": "stream",
     "text": [
      "['J', 'TCGA-AO-A0JM-01A-21R-A056-07', '0A11AGA']\n",
      "['0', 'Any', '1', '1', 'Any']\n",
      "0\n",
      "25\n",
      "2\n",
      "4\n",
      "NEXT\n",
      "eth /cluster/work/grlab/projects/projects2020_OHSU/peptides_generation/CANCER_eth/commit_c4dd02c_conf2_Frame_cap0_runs/TCGA_Breast_1102/filtering_samples/filters_19May_order_5ge_wAnnot_GPstar/G_TCGA-A2-A0D2-01A-21R-A034-07_0A101GA.tsv.gz \n",
      "---------------------------------------------\n",
      " ohsu J_TCGA-A2-A0D2-01A-21R-A034-07_0A101GA.tsv\n",
      "eth /cluster/work/grlab/projects/projects2020_OHSU/peptides_generation/CANCER_eth/commit_c4dd02c_conf2_Frame_cap0_runs/TCGA_Breast_1102/filtering_samples/filters_19May_order_5ge_wAnnot_GPstar/G_TCGA-C8-A12P-01A-11R-A115-07_02512GA.tsv.gz \n",
      "---------------------------------------------\n",
      " ohsu J_TCGA-C8-A12P-01A-11R-A115-07_02512GA.tsv\n",
      "eth /cluster/work/grlab/projects/projects2020_OHSU/peptides_generation/CANCER_eth/commit_c4dd02c_conf2_Frame_cap0_runs/TCGA_Breast_1102/filtering_samples/filters_19May_order_5ge_wAnnot_GPstar/G_TCGA-C8-A12P-01A-11R-A115-07_0A112GA.tsv.gz \n",
      "---------------------------------------------\n",
      " ohsu J_TCGA-C8-A12P-01A-11R-A115-07_0A112GA.tsv\n",
      "eth /cluster/work/grlab/projects/projects2020_OHSU/peptides_generation/CANCER_eth/commit_c4dd02c_conf2_Frame_cap0_runs/TCGA_Breast_1102/filtering_samples/filters_19May_order_5ge_wAnnot_GPstar/G_TCGA-BH-A18V-01A-11R-A12D-07_02132GA.tsv.gz \n",
      "---------------------------------------------\n",
      " ohsu J_TCGA-BH-A18V-01A-11R-A12D-07_02132GA.tsv\n",
      "eth /cluster/work/grlab/projects/projects2020_OHSU/peptides_generation/CANCER_eth/commit_c4dd02c_conf2_Frame_cap0_runs/TCGA_Breast_1102/filtering_samples/filters_19May_order_5ge_wAnnot_GPstar/G_TCGA-A2-A0SX-01A-12R-A084-07_0A51XGA.tsv.gz \n",
      "---------------------------------------------\n",
      " ohsu J_TCGA-A2-A0SX-01A-12R-A084-07_0A51XGA.tsv\n",
      "eth /cluster/work/grlab/projects/projects2020_OHSU/peptides_generation/CANCER_eth/commit_c4dd02c_conf2_Frame_cap0_runs/TCGA_Breast_1102/filtering_samples/filters_19May_order_5ge_wAnnot_GPstar/G_TCGA-A2-A0SX-01A-12R-A084-07_0AN32GA.tsv.gz \n",
      "---------------------------------------------\n",
      " ohsu J_TCGA-A2-A0SX-01A-12R-A084-07_0AN32GA.tsv\n",
      "eth /cluster/work/grlab/projects/projects2020_OHSU/peptides_generation/CANCER_eth/commit_c4dd02c_conf2_Frame_cap0_runs/TCGA_Breast_1102/filtering_samples/filters_19May_order_5ge_wAnnot_GPstar/G_TCGA-C8-A12P-01A-11R-A115-07_0AN12GA.tsv.gz \n",
      "---------------------------------------------\n",
      " ohsu J_TCGA-C8-A12P-01A-11R-A115-07_0AN12GA.tsv\n",
      "eth /cluster/work/grlab/projects/projects2020_OHSU/peptides_generation/CANCER_eth/commit_c4dd02c_conf2_Frame_cap0_runs/TCGA_Breast_1102/filtering_samples/filters_19May_order_5ge_wAnnot_GPstar/G_TCGA-C8-A12P-01A-11R-A115-07_02101GA.tsv.gz \n",
      "---------------------------------------------\n",
      " ohsu J_TCGA-C8-A12P-01A-11R-A115-07_02101GA.tsv\n",
      "eth /cluster/work/grlab/projects/projects2020_OHSU/peptides_generation/CANCER_eth/commit_c4dd02c_conf2_Frame_cap0_runs/TCGA_Breast_1102/filtering_samples/filters_19May_order_5ge_wAnnot_GPstar/G_TCGA-C8-A12P-01A-11R-A115-07_0A532GA.tsv.gz \n",
      "---------------------------------------------\n",
      " ohsu J_TCGA-C8-A12P-01A-11R-A115-07_0A532GA.tsv\n",
      "eth /cluster/work/grlab/projects/projects2020_OHSU/peptides_generation/CANCER_eth/commit_c4dd02c_conf2_Frame_cap0_runs/TCGA_Breast_1102/filtering_samples/filters_19May_order_5ge_wAnnot_GPstar/G_TCGA-C8-A12P-01A-11R-A115-07_0A132GA.tsv.gz \n",
      "---------------------------------------------\n",
      " ohsu J_TCGA-C8-A12P-01A-11R-A115-07_0A132GA.tsv\n",
      "eth /cluster/work/grlab/projects/projects2020_OHSU/peptides_generation/CANCER_eth/commit_c4dd02c_conf2_Frame_cap0_runs/TCGA_Breast_1102/filtering_samples/filters_19May_order_5ge_wAnnot_GPstar/G_TCGA-A2-A0SX-01A-12R-A084-07_0A101GA.tsv.gz \n",
      "---------------------------------------------\n",
      " ohsu J_TCGA-A2-A0SX-01A-12R-A084-07_0A101GA.tsv\n",
      "eth /cluster/work/grlab/projects/projects2020_OHSU/peptides_generation/CANCER_eth/commit_c4dd02c_conf2_Frame_cap0_runs/TCGA_Breast_1102/filtering_samples/filters_19May_order_5ge_wAnnot_GPstar/G_TCGA-AO-A0JM-01A-21R-A056-07_0A101GA.tsv.gz \n",
      "---------------------------------------------\n",
      " ohsu J_TCGA-AO-A0JM-01A-21R-A056-07_0A101GA.tsv\n",
      "TCGAAOA0JM01A21RA05607\n"
     ]
    },
    {
     "name": "stderr",
     "output_type": "stream",
     "text": [
      "42it [00:00, 6343.79it/s]\n"
     ]
    },
    {
     "name": "stdout",
     "output_type": "stream",
     "text": [
      "['J', 'TCGA-AO-A0JM-01A-21R-A056-07', '0A101GA']\n",
      "['0', 'Any', '1', '0', '1']\n",
      "None\n",
      "24\n",
      "2\n",
      "4\n",
      "NEXT\n",
      "eth /cluster/work/grlab/projects/projects2020_OHSU/peptides_generation/CANCER_eth/commit_c4dd02c_conf2_Frame_cap0_runs/TCGA_Breast_1102/filtering_samples/filters_19May_order_5ge_wAnnot_GPstar/G_TCGA-A2-A0SX-01A-12R-A084-07_0A112GA.tsv.gz \n",
      "---------------------------------------------\n",
      " ohsu J_TCGA-A2-A0SX-01A-12R-A084-07_0A112GA.tsv\n",
      "eth /cluster/work/grlab/projects/projects2020_OHSU/peptides_generation/CANCER_eth/commit_c4dd02c_conf2_Frame_cap0_runs/TCGA_Breast_1102/filtering_samples/filters_19May_order_5ge_wAnnot_GPstar/G_TCGA-BH-A18V-01A-11R-A12D-07_0AN12GA.tsv.gz \n",
      "---------------------------------------------\n",
      " ohsu J_TCGA-BH-A18V-01A-11R-A12D-07_0AN12GA.tsv\n",
      "eth /cluster/work/grlab/projects/projects2020_OHSU/peptides_generation/CANCER_eth/commit_c4dd02c_conf2_Frame_cap0_runs/TCGA_Breast_1102/filtering_samples/filters_19May_order_5ge_wAnnot_GPstar/G_TCGA-A2-A0D2-01A-21R-A034-07_0AN32GA.tsv.gz \n",
      "---------------------------------------------\n",
      " ohsu J_TCGA-A2-A0D2-01A-21R-A034-07_0AN32GA.tsv\n",
      "eth /cluster/work/grlab/projects/projects2020_OHSU/peptides_generation/CANCER_eth/commit_c4dd02c_conf2_Frame_cap0_runs/TCGA_Breast_1102/filtering_samples/filters_19May_order_5ge_wAnnot_GPstar/G_TCGA-C8-A12P-01A-11R-A115-07_0A11XGA.tsv.gz \n",
      "---------------------------------------------\n",
      " ohsu J_TCGA-C8-A12P-01A-11R-A115-07_0A11XGA.tsv\n",
      "eth /cluster/work/grlab/projects/projects2020_OHSU/peptides_generation/CANCER_eth/commit_c4dd02c_conf2_Frame_cap0_runs/TCGA_Breast_1102/filtering_samples/filters_19May_order_5ge_wAnnot_GPstar/G_TCGA-AO-A0JM-01A-21R-A056-07_0253XGA.tsv.gz \n",
      "---------------------------------------------\n",
      " ohsu J_TCGA-AO-A0JM-01A-21R-A056-07_0253XGA.tsv\n",
      "TCGAAOA0JM01A21RA05607\n"
     ]
    },
    {
     "name": "stderr",
     "output_type": "stream",
     "text": [
      "58it [00:00, 6385.87it/s]\n"
     ]
    },
    {
     "name": "stdout",
     "output_type": "stream",
     "text": [
      "['J', 'TCGA-AO-A0JM-01A-21R-A056-07', '0253XGA']\n",
      "['0', '2', '5', '3', '10']\n",
      "1\n",
      "6\n",
      "1\n",
      "5\n",
      "NEXT\n",
      "eth /cluster/work/grlab/projects/projects2020_OHSU/peptides_generation/CANCER_eth/commit_c4dd02c_conf2_Frame_cap0_runs/TCGA_Breast_1102/filtering_samples/filters_19May_order_5ge_wAnnot_GPstar/G_TCGA-A2-A0SX-01A-12R-A084-07_0A51AGA.tsv.gz \n",
      "---------------------------------------------\n",
      " ohsu J_TCGA-A2-A0SX-01A-12R-A084-07_0A51AGA.tsv\n",
      "eth /cluster/work/grlab/projects/projects2020_OHSU/peptides_generation/CANCER_eth/commit_c4dd02c_conf2_Frame_cap0_runs/TCGA_Breast_1102/filtering_samples/filters_19May_order_5ge_wAnnot_GPstar/G_TCGA-C8-A12P-01A-11R-A115-07_0A11AGA.tsv.gz \n",
      "---------------------------------------------\n",
      " ohsu J_TCGA-C8-A12P-01A-11R-A115-07_0A11AGA.tsv\n",
      "eth /cluster/work/grlab/projects/projects2020_OHSU/peptides_generation/CANCER_eth/commit_c4dd02c_conf2_Frame_cap0_runs/TCGA_Breast_1102/filtering_samples/filters_19May_order_5ge_wAnnot_GPstar/G_TCGA-A2-A0D2-01A-21R-A034-07_0A13XGA.tsv.gz \n",
      "---------------------------------------------\n",
      " ohsu J_TCGA-A2-A0D2-01A-21R-A034-07_0A13XGA.tsv\n",
      "eth /cluster/work/grlab/projects/projects2020_OHSU/peptides_generation/CANCER_eth/commit_c4dd02c_conf2_Frame_cap0_runs/TCGA_Breast_1102/filtering_samples/filters_19May_order_5ge_wAnnot_GPstar/G_TCGA-C8-A12P-01A-11R-A115-07_0251AGA.tsv.gz \n",
      "---------------------------------------------\n",
      " ohsu J_TCGA-C8-A12P-01A-11R-A115-07_0251AGA.tsv\n",
      "eth /cluster/work/grlab/projects/projects2020_OHSU/peptides_generation/CANCER_eth/commit_c4dd02c_conf2_Frame_cap0_runs/TCGA_Breast_1102/filtering_samples/filters_19May_order_5ge_wAnnot_GPstar/G_TCGA-AO-A0JM-01A-21R-A056-07_0A112GA.tsv.gz \n",
      "---------------------------------------------\n",
      " ohsu J_TCGA-AO-A0JM-01A-21R-A056-07_0A112GA.tsv\n",
      "TCGAAOA0JM01A21RA05607\n"
     ]
    },
    {
     "name": "stderr",
     "output_type": "stream",
     "text": [
      "42it [00:00, 6460.35it/s]\n"
     ]
    },
    {
     "name": "stdout",
     "output_type": "stream",
     "text": [
      "['J', 'TCGA-AO-A0JM-01A-21R-A056-07', '0A112GA']\n",
      "['0', 'Any', '1', '1', '2']\n",
      "2\n",
      "25\n",
      "2\n",
      "4\n",
      "NEXT\n",
      "eth /cluster/work/grlab/projects/projects2020_OHSU/peptides_generation/CANCER_eth/commit_c4dd02c_conf2_Frame_cap0_runs/TCGA_Breast_1102/filtering_samples/filters_19May_order_5ge_wAnnot_GPstar/G_TCGA-BH-A18V-01A-11R-A12D-07_0A53AGA.tsv.gz \n",
      "---------------------------------------------\n",
      " ohsu J_TCGA-BH-A18V-01A-11R-A12D-07_0A53AGA.tsv\n",
      "eth /cluster/work/grlab/projects/projects2020_OHSU/peptides_generation/CANCER_eth/commit_c4dd02c_conf2_Frame_cap0_runs/TCGA_Breast_1102/filtering_samples/filters_19May_order_5ge_wAnnot_GPstar/G_TCGA-A2-A0D2-01A-21R-A034-07_0213XGA.tsv.gz \n",
      "---------------------------------------------\n",
      " ohsu J_TCGA-A2-A0D2-01A-21R-A034-07_0213XGA.tsv\n",
      "eth /cluster/work/grlab/projects/projects2020_OHSU/peptides_generation/CANCER_eth/commit_c4dd02c_conf2_Frame_cap0_runs/TCGA_Breast_1102/filtering_samples/filters_19May_order_5ge_wAnnot_GPstar/G_TCGA-A2-A0SX-01A-12R-A084-07_0A132GA.tsv.gz \n",
      "---------------------------------------------\n",
      " ohsu J_TCGA-A2-A0SX-01A-12R-A084-07_0A132GA.tsv\n",
      "eth /cluster/work/grlab/projects/projects2020_OHSU/peptides_generation/CANCER_eth/commit_c4dd02c_conf2_Frame_cap0_runs/TCGA_Breast_1102/filtering_samples/filters_19May_order_5ge_wAnnot_GPstar/G_TCGA-A2-A0D2-01A-21R-A034-07_0A112GA.tsv.gz \n",
      "---------------------------------------------\n",
      " ohsu J_TCGA-A2-A0D2-01A-21R-A034-07_0A112GA.tsv\n",
      "eth /cluster/work/grlab/projects/projects2020_OHSU/peptides_generation/CANCER_eth/commit_c4dd02c_conf2_Frame_cap0_runs/TCGA_Breast_1102/filtering_samples/filters_19May_order_5ge_wAnnot_GPstar/G_TCGA-C8-A12P-01A-11R-A115-07_02532GA.tsv.gz \n",
      "---------------------------------------------\n",
      " ohsu J_TCGA-C8-A12P-01A-11R-A115-07_02532GA.tsv\n",
      "eth /cluster/work/grlab/projects/projects2020_OHSU/peptides_generation/CANCER_eth/commit_c4dd02c_conf2_Frame_cap0_runs/TCGA_Breast_1102/filtering_samples/filters_19May_order_5ge_wAnnot_GPstar/G_TCGA-AO-A0JM-01A-21R-A056-07_0A53AGA.tsv.gz \n",
      "---------------------------------------------\n",
      " ohsu J_TCGA-AO-A0JM-01A-21R-A056-07_0A53AGA.tsv\n",
      "TCGAAOA0JM01A21RA05607\n"
     ]
    },
    {
     "name": "stderr",
     "output_type": "stream",
     "text": [
      "224it [00:00, 6779.06it/s]\n"
     ]
    },
    {
     "name": "stdout",
     "output_type": "stream",
     "text": [
      "['J', 'TCGA-AO-A0JM-01A-21R-A056-07', '0A53AGA']\n",
      "['0', 'Any', '5', '3', 'Any']\n",
      "0\n",
      "25\n",
      "3\n",
      "16\n",
      "NEXT\n",
      "eth /cluster/work/grlab/projects/projects2020_OHSU/peptides_generation/CANCER_eth/commit_c4dd02c_conf2_Frame_cap0_runs/TCGA_Breast_1102/filtering_samples/filters_19May_order_5ge_wAnnot_GPstar/G_TCGA-A2-A0SX-01A-12R-A084-07_0AN1XGA.tsv.gz \n",
      "---------------------------------------------\n",
      " ohsu J_TCGA-A2-A0SX-01A-12R-A084-07_0AN1XGA.tsv\n",
      "eth /cluster/work/grlab/projects/projects2020_OHSU/peptides_generation/CANCER_eth/commit_c4dd02c_conf2_Frame_cap0_runs/TCGA_Breast_1102/filtering_samples/filters_19May_order_5ge_wAnnot_GPstar/G_TCGA-A2-A0D2-01A-21R-A034-07_02501GA.tsv.gz \n",
      "---------------------------------------------\n",
      " ohsu J_TCGA-A2-A0D2-01A-21R-A034-07_02501GA.tsv\n",
      "eth /cluster/work/grlab/projects/projects2020_OHSU/peptides_generation/CANCER_eth/commit_c4dd02c_conf2_Frame_cap0_runs/TCGA_Breast_1102/filtering_samples/filters_19May_order_5ge_wAnnot_GPstar/G_TCGA-C8-A12P-01A-11R-A115-07_0A512GA.tsv.gz \n",
      "---------------------------------------------\n",
      " ohsu J_TCGA-C8-A12P-01A-11R-A115-07_0A512GA.tsv\n",
      "eth /cluster/work/grlab/projects/projects2020_OHSU/peptides_generation/CANCER_eth/commit_c4dd02c_conf2_Frame_cap0_runs/TCGA_Breast_1102/filtering_samples/filters_19May_order_5ge_wAnnot_GPstar/G_TCGA-A2-A0D2-01A-21R-A034-07_0A501GA.tsv.gz \n",
      "---------------------------------------------\n",
      " ohsu J_TCGA-A2-A0D2-01A-21R-A034-07_0A501GA.tsv\n",
      "eth /cluster/work/grlab/projects/projects2020_OHSU/peptides_generation/CANCER_eth/commit_c4dd02c_conf2_Frame_cap0_runs/TCGA_Breast_1102/filtering_samples/filters_19May_order_5ge_wAnnot_GPstar/G_TCGA-AO-A0JM-01A-21R-A056-07_0A11XGA.tsv.gz \n",
      "---------------------------------------------\n",
      " ohsu J_TCGA-AO-A0JM-01A-21R-A056-07_0A11XGA.tsv\n",
      "eth /cluster/work/grlab/projects/projects2020_OHSU/peptides_generation/CANCER_eth/commit_c4dd02c_conf2_Frame_cap0_runs/TCGA_Breast_1102/filtering_samples/filters_19May_order_5ge_wAnnot_GPstar/G_TCGA-A2-A0D2-01A-21R-A034-07_0251AGA.tsv.gz \n",
      "---------------------------------------------\n",
      " ohsu J_TCGA-A2-A0D2-01A-21R-A034-07_0251AGA.tsv\n",
      "eth /cluster/work/grlab/projects/projects2020_OHSU/peptides_generation/CANCER_eth/commit_c4dd02c_conf2_Frame_cap0_runs/TCGA_Breast_1102/filtering_samples/filters_19May_order_5ge_wAnnot_GPstar/G_TCGA-C8-A12P-01A-11R-A115-07_0AN1AGA.tsv.gz \n",
      "---------------------------------------------\n",
      " ohsu J_TCGA-C8-A12P-01A-11R-A115-07_0AN1AGA.tsv\n",
      "eth /cluster/work/grlab/projects/projects2020_OHSU/peptides_generation/CANCER_eth/commit_c4dd02c_conf2_Frame_cap0_runs/TCGA_Breast_1102/filtering_samples/filters_19May_order_5ge_wAnnot_GPstar/G_TCGA-C8-A12P-01A-11R-A115-07_0A53AGA.tsv.gz \n",
      "---------------------------------------------\n",
      " ohsu J_TCGA-C8-A12P-01A-11R-A115-07_0A53AGA.tsv\n",
      "eth /cluster/work/grlab/projects/projects2020_OHSU/peptides_generation/CANCER_eth/commit_c4dd02c_conf2_Frame_cap0_runs/TCGA_Breast_1102/filtering_samples/filters_19May_order_5ge_wAnnot_GPstar/G_TCGA-C8-A12P-01A-11R-A115-07_02112GA.tsv.gz \n",
      "---------------------------------------------\n",
      " ohsu J_TCGA-C8-A12P-01A-11R-A115-07_02112GA.tsv\n",
      "eth /cluster/work/grlab/projects/projects2020_OHSU/peptides_generation/CANCER_eth/commit_c4dd02c_conf2_Frame_cap0_runs/TCGA_Breast_1102/filtering_samples/filters_19May_order_5ge_wAnnot_GPstar/G_TCGA-BH-A18V-01A-11R-A12D-07_02101GA.tsv.gz \n",
      "---------------------------------------------\n",
      " ohsu J_TCGA-BH-A18V-01A-11R-A12D-07_02101GA.tsv\n",
      "TCGABHA18V01A11RA12D07\n"
     ]
    },
    {
     "name": "stderr",
     "output_type": "stream",
     "text": [
      "57it [00:00, 6379.08it/s]\n"
     ]
    },
    {
     "name": "stdout",
     "output_type": "stream",
     "text": [
      "['J', 'TCGA-BH-A18V-01A-11R-A12D-07', '02101GA']\n",
      "['0', '2', '1', '0', '1']\n",
      "None\n",
      "16\n",
      "6\n",
      "5\n",
      "NEXT\n",
      "eth /cluster/work/grlab/projects/projects2020_OHSU/peptides_generation/CANCER_eth/commit_c4dd02c_conf2_Frame_cap0_runs/TCGA_Breast_1102/filtering_samples/filters_19May_order_5ge_wAnnot_GPstar/G_TCGA-A2-A0D2-01A-21R-A034-07_0AN12GA.tsv.gz \n",
      "---------------------------------------------\n",
      " ohsu J_TCGA-A2-A0D2-01A-21R-A034-07_0AN12GA.tsv\n",
      "eth /cluster/work/grlab/projects/projects2020_OHSU/peptides_generation/CANCER_eth/commit_c4dd02c_conf2_Frame_cap0_runs/TCGA_Breast_1102/filtering_samples/filters_19May_order_5ge_wAnnot_GPstar/G_TCGA-BH-A18V-01A-11R-A12D-07_02512GA.tsv.gz \n",
      "---------------------------------------------\n",
      " ohsu J_TCGA-BH-A18V-01A-11R-A12D-07_02512GA.tsv\n",
      "TCGABHA18V01A11RA12D07\n",
      "['J', 'TCGA-BH-A18V-01A-11R-A12D-07', '02512GA']\n",
      "['0', '2', '5', '1', '2']\n",
      "2\n",
      "0\n",
      "0\n",
      "0\n",
      "NEXT\n",
      "eth /cluster/work/grlab/projects/projects2020_OHSU/peptides_generation/CANCER_eth/commit_c4dd02c_conf2_Frame_cap0_runs/TCGA_Breast_1102/filtering_samples/filters_19May_order_5ge_wAnnot_GPstar/G_TCGA-C8-A12P-01A-11R-A115-07_0AN3XGA.tsv.gz \n",
      "---------------------------------------------\n",
      " ohsu J_TCGA-C8-A12P-01A-11R-A115-07_0AN3XGA.tsv\n",
      "eth /cluster/work/grlab/projects/projects2020_OHSU/peptides_generation/CANCER_eth/commit_c4dd02c_conf2_Frame_cap0_runs/TCGA_Breast_1102/filtering_samples/filters_19May_order_5ge_wAnnot_GPstar/G_TCGA-BH-A18V-01A-11R-A12D-07_02501GA.tsv.gz \n",
      "---------------------------------------------\n",
      " ohsu J_TCGA-BH-A18V-01A-11R-A12D-07_02501GA.tsv\n",
      "TCGABHA18V01A11RA12D07\n",
      "['J', 'TCGA-BH-A18V-01A-11R-A12D-07', '02501GA']\n",
      "['0', '2', '5', '0', '1']\n",
      "None\n",
      "0\n",
      "0\n",
      "0\n",
      "NEXT\n",
      "eth /cluster/work/grlab/projects/projects2020_OHSU/peptides_generation/CANCER_eth/commit_c4dd02c_conf2_Frame_cap0_runs/TCGA_Breast_1102/filtering_samples/filters_19May_order_5ge_wAnnot_GPstar/G_TCGA-C8-A12P-01A-11R-A115-07_0AN1XGA.tsv.gz \n",
      "---------------------------------------------\n",
      " ohsu J_TCGA-C8-A12P-01A-11R-A115-07_0AN1XGA.tsv\n",
      "eth /cluster/work/grlab/projects/projects2020_OHSU/peptides_generation/CANCER_eth/commit_c4dd02c_conf2_Frame_cap0_runs/TCGA_Breast_1102/filtering_samples/filters_19May_order_5ge_wAnnot_GPstar/G_TCGA-A2-A0D2-01A-21R-A034-07_0253XGA.tsv.gz \n",
      "---------------------------------------------\n",
      " ohsu J_TCGA-A2-A0D2-01A-21R-A034-07_0253XGA.tsv\n",
      "eth /cluster/work/grlab/projects/projects2020_OHSU/peptides_generation/CANCER_eth/commit_c4dd02c_conf2_Frame_cap0_runs/TCGA_Breast_1102/filtering_samples/filters_19May_order_5ge_wAnnot_GPstar/G_TCGA-AO-A0JM-01A-21R-A056-07_0AN12GA.tsv.gz \n",
      "---------------------------------------------\n",
      " ohsu J_TCGA-AO-A0JM-01A-21R-A056-07_0AN12GA.tsv\n",
      "eth /cluster/work/grlab/projects/projects2020_OHSU/peptides_generation/CANCER_eth/commit_c4dd02c_conf2_Frame_cap0_runs/TCGA_Breast_1102/filtering_samples/filters_19May_order_5ge_wAnnot_GPstar/G_TCGA-A2-A0SX-01A-12R-A084-07_0A11XGA.tsv.gz \n",
      "---------------------------------------------\n",
      " ohsu J_TCGA-A2-A0SX-01A-12R-A084-07_0A11XGA.tsv\n",
      "eth /cluster/work/grlab/projects/projects2020_OHSU/peptides_generation/CANCER_eth/commit_c4dd02c_conf2_Frame_cap0_runs/TCGA_Breast_1102/filtering_samples/filters_19May_order_5ge_wAnnot_GPstar/G_TCGA-AO-A0JM-01A-21R-A056-07_02501GA.tsv.gz \n",
      "---------------------------------------------\n",
      " ohsu J_TCGA-AO-A0JM-01A-21R-A056-07_02501GA.tsv\n",
      "eth /cluster/work/grlab/projects/projects2020_OHSU/peptides_generation/CANCER_eth/commit_c4dd02c_conf2_Frame_cap0_runs/TCGA_Breast_1102/filtering_samples/filters_19May_order_5ge_wAnnot_GPstar/G_TCGA-BH-A18V-01A-11R-A12D-07_0251XGA.tsv.gz \n",
      "---------------------------------------------\n",
      " ohsu J_TCGA-BH-A18V-01A-11R-A12D-07_0251XGA.tsv\n",
      "TCGABHA18V01A11RA12D07\n",
      "['J', 'TCGA-BH-A18V-01A-11R-A12D-07', '0251XGA']\n",
      "['0', '2', '5', '1', '10']\n",
      "1\n",
      "0\n",
      "0\n",
      "0\n",
      "NEXT\n",
      "eth /cluster/work/grlab/projects/projects2020_OHSU/peptides_generation/CANCER_eth/commit_c4dd02c_conf2_Frame_cap0_runs/TCGA_Breast_1102/filtering_samples/filters_19May_order_5ge_wAnnot_GPstar/G_TCGA-AO-A0JM-01A-21R-A056-07_0AN1AGA.tsv.gz \n",
      "---------------------------------------------\n",
      " ohsu J_TCGA-AO-A0JM-01A-21R-A056-07_0AN1AGA.tsv\n",
      "eth /cluster/work/grlab/projects/projects2020_OHSU/peptides_generation/CANCER_eth/commit_c4dd02c_conf2_Frame_cap0_runs/TCGA_Breast_1102/filtering_samples/filters_19May_order_5ge_wAnnot_GPstar/G_TCGA-A2-A0SX-01A-12R-A084-07_02532GA.tsv.gz \n",
      "---------------------------------------------\n",
      " ohsu J_TCGA-A2-A0SX-01A-12R-A084-07_02532GA.tsv\n",
      "eth /cluster/work/grlab/projects/projects2020_OHSU/peptides_generation/CANCER_eth/commit_c4dd02c_conf2_Frame_cap0_runs/TCGA_Breast_1102/filtering_samples/filters_19May_order_5ge_wAnnot_GPstar/G_TCGA-AO-A0JM-01A-21R-A056-07_0AN1XGA.tsv.gz \n",
      "---------------------------------------------\n",
      " ohsu J_TCGA-AO-A0JM-01A-21R-A056-07_0AN1XGA.tsv\n",
      "eth /cluster/work/grlab/projects/projects2020_OHSU/peptides_generation/CANCER_eth/commit_c4dd02c_conf2_Frame_cap0_runs/TCGA_Breast_1102/filtering_samples/filters_19May_order_5ge_wAnnot_GPstar/G_TCGA-BH-A18V-01A-11R-A12D-07_0AN3AGA.tsv.gz \n",
      "---------------------------------------------\n",
      " ohsu J_TCGA-BH-A18V-01A-11R-A12D-07_0AN3AGA.tsv\n",
      "TCGABHA18V01A11RA12D07\n"
     ]
    },
    {
     "name": "stderr",
     "output_type": "stream",
     "text": [
      "974it [00:00, 6501.78it/s]\n"
     ]
    },
    {
     "name": "stdout",
     "output_type": "stream",
     "text": [
      "['J', 'TCGA-BH-A18V-01A-11R-A12D-07', '0AN3AGA']\n",
      "['0', 'Any', 'None', '3', 'Any']\n",
      "0\n",
      "1094\n",
      "17\n",
      "106\n",
      "NEXT\n",
      "eth /cluster/work/grlab/projects/projects2020_OHSU/peptides_generation/CANCER_eth/commit_c4dd02c_conf2_Frame_cap0_runs/TCGA_Breast_1102/filtering_samples/filters_19May_order_5ge_wAnnot_GPstar/G_TCGA-BH-A18V-01A-11R-A12D-07_0211XGA.tsv.gz \n",
      "---------------------------------------------\n",
      " ohsu J_TCGA-BH-A18V-01A-11R-A12D-07_0211XGA.tsv\n",
      "TCGABHA18V01A11RA12D07\n"
     ]
    },
    {
     "name": "stderr",
     "output_type": "stream",
     "text": [
      "61it [00:00, 6506.93it/s]\n"
     ]
    },
    {
     "name": "stdout",
     "output_type": "stream",
     "text": [
      "['J', 'TCGA-BH-A18V-01A-11R-A12D-07', '0211XGA']\n",
      "['0', '2', '1', '1', '10']\n",
      "1\n",
      "17\n",
      "7\n",
      "5\n",
      "NEXT\n",
      "eth /cluster/work/grlab/projects/projects2020_OHSU/peptides_generation/CANCER_eth/commit_c4dd02c_conf2_Frame_cap0_runs/TCGA_Breast_1102/filtering_samples/filters_19May_order_5ge_wAnnot_GPstar/G_TCGA-C8-A12P-01A-11R-A115-07_0A101GA.tsv.gz \n",
      "---------------------------------------------\n",
      " ohsu J_TCGA-C8-A12P-01A-11R-A115-07_0A101GA.tsv\n",
      "eth /cluster/work/grlab/projects/projects2020_OHSU/peptides_generation/CANCER_eth/commit_c4dd02c_conf2_Frame_cap0_runs/TCGA_Breast_1102/filtering_samples/filters_19May_order_5ge_wAnnot_GPstar/G_TCGA-A2-A0SX-01A-12R-A084-07_0A512GA.tsv.gz \n",
      "---------------------------------------------\n",
      " ohsu J_TCGA-A2-A0SX-01A-12R-A084-07_0A512GA.tsv\n",
      "eth /cluster/work/grlab/projects/projects2020_OHSU/peptides_generation/CANCER_eth/commit_c4dd02c_conf2_Frame_cap0_runs/TCGA_Breast_1102/filtering_samples/filters_19May_order_5ge_wAnnot_GPstar/G_TCGA-A2-A0SX-01A-12R-A084-07_0AN3XGA.tsv.gz \n",
      "---------------------------------------------\n",
      " ohsu J_TCGA-A2-A0SX-01A-12R-A084-07_0AN3XGA.tsv\n",
      "eth /cluster/work/grlab/projects/projects2020_OHSU/peptides_generation/CANCER_eth/commit_c4dd02c_conf2_Frame_cap0_runs/TCGA_Breast_1102/filtering_samples/filters_19May_order_5ge_wAnnot_GPstar/G_TCGA-AO-A0JM-01A-21R-A056-07_0A51AGA.tsv.gz \n",
      "---------------------------------------------\n",
      " ohsu J_TCGA-AO-A0JM-01A-21R-A056-07_0A51AGA.tsv\n",
      "eth /cluster/work/grlab/projects/projects2020_OHSU/peptides_generation/CANCER_eth/commit_c4dd02c_conf2_Frame_cap0_runs/TCGA_Breast_1102/filtering_samples/filters_19May_order_5ge_wAnnot_GPstar/G_TCGA-AO-A0JM-01A-21R-A056-07_0A13XGA.tsv.gz \n",
      "---------------------------------------------\n",
      " ohsu J_TCGA-AO-A0JM-01A-21R-A056-07_0A13XGA.tsv\n",
      "eth /cluster/work/grlab/projects/projects2020_OHSU/peptides_generation/CANCER_eth/commit_c4dd02c_conf2_Frame_cap0_runs/TCGA_Breast_1102/filtering_samples/filters_19May_order_5ge_wAnnot_GPstar/G_TCGA-A2-A0D2-01A-21R-A034-07_0A13AGA.tsv.gz \n",
      "---------------------------------------------\n",
      " ohsu J_TCGA-A2-A0D2-01A-21R-A034-07_0A13AGA.tsv\n",
      "eth /cluster/work/grlab/projects/projects2020_OHSU/peptides_generation/CANCER_eth/commit_c4dd02c_conf2_Frame_cap0_runs/TCGA_Breast_1102/filtering_samples/filters_19May_order_5ge_wAnnot_GPstar/G_TCGA-BH-A18V-01A-11R-A12D-07_0A532GA.tsv.gz \n",
      "---------------------------------------------\n",
      " ohsu J_TCGA-BH-A18V-01A-11R-A12D-07_0A532GA.tsv\n",
      "TCGABHA18V01A11RA12D07\n"
     ]
    },
    {
     "name": "stderr",
     "output_type": "stream",
     "text": [
      "88it [00:00, 6491.93it/s]\n"
     ]
    },
    {
     "name": "stdout",
     "output_type": "stream",
     "text": [
      "['J', 'TCGA-BH-A18V-01A-11R-A12D-07', '0A532GA']\n",
      "['0', 'Any', '5', '3', '2']\n",
      "2\n",
      "15\n",
      "0\n",
      "8\n",
      "NEXT\n",
      "eth /cluster/work/grlab/projects/projects2020_OHSU/peptides_generation/CANCER_eth/commit_c4dd02c_conf2_Frame_cap0_runs/TCGA_Breast_1102/filtering_samples/filters_19May_order_5ge_wAnnot_GPstar/G_TCGA-AO-A0JM-01A-21R-A056-07_0AN3XGA.tsv.gz \n",
      "---------------------------------------------\n",
      " ohsu J_TCGA-AO-A0JM-01A-21R-A056-07_0AN3XGA.tsv\n",
      "eth /cluster/work/grlab/projects/projects2020_OHSU/peptides_generation/CANCER_eth/commit_c4dd02c_conf2_Frame_cap0_runs/TCGA_Breast_1102/filtering_samples/filters_19May_order_5ge_wAnnot_GPstar/G_TCGA-C8-A12P-01A-11R-A115-07_0AN32GA.tsv.gz \n",
      "---------------------------------------------\n",
      " ohsu J_TCGA-C8-A12P-01A-11R-A115-07_0AN32GA.tsv\n",
      "eth /cluster/work/grlab/projects/projects2020_OHSU/peptides_generation/CANCER_eth/commit_c4dd02c_conf2_Frame_cap0_runs/TCGA_Breast_1102/filtering_samples/filters_19May_order_5ge_wAnnot_GPstar/G_TCGA-AO-A0JM-01A-21R-A056-07_0A53XGA.tsv.gz \n",
      "---------------------------------------------\n",
      " ohsu J_TCGA-AO-A0JM-01A-21R-A056-07_0A53XGA.tsv\n",
      "eth /cluster/work/grlab/projects/projects2020_OHSU/peptides_generation/CANCER_eth/commit_c4dd02c_conf2_Frame_cap0_runs/TCGA_Breast_1102/filtering_samples/filters_19May_order_5ge_wAnnot_GPstar/G_TCGA-C8-A12P-01A-11R-A115-07_0A13AGA.tsv.gz \n",
      "---------------------------------------------\n",
      " ohsu J_TCGA-C8-A12P-01A-11R-A115-07_0A13AGA.tsv\n",
      "eth /cluster/work/grlab/projects/projects2020_OHSU/peptides_generation/CANCER_eth/commit_c4dd02c_conf2_Frame_cap0_runs/TCGA_Breast_1102/filtering_samples/filters_19May_order_5ge_wAnnot_GPstar/G_TCGA-A2-A0D2-01A-21R-A034-07_02112GA.tsv.gz \n",
      "---------------------------------------------\n",
      " ohsu J_TCGA-A2-A0D2-01A-21R-A034-07_02112GA.tsv\n",
      "eth /cluster/work/grlab/projects/projects2020_OHSU/peptides_generation/CANCER_eth/commit_c4dd02c_conf2_Frame_cap0_runs/TCGA_Breast_1102/filtering_samples/filters_19May_order_5ge_wAnnot_GPstar/G_TCGA-BH-A18V-01A-11R-A12D-07_0213XGA.tsv.gz \n",
      "---------------------------------------------\n",
      " ohsu J_TCGA-BH-A18V-01A-11R-A12D-07_0213XGA.tsv\n",
      "TCGABHA18V01A11RA12D07\n"
     ]
    },
    {
     "name": "stderr",
     "output_type": "stream",
     "text": [
      "396it [00:00, 6574.82it/s]\n"
     ]
    },
    {
     "name": "stdout",
     "output_type": "stream",
     "text": [
      "['J', 'TCGA-BH-A18V-01A-11R-A12D-07', '0213XGA']\n",
      "['0', '2', '1', '3', '10']\n",
      "1\n",
      "38\n",
      "30\n",
      "22\n",
      "NEXT\n",
      "eth /cluster/work/grlab/projects/projects2020_OHSU/peptides_generation/CANCER_eth/commit_c4dd02c_conf2_Frame_cap0_runs/TCGA_Breast_1102/filtering_samples/filters_19May_order_5ge_wAnnot_GPstar/G_TCGA-A2-A0SX-01A-12R-A084-07_0A53AGA.tsv.gz \n",
      "---------------------------------------------\n",
      " ohsu J_TCGA-A2-A0SX-01A-12R-A084-07_0A53AGA.tsv\n",
      "eth /cluster/work/grlab/projects/projects2020_OHSU/peptides_generation/CANCER_eth/commit_c4dd02c_conf2_Frame_cap0_runs/TCGA_Breast_1102/filtering_samples/filters_19May_order_5ge_wAnnot_GPstar/G_TCGA-BH-A18V-01A-11R-A12D-07_0AN3XGA.tsv.gz \n",
      "---------------------------------------------\n",
      " ohsu J_TCGA-BH-A18V-01A-11R-A12D-07_0AN3XGA.tsv\n",
      "TCGABHA18V01A11RA12D07\n"
     ]
    },
    {
     "name": "stderr",
     "output_type": "stream",
     "text": [
      "757it [00:00, 6437.42it/s]\n"
     ]
    },
    {
     "name": "stdout",
     "output_type": "stream",
     "text": [
      "['J', 'TCGA-BH-A18V-01A-11R-A12D-07', '0AN3XGA']\n",
      "['0', 'Any', 'None', '3', '10']\n",
      "1\n",
      "1022\n",
      "12\n",
      "81\n",
      "NEXT\n",
      "eth /cluster/work/grlab/projects/projects2020_OHSU/peptides_generation/CANCER_eth/commit_c4dd02c_conf2_Frame_cap0_runs/TCGA_Breast_1102/filtering_samples/filters_19May_order_5ge_wAnnot_GPstar/G_TCGA-A2-A0D2-01A-21R-A034-07_0213AGA.tsv.gz \n",
      "---------------------------------------------\n",
      " ohsu J_TCGA-A2-A0D2-01A-21R-A034-07_0213AGA.tsv\n",
      "eth /cluster/work/grlab/projects/projects2020_OHSU/peptides_generation/CANCER_eth/commit_c4dd02c_conf2_Frame_cap0_runs/TCGA_Breast_1102/filtering_samples/filters_19May_order_5ge_wAnnot_GPstar/G_TCGA-A2-A0D2-01A-21R-A034-07_0A51AGA.tsv.gz \n",
      "---------------------------------------------\n",
      " ohsu J_TCGA-A2-A0D2-01A-21R-A034-07_0A51AGA.tsv\n",
      "eth /cluster/work/grlab/projects/projects2020_OHSU/peptides_generation/CANCER_eth/commit_c4dd02c_conf2_Frame_cap0_runs/TCGA_Breast_1102/filtering_samples/filters_19May_order_5ge_wAnnot_GPstar/G_TCGA-A2-A0SX-01A-12R-A084-07_0AN1AGA.tsv.gz \n",
      "---------------------------------------------\n",
      " ohsu J_TCGA-A2-A0SX-01A-12R-A084-07_0AN1AGA.tsv\n",
      "eth /cluster/work/grlab/projects/projects2020_OHSU/peptides_generation/CANCER_eth/commit_c4dd02c_conf2_Frame_cap0_runs/TCGA_Breast_1102/filtering_samples/filters_19May_order_5ge_wAnnot_GPstar/G_TCGA-BH-A18V-01A-11R-A12D-07_0AN1XGA.tsv.gz \n",
      "---------------------------------------------\n",
      " ohsu J_TCGA-BH-A18V-01A-11R-A12D-07_0AN1XGA.tsv\n",
      "TCGABHA18V01A11RA12D07\n"
     ]
    },
    {
     "name": "stderr",
     "output_type": "stream",
     "text": [
      "224it [00:00, 6482.52it/s]\n"
     ]
    },
    {
     "name": "stdout",
     "output_type": "stream",
     "text": [
      "['J', 'TCGA-BH-A18V-01A-11R-A12D-07', '0AN1XGA']\n",
      "['0', 'Any', 'None', '1', '10']\n",
      "1\n",
      "565\n",
      "7\n",
      "22\n",
      "NEXT\n",
      "eth /cluster/work/grlab/projects/projects2020_OHSU/peptides_generation/CANCER_eth/commit_c4dd02c_conf2_Frame_cap0_runs/TCGA_Breast_1102/filtering_samples/filters_19May_order_5ge_wAnnot_GPstar/G_TCGA-A2-A0D2-01A-21R-A034-07_0A11XGA.tsv.gz \n",
      "---------------------------------------------\n",
      " ohsu J_TCGA-A2-A0D2-01A-21R-A034-07_0A11XGA.tsv\n",
      "eth /cluster/work/grlab/projects/projects2020_OHSU/peptides_generation/CANCER_eth/commit_c4dd02c_conf2_Frame_cap0_runs/TCGA_Breast_1102/filtering_samples/filters_19May_order_5ge_wAnnot_GPstar/G_TCGA-C8-A12P-01A-11R-A115-07_0251XGA.tsv.gz \n",
      "---------------------------------------------\n",
      " ohsu J_TCGA-C8-A12P-01A-11R-A115-07_0251XGA.tsv\n",
      "eth /cluster/work/grlab/projects/projects2020_OHSU/peptides_generation/CANCER_eth/commit_c4dd02c_conf2_Frame_cap0_runs/TCGA_Breast_1102/filtering_samples/filters_19May_order_5ge_wAnnot_GPstar/G_TCGA-BH-A18V-01A-11R-A12D-07_0A51XGA.tsv.gz \n",
      "---------------------------------------------\n",
      " ohsu J_TCGA-BH-A18V-01A-11R-A12D-07_0A51XGA.tsv\n",
      "TCGABHA18V01A11RA12D07\n"
     ]
    },
    {
     "name": "stderr",
     "output_type": "stream",
     "text": [
      "15it [00:00, 6045.41it/s]\n"
     ]
    },
    {
     "name": "stdout",
     "output_type": "stream",
     "text": [
      "['J', 'TCGA-BH-A18V-01A-11R-A12D-07', '0A51XGA']\n",
      "['0', 'Any', '5', '1', '10']\n",
      "1\n",
      "11\n",
      "0\n",
      "2\n",
      "NEXT\n",
      "eth /cluster/work/grlab/projects/projects2020_OHSU/peptides_generation/CANCER_eth/commit_c4dd02c_conf2_Frame_cap0_runs/TCGA_Breast_1102/filtering_samples/filters_19May_order_5ge_wAnnot_GPstar/G_TCGA-AO-A0JM-01A-21R-A056-07_0AN3AGA.tsv.gz \n",
      "---------------------------------------------\n",
      " ohsu J_TCGA-AO-A0JM-01A-21R-A056-07_0AN3AGA.tsv\n",
      "eth /cluster/work/grlab/projects/projects2020_OHSU/peptides_generation/CANCER_eth/commit_c4dd02c_conf2_Frame_cap0_runs/TCGA_Breast_1102/filtering_samples/filters_19May_order_5ge_wAnnot_GPstar/G_TCGA-A2-A0SX-01A-12R-A084-07_0253XGA.tsv.gz \n",
      "---------------------------------------------\n",
      " ohsu J_TCGA-A2-A0SX-01A-12R-A084-07_0253XGA.tsv\n",
      "eth /cluster/work/grlab/projects/projects2020_OHSU/peptides_generation/CANCER_eth/commit_c4dd02c_conf2_Frame_cap0_runs/TCGA_Breast_1102/filtering_samples/filters_19May_order_5ge_wAnnot_GPstar/G_TCGA-A2-A0D2-01A-21R-A034-07_0A53XGA.tsv.gz \n",
      "---------------------------------------------\n",
      " ohsu J_TCGA-A2-A0D2-01A-21R-A034-07_0A53XGA.tsv\n",
      "eth /cluster/work/grlab/projects/projects2020_OHSU/peptides_generation/CANCER_eth/commit_c4dd02c_conf2_Frame_cap0_runs/TCGA_Breast_1102/filtering_samples/filters_19May_order_5ge_wAnnot_GPstar/G_TCGA-C8-A12P-01A-11R-A115-07_0A53XGA.tsv.gz \n",
      "---------------------------------------------\n",
      " ohsu J_TCGA-C8-A12P-01A-11R-A115-07_0A53XGA.tsv\n",
      "eth /cluster/work/grlab/projects/projects2020_OHSU/peptides_generation/CANCER_eth/commit_c4dd02c_conf2_Frame_cap0_runs/TCGA_Breast_1102/filtering_samples/filters_19May_order_5ge_wAnnot_GPstar/G_TCGA-BH-A18V-01A-11R-A12D-07_0AN1AGA.tsv.gz \n",
      "---------------------------------------------\n",
      " ohsu J_TCGA-BH-A18V-01A-11R-A12D-07_0AN1AGA.tsv\n",
      "TCGABHA18V01A11RA12D07\n"
     ]
    },
    {
     "name": "stderr",
     "output_type": "stream",
     "text": [
      "224it [00:00, 6529.37it/s]\n"
     ]
    },
    {
     "name": "stdout",
     "output_type": "stream",
     "text": [
      "['J', 'TCGA-BH-A18V-01A-11R-A12D-07', '0AN1AGA']\n",
      "['0', 'Any', 'None', '1', 'Any']\n",
      "0\n",
      "565\n",
      "7\n",
      "22\n",
      "NEXT\n",
      "eth /cluster/work/grlab/projects/projects2020_OHSU/peptides_generation/CANCER_eth/commit_c4dd02c_conf2_Frame_cap0_runs/TCGA_Breast_1102/filtering_samples/filters_19May_order_5ge_wAnnot_GPstar/G_TCGA-A2-A0SX-01A-12R-A084-07_0A53XGA.tsv.gz \n",
      "---------------------------------------------\n",
      " ohsu J_TCGA-A2-A0SX-01A-12R-A084-07_0A53XGA.tsv\n",
      "eth /cluster/work/grlab/projects/projects2020_OHSU/peptides_generation/CANCER_eth/commit_c4dd02c_conf2_Frame_cap0_runs/TCGA_Breast_1102/filtering_samples/filters_19May_order_5ge_wAnnot_GPstar/G_TCGA-A2-A0D2-01A-21R-A034-07_0AN1AGA.tsv.gz \n",
      "---------------------------------------------\n",
      " ohsu J_TCGA-A2-A0D2-01A-21R-A034-07_0AN1AGA.tsv\n",
      "eth /cluster/work/grlab/projects/projects2020_OHSU/peptides_generation/CANCER_eth/commit_c4dd02c_conf2_Frame_cap0_runs/TCGA_Breast_1102/filtering_samples/filters_19May_order_5ge_wAnnot_GPstar/G_TCGA-AO-A0JM-01A-21R-A056-07_02112GA.tsv.gz \n",
      "---------------------------------------------\n",
      " ohsu J_TCGA-AO-A0JM-01A-21R-A056-07_02112GA.tsv\n",
      "eth /cluster/work/grlab/projects/projects2020_OHSU/peptides_generation/CANCER_eth/commit_c4dd02c_conf2_Frame_cap0_runs/TCGA_Breast_1102/filtering_samples/filters_19May_order_5ge_wAnnot_GPstar/G_TCGA-C8-A12P-01A-11R-A115-07_0213XGA.tsv.gz \n",
      "---------------------------------------------\n",
      " ohsu J_TCGA-C8-A12P-01A-11R-A115-07_0213XGA.tsv\n",
      "eth /cluster/work/grlab/projects/projects2020_OHSU/peptides_generation/CANCER_eth/commit_c4dd02c_conf2_Frame_cap0_runs/TCGA_Breast_1102/filtering_samples/filters_19May_order_5ge_wAnnot_GPstar/G_TCGA-BH-A18V-01A-11R-A12D-07_0A112GA.tsv.gz \n",
      "---------------------------------------------\n",
      " ohsu J_TCGA-BH-A18V-01A-11R-A12D-07_0A112GA.tsv\n",
      "TCGABHA18V01A11RA12D07\n"
     ]
    },
    {
     "name": "stderr",
     "output_type": "stream",
     "text": [
      "76it [00:00, 6456.96it/s]\n"
     ]
    },
    {
     "name": "stdout",
     "output_type": "stream",
     "text": [
      "['J', 'TCGA-BH-A18V-01A-11R-A12D-07', '0A112GA']\n",
      "['0', 'Any', '1', '1', '2']\n",
      "2\n",
      "77\n",
      "4\n",
      "10\n",
      "NEXT\n",
      "eth /cluster/work/grlab/projects/projects2020_OHSU/peptides_generation/CANCER_eth/commit_c4dd02c_conf2_Frame_cap0_runs/TCGA_Breast_1102/filtering_samples/filters_19May_order_5ge_wAnnot_GPstar/G_TCGA-AO-A0JM-01A-21R-A056-07_0253AGA.tsv.gz \n",
      "---------------------------------------------\n",
      " ohsu J_TCGA-AO-A0JM-01A-21R-A056-07_0253AGA.tsv\n",
      "eth /cluster/work/grlab/projects/projects2020_OHSU/peptides_generation/CANCER_eth/commit_c4dd02c_conf2_Frame_cap0_runs/TCGA_Breast_1102/filtering_samples/filters_19May_order_5ge_wAnnot_GPstar/G_TCGA-BH-A18V-01A-11R-A12D-07_0AN01GA.tsv.gz \n",
      "---------------------------------------------\n",
      " ohsu J_TCGA-BH-A18V-01A-11R-A12D-07_0AN01GA.tsv\n",
      "TCGABHA18V01A11RA12D07\n"
     ]
    },
    {
     "name": "stderr",
     "output_type": "stream",
     "text": [
      "220it [00:00, 6548.16it/s]\n"
     ]
    },
    {
     "name": "stdout",
     "output_type": "stream",
     "text": [
      "['J', 'TCGA-BH-A18V-01A-11R-A12D-07', '0AN01GA']\n",
      "['0', 'Any', 'None', '0', '1']\n",
      "None\n",
      "556\n",
      "7\n",
      "21\n",
      "NEXT\n",
      "eth /cluster/work/grlab/projects/projects2020_OHSU/peptides_generation/CANCER_eth/commit_c4dd02c_conf2_Frame_cap0_runs/TCGA_Breast_1102/filtering_samples/filters_19May_order_5ge_wAnnot_GPstar/G_TCGA-A2-A0D2-01A-21R-A034-07_0251XGA.tsv.gz \n",
      "---------------------------------------------\n",
      " ohsu J_TCGA-A2-A0D2-01A-21R-A034-07_0251XGA.tsv\n",
      "eth /cluster/work/grlab/projects/projects2020_OHSU/peptides_generation/CANCER_eth/commit_c4dd02c_conf2_Frame_cap0_runs/TCGA_Breast_1102/filtering_samples/filters_19May_order_5ge_wAnnot_GPstar/G_TCGA-AO-A0JM-01A-21R-A056-07_0211AGA.tsv.gz \n",
      "---------------------------------------------\n",
      " ohsu J_TCGA-AO-A0JM-01A-21R-A056-07_0211AGA.tsv\n",
      "eth /cluster/work/grlab/projects/projects2020_OHSU/peptides_generation/CANCER_eth/commit_c4dd02c_conf2_Frame_cap0_runs/TCGA_Breast_1102/filtering_samples/filters_19May_order_5ge_wAnnot_GPstar/G_TCGA-AO-A0JM-01A-21R-A056-07_02532GA.tsv.gz \n",
      "---------------------------------------------\n",
      " ohsu J_TCGA-AO-A0JM-01A-21R-A056-07_02532GA.tsv\n",
      "eth /cluster/work/grlab/projects/projects2020_OHSU/peptides_generation/CANCER_eth/commit_c4dd02c_conf2_Frame_cap0_runs/TCGA_Breast_1102/filtering_samples/filters_19May_order_5ge_wAnnot_GPstar/G_TCGA-A2-A0D2-01A-21R-A034-07_02512GA.tsv.gz \n",
      "---------------------------------------------\n",
      " ohsu J_TCGA-A2-A0D2-01A-21R-A034-07_02512GA.tsv\n",
      "eth /cluster/work/grlab/projects/projects2020_OHSU/peptides_generation/CANCER_eth/commit_c4dd02c_conf2_Frame_cap0_runs/TCGA_Breast_1102/filtering_samples/filters_19May_order_5ge_wAnnot_GPstar/G_TCGA-BH-A18V-01A-11R-A12D-07_0A51AGA.tsv.gz \n",
      "---------------------------------------------\n",
      " ohsu J_TCGA-BH-A18V-01A-11R-A12D-07_0A51AGA.tsv\n",
      "TCGABHA18V01A11RA12D07\n"
     ]
    },
    {
     "name": "stderr",
     "output_type": "stream",
     "text": [
      "15it [00:00, 6069.90it/s]\n"
     ]
    },
    {
     "name": "stdout",
     "output_type": "stream",
     "text": [
      "['J', 'TCGA-BH-A18V-01A-11R-A12D-07', '0A51AGA']\n",
      "['0', 'Any', '5', '1', 'Any']\n",
      "0\n",
      "11\n",
      "0\n",
      "2\n",
      "NEXT\n",
      "eth /cluster/work/grlab/projects/projects2020_OHSU/peptides_generation/CANCER_eth/commit_c4dd02c_conf2_Frame_cap0_runs/TCGA_Breast_1102/filtering_samples/filters_19May_order_5ge_wAnnot_GPstar/G_TCGA-A2-A0SX-01A-12R-A084-07_02101GA.tsv.gz \n",
      "---------------------------------------------\n",
      " ohsu J_TCGA-A2-A0SX-01A-12R-A084-07_02101GA.tsv\n",
      "eth /cluster/work/grlab/projects/projects2020_OHSU/peptides_generation/CANCER_eth/commit_c4dd02c_conf2_Frame_cap0_runs/TCGA_Breast_1102/filtering_samples/filters_19May_order_5ge_wAnnot_GPstar/G_TCGA-AO-A0JM-01A-21R-A056-07_0A532GA.tsv.gz \n",
      "---------------------------------------------\n",
      " ohsu J_TCGA-AO-A0JM-01A-21R-A056-07_0A532GA.tsv\n",
      "eth /cluster/work/grlab/projects/projects2020_OHSU/peptides_generation/CANCER_eth/commit_c4dd02c_conf2_Frame_cap0_runs/TCGA_Breast_1102/filtering_samples/filters_19May_order_5ge_wAnnot_GPstar/G_TCGA-A2-A0D2-01A-21R-A034-07_0AN3AGA.tsv.gz \n",
      "---------------------------------------------\n",
      " ohsu J_TCGA-A2-A0D2-01A-21R-A034-07_0AN3AGA.tsv\n",
      "eth /cluster/work/grlab/projects/projects2020_OHSU/peptides_generation/CANCER_eth/commit_c4dd02c_conf2_Frame_cap0_runs/TCGA_Breast_1102/filtering_samples/filters_19May_order_5ge_wAnnot_GPstar/G_TCGA-BH-A18V-01A-11R-A12D-07_0A501GA.tsv.gz \n",
      "---------------------------------------------\n",
      " ohsu J_TCGA-BH-A18V-01A-11R-A12D-07_0A501GA.tsv\n",
      "TCGABHA18V01A11RA12D07\n"
     ]
    },
    {
     "name": "stderr",
     "output_type": "stream",
     "text": [
      "15it [00:00, 6045.99it/s]\n"
     ]
    },
    {
     "name": "stdout",
     "output_type": "stream",
     "text": [
      "['J', 'TCGA-BH-A18V-01A-11R-A12D-07', '0A501GA']\n",
      "['0', 'Any', '5', '0', '1']\n",
      "None\n",
      "10\n",
      "0\n",
      "2\n",
      "NEXT\n",
      "eth /cluster/work/grlab/projects/projects2020_OHSU/peptides_generation/CANCER_eth/commit_c4dd02c_conf2_Frame_cap0_runs/TCGA_Breast_1102/filtering_samples/filters_19May_order_5ge_wAnnot_GPstar/G_TCGA-A2-A0SX-01A-12R-A084-07_0213AGA.tsv.gz \n",
      "---------------------------------------------\n",
      " ohsu J_TCGA-A2-A0SX-01A-12R-A084-07_0213AGA.tsv\n",
      "eth /cluster/work/grlab/projects/projects2020_OHSU/peptides_generation/CANCER_eth/commit_c4dd02c_conf2_Frame_cap0_runs/TCGA_Breast_1102/filtering_samples/filters_19May_order_5ge_wAnnot_GPstar/G_TCGA-A2-A0SX-01A-12R-A084-07_0213XGA.tsv.gz \n",
      "---------------------------------------------\n",
      " ohsu J_TCGA-A2-A0SX-01A-12R-A084-07_0213XGA.tsv\n",
      "eth /cluster/work/grlab/projects/projects2020_OHSU/peptides_generation/CANCER_eth/commit_c4dd02c_conf2_Frame_cap0_runs/TCGA_Breast_1102/filtering_samples/filters_19May_order_5ge_wAnnot_GPstar/G_TCGA-C8-A12P-01A-11R-A115-07_0253XGA.tsv.gz \n",
      "---------------------------------------------\n",
      " ohsu J_TCGA-C8-A12P-01A-11R-A115-07_0253XGA.tsv\n",
      "eth /cluster/work/grlab/projects/projects2020_OHSU/peptides_generation/CANCER_eth/commit_c4dd02c_conf2_Frame_cap0_runs/TCGA_Breast_1102/filtering_samples/filters_19May_order_5ge_wAnnot_GPstar/G_TCGA-BH-A18V-01A-11R-A12D-07_0A13XGA.tsv.gz \n",
      "---------------------------------------------\n",
      " ohsu J_TCGA-BH-A18V-01A-11R-A12D-07_0A13XGA.tsv\n",
      "TCGABHA18V01A11RA12D07\n"
     ]
    },
    {
     "name": "stderr",
     "output_type": "stream",
     "text": [
      "457it [00:00, 6861.21it/s]\n"
     ]
    },
    {
     "name": "stdout",
     "output_type": "stream",
     "text": [
      "['J', 'TCGA-BH-A18V-01A-11R-A12D-07', '0A13XGA']\n",
      "['0', 'Any', '1', '3', '10']\n",
      "1\n",
      "264\n",
      "8\n",
      "54\n",
      "NEXT\n",
      "eth /cluster/work/grlab/projects/projects2020_OHSU/peptides_generation/CANCER_eth/commit_c4dd02c_conf2_Frame_cap0_runs/TCGA_Breast_1102/filtering_samples/filters_19May_order_5ge_wAnnot_GPstar/G_TCGA-BH-A18V-01A-11R-A12D-07_02112GA.tsv.gz \n",
      "---------------------------------------------\n",
      " ohsu J_TCGA-BH-A18V-01A-11R-A12D-07_02112GA.tsv\n",
      "TCGABHA18V01A11RA12D07\n"
     ]
    },
    {
     "name": "stderr",
     "output_type": "stream",
     "text": [
      "61it [00:00, 6364.49it/s]\n"
     ]
    },
    {
     "name": "stdout",
     "output_type": "stream",
     "text": [
      "['J', 'TCGA-BH-A18V-01A-11R-A12D-07', '02112GA']\n",
      "['0', '2', '1', '1', '2']\n",
      "2\n",
      "17\n",
      "7\n",
      "5\n",
      "NEXT\n",
      "eth /cluster/work/grlab/projects/projects2020_OHSU/peptides_generation/CANCER_eth/commit_c4dd02c_conf2_Frame_cap0_runs/TCGA_Breast_1102/filtering_samples/filters_19May_order_5ge_wAnnot_GPstar/G_TCGA-C8-A12P-01A-11R-A115-07_0A13XGA.tsv.gz \n",
      "---------------------------------------------\n",
      " ohsu J_TCGA-C8-A12P-01A-11R-A115-07_0A13XGA.tsv\n",
      "eth /cluster/work/grlab/projects/projects2020_OHSU/peptides_generation/CANCER_eth/commit_c4dd02c_conf2_Frame_cap0_runs/TCGA_Breast_1102/filtering_samples/filters_19May_order_5ge_wAnnot_GPstar/G_TCGA-C8-A12P-01A-11R-A115-07_0211XGA.tsv.gz \n",
      "---------------------------------------------\n",
      " ohsu J_TCGA-C8-A12P-01A-11R-A115-07_0211XGA.tsv\n",
      "eth /cluster/work/grlab/projects/projects2020_OHSU/peptides_generation/CANCER_eth/commit_c4dd02c_conf2_Frame_cap0_runs/TCGA_Breast_1102/filtering_samples/filters_19May_order_5ge_wAnnot_GPstar/G_TCGA-A2-A0SX-01A-12R-A084-07_0A532GA.tsv.gz \n",
      "---------------------------------------------\n",
      " ohsu J_TCGA-A2-A0SX-01A-12R-A084-07_0A532GA.tsv\n",
      "eth /cluster/work/grlab/projects/projects2020_OHSU/peptides_generation/CANCER_eth/commit_c4dd02c_conf2_Frame_cap0_runs/TCGA_Breast_1102/filtering_samples/filters_19May_order_5ge_wAnnot_GPstar/G_TCGA-BH-A18V-01A-11R-A12D-07_0A512GA.tsv.gz \n",
      "---------------------------------------------\n",
      " ohsu J_TCGA-BH-A18V-01A-11R-A12D-07_0A512GA.tsv\n",
      "TCGABHA18V01A11RA12D07\n"
     ]
    },
    {
     "name": "stderr",
     "output_type": "stream",
     "text": [
      "15it [00:00, 5970.26it/s]\n"
     ]
    },
    {
     "name": "stdout",
     "output_type": "stream",
     "text": [
      "['J', 'TCGA-BH-A18V-01A-11R-A12D-07', '0A512GA']\n",
      "['0', 'Any', '5', '1', '2']\n",
      "2\n",
      "11\n",
      "0\n",
      "2\n",
      "NEXT\n",
      "eth /cluster/work/grlab/projects/projects2020_OHSU/peptides_generation/CANCER_eth/commit_c4dd02c_conf2_Frame_cap0_runs/TCGA_Breast_1102/filtering_samples/filters_19May_order_5ge_wAnnot_GPstar/G_TCGA-A2-A0D2-01A-21R-A034-07_0AN1XGA.tsv.gz \n",
      "---------------------------------------------\n",
      " ohsu J_TCGA-A2-A0D2-01A-21R-A034-07_0AN1XGA.tsv\n",
      "eth /cluster/work/grlab/projects/projects2020_OHSU/peptides_generation/CANCER_eth/commit_c4dd02c_conf2_Frame_cap0_runs/TCGA_Breast_1102/filtering_samples/filters_19May_order_5ge_wAnnot_GPstar/G_TCGA-A2-A0D2-01A-21R-A034-07_0AN01GA.tsv.gz \n",
      "---------------------------------------------\n",
      " ohsu J_TCGA-A2-A0D2-01A-21R-A034-07_0AN01GA.tsv\n",
      "eth /cluster/work/grlab/projects/projects2020_OHSU/peptides_generation/CANCER_eth/commit_c4dd02c_conf2_Frame_cap0_runs/TCGA_Breast_1102/filtering_samples/filters_19May_order_5ge_wAnnot_GPstar/G_TCGA-C8-A12P-01A-11R-A115-07_02132GA.tsv.gz \n",
      "---------------------------------------------\n",
      " ohsu J_TCGA-C8-A12P-01A-11R-A115-07_02132GA.tsv\n",
      "eth /cluster/work/grlab/projects/projects2020_OHSU/peptides_generation/CANCER_eth/commit_c4dd02c_conf2_Frame_cap0_runs/TCGA_Breast_1102/filtering_samples/filters_19May_order_5ge_wAnnot_GPstar/G_TCGA-A2-A0SX-01A-12R-A084-07_02501GA.tsv.gz \n",
      "---------------------------------------------\n",
      " ohsu J_TCGA-A2-A0SX-01A-12R-A084-07_02501GA.tsv\n",
      "eth /cluster/work/grlab/projects/projects2020_OHSU/peptides_generation/CANCER_eth/commit_c4dd02c_conf2_Frame_cap0_runs/TCGA_Breast_1102/filtering_samples/filters_19May_order_5ge_wAnnot_GPstar/G_TCGA-C8-A12P-01A-11R-A115-07_0211AGA.tsv.gz \n",
      "---------------------------------------------\n",
      " ohsu J_TCGA-C8-A12P-01A-11R-A115-07_0211AGA.tsv\n",
      "eth /cluster/work/grlab/projects/projects2020_OHSU/peptides_generation/CANCER_eth/commit_c4dd02c_conf2_Frame_cap0_runs/TCGA_Breast_1102/filtering_samples/filters_19May_order_5ge_wAnnot_GPstar/G_TCGA-A2-A0D2-01A-21R-A034-07_02532GA.tsv.gz \n",
      "---------------------------------------------\n",
      " ohsu J_TCGA-A2-A0D2-01A-21R-A034-07_02532GA.tsv\n",
      "eth /cluster/work/grlab/projects/projects2020_OHSU/peptides_generation/CANCER_eth/commit_c4dd02c_conf2_Frame_cap0_runs/TCGA_Breast_1102/filtering_samples/filters_19May_order_5ge_wAnnot_GPstar/G_TCGA-BH-A18V-01A-11R-A12D-07_0A11AGA.tsv.gz \n",
      "---------------------------------------------\n",
      " ohsu J_TCGA-BH-A18V-01A-11R-A12D-07_0A11AGA.tsv\n",
      "TCGABHA18V01A11RA12D07\n"
     ]
    },
    {
     "name": "stderr",
     "output_type": "stream",
     "text": [
      "76it [00:00, 6506.11it/s]\n"
     ]
    },
    {
     "name": "stdout",
     "output_type": "stream",
     "text": [
      "['J', 'TCGA-BH-A18V-01A-11R-A12D-07', '0A11AGA']\n",
      "['0', 'Any', '1', '1', 'Any']\n",
      "0\n",
      "77\n",
      "4\n",
      "10\n",
      "NEXT\n",
      "eth /cluster/work/grlab/projects/projects2020_OHSU/peptides_generation/CANCER_eth/commit_c4dd02c_conf2_Frame_cap0_runs/TCGA_Breast_1102/filtering_samples/filters_19May_order_5ge_wAnnot_GPstar/G_TCGA-A2-A0D2-01A-21R-A034-07_0211XGA.tsv.gz \n",
      "---------------------------------------------\n",
      " ohsu J_TCGA-A2-A0D2-01A-21R-A034-07_0211XGA.tsv\n",
      "eth /cluster/work/grlab/projects/projects2020_OHSU/peptides_generation/CANCER_eth/commit_c4dd02c_conf2_Frame_cap0_runs/TCGA_Breast_1102/filtering_samples/filters_19May_order_5ge_wAnnot_GPstar/G_TCGA-A2-A0D2-01A-21R-A034-07_02132GA.tsv.gz \n",
      "---------------------------------------------\n",
      " ohsu J_TCGA-A2-A0D2-01A-21R-A034-07_02132GA.tsv\n",
      "eth /cluster/work/grlab/projects/projects2020_OHSU/peptides_generation/CANCER_eth/commit_c4dd02c_conf2_Frame_cap0_runs/TCGA_Breast_1102/filtering_samples/filters_19May_order_5ge_wAnnot_GPstar/G_TCGA-BH-A18V-01A-11R-A12D-07_0A132GA.tsv.gz \n",
      "---------------------------------------------\n",
      " ohsu J_TCGA-BH-A18V-01A-11R-A12D-07_0A132GA.tsv\n",
      "TCGABHA18V01A11RA12D07\n"
     ]
    },
    {
     "name": "stderr",
     "output_type": "stream",
     "text": [
      "170it [00:00, 6891.53it/s]\n"
     ]
    },
    {
     "name": "stdout",
     "output_type": "stream",
     "text": [
      "['J', 'TCGA-BH-A18V-01A-11R-A12D-07', '0A132GA']\n",
      "['0', 'Any', '1', '3', '2']\n",
      "2\n",
      "124\n",
      "5\n",
      "18\n",
      "NEXT\n",
      "eth /cluster/work/grlab/projects/projects2020_OHSU/peptides_generation/CANCER_eth/commit_c4dd02c_conf2_Frame_cap0_runs/TCGA_Breast_1102/filtering_samples/filters_19May_order_5ge_wAnnot_GPstar/G_TCGA-A2-A0SX-01A-12R-A084-07_02512GA.tsv.gz \n",
      "---------------------------------------------\n",
      " ohsu J_TCGA-A2-A0SX-01A-12R-A084-07_02512GA.tsv\n",
      "eth /cluster/work/grlab/projects/projects2020_OHSU/peptides_generation/CANCER_eth/commit_c4dd02c_conf2_Frame_cap0_runs/TCGA_Breast_1102/filtering_samples/filters_19May_order_5ge_wAnnot_GPstar/G_TCGA-AO-A0JM-01A-21R-A056-07_0213XGA.tsv.gz \n",
      "---------------------------------------------\n",
      " ohsu J_TCGA-AO-A0JM-01A-21R-A056-07_0213XGA.tsv\n",
      "eth /cluster/work/grlab/projects/projects2020_OHSU/peptides_generation/CANCER_eth/commit_c4dd02c_conf2_Frame_cap0_runs/TCGA_Breast_1102/filtering_samples/filters_19May_order_5ge_wAnnot_GPstar/G_TCGA-A2-A0SX-01A-12R-A084-07_0251XGA.tsv.gz \n",
      "---------------------------------------------\n",
      " ohsu J_TCGA-A2-A0SX-01A-12R-A084-07_0251XGA.tsv\n",
      "eth /cluster/work/grlab/projects/projects2020_OHSU/peptides_generation/CANCER_eth/commit_c4dd02c_conf2_Frame_cap0_runs/TCGA_Breast_1102/filtering_samples/filters_19May_order_5ge_wAnnot_GPstar/G_TCGA-A2-A0D2-01A-21R-A034-07_0253AGA.tsv.gz \n",
      "---------------------------------------------\n",
      " ohsu J_TCGA-A2-A0D2-01A-21R-A034-07_0253AGA.tsv\n",
      "eth /cluster/work/grlab/projects/projects2020_OHSU/peptides_generation/CANCER_eth/commit_c4dd02c_conf2_Frame_cap0_runs/TCGA_Breast_1102/filtering_samples/filters_19May_order_5ge_wAnnot_GPstar/G_TCGA-BH-A18V-01A-11R-A12D-07_0253AGA.tsv.gz \n",
      "---------------------------------------------\n",
      " ohsu J_TCGA-BH-A18V-01A-11R-A12D-07_0253AGA.tsv\n",
      "TCGABHA18V01A11RA12D07\n"
     ]
    },
    {
     "name": "stderr",
     "output_type": "stream",
     "text": [
      "86it [00:00, 6571.15it/s]\n"
     ]
    },
    {
     "name": "stdout",
     "output_type": "stream",
     "text": [
      "['J', 'TCGA-BH-A18V-01A-11R-A12D-07', '0253AGA']\n",
      "['0', '2', '5', '3', 'Any']\n",
      "0\n",
      "8\n",
      "2\n",
      "9\n",
      "NEXT\n",
      "eth /cluster/work/grlab/projects/projects2020_OHSU/peptides_generation/CANCER_eth/commit_c4dd02c_conf2_Frame_cap0_runs/TCGA_Breast_1102/filtering_samples/filters_19May_order_5ge_wAnnot_GPstar/G_TCGA-A2-A0SX-01A-12R-A084-07_0211AGA.tsv.gz \n",
      "---------------------------------------------\n",
      " ohsu J_TCGA-A2-A0SX-01A-12R-A084-07_0211AGA.tsv\n",
      "eth /cluster/work/grlab/projects/projects2020_OHSU/peptides_generation/CANCER_eth/commit_c4dd02c_conf2_Frame_cap0_runs/TCGA_Breast_1102/filtering_samples/filters_19May_order_5ge_wAnnot_GPstar/G_TCGA-A2-A0SX-01A-12R-A084-07_0AN3AGA.tsv.gz \n",
      "---------------------------------------------\n",
      " ohsu J_TCGA-A2-A0SX-01A-12R-A084-07_0AN3AGA.tsv\n",
      "eth /cluster/work/grlab/projects/projects2020_OHSU/peptides_generation/CANCER_eth/commit_c4dd02c_conf2_Frame_cap0_runs/TCGA_Breast_1102/filtering_samples/filters_19May_order_5ge_wAnnot_GPstar/G_TCGA-A2-A0SX-01A-12R-A084-07_0211XGA.tsv.gz \n",
      "---------------------------------------------\n",
      " ohsu J_TCGA-A2-A0SX-01A-12R-A084-07_0211XGA.tsv\n",
      "eth /cluster/work/grlab/projects/projects2020_OHSU/peptides_generation/CANCER_eth/commit_c4dd02c_conf2_Frame_cap0_runs/TCGA_Breast_1102/filtering_samples/filters_19May_order_5ge_wAnnot_GPstar/G_TCGA-A2-A0D2-01A-21R-A034-07_0A53AGA.tsv.gz \n",
      "---------------------------------------------\n",
      " ohsu J_TCGA-A2-A0D2-01A-21R-A034-07_0A53AGA.tsv\n",
      "eth /cluster/work/grlab/projects/projects2020_OHSU/peptides_generation/CANCER_eth/commit_c4dd02c_conf2_Frame_cap0_runs/TCGA_Breast_1102/filtering_samples/filters_19May_order_5ge_wAnnot_GPstar/G_TCGA-AO-A0JM-01A-21R-A056-07_0211XGA.tsv.gz \n",
      "---------------------------------------------\n",
      " ohsu J_TCGA-AO-A0JM-01A-21R-A056-07_0211XGA.tsv\n",
      "eth /cluster/work/grlab/projects/projects2020_OHSU/peptides_generation/CANCER_eth/commit_c4dd02c_conf2_Frame_cap0_runs/TCGA_Breast_1102/filtering_samples/filters_19May_order_5ge_wAnnot_GPstar/G_TCGA-A2-A0SX-01A-12R-A084-07_0A501GA.tsv.gz \n",
      "---------------------------------------------\n",
      " ohsu J_TCGA-A2-A0SX-01A-12R-A084-07_0A501GA.tsv\n",
      "eth /cluster/work/grlab/projects/projects2020_OHSU/peptides_generation/CANCER_eth/commit_c4dd02c_conf2_Frame_cap0_runs/TCGA_Breast_1102/filtering_samples/filters_19May_order_5ge_wAnnot_GPstar/G_TCGA-BH-A18V-01A-11R-A12D-07_0211AGA.tsv.gz \n",
      "---------------------------------------------\n",
      " ohsu J_TCGA-BH-A18V-01A-11R-A12D-07_0211AGA.tsv\n",
      "TCGABHA18V01A11RA12D07\n"
     ]
    },
    {
     "name": "stderr",
     "output_type": "stream",
     "text": [
      "61it [00:00, 6705.26it/s]\n"
     ]
    },
    {
     "name": "stdout",
     "output_type": "stream",
     "text": [
      "['J', 'TCGA-BH-A18V-01A-11R-A12D-07', '0211AGA']\n",
      "['0', '2', '1', '1', 'Any']\n",
      "0\n",
      "17\n",
      "7\n",
      "5\n",
      "NEXT\n",
      "eth /cluster/work/grlab/projects/projects2020_OHSU/peptides_generation/CANCER_eth/commit_c4dd02c_conf2_Frame_cap0_runs/TCGA_Breast_1102/filtering_samples/filters_19May_order_5ge_wAnnot_GPstar/G_TCGA-A2-A0D2-01A-21R-A034-07_0A11AGA.tsv.gz \n",
      "---------------------------------------------\n",
      " ohsu J_TCGA-A2-A0D2-01A-21R-A034-07_0A11AGA.tsv\n",
      "eth /cluster/work/grlab/projects/projects2020_OHSU/peptides_generation/CANCER_eth/commit_c4dd02c_conf2_Frame_cap0_runs/TCGA_Breast_1102/filtering_samples/filters_19May_order_5ge_wAnnot_GPstar/G_TCGA-BH-A18V-01A-11R-A12D-07_02532GA.tsv.gz \n",
      "---------------------------------------------\n",
      " ohsu J_TCGA-BH-A18V-01A-11R-A12D-07_02532GA.tsv\n",
      "TCGABHA18V01A11RA12D07\n"
     ]
    },
    {
     "name": "stderr",
     "output_type": "stream",
     "text": [
      "35it [00:00, 6494.17it/s]\n"
     ]
    },
    {
     "name": "stdout",
     "output_type": "stream",
     "text": [
      "['J', 'TCGA-BH-A18V-01A-11R-A12D-07', '02532GA']\n",
      "['0', '2', '5', '3', '2']\n",
      "2\n",
      "5\n",
      "0\n",
      "3\n",
      "NEXT\n",
      "eth /cluster/work/grlab/projects/projects2020_OHSU/peptides_generation/CANCER_eth/commit_c4dd02c_conf2_Frame_cap0_runs/TCGA_Breast_1102/filtering_samples/filters_19May_order_5ge_wAnnot_GPstar/G_TCGA-BH-A18V-01A-11R-A12D-07_0AN32GA.tsv.gz \n",
      "---------------------------------------------\n",
      " ohsu J_TCGA-BH-A18V-01A-11R-A12D-07_0AN32GA.tsv\n",
      "TCGABHA18V01A11RA12D07\n"
     ]
    },
    {
     "name": "stderr",
     "output_type": "stream",
     "text": [
      "383it [00:00, 6786.67it/s]\n"
     ]
    },
    {
     "name": "stdout",
     "output_type": "stream",
     "text": [
      "['J', 'TCGA-BH-A18V-01A-11R-A12D-07', '0AN32GA']\n",
      "['0', 'Any', 'None', '3', '2']\n",
      "2\n",
      "721\n",
      "9\n",
      "35\n",
      "NEXT\n",
      "eth /cluster/work/grlab/projects/projects2020_OHSU/peptides_generation/CANCER_eth/commit_c4dd02c_conf2_Frame_cap0_runs/TCGA_Breast_1102/filtering_samples/filters_19May_order_5ge_wAnnot_GPstar/G_TCGA-AO-A0JM-01A-21R-A056-07_0A13AGA.tsv.gz \n",
      "---------------------------------------------\n",
      " ohsu J_TCGA-AO-A0JM-01A-21R-A056-07_0A13AGA.tsv\n",
      "eth /cluster/work/grlab/projects/projects2020_OHSU/peptides_generation/CANCER_eth/commit_c4dd02c_conf2_Frame_cap0_runs/TCGA_Breast_1102/filtering_samples/filters_19May_order_5ge_wAnnot_GPstar/G_TCGA-BH-A18V-01A-11R-A12D-07_0213AGA.tsv.gz \n",
      "---------------------------------------------\n",
      " ohsu J_TCGA-BH-A18V-01A-11R-A12D-07_0213AGA.tsv\n",
      "TCGABHA18V01A11RA12D07\n"
     ]
    },
    {
     "name": "stderr",
     "output_type": "stream",
     "text": [
      "594it [00:00, 6676.63it/s]\n"
     ]
    },
    {
     "name": "stdout",
     "output_type": "stream",
     "text": [
      "['J', 'TCGA-BH-A18V-01A-11R-A12D-07', '0213AGA']\n",
      "['0', '2', '1', '3', 'Any']\n",
      "0\n",
      "47\n",
      "43\n",
      "35\n",
      "NEXT\n",
      "eth /cluster/work/grlab/projects/projects2020_OHSU/peptides_generation/CANCER_eth/commit_c4dd02c_conf2_Frame_cap0_runs/TCGA_Breast_1102/filtering_samples/filters_19May_order_5ge_wAnnot_GPstar/G_TCGA-C8-A12P-01A-11R-A115-07_0A51AGA.tsv.gz \n",
      "---------------------------------------------\n",
      " ohsu J_TCGA-C8-A12P-01A-11R-A115-07_0A51AGA.tsv\n",
      "eth /cluster/work/grlab/projects/projects2020_OHSU/peptides_generation/CANCER_eth/commit_c4dd02c_conf2_Frame_cap0_runs/TCGA_Breast_1102/filtering_samples/filters_19May_order_5ge_wAnnot_GPstar/G_TCGA-A2-A0SX-01A-12R-A084-07_0A13AGA.tsv.gz \n",
      "---------------------------------------------\n",
      " ohsu J_TCGA-A2-A0SX-01A-12R-A084-07_0A13AGA.tsv\n",
      "eth /cluster/work/grlab/projects/projects2020_OHSU/peptides_generation/CANCER_eth/commit_c4dd02c_conf2_Frame_cap0_runs/TCGA_Breast_1102/filtering_samples/filters_19May_order_5ge_wAnnot_GPstar/G_TCGA-C8-A12P-01A-11R-A115-07_0253AGA.tsv.gz \n",
      "---------------------------------------------\n",
      " ohsu J_TCGA-C8-A12P-01A-11R-A115-07_0253AGA.tsv\n",
      "eth /cluster/work/grlab/projects/projects2020_OHSU/peptides_generation/CANCER_eth/commit_c4dd02c_conf2_Frame_cap0_runs/TCGA_Breast_1102/filtering_samples/filters_19May_order_5ge_wAnnot_GPstar/G_TCGA-A2-A0SX-01A-12R-A084-07_0251AGA.tsv.gz \n",
      "---------------------------------------------\n",
      " ohsu J_TCGA-A2-A0SX-01A-12R-A084-07_0251AGA.tsv\n",
      "eth /cluster/work/grlab/projects/projects2020_OHSU/peptides_generation/CANCER_eth/commit_c4dd02c_conf2_Frame_cap0_runs/TCGA_Breast_1102/filtering_samples/filters_19May_order_5ge_wAnnot_GPstar/G_TCGA-C8-A12P-01A-11R-A115-07_0AN01GA.tsv.gz \n",
      "---------------------------------------------\n",
      " ohsu J_TCGA-C8-A12P-01A-11R-A115-07_0AN01GA.tsv\n",
      "eth /cluster/work/grlab/projects/projects2020_OHSU/peptides_generation/CANCER_eth/commit_c4dd02c_conf2_Frame_cap0_runs/TCGA_Breast_1102/filtering_samples/filters_19May_order_5ge_wAnnot_GPstar/G_TCGA-C8-A12P-01A-11R-A115-07_02501GA.tsv.gz \n",
      "---------------------------------------------\n",
      " ohsu J_TCGA-C8-A12P-01A-11R-A115-07_02501GA.tsv\n",
      "eth /cluster/work/grlab/projects/projects2020_OHSU/peptides_generation/CANCER_eth/commit_c4dd02c_conf2_Frame_cap0_runs/TCGA_Breast_1102/filtering_samples/filters_19May_order_5ge_wAnnot_GPstar/G_TCGA-AO-A0JM-01A-21R-A056-07_0A132GA.tsv.gz \n",
      "---------------------------------------------\n",
      " ohsu J_TCGA-AO-A0JM-01A-21R-A056-07_0A132GA.tsv\n",
      "eth /cluster/work/grlab/projects/projects2020_OHSU/peptides_generation/CANCER_eth/commit_c4dd02c_conf2_Frame_cap0_runs/TCGA_Breast_1102/filtering_samples/filters_19May_order_5ge_wAnnot_GPstar/G_TCGA-A2-A0D2-01A-21R-A034-07_0211AGA.tsv.gz \n",
      "---------------------------------------------\n",
      " ohsu J_TCGA-A2-A0D2-01A-21R-A034-07_0211AGA.tsv\n",
      "eth /cluster/work/grlab/projects/projects2020_OHSU/peptides_generation/CANCER_eth/commit_c4dd02c_conf2_Frame_cap0_runs/TCGA_Breast_1102/filtering_samples/filters_19May_order_5ge_wAnnot_GPstar/G_TCGA-A2-A0SX-01A-12R-A084-07_0AN12GA.tsv.gz \n",
      "---------------------------------------------\n",
      " ohsu J_TCGA-A2-A0SX-01A-12R-A084-07_0AN12GA.tsv\n",
      "eth /cluster/work/grlab/projects/projects2020_OHSU/peptides_generation/CANCER_eth/commit_c4dd02c_conf2_Frame_cap0_runs/TCGA_Breast_1102/filtering_samples/filters_19May_order_5ge_wAnnot_GPstar/G_TCGA-A2-A0SX-01A-12R-A084-07_0AN01GA.tsv.gz \n",
      "---------------------------------------------\n",
      " ohsu J_TCGA-A2-A0SX-01A-12R-A084-07_0AN01GA.tsv\n",
      "eth /cluster/work/grlab/projects/projects2020_OHSU/peptides_generation/CANCER_eth/commit_c4dd02c_conf2_Frame_cap0_runs/TCGA_Breast_1102/filtering_samples/filters_19May_order_5ge_wAnnot_GPstar/G_TCGA-C8-A12P-01A-11R-A115-07_0A501GA.tsv.gz \n",
      "---------------------------------------------\n",
      " ohsu J_TCGA-C8-A12P-01A-11R-A115-07_0A501GA.tsv\n",
      "eth /cluster/work/grlab/projects/projects2020_OHSU/peptides_generation/CANCER_eth/commit_c4dd02c_conf2_Frame_cap0_runs/TCGA_Breast_1102/filtering_samples/filters_19May_order_5ge_wAnnot_GPstar/G_TCGA-AO-A0JM-01A-21R-A056-07_0A51XGA.tsv.gz \n",
      "---------------------------------------------\n",
      " ohsu J_TCGA-AO-A0JM-01A-21R-A056-07_0A51XGA.tsv\n",
      "eth /cluster/work/grlab/projects/projects2020_OHSU/peptides_generation/CANCER_eth/commit_c4dd02c_conf2_Frame_cap0_runs/TCGA_Breast_1102/filtering_samples/filters_19May_order_5ge_wAnnot_GPstar/G_TCGA-A2-A0D2-01A-21R-A034-07_0A532GA.tsv.gz \n",
      "---------------------------------------------\n",
      " ohsu J_TCGA-A2-A0D2-01A-21R-A034-07_0A532GA.tsv\n",
      "eth /cluster/work/grlab/projects/projects2020_OHSU/peptides_generation/CANCER_eth/commit_c4dd02c_conf2_Frame_cap0_runs/TCGA_Breast_1102/filtering_samples/filters_19May_order_5ge_wAnnot_GPstar/G_TCGA-A2-A0D2-01A-21R-A034-07_02101GA.tsv.gz \n",
      "---------------------------------------------\n",
      " ohsu J_TCGA-A2-A0D2-01A-21R-A034-07_02101GA.tsv\n",
      "eth /cluster/work/grlab/projects/projects2020_OHSU/peptides_generation/CANCER_eth/commit_c4dd02c_conf2_Frame_cap0_runs/TCGA_Breast_1102/filtering_samples/filters_19May_order_5ge_wAnnot_GPstar/G_TCGA-A2-A0SX-01A-12R-A084-07_0A11AGA.tsv.gz \n",
      "---------------------------------------------\n",
      " ohsu J_TCGA-A2-A0SX-01A-12R-A084-07_0A11AGA.tsv\n",
      "eth /cluster/work/grlab/projects/projects2020_OHSU/peptides_generation/CANCER_eth/commit_c4dd02c_conf2_Frame_cap0_runs/TCGA_Breast_1102/filtering_samples/filters_19May_order_5ge_wAnnot_GPstar/G_TCGA-AO-A0JM-01A-21R-A056-07_0251XGA.tsv.gz \n",
      "---------------------------------------------\n",
      " ohsu J_TCGA-AO-A0JM-01A-21R-A056-07_0251XGA.tsv\n",
      "eth /cluster/work/grlab/projects/projects2020_OHSU/peptides_generation/CANCER_eth/commit_c4dd02c_conf2_Frame_cap0_runs/TCGA_Breast_1102/filtering_samples/filters_19May_order_5ge_wAnnot_GPstar/G_TCGA-AO-A0JM-01A-21R-A056-07_0213AGA.tsv.gz \n",
      "---------------------------------------------\n",
      " ohsu J_TCGA-AO-A0JM-01A-21R-A056-07_0213AGA.tsv\n",
      "eth /cluster/work/grlab/projects/projects2020_OHSU/peptides_generation/CANCER_eth/commit_c4dd02c_conf2_Frame_cap0_runs/TCGA_Breast_1102/filtering_samples/filters_19May_order_5ge_wAnnot_GPstar/G_TCGA-AO-A0JM-01A-21R-A056-07_02101GA.tsv.gz \n",
      "---------------------------------------------\n",
      " ohsu J_TCGA-AO-A0JM-01A-21R-A056-07_02101GA.tsv\n",
      "eth /cluster/work/grlab/projects/projects2020_OHSU/peptides_generation/CANCER_eth/commit_c4dd02c_conf2_Frame_cap0_runs/TCGA_Breast_1102/filtering_samples/filters_19May_order_5ge_wAnnot_GPstar/G_TCGA-BH-A18V-01A-11R-A12D-07_0A53XGA.tsv.gz \n",
      "---------------------------------------------\n",
      " ohsu J_TCGA-BH-A18V-01A-11R-A12D-07_0A53XGA.tsv\n",
      "TCGABHA18V01A11RA12D07\n"
     ]
    },
    {
     "name": "stderr",
     "output_type": "stream",
     "text": [
      "188it [00:00, 6549.08it/s]\n"
     ]
    },
    {
     "name": "stdout",
     "output_type": "stream",
     "text": [
      "['J', 'TCGA-BH-A18V-01A-11R-A12D-07', '0A53XGA']\n",
      "['0', 'Any', '5', '3', '10']\n",
      "1\n",
      "27\n",
      "1\n",
      "21\n",
      "NEXT\n",
      "eth /cluster/work/grlab/projects/projects2020_OHSU/peptides_generation/CANCER_eth/commit_c4dd02c_conf2_Frame_cap0_runs/TCGA_Breast_1102/filtering_samples/filters_19May_order_5ge_wAnnot_GPstar/G_TCGA-BH-A18V-01A-11R-A12D-07_0251AGA.tsv.gz \n",
      "---------------------------------------------\n",
      " ohsu J_TCGA-BH-A18V-01A-11R-A12D-07_0251AGA.tsv\n",
      "TCGABHA18V01A11RA12D07\n",
      "['J', 'TCGA-BH-A18V-01A-11R-A12D-07', '0251AGA']\n",
      "['0', '2', '5', '1', 'Any']\n",
      "0\n",
      "0\n",
      "0\n",
      "0\n",
      "NEXT\n",
      "eth /cluster/work/grlab/projects/projects2020_OHSU/peptides_generation/CANCER_eth/commit_c4dd02c_conf2_Frame_cap0_runs/TCGA_Breast_1102/filtering_samples/filters_19May_order_5ge_wAnnot_GPstar/G_TCGA-A2-A0SX-01A-12R-A084-07_0A13XGA.tsv.gz \n",
      "---------------------------------------------\n",
      " ohsu J_TCGA-A2-A0SX-01A-12R-A084-07_0A13XGA.tsv\n",
      "eth /cluster/work/grlab/projects/projects2020_OHSU/peptides_generation/CANCER_eth/commit_c4dd02c_conf2_Frame_cap0_runs/TCGA_Breast_1102/filtering_samples/filters_19May_order_5ge_wAnnot_GPstar/G_TCGA-AO-A0JM-01A-21R-A056-07_0AN32GA.tsv.gz \n",
      "---------------------------------------------\n",
      " ohsu J_TCGA-AO-A0JM-01A-21R-A056-07_0AN32GA.tsv\n",
      "eth /cluster/work/grlab/projects/projects2020_OHSU/peptides_generation/CANCER_eth/commit_c4dd02c_conf2_Frame_cap0_runs/TCGA_Breast_1102/filtering_samples/filters_19May_order_5ge_wAnnot_GPstar/G_TCGA-A2-A0D2-01A-21R-A034-07_0A51XGA.tsv.gz \n",
      "---------------------------------------------\n",
      " ohsu J_TCGA-A2-A0D2-01A-21R-A034-07_0A51XGA.tsv\n",
      "eth /cluster/work/grlab/projects/projects2020_OHSU/peptides_generation/CANCER_eth/commit_c4dd02c_conf2_Frame_cap0_runs/TCGA_Breast_1102/filtering_samples/filters_19May_order_5ge_wAnnot_GPstar/G_TCGA-A2-A0D2-01A-21R-A034-07_0A132GA.tsv.gz \n",
      "---------------------------------------------\n",
      " ohsu J_TCGA-A2-A0D2-01A-21R-A034-07_0A132GA.tsv\n",
      "eth /cluster/work/grlab/projects/projects2020_OHSU/peptides_generation/CANCER_eth/commit_c4dd02c_conf2_Frame_cap0_runs/TCGA_Breast_1102/filtering_samples/filters_19May_order_5ge_wAnnot_GPstar/G_TCGA-AO-A0JM-01A-21R-A056-07_02512GA.tsv.gz \n",
      "---------------------------------------------\n",
      " ohsu J_TCGA-AO-A0JM-01A-21R-A056-07_02512GA.tsv\n",
      "eth /cluster/work/grlab/projects/projects2020_OHSU/peptides_generation/CANCER_eth/commit_c4dd02c_conf2_Frame_cap0_runs/TCGA_Breast_1102/filtering_samples/filters_19May_order_5ge_wAnnot_GPstar/G_TCGA-A2-A0D2-01A-21R-A034-07_0A512GA.tsv.gz \n",
      "---------------------------------------------\n",
      " ohsu J_TCGA-A2-A0D2-01A-21R-A034-07_0A512GA.tsv\n",
      "eth /cluster/work/grlab/projects/projects2020_OHSU/peptides_generation/CANCER_eth/commit_c4dd02c_conf2_Frame_cap0_runs/TCGA_Breast_1102/filtering_samples/filters_19May_order_5ge_wAnnot_GPstar/G_TCGA-AO-A0JM-01A-21R-A056-07_0A512GA.tsv.gz \n",
      "---------------------------------------------\n",
      " ohsu J_TCGA-AO-A0JM-01A-21R-A056-07_0A512GA.tsv\n",
      "eth /cluster/work/grlab/projects/projects2020_OHSU/peptides_generation/CANCER_eth/commit_c4dd02c_conf2_Frame_cap0_runs/TCGA_Breast_1102/filtering_samples/filters_19May_order_5ge_wAnnot_GPstar/G_TCGA-AO-A0JM-01A-21R-A056-07_0A501GA.tsv.gz \n",
      "---------------------------------------------\n",
      " ohsu J_TCGA-AO-A0JM-01A-21R-A056-07_0A501GA.tsv\n",
      "eth /cluster/work/grlab/projects/projects2020_OHSU/peptides_generation/CANCER_eth/commit_c4dd02c_conf2_Frame_cap0_runs/TCGA_Breast_1102/filtering_samples/filters_19May_order_5ge_wAnnot_GPstar/G_TCGA-BH-A18V-01A-11R-A12D-07_0A101GA.tsv.gz \n",
      "---------------------------------------------\n",
      " ohsu J_TCGA-BH-A18V-01A-11R-A12D-07_0A101GA.tsv\n",
      "TCGABHA18V01A11RA12D07\n"
     ]
    },
    {
     "name": "stderr",
     "output_type": "stream",
     "text": [
      "72it [00:00, 6326.25it/s]\n"
     ]
    },
    {
     "name": "stdout",
     "output_type": "stream",
     "text": [
      "['J', 'TCGA-BH-A18V-01A-11R-A12D-07', '0A101GA']\n",
      "['0', 'Any', '1', '0', '1']\n",
      "None\n",
      "75\n",
      "4\n",
      "9\n",
      "NEXT\n",
      "eth /cluster/work/grlab/projects/projects2020_OHSU/peptides_generation/CANCER_eth/commit_c4dd02c_conf2_Frame_cap0_runs/TCGA_Breast_1102/filtering_samples/filters_19May_order_5ge_wAnnot_GPstar/G_TCGA-A2-A0SX-01A-12R-A084-07_02112GA.tsv.gz \n",
      "---------------------------------------------\n",
      " ohsu J_TCGA-A2-A0SX-01A-12R-A084-07_02112GA.tsv\n",
      "eth /cluster/work/grlab/projects/projects2020_OHSU/peptides_generation/CANCER_eth/commit_c4dd02c_conf2_Frame_cap0_runs/TCGA_Breast_1102/filtering_samples/filters_19May_order_5ge_wAnnot_GPstar/G_TCGA-A2-A0SX-01A-12R-A084-07_0253AGA.tsv.gz \n",
      "---------------------------------------------\n",
      " ohsu J_TCGA-A2-A0SX-01A-12R-A084-07_0253AGA.tsv\n",
      "eth /cluster/work/grlab/projects/projects2020_OHSU/peptides_generation/CANCER_eth/commit_c4dd02c_conf2_Frame_cap0_runs/TCGA_Breast_1102/filtering_samples/filters_19May_order_5ge_wAnnot_GPstar/G_TCGA-AO-A0JM-01A-21R-A056-07_0251AGA.tsv.gz \n",
      "---------------------------------------------\n",
      " ohsu J_TCGA-AO-A0JM-01A-21R-A056-07_0251AGA.tsv\n",
      "eth /cluster/work/grlab/projects/projects2020_OHSU/peptides_generation/CANCER_eth/commit_c4dd02c_conf2_Frame_cap0_runs/TCGA_Breast_1102/filtering_samples/filters_19May_order_5ge_wAnnot_GPstar/G_TCGA-AO-A0JM-01A-21R-A056-07_0AN01GA.tsv.gz \n",
      "---------------------------------------------\n",
      " ohsu J_TCGA-AO-A0JM-01A-21R-A056-07_0AN01GA.tsv\n",
      "eth /cluster/work/grlab/projects/projects2020_OHSU/peptides_generation/CANCER_eth/commit_c4dd02c_conf2_Frame_cap0_runs/TCGA_Breast_1102/filtering_samples/filters_19May_order_5ge_wAnnot_GPstar/G_TCGA-A2-A0D2-01A-21R-A034-07_0AN3XGA.tsv.gz \n",
      "---------------------------------------------\n",
      " ohsu J_TCGA-A2-A0D2-01A-21R-A034-07_0AN3XGA.tsv\n",
      "eth /cluster/work/grlab/projects/projects2020_OHSU/peptides_generation/CANCER_eth/commit_c4dd02c_conf2_Frame_cap0_runs/TCGA_Breast_1102/filtering_samples/filters_19May_order_5ge_wAnnot_GPstar/G_TCGA-BH-A18V-01A-11R-A12D-07_0A11XGA.tsv.gz \n",
      "---------------------------------------------\n",
      " ohsu J_TCGA-BH-A18V-01A-11R-A12D-07_0A11XGA.tsv\n",
      "TCGABHA18V01A11RA12D07\n"
     ]
    },
    {
     "name": "stderr",
     "output_type": "stream",
     "text": [
      "76it [00:00, 6497.49it/s]"
     ]
    },
    {
     "name": "stdout",
     "output_type": "stream",
     "text": [
      "['J', 'TCGA-BH-A18V-01A-11R-A12D-07', '0A11XGA']\n",
      "['0', 'Any', '1', '1', '10']\n",
      "1\n",
      "77\n",
      "4\n",
      "10\n",
      "NEXT\n",
      "eth /cluster/work/grlab/projects/projects2020_OHSU/peptides_generation/CANCER_eth/commit_c4dd02c_conf2_Frame_cap0_runs/TCGA_Breast_1102/filtering_samples/filters_19May_order_5ge_wAnnot_GPstar/G_TCGA-C8-A12P-01A-11R-A115-07_0213AGA.tsv.gz \n",
      "---------------------------------------------\n",
      " ohsu J_TCGA-C8-A12P-01A-11R-A115-07_0213AGA.tsv\n",
      "eth /cluster/work/grlab/projects/projects2020_OHSU/peptides_generation/CANCER_eth/commit_c4dd02c_conf2_Frame_cap0_runs/TCGA_Breast_1102/filtering_samples/filters_19May_order_5ge_wAnnot_GPstar/G_TCGA-BH-A18V-01A-11R-A12D-07_0253XGA.tsv.gz \n",
      "---------------------------------------------\n",
      " ohsu J_TCGA-BH-A18V-01A-11R-A12D-07_0253XGA.tsv\n",
      "TCGABHA18V01A11RA12D07\n"
     ]
    },
    {
     "name": "stderr",
     "output_type": "stream",
     "text": [
      "\n",
      "69it [00:00, 6476.89it/s]\n"
     ]
    },
    {
     "name": "stdout",
     "output_type": "stream",
     "text": [
      "['J', 'TCGA-BH-A18V-01A-11R-A12D-07', '0253XGA']\n",
      "['0', '2', '5', '3', '10']\n",
      "1\n",
      "6\n",
      "1\n",
      "7\n",
      "NEXT\n",
      "eth /cluster/work/grlab/projects/projects2020_OHSU/peptides_generation/CANCER_eth/commit_c4dd02c_conf2_Frame_cap0_runs/TCGA_Breast_1102/filtering_samples/filters_19May_order_5ge_wAnnot_GPstar/G_TCGA-C8-A12P-01A-11R-A115-07_0AN3AGA.tsv.gz \n",
      "---------------------------------------------\n",
      " ohsu J_TCGA-C8-A12P-01A-11R-A115-07_0AN3AGA.tsv\n",
      "eth /cluster/work/grlab/projects/projects2020_OHSU/peptides_generation/CANCER_eth/commit_c4dd02c_conf2_Frame_cap0_runs/TCGA_Breast_1102/filtering_samples/filters_19May_order_5ge_wAnnot_GPstar/G_TCGA-BH-A18V-01A-11R-A12D-07_0A13AGA.tsv.gz \n",
      "---------------------------------------------\n",
      " ohsu J_TCGA-BH-A18V-01A-11R-A12D-07_0A13AGA.tsv\n",
      "TCGABHA18V01A11RA12D07\n"
     ]
    },
    {
     "name": "stderr",
     "output_type": "stream",
     "text": [
      "670it [00:00, 6868.50it/s]\n"
     ]
    },
    {
     "name": "stdout",
     "output_type": "stream",
     "text": [
      "['J', 'TCGA-BH-A18V-01A-11R-A12D-07', '0A13AGA']\n",
      "['0', 'Any', '1', '3', 'Any']\n",
      "0\n",
      "317\n",
      "13\n",
      "78\n",
      "NEXT\n",
      "eth /cluster/work/grlab/projects/projects2020_OHSU/peptides_generation/CANCER_eth/commit_c4dd02c_conf2_Frame_cap0_runs/TCGA_Breast_1102/filtering_samples/filters_19May_order_5ge_wAnnot_GPstar/G_TCGA-A2-A0SX-01A-12R-A084-07_02132GA.tsv.gz \n",
      "---------------------------------------------\n",
      " ohsu J_TCGA-A2-A0SX-01A-12R-A084-07_02132GA.tsv\n",
      "eth /cluster/work/grlab/projects/projects2020_OHSU/peptides_generation/CANCER_eth/commit_c4dd02c_conf2_Frame_cap0_runs/TCGA_Breast_1102/filtering_samples/filters_19May_order_5ge_wAnnot_GPstar/G_TCGA-C8-A12P-01A-11R-A115-07_0A51XGA.tsv.gz \n",
      "---------------------------------------------\n",
      " ohsu J_TCGA-C8-A12P-01A-11R-A115-07_0A51XGA.tsv\n",
      "eth /cluster/work/grlab/projects/projects2020_OHSU/peptides_generation/CANCER_eth/commit_c4dd02c_conf2_Frame_cap0_runs/TCGA_Breast_1102/filtering_samples/filters_19May_order_5ge_wAnnot_GPstar/G_TCGA-AO-A0JM-01A-21R-A056-07_02132GA.tsv.gz \n",
      "---------------------------------------------\n",
      " ohsu J_TCGA-AO-A0JM-01A-21R-A056-07_02132GA.tsv\n",
      "eth /cluster/work/grlab/projects/projects2020_OHSU/peptides_generation/CANCER_eth/commit_c4dd02c_conf2_Frame_cap0_runs/TCGA_Breast_1102/filtering_samples/filters_19May_order_5ge_wAnnot_GPstar/G_TCGA-AO-A0JM-01A-21R-A056-07_0A11AGA.tsv.gz \n",
      "---------------------------------------------\n",
      " ohsu J_TCGA-AO-A0JM-01A-21R-A056-07_0A11AGA.tsv\n",
      "eth /cluster/work/grlab/projects/projects2020_OHSU/peptides_generation/CANCER_eth/commit_c4dd02c_conf2_Frame_cap0_runs/TCGA_Breast_1102/filtering_samples/filters_19May_order_5ge_wAnnot_GPstar/G_TCGA-A2-A0D2-01A-21R-A034-07_0A101GA.tsv.gz \n",
      "---------------------------------------------\n",
      " ohsu J_TCGA-A2-A0D2-01A-21R-A034-07_0A101GA.tsv\n",
      "eth /cluster/work/grlab/projects/projects2020_OHSU/peptides_generation/CANCER_eth/commit_c4dd02c_conf2_Frame_cap0_runs/TCGA_Breast_1102/filtering_samples/filters_19May_order_5ge_wAnnot_GPstar/G_TCGA-C8-A12P-01A-11R-A115-07_02512GA.tsv.gz \n",
      "---------------------------------------------\n",
      " ohsu J_TCGA-C8-A12P-01A-11R-A115-07_02512GA.tsv\n",
      "eth /cluster/work/grlab/projects/projects2020_OHSU/peptides_generation/CANCER_eth/commit_c4dd02c_conf2_Frame_cap0_runs/TCGA_Breast_1102/filtering_samples/filters_19May_order_5ge_wAnnot_GPstar/G_TCGA-C8-A12P-01A-11R-A115-07_0A112GA.tsv.gz \n",
      "---------------------------------------------\n",
      " ohsu J_TCGA-C8-A12P-01A-11R-A115-07_0A112GA.tsv\n",
      "eth /cluster/work/grlab/projects/projects2020_OHSU/peptides_generation/CANCER_eth/commit_c4dd02c_conf2_Frame_cap0_runs/TCGA_Breast_1102/filtering_samples/filters_19May_order_5ge_wAnnot_GPstar/G_TCGA-BH-A18V-01A-11R-A12D-07_02132GA.tsv.gz \n",
      "---------------------------------------------\n",
      " ohsu J_TCGA-BH-A18V-01A-11R-A12D-07_02132GA.tsv\n",
      "TCGABHA18V01A11RA12D07\n"
     ]
    },
    {
     "name": "stderr",
     "output_type": "stream",
     "text": [
      "150it [00:00, 6794.52it/s]\n"
     ]
    },
    {
     "name": "stdout",
     "output_type": "stream",
     "text": [
      "['J', 'TCGA-BH-A18V-01A-11R-A12D-07', '02132GA']\n",
      "['0', '2', '1', '3', '2']\n",
      "2\n",
      "26\n",
      "10\n",
      "10\n",
      "NEXT\n",
      "eth /cluster/work/grlab/projects/projects2020_OHSU/peptides_generation/CANCER_eth/commit_c4dd02c_conf2_Frame_cap0_runs/TCGA_Breast_1102/filtering_samples/filters_19May_order_5ge_wAnnot_GPstar/G_TCGA-A2-A0SX-01A-12R-A084-07_0A51XGA.tsv.gz \n",
      "---------------------------------------------\n",
      " ohsu J_TCGA-A2-A0SX-01A-12R-A084-07_0A51XGA.tsv\n",
      "eth /cluster/work/grlab/projects/projects2020_OHSU/peptides_generation/CANCER_eth/commit_c4dd02c_conf2_Frame_cap0_runs/TCGA_Breast_1102/filtering_samples/filters_19May_order_5ge_wAnnot_GPstar/G_TCGA-A2-A0SX-01A-12R-A084-07_0AN32GA.tsv.gz \n",
      "---------------------------------------------\n",
      " ohsu J_TCGA-A2-A0SX-01A-12R-A084-07_0AN32GA.tsv\n",
      "eth /cluster/work/grlab/projects/projects2020_OHSU/peptides_generation/CANCER_eth/commit_c4dd02c_conf2_Frame_cap0_runs/TCGA_Breast_1102/filtering_samples/filters_19May_order_5ge_wAnnot_GPstar/G_TCGA-C8-A12P-01A-11R-A115-07_0AN12GA.tsv.gz \n",
      "---------------------------------------------\n",
      " ohsu J_TCGA-C8-A12P-01A-11R-A115-07_0AN12GA.tsv\n",
      "eth /cluster/work/grlab/projects/projects2020_OHSU/peptides_generation/CANCER_eth/commit_c4dd02c_conf2_Frame_cap0_runs/TCGA_Breast_1102/filtering_samples/filters_19May_order_5ge_wAnnot_GPstar/G_TCGA-C8-A12P-01A-11R-A115-07_02101GA.tsv.gz \n",
      "---------------------------------------------\n",
      " ohsu J_TCGA-C8-A12P-01A-11R-A115-07_02101GA.tsv\n",
      "eth /cluster/work/grlab/projects/projects2020_OHSU/peptides_generation/CANCER_eth/commit_c4dd02c_conf2_Frame_cap0_runs/TCGA_Breast_1102/filtering_samples/filters_19May_order_5ge_wAnnot_GPstar/G_TCGA-C8-A12P-01A-11R-A115-07_0A532GA.tsv.gz \n",
      "---------------------------------------------\n",
      " ohsu J_TCGA-C8-A12P-01A-11R-A115-07_0A532GA.tsv\n",
      "eth /cluster/work/grlab/projects/projects2020_OHSU/peptides_generation/CANCER_eth/commit_c4dd02c_conf2_Frame_cap0_runs/TCGA_Breast_1102/filtering_samples/filters_19May_order_5ge_wAnnot_GPstar/G_TCGA-C8-A12P-01A-11R-A115-07_0A132GA.tsv.gz \n",
      "---------------------------------------------\n",
      " ohsu J_TCGA-C8-A12P-01A-11R-A115-07_0A132GA.tsv\n",
      "eth /cluster/work/grlab/projects/projects2020_OHSU/peptides_generation/CANCER_eth/commit_c4dd02c_conf2_Frame_cap0_runs/TCGA_Breast_1102/filtering_samples/filters_19May_order_5ge_wAnnot_GPstar/G_TCGA-A2-A0SX-01A-12R-A084-07_0A101GA.tsv.gz \n",
      "---------------------------------------------\n",
      " ohsu J_TCGA-A2-A0SX-01A-12R-A084-07_0A101GA.tsv\n",
      "eth /cluster/work/grlab/projects/projects2020_OHSU/peptides_generation/CANCER_eth/commit_c4dd02c_conf2_Frame_cap0_runs/TCGA_Breast_1102/filtering_samples/filters_19May_order_5ge_wAnnot_GPstar/G_TCGA-AO-A0JM-01A-21R-A056-07_0A101GA.tsv.gz \n",
      "---------------------------------------------\n",
      " ohsu J_TCGA-AO-A0JM-01A-21R-A056-07_0A101GA.tsv\n",
      "eth /cluster/work/grlab/projects/projects2020_OHSU/peptides_generation/CANCER_eth/commit_c4dd02c_conf2_Frame_cap0_runs/TCGA_Breast_1102/filtering_samples/filters_19May_order_5ge_wAnnot_GPstar/G_TCGA-A2-A0SX-01A-12R-A084-07_0A112GA.tsv.gz \n",
      "---------------------------------------------\n",
      " ohsu J_TCGA-A2-A0SX-01A-12R-A084-07_0A112GA.tsv\n",
      "eth /cluster/work/grlab/projects/projects2020_OHSU/peptides_generation/CANCER_eth/commit_c4dd02c_conf2_Frame_cap0_runs/TCGA_Breast_1102/filtering_samples/filters_19May_order_5ge_wAnnot_GPstar/G_TCGA-BH-A18V-01A-11R-A12D-07_0AN12GA.tsv.gz \n",
      "---------------------------------------------\n",
      " ohsu J_TCGA-BH-A18V-01A-11R-A12D-07_0AN12GA.tsv\n",
      "TCGABHA18V01A11RA12D07\n"
     ]
    },
    {
     "name": "stderr",
     "output_type": "stream",
     "text": [
      "224it [00:00, 6095.98it/s]\n"
     ]
    },
    {
     "name": "stdout",
     "output_type": "stream",
     "text": [
      "['J', 'TCGA-BH-A18V-01A-11R-A12D-07', '0AN12GA']\n",
      "['0', 'Any', 'None', '1', '2']\n",
      "2\n",
      "565\n",
      "7\n",
      "22\n",
      "NEXT\n",
      "eth /cluster/work/grlab/projects/projects2020_OHSU/peptides_generation/CANCER_eth/commit_c4dd02c_conf2_Frame_cap0_runs/TCGA_Breast_1102/filtering_samples/filters_19May_order_5ge_wAnnot_GPstar/G_TCGA-A2-A0D2-01A-21R-A034-07_0AN32GA.tsv.gz \n",
      "---------------------------------------------\n",
      " ohsu J_TCGA-A2-A0D2-01A-21R-A034-07_0AN32GA.tsv\n",
      "eth /cluster/work/grlab/projects/projects2020_OHSU/peptides_generation/CANCER_eth/commit_c4dd02c_conf2_Frame_cap0_runs/TCGA_Breast_1102/filtering_samples/filters_19May_order_5ge_wAnnot_GPstar/G_TCGA-C8-A12P-01A-11R-A115-07_0A11XGA.tsv.gz \n",
      "---------------------------------------------\n",
      " ohsu J_TCGA-C8-A12P-01A-11R-A115-07_0A11XGA.tsv\n",
      "eth /cluster/work/grlab/projects/projects2020_OHSU/peptides_generation/CANCER_eth/commit_c4dd02c_conf2_Frame_cap0_runs/TCGA_Breast_1102/filtering_samples/filters_19May_order_5ge_wAnnot_GPstar/G_TCGA-AO-A0JM-01A-21R-A056-07_0253XGA.tsv.gz \n",
      "---------------------------------------------\n",
      " ohsu J_TCGA-AO-A0JM-01A-21R-A056-07_0253XGA.tsv\n",
      "eth /cluster/work/grlab/projects/projects2020_OHSU/peptides_generation/CANCER_eth/commit_c4dd02c_conf2_Frame_cap0_runs/TCGA_Breast_1102/filtering_samples/filters_19May_order_5ge_wAnnot_GPstar/G_TCGA-A2-A0SX-01A-12R-A084-07_0A51AGA.tsv.gz \n",
      "---------------------------------------------\n",
      " ohsu J_TCGA-A2-A0SX-01A-12R-A084-07_0A51AGA.tsv\n",
      "eth /cluster/work/grlab/projects/projects2020_OHSU/peptides_generation/CANCER_eth/commit_c4dd02c_conf2_Frame_cap0_runs/TCGA_Breast_1102/filtering_samples/filters_19May_order_5ge_wAnnot_GPstar/G_TCGA-C8-A12P-01A-11R-A115-07_0A11AGA.tsv.gz \n",
      "---------------------------------------------\n",
      " ohsu J_TCGA-C8-A12P-01A-11R-A115-07_0A11AGA.tsv\n",
      "eth /cluster/work/grlab/projects/projects2020_OHSU/peptides_generation/CANCER_eth/commit_c4dd02c_conf2_Frame_cap0_runs/TCGA_Breast_1102/filtering_samples/filters_19May_order_5ge_wAnnot_GPstar/G_TCGA-A2-A0D2-01A-21R-A034-07_0A13XGA.tsv.gz \n",
      "---------------------------------------------\n",
      " ohsu J_TCGA-A2-A0D2-01A-21R-A034-07_0A13XGA.tsv\n",
      "eth /cluster/work/grlab/projects/projects2020_OHSU/peptides_generation/CANCER_eth/commit_c4dd02c_conf2_Frame_cap0_runs/TCGA_Breast_1102/filtering_samples/filters_19May_order_5ge_wAnnot_GPstar/G_TCGA-C8-A12P-01A-11R-A115-07_0251AGA.tsv.gz \n",
      "---------------------------------------------\n",
      " ohsu J_TCGA-C8-A12P-01A-11R-A115-07_0251AGA.tsv\n",
      "eth /cluster/work/grlab/projects/projects2020_OHSU/peptides_generation/CANCER_eth/commit_c4dd02c_conf2_Frame_cap0_runs/TCGA_Breast_1102/filtering_samples/filters_19May_order_5ge_wAnnot_GPstar/G_TCGA-AO-A0JM-01A-21R-A056-07_0A112GA.tsv.gz \n",
      "---------------------------------------------\n",
      " ohsu J_TCGA-AO-A0JM-01A-21R-A056-07_0A112GA.tsv\n",
      "eth /cluster/work/grlab/projects/projects2020_OHSU/peptides_generation/CANCER_eth/commit_c4dd02c_conf2_Frame_cap0_runs/TCGA_Breast_1102/filtering_samples/filters_19May_order_5ge_wAnnot_GPstar/G_TCGA-BH-A18V-01A-11R-A12D-07_0A53AGA.tsv.gz \n",
      "---------------------------------------------\n",
      " ohsu J_TCGA-BH-A18V-01A-11R-A12D-07_0A53AGA.tsv\n",
      "TCGABHA18V01A11RA12D07\n"
     ]
    },
    {
     "name": "stderr",
     "output_type": "stream",
     "text": [
      "338it [00:00, 6764.97it/s]\n"
     ]
    },
    {
     "name": "stdout",
     "output_type": "stream",
     "text": [
      "['J', 'TCGA-BH-A18V-01A-11R-A12D-07', '0A53AGA']\n",
      "['0', 'Any', '5', '3', 'Any']\n",
      "0\n",
      "42\n",
      "5\n",
      "36\n",
      "NEXT\n",
      "eth /cluster/work/grlab/projects/projects2020_OHSU/peptides_generation/CANCER_eth/commit_c4dd02c_conf2_Frame_cap0_runs/TCGA_Breast_1102/filtering_samples/filters_19May_order_5ge_wAnnot_GPstar/G_TCGA-A2-A0D2-01A-21R-A034-07_0213XGA.tsv.gz \n",
      "---------------------------------------------\n",
      " ohsu J_TCGA-A2-A0D2-01A-21R-A034-07_0213XGA.tsv\n",
      "eth /cluster/work/grlab/projects/projects2020_OHSU/peptides_generation/CANCER_eth/commit_c4dd02c_conf2_Frame_cap0_runs/TCGA_Breast_1102/filtering_samples/filters_19May_order_5ge_wAnnot_GPstar/G_TCGA-A2-A0SX-01A-12R-A084-07_0A132GA.tsv.gz \n",
      "---------------------------------------------\n",
      " ohsu J_TCGA-A2-A0SX-01A-12R-A084-07_0A132GA.tsv\n",
      "eth /cluster/work/grlab/projects/projects2020_OHSU/peptides_generation/CANCER_eth/commit_c4dd02c_conf2_Frame_cap0_runs/TCGA_Breast_1102/filtering_samples/filters_19May_order_5ge_wAnnot_GPstar/G_TCGA-A2-A0D2-01A-21R-A034-07_0A112GA.tsv.gz \n",
      "---------------------------------------------\n",
      " ohsu J_TCGA-A2-A0D2-01A-21R-A034-07_0A112GA.tsv\n",
      "eth /cluster/work/grlab/projects/projects2020_OHSU/peptides_generation/CANCER_eth/commit_c4dd02c_conf2_Frame_cap0_runs/TCGA_Breast_1102/filtering_samples/filters_19May_order_5ge_wAnnot_GPstar/G_TCGA-C8-A12P-01A-11R-A115-07_02532GA.tsv.gz \n",
      "---------------------------------------------\n",
      " ohsu J_TCGA-C8-A12P-01A-11R-A115-07_02532GA.tsv\n",
      "eth /cluster/work/grlab/projects/projects2020_OHSU/peptides_generation/CANCER_eth/commit_c4dd02c_conf2_Frame_cap0_runs/TCGA_Breast_1102/filtering_samples/filters_19May_order_5ge_wAnnot_GPstar/G_TCGA-AO-A0JM-01A-21R-A056-07_0A53AGA.tsv.gz \n",
      "---------------------------------------------\n",
      " ohsu J_TCGA-AO-A0JM-01A-21R-A056-07_0A53AGA.tsv\n",
      "eth /cluster/work/grlab/projects/projects2020_OHSU/peptides_generation/CANCER_eth/commit_c4dd02c_conf2_Frame_cap0_runs/TCGA_Breast_1102/filtering_samples/filters_19May_order_5ge_wAnnot_GPstar/G_TCGA-A2-A0SX-01A-12R-A084-07_0AN1XGA.tsv.gz \n",
      "---------------------------------------------\n",
      " ohsu J_TCGA-A2-A0SX-01A-12R-A084-07_0AN1XGA.tsv\n",
      "eth /cluster/work/grlab/projects/projects2020_OHSU/peptides_generation/CANCER_eth/commit_c4dd02c_conf2_Frame_cap0_runs/TCGA_Breast_1102/filtering_samples/filters_19May_order_5ge_wAnnot_GPstar/G_TCGA-A2-A0D2-01A-21R-A034-07_02501GA.tsv.gz \n",
      "---------------------------------------------\n",
      " ohsu J_TCGA-A2-A0D2-01A-21R-A034-07_02501GA.tsv\n",
      "TCGAA2A0D201A21RA03407\n"
     ]
    },
    {
     "name": "stderr",
     "output_type": "stream",
     "text": [
      "7it [00:00, 5163.58it/s]\n"
     ]
    },
    {
     "name": "stdout",
     "output_type": "stream",
     "text": [
      "['J', 'TCGA-A2-A0D2-01A-21R-A034-07', '02501GA']\n",
      "['0', '2', '5', '0', '1']\n",
      "None\n",
      "6\n",
      "0\n",
      "1\n",
      "NEXT\n",
      "eth /cluster/work/grlab/projects/projects2020_OHSU/peptides_generation/CANCER_eth/commit_c4dd02c_conf2_Frame_cap0_runs/TCGA_Breast_1102/filtering_samples/filters_19May_order_5ge_wAnnot_GPstar/G_TCGA-C8-A12P-01A-11R-A115-07_0A512GA.tsv.gz \n",
      "---------------------------------------------\n",
      " ohsu J_TCGA-C8-A12P-01A-11R-A115-07_0A512GA.tsv\n",
      "eth /cluster/work/grlab/projects/projects2020_OHSU/peptides_generation/CANCER_eth/commit_c4dd02c_conf2_Frame_cap0_runs/TCGA_Breast_1102/filtering_samples/filters_19May_order_5ge_wAnnot_GPstar/G_TCGA-A2-A0D2-01A-21R-A034-07_0A501GA.tsv.gz \n",
      "---------------------------------------------\n",
      " ohsu J_TCGA-A2-A0D2-01A-21R-A034-07_0A501GA.tsv\n",
      "TCGAA2A0D201A21RA03407\n"
     ]
    },
    {
     "name": "stderr",
     "output_type": "stream",
     "text": [
      "7it [00:00, 5323.69it/s]\n"
     ]
    },
    {
     "name": "stdout",
     "output_type": "stream",
     "text": [
      "['J', 'TCGA-A2-A0D2-01A-21R-A034-07', '0A501GA']\n",
      "['0', 'Any', '5', '0', '1']\n",
      "None\n",
      "11\n",
      "0\n",
      "1\n",
      "NEXT\n",
      "eth /cluster/work/grlab/projects/projects2020_OHSU/peptides_generation/CANCER_eth/commit_c4dd02c_conf2_Frame_cap0_runs/TCGA_Breast_1102/filtering_samples/filters_19May_order_5ge_wAnnot_GPstar/G_TCGA-AO-A0JM-01A-21R-A056-07_0A11XGA.tsv.gz \n",
      "---------------------------------------------\n",
      " ohsu J_TCGA-AO-A0JM-01A-21R-A056-07_0A11XGA.tsv\n",
      "eth /cluster/work/grlab/projects/projects2020_OHSU/peptides_generation/CANCER_eth/commit_c4dd02c_conf2_Frame_cap0_runs/TCGA_Breast_1102/filtering_samples/filters_19May_order_5ge_wAnnot_GPstar/G_TCGA-A2-A0D2-01A-21R-A034-07_0251AGA.tsv.gz \n",
      "---------------------------------------------\n",
      " ohsu J_TCGA-A2-A0D2-01A-21R-A034-07_0251AGA.tsv\n",
      "TCGAA2A0D201A21RA03407\n"
     ]
    },
    {
     "name": "stderr",
     "output_type": "stream",
     "text": [
      "7it [00:00, 4821.04it/s]\n"
     ]
    },
    {
     "name": "stdout",
     "output_type": "stream",
     "text": [
      "['J', 'TCGA-A2-A0D2-01A-21R-A034-07', '0251AGA']\n",
      "['0', '2', '5', '1', 'Any']\n",
      "0\n",
      "6\n",
      "0\n",
      "1\n",
      "NEXT\n",
      "eth /cluster/work/grlab/projects/projects2020_OHSU/peptides_generation/CANCER_eth/commit_c4dd02c_conf2_Frame_cap0_runs/TCGA_Breast_1102/filtering_samples/filters_19May_order_5ge_wAnnot_GPstar/G_TCGA-C8-A12P-01A-11R-A115-07_0AN1AGA.tsv.gz \n",
      "---------------------------------------------\n",
      " ohsu J_TCGA-C8-A12P-01A-11R-A115-07_0AN1AGA.tsv\n",
      "eth /cluster/work/grlab/projects/projects2020_OHSU/peptides_generation/CANCER_eth/commit_c4dd02c_conf2_Frame_cap0_runs/TCGA_Breast_1102/filtering_samples/filters_19May_order_5ge_wAnnot_GPstar/G_TCGA-C8-A12P-01A-11R-A115-07_0A53AGA.tsv.gz \n",
      "---------------------------------------------\n",
      " ohsu J_TCGA-C8-A12P-01A-11R-A115-07_0A53AGA.tsv\n",
      "eth /cluster/work/grlab/projects/projects2020_OHSU/peptides_generation/CANCER_eth/commit_c4dd02c_conf2_Frame_cap0_runs/TCGA_Breast_1102/filtering_samples/filters_19May_order_5ge_wAnnot_GPstar/G_TCGA-C8-A12P-01A-11R-A115-07_02112GA.tsv.gz \n",
      "---------------------------------------------\n",
      " ohsu J_TCGA-C8-A12P-01A-11R-A115-07_02112GA.tsv\n",
      "eth /cluster/work/grlab/projects/projects2020_OHSU/peptides_generation/CANCER_eth/commit_c4dd02c_conf2_Frame_cap0_runs/TCGA_Breast_1102/filtering_samples/filters_19May_order_5ge_wAnnot_GPstar/G_TCGA-BH-A18V-01A-11R-A12D-07_02101GA.tsv.gz \n",
      "---------------------------------------------\n",
      " ohsu J_TCGA-BH-A18V-01A-11R-A12D-07_02101GA.tsv\n",
      "eth /cluster/work/grlab/projects/projects2020_OHSU/peptides_generation/CANCER_eth/commit_c4dd02c_conf2_Frame_cap0_runs/TCGA_Breast_1102/filtering_samples/filters_19May_order_5ge_wAnnot_GPstar/G_TCGA-A2-A0D2-01A-21R-A034-07_0AN12GA.tsv.gz \n",
      "---------------------------------------------\n",
      " ohsu J_TCGA-A2-A0D2-01A-21R-A034-07_0AN12GA.tsv\n",
      "TCGAA2A0D201A21RA03407\n"
     ]
    },
    {
     "name": "stderr",
     "output_type": "stream",
     "text": [
      "110it [00:00, 6705.33it/s]\n"
     ]
    },
    {
     "name": "stdout",
     "output_type": "stream",
     "text": [
      "['J', 'TCGA-A2-A0D2-01A-21R-A034-07', '0AN12GA']\n",
      "['0', 'Any', 'None', '1', '2']\n",
      "2\n",
      "550\n",
      "3\n",
      "12\n",
      "NEXT\n",
      "eth /cluster/work/grlab/projects/projects2020_OHSU/peptides_generation/CANCER_eth/commit_c4dd02c_conf2_Frame_cap0_runs/TCGA_Breast_1102/filtering_samples/filters_19May_order_5ge_wAnnot_GPstar/G_TCGA-BH-A18V-01A-11R-A12D-07_02512GA.tsv.gz \n",
      "---------------------------------------------\n",
      " ohsu J_TCGA-BH-A18V-01A-11R-A12D-07_02512GA.tsv\n",
      "eth /cluster/work/grlab/projects/projects2020_OHSU/peptides_generation/CANCER_eth/commit_c4dd02c_conf2_Frame_cap0_runs/TCGA_Breast_1102/filtering_samples/filters_19May_order_5ge_wAnnot_GPstar/G_TCGA-C8-A12P-01A-11R-A115-07_0AN3XGA.tsv.gz \n",
      "---------------------------------------------\n",
      " ohsu J_TCGA-C8-A12P-01A-11R-A115-07_0AN3XGA.tsv\n",
      "eth /cluster/work/grlab/projects/projects2020_OHSU/peptides_generation/CANCER_eth/commit_c4dd02c_conf2_Frame_cap0_runs/TCGA_Breast_1102/filtering_samples/filters_19May_order_5ge_wAnnot_GPstar/G_TCGA-BH-A18V-01A-11R-A12D-07_02501GA.tsv.gz \n",
      "---------------------------------------------\n",
      " ohsu J_TCGA-BH-A18V-01A-11R-A12D-07_02501GA.tsv\n",
      "eth /cluster/work/grlab/projects/projects2020_OHSU/peptides_generation/CANCER_eth/commit_c4dd02c_conf2_Frame_cap0_runs/TCGA_Breast_1102/filtering_samples/filters_19May_order_5ge_wAnnot_GPstar/G_TCGA-C8-A12P-01A-11R-A115-07_0AN1XGA.tsv.gz \n",
      "---------------------------------------------\n",
      " ohsu J_TCGA-C8-A12P-01A-11R-A115-07_0AN1XGA.tsv\n",
      "eth /cluster/work/grlab/projects/projects2020_OHSU/peptides_generation/CANCER_eth/commit_c4dd02c_conf2_Frame_cap0_runs/TCGA_Breast_1102/filtering_samples/filters_19May_order_5ge_wAnnot_GPstar/G_TCGA-A2-A0D2-01A-21R-A034-07_0253XGA.tsv.gz \n",
      "---------------------------------------------\n",
      " ohsu J_TCGA-A2-A0D2-01A-21R-A034-07_0253XGA.tsv\n",
      "TCGAA2A0D201A21RA03407\n"
     ]
    },
    {
     "name": "stderr",
     "output_type": "stream",
     "text": [
      "41it [00:00, 6610.28it/s]\n"
     ]
    },
    {
     "name": "stdout",
     "output_type": "stream",
     "text": [
      "['J', 'TCGA-A2-A0D2-01A-21R-A034-07', '0253XGA']\n",
      "['0', '2', '5', '3', '10']\n",
      "1\n",
      "8\n",
      "0\n",
      "4\n",
      "NEXT\n",
      "eth /cluster/work/grlab/projects/projects2020_OHSU/peptides_generation/CANCER_eth/commit_c4dd02c_conf2_Frame_cap0_runs/TCGA_Breast_1102/filtering_samples/filters_19May_order_5ge_wAnnot_GPstar/G_TCGA-AO-A0JM-01A-21R-A056-07_0AN12GA.tsv.gz \n",
      "---------------------------------------------\n",
      " ohsu J_TCGA-AO-A0JM-01A-21R-A056-07_0AN12GA.tsv\n",
      "eth /cluster/work/grlab/projects/projects2020_OHSU/peptides_generation/CANCER_eth/commit_c4dd02c_conf2_Frame_cap0_runs/TCGA_Breast_1102/filtering_samples/filters_19May_order_5ge_wAnnot_GPstar/G_TCGA-A2-A0SX-01A-12R-A084-07_0A11XGA.tsv.gz \n",
      "---------------------------------------------\n",
      " ohsu J_TCGA-A2-A0SX-01A-12R-A084-07_0A11XGA.tsv\n",
      "eth /cluster/work/grlab/projects/projects2020_OHSU/peptides_generation/CANCER_eth/commit_c4dd02c_conf2_Frame_cap0_runs/TCGA_Breast_1102/filtering_samples/filters_19May_order_5ge_wAnnot_GPstar/G_TCGA-AO-A0JM-01A-21R-A056-07_02501GA.tsv.gz \n",
      "---------------------------------------------\n",
      " ohsu J_TCGA-AO-A0JM-01A-21R-A056-07_02501GA.tsv\n",
      "eth /cluster/work/grlab/projects/projects2020_OHSU/peptides_generation/CANCER_eth/commit_c4dd02c_conf2_Frame_cap0_runs/TCGA_Breast_1102/filtering_samples/filters_19May_order_5ge_wAnnot_GPstar/G_TCGA-BH-A18V-01A-11R-A12D-07_0251XGA.tsv.gz \n",
      "---------------------------------------------\n",
      " ohsu J_TCGA-BH-A18V-01A-11R-A12D-07_0251XGA.tsv\n",
      "eth /cluster/work/grlab/projects/projects2020_OHSU/peptides_generation/CANCER_eth/commit_c4dd02c_conf2_Frame_cap0_runs/TCGA_Breast_1102/filtering_samples/filters_19May_order_5ge_wAnnot_GPstar/G_TCGA-AO-A0JM-01A-21R-A056-07_0AN1AGA.tsv.gz \n",
      "---------------------------------------------\n",
      " ohsu J_TCGA-AO-A0JM-01A-21R-A056-07_0AN1AGA.tsv\n",
      "eth /cluster/work/grlab/projects/projects2020_OHSU/peptides_generation/CANCER_eth/commit_c4dd02c_conf2_Frame_cap0_runs/TCGA_Breast_1102/filtering_samples/filters_19May_order_5ge_wAnnot_GPstar/G_TCGA-A2-A0SX-01A-12R-A084-07_02532GA.tsv.gz \n",
      "---------------------------------------------\n",
      " ohsu J_TCGA-A2-A0SX-01A-12R-A084-07_02532GA.tsv\n",
      "eth /cluster/work/grlab/projects/projects2020_OHSU/peptides_generation/CANCER_eth/commit_c4dd02c_conf2_Frame_cap0_runs/TCGA_Breast_1102/filtering_samples/filters_19May_order_5ge_wAnnot_GPstar/G_TCGA-AO-A0JM-01A-21R-A056-07_0AN1XGA.tsv.gz \n",
      "---------------------------------------------\n",
      " ohsu J_TCGA-AO-A0JM-01A-21R-A056-07_0AN1XGA.tsv\n",
      "eth /cluster/work/grlab/projects/projects2020_OHSU/peptides_generation/CANCER_eth/commit_c4dd02c_conf2_Frame_cap0_runs/TCGA_Breast_1102/filtering_samples/filters_19May_order_5ge_wAnnot_GPstar/G_TCGA-BH-A18V-01A-11R-A12D-07_0AN3AGA.tsv.gz \n",
      "---------------------------------------------\n",
      " ohsu J_TCGA-BH-A18V-01A-11R-A12D-07_0AN3AGA.tsv\n",
      "eth /cluster/work/grlab/projects/projects2020_OHSU/peptides_generation/CANCER_eth/commit_c4dd02c_conf2_Frame_cap0_runs/TCGA_Breast_1102/filtering_samples/filters_19May_order_5ge_wAnnot_GPstar/G_TCGA-BH-A18V-01A-11R-A12D-07_0211XGA.tsv.gz \n",
      "---------------------------------------------\n",
      " ohsu J_TCGA-BH-A18V-01A-11R-A12D-07_0211XGA.tsv\n",
      "eth /cluster/work/grlab/projects/projects2020_OHSU/peptides_generation/CANCER_eth/commit_c4dd02c_conf2_Frame_cap0_runs/TCGA_Breast_1102/filtering_samples/filters_19May_order_5ge_wAnnot_GPstar/G_TCGA-C8-A12P-01A-11R-A115-07_0A101GA.tsv.gz \n",
      "---------------------------------------------\n",
      " ohsu J_TCGA-C8-A12P-01A-11R-A115-07_0A101GA.tsv\n",
      "eth /cluster/work/grlab/projects/projects2020_OHSU/peptides_generation/CANCER_eth/commit_c4dd02c_conf2_Frame_cap0_runs/TCGA_Breast_1102/filtering_samples/filters_19May_order_5ge_wAnnot_GPstar/G_TCGA-A2-A0SX-01A-12R-A084-07_0A512GA.tsv.gz \n",
      "---------------------------------------------\n",
      " ohsu J_TCGA-A2-A0SX-01A-12R-A084-07_0A512GA.tsv\n",
      "eth /cluster/work/grlab/projects/projects2020_OHSU/peptides_generation/CANCER_eth/commit_c4dd02c_conf2_Frame_cap0_runs/TCGA_Breast_1102/filtering_samples/filters_19May_order_5ge_wAnnot_GPstar/G_TCGA-A2-A0SX-01A-12R-A084-07_0AN3XGA.tsv.gz \n",
      "---------------------------------------------\n",
      " ohsu J_TCGA-A2-A0SX-01A-12R-A084-07_0AN3XGA.tsv\n",
      "eth /cluster/work/grlab/projects/projects2020_OHSU/peptides_generation/CANCER_eth/commit_c4dd02c_conf2_Frame_cap0_runs/TCGA_Breast_1102/filtering_samples/filters_19May_order_5ge_wAnnot_GPstar/G_TCGA-AO-A0JM-01A-21R-A056-07_0A51AGA.tsv.gz \n",
      "---------------------------------------------\n",
      " ohsu J_TCGA-AO-A0JM-01A-21R-A056-07_0A51AGA.tsv\n",
      "eth /cluster/work/grlab/projects/projects2020_OHSU/peptides_generation/CANCER_eth/commit_c4dd02c_conf2_Frame_cap0_runs/TCGA_Breast_1102/filtering_samples/filters_19May_order_5ge_wAnnot_GPstar/G_TCGA-AO-A0JM-01A-21R-A056-07_0A13XGA.tsv.gz \n",
      "---------------------------------------------\n",
      " ohsu J_TCGA-AO-A0JM-01A-21R-A056-07_0A13XGA.tsv\n",
      "eth /cluster/work/grlab/projects/projects2020_OHSU/peptides_generation/CANCER_eth/commit_c4dd02c_conf2_Frame_cap0_runs/TCGA_Breast_1102/filtering_samples/filters_19May_order_5ge_wAnnot_GPstar/G_TCGA-A2-A0D2-01A-21R-A034-07_0A13AGA.tsv.gz \n",
      "---------------------------------------------\n",
      " ohsu J_TCGA-A2-A0D2-01A-21R-A034-07_0A13AGA.tsv\n",
      "TCGAA2A0D201A21RA03407\n"
     ]
    },
    {
     "name": "stderr",
     "output_type": "stream",
     "text": [
      "458it [00:00, 6565.94it/s]\n"
     ]
    },
    {
     "name": "stdout",
     "output_type": "stream",
     "text": [
      "['J', 'TCGA-A2-A0D2-01A-21R-A034-07', '0A13AGA']\n",
      "['0', 'Any', '1', '3', 'Any']\n",
      "0\n",
      "272\n",
      "3\n",
      "60\n",
      "NEXT\n",
      "eth /cluster/work/grlab/projects/projects2020_OHSU/peptides_generation/CANCER_eth/commit_c4dd02c_conf2_Frame_cap0_runs/TCGA_Breast_1102/filtering_samples/filters_19May_order_5ge_wAnnot_GPstar/G_TCGA-BH-A18V-01A-11R-A12D-07_0A532GA.tsv.gz \n",
      "---------------------------------------------\n",
      " ohsu J_TCGA-BH-A18V-01A-11R-A12D-07_0A532GA.tsv\n",
      "eth /cluster/work/grlab/projects/projects2020_OHSU/peptides_generation/CANCER_eth/commit_c4dd02c_conf2_Frame_cap0_runs/TCGA_Breast_1102/filtering_samples/filters_19May_order_5ge_wAnnot_GPstar/G_TCGA-AO-A0JM-01A-21R-A056-07_0AN3XGA.tsv.gz \n",
      "---------------------------------------------\n",
      " ohsu J_TCGA-AO-A0JM-01A-21R-A056-07_0AN3XGA.tsv\n",
      "eth /cluster/work/grlab/projects/projects2020_OHSU/peptides_generation/CANCER_eth/commit_c4dd02c_conf2_Frame_cap0_runs/TCGA_Breast_1102/filtering_samples/filters_19May_order_5ge_wAnnot_GPstar/G_TCGA-C8-A12P-01A-11R-A115-07_0AN32GA.tsv.gz \n",
      "---------------------------------------------\n",
      " ohsu J_TCGA-C8-A12P-01A-11R-A115-07_0AN32GA.tsv\n",
      "eth /cluster/work/grlab/projects/projects2020_OHSU/peptides_generation/CANCER_eth/commit_c4dd02c_conf2_Frame_cap0_runs/TCGA_Breast_1102/filtering_samples/filters_19May_order_5ge_wAnnot_GPstar/G_TCGA-AO-A0JM-01A-21R-A056-07_0A53XGA.tsv.gz \n",
      "---------------------------------------------\n",
      " ohsu J_TCGA-AO-A0JM-01A-21R-A056-07_0A53XGA.tsv\n",
      "eth /cluster/work/grlab/projects/projects2020_OHSU/peptides_generation/CANCER_eth/commit_c4dd02c_conf2_Frame_cap0_runs/TCGA_Breast_1102/filtering_samples/filters_19May_order_5ge_wAnnot_GPstar/G_TCGA-C8-A12P-01A-11R-A115-07_0A13AGA.tsv.gz \n",
      "---------------------------------------------\n",
      " ohsu J_TCGA-C8-A12P-01A-11R-A115-07_0A13AGA.tsv\n",
      "eth /cluster/work/grlab/projects/projects2020_OHSU/peptides_generation/CANCER_eth/commit_c4dd02c_conf2_Frame_cap0_runs/TCGA_Breast_1102/filtering_samples/filters_19May_order_5ge_wAnnot_GPstar/G_TCGA-A2-A0D2-01A-21R-A034-07_02112GA.tsv.gz \n",
      "---------------------------------------------\n",
      " ohsu J_TCGA-A2-A0D2-01A-21R-A034-07_02112GA.tsv\n",
      "TCGAA2A0D201A21RA03407\n"
     ]
    },
    {
     "name": "stderr",
     "output_type": "stream",
     "text": [
      "37it [00:00, 6316.72it/s]\n"
     ]
    },
    {
     "name": "stdout",
     "output_type": "stream",
     "text": [
      "['J', 'TCGA-A2-A0D2-01A-21R-A034-07', '02112GA']\n",
      "['0', '2', '1', '1', '2']\n",
      "2\n",
      "15\n",
      "2\n",
      "3\n",
      "NEXT\n",
      "eth /cluster/work/grlab/projects/projects2020_OHSU/peptides_generation/CANCER_eth/commit_c4dd02c_conf2_Frame_cap0_runs/TCGA_Breast_1102/filtering_samples/filters_19May_order_5ge_wAnnot_GPstar/G_TCGA-BH-A18V-01A-11R-A12D-07_0213XGA.tsv.gz \n",
      "---------------------------------------------\n",
      " ohsu J_TCGA-BH-A18V-01A-11R-A12D-07_0213XGA.tsv\n",
      "eth /cluster/work/grlab/projects/projects2020_OHSU/peptides_generation/CANCER_eth/commit_c4dd02c_conf2_Frame_cap0_runs/TCGA_Breast_1102/filtering_samples/filters_19May_order_5ge_wAnnot_GPstar/G_TCGA-A2-A0SX-01A-12R-A084-07_0A53AGA.tsv.gz \n",
      "---------------------------------------------\n",
      " ohsu J_TCGA-A2-A0SX-01A-12R-A084-07_0A53AGA.tsv\n",
      "eth /cluster/work/grlab/projects/projects2020_OHSU/peptides_generation/CANCER_eth/commit_c4dd02c_conf2_Frame_cap0_runs/TCGA_Breast_1102/filtering_samples/filters_19May_order_5ge_wAnnot_GPstar/G_TCGA-BH-A18V-01A-11R-A12D-07_0AN3XGA.tsv.gz \n",
      "---------------------------------------------\n",
      " ohsu J_TCGA-BH-A18V-01A-11R-A12D-07_0AN3XGA.tsv\n",
      "eth /cluster/work/grlab/projects/projects2020_OHSU/peptides_generation/CANCER_eth/commit_c4dd02c_conf2_Frame_cap0_runs/TCGA_Breast_1102/filtering_samples/filters_19May_order_5ge_wAnnot_GPstar/G_TCGA-A2-A0D2-01A-21R-A034-07_0213AGA.tsv.gz \n",
      "---------------------------------------------\n",
      " ohsu J_TCGA-A2-A0D2-01A-21R-A034-07_0213AGA.tsv\n",
      "TCGAA2A0D201A21RA03407\n"
     ]
    },
    {
     "name": "stderr",
     "output_type": "stream",
     "text": [
      "401it [00:00, 6576.69it/s]\n"
     ]
    },
    {
     "name": "stdout",
     "output_type": "stream",
     "text": [
      "['J', 'TCGA-A2-A0D2-01A-21R-A034-07', '0213AGA']\n",
      "['0', '2', '1', '3', 'Any']\n",
      "0\n",
      "40\n",
      "24\n",
      "32\n",
      "NEXT\n",
      "eth /cluster/work/grlab/projects/projects2020_OHSU/peptides_generation/CANCER_eth/commit_c4dd02c_conf2_Frame_cap0_runs/TCGA_Breast_1102/filtering_samples/filters_19May_order_5ge_wAnnot_GPstar/G_TCGA-A2-A0D2-01A-21R-A034-07_0A51AGA.tsv.gz \n",
      "---------------------------------------------\n",
      " ohsu J_TCGA-A2-A0D2-01A-21R-A034-07_0A51AGA.tsv\n",
      "TCGAA2A0D201A21RA03407\n"
     ]
    },
    {
     "name": "stderr",
     "output_type": "stream",
     "text": [
      "13it [00:00, 6050.37it/s]\n"
     ]
    },
    {
     "name": "stdout",
     "output_type": "stream",
     "text": [
      "['J', 'TCGA-A2-A0D2-01A-21R-A034-07', '0A51AGA']\n",
      "['0', 'Any', '5', '1', 'Any']\n",
      "0\n",
      "11\n",
      "0\n",
      "2\n",
      "NEXT\n",
      "eth /cluster/work/grlab/projects/projects2020_OHSU/peptides_generation/CANCER_eth/commit_c4dd02c_conf2_Frame_cap0_runs/TCGA_Breast_1102/filtering_samples/filters_19May_order_5ge_wAnnot_GPstar/G_TCGA-A2-A0SX-01A-12R-A084-07_0AN1AGA.tsv.gz \n",
      "---------------------------------------------\n",
      " ohsu J_TCGA-A2-A0SX-01A-12R-A084-07_0AN1AGA.tsv\n",
      "eth /cluster/work/grlab/projects/projects2020_OHSU/peptides_generation/CANCER_eth/commit_c4dd02c_conf2_Frame_cap0_runs/TCGA_Breast_1102/filtering_samples/filters_19May_order_5ge_wAnnot_GPstar/G_TCGA-BH-A18V-01A-11R-A12D-07_0AN1XGA.tsv.gz \n",
      "---------------------------------------------\n",
      " ohsu J_TCGA-BH-A18V-01A-11R-A12D-07_0AN1XGA.tsv\n",
      "eth /cluster/work/grlab/projects/projects2020_OHSU/peptides_generation/CANCER_eth/commit_c4dd02c_conf2_Frame_cap0_runs/TCGA_Breast_1102/filtering_samples/filters_19May_order_5ge_wAnnot_GPstar/G_TCGA-A2-A0D2-01A-21R-A034-07_0A11XGA.tsv.gz \n",
      "---------------------------------------------\n",
      " ohsu J_TCGA-A2-A0D2-01A-21R-A034-07_0A11XGA.tsv\n",
      "TCGAA2A0D201A21RA03407\n"
     ]
    },
    {
     "name": "stderr",
     "output_type": "stream",
     "text": [
      "37it [00:00, 6314.67it/s]\n"
     ]
    },
    {
     "name": "stdout",
     "output_type": "stream",
     "text": [
      "['J', 'TCGA-A2-A0D2-01A-21R-A034-07', '0A11XGA']\n",
      "['0', 'Any', '1', '1', '10']\n",
      "1\n",
      "64\n",
      "0\n",
      "5\n",
      "NEXT\n",
      "eth /cluster/work/grlab/projects/projects2020_OHSU/peptides_generation/CANCER_eth/commit_c4dd02c_conf2_Frame_cap0_runs/TCGA_Breast_1102/filtering_samples/filters_19May_order_5ge_wAnnot_GPstar/G_TCGA-C8-A12P-01A-11R-A115-07_0251XGA.tsv.gz \n",
      "---------------------------------------------\n",
      " ohsu J_TCGA-C8-A12P-01A-11R-A115-07_0251XGA.tsv\n",
      "eth /cluster/work/grlab/projects/projects2020_OHSU/peptides_generation/CANCER_eth/commit_c4dd02c_conf2_Frame_cap0_runs/TCGA_Breast_1102/filtering_samples/filters_19May_order_5ge_wAnnot_GPstar/G_TCGA-BH-A18V-01A-11R-A12D-07_0A51XGA.tsv.gz \n",
      "---------------------------------------------\n",
      " ohsu J_TCGA-BH-A18V-01A-11R-A12D-07_0A51XGA.tsv\n",
      "eth /cluster/work/grlab/projects/projects2020_OHSU/peptides_generation/CANCER_eth/commit_c4dd02c_conf2_Frame_cap0_runs/TCGA_Breast_1102/filtering_samples/filters_19May_order_5ge_wAnnot_GPstar/G_TCGA-AO-A0JM-01A-21R-A056-07_0AN3AGA.tsv.gz \n",
      "---------------------------------------------\n",
      " ohsu J_TCGA-AO-A0JM-01A-21R-A056-07_0AN3AGA.tsv\n",
      "eth /cluster/work/grlab/projects/projects2020_OHSU/peptides_generation/CANCER_eth/commit_c4dd02c_conf2_Frame_cap0_runs/TCGA_Breast_1102/filtering_samples/filters_19May_order_5ge_wAnnot_GPstar/G_TCGA-A2-A0SX-01A-12R-A084-07_0253XGA.tsv.gz \n",
      "---------------------------------------------\n",
      " ohsu J_TCGA-A2-A0SX-01A-12R-A084-07_0253XGA.tsv\n",
      "eth /cluster/work/grlab/projects/projects2020_OHSU/peptides_generation/CANCER_eth/commit_c4dd02c_conf2_Frame_cap0_runs/TCGA_Breast_1102/filtering_samples/filters_19May_order_5ge_wAnnot_GPstar/G_TCGA-A2-A0D2-01A-21R-A034-07_0A53XGA.tsv.gz \n",
      "---------------------------------------------\n",
      " ohsu J_TCGA-A2-A0D2-01A-21R-A034-07_0A53XGA.tsv\n",
      "TCGAA2A0D201A21RA03407\n"
     ]
    },
    {
     "name": "stderr",
     "output_type": "stream",
     "text": [
      "171it [00:00, 6573.72it/s]\n"
     ]
    },
    {
     "name": "stdout",
     "output_type": "stream",
     "text": [
      "['J', 'TCGA-A2-A0D2-01A-21R-A034-07', '0A53XGA']\n",
      "['0', 'Any', '5', '3', '10']\n",
      "1\n",
      "37\n",
      "2\n",
      "20\n",
      "NEXT\n",
      "eth /cluster/work/grlab/projects/projects2020_OHSU/peptides_generation/CANCER_eth/commit_c4dd02c_conf2_Frame_cap0_runs/TCGA_Breast_1102/filtering_samples/filters_19May_order_5ge_wAnnot_GPstar/G_TCGA-C8-A12P-01A-11R-A115-07_0A53XGA.tsv.gz \n",
      "---------------------------------------------\n",
      " ohsu J_TCGA-C8-A12P-01A-11R-A115-07_0A53XGA.tsv\n",
      "eth /cluster/work/grlab/projects/projects2020_OHSU/peptides_generation/CANCER_eth/commit_c4dd02c_conf2_Frame_cap0_runs/TCGA_Breast_1102/filtering_samples/filters_19May_order_5ge_wAnnot_GPstar/G_TCGA-BH-A18V-01A-11R-A12D-07_0AN1AGA.tsv.gz \n",
      "---------------------------------------------\n",
      " ohsu J_TCGA-BH-A18V-01A-11R-A12D-07_0AN1AGA.tsv\n",
      "eth /cluster/work/grlab/projects/projects2020_OHSU/peptides_generation/CANCER_eth/commit_c4dd02c_conf2_Frame_cap0_runs/TCGA_Breast_1102/filtering_samples/filters_19May_order_5ge_wAnnot_GPstar/G_TCGA-A2-A0SX-01A-12R-A084-07_0A53XGA.tsv.gz \n",
      "---------------------------------------------\n",
      " ohsu J_TCGA-A2-A0SX-01A-12R-A084-07_0A53XGA.tsv\n",
      "eth /cluster/work/grlab/projects/projects2020_OHSU/peptides_generation/CANCER_eth/commit_c4dd02c_conf2_Frame_cap0_runs/TCGA_Breast_1102/filtering_samples/filters_19May_order_5ge_wAnnot_GPstar/G_TCGA-A2-A0D2-01A-21R-A034-07_0AN1AGA.tsv.gz \n",
      "---------------------------------------------\n",
      " ohsu J_TCGA-A2-A0D2-01A-21R-A034-07_0AN1AGA.tsv\n",
      "TCGAA2A0D201A21RA03407\n"
     ]
    },
    {
     "name": "stderr",
     "output_type": "stream",
     "text": [
      "110it [00:00, 6523.39it/s]\n"
     ]
    },
    {
     "name": "stdout",
     "output_type": "stream",
     "text": [
      "['J', 'TCGA-A2-A0D2-01A-21R-A034-07', '0AN1AGA']\n",
      "['0', 'Any', 'None', '1', 'Any']\n",
      "0\n",
      "550\n",
      "3\n",
      "12\n",
      "NEXT\n",
      "eth /cluster/work/grlab/projects/projects2020_OHSU/peptides_generation/CANCER_eth/commit_c4dd02c_conf2_Frame_cap0_runs/TCGA_Breast_1102/filtering_samples/filters_19May_order_5ge_wAnnot_GPstar/G_TCGA-AO-A0JM-01A-21R-A056-07_02112GA.tsv.gz \n",
      "---------------------------------------------\n",
      " ohsu J_TCGA-AO-A0JM-01A-21R-A056-07_02112GA.tsv\n",
      "eth /cluster/work/grlab/projects/projects2020_OHSU/peptides_generation/CANCER_eth/commit_c4dd02c_conf2_Frame_cap0_runs/TCGA_Breast_1102/filtering_samples/filters_19May_order_5ge_wAnnot_GPstar/G_TCGA-C8-A12P-01A-11R-A115-07_0213XGA.tsv.gz \n",
      "---------------------------------------------\n",
      " ohsu J_TCGA-C8-A12P-01A-11R-A115-07_0213XGA.tsv\n",
      "eth /cluster/work/grlab/projects/projects2020_OHSU/peptides_generation/CANCER_eth/commit_c4dd02c_conf2_Frame_cap0_runs/TCGA_Breast_1102/filtering_samples/filters_19May_order_5ge_wAnnot_GPstar/G_TCGA-BH-A18V-01A-11R-A12D-07_0A112GA.tsv.gz \n",
      "---------------------------------------------\n",
      " ohsu J_TCGA-BH-A18V-01A-11R-A12D-07_0A112GA.tsv\n",
      "eth /cluster/work/grlab/projects/projects2020_OHSU/peptides_generation/CANCER_eth/commit_c4dd02c_conf2_Frame_cap0_runs/TCGA_Breast_1102/filtering_samples/filters_19May_order_5ge_wAnnot_GPstar/G_TCGA-AO-A0JM-01A-21R-A056-07_0253AGA.tsv.gz \n",
      "---------------------------------------------\n",
      " ohsu J_TCGA-AO-A0JM-01A-21R-A056-07_0253AGA.tsv\n",
      "eth /cluster/work/grlab/projects/projects2020_OHSU/peptides_generation/CANCER_eth/commit_c4dd02c_conf2_Frame_cap0_runs/TCGA_Breast_1102/filtering_samples/filters_19May_order_5ge_wAnnot_GPstar/G_TCGA-BH-A18V-01A-11R-A12D-07_0AN01GA.tsv.gz \n",
      "---------------------------------------------\n",
      " ohsu J_TCGA-BH-A18V-01A-11R-A12D-07_0AN01GA.tsv\n",
      "eth /cluster/work/grlab/projects/projects2020_OHSU/peptides_generation/CANCER_eth/commit_c4dd02c_conf2_Frame_cap0_runs/TCGA_Breast_1102/filtering_samples/filters_19May_order_5ge_wAnnot_GPstar/G_TCGA-A2-A0D2-01A-21R-A034-07_0251XGA.tsv.gz \n",
      "---------------------------------------------\n",
      " ohsu J_TCGA-A2-A0D2-01A-21R-A034-07_0251XGA.tsv\n",
      "TCGAA2A0D201A21RA03407\n"
     ]
    },
    {
     "name": "stderr",
     "output_type": "stream",
     "text": [
      "7it [00:00, 5247.57it/s]\n"
     ]
    },
    {
     "name": "stdout",
     "output_type": "stream",
     "text": [
      "['J', 'TCGA-A2-A0D2-01A-21R-A034-07', '0251XGA']\n",
      "['0', '2', '5', '1', '10']\n",
      "1\n",
      "6\n",
      "0\n",
      "1\n",
      "NEXT\n",
      "eth /cluster/work/grlab/projects/projects2020_OHSU/peptides_generation/CANCER_eth/commit_c4dd02c_conf2_Frame_cap0_runs/TCGA_Breast_1102/filtering_samples/filters_19May_order_5ge_wAnnot_GPstar/G_TCGA-AO-A0JM-01A-21R-A056-07_0211AGA.tsv.gz \n",
      "---------------------------------------------\n",
      " ohsu J_TCGA-AO-A0JM-01A-21R-A056-07_0211AGA.tsv\n",
      "eth /cluster/work/grlab/projects/projects2020_OHSU/peptides_generation/CANCER_eth/commit_c4dd02c_conf2_Frame_cap0_runs/TCGA_Breast_1102/filtering_samples/filters_19May_order_5ge_wAnnot_GPstar/G_TCGA-AO-A0JM-01A-21R-A056-07_02532GA.tsv.gz \n",
      "---------------------------------------------\n",
      " ohsu J_TCGA-AO-A0JM-01A-21R-A056-07_02532GA.tsv\n",
      "eth /cluster/work/grlab/projects/projects2020_OHSU/peptides_generation/CANCER_eth/commit_c4dd02c_conf2_Frame_cap0_runs/TCGA_Breast_1102/filtering_samples/filters_19May_order_5ge_wAnnot_GPstar/G_TCGA-A2-A0D2-01A-21R-A034-07_02512GA.tsv.gz \n",
      "---------------------------------------------\n",
      " ohsu J_TCGA-A2-A0D2-01A-21R-A034-07_02512GA.tsv\n",
      "TCGAA2A0D201A21RA03407\n"
     ]
    },
    {
     "name": "stderr",
     "output_type": "stream",
     "text": [
      "7it [00:00, 5263.56it/s]\n"
     ]
    },
    {
     "name": "stdout",
     "output_type": "stream",
     "text": [
      "['J', 'TCGA-A2-A0D2-01A-21R-A034-07', '02512GA']\n",
      "['0', '2', '5', '1', '2']\n",
      "2\n",
      "6\n",
      "0\n",
      "1\n",
      "NEXT\n",
      "eth /cluster/work/grlab/projects/projects2020_OHSU/peptides_generation/CANCER_eth/commit_c4dd02c_conf2_Frame_cap0_runs/TCGA_Breast_1102/filtering_samples/filters_19May_order_5ge_wAnnot_GPstar/G_TCGA-BH-A18V-01A-11R-A12D-07_0A51AGA.tsv.gz \n",
      "---------------------------------------------\n",
      " ohsu J_TCGA-BH-A18V-01A-11R-A12D-07_0A51AGA.tsv\n",
      "eth /cluster/work/grlab/projects/projects2020_OHSU/peptides_generation/CANCER_eth/commit_c4dd02c_conf2_Frame_cap0_runs/TCGA_Breast_1102/filtering_samples/filters_19May_order_5ge_wAnnot_GPstar/G_TCGA-A2-A0SX-01A-12R-A084-07_02101GA.tsv.gz \n",
      "---------------------------------------------\n",
      " ohsu J_TCGA-A2-A0SX-01A-12R-A084-07_02101GA.tsv\n",
      "eth /cluster/work/grlab/projects/projects2020_OHSU/peptides_generation/CANCER_eth/commit_c4dd02c_conf2_Frame_cap0_runs/TCGA_Breast_1102/filtering_samples/filters_19May_order_5ge_wAnnot_GPstar/G_TCGA-AO-A0JM-01A-21R-A056-07_0A532GA.tsv.gz \n",
      "---------------------------------------------\n",
      " ohsu J_TCGA-AO-A0JM-01A-21R-A056-07_0A532GA.tsv\n",
      "eth /cluster/work/grlab/projects/projects2020_OHSU/peptides_generation/CANCER_eth/commit_c4dd02c_conf2_Frame_cap0_runs/TCGA_Breast_1102/filtering_samples/filters_19May_order_5ge_wAnnot_GPstar/G_TCGA-A2-A0D2-01A-21R-A034-07_0AN3AGA.tsv.gz \n",
      "---------------------------------------------\n",
      " ohsu J_TCGA-A2-A0D2-01A-21R-A034-07_0AN3AGA.tsv\n",
      "TCGAA2A0D201A21RA03407\n"
     ]
    },
    {
     "name": "stderr",
     "output_type": "stream",
     "text": [
      "543it [00:00, 6805.33it/s]\n"
     ]
    },
    {
     "name": "stdout",
     "output_type": "stream",
     "text": [
      "['J', 'TCGA-A2-A0D2-01A-21R-A034-07', '0AN3AGA']\n",
      "['0', 'Any', 'None', '3', 'Any']\n",
      "0\n",
      "1004\n",
      "6\n",
      "70\n",
      "NEXT\n",
      "eth /cluster/work/grlab/projects/projects2020_OHSU/peptides_generation/CANCER_eth/commit_c4dd02c_conf2_Frame_cap0_runs/TCGA_Breast_1102/filtering_samples/filters_19May_order_5ge_wAnnot_GPstar/G_TCGA-BH-A18V-01A-11R-A12D-07_0A501GA.tsv.gz \n",
      "---------------------------------------------\n",
      " ohsu J_TCGA-BH-A18V-01A-11R-A12D-07_0A501GA.tsv\n",
      "eth /cluster/work/grlab/projects/projects2020_OHSU/peptides_generation/CANCER_eth/commit_c4dd02c_conf2_Frame_cap0_runs/TCGA_Breast_1102/filtering_samples/filters_19May_order_5ge_wAnnot_GPstar/G_TCGA-A2-A0SX-01A-12R-A084-07_0213AGA.tsv.gz \n",
      "---------------------------------------------\n",
      " ohsu J_TCGA-A2-A0SX-01A-12R-A084-07_0213AGA.tsv\n",
      "eth /cluster/work/grlab/projects/projects2020_OHSU/peptides_generation/CANCER_eth/commit_c4dd02c_conf2_Frame_cap0_runs/TCGA_Breast_1102/filtering_samples/filters_19May_order_5ge_wAnnot_GPstar/G_TCGA-A2-A0SX-01A-12R-A084-07_0213XGA.tsv.gz \n",
      "---------------------------------------------\n",
      " ohsu J_TCGA-A2-A0SX-01A-12R-A084-07_0213XGA.tsv\n",
      "eth /cluster/work/grlab/projects/projects2020_OHSU/peptides_generation/CANCER_eth/commit_c4dd02c_conf2_Frame_cap0_runs/TCGA_Breast_1102/filtering_samples/filters_19May_order_5ge_wAnnot_GPstar/G_TCGA-C8-A12P-01A-11R-A115-07_0253XGA.tsv.gz \n",
      "---------------------------------------------\n",
      " ohsu J_TCGA-C8-A12P-01A-11R-A115-07_0253XGA.tsv\n",
      "eth /cluster/work/grlab/projects/projects2020_OHSU/peptides_generation/CANCER_eth/commit_c4dd02c_conf2_Frame_cap0_runs/TCGA_Breast_1102/filtering_samples/filters_19May_order_5ge_wAnnot_GPstar/G_TCGA-BH-A18V-01A-11R-A12D-07_0A13XGA.tsv.gz \n",
      "---------------------------------------------\n",
      " ohsu J_TCGA-BH-A18V-01A-11R-A12D-07_0A13XGA.tsv\n",
      "eth /cluster/work/grlab/projects/projects2020_OHSU/peptides_generation/CANCER_eth/commit_c4dd02c_conf2_Frame_cap0_runs/TCGA_Breast_1102/filtering_samples/filters_19May_order_5ge_wAnnot_GPstar/G_TCGA-BH-A18V-01A-11R-A12D-07_02112GA.tsv.gz \n",
      "---------------------------------------------\n",
      " ohsu J_TCGA-BH-A18V-01A-11R-A12D-07_02112GA.tsv\n",
      "eth /cluster/work/grlab/projects/projects2020_OHSU/peptides_generation/CANCER_eth/commit_c4dd02c_conf2_Frame_cap0_runs/TCGA_Breast_1102/filtering_samples/filters_19May_order_5ge_wAnnot_GPstar/G_TCGA-C8-A12P-01A-11R-A115-07_0A13XGA.tsv.gz \n",
      "---------------------------------------------\n",
      " ohsu J_TCGA-C8-A12P-01A-11R-A115-07_0A13XGA.tsv\n",
      "eth /cluster/work/grlab/projects/projects2020_OHSU/peptides_generation/CANCER_eth/commit_c4dd02c_conf2_Frame_cap0_runs/TCGA_Breast_1102/filtering_samples/filters_19May_order_5ge_wAnnot_GPstar/G_TCGA-C8-A12P-01A-11R-A115-07_0211XGA.tsv.gz \n",
      "---------------------------------------------\n",
      " ohsu J_TCGA-C8-A12P-01A-11R-A115-07_0211XGA.tsv\n",
      "eth /cluster/work/grlab/projects/projects2020_OHSU/peptides_generation/CANCER_eth/commit_c4dd02c_conf2_Frame_cap0_runs/TCGA_Breast_1102/filtering_samples/filters_19May_order_5ge_wAnnot_GPstar/G_TCGA-A2-A0SX-01A-12R-A084-07_0A532GA.tsv.gz \n",
      "---------------------------------------------\n",
      " ohsu J_TCGA-A2-A0SX-01A-12R-A084-07_0A532GA.tsv\n",
      "eth /cluster/work/grlab/projects/projects2020_OHSU/peptides_generation/CANCER_eth/commit_c4dd02c_conf2_Frame_cap0_runs/TCGA_Breast_1102/filtering_samples/filters_19May_order_5ge_wAnnot_GPstar/G_TCGA-BH-A18V-01A-11R-A12D-07_0A512GA.tsv.gz \n",
      "---------------------------------------------\n",
      " ohsu J_TCGA-BH-A18V-01A-11R-A12D-07_0A512GA.tsv\n",
      "eth /cluster/work/grlab/projects/projects2020_OHSU/peptides_generation/CANCER_eth/commit_c4dd02c_conf2_Frame_cap0_runs/TCGA_Breast_1102/filtering_samples/filters_19May_order_5ge_wAnnot_GPstar/G_TCGA-A2-A0D2-01A-21R-A034-07_0AN1XGA.tsv.gz \n",
      "---------------------------------------------\n",
      " ohsu J_TCGA-A2-A0D2-01A-21R-A034-07_0AN1XGA.tsv\n",
      "TCGAA2A0D201A21RA03407\n"
     ]
    },
    {
     "name": "stderr",
     "output_type": "stream",
     "text": [
      "110it [00:00, 6790.40it/s]\n"
     ]
    },
    {
     "name": "stdout",
     "output_type": "stream",
     "text": [
      "['J', 'TCGA-A2-A0D2-01A-21R-A034-07', '0AN1XGA']\n",
      "['0', 'Any', 'None', '1', '10']\n",
      "1\n",
      "550\n",
      "3\n",
      "12\n",
      "NEXT\n",
      "eth /cluster/work/grlab/projects/projects2020_OHSU/peptides_generation/CANCER_eth/commit_c4dd02c_conf2_Frame_cap0_runs/TCGA_Breast_1102/filtering_samples/filters_19May_order_5ge_wAnnot_GPstar/G_TCGA-A2-A0D2-01A-21R-A034-07_0AN01GA.tsv.gz \n",
      "---------------------------------------------\n",
      " ohsu J_TCGA-A2-A0D2-01A-21R-A034-07_0AN01GA.tsv\n",
      "TCGAA2A0D201A21RA03407\n"
     ]
    },
    {
     "name": "stderr",
     "output_type": "stream",
     "text": [
      "96it [00:00, 6766.14it/s]\n"
     ]
    },
    {
     "name": "stdout",
     "output_type": "stream",
     "text": [
      "['J', 'TCGA-A2-A0D2-01A-21R-A034-07', '0AN01GA']\n",
      "['0', 'Any', 'None', '0', '1']\n",
      "None\n",
      "544\n",
      "3\n",
      "10\n",
      "NEXT\n",
      "eth /cluster/work/grlab/projects/projects2020_OHSU/peptides_generation/CANCER_eth/commit_c4dd02c_conf2_Frame_cap0_runs/TCGA_Breast_1102/filtering_samples/filters_19May_order_5ge_wAnnot_GPstar/G_TCGA-C8-A12P-01A-11R-A115-07_02132GA.tsv.gz \n",
      "---------------------------------------------\n",
      " ohsu J_TCGA-C8-A12P-01A-11R-A115-07_02132GA.tsv\n",
      "eth /cluster/work/grlab/projects/projects2020_OHSU/peptides_generation/CANCER_eth/commit_c4dd02c_conf2_Frame_cap0_runs/TCGA_Breast_1102/filtering_samples/filters_19May_order_5ge_wAnnot_GPstar/G_TCGA-A2-A0SX-01A-12R-A084-07_02501GA.tsv.gz \n",
      "---------------------------------------------\n",
      " ohsu J_TCGA-A2-A0SX-01A-12R-A084-07_02501GA.tsv\n",
      "eth /cluster/work/grlab/projects/projects2020_OHSU/peptides_generation/CANCER_eth/commit_c4dd02c_conf2_Frame_cap0_runs/TCGA_Breast_1102/filtering_samples/filters_19May_order_5ge_wAnnot_GPstar/G_TCGA-C8-A12P-01A-11R-A115-07_0211AGA.tsv.gz \n",
      "---------------------------------------------\n",
      " ohsu J_TCGA-C8-A12P-01A-11R-A115-07_0211AGA.tsv\n",
      "eth /cluster/work/grlab/projects/projects2020_OHSU/peptides_generation/CANCER_eth/commit_c4dd02c_conf2_Frame_cap0_runs/TCGA_Breast_1102/filtering_samples/filters_19May_order_5ge_wAnnot_GPstar/G_TCGA-A2-A0D2-01A-21R-A034-07_02532GA.tsv.gz \n",
      "---------------------------------------------\n",
      " ohsu J_TCGA-A2-A0D2-01A-21R-A034-07_02532GA.tsv\n",
      "TCGAA2A0D201A21RA03407\n"
     ]
    },
    {
     "name": "stderr",
     "output_type": "stream",
     "text": [
      "14it [00:00, 5821.96it/s]\n"
     ]
    },
    {
     "name": "stdout",
     "output_type": "stream",
     "text": [
      "['J', 'TCGA-A2-A0D2-01A-21R-A034-07', '02532GA']\n",
      "['0', '2', '5', '3', '2']\n",
      "2\n",
      "8\n",
      "0\n",
      "2\n",
      "NEXT\n",
      "eth /cluster/work/grlab/projects/projects2020_OHSU/peptides_generation/CANCER_eth/commit_c4dd02c_conf2_Frame_cap0_runs/TCGA_Breast_1102/filtering_samples/filters_19May_order_5ge_wAnnot_GPstar/G_TCGA-BH-A18V-01A-11R-A12D-07_0A11AGA.tsv.gz \n",
      "---------------------------------------------\n",
      " ohsu J_TCGA-BH-A18V-01A-11R-A12D-07_0A11AGA.tsv\n",
      "eth /cluster/work/grlab/projects/projects2020_OHSU/peptides_generation/CANCER_eth/commit_c4dd02c_conf2_Frame_cap0_runs/TCGA_Breast_1102/filtering_samples/filters_19May_order_5ge_wAnnot_GPstar/G_TCGA-A2-A0D2-01A-21R-A034-07_0211XGA.tsv.gz \n",
      "---------------------------------------------\n",
      " ohsu J_TCGA-A2-A0D2-01A-21R-A034-07_0211XGA.tsv\n",
      "TCGAA2A0D201A21RA03407\n"
     ]
    },
    {
     "name": "stderr",
     "output_type": "stream",
     "text": [
      "37it [00:00, 6507.98it/s]\n"
     ]
    },
    {
     "name": "stdout",
     "output_type": "stream",
     "text": [
      "['J', 'TCGA-A2-A0D2-01A-21R-A034-07', '0211XGA']\n",
      "['0', '2', '1', '1', '10']\n",
      "1\n",
      "15\n",
      "2\n",
      "3\n",
      "NEXT\n",
      "eth /cluster/work/grlab/projects/projects2020_OHSU/peptides_generation/CANCER_eth/commit_c4dd02c_conf2_Frame_cap0_runs/TCGA_Breast_1102/filtering_samples/filters_19May_order_5ge_wAnnot_GPstar/G_TCGA-A2-A0D2-01A-21R-A034-07_02132GA.tsv.gz \n",
      "---------------------------------------------\n",
      " ohsu J_TCGA-A2-A0D2-01A-21R-A034-07_02132GA.tsv\n",
      "TCGAA2A0D201A21RA03407\n"
     ]
    },
    {
     "name": "stderr",
     "output_type": "stream",
     "text": [
      "88it [00:00, 6512.43it/s]\n"
     ]
    },
    {
     "name": "stdout",
     "output_type": "stream",
     "text": [
      "['J', 'TCGA-A2-A0D2-01A-21R-A034-07', '02132GA']\n",
      "['0', '2', '1', '3', '2']\n",
      "2\n",
      "24\n",
      "7\n",
      "6\n",
      "NEXT\n",
      "eth /cluster/work/grlab/projects/projects2020_OHSU/peptides_generation/CANCER_eth/commit_c4dd02c_conf2_Frame_cap0_runs/TCGA_Breast_1102/filtering_samples/filters_19May_order_5ge_wAnnot_GPstar/G_TCGA-BH-A18V-01A-11R-A12D-07_0A132GA.tsv.gz \n",
      "---------------------------------------------\n",
      " ohsu J_TCGA-BH-A18V-01A-11R-A12D-07_0A132GA.tsv\n",
      "eth /cluster/work/grlab/projects/projects2020_OHSU/peptides_generation/CANCER_eth/commit_c4dd02c_conf2_Frame_cap0_runs/TCGA_Breast_1102/filtering_samples/filters_19May_order_5ge_wAnnot_GPstar/G_TCGA-A2-A0SX-01A-12R-A084-07_02512GA.tsv.gz \n",
      "---------------------------------------------\n",
      " ohsu J_TCGA-A2-A0SX-01A-12R-A084-07_02512GA.tsv\n",
      "eth /cluster/work/grlab/projects/projects2020_OHSU/peptides_generation/CANCER_eth/commit_c4dd02c_conf2_Frame_cap0_runs/TCGA_Breast_1102/filtering_samples/filters_19May_order_5ge_wAnnot_GPstar/G_TCGA-AO-A0JM-01A-21R-A056-07_0213XGA.tsv.gz \n",
      "---------------------------------------------\n",
      " ohsu J_TCGA-AO-A0JM-01A-21R-A056-07_0213XGA.tsv\n",
      "eth /cluster/work/grlab/projects/projects2020_OHSU/peptides_generation/CANCER_eth/commit_c4dd02c_conf2_Frame_cap0_runs/TCGA_Breast_1102/filtering_samples/filters_19May_order_5ge_wAnnot_GPstar/G_TCGA-A2-A0SX-01A-12R-A084-07_0251XGA.tsv.gz \n",
      "---------------------------------------------\n",
      " ohsu J_TCGA-A2-A0SX-01A-12R-A084-07_0251XGA.tsv\n",
      "eth /cluster/work/grlab/projects/projects2020_OHSU/peptides_generation/CANCER_eth/commit_c4dd02c_conf2_Frame_cap0_runs/TCGA_Breast_1102/filtering_samples/filters_19May_order_5ge_wAnnot_GPstar/G_TCGA-A2-A0D2-01A-21R-A034-07_0253AGA.tsv.gz \n",
      "---------------------------------------------\n",
      " ohsu J_TCGA-A2-A0D2-01A-21R-A034-07_0253AGA.tsv\n",
      "TCGAA2A0D201A21RA03407\n"
     ]
    },
    {
     "name": "stderr",
     "output_type": "stream",
     "text": [
      "67it [00:00, 6420.05it/s]\n"
     ]
    },
    {
     "name": "stdout",
     "output_type": "stream",
     "text": [
      "['J', 'TCGA-A2-A0D2-01A-21R-A034-07', '0253AGA']\n",
      "['0', '2', '5', '3', 'Any']\n",
      "0\n",
      "8\n",
      "2\n",
      "6\n",
      "NEXT\n",
      "eth /cluster/work/grlab/projects/projects2020_OHSU/peptides_generation/CANCER_eth/commit_c4dd02c_conf2_Frame_cap0_runs/TCGA_Breast_1102/filtering_samples/filters_19May_order_5ge_wAnnot_GPstar/G_TCGA-BH-A18V-01A-11R-A12D-07_0253AGA.tsv.gz \n",
      "---------------------------------------------\n",
      " ohsu J_TCGA-BH-A18V-01A-11R-A12D-07_0253AGA.tsv\n",
      "eth /cluster/work/grlab/projects/projects2020_OHSU/peptides_generation/CANCER_eth/commit_c4dd02c_conf2_Frame_cap0_runs/TCGA_Breast_1102/filtering_samples/filters_19May_order_5ge_wAnnot_GPstar/G_TCGA-A2-A0SX-01A-12R-A084-07_0211AGA.tsv.gz \n",
      "---------------------------------------------\n",
      " ohsu J_TCGA-A2-A0SX-01A-12R-A084-07_0211AGA.tsv\n",
      "eth /cluster/work/grlab/projects/projects2020_OHSU/peptides_generation/CANCER_eth/commit_c4dd02c_conf2_Frame_cap0_runs/TCGA_Breast_1102/filtering_samples/filters_19May_order_5ge_wAnnot_GPstar/G_TCGA-A2-A0SX-01A-12R-A084-07_0AN3AGA.tsv.gz \n",
      "---------------------------------------------\n",
      " ohsu J_TCGA-A2-A0SX-01A-12R-A084-07_0AN3AGA.tsv\n",
      "eth /cluster/work/grlab/projects/projects2020_OHSU/peptides_generation/CANCER_eth/commit_c4dd02c_conf2_Frame_cap0_runs/TCGA_Breast_1102/filtering_samples/filters_19May_order_5ge_wAnnot_GPstar/G_TCGA-A2-A0SX-01A-12R-A084-07_0211XGA.tsv.gz \n",
      "---------------------------------------------\n",
      " ohsu J_TCGA-A2-A0SX-01A-12R-A084-07_0211XGA.tsv\n",
      "eth /cluster/work/grlab/projects/projects2020_OHSU/peptides_generation/CANCER_eth/commit_c4dd02c_conf2_Frame_cap0_runs/TCGA_Breast_1102/filtering_samples/filters_19May_order_5ge_wAnnot_GPstar/G_TCGA-A2-A0D2-01A-21R-A034-07_0A53AGA.tsv.gz \n",
      "---------------------------------------------\n",
      " ohsu J_TCGA-A2-A0D2-01A-21R-A034-07_0A53AGA.tsv\n",
      "TCGAA2A0D201A21RA03407\n"
     ]
    },
    {
     "name": "stderr",
     "output_type": "stream",
     "text": [
      "249it [00:00, 6560.85it/s]\n"
     ]
    },
    {
     "name": "stdout",
     "output_type": "stream",
     "text": [
      "['J', 'TCGA-A2-A0D2-01A-21R-A034-07', '0A53AGA']\n",
      "['0', 'Any', '5', '3', 'Any']\n",
      "0\n",
      "50\n",
      "2\n",
      "31\n",
      "NEXT\n",
      "eth /cluster/work/grlab/projects/projects2020_OHSU/peptides_generation/CANCER_eth/commit_c4dd02c_conf2_Frame_cap0_runs/TCGA_Breast_1102/filtering_samples/filters_19May_order_5ge_wAnnot_GPstar/G_TCGA-AO-A0JM-01A-21R-A056-07_0211XGA.tsv.gz \n",
      "---------------------------------------------\n",
      " ohsu J_TCGA-AO-A0JM-01A-21R-A056-07_0211XGA.tsv\n",
      "eth /cluster/work/grlab/projects/projects2020_OHSU/peptides_generation/CANCER_eth/commit_c4dd02c_conf2_Frame_cap0_runs/TCGA_Breast_1102/filtering_samples/filters_19May_order_5ge_wAnnot_GPstar/G_TCGA-A2-A0SX-01A-12R-A084-07_0A501GA.tsv.gz \n",
      "---------------------------------------------\n",
      " ohsu J_TCGA-A2-A0SX-01A-12R-A084-07_0A501GA.tsv\n",
      "eth /cluster/work/grlab/projects/projects2020_OHSU/peptides_generation/CANCER_eth/commit_c4dd02c_conf2_Frame_cap0_runs/TCGA_Breast_1102/filtering_samples/filters_19May_order_5ge_wAnnot_GPstar/G_TCGA-BH-A18V-01A-11R-A12D-07_0211AGA.tsv.gz \n",
      "---------------------------------------------\n",
      " ohsu J_TCGA-BH-A18V-01A-11R-A12D-07_0211AGA.tsv\n",
      "eth /cluster/work/grlab/projects/projects2020_OHSU/peptides_generation/CANCER_eth/commit_c4dd02c_conf2_Frame_cap0_runs/TCGA_Breast_1102/filtering_samples/filters_19May_order_5ge_wAnnot_GPstar/G_TCGA-A2-A0D2-01A-21R-A034-07_0A11AGA.tsv.gz \n",
      "---------------------------------------------\n",
      " ohsu J_TCGA-A2-A0D2-01A-21R-A034-07_0A11AGA.tsv\n",
      "TCGAA2A0D201A21RA03407\n"
     ]
    },
    {
     "name": "stderr",
     "output_type": "stream",
     "text": [
      "37it [00:00, 6618.73it/s]\n"
     ]
    },
    {
     "name": "stdout",
     "output_type": "stream",
     "text": [
      "['J', 'TCGA-A2-A0D2-01A-21R-A034-07', '0A11AGA']\n",
      "['0', 'Any', '1', '1', 'Any']\n",
      "0\n",
      "64\n",
      "0\n",
      "5\n",
      "NEXT\n",
      "eth /cluster/work/grlab/projects/projects2020_OHSU/peptides_generation/CANCER_eth/commit_c4dd02c_conf2_Frame_cap0_runs/TCGA_Breast_1102/filtering_samples/filters_19May_order_5ge_wAnnot_GPstar/G_TCGA-BH-A18V-01A-11R-A12D-07_02532GA.tsv.gz \n",
      "---------------------------------------------\n",
      " ohsu J_TCGA-BH-A18V-01A-11R-A12D-07_02532GA.tsv\n",
      "eth /cluster/work/grlab/projects/projects2020_OHSU/peptides_generation/CANCER_eth/commit_c4dd02c_conf2_Frame_cap0_runs/TCGA_Breast_1102/filtering_samples/filters_19May_order_5ge_wAnnot_GPstar/G_TCGA-BH-A18V-01A-11R-A12D-07_0AN32GA.tsv.gz \n",
      "---------------------------------------------\n",
      " ohsu J_TCGA-BH-A18V-01A-11R-A12D-07_0AN32GA.tsv\n",
      "eth /cluster/work/grlab/projects/projects2020_OHSU/peptides_generation/CANCER_eth/commit_c4dd02c_conf2_Frame_cap0_runs/TCGA_Breast_1102/filtering_samples/filters_19May_order_5ge_wAnnot_GPstar/G_TCGA-AO-A0JM-01A-21R-A056-07_0A13AGA.tsv.gz \n",
      "---------------------------------------------\n",
      " ohsu J_TCGA-AO-A0JM-01A-21R-A056-07_0A13AGA.tsv\n",
      "eth /cluster/work/grlab/projects/projects2020_OHSU/peptides_generation/CANCER_eth/commit_c4dd02c_conf2_Frame_cap0_runs/TCGA_Breast_1102/filtering_samples/filters_19May_order_5ge_wAnnot_GPstar/G_TCGA-BH-A18V-01A-11R-A12D-07_0213AGA.tsv.gz \n",
      "---------------------------------------------\n",
      " ohsu J_TCGA-BH-A18V-01A-11R-A12D-07_0213AGA.tsv\n",
      "eth /cluster/work/grlab/projects/projects2020_OHSU/peptides_generation/CANCER_eth/commit_c4dd02c_conf2_Frame_cap0_runs/TCGA_Breast_1102/filtering_samples/filters_19May_order_5ge_wAnnot_GPstar/G_TCGA-C8-A12P-01A-11R-A115-07_0A51AGA.tsv.gz \n",
      "---------------------------------------------\n",
      " ohsu J_TCGA-C8-A12P-01A-11R-A115-07_0A51AGA.tsv\n",
      "eth /cluster/work/grlab/projects/projects2020_OHSU/peptides_generation/CANCER_eth/commit_c4dd02c_conf2_Frame_cap0_runs/TCGA_Breast_1102/filtering_samples/filters_19May_order_5ge_wAnnot_GPstar/G_TCGA-A2-A0SX-01A-12R-A084-07_0A13AGA.tsv.gz \n",
      "---------------------------------------------\n",
      " ohsu J_TCGA-A2-A0SX-01A-12R-A084-07_0A13AGA.tsv\n",
      "eth /cluster/work/grlab/projects/projects2020_OHSU/peptides_generation/CANCER_eth/commit_c4dd02c_conf2_Frame_cap0_runs/TCGA_Breast_1102/filtering_samples/filters_19May_order_5ge_wAnnot_GPstar/G_TCGA-C8-A12P-01A-11R-A115-07_0253AGA.tsv.gz \n",
      "---------------------------------------------\n",
      " ohsu J_TCGA-C8-A12P-01A-11R-A115-07_0253AGA.tsv\n",
      "eth /cluster/work/grlab/projects/projects2020_OHSU/peptides_generation/CANCER_eth/commit_c4dd02c_conf2_Frame_cap0_runs/TCGA_Breast_1102/filtering_samples/filters_19May_order_5ge_wAnnot_GPstar/G_TCGA-A2-A0SX-01A-12R-A084-07_0251AGA.tsv.gz \n",
      "---------------------------------------------\n",
      " ohsu J_TCGA-A2-A0SX-01A-12R-A084-07_0251AGA.tsv\n",
      "eth /cluster/work/grlab/projects/projects2020_OHSU/peptides_generation/CANCER_eth/commit_c4dd02c_conf2_Frame_cap0_runs/TCGA_Breast_1102/filtering_samples/filters_19May_order_5ge_wAnnot_GPstar/G_TCGA-C8-A12P-01A-11R-A115-07_0AN01GA.tsv.gz \n",
      "---------------------------------------------\n",
      " ohsu J_TCGA-C8-A12P-01A-11R-A115-07_0AN01GA.tsv\n",
      "eth /cluster/work/grlab/projects/projects2020_OHSU/peptides_generation/CANCER_eth/commit_c4dd02c_conf2_Frame_cap0_runs/TCGA_Breast_1102/filtering_samples/filters_19May_order_5ge_wAnnot_GPstar/G_TCGA-C8-A12P-01A-11R-A115-07_02501GA.tsv.gz \n",
      "---------------------------------------------\n",
      " ohsu J_TCGA-C8-A12P-01A-11R-A115-07_02501GA.tsv\n",
      "eth /cluster/work/grlab/projects/projects2020_OHSU/peptides_generation/CANCER_eth/commit_c4dd02c_conf2_Frame_cap0_runs/TCGA_Breast_1102/filtering_samples/filters_19May_order_5ge_wAnnot_GPstar/G_TCGA-AO-A0JM-01A-21R-A056-07_0A132GA.tsv.gz \n",
      "---------------------------------------------\n",
      " ohsu J_TCGA-AO-A0JM-01A-21R-A056-07_0A132GA.tsv\n",
      "eth /cluster/work/grlab/projects/projects2020_OHSU/peptides_generation/CANCER_eth/commit_c4dd02c_conf2_Frame_cap0_runs/TCGA_Breast_1102/filtering_samples/filters_19May_order_5ge_wAnnot_GPstar/G_TCGA-A2-A0D2-01A-21R-A034-07_0211AGA.tsv.gz \n",
      "---------------------------------------------\n",
      " ohsu J_TCGA-A2-A0D2-01A-21R-A034-07_0211AGA.tsv\n",
      "TCGAA2A0D201A21RA03407\n"
     ]
    },
    {
     "name": "stderr",
     "output_type": "stream",
     "text": [
      "37it [00:00, 6235.50it/s]\n"
     ]
    },
    {
     "name": "stdout",
     "output_type": "stream",
     "text": [
      "['J', 'TCGA-A2-A0D2-01A-21R-A034-07', '0211AGA']\n",
      "['0', '2', '1', '1', 'Any']\n",
      "0\n",
      "15\n",
      "2\n",
      "3\n",
      "NEXT\n",
      "eth /cluster/work/grlab/projects/projects2020_OHSU/peptides_generation/CANCER_eth/commit_c4dd02c_conf2_Frame_cap0_runs/TCGA_Breast_1102/filtering_samples/filters_19May_order_5ge_wAnnot_GPstar/G_TCGA-A2-A0SX-01A-12R-A084-07_0AN12GA.tsv.gz \n",
      "---------------------------------------------\n",
      " ohsu J_TCGA-A2-A0SX-01A-12R-A084-07_0AN12GA.tsv\n",
      "eth /cluster/work/grlab/projects/projects2020_OHSU/peptides_generation/CANCER_eth/commit_c4dd02c_conf2_Frame_cap0_runs/TCGA_Breast_1102/filtering_samples/filters_19May_order_5ge_wAnnot_GPstar/G_TCGA-A2-A0SX-01A-12R-A084-07_0AN01GA.tsv.gz \n",
      "---------------------------------------------\n",
      " ohsu J_TCGA-A2-A0SX-01A-12R-A084-07_0AN01GA.tsv\n",
      "eth /cluster/work/grlab/projects/projects2020_OHSU/peptides_generation/CANCER_eth/commit_c4dd02c_conf2_Frame_cap0_runs/TCGA_Breast_1102/filtering_samples/filters_19May_order_5ge_wAnnot_GPstar/G_TCGA-C8-A12P-01A-11R-A115-07_0A501GA.tsv.gz \n",
      "---------------------------------------------\n",
      " ohsu J_TCGA-C8-A12P-01A-11R-A115-07_0A501GA.tsv\n",
      "eth /cluster/work/grlab/projects/projects2020_OHSU/peptides_generation/CANCER_eth/commit_c4dd02c_conf2_Frame_cap0_runs/TCGA_Breast_1102/filtering_samples/filters_19May_order_5ge_wAnnot_GPstar/G_TCGA-AO-A0JM-01A-21R-A056-07_0A51XGA.tsv.gz \n",
      "---------------------------------------------\n",
      " ohsu J_TCGA-AO-A0JM-01A-21R-A056-07_0A51XGA.tsv\n",
      "eth /cluster/work/grlab/projects/projects2020_OHSU/peptides_generation/CANCER_eth/commit_c4dd02c_conf2_Frame_cap0_runs/TCGA_Breast_1102/filtering_samples/filters_19May_order_5ge_wAnnot_GPstar/G_TCGA-A2-A0D2-01A-21R-A034-07_0A532GA.tsv.gz \n",
      "---------------------------------------------\n",
      " ohsu J_TCGA-A2-A0D2-01A-21R-A034-07_0A532GA.tsv\n",
      "TCGAA2A0D201A21RA03407\n"
     ]
    },
    {
     "name": "stderr",
     "output_type": "stream",
     "text": [
      "35it [00:00, 6521.57it/s]\n"
     ]
    },
    {
     "name": "stdout",
     "output_type": "stream",
     "text": [
      "['J', 'TCGA-A2-A0D2-01A-21R-A034-07', '0A532GA']\n",
      "['0', 'Any', '5', '3', '2']\n",
      "2\n",
      "17\n",
      "1\n",
      "4\n",
      "NEXT\n",
      "eth /cluster/work/grlab/projects/projects2020_OHSU/peptides_generation/CANCER_eth/commit_c4dd02c_conf2_Frame_cap0_runs/TCGA_Breast_1102/filtering_samples/filters_19May_order_5ge_wAnnot_GPstar/G_TCGA-A2-A0D2-01A-21R-A034-07_02101GA.tsv.gz \n",
      "---------------------------------------------\n",
      " ohsu J_TCGA-A2-A0D2-01A-21R-A034-07_02101GA.tsv\n",
      "TCGAA2A0D201A21RA03407\n"
     ]
    },
    {
     "name": "stderr",
     "output_type": "stream",
     "text": [
      "31it [00:00, 6302.64it/s]\n"
     ]
    },
    {
     "name": "stdout",
     "output_type": "stream",
     "text": [
      "['J', 'TCGA-A2-A0D2-01A-21R-A034-07', '02101GA']\n",
      "['0', '2', '1', '0', '1']\n",
      "None\n",
      "15\n",
      "2\n",
      "2\n",
      "NEXT\n",
      "eth /cluster/work/grlab/projects/projects2020_OHSU/peptides_generation/CANCER_eth/commit_c4dd02c_conf2_Frame_cap0_runs/TCGA_Breast_1102/filtering_samples/filters_19May_order_5ge_wAnnot_GPstar/G_TCGA-A2-A0SX-01A-12R-A084-07_0A11AGA.tsv.gz \n",
      "---------------------------------------------\n",
      " ohsu J_TCGA-A2-A0SX-01A-12R-A084-07_0A11AGA.tsv\n",
      "eth /cluster/work/grlab/projects/projects2020_OHSU/peptides_generation/CANCER_eth/commit_c4dd02c_conf2_Frame_cap0_runs/TCGA_Breast_1102/filtering_samples/filters_19May_order_5ge_wAnnot_GPstar/G_TCGA-AO-A0JM-01A-21R-A056-07_0251XGA.tsv.gz \n",
      "---------------------------------------------\n",
      " ohsu J_TCGA-AO-A0JM-01A-21R-A056-07_0251XGA.tsv\n",
      "eth /cluster/work/grlab/projects/projects2020_OHSU/peptides_generation/CANCER_eth/commit_c4dd02c_conf2_Frame_cap0_runs/TCGA_Breast_1102/filtering_samples/filters_19May_order_5ge_wAnnot_GPstar/G_TCGA-AO-A0JM-01A-21R-A056-07_0213AGA.tsv.gz \n",
      "---------------------------------------------\n",
      " ohsu J_TCGA-AO-A0JM-01A-21R-A056-07_0213AGA.tsv\n",
      "eth /cluster/work/grlab/projects/projects2020_OHSU/peptides_generation/CANCER_eth/commit_c4dd02c_conf2_Frame_cap0_runs/TCGA_Breast_1102/filtering_samples/filters_19May_order_5ge_wAnnot_GPstar/G_TCGA-AO-A0JM-01A-21R-A056-07_02101GA.tsv.gz \n",
      "---------------------------------------------\n",
      " ohsu J_TCGA-AO-A0JM-01A-21R-A056-07_02101GA.tsv\n",
      "eth /cluster/work/grlab/projects/projects2020_OHSU/peptides_generation/CANCER_eth/commit_c4dd02c_conf2_Frame_cap0_runs/TCGA_Breast_1102/filtering_samples/filters_19May_order_5ge_wAnnot_GPstar/G_TCGA-BH-A18V-01A-11R-A12D-07_0A53XGA.tsv.gz \n",
      "---------------------------------------------\n",
      " ohsu J_TCGA-BH-A18V-01A-11R-A12D-07_0A53XGA.tsv\n",
      "eth /cluster/work/grlab/projects/projects2020_OHSU/peptides_generation/CANCER_eth/commit_c4dd02c_conf2_Frame_cap0_runs/TCGA_Breast_1102/filtering_samples/filters_19May_order_5ge_wAnnot_GPstar/G_TCGA-BH-A18V-01A-11R-A12D-07_0251AGA.tsv.gz \n",
      "---------------------------------------------\n",
      " ohsu J_TCGA-BH-A18V-01A-11R-A12D-07_0251AGA.tsv\n",
      "eth /cluster/work/grlab/projects/projects2020_OHSU/peptides_generation/CANCER_eth/commit_c4dd02c_conf2_Frame_cap0_runs/TCGA_Breast_1102/filtering_samples/filters_19May_order_5ge_wAnnot_GPstar/G_TCGA-A2-A0SX-01A-12R-A084-07_0A13XGA.tsv.gz \n",
      "---------------------------------------------\n",
      " ohsu J_TCGA-A2-A0SX-01A-12R-A084-07_0A13XGA.tsv\n",
      "eth /cluster/work/grlab/projects/projects2020_OHSU/peptides_generation/CANCER_eth/commit_c4dd02c_conf2_Frame_cap0_runs/TCGA_Breast_1102/filtering_samples/filters_19May_order_5ge_wAnnot_GPstar/G_TCGA-AO-A0JM-01A-21R-A056-07_0AN32GA.tsv.gz \n",
      "---------------------------------------------\n",
      " ohsu J_TCGA-AO-A0JM-01A-21R-A056-07_0AN32GA.tsv\n",
      "eth /cluster/work/grlab/projects/projects2020_OHSU/peptides_generation/CANCER_eth/commit_c4dd02c_conf2_Frame_cap0_runs/TCGA_Breast_1102/filtering_samples/filters_19May_order_5ge_wAnnot_GPstar/G_TCGA-A2-A0D2-01A-21R-A034-07_0A51XGA.tsv.gz \n",
      "---------------------------------------------\n",
      " ohsu J_TCGA-A2-A0D2-01A-21R-A034-07_0A51XGA.tsv\n",
      "TCGAA2A0D201A21RA03407\n"
     ]
    },
    {
     "name": "stderr",
     "output_type": "stream",
     "text": [
      "13it [00:00, 5987.26it/s]\n"
     ]
    },
    {
     "name": "stdout",
     "output_type": "stream",
     "text": [
      "['J', 'TCGA-A2-A0D2-01A-21R-A034-07', '0A51XGA']\n",
      "['0', 'Any', '5', '1', '10']\n",
      "1\n",
      "11\n",
      "0\n",
      "2\n",
      "NEXT\n",
      "eth /cluster/work/grlab/projects/projects2020_OHSU/peptides_generation/CANCER_eth/commit_c4dd02c_conf2_Frame_cap0_runs/TCGA_Breast_1102/filtering_samples/filters_19May_order_5ge_wAnnot_GPstar/G_TCGA-A2-A0D2-01A-21R-A034-07_0A132GA.tsv.gz \n",
      "---------------------------------------------\n",
      " ohsu J_TCGA-A2-A0D2-01A-21R-A034-07_0A132GA.tsv\n",
      "TCGAA2A0D201A21RA03407\n"
     ]
    },
    {
     "name": "stderr",
     "output_type": "stream",
     "text": [
      "95it [00:00, 6489.56it/s]\n"
     ]
    },
    {
     "name": "stdout",
     "output_type": "stream",
     "text": [
      "['J', 'TCGA-A2-A0D2-01A-21R-A034-07', '0A132GA']\n",
      "['0', 'Any', '1', '3', '2']\n",
      "2\n",
      "101\n",
      "1\n",
      "13\n",
      "NEXT\n",
      "eth /cluster/work/grlab/projects/projects2020_OHSU/peptides_generation/CANCER_eth/commit_c4dd02c_conf2_Frame_cap0_runs/TCGA_Breast_1102/filtering_samples/filters_19May_order_5ge_wAnnot_GPstar/G_TCGA-AO-A0JM-01A-21R-A056-07_02512GA.tsv.gz \n",
      "---------------------------------------------\n",
      " ohsu J_TCGA-AO-A0JM-01A-21R-A056-07_02512GA.tsv\n",
      "eth /cluster/work/grlab/projects/projects2020_OHSU/peptides_generation/CANCER_eth/commit_c4dd02c_conf2_Frame_cap0_runs/TCGA_Breast_1102/filtering_samples/filters_19May_order_5ge_wAnnot_GPstar/G_TCGA-A2-A0D2-01A-21R-A034-07_0A512GA.tsv.gz \n",
      "---------------------------------------------\n",
      " ohsu J_TCGA-A2-A0D2-01A-21R-A034-07_0A512GA.tsv\n",
      "TCGAA2A0D201A21RA03407\n"
     ]
    },
    {
     "name": "stderr",
     "output_type": "stream",
     "text": [
      "13it [00:00, 5921.58it/s]\n"
     ]
    },
    {
     "name": "stdout",
     "output_type": "stream",
     "text": [
      "['J', 'TCGA-A2-A0D2-01A-21R-A034-07', '0A512GA']\n",
      "['0', 'Any', '5', '1', '2']\n",
      "2\n",
      "11\n",
      "0\n",
      "2\n",
      "NEXT\n",
      "eth /cluster/work/grlab/projects/projects2020_OHSU/peptides_generation/CANCER_eth/commit_c4dd02c_conf2_Frame_cap0_runs/TCGA_Breast_1102/filtering_samples/filters_19May_order_5ge_wAnnot_GPstar/G_TCGA-AO-A0JM-01A-21R-A056-07_0A512GA.tsv.gz \n",
      "---------------------------------------------\n",
      " ohsu J_TCGA-AO-A0JM-01A-21R-A056-07_0A512GA.tsv\n",
      "eth /cluster/work/grlab/projects/projects2020_OHSU/peptides_generation/CANCER_eth/commit_c4dd02c_conf2_Frame_cap0_runs/TCGA_Breast_1102/filtering_samples/filters_19May_order_5ge_wAnnot_GPstar/G_TCGA-AO-A0JM-01A-21R-A056-07_0A501GA.tsv.gz \n",
      "---------------------------------------------\n",
      " ohsu J_TCGA-AO-A0JM-01A-21R-A056-07_0A501GA.tsv\n",
      "eth /cluster/work/grlab/projects/projects2020_OHSU/peptides_generation/CANCER_eth/commit_c4dd02c_conf2_Frame_cap0_runs/TCGA_Breast_1102/filtering_samples/filters_19May_order_5ge_wAnnot_GPstar/G_TCGA-BH-A18V-01A-11R-A12D-07_0A101GA.tsv.gz \n",
      "---------------------------------------------\n",
      " ohsu J_TCGA-BH-A18V-01A-11R-A12D-07_0A101GA.tsv\n",
      "eth /cluster/work/grlab/projects/projects2020_OHSU/peptides_generation/CANCER_eth/commit_c4dd02c_conf2_Frame_cap0_runs/TCGA_Breast_1102/filtering_samples/filters_19May_order_5ge_wAnnot_GPstar/G_TCGA-A2-A0SX-01A-12R-A084-07_02112GA.tsv.gz \n",
      "---------------------------------------------\n",
      " ohsu J_TCGA-A2-A0SX-01A-12R-A084-07_02112GA.tsv\n",
      "eth /cluster/work/grlab/projects/projects2020_OHSU/peptides_generation/CANCER_eth/commit_c4dd02c_conf2_Frame_cap0_runs/TCGA_Breast_1102/filtering_samples/filters_19May_order_5ge_wAnnot_GPstar/G_TCGA-A2-A0SX-01A-12R-A084-07_0253AGA.tsv.gz \n",
      "---------------------------------------------\n",
      " ohsu J_TCGA-A2-A0SX-01A-12R-A084-07_0253AGA.tsv\n",
      "eth /cluster/work/grlab/projects/projects2020_OHSU/peptides_generation/CANCER_eth/commit_c4dd02c_conf2_Frame_cap0_runs/TCGA_Breast_1102/filtering_samples/filters_19May_order_5ge_wAnnot_GPstar/G_TCGA-AO-A0JM-01A-21R-A056-07_0251AGA.tsv.gz \n",
      "---------------------------------------------\n",
      " ohsu J_TCGA-AO-A0JM-01A-21R-A056-07_0251AGA.tsv\n",
      "eth /cluster/work/grlab/projects/projects2020_OHSU/peptides_generation/CANCER_eth/commit_c4dd02c_conf2_Frame_cap0_runs/TCGA_Breast_1102/filtering_samples/filters_19May_order_5ge_wAnnot_GPstar/G_TCGA-AO-A0JM-01A-21R-A056-07_0AN01GA.tsv.gz \n",
      "---------------------------------------------\n",
      " ohsu J_TCGA-AO-A0JM-01A-21R-A056-07_0AN01GA.tsv\n",
      "eth /cluster/work/grlab/projects/projects2020_OHSU/peptides_generation/CANCER_eth/commit_c4dd02c_conf2_Frame_cap0_runs/TCGA_Breast_1102/filtering_samples/filters_19May_order_5ge_wAnnot_GPstar/G_TCGA-A2-A0D2-01A-21R-A034-07_0AN3XGA.tsv.gz \n",
      "---------------------------------------------\n",
      " ohsu J_TCGA-A2-A0D2-01A-21R-A034-07_0AN3XGA.tsv\n",
      "TCGAA2A0D201A21RA03407\n"
     ]
    },
    {
     "name": "stderr",
     "output_type": "stream",
     "text": [
      "424it [00:00, 6921.94it/s]\n"
     ]
    },
    {
     "name": "stdout",
     "output_type": "stream",
     "text": [
      "['J', 'TCGA-A2-A0D2-01A-21R-A034-07', '0AN3XGA']\n",
      "['0', 'Any', 'None', '3', '10']\n",
      "1\n",
      "950\n",
      "6\n",
      "53\n",
      "NEXT\n",
      "eth /cluster/work/grlab/projects/projects2020_OHSU/peptides_generation/CANCER_eth/commit_c4dd02c_conf2_Frame_cap0_runs/TCGA_Breast_1102/filtering_samples/filters_19May_order_5ge_wAnnot_GPstar/G_TCGA-BH-A18V-01A-11R-A12D-07_0A11XGA.tsv.gz \n",
      "---------------------------------------------\n",
      " ohsu J_TCGA-BH-A18V-01A-11R-A12D-07_0A11XGA.tsv\n",
      "eth /cluster/work/grlab/projects/projects2020_OHSU/peptides_generation/CANCER_eth/commit_c4dd02c_conf2_Frame_cap0_runs/TCGA_Breast_1102/filtering_samples/filters_19May_order_5ge_wAnnot_GPstar/G_TCGA-C8-A12P-01A-11R-A115-07_0213AGA.tsv.gz \n",
      "---------------------------------------------\n",
      " ohsu J_TCGA-C8-A12P-01A-11R-A115-07_0213AGA.tsv\n",
      "eth /cluster/work/grlab/projects/projects2020_OHSU/peptides_generation/CANCER_eth/commit_c4dd02c_conf2_Frame_cap0_runs/TCGA_Breast_1102/filtering_samples/filters_19May_order_5ge_wAnnot_GPstar/G_TCGA-BH-A18V-01A-11R-A12D-07_0253XGA.tsv.gz \n",
      "---------------------------------------------\n",
      " ohsu J_TCGA-BH-A18V-01A-11R-A12D-07_0253XGA.tsv\n",
      "eth /cluster/work/grlab/projects/projects2020_OHSU/peptides_generation/CANCER_eth/commit_c4dd02c_conf2_Frame_cap0_runs/TCGA_Breast_1102/filtering_samples/filters_19May_order_5ge_wAnnot_GPstar/G_TCGA-C8-A12P-01A-11R-A115-07_0AN3AGA.tsv.gz \n",
      "---------------------------------------------\n",
      " ohsu J_TCGA-C8-A12P-01A-11R-A115-07_0AN3AGA.tsv\n",
      "eth /cluster/work/grlab/projects/projects2020_OHSU/peptides_generation/CANCER_eth/commit_c4dd02c_conf2_Frame_cap0_runs/TCGA_Breast_1102/filtering_samples/filters_19May_order_5ge_wAnnot_GPstar/G_TCGA-BH-A18V-01A-11R-A12D-07_0A13AGA.tsv.gz \n",
      "---------------------------------------------\n",
      " ohsu J_TCGA-BH-A18V-01A-11R-A12D-07_0A13AGA.tsv\n",
      "eth /cluster/work/grlab/projects/projects2020_OHSU/peptides_generation/CANCER_eth/commit_c4dd02c_conf2_Frame_cap0_runs/TCGA_Breast_1102/filtering_samples/filters_19May_order_5ge_wAnnot_GPstar/G_TCGA-A2-A0SX-01A-12R-A084-07_02132GA.tsv.gz \n",
      "---------------------------------------------\n",
      " ohsu J_TCGA-A2-A0SX-01A-12R-A084-07_02132GA.tsv\n",
      "eth /cluster/work/grlab/projects/projects2020_OHSU/peptides_generation/CANCER_eth/commit_c4dd02c_conf2_Frame_cap0_runs/TCGA_Breast_1102/filtering_samples/filters_19May_order_5ge_wAnnot_GPstar/G_TCGA-C8-A12P-01A-11R-A115-07_0A51XGA.tsv.gz \n",
      "---------------------------------------------\n",
      " ohsu J_TCGA-C8-A12P-01A-11R-A115-07_0A51XGA.tsv\n",
      "eth /cluster/work/grlab/projects/projects2020_OHSU/peptides_generation/CANCER_eth/commit_c4dd02c_conf2_Frame_cap0_runs/TCGA_Breast_1102/filtering_samples/filters_19May_order_5ge_wAnnot_GPstar/G_TCGA-AO-A0JM-01A-21R-A056-07_02132GA.tsv.gz \n",
      "---------------------------------------------\n",
      " ohsu J_TCGA-AO-A0JM-01A-21R-A056-07_02132GA.tsv\n",
      "eth /cluster/work/grlab/projects/projects2020_OHSU/peptides_generation/CANCER_eth/commit_c4dd02c_conf2_Frame_cap0_runs/TCGA_Breast_1102/filtering_samples/filters_19May_order_5ge_wAnnot_GPstar/G_TCGA-AO-A0JM-01A-21R-A056-07_0A11AGA.tsv.gz \n",
      "---------------------------------------------\n",
      " ohsu J_TCGA-AO-A0JM-01A-21R-A056-07_0A11AGA.tsv\n",
      "eth /cluster/work/grlab/projects/projects2020_OHSU/peptides_generation/CANCER_eth/commit_c4dd02c_conf2_Frame_cap0_runs/TCGA_Breast_1102/filtering_samples/filters_19May_order_5ge_wAnnot_GPstar/G_TCGA-A2-A0D2-01A-21R-A034-07_0A101GA.tsv.gz \n",
      "---------------------------------------------\n",
      " ohsu J_TCGA-A2-A0D2-01A-21R-A034-07_0A101GA.tsv\n",
      "TCGAA2A0D201A21RA03407\n"
     ]
    },
    {
     "name": "stderr",
     "output_type": "stream",
     "text": [
      "31it [00:00, 6245.42it/s]\n"
     ]
    },
    {
     "name": "stdout",
     "output_type": "stream",
     "text": [
      "['J', 'TCGA-A2-A0D2-01A-21R-A034-07', '0A101GA']\n",
      "['0', 'Any', '1', '0', '1']\n",
      "None\n",
      "61\n",
      "0\n",
      "4\n",
      "NEXT\n",
      "eth /cluster/work/grlab/projects/projects2020_OHSU/peptides_generation/CANCER_eth/commit_c4dd02c_conf2_Frame_cap0_runs/TCGA_Breast_1102/filtering_samples/filters_19May_order_5ge_wAnnot_GPstar/G_TCGA-C8-A12P-01A-11R-A115-07_02512GA.tsv.gz \n",
      "---------------------------------------------\n",
      " ohsu J_TCGA-C8-A12P-01A-11R-A115-07_02512GA.tsv\n",
      "eth /cluster/work/grlab/projects/projects2020_OHSU/peptides_generation/CANCER_eth/commit_c4dd02c_conf2_Frame_cap0_runs/TCGA_Breast_1102/filtering_samples/filters_19May_order_5ge_wAnnot_GPstar/G_TCGA-C8-A12P-01A-11R-A115-07_0A112GA.tsv.gz \n",
      "---------------------------------------------\n",
      " ohsu J_TCGA-C8-A12P-01A-11R-A115-07_0A112GA.tsv\n",
      "eth /cluster/work/grlab/projects/projects2020_OHSU/peptides_generation/CANCER_eth/commit_c4dd02c_conf2_Frame_cap0_runs/TCGA_Breast_1102/filtering_samples/filters_19May_order_5ge_wAnnot_GPstar/G_TCGA-BH-A18V-01A-11R-A12D-07_02132GA.tsv.gz \n",
      "---------------------------------------------\n",
      " ohsu J_TCGA-BH-A18V-01A-11R-A12D-07_02132GA.tsv\n",
      "eth /cluster/work/grlab/projects/projects2020_OHSU/peptides_generation/CANCER_eth/commit_c4dd02c_conf2_Frame_cap0_runs/TCGA_Breast_1102/filtering_samples/filters_19May_order_5ge_wAnnot_GPstar/G_TCGA-A2-A0SX-01A-12R-A084-07_0A51XGA.tsv.gz \n",
      "---------------------------------------------\n",
      " ohsu J_TCGA-A2-A0SX-01A-12R-A084-07_0A51XGA.tsv\n",
      "eth /cluster/work/grlab/projects/projects2020_OHSU/peptides_generation/CANCER_eth/commit_c4dd02c_conf2_Frame_cap0_runs/TCGA_Breast_1102/filtering_samples/filters_19May_order_5ge_wAnnot_GPstar/G_TCGA-A2-A0SX-01A-12R-A084-07_0AN32GA.tsv.gz \n",
      "---------------------------------------------\n",
      " ohsu J_TCGA-A2-A0SX-01A-12R-A084-07_0AN32GA.tsv\n",
      "eth /cluster/work/grlab/projects/projects2020_OHSU/peptides_generation/CANCER_eth/commit_c4dd02c_conf2_Frame_cap0_runs/TCGA_Breast_1102/filtering_samples/filters_19May_order_5ge_wAnnot_GPstar/G_TCGA-C8-A12P-01A-11R-A115-07_0AN12GA.tsv.gz \n",
      "---------------------------------------------\n",
      " ohsu J_TCGA-C8-A12P-01A-11R-A115-07_0AN12GA.tsv\n",
      "eth /cluster/work/grlab/projects/projects2020_OHSU/peptides_generation/CANCER_eth/commit_c4dd02c_conf2_Frame_cap0_runs/TCGA_Breast_1102/filtering_samples/filters_19May_order_5ge_wAnnot_GPstar/G_TCGA-C8-A12P-01A-11R-A115-07_02101GA.tsv.gz \n",
      "---------------------------------------------\n",
      " ohsu J_TCGA-C8-A12P-01A-11R-A115-07_02101GA.tsv\n",
      "eth /cluster/work/grlab/projects/projects2020_OHSU/peptides_generation/CANCER_eth/commit_c4dd02c_conf2_Frame_cap0_runs/TCGA_Breast_1102/filtering_samples/filters_19May_order_5ge_wAnnot_GPstar/G_TCGA-C8-A12P-01A-11R-A115-07_0A532GA.tsv.gz \n",
      "---------------------------------------------\n",
      " ohsu J_TCGA-C8-A12P-01A-11R-A115-07_0A532GA.tsv\n",
      "eth /cluster/work/grlab/projects/projects2020_OHSU/peptides_generation/CANCER_eth/commit_c4dd02c_conf2_Frame_cap0_runs/TCGA_Breast_1102/filtering_samples/filters_19May_order_5ge_wAnnot_GPstar/G_TCGA-C8-A12P-01A-11R-A115-07_0A132GA.tsv.gz \n",
      "---------------------------------------------\n",
      " ohsu J_TCGA-C8-A12P-01A-11R-A115-07_0A132GA.tsv\n",
      "eth /cluster/work/grlab/projects/projects2020_OHSU/peptides_generation/CANCER_eth/commit_c4dd02c_conf2_Frame_cap0_runs/TCGA_Breast_1102/filtering_samples/filters_19May_order_5ge_wAnnot_GPstar/G_TCGA-A2-A0SX-01A-12R-A084-07_0A101GA.tsv.gz \n",
      "---------------------------------------------\n",
      " ohsu J_TCGA-A2-A0SX-01A-12R-A084-07_0A101GA.tsv\n",
      "eth /cluster/work/grlab/projects/projects2020_OHSU/peptides_generation/CANCER_eth/commit_c4dd02c_conf2_Frame_cap0_runs/TCGA_Breast_1102/filtering_samples/filters_19May_order_5ge_wAnnot_GPstar/G_TCGA-AO-A0JM-01A-21R-A056-07_0A101GA.tsv.gz \n",
      "---------------------------------------------\n",
      " ohsu J_TCGA-AO-A0JM-01A-21R-A056-07_0A101GA.tsv\n",
      "eth /cluster/work/grlab/projects/projects2020_OHSU/peptides_generation/CANCER_eth/commit_c4dd02c_conf2_Frame_cap0_runs/TCGA_Breast_1102/filtering_samples/filters_19May_order_5ge_wAnnot_GPstar/G_TCGA-A2-A0SX-01A-12R-A084-07_0A112GA.tsv.gz \n",
      "---------------------------------------------\n",
      " ohsu J_TCGA-A2-A0SX-01A-12R-A084-07_0A112GA.tsv\n",
      "eth /cluster/work/grlab/projects/projects2020_OHSU/peptides_generation/CANCER_eth/commit_c4dd02c_conf2_Frame_cap0_runs/TCGA_Breast_1102/filtering_samples/filters_19May_order_5ge_wAnnot_GPstar/G_TCGA-BH-A18V-01A-11R-A12D-07_0AN12GA.tsv.gz \n",
      "---------------------------------------------\n",
      " ohsu J_TCGA-BH-A18V-01A-11R-A12D-07_0AN12GA.tsv\n",
      "eth /cluster/work/grlab/projects/projects2020_OHSU/peptides_generation/CANCER_eth/commit_c4dd02c_conf2_Frame_cap0_runs/TCGA_Breast_1102/filtering_samples/filters_19May_order_5ge_wAnnot_GPstar/G_TCGA-A2-A0D2-01A-21R-A034-07_0AN32GA.tsv.gz \n",
      "---------------------------------------------\n",
      " ohsu J_TCGA-A2-A0D2-01A-21R-A034-07_0AN32GA.tsv\n",
      "TCGAA2A0D201A21RA03407\n"
     ]
    },
    {
     "name": "stderr",
     "output_type": "stream",
     "text": [
      "168it [00:00, 6477.69it/s]\n"
     ]
    },
    {
     "name": "stdout",
     "output_type": "stream",
     "text": [
      "['J', 'TCGA-A2-A0D2-01A-21R-A034-07', '0AN32GA']\n",
      "['0', 'Any', 'None', '3', '2']\n",
      "2\n",
      "681\n",
      "4\n",
      "20\n",
      "NEXT\n",
      "eth /cluster/work/grlab/projects/projects2020_OHSU/peptides_generation/CANCER_eth/commit_c4dd02c_conf2_Frame_cap0_runs/TCGA_Breast_1102/filtering_samples/filters_19May_order_5ge_wAnnot_GPstar/G_TCGA-C8-A12P-01A-11R-A115-07_0A11XGA.tsv.gz \n",
      "---------------------------------------------\n",
      " ohsu J_TCGA-C8-A12P-01A-11R-A115-07_0A11XGA.tsv\n",
      "eth /cluster/work/grlab/projects/projects2020_OHSU/peptides_generation/CANCER_eth/commit_c4dd02c_conf2_Frame_cap0_runs/TCGA_Breast_1102/filtering_samples/filters_19May_order_5ge_wAnnot_GPstar/G_TCGA-AO-A0JM-01A-21R-A056-07_0253XGA.tsv.gz \n",
      "---------------------------------------------\n",
      " ohsu J_TCGA-AO-A0JM-01A-21R-A056-07_0253XGA.tsv\n",
      "eth /cluster/work/grlab/projects/projects2020_OHSU/peptides_generation/CANCER_eth/commit_c4dd02c_conf2_Frame_cap0_runs/TCGA_Breast_1102/filtering_samples/filters_19May_order_5ge_wAnnot_GPstar/G_TCGA-A2-A0SX-01A-12R-A084-07_0A51AGA.tsv.gz \n",
      "---------------------------------------------\n",
      " ohsu J_TCGA-A2-A0SX-01A-12R-A084-07_0A51AGA.tsv\n",
      "eth /cluster/work/grlab/projects/projects2020_OHSU/peptides_generation/CANCER_eth/commit_c4dd02c_conf2_Frame_cap0_runs/TCGA_Breast_1102/filtering_samples/filters_19May_order_5ge_wAnnot_GPstar/G_TCGA-C8-A12P-01A-11R-A115-07_0A11AGA.tsv.gz \n",
      "---------------------------------------------\n",
      " ohsu J_TCGA-C8-A12P-01A-11R-A115-07_0A11AGA.tsv\n",
      "eth /cluster/work/grlab/projects/projects2020_OHSU/peptides_generation/CANCER_eth/commit_c4dd02c_conf2_Frame_cap0_runs/TCGA_Breast_1102/filtering_samples/filters_19May_order_5ge_wAnnot_GPstar/G_TCGA-A2-A0D2-01A-21R-A034-07_0A13XGA.tsv.gz \n",
      "---------------------------------------------\n",
      " ohsu J_TCGA-A2-A0D2-01A-21R-A034-07_0A13XGA.tsv\n",
      "TCGAA2A0D201A21RA03407\n"
     ]
    },
    {
     "name": "stderr",
     "output_type": "stream",
     "text": [
      "339it [00:00, 6528.29it/s]\n"
     ]
    },
    {
     "name": "stdout",
     "output_type": "stream",
     "text": [
      "['J', 'TCGA-A2-A0D2-01A-21R-A034-07', '0A13XGA']\n",
      "['0', 'Any', '1', '3', '10']\n",
      "1\n",
      "230\n",
      "3\n",
      "43\n",
      "NEXT\n",
      "eth /cluster/work/grlab/projects/projects2020_OHSU/peptides_generation/CANCER_eth/commit_c4dd02c_conf2_Frame_cap0_runs/TCGA_Breast_1102/filtering_samples/filters_19May_order_5ge_wAnnot_GPstar/G_TCGA-C8-A12P-01A-11R-A115-07_0251AGA.tsv.gz \n",
      "---------------------------------------------\n",
      " ohsu J_TCGA-C8-A12P-01A-11R-A115-07_0251AGA.tsv\n",
      "eth /cluster/work/grlab/projects/projects2020_OHSU/peptides_generation/CANCER_eth/commit_c4dd02c_conf2_Frame_cap0_runs/TCGA_Breast_1102/filtering_samples/filters_19May_order_5ge_wAnnot_GPstar/G_TCGA-AO-A0JM-01A-21R-A056-07_0A112GA.tsv.gz \n",
      "---------------------------------------------\n",
      " ohsu J_TCGA-AO-A0JM-01A-21R-A056-07_0A112GA.tsv\n",
      "eth /cluster/work/grlab/projects/projects2020_OHSU/peptides_generation/CANCER_eth/commit_c4dd02c_conf2_Frame_cap0_runs/TCGA_Breast_1102/filtering_samples/filters_19May_order_5ge_wAnnot_GPstar/G_TCGA-BH-A18V-01A-11R-A12D-07_0A53AGA.tsv.gz \n",
      "---------------------------------------------\n",
      " ohsu J_TCGA-BH-A18V-01A-11R-A12D-07_0A53AGA.tsv\n",
      "eth /cluster/work/grlab/projects/projects2020_OHSU/peptides_generation/CANCER_eth/commit_c4dd02c_conf2_Frame_cap0_runs/TCGA_Breast_1102/filtering_samples/filters_19May_order_5ge_wAnnot_GPstar/G_TCGA-A2-A0D2-01A-21R-A034-07_0213XGA.tsv.gz \n",
      "---------------------------------------------\n",
      " ohsu J_TCGA-A2-A0D2-01A-21R-A034-07_0213XGA.tsv\n",
      "TCGAA2A0D201A21RA03407\n"
     ]
    },
    {
     "name": "stderr",
     "output_type": "stream",
     "text": [
      "294it [00:00, 6516.92it/s]\n"
     ]
    },
    {
     "name": "stdout",
     "output_type": "stream",
     "text": [
      "['J', 'TCGA-A2-A0D2-01A-21R-A034-07', '0213XGA']\n",
      "['0', '2', '1', '3', '10']\n",
      "1\n",
      "36\n",
      "21\n",
      "20\n",
      "NEXT\n",
      "eth /cluster/work/grlab/projects/projects2020_OHSU/peptides_generation/CANCER_eth/commit_c4dd02c_conf2_Frame_cap0_runs/TCGA_Breast_1102/filtering_samples/filters_19May_order_5ge_wAnnot_GPstar/G_TCGA-A2-A0SX-01A-12R-A084-07_0A132GA.tsv.gz \n",
      "---------------------------------------------\n",
      " ohsu J_TCGA-A2-A0SX-01A-12R-A084-07_0A132GA.tsv\n",
      "eth /cluster/work/grlab/projects/projects2020_OHSU/peptides_generation/CANCER_eth/commit_c4dd02c_conf2_Frame_cap0_runs/TCGA_Breast_1102/filtering_samples/filters_19May_order_5ge_wAnnot_GPstar/G_TCGA-A2-A0D2-01A-21R-A034-07_0A112GA.tsv.gz \n",
      "---------------------------------------------\n",
      " ohsu J_TCGA-A2-A0D2-01A-21R-A034-07_0A112GA.tsv\n",
      "TCGAA2A0D201A21RA03407\n"
     ]
    },
    {
     "name": "stderr",
     "output_type": "stream",
     "text": [
      "37it [00:00, 6245.79it/s]\n"
     ]
    },
    {
     "name": "stdout",
     "output_type": "stream",
     "text": [
      "['J', 'TCGA-A2-A0D2-01A-21R-A034-07', '0A112GA']\n",
      "['0', 'Any', '1', '1', '2']\n",
      "2\n",
      "64\n",
      "0\n",
      "5\n",
      "NEXT\n",
      "eth /cluster/work/grlab/projects/projects2020_OHSU/peptides_generation/CANCER_eth/commit_c4dd02c_conf2_Frame_cap0_runs/TCGA_Breast_1102/filtering_samples/filters_19May_order_5ge_wAnnot_GPstar/G_TCGA-C8-A12P-01A-11R-A115-07_02532GA.tsv.gz \n",
      "---------------------------------------------\n",
      " ohsu J_TCGA-C8-A12P-01A-11R-A115-07_02532GA.tsv\n",
      "eth /cluster/work/grlab/projects/projects2020_OHSU/peptides_generation/CANCER_eth/commit_c4dd02c_conf2_Frame_cap0_runs/TCGA_Breast_1102/filtering_samples/filters_19May_order_5ge_wAnnot_GPstar/G_TCGA-AO-A0JM-01A-21R-A056-07_0A53AGA.tsv.gz \n",
      "---------------------------------------------\n",
      " ohsu J_TCGA-AO-A0JM-01A-21R-A056-07_0A53AGA.tsv\n",
      "eth /cluster/work/grlab/projects/projects2020_OHSU/peptides_generation/CANCER_eth/commit_c4dd02c_conf2_Frame_cap0_runs/TCGA_Breast_1102/filtering_samples/filters_19May_order_5ge_wAnnot_GPstar/G_TCGA-A2-A0SX-01A-12R-A084-07_0AN1XGA.tsv.gz \n",
      "---------------------------------------------\n",
      " ohsu J_TCGA-A2-A0SX-01A-12R-A084-07_0AN1XGA.tsv\n",
      "eth /cluster/work/grlab/projects/projects2020_OHSU/peptides_generation/CANCER_eth/commit_c4dd02c_conf2_Frame_cap0_runs/TCGA_Breast_1102/filtering_samples/filters_19May_order_5ge_wAnnot_GPstar/G_TCGA-A2-A0D2-01A-21R-A034-07_02501GA.tsv.gz \n",
      "---------------------------------------------\n",
      " ohsu J_TCGA-A2-A0D2-01A-21R-A034-07_02501GA.tsv\n",
      "eth /cluster/work/grlab/projects/projects2020_OHSU/peptides_generation/CANCER_eth/commit_c4dd02c_conf2_Frame_cap0_runs/TCGA_Breast_1102/filtering_samples/filters_19May_order_5ge_wAnnot_GPstar/G_TCGA-C8-A12P-01A-11R-A115-07_0A512GA.tsv.gz \n",
      "---------------------------------------------\n",
      " ohsu J_TCGA-C8-A12P-01A-11R-A115-07_0A512GA.tsv\n",
      "eth /cluster/work/grlab/projects/projects2020_OHSU/peptides_generation/CANCER_eth/commit_c4dd02c_conf2_Frame_cap0_runs/TCGA_Breast_1102/filtering_samples/filters_19May_order_5ge_wAnnot_GPstar/G_TCGA-A2-A0D2-01A-21R-A034-07_0A501GA.tsv.gz \n",
      "---------------------------------------------\n",
      " ohsu J_TCGA-A2-A0D2-01A-21R-A034-07_0A501GA.tsv\n",
      "eth /cluster/work/grlab/projects/projects2020_OHSU/peptides_generation/CANCER_eth/commit_c4dd02c_conf2_Frame_cap0_runs/TCGA_Breast_1102/filtering_samples/filters_19May_order_5ge_wAnnot_GPstar/G_TCGA-AO-A0JM-01A-21R-A056-07_0A11XGA.tsv.gz \n",
      "---------------------------------------------\n",
      " ohsu J_TCGA-AO-A0JM-01A-21R-A056-07_0A11XGA.tsv\n",
      "eth /cluster/work/grlab/projects/projects2020_OHSU/peptides_generation/CANCER_eth/commit_c4dd02c_conf2_Frame_cap0_runs/TCGA_Breast_1102/filtering_samples/filters_19May_order_5ge_wAnnot_GPstar/G_TCGA-A2-A0D2-01A-21R-A034-07_0251AGA.tsv.gz \n",
      "---------------------------------------------\n",
      " ohsu J_TCGA-A2-A0D2-01A-21R-A034-07_0251AGA.tsv\n",
      "eth /cluster/work/grlab/projects/projects2020_OHSU/peptides_generation/CANCER_eth/commit_c4dd02c_conf2_Frame_cap0_runs/TCGA_Breast_1102/filtering_samples/filters_19May_order_5ge_wAnnot_GPstar/G_TCGA-C8-A12P-01A-11R-A115-07_0AN1AGA.tsv.gz \n",
      "---------------------------------------------\n",
      " ohsu J_TCGA-C8-A12P-01A-11R-A115-07_0AN1AGA.tsv\n",
      "eth /cluster/work/grlab/projects/projects2020_OHSU/peptides_generation/CANCER_eth/commit_c4dd02c_conf2_Frame_cap0_runs/TCGA_Breast_1102/filtering_samples/filters_19May_order_5ge_wAnnot_GPstar/G_TCGA-C8-A12P-01A-11R-A115-07_0A53AGA.tsv.gz \n",
      "---------------------------------------------\n",
      " ohsu J_TCGA-C8-A12P-01A-11R-A115-07_0A53AGA.tsv\n",
      "eth /cluster/work/grlab/projects/projects2020_OHSU/peptides_generation/CANCER_eth/commit_c4dd02c_conf2_Frame_cap0_runs/TCGA_Breast_1102/filtering_samples/filters_19May_order_5ge_wAnnot_GPstar/G_TCGA-C8-A12P-01A-11R-A115-07_02112GA.tsv.gz \n",
      "---------------------------------------------\n",
      " ohsu J_TCGA-C8-A12P-01A-11R-A115-07_02112GA.tsv\n",
      "eth /cluster/work/grlab/projects/projects2020_OHSU/peptides_generation/CANCER_eth/commit_c4dd02c_conf2_Frame_cap0_runs/TCGA_Breast_1102/filtering_samples/filters_19May_order_5ge_wAnnot_GPstar/G_TCGA-BH-A18V-01A-11R-A12D-07_02101GA.tsv.gz \n",
      "---------------------------------------------\n",
      " ohsu J_TCGA-BH-A18V-01A-11R-A12D-07_02101GA.tsv\n",
      "eth /cluster/work/grlab/projects/projects2020_OHSU/peptides_generation/CANCER_eth/commit_c4dd02c_conf2_Frame_cap0_runs/TCGA_Breast_1102/filtering_samples/filters_19May_order_5ge_wAnnot_GPstar/G_TCGA-A2-A0D2-01A-21R-A034-07_0AN12GA.tsv.gz \n",
      "---------------------------------------------\n",
      " ohsu J_TCGA-A2-A0D2-01A-21R-A034-07_0AN12GA.tsv\n",
      "eth /cluster/work/grlab/projects/projects2020_OHSU/peptides_generation/CANCER_eth/commit_c4dd02c_conf2_Frame_cap0_runs/TCGA_Breast_1102/filtering_samples/filters_19May_order_5ge_wAnnot_GPstar/G_TCGA-BH-A18V-01A-11R-A12D-07_02512GA.tsv.gz \n",
      "---------------------------------------------\n",
      " ohsu J_TCGA-BH-A18V-01A-11R-A12D-07_02512GA.tsv\n",
      "eth /cluster/work/grlab/projects/projects2020_OHSU/peptides_generation/CANCER_eth/commit_c4dd02c_conf2_Frame_cap0_runs/TCGA_Breast_1102/filtering_samples/filters_19May_order_5ge_wAnnot_GPstar/G_TCGA-C8-A12P-01A-11R-A115-07_0AN3XGA.tsv.gz \n",
      "---------------------------------------------\n",
      " ohsu J_TCGA-C8-A12P-01A-11R-A115-07_0AN3XGA.tsv\n",
      "eth /cluster/work/grlab/projects/projects2020_OHSU/peptides_generation/CANCER_eth/commit_c4dd02c_conf2_Frame_cap0_runs/TCGA_Breast_1102/filtering_samples/filters_19May_order_5ge_wAnnot_GPstar/G_TCGA-BH-A18V-01A-11R-A12D-07_02501GA.tsv.gz \n",
      "---------------------------------------------\n",
      " ohsu J_TCGA-BH-A18V-01A-11R-A12D-07_02501GA.tsv\n",
      "eth /cluster/work/grlab/projects/projects2020_OHSU/peptides_generation/CANCER_eth/commit_c4dd02c_conf2_Frame_cap0_runs/TCGA_Breast_1102/filtering_samples/filters_19May_order_5ge_wAnnot_GPstar/G_TCGA-C8-A12P-01A-11R-A115-07_0AN1XGA.tsv.gz \n",
      "---------------------------------------------\n",
      " ohsu J_TCGA-C8-A12P-01A-11R-A115-07_0AN1XGA.tsv\n",
      "eth /cluster/work/grlab/projects/projects2020_OHSU/peptides_generation/CANCER_eth/commit_c4dd02c_conf2_Frame_cap0_runs/TCGA_Breast_1102/filtering_samples/filters_19May_order_5ge_wAnnot_GPstar/G_TCGA-A2-A0D2-01A-21R-A034-07_0253XGA.tsv.gz \n",
      "---------------------------------------------\n",
      " ohsu J_TCGA-A2-A0D2-01A-21R-A034-07_0253XGA.tsv\n",
      "eth /cluster/work/grlab/projects/projects2020_OHSU/peptides_generation/CANCER_eth/commit_c4dd02c_conf2_Frame_cap0_runs/TCGA_Breast_1102/filtering_samples/filters_19May_order_5ge_wAnnot_GPstar/G_TCGA-AO-A0JM-01A-21R-A056-07_0AN12GA.tsv.gz \n",
      "---------------------------------------------\n",
      " ohsu J_TCGA-AO-A0JM-01A-21R-A056-07_0AN12GA.tsv\n",
      "eth /cluster/work/grlab/projects/projects2020_OHSU/peptides_generation/CANCER_eth/commit_c4dd02c_conf2_Frame_cap0_runs/TCGA_Breast_1102/filtering_samples/filters_19May_order_5ge_wAnnot_GPstar/G_TCGA-A2-A0SX-01A-12R-A084-07_0A11XGA.tsv.gz \n",
      "---------------------------------------------\n",
      " ohsu J_TCGA-A2-A0SX-01A-12R-A084-07_0A11XGA.tsv\n",
      "TCGAA2A0SX01A12RA08407\n"
     ]
    },
    {
     "name": "stderr",
     "output_type": "stream",
     "text": [
      "149it [00:00, 6820.01it/s]\n"
     ]
    },
    {
     "name": "stdout",
     "output_type": "stream",
     "text": [
      "['J', 'TCGA-A2-A0SX-01A-12R-A084-07', '0A11XGA']\n",
      "['0', 'Any', '1', '1', '10']\n",
      "1\n",
      "64\n",
      "2\n",
      "8\n",
      "NEXT\n",
      "eth /cluster/work/grlab/projects/projects2020_OHSU/peptides_generation/CANCER_eth/commit_c4dd02c_conf2_Frame_cap0_runs/TCGA_Breast_1102/filtering_samples/filters_19May_order_5ge_wAnnot_GPstar/G_TCGA-AO-A0JM-01A-21R-A056-07_02501GA.tsv.gz \n",
      "---------------------------------------------\n",
      " ohsu J_TCGA-AO-A0JM-01A-21R-A056-07_02501GA.tsv\n",
      "eth /cluster/work/grlab/projects/projects2020_OHSU/peptides_generation/CANCER_eth/commit_c4dd02c_conf2_Frame_cap0_runs/TCGA_Breast_1102/filtering_samples/filters_19May_order_5ge_wAnnot_GPstar/G_TCGA-BH-A18V-01A-11R-A12D-07_0251XGA.tsv.gz \n",
      "---------------------------------------------\n",
      " ohsu J_TCGA-BH-A18V-01A-11R-A12D-07_0251XGA.tsv\n",
      "eth /cluster/work/grlab/projects/projects2020_OHSU/peptides_generation/CANCER_eth/commit_c4dd02c_conf2_Frame_cap0_runs/TCGA_Breast_1102/filtering_samples/filters_19May_order_5ge_wAnnot_GPstar/G_TCGA-AO-A0JM-01A-21R-A056-07_0AN1AGA.tsv.gz \n",
      "---------------------------------------------\n",
      " ohsu J_TCGA-AO-A0JM-01A-21R-A056-07_0AN1AGA.tsv\n",
      "eth /cluster/work/grlab/projects/projects2020_OHSU/peptides_generation/CANCER_eth/commit_c4dd02c_conf2_Frame_cap0_runs/TCGA_Breast_1102/filtering_samples/filters_19May_order_5ge_wAnnot_GPstar/G_TCGA-A2-A0SX-01A-12R-A084-07_02532GA.tsv.gz \n",
      "---------------------------------------------\n",
      " ohsu J_TCGA-A2-A0SX-01A-12R-A084-07_02532GA.tsv\n",
      "TCGAA2A0SX01A12RA08407\n"
     ]
    },
    {
     "name": "stderr",
     "output_type": "stream",
     "text": [
      "38it [00:00, 6582.02it/s]\n"
     ]
    },
    {
     "name": "stdout",
     "output_type": "stream",
     "text": [
      "['J', 'TCGA-A2-A0SX-01A-12R-A084-07', '02532GA']\n",
      "['0', '2', '5', '3', '2']\n",
      "2\n",
      "2\n",
      "1\n",
      "2\n",
      "NEXT\n",
      "eth /cluster/work/grlab/projects/projects2020_OHSU/peptides_generation/CANCER_eth/commit_c4dd02c_conf2_Frame_cap0_runs/TCGA_Breast_1102/filtering_samples/filters_19May_order_5ge_wAnnot_GPstar/G_TCGA-AO-A0JM-01A-21R-A056-07_0AN1XGA.tsv.gz \n",
      "---------------------------------------------\n",
      " ohsu J_TCGA-AO-A0JM-01A-21R-A056-07_0AN1XGA.tsv\n",
      "eth /cluster/work/grlab/projects/projects2020_OHSU/peptides_generation/CANCER_eth/commit_c4dd02c_conf2_Frame_cap0_runs/TCGA_Breast_1102/filtering_samples/filters_19May_order_5ge_wAnnot_GPstar/G_TCGA-BH-A18V-01A-11R-A12D-07_0AN3AGA.tsv.gz \n",
      "---------------------------------------------\n",
      " ohsu J_TCGA-BH-A18V-01A-11R-A12D-07_0AN3AGA.tsv\n",
      "eth /cluster/work/grlab/projects/projects2020_OHSU/peptides_generation/CANCER_eth/commit_c4dd02c_conf2_Frame_cap0_runs/TCGA_Breast_1102/filtering_samples/filters_19May_order_5ge_wAnnot_GPstar/G_TCGA-BH-A18V-01A-11R-A12D-07_0211XGA.tsv.gz \n",
      "---------------------------------------------\n",
      " ohsu J_TCGA-BH-A18V-01A-11R-A12D-07_0211XGA.tsv\n",
      "eth /cluster/work/grlab/projects/projects2020_OHSU/peptides_generation/CANCER_eth/commit_c4dd02c_conf2_Frame_cap0_runs/TCGA_Breast_1102/filtering_samples/filters_19May_order_5ge_wAnnot_GPstar/G_TCGA-C8-A12P-01A-11R-A115-07_0A101GA.tsv.gz \n",
      "---------------------------------------------\n",
      " ohsu J_TCGA-C8-A12P-01A-11R-A115-07_0A101GA.tsv\n",
      "eth /cluster/work/grlab/projects/projects2020_OHSU/peptides_generation/CANCER_eth/commit_c4dd02c_conf2_Frame_cap0_runs/TCGA_Breast_1102/filtering_samples/filters_19May_order_5ge_wAnnot_GPstar/G_TCGA-A2-A0SX-01A-12R-A084-07_0A512GA.tsv.gz \n",
      "---------------------------------------------\n",
      " ohsu J_TCGA-A2-A0SX-01A-12R-A084-07_0A512GA.tsv\n",
      "TCGAA2A0SX01A12RA08407\n"
     ]
    },
    {
     "name": "stderr",
     "output_type": "stream",
     "text": [
      "77it [00:00, 6710.19it/s]\n"
     ]
    },
    {
     "name": "stdout",
     "output_type": "stream",
     "text": [
      "['J', 'TCGA-A2-A0SX-01A-12R-A084-07', '0A512GA']\n",
      "['0', 'Any', '5', '1', '2']\n",
      "2\n",
      "10\n",
      "2\n",
      "3\n",
      "NEXT\n",
      "eth /cluster/work/grlab/projects/projects2020_OHSU/peptides_generation/CANCER_eth/commit_c4dd02c_conf2_Frame_cap0_runs/TCGA_Breast_1102/filtering_samples/filters_19May_order_5ge_wAnnot_GPstar/G_TCGA-A2-A0SX-01A-12R-A084-07_0AN3XGA.tsv.gz \n",
      "---------------------------------------------\n",
      " ohsu J_TCGA-A2-A0SX-01A-12R-A084-07_0AN3XGA.tsv\n",
      "TCGAA2A0SX01A12RA08407\n"
     ]
    },
    {
     "name": "stderr",
     "output_type": "stream",
     "text": [
      "807it [00:00, 6726.82it/s]\n"
     ]
    },
    {
     "name": "stdout",
     "output_type": "stream",
     "text": [
      "['J', 'TCGA-A2-A0SX-01A-12R-A084-07', '0AN3XGA']\n",
      "['0', 'Any', 'None', '3', '10']\n",
      "1\n",
      "890\n",
      "12\n",
      "64\n",
      "NEXT\n",
      "eth /cluster/work/grlab/projects/projects2020_OHSU/peptides_generation/CANCER_eth/commit_c4dd02c_conf2_Frame_cap0_runs/TCGA_Breast_1102/filtering_samples/filters_19May_order_5ge_wAnnot_GPstar/G_TCGA-AO-A0JM-01A-21R-A056-07_0A51AGA.tsv.gz \n",
      "---------------------------------------------\n",
      " ohsu J_TCGA-AO-A0JM-01A-21R-A056-07_0A51AGA.tsv\n",
      "eth /cluster/work/grlab/projects/projects2020_OHSU/peptides_generation/CANCER_eth/commit_c4dd02c_conf2_Frame_cap0_runs/TCGA_Breast_1102/filtering_samples/filters_19May_order_5ge_wAnnot_GPstar/G_TCGA-AO-A0JM-01A-21R-A056-07_0A13XGA.tsv.gz \n",
      "---------------------------------------------\n",
      " ohsu J_TCGA-AO-A0JM-01A-21R-A056-07_0A13XGA.tsv\n",
      "eth /cluster/work/grlab/projects/projects2020_OHSU/peptides_generation/CANCER_eth/commit_c4dd02c_conf2_Frame_cap0_runs/TCGA_Breast_1102/filtering_samples/filters_19May_order_5ge_wAnnot_GPstar/G_TCGA-A2-A0D2-01A-21R-A034-07_0A13AGA.tsv.gz \n",
      "---------------------------------------------\n",
      " ohsu J_TCGA-A2-A0D2-01A-21R-A034-07_0A13AGA.tsv\n",
      "eth /cluster/work/grlab/projects/projects2020_OHSU/peptides_generation/CANCER_eth/commit_c4dd02c_conf2_Frame_cap0_runs/TCGA_Breast_1102/filtering_samples/filters_19May_order_5ge_wAnnot_GPstar/G_TCGA-BH-A18V-01A-11R-A12D-07_0A532GA.tsv.gz \n",
      "---------------------------------------------\n",
      " ohsu J_TCGA-BH-A18V-01A-11R-A12D-07_0A532GA.tsv\n",
      "eth /cluster/work/grlab/projects/projects2020_OHSU/peptides_generation/CANCER_eth/commit_c4dd02c_conf2_Frame_cap0_runs/TCGA_Breast_1102/filtering_samples/filters_19May_order_5ge_wAnnot_GPstar/G_TCGA-AO-A0JM-01A-21R-A056-07_0AN3XGA.tsv.gz \n",
      "---------------------------------------------\n",
      " ohsu J_TCGA-AO-A0JM-01A-21R-A056-07_0AN3XGA.tsv\n",
      "eth /cluster/work/grlab/projects/projects2020_OHSU/peptides_generation/CANCER_eth/commit_c4dd02c_conf2_Frame_cap0_runs/TCGA_Breast_1102/filtering_samples/filters_19May_order_5ge_wAnnot_GPstar/G_TCGA-C8-A12P-01A-11R-A115-07_0AN32GA.tsv.gz \n",
      "---------------------------------------------\n",
      " ohsu J_TCGA-C8-A12P-01A-11R-A115-07_0AN32GA.tsv\n",
      "eth /cluster/work/grlab/projects/projects2020_OHSU/peptides_generation/CANCER_eth/commit_c4dd02c_conf2_Frame_cap0_runs/TCGA_Breast_1102/filtering_samples/filters_19May_order_5ge_wAnnot_GPstar/G_TCGA-AO-A0JM-01A-21R-A056-07_0A53XGA.tsv.gz \n",
      "---------------------------------------------\n",
      " ohsu J_TCGA-AO-A0JM-01A-21R-A056-07_0A53XGA.tsv\n",
      "eth /cluster/work/grlab/projects/projects2020_OHSU/peptides_generation/CANCER_eth/commit_c4dd02c_conf2_Frame_cap0_runs/TCGA_Breast_1102/filtering_samples/filters_19May_order_5ge_wAnnot_GPstar/G_TCGA-C8-A12P-01A-11R-A115-07_0A13AGA.tsv.gz \n",
      "---------------------------------------------\n",
      " ohsu J_TCGA-C8-A12P-01A-11R-A115-07_0A13AGA.tsv\n",
      "eth /cluster/work/grlab/projects/projects2020_OHSU/peptides_generation/CANCER_eth/commit_c4dd02c_conf2_Frame_cap0_runs/TCGA_Breast_1102/filtering_samples/filters_19May_order_5ge_wAnnot_GPstar/G_TCGA-A2-A0D2-01A-21R-A034-07_02112GA.tsv.gz \n",
      "---------------------------------------------\n",
      " ohsu J_TCGA-A2-A0D2-01A-21R-A034-07_02112GA.tsv\n",
      "eth /cluster/work/grlab/projects/projects2020_OHSU/peptides_generation/CANCER_eth/commit_c4dd02c_conf2_Frame_cap0_runs/TCGA_Breast_1102/filtering_samples/filters_19May_order_5ge_wAnnot_GPstar/G_TCGA-BH-A18V-01A-11R-A12D-07_0213XGA.tsv.gz \n",
      "---------------------------------------------\n",
      " ohsu J_TCGA-BH-A18V-01A-11R-A12D-07_0213XGA.tsv\n",
      "eth /cluster/work/grlab/projects/projects2020_OHSU/peptides_generation/CANCER_eth/commit_c4dd02c_conf2_Frame_cap0_runs/TCGA_Breast_1102/filtering_samples/filters_19May_order_5ge_wAnnot_GPstar/G_TCGA-A2-A0SX-01A-12R-A084-07_0A53AGA.tsv.gz \n",
      "---------------------------------------------\n",
      " ohsu J_TCGA-A2-A0SX-01A-12R-A084-07_0A53AGA.tsv\n",
      "TCGAA2A0SX01A12RA08407\n"
     ]
    },
    {
     "name": "stderr",
     "output_type": "stream",
     "text": [
      "306it [00:00, 6496.94it/s]\n"
     ]
    },
    {
     "name": "stdout",
     "output_type": "stream",
     "text": [
      "['J', 'TCGA-A2-A0SX-01A-12R-A084-07', '0A53AGA']\n",
      "['0', 'Any', '5', '3', 'Any']\n",
      "0\n",
      "66\n",
      "6\n",
      "26\n",
      "NEXT\n",
      "eth /cluster/work/grlab/projects/projects2020_OHSU/peptides_generation/CANCER_eth/commit_c4dd02c_conf2_Frame_cap0_runs/TCGA_Breast_1102/filtering_samples/filters_19May_order_5ge_wAnnot_GPstar/G_TCGA-BH-A18V-01A-11R-A12D-07_0AN3XGA.tsv.gz \n",
      "---------------------------------------------\n",
      " ohsu J_TCGA-BH-A18V-01A-11R-A12D-07_0AN3XGA.tsv\n",
      "eth /cluster/work/grlab/projects/projects2020_OHSU/peptides_generation/CANCER_eth/commit_c4dd02c_conf2_Frame_cap0_runs/TCGA_Breast_1102/filtering_samples/filters_19May_order_5ge_wAnnot_GPstar/G_TCGA-A2-A0D2-01A-21R-A034-07_0213AGA.tsv.gz \n",
      "---------------------------------------------\n",
      " ohsu J_TCGA-A2-A0D2-01A-21R-A034-07_0213AGA.tsv\n",
      "eth /cluster/work/grlab/projects/projects2020_OHSU/peptides_generation/CANCER_eth/commit_c4dd02c_conf2_Frame_cap0_runs/TCGA_Breast_1102/filtering_samples/filters_19May_order_5ge_wAnnot_GPstar/G_TCGA-A2-A0D2-01A-21R-A034-07_0A51AGA.tsv.gz \n",
      "---------------------------------------------\n",
      " ohsu J_TCGA-A2-A0D2-01A-21R-A034-07_0A51AGA.tsv\n",
      "eth /cluster/work/grlab/projects/projects2020_OHSU/peptides_generation/CANCER_eth/commit_c4dd02c_conf2_Frame_cap0_runs/TCGA_Breast_1102/filtering_samples/filters_19May_order_5ge_wAnnot_GPstar/G_TCGA-A2-A0SX-01A-12R-A084-07_0AN1AGA.tsv.gz \n",
      "---------------------------------------------\n",
      " ohsu J_TCGA-A2-A0SX-01A-12R-A084-07_0AN1AGA.tsv\n",
      "TCGAA2A0SX01A12RA08407\n"
     ]
    },
    {
     "name": "stderr",
     "output_type": "stream",
     "text": [
      "447it [00:00, 6820.20it/s]\n"
     ]
    },
    {
     "name": "stdout",
     "output_type": "stream",
     "text": [
      "['J', 'TCGA-A2-A0SX-01A-12R-A084-07', '0AN1AGA']\n",
      "['0', 'Any', 'None', '1', 'Any']\n",
      "0\n",
      "526\n",
      "6\n",
      "26\n",
      "NEXT\n",
      "eth /cluster/work/grlab/projects/projects2020_OHSU/peptides_generation/CANCER_eth/commit_c4dd02c_conf2_Frame_cap0_runs/TCGA_Breast_1102/filtering_samples/filters_19May_order_5ge_wAnnot_GPstar/G_TCGA-BH-A18V-01A-11R-A12D-07_0AN1XGA.tsv.gz \n",
      "---------------------------------------------\n",
      " ohsu J_TCGA-BH-A18V-01A-11R-A12D-07_0AN1XGA.tsv\n",
      "eth /cluster/work/grlab/projects/projects2020_OHSU/peptides_generation/CANCER_eth/commit_c4dd02c_conf2_Frame_cap0_runs/TCGA_Breast_1102/filtering_samples/filters_19May_order_5ge_wAnnot_GPstar/G_TCGA-A2-A0D2-01A-21R-A034-07_0A11XGA.tsv.gz \n",
      "---------------------------------------------\n",
      " ohsu J_TCGA-A2-A0D2-01A-21R-A034-07_0A11XGA.tsv\n",
      "eth /cluster/work/grlab/projects/projects2020_OHSU/peptides_generation/CANCER_eth/commit_c4dd02c_conf2_Frame_cap0_runs/TCGA_Breast_1102/filtering_samples/filters_19May_order_5ge_wAnnot_GPstar/G_TCGA-C8-A12P-01A-11R-A115-07_0251XGA.tsv.gz \n",
      "---------------------------------------------\n",
      " ohsu J_TCGA-C8-A12P-01A-11R-A115-07_0251XGA.tsv\n",
      "eth /cluster/work/grlab/projects/projects2020_OHSU/peptides_generation/CANCER_eth/commit_c4dd02c_conf2_Frame_cap0_runs/TCGA_Breast_1102/filtering_samples/filters_19May_order_5ge_wAnnot_GPstar/G_TCGA-BH-A18V-01A-11R-A12D-07_0A51XGA.tsv.gz \n",
      "---------------------------------------------\n",
      " ohsu J_TCGA-BH-A18V-01A-11R-A12D-07_0A51XGA.tsv\n",
      "eth /cluster/work/grlab/projects/projects2020_OHSU/peptides_generation/CANCER_eth/commit_c4dd02c_conf2_Frame_cap0_runs/TCGA_Breast_1102/filtering_samples/filters_19May_order_5ge_wAnnot_GPstar/G_TCGA-AO-A0JM-01A-21R-A056-07_0AN3AGA.tsv.gz \n",
      "---------------------------------------------\n",
      " ohsu J_TCGA-AO-A0JM-01A-21R-A056-07_0AN3AGA.tsv\n",
      "eth /cluster/work/grlab/projects/projects2020_OHSU/peptides_generation/CANCER_eth/commit_c4dd02c_conf2_Frame_cap0_runs/TCGA_Breast_1102/filtering_samples/filters_19May_order_5ge_wAnnot_GPstar/G_TCGA-A2-A0SX-01A-12R-A084-07_0253XGA.tsv.gz \n",
      "---------------------------------------------\n",
      " ohsu J_TCGA-A2-A0SX-01A-12R-A084-07_0253XGA.tsv\n",
      "TCGAA2A0SX01A12RA08407\n"
     ]
    },
    {
     "name": "stderr",
     "output_type": "stream",
     "text": [
      "63it [00:00, 6323.53it/s]\n"
     ]
    },
    {
     "name": "stdout",
     "output_type": "stream",
     "text": [
      "['J', 'TCGA-A2-A0SX-01A-12R-A084-07', '0253XGA']\n",
      "['0', '2', '5', '3', '10']\n",
      "1\n",
      "7\n",
      "1\n",
      "6\n",
      "NEXT\n",
      "eth /cluster/work/grlab/projects/projects2020_OHSU/peptides_generation/CANCER_eth/commit_c4dd02c_conf2_Frame_cap0_runs/TCGA_Breast_1102/filtering_samples/filters_19May_order_5ge_wAnnot_GPstar/G_TCGA-A2-A0D2-01A-21R-A034-07_0A53XGA.tsv.gz \n",
      "---------------------------------------------\n",
      " ohsu J_TCGA-A2-A0D2-01A-21R-A034-07_0A53XGA.tsv\n",
      "eth /cluster/work/grlab/projects/projects2020_OHSU/peptides_generation/CANCER_eth/commit_c4dd02c_conf2_Frame_cap0_runs/TCGA_Breast_1102/filtering_samples/filters_19May_order_5ge_wAnnot_GPstar/G_TCGA-C8-A12P-01A-11R-A115-07_0A53XGA.tsv.gz \n",
      "---------------------------------------------\n",
      " ohsu J_TCGA-C8-A12P-01A-11R-A115-07_0A53XGA.tsv\n",
      "eth /cluster/work/grlab/projects/projects2020_OHSU/peptides_generation/CANCER_eth/commit_c4dd02c_conf2_Frame_cap0_runs/TCGA_Breast_1102/filtering_samples/filters_19May_order_5ge_wAnnot_GPstar/G_TCGA-BH-A18V-01A-11R-A12D-07_0AN1AGA.tsv.gz \n",
      "---------------------------------------------\n",
      " ohsu J_TCGA-BH-A18V-01A-11R-A12D-07_0AN1AGA.tsv\n",
      "eth /cluster/work/grlab/projects/projects2020_OHSU/peptides_generation/CANCER_eth/commit_c4dd02c_conf2_Frame_cap0_runs/TCGA_Breast_1102/filtering_samples/filters_19May_order_5ge_wAnnot_GPstar/G_TCGA-A2-A0SX-01A-12R-A084-07_0A53XGA.tsv.gz \n",
      "---------------------------------------------\n",
      " ohsu J_TCGA-A2-A0SX-01A-12R-A084-07_0A53XGA.tsv\n",
      "TCGAA2A0SX01A12RA08407\n"
     ]
    },
    {
     "name": "stderr",
     "output_type": "stream",
     "text": [
      "190it [00:00, 6246.12it/s]\n"
     ]
    },
    {
     "name": "stdout",
     "output_type": "stream",
     "text": [
      "['J', 'TCGA-A2-A0SX-01A-12R-A084-07', '0A53XGA']\n",
      "['0', 'Any', '5', '3', '10']\n",
      "1\n",
      "48\n",
      "3\n",
      "15\n",
      "NEXT\n",
      "eth /cluster/work/grlab/projects/projects2020_OHSU/peptides_generation/CANCER_eth/commit_c4dd02c_conf2_Frame_cap0_runs/TCGA_Breast_1102/filtering_samples/filters_19May_order_5ge_wAnnot_GPstar/G_TCGA-A2-A0D2-01A-21R-A034-07_0AN1AGA.tsv.gz \n",
      "---------------------------------------------\n",
      " ohsu J_TCGA-A2-A0D2-01A-21R-A034-07_0AN1AGA.tsv\n",
      "eth /cluster/work/grlab/projects/projects2020_OHSU/peptides_generation/CANCER_eth/commit_c4dd02c_conf2_Frame_cap0_runs/TCGA_Breast_1102/filtering_samples/filters_19May_order_5ge_wAnnot_GPstar/G_TCGA-AO-A0JM-01A-21R-A056-07_02112GA.tsv.gz \n",
      "---------------------------------------------\n",
      " ohsu J_TCGA-AO-A0JM-01A-21R-A056-07_02112GA.tsv\n",
      "eth /cluster/work/grlab/projects/projects2020_OHSU/peptides_generation/CANCER_eth/commit_c4dd02c_conf2_Frame_cap0_runs/TCGA_Breast_1102/filtering_samples/filters_19May_order_5ge_wAnnot_GPstar/G_TCGA-C8-A12P-01A-11R-A115-07_0213XGA.tsv.gz \n",
      "---------------------------------------------\n",
      " ohsu J_TCGA-C8-A12P-01A-11R-A115-07_0213XGA.tsv\n",
      "eth /cluster/work/grlab/projects/projects2020_OHSU/peptides_generation/CANCER_eth/commit_c4dd02c_conf2_Frame_cap0_runs/TCGA_Breast_1102/filtering_samples/filters_19May_order_5ge_wAnnot_GPstar/G_TCGA-BH-A18V-01A-11R-A12D-07_0A112GA.tsv.gz \n",
      "---------------------------------------------\n",
      " ohsu J_TCGA-BH-A18V-01A-11R-A12D-07_0A112GA.tsv\n",
      "eth /cluster/work/grlab/projects/projects2020_OHSU/peptides_generation/CANCER_eth/commit_c4dd02c_conf2_Frame_cap0_runs/TCGA_Breast_1102/filtering_samples/filters_19May_order_5ge_wAnnot_GPstar/G_TCGA-AO-A0JM-01A-21R-A056-07_0253AGA.tsv.gz \n",
      "---------------------------------------------\n",
      " ohsu J_TCGA-AO-A0JM-01A-21R-A056-07_0253AGA.tsv\n",
      "eth /cluster/work/grlab/projects/projects2020_OHSU/peptides_generation/CANCER_eth/commit_c4dd02c_conf2_Frame_cap0_runs/TCGA_Breast_1102/filtering_samples/filters_19May_order_5ge_wAnnot_GPstar/G_TCGA-BH-A18V-01A-11R-A12D-07_0AN01GA.tsv.gz \n",
      "---------------------------------------------\n",
      " ohsu J_TCGA-BH-A18V-01A-11R-A12D-07_0AN01GA.tsv\n",
      "eth /cluster/work/grlab/projects/projects2020_OHSU/peptides_generation/CANCER_eth/commit_c4dd02c_conf2_Frame_cap0_runs/TCGA_Breast_1102/filtering_samples/filters_19May_order_5ge_wAnnot_GPstar/G_TCGA-A2-A0D2-01A-21R-A034-07_0251XGA.tsv.gz \n",
      "---------------------------------------------\n",
      " ohsu J_TCGA-A2-A0D2-01A-21R-A034-07_0251XGA.tsv\n",
      "eth /cluster/work/grlab/projects/projects2020_OHSU/peptides_generation/CANCER_eth/commit_c4dd02c_conf2_Frame_cap0_runs/TCGA_Breast_1102/filtering_samples/filters_19May_order_5ge_wAnnot_GPstar/G_TCGA-AO-A0JM-01A-21R-A056-07_0211AGA.tsv.gz \n",
      "---------------------------------------------\n",
      " ohsu J_TCGA-AO-A0JM-01A-21R-A056-07_0211AGA.tsv\n",
      "eth /cluster/work/grlab/projects/projects2020_OHSU/peptides_generation/CANCER_eth/commit_c4dd02c_conf2_Frame_cap0_runs/TCGA_Breast_1102/filtering_samples/filters_19May_order_5ge_wAnnot_GPstar/G_TCGA-AO-A0JM-01A-21R-A056-07_02532GA.tsv.gz \n",
      "---------------------------------------------\n",
      " ohsu J_TCGA-AO-A0JM-01A-21R-A056-07_02532GA.tsv\n",
      "eth /cluster/work/grlab/projects/projects2020_OHSU/peptides_generation/CANCER_eth/commit_c4dd02c_conf2_Frame_cap0_runs/TCGA_Breast_1102/filtering_samples/filters_19May_order_5ge_wAnnot_GPstar/G_TCGA-A2-A0D2-01A-21R-A034-07_02512GA.tsv.gz \n",
      "---------------------------------------------\n",
      " ohsu J_TCGA-A2-A0D2-01A-21R-A034-07_02512GA.tsv\n",
      "eth /cluster/work/grlab/projects/projects2020_OHSU/peptides_generation/CANCER_eth/commit_c4dd02c_conf2_Frame_cap0_runs/TCGA_Breast_1102/filtering_samples/filters_19May_order_5ge_wAnnot_GPstar/G_TCGA-BH-A18V-01A-11R-A12D-07_0A51AGA.tsv.gz \n",
      "---------------------------------------------\n",
      " ohsu J_TCGA-BH-A18V-01A-11R-A12D-07_0A51AGA.tsv\n",
      "eth /cluster/work/grlab/projects/projects2020_OHSU/peptides_generation/CANCER_eth/commit_c4dd02c_conf2_Frame_cap0_runs/TCGA_Breast_1102/filtering_samples/filters_19May_order_5ge_wAnnot_GPstar/G_TCGA-A2-A0SX-01A-12R-A084-07_02101GA.tsv.gz \n",
      "---------------------------------------------\n",
      " ohsu J_TCGA-A2-A0SX-01A-12R-A084-07_02101GA.tsv\n",
      "TCGAA2A0SX01A12RA08407\n"
     ]
    },
    {
     "name": "stderr",
     "output_type": "stream",
     "text": [
      "134it [00:00, 6517.50it/s]\n"
     ]
    },
    {
     "name": "stdout",
     "output_type": "stream",
     "text": [
      "['J', 'TCGA-A2-A0SX-01A-12R-A084-07', '02101GA']\n",
      "['0', '2', '1', '0', '1']\n",
      "None\n",
      "12\n",
      "4\n",
      "5\n",
      "NEXT\n",
      "eth /cluster/work/grlab/projects/projects2020_OHSU/peptides_generation/CANCER_eth/commit_c4dd02c_conf2_Frame_cap0_runs/TCGA_Breast_1102/filtering_samples/filters_19May_order_5ge_wAnnot_GPstar/G_TCGA-AO-A0JM-01A-21R-A056-07_0A532GA.tsv.gz \n",
      "---------------------------------------------\n",
      " ohsu J_TCGA-AO-A0JM-01A-21R-A056-07_0A532GA.tsv\n",
      "eth /cluster/work/grlab/projects/projects2020_OHSU/peptides_generation/CANCER_eth/commit_c4dd02c_conf2_Frame_cap0_runs/TCGA_Breast_1102/filtering_samples/filters_19May_order_5ge_wAnnot_GPstar/G_TCGA-A2-A0D2-01A-21R-A034-07_0AN3AGA.tsv.gz \n",
      "---------------------------------------------\n",
      " ohsu J_TCGA-A2-A0D2-01A-21R-A034-07_0AN3AGA.tsv\n",
      "eth /cluster/work/grlab/projects/projects2020_OHSU/peptides_generation/CANCER_eth/commit_c4dd02c_conf2_Frame_cap0_runs/TCGA_Breast_1102/filtering_samples/filters_19May_order_5ge_wAnnot_GPstar/G_TCGA-BH-A18V-01A-11R-A12D-07_0A501GA.tsv.gz \n",
      "---------------------------------------------\n",
      " ohsu J_TCGA-BH-A18V-01A-11R-A12D-07_0A501GA.tsv\n",
      "eth /cluster/work/grlab/projects/projects2020_OHSU/peptides_generation/CANCER_eth/commit_c4dd02c_conf2_Frame_cap0_runs/TCGA_Breast_1102/filtering_samples/filters_19May_order_5ge_wAnnot_GPstar/G_TCGA-A2-A0SX-01A-12R-A084-07_0213AGA.tsv.gz \n",
      "---------------------------------------------\n",
      " ohsu J_TCGA-A2-A0SX-01A-12R-A084-07_0213AGA.tsv\n",
      "TCGAA2A0SX01A12RA08407\n"
     ]
    },
    {
     "name": "stderr",
     "output_type": "stream",
     "text": [
      "473it [00:00, 6539.64it/s]\n"
     ]
    },
    {
     "name": "stdout",
     "output_type": "stream",
     "text": [
      "['J', 'TCGA-A2-A0SX-01A-12R-A084-07', '0213AGA']\n",
      "['0', '2', '1', '3', 'Any']\n",
      "0\n",
      "46\n",
      "30\n",
      "23\n",
      "NEXT\n",
      "eth /cluster/work/grlab/projects/projects2020_OHSU/peptides_generation/CANCER_eth/commit_c4dd02c_conf2_Frame_cap0_runs/TCGA_Breast_1102/filtering_samples/filters_19May_order_5ge_wAnnot_GPstar/G_TCGA-A2-A0SX-01A-12R-A084-07_0213XGA.tsv.gz \n",
      "---------------------------------------------\n",
      " ohsu J_TCGA-A2-A0SX-01A-12R-A084-07_0213XGA.tsv\n",
      "TCGAA2A0SX01A12RA08407\n"
     ]
    },
    {
     "name": "stderr",
     "output_type": "stream",
     "text": [
      "337it [00:00, 6497.63it/s]\n"
     ]
    },
    {
     "name": "stdout",
     "output_type": "stream",
     "text": [
      "['J', 'TCGA-A2-A0SX-01A-12R-A084-07', '0213XGA']\n",
      "['0', '2', '1', '3', '10']\n",
      "1\n",
      "40\n",
      "17\n",
      "19\n",
      "NEXT\n",
      "eth /cluster/work/grlab/projects/projects2020_OHSU/peptides_generation/CANCER_eth/commit_c4dd02c_conf2_Frame_cap0_runs/TCGA_Breast_1102/filtering_samples/filters_19May_order_5ge_wAnnot_GPstar/G_TCGA-C8-A12P-01A-11R-A115-07_0253XGA.tsv.gz \n",
      "---------------------------------------------\n",
      " ohsu J_TCGA-C8-A12P-01A-11R-A115-07_0253XGA.tsv\n",
      "eth /cluster/work/grlab/projects/projects2020_OHSU/peptides_generation/CANCER_eth/commit_c4dd02c_conf2_Frame_cap0_runs/TCGA_Breast_1102/filtering_samples/filters_19May_order_5ge_wAnnot_GPstar/G_TCGA-BH-A18V-01A-11R-A12D-07_0A13XGA.tsv.gz \n",
      "---------------------------------------------\n",
      " ohsu J_TCGA-BH-A18V-01A-11R-A12D-07_0A13XGA.tsv\n",
      "eth /cluster/work/grlab/projects/projects2020_OHSU/peptides_generation/CANCER_eth/commit_c4dd02c_conf2_Frame_cap0_runs/TCGA_Breast_1102/filtering_samples/filters_19May_order_5ge_wAnnot_GPstar/G_TCGA-BH-A18V-01A-11R-A12D-07_02112GA.tsv.gz \n",
      "---------------------------------------------\n",
      " ohsu J_TCGA-BH-A18V-01A-11R-A12D-07_02112GA.tsv\n",
      "eth /cluster/work/grlab/projects/projects2020_OHSU/peptides_generation/CANCER_eth/commit_c4dd02c_conf2_Frame_cap0_runs/TCGA_Breast_1102/filtering_samples/filters_19May_order_5ge_wAnnot_GPstar/G_TCGA-C8-A12P-01A-11R-A115-07_0A13XGA.tsv.gz \n",
      "---------------------------------------------\n",
      " ohsu J_TCGA-C8-A12P-01A-11R-A115-07_0A13XGA.tsv\n",
      "eth /cluster/work/grlab/projects/projects2020_OHSU/peptides_generation/CANCER_eth/commit_c4dd02c_conf2_Frame_cap0_runs/TCGA_Breast_1102/filtering_samples/filters_19May_order_5ge_wAnnot_GPstar/G_TCGA-C8-A12P-01A-11R-A115-07_0211XGA.tsv.gz \n",
      "---------------------------------------------\n",
      " ohsu J_TCGA-C8-A12P-01A-11R-A115-07_0211XGA.tsv\n",
      "eth /cluster/work/grlab/projects/projects2020_OHSU/peptides_generation/CANCER_eth/commit_c4dd02c_conf2_Frame_cap0_runs/TCGA_Breast_1102/filtering_samples/filters_19May_order_5ge_wAnnot_GPstar/G_TCGA-A2-A0SX-01A-12R-A084-07_0A532GA.tsv.gz \n",
      "---------------------------------------------\n",
      " ohsu J_TCGA-A2-A0SX-01A-12R-A084-07_0A532GA.tsv\n",
      "TCGAA2A0SX01A12RA08407\n"
     ]
    },
    {
     "name": "stderr",
     "output_type": "stream",
     "text": [
      "99it [00:00, 6419.26it/s]\n"
     ]
    },
    {
     "name": "stdout",
     "output_type": "stream",
     "text": [
      "['J', 'TCGA-A2-A0SX-01A-12R-A084-07', '0A532GA']\n",
      "['0', 'Any', '5', '3', '2']\n",
      "2\n",
      "16\n",
      "2\n",
      "5\n",
      "NEXT\n",
      "eth /cluster/work/grlab/projects/projects2020_OHSU/peptides_generation/CANCER_eth/commit_c4dd02c_conf2_Frame_cap0_runs/TCGA_Breast_1102/filtering_samples/filters_19May_order_5ge_wAnnot_GPstar/G_TCGA-BH-A18V-01A-11R-A12D-07_0A512GA.tsv.gz \n",
      "---------------------------------------------\n",
      " ohsu J_TCGA-BH-A18V-01A-11R-A12D-07_0A512GA.tsv\n",
      "eth /cluster/work/grlab/projects/projects2020_OHSU/peptides_generation/CANCER_eth/commit_c4dd02c_conf2_Frame_cap0_runs/TCGA_Breast_1102/filtering_samples/filters_19May_order_5ge_wAnnot_GPstar/G_TCGA-A2-A0D2-01A-21R-A034-07_0AN1XGA.tsv.gz \n",
      "---------------------------------------------\n",
      " ohsu J_TCGA-A2-A0D2-01A-21R-A034-07_0AN1XGA.tsv\n",
      "eth /cluster/work/grlab/projects/projects2020_OHSU/peptides_generation/CANCER_eth/commit_c4dd02c_conf2_Frame_cap0_runs/TCGA_Breast_1102/filtering_samples/filters_19May_order_5ge_wAnnot_GPstar/G_TCGA-A2-A0D2-01A-21R-A034-07_0AN01GA.tsv.gz \n",
      "---------------------------------------------\n",
      " ohsu J_TCGA-A2-A0D2-01A-21R-A034-07_0AN01GA.tsv\n",
      "eth /cluster/work/grlab/projects/projects2020_OHSU/peptides_generation/CANCER_eth/commit_c4dd02c_conf2_Frame_cap0_runs/TCGA_Breast_1102/filtering_samples/filters_19May_order_5ge_wAnnot_GPstar/G_TCGA-C8-A12P-01A-11R-A115-07_02132GA.tsv.gz \n",
      "---------------------------------------------\n",
      " ohsu J_TCGA-C8-A12P-01A-11R-A115-07_02132GA.tsv\n",
      "eth /cluster/work/grlab/projects/projects2020_OHSU/peptides_generation/CANCER_eth/commit_c4dd02c_conf2_Frame_cap0_runs/TCGA_Breast_1102/filtering_samples/filters_19May_order_5ge_wAnnot_GPstar/G_TCGA-A2-A0SX-01A-12R-A084-07_02501GA.tsv.gz \n",
      "---------------------------------------------\n",
      " ohsu J_TCGA-A2-A0SX-01A-12R-A084-07_02501GA.tsv\n",
      "TCGAA2A0SX01A12RA08407\n"
     ]
    },
    {
     "name": "stderr",
     "output_type": "stream",
     "text": [
      "31it [00:00, 6225.09it/s]\n"
     ]
    },
    {
     "name": "stdout",
     "output_type": "stream",
     "text": [
      "['J', 'TCGA-A2-A0SX-01A-12R-A084-07', '02501GA']\n",
      "['0', '2', '5', '0', '1']\n",
      "None\n",
      "2\n",
      "1\n",
      "1\n",
      "NEXT\n",
      "eth /cluster/work/grlab/projects/projects2020_OHSU/peptides_generation/CANCER_eth/commit_c4dd02c_conf2_Frame_cap0_runs/TCGA_Breast_1102/filtering_samples/filters_19May_order_5ge_wAnnot_GPstar/G_TCGA-C8-A12P-01A-11R-A115-07_0211AGA.tsv.gz \n",
      "---------------------------------------------\n",
      " ohsu J_TCGA-C8-A12P-01A-11R-A115-07_0211AGA.tsv\n",
      "eth /cluster/work/grlab/projects/projects2020_OHSU/peptides_generation/CANCER_eth/commit_c4dd02c_conf2_Frame_cap0_runs/TCGA_Breast_1102/filtering_samples/filters_19May_order_5ge_wAnnot_GPstar/G_TCGA-A2-A0D2-01A-21R-A034-07_02532GA.tsv.gz \n",
      "---------------------------------------------\n",
      " ohsu J_TCGA-A2-A0D2-01A-21R-A034-07_02532GA.tsv\n",
      "eth /cluster/work/grlab/projects/projects2020_OHSU/peptides_generation/CANCER_eth/commit_c4dd02c_conf2_Frame_cap0_runs/TCGA_Breast_1102/filtering_samples/filters_19May_order_5ge_wAnnot_GPstar/G_TCGA-BH-A18V-01A-11R-A12D-07_0A11AGA.tsv.gz \n",
      "---------------------------------------------\n",
      " ohsu J_TCGA-BH-A18V-01A-11R-A12D-07_0A11AGA.tsv\n",
      "eth /cluster/work/grlab/projects/projects2020_OHSU/peptides_generation/CANCER_eth/commit_c4dd02c_conf2_Frame_cap0_runs/TCGA_Breast_1102/filtering_samples/filters_19May_order_5ge_wAnnot_GPstar/G_TCGA-A2-A0D2-01A-21R-A034-07_0211XGA.tsv.gz \n",
      "---------------------------------------------\n",
      " ohsu J_TCGA-A2-A0D2-01A-21R-A034-07_0211XGA.tsv\n",
      "eth /cluster/work/grlab/projects/projects2020_OHSU/peptides_generation/CANCER_eth/commit_c4dd02c_conf2_Frame_cap0_runs/TCGA_Breast_1102/filtering_samples/filters_19May_order_5ge_wAnnot_GPstar/G_TCGA-A2-A0D2-01A-21R-A034-07_02132GA.tsv.gz \n",
      "---------------------------------------------\n",
      " ohsu J_TCGA-A2-A0D2-01A-21R-A034-07_02132GA.tsv\n",
      "eth /cluster/work/grlab/projects/projects2020_OHSU/peptides_generation/CANCER_eth/commit_c4dd02c_conf2_Frame_cap0_runs/TCGA_Breast_1102/filtering_samples/filters_19May_order_5ge_wAnnot_GPstar/G_TCGA-BH-A18V-01A-11R-A12D-07_0A132GA.tsv.gz \n",
      "---------------------------------------------\n",
      " ohsu J_TCGA-BH-A18V-01A-11R-A12D-07_0A132GA.tsv\n",
      "eth /cluster/work/grlab/projects/projects2020_OHSU/peptides_generation/CANCER_eth/commit_c4dd02c_conf2_Frame_cap0_runs/TCGA_Breast_1102/filtering_samples/filters_19May_order_5ge_wAnnot_GPstar/G_TCGA-A2-A0SX-01A-12R-A084-07_02512GA.tsv.gz \n",
      "---------------------------------------------\n",
      " ohsu J_TCGA-A2-A0SX-01A-12R-A084-07_02512GA.tsv\n",
      "TCGAA2A0SX01A12RA08407\n"
     ]
    },
    {
     "name": "stderr",
     "output_type": "stream",
     "text": [
      "31it [00:00, 6595.15it/s]\n"
     ]
    },
    {
     "name": "stdout",
     "output_type": "stream",
     "text": [
      "['J', 'TCGA-A2-A0SX-01A-12R-A084-07', '02512GA']\n",
      "['0', '2', '5', '1', '2']\n",
      "2\n",
      "2\n",
      "1\n",
      "1\n",
      "NEXT\n",
      "eth /cluster/work/grlab/projects/projects2020_OHSU/peptides_generation/CANCER_eth/commit_c4dd02c_conf2_Frame_cap0_runs/TCGA_Breast_1102/filtering_samples/filters_19May_order_5ge_wAnnot_GPstar/G_TCGA-AO-A0JM-01A-21R-A056-07_0213XGA.tsv.gz \n",
      "---------------------------------------------\n",
      " ohsu J_TCGA-AO-A0JM-01A-21R-A056-07_0213XGA.tsv\n",
      "eth /cluster/work/grlab/projects/projects2020_OHSU/peptides_generation/CANCER_eth/commit_c4dd02c_conf2_Frame_cap0_runs/TCGA_Breast_1102/filtering_samples/filters_19May_order_5ge_wAnnot_GPstar/G_TCGA-A2-A0SX-01A-12R-A084-07_0251XGA.tsv.gz \n",
      "---------------------------------------------\n",
      " ohsu J_TCGA-A2-A0SX-01A-12R-A084-07_0251XGA.tsv\n",
      "TCGAA2A0SX01A12RA08407\n"
     ]
    },
    {
     "name": "stderr",
     "output_type": "stream",
     "text": [
      "31it [00:00, 6335.81it/s]\n"
     ]
    },
    {
     "name": "stdout",
     "output_type": "stream",
     "text": [
      "['J', 'TCGA-A2-A0SX-01A-12R-A084-07', '0251XGA']\n",
      "['0', '2', '5', '1', '10']\n",
      "1\n",
      "2\n",
      "1\n",
      "1\n",
      "NEXT\n",
      "eth /cluster/work/grlab/projects/projects2020_OHSU/peptides_generation/CANCER_eth/commit_c4dd02c_conf2_Frame_cap0_runs/TCGA_Breast_1102/filtering_samples/filters_19May_order_5ge_wAnnot_GPstar/G_TCGA-A2-A0D2-01A-21R-A034-07_0253AGA.tsv.gz \n",
      "---------------------------------------------\n",
      " ohsu J_TCGA-A2-A0D2-01A-21R-A034-07_0253AGA.tsv\n",
      "eth /cluster/work/grlab/projects/projects2020_OHSU/peptides_generation/CANCER_eth/commit_c4dd02c_conf2_Frame_cap0_runs/TCGA_Breast_1102/filtering_samples/filters_19May_order_5ge_wAnnot_GPstar/G_TCGA-BH-A18V-01A-11R-A12D-07_0253AGA.tsv.gz \n",
      "---------------------------------------------\n",
      " ohsu J_TCGA-BH-A18V-01A-11R-A12D-07_0253AGA.tsv\n",
      "eth /cluster/work/grlab/projects/projects2020_OHSU/peptides_generation/CANCER_eth/commit_c4dd02c_conf2_Frame_cap0_runs/TCGA_Breast_1102/filtering_samples/filters_19May_order_5ge_wAnnot_GPstar/G_TCGA-A2-A0SX-01A-12R-A084-07_0211AGA.tsv.gz \n",
      "---------------------------------------------\n",
      " ohsu J_TCGA-A2-A0SX-01A-12R-A084-07_0211AGA.tsv\n",
      "TCGAA2A0SX01A12RA08407\n"
     ]
    },
    {
     "name": "stderr",
     "output_type": "stream",
     "text": [
      "134it [00:00, 6561.02it/s]\n"
     ]
    },
    {
     "name": "stdout",
     "output_type": "stream",
     "text": [
      "['J', 'TCGA-A2-A0SX-01A-12R-A084-07', '0211AGA']\n",
      "['0', '2', '1', '1', 'Any']\n",
      "0\n",
      "12\n",
      "4\n",
      "5\n",
      "NEXT\n",
      "eth /cluster/work/grlab/projects/projects2020_OHSU/peptides_generation/CANCER_eth/commit_c4dd02c_conf2_Frame_cap0_runs/TCGA_Breast_1102/filtering_samples/filters_19May_order_5ge_wAnnot_GPstar/G_TCGA-A2-A0SX-01A-12R-A084-07_0AN3AGA.tsv.gz \n",
      "---------------------------------------------\n",
      " ohsu J_TCGA-A2-A0SX-01A-12R-A084-07_0AN3AGA.tsv\n",
      "TCGAA2A0SX01A12RA08407\n"
     ]
    },
    {
     "name": "stderr",
     "output_type": "stream",
     "text": [
      "969it [00:00, 6624.40it/s]\n"
     ]
    },
    {
     "name": "stdout",
     "output_type": "stream",
     "text": [
      "['J', 'TCGA-A2-A0SX-01A-12R-A084-07', '0AN3AGA']\n",
      "['0', 'Any', 'None', '3', 'Any']\n",
      "0\n",
      "939\n",
      "14\n",
      "83\n",
      "NEXT\n",
      "eth /cluster/work/grlab/projects/projects2020_OHSU/peptides_generation/CANCER_eth/commit_c4dd02c_conf2_Frame_cap0_runs/TCGA_Breast_1102/filtering_samples/filters_19May_order_5ge_wAnnot_GPstar/G_TCGA-A2-A0SX-01A-12R-A084-07_0211XGA.tsv.gz \n",
      "---------------------------------------------\n",
      " ohsu J_TCGA-A2-A0SX-01A-12R-A084-07_0211XGA.tsv\n",
      "TCGAA2A0SX01A12RA08407\n"
     ]
    },
    {
     "name": "stderr",
     "output_type": "stream",
     "text": [
      "134it [00:00, 6502.27it/s]\n"
     ]
    },
    {
     "name": "stdout",
     "output_type": "stream",
     "text": [
      "['J', 'TCGA-A2-A0SX-01A-12R-A084-07', '0211XGA']\n",
      "['0', '2', '1', '1', '10']\n",
      "1\n",
      "12\n",
      "4\n",
      "5\n",
      "NEXT\n",
      "eth /cluster/work/grlab/projects/projects2020_OHSU/peptides_generation/CANCER_eth/commit_c4dd02c_conf2_Frame_cap0_runs/TCGA_Breast_1102/filtering_samples/filters_19May_order_5ge_wAnnot_GPstar/G_TCGA-A2-A0D2-01A-21R-A034-07_0A53AGA.tsv.gz \n",
      "---------------------------------------------\n",
      " ohsu J_TCGA-A2-A0D2-01A-21R-A034-07_0A53AGA.tsv\n",
      "eth /cluster/work/grlab/projects/projects2020_OHSU/peptides_generation/CANCER_eth/commit_c4dd02c_conf2_Frame_cap0_runs/TCGA_Breast_1102/filtering_samples/filters_19May_order_5ge_wAnnot_GPstar/G_TCGA-AO-A0JM-01A-21R-A056-07_0211XGA.tsv.gz \n",
      "---------------------------------------------\n",
      " ohsu J_TCGA-AO-A0JM-01A-21R-A056-07_0211XGA.tsv\n",
      "eth /cluster/work/grlab/projects/projects2020_OHSU/peptides_generation/CANCER_eth/commit_c4dd02c_conf2_Frame_cap0_runs/TCGA_Breast_1102/filtering_samples/filters_19May_order_5ge_wAnnot_GPstar/G_TCGA-A2-A0SX-01A-12R-A084-07_0A501GA.tsv.gz \n",
      "---------------------------------------------\n",
      " ohsu J_TCGA-A2-A0SX-01A-12R-A084-07_0A501GA.tsv\n",
      "TCGAA2A0SX01A12RA08407\n"
     ]
    },
    {
     "name": "stderr",
     "output_type": "stream",
     "text": [
      "77it [00:00, 6387.05it/s]\n"
     ]
    },
    {
     "name": "stdout",
     "output_type": "stream",
     "text": [
      "['J', 'TCGA-A2-A0SX-01A-12R-A084-07', '0A501GA']\n",
      "['0', 'Any', '5', '0', '1']\n",
      "None\n",
      "9\n",
      "2\n",
      "3\n",
      "NEXT\n",
      "eth /cluster/work/grlab/projects/projects2020_OHSU/peptides_generation/CANCER_eth/commit_c4dd02c_conf2_Frame_cap0_runs/TCGA_Breast_1102/filtering_samples/filters_19May_order_5ge_wAnnot_GPstar/G_TCGA-BH-A18V-01A-11R-A12D-07_0211AGA.tsv.gz \n",
      "---------------------------------------------\n",
      " ohsu J_TCGA-BH-A18V-01A-11R-A12D-07_0211AGA.tsv\n",
      "eth /cluster/work/grlab/projects/projects2020_OHSU/peptides_generation/CANCER_eth/commit_c4dd02c_conf2_Frame_cap0_runs/TCGA_Breast_1102/filtering_samples/filters_19May_order_5ge_wAnnot_GPstar/G_TCGA-A2-A0D2-01A-21R-A034-07_0A11AGA.tsv.gz \n",
      "---------------------------------------------\n",
      " ohsu J_TCGA-A2-A0D2-01A-21R-A034-07_0A11AGA.tsv\n",
      "eth /cluster/work/grlab/projects/projects2020_OHSU/peptides_generation/CANCER_eth/commit_c4dd02c_conf2_Frame_cap0_runs/TCGA_Breast_1102/filtering_samples/filters_19May_order_5ge_wAnnot_GPstar/G_TCGA-BH-A18V-01A-11R-A12D-07_02532GA.tsv.gz \n",
      "---------------------------------------------\n",
      " ohsu J_TCGA-BH-A18V-01A-11R-A12D-07_02532GA.tsv\n",
      "eth /cluster/work/grlab/projects/projects2020_OHSU/peptides_generation/CANCER_eth/commit_c4dd02c_conf2_Frame_cap0_runs/TCGA_Breast_1102/filtering_samples/filters_19May_order_5ge_wAnnot_GPstar/G_TCGA-BH-A18V-01A-11R-A12D-07_0AN32GA.tsv.gz \n",
      "---------------------------------------------\n",
      " ohsu J_TCGA-BH-A18V-01A-11R-A12D-07_0AN32GA.tsv\n",
      "eth /cluster/work/grlab/projects/projects2020_OHSU/peptides_generation/CANCER_eth/commit_c4dd02c_conf2_Frame_cap0_runs/TCGA_Breast_1102/filtering_samples/filters_19May_order_5ge_wAnnot_GPstar/G_TCGA-AO-A0JM-01A-21R-A056-07_0A13AGA.tsv.gz \n",
      "---------------------------------------------\n",
      " ohsu J_TCGA-AO-A0JM-01A-21R-A056-07_0A13AGA.tsv\n",
      "eth /cluster/work/grlab/projects/projects2020_OHSU/peptides_generation/CANCER_eth/commit_c4dd02c_conf2_Frame_cap0_runs/TCGA_Breast_1102/filtering_samples/filters_19May_order_5ge_wAnnot_GPstar/G_TCGA-BH-A18V-01A-11R-A12D-07_0213AGA.tsv.gz \n",
      "---------------------------------------------\n",
      " ohsu J_TCGA-BH-A18V-01A-11R-A12D-07_0213AGA.tsv\n",
      "eth /cluster/work/grlab/projects/projects2020_OHSU/peptides_generation/CANCER_eth/commit_c4dd02c_conf2_Frame_cap0_runs/TCGA_Breast_1102/filtering_samples/filters_19May_order_5ge_wAnnot_GPstar/G_TCGA-C8-A12P-01A-11R-A115-07_0A51AGA.tsv.gz \n",
      "---------------------------------------------\n",
      " ohsu J_TCGA-C8-A12P-01A-11R-A115-07_0A51AGA.tsv\n",
      "eth /cluster/work/grlab/projects/projects2020_OHSU/peptides_generation/CANCER_eth/commit_c4dd02c_conf2_Frame_cap0_runs/TCGA_Breast_1102/filtering_samples/filters_19May_order_5ge_wAnnot_GPstar/G_TCGA-A2-A0SX-01A-12R-A084-07_0A13AGA.tsv.gz \n",
      "---------------------------------------------\n",
      " ohsu J_TCGA-A2-A0SX-01A-12R-A084-07_0A13AGA.tsv\n",
      "TCGAA2A0SX01A12RA08407\n"
     ]
    },
    {
     "name": "stderr",
     "output_type": "stream",
     "text": [
      "570it [00:00, 6600.01it/s]\n"
     ]
    },
    {
     "name": "stdout",
     "output_type": "stream",
     "text": [
      "['J', 'TCGA-A2-A0SX-01A-12R-A084-07', '0A13AGA']\n",
      "['0', 'Any', '1', '3', 'Any']\n",
      "0\n",
      "267\n",
      "7\n",
      "57\n",
      "NEXT\n",
      "eth /cluster/work/grlab/projects/projects2020_OHSU/peptides_generation/CANCER_eth/commit_c4dd02c_conf2_Frame_cap0_runs/TCGA_Breast_1102/filtering_samples/filters_19May_order_5ge_wAnnot_GPstar/G_TCGA-C8-A12P-01A-11R-A115-07_0253AGA.tsv.gz \n",
      "---------------------------------------------\n",
      " ohsu J_TCGA-C8-A12P-01A-11R-A115-07_0253AGA.tsv\n",
      "eth /cluster/work/grlab/projects/projects2020_OHSU/peptides_generation/CANCER_eth/commit_c4dd02c_conf2_Frame_cap0_runs/TCGA_Breast_1102/filtering_samples/filters_19May_order_5ge_wAnnot_GPstar/G_TCGA-A2-A0SX-01A-12R-A084-07_0251AGA.tsv.gz \n",
      "---------------------------------------------\n",
      " ohsu J_TCGA-A2-A0SX-01A-12R-A084-07_0251AGA.tsv\n",
      "TCGAA2A0SX01A12RA08407\n"
     ]
    },
    {
     "name": "stderr",
     "output_type": "stream",
     "text": [
      "31it [00:00, 6271.63it/s]\n"
     ]
    },
    {
     "name": "stdout",
     "output_type": "stream",
     "text": [
      "['J', 'TCGA-A2-A0SX-01A-12R-A084-07', '0251AGA']\n",
      "['0', '2', '5', '1', 'Any']\n",
      "0\n",
      "2\n",
      "1\n",
      "1\n",
      "NEXT\n",
      "eth /cluster/work/grlab/projects/projects2020_OHSU/peptides_generation/CANCER_eth/commit_c4dd02c_conf2_Frame_cap0_runs/TCGA_Breast_1102/filtering_samples/filters_19May_order_5ge_wAnnot_GPstar/G_TCGA-C8-A12P-01A-11R-A115-07_0AN01GA.tsv.gz \n",
      "---------------------------------------------\n",
      " ohsu J_TCGA-C8-A12P-01A-11R-A115-07_0AN01GA.tsv\n",
      "eth /cluster/work/grlab/projects/projects2020_OHSU/peptides_generation/CANCER_eth/commit_c4dd02c_conf2_Frame_cap0_runs/TCGA_Breast_1102/filtering_samples/filters_19May_order_5ge_wAnnot_GPstar/G_TCGA-C8-A12P-01A-11R-A115-07_02501GA.tsv.gz \n",
      "---------------------------------------------\n",
      " ohsu J_TCGA-C8-A12P-01A-11R-A115-07_02501GA.tsv\n",
      "eth /cluster/work/grlab/projects/projects2020_OHSU/peptides_generation/CANCER_eth/commit_c4dd02c_conf2_Frame_cap0_runs/TCGA_Breast_1102/filtering_samples/filters_19May_order_5ge_wAnnot_GPstar/G_TCGA-AO-A0JM-01A-21R-A056-07_0A132GA.tsv.gz \n",
      "---------------------------------------------\n",
      " ohsu J_TCGA-AO-A0JM-01A-21R-A056-07_0A132GA.tsv\n",
      "eth /cluster/work/grlab/projects/projects2020_OHSU/peptides_generation/CANCER_eth/commit_c4dd02c_conf2_Frame_cap0_runs/TCGA_Breast_1102/filtering_samples/filters_19May_order_5ge_wAnnot_GPstar/G_TCGA-A2-A0D2-01A-21R-A034-07_0211AGA.tsv.gz \n",
      "---------------------------------------------\n",
      " ohsu J_TCGA-A2-A0D2-01A-21R-A034-07_0211AGA.tsv\n",
      "eth /cluster/work/grlab/projects/projects2020_OHSU/peptides_generation/CANCER_eth/commit_c4dd02c_conf2_Frame_cap0_runs/TCGA_Breast_1102/filtering_samples/filters_19May_order_5ge_wAnnot_GPstar/G_TCGA-A2-A0SX-01A-12R-A084-07_0AN12GA.tsv.gz \n",
      "---------------------------------------------\n",
      " ohsu J_TCGA-A2-A0SX-01A-12R-A084-07_0AN12GA.tsv\n",
      "TCGAA2A0SX01A12RA08407\n"
     ]
    },
    {
     "name": "stderr",
     "output_type": "stream",
     "text": [
      "441it [00:00, 6544.37it/s]\n"
     ]
    },
    {
     "name": "stdout",
     "output_type": "stream",
     "text": [
      "['J', 'TCGA-A2-A0SX-01A-12R-A084-07', '0AN12GA']\n",
      "['0', 'Any', 'None', '1', '2']\n",
      "2\n",
      "524\n",
      "5\n",
      "26\n",
      "NEXT\n",
      "eth /cluster/work/grlab/projects/projects2020_OHSU/peptides_generation/CANCER_eth/commit_c4dd02c_conf2_Frame_cap0_runs/TCGA_Breast_1102/filtering_samples/filters_19May_order_5ge_wAnnot_GPstar/G_TCGA-A2-A0SX-01A-12R-A084-07_0AN01GA.tsv.gz \n",
      "---------------------------------------------\n",
      " ohsu J_TCGA-A2-A0SX-01A-12R-A084-07_0AN01GA.tsv\n",
      "TCGAA2A0SX01A12RA08407\n"
     ]
    },
    {
     "name": "stderr",
     "output_type": "stream",
     "text": [
      "432it [00:00, 6578.44it/s]\n"
     ]
    },
    {
     "name": "stdout",
     "output_type": "stream",
     "text": [
      "['J', 'TCGA-A2-A0SX-01A-12R-A084-07', '0AN01GA']\n",
      "['0', 'Any', 'None', '0', '1']\n",
      "None\n",
      "513\n",
      "5\n",
      "25\n",
      "NEXT\n",
      "eth /cluster/work/grlab/projects/projects2020_OHSU/peptides_generation/CANCER_eth/commit_c4dd02c_conf2_Frame_cap0_runs/TCGA_Breast_1102/filtering_samples/filters_19May_order_5ge_wAnnot_GPstar/G_TCGA-C8-A12P-01A-11R-A115-07_0A501GA.tsv.gz \n",
      "---------------------------------------------\n",
      " ohsu J_TCGA-C8-A12P-01A-11R-A115-07_0A501GA.tsv\n",
      "eth /cluster/work/grlab/projects/projects2020_OHSU/peptides_generation/CANCER_eth/commit_c4dd02c_conf2_Frame_cap0_runs/TCGA_Breast_1102/filtering_samples/filters_19May_order_5ge_wAnnot_GPstar/G_TCGA-AO-A0JM-01A-21R-A056-07_0A51XGA.tsv.gz \n",
      "---------------------------------------------\n",
      " ohsu J_TCGA-AO-A0JM-01A-21R-A056-07_0A51XGA.tsv\n",
      "eth /cluster/work/grlab/projects/projects2020_OHSU/peptides_generation/CANCER_eth/commit_c4dd02c_conf2_Frame_cap0_runs/TCGA_Breast_1102/filtering_samples/filters_19May_order_5ge_wAnnot_GPstar/G_TCGA-A2-A0D2-01A-21R-A034-07_0A532GA.tsv.gz \n",
      "---------------------------------------------\n",
      " ohsu J_TCGA-A2-A0D2-01A-21R-A034-07_0A532GA.tsv\n",
      "eth /cluster/work/grlab/projects/projects2020_OHSU/peptides_generation/CANCER_eth/commit_c4dd02c_conf2_Frame_cap0_runs/TCGA_Breast_1102/filtering_samples/filters_19May_order_5ge_wAnnot_GPstar/G_TCGA-A2-A0D2-01A-21R-A034-07_02101GA.tsv.gz \n",
      "---------------------------------------------\n",
      " ohsu J_TCGA-A2-A0D2-01A-21R-A034-07_02101GA.tsv\n",
      "eth /cluster/work/grlab/projects/projects2020_OHSU/peptides_generation/CANCER_eth/commit_c4dd02c_conf2_Frame_cap0_runs/TCGA_Breast_1102/filtering_samples/filters_19May_order_5ge_wAnnot_GPstar/G_TCGA-A2-A0SX-01A-12R-A084-07_0A11AGA.tsv.gz \n",
      "---------------------------------------------\n",
      " ohsu J_TCGA-A2-A0SX-01A-12R-A084-07_0A11AGA.tsv\n",
      "TCGAA2A0SX01A12RA08407\n"
     ]
    },
    {
     "name": "stderr",
     "output_type": "stream",
     "text": [
      "149it [00:00, 6453.44it/s]\n"
     ]
    },
    {
     "name": "stdout",
     "output_type": "stream",
     "text": [
      "['J', 'TCGA-A2-A0SX-01A-12R-A084-07', '0A11AGA']\n",
      "['0', 'Any', '1', '1', 'Any']\n",
      "0\n",
      "64\n",
      "2\n",
      "8\n",
      "NEXT\n",
      "eth /cluster/work/grlab/projects/projects2020_OHSU/peptides_generation/CANCER_eth/commit_c4dd02c_conf2_Frame_cap0_runs/TCGA_Breast_1102/filtering_samples/filters_19May_order_5ge_wAnnot_GPstar/G_TCGA-AO-A0JM-01A-21R-A056-07_0251XGA.tsv.gz \n",
      "---------------------------------------------\n",
      " ohsu J_TCGA-AO-A0JM-01A-21R-A056-07_0251XGA.tsv\n",
      "eth /cluster/work/grlab/projects/projects2020_OHSU/peptides_generation/CANCER_eth/commit_c4dd02c_conf2_Frame_cap0_runs/TCGA_Breast_1102/filtering_samples/filters_19May_order_5ge_wAnnot_GPstar/G_TCGA-AO-A0JM-01A-21R-A056-07_0213AGA.tsv.gz \n",
      "---------------------------------------------\n",
      " ohsu J_TCGA-AO-A0JM-01A-21R-A056-07_0213AGA.tsv\n",
      "eth /cluster/work/grlab/projects/projects2020_OHSU/peptides_generation/CANCER_eth/commit_c4dd02c_conf2_Frame_cap0_runs/TCGA_Breast_1102/filtering_samples/filters_19May_order_5ge_wAnnot_GPstar/G_TCGA-AO-A0JM-01A-21R-A056-07_02101GA.tsv.gz \n",
      "---------------------------------------------\n",
      " ohsu J_TCGA-AO-A0JM-01A-21R-A056-07_02101GA.tsv\n",
      "eth /cluster/work/grlab/projects/projects2020_OHSU/peptides_generation/CANCER_eth/commit_c4dd02c_conf2_Frame_cap0_runs/TCGA_Breast_1102/filtering_samples/filters_19May_order_5ge_wAnnot_GPstar/G_TCGA-BH-A18V-01A-11R-A12D-07_0A53XGA.tsv.gz \n",
      "---------------------------------------------\n",
      " ohsu J_TCGA-BH-A18V-01A-11R-A12D-07_0A53XGA.tsv\n",
      "eth /cluster/work/grlab/projects/projects2020_OHSU/peptides_generation/CANCER_eth/commit_c4dd02c_conf2_Frame_cap0_runs/TCGA_Breast_1102/filtering_samples/filters_19May_order_5ge_wAnnot_GPstar/G_TCGA-BH-A18V-01A-11R-A12D-07_0251AGA.tsv.gz \n",
      "---------------------------------------------\n",
      " ohsu J_TCGA-BH-A18V-01A-11R-A12D-07_0251AGA.tsv\n",
      "eth /cluster/work/grlab/projects/projects2020_OHSU/peptides_generation/CANCER_eth/commit_c4dd02c_conf2_Frame_cap0_runs/TCGA_Breast_1102/filtering_samples/filters_19May_order_5ge_wAnnot_GPstar/G_TCGA-A2-A0SX-01A-12R-A084-07_0A13XGA.tsv.gz \n",
      "---------------------------------------------\n",
      " ohsu J_TCGA-A2-A0SX-01A-12R-A084-07_0A13XGA.tsv\n",
      "TCGAA2A0SX01A12RA08407\n"
     ]
    },
    {
     "name": "stderr",
     "output_type": "stream",
     "text": [
      "408it [00:00, 6527.18it/s]\n"
     ]
    },
    {
     "name": "stdout",
     "output_type": "stream",
     "text": [
      "['J', 'TCGA-A2-A0SX-01A-12R-A084-07', '0A13XGA']\n",
      "['0', 'Any', '1', '3', '10']\n",
      "1\n",
      "228\n",
      "5\n",
      "38\n",
      "NEXT\n",
      "eth /cluster/work/grlab/projects/projects2020_OHSU/peptides_generation/CANCER_eth/commit_c4dd02c_conf2_Frame_cap0_runs/TCGA_Breast_1102/filtering_samples/filters_19May_order_5ge_wAnnot_GPstar/G_TCGA-AO-A0JM-01A-21R-A056-07_0AN32GA.tsv.gz \n",
      "---------------------------------------------\n",
      " ohsu J_TCGA-AO-A0JM-01A-21R-A056-07_0AN32GA.tsv\n",
      "eth /cluster/work/grlab/projects/projects2020_OHSU/peptides_generation/CANCER_eth/commit_c4dd02c_conf2_Frame_cap0_runs/TCGA_Breast_1102/filtering_samples/filters_19May_order_5ge_wAnnot_GPstar/G_TCGA-A2-A0D2-01A-21R-A034-07_0A51XGA.tsv.gz \n",
      "---------------------------------------------\n",
      " ohsu J_TCGA-A2-A0D2-01A-21R-A034-07_0A51XGA.tsv\n",
      "eth /cluster/work/grlab/projects/projects2020_OHSU/peptides_generation/CANCER_eth/commit_c4dd02c_conf2_Frame_cap0_runs/TCGA_Breast_1102/filtering_samples/filters_19May_order_5ge_wAnnot_GPstar/G_TCGA-A2-A0D2-01A-21R-A034-07_0A132GA.tsv.gz \n",
      "---------------------------------------------\n",
      " ohsu J_TCGA-A2-A0D2-01A-21R-A034-07_0A132GA.tsv\n",
      "eth /cluster/work/grlab/projects/projects2020_OHSU/peptides_generation/CANCER_eth/commit_c4dd02c_conf2_Frame_cap0_runs/TCGA_Breast_1102/filtering_samples/filters_19May_order_5ge_wAnnot_GPstar/G_TCGA-AO-A0JM-01A-21R-A056-07_02512GA.tsv.gz \n",
      "---------------------------------------------\n",
      " ohsu J_TCGA-AO-A0JM-01A-21R-A056-07_02512GA.tsv\n",
      "eth /cluster/work/grlab/projects/projects2020_OHSU/peptides_generation/CANCER_eth/commit_c4dd02c_conf2_Frame_cap0_runs/TCGA_Breast_1102/filtering_samples/filters_19May_order_5ge_wAnnot_GPstar/G_TCGA-A2-A0D2-01A-21R-A034-07_0A512GA.tsv.gz \n",
      "---------------------------------------------\n",
      " ohsu J_TCGA-A2-A0D2-01A-21R-A034-07_0A512GA.tsv\n",
      "eth /cluster/work/grlab/projects/projects2020_OHSU/peptides_generation/CANCER_eth/commit_c4dd02c_conf2_Frame_cap0_runs/TCGA_Breast_1102/filtering_samples/filters_19May_order_5ge_wAnnot_GPstar/G_TCGA-AO-A0JM-01A-21R-A056-07_0A512GA.tsv.gz \n",
      "---------------------------------------------\n",
      " ohsu J_TCGA-AO-A0JM-01A-21R-A056-07_0A512GA.tsv\n",
      "eth /cluster/work/grlab/projects/projects2020_OHSU/peptides_generation/CANCER_eth/commit_c4dd02c_conf2_Frame_cap0_runs/TCGA_Breast_1102/filtering_samples/filters_19May_order_5ge_wAnnot_GPstar/G_TCGA-AO-A0JM-01A-21R-A056-07_0A501GA.tsv.gz \n",
      "---------------------------------------------\n",
      " ohsu J_TCGA-AO-A0JM-01A-21R-A056-07_0A501GA.tsv\n",
      "eth /cluster/work/grlab/projects/projects2020_OHSU/peptides_generation/CANCER_eth/commit_c4dd02c_conf2_Frame_cap0_runs/TCGA_Breast_1102/filtering_samples/filters_19May_order_5ge_wAnnot_GPstar/G_TCGA-BH-A18V-01A-11R-A12D-07_0A101GA.tsv.gz \n",
      "---------------------------------------------\n",
      " ohsu J_TCGA-BH-A18V-01A-11R-A12D-07_0A101GA.tsv\n",
      "eth /cluster/work/grlab/projects/projects2020_OHSU/peptides_generation/CANCER_eth/commit_c4dd02c_conf2_Frame_cap0_runs/TCGA_Breast_1102/filtering_samples/filters_19May_order_5ge_wAnnot_GPstar/G_TCGA-A2-A0SX-01A-12R-A084-07_02112GA.tsv.gz \n",
      "---------------------------------------------\n",
      " ohsu J_TCGA-A2-A0SX-01A-12R-A084-07_02112GA.tsv\n",
      "TCGAA2A0SX01A12RA08407\n"
     ]
    },
    {
     "name": "stderr",
     "output_type": "stream",
     "text": [
      "134it [00:00, 6557.88it/s]\n"
     ]
    },
    {
     "name": "stdout",
     "output_type": "stream",
     "text": [
      "['J', 'TCGA-A2-A0SX-01A-12R-A084-07', '02112GA']\n",
      "['0', '2', '1', '1', '2']\n",
      "2\n",
      "12\n",
      "4\n",
      "5\n",
      "NEXT\n",
      "eth /cluster/work/grlab/projects/projects2020_OHSU/peptides_generation/CANCER_eth/commit_c4dd02c_conf2_Frame_cap0_runs/TCGA_Breast_1102/filtering_samples/filters_19May_order_5ge_wAnnot_GPstar/G_TCGA-A2-A0SX-01A-12R-A084-07_0253AGA.tsv.gz \n",
      "---------------------------------------------\n",
      " ohsu J_TCGA-A2-A0SX-01A-12R-A084-07_0253AGA.tsv\n",
      "TCGAA2A0SX01A12RA08407\n"
     ]
    },
    {
     "name": "stderr",
     "output_type": "stream",
     "text": [
      "76it [00:00, 6454.60it/s]\n"
     ]
    },
    {
     "name": "stdout",
     "output_type": "stream",
     "text": [
      "['J', 'TCGA-A2-A0SX-01A-12R-A084-07', '0253AGA']\n",
      "['0', '2', '5', '3', 'Any']\n",
      "0\n",
      "9\n",
      "1\n",
      "8\n",
      "NEXT\n",
      "eth /cluster/work/grlab/projects/projects2020_OHSU/peptides_generation/CANCER_eth/commit_c4dd02c_conf2_Frame_cap0_runs/TCGA_Breast_1102/filtering_samples/filters_19May_order_5ge_wAnnot_GPstar/G_TCGA-AO-A0JM-01A-21R-A056-07_0251AGA.tsv.gz \n",
      "---------------------------------------------\n",
      " ohsu J_TCGA-AO-A0JM-01A-21R-A056-07_0251AGA.tsv\n",
      "eth /cluster/work/grlab/projects/projects2020_OHSU/peptides_generation/CANCER_eth/commit_c4dd02c_conf2_Frame_cap0_runs/TCGA_Breast_1102/filtering_samples/filters_19May_order_5ge_wAnnot_GPstar/G_TCGA-AO-A0JM-01A-21R-A056-07_0AN01GA.tsv.gz \n",
      "---------------------------------------------\n",
      " ohsu J_TCGA-AO-A0JM-01A-21R-A056-07_0AN01GA.tsv\n",
      "eth /cluster/work/grlab/projects/projects2020_OHSU/peptides_generation/CANCER_eth/commit_c4dd02c_conf2_Frame_cap0_runs/TCGA_Breast_1102/filtering_samples/filters_19May_order_5ge_wAnnot_GPstar/G_TCGA-A2-A0D2-01A-21R-A034-07_0AN3XGA.tsv.gz \n",
      "---------------------------------------------\n",
      " ohsu J_TCGA-A2-A0D2-01A-21R-A034-07_0AN3XGA.tsv\n",
      "eth /cluster/work/grlab/projects/projects2020_OHSU/peptides_generation/CANCER_eth/commit_c4dd02c_conf2_Frame_cap0_runs/TCGA_Breast_1102/filtering_samples/filters_19May_order_5ge_wAnnot_GPstar/G_TCGA-BH-A18V-01A-11R-A12D-07_0A11XGA.tsv.gz \n",
      "---------------------------------------------\n",
      " ohsu J_TCGA-BH-A18V-01A-11R-A12D-07_0A11XGA.tsv\n",
      "eth /cluster/work/grlab/projects/projects2020_OHSU/peptides_generation/CANCER_eth/commit_c4dd02c_conf2_Frame_cap0_runs/TCGA_Breast_1102/filtering_samples/filters_19May_order_5ge_wAnnot_GPstar/G_TCGA-C8-A12P-01A-11R-A115-07_0213AGA.tsv.gz \n",
      "---------------------------------------------\n",
      " ohsu J_TCGA-C8-A12P-01A-11R-A115-07_0213AGA.tsv\n",
      "eth /cluster/work/grlab/projects/projects2020_OHSU/peptides_generation/CANCER_eth/commit_c4dd02c_conf2_Frame_cap0_runs/TCGA_Breast_1102/filtering_samples/filters_19May_order_5ge_wAnnot_GPstar/G_TCGA-BH-A18V-01A-11R-A12D-07_0253XGA.tsv.gz \n",
      "---------------------------------------------\n",
      " ohsu J_TCGA-BH-A18V-01A-11R-A12D-07_0253XGA.tsv\n",
      "eth /cluster/work/grlab/projects/projects2020_OHSU/peptides_generation/CANCER_eth/commit_c4dd02c_conf2_Frame_cap0_runs/TCGA_Breast_1102/filtering_samples/filters_19May_order_5ge_wAnnot_GPstar/G_TCGA-C8-A12P-01A-11R-A115-07_0AN3AGA.tsv.gz \n",
      "---------------------------------------------\n",
      " ohsu J_TCGA-C8-A12P-01A-11R-A115-07_0AN3AGA.tsv\n",
      "eth /cluster/work/grlab/projects/projects2020_OHSU/peptides_generation/CANCER_eth/commit_c4dd02c_conf2_Frame_cap0_runs/TCGA_Breast_1102/filtering_samples/filters_19May_order_5ge_wAnnot_GPstar/G_TCGA-BH-A18V-01A-11R-A12D-07_0A13AGA.tsv.gz \n",
      "---------------------------------------------\n",
      " ohsu J_TCGA-BH-A18V-01A-11R-A12D-07_0A13AGA.tsv\n",
      "eth /cluster/work/grlab/projects/projects2020_OHSU/peptides_generation/CANCER_eth/commit_c4dd02c_conf2_Frame_cap0_runs/TCGA_Breast_1102/filtering_samples/filters_19May_order_5ge_wAnnot_GPstar/G_TCGA-A2-A0SX-01A-12R-A084-07_02132GA.tsv.gz \n",
      "---------------------------------------------\n",
      " ohsu J_TCGA-A2-A0SX-01A-12R-A084-07_02132GA.tsv\n",
      "TCGAA2A0SX01A12RA08407\n"
     ]
    },
    {
     "name": "stderr",
     "output_type": "stream",
     "text": [
      "162it [00:00, 6553.28it/s]\n"
     ]
    },
    {
     "name": "stdout",
     "output_type": "stream",
     "text": [
      "['J', 'TCGA-A2-A0SX-01A-12R-A084-07', '02132GA']\n",
      "['0', '2', '1', '3', '2']\n",
      "2\n",
      "18\n",
      "5\n",
      "7\n",
      "NEXT\n",
      "eth /cluster/work/grlab/projects/projects2020_OHSU/peptides_generation/CANCER_eth/commit_c4dd02c_conf2_Frame_cap0_runs/TCGA_Breast_1102/filtering_samples/filters_19May_order_5ge_wAnnot_GPstar/G_TCGA-C8-A12P-01A-11R-A115-07_0A51XGA.tsv.gz \n",
      "---------------------------------------------\n",
      " ohsu J_TCGA-C8-A12P-01A-11R-A115-07_0A51XGA.tsv\n",
      "eth /cluster/work/grlab/projects/projects2020_OHSU/peptides_generation/CANCER_eth/commit_c4dd02c_conf2_Frame_cap0_runs/TCGA_Breast_1102/filtering_samples/filters_19May_order_5ge_wAnnot_GPstar/G_TCGA-AO-A0JM-01A-21R-A056-07_02132GA.tsv.gz \n",
      "---------------------------------------------\n",
      " ohsu J_TCGA-AO-A0JM-01A-21R-A056-07_02132GA.tsv\n",
      "eth /cluster/work/grlab/projects/projects2020_OHSU/peptides_generation/CANCER_eth/commit_c4dd02c_conf2_Frame_cap0_runs/TCGA_Breast_1102/filtering_samples/filters_19May_order_5ge_wAnnot_GPstar/G_TCGA-AO-A0JM-01A-21R-A056-07_0A11AGA.tsv.gz \n",
      "---------------------------------------------\n",
      " ohsu J_TCGA-AO-A0JM-01A-21R-A056-07_0A11AGA.tsv\n",
      "eth /cluster/work/grlab/projects/projects2020_OHSU/peptides_generation/CANCER_eth/commit_c4dd02c_conf2_Frame_cap0_runs/TCGA_Breast_1102/filtering_samples/filters_19May_order_5ge_wAnnot_GPstar/G_TCGA-A2-A0D2-01A-21R-A034-07_0A101GA.tsv.gz \n",
      "---------------------------------------------\n",
      " ohsu J_TCGA-A2-A0D2-01A-21R-A034-07_0A101GA.tsv\n",
      "eth /cluster/work/grlab/projects/projects2020_OHSU/peptides_generation/CANCER_eth/commit_c4dd02c_conf2_Frame_cap0_runs/TCGA_Breast_1102/filtering_samples/filters_19May_order_5ge_wAnnot_GPstar/G_TCGA-C8-A12P-01A-11R-A115-07_02512GA.tsv.gz \n",
      "---------------------------------------------\n",
      " ohsu J_TCGA-C8-A12P-01A-11R-A115-07_02512GA.tsv\n",
      "eth /cluster/work/grlab/projects/projects2020_OHSU/peptides_generation/CANCER_eth/commit_c4dd02c_conf2_Frame_cap0_runs/TCGA_Breast_1102/filtering_samples/filters_19May_order_5ge_wAnnot_GPstar/G_TCGA-C8-A12P-01A-11R-A115-07_0A112GA.tsv.gz \n",
      "---------------------------------------------\n",
      " ohsu J_TCGA-C8-A12P-01A-11R-A115-07_0A112GA.tsv\n",
      "eth /cluster/work/grlab/projects/projects2020_OHSU/peptides_generation/CANCER_eth/commit_c4dd02c_conf2_Frame_cap0_runs/TCGA_Breast_1102/filtering_samples/filters_19May_order_5ge_wAnnot_GPstar/G_TCGA-BH-A18V-01A-11R-A12D-07_02132GA.tsv.gz \n",
      "---------------------------------------------\n",
      " ohsu J_TCGA-BH-A18V-01A-11R-A12D-07_02132GA.tsv\n",
      "eth /cluster/work/grlab/projects/projects2020_OHSU/peptides_generation/CANCER_eth/commit_c4dd02c_conf2_Frame_cap0_runs/TCGA_Breast_1102/filtering_samples/filters_19May_order_5ge_wAnnot_GPstar/G_TCGA-A2-A0SX-01A-12R-A084-07_0A51XGA.tsv.gz \n",
      "---------------------------------------------\n",
      " ohsu J_TCGA-A2-A0SX-01A-12R-A084-07_0A51XGA.tsv\n",
      "TCGAA2A0SX01A12RA08407\n"
     ]
    },
    {
     "name": "stderr",
     "output_type": "stream",
     "text": [
      "77it [00:00, 6482.18it/s]\n"
     ]
    },
    {
     "name": "stdout",
     "output_type": "stream",
     "text": [
      "['J', 'TCGA-A2-A0SX-01A-12R-A084-07', '0A51XGA']\n",
      "['0', 'Any', '5', '1', '10']\n",
      "1\n",
      "10\n",
      "2\n",
      "3\n",
      "NEXT\n",
      "eth /cluster/work/grlab/projects/projects2020_OHSU/peptides_generation/CANCER_eth/commit_c4dd02c_conf2_Frame_cap0_runs/TCGA_Breast_1102/filtering_samples/filters_19May_order_5ge_wAnnot_GPstar/G_TCGA-A2-A0SX-01A-12R-A084-07_0AN32GA.tsv.gz \n",
      "---------------------------------------------\n",
      " ohsu J_TCGA-A2-A0SX-01A-12R-A084-07_0AN32GA.tsv\n",
      "TCGAA2A0SX01A12RA08407\n"
     ]
    },
    {
     "name": "stderr",
     "output_type": "stream",
     "text": [
      "524it [00:00, 6460.65it/s]\n"
     ]
    },
    {
     "name": "stdout",
     "output_type": "stream",
     "text": [
      "['J', 'TCGA-A2-A0SX-01A-12R-A084-07', '0AN32GA']\n",
      "['0', 'Any', 'None', '3', '2']\n",
      "2\n",
      "627\n",
      "7\n",
      "35\n",
      "NEXT\n",
      "eth /cluster/work/grlab/projects/projects2020_OHSU/peptides_generation/CANCER_eth/commit_c4dd02c_conf2_Frame_cap0_runs/TCGA_Breast_1102/filtering_samples/filters_19May_order_5ge_wAnnot_GPstar/G_TCGA-C8-A12P-01A-11R-A115-07_0AN12GA.tsv.gz \n",
      "---------------------------------------------\n",
      " ohsu J_TCGA-C8-A12P-01A-11R-A115-07_0AN12GA.tsv\n",
      "eth /cluster/work/grlab/projects/projects2020_OHSU/peptides_generation/CANCER_eth/commit_c4dd02c_conf2_Frame_cap0_runs/TCGA_Breast_1102/filtering_samples/filters_19May_order_5ge_wAnnot_GPstar/G_TCGA-C8-A12P-01A-11R-A115-07_02101GA.tsv.gz \n",
      "---------------------------------------------\n",
      " ohsu J_TCGA-C8-A12P-01A-11R-A115-07_02101GA.tsv\n",
      "eth /cluster/work/grlab/projects/projects2020_OHSU/peptides_generation/CANCER_eth/commit_c4dd02c_conf2_Frame_cap0_runs/TCGA_Breast_1102/filtering_samples/filters_19May_order_5ge_wAnnot_GPstar/G_TCGA-C8-A12P-01A-11R-A115-07_0A532GA.tsv.gz \n",
      "---------------------------------------------\n",
      " ohsu J_TCGA-C8-A12P-01A-11R-A115-07_0A532GA.tsv\n",
      "eth /cluster/work/grlab/projects/projects2020_OHSU/peptides_generation/CANCER_eth/commit_c4dd02c_conf2_Frame_cap0_runs/TCGA_Breast_1102/filtering_samples/filters_19May_order_5ge_wAnnot_GPstar/G_TCGA-C8-A12P-01A-11R-A115-07_0A132GA.tsv.gz \n",
      "---------------------------------------------\n",
      " ohsu J_TCGA-C8-A12P-01A-11R-A115-07_0A132GA.tsv\n",
      "eth /cluster/work/grlab/projects/projects2020_OHSU/peptides_generation/CANCER_eth/commit_c4dd02c_conf2_Frame_cap0_runs/TCGA_Breast_1102/filtering_samples/filters_19May_order_5ge_wAnnot_GPstar/G_TCGA-A2-A0SX-01A-12R-A084-07_0A101GA.tsv.gz \n",
      "---------------------------------------------\n",
      " ohsu J_TCGA-A2-A0SX-01A-12R-A084-07_0A101GA.tsv\n",
      "TCGAA2A0SX01A12RA08407\n"
     ]
    },
    {
     "name": "stderr",
     "output_type": "stream",
     "text": [
      "149it [00:00, 6529.77it/s]\n"
     ]
    },
    {
     "name": "stdout",
     "output_type": "stream",
     "text": [
      "['J', 'TCGA-A2-A0SX-01A-12R-A084-07', '0A101GA']\n",
      "['0', 'Any', '1', '0', '1']\n",
      "None\n",
      "62\n",
      "2\n",
      "8\n",
      "NEXT\n",
      "eth /cluster/work/grlab/projects/projects2020_OHSU/peptides_generation/CANCER_eth/commit_c4dd02c_conf2_Frame_cap0_runs/TCGA_Breast_1102/filtering_samples/filters_19May_order_5ge_wAnnot_GPstar/G_TCGA-AO-A0JM-01A-21R-A056-07_0A101GA.tsv.gz \n",
      "---------------------------------------------\n",
      " ohsu J_TCGA-AO-A0JM-01A-21R-A056-07_0A101GA.tsv\n",
      "eth /cluster/work/grlab/projects/projects2020_OHSU/peptides_generation/CANCER_eth/commit_c4dd02c_conf2_Frame_cap0_runs/TCGA_Breast_1102/filtering_samples/filters_19May_order_5ge_wAnnot_GPstar/G_TCGA-A2-A0SX-01A-12R-A084-07_0A112GA.tsv.gz \n",
      "---------------------------------------------\n",
      " ohsu J_TCGA-A2-A0SX-01A-12R-A084-07_0A112GA.tsv\n",
      "TCGAA2A0SX01A12RA08407\n"
     ]
    },
    {
     "name": "stderr",
     "output_type": "stream",
     "text": [
      "149it [00:00, 6640.72it/s]\n"
     ]
    },
    {
     "name": "stdout",
     "output_type": "stream",
     "text": [
      "['J', 'TCGA-A2-A0SX-01A-12R-A084-07', '0A112GA']\n",
      "['0', 'Any', '1', '1', '2']\n",
      "2\n",
      "64\n",
      "2\n",
      "8\n",
      "NEXT\n",
      "eth /cluster/work/grlab/projects/projects2020_OHSU/peptides_generation/CANCER_eth/commit_c4dd02c_conf2_Frame_cap0_runs/TCGA_Breast_1102/filtering_samples/filters_19May_order_5ge_wAnnot_GPstar/G_TCGA-BH-A18V-01A-11R-A12D-07_0AN12GA.tsv.gz \n",
      "---------------------------------------------\n",
      " ohsu J_TCGA-BH-A18V-01A-11R-A12D-07_0AN12GA.tsv\n",
      "eth /cluster/work/grlab/projects/projects2020_OHSU/peptides_generation/CANCER_eth/commit_c4dd02c_conf2_Frame_cap0_runs/TCGA_Breast_1102/filtering_samples/filters_19May_order_5ge_wAnnot_GPstar/G_TCGA-A2-A0D2-01A-21R-A034-07_0AN32GA.tsv.gz \n",
      "---------------------------------------------\n",
      " ohsu J_TCGA-A2-A0D2-01A-21R-A034-07_0AN32GA.tsv\n",
      "eth /cluster/work/grlab/projects/projects2020_OHSU/peptides_generation/CANCER_eth/commit_c4dd02c_conf2_Frame_cap0_runs/TCGA_Breast_1102/filtering_samples/filters_19May_order_5ge_wAnnot_GPstar/G_TCGA-C8-A12P-01A-11R-A115-07_0A11XGA.tsv.gz \n",
      "---------------------------------------------\n",
      " ohsu J_TCGA-C8-A12P-01A-11R-A115-07_0A11XGA.tsv\n",
      "eth /cluster/work/grlab/projects/projects2020_OHSU/peptides_generation/CANCER_eth/commit_c4dd02c_conf2_Frame_cap0_runs/TCGA_Breast_1102/filtering_samples/filters_19May_order_5ge_wAnnot_GPstar/G_TCGA-AO-A0JM-01A-21R-A056-07_0253XGA.tsv.gz \n",
      "---------------------------------------------\n",
      " ohsu J_TCGA-AO-A0JM-01A-21R-A056-07_0253XGA.tsv\n",
      "eth /cluster/work/grlab/projects/projects2020_OHSU/peptides_generation/CANCER_eth/commit_c4dd02c_conf2_Frame_cap0_runs/TCGA_Breast_1102/filtering_samples/filters_19May_order_5ge_wAnnot_GPstar/G_TCGA-A2-A0SX-01A-12R-A084-07_0A51AGA.tsv.gz \n",
      "---------------------------------------------\n",
      " ohsu J_TCGA-A2-A0SX-01A-12R-A084-07_0A51AGA.tsv\n",
      "TCGAA2A0SX01A12RA08407\n"
     ]
    },
    {
     "name": "stderr",
     "output_type": "stream",
     "text": [
      "77it [00:00, 6551.07it/s]\n"
     ]
    },
    {
     "name": "stdout",
     "output_type": "stream",
     "text": [
      "['J', 'TCGA-A2-A0SX-01A-12R-A084-07', '0A51AGA']\n",
      "['0', 'Any', '5', '1', 'Any']\n",
      "0\n",
      "10\n",
      "2\n",
      "3\n",
      "NEXT\n",
      "eth /cluster/work/grlab/projects/projects2020_OHSU/peptides_generation/CANCER_eth/commit_c4dd02c_conf2_Frame_cap0_runs/TCGA_Breast_1102/filtering_samples/filters_19May_order_5ge_wAnnot_GPstar/G_TCGA-C8-A12P-01A-11R-A115-07_0A11AGA.tsv.gz \n",
      "---------------------------------------------\n",
      " ohsu J_TCGA-C8-A12P-01A-11R-A115-07_0A11AGA.tsv\n",
      "eth /cluster/work/grlab/projects/projects2020_OHSU/peptides_generation/CANCER_eth/commit_c4dd02c_conf2_Frame_cap0_runs/TCGA_Breast_1102/filtering_samples/filters_19May_order_5ge_wAnnot_GPstar/G_TCGA-A2-A0D2-01A-21R-A034-07_0A13XGA.tsv.gz \n",
      "---------------------------------------------\n",
      " ohsu J_TCGA-A2-A0D2-01A-21R-A034-07_0A13XGA.tsv\n",
      "eth /cluster/work/grlab/projects/projects2020_OHSU/peptides_generation/CANCER_eth/commit_c4dd02c_conf2_Frame_cap0_runs/TCGA_Breast_1102/filtering_samples/filters_19May_order_5ge_wAnnot_GPstar/G_TCGA-C8-A12P-01A-11R-A115-07_0251AGA.tsv.gz \n",
      "---------------------------------------------\n",
      " ohsu J_TCGA-C8-A12P-01A-11R-A115-07_0251AGA.tsv\n",
      "eth /cluster/work/grlab/projects/projects2020_OHSU/peptides_generation/CANCER_eth/commit_c4dd02c_conf2_Frame_cap0_runs/TCGA_Breast_1102/filtering_samples/filters_19May_order_5ge_wAnnot_GPstar/G_TCGA-AO-A0JM-01A-21R-A056-07_0A112GA.tsv.gz \n",
      "---------------------------------------------\n",
      " ohsu J_TCGA-AO-A0JM-01A-21R-A056-07_0A112GA.tsv\n",
      "eth /cluster/work/grlab/projects/projects2020_OHSU/peptides_generation/CANCER_eth/commit_c4dd02c_conf2_Frame_cap0_runs/TCGA_Breast_1102/filtering_samples/filters_19May_order_5ge_wAnnot_GPstar/G_TCGA-BH-A18V-01A-11R-A12D-07_0A53AGA.tsv.gz \n",
      "---------------------------------------------\n",
      " ohsu J_TCGA-BH-A18V-01A-11R-A12D-07_0A53AGA.tsv\n",
      "eth /cluster/work/grlab/projects/projects2020_OHSU/peptides_generation/CANCER_eth/commit_c4dd02c_conf2_Frame_cap0_runs/TCGA_Breast_1102/filtering_samples/filters_19May_order_5ge_wAnnot_GPstar/G_TCGA-A2-A0D2-01A-21R-A034-07_0213XGA.tsv.gz \n",
      "---------------------------------------------\n",
      " ohsu J_TCGA-A2-A0D2-01A-21R-A034-07_0213XGA.tsv\n",
      "eth /cluster/work/grlab/projects/projects2020_OHSU/peptides_generation/CANCER_eth/commit_c4dd02c_conf2_Frame_cap0_runs/TCGA_Breast_1102/filtering_samples/filters_19May_order_5ge_wAnnot_GPstar/G_TCGA-A2-A0SX-01A-12R-A084-07_0A132GA.tsv.gz \n",
      "---------------------------------------------\n",
      " ohsu J_TCGA-A2-A0SX-01A-12R-A084-07_0A132GA.tsv\n",
      "TCGAA2A0SX01A12RA08407\n"
     ]
    },
    {
     "name": "stderr",
     "output_type": "stream",
     "text": [
      "180it [00:00, 6604.68it/s]\n"
     ]
    },
    {
     "name": "stdout",
     "output_type": "stream",
     "text": [
      "['J', 'TCGA-A2-A0SX-01A-12R-A084-07', '0A132GA']\n",
      "['0', 'Any', '1', '3', '2']\n",
      "2\n",
      "94\n",
      "2\n",
      "12\n",
      "NEXT\n",
      "eth /cluster/work/grlab/projects/projects2020_OHSU/peptides_generation/CANCER_eth/commit_c4dd02c_conf2_Frame_cap0_runs/TCGA_Breast_1102/filtering_samples/filters_19May_order_5ge_wAnnot_GPstar/G_TCGA-A2-A0D2-01A-21R-A034-07_0A112GA.tsv.gz \n",
      "---------------------------------------------\n",
      " ohsu J_TCGA-A2-A0D2-01A-21R-A034-07_0A112GA.tsv\n",
      "eth /cluster/work/grlab/projects/projects2020_OHSU/peptides_generation/CANCER_eth/commit_c4dd02c_conf2_Frame_cap0_runs/TCGA_Breast_1102/filtering_samples/filters_19May_order_5ge_wAnnot_GPstar/G_TCGA-C8-A12P-01A-11R-A115-07_02532GA.tsv.gz \n",
      "---------------------------------------------\n",
      " ohsu J_TCGA-C8-A12P-01A-11R-A115-07_02532GA.tsv\n",
      "eth /cluster/work/grlab/projects/projects2020_OHSU/peptides_generation/CANCER_eth/commit_c4dd02c_conf2_Frame_cap0_runs/TCGA_Breast_1102/filtering_samples/filters_19May_order_5ge_wAnnot_GPstar/G_TCGA-AO-A0JM-01A-21R-A056-07_0A53AGA.tsv.gz \n",
      "---------------------------------------------\n",
      " ohsu J_TCGA-AO-A0JM-01A-21R-A056-07_0A53AGA.tsv\n",
      "eth /cluster/work/grlab/projects/projects2020_OHSU/peptides_generation/CANCER_eth/commit_c4dd02c_conf2_Frame_cap0_runs/TCGA_Breast_1102/filtering_samples/filters_19May_order_5ge_wAnnot_GPstar/G_TCGA-A2-A0SX-01A-12R-A084-07_0AN1XGA.tsv.gz \n",
      "---------------------------------------------\n",
      " ohsu J_TCGA-A2-A0SX-01A-12R-A084-07_0AN1XGA.tsv\n",
      "TCGAA2A0SX01A12RA08407\n"
     ]
    },
    {
     "name": "stderr",
     "output_type": "stream",
     "text": [
      "447it [00:00, 6517.31it/s]"
     ]
    },
    {
     "name": "stdout",
     "output_type": "stream",
     "text": [
      "['J', 'TCGA-A2-A0SX-01A-12R-A084-07', '0AN1XGA']\n",
      "['0', 'Any', 'None', '1', '10']\n",
      "1\n",
      "526\n",
      "6\n",
      "26\n",
      "NEXT\n"
     ]
    },
    {
     "name": "stderr",
     "output_type": "stream",
     "text": [
      "\n"
     ]
    }
   ],
   "source": [
    "# Loading tables according to given paths\n",
    "\n",
    "filter_dir = os.path.join(FILTERING_PATH_BRCA, 'filtering_samples', FILTERING_ID)\n",
    "\n",
    "out_df_filtered=pd.DataFrame()\n",
    "\n",
    "out_var=''\n",
    "title_venn = '{sample}'\n",
    "\n",
    "# ETH Names\n",
    "# OLD code\n",
    "if not OHSU_BRCA_NEW: \n",
    "    eth_all = glob.glob(os.path.join(filter_dir, 'G*'))\n",
    "    salt=''\n",
    "    file=TAR_OHSU_BRCA\n",
    "    \n",
    "#New code\n",
    "if OHSU_BRCA_NEW:\n",
    "    eth_all = glob.glob(os.path.join(filter_dir, 'G*'))\n",
    "    eth_all = [i for i in eth_all if len(os.path.basename(i)) == 45] #Shorten path has len 45\n",
    "    salt='OHSU_BRSA_NEW'\n",
    "    file=TAR_OSHU_BRCA_NEW\n",
    "    \n",
    "# print(eth_all,TT)\n",
    "# OHSU Names\n",
    "with tarfile.open(file, \"r:*\") as tar:\n",
    "    ohsu_all = tar.getnames()\n",
    "\n",
    "print(ohsu_all[0],TT)\n",
    "# Get file pairs\n",
    "file_pair = {}\n",
    "for idx_eth, eth in enumerate(eth_all):\n",
    "    pattern = os.path.basename(eth).replace('G_', '').replace('.gz', '') \n",
    "    for idx_ohsu, ohsu in enumerate(ohsu_all):\n",
    "        if pattern in ohsu:\n",
    "            file_pair[eth] = ohsu\n",
    "    \n",
    "# print(file_pair,TT)\n",
    "        \n",
    "restricts = RESTRICTS_BRCA\n",
    "for restrict in restricts:\n",
    "    df = {'sample' : [], \n",
    "      'filter_foreground' : [], \n",
    "      'filter_background' : [], \n",
    "      'filter': [],\n",
    "      'size_ohsu' : [], \n",
    "      'size_eth' : [], \n",
    "      'size_intersection' : [], \n",
    "      'size_ohsu\\eth' : [], \n",
    "      'size_eth\\ohsu' : [],\n",
    "      'eth_kmers\\inter':[],\n",
    "      'ohsu_kmers\\inter':[],\n",
    "      'inter_kmers':[],\n",
    "          \n",
    "      'coord_OHSU':[],\n",
    "      'coord_ETH':[],\n",
    "      'size_ohsu_coor' : [], \n",
    "      'size_eth_coor' : [], \n",
    "      'size_intersection_coor' : [], \n",
    "      'size_ohsu\\eth_coor' : [], \n",
    "      'size_eth\\ohsu_coor' : [],\n",
    "      'eth_coor\\inter_coor':[],\n",
    "      'ohsu_coor\\inter_coor':[],\n",
    "      'inter_coor':[],\n",
    "      'eth_coor\\ohsu_coor':[],\n",
    "      'ohsu_coor\\eth_coor':[],\n",
    "      'priority':[],\n",
    "         }\n",
    "    with tarfile.open(file, \"r:*\") as tar: #OHSU\n",
    "        for eth, ohsu in file_pair.items(): # ETH\n",
    "            print('eth',eth,TT,'ohsu',ohsu)\n",
    "            if (not restrict) or restrict == re.findall('G_([\\s\\S]+?)_',eth)[0].replace('-',''): #Restrict to category of interest\n",
    "                    print(restrict)\n",
    "                    df_ohsu = pd.read_csv(ohsu_path:=tar.extractfile(ohsu), sep=\"\\t\")\n",
    "                    df_ohsu.reset_index(inplace=True)\n",
    "                    if not df_ohsu.empty: df_ohsu = table_processing.ohsu_to_eth_coord(df_ohsu)\n",
    "                    if not df_ohsu.empty: df_ohsu['junction_coordinate'] = df_ohsu['jx_shifted'].apply(lambda x: ':'.join(x.split(';')[1:3]))\n",
    "                    df_eth = pd.read_csv(eth, sep=\"\\t\")\n",
    "                    if not df_eth.empty: df_eth=table_processing.get_junction_coordinates(df_eth,'coord')\n",
    "                    df1=df_eth\n",
    "                    df2=df_ohsu\n",
    "                    df_eth = set(df_eth['kmer'])\n",
    "                    df_ohsu = set(df_ohsu['index'])\n",
    "                    df_eth_coor = set(df1['junction_coordinate']) if not df1.empty else set([])\n",
    "                    df_ohsu_coor = set(df2['junction_coordinate']) if not df1.empty else set([])\n",
    "                    name = os.path.basename(ohsu).replace('.tsv', '').split('_')\n",
    "                    print(name)\n",
    "                    df['coord_ETH'].append(df1['junction_coordinate'] if not df1.empty else 'None' )\n",
    "                    df['coord_OHSU'].append(df2['junction_coordinate'] if not df2.empty else 'None')\n",
    "                    df['sample'].append(ss:=name[1].replace('-',''))\n",
    "                \n",
    "                    if not OHSU_BRCA_NEW:\n",
    "                        df['filter_foreground'].append(name[2])\n",
    "                        df['filter_background'].append(name[3])\n",
    "                        if name[3][1] == 'Any':\n",
    "                            priority=0\n",
    "                        elif name[3][1] == 10:\n",
    "                            priority=1\n",
    "                        elif name[3][1] == 2:\n",
    "                            priority=2\n",
    "                        else:\n",
    "                            priotity = None\n",
    "                        df['priority'].append(priority)\n",
    "                        df['filter'].append(name[2]+' '+name[3])\n",
    "                    else:\n",
    "                        df['filter'].append(name[2])\n",
    "                        a = []\n",
    "                        for i in range(5):\n",
    "                            if name[2][i] == 'A':\n",
    "                                a.append('Any')\n",
    "                            elif name[2][i] == 'X':\n",
    "                                a.append('10')\n",
    "                            elif name[2][i] == 'N':\n",
    "                                a.append('None')\n",
    "                            else:\n",
    "                                a.append(name[2][i])\n",
    "                        df['filter_foreground'].append(f'({a[0]}, {a[1]}, {a[2]})')\n",
    "                        df['filter_background'].append(f'({a[3]}, {a[4]})')\n",
    "                        if a[4] == 'Any':\n",
    "                            priority=0\n",
    "                        elif a[4] == '10':\n",
    "                            priority=1\n",
    "                        elif a[4] == '2':\n",
    "                            priority=2\n",
    "                        else:\n",
    "                            priority = None\n",
    "                        df['priority'].append(priority)\n",
    "                    print(a)\n",
    "                    print(priority)\n",
    "                    df['size_ohsu'].append(len(df_ohsu))\n",
    "                    df['size_eth'].append(len(df_eth))\n",
    "                    df['size_ohsu_coor'].append(len(df_ohsu_coor))\n",
    "                    df['size_eth_coor'].append(len(df_eth_coor))\n",
    "                    df['size_ohsu\\eth'].append(len(df_ohsu_filter:=df_ohsu.difference(df_eth)))\n",
    "                    df['size_eth\\ohsu'].append(len(df_eth_filter:=df_eth.difference(df_ohsu)))\n",
    "                \n",
    "                    if name[2] in ['0AN3XGA','0AN3AGA'] and name[1].replace('-','') == 'TCGAC8A12P01A11RA11507':\n",
    "                       out_var+= f'sample: {ss}\\n filter_for: ({a[0]}, {a[1]}, {a[2]})\\n  filter_back: ({a[3]}, {a[4]})\\n ohsu/eth: {len(df_ohsu_filter)}\\n path_OSHU: {ohsu_path}\\n path_ETH: {eth}\\n'\n",
    "                    \n",
    "                    df['size_ohsu\\eth_coor'].append(len(df_ohsu_filter_coor:=df_ohsu_coor.difference(df_eth_coor)))\n",
    "                    df['size_eth\\ohsu_coor'].append(len(df_eth_filter_coor:=df_eth_coor.difference(df_ohsu_coor)))\n",
    "                    df['ohsu_coor\\eth_coor'].append(np.array(df_ohsu_filter_coor))\n",
    "                    print(len(df_ohsu_filter_coor))\n",
    "                    print(len(df_eth_filter_coor))\n",
    "                    df['eth_coor\\ohsu_coor'].append(np.array(df_eth_filter_coor))\n",
    "                    df['size_intersection'].append(len(df_inter_filter:=set(df_ohsu) & set(df_eth)))\n",
    "                    df['size_intersection_coor'].append(len(df_inter_filter_coor:=df_ohsu_coor & df_eth_coor))\n",
    "                    print(len(df_inter_filter_coor))\n",
    "                    print('NEXT')\n",
    "                    df['eth_kmers\\inter'].append(df_eth_witout_inter:=list(df_eth_filter.difference(df_inter_filter)))\n",
    "                    df['ohsu_kmers\\inter'].append(df_ohsu_witout_inter:=list(df_ohsu_filter.difference(df_inter_filter)))\n",
    "                    df['eth_coor\\inter_coor'].append(df_eth_witout_inter_coor:=list(df_eth_filter_coor.difference(df_inter_filter_coor)))\n",
    "                    df['ohsu_coor\\inter_coor'].append(df_ohsu_witout_inter_coor:=list(df_ohsu_filter_coor.difference(df_inter_filter_coor)))\n",
    "                    df['inter_kmers'].append(list(df_inter_filter))\n",
    "                    df['inter_coor'].append(list(df_inter_filter_coor))\n",
    "    df = pd.DataFrame(df)\n",
    "         #print(df)\n",
    "    if not out_df_filtered.empty:\n",
    "        out_df_filtered = pd.concat([out_df_filtered, df])\n",
    "    else:\n",
    "        out_df_filtered = df"
   ]
  },
  {
   "cell_type": "markdown",
   "id": "a108feab-b58e-4c30-a5a6-a4918719d749",
   "metadata": {},
   "source": [
    "END !!!"
   ]
  },
  {
   "cell_type": "code",
   "execution_count": null,
   "id": "8fb50131",
   "metadata": {},
   "outputs": [],
   "source": [
    "out_df_original = pd.read_csv(f'{SAVE_DIR}/{DIR_CSV}/{DIR_BRCA}/{NAME_TABLES}/{NAME_NON_FILTERING_BRCA}', sep=\"\\t\")\n",
    "out_df_original"
   ]
  },
  {
   "cell_type": "code",
   "execution_count": null,
   "id": "20cf6c2e",
   "metadata": {},
   "outputs": [],
   "source": [
    "task_df={\n",
    "    'sample':[],\n",
    "    'filter':[],\n",
    "    'kmer_eth/inter (filtered)':[],\n",
    "    'kmer_eth (before filtering)':[],\n",
    "    'kmer_inter (before filtering)':[],\n",
    "}\n",
    "\n",
    "for index, row in out_df_filtered.iterrows():\n",
    "    for kmer in row['eth_kmers\\inter']:\n",
    "        task_df['sample'].append(sample:=row['sample'])\n",
    "        if not OHSU_BRCA_NEW:\n",
    "            task_df['filter'].append(row['filter_foreground']+'  '+row['filter_background'])\n",
    "        if OHSU_BRCA_NEW:\n",
    "            task_df['filter'].append(row['filter'])\n",
    "        task_df['kmer_eth/inter (filtered)'].append(kmer)\n",
    "        udo_inter=list(out_df_original['kmer_inter'].loc[(out_df_original['sample']==sample)])\n",
    "        udo_eth=list(out_df_original['kmer_eth'].loc[(out_df_original['sample']==sample)])\n",
    "        task_df['kmer_eth (before filtering)'].append(1) if kmer in udo_eth[0] else task_df['kmer_eth (before filtering)'].append(0)\n",
    "        task_df['kmer_inter (before filtering)'].append(1) if kmer in udo_inter[0] else task_df['kmer_inter (before filtering)'].append(0)\n",
    "\n",
    "df_eth_task=pd.DataFrame(task_df)"
   ]
  },
  {
   "cell_type": "code",
   "execution_count": null,
   "id": "3b4eaf59",
   "metadata": {},
   "outputs": [],
   "source": [
    "task_ohsu_df={\n",
    "    'sample':[],\n",
    "    'filter':[],\n",
    "    'kmer_ohsu/inter (filtered)':[],\n",
    "    'kmer_ohsu (before filtering)':[],\n",
    "    'kmer_inter (before filtering)':[],\n",
    "}\n",
    "\n",
    "for index, row in out_df_filtered.iterrows():\n",
    "    for kmer in row['ohsu_kmers\\inter']:\n",
    "        task_ohsu_df['sample'].append(sample:=row['sample'])\n",
    "        if not OHSU_BRCA_NEW:\n",
    "            task_ohsu_df['filter'].append(row['filter_foreground']+'  '+row['filter_background'])\n",
    "        if OHSU_BRCA_NEW:\n",
    "            task_ohsu_df['filter'].append(row['filter'])\n",
    "        task_ohsu_df['kmer_ohsu/inter (filtered)'].append(kmer)\n",
    "        udo_inter=list(out_df_original['kmer_inter'].loc[(out_df_original['sample']==sample)])[0]\n",
    "        udo_ohsu=list(out_df_original['kmer_ohsu'].loc[(out_df_original['sample']==sample)])[0]\n",
    "        task_ohsu_df['kmer_ohsu (before filtering)'].append(1) if kmer in udo_ohsu else task_ohsu_df['kmer_ohsu (before filtering)'].append(0)\n",
    "        task_ohsu_df['kmer_inter (before filtering)'].append(1) if kmer in udo_inter else task_ohsu_df['kmer_inter (before filtering)'].append(0)\n",
    "\n",
    "df_ohsu_task=pd.DataFrame(task_ohsu_df)"
   ]
  },
  {
   "cell_type": "code",
   "execution_count": 3,
   "id": "55eb175c",
   "metadata": {},
   "outputs": [],
   "source": [
    "if not OHSU_BRCA_NEW:\n",
    "    PATH_DATA = create_path.create_path(SAVE_DIR,[DIR_CSV,DIR_BRCA,NAME_TABLES])\n",
    "if OHSU_BRCA_NEW:\n",
    "    PATH_DATA = create_path.create_path(SAVE_DIR,[DIR_CSV,DIR_BRCA,NAME_TABLES,'OHSU_BRCA_NEW',''])\n",
    "path_filtering=create_path.create_path(PATH_DATA,[NAME_FILTERING_BRCA])\n",
    "path_ETH=create_path.create_path(PATH_DATA,[NAME_ETH_TASK_BRCA])\n",
    "path_OHSU=create_path.create_path(PATH_DATA,[NAME_OHSU_TASK_BRCA])\n",
    "\n",
    "out_df_filtered.to_csv(path_filtering,header=True,sep=';')\n",
    "#df_eth_task.to_csv(path_ETH,header=True,sep=';')\n",
    "#df_ohsu_task.to_csv(path_OHSU,header=True,sep=';')"
   ]
  },
  {
   "cell_type": "code",
   "execution_count": null,
   "id": "3c2b7475",
   "metadata": {},
   "outputs": [],
   "source": []
  },
  {
   "cell_type": "code",
   "execution_count": null,
   "id": "f28883ad-bbbe-4250-9db2-60629eb90c64",
   "metadata": {},
   "outputs": [],
   "source": []
  }
 ],
 "metadata": {
  "kernelspec": {
   "display_name": "Python 3 (ipykernel)",
   "language": "python",
   "name": "python3"
  },
  "language_info": {
   "codemirror_mode": {
    "name": "ipython",
    "version": 3
   },
   "file_extension": ".py",
   "mimetype": "text/x-python",
   "name": "python",
   "nbconvert_exporter": "python",
   "pygments_lexer": "ipython3",
   "version": "3.10.12"
  }
 },
 "nbformat": 4,
 "nbformat_minor": 5
}
