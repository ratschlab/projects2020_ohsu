{
 "cells": [
  {
   "cell_type": "code",
   "execution_count": 14,
   "id": "59650961",
   "metadata": {},
   "outputs": [],
   "source": [
    "import os \n",
    "import glob\n",
    "import pandas as pd"
   ]
  },
  {
   "cell_type": "code",
   "execution_count": 2,
   "id": "3f1e21ab",
   "metadata": {},
   "outputs": [],
   "source": [
    "def path_to_expID(path:str):\n",
    "    ID = {}\n",
    "    filter_background = os.path.basename(path).split('_')[-1].replace('.tsv.gz', '')\n",
    "    filter_foreground = os.path.basename(path).split('_')[-2]\n",
    "    #print(filter_background, filter_foreground)\n",
    "    # Extract Values\n",
    "    ID['filter_background_reads'] = filter_background.split('lim')[-1].split('Across')[0]\n",
    "    ID['filter_background_samples'] = filter_background.split('Across')[-1]\n",
    "    ID['filter_background_cohort'] = filter_background.split('Normals')[1].split('Cohort')[0]\n",
    "    ID['filter_foreground_reads'] = filter_foreground.split('Lim')[-1].split('Across')[0]\n",
    "    ID['filter_foreground_samples'] = filter_foreground.split('Across')[-1]\n",
    "    ID['filter_foreground_target'] = (filter_foreground.split('Lim')[1].replace('SampleLim', '').replace('Cohort', ''))\n",
    "    return ID\n",
    "    \n",
    "\n",
    "def expID_to_block(ID_split: dict):\n",
    "    ID_dict = {'Any': 'A', 'None': 'N', '10': 'X', 'paired': 'P', 'Gtex': 'G', 'Core_GTEx': 'R', 'Full': 'F'}\n",
    "    motif = 'A' # Any\n",
    "    for k, v in ID_split.items():\n",
    "        try:\n",
    "            assert(v != '10') #replace roman letter\n",
    "            ID_split[k] = str(int(float(v)))\n",
    "        except:\n",
    "            ID_split[k] = ID_dict[v]\n",
    "\n",
    "    return ID_split['filter_foreground_target'] + \\\n",
    "    ID_split['filter_foreground_reads'] + \\\n",
    "    ID_split['filter_foreground_samples'] + \\\n",
    "    ID_split['filter_background_reads'] + \\\n",
    "    ID_split['filter_background_samples'] + \\\n",
    "    ID_split['filter_background_cohort'] + \\\n",
    "    motif \n",
    "    "
   ]
  },
  {
   "cell_type": "code",
   "execution_count": 21,
   "id": "452ac2b7",
   "metadata": {},
   "outputs": [],
   "source": [
    "### Inputs ###\n",
    "\n",
    "basepath = '/cluster/work/grlab/projects/projects2020_OHSU/peptides_generation/CANCER_eth/commit_c4dd02c_conf2_Frame_cap0_runs/TCGA_Breast_1102' #TCGA_Breast_1102'\n",
    "filtering_run = 'filtering_samples/filters_19May_order_5ge_wAnnot_GPstar'\n",
    "dir_path = os.path.join(basepath, filtering_run)\n",
    "fasta_paths = glob.glob(os.path.join(dir_path, '*fa*'))\n",
    "path_filtered = glob.glob(os.path.join(dir_path, '*Filt*'))"
   ]
  },
  {
   "cell_type": "code",
   "execution_count": 22,
   "id": "79fadddb",
   "metadata": {},
   "outputs": [],
   "source": [
    "res_list = []\n",
    "for filt_file in path_filtered:\n",
    "    ID_split = path_to_expID(filt_file)\n",
    "    ID = expID_to_block(ID_split)\n",
    "    renamed = '_'.join(os.path.basename(filt_file).split('_')[0:2]) + '_'+ ID + '.tsv.gz'\n",
    "    res_list.append([filt_file, renamed])\n",
    "    "
   ]
  },
  {
   "cell_type": "code",
   "execution_count": 23,
   "id": "76747998",
   "metadata": {},
   "outputs": [
    {
     "name": "stdout",
     "output_type": "stream",
     "text": [
      "save to /cluster/work/grlab/projects/projects2020_OHSU/peptides_generation/CANCER_eth/commit_c4dd02c_conf2_Frame_cap0_runs/TCGA_Breast_1102/filtering_samples/filters_19May_order_5ge_wAnnot_GPstar/tmp_rename.txt\n"
     ]
    }
   ],
   "source": [
    "output_file = os.path.join(dir_path, 'tmp_rename.txt')\n",
    "\n",
    "res = pd.DataFrame(res_list)\n",
    "res.to_csv(output_file, index=None, header=False, sep = '\\t')\n",
    "\n",
    "print(f'save to {output_file}')"
   ]
  },
  {
   "cell_type": "code",
   "execution_count": null,
   "id": "566436b6",
   "metadata": {},
   "outputs": [],
   "source": []
  }
 ],
 "metadata": {
  "kernelspec": {
   "display_name": "pep3",
   "language": "python",
   "name": "pep3"
  },
  "language_info": {
   "codemirror_mode": {
    "name": "ipython",
    "version": 3
   },
   "file_extension": ".py",
   "mimetype": "text/x-python",
   "name": "python",
   "nbconvert_exporter": "python",
   "pygments_lexer": "ipython3",
   "version": "3.9.13"
  }
 },
 "nbformat": 4,
 "nbformat_minor": 5
}
