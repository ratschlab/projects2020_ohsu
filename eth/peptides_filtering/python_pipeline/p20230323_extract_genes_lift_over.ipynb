{
 "cells": [
  {
   "cell_type": "code",
   "execution_count": 1,
   "id": "310413d6",
   "metadata": {},
   "outputs": [],
   "source": [
    "# This Notebook extracts the gene names from filtered kmers"
   ]
  },
  {
   "cell_type": "code",
   "execution_count": 2,
   "id": "71c0b9d9",
   "metadata": {},
   "outputs": [],
   "source": [
    "import pandas as pd \n",
    "import os"
   ]
  },
  {
   "cell_type": "code",
   "execution_count": 3,
   "id": "92908106",
   "metadata": {},
   "outputs": [],
   "source": [
    "run_type = 'brca'\n",
    "# Inputs \n",
    "if run_type == 'brca':\n",
    "    target_samples = ['TCGA-AO-A0JM-01A-21R-A056-07.all',\n",
    "                      'TCGA-C8-A12P-01A-11R-A115-07.all',\n",
    "                      'TCGA-BH-A18V-01A-11R-A12D-07.all',\n",
    "                      'TCGA-A2-A0D2-01A-21R-A034-07.all',\n",
    "                      'TCGA-A2-A0SX-01A-12R-A084-07.all']\n",
    "    basedir = '/cluster/work/grlab/projects/projects2020_OHSU/peptides_generation/CANCER_eth/commit_c4dd02c_conf2_Frame_cap0_runs/TCGA_Breast_1102'\n",
    "    intermediate_output = os.path.join(basedir, 'filtering_intermediate/complete_cancer_candidates_order_r.tsv.gz')\n",
    "elif run_type == 'ov':\n",
    "    target_samples = ['TCGA-25-1319-01A-01R-1565-13.all',\n",
    "                      'TCGA-25-1313-01A-01R-1565-13.all',\n",
    "                      'TCGA-61-2008-01A-02R-1568-13.all',\n",
    "                      'TCGA-24-1431-01A-01R-1566-13.all',\n",
    "                      'TCGA-24-2298-01A-01R-1569-13.all']\n",
    "    basedir = '/cluster/work/grlab/projects/projects2020_OHSU/peptides_generation/CANCER_eth/commit_c4dd02c_conf2_Frame_cap0_runs/TCGA_Ovarian_374'\n",
    "    intermediate_output = os.path.join(basedir, 'filtering_intermediate/complete_cancer_candidates_order_r.tsv.gz')\n",
    "\n",
    "\n",
    "\n",
    "union_filters = '/cluster/work/grlab/projects/projects2020_OHSU/peptides_generation/CANCER_eth/commit_c4dd02c_conf2_Frame_cap0_runs/TCGA_Breast_1102/filtering_samples/All_samples_wAnnot_SampleLim0.0CohortLimNoneAcrossNone_FiltNormalsGtexCohortCohortlim0.0Across1.tsv.gz'\n",
    "path_lift_over = '/cluster/work/grlab/projects/projects2020_OHSU/peptides_generation/CANCER_eth/commit_c4dd02c_conf2_Frame_cap0_runs/TCGA_Breast_1102/filtering_samples/All_samples_wAnnot_SampleLim0.0CohortLimNoneAcrossNone_FiltNormalsGtexCohortCohortlim0.0Across1_genes.tsv.gz'"
   ]
  },
  {
   "cell_type": "code",
   "execution_count": 4,
   "id": "65b76176",
   "metadata": {},
   "outputs": [],
   "source": [
    "# Careful BRCA \n",
    "btg = os.path.join(basedir, 'batch_to_gene.txt')"
   ]
  },
  {
   "cell_type": "code",
   "execution_count": 5,
   "id": "208b44a9",
   "metadata": {},
   "outputs": [
    {
     "name": "stdout",
     "output_type": "stream",
     "text": [
      "Loaded /cluster/work/grlab/projects/projects2020_OHSU/peptides_generation/CANCER_eth/commit_c4dd02c_conf2_Frame_cap0_runs/TCGA_Breast_1102/filtering_intermediate/complete_cancer_candidates_order_r.tsv.gz\n"
     ]
    }
   ],
   "source": [
    "# Load matrix \n",
    "df_load = pd.read_csv(intermediate_output, sep = '\\t')\n",
    "print(f'Loaded {intermediate_output}')\n",
    "\n",
    "df_kmers = pd.read_csv(union_filters, sep = '\\t', header = None)\n",
    "df_kmers.columns = ['kmer', 'coord', 'junctionAnnotated', 'readFrameAnnotated']\n",
    "\n",
    "\n",
    "btg = pd.read_csv(btg, header=None, names = ['gene', 'batch'])"
   ]
  },
  {
   "cell_type": "code",
   "execution_count": 6,
   "id": "05254ce9",
   "metadata": {},
   "outputs": [],
   "source": [
    "# Merge\n",
    "merged = df_load[[ 'batch', 'kmer',  'coord']].drop_duplicates().merge(df_kmers, \\\n",
    "                                                                       on = [ 'kmer',  'coord'], \\\n",
    "                                                                       how = 'right')\n",
    "\n",
    "merged = merged.merge(btg, on = ['batch'], how = 'left')\n",
    "\n",
    "lift_over_genes = merged[['batch', 'gene']].drop_duplicates()"
   ]
  },
  {
   "cell_type": "code",
   "execution_count": 7,
   "id": "3b9f3320",
   "metadata": {},
   "outputs": [],
   "source": [
    "# Save \n",
    "lift_over_genes.to_csv(path_lift_over, compression = 'gzip', index=None)"
   ]
  },
  {
   "cell_type": "code",
   "execution_count": null,
   "id": "3adb4951",
   "metadata": {},
   "outputs": [],
   "source": []
  }
 ],
 "metadata": {
  "kernelspec": {
   "display_name": "Python 3 (ipykernel)",
   "language": "python",
   "name": "python3"
  },
  "language_info": {
   "codemirror_mode": {
    "name": "ipython",
    "version": 3
   },
   "file_extension": ".py",
   "mimetype": "text/x-python",
   "name": "python",
   "nbconvert_exporter": "python",
   "pygments_lexer": "ipython3",
   "version": "3.9.13"
  }
 },
 "nbformat": 4,
 "nbformat_minor": 5
}
