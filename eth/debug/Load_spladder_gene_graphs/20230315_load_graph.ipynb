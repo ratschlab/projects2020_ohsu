{
 "cells": [
  {
   "cell_type": "code",
   "execution_count": 5,
   "id": "f8ab0a5f",
   "metadata": {},
   "outputs": [],
   "source": [
    "import pickle\n",
    "import numpy as np\n",
    "from spladder.viz.graph import *\n"
   ]
  },
  {
   "cell_type": "code",
   "execution_count": 6,
   "id": "18199123",
   "metadata": {},
   "outputs": [
    {
     "data": {
      "text/plain": [
       "'3.5.2'"
      ]
     },
     "execution_count": 6,
     "metadata": {},
     "output_type": "execute_result"
    }
   ],
   "source": [
    "matplotlib.__version__"
   ]
  },
  {
   "cell_type": "code",
   "execution_count": null,
   "id": "b39b7f1f",
   "metadata": {},
   "outputs": [],
   "source": [
    "splice_path = '/cluster/work/grlab/projects/GTEx/rna_gencode32_realign/results/splicing/spladder/genes_graph_conf2.merge_graphs.pickle'"
   ]
  },
  {
   "cell_type": "code",
   "execution_count": null,
   "id": "d176b9b0",
   "metadata": {},
   "outputs": [],
   "source": [
    "with open(splice_path, 'rb') as graph_fp:\n",
    "    (graph_data, graph_meta) = pickle.load(graph_fp, encoding='latin1')  # both graph data and meta data"
   ]
  },
  {
   "cell_type": "code",
   "execution_count": null,
   "id": "3e06a7da",
   "metadata": {},
   "outputs": [],
   "source": [
    "gene_id = 18652\n",
    "#gene_id = 57526\n",
    "gene_id = 100"
   ]
  },
  {
   "cell_type": "code",
   "execution_count": null,
   "id": "4a790cdd",
   "metadata": {},
   "outputs": [],
   "source": []
  },
  {
   "cell_type": "code",
   "execution_count": null,
   "id": "84eb2eb7",
   "metadata": {},
   "outputs": [],
   "source": [
    "gene = graph_data[gene_id]"
   ]
  },
  {
   "cell_type": "code",
   "execution_count": null,
   "id": "cdf35360",
   "metadata": {},
   "outputs": [],
   "source": [
    "gene.strand"
   ]
  },
  {
   "cell_type": "code",
   "execution_count": null,
   "id": "eb9725b5",
   "metadata": {},
   "outputs": [],
   "source": [
    "print(gene.name)"
   ]
  },
  {
   "cell_type": "code",
   "execution_count": null,
   "id": "12f15fe1",
   "metadata": {},
   "outputs": [],
   "source": [
    "gene.from_sparse()"
   ]
  },
  {
   "cell_type": "code",
   "execution_count": null,
   "id": "66bc5517",
   "metadata": {},
   "outputs": [],
   "source": [
    "len(np.where(gene.splicegraph.edges)[1])"
   ]
  },
  {
   "cell_type": "code",
   "execution_count": null,
   "id": "a5c4360f",
   "metadata": {
    "scrolled": true
   },
   "outputs": [],
   "source": [
    "len(gene.splicegraph.edges)"
   ]
  },
  {
   "cell_type": "code",
   "execution_count": null,
   "id": "c54ca79f",
   "metadata": {
    "scrolled": true
   },
   "outputs": [],
   "source": [
    "gene.splicegraph.vertices.shape"
   ]
  },
  {
   "cell_type": "code",
   "execution_count": null,
   "id": "1cc654fb",
   "metadata": {},
   "outputs": [],
   "source": [
    "gene.splicegraph.vertices"
   ]
  },
  {
   "cell_type": "code",
   "execution_count": null,
   "id": "cc2d32b1",
   "metadata": {},
   "outputs": [],
   "source": [
    "np.where(gene.splicegraph.edges)"
   ]
  },
  {
   "cell_type": "code",
   "execution_count": null,
   "id": "42505862",
   "metadata": {},
   "outputs": [],
   "source": [
    "for i, j in zip(np.where(gene.splicegraph.edges)[0], np.where(gene.splicegraph.edges)[1]):\n",
    "    print(gene.splicegraph.vertices[0][i],gene.splicegraph.vertices[1][j])"
   ]
  },
  {
   "cell_type": "code",
   "execution_count": null,
   "id": "7e357070",
   "metadata": {
    "scrolled": true
   },
   "outputs": [],
   "source": [
    "for i, j in zip(gene.splicegraph.vertices[0], gene.splicegraph.vertices[1]):\n",
    "    print(i,j)\n",
    "    print(np.round(abs(i-j)/3))"
   ]
  },
  {
   "cell_type": "code",
   "execution_count": null,
   "id": "718d3bb1",
   "metadata": {},
   "outputs": [],
   "source": [
    "plot_graph"
   ]
  },
  {
   "cell_type": "code",
   "execution_count": null,
   "id": "219619d2",
   "metadata": {
    "scrolled": true
   },
   "outputs": [],
   "source": [
    "fig, ax1 = plt.subplots()\n",
    "plot_graph(gene.splicegraph.vertices, gene.splicegraph.edges, ax1)\n",
    "plt.show()"
   ]
  },
  {
   "cell_type": "code",
   "execution_count": null,
   "id": "1fc5c022",
   "metadata": {},
   "outputs": [],
   "source": [
    "ax1"
   ]
  },
  {
   "cell_type": "code",
   "execution_count": null,
   "id": "fef33f0d",
   "metadata": {},
   "outputs": [],
   "source": []
  },
  {
   "cell_type": "code",
   "execution_count": null,
   "id": "68c47746",
   "metadata": {},
   "outputs": [],
   "source": []
  },
  {
   "cell_type": "code",
   "execution_count": null,
   "id": "375b9821",
   "metadata": {},
   "outputs": [],
   "source": []
  }
 ],
 "metadata": {
  "kernelspec": {
   "display_name": "Python 3 (ipykernel)",
   "language": "python",
   "name": "python3"
  },
  "language_info": {
   "codemirror_mode": {
    "name": "ipython",
    "version": 3
   },
   "file_extension": ".py",
   "mimetype": "text/x-python",
   "name": "python",
   "nbconvert_exporter": "python",
   "pygments_lexer": "ipython3",
   "version": "3.9.13"
  }
 },
 "nbformat": 4,
 "nbformat_minor": 5
}
