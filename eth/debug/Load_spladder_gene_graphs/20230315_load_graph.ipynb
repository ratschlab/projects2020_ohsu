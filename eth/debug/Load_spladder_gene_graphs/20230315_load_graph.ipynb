{
 "cells": [
  {
   "cell_type": "code",
   "execution_count": 549,
   "id": "f8ab0a5f",
   "metadata": {
    "scrolled": false
   },
   "outputs": [],
   "source": [
    "import pickle\n",
    "import numpy as np\n",
    "from spladder.viz.graph import *\n",
    "import h5py"
   ]
  },
  {
   "cell_type": "code",
   "execution_count": 550,
   "id": "18199123",
   "metadata": {},
   "outputs": [
    {
     "data": {
      "text/plain": [
       "'3.5.2'"
      ]
     },
     "execution_count": 550,
     "metadata": {},
     "output_type": "execute_result"
    }
   ],
   "source": [
    "matplotlib.__version__"
   ]
  },
  {
   "cell_type": "code",
   "execution_count": 551,
   "id": "d8943a45",
   "metadata": {},
   "outputs": [
    {
     "data": {
      "text/plain": [
       "'2.4.2'"
      ]
     },
     "execution_count": 551,
     "metadata": {},
     "output_type": "execute_result"
    }
   ],
   "source": [
    "import spladder\n",
    "spladder.__version__"
   ]
  },
  {
   "cell_type": "markdown",
   "id": "ab141bf6",
   "metadata": {},
   "source": [
    "# Open Files"
   ]
  },
  {
   "cell_type": "code",
   "execution_count": 552,
   "id": "b39b7f1f",
   "metadata": {},
   "outputs": [],
   "source": [
    "splice_path = '/cluster/work/grlab/projects/GTEx/rna_gencode32_realign/results/splicing/spladder/genes_graph_conf2.merge_graphs.pickle'\n",
    "#splice_path = '/cluster/work/grlab/projects/projects2021-immuno_peptides/results/TCGA_for_neoepitopes/TCGA_Breast_1102_results/splicing/spladder/genes_graph_conf2.merge_graphs.pickle'"
   ]
  },
  {
   "cell_type": "code",
   "execution_count": 553,
   "id": "e460a2dc",
   "metadata": {},
   "outputs": [],
   "source": [
    "count_path = '/cluster/work/grlab/projects/GTEx/rna_gencode32_realign/results/splicing/spladder/genes_graph_conf2.merge_graphs.count.rechunked.hdf5'"
   ]
  },
  {
   "cell_type": "code",
   "execution_count": 554,
   "id": "d176b9b0",
   "metadata": {},
   "outputs": [],
   "source": [
    "with open(splice_path, 'rb') as graph_fp:\n",
    "    (graph_data, graph_meta) = pickle.load(graph_fp, encoding='latin1')  # both graph data and meta data"
   ]
  },
  {
   "cell_type": "code",
   "execution_count": 837,
   "id": "3e06a7da",
   "metadata": {},
   "outputs": [],
   "source": [
    "# gene_id = 18652\n",
    "# gene_id = 57526\n",
    "# gene_id = 5583\n",
    "\n",
    "# pattern_right < pattern_left (junction order)\n",
    "gene_id = 5518  \n",
    "pattern_right= 3067707\n",
    "pattern_left = 3082387\n",
    "\n",
    "# gene_id = 27716\n",
    "# pattern_right = 12943629\n",
    "# pattern_left = 12943833\n",
    "\n",
    "# gene_id = 4952\n",
    "# pattern_right = 228097862\n",
    "# pattern_left = 228098777\n",
    "\n",
    "# gene_id = 24300\n",
    "# pattern_right = 41524492\n",
    "# pattern_left = 41524842\n",
    "\n",
    "gene_id = 29614\n",
    "pattern_right = 53873969\n",
    "pattern_left = 53874060\n",
    "\n",
    "\n",
    "\n"
   ]
  },
  {
   "cell_type": "code",
   "execution_count": 838,
   "id": "8e02a6ab",
   "metadata": {},
   "outputs": [
    {
     "name": "stdout",
     "output_type": "stream",
     "text": [
      "True\n"
     ]
    }
   ],
   "source": [
    "print(pattern_left > pattern_right)"
   ]
  },
  {
   "cell_type": "code",
   "execution_count": 839,
   "id": "84eb2eb7",
   "metadata": {},
   "outputs": [],
   "source": [
    "gene = graph_data[gene_id]"
   ]
  },
  {
   "cell_type": "code",
   "execution_count": 840,
   "id": "cdf35360",
   "metadata": {
    "scrolled": true
   },
   "outputs": [
    {
     "data": {
      "text/plain": [
       "'+'"
      ]
     },
     "execution_count": 840,
     "metadata": {},
     "output_type": "execute_result"
    }
   ],
   "source": [
    "gene.strand"
   ]
  },
  {
   "cell_type": "code",
   "execution_count": 841,
   "id": "eb9725b5",
   "metadata": {},
   "outputs": [
    {
     "name": "stdout",
     "output_type": "stream",
     "text": [
      "ENSG00000179820.16\n"
     ]
    }
   ],
   "source": [
    "print(gene.name)"
   ]
  },
  {
   "cell_type": "code",
   "execution_count": 842,
   "id": "12f15fe1",
   "metadata": {},
   "outputs": [],
   "source": [
    "gene.from_sparse()"
   ]
  },
  {
   "cell_type": "code",
   "execution_count": 843,
   "id": "66bc5517",
   "metadata": {},
   "outputs": [
    {
     "data": {
      "text/plain": [
       "1726"
      ]
     },
     "execution_count": 843,
     "metadata": {},
     "output_type": "execute_result"
    }
   ],
   "source": [
    "len(np.where(gene.splicegraph.edges)[1])"
   ]
  },
  {
   "cell_type": "code",
   "execution_count": 844,
   "id": "a5c4360f",
   "metadata": {
    "scrolled": true
   },
   "outputs": [
    {
     "data": {
      "text/plain": [
       "214"
      ]
     },
     "execution_count": 844,
     "metadata": {},
     "output_type": "execute_result"
    }
   ],
   "source": [
    "len(gene.splicegraph.edges)"
   ]
  },
  {
   "cell_type": "code",
   "execution_count": 845,
   "id": "c54ca79f",
   "metadata": {
    "scrolled": true
   },
   "outputs": [
    {
     "data": {
      "text/plain": [
       "(2, 214)"
      ]
     },
     "execution_count": 845,
     "metadata": {},
     "output_type": "execute_result"
    }
   ],
   "source": [
    "gene.splicegraph.vertices.shape"
   ]
  },
  {
   "cell_type": "code",
   "execution_count": 846,
   "id": "cc2d32b1",
   "metadata": {},
   "outputs": [
    {
     "data": {
      "text/plain": [
       "(array([  0,   1,   1, ..., 213, 213, 213]),\n",
       " array([  5,   4,   5, ..., 118, 199, 204]))"
      ]
     },
     "execution_count": 846,
     "metadata": {},
     "output_type": "execute_result"
    }
   ],
   "source": [
    "np.where(gene.splicegraph.edges)"
   ]
  },
  {
   "cell_type": "code",
   "execution_count": 847,
   "id": "3ef72d54",
   "metadata": {},
   "outputs": [
    {
     "data": {
      "text/plain": [
       "(array([  0,   1,   1, ..., 213, 213, 213]),\n",
       " array([  5,   4,   5, ..., 118, 199, 204]))"
      ]
     },
     "execution_count": 847,
     "metadata": {},
     "output_type": "execute_result"
    }
   ],
   "source": [
    "np.where(gene.splicegraph.edges)"
   ]
  },
  {
   "cell_type": "markdown",
   "id": "5914cbde",
   "metadata": {},
   "source": [
    "# Extract the expression"
   ]
  },
  {
   "cell_type": "code",
   "execution_count": 848,
   "id": "ac340e10",
   "metadata": {},
   "outputs": [
    {
     "name": "stdout",
     "output_type": "stream",
     "text": [
      "53866042 53866140\n",
      "53873629 53873651\n"
     ]
    }
   ],
   "source": [
    "# Some Tests\n",
    "test = 11\n",
    "\n",
    "print(gene.splicegraph.vertices[0][test], gene.splicegraph.vertices[1][test])\n",
    "\n",
    "test = 88\n",
    "\n",
    "print(gene.segmentgraph.segments[0][test], gene.segmentgraph.segments[1][test])"
   ]
  },
  {
   "cell_type": "code",
   "execution_count": 849,
   "id": "210f8972",
   "metadata": {},
   "outputs": [
    {
     "data": {
      "text/plain": [
       "'+'"
      ]
     },
     "execution_count": 849,
     "metadata": {},
     "output_type": "execute_result"
    }
   ],
   "source": [
    "gene.strand"
   ]
  },
  {
   "cell_type": "code",
   "execution_count": 850,
   "id": "6180242b",
   "metadata": {
    "scrolled": true
   },
   "outputs": [
    {
     "name": "stdout",
     "output_type": "stream",
     "text": [
      "53873969 53874060\n"
     ]
    }
   ],
   "source": [
    "print(pattern_right, pattern_left)"
   ]
  },
  {
   "cell_type": "code",
   "execution_count": 851,
   "id": "9bc5f9f6",
   "metadata": {
    "scrolled": false
   },
   "outputs": [
    {
     "data": {
      "text/plain": [
       "[(0, 53864762, 53864871),\n",
       " (1, 53864871, 53864891),\n",
       " (2, 53865218, 53865404),\n",
       " (3, 53865404, 53865418),\n",
       " (4, 53865418, 53865509),\n",
       " (5, 53865509, 53865583),\n",
       " (6, 53865583, 53865604),\n",
       " (7, 53865604, 53865726),\n",
       " (8, 53865726, 53865728),\n",
       " (9, 53865728, 53865737),\n",
       " (10, 53865737, 53865933),\n",
       " (11, 53865933, 53866018),\n",
       " (12, 53866018, 53866042),\n",
       " (13, 53866042, 53866106),\n",
       " (14, 53866106, 53866124),\n",
       " (15, 53866124, 53866140),\n",
       " (16, 53866140, 53866152),\n",
       " (17, 53866152, 53866154),\n",
       " (18, 53866154, 53866157),\n",
       " (19, 53866157, 53866306),\n",
       " (20, 53866306, 53866324),\n",
       " (21, 53866324, 53866417),\n",
       " (22, 53867265, 53867465),\n",
       " (23, 53867576, 53867776),\n",
       " (24, 53867882, 53867910),\n",
       " (25, 53867910, 53867927),\n",
       " (26, 53867927, 53867942),\n",
       " (27, 53867942, 53867943),\n",
       " (28, 53867943, 53867948),\n",
       " (29, 53867948, 53868110),\n",
       " (30, 53868110, 53868127),\n",
       " (31, 53868127, 53868179),\n",
       " (32, 53868179, 53868379),\n",
       " (33, 53868379, 53868459),\n",
       " (34, 53868459, 53868470),\n",
       " (35, 53868470, 53868482),\n",
       " (36, 53868482, 53868518),\n",
       " (37, 53868518, 53868532),\n",
       " (38, 53868532, 53868567),\n",
       " (39, 53868567, 53868659),\n",
       " (40, 53868659, 53868670),\n",
       " (41, 53868670, 53868682),\n",
       " (42, 53868682, 53868732),\n",
       " (43, 53868732, 53868767),\n",
       " (44, 53868767, 53868886),\n",
       " (45, 53868886, 53869086),\n",
       " (46, 53869086, 53869254),\n",
       " (47, 53869254, 53869405),\n",
       " (48, 53869405, 53869438),\n",
       " (49, 53869438, 53869454),\n",
       " (50, 53869454, 53869598),\n",
       " (51, 53869598, 53869650),\n",
       " (52, 53869650, 53869689),\n",
       " (53, 53869689, 53869705),\n",
       " (54, 53869705, 53869753),\n",
       " (55, 53869753, 53869764),\n",
       " (56, 53869764, 53869765),\n",
       " (57, 53869765, 53869803),\n",
       " (58, 53869803, 53869838),\n",
       " (59, 53870432, 53870601),\n",
       " (60, 53870601, 53870623),\n",
       " (61, 53870623, 53870632),\n",
       " (62, 53870632, 53870753),\n",
       " (63, 53870753, 53870801),\n",
       " (64, 53870801, 53870823),\n",
       " (65, 53870823, 53870832),\n",
       " (66, 53870832, 53870939),\n",
       " (67, 53870939, 53870972),\n",
       " (68, 53870972, 53871007),\n",
       " (69, 53871007, 53871025),\n",
       " (70, 53871025, 53871139),\n",
       " (71, 53871139, 53871172),\n",
       " (72, 53871172, 53871207),\n",
       " (73, 53871207, 53871225),\n",
       " (74, 53871225, 53872274),\n",
       " (75, 53872274, 53872299),\n",
       " (76, 53872299, 53872474),\n",
       " (77, 53872474, 53872499),\n",
       " (78, 53872499, 53872532),\n",
       " (79, 53872532, 53872711),\n",
       " (80, 53872711, 53872732),\n",
       " (81, 53872732, 53872787),\n",
       " (82, 53872787, 53873502),\n",
       " (83, 53873502, 53873525),\n",
       " (84, 53873525, 53873527),\n",
       " (85, 53873527, 53873528),\n",
       " (86, 53873528, 53873536),\n",
       " (87, 53873536, 53873629),\n",
       " (88, 53873629, 53873651),\n",
       " (89, 53873651, 53873654),\n",
       " (90, 53873654, 53873658),\n",
       " (91, 53873658, 53873682),\n",
       " (92, 53873682, 53873695),\n",
       " (93, 53873695, 53873698),\n",
       " (94, 53873698, 53873719),\n",
       " (95, 53873719, 53873822),\n",
       " (96, 53873822, 53873824),\n",
       " (97, 53873824, 53873896),\n",
       " (98, 53873896, 53873969),\n",
       " (99, 53873969, 53874028),\n",
       " (100, 53874028, 53874067),\n",
       " (101, 53874067, 53874094),\n",
       " (102, 53874094, 53874140),\n",
       " (103, 53874140, 53874143),\n",
       " (104, 53874143, 53874307),\n",
       " (105, 53874307, 53874315),\n",
       " (106, 53874315, 53874316),\n",
       " (107, 53874316, 53874357),\n",
       " (108, 53874357, 53874446),\n",
       " (109, 53874446, 53874492),\n",
       " (110, 53874492, 53874567),\n",
       " (111, 53874567, 53874619),\n",
       " (112, 53874619, 53874750),\n",
       " (113, 53874750, 53874756),\n",
       " (114, 53874756, 53874925),\n",
       " (115, 53874925, 53874938),\n",
       " (116, 53874938, 53875088),\n",
       " (117, 53875088, 53875159),\n",
       " (118, 53875159, 53875187),\n",
       " (119, 53875187, 53875191),\n",
       " (120, 53875191, 53875193),\n",
       " (121, 53875193, 53875195),\n",
       " (122, 53875195, 53875199),\n",
       " (123, 53875199, 53875201),\n",
       " (124, 53875201, 53875203),\n",
       " (125, 53875203, 53875205),\n",
       " (126, 53875205, 53875207),\n",
       " (127, 53875207, 53875209),\n",
       " (128, 53875209, 53875211),\n",
       " (129, 53875211, 53875213),\n",
       " (130, 53875213, 53875215),\n",
       " (131, 53875215, 53875217),\n",
       " (132, 53875217, 53875219),\n",
       " (133, 53875219, 53875221),\n",
       " (134, 53875221, 53875223),\n",
       " (135, 53875223, 53875253),\n",
       " (136, 53875253, 53875285),\n",
       " (137, 53875285, 53875289),\n",
       " (138, 53875289, 53875345),\n",
       " (139, 53875345, 53875398),\n",
       " (140, 53875398, 53875450),\n",
       " (141, 53875450, 53875520),\n",
       " (142, 53875520, 53875635),\n",
       " (143, 53875635, 53875735),\n",
       " (144, 53875735, 53875779),\n",
       " (145, 53875779, 53875796),\n",
       " (146, 53875796, 53875801),\n",
       " (147, 53875801, 53875821),\n",
       " (148, 53875821, 53875861),\n",
       " (149, 53875861, 53875967),\n",
       " (150, 53875967, 53875999),\n",
       " (151, 53875999, 53876058),\n",
       " (152, 53876058, 53876174),\n",
       " (153, 53876174, 53876210),\n",
       " (154, 53876210, 53876426),\n",
       " (155, 53876426, 53876428),\n",
       " (156, 53876428, 53876435),\n",
       " (157, 53876971, 53877171)]"
      ]
     },
     "execution_count": 851,
     "metadata": {},
     "output_type": "execute_result"
    }
   ],
   "source": [
    "[(i, seg[0], seg[1]) for i, seg in enumerate(zip(gene.segmentgraph.segments[0], gene.segmentgraph.segments[1]))]"
   ]
  },
  {
   "cell_type": "code",
   "execution_count": 852,
   "id": "d2430baf",
   "metadata": {},
   "outputs": [
    {
     "data": {
      "text/plain": [
       "[(0, 5),\n",
       " (1, 5),\n",
       " (1, 13),\n",
       " (3, 5),\n",
       " (6, 53),\n",
       " (6, 55),\n",
       " (7, 11),\n",
       " (7, 55),\n",
       " (8, 11),\n",
       " (8, 13),\n",
       " (8, 14),\n",
       " (8, 15),\n",
       " (8, 18),\n",
       " (8, 53),\n",
       " (8, 55),\n",
       " (9, 11),\n",
       " (9, 13),\n",
       " (9, 14),\n",
       " (9, 15),\n",
       " (9, 18),\n",
       " (9, 53),\n",
       " (9, 55),\n",
       " (9, 57),\n",
       " (9, 85),\n",
       " (11, 14),\n",
       " (11, 55),\n",
       " (21, 23),\n",
       " (21, 52),\n",
       " (21, 53),\n",
       " (21, 54),\n",
       " (21, 55),\n",
       " (21, 57),\n",
       " (21, 58),\n",
       " (21, 85),\n",
       " (22, 55),\n",
       " (26, 53),\n",
       " (26, 55),\n",
       " (26, 85),\n",
       " (27, 36),\n",
       " (27, 37),\n",
       " (27, 39),\n",
       " (27, 47),\n",
       " (27, 52),\n",
       " (27, 53),\n",
       " (27, 54),\n",
       " (27, 55),\n",
       " (27, 57),\n",
       " (27, 58),\n",
       " (27, 84),\n",
       " (27, 85),\n",
       " (28, 36),\n",
       " (28, 39),\n",
       " (28, 53),\n",
       " (28, 55),\n",
       " (28, 57),\n",
       " (28, 58),\n",
       " (28, 84),\n",
       " (28, 85),\n",
       " (29, 39),\n",
       " (29, 53),\n",
       " (29, 55),\n",
       " (29, 57),\n",
       " (29, 58),\n",
       " (29, 85),\n",
       " (30, 39),\n",
       " (30, 55),\n",
       " (32, 53),\n",
       " (32, 55),\n",
       " (39, 53),\n",
       " (39, 55),\n",
       " (39, 57),\n",
       " (39, 85),\n",
       " (40, 55),\n",
       " (42, 55),\n",
       " (45, 53),\n",
       " (45, 55),\n",
       " (50, 53),\n",
       " (50, 55),\n",
       " (50, 57),\n",
       " (58, 60),\n",
       " (58, 67),\n",
       " (58, 79),\n",
       " (58, 80),\n",
       " (58, 83),\n",
       " (58, 84),\n",
       " (58, 85),\n",
       " (58, 86),\n",
       " (58, 87),\n",
       " (58, 91),\n",
       " (61, 85),\n",
       " (62, 84),\n",
       " (64, 85),\n",
       " (65, 85),\n",
       " (71, 85),\n",
       " (72, 85),\n",
       " (73, 85),\n",
       " (76, 85),\n",
       " (77, 85),\n",
       " (81, 85),\n",
       " (87, 101),\n",
       " (88, 100),\n",
       " (89, 97),\n",
       " (91, 107),\n",
       " (92, 96),\n",
       " (93, 95),\n",
       " (103, 106),\n",
       " (103, 148),\n",
       " (103, 150),\n",
       " (107, 148),\n",
       " (107, 149),\n",
       " (108, 148),\n",
       " (108, 150),\n",
       " (108, 157),\n",
       " (109, 157),\n",
       " (110, 115),\n",
       " (112, 116),\n",
       " (116, 118),\n",
       " (118, 139),\n",
       " (119, 138),\n",
       " (120, 138),\n",
       " (121, 137),\n",
       " (121, 148),\n",
       " (122, 138),\n",
       " (123, 138),\n",
       " (124, 138),\n",
       " (125, 138),\n",
       " (126, 138),\n",
       " (127, 138),\n",
       " (128, 138),\n",
       " (129, 138),\n",
       " (129, 144),\n",
       " (130, 138),\n",
       " (131, 136),\n",
       " (131, 138),\n",
       " (132, 138),\n",
       " (133, 138),\n",
       " (133, 144),\n",
       " (134, 138),\n",
       " (139, 141),\n",
       " (141, 152),\n",
       " (142, 146),\n",
       " (143, 148),\n",
       " (144, 147),\n",
       " (150, 155),\n",
       " (150, 157),\n",
       " (152, 154)]"
      ]
     },
     "execution_count": 852,
     "metadata": {},
     "output_type": "execute_result"
    }
   ],
   "source": [
    "[(a,b) for a, b in zip(np.where(gene.segmentgraph.seg_edges)[0],np.where(gene.segmentgraph.seg_edges)[1])]"
   ]
  },
  {
   "cell_type": "code",
   "execution_count": 853,
   "id": "fb9d8000",
   "metadata": {},
   "outputs": [],
   "source": [
    "### GET THE Number of the vertexes\n",
    "graph_edge_idx = None\n",
    "first = np.where(gene.segmentgraph.seg_edges)[0]\n",
    "second = np.where(gene.segmentgraph.seg_edges)[1]\n",
    "for edge_idx in np.arange(len(first)):\n",
    "    v1 = first[edge_idx]\n",
    "    v2 = second[edge_idx]\n",
    "    # Same - and + strand\n",
    "    if (str(pattern_left) in  str(gene.segmentgraph.segments[0][v2])) and \\\n",
    "        (str(pattern_right) in str(gene.segmentgraph.segments[1][v1])):\n",
    "        print(gene.segmentgraph.segments[1][v1] , gene.segmentgraph.segments[0][v1])\n",
    "        print(gene.segmentgraph.segments[1][v2] , gene.segmentgraph.segments[0][v2])\n",
    "\n",
    "        print('vertexes in segment graph', v1, v2)\n",
    "        print('edge_idx', edge_idx)\n",
    "        graph_edge_idx = edge_idx\n",
    "        \n"
   ]
  },
  {
   "cell_type": "code",
   "execution_count": 854,
   "id": "6598cb33",
   "metadata": {},
   "outputs": [],
   "source": [
    "graph_edge_idx"
   ]
  },
  {
   "cell_type": "code",
   "execution_count": 855,
   "id": "be330a83",
   "metadata": {},
   "outputs": [],
   "source": [
    "# Get edge h5py indexes\n",
    "if graph_edge_idx is not None:\n",
    "    with h5py.File(count_path, 'r') as h5f:  \n",
    "        test_edge_id = [i for i, j  in enumerate(h5f['gene_ids_edges'])  if j == gene_id]\n",
    "    h5_edge = test_edge_id[graph_edge_idx]\n",
    "    print('h5_edge', h5_edge, 'for', graph_edge_idx)"
   ]
  },
  {
   "cell_type": "code",
   "execution_count": 856,
   "id": "aa0ee644",
   "metadata": {},
   "outputs": [],
   "source": [
    "# Get expression h5py\n",
    "if graph_edge_idx is not None:\n",
    "    with h5py.File(count_path, 'r') as h5f: test_edg_exr=h5f['edges'][h5_edge, :]"
   ]
  },
  {
   "cell_type": "code",
   "execution_count": 857,
   "id": "ac02ee6d",
   "metadata": {},
   "outputs": [],
   "source": [
    "# Get Strains \n",
    "if graph_edge_idx is not None:\n",
    "    with h5py.File(count_path, 'r') as h5f: test_sample_id = h5f['strains'][:]"
   ]
  },
  {
   "cell_type": "code",
   "execution_count": 858,
   "id": "da0cae52",
   "metadata": {},
   "outputs": [],
   "source": [
    "if graph_edge_idx is not None:\n",
    "    with np.printoptions(threshold=np.inf):\n",
    "        print(test_edg_exr)\n"
   ]
  },
  {
   "cell_type": "code",
   "execution_count": 859,
   "id": "ffff61d7",
   "metadata": {},
   "outputs": [],
   "source": [
    "if graph_edge_idx is not None:\n",
    "    print(test_sample_id[np.where(test_edg_exr)[0]])\n",
    "\n",
    "    print(test_edg_exr[np.where(test_edg_exr > 0)[0]])\n",
    "\n",
    "    print(len(test_edg_exr[np.where(test_edg_exr > 0)[0]]))"
   ]
  },
  {
   "cell_type": "markdown",
   "id": "bb539121",
   "metadata": {},
   "source": [
    "# Plot splicegraph"
   ]
  },
  {
   "cell_type": "code",
   "execution_count": 806,
   "id": "1e404478",
   "metadata": {},
   "outputs": [],
   "source": [
    "from matplotlib.collections import PatchCollection\n",
    "import pickle\n",
    "import sys\n",
    "import scipy as sp\n",
    "import pdb\n",
    "def plot_graph(vertices, edges, ax, xlim=None, highlight=None, highlight_color='magenta', node_color='b',\n",
    "               edge_color='#999999', label=None):\n",
    "    \"\"\"Takes a graph given as vertices and edges and visualizes its structure\"\"\"\n",
    "\n",
    "    start = vertices.ravel().min()\n",
    "    stop = vertices.ravel().max()\n",
    "\n",
    "    ### draw grid\n",
    "    ax.grid(b=True, which='major', linestyle='--', linewidth=0.2, color='#222222')\n",
    "    ax.yaxis.grid(False)\n",
    "\n",
    "    ### nodes\n",
    "    patchlist = []\n",
    "    exon_num = sp.zeros((stop - start,))\n",
    "    exon_loc = sp.zeros((1, stop - start))\n",
    "    exon_level = sp.zeros((vertices.shape[1], )) #vertices.shape[1]))\n",
    "    for i in range(vertices.shape[1]):\n",
    "        cur_vertex = vertices[:, i] - start\n",
    "        exon_num[cur_vertex[0]:cur_vertex[1]] += 1\n",
    "        if sp.all(exon_num < 2):\n",
    "            exon_loc[0, :] = exon_num\n",
    "            level = 0\n",
    "        elif exon_num.max() > exon_loc.shape[0]:\n",
    "            exon_loc = sp.r_[exon_loc, sp.zeros((1, stop - start))]\n",
    "            exon_loc[-1, cur_vertex[0]:cur_vertex[1]] = 1\n",
    "            level = exon_loc.shape[0] - 1\n",
    "        elif exon_num.max() <= exon_loc.shape[0]:\n",
    "            idx = sp.where(sp.all(exon_loc[:, cur_vertex[0]:cur_vertex[1]] == 0, 1))[0].min()\n",
    "            exon_loc[idx, cur_vertex[0]:cur_vertex[1]] = 1\n",
    "            level = idx\n",
    "\n",
    "        exon_level[i] = level\n",
    "\n",
    "        patchlist.append(mpatches.Rectangle([cur_vertex[0] + start, 20 + (level * 20)], cur_vertex[1] - cur_vertex[0], 10, facecolor=node_color, edgecolor='none', alpha=0.7))\n",
    "\n",
    "    ### edges\n",
    "    linelist = []\n",
    "    intron_loc = sp.zeros((1, stop - start))\n",
    "    if edges.shape[0] > 1:\n",
    "        ii, jj = sp.where(sp.triu(edges) > 0)\n",
    "        for i, j in zip(ii, jj):\n",
    "            if vertices[0,i] < vertices[0,j]:\n",
    "                istart = vertices[1, i]\n",
    "                istop = vertices[0, j]\n",
    "                level1 = exon_level[i]\n",
    "                level2 = exon_level[j]\n",
    "            else:\n",
    "                istart = vertices[1, j]\n",
    "                istop = vertices[0, i]\n",
    "                level1 = exon_level[j]\n",
    "                level2 = exon_level[i]\n",
    "\n",
    "            cur_intron = [istart - start, istop - start]\n",
    "            intron_loc[cur_intron[0]:cur_intron[1]] += 1\n",
    "            leveli = [(istart + istop) * 0.5, (level1 + level2) * 0.5]\n",
    "            #ax.plot([istart, leveli[0], istop], [25 + (level1 * 20), 32 + (leveli[1] * 20), 25 + (level2 * 20)], '-', color=edge_color, linewidth=0.5)\n",
    "            linelist.append(mlines.Line2D([istart, leveli[0], istop], [25 + (level1 * 20), 32 + (leveli[1] * 20), 25 + (level2 * 20)], color=edge_color, linewidth=0.5, alpha=0.07))\n",
    "            #ax.plot([leveli[0], istop], [32 + (leveli[1] * 20), 25 + (level2 * 20)], '-', color=edge_color, linewidth=0.5)\n",
    "\n",
    "    ### draw patches\n",
    "    for node in patchlist:\n",
    "        ax.add_patch(node)\n",
    "    for line in linelist:\n",
    "        ax.add_line(line)\n",
    "\n",
    "    ### draw label\n",
    "    if label:\n",
    "        ax.text(start + (stop - start) / 2, 12, label, verticalalignment='center', horizontalalignment='center')\n",
    "\n",
    "    ### axes\n",
    "    if xlim is not None:\n",
    "        ax.set_xlim(xlim)\n",
    "    else:\n",
    "        ax.set_xlim([max(start - 20, 0), stop + 20])\n",
    "    ax.set_ylim([0, 40 + (exon_loc.shape[0] * 20)])\n",
    "    ax.set_yticks([])\n",
    "\n",
    "    ### highlight if requested\n",
    "    if highlight is not None:\n",
    "        rect = patches.Rectangle((highlight[0], 0), highlight[1] - highlight[0], ax.get_ylim()[1], facecolor=highlight_color, edgecolor='none', alpha=0.5)\n",
    "        ax.add_patch(rect)"
   ]
  },
  {
   "cell_type": "code",
   "execution_count": 807,
   "id": "219619d2",
   "metadata": {
    "scrolled": true
   },
   "outputs": [],
   "source": [
    "# SPlot splicegraph\n",
    "# fig, ax1 = plt.subplots()\n",
    "# plot_graph(gene.splicegraph.vertices, gene.splicegraph.edges, ax1)\n",
    "# plt.savefig('test', bbox_inches='tight')"
   ]
  },
  {
   "cell_type": "markdown",
   "id": "155606cb",
   "metadata": {},
   "source": [
    "# Splicegraph centric approach"
   ]
  },
  {
   "cell_type": "code",
   "execution_count": null,
   "id": "42505862",
   "metadata": {},
   "outputs": [],
   "source": [
    "# pattern_right = '3067707'\n",
    "# pattern_left = '3082387'\n",
    "# first = np.where(gene.splicegraph.edges)[0]\n",
    "# second = np.where(gene.splicegraph.edges)[1]\n",
    "# for idx in np.arange(len(first)):\n",
    "#     i = first[idx]\n",
    "#     j = second[idx]\n",
    "#     if ((pattern_right in str(gene.splicegraph.vertices[0][i]) ) or (pattern_right in str(gene.splicegraph.vertices[1][j])))\\\n",
    "#     and ((pattern_left in str(gene.splicegraph.vertices[0][i]) ) or (pattern_left in str(gene.splicegraph.vertices[1][j]))):\n",
    "#         print(gene.splicegraph.vertices[0][i],gene.splicegraph.vertices[1][j])\n",
    "#         print(i, j)\n",
    "#         print(idx)"
   ]
  },
  {
   "cell_type": "code",
   "execution_count": null,
   "id": "7e357070",
   "metadata": {
    "scrolled": true
   },
   "outputs": [],
   "source": [
    "# for i, j in zip(gene.splicegraph.vertices[0], gene.splicegraph.vertices[1]):\n",
    "#     print(i,j)\n",
    "#     print(np.round(abs(i-j)/3))"
   ]
  },
  {
   "cell_type": "code",
   "execution_count": null,
   "id": "1fc5c022",
   "metadata": {},
   "outputs": [],
   "source": []
  },
  {
   "cell_type": "code",
   "execution_count": null,
   "id": "fef33f0d",
   "metadata": {},
   "outputs": [],
   "source": []
  },
  {
   "cell_type": "code",
   "execution_count": null,
   "id": "68c47746",
   "metadata": {},
   "outputs": [],
   "source": []
  },
  {
   "cell_type": "code",
   "execution_count": null,
   "id": "375b9821",
   "metadata": {},
   "outputs": [],
   "source": []
  },
  {
   "cell_type": "code",
   "execution_count": null,
   "id": "2d0f879f",
   "metadata": {},
   "outputs": [],
   "source": []
  }
 ],
 "metadata": {
  "kernelspec": {
   "display_name": "Python 3 (ipykernel)",
   "language": "python",
   "name": "python3"
  },
  "language_info": {
   "codemirror_mode": {
    "name": "ipython",
    "version": 3
   },
   "file_extension": ".py",
   "mimetype": "text/x-python",
   "name": "python",
   "nbconvert_exporter": "python",
   "pygments_lexer": "ipython3",
   "version": "3.9.13"
  }
 },
 "nbformat": 4,
 "nbformat_minor": 5
}
