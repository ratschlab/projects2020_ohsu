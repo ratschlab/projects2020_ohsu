{
 "cells": [
  {
   "cell_type": "code",
   "execution_count": 1,
   "id": "f8ab0a5f",
   "metadata": {},
   "outputs": [],
   "source": [
    "import pickle\n",
    "import numpy as np\n",
    "from spladder.viz.graph import *\n"
   ]
  },
  {
   "cell_type": "code",
   "execution_count": 2,
   "id": "18199123",
   "metadata": {},
   "outputs": [
    {
     "data": {
      "text/plain": [
       "'2.2.2'"
      ]
     },
     "execution_count": 2,
     "metadata": {},
     "output_type": "execute_result"
    }
   ],
   "source": [
    "matplotlib.__version__"
   ]
  },
  {
   "cell_type": "code",
   "execution_count": 3,
   "id": "d8943a45",
   "metadata": {},
   "outputs": [
    {
     "data": {
      "text/plain": [
       "'3.0.4'"
      ]
     },
     "execution_count": 3,
     "metadata": {},
     "output_type": "execute_result"
    }
   ],
   "source": [
    "import spladder\n",
    "spladder.__version__"
   ]
  },
  {
   "cell_type": "code",
   "execution_count": 86,
   "id": "b39b7f1f",
   "metadata": {},
   "outputs": [],
   "source": [
    "splice_path = '/cluster/work/grlab/projects/GTEx/rna_gencode32_realign/results/splicing/spladder/genes_graph_conf2.merge_graphs.pickle'\n",
    "splice_path = '/cluster/work/grlab/projects/projects2021-immuno_peptides/results/TCGA_for_neoepitopes/TCGA_Breast_1102_results/splicing/spladder/genes_graph_conf2.merge_graphs.pickle'"
   ]
  },
  {
   "cell_type": "code",
   "execution_count": 87,
   "id": "d176b9b0",
   "metadata": {},
   "outputs": [],
   "source": [
    "with open(splice_path, 'rb') as graph_fp:\n",
    "    (graph_data, graph_meta) = pickle.load(graph_fp, encoding='latin1')  # both graph data and meta data"
   ]
  },
  {
   "cell_type": "code",
   "execution_count": 88,
   "id": "3e06a7da",
   "metadata": {},
   "outputs": [],
   "source": [
    "gene_id = 18652\n",
    "gene_id = 57526\n",
    "gene_id = 5583\n",
    "#gene_id = 100"
   ]
  },
  {
   "cell_type": "code",
   "execution_count": null,
   "id": "4a790cdd",
   "metadata": {},
   "outputs": [],
   "source": []
  },
  {
   "cell_type": "code",
   "execution_count": 89,
   "id": "84eb2eb7",
   "metadata": {},
   "outputs": [],
   "source": [
    "gene = graph_data[gene_id]"
   ]
  },
  {
   "cell_type": "code",
   "execution_count": 90,
   "id": "cdf35360",
   "metadata": {},
   "outputs": [
    {
     "data": {
      "text/plain": [
       "'-'"
      ]
     },
     "execution_count": 90,
     "metadata": {},
     "output_type": "execute_result"
    }
   ],
   "source": [
    "gene.strand"
   ]
  },
  {
   "cell_type": "code",
   "execution_count": 91,
   "id": "eb9725b5",
   "metadata": {},
   "outputs": [
    {
     "name": "stdout",
     "output_type": "stream",
     "text": [
      "ENSG00000057608.17\n"
     ]
    }
   ],
   "source": [
    "print(gene.name)"
   ]
  },
  {
   "cell_type": "code",
   "execution_count": 92,
   "id": "12f15fe1",
   "metadata": {},
   "outputs": [],
   "source": [
    "gene.from_sparse()"
   ]
  },
  {
   "cell_type": "code",
   "execution_count": 93,
   "id": "66bc5517",
   "metadata": {},
   "outputs": [
    {
     "data": {
      "text/plain": [
       "1136"
      ]
     },
     "execution_count": 93,
     "metadata": {},
     "output_type": "execute_result"
    }
   ],
   "source": [
    "len(np.where(gene.splicegraph.edges)[1])"
   ]
  },
  {
   "cell_type": "code",
   "execution_count": 94,
   "id": "a5c4360f",
   "metadata": {
    "scrolled": true
   },
   "outputs": [
    {
     "data": {
      "text/plain": [
       "193"
      ]
     },
     "execution_count": 94,
     "metadata": {},
     "output_type": "execute_result"
    }
   ],
   "source": [
    "len(gene.splicegraph.edges)"
   ]
  },
  {
   "cell_type": "code",
   "execution_count": 95,
   "id": "c54ca79f",
   "metadata": {
    "scrolled": true
   },
   "outputs": [
    {
     "data": {
      "text/plain": [
       "(2, 193)"
      ]
     },
     "execution_count": 95,
     "metadata": {},
     "output_type": "execute_result"
    }
   ],
   "source": [
    "gene.splicegraph.vertices.shape"
   ]
  },
  {
   "cell_type": "code",
   "execution_count": 96,
   "id": "1cc654fb",
   "metadata": {},
   "outputs": [
    {
     "data": {
      "text/plain": [
       "array([[5764958, 5765222, 5765222, 5765222, 5765222, 5765222, 5765222,\n",
       "        5765222, 5765222, 5765222, 5765222, 5765222, 5765222, 5765222,\n",
       "        5765222, 5765222, 5765222, 5765222, 5765222, 5765222, 5765222,\n",
       "        5765228, 5765228, 5765228, 5765228, 5765228, 5765228, 5765228,\n",
       "        5765228, 5765228, 5765228, 5765228, 5765228, 5765228, 5765228,\n",
       "        5765228, 5765228, 5765848, 5765848, 5765848, 5765848, 5765848,\n",
       "        5765875, 5765880, 5765913, 5765916, 5765946, 5765952, 5765953,\n",
       "        5765953, 5765982, 5765986, 5766000, 5766019, 5766051, 5766081,\n",
       "        5766091, 5766105, 5766116, 5766132, 5766240, 5766240, 5766240,\n",
       "        5766240, 5766240, 5766240, 5766240, 5766240, 5766493, 5766493,\n",
       "        5766501, 5766625, 5767765, 5767854, 5767916, 5767939, 5767939,\n",
       "        5768030, 5768212, 5768212, 5768212, 5768212, 5768212, 5768333,\n",
       "        5768333, 5768345, 5770451, 5771868, 5772341, 5773841, 5773841,\n",
       "        5774151, 5781070, 5781201, 5781201, 5781201, 5781201, 5781219,\n",
       "        5781922, 5783213, 5783323, 5783323, 5783323, 5783330, 5784618,\n",
       "        5785141, 5785141, 5785141, 5785851, 5785851, 5785851, 5785851,\n",
       "        5785851, 5785865, 5785865, 5785865, 5785966, 5785981, 5785981,\n",
       "        5786005, 5786019, 5787873, 5787947, 5791688, 5794884, 5794884,\n",
       "        5794884, 5794884, 5794884, 5794884, 5794907, 5794907, 5794907,\n",
       "        5794987, 5795003, 5795007, 5795985, 5796145, 5796762, 5796762,\n",
       "        5796769, 5800559, 5800591, 5800597, 5800597, 5800597, 5800597,\n",
       "        5802140, 5802231, 5802309, 5802309, 5802309, 5802309, 5802309,\n",
       "        5803164, 5804024, 5804053, 5804053, 5804192, 5805159, 5805273,\n",
       "        5805706, 5805760, 5805773, 5805773, 5805849, 5809041, 5809119,\n",
       "        5811559, 5811560, 5811684, 5811842, 5811873, 5812192, 5812242,\n",
       "        5812314, 5812314, 5812314, 5812401, 5812489, 5812771, 5813213,\n",
       "        5813213, 5813213, 5813213, 5813213, 5813234, 5813247, 5813412,\n",
       "        5814107, 5814540, 5818907, 5842066],\n",
       "       [5765158, 5765264, 5765284, 5765287, 5765288, 5765302, 5765378,\n",
       "        5765427, 5765488, 5765553, 5765717, 5765759, 5765764, 5765885,\n",
       "        5765926, 5765933, 5766079, 5766145, 5766152, 5766159, 5766174,\n",
       "        5765264, 5765284, 5765287, 5765288, 5765302, 5765378, 5765427,\n",
       "        5765488, 5765553, 5765759, 5765764, 5765885, 5765926, 5765933,\n",
       "        5766079, 5766152, 5765885, 5765926, 5765933, 5766079, 5766152,\n",
       "        5766152, 5766152, 5766152, 5766152, 5766152, 5766152, 5766079,\n",
       "        5766152, 5766152, 5766152, 5766152, 5766152, 5766152, 5766152,\n",
       "        5766152, 5766152, 5766152, 5766152, 5766292, 5766294, 5766295,\n",
       "        5766599, 5766602, 5766638, 5766644, 5766662, 5766602, 5766638,\n",
       "        5766638, 5766638, 5767965, 5768054, 5768116, 5768116, 5768139,\n",
       "        5768054, 5768307, 5768366, 5768383, 5768384, 5769389, 5768384,\n",
       "        5769389, 5768384, 5770651, 5772068, 5772390, 5773941, 5773942,\n",
       "        5774351, 5781270, 5781270, 5781401, 5783413, 5784818, 5781270,\n",
       "        5782122, 5783413, 5783413, 5783523, 5784818, 5783413, 5784818,\n",
       "        5785222, 5785265, 5785273, 5785921, 5785922, 5785985, 5786005,\n",
       "        5786050, 5785921, 5785985, 5786050, 5786050, 5785985, 5786050,\n",
       "        5786050, 5786050, 5788073, 5788147, 5791888, 5794959, 5794969,\n",
       "        5794989, 5795014, 5795018, 5795019, 5794959, 5794969, 5795019,\n",
       "        5795019, 5795019, 5795019, 5796185, 5796345, 5796861, 5796862,\n",
       "        5796862, 5800705, 5800705, 5800689, 5800705, 5800725, 5800740,\n",
       "        5802340, 5802431, 5802340, 5802354, 5802431, 5802434, 5802509,\n",
       "        5803364, 5804224, 5804253, 5806049, 5804392, 5805359, 5805473,\n",
       "        5805906, 5805960, 5805973, 5806049, 5806049, 5809241, 5809319,\n",
       "        5811759, 5811760, 5811884, 5811956, 5811956, 5812392, 5812442,\n",
       "        5812442, 5812514, 5812601, 5812601, 5812689, 5812971, 5813387,\n",
       "        5813411, 5813429, 5813432, 5813434, 5813387, 5813387, 5813612,\n",
       "        5814329, 5814587, 5819107, 5842132]])"
      ]
     },
     "execution_count": 96,
     "metadata": {},
     "output_type": "execute_result"
    }
   ],
   "source": [
    "gene.splicegraph.vertices"
   ]
  },
  {
   "cell_type": "code",
   "execution_count": 97,
   "id": "cc2d32b1",
   "metadata": {},
   "outputs": [
    {
     "data": {
      "text/plain": [
       "(array([  0,   0,   1, ..., 190, 191, 192]),\n",
       " array([ 81,  82,  50, ..., 192, 144, 190]))"
      ]
     },
     "execution_count": 97,
     "metadata": {},
     "output_type": "execute_result"
    }
   ],
   "source": [
    "np.where(gene.splicegraph.edges)"
   ]
  },
  {
   "cell_type": "code",
   "execution_count": 98,
   "id": "42505862",
   "metadata": {},
   "outputs": [
    {
     "name": "stdout",
     "output_type": "stream",
     "text": [
      "5765880 5765764\n",
      "5765880 5765764\n",
      "5765916 5765759\n",
      "5765916 5765759\n",
      "5765986 5765764\n",
      "5765986 5765764\n",
      "5766000 5765764\n",
      "5766000 5765764\n",
      "5766240 5765717\n",
      "5766240 5765764\n",
      "5766240 5765717\n",
      "5781219 5765717\n",
      "5785141 5765764\n"
     ]
    }
   ],
   "source": [
    "pattern = '57657'\n",
    "for i, j in zip(np.where(gene.splicegraph.edges)[0], np.where(gene.splicegraph.edges)[1]):\n",
    "    if (pattern in str(gene.splicegraph.vertices[0][i]) ) or (pattern in str(gene.splicegraph.vertices[1][j])):\n",
    "        print(gene.splicegraph.vertices[0][i],gene.splicegraph.vertices[1][j])"
   ]
  },
  {
   "cell_type": "code",
   "execution_count": 99,
   "id": "01dbb503",
   "metadata": {},
   "outputs": [
    {
     "data": {
      "text/plain": [
       "False"
      ]
     },
     "execution_count": 99,
     "metadata": {},
     "output_type": "execute_result"
    }
   ],
   "source": [
    "str(5765222) == pattern"
   ]
  },
  {
   "cell_type": "code",
   "execution_count": 100,
   "id": "7e357070",
   "metadata": {
    "scrolled": true
   },
   "outputs": [
    {
     "name": "stdout",
     "output_type": "stream",
     "text": [
      "5764958 5765158\n",
      "67.0\n",
      "5765222 5765264\n",
      "14.0\n",
      "5765222 5765284\n",
      "21.0\n",
      "5765222 5765287\n",
      "22.0\n",
      "5765222 5765288\n",
      "22.0\n",
      "5765222 5765302\n",
      "27.0\n",
      "5765222 5765378\n",
      "52.0\n",
      "5765222 5765427\n",
      "68.0\n",
      "5765222 5765488\n",
      "89.0\n",
      "5765222 5765553\n",
      "110.0\n",
      "5765222 5765717\n",
      "165.0\n",
      "5765222 5765759\n",
      "179.0\n",
      "5765222 5765764\n",
      "181.0\n",
      "5765222 5765885\n",
      "221.0\n",
      "5765222 5765926\n",
      "235.0\n",
      "5765222 5765933\n",
      "237.0\n",
      "5765222 5766079\n",
      "286.0\n",
      "5765222 5766145\n",
      "308.0\n",
      "5765222 5766152\n",
      "310.0\n",
      "5765222 5766159\n",
      "312.0\n",
      "5765222 5766174\n",
      "317.0\n",
      "5765228 5765264\n",
      "12.0\n",
      "5765228 5765284\n",
      "19.0\n",
      "5765228 5765287\n",
      "20.0\n",
      "5765228 5765288\n",
      "20.0\n",
      "5765228 5765302\n",
      "25.0\n",
      "5765228 5765378\n",
      "50.0\n",
      "5765228 5765427\n",
      "66.0\n",
      "5765228 5765488\n",
      "87.0\n",
      "5765228 5765553\n",
      "108.0\n",
      "5765228 5765759\n",
      "177.0\n",
      "5765228 5765764\n",
      "179.0\n",
      "5765228 5765885\n",
      "219.0\n",
      "5765228 5765926\n",
      "233.0\n",
      "5765228 5765933\n",
      "235.0\n",
      "5765228 5766079\n",
      "284.0\n",
      "5765228 5766152\n",
      "308.0\n",
      "5765848 5765885\n",
      "12.0\n",
      "5765848 5765926\n",
      "26.0\n",
      "5765848 5765933\n",
      "28.0\n",
      "5765848 5766079\n",
      "77.0\n",
      "5765848 5766152\n",
      "101.0\n",
      "5765875 5766152\n",
      "92.0\n",
      "5765880 5766152\n",
      "91.0\n",
      "5765913 5766152\n",
      "80.0\n",
      "5765916 5766152\n",
      "79.0\n",
      "5765946 5766152\n",
      "69.0\n",
      "5765952 5766152\n",
      "67.0\n",
      "5765953 5766079\n",
      "42.0\n",
      "5765953 5766152\n",
      "66.0\n",
      "5765982 5766152\n",
      "57.0\n",
      "5765986 5766152\n",
      "55.0\n",
      "5766000 5766152\n",
      "51.0\n",
      "5766019 5766152\n",
      "44.0\n",
      "5766051 5766152\n",
      "34.0\n",
      "5766081 5766152\n",
      "24.0\n",
      "5766091 5766152\n",
      "20.0\n",
      "5766105 5766152\n",
      "16.0\n",
      "5766116 5766152\n",
      "12.0\n",
      "5766132 5766152\n",
      "7.0\n",
      "5766240 5766292\n",
      "17.0\n",
      "5766240 5766294\n",
      "18.0\n",
      "5766240 5766295\n",
      "18.0\n",
      "5766240 5766599\n",
      "120.0\n",
      "5766240 5766602\n",
      "121.0\n",
      "5766240 5766638\n",
      "133.0\n",
      "5766240 5766644\n",
      "135.0\n",
      "5766240 5766662\n",
      "141.0\n",
      "5766493 5766602\n",
      "36.0\n",
      "5766493 5766638\n",
      "48.0\n",
      "5766501 5766638\n",
      "46.0\n",
      "5766625 5766638\n",
      "4.0\n",
      "5767765 5767965\n",
      "67.0\n",
      "5767854 5768054\n",
      "67.0\n",
      "5767916 5768116\n",
      "67.0\n",
      "5767939 5768116\n",
      "59.0\n",
      "5767939 5768139\n",
      "67.0\n",
      "5768030 5768054\n",
      "8.0\n",
      "5768212 5768307\n",
      "32.0\n",
      "5768212 5768366\n",
      "51.0\n",
      "5768212 5768383\n",
      "57.0\n",
      "5768212 5768384\n",
      "57.0\n",
      "5768212 5769389\n",
      "392.0\n",
      "5768333 5768384\n",
      "17.0\n",
      "5768333 5769389\n",
      "352.0\n",
      "5768345 5768384\n",
      "13.0\n",
      "5770451 5770651\n",
      "67.0\n",
      "5771868 5772068\n",
      "67.0\n",
      "5772341 5772390\n",
      "16.0\n",
      "5773841 5773941\n",
      "33.0\n",
      "5773841 5773942\n",
      "34.0\n",
      "5774151 5774351\n",
      "67.0\n",
      "5781070 5781270\n",
      "67.0\n",
      "5781201 5781270\n",
      "23.0\n",
      "5781201 5781401\n",
      "67.0\n",
      "5781201 5783413\n",
      "737.0\n",
      "5781201 5784818\n",
      "1206.0\n",
      "5781219 5781270\n",
      "17.0\n",
      "5781922 5782122\n",
      "67.0\n",
      "5783213 5783413\n",
      "67.0\n",
      "5783323 5783413\n",
      "30.0\n",
      "5783323 5783523\n",
      "67.0\n",
      "5783323 5784818\n",
      "498.0\n",
      "5783330 5783413\n",
      "28.0\n",
      "5784618 5784818\n",
      "67.0\n",
      "5785141 5785222\n",
      "27.0\n",
      "5785141 5785265\n",
      "41.0\n",
      "5785141 5785273\n",
      "44.0\n",
      "5785851 5785921\n",
      "23.0\n",
      "5785851 5785922\n",
      "24.0\n",
      "5785851 5785985\n",
      "45.0\n",
      "5785851 5786005\n",
      "51.0\n",
      "5785851 5786050\n",
      "66.0\n",
      "5785865 5785921\n",
      "19.0\n",
      "5785865 5785985\n",
      "40.0\n",
      "5785865 5786050\n",
      "62.0\n",
      "5785966 5786050\n",
      "28.0\n",
      "5785981 5785985\n",
      "1.0\n",
      "5785981 5786050\n",
      "23.0\n",
      "5786005 5786050\n",
      "15.0\n",
      "5786019 5786050\n",
      "10.0\n",
      "5787873 5788073\n",
      "67.0\n",
      "5787947 5788147\n",
      "67.0\n",
      "5791688 5791888\n",
      "67.0\n",
      "5794884 5794959\n",
      "25.0\n",
      "5794884 5794969\n",
      "28.0\n",
      "5794884 5794989\n",
      "35.0\n",
      "5794884 5795014\n",
      "43.0\n",
      "5794884 5795018\n",
      "45.0\n",
      "5794884 5795019\n",
      "45.0\n",
      "5794907 5794959\n",
      "17.0\n",
      "5794907 5794969\n",
      "21.0\n",
      "5794907 5795019\n",
      "37.0\n",
      "5794987 5795019\n",
      "11.0\n",
      "5795003 5795019\n",
      "5.0\n",
      "5795007 5795019\n",
      "4.0\n",
      "5795985 5796185\n",
      "67.0\n",
      "5796145 5796345\n",
      "67.0\n",
      "5796762 5796861\n",
      "33.0\n",
      "5796762 5796862\n",
      "33.0\n",
      "5796769 5796862\n",
      "31.0\n",
      "5800559 5800705\n",
      "49.0\n",
      "5800591 5800705\n",
      "38.0\n",
      "5800597 5800689\n",
      "31.0\n",
      "5800597 5800705\n",
      "36.0\n",
      "5800597 5800725\n",
      "43.0\n",
      "5800597 5800740\n",
      "48.0\n",
      "5802140 5802340\n",
      "67.0\n",
      "5802231 5802431\n",
      "67.0\n",
      "5802309 5802340\n",
      "10.0\n",
      "5802309 5802354\n",
      "15.0\n",
      "5802309 5802431\n",
      "41.0\n",
      "5802309 5802434\n",
      "42.0\n",
      "5802309 5802509\n",
      "67.0\n",
      "5803164 5803364\n",
      "67.0\n",
      "5804024 5804224\n",
      "67.0\n",
      "5804053 5804253\n",
      "67.0\n",
      "5804053 5806049\n",
      "665.0\n",
      "5804192 5804392\n",
      "67.0\n",
      "5805159 5805359\n",
      "67.0\n",
      "5805273 5805473\n",
      "67.0\n",
      "5805706 5805906\n",
      "67.0\n",
      "5805760 5805960\n",
      "67.0\n",
      "5805773 5805973\n",
      "67.0\n",
      "5805773 5806049\n",
      "92.0\n",
      "5805849 5806049\n",
      "67.0\n",
      "5809041 5809241\n",
      "67.0\n",
      "5809119 5809319\n",
      "67.0\n",
      "5811559 5811759\n",
      "67.0\n",
      "5811560 5811760\n",
      "67.0\n",
      "5811684 5811884\n",
      "67.0\n",
      "5811842 5811956\n",
      "38.0\n",
      "5811873 5811956\n",
      "28.0\n",
      "5812192 5812392\n",
      "67.0\n",
      "5812242 5812442\n",
      "67.0\n",
      "5812314 5812442\n",
      "43.0\n",
      "5812314 5812514\n",
      "67.0\n",
      "5812314 5812601\n",
      "96.0\n",
      "5812401 5812601\n",
      "67.0\n",
      "5812489 5812689\n",
      "67.0\n",
      "5812771 5812971\n",
      "67.0\n",
      "5813213 5813387\n",
      "58.0\n",
      "5813213 5813411\n",
      "66.0\n",
      "5813213 5813429\n",
      "72.0\n",
      "5813213 5813432\n",
      "73.0\n",
      "5813213 5813434\n",
      "74.0\n",
      "5813234 5813387\n",
      "51.0\n",
      "5813247 5813387\n",
      "47.0\n",
      "5813412 5813612\n",
      "67.0\n",
      "5814107 5814329\n",
      "74.0\n",
      "5814540 5814587\n",
      "16.0\n",
      "5818907 5819107\n",
      "67.0\n",
      "5842066 5842132\n",
      "22.0\n"
     ]
    }
   ],
   "source": [
    "for i, j in zip(gene.splicegraph.vertices[0], gene.splicegraph.vertices[1]):\n",
    "    print(i,j)\n",
    "    print(np.round(abs(i-j)/3))"
   ]
  },
  {
   "cell_type": "code",
   "execution_count": 68,
   "id": "718d3bb1",
   "metadata": {},
   "outputs": [
    {
     "data": {
      "text/plain": [
       "<function __main__.plot_graph(vertices, edges, ax, xlim=None, highlight=None, highlight_color='magenta', node_color='b', edge_color='#999999', label=None)>"
      ]
     },
     "execution_count": 68,
     "metadata": {},
     "output_type": "execute_result"
    }
   ],
   "source": [
    "plot_graph"
   ]
  },
  {
   "cell_type": "code",
   "execution_count": 69,
   "id": "1e404478",
   "metadata": {},
   "outputs": [],
   "source": [
    "from matplotlib.collections import PatchCollection\n",
    "import pickle\n",
    "import sys\n",
    "import scipy as sp\n",
    "import pdb\n",
    "def plot_graph(vertices, edges, ax, xlim=None, highlight=None, highlight_color='magenta', node_color='b',\n",
    "               edge_color='#999999', label=None):\n",
    "    \"\"\"Takes a graph given as vertices and edges and visualizes its structure\"\"\"\n",
    "\n",
    "    start = vertices.ravel().min()\n",
    "    stop = vertices.ravel().max()\n",
    "\n",
    "    ### draw grid\n",
    "    ax.grid(b=True, which='major', linestyle='--', linewidth=0.2, color='#222222')\n",
    "    ax.yaxis.grid(False)\n",
    "\n",
    "    ### nodes\n",
    "    patchlist = []\n",
    "    exon_num = sp.zeros((stop - start,))\n",
    "    exon_loc = sp.zeros((1, stop - start))\n",
    "    exon_level = sp.zeros((vertices.shape[1], )) #vertices.shape[1]))\n",
    "    for i in range(vertices.shape[1]):\n",
    "        cur_vertex = vertices[:, i] - start\n",
    "        exon_num[cur_vertex[0]:cur_vertex[1]] += 1\n",
    "        if sp.all(exon_num < 2):\n",
    "            exon_loc[0, :] = exon_num\n",
    "            level = 0\n",
    "        elif exon_num.max() > exon_loc.shape[0]:\n",
    "            exon_loc = sp.r_[exon_loc, sp.zeros((1, stop - start))]\n",
    "            exon_loc[-1, cur_vertex[0]:cur_vertex[1]] = 1\n",
    "            level = exon_loc.shape[0] - 1\n",
    "        elif exon_num.max() <= exon_loc.shape[0]:\n",
    "            idx = sp.where(sp.all(exon_loc[:, cur_vertex[0]:cur_vertex[1]] == 0, 1))[0].min()\n",
    "            exon_loc[idx, cur_vertex[0]:cur_vertex[1]] = 1\n",
    "            level = idx\n",
    "\n",
    "        exon_level[i] = level\n",
    "\n",
    "        patchlist.append(mpatches.Rectangle([cur_vertex[0] + start, 20 + (level * 20)], cur_vertex[1] - cur_vertex[0], 10, facecolor=node_color, edgecolor='none', alpha=0.7))\n",
    "\n",
    "    ### edges\n",
    "    linelist = []\n",
    "    intron_loc = sp.zeros((1, stop - start))\n",
    "    if edges.shape[0] > 1:\n",
    "        ii, jj = sp.where(sp.triu(edges) > 0)\n",
    "        for i, j in zip(ii, jj):\n",
    "            if vertices[0,i] < vertices[0,j]:\n",
    "                istart = vertices[1, i]\n",
    "                istop = vertices[0, j]\n",
    "                level1 = exon_level[i]\n",
    "                level2 = exon_level[j]\n",
    "            else:\n",
    "                istart = vertices[1, j]\n",
    "                istop = vertices[0, i]\n",
    "                level1 = exon_level[j]\n",
    "                level2 = exon_level[i]\n",
    "\n",
    "            cur_intron = [istart - start, istop - start]\n",
    "            intron_loc[cur_intron[0]:cur_intron[1]] += 1\n",
    "            leveli = [(istart + istop) * 0.5, (level1 + level2) * 0.5]\n",
    "            #ax.plot([istart, leveli[0], istop], [25 + (level1 * 20), 32 + (leveli[1] * 20), 25 + (level2 * 20)], '-', color=edge_color, linewidth=0.5)\n",
    "            linelist.append(mlines.Line2D([istart, leveli[0], istop], [25 + (level1 * 20), 32 + (leveli[1] * 20), 25 + (level2 * 20)], color=edge_color, linewidth=0.5, alpha=0.07))\n",
    "            #ax.plot([leveli[0], istop], [32 + (leveli[1] * 20), 25 + (level2 * 20)], '-', color=edge_color, linewidth=0.5)\n",
    "\n",
    "    ### draw patches\n",
    "    for node in patchlist:\n",
    "        ax.add_patch(node)\n",
    "    for line in linelist:\n",
    "        ax.add_line(line)\n",
    "\n",
    "    ### draw label\n",
    "    if label:\n",
    "        ax.text(start + (stop - start) / 2, 12, label, verticalalignment='center', horizontalalignment='center')\n",
    "\n",
    "    ### axes\n",
    "    if xlim is not None:\n",
    "        ax.set_xlim(xlim)\n",
    "    else:\n",
    "        ax.set_xlim([max(start - 20, 0), stop + 20])\n",
    "    ax.set_ylim([0, 40 + (exon_loc.shape[0] * 20)])\n",
    "    ax.set_yticks([])\n",
    "\n",
    "    ### highlight if requested\n",
    "    if highlight is not None:\n",
    "        rect = patches.Rectangle((highlight[0], 0), highlight[1] - highlight[0], ax.get_ylim()[1], facecolor=highlight_color, edgecolor='none', alpha=0.5)\n",
    "        ax.add_patch(rect)"
   ]
  },
  {
   "cell_type": "code",
   "execution_count": 70,
   "id": "219619d2",
   "metadata": {
    "scrolled": true
   },
   "outputs": [
    {
     "name": "stderr",
     "output_type": "stream",
     "text": [
      "/cluster/customapps/biomed/grlab/users/prelotla/software/miniconda/envs/matplot/lib/python3.7/site-packages/ipykernel_launcher.py:19: DeprecationWarning: scipy.zeros is deprecated and will be removed in SciPy 2.0.0, use numpy.zeros instead\n",
      "/cluster/customapps/biomed/grlab/users/prelotla/software/miniconda/envs/matplot/lib/python3.7/site-packages/ipykernel_launcher.py:20: DeprecationWarning: scipy.zeros is deprecated and will be removed in SciPy 2.0.0, use numpy.zeros instead\n",
      "/cluster/customapps/biomed/grlab/users/prelotla/software/miniconda/envs/matplot/lib/python3.7/site-packages/ipykernel_launcher.py:21: DeprecationWarning: scipy.zeros is deprecated and will be removed in SciPy 2.0.0, use numpy.zeros instead\n",
      "/cluster/customapps/biomed/grlab/users/prelotla/software/miniconda/envs/matplot/lib/python3.7/site-packages/ipykernel_launcher.py:25: DeprecationWarning: scipy.all is deprecated and will be removed in SciPy 2.0.0, use numpy.all instead\n",
      "/cluster/customapps/biomed/grlab/users/prelotla/software/miniconda/envs/matplot/lib/python3.7/site-packages/ipykernel_launcher.py:29: DeprecationWarning: scipy.zeros is deprecated and will be removed in SciPy 2.0.0, use numpy.zeros instead\n",
      "/cluster/customapps/biomed/grlab/users/prelotla/software/miniconda/envs/matplot/lib/python3.7/site-packages/ipykernel_launcher.py:33: DeprecationWarning: scipy.all is deprecated and will be removed in SciPy 2.0.0, use numpy.all instead\n",
      "/cluster/customapps/biomed/grlab/users/prelotla/software/miniconda/envs/matplot/lib/python3.7/site-packages/ipykernel_launcher.py:33: DeprecationWarning: scipy.where is deprecated and will be removed in SciPy 2.0.0, use numpy.where instead\n",
      "/cluster/customapps/biomed/grlab/users/prelotla/software/miniconda/envs/matplot/lib/python3.7/site-packages/ipykernel_launcher.py:43: DeprecationWarning: scipy.zeros is deprecated and will be removed in SciPy 2.0.0, use numpy.zeros instead\n",
      "/cluster/customapps/biomed/grlab/users/prelotla/software/miniconda/envs/matplot/lib/python3.7/site-packages/ipykernel_launcher.py:45: DeprecationWarning: scipy.triu is deprecated and will be removed in SciPy 2.0.0, use numpy.triu instead\n",
      "/cluster/customapps/biomed/grlab/users/prelotla/software/miniconda/envs/matplot/lib/python3.7/site-packages/ipykernel_launcher.py:45: DeprecationWarning: scipy.where is deprecated and will be removed in SciPy 2.0.0, use numpy.where instead\n"
     ]
    }
   ],
   "source": [
    "fig, ax1 = plt.subplots()\n",
    "plot_graph(gene.splicegraph.vertices, gene.splicegraph.edges, ax1)\n",
    "plt.savefig('test', bbox_inches='tight')"
   ]
  },
  {
   "cell_type": "code",
   "execution_count": 25,
   "id": "1fc5c022",
   "metadata": {},
   "outputs": [],
   "source": []
  },
  {
   "cell_type": "code",
   "execution_count": null,
   "id": "fef33f0d",
   "metadata": {},
   "outputs": [],
   "source": []
  },
  {
   "cell_type": "code",
   "execution_count": null,
   "id": "68c47746",
   "metadata": {},
   "outputs": [],
   "source": []
  },
  {
   "cell_type": "code",
   "execution_count": null,
   "id": "375b9821",
   "metadata": {},
   "outputs": [],
   "source": []
  },
  {
   "cell_type": "code",
   "execution_count": null,
   "id": "2d0f879f",
   "metadata": {},
   "outputs": [],
   "source": []
  }
 ],
 "metadata": {
  "kernelspec": {
   "display_name": "Python 3 (ipykernel)",
   "language": "python",
   "name": "python3"
  },
  "language_info": {
   "codemirror_mode": {
    "name": "ipython",
    "version": 3
   },
   "file_extension": ".py",
   "mimetype": "text/x-python",
   "name": "python",
   "nbconvert_exporter": "python",
   "pygments_lexer": "ipython3",
   "version": "3.7.16"
  }
 },
 "nbformat": 4,
 "nbformat_minor": 5
}
