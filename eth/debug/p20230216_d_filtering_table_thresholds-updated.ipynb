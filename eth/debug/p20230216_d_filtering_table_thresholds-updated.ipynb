{
 "cells": [
  {
   "cell_type": "code",
   "execution_count": 1,
   "id": "cab1d99c",
   "metadata": {
    "scrolled": true
   },
   "outputs": [
    {
     "name": "stderr",
     "output_type": "stream",
     "text": [
      "Matplotlib created a temporary config/cache directory at /scratch/slurm-job.816371/matplotlib-5lt03ljy because the default path (/cluster/customapps/biomed/grlab/users/prelotla/.cache/matplotlib) is not a writable directory; it is highly recommended to set the MPLCONFIGDIR environment variable to a writable directory, in particular to speed up the import of Matplotlib and to better support multiprocessing.\n"
     ]
    }
   ],
   "source": [
    "import numpy as np\n",
    "import os\n",
    "import timeit\n",
    "import glob \n",
    "import pandas as pd\n",
    "import time\n",
    "import multiprocessing as mp \n",
    "import logging\n",
    "import sys \n",
    "import pathlib\n",
    "from pathlib import Path\n",
    "import matplotlib.pyplot as plt "
   ]
  },
  {
   "cell_type": "markdown",
   "id": "7a8f2e8d",
   "metadata": {},
   "source": [
    "# Order \n",
    "- Uniprot \n",
    "- Sample init\n",
    "- Sample expression \n",
    "- Sample cohort \n",
    "- annotation \n",
    "- GTEX?"
   ]
  },
  {
   "cell_type": "code",
   "execution_count": 2,
   "id": "fcf5e3ca",
   "metadata": {},
   "outputs": [],
   "source": [
    "def filter_cancer_cohort(df, n_samples, threshold_column ):\n",
    "    df = df.loc[df[threshold_column] >= n_samples]    \n",
    "    return df\n",
    "        "
   ]
  },
  {
   "cell_type": "code",
   "execution_count": 3,
   "id": "d2674c73",
   "metadata": {},
   "outputs": [],
   "source": [
    "def get_threshold_colname(threshold, tag):\n",
    "    if (threshold is not None) and (threshold > 0 ):\n",
    "        threshold_column = f'{tag}filter >={threshold}'\n",
    "    else:\n",
    "        threshold_column = f'{tag}filter >{threshold}'\n",
    "    return threshold_column"
   ]
  },
  {
   "cell_type": "code",
   "execution_count": 4,
   "id": "783a8bfa",
   "metadata": {},
   "outputs": [],
   "source": [
    "def filter_single_col(df, threshold, colname):\n",
    "    if threshold:\n",
    "        df = df.loc[df[colname] >= threshold, :]\n",
    "    else:\n",
    "        df = df.loc[df[colname] >threshold, :]\n",
    "    return df"
   ]
  },
  {
   "cell_type": "code",
   "execution_count": 5,
   "id": "0ab8af74",
   "metadata": {},
   "outputs": [],
   "source": [
    "def max_recurrence_over_kmer(df, threshold_column, new_maxcol):\n",
    "    df = df[['kmer', threshold_column]].groupby('kmer').max()\n",
    "    df = df.reset_index()\n",
    "    df = df.rename({threshold_column: new_maxcol}, axis = 1)\n",
    "    return df "
   ]
  },
  {
   "cell_type": "code",
   "execution_count": 6,
   "id": "898b4316",
   "metadata": {},
   "outputs": [],
   "source": [
    "def output_count(df, report_count, report_step, step_string, perform_count=True):\n",
    "    '''\n",
    "    Performs a count operation on the number of kmers present in spark dataframe after a given filtering step\n",
    "    Note: This operation is expensive but useful if the user is interested in intermediate filtering steps\n",
    "    :param perform_count: bool whether to perform a count operation\n",
    "    :param df: dataframe with kmer expression counts\n",
    "    :param report_count: list to store result of successive counting operations\n",
    "    :param report_step: list to store name of successive counting operations\n",
    "    :param step_string: str name of the counting operation\n",
    "    '''\n",
    "    if perform_count:\n",
    "        mycount = df['kmer'].unique().shape[0]\n",
    "        report_count.append(mycount)\n",
    "        report_step.append(step_string)\n",
    "        print(f'# {step_string} n = {mycount} kmers')"
   ]
  },
  {
   "cell_type": "code",
   "execution_count": 7,
   "id": "33b71537",
   "metadata": {},
   "outputs": [],
   "source": [
    "def save_output_count(output_count, report_count, report_steps, prefix, cancer_sample_ori, mutation_mode,\n",
    "                      sample_expr_support_cancer, cohort_expr_support_cancer, n_samples_lim_cancer,\n",
    "                          cohort_expr_support_normal, n_samples_lim_normal, id_normals):\n",
    "    '''\n",
    "    Saves the number of kmers present in spark dataframe after each filtering step in a tabular file\n",
    "    :param output_count: str path for count file of intermediate filtering steps\n",
    "    :param report_count: list to store result of successive counting operations\n",
    "    :param report_step: list to store name of successive counting operations\n",
    "    :param prefix: str information to be added to the result line in an info column\n",
    "    :param cancer_sample_ori: str id of target cancer sample which was filtered\n",
    "    :param mutation_mode: str information about whether mutations where applied or not\n",
    "    :param sample_expr_support_cancer: float normalized expression threshold for the cancer target sample\n",
    "    :param cohort_expr_support_cancer: float normalized expression threshold for the cancer cohort\n",
    "    excluding the target sample\n",
    "    hich should be met in n samples\n",
    "    :param n_samples_lim_cancer: int number of cancer samples in which the cancer cohort expression threshold\n",
    "    should be met\n",
    "    :param cohort_expr_support_normal: float normalized expression threshold for the normal cohort\n",
    "    required in any sample (>=1)\n",
    "    :param n_samples_lim_normal: int number of normal samples in which any number of reads is required (>0)\n",
    "    :param id_normals: str id of the normal cohort (example gtex)\n",
    "    '''\n",
    "    pipeline = 'peptide-based'\n",
    "    if output_count:\n",
    "        header = (f'{\"sample\"}\\t{\"mutation_mode\"}\\t{\"pipeline\"}\\t{\"min_sample_reads\"}\\t{\"#_of_cohort_samples\"}\\t'\n",
    "                  f'{\"reads_per_cohort_sample\"}\\t{\"#_normal_samples_allowed\"}\\t{\"normal_cohort_id\"}'\n",
    "                  f'\\t{\"reads_per_normal_sample\"}')\n",
    "        line =   (f'{cancer_sample_ori}\\t{mutation_mode}\\t{pipeline}\\t{sample_expr_support_cancer}\\t{n_samples_lim_cancer}'\n",
    "                  f'\\t{cohort_expr_support_cancer}\\t{n_samples_lim_normal}\\t{id_normals}'\n",
    "                  f'\\t{cohort_expr_support_normal}')\n",
    "\n",
    "        for idx in np.arange(len(report_count)):\n",
    "            header += f'\\t{report_steps[idx]}'\n",
    "            line += f'\\t{report_count[idx]}'\n",
    "        if prefix:\n",
    "            header += f'\\t{\"info\"}'\n",
    "            line += f'\\t{prefix}'\n",
    "        header += \"\\n\"\n",
    "        line += \"\\n\"\n",
    "        \n",
    "        print(header, len(header.split('\\t')))\n",
    "        print(line, len(line.split('\\t')))\n",
    "        if not os.path.exists(output_count):\n",
    "            with open(output_count,\"w\") as f:\n",
    "                f.write(header)\n",
    "        with open(output_count, \"a\") as f:\n",
    "            f.write(line)\n",
    "        logging.info(f'Save intermediate info to {output_count}')"
   ]
  },
  {
   "cell_type": "code",
   "execution_count": 8,
   "id": "bd671a7e",
   "metadata": {},
   "outputs": [],
   "source": [
    "# Julianne sample  mutation_mode   pipeline        min_sample_reads        #_of_cohort_samples     reads_per_cohort_sample #_normal_samples_allowed        normal_cohort_id        reads_per_normal_sample motif_filter    Init_cancer     Filter_Sample   Filter_Sample_Cohort    Filter_Sample_Cohort_CohortBackground   Filter_Motif    Filter_Sample_Cohort_CohortBackground_Uniprot\n"
   ]
  },
  {
   "cell_type": "markdown",
   "id": "1fcf0675",
   "metadata": {},
   "source": [
    "# MAIN"
   ]
  },
  {
   "cell_type": "markdown",
   "id": "91281182",
   "metadata": {},
   "source": [
    "Note: Foreground joined with GTEX table \\ 79 genes \n",
    "Genes excluded is a list of 215 genes for now. Should be fine "
   ]
  },
  {
   "cell_type": "code",
   "execution_count": 12,
   "id": "33bd2aad",
   "metadata": {},
   "outputs": [],
   "source": [
    "# Inputs\n",
    "basedir = '/cluster/work/grlab/projects/projects2020_OHSU/peptides_generation/CANCER_eth/commit_c4dd02c_conf2_Frame_cap0_runs/TCGA_Breast_1102'\n",
    "intermediate_output = os.path.join(basedir, 'filtering_intermediate/complete_cancer_candidates_.tsv.gz')\n",
    "run_type = 'brca'\n",
    "target_samples = ['TCGA-C8-A12P-01A-11R-A115-07.all',\n",
    "                'TCGA-AO-A0JM-01A-21R-A056-07.all',\n",
    "                'TCGA-BH-A18V-01A-11R-A12D-07.all',\n",
    "                'TCGA-A2-A0D2-01A-21R-A034-07.all',\n",
    "                'TCGA-A2-A0SX-01A-12R-A084-07.all']\n",
    "# Outputs\n",
    "filtering_id = 'chosen_filters_06March'\n",
    "output_dir = os.path.join(basedir, 'filtering_samples', filtering_id)\n",
    "pathlib.Path(output_dir).mkdir(exist_ok=True, parents=True)"
   ]
  },
  {
   "cell_type": "code",
   "execution_count": 13,
   "id": "08c6b40f",
   "metadata": {},
   "outputs": [],
   "source": [
    "# Discussion 02/22 Choices\n",
    "# BACKGROUND cohorts we do (cohort_reads, sample_number)- KEEP pipeline as such\n",
    "# cohort_reads=[0,1,3]\n",
    "# sample_number=[1,2,10]\n",
    "# FOREGROUND  (cohort_reads, sample_number) means\n",
    "# cohort_reads=[0,2]\n",
    "# sample_number(rest of cohort) =[1, 5]"
   ]
  },
  {
   "cell_type": "code",
   "execution_count": 14,
   "id": "e9c1eddc",
   "metadata": {},
   "outputs": [],
   "source": [
    "# Parameters\n",
    "Threshold_target = [0.0]\n",
    "Threshold_cancer_cohort = [0.0, 2.0, None] # choices = [0.0, 1.0, 2.0, 3.0, 5.0, 10.0]\n",
    "N_samples_cancer = [1, 5, None] # choices 1 to 1102 for BRCA and 374 for OV   \n",
    "\n",
    "Threshold_normal_cohort = [0.0, 1.0, 3.0]   # choices = [0.0, 1.0, 2.0, 3.0, 5.0, 10.0]\n",
    "N_samples_normal = [1, 2, 10] #choices 1 to max number of samples in Normal whitelist\n",
    "\n",
    "tag_cancer = 'cancerCohort'\n",
    "tag_normal = 'gtexCohort'\n",
    "\n",
    "\n",
    "tag_prefix = 'G_'\n",
    "mutation_mode = 'ref'\n",
    "save_tag = 'GtexCohort'\n",
    "\n",
    "metadata_save = ['kmer', 'coord', 'junctionAnnotated', 'readFrameAnnotated']"
   ]
  },
  {
   "cell_type": "code",
   "execution_count": 15,
   "id": "c38d0281",
   "metadata": {},
   "outputs": [
    {
     "data": {
      "text/plain": [
       "(22178175, 24)"
      ]
     },
     "execution_count": 15,
     "metadata": {},
     "output_type": "execute_result"
    }
   ],
   "source": [
    "# Load matrix to be filtered\n",
    "df_load = pd.read_csv(intermediate_output, sep = '\\t')\n",
    "df_load = df_load.rename({'batch': f'batch_{run_type}'}, axis = 1)\n",
    "df_load.shape"
   ]
  },
  {
   "cell_type": "code",
   "execution_count": 16,
   "id": "f3d368b7",
   "metadata": {},
   "outputs": [
    {
     "data": {
      "text/html": [
       "<div>\n",
       "<style scoped>\n",
       "    .dataframe tbody tr th:only-of-type {\n",
       "        vertical-align: middle;\n",
       "    }\n",
       "\n",
       "    .dataframe tbody tr th {\n",
       "        vertical-align: top;\n",
       "    }\n",
       "\n",
       "    .dataframe thead th {\n",
       "        text-align: right;\n",
       "    }\n",
       "</style>\n",
       "<table border=\"1\" class=\"dataframe\">\n",
       "  <thead>\n",
       "    <tr style=\"text-align: right;\">\n",
       "      <th></th>\n",
       "      <th>kmer</th>\n",
       "      <th>gtexCohortfilter &gt;0.0</th>\n",
       "      <th>gtexCohortfilter &gt;=1.0</th>\n",
       "      <th>gtexCohortfilter &gt;=2.0</th>\n",
       "      <th>gtexCohortfilter &gt;=3.0</th>\n",
       "      <th>gtexCohortfilter &gt;=5.0</th>\n",
       "      <th>gtexCohortfilter &gt;=10.0</th>\n",
       "      <th>coord</th>\n",
       "      <th>junctionAnnotated</th>\n",
       "      <th>readFrameAnnotated</th>\n",
       "      <th>...</th>\n",
       "      <th>cancerCohortfilter &gt;=2.0</th>\n",
       "      <th>cancerCohortfilter &gt;=3.0</th>\n",
       "      <th>cancerCohortfilter &gt;=5.0</th>\n",
       "      <th>cancerCohortfilter &gt;=10.0</th>\n",
       "      <th>TCGAC8A12P01A11RA11507all</th>\n",
       "      <th>TCGAAOA0JM01A21RA05607all</th>\n",
       "      <th>TCGABHA18V01A11RA12D07all</th>\n",
       "      <th>TCGAA2A0D201A21RA03407all</th>\n",
       "      <th>TCGAA2A0SX01A12RA08407all</th>\n",
       "      <th>isAnnotated</th>\n",
       "    </tr>\n",
       "  </thead>\n",
       "  <tbody>\n",
       "    <tr>\n",
       "      <th>0</th>\n",
       "      <td>WYITRSGIA</td>\n",
       "      <td>3290.0</td>\n",
       "      <td>1969.0</td>\n",
       "      <td>861.0</td>\n",
       "      <td>394.0</td>\n",
       "      <td>89.0</td>\n",
       "      <td>4.0</td>\n",
       "      <td>92347505:92347506:92349915:92349941:None:None</td>\n",
       "      <td>False</td>\n",
       "      <td>False</td>\n",
       "      <td>...</td>\n",
       "      <td>138</td>\n",
       "      <td>82</td>\n",
       "      <td>26</td>\n",
       "      <td>5</td>\n",
       "      <td>0.000000</td>\n",
       "      <td>0.000000</td>\n",
       "      <td>0.000000</td>\n",
       "      <td>4.102634</td>\n",
       "      <td>0.0</td>\n",
       "      <td>NaN</td>\n",
       "    </tr>\n",
       "    <tr>\n",
       "      <th>1</th>\n",
       "      <td>WYITRSGIA</td>\n",
       "      <td>572.0</td>\n",
       "      <td>545.0</td>\n",
       "      <td>243.0</td>\n",
       "      <td>130.0</td>\n",
       "      <td>27.0</td>\n",
       "      <td>2.0</td>\n",
       "      <td>92347505:92347506:92349915:92349941:None:None</td>\n",
       "      <td>False</td>\n",
       "      <td>False</td>\n",
       "      <td>...</td>\n",
       "      <td>138</td>\n",
       "      <td>82</td>\n",
       "      <td>26</td>\n",
       "      <td>5</td>\n",
       "      <td>0.000000</td>\n",
       "      <td>0.000000</td>\n",
       "      <td>0.000000</td>\n",
       "      <td>4.102634</td>\n",
       "      <td>0.0</td>\n",
       "      <td>NaN</td>\n",
       "    </tr>\n",
       "    <tr>\n",
       "      <th>2</th>\n",
       "      <td>ISSQSRVEK</td>\n",
       "      <td>278.0</td>\n",
       "      <td>261.0</td>\n",
       "      <td>82.0</td>\n",
       "      <td>29.0</td>\n",
       "      <td>7.0</td>\n",
       "      <td>0.0</td>\n",
       "      <td>92379851:92379859:92493866:92493885:None:None</td>\n",
       "      <td>False</td>\n",
       "      <td>False</td>\n",
       "      <td>...</td>\n",
       "      <td>10</td>\n",
       "      <td>2</td>\n",
       "      <td>0</td>\n",
       "      <td>0</td>\n",
       "      <td>0.000000</td>\n",
       "      <td>0.000000</td>\n",
       "      <td>2.474321</td>\n",
       "      <td>0.000000</td>\n",
       "      <td>0.0</td>\n",
       "      <td>NaN</td>\n",
       "    </tr>\n",
       "    <tr>\n",
       "      <th>3</th>\n",
       "      <td>RSGDEEKYP</td>\n",
       "      <td>7350.0</td>\n",
       "      <td>4622.0</td>\n",
       "      <td>2653.0</td>\n",
       "      <td>1745.0</td>\n",
       "      <td>1126.0</td>\n",
       "      <td>734.0</td>\n",
       "      <td>92600493:92600508:92611313:92611325:None:None</td>\n",
       "      <td>True</td>\n",
       "      <td>True</td>\n",
       "      <td>...</td>\n",
       "      <td>641</td>\n",
       "      <td>520</td>\n",
       "      <td>348</td>\n",
       "      <td>170</td>\n",
       "      <td>2.922641</td>\n",
       "      <td>2.102386</td>\n",
       "      <td>1.237161</td>\n",
       "      <td>0.000000</td>\n",
       "      <td>0.0</td>\n",
       "      <td>1.0</td>\n",
       "    </tr>\n",
       "    <tr>\n",
       "      <th>4</th>\n",
       "      <td>HLKMKMFQI</td>\n",
       "      <td>146.0</td>\n",
       "      <td>136.0</td>\n",
       "      <td>42.0</td>\n",
       "      <td>20.0</td>\n",
       "      <td>3.0</td>\n",
       "      <td>1.0</td>\n",
       "      <td>92379850:92379859:92496416:92496434:None:None</td>\n",
       "      <td>False</td>\n",
       "      <td>False</td>\n",
       "      <td>...</td>\n",
       "      <td>16</td>\n",
       "      <td>2</td>\n",
       "      <td>0</td>\n",
       "      <td>0</td>\n",
       "      <td>2.922641</td>\n",
       "      <td>0.000000</td>\n",
       "      <td>0.000000</td>\n",
       "      <td>0.000000</td>\n",
       "      <td>0.0</td>\n",
       "      <td>NaN</td>\n",
       "    </tr>\n",
       "  </tbody>\n",
       "</table>\n",
       "<p>5 rows × 24 columns</p>\n",
       "</div>"
      ],
      "text/plain": [
       "        kmer  gtexCohortfilter >0.0  gtexCohortfilter >=1.0  \\\n",
       "0  WYITRSGIA                 3290.0                  1969.0   \n",
       "1  WYITRSGIA                  572.0                   545.0   \n",
       "2  ISSQSRVEK                  278.0                   261.0   \n",
       "3  RSGDEEKYP                 7350.0                  4622.0   \n",
       "4  HLKMKMFQI                  146.0                   136.0   \n",
       "\n",
       "   gtexCohortfilter >=2.0  gtexCohortfilter >=3.0  gtexCohortfilter >=5.0  \\\n",
       "0                   861.0                   394.0                    89.0   \n",
       "1                   243.0                   130.0                    27.0   \n",
       "2                    82.0                    29.0                     7.0   \n",
       "3                  2653.0                  1745.0                  1126.0   \n",
       "4                    42.0                    20.0                     3.0   \n",
       "\n",
       "   gtexCohortfilter >=10.0                                          coord  \\\n",
       "0                      4.0  92347505:92347506:92349915:92349941:None:None   \n",
       "1                      2.0  92347505:92347506:92349915:92349941:None:None   \n",
       "2                      0.0  92379851:92379859:92493866:92493885:None:None   \n",
       "3                    734.0  92600493:92600508:92611313:92611325:None:None   \n",
       "4                      1.0  92379850:92379859:92496416:92496434:None:None   \n",
       "\n",
       "   junctionAnnotated  readFrameAnnotated  ...  cancerCohortfilter >=2.0  \\\n",
       "0              False               False  ...                       138   \n",
       "1              False               False  ...                       138   \n",
       "2              False               False  ...                        10   \n",
       "3               True                True  ...                       641   \n",
       "4              False               False  ...                        16   \n",
       "\n",
       "   cancerCohortfilter >=3.0  cancerCohortfilter >=5.0  \\\n",
       "0                        82                        26   \n",
       "1                        82                        26   \n",
       "2                         2                         0   \n",
       "3                       520                       348   \n",
       "4                         2                         0   \n",
       "\n",
       "   cancerCohortfilter >=10.0  TCGAC8A12P01A11RA11507all  \\\n",
       "0                          5                   0.000000   \n",
       "1                          5                   0.000000   \n",
       "2                          0                   0.000000   \n",
       "3                        170                   2.922641   \n",
       "4                          0                   2.922641   \n",
       "\n",
       "   TCGAAOA0JM01A21RA05607all  TCGABHA18V01A11RA12D07all  \\\n",
       "0                   0.000000                   0.000000   \n",
       "1                   0.000000                   0.000000   \n",
       "2                   0.000000                   2.474321   \n",
       "3                   2.102386                   1.237161   \n",
       "4                   0.000000                   0.000000   \n",
       "\n",
       "   TCGAA2A0D201A21RA03407all  TCGAA2A0SX01A12RA08407all  isAnnotated  \n",
       "0                   4.102634                        0.0          NaN  \n",
       "1                   4.102634                        0.0          NaN  \n",
       "2                   0.000000                        0.0          NaN  \n",
       "3                   0.000000                        0.0          1.0  \n",
       "4                   0.000000                        0.0          NaN  \n",
       "\n",
       "[5 rows x 24 columns]"
      ]
     },
     "execution_count": 16,
     "metadata": {},
     "output_type": "execute_result"
    }
   ],
   "source": [
    "df_load.head()"
   ]
  },
  {
   "cell_type": "code",
   "execution_count": 17,
   "id": "a5cb79b4",
   "metadata": {},
   "outputs": [
    {
     "data": {
      "text/plain": [
       "(22178175, 24)"
      ]
     },
     "execution_count": 17,
     "metadata": {},
     "output_type": "execute_result"
    }
   ],
   "source": [
    "df_load.shape"
   ]
  },
  {
   "cell_type": "code",
   "execution_count": null,
   "id": "76817af3",
   "metadata": {},
   "outputs": [
    {
     "name": "stdout",
     "output_type": "stream",
     "text": [
      "-------- processing TCGAC8A12P01A11RA11507all -------- \n",
      "\n",
      "Saving to summary file /cluster/work/grlab/projects/projects2020_OHSU/peptides_generation/CANCER_eth/commit_c4dd02c_conf2_Frame_cap0_runs/TCGA_Breast_1102/filtering_samples/chosen_filters_06March/G_filtered_df_TCGA-C8-A12P-01A-11R-A115-07_samp_chrt_norm_mot.tsv\n",
      "# Init_Sample n = 594980 kmers\n",
      "# Filter_Sample n = 594980 kmers\n",
      "# Filter_Sample_Cohort n = 594740 kmers\n",
      "# Filter_Sample_Cohort_CohortNormal n = 14522 kmers\n",
      "# Filter_Sample_Cohort_CohortNormal_pepAnnot n = 11352 kmers\n",
      "Saving outputs to: /cluster/work/grlab/projects/projects2020_OHSU/peptides_generation/CANCER_eth/commit_c4dd02c_conf2_Frame_cap0_runs/TCGA_Breast_1102/filtering_samples/chosen_filters_06March/G_TCGA-C8-A12P-01A-11R-A115-07_SampleLim0.0CohortLim0.0Across1_FiltNormalsGtexCohortCohortlim0.0Across1.tsv.gz \n",
      "\n",
      "# Init_Sample n = 594980 kmers\n",
      "# Filter_Sample n = 594980 kmers\n",
      "# Filter_Sample_Cohort n = 594740 kmers\n",
      "# Filter_Sample_Cohort_CohortNormal n = 14530 kmers\n",
      "# Filter_Sample_Cohort_CohortNormal_pepAnnot n = 11359 kmers\n",
      "Saving outputs to: /cluster/work/grlab/projects/projects2020_OHSU/peptides_generation/CANCER_eth/commit_c4dd02c_conf2_Frame_cap0_runs/TCGA_Breast_1102/filtering_samples/chosen_filters_06March/G_TCGA-C8-A12P-01A-11R-A115-07_SampleLim0.0CohortLim0.0Across1_FiltNormalsGtexCohortCohortlim0.0Across2.tsv.gz \n",
      "\n",
      "# Init_Sample n = 594980 kmers\n",
      "# Filter_Sample n = 594980 kmers\n",
      "# Filter_Sample_Cohort n = 594740 kmers\n",
      "# Filter_Sample_Cohort_CohortNormal n = 14768 kmers\n",
      "# Filter_Sample_Cohort_CohortNormal_pepAnnot n = 11594 kmers\n",
      "Saving outputs to: /cluster/work/grlab/projects/projects2020_OHSU/peptides_generation/CANCER_eth/commit_c4dd02c_conf2_Frame_cap0_runs/TCGA_Breast_1102/filtering_samples/chosen_filters_06March/G_TCGA-C8-A12P-01A-11R-A115-07_SampleLim0.0CohortLim0.0Across1_FiltNormalsGtexCohortCohortlim0.0Across10.tsv.gz \n",
      "\n",
      "# Init_Sample n = 594980 kmers\n",
      "# Filter_Sample n = 594980 kmers\n",
      "# Filter_Sample_Cohort n = 594740 kmers\n",
      "# Filter_Sample_Cohort_CohortNormal n = 14524 kmers\n",
      "# Filter_Sample_Cohort_CohortNormal_pepAnnot n = 11352 kmers\n",
      "Saving outputs to: /cluster/work/grlab/projects/projects2020_OHSU/peptides_generation/CANCER_eth/commit_c4dd02c_conf2_Frame_cap0_runs/TCGA_Breast_1102/filtering_samples/chosen_filters_06March/G_TCGA-C8-A12P-01A-11R-A115-07_SampleLim0.0CohortLim0.0Across1_FiltNormalsGtexCohortCohortlim1.0Across1.tsv.gz \n",
      "\n",
      "# Init_Sample n = 594980 kmers\n",
      "# Filter_Sample n = 594980 kmers\n",
      "# Filter_Sample_Cohort n = 594740 kmers\n"
     ]
    }
   ],
   "source": [
    "for cancer_sample_ori in target_samples: # TODO update\n",
    "    # Sample naming\n",
    "    target_sample = cancer_sample_ori.replace('-', '').replace('.', '')\n",
    "    cancer_sample_ori = cancer_sample_ori.replace('.all', '')\n",
    "    print(f'-------- processing {target_sample} -------- \\n')\n",
    "    \n",
    "    # Summary file for sample\n",
    "    summary_file = f'{tag_prefix}filtered_df_{cancer_sample_ori}_samp_chrt_norm_mot.tsv'\n",
    "    summary_path = os.path.join(output_dir, summary_file)\n",
    "    print(f'Saving to summary file {summary_path}')\n",
    "    \n",
    "\n",
    "    df_expr = []\n",
    "    report_count = [] \n",
    "    report_steps = []\n",
    "    for threshold_target in Threshold_target:\n",
    "        for threshold_cancer_cohort in Threshold_cancer_cohort:\n",
    "            for n_samples_cancer in N_samples_cancer:\n",
    "                for threshold_normal_cohort in Threshold_normal_cohort:\n",
    "                    for n_samples_normal in N_samples_normal:\n",
    "                        if (n_samples_cancer is None) ^ (threshold_cancer_cohort is None):\n",
    "                            continue\n",
    "\n",
    "                        adjusted_threshold_col = 'tmp_cancer_cohort'\n",
    "                        max_threshold_col = 'tmp_normal_Nmax_sup{}'.format(threshold_normal_cohort)\n",
    "                        max_threshold_col_base = 'tmp_normal_Nmax_sup{}'.format(0)\n",
    "\n",
    "\n",
    "                        df = df_load.copy()\n",
    "                        # Make correction for number samples passing theshold in cohort. We want to exclude the target sample in counting\n",
    "                        df[adjusted_threshold_col] = df[get_threshold_colname(threshold_cancer_cohort, tag_cancer)]\n",
    "                        df.loc[df[target_sample] >= threshold_cancer_cohort, adjusted_threshold_col] -=1 \n",
    "\n",
    "                        # Number of kmers expressed in sample \n",
    "                        df = filter_single_col(df, 0, target_sample)\n",
    "                        output_count(df, report_count, report_steps, 'Init_Sample')\n",
    "\n",
    "                        # Number of kmers >= threshold in sample \n",
    "                        df = filter_single_col(df, threshold_target, target_sample)\n",
    "                        output_count(df, report_count, report_steps, 'Filter_Sample')\n",
    "\n",
    "                        \n",
    "                        # Filter for cancer cancer cohort \n",
    "                        if (n_samples_cancer is not None) and (threshold_cancer_cohort is not None):\n",
    "                            df = filter_cancer_cohort(df, n_samples_cancer, adjusted_threshold_col)\n",
    "                        output_count(df, report_count, report_steps, 'Filter_Sample_Cohort')\n",
    "                            \n",
    "\n",
    "\n",
    "                        # Expression in gtex cohort >= threshold \n",
    "                        recurrence_custom =  max_recurrence_over_kmer(df, \n",
    "                                                                      get_threshold_colname(threshold_normal_cohort, tag_normal), \n",
    "                                                                      max_threshold_col)\n",
    "\n",
    "                        # Expression in gtex cohort > 0  \n",
    "                        recurrence_custom_base = max_recurrence_over_kmer(df, \n",
    "                                                                          get_threshold_colname(0.0, tag_normal),\n",
    "                                                                          max_threshold_col_base) \n",
    "\n",
    "\n",
    "\n",
    "\n",
    "                        # Perform Background filtering \n",
    "                        df = df.merge(recurrence_custom, on = 'kmer', how = 'left')\n",
    "                        df = df.merge(recurrence_custom_base, on = 'kmer', how = 'left')\n",
    "\n",
    "                        df = df.loc[ ~ ((df[max_threshold_col] >= 1) & (df[max_threshold_col_base] >= n_samples_normal)), :]\n",
    "                        output_count(df, report_count, report_steps, 'Filter_Sample_Cohort_CohortNormal')\n",
    "\n",
    "                        #Perform Annotated junctions filtering \n",
    "                        df = df[df['isAnnotated'].isna()]\n",
    "                        output_count(df, report_count, report_steps, 'Filter_Sample_Cohort_CohortNormal_pepAnnot')\n",
    "\n",
    "#                         # DEV: Exclude genes where GTEX is missing\n",
    "#                         df = df.loc[df['exclude'].isna()]\n",
    "#                         output_count(df, report_count, report_steps, 'Filter_Sample_Cohort_CohortNormal_pepAnnot_EXPGTEX')\n",
    "\n",
    "                        \n",
    "                        \n",
    "                        \n",
    "                        # Save outputs \n",
    "                        # outpaths\n",
    "                        base_path_final = os.path.join(output_dir,\n",
    "                                                       (f'{tag_prefix}{cancer_sample_ori}_'\n",
    "                                                        f'SampleLim{threshold_target}'\n",
    "                                                        f'CohortLim{threshold_cancer_cohort}'\n",
    "                                                        f'Across{n_samples_cancer}_'\n",
    "                                                        f'FiltNormals{save_tag}'\n",
    "                                                        f'Cohortlim{threshold_normal_cohort}'\n",
    "                                                        f'Across{n_samples_normal}.tsv.gz'))\n",
    "                        print(f'Saving outputs to: {base_path_final} \\n')\n",
    "                        df.loc[:, metadata_save].to_csv(base_path_final, compression = 'gzip', index = None, sep = '\\t')\n",
    "\n",
    "\n",
    "    save_output_count(output_count, report_count, report_steps, '', cancer_sample_ori, mutation_mode,\n",
    "                      threshold_target, threshold_cancer_cohort, n_samples_cancer,\n",
    "                          threshold_normal_cohort, n_samples_normal, save_tag)"
   ]
  },
  {
   "cell_type": "code",
   "execution_count": null,
   "id": "6f1dcdc1",
   "metadata": {},
   "outputs": [],
   "source": []
  },
  {
   "cell_type": "code",
   "execution_count": null,
   "id": "0d0d0c9b",
   "metadata": {},
   "outputs": [],
   "source": []
  },
  {
   "cell_type": "code",
   "execution_count": null,
   "id": "ccf4a3e7",
   "metadata": {},
   "outputs": [],
   "source": []
  },
  {
   "cell_type": "code",
   "execution_count": null,
   "id": "9914f19a",
   "metadata": {},
   "outputs": [],
   "source": []
  },
  {
   "cell_type": "code",
   "execution_count": null,
   "id": "570dc74b",
   "metadata": {},
   "outputs": [],
   "source": []
  },
  {
   "cell_type": "code",
   "execution_count": null,
   "id": "e3971c89",
   "metadata": {},
   "outputs": [],
   "source": []
  },
  {
   "cell_type": "code",
   "execution_count": null,
   "id": "05475d17",
   "metadata": {},
   "outputs": [],
   "source": []
  },
  {
   "cell_type": "code",
   "execution_count": null,
   "id": "98ef99e2",
   "metadata": {
    "scrolled": true
   },
   "outputs": [],
   "source": [
    "df_load.shape"
   ]
  },
  {
   "cell_type": "code",
   "execution_count": null,
   "id": "74b560d7",
   "metadata": {},
   "outputs": [],
   "source": [
    "kmer = 'KVDTLGKST'"
   ]
  },
  {
   "cell_type": "code",
   "execution_count": null,
   "id": "4d85cd18",
   "metadata": {},
   "outputs": [],
   "source": [
    "df.loc[df['kmer'] == kmer]"
   ]
  },
  {
   "cell_type": "code",
   "execution_count": null,
   "id": "85f979d9",
   "metadata": {
    "scrolled": true
   },
   "outputs": [],
   "source": [
    "df_load.loc[df_load['kmer'] == kmer,\\\n",
    "            ['kmer', 'coord', 'exclude', 'batch_brca', 'junctionAnnotated', 'readFrameAnnotated', target_sample,  get_threshold_colname(threshold_cancer_cohort, tag_cancer), \\\n",
    "            get_threshold_colname(threshold_normal_cohort, tag_normal), get_threshold_colname(0.0, tag_normal)]]"
   ]
  },
  {
   "cell_type": "code",
   "execution_count": null,
   "id": "01993640",
   "metadata": {},
   "outputs": [],
   "source": [
    "df_load.loc[df_load['kmer'] == kmer, 'batch_brca']"
   ]
  },
  {
   "cell_type": "code",
   "execution_count": null,
   "id": "63aba557",
   "metadata": {},
   "outputs": [],
   "source": [
    "gene_to_batch.loc[(gene_to_batch['batch_brca'] == 54877)]"
   ]
  },
  {
   "cell_type": "code",
   "execution_count": null,
   "id": "c54267e3",
   "metadata": {},
   "outputs": [],
   "source": [
    "foo = df_load.merge(gene_to_batch[['exclude', f'batch_{run_type}']], on = f'batch_{run_type}', how = 'left')"
   ]
  },
  {
   "cell_type": "code",
   "execution_count": null,
   "id": "ada9f080",
   "metadata": {},
   "outputs": [],
   "source": [
    "foo.loc[(foo['kmer'] == kmer)]"
   ]
  },
  {
   "cell_type": "code",
   "execution_count": null,
   "id": "b35b9cae",
   "metadata": {},
   "outputs": [],
   "source": [
    "final  =df.loc[ ~ ((df[max_threshold_col] >= 1) & (df[max_threshold_col_base] >= n_samples_normal)), \n",
    "       ['kmer', get_threshold_colname(threshold_cancer_cohort, tag_cancer)]]"
   ]
  },
  {
   "cell_type": "code",
   "execution_count": null,
   "id": "97464fa0",
   "metadata": {},
   "outputs": [],
   "source": [
    "final = df"
   ]
  },
  {
   "cell_type": "code",
   "execution_count": null,
   "id": "c3d05819",
   "metadata": {},
   "outputs": [],
   "source": [
    "final.loc[final['cancerCohortfilter >0.0']> 403 , ['kmer', 'tmp_cancer_cohort',f'batch_{run_type}'] ] "
   ]
  },
  {
   "cell_type": "code",
   "execution_count": null,
   "id": "455fb619",
   "metadata": {},
   "outputs": [],
   "source": [
    "final['cancerCohortfilter >0.0'].describe()"
   ]
  },
  {
   "cell_type": "code",
   "execution_count": null,
   "id": "f3a9ec1c",
   "metadata": {},
   "outputs": [],
   "source": [
    "final"
   ]
  },
  {
   "cell_type": "code",
   "execution_count": null,
   "id": "ea032687",
   "metadata": {},
   "outputs": [],
   "source": [
    "df_load.loc[df_load['kmer'] == kmer,\\\n",
    "            [target_sample,  get_threshold_colname(threshold_cancer_cohort, tag_cancer), \\\n",
    "            get_threshold_colname(threshold_normal_cohort, tag_normal), get_threshold_colname(0.0, tag_normal)]]"
   ]
  }
 ],
 "metadata": {
  "kernelspec": {
   "display_name": "Python 3 (ipykernel)",
   "language": "python",
   "name": "python3"
  },
  "language_info": {
   "codemirror_mode": {
    "name": "ipython",
    "version": 3
   },
   "file_extension": ".py",
   "mimetype": "text/x-python",
   "name": "python",
   "nbconvert_exporter": "python",
   "pygments_lexer": "ipython3",
   "version": "3.9.13"
  }
 },
 "nbformat": 4,
 "nbformat_minor": 5
}
