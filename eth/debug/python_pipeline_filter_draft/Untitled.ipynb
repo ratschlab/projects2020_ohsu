{
 "cells": [
  {
   "cell_type": "code",
   "execution_count": 1,
   "id": "1b241c4f",
   "metadata": {},
   "outputs": [],
   "source": [
    "import pandas as pd"
   ]
  },
  {
   "cell_type": "code",
   "execution_count": 2,
   "id": "ded8c0bb",
   "metadata": {},
   "outputs": [],
   "source": [
    "foo = pd.read_csv('/cluster/work/grlab/projects/projects2020_OHSU/share_OHUS_PNLL/Apr23_uniprot-filter-update_annotated_all_sample_shortlist.tsv.gz', sep = '\\t')"
   ]
  },
  {
   "cell_type": "code",
   "execution_count": 3,
   "id": "b16511d6",
   "metadata": {},
   "outputs": [
    {
     "data": {
      "text/plain": [
       "Index(['jx', 'TCGA-24-1431-01A-01R-1566-13', 'TCGA-24-2298-01A-01R-1569-13',\n",
       "       'TCGA-25-1313-01A-01R-1565-13', 'TCGA-25-1319-01A-01R-1565-13',\n",
       "       'TCGA-61-2008-01A-02R-1568-13', 'TCGA-A2-A0D2-01A-21R-A034-07',\n",
       "       'TCGA-A2-A0SX-01A-12R-A084-07', 'TCGA-AO-A0JM-01A-21R-A056-07',\n",
       "       'TCGA-BH-A18V-01A-11R-A12D-07', 'TCGA-C8-A12P-01A-11R-A115-07',\n",
       "       'GTEx_brain_testis_over0', 'GTEx_brain_testis_over1',\n",
       "       'GTEx_brain_testis_over3', 'GTEx_breast_over0', 'GTEx_breast_over1',\n",
       "       'GTEx_breast_over3', 'GTEx_core_over0', 'GTEx_core_over1',\n",
       "       'GTEx_core_over3', 'GTEx_ovary_over0', 'GTEx_ovary_over1',\n",
       "       'GTEx_ovary_over3', 'all_TCGA_over0', 'all_TCGA_over1',\n",
       "       'all_TCGA_over3', 'BRCA_over_0', 'OV_over_0', 'BRCA_over_2',\n",
       "       'OV_over_2', 'motif', 'annotation', '5';3'_coding_regions', 'has_cds',\n",
       "       'gene', 'gene_id', 'upstream_exon', 'upstream_txs', 'downstream_exon',\n",
       "       'downstream_txs', 'modified_upstream_txs',\n",
       "       'in-frame_all-transcript_biexons', 'in-frame_nonhanging-tx_biexons',\n",
       "       'in-frame_peptide_sequence', 'hanging_txs_included_inframe_pepseqs',\n",
       "       'prefiltered_in-frame_epitopes', 'prefiltered_inframe_epitope_count',\n",
       "       'in-frame_neoepitopes', 'in-frame_neoepitope_count',\n",
       "       'frame-agnostic_all-transcript_biexons'],\n",
       "      dtype='object')"
      ]
     },
     "execution_count": 3,
     "metadata": {},
     "output_type": "execute_result"
    }
   ],
   "source": [
    "foo.columns"
   ]
  },
  {
   "cell_type": "code",
   "execution_count": 4,
   "id": "89f3a5ad",
   "metadata": {},
   "outputs": [
    {
     "data": {
      "text/plain": [
       "15750.0"
      ]
     },
     "execution_count": 4,
     "metadata": {},
     "output_type": "execute_result"
    }
   ],
   "source": [
    "foo['GTEx_core_over0'].max()"
   ]
  },
  {
   "cell_type": "code",
   "execution_count": 5,
   "id": "0e1dc9f3",
   "metadata": {},
   "outputs": [
    {
     "data": {
      "text/plain": [
       "3202.0"
      ]
     },
     "execution_count": 5,
     "metadata": {},
     "output_type": "execute_result"
    }
   ],
   "source": [
    "foo['GTEx_brain_testis_over0'].max()"
   ]
  },
  {
   "cell_type": "code",
   "execution_count": null,
   "id": "6e8a8a60",
   "metadata": {},
   "outputs": [],
   "source": []
  }
 ],
 "metadata": {
  "kernelspec": {
   "display_name": "Python 3 (ipykernel)",
   "language": "python",
   "name": "python3"
  },
  "language_info": {
   "codemirror_mode": {
    "name": "ipython",
    "version": 3
   },
   "file_extension": ".py",
   "mimetype": "text/x-python",
   "name": "python",
   "nbconvert_exporter": "python",
   "pygments_lexer": "ipython3",
   "version": "3.10.2"
  }
 },
 "nbformat": 4,
 "nbformat_minor": 5
}
