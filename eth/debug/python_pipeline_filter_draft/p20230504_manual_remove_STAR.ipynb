{
 "cells": [
  {
   "cell_type": "code",
   "execution_count": 1,
   "id": "4d22d9c7",
   "metadata": {},
   "outputs": [],
   "source": [
    "import pandas as pd\n",
    "import os\n",
    "import glob\n",
    "import timeit\n",
    "import numpy as np\n",
    "import h5py\n",
    "from collections import defaultdict\n",
    "from helpers_STAR import * "
   ]
  },
  {
   "cell_type": "code",
   "execution_count": null,
   "id": "ba766e0a",
   "metadata": {},
   "outputs": [],
   "source": [
    "# -------- Path STAR\n",
    "path_star = '/cluster/work/grlab/projects/GTEx/rna_gencode32_realign/results'\n",
    "# Star junctions - unique coordinates\n",
    "star_jx = os.path.join(path_star, 'junctions_spladder.all_coords.sorted.uniq.tsv.gz')\n",
    "# Star junctions - projected coordinates and expression\n",
    "#projected_chr_file = os.path.join(path_star, f'junctions_spladder_projected/junctions_spladder.projected.{chrm}.hdf5')\n",
    "\n",
    "\n",
    "# -------- Intermediate filtering results (threshold and merged)\n",
    "#TODO DO the generation matrix???\n",
    "# Foreground matrix\n",
    "big_matrix = '/cluster/work/grlab/projects/projects2020_OHSU/peptides_generation/CANCER_eth/commit_c4dd02c_conf2_Frame_cap0_runs/TCGA_Ovarian_374/filtering_intermediate/complete_cancer_candidates_order_r_complete.tsv.gz'\n",
    "\n",
    "\n",
    "\n",
    "# -------- GTEX filtering \n",
    "whitelist = '/cluster/work/grlab/projects/projects2020_OHSU/sample_lists/GTEX/GTEx_sample_IDs_10-2021_lib_graph_juliannelist'\n",
    "libsize = '/cluster/work/grlab/projects/TCGA/PanCanAtlas/immunopepper_paper/peptides_ccell_rerun_gtex_151220/ARCHIV_keep_runs/GTEX2019_commit_v3_TEST_merged3_372a147_medium_run_pya.0.17.1_conf2_annot_ref_chrall_cap/expression_counts.libsize.tsv'\n",
    "\n",
    "\n",
    "normalizer = 400000\n",
    "filter_thresholds = [0.0, 1.0, 2.0, 3.0, 5.0, 10.0]\n",
    "jx_target_list = '/cluster/work/grlab/projects/projects2020_OHSU/peptides_generation/CANCER_eth/commit_c4dd02c_conf2_Frame_cap0_runs/TCGA_Ovarian_374/filtering_samples/filters_22March_order_wany_wAnnot/tmp_all_experiments_jx.txt'"
   ]
  },
  {
   "cell_type": "markdown",
   "id": "d1c3c201",
   "metadata": {},
   "source": [
    "# Load"
   ]
  },
  {
   "cell_type": "code",
   "execution_count": null,
   "id": "af9d6620",
   "metadata": {},
   "outputs": [],
   "source": [
    "# Load cancer generation matrix\n",
    "mx = pd.read_csv(big_matrix, sep = '\\t')\n",
    "display(mx.head())\n",
    "# Add split junction information to generation table\n",
    "coord_mx = explode_immunopepper_coord(mx)\n",
    "display(coord_mx.head())\n",
    "mx = pd.concat([mx, coord_mx[['strand', 'junction_coordinate1', 'junction_coordinate2']]], axis = 1)\n",
    "print(mx.shape)\n",
    "\n",
    "if jx_target_list:\n",
    "    target_jx = pd.read_csv(jx_target_list, header = None) \n",
    "    target_jx.columns = ['coord']\n",
    "    mx = mx.merge(target_jx, on = 'coord', how = 'inner')\n",
    "print(mx.shape)   "
   ]
  },
  {
   "cell_type": "code",
   "execution_count": null,
   "id": "5446320a",
   "metadata": {},
   "outputs": [],
   "source": [
    "print(mx.shape)\n",
    "print()"
   ]
  },
  {
   "cell_type": "code",
   "execution_count": null,
   "id": "75dfdf40",
   "metadata": {},
   "outputs": [],
   "source": [
    "# LOAD STAR junctions\n",
    "star_jx = pd.read_csv(star_jx, sep = '\\t')\n",
    "star_jx.head()\n",
    "# Add STAR junction column 10 min\n",
    "star_jx['junction_coordinate'] = star_jx['junction_start'].astype(str) + ':' + star_jx['junction_end'].astype(str)\n"
   ]
  },
  {
   "cell_type": "markdown",
   "id": "dc5a3849",
   "metadata": {},
   "source": [
    "# Check junction presence in STAR \n",
    "- 2-exons, 1st junction is present \n",
    "- 3 exons, needs first and second junction present "
   ]
  },
  {
   "cell_type": "code",
   "execution_count": null,
   "id": "562e6b96",
   "metadata": {},
   "outputs": [],
   "source": [
    "# Foreground Kmers from 1 junction\n",
    "one_jx = mx[(mx['junction_coordinate1'] != 'None') & (mx['junction_coordinate2'] == 'None')]\n",
    "print(one_jx.shape)"
   ]
  },
  {
   "cell_type": "code",
   "execution_count": null,
   "id": "942231d1",
   "metadata": {},
   "outputs": [],
   "source": [
    "# Foreground Kmers from 2 junctions\n",
    "two_jx = mx[(mx['junction_coordinate1'] != 'None') & (mx['junction_coordinate2'] != 'None')]\n",
    "print(two_jx.shape)"
   ]
  },
  {
   "cell_type": "code",
   "execution_count": null,
   "id": "15863551",
   "metadata": {},
   "outputs": [],
   "source": [
    "# Foreground 1 junction - NOT IN STAR \n",
    "isstar_one = set(one_jx['junction_coordinate1']).intersection(set(star_jx['junction_coordinate'])) # junction coordinates\n",
    "print(len(isstar_one))\n",
    "is_star_one_jx = set(one_jx.set_index('junction_coordinate1').loc[isstar_one, 'coord']) # corresonding kmer coordinates\n",
    "print(len(is_star_one_jx))"
   ]
  },
  {
   "cell_type": "code",
   "execution_count": null,
   "id": "095f8c21",
   "metadata": {},
   "outputs": [],
   "source": [
    "# Foreground 2 junctions - NOT IN STAR \n",
    "is_star_two1 = set(two_jx['junction_coordinate1']).intersection(set(star_jx['junction_coordinate'])) # Junction coordinates\n",
    "is_star_two2 = set(two_jx['junction_coordinate2']).intersection(set(star_jx['junction_coordinate'])) # Junction coordinates\n",
    "print(len(is_star_two1))\n",
    "print(len(is_star_two2))\n",
    "\n",
    "is_star_two_jx = set(two_jx.set_index('junction_coordinate1').loc[is_star_two1, 'coord']).intersection(\\\n",
    "set(two_jx.set_index('junction_coordinate2').loc[is_star_two2, 'coord'])) # Corresponding kmer coord\n",
    "print(len(is_star_two_jx))"
   ]
  },
  {
   "cell_type": "code",
   "execution_count": null,
   "id": "8770b37e",
   "metadata": {},
   "outputs": [],
   "source": [
    "print(len(is_star_one_jx))\n",
    "print(len(is_star_two_jx))"
   ]
  },
  {
   "cell_type": "code",
   "execution_count": null,
   "id": "327c77a9",
   "metadata": {},
   "outputs": [],
   "source": [
    "# Foreground Table - Create FLAG GTEX junctions\n",
    "start_time = timeit.default_timer()\n",
    "mx['STAR_GTEx_jx'] = False\n",
    "mx = mx.set_index('coord')\n",
    "mx.loc[list(is_star_one_jx.union(is_star_two_jx)), 'STAR_GTEx_jx'] = True\n",
    "mx = mx.reset_index()\n",
    "print(timeit.default_timer() - start_time)    "
   ]
  },
  {
   "cell_type": "markdown",
   "id": "f1d2fc09",
   "metadata": {},
   "source": [
    "# Retrieve expression "
   ]
  },
  {
   "cell_type": "markdown",
   "id": "7851d93f",
   "metadata": {},
   "source": [
    "### Extract metadata"
   ]
  },
  {
   "cell_type": "code",
   "execution_count": 3,
   "id": "37de382f",
   "metadata": {},
   "outputs": [
    {
     "ename": "NameError",
     "evalue": "name 'mx' is not defined",
     "output_type": "error",
     "traceback": [
      "\u001b[0;31m---------------------------------------------------------------------------\u001b[0m",
      "\u001b[0;31mNameError\u001b[0m                                 Traceback (most recent call last)",
      "Cell \u001b[0;32mIn [3], line 2\u001b[0m\n\u001b[1;32m      1\u001b[0m \u001b[38;5;66;03m# Select junctions to query in STAR file \u001b[39;00m\n\u001b[0;32m----> 2\u001b[0m query \u001b[38;5;241m=\u001b[39m \u001b[43mmx\u001b[49m\u001b[38;5;241m.\u001b[39mloc[mx[\u001b[38;5;124m'\u001b[39m\u001b[38;5;124mSTAR_GTEx_jx\u001b[39m\u001b[38;5;124m'\u001b[39m] \u001b[38;5;241m==\u001b[39m \u001b[38;5;28;01mTrue\u001b[39;00m, [\u001b[38;5;124m'\u001b[39m\u001b[38;5;124mstrand\u001b[39m\u001b[38;5;124m'\u001b[39m, \u001b[38;5;124m'\u001b[39m\u001b[38;5;124mjunction_coordinate1\u001b[39m\u001b[38;5;124m'\u001b[39m,\n\u001b[1;32m      3\u001b[0m                                             \u001b[38;5;124m'\u001b[39m\u001b[38;5;124mjunction_coordinate2\u001b[39m\u001b[38;5;124m'\u001b[39m, \u001b[38;5;124m'\u001b[39m\u001b[38;5;124mSTAR_GTEx_jx\u001b[39m\u001b[38;5;124m'\u001b[39m]]\u001b[38;5;241m.\u001b[39mdrop_duplicates()\\\n\u001b[1;32m      4\u001b[0m                                                                                     \u001b[38;5;241m.\u001b[39mreset_index()\\\n\u001b[1;32m      5\u001b[0m                                                                                     \u001b[38;5;241m.\u001b[39mdrop(\u001b[38;5;124m'\u001b[39m\u001b[38;5;124mindex\u001b[39m\u001b[38;5;124m'\u001b[39m, axis \u001b[38;5;241m=\u001b[39m \u001b[38;5;241m1\u001b[39m)\n\u001b[1;32m      7\u001b[0m \u001b[38;5;28;01massert\u001b[39;00m(query\u001b[38;5;241m.\u001b[39mloc[:, [\u001b[38;5;124m'\u001b[39m\u001b[38;5;124mjunction_coordinate1\u001b[39m\u001b[38;5;124m'\u001b[39m, \u001b[38;5;124m'\u001b[39m\u001b[38;5;124mstrand\u001b[39m\u001b[38;5;124m'\u001b[39m]]\u001b[38;5;241m.\u001b[39mdrop_duplicates()\u001b[38;5;241m.\u001b[39mshape[\u001b[38;5;241m0\u001b[39m] \u001b[38;5;241m==\u001b[39m \\\n\u001b[1;32m      8\u001b[0m        query\u001b[38;5;241m.\u001b[39mloc[:, [\u001b[38;5;124m'\u001b[39m\u001b[38;5;124mjunction_coordinate1\u001b[39m\u001b[38;5;124m'\u001b[39m]]\u001b[38;5;241m.\u001b[39mdrop_duplicates()\u001b[38;5;241m.\u001b[39mshape[\u001b[38;5;241m0\u001b[39m])\n",
      "\u001b[0;31mNameError\u001b[0m: name 'mx' is not defined"
     ]
    }
   ],
   "source": [
    "# Select junctions to query in STAR file \n",
    "query = mx.loc[mx['STAR_GTEx_jx'] == True, ['strand', 'junction_coordinate1',\n",
    "                                            'junction_coordinate2', 'STAR_GTEx_jx']].drop_duplicates()\\\n",
    "                                                                                    .reset_index()\\\n",
    "                                                                                    .drop('index', axis = 1)\n",
    "\n",
    "assert(query.loc[:, ['junction_coordinate1', 'strand']].drop_duplicates().shape[0] == \\\n",
    "       query.loc[:, ['junction_coordinate1']].drop_duplicates().shape[0])"
   ]
  },
  {
   "cell_type": "code",
   "execution_count": null,
   "id": "ff4d910e",
   "metadata": {},
   "outputs": [],
   "source": [
    "# Query-Junction to strand \n",
    "jx_strand = {}\n",
    "for i in np.arange(query.shape[0]):\n",
    "    jx_strand[query.loc[i, 'junction_coordinate1']] = query.loc[i, 'strand']\n",
    "\n",
    "for i in np.arange(query.shape[0]):\n",
    "    jx_strand[query.loc[i, 'junction_coordinate2']] = query.loc[i, 'strand']\n",
    "\n",
    "jx_strand.pop('None')"
   ]
  },
  {
   "cell_type": "code",
   "execution_count": 15,
   "id": "b5b64f47",
   "metadata": {},
   "outputs": [
    {
     "name": "stdout",
     "output_type": "stream",
     "text": [
      "0.016046482021920383\n"
     ]
    }
   ],
   "source": [
    "# Chromosome to query-junction\n",
    "star_jx = star_jx.set_index('junction_coordinate') #Faster\n",
    "\n",
    "intermediate = star_jx.loc[jx_strand.keys(), :]\n",
    "\n",
    "start_time = timeit.default_timer()\n",
    "chr_jx = defaultdict(set)\n",
    "for jx, chrm in zip(intermediate.index, intermediate['chr']):\n",
    "    chr_jx[chrm].add(jx)\n",
    "print(timeit.default_timer() - start_time)\n",
    "    "
   ]
  },
  {
   "cell_type": "markdown",
   "id": "dd209d62",
   "metadata": {},
   "source": [
    "### Collect Expression "
   ]
  },
  {
   "cell_type": "code",
   "execution_count": null,
   "id": "86d6aaf7",
   "metadata": {
    "scrolled": true
   },
   "outputs": [
    {
     "name": "stdout",
     "output_type": "stream",
     "text": [
      "chr1\n"
     ]
    }
   ],
   "source": [
    "### Thresholding experiments \n",
    "# Remark 1 junction can have multiple chrm --> Which \n",
    "# Remark 1 junction on 1 chrm can have multiple strands --> Take from Immunopepper\n",
    "\n",
    "res = collect_expression_thresholds(libsize, whitelist, normalizer, filter_thresholds, \n",
    "                                    path_star, chr_jx, jx_strand )"
   ]
  },
  {
   "cell_type": "code",
   "execution_count": null,
   "id": "44d2efde",
   "metadata": {},
   "outputs": [],
   "source": [
    "# OPTIONAL \n",
    "tot = 0 \n",
    "for chrm, jxS in chr_jx.items():\n",
    "    print(f'chrm {chrm } number junctions {len(jxS)}')\n",
    "    tot+= len(jxS)\n",
    "print(f'Total number junctions {tot}')"
   ]
  },
  {
   "cell_type": "code",
   "execution_count": null,
   "id": "335a2dd1",
   "metadata": {},
   "outputs": [],
   "source": []
  },
  {
   "cell_type": "code",
   "execution_count": null,
   "id": "e49947ee",
   "metadata": {},
   "outputs": [],
   "source": [
    "gtex_cols = ['gtexCohortfilter >0.0', 'gtexCohortfilter >=1.0',\n",
    "       'gtexCohortfilter >=2.0', 'gtexCohortfilter >=3.0',\n",
    "       'gtexCohortfilter >=5.0', 'gtexCohortfilter >=10.0']"
   ]
  },
  {
   "cell_type": "code",
   "execution_count": null,
   "id": "8ee8c6be",
   "metadata": {},
   "outputs": [],
   "source": [
    "# Expression to DF\n",
    "df_res = pd.DataFrame(res, columns = ['junction_coordinate', 'strand_STAR', 'chr'] + gtex_cols)\n",
    "print(df_res.shape)\n",
    "display(df_res.head())"
   ]
  },
  {
   "cell_type": "markdown",
   "id": "cbfccabd",
   "metadata": {},
   "source": [
    "### Format results"
   ]
  },
  {
   "cell_type": "code",
   "execution_count": null,
   "id": "6bd672f7",
   "metadata": {},
   "outputs": [],
   "source": [
    "# One junction merge (straightforward merge on junction)\n",
    "print(one_jx.shape)\n",
    "# Remove the GTEX quantifications from immunopepper\n",
    "base_one_jx = one_jx.drop(gtex_cols, axis = 1).drop_duplicates() \n",
    "base_one_jx.head()\n",
    "print(base_one_jx.shape)\n",
    "# Add GTEX quantifications from STAR\n",
    "one_jx_quantified = base_one_jx.merge(df_res, left_on = 'junction_coordinate1', \n",
    "                                      right_on = 'junction_coordinate', how = 'left') \n",
    "print(one_jx_quantified.columns)\n",
    "display(one_jx_quantified.tail())"
   ]
  },
  {
   "cell_type": "code",
   "execution_count": null,
   "id": "8629c2d3",
   "metadata": {},
   "outputs": [],
   "source": [
    "# Two junctions merge (not straight forwrds, consider botrh junctions separately and take the max)\n",
    "print(two_jx.shape)\n",
    "# Remove the GTEX quantifications from immunopepper\n",
    "base_two_jx = two_jx.drop(gtex_cols, axis = 1).drop_duplicates() \n",
    "base_two_jx.head()\n",
    "print(base_two_jx.shape)\n",
    "# Add GTEX quantifications from STAR  # first junction\n",
    "two_jx_quantified_left = base_two_jx.merge(df_res, left_on = 'junction_coordinate1', \n",
    "                                      right_on = 'junction_coordinate', how = 'left')\n",
    "\n",
    "\n",
    "# Add GTEX quantifications from STAR  # second junction\n",
    "two_jx_quantified_right = base_two_jx.merge(df_res, left_on = 'junction_coordinate2', \n",
    "                                      right_on = 'junction_coordinate', how = 'left')\n",
    "\n",
    "col_merge = [col for col in two_jx_quantified_right if col not in gtex_cols]\n",
    "\n",
    "# Add GTEX quantifications from STAR  # both junctions\n",
    "two_jx_quantified = two_jx_quantified_left.merge(two_jx_quantified_right, on = col_merge, how = 'outer')\n",
    "\n",
    "# Add GTEX quantifications from STAR  # MAX (!!) over 2 junctions\n",
    "for col in gtex_cols:\n",
    "    two_jx_quantified[col] = two_jx_quantified[[col + '_x', col + '_y']].max(skipna = True, axis = 1)\n",
    "    two_jx_quantified = two_jx_quantified.drop([col + '_x', col + '_y'], axis = 1)\n",
    "    \n",
    "print(two_jx_quantified.columns)\n",
    "display(two_jx_quantified.tail())"
   ]
  },
  {
   "cell_type": "code",
   "execution_count": null,
   "id": "d99bab2e",
   "metadata": {},
   "outputs": [],
   "source": [
    "# All Junctions quantified on STAR for GTEX\n",
    "print(two_jx_quantified.shape)\n",
    "print(one_jx_quantified.shape)\n",
    "jx_quantified = pd.concat([one_jx_quantified, two_jx_quantified])\n",
    "print(jx_quantified.shape)"
   ]
  },
  {
   "cell_type": "code",
   "execution_count": null,
   "id": "9fcace54",
   "metadata": {},
   "outputs": [],
   "source": [
    "### Save \n",
    "save_path = big_matrix.replace('tsv.gz', 'STAR_GTEx.tsv.gz')\n",
    "print(save_path)\n",
    "jx_quantified.to_csv(save_path, compression = 'gzip', index = False, sep = '\\t')"
   ]
  },
  {
   "cell_type": "markdown",
   "id": "6bad6a49",
   "metadata": {},
   "source": [
    "# Quality check"
   ]
  },
  {
   "cell_type": "code",
   "execution_count": null,
   "id": "5adeadd8",
   "metadata": {},
   "outputs": [],
   "source": [
    "chrm_list = ['chr2', 'chr14']\n",
    "strand = '-'\n",
    "jx = '102015975:102016000'\n",
    "junction_start = int(jx.split(':')[0])\n",
    "junction_end = int(jx.split(':')[1])\n",
    "\n",
    "for chrm in chrm_list:\n",
    "    expression_h5, index_whitelist_samples, lib_75_per_sample = preprocess_STAR_projected(chrm, \n",
    "                                                                                      path_star, \n",
    "                                                                                      whitelist_normal, \n",
    "                                                                                      libsize_normal)\n",
    "\n",
    "    normalized_counts = get_junction_counts(junction_start, junction_end, \n",
    "                                            chrm, strand, expression_h5, \n",
    "                                            index_whitelist_samples, \n",
    "                                            lib_75_per_sample, normalizer)\n",
    "    if normalized_counts is not None:\n",
    "        for threshold in filter_thresholds: # Make filter threshold\n",
    "            print(filter_recurrence(normalized_counts, threshold))\n"
   ]
  },
  {
   "cell_type": "code",
   "execution_count": null,
   "id": "325fdff7",
   "metadata": {},
   "outputs": [],
   "source": [
    "star_jx.loc[(star_jx['junction_start'] == junction_start) & (star_jx['junction_end'] == junction_end)]\n"
   ]
  },
  {
   "cell_type": "code",
   "execution_count": null,
   "id": "20cae9c6",
   "metadata": {},
   "outputs": [],
   "source": []
  }
 ],
 "metadata": {
  "kernelspec": {
   "display_name": "pep3",
   "language": "python",
   "name": "pep3"
  },
  "language_info": {
   "codemirror_mode": {
    "name": "ipython",
    "version": 3
   },
   "file_extension": ".py",
   "mimetype": "text/x-python",
   "name": "python",
   "nbconvert_exporter": "python",
   "pygments_lexer": "ipython3",
   "version": "3.9.13"
  }
 },
 "nbformat": 4,
 "nbformat_minor": 5
}
