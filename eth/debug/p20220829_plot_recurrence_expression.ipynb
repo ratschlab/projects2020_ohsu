{
 "cells": [
  {
   "cell_type": "code",
   "execution_count": 1,
   "metadata": {
    "ExecuteTime": {
     "end_time": "2022-09-02T11:25:03.119513Z",
     "start_time": "2022-09-02T11:24:13.063725Z"
    }
   },
   "outputs": [
    {
     "ename": "ModuleNotFoundError",
     "evalue": "No module named 'seaborn'",
     "output_type": "error",
     "traceback": [
      "\u001b[0;31m---------------------------------------------------------------------------\u001b[0m",
      "\u001b[0;31mModuleNotFoundError\u001b[0m                       Traceback (most recent call last)",
      "\u001b[0;32m/tmp/ipykernel_485720/3315458758.py\u001b[0m in \u001b[0;36m<module>\u001b[0;34m\u001b[0m\n\u001b[1;32m      2\u001b[0m \u001b[0;32mimport\u001b[0m \u001b[0mos\u001b[0m\u001b[0;34m\u001b[0m\u001b[0;34m\u001b[0m\u001b[0m\n\u001b[1;32m      3\u001b[0m \u001b[0;32mimport\u001b[0m \u001b[0mglob\u001b[0m\u001b[0;34m\u001b[0m\u001b[0;34m\u001b[0m\u001b[0m\n\u001b[0;32m----> 4\u001b[0;31m \u001b[0;32mimport\u001b[0m \u001b[0mseaborn\u001b[0m \u001b[0;32mas\u001b[0m \u001b[0msns\u001b[0m\u001b[0;34m\u001b[0m\u001b[0;34m\u001b[0m\u001b[0m\n\u001b[0m\u001b[1;32m      5\u001b[0m \u001b[0;32mimport\u001b[0m \u001b[0mmatplotlib\u001b[0m\u001b[0;34m.\u001b[0m\u001b[0mpyplot\u001b[0m \u001b[0;32mas\u001b[0m \u001b[0mplt\u001b[0m\u001b[0;34m\u001b[0m\u001b[0;34m\u001b[0m\u001b[0m\n\u001b[1;32m      6\u001b[0m \u001b[0;32mimport\u001b[0m \u001b[0mnumpy\u001b[0m \u001b[0;32mas\u001b[0m \u001b[0mnp\u001b[0m\u001b[0;34m\u001b[0m\u001b[0;34m\u001b[0m\u001b[0m\n",
      "\u001b[0;31mModuleNotFoundError\u001b[0m: No module named 'seaborn'"
     ]
    }
   ],
   "source": [
    "import pandas as pd\n",
    "import os \n",
    "import glob \n",
    "import seaborn as sns \n",
    "import matplotlib.pyplot as plt\n",
    "import numpy as np "
   ]
  },
  {
   "cell_type": "markdown",
   "metadata": {},
   "source": [
    "# Plot raw filtering results"
   ]
  },
  {
   "cell_type": "code",
   "execution_count": null,
   "metadata": {
    "ExecuteTime": {
     "end_time": "2022-09-02T11:25:03.129881Z",
     "start_time": "2022-09-02T11:25:03.124416Z"
    }
   },
   "outputs": [],
   "source": [
    "path_filtered = '/cluster/work/grlab/projects/projects2020_OHSU/peptides_generation/commit_v3_TEST_merged3_372a147_medium_run_conf2_annotFrame_cap0_runs/TCGA_Breast_1102/filter_TCGA-BH-A18V-01A-11R-A12D-07.all/commit_372a147_full_flags_GTEXcore/G_TCGA-BH-A18V-01A-11R-A12D-07.all_ref_SampleLim0.0CohortLim0.0Across1_FiltNormalsGtexcoreCohortlim0.0Across0.tsv/part-00000-c554ddd4-74fd-4040-8c55-fb27edde84cc-c000.csv'"
   ]
  },
  {
   "cell_type": "code",
   "execution_count": null,
   "metadata": {
    "ExecuteTime": {
     "end_time": "2022-09-02T11:25:03.138023Z",
     "start_time": "2022-09-02T11:25:03.134605Z"
    }
   },
   "outputs": [],
   "source": [
    "path_cancer = '/cluster/work/grlab/projects/projects2020_OHSU/peptides_generation/commit_v3_TEST_merged3_372a147_medium_run_conf2_annotFrame_cap0_runs/TCGA_Breast_1102/filter_TCGA-BH-A18V-01A-11R-A12D-07.all/commit_372a147_full_flags_a_interm_cancer/interm_cancer_ref_combiExprCohortLim0.0Across1ExceptTCGABHA18V01A11RA12D07all.tsv/'"
   ]
  },
  {
   "cell_type": "code",
   "execution_count": null,
   "metadata": {
    "ExecuteTime": {
     "end_time": "2022-09-02T11:25:03.152679Z",
     "start_time": "2022-09-02T11:25:03.142517Z"
    }
   },
   "outputs": [],
   "source": [
    "path_cancers = glob.glob(path_cancer + '*part*')"
   ]
  },
  {
   "cell_type": "code",
   "execution_count": null,
   "metadata": {
    "ExecuteTime": {
     "end_time": "2022-09-02T11:25:17.971812Z",
     "start_time": "2022-09-02T11:25:03.155009Z"
    }
   },
   "outputs": [],
   "source": [
    "cancers = [pd.read_csv(path, sep = '\\t', header = None) for path in path_cancers ]\n",
    "\n",
    "cancers = pd.concat(cancers, axis = 0).rename( {0:'kmer', 1:'recurrence'}, axis = 1)"
   ]
  },
  {
   "cell_type": "code",
   "execution_count": null,
   "metadata": {
    "ExecuteTime": {
     "end_time": "2022-09-02T11:25:18.045853Z",
     "start_time": "2022-09-02T11:25:17.977059Z"
    }
   },
   "outputs": [],
   "source": [
    "cancers.head()"
   ]
  },
  {
   "cell_type": "code",
   "execution_count": null,
   "metadata": {
    "ExecuteTime": {
     "end_time": "2022-09-02T11:25:18.090401Z",
     "start_time": "2022-09-02T11:25:18.048242Z"
    }
   },
   "outputs": [],
   "source": [
    "filtered = pd.read_csv(path_filtered, sep = '\\t')"
   ]
  },
  {
   "cell_type": "code",
   "execution_count": null,
   "metadata": {
    "ExecuteTime": {
     "end_time": "2022-09-02T11:25:18.129996Z",
     "start_time": "2022-09-02T11:25:18.096132Z"
    }
   },
   "outputs": [],
   "source": [
    "filtered.head()"
   ]
  },
  {
   "cell_type": "code",
   "execution_count": null,
   "metadata": {
    "ExecuteTime": {
     "end_time": "2022-09-02T11:25:18.794093Z",
     "start_time": "2022-09-02T11:25:18.134719Z"
    }
   },
   "outputs": [],
   "source": [
    "df = filtered.merge(cancers, on = 'kmer', how = 'left')"
   ]
  },
  {
   "cell_type": "code",
   "execution_count": null,
   "metadata": {
    "ExecuteTime": {
     "end_time": "2022-09-02T11:25:18.812982Z",
     "start_time": "2022-09-02T11:25:18.797243Z"
    }
   },
   "outputs": [],
   "source": [
    "df.head()"
   ]
  },
  {
   "cell_type": "code",
   "execution_count": null,
   "metadata": {
    "ExecuteTime": {
     "end_time": "2022-09-02T11:25:49.382004Z",
     "start_time": "2022-09-02T11:25:48.508940Z"
    }
   },
   "outputs": [],
   "source": [
    "plt.hist(df['recurrence'], bins = 50, color = 'forestgreen')\n",
    "plt.ylabel('count')\n",
    "plt.xlabel('kmer recurrence')\n",
    "plt.grid()"
   ]
  },
  {
   "cell_type": "code",
   "execution_count": null,
   "metadata": {
    "ExecuteTime": {
     "end_time": "2022-09-02T11:26:02.454559Z",
     "start_time": "2022-09-02T11:26:01.090858Z"
    }
   },
   "outputs": [],
   "source": [
    "plt.hist(df['recurrence'], bins = 50,  color = 'forestgreen')\n",
    "plt.yscale('log')\n",
    "plt.ylabel('count (log scale')\n",
    "plt.xlabel('kmer recurrence')\n",
    "plt.grid()"
   ]
  },
  {
   "cell_type": "code",
   "execution_count": null,
   "metadata": {
    "ExecuteTime": {
     "end_time": "2022-09-02T11:26:24.914284Z",
     "start_time": "2022-09-02T11:26:24.555359Z"
    }
   },
   "outputs": [],
   "source": [
    "plt.scatter(df['TCGABHA18V01A11RA12D07all'], df['recurrence'], \n",
    "           color = 'dodgerblue')\n",
    "plt.title('Rerun: \\n realign + reading frame annotated + junction expression 3 exons fixed')\n",
    "plt.ylabel('Recurrence')\n",
    "plt.xlabel('Normalized expression')\n",
    "plt.grid()"
   ]
  },
  {
   "cell_type": "code",
   "execution_count": null,
   "metadata": {
    "ExecuteTime": {
     "end_time": "2022-09-02T11:26:25.637105Z",
     "start_time": "2022-09-02T11:26:25.065328Z"
    }
   },
   "outputs": [],
   "source": [
    "df_plot = df.loc[df['recurrence'] < 100, :]\n",
    "plt.scatter(df_plot['TCGABHA18V01A11RA12D07all'],\n",
    "            df_plot['recurrence'], \n",
    "            color = 'lightblue')\n",
    "plt.title('Rerun subset recurrence < 100: \\n realign + reading frame annotated + junction expression 3 exons fixed')\n",
    "plt.ylabel('Recurrence')\n",
    "plt.xlabel('Normalized expression')\n",
    "plt.grid()"
   ]
  },
  {
   "cell_type": "code",
   "execution_count": null,
   "metadata": {
    "ExecuteTime": {
     "end_time": "2022-09-02T11:26:31.390554Z",
     "start_time": "2022-09-02T11:26:30.891676Z"
    }
   },
   "outputs": [],
   "source": [
    "\n",
    "sns.scatterplot(data = df, \n",
    "                x = 'TCGABHA18V01A11RA12D07all', \n",
    "               y = 'recurrence', \n",
    "               hue = 'junctionAnnotated')\n",
    "plt.ylabel('Recurrence')\n",
    "plt.xlabel('Normalized expression')\n",
    "plt.grid()"
   ]
  },
  {
   "cell_type": "raw",
   "metadata": {
    "ExecuteTime": {
     "end_time": "2022-08-29T09:19:41.245280Z",
     "start_time": "2022-08-29T09:19:40.947261Z"
    }
   },
   "source": [
    "df_plot = df.loc[(df['recurrence'] > 100) &\n",
    "                 (df['TCGABHA18V01A11RA12D07all'] > 10), :]\n",
    "df_plot.shape\n",
    "df_plot.to_csv('/cluster/work/grlab/projects/projects2020_OHSU/peptides_generation/commit_v3_TEST_merged3_372a147_medium_run_conf2_annotFrame_cap0_runs/TCGA_Breast_1102/filter_TCGA-BH-A18V-01A-11R-A12D-07.all/commit_372a147_full_flags_GTEXcore/recurrence>100_expression>10.tsv', sep = '\\t')"
   ]
  },
  {
   "cell_type": "code",
   "execution_count": 17,
   "metadata": {
    "ExecuteTime": {
     "end_time": "2022-09-02T11:26:36.663783Z",
     "start_time": "2022-09-02T11:26:36.642347Z"
    },
    "collapsed": true
   },
   "outputs": [
    {
     "data": {
      "text/html": [
       "<div>\n",
       "<style scoped>\n",
       "    .dataframe tbody tr th:only-of-type {\n",
       "        vertical-align: middle;\n",
       "    }\n",
       "\n",
       "    .dataframe tbody tr th {\n",
       "        vertical-align: top;\n",
       "    }\n",
       "\n",
       "    .dataframe thead th {\n",
       "        text-align: right;\n",
       "    }\n",
       "</style>\n",
       "<table border=\"1\" class=\"dataframe\">\n",
       "  <thead>\n",
       "    <tr style=\"text-align: right;\">\n",
       "      <th></th>\n",
       "      <th>kmer</th>\n",
       "      <th>TCGABHA18V01A11RA12D07all</th>\n",
       "      <th>junctionAnnotated</th>\n",
       "      <th>readFrameAnnotated</th>\n",
       "      <th>recurrence</th>\n",
       "    </tr>\n",
       "  </thead>\n",
       "  <tbody>\n",
       "    <tr>\n",
       "      <th>0</th>\n",
       "      <td>DINLNSPVD</td>\n",
       "      <td>1.0</td>\n",
       "      <td>1.0</td>\n",
       "      <td>1.0</td>\n",
       "      <td>26</td>\n",
       "    </tr>\n",
       "    <tr>\n",
       "      <th>11</th>\n",
       "      <td>PGWRAVTGM</td>\n",
       "      <td>1.0</td>\n",
       "      <td>0.0</td>\n",
       "      <td>1.0</td>\n",
       "      <td>3</td>\n",
       "    </tr>\n",
       "    <tr>\n",
       "      <th>12</th>\n",
       "      <td>PSSISVHHL</td>\n",
       "      <td>1.0</td>\n",
       "      <td>0.0</td>\n",
       "      <td>1.0</td>\n",
       "      <td>2</td>\n",
       "    </tr>\n",
       "    <tr>\n",
       "      <th>17</th>\n",
       "      <td>LVDTITHGL</td>\n",
       "      <td>3.0</td>\n",
       "      <td>0.0</td>\n",
       "      <td>1.0</td>\n",
       "      <td>18</td>\n",
       "    </tr>\n",
       "    <tr>\n",
       "      <th>19</th>\n",
       "      <td>SPNSGDFFS</td>\n",
       "      <td>4.0</td>\n",
       "      <td>0.0</td>\n",
       "      <td>1.0</td>\n",
       "      <td>3</td>\n",
       "    </tr>\n",
       "    <tr>\n",
       "      <th>21</th>\n",
       "      <td>QSRPALLPS</td>\n",
       "      <td>1.0</td>\n",
       "      <td>0.0</td>\n",
       "      <td>1.0</td>\n",
       "      <td>2</td>\n",
       "    </tr>\n",
       "    <tr>\n",
       "      <th>25</th>\n",
       "      <td>QAVMKDVKY</td>\n",
       "      <td>2.0</td>\n",
       "      <td>0.0</td>\n",
       "      <td>1.0</td>\n",
       "      <td>1</td>\n",
       "    </tr>\n",
       "    <tr>\n",
       "      <th>32</th>\n",
       "      <td>MEDPFDRAH</td>\n",
       "      <td>2.0</td>\n",
       "      <td>0.0</td>\n",
       "      <td>1.0</td>\n",
       "      <td>3</td>\n",
       "    </tr>\n",
       "    <tr>\n",
       "      <th>34</th>\n",
       "      <td>FHLCSVLTR</td>\n",
       "      <td>13.0</td>\n",
       "      <td>0.0</td>\n",
       "      <td>1.0</td>\n",
       "      <td>59</td>\n",
       "    </tr>\n",
       "    <tr>\n",
       "      <th>57</th>\n",
       "      <td>NQYREEFLG</td>\n",
       "      <td>6.0</td>\n",
       "      <td>0.0</td>\n",
       "      <td>1.0</td>\n",
       "      <td>9</td>\n",
       "    </tr>\n",
       "    <tr>\n",
       "      <th>66</th>\n",
       "      <td>RAVAMGHSQ</td>\n",
       "      <td>3.0</td>\n",
       "      <td>0.0</td>\n",
       "      <td>1.0</td>\n",
       "      <td>1</td>\n",
       "    </tr>\n",
       "    <tr>\n",
       "      <th>84</th>\n",
       "      <td>GHFDPGWRA</td>\n",
       "      <td>1.0</td>\n",
       "      <td>0.0</td>\n",
       "      <td>1.0</td>\n",
       "      <td>3</td>\n",
       "    </tr>\n",
       "    <tr>\n",
       "      <th>99</th>\n",
       "      <td>MDEDEYTVL</td>\n",
       "      <td>2.0</td>\n",
       "      <td>0.0</td>\n",
       "      <td>1.0</td>\n",
       "      <td>1</td>\n",
       "    </tr>\n",
       "    <tr>\n",
       "      <th>109</th>\n",
       "      <td>RTFTYYVQH</td>\n",
       "      <td>7.0</td>\n",
       "      <td>0.0</td>\n",
       "      <td>1.0</td>\n",
       "      <td>72</td>\n",
       "    </tr>\n",
       "    <tr>\n",
       "      <th>119</th>\n",
       "      <td>RARFRNSAS</td>\n",
       "      <td>1.0</td>\n",
       "      <td>0.0</td>\n",
       "      <td>1.0</td>\n",
       "      <td>7</td>\n",
       "    </tr>\n",
       "    <tr>\n",
       "      <th>126</th>\n",
       "      <td>PSTPLLTGN</td>\n",
       "      <td>1.0</td>\n",
       "      <td>0.0</td>\n",
       "      <td>1.0</td>\n",
       "      <td>4</td>\n",
       "    </tr>\n",
       "    <tr>\n",
       "      <th>130</th>\n",
       "      <td>KDVKYVVMF</td>\n",
       "      <td>2.0</td>\n",
       "      <td>0.0</td>\n",
       "      <td>1.0</td>\n",
       "      <td>1</td>\n",
       "    </tr>\n",
       "    <tr>\n",
       "      <th>131</th>\n",
       "      <td>KGHFDPGWR</td>\n",
       "      <td>1.0</td>\n",
       "      <td>0.0</td>\n",
       "      <td>1.0</td>\n",
       "      <td>3</td>\n",
       "    </tr>\n",
       "    <tr>\n",
       "      <th>134</th>\n",
       "      <td>ARDLQSFTG</td>\n",
       "      <td>1.0</td>\n",
       "      <td>0.0</td>\n",
       "      <td>1.0</td>\n",
       "      <td>4</td>\n",
       "    </tr>\n",
       "    <tr>\n",
       "      <th>138</th>\n",
       "      <td>KIIVFDNGS</td>\n",
       "      <td>1.0</td>\n",
       "      <td>0.0</td>\n",
       "      <td>1.0</td>\n",
       "      <td>20</td>\n",
       "    </tr>\n",
       "  </tbody>\n",
       "</table>\n",
       "</div>"
      ],
      "text/plain": [
       "          kmer  TCGABHA18V01A11RA12D07all  junctionAnnotated  \\\n",
       "0    DINLNSPVD                        1.0                1.0   \n",
       "11   PGWRAVTGM                        1.0                0.0   \n",
       "12   PSSISVHHL                        1.0                0.0   \n",
       "17   LVDTITHGL                        3.0                0.0   \n",
       "19   SPNSGDFFS                        4.0                0.0   \n",
       "21   QSRPALLPS                        1.0                0.0   \n",
       "25   QAVMKDVKY                        2.0                0.0   \n",
       "32   MEDPFDRAH                        2.0                0.0   \n",
       "34   FHLCSVLTR                       13.0                0.0   \n",
       "57   NQYREEFLG                        6.0                0.0   \n",
       "66   RAVAMGHSQ                        3.0                0.0   \n",
       "84   GHFDPGWRA                        1.0                0.0   \n",
       "99   MDEDEYTVL                        2.0                0.0   \n",
       "109  RTFTYYVQH                        7.0                0.0   \n",
       "119  RARFRNSAS                        1.0                0.0   \n",
       "126  PSTPLLTGN                        1.0                0.0   \n",
       "130  KDVKYVVMF                        2.0                0.0   \n",
       "131  KGHFDPGWR                        1.0                0.0   \n",
       "134  ARDLQSFTG                        1.0                0.0   \n",
       "138  KIIVFDNGS                        1.0                0.0   \n",
       "\n",
       "     readFrameAnnotated  recurrence  \n",
       "0                   1.0          26  \n",
       "11                  1.0           3  \n",
       "12                  1.0           2  \n",
       "17                  1.0          18  \n",
       "19                  1.0           3  \n",
       "21                  1.0           2  \n",
       "25                  1.0           1  \n",
       "32                  1.0           3  \n",
       "34                  1.0          59  \n",
       "57                  1.0           9  \n",
       "66                  1.0           1  \n",
       "84                  1.0           3  \n",
       "99                  1.0           1  \n",
       "109                 1.0          72  \n",
       "119                 1.0           7  \n",
       "126                 1.0           4  \n",
       "130                 1.0           1  \n",
       "131                 1.0           3  \n",
       "134                 1.0           4  \n",
       "138                 1.0          20  "
      ]
     },
     "execution_count": 17,
     "metadata": {},
     "output_type": "execute_result"
    }
   ],
   "source": [
    "df_plot.head(20)"
   ]
  },
  {
   "cell_type": "code",
   "execution_count": 17,
   "metadata": {
    "ExecuteTime": {
     "end_time": "2022-08-30T13:53:15.137493Z",
     "start_time": "2022-08-30T13:53:15.127626Z"
    }
   },
   "outputs": [
    {
     "data": {
      "text/html": [
       "<div>\n",
       "<style scoped>\n",
       "    .dataframe tbody tr th:only-of-type {\n",
       "        vertical-align: middle;\n",
       "    }\n",
       "\n",
       "    .dataframe tbody tr th {\n",
       "        vertical-align: top;\n",
       "    }\n",
       "\n",
       "    .dataframe thead th {\n",
       "        text-align: right;\n",
       "    }\n",
       "</style>\n",
       "<table border=\"1\" class=\"dataframe\">\n",
       "  <thead>\n",
       "    <tr style=\"text-align: right;\">\n",
       "      <th></th>\n",
       "      <th>kmer</th>\n",
       "      <th>TCGABHA18V01A11RA12D07all</th>\n",
       "      <th>junctionAnnotated</th>\n",
       "      <th>readFrameAnnotated</th>\n",
       "      <th>recurrence</th>\n",
       "    </tr>\n",
       "  </thead>\n",
       "  <tbody>\n",
       "  </tbody>\n",
       "</table>\n",
       "</div>"
      ],
      "text/plain": [
       "Empty DataFrame\n",
       "Columns: [kmer, TCGABHA18V01A11RA12D07all, junctionAnnotated, readFrameAnnotated, recurrence]\n",
       "Index: []"
      ]
     },
     "execution_count": 17,
     "metadata": {},
     "output_type": "execute_result"
    }
   ],
   "source": [
    "df_plot.loc[df_plot['kmer'] == 'NRLSVWSPW']"
   ]
  },
  {
   "cell_type": "markdown",
   "metadata": {},
   "source": [
    "# Look at the Junc, Segm and metadata file in GTEX to understand if kmer is present in the background"
   ]
  },
  {
   "cell_type": "code",
   "execution_count": null,
   "metadata": {
    "ExecuteTime": {
     "end_time": "2022-09-02T11:26:42.343564Z",
     "start_time": "2022-09-02T11:26:42.339331Z"
    }
   },
   "outputs": [],
   "source": [
    "paths_gtex_extract = '/cluster/work/grlab/projects/TCGA/PanCanAtlas/immunopepper_paper/peptides_ccell_rerun_gtex_151220/GTEX2019_commit_v3_TEST_merged3_372a147_medium_run_pya.0.17.1_conf2_annot_ref_chrall_cap/cohort_mutNone'"
   ]
  },
  {
   "cell_type": "code",
   "execution_count": null,
   "metadata": {
    "ExecuteTime": {
     "end_time": "2022-09-02T11:29:04.972680Z",
     "start_time": "2022-09-02T11:26:42.657305Z"
    }
   },
   "outputs": [],
   "source": [
    "paths_gtex_extract = glob.glob(paths_gtex_extract + '/tmp*/tmp*')"
   ]
  },
  {
   "cell_type": "code",
   "execution_count": null,
   "metadata": {
    "ExecuteTime": {
     "end_time": "2022-09-02T11:29:05.071602Z",
     "start_time": "2022-09-02T11:29:04.978534Z"
    }
   },
   "outputs": [],
   "source": [
    "paths_gtex_extract"
   ]
  },
  {
   "cell_type": "code",
   "execution_count": null,
   "metadata": {
    "ExecuteTime": {
     "end_time": "2022-09-02T11:29:05.079332Z",
     "start_time": "2022-09-02T11:29:05.074862Z"
    }
   },
   "outputs": [],
   "source": [
    "# GET JUNCTION PATHS \n",
    "path_Junc = [path for path in paths_gtex_extract if 'Junc' in path]"
   ]
  },
  {
   "cell_type": "code",
   "execution_count": null,
   "metadata": {
    "ExecuteTime": {
     "end_time": "2022-09-02T11:33:43.476662Z",
     "start_time": "2022-09-02T11:29:05.083829Z"
    }
   },
   "outputs": [],
   "source": [
    "# PROPORTION OF EMPTY GTEX GENERATION FILES\n",
    "is_found = []\n",
    "not_empty_rf_annot = []\n",
    "empty_missing_gtex_kmers = []\n",
    "for path in path_Junc:\n",
    "    try: # Is found in GTEX\n",
    "        test = pd.read_csv(path, header = None)\n",
    "        is_found.append(1)\n",
    "        not_empty_rf_annot.append([path, test.iloc[:, -1:].values[0][0]])\n",
    "    except: # Is not found in GTEX\n",
    "        is_found.append(0)\n",
    "        empty_missing_gtex_kmers.append(os.path.basename(path).split('_')[1])\n"
   ]
  },
  {
   "cell_type": "code",
   "execution_count": null,
   "metadata": {
    "ExecuteTime": {
     "end_time": "2022-09-02T12:00:30.149648Z",
     "start_time": "2022-09-02T12:00:28.246537Z"
    },
    "scrolled": true
   },
   "outputs": [],
   "source": [
    "plt.hist(is_found)\n",
    "len_kmers = len(is_found)\n",
    "plt.title((f'Problematic highly expressed/ recurrent kmer'\n",
    "          f'\\n Assessment of presence in GTEX: at kmer level!'\n",
    "          f'\\n \\n  Note: 874 kmers problematic kmers'\n",
    "          f'\\n with recurrence > 100 and expression > 10 are analyzed'\n",
    "          f'\\n {len_kmers} made it to this plot (running)'))\n",
    "plt.ylabel('count')\n",
    "plt.xlabel('GTEX presence, at peptide level')"
   ]
  },
  {
   "cell_type": "code",
   "execution_count": null,
   "metadata": {
    "ExecuteTime": {
     "end_time": "2022-09-02T12:01:04.236559Z",
     "start_time": "2022-09-02T12:01:03.715730Z"
    }
   },
   "outputs": [],
   "source": [
    "len_present_gtex = len([foo for foo in is_found if foo == 1])\n",
    "plt.hist([read_frame_annot[1] for read_frame_annot in not_empty_rf_annot ])\n",
    "plt.title((f'Problematic highly expressed/ recurrent kmer'\n",
    "          f'\\n Among {len_present_gtex} kmers present in GTEX at kmer level:'\n",
    "          f'\\n Plotting reading frame annotated status'\n",
    "          f'\\n \\n Note: For speed, the gtex kmers filtered out were restricted'\n",
    "           f'\\n to reading frame annotated == 1' ))\n",
    "plt.ylabel('count')\n",
    "plt.xlabel('Reading frame annotated status')"
   ]
  },
  {
   "cell_type": "code",
   "execution_count": 25,
   "metadata": {
    "ExecuteTime": {
     "end_time": "2022-09-02T11:33:44.260752Z",
     "start_time": "2022-09-02T11:33:44.106113Z"
    }
   },
   "outputs": [
    {
     "data": {
      "text/plain": [
       "Text(0, 0.5, 'count')"
      ]
     },
     "execution_count": 25,
     "metadata": {},
     "output_type": "execute_result"
    },
    {
     "data": {
      "image/png": "[encoded data removed]",
      "text/plain": [
       "<Figure size 432x288 with 1 Axes>"
      ]
     },
     "metadata": {
      "needs_background": "light"
     },
     "output_type": "display_data"
    }
   ],
   "source": [
    "plt.ylabel('count')"
   ]
  },
  {
   "cell_type": "markdown",
   "metadata": {},
   "source": [
    "### Test the case where the reading frame is annotated = 1 "
   ]
  },
  {
   "cell_type": "code",
   "execution_count": 30,
   "metadata": {
    "ExecuteTime": {
     "end_time": "2022-09-02T12:01:56.114092Z",
     "start_time": "2022-09-02T12:01:47.720279Z"
    }
   },
   "outputs": [
    {
     "name": "stdout",
     "output_type": "stream",
     "text": [
      "9755\n",
      "(1, 9755)\n"
     ]
    },
    {
     "data": {
      "text/html": [
       "<div>\n",
       "<style scoped>\n",
       "    .dataframe tbody tr th:only-of-type {\n",
       "        vertical-align: middle;\n",
       "    }\n",
       "\n",
       "    .dataframe tbody tr th {\n",
       "        vertical-align: top;\n",
       "    }\n",
       "\n",
       "    .dataframe thead th {\n",
       "        text-align: right;\n",
       "    }\n",
       "</style>\n",
       "<table border=\"1\" class=\"dataframe\">\n",
       "  <thead>\n",
       "    <tr style=\"text-align: right;\">\n",
       "      <th></th>\n",
       "      <th>0</th>\n",
       "      <th>1</th>\n",
       "      <th>2</th>\n",
       "      <th>3</th>\n",
       "      <th>4</th>\n",
       "      <th>5</th>\n",
       "      <th>6</th>\n",
       "      <th>7</th>\n",
       "      <th>8</th>\n",
       "      <th>9</th>\n",
       "      <th>...</th>\n",
       "      <th>9749</th>\n",
       "      <th>9750</th>\n",
       "      <th>9751</th>\n",
       "      <th>9752</th>\n",
       "      <th>9753</th>\n",
       "      <th>9754</th>\n",
       "      <th>9755</th>\n",
       "      <th>9756</th>\n",
       "      <th>9757</th>\n",
       "      <th>9758</th>\n",
       "    </tr>\n",
       "  </thead>\n",
       "  <tbody>\n",
       "    <tr>\n",
       "      <th>0</th>\n",
       "      <td>GRSAHLLGS</td>\n",
       "      <td>NaN</td>\n",
       "      <td>NaN</td>\n",
       "      <td>NaN</td>\n",
       "      <td>NaN</td>\n",
       "      <td>NaN</td>\n",
       "      <td>NaN</td>\n",
       "      <td>NaN</td>\n",
       "      <td>NaN</td>\n",
       "      <td>NaN</td>\n",
       "      <td>...</td>\n",
       "      <td>NaN</td>\n",
       "      <td>NaN</td>\n",
       "      <td>NaN</td>\n",
       "      <td>NaN</td>\n",
       "      <td>NaN</td>\n",
       "      <td>NaN</td>\n",
       "      <td>NaN</td>\n",
       "      <td>False</td>\n",
       "      <td>NaN</td>\n",
       "      <td>1.0</td>\n",
       "    </tr>\n",
       "  </tbody>\n",
       "</table>\n",
       "<p>1 rows × 9759 columns</p>\n",
       "</div>"
      ],
      "text/plain": [
       "        0     1     2     3     4     5     6     7     8     9     ...  9749  \\\n",
       "0  GRSAHLLGS   NaN   NaN   NaN   NaN   NaN   NaN   NaN   NaN   NaN  ...   NaN   \n",
       "\n",
       "   9750  9751  9752  9753  9754  9755   9756  9757  9758  \n",
       "0   NaN   NaN   NaN   NaN   NaN   NaN  False   NaN   1.0  \n",
       "\n",
       "[1 rows x 9759 columns]"
      ]
     },
     "metadata": {},
     "output_type": "display_data"
    },
    {
     "name": "stdout",
     "output_type": "stream",
     "text": [
      "9755\n",
      "(1, 9755)\n"
     ]
    },
    {
     "data": {
      "text/html": [
       "<div>\n",
       "<style scoped>\n",
       "    .dataframe tbody tr th:only-of-type {\n",
       "        vertical-align: middle;\n",
       "    }\n",
       "\n",
       "    .dataframe tbody tr th {\n",
       "        vertical-align: top;\n",
       "    }\n",
       "\n",
       "    .dataframe thead th {\n",
       "        text-align: right;\n",
       "    }\n",
       "</style>\n",
       "<table border=\"1\" class=\"dataframe\">\n",
       "  <thead>\n",
       "    <tr style=\"text-align: right;\">\n",
       "      <th></th>\n",
       "      <th>0</th>\n",
       "      <th>1</th>\n",
       "      <th>2</th>\n",
       "      <th>3</th>\n",
       "      <th>4</th>\n",
       "      <th>5</th>\n",
       "      <th>6</th>\n",
       "      <th>7</th>\n",
       "      <th>8</th>\n",
       "      <th>9</th>\n",
       "      <th>...</th>\n",
       "      <th>9749</th>\n",
       "      <th>9750</th>\n",
       "      <th>9751</th>\n",
       "      <th>9752</th>\n",
       "      <th>9753</th>\n",
       "      <th>9754</th>\n",
       "      <th>9755</th>\n",
       "      <th>9756</th>\n",
       "      <th>9757</th>\n",
       "      <th>9758</th>\n",
       "    </tr>\n",
       "  </thead>\n",
       "  <tbody>\n",
       "    <tr>\n",
       "      <th>0</th>\n",
       "      <td>ALIRWTEPC</td>\n",
       "      <td>NaN</td>\n",
       "      <td>NaN</td>\n",
       "      <td>NaN</td>\n",
       "      <td>NaN</td>\n",
       "      <td>NaN</td>\n",
       "      <td>NaN</td>\n",
       "      <td>NaN</td>\n",
       "      <td>NaN</td>\n",
       "      <td>NaN</td>\n",
       "      <td>...</td>\n",
       "      <td>NaN</td>\n",
       "      <td>NaN</td>\n",
       "      <td>NaN</td>\n",
       "      <td>NaN</td>\n",
       "      <td>NaN</td>\n",
       "      <td>NaN</td>\n",
       "      <td>NaN</td>\n",
       "      <td>False</td>\n",
       "      <td>NaN</td>\n",
       "      <td>1.0</td>\n",
       "    </tr>\n",
       "  </tbody>\n",
       "</table>\n",
       "<p>1 rows × 9759 columns</p>\n",
       "</div>"
      ],
      "text/plain": [
       "        0     1     2     3     4     5     6     7     8     9     ...  9749  \\\n",
       "0  ALIRWTEPC   NaN   NaN   NaN   NaN   NaN   NaN   NaN   NaN   NaN  ...   NaN   \n",
       "\n",
       "   9750  9751  9752  9753  9754  9755   9756  9757  9758  \n",
       "0   NaN   NaN   NaN   NaN   NaN   NaN  False   NaN   1.0  \n",
       "\n",
       "[1 rows x 9759 columns]"
      ]
     },
     "metadata": {},
     "output_type": "display_data"
    },
    {
     "name": "stdout",
     "output_type": "stream",
     "text": [
      "9755\n",
      "(1, 9755)\n"
     ]
    },
    {
     "data": {
      "text/html": [
       "<div>\n",
       "<style scoped>\n",
       "    .dataframe tbody tr th:only-of-type {\n",
       "        vertical-align: middle;\n",
       "    }\n",
       "\n",
       "    .dataframe tbody tr th {\n",
       "        vertical-align: top;\n",
       "    }\n",
       "\n",
       "    .dataframe thead th {\n",
       "        text-align: right;\n",
       "    }\n",
       "</style>\n",
       "<table border=\"1\" class=\"dataframe\">\n",
       "  <thead>\n",
       "    <tr style=\"text-align: right;\">\n",
       "      <th></th>\n",
       "      <th>0</th>\n",
       "      <th>1</th>\n",
       "      <th>2</th>\n",
       "      <th>3</th>\n",
       "      <th>4</th>\n",
       "      <th>5</th>\n",
       "      <th>6</th>\n",
       "      <th>7</th>\n",
       "      <th>8</th>\n",
       "      <th>9</th>\n",
       "      <th>...</th>\n",
       "      <th>9749</th>\n",
       "      <th>9750</th>\n",
       "      <th>9751</th>\n",
       "      <th>9752</th>\n",
       "      <th>9753</th>\n",
       "      <th>9754</th>\n",
       "      <th>9755</th>\n",
       "      <th>9756</th>\n",
       "      <th>9757</th>\n",
       "      <th>9758</th>\n",
       "    </tr>\n",
       "  </thead>\n",
       "  <tbody>\n",
       "    <tr>\n",
       "      <th>0</th>\n",
       "      <td>RYDLCLWRL</td>\n",
       "      <td>NaN</td>\n",
       "      <td>NaN</td>\n",
       "      <td>NaN</td>\n",
       "      <td>NaN</td>\n",
       "      <td>NaN</td>\n",
       "      <td>NaN</td>\n",
       "      <td>NaN</td>\n",
       "      <td>NaN</td>\n",
       "      <td>NaN</td>\n",
       "      <td>...</td>\n",
       "      <td>NaN</td>\n",
       "      <td>NaN</td>\n",
       "      <td>NaN</td>\n",
       "      <td>NaN</td>\n",
       "      <td>NaN</td>\n",
       "      <td>NaN</td>\n",
       "      <td>NaN</td>\n",
       "      <td>False</td>\n",
       "      <td>NaN</td>\n",
       "      <td>1.0</td>\n",
       "    </tr>\n",
       "  </tbody>\n",
       "</table>\n",
       "<p>1 rows × 9759 columns</p>\n",
       "</div>"
      ],
      "text/plain": [
       "        0     1     2     3     4     5     6     7     8     9     ...  9749  \\\n",
       "0  RYDLCLWRL   NaN   NaN   NaN   NaN   NaN   NaN   NaN   NaN   NaN  ...   NaN   \n",
       "\n",
       "   9750  9751  9752  9753  9754  9755   9756  9757  9758  \n",
       "0   NaN   NaN   NaN   NaN   NaN   NaN  False   NaN   1.0  \n",
       "\n",
       "[1 rows x 9759 columns]"
      ]
     },
     "metadata": {},
     "output_type": "display_data"
    },
    {
     "name": "stdout",
     "output_type": "stream",
     "text": [
      "9755\n",
      "(1, 9755)\n"
     ]
    },
    {
     "data": {
      "text/html": [
       "<div>\n",
       "<style scoped>\n",
       "    .dataframe tbody tr th:only-of-type {\n",
       "        vertical-align: middle;\n",
       "    }\n",
       "\n",
       "    .dataframe tbody tr th {\n",
       "        vertical-align: top;\n",
       "    }\n",
       "\n",
       "    .dataframe thead th {\n",
       "        text-align: right;\n",
       "    }\n",
       "</style>\n",
       "<table border=\"1\" class=\"dataframe\">\n",
       "  <thead>\n",
       "    <tr style=\"text-align: right;\">\n",
       "      <th></th>\n",
       "      <th>0</th>\n",
       "      <th>1</th>\n",
       "      <th>2</th>\n",
       "      <th>3</th>\n",
       "      <th>4</th>\n",
       "      <th>5</th>\n",
       "      <th>6</th>\n",
       "      <th>7</th>\n",
       "      <th>8</th>\n",
       "      <th>9</th>\n",
       "      <th>...</th>\n",
       "      <th>9749</th>\n",
       "      <th>9750</th>\n",
       "      <th>9751</th>\n",
       "      <th>9752</th>\n",
       "      <th>9753</th>\n",
       "      <th>9754</th>\n",
       "      <th>9755</th>\n",
       "      <th>9756</th>\n",
       "      <th>9757</th>\n",
       "      <th>9758</th>\n",
       "    </tr>\n",
       "  </thead>\n",
       "  <tbody>\n",
       "    <tr>\n",
       "      <th>0</th>\n",
       "      <td>AVHRPGVPG</td>\n",
       "      <td>NaN</td>\n",
       "      <td>NaN</td>\n",
       "      <td>NaN</td>\n",
       "      <td>NaN</td>\n",
       "      <td>NaN</td>\n",
       "      <td>NaN</td>\n",
       "      <td>NaN</td>\n",
       "      <td>NaN</td>\n",
       "      <td>NaN</td>\n",
       "      <td>...</td>\n",
       "      <td>NaN</td>\n",
       "      <td>NaN</td>\n",
       "      <td>NaN</td>\n",
       "      <td>NaN</td>\n",
       "      <td>NaN</td>\n",
       "      <td>NaN</td>\n",
       "      <td>NaN</td>\n",
       "      <td>False</td>\n",
       "      <td>NaN</td>\n",
       "      <td>1.0</td>\n",
       "    </tr>\n",
       "  </tbody>\n",
       "</table>\n",
       "<p>1 rows × 9759 columns</p>\n",
       "</div>"
      ],
      "text/plain": [
       "        0     1     2     3     4     5     6     7     8     9     ...  9749  \\\n",
       "0  AVHRPGVPG   NaN   NaN   NaN   NaN   NaN   NaN   NaN   NaN   NaN  ...   NaN   \n",
       "\n",
       "   9750  9751  9752  9753  9754  9755   9756  9757  9758  \n",
       "0   NaN   NaN   NaN   NaN   NaN   NaN  False   NaN   1.0  \n",
       "\n",
       "[1 rows x 9759 columns]"
      ]
     },
     "metadata": {},
     "output_type": "display_data"
    },
    {
     "name": "stdout",
     "output_type": "stream",
     "text": [
      "9755\n",
      "(1, 9755)\n"
     ]
    },
    {
     "data": {
      "text/html": [
       "<div>\n",
       "<style scoped>\n",
       "    .dataframe tbody tr th:only-of-type {\n",
       "        vertical-align: middle;\n",
       "    }\n",
       "\n",
       "    .dataframe tbody tr th {\n",
       "        vertical-align: top;\n",
       "    }\n",
       "\n",
       "    .dataframe thead th {\n",
       "        text-align: right;\n",
       "    }\n",
       "</style>\n",
       "<table border=\"1\" class=\"dataframe\">\n",
       "  <thead>\n",
       "    <tr style=\"text-align: right;\">\n",
       "      <th></th>\n",
       "      <th>0</th>\n",
       "      <th>1</th>\n",
       "      <th>2</th>\n",
       "      <th>3</th>\n",
       "      <th>4</th>\n",
       "      <th>5</th>\n",
       "      <th>6</th>\n",
       "      <th>7</th>\n",
       "      <th>8</th>\n",
       "      <th>9</th>\n",
       "      <th>...</th>\n",
       "      <th>9749</th>\n",
       "      <th>9750</th>\n",
       "      <th>9751</th>\n",
       "      <th>9752</th>\n",
       "      <th>9753</th>\n",
       "      <th>9754</th>\n",
       "      <th>9755</th>\n",
       "      <th>9756</th>\n",
       "      <th>9757</th>\n",
       "      <th>9758</th>\n",
       "    </tr>\n",
       "  </thead>\n",
       "  <tbody>\n",
       "    <tr>\n",
       "      <th>0</th>\n",
       "      <td>SWPPSTAGG</td>\n",
       "      <td>NaN</td>\n",
       "      <td>NaN</td>\n",
       "      <td>NaN</td>\n",
       "      <td>NaN</td>\n",
       "      <td>NaN</td>\n",
       "      <td>NaN</td>\n",
       "      <td>NaN</td>\n",
       "      <td>NaN</td>\n",
       "      <td>NaN</td>\n",
       "      <td>...</td>\n",
       "      <td>NaN</td>\n",
       "      <td>NaN</td>\n",
       "      <td>NaN</td>\n",
       "      <td>NaN</td>\n",
       "      <td>NaN</td>\n",
       "      <td>NaN</td>\n",
       "      <td>NaN</td>\n",
       "      <td>False</td>\n",
       "      <td>NaN</td>\n",
       "      <td>1.0</td>\n",
       "    </tr>\n",
       "  </tbody>\n",
       "</table>\n",
       "<p>1 rows × 9759 columns</p>\n",
       "</div>"
      ],
      "text/plain": [
       "        0     1     2     3     4     5     6     7     8     9     ...  9749  \\\n",
       "0  SWPPSTAGG   NaN   NaN   NaN   NaN   NaN   NaN   NaN   NaN   NaN  ...   NaN   \n",
       "\n",
       "   9750  9751  9752  9753  9754  9755   9756  9757  9758  \n",
       "0   NaN   NaN   NaN   NaN   NaN   NaN  False   NaN   1.0  \n",
       "\n",
       "[1 rows x 9759 columns]"
      ]
     },
     "metadata": {},
     "output_type": "display_data"
    },
    {
     "name": "stdout",
     "output_type": "stream",
     "text": [
      "0\n",
      "(1, 9755)\n"
     ]
    },
    {
     "data": {
      "text/html": [
       "<div>\n",
       "<style scoped>\n",
       "    .dataframe tbody tr th:only-of-type {\n",
       "        vertical-align: middle;\n",
       "    }\n",
       "\n",
       "    .dataframe tbody tr th {\n",
       "        vertical-align: top;\n",
       "    }\n",
       "\n",
       "    .dataframe thead th {\n",
       "        text-align: right;\n",
       "    }\n",
       "</style>\n",
       "<table border=\"1\" class=\"dataframe\">\n",
       "  <thead>\n",
       "    <tr style=\"text-align: right;\">\n",
       "      <th></th>\n",
       "      <th>0</th>\n",
       "      <th>1</th>\n",
       "      <th>2</th>\n",
       "      <th>3</th>\n",
       "      <th>4</th>\n",
       "      <th>5</th>\n",
       "      <th>6</th>\n",
       "      <th>7</th>\n",
       "      <th>8</th>\n",
       "      <th>9</th>\n",
       "      <th>...</th>\n",
       "      <th>9749</th>\n",
       "      <th>9750</th>\n",
       "      <th>9751</th>\n",
       "      <th>9752</th>\n",
       "      <th>9753</th>\n",
       "      <th>9754</th>\n",
       "      <th>9755</th>\n",
       "      <th>9756</th>\n",
       "      <th>9757</th>\n",
       "      <th>9758</th>\n",
       "    </tr>\n",
       "  </thead>\n",
       "  <tbody>\n",
       "    <tr>\n",
       "      <th>0</th>\n",
       "      <td>LLRFRFDLS</td>\n",
       "      <td>0.0</td>\n",
       "      <td>0.0</td>\n",
       "      <td>0.0</td>\n",
       "      <td>0.0</td>\n",
       "      <td>0.0</td>\n",
       "      <td>0.0</td>\n",
       "      <td>0.0</td>\n",
       "      <td>0.0</td>\n",
       "      <td>0.0</td>\n",
       "      <td>...</td>\n",
       "      <td>0.0</td>\n",
       "      <td>0.0</td>\n",
       "      <td>0.0</td>\n",
       "      <td>0.0</td>\n",
       "      <td>0.0</td>\n",
       "      <td>0.0</td>\n",
       "      <td>0.0</td>\n",
       "      <td>True</td>\n",
       "      <td>1.0</td>\n",
       "      <td>1.0</td>\n",
       "    </tr>\n",
       "  </tbody>\n",
       "</table>\n",
       "<p>1 rows × 9759 columns</p>\n",
       "</div>"
      ],
      "text/plain": [
       "        0     1     2     3     4     5     6     7     8     9     ...  9749  \\\n",
       "0  LLRFRFDLS   0.0   0.0   0.0   0.0   0.0   0.0   0.0   0.0   0.0  ...   0.0   \n",
       "\n",
       "   9750  9751  9752  9753  9754  9755  9756  9757  9758  \n",
       "0   0.0   0.0   0.0   0.0   0.0   0.0  True   1.0   1.0  \n",
       "\n",
       "[1 rows x 9759 columns]"
      ]
     },
     "metadata": {},
     "output_type": "display_data"
    },
    {
     "name": "stdout",
     "output_type": "stream",
     "text": [
      "9755\n",
      "(1, 9755)\n"
     ]
    },
    {
     "data": {
      "text/html": [
       "<div>\n",
       "<style scoped>\n",
       "    .dataframe tbody tr th:only-of-type {\n",
       "        vertical-align: middle;\n",
       "    }\n",
       "\n",
       "    .dataframe tbody tr th {\n",
       "        vertical-align: top;\n",
       "    }\n",
       "\n",
       "    .dataframe thead th {\n",
       "        text-align: right;\n",
       "    }\n",
       "</style>\n",
       "<table border=\"1\" class=\"dataframe\">\n",
       "  <thead>\n",
       "    <tr style=\"text-align: right;\">\n",
       "      <th></th>\n",
       "      <th>0</th>\n",
       "      <th>1</th>\n",
       "      <th>2</th>\n",
       "      <th>3</th>\n",
       "      <th>4</th>\n",
       "      <th>5</th>\n",
       "      <th>6</th>\n",
       "      <th>7</th>\n",
       "      <th>8</th>\n",
       "      <th>9</th>\n",
       "      <th>...</th>\n",
       "      <th>9749</th>\n",
       "      <th>9750</th>\n",
       "      <th>9751</th>\n",
       "      <th>9752</th>\n",
       "      <th>9753</th>\n",
       "      <th>9754</th>\n",
       "      <th>9755</th>\n",
       "      <th>9756</th>\n",
       "      <th>9757</th>\n",
       "      <th>9758</th>\n",
       "    </tr>\n",
       "  </thead>\n",
       "  <tbody>\n",
       "    <tr>\n",
       "      <th>0</th>\n",
       "      <td>GSSGAGDEL</td>\n",
       "      <td>NaN</td>\n",
       "      <td>NaN</td>\n",
       "      <td>NaN</td>\n",
       "      <td>NaN</td>\n",
       "      <td>NaN</td>\n",
       "      <td>NaN</td>\n",
       "      <td>NaN</td>\n",
       "      <td>NaN</td>\n",
       "      <td>NaN</td>\n",
       "      <td>...</td>\n",
       "      <td>NaN</td>\n",
       "      <td>NaN</td>\n",
       "      <td>NaN</td>\n",
       "      <td>NaN</td>\n",
       "      <td>NaN</td>\n",
       "      <td>NaN</td>\n",
       "      <td>NaN</td>\n",
       "      <td>False</td>\n",
       "      <td>NaN</td>\n",
       "      <td>1.0</td>\n",
       "    </tr>\n",
       "  </tbody>\n",
       "</table>\n",
       "<p>1 rows × 9759 columns</p>\n",
       "</div>"
      ],
      "text/plain": [
       "        0     1     2     3     4     5     6     7     8     9     ...  9749  \\\n",
       "0  GSSGAGDEL   NaN   NaN   NaN   NaN   NaN   NaN   NaN   NaN   NaN  ...   NaN   \n",
       "\n",
       "   9750  9751  9752  9753  9754  9755   9756  9757  9758  \n",
       "0   NaN   NaN   NaN   NaN   NaN   NaN  False   NaN   1.0  \n",
       "\n",
       "[1 rows x 9759 columns]"
      ]
     },
     "metadata": {},
     "output_type": "display_data"
    },
    {
     "name": "stdout",
     "output_type": "stream",
     "text": [
      "9755\n",
      "(1, 9755)\n"
     ]
    },
    {
     "data": {
      "text/html": [
       "<div>\n",
       "<style scoped>\n",
       "    .dataframe tbody tr th:only-of-type {\n",
       "        vertical-align: middle;\n",
       "    }\n",
       "\n",
       "    .dataframe tbody tr th {\n",
       "        vertical-align: top;\n",
       "    }\n",
       "\n",
       "    .dataframe thead th {\n",
       "        text-align: right;\n",
       "    }\n",
       "</style>\n",
       "<table border=\"1\" class=\"dataframe\">\n",
       "  <thead>\n",
       "    <tr style=\"text-align: right;\">\n",
       "      <th></th>\n",
       "      <th>0</th>\n",
       "      <th>1</th>\n",
       "      <th>2</th>\n",
       "      <th>3</th>\n",
       "      <th>4</th>\n",
       "      <th>5</th>\n",
       "      <th>6</th>\n",
       "      <th>7</th>\n",
       "      <th>8</th>\n",
       "      <th>9</th>\n",
       "      <th>...</th>\n",
       "      <th>9749</th>\n",
       "      <th>9750</th>\n",
       "      <th>9751</th>\n",
       "      <th>9752</th>\n",
       "      <th>9753</th>\n",
       "      <th>9754</th>\n",
       "      <th>9755</th>\n",
       "      <th>9756</th>\n",
       "      <th>9757</th>\n",
       "      <th>9758</th>\n",
       "    </tr>\n",
       "  </thead>\n",
       "  <tbody>\n",
       "    <tr>\n",
       "      <th>0</th>\n",
       "      <td>RFKISKVIV</td>\n",
       "      <td>NaN</td>\n",
       "      <td>NaN</td>\n",
       "      <td>NaN</td>\n",
       "      <td>NaN</td>\n",
       "      <td>NaN</td>\n",
       "      <td>NaN</td>\n",
       "      <td>NaN</td>\n",
       "      <td>NaN</td>\n",
       "      <td>NaN</td>\n",
       "      <td>...</td>\n",
       "      <td>NaN</td>\n",
       "      <td>NaN</td>\n",
       "      <td>NaN</td>\n",
       "      <td>NaN</td>\n",
       "      <td>NaN</td>\n",
       "      <td>NaN</td>\n",
       "      <td>NaN</td>\n",
       "      <td>False</td>\n",
       "      <td>NaN</td>\n",
       "      <td>1.0</td>\n",
       "    </tr>\n",
       "  </tbody>\n",
       "</table>\n",
       "<p>1 rows × 9759 columns</p>\n",
       "</div>"
      ],
      "text/plain": [
       "        0     1     2     3     4     5     6     7     8     9     ...  9749  \\\n",
       "0  RFKISKVIV   NaN   NaN   NaN   NaN   NaN   NaN   NaN   NaN   NaN  ...   NaN   \n",
       "\n",
       "   9750  9751  9752  9753  9754  9755   9756  9757  9758  \n",
       "0   NaN   NaN   NaN   NaN   NaN   NaN  False   NaN   1.0  \n",
       "\n",
       "[1 rows x 9759 columns]"
      ]
     },
     "metadata": {},
     "output_type": "display_data"
    },
    {
     "name": "stdout",
     "output_type": "stream",
     "text": [
      "9755\n",
      "(1, 9755)\n"
     ]
    },
    {
     "data": {
      "text/html": [
       "<div>\n",
       "<style scoped>\n",
       "    .dataframe tbody tr th:only-of-type {\n",
       "        vertical-align: middle;\n",
       "    }\n",
       "\n",
       "    .dataframe tbody tr th {\n",
       "        vertical-align: top;\n",
       "    }\n",
       "\n",
       "    .dataframe thead th {\n",
       "        text-align: right;\n",
       "    }\n",
       "</style>\n",
       "<table border=\"1\" class=\"dataframe\">\n",
       "  <thead>\n",
       "    <tr style=\"text-align: right;\">\n",
       "      <th></th>\n",
       "      <th>0</th>\n",
       "      <th>1</th>\n",
       "      <th>2</th>\n",
       "      <th>3</th>\n",
       "      <th>4</th>\n",
       "      <th>5</th>\n",
       "      <th>6</th>\n",
       "      <th>7</th>\n",
       "      <th>8</th>\n",
       "      <th>9</th>\n",
       "      <th>...</th>\n",
       "      <th>9749</th>\n",
       "      <th>9750</th>\n",
       "      <th>9751</th>\n",
       "      <th>9752</th>\n",
       "      <th>9753</th>\n",
       "      <th>9754</th>\n",
       "      <th>9755</th>\n",
       "      <th>9756</th>\n",
       "      <th>9757</th>\n",
       "      <th>9758</th>\n",
       "    </tr>\n",
       "  </thead>\n",
       "  <tbody>\n",
       "    <tr>\n",
       "      <th>0</th>\n",
       "      <td>TTSHSTTRV</td>\n",
       "      <td>NaN</td>\n",
       "      <td>NaN</td>\n",
       "      <td>NaN</td>\n",
       "      <td>NaN</td>\n",
       "      <td>NaN</td>\n",
       "      <td>NaN</td>\n",
       "      <td>NaN</td>\n",
       "      <td>NaN</td>\n",
       "      <td>NaN</td>\n",
       "      <td>...</td>\n",
       "      <td>NaN</td>\n",
       "      <td>NaN</td>\n",
       "      <td>NaN</td>\n",
       "      <td>NaN</td>\n",
       "      <td>NaN</td>\n",
       "      <td>NaN</td>\n",
       "      <td>NaN</td>\n",
       "      <td>False</td>\n",
       "      <td>NaN</td>\n",
       "      <td>1.0</td>\n",
       "    </tr>\n",
       "  </tbody>\n",
       "</table>\n",
       "<p>1 rows × 9759 columns</p>\n",
       "</div>"
      ],
      "text/plain": [
       "        0     1     2     3     4     5     6     7     8     9     ...  9749  \\\n",
       "0  TTSHSTTRV   NaN   NaN   NaN   NaN   NaN   NaN   NaN   NaN   NaN  ...   NaN   \n",
       "\n",
       "   9750  9751  9752  9753  9754  9755   9756  9757  9758  \n",
       "0   NaN   NaN   NaN   NaN   NaN   NaN  False   NaN   1.0  \n",
       "\n",
       "[1 rows x 9759 columns]"
      ]
     },
     "metadata": {},
     "output_type": "display_data"
    },
    {
     "name": "stdout",
     "output_type": "stream",
     "text": [
      "9755\n",
      "(1, 9755)\n"
     ]
    },
    {
     "data": {
      "text/html": [
       "<div>\n",
       "<style scoped>\n",
       "    .dataframe tbody tr th:only-of-type {\n",
       "        vertical-align: middle;\n",
       "    }\n",
       "\n",
       "    .dataframe tbody tr th {\n",
       "        vertical-align: top;\n",
       "    }\n",
       "\n",
       "    .dataframe thead th {\n",
       "        text-align: right;\n",
       "    }\n",
       "</style>\n",
       "<table border=\"1\" class=\"dataframe\">\n",
       "  <thead>\n",
       "    <tr style=\"text-align: right;\">\n",
       "      <th></th>\n",
       "      <th>0</th>\n",
       "      <th>1</th>\n",
       "      <th>2</th>\n",
       "      <th>3</th>\n",
       "      <th>4</th>\n",
       "      <th>5</th>\n",
       "      <th>6</th>\n",
       "      <th>7</th>\n",
       "      <th>8</th>\n",
       "      <th>9</th>\n",
       "      <th>...</th>\n",
       "      <th>9749</th>\n",
       "      <th>9750</th>\n",
       "      <th>9751</th>\n",
       "      <th>9752</th>\n",
       "      <th>9753</th>\n",
       "      <th>9754</th>\n",
       "      <th>9755</th>\n",
       "      <th>9756</th>\n",
       "      <th>9757</th>\n",
       "      <th>9758</th>\n",
       "    </tr>\n",
       "  </thead>\n",
       "  <tbody>\n",
       "    <tr>\n",
       "      <th>0</th>\n",
       "      <td>SSQNLQQSG</td>\n",
       "      <td>NaN</td>\n",
       "      <td>NaN</td>\n",
       "      <td>NaN</td>\n",
       "      <td>NaN</td>\n",
       "      <td>NaN</td>\n",
       "      <td>NaN</td>\n",
       "      <td>NaN</td>\n",
       "      <td>NaN</td>\n",
       "      <td>NaN</td>\n",
       "      <td>...</td>\n",
       "      <td>NaN</td>\n",
       "      <td>NaN</td>\n",
       "      <td>NaN</td>\n",
       "      <td>NaN</td>\n",
       "      <td>NaN</td>\n",
       "      <td>NaN</td>\n",
       "      <td>NaN</td>\n",
       "      <td>False</td>\n",
       "      <td>NaN</td>\n",
       "      <td>1.0</td>\n",
       "    </tr>\n",
       "  </tbody>\n",
       "</table>\n",
       "<p>1 rows × 9759 columns</p>\n",
       "</div>"
      ],
      "text/plain": [
       "        0     1     2     3     4     5     6     7     8     9     ...  9749  \\\n",
       "0  SSQNLQQSG   NaN   NaN   NaN   NaN   NaN   NaN   NaN   NaN   NaN  ...   NaN   \n",
       "\n",
       "   9750  9751  9752  9753  9754  9755   9756  9757  9758  \n",
       "0   NaN   NaN   NaN   NaN   NaN   NaN  False   NaN   1.0  \n",
       "\n",
       "[1 rows x 9759 columns]"
      ]
     },
     "metadata": {},
     "output_type": "display_data"
    },
    {
     "name": "stdout",
     "output_type": "stream",
     "text": [
      "9755\n",
      "(1, 9755)\n"
     ]
    },
    {
     "data": {
      "text/html": [
       "<div>\n",
       "<style scoped>\n",
       "    .dataframe tbody tr th:only-of-type {\n",
       "        vertical-align: middle;\n",
       "    }\n",
       "\n",
       "    .dataframe tbody tr th {\n",
       "        vertical-align: top;\n",
       "    }\n",
       "\n",
       "    .dataframe thead th {\n",
       "        text-align: right;\n",
       "    }\n",
       "</style>\n",
       "<table border=\"1\" class=\"dataframe\">\n",
       "  <thead>\n",
       "    <tr style=\"text-align: right;\">\n",
       "      <th></th>\n",
       "      <th>0</th>\n",
       "      <th>1</th>\n",
       "      <th>2</th>\n",
       "      <th>3</th>\n",
       "      <th>4</th>\n",
       "      <th>5</th>\n",
       "      <th>6</th>\n",
       "      <th>7</th>\n",
       "      <th>8</th>\n",
       "      <th>9</th>\n",
       "      <th>...</th>\n",
       "      <th>9749</th>\n",
       "      <th>9750</th>\n",
       "      <th>9751</th>\n",
       "      <th>9752</th>\n",
       "      <th>9753</th>\n",
       "      <th>9754</th>\n",
       "      <th>9755</th>\n",
       "      <th>9756</th>\n",
       "      <th>9757</th>\n",
       "      <th>9758</th>\n",
       "    </tr>\n",
       "  </thead>\n",
       "  <tbody>\n",
       "    <tr>\n",
       "      <th>0</th>\n",
       "      <td>QFDEGSTKD</td>\n",
       "      <td>NaN</td>\n",
       "      <td>NaN</td>\n",
       "      <td>NaN</td>\n",
       "      <td>NaN</td>\n",
       "      <td>NaN</td>\n",
       "      <td>NaN</td>\n",
       "      <td>NaN</td>\n",
       "      <td>NaN</td>\n",
       "      <td>NaN</td>\n",
       "      <td>...</td>\n",
       "      <td>NaN</td>\n",
       "      <td>NaN</td>\n",
       "      <td>NaN</td>\n",
       "      <td>NaN</td>\n",
       "      <td>NaN</td>\n",
       "      <td>NaN</td>\n",
       "      <td>NaN</td>\n",
       "      <td>False</td>\n",
       "      <td>NaN</td>\n",
       "      <td>1.0</td>\n",
       "    </tr>\n",
       "  </tbody>\n",
       "</table>\n",
       "<p>1 rows × 9759 columns</p>\n",
       "</div>"
      ],
      "text/plain": [
       "        0     1     2     3     4     5     6     7     8     9     ...  9749  \\\n",
       "0  QFDEGSTKD   NaN   NaN   NaN   NaN   NaN   NaN   NaN   NaN   NaN  ...   NaN   \n",
       "\n",
       "   9750  9751  9752  9753  9754  9755   9756  9757  9758  \n",
       "0   NaN   NaN   NaN   NaN   NaN   NaN  False   NaN   1.0  \n",
       "\n",
       "[1 rows x 9759 columns]"
      ]
     },
     "metadata": {},
     "output_type": "display_data"
    },
    {
     "name": "stdout",
     "output_type": "stream",
     "text": [
      "9755\n",
      "(1, 9755)\n"
     ]
    },
    {
     "data": {
      "text/html": [
       "<div>\n",
       "<style scoped>\n",
       "    .dataframe tbody tr th:only-of-type {\n",
       "        vertical-align: middle;\n",
       "    }\n",
       "\n",
       "    .dataframe tbody tr th {\n",
       "        vertical-align: top;\n",
       "    }\n",
       "\n",
       "    .dataframe thead th {\n",
       "        text-align: right;\n",
       "    }\n",
       "</style>\n",
       "<table border=\"1\" class=\"dataframe\">\n",
       "  <thead>\n",
       "    <tr style=\"text-align: right;\">\n",
       "      <th></th>\n",
       "      <th>0</th>\n",
       "      <th>1</th>\n",
       "      <th>2</th>\n",
       "      <th>3</th>\n",
       "      <th>4</th>\n",
       "      <th>5</th>\n",
       "      <th>6</th>\n",
       "      <th>7</th>\n",
       "      <th>8</th>\n",
       "      <th>9</th>\n",
       "      <th>...</th>\n",
       "      <th>9749</th>\n",
       "      <th>9750</th>\n",
       "      <th>9751</th>\n",
       "      <th>9752</th>\n",
       "      <th>9753</th>\n",
       "      <th>9754</th>\n",
       "      <th>9755</th>\n",
       "      <th>9756</th>\n",
       "      <th>9757</th>\n",
       "      <th>9758</th>\n",
       "    </tr>\n",
       "  </thead>\n",
       "  <tbody>\n",
       "    <tr>\n",
       "      <th>0</th>\n",
       "      <td>LQFDEGSTK</td>\n",
       "      <td>NaN</td>\n",
       "      <td>NaN</td>\n",
       "      <td>NaN</td>\n",
       "      <td>NaN</td>\n",
       "      <td>NaN</td>\n",
       "      <td>NaN</td>\n",
       "      <td>NaN</td>\n",
       "      <td>NaN</td>\n",
       "      <td>NaN</td>\n",
       "      <td>...</td>\n",
       "      <td>NaN</td>\n",
       "      <td>NaN</td>\n",
       "      <td>NaN</td>\n",
       "      <td>NaN</td>\n",
       "      <td>NaN</td>\n",
       "      <td>NaN</td>\n",
       "      <td>NaN</td>\n",
       "      <td>False</td>\n",
       "      <td>NaN</td>\n",
       "      <td>1.0</td>\n",
       "    </tr>\n",
       "  </tbody>\n",
       "</table>\n",
       "<p>1 rows × 9759 columns</p>\n",
       "</div>"
      ],
      "text/plain": [
       "        0     1     2     3     4     5     6     7     8     9     ...  9749  \\\n",
       "0  LQFDEGSTK   NaN   NaN   NaN   NaN   NaN   NaN   NaN   NaN   NaN  ...   NaN   \n",
       "\n",
       "   9750  9751  9752  9753  9754  9755   9756  9757  9758  \n",
       "0   NaN   NaN   NaN   NaN   NaN   NaN  False   NaN   1.0  \n",
       "\n",
       "[1 rows x 9759 columns]"
      ]
     },
     "metadata": {},
     "output_type": "display_data"
    },
    {
     "name": "stdout",
     "output_type": "stream",
     "text": [
      "9755\n",
      "(1, 9755)\n"
     ]
    },
    {
     "data": {
      "text/html": [
       "<div>\n",
       "<style scoped>\n",
       "    .dataframe tbody tr th:only-of-type {\n",
       "        vertical-align: middle;\n",
       "    }\n",
       "\n",
       "    .dataframe tbody tr th {\n",
       "        vertical-align: top;\n",
       "    }\n",
       "\n",
       "    .dataframe thead th {\n",
       "        text-align: right;\n",
       "    }\n",
       "</style>\n",
       "<table border=\"1\" class=\"dataframe\">\n",
       "  <thead>\n",
       "    <tr style=\"text-align: right;\">\n",
       "      <th></th>\n",
       "      <th>0</th>\n",
       "      <th>1</th>\n",
       "      <th>2</th>\n",
       "      <th>3</th>\n",
       "      <th>4</th>\n",
       "      <th>5</th>\n",
       "      <th>6</th>\n",
       "      <th>7</th>\n",
       "      <th>8</th>\n",
       "      <th>9</th>\n",
       "      <th>...</th>\n",
       "      <th>9749</th>\n",
       "      <th>9750</th>\n",
       "      <th>9751</th>\n",
       "      <th>9752</th>\n",
       "      <th>9753</th>\n",
       "      <th>9754</th>\n",
       "      <th>9755</th>\n",
       "      <th>9756</th>\n",
       "      <th>9757</th>\n",
       "      <th>9758</th>\n",
       "    </tr>\n",
       "  </thead>\n",
       "  <tbody>\n",
       "    <tr>\n",
       "      <th>0</th>\n",
       "      <td>LGPLPRQVP</td>\n",
       "      <td>NaN</td>\n",
       "      <td>NaN</td>\n",
       "      <td>NaN</td>\n",
       "      <td>NaN</td>\n",
       "      <td>NaN</td>\n",
       "      <td>NaN</td>\n",
       "      <td>NaN</td>\n",
       "      <td>NaN</td>\n",
       "      <td>NaN</td>\n",
       "      <td>...</td>\n",
       "      <td>NaN</td>\n",
       "      <td>NaN</td>\n",
       "      <td>NaN</td>\n",
       "      <td>NaN</td>\n",
       "      <td>NaN</td>\n",
       "      <td>NaN</td>\n",
       "      <td>NaN</td>\n",
       "      <td>False</td>\n",
       "      <td>NaN</td>\n",
       "      <td>1.0</td>\n",
       "    </tr>\n",
       "  </tbody>\n",
       "</table>\n",
       "<p>1 rows × 9759 columns</p>\n",
       "</div>"
      ],
      "text/plain": [
       "        0     1     2     3     4     5     6     7     8     9     ...  9749  \\\n",
       "0  LGPLPRQVP   NaN   NaN   NaN   NaN   NaN   NaN   NaN   NaN   NaN  ...   NaN   \n",
       "\n",
       "   9750  9751  9752  9753  9754  9755   9756  9757  9758  \n",
       "0   NaN   NaN   NaN   NaN   NaN   NaN  False   NaN   1.0  \n",
       "\n",
       "[1 rows x 9759 columns]"
      ]
     },
     "metadata": {},
     "output_type": "display_data"
    },
    {
     "name": "stdout",
     "output_type": "stream",
     "text": [
      "9755\n",
      "(1, 9755)\n"
     ]
    },
    {
     "data": {
      "text/html": [
       "<div>\n",
       "<style scoped>\n",
       "    .dataframe tbody tr th:only-of-type {\n",
       "        vertical-align: middle;\n",
       "    }\n",
       "\n",
       "    .dataframe tbody tr th {\n",
       "        vertical-align: top;\n",
       "    }\n",
       "\n",
       "    .dataframe thead th {\n",
       "        text-align: right;\n",
       "    }\n",
       "</style>\n",
       "<table border=\"1\" class=\"dataframe\">\n",
       "  <thead>\n",
       "    <tr style=\"text-align: right;\">\n",
       "      <th></th>\n",
       "      <th>0</th>\n",
       "      <th>1</th>\n",
       "      <th>2</th>\n",
       "      <th>3</th>\n",
       "      <th>4</th>\n",
       "      <th>5</th>\n",
       "      <th>6</th>\n",
       "      <th>7</th>\n",
       "      <th>8</th>\n",
       "      <th>9</th>\n",
       "      <th>...</th>\n",
       "      <th>9749</th>\n",
       "      <th>9750</th>\n",
       "      <th>9751</th>\n",
       "      <th>9752</th>\n",
       "      <th>9753</th>\n",
       "      <th>9754</th>\n",
       "      <th>9755</th>\n",
       "      <th>9756</th>\n",
       "      <th>9757</th>\n",
       "      <th>9758</th>\n",
       "    </tr>\n",
       "  </thead>\n",
       "  <tbody>\n",
       "    <tr>\n",
       "      <th>0</th>\n",
       "      <td>GLGPLPRQV</td>\n",
       "      <td>NaN</td>\n",
       "      <td>NaN</td>\n",
       "      <td>NaN</td>\n",
       "      <td>NaN</td>\n",
       "      <td>NaN</td>\n",
       "      <td>NaN</td>\n",
       "      <td>NaN</td>\n",
       "      <td>NaN</td>\n",
       "      <td>NaN</td>\n",
       "      <td>...</td>\n",
       "      <td>NaN</td>\n",
       "      <td>NaN</td>\n",
       "      <td>NaN</td>\n",
       "      <td>NaN</td>\n",
       "      <td>NaN</td>\n",
       "      <td>NaN</td>\n",
       "      <td>NaN</td>\n",
       "      <td>False</td>\n",
       "      <td>NaN</td>\n",
       "      <td>1.0</td>\n",
       "    </tr>\n",
       "  </tbody>\n",
       "</table>\n",
       "<p>1 rows × 9759 columns</p>\n",
       "</div>"
      ],
      "text/plain": [
       "        0     1     2     3     4     5     6     7     8     9     ...  9749  \\\n",
       "0  GLGPLPRQV   NaN   NaN   NaN   NaN   NaN   NaN   NaN   NaN   NaN  ...   NaN   \n",
       "\n",
       "   9750  9751  9752  9753  9754  9755   9756  9757  9758  \n",
       "0   NaN   NaN   NaN   NaN   NaN   NaN  False   NaN   1.0  \n",
       "\n",
       "[1 rows x 9759 columns]"
      ]
     },
     "metadata": {},
     "output_type": "display_data"
    },
    {
     "name": "stdout",
     "output_type": "stream",
     "text": [
      "9755\n",
      "(1, 9755)\n"
     ]
    },
    {
     "data": {
      "text/html": [
       "<div>\n",
       "<style scoped>\n",
       "    .dataframe tbody tr th:only-of-type {\n",
       "        vertical-align: middle;\n",
       "    }\n",
       "\n",
       "    .dataframe tbody tr th {\n",
       "        vertical-align: top;\n",
       "    }\n",
       "\n",
       "    .dataframe thead th {\n",
       "        text-align: right;\n",
       "    }\n",
       "</style>\n",
       "<table border=\"1\" class=\"dataframe\">\n",
       "  <thead>\n",
       "    <tr style=\"text-align: right;\">\n",
       "      <th></th>\n",
       "      <th>0</th>\n",
       "      <th>1</th>\n",
       "      <th>2</th>\n",
       "      <th>3</th>\n",
       "      <th>4</th>\n",
       "      <th>5</th>\n",
       "      <th>6</th>\n",
       "      <th>7</th>\n",
       "      <th>8</th>\n",
       "      <th>9</th>\n",
       "      <th>...</th>\n",
       "      <th>9749</th>\n",
       "      <th>9750</th>\n",
       "      <th>9751</th>\n",
       "      <th>9752</th>\n",
       "      <th>9753</th>\n",
       "      <th>9754</th>\n",
       "      <th>9755</th>\n",
       "      <th>9756</th>\n",
       "      <th>9757</th>\n",
       "      <th>9758</th>\n",
       "    </tr>\n",
       "  </thead>\n",
       "  <tbody>\n",
       "    <tr>\n",
       "      <th>0</th>\n",
       "      <td>NRLSVWSPW</td>\n",
       "      <td>NaN</td>\n",
       "      <td>NaN</td>\n",
       "      <td>NaN</td>\n",
       "      <td>NaN</td>\n",
       "      <td>NaN</td>\n",
       "      <td>NaN</td>\n",
       "      <td>NaN</td>\n",
       "      <td>NaN</td>\n",
       "      <td>NaN</td>\n",
       "      <td>...</td>\n",
       "      <td>NaN</td>\n",
       "      <td>NaN</td>\n",
       "      <td>NaN</td>\n",
       "      <td>NaN</td>\n",
       "      <td>NaN</td>\n",
       "      <td>NaN</td>\n",
       "      <td>NaN</td>\n",
       "      <td>False</td>\n",
       "      <td>NaN</td>\n",
       "      <td>1.0</td>\n",
       "    </tr>\n",
       "  </tbody>\n",
       "</table>\n",
       "<p>1 rows × 9759 columns</p>\n",
       "</div>"
      ],
      "text/plain": [
       "        0     1     2     3     4     5     6     7     8     9     ...  9749  \\\n",
       "0  NRLSVWSPW   NaN   NaN   NaN   NaN   NaN   NaN   NaN   NaN   NaN  ...   NaN   \n",
       "\n",
       "   9750  9751  9752  9753  9754  9755   9756  9757  9758  \n",
       "0   NaN   NaN   NaN   NaN   NaN   NaN  False   NaN   1.0  \n",
       "\n",
       "[1 rows x 9759 columns]"
      ]
     },
     "metadata": {},
     "output_type": "display_data"
    },
    {
     "name": "stdout",
     "output_type": "stream",
     "text": [
      "9755\n",
      "(1, 9755)\n"
     ]
    },
    {
     "data": {
      "text/html": [
       "<div>\n",
       "<style scoped>\n",
       "    .dataframe tbody tr th:only-of-type {\n",
       "        vertical-align: middle;\n",
       "    }\n",
       "\n",
       "    .dataframe tbody tr th {\n",
       "        vertical-align: top;\n",
       "    }\n",
       "\n",
       "    .dataframe thead th {\n",
       "        text-align: right;\n",
       "    }\n",
       "</style>\n",
       "<table border=\"1\" class=\"dataframe\">\n",
       "  <thead>\n",
       "    <tr style=\"text-align: right;\">\n",
       "      <th></th>\n",
       "      <th>0</th>\n",
       "      <th>1</th>\n",
       "      <th>2</th>\n",
       "      <th>3</th>\n",
       "      <th>4</th>\n",
       "      <th>5</th>\n",
       "      <th>6</th>\n",
       "      <th>7</th>\n",
       "      <th>8</th>\n",
       "      <th>9</th>\n",
       "      <th>...</th>\n",
       "      <th>9749</th>\n",
       "      <th>9750</th>\n",
       "      <th>9751</th>\n",
       "      <th>9752</th>\n",
       "      <th>9753</th>\n",
       "      <th>9754</th>\n",
       "      <th>9755</th>\n",
       "      <th>9756</th>\n",
       "      <th>9757</th>\n",
       "      <th>9758</th>\n",
       "    </tr>\n",
       "  </thead>\n",
       "  <tbody>\n",
       "    <tr>\n",
       "      <th>0</th>\n",
       "      <td>QREPGRAPG</td>\n",
       "      <td>NaN</td>\n",
       "      <td>NaN</td>\n",
       "      <td>NaN</td>\n",
       "      <td>NaN</td>\n",
       "      <td>NaN</td>\n",
       "      <td>NaN</td>\n",
       "      <td>NaN</td>\n",
       "      <td>NaN</td>\n",
       "      <td>NaN</td>\n",
       "      <td>...</td>\n",
       "      <td>NaN</td>\n",
       "      <td>NaN</td>\n",
       "      <td>NaN</td>\n",
       "      <td>NaN</td>\n",
       "      <td>NaN</td>\n",
       "      <td>NaN</td>\n",
       "      <td>NaN</td>\n",
       "      <td>False</td>\n",
       "      <td>NaN</td>\n",
       "      <td>1.0</td>\n",
       "    </tr>\n",
       "  </tbody>\n",
       "</table>\n",
       "<p>1 rows × 9759 columns</p>\n",
       "</div>"
      ],
      "text/plain": [
       "        0     1     2     3     4     5     6     7     8     9     ...  9749  \\\n",
       "0  QREPGRAPG   NaN   NaN   NaN   NaN   NaN   NaN   NaN   NaN   NaN  ...   NaN   \n",
       "\n",
       "   9750  9751  9752  9753  9754  9755   9756  9757  9758  \n",
       "0   NaN   NaN   NaN   NaN   NaN   NaN  False   NaN   1.0  \n",
       "\n",
       "[1 rows x 9759 columns]"
      ]
     },
     "metadata": {},
     "output_type": "display_data"
    }
   ],
   "source": [
    "#16 cases\n",
    "case3 = [ instance[0] for instance in not_empty_rf_annot if instance[1] == 1 ]\n",
    "for path in case3:\n",
    "    test_case3 = pd.read_csv(path, header = None)\n",
    "\n",
    "    print(np.sum(test_case3.iloc[:, 1:9756].isna().iloc[0, :]))\n",
    "\n",
    "    print(test_case3.iloc[:, 1:9756].isna().shape)\n",
    "\n",
    "    display(test_case3)"
   ]
  },
  {
   "cell_type": "markdown",
   "metadata": {
    "ExecuteTime": {
     "end_time": "2022-08-29T17:38:22.041652Z",
     "start_time": "2022-08-29T17:38:21.993698Z"
    }
   },
   "source": [
    "# Extract the junction coordinates from the BRCA problematic kmers "
   ]
  },
  {
   "cell_type": "code",
   "execution_count": 57,
   "metadata": {
    "ExecuteTime": {
     "end_time": "2022-08-30T14:44:32.225401Z",
     "start_time": "2022-08-30T14:44:32.168930Z"
    }
   },
   "outputs": [],
   "source": [
    "path_kmers_debug_metadata = '/cluster/work/grlab/projects/projects2020_OHSU/peptides_generation/commit_v3_TEST_merged3_372a147_medium_run_conf2_annotFrame_cap0_runs/TCGA_Breast_1102/test_debug'"
   ]
  },
  {
   "cell_type": "code",
   "execution_count": 26,
   "metadata": {
    "ExecuteTime": {
     "end_time": "2022-09-02T11:33:44.274160Z",
     "start_time": "2022-09-02T11:33:44.263964Z"
    },
    "collapsed": true
   },
   "outputs": [
    {
     "data": {
      "text/plain": [
       "['LHYLCAVPS',\n",
       " 'LCAVPSSHQ',\n",
       " 'YLCAVPSSH',\n",
       " 'CAVPSSHQC',\n",
       " 'HYLCAVPSS',\n",
       " 'IQRKDPQCR',\n",
       " 'TIQRKDPQC',\n",
       " 'KDPQCRRKR',\n",
       " 'RKDPQCRRK',\n",
       " 'RTIQRKDPQ',\n",
       " 'QRKDPQCRR',\n",
       " 'DPQCRRKRE',\n",
       " 'LQVILPVTQ',\n",
       " 'QNPMRMVVR',\n",
       " 'PVTQNPMRM',\n",
       " 'ILPVTQNPM',\n",
       " 'QVILPVTQN',\n",
       " 'VILPVTQNP',\n",
       " 'VTQNPMRMV',\n",
       " 'TQNPMRMVV',\n",
       " 'LPVTQNPMR',\n",
       " 'APVAGDSAP',\n",
       " 'EFFAPVAGD',\n",
       " 'FFAPVAGDS',\n",
       " 'FAPVAGDSA',\n",
       " 'QEFFAPVAG',\n",
       " 'PVAGDSAPE',\n",
       " 'TFYLSCWGT',\n",
       " 'LSCWGTMTR',\n",
       " 'SCWGTMTRS',\n",
       " 'YLSCWGTMT',\n",
       " 'FYLSCWGTM',\n",
       " 'LRRRVQERP',\n",
       " 'LLRRRVQER',\n",
       " 'HLLLRRRVQ',\n",
       " 'LLLRRRVQE',\n",
       " 'ACWGRRPAR',\n",
       " 'GPGIDAAQA',\n",
       " 'DAAQAVSGP',\n",
       " 'AQAVSGPGG',\n",
       " 'GIDAAQAVS',\n",
       " 'AAQAVSGPG',\n",
       " 'PGIDAAQAV',\n",
       " 'IDAAQAVSG',\n",
       " 'ATQLFQSSS',\n",
       " 'TQLFQSSSL',\n",
       " 'WATQLFQSS',\n",
       " 'LVCGLFHQQ',\n",
       " 'VCGLFHQQP',\n",
       " 'CGLFHQQPL',\n",
       " 'CDCLSLQLP',\n",
       " 'SLQLPFYGR',\n",
       " 'LSLQLPFYG',\n",
       " 'RAPKCAPAQ',\n",
       " 'EPRAPKCAP',\n",
       " 'APKCAPAQT',\n",
       " 'QCQPVLPAG',\n",
       " 'LQLPFYGRG',\n",
       " 'CLSLQLPFY',\n",
       " 'LCDCLSLQL',\n",
       " 'DCLSLQLPF',\n",
       " 'PRAPKCAPA',\n",
       " 'LAGWPGCHG',\n",
       " 'LLLLAGWPG',\n",
       " 'LLLAGWPGC',\n",
       " 'LLAGWPGCH',\n",
       " 'QLLLLAGWP',\n",
       " 'QRRWDSQQV',\n",
       " 'RRWDSQQVR',\n",
       " 'AGGSPGSGL',\n",
       " 'GGSPGSGLL',\n",
       " 'HRAGGSPGS',\n",
       " 'RAGGSPGSG',\n",
       " 'PPLMSRSMR',\n",
       " 'MSRSMRPLS',\n",
       " 'RSPPLMSRS',\n",
       " 'SPPLMSRSM',\n",
       " 'LMSRSMRPL',\n",
       " 'PLMSRSMRP',\n",
       " 'GGGRSAHLL',\n",
       " 'RGGGRSAHL',\n",
       " 'GGRSAHLLG',\n",
       " 'PGHPQGAAV',\n",
       " 'SAPGHPQGA',\n",
       " 'APGHPQGAA',\n",
       " 'SITTTVTGL',\n",
       " 'WSITTTVTI',\n",
       " 'TILPLWWSP',\n",
       " 'SITTTVTIL',\n",
       " 'SITTTVTPR',\n",
       " 'TVTILPLWW',\n",
       " 'TGLTYCREG',\n",
       " 'TVTGLTYCR',\n",
       " 'VTILPLWWS',\n",
       " 'ITTTVTILP',\n",
       " 'ITTTVTGLT',\n",
       " 'WSITTTVTP',\n",
       " 'TTTVTILPL',\n",
       " 'VTGLTYCRE',\n",
       " 'TTVTILPLW',\n",
       " 'TTTVTGLTY',\n",
       " 'TTVTGLTYC',\n",
       " 'WSITTTVTG',\n",
       " 'DQHPSAPAG',\n",
       " 'EFQDICERY',\n",
       " 'WSGQRVSGS',\n",
       " 'QDICERQFK',\n",
       " 'HSWSGQRVS',\n",
       " 'FQDICERQF',\n",
       " 'FQDICERYL',\n",
       " 'SWSGQRVSG',\n",
       " 'DICERYLLY',\n",
       " 'EFQDICERQ',\n",
       " 'GHSWSGQRV',\n",
       " 'QDICERYLL',\n",
       " 'FMLMKVRKI',\n",
       " 'LMKVRKIAL',\n",
       " 'MKVRKIALN',\n",
       " 'KVRKIALNA',\n",
       " 'MLMKVRKIA',\n",
       " 'DFMLMKVRK',\n",
       " 'YSESKRIMR',\n",
       " 'SKHTCLRYR',\n",
       " 'ESEDFLMVQ',\n",
       " 'PESEDFLMV',\n",
       " 'NPESEDFLM',\n",
       " 'LNPESEDFL',\n",
       " 'CTDGGDWLS',\n",
       " 'KCTDGGDWL',\n",
       " 'LKCTDGGDW',\n",
       " 'TDGGDWLSG',\n",
       " 'PEASSTCPK',\n",
       " 'RVPEASSTC',\n",
       " 'EASSTCPKC',\n",
       " 'VPEASSTCP',\n",
       " 'WSTRVMPRT',\n",
       " 'SWSTRVMPR',\n",
       " 'STRVMPRTP',\n",
       " 'TKHYWLLEM',\n",
       " 'ALGVISLKF',\n",
       " 'LGVISLKFS',\n",
       " 'QALGVISLK',\n",
       " 'RKPSRNSIT',\n",
       " 'KPSRNSITW',\n",
       " 'PSRNSITWT',\n",
       " 'ARKPSRNSI',\n",
       " 'FCPWPGLLQ',\n",
       " 'CPWPGLLQL',\n",
       " 'LSGSANINR',\n",
       " 'RRLSGSANI',\n",
       " 'YRRRLSGSA',\n",
       " 'RLSGSANIN',\n",
       " 'RRRLSGSAN',\n",
       " 'SGSANINRC',\n",
       " 'YDFRKSSSQ',\n",
       " 'RKSSSQPPS',\n",
       " 'FRKSSSQPP',\n",
       " 'DFRKSSSQP',\n",
       " 'RAHFKFIRC',\n",
       " 'YLVSLGQVT',\n",
       " 'LYLVSLGQV',\n",
       " 'LVSLGQVTT',\n",
       " 'SAMMYCLFW',\n",
       " 'LKEEIGGSQ',\n",
       " 'LKEEIGGKV',\n",
       " 'FLKEEIGGS',\n",
       " 'KEEIGGSQL',\n",
       " 'IGGSQLRTV',\n",
       " 'GGSQLRTVV',\n",
       " 'EIGGSQLRT',\n",
       " 'EEIGGSQLR',\n",
       " 'GSQLRTVVN',\n",
       " 'VFLKEEIGG',\n",
       " 'QHASWSPGQ',\n",
       " 'SWSPGQRHD',\n",
       " 'HASWSPGQR',\n",
       " 'ASWSPGQRH',\n",
       " 'QRPPSQPSK',\n",
       " 'RPPSQPSKP',\n",
       " 'RQRPPSQPS',\n",
       " 'MQVHVTVAG',\n",
       " 'LMQVHVTVA',\n",
       " 'SSALMQVHV',\n",
       " 'ALMQVHVTV',\n",
       " 'TSSALMQVH',\n",
       " 'SALMQVHVT',\n",
       " 'KQRPWESLS',\n",
       " 'KQIQVRKAA',\n",
       " 'NKQIQVRKA',\n",
       " 'NKQRPWESL',\n",
       " 'LVGRIQYGT',\n",
       " 'MLALVGRIQ',\n",
       " 'LALVGRIQY',\n",
       " 'ALVGRIQYG',\n",
       " 'VGRIQYGTT',\n",
       " 'RIQYGTTFL',\n",
       " 'GRIQYGTTF',\n",
       " 'TVYSRRDPR',\n",
       " 'GCCLPGSSA',\n",
       " 'QRASRGLEP',\n",
       " 'GLEPPLLRL',\n",
       " 'QRASRGCCR',\n",
       " 'RASRGCCLP',\n",
       " 'RGCCLPGSS',\n",
       " 'SRGLEPPLL',\n",
       " 'RGLEPPLLR',\n",
       " 'RASRGCCRG',\n",
       " 'QRASRGCCL',\n",
       " 'RASRGLEPP',\n",
       " 'ASRGCCRGC',\n",
       " 'GQRASRGCC',\n",
       " 'GCCRGCCVL',\n",
       " 'GGQRASRGL',\n",
       " 'RGCCRGCCV',\n",
       " 'SRGCCRGCC',\n",
       " 'ASRGCCLPG',\n",
       " 'SRGCCLPGS',\n",
       " 'CGGQRASRG',\n",
       " 'GGQRASRGC',\n",
       " 'GQRASRGLE',\n",
       " 'ASRGLEPPL',\n",
       " 'PSNMPIFTR',\n",
       " 'SLAAPLQTM',\n",
       " 'ALPLMSSER',\n",
       " 'MSASRWTAA',\n",
       " 'ASRWTAARN',\n",
       " 'RWTAARNQL',\n",
       " 'SRWTAARNQ',\n",
       " 'SASRWTAAR',\n",
       " 'AELLANPVP',\n",
       " 'ELLANPVPR',\n",
       " 'RAELLANPV',\n",
       " 'LANPVPRFR',\n",
       " 'LLANPVPRF',\n",
       " 'GALGSTESR',\n",
       " 'GSTESRGSI',\n",
       " 'AGLGALGST',\n",
       " 'LGSTESRGS',\n",
       " 'GLGALGSTE',\n",
       " 'AEAGLGALG',\n",
       " 'LGALGSTES',\n",
       " 'EAGLGALGS',\n",
       " 'ALGSTESRG',\n",
       " 'PSLEQWSWP',\n",
       " 'QWSWPPSTA',\n",
       " 'SLEQWSWPP',\n",
       " 'LEQWSWPPS',\n",
       " 'WSWPPSTAG',\n",
       " 'EQWSWPPST',\n",
       " 'LLCDLLEKA',\n",
       " 'VLLCDLLEK',\n",
       " 'CDLLEKAVF',\n",
       " 'LCDLLEKAV',\n",
       " 'GCWPSIMMT',\n",
       " 'WPSIMMTHS',\n",
       " 'GAGCWPSIM',\n",
       " 'CWPSIMMTH',\n",
       " 'TGAGCWPSI',\n",
       " 'PSIMMTHSP',\n",
       " 'SIMMTHSPP',\n",
       " 'AGCWPSIMM',\n",
       " 'MTGAGCWPS',\n",
       " 'NLIIICMAR',\n",
       " 'YSSLSQKSS',\n",
       " 'LYSSLSQKS',\n",
       " 'SLSQKSSTH',\n",
       " 'SSLSQKSST',\n",
       " 'TLLRFRFDL',\n",
       " 'SVLWGHGGD',\n",
       " 'GHGGDPRRQ',\n",
       " 'VSVLWGHGG',\n",
       " 'LWGHGGDPR',\n",
       " 'LVSVLWGHG',\n",
       " 'WGHGGDPRR',\n",
       " 'GGDPRRQGC',\n",
       " 'VLWGHGGDP',\n",
       " 'HGGDPRRQG',\n",
       " 'QPALSREST',\n",
       " 'PALSRESTY',\n",
       " 'QQPALSRES',\n",
       " 'SQQPALSRE',\n",
       " 'RGSGSHKNA',\n",
       " 'SGSHKNAAR',\n",
       " 'GSHKNAARS',\n",
       " 'GSGSHKNAA',\n",
       " 'HKNAARSSY',\n",
       " 'RGSGSHTRG',\n",
       " 'SHKNAARSS',\n",
       " 'AAAKTYEPY',\n",
       " 'AKTYEPYHL',\n",
       " 'IFAAAKTYE',\n",
       " 'KTYEPYHLH',\n",
       " 'FAAAKTYEP',\n",
       " 'AAKTYEPYH',\n",
       " 'PIFAAAKTY',\n",
       " 'SLEDYAGRR',\n",
       " 'SAGGECDAE',\n",
       " 'GGECDAEED',\n",
       " 'IAQSAGGEC',\n",
       " 'AQSAGGECD',\n",
       " 'QSAGGECDA',\n",
       " 'AGGECDAEE',\n",
       " 'AESENGRDT',\n",
       " 'ATNGAGVTV',\n",
       " 'TNGAESENG',\n",
       " 'AVAPQVGRR',\n",
       " 'ESENGRDTG',\n",
       " 'AGVTVYRLF',\n",
       " 'NGAESENGR',\n",
       " 'GAVAPQVGR',\n",
       " 'ATNGAESEN',\n",
       " 'TNGAGVTVY',\n",
       " 'ATNGAVAPQ',\n",
       " 'GAESENGRD',\n",
       " 'TNGAVAPQV',\n",
       " 'NGAVAPQVG',\n",
       " 'GAGVTVYRL',\n",
       " 'NGAGVTVYR',\n",
       " 'ISPPQYCGL',\n",
       " 'SPPQYCGLS',\n",
       " 'PQYCGLSPR',\n",
       " 'PPQYCGLSP',\n",
       " 'QYCGLSPRK',\n",
       " 'FISPPQYCG',\n",
       " 'VRHLPGSSG',\n",
       " 'RVRHLPGSS',\n",
       " 'PGSSGAGDE',\n",
       " 'RHLPGSSGA',\n",
       " 'LPGSSGAGD',\n",
       " 'HLPGSSGAG',\n",
       " 'SCPRFKISK',\n",
       " 'WRSCPRFKI',\n",
       " 'ASWRSCPRF',\n",
       " 'ASWRSCPSA',\n",
       " 'CPRFKISKV',\n",
       " 'PRFKISKVI',\n",
       " 'RSCPRFKIS',\n",
       " 'SWRSCPRFK',\n",
       " 'GALMQVTAL',\n",
       " 'QFIMGALMQ',\n",
       " 'FIMGALMQV',\n",
       " 'TCQFIMGAL',\n",
       " 'CQFIMGALM',\n",
       " 'IMGALMQVT',\n",
       " 'MGALMQVTA',\n",
       " 'NTCQFIMGA',\n",
       " 'ILQERYAVE',\n",
       " 'TILQERYAV',\n",
       " 'TLRLSSWIW',\n",
       " 'LRLSSWIWR',\n",
       " 'STLRLSSWI',\n",
       " 'GRSTLRLSS',\n",
       " 'RSTLRLSSW',\n",
       " 'RLSSWIWRR',\n",
       " 'GRIWKRIAG',\n",
       " 'EEADADSHG',\n",
       " 'STQASSSGA',\n",
       " 'TQASSSGAQ',\n",
       " 'QASSSGAQL',\n",
       " 'KRQRNPGLL',\n",
       " 'EKRQRNPGL',\n",
       " 'MEKRQRNPG',\n",
       " 'RQRNPGLLT',\n",
       " 'SDRVVSPSR',\n",
       " 'LLDAEPKPE',\n",
       " 'LDAEPKPEL',\n",
       " 'ALLDAEPKP',\n",
       " 'PALLDAEPK',\n",
       " 'GVSSQQTGC',\n",
       " 'SGRLMGHSL',\n",
       " 'LSGRLMGHS',\n",
       " 'GRLMGHSLL',\n",
       " 'LMGHSLLPP',\n",
       " 'RLSGRLMGH',\n",
       " 'RLMGHSLLP',\n",
       " 'ALRFNLHRA',\n",
       " 'RFNLHRAKF',\n",
       " 'LRFNLHRAK',\n",
       " 'LALRFNLHR',\n",
       " 'WSPACALHQ',\n",
       " 'ISGAPEWSP',\n",
       " 'PEWSPACAL',\n",
       " 'GAPEWSPAC',\n",
       " 'PISGAPEWS',\n",
       " 'SGAPEWSPA',\n",
       " 'EWSPACALH',\n",
       " 'APEWSPACA',\n",
       " 'DPISGAPEW',\n",
       " 'REIQILRKM',\n",
       " 'IQILRKMNP',\n",
       " 'EIQILRKMN',\n",
       " 'IREIQILRK',\n",
       " 'EGMPAKRQA',\n",
       " 'EREGMPAKR',\n",
       " 'KEREGMPAK',\n",
       " 'REGMPAKRQ',\n",
       " 'GMPAKRQAL',\n",
       " 'DLQFDEGST',\n",
       " 'ADPKVNPLR',\n",
       " 'AADPKVNPL',\n",
       " 'SQPFPPQSR',\n",
       " 'EEEASPHQV',\n",
       " 'TRGIGRTKS',\n",
       " 'ETRGIGRTK',\n",
       " 'RGIGRTKSG',\n",
       " 'IGRTKSGGD',\n",
       " 'GIGRTKSGG',\n",
       " 'TSHQSPAYR',\n",
       " 'TKTSHQSPA',\n",
       " 'KTSHQSPAY',\n",
       " 'IPRLLATAS',\n",
       " 'TIPRLLATA',\n",
       " 'RLLATASSW',\n",
       " 'PRLLATASS',\n",
       " 'ATASSWGKP',\n",
       " 'LLATASSWG',\n",
       " 'LATASSWGK',\n",
       " 'TASSWGKPQ',\n",
       " 'ICQGKAEFE',\n",
       " 'CQGKAEFEE',\n",
       " 'RNRLSVWSP',\n",
       " 'TPRNRLSVW',\n",
       " 'PRNRLSVWS',\n",
       " 'GTAVCMADS',\n",
       " 'LGTAVCMAD',\n",
       " 'GSGSCPSPG',\n",
       " 'ASQCCPADG',\n",
       " 'SQCCPADGR',\n",
       " 'REPRRKYND',\n",
       " 'REPRRKWLI',\n",
       " 'KWLIHFLRK',\n",
       " 'KREPRRKWL',\n",
       " 'EPRRKWLIH',\n",
       " 'RRKWLIHFL',\n",
       " 'KREPRRKYN',\n",
       " 'WLIHFLRKI',\n",
       " 'PRRKWLIHF',\n",
       " 'RKWLIHFLR',\n",
       " 'FWKSILVGK',\n",
       " 'KSILVGKKF',\n",
       " 'WKSILVGKK']"
      ]
     },
     "execution_count": 26,
     "metadata": {},
     "output_type": "execute_result"
    }
   ],
   "source": [
    "empty_missing_gtex_kmers"
   ]
  },
  {
   "cell_type": "code",
   "execution_count": 33,
   "metadata": {
    "ExecuteTime": {
     "end_time": "2022-09-02T12:05:02.410403Z",
     "start_time": "2022-09-02T12:05:02.399954Z"
    }
   },
   "outputs": [],
   "source": [
    "not_GTEX = pd.DataFrame(empty_missing_gtex_kmers, columns = ['kmer_highExprRec_notGTExOutput'])"
   ]
  },
  {
   "cell_type": "code",
   "execution_count": 35,
   "metadata": {
    "ExecuteTime": {
     "end_time": "2022-09-02T12:06:51.538360Z",
     "start_time": "2022-09-02T12:06:51.529142Z"
    }
   },
   "outputs": [
    {
     "data": {
      "text/html": [
       "<div>\n",
       "<style scoped>\n",
       "    .dataframe tbody tr th:only-of-type {\n",
       "        vertical-align: middle;\n",
       "    }\n",
       "\n",
       "    .dataframe tbody tr th {\n",
       "        vertical-align: top;\n",
       "    }\n",
       "\n",
       "    .dataframe thead th {\n",
       "        text-align: right;\n",
       "    }\n",
       "</style>\n",
       "<table border=\"1\" class=\"dataframe\">\n",
       "  <thead>\n",
       "    <tr style=\"text-align: right;\">\n",
       "      <th></th>\n",
       "      <th>kmer_highExprRec_notGTExOutput</th>\n",
       "    </tr>\n",
       "  </thead>\n",
       "  <tbody>\n",
       "    <tr>\n",
       "      <th>0</th>\n",
       "      <td>LHYLCAVPS</td>\n",
       "    </tr>\n",
       "    <tr>\n",
       "      <th>1</th>\n",
       "      <td>LCAVPSSHQ</td>\n",
       "    </tr>\n",
       "    <tr>\n",
       "      <th>2</th>\n",
       "      <td>YLCAVPSSH</td>\n",
       "    </tr>\n",
       "    <tr>\n",
       "      <th>3</th>\n",
       "      <td>CAVPSSHQC</td>\n",
       "    </tr>\n",
       "    <tr>\n",
       "      <th>4</th>\n",
       "      <td>HYLCAVPSS</td>\n",
       "    </tr>\n",
       "  </tbody>\n",
       "</table>\n",
       "</div>"
      ],
      "text/plain": [
       "  kmer_highExprRec_notGTExOutput\n",
       "0                      LHYLCAVPS\n",
       "1                      LCAVPSSHQ\n",
       "2                      YLCAVPSSH\n",
       "3                      CAVPSSHQC\n",
       "4                      HYLCAVPSS"
      ]
     },
     "execution_count": 35,
     "metadata": {},
     "output_type": "execute_result"
    }
   ],
   "source": [
    "not_GTEX.head()"
   ]
  },
  {
   "cell_type": "code",
   "execution_count": 37,
   "metadata": {
    "ExecuteTime": {
     "end_time": "2022-09-02T12:06:58.792289Z",
     "start_time": "2022-09-02T12:06:58.785008Z"
    }
   },
   "outputs": [
    {
     "data": {
      "text/plain": [
       "(441, 1)"
      ]
     },
     "execution_count": 37,
     "metadata": {},
     "output_type": "execute_result"
    }
   ],
   "source": [
    "not_GTEX.shape"
   ]
  },
  {
   "cell_type": "code",
   "execution_count": 36,
   "metadata": {
    "ExecuteTime": {
     "end_time": "2022-09-02T12:06:52.227590Z",
     "start_time": "2022-09-02T12:06:52.224472Z"
    }
   },
   "outputs": [],
   "source": [
    "path_not_GTEX = '/cluster/work/grlab/projects/projects2020_OHSU/peptides_generation/commit_v3_TEST_merged3_372a147_medium_run_conf2_annotFrame_cap0_runs/TCGA_Breast_1102/test_debug/kmer_highExprRec_notGTExOutput.txt'"
   ]
  },
  {
   "cell_type": "code",
   "execution_count": 38,
   "metadata": {
    "ExecuteTime": {
     "end_time": "2022-09-02T12:07:23.919725Z",
     "start_time": "2022-09-02T12:07:23.830232Z"
    }
   },
   "outputs": [],
   "source": [
    "not_GTEX.to_csv(path_not_GTEX, index = None)"
   ]
  },
  {
   "cell_type": "code",
   "execution_count": null,
   "metadata": {},
   "outputs": [],
   "source": []
  },
  {
   "cell_type": "code",
   "execution_count": null,
   "metadata": {},
   "outputs": [],
   "source": []
  },
  {
   "cell_type": "code",
   "execution_count": 56,
   "metadata": {
    "ExecuteTime": {
     "end_time": "2022-08-30T14:42:47.210147Z",
     "start_time": "2022-08-30T14:42:47.193225Z"
    }
   },
   "outputs": [
    {
     "data": {
      "text/plain": [
       "239"
      ]
     },
     "execution_count": 56,
     "metadata": {},
     "output_type": "execute_result"
    }
   ],
   "source": [
    "len(empty_missing_gtex_kmers)"
   ]
  },
  {
   "cell_type": "code",
   "execution_count": 59,
   "metadata": {
    "ExecuteTime": {
     "end_time": "2022-08-30T14:45:02.722203Z",
     "start_time": "2022-08-30T14:45:02.710042Z"
    }
   },
   "outputs": [],
   "source": [
    "kmer = empty_missing_gtex_kmers[0]"
   ]
  },
  {
   "cell_type": "code",
   "execution_count": 61,
   "metadata": {
    "ExecuteTime": {
     "end_time": "2022-08-30T14:45:14.399520Z",
     "start_time": "2022-08-30T14:45:14.392689Z"
    }
   },
   "outputs": [
    {
     "data": {
      "text/plain": [
       "'/cluster/work/grlab/projects/projects2020_OHSU/peptides_generation/commit_v3_TEST_merged3_372a147_medium_run_conf2_annotFrame_cap0_runs/TCGA_Breast_1102/test_debug/LHYLCAVPS_peptides.txt'"
      ]
     },
     "execution_count": 61,
     "metadata": {},
     "output_type": "execute_result"
    }
   ],
   "source": [
    "os.path.join(path_kmers_debug_metadata, kmer + '_peptides.txt')"
   ]
  },
  {
   "cell_type": "code",
   "execution_count": 65,
   "metadata": {
    "ExecuteTime": {
     "end_time": "2022-08-30T14:47:14.755983Z",
     "start_time": "2022-08-30T14:47:14.610119Z"
    },
    "collapsed": true
   },
   "outputs": [
    {
     "name": "stdout",
     "output_type": "stream",
     "text": [
      "/cluster/work/grlab/projects/projects2020_OHSU/peptides_generation/commit_v3_TEST_merged3_372a147_medium_run_conf2_annotFrame_cap0_runs/TCGA_Breast_1102/test_debug/LHYLCAVPS_peptides.txt\n"
     ]
    },
    {
     "ename": "ParserError",
     "evalue": "Error tokenizing data. C error: EOF inside string starting at row 1",
     "output_type": "error",
     "traceback": [
      "\u001b[0;31m---------------------------------------------------------------------------\u001b[0m",
      "\u001b[0;31mParserError\u001b[0m                               Traceback (most recent call last)",
      "\u001b[0;32m<ipython-input-65-82359ab42279>\u001b[0m in \u001b[0;36m<module>\u001b[0;34m\u001b[0m\n\u001b[1;32m      1\u001b[0m \u001b[0mpath_meta_kmer\u001b[0m \u001b[0;34m=\u001b[0m \u001b[0mos\u001b[0m\u001b[0;34m.\u001b[0m\u001b[0mpath\u001b[0m\u001b[0;34m.\u001b[0m\u001b[0mjoin\u001b[0m\u001b[0;34m(\u001b[0m\u001b[0mpath_kmers_debug_metadata\u001b[0m\u001b[0;34m,\u001b[0m \u001b[0mkmer\u001b[0m \u001b[0;34m+\u001b[0m \u001b[0;34m'_peptides.txt'\u001b[0m\u001b[0;34m)\u001b[0m\u001b[0;34m\u001b[0m\u001b[0;34m\u001b[0m\u001b[0m\n\u001b[1;32m      2\u001b[0m \u001b[0mprint\u001b[0m\u001b[0;34m(\u001b[0m\u001b[0mpath_meta_kmer\u001b[0m\u001b[0;34m)\u001b[0m\u001b[0;34m\u001b[0m\u001b[0;34m\u001b[0m\u001b[0m\n\u001b[0;32m----> 3\u001b[0;31m meta_kmer = pd.read_csv(path_meta_kmer, \n\u001b[0m\u001b[1;32m      4\u001b[0m                        usecols=[2,3])\n",
      "\u001b[0;32m~/software/anaconda3/envs/myimmuno3_light/lib/python3.8/site-packages/pandas/io/parsers.py\u001b[0m in \u001b[0;36mread_csv\u001b[0;34m(filepath_or_buffer, sep, delimiter, header, names, index_col, usecols, squeeze, prefix, mangle_dupe_cols, dtype, engine, converters, true_values, false_values, skipinitialspace, skiprows, skipfooter, nrows, na_values, keep_default_na, na_filter, verbose, skip_blank_lines, parse_dates, infer_datetime_format, keep_date_col, date_parser, dayfirst, cache_dates, iterator, chunksize, compression, thousands, decimal, lineterminator, quotechar, quoting, doublequote, escapechar, comment, encoding, dialect, error_bad_lines, warn_bad_lines, delim_whitespace, low_memory, memory_map, float_precision)\u001b[0m\n\u001b[1;32m    686\u001b[0m     )\n\u001b[1;32m    687\u001b[0m \u001b[0;34m\u001b[0m\u001b[0m\n\u001b[0;32m--> 688\u001b[0;31m     \u001b[0;32mreturn\u001b[0m \u001b[0m_read\u001b[0m\u001b[0;34m(\u001b[0m\u001b[0mfilepath_or_buffer\u001b[0m\u001b[0;34m,\u001b[0m \u001b[0mkwds\u001b[0m\u001b[0;34m)\u001b[0m\u001b[0;34m\u001b[0m\u001b[0;34m\u001b[0m\u001b[0m\n\u001b[0m\u001b[1;32m    689\u001b[0m \u001b[0;34m\u001b[0m\u001b[0m\n\u001b[1;32m    690\u001b[0m \u001b[0;34m\u001b[0m\u001b[0m\n",
      "\u001b[0;32m~/software/anaconda3/envs/myimmuno3_light/lib/python3.8/site-packages/pandas/io/parsers.py\u001b[0m in \u001b[0;36m_read\u001b[0;34m(filepath_or_buffer, kwds)\u001b[0m\n\u001b[1;32m    452\u001b[0m \u001b[0;34m\u001b[0m\u001b[0m\n\u001b[1;32m    453\u001b[0m     \u001b[0;31m# Create the parser.\u001b[0m\u001b[0;34m\u001b[0m\u001b[0;34m\u001b[0m\u001b[0;34m\u001b[0m\u001b[0m\n\u001b[0;32m--> 454\u001b[0;31m     \u001b[0mparser\u001b[0m \u001b[0;34m=\u001b[0m \u001b[0mTextFileReader\u001b[0m\u001b[0;34m(\u001b[0m\u001b[0mfp_or_buf\u001b[0m\u001b[0;34m,\u001b[0m \u001b[0;34m**\u001b[0m\u001b[0mkwds\u001b[0m\u001b[0;34m)\u001b[0m\u001b[0;34m\u001b[0m\u001b[0;34m\u001b[0m\u001b[0m\n\u001b[0m\u001b[1;32m    455\u001b[0m \u001b[0;34m\u001b[0m\u001b[0m\n\u001b[1;32m    456\u001b[0m     \u001b[0;32mif\u001b[0m \u001b[0mchunksize\u001b[0m \u001b[0;32mor\u001b[0m \u001b[0miterator\u001b[0m\u001b[0;34m:\u001b[0m\u001b[0;34m\u001b[0m\u001b[0;34m\u001b[0m\u001b[0m\n",
      "\u001b[0;32m~/software/anaconda3/envs/myimmuno3_light/lib/python3.8/site-packages/pandas/io/parsers.py\u001b[0m in \u001b[0;36m__init__\u001b[0;34m(self, f, engine, **kwds)\u001b[0m\n\u001b[1;32m    946\u001b[0m             \u001b[0mself\u001b[0m\u001b[0;34m.\u001b[0m\u001b[0moptions\u001b[0m\u001b[0;34m[\u001b[0m\u001b[0;34m\"has_index_names\"\u001b[0m\u001b[0;34m]\u001b[0m \u001b[0;34m=\u001b[0m \u001b[0mkwds\u001b[0m\u001b[0;34m[\u001b[0m\u001b[0;34m\"has_index_names\"\u001b[0m\u001b[0;34m]\u001b[0m\u001b[0;34m\u001b[0m\u001b[0;34m\u001b[0m\u001b[0m\n\u001b[1;32m    947\u001b[0m \u001b[0;34m\u001b[0m\u001b[0m\n\u001b[0;32m--> 948\u001b[0;31m         \u001b[0mself\u001b[0m\u001b[0;34m.\u001b[0m\u001b[0m_make_engine\u001b[0m\u001b[0;34m(\u001b[0m\u001b[0mself\u001b[0m\u001b[0;34m.\u001b[0m\u001b[0mengine\u001b[0m\u001b[0;34m)\u001b[0m\u001b[0;34m\u001b[0m\u001b[0;34m\u001b[0m\u001b[0m\n\u001b[0m\u001b[1;32m    949\u001b[0m \u001b[0;34m\u001b[0m\u001b[0m\n\u001b[1;32m    950\u001b[0m     \u001b[0;32mdef\u001b[0m \u001b[0mclose\u001b[0m\u001b[0;34m(\u001b[0m\u001b[0mself\u001b[0m\u001b[0;34m)\u001b[0m\u001b[0;34m:\u001b[0m\u001b[0;34m\u001b[0m\u001b[0;34m\u001b[0m\u001b[0m\n",
      "\u001b[0;32m~/software/anaconda3/envs/myimmuno3_light/lib/python3.8/site-packages/pandas/io/parsers.py\u001b[0m in \u001b[0;36m_make_engine\u001b[0;34m(self, engine)\u001b[0m\n\u001b[1;32m   1178\u001b[0m     \u001b[0;32mdef\u001b[0m \u001b[0m_make_engine\u001b[0m\u001b[0;34m(\u001b[0m\u001b[0mself\u001b[0m\u001b[0;34m,\u001b[0m \u001b[0mengine\u001b[0m\u001b[0;34m=\u001b[0m\u001b[0;34m\"c\"\u001b[0m\u001b[0;34m)\u001b[0m\u001b[0;34m:\u001b[0m\u001b[0;34m\u001b[0m\u001b[0;34m\u001b[0m\u001b[0m\n\u001b[1;32m   1179\u001b[0m         \u001b[0;32mif\u001b[0m \u001b[0mengine\u001b[0m \u001b[0;34m==\u001b[0m \u001b[0;34m\"c\"\u001b[0m\u001b[0;34m:\u001b[0m\u001b[0;34m\u001b[0m\u001b[0;34m\u001b[0m\u001b[0m\n\u001b[0;32m-> 1180\u001b[0;31m             \u001b[0mself\u001b[0m\u001b[0;34m.\u001b[0m\u001b[0m_engine\u001b[0m \u001b[0;34m=\u001b[0m \u001b[0mCParserWrapper\u001b[0m\u001b[0;34m(\u001b[0m\u001b[0mself\u001b[0m\u001b[0;34m.\u001b[0m\u001b[0mf\u001b[0m\u001b[0;34m,\u001b[0m \u001b[0;34m**\u001b[0m\u001b[0mself\u001b[0m\u001b[0;34m.\u001b[0m\u001b[0moptions\u001b[0m\u001b[0;34m)\u001b[0m\u001b[0;34m\u001b[0m\u001b[0;34m\u001b[0m\u001b[0m\n\u001b[0m\u001b[1;32m   1181\u001b[0m         \u001b[0;32melse\u001b[0m\u001b[0;34m:\u001b[0m\u001b[0;34m\u001b[0m\u001b[0;34m\u001b[0m\u001b[0m\n\u001b[1;32m   1182\u001b[0m             \u001b[0;32mif\u001b[0m \u001b[0mengine\u001b[0m \u001b[0;34m==\u001b[0m \u001b[0;34m\"python\"\u001b[0m\u001b[0;34m:\u001b[0m\u001b[0;34m\u001b[0m\u001b[0;34m\u001b[0m\u001b[0m\n",
      "\u001b[0;32m~/software/anaconda3/envs/myimmuno3_light/lib/python3.8/site-packages/pandas/io/parsers.py\u001b[0m in \u001b[0;36m__init__\u001b[0;34m(self, src, **kwds)\u001b[0m\n\u001b[1;32m   2008\u001b[0m         \u001b[0mkwds\u001b[0m\u001b[0;34m[\u001b[0m\u001b[0;34m\"usecols\"\u001b[0m\u001b[0;34m]\u001b[0m \u001b[0;34m=\u001b[0m \u001b[0mself\u001b[0m\u001b[0;34m.\u001b[0m\u001b[0musecols\u001b[0m\u001b[0;34m\u001b[0m\u001b[0;34m\u001b[0m\u001b[0m\n\u001b[1;32m   2009\u001b[0m \u001b[0;34m\u001b[0m\u001b[0m\n\u001b[0;32m-> 2010\u001b[0;31m         \u001b[0mself\u001b[0m\u001b[0;34m.\u001b[0m\u001b[0m_reader\u001b[0m \u001b[0;34m=\u001b[0m \u001b[0mparsers\u001b[0m\u001b[0;34m.\u001b[0m\u001b[0mTextReader\u001b[0m\u001b[0;34m(\u001b[0m\u001b[0msrc\u001b[0m\u001b[0;34m,\u001b[0m \u001b[0;34m**\u001b[0m\u001b[0mkwds\u001b[0m\u001b[0;34m)\u001b[0m\u001b[0;34m\u001b[0m\u001b[0;34m\u001b[0m\u001b[0m\n\u001b[0m\u001b[1;32m   2011\u001b[0m         \u001b[0mself\u001b[0m\u001b[0;34m.\u001b[0m\u001b[0munnamed_cols\u001b[0m \u001b[0;34m=\u001b[0m \u001b[0mself\u001b[0m\u001b[0;34m.\u001b[0m\u001b[0m_reader\u001b[0m\u001b[0;34m.\u001b[0m\u001b[0munnamed_cols\u001b[0m\u001b[0;34m\u001b[0m\u001b[0;34m\u001b[0m\u001b[0m\n\u001b[1;32m   2012\u001b[0m \u001b[0;34m\u001b[0m\u001b[0m\n",
      "\u001b[0;32mpandas/_libs/parsers.pyx\u001b[0m in \u001b[0;36mpandas._libs.parsers.TextReader.__cinit__\u001b[0;34m()\u001b[0m\n",
      "\u001b[0;32mpandas/_libs/parsers.pyx\u001b[0m in \u001b[0;36mpandas._libs.parsers.TextReader._get_header\u001b[0;34m()\u001b[0m\n",
      "\u001b[0;32mpandas/_libs/parsers.pyx\u001b[0m in \u001b[0;36mpandas._libs.parsers.TextReader._tokenize_rows\u001b[0;34m()\u001b[0m\n",
      "\u001b[0;32mpandas/_libs/parsers.pyx\u001b[0m in \u001b[0;36mpandas._libs.parsers.raise_parser_error\u001b[0;34m()\u001b[0m\n",
      "\u001b[0;31mParserError\u001b[0m: Error tokenizing data. C error: EOF inside string starting at row 1"
     ]
    }
   ],
   "source": [
    "path_meta_kmer = os.path.join(path_kmers_debug_metadata, kmer + '_peptides.txt')\n",
    "print(path_meta_kmer)\n",
    "meta_kmer = pd.read_csv(path_meta_kmer, \n",
    "                       usecols=[2,3])"
   ]
  },
  {
   "cell_type": "code",
   "execution_count": null,
   "metadata": {},
   "outputs": [],
   "source": []
  }
 ],
 "metadata": {
  "kernelspec": {
   "display_name": "Python 3 (ipykernel)",
   "language": "python",
   "name": "python3"
  },
  "language_info": {
   "codemirror_mode": {
    "name": "ipython",
    "version": 3
   },
   "file_extension": ".py",
   "mimetype": "text/x-python",
   "name": "python",
   "nbconvert_exporter": "python",
   "pygments_lexer": "ipython3",
   "version": "3.8.10"
  }
 },
 "nbformat": 4,
 "nbformat_minor": 4
}
