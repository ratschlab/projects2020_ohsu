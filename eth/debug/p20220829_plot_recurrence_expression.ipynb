{
 "cells": [
  {
   "cell_type": "code",
   "execution_count": 1,
   "metadata": {
    "ExecuteTime": {
     "end_time": "2022-08-29T08:49:16.135922Z",
     "start_time": "2022-08-29T08:48:41.771801Z"
    }
   },
   "outputs": [],
   "source": [
    "import pandas as pd\n",
    "import os \n",
    "import glob \n",
    "import seaborn as sns \n",
    "import matplotlib.pyplot as plt"
   ]
  },
  {
   "cell_type": "code",
   "execution_count": 2,
   "metadata": {
    "ExecuteTime": {
     "end_time": "2022-08-29T08:49:16.143620Z",
     "start_time": "2022-08-29T08:49:16.140608Z"
    }
   },
   "outputs": [],
   "source": [
    "path_filtered = '/cluster/work/grlab/projects/projects2020_OHSU/peptides_generation/commit_v3_TEST_merged3_372a147_medium_run_conf2_annotFrame_cap0_runs/TCGA_Breast_1102/filter_TCGA-BH-A18V-01A-11R-A12D-07.all/commit_372a147_full_flags_GTEXcore/G_TCGA-BH-A18V-01A-11R-A12D-07.all_ref_SampleLim0.0CohortLim0.0Across1_FiltNormalsGtexcoreCohortlim0.0Across0.tsv/part-00000-c554ddd4-74fd-4040-8c55-fb27edde84cc-c000.csv'"
   ]
  },
  {
   "cell_type": "code",
   "execution_count": 3,
   "metadata": {
    "ExecuteTime": {
     "end_time": "2022-08-29T08:50:28.092432Z",
     "start_time": "2022-08-29T08:50:28.088456Z"
    }
   },
   "outputs": [],
   "source": [
    "path_cancer = '/cluster/work/grlab/projects/projects2020_OHSU/peptides_generation/commit_v3_TEST_merged3_372a147_medium_run_conf2_annotFrame_cap0_runs/TCGA_Breast_1102/filter_TCGA-BH-A18V-01A-11R-A12D-07.all/commit_372a147_full_flags_a_interm_cancer/interm_cancer_ref_combiExprCohortLim0.0Across1ExceptTCGABHA18V01A11RA12D07all.tsv/'"
   ]
  },
  {
   "cell_type": "code",
   "execution_count": 10,
   "metadata": {
    "ExecuteTime": {
     "end_time": "2022-08-29T08:53:57.013296Z",
     "start_time": "2022-08-29T08:53:56.999910Z"
    }
   },
   "outputs": [],
   "source": [
    "path_cancers = glob.glob(path_cancer + '*part*')"
   ]
  },
  {
   "cell_type": "code",
   "execution_count": 25,
   "metadata": {
    "ExecuteTime": {
     "end_time": "2022-08-29T08:57:08.151161Z",
     "start_time": "2022-08-29T08:57:06.247327Z"
    }
   },
   "outputs": [],
   "source": [
    "cancers = [pd.read_csv(path, sep = '\\t', header = None) for path in path_cancers ]\n",
    "\n",
    "cancers = pd.concat(cancers, axis = 0).rename( {0:'kmer', 1:'recurrence'}, axis = 1)"
   ]
  },
  {
   "cell_type": "code",
   "execution_count": 26,
   "metadata": {
    "ExecuteTime": {
     "end_time": "2022-08-29T08:57:08.164394Z",
     "start_time": "2022-08-29T08:57:08.153791Z"
    }
   },
   "outputs": [
    {
     "data": {
      "text/html": [
       "<div>\n",
       "<style scoped>\n",
       "    .dataframe tbody tr th:only-of-type {\n",
       "        vertical-align: middle;\n",
       "    }\n",
       "\n",
       "    .dataframe tbody tr th {\n",
       "        vertical-align: top;\n",
       "    }\n",
       "\n",
       "    .dataframe thead th {\n",
       "        text-align: right;\n",
       "    }\n",
       "</style>\n",
       "<table border=\"1\" class=\"dataframe\">\n",
       "  <thead>\n",
       "    <tr style=\"text-align: right;\">\n",
       "      <th></th>\n",
       "      <th>kmer</th>\n",
       "      <th>recurrence</th>\n",
       "    </tr>\n",
       "  </thead>\n",
       "  <tbody>\n",
       "    <tr>\n",
       "      <th>0</th>\n",
       "      <td>QVPTSPVPG</td>\n",
       "      <td>47</td>\n",
       "    </tr>\n",
       "    <tr>\n",
       "      <th>1</th>\n",
       "      <td>NNNCPDRLP</td>\n",
       "      <td>109</td>\n",
       "    </tr>\n",
       "    <tr>\n",
       "      <th>2</th>\n",
       "      <td>PQVPGPPCA</td>\n",
       "      <td>29</td>\n",
       "    </tr>\n",
       "    <tr>\n",
       "      <th>3</th>\n",
       "      <td>RHLYQGCQD</td>\n",
       "      <td>1</td>\n",
       "    </tr>\n",
       "    <tr>\n",
       "      <th>4</th>\n",
       "      <td>QQIKEEESD</td>\n",
       "      <td>82</td>\n",
       "    </tr>\n",
       "  </tbody>\n",
       "</table>\n",
       "</div>"
      ],
      "text/plain": [
       "        kmer  recurrence\n",
       "0  QVPTSPVPG          47\n",
       "1  NNNCPDRLP         109\n",
       "2  PQVPGPPCA          29\n",
       "3  RHLYQGCQD           1\n",
       "4  QQIKEEESD          82"
      ]
     },
     "execution_count": 26,
     "metadata": {},
     "output_type": "execute_result"
    }
   ],
   "source": [
    "cancers.head()"
   ]
  },
  {
   "cell_type": "code",
   "execution_count": 6,
   "metadata": {
    "ExecuteTime": {
     "end_time": "2022-08-29T08:50:53.284986Z",
     "start_time": "2022-08-29T08:50:53.271404Z"
    }
   },
   "outputs": [],
   "source": [
    "filtered = pd.read_csv(path_filtered, sep = '\\t')"
   ]
  },
  {
   "cell_type": "code",
   "execution_count": 7,
   "metadata": {
    "ExecuteTime": {
     "end_time": "2022-08-29T08:50:53.755235Z",
     "start_time": "2022-08-29T08:50:53.735183Z"
    }
   },
   "outputs": [
    {
     "data": {
      "text/html": [
       "<div>\n",
       "<style scoped>\n",
       "    .dataframe tbody tr th:only-of-type {\n",
       "        vertical-align: middle;\n",
       "    }\n",
       "\n",
       "    .dataframe tbody tr th {\n",
       "        vertical-align: top;\n",
       "    }\n",
       "\n",
       "    .dataframe thead th {\n",
       "        text-align: right;\n",
       "    }\n",
       "</style>\n",
       "<table border=\"1\" class=\"dataframe\">\n",
       "  <thead>\n",
       "    <tr style=\"text-align: right;\">\n",
       "      <th></th>\n",
       "      <th>kmer</th>\n",
       "      <th>TCGABHA18V01A11RA12D07all</th>\n",
       "      <th>junctionAnnotated</th>\n",
       "      <th>readFrameAnnotated</th>\n",
       "    </tr>\n",
       "  </thead>\n",
       "  <tbody>\n",
       "    <tr>\n",
       "      <th>0</th>\n",
       "      <td>DINLNSPVD</td>\n",
       "      <td>1.0</td>\n",
       "      <td>1.0</td>\n",
       "      <td>1.0</td>\n",
       "    </tr>\n",
       "    <tr>\n",
       "      <th>1</th>\n",
       "      <td>PSHLLKRSR</td>\n",
       "      <td>7050.0</td>\n",
       "      <td>1.0</td>\n",
       "      <td>1.0</td>\n",
       "    </tr>\n",
       "    <tr>\n",
       "      <th>2</th>\n",
       "      <td>SALMQVHVT</td>\n",
       "      <td>28.0</td>\n",
       "      <td>1.0</td>\n",
       "      <td>1.0</td>\n",
       "    </tr>\n",
       "    <tr>\n",
       "      <th>3</th>\n",
       "      <td>WVWSEKSNL</td>\n",
       "      <td>79.0</td>\n",
       "      <td>1.0</td>\n",
       "      <td>1.0</td>\n",
       "    </tr>\n",
       "    <tr>\n",
       "      <th>4</th>\n",
       "      <td>LVCGLFHQQ</td>\n",
       "      <td>145.0</td>\n",
       "      <td>1.0</td>\n",
       "      <td>1.0</td>\n",
       "    </tr>\n",
       "  </tbody>\n",
       "</table>\n",
       "</div>"
      ],
      "text/plain": [
       "        kmer  TCGABHA18V01A11RA12D07all  junctionAnnotated  readFrameAnnotated\n",
       "0  DINLNSPVD                        1.0                1.0                 1.0\n",
       "1  PSHLLKRSR                     7050.0                1.0                 1.0\n",
       "2  SALMQVHVT                       28.0                1.0                 1.0\n",
       "3  WVWSEKSNL                       79.0                1.0                 1.0\n",
       "4  LVCGLFHQQ                      145.0                1.0                 1.0"
      ]
     },
     "execution_count": 7,
     "metadata": {},
     "output_type": "execute_result"
    }
   ],
   "source": [
    "filtered.head()"
   ]
  },
  {
   "cell_type": "code",
   "execution_count": 27,
   "metadata": {
    "ExecuteTime": {
     "end_time": "2022-08-29T08:58:16.152687Z",
     "start_time": "2022-08-29T08:58:15.473043Z"
    }
   },
   "outputs": [],
   "source": [
    "df = filtered.merge(cancers, on = 'kmer', how = 'left')"
   ]
  },
  {
   "cell_type": "code",
   "execution_count": 28,
   "metadata": {
    "ExecuteTime": {
     "end_time": "2022-08-29T08:58:20.865657Z",
     "start_time": "2022-08-29T08:58:20.845000Z"
    }
   },
   "outputs": [
    {
     "data": {
      "text/html": [
       "<div>\n",
       "<style scoped>\n",
       "    .dataframe tbody tr th:only-of-type {\n",
       "        vertical-align: middle;\n",
       "    }\n",
       "\n",
       "    .dataframe tbody tr th {\n",
       "        vertical-align: top;\n",
       "    }\n",
       "\n",
       "    .dataframe thead th {\n",
       "        text-align: right;\n",
       "    }\n",
       "</style>\n",
       "<table border=\"1\" class=\"dataframe\">\n",
       "  <thead>\n",
       "    <tr style=\"text-align: right;\">\n",
       "      <th></th>\n",
       "      <th>kmer</th>\n",
       "      <th>TCGABHA18V01A11RA12D07all</th>\n",
       "      <th>junctionAnnotated</th>\n",
       "      <th>readFrameAnnotated</th>\n",
       "      <th>recurrence</th>\n",
       "    </tr>\n",
       "  </thead>\n",
       "  <tbody>\n",
       "    <tr>\n",
       "      <th>0</th>\n",
       "      <td>DINLNSPVD</td>\n",
       "      <td>1.0</td>\n",
       "      <td>1.0</td>\n",
       "      <td>1.0</td>\n",
       "      <td>26</td>\n",
       "    </tr>\n",
       "    <tr>\n",
       "      <th>1</th>\n",
       "      <td>PSHLLKRSR</td>\n",
       "      <td>7050.0</td>\n",
       "      <td>1.0</td>\n",
       "      <td>1.0</td>\n",
       "      <td>1101</td>\n",
       "    </tr>\n",
       "    <tr>\n",
       "      <th>2</th>\n",
       "      <td>SALMQVHVT</td>\n",
       "      <td>28.0</td>\n",
       "      <td>1.0</td>\n",
       "      <td>1.0</td>\n",
       "      <td>1089</td>\n",
       "    </tr>\n",
       "    <tr>\n",
       "      <th>3</th>\n",
       "      <td>WVWSEKSNL</td>\n",
       "      <td>79.0</td>\n",
       "      <td>1.0</td>\n",
       "      <td>1.0</td>\n",
       "      <td>1099</td>\n",
       "    </tr>\n",
       "    <tr>\n",
       "      <th>4</th>\n",
       "      <td>LVCGLFHQQ</td>\n",
       "      <td>145.0</td>\n",
       "      <td>1.0</td>\n",
       "      <td>1.0</td>\n",
       "      <td>1101</td>\n",
       "    </tr>\n",
       "  </tbody>\n",
       "</table>\n",
       "</div>"
      ],
      "text/plain": [
       "        kmer  TCGABHA18V01A11RA12D07all  junctionAnnotated  \\\n",
       "0  DINLNSPVD                        1.0                1.0   \n",
       "1  PSHLLKRSR                     7050.0                1.0   \n",
       "2  SALMQVHVT                       28.0                1.0   \n",
       "3  WVWSEKSNL                       79.0                1.0   \n",
       "4  LVCGLFHQQ                      145.0                1.0   \n",
       "\n",
       "   readFrameAnnotated  recurrence  \n",
       "0                 1.0          26  \n",
       "1                 1.0        1101  \n",
       "2                 1.0        1089  \n",
       "3                 1.0        1099  \n",
       "4                 1.0        1101  "
      ]
     },
     "execution_count": 28,
     "metadata": {},
     "output_type": "execute_result"
    }
   ],
   "source": [
    "df.head()"
   ]
  },
  {
   "cell_type": "code",
   "execution_count": 62,
   "metadata": {
    "ExecuteTime": {
     "end_time": "2022-08-29T09:11:04.290940Z",
     "start_time": "2022-08-29T09:11:03.949231Z"
    }
   },
   "outputs": [
    {
     "data": {
      "image/png": "[encoded data removed]",
      "text/plain": [
       "<Figure size 432x288 with 1 Axes>"
      ]
     },
     "metadata": {
      "needs_background": "light"
     },
     "output_type": "display_data"
    }
   ],
   "source": [
    "plt.hist(filtered['TCGABHA18V01A11RA12D07all'], bins = 50, color = 'forestgreen')\n",
    "plt.ylabel('count')\n",
    "plt.xlabel('kmer recurrence')\n",
    "plt.grid()"
   ]
  },
  {
   "cell_type": "code",
   "execution_count": 63,
   "metadata": {
    "ExecuteTime": {
     "end_time": "2022-08-29T09:11:08.196388Z",
     "start_time": "2022-08-29T09:11:07.394504Z"
    }
   },
   "outputs": [
    {
     "data": {
      "image/png": "[encoded data removed]",
      "text/plain": [
       "<Figure size 432x288 with 1 Axes>"
      ]
     },
     "metadata": {
      "needs_background": "light"
     },
     "output_type": "display_data"
    }
   ],
   "source": [
    "plt.hist(filtered['TCGABHA18V01A11RA12D07all'], bins = 50,  color = 'forestgreen')\n",
    "plt.yscale('log')\n",
    "plt.ylabel('count (log scale')\n",
    "plt.xlabel('kmer recurrence')\n",
    "plt.grid()"
   ]
  },
  {
   "cell_type": "code",
   "execution_count": 64,
   "metadata": {
    "ExecuteTime": {
     "end_time": "2022-08-29T09:11:11.740612Z",
     "start_time": "2022-08-29T09:11:11.450483Z"
    }
   },
   "outputs": [
    {
     "data": {
      "image/png": "[encoded data removed]",
      "text/plain": [
       "<Figure size 432x288 with 1 Axes>"
      ]
     },
     "metadata": {
      "needs_background": "light"
     },
     "output_type": "display_data"
    }
   ],
   "source": [
    "plt.scatter(df['TCGABHA18V01A11RA12D07all'], df['recurrence'], \n",
    "           color = 'dodgerblue')\n",
    "plt.title('Rerun: \\n realign + reading frame annotated + junction expression 3 exons fixed')\n",
    "plt.ylabel('Recurrence')\n",
    "plt.xlabel('Normalized expression')\n",
    "plt.grid()"
   ]
  },
  {
   "cell_type": "code",
   "execution_count": 65,
   "metadata": {
    "ExecuteTime": {
     "end_time": "2022-08-29T09:11:15.218931Z",
     "start_time": "2022-08-29T09:11:14.945372Z"
    }
   },
   "outputs": [
    {
     "data": {
      "image/png": "[encoded data removed]",
      "text/plain": [
       "<Figure size 432x288 with 1 Axes>"
      ]
     },
     "metadata": {
      "needs_background": "light"
     },
     "output_type": "display_data"
    }
   ],
   "source": [
    "df_plot = df.loc[df['recurrence'] < 100, :]\n",
    "plt.scatter(df_plot['TCGABHA18V01A11RA12D07all'],\n",
    "            df_plot['recurrence'], \n",
    "            color = 'lightblue')\n",
    "plt.title('Rerun subset recurrence < 100: \\n realign + reading frame annotated + junction expression 3 exons fixed')\n",
    "plt.ylabel('Recurrence')\n",
    "plt.xlabel('Normalized expression')\n",
    "plt.grid()"
   ]
  },
  {
   "cell_type": "code",
   "execution_count": 73,
   "metadata": {
    "ExecuteTime": {
     "end_time": "2022-08-29T09:15:56.327868Z",
     "start_time": "2022-08-29T09:15:55.880890Z"
    }
   },
   "outputs": [
    {
     "data": {
      "image/png": "[encoded data removed]",
      "text/plain": [
       "<Figure size 432x288 with 1 Axes>"
      ]
     },
     "metadata": {
      "needs_background": "light"
     },
     "output_type": "display_data"
    }
   ],
   "source": [
    "\n",
    "sns.scatterplot(data = df, \n",
    "                x = 'TCGABHA18V01A11RA12D07all', \n",
    "               y = 'recurrence', \n",
    "               hue = 'junctionAnnotated')\n",
    "plt.ylabel('Recurrence')\n",
    "plt.xlabel('Normalized expression')\n",
    "plt.grid()"
   ]
  },
  {
   "cell_type": "code",
   "execution_count": 80,
   "metadata": {
    "ExecuteTime": {
     "end_time": "2022-08-29T09:19:41.245280Z",
     "start_time": "2022-08-29T09:19:40.947261Z"
    }
   },
   "outputs": [],
   "source": [
    "df_plot = df.loc[(df['recurrence'] > 100) &\n",
    "                 (df['TCGABHA18V01A11RA12D07all'] > 10), :]\n",
    "df_plot.shape\n",
    "df_plot.to_csv('/cluster/work/grlab/projects/projects2020_OHSU/peptides_generation/commit_v3_TEST_merged3_372a147_medium_run_conf2_annotFrame_cap0_runs/TCGA_Breast_1102/filter_TCGA-BH-A18V-01A-11R-A12D-07.all/commit_372a147_full_flags_GTEXcore/recurrence>100_expression>10.tsv', sep = '\\t')"
   ]
  },
  {
   "cell_type": "code",
   "execution_count": 82,
   "metadata": {
    "ExecuteTime": {
     "end_time": "2022-08-29T10:48:38.696635Z",
     "start_time": "2022-08-29T10:48:38.671686Z"
    }
   },
   "outputs": [
    {
     "data": {
      "text/html": [
       "<div>\n",
       "<style scoped>\n",
       "    .dataframe tbody tr th:only-of-type {\n",
       "        vertical-align: middle;\n",
       "    }\n",
       "\n",
       "    .dataframe tbody tr th {\n",
       "        vertical-align: top;\n",
       "    }\n",
       "\n",
       "    .dataframe thead th {\n",
       "        text-align: right;\n",
       "    }\n",
       "</style>\n",
       "<table border=\"1\" class=\"dataframe\">\n",
       "  <thead>\n",
       "    <tr style=\"text-align: right;\">\n",
       "      <th></th>\n",
       "      <th>kmer</th>\n",
       "      <th>TCGABHA18V01A11RA12D07all</th>\n",
       "      <th>junctionAnnotated</th>\n",
       "      <th>readFrameAnnotated</th>\n",
       "      <th>recurrence</th>\n",
       "    </tr>\n",
       "  </thead>\n",
       "  <tbody>\n",
       "    <tr>\n",
       "      <th>1</th>\n",
       "      <td>PSHLLKRSR</td>\n",
       "      <td>7050.0</td>\n",
       "      <td>1.0</td>\n",
       "      <td>1.0</td>\n",
       "      <td>1101</td>\n",
       "    </tr>\n",
       "    <tr>\n",
       "      <th>2</th>\n",
       "      <td>SALMQVHVT</td>\n",
       "      <td>28.0</td>\n",
       "      <td>1.0</td>\n",
       "      <td>1.0</td>\n",
       "      <td>1089</td>\n",
       "    </tr>\n",
       "    <tr>\n",
       "      <th>3</th>\n",
       "      <td>WVWSEKSNL</td>\n",
       "      <td>79.0</td>\n",
       "      <td>1.0</td>\n",
       "      <td>1.0</td>\n",
       "      <td>1099</td>\n",
       "    </tr>\n",
       "    <tr>\n",
       "      <th>4</th>\n",
       "      <td>LVCGLFHQQ</td>\n",
       "      <td>145.0</td>\n",
       "      <td>1.0</td>\n",
       "      <td>1.0</td>\n",
       "      <td>1101</td>\n",
       "    </tr>\n",
       "    <tr>\n",
       "      <th>6</th>\n",
       "      <td>RWLCLPRQE</td>\n",
       "      <td>344.0</td>\n",
       "      <td>1.0</td>\n",
       "      <td>1.0</td>\n",
       "      <td>1101</td>\n",
       "    </tr>\n",
       "    <tr>\n",
       "      <th>7</th>\n",
       "      <td>WSGQRVSGS</td>\n",
       "      <td>98.0</td>\n",
       "      <td>1.0</td>\n",
       "      <td>1.0</td>\n",
       "      <td>1101</td>\n",
       "    </tr>\n",
       "    <tr>\n",
       "      <th>8</th>\n",
       "      <td>EDDPFFYGG</td>\n",
       "      <td>12.0</td>\n",
       "      <td>0.0</td>\n",
       "      <td>1.0</td>\n",
       "      <td>695</td>\n",
       "    </tr>\n",
       "    <tr>\n",
       "      <th>10</th>\n",
       "      <td>PGHPQGAAV</td>\n",
       "      <td>84.0</td>\n",
       "      <td>1.0</td>\n",
       "      <td>1.0</td>\n",
       "      <td>1098</td>\n",
       "    </tr>\n",
       "    <tr>\n",
       "      <th>13</th>\n",
       "      <td>SNLYWLVMV</td>\n",
       "      <td>711.0</td>\n",
       "      <td>1.0</td>\n",
       "      <td>1.0</td>\n",
       "      <td>1101</td>\n",
       "    </tr>\n",
       "    <tr>\n",
       "      <th>15</th>\n",
       "      <td>DLRKYCGQC</td>\n",
       "      <td>743.0</td>\n",
       "      <td>1.0</td>\n",
       "      <td>1.0</td>\n",
       "      <td>1101</td>\n",
       "    </tr>\n",
       "    <tr>\n",
       "      <th>18</th>\n",
       "      <td>QKKRDHMMW</td>\n",
       "      <td>1047.0</td>\n",
       "      <td>1.0</td>\n",
       "      <td>1.0</td>\n",
       "      <td>1101</td>\n",
       "    </tr>\n",
       "    <tr>\n",
       "      <th>20</th>\n",
       "      <td>SVLWGHGGD</td>\n",
       "      <td>612.0</td>\n",
       "      <td>1.0</td>\n",
       "      <td>1.0</td>\n",
       "      <td>1101</td>\n",
       "    </tr>\n",
       "    <tr>\n",
       "      <th>23</th>\n",
       "      <td>VAGGGTAAG</td>\n",
       "      <td>49.0</td>\n",
       "      <td>0.0</td>\n",
       "      <td>1.0</td>\n",
       "      <td>1100</td>\n",
       "    </tr>\n",
       "    <tr>\n",
       "      <th>24</th>\n",
       "      <td>WSTRVMPRT</td>\n",
       "      <td>100.0</td>\n",
       "      <td>1.0</td>\n",
       "      <td>1.0</td>\n",
       "      <td>1093</td>\n",
       "    </tr>\n",
       "    <tr>\n",
       "      <th>27</th>\n",
       "      <td>SLQKRSQVV</td>\n",
       "      <td>12.0</td>\n",
       "      <td>1.0</td>\n",
       "      <td>1.0</td>\n",
       "      <td>1095</td>\n",
       "    </tr>\n",
       "    <tr>\n",
       "      <th>28</th>\n",
       "      <td>ALRFNLHRA</td>\n",
       "      <td>391.0</td>\n",
       "      <td>1.0</td>\n",
       "      <td>1.0</td>\n",
       "      <td>1101</td>\n",
       "    </tr>\n",
       "    <tr>\n",
       "      <th>30</th>\n",
       "      <td>GSQLRTVVN</td>\n",
       "      <td>134.0</td>\n",
       "      <td>0.0</td>\n",
       "      <td>1.0</td>\n",
       "      <td>1101</td>\n",
       "    </tr>\n",
       "    <tr>\n",
       "      <th>35</th>\n",
       "      <td>GIGRTKSGG</td>\n",
       "      <td>41.0</td>\n",
       "      <td>1.0</td>\n",
       "      <td>1.0</td>\n",
       "      <td>1070</td>\n",
       "    </tr>\n",
       "    <tr>\n",
       "      <th>36</th>\n",
       "      <td>PTIASAPRR</td>\n",
       "      <td>168.0</td>\n",
       "      <td>1.0</td>\n",
       "      <td>1.0</td>\n",
       "      <td>1100</td>\n",
       "    </tr>\n",
       "    <tr>\n",
       "      <th>38</th>\n",
       "      <td>GGQRASRGL</td>\n",
       "      <td>347.0</td>\n",
       "      <td>1.0</td>\n",
       "      <td>1.0</td>\n",
       "      <td>1100</td>\n",
       "    </tr>\n",
       "  </tbody>\n",
       "</table>\n",
       "</div>"
      ],
      "text/plain": [
       "         kmer  TCGABHA18V01A11RA12D07all  junctionAnnotated  \\\n",
       "1   PSHLLKRSR                     7050.0                1.0   \n",
       "2   SALMQVHVT                       28.0                1.0   \n",
       "3   WVWSEKSNL                       79.0                1.0   \n",
       "4   LVCGLFHQQ                      145.0                1.0   \n",
       "6   RWLCLPRQE                      344.0                1.0   \n",
       "7   WSGQRVSGS                       98.0                1.0   \n",
       "8   EDDPFFYGG                       12.0                0.0   \n",
       "10  PGHPQGAAV                       84.0                1.0   \n",
       "13  SNLYWLVMV                      711.0                1.0   \n",
       "15  DLRKYCGQC                      743.0                1.0   \n",
       "18  QKKRDHMMW                     1047.0                1.0   \n",
       "20  SVLWGHGGD                      612.0                1.0   \n",
       "23  VAGGGTAAG                       49.0                0.0   \n",
       "24  WSTRVMPRT                      100.0                1.0   \n",
       "27  SLQKRSQVV                       12.0                1.0   \n",
       "28  ALRFNLHRA                      391.0                1.0   \n",
       "30  GSQLRTVVN                      134.0                0.0   \n",
       "35  GIGRTKSGG                       41.0                1.0   \n",
       "36  PTIASAPRR                      168.0                1.0   \n",
       "38  GGQRASRGL                      347.0                1.0   \n",
       "\n",
       "    readFrameAnnotated  recurrence  \n",
       "1                  1.0        1101  \n",
       "2                  1.0        1089  \n",
       "3                  1.0        1099  \n",
       "4                  1.0        1101  \n",
       "6                  1.0        1101  \n",
       "7                  1.0        1101  \n",
       "8                  1.0         695  \n",
       "10                 1.0        1098  \n",
       "13                 1.0        1101  \n",
       "15                 1.0        1101  \n",
       "18                 1.0        1101  \n",
       "20                 1.0        1101  \n",
       "23                 1.0        1100  \n",
       "24                 1.0        1093  \n",
       "27                 1.0        1095  \n",
       "28                 1.0        1101  \n",
       "30                 1.0        1101  \n",
       "35                 1.0        1070  \n",
       "36                 1.0        1100  \n",
       "38                 1.0        1100  "
      ]
     },
     "execution_count": 82,
     "metadata": {},
     "output_type": "execute_result"
    }
   ],
   "source": [
    "df_plot.head(20)"
   ]
  },
  {
   "cell_type": "code",
   "execution_count": null,
   "metadata": {},
   "outputs": [],
   "source": []
  }
 ],
 "metadata": {
  "kernelspec": {
   "display_name": "myimmuno3_light",
   "language": "python",
   "name": "myimmuno3_light"
  },
  "language_info": {
   "codemirror_mode": {
    "name": "ipython",
    "version": 3
   },
   "file_extension": ".py",
   "mimetype": "text/x-python",
   "name": "python",
   "nbconvert_exporter": "python",
   "pygments_lexer": "ipython3",
   "version": "3.8.5"
  }
 },
 "nbformat": 4,
 "nbformat_minor": 4
}
