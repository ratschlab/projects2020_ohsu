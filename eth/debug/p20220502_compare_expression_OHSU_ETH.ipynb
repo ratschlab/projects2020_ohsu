{
 "cells": [
  {
   "cell_type": "code",
   "execution_count": 1,
   "metadata": {
    "ExecuteTime": {
     "end_time": "2022-05-02T11:33:21.150450Z",
     "start_time": "2022-05-02T11:33:16.795074Z"
    }
   },
   "outputs": [],
   "source": [
    "import os\n",
    "import glob\n",
    "import pandas as pd\n",
    "import matplotlib as plt"
   ]
  },
  {
   "cell_type": "code",
   "execution_count": 2,
   "metadata": {
    "ExecuteTime": {
     "end_time": "2022-05-02T11:33:25.248605Z",
     "start_time": "2022-05-02T11:33:25.241504Z"
    }
   },
   "outputs": [],
   "source": [
    "base_dir = '/cluster/work/grlab/projects/projects2020_OHSU/peptides_generation/v2_v2.5f0752a_conf2_annotFrame_cap0_runs_pya0.17.1/TCGA_Breast_1102/cohort_mutNone/tmp_out_ref_batch_70'"
   ]
  },
  {
   "cell_type": "code",
   "execution_count": 4,
   "metadata": {
    "ExecuteTime": {
     "end_time": "2022-05-02T11:33:56.407762Z",
     "start_time": "2022-05-02T11:33:56.397454Z"
    }
   },
   "outputs": [
    {
     "data": {
      "text/plain": [
       "['/cluster/work/grlab/projects/projects2020_OHSU/peptides_generation/v2_v2.5f0752a_conf2_annotFrame_cap0_runs_pya0.17.1/TCGA_Breast_1102/cohort_mutNone/tmp_out_ref_batch_70/ref_sample_peptides_meta.pq',\n",
       " '/cluster/work/grlab/projects/projects2020_OHSU/peptides_generation/v2_v2.5f0752a_conf2_annotFrame_cap0_runs_pya0.17.1/TCGA_Breast_1102/cohort_mutNone/tmp_out_ref_batch_70/ref_annot_peptides.fa.pq',\n",
       " '/cluster/work/grlab/projects/projects2020_OHSU/peptides_generation/v2_v2.5f0752a_conf2_annotFrame_cap0_runs_pya0.17.1/TCGA_Breast_1102/cohort_mutNone/tmp_out_ref_batch_70/output_sample_IS_SUCCESS',\n",
       " '/cluster/work/grlab/projects/projects2020_OHSU/peptides_generation/v2_v2.5f0752a_conf2_annotFrame_cap0_runs_pya0.17.1/TCGA_Breast_1102/cohort_mutNone/tmp_out_ref_batch_70/ref_graph_kmer_SegmExpr.pq',\n",
       " '/cluster/work/grlab/projects/projects2020_OHSU/peptides_generation/v2_v2.5f0752a_conf2_annotFrame_cap0_runs_pya0.17.1/TCGA_Breast_1102/cohort_mutNone/tmp_out_ref_batch_70/tmp_ref_graph_kmer_JuncExpr.tsv',\n",
       " '/cluster/work/grlab/projects/projects2020_OHSU/peptides_generation/v2_v2.5f0752a_conf2_annotFrame_cap0_runs_pya0.17.1/TCGA_Breast_1102/cohort_mutNone/tmp_out_ref_batch_70/gene_expression_detail.pq',\n",
       " '/cluster/work/grlab/projects/projects2020_OHSU/peptides_generation/v2_v2.5f0752a_conf2_annotFrame_cap0_runs_pya0.17.1/TCGA_Breast_1102/cohort_mutNone/tmp_out_ref_batch_70/ENSG00000188157.15_jx_chr1.1053978.1054447.+_info.tsv',\n",
       " '/cluster/work/grlab/projects/projects2020_OHSU/peptides_generation/v2_v2.5f0752a_conf2_annotFrame_cap0_runs_pya0.17.1/TCGA_Breast_1102/cohort_mutNone/tmp_out_ref_batch_70/Annot_IS_SUCCESS',\n",
       " '/cluster/work/grlab/projects/projects2020_OHSU/peptides_generation/v2_v2.5f0752a_conf2_annotFrame_cap0_runs_pya0.17.1/TCGA_Breast_1102/cohort_mutNone/tmp_out_ref_batch_70/ref_annot_9mer.pq',\n",
       " '/cluster/work/grlab/projects/projects2020_OHSU/peptides_generation/v2_v2.5f0752a_conf2_annotFrame_cap0_runs_pya0.17.1/TCGA_Breast_1102/cohort_mutNone/tmp_out_ref_batch_70/ref_graph_kmer_JuncExpr.pq']"
      ]
     },
     "execution_count": 4,
     "metadata": {},
     "output_type": "execute_result"
    }
   ],
   "source": [
    "glob.glob(base_dir + '/*')"
   ]
  },
  {
   "cell_type": "code",
   "execution_count": 6,
   "metadata": {
    "ExecuteTime": {
     "end_time": "2022-05-02T11:35:07.143038Z",
     "start_time": "2022-05-02T11:35:07.133954Z"
    }
   },
   "outputs": [],
   "source": [
    "ohsu = pd.read_csv(os.path.join(base_dir, \n",
    "            'ENSG00000188157.15_jx_chr1.1053978.1054447.+_info.tsv'), sep = '\\t')"
   ]
  },
  {
   "cell_type": "code",
   "execution_count": 7,
   "metadata": {
    "ExecuteTime": {
     "end_time": "2022-05-02T11:35:29.698747Z",
     "start_time": "2022-05-02T11:35:29.233959Z"
    }
   },
   "outputs": [],
   "source": [
    "eth = pd.read_csv(os.path.join(base_dir, \n",
    "            'tmp_ref_graph_kmer_JuncExpr.tsv'), sep = ',')"
   ]
  },
  {
   "cell_type": "code",
   "execution_count": 8,
   "metadata": {
    "ExecuteTime": {
     "end_time": "2022-05-02T11:35:34.919629Z",
     "start_time": "2022-05-02T11:35:34.785425Z"
    }
   },
   "outputs": [
    {
     "data": {
      "text/html": [
       "<div>\n",
       "<style scoped>\n",
       "    .dataframe tbody tr th:only-of-type {\n",
       "        vertical-align: middle;\n",
       "    }\n",
       "\n",
       "    .dataframe tbody tr th {\n",
       "        vertical-align: top;\n",
       "    }\n",
       "\n",
       "    .dataframe thead th {\n",
       "        text-align: right;\n",
       "    }\n",
       "</style>\n",
       "<table border=\"1\" class=\"dataframe\">\n",
       "  <thead>\n",
       "    <tr style=\"text-align: right;\">\n",
       "      <th></th>\n",
       "      <th>kmer</th>\n",
       "      <th>isCrossJunction</th>\n",
       "      <th>TCGA-3C-AAAU-01A-11R-A41B-07.all</th>\n",
       "      <th>TCGA-3C-AALI-01A-11R-A41B-07.all</th>\n",
       "      <th>TCGA-3C-AALJ-01A-31R-A41B-07.all</th>\n",
       "      <th>TCGA-3C-AALK-01A-11R-A41B-07.all</th>\n",
       "      <th>TCGA-4H-AAAK-01A-12R-A41B-07.all</th>\n",
       "      <th>TCGA-5L-AAT0-01A-12R-A41B-07.all</th>\n",
       "      <th>TCGA-5L-AAT1-01A-12R-A41B-07.all</th>\n",
       "      <th>TCGA-5T-A9QA-01A-11R-A41B-07.all</th>\n",
       "      <th>...</th>\n",
       "      <th>TCGA-UL-AAZ6-01A-11R-A41B-07.all</th>\n",
       "      <th>TCGA-UU-A93S-01A-21R-A41B-07.all</th>\n",
       "      <th>TCGA-V7-A7HQ-01A-11R-A33J-07.all</th>\n",
       "      <th>TCGA-W8-A86G-01A-21R-A36F-07.all</th>\n",
       "      <th>TCGA-WT-AB41-01A-11R-A41B-07.all</th>\n",
       "      <th>TCGA-WT-AB44-01A-11R-A41B-07.all</th>\n",
       "      <th>TCGA-XX-A899-01A-11R-A36F-07.all</th>\n",
       "      <th>TCGA-XX-A89A-01A-11R-A36F-07.all</th>\n",
       "      <th>TCGA-Z7-A8R5-01A-42R-A41B-07.all</th>\n",
       "      <th>TCGA-Z7-A8R6-01A-11R-A41B-07.all</th>\n",
       "    </tr>\n",
       "  </thead>\n",
       "  <tbody>\n",
       "    <tr>\n",
       "      <th>0</th>\n",
       "      <td>MAGRSHPGP</td>\n",
       "      <td>False</td>\n",
       "      <td>NaN</td>\n",
       "      <td>NaN</td>\n",
       "      <td>NaN</td>\n",
       "      <td>NaN</td>\n",
       "      <td>NaN</td>\n",
       "      <td>NaN</td>\n",
       "      <td>NaN</td>\n",
       "      <td>NaN</td>\n",
       "      <td>...</td>\n",
       "      <td>NaN</td>\n",
       "      <td>NaN</td>\n",
       "      <td>NaN</td>\n",
       "      <td>NaN</td>\n",
       "      <td>NaN</td>\n",
       "      <td>NaN</td>\n",
       "      <td>NaN</td>\n",
       "      <td>NaN</td>\n",
       "      <td>NaN</td>\n",
       "      <td>NaN</td>\n",
       "    </tr>\n",
       "    <tr>\n",
       "      <th>1</th>\n",
       "      <td>AGRSHPGPL</td>\n",
       "      <td>False</td>\n",
       "      <td>NaN</td>\n",
       "      <td>NaN</td>\n",
       "      <td>NaN</td>\n",
       "      <td>NaN</td>\n",
       "      <td>NaN</td>\n",
       "      <td>NaN</td>\n",
       "      <td>NaN</td>\n",
       "      <td>NaN</td>\n",
       "      <td>...</td>\n",
       "      <td>NaN</td>\n",
       "      <td>NaN</td>\n",
       "      <td>NaN</td>\n",
       "      <td>NaN</td>\n",
       "      <td>NaN</td>\n",
       "      <td>NaN</td>\n",
       "      <td>NaN</td>\n",
       "      <td>NaN</td>\n",
       "      <td>NaN</td>\n",
       "      <td>NaN</td>\n",
       "    </tr>\n",
       "    <tr>\n",
       "      <th>2</th>\n",
       "      <td>GRSHPGPLR</td>\n",
       "      <td>False</td>\n",
       "      <td>NaN</td>\n",
       "      <td>NaN</td>\n",
       "      <td>NaN</td>\n",
       "      <td>NaN</td>\n",
       "      <td>NaN</td>\n",
       "      <td>NaN</td>\n",
       "      <td>NaN</td>\n",
       "      <td>NaN</td>\n",
       "      <td>...</td>\n",
       "      <td>NaN</td>\n",
       "      <td>NaN</td>\n",
       "      <td>NaN</td>\n",
       "      <td>NaN</td>\n",
       "      <td>NaN</td>\n",
       "      <td>NaN</td>\n",
       "      <td>NaN</td>\n",
       "      <td>NaN</td>\n",
       "      <td>NaN</td>\n",
       "      <td>NaN</td>\n",
       "    </tr>\n",
       "    <tr>\n",
       "      <th>3</th>\n",
       "      <td>RSHPGPLRP</td>\n",
       "      <td>False</td>\n",
       "      <td>NaN</td>\n",
       "      <td>NaN</td>\n",
       "      <td>NaN</td>\n",
       "      <td>NaN</td>\n",
       "      <td>NaN</td>\n",
       "      <td>NaN</td>\n",
       "      <td>NaN</td>\n",
       "      <td>NaN</td>\n",
       "      <td>...</td>\n",
       "      <td>NaN</td>\n",
       "      <td>NaN</td>\n",
       "      <td>NaN</td>\n",
       "      <td>NaN</td>\n",
       "      <td>NaN</td>\n",
       "      <td>NaN</td>\n",
       "      <td>NaN</td>\n",
       "      <td>NaN</td>\n",
       "      <td>NaN</td>\n",
       "      <td>NaN</td>\n",
       "    </tr>\n",
       "    <tr>\n",
       "      <th>4</th>\n",
       "      <td>SHPGPLRPL</td>\n",
       "      <td>False</td>\n",
       "      <td>NaN</td>\n",
       "      <td>NaN</td>\n",
       "      <td>NaN</td>\n",
       "      <td>NaN</td>\n",
       "      <td>NaN</td>\n",
       "      <td>NaN</td>\n",
       "      <td>NaN</td>\n",
       "      <td>NaN</td>\n",
       "      <td>...</td>\n",
       "      <td>NaN</td>\n",
       "      <td>NaN</td>\n",
       "      <td>NaN</td>\n",
       "      <td>NaN</td>\n",
       "      <td>NaN</td>\n",
       "      <td>NaN</td>\n",
       "      <td>NaN</td>\n",
       "      <td>NaN</td>\n",
       "      <td>NaN</td>\n",
       "      <td>NaN</td>\n",
       "    </tr>\n",
       "  </tbody>\n",
       "</table>\n",
       "<p>5 rows × 1104 columns</p>\n",
       "</div>"
      ],
      "text/plain": [
       "        kmer  isCrossJunction  TCGA-3C-AAAU-01A-11R-A41B-07.all  \\\n",
       "0  MAGRSHPGP            False                               NaN   \n",
       "1  AGRSHPGPL            False                               NaN   \n",
       "2  GRSHPGPLR            False                               NaN   \n",
       "3  RSHPGPLRP            False                               NaN   \n",
       "4  SHPGPLRPL            False                               NaN   \n",
       "\n",
       "   TCGA-3C-AALI-01A-11R-A41B-07.all  TCGA-3C-AALJ-01A-31R-A41B-07.all  \\\n",
       "0                               NaN                               NaN   \n",
       "1                               NaN                               NaN   \n",
       "2                               NaN                               NaN   \n",
       "3                               NaN                               NaN   \n",
       "4                               NaN                               NaN   \n",
       "\n",
       "   TCGA-3C-AALK-01A-11R-A41B-07.all  TCGA-4H-AAAK-01A-12R-A41B-07.all  \\\n",
       "0                               NaN                               NaN   \n",
       "1                               NaN                               NaN   \n",
       "2                               NaN                               NaN   \n",
       "3                               NaN                               NaN   \n",
       "4                               NaN                               NaN   \n",
       "\n",
       "   TCGA-5L-AAT0-01A-12R-A41B-07.all  TCGA-5L-AAT1-01A-12R-A41B-07.all  \\\n",
       "0                               NaN                               NaN   \n",
       "1                               NaN                               NaN   \n",
       "2                               NaN                               NaN   \n",
       "3                               NaN                               NaN   \n",
       "4                               NaN                               NaN   \n",
       "\n",
       "   TCGA-5T-A9QA-01A-11R-A41B-07.all  ...  TCGA-UL-AAZ6-01A-11R-A41B-07.all  \\\n",
       "0                               NaN  ...                               NaN   \n",
       "1                               NaN  ...                               NaN   \n",
       "2                               NaN  ...                               NaN   \n",
       "3                               NaN  ...                               NaN   \n",
       "4                               NaN  ...                               NaN   \n",
       "\n",
       "   TCGA-UU-A93S-01A-21R-A41B-07.all  TCGA-V7-A7HQ-01A-11R-A33J-07.all  \\\n",
       "0                               NaN                               NaN   \n",
       "1                               NaN                               NaN   \n",
       "2                               NaN                               NaN   \n",
       "3                               NaN                               NaN   \n",
       "4                               NaN                               NaN   \n",
       "\n",
       "   TCGA-W8-A86G-01A-21R-A36F-07.all  TCGA-WT-AB41-01A-11R-A41B-07.all  \\\n",
       "0                               NaN                               NaN   \n",
       "1                               NaN                               NaN   \n",
       "2                               NaN                               NaN   \n",
       "3                               NaN                               NaN   \n",
       "4                               NaN                               NaN   \n",
       "\n",
       "   TCGA-WT-AB44-01A-11R-A41B-07.all  TCGA-XX-A899-01A-11R-A36F-07.all  \\\n",
       "0                               NaN                               NaN   \n",
       "1                               NaN                               NaN   \n",
       "2                               NaN                               NaN   \n",
       "3                               NaN                               NaN   \n",
       "4                               NaN                               NaN   \n",
       "\n",
       "   TCGA-XX-A89A-01A-11R-A36F-07.all  TCGA-Z7-A8R5-01A-42R-A41B-07.all  \\\n",
       "0                               NaN                               NaN   \n",
       "1                               NaN                               NaN   \n",
       "2                               NaN                               NaN   \n",
       "3                               NaN                               NaN   \n",
       "4                               NaN                               NaN   \n",
       "\n",
       "   TCGA-Z7-A8R6-01A-11R-A41B-07.all  \n",
       "0                               NaN  \n",
       "1                               NaN  \n",
       "2                               NaN  \n",
       "3                               NaN  \n",
       "4                               NaN  \n",
       "\n",
       "[5 rows x 1104 columns]"
      ]
     },
     "execution_count": 8,
     "metadata": {},
     "output_type": "execute_result"
    }
   ],
   "source": [
    "eth.head()"
   ]
  },
  {
   "cell_type": "code",
   "execution_count": 9,
   "metadata": {
    "ExecuteTime": {
     "end_time": "2022-05-02T11:35:47.140032Z",
     "start_time": "2022-05-02T11:35:47.120968Z"
    }
   },
   "outputs": [
    {
     "data": {
      "text/html": [
       "<div>\n",
       "<style scoped>\n",
       "    .dataframe tbody tr th:only-of-type {\n",
       "        vertical-align: middle;\n",
       "    }\n",
       "\n",
       "    .dataframe tbody tr th {\n",
       "        vertical-align: top;\n",
       "    }\n",
       "\n",
       "    .dataframe thead th {\n",
       "        text-align: right;\n",
       "    }\n",
       "</style>\n",
       "<table border=\"1\" class=\"dataframe\">\n",
       "  <thead>\n",
       "    <tr style=\"text-align: right;\">\n",
       "      <th></th>\n",
       "      <th>jx</th>\n",
       "      <th>TCGA-24-1431-01A-01R-1566-13</th>\n",
       "      <th>TCGA-24-2298-01A-01R-1569-13</th>\n",
       "      <th>TCGA-25-1313-01A-01R-1565-13</th>\n",
       "      <th>TCGA-25-1319-01A-01R-1565-13</th>\n",
       "      <th>TCGA-61-2008-01A-02R-1568-13</th>\n",
       "      <th>TCGA-A2-A0D2-01A-21R-A034-07</th>\n",
       "      <th>TCGA-A2-A0SX-01A-12R-A084-07</th>\n",
       "      <th>TCGA-AO-A0JM-01A-21R-A056-07</th>\n",
       "      <th>TCGA-BH-A18V-01A-11R-A12D-07</th>\n",
       "      <th>...</th>\n",
       "      <th>hanging_txs_included_inframe_pepseqs</th>\n",
       "      <th>prefiltered_in-frame_epitopes</th>\n",
       "      <th>prefiltered_inframe_epitope_count</th>\n",
       "      <th>in-frame neoepitopes</th>\n",
       "      <th>in-frame_neoepitope_count</th>\n",
       "      <th>frame-agnostic_all-transcript_biexons</th>\n",
       "      <th>nonhanging_prefiltered_epitopes</th>\n",
       "      <th>nonhanging_prefiltered_ep_count</th>\n",
       "      <th>nonhanging_neoepitopes</th>\n",
       "      <th>nonhanging_neoep_count</th>\n",
       "    </tr>\n",
       "  </thead>\n",
       "  <tbody>\n",
       "    <tr>\n",
       "      <th>0</th>\n",
       "      <td>chr1;1053978;1054447;+</td>\n",
       "      <td>2451.671033</td>\n",
       "      <td>1623.400763</td>\n",
       "      <td>1051.181948</td>\n",
       "      <td>1073.47063</td>\n",
       "      <td>1526.614818</td>\n",
       "      <td>246.158054</td>\n",
       "      <td>452.656363</td>\n",
       "      <td>651.739725</td>\n",
       "      <td>707.655859</td>\n",
       "      <td>...</td>\n",
       "      <td>NaN</td>\n",
       "      <td>NaN</td>\n",
       "      <td>0</td>\n",
       "      <td>NaN</td>\n",
       "      <td>0</td>\n",
       "      <td>EKALQSNHFELSLRTEATQGLVLWSGKATERADYVALAIVDGHLQL...</td>\n",
       "      <td>NaN</td>\n",
       "      <td>0.0</td>\n",
       "      <td>NaN</td>\n",
       "      <td>0.0</td>\n",
       "    </tr>\n",
       "  </tbody>\n",
       "</table>\n",
       "<p>1 rows × 56 columns</p>\n",
       "</div>"
      ],
      "text/plain": [
       "                       jx  TCGA-24-1431-01A-01R-1566-13  \\\n",
       "0  chr1;1053978;1054447;+                   2451.671033   \n",
       "\n",
       "   TCGA-24-2298-01A-01R-1569-13  TCGA-25-1313-01A-01R-1565-13  \\\n",
       "0                   1623.400763                   1051.181948   \n",
       "\n",
       "   TCGA-25-1319-01A-01R-1565-13  TCGA-61-2008-01A-02R-1568-13  \\\n",
       "0                    1073.47063                   1526.614818   \n",
       "\n",
       "   TCGA-A2-A0D2-01A-21R-A034-07  TCGA-A2-A0SX-01A-12R-A084-07  \\\n",
       "0                    246.158054                    452.656363   \n",
       "\n",
       "   TCGA-AO-A0JM-01A-21R-A056-07  TCGA-BH-A18V-01A-11R-A12D-07  ...  \\\n",
       "0                    651.739725                    707.655859  ...   \n",
       "\n",
       "   hanging_txs_included_inframe_pepseqs  prefiltered_in-frame_epitopes  \\\n",
       "0                                   NaN                            NaN   \n",
       "\n",
       "   prefiltered_inframe_epitope_count  in-frame neoepitopes  \\\n",
       "0                                  0                   NaN   \n",
       "\n",
       "   in-frame_neoepitope_count  \\\n",
       "0                          0   \n",
       "\n",
       "               frame-agnostic_all-transcript_biexons  \\\n",
       "0  EKALQSNHFELSLRTEATQGLVLWSGKATERADYVALAIVDGHLQL...   \n",
       "\n",
       "   nonhanging_prefiltered_epitopes  nonhanging_prefiltered_ep_count  \\\n",
       "0                              NaN                              0.0   \n",
       "\n",
       "   nonhanging_neoepitopes  nonhanging_neoep_count  \n",
       "0                     NaN                     0.0  \n",
       "\n",
       "[1 rows x 56 columns]"
      ]
     },
     "execution_count": 9,
     "metadata": {},
     "output_type": "execute_result"
    }
   ],
   "source": [
    "ohsu.head()"
   ]
  },
  {
   "cell_type": "code",
   "execution_count": 30,
   "metadata": {
    "ExecuteTime": {
     "end_time": "2022-05-02T11:44:15.089187Z",
     "start_time": "2022-05-02T11:44:15.082841Z"
    }
   },
   "outputs": [],
   "source": [
    "target_samples = [col for col in eth.columns if ''.join(col.split('.')[:-1]) in ohsu.columns]\n",
    "target_samples_ohsu = [''.join(col.split('.')[:-1]) for col in target_samples ]"
   ]
  },
  {
   "cell_type": "code",
   "execution_count": 20,
   "metadata": {
    "ExecuteTime": {
     "end_time": "2022-05-02T11:38:44.862197Z",
     "start_time": "2022-05-02T11:38:44.856623Z"
    }
   },
   "outputs": [],
   "source": [
    "\n",
    "eth_small = eth.loc[:, ['kmer', 'isCrossJunction'] + target_samples ]"
   ]
  },
  {
   "cell_type": "code",
   "execution_count": 22,
   "metadata": {
    "ExecuteTime": {
     "end_time": "2022-05-02T11:39:01.241433Z",
     "start_time": "2022-05-02T11:39:01.226723Z"
    }
   },
   "outputs": [
    {
     "data": {
      "text/html": [
       "<div>\n",
       "<style scoped>\n",
       "    .dataframe tbody tr th:only-of-type {\n",
       "        vertical-align: middle;\n",
       "    }\n",
       "\n",
       "    .dataframe tbody tr th {\n",
       "        vertical-align: top;\n",
       "    }\n",
       "\n",
       "    .dataframe thead th {\n",
       "        text-align: right;\n",
       "    }\n",
       "</style>\n",
       "<table border=\"1\" class=\"dataframe\">\n",
       "  <thead>\n",
       "    <tr style=\"text-align: right;\">\n",
       "      <th></th>\n",
       "      <th>kmer</th>\n",
       "      <th>isCrossJunction</th>\n",
       "      <th>TCGA-A2-A0D2-01A-21R-A034-07.all</th>\n",
       "      <th>TCGA-A2-A0SX-01A-12R-A084-07.all</th>\n",
       "      <th>TCGA-AO-A0JM-01A-21R-A056-07.all</th>\n",
       "      <th>TCGA-BH-A18V-01A-11R-A12D-07.all</th>\n",
       "      <th>TCGA-C8-A12P-01A-11R-A115-07.all</th>\n",
       "    </tr>\n",
       "  </thead>\n",
       "  <tbody>\n",
       "    <tr>\n",
       "      <th>0</th>\n",
       "      <td>MAGRSHPGP</td>\n",
       "      <td>False</td>\n",
       "      <td>NaN</td>\n",
       "      <td>NaN</td>\n",
       "      <td>NaN</td>\n",
       "      <td>NaN</td>\n",
       "      <td>NaN</td>\n",
       "    </tr>\n",
       "    <tr>\n",
       "      <th>1</th>\n",
       "      <td>AGRSHPGPL</td>\n",
       "      <td>False</td>\n",
       "      <td>NaN</td>\n",
       "      <td>NaN</td>\n",
       "      <td>NaN</td>\n",
       "      <td>NaN</td>\n",
       "      <td>NaN</td>\n",
       "    </tr>\n",
       "    <tr>\n",
       "      <th>2</th>\n",
       "      <td>GRSHPGPLR</td>\n",
       "      <td>False</td>\n",
       "      <td>NaN</td>\n",
       "      <td>NaN</td>\n",
       "      <td>NaN</td>\n",
       "      <td>NaN</td>\n",
       "      <td>NaN</td>\n",
       "    </tr>\n",
       "    <tr>\n",
       "      <th>3</th>\n",
       "      <td>RSHPGPLRP</td>\n",
       "      <td>False</td>\n",
       "      <td>NaN</td>\n",
       "      <td>NaN</td>\n",
       "      <td>NaN</td>\n",
       "      <td>NaN</td>\n",
       "      <td>NaN</td>\n",
       "    </tr>\n",
       "    <tr>\n",
       "      <th>4</th>\n",
       "      <td>SHPGPLRPL</td>\n",
       "      <td>False</td>\n",
       "      <td>NaN</td>\n",
       "      <td>NaN</td>\n",
       "      <td>NaN</td>\n",
       "      <td>NaN</td>\n",
       "      <td>NaN</td>\n",
       "    </tr>\n",
       "  </tbody>\n",
       "</table>\n",
       "</div>"
      ],
      "text/plain": [
       "        kmer  isCrossJunction  TCGA-A2-A0D2-01A-21R-A034-07.all  \\\n",
       "0  MAGRSHPGP            False                               NaN   \n",
       "1  AGRSHPGPL            False                               NaN   \n",
       "2  GRSHPGPLR            False                               NaN   \n",
       "3  RSHPGPLRP            False                               NaN   \n",
       "4  SHPGPLRPL            False                               NaN   \n",
       "\n",
       "   TCGA-A2-A0SX-01A-12R-A084-07.all  TCGA-AO-A0JM-01A-21R-A056-07.all  \\\n",
       "0                               NaN                               NaN   \n",
       "1                               NaN                               NaN   \n",
       "2                               NaN                               NaN   \n",
       "3                               NaN                               NaN   \n",
       "4                               NaN                               NaN   \n",
       "\n",
       "   TCGA-BH-A18V-01A-11R-A12D-07.all  TCGA-C8-A12P-01A-11R-A115-07.all  \n",
       "0                               NaN                               NaN  \n",
       "1                               NaN                               NaN  \n",
       "2                               NaN                               NaN  \n",
       "3                               NaN                               NaN  \n",
       "4                               NaN                               NaN  "
      ]
     },
     "execution_count": 22,
     "metadata": {},
     "output_type": "execute_result"
    }
   ],
   "source": [
    "eth_small.head()"
   ]
  },
  {
   "cell_type": "markdown",
   "metadata": {},
   "source": [
    "2 possible junction kmers which pass the filtering: SWHIGSRGK, GCGSWHIGS\n",
    "peptide: PWCCVPPCPSTPTAGCGSWHIGSRGKVPCRWAMRPL,ENSG00000188157.15:170_173:0:1053913:2-exons,1,ENSG00000188157.15,chr1,+,ref,1,1,nan,0,nan,nan,1053913;1053977;1054447;1054551;None;None,1053912;1053977;1054447;1054551;None;None,\"(170, 173)\",2-exonsJunction from above : 1053977;1054447\n",
    "\n",
    "Laurie Prelot  20 days ago\n",
    "foreground\n",
    "gene_id  : 70\n",
    "edge id in global file : 1170\n",
    "edge id within gene: 173\n",
    "segment id within gene : (168, 172)\n",
    "segment corresponding coordinates: (168, 1053912, 1053977), (172, 1054447, 1054472),\n",
    "(edited)\n",
    "\n",
    "Laurie Prelot  20 days ago\n",
    "background \n",
    "gene_id  : 70\n",
    "edge id in global file : 3897\n",
    "edge id within gene: 424\n",
    "segment id within gene : (427, 435)\n",
    "segment corresponding coordinates: (427, 1053976, 1053977), (435, 1054447, 1054454)\n"
   ]
  },
  {
   "cell_type": "code",
   "execution_count": 23,
   "metadata": {
    "ExecuteTime": {
     "end_time": "2022-05-02T11:41:15.630560Z",
     "start_time": "2022-05-02T11:41:15.627589Z"
    }
   },
   "outputs": [],
   "source": [
    "kmer= \"SWHIGSRGK\" #, \"GCGSWHIGS\""
   ]
  },
  {
   "cell_type": "code",
   "execution_count": 25,
   "metadata": {
    "ExecuteTime": {
     "end_time": "2022-05-02T11:41:46.469688Z",
     "start_time": "2022-05-02T11:41:46.431241Z"
    }
   },
   "outputs": [
    {
     "data": {
      "text/html": [
       "<div>\n",
       "<style scoped>\n",
       "    .dataframe tbody tr th:only-of-type {\n",
       "        vertical-align: middle;\n",
       "    }\n",
       "\n",
       "    .dataframe tbody tr th {\n",
       "        vertical-align: top;\n",
       "    }\n",
       "\n",
       "    .dataframe thead th {\n",
       "        text-align: right;\n",
       "    }\n",
       "</style>\n",
       "<table border=\"1\" class=\"dataframe\">\n",
       "  <thead>\n",
       "    <tr style=\"text-align: right;\">\n",
       "      <th></th>\n",
       "      <th>kmer</th>\n",
       "      <th>isCrossJunction</th>\n",
       "      <th>TCGA-A2-A0D2-01A-21R-A034-07.all</th>\n",
       "      <th>TCGA-A2-A0SX-01A-12R-A084-07.all</th>\n",
       "      <th>TCGA-AO-A0JM-01A-21R-A056-07.all</th>\n",
       "      <th>TCGA-BH-A18V-01A-11R-A12D-07.all</th>\n",
       "      <th>TCGA-C8-A12P-01A-11R-A115-07.all</th>\n",
       "    </tr>\n",
       "  </thead>\n",
       "  <tbody>\n",
       "    <tr>\n",
       "      <th>5361</th>\n",
       "      <td>SWHIGSRGK</td>\n",
       "      <td>True</td>\n",
       "      <td>180.0</td>\n",
       "      <td>397.0</td>\n",
       "      <td>310.0</td>\n",
       "      <td>572.0</td>\n",
       "      <td>154.0</td>\n",
       "    </tr>\n",
       "  </tbody>\n",
       "</table>\n",
       "</div>"
      ],
      "text/plain": [
       "           kmer  isCrossJunction  TCGA-A2-A0D2-01A-21R-A034-07.all  \\\n",
       "5361  SWHIGSRGK             True                             180.0   \n",
       "\n",
       "      TCGA-A2-A0SX-01A-12R-A084-07.all  TCGA-AO-A0JM-01A-21R-A056-07.all  \\\n",
       "5361                             397.0                             310.0   \n",
       "\n",
       "      TCGA-BH-A18V-01A-11R-A12D-07.all  TCGA-C8-A12P-01A-11R-A115-07.all  \n",
       "5361                             572.0                             154.0  "
      ]
     },
     "execution_count": 25,
     "metadata": {},
     "output_type": "execute_result"
    }
   ],
   "source": [
    "eth_small.loc[eth_small['kmer'] == kmer, :]"
   ]
  },
  {
   "cell_type": "code",
   "execution_count": 41,
   "metadata": {
    "ExecuteTime": {
     "end_time": "2022-05-02T11:52:08.087626Z",
     "start_time": "2022-05-02T11:52:06.737492Z"
    }
   },
   "outputs": [
    {
     "name": "stdout",
     "output_type": "stream",
     "text": [
      "/cluster/work/grlab/projects/projects2020_OHSU/peptides_generation/v2_v2.5f0752a_conf2_annotFrame_cap0_runs_pya0.17.1/TCGA_Breast_1102/filter_TCGA-A2-A0D2-01A-21R-A034-07.all/TCGAA2A0D201A21RA03407all_generated_init_normalized/part-00000-cb15ca21-09a5-4238-8b32-868f0668274d-c000.csv.gz\n",
      "SWHIGSRGK\t246.16\n",
      "/cluster/work/grlab/projects/projects2020_OHSU/peptides_generation/v2_v2.5f0752a_conf2_annotFrame_cap0_runs_pya0.17.1/TCGA_Breast_1102/filter_TCGA-A2-A0SX-01A-12R-A084-07.all/TCGAA2A0SX01A12RA08407all_generated_init_normalized/part-00000-e4f50df0-3368-43de-a7d8-79208dabfa5f-c000.csv.gz\n",
      "SWHIGSRGK\t452.66\n",
      "/cluster/work/grlab/projects/projects2020_OHSU/peptides_generation/v2_v2.5f0752a_conf2_annotFrame_cap0_runs_pya0.17.1/TCGA_Breast_1102/filter_TCGA-AO-A0JM-01A-21R-A056-07.all/TCGAAOA0JM01A21RA05607all_generated_init_normalized/part-00000-279e5cac-54d6-43b8-bb77-3d234acdc200-c000.csv.gz\n",
      "SWHIGSRGK\t651.74\n",
      "/cluster/work/grlab/projects/projects2020_OHSU/peptides_generation/v2_v2.5f0752a_conf2_annotFrame_cap0_runs_pya0.17.1/TCGA_Breast_1102/filter_TCGA-BH-A18V-01A-11R-A12D-07.all/TCGABHA18V01A11RA12D07all_generated_init_normalized/part-00000-fdf40da9-2e97-4675-a6a4-4702bb239b4e-c000.csv.gz\n",
      "SWHIGSRGK\t707.66\n",
      "/cluster/work/grlab/projects/projects2020_OHSU/peptides_generation/v2_v2.5f0752a_conf2_annotFrame_cap0_runs_pya0.17.1/TCGA_Breast_1102/filter_TCGA-C8-A12P-01A-11R-A115-07.all/TCGAC8A12P01A11RA11507all_generated_init_normalized/part-00000-dd4e63a7-58cf-483e-9009-1af7dbba9f5e-c000.csv.gz\n",
      "SWHIGSRGK\t225.04\n"
     ]
    }
   ],
   "source": [
    "# eth normalized\n",
    "\n",
    "! for file_ in /cluster/work/grlab/projects/projects2020_OHSU/peptides_generation/v2_v2.5f0752a_conf2_annotFrame_cap0_runs_pya0.17.1/TCGA_Breast_1102/filter_TCGA-*/*normalized*/*part*; \\\n",
    "do echo $file_; zcat ${file_} | grep SWHIGSRGK; done"
   ]
  },
  {
   "cell_type": "code",
   "execution_count": 43,
   "metadata": {
    "ExecuteTime": {
     "end_time": "2022-05-02T11:54:14.943212Z",
     "start_time": "2022-05-02T11:54:14.398037Z"
    }
   },
   "outputs": [
    {
     "data": {
      "text/html": [
       "<div>\n",
       "<style scoped>\n",
       "    .dataframe tbody tr th:only-of-type {\n",
       "        vertical-align: middle;\n",
       "    }\n",
       "\n",
       "    .dataframe tbody tr th {\n",
       "        vertical-align: top;\n",
       "    }\n",
       "\n",
       "    .dataframe thead th {\n",
       "        text-align: right;\n",
       "    }\n",
       "</style>\n",
       "<table border=\"1\" class=\"dataframe\">\n",
       "  <thead>\n",
       "    <tr style=\"text-align: right;\">\n",
       "      <th></th>\n",
       "      <th>jx</th>\n",
       "      <th>GTEx_brain_testis_over0</th>\n",
       "      <th>GTEx_brain_testis_over10</th>\n",
       "      <th>GTEx_brain_testis_over3</th>\n",
       "      <th>GTEx_breast_over0</th>\n",
       "      <th>GTEx_breast_over10</th>\n",
       "      <th>GTEx_breast_over3</th>\n",
       "      <th>GTEx_core_over0</th>\n",
       "      <th>GTEx_core_over10</th>\n",
       "      <th>GTEx_core_over3</th>\n",
       "      <th>...</th>\n",
       "      <th>hanging_txs_included_inframe_pepseqs</th>\n",
       "      <th>prefiltered_in-frame_epitopes</th>\n",
       "      <th>prefiltered_inframe_epitope_count</th>\n",
       "      <th>in-frame neoepitopes</th>\n",
       "      <th>in-frame_neoepitope_count</th>\n",
       "      <th>frame-agnostic_all-transcript_biexons</th>\n",
       "      <th>nonhanging_prefiltered_epitopes</th>\n",
       "      <th>nonhanging_prefiltered_ep_count</th>\n",
       "      <th>nonhanging_neoepitopes</th>\n",
       "      <th>nonhanging_neoep_count</th>\n",
       "    </tr>\n",
       "  </thead>\n",
       "  <tbody>\n",
       "    <tr>\n",
       "      <th>0</th>\n",
       "      <td>chr1;1053978;1054447;+</td>\n",
       "      <td>1595.0</td>\n",
       "      <td>1577.0</td>\n",
       "      <td>1590.0</td>\n",
       "      <td>218.0</td>\n",
       "      <td>218.0</td>\n",
       "      <td>218.0</td>\n",
       "      <td>7799.0</td>\n",
       "      <td>7389.0</td>\n",
       "      <td>7685.0</td>\n",
       "      <td>...</td>\n",
       "      <td>NaN</td>\n",
       "      <td>NaN</td>\n",
       "      <td>0</td>\n",
       "      <td>NaN</td>\n",
       "      <td>0</td>\n",
       "      <td>EKALQSNHFELSLRTEATQGLVLWSGKATERADYVALAIVDGHLQL...</td>\n",
       "      <td>NaN</td>\n",
       "      <td>0.0</td>\n",
       "      <td>NaN</td>\n",
       "      <td>0.0</td>\n",
       "    </tr>\n",
       "  </tbody>\n",
       "</table>\n",
       "<p>1 rows × 43 columns</p>\n",
       "</div>"
      ],
      "text/plain": [
       "                       jx  GTEx_brain_testis_over0  GTEx_brain_testis_over10  \\\n",
       "0  chr1;1053978;1054447;+                   1595.0                    1577.0   \n",
       "\n",
       "   GTEx_brain_testis_over3  GTEx_breast_over0  GTEx_breast_over10  \\\n",
       "0                   1590.0              218.0               218.0   \n",
       "\n",
       "   GTEx_breast_over3  GTEx_core_over0  GTEx_core_over10  GTEx_core_over3  ...  \\\n",
       "0              218.0           7799.0            7389.0           7685.0  ...   \n",
       "\n",
       "   hanging_txs_included_inframe_pepseqs  prefiltered_in-frame_epitopes  \\\n",
       "0                                   NaN                            NaN   \n",
       "\n",
       "   prefiltered_inframe_epitope_count  in-frame neoepitopes  \\\n",
       "0                                  0                   NaN   \n",
       "\n",
       "   in-frame_neoepitope_count  \\\n",
       "0                          0   \n",
       "\n",
       "               frame-agnostic_all-transcript_biexons  \\\n",
       "0  EKALQSNHFELSLRTEATQGLVLWSGKATERADYVALAIVDGHLQL...   \n",
       "\n",
       "   nonhanging_prefiltered_epitopes  nonhanging_prefiltered_ep_count  \\\n",
       "0                              NaN                              0.0   \n",
       "\n",
       "   nonhanging_neoepitopes nonhanging_neoep_count  \n",
       "0                     NaN                    0.0  \n",
       "\n",
       "[1 rows x 43 columns]"
      ]
     },
     "execution_count": 43,
     "metadata": {},
     "output_type": "execute_result"
    }
   ],
   "source": [
    "ohsu.loc[: , [col for col in ohsu.columns if 'TCGA' not in col]]"
   ]
  },
  {
   "cell_type": "code",
   "execution_count": 49,
   "metadata": {
    "ExecuteTime": {
     "end_time": "2022-05-02T11:56:08.788155Z",
     "start_time": "2022-05-02T11:56:08.783451Z"
    }
   },
   "outputs": [
    {
     "data": {
      "text/plain": [
       "array([['EKALQSNHFELSLRTEATQGLVLWSGKATERADYVALAIVDGHLQLSYNLGSQPVVLRSTVPVNTNRWLRVVAHREQREGSLQVGNEAPVTGSSPLGATQLDTDGALWLGGLPELPVGP']],\n",
       "      dtype=object)"
      ]
     },
     "execution_count": 49,
     "metadata": {},
     "output_type": "execute_result"
    }
   ],
   "source": [
    "ohsu.loc[:, ['frame-agnostic_all-transcript_biexons']].values"
   ]
  },
  {
   "cell_type": "code",
   "execution_count": 44,
   "metadata": {
    "ExecuteTime": {
     "end_time": "2022-05-02T11:54:37.784186Z",
     "start_time": "2022-05-02T11:54:37.732090Z"
    }
   },
   "outputs": [
    {
     "data": {
      "text/html": [
       "<div>\n",
       "<style scoped>\n",
       "    .dataframe tbody tr th:only-of-type {\n",
       "        vertical-align: middle;\n",
       "    }\n",
       "\n",
       "    .dataframe tbody tr th {\n",
       "        vertical-align: top;\n",
       "    }\n",
       "\n",
       "    .dataframe thead th {\n",
       "        text-align: right;\n",
       "    }\n",
       "</style>\n",
       "<table border=\"1\" class=\"dataframe\">\n",
       "  <thead>\n",
       "    <tr style=\"text-align: right;\">\n",
       "      <th></th>\n",
       "      <th>jx</th>\n",
       "      <th>TCGA-A2-A0D2-01A-21R-A034-07</th>\n",
       "      <th>TCGA-A2-A0SX-01A-12R-A084-07</th>\n",
       "      <th>TCGA-AO-A0JM-01A-21R-A056-07</th>\n",
       "      <th>TCGA-BH-A18V-01A-11R-A12D-07</th>\n",
       "      <th>TCGA-C8-A12P-01A-11R-A115-07</th>\n",
       "    </tr>\n",
       "  </thead>\n",
       "  <tbody>\n",
       "    <tr>\n",
       "      <th>0</th>\n",
       "      <td>chr1;1053978;1054447;+</td>\n",
       "      <td>246.158054</td>\n",
       "      <td>452.656363</td>\n",
       "      <td>651.739725</td>\n",
       "      <td>707.655859</td>\n",
       "      <td>225.043383</td>\n",
       "    </tr>\n",
       "  </tbody>\n",
       "</table>\n",
       "</div>"
      ],
      "text/plain": [
       "                       jx  TCGA-A2-A0D2-01A-21R-A034-07  \\\n",
       "0  chr1;1053978;1054447;+                    246.158054   \n",
       "\n",
       "   TCGA-A2-A0SX-01A-12R-A084-07  TCGA-AO-A0JM-01A-21R-A056-07  \\\n",
       "0                    452.656363                    651.739725   \n",
       "\n",
       "   TCGA-BH-A18V-01A-11R-A12D-07  TCGA-C8-A12P-01A-11R-A115-07  \n",
       "0                    707.655859                    225.043383  "
      ]
     },
     "execution_count": 44,
     "metadata": {},
     "output_type": "execute_result"
    }
   ],
   "source": [
    "ohsu.loc[:, ['jx'] + target_samples_ohsu]"
   ]
  },
  {
   "cell_type": "code",
   "execution_count": 26,
   "metadata": {
    "ExecuteTime": {
     "end_time": "2022-05-02T11:42:01.896412Z",
     "start_time": "2022-05-02T11:42:01.890002Z"
    }
   },
   "outputs": [
    {
     "data": {
      "text/plain": [
       "Index(['jx', 'TCGA-24-1431-01A-01R-1566-13', 'TCGA-24-2298-01A-01R-1569-13',\n",
       "       'TCGA-25-1313-01A-01R-1565-13', 'TCGA-25-1319-01A-01R-1565-13',\n",
       "       'TCGA-61-2008-01A-02R-1568-13', 'TCGA-A2-A0D2-01A-21R-A034-07',\n",
       "       'TCGA-A2-A0SX-01A-12R-A084-07', 'TCGA-AO-A0JM-01A-21R-A056-07',\n",
       "       'TCGA-BH-A18V-01A-11R-A12D-07', 'TCGA-C8-A12P-01A-11R-A115-07',\n",
       "       'GTEx_brain_testis_over0', 'GTEx_brain_testis_over10',\n",
       "       'GTEx_brain_testis_over3', 'GTEx_breast_over0', 'GTEx_breast_over10',\n",
       "       'GTEx_breast_over3', 'GTEx_core_over0', 'GTEx_core_over10',\n",
       "       'GTEx_core_over3', 'GTEx_ovary_over0', 'GTEx_ovary_over10',\n",
       "       'GTEx_ovary_over3', 'all_TCGA_over0', 'all_TCGA_over10',\n",
       "       'all_TCGA_over3', 'BRCA_over_1', 'BRCA_over_0', 'OV_over_5',\n",
       "       'OV_over_0', 'OV_over_1', 'BRCA_over_5', 'motif', 'annotation',\n",
       "       '5';3'_coding_regions', 'has_cds', 'gene', 'gene_id', 'upstream_exon',\n",
       "       'upstream_txs', 'downstream_exon', 'downstream_txs',\n",
       "       'modified_upstream_txs', 'in-frame_all-transcript_biexons',\n",
       "       'in-frame_nonhanging-tx_biexons', 'in-frame_peptide_sequence',\n",
       "       'hanging_txs_included_inframe_pepseqs', 'prefiltered_in-frame_epitopes',\n",
       "       'prefiltered_inframe_epitope_count', 'in-frame neoepitopes',\n",
       "       'in-frame_neoepitope_count', 'frame-agnostic_all-transcript_biexons',\n",
       "       'nonhanging_prefiltered_epitopes', 'nonhanging_prefiltered_ep_count',\n",
       "       'nonhanging_neoepitopes', 'nonhanging_neoep_count'],\n",
       "      dtype='object')"
      ]
     },
     "execution_count": 26,
     "metadata": {},
     "output_type": "execute_result"
    }
   ],
   "source": [
    "ohsu.columns"
   ]
  },
  {
   "cell_type": "code",
   "execution_count": null,
   "metadata": {},
   "outputs": [],
   "source": []
  }
 ],
 "metadata": {
  "kernelspec": {
   "display_name": "myimmuno3_light",
   "language": "python",
   "name": "myimmuno3_light"
  },
  "language_info": {
   "codemirror_mode": {
    "name": "ipython",
    "version": 3
   },
   "file_extension": ".py",
   "mimetype": "text/x-python",
   "name": "python",
   "nbconvert_exporter": "python",
   "pygments_lexer": "ipython3",
   "version": "3.8.5"
  }
 },
 "nbformat": 4,
 "nbformat_minor": 4
}
