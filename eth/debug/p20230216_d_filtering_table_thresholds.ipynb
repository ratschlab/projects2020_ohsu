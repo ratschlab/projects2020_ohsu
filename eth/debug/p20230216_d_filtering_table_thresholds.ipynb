{
 "cells": [
  {
   "cell_type": "code",
   "execution_count": 1,
   "id": "cab1d99c",
   "metadata": {
    "scrolled": true
   },
   "outputs": [
    {
     "name": "stderr",
     "output_type": "stream",
     "text": [
      "Matplotlib created a temporary config/cache directory at /scratch/slurm-job.727468/matplotlib-jbu5_qmt because the default path (/cluster/customapps/biomed/grlab/users/prelotla/.cache/matplotlib) is not a writable directory; it is highly recommended to set the MPLCONFIGDIR environment variable to a writable directory, in particular to speed up the import of Matplotlib and to better support multiprocessing.\n"
     ]
    }
   ],
   "source": [
    "import numpy as np\n",
    "import os\n",
    "import timeit\n",
    "import glob \n",
    "import pandas as pd\n",
    "import time\n",
    "import multiprocessing as mp \n",
    "import logging\n",
    "import sys \n",
    "from pathlib import Path\n",
    "import matplotlib.pyplot as plt "
   ]
  },
  {
   "cell_type": "markdown",
   "id": "7a8f2e8d",
   "metadata": {},
   "source": [
    "# Order \n",
    "- Uniprot \n",
    "- Sample init\n",
    "- Sample expression \n",
    "- Sample cohort \n",
    "- annotation \n",
    "- GTEX?"
   ]
  },
  {
   "cell_type": "code",
   "execution_count": 2,
   "id": "fcf5e3ca",
   "metadata": {},
   "outputs": [],
   "source": [
    "def filter_cancer_cohort(df, n_samples, threshold_column ):\n",
    "    df = df.loc[df[threshold_column] >= n_samples]    \n",
    "    return df\n",
    "        "
   ]
  },
  {
   "cell_type": "code",
   "execution_count": 3,
   "id": "d2674c73",
   "metadata": {},
   "outputs": [],
   "source": [
    "def get_threshold_colname(threshold, tag):\n",
    "    if (threshold is not None) and (threshold > 0 ):\n",
    "        threshold_column = f'{tag}filter >={threshold}'\n",
    "    else:\n",
    "        threshold_column = f'{tag}filter >{threshold}'\n",
    "    return threshold_column"
   ]
  },
  {
   "cell_type": "code",
   "execution_count": 4,
   "id": "783a8bfa",
   "metadata": {},
   "outputs": [],
   "source": [
    "def filter_single_col(df, threshold, colname):\n",
    "    if threshold:\n",
    "        df = df.loc[df[colname] >= threshold, :]\n",
    "    else:\n",
    "        df = df.loc[df[colname] >threshold, :]\n",
    "    return df"
   ]
  },
  {
   "cell_type": "code",
   "execution_count": 5,
   "id": "0ab8af74",
   "metadata": {},
   "outputs": [],
   "source": [
    "def max_recurrence_over_kmer(df, threshold_column, new_maxcol):\n",
    "    df = df[['kmer', threshold_column]].groupby('kmer').max()\n",
    "    df = df.reset_index()\n",
    "    df = df.rename({threshold_column: new_maxcol}, axis = 1)\n",
    "    return df "
   ]
  },
  {
   "cell_type": "code",
   "execution_count": 6,
   "id": "898b4316",
   "metadata": {},
   "outputs": [],
   "source": [
    "def output_count(df, report_count, report_step, step_string, perform_count=True):\n",
    "    '''\n",
    "    Performs a count operation on the number of kmers present in spark dataframe after a given filtering step\n",
    "    Note: This operation is expensive but useful if the user is interested in intermediate filtering steps\n",
    "    :param perform_count: bool whether to perform a count operation\n",
    "    :param df: dataframe with kmer expression counts\n",
    "    :param report_count: list to store result of successive counting operations\n",
    "    :param report_step: list to store name of successive counting operations\n",
    "    :param step_string: str name of the counting operation\n",
    "    '''\n",
    "    if perform_count:\n",
    "        mycount = df['kmer'].unique().shape[0]\n",
    "        report_count.append(mycount)\n",
    "        report_step.append(step_string)\n",
    "        print(f'# {step_string} n = {mycount} kmers')"
   ]
  },
  {
   "cell_type": "code",
   "execution_count": 34,
   "id": "d48b942c",
   "metadata": {},
   "outputs": [],
   "source": [
    "def save_output_count(output_count, report_count, report_steps, prefix, cancer_sample_ori, mutation_mode,\n",
    "                      sample_expr_support_cancer, cohort_expr_support_cancer, n_samples_lim_cancer,\n",
    "                          cohort_expr_support_normal, n_samples_lim_normal, id_normals):\n",
    "    '''\n",
    "    Saves the number of kmers present in spark dataframe after each filtering step in a tabular file\n",
    "    :param output_count: str path for count file of intermediate filtering steps\n",
    "    :param report_count: list to store result of successive counting operations\n",
    "    :param report_step: list to store name of successive counting operations\n",
    "    :param prefix: str information to be added to the result line in an info column\n",
    "    :param cancer_sample_ori: str id of target cancer sample which was filtered\n",
    "    :param mutation_mode: str information about whether mutations where applied or not\n",
    "    :param sample_expr_support_cancer: float normalized expression threshold for the cancer target sample\n",
    "    :param cohort_expr_support_cancer: float normalized expression threshold for the cancer cohort\n",
    "    excluding the target sample\n",
    "    hich should be met in n samples\n",
    "    :param n_samples_lim_cancer: int number of cancer samples in which the cancer cohort expression threshold\n",
    "    should be met\n",
    "    :param cohort_expr_support_normal: float normalized expression threshold for the normal cohort\n",
    "    required in any sample (>=1)\n",
    "    :param n_samples_lim_normal: int number of normal samples in which any number of reads is required (>0)\n",
    "    :param id_normals: str id of the normal cohort (example gtex)\n",
    "    '''\n",
    "    pipeline = 'peptide-based'\n",
    "    if output_count:\n",
    "        header = (f'{\"sample\"}\\t{\"mutation_mode\"}\\t{\"pipeline\"}\\t{\"min_sample_reads\"}\\t{\"#_of_cohort_samples\"}\\t'\n",
    "                  f'{\"reads_per_cohort_sample\"}\\t{\"#_normal_samples_allowed\"}\\t{\"normal_cohort_id\"}'\n",
    "                  f'\\t{\"reads_per_normal_sample\"}')\n",
    "        line =   (f'{cancer_sample_ori}\\t{mutation_mode}\\t{pipeline}\\t{sample_expr_support_cancer}\\t{n_samples_lim_cancer}'\n",
    "                  f'\\t{cohort_expr_support_cancer}\\t{n_samples_lim_normal}\\t{id_normals}'\n",
    "                  f'\\t{cohort_expr_support_normal}')\n",
    "\n",
    "        for idx in np.arange(len(report_count)):\n",
    "            header += f'\\t{report_steps[idx]}'\n",
    "            line += f'\\t{report_count[idx]}'\n",
    "        if prefix:\n",
    "            header += f'\\t{\"info\"}'\n",
    "            line += f'\\t{prefix}'\n",
    "        header += \"\\n\"\n",
    "        line += \"\\n\"\n",
    "        \n",
    "        print(header, len(header.split('\\t')))\n",
    "        print(line, len(line.split('\\t')))\n",
    "#         if not os.path.exists(output_count):\n",
    "#             with open(output_count,\"w\") as f:\n",
    "#                 f.write(header)\n",
    "#         with open(output_count, \"a\") as f:\n",
    "#             f.write(line)\n",
    "#         logging.info(f'Save intermediate info to {output_count}')"
   ]
  },
  {
   "cell_type": "code",
   "execution_count": null,
   "id": "1ffdeabd",
   "metadata": {},
   "outputs": [],
   "source": [
    "# Julianne sample  mutation_mode   pipeline        min_sample_reads        #_of_cohort_samples     reads_per_cohort_sample #_normal_samples_allowed        normal_cohort_id        reads_per_normal_sample motif_filter    Init_cancer     Filter_Sample   Filter_Sample_Cohort    Filter_Sample_Cohort_CohortBackground   Filter_Motif    Filter_Sample_Cohort_CohortBackground_Uniprot\n"
   ]
  },
  {
   "cell_type": "code",
   "execution_count": null,
   "id": "6cdd4e2b",
   "metadata": {},
   "outputs": [],
   "source": []
  },
  {
   "cell_type": "code",
   "execution_count": 23,
   "id": "f9c6f241",
   "metadata": {},
   "outputs": [],
   "source": [
    "basedir = '/cluster/work/grlab/projects/projects2020_OHSU/peptides_generation/CANCER_eth/commit_c4dd02c_conf2_Frame_cap0_runs/TCGA_Breast_1102'\n",
    "\n",
    "intermediate_output = os.path.join(basedir, 'filtering_intermediate/complete_cancer_candidates_missing_162_45.tsv.gz')\n",
    "\n",
    "filtering_id = 'test_filter'\n",
    "output_dir = os.path.join(basedir, 'filtering_samples', filtering_id)\n",
    "pathlib.Path(output_dir).mkdir(exist_ok=True, parents=True)"
   ]
  },
  {
   "cell_type": "code",
   "execution_count": 8,
   "id": "e9c1eddc",
   "metadata": {},
   "outputs": [],
   "source": [
    "target_samples = ['TCGA-C8-A12P-01A-11R-A115-07.all',\n",
    "                'TCGA-AO-A0JM-01A-21R-A056-07.all',\n",
    "                'TCGA-BH-A18V-01A-11R-A12D-07.all',\n",
    "                'TCGA-A2-A0D2-01A-21R-A034-07.all',\n",
    "                'TCGA-A2-A0SX-01A-12R-A084-07.all']\n",
    "\n",
    "\n",
    "Threshold_target = [1.0, 3.0]\n",
    "Threshold_cancer_cohort = [3.0, 5.0] # choices = [0.0, 1.0, 2.0, 3.0, 5.0, 10.0]\n",
    "N_samples_cancer = [10, 520] # choices 1 to 1102 for BRCA and 379 for OV   \n",
    "\n",
    "Threshold_normal_cohort = [0.0, 10.0]   # choices = [0.0, 1.0, 2.0, 3.0, 5.0, 10.0]\n",
    "N_samples_normal = [2, 15] #choices 1 to max number of samples in Normal whitelist\n",
    "\n",
    "tag_cancer = 'cancerCohort'\n",
    "tag_normal = 'gtexCohort'\n",
    "\n",
    "\n",
    "tag_prefix = 'G_'\n",
    "mutation_mode = 'ref'\n",
    "save_tag = 'GtexCohort'\n"
   ]
  },
  {
   "cell_type": "code",
   "execution_count": 9,
   "id": "c38d0281",
   "metadata": {},
   "outputs": [],
   "source": [
    "df_load = pd.read_csv(intermediate_output, sep = '\\t')"
   ]
  },
  {
   "cell_type": "code",
   "execution_count": null,
   "id": "76817af3",
   "metadata": {},
   "outputs": [
    {
     "name": "stdout",
     "output_type": "stream",
     "text": [
      "processing TCGAC8A12P01A11RA11507all\n",
      "Saving to summary file /cluster/work/grlab/projects/projects2020_OHSU/peptides_generation/CANCER_eth/commit_c4dd02c_conf2_Frame_cap0_runs/TCGA_Breast_1102/filtering_samples/test_filter/G_filtered_df_TCGA-C8-A12P-01A-11R-A115-07_samp_chrt_norm_mot.tsv\n",
      "# Init_Sample n = 594980 kmers\n",
      "# Filter_Sample n = 594980 kmers\n",
      "# Filter_Sample_Cohort n = 565448 kmers\n",
      "# Filter_Sample_Cohort_CohortNormal n = 0 kmers\n",
      "# Filter_Sample_Cohort_CohortNormal_pepAnnot n = 0 kmers\n",
      "Saving outputs to: /cluster/work/grlab/projects/projects2020_OHSU/peptides_generation/CANCER_eth/commit_c4dd02c_conf2_Frame_cap0_runs/TCGA_Breast_1102/filtering_samples/test_filter/G_TCGA-C8-A12P-01A-11R-A115-07_SampleLim1.0CohortLim3.0Across10_FiltNormalsGtexCohortCohortlim0.0Across2.tsv \n",
      "\n",
      "# Init_Sample n = 594980 kmers\n",
      "# Filter_Sample n = 594980 kmers\n",
      "# Filter_Sample_Cohort n = 565448 kmers\n"
     ]
    }
   ],
   "source": [
    "for cancer_sample_ori in target_samples[0:1]: # TODO update\n",
    "    \n",
    "    target_sample = cancer_sample_ori.replace('-', '').replace('.', '')\n",
    "    cancer_sample_ori = cancer_sample_ori.replace('.all', '')\n",
    "    print(f'processing {target_sample}')\n",
    "    \n",
    "    summary_file = f'{tag_prefix}filtered_df_{cancer_sample_ori}_samp_chrt_norm_mot.tsv'\n",
    "    summary_path = os.path.join(output_dir, summary_file)\n",
    "    print(f'Saving to summary file {summary_path}')\n",
    "    \n",
    "\n",
    "    df_expr = []\n",
    "    report_count = [] \n",
    "    report_steps = []\n",
    "    for threshold_target in Threshold_target:\n",
    "        for threshold_cancer_cohort in Threshold_cancer_cohort:\n",
    "            for n_samples_cancer in N_samples_cancer:\n",
    "                for threshold_normal_cohort in Threshold_normal_cohort:\n",
    "                    for n_samples_normal in N_samples_normal:\n",
    "\n",
    "                        adjusted_threshold_col = 'tmp_cancer_cohort'\n",
    "                        max_threshold_col = 'tmp_normal_Nmax_sup{}'.format(threshold_normal_cohort)\n",
    "                        max_threshold_col_base = 'tmp_normal_Nmax_sup{}'.format(0)\n",
    "\n",
    "\n",
    "                        df = df_load.copy()\n",
    "                        # Make correction for number samples passing theshold in cohort. We want to exclude the target sample in counting\n",
    "                        df[adjusted_threshold_col] = df[get_threshold_colname(threshold_cancer_cohort, tag_cancer)]\n",
    "                        df.loc[df[target_sample] >= threshold_cancer_cohort, adjusted_threshold_col] -=1 \n",
    "\n",
    "                        # Number of kmers expressed in sample \n",
    "                        df = filter_single_col(df, 0, target_sample)\n",
    "                        output_count(df, report_count, report_steps, 'Init_Sample')\n",
    "\n",
    "                        # Number of kmers >= threshold in sample \n",
    "                        df = filter_single_col(df, threshold_target, target_sample)\n",
    "                        output_count(df, report_count, report_steps, 'Filter_Sample')\n",
    "\n",
    "                        \n",
    "                        # Filter for cancer cancer cohort \n",
    "                        df = filter_cancer_cohort(df, n_samples_cancer, adjusted_threshold_col)\n",
    "                        output_count(df, report_count, report_steps, 'Filter_Sample_Cohort')\n",
    "\n",
    "\n",
    "                        # Expression in gtex cohort >= threshold \n",
    "                        recurrence_custom =  max_recurrence_over_kmer(df, \n",
    "                                                                      get_threshold_colname(threshold_normal_cohort, tag_normal), \n",
    "                                                                      max_threshold_col)\n",
    "\n",
    "                        # Expression in gtex cohort > 0  \n",
    "                        recurrence_custom_base = max_recurrence_over_kmer(df, \n",
    "                                                                          get_threshold_colname(0.0, tag_normal),\n",
    "                                                                          max_threshold_col_base) \n",
    "\n",
    "\n",
    "\n",
    "\n",
    "                        # Perform Background filtering \n",
    "                        df = df.merge(recurrence_custom, on = 'kmer', how = 'left')\n",
    "                        df = df.merge(recurrence_custom_base, on = 'kmer', how = 'left')\n",
    "\n",
    "                        df = df.loc[ ~ (df[max_threshold_col] >= 1) & (df[max_threshold_col_base] >= n_samples_normal), :]\n",
    "                        output_count(df, report_count, report_steps, 'Filter_Sample_Cohort_CohortNormal')\n",
    "                        \n",
    "                        #Perform Annotated junctions filtering \n",
    "                        df = df[df['isAnnotated'].isna()]\n",
    "                        output_count(df, report_count, report_steps, 'Filter_Sample_Cohort_CohortNormal_pepAnnot')\n",
    "\n",
    "\n",
    "                        \n",
    "                        \n",
    "                        \n",
    "                        # Save outputs \n",
    "                        # outpaths\n",
    "                        base_path_final = os.path.join(output_dir,\n",
    "                                                       (f'{tag_prefix}{cancer_sample_ori}_'\n",
    "                                                        f'SampleLim{threshold_target}'\n",
    "                                                        f'CohortLim{threshold_cancer_cohort}'\n",
    "                                                        f'Across{n_samples_cancer}_'\n",
    "                                                        f'FiltNormals{save_tag}'\n",
    "                                                        f'Cohortlim{threshold_normal_cohort}'\n",
    "                                                        f'Across{n_samples_normal}.tsv'))\n",
    "                        print(f'Saving outputs to: {base_path_final} \\n')\n",
    "                        ### SAVING ONLY \n",
    "                        #- kmer non uniques ??\n",
    "                        #- Coordinates\n",
    "\n",
    "    save_output_count(output_count, report_count, report_steps, '', cancer_sample_ori, mutation_mode,\n",
    "                      threshold_target, threshold_cancer_cohort, n_samples_cancer,\n",
    "                          threshold_normal_cohort, n_samples_normal, save_tag)"
   ]
  },
  {
   "cell_type": "code",
   "execution_count": null,
   "id": "73653273",
   "metadata": {},
   "outputs": [],
   "source": []
  },
  {
   "cell_type": "code",
   "execution_count": null,
   "id": "35a5b366",
   "metadata": {},
   "outputs": [],
   "source": []
  },
  {
   "cell_type": "code",
   "execution_count": null,
   "id": "98ef99e2",
   "metadata": {},
   "outputs": [],
   "source": []
  },
  {
   "cell_type": "code",
   "execution_count": null,
   "id": "85f979d9",
   "metadata": {},
   "outputs": [],
   "source": []
  },
  {
   "cell_type": "code",
   "execution_count": null,
   "id": "b35b9cae",
   "metadata": {},
   "outputs": [],
   "source": []
  }
 ],
 "metadata": {
  "kernelspec": {
   "display_name": "Python 3 (ipykernel)",
   "language": "python",
   "name": "python3"
  },
  "language_info": {
   "codemirror_mode": {
    "name": "ipython",
    "version": 3
   },
   "file_extension": ".py",
   "mimetype": "text/x-python",
   "name": "python",
   "nbconvert_exporter": "python",
   "pygments_lexer": "ipython3",
   "version": "3.8.10"
  }
 },
 "nbformat": 4,
 "nbformat_minor": 5
}
