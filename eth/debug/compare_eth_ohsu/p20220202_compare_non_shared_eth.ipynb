{
 "cells": [
  {
   "cell_type": "code",
   "execution_count": 9,
   "metadata": {
    "ExecuteTime": {
     "end_time": "2022-02-02T14:40:39.282646Z",
     "start_time": "2022-02-02T14:40:39.168897Z"
    }
   },
   "outputs": [],
   "source": [
    "import pandas as pd\n",
    "import os\n",
    "import glob\n",
    "import numpy as np"
   ]
  },
  {
   "cell_type": "code",
   "execution_count": 4,
   "metadata": {
    "ExecuteTime": {
     "end_time": "2022-02-02T14:25:52.436826Z",
     "start_time": "2022-02-02T14:25:52.433978Z"
    }
   },
   "outputs": [],
   "source": [
    "file_compare = '/cluster/work/grlab/projects/projects2020_OHSU/share_OHUS_PNLL/check_shared_peptides/GTEXcore_kmer_exp_table.tsv'\n",
    "\n",
    "samples = ['TCGA-A2-A0D2-01A-21R-A034-07.all', 'TCGA-AO-A0JM-01A-21R-A056-07.all', 'TCGA-BH-A18V-01A-11R-A12D-07.all', 'TCGA-C8-A12P-01A-11R-A115-07.all', 'TCGA-A2-A0SX-01A-12R-A084-07.all']\n",
    "\n",
    "outdir = '/cluster/work/grlab/projects/projects2020_OHSU/peptides_generation/v2_v2.5f0752a_conf2_annotFrame_cap0_runs_pya0.17.1/TCGA_Breast_1102/'"
   ]
  },
  {
   "cell_type": "code",
   "execution_count": 18,
   "metadata": {
    "ExecuteTime": {
     "end_time": "2022-02-02T14:57:06.731031Z",
     "start_time": "2022-02-02T14:57:04.307041Z"
    }
   },
   "outputs": [
    {
     "data": {
      "text/plain": [
       "(0, 5)"
      ]
     },
     "execution_count": 18,
     "metadata": {},
     "output_type": "execute_result"
    }
   ],
   "source": [
    "present_kmers.shape"
   ]
  },
  {
   "cell_type": "code",
   "execution_count": 25,
   "metadata": {
    "ExecuteTime": {
     "end_time": "2022-02-02T15:18:48.989494Z",
     "start_time": "2022-02-02T15:16:36.983745Z"
    }
   },
   "outputs": [
    {
     "name": "stdout",
     "output_type": "stream",
     "text": [
      "In sample TCGA-A2-A0D2-01A-21R-A034-07.all: Filtering results across all experiments with Gtexcore background\n",
      "346/6379 Kmers are shared between OHSU (J) and ETH (G)\n",
      "6033/6379 kmers from OHSU (J) pipeline are not found after the ETH (G) filtering\n",
      "Are they present in ETH (G) initial generated set for TCGA-A2-A0D2-01A-21R-A034-07.all\n",
      "5935/6033 kmers (98.4 % of only in OHSU) CANNOT be found in the set of generated ETH kmers\n",
      "98/6033 kmers (1.6 % of only in OHSU) can be found in the set of generated ETH kmers\n",
      "\n",
      "\n",
      "In sample TCGA-AO-A0JM-01A-21R-A056-07.all: Filtering results across all experiments with Gtexcore background\n",
      "529/4591 Kmers are shared between OHSU (J) and ETH (G)\n",
      "4062/4591 kmers from OHSU (J) pipeline are not found after the ETH (G) filtering\n",
      "Are they present in ETH (G) initial generated set for TCGA-AO-A0JM-01A-21R-A056-07.all\n",
      "3939/4062 kmers (97.0 % of only in OHSU) CANNOT be found in the set of generated ETH kmers\n",
      "123/4062 kmers (3.0 % of only in OHSU) can be found in the set of generated ETH kmers\n",
      "\n",
      "\n",
      "In sample TCGA-BH-A18V-01A-11R-A12D-07.all: Filtering results across all experiments with Gtexcore background\n",
      "410/7246 Kmers are shared between OHSU (J) and ETH (G)\n",
      "6836/7246 kmers from OHSU (J) pipeline are not found after the ETH (G) filtering\n",
      "Are they present in ETH (G) initial generated set for TCGA-BH-A18V-01A-11R-A12D-07.all\n",
      "6711/6836 kmers (98.2 % of only in OHSU) CANNOT be found in the set of generated ETH kmers\n",
      "125/6836 kmers (1.8 % of only in OHSU) can be found in the set of generated ETH kmers\n",
      "\n",
      "\n",
      "In sample TCGA-C8-A12P-01A-11R-A115-07.all: Filtering results across all experiments with Gtexcore background\n",
      "352/9415 Kmers are shared between OHSU (J) and ETH (G)\n",
      "9063/9415 kmers from OHSU (J) pipeline are not found after the ETH (G) filtering\n",
      "Are they present in ETH (G) initial generated set for TCGA-C8-A12P-01A-11R-A115-07.all\n",
      "8954/9063 kmers (98.8 % of only in OHSU) CANNOT be found in the set of generated ETH kmers\n",
      "109/9063 kmers (1.2 % of only in OHSU) can be found in the set of generated ETH kmers\n",
      "\n",
      "\n",
      "In sample TCGA-A2-A0SX-01A-12R-A084-07.all: Filtering results across all experiments with Gtexcore background\n",
      "467/6169 Kmers are shared between OHSU (J) and ETH (G)\n",
      "5702/6169 kmers from OHSU (J) pipeline are not found after the ETH (G) filtering\n",
      "Are they present in ETH (G) initial generated set for TCGA-A2-A0SX-01A-12R-A084-07.all\n",
      "5590/5702 kmers (98.0 % of only in OHSU) CANNOT be found in the set of generated ETH kmers\n",
      "112/5702 kmers (2.0 % of only in OHSU) can be found in the set of generated ETH kmers\n",
      "\n",
      "\n"
     ]
    }
   ],
   "source": [
    "for cancer_sample_ori in samples:\n",
    "    cancer_sample = cancer_sample_ori.replace('-', '').replace('.', '').replace('_', '')\n",
    "    file_sample = glob.glob(os.path.join(outdir, 'filter_{}'.format(cancer_sample_ori), '{}_generated_init'.format(cancer_sample), '*part*'))[0]\n",
    "    \n",
    "    # Overview table of shared kmers\n",
    "    dfcomp = pd.read_csv(file_compare , sep = ',')\n",
    "    dfcomp =  dfcomp.set_index('kmer')\n",
    "    abscent_kmers = dfcomp.loc[(dfcomp['sample'] == cancer_sample_ori) & (dfcomp['pipeline'] == 'J') & ( dfcomp['shared'] == 1), :]\n",
    "    present_kmers  =  dfcomp.loc[(dfcomp['sample'] == cancer_sample_ori) & (dfcomp['pipeline'] == 'J') & ( dfcomp['shared'] == 2), :]\n",
    "    set_present = set(present_kmers.index)\n",
    "    set_abscent = set(abscent_kmers.index)\n",
    "    \n",
    "    # Initial list of kmers at generation stage\n",
    "    dfeth = pd.read_csv(file_sample, sep = '\\t')\n",
    "    dfeth = dfeth.set_index(['kmer'])\n",
    "    set_eth = set(dfeth.index)\n",
    "    \n",
    "    # Check whether they have been generated \n",
    "    absc_non_gen = len(set_abscent.difference(set_eth))\n",
    "    pres_gen = len(set_present.intersection(set_eth))\n",
    "    len_absc = len(set_abscent)\n",
    "    len_pres = len(set_present)\n",
    "    absc_gen = len_absc - absc_non_gen\n",
    "    print('In sample {}: Filtering results across all experiments with Gtexcore background'.format(cancer_sample_ori))\n",
    "    print('{}/{} Kmers are shared between OHSU (J) and ETH (G)'.format(\n",
    "        len_pres, len_pres + len_absc))\n",
    "    print('{}/{} kmers from OHSU (J) pipeline are not found after the ETH (G) filtering'.format(\n",
    "        len_absc, len_pres + len_absc))\n",
    "    print('Are they present in ETH (G) generated set for {}?'.format(cancer_sample_ori))\n",
    "    print('{}/{} kmers ({} % of only in OHSU) CANNOT be found in the set of generated ETH kmers'.format(\n",
    "       absc_non_gen, len_absc, np.round(absc_non_gen/ len_absc * 100 , 1) ))\n",
    "    print('{}/{} kmers ({} % of only in OHSU) can be found in the set of generated ETH kmers'.format( \n",
    "        absc_gen, len_absc, np.round(absc_gen/ len_absc * 100 , 1)  ))\n",
    "\n",
    "    \n",
    "\n",
    "#     print('In sample {}: Verification that {} kmers of them are found before any filtering'.format(\n",
    "#     cancer_sample_ori, pres_gen))\n",
    "    print('\\n')\n"
   ]
  },
  {
   "cell_type": "code",
   "execution_count": 15,
   "metadata": {
    "ExecuteTime": {
     "end_time": "2022-02-02T14:55:14.341764Z",
     "start_time": "2022-02-02T14:55:14.144664Z"
    }
   },
   "outputs": [
    {
     "data": {
      "text/plain": [
       "0"
      ]
     },
     "execution_count": 15,
     "metadata": {},
     "output_type": "execute_result"
    }
   ],
   "source": [
    "len_absc"
   ]
  },
  {
   "cell_type": "code",
   "execution_count": null,
   "metadata": {},
   "outputs": [],
   "source": [
    "\n",
    "\n",
    "len(set_present.intersection(set_eth))\n",
    "len(set_present)\n",
    "len(present_kmers)\n",
    "set_abscent = set(test_kmers['kmer'])\n",
    "len(set_abscent.intersection(set_eth))\n",
    "len(set_abscent.difference(set_eth))\n",
    "sample\n",
    "len(set_eth)"
   ]
  }
 ],
 "metadata": {
  "kernelspec": {
   "display_name": "Python 3 (ipykernel)",
   "language": "python",
   "name": "python3"
  },
  "language_info": {
   "codemirror_mode": {
    "name": "ipython",
    "version": 3
   },
   "file_extension": ".py",
   "mimetype": "text/x-python",
   "name": "python",
   "nbconvert_exporter": "python",
   "pygments_lexer": "ipython3",
   "version": "3.9.13"
  }
 },
 "nbformat": 4,
 "nbformat_minor": 4
}
