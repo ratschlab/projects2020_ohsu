{
 "cells": [
  {
   "cell_type": "code",
   "execution_count": 1,
   "id": "bf91ceb8",
   "metadata": {},
   "outputs": [],
   "source": [
    "import numpy as np\n",
    "import os\n",
    "import timeit\n",
    "import glob \n",
    "import pandas as pd\n",
    "import time\n",
    "import multiprocessing as mp \n",
    "import logging\n",
    "import sys \n",
    "from pathlib import Path"
   ]
  },
  {
   "cell_type": "code",
   "execution_count": 2,
   "id": "c90f384e",
   "metadata": {},
   "outputs": [],
   "source": [
    "sys.path.append('/cluster/home/prelotla/github/projects2020_ohsu/eth/peptides_filtering/python_pipeline/')\n",
    "from helpers_filter import * \n",
    "from background_filter import process_on_cohort\n",
    "\n",
    "%load_ext autoreload\n",
    "%autoreload 2"
   ]
  },
  {
   "cell_type": "code",
   "execution_count": 3,
   "id": "e61d5dd9",
   "metadata": {},
   "outputs": [],
   "source": [
    "cohort_expr_support_cancer = 2\n",
    "n_samples_lim_cancer = 5\n",
    "sample_expr_support_cancer = 1 \n",
    "\n",
    "cohort_expr_support_normal = 2 #TODO introduce None filtering\n",
    "n_samples_lim_cancer = 5\n"
   ]
  },
  {
   "cell_type": "code",
   "execution_count": 4,
   "id": "0e91eace",
   "metadata": {},
   "outputs": [],
   "source": [
    "base_cancer = '/cluster/work/grlab/projects/projects2020_OHSU/peptides_generation/CANCER_eth/commit_c4dd02c_conf2_Frame_cap0_runs/TCGA_Breast_1102'\n",
    "base_gtex = '/cluster/work/grlab/projects/projects2020_OHSU/peptides_generation/GTEX2019_eth/GTEX2019_c4dd02c_conf2_RFall_ref'\n",
    "target_samples = ['TCGAC8A12P01A11RA11507all',\n",
    "        'TCGAAOA0JM01A21RA05607all',\n",
    "        'TCGABHA18V01A11RA12D07all',\n",
    "        'TCGAA2A0D201A21RA03407all',\n",
    "        'TCGAA2A0SX01A12RA08407all' ]\n",
    "                 \n",
    "expr_matrix = 'ref_graph_kmer_JuncExpr'\n",
    "metadata = ['kmer', 'coord', 'junctionAnnotated', 'readFrameAnnotated', 'isCrossJunction'] # These are the non-sample columns\n",
    "normalizer_libsize = 400000\n",
    "path_libsize = os.path.join(base_cancer, 'expression_counts.libsize.tsv')\n",
    "sample_lim = 1\n",
    "interm_cancer_cohort = 'ref_graph_kmer_normalized_filtered__.gz'\n",
    "interm_gtex_cohort = 'ref_graph_kmer_normalized_filtered_10-21overlap_.gz'"
   ]
  },
  {
   "cell_type": "code",
   "execution_count": 5,
   "id": "6c3b855a",
   "metadata": {},
   "outputs": [
    {
     "name": "stdout",
     "output_type": "stream",
     "text": [
      "0.5131635121069849\n"
     ]
    }
   ],
   "source": [
    "# Cancer cohort files - 3 min \n",
    "start_time  = timeit.default_timer()\n",
    "cohort_cancer = glob.glob(os.path.join(base_cancer, 'cohort_mutNone/tmp_out_ref_batch_*', interm_cancer_cohort))\n",
    "time_res = timeit.default_timer() - start_time \n",
    "print(time_res)"
   ]
  },
  {
   "cell_type": "code",
   "execution_count": 6,
   "id": "90289bfe",
   "metadata": {},
   "outputs": [
    {
     "name": "stdout",
     "output_type": "stream",
     "text": [
      "0.1211572210304439\n"
     ]
    }
   ],
   "source": [
    "# Cancer all raw files \n",
    "start_time  = timeit.default_timer()\n",
    "path_cohort = glob.glob(os.path.join(base_cancer, 'cohort_mutNone/tmp_out_ref_batch_*'))\n",
    "time_res = timeit.default_timer() - start_time \n",
    "print(time_res)"
   ]
  },
  {
   "cell_type": "code",
   "execution_count": 7,
   "id": "4c982770",
   "metadata": {},
   "outputs": [
    {
     "name": "stdout",
     "output_type": "stream",
     "text": [
      "0.9797909460030496\n"
     ]
    }
   ],
   "source": [
    "# GTEX cohort files 4.5 min\n",
    "start_time  = timeit.default_timer()\n",
    "cohort_gtex = glob.glob(os.path.join(base_gtex,'cohort_mutNone/tmp_out_ref_batch_*', interm_gtex_cohort)) #path_gtex_cohort\n",
    "time_res = timeit.default_timer() - start_time \n",
    "print(time_res)"
   ]
  },
  {
   "cell_type": "code",
   "execution_count": 8,
   "id": "1ee54e00",
   "metadata": {},
   "outputs": [
    {
     "name": "stdout",
     "output_type": "stream",
     "text": [
      "0.4782306698616594\n"
     ]
    }
   ],
   "source": [
    "# Annot\n",
    "start_time  = timeit.default_timer()\n",
    "annot_cancer = glob.glob(os.path.join(base_cancer, 'cohort_mutNone/tmp_out_ref_batch_*/ref_annot_kmer.gz'))\n",
    "time_res = timeit.default_timer() - start_time \n",
    "print(time_res)"
   ]
  },
  {
   "cell_type": "code",
   "execution_count": 9,
   "id": "25d30bae",
   "metadata": {},
   "outputs": [
    {
     "name": "stdout",
     "output_type": "stream",
     "text": [
      "Creating directory /cluster/work/grlab/projects/projects2020_OHSU/peptides_generation/CANCER_eth/commit_c4dd02c_conf2_Frame_cap0_runs/TCGA_Breast_1102/filtered_cancer\n"
     ]
    }
   ],
   "source": [
    "# Out directory\n",
    "outdir = os.path.join(base_cancer, 'filtered_cancer') \n",
    "Path(outdir).mkdir(parents=True, exist_ok=True)\n",
    "print(f'Creating directory {outdir}')"
   ]
  },
  {
   "cell_type": "code",
   "execution_count": 10,
   "id": "e4f1e98b",
   "metadata": {},
   "outputs": [
    {
     "name": "stdout",
     "output_type": "stream",
     "text": [
      "Creating directory /cluster/work/grlab/projects/projects2020_OHSU/peptides_generation/CANCER_eth/commit_c4dd02c_conf2_Frame_cap0_runs/TCGA_Breast_1102/filtered_cancer/TCGAC8A12P01A11RA11507all\n",
      "Creating directory /cluster/work/grlab/projects/projects2020_OHSU/peptides_generation/CANCER_eth/commit_c4dd02c_conf2_Frame_cap0_runs/TCGA_Breast_1102/filtered_cancer/TCGAAOA0JM01A21RA05607all\n",
      "Creating directory /cluster/work/grlab/projects/projects2020_OHSU/peptides_generation/CANCER_eth/commit_c4dd02c_conf2_Frame_cap0_runs/TCGA_Breast_1102/filtered_cancer/TCGABHA18V01A11RA12D07all\n",
      "Creating directory /cluster/work/grlab/projects/projects2020_OHSU/peptides_generation/CANCER_eth/commit_c4dd02c_conf2_Frame_cap0_runs/TCGA_Breast_1102/filtered_cancer/TCGAA2A0D201A21RA03407all\n",
      "Creating directory /cluster/work/grlab/projects/projects2020_OHSU/peptides_generation/CANCER_eth/commit_c4dd02c_conf2_Frame_cap0_runs/TCGA_Breast_1102/filtered_cancer/TCGAA2A0SX01A12RA08407all\n"
     ]
    }
   ],
   "source": [
    "# Sample output dir\n",
    "for target_sample in target_samples:\n",
    "    outdir_sample = os.path.join(outdir, target_sample)\n",
    "    Path(outdir).mkdir(parents=True, exist_ok=True)\n",
    "    print(f'Creating directory {outdir_sample}')"
   ]
  },
  {
   "cell_type": "markdown",
   "id": "921452ee",
   "metadata": {},
   "source": [
    "# Strategy \n",
    "- DO the cohort filtering once for cancer (AND HIDE SAMPLES.... Create 4 files)\n",
    "    - OTHER STRATEGY: Check the cohort filter in the target cancer sample AND adjust the number of samples passing the threshold depending on the targetsample!!!!\n",
    "    - ISSUE: THERE IS BOTH JUNCTION AND SEGMENT KMERS IN cancer cohort files ===> NOT NEEDED --- \n",
    "- Do the cohort filtering once for GTEX\n",
    "- Load annot + 2 cohort + sample cancer (5) => Mega table - Save TODAY MONDAY !!!!!\n",
    "- Then do the code for the filtering !!!!"
   ]
  },
  {
   "cell_type": "markdown",
   "id": "8cc541ac",
   "metadata": {},
   "source": [
    "# Create large intermediate table"
   ]
  },
  {
   "cell_type": "markdown",
   "id": "7b87f321",
   "metadata": {},
   "source": [
    "## Load"
   ]
  },
  {
   "cell_type": "code",
   "execution_count": 11,
   "id": "b5e9d796",
   "metadata": {},
   "outputs": [],
   "source": [
    "df_expr = []\n",
    "report_count = [] \n",
    "report_steps = []"
   ]
  },
  {
   "cell_type": "code",
   "execution_count": 12,
   "id": "f695c5b3",
   "metadata": {},
   "outputs": [],
   "source": [
    "# Load libsize - OK\n",
    "libsize = process_libsize(path_libsize, normalizer_libsize) "
   ]
  },
  {
   "cell_type": "code",
   "execution_count": 13,
   "id": "c6c2ccf6",
   "metadata": {
    "scrolled": true
   },
   "outputs": [
    {
     "name": "stdout",
     "output_type": "stream",
     "text": [
      "267.6224669930525\n"
     ]
    }
   ],
   "source": [
    "# Load cancer sample - 20 min #TODO Add batch of origin?\n",
    "\n",
    "start_time  = timeit.default_timer()\n",
    "for idx, batch_gene in enumerate(path_cohort):\n",
    "    if os.path.exists(os.path.join(batch_gene , expr_matrix)) and \\\n",
    "       os.path.exists(os.path.join(batch_gene , 'output_sample_IS_SUCCESS')):\n",
    "        \n",
    "        partitions = glob.glob(os.path.join(batch_gene , expr_matrix) + '/*')\n",
    "        #print(os.path.join(batch_gene , expr_matrix))\n",
    "        #print(f'Number of partitions is {len(partitions)}')\n",
    "        for part in partitions:\n",
    "            kmers_sample = pd.read_csv(part, sep = '\\t', usecols = target_samples + metadata)\n",
    "            kmers_sample['batch'] = os.path.basename(batch_gene).split('_')[-1]\n",
    "            df_expr.append(kmers_sample)\n",
    "        #print(f'processed gene {idx}')\n",
    "\n",
    "\n",
    "cancer_targets = pd.concat(df_expr, axis = 0)\n",
    "\n",
    "time_res = timeit.default_timer() - start_time \n",
    "print(time_res)"
   ]
  },
  {
   "cell_type": "code",
   "execution_count": 14,
   "id": "8bb603e7",
   "metadata": {},
   "outputs": [],
   "source": [
    "metadata = metadata + ['batch']"
   ]
  },
  {
   "cell_type": "code",
   "execution_count": 15,
   "id": "3f2ebfcb",
   "metadata": {},
   "outputs": [],
   "source": [
    "# Normalize sample of interest \n",
    "sample_cols = target_samples \n",
    "cancer_targets = normalization(cancer_targets, sample_cols, libsize, metadata )"
   ]
  },
  {
   "cell_type": "code",
   "execution_count": 16,
   "id": "ec4f05c5",
   "metadata": {},
   "outputs": [],
   "source": [
    "# Set of target kmers\n",
    "target_kmers = set(cancer_targets['kmer'])"
   ]
  },
  {
   "cell_type": "code",
   "execution_count": 17,
   "id": "148cb006",
   "metadata": {},
   "outputs": [
    {
     "data": {
      "text/plain": [
       "4177614"
      ]
     },
     "execution_count": 17,
     "metadata": {},
     "output_type": "execute_result"
    }
   ],
   "source": [
    "len(target_kmers)"
   ]
  },
  {
   "cell_type": "code",
   "execution_count": 18,
   "id": "a30b1301",
   "metadata": {
    "scrolled": true
   },
   "outputs": [
    {
     "data": {
      "text/plain": [
       "(4713769, 11)"
      ]
     },
     "execution_count": 18,
     "metadata": {},
     "output_type": "execute_result"
    }
   ],
   "source": [
    "cancer_targets.shape"
   ]
  },
  {
   "cell_type": "code",
   "execution_count": 19,
   "id": "ae7897df",
   "metadata": {},
   "outputs": [
    {
     "data": {
      "text/html": [
       "<div>\n",
       "<style scoped>\n",
       "    .dataframe tbody tr th:only-of-type {\n",
       "        vertical-align: middle;\n",
       "    }\n",
       "\n",
       "    .dataframe tbody tr th {\n",
       "        vertical-align: top;\n",
       "    }\n",
       "\n",
       "    .dataframe thead th {\n",
       "        text-align: right;\n",
       "    }\n",
       "</style>\n",
       "<table border=\"1\" class=\"dataframe\">\n",
       "  <thead>\n",
       "    <tr style=\"text-align: right;\">\n",
       "      <th></th>\n",
       "      <th>kmer</th>\n",
       "      <th>coord</th>\n",
       "      <th>junctionAnnotated</th>\n",
       "      <th>readFrameAnnotated</th>\n",
       "      <th>isCrossJunction</th>\n",
       "      <th>batch</th>\n",
       "      <th>TCGAC8A12P01A11RA11507all</th>\n",
       "      <th>TCGAAOA0JM01A21RA05607all</th>\n",
       "      <th>TCGABHA18V01A11RA12D07all</th>\n",
       "      <th>TCGAA2A0D201A21RA03407all</th>\n",
       "      <th>TCGAA2A0SX01A12RA08407all</th>\n",
       "    </tr>\n",
       "  </thead>\n",
       "  <tbody>\n",
       "    <tr>\n",
       "      <th>0</th>\n",
       "      <td>FKHLKRWSL</td>\n",
       "      <td>92379844:92379859:92387782:92387794:None:None</td>\n",
       "      <td>False</td>\n",
       "      <td>False</td>\n",
       "      <td>True</td>\n",
       "      <td>56543</td>\n",
       "      <td>0.0</td>\n",
       "      <td>0.0</td>\n",
       "      <td>0.0</td>\n",
       "      <td>0.000000</td>\n",
       "      <td>0.0</td>\n",
       "    </tr>\n",
       "    <tr>\n",
       "      <th>1</th>\n",
       "      <td>WYITRSGIA</td>\n",
       "      <td>92347505:92347506:92349915:92349941:None:None</td>\n",
       "      <td>False</td>\n",
       "      <td>False</td>\n",
       "      <td>True</td>\n",
       "      <td>56543</td>\n",
       "      <td>0.0</td>\n",
       "      <td>0.0</td>\n",
       "      <td>0.0</td>\n",
       "      <td>4.102634</td>\n",
       "      <td>0.0</td>\n",
       "    </tr>\n",
       "    <tr>\n",
       "      <th>2</th>\n",
       "      <td>SEFVSRHLR</td>\n",
       "      <td>92345770:92345787:92586717:92586727:None:None</td>\n",
       "      <td>False</td>\n",
       "      <td>False</td>\n",
       "      <td>True</td>\n",
       "      <td>56543</td>\n",
       "      <td>0.0</td>\n",
       "      <td>0.0</td>\n",
       "      <td>0.0</td>\n",
       "      <td>0.000000</td>\n",
       "      <td>0.0</td>\n",
       "    </tr>\n",
       "    <tr>\n",
       "      <th>3</th>\n",
       "      <td>RWSFALVVQ</td>\n",
       "      <td>92379857:92379859:92555247:92555272:None:None</td>\n",
       "      <td>False</td>\n",
       "      <td>False</td>\n",
       "      <td>True</td>\n",
       "      <td>56543</td>\n",
       "      <td>0.0</td>\n",
       "      <td>0.0</td>\n",
       "      <td>0.0</td>\n",
       "      <td>0.000000</td>\n",
       "      <td>0.0</td>\n",
       "    </tr>\n",
       "    <tr>\n",
       "      <th>4</th>\n",
       "      <td>VSRREKRSV</td>\n",
       "      <td>92345779:92345787:92379767:92379786:None:None</td>\n",
       "      <td>False</td>\n",
       "      <td>False</td>\n",
       "      <td>True</td>\n",
       "      <td>56543</td>\n",
       "      <td>0.0</td>\n",
       "      <td>0.0</td>\n",
       "      <td>0.0</td>\n",
       "      <td>0.000000</td>\n",
       "      <td>0.0</td>\n",
       "    </tr>\n",
       "  </tbody>\n",
       "</table>\n",
       "</div>"
      ],
      "text/plain": [
       "        kmer                                          coord  \\\n",
       "0  FKHLKRWSL  92379844:92379859:92387782:92387794:None:None   \n",
       "1  WYITRSGIA  92347505:92347506:92349915:92349941:None:None   \n",
       "2  SEFVSRHLR  92345770:92345787:92586717:92586727:None:None   \n",
       "3  RWSFALVVQ  92379857:92379859:92555247:92555272:None:None   \n",
       "4  VSRREKRSV  92345779:92345787:92379767:92379786:None:None   \n",
       "\n",
       "   junctionAnnotated  readFrameAnnotated  isCrossJunction  batch  \\\n",
       "0              False               False             True  56543   \n",
       "1              False               False             True  56543   \n",
       "2              False               False             True  56543   \n",
       "3              False               False             True  56543   \n",
       "4              False               False             True  56543   \n",
       "\n",
       "   TCGAC8A12P01A11RA11507all  TCGAAOA0JM01A21RA05607all  \\\n",
       "0                        0.0                        0.0   \n",
       "1                        0.0                        0.0   \n",
       "2                        0.0                        0.0   \n",
       "3                        0.0                        0.0   \n",
       "4                        0.0                        0.0   \n",
       "\n",
       "   TCGABHA18V01A11RA12D07all  TCGAA2A0D201A21RA03407all  \\\n",
       "0                        0.0                   0.000000   \n",
       "1                        0.0                   4.102634   \n",
       "2                        0.0                   0.000000   \n",
       "3                        0.0                   0.000000   \n",
       "4                        0.0                   0.000000   \n",
       "\n",
       "   TCGAA2A0SX01A12RA08407all  \n",
       "0                        0.0  \n",
       "1                        0.0  \n",
       "2                        0.0  \n",
       "3                        0.0  \n",
       "4                        0.0  "
      ]
     },
     "execution_count": 19,
     "metadata": {},
     "output_type": "execute_result"
    }
   ],
   "source": [
    "cancer_targets.head()"
   ]
  },
  {
   "cell_type": "code",
   "execution_count": 20,
   "id": "b839edb6",
   "metadata": {
    "scrolled": true
   },
   "outputs": [],
   "source": [
    "# restrict expressed in target samples - hardcoded number of targets\n",
    "\n",
    "cancer_targets = cancer_targets.loc[(cancer_targets[target_samples[0]] > 0) | \\\n",
    "                  (cancer_targets[target_samples[1]] > 0) | \\\n",
    "                  (cancer_targets[target_samples[2]] > 0) |\\\n",
    "                  (cancer_targets[target_samples[3]] > 0) | \\\n",
    "                  (cancer_targets[target_samples[4]] > 0) ]"
   ]
  },
  {
   "cell_type": "code",
   "execution_count": 21,
   "id": "c15649db",
   "metadata": {},
   "outputs": [
    {
     "data": {
      "text/plain": [
       "(1253921, 11)"
      ]
     },
     "execution_count": 21,
     "metadata": {},
     "output_type": "execute_result"
    }
   ],
   "source": [
    "cancer_targets.shape"
   ]
  },
  {
   "cell_type": "code",
   "execution_count": 22,
   "id": "26102cf4",
   "metadata": {},
   "outputs": [],
   "source": [
    "cancer_targets = cancer_targets.drop_duplicates() # drop duplicates"
   ]
  },
  {
   "cell_type": "code",
   "execution_count": 23,
   "id": "f1b9d172",
   "metadata": {},
   "outputs": [
    {
     "data": {
      "text/plain": [
       "(1253544, 11)"
      ]
     },
     "execution_count": 23,
     "metadata": {},
     "output_type": "execute_result"
    }
   ],
   "source": [
    "cancer_targets.shape"
   ]
  },
  {
   "cell_type": "code",
   "execution_count": 24,
   "id": "7ace0133",
   "metadata": {},
   "outputs": [
    {
     "name": "stdout",
     "output_type": "stream",
     "text": [
      "Processing annotation\n",
      "30.96976092015393\n"
     ]
    }
   ],
   "source": [
    "# Load annotation - OK 12 min \n",
    "# Create a set of annotated kmers\n",
    "print('Processing annotation')\n",
    "start_time  = timeit.default_timer()\n",
    "cancer_targets_annotated = set()\n",
    "for idx, path in enumerate(annot_cancer):\n",
    "    annot = pd.read_csv(path, sep = ',') \n",
    "    annot = set(annot['kmer'])\n",
    "    cancer_targets_annotated.update(target_kmers.intersection(annot))\n",
    "time_res = timeit.default_timer() - start_time \n",
    "print(time_res)"
   ]
  },
  {
   "cell_type": "code",
   "execution_count": 25,
   "id": "3f044be0",
   "metadata": {},
   "outputs": [
    {
     "data": {
      "text/plain": [
       "281109"
      ]
     },
     "execution_count": 25,
     "metadata": {},
     "output_type": "execute_result"
    }
   ],
   "source": [
    "len(cancer_targets_annotated)"
   ]
  },
  {
   "cell_type": "code",
   "execution_count": 26,
   "id": "eba772d3",
   "metadata": {},
   "outputs": [
    {
     "name": "stdout",
     "output_type": "stream",
     "text": [
      "Reading cohort cancer\n",
      "59.40803129598498\n"
     ]
    }
   ],
   "source": [
    "# Load cancer cohort - 11 minutes\n",
    "start_time  = timeit.default_timer()\n",
    "df_cancer_cohort = []\n",
    "print(f'Reading cohort cancer')\n",
    "for path in cohort_cancer:\n",
    "    tmp_cancer = pd.read_csv(path, sep = ',') \n",
    "    tmp_cancer = tmp_cancer.loc[tmp_cancer['isCrossJunction'] == True]\n",
    "    tmp_cancer['batch'] = path.split('/')[-2].split('_')[-1]\n",
    "    df_cancer_cohort.append(tmp_cancer)\n",
    "time_res = timeit.default_timer() - start_time \n",
    "print(time_res)\n"
   ]
  },
  {
   "cell_type": "code",
   "execution_count": 27,
   "id": "365cc6cd",
   "metadata": {},
   "outputs": [
    {
     "data": {
      "text/plain": [
       "17314"
      ]
     },
     "execution_count": 27,
     "metadata": {},
     "output_type": "execute_result"
    }
   ],
   "source": [
    "len(df_cancer_cohort)"
   ]
  },
  {
   "cell_type": "code",
   "execution_count": 28,
   "id": "cc8723e8",
   "metadata": {},
   "outputs": [
    {
     "name": "stdout",
     "output_type": "stream",
     "text": [
      "Reading cohort gtex\n",
      "6544.86534468201\n"
     ]
    }
   ],
   "source": [
    "# Load GTEX cohort - OK 1h50\n",
    "start_time  = timeit.default_timer()\n",
    "df_gtex_cohort = []\n",
    "print(f'Reading cohort gtex')\n",
    "for idx, path in enumerate(cohort_gtex):\n",
    "    tmp_gtex = pd.read_csv(path, sep = ',')\n",
    "    tmp_kmer = set(tmp_gtex['kmer'])\n",
    "    tmp_kmer = tmp_kmer.intersection(target_kmers)\n",
    "    tmp_gtex = tmp_gtex.set_index('kmer').loc[tmp_kmer].reset_index()\n",
    "    df_gtex_cohort.append(tmp_gtex)\n",
    "time_res = timeit.default_timer() - start_time \n",
    "print(time_res)"
   ]
  },
  {
   "cell_type": "code",
   "execution_count": 29,
   "id": "eea04091",
   "metadata": {},
   "outputs": [
    {
     "data": {
      "text/plain": [
       "19186"
      ]
     },
     "execution_count": 29,
     "metadata": {},
     "output_type": "execute_result"
    }
   ],
   "source": [
    "len(df_gtex_cohort)"
   ]
  },
  {
   "cell_type": "markdown",
   "id": "b8e7ce73",
   "metadata": {},
   "source": [
    "## Merge"
   ]
  },
  {
   "cell_type": "code",
   "execution_count": 30,
   "id": "7ede2e12",
   "metadata": {},
   "outputs": [
    {
     "data": {
      "text/plain": [
       "(1253544, 11)"
      ]
     },
     "execution_count": 30,
     "metadata": {},
     "output_type": "execute_result"
    }
   ],
   "source": [
    "cancer_targets.shape"
   ]
  },
  {
   "cell_type": "code",
   "execution_count": 31,
   "id": "d78a3b99",
   "metadata": {},
   "outputs": [
    {
     "data": {
      "text/plain": [
       "281109"
      ]
     },
     "execution_count": 31,
     "metadata": {},
     "output_type": "execute_result"
    }
   ],
   "source": [
    "len(cancer_targets_annotated)"
   ]
  },
  {
   "cell_type": "code",
   "execution_count": 32,
   "id": "bc53fc4f",
   "metadata": {},
   "outputs": [
    {
     "data": {
      "text/plain": [
       "19186"
      ]
     },
     "execution_count": 32,
     "metadata": {},
     "output_type": "execute_result"
    }
   ],
   "source": [
    "len(df_gtex_cohort)"
   ]
  },
  {
   "cell_type": "code",
   "execution_count": 33,
   "id": "124c3fa7",
   "metadata": {},
   "outputs": [
    {
     "data": {
      "text/plain": [
       "17314"
      ]
     },
     "execution_count": 33,
     "metadata": {},
     "output_type": "execute_result"
    }
   ],
   "source": [
    "len(df_cancer_cohort)"
   ]
  },
  {
   "cell_type": "code",
   "execution_count": 34,
   "id": "8d41f41e",
   "metadata": {
    "scrolled": true
   },
   "outputs": [],
   "source": [
    "df_gtex_cohort = pd.concat(df_gtex_cohort, axis = 0)\n",
    "\n",
    "df_cancer_cohort = pd.concat(df_cancer_cohort, axis = 0)\n",
    "\n",
    "df_gtex_cohort = df_gtex_cohort.drop_duplicates()\n",
    "\n",
    "df_cancer_cohort = df_cancer_cohort.drop_duplicates()"
   ]
  },
  {
   "cell_type": "code",
   "execution_count": 35,
   "id": "9eb493e2",
   "metadata": {},
   "outputs": [
    {
     "data": {
      "text/plain": [
       "19676087"
      ]
     },
     "execution_count": 35,
     "metadata": {},
     "output_type": "execute_result"
    }
   ],
   "source": [
    "len(df_gtex_cohort)"
   ]
  },
  {
   "cell_type": "code",
   "execution_count": 36,
   "id": "080bfd69",
   "metadata": {},
   "outputs": [
    {
     "data": {
      "text/plain": [
       "4708347"
      ]
     },
     "execution_count": 36,
     "metadata": {},
     "output_type": "execute_result"
    }
   ],
   "source": [
    "len(df_cancer_cohort)"
   ]
  },
  {
   "cell_type": "code",
   "execution_count": 37,
   "id": "9cc9abc5",
   "metadata": {},
   "outputs": [],
   "source": [
    "# cohorts\n",
    "df_gtex_cohort = df_gtex_cohort.rename({col: 'gtexCohort' + col for col in df_gtex_cohort.columns if 'filter' in col}, axis = 1)\n",
    "\n",
    "df_cancer_cohort = df_cancer_cohort.rename({col: 'cancerCohort' + col for col in df_cancer_cohort.columns if 'filter' in col}, axis = 1)"
   ]
  },
  {
   "cell_type": "code",
   "execution_count": 38,
   "id": "144326d5",
   "metadata": {},
   "outputs": [],
   "source": [
    "# annotation\n",
    "cancer_targets_annotated = pd.DataFrame(cancer_targets_annotated, columns = ['kmer'])\n",
    "\n",
    "cancer_targets_annotated['isAnnotated'] = 1\n",
    "cancer_targets_annotated = cancer_targets_annotated.drop_duplicates()"
   ]
  },
  {
   "cell_type": "code",
   "execution_count": 39,
   "id": "5200b65a",
   "metadata": {},
   "outputs": [],
   "source": [
    "# Merge annotation \n",
    "cancer_targets = cancer_targets.merge(cancer_targets_annotated, on = 'kmer', how = 'left')"
   ]
  },
  {
   "cell_type": "code",
   "execution_count": 40,
   "id": "88caed7d",
   "metadata": {},
   "outputs": [
    {
     "data": {
      "text/plain": [
       "(1253544, 12)"
      ]
     },
     "execution_count": 40,
     "metadata": {},
     "output_type": "execute_result"
    }
   ],
   "source": [
    "cancer_targets.shape"
   ]
  },
  {
   "cell_type": "code",
   "execution_count": 41,
   "id": "fc2eba78",
   "metadata": {},
   "outputs": [],
   "source": [
    "# Merge cancer on coord and kmer col\n",
    "cancer_targets = df_cancer_cohort.loc[:, metadata + \\\n",
    "                     [col for col in df_cancer_cohort.columns \\\n",
    "                      if 'filter' in col]].merge(cancer_targets , on = metadata, how = 'right')"
   ]
  },
  {
   "cell_type": "code",
   "execution_count": 42,
   "id": "87f9a450",
   "metadata": {},
   "outputs": [
    {
     "data": {
      "text/plain": [
       "(1253544, 18)"
      ]
     },
     "execution_count": 42,
     "metadata": {},
     "output_type": "execute_result"
    }
   ],
   "source": [
    "cancer_targets.shape"
   ]
  },
  {
   "cell_type": "code",
   "execution_count": 43,
   "id": "85c0a387",
   "metadata": {},
   "outputs": [
    {
     "data": {
      "text/html": [
       "<div>\n",
       "<style scoped>\n",
       "    .dataframe tbody tr th:only-of-type {\n",
       "        vertical-align: middle;\n",
       "    }\n",
       "\n",
       "    .dataframe tbody tr th {\n",
       "        vertical-align: top;\n",
       "    }\n",
       "\n",
       "    .dataframe thead th {\n",
       "        text-align: right;\n",
       "    }\n",
       "</style>\n",
       "<table border=\"1\" class=\"dataframe\">\n",
       "  <thead>\n",
       "    <tr style=\"text-align: right;\">\n",
       "      <th></th>\n",
       "      <th>kmer</th>\n",
       "      <th>coord</th>\n",
       "      <th>junctionAnnotated</th>\n",
       "      <th>readFrameAnnotated</th>\n",
       "      <th>isCrossJunction</th>\n",
       "      <th>batch</th>\n",
       "      <th>cancerCohortfilter &gt;0.0</th>\n",
       "      <th>cancerCohortfilter &gt;=1.0</th>\n",
       "      <th>cancerCohortfilter &gt;=2.0</th>\n",
       "      <th>cancerCohortfilter &gt;=3.0</th>\n",
       "      <th>cancerCohortfilter &gt;=5.0</th>\n",
       "      <th>cancerCohortfilter &gt;=10.0</th>\n",
       "      <th>TCGAC8A12P01A11RA11507all</th>\n",
       "      <th>TCGAAOA0JM01A21RA05607all</th>\n",
       "      <th>TCGABHA18V01A11RA12D07all</th>\n",
       "      <th>TCGAA2A0D201A21RA03407all</th>\n",
       "      <th>TCGAA2A0SX01A12RA08407all</th>\n",
       "      <th>isAnnotated</th>\n",
       "    </tr>\n",
       "  </thead>\n",
       "  <tbody>\n",
       "    <tr>\n",
       "      <th>0</th>\n",
       "      <td>WYITRSGIA</td>\n",
       "      <td>92347505:92347506:92349915:92349941:None:None</td>\n",
       "      <td>False</td>\n",
       "      <td>False</td>\n",
       "      <td>True</td>\n",
       "      <td>56543</td>\n",
       "      <td>287</td>\n",
       "      <td>263</td>\n",
       "      <td>138</td>\n",
       "      <td>82</td>\n",
       "      <td>26</td>\n",
       "      <td>5</td>\n",
       "      <td>0.000000</td>\n",
       "      <td>0.000000</td>\n",
       "      <td>0.000000</td>\n",
       "      <td>4.102634</td>\n",
       "      <td>0.000000</td>\n",
       "      <td>NaN</td>\n",
       "    </tr>\n",
       "    <tr>\n",
       "      <th>1</th>\n",
       "      <td>ISSQSRVEK</td>\n",
       "      <td>92379851:92379859:92493866:92493885:None:None</td>\n",
       "      <td>False</td>\n",
       "      <td>False</td>\n",
       "      <td>True</td>\n",
       "      <td>56543</td>\n",
       "      <td>49</td>\n",
       "      <td>42</td>\n",
       "      <td>10</td>\n",
       "      <td>2</td>\n",
       "      <td>0</td>\n",
       "      <td>0</td>\n",
       "      <td>0.000000</td>\n",
       "      <td>0.000000</td>\n",
       "      <td>2.474321</td>\n",
       "      <td>0.000000</td>\n",
       "      <td>0.000000</td>\n",
       "      <td>NaN</td>\n",
       "    </tr>\n",
       "    <tr>\n",
       "      <th>2</th>\n",
       "      <td>RSGDEEKYP</td>\n",
       "      <td>92600493:92600508:92611313:92611325:None:None</td>\n",
       "      <td>True</td>\n",
       "      <td>True</td>\n",
       "      <td>True</td>\n",
       "      <td>56543</td>\n",
       "      <td>846</td>\n",
       "      <td>820</td>\n",
       "      <td>641</td>\n",
       "      <td>520</td>\n",
       "      <td>348</td>\n",
       "      <td>170</td>\n",
       "      <td>2.922641</td>\n",
       "      <td>2.102386</td>\n",
       "      <td>1.237161</td>\n",
       "      <td>0.000000</td>\n",
       "      <td>0.000000</td>\n",
       "      <td>1.0</td>\n",
       "    </tr>\n",
       "    <tr>\n",
       "      <th>3</th>\n",
       "      <td>HLKMKMFQI</td>\n",
       "      <td>92379850:92379859:92496416:92496434:None:None</td>\n",
       "      <td>False</td>\n",
       "      <td>False</td>\n",
       "      <td>True</td>\n",
       "      <td>56543</td>\n",
       "      <td>62</td>\n",
       "      <td>53</td>\n",
       "      <td>16</td>\n",
       "      <td>2</td>\n",
       "      <td>0</td>\n",
       "      <td>0</td>\n",
       "      <td>2.922641</td>\n",
       "      <td>0.000000</td>\n",
       "      <td>0.000000</td>\n",
       "      <td>0.000000</td>\n",
       "      <td>0.000000</td>\n",
       "      <td>NaN</td>\n",
       "    </tr>\n",
       "    <tr>\n",
       "      <th>4</th>\n",
       "      <td>ELSEFVSRL</td>\n",
       "      <td>92345764:92345787:92347411:92347415:None:None</td>\n",
       "      <td>False</td>\n",
       "      <td>False</td>\n",
       "      <td>True</td>\n",
       "      <td>56543</td>\n",
       "      <td>304</td>\n",
       "      <td>296</td>\n",
       "      <td>246</td>\n",
       "      <td>185</td>\n",
       "      <td>99</td>\n",
       "      <td>31</td>\n",
       "      <td>0.000000</td>\n",
       "      <td>0.000000</td>\n",
       "      <td>0.000000</td>\n",
       "      <td>2.735089</td>\n",
       "      <td>2.280385</td>\n",
       "      <td>NaN</td>\n",
       "    </tr>\n",
       "  </tbody>\n",
       "</table>\n",
       "</div>"
      ],
      "text/plain": [
       "        kmer                                          coord  \\\n",
       "0  WYITRSGIA  92347505:92347506:92349915:92349941:None:None   \n",
       "1  ISSQSRVEK  92379851:92379859:92493866:92493885:None:None   \n",
       "2  RSGDEEKYP  92600493:92600508:92611313:92611325:None:None   \n",
       "3  HLKMKMFQI  92379850:92379859:92496416:92496434:None:None   \n",
       "4  ELSEFVSRL  92345764:92345787:92347411:92347415:None:None   \n",
       "\n",
       "   junctionAnnotated  readFrameAnnotated  isCrossJunction  batch  \\\n",
       "0              False               False             True  56543   \n",
       "1              False               False             True  56543   \n",
       "2               True                True             True  56543   \n",
       "3              False               False             True  56543   \n",
       "4              False               False             True  56543   \n",
       "\n",
       "   cancerCohortfilter >0.0  cancerCohortfilter >=1.0  \\\n",
       "0                      287                       263   \n",
       "1                       49                        42   \n",
       "2                      846                       820   \n",
       "3                       62                        53   \n",
       "4                      304                       296   \n",
       "\n",
       "   cancerCohortfilter >=2.0  cancerCohortfilter >=3.0  \\\n",
       "0                       138                        82   \n",
       "1                        10                         2   \n",
       "2                       641                       520   \n",
       "3                        16                         2   \n",
       "4                       246                       185   \n",
       "\n",
       "   cancerCohortfilter >=5.0  cancerCohortfilter >=10.0  \\\n",
       "0                        26                          5   \n",
       "1                         0                          0   \n",
       "2                       348                        170   \n",
       "3                         0                          0   \n",
       "4                        99                         31   \n",
       "\n",
       "   TCGAC8A12P01A11RA11507all  TCGAAOA0JM01A21RA05607all  \\\n",
       "0                   0.000000                   0.000000   \n",
       "1                   0.000000                   0.000000   \n",
       "2                   2.922641                   2.102386   \n",
       "3                   2.922641                   0.000000   \n",
       "4                   0.000000                   0.000000   \n",
       "\n",
       "   TCGABHA18V01A11RA12D07all  TCGAA2A0D201A21RA03407all  \\\n",
       "0                   0.000000                   4.102634   \n",
       "1                   2.474321                   0.000000   \n",
       "2                   1.237161                   0.000000   \n",
       "3                   0.000000                   0.000000   \n",
       "4                   0.000000                   2.735089   \n",
       "\n",
       "   TCGAA2A0SX01A12RA08407all  isAnnotated  \n",
       "0                   0.000000          NaN  \n",
       "1                   0.000000          NaN  \n",
       "2                   0.000000          1.0  \n",
       "3                   0.000000          NaN  \n",
       "4                   2.280385          NaN  "
      ]
     },
     "execution_count": 43,
     "metadata": {},
     "output_type": "execute_result"
    }
   ],
   "source": [
    "cancer_targets.head()"
   ]
  },
  {
   "cell_type": "code",
   "execution_count": 44,
   "id": "bec8c443",
   "metadata": {},
   "outputs": [],
   "source": [
    "#TODO!!!!!! POTENTIAL BLOW UP !!!!!"
   ]
  },
  {
   "cell_type": "code",
   "execution_count": 45,
   "id": "2b5de5ca",
   "metadata": {
    "scrolled": true
   },
   "outputs": [],
   "source": [
    "# Merge normals on kmer col\n",
    "cancer_targets = df_gtex_cohort.loc[:, ['kmer'] + \\\n",
    "                     [col for col in df_gtex_cohort.columns \\\n",
    "                      if 'filter' in col]].merge(cancer_targets , on = ['kmer'] , how = 'right')"
   ]
  },
  {
   "cell_type": "code",
   "execution_count": 46,
   "id": "a2115ffd",
   "metadata": {
    "scrolled": false
   },
   "outputs": [
    {
     "data": {
      "text/html": [
       "<div>\n",
       "<style scoped>\n",
       "    .dataframe tbody tr th:only-of-type {\n",
       "        vertical-align: middle;\n",
       "    }\n",
       "\n",
       "    .dataframe tbody tr th {\n",
       "        vertical-align: top;\n",
       "    }\n",
       "\n",
       "    .dataframe thead th {\n",
       "        text-align: right;\n",
       "    }\n",
       "</style>\n",
       "<table border=\"1\" class=\"dataframe\">\n",
       "  <thead>\n",
       "    <tr style=\"text-align: right;\">\n",
       "      <th></th>\n",
       "      <th>kmer</th>\n",
       "      <th>gtexCohortfilter &gt;0.0</th>\n",
       "      <th>gtexCohortfilter &gt;=1.0</th>\n",
       "      <th>gtexCohortfilter &gt;=2.0</th>\n",
       "      <th>gtexCohortfilter &gt;=3.0</th>\n",
       "      <th>gtexCohortfilter &gt;=5.0</th>\n",
       "      <th>gtexCohortfilter &gt;=10.0</th>\n",
       "      <th>coord</th>\n",
       "      <th>junctionAnnotated</th>\n",
       "      <th>readFrameAnnotated</th>\n",
       "      <th>...</th>\n",
       "      <th>cancerCohortfilter &gt;=2.0</th>\n",
       "      <th>cancerCohortfilter &gt;=3.0</th>\n",
       "      <th>cancerCohortfilter &gt;=5.0</th>\n",
       "      <th>cancerCohortfilter &gt;=10.0</th>\n",
       "      <th>TCGAC8A12P01A11RA11507all</th>\n",
       "      <th>TCGAAOA0JM01A21RA05607all</th>\n",
       "      <th>TCGABHA18V01A11RA12D07all</th>\n",
       "      <th>TCGAA2A0D201A21RA03407all</th>\n",
       "      <th>TCGAA2A0SX01A12RA08407all</th>\n",
       "      <th>isAnnotated</th>\n",
       "    </tr>\n",
       "  </thead>\n",
       "  <tbody>\n",
       "    <tr>\n",
       "      <th>0</th>\n",
       "      <td>WYITRSGIA</td>\n",
       "      <td>3290.0</td>\n",
       "      <td>1969.0</td>\n",
       "      <td>861.0</td>\n",
       "      <td>394.0</td>\n",
       "      <td>89.0</td>\n",
       "      <td>4.0</td>\n",
       "      <td>92347505:92347506:92349915:92349941:None:None</td>\n",
       "      <td>False</td>\n",
       "      <td>False</td>\n",
       "      <td>...</td>\n",
       "      <td>138</td>\n",
       "      <td>82</td>\n",
       "      <td>26</td>\n",
       "      <td>5</td>\n",
       "      <td>0.000000</td>\n",
       "      <td>0.000000</td>\n",
       "      <td>0.000000</td>\n",
       "      <td>4.102634</td>\n",
       "      <td>0.0</td>\n",
       "      <td>NaN</td>\n",
       "    </tr>\n",
       "    <tr>\n",
       "      <th>1</th>\n",
       "      <td>WYITRSGIA</td>\n",
       "      <td>572.0</td>\n",
       "      <td>545.0</td>\n",
       "      <td>243.0</td>\n",
       "      <td>130.0</td>\n",
       "      <td>27.0</td>\n",
       "      <td>2.0</td>\n",
       "      <td>92347505:92347506:92349915:92349941:None:None</td>\n",
       "      <td>False</td>\n",
       "      <td>False</td>\n",
       "      <td>...</td>\n",
       "      <td>138</td>\n",
       "      <td>82</td>\n",
       "      <td>26</td>\n",
       "      <td>5</td>\n",
       "      <td>0.000000</td>\n",
       "      <td>0.000000</td>\n",
       "      <td>0.000000</td>\n",
       "      <td>4.102634</td>\n",
       "      <td>0.0</td>\n",
       "      <td>NaN</td>\n",
       "    </tr>\n",
       "    <tr>\n",
       "      <th>2</th>\n",
       "      <td>ISSQSRVEK</td>\n",
       "      <td>278.0</td>\n",
       "      <td>261.0</td>\n",
       "      <td>82.0</td>\n",
       "      <td>29.0</td>\n",
       "      <td>7.0</td>\n",
       "      <td>0.0</td>\n",
       "      <td>92379851:92379859:92493866:92493885:None:None</td>\n",
       "      <td>False</td>\n",
       "      <td>False</td>\n",
       "      <td>...</td>\n",
       "      <td>10</td>\n",
       "      <td>2</td>\n",
       "      <td>0</td>\n",
       "      <td>0</td>\n",
       "      <td>0.000000</td>\n",
       "      <td>0.000000</td>\n",
       "      <td>2.474321</td>\n",
       "      <td>0.000000</td>\n",
       "      <td>0.0</td>\n",
       "      <td>NaN</td>\n",
       "    </tr>\n",
       "    <tr>\n",
       "      <th>3</th>\n",
       "      <td>RSGDEEKYP</td>\n",
       "      <td>7350.0</td>\n",
       "      <td>4622.0</td>\n",
       "      <td>2653.0</td>\n",
       "      <td>1745.0</td>\n",
       "      <td>1126.0</td>\n",
       "      <td>734.0</td>\n",
       "      <td>92600493:92600508:92611313:92611325:None:None</td>\n",
       "      <td>True</td>\n",
       "      <td>True</td>\n",
       "      <td>...</td>\n",
       "      <td>641</td>\n",
       "      <td>520</td>\n",
       "      <td>348</td>\n",
       "      <td>170</td>\n",
       "      <td>2.922641</td>\n",
       "      <td>2.102386</td>\n",
       "      <td>1.237161</td>\n",
       "      <td>0.000000</td>\n",
       "      <td>0.0</td>\n",
       "      <td>1.0</td>\n",
       "    </tr>\n",
       "    <tr>\n",
       "      <th>4</th>\n",
       "      <td>HLKMKMFQI</td>\n",
       "      <td>146.0</td>\n",
       "      <td>136.0</td>\n",
       "      <td>42.0</td>\n",
       "      <td>20.0</td>\n",
       "      <td>3.0</td>\n",
       "      <td>1.0</td>\n",
       "      <td>92379850:92379859:92496416:92496434:None:None</td>\n",
       "      <td>False</td>\n",
       "      <td>False</td>\n",
       "      <td>...</td>\n",
       "      <td>16</td>\n",
       "      <td>2</td>\n",
       "      <td>0</td>\n",
       "      <td>0</td>\n",
       "      <td>2.922641</td>\n",
       "      <td>0.000000</td>\n",
       "      <td>0.000000</td>\n",
       "      <td>0.000000</td>\n",
       "      <td>0.0</td>\n",
       "      <td>NaN</td>\n",
       "    </tr>\n",
       "  </tbody>\n",
       "</table>\n",
       "<p>5 rows × 24 columns</p>\n",
       "</div>"
      ],
      "text/plain": [
       "        kmer  gtexCohortfilter >0.0  gtexCohortfilter >=1.0  \\\n",
       "0  WYITRSGIA                 3290.0                  1969.0   \n",
       "1  WYITRSGIA                  572.0                   545.0   \n",
       "2  ISSQSRVEK                  278.0                   261.0   \n",
       "3  RSGDEEKYP                 7350.0                  4622.0   \n",
       "4  HLKMKMFQI                  146.0                   136.0   \n",
       "\n",
       "   gtexCohortfilter >=2.0  gtexCohortfilter >=3.0  gtexCohortfilter >=5.0  \\\n",
       "0                   861.0                   394.0                    89.0   \n",
       "1                   243.0                   130.0                    27.0   \n",
       "2                    82.0                    29.0                     7.0   \n",
       "3                  2653.0                  1745.0                  1126.0   \n",
       "4                    42.0                    20.0                     3.0   \n",
       "\n",
       "   gtexCohortfilter >=10.0                                          coord  \\\n",
       "0                      4.0  92347505:92347506:92349915:92349941:None:None   \n",
       "1                      2.0  92347505:92347506:92349915:92349941:None:None   \n",
       "2                      0.0  92379851:92379859:92493866:92493885:None:None   \n",
       "3                    734.0  92600493:92600508:92611313:92611325:None:None   \n",
       "4                      1.0  92379850:92379859:92496416:92496434:None:None   \n",
       "\n",
       "   junctionAnnotated  readFrameAnnotated  ...  cancerCohortfilter >=2.0  \\\n",
       "0              False               False  ...                       138   \n",
       "1              False               False  ...                       138   \n",
       "2              False               False  ...                        10   \n",
       "3               True                True  ...                       641   \n",
       "4              False               False  ...                        16   \n",
       "\n",
       "  cancerCohortfilter >=3.0  cancerCohortfilter >=5.0  \\\n",
       "0                       82                        26   \n",
       "1                       82                        26   \n",
       "2                        2                         0   \n",
       "3                      520                       348   \n",
       "4                        2                         0   \n",
       "\n",
       "   cancerCohortfilter >=10.0  TCGAC8A12P01A11RA11507all  \\\n",
       "0                          5                   0.000000   \n",
       "1                          5                   0.000000   \n",
       "2                          0                   0.000000   \n",
       "3                        170                   2.922641   \n",
       "4                          0                   2.922641   \n",
       "\n",
       "   TCGAAOA0JM01A21RA05607all  TCGABHA18V01A11RA12D07all  \\\n",
       "0                   0.000000                   0.000000   \n",
       "1                   0.000000                   0.000000   \n",
       "2                   0.000000                   2.474321   \n",
       "3                   2.102386                   1.237161   \n",
       "4                   0.000000                   0.000000   \n",
       "\n",
       "   TCGAA2A0D201A21RA03407all  TCGAA2A0SX01A12RA08407all  isAnnotated  \n",
       "0                   4.102634                        0.0          NaN  \n",
       "1                   4.102634                        0.0          NaN  \n",
       "2                   0.000000                        0.0          NaN  \n",
       "3                   0.000000                        0.0          1.0  \n",
       "4                   0.000000                        0.0          NaN  \n",
       "\n",
       "[5 rows x 24 columns]"
      ]
     },
     "execution_count": 46,
     "metadata": {},
     "output_type": "execute_result"
    }
   ],
   "source": [
    "cancer_targets.head()"
   ]
  },
  {
   "cell_type": "code",
   "execution_count": 47,
   "id": "1ce30f68",
   "metadata": {},
   "outputs": [
    {
     "data": {
      "text/plain": [
       "(14469694, 24)"
      ]
     },
     "execution_count": 47,
     "metadata": {},
     "output_type": "execute_result"
    }
   ],
   "source": [
    "cancer_targets.shape"
   ]
  },
  {
   "cell_type": "code",
   "execution_count": 50,
   "id": "98cdfd5e",
   "metadata": {},
   "outputs": [
    {
     "data": {
      "text/html": [
       "<div>\n",
       "<style scoped>\n",
       "    .dataframe tbody tr th:only-of-type {\n",
       "        vertical-align: middle;\n",
       "    }\n",
       "\n",
       "    .dataframe tbody tr th {\n",
       "        vertical-align: top;\n",
       "    }\n",
       "\n",
       "    .dataframe thead th {\n",
       "        text-align: right;\n",
       "    }\n",
       "</style>\n",
       "<table border=\"1\" class=\"dataframe\">\n",
       "  <thead>\n",
       "    <tr style=\"text-align: right;\">\n",
       "      <th></th>\n",
       "      <th>kmer</th>\n",
       "      <th>gtexCohortfilter &gt;0.0</th>\n",
       "      <th>gtexCohortfilter &gt;=1.0</th>\n",
       "      <th>gtexCohortfilter &gt;=2.0</th>\n",
       "      <th>gtexCohortfilter &gt;=3.0</th>\n",
       "      <th>gtexCohortfilter &gt;=5.0</th>\n",
       "      <th>gtexCohortfilter &gt;=10.0</th>\n",
       "      <th>coord</th>\n",
       "      <th>junctionAnnotated</th>\n",
       "      <th>readFrameAnnotated</th>\n",
       "      <th>...</th>\n",
       "      <th>cancerCohortfilter &gt;=2.0</th>\n",
       "      <th>cancerCohortfilter &gt;=3.0</th>\n",
       "      <th>cancerCohortfilter &gt;=5.0</th>\n",
       "      <th>cancerCohortfilter &gt;=10.0</th>\n",
       "      <th>TCGAC8A12P01A11RA11507all</th>\n",
       "      <th>TCGAAOA0JM01A21RA05607all</th>\n",
       "      <th>TCGABHA18V01A11RA12D07all</th>\n",
       "      <th>TCGAA2A0D201A21RA03407all</th>\n",
       "      <th>TCGAA2A0SX01A12RA08407all</th>\n",
       "      <th>isAnnotated</th>\n",
       "    </tr>\n",
       "  </thead>\n",
       "  <tbody>\n",
       "    <tr>\n",
       "      <th>0</th>\n",
       "      <td>WYITRSGIA</td>\n",
       "      <td>3290.0</td>\n",
       "      <td>1969.0</td>\n",
       "      <td>861.0</td>\n",
       "      <td>394.0</td>\n",
       "      <td>89.0</td>\n",
       "      <td>4.0</td>\n",
       "      <td>92347505:92347506:92349915:92349941:None:None</td>\n",
       "      <td>False</td>\n",
       "      <td>False</td>\n",
       "      <td>...</td>\n",
       "      <td>138</td>\n",
       "      <td>82</td>\n",
       "      <td>26</td>\n",
       "      <td>5</td>\n",
       "      <td>0.000000</td>\n",
       "      <td>0.000000</td>\n",
       "      <td>0.000000</td>\n",
       "      <td>4.102634</td>\n",
       "      <td>0.0</td>\n",
       "      <td>NaN</td>\n",
       "    </tr>\n",
       "    <tr>\n",
       "      <th>1</th>\n",
       "      <td>WYITRSGIA</td>\n",
       "      <td>572.0</td>\n",
       "      <td>545.0</td>\n",
       "      <td>243.0</td>\n",
       "      <td>130.0</td>\n",
       "      <td>27.0</td>\n",
       "      <td>2.0</td>\n",
       "      <td>92347505:92347506:92349915:92349941:None:None</td>\n",
       "      <td>False</td>\n",
       "      <td>False</td>\n",
       "      <td>...</td>\n",
       "      <td>138</td>\n",
       "      <td>82</td>\n",
       "      <td>26</td>\n",
       "      <td>5</td>\n",
       "      <td>0.000000</td>\n",
       "      <td>0.000000</td>\n",
       "      <td>0.000000</td>\n",
       "      <td>4.102634</td>\n",
       "      <td>0.0</td>\n",
       "      <td>NaN</td>\n",
       "    </tr>\n",
       "    <tr>\n",
       "      <th>2</th>\n",
       "      <td>ISSQSRVEK</td>\n",
       "      <td>278.0</td>\n",
       "      <td>261.0</td>\n",
       "      <td>82.0</td>\n",
       "      <td>29.0</td>\n",
       "      <td>7.0</td>\n",
       "      <td>0.0</td>\n",
       "      <td>92379851:92379859:92493866:92493885:None:None</td>\n",
       "      <td>False</td>\n",
       "      <td>False</td>\n",
       "      <td>...</td>\n",
       "      <td>10</td>\n",
       "      <td>2</td>\n",
       "      <td>0</td>\n",
       "      <td>0</td>\n",
       "      <td>0.000000</td>\n",
       "      <td>0.000000</td>\n",
       "      <td>2.474321</td>\n",
       "      <td>0.000000</td>\n",
       "      <td>0.0</td>\n",
       "      <td>NaN</td>\n",
       "    </tr>\n",
       "    <tr>\n",
       "      <th>3</th>\n",
       "      <td>RSGDEEKYP</td>\n",
       "      <td>7350.0</td>\n",
       "      <td>4622.0</td>\n",
       "      <td>2653.0</td>\n",
       "      <td>1745.0</td>\n",
       "      <td>1126.0</td>\n",
       "      <td>734.0</td>\n",
       "      <td>92600493:92600508:92611313:92611325:None:None</td>\n",
       "      <td>True</td>\n",
       "      <td>True</td>\n",
       "      <td>...</td>\n",
       "      <td>641</td>\n",
       "      <td>520</td>\n",
       "      <td>348</td>\n",
       "      <td>170</td>\n",
       "      <td>2.922641</td>\n",
       "      <td>2.102386</td>\n",
       "      <td>1.237161</td>\n",
       "      <td>0.000000</td>\n",
       "      <td>0.0</td>\n",
       "      <td>1.0</td>\n",
       "    </tr>\n",
       "    <tr>\n",
       "      <th>4</th>\n",
       "      <td>HLKMKMFQI</td>\n",
       "      <td>146.0</td>\n",
       "      <td>136.0</td>\n",
       "      <td>42.0</td>\n",
       "      <td>20.0</td>\n",
       "      <td>3.0</td>\n",
       "      <td>1.0</td>\n",
       "      <td>92379850:92379859:92496416:92496434:None:None</td>\n",
       "      <td>False</td>\n",
       "      <td>False</td>\n",
       "      <td>...</td>\n",
       "      <td>16</td>\n",
       "      <td>2</td>\n",
       "      <td>0</td>\n",
       "      <td>0</td>\n",
       "      <td>2.922641</td>\n",
       "      <td>0.000000</td>\n",
       "      <td>0.000000</td>\n",
       "      <td>0.000000</td>\n",
       "      <td>0.0</td>\n",
       "      <td>NaN</td>\n",
       "    </tr>\n",
       "  </tbody>\n",
       "</table>\n",
       "<p>5 rows × 24 columns</p>\n",
       "</div>"
      ],
      "text/plain": [
       "        kmer  gtexCohortfilter >0.0  gtexCohortfilter >=1.0  \\\n",
       "0  WYITRSGIA                 3290.0                  1969.0   \n",
       "1  WYITRSGIA                  572.0                   545.0   \n",
       "2  ISSQSRVEK                  278.0                   261.0   \n",
       "3  RSGDEEKYP                 7350.0                  4622.0   \n",
       "4  HLKMKMFQI                  146.0                   136.0   \n",
       "\n",
       "   gtexCohortfilter >=2.0  gtexCohortfilter >=3.0  gtexCohortfilter >=5.0  \\\n",
       "0                   861.0                   394.0                    89.0   \n",
       "1                   243.0                   130.0                    27.0   \n",
       "2                    82.0                    29.0                     7.0   \n",
       "3                  2653.0                  1745.0                  1126.0   \n",
       "4                    42.0                    20.0                     3.0   \n",
       "\n",
       "   gtexCohortfilter >=10.0                                          coord  \\\n",
       "0                      4.0  92347505:92347506:92349915:92349941:None:None   \n",
       "1                      2.0  92347505:92347506:92349915:92349941:None:None   \n",
       "2                      0.0  92379851:92379859:92493866:92493885:None:None   \n",
       "3                    734.0  92600493:92600508:92611313:92611325:None:None   \n",
       "4                      1.0  92379850:92379859:92496416:92496434:None:None   \n",
       "\n",
       "   junctionAnnotated  readFrameAnnotated  ...  cancerCohortfilter >=2.0  \\\n",
       "0              False               False  ...                       138   \n",
       "1              False               False  ...                       138   \n",
       "2              False               False  ...                        10   \n",
       "3               True                True  ...                       641   \n",
       "4              False               False  ...                        16   \n",
       "\n",
       "  cancerCohortfilter >=3.0  cancerCohortfilter >=5.0  \\\n",
       "0                       82                        26   \n",
       "1                       82                        26   \n",
       "2                        2                         0   \n",
       "3                      520                       348   \n",
       "4                        2                         0   \n",
       "\n",
       "   cancerCohortfilter >=10.0  TCGAC8A12P01A11RA11507all  \\\n",
       "0                          5                   0.000000   \n",
       "1                          5                   0.000000   \n",
       "2                          0                   0.000000   \n",
       "3                        170                   2.922641   \n",
       "4                          0                   2.922641   \n",
       "\n",
       "   TCGAAOA0JM01A21RA05607all  TCGABHA18V01A11RA12D07all  \\\n",
       "0                   0.000000                   0.000000   \n",
       "1                   0.000000                   0.000000   \n",
       "2                   0.000000                   2.474321   \n",
       "3                   2.102386                   1.237161   \n",
       "4                   0.000000                   0.000000   \n",
       "\n",
       "   TCGAA2A0D201A21RA03407all  TCGAA2A0SX01A12RA08407all  isAnnotated  \n",
       "0                   4.102634                        0.0          NaN  \n",
       "1                   4.102634                        0.0          NaN  \n",
       "2                   0.000000                        0.0          NaN  \n",
       "3                   0.000000                        0.0          1.0  \n",
       "4                   0.000000                        0.0          NaN  \n",
       "\n",
       "[5 rows x 24 columns]"
      ]
     },
     "execution_count": 50,
     "metadata": {},
     "output_type": "execute_result"
    }
   ],
   "source": [
    "cancer_targets.head()"
   ]
  },
  {
   "cell_type": "code",
   "execution_count": 51,
   "id": "6c34f44c",
   "metadata": {},
   "outputs": [],
   "source": [
    "intermediate_output = '/cluster/work/grlab/projects/projects2020_OHSU/peptides_generation/CANCER_eth/commit_c4dd02c_conf2_Frame_cap0_runs/TCGA_Breast_1102/filtering_intermediate/complete_cancer_candidates_missing_162_45.tsv.gz'"
   ]
  },
  {
   "cell_type": "code",
   "execution_count": 52,
   "id": "97f9daae",
   "metadata": {
    "scrolled": true
   },
   "outputs": [],
   "source": [
    "cancer_targets.to_csv(intermediate_output, compression='gzip', sep = '\\t', index=None)"
   ]
  },
  {
   "cell_type": "code",
   "execution_count": null,
   "id": "1ab18ae2",
   "metadata": {},
   "outputs": [],
   "source": []
  },
  {
   "cell_type": "markdown",
   "id": "2cc82c59",
   "metadata": {},
   "source": [
    "# Perform the filtering"
   ]
  },
  {
   "cell_type": "code",
   "execution_count": null,
   "id": "695e34fd",
   "metadata": {},
   "outputs": [],
   "source": [
    "cancer_targets2.shape"
   ]
  },
  {
   "cell_type": "code",
   "execution_count": null,
   "id": "ad688e4e",
   "metadata": {},
   "outputs": [],
   "source": [
    "cancer_targets3 = cancer_targets_back[['kmer', 'coord', 'batch']].drop_duplicates().merge(cancer_targets2, how = 'right', on = ['coord','kmer'])"
   ]
  },
  {
   "cell_type": "code",
   "execution_count": null,
   "id": "ce7c3068",
   "metadata": {},
   "outputs": [],
   "source": [
    "cancer_targets3.shape"
   ]
  },
  {
   "cell_type": "code",
   "execution_count": null,
   "id": "8fbeaf34",
   "metadata": {
    "scrolled": true
   },
   "outputs": [],
   "source": [
    "cancer_targets3.loc[cancer_targets3['isAnnotated'] != 1, :].head()"
   ]
  },
  {
   "cell_type": "code",
   "execution_count": null,
   "id": "8b7086d4",
   "metadata": {},
   "outputs": [],
   "source": [
    "filter_threshold = 'gtexCohortfilter >0.0'"
   ]
  },
  {
   "cell_type": "code",
   "execution_count": null,
   "id": "497b7eba",
   "metadata": {},
   "outputs": [],
   "source": [
    "max_threshold_gtex = cancer_targets3[['kmer',filter_threshold]].groupby('kmer').max().reset_index()\\\n",
    ".rename({filter_threshold: 'max_' + filter_threshold}, axis = 1)"
   ]
  },
  {
   "cell_type": "code",
   "execution_count": null,
   "id": "3147a3ed",
   "metadata": {},
   "outputs": [],
   "source": [
    "not_annot_not_gtex = max_threshold_gtex.merge(cancer_targets3, how = 'right', on = 'kmer')"
   ]
  },
  {
   "cell_type": "code",
   "execution_count": null,
   "id": "3e2395b0",
   "metadata": {},
   "outputs": [],
   "source": [
    "not_annot_not_gtex.shape"
   ]
  },
  {
   "cell_type": "code",
   "execution_count": null,
   "id": "a5057062",
   "metadata": {
    "scrolled": true
   },
   "outputs": [],
   "source": [
    "not_annot_not_gtex = not_annot_not_gtex.loc[(not_annot_not_gtex['max_' + filter_threshold] == 0) \\\n",
    "                    & (not_annot_not_gtex['isAnnotated'] != 1), :]"
   ]
  },
  {
   "cell_type": "code",
   "execution_count": null,
   "id": "72da3245",
   "metadata": {},
   "outputs": [],
   "source": [
    "not_annot_not_gtex.shape\n"
   ]
  },
  {
   "cell_type": "code",
   "execution_count": null,
   "id": "2621f93b",
   "metadata": {},
   "outputs": [],
   "source": [
    "not_annot_not_gtex"
   ]
  },
  {
   "cell_type": "code",
   "execution_count": null,
   "id": "7a37f903",
   "metadata": {
    "scrolled": true
   },
   "outputs": [],
   "source": [
    "not_annot_not_gtex.head()"
   ]
  },
  {
   "cell_type": "code",
   "execution_count": null,
   "id": "23b5a44e",
   "metadata": {},
   "outputs": [],
   "source": [
    "import matplotlib.pyplot as plt "
   ]
  },
  {
   "cell_type": "code",
   "execution_count": null,
   "id": "a891181a",
   "metadata": {
    "scrolled": true
   },
   "outputs": [],
   "source": [
    "not_annot_not_gtex.columns"
   ]
  },
  {
   "cell_type": "code",
   "execution_count": null,
   "id": "9647fb35",
   "metadata": {},
   "outputs": [],
   "source": [
    "not_annot_not_gtex['junctionAnnotated'].unique()"
   ]
  },
  {
   "cell_type": "code",
   "execution_count": null,
   "id": "0f26ff3b",
   "metadata": {},
   "outputs": [],
   "source": [
    "plt.hist(not_annot_not_gtex['cancerCohortfilter >0.0'], bins = 100)"
   ]
  },
  {
   "cell_type": "code",
   "execution_count": null,
   "id": "8b5a7321",
   "metadata": {},
   "outputs": [],
   "source": [
    "not_completed = '/cluster/work/grlab/projects/projects2020_OHSU/peptides_generation/GTEX2019_eth/GTEX2019_c4dd02c_conf2_RFall_ref/missing_20230214.txt'"
   ]
  },
  {
   "cell_type": "code",
   "execution_count": null,
   "id": "f24a4ad9",
   "metadata": {},
   "outputs": [],
   "source": [
    "not_completed = list(pd.read_csv(not_completed, header = None)[0])"
   ]
  },
  {
   "cell_type": "code",
   "execution_count": null,
   "id": "88efe1ad",
   "metadata": {},
   "outputs": [],
   "source": [
    "not_completed"
   ]
  },
  {
   "cell_type": "code",
   "execution_count": null,
   "id": "deb869b0",
   "metadata": {},
   "outputs": [],
   "source": [
    "df_not = []\n",
    "start_time  = timeit.default_timer()\n",
    "for idx, batch_gene in enumerate(path_cohort):\n",
    "    if os.path.basename(batch_gene) in not_completed:\n",
    "        if os.path.exists(os.path.join(batch_gene , expr_matrix)) and \\\n",
    "           os.path.exists(os.path.join(batch_gene , 'output_sample_IS_SUCCESS')):\n",
    "\n",
    "            partitions = glob.glob(os.path.join(batch_gene , expr_matrix) + '/*')\n",
    "            #print(os.path.join(batch_gene , expr_matrix))\n",
    "            #print(f'Number of partitions is {len(partitions)}')\n",
    "            for part in partitions:\n",
    "                kmers_sample = pd.read_csv(part, sep = '\\t', usecols = target_samples + metadata)\n",
    "                df_not.append(kmers_sample)\n",
    "            #print(f'processed gene {idx}')\n",
    "\n",
    "\n",
    "cancer_not = pd.concat(df_not, axis = 0)\n",
    "\n",
    "time_res = timeit.default_timer() - start_time \n",
    "print(time_res)"
   ]
  },
  {
   "cell_type": "code",
   "execution_count": null,
   "id": "0cec4687",
   "metadata": {},
   "outputs": [],
   "source": [
    "cancer_not.shape"
   ]
  },
  {
   "cell_type": "code",
   "execution_count": null,
   "id": "be5d8703",
   "metadata": {},
   "outputs": [],
   "source": [
    "cancer_not['gtex_not_processed'] = 1\n"
   ]
  },
  {
   "cell_type": "code",
   "execution_count": null,
   "id": "9814f1e4",
   "metadata": {},
   "outputs": [],
   "source": [
    "cancer_not = cancer_not.drop_duplicates()"
   ]
  },
  {
   "cell_type": "code",
   "execution_count": null,
   "id": "2a362004",
   "metadata": {},
   "outputs": [],
   "source": [
    "cancer_not[['gtex_not_processed', 'kmer']].head()"
   ]
  },
  {
   "cell_type": "code",
   "execution_count": null,
   "id": "a4e20f7d",
   "metadata": {},
   "outputs": [],
   "source": [
    "not_annot_not_gtex = not_annot_not_gtex.merge(cancer_not[['gtex_not_processed', 'kmer']], on='kmer', how='left')"
   ]
  },
  {
   "cell_type": "code",
   "execution_count": null,
   "id": "8fe48aca",
   "metadata": {},
   "outputs": [],
   "source": [
    "plt.hist(not_annot_not_gtex.loc[not_annot_not_gtex['junctionAnnotated'] == False,\\\n",
    "                                'cancerCohortfilter >0.0'], bins = 100)"
   ]
  },
  {
   "cell_type": "code",
   "execution_count": null,
   "id": "0df89179",
   "metadata": {},
   "outputs": [],
   "source": [
    "df_plot = not_annot_not_gtex.loc[not_annot_not_gtex['junctionAnnotated'] == False,\\\n",
    "                                :]\n",
    "\n",
    "plt.scatter(df_plot['cancerCohortfilter >0.0'], df_plot['TCGAC8A12P01A11RA11507all'])"
   ]
  },
  {
   "cell_type": "code",
   "execution_count": null,
   "id": "77858f53",
   "metadata": {},
   "outputs": [],
   "source": [
    "df_plot.head()"
   ]
  },
  {
   "cell_type": "code",
   "execution_count": null,
   "id": "abd67f17",
   "metadata": {
    "scrolled": false
   },
   "outputs": [],
   "source": [
    "df_plot = not_annot_not_gtex.loc[not_annot_not_gtex['junctionAnnotated'] == True,\\\n",
    "                                :]\n",
    "\n",
    "\n",
    "plt.scatter(df_plot['cancerCohortfilter >0.0'], df_plot['TCGAC8A12P01A11RA11507all'])"
   ]
  },
  {
   "cell_type": "code",
   "execution_count": null,
   "id": "cb9681cf",
   "metadata": {},
   "outputs": [],
   "source": [
    "df_plot = not_annot_not_gtex[not_annot_not_gtex['cancerCohortfilter >0.0'] > 800]\n"
   ]
  },
  {
   "cell_type": "code",
   "execution_count": null,
   "id": "dbcd3d27",
   "metadata": {},
   "outputs": [],
   "source": [
    "len(df_plot['batch'].unique())\n"
   ]
  },
  {
   "cell_type": "code",
   "execution_count": null,
   "id": "ef431ec4",
   "metadata": {},
   "outputs": [],
   "source": [
    "df_plot.to_csv('/cluster/work/grlab/projects/projects2020_OHSU/peptides_generation/CANCER_eth/commit_c4dd02c_conf2_Frame_cap0_runs/TCGA_Breast_1102/filtering_intermediate/complete_cancer_candidates_false_positives.tsv.gz', \n",
    "              compression = 'gzip', index = None)"
   ]
  },
  {
   "cell_type": "code",
   "execution_count": null,
   "id": "414acc2e",
   "metadata": {},
   "outputs": [],
   "source": [
    "df_plot.head()"
   ]
  },
  {
   "cell_type": "markdown",
   "id": "78d2392a",
   "metadata": {},
   "source": [
    "# Checks"
   ]
  },
  {
   "cell_type": "code",
   "execution_count": null,
   "id": "ebd4af42",
   "metadata": {},
   "outputs": [],
   "source": []
  },
  {
   "cell_type": "code",
   "execution_count": null,
   "id": "e3b8e836",
   "metadata": {},
   "outputs": [],
   "source": [
    "kmer_test = 'GRRWSRPRW'"
   ]
  },
  {
   "cell_type": "code",
   "execution_count": null,
   "id": "f608ede9",
   "metadata": {},
   "outputs": [],
   "source": [
    "df_gtex_cohort.loc[df_gtex_cohort['kmer'] == kmer_test]"
   ]
  },
  {
   "cell_type": "code",
   "execution_count": null,
   "id": "a8914db8",
   "metadata": {},
   "outputs": [],
   "source": [
    "cancer_targets3.loc[cancer_targets3['kmer'] == kmer_test]"
   ]
  },
  {
   "cell_type": "code",
   "execution_count": null,
   "id": "840ccba1",
   "metadata": {},
   "outputs": [],
   "source": [
    "# Look for the "
   ]
  },
  {
   "cell_type": "code",
   "execution_count": null,
   "id": "4e7aeb1e",
   "metadata": {},
   "outputs": [],
   "source": [
    "cancer_targets = filter_single_col(cancer_targets, 0, target_sample)\n",
    "output_count(cancer_targets, report_count, report_steps, 'Init_Sample')\n",
    "cancer_targets = filter_single_col(cancer_targets, 10, target_sample)\n",
    "output_count(cancer_targets, report_count, report_steps, 'Filter_Sample')"
   ]
  },
  {
   "cell_type": "code",
   "execution_count": null,
   "id": "a6220344",
   "metadata": {},
   "outputs": [],
   "source": [
    "def filter_normal_cohort(df, n_samples_lim_normal, cohort_expr_support_normal, tag = '' ):\n",
    "    base_reads = 0 \n",
    "    base_filter_column = f'{tag}filter > {base_reads}'\n",
    "    base_sample = 1\n",
    "    if (cohort_expr_support_normal is not None) or (cohort_expr_support_normal > 0 ):\n",
    "        filter_column = f'{tag}filter >= {cohort_expr_support_normal}'\n",
    "    else:\n",
    "        filter_column = base_filter_column\n",
    "    \n",
    "      \n",
    "    res_column = f'{tag}filter >= {cohort_expr_support_normal} in any sample and any read in {n_samples_lim_normal} '\n",
    "    df[res_column] = df.loc[(df[filter_column] >= base_sample) \\\n",
    "                            and (df[base_filter_column] >= n_samples_lim_normal)]\n",
    "\n",
    "        \n",
    "    return df\n",
    "        "
   ]
  },
  {
   "cell_type": "code",
   "execution_count": null,
   "id": "707b2a06",
   "metadata": {},
   "outputs": [],
   "source": [
    "def filter_single_col(df, threshold, col):\n",
    "    print(df.shape)\n",
    "    if threshold:\n",
    "        filter_col = f'filter >={threshold}'\n",
    "        df = df.loc[df[col] >= threshold, :]\n",
    "    else:\n",
    "        filter_col = f'filter >{threshold}'\n",
    "        df = df.loc[df[col] >threshold, :]\n",
    "    print(df.shape)\n",
    "    return df"
   ]
  },
  {
   "cell_type": "code",
   "execution_count": null,
   "id": "c2391341",
   "metadata": {},
   "outputs": [],
   "source": [
    "def output_count(df, report_count, report_step, step_string, perform_count=True):\n",
    "    '''\n",
    "    Performs a count operation on the number of kmers present in spark dataframe after a given filtering step\n",
    "    Note: This operation is expensive but useful if the user is interested in intermediate filtering steps\n",
    "    :param perform_count: bool whether to perform a count operation\n",
    "    :param df: dataframe with kmer expression counts\n",
    "    :param report_count: list to store result of successive counting operations\n",
    "    :param report_step: list to store name of successive counting operations\n",
    "    :param step_string: str name of the counting operation\n",
    "    '''\n",
    "    if perform_count:\n",
    "        mycount = df['kmer'].unique().shape[0]\n",
    "        report_count.append(mycount)\n",
    "        report_step.append(step_string)\n",
    "        logging.info(f'# {step_string} n = {mycount} kmers')"
   ]
  },
  {
   "cell_type": "code",
   "execution_count": null,
   "id": "589c2140",
   "metadata": {},
   "outputs": [],
   "source": [
    "def save_output_count(output_count, report_count, report_steps, prefix, cancer_sample_ori, mutation_mode,\n",
    "                      sample_expr_support_cancer, cohort_expr_support_cancer, n_samples_lim_cancer,\n",
    "                          cohort_expr_support_normal, n_samples_lim_normal, id_normals):\n",
    "    '''\n",
    "    Saves the number of kmers present in spark dataframe after each filtering step in a tabular file\n",
    "    :param output_count: str path for count file of intermediate filtering steps\n",
    "    :param report_count: list to store result of successive counting operations\n",
    "    :param report_step: list to store name of successive counting operations\n",
    "    :param prefix: str information to be added to the result line in an info column\n",
    "    :param cancer_sample_ori: str id of target cancer sample which was filtered\n",
    "    :param mutation_mode: str information about whether mutations where applied or not\n",
    "    :param sample_expr_support_cancer: float normalized expression threshold for the cancer target sample\n",
    "    :param cohort_expr_support_cancer: float normalized expression threshold for the cancer cohort\n",
    "    excluding the target sample\n",
    "    hich should be met in n samples\n",
    "    :param n_samples_lim_cancer: int number of cancer samples in which the cancer cohort expression threshold\n",
    "    should be met\n",
    "    :param cohort_expr_support_normal: float normalized expression threshold for the normal cohort\n",
    "    required in any sample (>=1)\n",
    "    :param n_samples_lim_normal: int number of normal samples in which any number of reads is required (>0)\n",
    "    :param id_normals: str id of the normal cohort (example gtex)\n",
    "    '''\n",
    "    if output_count:\n",
    "        header = (f'{\"sample\"}\\t{\"mutation_mode\"}\\t{\"min_sample_reads\"}\\t{\"#_of_cohort_samples\"}\\t'\n",
    "                  f'{\"reads_per_cohort_sample\"}\\t{\"#_normal_samples_allowed\"}\\t{\"normal_cohort_id\"}'\n",
    "                  f'\\t{\"reads_per_normal_sample\"}')\n",
    "        line =   (f'{cancer_sample_ori}\\t{mutation_mode}\\t{sample_expr_support_cancer}\\t{n_samples_lim_cancer}'\n",
    "                  f'\\t{cohort_expr_support_cancer}\\t{n_samples_lim_normal}\\t{id_normals}'\n",
    "                  f'\\t{cohort_expr_support_normal}')\n",
    "\n",
    "        for idx in np.arange(len(report_count)):\n",
    "            header += f'\\t{report_steps[idx]}'\n",
    "            line += f'\\t{report_count[idx]}'\n",
    "        if prefix:\n",
    "            header += f'\\t{\"info\"}'\n",
    "            line += f'\\t{prefix}'\n",
    "        header += \"\\n\"\n",
    "        line += \"\\n\"\n",
    "        if not os.path.exists(output_count):\n",
    "            with open(output_count,\"w\") as f:\n",
    "                f.write(header)\n",
    "        with open(output_count, \"a\") as f:\n",
    "            f.write(line)\n",
    "        logging.info(f'Save intermediate info to {output_count}')"
   ]
  },
  {
   "cell_type": "code",
   "execution_count": null,
   "id": "47f4708e",
   "metadata": {},
   "outputs": [],
   "source": []
  },
  {
   "cell_type": "code",
   "execution_count": null,
   "id": "1fb5fbad",
   "metadata": {},
   "outputs": [],
   "source": []
  },
  {
   "cell_type": "code",
   "execution_count": null,
   "id": "0b49466c",
   "metadata": {},
   "outputs": [],
   "source": []
  }
 ],
 "metadata": {
  "kernelspec": {
   "display_name": "Python 3 (ipykernel)",
   "language": "python",
   "name": "python3"
  },
  "language_info": {
   "codemirror_mode": {
    "name": "ipython",
    "version": 3
   },
   "file_extension": ".py",
   "mimetype": "text/x-python",
   "name": "python",
   "nbconvert_exporter": "python",
   "pygments_lexer": "ipython3",
   "version": "3.9.13"
  }
 },
 "nbformat": 4,
 "nbformat_minor": 5
}
