{
 "cells": [
  {
   "cell_type": "code",
   "execution_count": 314,
   "id": "bf91ceb8",
   "metadata": {},
   "outputs": [],
   "source": [
    "import numpy as np\n",
    "import os\n",
    "import timeit\n",
    "import glob \n",
    "import pandas as pd\n",
    "import time\n",
    "import multiprocessing as mp \n",
    "import logging\n",
    "import sys \n",
    "from pathlib import Path"
   ]
  },
  {
   "cell_type": "code",
   "execution_count": 315,
   "id": "c90f384e",
   "metadata": {},
   "outputs": [
    {
     "name": "stdout",
     "output_type": "stream",
     "text": [
      "The autoreload extension is already loaded. To reload it, use:\n",
      "  %reload_ext autoreload\n"
     ]
    }
   ],
   "source": [
    "sys.path.append('/cluster/home/prelotla/github/projects2020_ohsu/eth/peptides_filtering/python_pipeline/')\n",
    "from helpers_filter import * \n",
    "from background_filter import process_on_cohort\n",
    "\n",
    "%load_ext autoreload\n",
    "%autoreload 2"
   ]
  },
  {
   "cell_type": "code",
   "execution_count": 316,
   "id": "e61d5dd9",
   "metadata": {},
   "outputs": [],
   "source": [
    "cohort_expr_support_cancer = 2\n",
    "n_samples_lim_cancer = 5\n",
    "sample_expr_support_cancer = 1 \n",
    "\n",
    "cohort_expr_support_normal = 2 #TODO introduce None filtering\n",
    "n_samples_lim_cancer = 5\n"
   ]
  },
  {
   "cell_type": "code",
   "execution_count": 317,
   "id": "0e91eace",
   "metadata": {},
   "outputs": [],
   "source": [
    "base_cancer = '/cluster/work/grlab/projects/projects2020_OHSU/peptides_generation/CANCER_eth/commit_c4dd02c_conf2_Frame_cap0_runs/TCGA_Breast_1102'\n",
    "base_gtex = '/cluster/work/grlab/projects/projects2020_OHSU/peptides_generation/GTEX2019_eth/GTEX2019_c4dd02c_conf2_RFall_ref'\n",
    "target_samples = ['TCGAC8A12P01A11RA11507all',\n",
    "        'TCGAAOA0JM01A21RA05607all',\n",
    "        'TCGABHA18V01A11RA12D07all',\n",
    "        'TCGAA2A0D201A21RA03407all',\n",
    "        'TCGAA2A0SX01A12RA08407all' ]\n",
    "                 \n",
    "expr_matrix = 'ref_graph_kmer_JuncExpr'\n",
    "metadata = ['kmer', 'coord', 'junctionAnnotated', 'readFrameAnnotated', 'isCrossJunction'] # These are the non-sample columns\n",
    "normalizer_libsize = 400000\n",
    "path_libsize = os.path.join(base_cancer, 'expression_counts.libsize.tsv')\n",
    "sample_lim = 1\n",
    "interm_cancer_cohort = 'ref_graph_kmer_normalized_filtered__.gz'\n",
    "interm_gtex_cohort = 'ref_graph_kmer_normalized_filtered_10-21overlap_.gz'"
   ]
  },
  {
   "cell_type": "code",
   "execution_count": 319,
   "id": "6c3b855a",
   "metadata": {
    "collapsed": true
   },
   "outputs": [
    {
     "ename": "KeyboardInterrupt",
     "evalue": "",
     "output_type": "error",
     "traceback": [
      "\u001b[0;31m---------------------------------------------------------------------------\u001b[0m",
      "\u001b[0;31mKeyboardInterrupt\u001b[0m                         Traceback (most recent call last)",
      "Cell \u001b[0;32mIn [319], line 3\u001b[0m\n\u001b[1;32m      1\u001b[0m \u001b[38;5;66;03m# Cancer cohort files\u001b[39;00m\n\u001b[1;32m      2\u001b[0m start_time  \u001b[38;5;241m=\u001b[39m timeit\u001b[38;5;241m.\u001b[39mdefault_timer()\n\u001b[0;32m----> 3\u001b[0m cohort_cancer \u001b[38;5;241m=\u001b[39m \u001b[43mglob\u001b[49m\u001b[38;5;241;43m.\u001b[39;49m\u001b[43mglob\u001b[49m\u001b[43m(\u001b[49m\u001b[43mos\u001b[49m\u001b[38;5;241;43m.\u001b[39;49m\u001b[43mpath\u001b[49m\u001b[38;5;241;43m.\u001b[39;49m\u001b[43mjoin\u001b[49m\u001b[43m(\u001b[49m\u001b[43mbase_cancer\u001b[49m\u001b[43m,\u001b[49m\u001b[43m \u001b[49m\u001b[38;5;124;43m'\u001b[39;49m\u001b[38;5;124;43mcohort_mutNone/tmp_out_ref_batch_*\u001b[39;49m\u001b[38;5;124;43m'\u001b[39;49m\u001b[43m,\u001b[49m\u001b[43m \u001b[49m\u001b[43minterm_cancer_cohort\u001b[49m\u001b[43m)\u001b[49m\u001b[43m)\u001b[49m\n\u001b[1;32m      4\u001b[0m time_res \u001b[38;5;241m=\u001b[39m timeit\u001b[38;5;241m.\u001b[39mdefault_timer() \u001b[38;5;241m-\u001b[39m start_time \n\u001b[1;32m      5\u001b[0m \u001b[38;5;28mprint\u001b[39m(time_res)\n",
      "File \u001b[0;32m/cluster/customapps/biomed/grlab/users/prelotla/software/miniconda/envs/pep3/lib/python3.9/glob.py:22\u001b[0m, in \u001b[0;36mglob\u001b[0;34m(pathname, recursive)\u001b[0m\n\u001b[1;32m     11\u001b[0m \u001b[38;5;28;01mdef\u001b[39;00m \u001b[38;5;21mglob\u001b[39m(pathname, \u001b[38;5;241m*\u001b[39m, recursive\u001b[38;5;241m=\u001b[39m\u001b[38;5;28;01mFalse\u001b[39;00m):\n\u001b[1;32m     12\u001b[0m     \u001b[38;5;124;03m\"\"\"Return a list of paths matching a pathname pattern.\u001b[39;00m\n\u001b[1;32m     13\u001b[0m \n\u001b[1;32m     14\u001b[0m \u001b[38;5;124;03m    The pattern may contain simple shell-style wildcards a la\u001b[39;00m\n\u001b[0;32m   (...)\u001b[0m\n\u001b[1;32m     20\u001b[0m \u001b[38;5;124;03m    zero or more directories and subdirectories.\u001b[39;00m\n\u001b[1;32m     21\u001b[0m \u001b[38;5;124;03m    \"\"\"\u001b[39;00m\n\u001b[0;32m---> 22\u001b[0m     \u001b[38;5;28;01mreturn\u001b[39;00m \u001b[38;5;28;43mlist\u001b[39;49m\u001b[43m(\u001b[49m\u001b[43miglob\u001b[49m\u001b[43m(\u001b[49m\u001b[43mpathname\u001b[49m\u001b[43m,\u001b[49m\u001b[43m \u001b[49m\u001b[43mrecursive\u001b[49m\u001b[38;5;241;43m=\u001b[39;49m\u001b[43mrecursive\u001b[49m\u001b[43m)\u001b[49m\u001b[43m)\u001b[49m\n",
      "File \u001b[0;32m/cluster/customapps/biomed/grlab/users/prelotla/software/miniconda/envs/pep3/lib/python3.9/glob.py:74\u001b[0m, in \u001b[0;36m_iglob\u001b[0;34m(pathname, recursive, dironly)\u001b[0m\n\u001b[1;32m     72\u001b[0m \u001b[38;5;28;01melse\u001b[39;00m:\n\u001b[1;32m     73\u001b[0m     glob_in_dir \u001b[38;5;241m=\u001b[39m _glob0\n\u001b[0;32m---> 74\u001b[0m \u001b[38;5;28;01mfor\u001b[39;00m dirname \u001b[38;5;129;01min\u001b[39;00m dirs:\n\u001b[1;32m     75\u001b[0m     \u001b[38;5;28;01mfor\u001b[39;00m name \u001b[38;5;129;01min\u001b[39;00m glob_in_dir(dirname, basename, dironly):\n\u001b[1;32m     76\u001b[0m         \u001b[38;5;28;01myield\u001b[39;00m os\u001b[38;5;241m.\u001b[39mpath\u001b[38;5;241m.\u001b[39mjoin(dirname, name)\n",
      "File \u001b[0;32m/cluster/customapps/biomed/grlab/users/prelotla/software/miniconda/envs/pep3/lib/python3.9/glob.py:75\u001b[0m, in \u001b[0;36m_iglob\u001b[0;34m(pathname, recursive, dironly)\u001b[0m\n\u001b[1;32m     73\u001b[0m     glob_in_dir \u001b[38;5;241m=\u001b[39m _glob0\n\u001b[1;32m     74\u001b[0m \u001b[38;5;28;01mfor\u001b[39;00m dirname \u001b[38;5;129;01min\u001b[39;00m dirs:\n\u001b[0;32m---> 75\u001b[0m     \u001b[38;5;28;01mfor\u001b[39;00m name \u001b[38;5;129;01min\u001b[39;00m \u001b[43mglob_in_dir\u001b[49m\u001b[43m(\u001b[49m\u001b[43mdirname\u001b[49m\u001b[43m,\u001b[49m\u001b[43m \u001b[49m\u001b[43mbasename\u001b[49m\u001b[43m,\u001b[49m\u001b[43m \u001b[49m\u001b[43mdironly\u001b[49m\u001b[43m)\u001b[49m:\n\u001b[1;32m     76\u001b[0m         \u001b[38;5;28;01myield\u001b[39;00m os\u001b[38;5;241m.\u001b[39mpath\u001b[38;5;241m.\u001b[39mjoin(dirname, name)\n",
      "File \u001b[0;32m/cluster/customapps/biomed/grlab/users/prelotla/software/miniconda/envs/pep3/lib/python3.9/glob.py:83\u001b[0m, in \u001b[0;36m_glob1\u001b[0;34m(dirname, pattern, dironly)\u001b[0m\n\u001b[1;32m     82\u001b[0m \u001b[38;5;28;01mdef\u001b[39;00m \u001b[38;5;21m_glob1\u001b[39m(dirname, pattern, dironly):\n\u001b[0;32m---> 83\u001b[0m     names \u001b[38;5;241m=\u001b[39m \u001b[43m_listdir\u001b[49m\u001b[43m(\u001b[49m\u001b[43mdirname\u001b[49m\u001b[43m,\u001b[49m\u001b[43m \u001b[49m\u001b[43mdironly\u001b[49m\u001b[43m)\u001b[49m\n\u001b[1;32m     84\u001b[0m     \u001b[38;5;28;01mif\u001b[39;00m \u001b[38;5;129;01mnot\u001b[39;00m _ishidden(pattern):\n\u001b[1;32m     85\u001b[0m         names \u001b[38;5;241m=\u001b[39m (x \u001b[38;5;28;01mfor\u001b[39;00m x \u001b[38;5;129;01min\u001b[39;00m names \u001b[38;5;28;01mif\u001b[39;00m \u001b[38;5;129;01mnot\u001b[39;00m _ishidden(x))\n",
      "File \u001b[0;32m/cluster/customapps/biomed/grlab/users/prelotla/software/miniconda/envs/pep3/lib/python3.9/glob.py:136\u001b[0m, in \u001b[0;36m_listdir\u001b[0;34m(dirname, dironly)\u001b[0m\n\u001b[1;32m    134\u001b[0m \u001b[38;5;28;01mdef\u001b[39;00m \u001b[38;5;21m_listdir\u001b[39m(dirname, dironly):\n\u001b[1;32m    135\u001b[0m     \u001b[38;5;28;01mwith\u001b[39;00m contextlib\u001b[38;5;241m.\u001b[39mclosing(_iterdir(dirname, dironly)) \u001b[38;5;28;01mas\u001b[39;00m it:\n\u001b[0;32m--> 136\u001b[0m         \u001b[38;5;28;01mreturn\u001b[39;00m \u001b[38;5;28;43mlist\u001b[39;49m\u001b[43m(\u001b[49m\u001b[43mit\u001b[49m\u001b[43m)\u001b[49m\n",
      "File \u001b[0;32m/cluster/customapps/biomed/grlab/users/prelotla/software/miniconda/envs/pep3/lib/python3.9/glob.py:125\u001b[0m, in \u001b[0;36m_iterdir\u001b[0;34m(dirname, dironly)\u001b[0m\n\u001b[1;32m    123\u001b[0m \u001b[38;5;28;01mtry\u001b[39;00m:\n\u001b[1;32m    124\u001b[0m     \u001b[38;5;28;01mwith\u001b[39;00m os\u001b[38;5;241m.\u001b[39mscandir(dirname) \u001b[38;5;28;01mas\u001b[39;00m it:\n\u001b[0;32m--> 125\u001b[0m         \u001b[38;5;28;01mfor\u001b[39;00m entry \u001b[38;5;129;01min\u001b[39;00m it:\n\u001b[1;32m    126\u001b[0m             \u001b[38;5;28;01mtry\u001b[39;00m:\n\u001b[1;32m    127\u001b[0m                 \u001b[38;5;28;01mif\u001b[39;00m \u001b[38;5;129;01mnot\u001b[39;00m dironly \u001b[38;5;129;01mor\u001b[39;00m entry\u001b[38;5;241m.\u001b[39mis_dir():\n",
      "\u001b[0;31mKeyboardInterrupt\u001b[0m: "
     ]
    }
   ],
   "source": [
    "# Cancer cohort files\n",
    "start_time  = timeit.default_timer()\n",
    "cohort_cancer = glob.glob(os.path.join(base_cancer, 'cohort_mutNone/tmp_out_ref_batch_*', interm_cancer_cohort))\n",
    "time_res = timeit.default_timer() - start_time \n",
    "print(time_res)"
   ]
  },
  {
   "cell_type": "code",
   "execution_count": 320,
   "id": "90289bfe",
   "metadata": {
    "collapsed": true
   },
   "outputs": [
    {
     "ename": "KeyboardInterrupt",
     "evalue": "",
     "output_type": "error",
     "traceback": [
      "\u001b[0;31m---------------------------------------------------------------------------\u001b[0m",
      "\u001b[0;31mKeyboardInterrupt\u001b[0m                         Traceback (most recent call last)",
      "Cell \u001b[0;32mIn [320], line 2\u001b[0m\n\u001b[1;32m      1\u001b[0m \u001b[38;5;66;03m# Cancer all raw files\u001b[39;00m\n\u001b[0;32m----> 2\u001b[0m path_cohort \u001b[38;5;241m=\u001b[39m \u001b[43mglob\u001b[49m\u001b[38;5;241;43m.\u001b[39;49m\u001b[43mglob\u001b[49m\u001b[43m(\u001b[49m\u001b[43mos\u001b[49m\u001b[38;5;241;43m.\u001b[39;49m\u001b[43mpath\u001b[49m\u001b[38;5;241;43m.\u001b[39;49m\u001b[43mjoin\u001b[49m\u001b[43m(\u001b[49m\u001b[43mbase_cancer\u001b[49m\u001b[43m,\u001b[49m\u001b[43m \u001b[49m\u001b[38;5;124;43m'\u001b[39;49m\u001b[38;5;124;43mcohort_mutNone/tmp_out_ref_batch_*\u001b[39;49m\u001b[38;5;124;43m'\u001b[39;49m\u001b[43m)\u001b[49m\u001b[43m)\u001b[49m\n",
      "File \u001b[0;32m/cluster/customapps/biomed/grlab/users/prelotla/software/miniconda/envs/pep3/lib/python3.9/glob.py:22\u001b[0m, in \u001b[0;36mglob\u001b[0;34m(pathname, recursive)\u001b[0m\n\u001b[1;32m     11\u001b[0m \u001b[38;5;28;01mdef\u001b[39;00m \u001b[38;5;21mglob\u001b[39m(pathname, \u001b[38;5;241m*\u001b[39m, recursive\u001b[38;5;241m=\u001b[39m\u001b[38;5;28;01mFalse\u001b[39;00m):\n\u001b[1;32m     12\u001b[0m     \u001b[38;5;124;03m\"\"\"Return a list of paths matching a pathname pattern.\u001b[39;00m\n\u001b[1;32m     13\u001b[0m \n\u001b[1;32m     14\u001b[0m \u001b[38;5;124;03m    The pattern may contain simple shell-style wildcards a la\u001b[39;00m\n\u001b[0;32m   (...)\u001b[0m\n\u001b[1;32m     20\u001b[0m \u001b[38;5;124;03m    zero or more directories and subdirectories.\u001b[39;00m\n\u001b[1;32m     21\u001b[0m \u001b[38;5;124;03m    \"\"\"\u001b[39;00m\n\u001b[0;32m---> 22\u001b[0m     \u001b[38;5;28;01mreturn\u001b[39;00m \u001b[38;5;28;43mlist\u001b[39;49m\u001b[43m(\u001b[49m\u001b[43miglob\u001b[49m\u001b[43m(\u001b[49m\u001b[43mpathname\u001b[49m\u001b[43m,\u001b[49m\u001b[43m \u001b[49m\u001b[43mrecursive\u001b[49m\u001b[38;5;241;43m=\u001b[39;49m\u001b[43mrecursive\u001b[49m\u001b[43m)\u001b[49m\u001b[43m)\u001b[49m\n",
      "File \u001b[0;32m/cluster/customapps/biomed/grlab/users/prelotla/software/miniconda/envs/pep3/lib/python3.9/glob.py:75\u001b[0m, in \u001b[0;36m_iglob\u001b[0;34m(pathname, recursive, dironly)\u001b[0m\n\u001b[1;32m     73\u001b[0m     glob_in_dir \u001b[38;5;241m=\u001b[39m _glob0\n\u001b[1;32m     74\u001b[0m \u001b[38;5;28;01mfor\u001b[39;00m dirname \u001b[38;5;129;01min\u001b[39;00m dirs:\n\u001b[0;32m---> 75\u001b[0m     \u001b[38;5;28;01mfor\u001b[39;00m name \u001b[38;5;129;01min\u001b[39;00m \u001b[43mglob_in_dir\u001b[49m\u001b[43m(\u001b[49m\u001b[43mdirname\u001b[49m\u001b[43m,\u001b[49m\u001b[43m \u001b[49m\u001b[43mbasename\u001b[49m\u001b[43m,\u001b[49m\u001b[43m \u001b[49m\u001b[43mdironly\u001b[49m\u001b[43m)\u001b[49m:\n\u001b[1;32m     76\u001b[0m         \u001b[38;5;28;01myield\u001b[39;00m os\u001b[38;5;241m.\u001b[39mpath\u001b[38;5;241m.\u001b[39mjoin(dirname, name)\n",
      "File \u001b[0;32m/cluster/customapps/biomed/grlab/users/prelotla/software/miniconda/envs/pep3/lib/python3.9/glob.py:83\u001b[0m, in \u001b[0;36m_glob1\u001b[0;34m(dirname, pattern, dironly)\u001b[0m\n\u001b[1;32m     82\u001b[0m \u001b[38;5;28;01mdef\u001b[39;00m \u001b[38;5;21m_glob1\u001b[39m(dirname, pattern, dironly):\n\u001b[0;32m---> 83\u001b[0m     names \u001b[38;5;241m=\u001b[39m \u001b[43m_listdir\u001b[49m\u001b[43m(\u001b[49m\u001b[43mdirname\u001b[49m\u001b[43m,\u001b[49m\u001b[43m \u001b[49m\u001b[43mdironly\u001b[49m\u001b[43m)\u001b[49m\n\u001b[1;32m     84\u001b[0m     \u001b[38;5;28;01mif\u001b[39;00m \u001b[38;5;129;01mnot\u001b[39;00m _ishidden(pattern):\n\u001b[1;32m     85\u001b[0m         names \u001b[38;5;241m=\u001b[39m (x \u001b[38;5;28;01mfor\u001b[39;00m x \u001b[38;5;129;01min\u001b[39;00m names \u001b[38;5;28;01mif\u001b[39;00m \u001b[38;5;129;01mnot\u001b[39;00m _ishidden(x))\n",
      "File \u001b[0;32m/cluster/customapps/biomed/grlab/users/prelotla/software/miniconda/envs/pep3/lib/python3.9/glob.py:136\u001b[0m, in \u001b[0;36m_listdir\u001b[0;34m(dirname, dironly)\u001b[0m\n\u001b[1;32m    134\u001b[0m \u001b[38;5;28;01mdef\u001b[39;00m \u001b[38;5;21m_listdir\u001b[39m(dirname, dironly):\n\u001b[1;32m    135\u001b[0m     \u001b[38;5;28;01mwith\u001b[39;00m contextlib\u001b[38;5;241m.\u001b[39mclosing(_iterdir(dirname, dironly)) \u001b[38;5;28;01mas\u001b[39;00m it:\n\u001b[0;32m--> 136\u001b[0m         \u001b[38;5;28;01mreturn\u001b[39;00m \u001b[38;5;28;43mlist\u001b[39;49m\u001b[43m(\u001b[49m\u001b[43mit\u001b[49m\u001b[43m)\u001b[49m\n",
      "File \u001b[0;32m/cluster/customapps/biomed/grlab/users/prelotla/software/miniconda/envs/pep3/lib/python3.9/glob.py:125\u001b[0m, in \u001b[0;36m_iterdir\u001b[0;34m(dirname, dironly)\u001b[0m\n\u001b[1;32m    123\u001b[0m \u001b[38;5;28;01mtry\u001b[39;00m:\n\u001b[1;32m    124\u001b[0m     \u001b[38;5;28;01mwith\u001b[39;00m os\u001b[38;5;241m.\u001b[39mscandir(dirname) \u001b[38;5;28;01mas\u001b[39;00m it:\n\u001b[0;32m--> 125\u001b[0m         \u001b[38;5;28;01mfor\u001b[39;00m entry \u001b[38;5;129;01min\u001b[39;00m it:\n\u001b[1;32m    126\u001b[0m             \u001b[38;5;28;01mtry\u001b[39;00m:\n\u001b[1;32m    127\u001b[0m                 \u001b[38;5;28;01mif\u001b[39;00m \u001b[38;5;129;01mnot\u001b[39;00m dironly \u001b[38;5;129;01mor\u001b[39;00m entry\u001b[38;5;241m.\u001b[39mis_dir():\n",
      "\u001b[0;31mKeyboardInterrupt\u001b[0m: "
     ]
    }
   ],
   "source": [
    "# Cancer all raw files\n",
    "start_time  = timeit.default_timer()\n",
    "path_cohort = glob.glob(os.path.join(base_cancer, 'cohort_mutNone/tmp_out_ref_batch_*'))\n",
    "time_res = timeit.default_timer() - start_time \n",
    "print(time_res)"
   ]
  },
  {
   "cell_type": "code",
   "execution_count": 321,
   "id": "4c982770",
   "metadata": {
    "collapsed": true
   },
   "outputs": [
    {
     "ename": "KeyboardInterrupt",
     "evalue": "",
     "output_type": "error",
     "traceback": [
      "\u001b[0;31m---------------------------------------------------------------------------\u001b[0m",
      "\u001b[0;31mFileNotFoundError\u001b[0m                         Traceback (most recent call last)",
      "File \u001b[0;32m/cluster/customapps/biomed/grlab/users/prelotla/software/miniconda/envs/pep3/lib/python3.9/posixpath.py:177\u001b[0m, in \u001b[0;36mlexists\u001b[0;34m(path)\u001b[0m\n\u001b[1;32m    176\u001b[0m \u001b[38;5;28;01mtry\u001b[39;00m:\n\u001b[0;32m--> 177\u001b[0m     \u001b[43mos\u001b[49m\u001b[38;5;241;43m.\u001b[39;49m\u001b[43mlstat\u001b[49m\u001b[43m(\u001b[49m\u001b[43mpath\u001b[49m\u001b[43m)\u001b[49m\n\u001b[1;32m    178\u001b[0m \u001b[38;5;28;01mexcept\u001b[39;00m (\u001b[38;5;167;01mOSError\u001b[39;00m, \u001b[38;5;167;01mValueError\u001b[39;00m):\n",
      "\u001b[0;31mFileNotFoundError\u001b[0m: [Errno 2] No such file or directory: '/cluster/work/grlab/projects/projects2020_OHSU/peptides_generation/GTEX2019_eth/GTEX2019_c4dd02c_conf2_RFall_ref/cohort_mutNone/tmp_out_ref_batch_55499/ref_graph_kmer_normalized_filtered_10-21overlap_.gz'",
      "\nDuring handling of the above exception, another exception occurred:\n",
      "\u001b[0;31mKeyboardInterrupt\u001b[0m                         Traceback (most recent call last)",
      "Cell \u001b[0;32mIn [321], line 3\u001b[0m\n\u001b[1;32m      1\u001b[0m \u001b[38;5;66;03m# GTEX cohort files \u001b[39;00m\n\u001b[1;32m      2\u001b[0m start_time  \u001b[38;5;241m=\u001b[39m timeit\u001b[38;5;241m.\u001b[39mdefault_timer()\n\u001b[0;32m----> 3\u001b[0m cohort_gtex \u001b[38;5;241m=\u001b[39m \u001b[43mglob\u001b[49m\u001b[38;5;241;43m.\u001b[39;49m\u001b[43mglob\u001b[49m\u001b[43m(\u001b[49m\u001b[43mos\u001b[49m\u001b[38;5;241;43m.\u001b[39;49m\u001b[43mpath\u001b[49m\u001b[38;5;241;43m.\u001b[39;49m\u001b[43mjoin\u001b[49m\u001b[43m(\u001b[49m\u001b[43mbase_gtex\u001b[49m\u001b[43m,\u001b[49m\u001b[38;5;124;43m'\u001b[39;49m\u001b[38;5;124;43mcohort_mutNone/tmp_out_ref_batch_*\u001b[39;49m\u001b[38;5;124;43m'\u001b[39;49m\u001b[43m,\u001b[49m\u001b[43m \u001b[49m\u001b[43minterm_gtex_cohort\u001b[49m\u001b[43m)\u001b[49m\u001b[43m)\u001b[49m \u001b[38;5;66;03m#path_gtex_cohort\u001b[39;00m\n\u001b[1;32m      4\u001b[0m time_res \u001b[38;5;241m=\u001b[39m timeit\u001b[38;5;241m.\u001b[39mdefault_timer() \u001b[38;5;241m-\u001b[39m start_time \n\u001b[1;32m      5\u001b[0m \u001b[38;5;28mprint\u001b[39m(time_res)\n",
      "File \u001b[0;32m/cluster/customapps/biomed/grlab/users/prelotla/software/miniconda/envs/pep3/lib/python3.9/glob.py:22\u001b[0m, in \u001b[0;36mglob\u001b[0;34m(pathname, recursive)\u001b[0m\n\u001b[1;32m     11\u001b[0m \u001b[38;5;28;01mdef\u001b[39;00m \u001b[38;5;21mglob\u001b[39m(pathname, \u001b[38;5;241m*\u001b[39m, recursive\u001b[38;5;241m=\u001b[39m\u001b[38;5;28;01mFalse\u001b[39;00m):\n\u001b[1;32m     12\u001b[0m     \u001b[38;5;124;03m\"\"\"Return a list of paths matching a pathname pattern.\u001b[39;00m\n\u001b[1;32m     13\u001b[0m \n\u001b[1;32m     14\u001b[0m \u001b[38;5;124;03m    The pattern may contain simple shell-style wildcards a la\u001b[39;00m\n\u001b[0;32m   (...)\u001b[0m\n\u001b[1;32m     20\u001b[0m \u001b[38;5;124;03m    zero or more directories and subdirectories.\u001b[39;00m\n\u001b[1;32m     21\u001b[0m \u001b[38;5;124;03m    \"\"\"\u001b[39;00m\n\u001b[0;32m---> 22\u001b[0m     \u001b[38;5;28;01mreturn\u001b[39;00m \u001b[38;5;28;43mlist\u001b[39;49m\u001b[43m(\u001b[49m\u001b[43miglob\u001b[49m\u001b[43m(\u001b[49m\u001b[43mpathname\u001b[49m\u001b[43m,\u001b[49m\u001b[43m \u001b[49m\u001b[43mrecursive\u001b[49m\u001b[38;5;241;43m=\u001b[39;49m\u001b[43mrecursive\u001b[49m\u001b[43m)\u001b[49m\u001b[43m)\u001b[49m\n",
      "File \u001b[0;32m/cluster/customapps/biomed/grlab/users/prelotla/software/miniconda/envs/pep3/lib/python3.9/glob.py:75\u001b[0m, in \u001b[0;36m_iglob\u001b[0;34m(pathname, recursive, dironly)\u001b[0m\n\u001b[1;32m     73\u001b[0m     glob_in_dir \u001b[38;5;241m=\u001b[39m _glob0\n\u001b[1;32m     74\u001b[0m \u001b[38;5;28;01mfor\u001b[39;00m dirname \u001b[38;5;129;01min\u001b[39;00m dirs:\n\u001b[0;32m---> 75\u001b[0m     \u001b[38;5;28;01mfor\u001b[39;00m name \u001b[38;5;129;01min\u001b[39;00m \u001b[43mglob_in_dir\u001b[49m\u001b[43m(\u001b[49m\u001b[43mdirname\u001b[49m\u001b[43m,\u001b[49m\u001b[43m \u001b[49m\u001b[43mbasename\u001b[49m\u001b[43m,\u001b[49m\u001b[43m \u001b[49m\u001b[43mdironly\u001b[49m\u001b[43m)\u001b[49m:\n\u001b[1;32m     76\u001b[0m         \u001b[38;5;28;01myield\u001b[39;00m os\u001b[38;5;241m.\u001b[39mpath\u001b[38;5;241m.\u001b[39mjoin(dirname, name)\n",
      "File \u001b[0;32m/cluster/customapps/biomed/grlab/users/prelotla/software/miniconda/envs/pep3/lib/python3.9/glob.py:95\u001b[0m, in \u001b[0;36m_glob0\u001b[0;34m(dirname, basename, dironly)\u001b[0m\n\u001b[1;32m     93\u001b[0m         \u001b[38;5;28;01mreturn\u001b[39;00m [basename]\n\u001b[1;32m     94\u001b[0m \u001b[38;5;28;01melse\u001b[39;00m:\n\u001b[0;32m---> 95\u001b[0m     \u001b[38;5;28;01mif\u001b[39;00m \u001b[43mos\u001b[49m\u001b[38;5;241;43m.\u001b[39;49m\u001b[43mpath\u001b[49m\u001b[38;5;241;43m.\u001b[39;49m\u001b[43mlexists\u001b[49m\u001b[43m(\u001b[49m\u001b[43mos\u001b[49m\u001b[38;5;241;43m.\u001b[39;49m\u001b[43mpath\u001b[49m\u001b[38;5;241;43m.\u001b[39;49m\u001b[43mjoin\u001b[49m\u001b[43m(\u001b[49m\u001b[43mdirname\u001b[49m\u001b[43m,\u001b[49m\u001b[43m \u001b[49m\u001b[43mbasename\u001b[49m\u001b[43m)\u001b[49m\u001b[43m)\u001b[49m:\n\u001b[1;32m     96\u001b[0m         \u001b[38;5;28;01mreturn\u001b[39;00m [basename]\n\u001b[1;32m     97\u001b[0m \u001b[38;5;28;01mreturn\u001b[39;00m []\n",
      "File \u001b[0;32m/cluster/customapps/biomed/grlab/users/prelotla/software/miniconda/envs/pep3/lib/python3.9/posixpath.py:177\u001b[0m, in \u001b[0;36mlexists\u001b[0;34m(path)\u001b[0m\n\u001b[1;32m    175\u001b[0m \u001b[38;5;124;03m\"\"\"Test whether a path exists.  Returns True for broken symbolic links\"\"\"\u001b[39;00m\n\u001b[1;32m    176\u001b[0m \u001b[38;5;28;01mtry\u001b[39;00m:\n\u001b[0;32m--> 177\u001b[0m     \u001b[43mos\u001b[49m\u001b[38;5;241;43m.\u001b[39;49m\u001b[43mlstat\u001b[49m\u001b[43m(\u001b[49m\u001b[43mpath\u001b[49m\u001b[43m)\u001b[49m\n\u001b[1;32m    178\u001b[0m \u001b[38;5;28;01mexcept\u001b[39;00m (\u001b[38;5;167;01mOSError\u001b[39;00m, \u001b[38;5;167;01mValueError\u001b[39;00m):\n\u001b[1;32m    179\u001b[0m     \u001b[38;5;28;01mreturn\u001b[39;00m \u001b[38;5;28;01mFalse\u001b[39;00m\n",
      "\u001b[0;31mKeyboardInterrupt\u001b[0m: "
     ]
    }
   ],
   "source": [
    "# GTEX cohort files \n",
    "start_time  = timeit.default_timer()\n",
    "cohort_gtex = glob.glob(os.path.join(base_gtex,'cohort_mutNone/tmp_out_ref_batch_*', interm_gtex_cohort)) #path_gtex_cohort\n",
    "time_res = timeit.default_timer() - start_time \n",
    "print(time_res)"
   ]
  },
  {
   "cell_type": "code",
   "execution_count": 322,
   "id": "1ee54e00",
   "metadata": {
    "collapsed": true
   },
   "outputs": [
    {
     "ename": "KeyboardInterrupt",
     "evalue": "",
     "output_type": "error",
     "traceback": [
      "\u001b[0;31m---------------------------------------------------------------------------\u001b[0m",
      "\u001b[0;31mKeyboardInterrupt\u001b[0m                         Traceback (most recent call last)",
      "Cell \u001b[0;32mIn [322], line 3\u001b[0m\n\u001b[1;32m      1\u001b[0m \u001b[38;5;66;03m# Annot\u001b[39;00m\n\u001b[1;32m      2\u001b[0m start_time  \u001b[38;5;241m=\u001b[39m timeit\u001b[38;5;241m.\u001b[39mdefault_timer()\n\u001b[0;32m----> 3\u001b[0m annot_cancer \u001b[38;5;241m=\u001b[39m \u001b[43mglob\u001b[49m\u001b[38;5;241;43m.\u001b[39;49m\u001b[43mglob\u001b[49m\u001b[43m(\u001b[49m\u001b[43mos\u001b[49m\u001b[38;5;241;43m.\u001b[39;49m\u001b[43mpath\u001b[49m\u001b[38;5;241;43m.\u001b[39;49m\u001b[43mjoin\u001b[49m\u001b[43m(\u001b[49m\u001b[43mbase_cancer\u001b[49m\u001b[43m,\u001b[49m\u001b[43m \u001b[49m\u001b[38;5;124;43m'\u001b[39;49m\u001b[38;5;124;43mcohort_mutNone/tmp_out_ref_batch_*/ref_annot_kmer.gz\u001b[39;49m\u001b[38;5;124;43m'\u001b[39;49m\u001b[43m)\u001b[49m\u001b[43m)\u001b[49m\n\u001b[1;32m      4\u001b[0m time_res \u001b[38;5;241m=\u001b[39m timeit\u001b[38;5;241m.\u001b[39mdefault_timer() \u001b[38;5;241m-\u001b[39m start_time \n\u001b[1;32m      5\u001b[0m \u001b[38;5;28mprint\u001b[39m(time_res)\n",
      "File \u001b[0;32m/cluster/customapps/biomed/grlab/users/prelotla/software/miniconda/envs/pep3/lib/python3.9/glob.py:22\u001b[0m, in \u001b[0;36mglob\u001b[0;34m(pathname, recursive)\u001b[0m\n\u001b[1;32m     11\u001b[0m \u001b[38;5;28;01mdef\u001b[39;00m \u001b[38;5;21mglob\u001b[39m(pathname, \u001b[38;5;241m*\u001b[39m, recursive\u001b[38;5;241m=\u001b[39m\u001b[38;5;28;01mFalse\u001b[39;00m):\n\u001b[1;32m     12\u001b[0m     \u001b[38;5;124;03m\"\"\"Return a list of paths matching a pathname pattern.\u001b[39;00m\n\u001b[1;32m     13\u001b[0m \n\u001b[1;32m     14\u001b[0m \u001b[38;5;124;03m    The pattern may contain simple shell-style wildcards a la\u001b[39;00m\n\u001b[0;32m   (...)\u001b[0m\n\u001b[1;32m     20\u001b[0m \u001b[38;5;124;03m    zero or more directories and subdirectories.\u001b[39;00m\n\u001b[1;32m     21\u001b[0m \u001b[38;5;124;03m    \"\"\"\u001b[39;00m\n\u001b[0;32m---> 22\u001b[0m     \u001b[38;5;28;01mreturn\u001b[39;00m \u001b[38;5;28;43mlist\u001b[39;49m\u001b[43m(\u001b[49m\u001b[43miglob\u001b[49m\u001b[43m(\u001b[49m\u001b[43mpathname\u001b[49m\u001b[43m,\u001b[49m\u001b[43m \u001b[49m\u001b[43mrecursive\u001b[49m\u001b[38;5;241;43m=\u001b[39;49m\u001b[43mrecursive\u001b[49m\u001b[43m)\u001b[49m\u001b[43m)\u001b[49m\n",
      "File \u001b[0;32m/cluster/customapps/biomed/grlab/users/prelotla/software/miniconda/envs/pep3/lib/python3.9/glob.py:74\u001b[0m, in \u001b[0;36m_iglob\u001b[0;34m(pathname, recursive, dironly)\u001b[0m\n\u001b[1;32m     72\u001b[0m \u001b[38;5;28;01melse\u001b[39;00m:\n\u001b[1;32m     73\u001b[0m     glob_in_dir \u001b[38;5;241m=\u001b[39m _glob0\n\u001b[0;32m---> 74\u001b[0m \u001b[38;5;28;01mfor\u001b[39;00m dirname \u001b[38;5;129;01min\u001b[39;00m dirs:\n\u001b[1;32m     75\u001b[0m     \u001b[38;5;28;01mfor\u001b[39;00m name \u001b[38;5;129;01min\u001b[39;00m glob_in_dir(dirname, basename, dironly):\n\u001b[1;32m     76\u001b[0m         \u001b[38;5;28;01myield\u001b[39;00m os\u001b[38;5;241m.\u001b[39mpath\u001b[38;5;241m.\u001b[39mjoin(dirname, name)\n",
      "File \u001b[0;32m/cluster/customapps/biomed/grlab/users/prelotla/software/miniconda/envs/pep3/lib/python3.9/glob.py:75\u001b[0m, in \u001b[0;36m_iglob\u001b[0;34m(pathname, recursive, dironly)\u001b[0m\n\u001b[1;32m     73\u001b[0m     glob_in_dir \u001b[38;5;241m=\u001b[39m _glob0\n\u001b[1;32m     74\u001b[0m \u001b[38;5;28;01mfor\u001b[39;00m dirname \u001b[38;5;129;01min\u001b[39;00m dirs:\n\u001b[0;32m---> 75\u001b[0m     \u001b[38;5;28;01mfor\u001b[39;00m name \u001b[38;5;129;01min\u001b[39;00m \u001b[43mglob_in_dir\u001b[49m\u001b[43m(\u001b[49m\u001b[43mdirname\u001b[49m\u001b[43m,\u001b[49m\u001b[43m \u001b[49m\u001b[43mbasename\u001b[49m\u001b[43m,\u001b[49m\u001b[43m \u001b[49m\u001b[43mdironly\u001b[49m\u001b[43m)\u001b[49m:\n\u001b[1;32m     76\u001b[0m         \u001b[38;5;28;01myield\u001b[39;00m os\u001b[38;5;241m.\u001b[39mpath\u001b[38;5;241m.\u001b[39mjoin(dirname, name)\n",
      "File \u001b[0;32m/cluster/customapps/biomed/grlab/users/prelotla/software/miniconda/envs/pep3/lib/python3.9/glob.py:83\u001b[0m, in \u001b[0;36m_glob1\u001b[0;34m(dirname, pattern, dironly)\u001b[0m\n\u001b[1;32m     82\u001b[0m \u001b[38;5;28;01mdef\u001b[39;00m \u001b[38;5;21m_glob1\u001b[39m(dirname, pattern, dironly):\n\u001b[0;32m---> 83\u001b[0m     names \u001b[38;5;241m=\u001b[39m \u001b[43m_listdir\u001b[49m\u001b[43m(\u001b[49m\u001b[43mdirname\u001b[49m\u001b[43m,\u001b[49m\u001b[43m \u001b[49m\u001b[43mdironly\u001b[49m\u001b[43m)\u001b[49m\n\u001b[1;32m     84\u001b[0m     \u001b[38;5;28;01mif\u001b[39;00m \u001b[38;5;129;01mnot\u001b[39;00m _ishidden(pattern):\n\u001b[1;32m     85\u001b[0m         names \u001b[38;5;241m=\u001b[39m (x \u001b[38;5;28;01mfor\u001b[39;00m x \u001b[38;5;129;01min\u001b[39;00m names \u001b[38;5;28;01mif\u001b[39;00m \u001b[38;5;129;01mnot\u001b[39;00m _ishidden(x))\n",
      "File \u001b[0;32m/cluster/customapps/biomed/grlab/users/prelotla/software/miniconda/envs/pep3/lib/python3.9/glob.py:136\u001b[0m, in \u001b[0;36m_listdir\u001b[0;34m(dirname, dironly)\u001b[0m\n\u001b[1;32m    134\u001b[0m \u001b[38;5;28;01mdef\u001b[39;00m \u001b[38;5;21m_listdir\u001b[39m(dirname, dironly):\n\u001b[1;32m    135\u001b[0m     \u001b[38;5;28;01mwith\u001b[39;00m contextlib\u001b[38;5;241m.\u001b[39mclosing(_iterdir(dirname, dironly)) \u001b[38;5;28;01mas\u001b[39;00m it:\n\u001b[0;32m--> 136\u001b[0m         \u001b[38;5;28;01mreturn\u001b[39;00m \u001b[38;5;28;43mlist\u001b[39;49m\u001b[43m(\u001b[49m\u001b[43mit\u001b[49m\u001b[43m)\u001b[49m\n",
      "File \u001b[0;32m/cluster/customapps/biomed/grlab/users/prelotla/software/miniconda/envs/pep3/lib/python3.9/glob.py:125\u001b[0m, in \u001b[0;36m_iterdir\u001b[0;34m(dirname, dironly)\u001b[0m\n\u001b[1;32m    123\u001b[0m \u001b[38;5;28;01mtry\u001b[39;00m:\n\u001b[1;32m    124\u001b[0m     \u001b[38;5;28;01mwith\u001b[39;00m os\u001b[38;5;241m.\u001b[39mscandir(dirname) \u001b[38;5;28;01mas\u001b[39;00m it:\n\u001b[0;32m--> 125\u001b[0m         \u001b[38;5;28;01mfor\u001b[39;00m entry \u001b[38;5;129;01min\u001b[39;00m it:\n\u001b[1;32m    126\u001b[0m             \u001b[38;5;28;01mtry\u001b[39;00m:\n\u001b[1;32m    127\u001b[0m                 \u001b[38;5;28;01mif\u001b[39;00m \u001b[38;5;129;01mnot\u001b[39;00m dironly \u001b[38;5;129;01mor\u001b[39;00m entry\u001b[38;5;241m.\u001b[39mis_dir():\n",
      "\u001b[0;31mKeyboardInterrupt\u001b[0m: "
     ]
    }
   ],
   "source": [
    "# Annot\n",
    "start_time  = timeit.default_timer()\n",
    "annot_cancer = glob.glob(os.path.join(base_cancer, 'cohort_mutNone/tmp_out_ref_batch_*/ref_annot_kmer.gz'))\n",
    "time_res = timeit.default_timer() - start_time \n",
    "print(time_res)"
   ]
  },
  {
   "cell_type": "code",
   "execution_count": 323,
   "id": "25d30bae",
   "metadata": {},
   "outputs": [
    {
     "name": "stdout",
     "output_type": "stream",
     "text": [
      "Creating directory /cluster/work/grlab/projects/projects2020_OHSU/peptides_generation/CANCER_eth/commit_c4dd02c_conf2_Frame_cap0_runs/TCGA_Breast_1102/filtered_cancer\n"
     ]
    }
   ],
   "source": [
    "# Out directory\n",
    "outdir = os.path.join(base_cancer, 'filtered_cancer') \n",
    "Path(outdir).mkdir(parents=True, exist_ok=True)\n",
    "print(f'Creating directory {outdir}')"
   ]
  },
  {
   "cell_type": "code",
   "execution_count": 326,
   "id": "e4f1e98b",
   "metadata": {},
   "outputs": [
    {
     "name": "stdout",
     "output_type": "stream",
     "text": [
      "Creating directory /cluster/work/grlab/projects/projects2020_OHSU/peptides_generation/CANCER_eth/commit_c4dd02c_conf2_Frame_cap0_runs/TCGA_Breast_1102/filtered_cancer/TCGAC8A12P01A11RA11507all\n",
      "Creating directory /cluster/work/grlab/projects/projects2020_OHSU/peptides_generation/CANCER_eth/commit_c4dd02c_conf2_Frame_cap0_runs/TCGA_Breast_1102/filtered_cancer/TCGAAOA0JM01A21RA05607all\n",
      "Creating directory /cluster/work/grlab/projects/projects2020_OHSU/peptides_generation/CANCER_eth/commit_c4dd02c_conf2_Frame_cap0_runs/TCGA_Breast_1102/filtered_cancer/TCGABHA18V01A11RA12D07all\n",
      "Creating directory /cluster/work/grlab/projects/projects2020_OHSU/peptides_generation/CANCER_eth/commit_c4dd02c_conf2_Frame_cap0_runs/TCGA_Breast_1102/filtered_cancer/TCGAA2A0D201A21RA03407all\n",
      "Creating directory /cluster/work/grlab/projects/projects2020_OHSU/peptides_generation/CANCER_eth/commit_c4dd02c_conf2_Frame_cap0_runs/TCGA_Breast_1102/filtered_cancer/TCGAA2A0SX01A12RA08407all\n"
     ]
    }
   ],
   "source": [
    "# Sample output dir\n",
    "for target_sample in target_samples:\n",
    "    outdir_sample = os.path.join(outdir, target_sample)\n",
    "    Path(outdir).mkdir(parents=True, exist_ok=True)\n",
    "    print(f'Creating directory {outdir_sample}')"
   ]
  },
  {
   "cell_type": "markdown",
   "id": "921452ee",
   "metadata": {},
   "source": [
    "# Strategy \n",
    "- DO the cohort filtering once for cancer (AND HIDE SAMPLES.... Create 4 files)\n",
    "    - OTHER STRATEGY: Check the cohort filter in the target cancer sample AND adjust the number of samples passing the threshold depending on the targetsample!!!!\n",
    "    - ISSUE: THERE IS BOTH JUNCTION AND SEGMENT KMERS IN cancer cohort files ===> NOT NEEDED --- \n",
    "- Do the cohort filtering once for GTEX\n",
    "- Load annot + 2 cohort + sample cancer (5) => Mega table - Save TODAY MONDAY !!!!!\n",
    "- Then do the code for the filtering !!!!"
   ]
  },
  {
   "cell_type": "markdown",
   "id": "8cc541ac",
   "metadata": {},
   "source": [
    "# Create large intermediate table"
   ]
  },
  {
   "cell_type": "markdown",
   "id": "7b87f321",
   "metadata": {},
   "source": [
    "## Load"
   ]
  },
  {
   "cell_type": "code",
   "execution_count": 235,
   "id": "b5e9d796",
   "metadata": {},
   "outputs": [],
   "source": [
    "df_expr = []\n",
    "report_count = [] \n",
    "report_steps = []"
   ]
  },
  {
   "cell_type": "code",
   "execution_count": 248,
   "id": "f695c5b3",
   "metadata": {},
   "outputs": [],
   "source": [
    "# Load libsize - OK\n",
    "libsize = process_libsize(path_libsize, normalizer_libsize) "
   ]
  },
  {
   "cell_type": "code",
   "execution_count": 238,
   "id": "7ace0133",
   "metadata": {},
   "outputs": [
    {
     "name": "stdout",
     "output_type": "stream",
     "text": [
      "Processing annotation\n",
      "0.15581626794300973\n"
     ]
    }
   ],
   "source": [
    "# Load annotation - OK 12 min \n",
    "# Create a set of annotated kmers\n",
    "print('Processing annotation')\n",
    "start_time  = timeit.default_timer()\n",
    "cancer_targets_annotated = set()\n",
    "for idx, path in enumerate(annot_cancer):\n",
    "    annot = pd.read_csv(path, sep = ',') \n",
    "    annot = set(annot['kmer'])\n",
    "    cancer_targets_annotated.update(target_kmers.intersection(annot))\n",
    "time_res = timeit.default_timer() - start_time \n",
    "print(time_res)"
   ]
  },
  {
   "cell_type": "code",
   "execution_count": 239,
   "id": "3f044be0",
   "metadata": {},
   "outputs": [
    {
     "data": {
      "text/plain": [
       "1427"
      ]
     },
     "execution_count": 239,
     "metadata": {},
     "output_type": "execute_result"
    }
   ],
   "source": [
    "len(cancer_targets_annotated)"
   ]
  },
  {
   "cell_type": "code",
   "execution_count": 241,
   "id": "eba772d3",
   "metadata": {},
   "outputs": [
    {
     "name": "stdout",
     "output_type": "stream",
     "text": [
      "Reading cohort cancer\n",
      "5.0002661920152605\n"
     ]
    }
   ],
   "source": [
    "# Load cancer cohort - 19 minutes\n",
    "start_time  = timeit.default_timer()\n",
    "df_cancer_cohort = []\n",
    "print(f'Reading cohort cancer')\n",
    "for path in cohort_cancer:\n",
    "    tmp_cancer = pd.read_csv(path, sep = ',') \n",
    "    tmp_cancer = tmp_cancer.loc[tmp_cancer['isCrossJunction'] == True]\n",
    "    df_cancer_cohort.append(tmp_cancer)\n",
    "time_res = timeit.default_timer() - start_time \n",
    "print(time_res)\n"
   ]
  },
  {
   "cell_type": "code",
   "execution_count": 242,
   "id": "365cc6cd",
   "metadata": {},
   "outputs": [
    {
     "data": {
      "text/plain": [
       "99"
      ]
     },
     "execution_count": 242,
     "metadata": {},
     "output_type": "execute_result"
    }
   ],
   "source": [
    "len(df_cancer_cohort)"
   ]
  },
  {
   "cell_type": "code",
   "execution_count": 243,
   "id": "cc8723e8",
   "metadata": {},
   "outputs": [
    {
     "name": "stdout",
     "output_type": "stream",
     "text": [
      "Reading cohort gtex\n",
      "37.09079933119938\n"
     ]
    }
   ],
   "source": [
    "# Load GTEX cohort - OK \n",
    "start_time  = timeit.default_timer()\n",
    "df_gtex_cohort = []\n",
    "print(f'Reading cohort gtex')\n",
    "for idx, path in enumerate(cohort_gtex):\n",
    "    tmp_gtex = pd.read_csv(path, sep = ',')\n",
    "    tmp_kmer = set(tmp_gtex['kmer'])\n",
    "    tmp_kmer = tmp_kmer.intersection(target_kmers)\n",
    "    tmp_gtex = tmp_gtex.set_index('kmer').loc[tmp_kmer].reset_index()\n",
    "    df_gtex_cohort.append(tmp_gtex)\n",
    "time_res = timeit.default_timer() - start_time \n",
    "print(time_res)"
   ]
  },
  {
   "cell_type": "code",
   "execution_count": 244,
   "id": "eea04091",
   "metadata": {},
   "outputs": [
    {
     "data": {
      "text/plain": [
       "99"
      ]
     },
     "execution_count": 244,
     "metadata": {},
     "output_type": "execute_result"
    }
   ],
   "source": [
    "len(df_gtex_cohort)"
   ]
  },
  {
   "cell_type": "code",
   "execution_count": 289,
   "id": "c6c2ccf6",
   "metadata": {
    "scrolled": true
   },
   "outputs": [
    {
     "name": "stdout",
     "output_type": "stream",
     "text": [
      "0.35038973204791546\n"
     ]
    }
   ],
   "source": [
    "# Load cancer sample - OK 31 minutes. \n",
    "\n",
    "start_time  = timeit.default_timer()\n",
    "for idx, batch_gene in enumerate(path_cohort):\n",
    "    if os.path.exists(os.path.join(batch_gene , expr_matrix)) and \\\n",
    "       os.path.exists(os.path.join(batch_gene , 'output_sample_IS_SUCCESS')):\n",
    "        \n",
    "        partitions = glob.glob(os.path.join(batch_gene , expr_matrix) + '/*')\n",
    "        #print(os.path.join(batch_gene , expr_matrix))\n",
    "        #print(f'Number of partitions is {len(partitions)}')\n",
    "        for part in partitions:\n",
    "            kmers_sample = pd.read_csv(part, sep = '\\t', usecols = target_samples + metadata)\n",
    "            df_expr.append(kmers_sample)\n",
    "        #print(f'processed gene {idx}')\n",
    "\n",
    "\n",
    "cancer_targets = pd.concat(df_expr, axis = 0)\n",
    "\n",
    "time_res = timeit.default_timer() - start_time \n",
    "print(time_res)"
   ]
  },
  {
   "cell_type": "code",
   "execution_count": 290,
   "id": "3f2ebfcb",
   "metadata": {},
   "outputs": [],
   "source": [
    "# Normalize sample of interest \n",
    "sample_cols = target_samples \n",
    "cancer_targets = normalization(cancer_targets, sample_cols, libsize, metadata)"
   ]
  },
  {
   "cell_type": "code",
   "execution_count": 291,
   "id": "ec4f05c5",
   "metadata": {},
   "outputs": [],
   "source": [
    "# Set of target kmers\n",
    "target_kmers = set(cancer_targets['kmer'])"
   ]
  },
  {
   "cell_type": "code",
   "execution_count": 292,
   "id": "148cb006",
   "metadata": {},
   "outputs": [
    {
     "data": {
      "text/plain": [
       "70034"
      ]
     },
     "execution_count": 292,
     "metadata": {},
     "output_type": "execute_result"
    }
   ],
   "source": [
    "len(target_kmers)"
   ]
  },
  {
   "cell_type": "code",
   "execution_count": 293,
   "id": "a30b1301",
   "metadata": {
    "scrolled": true
   },
   "outputs": [
    {
     "data": {
      "text/plain": [
       "(82258, 10)"
      ]
     },
     "execution_count": 293,
     "metadata": {},
     "output_type": "execute_result"
    }
   ],
   "source": [
    "cancer_targets.shape"
   ]
  },
  {
   "cell_type": "code",
   "execution_count": 294,
   "id": "ae7897df",
   "metadata": {},
   "outputs": [
    {
     "data": {
      "text/html": [
       "<div>\n",
       "<style scoped>\n",
       "    .dataframe tbody tr th:only-of-type {\n",
       "        vertical-align: middle;\n",
       "    }\n",
       "\n",
       "    .dataframe tbody tr th {\n",
       "        vertical-align: top;\n",
       "    }\n",
       "\n",
       "    .dataframe thead th {\n",
       "        text-align: right;\n",
       "    }\n",
       "</style>\n",
       "<table border=\"1\" class=\"dataframe\">\n",
       "  <thead>\n",
       "    <tr style=\"text-align: right;\">\n",
       "      <th></th>\n",
       "      <th>kmer</th>\n",
       "      <th>coord</th>\n",
       "      <th>junctionAnnotated</th>\n",
       "      <th>readFrameAnnotated</th>\n",
       "      <th>isCrossJunction</th>\n",
       "      <th>TCGAC8A12P01A11RA11507all</th>\n",
       "      <th>TCGAAOA0JM01A21RA05607all</th>\n",
       "      <th>TCGABHA18V01A11RA12D07all</th>\n",
       "      <th>TCGAA2A0D201A21RA03407all</th>\n",
       "      <th>TCGAA2A0SX01A12RA08407all</th>\n",
       "    </tr>\n",
       "  </thead>\n",
       "  <tbody>\n",
       "    <tr>\n",
       "      <th>0</th>\n",
       "      <td>FKHLKRWSL</td>\n",
       "      <td>92379844:92379859:92387782:92387794:None:None</td>\n",
       "      <td>False</td>\n",
       "      <td>False</td>\n",
       "      <td>True</td>\n",
       "      <td>0.0</td>\n",
       "      <td>0.0</td>\n",
       "      <td>0.0</td>\n",
       "      <td>0.000000</td>\n",
       "      <td>0.0</td>\n",
       "    </tr>\n",
       "    <tr>\n",
       "      <th>1</th>\n",
       "      <td>WYITRSGIA</td>\n",
       "      <td>92347505:92347506:92349915:92349941:None:None</td>\n",
       "      <td>False</td>\n",
       "      <td>False</td>\n",
       "      <td>True</td>\n",
       "      <td>0.0</td>\n",
       "      <td>0.0</td>\n",
       "      <td>0.0</td>\n",
       "      <td>4.102634</td>\n",
       "      <td>0.0</td>\n",
       "    </tr>\n",
       "    <tr>\n",
       "      <th>2</th>\n",
       "      <td>SEFVSRHLR</td>\n",
       "      <td>92345770:92345787:92586717:92586727:None:None</td>\n",
       "      <td>False</td>\n",
       "      <td>False</td>\n",
       "      <td>True</td>\n",
       "      <td>0.0</td>\n",
       "      <td>0.0</td>\n",
       "      <td>0.0</td>\n",
       "      <td>0.000000</td>\n",
       "      <td>0.0</td>\n",
       "    </tr>\n",
       "    <tr>\n",
       "      <th>3</th>\n",
       "      <td>RWSFALVVQ</td>\n",
       "      <td>92379857:92379859:92555247:92555272:None:None</td>\n",
       "      <td>False</td>\n",
       "      <td>False</td>\n",
       "      <td>True</td>\n",
       "      <td>0.0</td>\n",
       "      <td>0.0</td>\n",
       "      <td>0.0</td>\n",
       "      <td>0.000000</td>\n",
       "      <td>0.0</td>\n",
       "    </tr>\n",
       "    <tr>\n",
       "      <th>4</th>\n",
       "      <td>VSRREKRSV</td>\n",
       "      <td>92345779:92345787:92379767:92379786:None:None</td>\n",
       "      <td>False</td>\n",
       "      <td>False</td>\n",
       "      <td>True</td>\n",
       "      <td>0.0</td>\n",
       "      <td>0.0</td>\n",
       "      <td>0.0</td>\n",
       "      <td>0.000000</td>\n",
       "      <td>0.0</td>\n",
       "    </tr>\n",
       "  </tbody>\n",
       "</table>\n",
       "</div>"
      ],
      "text/plain": [
       "        kmer                                          coord  \\\n",
       "0  FKHLKRWSL  92379844:92379859:92387782:92387794:None:None   \n",
       "1  WYITRSGIA  92347505:92347506:92349915:92349941:None:None   \n",
       "2  SEFVSRHLR  92345770:92345787:92586717:92586727:None:None   \n",
       "3  RWSFALVVQ  92379857:92379859:92555247:92555272:None:None   \n",
       "4  VSRREKRSV  92345779:92345787:92379767:92379786:None:None   \n",
       "\n",
       "   junctionAnnotated  readFrameAnnotated  isCrossJunction  \\\n",
       "0              False               False             True   \n",
       "1              False               False             True   \n",
       "2              False               False             True   \n",
       "3              False               False             True   \n",
       "4              False               False             True   \n",
       "\n",
       "   TCGAC8A12P01A11RA11507all  TCGAAOA0JM01A21RA05607all  \\\n",
       "0                        0.0                        0.0   \n",
       "1                        0.0                        0.0   \n",
       "2                        0.0                        0.0   \n",
       "3                        0.0                        0.0   \n",
       "4                        0.0                        0.0   \n",
       "\n",
       "   TCGABHA18V01A11RA12D07all  TCGAA2A0D201A21RA03407all  \\\n",
       "0                        0.0                   0.000000   \n",
       "1                        0.0                   4.102634   \n",
       "2                        0.0                   0.000000   \n",
       "3                        0.0                   0.000000   \n",
       "4                        0.0                   0.000000   \n",
       "\n",
       "   TCGAA2A0SX01A12RA08407all  \n",
       "0                        0.0  \n",
       "1                        0.0  \n",
       "2                        0.0  \n",
       "3                        0.0  \n",
       "4                        0.0  "
      ]
     },
     "execution_count": 294,
     "metadata": {},
     "output_type": "execute_result"
    }
   ],
   "source": [
    "cancer_targets.head()"
   ]
  },
  {
   "cell_type": "code",
   "execution_count": 296,
   "id": "b839edb6",
   "metadata": {
    "scrolled": true
   },
   "outputs": [],
   "source": [
    "# restrict expressed in target samples - hardcoded number of targets\n",
    "\n",
    "cancer_targets = cancer_targets.loc[(cancer_targets[target_samples[0]] > 0) | \\\n",
    "                  (cancer_targets[target_samples[1]] > 0) | \\\n",
    "                  (cancer_targets[target_samples[2]] > 0) |\\\n",
    "                  (cancer_targets[target_samples[3]] > 0) | \\\n",
    "                  (cancer_targets[target_samples[4]] > 0) ]"
   ]
  },
  {
   "cell_type": "code",
   "execution_count": 297,
   "id": "c15649db",
   "metadata": {},
   "outputs": [
    {
     "data": {
      "text/plain": [
       "(22468, 10)"
      ]
     },
     "execution_count": 297,
     "metadata": {},
     "output_type": "execute_result"
    }
   ],
   "source": [
    "cancer_targets.shape"
   ]
  },
  {
   "cell_type": "code",
   "execution_count": 299,
   "id": "26102cf4",
   "metadata": {},
   "outputs": [],
   "source": [
    "cancer_targets = cancer_targets.drop_duplicates() # drop duplicates"
   ]
  },
  {
   "cell_type": "code",
   "execution_count": 300,
   "id": "f1b9d172",
   "metadata": {},
   "outputs": [
    {
     "data": {
      "text/plain": [
       "(21264, 10)"
      ]
     },
     "execution_count": 300,
     "metadata": {},
     "output_type": "execute_result"
    }
   ],
   "source": [
    "cancer_targets.shape"
   ]
  },
  {
   "cell_type": "markdown",
   "id": "b8e7ce73",
   "metadata": {},
   "source": [
    "## Merge"
   ]
  },
  {
   "cell_type": "code",
   "execution_count": 271,
   "id": "7ede2e12",
   "metadata": {},
   "outputs": [
    {
     "data": {
      "text/plain": [
       "(21264, 10)"
      ]
     },
     "execution_count": 271,
     "metadata": {},
     "output_type": "execute_result"
    }
   ],
   "source": [
    "cancer_targets.shape"
   ]
  },
  {
   "cell_type": "code",
   "execution_count": 274,
   "id": "d78a3b99",
   "metadata": {},
   "outputs": [
    {
     "data": {
      "text/plain": [
       "1427"
      ]
     },
     "execution_count": 274,
     "metadata": {},
     "output_type": "execute_result"
    }
   ],
   "source": [
    "len(cancer_targets_annotated)"
   ]
  },
  {
   "cell_type": "code",
   "execution_count": 272,
   "id": "bc53fc4f",
   "metadata": {},
   "outputs": [
    {
     "data": {
      "text/plain": [
       "99"
      ]
     },
     "execution_count": 272,
     "metadata": {},
     "output_type": "execute_result"
    }
   ],
   "source": [
    "len(df_gtex_cohort)"
   ]
  },
  {
   "cell_type": "code",
   "execution_count": 273,
   "id": "124c3fa7",
   "metadata": {},
   "outputs": [
    {
     "data": {
      "text/plain": [
       "99"
      ]
     },
     "execution_count": 273,
     "metadata": {},
     "output_type": "execute_result"
    }
   ],
   "source": [
    "len(df_cancer_cohort)"
   ]
  },
  {
   "cell_type": "code",
   "execution_count": 277,
   "id": "8d41f41e",
   "metadata": {
    "scrolled": true
   },
   "outputs": [],
   "source": [
    "df_gtex_cohort = pd.concat(df_gtex_cohort, axis = 0)\n",
    "\n",
    "df_cancer_cohort = pd.concat(df_cancer_cohort, axis = 0)\n",
    "\n",
    "df_gtex_cohort = df_gtex_cohort.drop_duplicates()\n",
    "\n",
    "df_cancer_cohort = df_cancer_cohort.drop_duplicates()"
   ]
  },
  {
   "cell_type": "code",
   "execution_count": 303,
   "id": "9eb493e2",
   "metadata": {},
   "outputs": [
    {
     "data": {
      "text/plain": [
       "106011"
      ]
     },
     "execution_count": 303,
     "metadata": {},
     "output_type": "execute_result"
    }
   ],
   "source": [
    "len(df_gtex_cohort)"
   ]
  },
  {
   "cell_type": "code",
   "execution_count": 306,
   "id": "080bfd69",
   "metadata": {},
   "outputs": [
    {
     "data": {
      "text/plain": [
       "25203"
      ]
     },
     "execution_count": 306,
     "metadata": {},
     "output_type": "execute_result"
    }
   ],
   "source": [
    "len(df_cancer_cohort)"
   ]
  },
  {
   "cell_type": "code",
   "execution_count": 283,
   "id": "9cc9abc5",
   "metadata": {},
   "outputs": [],
   "source": [
    "# cohorts\n",
    "df_gtex_cohort = df_gtex_cohort.rename({col: 'gtexCohort' + col for col in df_gtex_cohort.columns if 'filter' in col}, axis = 1)\n",
    "\n",
    "df_cancer_cohort = df_cancer_cohort.rename({col: 'cancerCohort' + col for col in df_cancer_cohort.columns if 'filter' in col}, axis = 1)"
   ]
  },
  {
   "cell_type": "code",
   "execution_count": 284,
   "id": "144326d5",
   "metadata": {},
   "outputs": [],
   "source": [
    "# annotation\n",
    "cancer_targets_annotated = pd.DataFrame(cancer_targets_annotated, columns = ['kmer'])\n",
    "\n",
    "cancer_targets_annotated['isAnnotated'] = 1"
   ]
  },
  {
   "cell_type": "code",
   "execution_count": 307,
   "id": "5200b65a",
   "metadata": {},
   "outputs": [],
   "source": [
    "# Merge annotation \n",
    "cancer_targets = cancer_targets.merge(cancer_targets_annotated, on = 'kmer', how = 'left')"
   ]
  },
  {
   "cell_type": "code",
   "execution_count": 308,
   "id": "88caed7d",
   "metadata": {},
   "outputs": [
    {
     "data": {
      "text/plain": [
       "(21264, 11)"
      ]
     },
     "execution_count": 308,
     "metadata": {},
     "output_type": "execute_result"
    }
   ],
   "source": [
    "cancer_targets.shape"
   ]
  },
  {
   "cell_type": "code",
   "execution_count": 309,
   "id": "fc2eba78",
   "metadata": {},
   "outputs": [],
   "source": [
    "# Merge cancer on coord and kmer col\n",
    "cancer_targets1 = df_cancer_cohort.loc[:, ['kmer', 'coord'] + \\\n",
    "                     [col for col in df_cancer_cohort.columns \\\n",
    "                      if 'filter' in col]].merge(cancer_targets , on = metadata, how = 'right')"
   ]
  },
  {
   "cell_type": "code",
   "execution_count": 310,
   "id": "87f9a450",
   "metadata": {},
   "outputs": [
    {
     "data": {
      "text/plain": [
       "(21904, 17)"
      ]
     },
     "execution_count": 310,
     "metadata": {},
     "output_type": "execute_result"
    }
   ],
   "source": [
    "cancer_targets1.shape"
   ]
  },
  {
   "cell_type": "code",
   "execution_count": null,
   "id": "bec8c443",
   "metadata": {},
   "outputs": [],
   "source": [
    "#TODO!!!!!! POTENTIAL BLOW UP !!!!!"
   ]
  },
  {
   "cell_type": "code",
   "execution_count": 311,
   "id": "2b5de5ca",
   "metadata": {
    "scrolled": true
   },
   "outputs": [],
   "source": [
    "# Merge normals on kmer col\n",
    "cancer_targets2 = df_gtex_cohort.loc[:, ['kmer'] + \\\n",
    "                     [col for col in df_gtex_cohort.columns \\\n",
    "                      if 'filter' in col]].merge(cancer_targets1 , on = ['kmer'] , how = 'right')"
   ]
  },
  {
   "cell_type": "code",
   "execution_count": 312,
   "id": "a2115ffd",
   "metadata": {
    "scrolled": false
   },
   "outputs": [
    {
     "data": {
      "text/html": [
       "<div>\n",
       "<style scoped>\n",
       "    .dataframe tbody tr th:only-of-type {\n",
       "        vertical-align: middle;\n",
       "    }\n",
       "\n",
       "    .dataframe tbody tr th {\n",
       "        vertical-align: top;\n",
       "    }\n",
       "\n",
       "    .dataframe thead th {\n",
       "        text-align: right;\n",
       "    }\n",
       "</style>\n",
       "<table border=\"1\" class=\"dataframe\">\n",
       "  <thead>\n",
       "    <tr style=\"text-align: right;\">\n",
       "      <th></th>\n",
       "      <th>kmer</th>\n",
       "      <th>gtexCohortfilter &gt;0.0</th>\n",
       "      <th>gtexCohortfilter &gt;=1.0</th>\n",
       "      <th>gtexCohortfilter &gt;=2.0</th>\n",
       "      <th>gtexCohortfilter &gt;=3.0</th>\n",
       "      <th>gtexCohortfilter &gt;=5.0</th>\n",
       "      <th>gtexCohortfilter &gt;=10.0</th>\n",
       "      <th>coord</th>\n",
       "      <th>cancerCohortfilter &gt;0.0</th>\n",
       "      <th>cancerCohortfilter &gt;=1.0</th>\n",
       "      <th>...</th>\n",
       "      <th>cancerCohortfilter &gt;=10.0</th>\n",
       "      <th>junctionAnnotated</th>\n",
       "      <th>readFrameAnnotated</th>\n",
       "      <th>isCrossJunction</th>\n",
       "      <th>TCGAC8A12P01A11RA11507all</th>\n",
       "      <th>TCGAAOA0JM01A21RA05607all</th>\n",
       "      <th>TCGABHA18V01A11RA12D07all</th>\n",
       "      <th>TCGAA2A0D201A21RA03407all</th>\n",
       "      <th>TCGAA2A0SX01A12RA08407all</th>\n",
       "      <th>isAnnotated</th>\n",
       "    </tr>\n",
       "  </thead>\n",
       "  <tbody>\n",
       "    <tr>\n",
       "      <th>0</th>\n",
       "      <td>WYITRSGIA</td>\n",
       "      <td>3290.0</td>\n",
       "      <td>1969.0</td>\n",
       "      <td>861.0</td>\n",
       "      <td>394.0</td>\n",
       "      <td>89.0</td>\n",
       "      <td>4.0</td>\n",
       "      <td>92347505:92347506:92349915:92349941:None:None</td>\n",
       "      <td>NaN</td>\n",
       "      <td>NaN</td>\n",
       "      <td>...</td>\n",
       "      <td>NaN</td>\n",
       "      <td>False</td>\n",
       "      <td>False</td>\n",
       "      <td>True</td>\n",
       "      <td>0.000000</td>\n",
       "      <td>0.000000</td>\n",
       "      <td>0.000000</td>\n",
       "      <td>4.102634</td>\n",
       "      <td>0.0</td>\n",
       "      <td>NaN</td>\n",
       "    </tr>\n",
       "    <tr>\n",
       "      <th>1</th>\n",
       "      <td>WYITRSGIA</td>\n",
       "      <td>572.0</td>\n",
       "      <td>545.0</td>\n",
       "      <td>243.0</td>\n",
       "      <td>130.0</td>\n",
       "      <td>27.0</td>\n",
       "      <td>2.0</td>\n",
       "      <td>92347505:92347506:92349915:92349941:None:None</td>\n",
       "      <td>NaN</td>\n",
       "      <td>NaN</td>\n",
       "      <td>...</td>\n",
       "      <td>NaN</td>\n",
       "      <td>False</td>\n",
       "      <td>False</td>\n",
       "      <td>True</td>\n",
       "      <td>0.000000</td>\n",
       "      <td>0.000000</td>\n",
       "      <td>0.000000</td>\n",
       "      <td>4.102634</td>\n",
       "      <td>0.0</td>\n",
       "      <td>NaN</td>\n",
       "    </tr>\n",
       "    <tr>\n",
       "      <th>2</th>\n",
       "      <td>ISSQSRVEK</td>\n",
       "      <td>278.0</td>\n",
       "      <td>261.0</td>\n",
       "      <td>82.0</td>\n",
       "      <td>29.0</td>\n",
       "      <td>7.0</td>\n",
       "      <td>0.0</td>\n",
       "      <td>92379851:92379859:92493866:92493885:None:None</td>\n",
       "      <td>NaN</td>\n",
       "      <td>NaN</td>\n",
       "      <td>...</td>\n",
       "      <td>NaN</td>\n",
       "      <td>False</td>\n",
       "      <td>False</td>\n",
       "      <td>True</td>\n",
       "      <td>0.000000</td>\n",
       "      <td>0.000000</td>\n",
       "      <td>2.474321</td>\n",
       "      <td>0.000000</td>\n",
       "      <td>0.0</td>\n",
       "      <td>NaN</td>\n",
       "    </tr>\n",
       "    <tr>\n",
       "      <th>3</th>\n",
       "      <td>RSGDEEKYP</td>\n",
       "      <td>7350.0</td>\n",
       "      <td>4622.0</td>\n",
       "      <td>2653.0</td>\n",
       "      <td>1745.0</td>\n",
       "      <td>1126.0</td>\n",
       "      <td>734.0</td>\n",
       "      <td>92600493:92600508:92611313:92611325:None:None</td>\n",
       "      <td>NaN</td>\n",
       "      <td>NaN</td>\n",
       "      <td>...</td>\n",
       "      <td>NaN</td>\n",
       "      <td>True</td>\n",
       "      <td>True</td>\n",
       "      <td>True</td>\n",
       "      <td>2.922641</td>\n",
       "      <td>2.102386</td>\n",
       "      <td>1.237161</td>\n",
       "      <td>0.000000</td>\n",
       "      <td>0.0</td>\n",
       "      <td>1.0</td>\n",
       "    </tr>\n",
       "    <tr>\n",
       "      <th>4</th>\n",
       "      <td>HLKMKMFQI</td>\n",
       "      <td>146.0</td>\n",
       "      <td>136.0</td>\n",
       "      <td>42.0</td>\n",
       "      <td>20.0</td>\n",
       "      <td>3.0</td>\n",
       "      <td>1.0</td>\n",
       "      <td>92379850:92379859:92496416:92496434:None:None</td>\n",
       "      <td>NaN</td>\n",
       "      <td>NaN</td>\n",
       "      <td>...</td>\n",
       "      <td>NaN</td>\n",
       "      <td>False</td>\n",
       "      <td>False</td>\n",
       "      <td>True</td>\n",
       "      <td>2.922641</td>\n",
       "      <td>0.000000</td>\n",
       "      <td>0.000000</td>\n",
       "      <td>0.000000</td>\n",
       "      <td>0.0</td>\n",
       "      <td>NaN</td>\n",
       "    </tr>\n",
       "  </tbody>\n",
       "</table>\n",
       "<p>5 rows × 23 columns</p>\n",
       "</div>"
      ],
      "text/plain": [
       "        kmer  gtexCohortfilter >0.0  gtexCohortfilter >=1.0  \\\n",
       "0  WYITRSGIA                 3290.0                  1969.0   \n",
       "1  WYITRSGIA                  572.0                   545.0   \n",
       "2  ISSQSRVEK                  278.0                   261.0   \n",
       "3  RSGDEEKYP                 7350.0                  4622.0   \n",
       "4  HLKMKMFQI                  146.0                   136.0   \n",
       "\n",
       "   gtexCohortfilter >=2.0  gtexCohortfilter >=3.0  gtexCohortfilter >=5.0  \\\n",
       "0                   861.0                   394.0                    89.0   \n",
       "1                   243.0                   130.0                    27.0   \n",
       "2                    82.0                    29.0                     7.0   \n",
       "3                  2653.0                  1745.0                  1126.0   \n",
       "4                    42.0                    20.0                     3.0   \n",
       "\n",
       "   gtexCohortfilter >=10.0                                          coord  \\\n",
       "0                      4.0  92347505:92347506:92349915:92349941:None:None   \n",
       "1                      2.0  92347505:92347506:92349915:92349941:None:None   \n",
       "2                      0.0  92379851:92379859:92493866:92493885:None:None   \n",
       "3                    734.0  92600493:92600508:92611313:92611325:None:None   \n",
       "4                      1.0  92379850:92379859:92496416:92496434:None:None   \n",
       "\n",
       "   cancerCohortfilter >0.0  cancerCohortfilter >=1.0  ...  \\\n",
       "0                      NaN                       NaN  ...   \n",
       "1                      NaN                       NaN  ...   \n",
       "2                      NaN                       NaN  ...   \n",
       "3                      NaN                       NaN  ...   \n",
       "4                      NaN                       NaN  ...   \n",
       "\n",
       "   cancerCohortfilter >=10.0  junctionAnnotated  readFrameAnnotated  \\\n",
       "0                        NaN              False               False   \n",
       "1                        NaN              False               False   \n",
       "2                        NaN              False               False   \n",
       "3                        NaN               True                True   \n",
       "4                        NaN              False               False   \n",
       "\n",
       "   isCrossJunction  TCGAC8A12P01A11RA11507all  TCGAAOA0JM01A21RA05607all  \\\n",
       "0             True                   0.000000                   0.000000   \n",
       "1             True                   0.000000                   0.000000   \n",
       "2             True                   0.000000                   0.000000   \n",
       "3             True                   2.922641                   2.102386   \n",
       "4             True                   2.922641                   0.000000   \n",
       "\n",
       "   TCGABHA18V01A11RA12D07all  TCGAA2A0D201A21RA03407all  \\\n",
       "0                   0.000000                   4.102634   \n",
       "1                   0.000000                   4.102634   \n",
       "2                   2.474321                   0.000000   \n",
       "3                   1.237161                   0.000000   \n",
       "4                   0.000000                   0.000000   \n",
       "\n",
       "   TCGAA2A0SX01A12RA08407all  isAnnotated  \n",
       "0                        0.0          NaN  \n",
       "1                        0.0          NaN  \n",
       "2                        0.0          NaN  \n",
       "3                        0.0          1.0  \n",
       "4                        0.0          NaN  \n",
       "\n",
       "[5 rows x 23 columns]"
      ]
     },
     "execution_count": 312,
     "metadata": {},
     "output_type": "execute_result"
    }
   ],
   "source": [
    "cancer_targets2.head()"
   ]
  },
  {
   "cell_type": "code",
   "execution_count": 313,
   "id": "1ce30f68",
   "metadata": {},
   "outputs": [
    {
     "data": {
      "text/plain": [
       "(49014, 23)"
      ]
     },
     "execution_count": 313,
     "metadata": {},
     "output_type": "execute_result"
    }
   ],
   "source": [
    "cancer_targets2.shape"
   ]
  },
  {
   "cell_type": "markdown",
   "id": "2cc82c59",
   "metadata": {},
   "source": [
    "# Perform the filtering"
   ]
  },
  {
   "cell_type": "code",
   "execution_count": 99,
   "id": "4e7aeb1e",
   "metadata": {},
   "outputs": [
    {
     "name": "stdout",
     "output_type": "stream",
     "text": [
      "(462, 6)\n",
      "(462, 6)\n",
      "(462, 6)\n",
      "(247, 6)\n"
     ]
    }
   ],
   "source": [
    "cancer_targets = filter_single_col(cancer_targets, 0, target_sample)\n",
    "output_count(cancer_targets, report_count, report_steps, 'Init_Sample')\n",
    "cancer_targets = filter_single_col(cancer_targets, 10, target_sample)\n",
    "output_count(cancer_targets, report_count, report_steps, 'Filter_Sample')"
   ]
  },
  {
   "cell_type": "code",
   "execution_count": null,
   "id": "a6220344",
   "metadata": {},
   "outputs": [],
   "source": [
    "def filter_normal_cohort(df, n_samples_lim_normal, cohort_expr_support_normal, tag = '' ):\n",
    "    base_reads = 0 \n",
    "    base_filter_column = f'{tag}filter > {base_reads}'\n",
    "    base_sample = 1\n",
    "    if (cohort_expr_support_normal is not None) or (cohort_expr_support_normal > 0 ):\n",
    "        filter_column = f'{tag}filter >= {cohort_expr_support_normal}'\n",
    "    else:\n",
    "        filter_column = base_filter_column\n",
    "    \n",
    "      \n",
    "    res_column = f'{tag}filter >= {cohort_expr_support_normal} in any sample and any read in {n_samples_lim_normal} '\n",
    "    df[res_column] = df.loc[(df[filter_column] >= base_sample) \\\n",
    "                            and (df[base_filter_column] >= n_samples_lim_normal)]\n",
    "\n",
    "        \n",
    "    return df\n",
    "        "
   ]
  },
  {
   "cell_type": "code",
   "execution_count": null,
   "id": "df92a711",
   "metadata": {},
   "outputs": [],
   "source": [
    "def filter_cancer_cohort(df, n_samples_lim_cancer, cohort_expr_support_cancer, tag = '' ):\n",
    "    if (cohort_expr_support_cancer is not None) or (cohort_expr_support_cancer > 0 ):\n",
    "        filter_column = f'{tag}filter >= {cohort_expr_support_cancer}'\n",
    "        res_column = f'{tag}filter >= {cohort_expr_support_cancer} in {n_samples_lim_cancer}'\n",
    "        df[res_column] = df.loc[df[filter_column] >= n_samples_lim_cancer]\n",
    "    else:\n",
    "        filter_column = f'{tag}filter > {cohort_expr_support_cancer}'\n",
    "        res_column = f'{tag}filter > {cohort_expr_support_cancer} in {n_samples_lim_cancer}'\n",
    "        df[res_column] = df.loc[df[filter_column] > n_samples_lim_cancer]\n",
    "    return df\n",
    "        \n",
    "    \n"
   ]
  },
  {
   "cell_type": "code",
   "execution_count": 77,
   "id": "707b2a06",
   "metadata": {},
   "outputs": [],
   "source": [
    "def filter_single_col(df, threshold, col):\n",
    "    print(df.shape)\n",
    "    if threshold:\n",
    "        filter_col = f'filter >={threshold}'\n",
    "        df = df.loc[df[col] >= threshold, :]\n",
    "    else:\n",
    "        filter_col = f'filter >{threshold}'\n",
    "        df = df.loc[df[col] >threshold, :]\n",
    "    print(df.shape)\n",
    "    return df"
   ]
  },
  {
   "cell_type": "code",
   "execution_count": 90,
   "id": "c2391341",
   "metadata": {},
   "outputs": [],
   "source": [
    "def output_count(df, report_count, report_step, step_string, perform_count=True):\n",
    "    '''\n",
    "    Performs a count operation on the number of kmers present in spark dataframe after a given filtering step\n",
    "    Note: This operation is expensive but useful if the user is interested in intermediate filtering steps\n",
    "    :param perform_count: bool whether to perform a count operation\n",
    "    :param df: dataframe with kmer expression counts\n",
    "    :param report_count: list to store result of successive counting operations\n",
    "    :param report_step: list to store name of successive counting operations\n",
    "    :param step_string: str name of the counting operation\n",
    "    '''\n",
    "    if perform_count:\n",
    "        mycount = df['kmer'].unique().shape[0]\n",
    "        report_count.append(mycount)\n",
    "        report_step.append(step_string)\n",
    "        logging.info(f'# {step_string} n = {mycount} kmers')"
   ]
  },
  {
   "cell_type": "code",
   "execution_count": 79,
   "id": "589c2140",
   "metadata": {},
   "outputs": [],
   "source": [
    "def save_output_count(output_count, report_count, report_steps, prefix, cancer_sample_ori, mutation_mode,\n",
    "                      sample_expr_support_cancer, cohort_expr_support_cancer, n_samples_lim_cancer,\n",
    "                          cohort_expr_support_normal, n_samples_lim_normal, id_normals):\n",
    "    '''\n",
    "    Saves the number of kmers present in spark dataframe after each filtering step in a tabular file\n",
    "    :param output_count: str path for count file of intermediate filtering steps\n",
    "    :param report_count: list to store result of successive counting operations\n",
    "    :param report_step: list to store name of successive counting operations\n",
    "    :param prefix: str information to be added to the result line in an info column\n",
    "    :param cancer_sample_ori: str id of target cancer sample which was filtered\n",
    "    :param mutation_mode: str information about whether mutations where applied or not\n",
    "    :param sample_expr_support_cancer: float normalized expression threshold for the cancer target sample\n",
    "    :param cohort_expr_support_cancer: float normalized expression threshold for the cancer cohort\n",
    "    excluding the target sample\n",
    "    hich should be met in n samples\n",
    "    :param n_samples_lim_cancer: int number of cancer samples in which the cancer cohort expression threshold\n",
    "    should be met\n",
    "    :param cohort_expr_support_normal: float normalized expression threshold for the normal cohort\n",
    "    required in any sample (>=1)\n",
    "    :param n_samples_lim_normal: int number of normal samples in which any number of reads is required (>0)\n",
    "    :param id_normals: str id of the normal cohort (example gtex)\n",
    "    '''\n",
    "    if output_count:\n",
    "        header = (f'{\"sample\"}\\t{\"mutation_mode\"}\\t{\"min_sample_reads\"}\\t{\"#_of_cohort_samples\"}\\t'\n",
    "                  f'{\"reads_per_cohort_sample\"}\\t{\"#_normal_samples_allowed\"}\\t{\"normal_cohort_id\"}'\n",
    "                  f'\\t{\"reads_per_normal_sample\"}')\n",
    "        line =   (f'{cancer_sample_ori}\\t{mutation_mode}\\t{sample_expr_support_cancer}\\t{n_samples_lim_cancer}'\n",
    "                  f'\\t{cohort_expr_support_cancer}\\t{n_samples_lim_normal}\\t{id_normals}'\n",
    "                  f'\\t{cohort_expr_support_normal}')\n",
    "\n",
    "        for idx in np.arange(len(report_count)):\n",
    "            header += f'\\t{report_steps[idx]}'\n",
    "            line += f'\\t{report_count[idx]}'\n",
    "        if prefix:\n",
    "            header += f'\\t{\"info\"}'\n",
    "            line += f'\\t{prefix}'\n",
    "        header += \"\\n\"\n",
    "        line += \"\\n\"\n",
    "        if not os.path.exists(output_count):\n",
    "            with open(output_count,\"w\") as f:\n",
    "                f.write(header)\n",
    "        with open(output_count, \"a\") as f:\n",
    "            f.write(line)\n",
    "        logging.info(f'Save intermediate info to {output_count}')"
   ]
  },
  {
   "cell_type": "code",
   "execution_count": null,
   "id": "47f4708e",
   "metadata": {},
   "outputs": [],
   "source": []
  },
  {
   "cell_type": "code",
   "execution_count": null,
   "id": "1fb5fbad",
   "metadata": {},
   "outputs": [],
   "source": []
  },
  {
   "cell_type": "code",
   "execution_count": null,
   "id": "0b49466c",
   "metadata": {},
   "outputs": [],
   "source": []
  }
 ],
 "metadata": {
  "kernelspec": {
   "display_name": "Python 3 (ipykernel)",
   "language": "python",
   "name": "python3"
  },
  "language_info": {
   "codemirror_mode": {
    "name": "ipython",
    "version": 3
   },
   "file_extension": ".py",
   "mimetype": "text/x-python",
   "name": "python",
   "nbconvert_exporter": "python",
   "pygments_lexer": "ipython3",
   "version": "3.9.13"
  }
 },
 "nbformat": 4,
 "nbformat_minor": 5
}
