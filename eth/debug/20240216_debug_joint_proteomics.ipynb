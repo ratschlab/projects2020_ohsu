{
 "cells": [
  {
   "cell_type": "code",
   "execution_count": 20,
   "id": "cdb84ad9",
   "metadata": {},
   "outputs": [],
   "source": [
    "import pandas as pd \n",
    "from Bio import SeqIO\n",
    "import argparse\n",
    "import os "
   ]
  },
  {
   "cell_type": "code",
   "execution_count": 30,
   "id": "552544d4",
   "metadata": {},
   "outputs": [],
   "source": [
    "fasta_eth = '/cluster/work/grlab/projects/projects2020_OHSU/proteomics_fixMerge_25012024/ETH/TCGA-25-1319/trypsine_digest/peptide-extracted-filter-unique.fasta'\n",
    "fasta_ohsu = '/cluster/work/grlab/projects/projects2020_OHSU/proteomics_fixMerge_25012024/OHSU/TCGA-25-1319/trypsine_digest/peptide-extracted-filter-unique.fasta'\n",
    "save_folder = '.'\n",
    "path_map_eth = '.'\n",
    "path_map_ohsu = '.'"
   ]
  },
  {
   "cell_type": "code",
   "execution_count": 3,
   "id": "e030b6fc",
   "metadata": {},
   "outputs": [],
   "source": [
    "def get_pep_ids(fa_path):\n",
    "    Ids = set()\n",
    "    pep_to_id = {}\n",
    "    for seq in SeqIO.parse(fa_path,'fasta'):\n",
    "        Ids.add(seq.seq)\n",
    "        assert(seq.seq not in pep_to_id)\n",
    "        pep_to_id[seq.seq] = seq.id\n",
    "        \n",
    "    return Ids, pep_to_id"
   ]
  },
  {
   "cell_type": "code",
   "execution_count": 4,
   "id": "11648d51",
   "metadata": {},
   "outputs": [],
   "source": [
    "# Parse IDS\n",
    "pep_eth, pep_to_ID_eth = get_pep_ids(fasta_eth)\n",
    "pep_ohsu, pep_to_ID_ohsu = get_pep_ids(fasta_ohsu)\n",
    "\n",
    "\n",
    "# Compare\n",
    "joined_pep = pep_eth.intersection(pep_ohsu)\n",
    "eth_pep = pep_eth.difference(pep_ohsu)\n",
    "ohsu_pep = pep_ohsu.difference(pep_eth)\n",
    "print('shared peptides', len(pep_ohsu.union(pep_eth)))"
   ]
  },
  {
   "cell_type": "code",
   "execution_count": 17,
   "id": "94149787",
   "metadata": {},
   "outputs": [],
   "source": [
    "# Reindex\n",
    "file_write = []\n",
    "shared_to_ohsu = {}\n",
    "shared_to_eth = {}\n",
    "for idx, pep in enumerate(pep_ohsu.union(pep_eth)):\n",
    "    id_string = f'>pepID-{idx}'\n",
    "    file_write.append(id_string)\n",
    "    file_write.append(str(pep))\n",
    "    if pep in pep_ohsu:\n",
    "        shared_to_ohsu[id_string] = pep_to_ID_ohsu[pep]\n",
    "    if pep in pep_eth:\n",
    "        shared_to_eth[id_string] = pep_to_ID_eth[pep]\n",
    "\n",
    "    "
   ]
  },
  {
   "cell_type": "code",
   "execution_count": 42,
   "id": "cec916be",
   "metadata": {},
   "outputs": [],
   "source": [
    "# Write result\n",
    "path_save = os.path.join(save_folder, 'joint-peptide-extracted-filter-unique.fasta')\n",
    "with open(path_save, 'w') as f: \n",
    "    for i, line in enumerate(file_write):\n",
    "        f.write(line + '\\n')\n",
    "\n",
    "    "
   ]
  },
  {
   "cell_type": "code",
   "execution_count": 44,
   "id": "75c10a17",
   "metadata": {},
   "outputs": [],
   "source": [
    "# Save OHSU \n",
    "path = os.path.join(path_map_ohsu, 'pepID_joint_original.tsv')\n",
    "df = pd.DataFrame.from_dict(shared_to_ohsu, orient='index').reset_index()\n",
    "df.columns = ['reindex', 'fasta_index']\n",
    "df.to_csv(path, sep = '\\t', index = None)\n",
    "\n",
    "# Save ETH \n",
    "path = os.path.join(path_map_eth, 'pepID_joint_original.tsv')\n",
    "df = pd.DataFrame.from_dict(shared_to_eth, orient='index').reset_index()\n",
    "df.columns = ['reindex', 'fasta_index']\n",
    "df.to_csv(path, sep = '\\t', index = None)"
   ]
  },
  {
   "cell_type": "code",
   "execution_count": null,
   "id": "7cdc2e18",
   "metadata": {},
   "outputs": [],
   "source": [
    "if __name__ == \"__main__\":\n",
    "    parser = argparse.ArgumentParser(description='Reindexes the peptides coming from two pipelines while taking into account their overlap')\n",
    "    parser.add_argument(\"--file-eth\", help='fasta file from eth pipeline with peptide IDs as handles')\n",
    "    parser.add_argument(\"--file-ohsu\",help='fasta file from ohsu pipeline with peptide IDs as handles')\n",
    "    parser.add_argument(\"--map-eth-folder\", help='folder for eth where to save the mapping table between original ids and shared ids')\n",
    "    parser.add_argument(\"--map-ohsu-folder\",help='folder for ohsu where to save the mapping table between original ids and shared ids')\n",
    "    parser.add_argument(\"--save-folder\",help='base folder to save results')\n",
    "    args = parser.parse_args()\n",
    "    print(args)\n",
    "    fasta_reindex(args.file_eth, args.file_ohsu, args.save_folder, args.map_eth_folder, args.map_ohsu_folder)"
   ]
  },
  {
   "cell_type": "code",
   "execution_count": null,
   "id": "52bde72c",
   "metadata": {},
   "outputs": [],
   "source": [
    "For the joint pipeline, Need to reindex?\n",
    "How to get index that is unique?\n",
    "\n",
    "Perform the ryptic digestion of ETH and OHSU\n",
    "*Index - when pooling the tryptic peptides, do make the joint peptides per sample unique \n",
    "and assign a new index. Store the correspondance between indexes joint and indexes OHSU or ETH. \n",
    "Compute the FDR for the pooled indexed peptides\n",
    "*Then create a sub table from the FDR joint table by taking only OHSU/ ETH and \n",
    "replace the joint indexes by the pipeline specific indexes\n",
    "Then use the experiment per peptides map to get extract the single experiments"
   ]
  }
 ],
 "metadata": {
  "kernelspec": {
   "display_name": "Python 3 (ipykernel)",
   "language": "python",
   "name": "python3"
  },
  "language_info": {
   "codemirror_mode": {
    "name": "ipython",
    "version": 3
   },
   "file_extension": ".py",
   "mimetype": "text/x-python",
   "name": "python",
   "nbconvert_exporter": "python",
   "pygments_lexer": "ipython3",
   "version": "3.9.13"
  }
 },
 "nbformat": 4,
 "nbformat_minor": 5
}
