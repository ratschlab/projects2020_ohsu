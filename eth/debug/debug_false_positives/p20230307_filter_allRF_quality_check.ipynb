{
 "cells": [
  {
   "cell_type": "code",
   "execution_count": 1,
   "id": "9213020c",
   "metadata": {},
   "outputs": [
    {
     "name": "stderr",
     "output_type": "stream",
     "text": [
      "Matplotlib created a temporary config/cache directory at /scratch/slurm-job.828179/matplotlib-2kvfjxfb because the default path (/cluster/customapps/biomed/grlab/users/prelotla/.cache/matplotlib) is not a writable directory; it is highly recommended to set the MPLCONFIGDIR environment variable to a writable directory, in particular to speed up the import of Matplotlib and to better support multiprocessing.\n"
     ]
    }
   ],
   "source": [
    "import numpy as np\n",
    "import os\n",
    "import timeit\n",
    "import glob \n",
    "import pandas as pd\n",
    "import time\n",
    "import multiprocessing as mp \n",
    "import logging\n",
    "import sys \n",
    "import pathlib\n",
    "from pathlib import Path\n",
    "import matplotlib.pyplot as plt "
   ]
  },
  {
   "cell_type": "code",
   "execution_count": 2,
   "id": "0dfc3c05",
   "metadata": {},
   "outputs": [],
   "source": [
    "def get_junction_coordinates(df, coordinates_col, sep=':'):\n",
    "    df['strand'] = None\n",
    "    df['junction_coordinate'] = None\n",
    "\n",
    "    for idx, row in df.iterrows():\n",
    "        kmer_coordinates = [int(x) for x in row[coordinates_col].split(sep) if (x !='None') ]\n",
    "\n",
    "        if kmer_coordinates[1] < kmer_coordinates[2]: # order strand +\n",
    "\n",
    "            df.loc[idx, 'strand'] = '+'\n",
    "            if len(kmer_coordinates) == 4:  # 2 exons\n",
    "                df.loc[idx, 'junction_coordinate'] = ':'.join([str(x) for x in kmer_coordinates[1:3]])\n",
    "            elif len(kmer_coordinates) == 6:\n",
    "                df.loc[idx, 'junction_coordinate'] = ':'.join([str(x) for x in kmer_coordinates[1:5]])\n",
    "        else: # order strand +\n",
    "            df.loc[idx, 'strand'] = '-'\n",
    "            if len(kmer_coordinates) == 4:  # 2 exons\n",
    "                df.loc[idx, 'junction_coordinate'] = ':'.join([str(x) for x in [kmer_coordinates[3],\n",
    "                                                                                kmer_coordinates[0]]])\n",
    "            elif len(kmer_coordinates) == 6:\n",
    "                df.loc[idx, 'junction_coordinate'] = ':'.join([str(x) for x in [kmer_coordinates[3],\n",
    "                                                                                kmer_coordinates[0],\n",
    "                                                                                kmer_coordinates[2],\n",
    "                                                                                kmer_coordinates[5]\n",
    "                                                                               ]])\n",
    "    return df\n",
    "\n",
    "\n"
   ]
  },
  {
   "cell_type": "markdown",
   "id": "9c42962c",
   "metadata": {},
   "source": [
    "### Get filtered data"
   ]
  },
  {
   "cell_type": "code",
   "execution_count": 3,
   "id": "7a61ec92",
   "metadata": {},
   "outputs": [],
   "source": [
    "# Inputs\n",
    "run_type = 'brca'\n",
    "\n",
    "if run_type == 'brca':\n",
    "    target_samples = ['TCGA-C8-A12P-01A-11R-A115-07.all',\n",
    "                      'TCGA-AO-A0JM-01A-21R-A056-07.all',\n",
    "                      'TCGA-BH-A18V-01A-11R-A12D-07.all',\n",
    "                      'TCGA-A2-A0D2-01A-21R-A034-07.all',\n",
    "                      'TCGA-A2-A0SX-01A-12R-A084-07.all']\n",
    "    basedir = '/cluster/work/grlab/projects/projects2020_OHSU/peptides_generation/CANCER_eth/commit_c4dd02c_conf2_Frame_cap0_runs/TCGA_Breast_1102'\n",
    "    intermediate_output = os.path.join(basedir, 'filtering_intermediate/complete_cancer_candidates_order_r.tsv.gz')\n",
    "\n",
    "filtering_id = 'chosen_filters_06March_order'\n",
    "output_dir = os.path.join(basedir, 'filtering_samples', filtering_id)"
   ]
  },
  {
   "cell_type": "code",
   "execution_count": null,
   "id": "516b26da",
   "metadata": {},
   "outputs": [],
   "source": [
    "# Load generation matrix\n",
    "df_load = pd.read_csv(intermediate_output, sep = '\\t')"
   ]
  },
  {
   "cell_type": "code",
   "execution_count": null,
   "id": "ffd10143",
   "metadata": {},
   "outputs": [],
   "source": [
    "# Load filtered kmers\n",
    "sample_target = 'TCGA-AO-A0JM-01A-21R-A056-07'\n",
    "path_interest = f'G_{sample_target}_SampleLim0.0CohortLimNoneAcrossNone_FiltNormalsGtexCohortCohortlim0.0Across1.tsv.gz'\n",
    "path_interest = os.path.join(output_dir, path_interest)\n",
    "filt = pd.read_csv(path_interest, sep = '\\t')\n",
    "print(filt.shape)"
   ]
  },
  {
   "cell_type": "code",
   "execution_count": null,
   "id": "080f35ad",
   "metadata": {},
   "outputs": [],
   "source": [
    "# Merge generation matrix & filtered kmers\n",
    "filt_meta = df_load.merge(filt, on = list(filt.columns), how = 'right')\n",
    "print(filt_meta.shape)"
   ]
  },
  {
   "cell_type": "code",
   "execution_count": null,
   "id": "6acbd30e",
   "metadata": {},
   "outputs": [],
   "source": [
    "# Define problematic kmer\n",
    "# exp_lim = 600\n",
    "# filt_meta_pb = filt_meta.loc[filt_meta['cancerCohortfilter >0.0'] > exp_lim]\n",
    "# filt_meta_pb = filt_meta_pb[filt_meta_pb[sample_target.replace('-', '') + 'all'] > 0 ]\n",
    "# print(f'filtered kmers-junctions {filt_meta.shape[0]}')\n",
    "# print(f'filtered kmers unique {len(filt_meta.kmer.unique())}')\n",
    "# print(f'filtered kmers-junctions problematic {filt_meta_pb.shape[0]}')\n",
    "# print(f'filtered kmers problematic unique {len(filt_meta_pb.kmer.unique())}')\n",
    "filt_meta_pb = filt_meta"
   ]
  },
  {
   "cell_type": "code",
   "execution_count": null,
   "id": "42a96470",
   "metadata": {
    "scrolled": true
   },
   "outputs": [],
   "source": [
    "# Columns magic\n",
    "core_cols = ['kmer', 'gtexCohortfilter >0.0', 'coord',\n",
    "       'junctionAnnotated', 'readFrameAnnotated', 'isCrossJunction', 'batch',\n",
    "       'cancerCohortfilter >0.0', sample_target.replace('-', '') + 'all', 'isAnnotated']\n",
    "\n",
    "df_load.columns"
   ]
  },
  {
   "cell_type": "code",
   "execution_count": null,
   "id": "c4e586eb",
   "metadata": {},
   "outputs": [],
   "source": [
    "# Extract coordinates of the merged table\n",
    "filt_meta_pb = get_junction_coordinates(filt_meta_pb, 'coord', sep=':')\n",
    "\n",
    "display(filt_meta_pb[core_cols + ['junction_coordinate']].head())"
   ]
  },
  {
   "cell_type": "markdown",
   "id": "3fb76e50",
   "metadata": {},
   "source": [
    "### Add the peptide metadata"
   ]
  },
  {
   "cell_type": "code",
   "execution_count": null,
   "id": "dc4133b5",
   "metadata": {},
   "outputs": [],
   "source": [
    "# Define peptide file columns of interest \n",
    "cols_correct = ['peptide','id','readFrame','readFrameAnnotated','geneName','geneChr','geneStrand',\n",
    "'mutationMode','hasStopCodon','isInJunctionList',\n",
    "'isIsolated','variantComb','variantSegExpr','modifiedExonsCoord',\n",
    "'originalExonsCoord',\n",
    "'vertexIdx','kmerType', 'dummy1', 'dummy2', 'dummy3']\n",
    "\n",
    "cols_pep_file = ['peptide', 'id', 'readFrame', 'geneName',\n",
    "       'geneChr', 'geneStrand', 'mutationMode',\n",
    "       'hasStopCodon', 'isInJunctionList', 'isIsolated',\n",
    "       'variantSegExpr', 'modifiedExonsCoord', 'originalExonsCoord',\n",
    "       'vertexIdx', 'kmerType']\n",
    "\n",
    "\n",
    "cols_pep_file = {col:  'gtex_' + col for col in cols_pep_file}\n"
   ]
  },
  {
   "cell_type": "code",
   "execution_count": null,
   "id": "d420780c",
   "metadata": {},
   "outputs": [],
   "source": [
    "len(filt_meta_pb['batch'].unique()) # Now 121"
   ]
  },
  {
   "cell_type": "markdown",
   "id": "e28e543f",
   "metadata": {},
   "source": [
    "### Make False positive hypothesis"
   ]
  },
  {
   "cell_type": "code",
   "execution_count": null,
   "id": "d5d6d1f8",
   "metadata": {},
   "outputs": [],
   "source": [
    "gtex_dir = '/cluster/work/grlab/projects/projects2020_OHSU/peptides_generation/GTEX2019_eth/GTEX2019_c4dd02c_conf2_RFall_ref'\n",
    "check_hypothesis = []\n",
    "kmers_not_in_gtex = []\n",
    "kmers_no_metadata = []\n",
    "\n",
    "for batch_i, batch in enumerate(filt_meta_pb['batch'].unique()):\n",
    "    print(f'\\n Iteration {batch_i} batch {batch}')\n",
    "    # CANCER SIDE GET BATCH Junctions\n",
    "    batch_kmers_init = filt_meta_pb.loc[filt_meta_pb['batch'] == batch]\n",
    "    print(f'Size cancer kmers-junctions {len(batch_kmers_init)}')\n",
    "    \n",
    "    # Read GTEX peptide file\n",
    "    pep_path = os.path.join(gtex_dir, 'cohort_mutNone', f'tmp_out_ref_batch_{batch}', 'ref_sample_peptides_meta.gz')\n",
    "    if os.path.exists(pep_path):\n",
    "        ##### COPY \n",
    "        not_in_background = False\n",
    "\n",
    "\n",
    "        print(pep_path)\n",
    "        meta_pep = pd.read_csv(pep_path, sep = '\\t')\n",
    "        print(meta_pep.shape)\n",
    "        meta_pep.columns = cols_correct # ISSUE WITH IMMUNOPEPPER\n",
    "\n",
    "\n",
    "\n",
    "        # Only bi or tri-exons peptides\n",
    "        jx_ids = [idx for idx, coord in enumerate(meta_pep['modifiedExonsCoord']) if 'nan' not in coord]\n",
    "        meta_pep = meta_pep.iloc[jx_ids]\n",
    "\n",
    "        # Quick Assess Cancer junction presence in GTEX\n",
    "        coord_int = [i.split(':') for i in batch_kmers_init['junction_coordinate'].unique()]\n",
    "        keep = set()\n",
    "        for cd in coord_int:\n",
    "            keep.update([idx for idx, coord in enumerate(meta_pep['modifiedExonsCoord']) \\\n",
    "                         if (cd[0] in coord) and (cd[1] in coord)])\n",
    "        meta_pep = meta_pep.iloc[list(keep)]\n",
    "\n",
    "        if keep: # Some target junctions are in \"potentially\" found in gtex \n",
    "            # Rename\n",
    "            meta_pep = meta_pep.rename(cols_pep_file, axis = 1)\n",
    "\n",
    "            # Extract coordinates peptides\n",
    "            meta_pep = get_junction_coordinates(meta_pep, 'gtex_modifiedExonsCoord', sep=';')\n",
    "\n",
    "            # Add Peptide info \n",
    "            meta_pep = meta_pep[list(cols_pep_file.values()) + ['junction_coordinate']].drop_duplicates()\n",
    "            \n",
    "            exist_jx_not_in_gtex = set(batch_kmers_init['junction_coordinate']).difference(set(meta_pep['junction_coordinate']))\n",
    "            exist_jx_in_gtex = set(batch_kmers_init['junction_coordinate']).intersection(set(meta_pep['junction_coordinate']))\n",
    "\n",
    "            if exist_jx_in_gtex: # Some target junctions are in gtex\n",
    "                batch_kmers = batch_kmers_init.merge(meta_pep, on = 'junction_coordinate', how = 'inner')\n",
    "                print(f'Size cancer kmers-junctions + all GTEX peptides {len(batch_kmers)}')\n",
    "\n",
    "                # Calculate the number of aa fitting on each side of the junctions\n",
    "                batch_kmers['gtex_aa_E1'] = batch_kmers['gtex_modifiedExonsCoord'].str.split(';').map(lambda x: abs(int(x[0]) - int(x[1]))/3 )\n",
    "                batch_kmers['gtex_aa_E2'] = batch_kmers['gtex_modifiedExonsCoord'].str.split(';').map(lambda x: abs(int(x[2]) - int(x[3]))/3 )\n",
    "                batch_kmers['cancer_aa_E1'] = batch_kmers['coord'].str.split(':').map(lambda x: abs(int(x[0]) - int(x[1]))/3 )\n",
    "                batch_kmers['cancer_aa_E2'] = batch_kmers['coord'].str.split(':').map(lambda x: abs(int(x[2]) - int(x[3]))/3 )\n",
    "                # What about 3 exons?\n",
    "\n",
    "                # Validate hypothesis: \n",
    "                # H1: The second exon is not long enough to get the translation through in GTEX. BUT no exon was added on the right\n",
    "                new_col = 'gtexE2<cancE2'\n",
    "                batch_kmers[new_col] = True\n",
    "                batch_kmers.loc[batch_kmers['gtex_aa_E2'] > batch_kmers['cancer_aa_E2'], new_col] = False\n",
    "\n",
    "                res = batch_kmers[['kmer', new_col, 'junction_coordinate' ]].drop_duplicates()\n",
    "                display( batch_kmers[['kmer', 'cancerCohortfilter >0.0',\\\n",
    "                                      sample_target.replace('-', '') + 'all',\n",
    "                                      'readFrameAnnotated', \\\n",
    "                                      'junctionAnnotated', \\\n",
    "                                      new_col ]].drop_duplicates() )\n",
    "                check_hypothesis.append(res[['kmer', 'junction_coordinate']])\n",
    "                \n",
    "            if exist_jx_not_in_gtex: # Some target junctions are NOT in gtex\n",
    "                not_in_background = True\n",
    "                diff = batch_kmers_init.set_index('junction_coordinate').loc[exist_jx_not_in_gtex].reset_index() #left anti join\n",
    "\n",
    "        \n",
    "        else: # No target junctions are in GTEX at all\n",
    "            not_in_background = True\n",
    "            diff = batch_kmers_init.copy()\n",
    "\n",
    "        if not_in_background:\n",
    "            #diff = diff[['kmer', 'junction_coordinate', 'cancerCohortfilter >0.0', ]].drop_duplicates()\n",
    "            kmers_not_in_gtex.append(diff[['kmer', 'junction_coordinate']])\n",
    "            print(f'{diff.shape[0]} Kmers - junctions not found in gtex. Recurrence is:')\n",
    "            print(diff['cancerCohortfilter >0.0'].unique())\n",
    "            print(f'{diff.shape[0]} Kmers - junctions not found in gtex. Junction annotated is:')\n",
    "            print(diff['junctionAnnotated'].unique())\n",
    "            print(f'{diff.shape[0]} Kmers - junctions not found in gtex. RF annotated is:')\n",
    "            print(diff['readFrameAnnotated'].unique())\n",
    "\n",
    "            \n",
    "        ##### END COPY \n",
    "    else:\n",
    "        check_path = os.path.join(gtex_dir, 'cohort_mutNone', f'tmp_out_ref_batch_{batch}')\n",
    "        kmers_no_metadata.append(batch_kmers_init[['kmer', 'junction_coordinate']])\n",
    "        print(f'CHECK COMPLETION OF {check_path}')\n",
    "        continue\n",
    "#         for pep_path in glob.glob(pep_path + '/*'):\n",
    "           \n",
    "\n"
   ]
  },
  {
   "cell_type": "code",
   "execution_count": null,
   "id": "608ff724",
   "metadata": {},
   "outputs": [],
   "source": [
    "print(filt_meta_pb.shape)\n",
    "print(filt_meta_pb[['kmer', 'junction_coordinate']].drop_duplicates().shape)"
   ]
  },
  {
   "cell_type": "code",
   "execution_count": null,
   "id": "73795046",
   "metadata": {},
   "outputs": [],
   "source": [
    "df_kmers_no_metadata = pd.concat(kmers_no_metadata, axis = 0 )\n",
    "print(f'{df_kmers_no_metadata.shape[0]} kmers without metadata')\n",
    "print(f'{df_kmers_no_metadata.drop_duplicates().shape[0]} UNIQUE kmers without metadata')"
   ]
  },
  {
   "cell_type": "code",
   "execution_count": null,
   "id": "1d1e7300",
   "metadata": {},
   "outputs": [],
   "source": [
    "df_kmers_not_in_gtex = pd.concat(kmers_not_in_gtex, axis = 0 )\n",
    "print(f'{df_kmers_not_in_gtex.shape[0]} kmers completely absent in GTEX')\n",
    "print(f'{df_kmers_not_in_gtex.drop_duplicates().shape[0]} UNIQUE kmers completely absent in GTEX')"
   ]
  },
  {
   "cell_type": "code",
   "execution_count": null,
   "id": "1713f6b7",
   "metadata": {},
   "outputs": [],
   "source": [
    "df_check_hypothesis = pd.concat(check_hypothesis, axis = 0 )\n",
    "print(f'{df_check_hypothesis.shape[0]} kmers coming from novel exons')\n",
    "print(f'{df_check_hypothesis.drop_duplicates().shape[0]} UNIQUE kmers coming from novel exons')"
   ]
  },
  {
   "cell_type": "code",
   "execution_count": null,
   "id": "fbea0c09",
   "metadata": {},
   "outputs": [],
   "source": [
    "# Create new labels based on the false positive check above \n",
    "# The sets no_metadata, not_GTEX, check_hypothesis are disjoint\n",
    "print(set(df_kmers_no_metadata['kmer']).intersection( set(df_kmers_not_in_gtex['kmer'])))\n",
    "print(set(df_kmers_no_metadata['kmer']).intersection( set(df_check_hypothesis['kmer'])))\n",
    "print(set(df_kmers_not_in_gtex['kmer']).intersection( set(df_check_hypothesis['kmer'])))\n",
    "\n",
    "# Drop duplicates\n",
    "df_kmers_no_metadata = df_kmers_no_metadata.drop_duplicates() \n",
    "df_kmers_not_in_gtex = df_kmers_not_in_gtex.drop_duplicates()\n",
    "df_check_hypothesis = df_check_hypothesis.drop_duplicates()\n",
    "\n",
    "# Augment df with information about GTEX junction presence\n",
    "df_kmers_not_in_gtex['coordinate_in_GTEX'] = False\n",
    "df_kmers_no_metadata['coordinate_in_GTEX'] = 'no_check'\n",
    "df_coord_in_gtex = pd.concat([df_kmers_not_in_gtex, df_kmers_no_metadata], axis = 0)\n",
    "\n",
    "# Augment df with information about Novel exon hypothesis\n",
    "df_kmers_no_metadata.drop('coordinate_in_GTEX', inplace=True, axis=1)\n",
    "df_kmers_no_metadata['gtexExon2<cancExon2'] = 'no_check'\n",
    "df_check_hypothesis['gtexExon2<cancExon2'] = True\n",
    "df_exon_length = pd.concat([df_check_hypothesis, df_kmers_no_metadata], axis = 0)\n",
    "\n",
    "filt_meta = filt_meta.merge(df_coord_in_gtex, on = ['kmer', 'junction_coordinate'], how = 'left')\n",
    "filt_meta['coordinate_in_GTEX'] = filt_meta['coordinate_in_GTEX'].fillna(True)\n",
    "\n",
    "filt_meta = filt_meta.merge(df_exon_length, on = ['kmer', 'junction_coordinate'], how = 'left')\n",
    "filt_meta['gtexExon2<cancExon2'] = filt_meta['gtexExon2<cancExon2'].fillna(False)\n",
    "\n",
    "display(filt_meta.groupby('gtexExon2<cancExon2').count())\n",
    "display(filt_meta.groupby('coordinate_in_GTEX').count())"
   ]
  },
  {
   "cell_type": "code",
   "execution_count": null,
   "id": "d96c5975",
   "metadata": {},
   "outputs": [],
   "source": [
    "path_interest = f'G_{sample_target}_SampleLim0.0CohortLimNoneAcrossNone_FiltNormalsGtexCohortCohortlim0.0Across1.tsv.gz'\n",
    "path_interest_with_advanced_meta = os.path.join(output_dir, path_interest.replace('.tsv.gz', 'metadata.tsv.gz'))\n",
    "print(f'Saving kmers with advanced metadata to {path_interest_with_advanced_meta}')\n",
    "filt_meta.to_csv(path_interest_with_advanced_meta, sep = '\\t', compression = 'gzip', index = None)"
   ]
  },
  {
   "cell_type": "markdown",
   "id": "dd0a0ac7",
   "metadata": {},
   "source": [
    "## Exploratory"
   ]
  },
  {
   "cell_type": "markdown",
   "id": "31fa9007",
   "metadata": {},
   "source": [
    "### Remove GTEX annotation "
   ]
  },
  {
   "cell_type": "code",
   "execution_count": null,
   "id": "ccab24e8",
   "metadata": {},
   "outputs": [],
   "source": [
    "path_annot = glob.glob('/cluster/work/grlab/projects/projects2020_OHSU/peptides_generation/GTEX2019_eth/GTEX2019_6920432_ANNOT_conf2_RFall_ref/cohort_mutNone/*/ref_annot_kmer.gz')\n",
    "\n",
    "print(len(path_annot))"
   ]
  },
  {
   "cell_type": "code",
   "execution_count": null,
   "id": "cfc9f7f5",
   "metadata": {},
   "outputs": [],
   "source": [
    "# for idx, annot in enumerate(path_annot):\n",
    "#     kmers_filter_pipeline = len(kmer_post_filter)\n",
    "#     annot = pd.read_csv(annot, sep = '\\t')\n",
    "#     annot = set(annot['kmer'])\n",
    "#     kmer_post_filter = kmer_post_filter.difference(annot)\n",
    "#     if kmers_filter_pipeline != len(kmer_post_filter):\n",
    "#         print(path_annot[idx], len(kmer_post_filter))"
   ]
  },
  {
   "cell_type": "code",
   "execution_count": null,
   "id": "af6eda74",
   "metadata": {},
   "outputs": [],
   "source": []
  }
 ],
 "metadata": {
  "kernelspec": {
   "display_name": "Python 3 (ipykernel)",
   "language": "python",
   "name": "python3"
  },
  "language_info": {
   "codemirror_mode": {
    "name": "ipython",
    "version": 3
   },
   "file_extension": ".py",
   "mimetype": "text/x-python",
   "name": "python",
   "nbconvert_exporter": "python",
   "pygments_lexer": "ipython3",
   "version": "3.9.13"
  }
 },
 "nbformat": 4,
 "nbformat_minor": 5
}
