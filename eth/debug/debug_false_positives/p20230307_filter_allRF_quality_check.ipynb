{
 "cells": [
  {
   "cell_type": "code",
   "execution_count": 2,
   "id": "12974258",
   "metadata": {},
   "outputs": [
    {
     "name": "stderr",
     "output_type": "stream",
     "text": [
      "Matplotlib created a temporary config/cache directory at /scratch/slurm-job.816371/matplotlib-znoh07a6 because the default path (/cluster/customapps/biomed/grlab/users/prelotla/.cache/matplotlib) is not a writable directory; it is highly recommended to set the MPLCONFIGDIR environment variable to a writable directory, in particular to speed up the import of Matplotlib and to better support multiprocessing.\n"
     ]
    }
   ],
   "source": [
    "import numpy as np\n",
    "import os\n",
    "import timeit\n",
    "import glob \n",
    "import pandas as pd\n",
    "import time\n",
    "import multiprocessing as mp \n",
    "import logging\n",
    "import sys \n",
    "import pathlib\n",
    "from pathlib import Path\n",
    "import matplotlib.pyplot as plt "
   ]
  },
  {
   "cell_type": "code",
   "execution_count": 78,
   "id": "7bae5bab",
   "metadata": {},
   "outputs": [],
   "source": [
    "def get_junction_coordinates(df, coordinates_col, sep=':'):\n",
    "    df['strand'] = None\n",
    "    df['junction_coordinate'] = None\n",
    "\n",
    "    for idx, row in df.iterrows():\n",
    "        kmer_coordinates = [int(x) for x in row[coordinates_col].split(sep) if (x !='None') ]\n",
    "\n",
    "        if kmer_coordinates[1] < kmer_coordinates[2]: # order strand +\n",
    "\n",
    "            df.loc[idx, 'strand'] = '+'\n",
    "            if len(kmer_coordinates) == 4:  # 2 exons\n",
    "                df.loc[idx, 'junction_coordinate'] = ':'.join([str(x) for x in kmer_coordinates[1:3]])\n",
    "            elif len(kmer_coordinates) == 6:\n",
    "                df.loc[idx, 'junction_coordinate'] = ':'.join([str(x) for x in kmer_coordinates[1:5]])\n",
    "        else: # order strand +\n",
    "            df.loc[idx, 'strand'] = '-'\n",
    "            if len(kmer_coordinates) == 4:  # 2 exons\n",
    "                df.loc[idx, 'junction_coordinate'] = ':'.join([str(x) for x in [kmer_coordinates[3],\n",
    "                                                                                kmer_coordinates[0]]])\n",
    "            elif len(kmer_coordinates) == 6:\n",
    "                df.loc[idx, 'junction_coordinate'] = ':'.join([str(x) for x in [kmer_coordinates[3],\n",
    "                                                                                kmer_coordinates[0],\n",
    "                                                                                kmer_coordinates[2],\n",
    "                                                                                kmer_coordinates[5]\n",
    "                                                                               ]])\n",
    "    return df\n",
    "\n",
    "\n"
   ]
  },
  {
   "cell_type": "markdown",
   "id": "750e1bf5",
   "metadata": {},
   "source": [
    "### Get filtered data"
   ]
  },
  {
   "cell_type": "code",
   "execution_count": 3,
   "id": "079460ff",
   "metadata": {},
   "outputs": [],
   "source": [
    "run_type = 'brca'\n",
    "\n",
    "# Inputs\n",
    "\n",
    "if run_type == 'brca':\n",
    "    target_samples = ['TCGA-C8-A12P-01A-11R-A115-07.all',\n",
    "                      'TCGA-AO-A0JM-01A-21R-A056-07.all',\n",
    "                      'TCGA-BH-A18V-01A-11R-A12D-07.all',\n",
    "                      'TCGA-A2-A0D2-01A-21R-A034-07.all',\n",
    "                      'TCGA-A2-A0SX-01A-12R-A084-07.all']\n",
    "    basedir = '/cluster/work/grlab/projects/projects2020_OHSU/peptides_generation/CANCER_eth/commit_c4dd02c_conf2_Frame_cap0_runs/TCGA_Breast_1102'\n",
    "    intermediate_output = os.path.join(basedir, 'filtering_intermediate/complete_cancer_candidates_.tsv.gz')\n",
    "\n",
    "filtering_id = 'chosen_filters_06March'\n",
    "output_dir = os.path.join(basedir, 'filtering_samples', filtering_id)"
   ]
  },
  {
   "cell_type": "code",
   "execution_count": 5,
   "id": "79b865df",
   "metadata": {},
   "outputs": [],
   "source": [
    "# Load matrix to be filtered\n",
    "df_load = pd.read_csv(intermediate_output, sep = '\\t')"
   ]
  },
  {
   "cell_type": "code",
   "execution_count": 42,
   "id": "7321651e",
   "metadata": {},
   "outputs": [
    {
     "name": "stdout",
     "output_type": "stream",
     "text": [
      "(9364, 4)\n"
     ]
    }
   ],
   "source": [
    "# Load filtered kmers\n",
    "sample_target = 'TCGA-AO-A0JM-01A-21R-A056-07'\n",
    "path_interest = f'G_{sample_target}_SampleLim0.0CohortLimNoneAcrossNone_FiltNormalsGtexCohortCohortlim0.0Across1.tsv.gz'\n",
    "path_interest = os.path.join(output_dir, path_interest)\n",
    "filt = pd.read_csv(path_interest, sep = '\\t')\n",
    "print(filt.shape)"
   ]
  },
  {
   "cell_type": "code",
   "execution_count": 48,
   "id": "9625f669",
   "metadata": {},
   "outputs": [
    {
     "data": {
      "text/plain": [
       "Index(['kmer', 'gtexCohortfilter >0.0', 'gtexCohortfilter >=1.0',\n",
       "       'gtexCohortfilter >=2.0', 'gtexCohortfilter >=3.0',\n",
       "       'gtexCohortfilter >=5.0', 'gtexCohortfilter >=10.0', 'coord',\n",
       "       'junctionAnnotated', 'readFrameAnnotated', 'isCrossJunction', 'batch',\n",
       "       'cancerCohortfilter >0.0', 'cancerCohortfilter >=1.0',\n",
       "       'cancerCohortfilter >=2.0', 'cancerCohortfilter >=3.0',\n",
       "       'cancerCohortfilter >=5.0', 'cancerCohortfilter >=10.0',\n",
       "       'TCGAC8A12P01A11RA11507all', 'TCGAAOA0JM01A21RA05607all',\n",
       "       'TCGABHA18V01A11RA12D07all', 'TCGAA2A0D201A21RA03407all',\n",
       "       'TCGAA2A0SX01A12RA08407all', 'isAnnotated'],\n",
       "      dtype='object')"
      ]
     },
     "execution_count": 48,
     "metadata": {},
     "output_type": "execute_result"
    }
   ],
   "source": [
    "# Columns magic\n",
    "core_cols = ['kmer', 'gtexCohortfilter >0.0', 'coord',\n",
    "       'junctionAnnotated', 'readFrameAnnotated', 'isCrossJunction', 'batch',\n",
    "       'cancerCohortfilter >0.0', sample_target.replace('-', '') + 'all', 'isAnnotated']\n",
    "\n",
    "df_load.columns"
   ]
  },
  {
   "cell_type": "code",
   "execution_count": 37,
   "id": "2b5dfd36",
   "metadata": {},
   "outputs": [
    {
     "name": "stdout",
     "output_type": "stream",
     "text": [
      "(9364, 24)\n"
     ]
    }
   ],
   "source": [
    "# merge metadata to filtered\n",
    "filt_meta = df_load.merge(filt, on = list(filt.columns), how = 'right')\n",
    "print(filt_meta.shape)"
   ]
  },
  {
   "cell_type": "code",
   "execution_count": 219,
   "id": "258d69cb",
   "metadata": {},
   "outputs": [],
   "source": [
    "# Define problematic kmer\n",
    "# exp_lim = 600\n",
    "# filt_meta_pb = filt_meta.loc[filt_meta['cancerCohortfilter >0.0'] > exp_lim]\n",
    "# filt_meta_pb = filt_meta_pb[filt_meta_pb[sample_target.replace('-', '') + 'all'] > 0 ]\n",
    "# print(f'filtered kmers-junctions {filt_meta.shape[0]}')\n",
    "# print(f'filtered kmers unique {len(filt_meta.kmer.unique())}')\n",
    "# print(f'filtered kmers-junctions problematic {filt_meta_pb.shape[0]}')\n",
    "# print(f'filtered kmers problematic unique {len(filt_meta_pb.kmer.unique())}')\n",
    "filt_meta_pb = filt_meta"
   ]
  },
  {
   "cell_type": "code",
   "execution_count": 220,
   "id": "553af970",
   "metadata": {},
   "outputs": [],
   "source": [
    "filt_meta_pb = get_junction_coordinates(filt_meta_pb, 'coord', sep=':')"
   ]
  },
  {
   "cell_type": "code",
   "execution_count": 221,
   "id": "e6f84779",
   "metadata": {},
   "outputs": [
    {
     "data": {
      "text/html": [
       "<div>\n",
       "<style scoped>\n",
       "    .dataframe tbody tr th:only-of-type {\n",
       "        vertical-align: middle;\n",
       "    }\n",
       "\n",
       "    .dataframe tbody tr th {\n",
       "        vertical-align: top;\n",
       "    }\n",
       "\n",
       "    .dataframe thead th {\n",
       "        text-align: right;\n",
       "    }\n",
       "</style>\n",
       "<table border=\"1\" class=\"dataframe\">\n",
       "  <thead>\n",
       "    <tr style=\"text-align: right;\">\n",
       "      <th></th>\n",
       "      <th>kmer</th>\n",
       "      <th>gtexCohortfilter &gt;0.0</th>\n",
       "      <th>coord</th>\n",
       "      <th>junctionAnnotated</th>\n",
       "      <th>readFrameAnnotated</th>\n",
       "      <th>isCrossJunction</th>\n",
       "      <th>batch</th>\n",
       "      <th>cancerCohortfilter &gt;0.0</th>\n",
       "      <th>TCGAAOA0JM01A21RA05607all</th>\n",
       "      <th>isAnnotated</th>\n",
       "      <th>junction_coordinate</th>\n",
       "    </tr>\n",
       "  </thead>\n",
       "  <tbody>\n",
       "    <tr>\n",
       "      <th>0</th>\n",
       "      <td>KSKTRPISD</td>\n",
       "      <td>NaN</td>\n",
       "      <td>16801319:16801333:16795006:16795019:None:None</td>\n",
       "      <td>False</td>\n",
       "      <td>False</td>\n",
       "      <td>True</td>\n",
       "      <td>50040</td>\n",
       "      <td>2</td>\n",
       "      <td>18.921476</td>\n",
       "      <td>NaN</td>\n",
       "      <td>16795019:16801319</td>\n",
       "    </tr>\n",
       "    <tr>\n",
       "      <th>1</th>\n",
       "      <td>SKTRPISDS</td>\n",
       "      <td>NaN</td>\n",
       "      <td>16801319:16801330:16795003:16795019:None:None</td>\n",
       "      <td>False</td>\n",
       "      <td>False</td>\n",
       "      <td>True</td>\n",
       "      <td>50040</td>\n",
       "      <td>2</td>\n",
       "      <td>18.921476</td>\n",
       "      <td>NaN</td>\n",
       "      <td>16795019:16801319</td>\n",
       "    </tr>\n",
       "    <tr>\n",
       "      <th>2</th>\n",
       "      <td>YKSKTRPIS</td>\n",
       "      <td>NaN</td>\n",
       "      <td>16801319:16801336:16795009:16795019:None:None</td>\n",
       "      <td>False</td>\n",
       "      <td>False</td>\n",
       "      <td>True</td>\n",
       "      <td>50040</td>\n",
       "      <td>2</td>\n",
       "      <td>18.921476</td>\n",
       "      <td>NaN</td>\n",
       "      <td>16795019:16801319</td>\n",
       "    </tr>\n",
       "    <tr>\n",
       "      <th>3</th>\n",
       "      <td>LYKSKTRPI</td>\n",
       "      <td>NaN</td>\n",
       "      <td>16801319:16801339:16795012:16795019:None:None</td>\n",
       "      <td>False</td>\n",
       "      <td>False</td>\n",
       "      <td>True</td>\n",
       "      <td>50040</td>\n",
       "      <td>2</td>\n",
       "      <td>18.921476</td>\n",
       "      <td>NaN</td>\n",
       "      <td>16795019:16801319</td>\n",
       "    </tr>\n",
       "    <tr>\n",
       "      <th>4</th>\n",
       "      <td>ALYKSKTRP</td>\n",
       "      <td>NaN</td>\n",
       "      <td>16801319:16801342:16795015:16795019:None:None</td>\n",
       "      <td>False</td>\n",
       "      <td>False</td>\n",
       "      <td>True</td>\n",
       "      <td>50040</td>\n",
       "      <td>2</td>\n",
       "      <td>18.921476</td>\n",
       "      <td>NaN</td>\n",
       "      <td>16795019:16801319</td>\n",
       "    </tr>\n",
       "  </tbody>\n",
       "</table>\n",
       "</div>"
      ],
      "text/plain": [
       "        kmer  gtexCohortfilter >0.0  \\\n",
       "0  KSKTRPISD                    NaN   \n",
       "1  SKTRPISDS                    NaN   \n",
       "2  YKSKTRPIS                    NaN   \n",
       "3  LYKSKTRPI                    NaN   \n",
       "4  ALYKSKTRP                    NaN   \n",
       "\n",
       "                                           coord  junctionAnnotated  \\\n",
       "0  16801319:16801333:16795006:16795019:None:None              False   \n",
       "1  16801319:16801330:16795003:16795019:None:None              False   \n",
       "2  16801319:16801336:16795009:16795019:None:None              False   \n",
       "3  16801319:16801339:16795012:16795019:None:None              False   \n",
       "4  16801319:16801342:16795015:16795019:None:None              False   \n",
       "\n",
       "   readFrameAnnotated  isCrossJunction  batch  cancerCohortfilter >0.0  \\\n",
       "0               False             True  50040                        2   \n",
       "1               False             True  50040                        2   \n",
       "2               False             True  50040                        2   \n",
       "3               False             True  50040                        2   \n",
       "4               False             True  50040                        2   \n",
       "\n",
       "   TCGAAOA0JM01A21RA05607all  isAnnotated junction_coordinate  \n",
       "0                  18.921476          NaN   16795019:16801319  \n",
       "1                  18.921476          NaN   16795019:16801319  \n",
       "2                  18.921476          NaN   16795019:16801319  \n",
       "3                  18.921476          NaN   16795019:16801319  \n",
       "4                  18.921476          NaN   16795019:16801319  "
      ]
     },
     "execution_count": 221,
     "metadata": {},
     "output_type": "execute_result"
    }
   ],
   "source": [
    "filt_meta_pb[core_cols + ['junction_coordinate']].head()"
   ]
  },
  {
   "cell_type": "markdown",
   "id": "a5fed2b3",
   "metadata": {},
   "source": [
    "### Add the peptide metadata"
   ]
  },
  {
   "cell_type": "code",
   "execution_count": 222,
   "id": "1511be04",
   "metadata": {},
   "outputs": [],
   "source": [
    "# Define peptide file columns of interest \n",
    "cols_pep_file = ['peptide', 'id', 'readFrame', 'geneName',\n",
    "       'geneChr', 'geneStrand', 'mutationMode',\n",
    "       'hasStopCodon', 'isInJunctionList', 'isIsolated',\n",
    "       'variantSegExpr', 'modifiedExonsCoord', 'originalExonsCoord',\n",
    "       'vertexIdx', 'kmerType']\n",
    "\n",
    "\n",
    "cols_pep_file = {col:  'gtex_' + col for col in cols_pep_file}\n"
   ]
  },
  {
   "cell_type": "code",
   "execution_count": 223,
   "id": "5cbf4d0d",
   "metadata": {},
   "outputs": [],
   "source": [
    "batch = 24167"
   ]
  },
  {
   "cell_type": "code",
   "execution_count": 224,
   "id": "09ad4304",
   "metadata": {},
   "outputs": [
    {
     "name": "stdout",
     "output_type": "stream",
     "text": [
      "/cluster/work/grlab/projects/projects2020_OHSU/peptides_generation/GTEX2019_eth/GTEX2019_c4dd02c_conf2_RFall_ref/cohort_mutNone/tmp_out_ref_batch_24167/ref_sample_peptides_meta.gz\n",
      "(15884, 20)\n"
     ]
    }
   ],
   "source": [
    "# Read GTEX peptide file\n",
    "gtex_dir = '/cluster/work/grlab/projects/projects2020_OHSU/peptides_generation/GTEX2019_eth/GTEX2019_c4dd02c_conf2_RFall_ref'\n",
    "pep_path = os.path.join(gtex_dir, 'cohort_mutNone', f'tmp_out_ref_batch_{batch}', 'ref_sample_peptides_meta.gz')\n",
    "print(pep_path)\n",
    "meta_pep = pd.read_csv(pep_path, sep = '\\t')\n",
    "print(meta_pep.shape)"
   ]
  },
  {
   "cell_type": "code",
   "execution_count": 225,
   "id": "c94b3e0b",
   "metadata": {},
   "outputs": [],
   "source": [
    "# Only bi or tri-exons peptides\n",
    "jx_ids = [idx for idx, coord in enumerate(meta_pep['modifiedExonsCoord']) if 'nan' not in coord]\n",
    "meta_pep = meta_pep.iloc[jx_ids]"
   ]
  },
  {
   "cell_type": "code",
   "execution_count": 226,
   "id": "36598585",
   "metadata": {},
   "outputs": [],
   "source": [
    "# Rename\n",
    "meta_pep = meta_pep.rename(cols_pep_file, axis = 1)"
   ]
  },
  {
   "cell_type": "code",
   "execution_count": 227,
   "id": "93da9bad",
   "metadata": {},
   "outputs": [],
   "source": [
    "# Extract coordinates peptides\n",
    "meta_pep = get_junction_coordinates(meta_pep, 'gtex_modifiedExonsCoord', sep=';')"
   ]
  },
  {
   "cell_type": "code",
   "execution_count": 228,
   "id": "f0a05315",
   "metadata": {},
   "outputs": [
    {
     "name": "stdout",
     "output_type": "stream",
     "text": [
      "Size cancer kmers-junctions 2\n"
     ]
    }
   ],
   "source": [
    "# CANCER SIDE GET BATCH Junctions\n",
    "batch_kmers = filt_meta_pb.loc[filt_meta_pb['batch'] == batch]\n",
    "print(f'Size cancer kmers-junctions {len(batch_kmers)}')"
   ]
  },
  {
   "cell_type": "code",
   "execution_count": 229,
   "id": "bbd9d36a",
   "metadata": {
    "scrolled": true
   },
   "outputs": [
    {
     "name": "stdout",
     "output_type": "stream",
     "text": [
      "Size cancer kmers-junctions + all GTEX peptides 20\n"
     ]
    }
   ],
   "source": [
    "# Add Peptide info \n",
    "meta_pep = meta_pep[list(cols_pep_file.values()) + ['junction_coordinate']].drop_duplicates()\n",
    "batch_kmers = batch_kmers.merge(meta_pep, on = 'junction_coordinate', how = 'left')\n",
    "print(f'Size cancer kmers-junctions + all GTEX peptides {len(batch_kmers)}')"
   ]
  },
  {
   "cell_type": "code",
   "execution_count": 230,
   "id": "ddde8ce5",
   "metadata": {},
   "outputs": [],
   "source": [
    "# Calculate the number of aa fitting on each side of the junctions\n",
    "batch_kmers['gtex_aa_E1'] = batch_kmers['gtex_modifiedExonsCoord'].str.split(';').map(lambda x: abs(int(x[0]) - int(x[1]))/3 )\n",
    "batch_kmers['gtex_aa_E2'] = batch_kmers['gtex_modifiedExonsCoord'].str.split(';').map(lambda x: abs(int(x[2]) - int(x[3]))/3 )\n",
    "batch_kmers['cancer_aa_E1'] = batch_kmers['coord'].str.split(':').map(lambda x: abs(int(x[0]) - int(x[1]))/3 )\n",
    "batch_kmers['cancer_aa_E2'] = batch_kmers['coord'].str.split(':').map(lambda x: abs(int(x[2]) - int(x[3]))/3 )\n",
    "# What about 3 exons?"
   ]
  },
  {
   "cell_type": "code",
   "execution_count": 233,
   "id": "870f426e",
   "metadata": {},
   "outputs": [],
   "source": [
    "# Validate hypothesis: \n",
    "# H1: The second exon is not long enough to get the translation through in GTEX. BUT no exon was added on the right\n",
    "new_col = 'gtexE2<cancE2'\n",
    "batch_kmers[new_col] = True\n",
    "batch_kmers.loc[batch_kmers['gtex_aa_E2'] > batch_kmers['cancer_aa_E2'], 'new_col'] = False"
   ]
  },
  {
   "cell_type": "code",
   "execution_count": 235,
   "id": "c846f0d5",
   "metadata": {},
   "outputs": [],
   "source": [
    "res = batch_kmers[['kmer', new_col ]].drop_duplicates()\n",
    "display(res)"
   ]
  },
  {
   "cell_type": "code",
   "execution_count": 210,
   "id": "5eb564a8",
   "metadata": {},
   "outputs": [
    {
     "data": {
      "text/plain": [
       "0   NaN\n",
       "1   NaN\n",
       "2   NaN\n",
       "3   NaN\n",
       "4   NaN\n",
       "Name: kmerType, dtype: float64"
      ]
     },
     "execution_count": 210,
     "metadata": {},
     "output_type": "execute_result"
    }
   ],
   "source": [
    "meta_pep.kmerType.head()\n"
   ]
  },
  {
   "cell_type": "code",
   "execution_count": null,
   "id": "daa8fb75",
   "metadata": {},
   "outputs": [],
   "source": [
    "#### WHY IS THE PEPTIDE DATA NOT LOADED"
   ]
  },
  {
   "cell_type": "code",
   "execution_count": 216,
   "id": "09ac3f19",
   "metadata": {},
   "outputs": [
    {
     "name": "stdout",
     "output_type": "stream",
     "text": [
      "                                             peptide\n",
      "0                                           SPEGHQAV\n",
      "1                                       ALLSLTCSLSAI\n",
      "2                                              RSSGS\n",
      "3  CPPLPVIPPFTQREVGCETAHIGKSRKPGTGICPSQFYSPDPLPWT...\n",
      "4     VWGKAGDLPTEEGRLVVGGVWGPTEWGREGDSLEGVMGRPQRAQEA\n",
      "\t\n",
      "                                              id\n",
      "0  ENSG00000131771.14:192_240:5:39633883:2-exons\n",
      "1  ENSG00000131771.14:202_236:0:39633891:2-exons\n",
      "2  ENSG00000131771.14:230_nan:1:39634032:2-exons\n",
      "3  ENSG00000131771.14:270_296:3:39635817:2-exons\n",
      "4  ENSG00000131771.14:154_199:0:39632138:2-exons\n",
      "\t\n",
      "   readFrame\n",
      "0          1\n",
      "1          2\n",
      "2          1\n",
      "3          2\n",
      "4          0\n",
      "\t\n",
      "   readFrameAnnotated\n",
      "0               False\n",
      "1               False\n",
      "2               False\n",
      "3               False\n",
      "4               False\n",
      "\t\n",
      "             geneName\n",
      "0  ENSG00000131771.14\n",
      "1  ENSG00000131771.14\n",
      "2  ENSG00000131771.14\n",
      "3  ENSG00000131771.14\n",
      "4  ENSG00000131771.14\n",
      "\t\n",
      "  geneChr\n",
      "0   chr17\n",
      "1   chr17\n",
      "2   chr17\n",
      "3   chr17\n",
      "4   chr17\n",
      "\t\n",
      "  geneStrand\n",
      "0          +\n",
      "1          +\n",
      "2          +\n",
      "3          +\n",
      "4          +\n",
      "\t\n",
      "  mutationMode\n",
      "0          ref\n",
      "1          ref\n",
      "2          ref\n",
      "3          ref\n",
      "4          ref\n",
      "\t\n",
      "   junctionAnnotated\n",
      "0                  1\n",
      "1                  1\n",
      "2                  1\n",
      "3                  1\n",
      "4                  1\n",
      "\t\n",
      "   hasStopCodon\n",
      "0           NaN\n",
      "1           NaN\n",
      "2           NaN\n",
      "3           NaN\n",
      "4           NaN\n",
      "\t\n",
      "   isInJunctionList\n",
      "0                 1\n",
      "1                 1\n",
      "2                 1\n",
      "3                 1\n",
      "4                 1\n",
      "\t\n",
      "   isIsolated\n",
      "0         NaN\n",
      "1         NaN\n",
      "2         NaN\n",
      "3         NaN\n",
      "4         NaN\n",
      "\t\n",
      "   variantComb\n",
      "0          NaN\n",
      "1          NaN\n",
      "2          NaN\n",
      "3          NaN\n",
      "4          NaN\n",
      "\t\n",
      "                        variantSegExpr\n",
      "0  39633883;39634007;39634043;39634084\n",
      "1  39633891;39634010;39634037;39634083\n",
      "2            39634032;39634084;nan;nan\n",
      "3  39635817;39635867;39635921;39636621\n",
      "4  39632138;39633395;39633882;39634086\n",
      "\t\n",
      "                    modifiedExonsCoord\n",
      "0  39633882;39634007;39634043;39634084\n",
      "1  39633890;39634010;39634037;39634084\n",
      "2            39634030;39634084;nan;nan\n",
      "3  39635815;39635867;39635921;39636622\n",
      "4  39632137;39633395;39633882;39634086\n",
      "\t\n",
      "  originalExonsCoord\n",
      "0            192;240\n",
      "1            202;236\n",
      "2            230;nan\n",
      "3            270;296\n",
      "4            154;199\n",
      "\t\n",
      "  vertexIdx\n",
      "0   2-exons\n",
      "1   2-exons\n",
      "2   2-exons\n",
      "3   2-exons\n",
      "4   2-exons\n",
      "\t\n",
      "   junctionExpr\n",
      "0           NaN\n",
      "1           NaN\n",
      "2           NaN\n",
      "3           NaN\n",
      "4           NaN\n",
      "\t\n",
      "   segmentExpr\n",
      "0          NaN\n",
      "1          NaN\n",
      "2          NaN\n",
      "3          NaN\n",
      "4          NaN\n",
      "\t\n",
      "   kmerType\n",
      "0       NaN\n",
      "1       NaN\n",
      "2       NaN\n",
      "3       NaN\n",
      "4       NaN\n",
      "\t\n"
     ]
    }
   ],
   "source": [
    "for col in meta_pep.columns:\n",
    "    print(meta_pep[[col]].head())\n",
    "    print('\\t')"
   ]
  },
  {
   "cell_type": "code",
   "execution_count": 200,
   "id": "a8136514",
   "metadata": {
    "scrolled": true
   },
   "outputs": [
    {
     "data": {
      "text/plain": [
       "0    NaN\n",
       "1    NaN\n",
       "2    NaN\n",
       "3    NaN\n",
       "4    NaN\n",
       "5    NaN\n",
       "6    NaN\n",
       "7    NaN\n",
       "8    NaN\n",
       "9    NaN\n",
       "10   NaN\n",
       "11   NaN\n",
       "12   NaN\n",
       "13   NaN\n",
       "14   NaN\n",
       "15   NaN\n",
       "16   NaN\n",
       "17   NaN\n",
       "18   NaN\n",
       "19   NaN\n",
       "Name: gtex_kmerType, dtype: float64"
      ]
     },
     "execution_count": 200,
     "metadata": {},
     "output_type": "execute_result"
    }
   ],
   "source": [
    "batch_kmers.gtex_kmerType"
   ]
  },
  {
   "cell_type": "markdown",
   "id": "ed46cdb3",
   "metadata": {},
   "source": [
    "### Remove GTEX annotation "
   ]
  },
  {
   "cell_type": "code",
   "execution_count": 14,
   "id": "f1099e0f",
   "metadata": {},
   "outputs": [],
   "source": [
    "path_annot = glob.glob('/cluster/work/grlab/projects/projects2020_OHSU/peptides_generation/GTEX2019_eth/GTEX2019_6920432_ANNOT_conf2_RFall_ref/cohort_mutNone/*/ref_annot_kmer.gz')\n",
    "\n",
    "print(len(path_annot))"
   ]
  },
  {
   "cell_type": "code",
   "execution_count": 28,
   "id": "42dbae2e",
   "metadata": {
    "collapsed": true
   },
   "outputs": [
    {
     "ename": "KeyboardInterrupt",
     "evalue": "",
     "output_type": "error",
     "traceback": [
      "\u001b[0;31m---------------------------------------------------------------------------\u001b[0m",
      "\u001b[0;31mKeyboardInterrupt\u001b[0m                         Traceback (most recent call last)",
      "Cell \u001b[0;32mIn [28], line 3\u001b[0m\n\u001b[1;32m      1\u001b[0m \u001b[38;5;28;01mfor\u001b[39;00m idx, annot \u001b[38;5;129;01min\u001b[39;00m \u001b[38;5;28menumerate\u001b[39m(path_annot):\n\u001b[1;32m      2\u001b[0m     kmers_filter_pipeline \u001b[38;5;241m=\u001b[39m \u001b[38;5;28mlen\u001b[39m(kmer_post_filter)\n\u001b[0;32m----> 3\u001b[0m     annot \u001b[38;5;241m=\u001b[39m \u001b[43mpd\u001b[49m\u001b[38;5;241;43m.\u001b[39;49m\u001b[43mread_csv\u001b[49m\u001b[43m(\u001b[49m\u001b[43mannot\u001b[49m\u001b[43m,\u001b[49m\u001b[43m \u001b[49m\u001b[43msep\u001b[49m\u001b[43m \u001b[49m\u001b[38;5;241;43m=\u001b[39;49m\u001b[43m \u001b[49m\u001b[38;5;124;43m'\u001b[39;49m\u001b[38;5;130;43;01m\\t\u001b[39;49;00m\u001b[38;5;124;43m'\u001b[39;49m\u001b[43m)\u001b[49m\n\u001b[1;32m      4\u001b[0m     annot \u001b[38;5;241m=\u001b[39m \u001b[38;5;28mset\u001b[39m(annot[\u001b[38;5;124m'\u001b[39m\u001b[38;5;124mkmer\u001b[39m\u001b[38;5;124m'\u001b[39m])\n\u001b[1;32m      5\u001b[0m     kmer_post_filter \u001b[38;5;241m=\u001b[39m kmer_post_filter\u001b[38;5;241m.\u001b[39mdifference(annot)\n",
      "File \u001b[0;32m/cluster/customapps/biomed/grlab/users/prelotla/software/miniconda/envs/pep3/lib/python3.9/site-packages/pandas/io/parsers.py:610\u001b[0m, in \u001b[0;36mread_csv\u001b[0;34m(filepath_or_buffer, sep, delimiter, header, names, index_col, usecols, squeeze, prefix, mangle_dupe_cols, dtype, engine, converters, true_values, false_values, skipinitialspace, skiprows, skipfooter, nrows, na_values, keep_default_na, na_filter, verbose, skip_blank_lines, parse_dates, infer_datetime_format, keep_date_col, date_parser, dayfirst, cache_dates, iterator, chunksize, compression, thousands, decimal, lineterminator, quotechar, quoting, doublequote, escapechar, comment, encoding, dialect, error_bad_lines, warn_bad_lines, delim_whitespace, low_memory, memory_map, float_precision, storage_options)\u001b[0m\n\u001b[1;32m    605\u001b[0m kwds_defaults \u001b[38;5;241m=\u001b[39m _refine_defaults_read(\n\u001b[1;32m    606\u001b[0m     dialect, delimiter, delim_whitespace, engine, sep, defaults\u001b[38;5;241m=\u001b[39m{\u001b[38;5;124m\"\u001b[39m\u001b[38;5;124mdelimiter\u001b[39m\u001b[38;5;124m\"\u001b[39m: \u001b[38;5;124m\"\u001b[39m\u001b[38;5;124m,\u001b[39m\u001b[38;5;124m\"\u001b[39m}\n\u001b[1;32m    607\u001b[0m )\n\u001b[1;32m    608\u001b[0m kwds\u001b[38;5;241m.\u001b[39mupdate(kwds_defaults)\n\u001b[0;32m--> 610\u001b[0m \u001b[38;5;28;01mreturn\u001b[39;00m \u001b[43m_read\u001b[49m\u001b[43m(\u001b[49m\u001b[43mfilepath_or_buffer\u001b[49m\u001b[43m,\u001b[49m\u001b[43m \u001b[49m\u001b[43mkwds\u001b[49m\u001b[43m)\u001b[49m\n",
      "File \u001b[0;32m/cluster/customapps/biomed/grlab/users/prelotla/software/miniconda/envs/pep3/lib/python3.9/site-packages/pandas/io/parsers.py:462\u001b[0m, in \u001b[0;36m_read\u001b[0;34m(filepath_or_buffer, kwds)\u001b[0m\n\u001b[1;32m    459\u001b[0m _validate_names(kwds\u001b[38;5;241m.\u001b[39mget(\u001b[38;5;124m\"\u001b[39m\u001b[38;5;124mnames\u001b[39m\u001b[38;5;124m\"\u001b[39m, \u001b[38;5;28;01mNone\u001b[39;00m))\n\u001b[1;32m    461\u001b[0m \u001b[38;5;66;03m# Create the parser.\u001b[39;00m\n\u001b[0;32m--> 462\u001b[0m parser \u001b[38;5;241m=\u001b[39m \u001b[43mTextFileReader\u001b[49m\u001b[43m(\u001b[49m\u001b[43mfilepath_or_buffer\u001b[49m\u001b[43m,\u001b[49m\u001b[43m \u001b[49m\u001b[38;5;241;43m*\u001b[39;49m\u001b[38;5;241;43m*\u001b[39;49m\u001b[43mkwds\u001b[49m\u001b[43m)\u001b[49m\n\u001b[1;32m    464\u001b[0m \u001b[38;5;28;01mif\u001b[39;00m chunksize \u001b[38;5;129;01mor\u001b[39;00m iterator:\n\u001b[1;32m    465\u001b[0m     \u001b[38;5;28;01mreturn\u001b[39;00m parser\n",
      "File \u001b[0;32m/cluster/customapps/biomed/grlab/users/prelotla/software/miniconda/envs/pep3/lib/python3.9/site-packages/pandas/io/parsers.py:819\u001b[0m, in \u001b[0;36mTextFileReader.__init__\u001b[0;34m(self, f, engine, **kwds)\u001b[0m\n\u001b[1;32m    816\u001b[0m \u001b[38;5;28;01mif\u001b[39;00m \u001b[38;5;124m\"\u001b[39m\u001b[38;5;124mhas_index_names\u001b[39m\u001b[38;5;124m\"\u001b[39m \u001b[38;5;129;01min\u001b[39;00m kwds:\n\u001b[1;32m    817\u001b[0m     \u001b[38;5;28mself\u001b[39m\u001b[38;5;241m.\u001b[39moptions[\u001b[38;5;124m\"\u001b[39m\u001b[38;5;124mhas_index_names\u001b[39m\u001b[38;5;124m\"\u001b[39m] \u001b[38;5;241m=\u001b[39m kwds[\u001b[38;5;124m\"\u001b[39m\u001b[38;5;124mhas_index_names\u001b[39m\u001b[38;5;124m\"\u001b[39m]\n\u001b[0;32m--> 819\u001b[0m \u001b[38;5;28mself\u001b[39m\u001b[38;5;241m.\u001b[39m_engine \u001b[38;5;241m=\u001b[39m \u001b[38;5;28;43mself\u001b[39;49m\u001b[38;5;241;43m.\u001b[39;49m\u001b[43m_make_engine\u001b[49m\u001b[43m(\u001b[49m\u001b[38;5;28;43mself\u001b[39;49m\u001b[38;5;241;43m.\u001b[39;49m\u001b[43mengine\u001b[49m\u001b[43m)\u001b[49m\n",
      "File \u001b[0;32m/cluster/customapps/biomed/grlab/users/prelotla/software/miniconda/envs/pep3/lib/python3.9/site-packages/pandas/io/parsers.py:1050\u001b[0m, in \u001b[0;36mTextFileReader._make_engine\u001b[0;34m(self, engine)\u001b[0m\n\u001b[1;32m   1046\u001b[0m     \u001b[38;5;28;01mraise\u001b[39;00m \u001b[38;5;167;01mValueError\u001b[39;00m(\n\u001b[1;32m   1047\u001b[0m         \u001b[38;5;124mf\u001b[39m\u001b[38;5;124m\"\u001b[39m\u001b[38;5;124mUnknown engine: \u001b[39m\u001b[38;5;132;01m{\u001b[39;00mengine\u001b[38;5;132;01m}\u001b[39;00m\u001b[38;5;124m (valid options are \u001b[39m\u001b[38;5;132;01m{\u001b[39;00mmapping\u001b[38;5;241m.\u001b[39mkeys()\u001b[38;5;132;01m}\u001b[39;00m\u001b[38;5;124m)\u001b[39m\u001b[38;5;124m\"\u001b[39m\n\u001b[1;32m   1048\u001b[0m     )\n\u001b[1;32m   1049\u001b[0m \u001b[38;5;66;03m# error: Too many arguments for \"ParserBase\"\u001b[39;00m\n\u001b[0;32m-> 1050\u001b[0m \u001b[38;5;28;01mreturn\u001b[39;00m \u001b[43mmapping\u001b[49m\u001b[43m[\u001b[49m\u001b[43mengine\u001b[49m\u001b[43m]\u001b[49m\u001b[43m(\u001b[49m\u001b[38;5;28;43mself\u001b[39;49m\u001b[38;5;241;43m.\u001b[39;49m\u001b[43mf\u001b[49m\u001b[43m,\u001b[49m\u001b[43m \u001b[49m\u001b[38;5;241;43m*\u001b[39;49m\u001b[38;5;241;43m*\u001b[39;49m\u001b[38;5;28;43mself\u001b[39;49m\u001b[38;5;241;43m.\u001b[39;49m\u001b[43moptions\u001b[49m\u001b[43m)\u001b[49m\n",
      "File \u001b[0;32m/cluster/customapps/biomed/grlab/users/prelotla/software/miniconda/envs/pep3/lib/python3.9/site-packages/pandas/io/parsers.py:1898\u001b[0m, in \u001b[0;36mCParserWrapper.__init__\u001b[0;34m(self, src, **kwds)\u001b[0m\n\u001b[1;32m   1895\u001b[0m     \u001b[38;5;28mself\u001b[39m\u001b[38;5;241m.\u001b[39mhandles\u001b[38;5;241m.\u001b[39mhandle \u001b[38;5;241m=\u001b[39m \u001b[38;5;28mself\u001b[39m\u001b[38;5;241m.\u001b[39mhandles\u001b[38;5;241m.\u001b[39mhandle\u001b[38;5;241m.\u001b[39mmmap  \u001b[38;5;66;03m# type: ignore[union-attr]\u001b[39;00m\n\u001b[1;32m   1897\u001b[0m \u001b[38;5;28;01mtry\u001b[39;00m:\n\u001b[0;32m-> 1898\u001b[0m     \u001b[38;5;28mself\u001b[39m\u001b[38;5;241m.\u001b[39m_reader \u001b[38;5;241m=\u001b[39m \u001b[43mparsers\u001b[49m\u001b[38;5;241;43m.\u001b[39;49m\u001b[43mTextReader\u001b[49m\u001b[43m(\u001b[49m\u001b[38;5;28;43mself\u001b[39;49m\u001b[38;5;241;43m.\u001b[39;49m\u001b[43mhandles\u001b[49m\u001b[38;5;241;43m.\u001b[39;49m\u001b[43mhandle\u001b[49m\u001b[43m,\u001b[49m\u001b[43m \u001b[49m\u001b[38;5;241;43m*\u001b[39;49m\u001b[38;5;241;43m*\u001b[39;49m\u001b[43mkwds\u001b[49m\u001b[43m)\u001b[49m\n\u001b[1;32m   1899\u001b[0m \u001b[38;5;28;01mexcept\u001b[39;00m \u001b[38;5;167;01mException\u001b[39;00m:\n\u001b[1;32m   1900\u001b[0m     \u001b[38;5;28mself\u001b[39m\u001b[38;5;241m.\u001b[39mhandles\u001b[38;5;241m.\u001b[39mclose()\n",
      "File \u001b[0;32m/cluster/customapps/biomed/grlab/users/prelotla/software/miniconda/envs/pep_other/lib/python3.9/site-packages/pandas-1.5.0-py3.9-linux-x86_64.egg/pandas/_libs/parsers.pyx:518\u001b[0m, in \u001b[0;36mpandas._libs.parsers.TextReader.__cinit__\u001b[0;34m()\u001b[0m\n",
      "File \u001b[0;32m/cluster/customapps/biomed/grlab/users/prelotla/software/miniconda/envs/pep_other/lib/python3.9/site-packages/pandas-1.5.0-py3.9-linux-x86_64.egg/pandas/_libs/parsers.pyx:620\u001b[0m, in \u001b[0;36mpandas._libs.parsers.TextReader._get_header\u001b[0;34m()\u001b[0m\n",
      "File \u001b[0;32m/cluster/customapps/biomed/grlab/users/prelotla/software/miniconda/envs/pep_other/lib/python3.9/site-packages/pandas-1.5.0-py3.9-linux-x86_64.egg/pandas/_libs/parsers.pyx:814\u001b[0m, in \u001b[0;36mpandas._libs.parsers.TextReader._tokenize_rows\u001b[0;34m()\u001b[0m\n",
      "File \u001b[0;32m/cluster/customapps/biomed/grlab/users/prelotla/software/miniconda/envs/pep_other/lib/python3.9/site-packages/pandas-1.5.0-py3.9-linux-x86_64.egg/pandas/_libs/parsers.pyx:1943\u001b[0m, in \u001b[0;36mpandas._libs.parsers.raise_parser_error\u001b[0;34m()\u001b[0m\n",
      "File \u001b[0;32m/cluster/customapps/biomed/grlab/users/prelotla/software/miniconda/envs/pep3/lib/python3.9/_compression.py:68\u001b[0m, in \u001b[0;36mDecompressReader.readinto\u001b[0;34m(self, b)\u001b[0m\n\u001b[1;32m     66\u001b[0m \u001b[38;5;28;01mdef\u001b[39;00m \u001b[38;5;21mreadinto\u001b[39m(\u001b[38;5;28mself\u001b[39m, b):\n\u001b[1;32m     67\u001b[0m     \u001b[38;5;28;01mwith\u001b[39;00m \u001b[38;5;28mmemoryview\u001b[39m(b) \u001b[38;5;28;01mas\u001b[39;00m view, view\u001b[38;5;241m.\u001b[39mcast(\u001b[38;5;124m\"\u001b[39m\u001b[38;5;124mB\u001b[39m\u001b[38;5;124m\"\u001b[39m) \u001b[38;5;28;01mas\u001b[39;00m byte_view:\n\u001b[0;32m---> 68\u001b[0m         data \u001b[38;5;241m=\u001b[39m \u001b[38;5;28;43mself\u001b[39;49m\u001b[38;5;241;43m.\u001b[39;49m\u001b[43mread\u001b[49m\u001b[43m(\u001b[49m\u001b[38;5;28;43mlen\u001b[39;49m\u001b[43m(\u001b[49m\u001b[43mbyte_view\u001b[49m\u001b[43m)\u001b[49m\u001b[43m)\u001b[49m\n\u001b[1;32m     69\u001b[0m         byte_view[:\u001b[38;5;28mlen\u001b[39m(data)] \u001b[38;5;241m=\u001b[39m data\n\u001b[1;32m     70\u001b[0m     \u001b[38;5;28;01mreturn\u001b[39;00m \u001b[38;5;28mlen\u001b[39m(data)\n",
      "File \u001b[0;32m/cluster/customapps/biomed/grlab/users/prelotla/software/miniconda/envs/pep3/lib/python3.9/gzip.py:487\u001b[0m, in \u001b[0;36m_GzipReader.read\u001b[0;34m(self, size)\u001b[0m\n\u001b[1;32m    483\u001b[0m \u001b[38;5;28;01mif\u001b[39;00m \u001b[38;5;28mself\u001b[39m\u001b[38;5;241m.\u001b[39m_new_member:\n\u001b[1;32m    484\u001b[0m     \u001b[38;5;66;03m# If the _new_member flag is set, we have to\u001b[39;00m\n\u001b[1;32m    485\u001b[0m     \u001b[38;5;66;03m# jump to the next member, if there is one.\u001b[39;00m\n\u001b[1;32m    486\u001b[0m     \u001b[38;5;28mself\u001b[39m\u001b[38;5;241m.\u001b[39m_init_read()\n\u001b[0;32m--> 487\u001b[0m     \u001b[38;5;28;01mif\u001b[39;00m \u001b[38;5;129;01mnot\u001b[39;00m \u001b[38;5;28;43mself\u001b[39;49m\u001b[38;5;241;43m.\u001b[39;49m\u001b[43m_read_gzip_header\u001b[49m\u001b[43m(\u001b[49m\u001b[43m)\u001b[49m:\n\u001b[1;32m    488\u001b[0m         \u001b[38;5;28mself\u001b[39m\u001b[38;5;241m.\u001b[39m_size \u001b[38;5;241m=\u001b[39m \u001b[38;5;28mself\u001b[39m\u001b[38;5;241m.\u001b[39m_pos\n\u001b[1;32m    489\u001b[0m         \u001b[38;5;28;01mreturn\u001b[39;00m \u001b[38;5;124mb\u001b[39m\u001b[38;5;124m\"\u001b[39m\u001b[38;5;124m\"\u001b[39m\n",
      "File \u001b[0;32m/cluster/customapps/biomed/grlab/users/prelotla/software/miniconda/envs/pep3/lib/python3.9/gzip.py:430\u001b[0m, in \u001b[0;36m_GzipReader._read_gzip_header\u001b[0;34m(self)\u001b[0m\n\u001b[1;32m    429\u001b[0m \u001b[38;5;28;01mdef\u001b[39;00m \u001b[38;5;21m_read_gzip_header\u001b[39m(\u001b[38;5;28mself\u001b[39m):\n\u001b[0;32m--> 430\u001b[0m     magic \u001b[38;5;241m=\u001b[39m \u001b[38;5;28;43mself\u001b[39;49m\u001b[38;5;241;43m.\u001b[39;49m\u001b[43m_fp\u001b[49m\u001b[38;5;241;43m.\u001b[39;49m\u001b[43mread\u001b[49m\u001b[43m(\u001b[49m\u001b[38;5;241;43m2\u001b[39;49m\u001b[43m)\u001b[49m\n\u001b[1;32m    431\u001b[0m     \u001b[38;5;28;01mif\u001b[39;00m magic \u001b[38;5;241m==\u001b[39m \u001b[38;5;124mb\u001b[39m\u001b[38;5;124m'\u001b[39m\u001b[38;5;124m'\u001b[39m:\n\u001b[1;32m    432\u001b[0m         \u001b[38;5;28;01mreturn\u001b[39;00m \u001b[38;5;28;01mFalse\u001b[39;00m\n",
      "File \u001b[0;32m/cluster/customapps/biomed/grlab/users/prelotla/software/miniconda/envs/pep3/lib/python3.9/gzip.py:96\u001b[0m, in \u001b[0;36m_PaddedFile.read\u001b[0;34m(self, size)\u001b[0m\n\u001b[1;32m     93\u001b[0m read \u001b[38;5;241m=\u001b[39m \u001b[38;5;28mself\u001b[39m\u001b[38;5;241m.\u001b[39m_read\n\u001b[1;32m     94\u001b[0m \u001b[38;5;28mself\u001b[39m\u001b[38;5;241m.\u001b[39m_read \u001b[38;5;241m=\u001b[39m \u001b[38;5;28;01mNone\u001b[39;00m\n\u001b[1;32m     95\u001b[0m \u001b[38;5;28;01mreturn\u001b[39;00m \u001b[38;5;28mself\u001b[39m\u001b[38;5;241m.\u001b[39m_buffer[read:] \u001b[38;5;241m+\u001b[39m \\\n\u001b[0;32m---> 96\u001b[0m        \u001b[38;5;28;43mself\u001b[39;49m\u001b[38;5;241;43m.\u001b[39;49m\u001b[43mfile\u001b[49m\u001b[38;5;241;43m.\u001b[39;49m\u001b[43mread\u001b[49m\u001b[43m(\u001b[49m\u001b[43msize\u001b[49m\u001b[38;5;241;43m-\u001b[39;49m\u001b[38;5;28;43mself\u001b[39;49m\u001b[38;5;241;43m.\u001b[39;49m\u001b[43m_length\u001b[49m\u001b[38;5;241;43m+\u001b[39;49m\u001b[43mread\u001b[49m\u001b[43m)\u001b[49m\n",
      "\u001b[0;31mKeyboardInterrupt\u001b[0m: "
     ]
    }
   ],
   "source": [
    "for idx, annot in enumerate(path_annot):\n",
    "    kmers_filter_pipeline = len(kmer_post_filter)\n",
    "    annot = pd.read_csv(annot, sep = '\\t')\n",
    "    annot = set(annot['kmer'])\n",
    "    kmer_post_filter = kmer_post_filter.difference(annot)\n",
    "    if kmers_filter_pipeline != len(kmer_post_filter):\n",
    "        print(path_annot[idx], len(kmer_post_filter))"
   ]
  },
  {
   "cell_type": "code",
   "execution_count": null,
   "id": "d54a3902",
   "metadata": {},
   "outputs": [],
   "source": []
  }
 ],
 "metadata": {
  "kernelspec": {
   "display_name": "Python 3 (ipykernel)",
   "language": "python",
   "name": "python3"
  },
  "language_info": {
   "codemirror_mode": {
    "name": "ipython",
    "version": 3
   },
   "file_extension": ".py",
   "mimetype": "text/x-python",
   "name": "python",
   "nbconvert_exporter": "python",
   "pygments_lexer": "ipython3",
   "version": "3.9.13"
  }
 },
 "nbformat": 4,
 "nbformat_minor": 5
}
