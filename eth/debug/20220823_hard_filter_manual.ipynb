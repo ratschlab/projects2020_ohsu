{
 "cells": [
  {
   "cell_type": "code",
   "execution_count": null,
   "metadata": {
    "ExecuteTime": {
     "start_time": "2022-08-23T16:17:46.721Z"
    }
   },
   "outputs": [],
   "source": [
    "import pyarrow.parquet as pq\n",
    "import pyarrow as pa\n",
    "import glob\n",
    "import numpy as np"
   ]
  },
  {
   "cell_type": "code",
   "execution_count": null,
   "metadata": {
    "ExecuteTime": {
     "start_time": "2022-08-23T16:17:46.722Z"
    }
   },
   "outputs": [],
   "source": [
    "pa.__version__\n"
   ]
  },
  {
   "cell_type": "code",
   "execution_count": null,
   "metadata": {
    "ExecuteTime": {
     "start_time": "2022-08-23T16:17:46.723Z"
    }
   },
   "outputs": [],
   "source": [
    "path_partition_breast_junctions  = '/cluster/work/grlab/projects/projects2020_OHSU/peptides_generation/commit_v3_TEST_merged3_372a147_medium_run_conf2_annotFrame_cap0_runs/selected_genes_rerun1/select_breast_junct_Expr'"
   ]
  },
  {
   "cell_type": "code",
   "execution_count": null,
   "metadata": {
    "ExecuteTime": {
     "start_time": "2022-08-23T16:17:46.725Z"
    }
   },
   "outputs": [],
   "source": [
    "# Note the index of both segment and junction file should be the same. \n",
    "# To remove ALL, can junst remove one of them, regardless of junctions \n",
    "path_partition_GTEX_junctions  = '/cluster/work/grlab/projects/projects2020_OHSU/peptides_generation/commit_v3_TEST_merged3_372a147_medium_run_conf2_annotFrame_cap0_runs/selected_genes_rerun1/select_gtex_realign_junct_Expr'"
   ]
  },
  {
   "cell_type": "code",
   "execution_count": null,
   "metadata": {
    "ExecuteTime": {
     "start_time": "2022-08-23T16:17:46.726Z"
    }
   },
   "outputs": [],
   "source": [
    "All_partition_GTEX_junctions = glob.glob(path_partition_GTEX_junctions + '/*')"
   ]
  },
  {
   "cell_type": "code",
   "execution_count": null,
   "metadata": {
    "ExecuteTime": {
     "start_time": "2022-08-23T16:17:46.726Z"
    }
   },
   "outputs": [],
   "source": [
    "All_partition_breast_junctions = glob.glob(path_partition_breast_junctions + '/*')"
   ]
  },
  {
   "cell_type": "code",
   "execution_count": null,
   "metadata": {
    "ExecuteTime": {
     "start_time": "2022-08-23T16:17:46.727Z"
    }
   },
   "outputs": [],
   "source": [
    "len(All_partition_GTEX_junctions)"
   ]
  },
  {
   "cell_type": "code",
   "execution_count": null,
   "metadata": {
    "ExecuteTime": {
     "start_time": "2022-08-23T16:17:46.728Z"
    }
   },
   "outputs": [],
   "source": [
    "len(All_partition_breast_junctions)"
   ]
  },
  {
   "cell_type": "code",
   "execution_count": null,
   "metadata": {
    "ExecuteTime": {
     "start_time": "2022-08-23T16:17:46.729Z"
    }
   },
   "outputs": [],
   "source": [
    "gtex_total_kmers = 0\n",
    "gtex_total_kmers_rf_annot = 0 \n",
    "set_gtex_kmers = set()\n",
    "brca_concat = []\n",
    "\n",
    "for idx in np.arange(len(All_partition_GTEX_junctions)):\n",
    "    table_gtex = pq.read_table(All_partition_GTEX_junctions[idx], \n",
    "                               columns = ['kmer', 'readFrameAnnotated'])\n",
    "    table_brca = pq.read_table(All_partition_breast_junctions[idx])\n",
    "    pd_table_gtex = table_gtex.to_pandas()\n",
    "    pd_table_brca = table_brca.to_pandas()\n",
    "\n",
    "    gtex_total_kmers += pd_table_gtex.shape[0]\n",
    "    pd_table_gtex = pd_table_gtex.loc[pd_table_gtex['readFrameAnnotated'] == 1.0]\n",
    "    pd_table_brca = pd_table_brca.loc[pd_table_brca['readFrameAnnotated'] == 1.0]\n",
    "    gtex_total_kmers_rf_annot += pd_table_gtex.shape[0]\n",
    "    \n",
    "    \n",
    "    set_gtex = set(pd_table_gtex['kmer'])\n",
    "    set_brca = set(pd_table_brca['kmer'])\n",
    "    #reduce brca gene wise\n",
    "    set_brca = set_brca.difference(set_gtex)\n",
    "    brca_concat.append(pd_table_brca.set_index('kmer').loc[set_brca])\n",
    "    set_gtex_kmers.update(set_gtex)\n",
    "    print(idx)\n"
   ]
  },
  {
   "cell_type": "code",
   "execution_count": null,
   "metadata": {},
   "outputs": [],
   "source": []
  }
 ],
 "metadata": {
  "kernelspec": {
   "display_name": "myimmuno3_light",
   "language": "python",
   "name": "myimmuno3_light"
  },
  "language_info": {
   "codemirror_mode": {
    "name": "ipython",
    "version": 3
   },
   "file_extension": ".py",
   "mimetype": "text/x-python",
   "name": "python",
   "nbconvert_exporter": "python",
   "pygments_lexer": "ipython3",
   "version": "3.8.5"
  }
 },
 "nbformat": 4,
 "nbformat_minor": 4
}
