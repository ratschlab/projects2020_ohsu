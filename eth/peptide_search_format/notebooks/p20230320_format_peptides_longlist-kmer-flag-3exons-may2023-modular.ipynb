{
 "cells": [
  {
   "cell_type": "code",
   "execution_count": 1,
   "metadata": {
    "ExecuteTime": {
     "end_time": "2022-06-24T08:21:01.739750Z",
     "start_time": "2022-06-24T08:20:59.397721Z"
    }
   },
   "outputs": [],
   "source": [
    "import os \n",
    "import pandas as pd\n",
    "from collections import defaultdict\n",
    "import numpy as np \n",
    "import glob\n",
    "import gzip\n",
    "import pickle\n",
    "from helper_modular import *"
   ]
  },
  {
   "cell_type": "markdown",
   "metadata": {},
   "source": [
    "# Previous steps\n"
   ]
  },
  {
   "cell_type": "markdown",
   "metadata": {},
   "source": [
    "### Step 1: "
   ]
  },
  {
   "cell_type": "markdown",
   "metadata": {},
   "source": [
    "\n",
    "Get a list of kmers passing the filtering.\n",
    "Can also be a kmer \"longlist\" which is a pool of kmers from multiple filter experiments. The peptide to experiment correspondance will then be stored in a table.\n"
   ]
  },
  {
   "cell_type": "markdown",
   "metadata": {},
   "source": [
    "### Step 2"
   ]
  },
  {
   "cell_type": "markdown",
   "metadata": {},
   "source": [
    "Given a list of kmers, grep the corresponding metadata information from the ImmunoPepper metadata file (very big, no kmer information) "
   ]
  },
  {
   "cell_type": "markdown",
   "metadata": {
    "ExecuteTime": {
     "end_time": "2022-02-25T15:16:53.158318Z",
     "start_time": "2022-02-25T15:16:53.155867Z"
    }
   },
   "source": [
    "See /GitHub/projects2020_ohsu/eth/peptide_search_format/p20220115_format_peptides_longlist_pr\n",
    "ior.sh"
   ]
  },
  {
   "cell_type": "markdown",
   "metadata": {},
   "source": [
    "### Step 3. \n",
    "\n"
   ]
  },
  {
   "cell_type": "markdown",
   "metadata": {
    "ExecuteTime": {
     "end_time": "2022-06-10T16:33:59.242716Z",
     "start_time": "2022-06-10T16:33:59.161360Z"
    }
   },
   "source": [
    "This notebook performs the following tasks * Given a kmer_metadata file, generate a fasta file with metadata relevant for the tryptic digestion 2. A table containing the peptide IDs per sample \n"
   ]
  },
  {
   "cell_type": "markdown",
   "metadata": {},
   "source": [
    "# Define Samples\n"
   ]
  },
  {
   "cell_type": "code",
   "execution_count": 2,
   "metadata": {
    "ExecuteTime": {
     "end_time": "2022-06-24T08:21:01.749461Z",
     "start_time": "2022-06-24T08:21:01.744414Z"
    }
   },
   "outputs": [
    {
     "name": "stdout",
     "output_type": "stream",
     "text": [
      "/cluster/work/grlab/projects/projects2020_OHSU/peptides_generation/CANCER_eth/commit_c4dd02c_conf2_Frame_cap0_runs/TCGA_Ovarian_374/filtering_samples/filters_19May_order_5ge_wAnnot_GPstar\n"
     ]
    }
   ],
   "source": [
    "### Paths ###\n",
    "# Inputs\n",
    "run_type = 'ov'\n",
    "\n",
    "if run_type == 'brca':\n",
    "    samples = ['TCGA-C8-A12P-01A-11R-A115-07',\n",
    "                      'TCGA-AO-A0JM-01A-21R-A056-07',\n",
    "                      'TCGA-BH-A18V-01A-11R-A12D-07',\n",
    "                      'TCGA-A2-A0D2-01A-21R-A034-07',\n",
    "                      'TCGA-A2-A0SX-01A-12R-A084-07']\n",
    "    basefolder = '/cluster/work/grlab/projects/projects2020_OHSU/peptides_generation/CANCER_eth/commit_c4dd02c_conf2_Frame_cap0_runs/TCGA_Breast_1102'\n",
    "elif run_type == 'ov':\n",
    "    samples = ['TCGA-25-1319-01A-01R-1565-13',\n",
    "                      'TCGA-25-1313-01A-01R-1565-13',\n",
    "                      'TCGA-61-2008-01A-02R-1568-13',\n",
    "                      'TCGA-24-1431-01A-01R-1566-13',\n",
    "                      'TCGA-24-2298-01A-01R-1569-13']\n",
    "    basefolder = '/cluster/work/grlab/projects/projects2020_OHSU/peptides_generation/CANCER_eth/commit_c4dd02c_conf2_Frame_cap0_runs/TCGA_Ovarian_374'\n",
    "    \n",
    "\n",
    "# Outputs\n",
    "filter_folder = 'filtering_samples/filters_19May_order_5ge_wAnnot_GPstar'\n",
    "experiment_folder = os.path.join(basefolder, filter_folder)\n",
    "\n",
    "# OPTIONAL Inputs\n",
    "metadata_pooled = os.path.join(basefolder, experiment_folder, 'peptides.tsv.gz')\n",
    "longlists = glob.glob(os.path.join(basefolder, experiment_folder, '*longlist*'))\n",
    "print(experiment_folder)\n",
    "whitelist_kmer = None\n"
   ]
  },
  {
   "cell_type": "markdown",
   "metadata": {},
   "source": [
    "# Preprocess the annotation \n",
    "### Input: Annotation"
   ]
  },
  {
   "cell_type": "code",
   "execution_count": 3,
   "metadata": {
    "ExecuteTime": {
     "end_time": "2022-06-24T08:21:01.805779Z",
     "start_time": "2022-06-24T08:21:01.800912Z"
    }
   },
   "outputs": [],
   "source": [
    "### Annotation coordinates ###\n",
    "\n",
    "ann_path = '/cluster/work/grlab/projects/projects2020_OHSU/annotation/gencode.v32.annotation.gtf'\n",
    "\n",
    "transcript_to_gene_dict, gene_to_transcript_dict, \\\n",
    "gene_cds_begin_dict, transcript_to_cds_dict, \\\n",
    "transcript_cds_begin_dict, transcript_to_strand = preprocess_annot_custom(ann_path)\n",
    "\n",
    "gene_cds_begin_dict_bis, gene_cds_end_dict_bis = my_CDS_collection( \\\n",
    "                                                 transcript_to_gene_dict, gene_cds_begin_dict, \\\n",
    "                                                 transcript_to_cds_dict, \\\n",
    "                                                 transcript_cds_begin_dict, transcript_to_strand)"
   ]
  },
  {
   "cell_type": "markdown",
   "metadata": {},
   "source": [
    "# Step 4. Format the peptide raw file  \n",
    "### Input:  file meta with kmers and bi-exons matching the longlist of the samples "
   ]
  },
  {
   "cell_type": "code",
   "execution_count": 4,
   "metadata": {},
   "outputs": [],
   "source": [
    "def extract_peptide_fields(pep):\n",
    "    cols_correct = ['kmer', 'kmer_coord', 'peptide','id','readFrame','readFrameAnnotated','geneName','geneChr','geneStrand',\n",
    "    'mutationMode','hasStopCodon','isInJunctionList',\n",
    "    'isIsolated','variantComb','variantSegExpr','modifiedExonsCoord',\n",
    "    'originalExonsCoord',\n",
    "    'vertexIdx','kmerType', 'dummy1', 'dummy2', 'dummy3']\n",
    "    res = {}\n",
    "\n",
    "    if len(pep) == 2: # Case where we have a tuple\n",
    "        pep = pep[1]\n",
    "        \n",
    "    for idx, p in enumerate(pep):\n",
    "        res[cols_correct[idx]] = p\n",
    "    return res "
   ]
  },
  {
   "cell_type": "code",
   "execution_count": 33,
   "metadata": {
    "scrolled": true
   },
   "outputs": [
    {
     "name": "stdout",
     "output_type": "stream",
     "text": [
      "TCGA-24-2298-01A-01R-1569-13\n"
     ]
    }
   ],
   "source": [
    "sample = samples[4]\n",
    "print(sample)"
   ]
  },
  {
   "cell_type": "code",
   "execution_count": 34,
   "metadata": {
    "ExecuteTime": {
     "end_time": "2022-06-24T08:21:50.188524Z",
     "start_time": "2022-06-24T08:21:50.185913Z"
    }
   },
   "outputs": [],
   "source": [
    "### Files ###\n",
    "\n",
    "# Meta Input File\n",
    "file_meta = os.path.join(experiment_folder, f'G_{sample}_grep_metadata_raw.tsv.gz')\n",
    "file_meta = None\n",
    "\n",
    "# Fasta output File\n",
    "if not whitelist_kmer:\n",
    "    file_save = os.path.join(experiment_folder, f'G_{sample}_pool_kmer.fa')\n",
    "else:\n",
    "    file_save = os.path.join(experiment_folder, f'G_{sample}_pool_kmer.fa')\n",
    "\n"
   ]
  },
  {
   "cell_type": "code",
   "execution_count": 35,
   "metadata": {},
   "outputs": [],
   "source": [
    "### OPTIONAL: Restrict the fasta to a whitelist ###\n",
    "whitelist_kmer = False  \n",
    "if whitelist_kmer:\n",
    "    with open(os.path.join(experiment_folder, 'G_TCGA_Allsamples_intersect.pickle'), 'rb') as handle:\n",
    "        whitelist_kmer = pickle.load(handle)\n",
    "    print(len(whitelist_kmer))\n"
   ]
  },
  {
   "cell_type": "code",
   "execution_count": 36,
   "metadata": {},
   "outputs": [
    {
     "name": "stdout",
     "output_type": "stream",
     "text": [
      "(3160507, 26)\n",
      "read /cluster/work/grlab/projects/projects2020_OHSU/peptides_generation/CANCER_eth/commit_c4dd02c_conf2_Frame_cap0_runs/TCGA_Ovarian_374/filtering_samples/filters_19May_order_5ge_wAnnot_GPstar/G_TCGA-24-2298-01A-01R-1569-13_kmer_longlist.tsv.gz\n",
      "(145355, 2)\n",
      "(1152479, 22)\n"
     ]
    }
   ],
   "source": [
    "### OPTIONAL: Pooled kmer-metadata all filtering output ###\n",
    "if metadata_pooled:\n",
    "    # reads pooled metadata\n",
    "    meta_pooled = pd.read_csv(metadata_pooled, sep = '\\t')\n",
    "    #display(meta_pooled.head())\n",
    "    print(meta_pooled.shape)\n",
    "    meta_pooled = meta_pooled.drop_duplicates()\n",
    "\n",
    "    # get longlist fr sample\n",
    "    longlist = [i for i in longlists if sample in i][0]\n",
    "    print(f'read {longlist}')\n",
    "    kmers_sample_long = pd.read_csv(longlist, sep = '\\t', header = None)\n",
    "    kmers_sample_long.columns = ['kmer', 'coord']\n",
    "    #display(kmers_sample_long.head())\n",
    "    print(kmers_sample_long.shape)\n",
    "\n",
    "    # extract raw metadata from longlist\n",
    "    raw_metadata = meta_pooled.merge(kmers_sample_long, how = 'inner', on = ['kmer', 'coord'])\n",
    "\n",
    "    # some data wrangling to align with previous pipeline\n",
    "    raw_metadata = raw_metadata.drop(['strand', 'keep', \n",
    "                                    'junction_coordinate1', 'junction_coordinate2'], axis = 1)\n",
    "    raw_metadata = raw_metadata.iloc[:, [1, 0] + list(np.arange(2, len(raw_metadata.columns))) ]\n",
    "    print(raw_metadata.shape)\n",
    "    #display(meta_pooled.head())\n",
    "else:\n",
    "    meta_pooled = None"
   ]
  },
  {
   "cell_type": "code",
   "execution_count": 37,
   "metadata": {},
   "outputs": [],
   "source": [
    "# # Small Test \n",
    "# print(file_meta)\n",
    "# ! zcat {file_meta} | head -2 \n",
    "# lines = readlines_custom(file_meta)\n",
    "# for line in lines[0:3]:\n",
    "#     res = extract_peptide_fields(line)\n",
    "#     print(res)"
   ]
  },
  {
   "cell_type": "code",
   "execution_count": 38,
   "metadata": {},
   "outputs": [],
   "source": [
    "file_meta"
   ]
  },
  {
   "cell_type": "code",
   "execution_count": 39,
   "metadata": {
    "ExecuteTime": {
     "end_time": "2022-06-24T08:21:51.529894Z",
     "start_time": "2022-06-24T08:21:50.333790Z"
    }
   },
   "outputs": [
    {
     "name": "stdout",
     "output_type": "stream",
     "text": [
      "written to:\n",
      "/cluster/work/grlab/projects/projects2020_OHSU/peptides_generation/CANCER_eth/commit_c4dd02c_conf2_Frame_cap0_runs/TCGA_Ovarian_374/filtering_samples/filters_19May_order_5ge_wAnnot_GPstar/G_TCGA-24-2298-01A-01R-1569-13_pool_kmer.fa\n"
     ]
    }
   ],
   "source": [
    "### Main ###\n",
    "\n",
    "subset_run_test = False\n",
    "write_ = True\n",
    "print_= False\n",
    "test = 0 \n",
    "\n",
    "pep_idx = 0 \n",
    "peptide_junctions = set()\n",
    "\n",
    "with open(file_save, 'w') as sp: # Fasta file to save\n",
    "    \n",
    "    ### Iterate over peptides \n",
    "    lines = readlines_custom(file_=file_meta, pandas_df=raw_metadata)\n",
    "    for line in lines:\n",
    "        res = extract_peptide_fields(line)\n",
    "        \n",
    "        if whitelist_kmer and res['kmer'] not in whitelist_kmer:\n",
    "            continue\n",
    "            \n",
    "\n",
    "        # some peptides do not contain a junction\n",
    "        if int(res['isIsolated']):\n",
    "            continue \n",
    "            \n",
    "        # Genomic coordinates : get include 3' or 5' flag \n",
    "        res['originalExonsCoord'] = split_coord(res['originalExonsCoord'])\n",
    "        start_cds = [ first_exon[0] for first_exon in gene_cds_begin_dict_bis[res['geneName']] ] \n",
    "        end_cds = [ last_exon[1] for last_exon in gene_cds_end_dict_bis[res['geneName']] ] \n",
    "        pep_start, pep_end = extract_end_starts(res['originalExonsCoord'], res['geneStrand'])\n",
    "        pep_5include, pep_3include = get_include_flag(start_cds, end_cds, \n",
    "                                                      pep_start, pep_end, \n",
    "                                                      res['hasStopCodon'] )\n",
    "\n",
    "        # Modified genomic coordinates: \n",
    "        res['modifiedExonsCoord'] = split_coord(res['modifiedExonsCoord'])\n",
    "        if len(res['modifiedExonsCoord']) <=2:\n",
    "            continue\n",
    "            \n",
    "            \n",
    "        jx_list, shift_list, jx_list_ori = get_nt_len_with_aa_shift(res['modifiedExonsCoord'])\n",
    "        # get \"junction position\" flag\n",
    "        aa_junction_pos, between_codons, \\\n",
    "        aa_junction_pos1, between_codons1, \\\n",
    "        aa_junction_pos1_from_start = get_aaPos_betweenFlag(shift_list, jx_list)\n",
    "        #get \"genomic coordinates\" flag \n",
    "        genome_junction_pos, \\\n",
    "        genome_junction_pos1 = get_genomic_coordinates(res['modifiedExonsCoord'], res['geneStrand'])\n",
    "\n",
    "\n",
    "#             print_stats(print_, res['kmer'], res['peptide'], res['geneStrand'], res['originalExonsCoord'], \n",
    "#                         res['modifiedExonsCoord'], jx_list, jx_list_ori, genome_junction_pos,\n",
    "#                         genome_junction_pos1, aa_junction_pos, aa_junction_pos1, \n",
    "#                         between_codons, between_codons1)\n",
    "        \n",
    "        # Get the 2 peptides sequences \n",
    "        jx_pep1, jx_pep2 = cut_peptides(res['peptide'], jx_list, between_codons,\n",
    "                                            between_codons1, aa_junction_pos, \n",
    "                                            aa_junction_pos1, \n",
    "                                            aa_junction_pos1_from_start, \n",
    "                                            print_=print_)\n",
    "\n",
    "        # skip duplicates (Issue 3-exons?)\n",
    "        if (str(genome_junction_pos) + str(genome_junction_pos1) + res['peptide'] in peptide_junctions):\n",
    "            continue\n",
    "        else:\n",
    "            peptide_junctions.add(str(genome_junction_pos) + str(genome_junction_pos1) + res['peptide'] )\n",
    "            pep_idx +=1\n",
    "\n",
    "\n",
    "        # write fasta file \n",
    "        write_fasta(write_, sp, res['peptide'], pep_idx, aa_junction_pos, \n",
    "                    aa_junction_pos1_from_start, between_codons, between_codons1,\n",
    "                    pep_5include, pep_3include, res['geneName'], \n",
    "                    genome_junction_pos, genome_junction_pos1, \n",
    "                    res['kmer'], jx_pep1, jx_pep2, res['readFrameAnnotated'], \\\n",
    "                    res['kmer_coord'], res['kmerType'], res['geneStrand'], do_write=True)\n",
    "    \n",
    "\n",
    "if write_:\n",
    "    print('written to:')\n",
    "    print(file_save)\n"
   ]
  },
  {
   "cell_type": "code",
   "execution_count": null,
   "metadata": {},
   "outputs": [],
   "source": []
  },
  {
   "cell_type": "code",
   "execution_count": null,
   "metadata": {},
   "outputs": [],
   "source": []
  }
 ],
 "metadata": {
  "kernelspec": {
   "display_name": "pep3",
   "language": "python",
   "name": "pep3"
  },
  "language_info": {
   "codemirror_mode": {
    "name": "ipython",
    "version": 3
   },
   "file_extension": ".py",
   "mimetype": "text/x-python",
   "name": "python",
   "nbconvert_exporter": "python",
   "pygments_lexer": "ipython3",
   "version": "3.9.13"
  }
 },
 "nbformat": 4,
 "nbformat_minor": 4
}
