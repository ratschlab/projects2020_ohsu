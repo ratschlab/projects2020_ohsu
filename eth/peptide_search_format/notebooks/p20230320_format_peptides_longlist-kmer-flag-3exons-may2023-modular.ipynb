{
 "cells": [
  {
   "cell_type": "code",
   "execution_count": 1,
   "metadata": {
    "ExecuteTime": {
     "end_time": "2022-06-24T08:21:01.739750Z",
     "start_time": "2022-06-24T08:20:59.397721Z"
    }
   },
   "outputs": [],
   "source": [
    "%load_ext autoreload\n",
    "%autoreload 2\n",
    "import os \n",
    "import pandas as pd\n",
    "from collections import defaultdict\n",
    "import numpy as np \n",
    "import glob\n",
    "import gzip\n",
    "import pickle\n",
    "from helper_longlist import *"
   ]
  },
  {
   "cell_type": "markdown",
   "metadata": {},
   "source": [
    "# Previous steps\n"
   ]
  },
  {
   "cell_type": "markdown",
   "metadata": {},
   "source": [
    "### Step 1: "
   ]
  },
  {
   "cell_type": "markdown",
   "metadata": {},
   "source": [
    "\n",
    "Get a list of kmers passing the filtering.\n",
    "Can also be a kmer \"longlist\" which is a pool of kmers from multiple filter experiments. The peptide to experiment correspondance will then be stored in a table.\n"
   ]
  },
  {
   "cell_type": "markdown",
   "metadata": {},
   "source": [
    "### Step 2"
   ]
  },
  {
   "cell_type": "markdown",
   "metadata": {},
   "source": [
    "Given a list of kmers, grep the corresponding metadata information from the ImmunoPepper metadata file (very big, no kmer information) "
   ]
  },
  {
   "cell_type": "markdown",
   "metadata": {
    "ExecuteTime": {
     "end_time": "2022-02-25T15:16:53.158318Z",
     "start_time": "2022-02-25T15:16:53.155867Z"
    }
   },
   "source": [
    "See /GitHub/projects2020_ohsu/eth/peptide_search_format/p20220115_format_peptides_longlist_pr\n",
    "ior.sh"
   ]
  },
  {
   "cell_type": "markdown",
   "metadata": {},
   "source": [
    "### Step 3. \n",
    "\n"
   ]
  },
  {
   "cell_type": "markdown",
   "metadata": {
    "ExecuteTime": {
     "end_time": "2022-06-10T16:33:59.242716Z",
     "start_time": "2022-06-10T16:33:59.161360Z"
    }
   },
   "source": [
    "This notebook performs the following tasks * Given a kmer_metadata file, generate a fasta file with metadata relevant for the tryptic digestion 2. A table containing the peptide IDs per sample \n"
   ]
  },
  {
   "cell_type": "markdown",
   "metadata": {},
   "source": [
    "# Define Samples\n"
   ]
  },
  {
   "cell_type": "code",
   "execution_count": 2,
   "metadata": {
    "ExecuteTime": {
     "end_time": "2022-06-24T08:21:01.749461Z",
     "start_time": "2022-06-24T08:21:01.744414Z"
    }
   },
   "outputs": [
    {
     "name": "stdout",
     "output_type": "stream",
     "text": [
      "TCGA-25-1319-01A-01R-1565-13\n",
      "/cluster/work/grlab/projects/projects2020_OHSU/peptides_generation/CANCER_eth/commit_c4dd02c_conf2_Frame_cap0_runs/TCGA_Ovarian_374/filtering_samples/filters_19May_order_5ge_wAnnot_GPstar\n"
     ]
    }
   ],
   "source": [
    "### Paths INPUTS ###\n",
    "run_type = 'ov'\n",
    "filter_folder = 'filtering_samples/filters_19May_order_5ge_wAnnot_GPstar'\n",
    "sample_idx = 0\n",
    "\n",
    "if run_type == 'brca':\n",
    "    basefolder = '/cluster/work/grlab/projects/projects2020_OHSU/peptides_generation/CANCER_eth/commit_c4dd02c_conf2_Frame_cap0_runs/TCGA_Breast_1102'\n",
    "    samples = ['TCGA-C8-A12P-01A-11R-A115-07',\n",
    "                      'TCGA-AO-A0JM-01A-21R-A056-07',\n",
    "                      'TCGA-BH-A18V-01A-11R-A12D-07',\n",
    "                      'TCGA-A2-A0D2-01A-21R-A034-07',\n",
    "                      'TCGA-A2-A0SX-01A-12R-A084-07']\n",
    "    sample = samples[sample_idx]\n",
    "    print(sample)  \n",
    "    \n",
    "    experiment_folder = os.path.join(basefolder, filter_folder)\n",
    "    file_meta = os.path.join(experiment_folder, f'G_{sample}_grep_metadata_raw.tsv.gz') # Generated with Grep\n",
    "    metadata_pooled = None\n",
    "\n",
    "    \n",
    "    \n",
    "elif run_type == 'ov':\n",
    "    basefolder = '/cluster/work/grlab/projects/projects2020_OHSU/peptides_generation/CANCER_eth/commit_c4dd02c_conf2_Frame_cap0_runs/TCGA_Ovarian_374'\n",
    "    samples = ['TCGA-25-1319-01A-01R-1565-13',\n",
    "                      'TCGA-25-1313-01A-01R-1565-13',\n",
    "                      'TCGA-61-2008-01A-02R-1568-13',\n",
    "                      'TCGA-24-1431-01A-01R-1566-13',\n",
    "                      'TCGA-24-2298-01A-01R-1569-13']\n",
    "    sample = samples[sample_idx]\n",
    "    print(sample)  \n",
    "    \n",
    "    experiment_folder = os.path.join(basefolder, filter_folder)    \n",
    "    file_meta = None\n",
    "    metadata_pooled = os.path.join(basefolder, experiment_folder, 'peptides_25012024.tsv.gz') # Generated with a notebook\n",
    "\n",
    "    \n",
    "\n",
    "\n",
    "# OPTIONAL Inputs\n",
    "longlists = glob.glob(os.path.join(basefolder, experiment_folder, '*longlist*'))\n",
    "print(experiment_folder)\n",
    "whitelist_kmer = None\n"
   ]
  },
  {
   "cell_type": "code",
   "execution_count": 3,
   "metadata": {},
   "outputs": [],
   "source": [
    "### Files OUTPUT ###\n",
    "\n",
    "# Fasta output File\n",
    "if not whitelist_kmer:\n",
    "    file_save = os.path.join(experiment_folder, f'G_{sample}_pool_kmer_25012024.fa')\n",
    "else:\n",
    "    file_save = os.path.join(experiment_folder, f'G_{sample}_pool_kmer_25012024.fa')\n"
   ]
  },
  {
   "cell_type": "markdown",
   "metadata": {},
   "source": [
    "# Preprocess the annotation \n",
    "### Input: Annotation"
   ]
  },
  {
   "cell_type": "code",
   "execution_count": 4,
   "metadata": {
    "ExecuteTime": {
     "end_time": "2022-06-24T08:21:01.805779Z",
     "start_time": "2022-06-24T08:21:01.800912Z"
    }
   },
   "outputs": [],
   "source": [
    "### Annotation coordinates ###\n",
    "\n",
    "ann_path = '/cluster/work/grlab/projects/projects2020_OHSU/annotation/gencode.v32.annotation.gtf'\n",
    "\n",
    "transcript_to_gene_dict, gene_to_transcript_dict, \\\n",
    "gene_cds_begin_dict, transcript_to_cds_dict, \\\n",
    "transcript_cds_begin_dict, transcript_to_strand = preprocess_annot_custom(ann_path)\n",
    "\n",
    "gene_cds_begin_dict_bis, gene_cds_end_dict_bis = my_CDS_collection( \\\n",
    "                                                 transcript_to_gene_dict, gene_cds_begin_dict, \\\n",
    "                                                 transcript_to_cds_dict, \\\n",
    "                                                 transcript_cds_begin_dict, transcript_to_strand)"
   ]
  },
  {
   "cell_type": "markdown",
   "metadata": {},
   "source": [
    "# Step 4. Format the peptide raw file  \n",
    "### Input:  file meta with kmers and bi-exons matching the longlist of the samples "
   ]
  },
  {
   "cell_type": "code",
   "execution_count": 5,
   "metadata": {},
   "outputs": [],
   "source": [
    "def extract_peptide_fields(pep):\n",
    "    cols_correct = ['kmer', 'kmer_coord', 'peptide','id','readFrame','readFrameAnnotated','geneName','geneChr','geneStrand',\n",
    "    'mutationMode','hasStopCodon','isInJunctionList',\n",
    "    'isIsolated','variantComb','variantSegExpr','modifiedExonsCoord',\n",
    "    'originalExonsCoord',\n",
    "    'vertexIdx','kmerType', 'dummy1', 'dummy2', 'dummy3']\n",
    "    res = {}\n",
    "\n",
    "    if len(pep) == 2: # Case where we have a tuple\n",
    "        pep = pep[1]\n",
    "        \n",
    "    for idx, p in enumerate(pep):\n",
    "        res[cols_correct[idx]] = p\n",
    "    return res "
   ]
  },
  {
   "cell_type": "code",
   "execution_count": 6,
   "metadata": {},
   "outputs": [],
   "source": [
    "### OPTIONAL: Restrict the fasta to a whitelist ###\n",
    "whitelist_kmer = False  \n",
    "if whitelist_kmer:\n",
    "    with open(os.path.join(experiment_folder, 'G_TCGA_Allsamples_intersect.pickle'), 'rb') as handle:\n",
    "        whitelist_kmer = pickle.load(handle)\n",
    "    print(len(whitelist_kmer))\n"
   ]
  },
  {
   "cell_type": "code",
   "execution_count": 7,
   "metadata": {
    "scrolled": true
   },
   "outputs": [
    {
     "name": "stderr",
     "output_type": "stream",
     "text": [
      "/cluster/customapps/biomed/grlab/users/prelotla/software/miniconda/envs/pep3/lib/python3.9/site-packages/IPython/core/interactiveshell.py:3139: DtypeWarning: Columns (3,4,26,27,28,29) have mixed types.Specify dtype option on import or set low_memory=False.\n",
      "  has_raised = await self.run_ast_nodes(code_ast.body, cell_name,\n"
     ]
    },
    {
     "name": "stdout",
     "output_type": "stream",
     "text": [
      "(7538815, 31)\n",
      "read /cluster/work/grlab/projects/projects2020_OHSU/peptides_generation/CANCER_eth/commit_c4dd02c_conf2_Frame_cap0_runs/TCGA_Ovarian_374/filtering_samples/filters_19May_order_5ge_wAnnot_GPstar/G_TCGA-25-1319-01A-01R-1565-13_kmer_longlist.tsv.gz\n",
      "(100978, 2)\n",
      "(2668517, 27)\n"
     ]
    }
   ],
   "source": [
    "### OPTIONAL: Pooled kmer-metadata all filtering output ###\n",
    "### Filtered candidates are merged to the metadata from immunopepper\n",
    "\n",
    "if metadata_pooled:\n",
    "    # reads pooled metadata\n",
    "    meta_pooled = pd.read_csv(metadata_pooled, sep = '\\t')\n",
    "    #display(meta_pooled.head())\n",
    "    print(meta_pooled.shape)\n",
    "    meta_pooled = meta_pooled.drop_duplicates()\n",
    "\n",
    "    # get longlist fr sample\n",
    "    longlist = [i for i in longlists if sample in i][0]\n",
    "    print(f'read {longlist}')\n",
    "    kmers_sample_long = pd.read_csv(longlist, sep = '\\t', header = None)\n",
    "    kmers_sample_long.columns = ['kmer', 'coord']\n",
    "    #display(kmers_sample_long.head())\n",
    "    print(kmers_sample_long.shape)\n",
    "\n",
    "    # extract raw metadata from longlist\n",
    "    raw_metadata = meta_pooled.merge(kmers_sample_long, how = 'inner', on = ['kmer', 'coord'])\n",
    "\n",
    "    # some data wrangling to align with previous pipeline\n",
    "    raw_metadata = raw_metadata.drop(['strand', 'keep', \n",
    "                                    'junction_coordinate1', 'junction_coordinate2'], axis = 1)\n",
    "    raw_metadata = raw_metadata.iloc[:, [1, 0] + list(np.arange(2, len(raw_metadata.columns))) ]\n",
    "    print(raw_metadata.shape)\n",
    "    #display(meta_pooled.head())\n",
    "else:\n",
    "    raw_metadata = None"
   ]
  },
  {
   "cell_type": "code",
   "execution_count": 8,
   "metadata": {},
   "outputs": [],
   "source": [
    "# # Small Test \n",
    "# print(file_meta)\n",
    "# ! zcat {file_meta} | head -2 \n",
    "# lines = readlines_custom(file_meta)\n",
    "# for line in lines[0:3]:\n",
    "#     res = extract_peptide_fields(line)\n",
    "#     print(res)"
   ]
  },
  {
   "cell_type": "code",
   "execution_count": 9,
   "metadata": {},
   "outputs": [],
   "source": [
    "file_meta"
   ]
  },
  {
   "cell_type": "code",
   "execution_count": 10,
   "metadata": {},
   "outputs": [
    {
     "data": {
      "text/html": [
       "<div>\n",
       "<style scoped>\n",
       "    .dataframe tbody tr th:only-of-type {\n",
       "        vertical-align: middle;\n",
       "    }\n",
       "\n",
       "    .dataframe tbody tr th {\n",
       "        vertical-align: top;\n",
       "    }\n",
       "\n",
       "    .dataframe thead th {\n",
       "        text-align: right;\n",
       "    }\n",
       "</style>\n",
       "<table border=\"1\" class=\"dataframe\">\n",
       "  <thead>\n",
       "    <tr style=\"text-align: right;\">\n",
       "      <th></th>\n",
       "      <th>coord</th>\n",
       "      <th>index</th>\n",
       "      <th>kmer</th>\n",
       "      <th>junction_coordinate2_x</th>\n",
       "      <th>peptide</th>\n",
       "      <th>id</th>\n",
       "      <th>readFrame</th>\n",
       "      <th>readFrameAnnotated</th>\n",
       "      <th>geneName</th>\n",
       "      <th>geneChr</th>\n",
       "      <th>...</th>\n",
       "      <th>variantSegExpr</th>\n",
       "      <th>modifiedExonsCoord</th>\n",
       "      <th>originalExonsCoord</th>\n",
       "      <th>vertexIdx</th>\n",
       "      <th>junctionExpr</th>\n",
       "      <th>segmentExpr</th>\n",
       "      <th>kmerType</th>\n",
       "      <th>junction_coordinate2_y</th>\n",
       "      <th>junction_coordinate1_x</th>\n",
       "      <th>junction_coordinate1_y</th>\n",
       "    </tr>\n",
       "  </thead>\n",
       "  <tbody>\n",
       "    <tr>\n",
       "      <th>0</th>\n",
       "      <td>6415714:6415723:6415603:6415621:None:None</td>\n",
       "      <td>0</td>\n",
       "      <td>AAAPPAQGE</td>\n",
       "      <td>None</td>\n",
       "      <td>AGGPPPHQYPPQGWGNTYPQWQPPAPHDPSKAAAAAPPAQGEPPQP...</td>\n",
       "      <td>ENSG00000088247.17:707_697_557:0:6415895:3-exo...</td>\n",
       "      <td>1</td>\n",
       "      <td>False</td>\n",
       "      <td>ENSG00000088247.17</td>\n",
       "      <td>chr19</td>\n",
       "      <td>...</td>\n",
       "      <td>6415807;6415895;6415714;6415734;6415534;6415621</td>\n",
       "      <td>6415807;6415896;6415714;6415734;6415533;6415621</td>\n",
       "      <td>707;697;557</td>\n",
       "      <td>3-exons_9-mer</td>\n",
       "      <td>NaN</td>\n",
       "      <td>NaN</td>\n",
       "      <td>NaN</td>\n",
       "      <td>6415621:6415714</td>\n",
       "      <td>6415621:6415714</td>\n",
       "      <td>6415734:6415807</td>\n",
       "    </tr>\n",
       "    <tr>\n",
       "      <th>1</th>\n",
       "      <td>6415714:6415723:6415603:6415621:None:None</td>\n",
       "      <td>1</td>\n",
       "      <td>AAAPPAQGE</td>\n",
       "      <td>None</td>\n",
       "      <td>QPPAPHDPSKAAAAAPPAQGEPPQPPPTGQSDYTKAWEEYYKKIGE...</td>\n",
       "      <td>ENSG00000088247.17:703_697_521:0:6415832:3-exo...</td>\n",
       "      <td>1</td>\n",
       "      <td>False</td>\n",
       "      <td>ENSG00000088247.17</td>\n",
       "      <td>chr19</td>\n",
       "      <td>...</td>\n",
       "      <td>6415807;6415832;6415714;6415734;6415381;6415621</td>\n",
       "      <td>6415807;6415834;6415714;6415734;6415379;6415621</td>\n",
       "      <td>703;697;521</td>\n",
       "      <td>3-exons_9-mer</td>\n",
       "      <td>NaN</td>\n",
       "      <td>NaN</td>\n",
       "      <td>NaN</td>\n",
       "      <td>6415621:6415714</td>\n",
       "      <td>6415621:6415714</td>\n",
       "      <td>6415734:6415807</td>\n",
       "    </tr>\n",
       "    <tr>\n",
       "      <th>2</th>\n",
       "      <td>6415714:6415723:6415603:6415621:None:None</td>\n",
       "      <td>4</td>\n",
       "      <td>AAAPPAQGE</td>\n",
       "      <td>None</td>\n",
       "      <td>QPPAPHDPSKAAAAAPPAQGEPPQPPPTGQSDYTKAWEEYYKKI</td>\n",
       "      <td>ENSG00000088247.17:703_697_557:0:6415832:3-exo...</td>\n",
       "      <td>1</td>\n",
       "      <td>False</td>\n",
       "      <td>ENSG00000088247.17</td>\n",
       "      <td>chr19</td>\n",
       "      <td>...</td>\n",
       "      <td>6415807;6415832;6415714;6415734;6415534;6415621</td>\n",
       "      <td>6415807;6415834;6415714;6415734;6415533;6415621</td>\n",
       "      <td>703;697;557</td>\n",
       "      <td>3-exons_9-mer</td>\n",
       "      <td>NaN</td>\n",
       "      <td>NaN</td>\n",
       "      <td>NaN</td>\n",
       "      <td>6415621:6415714</td>\n",
       "      <td>6415621:6415714</td>\n",
       "      <td>6415734:6415807</td>\n",
       "    </tr>\n",
       "    <tr>\n",
       "      <th>3</th>\n",
       "      <td>6415714:6415723:6415603:6415621:None:None</td>\n",
       "      <td>5</td>\n",
       "      <td>AAAPPAQGE</td>\n",
       "      <td>None</td>\n",
       "      <td>AGGPPPHQYPPQGWGNTYPQWQPPAPHDPSKAAAAAPPAQGEPPQP...</td>\n",
       "      <td>ENSG00000088247.17:707_697_521:0:6415895:3-exo...</td>\n",
       "      <td>1</td>\n",
       "      <td>False</td>\n",
       "      <td>ENSG00000088247.17</td>\n",
       "      <td>chr19</td>\n",
       "      <td>...</td>\n",
       "      <td>6415807;6415895;6415714;6415734;6415381;6415621</td>\n",
       "      <td>6415807;6415896;6415714;6415734;6415379;6415621</td>\n",
       "      <td>707;697;521</td>\n",
       "      <td>3-exons_9-mer</td>\n",
       "      <td>NaN</td>\n",
       "      <td>NaN</td>\n",
       "      <td>NaN</td>\n",
       "      <td>6415621:6415714</td>\n",
       "      <td>6415621:6415714</td>\n",
       "      <td>6415734:6415807</td>\n",
       "    </tr>\n",
       "    <tr>\n",
       "      <th>4</th>\n",
       "      <td>6415714:6415723:6415603:6415621:None:None</td>\n",
       "      <td>48</td>\n",
       "      <td>AAAPPAQGE</td>\n",
       "      <td>NaN</td>\n",
       "      <td>KAAAAAPPAQGEPPQPPPTGQSDYTKAWEEYYKKIGESAGWRGGSS...</td>\n",
       "      <td>ENSG00000088247.17:697_521:0:6415732:2-exons</td>\n",
       "      <td>0</td>\n",
       "      <td>False</td>\n",
       "      <td>ENSG00000088247.17</td>\n",
       "      <td>chr19</td>\n",
       "      <td>...</td>\n",
       "      <td>6415714;6415732;6415381;6415621</td>\n",
       "      <td>6415714;6415734;6415379;6415621</td>\n",
       "      <td>697;521</td>\n",
       "      <td>2-exons</td>\n",
       "      <td>NaN</td>\n",
       "      <td>NaN</td>\n",
       "      <td>NaN</td>\n",
       "      <td>NaN</td>\n",
       "      <td>NaN</td>\n",
       "      <td>NaN</td>\n",
       "    </tr>\n",
       "  </tbody>\n",
       "</table>\n",
       "<p>5 rows × 27 columns</p>\n",
       "</div>"
      ],
      "text/plain": [
       "                                       coord  index       kmer  \\\n",
       "0  6415714:6415723:6415603:6415621:None:None      0  AAAPPAQGE   \n",
       "1  6415714:6415723:6415603:6415621:None:None      1  AAAPPAQGE   \n",
       "2  6415714:6415723:6415603:6415621:None:None      4  AAAPPAQGE   \n",
       "3  6415714:6415723:6415603:6415621:None:None      5  AAAPPAQGE   \n",
       "4  6415714:6415723:6415603:6415621:None:None     48  AAAPPAQGE   \n",
       "\n",
       "  junction_coordinate2_x                                            peptide  \\\n",
       "0                   None  AGGPPPHQYPPQGWGNTYPQWQPPAPHDPSKAAAAAPPAQGEPPQP...   \n",
       "1                   None  QPPAPHDPSKAAAAAPPAQGEPPQPPPTGQSDYTKAWEEYYKKIGE...   \n",
       "2                   None       QPPAPHDPSKAAAAAPPAQGEPPQPPPTGQSDYTKAWEEYYKKI   \n",
       "3                   None  AGGPPPHQYPPQGWGNTYPQWQPPAPHDPSKAAAAAPPAQGEPPQP...   \n",
       "4                    NaN  KAAAAAPPAQGEPPQPPPTGQSDYTKAWEEYYKKIGESAGWRGGSS...   \n",
       "\n",
       "                                                  id  readFrame  \\\n",
       "0  ENSG00000088247.17:707_697_557:0:6415895:3-exo...          1   \n",
       "1  ENSG00000088247.17:703_697_521:0:6415832:3-exo...          1   \n",
       "2  ENSG00000088247.17:703_697_557:0:6415832:3-exo...          1   \n",
       "3  ENSG00000088247.17:707_697_521:0:6415895:3-exo...          1   \n",
       "4       ENSG00000088247.17:697_521:0:6415732:2-exons          0   \n",
       "\n",
       "   readFrameAnnotated            geneName geneChr  ...  \\\n",
       "0               False  ENSG00000088247.17   chr19  ...   \n",
       "1               False  ENSG00000088247.17   chr19  ...   \n",
       "2               False  ENSG00000088247.17   chr19  ...   \n",
       "3               False  ENSG00000088247.17   chr19  ...   \n",
       "4               False  ENSG00000088247.17   chr19  ...   \n",
       "\n",
       "                                    variantSegExpr  \\\n",
       "0  6415807;6415895;6415714;6415734;6415534;6415621   \n",
       "1  6415807;6415832;6415714;6415734;6415381;6415621   \n",
       "2  6415807;6415832;6415714;6415734;6415534;6415621   \n",
       "3  6415807;6415895;6415714;6415734;6415381;6415621   \n",
       "4                  6415714;6415732;6415381;6415621   \n",
       "\n",
       "                                modifiedExonsCoord  originalExonsCoord  \\\n",
       "0  6415807;6415896;6415714;6415734;6415533;6415621         707;697;557   \n",
       "1  6415807;6415834;6415714;6415734;6415379;6415621         703;697;521   \n",
       "2  6415807;6415834;6415714;6415734;6415533;6415621         703;697;557   \n",
       "3  6415807;6415896;6415714;6415734;6415379;6415621         707;697;521   \n",
       "4                  6415714;6415734;6415379;6415621             697;521   \n",
       "\n",
       "       vertexIdx  junctionExpr  segmentExpr  kmerType junction_coordinate2_y  \\\n",
       "0  3-exons_9-mer           NaN          NaN       NaN        6415621:6415714   \n",
       "1  3-exons_9-mer           NaN          NaN       NaN        6415621:6415714   \n",
       "2  3-exons_9-mer           NaN          NaN       NaN        6415621:6415714   \n",
       "3  3-exons_9-mer           NaN          NaN       NaN        6415621:6415714   \n",
       "4        2-exons           NaN          NaN       NaN                    NaN   \n",
       "\n",
       "  junction_coordinate1_x junction_coordinate1_y  \n",
       "0        6415621:6415714        6415734:6415807  \n",
       "1        6415621:6415714        6415734:6415807  \n",
       "2        6415621:6415714        6415734:6415807  \n",
       "3        6415621:6415714        6415734:6415807  \n",
       "4                    NaN                    NaN  \n",
       "\n",
       "[5 rows x 27 columns]"
      ]
     },
     "execution_count": 10,
     "metadata": {},
     "output_type": "execute_result"
    }
   ],
   "source": [
    "raw_metadata.head()"
   ]
  },
  {
   "cell_type": "code",
   "execution_count": 11,
   "metadata": {
    "ExecuteTime": {
     "end_time": "2022-06-24T08:21:51.529894Z",
     "start_time": "2022-06-24T08:21:50.333790Z"
    }
   },
   "outputs": [
    {
     "ename": "IndexError",
     "evalue": "list index out of range",
     "output_type": "error",
     "traceback": [
      "\u001b[0;31m---------------------------------------------------------------------------\u001b[0m",
      "\u001b[0;31mIndexError\u001b[0m                                Traceback (most recent call last)",
      "Cell \u001b[0;32mIn [11], line 16\u001b[0m\n\u001b[1;32m     14\u001b[0m lines \u001b[38;5;241m=\u001b[39m readlines_custom(file_\u001b[38;5;241m=\u001b[39mfile_meta, pandas_df\u001b[38;5;241m=\u001b[39mraw_metadata)\n\u001b[1;32m     15\u001b[0m \u001b[38;5;28;01mfor\u001b[39;00m line \u001b[38;5;129;01min\u001b[39;00m lines:\n\u001b[0;32m---> 16\u001b[0m     res \u001b[38;5;241m=\u001b[39m \u001b[43mextract_peptide_fields\u001b[49m\u001b[43m(\u001b[49m\u001b[43mline\u001b[49m\u001b[43m)\u001b[49m\n\u001b[1;32m     18\u001b[0m     \u001b[38;5;28;01mif\u001b[39;00m whitelist_kmer \u001b[38;5;129;01mand\u001b[39;00m res[\u001b[38;5;124m'\u001b[39m\u001b[38;5;124mkmer\u001b[39m\u001b[38;5;124m'\u001b[39m] \u001b[38;5;129;01mnot\u001b[39;00m \u001b[38;5;129;01min\u001b[39;00m whitelist_kmer:\n\u001b[1;32m     19\u001b[0m         \u001b[38;5;28;01mcontinue\u001b[39;00m\n",
      "Cell \u001b[0;32mIn [5], line 13\u001b[0m, in \u001b[0;36mextract_peptide_fields\u001b[0;34m(pep)\u001b[0m\n\u001b[1;32m     10\u001b[0m     pep \u001b[38;5;241m=\u001b[39m pep[\u001b[38;5;241m1\u001b[39m]\n\u001b[1;32m     12\u001b[0m \u001b[38;5;28;01mfor\u001b[39;00m idx, p \u001b[38;5;129;01min\u001b[39;00m \u001b[38;5;28menumerate\u001b[39m(pep):\n\u001b[0;32m---> 13\u001b[0m     res[\u001b[43mcols_correct\u001b[49m\u001b[43m[\u001b[49m\u001b[43midx\u001b[49m\u001b[43m]\u001b[49m] \u001b[38;5;241m=\u001b[39m p\n\u001b[1;32m     14\u001b[0m \u001b[38;5;28;01mreturn\u001b[39;00m res\n",
      "\u001b[0;31mIndexError\u001b[0m: list index out of range"
     ]
    }
   ],
   "source": [
    "### Main ###\n",
    "\n",
    "subset_run_test = False\n",
    "write_ = True\n",
    "print_= False\n",
    "test = 0 \n",
    "\n",
    "pep_idx = 0 \n",
    "peptide_junctions = set()\n",
    "\n",
    "with open(file_save, 'w') as sp: # Fasta file to save\n",
    "    \n",
    "    ### Iterate over peptides \n",
    "    lines = readlines_custom(file_=file_meta, pandas_df=raw_metadata)\n",
    "    for line in lines:\n",
    "        res = extract_peptide_fields(line)\n",
    "        \n",
    "        if whitelist_kmer and res['kmer'] not in whitelist_kmer:\n",
    "            continue\n",
    "            \n",
    "\n",
    "        # some peptides do not contain a junction\n",
    "        if int(res['isIsolated']):\n",
    "            continue \n",
    "            \n",
    "        # Genomic coordinates : get include 3' or 5' flag \n",
    "        res['originalExonsCoord'] = split_coord(res['originalExonsCoord'])\n",
    "        start_cds = [ first_exon[0] for first_exon in gene_cds_begin_dict_bis[res['geneName']] ] \n",
    "        end_cds = [ last_exon[1] for last_exon in gene_cds_end_dict_bis[res['geneName']] ] \n",
    "        pep_start, pep_end = extract_end_starts(res['originalExonsCoord'], res['geneStrand'])\n",
    "        pep_5include, pep_3include = get_include_flag(start_cds, end_cds, \n",
    "                                                      pep_start, pep_end, \n",
    "                                                      res['hasStopCodon'] )\n",
    "\n",
    "        # Modified genomic coordinates: \n",
    "        res['modifiedExonsCoord'] = split_coord(res['modifiedExonsCoord'])\n",
    "        if len(res['modifiedExonsCoord']) <=2:\n",
    "            continue\n",
    "            \n",
    "            \n",
    "        jx_list, shift_list, jx_list_ori = get_nt_len_with_aa_shift(res['modifiedExonsCoord'])\n",
    "        # get \"junction position\" flag\n",
    "        aa_junction_pos, between_codons, \\\n",
    "        aa_junction_pos1, between_codons1, \\\n",
    "        aa_junction_pos1_from_start = get_aaPos_betweenFlag(shift_list, jx_list)\n",
    "        #get \"genomic coordinates\" flag \n",
    "        genome_junction_pos, \\\n",
    "        genome_junction_pos1 = get_genomic_coordinates(res['modifiedExonsCoord'], res['geneStrand'])\n",
    "\n",
    "\n",
    "#             print_stats(print_, res['kmer'], res['peptide'], res['geneStrand'], res['originalExonsCoord'], \n",
    "#                         res['modifiedExonsCoord'], jx_list, jx_list_ori, genome_junction_pos,\n",
    "#                         genome_junction_pos1, aa_junction_pos, aa_junction_pos1, \n",
    "#                         between_codons, between_codons1)\n",
    "        \n",
    "        # Get the 2 peptides sequences \n",
    "        jx_pep1, jx_pep2 = cut_peptides(res['peptide'], jx_list, between_codons,\n",
    "                                            between_codons1, aa_junction_pos, \n",
    "                                            aa_junction_pos1, \n",
    "                                            aa_junction_pos1_from_start, \n",
    "                                            print_=print_)\n",
    "\n",
    "        # skip duplicates (Issue 3-exons?)\n",
    "        if (str(genome_junction_pos) + str(genome_junction_pos1) + res['peptide'] in peptide_junctions):\n",
    "            continue\n",
    "        else:\n",
    "            peptide_junctions.add(str(genome_junction_pos) + str(genome_junction_pos1) + res['peptide'] )\n",
    "            pep_idx +=1\n",
    "\n",
    "\n",
    "        # write fasta file \n",
    "        write_fasta(write_, sp, res['peptide'], pep_idx, aa_junction_pos, \n",
    "                    aa_junction_pos1_from_start, between_codons, between_codons1,\n",
    "                    pep_5include, pep_3include, res['geneName'], \n",
    "                    genome_junction_pos, genome_junction_pos1, \n",
    "                    res['kmer'], jx_pep1, jx_pep2, res['readFrameAnnotated'], \\\n",
    "                    res['kmer_coord'], res['kmerType'], res['geneStrand'], do_write=write_)\n",
    "    \n",
    "\n",
    "if write_:\n",
    "    print('written to:')\n",
    "    print(file_save)\n"
   ]
  },
  {
   "cell_type": "code",
   "execution_count": null,
   "metadata": {},
   "outputs": [
    {
     "name": "stdout",
     "output_type": "stream",
     "text": [
      "> \u001b[0;32m/scratch/slurm-job.3864381/ipykernel_1314115/606611146.py\u001b[0m(13)\u001b[0;36mextract_peptide_fields\u001b[0;34m()\u001b[0m\n",
      "\u001b[0;32m     10 \u001b[0;31m        \u001b[0mpep\u001b[0m \u001b[0;34m=\u001b[0m \u001b[0mpep\u001b[0m\u001b[0;34m[\u001b[0m\u001b[0;36m1\u001b[0m\u001b[0;34m]\u001b[0m\u001b[0;34m\u001b[0m\u001b[0;34m\u001b[0m\u001b[0m\n",
      "\u001b[0m\u001b[0;32m     11 \u001b[0;31m\u001b[0;34m\u001b[0m\u001b[0m\n",
      "\u001b[0m\u001b[0;32m     12 \u001b[0;31m    \u001b[0;32mfor\u001b[0m \u001b[0midx\u001b[0m\u001b[0;34m,\u001b[0m \u001b[0mp\u001b[0m \u001b[0;32min\u001b[0m \u001b[0menumerate\u001b[0m\u001b[0;34m(\u001b[0m\u001b[0mpep\u001b[0m\u001b[0;34m)\u001b[0m\u001b[0;34m:\u001b[0m\u001b[0;34m\u001b[0m\u001b[0;34m\u001b[0m\u001b[0m\n",
      "\u001b[0m\u001b[0;32m---> 13 \u001b[0;31m        \u001b[0mres\u001b[0m\u001b[0;34m[\u001b[0m\u001b[0mcols_correct\u001b[0m\u001b[0;34m[\u001b[0m\u001b[0midx\u001b[0m\u001b[0;34m]\u001b[0m\u001b[0;34m]\u001b[0m \u001b[0;34m=\u001b[0m \u001b[0mp\u001b[0m\u001b[0;34m\u001b[0m\u001b[0;34m\u001b[0m\u001b[0m\n",
      "\u001b[0m\u001b[0;32m     14 \u001b[0;31m    \u001b[0;32mreturn\u001b[0m \u001b[0mres\u001b[0m\u001b[0;34m\u001b[0m\u001b[0;34m\u001b[0m\u001b[0m\n",
      "\u001b[0m\n",
      "ipdb> idx\n",
      "22\n",
      "ipdb> len(cols_correct)\n",
      "22\n",
      "ipdb> len(pep)\n",
      "27\n",
      "ipdb> pep\n",
      "coord                             6415714:6415723:6415603:6415621:None:None\n",
      "index                                                                     0\n",
      "kmer                                                              AAAPPAQGE\n",
      "junction_coordinate2_x                                                 None\n",
      "peptide                   AGGPPPHQYPPQGWGNTYPQWQPPAPHDPSKAAAAAPPAQGEPPQP...\n",
      "id                        ENSG00000088247.17:707_697_557:0:6415895:3-exo...\n",
      "readFrame                                                                 1\n",
      "readFrameAnnotated                                                    False\n",
      "geneName                                                 ENSG00000088247.17\n",
      "geneChr                                                               chr19\n",
      "geneStrand                                                                -\n",
      "mutationMode                                                            ref\n",
      "junctionAnnotated                                                         0\n",
      "hasStopCodon                                                            NaN\n",
      "isInJunctionList                                                          0\n",
      "isIsolated                                                              NaN\n",
      "variantComb                                                             NaN\n",
      "variantSegExpr              6415807;6415895;6415714;6415734;6415534;6415621\n",
      "modifiedExonsCoord          6415807;6415896;6415714;6415734;6415533;6415621\n",
      "originalExonsCoord                                              707;697;557\n",
      "vertexIdx                                                     3-exons_9-mer\n",
      "junctionExpr                                                            NaN\n",
      "segmentExpr                                                             NaN\n",
      "kmerType                                                                NaN\n",
      "junction_coordinate2_y                                      6415621:6415714\n",
      "junction_coordinate1_x                                      6415621:6415714\n",
      "junction_coordinate1_y                                      6415734:6415807\n",
      "Name: 0, dtype: object\n",
      "ipdb> cols_correct\n",
      "['kmer', 'kmer_coord', 'peptide', 'id', 'readFrame', 'readFrameAnnotated', 'geneName', 'geneChr', 'geneStrand', 'mutationMode', 'hasStopCodon', 'isInJunctionList', 'isIsolated', 'variantComb', 'variantSegExpr', 'modifiedExonsCoord', 'originalExonsCoord', 'vertexIdx', 'kmerType', 'dummy1', 'dummy2', 'dummy3']\n",
      "ipdb> cols_correct.values()\n",
      "*** AttributeError: 'list' object has no attribute 'values'\n",
      "ipdb> cols_correct['kmer']\n",
      "*** TypeError: list indices must be integers or slices, not str\n"
     ]
    }
   ],
   "source": [
    "%debug"
   ]
  },
  {
   "cell_type": "code",
   "execution_count": null,
   "metadata": {},
   "outputs": [],
   "source": [
    "file_meta"
   ]
  },
  {
   "cell_type": "code",
   "execution_count": null,
   "metadata": {},
   "outputs": [],
   "source": [
    "raw_metadata"
   ]
  },
  {
   "cell_type": "code",
   "execution_count": null,
   "metadata": {},
   "outputs": [],
   "source": []
  }
 ],
 "metadata": {
  "kernelspec": {
   "display_name": "pep3",
   "language": "python",
   "name": "pep3"
  },
  "language_info": {
   "codemirror_mode": {
    "name": "ipython",
    "version": 3
   },
   "file_extension": ".py",
   "mimetype": "text/x-python",
   "name": "python",
   "nbconvert_exporter": "python",
   "pygments_lexer": "ipython3",
   "version": "3.9.13"
  }
 },
 "nbformat": 4,
 "nbformat_minor": 4
}
