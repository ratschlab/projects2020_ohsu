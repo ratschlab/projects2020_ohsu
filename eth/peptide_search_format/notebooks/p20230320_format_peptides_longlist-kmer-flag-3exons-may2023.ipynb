{
 "cells": [
  {
   "cell_type": "code",
   "execution_count": 1,
   "metadata": {
    "ExecuteTime": {
     "end_time": "2022-06-24T08:21:01.739750Z",
     "start_time": "2022-06-24T08:20:59.397721Z"
    }
   },
   "outputs": [],
   "source": [
    "import os \n",
    "import pandas as pd\n",
    "from collections import defaultdict\n",
    "import numpy as np \n",
    "import glob\n",
    "import gzip\n",
    "import pickle"
   ]
  },
  {
   "cell_type": "markdown",
   "metadata": {},
   "source": [
    "# Previous steps\n"
   ]
  },
  {
   "cell_type": "markdown",
   "metadata": {},
   "source": [
    "### Step 1: "
   ]
  },
  {
   "cell_type": "markdown",
   "metadata": {},
   "source": [
    "\n",
    "Get a list of kmers passing the filtering.\n",
    "Can also be a kmer \"longlist\" which is a pool of kmers from multiple filter experiments. The peptide to experiment correspondance will then be stored in a table.\n"
   ]
  },
  {
   "cell_type": "markdown",
   "metadata": {},
   "source": [
    "### Step 2"
   ]
  },
  {
   "cell_type": "markdown",
   "metadata": {},
   "source": [
    "Given a list of kmers, grep the corresponding metadata information from the ImmunoPepper metadata file (very big, no kmer information) "
   ]
  },
  {
   "cell_type": "markdown",
   "metadata": {
    "ExecuteTime": {
     "end_time": "2022-02-25T15:16:53.158318Z",
     "start_time": "2022-02-25T15:16:53.155867Z"
    }
   },
   "source": [
    "See /GitHub/projects2020_ohsu/eth/peptide_search_format/p20220115_format_peptides_longlist_pr\n",
    "ior.sh"
   ]
  },
  {
   "cell_type": "markdown",
   "metadata": {},
   "source": [
    "### Step 3. \n",
    "\n"
   ]
  },
  {
   "cell_type": "markdown",
   "metadata": {
    "ExecuteTime": {
     "end_time": "2022-06-10T16:33:59.242716Z",
     "start_time": "2022-06-10T16:33:59.161360Z"
    }
   },
   "source": [
    "This notebook performs the following tasks * Given a kmer_metadata file, generate a fasta file with metadata relevant for the tryptic digestion 2. A table containing the peptide IDs per sample \n"
   ]
  },
  {
   "cell_type": "markdown",
   "metadata": {},
   "source": [
    "# Define Samples\n"
   ]
  },
  {
   "cell_type": "code",
   "execution_count": 2,
   "metadata": {
    "ExecuteTime": {
     "end_time": "2022-06-24T08:21:01.749461Z",
     "start_time": "2022-06-24T08:21:01.744414Z"
    }
   },
   "outputs": [
    {
     "name": "stdout",
     "output_type": "stream",
     "text": [
      "/cluster/work/grlab/projects/projects2020_OHSU/peptides_generation/CANCER_eth/commit_c4dd02c_conf2_Frame_cap0_runs/TCGA_Breast_1102/filtering_samples/filters_19May_order_5ge_wAnnot_GPstar\n"
     ]
    }
   ],
   "source": [
    "samples = ['TCGA-BH-A18V-01A-11R-A12D-07', \n",
    "        'TCGA-C8-A12P-01A-11R-A115-07', \n",
    "        'TCGA-AO-A0JM-01A-21R-A056-07', \n",
    "        'TCGA-A2-A0SX-01A-12R-A084-07',\n",
    "        'TCGA-A2-A0D2-01A-21R-A034-07']\n",
    "\n",
    "basefolder = '/cluster/work/grlab/projects/projects2020_OHSU/peptides_generation/CANCER_eth/commit_c4dd02c_conf2_Frame_cap0_runs/TCGA_Breast_1102'\n",
    "filter_folder = 'filtering_samples/filters_19May_order_5ge_wAnnot_GPstar'\n",
    "\n",
    "\n",
    "experiment_folder = os.path.join(basefolder, filter_folder)\n",
    "\n",
    "print(experiment_folder)"
   ]
  },
  {
   "cell_type": "markdown",
   "metadata": {},
   "source": [
    "# Preprocess the annotation \n",
    "### Input: Annotation"
   ]
  },
  {
   "cell_type": "code",
   "execution_count": 3,
   "metadata": {
    "ExecuteTime": {
     "end_time": "2022-06-24T08:21:01.805779Z",
     "start_time": "2022-06-24T08:21:01.800912Z"
    }
   },
   "outputs": [],
   "source": [
    "ann_path = '/cluster/work/grlab/projects/projects2020_OHSU/annotation/gencode.v32.annotation.gtf'"
   ]
  },
  {
   "cell_type": "code",
   "execution_count": 4,
   "metadata": {
    "ExecuteTime": {
     "end_time": "2022-06-24T08:21:10.602236Z",
     "start_time": "2022-06-24T08:21:01.806792Z"
    }
   },
   "outputs": [],
   "source": [
    "from immunopepper.preprocess import attribute_item_to_dict\n",
    "from immunopepper.preprocess import leq_strand"
   ]
  },
  {
   "cell_type": "code",
   "execution_count": 5,
   "metadata": {
    "ExecuteTime": {
     "end_time": "2022-06-24T08:21:37.413482Z",
     "start_time": "2022-06-24T08:21:10.603570Z"
    }
   },
   "outputs": [],
   "source": [
    "# Partial copy From Immunopepper preprocess.py \n",
    "transcript_to_gene_dict = {}    # transcript -> gene id\n",
    "\n",
    "\n",
    "gene_to_transcript_dict = {}    # gene_id -> list of transcripts\n",
    "gene_cds_begin_dict = {}        # gene -> list of first CDS exons\n",
    "\n",
    "transcript_to_cds_dict = {}     # transcript -> list of CDS exons\n",
    "transcript_cds_begin_dict = {}  # transcript -> first exon of the CDS\n",
    "transcript_to_strand = {}\n",
    "\n",
    "file_type = ann_path.split('.')[-1]\n",
    "chromesome_set = set()\n",
    "# collect information from annotation file\n",
    "for line in open(ann_path, 'r'):\n",
    "    if line[0] == '#':\n",
    "        continue\n",
    "    item = line.strip().split('\\t')\n",
    "    chromesome_set.add(item[0])\n",
    "    feature_type = item[2]\n",
    "    attribute_item = item[-1]\n",
    "    attribute_dict = attribute_item_to_dict(attribute_item, file_type, feature_type)\n",
    "    # store relationship between gene ID and its transcript IDs\n",
    "    if feature_type in ['transcript', 'mRNA']:\n",
    "        gene_id = attribute_dict['gene_id']\n",
    "        transcript_id = attribute_dict['transcript_id']\n",
    "        if attribute_dict['gene_type'] != 'protein_coding' or attribute_dict['transcript_type']  != 'protein_coding':\n",
    "            continue\n",
    "        assert (transcript_id not in transcript_to_gene_dict)\n",
    "        transcript_to_gene_dict[transcript_id] = gene_id\n",
    "        if gene_id in gene_to_transcript_dict and transcript_id not in gene_to_transcript_dict[gene_id]:\n",
    "            gene_to_transcript_dict[gene_id].append(transcript_id)\n",
    "        else:\n",
    "            gene_to_transcript_dict[gene_id] = [transcript_id]\n",
    "        # Todo python is 0-based while gene annotation file(.gtf, .vcf, .maf) is one based\n",
    "    elif feature_type == \"CDS\":\n",
    "        parent_ts = attribute_dict['transcript_id']\n",
    "        strand_mode = item[6]\n",
    "        cds_left = int(item[3])-1\n",
    "        cds_right = int(item[4])\n",
    "        frameshift = int(item[7])\n",
    "        transcript_to_strand[parent_ts] = strand_mode\n",
    "        if parent_ts in transcript_to_cds_dict:\n",
    "            transcript_to_cds_dict[parent_ts].append((cds_left, cds_right, frameshift))\n",
    "        else:\n",
    "            transcript_to_cds_dict[parent_ts] = [(cds_left, cds_right, frameshift)]\n",
    "        if strand_mode == \"+\" :\n",
    "            cds_start, cds_stop = cds_left, cds_right\n",
    "        else:\n",
    "            cds_start, cds_stop = cds_right, cds_left\n",
    "\n",
    "        # we only consider the start of the whole CoDing Segment\n",
    "        if parent_ts not in transcript_cds_begin_dict or \\\n",
    "           leq_strand(cds_start, transcript_cds_begin_dict[parent_ts][0], strand_mode):\n",
    "            transcript_cds_begin_dict[parent_ts] = (cds_start, cds_stop, item)\n",
    "\n",
    "# collect first CDS exons for all transcripts of a gene\n",
    "for ts_key in transcript_to_gene_dict:\n",
    "    target_gene = transcript_to_gene_dict[ts_key]\n",
    "    if target_gene not in gene_cds_begin_dict:\n",
    "        gene_cds_begin_dict[target_gene] = []\n",
    "    if ts_key in transcript_cds_begin_dict:\n",
    "        gene_cds_begin_dict[target_gene].append(transcript_cds_begin_dict[ts_key])\n"
   ]
  },
  {
   "cell_type": "code",
   "execution_count": 6,
   "metadata": {
    "ExecuteTime": {
     "end_time": "2022-06-24T08:21:37.653285Z",
     "start_time": "2022-06-24T08:21:37.414890Z"
    }
   },
   "outputs": [],
   "source": [
    "# Custom collection of CDS \n",
    "transcript_cds_begin_dict_bis = {}\n",
    "transcript_cds_end_dict_bis = {}\n",
    "\n",
    "gene_cds_begin_dict_bis = defaultdict(list)\n",
    "gene_cds_end_dict_bis = defaultdict(list)\n",
    "\n",
    "# will be in reading order \n",
    "for ts_key in transcript_to_cds_dict:\n",
    "    if transcript_to_strand[ts_key] == '+': # '+'\n",
    "        transcript_cds_begin_dict_bis[ts_key] = (transcript_to_cds_dict[ts_key][0][0],\n",
    "                                                 transcript_to_cds_dict[ts_key][0][1], '+')\n",
    "        transcript_cds_end_dict_bis[ts_key] = (transcript_to_cds_dict[ts_key][-1][0],\n",
    "                                                 transcript_to_cds_dict[ts_key][-1][1], '+')\n",
    "        \n",
    "\n",
    "    else: \n",
    "        transcript_cds_begin_dict_bis[ts_key] = (transcript_to_cds_dict[ts_key][0][1],\n",
    "                                                 transcript_to_cds_dict[ts_key][0][0], '-')\n",
    "        transcript_cds_end_dict_bis[ts_key] = (transcript_to_cds_dict[ts_key][-1][1],\n",
    "                                                 transcript_to_cds_dict[ts_key][-1][0], '-')\n",
    "    \n",
    "    assert(transcript_cds_begin_dict_bis[ts_key][0] == transcript_cds_begin_dict[ts_key][0])\n",
    "    assert(transcript_cds_begin_dict_bis[ts_key][1] == transcript_cds_begin_dict[ts_key][1])\n",
    "\n",
    "# collect first, last CDS exons for all transcripts of a gene\n",
    "for ts_key in transcript_to_gene_dict:\n",
    "    target_gene = transcript_to_gene_dict[ts_key]\n",
    "    gene_cds_begin_dict_bis[target_gene].append(transcript_cds_begin_dict_bis[ts_key])\n",
    "    gene_cds_end_dict_bis[target_gene].append(transcript_cds_end_dict_bis[ts_key])"
   ]
  },
  {
   "cell_type": "markdown",
   "metadata": {},
   "source": [
    "# Step 4. Format the peptide raw file  \n",
    "### Input:  file meta with kmers and bi-exons matching the longlist of the samples "
   ]
  },
  {
   "cell_type": "code",
   "execution_count": 7,
   "metadata": {},
   "outputs": [],
   "source": [
    "### Restrict the fasta to a whitelist\n",
    "whitelist_kmer = False  \n",
    "if whitelist_kmer:\n",
    "    with open(os.path.join(experiment_folder, 'G_TCGA_Allsamples_intersect.pickle'), 'rb') as handle:\n",
    "        whitelist_kmer = pickle.load(handle)\n",
    "    print(len(whitelist_kmer))"
   ]
  },
  {
   "cell_type": "code",
   "execution_count": 24,
   "metadata": {},
   "outputs": [],
   "source": [
    "sample = samples[4]"
   ]
  },
  {
   "cell_type": "code",
   "execution_count": 25,
   "metadata": {
    "ExecuteTime": {
     "end_time": "2022-06-24T08:21:50.188524Z",
     "start_time": "2022-06-24T08:21:50.185913Z"
    }
   },
   "outputs": [],
   "source": [
    "# Meta Input File\n",
    "file_meta = os.path.join(experiment_folder, f'G_{sample}_grep_metadata_raw.tsv.gz')\n",
    "\n",
    "# Experiment Input File \n",
    "file_save_experiement= None\n",
    "\n",
    "# Fasta output File\n",
    "if not whitelist_kmer:\n",
    "    file_save = os.path.join(experiment_folder, f'G_{sample}_pool_kmer.fa')\n",
    "else:\n",
    "    file_save = os.path.join(experiment_folder, f'G_{sample}_pool_kmer.fa')\n",
    "\n"
   ]
  },
  {
   "cell_type": "code",
   "execution_count": 26,
   "metadata": {},
   "outputs": [],
   "source": [
    "def extract_peptide_fields(pep):\n",
    "    cols_correct = ['kmer', 'kmer_coord', 'peptide','id','readFrame','readFrameAnnotated','geneName','geneChr','geneStrand',\n",
    "    'mutationMode','hasStopCodon','isInJunctionList',\n",
    "    'isIsolated','variantComb','variantSegExpr','modifiedExonsCoord',\n",
    "    'originalExonsCoord',\n",
    "    'vertexIdx','kmerType', 'dummy1', 'dummy2', 'dummy3']\n",
    "    res = {}\n",
    "    for idx, p in enumerate(pep):\n",
    "        res[cols_correct[idx]] = p\n",
    "    return res \n",
    "\n",
    "\n",
    "def extract_end_starts(pep_orig_coord, strand):\n",
    "    ''' Get peptide end and start coordinates'''\n",
    "    if strand == '+': # Do - strand \n",
    "        pep_start = int(pep_orig_coord[0])\n",
    "        pep_end = int(pep_orig_coord[-1])\n",
    "    else: \n",
    "        pep_start = int(pep_orig_coord[1])\n",
    "        pep_end = int(pep_orig_coord[-2])\n",
    "    return pep_start, pep_end\n",
    "\n",
    "\n",
    "def get_include_flag(start_cds, end_cds, pep_start, pep_end, has_stop_codon ):\n",
    "    '''Use end and start coordinates for 3' 5' include flag'''\n",
    "    if pep_start in start_cds: # We will always miss things that are new in the graph \n",
    "        pep_5include = 1\n",
    "    else: \n",
    "        pep_5include = 0 \n",
    "    if (pep_end in end_cds) or (has_stop_codon) == '1':\n",
    "        pep_3include = 1\n",
    "    else: \n",
    "        pep_3include = 0 \n",
    "    return pep_5include, pep_3include\n",
    "\n",
    "\n",
    "def get_nt_len_with_aa_shift(pep_modi_coord):\n",
    "    '''Get nt length of each exon involved -> jx_list, shift_list'''\n",
    "    tot_len = 0 \n",
    "    shift = 0 \n",
    "    jx_list = []\n",
    "    jx_list_ori = []\n",
    "    shift_list = []\n",
    "    for pair in np.arange(0, len(pep_modi_coord), 2):\n",
    "        cds = int(pep_modi_coord[pair + 1]) - int(pep_modi_coord[pair])  # 0 based, open right \n",
    "        jx_list_ori.append(cds)\n",
    "        cds += shift \n",
    "        shift = cds % 3\n",
    "        jx_list.append(cds - shift)\n",
    "        shift_list.append(shift)\n",
    "        \n",
    "    return jx_list, shift_list, jx_list_ori\n",
    "\n",
    "\n",
    "def get_aaPos_betweenFlag(shift_list, jx_list):\n",
    "    '''Get aa position of the junction\n",
    "    the junction coordinate jx_pos is the 0-based position in the peptide \n",
    "    of the amino acid that either overlaps the junction (if the junction is \n",
    "    in the middle of a codon), or is immediately before it if the junction \n",
    "    occurs between codons'''\n",
    "    if shift_list[0]: # junction is inside an amino acid\n",
    "        aa_junction_pos0 = int((jx_list[0] / 3)) # because 0 based\n",
    "        between_codons0 = 0 \n",
    "    else: # junction is between amino acids \n",
    "        aa_junction_pos0 = int((jx_list[0] / 3) - 1)  # because 0 based\n",
    "        between_codons0 = 1\n",
    "        \n",
    "    if len(shift_list) > 2: #third exon \n",
    "        if shift_list[1]: # junction is inside an amino acid\n",
    "            aa_junction_pos1 = int((jx_list[1] / 3)) # because 0 based\n",
    "            between_codons1 = 0 \n",
    "        else: # junction is between amino acids \n",
    "            aa_junction_pos1 = int((jx_list[1] / 3) - 1)  # because 0 based\n",
    "            between_codons1 = 1 \n",
    "        aa_junction_pos1_from_start = aa_junction_pos1 + aa_junction_pos0 + 1 \n",
    "    else:\n",
    "        aa_junction_pos1 = None\n",
    "        between_codons1 = None\n",
    "        aa_junction_pos1_from_start = None\n",
    "    \n",
    "    return aa_junction_pos0, between_codons0, aa_junction_pos1, between_codons1, \\\n",
    "           aa_junction_pos1_from_start\n",
    "\n",
    "\n",
    "def get_genomic_coordinates(pep_modi_coord, strand):\n",
    "    '''We have in + case: exon1_start, exon 1_stop, exon2_start, exon2_stop, exon3_start, exon3_stop\n",
    "     In the - case: exon1_stop, exon 1_start, exon 2_stop, exon2_start, exon3_stop, exon3_start'''\n",
    "    genome_junction_pos1 = None\n",
    "    if strand == '+':\n",
    "        genome_junction_pos0 = '{}_{}'.format(pep_modi_coord[1], pep_modi_coord[2])\n",
    "        if len(pep_modi_coord) > 4:\n",
    "            genome_junction_pos1 = '{}_{}'.format(pep_modi_coord[3], pep_modi_coord[4])\n",
    "    else:\n",
    "        genome_junction_pos0 = '{}_{}'.format(pep_modi_coord[0], pep_modi_coord[3])\n",
    "        if len(pep_modi_coord) > 4:\n",
    "            genome_junction_pos1 = '{}_{}'.format(pep_modi_coord[2], pep_modi_coord[5])\n",
    "    return genome_junction_pos0, genome_junction_pos1\n",
    "\n",
    "\n",
    "def split_coord(pep_coord):\n",
    "    pep_coord = pep_coord.split(';')\n",
    "    pep_coord = [coord for coord in pep_coord if (coord != 'None') and (coord != 'nan')]\n",
    "    return pep_coord\n",
    "\n",
    "\n",
    "def write_peptide_to_experiment(filepointer, pep_idx=None, pep_seq=None,\\\n",
    "                                idx=None, header=False):\n",
    "    if header:\n",
    "        header_exp = 'peptide_id\\tpeptide_sequence\\texperiment_ids\\n'\n",
    "        filepointer.write(header_exp)\n",
    "    elif pep_idx is not None:\n",
    "        exp_line = '{}\\t{}\\t{}\\n'.format(pep_idx, \n",
    "                                         pep_seq,\n",
    "                                         idx)\n",
    "        filepointer.write(exp_line)\n",
    "\n",
    "            \n",
    "def write_fasta(write_, filepointer, pep_seq, pep_idx, aa_junction_pos, \n",
    "                aa_junction_pos1_from_start, between_codons, between_codons1,\n",
    "                pep_5include, pep_3include, pep_gene, \n",
    "                genome_junction_pos, genome_junction_pos1, \n",
    "                kmer, jx_pep1, jx_pep2, readFrameAnnotated, \\\n",
    "                kmer_coord, kmer_type, strand, do_write=True):\n",
    "        \n",
    "    if write_:\n",
    "        pep_handle1 = (f'>pepID-{pep_idx};jx_pos-{aa_junction_pos};between_codons-{between_codons}'\n",
    "                       f';includes_5\\'-{pep_5include};includes_3\\'-{pep_3include};gene-{pep_gene};'\n",
    "                       f'jx_coord-{genome_junction_pos};kmer-{kmer};readFrameAnnotated-{readFrameAnnotated};'\n",
    "                       f'kmer_coord-{kmer_coord};origin-{kmer_type};strand{strand}')\n",
    "\n",
    "        pep_handle2 = (f'>pepID-{pep_idx};jx_pos-{aa_junction_pos1_from_start};between_codons-{between_codons1}'\n",
    "                       f';includes_5\\'-{pep_5include};includes_3\\'-{pep_3include};gene-{pep_gene};'\n",
    "                       f'jx_coord-{genome_junction_pos1};kmer-{kmer};readFrameAnnotated-{readFrameAnnotated};'\n",
    "                       f'kmer_coord-{kmer_coord};origin-{kmer_type};strand{strand}')\n",
    "\n",
    "        if kmer in jx_pep1:\n",
    "            pep_idx+=1\n",
    "            sp.write(pep_handle1 + '\\n')\n",
    "            sp.write(pep_seq + '\\n')\n",
    "        elif kmer in jx_pep2:\n",
    "            pep_idx+=1\n",
    "            sp.write(pep_handle2 + '\\n')\n",
    "            sp.write(pep_seq + '\\n')\n",
    "        return pep_idx\n",
    "\n",
    "\n",
    "\n",
    "def cut_peptides(pep_seq, jx_list, between_codons, between_codons1, aa_junction_pos, \n",
    "                 aa_junction_pos1, aa_junction_pos1_from_start, \n",
    "                 print_ = False):\n",
    "    peptide_cut = []\n",
    "    aa_junction_pos_shift = aa_junction_pos + 1 \n",
    "    exon1, aa_jx1, exon2, aa_jx2, exon3 = '', '', '', '', ''\n",
    "\n",
    "    if len(jx_list) == 2:\n",
    "        if between_codons:\n",
    "            exon1 = pep_seq[:aa_junction_pos_shift]\n",
    "            exon2 = pep_seq[aa_junction_pos_shift:]\n",
    "        else:\n",
    "            exon1 = pep_seq[:aa_junction_pos]\n",
    "            aa_jx1 = pep_seq[aa_junction_pos:aa_junction_pos_shift]\n",
    "            exon2 = pep_seq[aa_junction_pos_shift:]\n",
    "    elif len(jx_list) == 3:\n",
    "        aa_junction2_pos_shift =  aa_junction_pos1 + aa_junction_pos + 1\n",
    "        aa_junction2_pos_sshift = aa_junction_pos1 + aa_junction_pos + 2\n",
    "        assert(aa_junction_pos1_from_start == aa_junction2_pos_shift)\n",
    "        if between_codons and between_codons1: \n",
    "            exon1 = pep_seq[:aa_junction_pos_shift]\n",
    "            exon2 = pep_seq[aa_junction_pos_shift:\n",
    "                          aa_junction2_pos_sshift]\n",
    "            exon3 = pep_seq[aa_junction2_pos_sshift:]\n",
    "        if (not between_codons) and between_codons1: \n",
    "            exon1 = pep_seq[:aa_junction_pos ]\n",
    "            aa_jx1 = pep_seq[aa_junction_pos:aa_junction_pos_shift]\n",
    "            exon2 = pep_seq[aa_junction_pos_shift:\n",
    "                          aa_junction2_pos_sshift]\n",
    "            exon3 = pep_seq[aa_junction2_pos_sshift:]\n",
    "        if (between_codons) and (not between_codons1): \n",
    "            exon1 = pep_seq[:aa_junction_pos_shift]\n",
    "            exon2 = pep_seq[aa_junction_pos_shift :\n",
    "                          aa_junction2_pos_shift]\n",
    "            aa_jx2 = pep_seq[aa_junction2_pos_shift:\n",
    "                         aa_junction2_pos_sshift]\n",
    "            exon3 = pep_seq[aa_junction2_pos_sshift:]\n",
    "        if (not between_codons) and (not between_codons1): \n",
    "            exon1 = pep_seq[:aa_junction_pos ]\n",
    "            aa_jx1 = pep_seq[aa_junction_pos:aa_junction_pos_shift]\n",
    "            exon2 = pep_seq[aa_junction_pos_shift :\n",
    "                          aa_junction2_pos_shift]\n",
    "            aa_jx2 = pep_seq[aa_junction2_pos_shift:\n",
    "                         aa_junction2_pos_sshift]\n",
    "            exon3 = pep_seq[aa_junction2_pos_sshift:]\n",
    "    if print_:\n",
    "        print(f'exon1:{exon1}, aa_containing_jx1:{aa_jx1}, exon2:{exon2}, aa_containing_jx2:{aa_jx2}, exon3:{exon3}')\n",
    "        print(f'junction positions jx1: {aa_junction_pos}, jx2:{aa_junction_pos1_from_start}')\n",
    "        print(f'is junction between a codon jx1: {between_codons}, jx2: {between_codons1}')\n",
    "        print('\\n')\n",
    "    return exon1 + aa_jx1 + exon2, exon2 + aa_jx2 + exon3 \n",
    "\n",
    "def print_stats(print_, kmer, pep_seq, strand, pep_orig_coord, pep_modi_coord, jx_list,\n",
    "               jx_list_ori, genome_junction_pos, genome_junction_pos1,\n",
    "               aa_junction_pos, aa_junction_pos1, between_codons, between_codons1):\n",
    "    \n",
    "    if print_:\n",
    "        p_ori_coord = ';'.join(pep_orig_coord)\n",
    "        p_modif_coord = ';'.join(pep_modi_coord)\n",
    "        print(f'INSTANCE: \\n kmer {kmer}/ sequence {pep_seq}/ strand {strand} / \\n original coordinates {p_ori_coord} / \\n modif coordinates {p_modif_coord} /  \\n junction list origin {jx_list_ori}/ junction list {jx_list} / \\n junction coordinates 1 {genome_junction_pos} / junction coordinates 2 {genome_junction_pos1}')\n",
    "        #print(aa_junction_pos, between_codons, aa_junction_pos1, between_codons1)\n",
    "        print('peptide length', len(pep_seq))\n",
    "\n",
    "\n",
    "def readlines_custom(file_):\n",
    "    with gzip.open(file_, 'rb') as fp: \n",
    "        lines = fp.readlines()\n",
    "        for j, line in enumerate(lines):\n",
    "            line = line.decode().replace('\\n', '').split('\\t')\n",
    "            if '\\\\t' in line[0]:\n",
    "                splitted_p = line[0].split('\\\\t') #correction temp\n",
    "                kmer, coord, peptide = splitted_p\n",
    "                line = [kmer, coord, peptide] + line[1:]\n",
    "            else:\n",
    "                line = [kmer, coord] + line #Use previous kmer instance\n",
    "            lines[j] = line\n",
    "    return lines"
   ]
  },
  {
   "cell_type": "code",
   "execution_count": 27,
   "metadata": {
    "ExecuteTime": {
     "end_time": "2022-06-24T08:21:51.529894Z",
     "start_time": "2022-06-24T08:21:50.333790Z"
    }
   },
   "outputs": [
    {
     "name": "stdout",
     "output_type": "stream",
     "text": [
      "written to:\n",
      "None\n",
      "/cluster/work/grlab/projects/projects2020_OHSU/peptides_generation/CANCER_eth/commit_c4dd02c_conf2_Frame_cap0_runs/TCGA_Breast_1102/filtering_samples/filters_19May_order_5ge_wAnnot_GPstar/G_TCGA-A2-A0D2-01A-21R-A034-07_pool_kmer.fa\n"
     ]
    }
   ],
   "source": [
    "subset_run_test = False\n",
    "write_ = True\n",
    "print_= False\n",
    "test = 0 \n",
    "\n",
    "### Main \n",
    "pep_idx = 0 \n",
    "peptide_junctions = set()\n",
    "\n",
    "if file_save_experiement is not None: \n",
    "    ep = open(file_save_experiement, 'w') # Experiment file to save\n",
    "    write_peptide_to_experiment(ep, header=True)\n",
    "    \n",
    "with open(file_save, 'w') as sp: # Fasta file to save\n",
    "    \n",
    "    ### Iterate over peptides \n",
    "    lines = readlines_custom(file_meta)\n",
    "    for line in lines:\n",
    "        res = extract_peptide_fields(line)\n",
    "        \n",
    "        if whitelist_kmer and res['kmer'] not in whitelist_kmer:\n",
    "            continue\n",
    "            \n",
    "\n",
    "        # some peptides do not contain a junction\n",
    "        if int(res['isIsolated']):\n",
    "            continue \n",
    "            \n",
    "        # Genomic coordinates : get include 3' or 5' flag \n",
    "        res['originalExonsCoord'] = split_coord(res['originalExonsCoord'])\n",
    "        start_cds = [ first_exon[0] for first_exon in gene_cds_begin_dict_bis[res['geneName']] ] \n",
    "        end_cds = [ last_exon[1] for last_exon in gene_cds_end_dict_bis[res['geneName']] ] \n",
    "        pep_start, pep_end = extract_end_starts(res['originalExonsCoord'], res['geneStrand'])\n",
    "        pep_5include, pep_3include = get_include_flag(start_cds, end_cds, \n",
    "                                                      pep_start, pep_end, \n",
    "                                                      res['hasStopCodon'] )\n",
    "\n",
    "        # Modified genomic coordinates: \n",
    "        res['modifiedExonsCoord'] = split_coord(res['modifiedExonsCoord'])\n",
    "        if len(res['modifiedExonsCoord']) <=2:\n",
    "            continue\n",
    "            \n",
    "            \n",
    "        jx_list, shift_list, jx_list_ori = get_nt_len_with_aa_shift(res['modifiedExonsCoord'])\n",
    "        # get \"junction position\" flag\n",
    "        aa_junction_pos, between_codons, \\\n",
    "        aa_junction_pos1, between_codons1, \\\n",
    "        aa_junction_pos1_from_start = get_aaPos_betweenFlag(shift_list, jx_list)\n",
    "        #get \"genomic coordinates\" flag \n",
    "        genome_junction_pos, \\\n",
    "        genome_junction_pos1 = get_genomic_coordinates(res['modifiedExonsCoord'], res['geneStrand'])\n",
    "\n",
    "\n",
    "#             print_stats(print_, res['kmer'], res['peptide'], res['geneStrand'], res['originalExonsCoord'], \n",
    "#                         res['modifiedExonsCoord'], jx_list, jx_list_ori, genome_junction_pos,\n",
    "#                         genome_junction_pos1, aa_junction_pos, aa_junction_pos1, \n",
    "#                         between_codons, between_codons1)\n",
    "        \n",
    "        # Get the 2 peptides sequences \n",
    "        jx_pep1, jx_pep2 = cut_peptides(res['peptide'], jx_list, between_codons,\n",
    "                                            between_codons1, aa_junction_pos, \n",
    "                                            aa_junction_pos1, \n",
    "                                            aa_junction_pos1_from_start, \n",
    "                                            print_=print_)\n",
    "\n",
    "        # skip duplicates (Issue 3-exons?)\n",
    "        if (str(genome_junction_pos) + str(genome_junction_pos1) + res['peptide'] in peptide_junctions):\n",
    "            continue\n",
    "        else:\n",
    "            peptide_junctions.add(str(genome_junction_pos) + str(genome_junction_pos1) + res['peptide'] )\n",
    "            pep_idx +=1\n",
    "\n",
    "\n",
    "        # write fasta file \n",
    "        write_fasta(write_, sp, res['peptide'], pep_idx, aa_junction_pos, \n",
    "                    aa_junction_pos1_from_start, between_codons, between_codons1,\n",
    "                    pep_5include, pep_3include, res['geneName'], \n",
    "                    genome_junction_pos, genome_junction_pos1, \n",
    "                    res['kmer'], jx_pep1, jx_pep2, res['readFrameAnnotated'], \\\n",
    "                    res['kmer_coord'], res['kmerType'], res['geneStrand'], do_write=True)\n",
    "    \n",
    "#TODO \n",
    "#             if file_save_experiement is not None: \n",
    "#                 write_peptide_to_experiment(ep, pep_idx, \n",
    "#                                             res['peptide'],';'.join(kmer_file_idx[kmer]), \n",
    "#                                             peptide_junctions) \n",
    "\n",
    "\n",
    "if write_:\n",
    "    print('written to:')\n",
    "    print(file_save_experiement)\n",
    "    print(file_save)\n",
    "    if file_save_experiement is not None:\n",
    "        ep.close()\n"
   ]
  },
  {
   "cell_type": "code",
   "execution_count": null,
   "metadata": {},
   "outputs": [],
   "source": []
  },
  {
   "cell_type": "code",
   "execution_count": null,
   "metadata": {},
   "outputs": [],
   "source": []
  },
  {
   "cell_type": "code",
   "execution_count": null,
   "metadata": {},
   "outputs": [],
   "source": []
  }
 ],
 "metadata": {
  "kernelspec": {
   "display_name": "pep3",
   "language": "python",
   "name": "pep3"
  },
  "language_info": {
   "codemirror_mode": {
    "name": "ipython",
    "version": 3
   },
   "file_extension": ".py",
   "mimetype": "text/x-python",
   "name": "python",
   "nbconvert_exporter": "python",
   "pygments_lexer": "ipython3",
   "version": "3.9.13"
  }
 },
 "nbformat": 4,
 "nbformat_minor": 4
}
