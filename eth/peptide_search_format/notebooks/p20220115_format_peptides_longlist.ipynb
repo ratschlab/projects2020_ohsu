{
 "cells": [
  {
   "cell_type": "code",
   "execution_count": 1,
   "metadata": {
    "ExecuteTime": {
     "end_time": "2022-02-18T17:07:33.688132Z",
     "start_time": "2022-02-18T17:07:30.967001Z"
    }
   },
   "outputs": [],
   "source": [
    "import os \n",
    "import pandas as pd\n",
    "from collections import defaultdict\n",
    "import numpy as np \n",
    "import glob"
   ]
  },
  {
   "cell_type": "code",
   "execution_count": 2,
   "metadata": {
    "ExecuteTime": {
     "end_time": "2022-02-18T17:07:33.699909Z",
     "start_time": "2022-02-18T17:07:33.693869Z"
    }
   },
   "outputs": [],
   "source": [
    "sample = 'TCGA-BH-A18V-01A-11R-A12D-07.all' #'TCGA-C8-A12P-01A-11R-A115-07.all' #'TCGA-AO-A0JM-01A-21R-A056-07.all'#'TCGA-A2-A0SX-01A-12R-A084-07.all' #'TCGA-A2-A0D2-01A-21R-A034-07.all'\n",
    "background = 'commit_d4aee54_GTEXcore'"
   ]
  },
  {
   "cell_type": "markdown",
   "metadata": {},
   "source": [
    "Step 1. Get the all sample experiement longlist: \n",
    "Use cut and unique in bash\n",
    "\n"
   ]
  },
  {
   "cell_type": "code",
   "execution_count": 3,
   "metadata": {
    "ExecuteTime": {
     "end_time": "2022-02-18T17:07:33.710134Z",
     "start_time": "2022-02-18T17:07:33.706285Z"
    }
   },
   "outputs": [],
   "source": [
    "basefolder = '/cluster/work/grlab/projects/projects2020_OHSU/peptides_generation/v2_v2.5f0752a_conf2_annotFrame_cap0_runs_pya0.17.1/TCGA_Breast_1102'"
   ]
  },
  {
   "cell_type": "code",
   "execution_count": 4,
   "metadata": {
    "ExecuteTime": {
     "end_time": "2022-02-18T17:07:33.717712Z",
     "start_time": "2022-02-18T17:07:33.714336Z"
    }
   },
   "outputs": [],
   "source": [
    "experiment_folder = os.path.join(basefolder, 'filter_{}/{}'.format(sample, background))"
   ]
  },
  {
   "cell_type": "code",
   "execution_count": 5,
   "metadata": {
    "ExecuteTime": {
     "end_time": "2022-02-18T17:07:33.723074Z",
     "start_time": "2022-02-18T17:07:33.720104Z"
    }
   },
   "outputs": [],
   "source": [
    "file_biexon_generated = os.path.join(basefolder, 'cohort_mutNone', 'meta_peptide_pooled_pq.tsv')"
   ]
  },
  {
   "cell_type": "code",
   "execution_count": 6,
   "metadata": {
    "ExecuteTime": {
     "end_time": "2022-02-18T17:07:33.728202Z",
     "start_time": "2022-02-18T17:07:33.725479Z"
    }
   },
   "outputs": [],
   "source": [
    "file_longlist  = os.path.join(experiment_folder, \n",
    "                         '{}_{}_{}'.format(sample, \n",
    "                                      background.replace('commit_', ''),\n",
    "                                      'kmer_longlist.tsv'))"
   ]
  },
  {
   "cell_type": "code",
   "execution_count": 7,
   "metadata": {
    "ExecuteTime": {
     "end_time": "2022-02-18T17:07:33.733326Z",
     "start_time": "2022-02-18T17:07:33.730115Z"
    }
   },
   "outputs": [],
   "source": [
    "file_meta = os.path.join(experiment_folder, \n",
    "                         '{}_{}_{}'.format(sample, \n",
    "                                      background.replace('commit_', ''),\n",
    "                                      'kmer_peptides_raw333.tsv'))\n"
   ]
  },
  {
   "cell_type": "code",
   "execution_count": 8,
   "metadata": {
    "ExecuteTime": {
     "end_time": "2022-02-18T17:07:33.812224Z",
     "start_time": "2022-02-18T17:07:33.807673Z"
    }
   },
   "outputs": [],
   "source": [
    "delim = '\\t'"
   ]
  },
  {
   "cell_type": "markdown",
   "metadata": {},
   "source": [
    "Step 2. Get the metadata and peptides: \n",
    "Done in bash with the command below "
   ]
  },
  {
   "cell_type": "code",
   "execution_count": 9,
   "metadata": {
    "ExecuteTime": {
     "end_time": "2022-02-18T17:07:34.200367Z",
     "start_time": "2022-02-18T17:07:34.195774Z"
    }
   },
   "outputs": [],
   "source": [
    "# !charact=$(echo -e '\\t'); for kmer in $(cut -f1 -d ${charact} {file_longlist}); do echo ${kmer},$(grep $kmer {file_biexon_generated}) >> {file_meta}; done"
   ]
  },
  {
   "cell_type": "raw",
   "metadata": {},
   "source": [
    "Use the following command - (most efficient is bash) \n",
    "for kmer in $(cut -f1 -d '     ' filter_TCGA-A2-A0D2-01A-21R-A034-07.all/commit_d4aee54_GTEXcore/TCGA-A2-A0D2-01A-21R-A034-07.all_d4aee54_GTEXcore_kmer_longlist.tsv); do echo ${kmer},$(grep $kmer cohort_mutNone/meta_peptide_pooled_pq.tsv) >> filter_TCGA-A2-A0D2-01A-21R-A034-07.all/commit_d4aee54_GTEXcore/TCGA-A2-A0D2-01A-21R-A034-07.all_d4aee54_GTEXcore_kmer_peptides_raw.tsv; done"
   ]
  },
  {
   "cell_type": "markdown",
   "metadata": {},
   "source": [
    "Step 3. Get the formating of the fasta file done *within this notebook*\n",
    "\n"
   ]
  },
  {
   "cell_type": "raw",
   "metadata": {},
   "source": [
    "\n",
    "The fasta headers have the form >pepID-__(peptide ID #)__;jx_pos-__(0-based junction coordinate)__;expected_jx_pep-__(0/1)__;includes_5'-__(0/1)__;includes_3'-__(0/1)__, where:\n",
    "the peptide ID number pepID should match what’s in the experiments-per-peptide file\n",
    "the junction coordinate jx_pos is the 0-based position in the peptide of the amino acid that either overlaps the junction (if the junction is in the middle of a codon), or is immediately before it if the junctiobg expected_jx_pep is 1 in most cases, if there should be a cleavage product that overlaps the junction, or 0 if the amino acid immediately before the junction is a cleavage site and therefore no peptide will actually overlap the junction.\n",
    "the 5' overlap flag includes_5' and 3' overlap flag  includes_3' are 0 if the peptide does not hit the end of the CDS (5’/beginning of the peptide or 3’/end of the peptide respectively) and 1 if the beginning/end of the peptide is the beginning/end of the CDS.\n",
    "The 5' overlap flag includes_5' and 3' overlap flag  includes_3' require going back to the annotation on my side. So I am trying to get this right. Below an example (edited) "
   ]
  },
  {
   "cell_type": "markdown",
   "metadata": {},
   "source": [
    "Step 4. Get the peptide/ experiment map in this notebook"
   ]
  },
  {
   "cell_type": "markdown",
   "metadata": {},
   "source": [
    "# Preprocess the annotation \n",
    "### Input: Annotation"
   ]
  },
  {
   "cell_type": "code",
   "execution_count": 10,
   "metadata": {
    "ExecuteTime": {
     "end_time": "2022-02-18T17:07:35.716254Z",
     "start_time": "2022-02-18T17:07:35.711614Z"
    }
   },
   "outputs": [],
   "source": [
    "ann_path = '/cluster/work/grlab/projects/projects2020_OHSU/annotation/gencode.v32.annotation.gtf'"
   ]
  },
  {
   "cell_type": "code",
   "execution_count": 11,
   "metadata": {
    "ExecuteTime": {
     "end_time": "2022-02-18T17:07:35.934814Z",
     "start_time": "2022-02-18T17:07:35.919881Z"
    }
   },
   "outputs": [],
   "source": [
    "# From Immunopepper preprocess.py \n",
    "def attribute_item_to_dict(a_item, file_type, feature_type):\n",
    "    \"\"\"  From attribute item in annotation file to get corresponding dictionary\n",
    "\n",
    "    Parameters\n",
    "    ----------\n",
    "    a_item: str. attribute item\n",
    "    file_type: str. Choose from {'gtf', 'gff', 'gff3'}\n",
    "    feature_type: str. Extract other fields. We only\n",
    "        consider 'CDS', 'mRNA' and 'transcript'\n",
    "\n",
    "    Returns\n",
    "    -------\n",
    "    gtf_dict: dict. store all the necessary data\n",
    "\n",
    "    \"\"\"    \n",
    "    \n",
    "    gtf_dict = {}\n",
    "    if file_type.lower() == 'gtf':\n",
    "        attribute_list = a_item.split('; ')\n",
    "        for attribute_pair in attribute_list:\n",
    "            pair = attribute_pair.split(' ')\n",
    "            gtf_dict[pair[0]] = pair[1][1:-1]\n",
    "    elif file_type.lower() == 'gff3':\n",
    "        attribute_list = a_item.split(';')\n",
    "        for attribute_pair in attribute_list:\n",
    "            pair = attribute_pair.split('=')\n",
    "            gtf_dict[pair[0]] = pair[1]\n",
    "    elif file_type.lower() == 'gff':\n",
    "        gff_dict = {}\n",
    "        attribute_list = a_item.split(';')\n",
    "        for attribute_pair in attribute_list:\n",
    "            pair = attribute_pair.split('=')\n",
    "            gff_dict[pair[0]] = pair[1]  # delete \"\", currently now work on level 2\n",
    "        if feature_type == 'CDS':\n",
    "            gtf_dict['transcript_id'] = gff_dict['Parent']\n",
    "        elif feature_type in {'mRNA', 'transcript'}:  # mRNA or transcript\n",
    "            gtf_dict['gene_id'] = gff_dict['geneID']\n",
    "            gtf_dict['transcript_id'] = gff_dict['ID']\n",
    "            gtf_dict['gene_type'] = gff_dict['gene_type']\n",
    "            gtf_dict['transcript_type'] = gff_dict['transcript_type']\n",
    "\n",
    "    return gtf_dict"
   ]
  },
  {
   "cell_type": "code",
   "execution_count": 12,
   "metadata": {
    "ExecuteTime": {
     "end_time": "2022-02-18T17:07:36.195848Z",
     "start_time": "2022-02-18T17:07:36.190252Z"
    }
   },
   "outputs": [],
   "source": [
    "#  From Immunopepper preprocess.py \n",
    "def leq_strand(coord1, coord2, strand):\n",
    "    if strand == \"+\":\n",
    "        return coord1 <= coord2\n",
    "    else:\n",
    "        return coord1 >= coord2\n"
   ]
  },
  {
   "cell_type": "code",
   "execution_count": 13,
   "metadata": {
    "ExecuteTime": {
     "end_time": "2022-02-18T17:07:59.175506Z",
     "start_time": "2022-02-18T17:07:36.567657Z"
    }
   },
   "outputs": [],
   "source": [
    "# From Immunopepper preprocess.py \n",
    "transcript_to_gene_dict = {}    # transcript -> gene id\n",
    "\n",
    "\n",
    "gene_to_transcript_dict = {}    # gene_id -> list of transcripts\n",
    "gene_cds_begin_dict = {}        # gene -> list of first CDS exons\n",
    "\n",
    "transcript_to_cds_dict = {}     # transcript -> list of CDS exons\n",
    "transcript_cds_begin_dict = {}  # transcript -> first exon of the CDS\n",
    "transcript_to_strand = {}\n",
    "\n",
    "file_type = ann_path.split('.')[-1]\n",
    "chromesome_set = set()\n",
    "# collect information from annotation file\n",
    "for line in open(ann_path, 'r'):\n",
    "    if line[0] == '#':\n",
    "        continue\n",
    "    item = line.strip().split('\\t')\n",
    "    chromesome_set.add(item[0])\n",
    "    feature_type = item[2]\n",
    "    attribute_item = item[-1]\n",
    "    attribute_dict = attribute_item_to_dict(attribute_item, file_type, feature_type)\n",
    "    # store relationship between gene ID and its transcript IDs\n",
    "    if feature_type in ['transcript', 'mRNA']:\n",
    "        gene_id = attribute_dict['gene_id']\n",
    "        transcript_id = attribute_dict['transcript_id']\n",
    "        if attribute_dict['gene_type'] != 'protein_coding' or attribute_dict['transcript_type']  != 'protein_coding':\n",
    "            continue\n",
    "        assert (transcript_id not in transcript_to_gene_dict)\n",
    "        transcript_to_gene_dict[transcript_id] = gene_id\n",
    "        if gene_id in gene_to_transcript_dict and transcript_id not in gene_to_transcript_dict[gene_id]:\n",
    "            gene_to_transcript_dict[gene_id].append(transcript_id)\n",
    "        else:\n",
    "            gene_to_transcript_dict[gene_id] = [transcript_id]\n",
    "        # Todo python is 0-based while gene annotation file(.gtf, .vcf, .maf) is one based\n",
    "    elif feature_type == \"CDS\":\n",
    "        parent_ts = attribute_dict['transcript_id']\n",
    "        strand_mode = item[6]\n",
    "        cds_left = int(item[3])-1\n",
    "        cds_right = int(item[4])\n",
    "        frameshift = int(item[7])\n",
    "        transcript_to_strand[parent_ts] = strand_mode\n",
    "        if parent_ts in transcript_to_cds_dict:\n",
    "            transcript_to_cds_dict[parent_ts].append((cds_left, cds_right, frameshift))\n",
    "        else:\n",
    "            transcript_to_cds_dict[parent_ts] = [(cds_left, cds_right, frameshift)]\n",
    "        if strand_mode == \"+\" :\n",
    "            cds_start, cds_stop = cds_left, cds_right\n",
    "        else:\n",
    "            cds_start, cds_stop = cds_right, cds_left\n",
    "\n",
    "        # we only consider the start of the whole CoDing Segment\n",
    "        if parent_ts not in transcript_cds_begin_dict or \\\n",
    "           leq_strand(cds_start, transcript_cds_begin_dict[parent_ts][0], strand_mode):\n",
    "            transcript_cds_begin_dict[parent_ts] = (cds_start, cds_stop, item)\n",
    "\n",
    "# collect first CDS exons for all transcripts of a gene\n",
    "for ts_key in transcript_to_gene_dict:\n",
    "    target_gene = transcript_to_gene_dict[ts_key]\n",
    "    if target_gene not in gene_cds_begin_dict:\n",
    "        gene_cds_begin_dict[target_gene] = []\n",
    "    if ts_key in transcript_cds_begin_dict:\n",
    "        gene_cds_begin_dict[target_gene].append(transcript_cds_begin_dict[ts_key])\n"
   ]
  },
  {
   "cell_type": "code",
   "execution_count": 14,
   "metadata": {
    "ExecuteTime": {
     "end_time": "2022-02-18T17:07:59.179526Z",
     "start_time": "2022-02-18T17:07:59.177307Z"
    }
   },
   "outputs": [],
   "source": [
    "# NEED TO SORT THE TRANSCRIPT TO CDS "
   ]
  },
  {
   "cell_type": "code",
   "execution_count": 15,
   "metadata": {
    "ExecuteTime": {
     "end_time": "2022-02-18T17:07:59.675085Z",
     "start_time": "2022-02-18T17:07:59.182024Z"
    }
   },
   "outputs": [],
   "source": [
    "# Custom collection of CDS \n",
    "transcript_cds_begin_dict_bis = {}\n",
    "transcript_cds_end_dict_bis = {}\n",
    "\n",
    "gene_cds_begin_dict_bis = defaultdict(list)\n",
    "gene_cds_end_dict_bis = defaultdict(list)\n",
    "\n",
    "# will be in reading order \n",
    "for ts_key in transcript_to_cds_dict:\n",
    "    if transcript_to_strand[ts_key] == '+': # '+'\n",
    "        transcript_cds_begin_dict_bis[ts_key] = (transcript_to_cds_dict[ts_key][0][0],\n",
    "                                                 transcript_to_cds_dict[ts_key][0][1], '+')\n",
    "        transcript_cds_end_dict_bis[ts_key] = (transcript_to_cds_dict[ts_key][-1][0],\n",
    "                                                 transcript_to_cds_dict[ts_key][-1][1], '+')\n",
    "        \n",
    "\n",
    "    else: \n",
    "        transcript_cds_begin_dict_bis[ts_key] = (transcript_to_cds_dict[ts_key][0][1],\n",
    "                                                 transcript_to_cds_dict[ts_key][0][0], '-')\n",
    "        transcript_cds_end_dict_bis[ts_key] = (transcript_to_cds_dict[ts_key][-1][1],\n",
    "                                                 transcript_to_cds_dict[ts_key][-1][0], '-')\n",
    "    \n",
    "    assert(transcript_cds_begin_dict_bis[ts_key][0] == transcript_cds_begin_dict[ts_key][0])\n",
    "    assert(transcript_cds_begin_dict_bis[ts_key][1] == transcript_cds_begin_dict[ts_key][1])\n",
    "\n",
    "# collect first, last CDS exons for all transcripts of a gene\n",
    "for ts_key in transcript_to_gene_dict:\n",
    "    target_gene = transcript_to_gene_dict[ts_key]\n",
    "    gene_cds_begin_dict_bis[target_gene].append(transcript_cds_begin_dict_bis[ts_key])\n",
    "    gene_cds_end_dict_bis[target_gene].append(transcript_cds_end_dict_bis[ts_key])"
   ]
  },
  {
   "cell_type": "code",
   "execution_count": 16,
   "metadata": {
    "ExecuteTime": {
     "end_time": "2022-02-18T17:07:59.679041Z",
     "start_time": "2022-02-18T17:07:59.676711Z"
    }
   },
   "outputs": [],
   "source": [
    "#gene_cds_begin_dict_bis"
   ]
  },
  {
   "cell_type": "markdown",
   "metadata": {},
   "source": [
    "# Step 3. Get the experiement/ kmer map "
   ]
  },
  {
   "cell_type": "markdown",
   "metadata": {},
   "source": [
    "## Step a. Get the experiment IDS\n",
    "### Input: J_experiment_map file"
   ]
  },
  {
   "cell_type": "code",
   "execution_count": 17,
   "metadata": {
    "ExecuteTime": {
     "end_time": "2022-02-18T17:07:59.690834Z",
     "start_time": "2022-02-18T17:07:59.681109Z"
    }
   },
   "outputs": [],
   "source": [
    "experiement_files = glob.glob(experiment_folder + '/*Uniprot*tsv')"
   ]
  },
  {
   "cell_type": "code",
   "execution_count": 18,
   "metadata": {
    "ExecuteTime": {
     "end_time": "2022-02-18T17:07:59.697411Z",
     "start_time": "2022-02-18T17:07:59.693220Z"
    }
   },
   "outputs": [],
   "source": [
    "folder_OHSU = '/cluster/work/grlab/projects/projects2020_OHSU/share_OHUS_PNLL/Aug21_graph_data_updatedfilters'"
   ]
  },
  {
   "cell_type": "code",
   "execution_count": 19,
   "metadata": {
    "ExecuteTime": {
     "end_time": "2022-02-18T17:07:59.716060Z",
     "start_time": "2022-02-18T17:07:59.700473Z"
    }
   },
   "outputs": [],
   "source": [
    "exp_map = pd.read_csv(os.path.join(folder_OHSU, 'J_experiment_map.tsv'), sep = '\\t')"
   ]
  },
  {
   "cell_type": "code",
   "execution_count": 20,
   "metadata": {
    "ExecuteTime": {
     "end_time": "2022-02-18T17:07:59.754087Z",
     "start_time": "2022-02-18T17:07:59.720043Z"
    }
   },
   "outputs": [
    {
     "data": {
      "text/html": [
       "<div>\n",
       "<style scoped>\n",
       "    .dataframe tbody tr th:only-of-type {\n",
       "        vertical-align: middle;\n",
       "    }\n",
       "\n",
       "    .dataframe tbody tr th {\n",
       "        vertical-align: top;\n",
       "    }\n",
       "\n",
       "    .dataframe thead th {\n",
       "        text-align: right;\n",
       "    }\n",
       "</style>\n",
       "<table border=\"1\" class=\"dataframe\">\n",
       "  <thead>\n",
       "    <tr style=\"text-align: right;\">\n",
       "      <th></th>\n",
       "      <th>id</th>\n",
       "      <th>motif_filter</th>\n",
       "      <th>min_sample_reads</th>\n",
       "      <th>#_of_cohort_samples</th>\n",
       "      <th>reads_per_cohort_sample</th>\n",
       "      <th>normal_cohort_id</th>\n",
       "      <th>#_normal_samples_allowed</th>\n",
       "      <th>reads_per_normal_sample</th>\n",
       "    </tr>\n",
       "  </thead>\n",
       "  <tbody>\n",
       "    <tr>\n",
       "      <th>0</th>\n",
       "      <td>1</td>\n",
       "      <td>1</td>\n",
       "      <td>0</td>\n",
       "      <td>0</td>\n",
       "      <td>0</td>\n",
       "      <td>paired</td>\n",
       "      <td>0</td>\n",
       "      <td>0</td>\n",
       "    </tr>\n",
       "    <tr>\n",
       "      <th>1</th>\n",
       "      <td>2</td>\n",
       "      <td>1</td>\n",
       "      <td>0</td>\n",
       "      <td>0</td>\n",
       "      <td>0</td>\n",
       "      <td>paired</td>\n",
       "      <td>2</td>\n",
       "      <td>3</td>\n",
       "    </tr>\n",
       "    <tr>\n",
       "      <th>2</th>\n",
       "      <td>3</td>\n",
       "      <td>1</td>\n",
       "      <td>0</td>\n",
       "      <td>0</td>\n",
       "      <td>0</td>\n",
       "      <td>paired</td>\n",
       "      <td>2</td>\n",
       "      <td>10</td>\n",
       "    </tr>\n",
       "    <tr>\n",
       "      <th>3</th>\n",
       "      <td>4</td>\n",
       "      <td>1</td>\n",
       "      <td>0</td>\n",
       "      <td>0</td>\n",
       "      <td>0</td>\n",
       "      <td>paired</td>\n",
       "      <td>2</td>\n",
       "      <td>-1</td>\n",
       "    </tr>\n",
       "    <tr>\n",
       "      <th>4</th>\n",
       "      <td>5</td>\n",
       "      <td>1</td>\n",
       "      <td>0</td>\n",
       "      <td>0</td>\n",
       "      <td>0</td>\n",
       "      <td>paired</td>\n",
       "      <td>10</td>\n",
       "      <td>3</td>\n",
       "    </tr>\n",
       "  </tbody>\n",
       "</table>\n",
       "</div>"
      ],
      "text/plain": [
       "   id  motif_filter  min_sample_reads  #_of_cohort_samples  \\\n",
       "0   1             1                 0                    0   \n",
       "1   2             1                 0                    0   \n",
       "2   3             1                 0                    0   \n",
       "3   4             1                 0                    0   \n",
       "4   5             1                 0                    0   \n",
       "\n",
       "   reads_per_cohort_sample normal_cohort_id  #_normal_samples_allowed  \\\n",
       "0                        0           paired                         0   \n",
       "1                        0           paired                         2   \n",
       "2                        0           paired                         2   \n",
       "3                        0           paired                         2   \n",
       "4                        0           paired                        10   \n",
       "\n",
       "   reads_per_normal_sample  \n",
       "0                        0  \n",
       "1                        3  \n",
       "2                       10  \n",
       "3                       -1  \n",
       "4                        3  "
      ]
     },
     "execution_count": 20,
     "metadata": {},
     "output_type": "execute_result"
    }
   ],
   "source": [
    "exp_map.head()"
   ]
  },
  {
   "cell_type": "code",
   "execution_count": 21,
   "metadata": {
    "ExecuteTime": {
     "end_time": "2022-02-18T17:07:59.764616Z",
     "start_time": "2022-02-18T17:07:59.757058Z"
    }
   },
   "outputs": [],
   "source": [
    "def path_to_condition(all_paths):\n",
    "    '''Converts ETH Names into experimental conditions '''\n",
    "    # None handling added \n",
    "    \n",
    "    #all_paths = [path.replace('None', '-1') for path in all_paths]\n",
    "    sample_expr = [os.path.basename(path).split('ref_SampleLim')[1].split('Cohort')[0]\n",
    "                   for path in all_paths ]\n",
    "\n",
    "    foreground_cohort_expr = [os.path.basename(path).split('CohortLim')[1].split('Across')[0]\n",
    "                                       for path in all_paths ]\n",
    "\n",
    "    foreground_cohort_samples = [os.path.basename(path).split('Across')[1].split('_Filt')[0] \n",
    "                                 for path in all_paths ]\n",
    "\n",
    "    background_cohort_expr = [os.path.basename(path).split('Cohortlim')[1].split('Across')[0]\n",
    "                              for path in all_paths ]\n",
    "\n",
    "    background_cohort_samples = [os.path.basename(path).split('Across')[2].split('_FiltUn')[0]\n",
    "                                 for path in all_paths ]\n",
    "    background_cohort_id = [os.path.basename(path).split('Normals')[1].split('lim')[0] for path in all_paths ]\n",
    "\n",
    "    legend_quant = pd.DataFrame({'min_sample_reads':sample_expr, \n",
    "                  'reads_per_cohort_sample': foreground_cohort_expr, \n",
    "                  '#_of_cohort_samples': foreground_cohort_samples, \n",
    "                  'reads_per_normal_sample': background_cohort_expr,\n",
    "                  '#_normal_samples_allowed' : background_cohort_samples, \n",
    "                    'normal_cohort_id':background_cohort_id, \n",
    "                    'original_name':all_paths})\n",
    "\n",
    "    return legend_quant"
   ]
  },
  {
   "cell_type": "code",
   "execution_count": 22,
   "metadata": {
    "ExecuteTime": {
     "end_time": "2022-02-18T17:07:59.774903Z",
     "start_time": "2022-02-18T17:07:59.766482Z"
    }
   },
   "outputs": [
    {
     "data": {
      "text/plain": [
       "['/cluster/work/grlab/projects/projects2020_OHSU/peptides_generation/v2_v2.5f0752a_conf2_annotFrame_cap0_runs_pya0.17.1/TCGA_Breast_1102/filter_TCGA-BH-A18V-01A-11R-A12D-07.all/commit_d4aee54_GTEXcore/G_TCGA-BH-A18V-01A-11R-A12D-07.all_ref_SampleLim2.0CohortLim1.0Across10_FiltNormalsGtexcoreCohortlim3.0AcrossNone_FiltUniprot.tsv',\n",
       " '/cluster/work/grlab/projects/projects2020_OHSU/peptides_generation/v2_v2.5f0752a_conf2_annotFrame_cap0_runs_pya0.17.1/TCGA_Breast_1102/filter_TCGA-BH-A18V-01A-11R-A12D-07.all/commit_d4aee54_GTEXcore/G_TCGA-BH-A18V-01A-11R-A12D-07.all_ref_SampleLim0.0CohortLim5.0Across2_FiltNormalsGtexcoreCohortlim0.0Across0_FiltUniprot.tsv',\n",
       " '/cluster/work/grlab/projects/projects2020_OHSU/peptides_generation/v2_v2.5f0752a_conf2_annotFrame_cap0_runs_pya0.17.1/TCGA_Breast_1102/filter_TCGA-BH-A18V-01A-11R-A12D-07.all/commit_d4aee54_GTEXcore/G_TCGA-BH-A18V-01A-11R-A12D-07.all_ref_SampleLim2.0CohortLim0.0Across1_FiltNormalsGtexcoreCohortlimNoneAcross2_FiltUniprot.tsv',\n",
       " '/cluster/work/grlab/projects/projects2020_OHSU/peptides_generation/v2_v2.5f0752a_conf2_annotFrame_cap0_runs_pya0.17.1/TCGA_Breast_1102/filter_TCGA-BH-A18V-01A-11R-A12D-07.all/commit_d4aee54_GTEXcore/G_TCGA-BH-A18V-01A-11R-A12D-07.all_ref_SampleLim0.0CohortLim1.0Across2_FiltNormalsGtexcoreCohortlim3.0AcrossNone_FiltUniprot.tsv',\n",
       " '/cluster/work/grlab/projects/projects2020_OHSU/peptides_generation/v2_v2.5f0752a_conf2_annotFrame_cap0_runs_pya0.17.1/TCGA_Breast_1102/filter_TCGA-BH-A18V-01A-11R-A12D-07.all/commit_d4aee54_GTEXcore/G_TCGA-BH-A18V-01A-11R-A12D-07.all_ref_SampleLim2.0CohortLim5.0Across1_FiltNormalsGtexcoreCohortlim0.0Across0_FiltUniprot.tsv',\n",
       " '/cluster/work/grlab/projects/projects2020_OHSU/peptides_generation/v2_v2.5f0752a_conf2_annotFrame_cap0_runs_pya0.17.1/TCGA_Breast_1102/filter_TCGA-BH-A18V-01A-11R-A12D-07.all/commit_d4aee54_GTEXcore/G_TCGA-BH-A18V-01A-11R-A12D-07.all_ref_SampleLim0.0CohortLim1.0Across2_FiltNormalsGtexcoreCohortlim3.0Across2_FiltUniprot.tsv',\n",
       " '/cluster/work/grlab/projects/projects2020_OHSU/peptides_generation/v2_v2.5f0752a_conf2_annotFrame_cap0_runs_pya0.17.1/TCGA_Breast_1102/filter_TCGA-BH-A18V-01A-11R-A12D-07.all/commit_d4aee54_GTEXcore/G_TCGA-BH-A18V-01A-11R-A12D-07.all_ref_SampleLim2.0CohortLim5.0Across2_FiltNormalsGtexcoreCohortlimNoneAcross2_FiltUniprot.tsv',\n",
       " '/cluster/work/grlab/projects/projects2020_OHSU/peptides_generation/v2_v2.5f0752a_conf2_annotFrame_cap0_runs_pya0.17.1/TCGA_Breast_1102/filter_TCGA-BH-A18V-01A-11R-A12D-07.all/commit_d4aee54_GTEXcore/G_TCGA-BH-A18V-01A-11R-A12D-07.all_ref_SampleLim2.0CohortLim1.0Across10_FiltNormalsGtexcoreCohortlim0.0Across0_FiltUniprot.tsv',\n",
       " '/cluster/work/grlab/projects/projects2020_OHSU/peptides_generation/v2_v2.5f0752a_conf2_annotFrame_cap0_runs_pya0.17.1/TCGA_Breast_1102/filter_TCGA-BH-A18V-01A-11R-A12D-07.all/commit_d4aee54_GTEXcore/G_TCGA-BH-A18V-01A-11R-A12D-07.all_ref_SampleLim2.0CohortLim0.0Across1_FiltNormalsGtexcoreCohortlim10.0Across2_FiltUniprot.tsv',\n",
       " '/cluster/work/grlab/projects/projects2020_OHSU/peptides_generation/v2_v2.5f0752a_conf2_annotFrame_cap0_runs_pya0.17.1/TCGA_Breast_1102/filter_TCGA-BH-A18V-01A-11R-A12D-07.all/commit_d4aee54_GTEXcore/G_TCGA-BH-A18V-01A-11R-A12D-07.all_ref_SampleLim0.0CohortLim1.0Across1_FiltNormalsGtexcoreCohortlim3.0Across10_FiltUniprot.tsv',\n",
       " '/cluster/work/grlab/projects/projects2020_OHSU/peptides_generation/v2_v2.5f0752a_conf2_annotFrame_cap0_runs_pya0.17.1/TCGA_Breast_1102/filter_TCGA-BH-A18V-01A-11R-A12D-07.all/commit_d4aee54_GTEXcore/G_TCGA-BH-A18V-01A-11R-A12D-07.all_ref_SampleLim2.0CohortLim5.0Across10_FiltNormalsGtexcoreCohortlim0.0Across0_FiltUniprot.tsv',\n",
       " '/cluster/work/grlab/projects/projects2020_OHSU/peptides_generation/v2_v2.5f0752a_conf2_annotFrame_cap0_runs_pya0.17.1/TCGA_Breast_1102/filter_TCGA-BH-A18V-01A-11R-A12D-07.all/commit_d4aee54_GTEXcore/G_TCGA-BH-A18V-01A-11R-A12D-07.all_ref_SampleLim2.0CohortLim1.0Across1_FiltNormalsGtexcoreCohortlim10.0Across2_FiltUniprot.tsv',\n",
       " '/cluster/work/grlab/projects/projects2020_OHSU/peptides_generation/v2_v2.5f0752a_conf2_annotFrame_cap0_runs_pya0.17.1/TCGA_Breast_1102/filter_TCGA-BH-A18V-01A-11R-A12D-07.all/commit_d4aee54_GTEXcore/G_TCGA-BH-A18V-01A-11R-A12D-07.all_ref_SampleLim0.0CohortLim1.0Across10_FiltNormalsGtexcoreCohortlim10.0Across2_FiltUniprot.tsv',\n",
       " '/cluster/work/grlab/projects/projects2020_OHSU/peptides_generation/v2_v2.5f0752a_conf2_annotFrame_cap0_runs_pya0.17.1/TCGA_Breast_1102/filter_TCGA-BH-A18V-01A-11R-A12D-07.all/commit_d4aee54_GTEXcore/G_TCGA-BH-A18V-01A-11R-A12D-07.all_ref_SampleLim0.0CohortLim5.0Across2_FiltNormalsGtexcoreCohortlim10.0Across2_FiltUniprot.tsv',\n",
       " '/cluster/work/grlab/projects/projects2020_OHSU/peptides_generation/v2_v2.5f0752a_conf2_annotFrame_cap0_runs_pya0.17.1/TCGA_Breast_1102/filter_TCGA-BH-A18V-01A-11R-A12D-07.all/commit_d4aee54_GTEXcore/G_TCGA-BH-A18V-01A-11R-A12D-07.all_ref_SampleLim2.0CohortLim1.0Across2_FiltNormalsGtexcoreCohortlimNoneAcross2_FiltUniprot.tsv',\n",
       " '/cluster/work/grlab/projects/projects2020_OHSU/peptides_generation/v2_v2.5f0752a_conf2_annotFrame_cap0_runs_pya0.17.1/TCGA_Breast_1102/filter_TCGA-BH-A18V-01A-11R-A12D-07.all/commit_d4aee54_GTEXcore/G_TCGA-BH-A18V-01A-11R-A12D-07.all_ref_SampleLim0.0CohortLim0.0Across2_FiltNormalsGtexcoreCohortlim3.0Across10_FiltUniprot.tsv',\n",
       " '/cluster/work/grlab/projects/projects2020_OHSU/peptides_generation/v2_v2.5f0752a_conf2_annotFrame_cap0_runs_pya0.17.1/TCGA_Breast_1102/filter_TCGA-BH-A18V-01A-11R-A12D-07.all/commit_d4aee54_GTEXcore/G_TCGA-BH-A18V-01A-11R-A12D-07.all_ref_SampleLim0.0CohortLim1.0Across1_FiltNormalsGtexcoreCohortlimNoneAcross2_FiltUniprot.tsv',\n",
       " '/cluster/work/grlab/projects/projects2020_OHSU/peptides_generation/v2_v2.5f0752a_conf2_annotFrame_cap0_runs_pya0.17.1/TCGA_Breast_1102/filter_TCGA-BH-A18V-01A-11R-A12D-07.all/commit_d4aee54_GTEXcore/G_TCGA-BH-A18V-01A-11R-A12D-07.all_ref_SampleLim2.0CohortLim1.0Across10_FiltNormalsGtexcoreCohortlim3.0Across2_FiltUniprot.tsv',\n",
       " '/cluster/work/grlab/projects/projects2020_OHSU/peptides_generation/v2_v2.5f0752a_conf2_annotFrame_cap0_runs_pya0.17.1/TCGA_Breast_1102/filter_TCGA-BH-A18V-01A-11R-A12D-07.all/commit_d4aee54_GTEXcore/G_TCGA-BH-A18V-01A-11R-A12D-07.all_ref_SampleLim0.0CohortLimNoneAcrossNone_FiltNormalsGtexcoreCohortlim3.0Across2_FiltUniprot.tsv',\n",
       " '/cluster/work/grlab/projects/projects2020_OHSU/peptides_generation/v2_v2.5f0752a_conf2_annotFrame_cap0_runs_pya0.17.1/TCGA_Breast_1102/filter_TCGA-BH-A18V-01A-11R-A12D-07.all/commit_d4aee54_GTEXcore/G_TCGA-BH-A18V-01A-11R-A12D-07.all_ref_SampleLim2.0CohortLim1.0Across2_FiltNormalsGtexcoreCohortlim0.0Across0_FiltUniprot.tsv',\n",
       " '/cluster/work/grlab/projects/projects2020_OHSU/peptides_generation/v2_v2.5f0752a_conf2_annotFrame_cap0_runs_pya0.17.1/TCGA_Breast_1102/filter_TCGA-BH-A18V-01A-11R-A12D-07.all/commit_d4aee54_GTEXcore/G_TCGA-BH-A18V-01A-11R-A12D-07.all_ref_SampleLim0.0CohortLim1.0Across10_FiltNormalsGtexcoreCohortlim3.0AcrossNone_FiltUniprot.tsv',\n",
       " '/cluster/work/grlab/projects/projects2020_OHSU/peptides_generation/v2_v2.5f0752a_conf2_annotFrame_cap0_runs_pya0.17.1/TCGA_Breast_1102/filter_TCGA-BH-A18V-01A-11R-A12D-07.all/commit_d4aee54_GTEXcore/G_TCGA-BH-A18V-01A-11R-A12D-07.all_ref_SampleLim0.0CohortLim5.0Across2_FiltNormalsGtexcoreCohortlimNoneAcross2_FiltUniprot.tsv',\n",
       " '/cluster/work/grlab/projects/projects2020_OHSU/peptides_generation/v2_v2.5f0752a_conf2_annotFrame_cap0_runs_pya0.17.1/TCGA_Breast_1102/filter_TCGA-BH-A18V-01A-11R-A12D-07.all/commit_d4aee54_GTEXcore/G_TCGA-BH-A18V-01A-11R-A12D-07.all_ref_SampleLim0.0CohortLim0.0Across1_FiltNormalsGtexcoreCohortlim10.0Across2_FiltUniprot.tsv',\n",
       " '/cluster/work/grlab/projects/projects2020_OHSU/peptides_generation/v2_v2.5f0752a_conf2_annotFrame_cap0_runs_pya0.17.1/TCGA_Breast_1102/filter_TCGA-BH-A18V-01A-11R-A12D-07.all/commit_d4aee54_GTEXcore/G_TCGA-BH-A18V-01A-11R-A12D-07.all_ref_SampleLim2.0CohortLim1.0Across2_FiltNormalsGtexcoreCohortlim3.0AcrossNone_FiltUniprot.tsv',\n",
       " '/cluster/work/grlab/projects/projects2020_OHSU/peptides_generation/v2_v2.5f0752a_conf2_annotFrame_cap0_runs_pya0.17.1/TCGA_Breast_1102/filter_TCGA-BH-A18V-01A-11R-A12D-07.all/commit_d4aee54_GTEXcore/G_TCGA-BH-A18V-01A-11R-A12D-07.all_ref_SampleLim2.0CohortLim5.0Across10_FiltNormalsGtexcoreCohortlim3.0Across10_FiltUniprot.tsv',\n",
       " '/cluster/work/grlab/projects/projects2020_OHSU/peptides_generation/v2_v2.5f0752a_conf2_annotFrame_cap0_runs_pya0.17.1/TCGA_Breast_1102/filter_TCGA-BH-A18V-01A-11R-A12D-07.all/commit_d4aee54_GTEXcore/G_TCGA-BH-A18V-01A-11R-A12D-07.all_ref_SampleLim2.0CohortLim1.0Across1_FiltNormalsGtexcoreCohortlimNoneAcross2_FiltUniprot.tsv',\n",
       " '/cluster/work/grlab/projects/projects2020_OHSU/peptides_generation/v2_v2.5f0752a_conf2_annotFrame_cap0_runs_pya0.17.1/TCGA_Breast_1102/filter_TCGA-BH-A18V-01A-11R-A12D-07.all/commit_d4aee54_GTEXcore/G_TCGA-BH-A18V-01A-11R-A12D-07.all_ref_SampleLim2.0CohortLim5.0Across2_FiltNormalsGtexcoreCohortlim3.0AcrossNone_FiltUniprot.tsv',\n",
       " '/cluster/work/grlab/projects/projects2020_OHSU/peptides_generation/v2_v2.5f0752a_conf2_annotFrame_cap0_runs_pya0.17.1/TCGA_Breast_1102/filter_TCGA-BH-A18V-01A-11R-A12D-07.all/commit_d4aee54_GTEXcore/G_TCGA-BH-A18V-01A-11R-A12D-07.all_ref_SampleLim0.0CohortLim5.0Across1_FiltNormalsGtexcoreCohortlim10.0Across2_FiltUniprot.tsv',\n",
       " '/cluster/work/grlab/projects/projects2020_OHSU/peptides_generation/v2_v2.5f0752a_conf2_annotFrame_cap0_runs_pya0.17.1/TCGA_Breast_1102/filter_TCGA-BH-A18V-01A-11R-A12D-07.all/commit_d4aee54_GTEXcore/G_TCGA-BH-A18V-01A-11R-A12D-07.all_ref_SampleLim0.0CohortLim0.0Across1_FiltNormalsGtexcoreCohortlim3.0AcrossNone_FiltUniprot.tsv',\n",
       " '/cluster/work/grlab/projects/projects2020_OHSU/peptides_generation/v2_v2.5f0752a_conf2_annotFrame_cap0_runs_pya0.17.1/TCGA_Breast_1102/filter_TCGA-BH-A18V-01A-11R-A12D-07.all/commit_d4aee54_GTEXcore/G_TCGA-BH-A18V-01A-11R-A12D-07.all_ref_SampleLim2.0CohortLim1.0Across2_FiltNormalsGtexcoreCohortlim3.0Across2_FiltUniprot.tsv',\n",
       " '/cluster/work/grlab/projects/projects2020_OHSU/peptides_generation/v2_v2.5f0752a_conf2_annotFrame_cap0_runs_pya0.17.1/TCGA_Breast_1102/filter_TCGA-BH-A18V-01A-11R-A12D-07.all/commit_d4aee54_GTEXcore/G_TCGA-BH-A18V-01A-11R-A12D-07.all_ref_SampleLim0.0CohortLim5.0Across1_FiltNormalsGtexcoreCohortlimNoneAcross2_FiltUniprot.tsv',\n",
       " '/cluster/work/grlab/projects/projects2020_OHSU/peptides_generation/v2_v2.5f0752a_conf2_annotFrame_cap0_runs_pya0.17.1/TCGA_Breast_1102/filter_TCGA-BH-A18V-01A-11R-A12D-07.all/commit_d4aee54_GTEXcore/G_TCGA-BH-A18V-01A-11R-A12D-07.all_ref_SampleLim0.0CohortLim1.0Across1_FiltNormalsGtexcoreCohortlim0.0Across0_FiltUniprot.tsv',\n",
       " '/cluster/work/grlab/projects/projects2020_OHSU/peptides_generation/v2_v2.5f0752a_conf2_annotFrame_cap0_runs_pya0.17.1/TCGA_Breast_1102/filter_TCGA-BH-A18V-01A-11R-A12D-07.all/commit_d4aee54_GTEXcore/G_TCGA-BH-A18V-01A-11R-A12D-07.all_ref_SampleLim0.0CohortLim0.0Across1_FiltNormalsGtexcoreCohortlim3.0Across10_FiltUniprot.tsv',\n",
       " '/cluster/work/grlab/projects/projects2020_OHSU/peptides_generation/v2_v2.5f0752a_conf2_annotFrame_cap0_runs_pya0.17.1/TCGA_Breast_1102/filter_TCGA-BH-A18V-01A-11R-A12D-07.all/commit_d4aee54_GTEXcore/G_TCGA-BH-A18V-01A-11R-A12D-07.all_ref_SampleLim2.0CohortLim0.0Across10_FiltNormalsGtexcoreCohortlim0.0Across0_FiltUniprot.tsv',\n",
       " '/cluster/work/grlab/projects/projects2020_OHSU/peptides_generation/v2_v2.5f0752a_conf2_annotFrame_cap0_runs_pya0.17.1/TCGA_Breast_1102/filter_TCGA-BH-A18V-01A-11R-A12D-07.all/commit_d4aee54_GTEXcore/G_TCGA-BH-A18V-01A-11R-A12D-07.all_ref_SampleLim0.0CohortLimNoneAcrossNone_FiltNormalsGtexcoreCohortlim3.0AcrossNone_FiltUniprot.tsv',\n",
       " '/cluster/work/grlab/projects/projects2020_OHSU/peptides_generation/v2_v2.5f0752a_conf2_annotFrame_cap0_runs_pya0.17.1/TCGA_Breast_1102/filter_TCGA-BH-A18V-01A-11R-A12D-07.all/commit_d4aee54_GTEXcore/G_TCGA-BH-A18V-01A-11R-A12D-07.all_ref_SampleLim2.0CohortLimNoneAcrossNone_FiltNormalsGtexcoreCohortlim10.0Across2_FiltUniprot.tsv',\n",
       " '/cluster/work/grlab/projects/projects2020_OHSU/peptides_generation/v2_v2.5f0752a_conf2_annotFrame_cap0_runs_pya0.17.1/TCGA_Breast_1102/filter_TCGA-BH-A18V-01A-11R-A12D-07.all/commit_d4aee54_GTEXcore/G_TCGA-BH-A18V-01A-11R-A12D-07.all_ref_SampleLim2.0CohortLim0.0Across2_FiltNormalsGtexcoreCohortlim0.0Across0_FiltUniprot.tsv',\n",
       " '/cluster/work/grlab/projects/projects2020_OHSU/peptides_generation/v2_v2.5f0752a_conf2_annotFrame_cap0_runs_pya0.17.1/TCGA_Breast_1102/filter_TCGA-BH-A18V-01A-11R-A12D-07.all/commit_d4aee54_GTEXcore/G_TCGA-BH-A18V-01A-11R-A12D-07.all_ref_SampleLim2.0CohortLim0.0Across10_FiltNormalsGtexcoreCohortlim3.0Across2_FiltUniprot.tsv',\n",
       " '/cluster/work/grlab/projects/projects2020_OHSU/peptides_generation/v2_v2.5f0752a_conf2_annotFrame_cap0_runs_pya0.17.1/TCGA_Breast_1102/filter_TCGA-BH-A18V-01A-11R-A12D-07.all/commit_d4aee54_GTEXcore/G_TCGA-BH-A18V-01A-11R-A12D-07.all_ref_SampleLim0.0CohortLim0.0Across10_FiltNormalsGtexcoreCohortlim10.0Across2_FiltUniprot.tsv',\n",
       " '/cluster/work/grlab/projects/projects2020_OHSU/peptides_generation/v2_v2.5f0752a_conf2_annotFrame_cap0_runs_pya0.17.1/TCGA_Breast_1102/filter_TCGA-BH-A18V-01A-11R-A12D-07.all/commit_d4aee54_GTEXcore/G_TCGA-BH-A18V-01A-11R-A12D-07.all_ref_SampleLim0.0CohortLim1.0Across1_FiltNormalsGtexcoreCohortlim10.0Across2_FiltUniprot.tsv',\n",
       " '/cluster/work/grlab/projects/projects2020_OHSU/peptides_generation/v2_v2.5f0752a_conf2_annotFrame_cap0_runs_pya0.17.1/TCGA_Breast_1102/filter_TCGA-BH-A18V-01A-11R-A12D-07.all/commit_d4aee54_GTEXcore/G_TCGA-BH-A18V-01A-11R-A12D-07.all_ref_SampleLim0.0CohortLim1.0Across10_FiltNormalsGtexcoreCohortlim3.0Across2_FiltUniprot.tsv',\n",
       " '/cluster/work/grlab/projects/projects2020_OHSU/peptides_generation/v2_v2.5f0752a_conf2_annotFrame_cap0_runs_pya0.17.1/TCGA_Breast_1102/filter_TCGA-BH-A18V-01A-11R-A12D-07.all/commit_d4aee54_GTEXcore/G_TCGA-BH-A18V-01A-11R-A12D-07.all_ref_SampleLim2.0CohortLim0.0Across10_FiltNormalsGtexcoreCohortlimNoneAcross2_FiltUniprot.tsv',\n",
       " '/cluster/work/grlab/projects/projects2020_OHSU/peptides_generation/v2_v2.5f0752a_conf2_annotFrame_cap0_runs_pya0.17.1/TCGA_Breast_1102/filter_TCGA-BH-A18V-01A-11R-A12D-07.all/commit_d4aee54_GTEXcore/G_TCGA-BH-A18V-01A-11R-A12D-07.all_ref_SampleLim2.0CohortLim1.0Across2_FiltNormalsGtexcoreCohortlim3.0Across10_FiltUniprot.tsv',\n",
       " '/cluster/work/grlab/projects/projects2020_OHSU/peptides_generation/v2_v2.5f0752a_conf2_annotFrame_cap0_runs_pya0.17.1/TCGA_Breast_1102/filter_TCGA-BH-A18V-01A-11R-A12D-07.all/commit_d4aee54_GTEXcore/G_TCGA-BH-A18V-01A-11R-A12D-07.all_ref_SampleLim0.0CohortLim5.0Across10_FiltNormalsGtexcoreCohortlim3.0Across2_FiltUniprot.tsv',\n",
       " '/cluster/work/grlab/projects/projects2020_OHSU/peptides_generation/v2_v2.5f0752a_conf2_annotFrame_cap0_runs_pya0.17.1/TCGA_Breast_1102/filter_TCGA-BH-A18V-01A-11R-A12D-07.all/commit_d4aee54_GTEXcore/G_TCGA-BH-A18V-01A-11R-A12D-07.all_ref_SampleLim2.0CohortLimNoneAcrossNone_FiltNormalsGtexcoreCohortlim3.0Across10_FiltUniprot.tsv',\n",
       " '/cluster/work/grlab/projects/projects2020_OHSU/peptides_generation/v2_v2.5f0752a_conf2_annotFrame_cap0_runs_pya0.17.1/TCGA_Breast_1102/filter_TCGA-BH-A18V-01A-11R-A12D-07.all/commit_d4aee54_GTEXcore/G_TCGA-BH-A18V-01A-11R-A12D-07.all_ref_SampleLim2.0CohortLim5.0Across1_FiltNormalsGtexcoreCohortlim3.0AcrossNone_FiltUniprot.tsv',\n",
       " '/cluster/work/grlab/projects/projects2020_OHSU/peptides_generation/v2_v2.5f0752a_conf2_annotFrame_cap0_runs_pya0.17.1/TCGA_Breast_1102/filter_TCGA-BH-A18V-01A-11R-A12D-07.all/commit_d4aee54_GTEXcore/G_TCGA-BH-A18V-01A-11R-A12D-07.all_ref_SampleLim2.0CohortLim1.0Across1_FiltNormalsGtexcoreCohortlim0.0Across0_FiltUniprot.tsv',\n",
       " '/cluster/work/grlab/projects/projects2020_OHSU/peptides_generation/v2_v2.5f0752a_conf2_annotFrame_cap0_runs_pya0.17.1/TCGA_Breast_1102/filter_TCGA-BH-A18V-01A-11R-A12D-07.all/commit_d4aee54_GTEXcore/G_TCGA-BH-A18V-01A-11R-A12D-07.all_ref_SampleLim0.0CohortLim1.0Across2_FiltNormalsGtexcoreCohortlim0.0Across0_FiltUniprot.tsv',\n",
       " '/cluster/work/grlab/projects/projects2020_OHSU/peptides_generation/v2_v2.5f0752a_conf2_annotFrame_cap0_runs_pya0.17.1/TCGA_Breast_1102/filter_TCGA-BH-A18V-01A-11R-A12D-07.all/commit_d4aee54_GTEXcore/G_TCGA-BH-A18V-01A-11R-A12D-07.all_ref_SampleLim0.0CohortLim1.0Across2_FiltNormalsGtexcoreCohortlim3.0Across10_FiltUniprot.tsv',\n",
       " '/cluster/work/grlab/projects/projects2020_OHSU/peptides_generation/v2_v2.5f0752a_conf2_annotFrame_cap0_runs_pya0.17.1/TCGA_Breast_1102/filter_TCGA-BH-A18V-01A-11R-A12D-07.all/commit_d4aee54_GTEXcore/G_TCGA-BH-A18V-01A-11R-A12D-07.all_ref_SampleLim2.0CohortLim5.0Across2_FiltNormalsGtexcoreCohortlim0.0Across0_FiltUniprot.tsv',\n",
       " '/cluster/work/grlab/projects/projects2020_OHSU/peptides_generation/v2_v2.5f0752a_conf2_annotFrame_cap0_runs_pya0.17.1/TCGA_Breast_1102/filter_TCGA-BH-A18V-01A-11R-A12D-07.all/commit_d4aee54_GTEXcore/G_TCGA-BH-A18V-01A-11R-A12D-07.all_ref_SampleLim2.0CohortLim0.0Across1_FiltNormalsGtexcoreCohortlim3.0Across10_FiltUniprot.tsv',\n",
       " '/cluster/work/grlab/projects/projects2020_OHSU/peptides_generation/v2_v2.5f0752a_conf2_annotFrame_cap0_runs_pya0.17.1/TCGA_Breast_1102/filter_TCGA-BH-A18V-01A-11R-A12D-07.all/commit_d4aee54_GTEXcore/G_TCGA-BH-A18V-01A-11R-A12D-07.all_ref_SampleLim2.0CohortLim5.0Across1_FiltNormalsGtexcoreCohortlim3.0Across2_FiltUniprot.tsv',\n",
       " '/cluster/work/grlab/projects/projects2020_OHSU/peptides_generation/v2_v2.5f0752a_conf2_annotFrame_cap0_runs_pya0.17.1/TCGA_Breast_1102/filter_TCGA-BH-A18V-01A-11R-A12D-07.all/commit_d4aee54_GTEXcore/G_TCGA-BH-A18V-01A-11R-A12D-07.all_ref_SampleLim2.0CohortLim0.0Across1_FiltNormalsGtexcoreCohortlim3.0AcrossNone_FiltUniprot.tsv',\n",
       " '/cluster/work/grlab/projects/projects2020_OHSU/peptides_generation/v2_v2.5f0752a_conf2_annotFrame_cap0_runs_pya0.17.1/TCGA_Breast_1102/filter_TCGA-BH-A18V-01A-11R-A12D-07.all/commit_d4aee54_GTEXcore/G_TCGA-BH-A18V-01A-11R-A12D-07.all_ref_SampleLim2.0CohortLim5.0Across2_FiltNormalsGtexcoreCohortlim3.0Across10_FiltUniprot.tsv',\n",
       " '/cluster/work/grlab/projects/projects2020_OHSU/peptides_generation/v2_v2.5f0752a_conf2_annotFrame_cap0_runs_pya0.17.1/TCGA_Breast_1102/filter_TCGA-BH-A18V-01A-11R-A12D-07.all/commit_d4aee54_GTEXcore/G_TCGA-BH-A18V-01A-11R-A12D-07.all_ref_SampleLim2.0CohortLim1.0Across1_FiltNormalsGtexcoreCohortlim3.0Across10_FiltUniprot.tsv',\n",
       " '/cluster/work/grlab/projects/projects2020_OHSU/peptides_generation/v2_v2.5f0752a_conf2_annotFrame_cap0_runs_pya0.17.1/TCGA_Breast_1102/filter_TCGA-BH-A18V-01A-11R-A12D-07.all/commit_d4aee54_GTEXcore/G_TCGA-BH-A18V-01A-11R-A12D-07.all_ref_SampleLim0.0CohortLimNoneAcrossNone_FiltNormalsGtexcoreCohortlim10.0Across2_FiltUniprot.tsv',\n",
       " '/cluster/work/grlab/projects/projects2020_OHSU/peptides_generation/v2_v2.5f0752a_conf2_annotFrame_cap0_runs_pya0.17.1/TCGA_Breast_1102/filter_TCGA-BH-A18V-01A-11R-A12D-07.all/commit_d4aee54_GTEXcore/G_TCGA-BH-A18V-01A-11R-A12D-07.all_ref_SampleLim0.0CohortLim5.0Across2_FiltNormalsGtexcoreCohortlim3.0Across10_FiltUniprot.tsv',\n",
       " '/cluster/work/grlab/projects/projects2020_OHSU/peptides_generation/v2_v2.5f0752a_conf2_annotFrame_cap0_runs_pya0.17.1/TCGA_Breast_1102/filter_TCGA-BH-A18V-01A-11R-A12D-07.all/commit_d4aee54_GTEXcore/G_TCGA-BH-A18V-01A-11R-A12D-07.all_ref_SampleLim0.0CohortLim5.0Across1_FiltNormalsGtexcoreCohortlim3.0AcrossNone_FiltUniprot.tsv',\n",
       " '/cluster/work/grlab/projects/projects2020_OHSU/peptides_generation/v2_v2.5f0752a_conf2_annotFrame_cap0_runs_pya0.17.1/TCGA_Breast_1102/filter_TCGA-BH-A18V-01A-11R-A12D-07.all/commit_d4aee54_GTEXcore/G_TCGA-BH-A18V-01A-11R-A12D-07.all_ref_SampleLim0.0CohortLimNoneAcrossNone_FiltNormalsGtexcoreCohortlim0.0Across0_FiltUniprot.tsv',\n",
       " '/cluster/work/grlab/projects/projects2020_OHSU/peptides_generation/v2_v2.5f0752a_conf2_annotFrame_cap0_runs_pya0.17.1/TCGA_Breast_1102/filter_TCGA-BH-A18V-01A-11R-A12D-07.all/commit_d4aee54_GTEXcore/G_TCGA-BH-A18V-01A-11R-A12D-07.all_ref_SampleLim2.0CohortLim1.0Across1_FiltNormalsGtexcoreCohortlim3.0AcrossNone_FiltUniprot.tsv',\n",
       " '/cluster/work/grlab/projects/projects2020_OHSU/peptides_generation/v2_v2.5f0752a_conf2_annotFrame_cap0_runs_pya0.17.1/TCGA_Breast_1102/filter_TCGA-BH-A18V-01A-11R-A12D-07.all/commit_d4aee54_GTEXcore/G_TCGA-BH-A18V-01A-11R-A12D-07.all_ref_SampleLim0.0CohortLim0.0Across2_FiltNormalsGtexcoreCohortlimNoneAcross2_FiltUniprot.tsv',\n",
       " '/cluster/work/grlab/projects/projects2020_OHSU/peptides_generation/v2_v2.5f0752a_conf2_annotFrame_cap0_runs_pya0.17.1/TCGA_Breast_1102/filter_TCGA-BH-A18V-01A-11R-A12D-07.all/commit_d4aee54_GTEXcore/G_TCGA-BH-A18V-01A-11R-A12D-07.all_ref_SampleLim2.0CohortLim0.0Across1_FiltNormalsGtexcoreCohortlim3.0Across2_FiltUniprot.tsv',\n",
       " '/cluster/work/grlab/projects/projects2020_OHSU/peptides_generation/v2_v2.5f0752a_conf2_annotFrame_cap0_runs_pya0.17.1/TCGA_Breast_1102/filter_TCGA-BH-A18V-01A-11R-A12D-07.all/commit_d4aee54_GTEXcore/G_TCGA-BH-A18V-01A-11R-A12D-07.all_ref_SampleLim0.0CohortLim5.0Across1_FiltNormalsGtexcoreCohortlim0.0Across0_FiltUniprot.tsv',\n",
       " '/cluster/work/grlab/projects/projects2020_OHSU/peptides_generation/v2_v2.5f0752a_conf2_annotFrame_cap0_runs_pya0.17.1/TCGA_Breast_1102/filter_TCGA-BH-A18V-01A-11R-A12D-07.all/commit_d4aee54_GTEXcore/G_TCGA-BH-A18V-01A-11R-A12D-07.all_ref_SampleLim0.0CohortLim5.0Across10_FiltNormalsGtexcoreCohortlim3.0Across10_FiltUniprot.tsv',\n",
       " '/cluster/work/grlab/projects/projects2020_OHSU/peptides_generation/v2_v2.5f0752a_conf2_annotFrame_cap0_runs_pya0.17.1/TCGA_Breast_1102/filter_TCGA-BH-A18V-01A-11R-A12D-07.all/commit_d4aee54_GTEXcore/G_TCGA-BH-A18V-01A-11R-A12D-07.all_ref_SampleLim2.0CohortLimNoneAcrossNone_FiltNormalsGtexcoreCohortlim3.0AcrossNone_FiltUniprot.tsv',\n",
       " '/cluster/work/grlab/projects/projects2020_OHSU/peptides_generation/v2_v2.5f0752a_conf2_annotFrame_cap0_runs_pya0.17.1/TCGA_Breast_1102/filter_TCGA-BH-A18V-01A-11R-A12D-07.all/commit_d4aee54_GTEXcore/G_TCGA-BH-A18V-01A-11R-A12D-07.all_ref_SampleLim2.0CohortLim5.0Across10_FiltNormalsGtexcoreCohortlim3.0AcrossNone_FiltUniprot.tsv',\n",
       " '/cluster/work/grlab/projects/projects2020_OHSU/peptides_generation/v2_v2.5f0752a_conf2_annotFrame_cap0_runs_pya0.17.1/TCGA_Breast_1102/filter_TCGA-BH-A18V-01A-11R-A12D-07.all/commit_d4aee54_GTEXcore/G_TCGA-BH-A18V-01A-11R-A12D-07.all_ref_SampleLim2.0CohortLim5.0Across1_FiltNormalsGtexcoreCohortlim3.0Across10_FiltUniprot.tsv',\n",
       " '/cluster/work/grlab/projects/projects2020_OHSU/peptides_generation/v2_v2.5f0752a_conf2_annotFrame_cap0_runs_pya0.17.1/TCGA_Breast_1102/filter_TCGA-BH-A18V-01A-11R-A12D-07.all/commit_d4aee54_GTEXcore/G_TCGA-BH-A18V-01A-11R-A12D-07.all_ref_SampleLim0.0CohortLim5.0Across2_FiltNormalsGtexcoreCohortlim3.0AcrossNone_FiltUniprot.tsv',\n",
       " '/cluster/work/grlab/projects/projects2020_OHSU/peptides_generation/v2_v2.5f0752a_conf2_annotFrame_cap0_runs_pya0.17.1/TCGA_Breast_1102/filter_TCGA-BH-A18V-01A-11R-A12D-07.all/commit_d4aee54_GTEXcore/G_TCGA-BH-A18V-01A-11R-A12D-07.all_ref_SampleLim2.0CohortLim5.0Across10_FiltNormalsGtexcoreCohortlimNoneAcross2_FiltUniprot.tsv',\n",
       " '/cluster/work/grlab/projects/projects2020_OHSU/peptides_generation/v2_v2.5f0752a_conf2_annotFrame_cap0_runs_pya0.17.1/TCGA_Breast_1102/filter_TCGA-BH-A18V-01A-11R-A12D-07.all/commit_d4aee54_GTEXcore/G_TCGA-BH-A18V-01A-11R-A12D-07.all_ref_SampleLim0.0CohortLim1.0Across1_FiltNormalsGtexcoreCohortlim3.0Across2_FiltUniprot.tsv',\n",
       " '/cluster/work/grlab/projects/projects2020_OHSU/peptides_generation/v2_v2.5f0752a_conf2_annotFrame_cap0_runs_pya0.17.1/TCGA_Breast_1102/filter_TCGA-BH-A18V-01A-11R-A12D-07.all/commit_d4aee54_GTEXcore/G_TCGA-BH-A18V-01A-11R-A12D-07.all_ref_SampleLim0.0CohortLimNoneAcrossNone_FiltNormalsGtexcoreCohortlimNoneAcross2_FiltUniprot.tsv',\n",
       " '/cluster/work/grlab/projects/projects2020_OHSU/peptides_generation/v2_v2.5f0752a_conf2_annotFrame_cap0_runs_pya0.17.1/TCGA_Breast_1102/filter_TCGA-BH-A18V-01A-11R-A12D-07.all/commit_d4aee54_GTEXcore/G_TCGA-BH-A18V-01A-11R-A12D-07.all_ref_SampleLim0.0CohortLim1.0Across2_FiltNormalsGtexcoreCohortlimNoneAcross2_FiltUniprot.tsv',\n",
       " '/cluster/work/grlab/projects/projects2020_OHSU/peptides_generation/v2_v2.5f0752a_conf2_annotFrame_cap0_runs_pya0.17.1/TCGA_Breast_1102/filter_TCGA-BH-A18V-01A-11R-A12D-07.all/commit_d4aee54_GTEXcore/G_TCGA-BH-A18V-01A-11R-A12D-07.all_ref_SampleLim0.0CohortLim0.0Across10_FiltNormalsGtexcoreCohortlim3.0Across10_FiltUniprot.tsv',\n",
       " '/cluster/work/grlab/projects/projects2020_OHSU/peptides_generation/v2_v2.5f0752a_conf2_annotFrame_cap0_runs_pya0.17.1/TCGA_Breast_1102/filter_TCGA-BH-A18V-01A-11R-A12D-07.all/commit_d4aee54_GTEXcore/G_TCGA-BH-A18V-01A-11R-A12D-07.all_ref_SampleLim2.0CohortLim0.0Across2_FiltNormalsGtexcoreCohortlim3.0Across10_FiltUniprot.tsv',\n",
       " '/cluster/work/grlab/projects/projects2020_OHSU/peptides_generation/v2_v2.5f0752a_conf2_annotFrame_cap0_runs_pya0.17.1/TCGA_Breast_1102/filter_TCGA-BH-A18V-01A-11R-A12D-07.all/commit_d4aee54_GTEXcore/G_TCGA-BH-A18V-01A-11R-A12D-07.all_ref_SampleLim2.0CohortLim0.0Across10_FiltNormalsGtexcoreCohortlim10.0Across2_FiltUniprot.tsv',\n",
       " '/cluster/work/grlab/projects/projects2020_OHSU/peptides_generation/v2_v2.5f0752a_conf2_annotFrame_cap0_runs_pya0.17.1/TCGA_Breast_1102/filter_TCGA-BH-A18V-01A-11R-A12D-07.all/commit_d4aee54_GTEXcore/G_TCGA-BH-A18V-01A-11R-A12D-07.all_ref_SampleLim2.0CohortLim0.0Across1_FiltNormalsGtexcoreCohortlim0.0Across0_FiltUniprot.tsv',\n",
       " '/cluster/work/grlab/projects/projects2020_OHSU/peptides_generation/v2_v2.5f0752a_conf2_annotFrame_cap0_runs_pya0.17.1/TCGA_Breast_1102/filter_TCGA-BH-A18V-01A-11R-A12D-07.all/commit_d4aee54_GTEXcore/G_TCGA-BH-A18V-01A-11R-A12D-07.all_ref_SampleLim0.0CohortLim0.0Across1_FiltNormalsGtexcoreCohortlimNoneAcross2_FiltUniprot.tsv',\n",
       " '/cluster/work/grlab/projects/projects2020_OHSU/peptides_generation/v2_v2.5f0752a_conf2_annotFrame_cap0_runs_pya0.17.1/TCGA_Breast_1102/filter_TCGA-BH-A18V-01A-11R-A12D-07.all/commit_d4aee54_GTEXcore/G_TCGA-BH-A18V-01A-11R-A12D-07.all_ref_SampleLim2.0CohortLim1.0Across2_FiltNormalsGtexcoreCohortlim10.0Across2_FiltUniprot.tsv',\n",
       " '/cluster/work/grlab/projects/projects2020_OHSU/peptides_generation/v2_v2.5f0752a_conf2_annotFrame_cap0_runs_pya0.17.1/TCGA_Breast_1102/filter_TCGA-BH-A18V-01A-11R-A12D-07.all/commit_d4aee54_GTEXcore/G_TCGA-BH-A18V-01A-11R-A12D-07.all_ref_SampleLim2.0CohortLim0.0Across10_FiltNormalsGtexcoreCohortlim3.0Across10_FiltUniprot.tsv',\n",
       " '/cluster/work/grlab/projects/projects2020_OHSU/peptides_generation/v2_v2.5f0752a_conf2_annotFrame_cap0_runs_pya0.17.1/TCGA_Breast_1102/filter_TCGA-BH-A18V-01A-11R-A12D-07.all/commit_d4aee54_GTEXcore/G_TCGA-BH-A18V-01A-11R-A12D-07.all_ref_SampleLim2.0CohortLimNoneAcrossNone_FiltNormalsGtexcoreCohortlim3.0Across2_FiltUniprot.tsv',\n",
       " '/cluster/work/grlab/projects/projects2020_OHSU/peptides_generation/v2_v2.5f0752a_conf2_annotFrame_cap0_runs_pya0.17.1/TCGA_Breast_1102/filter_TCGA-BH-A18V-01A-11R-A12D-07.all/commit_d4aee54_GTEXcore/G_TCGA-BH-A18V-01A-11R-A12D-07.all_ref_SampleLim0.0CohortLim0.0Across10_FiltNormalsGtexcoreCohortlimNoneAcross2_FiltUniprot.tsv',\n",
       " '/cluster/work/grlab/projects/projects2020_OHSU/peptides_generation/v2_v2.5f0752a_conf2_annotFrame_cap0_runs_pya0.17.1/TCGA_Breast_1102/filter_TCGA-BH-A18V-01A-11R-A12D-07.all/commit_d4aee54_GTEXcore/G_TCGA-BH-A18V-01A-11R-A12D-07.all_ref_SampleLim0.0CohortLim0.0Across2_FiltNormalsGtexcoreCohortlim3.0AcrossNone_FiltUniprot.tsv',\n",
       " '/cluster/work/grlab/projects/projects2020_OHSU/peptides_generation/v2_v2.5f0752a_conf2_annotFrame_cap0_runs_pya0.17.1/TCGA_Breast_1102/filter_TCGA-BH-A18V-01A-11R-A12D-07.all/commit_d4aee54_GTEXcore/G_TCGA-BH-A18V-01A-11R-A12D-07.all_ref_SampleLim2.0CohortLim5.0Across10_FiltNormalsGtexcoreCohortlim3.0Across2_FiltUniprot.tsv',\n",
       " '/cluster/work/grlab/projects/projects2020_OHSU/peptides_generation/v2_v2.5f0752a_conf2_annotFrame_cap0_runs_pya0.17.1/TCGA_Breast_1102/filter_TCGA-BH-A18V-01A-11R-A12D-07.all/commit_d4aee54_GTEXcore/G_TCGA-BH-A18V-01A-11R-A12D-07.all_ref_SampleLim0.0CohortLim1.0Across1_FiltNormalsGtexcoreCohortlim3.0AcrossNone_FiltUniprot.tsv',\n",
       " '/cluster/work/grlab/projects/projects2020_OHSU/peptides_generation/v2_v2.5f0752a_conf2_annotFrame_cap0_runs_pya0.17.1/TCGA_Breast_1102/filter_TCGA-BH-A18V-01A-11R-A12D-07.all/commit_d4aee54_GTEXcore/G_TCGA-BH-A18V-01A-11R-A12D-07.all_ref_SampleLim2.0CohortLim5.0Across10_FiltNormalsGtexcoreCohortlim10.0Across2_FiltUniprot.tsv',\n",
       " '/cluster/work/grlab/projects/projects2020_OHSU/peptides_generation/v2_v2.5f0752a_conf2_annotFrame_cap0_runs_pya0.17.1/TCGA_Breast_1102/filter_TCGA-BH-A18V-01A-11R-A12D-07.all/commit_d4aee54_GTEXcore/G_TCGA-BH-A18V-01A-11R-A12D-07.all_ref_SampleLim2.0CohortLimNoneAcrossNone_FiltNormalsGtexcoreCohortlimNoneAcross2_FiltUniprot.tsv',\n",
       " '/cluster/work/grlab/projects/projects2020_OHSU/peptides_generation/v2_v2.5f0752a_conf2_annotFrame_cap0_runs_pya0.17.1/TCGA_Breast_1102/filter_TCGA-BH-A18V-01A-11R-A12D-07.all/commit_d4aee54_GTEXcore/G_TCGA-BH-A18V-01A-11R-A12D-07.all_ref_SampleLim2.0CohortLim0.0Across10_FiltNormalsGtexcoreCohortlim3.0AcrossNone_FiltUniprot.tsv',\n",
       " '/cluster/work/grlab/projects/projects2020_OHSU/peptides_generation/v2_v2.5f0752a_conf2_annotFrame_cap0_runs_pya0.17.1/TCGA_Breast_1102/filter_TCGA-BH-A18V-01A-11R-A12D-07.all/commit_d4aee54_GTEXcore/G_TCGA-BH-A18V-01A-11R-A12D-07.all_ref_SampleLim2.0CohortLim5.0Across2_FiltNormalsGtexcoreCohortlim3.0Across2_FiltUniprot.tsv',\n",
       " '/cluster/work/grlab/projects/projects2020_OHSU/peptides_generation/v2_v2.5f0752a_conf2_annotFrame_cap0_runs_pya0.17.1/TCGA_Breast_1102/filter_TCGA-BH-A18V-01A-11R-A12D-07.all/commit_d4aee54_GTEXcore/G_TCGA-BH-A18V-01A-11R-A12D-07.all_ref_SampleLim0.0CohortLim0.0Across10_FiltNormalsGtexcoreCohortlim0.0Across0_FiltUniprot.tsv',\n",
       " '/cluster/work/grlab/projects/projects2020_OHSU/peptides_generation/v2_v2.5f0752a_conf2_annotFrame_cap0_runs_pya0.17.1/TCGA_Breast_1102/filter_TCGA-BH-A18V-01A-11R-A12D-07.all/commit_d4aee54_GTEXcore/G_TCGA-BH-A18V-01A-11R-A12D-07.all_ref_SampleLim0.0CohortLim0.0Across2_FiltNormalsGtexcoreCohortlim10.0Across2_FiltUniprot.tsv',\n",
       " '/cluster/work/grlab/projects/projects2020_OHSU/peptides_generation/v2_v2.5f0752a_conf2_annotFrame_cap0_runs_pya0.17.1/TCGA_Breast_1102/filter_TCGA-BH-A18V-01A-11R-A12D-07.all/commit_d4aee54_GTEXcore/G_TCGA-BH-A18V-01A-11R-A12D-07.all_ref_SampleLim0.0CohortLim5.0Across2_FiltNormalsGtexcoreCohortlim3.0Across2_FiltUniprot.tsv',\n",
       " '/cluster/work/grlab/projects/projects2020_OHSU/peptides_generation/v2_v2.5f0752a_conf2_annotFrame_cap0_runs_pya0.17.1/TCGA_Breast_1102/filter_TCGA-BH-A18V-01A-11R-A12D-07.all/commit_d4aee54_GTEXcore/G_TCGA-BH-A18V-01A-11R-A12D-07.all_ref_SampleLim2.0CohortLimNoneAcrossNone_FiltNormalsGtexcoreCohortlim0.0Across0_FiltUniprot.tsv',\n",
       " '/cluster/work/grlab/projects/projects2020_OHSU/peptides_generation/v2_v2.5f0752a_conf2_annotFrame_cap0_runs_pya0.17.1/TCGA_Breast_1102/filter_TCGA-BH-A18V-01A-11R-A12D-07.all/commit_d4aee54_GTEXcore/G_TCGA-BH-A18V-01A-11R-A12D-07.all_ref_SampleLim0.0CohortLim5.0Across1_FiltNormalsGtexcoreCohortlim3.0Across2_FiltUniprot.tsv',\n",
       " '/cluster/work/grlab/projects/projects2020_OHSU/peptides_generation/v2_v2.5f0752a_conf2_annotFrame_cap0_runs_pya0.17.1/TCGA_Breast_1102/filter_TCGA-BH-A18V-01A-11R-A12D-07.all/commit_d4aee54_GTEXcore/G_TCGA-BH-A18V-01A-11R-A12D-07.all_ref_SampleLim2.0CohortLim1.0Across10_FiltNormalsGtexcoreCohortlimNoneAcross2_FiltUniprot.tsv',\n",
       " '/cluster/work/grlab/projects/projects2020_OHSU/peptides_generation/v2_v2.5f0752a_conf2_annotFrame_cap0_runs_pya0.17.1/TCGA_Breast_1102/filter_TCGA-BH-A18V-01A-11R-A12D-07.all/commit_d4aee54_GTEXcore/G_TCGA-BH-A18V-01A-11R-A12D-07.all_ref_SampleLim2.0CohortLim0.0Across2_FiltNormalsGtexcoreCohortlim3.0Across2_FiltUniprot.tsv',\n",
       " '/cluster/work/grlab/projects/projects2020_OHSU/peptides_generation/v2_v2.5f0752a_conf2_annotFrame_cap0_runs_pya0.17.1/TCGA_Breast_1102/filter_TCGA-BH-A18V-01A-11R-A12D-07.all/commit_d4aee54_GTEXcore/G_TCGA-BH-A18V-01A-11R-A12D-07.all_ref_SampleLim0.0CohortLim0.0Across10_FiltNormalsGtexcoreCohortlim3.0Across2_FiltUniprot.tsv',\n",
       " '/cluster/work/grlab/projects/projects2020_OHSU/peptides_generation/v2_v2.5f0752a_conf2_annotFrame_cap0_runs_pya0.17.1/TCGA_Breast_1102/filter_TCGA-BH-A18V-01A-11R-A12D-07.all/commit_d4aee54_GTEXcore/G_TCGA-BH-A18V-01A-11R-A12D-07.all_ref_SampleLim0.0CohortLim0.0Across10_FiltNormalsGtexcoreCohortlim3.0AcrossNone_FiltUniprot.tsv',\n",
       " '/cluster/work/grlab/projects/projects2020_OHSU/peptides_generation/v2_v2.5f0752a_conf2_annotFrame_cap0_runs_pya0.17.1/TCGA_Breast_1102/filter_TCGA-BH-A18V-01A-11R-A12D-07.all/commit_d4aee54_GTEXcore/G_TCGA-BH-A18V-01A-11R-A12D-07.all_ref_SampleLim2.0CohortLim5.0Across2_FiltNormalsGtexcoreCohortlim10.0Across2_FiltUniprot.tsv',\n",
       " '/cluster/work/grlab/projects/projects2020_OHSU/peptides_generation/v2_v2.5f0752a_conf2_annotFrame_cap0_runs_pya0.17.1/TCGA_Breast_1102/filter_TCGA-BH-A18V-01A-11R-A12D-07.all/commit_d4aee54_GTEXcore/G_TCGA-BH-A18V-01A-11R-A12D-07.all_ref_SampleLim2.0CohortLim5.0Across1_FiltNormalsGtexcoreCohortlim10.0Across2_FiltUniprot.tsv',\n",
       " '/cluster/work/grlab/projects/projects2020_OHSU/peptides_generation/v2_v2.5f0752a_conf2_annotFrame_cap0_runs_pya0.17.1/TCGA_Breast_1102/filter_TCGA-BH-A18V-01A-11R-A12D-07.all/commit_d4aee54_GTEXcore/G_TCGA-BH-A18V-01A-11R-A12D-07.all_ref_SampleLim2.0CohortLim1.0Across1_FiltNormalsGtexcoreCohortlim3.0Across2_FiltUniprot.tsv',\n",
       " '/cluster/work/grlab/projects/projects2020_OHSU/peptides_generation/v2_v2.5f0752a_conf2_annotFrame_cap0_runs_pya0.17.1/TCGA_Breast_1102/filter_TCGA-BH-A18V-01A-11R-A12D-07.all/commit_d4aee54_GTEXcore/G_TCGA-BH-A18V-01A-11R-A12D-07.all_ref_SampleLim0.0CohortLim0.0Across1_FiltNormalsGtexcoreCohortlim0.0Across0_FiltUniprot.tsv',\n",
       " '/cluster/work/grlab/projects/projects2020_OHSU/peptides_generation/v2_v2.5f0752a_conf2_annotFrame_cap0_runs_pya0.17.1/TCGA_Breast_1102/filter_TCGA-BH-A18V-01A-11R-A12D-07.all/commit_d4aee54_GTEXcore/G_TCGA-BH-A18V-01A-11R-A12D-07.all_ref_SampleLim0.0CohortLim0.0Across2_FiltNormalsGtexcoreCohortlim0.0Across0_FiltUniprot.tsv',\n",
       " '/cluster/work/grlab/projects/projects2020_OHSU/peptides_generation/v2_v2.5f0752a_conf2_annotFrame_cap0_runs_pya0.17.1/TCGA_Breast_1102/filter_TCGA-BH-A18V-01A-11R-A12D-07.all/commit_d4aee54_GTEXcore/G_TCGA-BH-A18V-01A-11R-A12D-07.all_ref_SampleLim0.0CohortLim0.0Across2_FiltNormalsGtexcoreCohortlim3.0Across2_FiltUniprot.tsv',\n",
       " '/cluster/work/grlab/projects/projects2020_OHSU/peptides_generation/v2_v2.5f0752a_conf2_annotFrame_cap0_runs_pya0.17.1/TCGA_Breast_1102/filter_TCGA-BH-A18V-01A-11R-A12D-07.all/commit_d4aee54_GTEXcore/G_TCGA-BH-A18V-01A-11R-A12D-07.all_ref_SampleLim2.0CohortLim1.0Across10_FiltNormalsGtexcoreCohortlim3.0Across10_FiltUniprot.tsv',\n",
       " '/cluster/work/grlab/projects/projects2020_OHSU/peptides_generation/v2_v2.5f0752a_conf2_annotFrame_cap0_runs_pya0.17.1/TCGA_Breast_1102/filter_TCGA-BH-A18V-01A-11R-A12D-07.all/commit_d4aee54_GTEXcore/G_TCGA-BH-A18V-01A-11R-A12D-07.all_ref_SampleLim2.0CohortLim1.0Across10_FiltNormalsGtexcoreCohortlim10.0Across2_FiltUniprot.tsv',\n",
       " '/cluster/work/grlab/projects/projects2020_OHSU/peptides_generation/v2_v2.5f0752a_conf2_annotFrame_cap0_runs_pya0.17.1/TCGA_Breast_1102/filter_TCGA-BH-A18V-01A-11R-A12D-07.all/commit_d4aee54_GTEXcore/G_TCGA-BH-A18V-01A-11R-A12D-07.all_ref_SampleLim0.0CohortLim5.0Across10_FiltNormalsGtexcoreCohortlim10.0Across2_FiltUniprot.tsv',\n",
       " '/cluster/work/grlab/projects/projects2020_OHSU/peptides_generation/v2_v2.5f0752a_conf2_annotFrame_cap0_runs_pya0.17.1/TCGA_Breast_1102/filter_TCGA-BH-A18V-01A-11R-A12D-07.all/commit_d4aee54_GTEXcore/G_TCGA-BH-A18V-01A-11R-A12D-07.all_ref_SampleLim0.0CohortLim5.0Across10_FiltNormalsGtexcoreCohortlim0.0Across0_FiltUniprot.tsv',\n",
       " '/cluster/work/grlab/projects/projects2020_OHSU/peptides_generation/v2_v2.5f0752a_conf2_annotFrame_cap0_runs_pya0.17.1/TCGA_Breast_1102/filter_TCGA-BH-A18V-01A-11R-A12D-07.all/commit_d4aee54_GTEXcore/G_TCGA-BH-A18V-01A-11R-A12D-07.all_ref_SampleLim2.0CohortLim0.0Across2_FiltNormalsGtexcoreCohortlimNoneAcross2_FiltUniprot.tsv',\n",
       " '/cluster/work/grlab/projects/projects2020_OHSU/peptides_generation/v2_v2.5f0752a_conf2_annotFrame_cap0_runs_pya0.17.1/TCGA_Breast_1102/filter_TCGA-BH-A18V-01A-11R-A12D-07.all/commit_d4aee54_GTEXcore/G_TCGA-BH-A18V-01A-11R-A12D-07.all_ref_SampleLim0.0CohortLim1.0Across2_FiltNormalsGtexcoreCohortlim10.0Across2_FiltUniprot.tsv',\n",
       " '/cluster/work/grlab/projects/projects2020_OHSU/peptides_generation/v2_v2.5f0752a_conf2_annotFrame_cap0_runs_pya0.17.1/TCGA_Breast_1102/filter_TCGA-BH-A18V-01A-11R-A12D-07.all/commit_d4aee54_GTEXcore/G_TCGA-BH-A18V-01A-11R-A12D-07.all_ref_SampleLim0.0CohortLim5.0Across10_FiltNormalsGtexcoreCohortlim3.0AcrossNone_FiltUniprot.tsv',\n",
       " '/cluster/work/grlab/projects/projects2020_OHSU/peptides_generation/v2_v2.5f0752a_conf2_annotFrame_cap0_runs_pya0.17.1/TCGA_Breast_1102/filter_TCGA-BH-A18V-01A-11R-A12D-07.all/commit_d4aee54_GTEXcore/G_TCGA-BH-A18V-01A-11R-A12D-07.all_ref_SampleLim0.0CohortLim5.0Across10_FiltNormalsGtexcoreCohortlimNoneAcross2_FiltUniprot.tsv',\n",
       " '/cluster/work/grlab/projects/projects2020_OHSU/peptides_generation/v2_v2.5f0752a_conf2_annotFrame_cap0_runs_pya0.17.1/TCGA_Breast_1102/filter_TCGA-BH-A18V-01A-11R-A12D-07.all/commit_d4aee54_GTEXcore/G_TCGA-BH-A18V-01A-11R-A12D-07.all_ref_SampleLim0.0CohortLim1.0Across10_FiltNormalsGtexcoreCohortlim3.0Across10_FiltUniprot.tsv',\n",
       " '/cluster/work/grlab/projects/projects2020_OHSU/peptides_generation/v2_v2.5f0752a_conf2_annotFrame_cap0_runs_pya0.17.1/TCGA_Breast_1102/filter_TCGA-BH-A18V-01A-11R-A12D-07.all/commit_d4aee54_GTEXcore/G_TCGA-BH-A18V-01A-11R-A12D-07.all_ref_SampleLim2.0CohortLim0.0Across2_FiltNormalsGtexcoreCohortlim3.0AcrossNone_FiltUniprot.tsv',\n",
       " '/cluster/work/grlab/projects/projects2020_OHSU/peptides_generation/v2_v2.5f0752a_conf2_annotFrame_cap0_runs_pya0.17.1/TCGA_Breast_1102/filter_TCGA-BH-A18V-01A-11R-A12D-07.all/commit_d4aee54_GTEXcore/G_TCGA-BH-A18V-01A-11R-A12D-07.all_ref_SampleLim2.0CohortLim5.0Across1_FiltNormalsGtexcoreCohortlimNoneAcross2_FiltUniprot.tsv',\n",
       " '/cluster/work/grlab/projects/projects2020_OHSU/peptides_generation/v2_v2.5f0752a_conf2_annotFrame_cap0_runs_pya0.17.1/TCGA_Breast_1102/filter_TCGA-BH-A18V-01A-11R-A12D-07.all/commit_d4aee54_GTEXcore/G_TCGA-BH-A18V-01A-11R-A12D-07.all_ref_SampleLim0.0CohortLim1.0Across10_FiltNormalsGtexcoreCohortlimNoneAcross2_FiltUniprot.tsv',\n",
       " '/cluster/work/grlab/projects/projects2020_OHSU/peptides_generation/v2_v2.5f0752a_conf2_annotFrame_cap0_runs_pya0.17.1/TCGA_Breast_1102/filter_TCGA-BH-A18V-01A-11R-A12D-07.all/commit_d4aee54_GTEXcore/G_TCGA-BH-A18V-01A-11R-A12D-07.all_ref_SampleLim0.0CohortLim5.0Across1_FiltNormalsGtexcoreCohortlim3.0Across10_FiltUniprot.tsv',\n",
       " '/cluster/work/grlab/projects/projects2020_OHSU/peptides_generation/v2_v2.5f0752a_conf2_annotFrame_cap0_runs_pya0.17.1/TCGA_Breast_1102/filter_TCGA-BH-A18V-01A-11R-A12D-07.all/commit_d4aee54_GTEXcore/G_TCGA-BH-A18V-01A-11R-A12D-07.all_ref_SampleLim0.0CohortLimNoneAcrossNone_FiltNormalsGtexcoreCohortlim3.0Across10_FiltUniprot.tsv',\n",
       " '/cluster/work/grlab/projects/projects2020_OHSU/peptides_generation/v2_v2.5f0752a_conf2_annotFrame_cap0_runs_pya0.17.1/TCGA_Breast_1102/filter_TCGA-BH-A18V-01A-11R-A12D-07.all/commit_d4aee54_GTEXcore/G_TCGA-BH-A18V-01A-11R-A12D-07.all_ref_SampleLim0.0CohortLim1.0Across10_FiltNormalsGtexcoreCohortlim0.0Across0_FiltUniprot.tsv',\n",
       " '/cluster/work/grlab/projects/projects2020_OHSU/peptides_generation/v2_v2.5f0752a_conf2_annotFrame_cap0_runs_pya0.17.1/TCGA_Breast_1102/filter_TCGA-BH-A18V-01A-11R-A12D-07.all/commit_d4aee54_GTEXcore/G_TCGA-BH-A18V-01A-11R-A12D-07.all_ref_SampleLim0.0CohortLim0.0Across1_FiltNormalsGtexcoreCohortlim3.0Across2_FiltUniprot.tsv',\n",
       " '/cluster/work/grlab/projects/projects2020_OHSU/peptides_generation/v2_v2.5f0752a_conf2_annotFrame_cap0_runs_pya0.17.1/TCGA_Breast_1102/filter_TCGA-BH-A18V-01A-11R-A12D-07.all/commit_d4aee54_GTEXcore/G_TCGA-BH-A18V-01A-11R-A12D-07.all_ref_SampleLim2.0CohortLim0.0Across2_FiltNormalsGtexcoreCohortlim10.0Across2_FiltUniprot.tsv']"
      ]
     },
     "execution_count": 22,
     "metadata": {},
     "output_type": "execute_result"
    }
   ],
   "source": [
    "experiement_files"
   ]
  },
  {
   "cell_type": "code",
   "execution_count": 23,
   "metadata": {
    "ExecuteTime": {
     "end_time": "2022-02-18T17:07:59.781100Z",
     "start_time": "2022-02-18T17:07:59.777863Z"
    }
   },
   "outputs": [],
   "source": [
    "path_to_table = path_to_condition(experiement_files)\n"
   ]
  },
  {
   "cell_type": "code",
   "execution_count": 24,
   "metadata": {
    "ExecuteTime": {
     "end_time": "2022-02-18T17:07:59.789836Z",
     "start_time": "2022-02-18T17:07:59.782614Z"
    }
   },
   "outputs": [],
   "source": [
    "path_to_table.loc[path_to_table['min_sample_reads'] == 'None', \n",
    "                  'min_sample_reads'] = 0\n",
    "path_to_table.loc[path_to_table['reads_per_cohort_sample'] == 'None', \n",
    "                  'reads_per_cohort_sample'] = 0\n",
    "path_to_table.loc[path_to_table['#_of_cohort_samples'] == 'None', \n",
    "                  '#_of_cohort_samples'] = 0\n",
    "path_to_table.loc[path_to_table['reads_per_normal_sample'] == 'None', \n",
    "                  'reads_per_normal_sample'] = -1\n",
    "path_to_table.loc[path_to_table['#_normal_samples_allowed'] == 'None', \n",
    "                  '#_normal_samples_allowed'] = -1"
   ]
  },
  {
   "cell_type": "code",
   "execution_count": 25,
   "metadata": {
    "ExecuteTime": {
     "end_time": "2022-02-18T17:07:59.801181Z",
     "start_time": "2022-02-18T17:07:59.791185Z"
    }
   },
   "outputs": [
    {
     "data": {
      "text/html": [
       "<div>\n",
       "<style scoped>\n",
       "    .dataframe tbody tr th:only-of-type {\n",
       "        vertical-align: middle;\n",
       "    }\n",
       "\n",
       "    .dataframe tbody tr th {\n",
       "        vertical-align: top;\n",
       "    }\n",
       "\n",
       "    .dataframe thead th {\n",
       "        text-align: right;\n",
       "    }\n",
       "</style>\n",
       "<table border=\"1\" class=\"dataframe\">\n",
       "  <thead>\n",
       "    <tr style=\"text-align: right;\">\n",
       "      <th></th>\n",
       "      <th>min_sample_reads</th>\n",
       "      <th>reads_per_cohort_sample</th>\n",
       "      <th>#_of_cohort_samples</th>\n",
       "      <th>reads_per_normal_sample</th>\n",
       "      <th>#_normal_samples_allowed</th>\n",
       "      <th>normal_cohort_id</th>\n",
       "      <th>original_name</th>\n",
       "    </tr>\n",
       "  </thead>\n",
       "  <tbody>\n",
       "    <tr>\n",
       "      <th>0</th>\n",
       "      <td>2.0</td>\n",
       "      <td>1.0</td>\n",
       "      <td>10</td>\n",
       "      <td>3.0</td>\n",
       "      <td>-1</td>\n",
       "      <td>GtexcoreCohort</td>\n",
       "      <td>/cluster/work/grlab/projects/projects2020_OHSU...</td>\n",
       "    </tr>\n",
       "    <tr>\n",
       "      <th>1</th>\n",
       "      <td>0.0</td>\n",
       "      <td>5.0</td>\n",
       "      <td>2</td>\n",
       "      <td>0.0</td>\n",
       "      <td>0</td>\n",
       "      <td>GtexcoreCohort</td>\n",
       "      <td>/cluster/work/grlab/projects/projects2020_OHSU...</td>\n",
       "    </tr>\n",
       "    <tr>\n",
       "      <th>2</th>\n",
       "      <td>2.0</td>\n",
       "      <td>0.0</td>\n",
       "      <td>1</td>\n",
       "      <td>-1</td>\n",
       "      <td>2</td>\n",
       "      <td>GtexcoreCohort</td>\n",
       "      <td>/cluster/work/grlab/projects/projects2020_OHSU...</td>\n",
       "    </tr>\n",
       "    <tr>\n",
       "      <th>3</th>\n",
       "      <td>0.0</td>\n",
       "      <td>1.0</td>\n",
       "      <td>2</td>\n",
       "      <td>3.0</td>\n",
       "      <td>-1</td>\n",
       "      <td>GtexcoreCohort</td>\n",
       "      <td>/cluster/work/grlab/projects/projects2020_OHSU...</td>\n",
       "    </tr>\n",
       "    <tr>\n",
       "      <th>4</th>\n",
       "      <td>2.0</td>\n",
       "      <td>5.0</td>\n",
       "      <td>1</td>\n",
       "      <td>0.0</td>\n",
       "      <td>0</td>\n",
       "      <td>GtexcoreCohort</td>\n",
       "      <td>/cluster/work/grlab/projects/projects2020_OHSU...</td>\n",
       "    </tr>\n",
       "  </tbody>\n",
       "</table>\n",
       "</div>"
      ],
      "text/plain": [
       "  min_sample_reads reads_per_cohort_sample #_of_cohort_samples  \\\n",
       "0              2.0                     1.0                  10   \n",
       "1              0.0                     5.0                   2   \n",
       "2              2.0                     0.0                   1   \n",
       "3              0.0                     1.0                   2   \n",
       "4              2.0                     5.0                   1   \n",
       "\n",
       "  reads_per_normal_sample #_normal_samples_allowed normal_cohort_id  \\\n",
       "0                     3.0                       -1   GtexcoreCohort   \n",
       "1                     0.0                        0   GtexcoreCohort   \n",
       "2                      -1                        2   GtexcoreCohort   \n",
       "3                     3.0                       -1   GtexcoreCohort   \n",
       "4                     0.0                        0   GtexcoreCohort   \n",
       "\n",
       "                                       original_name  \n",
       "0  /cluster/work/grlab/projects/projects2020_OHSU...  \n",
       "1  /cluster/work/grlab/projects/projects2020_OHSU...  \n",
       "2  /cluster/work/grlab/projects/projects2020_OHSU...  \n",
       "3  /cluster/work/grlab/projects/projects2020_OHSU...  \n",
       "4  /cluster/work/grlab/projects/projects2020_OHSU...  "
      ]
     },
     "execution_count": 25,
     "metadata": {},
     "output_type": "execute_result"
    }
   ],
   "source": [
    "path_to_table.head()"
   ]
  },
  {
   "cell_type": "code",
   "execution_count": 26,
   "metadata": {
    "ExecuteTime": {
     "end_time": "2022-02-18T17:07:59.807233Z",
     "start_time": "2022-02-18T17:07:59.802573Z"
    }
   },
   "outputs": [],
   "source": [
    "exp_map.loc[exp_map['normal_cohort_id'] == 'core_GTEx', 'normal_cohort_id'] = 'GtexcoreCohort'"
   ]
  },
  {
   "cell_type": "code",
   "execution_count": 27,
   "metadata": {
    "ExecuteTime": {
     "end_time": "2022-02-18T17:07:59.812988Z",
     "start_time": "2022-02-18T17:07:59.809114Z"
    }
   },
   "outputs": [],
   "source": [
    "path_to_table['motif_filter'] = 0 "
   ]
  },
  {
   "cell_type": "code",
   "execution_count": 28,
   "metadata": {
    "ExecuteTime": {
     "end_time": "2022-02-18T17:07:59.825999Z",
     "start_time": "2022-02-18T17:07:59.814423Z"
    }
   },
   "outputs": [
    {
     "name": "stdout",
     "output_type": "stream",
     "text": [
      "min_sample_reads\n",
      "int64\n",
      "object\n",
      "change type\n",
      "\n",
      "\n",
      "reads_per_cohort_sample\n",
      "int64\n",
      "object\n",
      "change type\n",
      "\n",
      "\n",
      "#_of_cohort_samples\n",
      "int64\n",
      "object\n",
      "change type\n",
      "\n",
      "\n",
      "reads_per_normal_sample\n",
      "int64\n",
      "object\n",
      "change type\n",
      "\n",
      "\n",
      "#_normal_samples_allowed\n",
      "int64\n",
      "object\n",
      "change type\n",
      "\n",
      "\n",
      "normal_cohort_id\n",
      "object\n",
      "object\n",
      "\n",
      "\n",
      "motif_filter\n",
      "int64\n",
      "int64\n",
      "\n",
      "\n"
     ]
    }
   ],
   "source": [
    "for col in path_to_table.columns: \n",
    "    if col != 'original_name':\n",
    "        print(col)\n",
    "        print(exp_map[col].dtypes)\n",
    "        print(path_to_table[col].dtypes)\n",
    "        if (exp_map[col].dtypes != path_to_table[col].dtypes) :\n",
    "            print('change type')\n",
    "            if exp_map[col].dtypes == 'int64':\n",
    "                path_to_table[col] = path_to_table[col].astype( 'float64' )\n",
    "            path_to_table[col] = path_to_table[col].astype( exp_map[col].dtypes ) \n",
    "        print('\\n')"
   ]
  },
  {
   "cell_type": "code",
   "execution_count": 29,
   "metadata": {
    "ExecuteTime": {
     "end_time": "2022-02-18T17:07:59.830804Z",
     "start_time": "2022-02-18T17:07:59.827454Z"
    }
   },
   "outputs": [
    {
     "data": {
      "text/plain": [
       "Index(['id', 'motif_filter', 'min_sample_reads', '#_of_cohort_samples',\n",
       "       'reads_per_cohort_sample', 'normal_cohort_id',\n",
       "       '#_normal_samples_allowed', 'reads_per_normal_sample'],\n",
       "      dtype='object')"
      ]
     },
     "execution_count": 29,
     "metadata": {},
     "output_type": "execute_result"
    }
   ],
   "source": [
    "exp_map.columns"
   ]
  },
  {
   "cell_type": "code",
   "execution_count": 30,
   "metadata": {
    "ExecuteTime": {
     "end_time": "2022-02-18T17:07:59.836333Z",
     "start_time": "2022-02-18T17:07:59.832651Z"
    }
   },
   "outputs": [
    {
     "data": {
      "text/plain": [
       "Index(['min_sample_reads', 'reads_per_cohort_sample', '#_of_cohort_samples',\n",
       "       'reads_per_normal_sample', '#_normal_samples_allowed',\n",
       "       'normal_cohort_id', 'original_name', 'motif_filter'],\n",
       "      dtype='object')"
      ]
     },
     "execution_count": 30,
     "metadata": {},
     "output_type": "execute_result"
    }
   ],
   "source": [
    "path_to_table.columns"
   ]
  },
  {
   "cell_type": "code",
   "execution_count": 31,
   "metadata": {
    "ExecuteTime": {
     "end_time": "2022-02-18T17:07:59.853431Z",
     "start_time": "2022-02-18T17:07:59.838130Z"
    }
   },
   "outputs": [],
   "source": [
    "id_mapped = path_to_table.merge(exp_map, on = ['min_sample_reads', 'reads_per_cohort_sample', \\\n",
    "                                   '#_of_cohort_samples', 'reads_per_normal_sample', \\\n",
    "                                   '#_normal_samples_allowed',\n",
    "                                   'normal_cohort_id', 'motif_filter'], how = 'inner')"
   ]
  },
  {
   "cell_type": "code",
   "execution_count": 32,
   "metadata": {
    "ExecuteTime": {
     "end_time": "2022-02-18T17:07:59.859130Z",
     "start_time": "2022-02-18T17:07:59.855101Z"
    }
   },
   "outputs": [],
   "source": [
    "id_mapped['filename'] = [os.path.basename(name) for name in id_mapped['original_name']]"
   ]
  },
  {
   "cell_type": "code",
   "execution_count": 33,
   "metadata": {
    "ExecuteTime": {
     "end_time": "2022-02-18T17:07:59.865390Z",
     "start_time": "2022-02-18T17:07:59.861558Z"
    }
   },
   "outputs": [
    {
     "data": {
      "text/plain": [
       "(120, 10)"
      ]
     },
     "execution_count": 33,
     "metadata": {},
     "output_type": "execute_result"
    }
   ],
   "source": [
    "id_mapped.shape"
   ]
  },
  {
   "cell_type": "code",
   "execution_count": 34,
   "metadata": {
    "ExecuteTime": {
     "end_time": "2022-02-18T17:07:59.878008Z",
     "start_time": "2022-02-18T17:07:59.867234Z"
    }
   },
   "outputs": [
    {
     "data": {
      "text/html": [
       "<div>\n",
       "<style scoped>\n",
       "    .dataframe tbody tr th:only-of-type {\n",
       "        vertical-align: middle;\n",
       "    }\n",
       "\n",
       "    .dataframe tbody tr th {\n",
       "        vertical-align: top;\n",
       "    }\n",
       "\n",
       "    .dataframe thead th {\n",
       "        text-align: right;\n",
       "    }\n",
       "</style>\n",
       "<table border=\"1\" class=\"dataframe\">\n",
       "  <thead>\n",
       "    <tr style=\"text-align: right;\">\n",
       "      <th></th>\n",
       "      <th>min_sample_reads</th>\n",
       "      <th>reads_per_cohort_sample</th>\n",
       "      <th>#_of_cohort_samples</th>\n",
       "      <th>reads_per_normal_sample</th>\n",
       "      <th>#_normal_samples_allowed</th>\n",
       "      <th>normal_cohort_id</th>\n",
       "      <th>original_name</th>\n",
       "      <th>motif_filter</th>\n",
       "      <th>id</th>\n",
       "      <th>filename</th>\n",
       "    </tr>\n",
       "  </thead>\n",
       "  <tbody>\n",
       "    <tr>\n",
       "      <th>0</th>\n",
       "      <td>2</td>\n",
       "      <td>1</td>\n",
       "      <td>10</td>\n",
       "      <td>3</td>\n",
       "      <td>-1</td>\n",
       "      <td>GtexcoreCohort</td>\n",
       "      <td>/cluster/work/grlab/projects/projects2020_OHSU...</td>\n",
       "      <td>0</td>\n",
       "      <td>474</td>\n",
       "      <td>G_TCGA-BH-A18V-01A-11R-A12D-07.all_ref_SampleL...</td>\n",
       "    </tr>\n",
       "    <tr>\n",
       "      <th>1</th>\n",
       "      <td>0</td>\n",
       "      <td>5</td>\n",
       "      <td>2</td>\n",
       "      <td>0</td>\n",
       "      <td>0</td>\n",
       "      <td>GtexcoreCohort</td>\n",
       "      <td>/cluster/work/grlab/projects/projects2020_OHSU...</td>\n",
       "      <td>0</td>\n",
       "      <td>397</td>\n",
       "      <td>G_TCGA-BH-A18V-01A-11R-A12D-07.all_ref_SampleL...</td>\n",
       "    </tr>\n",
       "    <tr>\n",
       "      <th>2</th>\n",
       "      <td>2</td>\n",
       "      <td>0</td>\n",
       "      <td>1</td>\n",
       "      <td>-1</td>\n",
       "      <td>2</td>\n",
       "      <td>GtexcoreCohort</td>\n",
       "      <td>/cluster/work/grlab/projects/projects2020_OHSU...</td>\n",
       "      <td>0</td>\n",
       "      <td>430</td>\n",
       "      <td>G_TCGA-BH-A18V-01A-11R-A12D-07.all_ref_SampleL...</td>\n",
       "    </tr>\n",
       "    <tr>\n",
       "      <th>3</th>\n",
       "      <td>0</td>\n",
       "      <td>1</td>\n",
       "      <td>2</td>\n",
       "      <td>3</td>\n",
       "      <td>-1</td>\n",
       "      <td>GtexcoreCohort</td>\n",
       "      <td>/cluster/work/grlab/projects/projects2020_OHSU...</td>\n",
       "      <td>0</td>\n",
       "      <td>396</td>\n",
       "      <td>G_TCGA-BH-A18V-01A-11R-A12D-07.all_ref_SampleL...</td>\n",
       "    </tr>\n",
       "    <tr>\n",
       "      <th>4</th>\n",
       "      <td>2</td>\n",
       "      <td>5</td>\n",
       "      <td>1</td>\n",
       "      <td>0</td>\n",
       "      <td>0</td>\n",
       "      <td>GtexcoreCohort</td>\n",
       "      <td>/cluster/work/grlab/projects/projects2020_OHSU...</td>\n",
       "      <td>0</td>\n",
       "      <td>439</td>\n",
       "      <td>G_TCGA-BH-A18V-01A-11R-A12D-07.all_ref_SampleL...</td>\n",
       "    </tr>\n",
       "  </tbody>\n",
       "</table>\n",
       "</div>"
      ],
      "text/plain": [
       "   min_sample_reads  reads_per_cohort_sample  #_of_cohort_samples  \\\n",
       "0                 2                        1                   10   \n",
       "1                 0                        5                    2   \n",
       "2                 2                        0                    1   \n",
       "3                 0                        1                    2   \n",
       "4                 2                        5                    1   \n",
       "\n",
       "   reads_per_normal_sample  #_normal_samples_allowed normal_cohort_id  \\\n",
       "0                        3                        -1   GtexcoreCohort   \n",
       "1                        0                         0   GtexcoreCohort   \n",
       "2                       -1                         2   GtexcoreCohort   \n",
       "3                        3                        -1   GtexcoreCohort   \n",
       "4                        0                         0   GtexcoreCohort   \n",
       "\n",
       "                                       original_name  motif_filter   id  \\\n",
       "0  /cluster/work/grlab/projects/projects2020_OHSU...             0  474   \n",
       "1  /cluster/work/grlab/projects/projects2020_OHSU...             0  397   \n",
       "2  /cluster/work/grlab/projects/projects2020_OHSU...             0  430   \n",
       "3  /cluster/work/grlab/projects/projects2020_OHSU...             0  396   \n",
       "4  /cluster/work/grlab/projects/projects2020_OHSU...             0  439   \n",
       "\n",
       "                                            filename  \n",
       "0  G_TCGA-BH-A18V-01A-11R-A12D-07.all_ref_SampleL...  \n",
       "1  G_TCGA-BH-A18V-01A-11R-A12D-07.all_ref_SampleL...  \n",
       "2  G_TCGA-BH-A18V-01A-11R-A12D-07.all_ref_SampleL...  \n",
       "3  G_TCGA-BH-A18V-01A-11R-A12D-07.all_ref_SampleL...  \n",
       "4  G_TCGA-BH-A18V-01A-11R-A12D-07.all_ref_SampleL...  "
      ]
     },
     "execution_count": 34,
     "metadata": {},
     "output_type": "execute_result"
    }
   ],
   "source": [
    "id_mapped.head()"
   ]
  },
  {
   "cell_type": "code",
   "execution_count": 35,
   "metadata": {
    "ExecuteTime": {
     "end_time": "2022-02-18T17:07:59.882584Z",
     "start_time": "2022-02-18T17:07:59.881035Z"
    },
    "scrolled": true
   },
   "outputs": [],
   "source": [
    "# path_to_table.loc[(path_to_table['min_sample_reads'] == 0) & \\\n",
    "#             (path_to_table['reads_per_cohort_sample'] == 0) & \\\n",
    "#            (path_to_table['#_of_cohort_samples'] == 2) & \\\n",
    "#            (path_to_table['reads_per_normal_sample'] == -1) & \\\n",
    "#            (path_to_table['#_normal_samples_allowed'] == 2) & \\\n",
    "#            (path_to_table['normal_cohort_id'] == 'GtexcoreCohort') ]"
   ]
  },
  {
   "cell_type": "markdown",
   "metadata": {},
   "source": [
    "## Step b. Get the longlist of peptides\n",
    "### Input: Peptide files from ETH filtering"
   ]
  },
  {
   "cell_type": "code",
   "execution_count": 36,
   "metadata": {
    "ExecuteTime": {
     "end_time": "2022-02-18T17:08:04.343334Z",
     "start_time": "2022-02-18T17:07:59.884792Z"
    }
   },
   "outputs": [],
   "source": [
    "kmer_file_idx = defaultdict(list) \n",
    "for io, eth_path in enumerate(experiement_files):\n",
    "    eth_path = glob.glob(eth_path + '/*part*')[0]\n",
    "    df_eth = pd.read_csv(eth_path, sep=\"\\t\", usecols = ['kmer'])\n",
    "    df_eth = set(df_eth['kmer'])\n",
    "    base_name = eth_path.split('/')[-2]\n",
    "    idx_exp = id_mapped.loc[id_mapped['filename'] == base_name, 'id'].values[0]\n",
    "    for kmer in df_eth:\n",
    "        kmer_file_idx[kmer].append(str(idx_exp))"
   ]
  },
  {
   "cell_type": "markdown",
   "metadata": {},
   "source": [
    "# Step 4. Format the peptide raw file  \n",
    "### Input:  file meta with kmers and bi-exons matching the longlist of the samples "
   ]
  },
  {
   "cell_type": "code",
   "execution_count": 37,
   "metadata": {
    "ExecuteTime": {
     "end_time": "2022-02-18T17:08:04.346805Z",
     "start_time": "2022-02-18T17:08:04.344826Z"
    }
   },
   "outputs": [],
   "source": [
    "# fields_meta_peptide_dict = ['peptide', 'id', 'readFrame', 'geneName', 'geneChr', 'geneStrand',\n",
    "#                                 'mutationMode',\n",
    "#                                 'junctionAnnotated', 'hasStopCodon', 'isInJunctionList',\n",
    "#                                 'isIsolated', 'variantComb', 'variantSegExpr', 'modifiedExonsCoord',\n",
    "#                                 'originalExonsCoord', 'vertexIdx',\n",
    "#                                 'kmerType']"
   ]
  },
  {
   "cell_type": "code",
   "execution_count": 38,
   "metadata": {
    "ExecuteTime": {
     "end_time": "2022-02-18T17:08:04.352832Z",
     "start_time": "2022-02-18T17:08:04.348640Z"
    }
   },
   "outputs": [],
   "source": [
    "file_meta = os.path.join(experiment_folder, \n",
    "                         '{}_{}_{}'.format(sample, \n",
    "                                      background.replace('commit_', ''),\n",
    "                                      'kmer_peptides_raw.tsv'))"
   ]
  },
  {
   "cell_type": "code",
   "execution_count": 39,
   "metadata": {
    "ExecuteTime": {
     "end_time": "2022-02-18T17:08:04.358265Z",
     "start_time": "2022-02-18T17:08:04.354328Z"
    }
   },
   "outputs": [],
   "source": [
    "file_save = os.path.join(experiment_folder, \n",
    "                         'G_{}_{}'.format(sample.split('.')[0], \n",
    "                                      'query_peptides.fa'))"
   ]
  },
  {
   "cell_type": "code",
   "execution_count": 40,
   "metadata": {
    "ExecuteTime": {
     "end_time": "2022-02-18T17:08:04.363580Z",
     "start_time": "2022-02-18T17:08:04.360595Z"
    }
   },
   "outputs": [],
   "source": [
    "file_save_experiement= os.path.join(experiment_folder, \n",
    "                         'G_{}_{}'.format(sample.split('.')[0], \n",
    "                                      'experiments_per_peptide.tsv'))"
   ]
  },
  {
   "cell_type": "code",
   "execution_count": 41,
   "metadata": {
    "ExecuteTime": {
     "end_time": "2022-02-18T17:08:04.368482Z",
     "start_time": "2022-02-18T17:08:04.365034Z"
    }
   },
   "outputs": [],
   "source": [
    "def extract_peptide_fields(pep):\n",
    "    pep = pep.split(',')\n",
    "    pep_seq = pep[0]\n",
    "    pep_gene = pep[3]\n",
    "    pep_orig_coordS = pep[13].split('/')\n",
    "    pep_modif_coordS = pep[14].split('/')\n",
    "    strand = pep[5]\n",
    "    has_stop_codon = pep[8]\n",
    "    return pep, pep_seq, pep_gene, pep_orig_coordS, pep_modif_coordS, strand, has_stop_codon"
   ]
  },
  {
   "cell_type": "code",
   "execution_count": 42,
   "metadata": {
    "ExecuteTime": {
     "end_time": "2022-02-18T17:08:04.374448Z",
     "start_time": "2022-02-18T17:08:04.370165Z"
    }
   },
   "outputs": [],
   "source": [
    "def extract_end_starts(pep_orig_coord):\n",
    "    ''' Get peptide end and start coordinates'''\n",
    "    if strand == '+': # Do - strand \n",
    "        pep_start = np.int(pep_orig_coord[0])\n",
    "        pep_end = np.int(pep_orig_coord[-1])\n",
    "    else: \n",
    "        pep_start = np.int(pep_orig_coord[1])\n",
    "        pep_end = np.int(pep_orig_coord[-2])\n",
    "    return pep_start, pep_end"
   ]
  },
  {
   "cell_type": "code",
   "execution_count": 43,
   "metadata": {
    "ExecuteTime": {
     "end_time": "2022-02-18T17:08:04.381242Z",
     "start_time": "2022-02-18T17:08:04.375782Z"
    }
   },
   "outputs": [],
   "source": [
    "def get_include_flag(start_cds, end_cds, pep_start, pep_end, has_stop_codon ):\n",
    "    '''Use end and start coordinates for 3' 5' include flag'''\n",
    "    if pep_start in start_cds: # We will always miss things that are new in the graph \n",
    "        pep_5include = 1\n",
    "    else: \n",
    "        pep_5include = 0 \n",
    "    if (pep_end in end_cds) or (has_stop_codon) == '1':\n",
    "        pep_3include = 1\n",
    "    else: \n",
    "        pep_3include = 0 \n",
    "    return pep_5include, pep_3include"
   ]
  },
  {
   "cell_type": "code",
   "execution_count": 54,
   "metadata": {
    "ExecuteTime": {
     "end_time": "2022-02-18T17:20:49.317735Z",
     "start_time": "2022-02-18T17:20:49.285269Z"
    }
   },
   "outputs": [],
   "source": [
    "def get_nt_len_with_aa_shift(pep_modi_coord):\n",
    "    '''Get nt length of each exon involved -> jx_list, shift_list'''\n",
    "    tot_len = 0 \n",
    "    shift = 0 \n",
    "    jx_list = []\n",
    "    jx_list_ori = []\n",
    "    shift_list = []\n",
    "    for pair in np.arange(0, len(pep_modi_coord), 2):\n",
    "        cds = int(pep_modi_coord[pair + 1]) - int(pep_modi_coord[pair])  # 0 based, open right \n",
    "        jx_list_ori.append(cds)\n",
    "        cds += shift \n",
    "        shift = cds % 3\n",
    "        jx_list.append(cds - shift)\n",
    "        shift_list.append(shift)\n",
    "        \n",
    "    return jx_list, shift_list, jx_list_ori"
   ]
  },
  {
   "cell_type": "code",
   "execution_count": 45,
   "metadata": {
    "ExecuteTime": {
     "end_time": "2022-02-18T17:08:04.392031Z",
     "start_time": "2022-02-18T17:08:04.388522Z"
    }
   },
   "outputs": [],
   "source": [
    "def get_aaPos_betweenFlag(shift_list, jx_list):\n",
    "    '''Get aa position of the junction'''\n",
    "    if shift_list[0]: # junction is inside an amino acid\n",
    "        aa_junction_pos = int((jx_list[0] / 3)) # because 0 based\n",
    "        between_codons = 0 \n",
    "    else: # junction is between amino acids \n",
    "        aa_junction_pos = int((jx_list[0] / 3) - 1)  # because 0 based\n",
    "        between_codons = 1\n",
    "    return aa_junction_pos, between_codons"
   ]
  },
  {
   "cell_type": "code",
   "execution_count": 46,
   "metadata": {
    "ExecuteTime": {
     "end_time": "2022-02-18T17:08:04.396957Z",
     "start_time": "2022-02-18T17:08:04.393526Z"
    }
   },
   "outputs": [],
   "source": [
    "def get_genomic_coordinates(pep_modi_coord):\n",
    "    if strand == '+':\n",
    "        genome_junction_pos = '{}_{}'.format(pep_modi_coord[1], pep_modi_coord[2])\n",
    "    else:\n",
    "        genome_junction_pos = '{}_{}'.format(pep_modi_coord[0], pep_modi_coord[3])\n",
    "    return genome_junction_pos"
   ]
  },
  {
   "cell_type": "code",
   "execution_count": 47,
   "metadata": {
    "ExecuteTime": {
     "end_time": "2022-02-18T17:08:04.402592Z",
     "start_time": "2022-02-18T17:08:04.398661Z"
    }
   },
   "outputs": [],
   "source": [
    "def split_coord(pep_coord):\n",
    "    pep_coord = pep_coord.split(';')\n",
    "    pep_coord = [coord for coord in pep_coord if (coord != 'None') and (coord != 'nan')]\n",
    "    return pep_coord"
   ]
  },
  {
   "cell_type": "code",
   "execution_count": 48,
   "metadata": {
    "ExecuteTime": {
     "end_time": "2022-02-18T17:08:04.408178Z",
     "start_time": "2022-02-18T17:08:04.403934Z"
    }
   },
   "outputs": [],
   "source": [
    "def preprocess_line(line):\n",
    "    line = line.replace('3-exons_9-mer ', '3-exons_9-mer@').replace('2-exons ', '2-exons@')\n",
    "    kmer = line.split(',')[0]\n",
    "    peptides = ','.join(line.split(',')[1:])\n",
    "    peptides = peptides.split('@')\n",
    "    return line, kmer, peptides"
   ]
  },
  {
   "cell_type": "code",
   "execution_count": 49,
   "metadata": {
    "ExecuteTime": {
     "end_time": "2022-02-18T17:08:04.414054Z",
     "start_time": "2022-02-18T17:08:04.409741Z"
    }
   },
   "outputs": [],
   "source": [
    "def write_peptide_to_experiment(filepointer, pep_idx=None, pep_seq=None,\\\n",
    "                                idx=None, header=False):\n",
    "    if header:\n",
    "        header_exp = 'peptide_id\\tpeptide_sequence\\texperiment_ids\\n'\n",
    "        filepointer.write(header_exp)\n",
    "    elif pep_idx is not None:\n",
    "        exp_line = '{}\\t{}\\t{}\\n'.format(pep_idx, \n",
    "                                         pep_seq,\n",
    "                                         idx)\n",
    "        filepointer.write(exp_line)\n"
   ]
  },
  {
   "cell_type": "code",
   "execution_count": 50,
   "metadata": {
    "ExecuteTime": {
     "end_time": "2022-02-18T17:08:04.419677Z",
     "start_time": "2022-02-18T17:08:04.415434Z"
    }
   },
   "outputs": [],
   "source": [
    "def write_fasta(filepointer, pep_idx, aa_junction_pos, between_codons, pep_5include, pep_3include, pep_gene, genome_junction_pos, do_write=True):\n",
    "    if do_write:\n",
    "        pep_handle = '>pepID-{};jx_pos-{};between_codons-{};includes_5\\'-{};includes_3\\'-{};gene-{};jx_coord-{}'.format(\n",
    "        pep_idx, aa_junction_pos, between_codons, pep_5include, pep_3include, pep_gene, genome_junction_pos)\n",
    "        sp.write(pep_handle + '\\n')\n",
    "        sp.write(pep_seq + '\\n')"
   ]
  },
  {
   "cell_type": "code",
   "execution_count": 77,
   "metadata": {
    "ExecuteTime": {
     "end_time": "2022-02-18T17:43:08.314240Z",
     "start_time": "2022-02-18T17:43:07.298940Z"
    },
    "scrolled": true
   },
   "outputs": [
    {
     "name": "stdout",
     "output_type": "stream",
     "text": [
      "open /cluster/work/grlab/projects/projects2020_OHSU/peptides_generation/v2_v2.5f0752a_conf2_annotFrame_cap0_runs_pya0.17.1/TCGA_Breast_1102/filter_TCGA-BH-A18V-01A-11R-A12D-07.all/commit_d4aee54_GTEXcore/TCGA-BH-A18V-01A-11R-A12D-07.all_d4aee54_GTEXcore_kmer_peptides_raw.tsv\n",
      "IMHCQPCWRILEWQQEFSLVIMLKMFLCGYLHLLLAYSCMLLWLIWYLKCCTMMLVTMDVAAGGISFYRMLGCFWVLELCYLFPYLNIKSCFV - / 36111058;36111195;36108532;36109745 /modif 36111058;36111195;36108530;36109745 / [135, 1215] /orig [137, 1215] 45 36111058_36109745 IMHCQPCWRILEWQQEFSLVIMLKMFLCGYLHLLLAYSCMLLWLI / WYLKCCTMMLVTMDVAAGGISFYRMLGCFWVLELCYLFPYLNIKSCFV\n",
      "\n",
      "\n",
      "IMHCQPCWRILEWQQEFSLVIMLKMFLCGYLHLLLAYSCMLLWLIWYLKCCTMMLVTMDVAAGGISFYRMLGCFWVLELCYLFPYLNIKSCFV - / 36111058;36111195;36108532;36109745 /modif 36111058;36111195;36109147;36109745 / [135, 600] /orig [137, 598] 45 36111058_36109745 IMHCQPCWRILEWQQEFSLVIMLKMFLCGYLHLLLAYSCMLLWLI / WYLKCCTMMLVTMDVAAGGISFYRMLGCFWVLELCYLFPYLNIKSCFV\n",
      "\n",
      "\n",
      "FYTGAAFTEGLSSGLSTSVAVFCHELPHELGDFAVMHCQPCWRILEWQQEFSLVIMLKMFLCGYLHLLLAYSCMLLWLIW - / 36112500;36112591;36111235;36111249;36111057;36111192 /modif 36112500;36112593;36111235;36111249;36110999;36111192 / [93, 12, 195] /orig [93, 14, 193] 30 36112500_36111249 FYTGAAFTEGLSSGLSTSVAVFCHELPHEL / GDFAVMHCQPCWRILEWQQEFSLVIMLKMFLCGYLHLLLAYSCMLLWLIW\n",
      "\n",
      "\n",
      "FYTGAAFTEGLSSGLSTSVAVFCHELPHELGDFAVMHCQPCWRILEWQQEFSLVIMLKMFLCGYLHLLLAYSCMLLWLIW - / 36112500;36112591;36111235;36111249;36111057;36111192 /modif 36112500;36112593;36111235;36111249;36111055;36111192 / [93, 12, 138] /orig [93, 14, 137] 30 36112500_36111249 FYTGAAFTEGLSSGLSTSVAVFCHELPHEL / GDFAVMHCQPCWRILEWQQEFSLVIMLKMFLCGYLHLLLAYSCMLLWLIW\n",
      "\n",
      "\n",
      "KLFLIDFYTGAAFTEGLSSGLSTSVAVFCHELPHELGDFAVLIMHCQPCWRILEWQQEFSLVIMLKMFLCGYLHLLLAYSCMLLWLIW - / 36112500;36112609;36111232;36111249;36111000;36111195 /modif 36112500;36112611;36111232;36111249;36111055;36111195 / [111, 15, 141] /orig [111, 17, 140] 36 36112500_36111249 KLFLIDFYTGAAFTEGLSSGLSTSVAVFCHELPHEL / GDFAVLIMHCQPCWRILEWQQEFSLVIMLKMFLCGYLHLLLAYSCMLLWLIW\n",
      "\n",
      "\n",
      "KLFLIDFYTGAAFTEGLSSGLSTSVAVFCHELPHELGDFAVLIMHCQPCWRILEWQQEFSLVIMLKMFLCGYLHLLLAYSCMLLWLIW - / 36112500;36112609;36111232;36111249;36111000;36111195 /modif 36112500;36112611;36111232;36111249;36110999;36111195 / [111, 15, 198] /orig [111, 17, 196] 36 36112500_36111249 KLFLIDFYTGAAFTEGLSSGLSTSVAVFCHELPHEL / GDFAVLIMHCQPCWRILEWQQEFSLVIMLKMFLCGYLHLLLAYSCMLLWLIW\n",
      "\n",
      "\n",
      "AAFTEGLSSGLSTSVAVFCHELPHELGDFAVLLLEWQQEFSLVIMLKMFLCGYLHLLLAYSCMLLWLIW - / 36112500;36112579;36111230;36111249;36111000;36111166 /modif 36112500;36112581;36111230;36111249;36111055;36111166 / [81, 18, 111] /orig [81, 19, 111] 26 36112500_36111249 AAFTEGLSSGLSTSVAVFCHELPHEL / GDFAVLLLEWQQEFSLVIMLKMFLCGYLHLLLAYSCMLLWLIW\n",
      "\n",
      "\n",
      "AAFTEGLSSGLSTSVAVFCHELPHELGDFAVLLLEWQQEFSLVIMLKMFLCGYLHLLLAYSCMLLWLIW - / 36112500;36112579;36111230;36111249;36111000;36111166 /modif 36112500;36112581;36111230;36111249;36110999;36111166 / [81, 18, 168] /orig [81, 19, 167] 26 36112500_36111249 AAFTEGLSSGLSTSVAVFCHELPHEL / GDFAVLLLEWQQEFSLVIMLKMFLCGYLHLLLAYSCMLLWLIW\n",
      "\n",
      "\n",
      "FYTGAAFTEGLSSGLSTSVAVFCHELPHELGDFAVMHCQPCWRILEWQQEFSLVIMLKMFLCGYLHLLLAYSCMLLWLIW - / 36112500;36112591;36111235;36111249;36111057;36111192 /modif 36112500;36112593;36111235;36111249;36110999;36111192 / [93, 12, 195] /orig [93, 14, 193] 30 36112500_36111249 FYTGAAFTEGLSSGLSTSVAVFCHELPHEL / GDFAVMHCQPCWRILEWQQEFSLVIMLKMFLCGYLHLLLAYSCMLLWLIW\n",
      "\n",
      "\n",
      "FYTGAAFTEGLSSGLSTSVAVFCHELPHELGDFAVMHCQPCWRILEWQQEFSLVIMLKMFLCGYLHLLLAYSCMLLWLIW - / 36112500;36112591;36111235;36111249;36111057;36111192 /modif 36112500;36112593;36111235;36111249;36111055;36111192 / [93, 12, 138] /orig [93, 14, 137] 30 36112500_36111249 FYTGAAFTEGLSSGLSTSVAVFCHELPHEL / GDFAVMHCQPCWRILEWQQEFSLVIMLKMFLCGYLHLLLAYSCMLLWLIW\n",
      "\n",
      "\n",
      "FYTGAAFTEGLSSGLSTSVAVFCHELPHELGDFAVMHCQPCWRILEWQQEFSLVIMLKMFLCGYLHLLLAYSCMLLWLIW - / 36112500;36112591;36111235;36111249;36111057;36111192 /modif 36112500;36112593;36111235;36111249;36110999;36111192 / [93, 12, 195] /orig [93, 14, 193] 30 36112500_36111249 FYTGAAFTEGLSSGLSTSVAVFCHELPHEL / GDFAVMHCQPCWRILEWQQEFSLVIMLKMFLCGYLHLLLAYSCMLLWLIW\n",
      "\n",
      "\n",
      "FYTGAAFTEGLSSGLSTSVAVFCHELPHELGDFAVMHCQPCWRILEWQQEFSLVIMLKMFLCGYLHLLLAYSCMLLWLIW - / 36112500;36112591;36111235;36111249;36111057;36111192 /modif 36112500;36112593;36111235;36111249;36111055;36111192 / [93, 12, 138] /orig [93, 14, 137] 30 36112500_36111249 FYTGAAFTEGLSSGLSTSVAVFCHELPHEL / GDFAVMHCQPCWRILEWQQEFSLVIMLKMFLCGYLHLLLAYSCMLLWLIW\n",
      "\n",
      "\n",
      "IMHCQPCWRILEWQQEFSLVIMLKMFLCGYLHLLLAYSCMLLWLIWYLKCCTMMLVTMDVAAGGISFYRMLGCFWVLELCYLFPYLNIKSCFV - / 36111058;36111195;36108532;36109745 /modif 36111058;36111195;36108530;36109745 / [135, 1215] /orig [137, 1215] 45 36111058_36109745 IMHCQPCWRILEWQQEFSLVIMLKMFLCGYLHLLLAYSCMLLWLI / WYLKCCTMMLVTMDVAAGGISFYRMLGCFWVLELCYLFPYLNIKSCFV\n",
      "\n",
      "\n",
      "IMHCQPCWRILEWQQEFSLVIMLKMFLCGYLHLLLAYSCMLLWLIWYLKCCTMMLVTMDVAAGGISFYRMLGCFWVLELCYLFPYLNIKSCFV - / 36111058;36111195;36108532;36109745 /modif 36111058;36111195;36109147;36109745 / [135, 600] /orig [137, 598] 45 36111058_36109745 IMHCQPCWRILEWQQEFSLVIMLKMFLCGYLHLLLAYSCMLLWLI / WYLKCCTMMLVTMDVAAGGISFYRMLGCFWVLELCYLFPYLNIKSCFV\n",
      "\n",
      "\n",
      "KLFLIDFYTGAAFTEGLSSGLSTSVAVFCHELPHELGDFAVLIMHCQPCWRILEWQQEFSLVIMLKMFLCGYLHLLLAYSCMLLWLIW - / 36112500;36112609;36111232;36111249;36111000;36111195 /modif 36112500;36112611;36111232;36111249;36111055;36111195 / [111, 15, 141] /orig [111, 17, 140] 36 36112500_36111249 KLFLIDFYTGAAFTEGLSSGLSTSVAVFCHELPHEL / GDFAVLIMHCQPCWRILEWQQEFSLVIMLKMFLCGYLHLLLAYSCMLLWLIW\n",
      "\n",
      "\n",
      "KLFLIDFYTGAAFTEGLSSGLSTSVAVFCHELPHELGDFAVLIMHCQPCWRILEWQQEFSLVIMLKMFLCGYLHLLLAYSCMLLWLIW - / 36112500;36112609;36111232;36111249;36111000;36111195 /modif 36112500;36112611;36111232;36111249;36110999;36111195 / [111, 15, 198] /orig [111, 17, 196] 36 36112500_36111249 KLFLIDFYTGAAFTEGLSSGLSTSVAVFCHELPHEL / GDFAVLIMHCQPCWRILEWQQEFSLVIMLKMFLCGYLHLLLAYSCMLLWLIW\n",
      "\n",
      "\n",
      "AAFTEGLSSGLSTSVAVFCHELPHELGDFAVLLLEWQQEFSLVIMLKMFLCGYLHLLLAYSCMLLWLIW - / 36112500;36112579;36111230;36111249;36111000;36111166 /modif 36112500;36112581;36111230;36111249;36111055;36111166 / [81, 18, 111] /orig [81, 19, 111] 26 36112500_36111249 AAFTEGLSSGLSTSVAVFCHELPHEL / GDFAVLLLEWQQEFSLVIMLKMFLCGYLHLLLAYSCMLLWLIW\n",
      "\n",
      "\n",
      "AAFTEGLSSGLSTSVAVFCHELPHELGDFAVLLLEWQQEFSLVIMLKMFLCGYLHLLLAYSCMLLWLIW - / 36112500;36112579;36111230;36111249;36111000;36111166 /modif 36112500;36112581;36111230;36111249;36110999;36111166 / [81, 18, 168] /orig [81, 19, 167] 26 36112500_36111249 AAFTEGLSSGLSTSVAVFCHELPHEL / GDFAVLLLEWQQEFSLVIMLKMFLCGYLHLLLAYSCMLLWLIW\n",
      "\n",
      "\n",
      "FYTGAAFTEGLSSGLSTSVAVFCHELPHELGDFAVMHCQPCWRILEWQQEFSLVIMLKMFLCGYLHLLLAYSCMLLWLIW - / 36112500;36112591;36111235;36111249;36111057;36111192 /modif 36112500;36112593;36111235;36111249;36110999;36111192 / [93, 12, 195] /orig [93, 14, 193] 30 36112500_36111249 FYTGAAFTEGLSSGLSTSVAVFCHELPHEL / GDFAVMHCQPCWRILEWQQEFSLVIMLKMFLCGYLHLLLAYSCMLLWLIW\n",
      "\n",
      "\n",
      "FYTGAAFTEGLSSGLSTSVAVFCHELPHELGDFAVMHCQPCWRILEWQQEFSLVIMLKMFLCGYLHLLLAYSCMLLWLIW - / 36112500;36112591;36111235;36111249;36111057;36111192 /modif 36112500;36112593;36111235;36111249;36111055;36111192 / [93, 12, 138] /orig [93, 14, 137] 30 36112500_36111249 FYTGAAFTEGLSSGLSTSVAVFCHELPHEL / GDFAVMHCQPCWRILEWQQEFSLVIMLKMFLCGYLHLLLAYSCMLLWLIW\n",
      "\n",
      "\n",
      "IMHCQPCWRILEWQQEFSLVIMLKMFLCGYLHLLLAYSCMLLWLIWYLKCCTMMLVTMDVAAGGISFYRMLGCFWVLELCYLFPYLNIKSCFV - / 36111058;36111195;36108532;36109745 /modif 36111058;36111195;36108530;36109745 / [135, 1215] /orig [137, 1215] 45 36111058_36109745 IMHCQPCWRILEWQQEFSLVIMLKMFLCGYLHLLLAYSCMLLWLI / WYLKCCTMMLVTMDVAAGGISFYRMLGCFWVLELCYLFPYLNIKSCFV\n",
      "\n",
      "\n",
      "IMHCQPCWRILEWQQEFSLVIMLKMFLCGYLHLLLAYSCMLLWLIWYLKCCTMMLVTMDVAAGGISFYRMLGCFWVLELCYLFPYLNIKSCFV - / 36111058;36111195;36108532;36109745 /modif 36111058;36111195;36109147;36109745 / [135, 600] /orig [137, 598] 45 36111058_36109745 IMHCQPCWRILEWQQEFSLVIMLKMFLCGYLHLLLAYSCMLLWLI / WYLKCCTMMLVTMDVAAGGISFYRMLGCFWVLELCYLFPYLNIKSCFV\n",
      "\n",
      "\n",
      "IMHCQPCWRILEWQQEFSLVIMLKMFLCGYLHLLLAYSCMLLWLIWYLKCCTMMLVTMDVAAGGISFYRMLGCFWVLELCYLFPYLNIKSCFV - / 36111058;36111195;36108532;36109745 /modif 36111058;36111195;36108530;36109745 / [135, 1215] /orig [137, 1215] 45 36111058_36109745 IMHCQPCWRILEWQQEFSLVIMLKMFLCGYLHLLLAYSCMLLWLI / WYLKCCTMMLVTMDVAAGGISFYRMLGCFWVLELCYLFPYLNIKSCFV\n",
      "\n",
      "\n",
      "IMHCQPCWRILEWQQEFSLVIMLKMFLCGYLHLLLAYSCMLLWLIWYLKCCTMMLVTMDVAAGGISFYRMLGCFWVLELCYLFPYLNIKSCFV - / 36111058;36111195;36108532;36109745 /modif 36111058;36111195;36109147;36109745 / [135, 600] /orig [137, 598] 45 36111058_36109745 IMHCQPCWRILEWQQEFSLVIMLKMFLCGYLHLLLAYSCMLLWLI / WYLKCCTMMLVTMDVAAGGISFYRMLGCFWVLELCYLFPYLNIKSCFV\n",
      "\n",
      "\n",
      "IMHCQPCWRILEWQQEFSLVIMLKMFLCGYLHLLLAYSCMLLWLIWYLKCCTMMLVTMDVAAGGISFYRMLGCFWVLELCYLFPYLNIKSCFV - / 36111058;36111195;36108532;36109745 /modif 36111058;36111195;36108530;36109745 / [135, 1215] /orig [137, 1215] 45 36111058_36109745 IMHCQPCWRILEWQQEFSLVIMLKMFLCGYLHLLLAYSCMLLWLI / WYLKCCTMMLVTMDVAAGGISFYRMLGCFWVLELCYLFPYLNIKSCFV\n",
      "\n",
      "\n",
      "IMHCQPCWRILEWQQEFSLVIMLKMFLCGYLHLLLAYSCMLLWLIWYLKCCTMMLVTMDVAAGGISFYRMLGCFWVLELCYLFPYLNIKSCFV - / 36111058;36111195;36108532;36109745 /modif 36111058;36111195;36109147;36109745 / [135, 600] /orig [137, 598] 45 36111058_36109745 IMHCQPCWRILEWQQEFSLVIMLKMFLCGYLHLLLAYSCMLLWLI / WYLKCCTMMLVTMDVAAGGISFYRMLGCFWVLELCYLFPYLNIKSCFV\n",
      "\n",
      "\n",
      "IMHCQPCWRILEWQQEFSLVIMLKMFLCGYLHLLLAYSCMLLWLIWYLKCCTMMLVTMDVAAGGISFYRMLGCFWVLELCYLFPYLNIKSCFV - / 36111058;36111195;36108532;36109745 /modif 36111058;36111195;36108530;36109745 / [135, 1215] /orig [137, 1215] 45 36111058_36109745 IMHCQPCWRILEWQQEFSLVIMLKMFLCGYLHLLLAYSCMLLWLI / WYLKCCTMMLVTMDVAAGGISFYRMLGCFWVLELCYLFPYLNIKSCFV\n",
      "\n",
      "\n",
      "IMHCQPCWRILEWQQEFSLVIMLKMFLCGYLHLLLAYSCMLLWLIWYLKCCTMMLVTMDVAAGGISFYRMLGCFWVLELCYLFPYLNIKSCFV - / 36111058;36111195;36108532;36109745 /modif 36111058;36111195;36109147;36109745 / [135, 600] /orig [137, 598] 45 36111058_36109745 IMHCQPCWRILEWQQEFSLVIMLKMFLCGYLHLLLAYSCMLLWLI / WYLKCCTMMLVTMDVAAGGISFYRMLGCFWVLELCYLFPYLNIKSCFV\n",
      "\n",
      "\n"
     ]
    },
    {
     "name": "stdout",
     "output_type": "stream",
     "text": [
      "DFAVLIMHCQPCWRILEWQQEFSLVIMLKMFLCGYLHLLLAYSCMLLWLIW - / 36111232;36111247;36111057;36111195 /modif 36111232;36111249;36111055;36111195 / [15, 141] /orig [17, 140] 5 36111232_36111195 DFAVL / IMHCQPCWRILEWQQEFSLVIMLKMFLCGYLHLLLAYSCMLLWLIW\n",
      "\n",
      "\n",
      "DFAVLIMHCQPCWRILEWQQEFSLVIMLKMFLCGYLHLLLAYSCMLLWLIW - / 36111232;36111247;36111057;36111195 /modif 36111232;36111249;36110999;36111195 / [15, 198] /orig [17, 196] 5 36111232_36111195 DFAVL / IMHCQPCWRILEWQQEFSLVIMLKMFLCGYLHLLLAYSCMLLWLIW\n",
      "\n",
      "\n",
      "DFAVLLKAGMTVKQEFSLVIMLKMFLCGYLHLLLAYSCMLLWLIW - / 36111205;36111247;36111057;36111150 /modif 36111205;36111249;36111055;36111150 / [42, 96] /orig [44, 95] 14 36111205_36111150 DFAVLLKAGMTVKQ / EFSLVIMLKMFLCGYLHLLLAYSCMLLWLIW\n",
      "\n",
      "\n",
      "DFAVLLKAGMTVKQEFSLVIMLKMFLCGYLHLLLAYSCMLLWLIW - / 36111205;36111247;36111057;36111150 /modif 36111205;36111249;36110999;36111150 / [42, 153] /orig [44, 151] 14 36111205_36111150 DFAVLLKAGMTVKQ / EFSLVIMLKMFLCGYLHLLLAYSCMLLWLIW\n",
      "\n",
      "\n",
      "DFAVLLKAGMTVILEWQQEFSLVIMLKMFLCGYLHLLLAYSCMLLWLIW - / 36111210;36111247;36111057;36111167 /modif 36111210;36111249;36110999;36111167 / [39, 168] /orig [39, 168] 12 36111210_36111167 DFAVLLKAGMTV / ILEWQQEFSLVIMLKMFLCGYLHLLLAYSCMLLWLIW\n",
      "\n",
      "\n",
      "DFAVLLKAGMTVILEWQQEFSLVIMLKMFLCGYLHLLLAYSCMLLWLIW - / 36111210;36111247;36111057;36111167 /modif 36111210;36111249;36111055;36111167 / [39, 111] /orig [39, 112] 12 36111210_36111167 DFAVLLKAGMTV / ILEWQQEFSLVIMLKMFLCGYLHLLLAYSCMLLWLIW\n",
      "\n",
      "\n",
      "DFAVLLKAGMTVSQPCWRILEWQQEFSLVIMLKMFLCGYLHLLLAYSCMLLWLIW - / 36111210;36111247;36111000;36111185 /modif 36111210;36111249;36111055;36111185 / [39, 129] /orig [39, 130] 12 36111210_36111185 DFAVLLKAGMTV / SQPCWRILEWQQEFSLVIMLKMFLCGYLHLLLAYSCMLLWLIW\n",
      "\n",
      "\n",
      "DFAVLLKAGMTVSQPCWRILEWQQEFSLVIMLKMFLCGYLHLLLAYSCMLLWLIW - / 36111210;36111247;36111000;36111185 /modif 36111210;36111249;36110999;36111185 / [39, 186] /orig [39, 186] 12 36111210_36111185 DFAVLLKAGMTV / SQPCWRILEWQQEFSLVIMLKMFLCGYLHLLLAYSCMLLWLIW\n",
      "\n",
      "\n",
      "DFAVLLLEWQQEFSLVIMLKMFLCGYLHLLLAYSCMLLWLIW - / 36111230;36111247;36111057;36111166 /modif 36111230;36111249;36111055;36111166 / [18, 111] /orig [19, 111] 6 36111230_36111166 DFAVLL / LEWQQEFSLVIMLKMFLCGYLHLLLAYSCMLLWLIW\n",
      "\n",
      "\n",
      "DFAVLLLEWQQEFSLVIMLKMFLCGYLHLLLAYSCMLLWLIW - / 36111230;36111247;36111057;36111166 /modif 36111230;36111249;36110999;36111166 / [18, 168] /orig [19, 167] 6 36111230_36111166 DFAVLL / LEWQQEFSLVIMLKMFLCGYLHLLLAYSCMLLWLIW\n",
      "\n",
      "\n",
      "DFAVMHCQPCWRILEWQQEFSLVIMLKMFLCGYLHLLLAYSCMLLWLIW - / 36111235;36111247;36111057;36111192 /modif 36111235;36111249;36111055;36111192 / [12, 138] /orig [14, 137] 4 36111235_36111192 DFAV / MHCQPCWRILEWQQEFSLVIMLKMFLCGYLHLLLAYSCMLLWLIW\n",
      "\n",
      "\n",
      "DFAVMHCQPCWRILEWQQEFSLVIMLKMFLCGYLHLLLAYSCMLLWLIW - / 36111235;36111247;36111057;36111192 /modif 36111235;36111249;36110999;36111192 / [12, 195] /orig [14, 193] 4 36111235_36111192 DFAV / MHCQPCWRILEWQQEFSLVIMLKMFLCGYLHLLLAYSCMLLWLIW\n",
      "\n",
      "\n",
      "IMHCQPCWRILEWQQEFSLVIMLKMFLCGYLHLLLAYSCMLLWLIWYLKCCTMMLVTMDVAAGGISFYRMLGCFWVLELCYLFPYLNIKSCFV - / 36111058;36111195;36108532;36109745 /modif 36111058;36111195;36108530;36109745 / [135, 1215] /orig [137, 1215] 45 36111058_36109745 IMHCQPCWRILEWQQEFSLVIMLKMFLCGYLHLLLAYSCMLLWLI / WYLKCCTMMLVTMDVAAGGISFYRMLGCFWVLELCYLFPYLNIKSCFV\n",
      "\n",
      "\n",
      "IMHCQPCWRILEWQQEFSLVIMLKMFLCGYLHLLLAYSCMLLWLIWYLKCCTMMLVTMDVAAGGISFYRMLGCFWVLELCYLFPYLNIKSCFV - / 36111058;36111195;36108532;36109745 /modif 36111058;36111195;36109147;36109745 / [135, 600] /orig [137, 598] 45 36111058_36109745 IMHCQPCWRILEWQQEFSLVIMLKMFLCGYLHLLLAYSCMLLWLI / WYLKCCTMMLVTMDVAAGGISFYRMLGCFWVLELCYLFPYLNIKSCFV\n",
      "\n",
      "\n",
      "IMHCQPCWRILEWQQEFSLVIMLKMFLCGYLHLLLAYSCMLLWLIWYLKCCTMMLVTMDVAAGGISFYRMLGCFWVLELCYLFPYLNIKSCFV - / 36111058;36111195;36108532;36109745 /modif 36111058;36111195;36108530;36109745 / [135, 1215] /orig [137, 1215] 45 36111058_36109745 IMHCQPCWRILEWQQEFSLVIMLKMFLCGYLHLLLAYSCMLLWLI / WYLKCCTMMLVTMDVAAGGISFYRMLGCFWVLELCYLFPYLNIKSCFV\n",
      "\n",
      "\n",
      "IMHCQPCWRILEWQQEFSLVIMLKMFLCGYLHLLLAYSCMLLWLIWYLKCCTMMLVTMDVAAGGISFYRMLGCFWVLELCYLFPYLNIKSCFV - / 36111058;36111195;36108532;36109745 /modif 36111058;36111195;36109147;36109745 / [135, 600] /orig [137, 598] 45 36111058_36109745 IMHCQPCWRILEWQQEFSLVIMLKMFLCGYLHLLLAYSCMLLWLI / WYLKCCTMMLVTMDVAAGGISFYRMLGCFWVLELCYLFPYLNIKSCFV\n",
      "\n",
      "\n",
      "/cluster/work/grlab/projects/projects2020_OHSU/peptides_generation/v2_v2.5f0752a_conf2_annotFrame_cap0_runs_pya0.17.1/TCGA_Breast_1102/filter_TCGA-BH-A18V-01A-11R-A12D-07.all/commit_d4aee54_GTEXcore/G_TCGA-BH-A18V-01A-11R-A12D-07_experiments_per_peptide.tsv\n",
      "/cluster/work/grlab/projects/projects2020_OHSU/peptides_generation/v2_v2.5f0752a_conf2_annotFrame_cap0_runs_pya0.17.1/TCGA_Breast_1102/filter_TCGA-BH-A18V-01A-11R-A12D-07.all/commit_d4aee54_GTEXcore/G_TCGA-BH-A18V-01A-11R-A12D-07_query_peptides.fa\n"
     ]
    }
   ],
   "source": [
    "## Format and create flags \n",
    "pep_idx = 0 \n",
    "kmer_len = 9 \n",
    "sp = 'None'\n",
    "with open(file_save_experiement, 'w') as ep:\n",
    "    write_peptide_to_experiment(ep, header=True)\n",
    "    #with open(file_save, 'w') as sp:\n",
    "    with open(file_meta, 'r') as fp:\n",
    "        print(\"open {}\".format(file_meta))\n",
    "        lines = fp.readlines()\n",
    "        ### Iterate over kmers \n",
    "        for line in lines:\n",
    "            if 'modifiedExonsCoord' in line: #header\n",
    "                continue\n",
    "            line, kmer, peptides = preprocess_line(line)\n",
    "            ### Iterate over kmer-associated peptides\n",
    "            for pep in peptides:\n",
    "                pep, pep_seq, pep_gene, pep_orig_coordS, pep_modif_coordS, \\\n",
    "                strand, has_stop_codon = extract_peptide_fields(pep)\n",
    "                if has_stop_codon == '0':\n",
    "                    break \n",
    "                    \n",
    "                ### Iterate over original genomic coordinates for include flag\n",
    "                for pep_orig_coord in pep_orig_coordS:\n",
    "                    pep_orig_coord = split_coord(pep_orig_coord)\n",
    "                    start_cds = [ first_exon[0] for first_exon in \n",
    "                                 gene_cds_begin_dict_bis[pep_gene] ] \n",
    "                    end_cds = [ last_exon[1] for last_exon in \n",
    "                               gene_cds_end_dict_bis[pep_gene] ] \n",
    "                    pep_start, pep_end = extract_end_starts(pep_orig_coord)\n",
    "                    pep_5include, pep_3include = get_include_flag(start_cds, end_cds, \n",
    "                                                                  pep_start, pep_end, \n",
    "                                                                  has_stop_codon )\n",
    "\n",
    "                ### Iterate over modified genomic coordinates for the junction position flag and between codon flag\n",
    "                for pep_modi_coord in pep_modif_coordS:\n",
    "                    pep_idx +=1\n",
    "                    pep_modi_coord = split_coord(pep_modi_coord)\n",
    "                    if len(pep_modi_coord) <=2:\n",
    "                        continue\n",
    "                    jx_list, shift_list, jx_list_ori = get_nt_len_with_aa_shift(pep_modi_coord)\n",
    "                    aa_junction_pos, between_codons = get_aaPos_betweenFlag(shift_list, \n",
    "                                                                            jx_list)\n",
    "                    genome_junction_pos = get_genomic_coordinates(pep_modi_coord)\n",
    "                    \n",
    "                    # --- TEST ---\n",
    "                    if ('YSCMLLWLI' not in pep_seq): # TODO REMOVE TEST LHAGSGR 'MSDTWSS!!!'\n",
    "                        continue\n",
    "                        # 'MSDTWSS!!!', 'NAWSRKKRAHL' same issue..\n",
    "                    save_line = line\n",
    "                    print(pep_seq,strand, '/',';'.join(pep_orig_coord), '/modif',\n",
    "                          ';'.join(pep_modi_coord), '/', jx_list, '/orig', jx_list_ori, aa_junction_pos, \n",
    "                          genome_junction_pos, pep_seq[:aa_junction_pos], '/', pep_seq[aa_junction_pos:])\n",
    "                    print('\\n')\n",
    "                    # --- END TEST ---\n",
    "                        \n",
    "                    write_fasta(sp, pep_idx, aa_junction_pos, between_codons, \n",
    "                                pep_5include, pep_3include, pep_gene, \n",
    "                                genome_junction_pos, do_write=False)\n",
    "\n",
    "                    write_peptide_to_experiment(ep, pep_idx, pep_seq,';'.join(kmer_file_idx[kmer])) \n",
    "    \n",
    "\n",
    "print(file_save_experiement)\n",
    "print(file_save)\n"
   ]
  },
  {
   "cell_type": "code",
   "execution_count": null,
   "metadata": {},
   "outputs": [],
   "source": [
    "Real position junction 2 = 17 "
   ]
  },
  {
   "cell_type": "code",
   "execution_count": null,
   "metadata": {},
   "outputs": [],
   "source": [
    "exon 3 :'RRSPFCK', 'TESRGSIVSNLP '"
   ]
  },
  {
   "cell_type": "code",
   "execution_count": null,
   "metadata": {},
   "outputs": [],
   "source": [
    "exon 1, 2: 'MSDTWSSIQAEAGLGALGS'"
   ]
  },
  {
   "cell_type": "code",
   "execution_count": 62,
   "metadata": {
    "ExecuteTime": {
     "end_time": "2022-02-18T17:27:50.984021Z",
     "start_time": "2022-02-18T17:27:50.974200Z"
    }
   },
   "outputs": [
    {
     "data": {
      "text/plain": [
       "51"
      ]
     },
     "execution_count": 62,
     "metadata": {},
     "output_type": "execute_result"
    }
   ],
   "source": [
    "17* 3 "
   ]
  },
  {
   "cell_type": "code",
   "execution_count": 61,
   "metadata": {
    "ExecuteTime": {
     "end_time": "2022-02-18T17:25:08.533474Z",
     "start_time": "2022-02-18T17:25:08.523026Z"
    }
   },
   "outputs": [
    {
     "data": {
      "text/plain": [
       "True"
      ]
     },
     "execution_count": 61,
     "metadata": {},
     "output_type": "execute_result"
    }
   ],
   "source": [
    "21511310 > 21511196 > 21511149> 21511123 >21503881 >21503663"
   ]
  },
  {
   "cell_type": "code",
   "execution_count": 56,
   "metadata": {
    "ExecuteTime": {
     "end_time": "2022-02-18T17:22:42.477382Z",
     "start_time": "2022-02-18T17:22:42.465085Z"
    }
   },
   "outputs": [
    {
     "data": {
      "text/plain": [
       "['21511123', '21511149', '21503664', '21503881', 'None', 'None']"
      ]
     },
     "execution_count": 56,
     "metadata": {},
     "output_type": "execute_result"
    }
   ],
   "source": [
    "save_line.split(',')[14].split(';')"
   ]
  },
  {
   "cell_type": "code",
   "execution_count": 57,
   "metadata": {
    "ExecuteTime": {
     "end_time": "2022-02-18T17:22:45.185181Z",
     "start_time": "2022-02-18T17:22:45.176776Z"
    }
   },
   "outputs": [
    {
     "data": {
      "text/plain": [
       "['21511123', '21511149', '21503663', '21503881', 'None', 'None']"
      ]
     },
     "execution_count": 57,
     "metadata": {},
     "output_type": "execute_result"
    }
   ],
   "source": [
    "save_line.split(',')[15].split(';')"
   ]
  },
  {
   "cell_type": "code",
   "execution_count": 60,
   "metadata": {
    "ExecuteTime": {
     "end_time": "2022-02-18T17:23:39.945186Z",
     "start_time": "2022-02-18T17:23:39.936941Z"
    }
   },
   "outputs": [
    {
     "data": {
      "text/plain": [
       "'LGSTESRGS,AEAGLGALGSTESRGSIVSNLP,ENSG00000165819.12:107_87:0:21511149:2-exons,2,ENSG00000165819.12,chr14,-,ref,1,1,nan,0,nan,nan,21511123;21511149;21503664;21503881;None;None,21511123;21511149;21503663;21503881;None;None,\"(107, 87)\",2-exons@MSDTWSSIQAEAGLGALGSTESRGSIVSNLP,ENSG00000165819.12:117_107_87:0:21511223:3-exons_9-mer/ENSG00000165819.12:116_107_87:0:21511223:3-exons_9-mer/ENSG00000165819.12:115_107_87:0:21511223:3-exons_9-mer/ENSG00000165819.12:113_107_87:0:21511223:3-exons_9-mer/ENSG00000165819.12:114_107_87:0:21511223:3-exons_9-mer,0,ENSG00000165819.12,chr14,-,ref,1,1,nan,0,nan,nan,21511196;21511223;21511123;21511149;21503664;21503881,21511196;21511310;21511123;21511149;21503663;21503881/21511196;21511259;21511123;21511149;21503663;21503881/21511196;21511342;21511123;21511149;21503663;21503881/21511196;21511338;21511123;21511149;21503663;21503881/21511196;21511340;21511123;21511149;21503663;21503881,\"(113, 107, 87)/(117, 107, 87)/(115, 107, 87)/(116, 107, 87)/(114, 107, 87)\",3-exons_9-mer\\n'"
      ]
     },
     "execution_count": 60,
     "metadata": {},
     "output_type": "execute_result"
    }
   ],
   "source": [
    "save_line"
   ]
  },
  {
   "cell_type": "code",
   "execution_count": 59,
   "metadata": {
    "ExecuteTime": {
     "end_time": "2022-02-18T17:23:22.746532Z",
     "start_time": "2022-02-18T17:23:22.736905Z"
    }
   },
   "outputs": [
    {
     "data": {
      "text/plain": [
       "['LGSTESRGS',\n",
       " 'AEAGLGALGSTESRGSIVSNLP',\n",
       " 'ENSG00000165819.12:107_87:0:21511149:2-exons',\n",
       " '2',\n",
       " 'ENSG00000165819.12',\n",
       " 'chr14',\n",
       " '-',\n",
       " 'ref',\n",
       " '1',\n",
       " '1',\n",
       " 'nan',\n",
       " '0',\n",
       " 'nan',\n",
       " 'nan',\n",
       " '21511123;21511149;21503664;21503881;None;None',\n",
       " '21511123;21511149;21503663;21503881;None;None',\n",
       " '\"(107',\n",
       " ' 87)\"',\n",
       " '2-exons@MSDTWSSIQAEAGLGALGSTESRGSIVSNLP',\n",
       " 'ENSG00000165819.12:117_107_87:0:21511223:3-exons_9-mer/ENSG00000165819.12:116_107_87:0:21511223:3-exons_9-mer/ENSG00000165819.12:115_107_87:0:21511223:3-exons_9-mer/ENSG00000165819.12:113_107_87:0:21511223:3-exons_9-mer/ENSG00000165819.12:114_107_87:0:21511223:3-exons_9-mer',\n",
       " '0',\n",
       " 'ENSG00000165819.12',\n",
       " 'chr14',\n",
       " '-',\n",
       " 'ref',\n",
       " '1',\n",
       " '1',\n",
       " 'nan',\n",
       " '0',\n",
       " 'nan',\n",
       " 'nan',\n",
       " '21511196;21511223;21511123;21511149;21503664;21503881',\n",
       " '21511196;21511310;21511123;21511149;21503663;21503881/21511196;21511259;21511123;21511149;21503663;21503881/21511196;21511342;21511123;21511149;21503663;21503881/21511196;21511338;21511123;21511149;21503663;21503881/21511196;21511340;21511123;21511149;21503663;21503881',\n",
       " '\"(113',\n",
       " ' 107',\n",
       " ' 87)/(117',\n",
       " ' 107',\n",
       " ' 87)/(115',\n",
       " ' 107',\n",
       " ' 87)/(116',\n",
       " ' 107',\n",
       " ' 87)/(114',\n",
       " ' 107',\n",
       " ' 87)\"',\n",
       " '3-exons_9-mer\\n']"
      ]
     },
     "execution_count": 59,
     "metadata": {},
     "output_type": "execute_result"
    }
   ],
   "source": [
    "save_line.split(',')"
   ]
  },
  {
   "cell_type": "code",
   "execution_count": 90,
   "metadata": {
    "ExecuteTime": {
     "end_time": "2022-02-18T15:14:27.074497Z",
     "start_time": "2022-02-18T15:14:27.067825Z"
    }
   },
   "outputs": [
    {
     "data": {
      "text/plain": [
       "'ANSIKEYQKSIWKVYVVSFTVIKTPAKYYSYSKGWGFTMFPRLVSNSWAQVVCLPRPPKVVGSQA'"
      ]
     },
     "execution_count": 90,
     "metadata": {},
     "output_type": "execute_result"
    }
   ],
   "source": [
    "pep_seq"
   ]
  },
  {
   "cell_type": "code",
   "execution_count": 86,
   "metadata": {
    "ExecuteTime": {
     "end_time": "2022-02-18T15:13:46.700059Z",
     "start_time": "2022-02-18T15:13:46.591087Z"
    }
   },
   "outputs": [
    {
     "data": {
      "text/plain": [
       "['21511196', '21511223', '21511123', '21511149', '21503664', '21503881']"
      ]
     },
     "execution_count": 86,
     "metadata": {},
     "output_type": "execute_result"
    }
   ],
   "source": [
    "pep_orig_coord\n",
    "\n"
   ]
  },
  {
   "cell_type": "code",
   "execution_count": null,
   "metadata": {},
   "outputs": [],
   "source": []
  },
  {
   "cell_type": "code",
   "execution_count": null,
   "metadata": {},
   "outputs": [],
   "source": []
  },
  {
   "cell_type": "code",
   "execution_count": null,
   "metadata": {},
   "outputs": [],
   "source": []
  },
  {
   "cell_type": "code",
   "execution_count": null,
   "metadata": {},
   "outputs": [],
   "source": []
  },
  {
   "cell_type": "code",
   "execution_count": null,
   "metadata": {},
   "outputs": [],
   "source": []
  },
  {
   "cell_type": "code",
   "execution_count": null,
   "metadata": {},
   "outputs": [],
   "source": []
  }
 ],
 "metadata": {
  "kernelspec": {
   "display_name": "myimmuno3_light",
   "language": "python",
   "name": "myimmuno3_light"
  },
  "language_info": {
   "codemirror_mode": {
    "name": "ipython",
    "version": 3
   },
   "file_extension": ".py",
   "mimetype": "text/x-python",
   "name": "python",
   "nbconvert_exporter": "python",
   "pygments_lexer": "ipython3",
   "version": "3.8.5"
  }
 },
 "nbformat": 4,
 "nbformat_minor": 4
}
