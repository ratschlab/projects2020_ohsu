{
 "cells": [
  {
   "cell_type": "code",
   "execution_count": 2,
   "id": "2ee2ef11",
   "metadata": {},
   "outputs": [],
   "source": [
    "import os\n",
    "import pandas as pd"
   ]
  },
  {
   "cell_type": "code",
   "execution_count": 3,
   "id": "638e8de6",
   "metadata": {},
   "outputs": [],
   "source": [
    "basedir = '/cluster/work/grlab/projects/projects2020_OHSU/peptides_generation/CANCER_eth/commit_c4dd02c_conf2_Frame_cap0_runs/TCGA_Ovarian_374'"
   ]
  },
  {
   "cell_type": "code",
   "execution_count": 4,
   "id": "5ad4ec56",
   "metadata": {},
   "outputs": [],
   "source": [
    "intermediate_file = os.path.join(basedir, 'filtering_intermediate/complete_cancer_candidates_order_r_complete.tsv.gz')"
   ]
  },
  {
   "cell_type": "code",
   "execution_count": 5,
   "id": "3bc215e7",
   "metadata": {},
   "outputs": [],
   "source": [
    "inter = pd.read_csv(intermediate_file, sep = '\\t')"
   ]
  },
  {
   "cell_type": "code",
   "execution_count": 6,
   "id": "ba57bd9c",
   "metadata": {},
   "outputs": [],
   "source": [
    "# Note: Could\n",
    "longlist = '/cluster/work/grlab/projects/projects2020_OHSU/peptides_generation/CANCER_eth/commit_c4dd02c_conf2_Frame_cap0_runs/TCGA_Ovarian_374/filtering_samples/All_samples_filters_19_May.tsv.gz'"
   ]
  },
  {
   "cell_type": "code",
   "execution_count": 7,
   "id": "9a1371e0",
   "metadata": {},
   "outputs": [],
   "source": [
    "long_list = pd.read_csv(longlist, sep = '\\t', header = None)\n",
    "long_list.columns = ['kmer', 'coord']"
   ]
  },
  {
   "cell_type": "code",
   "execution_count": 8,
   "id": "df1a714b",
   "metadata": {
    "scrolled": true
   },
   "outputs": [
    {
     "data": {
      "text/html": [
       "<div>\n",
       "<style scoped>\n",
       "    .dataframe tbody tr th:only-of-type {\n",
       "        vertical-align: middle;\n",
       "    }\n",
       "\n",
       "    .dataframe tbody tr th {\n",
       "        vertical-align: top;\n",
       "    }\n",
       "\n",
       "    .dataframe thead th {\n",
       "        text-align: right;\n",
       "    }\n",
       "</style>\n",
       "<table border=\"1\" class=\"dataframe\">\n",
       "  <thead>\n",
       "    <tr style=\"text-align: right;\">\n",
       "      <th></th>\n",
       "      <th>kmer</th>\n",
       "      <th>gtexCohortfilter &gt;0.0</th>\n",
       "      <th>gtexCohortfilter &gt;=1.0</th>\n",
       "      <th>gtexCohortfilter &gt;=2.0</th>\n",
       "      <th>gtexCohortfilter &gt;=3.0</th>\n",
       "      <th>gtexCohortfilter &gt;=5.0</th>\n",
       "      <th>gtexCohortfilter &gt;=10.0</th>\n",
       "      <th>coord</th>\n",
       "      <th>junctionAnnotated</th>\n",
       "      <th>readFrameAnnotated</th>\n",
       "      <th>...</th>\n",
       "      <th>cancerCohortfilter &gt;=2.0</th>\n",
       "      <th>cancerCohortfilter &gt;=3.0</th>\n",
       "      <th>cancerCohortfilter &gt;=5.0</th>\n",
       "      <th>cancerCohortfilter &gt;=10.0</th>\n",
       "      <th>TCGA25131901A01R156513all</th>\n",
       "      <th>TCGA25131301A01R156513all</th>\n",
       "      <th>TCGA61200801A02R156813all</th>\n",
       "      <th>TCGA24143101A01R156613all</th>\n",
       "      <th>TCGA24229801A01R156913all</th>\n",
       "      <th>isAnnotated</th>\n",
       "    </tr>\n",
       "  </thead>\n",
       "  <tbody>\n",
       "    <tr>\n",
       "      <th>0</th>\n",
       "      <td>RKSTQMPCT</td>\n",
       "      <td>1218.0</td>\n",
       "      <td>689.0</td>\n",
       "      <td>249.0</td>\n",
       "      <td>89.0</td>\n",
       "      <td>26.0</td>\n",
       "      <td>4.0</td>\n",
       "      <td>92379857:92379859:92611313:92611338:None:None</td>\n",
       "      <td>True</td>\n",
       "      <td>False</td>\n",
       "      <td>...</td>\n",
       "      <td>372</td>\n",
       "      <td>367</td>\n",
       "      <td>352</td>\n",
       "      <td>295</td>\n",
       "      <td>20.982616</td>\n",
       "      <td>8.422932</td>\n",
       "      <td>17.304198</td>\n",
       "      <td>16.069005</td>\n",
       "      <td>19.585264</td>\n",
       "      <td>NaN</td>\n",
       "    </tr>\n",
       "    <tr>\n",
       "      <th>1</th>\n",
       "      <td>RKSTQMPCT</td>\n",
       "      <td>1279.0</td>\n",
       "      <td>274.0</td>\n",
       "      <td>70.0</td>\n",
       "      <td>28.0</td>\n",
       "      <td>5.0</td>\n",
       "      <td>1.0</td>\n",
       "      <td>92379857:92379859:92611313:92611338:None:None</td>\n",
       "      <td>True</td>\n",
       "      <td>False</td>\n",
       "      <td>...</td>\n",
       "      <td>372</td>\n",
       "      <td>367</td>\n",
       "      <td>352</td>\n",
       "      <td>295</td>\n",
       "      <td>20.982616</td>\n",
       "      <td>8.422932</td>\n",
       "      <td>17.304198</td>\n",
       "      <td>16.069005</td>\n",
       "      <td>19.585264</td>\n",
       "      <td>NaN</td>\n",
       "    </tr>\n",
       "    <tr>\n",
       "      <th>2</th>\n",
       "      <td>RKSTQMPCT</td>\n",
       "      <td>7350.0</td>\n",
       "      <td>4622.0</td>\n",
       "      <td>2653.0</td>\n",
       "      <td>1745.0</td>\n",
       "      <td>1126.0</td>\n",
       "      <td>734.0</td>\n",
       "      <td>92379857:92379859:92611313:92611338:None:None</td>\n",
       "      <td>True</td>\n",
       "      <td>False</td>\n",
       "      <td>...</td>\n",
       "      <td>372</td>\n",
       "      <td>367</td>\n",
       "      <td>352</td>\n",
       "      <td>295</td>\n",
       "      <td>20.982616</td>\n",
       "      <td>8.422932</td>\n",
       "      <td>17.304198</td>\n",
       "      <td>16.069005</td>\n",
       "      <td>19.585264</td>\n",
       "      <td>NaN</td>\n",
       "    </tr>\n",
       "    <tr>\n",
       "      <th>3</th>\n",
       "      <td>RKSTQMPCT</td>\n",
       "      <td>2025.0</td>\n",
       "      <td>479.0</td>\n",
       "      <td>96.0</td>\n",
       "      <td>35.0</td>\n",
       "      <td>8.0</td>\n",
       "      <td>1.0</td>\n",
       "      <td>92379857:92379859:92611313:92611338:None:None</td>\n",
       "      <td>True</td>\n",
       "      <td>False</td>\n",
       "      <td>...</td>\n",
       "      <td>372</td>\n",
       "      <td>367</td>\n",
       "      <td>352</td>\n",
       "      <td>295</td>\n",
       "      <td>20.982616</td>\n",
       "      <td>8.422932</td>\n",
       "      <td>17.304198</td>\n",
       "      <td>16.069005</td>\n",
       "      <td>19.585264</td>\n",
       "      <td>NaN</td>\n",
       "    </tr>\n",
       "    <tr>\n",
       "      <th>4</th>\n",
       "      <td>RKSTQMPCT</td>\n",
       "      <td>8641.0</td>\n",
       "      <td>6957.0</td>\n",
       "      <td>4789.0</td>\n",
       "      <td>3211.0</td>\n",
       "      <td>1347.0</td>\n",
       "      <td>191.0</td>\n",
       "      <td>92379857:92379859:92611313:92611338:None:None</td>\n",
       "      <td>True</td>\n",
       "      <td>False</td>\n",
       "      <td>...</td>\n",
       "      <td>372</td>\n",
       "      <td>367</td>\n",
       "      <td>352</td>\n",
       "      <td>295</td>\n",
       "      <td>20.982616</td>\n",
       "      <td>8.422932</td>\n",
       "      <td>17.304198</td>\n",
       "      <td>16.069005</td>\n",
       "      <td>19.585264</td>\n",
       "      <td>NaN</td>\n",
       "    </tr>\n",
       "  </tbody>\n",
       "</table>\n",
       "<p>5 rows × 24 columns</p>\n",
       "</div>"
      ],
      "text/plain": [
       "        kmer  gtexCohortfilter >0.0  gtexCohortfilter >=1.0  \\\n",
       "0  RKSTQMPCT                 1218.0                   689.0   \n",
       "1  RKSTQMPCT                 1279.0                   274.0   \n",
       "2  RKSTQMPCT                 7350.0                  4622.0   \n",
       "3  RKSTQMPCT                 2025.0                   479.0   \n",
       "4  RKSTQMPCT                 8641.0                  6957.0   \n",
       "\n",
       "   gtexCohortfilter >=2.0  gtexCohortfilter >=3.0  gtexCohortfilter >=5.0  \\\n",
       "0                   249.0                    89.0                    26.0   \n",
       "1                    70.0                    28.0                     5.0   \n",
       "2                  2653.0                  1745.0                  1126.0   \n",
       "3                    96.0                    35.0                     8.0   \n",
       "4                  4789.0                  3211.0                  1347.0   \n",
       "\n",
       "   gtexCohortfilter >=10.0                                          coord  \\\n",
       "0                      4.0  92379857:92379859:92611313:92611338:None:None   \n",
       "1                      1.0  92379857:92379859:92611313:92611338:None:None   \n",
       "2                    734.0  92379857:92379859:92611313:92611338:None:None   \n",
       "3                      1.0  92379857:92379859:92611313:92611338:None:None   \n",
       "4                    191.0  92379857:92379859:92611313:92611338:None:None   \n",
       "\n",
       "   junctionAnnotated  readFrameAnnotated  ...  cancerCohortfilter >=2.0  \\\n",
       "0               True               False  ...                       372   \n",
       "1               True               False  ...                       372   \n",
       "2               True               False  ...                       372   \n",
       "3               True               False  ...                       372   \n",
       "4               True               False  ...                       372   \n",
       "\n",
       "   cancerCohortfilter >=3.0  cancerCohortfilter >=5.0  \\\n",
       "0                       367                       352   \n",
       "1                       367                       352   \n",
       "2                       367                       352   \n",
       "3                       367                       352   \n",
       "4                       367                       352   \n",
       "\n",
       "   cancerCohortfilter >=10.0  TCGA25131901A01R156513all  \\\n",
       "0                        295                  20.982616   \n",
       "1                        295                  20.982616   \n",
       "2                        295                  20.982616   \n",
       "3                        295                  20.982616   \n",
       "4                        295                  20.982616   \n",
       "\n",
       "   TCGA25131301A01R156513all  TCGA61200801A02R156813all  \\\n",
       "0                   8.422932                  17.304198   \n",
       "1                   8.422932                  17.304198   \n",
       "2                   8.422932                  17.304198   \n",
       "3                   8.422932                  17.304198   \n",
       "4                   8.422932                  17.304198   \n",
       "\n",
       "   TCGA24143101A01R156613all  TCGA24229801A01R156913all  isAnnotated  \n",
       "0                  16.069005                  19.585264          NaN  \n",
       "1                  16.069005                  19.585264          NaN  \n",
       "2                  16.069005                  19.585264          NaN  \n",
       "3                  16.069005                  19.585264          NaN  \n",
       "4                  16.069005                  19.585264          NaN  \n",
       "\n",
       "[5 rows x 24 columns]"
      ]
     },
     "metadata": {},
     "output_type": "display_data"
    },
    {
     "data": {
      "text/plain": [
       "(46132795, 24)"
      ]
     },
     "execution_count": 8,
     "metadata": {},
     "output_type": "execute_result"
    }
   ],
   "source": [
    "display(inter.head()) \n",
    "inter.shape"
   ]
  },
  {
   "cell_type": "code",
   "execution_count": 9,
   "id": "8452c80d",
   "metadata": {},
   "outputs": [
    {
     "data": {
      "text/html": [
       "<div>\n",
       "<style scoped>\n",
       "    .dataframe tbody tr th:only-of-type {\n",
       "        vertical-align: middle;\n",
       "    }\n",
       "\n",
       "    .dataframe tbody tr th {\n",
       "        vertical-align: top;\n",
       "    }\n",
       "\n",
       "    .dataframe thead th {\n",
       "        text-align: right;\n",
       "    }\n",
       "</style>\n",
       "<table border=\"1\" class=\"dataframe\">\n",
       "  <thead>\n",
       "    <tr style=\"text-align: right;\">\n",
       "      <th></th>\n",
       "      <th>kmer</th>\n",
       "      <th>coord</th>\n",
       "    </tr>\n",
       "  </thead>\n",
       "  <tbody>\n",
       "    <tr>\n",
       "      <th>0</th>\n",
       "      <td>AAAAAADPT</td>\n",
       "      <td>6415704:6415729:6415616:6415618:None:None</td>\n",
       "    </tr>\n",
       "    <tr>\n",
       "      <th>1</th>\n",
       "      <td>AAAAAAFAR</td>\n",
       "      <td>54284699:54284716:54284521:54284531:None:None</td>\n",
       "    </tr>\n",
       "    <tr>\n",
       "      <th>2</th>\n",
       "      <td>AAAAAAFAR</td>\n",
       "      <td>54285554:54285565:54284521:54284537:None:None</td>\n",
       "    </tr>\n",
       "    <tr>\n",
       "      <th>3</th>\n",
       "      <td>AAAAAAHHS</td>\n",
       "      <td>1254289:1254303:1254422:1254435:None:None</td>\n",
       "    </tr>\n",
       "    <tr>\n",
       "      <th>4</th>\n",
       "      <td>AAAAAAPTY</td>\n",
       "      <td>2463179:2463197:2463111:2463120:None:None</td>\n",
       "    </tr>\n",
       "  </tbody>\n",
       "</table>\n",
       "</div>"
      ],
      "text/plain": [
       "        kmer                                          coord\n",
       "0  AAAAAADPT      6415704:6415729:6415616:6415618:None:None\n",
       "1  AAAAAAFAR  54284699:54284716:54284521:54284531:None:None\n",
       "2  AAAAAAFAR  54285554:54285565:54284521:54284537:None:None\n",
       "3  AAAAAAHHS      1254289:1254303:1254422:1254435:None:None\n",
       "4  AAAAAAPTY      2463179:2463197:2463111:2463120:None:None"
      ]
     },
     "metadata": {},
     "output_type": "display_data"
    },
    {
     "data": {
      "text/plain": [
       "(494801, 2)"
      ]
     },
     "execution_count": 9,
     "metadata": {},
     "output_type": "execute_result"
    }
   ],
   "source": [
    "display(long_list.head()) \n",
    "long_list.shape"
   ]
  },
  {
   "cell_type": "code",
   "execution_count": 13,
   "id": "e56cd4ef",
   "metadata": {},
   "outputs": [],
   "source": [
    "batch_interest = inter.merge(long_list, on = ['kmer', 'coord'], how = 'right')"
   ]
  },
  {
   "cell_type": "code",
   "execution_count": 14,
   "id": "bbc78ceb",
   "metadata": {},
   "outputs": [
    {
     "data": {
      "text/plain": [
       "(542211, 24)"
      ]
     },
     "execution_count": 14,
     "metadata": {},
     "output_type": "execute_result"
    }
   ],
   "source": [
    "batch_interest.shape"
   ]
  },
  {
   "cell_type": "code",
   "execution_count": 15,
   "id": "f775ff38",
   "metadata": {},
   "outputs": [
    {
     "name": "stdout",
     "output_type": "stream",
     "text": [
      "6004\n"
     ]
    }
   ],
   "source": [
    "print(len(batch_interest['batch'].unique()))"
   ]
  },
  {
   "cell_type": "code",
   "execution_count": 20,
   "id": "69f0a4c8",
   "metadata": {},
   "outputs": [],
   "source": [
    "with open(os.path.join(basedir, 'batches_filters_19_May.tsv'), 'w') as fp:\n",
    "    for batch in batch_interest['batch'].unique():\n",
    "        fp.write(f'cohort_mutNone/tmp_out_ref_batch_{batch}/ref_sample_peptides_meta.gz\\n')\n"
   ]
  },
  {
   "cell_type": "code",
   "execution_count": null,
   "id": "7d7624e7",
   "metadata": {},
   "outputs": [],
   "source": []
  }
 ],
 "metadata": {
  "kernelspec": {
   "display_name": "Python 3 (ipykernel)",
   "language": "python",
   "name": "python3"
  },
  "language_info": {
   "codemirror_mode": {
    "name": "ipython",
    "version": 3
   },
   "file_extension": ".py",
   "mimetype": "text/x-python",
   "name": "python",
   "nbconvert_exporter": "python",
   "pygments_lexer": "ipython3",
   "version": "3.10.2"
  }
 },
 "nbformat": 4,
 "nbformat_minor": 5
}
