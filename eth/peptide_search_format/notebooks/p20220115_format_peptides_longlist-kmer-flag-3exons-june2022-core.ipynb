{
 "cells": [
  {
   "cell_type": "code",
   "execution_count": 1,
   "metadata": {
    "ExecuteTime": {
     "end_time": "2022-06-12T18:39:14.539561Z",
     "start_time": "2022-06-12T18:39:13.846506Z"
    }
   },
   "outputs": [],
   "source": [
    "import os \n",
    "import pandas as pd\n",
    "from collections import defaultdict\n",
    "import numpy as np \n",
    "import glob"
   ]
  },
  {
   "cell_type": "code",
   "execution_count": 2,
   "metadata": {
    "ExecuteTime": {
     "end_time": "2022-06-12T18:39:14.546738Z",
     "start_time": "2022-06-12T18:39:14.542442Z"
    }
   },
   "outputs": [],
   "source": [
    "samples = ['TCGA-BH-A18V-01A-11R-A12D-07.all', \n",
    "        'TCGA-C8-A12P-01A-11R-A115-07.all', \n",
    "        'TCGA-AO-A0JM-01A-21R-A056-07.all', \n",
    "        'TCGA-A2-A0SX-01A-12R-A084-07.all',\n",
    "        'TCGA-A2-A0D2-01A-21R-A034-07.all']"
   ]
  },
  {
   "cell_type": "code",
   "execution_count": 3,
   "metadata": {
    "ExecuteTime": {
     "end_time": "2022-06-12T18:39:14.558316Z",
     "start_time": "2022-06-12T18:39:14.551458Z"
    }
   },
   "outputs": [
    {
     "name": "stdout",
     "output_type": "stream",
     "text": [
      "TCGA-BH-A18V-01A-11R-A12D-07.all\n"
     ]
    }
   ],
   "source": [
    "sample = samples[0]\n",
    "background = 'commit_d4aee54_GTEXcore'\n",
    "print(sample)"
   ]
  },
  {
   "cell_type": "code",
   "execution_count": 4,
   "metadata": {
    "ExecuteTime": {
     "end_time": "2022-06-12T18:39:14.566276Z",
     "start_time": "2022-06-12T18:39:14.562538Z"
    }
   },
   "outputs": [],
   "source": [
    "basefolder = '/cluster/work/grlab/projects/projects2020_OHSU/peptides_generation/v2_v2.5f0752a_conf2_annotFrame_cap0_runs_pya0.17.1/TCGA_Breast_1102'"
   ]
  },
  {
   "cell_type": "code",
   "execution_count": 5,
   "metadata": {
    "ExecuteTime": {
     "end_time": "2022-06-12T18:39:14.574272Z",
     "start_time": "2022-06-12T18:39:14.569860Z"
    }
   },
   "outputs": [],
   "source": [
    "experiment_folder = os.path.join(basefolder, 'filter_{}/{}'.format(sample, background))"
   ]
  },
  {
   "cell_type": "code",
   "execution_count": 6,
   "metadata": {
    "ExecuteTime": {
     "end_time": "2022-06-12T18:39:14.592851Z",
     "start_time": "2022-06-12T18:39:14.577789Z"
    }
   },
   "outputs": [
    {
     "data": {
      "text/plain": [
       "'/cluster/work/grlab/projects/projects2020_OHSU/peptides_generation/v2_v2.5f0752a_conf2_annotFrame_cap0_runs_pya0.17.1/TCGA_Breast_1102/filter_TCGA-BH-A18V-01A-11R-A12D-07.all/commit_d4aee54_GTEXcore'"
      ]
     },
     "execution_count": 6,
     "metadata": {},
     "output_type": "execute_result"
    }
   ],
   "source": [
    "experiment_folder"
   ]
  },
  {
   "cell_type": "markdown",
   "metadata": {},
   "source": [
    "# Previous steps\n"
   ]
  },
  {
   "cell_type": "markdown",
   "metadata": {},
   "source": [
    "### Step 1: "
   ]
  },
  {
   "cell_type": "markdown",
   "metadata": {},
   "source": [
    "\n",
    "Get a list of kmers passing the filtering.\n",
    "Can also be a kmer \"longlist\" which is a pool of kmers from multiple filter experiments. The peptide to experiment correspondance will then be stored in a table.\n"
   ]
  },
  {
   "cell_type": "markdown",
   "metadata": {},
   "source": [
    "### Step 2"
   ]
  },
  {
   "cell_type": "markdown",
   "metadata": {},
   "source": [
    "Given a list of kmers, grep the corresponding metadata information from the ImmunoPepper metadata file (very big, no kmer information) "
   ]
  },
  {
   "cell_type": "markdown",
   "metadata": {
    "ExecuteTime": {
     "end_time": "2022-02-25T15:16:53.158318Z",
     "start_time": "2022-02-25T15:16:53.155867Z"
    }
   },
   "source": [
    "See /GitHub/projects2020_ohsu/eth/peptide_search_format/p20220115_format_peptides_longlist_pr\n",
    "ior.sh"
   ]
  },
  {
   "cell_type": "markdown",
   "metadata": {},
   "source": [
    "### Step 3. \n",
    "\n"
   ]
  },
  {
   "cell_type": "markdown",
   "metadata": {
    "ExecuteTime": {
     "end_time": "2022-06-10T16:33:59.242716Z",
     "start_time": "2022-06-10T16:33:59.161360Z"
    }
   },
   "source": [
    "This notebook performs the following task: * Given a kmer_metadata file, generate a fasta file with metadata relevant for the tryptic digestion\n"
   ]
  },
  {
   "cell_type": "markdown",
   "metadata": {},
   "source": [
    "# Preprocess the annotation \n",
    "### Input: Annotation"
   ]
  },
  {
   "cell_type": "code",
   "execution_count": 7,
   "metadata": {
    "ExecuteTime": {
     "end_time": "2022-06-12T18:39:14.601790Z",
     "start_time": "2022-06-12T18:39:14.596045Z"
    }
   },
   "outputs": [],
   "source": [
    "ann_path = '/cluster/work/grlab/projects/projects2020_OHSU/annotation/gencode.v32.annotation.gtf'"
   ]
  },
  {
   "cell_type": "code",
   "execution_count": 8,
   "metadata": {
    "ExecuteTime": {
     "end_time": "2022-06-12T18:39:14.930591Z",
     "start_time": "2022-06-12T18:39:14.607271Z"
    }
   },
   "outputs": [],
   "source": [
    "from immunopepper.preprocess import attribute_item_to_dict\n",
    "from immunopepper.preprocess import leq_strand"
   ]
  },
  {
   "cell_type": "code",
   "execution_count": 9,
   "metadata": {
    "ExecuteTime": {
     "end_time": "2022-06-12T18:39:43.454829Z",
     "start_time": "2022-06-12T18:39:14.934091Z"
    }
   },
   "outputs": [],
   "source": [
    "# Partial copy From Immunopepper preprocess.py \n",
    "transcript_to_gene_dict = {}    # transcript -> gene id\n",
    "\n",
    "\n",
    "gene_to_transcript_dict = {}    # gene_id -> list of transcripts\n",
    "gene_cds_begin_dict = {}        # gene -> list of first CDS exons\n",
    "\n",
    "transcript_to_cds_dict = {}     # transcript -> list of CDS exons\n",
    "transcript_cds_begin_dict = {}  # transcript -> first exon of the CDS\n",
    "transcript_to_strand = {}\n",
    "\n",
    "file_type = ann_path.split('.')[-1]\n",
    "chromesome_set = set()\n",
    "# collect information from annotation file\n",
    "for line in open(ann_path, 'r'):\n",
    "    if line[0] == '#':\n",
    "        continue\n",
    "    item = line.strip().split('\\t')\n",
    "    chromesome_set.add(item[0])\n",
    "    feature_type = item[2]\n",
    "    attribute_item = item[-1]\n",
    "    attribute_dict = attribute_item_to_dict(attribute_item, file_type, feature_type)\n",
    "    # store relationship between gene ID and its transcript IDs\n",
    "    if feature_type in ['transcript', 'mRNA']:\n",
    "        gene_id = attribute_dict['gene_id']\n",
    "        transcript_id = attribute_dict['transcript_id']\n",
    "        if attribute_dict['gene_type'] != 'protein_coding' or attribute_dict['transcript_type']  != 'protein_coding':\n",
    "            continue\n",
    "        assert (transcript_id not in transcript_to_gene_dict)\n",
    "        transcript_to_gene_dict[transcript_id] = gene_id\n",
    "        if gene_id in gene_to_transcript_dict and transcript_id not in gene_to_transcript_dict[gene_id]:\n",
    "            gene_to_transcript_dict[gene_id].append(transcript_id)\n",
    "        else:\n",
    "            gene_to_transcript_dict[gene_id] = [transcript_id]\n",
    "        # Todo python is 0-based while gene annotation file(.gtf, .vcf, .maf) is one based\n",
    "    elif feature_type == \"CDS\":\n",
    "        parent_ts = attribute_dict['transcript_id']\n",
    "        strand_mode = item[6]\n",
    "        cds_left = int(item[3])-1\n",
    "        cds_right = int(item[4])\n",
    "        frameshift = int(item[7])\n",
    "        transcript_to_strand[parent_ts] = strand_mode\n",
    "        if parent_ts in transcript_to_cds_dict:\n",
    "            transcript_to_cds_dict[parent_ts].append((cds_left, cds_right, frameshift))\n",
    "        else:\n",
    "            transcript_to_cds_dict[parent_ts] = [(cds_left, cds_right, frameshift)]\n",
    "        if strand_mode == \"+\" :\n",
    "            cds_start, cds_stop = cds_left, cds_right\n",
    "        else:\n",
    "            cds_start, cds_stop = cds_right, cds_left\n",
    "\n",
    "        # we only consider the start of the whole CoDing Segment\n",
    "        if parent_ts not in transcript_cds_begin_dict or \\\n",
    "           leq_strand(cds_start, transcript_cds_begin_dict[parent_ts][0], strand_mode):\n",
    "            transcript_cds_begin_dict[parent_ts] = (cds_start, cds_stop, item)\n",
    "\n",
    "# collect first CDS exons for all transcripts of a gene\n",
    "for ts_key in transcript_to_gene_dict:\n",
    "    target_gene = transcript_to_gene_dict[ts_key]\n",
    "    if target_gene not in gene_cds_begin_dict:\n",
    "        gene_cds_begin_dict[target_gene] = []\n",
    "    if ts_key in transcript_cds_begin_dict:\n",
    "        gene_cds_begin_dict[target_gene].append(transcript_cds_begin_dict[ts_key])\n"
   ]
  },
  {
   "cell_type": "code",
   "execution_count": 10,
   "metadata": {
    "ExecuteTime": {
     "end_time": "2022-06-12T18:39:43.742527Z",
     "start_time": "2022-06-12T18:39:43.456594Z"
    }
   },
   "outputs": [],
   "source": [
    "# Custom collection of CDS \n",
    "transcript_cds_begin_dict_bis = {}\n",
    "transcript_cds_end_dict_bis = {}\n",
    "\n",
    "gene_cds_begin_dict_bis = defaultdict(list)\n",
    "gene_cds_end_dict_bis = defaultdict(list)\n",
    "\n",
    "# will be in reading order \n",
    "for ts_key in transcript_to_cds_dict:\n",
    "    if transcript_to_strand[ts_key] == '+': # '+'\n",
    "        transcript_cds_begin_dict_bis[ts_key] = (transcript_to_cds_dict[ts_key][0][0],\n",
    "                                                 transcript_to_cds_dict[ts_key][0][1], '+')\n",
    "        transcript_cds_end_dict_bis[ts_key] = (transcript_to_cds_dict[ts_key][-1][0],\n",
    "                                                 transcript_to_cds_dict[ts_key][-1][1], '+')\n",
    "        \n",
    "\n",
    "    else: \n",
    "        transcript_cds_begin_dict_bis[ts_key] = (transcript_to_cds_dict[ts_key][0][1],\n",
    "                                                 transcript_to_cds_dict[ts_key][0][0], '-')\n",
    "        transcript_cds_end_dict_bis[ts_key] = (transcript_to_cds_dict[ts_key][-1][1],\n",
    "                                                 transcript_to_cds_dict[ts_key][-1][0], '-')\n",
    "    \n",
    "    assert(transcript_cds_begin_dict_bis[ts_key][0] == transcript_cds_begin_dict[ts_key][0])\n",
    "    assert(transcript_cds_begin_dict_bis[ts_key][1] == transcript_cds_begin_dict[ts_key][1])\n",
    "\n",
    "# collect first, last CDS exons for all transcripts of a gene\n",
    "for ts_key in transcript_to_gene_dict:\n",
    "    target_gene = transcript_to_gene_dict[ts_key]\n",
    "    gene_cds_begin_dict_bis[target_gene].append(transcript_cds_begin_dict_bis[ts_key])\n",
    "    gene_cds_end_dict_bis[target_gene].append(transcript_cds_end_dict_bis[ts_key])"
   ]
  },
  {
   "cell_type": "markdown",
   "metadata": {},
   "source": [
    "# Format the peptide raw file to fasta \n"
   ]
  },
  {
   "cell_type": "code",
   "execution_count": 11,
   "metadata": {
    "ExecuteTime": {
     "end_time": "2022-06-12T18:39:43.747575Z",
     "start_time": "2022-06-12T18:39:43.744298Z"
    }
   },
   "outputs": [],
   "source": [
    "file_meta = os.path.join(experiment_folder,\n",
    "                         '{}_{}_{}'.format(sample, \n",
    "                                      background.replace('commit_', ''),\n",
    "                                     'kmer_peptides_raw_flag.tsv'))"
   ]
  },
  {
   "cell_type": "code",
   "execution_count": 12,
   "metadata": {
    "ExecuteTime": {
     "end_time": "2022-06-12T18:39:43.753684Z",
     "start_time": "2022-06-12T18:39:43.749962Z"
    }
   },
   "outputs": [],
   "source": [
    "file_save = os.path.join(experiment_folder,\n",
    "                         'G_{}_{}'.format(sample.split('.')[0], \n",
    "                                      'query_peptides_kmers_flag_TMP.fa'))"
   ]
  },
  {
   "cell_type": "code",
   "execution_count": 13,
   "metadata": {
    "ExecuteTime": {
     "end_time": "2022-06-12T18:39:43.761282Z",
     "start_time": "2022-06-12T18:39:43.755936Z"
    }
   },
   "outputs": [],
   "source": [
    "file_save_experiement= os.path.join(experiment_folder,\n",
    "                         'G_{}_{}'.format(sample.split('.')[0], \n",
    "                                      'experiments_per_peptide_flag.tsv'))"
   ]
  },
  {
   "cell_type": "code",
   "execution_count": 14,
   "metadata": {
    "ExecuteTime": {
     "end_time": "2022-06-12T18:39:43.767406Z",
     "start_time": "2022-06-12T18:39:43.763718Z"
    }
   },
   "outputs": [],
   "source": [
    "fields_meta_peptide_dict = ['peptide', 'id', 'readFrame', 'geneName', 'geneChr', 'geneStrand',\n",
    "                                'mutationMode',\n",
    "                                'junctionAnnotated', 'hasStopCodon', 'isInJunctionList',\n",
    "                                'isIsolated', 'variantComb', 'variantSegExpr', 'modifiedExonsCoord',\n",
    "                                'originalExonsCoord', 'vertexIdx',\n",
    "                                'kmerType']\n",
    "\n"
   ]
  },
  {
   "cell_type": "code",
   "execution_count": 15,
   "metadata": {
    "ExecuteTime": {
     "end_time": "2022-06-12T18:39:43.776260Z",
     "start_time": "2022-06-12T18:39:43.770026Z"
    }
   },
   "outputs": [],
   "source": [
    "def extract_peptide_fields(pep):\n",
    "    '''0 peptide\n",
    "    1 id\n",
    "    2 readFrame\n",
    "    3 readFrameAnnotated\n",
    "    4 geneName\n",
    "    5 geneChr\n",
    "    6 geneStrand\n",
    "    7 mutationMode\n",
    "    8 junctionAnnotated\n",
    "    9 hasStopCodon\n",
    "    10 isInJunctionList\n",
    "    11 isIsolated\n",
    "    12 variantComb\n",
    "    13 variantSegExpr\n",
    "    14 modifiedExonsCoord\n",
    "    15 originalExonsCoord\n",
    "    16 vertexIdx\n",
    "    17 kmerType '''\n",
    "    \n",
    "    \n",
    "    pep = pep.split(',')\n",
    "    pep_seq = pep[0]\n",
    "    pep_gene = pep[4]\n",
    "    pep_orig_coordS = pep[15].split('/')\n",
    "    pep_modif_coordS = pep[14].split('/')\n",
    "    strand = pep[6]\n",
    "    has_stop_codon = pep[9]\n",
    "    readFrameAnnotated = pep[3]\n",
    "    junctionAnnotated = pep[8]\n",
    "    kmer_type = pep[-1].replace('-','').replace('\\n','')\n",
    "\n",
    "    return pep, pep_seq, pep_gene, pep_orig_coordS, pep_modif_coordS, \\\n",
    "           strand, has_stop_codon, readFrameAnnotated, junctionAnnotated, kmer_type"
   ]
  },
  {
   "cell_type": "code",
   "execution_count": 16,
   "metadata": {
    "ExecuteTime": {
     "end_time": "2022-06-12T18:39:43.784739Z",
     "start_time": "2022-06-12T18:39:43.778209Z"
    }
   },
   "outputs": [],
   "source": [
    "def extract_end_starts(pep_orig_coord):\n",
    "    ''' Get peptide end and start coordinates'''\n",
    "    if strand == '+': # Do - strand \n",
    "        pep_start = np.int(pep_orig_coord[0])\n",
    "        pep_end = np.int(pep_orig_coord[-1])\n",
    "    else: \n",
    "        pep_start = np.int(pep_orig_coord[1])\n",
    "        pep_end = np.int(pep_orig_coord[-2])\n",
    "    return pep_start, pep_end"
   ]
  },
  {
   "cell_type": "code",
   "execution_count": 17,
   "metadata": {
    "ExecuteTime": {
     "end_time": "2022-06-12T18:39:43.791797Z",
     "start_time": "2022-06-12T18:39:43.786612Z"
    }
   },
   "outputs": [],
   "source": [
    "def get_include_flag(start_cds, end_cds, pep_start, pep_end, has_stop_codon ):\n",
    "    '''Use end and start coordinates for 3' 5' include flag'''\n",
    "    if pep_start in start_cds: # We will always miss things that are new in the graph \n",
    "        pep_5include = 1\n",
    "    else: \n",
    "        pep_5include = 0 \n",
    "    if (pep_end in end_cds) or (has_stop_codon) == '1':\n",
    "        pep_3include = 1\n",
    "    else: \n",
    "        pep_3include = 0 \n",
    "    return pep_5include, pep_3include"
   ]
  },
  {
   "cell_type": "code",
   "execution_count": 18,
   "metadata": {
    "ExecuteTime": {
     "end_time": "2022-06-12T18:39:43.799291Z",
     "start_time": "2022-06-12T18:39:43.794100Z"
    }
   },
   "outputs": [],
   "source": [
    "def get_nt_len_with_aa_shift(pep_modi_coord):\n",
    "    '''Get nt length of each exon involved -> jx_list, shift_list'''\n",
    "    tot_len = 0 \n",
    "    shift = 0 \n",
    "    jx_list = []\n",
    "    jx_list_ori = []\n",
    "    shift_list = []\n",
    "    for pair in np.arange(0, len(pep_modi_coord), 2):\n",
    "        cds = int(pep_modi_coord[pair + 1]) - int(pep_modi_coord[pair])  # 0 based, open right \n",
    "        jx_list_ori.append(cds)\n",
    "        cds += shift \n",
    "        shift = cds % 3\n",
    "        jx_list.append(cds - shift)\n",
    "        shift_list.append(shift)\n",
    "        \n",
    "    return jx_list, shift_list, jx_list_ori"
   ]
  },
  {
   "cell_type": "code",
   "execution_count": 19,
   "metadata": {
    "ExecuteTime": {
     "end_time": "2022-06-12T18:39:43.806889Z",
     "start_time": "2022-06-12T18:39:43.801979Z"
    }
   },
   "outputs": [],
   "source": [
    "def get_aaPos_betweenFlag(shift_list, jx_list):\n",
    "    '''Get aa position of the junction\n",
    "    the junction coordinate jx_pos is the 0-based position in the peptide \n",
    "    of the amino acid that either overlaps the junction (if the junction is \n",
    "    in the middle of a codon), or is immediately before it if the junction \n",
    "    occurs between codons'''\n",
    "    if shift_list[0]: # junction is inside an amino acid\n",
    "        aa_junction_pos0 = int((jx_list[0] / 3)) # because 0 based\n",
    "        between_codons0 = 0 \n",
    "    else: # junction is between amino acids \n",
    "        aa_junction_pos0 = int((jx_list[0] / 3) - 1)  # because 0 based\n",
    "        between_codons0 = 1\n",
    "        \n",
    "    if len(shift_list) > 2: #third exon \n",
    "        if shift_list[1]: # junction is inside an amino acid\n",
    "            aa_junction_pos1 = int((jx_list[1] / 3)) # because 0 based\n",
    "            between_codons1 = 0 \n",
    "        else: # junction is between amino acids \n",
    "            aa_junction_pos1 = int((jx_list[1] / 3) - 1)  # because 0 based\n",
    "            between_codons1 = 1 \n",
    "        aa_junction_pos1_from_start = aa_junction_pos1 + aa_junction_pos0 + 1 \n",
    "    else:\n",
    "        aa_junction_pos1 = None\n",
    "        between_codons1 = None\n",
    "        aa_junction_pos1_from_start = None\n",
    "    \n",
    "    return aa_junction_pos0, between_codons0, aa_junction_pos1, between_codons1, \\\n",
    "           aa_junction_pos1_from_start"
   ]
  },
  {
   "cell_type": "code",
   "execution_count": 20,
   "metadata": {
    "ExecuteTime": {
     "end_time": "2022-06-12T18:39:43.814396Z",
     "start_time": "2022-06-12T18:39:43.809655Z"
    }
   },
   "outputs": [],
   "source": [
    "def get_genomic_coordinates(pep_modi_coord):\n",
    "    '''We have in + case: exon1_start, exon 1_stop, exon2_start, exon2_stop, exon3_start, exon3_stop\n",
    "     In the - case: exon1_stop, exon 1_start, exon 2_stop, exon2_start, exon3_stop, exon3_start'''\n",
    "    genome_junction_pos1 = None\n",
    "    if strand == '+':\n",
    "        genome_junction_pos0 = '{}_{}'.format(pep_modi_coord[1], pep_modi_coord[2])\n",
    "        if len(pep_modi_coord) > 4:\n",
    "            genome_junction_pos1 = '{}_{}'.format(pep_modi_coord[3], pep_modi_coord[4])\n",
    "    else:\n",
    "        genome_junction_pos0 = '{}_{}'.format(pep_modi_coord[0], pep_modi_coord[3])\n",
    "        if len(pep_modi_coord) > 4:\n",
    "            genome_junction_pos1 = '{}_{}'.format(pep_modi_coord[2], pep_modi_coord[5])\n",
    "    return genome_junction_pos0, genome_junction_pos1"
   ]
  },
  {
   "cell_type": "code",
   "execution_count": 21,
   "metadata": {
    "ExecuteTime": {
     "end_time": "2022-06-12T18:39:43.820943Z",
     "start_time": "2022-06-12T18:39:43.817182Z"
    }
   },
   "outputs": [],
   "source": [
    "def split_coord(pep_coord):\n",
    "    pep_coord = pep_coord.split(';')\n",
    "    pep_coord = [coord for coord in pep_coord if (coord != 'None') and (coord != 'nan')]\n",
    "    return pep_coord"
   ]
  },
  {
   "cell_type": "code",
   "execution_count": 22,
   "metadata": {
    "ExecuteTime": {
     "end_time": "2022-06-12T18:39:43.828267Z",
     "start_time": "2022-06-12T18:39:43.823691Z"
    }
   },
   "outputs": [],
   "source": [
    "def preprocess_line(line):\n",
    "    line = line.replace('3-exons_9-mer ', '3-exons_9-mer@').replace('2-exons ', '2-exons@')\n",
    "    kmer = line.split(',')[0]\n",
    "    peptides = ','.join(line.split(',')[1:])\n",
    "    peptides = peptides.split('@')\n",
    "    return line, kmer, peptides"
   ]
  },
  {
   "cell_type": "code",
   "execution_count": 23,
   "metadata": {
    "ExecuteTime": {
     "end_time": "2022-06-12T18:39:43.836152Z",
     "start_time": "2022-06-12T18:39:43.833325Z"
    }
   },
   "outputs": [],
   "source": [
    "def write_peptide_to_experiment(filepointer, pep_idx=None, pep_seq=None,\\\n",
    "                                idx=None, header=False):\n",
    "    if header:\n",
    "        header_exp = 'peptide_id\\tpeptide_sequence\\texperiment_ids\\n'\n",
    "        filepointer.write(header_exp)\n",
    "    elif pep_idx is not None:\n",
    "        exp_line = '{}\\t{}\\t{}\\n'.format(pep_idx, \n",
    "                                         pep_seq,\n",
    "                                         idx)\n",
    "        filepointer.write(exp_line)\n"
   ]
  },
  {
   "cell_type": "code",
   "execution_count": 24,
   "metadata": {
    "ExecuteTime": {
     "end_time": "2022-06-12T18:39:43.845115Z",
     "start_time": "2022-06-12T18:39:43.839340Z"
    }
   },
   "outputs": [],
   "source": [
    "def write_fasta(filepointer, pep_idx, aa_junction_pos, \n",
    "                aa_junction_pos1_from_start, between_codons, between_codons1,\n",
    "                pep_5include, pep_3include, pep_gene, \n",
    "                genome_junction_pos, genome_junction_pos1, \n",
    "                kmer, jx_pep1, jx_pep2, readFrameAnnotated, \\\n",
    "                junctionAnnotated, kmer_type, do_write=True):\n",
    "        \n",
    "    \n",
    "    pep_handle1 = '>pepID-{};jx_pos-{};between_codons-{};includes_5\\'-{};includes_3\\'-{};gene-{};jx_coord-{};kmer-{};readFrameAnnotated-{};junctionAnnotated-{};origin-{}'.format(\n",
    "    pep_idx, aa_junction_pos, between_codons, pep_5include, \n",
    "    pep_3include, pep_gene, genome_junction_pos, kmer, readFrameAnnotated, \n",
    "    junctionAnnotated, kmer_type)\n",
    "\n",
    "    pep_handle2 = '>pepID-{};jx_pos-{};between_codons-{};includes_5\\'-{};includes_3\\'-{};gene-{};jx_coord-{};kmer-{};readFrameAnnotated-{};junctionAnnotated-{};origin-{}'.format(\n",
    "    pep_idx, aa_junction_pos1_from_start, between_codons1, pep_5include, \n",
    "    pep_3include, pep_gene, genome_junction_pos1, kmer, readFrameAnnotated, \n",
    "    junctionAnnotated, kmer_type)\n",
    "\n",
    "    if kmer in jx_pep1:\n",
    "        pep_idx+=1\n",
    "        sp.write(pep_handle1 + '\\n')\n",
    "        sp.write(pep_seq + '\\n')\n",
    "    elif kmer in jx_pep2:\n",
    "        pep_idx+=1\n",
    "        sp.write(pep_handle2 + '\\n')\n",
    "        sp.write(pep_seq + '\\n')\n",
    "    else:\n",
    "        pep_idx+=1\n",
    "        sp.write(pep_handle1 + '\\n')\n",
    "        sp.write(pep_seq + '\\n')\n",
    "        pep_idx+=1\n",
    "        sp.write(pep_handle2 + '\\n')\n",
    "        sp.write(pep_seq + '\\n')\n",
    "    return pep_idx"
   ]
  },
  {
   "cell_type": "code",
   "execution_count": 25,
   "metadata": {
    "ExecuteTime": {
     "end_time": "2022-06-12T18:39:43.856202Z",
     "start_time": "2022-06-12T18:39:43.847806Z"
    }
   },
   "outputs": [],
   "source": [
    "def cut_peptides(jx_list, between_codons, between_codons1, aa_junction_pos, \n",
    "                 aa_junction_pos1, aa_junction_pos1_from_start, \n",
    "                 print_ = False):\n",
    "    peptide_cut = []\n",
    "    aa_junction_pos_shift = aa_junction_pos + 1 \n",
    "    exon1, aa_jx1, exon2, aa_jx2, exon3 = '', '', '', '', ''\n",
    "\n",
    "    if len(jx_list) == 2:\n",
    "        if between_codons:\n",
    "            exon1 = pep_seq[:aa_junction_pos_shift]\n",
    "            exon2 = pep_seq[aa_junction_pos_shift:]\n",
    "        else:\n",
    "            exon1 = pep_seq[:aa_junction_pos]\n",
    "            aa_jx1 = pep_seq[aa_junction_pos:aa_junction_pos_shift]\n",
    "            exon2 = pep_seq[aa_junction_pos_shift:]\n",
    "    elif len(jx_list) == 3:\n",
    "        aa_junction2_pos_shift =  aa_junction_pos1 + aa_junction_pos + 1\n",
    "        aa_junction2_pos_sshift = aa_junction_pos1 + aa_junction_pos + 2\n",
    "        assert(aa_junction_pos1_from_start == aa_junction2_pos_shift)\n",
    "        if between_codons and between_codons1: \n",
    "            exon1 = pep_seq[:aa_junction_pos_shift]\n",
    "            exon2 = pep_seq[aa_junction_pos_shift:\n",
    "                          aa_junction2_pos_sshift]\n",
    "            exon3 = pep_seq[aa_junction2_pos_sshift:]\n",
    "        if (not between_codons) and between_codons1: \n",
    "            exon1 = pep_seq[:aa_junction_pos ]\n",
    "            aa_jx1 = pep_seq[aa_junction_pos:aa_junction_pos_shift]\n",
    "            exon2 = pep_seq[aa_junction_pos_shift:\n",
    "                          aa_junction2_pos_sshift]\n",
    "            exon3 = pep_seq[aa_junction2_pos_sshift:]\n",
    "        if (between_codons) and (not between_codons1): \n",
    "            exon1 = pep_seq[:aa_junction_pos_shift]\n",
    "            exon2 = pep_seq[aa_junction_pos_shift :\n",
    "                          aa_junction2_pos_shift]\n",
    "            aa_jx2 = pep_seq[aa_junction2_pos_shift:\n",
    "                         aa_junction2_pos_sshift]\n",
    "            exon3 = pep_seq[aa_junction2_pos_sshift:]\n",
    "        if (not between_codons) and (not between_codons1): \n",
    "            exon1 = pep_seq[:aa_junction_pos ]\n",
    "            aa_jx1 = pep_seq[aa_junction_pos:aa_junction_pos_shift]\n",
    "            exon2 = pep_seq[aa_junction_pos_shift :\n",
    "                          aa_junction2_pos_shift]\n",
    "            aa_jx2 = pep_seq[aa_junction2_pos_shift:\n",
    "                         aa_junction2_pos_sshift]\n",
    "            exon3 = pep_seq[aa_junction2_pos_sshift:]\n",
    "    if print_:\n",
    "        print(f'exon1:{exon1}, aa_containing_jx1:{aa_jx1}, exon2:{exon2}, aa_containing_jx2:{aa_jx2}, exon3:{exon3}')\n",
    "        print(f'junction positions jx1: {aa_junction_pos}, jx2:{aa_junction_pos1_from_start}')\n",
    "        print(f'is junction between a codon jx1: {between_codons}, jx2: {between_codons1}')\n",
    "        print('\\n')\n",
    "    return exon1 + aa_jx1 + exon2, exon2 + aa_jx2 + exon3 "
   ]
  },
  {
   "cell_type": "code",
   "execution_count": 26,
   "metadata": {
    "ExecuteTime": {
     "end_time": "2022-06-12T18:39:43.863313Z",
     "start_time": "2022-06-12T18:39:43.858917Z"
    }
   },
   "outputs": [],
   "source": [
    "def print_stats(print_, kmer, pep_seq, strand, pep_orig_coord, pep_modi_coord, jx_list,\n",
    "               jx_list_ori, genome_junction_pos, genome_junction_pos1,\n",
    "               aa_junction_pos, aa_junction_pos1, between_codons, between_codons1):\n",
    "    \n",
    "    if print_:\n",
    "        p_ori_coord = ';'.join(pep_orig_coord)\n",
    "        p_modif_coord = ';'.join(pep_modi_coord)\n",
    "        print(f'INSTANCE: \\n kmer {kmer}/ sequence {pep_seq}/ strand {strand} / \\n original coordinates {p_ori_coord} / \\n modif coordinates {p_modif_coord} /  \\n junction list origin {jx_list_ori}/ junction list {jx_list} / \\n junction coordinates 1 {genome_junction_pos} / junction coordinates 2 {genome_junction_pos1}')\n",
    "        #print(aa_junction_pos, between_codons, aa_junction_pos1, between_codons1)\n",
    "        print('peptide length', len(pep_seq))\n"
   ]
  },
  {
   "cell_type": "code",
   "execution_count": 27,
   "metadata": {
    "ExecuteTime": {
     "end_time": "2022-06-12T18:39:43.868900Z",
     "start_time": "2022-06-12T18:39:43.866196Z"
    }
   },
   "outputs": [],
   "source": [
    "# Note: corrected the inversion of coordinates, extracted the right matching coordinate position for 3 exon peptide, remove has_stop_codon == 0 break "
   ]
  },
  {
   "cell_type": "code",
   "execution_count": 28,
   "metadata": {
    "ExecuteTime": {
     "end_time": "2022-06-12T18:39:45.530388Z",
     "start_time": "2022-06-12T18:39:43.871816Z"
    },
    "scrolled": false
   },
   "outputs": [
    {
     "name": "stdout",
     "output_type": "stream",
     "text": [
      "open /cluster/work/grlab/projects/projects2020_OHSU/peptides_generation/v2_v2.5f0752a_conf2_annotFrame_cap0_runs_pya0.17.1/TCGA_Breast_1102/filter_TCGA-BH-A18V-01A-11R-A12D-07.all/commit_d4aee54_GTEXcore/TCGA-BH-A18V-01A-11R-A12D-07.all_d4aee54_GTEXcore_kmer_peptides_raw_flag.tsv\n",
      "written to:\n",
      "None\n",
      "/cluster/work/grlab/projects/projects2020_OHSU/peptides_generation/v2_v2.5f0752a_conf2_annotFrame_cap0_runs_pya0.17.1/TCGA_Breast_1102/filter_TCGA-BH-A18V-01A-11R-A12D-07.all/commit_d4aee54_GTEXcore/G_TCGA-BH-A18V-01A-11R-A12D-07_query_peptides_kmers_flag_TMP.fa\n"
     ]
    }
   ],
   "source": [
    "\n",
    "## Format and create flags \n",
    "pep_idx = 0 \n",
    "kmer_len = 9 \n",
    "file_save_experiement = None \n",
    "\n",
    "print_ = False\n",
    "test_query = 'VGEHRQRRA'\n",
    "subset_run_test = False\n",
    "write_= True\n",
    "\n",
    "if file_save_experiement is not None: \n",
    "    ep = open(file_save_experiement, 'w') # Experiment file to save\n",
    "    write_peptide_to_experiment(ep, header=True)\n",
    "with open(file_save, 'w') as sp: # Fasta file to save\n",
    "    with open(file_meta, 'r') as fp: # metadata from immunopepper collected previously\n",
    "        print(\"open {}\".format(file_meta))\n",
    "        lines = fp.readlines()\n",
    "        ### Iterate over kmers \n",
    "        for line in lines:\n",
    "            if 'modifiedExonsCoord' in line: # Skip header\n",
    "                continue\n",
    "\n",
    "            # --- TEST ---\n",
    "            if subset_run_test and (test_query in line):\n",
    "                print(f'\\n METADATA (ImmunoPepper derived): \\n {line}')\n",
    "            # --- END TEST ---\n",
    "\n",
    "            line, kmer, peptides = preprocess_line(line)\n",
    "\n",
    "            #Iterate over kmer-associated peptides\n",
    "            for pep in peptides:\n",
    "                pep, pep_seq, pep_gene, pep_orig_coordS, pep_modif_coordS, \\\n",
    "                strand, has_stop_codon, readFrameAnnotated, \\\n",
    "                junctionAnnotated, kmer_type = extract_peptide_fields(pep)\n",
    "\n",
    "\n",
    "                # Iterate over original genomic coordinates : get include 3' or 5' flag\n",
    "                for pep_orig_coord in pep_orig_coordS:\n",
    "                    pep_orig_coord = split_coord(pep_orig_coord)\n",
    "                    start_cds = [ first_exon[0] for first_exon in \n",
    "                                 gene_cds_begin_dict_bis[pep_gene] ] \n",
    "                    end_cds = [ last_exon[1] for last_exon in \n",
    "                               gene_cds_end_dict_bis[pep_gene] ] \n",
    "                    pep_start, pep_end = extract_end_starts(pep_orig_coord)\n",
    "                    pep_5include, pep_3include = get_include_flag(start_cds, end_cds, \n",
    "                                                                  pep_start, pep_end, \n",
    "                                                                  has_stop_codon )\n",
    "\n",
    "                # Iterate over modified genomic coordinates: get \n",
    "                # \"junction position\" flag and \"between codon\" flag\n",
    "                #\"and genomic coordinates\"\n",
    "                for pep_modi_coord in pep_modif_coordS:\n",
    "                    pep_modi_coord = split_coord(pep_modi_coord)\n",
    "                    if len(pep_modi_coord) <=2:\n",
    "                        continue\n",
    "                    jx_list, shift_list, \\\n",
    "                    jx_list_ori = get_nt_len_with_aa_shift(pep_modi_coord)\n",
    "\n",
    "                    aa_junction_pos, between_codons, \\\n",
    "                    aa_junction_pos1, between_codons1, \\\n",
    "                    aa_junction_pos1_from_start = get_aaPos_betweenFlag(shift_list,\n",
    "                                                                              jx_list)\n",
    "\n",
    "                    genome_junction_pos, \\\n",
    "                    genome_junction_pos1 = get_genomic_coordinates(pep_modi_coord)\n",
    "\n",
    "                    # --- TEST ---\n",
    "                    if subset_run_test and (test_query not in pep_seq): \n",
    "                        continue\n",
    "                    # --- END TEST ---\n",
    "\n",
    "                    print_stats(print_, kmer, pep_seq, strand, pep_orig_coord, \n",
    "                                pep_modi_coord, jx_list, jx_list_ori, genome_junction_pos,\n",
    "                                genome_junction_pos1, aa_junction_pos, aa_junction_pos1, \n",
    "                                between_codons, between_codons1)\n",
    "\n",
    "                    jx_pep1, jx_pep2 = cut_peptides(jx_list, between_codons,\n",
    "                                                    between_codons1, aa_junction_pos, \n",
    "                                                    aa_junction_pos1, \n",
    "                                                    aa_junction_pos1_from_start, \n",
    "                                                    print_=print_)\n",
    "\n",
    "                    # write fasta file \n",
    "                    pep_idx = write_fasta(sp, pep_idx, aa_junction_pos,\n",
    "                                aa_junction_pos1_from_start, between_codons, \n",
    "                                between_codons1, pep_5include, pep_3include, pep_gene, \n",
    "                                genome_junction_pos, genome_junction_pos1, \n",
    "                                kmer, jx_pep1, jx_pep2, \n",
    "                                readFrameAnnotated, \\\n",
    "                                junctionAnnotated, \\\n",
    "                                kmer_type, \\\n",
    "                                do_write=write_)\n",
    "                    if file_save_experiement is not None: \n",
    "                        # write experiment file \n",
    "                        write_peptide_to_experiment(ep, pep_idx, pep_seq,';'.join(\n",
    "                            kmer_file_idx[kmer])) \n",
    "\n",
    "\n",
    "if write_:\n",
    "    print('written to:')\n",
    "    print(file_save_experiement)\n",
    "    print(file_save)\n",
    "    if file_save_experiement is not None: \n",
    "        ep.close()\n"
   ]
  },
  {
   "cell_type": "code",
   "execution_count": null,
   "metadata": {},
   "outputs": [],
   "source": []
  },
  {
   "cell_type": "code",
   "execution_count": null,
   "metadata": {},
   "outputs": [],
   "source": []
  },
  {
   "cell_type": "code",
   "execution_count": null,
   "metadata": {},
   "outputs": [],
   "source": []
  }
 ],
 "metadata": {
  "kernelspec": {
   "display_name": "myimmuno3_light",
   "language": "python",
   "name": "myimmuno3_light"
  },
  "language_info": {
   "codemirror_mode": {
    "name": "ipython",
    "version": 3
   },
   "file_extension": ".py",
   "mimetype": "text/x-python",
   "name": "python",
   "nbconvert_exporter": "python",
   "pygments_lexer": "ipython3",
   "version": "3.8.5"
  }
 },
 "nbformat": 4,
 "nbformat_minor": 4
}
