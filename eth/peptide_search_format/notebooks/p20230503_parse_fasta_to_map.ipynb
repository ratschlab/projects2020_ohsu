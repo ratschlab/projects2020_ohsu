{
 "cells": [
  {
   "cell_type": "code",
   "execution_count": 1,
   "id": "13cb6879",
   "metadata": {},
   "outputs": [],
   "source": [
    "import tarfile\n",
    "import pandas as pd\n",
    "import glob\n",
    "import os\n",
    "import numpy as np\n",
    "from collections import defaultdict\n",
    "import gzip\n",
    "from helpers_map import *"
   ]
  },
  {
   "cell_type": "markdown",
   "id": "e6f789ab",
   "metadata": {},
   "source": [
    "# MAIN"
   ]
  },
  {
   "cell_type": "code",
   "execution_count": 2,
   "id": "c0f083dc",
   "metadata": {},
   "outputs": [],
   "source": [
    "### Inputs ###\n",
    "\n",
    "basepath = '/cluster/work/grlab/projects/projects2020_OHSU/peptides_generation/CANCER_eth/commit_c4dd02c_conf2_Frame_cap0_runs/TCGA_Ovarian_374' #TCGA_Breast_1102'\n",
    "filtering_run = 'filtering_samples/filters_19May_order_5ge_wAnnot_GPstar'\n",
    "fasta_paths = glob.glob(os.path.join(basepath, filtering_run, '*fa*'))\n",
    "path_filtered = glob.glob(os.path.join(basepath, filtering_run, '*Filt*'))"
   ]
  },
  {
   "cell_type": "code",
   "execution_count": null,
   "id": "1e464971",
   "metadata": {},
   "outputs": [
    {
     "name": "stdout",
     "output_type": "stream",
     "text": [
      "65\n",
      "Load /cluster/work/grlab/projects/projects2020_OHSU/peptides_generation/CANCER_eth/commit_c4dd02c_conf2_Frame_cap0_runs/TCGA_Ovarian_374/filtering_samples/filters_19May_order_5ge_wAnnot_GPstar/G_TCGA-61-2008-01A-02R-1568-13_pool_kmer.fa.gz fasta\n"
     ]
    },
    {
     "data": {
      "text/html": [
       "<div>\n",
       "<style scoped>\n",
       "    .dataframe tbody tr th:only-of-type {\n",
       "        vertical-align: middle;\n",
       "    }\n",
       "\n",
       "    .dataframe tbody tr th {\n",
       "        vertical-align: top;\n",
       "    }\n",
       "\n",
       "    .dataframe thead th {\n",
       "        text-align: right;\n",
       "    }\n",
       "</style>\n",
       "<table border=\"1\" class=\"dataframe\">\n",
       "  <thead>\n",
       "    <tr style=\"text-align: right;\">\n",
       "      <th></th>\n",
       "      <th>peptide_id</th>\n",
       "      <th>kmers</th>\n",
       "    </tr>\n",
       "  </thead>\n",
       "  <tbody>\n",
       "    <tr>\n",
       "      <th>0</th>\n",
       "      <td>1</td>\n",
       "      <td>PAPAPAAPP</td>\n",
       "    </tr>\n",
       "    <tr>\n",
       "      <th>1</th>\n",
       "      <td>1</td>\n",
       "      <td>DPAPAPAAP</td>\n",
       "    </tr>\n",
       "    <tr>\n",
       "      <th>2</th>\n",
       "      <td>1</td>\n",
       "      <td>ADPAPAPAA</td>\n",
       "    </tr>\n",
       "    <tr>\n",
       "      <th>3</th>\n",
       "      <td>1</td>\n",
       "      <td>AADPAPAPA</td>\n",
       "    </tr>\n",
       "    <tr>\n",
       "      <th>4</th>\n",
       "      <td>1</td>\n",
       "      <td>AAADPAPAP</td>\n",
       "    </tr>\n",
       "  </tbody>\n",
       "</table>\n",
       "</div>"
      ],
      "text/plain": [
       "  peptide_id      kmers\n",
       "0          1  PAPAPAAPP\n",
       "1          1  DPAPAPAAP\n",
       "2          1  ADPAPAPAA\n",
       "3          1  AADPAPAPA\n",
       "4          1  AAADPAPAP"
      ]
     },
     "metadata": {},
     "output_type": "display_data"
    },
    {
     "name": "stdout",
     "output_type": "stream",
     "text": [
      "(731592, 2)\n"
     ]
    }
   ],
   "source": [
    "### Main ###\n",
    "for fasta in fasta_paths:\n",
    "    sample = os.path.basename(fasta).split('_')[1]\n",
    "    path_filtered_sample = [path for path in path_filtered if sample in path]\n",
    "    print(len(path_filtered_sample))\n",
    "\n",
    "    # Fasta\n",
    "    peptides_IDS, peptides_sequences, peptides_IDS_expand, cuts_peptides = preprocess_fasta(fasta)\n",
    "    fa = pd.DataFrame({'peptide_id': peptides_IDS_expand, \\\n",
    "    'kmers': cuts_peptides}) \n",
    "    fa = fa.drop_duplicates()\n",
    "    display(fa.head())\n",
    "    print(fa.shape)\n",
    "    \n",
    "\n",
    "    # Experiments\n",
    "    kmer_to_filesID_ = experiments_preprocess(path_filtered_sample)\n",
    "    exp = pd.DataFrame(kmer_to_filesID_, columns = ['kmers', 'experiment_ids'])\n",
    "    display(exp.head())\n",
    "    print(exp.shape)\n",
    "\n",
    "    # Result: Merge fasta on experiments\n",
    "    res = exp.merge(fa, on = 'kmers', how = 'inner')\n",
    "    display(res.head())\n",
    "    print(res.shape)\n",
    "    res = res.drop('kmers', axis = 1).drop_duplicates()\n",
    "    print(res.shape)\n",
    "    # Result: Collapse to get unique peptide IDs\n",
    "    collapse_res = defaultdict(set)\n",
    "    for pep_id, exp_id in zip(res['peptide_id'], res['experiment_ids']):\n",
    "        collapse_res[pep_id].update(exp_id.split(';'))\n",
    "    collapse_res_df = []\n",
    "    for k, v in collapse_res.items():  # Collapse \n",
    "        collapse_res_df.append((k,';'.join(v)))\n",
    "    collapse_res_df = pd.DataFrame(collapse_res_df, columns = ['peptide_id', 'experiment_ids'])\n",
    "    display(collapse_res_df.head())\n",
    "    print(collapse_res_df.shape)\n",
    "    \n",
    "    # Result: add peptide sequences\n",
    "    peptide_sequences_ = pd.DataFrame({'peptide_id': peptides_IDS, 'peptide_sequence':peptides_sequences})\n",
    "    collapse_res_df = collapse_res_df.merge(peptide_sequences_, on = 'peptide_id', how = 'inner')\n",
    "    display(collapse_res_df.head())\n",
    "    print(collapse_res_df.shape)\n",
    "    \n",
    "    print('Number of peptide IDS')\n",
    "    print(len(fa['peptide_id'].unique()))\n",
    "    print(len(res['peptide_id'].unique()))\n",
    "    print(len(collapse_res_df['peptide_id'].unique()))\n",
    "    \n",
    "    save_name = os.path.join(basepath, filtering_run, f'G_{sample}_experiments_per_peptide.tsv.gz')\n",
    "    collapse_res_df.to_csv(save_name, index = None, compression = 'gzip', sep = '\\t')\n",
    "    print(f'Save to {save_name}')\n",
    "    print('----- \\n')\n",
    "    \n",
    "\n",
    "#     display(res.loc[res['peptide_id'] == '1'])"
   ]
  },
  {
   "cell_type": "markdown",
   "id": "e9cee6bd",
   "metadata": {},
   "source": [
    "# Debug"
   ]
  },
  {
   "cell_type": "code",
   "execution_count": 75,
   "id": "07338776",
   "metadata": {},
   "outputs": [],
   "source": [
    "test =  exp.merge(fa, on = 'kmers', how = 'right')"
   ]
  },
  {
   "cell_type": "code",
   "execution_count": 74,
   "id": "222202c2",
   "metadata": {
    "scrolled": true
   },
   "outputs": [
    {
     "data": {
      "text/html": [
       "<div>\n",
       "<style scoped>\n",
       "    .dataframe tbody tr th:only-of-type {\n",
       "        vertical-align: middle;\n",
       "    }\n",
       "\n",
       "    .dataframe tbody tr th {\n",
       "        vertical-align: top;\n",
       "    }\n",
       "\n",
       "    .dataframe thead th {\n",
       "        text-align: right;\n",
       "    }\n",
       "</style>\n",
       "<table border=\"1\" class=\"dataframe\">\n",
       "  <thead>\n",
       "    <tr style=\"text-align: right;\">\n",
       "      <th></th>\n",
       "      <th>kmers</th>\n",
       "      <th>experiment_ids</th>\n",
       "      <th>peptide_id</th>\n",
       "    </tr>\n",
       "  </thead>\n",
       "  <tbody>\n",
       "    <tr>\n",
       "      <th>729</th>\n",
       "      <td>ISFGVACFH</td>\n",
       "      <td>0213AGA;0A13AGA;0AN3AGA</td>\n",
       "      <td>NaN</td>\n",
       "    </tr>\n",
       "  </tbody>\n",
       "</table>\n",
       "</div>"
      ],
      "text/plain": [
       "         kmers           experiment_ids peptide_id\n",
       "729  ISFGVACFH  0213AGA;0A13AGA;0AN3AGA        NaN"
      ]
     },
     "execution_count": 74,
     "metadata": {},
     "output_type": "execute_result"
    }
   ],
   "source": [
    "test.loc[test['peptide_id'].isna()]"
   ]
  },
  {
   "cell_type": "code",
   "execution_count": 79,
   "id": "701eccea",
   "metadata": {},
   "outputs": [],
   "source": [
    "foo = test.groupby('peptide_id').sum()"
   ]
  },
  {
   "cell_type": "code",
   "execution_count": 105,
   "id": "3c98289a",
   "metadata": {},
   "outputs": [
    {
     "data": {
      "text/html": [
       "<div>\n",
       "<style scoped>\n",
       "    .dataframe tbody tr th:only-of-type {\n",
       "        vertical-align: middle;\n",
       "    }\n",
       "\n",
       "    .dataframe tbody tr th {\n",
       "        vertical-align: top;\n",
       "    }\n",
       "\n",
       "    .dataframe thead th {\n",
       "        text-align: right;\n",
       "    }\n",
       "</style>\n",
       "<table border=\"1\" class=\"dataframe\">\n",
       "  <thead>\n",
       "    <tr style=\"text-align: right;\">\n",
       "      <th></th>\n",
       "      <th>kmers</th>\n",
       "      <th>experiment_ids</th>\n",
       "    </tr>\n",
       "    <tr>\n",
       "      <th>peptide_id</th>\n",
       "      <th></th>\n",
       "      <th></th>\n",
       "    </tr>\n",
       "  </thead>\n",
       "  <tbody>\n",
       "    <tr>\n",
       "      <th>248</th>\n",
       "      <td>ANTSTQTMGVANTSTQTMRVANTSTQTQRVANTSTQTQRVANTSTS...</td>\n",
       "      <td>0</td>\n",
       "    </tr>\n",
       "    <tr>\n",
       "      <th>249</th>\n",
       "      <td>ANTSTQTMGVANTSTQTMRVANTSTQTQRVANTSTQTQRVANTSTS...</td>\n",
       "      <td>0</td>\n",
       "    </tr>\n",
       "    <tr>\n",
       "      <th>251</th>\n",
       "      <td>ANTSTQTMGVANTSTQTMRVANTSTQTQRVANTSTQTQRVANTSTS...</td>\n",
       "      <td>0</td>\n",
       "    </tr>\n",
       "    <tr>\n",
       "      <th>252</th>\n",
       "      <td>PNTSTQTMGHPNTSTQTMPHPNTSTQTRPHPNTSTQARPHPNTSTG...</td>\n",
       "      <td>0</td>\n",
       "    </tr>\n",
       "    <tr>\n",
       "      <th>253</th>\n",
       "      <td>ANTSTQTMGVANTSTQTMRVANTSTQTQRVANTSTQTQRVANTSTS...</td>\n",
       "      <td>0</td>\n",
       "    </tr>\n",
       "  </tbody>\n",
       "</table>\n",
       "</div>"
      ],
      "text/plain": [
       "                                                        kmers experiment_ids\n",
       "peptide_id                                                                  \n",
       "248         ANTSTQTMGVANTSTQTMRVANTSTQTQRVANTSTQTQRVANTSTS...              0\n",
       "249         ANTSTQTMGVANTSTQTMRVANTSTQTQRVANTSTQTQRVANTSTS...              0\n",
       "251         ANTSTQTMGVANTSTQTMRVANTSTQTQRVANTSTQTQRVANTSTS...              0\n",
       "252         PNTSTQTMGHPNTSTQTMPHPNTSTQTRPHPNTSTQARPHPNTSTG...              0\n",
       "253         ANTSTQTMGVANTSTQTMRVANTSTQTQRVANTSTQTQRVANTSTS...              0"
      ]
     },
     "execution_count": 105,
     "metadata": {},
     "output_type": "execute_result"
    }
   ],
   "source": [
    "foo[foo['experiment_ids'] == 0]"
   ]
  },
  {
   "cell_type": "markdown",
   "id": "98a6be48",
   "metadata": {},
   "source": [
    "# TEST Load OHSU "
   ]
  },
  {
   "cell_type": "code",
   "execution_count": 9,
   "id": "7e95a384",
   "metadata": {},
   "outputs": [],
   "source": [
    "path = '/cluster/work/grlab/projects/projects2020_OHSU/share_OHUS_PNLL/OHSU_may17-2023_experimentID-update.tar.gz'"
   ]
  },
  {
   "cell_type": "code",
   "execution_count": 10,
   "id": "f61a350b",
   "metadata": {},
   "outputs": [],
   "source": [
    "with tarfile.open(path, 'r') as tar:\n",
    "    names = tar.getnames()\n",
    "    "
   ]
  },
  {
   "cell_type": "code",
   "execution_count": 11,
   "id": "82561bf2",
   "metadata": {},
   "outputs": [
    {
     "data": {
      "text/plain": [
       "['OHSU-may17-experimentID-update/expts_per_peptide',\n",
       " 'OHSU-may17-experimentID-update/expts_per_peptide/J_TCGA-AO-A0JM-01A-21R-A056-07_experiments_per_peptide.tsv',\n",
       " 'OHSU-may17-experimentID-update/expts_per_peptide/J_TCGA-24-1431-01A-01R-1566-13_experiments_per_peptide.tsv',\n",
       " 'OHSU-may17-experimentID-update/expts_per_peptide/J_TCGA-A2-A0SX-01A-12R-A084-07_experiments_per_peptide.tsv',\n",
       " 'OHSU-may17-experimentID-update/expts_per_peptide/J_TCGA-61-2008-01A-02R-1568-13_experiments_per_peptide.tsv',\n",
       " 'OHSU-may17-experimentID-update/expts_per_peptide/J_TCGA-24-2298-01A-01R-1569-13_experiments_per_peptide.tsv',\n",
       " 'OHSU-may17-experimentID-update/expts_per_peptide/J_TCGA-A2-A0D2-01A-21R-A034-07_experiments_per_peptide.tsv',\n",
       " 'OHSU-may17-experimentID-update/expts_per_peptide/J_TCGA-25-1313-01A-01R-1565-13_experiments_per_peptide.tsv',\n",
       " 'OHSU-may17-experimentID-update/expts_per_peptide/J_TCGA-25-1319-01A-01R-1565-13_experiments_per_peptide.tsv',\n",
       " 'OHSU-may17-experimentID-update/expts_per_peptide/J_TCGA-BH-A18V-01A-11R-A12D-07_experiments_per_peptide.tsv',\n",
       " 'OHSU-may17-experimentID-update/expts_per_peptide/J_TCGA-C8-A12P-01A-11R-A115-07_experiments_per_peptide.tsv']"
      ]
     },
     "execution_count": 11,
     "metadata": {},
     "output_type": "execute_result"
    }
   ],
   "source": [
    "[ i for i in names if 'per_peptide' in i]\n"
   ]
  },
  {
   "cell_type": "code",
   "execution_count": 12,
   "id": "5569a4ce",
   "metadata": {},
   "outputs": [],
   "source": [
    "# for i in names:\n",
    "#     print(i)"
   ]
  },
  {
   "cell_type": "code",
   "execution_count": 13,
   "id": "b650974e",
   "metadata": {},
   "outputs": [],
   "source": [
    "f1 = 'OHSU-may17-experimentID-update/experiment_maps/J_TCGA-BH-A18V-01A-11R-A12D-07_experiment_map.tsv'\n",
    "f2 = 'OHSU-may17-experimentID-update/expts_per_peptide/J_TCGA-BH-A18V-01A-11R-A12D-07_experiments_per_peptide.tsv'\n"
   ]
  },
  {
   "cell_type": "code",
   "execution_count": 14,
   "id": "b2fe9fa5",
   "metadata": {},
   "outputs": [],
   "source": [
    "with tarfile.open(path, 'r') as tar:\n",
    "    d1 = pd.read_csv(tar.extractfile(f1), sep = '\\t')\n",
    "    d2 = pd.read_csv(tar.extractfile(f2), sep = '\\t')"
   ]
  },
  {
   "cell_type": "code",
   "execution_count": 15,
   "id": "71c7ede4",
   "metadata": {
    "scrolled": true
   },
   "outputs": [
    {
     "data": {
      "text/html": [
       "<div>\n",
       "<style scoped>\n",
       "    .dataframe tbody tr th:only-of-type {\n",
       "        vertical-align: middle;\n",
       "    }\n",
       "\n",
       "    .dataframe tbody tr th {\n",
       "        vertical-align: top;\n",
       "    }\n",
       "\n",
       "    .dataframe thead th {\n",
       "        text-align: right;\n",
       "    }\n",
       "</style>\n",
       "<table border=\"1\" class=\"dataframe\">\n",
       "  <thead>\n",
       "    <tr style=\"text-align: right;\">\n",
       "      <th></th>\n",
       "      <th>id</th>\n",
       "      <th>motif_filter</th>\n",
       "      <th>min_sample_reads</th>\n",
       "      <th>#_of_cohort_samples</th>\n",
       "      <th>reads_per_cohort_sample</th>\n",
       "      <th>normal_cohort_id</th>\n",
       "      <th>#_normal_samples_allowed</th>\n",
       "      <th>reads_per_normal_sample</th>\n",
       "    </tr>\n",
       "  </thead>\n",
       "  <tbody>\n",
       "    <tr>\n",
       "      <th>0</th>\n",
       "      <td>0AN00PC</td>\n",
       "      <td>1</td>\n",
       "      <td>0</td>\n",
       "      <td>0</td>\n",
       "      <td>0</td>\n",
       "      <td>paired</td>\n",
       "      <td>0</td>\n",
       "      <td>0</td>\n",
       "    </tr>\n",
       "    <tr>\n",
       "      <th>1</th>\n",
       "      <td>0AN11PC</td>\n",
       "      <td>1</td>\n",
       "      <td>0</td>\n",
       "      <td>0</td>\n",
       "      <td>0</td>\n",
       "      <td>paired</td>\n",
       "      <td>1</td>\n",
       "      <td>1</td>\n",
       "    </tr>\n",
       "    <tr>\n",
       "      <th>2</th>\n",
       "      <td>0AN31PC</td>\n",
       "      <td>1</td>\n",
       "      <td>0</td>\n",
       "      <td>0</td>\n",
       "      <td>0</td>\n",
       "      <td>paired</td>\n",
       "      <td>1</td>\n",
       "      <td>3</td>\n",
       "    </tr>\n",
       "    <tr>\n",
       "      <th>3</th>\n",
       "      <td>0ANA1PC</td>\n",
       "      <td>1</td>\n",
       "      <td>0</td>\n",
       "      <td>0</td>\n",
       "      <td>0</td>\n",
       "      <td>paired</td>\n",
       "      <td>1</td>\n",
       "      <td>-1</td>\n",
       "    </tr>\n",
       "    <tr>\n",
       "      <th>4</th>\n",
       "      <td>0AN12PC</td>\n",
       "      <td>1</td>\n",
       "      <td>0</td>\n",
       "      <td>0</td>\n",
       "      <td>0</td>\n",
       "      <td>paired</td>\n",
       "      <td>2</td>\n",
       "      <td>1</td>\n",
       "    </tr>\n",
       "  </tbody>\n",
       "</table>\n",
       "</div>"
      ],
      "text/plain": [
       "        id  motif_filter  min_sample_reads  #_of_cohort_samples  \\\n",
       "0  0AN00PC             1                 0                    0   \n",
       "1  0AN11PC             1                 0                    0   \n",
       "2  0AN31PC             1                 0                    0   \n",
       "3  0ANA1PC             1                 0                    0   \n",
       "4  0AN12PC             1                 0                    0   \n",
       "\n",
       "   reads_per_cohort_sample normal_cohort_id  #_normal_samples_allowed  \\\n",
       "0                        0           paired                         0   \n",
       "1                        0           paired                         1   \n",
       "2                        0           paired                         1   \n",
       "3                        0           paired                         1   \n",
       "4                        0           paired                         2   \n",
       "\n",
       "   reads_per_normal_sample  \n",
       "0                        0  \n",
       "1                        1  \n",
       "2                        3  \n",
       "3                       -1  \n",
       "4                        1  "
      ]
     },
     "execution_count": 15,
     "metadata": {},
     "output_type": "execute_result"
    }
   ],
   "source": [
    "d1.head()"
   ]
  },
  {
   "cell_type": "code",
   "execution_count": 16,
   "id": "9c700ed4",
   "metadata": {
    "scrolled": true
   },
   "outputs": [
    {
     "data": {
      "text/html": [
       "<div>\n",
       "<style scoped>\n",
       "    .dataframe tbody tr th:only-of-type {\n",
       "        vertical-align: middle;\n",
       "    }\n",
       "\n",
       "    .dataframe tbody tr th {\n",
       "        vertical-align: top;\n",
       "    }\n",
       "\n",
       "    .dataframe thead th {\n",
       "        text-align: right;\n",
       "    }\n",
       "</style>\n",
       "<table border=\"1\" class=\"dataframe\">\n",
       "  <thead>\n",
       "    <tr style=\"text-align: right;\">\n",
       "      <th></th>\n",
       "      <th>peptide_id</th>\n",
       "      <th>peptide_sequence</th>\n",
       "      <th>experiment_ids</th>\n",
       "    </tr>\n",
       "  </thead>\n",
       "  <tbody>\n",
       "    <tr>\n",
       "      <th>0</th>\n",
       "      <td>100001</td>\n",
       "      <td>MEDYTKIEKIGEVFRMCLCRIPGYISSLSFFPWI</td>\n",
       "      <td>0AN11PC;0AN31PC;0ANA1PC;0AN12PC;0AN32PC;0ANA2P...</td>\n",
       "    </tr>\n",
       "    <tr>\n",
       "      <th>1</th>\n",
       "      <td>100002</td>\n",
       "      <td>IEEHNIKIYHLPDAESDEDEDFKEQTRLLKASIPFSVVGSNQLIEA...</td>\n",
       "      <td>0AN11PC;0AN31PC;0ANA1PC;0AN12PC;0AN32PC;0ANA2P...</td>\n",
       "    </tr>\n",
       "    <tr>\n",
       "      <th>2</th>\n",
       "      <td>100003</td>\n",
       "      <td>QPANCKVESLAMFLGELSLIDADPYLKYLPSVIAGAAFHLALYTVT...</td>\n",
       "      <td>0AN11PC;0AN31PC;0ANA1PC;0AN12PC;0AN32PC;0ANA2P...</td>\n",
       "    </tr>\n",
       "    <tr>\n",
       "      <th>3</th>\n",
       "      <td>100004</td>\n",
       "      <td>MWYRLRLLKPQPNIIPTVKDGVSPCSPGWSRTLGLKWSACLGLQKW</td>\n",
       "      <td>0AN11PC;0AN31PC;0ANA1PC;0AN12PC;0AN32PC;0ANA2P...</td>\n",
       "    </tr>\n",
       "    <tr>\n",
       "      <th>4</th>\n",
       "      <td>100005</td>\n",
       "      <td>LIVIPATYYLWPRDQNAEQIRLKNIRKVYGRCMWYRLRLLKPQPNI...</td>\n",
       "      <td>0AN11PC;0AN31PC;0ANA1PC;0AN12PC;0AN32PC;0ANA2P...</td>\n",
       "    </tr>\n",
       "  </tbody>\n",
       "</table>\n",
       "</div>"
      ],
      "text/plain": [
       "   peptide_id                                   peptide_sequence  \\\n",
       "0      100001                 MEDYTKIEKIGEVFRMCLCRIPGYISSLSFFPWI   \n",
       "1      100002  IEEHNIKIYHLPDAESDEDEDFKEQTRLLKASIPFSVVGSNQLIEA...   \n",
       "2      100003  QPANCKVESLAMFLGELSLIDADPYLKYLPSVIAGAAFHLALYTVT...   \n",
       "3      100004     MWYRLRLLKPQPNIIPTVKDGVSPCSPGWSRTLGLKWSACLGLQKW   \n",
       "4      100005  LIVIPATYYLWPRDQNAEQIRLKNIRKVYGRCMWYRLRLLKPQPNI...   \n",
       "\n",
       "                                      experiment_ids  \n",
       "0  0AN11PC;0AN31PC;0ANA1PC;0AN12PC;0AN32PC;0ANA2P...  \n",
       "1  0AN11PC;0AN31PC;0ANA1PC;0AN12PC;0AN32PC;0ANA2P...  \n",
       "2  0AN11PC;0AN31PC;0ANA1PC;0AN12PC;0AN32PC;0ANA2P...  \n",
       "3  0AN11PC;0AN31PC;0ANA1PC;0AN12PC;0AN32PC;0ANA2P...  \n",
       "4  0AN11PC;0AN31PC;0ANA1PC;0AN12PC;0AN32PC;0ANA2P...  "
      ]
     },
     "execution_count": 16,
     "metadata": {},
     "output_type": "execute_result"
    }
   ],
   "source": [
    "d2.head()"
   ]
  },
  {
   "cell_type": "code",
   "execution_count": 153,
   "id": "16cd27ab",
   "metadata": {},
   "outputs": [
    {
     "data": {
      "text/plain": [
       "13705"
      ]
     },
     "execution_count": 153,
     "metadata": {},
     "output_type": "execute_result"
    }
   ],
   "source": [
    "len(d2['peptide_id'].unique())"
   ]
  },
  {
   "cell_type": "code",
   "execution_count": 156,
   "id": "d3670016",
   "metadata": {},
   "outputs": [
    {
     "data": {
      "text/plain": [
       "(13705, 3)"
      ]
     },
     "execution_count": 156,
     "metadata": {},
     "output_type": "execute_result"
    }
   ],
   "source": [
    "d2.shape\n"
   ]
  },
  {
   "cell_type": "markdown",
   "id": "ecf26959",
   "metadata": {},
   "source": [
    "# TESTS Experiment ID Matching"
   ]
  },
  {
   "cell_type": "code",
   "execution_count": 29,
   "id": "36cea766",
   "metadata": {},
   "outputs": [],
   "source": [
    "# GENERATE IDS # Test version #TODO ===> NEED to Generate the parameter file \n",
    "collect_IDS = []\n",
    "for filt_file in path_filtered_sample:\n",
    "    ID_split = path_to_expID(filt_file)\n",
    "    ID = expID_to_block(ID_split)\n",
    "    collect_IDS.append(ID)\n",
    "    \n"
   ]
  },
  {
   "cell_type": "code",
   "execution_count": 60,
   "id": "10d7c0f9",
   "metadata": {
    "scrolled": true
   },
   "outputs": [
    {
     "name": "stdout",
     "output_type": "stream",
     "text": [
      "ID position 0 unique values ['0']\n",
      "ID position 1 unique values ['2' 'A']\n",
      "ID position 2 unique values ['1' '5' 'N']\n",
      "ID position 3 unique values ['0' '1' '3' 'A']\n",
      "ID position 4 unique values ['1' '2' 'A' 'X']\n",
      "ID position 5 unique values ['G']\n"
     ]
    }
   ],
   "source": [
    "# TEST ETH \n",
    "for pos in np.arange(6):\n",
    "    res =  np.unique([i[pos] for i in np.unique(collect_IDS)])\n",
    "    print(f'ID position {pos} unique values {res}')"
   ]
  },
  {
   "cell_type": "code",
   "execution_count": 61,
   "id": "030b5fd4",
   "metadata": {
    "scrolled": true
   },
   "outputs": [
    {
     "name": "stdout",
     "output_type": "stream",
     "text": [
      "ID position 0 unique values ['0']\n",
      "ID position 1 unique values ['2' 'A']\n",
      "ID position 2 unique values ['1' '5' 'N']\n",
      "ID position 3 unique values ['0' '1' '3' 'A']\n",
      "ID position 4 unique values ['0' '1' '2' 'A' 'X']\n",
      "ID position 5 unique values ['G' 'P']\n"
     ]
    }
   ],
   "source": [
    "# TEST OHSU \n",
    "for pos in np.arange(6):\n",
    "    res =  np.unique([i[pos] for i in d1['id'].unique()])\n",
    "    print(f'ID position {pos} unique values {res}')"
   ]
  },
  {
   "cell_type": "code",
   "execution_count": null,
   "id": "56501170",
   "metadata": {},
   "outputs": [],
   "source": [
    "SLACK\n",
    "# BACKGROUND cohorts we do (cohort_reads, sample_number)- KEEP pipeline as such\n",
    "# cohort_reads=[0,1,3, Any]\n",
    "# sample_number=[1,2,10, Any]\n",
    "# except Any, Any\n",
    "# FOREGROUND  (cohort_reads, sample_number) means\n",
    "# sample_reads=[0]\n",
    "# cohort_reads=[0,2]\n",
    "# sample_number(rest of cohort) =[1, 5]"
   ]
  },
  {
   "cell_type": "code",
   "execution_count": 26,
   "id": "67db80c9",
   "metadata": {
    "collapsed": true
   },
   "outputs": [
    {
     "name": "stdout",
     "output_type": "stream",
     "text": [
      "['0NN00PC' '0NNN1PC' '0NN11PC' '0NN31PC' '0NNA1PC' '0NNN2PC' '0NN12PC'\n",
      " '0NN32PC' '0NNA2PC' '0NNNXPC' '0NN1XPC' '0NN3XPC' '0NNAXPC' '0NNNAPC'\n",
      " '0NN1APC' '0NN3APC' '0N100PC' '0N1N1PC' '0N111PC' '0N131PC' '0N1A1PC'\n",
      " '0N1N2PC' '0N112PC' '0N132PC' '0N1A2PC' '0N1NXPC' '0N11XPC' '0N13XPC'\n",
      " '0N1AXPC' '0N1NAPC' '0N11APC' '0N13APC' '02100PC' '021N1PC' '02111PC'\n",
      " '02131PC' '021A1PC' '021N2PC' '02112PC' '02132PC' '021A2PC' '021NXPC'\n",
      " '0211XPC' '0213XPC' '021AXPC' '021NAPC' '0211APC' '0213APC' '0N500PC'\n",
      " '0N5N1PC' '0N511PC' '0N531PC' '0N5A1PC' '0N5N2PC' '0N512PC' '0N532PC'\n",
      " '0N5A2PC' '0N5NXPC' '0N51XPC' '0N53XPC' '0N5AXPC' '0N5NAPC' '0N51APC'\n",
      " '0N53APC' '02500PC' '025N1PC' '02511PC' '02531PC' '025A1PC' '025N2PC'\n",
      " '02512PC' '02532PC' '025A2PC' '025NXPC' '0251XPC' '0253XPC' '025AXPC'\n",
      " '025NAPC' '0251APC' '0253APC' '0NN00PA' '0NNN1PA' '0NN11PA' '0NN31PA'\n",
      " '0NNA1PA' '0NNN2PA' '0NN12PA' '0NN32PA' '0NNA2PA' '0NNNXPA' '0NN1XPA'\n",
      " '0NN3XPA' '0NNAXPA' '0NNNAPA' '0NN1APA' '0NN3APA' '0N100PA' '0N1N1PA'\n",
      " '0N111PA' '0N131PA' '0N1A1PA' '0N1N2PA' '0N112PA' '0N132PA' '0N1A2PA'\n",
      " '0N1NXPA' '0N11XPA' '0N13XPA' '0N1AXPA' '0N1NAPA' '0N11APA' '0N13APA'\n",
      " '02100PA' '021N1PA' '02111PA' '02131PA' '021A1PA' '021N2PA' '02112PA'\n",
      " '02132PA' '021A2PA' '021NXPA' '0211XPA' '0213XPA' '021AXPA' '021NAPA'\n",
      " '0211APA' '0213APA' '0N500PA' '0N5N1PA' '0N511PA' '0N531PA' '0N5A1PA'\n",
      " '0N5N2PA' '0N512PA' '0N532PA' '0N5A2PA' '0N5NXPA' '0N51XPA' '0N53XPA'\n",
      " '0N5AXPA' '0N5NAPA' '0N51APA' '0N53APA' '02500PA' '025N1PA' '02511PA'\n",
      " '02531PA' '025A1PA' '025N2PA' '02512PA' '02532PA' '025A2PA' '025NXPA'\n",
      " '0251XPA' '0253XPA' '025AXPA' '025NAPA' '0251APA' '0253APA' '0NN00GC'\n",
      " '0NNN1GC' '0NN11GC' '0NN31GC' '0NNA1GC' '0NNN2GC' '0NN12GC' '0NN32GC'\n",
      " '0NNA2GC' '0NNNXGC' '0NN1XGC' '0NN3XGC' '0NNAXGC' '0NNNAGC' '0NN1AGC'\n",
      " '0NN3AGC' '0N100GC' '0N1N1GC' '0N111GC' '0N131GC' '0N1A1GC' '0N1N2GC'\n",
      " '0N112GC' '0N132GC' '0N1A2GC' '0N1NXGC' '0N11XGC' '0N13XGC' '0N1AXGC'\n",
      " '0N1NAGC' '0N11AGC' '0N13AGC' '02100GC' '021N1GC' '02111GC' '02131GC'\n",
      " '021A1GC' '021N2GC' '02112GC' '02132GC' '021A2GC' '021NXGC' '0211XGC'\n",
      " '0213XGC' '021AXGC' '021NAGC' '0211AGC' '0213AGC' '0N500GC' '0N5N1GC'\n",
      " '0N511GC' '0N531GC' '0N5A1GC' '0N5N2GC' '0N512GC' '0N532GC' '0N5A2GC'\n",
      " '0N5NXGC' '0N51XGC' '0N53XGC' '0N5AXGC' '0N5NAGC' '0N51AGC' '0N53AGC'\n",
      " '02500GC' '025N1GC' '02511GC' '02531GC' '025A1GC' '025N2GC' '02512GC'\n",
      " '02532GC' '025A2GC' '025NXGC' '0251XGC' '0253XGC' '025AXGC' '025NAGC'\n",
      " '0251AGC' '0253AGC' '0NN00GA' '0NNN1GA' '0NN11GA' '0NN31GA' '0NNA1GA'\n",
      " '0NNN2GA' '0NN12GA' '0NN32GA' '0NNA2GA' '0NNNXGA' '0NN1XGA' '0NN3XGA'\n",
      " '0NNAXGA' '0NNNAGA' '0NN1AGA' '0NN3AGA' '0N100GA' '0N1N1GA' '0N111GA'\n",
      " '0N131GA' '0N1A1GA' '0N1N2GA' '0N112GA' '0N132GA' '0N1A2GA' '0N1NXGA'\n",
      " '0N11XGA' '0N13XGA' '0N1AXGA' '0N1NAGA' '0N11AGA' '0N13AGA' '02100GA'\n",
      " '021N1GA' '02111GA' '02131GA' '021A1GA' '021N2GA' '02112GA' '02132GA'\n",
      " '021A2GA' '021NXGA' '0211XGA' '0213XGA' '021AXGA' '021NAGA' '0211AGA'\n",
      " '0213AGA' '0N500GA' '0N5N1GA' '0N511GA' '0N531GA' '0N5A1GA' '0N5N2GA'\n",
      " '0N512GA' '0N532GA' '0N5A2GA' '0N5NXGA' '0N51XGA' '0N53XGA' '0N5AXGA'\n",
      " '0N5NAGA' '0N51AGA' '0N53AGA' '02500GA' '025N1GA' '02511GA' '02531GA'\n",
      " '025A1GA' '025N2GA' '02512GA' '02532GA' '025A2GA' '025NXGA' '0251XGA'\n",
      " '0253XGA' '025AXGA' '025NAGA' '0251AGA' '0253AGA']\n"
     ]
    }
   ],
   "source": [
    "print(d1['id'].unique())"
   ]
  },
  {
   "cell_type": "code",
   "execution_count": null,
   "id": "82396c97",
   "metadata": {},
   "outputs": [],
   "source": []
  }
 ],
 "metadata": {
  "kernelspec": {
   "display_name": "Python 3 (ipykernel)",
   "language": "python",
   "name": "python3"
  },
  "language_info": {
   "codemirror_mode": {
    "name": "ipython",
    "version": 3
   },
   "file_extension": ".py",
   "mimetype": "text/x-python",
   "name": "python",
   "nbconvert_exporter": "python",
   "pygments_lexer": "ipython3",
   "version": "3.10.2"
  }
 },
 "nbformat": 4,
 "nbformat_minor": 5
}
