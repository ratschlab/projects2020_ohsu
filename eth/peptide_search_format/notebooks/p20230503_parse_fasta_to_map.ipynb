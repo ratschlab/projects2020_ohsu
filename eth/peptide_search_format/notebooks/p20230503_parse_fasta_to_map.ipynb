{
 "cells": [
  {
   "cell_type": "code",
   "execution_count": 142,
   "id": "13cb6879",
   "metadata": {},
   "outputs": [],
   "source": [
    "import tarfile\n",
    "import pandas as pd\n",
    "import glob\n",
    "import os\n",
    "import numpy as np\n",
    "from collections import defaultdict"
   ]
  },
  {
   "cell_type": "markdown",
   "id": "98a6be48",
   "metadata": {},
   "source": [
    "# Load OHSU "
   ]
  },
  {
   "cell_type": "code",
   "execution_count": 2,
   "id": "7e95a384",
   "metadata": {},
   "outputs": [],
   "source": [
    "path = '/cluster/work/grlab/projects/projects2020_OHSU/share_OHUS_PNLL/April2023_gtex_fixed_filters/OHSU_Apr23-2023_fixGTExandExptIDs.tar.gz'"
   ]
  },
  {
   "cell_type": "code",
   "execution_count": 3,
   "id": "f61a350b",
   "metadata": {},
   "outputs": [],
   "source": [
    "with tarfile.open(path, 'r') as tar:\n",
    "    names = tar.getnames()\n",
    "    "
   ]
  },
  {
   "cell_type": "code",
   "execution_count": 119,
   "id": "5569a4ce",
   "metadata": {},
   "outputs": [],
   "source": [
    "# for i in names:\n",
    "#     print(i)"
   ]
  },
  {
   "cell_type": "code",
   "execution_count": 5,
   "id": "b650974e",
   "metadata": {},
   "outputs": [],
   "source": [
    "f1 = 'experiment_map/J_TCGA-A2-A0SX-01A-12R-A084-07_experiment_map.tsv'\n",
    "f2 = 'expts_per_peptide/J_TCGA-A2-A0SX-01A-12R-A084-07_experiments_per_peptide.tsv'\n"
   ]
  },
  {
   "cell_type": "code",
   "execution_count": 6,
   "id": "b2fe9fa5",
   "metadata": {},
   "outputs": [],
   "source": [
    "with tarfile.open(path, 'r') as tar:\n",
    "    d1 = pd.read_csv(tar.extractfile(f1), sep = '\\t')\n",
    "    d2 = pd.read_csv(tar.extractfile(f2), sep = '\\t')"
   ]
  },
  {
   "cell_type": "code",
   "execution_count": 7,
   "id": "71c7ede4",
   "metadata": {},
   "outputs": [
    {
     "data": {
      "text/html": [
       "<div>\n",
       "<style scoped>\n",
       "    .dataframe tbody tr th:only-of-type {\n",
       "        vertical-align: middle;\n",
       "    }\n",
       "\n",
       "    .dataframe tbody tr th {\n",
       "        vertical-align: top;\n",
       "    }\n",
       "\n",
       "    .dataframe thead th {\n",
       "        text-align: right;\n",
       "    }\n",
       "</style>\n",
       "<table border=\"1\" class=\"dataframe\">\n",
       "  <thead>\n",
       "    <tr style=\"text-align: right;\">\n",
       "      <th></th>\n",
       "      <th>id</th>\n",
       "      <th>motif_filter</th>\n",
       "      <th>min_sample_reads</th>\n",
       "      <th>#_of_cohort_samples</th>\n",
       "      <th>reads_per_cohort_sample</th>\n",
       "      <th>normal_cohort_id</th>\n",
       "      <th>#_normal_samples_allowed</th>\n",
       "      <th>reads_per_normal_sample</th>\n",
       "    </tr>\n",
       "  </thead>\n",
       "  <tbody>\n",
       "    <tr>\n",
       "      <th>0</th>\n",
       "      <td>0NN00PC</td>\n",
       "      <td>1</td>\n",
       "      <td>0</td>\n",
       "      <td>0</td>\n",
       "      <td>0</td>\n",
       "      <td>paired</td>\n",
       "      <td>0</td>\n",
       "      <td>0</td>\n",
       "    </tr>\n",
       "    <tr>\n",
       "      <th>1</th>\n",
       "      <td>0NNN1PC</td>\n",
       "      <td>1</td>\n",
       "      <td>0</td>\n",
       "      <td>0</td>\n",
       "      <td>0</td>\n",
       "      <td>paired</td>\n",
       "      <td>1</td>\n",
       "      <td>0</td>\n",
       "    </tr>\n",
       "    <tr>\n",
       "      <th>2</th>\n",
       "      <td>0NN11PC</td>\n",
       "      <td>1</td>\n",
       "      <td>0</td>\n",
       "      <td>0</td>\n",
       "      <td>0</td>\n",
       "      <td>paired</td>\n",
       "      <td>1</td>\n",
       "      <td>1</td>\n",
       "    </tr>\n",
       "    <tr>\n",
       "      <th>3</th>\n",
       "      <td>0NN31PC</td>\n",
       "      <td>1</td>\n",
       "      <td>0</td>\n",
       "      <td>0</td>\n",
       "      <td>0</td>\n",
       "      <td>paired</td>\n",
       "      <td>1</td>\n",
       "      <td>3</td>\n",
       "    </tr>\n",
       "    <tr>\n",
       "      <th>4</th>\n",
       "      <td>0NNA1PC</td>\n",
       "      <td>1</td>\n",
       "      <td>0</td>\n",
       "      <td>0</td>\n",
       "      <td>0</td>\n",
       "      <td>paired</td>\n",
       "      <td>1</td>\n",
       "      <td>-1</td>\n",
       "    </tr>\n",
       "  </tbody>\n",
       "</table>\n",
       "</div>"
      ],
      "text/plain": [
       "        id  motif_filter  min_sample_reads  #_of_cohort_samples  \\\n",
       "0  0NN00PC             1                 0                    0   \n",
       "1  0NNN1PC             1                 0                    0   \n",
       "2  0NN11PC             1                 0                    0   \n",
       "3  0NN31PC             1                 0                    0   \n",
       "4  0NNA1PC             1                 0                    0   \n",
       "\n",
       "   reads_per_cohort_sample normal_cohort_id  #_normal_samples_allowed  \\\n",
       "0                        0           paired                         0   \n",
       "1                        0           paired                         1   \n",
       "2                        0           paired                         1   \n",
       "3                        0           paired                         1   \n",
       "4                        0           paired                         1   \n",
       "\n",
       "   reads_per_normal_sample  \n",
       "0                        0  \n",
       "1                        0  \n",
       "2                        1  \n",
       "3                        3  \n",
       "4                       -1  "
      ]
     },
     "execution_count": 7,
     "metadata": {},
     "output_type": "execute_result"
    }
   ],
   "source": [
    "d1.head()"
   ]
  },
  {
   "cell_type": "code",
   "execution_count": 8,
   "id": "9c700ed4",
   "metadata": {},
   "outputs": [
    {
     "data": {
      "text/html": [
       "<div>\n",
       "<style scoped>\n",
       "    .dataframe tbody tr th:only-of-type {\n",
       "        vertical-align: middle;\n",
       "    }\n",
       "\n",
       "    .dataframe tbody tr th {\n",
       "        vertical-align: top;\n",
       "    }\n",
       "\n",
       "    .dataframe thead th {\n",
       "        text-align: right;\n",
       "    }\n",
       "</style>\n",
       "<table border=\"1\" class=\"dataframe\">\n",
       "  <thead>\n",
       "    <tr style=\"text-align: right;\">\n",
       "      <th></th>\n",
       "      <th>peptide_id</th>\n",
       "      <th>peptide_sequence</th>\n",
       "      <th>experiment_ids</th>\n",
       "    </tr>\n",
       "  </thead>\n",
       "  <tbody>\n",
       "    <tr>\n",
       "      <th>0</th>\n",
       "      <td>100001</td>\n",
       "      <td>IESKGNEITLLFMSGIHVSGRGFLASYSVIDKQDLITCLDTASNFL...</td>\n",
       "      <td>0NNN1PC;0NN11PC;0NN31PC;0NNA1PC;0NNN2PC;0NN12P...</td>\n",
       "    </tr>\n",
       "    <tr>\n",
       "      <th>1</th>\n",
       "      <td>100002</td>\n",
       "      <td>SDMDLLNPHRKSEVERPASIPLSSGYSTASSDSTPRASTVNYCGLN...</td>\n",
       "      <td>0NNN1PC;0NN11PC;0NN31PC;0NNA1PC;0NNN2PC;0NN12P...</td>\n",
       "    </tr>\n",
       "    <tr>\n",
       "      <th>2</th>\n",
       "      <td>100003</td>\n",
       "      <td>SDMDLLNPHRKSEVERPASIPLSSGYSTASSDSTPRASTVNYCGLN...</td>\n",
       "      <td>0NNN1PC;0NN11PC;0NN31PC;0NNA1PC;0NNN2PC;0NN12P...</td>\n",
       "    </tr>\n",
       "    <tr>\n",
       "      <th>3</th>\n",
       "      <td>100004</td>\n",
       "      <td>NDIYNFFSPLNPVRVHIEIGPDGRVTGEADVEFATHEDAVAAMSKD...</td>\n",
       "      <td>0NNN1PC;0NN11PC;0NN31PC;0NNA1PC;0NNN2PC;0NN12P...</td>\n",
       "    </tr>\n",
       "    <tr>\n",
       "      <th>4</th>\n",
       "      <td>100005</td>\n",
       "      <td>NDIYNFFSPLNPVRVHIEIGPDGRVTGEADVEFATHEDAVAAMSKD...</td>\n",
       "      <td>0NNN1PC;0NN11PC;0NN31PC;0NNA1PC;0NNN2PC;0NN12P...</td>\n",
       "    </tr>\n",
       "  </tbody>\n",
       "</table>\n",
       "</div>"
      ],
      "text/plain": [
       "   peptide_id                                   peptide_sequence  \\\n",
       "0      100001  IESKGNEITLLFMSGIHVSGRGFLASYSVIDKQDLITCLDTASNFL...   \n",
       "1      100002  SDMDLLNPHRKSEVERPASIPLSSGYSTASSDSTPRASTVNYCGLN...   \n",
       "2      100003  SDMDLLNPHRKSEVERPASIPLSSGYSTASSDSTPRASTVNYCGLN...   \n",
       "3      100004  NDIYNFFSPLNPVRVHIEIGPDGRVTGEADVEFATHEDAVAAMSKD...   \n",
       "4      100005  NDIYNFFSPLNPVRVHIEIGPDGRVTGEADVEFATHEDAVAAMSKD...   \n",
       "\n",
       "                                      experiment_ids  \n",
       "0  0NNN1PC;0NN11PC;0NN31PC;0NNA1PC;0NNN2PC;0NN12P...  \n",
       "1  0NNN1PC;0NN11PC;0NN31PC;0NNA1PC;0NNN2PC;0NN12P...  \n",
       "2  0NNN1PC;0NN11PC;0NN31PC;0NNA1PC;0NNN2PC;0NN12P...  \n",
       "3  0NNN1PC;0NN11PC;0NN31PC;0NNA1PC;0NNN2PC;0NN12P...  \n",
       "4  0NNN1PC;0NN11PC;0NN31PC;0NNA1PC;0NNN2PC;0NN12P...  "
      ]
     },
     "execution_count": 8,
     "metadata": {},
     "output_type": "execute_result"
    }
   ],
   "source": [
    "d2.head()"
   ]
  },
  {
   "cell_type": "markdown",
   "id": "e6f789ab",
   "metadata": {},
   "source": [
    "# Load ETH "
   ]
  },
  {
   "cell_type": "code",
   "execution_count": 9,
   "id": "c0f083dc",
   "metadata": {},
   "outputs": [],
   "source": [
    "fasta_paths = glob.glob('/cluster/work/grlab/projects/projects2020_OHSU/peptides_generation/CANCER_eth/commit_c4dd02c_conf2_Frame_cap0_runs/TCGA_Breast_1102/filtering_samples/filters_22March_order_wany_wAnnot/*fa')"
   ]
  },
  {
   "cell_type": "code",
   "execution_count": 10,
   "id": "c918be87",
   "metadata": {},
   "outputs": [],
   "source": [
    "path_filtered = glob.glob('/cluster/work/grlab/projects/projects2020_OHSU/peptides_generation/CANCER_eth/commit_c4dd02c_conf2_Frame_cap0_runs/TCGA_Breast_1102/filtering_samples/filters_22March_order_wany_wAnnot/*Filt*')"
   ]
  },
  {
   "cell_type": "code",
   "execution_count": 11,
   "id": "0f1e8ab4",
   "metadata": {},
   "outputs": [],
   "source": [
    "fasta = fasta_paths[0]"
   ]
  },
  {
   "cell_type": "code",
   "execution_count": 12,
   "id": "30eb58f1",
   "metadata": {},
   "outputs": [
    {
     "data": {
      "text/plain": [
       "'/cluster/work/grlab/projects/projects2020_OHSU/peptides_generation/CANCER_eth/commit_c4dd02c_conf2_Frame_cap0_runs/TCGA_Breast_1102/filtering_samples/filters_22March_order_wany_wAnnot/G_TCGA_Allsamples_all_exp_kmer.fa'"
      ]
     },
     "execution_count": 12,
     "metadata": {},
     "output_type": "execute_result"
    }
   ],
   "source": [
    "fasta"
   ]
  },
  {
   "cell_type": "code",
   "execution_count": 13,
   "id": "ef051e28",
   "metadata": {},
   "outputs": [],
   "source": [
    "# Note need to match the sample. But in this case not needed\n",
    "sample = 'TCGA-A2-A0SX-01A-12R-A084-07'"
   ]
  },
  {
   "cell_type": "code",
   "execution_count": 14,
   "id": "0bb0fa42",
   "metadata": {},
   "outputs": [],
   "source": [
    "path_filtered_sample = [path for path in path_filtered if sample in path]"
   ]
  },
  {
   "cell_type": "code",
   "execution_count": 15,
   "id": "e49becbe",
   "metadata": {},
   "outputs": [
    {
     "data": {
      "text/plain": [
       "65"
      ]
     },
     "execution_count": 15,
     "metadata": {},
     "output_type": "execute_result"
    }
   ],
   "source": [
    "len(path_filtered_sample)"
   ]
  },
  {
   "cell_type": "code",
   "execution_count": 115,
   "id": "92e48d90",
   "metadata": {},
   "outputs": [],
   "source": [
    "def path_to_expID(path:str):\n",
    "    ID = {}\n",
    "    filter_background = os.path.basename(path).split('_')[-1].replace('.tsv.gz', '')\n",
    "    filter_foreground = os.path.basename(path).split('_')[-2]\n",
    "    #print(filter_background, filter_foreground)\n",
    "    # Extract Values\n",
    "    ID['filter_background_reads'] = filter_background.split('lim')[-1].split('Across')[0]\n",
    "    ID['filter_background_samples'] = filter_background.split('Across')[-1]\n",
    "    ID['filter_background_cohort'] = filter_background.split('Normals')[1].split('Cohort')[0]\n",
    "    ID['filter_foreground_reads'] = filter_foreground.split('Lim')[-1].split('Across')[0]\n",
    "    ID['filter_foreground_samples'] = filter_foreground.split('Across')[-1]\n",
    "    ID['filter_foreground_target'] = (filter_foreground.split('Lim')[1].replace('SampleLim', '').replace('Cohort', ''))\n",
    "    return ID\n",
    "    "
   ]
  },
  {
   "cell_type": "code",
   "execution_count": 116,
   "id": "53273768",
   "metadata": {},
   "outputs": [],
   "source": [
    "def expID_to_block(ID_split: dict):\n",
    "    ID_dict = {'Any': 'A', 'None': 'N', '10': 'X', 'paired': 'P', 'Gtex': 'G', 'Core_GTEx': 'R', 'Full': 'F'}\n",
    "    motif = 'A' # Any\n",
    "    for k, v in ID_split.items():\n",
    "        try:\n",
    "            assert(v != '10') #replace roman letter\n",
    "            ID_split[k] = str(int(float(v)))\n",
    "        except:\n",
    "            ID_split[k] = ID_dict[v]\n",
    "\n",
    "    return ID_split['filter_foreground_target'] + \\\n",
    "    ID_split['filter_foreground_reads'] + \\\n",
    "    ID_split['filter_foreground_samples'] + \\\n",
    "    ID_split['filter_background_reads'] + \\\n",
    "    ID_split['filter_background_samples'] + \\\n",
    "    ID_split['filter_background_cohort'] + \\\n",
    "    motif \n",
    "    "
   ]
  },
  {
   "cell_type": "code",
   "execution_count": 117,
   "id": "dd7aae06",
   "metadata": {},
   "outputs": [
    {
     "data": {
      "text/plain": [
       "'/cluster/work/grlab/projects/projects2020_OHSU/peptides_generation/CANCER_eth/commit_c4dd02c_conf2_Frame_cap0_runs/TCGA_Breast_1102/filtering_samples/filters_22March_order_wany_wAnnot/G_TCGA-A2-A0SX-01A-12R-A084-07_SampleLim0.0CohortLimNoneAcrossNone_FiltNormalsGtexCohortCohortlimAnyAcrossAny.tsv.gz'"
      ]
     },
     "execution_count": 117,
     "metadata": {},
     "output_type": "execute_result"
    }
   ],
   "source": [
    "path_filtered_sample[0]"
   ]
  },
  {
   "cell_type": "code",
   "execution_count": 118,
   "id": "1f9fe479",
   "metadata": {},
   "outputs": [],
   "source": []
  },
  {
   "cell_type": "code",
   "execution_count": 131,
   "id": "4a9b0522",
   "metadata": {},
   "outputs": [],
   "source": [
    "# Extract the peptides from the fasta\n",
    "peptides_IDS = []\n",
    "peptides_sequences = []\n",
    "kmers = []\n",
    "with open(fasta, 'r') as f:\n",
    "    for line in f.readlines():\n",
    "        if '>' in line:\n",
    "            kmers.append(line.split(';')[7].split('-')[-1])\n",
    "            peptides_IDS.append(line.split(';')[0].split('-')[-1])\n",
    "        else:\n",
    "            peptides_sequences.append(line.replace('\\n',''))\n",
    "\n",
    "\n"
   ]
  },
  {
   "cell_type": "code",
   "execution_count": 182,
   "id": "a980c866",
   "metadata": {},
   "outputs": [],
   "source": [
    "# Extract the occurences of the peptides in the experimental files\n",
    "\n",
    "kmer_to_filesID = defaultdict(list)\n",
    "\n",
    "for filtered in path_filtered_sample:\n",
    "    # GET filtered file ID\n",
    "    ID_split = path_to_expID(filtered)\n",
    "    ID_EXPERIMENT = expID_to_block(ID_split)\n",
    "    # Read filtered file \n",
    "    df_filt = pd.read_csv(filtered, sep = '\\t')\n",
    "    for km in set(df_filt['kmer']):\n",
    "        kmer_to_filesID[km].append(ID_EXPERIMENT)\n",
    "\n",
    "    \n",
    "        "
   ]
  },
  {
   "cell_type": "code",
   "execution_count": 183,
   "id": "ae6667a3",
   "metadata": {},
   "outputs": [],
   "source": [
    "# Data wrangling to get the peptide to experiment file \n",
    "kmer_to_filesID_ = []\n",
    "for k, v in kmer_to_filesID.items():\n",
    "    kmer_to_filesID_.append((k,';'.join(np.unique(v))))\n",
    "\n",
    "df = pd.DataFrame({'peptide_id': peptides_IDS, \\\n",
    "'peptide_sequence': peptides_sequences, \\\n",
    "'kmers': kmers})\n",
    "\n",
    "info = pd.DataFrame(kmer_to_filesID_, columns = ['kmers', 'experiment_ids'])\n",
    "\n",
    "df = df.merge(info, on = 'kmers')"
   ]
  },
  {
   "cell_type": "code",
   "execution_count": null,
   "id": "36cea766",
   "metadata": {},
   "outputs": [],
   "source": [
    "# GENERATE IDS # Test version #TODO ===> NEED to Generate the parameter file \n",
    "collect_IDS = []\n",
    "for filt_file in path_filtered_sample:\n",
    "    ID_split = path_to_expID(filt_file)\n",
    "    ID = expID_to_block(ID_split)\n",
    "    collect_IDS.append(ID)\n",
    "    \n"
   ]
  },
  {
   "cell_type": "markdown",
   "id": "ecf26959",
   "metadata": {},
   "source": [
    "# TESTS"
   ]
  },
  {
   "cell_type": "code",
   "execution_count": 98,
   "id": "10d7c0f9",
   "metadata": {},
   "outputs": [
    {
     "name": "stdout",
     "output_type": "stream",
     "text": [
      "ID position 0 unique values ['0']\n",
      "ID position 1 unique values ['0' '2' 'N']\n",
      "ID position 2 unique values ['1' '5' 'N']\n",
      "ID position 3 unique values ['0' '1' '3' 'A']\n",
      "ID position 4 unique values ['1' '2' 'A' 'X']\n",
      "ID position 5 unique values ['G']\n"
     ]
    }
   ],
   "source": [
    "# TEST ETH \n",
    "for pos in np.arange(6):\n",
    "    res =  np.unique([i[pos] for i in np.unique(collect_IDS)])\n",
    "    print(f'ID position {pos} unique values {res}')"
   ]
  },
  {
   "cell_type": "code",
   "execution_count": 44,
   "id": "030b5fd4",
   "metadata": {
    "scrolled": true
   },
   "outputs": [
    {
     "name": "stdout",
     "output_type": "stream",
     "text": [
      "ID position 0 unique values ['0']\n",
      "ID position 1 unique values ['2' 'N']\n",
      "ID position 2 unique values ['1' '5' 'N']\n",
      "ID position 3 unique values ['0' '1' '3' 'A' 'N']\n",
      "ID position 4 unique values ['0' '1' '2' 'A' 'X']\n",
      "ID position 5 unique values ['G' 'P']\n"
     ]
    }
   ],
   "source": [
    "# TEST OHSU \n",
    "for pos in np.arange(6):\n",
    "    res =  np.unique([i[pos] for i in d1['id'].unique()])\n",
    "    print(f'ID position {pos} unique values {res}')"
   ]
  },
  {
   "cell_type": "code",
   "execution_count": null,
   "id": "56501170",
   "metadata": {},
   "outputs": [],
   "source": [
    "SLACK\n",
    "# BACKGROUND cohorts we do (cohort_reads, sample_number)- KEEP pipeline as such\n",
    "# cohort_reads=[0,1,3, Any]\n",
    "# sample_number=[1,2,10, Any]\n",
    "# except Any, Any\n",
    "# FOREGROUND  (cohort_reads, sample_number) means\n",
    "# sample_reads=[0]\n",
    "# cohort_reads=[0,2]\n",
    "# sample_number(rest of cohort) =[1, 5]"
   ]
  },
  {
   "cell_type": "code",
   "execution_count": 26,
   "id": "67db80c9",
   "metadata": {
    "scrolled": true
   },
   "outputs": [
    {
     "name": "stdout",
     "output_type": "stream",
     "text": [
      "['0NN00PC' '0NNN1PC' '0NN11PC' '0NN31PC' '0NNA1PC' '0NNN2PC' '0NN12PC'\n",
      " '0NN32PC' '0NNA2PC' '0NNNXPC' '0NN1XPC' '0NN3XPC' '0NNAXPC' '0NNNAPC'\n",
      " '0NN1APC' '0NN3APC' '0N100PC' '0N1N1PC' '0N111PC' '0N131PC' '0N1A1PC'\n",
      " '0N1N2PC' '0N112PC' '0N132PC' '0N1A2PC' '0N1NXPC' '0N11XPC' '0N13XPC'\n",
      " '0N1AXPC' '0N1NAPC' '0N11APC' '0N13APC' '02100PC' '021N1PC' '02111PC'\n",
      " '02131PC' '021A1PC' '021N2PC' '02112PC' '02132PC' '021A2PC' '021NXPC'\n",
      " '0211XPC' '0213XPC' '021AXPC' '021NAPC' '0211APC' '0213APC' '0N500PC'\n",
      " '0N5N1PC' '0N511PC' '0N531PC' '0N5A1PC' '0N5N2PC' '0N512PC' '0N532PC'\n",
      " '0N5A2PC' '0N5NXPC' '0N51XPC' '0N53XPC' '0N5AXPC' '0N5NAPC' '0N51APC'\n",
      " '0N53APC' '02500PC' '025N1PC' '02511PC' '02531PC' '025A1PC' '025N2PC'\n",
      " '02512PC' '02532PC' '025A2PC' '025NXPC' '0251XPC' '0253XPC' '025AXPC'\n",
      " '025NAPC' '0251APC' '0253APC' '0NN00PA' '0NNN1PA' '0NN11PA' '0NN31PA'\n",
      " '0NNA1PA' '0NNN2PA' '0NN12PA' '0NN32PA' '0NNA2PA' '0NNNXPA' '0NN1XPA'\n",
      " '0NN3XPA' '0NNAXPA' '0NNNAPA' '0NN1APA' '0NN3APA' '0N100PA' '0N1N1PA'\n",
      " '0N111PA' '0N131PA' '0N1A1PA' '0N1N2PA' '0N112PA' '0N132PA' '0N1A2PA'\n",
      " '0N1NXPA' '0N11XPA' '0N13XPA' '0N1AXPA' '0N1NAPA' '0N11APA' '0N13APA'\n",
      " '02100PA' '021N1PA' '02111PA' '02131PA' '021A1PA' '021N2PA' '02112PA'\n",
      " '02132PA' '021A2PA' '021NXPA' '0211XPA' '0213XPA' '021AXPA' '021NAPA'\n",
      " '0211APA' '0213APA' '0N500PA' '0N5N1PA' '0N511PA' '0N531PA' '0N5A1PA'\n",
      " '0N5N2PA' '0N512PA' '0N532PA' '0N5A2PA' '0N5NXPA' '0N51XPA' '0N53XPA'\n",
      " '0N5AXPA' '0N5NAPA' '0N51APA' '0N53APA' '02500PA' '025N1PA' '02511PA'\n",
      " '02531PA' '025A1PA' '025N2PA' '02512PA' '02532PA' '025A2PA' '025NXPA'\n",
      " '0251XPA' '0253XPA' '025AXPA' '025NAPA' '0251APA' '0253APA' '0NN00GC'\n",
      " '0NNN1GC' '0NN11GC' '0NN31GC' '0NNA1GC' '0NNN2GC' '0NN12GC' '0NN32GC'\n",
      " '0NNA2GC' '0NNNXGC' '0NN1XGC' '0NN3XGC' '0NNAXGC' '0NNNAGC' '0NN1AGC'\n",
      " '0NN3AGC' '0N100GC' '0N1N1GC' '0N111GC' '0N131GC' '0N1A1GC' '0N1N2GC'\n",
      " '0N112GC' '0N132GC' '0N1A2GC' '0N1NXGC' '0N11XGC' '0N13XGC' '0N1AXGC'\n",
      " '0N1NAGC' '0N11AGC' '0N13AGC' '02100GC' '021N1GC' '02111GC' '02131GC'\n",
      " '021A1GC' '021N2GC' '02112GC' '02132GC' '021A2GC' '021NXGC' '0211XGC'\n",
      " '0213XGC' '021AXGC' '021NAGC' '0211AGC' '0213AGC' '0N500GC' '0N5N1GC'\n",
      " '0N511GC' '0N531GC' '0N5A1GC' '0N5N2GC' '0N512GC' '0N532GC' '0N5A2GC'\n",
      " '0N5NXGC' '0N51XGC' '0N53XGC' '0N5AXGC' '0N5NAGC' '0N51AGC' '0N53AGC'\n",
      " '02500GC' '025N1GC' '02511GC' '02531GC' '025A1GC' '025N2GC' '02512GC'\n",
      " '02532GC' '025A2GC' '025NXGC' '0251XGC' '0253XGC' '025AXGC' '025NAGC'\n",
      " '0251AGC' '0253AGC' '0NN00GA' '0NNN1GA' '0NN11GA' '0NN31GA' '0NNA1GA'\n",
      " '0NNN2GA' '0NN12GA' '0NN32GA' '0NNA2GA' '0NNNXGA' '0NN1XGA' '0NN3XGA'\n",
      " '0NNAXGA' '0NNNAGA' '0NN1AGA' '0NN3AGA' '0N100GA' '0N1N1GA' '0N111GA'\n",
      " '0N131GA' '0N1A1GA' '0N1N2GA' '0N112GA' '0N132GA' '0N1A2GA' '0N1NXGA'\n",
      " '0N11XGA' '0N13XGA' '0N1AXGA' '0N1NAGA' '0N11AGA' '0N13AGA' '02100GA'\n",
      " '021N1GA' '02111GA' '02131GA' '021A1GA' '021N2GA' '02112GA' '02132GA'\n",
      " '021A2GA' '021NXGA' '0211XGA' '0213XGA' '021AXGA' '021NAGA' '0211AGA'\n",
      " '0213AGA' '0N500GA' '0N5N1GA' '0N511GA' '0N531GA' '0N5A1GA' '0N5N2GA'\n",
      " '0N512GA' '0N532GA' '0N5A2GA' '0N5NXGA' '0N51XGA' '0N53XGA' '0N5AXGA'\n",
      " '0N5NAGA' '0N51AGA' '0N53AGA' '02500GA' '025N1GA' '02511GA' '02531GA'\n",
      " '025A1GA' '025N2GA' '02512GA' '02532GA' '025A2GA' '025NXGA' '0251XGA'\n",
      " '0253XGA' '025AXGA' '025NAGA' '0251AGA' '0253AGA']\n"
     ]
    }
   ],
   "source": [
    "print(d1['id'].unique())"
   ]
  },
  {
   "cell_type": "code",
   "execution_count": 106,
   "id": "66e73df1",
   "metadata": {},
   "outputs": [
    {
     "name": "stdout",
     "output_type": "stream",
     "text": [
      "00101GA\n",
      "00102GA\n",
      "0010AGA\n",
      "0010XGA\n",
      "00501GA\n",
      "00502GA\n",
      "0050AGA\n",
      "0050XGA\n",
      "02101GA\n",
      "02102GA\n",
      "0210AGA\n",
      "0210XGA\n",
      "02501GA\n",
      "02502GA\n",
      "0250AGA\n",
      "0250XGA\n",
      "0NN01GA\n",
      "0NN02GA\n",
      "0NN0AGA\n",
      "0NN0XGA\n"
     ]
    }
   ],
   "source": [
    "for i in np.unique(collect_IDS):\n",
    "    if i[3] == '0':\n",
    "        print(i)"
   ]
  },
  {
   "cell_type": "code",
   "execution_count": 108,
   "id": "5d757c0c",
   "metadata": {},
   "outputs": [
    {
     "name": "stdout",
     "output_type": "stream",
     "text": [
      "0NN00GA\n",
      "0N100GA\n",
      "02100GA\n",
      "0N500GA\n",
      "02500GA\n"
     ]
    }
   ],
   "source": [
    "for i in d1['id'].unique():\n",
    "    if i[3] == '0'  and i[6] == 'A' and i[5] == 'G':\n",
    "        print(i)"
   ]
  },
  {
   "cell_type": "code",
   "execution_count": 107,
   "id": "87bf525d",
   "metadata": {},
   "outputs": [
    {
     "name": "stdout",
     "output_type": "stream",
     "text": [
      "0NNN1GA\n",
      "0NNN2GA\n",
      "0NNNXGA\n",
      "0NNNAGA\n",
      "0N1N1GA\n",
      "0N1N2GA\n",
      "0N1NXGA\n",
      "0N1NAGA\n",
      "021N1GA\n",
      "021N2GA\n",
      "021NXGA\n",
      "021NAGA\n",
      "0N5N1GA\n",
      "0N5N2GA\n",
      "0N5NXGA\n",
      "0N5NAGA\n",
      "025N1GA\n",
      "025N2GA\n",
      "025NXGA\n",
      "025NAGA\n"
     ]
    }
   ],
   "source": [
    "for i in d1['id'].unique():\n",
    "    if i[3] == 'N' and i[6] == 'A' and i[5] == 'G':\n",
    "        print(i)"
   ]
  },
  {
   "cell_type": "code",
   "execution_count": 102,
   "id": "6ad83ac7",
   "metadata": {
    "scrolled": false
   },
   "outputs": [
    {
     "data": {
      "text/html": [
       "<div>\n",
       "<style scoped>\n",
       "    .dataframe tbody tr th:only-of-type {\n",
       "        vertical-align: middle;\n",
       "    }\n",
       "\n",
       "    .dataframe tbody tr th {\n",
       "        vertical-align: top;\n",
       "    }\n",
       "\n",
       "    .dataframe thead th {\n",
       "        text-align: right;\n",
       "    }\n",
       "</style>\n",
       "<table border=\"1\" class=\"dataframe\">\n",
       "  <thead>\n",
       "    <tr style=\"text-align: right;\">\n",
       "      <th></th>\n",
       "      <th>id</th>\n",
       "      <th>motif_filter</th>\n",
       "      <th>min_sample_reads</th>\n",
       "      <th>#_of_cohort_samples</th>\n",
       "      <th>reads_per_cohort_sample</th>\n",
       "      <th>normal_cohort_id</th>\n",
       "      <th>#_normal_samples_allowed</th>\n",
       "      <th>reads_per_normal_sample</th>\n",
       "    </tr>\n",
       "  </thead>\n",
       "  <tbody>\n",
       "    <tr>\n",
       "      <th>192</th>\n",
       "      <td>02100GC</td>\n",
       "      <td>1</td>\n",
       "      <td>0</td>\n",
       "      <td>1</td>\n",
       "      <td>2</td>\n",
       "      <td>GTEx</td>\n",
       "      <td>0</td>\n",
       "      <td>0</td>\n",
       "    </tr>\n",
       "  </tbody>\n",
       "</table>\n",
       "</div>"
      ],
      "text/plain": [
       "          id  motif_filter  min_sample_reads  #_of_cohort_samples  \\\n",
       "192  02100GC             1                 0                    1   \n",
       "\n",
       "     reads_per_cohort_sample normal_cohort_id  #_normal_samples_allowed  \\\n",
       "192                        2             GTEx                         0   \n",
       "\n",
       "     reads_per_normal_sample  \n",
       "192                        0  "
      ]
     },
     "execution_count": 102,
     "metadata": {},
     "output_type": "execute_result"
    }
   ],
   "source": [
    "d1.loc[d1['id'] == '02100GC']"
   ]
  },
  {
   "cell_type": "code",
   "execution_count": 100,
   "id": "0e9e00f1",
   "metadata": {},
   "outputs": [
    {
     "data": {
      "text/html": [
       "<div>\n",
       "<style scoped>\n",
       "    .dataframe tbody tr th:only-of-type {\n",
       "        vertical-align: middle;\n",
       "    }\n",
       "\n",
       "    .dataframe tbody tr th {\n",
       "        vertical-align: top;\n",
       "    }\n",
       "\n",
       "    .dataframe thead th {\n",
       "        text-align: right;\n",
       "    }\n",
       "</style>\n",
       "<table border=\"1\" class=\"dataframe\">\n",
       "  <thead>\n",
       "    <tr style=\"text-align: right;\">\n",
       "      <th></th>\n",
       "      <th>id</th>\n",
       "      <th>motif_filter</th>\n",
       "      <th>min_sample_reads</th>\n",
       "      <th>#_of_cohort_samples</th>\n",
       "      <th>reads_per_cohort_sample</th>\n",
       "      <th>normal_cohort_id</th>\n",
       "      <th>#_normal_samples_allowed</th>\n",
       "      <th>reads_per_normal_sample</th>\n",
       "    </tr>\n",
       "  </thead>\n",
       "  <tbody>\n",
       "    <tr>\n",
       "      <th>117</th>\n",
       "      <td>021N2PA</td>\n",
       "      <td>0</td>\n",
       "      <td>0</td>\n",
       "      <td>1</td>\n",
       "      <td>2</td>\n",
       "      <td>paired</td>\n",
       "      <td>2</td>\n",
       "      <td>0</td>\n",
       "    </tr>\n",
       "  </tbody>\n",
       "</table>\n",
       "</div>"
      ],
      "text/plain": [
       "          id  motif_filter  min_sample_reads  #_of_cohort_samples  \\\n",
       "117  021N2PA             0                 0                    1   \n",
       "\n",
       "     reads_per_cohort_sample normal_cohort_id  #_normal_samples_allowed  \\\n",
       "117                        2           paired                         2   \n",
       "\n",
       "     reads_per_normal_sample  \n",
       "117                        0  "
      ]
     },
     "execution_count": 100,
     "metadata": {},
     "output_type": "execute_result"
    }
   ],
   "source": [
    "d1.loc[d1['id'] == '021N2PA']"
   ]
  },
  {
   "cell_type": "code",
   "execution_count": 101,
   "id": "8ab9a062",
   "metadata": {},
   "outputs": [
    {
     "data": {
      "text/html": [
       "<div>\n",
       "<style scoped>\n",
       "    .dataframe tbody tr th:only-of-type {\n",
       "        vertical-align: middle;\n",
       "    }\n",
       "\n",
       "    .dataframe tbody tr th {\n",
       "        vertical-align: top;\n",
       "    }\n",
       "\n",
       "    .dataframe thead th {\n",
       "        text-align: right;\n",
       "    }\n",
       "</style>\n",
       "<table border=\"1\" class=\"dataframe\">\n",
       "  <thead>\n",
       "    <tr style=\"text-align: right;\">\n",
       "      <th></th>\n",
       "      <th>id</th>\n",
       "      <th>motif_filter</th>\n",
       "      <th>min_sample_reads</th>\n",
       "      <th>#_of_cohort_samples</th>\n",
       "      <th>reads_per_cohort_sample</th>\n",
       "      <th>normal_cohort_id</th>\n",
       "      <th>#_normal_samples_allowed</th>\n",
       "      <th>reads_per_normal_sample</th>\n",
       "    </tr>\n",
       "  </thead>\n",
       "  <tbody>\n",
       "  </tbody>\n",
       "</table>\n",
       "</div>"
      ],
      "text/plain": [
       "Empty DataFrame\n",
       "Columns: [id, motif_filter, min_sample_reads, #_of_cohort_samples, reads_per_cohort_sample, normal_cohort_id, #_normal_samples_allowed, reads_per_normal_sample]\n",
       "Index: []"
      ]
     },
     "execution_count": 101,
     "metadata": {},
     "output_type": "execute_result"
    }
   ],
   "source": [
    "d1.loc[d1['id'] == '02102PA']"
   ]
  },
  {
   "cell_type": "code",
   "execution_count": null,
   "id": "82396c97",
   "metadata": {},
   "outputs": [],
   "source": []
  }
 ],
 "metadata": {
  "kernelspec": {
   "display_name": "Python 3 (ipykernel)",
   "language": "python",
   "name": "python3"
  },
  "language_info": {
   "codemirror_mode": {
    "name": "ipython",
    "version": 3
   },
   "file_extension": ".py",
   "mimetype": "text/x-python",
   "name": "python",
   "nbconvert_exporter": "python",
   "pygments_lexer": "ipython3",
   "version": "3.9.13"
  }
 },
 "nbformat": 4,
 "nbformat_minor": 5
}
