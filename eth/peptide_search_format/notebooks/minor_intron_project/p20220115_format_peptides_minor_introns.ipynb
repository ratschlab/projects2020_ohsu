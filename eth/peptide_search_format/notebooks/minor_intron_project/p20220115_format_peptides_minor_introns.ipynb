{
 "cells": [
  {
   "cell_type": "code",
   "execution_count": 1,
   "metadata": {
    "ExecuteTime": {
     "end_time": "2022-07-11T12:17:21.454576Z",
     "start_time": "2022-07-11T12:17:20.822089Z"
    }
   },
   "outputs": [],
   "source": [
    "import os \n",
    "import pandas as pd\n",
    "from collections import defaultdict\n",
    "import numpy as np \n",
    "import glob\n",
    "from helpers_minor_intron import * "
   ]
  },
  {
   "cell_type": "markdown",
   "metadata": {
    "ExecuteTime": {
     "end_time": "2022-06-10T16:33:59.242716Z",
     "start_time": "2022-06-10T16:33:59.161360Z"
    }
   },
   "source": [
    "This notebook performs the following task: * Given a kmer_metadata file, generate a fasta file with metadata relevant for the tryptic digestion\n"
   ]
  },
  {
   "cell_type": "code",
   "execution_count": 2,
   "metadata": {
    "ExecuteTime": {
     "end_time": "2022-07-11T12:17:21.460411Z",
     "start_time": "2022-07-11T12:17:21.457063Z"
    }
   },
   "outputs": [],
   "source": [
    "experiment_folder = '/cluster/work/grlab/projects/projects2022-PCa_Immuno/peptides_generation/v3_84dc237_conf2_annotFrame_cap0_runs'"
   ]
  },
  {
   "cell_type": "code",
   "execution_count": 3,
   "metadata": {
    "ExecuteTime": {
     "end_time": "2022-07-11T12:17:21.514854Z",
     "start_time": "2022-07-11T12:17:21.511685Z"
    }
   },
   "outputs": [],
   "source": [
    "sample_file = '/cluster/work/grlab/projects/projects2022-PCa_Immuno/samples_list/PCa_samples_20220616'"
   ]
  },
  {
   "cell_type": "code",
   "execution_count": 4,
   "metadata": {
    "ExecuteTime": {
     "end_time": "2022-07-11T12:17:21.720714Z",
     "start_time": "2022-07-11T12:17:21.708375Z"
    }
   },
   "outputs": [],
   "source": [
    "samples = pd.read_csv(sample_file, names = ['sample'])"
   ]
  },
  {
   "cell_type": "code",
   "execution_count": 5,
   "metadata": {
    "ExecuteTime": {
     "end_time": "2022-07-11T12:17:21.914681Z",
     "start_time": "2022-07-11T12:17:21.889266Z"
    }
   },
   "outputs": [
    {
     "data": {
      "text/html": [
       "<div>\n",
       "<style scoped>\n",
       "    .dataframe tbody tr th:only-of-type {\n",
       "        vertical-align: middle;\n",
       "    }\n",
       "\n",
       "    .dataframe tbody tr th {\n",
       "        vertical-align: top;\n",
       "    }\n",
       "\n",
       "    .dataframe thead th {\n",
       "        text-align: right;\n",
       "    }\n",
       "</style>\n",
       "<table border=\"1\" class=\"dataframe\">\n",
       "  <thead>\n",
       "    <tr style=\"text-align: right;\">\n",
       "      <th></th>\n",
       "      <th>sample</th>\n",
       "    </tr>\n",
       "  </thead>\n",
       "  <tbody>\n",
       "    <tr>\n",
       "      <th>0</th>\n",
       "      <td>C_scr_96_n1.all</td>\n",
       "    </tr>\n",
       "    <tr>\n",
       "      <th>1</th>\n",
       "      <td>C_scr_96_n2.all</td>\n",
       "    </tr>\n",
       "    <tr>\n",
       "      <th>2</th>\n",
       "      <td>C_scr_96_n3.all</td>\n",
       "    </tr>\n",
       "    <tr>\n",
       "      <th>3</th>\n",
       "      <td>C_scr_96_n4.all</td>\n",
       "    </tr>\n",
       "    <tr>\n",
       "      <th>4</th>\n",
       "      <td>C_siU6atac_96_n1.all</td>\n",
       "    </tr>\n",
       "  </tbody>\n",
       "</table>\n",
       "</div>"
      ],
      "text/plain": [
       "                 sample\n",
       "0       C_scr_96_n1.all\n",
       "1       C_scr_96_n2.all\n",
       "2       C_scr_96_n3.all\n",
       "3       C_scr_96_n4.all\n",
       "4  C_siU6atac_96_n1.all"
      ]
     },
     "execution_count": 5,
     "metadata": {},
     "output_type": "execute_result"
    }
   ],
   "source": [
    "samples.head()"
   ]
  },
  {
   "cell_type": "code",
   "execution_count": 6,
   "metadata": {
    "ExecuteTime": {
     "end_time": "2022-07-11T12:17:22.402881Z",
     "start_time": "2022-07-11T12:17:22.398190Z"
    }
   },
   "outputs": [],
   "source": [
    "sample = samples.iloc[0][0]"
   ]
  },
  {
   "cell_type": "markdown",
   "metadata": {},
   "source": [
    "# Preprocess the annotation \n",
    "### Input: Annotation"
   ]
  },
  {
   "cell_type": "code",
   "execution_count": 7,
   "metadata": {
    "ExecuteTime": {
     "end_time": "2022-07-11T12:17:23.783004Z",
     "start_time": "2022-07-11T12:17:23.778987Z"
    }
   },
   "outputs": [],
   "source": [
    "ann_path = '/cluster/work/grlab/projects/projects2022-PCa_Immuno/annotation/gencode.v32.annotation.gtf'"
   ]
  },
  {
   "cell_type": "code",
   "execution_count": 8,
   "metadata": {
    "ExecuteTime": {
     "end_time": "2022-07-11T12:17:24.407921Z",
     "start_time": "2022-07-11T12:17:24.076253Z"
    }
   },
   "outputs": [],
   "source": [
    "from immunopepper.preprocess import attribute_item_to_dict\n",
    "from immunopepper.preprocess import leq_strand"
   ]
  },
  {
   "cell_type": "code",
   "execution_count": 9,
   "metadata": {
    "ExecuteTime": {
     "end_time": "2022-07-11T12:17:57.802554Z",
     "start_time": "2022-07-11T12:17:24.410539Z"
    }
   },
   "outputs": [],
   "source": [
    "# Partial copy From Immunopepper preprocess.py \n",
    "transcript_to_gene_dict = {}    # transcript -> gene id\n",
    "\n",
    "\n",
    "gene_to_transcript_dict = {}    # gene_id -> list of transcripts\n",
    "gene_cds_begin_dict = {}        # gene -> list of first CDS exons\n",
    "\n",
    "transcript_to_cds_dict = {}     # transcript -> list of CDS exons\n",
    "transcript_cds_begin_dict = {}  # transcript -> first exon of the CDS\n",
    "transcript_to_strand = {}\n",
    "\n",
    "file_type = ann_path.split('.')[-1]\n",
    "chromesome_set = set()\n",
    "# collect information from annotation file\n",
    "for line in open(ann_path, 'r'):\n",
    "    if line[0] == '#':\n",
    "        continue\n",
    "    item = line.strip().split('\\t')\n",
    "    chromesome_set.add(item[0])\n",
    "    feature_type = item[2]\n",
    "    attribute_item = item[-1]\n",
    "    attribute_dict = attribute_item_to_dict(attribute_item, file_type, feature_type)\n",
    "    # store relationship between gene ID and its transcript IDs\n",
    "    if feature_type in ['transcript', 'mRNA']:\n",
    "        gene_id = attribute_dict['gene_id']\n",
    "        transcript_id = attribute_dict['transcript_id']\n",
    "        if attribute_dict['gene_type'] != 'protein_coding' or attribute_dict['transcript_type']  != 'protein_coding':\n",
    "            continue\n",
    "        assert (transcript_id not in transcript_to_gene_dict)\n",
    "        transcript_to_gene_dict[transcript_id] = gene_id\n",
    "        if gene_id in gene_to_transcript_dict and transcript_id not in gene_to_transcript_dict[gene_id]:\n",
    "            gene_to_transcript_dict[gene_id].append(transcript_id)\n",
    "        else:\n",
    "            gene_to_transcript_dict[gene_id] = [transcript_id]\n",
    "        # Todo python is 0-based while gene annotation file(.gtf, .vcf, .maf) is one based\n",
    "    elif feature_type == \"CDS\":\n",
    "        parent_ts = attribute_dict['transcript_id']\n",
    "        strand_mode = item[6]\n",
    "        cds_left = int(item[3])-1\n",
    "        cds_right = int(item[4])\n",
    "        frameshift = int(item[7])\n",
    "        transcript_to_strand[parent_ts] = strand_mode\n",
    "        if parent_ts in transcript_to_cds_dict:\n",
    "            transcript_to_cds_dict[parent_ts].append((cds_left, cds_right, frameshift))\n",
    "        else:\n",
    "            transcript_to_cds_dict[parent_ts] = [(cds_left, cds_right, frameshift)]\n",
    "        if strand_mode == \"+\" :\n",
    "            cds_start, cds_stop = cds_left, cds_right\n",
    "        else:\n",
    "            cds_start, cds_stop = cds_right, cds_left\n",
    "\n",
    "        # we only consider the start of the whole CoDing Segment\n",
    "        if parent_ts not in transcript_cds_begin_dict or \\\n",
    "           leq_strand(cds_start, transcript_cds_begin_dict[parent_ts][0], strand_mode):\n",
    "            transcript_cds_begin_dict[parent_ts] = (cds_start, cds_stop, item)\n",
    "\n",
    "# collect first CDS exons for all transcripts of a gene\n",
    "for ts_key in transcript_to_gene_dict:\n",
    "    target_gene = transcript_to_gene_dict[ts_key]\n",
    "    if target_gene not in gene_cds_begin_dict:\n",
    "        gene_cds_begin_dict[target_gene] = []\n",
    "    if ts_key in transcript_cds_begin_dict:\n",
    "        gene_cds_begin_dict[target_gene].append(transcript_cds_begin_dict[ts_key])\n"
   ]
  },
  {
   "cell_type": "code",
   "execution_count": 10,
   "metadata": {
    "ExecuteTime": {
     "end_time": "2022-07-11T12:17:58.226454Z",
     "start_time": "2022-07-11T12:17:57.805701Z"
    }
   },
   "outputs": [],
   "source": [
    "# Custom collection of CDS \n",
    "transcript_cds_begin_dict_bis = {}\n",
    "transcript_cds_end_dict_bis = {}\n",
    "\n",
    "gene_cds_begin_dict_bis = defaultdict(list)\n",
    "gene_cds_end_dict_bis = defaultdict(list)\n",
    "\n",
    "# will be in reading order \n",
    "for ts_key in transcript_to_cds_dict:\n",
    "    if transcript_to_strand[ts_key] == '+': # '+'\n",
    "        transcript_cds_begin_dict_bis[ts_key] = (transcript_to_cds_dict[ts_key][0][0],\n",
    "                                                 transcript_to_cds_dict[ts_key][0][1], '+')\n",
    "        transcript_cds_end_dict_bis[ts_key] = (transcript_to_cds_dict[ts_key][-1][0],\n",
    "                                                 transcript_to_cds_dict[ts_key][-1][1], '+')\n",
    "        \n",
    "\n",
    "    else: \n",
    "        transcript_cds_begin_dict_bis[ts_key] = (transcript_to_cds_dict[ts_key][0][1],\n",
    "                                                 transcript_to_cds_dict[ts_key][0][0], '-')\n",
    "        transcript_cds_end_dict_bis[ts_key] = (transcript_to_cds_dict[ts_key][-1][1],\n",
    "                                                 transcript_to_cds_dict[ts_key][-1][0], '-')\n",
    "    \n",
    "    assert(transcript_cds_begin_dict_bis[ts_key][0] == transcript_cds_begin_dict[ts_key][0])\n",
    "    assert(transcript_cds_begin_dict_bis[ts_key][1] == transcript_cds_begin_dict[ts_key][1])\n",
    "\n",
    "# collect first, last CDS exons for all transcripts of a gene\n",
    "for ts_key in transcript_to_gene_dict:\n",
    "    target_gene = transcript_to_gene_dict[ts_key]\n",
    "    gene_cds_begin_dict_bis[target_gene].append(transcript_cds_begin_dict_bis[ts_key])\n",
    "    gene_cds_end_dict_bis[target_gene].append(transcript_cds_end_dict_bis[ts_key])"
   ]
  },
  {
   "cell_type": "markdown",
   "metadata": {},
   "source": [
    "# Format the peptide raw file to fasta \n"
   ]
  },
  {
   "cell_type": "code",
   "execution_count": 11,
   "metadata": {
    "ExecuteTime": {
     "end_time": "2022-07-11T12:17:58.232441Z",
     "start_time": "2022-07-11T12:17:58.228691Z"
    }
   },
   "outputs": [],
   "source": [
    "## Format and create flags \n",
    "\n",
    "kmer_len = 9 \n",
    "file_save_experiement = None \n",
    "\n",
    "print_ = False\n",
    "test_query = 'MRGQRSLLLGPARLCLRLLLLLGYRRRCPPLLRGLVQRWRYGKVCLRSLLYNSFGGSDTAVDAAFEPVYWLVDNVIRWFGVVSDVQGAGKGVLWGAEGHVSHRPNPGFGGRPPPPGKLRVSFGHSSCAMSP'\n",
    "subset_run_test = False\n",
    "write_= False\n"
   ]
  },
  {
   "cell_type": "code",
   "execution_count": 12,
   "metadata": {
    "ExecuteTime": {
     "end_time": "2022-07-11T12:18:59.929787Z",
     "start_time": "2022-07-11T12:17:58.235741Z"
    }
   },
   "outputs": [
    {
     "name": "stdout",
     "output_type": "stream",
     "text": [
      "C_scr_96_n1.all\n",
      "open /cluster/work/grlab/projects/projects2022-PCa_Immuno/peptides_generation/v3_84dc237_conf2_annotFrame_cap0_runs/C_scr_96_n1.all_mutNone/ref_sample_peptides_meta.mig_filtered.pq\n",
      "C_scr_96_n2.all\n",
      "open /cluster/work/grlab/projects/projects2022-PCa_Immuno/peptides_generation/v3_84dc237_conf2_annotFrame_cap0_runs/C_scr_96_n2.all_mutNone/ref_sample_peptides_meta.mig_filtered.pq\n",
      "C_scr_96_n3.all\n",
      "open /cluster/work/grlab/projects/projects2022-PCa_Immuno/peptides_generation/v3_84dc237_conf2_annotFrame_cap0_runs/C_scr_96_n3.all_mutNone/ref_sample_peptides_meta.mig_filtered.pq\n",
      "C_scr_96_n4.all\n",
      "open /cluster/work/grlab/projects/projects2022-PCa_Immuno/peptides_generation/v3_84dc237_conf2_annotFrame_cap0_runs/C_scr_96_n4.all_mutNone/ref_sample_peptides_meta.mig_filtered.pq\n",
      "C_siU6atac_96_n1.all\n",
      "open /cluster/work/grlab/projects/projects2022-PCa_Immuno/peptides_generation/v3_84dc237_conf2_annotFrame_cap0_runs/C_siU6atac_96_n1.all_mutNone/ref_sample_peptides_meta.mig_filtered.pq\n",
      "C_siU6atac_96_n2.all\n",
      "open /cluster/work/grlab/projects/projects2022-PCa_Immuno/peptides_generation/v3_84dc237_conf2_annotFrame_cap0_runs/C_siU6atac_96_n2.all_mutNone/ref_sample_peptides_meta.mig_filtered.pq\n",
      "C_siU6atac_96_n3.all\n",
      "open /cluster/work/grlab/projects/projects2022-PCa_Immuno/peptides_generation/v3_84dc237_conf2_annotFrame_cap0_runs/C_siU6atac_96_n3.all_mutNone/ref_sample_peptides_meta.mig_filtered.pq\n",
      "C_siU6atac_96_n4.all\n",
      "open /cluster/work/grlab/projects/projects2022-PCa_Immuno/peptides_generation/v3_84dc237_conf2_annotFrame_cap0_runs/C_siU6atac_96_n4.all_mutNone/ref_sample_peptides_meta.mig_filtered.pq\n",
      "L_scr_96_n1.all\n",
      "open /cluster/work/grlab/projects/projects2022-PCa_Immuno/peptides_generation/v3_84dc237_conf2_annotFrame_cap0_runs/L_scr_96_n1.all_mutNone/ref_sample_peptides_meta.mig_filtered.pq\n",
      "L_scr_96_n2.all\n",
      "open /cluster/work/grlab/projects/projects2022-PCa_Immuno/peptides_generation/v3_84dc237_conf2_annotFrame_cap0_runs/L_scr_96_n2.all_mutNone/ref_sample_peptides_meta.mig_filtered.pq\n",
      "L_scr_96_n3.all\n",
      "open /cluster/work/grlab/projects/projects2022-PCa_Immuno/peptides_generation/v3_84dc237_conf2_annotFrame_cap0_runs/L_scr_96_n3.all_mutNone/ref_sample_peptides_meta.mig_filtered.pq\n",
      "L_scr_96_n4.all\n",
      "open /cluster/work/grlab/projects/projects2022-PCa_Immuno/peptides_generation/v3_84dc237_conf2_annotFrame_cap0_runs/L_scr_96_n4.all_mutNone/ref_sample_peptides_meta.mig_filtered.pq\n",
      "L_siU6atac_96_n1.all\n",
      "open /cluster/work/grlab/projects/projects2022-PCa_Immuno/peptides_generation/v3_84dc237_conf2_annotFrame_cap0_runs/L_siU6atac_96_n1.all_mutNone/ref_sample_peptides_meta.mig_filtered.pq\n",
      "L_siU6atac_96_n2.all\n",
      "open /cluster/work/grlab/projects/projects2022-PCa_Immuno/peptides_generation/v3_84dc237_conf2_annotFrame_cap0_runs/L_siU6atac_96_n2.all_mutNone/ref_sample_peptides_meta.mig_filtered.pq\n",
      "L_siU6atac_96_n3.all\n",
      "open /cluster/work/grlab/projects/projects2022-PCa_Immuno/peptides_generation/v3_84dc237_conf2_annotFrame_cap0_runs/L_siU6atac_96_n3.all_mutNone/ref_sample_peptides_meta.mig_filtered.pq\n",
      "L_siU6atac_96_n4.all\n",
      "open /cluster/work/grlab/projects/projects2022-PCa_Immuno/peptides_generation/v3_84dc237_conf2_annotFrame_cap0_runs/L_siU6atac_96_n4.all_mutNone/ref_sample_peptides_meta.mig_filtered.pq\n",
      "P_scr_96_n1.all\n",
      "open /cluster/work/grlab/projects/projects2022-PCa_Immuno/peptides_generation/v3_84dc237_conf2_annotFrame_cap0_runs/P_scr_96_n1.all_mutNone/ref_sample_peptides_meta.mig_filtered.pq\n",
      "P_scr_96_n2.all\n",
      "open /cluster/work/grlab/projects/projects2022-PCa_Immuno/peptides_generation/v3_84dc237_conf2_annotFrame_cap0_runs/P_scr_96_n2.all_mutNone/ref_sample_peptides_meta.mig_filtered.pq\n",
      "P_scr_96_n3.all\n",
      "open /cluster/work/grlab/projects/projects2022-PCa_Immuno/peptides_generation/v3_84dc237_conf2_annotFrame_cap0_runs/P_scr_96_n3.all_mutNone/ref_sample_peptides_meta.mig_filtered.pq\n",
      "P_scr_96_n4.all\n",
      "open /cluster/work/grlab/projects/projects2022-PCa_Immuno/peptides_generation/v3_84dc237_conf2_annotFrame_cap0_runs/P_scr_96_n4.all_mutNone/ref_sample_peptides_meta.mig_filtered.pq\n",
      "P_siU6atac_96_n1.all\n",
      "open /cluster/work/grlab/projects/projects2022-PCa_Immuno/peptides_generation/v3_84dc237_conf2_annotFrame_cap0_runs/P_siU6atac_96_n1.all_mutNone/ref_sample_peptides_meta.mig_filtered.pq\n",
      "P_siU6atac_96_n2.all\n",
      "open /cluster/work/grlab/projects/projects2022-PCa_Immuno/peptides_generation/v3_84dc237_conf2_annotFrame_cap0_runs/P_siU6atac_96_n2.all_mutNone/ref_sample_peptides_meta.mig_filtered.pq\n",
      "P_siU6atac_96_n3.all\n",
      "open /cluster/work/grlab/projects/projects2022-PCa_Immuno/peptides_generation/v3_84dc237_conf2_annotFrame_cap0_runs/P_siU6atac_96_n3.all_mutNone/ref_sample_peptides_meta.mig_filtered.pq\n",
      "P_siU6atac_96_n4.all\n",
      "open /cluster/work/grlab/projects/projects2022-PCa_Immuno/peptides_generation/v3_84dc237_conf2_annotFrame_cap0_runs/P_siU6atac_96_n4.all_mutNone/ref_sample_peptides_meta.mig_filtered.pq\n",
      "R_scr_96_n1.all\n",
      "open /cluster/work/grlab/projects/projects2022-PCa_Immuno/peptides_generation/v3_84dc237_conf2_annotFrame_cap0_runs/R_scr_96_n1.all_mutNone/ref_sample_peptides_meta.mig_filtered.pq\n",
      "R_scr_96_n2.all\n",
      "open /cluster/work/grlab/projects/projects2022-PCa_Immuno/peptides_generation/v3_84dc237_conf2_annotFrame_cap0_runs/R_scr_96_n2.all_mutNone/ref_sample_peptides_meta.mig_filtered.pq\n",
      "R_scr_96_n3.all\n",
      "open /cluster/work/grlab/projects/projects2022-PCa_Immuno/peptides_generation/v3_84dc237_conf2_annotFrame_cap0_runs/R_scr_96_n3.all_mutNone/ref_sample_peptides_meta.mig_filtered.pq\n",
      "R_scr_96_n4.all\n",
      "open /cluster/work/grlab/projects/projects2022-PCa_Immuno/peptides_generation/v3_84dc237_conf2_annotFrame_cap0_runs/R_scr_96_n4.all_mutNone/ref_sample_peptides_meta.mig_filtered.pq\n",
      "R_siU6atac_96_n1.all\n",
      "open /cluster/work/grlab/projects/projects2022-PCa_Immuno/peptides_generation/v3_84dc237_conf2_annotFrame_cap0_runs/R_siU6atac_96_n1.all_mutNone/ref_sample_peptides_meta.mig_filtered.pq\n",
      "R_siU6atac_96_n2.all\n",
      "open /cluster/work/grlab/projects/projects2022-PCa_Immuno/peptides_generation/v3_84dc237_conf2_annotFrame_cap0_runs/R_siU6atac_96_n2.all_mutNone/ref_sample_peptides_meta.mig_filtered.pq\n",
      "R_siU6atac_96_n3.all\n",
      "open /cluster/work/grlab/projects/projects2022-PCa_Immuno/peptides_generation/v3_84dc237_conf2_annotFrame_cap0_runs/R_siU6atac_96_n3.all_mutNone/ref_sample_peptides_meta.mig_filtered.pq\n",
      "R_siU6atac_96_n4.all\n",
      "open /cluster/work/grlab/projects/projects2022-PCa_Immuno/peptides_generation/v3_84dc237_conf2_annotFrame_cap0_runs/R_siU6atac_96_n4.all_mutNone/ref_sample_peptides_meta.mig_filtered.pq\n"
     ]
    }
   ],
   "source": [
    "jx_to_expression = [[],[],[],[]]\n",
    "\n",
    "for id_sample, sample in enumerate(samples['sample']):\n",
    "    pep_idx = 0 \n",
    "    print(sample)\n",
    "    file_meta = os.path.join(experiment_folder,\n",
    "                             f'{sample}_mutNone/ref_sample_peptides_meta.mig_filtered.pq')\n",
    "\n",
    "    file_save = os.path.join(experiment_folder,\n",
    "                             f'{sample}_mutNone/ref_sample_peptides_meta.mig_filtered.fasta')\n",
    "\n",
    "\n",
    "    if file_save_experiement is not None: \n",
    "        ep = open(file_save_experiement, 'w') # Experiment file to save\n",
    "        write_peptide_to_experiment(ep, header=True)\n",
    "    with open(file_save, 'w') as sp: # Fasta file to save\n",
    "        fp = pd.read_parquet(file_meta) # metadata from immunopepper as parquet\n",
    "        print(\"open {}\".format(file_meta))\n",
    "        ### Iterate over peptides \n",
    "        for j, line in fp.iterrows():\n",
    "            peptide_junctions = set() #each line is one peptide / peptides matching a kmer\n",
    "                                      #each peptide contains at most one kmer\n",
    "            # --- TEST ---\n",
    "            if subset_run_test and (test_query in line['peptide']):\n",
    "                print(f'\\n METADATA (ImmunoPepper derived): \\n {line}')\n",
    "                break\n",
    "            # --- END TEST ---\n",
    "\n",
    "\n",
    "            pep, pep_seq, pep_gene, pep_orig_coordS, pep_modif_coordS, \\\n",
    "            strand, has_stop_codon, readFrameAnnotated, \\\n",
    "            junctionAnnotated, kmer_type, is_isolated, \\\n",
    "            junctionExpr, minorIntron = extract_peptide_fields_pq(line)\n",
    "        \n",
    "            # some peptides do not contain a junction\n",
    "            if int(is_isolated):\n",
    "                continue \n",
    "\n",
    "            kmer = None\n",
    "\n",
    "            # Genomic coordinates : get include 3' or 5' flag \n",
    "            #[ iterate only needed for old (May 2020-June 2022) \n",
    "            # collapsed version of peptide files with multiple coordinates \n",
    "            # searated by /]\n",
    "            for pep_orig_coord in pep_orig_coordS:\n",
    "                pep_orig_coord = split_coord(pep_orig_coord)\n",
    "                start_cds = [ first_exon[0] for first_exon in \n",
    "                             gene_cds_begin_dict_bis[pep_gene] ] \n",
    "                end_cds = [ last_exon[1] for last_exon in \n",
    "                           gene_cds_end_dict_bis[pep_gene] ] \n",
    "                pep_start, pep_end = extract_end_starts(pep_orig_coord, strand)\n",
    "                pep_5include, pep_3include = get_include_flag(start_cds, end_cds, \n",
    "                                                              pep_start, pep_end, \n",
    "                                                              has_stop_codon )\n",
    "\n",
    "            # Modified genomic coordinates: get \n",
    "            # \"junction position\" flag and \"between codon\" flag\n",
    "            # and \"genomic coordinates\"\n",
    "            #[ iterate only needed for old (May 2020-June 2022) \n",
    "            # collapsed version of peptide files with multiple coordinates \n",
    "            # searated by /]\n",
    "            for id_modi_coord, pep_modi_coord in enumerate(pep_modif_coordS):\n",
    "                pep_modi_coord = split_coord(pep_modi_coord)\n",
    "                if len(pep_modi_coord) <=2:\n",
    "                    continue\n",
    "                jx_list, shift_list, \\\n",
    "                jx_list_ori = get_nt_len_with_aa_shift(pep_modi_coord)\n",
    "\n",
    "                aa_junction_pos, between_codons, \\\n",
    "                aa_junction_pos1, between_codons1, \\\n",
    "                aa_junction_pos1_from_start = get_aaPos_betweenFlag(shift_list,\n",
    "                                                                          jx_list)\n",
    "\n",
    "                genome_junction_pos, \\\n",
    "                genome_junction_pos1 = get_genomic_coordinates(pep_modi_coord, strand)\n",
    "\n",
    "                # --- TEST ---\n",
    "                if subset_run_test and (test_query not in pep_seq): \n",
    "                    continue\n",
    "                # --- END TEST ---\n",
    "\n",
    "                print_stats(print_, kmer, pep_seq, strand, pep_orig_coord, \n",
    "                            pep_modi_coord, jx_list, jx_list_ori, genome_junction_pos,\n",
    "                            genome_junction_pos1, aa_junction_pos, aa_junction_pos1, \n",
    "                            between_codons, between_codons1)\n",
    "\n",
    "                jx_pep1, jx_pep2 = cut_peptides(pep_seq, jx_list, between_codons,\n",
    "                                                between_codons1, aa_junction_pos, \n",
    "                                                aa_junction_pos1, \n",
    "                                                aa_junction_pos1_from_start, \n",
    "                                                print_=print_)\n",
    "\n",
    "                # skip duplicates\n",
    "                if (genome_junction_pos in peptide_junctions) and \\\n",
    "                   (genome_junction_pos1 in peptide_junctions):\n",
    "                    continue\n",
    "                else:\n",
    "                    peptide_junctions.add(genome_junction_pos)\n",
    "                    peptide_junctions.add(genome_junction_pos1)\n",
    "                \n",
    "                \n",
    "                # write fasta file \n",
    "                pep_idx, jx_to_expression = write_fasta_option_MI(sp, pep_seq, \n",
    "                            pep_idx, aa_junction_pos,\n",
    "                            aa_junction_pos1_from_start, between_codons, \n",
    "                            between_codons1, pep_5include, pep_3include, \n",
    "                            pep_gene, strand, \n",
    "                            genome_junction_pos, genome_junction_pos1, \n",
    "                            kmer, jx_pep1, jx_pep2, \n",
    "                            readFrameAnnotated, \\\n",
    "                            junctionAnnotated, \\\n",
    "                            kmer_type, minorIntron, junctionExpr, sample, \n",
    "                            jx_to_expression, \\\n",
    "                            do_write=write_)\n",
    "                if file_save_experiement is not None: \n",
    "                    write_peptide_to_experiment(ep, pep_idx, pep_seq,';'.join(\n",
    "                        kmer_file_idx[kmer]), peptide_junctions) \n",
    "\n",
    "#                 expression_dict(pep_seq, id_sample, n_samples, \n",
    "#                                 junctionExpr, genome_junction_pos, \n",
    "#                                 genome_junction_pos1, id_modi_coord, \n",
    "#                                 pep_orig_coord)\n",
    "    if write_:\n",
    "        print('written to:')\n",
    "        print(file_save_experiement)\n",
    "        print(file_save)\n",
    "        if file_save_experiement is not None:\n",
    "            ep.close()\n"
   ]
  },
  {
   "cell_type": "code",
   "execution_count": null,
   "metadata": {
    "ExecuteTime": {
     "end_time": "2022-07-11T11:52:40.897322Z",
     "start_time": "2022-07-11T11:52:09.010Z"
    }
   },
   "outputs": [],
   "source": [
    "%debug"
   ]
  },
  {
   "cell_type": "code",
   "execution_count": null,
   "metadata": {
    "ExecuteTime": {
     "end_time": "2022-07-11T11:52:40.898818Z",
     "start_time": "2022-07-11T11:52:09.433Z"
    }
   },
   "outputs": [],
   "source": [
    "expression_table = pd.DataFrame(jx_to_expression).T"
   ]
  },
  {
   "cell_type": "code",
   "execution_count": null,
   "metadata": {
    "ExecuteTime": {
     "end_time": "2022-06-27T17:51:31.823391Z",
     "start_time": "2022-06-27T17:51:31.802828Z"
    }
   },
   "outputs": [],
   "source": [
    "expression_table.columns = ['junction_coordinates', 'peptide_sequence', 'sample', 'expression']"
   ]
  },
  {
   "cell_type": "code",
   "execution_count": null,
   "metadata": {
    "ExecuteTime": {
     "end_time": "2022-06-27T17:51:31.934462Z",
     "start_time": "2022-06-27T17:51:31.828140Z"
    }
   },
   "outputs": [],
   "source": [
    "expression_table.head()\n"
   ]
  },
  {
   "cell_type": "code",
   "execution_count": null,
   "metadata": {
    "ExecuteTime": {
     "end_time": "2022-06-27T17:51:32.041146Z",
     "start_time": "2022-06-27T17:51:31.936522Z"
    }
   },
   "outputs": [],
   "source": [
    "expression_table = expression_table.drop_duplicates()"
   ]
  },
  {
   "cell_type": "code",
   "execution_count": null,
   "metadata": {
    "ExecuteTime": {
     "end_time": "2022-06-27T17:51:32.314715Z",
     "start_time": "2022-06-27T17:51:32.043033Z"
    }
   },
   "outputs": [],
   "source": [
    " expression_table.to_csv(os.path.join(experiment_folder, 'expression_counts_minor_Introns_unormalized.tsv'), index = None, sep = '\\t')"
   ]
  },
  {
   "cell_type": "code",
   "execution_count": null,
   "metadata": {
    "ExecuteTime": {
     "end_time": "2022-06-27T17:51:32.322702Z",
     "start_time": "2022-06-27T17:51:32.316417Z"
    }
   },
   "outputs": [],
   "source": [
    "expression_table.shape"
   ]
  },
  {
   "cell_type": "code",
   "execution_count": null,
   "metadata": {
    "ExecuteTime": {
     "end_time": "2022-06-27T17:54:33.855069Z",
     "start_time": "2022-06-27T17:54:33.803114Z"
    }
   },
   "outputs": [],
   "source": [
    "print(os.path.join(experiment_folder, 'expression_counts_minor_Introns_unormalized.tsv'))"
   ]
  },
  {
   "cell_type": "code",
   "execution_count": null,
   "metadata": {},
   "outputs": [],
   "source": []
  }
 ],
 "metadata": {
  "kernelspec": {
   "display_name": "Python 3 (ipykernel)",
   "language": "python",
   "name": "python3"
  },
  "language_info": {
   "codemirror_mode": {
    "name": "ipython",
    "version": 3
   },
   "file_extension": ".py",
   "mimetype": "text/x-python",
   "name": "python",
   "nbconvert_exporter": "python",
   "pygments_lexer": "ipython3",
   "version": "3.9.13"
  }
 },
 "nbformat": 4,
 "nbformat_minor": 4
}
