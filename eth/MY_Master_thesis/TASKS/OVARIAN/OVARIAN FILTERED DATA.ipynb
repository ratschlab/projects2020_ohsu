{
 "cells": [
  {
   "cell_type": "markdown",
   "id": "60e31555-1610-4c80-a609-8e50f663a796",
   "metadata": {},
   "source": [
    "## Table of Contents\n",
    "- [Import libraries](#1)\n",
    "- [Process tables](#2)"
   ]
  },
  {
   "cell_type": "markdown",
   "id": "12434eb2-54f2-40ac-97bf-55c4bbf06962",
   "metadata": {},
   "source": [
    "<a name='1'></a>\n",
    "## Import libraries"
   ]
  },
  {
   "cell_type": "markdown",
   "id": "afce25a5-4510-4a21-a7b9-d8362913a734",
   "metadata": {},
   "source": [
    "The script is focused on setting up an environment for data analysis and visualization. It imports a suite of libraries and modules that are essential for statistical computing, data manipulation, progress tracking, file system operations, and generating visualizations such as plots and Venn diagrams. The specific libraries imported include pandas for data structures, numpy for numerical operations, tqdm for progress bars, glob for file path retrieval, os for operating system interaction, matplotlib and seaborn for plotting and graphical representations, and matplotlib_venn for creating Venn diagrams.\n",
    "\n",
    "Additionally, the script modifies the system path to include a custom directory, which suggests that the script will use additional custom modules and configuration settings located in this directory. These custom modules, imported with wildcard imports (from config import * and from functions import *)\n"
   ]
  },
  {
   "cell_type": "code",
   "execution_count": 2,
   "id": "9a9429e9",
   "metadata": {},
   "outputs": [],
   "source": [
    "# %load /cluster/home/myurchikova/github/projects2020_ohsu/eth/learning_Master_thesis/TASKS/func/base_imports.py\n",
    "import pandas as pd\n",
    "import numpy as np\n",
    "import tqdm \n",
    "import glob\n",
    "import os\n",
    "import matplotlib\n",
    "import matplotlib.pyplot as plt\n",
    "import seaborn as sns\n",
    "import tarfile\n",
    "import re\n",
    "from matplotlib_venn import venn2, venn2_circles, venn2_unweighted\n",
    "from matplotlib_venn import venn3, venn3_circles\n",
    "import sys\n",
    "sys.path.append(r\"/cluster/home/myurchikova/github/projects2020_ohsu/eth/learning_Master_thesis/TASKS/func\")\n",
    "from config import *\n",
    "from functions import *\n",
    "\n",
    "\n"
   ]
  },
  {
   "cell_type": "markdown",
   "id": "c3030060-24e9-4e82-bc31-68ae280f76f1",
   "metadata": {},
   "source": [
    "<a name='2'></a>\n",
    "## Process tables"
   ]
  },
  {
   "cell_type": "markdown",
   "id": "3e78ca5a-21d1-49bf-93eb-366a8d7e6bf4",
   "metadata": {},
   "source": [
    "Configuration and Setup:\n",
    "The code sets up various file paths and configurations for processing data. It includes file directories for input data and specifies output paths.\n",
    "Colors for different data types or sources are defined (e.g., OHSU_COLOR, ETH_COLOR), which suggests these colors will be used in visualizations.\n",
    "Data Loading and Preprocessing:\n",
    "Data files are loaded, potentially compressed files (as suggested by the use of tarfile), and file names are retrieved.\n",
    "The code performs preprocessing steps to organize and pair related data files, indicating a comparison between different datasets or conditions.\n",
    "Data Filtering and Compilation:\n",
    "The script uses regular expressions to filter data based on specific patterns or criteria.\n",
    "DataFrames are created and manipulated, possibly merging or aligning data from different sources (e.g., OHSU and ETH).\n",
    "Data Analysis:\n",
    "The code includes conditional logic to manipulate and analyze the data based on certain criteria, such as filtering and prioritizing specific data points.\n",
    "Various metrics are calculated, such as sizes of intersections between datasets, and differences, indicating comparative analysis.\n",
    "Visualization Preparation:\n",
    "The code appears to prepare data for visualization, possibly in the form of Venn diagrams or other comparative visual tools, as suggested by the variables related to colors and coordinates.\n",
    "Error Handling and Logging:\n",
    "The script includes try-except blocks to handle potential errors during the file reading and data processing steps.\n",
    "Logging conditions are present, indicating that the script may provide output logs for debugging or record-keeping.\n",
    "Output Generation:\n",
    "The script aggregates results into a final DataFrame, which might be used for subsequent analysis or for generating a visual report.\n",
    "Conditions for printing or saving the results are included, with checks on whether the processed data is empty or not."
   ]
  },
  {
   "cell_type": "code",
   "execution_count": 3,
   "id": "adfd422c",
   "metadata": {},
   "outputs": [],
   "source": [
    "TEXT_SIZE = 65"
   ]
  },
  {
   "cell_type": "code",
   "execution_count": 4,
   "id": "520c5e07",
   "metadata": {},
   "outputs": [
    {
     "name": "stderr",
     "output_type": "stream",
     "text": [
      "56807it [00:08, 6793.87it/s]\n"
     ]
    },
    {
     "name": "stdout",
     "output_type": "stream",
     "text": [
      "TCGA25131901A01R156513 ['J', 'TCGA-25-1319-01A-01R-1565-13', '0A501GA']\n",
      "['0', 'Any', '5', '0', '1']\n",
      "None\n"
     ]
    },
    {
     "name": "stderr",
     "output_type": "stream",
     "text": [
      "106206it [00:15, 6903.75it/s]\n"
     ]
    },
    {
     "name": "stdout",
     "output_type": "stream",
     "text": [
      "TCGA25131901A01R156513 ['J', 'TCGA-25-1319-01A-01R-1565-13', '0A13XGA']\n",
      "['0', 'Any', '1', '3', '10']\n",
      "1\n"
     ]
    },
    {
     "name": "stderr",
     "output_type": "stream",
     "text": [
      "73042it [00:10, 6880.24it/s]\n"
     ]
    },
    {
     "name": "stdout",
     "output_type": "stream",
     "text": [
      "TCGA25131901A01R156513 ['J', 'TCGA-25-1319-01A-01R-1565-13', '0AN1XGA']\n",
      "['0', 'Any', 'None', '1', '10']\n",
      "1\n"
     ]
    },
    {
     "name": "stderr",
     "output_type": "stream",
     "text": [
      "88048it [00:12, 6918.64it/s]\n"
     ]
    },
    {
     "name": "stdout",
     "output_type": "stream",
     "text": [
      "TCGA25131901A01R156513 ['J', 'TCGA-25-1319-01A-01R-1565-13', '0AN32GA']\n",
      "['0', 'Any', 'None', '3', '2']\n",
      "2\n"
     ]
    },
    {
     "name": "stderr",
     "output_type": "stream",
     "text": [
      "47656it [00:07, 6772.77it/s]\n"
     ]
    },
    {
     "name": "stdout",
     "output_type": "stream",
     "text": [
      "TCGA25131901A01R156513 ['J', 'TCGA-25-1319-01A-01R-1565-13', '0253AGA']\n",
      "['0', '2', '5', '3', 'Any']\n",
      "0\n"
     ]
    },
    {
     "name": "stderr",
     "output_type": "stream",
     "text": [
      "58810it [00:08, 6799.65it/s]\n"
     ]
    },
    {
     "name": "stdout",
     "output_type": "stream",
     "text": [
      "TCGA25131901A01R156513 ['J', 'TCGA-25-1319-01A-01R-1565-13', '0A51AGA']\n",
      "['0', 'Any', '5', '1', 'Any']\n",
      "0\n"
     ]
    },
    {
     "name": "stderr",
     "output_type": "stream",
     "text": [
      "54874it [00:08, 6830.13it/s]\n"
     ]
    },
    {
     "name": "stdout",
     "output_type": "stream",
     "text": [
      "TCGA25131901A01R156513 ['J', 'TCGA-25-1319-01A-01R-1565-13', '02101GA']\n",
      "['0', '2', '1', '0', '1']\n",
      "None\n"
     ]
    },
    {
     "name": "stderr",
     "output_type": "stream",
     "text": [
      "27839it [00:04, 6837.33it/s]\n"
     ]
    },
    {
     "name": "stdout",
     "output_type": "stream",
     "text": [
      "TCGA25131901A01R156513 ['J', 'TCGA-25-1319-01A-01R-1565-13', '02501GA']\n",
      "['0', '2', '5', '0', '1']\n",
      "None\n"
     ]
    },
    {
     "name": "stderr",
     "output_type": "stream",
     "text": [
      "28765it [00:04, 6657.39it/s]\n"
     ]
    },
    {
     "name": "stdout",
     "output_type": "stream",
     "text": [
      "TCGA25131901A01R156513 ['J', 'TCGA-25-1319-01A-01R-1565-13', '0251XGA']\n",
      "['0', '2', '5', '1', '10']\n",
      "1\n"
     ]
    },
    {
     "name": "stderr",
     "output_type": "stream",
     "text": [
      "72916it [00:10, 6844.00it/s]\n"
     ]
    },
    {
     "name": "stdout",
     "output_type": "stream",
     "text": [
      "TCGA25131901A01R156513 ['J', 'TCGA-25-1319-01A-01R-1565-13', '0AN12GA']\n",
      "['0', 'Any', 'None', '1', '2']\n",
      "2\n"
     ]
    },
    {
     "name": "stderr",
     "output_type": "stream",
     "text": [
      "85136it [00:12, 6659.07it/s]\n"
     ]
    },
    {
     "name": "stdout",
     "output_type": "stream",
     "text": [
      "TCGA25131901A01R156513 ['J', 'TCGA-25-1319-01A-01R-1565-13', '0A132GA']\n",
      "['0', 'Any', '1', '3', '2']\n",
      "2\n"
     ]
    },
    {
     "name": "stderr",
     "output_type": "stream",
     "text": [
      "92397it [00:13, 6747.32it/s]\n"
     ]
    },
    {
     "name": "stdout",
     "output_type": "stream",
     "text": [
      "TCGA25131901A01R156513 ['J', 'TCGA-25-1319-01A-01R-1565-13', '0A53XGA']\n",
      "['0', 'Any', '5', '3', '10']\n",
      "1\n"
     ]
    },
    {
     "name": "stderr",
     "output_type": "stream",
     "text": [
      "70340it [00:10, 6863.13it/s]\n"
     ]
    },
    {
     "name": "stdout",
     "output_type": "stream",
     "text": [
      "TCGA25131901A01R156513 ['J', 'TCGA-25-1319-01A-01R-1565-13', '0A11AGA']\n",
      "['0', 'Any', '1', '1', 'Any']\n",
      "0\n"
     ]
    },
    {
     "name": "stderr",
     "output_type": "stream",
     "text": [
      "109314it [00:16, 6831.91it/s]\n"
     ]
    },
    {
     "name": "stdout",
     "output_type": "stream",
     "text": [
      "TCGA25131901A01R156513 ['J', 'TCGA-25-1319-01A-01R-1565-13', '0AN3XGA']\n",
      "['0', 'Any', 'None', '3', '10']\n",
      "1\n"
     ]
    },
    {
     "name": "stderr",
     "output_type": "stream",
     "text": [
      "28765it [00:04, 6883.87it/s]\n"
     ]
    },
    {
     "name": "stdout",
     "output_type": "stream",
     "text": [
      "TCGA25131901A01R156513 ['J', 'TCGA-25-1319-01A-01R-1565-13', '0251AGA']\n",
      "['0', '2', '5', '1', 'Any']\n",
      "0\n"
     ]
    },
    {
     "name": "stderr",
     "output_type": "stream",
     "text": [
      "35176it [00:05, 6837.84it/s]\n"
     ]
    },
    {
     "name": "stdout",
     "output_type": "stream",
     "text": [
      "TCGA25131901A01R156513 ['J', 'TCGA-25-1319-01A-01R-1565-13', '02532GA']\n",
      "['0', '2', '5', '3', '2']\n",
      "2\n"
     ]
    },
    {
     "name": "stderr",
     "output_type": "stream",
     "text": [
      "109444it [00:16, 6810.58it/s]\n"
     ]
    },
    {
     "name": "stdout",
     "output_type": "stream",
     "text": [
      "TCGA25131901A01R156513 ['J', 'TCGA-25-1319-01A-01R-1565-13', '0A13AGA']\n",
      "['0', 'Any', '1', '3', 'Any']\n",
      "0\n"
     ]
    },
    {
     "name": "stderr",
     "output_type": "stream",
     "text": [
      "86917it [00:12, 6815.92it/s]\n"
     ]
    },
    {
     "name": "stdout",
     "output_type": "stream",
     "text": [
      "TCGA25131901A01R156513 ['J', 'TCGA-25-1319-01A-01R-1565-13', '0213XGA']\n",
      "['0', '2', '1', '3', '10']\n",
      "1\n"
     ]
    },
    {
     "name": "stderr",
     "output_type": "stream",
     "text": [
      "45856it [00:06, 6578.81it/s]\n"
     ]
    },
    {
     "name": "stdout",
     "output_type": "stream",
     "text": [
      "TCGA25131901A01R156513 ['J', 'TCGA-25-1319-01A-01R-1565-13', '0253XGA']\n",
      "['0', '2', '5', '3', '10']\n",
      "1\n"
     ]
    },
    {
     "name": "stderr",
     "output_type": "stream",
     "text": [
      "56681it [00:08, 6577.02it/s]\n"
     ]
    },
    {
     "name": "stdout",
     "output_type": "stream",
     "text": [
      "TCGA25131901A01R156513 ['J', 'TCGA-25-1319-01A-01R-1565-13', '0211XGA']\n",
      "['0', '2', '1', '1', '10']\n",
      "1\n"
     ]
    },
    {
     "name": "stderr",
     "output_type": "stream",
     "text": [
      "70214it [00:10, 6652.17it/s]\n"
     ]
    },
    {
     "name": "stdout",
     "output_type": "stream",
     "text": [
      "TCGA25131901A01R156513 ['J', 'TCGA-25-1319-01A-01R-1565-13', '0A112GA']\n",
      "['0', 'Any', '1', '1', '2']\n",
      "2\n"
     ]
    },
    {
     "name": "stderr",
     "output_type": "stream",
     "text": [
      "95310it [00:14, 6776.13it/s]\n"
     ]
    },
    {
     "name": "stdout",
     "output_type": "stream",
     "text": [
      "TCGA25131901A01R156513 ['J', 'TCGA-25-1319-01A-01R-1565-13', '0A53AGA']\n",
      "['0', 'Any', '5', '3', 'Any']\n",
      "0\n"
     ]
    },
    {
     "name": "stderr",
     "output_type": "stream",
     "text": [
      "68867it [00:10, 6637.43it/s]\n"
     ]
    },
    {
     "name": "stdout",
     "output_type": "stream",
     "text": [
      "TCGA25131901A01R156513 ['J', 'TCGA-25-1319-01A-01R-1565-13', '02132GA']\n",
      "['0', '2', '1', '3', '2']\n",
      "2\n"
     ]
    },
    {
     "name": "stderr",
     "output_type": "stream",
     "text": [
      "68164it [00:10, 6754.10it/s]\n"
     ]
    },
    {
     "name": "stdout",
     "output_type": "stream",
     "text": [
      "TCGA25131901A01R156513 ['J', 'TCGA-25-1319-01A-01R-1565-13', '0A101GA']\n",
      "['0', 'Any', '1', '0', '1']\n",
      "None\n"
     ]
    },
    {
     "name": "stderr",
     "output_type": "stream",
     "text": [
      "73042it [00:10, 6920.53it/s]\n"
     ]
    },
    {
     "name": "stdout",
     "output_type": "stream",
     "text": [
      "TCGA25131901A01R156513 ['J', 'TCGA-25-1319-01A-01R-1565-13', '0AN1AGA']\n",
      "['0', 'Any', 'None', '1', 'Any']\n",
      "0\n"
     ]
    },
    {
     "name": "stderr",
     "output_type": "stream",
     "text": [
      "70859it [00:10, 6840.58it/s]\n"
     ]
    },
    {
     "name": "stdout",
     "output_type": "stream",
     "text": [
      "TCGA25131901A01R156513 ['J', 'TCGA-25-1319-01A-01R-1565-13', '0AN01GA']\n",
      "['0', 'Any', 'None', '0', '1']\n",
      "None\n"
     ]
    },
    {
     "name": "stderr",
     "output_type": "stream",
     "text": [
      "112573it [00:16, 6859.15it/s]\n"
     ]
    },
    {
     "name": "stdout",
     "output_type": "stream",
     "text": [
      "TCGA25131901A01R156513 ['J', 'TCGA-25-1319-01A-01R-1565-13', '0AN3AGA']\n",
      "['0', 'Any', 'None', '3', 'Any']\n",
      "0\n"
     ]
    },
    {
     "name": "stderr",
     "output_type": "stream",
     "text": [
      "58691it [00:08, 6766.46it/s]\n"
     ]
    },
    {
     "name": "stdout",
     "output_type": "stream",
     "text": [
      "TCGA25131901A01R156513 ['J', 'TCGA-25-1319-01A-01R-1565-13', '0A512GA']\n",
      "['0', 'Any', '5', '1', '2']\n",
      "2\n"
     ]
    },
    {
     "name": "stderr",
     "output_type": "stream",
     "text": [
      "56681it [00:08, 6696.93it/s]\n"
     ]
    },
    {
     "name": "stdout",
     "output_type": "stream",
     "text": [
      "TCGA25131901A01R156513 ['J', 'TCGA-25-1319-01A-01R-1565-13', '0211AGA']\n",
      "['0', '2', '1', '1', 'Any']\n",
      "0\n"
     ]
    },
    {
     "name": "stderr",
     "output_type": "stream",
     "text": [
      "56580it [00:08, 6837.31it/s]\n"
     ]
    },
    {
     "name": "stdout",
     "output_type": "stream",
     "text": [
      "TCGA25131901A01R156513 ['J', 'TCGA-25-1319-01A-01R-1565-13', '02112GA']\n",
      "['0', '2', '1', '1', '2']\n",
      "2\n"
     ]
    },
    {
     "name": "stderr",
     "output_type": "stream",
     "text": [
      "28717it [00:04, 6547.17it/s]\n"
     ]
    },
    {
     "name": "stdout",
     "output_type": "stream",
     "text": [
      "TCGA25131901A01R156513 ['J', 'TCGA-25-1319-01A-01R-1565-13', '02512GA']\n",
      "['0', '2', '5', '1', '2']\n",
      "2\n"
     ]
    },
    {
     "name": "stderr",
     "output_type": "stream",
     "text": [
      "58810it [00:09, 6326.88it/s]\n"
     ]
    },
    {
     "name": "stdout",
     "output_type": "stream",
     "text": [
      "TCGA25131901A01R156513 ['J', 'TCGA-25-1319-01A-01R-1565-13', '0A51XGA']\n",
      "['0', 'Any', '5', '1', '10']\n",
      "1\n"
     ]
    },
    {
     "name": "stderr",
     "output_type": "stream",
     "text": [
      "89689it [00:13, 6636.97it/s]\n"
     ]
    },
    {
     "name": "stdout",
     "output_type": "stream",
     "text": [
      "TCGA25131901A01R156513 ['J', 'TCGA-25-1319-01A-01R-1565-13', '0213AGA']\n",
      "['0', '2', '1', '3', 'Any']\n",
      "0\n"
     ]
    },
    {
     "name": "stderr",
     "output_type": "stream",
     "text": [
      "72436it [00:11, 6473.95it/s]\n"
     ]
    },
    {
     "name": "stdout",
     "output_type": "stream",
     "text": [
      "TCGA25131901A01R156513 ['J', 'TCGA-25-1319-01A-01R-1565-13', '0A532GA']\n",
      "['0', 'Any', '5', '3', '2']\n",
      "2\n"
     ]
    },
    {
     "name": "stderr",
     "output_type": "stream",
     "text": [
      "70340it [00:10, 6751.73it/s]\n"
     ]
    },
    {
     "name": "stdout",
     "output_type": "stream",
     "text": [
      "TCGA25131901A01R156513 ['J', 'TCGA-25-1319-01A-01R-1565-13', '0A11XGA']\n",
      "['0', 'Any', '1', '1', '10']\n",
      "1\n"
     ]
    },
    {
     "name": "stderr",
     "output_type": "stream",
     "text": [
      "42233it [00:06, 6569.44it/s]\n"
     ]
    },
    {
     "name": "stdout",
     "output_type": "stream",
     "text": [
      "TCGA25131301A01R156513 ['J', 'TCGA-25-1313-01A-01R-1565-13', '0AN1XGA']\n",
      "['0', 'Any', 'None', '1', '10']\n",
      "1\n"
     ]
    },
    {
     "name": "stderr",
     "output_type": "stream",
     "text": [
      "42233it [00:06, 6590.14it/s]\n"
     ]
    },
    {
     "name": "stdout",
     "output_type": "stream",
     "text": [
      "TCGA25131301A01R156513 ['J', 'TCGA-25-1313-01A-01R-1565-13', '0AN1AGA']\n",
      "['0', 'Any', 'None', '1', 'Any']\n",
      "0\n"
     ]
    },
    {
     "name": "stderr",
     "output_type": "stream",
     "text": [
      "14978it [00:02, 5875.88it/s]\n"
     ]
    },
    {
     "name": "stdout",
     "output_type": "stream",
     "text": [
      "TCGA25131301A01R156513 ['J', 'TCGA-25-1313-01A-01R-1565-13', '02501GA']\n",
      "['0', '2', '5', '0', '1']\n",
      "None\n"
     ]
    },
    {
     "name": "stderr",
     "output_type": "stream",
     "text": [
      "47353it [00:09, 4956.73it/s]\n"
     ]
    },
    {
     "name": "stdout",
     "output_type": "stream",
     "text": [
      "TCGA25131301A01R156513 ['J', 'TCGA-25-1313-01A-01R-1565-13', '0A53XGA']\n",
      "['0', 'Any', '5', '3', '10']\n",
      "1\n"
     ]
    },
    {
     "name": "stderr",
     "output_type": "stream",
     "text": [
      "57519it [00:17, 3379.64it/s]\n"
     ]
    },
    {
     "name": "stdout",
     "output_type": "stream",
     "text": [
      "TCGA25131301A01R156513 ['J', 'TCGA-25-1313-01A-01R-1565-13', '0A13AGA']\n",
      "['0', 'Any', '1', '3', 'Any']\n",
      "0\n"
     ]
    },
    {
     "name": "stderr",
     "output_type": "stream",
     "text": [
      "45541it [00:11, 4079.69it/s]\n"
     ]
    },
    {
     "name": "stdout",
     "output_type": "stream",
     "text": [
      "TCGA25131301A01R156513 ['J', 'TCGA-25-1313-01A-01R-1565-13', '0213XGA']\n",
      "['0', '2', '1', '3', '10']\n",
      "1\n"
     ]
    },
    {
     "name": "stderr",
     "output_type": "stream",
     "text": [
      "35945it [00:05, 6713.92it/s]\n"
     ]
    },
    {
     "name": "stdout",
     "output_type": "stream",
     "text": [
      "TCGA25131301A01R156513 ['J', 'TCGA-25-1313-01A-01R-1565-13', '02132GA']\n",
      "['0', '2', '1', '3', '2']\n",
      "2\n"
     ]
    },
    {
     "name": "stderr",
     "output_type": "stream",
     "text": [
      "29582it [00:04, 6849.40it/s]\n"
     ]
    },
    {
     "name": "stdout",
     "output_type": "stream",
     "text": [
      "TCGA25131301A01R156513 ['J', 'TCGA-25-1313-01A-01R-1565-13', '02112GA']\n",
      "['0', '2', '1', '1', '2']\n",
      "2\n"
     ]
    },
    {
     "name": "stderr",
     "output_type": "stream",
     "text": [
      "30291it [00:04, 6683.65it/s]\n"
     ]
    },
    {
     "name": "stdout",
     "output_type": "stream",
     "text": [
      "TCGA25131301A01R156513 ['J', 'TCGA-25-1313-01A-01R-1565-13', '0A512GA']\n",
      "['0', 'Any', '5', '1', '2']\n",
      "2\n"
     ]
    },
    {
     "name": "stderr",
     "output_type": "stream",
     "text": [
      "30326it [00:04, 6746.64it/s]\n"
     ]
    },
    {
     "name": "stdout",
     "output_type": "stream",
     "text": [
      "TCGA25131301A01R156513 ['J', 'TCGA-25-1313-01A-01R-1565-13', '0A51XGA']\n",
      "['0', 'Any', '5', '1', '10']\n",
      "1\n"
     ]
    },
    {
     "name": "stderr",
     "output_type": "stream",
     "text": [
      "46993it [00:06, 6908.37it/s]\n"
     ]
    },
    {
     "name": "stdout",
     "output_type": "stream",
     "text": [
      "TCGA25131301A01R156513 ['J', 'TCGA-25-1313-01A-01R-1565-13', '0213AGA']\n",
      "['0', '2', '1', '3', 'Any']\n",
      "0\n"
     ]
    },
    {
     "name": "stderr",
     "output_type": "stream",
     "text": [
      "29607it [00:04, 6956.65it/s]\n"
     ]
    },
    {
     "name": "stdout",
     "output_type": "stream",
     "text": [
      "TCGA25131301A01R156513 ['J', 'TCGA-25-1313-01A-01R-1565-13', '0211XGA']\n",
      "['0', '2', '1', '1', '10']\n",
      "1\n"
     ]
    },
    {
     "name": "stderr",
     "output_type": "stream",
     "text": [
      "29607it [00:08, 3326.90it/s]\n"
     ]
    },
    {
     "name": "stdout",
     "output_type": "stream",
     "text": [
      "TCGA25131301A01R156513 ['J', 'TCGA-25-1313-01A-01R-1565-13', '0211AGA']\n",
      "['0', '2', '1', '1', 'Any']\n",
      "0\n"
     ]
    },
    {
     "name": "stderr",
     "output_type": "stream",
     "text": [
      "37449it [00:10, 3413.88it/s]\n"
     ]
    },
    {
     "name": "stdout",
     "output_type": "stream",
     "text": [
      "TCGA25131301A01R156513 ['J', 'TCGA-25-1313-01A-01R-1565-13', '0A112GA']\n",
      "['0', 'Any', '1', '1', '2']\n",
      "2\n"
     ]
    },
    {
     "name": "stderr",
     "output_type": "stream",
     "text": [
      "49919it [00:07, 6857.94it/s]\n"
     ]
    },
    {
     "name": "stdout",
     "output_type": "stream",
     "text": [
      "TCGA25131301A01R156513 ['J', 'TCGA-25-1313-01A-01R-1565-13', '0AN32GA']\n",
      "['0', 'Any', 'None', '3', '2']\n",
      "2\n"
     ]
    },
    {
     "name": "stderr",
     "output_type": "stream",
     "text": [
      "48784it [00:07, 6888.05it/s]\n"
     ]
    },
    {
     "name": "stdout",
     "output_type": "stream",
     "text": [
      "TCGA25131301A01R156513 ['J', 'TCGA-25-1313-01A-01R-1565-13', '0A53AGA']\n",
      "['0', 'Any', '5', '3', 'Any']\n",
      "0\n"
     ]
    },
    {
     "name": "stderr",
     "output_type": "stream",
     "text": [
      "30326it [00:04, 6722.09it/s]\n"
     ]
    },
    {
     "name": "stdout",
     "output_type": "stream",
     "text": [
      "TCGA25131301A01R156513 ['J', 'TCGA-25-1313-01A-01R-1565-13', '0A51AGA']\n",
      "['0', 'Any', '5', '1', 'Any']\n",
      "0\n"
     ]
    },
    {
     "name": "stderr",
     "output_type": "stream",
     "text": [
      "37484it [00:05, 6777.26it/s]\n"
     ]
    },
    {
     "name": "stdout",
     "output_type": "stream",
     "text": [
      "TCGA25131301A01R156513 ['J', 'TCGA-25-1313-01A-01R-1565-13', '0A11XGA']\n",
      "['0', 'Any', '1', '1', '10']\n",
      "1\n"
     ]
    },
    {
     "name": "stderr",
     "output_type": "stream",
     "text": [
      "42192it [00:06, 6772.21it/s]\n"
     ]
    },
    {
     "name": "stdout",
     "output_type": "stream",
     "text": [
      "TCGA25131301A01R156513 ['J', 'TCGA-25-1313-01A-01R-1565-13', '0AN12GA']\n",
      "['0', 'Any', 'None', '1', '2']\n",
      "2\n"
     ]
    },
    {
     "name": "stderr",
     "output_type": "stream",
     "text": [
      "15483it [00:02, 6863.19it/s]\n"
     ]
    },
    {
     "name": "stdout",
     "output_type": "stream",
     "text": [
      "TCGA25131301A01R156513 ['J', 'TCGA-25-1313-01A-01R-1565-13', '02512GA']\n",
      "['0', '2', '5', '1', '2']\n",
      "2\n"
     ]
    },
    {
     "name": "stderr",
     "output_type": "stream",
     "text": [
      "28775it [00:04, 6809.29it/s]\n"
     ]
    },
    {
     "name": "stdout",
     "output_type": "stream",
     "text": [
      "TCGA25131301A01R156513 ['J', 'TCGA-25-1313-01A-01R-1565-13', '02101GA']\n",
      "['0', '2', '1', '0', '1']\n",
      "None\n"
     ]
    },
    {
     "name": "stderr",
     "output_type": "stream",
     "text": [
      "15494it [00:02, 6832.91it/s]\n"
     ]
    },
    {
     "name": "stdout",
     "output_type": "stream",
     "text": [
      "TCGA25131301A01R156513 ['J', 'TCGA-25-1313-01A-01R-1565-13', '0251XGA']\n",
      "['0', '2', '5', '1', '10']\n",
      "1\n"
     ]
    },
    {
     "name": "stderr",
     "output_type": "stream",
     "text": [
      "29408it [00:04, 6761.08it/s]\n"
     ]
    },
    {
     "name": "stdout",
     "output_type": "stream",
     "text": [
      "TCGA25131301A01R156513 ['J', 'TCGA-25-1313-01A-01R-1565-13', '0A501GA']\n",
      "['0', 'Any', '5', '0', '1']\n",
      "None\n"
     ]
    },
    {
     "name": "stderr",
     "output_type": "stream",
     "text": [
      "37484it [00:05, 6766.21it/s]\n"
     ]
    },
    {
     "name": "stdout",
     "output_type": "stream",
     "text": [
      "TCGA25131301A01R156513 ['J', 'TCGA-25-1313-01A-01R-1565-13', '0A11AGA']\n",
      "['0', 'Any', '1', '1', 'Any']\n",
      "0\n"
     ]
    },
    {
     "name": "stderr",
     "output_type": "stream",
     "text": [
      "55922it [00:08, 6911.85it/s]\n"
     ]
    },
    {
     "name": "stdout",
     "output_type": "stream",
     "text": [
      "TCGA25131301A01R156513 ['J', 'TCGA-25-1313-01A-01R-1565-13', '0A13XGA']\n",
      "['0', 'Any', '1', '3', '10']\n",
      "1\n"
     ]
    },
    {
     "name": "stderr",
     "output_type": "stream",
     "text": [
      "37104it [00:05, 6911.40it/s]\n"
     ]
    },
    {
     "name": "stdout",
     "output_type": "stream",
     "text": [
      "TCGA25131301A01R156513 ['J', 'TCGA-25-1313-01A-01R-1565-13', '0A532GA']\n",
      "['0', 'Any', '5', '3', '2']\n",
      "2\n"
     ]
    },
    {
     "name": "stderr",
     "output_type": "stream",
     "text": [
      "15494it [00:02, 6823.56it/s]\n"
     ]
    },
    {
     "name": "stdout",
     "output_type": "stream",
     "text": [
      "TCGA25131301A01R156513 ['J', 'TCGA-25-1313-01A-01R-1565-13', '0251AGA']\n",
      "['0', '2', '5', '1', 'Any']\n",
      "0\n"
     ]
    },
    {
     "name": "stderr",
     "output_type": "stream",
     "text": [
      "19577it [00:02, 6875.81it/s]\n"
     ]
    },
    {
     "name": "stdout",
     "output_type": "stream",
     "text": [
      "TCGA25131301A01R156513 ['J', 'TCGA-25-1313-01A-01R-1565-13', '02532GA']\n",
      "['0', '2', '5', '3', '2']\n",
      "2\n"
     ]
    },
    {
     "name": "stderr",
     "output_type": "stream",
     "text": [
      "44879it [00:06, 6847.09it/s]\n"
     ]
    },
    {
     "name": "stdout",
     "output_type": "stream",
     "text": [
      "TCGA25131301A01R156513 ['J', 'TCGA-25-1313-01A-01R-1565-13', '0A132GA']\n",
      "['0', 'Any', '1', '3', '2']\n",
      "2\n"
     ]
    },
    {
     "name": "stderr",
     "output_type": "stream",
     "text": [
      "26157it [00:03, 6853.13it/s]\n"
     ]
    },
    {
     "name": "stdout",
     "output_type": "stream",
     "text": [
      "TCGA25131301A01R156513 ['J', 'TCGA-25-1313-01A-01R-1565-13', '0253XGA']\n",
      "['0', '2', '5', '3', '10']\n",
      "1\n"
     ]
    },
    {
     "name": "stderr",
     "output_type": "stream",
     "text": [
      "27058it [00:03, 6868.53it/s]\n"
     ]
    },
    {
     "name": "stdout",
     "output_type": "stream",
     "text": [
      "TCGA25131301A01R156513 ['J', 'TCGA-25-1313-01A-01R-1565-13', '0253AGA']\n",
      "['0', '2', '5', '3', 'Any']\n",
      "0\n"
     ]
    },
    {
     "name": "stderr",
     "output_type": "stream",
     "text": [
      "63099it [00:09, 6895.65it/s]\n"
     ]
    },
    {
     "name": "stdout",
     "output_type": "stream",
     "text": [
      "TCGA25131301A01R156513 ['J', 'TCGA-25-1313-01A-01R-1565-13', '0AN3AGA']\n",
      "['0', 'Any', 'None', '3', 'Any']\n",
      "0\n"
     ]
    },
    {
     "name": "stderr",
     "output_type": "stream",
     "text": [
      "36525it [00:05, 6816.12it/s]\n"
     ]
    },
    {
     "name": "stdout",
     "output_type": "stream",
     "text": [
      "TCGA25131301A01R156513 ['J', 'TCGA-25-1313-01A-01R-1565-13', '0A101GA']\n",
      "['0', 'Any', '1', '0', '1']\n",
      "None\n"
     ]
    },
    {
     "name": "stderr",
     "output_type": "stream",
     "text": [
      "41224it [00:05, 6898.48it/s]\n"
     ]
    },
    {
     "name": "stdout",
     "output_type": "stream",
     "text": [
      "TCGA25131301A01R156513 ['J', 'TCGA-25-1313-01A-01R-1565-13', '0AN01GA']\n",
      "['0', 'Any', 'None', '0', '1']\n",
      "None\n"
     ]
    },
    {
     "name": "stderr",
     "output_type": "stream",
     "text": [
      "61487it [00:09, 6827.81it/s]\n"
     ]
    },
    {
     "name": "stdout",
     "output_type": "stream",
     "text": [
      "TCGA25131301A01R156513 ['J', 'TCGA-25-1313-01A-01R-1565-13', '0AN3XGA']\n",
      "['0', 'Any', 'None', '3', '10']\n",
      "1\n"
     ]
    },
    {
     "name": "stderr",
     "output_type": "stream",
     "text": [
      "148334it [00:21, 6768.44it/s]\n"
     ]
    },
    {
     "name": "stdout",
     "output_type": "stream",
     "text": [
      "TCGA61200801A02R156813 ['J', 'TCGA-61-2008-01A-02R-1568-13', '0AN3AGA']\n",
      "['0', 'Any', 'None', '3', 'Any']\n",
      "0\n"
     ]
    },
    {
     "name": "stderr",
     "output_type": "stream",
     "text": [
      "87533it [00:12, 6777.81it/s]\n"
     ]
    },
    {
     "name": "stdout",
     "output_type": "stream",
     "text": [
      "TCGA61200801A02R156813 ['J', 'TCGA-61-2008-01A-02R-1568-13', '0A11AGA']\n",
      "['0', 'Any', '1', '1', 'Any']\n",
      "0\n"
     ]
    },
    {
     "name": "stderr",
     "output_type": "stream",
     "text": [
      "69153it [00:10, 6867.02it/s]\n"
     ]
    },
    {
     "name": "stdout",
     "output_type": "stream",
     "text": [
      "TCGA61200801A02R156813 ['J', 'TCGA-61-2008-01A-02R-1568-13', '0211AGA']\n",
      "['0', '2', '1', '1', 'Any']\n",
      "0\n"
     ]
    },
    {
     "name": "stderr",
     "output_type": "stream",
     "text": [
      "114871it [00:16, 6845.34it/s]\n"
     ]
    },
    {
     "name": "stdout",
     "output_type": "stream",
     "text": [
      "TCGA61200801A02R156813 ['J', 'TCGA-61-2008-01A-02R-1568-13', '0AN32GA']\n",
      "['0', 'Any', 'None', '3', '2']\n",
      "2\n"
     ]
    },
    {
     "name": "stderr",
     "output_type": "stream",
     "text": [
      "94099it [00:13, 6800.99it/s]\n"
     ]
    },
    {
     "name": "stdout",
     "output_type": "stream",
     "text": [
      "TCGA61200801A02R156813 ['J', 'TCGA-61-2008-01A-02R-1568-13', '0AN12GA']\n",
      "['0', 'Any', 'None', '1', '2']\n",
      "2\n"
     ]
    },
    {
     "name": "stderr",
     "output_type": "stream",
     "text": [
      "107646it [00:15, 6876.44it/s]\n"
     ]
    },
    {
     "name": "stdout",
     "output_type": "stream",
     "text": [
      "TCGA61200801A02R156813 ['J', 'TCGA-61-2008-01A-02R-1568-13', '0A132GA']\n",
      "['0', 'Any', '1', '3', '2']\n",
      "2\n"
     ]
    },
    {
     "name": "stderr",
     "output_type": "stream",
     "text": [
      "87272it [00:12, 6772.71it/s]\n"
     ]
    },
    {
     "name": "stdout",
     "output_type": "stream",
     "text": [
      "TCGA61200801A02R156813 ['J', 'TCGA-61-2008-01A-02R-1568-13', '0A112GA']\n",
      "['0', 'Any', '1', '1', '2']\n",
      "2\n"
     ]
    },
    {
     "name": "stderr",
     "output_type": "stream",
     "text": [
      "70467it [00:10, 6938.73it/s]\n"
     ]
    },
    {
     "name": "stdout",
     "output_type": "stream",
     "text": [
      "TCGA61200801A02R156813 ['J', 'TCGA-61-2008-01A-02R-1568-13', '0A51AGA']\n",
      "['0', 'Any', '5', '1', 'Any']\n",
      "0\n"
     ]
    },
    {
     "name": "stderr",
     "output_type": "stream",
     "text": [
      "33356it [00:04, 6758.48it/s]\n"
     ]
    },
    {
     "name": "stdout",
     "output_type": "stream",
     "text": [
      "TCGA61200801A02R156813 ['J', 'TCGA-61-2008-01A-02R-1568-13', '02512GA']\n",
      "['0', '2', '5', '1', '2']\n",
      "2\n"
     ]
    },
    {
     "name": "stderr",
     "output_type": "stream",
     "text": [
      "94360it [00:13, 6787.19it/s]\n"
     ]
    },
    {
     "name": "stdout",
     "output_type": "stream",
     "text": [
      "TCGA61200801A02R156813 ['J', 'TCGA-61-2008-01A-02R-1568-13', '0AN1XGA']\n",
      "['0', 'Any', 'None', '1', '10']\n",
      "1\n"
     ]
    },
    {
     "name": "stderr",
     "output_type": "stream",
     "text": [
      "115268it [00:16, 6866.68it/s]\n"
     ]
    },
    {
     "name": "stdout",
     "output_type": "stream",
     "text": [
      "TCGA61200801A02R156813 ['J', 'TCGA-61-2008-01A-02R-1568-13', '0A53XGA']\n",
      "['0', 'Any', '5', '3', '10']\n",
      "1\n"
     ]
    },
    {
     "name": "stderr",
     "output_type": "stream",
     "text": [
      "94360it [00:15, 6021.70it/s]\n"
     ]
    },
    {
     "name": "stdout",
     "output_type": "stream",
     "text": [
      "TCGA61200801A02R156813 ['J', 'TCGA-61-2008-01A-02R-1568-13', '0AN1AGA']\n",
      "['0', 'Any', 'None', '1', 'Any']\n",
      "0\n"
     ]
    },
    {
     "name": "stderr",
     "output_type": "stream",
     "text": [
      "58352it [00:08, 6562.90it/s]\n"
     ]
    },
    {
     "name": "stdout",
     "output_type": "stream",
     "text": [
      "TCGA61200801A02R156813 ['J', 'TCGA-61-2008-01A-02R-1568-13', '0253AGA']\n",
      "['0', '2', '5', '3', 'Any']\n",
      "0\n"
     ]
    },
    {
     "name": "stderr",
     "output_type": "stream",
     "text": [
      "70230it [00:10, 6669.64it/s]\n"
     ]
    },
    {
     "name": "stdout",
     "output_type": "stream",
     "text": [
      "TCGA61200801A02R156813 ['J', 'TCGA-61-2008-01A-02R-1568-13', '0A512GA']\n",
      "['0', 'Any', '5', '1', '2']\n",
      "2\n"
     ]
    },
    {
     "name": "stderr",
     "output_type": "stream",
     "text": [
      "140698it [00:20, 6780.84it/s]\n"
     ]
    },
    {
     "name": "stdout",
     "output_type": "stream",
     "text": [
      "TCGA61200801A02R156813 ['J', 'TCGA-61-2008-01A-02R-1568-13', '0A13AGA']\n",
      "['0', 'Any', '1', '3', 'Any']\n",
      "0\n"
     ]
    },
    {
     "name": "stderr",
     "output_type": "stream",
     "text": [
      "135718it [00:20, 6734.39it/s]\n"
     ]
    },
    {
     "name": "stdout",
     "output_type": "stream",
     "text": [
      "TCGA61200801A02R156813 ['J', 'TCGA-61-2008-01A-02R-1568-13', '0A13XGA']\n",
      "['0', 'Any', '1', '3', '10']\n",
      "1\n"
     ]
    },
    {
     "name": "stderr",
     "output_type": "stream",
     "text": [
      "91623it [00:13, 6872.55it/s]\n"
     ]
    },
    {
     "name": "stdout",
     "output_type": "stream",
     "text": [
      "TCGA61200801A02R156813 ['J', 'TCGA-61-2008-01A-02R-1568-13', '0AN01GA']\n",
      "['0', 'Any', 'None', '0', '1']\n",
      "None\n"
     ]
    },
    {
     "name": "stderr",
     "output_type": "stream",
     "text": [
      "108856it [00:15, 6862.03it/s]\n"
     ]
    },
    {
     "name": "stdout",
     "output_type": "stream",
     "text": [
      "TCGA61200801A02R156813 ['J', 'TCGA-61-2008-01A-02R-1568-13', '0213XGA']\n",
      "['0', '2', '1', '3', '10']\n",
      "1\n"
     ]
    },
    {
     "name": "stderr",
     "output_type": "stream",
     "text": [
      "87533it [00:12, 6803.94it/s]\n"
     ]
    },
    {
     "name": "stdout",
     "output_type": "stream",
     "text": [
      "TCGA61200801A02R156813 ['J', 'TCGA-61-2008-01A-02R-1568-13', '0A11XGA']\n",
      "['0', 'Any', '1', '1', '10']\n",
      "1\n"
     ]
    },
    {
     "name": "stderr",
     "output_type": "stream",
     "text": [
      "113185it [00:16, 6813.44it/s]\n"
     ]
    },
    {
     "name": "stdout",
     "output_type": "stream",
     "text": [
      "TCGA61200801A02R156813 ['J', 'TCGA-61-2008-01A-02R-1568-13', '0213AGA']\n",
      "['0', '2', '1', '3', 'Any']\n",
      "0\n"
     ]
    },
    {
     "name": "stderr",
     "output_type": "stream",
     "text": [
      "33424it [00:04, 6808.11it/s]\n"
     ]
    },
    {
     "name": "stdout",
     "output_type": "stream",
     "text": [
      "TCGA61200801A02R156813 ['J', 'TCGA-61-2008-01A-02R-1568-13', '0251AGA']\n",
      "['0', '2', '5', '1', 'Any']\n",
      "0\n"
     ]
    },
    {
     "name": "stderr",
     "output_type": "stream",
     "text": [
      "69002it [00:10, 6793.86it/s]\n"
     ]
    },
    {
     "name": "stdout",
     "output_type": "stream",
     "text": [
      "TCGA61200801A02R156813 ['J', 'TCGA-61-2008-01A-02R-1568-13', '02112GA']\n",
      "['0', '2', '1', '1', '2']\n",
      "2\n"
     ]
    },
    {
     "name": "stderr",
     "output_type": "stream",
     "text": [
      "69153it [00:10, 6798.30it/s]\n"
     ]
    },
    {
     "name": "stdout",
     "output_type": "stream",
     "text": [
      "TCGA61200801A02R156813 ['J', 'TCGA-61-2008-01A-02R-1568-13', '0211XGA']\n",
      "['0', '2', '1', '1', '10']\n",
      "1\n"
     ]
    },
    {
     "name": "stderr",
     "output_type": "stream",
     "text": [
      "67070it [00:09, 6927.55it/s]\n"
     ]
    },
    {
     "name": "stdout",
     "output_type": "stream",
     "text": [
      "TCGA61200801A02R156813 ['J', 'TCGA-61-2008-01A-02R-1568-13', '02101GA']\n",
      "['0', '2', '1', '0', '1']\n",
      "None\n"
     ]
    },
    {
     "name": "stderr",
     "output_type": "stream",
     "text": [
      "143297it [00:20, 6826.11it/s]\n"
     ]
    },
    {
     "name": "stdout",
     "output_type": "stream",
     "text": [
      "TCGA61200801A02R156813 ['J', 'TCGA-61-2008-01A-02R-1568-13', '0AN3XGA']\n",
      "['0', 'Any', 'None', '3', '10']\n",
      "1\n"
     ]
    },
    {
     "name": "stderr",
     "output_type": "stream",
     "text": [
      "88779it [00:13, 6790.70it/s]\n"
     ]
    },
    {
     "name": "stdout",
     "output_type": "stream",
     "text": [
      "TCGA61200801A02R156813 ['J', 'TCGA-61-2008-01A-02R-1568-13', '0A532GA']\n",
      "['0', 'Any', '5', '3', '2']\n",
      "2\n"
     ]
    },
    {
     "name": "stderr",
     "output_type": "stream",
     "text": [
      "33424it [00:04, 6795.40it/s]\n"
     ]
    },
    {
     "name": "stdout",
     "output_type": "stream",
     "text": [
      "TCGA61200801A02R156813 ['J', 'TCGA-61-2008-01A-02R-1568-13', '0251XGA']\n",
      "['0', '2', '5', '1', '10']\n",
      "1\n"
     ]
    },
    {
     "name": "stderr",
     "output_type": "stream",
     "text": [
      "68039it [00:09, 6807.32it/s]\n"
     ]
    },
    {
     "name": "stdout",
     "output_type": "stream",
     "text": [
      "TCGA61200801A02R156813 ['J', 'TCGA-61-2008-01A-02R-1568-13', '0A501GA']\n",
      "['0', 'Any', '5', '0', '1']\n",
      "None\n"
     ]
    },
    {
     "name": "stderr",
     "output_type": "stream",
     "text": [
      "70467it [00:10, 6797.21it/s]\n"
     ]
    },
    {
     "name": "stdout",
     "output_type": "stream",
     "text": [
      "TCGA61200801A02R156813 ['J', 'TCGA-61-2008-01A-02R-1568-13', '0A51XGA']\n",
      "['0', 'Any', '5', '1', '10']\n",
      "1\n"
     ]
    },
    {
     "name": "stderr",
     "output_type": "stream",
     "text": [
      "32270it [00:04, 6859.50it/s]\n"
     ]
    },
    {
     "name": "stdout",
     "output_type": "stream",
     "text": [
      "TCGA61200801A02R156813 ['J', 'TCGA-61-2008-01A-02R-1568-13', '02501GA']\n",
      "['0', '2', '5', '0', '1']\n",
      "None\n"
     ]
    },
    {
     "name": "stderr",
     "output_type": "stream",
     "text": [
      "42132it [00:10, 4031.43it/s]\n"
     ]
    },
    {
     "name": "stdout",
     "output_type": "stream",
     "text": [
      "TCGA61200801A02R156813 ['J', 'TCGA-61-2008-01A-02R-1568-13', '02532GA']\n",
      "['0', '2', '5', '3', '2']\n",
      "2\n"
     ]
    },
    {
     "name": "stderr",
     "output_type": "stream",
     "text": [
      "85236it [00:18, 4705.58it/s]\n"
     ]
    },
    {
     "name": "stdout",
     "output_type": "stream",
     "text": [
      "TCGA61200801A02R156813 ['J', 'TCGA-61-2008-01A-02R-1568-13', '02132GA']\n",
      "['0', '2', '1', '3', '2']\n",
      "2\n"
     ]
    },
    {
     "name": "stderr",
     "output_type": "stream",
     "text": [
      "55747it [00:08, 6886.86it/s]\n"
     ]
    },
    {
     "name": "stdout",
     "output_type": "stream",
     "text": [
      "TCGA61200801A02R156813 ['J', 'TCGA-61-2008-01A-02R-1568-13', '0253XGA']\n",
      "['0', '2', '5', '3', '10']\n",
      "1\n"
     ]
    },
    {
     "name": "stderr",
     "output_type": "stream",
     "text": [
      "119866it [00:34, 3437.46it/s]\n"
     ]
    },
    {
     "name": "stdout",
     "output_type": "stream",
     "text": [
      "TCGA61200801A02R156813 ['J', 'TCGA-61-2008-01A-02R-1568-13', '0A53AGA']\n",
      "['0', 'Any', '5', '3', 'Any']\n",
      "0\n"
     ]
    },
    {
     "name": "stderr",
     "output_type": "stream",
     "text": [
      "84819it [00:12, 6864.79it/s]\n"
     ]
    },
    {
     "name": "stdout",
     "output_type": "stream",
     "text": [
      "TCGA61200801A02R156813 ['J', 'TCGA-61-2008-01A-02R-1568-13', '0A101GA']\n",
      "['0', 'Any', '1', '0', '1']\n",
      "None\n"
     ]
    },
    {
     "name": "stderr",
     "output_type": "stream",
     "text": [
      "40564it [00:12, 3323.17it/s]\n"
     ]
    },
    {
     "name": "stdout",
     "output_type": "stream",
     "text": [
      "TCGA24143101A01R156613 ['J', 'TCGA-24-1431-01A-01R-1566-13', '0AN1XGA']\n",
      "['0', 'Any', 'None', '1', '10']\n",
      "1\n"
     ]
    },
    {
     "name": "stderr",
     "output_type": "stream",
     "text": [
      "41243it [00:12, 3186.40it/s]\n"
     ]
    },
    {
     "name": "stdout",
     "output_type": "stream",
     "text": [
      "TCGA24143101A01R156613 ['J', 'TCGA-24-1431-01A-01R-1566-13', '0A532GA']\n",
      "['0', 'Any', '5', '3', '2']\n",
      "2\n"
     ]
    },
    {
     "name": "stderr",
     "output_type": "stream",
     "text": [
      "33852it [00:07, 4258.56it/s]\n"
     ]
    },
    {
     "name": "stdout",
     "output_type": "stream",
     "text": [
      "TCGA24143101A01R156613 ['J', 'TCGA-24-1431-01A-01R-1566-13', '0A51XGA']\n",
      "['0', 'Any', '5', '1', '10']\n",
      "1\n"
     ]
    },
    {
     "name": "stderr",
     "output_type": "stream",
     "text": [
      "53216it [00:07, 6771.74it/s]\n"
     ]
    },
    {
     "name": "stdout",
     "output_type": "stream",
     "text": [
      "TCGA24143101A01R156613 ['J', 'TCGA-24-1431-01A-01R-1566-13', '0A53XGA']\n",
      "['0', 'Any', '5', '3', '10']\n",
      "1\n"
     ]
    },
    {
     "name": "stderr",
     "output_type": "stream",
     "text": [
      "32658it [00:04, 6858.34it/s]\n"
     ]
    },
    {
     "name": "stdout",
     "output_type": "stream",
     "text": [
      "TCGA24143101A01R156613 ['J', 'TCGA-24-1431-01A-01R-1566-13', '0A501GA']\n",
      "['0', 'Any', '5', '0', '1']\n",
      "None\n"
     ]
    },
    {
     "name": "stderr",
     "output_type": "stream",
     "text": [
      "50531it [00:07, 6821.88it/s]\n"
     ]
    },
    {
     "name": "stdout",
     "output_type": "stream",
     "text": [
      "TCGA24143101A01R156613 ['J', 'TCGA-24-1431-01A-01R-1566-13', '0213XGA']\n",
      "['0', '2', '1', '3', '10']\n",
      "1\n"
     ]
    },
    {
     "name": "stderr",
     "output_type": "stream",
     "text": [
      "32315it [00:04, 6809.75it/s]\n"
     ]
    },
    {
     "name": "stdout",
     "output_type": "stream",
     "text": [
      "TCGA24143101A01R156613 ['J', 'TCGA-24-1431-01A-01R-1566-13', '0211XGA']\n",
      "['0', '2', '1', '1', '10']\n",
      "1\n"
     ]
    },
    {
     "name": "stderr",
     "output_type": "stream",
     "text": [
      "39415it [00:05, 6905.20it/s]\n"
     ]
    },
    {
     "name": "stdout",
     "output_type": "stream",
     "text": [
      "TCGA24143101A01R156613 ['J', 'TCGA-24-1431-01A-01R-1566-13', '0A11AGA']\n",
      "['0', 'Any', '1', '1', 'Any']\n",
      "0\n"
     ]
    },
    {
     "name": "stderr",
     "output_type": "stream",
     "text": [
      "60229it [00:08, 6843.63it/s]\n"
     ]
    },
    {
     "name": "stdout",
     "output_type": "stream",
     "text": [
      "TCGA24143101A01R156613 ['J', 'TCGA-24-1431-01A-01R-1566-13', '0A13XGA']\n",
      "['0', 'Any', '1', '3', '10']\n",
      "1\n"
     ]
    },
    {
     "name": "stderr",
     "output_type": "stream",
     "text": [
      "52401it [00:07, 6854.49it/s]\n"
     ]
    },
    {
     "name": "stdout",
     "output_type": "stream",
     "text": [
      "TCGA24143101A01R156613 ['J', 'TCGA-24-1431-01A-01R-1566-13', '0213AGA']\n",
      "['0', '2', '1', '3', 'Any']\n",
      "0\n"
     ]
    },
    {
     "name": "stderr",
     "output_type": "stream",
     "text": [
      "22013it [00:03, 6745.93it/s]\n"
     ]
    },
    {
     "name": "stdout",
     "output_type": "stream",
     "text": [
      "TCGA24143101A01R156613 ['J', 'TCGA-24-1431-01A-01R-1566-13', '02532GA']\n",
      "['0', '2', '5', '3', '2']\n",
      "2\n"
     ]
    },
    {
     "name": "stderr",
     "output_type": "stream",
     "text": [
      "33852it [00:04, 6862.83it/s]\n"
     ]
    },
    {
     "name": "stdout",
     "output_type": "stream",
     "text": [
      "TCGA24143101A01R156613 ['J', 'TCGA-24-1431-01A-01R-1566-13', '0A51AGA']\n",
      "['0', 'Any', '5', '1', 'Any']\n",
      "0\n"
     ]
    },
    {
     "name": "stderr",
     "output_type": "stream",
     "text": [
      "40455it [00:05, 6973.48it/s]\n"
     ]
    },
    {
     "name": "stdout",
     "output_type": "stream",
     "text": [
      "TCGA24143101A01R156613 ['J', 'TCGA-24-1431-01A-01R-1566-13', '0AN12GA']\n",
      "['0', 'Any', 'None', '1', '2']\n",
      "2\n"
     ]
    },
    {
     "name": "stderr",
     "output_type": "stream",
     "text": [
      "17722it [00:02, 6921.57it/s]\n"
     ]
    },
    {
     "name": "stdout",
     "output_type": "stream",
     "text": [
      "TCGA24143101A01R156613 ['J', 'TCGA-24-1431-01A-01R-1566-13', '0251XGA']\n",
      "['0', '2', '5', '1', '10']\n",
      "1\n"
     ]
    },
    {
     "name": "stderr",
     "output_type": "stream",
     "text": [
      "40564it [00:05, 6915.01it/s]\n"
     ]
    },
    {
     "name": "stdout",
     "output_type": "stream",
     "text": [
      "TCGA24143101A01R156613 ['J', 'TCGA-24-1431-01A-01R-1566-13', '0AN1AGA']\n",
      "['0', 'Any', 'None', '1', 'Any']\n",
      "0\n"
     ]
    },
    {
     "name": "stderr",
     "output_type": "stream",
     "text": [
      "39443it [00:05, 6917.25it/s]\n"
     ]
    },
    {
     "name": "stdout",
     "output_type": "stream",
     "text": [
      "TCGA24143101A01R156613 ['J', 'TCGA-24-1431-01A-01R-1566-13', '02132GA']\n",
      "['0', '2', '1', '3', '2']\n",
      "2\n"
     ]
    },
    {
     "name": "stderr",
     "output_type": "stream",
     "text": [
      "62406it [00:09, 6847.52it/s]\n"
     ]
    },
    {
     "name": "stdout",
     "output_type": "stream",
     "text": [
      "TCGA24143101A01R156613 ['J', 'TCGA-24-1431-01A-01R-1566-13', '0A13AGA']\n",
      "['0', 'Any', '1', '3', 'Any']\n",
      "0\n"
     ]
    },
    {
     "name": "stderr",
     "output_type": "stream",
     "text": [
      "28876it [00:04, 6878.64it/s]\n"
     ]
    },
    {
     "name": "stdout",
     "output_type": "stream",
     "text": [
      "TCGA24143101A01R156613 ['J', 'TCGA-24-1431-01A-01R-1566-13', '0253XGA']\n",
      "['0', '2', '5', '3', '10']\n",
      "1\n"
     ]
    },
    {
     "name": "stderr",
     "output_type": "stream",
     "text": [
      "55173it [00:08, 6882.49it/s]\n"
     ]
    },
    {
     "name": "stdout",
     "output_type": "stream",
     "text": [
      "TCGA24143101A01R156613 ['J', 'TCGA-24-1431-01A-01R-1566-13', '0A53AGA']\n",
      "['0', 'Any', '5', '3', 'Any']\n",
      "0\n"
     ]
    },
    {
     "name": "stderr",
     "output_type": "stream",
     "text": [
      "31194it [00:04, 6769.51it/s]\n"
     ]
    },
    {
     "name": "stdout",
     "output_type": "stream",
     "text": [
      "TCGA24143101A01R156613 ['J', 'TCGA-24-1431-01A-01R-1566-13', '02101GA']\n",
      "['0', '2', '1', '0', '1']\n",
      "None\n"
     ]
    },
    {
     "name": "stderr",
     "output_type": "stream",
     "text": [
      "17722it [00:02, 6821.58it/s]\n"
     ]
    },
    {
     "name": "stdout",
     "output_type": "stream",
     "text": [
      "TCGA24143101A01R156613 ['J', 'TCGA-24-1431-01A-01R-1566-13', '0251AGA']\n",
      "['0', '2', '5', '1', 'Any']\n",
      "0\n"
     ]
    },
    {
     "name": "stderr",
     "output_type": "stream",
     "text": [
      "17050it [00:02, 6837.59it/s]\n"
     ]
    },
    {
     "name": "stdout",
     "output_type": "stream",
     "text": [
      "TCGA24143101A01R156613 ['J', 'TCGA-24-1431-01A-01R-1566-13', '02501GA']\n",
      "['0', '2', '5', '0', '1']\n",
      "None\n"
     ]
    },
    {
     "name": "stderr",
     "output_type": "stream",
     "text": [
      "47525it [00:06, 6911.55it/s]\n"
     ]
    },
    {
     "name": "stdout",
     "output_type": "stream",
     "text": [
      "TCGA24143101A01R156613 ['J', 'TCGA-24-1431-01A-01R-1566-13', '0A132GA']\n",
      "['0', 'Any', '1', '3', '2']\n",
      "2\n"
     ]
    },
    {
     "name": "stderr",
     "output_type": "stream",
     "text": [
      "32212it [00:05, 6332.23it/s]\n"
     ]
    },
    {
     "name": "stdout",
     "output_type": "stream",
     "text": [
      "TCGA24143101A01R156613 ['J', 'TCGA-24-1431-01A-01R-1566-13', '02112GA']\n",
      "['0', '2', '1', '1', '2']\n",
      "2\n"
     ]
    },
    {
     "name": "stderr",
     "output_type": "stream",
     "text": [
      "33743it [00:10, 3319.44it/s]\n"
     ]
    },
    {
     "name": "stdout",
     "output_type": "stream",
     "text": [
      "TCGA24143101A01R156613 ['J', 'TCGA-24-1431-01A-01R-1566-13', '0A512GA']\n",
      "['0', 'Any', '5', '1', '2']\n",
      "2\n"
     ]
    },
    {
     "name": "stderr",
     "output_type": "stream",
     "text": [
      "61473it [00:18, 3252.64it/s]\n"
     ]
    },
    {
     "name": "stdout",
     "output_type": "stream",
     "text": [
      "TCGA24143101A01R156613 ['J', 'TCGA-24-1431-01A-01R-1566-13', '0AN3XGA']\n",
      "['0', 'Any', 'None', '3', '10']\n",
      "1\n"
     ]
    },
    {
     "name": "stderr",
     "output_type": "stream",
     "text": [
      "63664it [00:18, 3358.79it/s]\n"
     ]
    },
    {
     "name": "stdout",
     "output_type": "stream",
     "text": [
      "TCGA24143101A01R156613 ['J', 'TCGA-24-1431-01A-01R-1566-13', '0AN3AGA']\n",
      "['0', 'Any', 'None', '3', 'Any']\n",
      "0\n"
     ]
    },
    {
     "name": "stderr",
     "output_type": "stream",
     "text": [
      "32315it [00:04, 6677.85it/s]\n"
     ]
    },
    {
     "name": "stdout",
     "output_type": "stream",
     "text": [
      "TCGA24143101A01R156613 ['J', 'TCGA-24-1431-01A-01R-1566-13', '0211AGA']\n",
      "['0', '2', '1', '1', 'Any']\n",
      "0\n"
     ]
    },
    {
     "name": "stderr",
     "output_type": "stream",
     "text": [
      "39264it [00:05, 6792.42it/s]\n"
     ]
    },
    {
     "name": "stdout",
     "output_type": "stream",
     "text": [
      "TCGA24143101A01R156613 ['J', 'TCGA-24-1431-01A-01R-1566-13', '0AN01GA']\n",
      "['0', 'Any', 'None', '0', '1']\n",
      "None\n"
     ]
    },
    {
     "name": "stderr",
     "output_type": "stream",
     "text": [
      "39306it [00:05, 6757.67it/s]\n"
     ]
    },
    {
     "name": "stdout",
     "output_type": "stream",
     "text": [
      "TCGA24143101A01R156613 ['J', 'TCGA-24-1431-01A-01R-1566-13', '0A112GA']\n",
      "['0', 'Any', '1', '1', '2']\n",
      "2\n"
     ]
    },
    {
     "name": "stderr",
     "output_type": "stream",
     "text": [
      "48688it [00:07, 6715.81it/s]\n"
     ]
    },
    {
     "name": "stdout",
     "output_type": "stream",
     "text": [
      "TCGA24143101A01R156613 ['J', 'TCGA-24-1431-01A-01R-1566-13', '0AN32GA']\n",
      "['0', 'Any', 'None', '3', '2']\n",
      "2\n"
     ]
    },
    {
     "name": "stderr",
     "output_type": "stream",
     "text": [
      "38115it [00:05, 6768.68it/s]\n"
     ]
    },
    {
     "name": "stdout",
     "output_type": "stream",
     "text": [
      "TCGA24143101A01R156613 ['J', 'TCGA-24-1431-01A-01R-1566-13', '0A101GA']\n",
      "['0', 'Any', '1', '0', '1']\n",
      "None\n"
     ]
    },
    {
     "name": "stderr",
     "output_type": "stream",
     "text": [
      "30115it [00:04, 6749.76it/s]\n"
     ]
    },
    {
     "name": "stdout",
     "output_type": "stream",
     "text": [
      "TCGA24143101A01R156613 ['J', 'TCGA-24-1431-01A-01R-1566-13', '0253AGA']\n",
      "['0', '2', '5', '3', 'Any']\n",
      "0\n"
     ]
    },
    {
     "name": "stderr",
     "output_type": "stream",
     "text": [
      "17661it [00:02, 6782.06it/s]\n"
     ]
    },
    {
     "name": "stdout",
     "output_type": "stream",
     "text": [
      "TCGA24143101A01R156613 ['J', 'TCGA-24-1431-01A-01R-1566-13', '02512GA']\n",
      "['0', '2', '5', '1', '2']\n",
      "2\n"
     ]
    },
    {
     "name": "stderr",
     "output_type": "stream",
     "text": [
      "39415it [00:05, 6738.90it/s]\n"
     ]
    },
    {
     "name": "stdout",
     "output_type": "stream",
     "text": [
      "TCGA24143101A01R156613 ['J', 'TCGA-24-1431-01A-01R-1566-13', '0A11XGA']\n",
      "['0', 'Any', '1', '1', '10']\n",
      "1\n"
     ]
    },
    {
     "name": "stderr",
     "output_type": "stream",
     "text": [
      "74974it [00:10, 6864.13it/s]\n"
     ]
    },
    {
     "name": "stdout",
     "output_type": "stream",
     "text": [
      "TCGA24229801A01R156913 ['J', 'TCGA-24-2298-01A-01R-1569-13', '0A501GA']\n",
      "['0', 'Any', '5', '0', '1']\n",
      "None\n"
     ]
    },
    {
     "name": "stderr",
     "output_type": "stream",
     "text": [
      "93349it [00:13, 6817.48it/s]\n"
     ]
    },
    {
     "name": "stdout",
     "output_type": "stream",
     "text": [
      "TCGA24229801A01R156913 ['J', 'TCGA-24-2298-01A-01R-1569-13', '0A101GA']\n",
      "['0', 'Any', '1', '0', '1']\n",
      "None\n"
     ]
    },
    {
     "name": "stderr",
     "output_type": "stream",
     "text": [
      "75369it [00:11, 6725.83it/s]\n"
     ]
    },
    {
     "name": "stdout",
     "output_type": "stream",
     "text": [
      "TCGA24229801A01R156913 ['J', 'TCGA-24-2298-01A-01R-1569-13', '02112GA']\n",
      "['0', '2', '1', '1', '2']\n",
      "2\n"
     ]
    },
    {
     "name": "stderr",
     "output_type": "stream",
     "text": [
      "164923it [00:24, 6730.00it/s]\n"
     ]
    },
    {
     "name": "stdout",
     "output_type": "stream",
     "text": [
      "TCGA24229801A01R156913 ['J', 'TCGA-24-2298-01A-01R-1569-13', '0AN3AGA']\n",
      "['0', 'Any', 'None', '3', 'Any']\n",
      "0\n"
     ]
    },
    {
     "name": "stderr",
     "output_type": "stream",
     "text": [
      "73147it [00:10, 6762.93it/s]\n"
     ]
    },
    {
     "name": "stdout",
     "output_type": "stream",
     "text": [
      "TCGA24229801A01R156913 ['J', 'TCGA-24-2298-01A-01R-1569-13', '02101GA']\n",
      "['0', '2', '1', '0', '1']\n",
      "None\n"
     ]
    },
    {
     "name": "stderr",
     "output_type": "stream",
     "text": [
      "36821it [00:05, 6676.51it/s]\n"
     ]
    },
    {
     "name": "stdout",
     "output_type": "stream",
     "text": [
      "TCGA24229801A01R156913 ['J', 'TCGA-24-2298-01A-01R-1569-13', '02512GA']\n",
      "['0', '2', '5', '1', '2']\n",
      "2\n"
     ]
    },
    {
     "name": "stderr",
     "output_type": "stream",
     "text": [
      "61051it [00:09, 6637.05it/s]\n"
     ]
    },
    {
     "name": "stdout",
     "output_type": "stream",
     "text": [
      "TCGA24229801A01R156913 ['J', 'TCGA-24-2298-01A-01R-1569-13', '0253XGA']\n",
      "['0', '2', '5', '3', '10']\n",
      "1\n"
     ]
    },
    {
     "name": "stderr",
     "output_type": "stream",
     "text": [
      "45249it [00:06, 6715.80it/s]\n"
     ]
    },
    {
     "name": "stdout",
     "output_type": "stream",
     "text": [
      "TCGA24229801A01R156913 ['J', 'TCGA-24-2298-01A-01R-1569-13', '02532GA']\n",
      "['0', '2', '5', '3', '2']\n",
      "2\n"
     ]
    },
    {
     "name": "stderr",
     "output_type": "stream",
     "text": [
      "77523it [00:11, 6695.14it/s]\n"
     ]
    },
    {
     "name": "stdout",
     "output_type": "stream",
     "text": [
      "TCGA24229801A01R156913 ['J', 'TCGA-24-2298-01A-01R-1569-13', '0A51XGA']\n",
      "['0', 'Any', '5', '1', '10']\n",
      "1\n"
     ]
    },
    {
     "name": "stderr",
     "output_type": "stream",
     "text": [
      "35692it [00:05, 6720.78it/s]\n"
     ]
    },
    {
     "name": "stdout",
     "output_type": "stream",
     "text": [
      "TCGA24229801A01R156913 ['J', 'TCGA-24-2298-01A-01R-1569-13', '02501GA']\n",
      "['0', '2', '5', '0', '1']\n",
      "None\n"
     ]
    },
    {
     "name": "stderr",
     "output_type": "stream",
     "text": [
      "125692it [00:18, 6771.59it/s]\n"
     ]
    },
    {
     "name": "stdout",
     "output_type": "stream",
     "text": [
      "TCGA24229801A01R156913 ['J', 'TCGA-24-2298-01A-01R-1569-13', '0AN32GA']\n",
      "['0', 'Any', 'None', '3', '2']\n",
      "2\n"
     ]
    },
    {
     "name": "stderr",
     "output_type": "stream",
     "text": [
      "36926it [00:05, 6735.52it/s]\n"
     ]
    },
    {
     "name": "stdout",
     "output_type": "stream",
     "text": [
      "TCGA24229801A01R156913 ['J', 'TCGA-24-2298-01A-01R-1569-13', '0251XGA']\n",
      "['0', '2', '5', '1', '10']\n",
      "1\n"
     ]
    },
    {
     "name": "stderr",
     "output_type": "stream",
     "text": [
      "95209it [00:14, 6740.00it/s]\n"
     ]
    },
    {
     "name": "stdout",
     "output_type": "stream",
     "text": [
      "TCGA24229801A01R156913 ['J', 'TCGA-24-2298-01A-01R-1569-13', '0A532GA']\n",
      "['0', 'Any', '5', '3', '2']\n",
      "2\n"
     ]
    },
    {
     "name": "stderr",
     "output_type": "stream",
     "text": [
      "125591it [00:18, 6686.72it/s]\n"
     ]
    },
    {
     "name": "stdout",
     "output_type": "stream",
     "text": [
      "TCGA24229801A01R156913 ['J', 'TCGA-24-2298-01A-01R-1569-13', '0A53XGA']\n",
      "['0', 'Any', '5', '3', '10']\n",
      "1\n"
     ]
    },
    {
     "name": "stderr",
     "output_type": "stream",
     "text": [
      "63694it [00:09, 6687.69it/s]\n"
     ]
    },
    {
     "name": "stdout",
     "output_type": "stream",
     "text": [
      "TCGA24229801A01R156913 ['J', 'TCGA-24-2298-01A-01R-1569-13', '0253AGA']\n",
      "['0', '2', '5', '3', 'Any']\n",
      "0\n"
     ]
    },
    {
     "name": "stderr",
     "output_type": "stream",
     "text": [
      "96064it [00:14, 6801.69it/s]\n"
     ]
    },
    {
     "name": "stdout",
     "output_type": "stream",
     "text": [
      "TCGA24229801A01R156913 ['J', 'TCGA-24-2298-01A-01R-1569-13', '0A112GA']\n",
      "['0', 'Any', '1', '1', '2']\n",
      "2\n"
     ]
    },
    {
     "name": "stderr",
     "output_type": "stream",
     "text": [
      "75554it [00:11, 6746.83it/s]\n"
     ]
    },
    {
     "name": "stdout",
     "output_type": "stream",
     "text": [
      "TCGA24229801A01R156913 ['J', 'TCGA-24-2298-01A-01R-1569-13', '0211AGA']\n",
      "['0', '2', '1', '1', 'Any']\n",
      "0\n"
     ]
    },
    {
     "name": "stderr",
     "output_type": "stream",
     "text": [
      "104864it [00:15, 6754.11it/s]\n"
     ]
    },
    {
     "name": "stdout",
     "output_type": "stream",
     "text": [
      "TCGA24229801A01R156913 ['J', 'TCGA-24-2298-01A-01R-1569-13', '0AN1AGA']\n",
      "['0', 'Any', 'None', '1', 'Any']\n",
      "0\n"
     ]
    },
    {
     "name": "stderr",
     "output_type": "stream",
     "text": [
      "129908it [00:19, 6743.92it/s]\n"
     ]
    },
    {
     "name": "stdout",
     "output_type": "stream",
     "text": [
      "TCGA24229801A01R156913 ['J', 'TCGA-24-2298-01A-01R-1569-13', '0A53AGA']\n",
      "['0', 'Any', '5', '3', 'Any']\n",
      "0\n"
     ]
    },
    {
     "name": "stderr",
     "output_type": "stream",
     "text": [
      "119022it [00:17, 6730.65it/s]\n"
     ]
    },
    {
     "name": "stdout",
     "output_type": "stream",
     "text": [
      "TCGA24229801A01R156913 ['J', 'TCGA-24-2298-01A-01R-1569-13', '0213XGA']\n",
      "['0', '2', '1', '3', '10']\n",
      "1\n"
     ]
    },
    {
     "name": "stderr",
     "output_type": "stream",
     "text": [
      "160092it [00:23, 6802.48it/s]\n"
     ]
    },
    {
     "name": "stdout",
     "output_type": "stream",
     "text": [
      "TCGA24229801A01R156913 ['J', 'TCGA-24-2298-01A-01R-1569-13', '0AN3XGA']\n",
      "['0', 'Any', 'None', '3', '10']\n",
      "1\n"
     ]
    },
    {
     "name": "stderr",
     "output_type": "stream",
     "text": [
      "104864it [00:15, 6706.57it/s]\n"
     ]
    },
    {
     "name": "stdout",
     "output_type": "stream",
     "text": [
      "TCGA24229801A01R156913 ['J', 'TCGA-24-2298-01A-01R-1569-13', '0AN1XGA']\n",
      "['0', 'Any', 'None', '1', '10']\n",
      "1\n"
     ]
    },
    {
     "name": "stderr",
     "output_type": "stream",
     "text": [
      "75554it [00:11, 6686.86it/s]\n"
     ]
    },
    {
     "name": "stdout",
     "output_type": "stream",
     "text": [
      "TCGA24229801A01R156913 ['J', 'TCGA-24-2298-01A-01R-1569-13', '0211XGA']\n",
      "['0', '2', '1', '1', '10']\n",
      "1\n"
     ]
    },
    {
     "name": "stderr",
     "output_type": "stream",
     "text": [
      "91520it [00:13, 6771.21it/s]\n"
     ]
    },
    {
     "name": "stdout",
     "output_type": "stream",
     "text": [
      "TCGA24229801A01R156913 ['J', 'TCGA-24-2298-01A-01R-1569-13', '02132GA']\n",
      "['0', '2', '1', '3', '2']\n",
      "2\n"
     ]
    },
    {
     "name": "stderr",
     "output_type": "stream",
     "text": [
      "36926it [00:05, 6797.47it/s]\n"
     ]
    },
    {
     "name": "stdout",
     "output_type": "stream",
     "text": [
      "TCGA24229801A01R156913 ['J', 'TCGA-24-2298-01A-01R-1569-13', '0251AGA']\n",
      "['0', '2', '5', '1', 'Any']\n",
      "0\n"
     ]
    },
    {
     "name": "stderr",
     "output_type": "stream",
     "text": [
      "149577it [00:22, 6757.71it/s]\n"
     ]
    },
    {
     "name": "stdout",
     "output_type": "stream",
     "text": [
      "TCGA24229801A01R156913 ['J', 'TCGA-24-2298-01A-01R-1569-13', '0A13XGA']\n",
      "['0', 'Any', '1', '3', '10']\n",
      "1\n"
     ]
    },
    {
     "name": "stderr",
     "output_type": "stream",
     "text": [
      "101878it [00:15, 6698.22it/s]\n"
     ]
    },
    {
     "name": "stdout",
     "output_type": "stream",
     "text": [
      "TCGA24229801A01R156913 ['J', 'TCGA-24-2298-01A-01R-1569-13', '0AN01GA']\n",
      "['0', 'Any', 'None', '0', '1']\n",
      "None\n"
     ]
    },
    {
     "name": "stderr",
     "output_type": "stream",
     "text": [
      "116393it [00:17, 6581.19it/s]\n"
     ]
    },
    {
     "name": "stdout",
     "output_type": "stream",
     "text": [
      "TCGA24229801A01R156913 ['J', 'TCGA-24-2298-01A-01R-1569-13', '0A132GA']\n",
      "['0', 'Any', '1', '3', '2']\n",
      "2\n"
     ]
    },
    {
     "name": "stderr",
     "output_type": "stream",
     "text": [
      "104637it [00:16, 6222.00it/s]\n"
     ]
    },
    {
     "name": "stdout",
     "output_type": "stream",
     "text": [
      "TCGA24229801A01R156913 ['J', 'TCGA-24-2298-01A-01R-1569-13', '0AN12GA']\n",
      "['0', 'Any', 'None', '1', '2']\n",
      "2\n"
     ]
    },
    {
     "name": "stderr",
     "output_type": "stream",
     "text": [
      "96286it [00:14, 6766.34it/s]\n"
     ]
    },
    {
     "name": "stdout",
     "output_type": "stream",
     "text": [
      "TCGA24229801A01R156913 ['J', 'TCGA-24-2298-01A-01R-1569-13', '0A11AGA']\n",
      "['0', 'Any', '1', '1', 'Any']\n",
      "0\n"
     ]
    },
    {
     "name": "stderr",
     "output_type": "stream",
     "text": [
      "154355it [00:22, 6785.87it/s]\n"
     ]
    },
    {
     "name": "stdout",
     "output_type": "stream",
     "text": [
      "TCGA24229801A01R156913 ['J', 'TCGA-24-2298-01A-01R-1569-13', '0A13AGA']\n",
      "['0', 'Any', '1', '3', 'Any']\n",
      "0\n"
     ]
    },
    {
     "name": "stderr",
     "output_type": "stream",
     "text": [
      "96286it [00:14, 6797.32it/s]\n"
     ]
    },
    {
     "name": "stdout",
     "output_type": "stream",
     "text": [
      "TCGA24229801A01R156913 ['J', 'TCGA-24-2298-01A-01R-1569-13', '0A11XGA']\n",
      "['0', 'Any', '1', '1', '10']\n",
      "1\n"
     ]
    },
    {
     "name": "stderr",
     "output_type": "stream",
     "text": [
      "122968it [00:18, 6811.91it/s]\n"
     ]
    },
    {
     "name": "stdout",
     "output_type": "stream",
     "text": [
      "TCGA24229801A01R156913 ['J', 'TCGA-24-2298-01A-01R-1569-13', '0213AGA']\n",
      "['0', '2', '1', '3', 'Any']\n",
      "0\n"
     ]
    },
    {
     "name": "stderr",
     "output_type": "stream",
     "text": [
      "77310it [00:11, 6764.55it/s]\n"
     ]
    },
    {
     "name": "stdout",
     "output_type": "stream",
     "text": [
      "TCGA24229801A01R156913 ['J', 'TCGA-24-2298-01A-01R-1569-13', '0A512GA']\n",
      "['0', 'Any', '5', '1', '2']\n",
      "2\n"
     ]
    },
    {
     "name": "stderr",
     "output_type": "stream",
     "text": [
      "77523it [00:11, 6721.41it/s]\n"
     ]
    },
    {
     "name": "stdout",
     "output_type": "stream",
     "text": [
      "TCGA24229801A01R156913 ['J', 'TCGA-24-2298-01A-01R-1569-13', '0A51AGA']\n",
      "['0', 'Any', '5', '1', 'Any']\n",
      "0\n"
     ]
    }
   ],
   "source": [
    "filter_dir ='/cluster/work/grlab/projects/projects2020_OHSU/peptides_generation/CANCER_eth/commit_c4dd02c_conf2_Frame_cap0_runs/TCGA_Ovarian_374/filtering_samples/filters_19May_order_5ge_wAnnot_GPstar'\n",
    "             #/cluster/work/grlab/projects/projects2020_OHSU/peptides_generation/CANCER_eth/commit_c4dd02c_conf2_Frame_cap0_runs/TCGA_Breast_1102/filtering_samples/filters_19May_order_5ge_wAnnot_GPstar\n",
    "tar_file_OHSU = '/cluster/work/grlab/projects/projects2020_OHSU/share_OHUS_PNLL/June28_renamed_kmerfiles_OHSU.tar.gz'#'/cluster/work/grlab/projects/projects2020_OHSU/share_OHUS_PNLL/OHSU_June2023_filter-debug_all_output.tar.gz'\n",
    "pwd = '/cluster/home/myurchikova/github/projects2020_ohsu/eth/learning_Master_thesis/'\n",
    "\n",
    "OHSU_COLOR ='red' #'red'\n",
    "ETH_COLOR = 'green'#'green'\n",
    "OHSU_ETH_COLOR ='yellow' #'yellow'\n",
    "LANG = 'ENG'\n",
    "LOG = False\n",
    "out_df_filtered=pd.DataFrame()\n",
    "sample_target=['TCGA25131901A01R156513',\n",
    "            'TCGA25131301A01R156513',\n",
    "            'TCGA61200801A02R156813',\n",
    "            'TCGA24143101A01R156613',\n",
    "            'TCGA24229801A01R156913',]\n",
    "# sample_target=['TCGA-C8-A12P-01A-11R-A115-07']\n",
    "                \n",
    "if LANG == 'ENG':\n",
    "    title_venn = ' {sample}'\n",
    "else:\n",
    "    title_venn = '{sample}'\n",
    "\n",
    "# ETH Names\n",
    "eth_all = glob.glob(os.path.join(filter_dir, 'G*'))\n",
    "\n",
    "# OHSU Names\n",
    "with tarfile.open(tar_file_OHSU, \"r:*\") as tar:\n",
    "    ohsu_all = tar.getnames()\n",
    "\n",
    "# Get file pairs\n",
    "file_pair = {}\n",
    "for idx_eth, eth in enumerate(eth_all):\n",
    "    pattern = os.path.basename(eth).replace('G_', '').replace('.gz', '') \n",
    "    for idx_ohsu, ohsu in enumerate(ohsu_all):\n",
    "        if pattern in ohsu:\n",
    "            file_pair[eth] = ohsu\n",
    "\n",
    "restricts = sample_target\n",
    "for restrict in restricts:\n",
    "\n",
    "    df = {'sample' : [], \n",
    "      'filter_foreground' : [], \n",
    "      'filter_background' : [], \n",
    "      'filter': [],\n",
    "      'size_ohsu' : [], \n",
    "      'size_eth' : [], \n",
    "      'size_intersection' : [], \n",
    "      'size_ohsu\\eth' : [], \n",
    "      'size_eth\\ohsu' : [],\n",
    "      'eth_kmers\\inter':[],\n",
    "      'ohsu_kmers\\inter':[],\n",
    "\n",
    "      'coord_OHSU':[],\n",
    "      'coord_ETH':[],\n",
    "      'size_ohsu_coor' : [], \n",
    "      'size_eth_coor' : [], \n",
    "      'size_intersection_coor' : [], \n",
    "      'size_ohsu\\eth_coor' : [], \n",
    "      'size_eth\\ohsu_coor' : [],\n",
    "      'eth_coor\\inter_coor':[],\n",
    "      'ohsu_coor\\inter_coor':[],\n",
    "      'inter_coor':[],\n",
    "      'eth_coor\\ohsu_coor':[],\n",
    "      'ohsu_coor\\eth_coor':[],\n",
    "      'priority':[],\n",
    "          \n",
    "         }\n",
    "    with tarfile.open(tar_file_OHSU, \"r:*\") as tar: #OHSU\n",
    "        for eth, ohsu in file_pair.items(): # ETH\n",
    "            if (not restrict) or restrict == re.findall('G_([\\s\\S]+?)_',eth)[0].replace('-',''): #Restrict to category of interest\n",
    "                # try:\n",
    "                    df_ohsu = pd.read_csv(tar.extractfile(ohsu), sep=\"\\t\")\n",
    "                    df_ohsu.reset_index(inplace=True)\n",
    "                    if not df_ohsu.empty: df_ohsu = table_processing.ohsu_to_eth_coord(df_ohsu)\n",
    "                    if not df_ohsu.empty: df_ohsu['junction_coordinate'] = df_ohsu['jx_shifted'].apply(lambda x: ':'.join(x.split(';')[1:3]))\n",
    "                   \n",
    "                    df_eth = pd.read_csv(eth, sep=\"\\t\")\n",
    "                    df_eth = pd.read_csv(eth, sep=\"\\t\")\n",
    "                    if not df_eth.empty: df_eth=table_processing.get_junction_coordinates(df_eth,'coord')\n",
    "                    df1=df_eth\n",
    "                    df2=df_ohsu\n",
    "                    df_eth_coor = set(df1['junction_coordinate']) if not df1.empty else set([])\n",
    "                    df_ohsu_coor = set(df2['junction_coordinate']) if not df1.empty else set([])\n",
    "                    df['coord_ETH'].append(df1['junction_coordinate'] if not df1.empty else 'None' )\n",
    "                    df['coord_OHSU'].append(df2['junction_coordinate'] if not df2.empty else 'None')\n",
    "                    df_eth = set(df_eth['kmer'])\n",
    "                    df_ohsu = set(df_ohsu['index'])\n",
    "                    name = os.path.basename(ohsu).replace('.tsv', '').split('_')\n",
    "                    print(restrict,name)\n",
    "                    df['sample'].append(name[1].replace('-',''))\n",
    "                    if not OHSU_BRCA_NEW:\n",
    "                        df['filter_foreground'].append(name[2])\n",
    "                        df['filter_background'].append(name[3])\n",
    "                        if name[3][1] == 'Any':\n",
    "                            priority=0\n",
    "                        elif name[3][1] == 10:\n",
    "                            priority=1\n",
    "                        elif name[3][1] == 2:\n",
    "                            priority=2\n",
    "                        else:\n",
    "                            priotity = None\n",
    "                        df['priority'].append(priority)\n",
    "                        df['filter'].append(name[2]+' '+name[3])\n",
    "                    else:\n",
    "                        df['filter'].append(name[2])\n",
    "                        a = []\n",
    "                        for i in range(5):\n",
    "                            if name[2][i] == 'A':\n",
    "                                a.append('Any')\n",
    "                            elif name[2][i] == 'X':\n",
    "                                a.append('10')\n",
    "                            elif name[2][i] == 'N':\n",
    "                                a.append('None')\n",
    "                            else:\n",
    "                                a.append(name[2][i])\n",
    "                        df['filter_foreground'].append(f'({a[0]}, {a[1]}, {a[2]})')\n",
    "                        df['filter_background'].append(f'({a[3]}, {a[4]})')\n",
    "                        if a[4] == 'Any':\n",
    "                            priority=0\n",
    "                        elif a[4] == '10':\n",
    "                            priority=1\n",
    "                        elif a[4] == '2':\n",
    "                            priority=2\n",
    "                        else:\n",
    "                            priority = None\n",
    "                        df['priority'].append(priority)\n",
    "                    print(a)\n",
    "                    print(priority)\n",
    "                    df['size_ohsu'].append(len(df_ohsu))\n",
    "                    df['size_eth'].append(len(df_eth))\n",
    "                    df['size_ohsu\\eth'].append(len(df_ohsu_filter:=df_ohsu.difference(df_eth)))\n",
    "                    df['size_eth\\ohsu'].append(len(df_eth_filter:=df_eth.difference(df_ohsu)))\n",
    "                    df['size_intersection'].append(len(df_inter_filter:=df_ohsu & df_eth))\n",
    "                    df['eth_kmers\\inter'].append(df_eth_witout_inter:=list(df_eth_filter.difference(df_inter_filter)))\n",
    "                    df['ohsu_kmers\\inter'].append(df_ohsu_witout_inter:=list(df_ohsu_filter.difference(df_inter_filter)))\n",
    "\n",
    "                    \n",
    "                    df['size_ohsu_coor'].append(len(df_ohsu_coor))\n",
    "                    df['size_eth_coor'].append(len(df_eth_coor))\n",
    "                    df['size_ohsu\\eth_coor'].append(len(df_ohsu_filter_coor:=df_ohsu_coor.difference(df_eth_coor)))\n",
    "                    df['size_eth\\ohsu_coor'].append(len(df_eth_filter_coor:=df_eth_coor.difference(df_ohsu_coor)))\n",
    "                    df['size_intersection_coor'].append(len(df_inter_filter_coor:=df_ohsu_coor & df_eth_coor))\n",
    "                    df['eth_coor\\inter_coor'].append(df_eth_witout_inter_coor:=list(df_eth_filter_coor.difference(df_inter_filter_coor)))\n",
    "                    df['ohsu_coor\\inter_coor'].append(df_ohsu_witout_inter_coor:=list(df_ohsu_filter_coor.difference(df_inter_filter_coor)))\n",
    "                    df['eth_coor\\ohsu_coor'].append(df_eth_witout_inter_coor:=list(df_eth_filter_coor.difference(df_ohsu_filter_coor)))\n",
    "                    df['ohsu_coor\\eth_coor'].append(df_ohsu_witout_inter_coor:=list(df_ohsu_filter_coor.difference(df_eth_filter_coor)))\n",
    "                    \n",
    "                    df['inter_coor'].append(list(df_inter_filter_coor))\n",
    "                    if LOG == True:\n",
    "                        print(\"\\n\\nOSHU\\n\\n\")\n",
    "                        print(df_ohsu)\n",
    "                        print(\"\\n\\nETH\\n\\n\")\n",
    "                        print(df_eth)\n",
    "\n",
    "                # except Exception as e:\n",
    "                #     print(\"Error\",e)\n",
    "                #     continue\n",
    "    df = pd.DataFrame(df)\n",
    "    if not out_df_filtered.empty:\n",
    "        out_df_filtered = pd.concat([out_df_filtered, df])\n",
    "    else:\n",
    "        out_df_filtered = df"
   ]
  },
  {
   "cell_type": "code",
   "execution_count": 8,
   "id": "55eb175c",
   "metadata": {},
   "outputs": [],
   "source": [
    "path_filtering=create_path.create_path(SAVE_DIR,[DIR_CSV,DIR_OVARIAN,NAME_TABLES,NAME_FILTERING_OVARIAN])\n",
    "out_df_filtered.to_csv(path_filtering,header=True,sep=';')\n"
   ]
  },
  {
   "cell_type": "code",
   "execution_count": null,
   "id": "f1b7f8d1",
   "metadata": {},
   "outputs": [],
   "source": []
  }
 ],
 "metadata": {
  "kernelspec": {
   "display_name": "Python 3 (ipykernel)",
   "language": "python",
   "name": "python3"
  },
  "language_info": {
   "codemirror_mode": {
    "name": "ipython",
    "version": 3
   },
   "file_extension": ".py",
   "mimetype": "text/x-python",
   "name": "python",
   "nbconvert_exporter": "python",
   "pygments_lexer": "ipython3",
   "version": "3.10.12"
  }
 },
 "nbformat": 4,
 "nbformat_minor": 5
}
