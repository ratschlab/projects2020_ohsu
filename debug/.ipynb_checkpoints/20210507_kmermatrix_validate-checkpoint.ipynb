{
 "cells": [
  {
   "cell_type": "code",
   "execution_count": 89,
   "metadata": {
    "ExecuteTime": {
     "end_time": "2021-05-07T09:29:31.979734Z",
     "start_time": "2021-05-07T09:29:31.975425Z"
    }
   },
   "outputs": [],
   "source": [
    "import pickle \n",
    "import os \n",
    "import pandas as pd \n",
    "import numpy as np\n",
    "import h5py"
   ]
  },
  {
   "cell_type": "code",
   "execution_count": 2,
   "metadata": {
    "ExecuteTime": {
     "end_time": "2021-05-07T08:32:39.391088Z",
     "start_time": "2021-05-07T08:32:39.385580Z"
    }
   },
   "outputs": [],
   "source": [
    "checks_dir = '/cluster/home/prelotla/GitHub/projects2020_ohsu/peptides_generation/background'\n",
    "\n",
    "path_mx = os.path.join(checks_dir, 'kmer_matrix_output')\n",
    "path_pep = os.path.join(checks_dir, 'peptide_output')\n",
    "\n",
    "#test =h5py.File('/cluster/work/grlab/projects/projects2020_OHSU/spladder/TCGA_all_normals/genes_graph_conf2.merge_graphs.count.hdf5', 'r')\n",
    "all_strains = [strain.decode() for strain in test['strains'][:] ] \n",
    "sample_uniq = 'TCGA-06-0678-11A.all'\n",
    "idx_sample = [i for i, strain in enumerate(all_strains) if strain == sample_uniq][0]"
   ]
  },
  {
   "cell_type": "code",
   "execution_count": 4,
   "metadata": {
    "ExecuteTime": {
     "end_time": "2021-05-07T08:34:10.139181Z",
     "start_time": "2021-05-07T08:34:10.042071Z"
    }
   },
   "outputs": [],
   "source": [
    "mx = pickle.load(open(path_mx, 'rb'))\n",
    "segm_exp = 2\n",
    "junc_exp = 3\n",
    "kmers_i = 0 \n",
    "is_junction = 1\n",
    "pep = pickle.load(open(path_pep, 'rb'))"
   ]
  },
  {
   "cell_type": "code",
   "execution_count": 86,
   "metadata": {
    "ExecuteTime": {
     "end_time": "2021-05-07T09:28:43.923963Z",
     "start_time": "2021-05-07T09:28:43.800999Z"
    }
   },
   "outputs": [],
   "source": [
    "# Matrix mode used for multisample\n",
    "seg_expr_mx = pd.DataFrame(mx[segm_exp])\n",
    "seg_expr_mx['is_junction'] =  mx[is_junction]\n",
    "seg_expr_mx = seg_expr_mx.rename({idx_sample: 'SegmExpr'}, axis = 1)\n",
    "seg_expr_mx = seg_expr_mx.loc[:, ['is_junction', 'SegmExpr']]\n",
    "seg_expr_mx.index = mx[kmers_i]\n",
    "\n",
    "\n",
    "junc_exp_mx = pd.DataFrame(mx[junc_exp])\n",
    "junc_exp_mx['is_junction'] =  mx[is_junction]\n",
    "junc_exp_mx = junc_exp_mx.rename({idx_sample: 'JuncExpr'}, axis = 1)\n",
    "junc_exp_mx = junc_exp_mx.loc[:, ['is_junction', 'JuncExpr']]\n",
    "junc_exp_mx.index = mx[kmers_i]\n",
    "\n",
    "mx_singles_sample = seg_expr_mx.join(junc_exp_mx.drop('is_junction', axis = 1))"
   ]
  },
  {
   "cell_type": "code",
   "execution_count": 87,
   "metadata": {
    "ExecuteTime": {
     "end_time": "2021-05-07T09:28:47.561568Z",
     "start_time": "2021-05-07T09:28:47.552437Z"
    }
   },
   "outputs": [
    {
     "data": {
      "text/html": [
       "<div>\n",
       "<style scoped>\n",
       "    .dataframe tbody tr th:only-of-type {\n",
       "        vertical-align: middle;\n",
       "    }\n",
       "\n",
       "    .dataframe tbody tr th {\n",
       "        vertical-align: top;\n",
       "    }\n",
       "\n",
       "    .dataframe thead th {\n",
       "        text-align: right;\n",
       "    }\n",
       "</style>\n",
       "<table border=\"1\" class=\"dataframe\">\n",
       "  <thead>\n",
       "    <tr style=\"text-align: right;\">\n",
       "      <th></th>\n",
       "      <th>is_junction</th>\n",
       "      <th>SegmExpr</th>\n",
       "      <th>JuncExpr</th>\n",
       "    </tr>\n",
       "  </thead>\n",
       "  <tbody>\n",
       "    <tr>\n",
       "      <th>MPAVKKEFP</th>\n",
       "      <td>False</td>\n",
       "      <td>0.59</td>\n",
       "      <td>NaN</td>\n",
       "    </tr>\n",
       "    <tr>\n",
       "      <th>PAVKKEFPG</th>\n",
       "      <td>False</td>\n",
       "      <td>0.59</td>\n",
       "      <td>NaN</td>\n",
       "    </tr>\n",
       "    <tr>\n",
       "      <th>AVKKEFPGR</th>\n",
       "      <td>False</td>\n",
       "      <td>0.59</td>\n",
       "      <td>NaN</td>\n",
       "    </tr>\n",
       "    <tr>\n",
       "      <th>VKKEFPGRE</th>\n",
       "      <td>False</td>\n",
       "      <td>0.59</td>\n",
       "      <td>NaN</td>\n",
       "    </tr>\n",
       "    <tr>\n",
       "      <th>KKEFPGRED</th>\n",
       "      <td>False</td>\n",
       "      <td>0.59</td>\n",
       "      <td>NaN</td>\n",
       "    </tr>\n",
       "  </tbody>\n",
       "</table>\n",
       "</div>"
      ],
      "text/plain": [
       "           is_junction  SegmExpr  JuncExpr\n",
       "MPAVKKEFP        False      0.59       NaN\n",
       "PAVKKEFPG        False      0.59       NaN\n",
       "AVKKEFPGR        False      0.59       NaN\n",
       "VKKEFPGRE        False      0.59       NaN\n",
       "KKEFPGRED        False      0.59       NaN"
      ]
     },
     "execution_count": 87,
     "metadata": {},
     "output_type": "execute_result"
    }
   ],
   "source": [
    "mx_singles_sample.head()"
   ]
  },
  {
   "cell_type": "code",
   "execution_count": 92,
   "metadata": {
    "ExecuteTime": {
     "end_time": "2021-05-07T09:30:38.104222Z",
     "start_time": "2021-05-07T09:30:38.100297Z"
    }
   },
   "outputs": [],
   "source": [
    "# Single output kmer object from single sample mode (same as Jiayu)\n",
    "seg_expr_sample = [pep[i].segment_expr for i in np.arange(len(pep))]\n",
    "junc_expr_sample = [pep[i].junction_expr for i in np.arange(len(pep))]\n",
    "kmer_sample = [pep[i].kmer for i in np.arange(len(pep))]\n",
    "is_junction_sample = [pep[i].is_cross_junction for i in np.arange(len(pep))]\n",
    "\n",
    "mode_singles_sample = pd.DataFrame({'is_junction':is_junction_sample, \n",
    "                                   'SegmExpr':seg_expr_sample, \n",
    "                                    'JuncExpr':junc_expr_sample, \n",
    "                                   })\n",
    "mode_singles_sample.index = kmer_sample\n",
    "\n",
    "mode_singles_sample.head()"
   ]
  },
  {
   "cell_type": "code",
   "execution_count": 99,
   "metadata": {
    "ExecuteTime": {
     "end_time": "2021-05-07T09:34:28.152599Z",
     "start_time": "2021-05-07T09:34:28.141443Z"
    }
   },
   "outputs": [
    {
     "ename": "ValueError",
     "evalue": "Lengths must match to compare",
     "output_type": "error",
     "traceback": [
      "\u001b[0;31m---------------------------------------------------------------------------\u001b[0m",
      "\u001b[0;31mValueError\u001b[0m                                Traceback (most recent call last)",
      "\u001b[0;32m<ipython-input-99-5b7dc986e5b4>\u001b[0m in \u001b[0;36m<module>\u001b[0;34m\u001b[0m\n\u001b[0;32m----> 1\u001b[0;31m \u001b[0mmode_singles_sample\u001b[0m\u001b[0;34m.\u001b[0m\u001b[0mindex\u001b[0m \u001b[0;34m==\u001b[0m \u001b[0mmx_singles_sample\u001b[0m\u001b[0;34m.\u001b[0m\u001b[0mindex\u001b[0m\u001b[0;34m\u001b[0m\u001b[0;34m\u001b[0m\u001b[0m\n\u001b[0m",
      "\u001b[0;32m~/software/anaconda3/envs/myimmuno3_light/lib/python3.8/site-packages/pandas/core/indexes/base.py\u001b[0m in \u001b[0;36mcmp_method\u001b[0;34m(self, other)\u001b[0m\n\u001b[1;32m    121\u001b[0m         \u001b[0;32mif\u001b[0m \u001b[0misinstance\u001b[0m\u001b[0;34m(\u001b[0m\u001b[0mother\u001b[0m\u001b[0;34m,\u001b[0m \u001b[0;34m(\u001b[0m\u001b[0mnp\u001b[0m\u001b[0;34m.\u001b[0m\u001b[0mndarray\u001b[0m\u001b[0;34m,\u001b[0m \u001b[0mIndex\u001b[0m\u001b[0;34m,\u001b[0m \u001b[0mABCSeries\u001b[0m\u001b[0;34m,\u001b[0m \u001b[0mExtensionArray\u001b[0m\u001b[0;34m)\u001b[0m\u001b[0;34m)\u001b[0m\u001b[0;34m:\u001b[0m\u001b[0;34m\u001b[0m\u001b[0;34m\u001b[0m\u001b[0m\n\u001b[1;32m    122\u001b[0m             \u001b[0;32mif\u001b[0m \u001b[0mother\u001b[0m\u001b[0;34m.\u001b[0m\u001b[0mndim\u001b[0m \u001b[0;34m>\u001b[0m \u001b[0;36m0\u001b[0m \u001b[0;32mand\u001b[0m \u001b[0mlen\u001b[0m\u001b[0;34m(\u001b[0m\u001b[0mself\u001b[0m\u001b[0;34m)\u001b[0m \u001b[0;34m!=\u001b[0m \u001b[0mlen\u001b[0m\u001b[0;34m(\u001b[0m\u001b[0mother\u001b[0m\u001b[0;34m)\u001b[0m\u001b[0;34m:\u001b[0m\u001b[0;34m\u001b[0m\u001b[0;34m\u001b[0m\u001b[0m\n\u001b[0;32m--> 123\u001b[0;31m                 \u001b[0;32mraise\u001b[0m \u001b[0mValueError\u001b[0m\u001b[0;34m(\u001b[0m\u001b[0;34m\"Lengths must match to compare\"\u001b[0m\u001b[0;34m)\u001b[0m\u001b[0;34m\u001b[0m\u001b[0;34m\u001b[0m\u001b[0m\n\u001b[0m\u001b[1;32m    124\u001b[0m \u001b[0;34m\u001b[0m\u001b[0m\n\u001b[1;32m    125\u001b[0m         \u001b[0;32mif\u001b[0m \u001b[0mis_object_dtype\u001b[0m\u001b[0;34m(\u001b[0m\u001b[0mself\u001b[0m\u001b[0;34m.\u001b[0m\u001b[0mdtype\u001b[0m\u001b[0;34m)\u001b[0m \u001b[0;32mand\u001b[0m \u001b[0misinstance\u001b[0m\u001b[0;34m(\u001b[0m\u001b[0mother\u001b[0m\u001b[0;34m,\u001b[0m \u001b[0mABCCategorical\u001b[0m\u001b[0;34m)\u001b[0m\u001b[0;34m:\u001b[0m\u001b[0;34m\u001b[0m\u001b[0;34m\u001b[0m\u001b[0m\n",
      "\u001b[0;31mValueError\u001b[0m: Lengths must match to compare"
     ]
    }
   ],
   "source": [
    "mode_singles_sample.index == mx_singles_sample.index"
   ]
  },
  {
   "cell_type": "code",
   "execution_count": 107,
   "metadata": {
    "ExecuteTime": {
     "end_time": "2021-05-07T09:36:10.793764Z",
     "start_time": "2021-05-07T09:36:10.789098Z"
    }
   },
   "outputs": [],
   "source": [
    "missing_kmers = [kmer for kmer in mx_singles_sample.index if kmer not in mode_singles_sample.index ]"
   ]
  },
  {
   "cell_type": "code",
   "execution_count": 112,
   "metadata": {
    "ExecuteTime": {
     "end_time": "2021-05-07T09:36:29.786005Z",
     "start_time": "2021-05-07T09:36:29.782735Z"
    }
   },
   "outputs": [],
   "source": [
    "mx_singles_sample_short = mx_singles_sample.drop(missing_kmers, axis = 0).shape"
   ]
  },
  {
   "cell_type": "code",
   "execution_count": 120,
   "metadata": {
    "ExecuteTime": {
     "end_time": "2021-05-07T09:38:45.351600Z",
     "start_time": "2021-05-07T09:38:45.347260Z"
    }
   },
   "outputs": [],
   "source": [
    "compare = mx_singles_sample_short.merge(mode_singles_sample ,  left_index=True,\n",
    "                                      right_index=True)"
   ]
  },
  {
   "cell_type": "code",
   "execution_count": 121,
   "metadata": {
    "ExecuteTime": {
     "end_time": "2021-05-07T09:38:50.508832Z",
     "start_time": "2021-05-07T09:38:50.494913Z"
    }
   },
   "outputs": [
    {
     "data": {
      "text/html": [
       "<div>\n",
       "<style scoped>\n",
       "    .dataframe tbody tr th:only-of-type {\n",
       "        vertical-align: middle;\n",
       "    }\n",
       "\n",
       "    .dataframe tbody tr th {\n",
       "        vertical-align: top;\n",
       "    }\n",
       "\n",
       "    .dataframe thead th {\n",
       "        text-align: right;\n",
       "    }\n",
       "</style>\n",
       "<table border=\"1\" class=\"dataframe\">\n",
       "  <thead>\n",
       "    <tr style=\"text-align: right;\">\n",
       "      <th></th>\n",
       "      <th>is_junction_x</th>\n",
       "      <th>SegmExpr_x</th>\n",
       "      <th>JuncExpr_x</th>\n",
       "      <th>is_junction_y</th>\n",
       "      <th>SegmExpr_y</th>\n",
       "      <th>JuncExpr_y</th>\n",
       "    </tr>\n",
       "  </thead>\n",
       "  <tbody>\n",
       "    <tr>\n",
       "      <th>MPAVKKEFP</th>\n",
       "      <td>False</td>\n",
       "      <td>0.59</td>\n",
       "      <td>NaN</td>\n",
       "      <td>False</td>\n",
       "      <td>0.59</td>\n",
       "      <td>NaN</td>\n",
       "    </tr>\n",
       "    <tr>\n",
       "      <th>PAVKKEFPG</th>\n",
       "      <td>False</td>\n",
       "      <td>0.59</td>\n",
       "      <td>NaN</td>\n",
       "      <td>False</td>\n",
       "      <td>0.59</td>\n",
       "      <td>NaN</td>\n",
       "    </tr>\n",
       "    <tr>\n",
       "      <th>AVKKEFPGR</th>\n",
       "      <td>False</td>\n",
       "      <td>0.59</td>\n",
       "      <td>NaN</td>\n",
       "      <td>False</td>\n",
       "      <td>0.59</td>\n",
       "      <td>NaN</td>\n",
       "    </tr>\n",
       "    <tr>\n",
       "      <th>VKKEFPGRE</th>\n",
       "      <td>False</td>\n",
       "      <td>0.59</td>\n",
       "      <td>NaN</td>\n",
       "      <td>False</td>\n",
       "      <td>0.59</td>\n",
       "      <td>NaN</td>\n",
       "    </tr>\n",
       "    <tr>\n",
       "      <th>KKEFPGRED</th>\n",
       "      <td>False</td>\n",
       "      <td>0.59</td>\n",
       "      <td>NaN</td>\n",
       "      <td>False</td>\n",
       "      <td>0.59</td>\n",
       "      <td>NaN</td>\n",
       "    </tr>\n",
       "  </tbody>\n",
       "</table>\n",
       "</div>"
      ],
      "text/plain": [
       "           is_junction_x  SegmExpr_x  JuncExpr_x  is_junction_y  SegmExpr_y  \\\n",
       "MPAVKKEFP          False        0.59         NaN          False        0.59   \n",
       "PAVKKEFPG          False        0.59         NaN          False        0.59   \n",
       "AVKKEFPGR          False        0.59         NaN          False        0.59   \n",
       "VKKEFPGRE          False        0.59         NaN          False        0.59   \n",
       "KKEFPGRED          False        0.59         NaN          False        0.59   \n",
       "\n",
       "           JuncExpr_y  \n",
       "MPAVKKEFP         NaN  \n",
       "PAVKKEFPG         NaN  \n",
       "AVKKEFPGR         NaN  \n",
       "VKKEFPGRE         NaN  \n",
       "KKEFPGRED         NaN  "
      ]
     },
     "execution_count": 121,
     "metadata": {},
     "output_type": "execute_result"
    }
   ],
   "source": [
    "compare.head()"
   ]
  },
  {
   "cell_type": "code",
   "execution_count": 136,
   "metadata": {
    "ExecuteTime": {
     "end_time": "2021-05-07T09:42:47.261389Z",
     "start_time": "2021-05-07T09:42:47.257061Z"
    }
   },
   "outputs": [],
   "source": [
    "foo = compare['SegmExpr_x'] - compare['SegmExpr_y']"
   ]
  },
  {
   "cell_type": "code",
   "execution_count": 139,
   "metadata": {
    "ExecuteTime": {
     "end_time": "2021-05-07T09:43:22.733935Z",
     "start_time": "2021-05-07T09:43:22.727653Z"
    }
   },
   "outputs": [],
   "source": [
    "foo2 = foo[~np.isnan(foo)]\n",
    "foo3 = foo[foo !=0]"
   ]
  },
  {
   "cell_type": "code",
   "execution_count": 140,
   "metadata": {
    "ExecuteTime": {
     "end_time": "2021-05-07T09:43:25.326380Z",
     "start_time": "2021-05-07T09:43:25.320495Z"
    }
   },
   "outputs": [
    {
     "data": {
      "text/plain": [
       "WKRSIRHKG    0.20\n",
       "KRSIRHKGS   -0.97\n",
       "RSIRHKGSA   -1.56\n",
       "SIRHKGSAS   -2.13\n",
       "IRHKGSASA   -2.72\n",
       "RHKGSASAL   -3.30\n",
       "HKGSASALL   -3.89\n",
       "KGSASALLA   -4.47\n",
       "GSASALLAG   -5.05\n",
       "SASALLAGK   -5.25\n",
       "ASALLAGKS   -5.25\n",
       "SALLAGKSL   -5.25\n",
       "ALLAGKSLK   -5.25\n",
       "LLAGKSLKT   -5.25\n",
       "LAGKSLKTL   -5.25\n",
       "AGKSLKTLM   -5.25\n",
       "GKSLKTLMS   -5.25\n",
       "KSLKTLMSK   -5.25\n",
       "SLKTLMSKG   -5.25\n",
       "LKTLMSKGI   -5.25\n",
       "KTLMSKGIL   -5.25\n",
       "TLMSKGILQ   -5.25\n",
       "LMSKGILQV   -5.25\n",
       "MSKGILQVH   -5.25\n",
       "SKGILQVHP   -5.25\n",
       "KGILQVHPP   -5.25\n",
       "GILQVHPPI   -5.25\n",
       "ILQVHPPIC   -5.25\n",
       "LQVHPPICD   -5.25\n",
       "QVHPPICDC   -5.25\n",
       "VHPPICDCP   -5.25\n",
       "HPPICDCPG   -5.25\n",
       "PPICDCPGC   -5.25\n",
       "PICDCPGCR   -5.25\n",
       "ICDCPGCRI   -5.25\n",
       "CDCPGCRIS   -5.25\n",
       "DCPGCRISS   -5.25\n",
       "CPGCRISSP   -5.25\n",
       "PGCRISSPV   -5.25\n",
       "dtype: float64"
      ]
     },
     "execution_count": 140,
     "metadata": {},
     "output_type": "execute_result"
    }
   ],
   "source": [
    "foo3"
   ]
  },
  {
   "cell_type": "code",
   "execution_count": 124,
   "metadata": {
    "ExecuteTime": {
     "end_time": "2021-05-07T09:39:42.086609Z",
     "start_time": "2021-05-07T09:39:42.083611Z"
    }
   },
   "outputs": [],
   "source": [
    "foo = compare['JuncExpr_x'] - compare['JuncExpr_y']"
   ]
  },
  {
   "cell_type": "code",
   "execution_count": 127,
   "metadata": {
    "ExecuteTime": {
     "end_time": "2021-05-07T09:40:08.963511Z",
     "start_time": "2021-05-07T09:40:08.957129Z"
    }
   },
   "outputs": [
    {
     "data": {
      "text/plain": [
       "WKRSIRHKG    0.0\n",
       "KRSIRHKGS    0.0\n",
       "RSIRHKGSA    0.0\n",
       "SIRHKGSAS    0.0\n",
       "IRHKGSASA    0.0\n",
       "RHKGSASAL    0.0\n",
       "HKGSASALL    0.0\n",
       "KGSASALLA    0.0\n",
       "GSASALLAG    0.0\n",
       "dtype: float64"
      ]
     },
     "execution_count": 127,
     "metadata": {},
     "output_type": "execute_result"
    }
   ],
   "source": [
    "foo[~np.isnan(foo)]"
   ]
  },
  {
   "cell_type": "code",
   "execution_count": 133,
   "metadata": {
    "ExecuteTime": {
     "end_time": "2021-05-07T09:41:50.490052Z",
     "start_time": "2021-05-07T09:41:50.480464Z"
    }
   },
   "outputs": [
    {
     "data": {
      "text/html": [
       "<div>\n",
       "<style scoped>\n",
       "    .dataframe tbody tr th:only-of-type {\n",
       "        vertical-align: middle;\n",
       "    }\n",
       "\n",
       "    .dataframe tbody tr th {\n",
       "        vertical-align: top;\n",
       "    }\n",
       "\n",
       "    .dataframe thead th {\n",
       "        text-align: right;\n",
       "    }\n",
       "</style>\n",
       "<table border=\"1\" class=\"dataframe\">\n",
       "  <thead>\n",
       "    <tr style=\"text-align: right;\">\n",
       "      <th></th>\n",
       "      <th>is_junction</th>\n",
       "      <th>SegmExpr</th>\n",
       "      <th>JuncExpr</th>\n",
       "    </tr>\n",
       "  </thead>\n",
       "  <tbody>\n",
       "    <tr>\n",
       "      <th>KRSIRHKGK</th>\n",
       "      <td>True</td>\n",
       "      <td>1.78</td>\n",
       "      <td>2.0</td>\n",
       "    </tr>\n",
       "    <tr>\n",
       "      <th>RSIRHKGKV</th>\n",
       "      <td>True</td>\n",
       "      <td>2.38</td>\n",
       "      <td>2.0</td>\n",
       "    </tr>\n",
       "  </tbody>\n",
       "</table>\n",
       "</div>"
      ],
      "text/plain": [
       "           is_junction  SegmExpr  JuncExpr\n",
       "KRSIRHKGK         True      1.78       2.0\n",
       "RSIRHKGKV         True      2.38       2.0"
      ]
     },
     "execution_count": 133,
     "metadata": {},
     "output_type": "execute_result"
    }
   ],
   "source": [
    "mx_singles_sample.loc[missing_kmers, :]"
   ]
  },
  {
   "cell_type": "code",
   "execution_count": 135,
   "metadata": {
    "ExecuteTime": {
     "end_time": "2021-05-07T09:42:21.828122Z",
     "start_time": "2021-05-07T09:42:21.824383Z"
    }
   },
   "outputs": [
    {
     "data": {
      "text/plain": [
       "False"
      ]
     },
     "execution_count": 135,
     "metadata": {},
     "output_type": "execute_result"
    }
   ],
   "source": [
    "'KRSIRHKGK' in mode_singles_sample.index"
   ]
  },
  {
   "cell_type": "code",
   "execution_count": 129,
   "metadata": {
    "ExecuteTime": {
     "end_time": "2021-05-07T09:41:03.415707Z",
     "start_time": "2021-05-07T09:41:03.411635Z"
    }
   },
   "outputs": [
    {
     "data": {
      "text/plain": [
       "['KRSIRHKGK', 'RSIRHKGKV']"
      ]
     },
     "execution_count": 129,
     "metadata": {},
     "output_type": "execute_result"
    }
   ],
   "source": [
    "missing_kmers"
   ]
  },
  {
   "cell_type": "code",
   "execution_count": 128,
   "metadata": {
    "ExecuteTime": {
     "end_time": "2021-05-07T09:40:54.263076Z",
     "start_time": "2021-05-07T09:40:54.252585Z"
    }
   },
   "outputs": [
    {
     "data": {
      "text/html": [
       "<div>\n",
       "<style scoped>\n",
       "    .dataframe tbody tr th:only-of-type {\n",
       "        vertical-align: middle;\n",
       "    }\n",
       "\n",
       "    .dataframe tbody tr th {\n",
       "        vertical-align: top;\n",
       "    }\n",
       "\n",
       "    .dataframe thead th {\n",
       "        text-align: right;\n",
       "    }\n",
       "</style>\n",
       "<table border=\"1\" class=\"dataframe\">\n",
       "  <thead>\n",
       "    <tr style=\"text-align: right;\">\n",
       "      <th></th>\n",
       "      <th>is_junction</th>\n",
       "      <th>SegmExpr</th>\n",
       "      <th>JuncExpr</th>\n",
       "    </tr>\n",
       "  </thead>\n",
       "  <tbody>\n",
       "    <tr>\n",
       "      <th>ICDCPGCRI</th>\n",
       "      <td>False</td>\n",
       "      <td>0.7</td>\n",
       "      <td>NaN</td>\n",
       "    </tr>\n",
       "    <tr>\n",
       "      <th>CDCPGCRIS</th>\n",
       "      <td>False</td>\n",
       "      <td>0.7</td>\n",
       "      <td>NaN</td>\n",
       "    </tr>\n",
       "    <tr>\n",
       "      <th>DCPGCRISS</th>\n",
       "      <td>False</td>\n",
       "      <td>0.7</td>\n",
       "      <td>NaN</td>\n",
       "    </tr>\n",
       "    <tr>\n",
       "      <th>CPGCRISSP</th>\n",
       "      <td>False</td>\n",
       "      <td>0.7</td>\n",
       "      <td>NaN</td>\n",
       "    </tr>\n",
       "    <tr>\n",
       "      <th>PGCRISSPV</th>\n",
       "      <td>False</td>\n",
       "      <td>0.7</td>\n",
       "      <td>NaN</td>\n",
       "    </tr>\n",
       "  </tbody>\n",
       "</table>\n",
       "</div>"
      ],
      "text/plain": [
       "           is_junction  SegmExpr  JuncExpr\n",
       "ICDCPGCRI        False       0.7       NaN\n",
       "CDCPGCRIS        False       0.7       NaN\n",
       "DCPGCRISS        False       0.7       NaN\n",
       "CPGCRISSP        False       0.7       NaN\n",
       "PGCRISSPV        False       0.7       NaN"
      ]
     },
     "execution_count": 128,
     "metadata": {},
     "output_type": "execute_result"
    }
   ],
   "source": [
    "mx_singles_sample.tail()\n"
   ]
  },
  {
   "cell_type": "code",
   "execution_count": null,
   "metadata": {},
   "outputs": [],
   "source": [
    "# JUNCTION EXPRESSION LOOKS GOOD - BUT SEGMENT EXPRESSION IS NOT \n",
    "# + THEY ARE TWO MISSING KMERS"
   ]
  }
 ],
 "metadata": {
  "kernelspec": {
   "display_name": "myimmuno3_light",
   "language": "python",
   "name": "myimmuno3_light"
  },
  "language_info": {
   "codemirror_mode": {
    "name": "ipython",
    "version": 3
   },
   "file_extension": ".py",
   "mimetype": "text/x-python",
   "name": "python",
   "nbconvert_exporter": "python",
   "pygments_lexer": "ipython3",
   "version": "3.8.5"
  }
 },
 "nbformat": 4,
 "nbformat_minor": 4
}
