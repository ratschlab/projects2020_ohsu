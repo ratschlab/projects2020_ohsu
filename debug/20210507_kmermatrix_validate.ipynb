{
 "cells": [
  {
   "cell_type": "code",
   "execution_count": 1,
   "metadata": {
    "ExecuteTime": {
     "end_time": "2021-05-10T08:44:25.950171Z",
     "start_time": "2021-05-10T08:44:25.242715Z"
    }
   },
   "outputs": [],
   "source": [
    "import pickle \n",
    "import os \n",
    "import pandas as pd \n",
    "import numpy as np\n",
    "import h5py"
   ]
  },
  {
   "cell_type": "code",
   "execution_count": 2,
   "metadata": {
    "ExecuteTime": {
     "end_time": "2021-05-10T08:44:25.955441Z",
     "start_time": "2021-05-10T08:44:25.952158Z"
    }
   },
   "outputs": [],
   "source": [
    "checks_dir = '/cluster/home/prelotla/GitHub/projects2020_ohsu/peptides_generation/background'\n",
    "\n",
    "path_mx = os.path.join(checks_dir, 'kmer_matrix_newmethod_correct')\n",
    "path_pep = os.path.join(checks_dir, 'peptide_newmethod_output')\n",
    "\n",
    "#test =h5py.File('/cluster/work/grlab/projects/projects2020_OHSU/spladder/TCGA_all_normals/genes_graph_conf2.merge_graphs.count.hdf5', 'r')\n",
    "#all_strains = [strain.decode() for strain in test['strains'][:] ] \n",
    "sample_uniq = 'TCGA-06-0678-11A.all'\n",
    "#idx_sample = [i for i, strain in enumerate(all_strains) if strain == sample_uniq][0]\n",
    "idx_sample = 1"
   ]
  },
  {
   "cell_type": "code",
   "execution_count": 3,
   "metadata": {
    "ExecuteTime": {
     "end_time": "2021-05-10T08:44:26.732548Z",
     "start_time": "2021-05-10T08:44:26.614674Z"
    }
   },
   "outputs": [],
   "source": [
    "mx = pickle.load(open(path_mx, 'rb'))\n",
    "segm_exp = 2\n",
    "junc_exp = 3\n",
    "kmers_i = 0 \n",
    "is_junction = 1\n",
    "pep = pickle.load(open(path_pep, 'rb'))"
   ]
  },
  {
   "cell_type": "code",
   "execution_count": 4,
   "metadata": {
    "ExecuteTime": {
     "end_time": "2021-05-10T08:44:27.341663Z",
     "start_time": "2021-05-10T08:44:27.194952Z"
    }
   },
   "outputs": [],
   "source": [
    "# Matrix mode used for multisample\n",
    "seg_expr_mx = pd.DataFrame(mx[segm_exp])\n",
    "seg_expr_mx['is_junction'] =  mx[is_junction]\n",
    "seg_expr_mx = seg_expr_mx.rename({idx_sample: 'SegmExpr'}, axis = 1)\n",
    "seg_expr_mx = seg_expr_mx.loc[:, ['is_junction', 'SegmExpr']]\n",
    "seg_expr_mx.index = mx[kmers_i]\n",
    "\n",
    "\n",
    "junc_exp_mx = pd.DataFrame(mx[junc_exp])\n",
    "junc_exp_mx['is_junction'] =  mx[is_junction]\n",
    "junc_exp_mx = junc_exp_mx.rename({idx_sample: 'JuncExpr'}, axis = 1)\n",
    "junc_exp_mx = junc_exp_mx.loc[:, ['is_junction', 'JuncExpr']]\n",
    "junc_exp_mx.index = mx[kmers_i]\n",
    "\n",
    "mx_singles_sample = seg_expr_mx.join(junc_exp_mx.drop('is_junction', axis = 1))"
   ]
  },
  {
   "cell_type": "code",
   "execution_count": 5,
   "metadata": {
    "ExecuteTime": {
     "end_time": "2021-05-10T08:44:27.635696Z",
     "start_time": "2021-05-10T08:44:27.612385Z"
    }
   },
   "outputs": [
    {
     "data": {
      "text/html": [
       "<div>\n",
       "<style scoped>\n",
       "    .dataframe tbody tr th:only-of-type {\n",
       "        vertical-align: middle;\n",
       "    }\n",
       "\n",
       "    .dataframe tbody tr th {\n",
       "        vertical-align: top;\n",
       "    }\n",
       "\n",
       "    .dataframe thead th {\n",
       "        text-align: right;\n",
       "    }\n",
       "</style>\n",
       "<table border=\"1\" class=\"dataframe\">\n",
       "  <thead>\n",
       "    <tr style=\"text-align: right;\">\n",
       "      <th></th>\n",
       "      <th>is_junction</th>\n",
       "      <th>SegmExpr</th>\n",
       "      <th>JuncExpr</th>\n",
       "    </tr>\n",
       "  </thead>\n",
       "  <tbody>\n",
       "    <tr>\n",
       "      <th>MPAVKKEFP</th>\n",
       "      <td>False</td>\n",
       "      <td>0.59</td>\n",
       "      <td>NaN</td>\n",
       "    </tr>\n",
       "    <tr>\n",
       "      <th>PAVKKEFPG</th>\n",
       "      <td>False</td>\n",
       "      <td>0.59</td>\n",
       "      <td>NaN</td>\n",
       "    </tr>\n",
       "    <tr>\n",
       "      <th>AVKKEFPGR</th>\n",
       "      <td>False</td>\n",
       "      <td>0.59</td>\n",
       "      <td>NaN</td>\n",
       "    </tr>\n",
       "    <tr>\n",
       "      <th>VKKEFPGRE</th>\n",
       "      <td>False</td>\n",
       "      <td>0.59</td>\n",
       "      <td>NaN</td>\n",
       "    </tr>\n",
       "    <tr>\n",
       "      <th>KKEFPGRED</th>\n",
       "      <td>False</td>\n",
       "      <td>0.59</td>\n",
       "      <td>NaN</td>\n",
       "    </tr>\n",
       "  </tbody>\n",
       "</table>\n",
       "</div>"
      ],
      "text/plain": [
       "           is_junction  SegmExpr  JuncExpr\n",
       "MPAVKKEFP        False      0.59       NaN\n",
       "PAVKKEFPG        False      0.59       NaN\n",
       "AVKKEFPGR        False      0.59       NaN\n",
       "VKKEFPGRE        False      0.59       NaN\n",
       "KKEFPGRED        False      0.59       NaN"
      ]
     },
     "execution_count": 5,
     "metadata": {},
     "output_type": "execute_result"
    }
   ],
   "source": [
    "mx_singles_sample.head()"
   ]
  },
  {
   "cell_type": "code",
   "execution_count": 6,
   "metadata": {
    "ExecuteTime": {
     "end_time": "2021-05-10T08:44:28.277477Z",
     "start_time": "2021-05-10T08:44:28.263509Z"
    }
   },
   "outputs": [
    {
     "data": {
      "text/html": [
       "<div>\n",
       "<style scoped>\n",
       "    .dataframe tbody tr th:only-of-type {\n",
       "        vertical-align: middle;\n",
       "    }\n",
       "\n",
       "    .dataframe tbody tr th {\n",
       "        vertical-align: top;\n",
       "    }\n",
       "\n",
       "    .dataframe thead th {\n",
       "        text-align: right;\n",
       "    }\n",
       "</style>\n",
       "<table border=\"1\" class=\"dataframe\">\n",
       "  <thead>\n",
       "    <tr style=\"text-align: right;\">\n",
       "      <th></th>\n",
       "      <th>is_junction</th>\n",
       "      <th>SegmExpr</th>\n",
       "      <th>JuncExpr</th>\n",
       "    </tr>\n",
       "  </thead>\n",
       "  <tbody>\n",
       "    <tr>\n",
       "      <th>MPAVKKEFP</th>\n",
       "      <td>False</td>\n",
       "      <td>0.59</td>\n",
       "      <td>NaN</td>\n",
       "    </tr>\n",
       "    <tr>\n",
       "      <th>PAVKKEFPG</th>\n",
       "      <td>False</td>\n",
       "      <td>0.59</td>\n",
       "      <td>NaN</td>\n",
       "    </tr>\n",
       "    <tr>\n",
       "      <th>AVKKEFPGR</th>\n",
       "      <td>False</td>\n",
       "      <td>0.59</td>\n",
       "      <td>NaN</td>\n",
       "    </tr>\n",
       "    <tr>\n",
       "      <th>VKKEFPGRE</th>\n",
       "      <td>False</td>\n",
       "      <td>0.59</td>\n",
       "      <td>NaN</td>\n",
       "    </tr>\n",
       "    <tr>\n",
       "      <th>KKEFPGRED</th>\n",
       "      <td>False</td>\n",
       "      <td>0.59</td>\n",
       "      <td>NaN</td>\n",
       "    </tr>\n",
       "  </tbody>\n",
       "</table>\n",
       "</div>"
      ],
      "text/plain": [
       "           is_junction  SegmExpr  JuncExpr\n",
       "MPAVKKEFP        False      0.59       NaN\n",
       "PAVKKEFPG        False      0.59       NaN\n",
       "AVKKEFPGR        False      0.59       NaN\n",
       "VKKEFPGRE        False      0.59       NaN\n",
       "KKEFPGRED        False      0.59       NaN"
      ]
     },
     "execution_count": 6,
     "metadata": {},
     "output_type": "execute_result"
    }
   ],
   "source": [
    "# Single output kmer object from single sample mode (same as Jiayu)\n",
    "seg_expr_sample = [pep[i].segment_expr for i in np.arange(len(pep))]\n",
    "junc_expr_sample = [pep[i].junction_expr for i in np.arange(len(pep))]\n",
    "kmer_sample = [pep[i].kmer for i in np.arange(len(pep))]\n",
    "is_junction_sample = [pep[i].is_cross_junction for i in np.arange(len(pep))]\n",
    "\n",
    "mode_singles_sample = pd.DataFrame({'is_junction':is_junction_sample, \n",
    "                                   'SegmExpr':seg_expr_sample, \n",
    "                                    'JuncExpr':junc_expr_sample, \n",
    "                                   })\n",
    "mode_singles_sample.index = kmer_sample\n",
    "\n",
    "mode_singles_sample.head()"
   ]
  },
  {
   "cell_type": "code",
   "execution_count": 7,
   "metadata": {
    "ExecuteTime": {
     "end_time": "2021-05-10T08:44:28.788425Z",
     "start_time": "2021-05-10T08:44:28.780135Z"
    }
   },
   "outputs": [
    {
     "data": {
      "text/plain": [
       "is_junction    True\n",
       "SegmExpr       0.99\n",
       "JuncExpr          2\n",
       "Name: WKRSIRHKG, dtype: object"
      ]
     },
     "execution_count": 7,
     "metadata": {},
     "output_type": "execute_result"
    }
   ],
   "source": [
    "mode_singles_sample.loc['WKRSIRHKG', :]"
   ]
  },
  {
   "cell_type": "code",
   "execution_count": 8,
   "metadata": {
    "ExecuteTime": {
     "end_time": "2021-05-10T08:44:29.870498Z",
     "start_time": "2021-05-10T08:44:29.867040Z"
    }
   },
   "outputs": [],
   "source": [
    "mypep = 'MPAVKKEFPGREDLALALATFHPTLAALPLPPLPGYLAPLPAAAALPPAASLPASAAGYEALLAPPLRPPRAYLSLHEAAPHLHLPRDPLALERFSATAAAAPDFQPLLDNGEPCIEVECGANRALLYVRKLCQGSKGPSIRHRGEWLTPNEFQFVSGRETAKDWKRSIRHKGSASALLAGKSLKTLMSKGILQVHPPICDCPGCRISSPV'"
   ]
  },
  {
   "cell_type": "code",
   "execution_count": 9,
   "metadata": {
    "ExecuteTime": {
     "end_time": "2021-05-10T08:44:30.558919Z",
     "start_time": "2021-05-10T08:44:30.554218Z"
    }
   },
   "outputs": [
    {
     "data": {
      "text/plain": [
       "False"
      ]
     },
     "execution_count": 9,
     "metadata": {},
     "output_type": "execute_result"
    }
   ],
   "source": [
    "'KRSIRHKGK' in mypep"
   ]
  },
  {
   "cell_type": "code",
   "execution_count": 10,
   "metadata": {
    "ExecuteTime": {
     "end_time": "2021-05-10T08:44:31.043745Z",
     "start_time": "2021-05-10T08:44:31.028232Z"
    }
   },
   "outputs": [
    {
     "name": "stdout",
     "output_type": "stream",
     "text": [
      "single\n"
     ]
    },
    {
     "data": {
      "text/plain": [
       "is_junction    False\n",
       "SegmExpr        0.59\n",
       "JuncExpr         NaN\n",
       "Name: DWKRSIRHK, dtype: object"
      ]
     },
     "metadata": {},
     "output_type": "display_data"
    },
    {
     "name": "stdout",
     "output_type": "stream",
     "text": [
      "matrix\n"
     ]
    },
    {
     "data": {
      "text/plain": [
       "is_junction    False\n",
       "SegmExpr        0.59\n",
       "JuncExpr         NaN\n",
       "Name: DWKRSIRHK, dtype: object"
      ]
     },
     "metadata": {},
     "output_type": "display_data"
    }
   ],
   "source": [
    "# 164 OK, then insertion of two kmers in the matrix!!! How is this possible ?\n",
    "loc_kmer = 163\n",
    "print('single')\n",
    "display(mode_singles_sample.iloc[loc_kmer])\n",
    " \n",
    "    \n",
    "print('matrix')\n",
    "display(mx_singles_sample.iloc[loc_kmer])\n",
    "# position 165 and 166 artefac"
   ]
  },
  {
   "cell_type": "code",
   "execution_count": 11,
   "metadata": {
    "ExecuteTime": {
     "end_time": "2021-05-10T08:44:32.852481Z",
     "start_time": "2021-05-10T08:44:32.840473Z"
    }
   },
   "outputs": [
    {
     "data": {
      "text/html": [
       "<div>\n",
       "<style scoped>\n",
       "    .dataframe tbody tr th:only-of-type {\n",
       "        vertical-align: middle;\n",
       "    }\n",
       "\n",
       "    .dataframe tbody tr th {\n",
       "        vertical-align: top;\n",
       "    }\n",
       "\n",
       "    .dataframe thead th {\n",
       "        text-align: right;\n",
       "    }\n",
       "</style>\n",
       "<table border=\"1\" class=\"dataframe\">\n",
       "  <thead>\n",
       "    <tr style=\"text-align: right;\">\n",
       "      <th></th>\n",
       "      <th>is_junction</th>\n",
       "      <th>SegmExpr</th>\n",
       "      <th>JuncExpr</th>\n",
       "    </tr>\n",
       "  </thead>\n",
       "  <tbody>\n",
       "    <tr>\n",
       "      <th>DWKRSIRHK</th>\n",
       "      <td>False</td>\n",
       "      <td>0.59</td>\n",
       "      <td>NaN</td>\n",
       "    </tr>\n",
       "    <tr>\n",
       "      <th>WKRSIRHKG</th>\n",
       "      <td>True</td>\n",
       "      <td>0.99</td>\n",
       "      <td>2.0</td>\n",
       "    </tr>\n",
       "    <tr>\n",
       "      <th>KRSIRHKGS</th>\n",
       "      <td>True</td>\n",
       "      <td>1.58</td>\n",
       "      <td>2.0</td>\n",
       "    </tr>\n",
       "    <tr>\n",
       "      <th>RSIRHKGSA</th>\n",
       "      <td>True</td>\n",
       "      <td>2.18</td>\n",
       "      <td>2.0</td>\n",
       "    </tr>\n",
       "    <tr>\n",
       "      <th>SIRHKGSAS</th>\n",
       "      <td>True</td>\n",
       "      <td>2.77</td>\n",
       "      <td>2.0</td>\n",
       "    </tr>\n",
       "    <tr>\n",
       "      <th>IRHKGSASA</th>\n",
       "      <td>True</td>\n",
       "      <td>3.37</td>\n",
       "      <td>2.0</td>\n",
       "    </tr>\n",
       "    <tr>\n",
       "      <th>RHKGSASAL</th>\n",
       "      <td>True</td>\n",
       "      <td>3.96</td>\n",
       "      <td>2.0</td>\n",
       "    </tr>\n",
       "  </tbody>\n",
       "</table>\n",
       "</div>"
      ],
      "text/plain": [
       "           is_junction  SegmExpr  JuncExpr\n",
       "DWKRSIRHK        False      0.59       NaN\n",
       "WKRSIRHKG         True      0.99       2.0\n",
       "KRSIRHKGS         True      1.58       2.0\n",
       "RSIRHKGSA         True      2.18       2.0\n",
       "SIRHKGSAS         True      2.77       2.0\n",
       "IRHKGSASA         True      3.37       2.0\n",
       "RHKGSASAL         True      3.96       2.0"
      ]
     },
     "execution_count": 11,
     "metadata": {},
     "output_type": "execute_result"
    }
   ],
   "source": [
    "mx_singles_sample.iloc[163:170, :]"
   ]
  },
  {
   "cell_type": "code",
   "execution_count": 12,
   "metadata": {
    "ExecuteTime": {
     "end_time": "2021-05-10T08:44:34.468731Z",
     "start_time": "2021-05-10T08:44:34.463658Z"
    }
   },
   "outputs": [
    {
     "data": {
      "text/plain": [
       "True"
      ]
     },
     "execution_count": 12,
     "metadata": {},
     "output_type": "execute_result"
    }
   ],
   "source": [
    "'KRSIRHKGS' == 'KRSIRHKGS' "
   ]
  },
  {
   "cell_type": "code",
   "execution_count": 13,
   "metadata": {
    "ExecuteTime": {
     "end_time": "2021-05-10T08:44:36.063918Z",
     "start_time": "2021-05-10T08:44:36.058628Z"
    }
   },
   "outputs": [
    {
     "data": {
      "text/plain": [
       "(203, 3)"
      ]
     },
     "execution_count": 13,
     "metadata": {},
     "output_type": "execute_result"
    }
   ],
   "source": [
    "mode_singles_sample.shape\n"
   ]
  },
  {
   "cell_type": "code",
   "execution_count": 14,
   "metadata": {
    "ExecuteTime": {
     "end_time": "2021-05-10T08:44:37.788362Z",
     "start_time": "2021-05-10T08:44:37.783855Z"
    }
   },
   "outputs": [
    {
     "data": {
      "text/plain": [
       "(203, 3)"
      ]
     },
     "execution_count": 14,
     "metadata": {},
     "output_type": "execute_result"
    }
   ],
   "source": [
    "mx_singles_sample.shape"
   ]
  },
  {
   "cell_type": "code",
   "execution_count": 15,
   "metadata": {
    "ExecuteTime": {
     "end_time": "2021-05-10T08:44:39.772945Z",
     "start_time": "2021-05-10T08:44:39.767069Z"
    }
   },
   "outputs": [
    {
     "data": {
      "text/plain": [
       "is_junction    True\n",
       "SegmExpr       0.99\n",
       "JuncExpr          2\n",
       "Name: WKRSIRHKG, dtype: object"
      ]
     },
     "execution_count": 15,
     "metadata": {},
     "output_type": "execute_result"
    }
   ],
   "source": [
    "mx_singles_sample.loc['WKRSIRHKG', :]"
   ]
  },
  {
   "cell_type": "code",
   "execution_count": 16,
   "metadata": {
    "ExecuteTime": {
     "end_time": "2021-05-10T08:44:44.575734Z",
     "start_time": "2021-05-10T08:44:44.559741Z"
    }
   },
   "outputs": [
    {
     "data": {
      "text/html": [
       "<div>\n",
       "<style scoped>\n",
       "    .dataframe tbody tr th:only-of-type {\n",
       "        vertical-align: middle;\n",
       "    }\n",
       "\n",
       "    .dataframe tbody tr th {\n",
       "        vertical-align: top;\n",
       "    }\n",
       "\n",
       "    .dataframe thead th {\n",
       "        text-align: right;\n",
       "    }\n",
       "</style>\n",
       "<table border=\"1\" class=\"dataframe\">\n",
       "  <thead>\n",
       "    <tr style=\"text-align: right;\">\n",
       "      <th></th>\n",
       "      <th>is_junction</th>\n",
       "      <th>SegmExpr</th>\n",
       "      <th>JuncExpr</th>\n",
       "    </tr>\n",
       "  </thead>\n",
       "  <tbody>\n",
       "    <tr>\n",
       "      <th>MPAVKKEFP</th>\n",
       "      <td>False</td>\n",
       "      <td>0.59</td>\n",
       "      <td>NaN</td>\n",
       "    </tr>\n",
       "    <tr>\n",
       "      <th>PAVKKEFPG</th>\n",
       "      <td>False</td>\n",
       "      <td>0.59</td>\n",
       "      <td>NaN</td>\n",
       "    </tr>\n",
       "    <tr>\n",
       "      <th>AVKKEFPGR</th>\n",
       "      <td>False</td>\n",
       "      <td>0.59</td>\n",
       "      <td>NaN</td>\n",
       "    </tr>\n",
       "    <tr>\n",
       "      <th>VKKEFPGRE</th>\n",
       "      <td>False</td>\n",
       "      <td>0.59</td>\n",
       "      <td>NaN</td>\n",
       "    </tr>\n",
       "    <tr>\n",
       "      <th>KKEFPGRED</th>\n",
       "      <td>False</td>\n",
       "      <td>0.59</td>\n",
       "      <td>NaN</td>\n",
       "    </tr>\n",
       "    <tr>\n",
       "      <th>...</th>\n",
       "      <td>...</td>\n",
       "      <td>...</td>\n",
       "      <td>...</td>\n",
       "    </tr>\n",
       "    <tr>\n",
       "      <th>ICDCPGCRI</th>\n",
       "      <td>False</td>\n",
       "      <td>5.95</td>\n",
       "      <td>NaN</td>\n",
       "    </tr>\n",
       "    <tr>\n",
       "      <th>CDCPGCRIS</th>\n",
       "      <td>False</td>\n",
       "      <td>5.95</td>\n",
       "      <td>NaN</td>\n",
       "    </tr>\n",
       "    <tr>\n",
       "      <th>DCPGCRISS</th>\n",
       "      <td>False</td>\n",
       "      <td>5.95</td>\n",
       "      <td>NaN</td>\n",
       "    </tr>\n",
       "    <tr>\n",
       "      <th>CPGCRISSP</th>\n",
       "      <td>False</td>\n",
       "      <td>5.95</td>\n",
       "      <td>NaN</td>\n",
       "    </tr>\n",
       "    <tr>\n",
       "      <th>PGCRISSPV</th>\n",
       "      <td>False</td>\n",
       "      <td>5.95</td>\n",
       "      <td>NaN</td>\n",
       "    </tr>\n",
       "  </tbody>\n",
       "</table>\n",
       "<p>203 rows × 3 columns</p>\n",
       "</div>"
      ],
      "text/plain": [
       "           is_junction  SegmExpr  JuncExpr\n",
       "MPAVKKEFP        False      0.59       NaN\n",
       "PAVKKEFPG        False      0.59       NaN\n",
       "AVKKEFPGR        False      0.59       NaN\n",
       "VKKEFPGRE        False      0.59       NaN\n",
       "KKEFPGRED        False      0.59       NaN\n",
       "...                ...       ...       ...\n",
       "ICDCPGCRI        False      5.95       NaN\n",
       "CDCPGCRIS        False      5.95       NaN\n",
       "DCPGCRISS        False      5.95       NaN\n",
       "CPGCRISSP        False      5.95       NaN\n",
       "PGCRISSPV        False      5.95       NaN\n",
       "\n",
       "[203 rows x 3 columns]"
      ]
     },
     "execution_count": 16,
     "metadata": {},
     "output_type": "execute_result"
    }
   ],
   "source": [
    "mx_singles_sample"
   ]
  },
  {
   "cell_type": "code",
   "execution_count": 17,
   "metadata": {
    "ExecuteTime": {
     "end_time": "2021-05-10T08:44:46.977453Z",
     "start_time": "2021-05-10T08:44:46.974464Z"
    }
   },
   "outputs": [],
   "source": [
    "missing_kmers = [kmer for kmer in mx_singles_sample.index if kmer not in mode_singles_sample.index ]"
   ]
  },
  {
   "cell_type": "code",
   "execution_count": 18,
   "metadata": {
    "ExecuteTime": {
     "end_time": "2021-05-10T08:44:47.433785Z",
     "start_time": "2021-05-10T08:44:47.428559Z"
    }
   },
   "outputs": [
    {
     "data": {
      "text/plain": [
       "[]"
      ]
     },
     "execution_count": 18,
     "metadata": {},
     "output_type": "execute_result"
    }
   ],
   "source": [
    "missing_kmers"
   ]
  },
  {
   "cell_type": "code",
   "execution_count": 19,
   "metadata": {
    "ExecuteTime": {
     "end_time": "2021-05-10T08:44:48.259693Z",
     "start_time": "2021-05-10T08:44:48.255204Z"
    }
   },
   "outputs": [],
   "source": [
    "mx_singles_sample_short = mx_singles_sample.drop(missing_kmers, axis = 0)"
   ]
  },
  {
   "cell_type": "code",
   "execution_count": 20,
   "metadata": {
    "ExecuteTime": {
     "end_time": "2021-05-10T08:44:50.629593Z",
     "start_time": "2021-05-10T08:44:50.622601Z"
    }
   },
   "outputs": [],
   "source": [
    "compare = mx_singles_sample_short.merge(mode_singles_sample ,  left_index=True,\n",
    "                                      right_index=True)"
   ]
  },
  {
   "cell_type": "code",
   "execution_count": 21,
   "metadata": {
    "ExecuteTime": {
     "end_time": "2021-05-10T08:44:51.098875Z",
     "start_time": "2021-05-10T08:44:51.083818Z"
    }
   },
   "outputs": [
    {
     "data": {
      "text/html": [
       "<div>\n",
       "<style scoped>\n",
       "    .dataframe tbody tr th:only-of-type {\n",
       "        vertical-align: middle;\n",
       "    }\n",
       "\n",
       "    .dataframe tbody tr th {\n",
       "        vertical-align: top;\n",
       "    }\n",
       "\n",
       "    .dataframe thead th {\n",
       "        text-align: right;\n",
       "    }\n",
       "</style>\n",
       "<table border=\"1\" class=\"dataframe\">\n",
       "  <thead>\n",
       "    <tr style=\"text-align: right;\">\n",
       "      <th></th>\n",
       "      <th>is_junction_x</th>\n",
       "      <th>SegmExpr_x</th>\n",
       "      <th>JuncExpr_x</th>\n",
       "      <th>is_junction_y</th>\n",
       "      <th>SegmExpr_y</th>\n",
       "      <th>JuncExpr_y</th>\n",
       "    </tr>\n",
       "  </thead>\n",
       "  <tbody>\n",
       "    <tr>\n",
       "      <th>MPAVKKEFP</th>\n",
       "      <td>False</td>\n",
       "      <td>0.59</td>\n",
       "      <td>NaN</td>\n",
       "      <td>False</td>\n",
       "      <td>0.59</td>\n",
       "      <td>NaN</td>\n",
       "    </tr>\n",
       "    <tr>\n",
       "      <th>PAVKKEFPG</th>\n",
       "      <td>False</td>\n",
       "      <td>0.59</td>\n",
       "      <td>NaN</td>\n",
       "      <td>False</td>\n",
       "      <td>0.59</td>\n",
       "      <td>NaN</td>\n",
       "    </tr>\n",
       "    <tr>\n",
       "      <th>AVKKEFPGR</th>\n",
       "      <td>False</td>\n",
       "      <td>0.59</td>\n",
       "      <td>NaN</td>\n",
       "      <td>False</td>\n",
       "      <td>0.59</td>\n",
       "      <td>NaN</td>\n",
       "    </tr>\n",
       "    <tr>\n",
       "      <th>VKKEFPGRE</th>\n",
       "      <td>False</td>\n",
       "      <td>0.59</td>\n",
       "      <td>NaN</td>\n",
       "      <td>False</td>\n",
       "      <td>0.59</td>\n",
       "      <td>NaN</td>\n",
       "    </tr>\n",
       "    <tr>\n",
       "      <th>KKEFPGRED</th>\n",
       "      <td>False</td>\n",
       "      <td>0.59</td>\n",
       "      <td>NaN</td>\n",
       "      <td>False</td>\n",
       "      <td>0.59</td>\n",
       "      <td>NaN</td>\n",
       "    </tr>\n",
       "  </tbody>\n",
       "</table>\n",
       "</div>"
      ],
      "text/plain": [
       "           is_junction_x  SegmExpr_x  JuncExpr_x  is_junction_y  SegmExpr_y  \\\n",
       "MPAVKKEFP          False        0.59         NaN          False        0.59   \n",
       "PAVKKEFPG          False        0.59         NaN          False        0.59   \n",
       "AVKKEFPGR          False        0.59         NaN          False        0.59   \n",
       "VKKEFPGRE          False        0.59         NaN          False        0.59   \n",
       "KKEFPGRED          False        0.59         NaN          False        0.59   \n",
       "\n",
       "           JuncExpr_y  \n",
       "MPAVKKEFP         NaN  \n",
       "PAVKKEFPG         NaN  \n",
       "AVKKEFPGR         NaN  \n",
       "VKKEFPGRE         NaN  \n",
       "KKEFPGRED         NaN  "
      ]
     },
     "execution_count": 21,
     "metadata": {},
     "output_type": "execute_result"
    }
   ],
   "source": [
    "compare.head()"
   ]
  },
  {
   "cell_type": "code",
   "execution_count": 22,
   "metadata": {
    "ExecuteTime": {
     "end_time": "2021-05-10T08:44:53.690228Z",
     "start_time": "2021-05-10T08:44:53.664583Z"
    }
   },
   "outputs": [],
   "source": [
    "foo = compare['SegmExpr_x'] - compare['SegmExpr_y']"
   ]
  },
  {
   "cell_type": "code",
   "execution_count": 23,
   "metadata": {
    "ExecuteTime": {
     "end_time": "2021-05-10T08:44:54.773984Z",
     "start_time": "2021-05-10T08:44:54.770238Z"
    }
   },
   "outputs": [],
   "source": [
    "foo2 = foo[~np.isnan(foo)]\n",
    "foo3 = foo[foo !=0]"
   ]
  },
  {
   "cell_type": "code",
   "execution_count": 24,
   "metadata": {
    "ExecuteTime": {
     "end_time": "2021-05-10T08:44:56.363497Z",
     "start_time": "2021-05-10T08:44:56.353411Z"
    }
   },
   "outputs": [
    {
     "data": {
      "text/html": [
       "<div>\n",
       "<style scoped>\n",
       "    .dataframe tbody tr th:only-of-type {\n",
       "        vertical-align: middle;\n",
       "    }\n",
       "\n",
       "    .dataframe tbody tr th {\n",
       "        vertical-align: top;\n",
       "    }\n",
       "\n",
       "    .dataframe thead th {\n",
       "        text-align: right;\n",
       "    }\n",
       "</style>\n",
       "<table border=\"1\" class=\"dataframe\">\n",
       "  <thead>\n",
       "    <tr style=\"text-align: right;\">\n",
       "      <th></th>\n",
       "      <th>is_junction_x</th>\n",
       "      <th>SegmExpr_x</th>\n",
       "      <th>JuncExpr_x</th>\n",
       "      <th>is_junction_y</th>\n",
       "      <th>SegmExpr_y</th>\n",
       "      <th>JuncExpr_y</th>\n",
       "    </tr>\n",
       "  </thead>\n",
       "  <tbody>\n",
       "  </tbody>\n",
       "</table>\n",
       "</div>"
      ],
      "text/plain": [
       "Empty DataFrame\n",
       "Columns: [is_junction_x, SegmExpr_x, JuncExpr_x, is_junction_y, SegmExpr_y, JuncExpr_y]\n",
       "Index: []"
      ]
     },
     "execution_count": 24,
     "metadata": {},
     "output_type": "execute_result"
    }
   ],
   "source": [
    "compare.loc[foo3.index]"
   ]
  },
  {
   "cell_type": "code",
   "execution_count": 25,
   "metadata": {
    "ExecuteTime": {
     "end_time": "2021-05-10T08:44:57.365061Z",
     "start_time": "2021-05-10T08:44:57.358840Z"
    }
   },
   "outputs": [
    {
     "data": {
      "text/plain": [
       "Series([], dtype: float64)"
      ]
     },
     "execution_count": 25,
     "metadata": {},
     "output_type": "execute_result"
    }
   ],
   "source": [
    "foo3"
   ]
  },
  {
   "cell_type": "code",
   "execution_count": 26,
   "metadata": {
    "ExecuteTime": {
     "end_time": "2021-05-10T08:44:59.346675Z",
     "start_time": "2021-05-10T08:44:59.343683Z"
    }
   },
   "outputs": [],
   "source": [
    "foo = compare['JuncExpr_x'] - compare['JuncExpr_y']"
   ]
  },
  {
   "cell_type": "code",
   "execution_count": 27,
   "metadata": {
    "ExecuteTime": {
     "end_time": "2021-05-10T08:45:00.101281Z",
     "start_time": "2021-05-10T08:45:00.094004Z"
    }
   },
   "outputs": [
    {
     "data": {
      "text/plain": [
       "WKRSIRHKG    0.0\n",
       "KRSIRHKGS    0.0\n",
       "RSIRHKGSA    0.0\n",
       "SIRHKGSAS    0.0\n",
       "IRHKGSASA    0.0\n",
       "RHKGSASAL    0.0\n",
       "HKGSASALL    0.0\n",
       "KGSASALLA    0.0\n",
       "GSASALLAG    0.0\n",
       "dtype: float64"
      ]
     },
     "execution_count": 27,
     "metadata": {},
     "output_type": "execute_result"
    }
   ],
   "source": [
    "foo[~np.isnan(foo)]"
   ]
  },
  {
   "cell_type": "code",
   "execution_count": 28,
   "metadata": {
    "ExecuteTime": {
     "end_time": "2021-05-10T08:45:00.687054Z",
     "start_time": "2021-05-10T08:45:00.678390Z"
    }
   },
   "outputs": [
    {
     "data": {
      "text/html": [
       "<div>\n",
       "<style scoped>\n",
       "    .dataframe tbody tr th:only-of-type {\n",
       "        vertical-align: middle;\n",
       "    }\n",
       "\n",
       "    .dataframe tbody tr th {\n",
       "        vertical-align: top;\n",
       "    }\n",
       "\n",
       "    .dataframe thead th {\n",
       "        text-align: right;\n",
       "    }\n",
       "</style>\n",
       "<table border=\"1\" class=\"dataframe\">\n",
       "  <thead>\n",
       "    <tr style=\"text-align: right;\">\n",
       "      <th></th>\n",
       "      <th>is_junction</th>\n",
       "      <th>SegmExpr</th>\n",
       "      <th>JuncExpr</th>\n",
       "    </tr>\n",
       "  </thead>\n",
       "  <tbody>\n",
       "  </tbody>\n",
       "</table>\n",
       "</div>"
      ],
      "text/plain": [
       "Empty DataFrame\n",
       "Columns: [is_junction, SegmExpr, JuncExpr]\n",
       "Index: []"
      ]
     },
     "execution_count": 28,
     "metadata": {},
     "output_type": "execute_result"
    }
   ],
   "source": [
    "mx_singles_sample.loc[missing_kmers, :]"
   ]
  },
  {
   "cell_type": "code",
   "execution_count": 135,
   "metadata": {
    "ExecuteTime": {
     "end_time": "2021-05-07T09:42:21.828122Z",
     "start_time": "2021-05-07T09:42:21.824383Z"
    }
   },
   "outputs": [
    {
     "data": {
      "text/plain": [
       "False"
      ]
     },
     "execution_count": 135,
     "metadata": {},
     "output_type": "execute_result"
    }
   ],
   "source": [
    "'KRSIRHKGK' in mode_singles_sample.index"
   ]
  },
  {
   "cell_type": "code",
   "execution_count": 129,
   "metadata": {
    "ExecuteTime": {
     "end_time": "2021-05-07T09:41:03.415707Z",
     "start_time": "2021-05-07T09:41:03.411635Z"
    }
   },
   "outputs": [
    {
     "data": {
      "text/plain": [
       "['KRSIRHKGK', 'RSIRHKGKV']"
      ]
     },
     "execution_count": 129,
     "metadata": {},
     "output_type": "execute_result"
    }
   ],
   "source": [
    "missing_kmers"
   ]
  },
  {
   "cell_type": "code",
   "execution_count": 128,
   "metadata": {
    "ExecuteTime": {
     "end_time": "2021-05-07T09:40:54.263076Z",
     "start_time": "2021-05-07T09:40:54.252585Z"
    }
   },
   "outputs": [
    {
     "data": {
      "text/html": [
       "<div>\n",
       "<style scoped>\n",
       "    .dataframe tbody tr th:only-of-type {\n",
       "        vertical-align: middle;\n",
       "    }\n",
       "\n",
       "    .dataframe tbody tr th {\n",
       "        vertical-align: top;\n",
       "    }\n",
       "\n",
       "    .dataframe thead th {\n",
       "        text-align: right;\n",
       "    }\n",
       "</style>\n",
       "<table border=\"1\" class=\"dataframe\">\n",
       "  <thead>\n",
       "    <tr style=\"text-align: right;\">\n",
       "      <th></th>\n",
       "      <th>is_junction</th>\n",
       "      <th>SegmExpr</th>\n",
       "      <th>JuncExpr</th>\n",
       "    </tr>\n",
       "  </thead>\n",
       "  <tbody>\n",
       "    <tr>\n",
       "      <th>ICDCPGCRI</th>\n",
       "      <td>False</td>\n",
       "      <td>0.7</td>\n",
       "      <td>NaN</td>\n",
       "    </tr>\n",
       "    <tr>\n",
       "      <th>CDCPGCRIS</th>\n",
       "      <td>False</td>\n",
       "      <td>0.7</td>\n",
       "      <td>NaN</td>\n",
       "    </tr>\n",
       "    <tr>\n",
       "      <th>DCPGCRISS</th>\n",
       "      <td>False</td>\n",
       "      <td>0.7</td>\n",
       "      <td>NaN</td>\n",
       "    </tr>\n",
       "    <tr>\n",
       "      <th>CPGCRISSP</th>\n",
       "      <td>False</td>\n",
       "      <td>0.7</td>\n",
       "      <td>NaN</td>\n",
       "    </tr>\n",
       "    <tr>\n",
       "      <th>PGCRISSPV</th>\n",
       "      <td>False</td>\n",
       "      <td>0.7</td>\n",
       "      <td>NaN</td>\n",
       "    </tr>\n",
       "  </tbody>\n",
       "</table>\n",
       "</div>"
      ],
      "text/plain": [
       "           is_junction  SegmExpr  JuncExpr\n",
       "ICDCPGCRI        False       0.7       NaN\n",
       "CDCPGCRIS        False       0.7       NaN\n",
       "DCPGCRISS        False       0.7       NaN\n",
       "CPGCRISSP        False       0.7       NaN\n",
       "PGCRISSPV        False       0.7       NaN"
      ]
     },
     "execution_count": 128,
     "metadata": {},
     "output_type": "execute_result"
    }
   ],
   "source": [
    "mx_singles_sample.tail()\n"
   ]
  },
  {
   "cell_type": "code",
   "execution_count": null,
   "metadata": {},
   "outputs": [],
   "source": [
    "# JUNCTION EXPRESSION LOOKS GOOD - BUT SEGMENT EXPRESSION IS NOT \n",
    "# + THEY ARE TWO MISSING KMERS"
   ]
  }
 ],
 "metadata": {
  "kernelspec": {
   "display_name": "myimmuno3_light",
   "language": "python",
   "name": "myimmuno3_light"
  },
  "language_info": {
   "codemirror_mode": {
    "name": "ipython",
    "version": 3
   },
   "file_extension": ".py",
   "mimetype": "text/x-python",
   "name": "python",
   "nbconvert_exporter": "python",
   "pygments_lexer": "ipython3",
   "version": "3.8.5"
  }
 },
 "nbformat": 4,
 "nbformat_minor": 4
}
