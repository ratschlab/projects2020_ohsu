{
 "cells": [
  {
   "cell_type": "code",
   "execution_count": 2,
   "id": "20365273",
   "metadata": {},
   "outputs": [],
   "source": [
    "import os \n",
    "import pandas as pd\n",
    "import numpy as np\n",
    "import glob"
   ]
  },
  {
   "cell_type": "code",
   "execution_count": 10,
   "id": "25b8c963",
   "metadata": {},
   "outputs": [],
   "source": [
    "def read_threshold_fdr(FDR_file, column_FDR, threshold):\n",
    "    df_fdr = pd.read_csv(FDR_file, sep = '\\t')\n",
    "\n",
    "    print(df_fdr.shape)\n",
    "    df_fdr = df_fdr.loc[df_fdr[column_FDR] < threshold]\n",
    "    print(df_fdr.shape)\n",
    "    return df_fdr\n"
   ]
  },
  {
   "cell_type": "code",
   "execution_count": 111,
   "id": "72305fe7",
   "metadata": {},
   "outputs": [],
   "source": [
    "def get_fasta_path(fasta_file, fasta_list, sample):\n",
    "    if (fasta_file is None) and (fasta_list is not None):\n",
    "        fasta_list_ = pd.read_csv(fasta_list, sep = '\\t', header = None)\n",
    "        fasta_samples = {i.split('/')[-1].split('_')[1] : i for i in fasta_list_[0]}\n",
    "        samples_eq = {'-'.join(i.split('-')[0:3]) : i for i in samples}\n",
    "\n",
    "        fasta_file = fasta_samples[samples_eq[sample]]\n",
    "        print(fasta_file)\n",
    "    return fasta_file"
   ]
  },
  {
   "cell_type": "code",
   "execution_count": 112,
   "id": "4f4237b5",
   "metadata": {},
   "outputs": [],
   "source": [
    "def read_fasta(path):\n",
    "    with open(path, 'r') as f: \n",
    "        handles = []\n",
    "        peptides = []\n",
    "        for i, l in enumerate(f.readlines()):\n",
    "            l = l.strip()\n",
    "            if '>' in l:\n",
    "                handles.append(l)\n",
    "                if i > 0:\n",
    "                    peptides.append(single_peptide)\n",
    "                single_peptide = ''\n",
    "\n",
    "            else:\n",
    "                single_peptide = single_peptide + l\n",
    "        peptides.append(single_peptide)\n",
    "    return handles, peptides"
   ]
  },
  {
   "cell_type": "code",
   "execution_count": 144,
   "id": "63eaae1e",
   "metadata": {},
   "outputs": [],
   "source": [
    "def fasta_parse(handles, peptides):\n",
    "    fasta = pd.DataFrame([ pep_handle.split(';') for pep_handle in handles ])\n",
    "\n",
    "    fasta.columns = [i.split('-')[0] for i in handles[0].split(';')]\n",
    "\n",
    "    for col in fasta.columns:\n",
    "        fasta[col] = [i.split('-')[1] for i in fasta[col]]\n",
    "\n",
    "    fasta['peptide'] = peptides\n",
    "    return fasta"
   ]
  },
  {
   "cell_type": "code",
   "execution_count": 150,
   "id": "33617657",
   "metadata": {},
   "outputs": [
    {
     "name": "stdout",
     "output_type": "stream",
     "text": [
      "/cluster/work/grlab/projects/projects2020_OHSU/proteomics_fixMerge_25012024/assign_conf_joint_to_OHSU/TCGA-24-1431/tsearch-J0ANA2GA.txt\n"
     ]
    }
   ],
   "source": [
    "### INPUTS\n",
    "sample = 'TCGA-24-1431'\n",
    "FDR_file = f'/cluster/work/grlab/projects/projects2020_OHSU/proteomics_fixMerge_25012024/assign_conf_joint_to_OHSU/{sample}/tsearch-J0ANA2GA.txt'\n",
    "print(FDR_file)\n",
    "column_FDR = 'tdc q-value'\n",
    "threshold = 0.05\n",
    "fasta_list = '/cluster/work/grlab/projects/projects2020_OHSU/share_OHUS_PNLL/OHSU_Oct2023_data/OHSU_fasta_list.txt'\n",
    "#/cluster/work/grlab/projects/projects2020_OHSU/share_OHUS_PNLL/ETH_Oct2023_data/ETH_fasta_list.txt\n",
    "fasta_file = None"
   ]
  },
  {
   "cell_type": "code",
   "execution_count": 165,
   "id": "9befcb15",
   "metadata": {},
   "outputs": [
    {
     "data": {
      "text/plain": [
       "[\">pepID-142746;jx_pos-50;between_codons-0;includes_5'-0;includes_3'-1\",\n",
       " \">pepID-100567;jx_pos-6;between_codons-0;includes_5'-1;includes_3'-1\",\n",
       " \">pepID-105964;jx_pos-47;between_codons-1;includes_5'-1;includes_3'-0\",\n",
       " \">pepID-128517;jx_pos-74;between_codons-1;includes_5'-0;includes_3'-0\",\n",
       " \">pepID-145656;jx_pos-50;between_codons-0;includes_5'-0;includes_3'-1\",\n",
       " \">pepID-169217;jx_pos-49;between_codons-1;includes_5'-0;includes_3'-0\",\n",
       " \">pepID-129703;jx_pos-50;between_codons-0;includes_5'-0;includes_3'-0\",\n",
       " \">pepID-172434;jx_pos-50;between_codons-0;includes_5'-0;includes_3'-1\",\n",
       " \">pepID-174179;jx_pos-49;between_codons-1;includes_5'-0;includes_3'-1\",\n",
       " \">pepID-127100;jx_pos-50;between_codons-0;includes_5'-0;includes_3'-1\"]"
      ]
     },
     "execution_count": 165,
     "metadata": {},
     "output_type": "execute_result"
    }
   ],
   "source": [
    "handles[0:10]"
   ]
  },
  {
   "cell_type": "code",
   "execution_count": 148,
   "id": "a332b77d",
   "metadata": {},
   "outputs": [
    {
     "name": "stdout",
     "output_type": "stream",
     "text": [
      "(78977, 18)\n",
      "(1267, 18)\n"
     ]
    },
    {
     "data": {
      "text/html": [
       "<div>\n",
       "<style scoped>\n",
       "    .dataframe tbody tr th:only-of-type {\n",
       "        vertical-align: middle;\n",
       "    }\n",
       "\n",
       "    .dataframe tbody tr th {\n",
       "        vertical-align: top;\n",
       "    }\n",
       "\n",
       "    .dataframe thead th {\n",
       "        text-align: right;\n",
       "    }\n",
       "</style>\n",
       "<table border=\"1\" class=\"dataframe\">\n",
       "  <thead>\n",
       "    <tr style=\"text-align: right;\">\n",
       "      <th></th>\n",
       "      <th>index</th>\n",
       "      <th>file</th>\n",
       "      <th>scan</th>\n",
       "      <th>charge</th>\n",
       "      <th>spectrum precursor m/z</th>\n",
       "      <th>spectrum neutral mass</th>\n",
       "      <th>peptide mass</th>\n",
       "      <th>delta_cn</th>\n",
       "      <th>xcorr score</th>\n",
       "      <th>xcorr rank</th>\n",
       "      <th>tdc q-value</th>\n",
       "      <th>b/y ions matched</th>\n",
       "      <th>b/y ions total</th>\n",
       "      <th>distinct matches/spectrum</th>\n",
       "      <th>sequence</th>\n",
       "      <th>unmodified sequence</th>\n",
       "      <th>protein id</th>\n",
       "      <th>flanking aa</th>\n",
       "    </tr>\n",
       "  </thead>\n",
       "  <tbody>\n",
       "    <tr>\n",
       "      <th>0</th>\n",
       "      <td>0</td>\n",
       "      <td>/cluster/work/grlab/projects/TCGA/PanCanAtlas/...</td>\n",
       "      <td>13053</td>\n",
       "      <td>3</td>\n",
       "      <td>929.8184</td>\n",
       "      <td>2786.4333</td>\n",
       "      <td>2786.4358</td>\n",
       "      <td>0.890414</td>\n",
       "      <td>6.713102</td>\n",
       "      <td>1</td>\n",
       "      <td>0.000619</td>\n",
       "      <td>40</td>\n",
       "      <td>90</td>\n",
       "      <td>18</td>\n",
       "      <td>VSFSYAGLSGDDPDLGPAHVVTVIAR</td>\n",
       "      <td>VSFSYAGLSGDDPDLGPAHVVTVIAR</td>\n",
       "      <td>VSFSYAGLSGDDPDLGPAHVVTVIAR_VSFSYAGLSGDDPDLGPAH...</td>\n",
       "      <td>--,--</td>\n",
       "    </tr>\n",
       "    <tr>\n",
       "      <th>1</th>\n",
       "      <td>1</td>\n",
       "      <td>/cluster/work/grlab/projects/TCGA/PanCanAtlas/...</td>\n",
       "      <td>12973</td>\n",
       "      <td>4</td>\n",
       "      <td>832.6816</td>\n",
       "      <td>3326.6973</td>\n",
       "      <td>3326.7085</td>\n",
       "      <td>0.929261</td>\n",
       "      <td>6.608190</td>\n",
       "      <td>1</td>\n",
       "      <td>0.000619</td>\n",
       "      <td>46</td>\n",
       "      <td>95</td>\n",
       "      <td>6</td>\n",
       "      <td>TTGIVMDSGDGVTHTVPIYEGYALPHAILR</td>\n",
       "      <td>TTGIVMDSGDGVTHTVPIYEGYALPHAILR</td>\n",
       "      <td>TTGIVMDSGDGVTHTVPIYEGYALPHAILR_TTGIVMDSGDGVTHT...</td>\n",
       "      <td>--,--</td>\n",
       "    </tr>\n",
       "    <tr>\n",
       "      <th>2</th>\n",
       "      <td>2</td>\n",
       "      <td>/cluster/work/grlab/projects/TCGA/PanCanAtlas/...</td>\n",
       "      <td>12036</td>\n",
       "      <td>4</td>\n",
       "      <td>832.6838</td>\n",
       "      <td>3326.7063</td>\n",
       "      <td>3326.7085</td>\n",
       "      <td>0.899462</td>\n",
       "      <td>6.530118</td>\n",
       "      <td>1</td>\n",
       "      <td>0.000619</td>\n",
       "      <td>44</td>\n",
       "      <td>95</td>\n",
       "      <td>6</td>\n",
       "      <td>TTGIVMDSGDGVTHTVPIYEGYALPHAILR</td>\n",
       "      <td>TTGIVMDSGDGVTHTVPIYEGYALPHAILR</td>\n",
       "      <td>TTGIVMDSGDGVTHTVPIYEGYALPHAILR_TTGIVMDSGDGVTHT...</td>\n",
       "      <td>--,--</td>\n",
       "    </tr>\n",
       "    <tr>\n",
       "      <th>3</th>\n",
       "      <td>3</td>\n",
       "      <td>/cluster/work/grlab/projects/TCGA/PanCanAtlas/...</td>\n",
       "      <td>14685</td>\n",
       "      <td>3</td>\n",
       "      <td>929.8187</td>\n",
       "      <td>2786.4341</td>\n",
       "      <td>2786.4358</td>\n",
       "      <td>0.883098</td>\n",
       "      <td>6.362460</td>\n",
       "      <td>1</td>\n",
       "      <td>0.000619</td>\n",
       "      <td>36</td>\n",
       "      <td>90</td>\n",
       "      <td>18</td>\n",
       "      <td>VSFSYAGLSGDDPDLGPAHVVTVIAR</td>\n",
       "      <td>VSFSYAGLSGDDPDLGPAHVVTVIAR</td>\n",
       "      <td>VSFSYAGLSGDDPDLGPAHVVTVIAR_VSFSYAGLSGDDPDLGPAH...</td>\n",
       "      <td>--,--</td>\n",
       "    </tr>\n",
       "    <tr>\n",
       "      <th>4</th>\n",
       "      <td>4</td>\n",
       "      <td>/cluster/work/grlab/projects/TCGA/PanCanAtlas/...</td>\n",
       "      <td>12057</td>\n",
       "      <td>4</td>\n",
       "      <td>832.6825</td>\n",
       "      <td>3326.7009</td>\n",
       "      <td>3326.7085</td>\n",
       "      <td>0.930420</td>\n",
       "      <td>6.339089</td>\n",
       "      <td>1</td>\n",
       "      <td>0.000619</td>\n",
       "      <td>46</td>\n",
       "      <td>95</td>\n",
       "      <td>6</td>\n",
       "      <td>TTGIVMDSGDGVTHTVPIYEGYALPHAILR</td>\n",
       "      <td>TTGIVMDSGDGVTHTVPIYEGYALPHAILR</td>\n",
       "      <td>TTGIVMDSGDGVTHTVPIYEGYALPHAILR_TTGIVMDSGDGVTHT...</td>\n",
       "      <td>--,--</td>\n",
       "    </tr>\n",
       "  </tbody>\n",
       "</table>\n",
       "</div>"
      ],
      "text/plain": [
       "   index                                               file   scan  charge  \\\n",
       "0      0  /cluster/work/grlab/projects/TCGA/PanCanAtlas/...  13053       3   \n",
       "1      1  /cluster/work/grlab/projects/TCGA/PanCanAtlas/...  12973       4   \n",
       "2      2  /cluster/work/grlab/projects/TCGA/PanCanAtlas/...  12036       4   \n",
       "3      3  /cluster/work/grlab/projects/TCGA/PanCanAtlas/...  14685       3   \n",
       "4      4  /cluster/work/grlab/projects/TCGA/PanCanAtlas/...  12057       4   \n",
       "\n",
       "   spectrum precursor m/z  spectrum neutral mass  peptide mass  delta_cn  \\\n",
       "0                929.8184              2786.4333     2786.4358  0.890414   \n",
       "1                832.6816              3326.6973     3326.7085  0.929261   \n",
       "2                832.6838              3326.7063     3326.7085  0.899462   \n",
       "3                929.8187              2786.4341     2786.4358  0.883098   \n",
       "4                832.6825              3326.7009     3326.7085  0.930420   \n",
       "\n",
       "   xcorr score  xcorr rank  tdc q-value  b/y ions matched  b/y ions total  \\\n",
       "0     6.713102           1     0.000619                40              90   \n",
       "1     6.608190           1     0.000619                46              95   \n",
       "2     6.530118           1     0.000619                44              95   \n",
       "3     6.362460           1     0.000619                36              90   \n",
       "4     6.339089           1     0.000619                46              95   \n",
       "\n",
       "   distinct matches/spectrum                        sequence  \\\n",
       "0                         18      VSFSYAGLSGDDPDLGPAHVVTVIAR   \n",
       "1                          6  TTGIVMDSGDGVTHTVPIYEGYALPHAILR   \n",
       "2                          6  TTGIVMDSGDGVTHTVPIYEGYALPHAILR   \n",
       "3                         18      VSFSYAGLSGDDPDLGPAHVVTVIAR   \n",
       "4                          6  TTGIVMDSGDGVTHTVPIYEGYALPHAILR   \n",
       "\n",
       "              unmodified sequence  \\\n",
       "0      VSFSYAGLSGDDPDLGPAHVVTVIAR   \n",
       "1  TTGIVMDSGDGVTHTVPIYEGYALPHAILR   \n",
       "2  TTGIVMDSGDGVTHTVPIYEGYALPHAILR   \n",
       "3      VSFSYAGLSGDDPDLGPAHVVTVIAR   \n",
       "4  TTGIVMDSGDGVTHTVPIYEGYALPHAILR   \n",
       "\n",
       "                                          protein id flanking aa  \n",
       "0  VSFSYAGLSGDDPDLGPAHVVTVIAR_VSFSYAGLSGDDPDLGPAH...       --,--  \n",
       "1  TTGIVMDSGDGVTHTVPIYEGYALPHAILR_TTGIVMDSGDGVTHT...       --,--  \n",
       "2  TTGIVMDSGDGVTHTVPIYEGYALPHAILR_TTGIVMDSGDGVTHT...       --,--  \n",
       "3  VSFSYAGLSGDDPDLGPAHVVTVIAR_VSFSYAGLSGDDPDLGPAH...       --,--  \n",
       "4  TTGIVMDSGDGVTHTVPIYEGYALPHAILR_TTGIVMDSGDGVTHT...       --,--  "
      ]
     },
     "metadata": {},
     "output_type": "display_data"
    }
   ],
   "source": [
    "# Read result file\n",
    "df_fdr = read_threshold_fdr(FDR_file, column_FDR, threshold)\n",
    "display(df_fdr.head())"
   ]
  },
  {
   "cell_type": "code",
   "execution_count": 153,
   "id": "58f1533a",
   "metadata": {},
   "outputs": [
    {
     "data": {
      "text/plain": [
       "'VSFSYAGLSGDDPDLGPAHVVTVIAR_VSFSYAGLSGDDPDLGPAHVVTVIAR_1.0_2786.4360_2786.4360_0.0000_0.0000(1),pepID-167849(1)'"
      ]
     },
     "execution_count": 153,
     "metadata": {},
     "output_type": "execute_result"
    }
   ],
   "source": [
    "df_fdr.iloc[0]['protein id']"
   ]
  },
  {
   "cell_type": "code",
   "execution_count": 149,
   "id": "1940d2d3",
   "metadata": {
    "scrolled": true
   },
   "outputs": [
    {
     "data": {
      "text/html": [
       "<div>\n",
       "<style scoped>\n",
       "    .dataframe tbody tr th:only-of-type {\n",
       "        vertical-align: middle;\n",
       "    }\n",
       "\n",
       "    .dataframe tbody tr th {\n",
       "        vertical-align: top;\n",
       "    }\n",
       "\n",
       "    .dataframe thead th {\n",
       "        text-align: right;\n",
       "    }\n",
       "</style>\n",
       "<table border=\"1\" class=\"dataframe\">\n",
       "  <thead>\n",
       "    <tr style=\"text-align: right;\">\n",
       "      <th></th>\n",
       "      <th>&gt;pepID</th>\n",
       "      <th>jx_pos</th>\n",
       "      <th>between_codons</th>\n",
       "      <th>includes_5'</th>\n",
       "      <th>includes_3'</th>\n",
       "      <th>peptide</th>\n",
       "    </tr>\n",
       "  </thead>\n",
       "  <tbody>\n",
       "    <tr>\n",
       "      <th>0</th>\n",
       "      <td>142746</td>\n",
       "      <td>50</td>\n",
       "      <td>0</td>\n",
       "      <td>0</td>\n",
       "      <td>1</td>\n",
       "      <td>FLTRELAEDGYSGVEVRVTPTRTEIIILATRACYGVLRFIMESGAK...</td>\n",
       "    </tr>\n",
       "    <tr>\n",
       "      <th>1</th>\n",
       "      <td>100567</td>\n",
       "      <td>6</td>\n",
       "      <td>0</td>\n",
       "      <td>1</td>\n",
       "      <td>1</td>\n",
       "      <td>MRRKQTGGGQED</td>\n",
       "    </tr>\n",
       "    <tr>\n",
       "      <th>2</th>\n",
       "      <td>105964</td>\n",
       "      <td>47</td>\n",
       "      <td>1</td>\n",
       "      <td>1</td>\n",
       "      <td>0</td>\n",
       "      <td>MAHVGSRKRSRSRSRSRGRGSEKRKKKSRKDTSRNCSASTSQERSK...</td>\n",
       "    </tr>\n",
       "    <tr>\n",
       "      <th>3</th>\n",
       "      <td>128517</td>\n",
       "      <td>74</td>\n",
       "      <td>1</td>\n",
       "      <td>0</td>\n",
       "      <td>0</td>\n",
       "      <td>ALLADLESTTSHISKRPVFLSEETPYSYPTGNHTYQEIAVPPPVPP...</td>\n",
       "    </tr>\n",
       "    <tr>\n",
       "      <th>4</th>\n",
       "      <td>145656</td>\n",
       "      <td>50</td>\n",
       "      <td>0</td>\n",
       "      <td>0</td>\n",
       "      <td>1</td>\n",
       "      <td>YEKPLAEGPQVTGPIEVPAARAEERKASGPPKGPSRASSVTTFTGE...</td>\n",
       "    </tr>\n",
       "  </tbody>\n",
       "</table>\n",
       "</div>"
      ],
      "text/plain": [
       "   >pepID jx_pos between_codons includes_5' includes_3'  \\\n",
       "0  142746     50              0           0           1   \n",
       "1  100567      6              0           1           1   \n",
       "2  105964     47              1           1           0   \n",
       "3  128517     74              1           0           0   \n",
       "4  145656     50              0           0           1   \n",
       "\n",
       "                                             peptide  \n",
       "0  FLTRELAEDGYSGVEVRVTPTRTEIIILATRACYGVLRFIMESGAK...  \n",
       "1                                       MRRKQTGGGQED  \n",
       "2  MAHVGSRKRSRSRSRSRGRGSEKRKKKSRKDTSRNCSASTSQERSK...  \n",
       "3  ALLADLESTTSHISKRPVFLSEETPYSYPTGNHTYQEIAVPPPVPP...  \n",
       "4  YEKPLAEGPQVTGPIEVPAARAEERKASGPPKGPSRASSVTTFTGE...  "
      ]
     },
     "metadata": {},
     "output_type": "display_data"
    }
   ],
   "source": [
    "# Read Fasta\n",
    "fasta_file = get_fasta_path(fasta_file, fasta_list, sample)\n",
    "handles, peptides = read_fasta(path)\n",
    "fasta = fasta_parse(handles, peptides)\n",
    "display(fasta.head())"
   ]
  },
  {
   "cell_type": "code",
   "execution_count": 154,
   "id": "0999ae86",
   "metadata": {},
   "outputs": [
    {
     "data": {
      "text/html": [
       "<div>\n",
       "<style scoped>\n",
       "    .dataframe tbody tr th:only-of-type {\n",
       "        vertical-align: middle;\n",
       "    }\n",
       "\n",
       "    .dataframe tbody tr th {\n",
       "        vertical-align: top;\n",
       "    }\n",
       "\n",
       "    .dataframe thead th {\n",
       "        text-align: right;\n",
       "    }\n",
       "</style>\n",
       "<table border=\"1\" class=\"dataframe\">\n",
       "  <thead>\n",
       "    <tr style=\"text-align: right;\">\n",
       "      <th></th>\n",
       "      <th>&gt;pepID</th>\n",
       "      <th>jx_pos</th>\n",
       "      <th>between_codons</th>\n",
       "      <th>includes_5'</th>\n",
       "      <th>includes_3'</th>\n",
       "      <th>peptide</th>\n",
       "    </tr>\n",
       "  </thead>\n",
       "  <tbody>\n",
       "    <tr>\n",
       "      <th>61681</th>\n",
       "      <td>167849</td>\n",
       "      <td>49</td>\n",
       "      <td>1</td>\n",
       "      <td>0</td>\n",
       "      <td>1</td>\n",
       "      <td>HVDIIRRGDFFYHSENPKYPEVGDLRVSFSYAGLSGDDPDLGPAHV...</td>\n",
       "    </tr>\n",
       "  </tbody>\n",
       "</table>\n",
       "</div>"
      ],
      "text/plain": [
       "       >pepID jx_pos between_codons includes_5' includes_3'  \\\n",
       "61681  167849     49              1           0           1   \n",
       "\n",
       "                                                 peptide  \n",
       "61681  HVDIIRRGDFFYHSENPKYPEVGDLRVSFSYAGLSGDDPDLGPAHV...  "
      ]
     },
     "execution_count": 154,
     "metadata": {},
     "output_type": "execute_result"
    }
   ],
   "source": [
    "fasta.loc[fasta['>pepID'] == '167849']"
   ]
  },
  {
   "cell_type": "code",
   "execution_count": 157,
   "id": "aec6fe8c",
   "metadata": {},
   "outputs": [
    {
     "data": {
      "text/plain": [
       "array(['HVDIIRRGDFFYHSENPKYPEVGDLRVSFSYAGLSGDDPDLGPAHVVTVIARHLREP'],\n",
       "      dtype=object)"
      ]
     },
     "execution_count": 157,
     "metadata": {},
     "output_type": "execute_result"
    }
   ],
   "source": [
    "fasta.loc[fasta['>pepID'] == '167849']['peptide'].values"
   ]
  },
  {
   "cell_type": "code",
   "execution_count": 158,
   "id": "003dde1b",
   "metadata": {},
   "outputs": [],
   "source": [
    "peptide = fasta.loc[fasta['>pepID'] == '167849']['peptide'].values[0]"
   ]
  },
  {
   "cell_type": "code",
   "execution_count": 159,
   "id": "41eba61c",
   "metadata": {},
   "outputs": [
    {
     "data": {
      "text/plain": [
       "'HVDIIRRGDFFYHSENPKYPEVGDLRVSFSYAGLSGDDPDLGPAHVVTVIARHLREP'"
      ]
     },
     "execution_count": 159,
     "metadata": {},
     "output_type": "execute_result"
    }
   ],
   "source": [
    "peptide"
   ]
  },
  {
   "cell_type": "code",
   "execution_count": 163,
   "id": "c115783c",
   "metadata": {},
   "outputs": [
    {
     "data": {
      "text/plain": [
       "'VIARHLREP'"
      ]
     },
     "execution_count": 163,
     "metadata": {},
     "output_type": "execute_result"
    }
   ],
   "source": [
    "peptide[49 - 1: 49 - 1 + 9]"
   ]
  },
  {
   "cell_type": "code",
   "execution_count": 164,
   "id": "de8f31ad",
   "metadata": {},
   "outputs": [
    {
     "data": {
      "text/plain": [
       "'TCGA-24-1431'"
      ]
     },
     "execution_count": 164,
     "metadata": {},
     "output_type": "execute_result"
    }
   ],
   "source": [
    "sample"
   ]
  },
  {
   "cell_type": "code",
   "execution_count": null,
   "id": "72d13dc4",
   "metadata": {},
   "outputs": [],
   "source": [
    "EXPERIMENT PER PEPTIDE\n",
    "167849  HVDIIRRGDFFYHSENPKYPEVGDLRVSFSYAGLSGDDPDLGPAHVVTVIARHLREP       J0AN01PA;J0AN12PA;J0AN32PA;J0ANA2PA;J0AN1XPA;J0AN3XPA;J0ANAXPA;J0AN1APA;J0AN3APA;J0A101PA;J0A112PA;J0A132PA;J0A1A2PA;J0A11XPA;J0A13XPA;J0A1AXPA;J0A11APA;J0A13APA;J0AN01GA;J0AN12GA;J0AN32GA;J0ANA2GA;J0AN1XGA;J0AN3XGA;J0ANAXGA;J0AN1AGA;J0AN3AGA;J0A101GA;J0A112GA;J0A132GA;J0A1A2GA;J0A11XGA;J0A13XGA;J0A1AXGA;J0A11AGA;J0A13AGA\n",
    "167850  MAMFMGLNLMTRILYTLVDWFPVFRDLVNIGLKAFAFCVATSLTLLTVAAGWHPPDTCVSPRIQVLSHL   J0AN01PA;J0AN12PA;J0AN32PA;J0ANA2PA;J0AN1XPA;J0AN3XPA;J0ANAXPA;J0AN1APA;J0AN3APA;J0A101PA;J0A112PA;J0A132PA;J0A1A2PA;J0A11XPA;J0A13XPA;J0A1AXPA;J0A11APA;J0A13APA;J0AN32GA;J0ANA2GA;J0AN3XGA;J0ANAXGA;J0AN3AGA;J0A132GA;J0A1A2GA;J0A13XGA;J0A1AXGA;J0A13AGA"
   ]
  },
  {
   "cell_type": "code",
   "execution_count": null,
   "id": "756c3a6c",
   "metadata": {},
   "outputs": [],
   "source": [
    "## NEED LONGLIST..faster match "
   ]
  },
  {
   "cell_type": "code",
   "execution_count": null,
   "id": "f8769c3b",
   "metadata": {},
   "outputs": [],
   "source": [
    "kmer file is J_TCGA-24-1431-01A-01R-1566-13_0AN01PA.tsv"
   ]
  },
  {
   "cell_type": "code",
   "execution_count": null,
   "id": "919838aa",
   "metadata": {},
   "outputs": [],
   "source": [
    "Matching VIARHLREP + same junction are: \n",
    "    \n",
    "HVVTVIARH       chr3;14135819;14141811;+\n",
    "VVTVIARHL       chr3;14135819;14141811;+\n",
    "VTVIARHLR       chr3;14135819;14141811;+\n",
    "TVIARHLRE       chr3;14135819;14141811;+\n",
    "VIARHLREP       chr3;14135819;14141811;+"
   ]
  },
  {
   "cell_type": "code",
   "execution_count": null,
   "id": "fc864b7d",
   "metadata": {},
   "outputs": [],
   "source": [
    "# Remark not exactly same format in ETH, would need to expand and get the same junctions "
   ]
  },
  {
   "cell_type": "code",
   "execution_count": null,
   "id": "3ac09e47",
   "metadata": {},
   "outputs": [],
   "source": [
    "seq from FDR\n",
    "peptide from FASTA\n",
    "junction from big file (filtered )\n",
    "Get the junction from the kmer files"
   ]
  },
  {
   "cell_type": "code",
   "execution_count": null,
   "id": "8e268f5b",
   "metadata": {},
   "outputs": [],
   "source": [
    "No line break \n",
    "Junctiion coord \n",
    "SEND\n",
    "Laurie NAMES FASTA - coordinate format needs ; check the trypsine script rerun\n",
    "unicity on junction and peptide pair\n",
    "share the link"
   ]
  },
  {
   "cell_type": "code",
   "execution_count": null,
   "id": "cdd85c6a",
   "metadata": {},
   "outputs": [],
   "source": [
    "jx_coord-chr3|14135819|14141811|+; "
   ]
  }
 ],
 "metadata": {
  "kernelspec": {
   "display_name": "Python 3 (ipykernel)",
   "language": "python",
   "name": "python3"
  },
  "language_info": {
   "codemirror_mode": {
    "name": "ipython",
    "version": 3
   },
   "file_extension": ".py",
   "mimetype": "text/x-python",
   "name": "python",
   "nbconvert_exporter": "python",
   "pygments_lexer": "ipython3",
   "version": "3.9.13"
  }
 },
 "nbformat": 4,
 "nbformat_minor": 5
}
