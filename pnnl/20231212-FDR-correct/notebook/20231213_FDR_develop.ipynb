{
 "cells": [
  {
   "cell_type": "code",
   "execution_count": null,
   "id": "51d172e7",
   "metadata": {},
   "outputs": [],
   "source": [
    "import os \n",
    "import pathlib\n",
    "import pandas as pd\n",
    "from collections import defaultdict\n",
    "import glob"
   ]
  },
  {
   "cell_type": "code",
   "execution_count": null,
   "id": "1f858c8e",
   "metadata": {},
   "outputs": [],
   "source": [
    "### INPUTS ### (WRITE PARSER)\n",
    "list_experiments_ohsu = '/cluster/work/grlab/projects/projects2020_OHSU/share_OHUS_PNLL/OHSU_Oct2023_data/OHSU_experiments_per_peptides_list.txt'\n",
    "list_experiments_eth = '/cluster/work/grlab/projects/projects2020_OHSU/share_OHUS_PNLL/ETH_Oct2023_data/ETH_experiments_per_peptides_list.txt'\n",
    "eth_or_ohsu = 'joint_search' #which experimet file to use\n",
    "search_out_folder = '/cluster/work/grlab/projects/projects2020_OHSU/proteomics/tide_search_joint' # contains the samples"
   ]
  },
  {
   "cell_type": "code",
   "execution_count": null,
   "id": "65fe8714",
   "metadata": {},
   "outputs": [],
   "source": [
    "def reader_experiments(list_experiments):\n",
    "    '''Read files with path lists'''\n",
    "    with open(list_experiments, 'r') as f:\n",
    "        path_dict = {}\n",
    "        for i in f.readlines():\n",
    "            sample_name = os.path.basename(i.strip()).split('_')[1]\n",
    "            sample_short = '-'.join(sample_name.split('-')[0:3])\n",
    "            path_dict[sample_short] = i.strip()\n",
    "    return path_dict\n"
   ]
  },
  {
   "cell_type": "code",
   "execution_count": null,
   "id": "303fea91",
   "metadata": {},
   "outputs": [],
   "source": [
    "def experiments_maps(path):\n",
    "    '''Extract experiment maps'''\n",
    "    df = pd.read_csv(path, sep = '\\t')\n",
    "    id_to_pep = {}\n",
    "    id_to_exp = {}\n",
    "    exp_to_id = defaultdict(list)\n",
    "    for i, row in df.iterrows():\n",
    "        id_to_pep[row['peptide_id']] = row['peptide_sequence']\n",
    "        id_to_exp[row['peptide_id']] = row['experiment_ids'].split(';')\n",
    "\n",
    "    for k, v in id_to_exp.items():\n",
    "        for ID in v:\n",
    "            exp_to_id[ID].append(k)\n",
    "    return id_to_pep, id_to_exp, exp_to_id"
   ]
  },
  {
   "cell_type": "code",
   "execution_count": null,
   "id": "a4953e95",
   "metadata": {},
   "outputs": [],
   "source": [
    "def reader_tide_results(search_out_folder):\n",
    "    search_res = defaultdict(list)\n",
    "    for path in glob.glob(os.path.join(search_out_folder, '*', '*', 'tide-search.txt')): #samples, partitions\n",
    "        sample = path.split('/')[-3]\n",
    "        if ('fA' not in path) & ('POOL' not in path): #calibration files exclude\n",
    "            search_res[sample].append(path) \n",
    "    return search_res"
   ]
  },
  {
   "cell_type": "code",
   "execution_count": 6,
   "id": "b0f77746",
   "metadata": {},
   "outputs": [],
   "source": [
    "def search_result_rows(df_search):\n",
    "    id_to_row = defaultdict(list)\n",
    "    for i, idx in enumerate(df_search['protein id']):\n",
    "        for name_ in idx.split(','):\n",
    "            pep_ix = int(name_.split('-')[1].replace('(1)', ''))\n",
    "            id_to_row[pep_ix].append(i)\n",
    "    return id_to_row"
   ]
  },
  {
   "cell_type": "code",
   "execution_count": 8,
   "id": "4b3ca73b",
   "metadata": {},
   "outputs": [],
   "source": [
    "def select_search_result(id_to_exp, id_to_SearchRow):\n",
    "    select_rows = defaultdict(set)\n",
    "    for pep_idx, exp_list in id_to_exp.items():\n",
    "        for experiment in exp_list:\n",
    "            peptide_rows = id_to_SearchRow[pep_idx]\n",
    "            if peptide_rows:\n",
    "                select_rows[experiment].update(peptide_rows)\n",
    "    return select_rows\n"
   ]
  },
  {
   "cell_type": "code",
   "execution_count": 9,
   "id": "11cdd886",
   "metadata": {},
   "outputs": [],
   "source": [
    "exp_ohsu = reader_experiments(list_experiments_ohsu)\n",
    "exp_eth = reader_experiments(list_experiments_eth)\n",
    "search_res = reader_tide_results(search_out_folder)"
   ]
  },
  {
   "cell_type": "code",
   "execution_count": null,
   "id": "dd4e0e81",
   "metadata": {},
   "outputs": [
    {
     "name": "stdout",
     "output_type": "stream",
     "text": [
      "TCGA-25-1319\n",
      "...read search result\n",
      "...extract rows IDS corresponding to peptides\n",
      "...process experiment map ohsu\n",
      "...process experiment map eth\n",
      "...select experiment rows ohsu\n"
     ]
    }
   ],
   "source": [
    "n_samples_process = 1 #TEMPORARY\n",
    "for sample, partitions in search_res.items():\n",
    "    if len(partitions) == 24:\n",
    "        print(sample)\n",
    "        n_samples_process -= 1\n",
    "        print('...read search result')\n",
    "        df_search = pd.concat([pd.read_csv(part, sep = '\\t') for part in partitions])\n",
    "        print('...extract rows IDS corresponding to peptides')\n",
    "        id_to_SearchRow = search_result_rows(df_search)\n",
    "        print('...process experiment map ohsu')\n",
    "        id_to_pep_ohsu, id_to_exp_ohsu, exp_to_id_ohsu = experiments_maps(exp_ohsu[sample])\n",
    "        print('...process experiment map eth')\n",
    "        id_to_pep_eth, id_to_exp_eth, exp_to_id_eth = experiments_maps(exp_eth[sample])\n",
    "        print('...select experiment rows ohsu')\n",
    "        select_rows_ohsu = select_search_result(id_to_exp_ohsu, id_to_SearchRow)\n",
    "        print('...select experiment rows eth')\n",
    "        select_rows_eth = select_search_result(id_to_exp_eth, id_to_SearchRow)\n",
    "    if n_samples_process < 1:\n",
    "        continue\n",
    "        \n",
    "    else: \n",
    "        print(f'skip {sample}')\n",
    "    "
   ]
  },
  {
   "cell_type": "code",
   "execution_count": null,
   "id": "d1e6241b",
   "metadata": {},
   "outputs": [],
   "source": [
    "df_search = df_search.reset_index()"
   ]
  },
  {
   "cell_type": "code",
   "execution_count": null,
   "id": "35e04684",
   "metadata": {},
   "outputs": [],
   "source": [
    "# TODO SAVE"
   ]
  },
  {
   "cell_type": "code",
   "execution_count": null,
   "id": "fbb9c488",
   "metadata": {},
   "outputs": [],
   "source": [
    "# for exp, experiment_rows in select_rows_ohsu.items():\n",
    "#     print(exp, df_search.loc[experiment_rows].shape)"
   ]
  },
  {
   "cell_type": "markdown",
   "id": "d4da3bbc",
   "metadata": {},
   "source": [
    "## TEST\n"
   ]
  },
  {
   "cell_type": "code",
   "execution_count": null,
   "id": "eb2b898f",
   "metadata": {},
   "outputs": [],
   "source": [
    "experiment = 'J0251XGC'"
   ]
  },
  {
   "cell_type": "code",
   "execution_count": null,
   "id": "0f2bd605",
   "metadata": {},
   "outputs": [],
   "source": [
    "exp_to_id_ohsu[experiment] # Protein IDS in initial exp"
   ]
  },
  {
   "cell_type": "code",
   "execution_count": null,
   "id": "1d0cab61",
   "metadata": {},
   "outputs": [],
   "source": [
    "for idx in exp_to_id_ohsu[experiment]:# Protein SEQ in initial exp\n",
    "    print(id_to_pep_ohsu[idx])"
   ]
  },
  {
   "cell_type": "code",
   "execution_count": null,
   "id": "44a5fefc",
   "metadata": {},
   "outputs": [],
   "source": [
    "df_search.loc[select_rows_ohsu[experiment]].shape"
   ]
  },
  {
   "cell_type": "code",
   "execution_count": null,
   "id": "75f55329",
   "metadata": {},
   "outputs": [],
   "source": [
    "for i in df_search.loc[select_rows_ohsu[experiment]]['protein id'].unique(): # Protein IDs in validated EXP\n",
    "    print(i)"
   ]
  },
  {
   "cell_type": "code",
   "execution_count": null,
   "id": "e8f70f04",
   "metadata": {},
   "outputs": [],
   "source": [
    "df_search.loc[select_rows_ohsu[experiment]]['unmodified sequence'].unique()  # Protein SEQ in validated EXP"
   ]
  },
  {
   "cell_type": "code",
   "execution_count": null,
   "id": "b3817440",
   "metadata": {},
   "outputs": [],
   "source": [
    "df_search.loc[select_rows_ohsu[experiment], ['unmodified sequence', 'protein id']].drop_duplicates()"
   ]
  },
  {
   "cell_type": "code",
   "execution_count": null,
   "id": "d2f3fc33",
   "metadata": {},
   "outputs": [],
   "source": [
    "# some entries are missing! These are decoys"
   ]
  },
  {
   "cell_type": "code",
   "execution_count": null,
   "id": "89a098a3",
   "metadata": {},
   "outputs": [],
   "source": [
    "df_search.columns"
   ]
  }
 ],
 "metadata": {
  "kernelspec": {
   "display_name": "pep3",
   "language": "python",
   "name": "pep3"
  },
  "language_info": {
   "codemirror_mode": {
    "name": "ipython",
    "version": 3
   },
   "file_extension": ".py",
   "mimetype": "text/x-python",
   "name": "python",
   "nbconvert_exporter": "python",
   "pygments_lexer": "ipython3",
   "version": "3.9.13"
  }
 },
 "nbformat": 4,
 "nbformat_minor": 5
}
