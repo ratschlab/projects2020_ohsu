{
 "cells": [
  {
   "cell_type": "code",
   "execution_count": 17,
   "id": "51d172e7",
   "metadata": {},
   "outputs": [],
   "source": [
    "import os \n",
    "from pathlib import Path\n",
    "import pandas as pd\n",
    "from collections import defaultdict\n",
    "import glob\n",
    "import timeit\n",
    "import numpy as np"
   ]
  },
  {
   "cell_type": "code",
   "execution_count": 18,
   "id": "1f858c8e",
   "metadata": {},
   "outputs": [],
   "source": [
    "### INPUTS ### (WRITE PARSER)\n",
    "list_experiments = '/cluster/work/grlab/projects/projects2020_OHSU/share_OHUS_PNLL/OHSU_Oct2023_data/OHSU_experiments_per_peptides_list.txt'\n",
    "# list_experiments_eth = '/cluster/work/grlab/projects/projects2020_OHSU/share_OHUS_PNLL/ETH_Oct2023_data/ETH_experiments_per_peptides_list.txt'\n",
    "# eth_or_ohsu = 'joint_search' #which experimet file to use\n",
    "search_out_folder = '/cluster/work/grlab/projects/projects2020_OHSU/proteomics/OHSU/*/tide_search'\n",
    "\n",
    "save_folder = '/cluster/work/grlab/projects/projects2020_OHSU/proteomics/OHSU'\n",
    "create_sample_subfolder = True\n",
    "rerank_psm = True"
   ]
  },
  {
   "cell_type": "code",
   "execution_count": 19,
   "id": "a4953e95",
   "metadata": {},
   "outputs": [],
   "source": [
    "def reader_tide_results(search_out_folder):\n",
    "    search_res = defaultdict(list)\n",
    "    for path in glob.glob(os.path.join(search_out_folder, '*', 'tide-search.txt')): #samples, partitions\n",
    "        sample = path.split('/')[-4]\n",
    "        if ('fA' not in path) & ('POOL' not in path): #calibration files exclude\n",
    "            search_res[sample].append(path) \n",
    "    return search_res"
   ]
  },
  {
   "cell_type": "code",
   "execution_count": 20,
   "id": "65fe8714",
   "metadata": {},
   "outputs": [],
   "source": [
    "def reader_experiments(list_experiments):\n",
    "    '''Read files with path lists'''\n",
    "    with open(list_experiments, 'r') as f:\n",
    "        path_dict = {}\n",
    "        for i in f.readlines():\n",
    "            sample_name = os.path.basename(i.strip()).split('_')[1]\n",
    "            sample_short = '-'.join(sample_name.split('-')[0:3])\n",
    "            path_dict[sample_short] = i.strip()\n",
    "    return path_dict\n"
   ]
  },
  {
   "cell_type": "code",
   "execution_count": 21,
   "id": "303fea91",
   "metadata": {},
   "outputs": [],
   "source": [
    "def experiments_maps(path):\n",
    "    '''Extract experiment maps'''\n",
    "    df = pd.read_csv(path, sep = '\\t')\n",
    "    id_to_pep = {}\n",
    "    id_to_exp = {}\n",
    "    exp_to_id = defaultdict(list)\n",
    "    for i, row in df.iterrows():\n",
    "        id_to_pep[row['peptide_id']] = row['peptide_sequence']\n",
    "        id_to_exp[row['peptide_id']] = row['experiment_ids'].split(';')\n",
    "\n",
    "    for k, v in id_to_exp.items():\n",
    "        for ID in v:\n",
    "            exp_to_id[ID].append(k)\n",
    "    return id_to_pep, id_to_exp, exp_to_id"
   ]
  },
  {
   "cell_type": "code",
   "execution_count": 34,
   "id": "b0f77746",
   "metadata": {},
   "outputs": [],
   "source": [
    "def search_result_rows(df_search):\n",
    "    id_to_row = defaultdict(list)\n",
    "    for i, idx in enumerate(df_search['protein id']):\n",
    "        if idx is np.nan:\n",
    "            print('ERROR: Search not successful on all fractions of sample. Please RERUN')\n",
    "        for name_ in idx.split(','):\n",
    "            if 'pepID' not in name_:\n",
    "                continue\n",
    "            pep_ix = int(name_.split('-')[1].replace('(1)', ''))\n",
    "            id_to_row[pep_ix].append(i)\n",
    "    return id_to_row"
   ]
  },
  {
   "cell_type": "code",
   "execution_count": 29,
   "id": "4b3ca73b",
   "metadata": {},
   "outputs": [],
   "source": [
    "def select_search_result(id_to_exp, id_to_SearchRow):\n",
    "    select_rows = defaultdict(set)\n",
    "    for pep_idx, exp_list in id_to_exp.items():\n",
    "        for experiment in exp_list:\n",
    "            peptide_rows = id_to_SearchRow[pep_idx]\n",
    "            if peptide_rows:\n",
    "                select_rows[experiment].update(peptide_rows)\n",
    "    return select_rows\n"
   ]
  },
  {
   "cell_type": "code",
   "execution_count": 30,
   "id": "e0a96d87",
   "metadata": {},
   "outputs": [],
   "source": [
    "def reconstruct_experiment(select_rows_pipeline, df_search, save_folder, sample, rerank=True):\n",
    "    '''Selects all the rows from the initial experiment\n",
    "    Re-calculates the xcorr rank per experiment and partition'''\n",
    "    df_search_i = df_search.reset_index()\n",
    "    for experiment_id in select_rows_pipeline:\n",
    "        print(f'.....{experiment_id}')\n",
    "\n",
    "        df_experiment = df_search_i.loc[select_rows_pipeline[experiment_id]]\n",
    "        \n",
    "        if rerank:\n",
    "            df_experiment['xcorr rank'] = df_experiment.groupby(['original target sequence', 'file', 'scan'])\\\n",
    "            ['xcorr score'].rank(method='first', ascending=False)\n",
    "\n",
    "        df_experiment = df_experiment.drop_duplicates()\n",
    "\n",
    "        if create_sample_subfolder:\n",
    "            path_save = os.path.join(save_folder, sample, 'tide_search_per_experiment') \n",
    "        else:\n",
    "            path_save = os.path.join(save_folder)\n",
    "\n",
    "        Path(path_save).mkdir(parents=True, exist_ok=True)\n",
    "        path_save = os.path.join(path_save, f'tsearch-{experiment_id}.txt')\n",
    "        print(path_save)\n",
    "        df_experiment.to_csv(path_save, sep = '\\t', index=None)"
   ]
  },
  {
   "cell_type": "code",
   "execution_count": 31,
   "id": "8c88d226",
   "metadata": {},
   "outputs": [],
   "source": [
    "list_experiments = '/cluster/work/grlab/projects/projects2020_OHSU/share_OHUS_PNLL/OHSU_Oct2023_data/OHSU_experiments_per_peptides_list.txt'\n",
    "# list_experiments_eth = '/cluster/work/grlab/projects/projects2020_OHSU/share_OHUS_PNLL/ETH_Oct2023_data/ETH_experiments_per_peptides_list.txt'\n",
    "# eth_or_ohsu = 'joint_search' #which experimet file to use\n",
    "search_out_folder = '/cluster/work/grlab/projects/projects2020_OHSU/proteomics/OHSU/*/tide_search'\n",
    "\n",
    "save_folder = '/cluster/work/grlab/projects/projects2020_OHSU/proteomics/OHSU'\n",
    "create_sample_subfolder = True\n",
    "rerank_psm = True"
   ]
  },
  {
   "cell_type": "code",
   "execution_count": 33,
   "id": "11cdd886",
   "metadata": {},
   "outputs": [
    {
     "name": "stdout",
     "output_type": "stream",
     "text": [
      "TCGA-25-1319\n",
      "9\n",
      "...read search result\n",
      "...extract rows IDS corresponding to peptides\n",
      "...process experiment map\n",
      "TCGA-24-2298\n",
      "8\n",
      "...read search result\n",
      "...extract rows IDS corresponding to peptides\n",
      "...process experiment map\n",
      "TCGA-A2-A0SX\n",
      "7\n",
      "...read search result\n",
      "...extract rows IDS corresponding to peptides\n",
      "...process experiment map\n",
      "TCGA-BH-A18V\n",
      "6\n",
      "...read search result\n",
      "...extract rows IDS corresponding to peptides\n",
      "...process experiment map\n",
      "TCGA-AO-A0JM\n",
      "5\n",
      "...read search result\n",
      "...extract rows IDS corresponding to peptides\n",
      "...process experiment map\n",
      "TCGA-25-1313\n",
      "4\n",
      "...read search result\n",
      "...extract rows IDS corresponding to peptides\n",
      "...process experiment map\n",
      "TCGA-61-2008\n",
      "3\n",
      "...read search result\n",
      "...extract rows IDS corresponding to peptides\n",
      "...process experiment map\n",
      "TCGA-A2-A0D2\n",
      "2\n",
      "...read search result\n",
      "...extract rows IDS corresponding to peptides\n",
      "...process experiment map\n",
      "TCGA-24-1431\n",
      "1\n",
      "...read search result\n",
      "...extract rows IDS corresponding to peptides\n",
      "...process experiment map\n",
      "TCGA-C8-A12P\n",
      "0\n",
      "...read search result\n",
      "...extract rows IDS corresponding to peptides\n",
      "...process experiment map\n"
     ]
    }
   ],
   "source": [
    "# def psm_to_experiments(list_experiments, search_out_folder, save_folder, create_sample_subfolder, rerank_psm):\n",
    "exp_all = reader_experiments(list_experiments)\n",
    "search_res = reader_tide_results(search_out_folder)\n",
    "\n",
    "n_samples_process = 10 \n",
    "for sample, partitions in search_res.items():\n",
    "    if len(partitions) == 24:\n",
    "        print(sample)\n",
    "        n_samples_process -= 1\n",
    "#         print(n_samples_process)\n",
    "\n",
    "        print('...read search result')\n",
    "        df_search = pd.concat([pd.read_csv(part, sep = '\\t') for part in partitions])\n",
    "\n",
    "        print('...extract rows IDS corresponding to peptides')\n",
    "        id_to_SearchRow = search_result_rows(df_search)\n",
    "\n",
    "        print('...process experiment map')\n",
    "        id_to_pep, id_to_exp, exp_to_id = experiments_maps(exp_all[sample])\n",
    "\n",
    "\n",
    "#         print('...select experiment rows')\n",
    "#         select_rows = select_search_result(id_to_exp, id_to_SearchRow)\n",
    "\n",
    "\n",
    "#         print('...save experiments')\n",
    "#         reconstruct_experiment(select_rows, df_search, save_folder, sample, rerank=rerank_psm)\n",
    "\n",
    "\n",
    "        if n_samples_process < 1:\n",
    "            break\n",
    "\n",
    "#     else: \n",
    "#         print(f'skip {sample}')\n"
   ]
  },
  {
   "cell_type": "code",
   "execution_count": 35,
   "id": "62d7e5ea",
   "metadata": {},
   "outputs": [
    {
     "data": {
      "text/html": [
       "<div>\n",
       "<style scoped>\n",
       "    .dataframe tbody tr th:only-of-type {\n",
       "        vertical-align: middle;\n",
       "    }\n",
       "\n",
       "    .dataframe tbody tr th {\n",
       "        vertical-align: top;\n",
       "    }\n",
       "\n",
       "    .dataframe thead th {\n",
       "        text-align: right;\n",
       "    }\n",
       "</style>\n",
       "<table border=\"1\" class=\"dataframe\">\n",
       "  <thead>\n",
       "    <tr style=\"text-align: right;\">\n",
       "      <th></th>\n",
       "      <th>file</th>\n",
       "      <th>scan</th>\n",
       "      <th>charge</th>\n",
       "      <th>spectrum precursor m/z</th>\n",
       "      <th>spectrum neutral mass</th>\n",
       "      <th>peptide mass</th>\n",
       "      <th>delta_cn</th>\n",
       "      <th>delta_lcn</th>\n",
       "      <th>xcorr score</th>\n",
       "      <th>b/y ions matched</th>\n",
       "      <th>...</th>\n",
       "      <th>b/y ions fraction</th>\n",
       "      <th>xcorr rank</th>\n",
       "      <th>distinct matches/spectrum</th>\n",
       "      <th>sequence</th>\n",
       "      <th>modifications</th>\n",
       "      <th>unmodified sequence</th>\n",
       "      <th>protein id</th>\n",
       "      <th>flanking aa</th>\n",
       "      <th>target/decoy</th>\n",
       "      <th>original target sequence</th>\n",
       "    </tr>\n",
       "  </thead>\n",
       "  <tbody>\n",
       "    <tr>\n",
       "      <th>0</th>\n",
       "      <td>/cluster/work/grlab/projects/TCGA/PanCanAtlas/...</td>\n",
       "      <td>4484</td>\n",
       "      <td>2</td>\n",
       "      <td>329.6764</td>\n",
       "      <td>657.3383</td>\n",
       "      <td>657.3568</td>\n",
       "      <td>0.000634</td>\n",
       "      <td>0.000634</td>\n",
       "      <td>0.034609</td>\n",
       "      <td>2</td>\n",
       "      <td>...</td>\n",
       "      <td>0.2</td>\n",
       "      <td>1</td>\n",
       "      <td>2</td>\n",
       "      <td>GAAAQP</td>\n",
       "      <td>1_S_144.1021_n</td>\n",
       "      <td>GAAAQP</td>\n",
       "      <td>GAPGGR_GAAAQP_0.2857_657.3680_657.3568_0.0112_...</td>\n",
       "      <td>--</td>\n",
       "      <td>target</td>\n",
       "      <td>GAAAQP</td>\n",
       "    </tr>\n",
       "    <tr>\n",
       "      <th>1</th>\n",
       "      <td>/cluster/work/grlab/projects/TCGA/PanCanAtlas/...</td>\n",
       "      <td>4484</td>\n",
       "      <td>2</td>\n",
       "      <td>329.6764</td>\n",
       "      <td>657.3383</td>\n",
       "      <td>657.3568</td>\n",
       "      <td>0.000000</td>\n",
       "      <td>0.000000</td>\n",
       "      <td>0.033975</td>\n",
       "      <td>2</td>\n",
       "      <td>...</td>\n",
       "      <td>0.2</td>\n",
       "      <td>2</td>\n",
       "      <td>2</td>\n",
       "      <td>GAAQAP</td>\n",
       "      <td>1_S_144.1021_n</td>\n",
       "      <td>GAAQAP</td>\n",
       "      <td>decoy_GAPGGR_GAAAQP_0.2857_657.3680_657.3568_0...</td>\n",
       "      <td>--</td>\n",
       "      <td>decoy</td>\n",
       "      <td>GAAAQP</td>\n",
       "    </tr>\n",
       "    <tr>\n",
       "      <th>2</th>\n",
       "      <td>/cluster/work/grlab/projects/TCGA/PanCanAtlas/...</td>\n",
       "      <td>5809</td>\n",
       "      <td>2</td>\n",
       "      <td>330.6873</td>\n",
       "      <td>659.3601</td>\n",
       "      <td>659.3836</td>\n",
       "      <td>0.006463</td>\n",
       "      <td>0.084185</td>\n",
       "      <td>0.436600</td>\n",
       "      <td>6</td>\n",
       "      <td>...</td>\n",
       "      <td>0.6</td>\n",
       "      <td>1</td>\n",
       "      <td>5</td>\n",
       "      <td>AAAGAR</td>\n",
       "      <td>1_S_144.1021_n</td>\n",
       "      <td>AAAGAR</td>\n",
       "      <td>decoy_AGAAAR_AAAAGR_0.2857_659.3836_659.3836_0...</td>\n",
       "      <td>--</td>\n",
       "      <td>decoy</td>\n",
       "      <td>AAAAGR</td>\n",
       "    </tr>\n",
       "    <tr>\n",
       "      <th>3</th>\n",
       "      <td>/cluster/work/grlab/projects/TCGA/PanCanAtlas/...</td>\n",
       "      <td>5809</td>\n",
       "      <td>2</td>\n",
       "      <td>330.6873</td>\n",
       "      <td>659.3601</td>\n",
       "      <td>659.3836</td>\n",
       "      <td>0.010108</td>\n",
       "      <td>0.077722</td>\n",
       "      <td>0.430137</td>\n",
       "      <td>5</td>\n",
       "      <td>...</td>\n",
       "      <td>0.5</td>\n",
       "      <td>2</td>\n",
       "      <td>5</td>\n",
       "      <td>AAGAAR</td>\n",
       "      <td>1_S_144.1021_n</td>\n",
       "      <td>AAGAAR</td>\n",
       "      <td>AGAAAR_AAGAAR_0.8571_659.3836_659.3836_0.0000_...</td>\n",
       "      <td>--</td>\n",
       "      <td>target</td>\n",
       "      <td>AAGAAR</td>\n",
       "    </tr>\n",
       "    <tr>\n",
       "      <th>4</th>\n",
       "      <td>/cluster/work/grlab/projects/TCGA/PanCanAtlas/...</td>\n",
       "      <td>5809</td>\n",
       "      <td>2</td>\n",
       "      <td>330.6873</td>\n",
       "      <td>659.3601</td>\n",
       "      <td>659.3836</td>\n",
       "      <td>0.046867</td>\n",
       "      <td>0.067614</td>\n",
       "      <td>0.420029</td>\n",
       "      <td>4</td>\n",
       "      <td>...</td>\n",
       "      <td>0.4</td>\n",
       "      <td>3</td>\n",
       "      <td>5</td>\n",
       "      <td>AGAAAR</td>\n",
       "      <td>1_S_144.1021_n</td>\n",
       "      <td>AGAAAR</td>\n",
       "      <td>AGAAAR_AGAAAR_1.0_659.3836_659.3836_0.0000_0.0...</td>\n",
       "      <td>--</td>\n",
       "      <td>target</td>\n",
       "      <td>AGAAAR</td>\n",
       "    </tr>\n",
       "  </tbody>\n",
       "</table>\n",
       "<p>5 rows × 21 columns</p>\n",
       "</div>"
      ],
      "text/plain": [
       "                                                file  scan  charge  \\\n",
       "0  /cluster/work/grlab/projects/TCGA/PanCanAtlas/...  4484       2   \n",
       "1  /cluster/work/grlab/projects/TCGA/PanCanAtlas/...  4484       2   \n",
       "2  /cluster/work/grlab/projects/TCGA/PanCanAtlas/...  5809       2   \n",
       "3  /cluster/work/grlab/projects/TCGA/PanCanAtlas/...  5809       2   \n",
       "4  /cluster/work/grlab/projects/TCGA/PanCanAtlas/...  5809       2   \n",
       "\n",
       "   spectrum precursor m/z  spectrum neutral mass  peptide mass  delta_cn  \\\n",
       "0                329.6764               657.3383      657.3568  0.000634   \n",
       "1                329.6764               657.3383      657.3568  0.000000   \n",
       "2                330.6873               659.3601      659.3836  0.006463   \n",
       "3                330.6873               659.3601      659.3836  0.010108   \n",
       "4                330.6873               659.3601      659.3836  0.046867   \n",
       "\n",
       "   delta_lcn  xcorr score  b/y ions matched  ...  b/y ions fraction  \\\n",
       "0   0.000634     0.034609                 2  ...                0.2   \n",
       "1   0.000000     0.033975                 2  ...                0.2   \n",
       "2   0.084185     0.436600                 6  ...                0.6   \n",
       "3   0.077722     0.430137                 5  ...                0.5   \n",
       "4   0.067614     0.420029                 4  ...                0.4   \n",
       "\n",
       "   xcorr rank  distinct matches/spectrum  sequence   modifications  \\\n",
       "0           1                          2    GAAAQP  1_S_144.1021_n   \n",
       "1           2                          2    GAAQAP  1_S_144.1021_n   \n",
       "2           1                          5    AAAGAR  1_S_144.1021_n   \n",
       "3           2                          5    AAGAAR  1_S_144.1021_n   \n",
       "4           3                          5    AGAAAR  1_S_144.1021_n   \n",
       "\n",
       "  unmodified sequence                                         protein id  \\\n",
       "0              GAAAQP  GAPGGR_GAAAQP_0.2857_657.3680_657.3568_0.0112_...   \n",
       "1              GAAQAP  decoy_GAPGGR_GAAAQP_0.2857_657.3680_657.3568_0...   \n",
       "2              AAAGAR  decoy_AGAAAR_AAAAGR_0.2857_659.3836_659.3836_0...   \n",
       "3              AAGAAR  AGAAAR_AAGAAR_0.8571_659.3836_659.3836_0.0000_...   \n",
       "4              AGAAAR  AGAAAR_AGAAAR_1.0_659.3836_659.3836_0.0000_0.0...   \n",
       "\n",
       "  flanking aa target/decoy original target sequence  \n",
       "0          --       target                   GAAAQP  \n",
       "1          --        decoy                   GAAAQP  \n",
       "2          --        decoy                   AAAAGR  \n",
       "3          --       target                   AAGAAR  \n",
       "4          --       target                   AGAAAR  \n",
       "\n",
       "[5 rows x 21 columns]"
      ]
     },
     "execution_count": 35,
     "metadata": {},
     "output_type": "execute_result"
    }
   ],
   "source": [
    "df_search.head()"
   ]
  },
  {
   "cell_type": "code",
   "execution_count": 43,
   "id": "a0240b34",
   "metadata": {},
   "outputs": [],
   "source": [
    "id_to_row = defaultdict(list)\n",
    "for i, idx in enumerate(df_search['protein id']):\n",
    "    if idx is np.nan:\n",
    "        print('ERROR: Search not successful on all fractions of sample. Please RERUN')\n",
    "    for name_ in idx.split(','):\n",
    "        if 'pepID' not in name_:\n",
    "            continue\n",
    "        pep_ix = int(name_.split('-')[1].replace('(1)', ''))\n",
    "        id_to_row[pep_ix].append(i)\n"
   ]
  },
  {
   "cell_type": "code",
   "execution_count": 51,
   "id": "ac44d463",
   "metadata": {},
   "outputs": [
    {
     "data": {
      "text/plain": [
       "['/cluster/work/grlab/projects/projects2020_OHSU/proteomics/OHSU/TCGA-C8-A12P/tide_search/TCGA_C8-A12P_BH-A0C1_A2-A0EY_117C_W_BI_20130622_H-PM_f16/tide-search.txt',\n",
       " '/cluster/work/grlab/projects/projects2020_OHSU/proteomics/OHSU/TCGA-C8-A12P/tide_search/TCGA_C8-A12P_BH-A0C1_A2-A0EY_117C_W_BI_20130622_H-PM_f12/tide-search.txt',\n",
       " '/cluster/work/grlab/projects/projects2020_OHSU/proteomics/OHSU/TCGA-C8-A12P/tide_search/TCGA_C8-A12P_BH-A0C1_A2-A0EY_117C_W_BI_20130622_H-PM_f04/tide-search.txt',\n",
       " '/cluster/work/grlab/projects/projects2020_OHSU/proteomics/OHSU/TCGA-C8-A12P/tide_search/TCGA_C8-A12P_BH-A0C1_A2-A0EY_117C_W_BI_20130622_H-PM_f02/tide-search.txt',\n",
       " '/cluster/work/grlab/projects/projects2020_OHSU/proteomics/OHSU/TCGA-C8-A12P/tide_search/TCGA_C8-A12P_BH-A0C1_A2-A0EY_117C_W_BI_20130622_H-PM_f07/tide-search.txt',\n",
       " '/cluster/work/grlab/projects/projects2020_OHSU/proteomics/OHSU/TCGA-C8-A12P/tide_search/TCGA_C8-A12P_BH-A0C1_A2-A0EY_117C_W_BI_20130622_H-PM_f19/tide-search.txt',\n",
       " '/cluster/work/grlab/projects/projects2020_OHSU/proteomics/OHSU/TCGA-C8-A12P/tide_search/TCGA_C8-A12P_BH-A0C1_A2-A0EY_117C_W_BI_20130622_H-PM_f18/tide-search.txt',\n",
       " '/cluster/work/grlab/projects/projects2020_OHSU/proteomics/OHSU/TCGA-C8-A12P/tide_search/TCGA_C8-A12P_BH-A0C1_A2-A0EY_117C_W_BI_20130622_H-PM_f13/tide-search.txt',\n",
       " '/cluster/work/grlab/projects/projects2020_OHSU/proteomics/OHSU/TCGA-C8-A12P/tide_search/TCGA_C8-A12P_BH-A0C1_A2-A0EY_117C_W_BI_20130622_H-PM_f09/tide-search.txt',\n",
       " '/cluster/work/grlab/projects/projects2020_OHSU/proteomics/OHSU/TCGA-C8-A12P/tide_search/TCGA_C8-A12P_BH-A0C1_A2-A0EY_117C_W_BI_20130622_H-PM_f03/tide-search.txt',\n",
       " '/cluster/work/grlab/projects/projects2020_OHSU/proteomics/OHSU/TCGA-C8-A12P/tide_search/TCGA_C8-A12P_BH-A0C1_A2-A0EY_117C_W_BI_20130622_H-PM_f08/tide-search.txt',\n",
       " '/cluster/work/grlab/projects/projects2020_OHSU/proteomics/OHSU/TCGA-C8-A12P/tide_search/TCGA_C8-A12P_BH-A0C1_A2-A0EY_117C_W_BI_20130622_H-PM_f10/tide-search.txt',\n",
       " '/cluster/work/grlab/projects/projects2020_OHSU/proteomics/OHSU/TCGA-C8-A12P/tide_search/TCGA_C8-A12P_BH-A0C1_A2-A0EY_117C_W_BI_20130622_H-PM_f11/tide-search.txt',\n",
       " '/cluster/work/grlab/projects/projects2020_OHSU/proteomics/OHSU/TCGA-C8-A12P/tide_search/TCGA_C8-A12P_BH-A0C1_A2-A0EY_117C_W_BI_20130622_H-PM_f20/tide-search.txt',\n",
       " '/cluster/work/grlab/projects/projects2020_OHSU/proteomics/OHSU/TCGA-C8-A12P/tide_search/TCGA_C8-A12P_BH-A0C1_A2-A0EY_117C_W_BI_20130622_H-PM_f17/tide-search.txt',\n",
       " '/cluster/work/grlab/projects/projects2020_OHSU/proteomics/OHSU/TCGA-C8-A12P/tide_search/TCGA_C8-A12P_BH-A0C1_A2-A0EY_117C_W_BI_20130622_H-PM_f24/tide-search.txt',\n",
       " '/cluster/work/grlab/projects/projects2020_OHSU/proteomics/OHSU/TCGA-C8-A12P/tide_search/TCGA_C8-A12P_BH-A0C1_A2-A0EY_117C_W_BI_20130622_H-PM_f01/tide-search.txt',\n",
       " '/cluster/work/grlab/projects/projects2020_OHSU/proteomics/OHSU/TCGA-C8-A12P/tide_search/TCGA_C8-A12P_BH-A0C1_A2-A0EY_117C_W_BI_20130622_H-PM_f15/tide-search.txt',\n",
       " '/cluster/work/grlab/projects/projects2020_OHSU/proteomics/OHSU/TCGA-C8-A12P/tide_search/TCGA_C8-A12P_BH-A0C1_A2-A0EY_117C_W_BI_20131202_H-PM_f21/tide-search.txt',\n",
       " '/cluster/work/grlab/projects/projects2020_OHSU/proteomics/OHSU/TCGA-C8-A12P/tide_search/TCGA_C8-A12P_BH-A0C1_A2-A0EY_117C_W_BI_20130622_H-PM_f14/tide-search.txt',\n",
       " '/cluster/work/grlab/projects/projects2020_OHSU/proteomics/OHSU/TCGA-C8-A12P/tide_search/TCGA_C8-A12P_BH-A0C1_A2-A0EY_117C_W_BI_20130622_H-PM_f23/tide-search.txt',\n",
       " '/cluster/work/grlab/projects/projects2020_OHSU/proteomics/OHSU/TCGA-C8-A12P/tide_search/TCGA_C8-A12P_BH-A0C1_A2-A0EY_117C_W_BI_20130622_H-PM_f22/tide-search.txt',\n",
       " '/cluster/work/grlab/projects/projects2020_OHSU/proteomics/OHSU/TCGA-C8-A12P/tide_search/TCGA_C8-A12P_BH-A0C1_A2-A0EY_117C_W_BI_20130622_H-PM_f06/tide-search.txt',\n",
       " '/cluster/work/grlab/projects/projects2020_OHSU/proteomics/OHSU/TCGA-C8-A12P/tide_search/TCGA_C8-A12P_BH-A0C1_A2-A0EY_117C_W_BI_20130622_H-PM_f05/tide-search.txt']"
      ]
     },
     "execution_count": 51,
     "metadata": {},
     "output_type": "execute_result"
    }
   ],
   "source": [
    "partitions"
   ]
  },
  {
   "cell_type": "code",
   "execution_count": 49,
   "id": "a6a814b3",
   "metadata": {},
   "outputs": [],
   "source": [
    "for a, b in enumerate(df_search['protein id']):\n",
    "    if 'pepID' in b:\n",
    "        print(a, b)"
   ]
  },
  {
   "cell_type": "code",
   "execution_count": 41,
   "id": "b733a755",
   "metadata": {},
   "outputs": [
    {
     "data": {
      "text/plain": [
       "'17.0378'"
      ]
     },
     "execution_count": 41,
     "metadata": {},
     "output_type": "execute_result"
    }
   ],
   "source": [
    "name_.split('-')[1].replace('(1)', '')"
   ]
  },
  {
   "cell_type": "code",
   "execution_count": 44,
   "id": "93066c04",
   "metadata": {
    "scrolled": true
   },
   "outputs": [
    {
     "data": {
      "text/plain": [
       "0"
      ]
     },
     "execution_count": 44,
     "metadata": {},
     "output_type": "execute_result"
    }
   ],
   "source": [
    "len(id_to_row)"
   ]
  },
  {
   "cell_type": "code",
   "execution_count": null,
   "id": "ed281aa9",
   "metadata": {},
   "outputs": [],
   "source": [
    "# if __name__ == \"__main__\":\n",
    "#     parser = argparse.ArgumentParser(description='Takes results from tide search and splits them between experimental conditions')\n",
    "#     parser.add_argument(\"--list-experiments\", help='file containing the paths to the experiment files per sample')\n",
    "#     parser.add_argument(\"--search-out-folder\",help='path (with wildcards) of the tide search results')\n",
    "#     parser.add_argument(\"--save-folder\",help='base folder to save results')\n",
    "#     parser.add_argument(\"--create-sample-subfolder\", default=True, action='store_false', \n",
    "#                         help='wheather to create a subfolder with the sample name when saving')\n",
    "#     parser.add_argument(\"--rerank-psm\", default=True, \n",
    "#                         action='store_false',  \n",
    "#                         help='wheather to apply re-ranking of the psm within condition and partition')\n",
    "#     args = parser.parse_args()\n",
    "#     psm_to_experiments(args.list_experiments, args.search_out_folder, args.save_folder,\n",
    "#                        args.create_sample_subfolder, args.rerank_psm)"
   ]
  },
  {
   "cell_type": "code",
   "execution_count": 24,
   "id": "dd4e0e81",
   "metadata": {
    "scrolled": true
   },
   "outputs": [
    {
     "name": "stdout",
     "output_type": "stream",
     "text": [
      "TCGA-25-1319\n",
      "0\n",
      "...read search result\n",
      "...extract rows IDS corresponding to peptides\n",
      "...process experiment map ohsu\n",
      "...process experiment map eth\n",
      "...select experiment rows ohsu\n",
      "...select experiment rows eth\n",
      "TCGA-24-2298\n",
      "-1\n",
      "...read search result\n",
      "...extract rows IDS corresponding to peptides\n",
      "...process experiment map ohsu\n",
      "...process experiment map eth\n",
      "...select experiment rows ohsu\n",
      "...select experiment rows eth\n",
      "skip TCGA-A2-A0SX\n",
      "TCGA-BH-A18V\n",
      "-2\n",
      "...read search result\n",
      "...extract rows IDS corresponding to peptides\n"
     ]
    },
    {
     "ename": "AttributeError",
     "evalue": "'float' object has no attribute 'split'",
     "output_type": "error",
     "traceback": [
      "\u001b[0;31m---------------------------------------------------------------------------\u001b[0m",
      "\u001b[0;31mAttributeError\u001b[0m                            Traceback (most recent call last)",
      "Cell \u001b[0;32mIn [24], line 10\u001b[0m\n\u001b[1;32m      8\u001b[0m df_search \u001b[38;5;241m=\u001b[39m pd\u001b[38;5;241m.\u001b[39mconcat([pd\u001b[38;5;241m.\u001b[39mread_csv(part, sep \u001b[38;5;241m=\u001b[39m \u001b[38;5;124m'\u001b[39m\u001b[38;5;130;01m\\t\u001b[39;00m\u001b[38;5;124m'\u001b[39m) \u001b[38;5;28;01mfor\u001b[39;00m part \u001b[38;5;129;01min\u001b[39;00m partitions])\n\u001b[1;32m      9\u001b[0m \u001b[38;5;28mprint\u001b[39m(\u001b[38;5;124m'\u001b[39m\u001b[38;5;124m...extract rows IDS corresponding to peptides\u001b[39m\u001b[38;5;124m'\u001b[39m)\n\u001b[0;32m---> 10\u001b[0m id_to_SearchRow \u001b[38;5;241m=\u001b[39m \u001b[43msearch_result_rows\u001b[49m\u001b[43m(\u001b[49m\u001b[43mdf_search\u001b[49m\u001b[43m)\u001b[49m\n\u001b[1;32m     11\u001b[0m \u001b[38;5;28mprint\u001b[39m(\u001b[38;5;124m'\u001b[39m\u001b[38;5;124m...process experiment map ohsu\u001b[39m\u001b[38;5;124m'\u001b[39m)\n\u001b[1;32m     12\u001b[0m id_to_pep_ohsu, id_to_exp_ohsu, exp_to_id_ohsu \u001b[38;5;241m=\u001b[39m experiments_maps(exp_ohsu[sample])\n",
      "Cell \u001b[0;32mIn [6], line 4\u001b[0m, in \u001b[0;36msearch_result_rows\u001b[0;34m(df_search)\u001b[0m\n\u001b[1;32m      2\u001b[0m id_to_row \u001b[38;5;241m=\u001b[39m defaultdict(\u001b[38;5;28mlist\u001b[39m)\n\u001b[1;32m      3\u001b[0m \u001b[38;5;28;01mfor\u001b[39;00m i, idx \u001b[38;5;129;01min\u001b[39;00m \u001b[38;5;28menumerate\u001b[39m(df_search[\u001b[38;5;124m'\u001b[39m\u001b[38;5;124mprotein id\u001b[39m\u001b[38;5;124m'\u001b[39m]):\n\u001b[0;32m----> 4\u001b[0m     \u001b[38;5;28;01mfor\u001b[39;00m name_ \u001b[38;5;129;01min\u001b[39;00m \u001b[43midx\u001b[49m\u001b[38;5;241;43m.\u001b[39;49m\u001b[43msplit\u001b[49m(\u001b[38;5;124m'\u001b[39m\u001b[38;5;124m,\u001b[39m\u001b[38;5;124m'\u001b[39m):\n\u001b[1;32m      5\u001b[0m         pep_ix \u001b[38;5;241m=\u001b[39m \u001b[38;5;28mint\u001b[39m(name_\u001b[38;5;241m.\u001b[39msplit(\u001b[38;5;124m'\u001b[39m\u001b[38;5;124m-\u001b[39m\u001b[38;5;124m'\u001b[39m)[\u001b[38;5;241m1\u001b[39m]\u001b[38;5;241m.\u001b[39mreplace(\u001b[38;5;124m'\u001b[39m\u001b[38;5;124m(1)\u001b[39m\u001b[38;5;124m'\u001b[39m, \u001b[38;5;124m'\u001b[39m\u001b[38;5;124m'\u001b[39m))\n\u001b[1;32m      6\u001b[0m         id_to_row[pep_ix]\u001b[38;5;241m.\u001b[39mappend(i)\n",
      "\u001b[0;31mAttributeError\u001b[0m: 'float' object has no attribute 'split'"
     ]
    }
   ],
   "source": [
    "# n_samples_process = 1 #TEMPORARY\n",
    "# for sample, partitions in search_res.items():\n",
    "#     if len(partitions) == 24:\n",
    "#         print(sample)\n",
    "#         n_samples_process -= 1\n",
    "#         print(n_samples_process)\n",
    "#         print('...read search result')\n",
    "#         df_search = pd.concat([pd.read_csv(part, sep = '\\t') for part in partitions])\n",
    "#         print('...extract rows IDS corresponding to peptides')\n",
    "#         id_to_SearchRow = search_result_rows(df_search)\n",
    "        \n",
    "#         print('...process experiment map ohsu')\n",
    "#         id_to_pep_ohsu, id_to_exp_ohsu, exp_to_id_ohsu = experiments_maps(exp_ohsu[sample])\n",
    "# #         print('...process experiment map eth')\n",
    "# #         id_to_pep_eth, id_to_exp_eth, exp_to_id_eth = experiments_maps(exp_eth[sample])\n",
    "        \n",
    "#         print('...select experiment rows ohsu')\n",
    "#         select_rows_ohsu = select_search_result(id_to_exp_ohsu, id_to_SearchRow)\n",
    "# #         print('...select experiment rows eth')\n",
    "# #         select_rows_eth = select_search_result(id_to_exp_eth, id_to_SearchRow)\n",
    "        \n",
    "#         print('...save experiments ohsu')\n",
    "#         reconstruct_experiment(select_rows_ohsu, df_search, save_folder, sample)\n",
    "# #         print('...save experiments eth')\n",
    "# #         reconstruct_experiment(select_rows_eth, df_search, save_folder, sample)\n",
    "\n",
    "# #     if n_samples_process < 1:\n",
    "# #         break\n",
    "        \n",
    "#     else: \n",
    "#         print(f'skip {sample}')\n",
    "    "
   ]
  },
  {
   "cell_type": "markdown",
   "id": "d4da3bbc",
   "metadata": {},
   "source": [
    "## TEST\n"
   ]
  },
  {
   "cell_type": "code",
   "execution_count": null,
   "id": "eb2b898f",
   "metadata": {},
   "outputs": [],
   "source": [
    "experiment = 'J0251XGC'"
   ]
  },
  {
   "cell_type": "code",
   "execution_count": null,
   "id": "0f2bd605",
   "metadata": {},
   "outputs": [],
   "source": [
    "exp_to_id_ohsu[experiment] # Protein IDS in initial exp"
   ]
  },
  {
   "cell_type": "code",
   "execution_count": null,
   "id": "1d0cab61",
   "metadata": {},
   "outputs": [],
   "source": [
    "for idx in exp_to_id_ohsu[experiment]:# Protein SEQ in initial exp\n",
    "    print(id_to_pep_ohsu[idx])"
   ]
  },
  {
   "cell_type": "code",
   "execution_count": null,
   "id": "44a5fefc",
   "metadata": {},
   "outputs": [],
   "source": [
    "df_search.loc[select_rows_ohsu[experiment]].shape"
   ]
  },
  {
   "cell_type": "code",
   "execution_count": null,
   "id": "75f55329",
   "metadata": {},
   "outputs": [],
   "source": [
    "for i in df_search.loc[select_rows_ohsu[experiment]]['protein id'].unique(): # Protein IDs in validated EXP\n",
    "    print(i)"
   ]
  },
  {
   "cell_type": "code",
   "execution_count": null,
   "id": "e8f70f04",
   "metadata": {},
   "outputs": [],
   "source": [
    "df_search.loc[select_rows_ohsu[experiment]]['unmodified sequence'].unique()  # Protein SEQ in validated EXP"
   ]
  },
  {
   "cell_type": "code",
   "execution_count": null,
   "id": "b3817440",
   "metadata": {},
   "outputs": [],
   "source": [
    "df_search.loc[select_rows_ohsu[experiment], ['unmodified sequence', 'protein id']].drop_duplicates()"
   ]
  },
  {
   "cell_type": "code",
   "execution_count": null,
   "id": "d2f3fc33",
   "metadata": {},
   "outputs": [],
   "source": [
    "# some entries are missing! These are decoys"
   ]
  },
  {
   "cell_type": "code",
   "execution_count": null,
   "id": "89a098a3",
   "metadata": {},
   "outputs": [],
   "source": [
    "df_search.columns"
   ]
  }
 ],
 "metadata": {
  "kernelspec": {
   "display_name": "pep3",
   "language": "python",
   "name": "pep3"
  },
  "language_info": {
   "codemirror_mode": {
    "name": "ipython",
    "version": 3
   },
   "file_extension": ".py",
   "mimetype": "text/x-python",
   "name": "python",
   "nbconvert_exporter": "python",
   "pygments_lexer": "ipython3",
   "version": "3.9.13"
  }
 },
 "nbformat": 4,
 "nbformat_minor": 5
}
